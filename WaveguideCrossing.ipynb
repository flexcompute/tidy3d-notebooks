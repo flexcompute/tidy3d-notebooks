{
 "cells": [
  {
   "cell_type": "markdown",
   "id": "d4962fd2",
   "metadata": {},
   "source": [
    "# Waveguide crossing based on cosine tapers"
   ]
  },
  {
   "cell_type": "markdown",
   "id": "5e5b9158",
   "metadata": {},
   "source": [
    "To achieve a high integration density on a photonic chip, efficient routing of light with low loss using compact junctions is necessary. Therefore, waveguide crossings are crucial building blocks in high performance integrated circuits. \n",
    "\n",
    "This example model demonstrates the simulation of a waveguide crossing based on cosine tapers. The convex cosine taper focuses the guided mode at the center of the crossing junction. This ensures the light is efficiently transmitted into the through port instead of scattered into the cross ports. The device achieves an insertion loss of ~0.2 dB and crosstalk ~-30 dB in the O-band (1260 nm -1360 nm). The design is adapted from [Sujith Chandran, et al. \"Beam shaping for ultra-compact waveguide crossings on monolithic silicon photonics platform,\" Opt. Lett. 45, 6230-6233 (2020)](https://opg.optica.org/ol/abstract.cfm?uri=ol-45-22-6230).\n",
    "\n",
    "<img src=\"img/waveguide_crossing.png\" width=600 alt=\"Schematic of the waveguide crossing\">\n",
    "\n",
    "If you are new to the finite-difference time-domain (FDTD) method, we highly recommend going through our [FDTD101](https://www.flexcompute.com/fdtd101/) tutorials. For more simulation examples, please visit our [examples page](https://www.flexcompute.com/tidy3d/examples/). FDTD simulations can diverge due to various reasons. If you run into any simulation divergence issues, please follow the steps outlined in our [troubleshooting guide](https://www.flexcompute.com/tidy3d/examples/notebooks/DivergedFDTDSimulation/) to resolve it."
   ]
  },
  {
   "cell_type": "code",
   "execution_count": 1,
   "id": "2eaed87d",
   "metadata": {
    "execution": {
     "iopub.execute_input": "2024-02-17T10:16:59.970389Z",
     "iopub.status.busy": "2024-02-17T10:16:59.969750Z",
     "iopub.status.idle": "2024-02-17T10:17:01.250461Z",
     "shell.execute_reply": "2024-02-17T10:17:01.249918Z"
    }
   },
   "outputs": [],
   "source": [
    "import numpy as np\n",
    "import matplotlib.pyplot as plt\n",
    "\n",
    "import tidy3d as td\n",
    "import tidy3d.web as web\n",
    "from scipy.optimize import fsolve\n"
   ]
  },
  {
   "cell_type": "markdown",
   "id": "290a838f",
   "metadata": {},
   "source": [
    "## Simulation Setup"
   ]
  },
  {
   "cell_type": "markdown",
   "id": "85200028",
   "metadata": {},
   "source": [
    "Define geometric parameters and materials. In this device, the Si waveguide has a thickness of 161 nm and a width of 350 nm. "
   ]
  },
  {
   "cell_type": "code",
   "execution_count": 2,
   "id": "2f5c50ea",
   "metadata": {
    "execution": {
     "iopub.execute_input": "2024-02-17T10:17:01.252762Z",
     "iopub.status.busy": "2024-02-17T10:17:01.252445Z",
     "iopub.status.idle": "2024-02-17T10:17:01.277190Z",
     "shell.execute_reply": "2024-02-17T10:17:01.276487Z"
    }
   },
   "outputs": [],
   "source": [
    "h = 0.161  # waveguide thickness\n",
    "w_in = 0.35  # input taper width\n",
    "w_out = 1.1  # output taper width\n",
    "w_m = 0.75  # amplitude of the cos function\n",
    "l_t = 5.3  # taper length\n",
    "inf_eff = (\n",
    "    1000  # effective infinity used to make sure the waveguides extend into the pml\n",
    ")\n"
   ]
  },
  {
   "cell_type": "code",
   "execution_count": 3,
   "id": "4b92b8e9",
   "metadata": {
    "execution": {
     "iopub.execute_input": "2024-02-17T10:17:01.280817Z",
     "iopub.status.busy": "2024-02-17T10:17:01.280453Z",
     "iopub.status.idle": "2024-02-17T10:17:01.300801Z",
     "shell.execute_reply": "2024-02-17T10:17:01.300259Z"
    }
   },
   "outputs": [],
   "source": [
    "si = td.Medium(permittivity=3.67**2)\n",
    "sio2 = td.Medium(permittivity=1.45**2)\n"
   ]
  },
  {
   "cell_type": "markdown",
   "id": "718becc3",
   "metadata": {},
   "source": [
    "The taper width is described by a cosine function $w(x)=w_m cos(ax+b)$. To determine the parameters $a$ and $b$, we solve a system of equations to ensure $w(x)=w_{in}/2$ at the beginning of the taper and $w(x)=w_{out}/2$ at the end of the taper. This can be easily done using fsolve from Scipy.\n",
    "\n",
    "After we obtain $w(x)$, vertices can be generated and the taper can be made using PolySlab. Once the first taper is made, the rest three tapers can be made by manipulating the vertices with the symmetry relation."
   ]
  },
  {
   "cell_type": "code",
   "execution_count": 4,
   "id": "0e2ef818",
   "metadata": {
    "execution": {
     "iopub.execute_input": "2024-02-17T10:17:01.302875Z",
     "iopub.status.busy": "2024-02-17T10:17:01.302720Z",
     "iopub.status.idle": "2024-02-17T10:17:01.326897Z",
     "shell.execute_reply": "2024-02-17T10:17:01.326340Z"
    }
   },
   "outputs": [],
   "source": [
    "# numerically solve for the cos function that describes the taper shape\n",
    "def equations(x0):\n",
    "    a, b = x0\n",
    "    return (\n",
    "        w_m * np.cos(a * (-w_out / 2) + b) - w_out / 2,\n",
    "        w_m * np.cos(a * (-w_out / 2 - l_t) + b) - w_in / 2,\n",
    "    )\n",
    "\n",
    "\n",
    "a, b = fsolve(equations, (0.5, 2))\n",
    "\n",
    "x = np.linspace(-w_out / 2 - l_t, -w_out / 2, 30)\n",
    "w = w_m * np.cos(a * x + b)\n",
    "\n",
    "# using the calculated taper shape to construct the taper as a PolySlab\n",
    "vertices = np.zeros((2 * len(x), 2))\n",
    "vertices[:, 0] = np.concatenate((x, np.flipud(x)))\n",
    "vertices[:, 1] = np.concatenate((w, -np.flipud(w)))\n",
    "taper_1 = td.Structure(\n",
    "    geometry=td.PolySlab(vertices=vertices, axis=2, slab_bounds=(-h / 2, h / 2)),\n",
    "    medium=si,\n",
    ")\n",
    "\n",
    "# creating the other four tapers by manipulating the vertices of the first taper\n",
    "vertices[:, 0] = -vertices[:, 0]\n",
    "taper_2 = td.Structure(\n",
    "    geometry=td.PolySlab(vertices=vertices, axis=2, slab_bounds=(-h / 2, h / 2)),\n",
    "    medium=si,\n",
    ")\n",
    "\n",
    "vertices[:, [1, 0]] = vertices[:, [0, 1]]\n",
    "taper_3 = td.Structure(\n",
    "    geometry=td.PolySlab(vertices=vertices, axis=2, slab_bounds=(-h / 2, h / 2)),\n",
    "    medium=si,\n",
    ")\n",
    "\n",
    "vertices[:, 1] = -vertices[:, 1]\n",
    "taper_4 = td.Structure(\n",
    "    geometry=td.PolySlab(vertices=vertices, axis=2, slab_bounds=(-h / 2, h / 2)),\n",
    "    medium=si,\n",
    ")\n",
    "\n",
    "# creating the center crossing junction using a Box\n",
    "corner = 0\n",
    "center = td.Structure(\n",
    "    geometry=td.Box.from_bounds(\n",
    "        rmin=(-w_out / 2 - corner, -w_out / 2 - corner, -h / 2),\n",
    "        rmax=(w_out / 2 + corner, w_out / 2 + corner, h / 2),\n",
    "    ),\n",
    "    medium=si,\n",
    ")\n",
    "\n",
    "# creating the input port and through port\n",
    "horizontal_wg = td.Structure(\n",
    "    geometry=td.Box.from_bounds(\n",
    "        rmin=(-inf_eff, -w_in / 2, -h / 2), rmax=(inf_eff, w_in / 2, h / 2)\n",
    "    ),\n",
    "    medium=si,\n",
    ")\n",
    "\n",
    "# creating the cross ports\n",
    "vertical_wg = td.Structure(\n",
    "    geometry=td.Box.from_bounds(\n",
    "        rmin=(-w_in / 2, -inf_eff, -h / 2), rmax=(w_in / 2, inf_eff, h / 2)\n",
    "    ),\n",
    "    medium=si,\n",
    ")\n"
   ]
  },
  {
   "cell_type": "markdown",
   "id": "074d7cde",
   "metadata": {},
   "source": [
    "Set up simulation domain, source, and monitors. A mode source is used to excite the input waveguide. A field monitor at $z=0$ plane is added to monitor the field propagation. Two flux monitors are added at the through port and cross port to monitor the transmission and crosstalk levels.\n",
    "\n",
    "Before running the simulation, we can use the plot method to ensure the geometry, source, and monitors are set up correctly."
   ]
  },
  {
   "cell_type": "code",
   "execution_count": 5,
   "id": "54a54758",
   "metadata": {
    "execution": {
     "iopub.execute_input": "2024-02-17T10:17:01.328830Z",
     "iopub.status.busy": "2024-02-17T10:17:01.328683Z",
     "iopub.status.idle": "2024-02-17T10:17:01.534837Z",
     "shell.execute_reply": "2024-02-17T10:17:01.534368Z"
    }
   },
   "outputs": [
    {
     "data": {
      "image/png": "[encoded data removed]",
      "text/plain": [
       "<Figure size 640x480 with 1 Axes>"
      ]
     },
     "metadata": {},
     "output_type": "display_data"
    }
   ],
   "source": [
    "lda0 = 1.31  # central wavelength\n",
    "freq0 = td.C_0 / lda0  # operation frequency\n",
    "ldas = np.linspace(1.26, 1.36, 101)  # wavelength range of interest\n",
    "freqs = td.C_0 / ldas  # frequency range of interest\n",
    "\n",
    "l_wg = 1  # input/output waveguide length\n",
    "Lx = 2 * l_t + w_out + 2 * l_wg\n",
    "Ly = 2 * l_t + w_out + 2 * l_wg\n",
    "Lz = 1.5 * lda0\n",
    "sim_size = (Lx, Ly, Lz)\n",
    "\n",
    "# define a mode source for excitation using the lowest order mode\n",
    "mode_source = td.ModeSource(\n",
    "    center=(-Lx / 2 + l_wg / 2, 0, 0),\n",
    "    size=(0, 4 * w_in, 4 * h),\n",
    "    source_time=td.GaussianPulse(freq0=freq0, fwidth=freq0 / 10),\n",
    "    direction=\"+\",\n",
    "    mode_spec=td.ModeSpec(num_modes=1, target_neff=3.455, filter_pol=\"te\"),\n",
    "    mode_index=0,\n",
    ")\n",
    "\n",
    "# add a field monitor at z=0 for field visualization\n",
    "field_monitor = td.FieldMonitor(\n",
    "    center=(0, 0, 0), size=(td.inf, td.inf, 0), freqs=[freq0], name=\"field\"\n",
    ")\n",
    "\n",
    "# define a flux monitor to detect transmission to the through port\n",
    "flux_monitor_through = td.FluxMonitor(\n",
    "    center=(Lx / 2 - l_wg / 2, 0, 0),\n",
    "    size=(0, 4 * w_in, 4 * h),\n",
    "    freqs=freqs,\n",
    "    name=\"flux_through\",\n",
    ")\n",
    "\n",
    "# define a flux monitor to detect transmission to the cross port\n",
    "flux_monitor_cross = td.FluxMonitor(\n",
    "    center=(0, Ly / 2 - l_wg / 2, 0),\n",
    "    size=(4 * w_in, 0, 4 * h),\n",
    "    freqs=freqs,\n",
    "    name=\"flux_cross\",\n",
    ")\n",
    "\n",
    "sim = td.Simulation(\n",
    "    center=(0, 0, 0),\n",
    "    size=sim_size,\n",
    "    grid_spec=td.GridSpec.auto(min_steps_per_wvl=20, wavelength=lda0),\n",
    "    structures=[taper_1, taper_2, taper_3, taper_4, center, horizontal_wg, vertical_wg],\n",
    "    sources=[mode_source],\n",
    "    monitors=[field_monitor, flux_monitor_through, flux_monitor_cross],\n",
    "    run_time=1e-12,\n",
    "    boundary_spec=td.BoundarySpec.all_sides(boundary=td.PML()),\n",
    "    medium=sio2,\n",
    ")\n",
    "\n",
    "sim.plot(z=0)\n",
    "plt.show()\n"
   ]
  },
  {
   "cell_type": "markdown",
   "id": "d8b74106",
   "metadata": {},
   "source": [
    "To have a better visualization, we can also plot the simulation in 3D."
   ]
  },
  {
   "cell_type": "code",
   "execution_count": 6,
   "id": "40dbbef1",
   "metadata": {
    "execution": {
     "iopub.execute_input": "2024-02-17T10:17:01.536650Z",
     "iopub.status.busy": "2024-02-17T10:17:01.536501Z",
     "iopub.status.idle": "2024-02-17T10:17:01.554804Z",
     "shell.execute_reply": "2024-02-17T10:17:01.554335Z"
    }
   },
   "outputs": [
    {
     "data": {
      "text/html": [
       "\n",
       "    <iframe id=\"simulation-viewer170816502155083651\" src=https://feature-simulation-viewer.d3a9gfg7glllfq.amplifyapp.com/simulation-viewer?uuid=170816502155083651 width=\"800\" height=\"800\" allowfullscreen=\"true\"></iframe>\n",
       "    <script>\n",
       "        \n",
       "    window.postMessageToViewer170816502155083651 = event => {\n",
       "        if(event.data.type === 'viewer'&&event.data.uuid==='170816502155083651'){\n",
       "            document.getElementById('simulation-viewer170816502155083651').contentWindow.postMessage({ type: 'jupyter', uuid:'170816502155083651', value:{\"type\": \"Simulation\", \"center\": [0.0, 0.0, 0.0], \"size\": [13.7, 13.7, 1.965], \"medium\": {\"name\": null, \"frequency_range\": null, \"allow_gain\": false, \"nonlinear_spec\": null, \"modulation_spec\": null, \"heat_spec\": null, \"type\": \"Medium\", \"permittivity\": 2.1025, \"conductivity\": 0.0}, \"structures\": [{\"geometry\": {\"type\": \"PolySlab\", \"axis\": 2, \"sidewall_angle\": 0.0, \"reference_plane\": \"middle\", \"slab_bounds\": [-0.0805, 0.0805], \"dilation\": 0.0, \"vertices\": [[-5.85, 0.17500000000510962], [-5.667241379310345, 0.2268843734432524], [-5.48448275862069, 0.27759884645112975], [-5.301724137931034, 0.3268819162954677], [-5.118965517241379, 0.37447946109144536], [-4.936206896551724, 0.4201460501498916], [-4.753448275862069, 0.4636462095094338], [-4.570689655172414, 0.5047556361280466], [-4.387931034482758, 0.543262354473175], [-4.205172413793103, 0.578967809546621], [-4.022413793103448, 0.6116878907081529], [-3.8396551724137926, 0.6412538810186169], [-3.6568965517241376, 0.6675133272073865], [-3.474137931034482, 0.6903308257782732], [-3.2913793103448272, 0.7095887212004419], [-3.108620689655172, 0.7251877125841993], [-2.925862068965517, 0.7370473657134087], [-2.743103448275862, 0.7451065277943009], [-2.5603448275862064, 0.7493236427820811], [-2.3775862068965514, 0.7496769656593919], [-2.194827586206896, 0.7461646745617304], [-2.012068965517241, 0.7388048801716618], [-1.8293103448275856, 0.727635532333386], [-1.6465517241379306, 0.7127142243691909], [-1.4637931034482756, 0.6941178961068066], [-1.2810344827586206, 0.6719424371489653], [-1.0982758620689648, 0.6463021924308527], [-0.9155172413793098, 0.6173293726149868], [-0.7327586206896548, 0.5851733723637418], [-0.55, 0.5500000000047635], [-0.55, -0.5500000000047635], [-0.7327586206896548, -0.5851733723637418], [-0.9155172413793098, -0.6173293726149868], [-1.0982758620689648, -0.6463021924308527], [-1.2810344827586206, -0.6719424371489653], [-1.4637931034482756, -0.6941178961068066], [-1.6465517241379306, -0.7127142243691909], [-1.8293103448275856, -0.727635532333386], [-2.012068965517241, -0.7388048801716618], [-2.194827586206896, -0.7461646745617304], [-2.3775862068965514, -0.7496769656593919], [-2.5603448275862064, -0.7493236427820811], [-2.743103448275862, -0.7451065277943009], [-2.925862068965517, -0.7370473657134087], [-3.108620689655172, -0.7251877125841993], [-3.2913793103448272, -0.7095887212004419], [-3.474137931034482, -0.6903308257782732], [-3.6568965517241376, -0.6675133272073865], [-3.8396551724137926, -0.6412538810186169], [-4.022413793103448, -0.6116878907081529], [-4.205172413793103, -0.578967809546621], [-4.387931034482758, -0.543262354473175], [-4.570689655172414, -0.5047556361280466], [-4.753448275862069, -0.4636462095094338], [-4.936206896551724, -0.4201460501498916], [-5.118965517241379, -0.37447946109144536], [-5.301724137931034, -0.3268819162954677], [-5.48448275862069, -0.27759884645112975], [-5.667241379310345, -0.2268843734432524], [-5.85, -0.17500000000510962]]}, \"name\": null, \"type\": \"Structure\", \"medium\": {\"name\": null, \"frequency_range\": null, \"allow_gain\": false, \"nonlinear_spec\": null, \"modulation_spec\": null, \"heat_spec\": null, \"type\": \"Medium\", \"permittivity\": 13.4689, \"conductivity\": 0.0}}, {\"geometry\": {\"type\": \"PolySlab\", \"axis\": 2, \"sidewall_angle\": 0.0, \"reference_plane\": \"middle\", \"slab_bounds\": [-0.0805, 0.0805], \"dilation\": 0.0, \"vertices\": [[5.85, 0.17500000000510962], [5.667241379310345, 0.2268843734432524], [5.48448275862069, 0.27759884645112975], [5.301724137931034, 0.3268819162954677], [5.118965517241379, 0.37447946109144536], [4.936206896551724, 0.4201460501498916], [4.753448275862069, 0.4636462095094338], [4.570689655172414, 0.5047556361280466], [4.387931034482758, 0.543262354473175], [4.205172413793103, 0.578967809546621], [4.022413793103448, 0.6116878907081529], [3.8396551724137926, 0.6412538810186169], [3.6568965517241376, 0.6675133272073865], [3.474137931034482, 0.6903308257782732], [3.2913793103448272, 0.7095887212004419], [3.108620689655172, 0.7251877125841993], [2.925862068965517, 0.7370473657134087], [2.743103448275862, 0.7451065277943009], [2.5603448275862064, 0.7493236427820811], [2.3775862068965514, 0.7496769656593919], [2.194827586206896, 0.7461646745617304], [2.012068965517241, 0.7388048801716618], [1.8293103448275856, 0.727635532333386], [1.6465517241379306, 0.7127142243691909], [1.4637931034482756, 0.6941178961068066], [1.2810344827586206, 0.6719424371489653], [1.0982758620689648, 0.6463021924308527], [0.9155172413793098, 0.6173293726149868], [0.7327586206896548, 0.5851733723637418], [0.55, 0.5500000000047635], [0.55, -0.5500000000047635], [0.7327586206896548, -0.5851733723637418], [0.9155172413793098, -0.6173293726149868], [1.0982758620689648, -0.6463021924308527], [1.2810344827586206, -0.6719424371489653], [1.4637931034482756, -0.6941178961068066], [1.6465517241379306, -0.7127142243691909], [1.8293103448275856, -0.727635532333386], [2.012068965517241, -0.7388048801716618], [2.194827586206896, -0.7461646745617304], [2.3775862068965514, -0.7496769656593919], [2.5603448275862064, -0.7493236427820811], [2.743103448275862, -0.7451065277943009], [2.925862068965517, -0.7370473657134087], [3.108620689655172, -0.7251877125841993], [3.2913793103448272, -0.7095887212004419], [3.474137931034482, -0.6903308257782732], [3.6568965517241376, -0.6675133272073865], [3.8396551724137926, -0.6412538810186169], [4.022413793103448, -0.6116878907081529], [4.205172413793103, -0.578967809546621], [4.387931034482758, -0.543262354473175], [4.570689655172414, -0.5047556361280466], [4.753448275862069, -0.4636462095094338], [4.936206896551724, -0.4201460501498916], [5.118965517241379, -0.37447946109144536], [5.301724137931034, -0.3268819162954677], [5.48448275862069, -0.27759884645112975], [5.667241379310345, -0.2268843734432524], [5.85, -0.17500000000510962]]}, \"name\": null, \"type\": \"Structure\", \"medium\": {\"name\": null, \"frequency_range\": null, \"allow_gain\": false, \"nonlinear_spec\": null, \"modulation_spec\": null, \"heat_spec\": null, \"type\": \"Medium\", \"permittivity\": 13.4689, \"conductivity\": 0.0}}, {\"geometry\": {\"type\": \"PolySlab\", \"axis\": 2, \"sidewall_angle\": 0.0, \"reference_plane\": \"middle\", \"slab_bounds\": [-0.0805, 0.0805], \"dilation\": 0.0, \"vertices\": [[0.17500000000510962, 5.85], [0.2268843734432524, 5.667241379310345], [0.27759884645112975, 5.48448275862069], [0.3268819162954677, 5.301724137931034], [0.37447946109144536, 5.118965517241379], [0.4201460501498916, 4.936206896551724], [0.4636462095094338, 4.753448275862069], [0.5047556361280466, 4.570689655172414], [0.543262354473175, 4.387931034482758], [0.578967809546621, 4.205172413793103], [0.6116878907081529, 4.022413793103448], [0.6412538810186169, 3.8396551724137926], [0.6675133272073865, 3.6568965517241376], [0.6903308257782732, 3.474137931034482], [0.7095887212004419, 3.2913793103448272], [0.7251877125841993, 3.108620689655172], [0.7370473657134087, 2.925862068965517], [0.7451065277943009, 2.743103448275862], [0.7493236427820811, 2.5603448275862064], [0.7496769656593919, 2.3775862068965514], [0.7461646745617304, 2.194827586206896], [0.7388048801716618, 2.012068965517241], [0.727635532333386, 1.8293103448275856], [0.7127142243691909, 1.6465517241379306], [0.6941178961068066, 1.4637931034482756], [0.6719424371489653, 1.2810344827586206], [0.6463021924308527, 1.0982758620689648], [0.6173293726149868, 0.9155172413793098], [0.5851733723637418, 0.7327586206896548], [0.5500000000047635, 0.55], [-0.5500000000047635, 0.55], [-0.5851733723637418, 0.7327586206896548], [-0.6173293726149868, 0.9155172413793098], [-0.6463021924308527, 1.0982758620689648], [-0.6719424371489653, 1.2810344827586206], [-0.6941178961068066, 1.4637931034482756], [-0.7127142243691909, 1.6465517241379306], [-0.727635532333386, 1.8293103448275856], [-0.7388048801716618, 2.012068965517241], [-0.7461646745617304, 2.194827586206896], [-0.7496769656593919, 2.3775862068965514], [-0.7493236427820811, 2.5603448275862064], [-0.7451065277943009, 2.743103448275862], [-0.7370473657134087, 2.925862068965517], [-0.7251877125841993, 3.108620689655172], [-0.7095887212004419, 3.2913793103448272], [-0.6903308257782732, 3.474137931034482], [-0.6675133272073865, 3.6568965517241376], [-0.6412538810186169, 3.8396551724137926], [-0.6116878907081529, 4.022413793103448], [-0.578967809546621, 4.205172413793103], [-0.543262354473175, 4.387931034482758], [-0.5047556361280466, 4.570689655172414], [-0.4636462095094338, 4.753448275862069], [-0.4201460501498916, 4.936206896551724], [-0.37447946109144536, 5.118965517241379], [-0.3268819162954677, 5.301724137931034], [-0.27759884645112975, 5.48448275862069], [-0.2268843734432524, 5.667241379310345], [-0.17500000000510962, 5.85]]}, \"name\": null, \"type\": \"Structure\", \"medium\": {\"name\": null, \"frequency_range\": null, \"allow_gain\": false, \"nonlinear_spec\": null, \"modulation_spec\": null, \"heat_spec\": null, \"type\": \"Medium\", \"permittivity\": 13.4689, \"conductivity\": 0.0}}, {\"geometry\": {\"type\": \"PolySlab\", \"axis\": 2, \"sidewall_angle\": 0.0, \"reference_plane\": \"middle\", \"slab_bounds\": [-0.0805, 0.0805], \"dilation\": 0.0, \"vertices\": [[0.17500000000510962, -5.85], [0.2268843734432524, -5.667241379310345], [0.27759884645112975, -5.48448275862069], [0.3268819162954677, -5.301724137931034], [0.37447946109144536, -5.118965517241379], [0.4201460501498916, -4.936206896551724], [0.4636462095094338, -4.753448275862069], [0.5047556361280466, -4.570689655172414], [0.543262354473175, -4.387931034482758], [0.578967809546621, -4.205172413793103], [0.6116878907081529, -4.022413793103448], [0.6412538810186169, -3.8396551724137926], [0.6675133272073865, -3.6568965517241376], [0.6903308257782732, -3.474137931034482], [0.7095887212004419, -3.2913793103448272], [0.7251877125841993, -3.108620689655172], [0.7370473657134087, -2.925862068965517], [0.7451065277943009, -2.743103448275862], [0.7493236427820811, -2.5603448275862064], [0.7496769656593919, -2.3775862068965514], [0.7461646745617304, -2.194827586206896], [0.7388048801716618, -2.012068965517241], [0.727635532333386, -1.8293103448275856], [0.7127142243691909, -1.6465517241379306], [0.6941178961068066, -1.4637931034482756], [0.6719424371489653, -1.2810344827586206], [0.6463021924308527, -1.0982758620689648], [0.6173293726149868, -0.9155172413793098], [0.5851733723637418, -0.7327586206896548], [0.5500000000047635, -0.55], [-0.5500000000047635, -0.55], [-0.5851733723637418, -0.7327586206896548], [-0.6173293726149868, -0.9155172413793098], [-0.6463021924308527, -1.0982758620689648], [-0.6719424371489653, -1.2810344827586206], [-0.6941178961068066, -1.4637931034482756], [-0.7127142243691909, -1.6465517241379306], [-0.727635532333386, -1.8293103448275856], [-0.7388048801716618, -2.012068965517241], [-0.7461646745617304, -2.194827586206896], [-0.7496769656593919, -2.3775862068965514], [-0.7493236427820811, -2.5603448275862064], [-0.7451065277943009, -2.743103448275862], [-0.7370473657134087, -2.925862068965517], [-0.7251877125841993, -3.108620689655172], [-0.7095887212004419, -3.2913793103448272], [-0.6903308257782732, -3.474137931034482], [-0.6675133272073865, -3.6568965517241376], [-0.6412538810186169, -3.8396551724137926], [-0.6116878907081529, -4.022413793103448], [-0.578967809546621, -4.205172413793103], [-0.543262354473175, -4.387931034482758], [-0.5047556361280466, -4.570689655172414], [-0.4636462095094338, -4.753448275862069], [-0.4201460501498916, -4.936206896551724], [-0.37447946109144536, -5.118965517241379], [-0.3268819162954677, -5.301724137931034], [-0.27759884645112975, -5.48448275862069], [-0.2268843734432524, -5.667241379310345], [-0.17500000000510962, -5.85]]}, \"name\": null, \"type\": \"Structure\", \"medium\": {\"name\": null, \"frequency_range\": null, \"allow_gain\": false, \"nonlinear_spec\": null, \"modulation_spec\": null, \"heat_spec\": null, \"type\": \"Medium\", \"permittivity\": 13.4689, \"conductivity\": 0.0}}, {\"geometry\": {\"type\": \"Box\", \"center\": [0.0, 0.0, 0.0], \"size\": [1.1, 1.1, 0.161]}, \"name\": null, \"type\": \"Structure\", \"medium\": {\"name\": null, \"frequency_range\": null, \"allow_gain\": false, \"nonlinear_spec\": null, \"modulation_spec\": null, \"heat_spec\": null, \"type\": \"Medium\", \"permittivity\": 13.4689, \"conductivity\": 0.0}}, {\"geometry\": {\"type\": \"Box\", \"center\": [0.0, 0.0, 0.0], \"size\": [2000.0, 0.35, 0.161]}, \"name\": null, \"type\": \"Structure\", \"medium\": {\"name\": null, \"frequency_range\": null, \"allow_gain\": false, \"nonlinear_spec\": null, \"modulation_spec\": null, \"heat_spec\": null, \"type\": \"Medium\", \"permittivity\": 13.4689, \"conductivity\": 0.0}}, {\"geometry\": {\"type\": \"Box\", \"center\": [0.0, 0.0, 0.0], \"size\": [0.35, 2000.0, 0.161]}, \"name\": null, \"type\": \"Structure\", \"medium\": {\"name\": null, \"frequency_range\": null, \"allow_gain\": false, \"nonlinear_spec\": null, \"modulation_spec\": null, \"heat_spec\": null, \"type\": \"Medium\", \"permittivity\": 13.4689, \"conductivity\": 0.0}}], \"symmetry\": [0, 0, 0], \"sources\": [{\"name\": null, \"type\": \"ModeSource\", \"center\": [-6.35, 0.0, 0.0], \"size\": [0.0, 1.4, 0.644], \"source_time\": {\"amplitude\": 1.0, \"phase\": 0.0, \"type\": \"GaussianPulse\", \"freq0\": 228849204580152.66, \"fwidth\": 22884920458015.266, \"offset\": 5.0, \"remove_dc_component\": true}, \"num_freqs\": 1, \"direction\": \"+\", \"mode_spec\": {\"num_modes\": 1, \"target_neff\": 3.455, \"num_pml\": [0, 0], \"filter_pol\": \"te\", \"angle_theta\": 0.0, \"angle_phi\": 0.0, \"precision\": \"single\", \"bend_radius\": null, \"bend_axis\": null, \"track_freq\": \"central\", \"group_index_step\": false, \"type\": \"ModeSpec\"}, \"mode_index\": 0}], \"boundary_spec\": {\"x\": {\"plus\": {\"name\": null, \"type\": \"PML\", \"num_layers\": 12, \"parameters\": {\"sigma_order\": 3, \"sigma_min\": 0.0, \"sigma_max\": 1.5, \"type\": \"PMLParams\", \"kappa_order\": 3, \"kappa_min\": 1.0, \"kappa_max\": 3.0, \"alpha_order\": 1, \"alpha_min\": 0.0, \"alpha_max\": 0.0}}, \"minus\": {\"name\": null, \"type\": \"PML\", \"num_layers\": 12, \"parameters\": {\"sigma_order\": 3, \"sigma_min\": 0.0, \"sigma_max\": 1.5, \"type\": \"PMLParams\", \"kappa_order\": 3, \"kappa_min\": 1.0, \"kappa_max\": 3.0, \"alpha_order\": 1, \"alpha_min\": 0.0, \"alpha_max\": 0.0}}, \"type\": \"Boundary\"}, \"y\": {\"plus\": {\"name\": null, \"type\": \"PML\", \"num_layers\": 12, \"parameters\": {\"sigma_order\": 3, \"sigma_min\": 0.0, \"sigma_max\": 1.5, \"type\": \"PMLParams\", \"kappa_order\": 3, \"kappa_min\": 1.0, \"kappa_max\": 3.0, \"alpha_order\": 1, \"alpha_min\": 0.0, \"alpha_max\": 0.0}}, \"minus\": {\"name\": null, \"type\": \"PML\", \"num_layers\": 12, \"parameters\": {\"sigma_order\": 3, \"sigma_min\": 0.0, \"sigma_max\": 1.5, \"type\": \"PMLParams\", \"kappa_order\": 3, \"kappa_min\": 1.0, \"kappa_max\": 3.0, \"alpha_order\": 1, \"alpha_min\": 0.0, \"alpha_max\": 0.0}}, \"type\": \"Boundary\"}, \"z\": {\"plus\": {\"name\": null, \"type\": \"PML\", \"num_layers\": 12, \"parameters\": {\"sigma_order\": 3, \"sigma_min\": 0.0, \"sigma_max\": 1.5, \"type\": \"PMLParams\", \"kappa_order\": 3, \"kappa_min\": 1.0, \"kappa_max\": 3.0, \"alpha_order\": 1, \"alpha_min\": 0.0, \"alpha_max\": 0.0}}, \"minus\": {\"name\": null, \"type\": \"PML\", \"num_layers\": 12, \"parameters\": {\"sigma_order\": 3, \"sigma_min\": 0.0, \"sigma_max\": 1.5, \"type\": \"PMLParams\", \"kappa_order\": 3, \"kappa_min\": 1.0, \"kappa_max\": 3.0, \"alpha_order\": 1, \"alpha_min\": 0.0, \"alpha_max\": 0.0}}, \"type\": \"Boundary\"}, \"type\": \"BoundarySpec\"}, \"monitors\": [{\"type\": \"FieldMonitor\", \"center\": [0.0, 0.0, 0.0], \"size\": [\"Infinity\", \"Infinity\", 0.0], \"name\": \"field\", \"interval_space\": [1, 1, 1], \"colocate\": true, \"freqs\": [228849204580152.66], \"apodization\": {\"start\": null, \"end\": null, \"width\": null, \"type\": \"ApodizationSpec\"}, \"fields\": [\"Ex\", \"Ey\", \"Ez\", \"Hx\", \"Hy\", \"Hz\"]}, {\"type\": \"FluxMonitor\", \"center\": [6.35, 0.0, 0.0], \"size\": [0.0, 1.4, 0.644], \"name\": \"flux_through\", \"interval_space\": [1, 1, 1], \"colocate\": true, \"freqs\": [237930522222222.22, 237741838223632.0, 237553453248811.4, 237365366587490.12, 237177577531645.56, 236990085375494.06, 236802889415481.84, 236615988950276.25, 236429383280757.1, 236243071710007.84, 236057053543307.1, 235871328088119.6, 235685894654088.03, 235500752553024.3, 235315901098901.1, 235131339607843.16, 234947067398119.12, 234763083790133.1, 234579388106416.28, 234395979671618.47, 234212857812500.0, 234030021857923.47, 233847471138845.56, 233665204988308.66, 233483222741433.03, 233301523735408.53, 233120107309486.78, 232938972804972.8, 232758119565217.38, 232577546935608.97, 232397254263565.88, 232217240898528.28, 232037506191950.47, 231858049497293.1, 231678870170015.44, 231499967567567.6, 231321341049382.72, 231142989976869.7, 230964913713405.22, 230787111624326.4, 230609583076923.06, 230432327440430.4, 230255344086021.5, 230078632386799.72, 229902191717791.4, 229726021455938.66, 229550120980091.88, 229374489671002.3, 229199126911314.97, 229024032085561.47, 228849204580152.66, 228674643783371.47, 228500349085365.84, 228326319878141.62, 228152555555555.53, 227979055513308.0, 227805819148936.16, 227632845861807.1, 227460135053110.75, 227287686125852.94, 227115498484848.47, 226943571536714.6, 226771904689863.84, 226600497354497.38, 226429348942598.2, 226258458867924.5, 226087826546003.0, 225917451394122.1, 225747332831325.28, 225577470278404.78, 225407863157894.72, 225238510894064.62, 225069412912912.9, 224900568642160.5, 224731977511244.38, 224563638951310.88, 224395552395209.56, 224227717277486.88, 224060133034379.66, 223892799103808.8, 223725714925373.12, 223558879940343.0, 223392293591654.22, 223225955323901.72, 223059864583333.3, 222894020817843.84, 222728423476968.78, 222563072011878.25, 222397965875370.9, 222233104521868.03, 222068487407407.4, 221904113989637.3, 221739983727810.62, 221576096082778.97, 221412450516986.7, 221249046494464.94, 221085883480825.94, 220922960943257.16, 220760278350515.44, 220597835172921.28, 220435630882352.94], \"apodization\": {\"start\": null, \"end\": null, \"width\": null, \"type\": \"ApodizationSpec\"}, \"normal_dir\": \"+\", \"exclude_surfaces\": null}, {\"type\": \"FluxMonitor\", \"center\": [0.0, 6.35, 0.0], \"size\": [1.4, 0.0, 0.644], \"name\": \"flux_cross\", \"interval_space\": [1, 1, 1], \"colocate\": true, \"freqs\": [237930522222222.22, 237741838223632.0, 237553453248811.4, 237365366587490.12, 237177577531645.56, 236990085375494.06, 236802889415481.84, 236615988950276.25, 236429383280757.1, 236243071710007.84, 236057053543307.1, 235871328088119.6, 235685894654088.03, 235500752553024.3, 235315901098901.1, 235131339607843.16, 234947067398119.12, 234763083790133.1, 234579388106416.28, 234395979671618.47, 234212857812500.0, 234030021857923.47, 233847471138845.56, 233665204988308.66, 233483222741433.03, 233301523735408.53, 233120107309486.78, 232938972804972.8, 232758119565217.38, 232577546935608.97, 232397254263565.88, 232217240898528.28, 232037506191950.47, 231858049497293.1, 231678870170015.44, 231499967567567.6, 231321341049382.72, 231142989976869.7, 230964913713405.22, 230787111624326.4, 230609583076923.06, 230432327440430.4, 230255344086021.5, 230078632386799.72, 229902191717791.4, 229726021455938.66, 229550120980091.88, 229374489671002.3, 229199126911314.97, 229024032085561.47, 228849204580152.66, 228674643783371.47, 228500349085365.84, 228326319878141.62, 228152555555555.53, 227979055513308.0, 227805819148936.16, 227632845861807.1, 227460135053110.75, 227287686125852.94, 227115498484848.47, 226943571536714.6, 226771904689863.84, 226600497354497.38, 226429348942598.2, 226258458867924.5, 226087826546003.0, 225917451394122.1, 225747332831325.28, 225577470278404.78, 225407863157894.72, 225238510894064.62, 225069412912912.9, 224900568642160.5, 224731977511244.38, 224563638951310.88, 224395552395209.56, 224227717277486.88, 224060133034379.66, 223892799103808.8, 223725714925373.12, 223558879940343.0, 223392293591654.22, 223225955323901.72, 223059864583333.3, 222894020817843.84, 222728423476968.78, 222563072011878.25, 222397965875370.9, 222233104521868.03, 222068487407407.4, 221904113989637.3, 221739983727810.62, 221576096082778.97, 221412450516986.7, 221249046494464.94, 221085883480825.94, 220922960943257.16, 220760278350515.44, 220597835172921.28, 220435630882352.94], \"apodization\": {\"start\": null, \"end\": null, \"width\": null, \"type\": \"ApodizationSpec\"}, \"normal_dir\": \"+\", \"exclude_surfaces\": null}], \"grid_spec\": {\"grid_x\": {\"type\": \"AutoGrid\", \"min_steps_per_wvl\": 20.0, \"max_scale\": 1.4, \"dl_min\": 0.0, \"mesher\": {\"type\": \"GradedMesher\"}}, \"grid_y\": {\"type\": \"AutoGrid\", \"min_steps_per_wvl\": 20.0, \"max_scale\": 1.4, \"dl_min\": 0.0, \"mesher\": {\"type\": \"GradedMesher\"}}, \"grid_z\": {\"type\": \"AutoGrid\", \"min_steps_per_wvl\": 20.0, \"max_scale\": 1.4, \"dl_min\": 0.0, \"mesher\": {\"type\": \"GradedMesher\"}}, \"wavelength\": 1.31, \"override_structures\": [], \"type\": \"GridSpec\"}, \"version\": \"2.6.0\", \"run_time\": 1e-12, \"shutoff\": 1e-05, \"subpixel\": true, \"normalize_index\": 0, \"courant\": 0.99}}, '*')\n",
       "        }\n",
       "    };\n",
       "    window.addEventListener(\n",
       "        'message',\n",
       "        window.postMessageToViewer170816502155083651,\n",
       "        false\n",
       "    );\n",
       "    \n",
       "    </script>\n",
       "    "
      ],
      "text/plain": [
       "<IPython.core.display.HTML object>"
      ]
     },
     "metadata": {},
     "output_type": "display_data"
    }
   ],
   "source": [
    "sim.plot_3d()"
   ]
  },
  {
   "cell_type": "markdown",
   "id": "13e0cca4",
   "metadata": {},
   "source": [
    "Once the simulation set up is verified, submit job to the server. Before running the simulation, we can get a cost estimation using `estimate_cost`. This prevents us from accidentally running large jobs that we set up by mistake. The estimated cost is the maximum cost corresponding to running all the time steps."
   ]
  },
  {
   "cell_type": "code",
   "execution_count": 7,
   "id": "d0d7dff4",
   "metadata": {
    "execution": {
     "iopub.execute_input": "2024-02-17T10:17:01.556532Z",
     "iopub.status.busy": "2024-02-17T10:17:01.556389Z",
     "iopub.status.idle": "2024-02-17T10:17:02.944515Z",
     "shell.execute_reply": "2024-02-17T10:17:02.942215Z"
    }
   },
   "outputs": [
    {
     "data": {
      "text/html": [
       "<pre style=\"white-space:pre;overflow-x:auto;line-height:normal;font-family:Menlo,'DejaVu Sans Mono',consolas,'Courier New',monospace\"><span style=\"color: #7fbfbf; text-decoration-color: #7fbfbf\">02:17:01 PST </span>Created task <span style=\"color: #008000; text-decoration-color: #008000\">'waveguide_crossing'</span> with task_id                     \n",
       "<span style=\"color: #7fbfbf; text-decoration-color: #7fbfbf\">             </span><span style=\"color: #008000; text-decoration-color: #008000\">'fdve-088eee49-c443-40da-b502-5f42e626467c'</span> and task_type <span style=\"color: #008000; text-decoration-color: #008000\">'FDTD'</span>.  \n",
       "</pre>\n"
      ],
      "text/plain": [
       "\u001b[2;36m02:17:01 PST\u001b[0m\u001b[2;36m \u001b[0mCreated task \u001b[32m'waveguide_crossing'\u001b[0m with task_id                     \n",
       "\u001b[2;36m             \u001b[0m\u001b[32m'fdve-088eee49-c443-40da-b502-5f42e626467c'\u001b[0m and task_type \u001b[32m'FDTD'\u001b[0m.  \n"
      ]
     },
     "metadata": {},
     "output_type": "display_data"
    },
    {
     "data": {
      "text/html": [
       "<pre style=\"white-space:pre;overflow-x:auto;line-height:normal;font-family:Menlo,'DejaVu Sans Mono',consolas,'Courier New',monospace\"><span style=\"color: #7fbfbf; text-decoration-color: #7fbfbf\">             </span>View task using web UI at                                          \n",
       "<span style=\"color: #7fbfbf; text-decoration-color: #7fbfbf\">             </span><a href=\"https://tidy3d.simulation.cloud/workbench?taskId=fdve-088eee49-c443-40da-b502-5f42e626467c\" target=\"_blank\"><span style=\"color: #008000; text-decoration-color: #008000\">'https://tidy3d.simulation.cloud/workbench?taskId=fdve-088eee49-c44</span></a>\n",
       "<span style=\"color: #7fbfbf; text-decoration-color: #7fbfbf\">             </span><a href=\"https://tidy3d.simulation.cloud/workbench?taskId=fdve-088eee49-c443-40da-b502-5f42e626467c\" target=\"_blank\"><span style=\"color: #008000; text-decoration-color: #008000\">3-40da-b502-5f42e626467c'</span></a>.                                         \n",
       "</pre>\n"
      ],
      "text/plain": [
       "\u001b[2;36m            \u001b[0m\u001b[2;36m \u001b[0mView task using web UI at                                          \n",
       "\u001b[2;36m             \u001b[0m\u001b]8;id=568096;https://tidy3d.simulation.cloud/workbench?taskId=fdve-088eee49-c443-40da-b502-5f42e626467c\u001b\\\u001b[32m'https://tidy3d.simulation.cloud/workbench?\u001b[0m\u001b]8;;\u001b\\\u001b]8;id=4875;https://tidy3d.simulation.cloud/workbench?taskId=fdve-088eee49-c443-40da-b502-5f42e626467c\u001b\\\u001b[32mtaskId\u001b[0m\u001b]8;;\u001b\\\u001b]8;id=568096;https://tidy3d.simulation.cloud/workbench?taskId=fdve-088eee49-c443-40da-b502-5f42e626467c\u001b\\\u001b[32m=\u001b[0m\u001b]8;;\u001b\\\u001b]8;id=344162;https://tidy3d.simulation.cloud/workbench?taskId=fdve-088eee49-c443-40da-b502-5f42e626467c\u001b\\\u001b[32mfdve\u001b[0m\u001b]8;;\u001b\\\u001b]8;id=568096;https://tidy3d.simulation.cloud/workbench?taskId=fdve-088eee49-c443-40da-b502-5f42e626467c\u001b\\\u001b[32m-088eee49-c44\u001b[0m\u001b]8;;\u001b\\\n",
       "\u001b[2;36m             \u001b[0m\u001b]8;id=568096;https://tidy3d.simulation.cloud/workbench?taskId=fdve-088eee49-c443-40da-b502-5f42e626467c\u001b\\\u001b[32m3-40da-b502-5f42e626467c'\u001b[0m\u001b]8;;\u001b\\.                                         \n"
      ]
     },
     "metadata": {},
     "output_type": "display_data"
    },
    {
     "data": {
      "application/vnd.jupyter.widget-view+json": {
       "model_id": "310e9c6042e64948a7960a5327cf3e4b",
       "version_major": 2,
       "version_minor": 0
      },
      "text/plain": [
       "Output()"
      ]
     },
     "metadata": {},
     "output_type": "display_data"
    },
    {
     "data": {
      "text/html": [
       "<pre style=\"white-space:pre;overflow-x:auto;line-height:normal;font-family:Menlo,'DejaVu Sans Mono',consolas,'Courier New',monospace\"></pre>\n"
      ],
      "text/plain": []
     },
     "metadata": {},
     "output_type": "display_data"
    },
    {
     "data": {
      "text/html": [
       "<pre style=\"white-space:pre;overflow-x:auto;line-height:normal;font-family:Menlo,'DejaVu Sans Mono',consolas,'Courier New',monospace\">\n",
       "</pre>\n"
      ],
      "text/plain": [
       "\n"
      ]
     },
     "metadata": {},
     "output_type": "display_data"
    },
    {
     "data": {
      "text/html": [
       "<pre style=\"white-space:pre;overflow-x:auto;line-height:normal;font-family:Menlo,'DejaVu Sans Mono',consolas,'Courier New',monospace\"><span style=\"color: #7fbfbf; text-decoration-color: #7fbfbf\">02:17:02 PST </span>Maximum FlexCredit cost: <span style=\"color: #008080; text-decoration-color: #008080; font-weight: bold\">0.492</span>. Minimum cost depends on task       \n",
       "<span style=\"color: #7fbfbf; text-decoration-color: #7fbfbf\">             </span>execution details. Use <span style=\"color: #008000; text-decoration-color: #008000\">'web.real_cost(task_id)'</span> to get the billed  \n",
       "<span style=\"color: #7fbfbf; text-decoration-color: #7fbfbf\">             </span>FlexCredit cost after a simulation run.                            \n",
       "</pre>\n"
      ],
      "text/plain": [
       "\u001b[2;36m02:17:02 PST\u001b[0m\u001b[2;36m \u001b[0mMaximum FlexCredit cost: \u001b[1;36m0.492\u001b[0m. Minimum cost depends on task       \n",
       "\u001b[2;36m             \u001b[0mexecution details. Use \u001b[32m'web.real_cost\u001b[0m\u001b[32m(\u001b[0m\u001b[32mtask_id\u001b[0m\u001b[32m)\u001b[0m\u001b[32m'\u001b[0m to get the billed  \n",
       "\u001b[2;36m             \u001b[0mFlexCredit cost after a simulation run.                            \n"
      ]
     },
     "metadata": {},
     "output_type": "display_data"
    }
   ],
   "source": [
    "job = web.Job(simulation=sim, task_name=\"waveguide_crossing\", verbose=True)\n",
    "estimated_cost = web.estimate_cost(job.task_id)"
   ]
  },
  {
   "cell_type": "markdown",
   "id": "efab5310",
   "metadata": {},
   "source": [
    "The cost is reasonaly so we can run the simulation."
   ]
  },
  {
   "cell_type": "code",
   "execution_count": 8,
   "id": "58f705d4",
   "metadata": {
    "execution": {
     "iopub.execute_input": "2024-02-17T10:17:02.959889Z",
     "iopub.status.busy": "2024-02-17T10:17:02.959672Z",
     "iopub.status.idle": "2024-02-17T10:17:46.577912Z",
     "shell.execute_reply": "2024-02-17T10:17:46.577314Z"
    }
   },
   "outputs": [
    {
     "data": {
      "text/html": [
       "<pre style=\"white-space:pre;overflow-x:auto;line-height:normal;font-family:Menlo,'DejaVu Sans Mono',consolas,'Courier New',monospace\"><span style=\"color: #7fbfbf; text-decoration-color: #7fbfbf\">02:17:03 PST </span>status = queued                                                    \n",
       "</pre>\n"
      ],
      "text/plain": [
       "\u001b[2;36m02:17:03 PST\u001b[0m\u001b[2;36m \u001b[0mstatus = queued                                                    \n"
      ]
     },
     "metadata": {},
     "output_type": "display_data"
    },
    {
     "data": {
      "application/vnd.jupyter.widget-view+json": {
       "model_id": "72f1a4e987ff4da8984fc0bd5c5a5dce",
       "version_major": 2,
       "version_minor": 0
      },
      "text/plain": [
       "Output()"
      ]
     },
     "metadata": {},
     "output_type": "display_data"
    },
    {
     "data": {
      "text/html": [
       "<pre style=\"white-space:pre;overflow-x:auto;line-height:normal;font-family:Menlo,'DejaVu Sans Mono',consolas,'Courier New',monospace\"><span style=\"color: #7fbfbf; text-decoration-color: #7fbfbf\">02:17:07 PST </span>status = preprocess                                                \n",
       "</pre>\n"
      ],
      "text/plain": [
       "\u001b[2;36m02:17:07 PST\u001b[0m\u001b[2;36m \u001b[0mstatus = preprocess                                                \n"
      ]
     },
     "metadata": {},
     "output_type": "display_data"
    },
    {
     "data": {
      "text/html": [
       "<pre style=\"white-space:pre;overflow-x:auto;line-height:normal;font-family:Menlo,'DejaVu Sans Mono',consolas,'Courier New',monospace\"></pre>\n"
      ],
      "text/plain": []
     },
     "metadata": {},
     "output_type": "display_data"
    },
    {
     "data": {
      "text/html": [
       "<pre style=\"white-space:pre;overflow-x:auto;line-height:normal;font-family:Menlo,'DejaVu Sans Mono',consolas,'Courier New',monospace\"><span style=\"color: #7fbfbf; text-decoration-color: #7fbfbf\">02:17:10 PST </span>Maximum FlexCredit cost: <span style=\"color: #008080; text-decoration-color: #008080; font-weight: bold\">0.492</span>. Use <span style=\"color: #008000; text-decoration-color: #008000\">'web.real_cost(task_id)'</span> to get\n",
       "<span style=\"color: #7fbfbf; text-decoration-color: #7fbfbf\">             </span>the billed FlexCredit cost after a simulation run.                 \n",
       "</pre>\n"
      ],
      "text/plain": [
       "\u001b[2;36m02:17:10 PST\u001b[0m\u001b[2;36m \u001b[0mMaximum FlexCredit cost: \u001b[1;36m0.492\u001b[0m. Use \u001b[32m'web.real_cost\u001b[0m\u001b[32m(\u001b[0m\u001b[32mtask_id\u001b[0m\u001b[32m)\u001b[0m\u001b[32m'\u001b[0m to get\n",
       "\u001b[2;36m             \u001b[0mthe billed FlexCredit cost after a simulation run.                 \n"
      ]
     },
     "metadata": {},
     "output_type": "display_data"
    },
    {
     "data": {
      "text/html": [
       "<pre style=\"white-space:pre;overflow-x:auto;line-height:normal;font-family:Menlo,'DejaVu Sans Mono',consolas,'Courier New',monospace\"><span style=\"color: #7fbfbf; text-decoration-color: #7fbfbf\">             </span>starting up solver                                                 \n",
       "</pre>\n"
      ],
      "text/plain": [
       "\u001b[2;36m            \u001b[0m\u001b[2;36m \u001b[0mstarting up solver                                                 \n"
      ]
     },
     "metadata": {},
     "output_type": "display_data"
    },
    {
     "data": {
      "text/html": [
       "<pre style=\"white-space:pre;overflow-x:auto;line-height:normal;font-family:Menlo,'DejaVu Sans Mono',consolas,'Courier New',monospace\"><span style=\"color: #7fbfbf; text-decoration-color: #7fbfbf\">             </span>running solver                                                     \n",
       "</pre>\n"
      ],
      "text/plain": [
       "\u001b[2;36m            \u001b[0m\u001b[2;36m \u001b[0mrunning solver                                                     \n"
      ]
     },
     "metadata": {},
     "output_type": "display_data"
    },
    {
     "data": {
      "text/html": [
       "<pre style=\"white-space:pre;overflow-x:auto;line-height:normal;font-family:Menlo,'DejaVu Sans Mono',consolas,'Courier New',monospace\"><span style=\"color: #7fbfbf; text-decoration-color: #7fbfbf\">             </span>To cancel the simulation, use <span style=\"color: #008000; text-decoration-color: #008000\">'web.abort(task_id)'</span> or              \n",
       "<span style=\"color: #7fbfbf; text-decoration-color: #7fbfbf\">             </span><span style=\"color: #008000; text-decoration-color: #008000\">'web.delete(task_id)'</span> or abort/delete the task in the web UI.      \n",
       "<span style=\"color: #7fbfbf; text-decoration-color: #7fbfbf\">             </span>Terminating the Python script will not stop the job running on the \n",
       "<span style=\"color: #7fbfbf; text-decoration-color: #7fbfbf\">             </span>cloud.                                                             \n",
       "</pre>\n"
      ],
      "text/plain": [
       "\u001b[2;36m            \u001b[0m\u001b[2;36m \u001b[0mTo cancel the simulation, use \u001b[32m'web.abort\u001b[0m\u001b[32m(\u001b[0m\u001b[32mtask_id\u001b[0m\u001b[32m)\u001b[0m\u001b[32m'\u001b[0m or              \n",
       "\u001b[2;36m             \u001b[0m\u001b[32m'web.delete\u001b[0m\u001b[32m(\u001b[0m\u001b[32mtask_id\u001b[0m\u001b[32m)\u001b[0m\u001b[32m'\u001b[0m or abort/delete the task in the web UI.      \n",
       "\u001b[2;36m             \u001b[0mTerminating the Python script will not stop the job running on the \n",
       "\u001b[2;36m             \u001b[0mcloud.                                                             \n"
      ]
     },
     "metadata": {},
     "output_type": "display_data"
    },
    {
     "data": {
      "application/vnd.jupyter.widget-view+json": {
       "model_id": "e5b3b76872cb4f18a11ed04b450238be",
       "version_major": 2,
       "version_minor": 0
      },
      "text/plain": [
       "Output()"
      ]
     },
     "metadata": {},
     "output_type": "display_data"
    },
    {
     "data": {
      "text/html": [
       "<pre style=\"white-space:pre;overflow-x:auto;line-height:normal;font-family:Menlo,'DejaVu Sans Mono',consolas,'Courier New',monospace\"><span style=\"color: #7fbfbf; text-decoration-color: #7fbfbf\">02:17:42 PST </span>early shutoff detected at <span style=\"color: #008080; text-decoration-color: #008080; font-weight: bold\">56</span>%, exiting.                            \n",
       "</pre>\n"
      ],
      "text/plain": [
       "\u001b[2;36m02:17:42 PST\u001b[0m\u001b[2;36m \u001b[0mearly shutoff detected at \u001b[1;36m56\u001b[0m%, exiting.                            \n"
      ]
     },
     "metadata": {},
     "output_type": "display_data"
    },
    {
     "data": {
      "text/html": [
       "<pre style=\"white-space:pre;overflow-x:auto;line-height:normal;font-family:Menlo,'DejaVu Sans Mono',consolas,'Courier New',monospace\"></pre>\n"
      ],
      "text/plain": []
     },
     "metadata": {},
     "output_type": "display_data"
    },
    {
     "data": {
      "text/html": [
       "<pre style=\"white-space:pre;overflow-x:auto;line-height:normal;font-family:Menlo,'DejaVu Sans Mono',consolas,'Courier New',monospace\">\n",
       "</pre>\n"
      ],
      "text/plain": [
       "\n"
      ]
     },
     "metadata": {},
     "output_type": "display_data"
    },
    {
     "data": {
      "text/html": [
       "<pre style=\"white-space:pre;overflow-x:auto;line-height:normal;font-family:Menlo,'DejaVu Sans Mono',consolas,'Courier New',monospace\"><span style=\"color: #7fbfbf; text-decoration-color: #7fbfbf\">             </span>status = postprocess                                               \n",
       "</pre>\n"
      ],
      "text/plain": [
       "\u001b[2;36m            \u001b[0m\u001b[2;36m \u001b[0mstatus = postprocess                                               \n"
      ]
     },
     "metadata": {},
     "output_type": "display_data"
    },
    {
     "data": {
      "application/vnd.jupyter.widget-view+json": {
       "model_id": "18e8ea0eb4604f2b84f7e5e6735f6e8f",
       "version_major": 2,
       "version_minor": 0
      },
      "text/plain": [
       "Output()"
      ]
     },
     "metadata": {},
     "output_type": "display_data"
    },
    {
     "data": {
      "text/html": [
       "<pre style=\"white-space:pre;overflow-x:auto;line-height:normal;font-family:Menlo,'DejaVu Sans Mono',consolas,'Courier New',monospace\"><span style=\"color: #7fbfbf; text-decoration-color: #7fbfbf\">02:17:44 PST </span>status = success                                                   \n",
       "</pre>\n"
      ],
      "text/plain": [
       "\u001b[2;36m02:17:44 PST\u001b[0m\u001b[2;36m \u001b[0mstatus = success                                                   \n"
      ]
     },
     "metadata": {},
     "output_type": "display_data"
    },
    {
     "data": {
      "text/html": [
       "<pre style=\"white-space:pre;overflow-x:auto;line-height:normal;font-family:Menlo,'DejaVu Sans Mono',consolas,'Courier New',monospace\"></pre>\n"
      ],
      "text/plain": []
     },
     "metadata": {},
     "output_type": "display_data"
    },
    {
     "data": {
      "text/html": [
       "<pre style=\"white-space:pre;overflow-x:auto;line-height:normal;font-family:Menlo,'DejaVu Sans Mono',consolas,'Courier New',monospace\"><span style=\"color: #7fbfbf; text-decoration-color: #7fbfbf\">02:17:45 PST </span>View simulation result at                                          \n",
       "<span style=\"color: #7fbfbf; text-decoration-color: #7fbfbf\">             </span><a href=\"https://tidy3d.simulation.cloud/workbench?taskId=fdve-088eee49-c443-40da-b502-5f42e626467c\" target=\"_blank\"><span style=\"color: #000080; text-decoration-color: #000080; text-decoration: underline\">'https://tidy3d.simulation.cloud/workbench?taskId=fdve-088eee49-c44</span></a>\n",
       "<span style=\"color: #7fbfbf; text-decoration-color: #7fbfbf\">             </span><a href=\"https://tidy3d.simulation.cloud/workbench?taskId=fdve-088eee49-c443-40da-b502-5f42e626467c\" target=\"_blank\"><span style=\"color: #000080; text-decoration-color: #000080; text-decoration: underline\">3-40da-b502-5f42e626467c'</span></a><span style=\"color: #000080; text-decoration-color: #000080; text-decoration: underline\">.</span>                                         \n",
       "</pre>\n"
      ],
      "text/plain": [
       "\u001b[2;36m02:17:45 PST\u001b[0m\u001b[2;36m \u001b[0mView simulation result at                                          \n",
       "\u001b[2;36m             \u001b[0m\u001b]8;id=900312;https://tidy3d.simulation.cloud/workbench?taskId=fdve-088eee49-c443-40da-b502-5f42e626467c\u001b\\\u001b[4;34m'https://tidy3d.simulation.cloud/workbench?\u001b[0m\u001b]8;;\u001b\\\u001b]8;id=557510;https://tidy3d.simulation.cloud/workbench?taskId=fdve-088eee49-c443-40da-b502-5f42e626467c\u001b\\\u001b[4;34mtaskId\u001b[0m\u001b]8;;\u001b\\\u001b]8;id=900312;https://tidy3d.simulation.cloud/workbench?taskId=fdve-088eee49-c443-40da-b502-5f42e626467c\u001b\\\u001b[4;34m=\u001b[0m\u001b]8;;\u001b\\\u001b]8;id=736097;https://tidy3d.simulation.cloud/workbench?taskId=fdve-088eee49-c443-40da-b502-5f42e626467c\u001b\\\u001b[4;34mfdve\u001b[0m\u001b]8;;\u001b\\\u001b]8;id=900312;https://tidy3d.simulation.cloud/workbench?taskId=fdve-088eee49-c443-40da-b502-5f42e626467c\u001b\\\u001b[4;34m-088eee49-c44\u001b[0m\u001b]8;;\u001b\\\n",
       "\u001b[2;36m             \u001b[0m\u001b]8;id=900312;https://tidy3d.simulation.cloud/workbench?taskId=fdve-088eee49-c443-40da-b502-5f42e626467c\u001b\\\u001b[4;34m3-40da-b502-5f42e626467c'\u001b[0m\u001b]8;;\u001b\\\u001b[4;34m.\u001b[0m                                         \n"
      ]
     },
     "metadata": {},
     "output_type": "display_data"
    },
    {
     "data": {
      "application/vnd.jupyter.widget-view+json": {
       "model_id": "f0fe72bbdce44cf3a1f10bfccf058de4",
       "version_major": 2,
       "version_minor": 0
      },
      "text/plain": [
       "Output()"
      ]
     },
     "metadata": {},
     "output_type": "display_data"
    },
    {
     "data": {
      "text/html": [
       "<pre style=\"white-space:pre;overflow-x:auto;line-height:normal;font-family:Menlo,'DejaVu Sans Mono',consolas,'Courier New',monospace\"></pre>\n"
      ],
      "text/plain": []
     },
     "metadata": {},
     "output_type": "display_data"
    },
    {
     "data": {
      "text/html": [
       "<pre style=\"white-space:pre;overflow-x:auto;line-height:normal;font-family:Menlo,'DejaVu Sans Mono',consolas,'Courier New',monospace\">\n",
       "</pre>\n"
      ],
      "text/plain": [
       "\n"
      ]
     },
     "metadata": {},
     "output_type": "display_data"
    },
    {
     "data": {
      "text/html": [
       "<pre style=\"white-space:pre;overflow-x:auto;line-height:normal;font-family:Menlo,'DejaVu Sans Mono',consolas,'Courier New',monospace\"><span style=\"color: #7fbfbf; text-decoration-color: #7fbfbf\">02:17:46 PST </span>loading simulation from data/simulation_data.hdf5                  \n",
       "</pre>\n"
      ],
      "text/plain": [
       "\u001b[2;36m02:17:46 PST\u001b[0m\u001b[2;36m \u001b[0mloading simulation from data/simulation_data.hdf5                  \n"
      ]
     },
     "metadata": {},
     "output_type": "display_data"
    }
   ],
   "source": [
    "sim_data = job.run(path=\"data/simulation_data.hdf5\")\n"
   ]
  },
  {
   "cell_type": "markdown",
   "id": "998f20e2",
   "metadata": {},
   "source": [
    "## Result Visualization "
   ]
  },
  {
   "cell_type": "markdown",
   "id": "2772b63f",
   "metadata": {},
   "source": [
    "After the simulation is complete, first plot the field intensity distribution. \n",
    "\n",
    "From the figure below, a good transmission to the through port is observed. In the crossing junction, a strong field focus is formed due to the focusing property of the cosine taper. "
   ]
  },
  {
   "cell_type": "code",
   "execution_count": 9,
   "id": "2514be3b",
   "metadata": {
    "execution": {
     "iopub.execute_input": "2024-02-17T10:17:47.239266Z",
     "iopub.status.busy": "2024-02-17T10:17:47.239084Z",
     "iopub.status.idle": "2024-02-17T10:17:48.810039Z",
     "shell.execute_reply": "2024-02-17T10:17:48.809530Z"
    }
   },
   "outputs": [
    {
     "data": {
      "image/png": "[encoded data removed]",
      "text/plain": [
       "<Figure size 640x480 with 2 Axes>"
      ]
     },
     "metadata": {},
     "output_type": "display_data"
    }
   ],
   "source": [
    "sim_data.plot_field(\n",
    "    field_monitor_name=\"field\", field_name=\"E\", val=\"abs^2\", f=freq0, vmin=0, vmax=3000\n",
    ")\n",
    "plt.show()\n"
   ]
  },
  {
   "cell_type": "markdown",
   "id": "1b0ec431",
   "metadata": {},
   "source": [
    "Finally, to quantify the designed waveguide crossing's performance, plot insertion loss and crosstalk level."
   ]
  },
  {
   "cell_type": "code",
   "execution_count": 10,
   "id": "6959a333",
   "metadata": {
    "execution": {
     "iopub.execute_input": "2024-02-17T10:17:48.812075Z",
     "iopub.status.busy": "2024-02-17T10:17:48.811895Z",
     "iopub.status.idle": "2024-02-17T10:17:49.082503Z",
     "shell.execute_reply": "2024-02-17T10:17:49.082007Z"
    }
   },
   "outputs": [
    {
     "data": {
      "image/png": "[encoded data removed]",
      "text/plain": [
       "<Figure size 1000x500 with 2 Axes>"
      ]
     },
     "metadata": {},
     "output_type": "display_data"
    }
   ],
   "source": [
    "f, (ax1, ax2) = plt.subplots(1, 2, tight_layout=True, figsize=(10, 5))\n",
    "\n",
    "T_through = sim_data[\"flux_through\"].flux\n",
    "T_cross = sim_data[\"flux_cross\"].flux\n",
    "\n",
    "ax1.plot(ldas, 10 * np.log10(T_through))\n",
    "ax1.set_xlabel(\"Wavelength ($\\mu m$)\")\n",
    "ax1.set_ylabel(\"Insertion loss (dB)\")\n",
    "ax1.set_ylim((-0.3, 0))\n",
    "\n",
    "ax2.plot(ldas, 10 * np.log10(T_cross/T_through))\n",
    "ax2.set_xlabel(\"Wavelength ($\\mu m$)\")\n",
    "ax2.set_ylabel(\"Crosstalk (dB)\")\n",
    "ax2.set_ylim((-30, -25))\n",
    "plt.show()\n"
   ]
  },
  {
   "cell_type": "code",
   "execution_count": null,
   "id": "d60f5fdb",
   "metadata": {},
   "outputs": [],
   "source": []
  }
 ],
 "metadata": {
  "description": "This notebook demonstrates how to model a waveguide crossing in Tidy3D FDTD.",
  "feature_image": "./img/waveguide_crossing.png",
  "kernelspec": {
   "display_name": "Python 3 (ipykernel)",
   "language": "python",
   "name": "python3"
  },
  "keywords": "waveguide crossing, Tidy3D, FDTD",
  "language_info": {
   "codemirror_mode": {
    "name": "ipython",
    "version": 3
   },
   "file_extension": ".py",
   "mimetype": "text/x-python",
   "name": "python",
   "nbconvert_exporter": "python",
   "pygments_lexer": "ipython3",
   "version": "3.10.13"
  },
  "nbdime-conflicts": {
   "local_diff": [
    {
     "diff": [
      {
       "diff": [
        {
         "diff": [
          {
           "key": 5,
           "op": "addrange",
           "valuelist": "2"
          },
          {
           "key": 5,
           "length": 1,
           "op": "removerange"
          }
         ],
         "key": 0,
         "op": "patch"
        }
       ],
       "key": "version",
       "op": "patch"
      }
     ],
     "key": "language_info",
     "op": "patch"
    }
   ],
   "remote_diff": [
    {
     "diff": [
      {
       "diff": [
        {
         "key": 0,
         "length": 1,
         "op": "removerange"
        }
       ],
       "key": "version",
       "op": "patch"
      }
     ],
     "key": "language_info",
     "op": "patch"
    }
   ]
  },
  "title": "Waveguide Crossing Modeling in Tidy3D | Flexcompute",
  "widgets": {
   "application/vnd.jupyter.widget-state+json": {
    "state": {
     "18e8ea0eb4604f2b84f7e5e6735f6e8f": {
      "model_module": "@jupyter-widgets/output",
      "model_module_version": "1.0.0",
      "model_name": "OutputModel",
      "state": {
       "_dom_classes": [],
       "_model_module": "@jupyter-widgets/output",
       "_model_module_version": "1.0.0",
       "_model_name": "OutputModel",
       "_view_count": null,
       "_view_module": "@jupyter-widgets/output",
       "_view_module_version": "1.0.0",
       "_view_name": "OutputView",
       "layout": "IPY_MODEL_70975510b973449ba38dac9af55391d7",
       "msg_id": "",
       "outputs": [
        {
         "data": {
          "text/html": "<pre style=\"white-space:pre;overflow-x:auto;line-height:normal;font-family:Menlo,'DejaVu Sans Mono',consolas,'Courier New',monospace\"><span style=\"color: #008000; text-decoration-color: #008000\">🏃 </span> <span style=\"color: #008000; text-decoration-color: #008000; font-weight: bold\">Finishing 'waveguide_crossing'...</span>\n</pre>\n",
          "text/plain": "\u001b[32m🏃 \u001b[0m \u001b[1;32mFinishing 'waveguide_crossing'...\u001b[0m\n"
         },
         "metadata": {},
         "output_type": "display_data"
        }
       ],
       "tabbable": null,
       "tooltip": null
      }
     },
     "310e9c6042e64948a7960a5327cf3e4b": {
      "model_module": "@jupyter-widgets/output",
      "model_module_version": "1.0.0",
      "model_name": "OutputModel",
      "state": {
       "_dom_classes": [],
       "_model_module": "@jupyter-widgets/output",
       "_model_module_version": "1.0.0",
       "_model_name": "OutputModel",
       "_view_count": null,
       "_view_module": "@jupyter-widgets/output",
       "_view_module_version": "1.0.0",
       "_view_name": "OutputView",
       "layout": "IPY_MODEL_5dcaec37426740d99d2c17e49facedfd",
       "msg_id": "",
       "outputs": [
        {
         "data": {
          "text/html": "<pre style=\"white-space:pre;overflow-x:auto;line-height:normal;font-family:Menlo,'DejaVu Sans Mono',consolas,'Courier New',monospace\"><span style=\"color: #800000; text-decoration-color: #800000; font-weight: bold\">↑</span> <span style=\"color: #000080; text-decoration-color: #000080; font-weight: bold\">simulation.hdf5.gz</span> <span style=\"color: #729c1f; text-decoration-color: #729c1f\">━━━━━━━━━━━━━━━━━━━━━━━━━</span> <span style=\"color: #800080; text-decoration-color: #800080\">100.0%</span> • <span style=\"color: #008000; text-decoration-color: #008000\">3.9/3.9 kB</span> • <span style=\"color: #800000; text-decoration-color: #800000\">?</span> • <span style=\"color: #008080; text-decoration-color: #008080\">0:00:00</span>\n</pre>\n",
          "text/plain": "\u001b[1;31m↑\u001b[0m \u001b[1;34msimulation.hdf5.gz\u001b[0m \u001b[38;2;114;156;31m━━━━━━━━━━━━━━━━━━━━━━━━━\u001b[0m \u001b[35m100.0%\u001b[0m • \u001b[32m3.9/3.9 kB\u001b[0m • \u001b[31m?\u001b[0m • \u001b[36m0:00:00\u001b[0m\n"
         },
         "metadata": {},
         "output_type": "display_data"
        }
       ],
       "tabbable": null,
       "tooltip": null
      }
     },
     "3d4cbadc5bce420498c0e1c81772e424": {
      "model_module": "@jupyter-widgets/base",
      "model_module_version": "2.0.0",
      "model_name": "LayoutModel",
      "state": {
       "_model_module": "@jupyter-widgets/base",
       "_model_module_version": "2.0.0",
       "_model_name": "LayoutModel",
       "_view_count": null,
       "_view_module": "@jupyter-widgets/base",
       "_view_module_version": "2.0.0",
       "_view_name": "LayoutView",
       "align_content": null,
       "align_items": null,
       "align_self": null,
       "border_bottom": null,
       "border_left": null,
       "border_right": null,
       "border_top": null,
       "bottom": null,
       "display": null,
       "flex": null,
       "flex_flow": null,
       "grid_area": null,
       "grid_auto_columns": null,
       "grid_auto_flow": null,
       "grid_auto_rows": null,
       "grid_column": null,
       "grid_gap": null,
       "grid_row": null,
       "grid_template_areas": null,
       "grid_template_columns": null,
       "grid_template_rows": null,
       "height": null,
       "justify_content": null,
       "justify_items": null,
       "left": null,
       "margin": null,
       "max_height": null,
       "max_width": null,
       "min_height": null,
       "min_width": null,
       "object_fit": null,
       "object_position": null,
       "order": null,
       "overflow": null,
       "padding": null,
       "right": null,
       "top": null,
       "visibility": null,
       "width": null
      }
     },
     "5dcaec37426740d99d2c17e49facedfd": {
      "model_module": "@jupyter-widgets/base",
      "model_module_version": "2.0.0",
      "model_name": "LayoutModel",
      "state": {
       "_model_module": "@jupyter-widgets/base",
       "_model_module_version": "2.0.0",
       "_model_name": "LayoutModel",
       "_view_count": null,
       "_view_module": "@jupyter-widgets/base",
       "_view_module_version": "2.0.0",
       "_view_name": "LayoutView",
       "align_content": null,
       "align_items": null,
       "align_self": null,
       "border_bottom": null,
       "border_left": null,
       "border_right": null,
       "border_top": null,
       "bottom": null,
       "display": null,
       "flex": null,
       "flex_flow": null,
       "grid_area": null,
       "grid_auto_columns": null,
       "grid_auto_flow": null,
       "grid_auto_rows": null,
       "grid_column": null,
       "grid_gap": null,
       "grid_row": null,
       "grid_template_areas": null,
       "grid_template_columns": null,
       "grid_template_rows": null,
       "height": null,
       "justify_content": null,
       "justify_items": null,
       "left": null,
       "margin": null,
       "max_height": null,
       "max_width": null,
       "min_height": null,
       "min_width": null,
       "object_fit": null,
       "object_position": null,
       "order": null,
       "overflow": null,
       "padding": null,
       "right": null,
       "top": null,
       "visibility": null,
       "width": null
      }
     },
     "70975510b973449ba38dac9af55391d7": {
      "model_module": "@jupyter-widgets/base",
      "model_module_version": "2.0.0",
      "model_name": "LayoutModel",
      "state": {
       "_model_module": "@jupyter-widgets/base",
       "_model_module_version": "2.0.0",
       "_model_name": "LayoutModel",
       "_view_count": null,
       "_view_module": "@jupyter-widgets/base",
       "_view_module_version": "2.0.0",
       "_view_name": "LayoutView",
       "align_content": null,
       "align_items": null,
       "align_self": null,
       "border_bottom": null,
       "border_left": null,
       "border_right": null,
       "border_top": null,
       "bottom": null,
       "display": null,
       "flex": null,
       "flex_flow": null,
       "grid_area": null,
       "grid_auto_columns": null,
       "grid_auto_flow": null,
       "grid_auto_rows": null,
       "grid_column": null,
       "grid_gap": null,
       "grid_row": null,
       "grid_template_areas": null,
       "grid_template_columns": null,
       "grid_template_rows": null,
       "height": null,
       "justify_content": null,
       "justify_items": null,
       "left": null,
       "margin": null,
       "max_height": null,
       "max_width": null,
       "min_height": null,
       "min_width": null,
       "object_fit": null,
       "object_position": null,
       "order": null,
       "overflow": null,
       "padding": null,
       "right": null,
       "top": null,
       "visibility": null,
       "width": null
      }
     },
     "7264ab3a9f394171a4ab65c8c60dcefc": {
      "model_module": "@jupyter-widgets/base",
      "model_module_version": "2.0.0",
      "model_name": "LayoutModel",
      "state": {
       "_model_module": "@jupyter-widgets/base",
       "_model_module_version": "2.0.0",
       "_model_name": "LayoutModel",
       "_view_count": null,
       "_view_module": "@jupyter-widgets/base",
       "_view_module_version": "2.0.0",
       "_view_name": "LayoutView",
       "align_content": null,
       "align_items": null,
       "align_self": null,
       "border_bottom": null,
       "border_left": null,
       "border_right": null,
       "border_top": null,
       "bottom": null,
       "display": null,
       "flex": null,
       "flex_flow": null,
       "grid_area": null,
       "grid_auto_columns": null,
       "grid_auto_flow": null,
       "grid_auto_rows": null,
       "grid_column": null,
       "grid_gap": null,
       "grid_row": null,
       "grid_template_areas": null,
       "grid_template_columns": null,
       "grid_template_rows": null,
       "height": null,
       "justify_content": null,
       "justify_items": null,
       "left": null,
       "margin": null,
       "max_height": null,
       "max_width": null,
       "min_height": null,
       "min_width": null,
       "object_fit": null,
       "object_position": null,
       "order": null,
       "overflow": null,
       "padding": null,
       "right": null,
       "top": null,
       "visibility": null,
       "width": null
      }
     },
     "72f1a4e987ff4da8984fc0bd5c5a5dce": {
      "model_module": "@jupyter-widgets/output",
      "model_module_version": "1.0.0",
      "model_name": "OutputModel",
      "state": {
       "_dom_classes": [],
       "_model_module": "@jupyter-widgets/output",
       "_model_module_version": "1.0.0",
       "_model_name": "OutputModel",
       "_view_count": null,
       "_view_module": "@jupyter-widgets/output",
       "_view_module_version": "1.0.0",
       "_view_name": "OutputView",
       "layout": "IPY_MODEL_3d4cbadc5bce420498c0e1c81772e424",
       "msg_id": "",
       "outputs": [
        {
         "data": {
          "text/html": "<pre style=\"white-space:pre;overflow-x:auto;line-height:normal;font-family:Menlo,'DejaVu Sans Mono',consolas,'Courier New',monospace\"><span style=\"color: #008000; text-decoration-color: #008000\">🚶 </span> <span style=\"color: #008000; text-decoration-color: #008000; font-weight: bold\">Starting 'waveguide_crossing'...</span>\n</pre>\n",
          "text/plain": "\u001b[32m🚶 \u001b[0m \u001b[1;32mStarting 'waveguide_crossing'...\u001b[0m\n"
         },
         "metadata": {},
         "output_type": "display_data"
        }
       ],
       "tabbable": null,
       "tooltip": null
      }
     },
     "e5b3b76872cb4f18a11ed04b450238be": {
      "model_module": "@jupyter-widgets/output",
      "model_module_version": "1.0.0",
      "model_name": "OutputModel",
      "state": {
       "_dom_classes": [],
       "_model_module": "@jupyter-widgets/output",
       "_model_module_version": "1.0.0",
       "_model_name": "OutputModel",
       "_view_count": null,
       "_view_module": "@jupyter-widgets/output",
       "_view_module_version": "1.0.0",
       "_view_name": "OutputView",
       "layout": "IPY_MODEL_7264ab3a9f394171a4ab65c8c60dcefc",
       "msg_id": "",
       "outputs": [
        {
         "data": {
          "text/html": "<pre style=\"white-space:pre;overflow-x:auto;line-height:normal;font-family:Menlo,'DejaVu Sans Mono',consolas,'Courier New',monospace\">solver progress (field decay = 2.03e-06) <span style=\"color: #729c1f; text-decoration-color: #729c1f\">━━━━━━━━━━━━━━━━━━━━━━━━━━</span> <span style=\"color: #800080; text-decoration-color: #800080\">100%</span> <span style=\"color: #008080; text-decoration-color: #008080\">0:00:00</span>\n</pre>\n",
          "text/plain": "solver progress (field decay = 2.03e-06) \u001b[38;2;114;156;31m━━━━━━━━━━━━━━━━━━━━━━━━━━\u001b[0m \u001b[35m100%\u001b[0m \u001b[36m0:00:00\u001b[0m\n"
         },
         "metadata": {},
         "output_type": "display_data"
        }
       ],
       "tabbable": null,
       "tooltip": null
      }
     },
     "e7829b631b614374b0a2baf1a93640a8": {
      "model_module": "@jupyter-widgets/base",
      "model_module_version": "2.0.0",
      "model_name": "LayoutModel",
      "state": {
       "_model_module": "@jupyter-widgets/base",
       "_model_module_version": "2.0.0",
       "_model_name": "LayoutModel",
       "_view_count": null,
       "_view_module": "@jupyter-widgets/base",
       "_view_module_version": "2.0.0",
       "_view_name": "LayoutView",
       "align_content": null,
       "align_items": null,
       "align_self": null,
       "border_bottom": null,
       "border_left": null,
       "border_right": null,
       "border_top": null,
       "bottom": null,
       "display": null,
       "flex": null,
       "flex_flow": null,
       "grid_area": null,
       "grid_auto_columns": null,
       "grid_auto_flow": null,
       "grid_auto_rows": null,
       "grid_column": null,
       "grid_gap": null,
       "grid_row": null,
       "grid_template_areas": null,
       "grid_template_columns": null,
       "grid_template_rows": null,
       "height": null,
       "justify_content": null,
       "justify_items": null,
       "left": null,
       "margin": null,
       "max_height": null,
       "max_width": null,
       "min_height": null,
       "min_width": null,
       "object_fit": null,
       "object_position": null,
       "order": null,
       "overflow": null,
       "padding": null,
       "right": null,
       "top": null,
       "visibility": null,
       "width": null
      }
     },
     "f0fe72bbdce44cf3a1f10bfccf058de4": {
      "model_module": "@jupyter-widgets/output",
      "model_module_version": "1.0.0",
      "model_name": "OutputModel",
      "state": {
       "_dom_classes": [],
       "_model_module": "@jupyter-widgets/output",
       "_model_module_version": "1.0.0",
       "_model_name": "OutputModel",
       "_view_count": null,
       "_view_module": "@jupyter-widgets/output",
       "_view_module_version": "1.0.0",
       "_view_name": "OutputView",
       "layout": "IPY_MODEL_e7829b631b614374b0a2baf1a93640a8",
       "msg_id": "",
       "outputs": [
        {
         "data": {
          "text/html": "<pre style=\"white-space:pre;overflow-x:auto;line-height:normal;font-family:Menlo,'DejaVu Sans Mono',consolas,'Courier New',monospace\"><span style=\"color: #008000; text-decoration-color: #008000; font-weight: bold\">↓</span> <span style=\"color: #000080; text-decoration-color: #000080; font-weight: bold\">simulation_data.hdf5.gz</span> <span style=\"color: #729c1f; text-decoration-color: #729c1f\">━━━━━━━━━━━</span> <span style=\"color: #800080; text-decoration-color: #800080\">100.0%</span> • <span style=\"color: #008000; text-decoration-color: #008000\">28.4/28.4  </span> • <span style=\"color: #800000; text-decoration-color: #800000\">40.9 MB/s</span> • <span style=\"color: #008080; text-decoration-color: #008080\">0:00:00</span>\n                                               <span style=\"color: #008000; text-decoration-color: #008000\">MB         </span>                      \n</pre>\n",
          "text/plain": "\u001b[1;32m↓\u001b[0m \u001b[1;34msimulation_data.hdf5.gz\u001b[0m \u001b[38;2;114;156;31m━━━━━━━━━━━\u001b[0m \u001b[35m100.0%\u001b[0m • \u001b[32m28.4/28.4  \u001b[0m • \u001b[31m40.9 MB/s\u001b[0m • \u001b[36m0:00:00\u001b[0m\n                                               \u001b[32mMB         \u001b[0m                      \n"
         },
         "metadata": {},
         "output_type": "display_data"
        }
       ],
       "tabbable": null,
       "tooltip": null
      }
     }
    },
    "version_major": 2,
    "version_minor": 0
   }
  }
 },
 "nbformat": 4,
 "nbformat_minor": 5
}
