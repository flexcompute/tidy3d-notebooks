{
 "cells": [
  {
   "cell_type": "markdown",
   "id": "9e129b4e",
   "metadata": {},
   "source": [
    "# Performing visualization of simulation data\n",
    "\n",
    "This notebook is a tutorial on working with `Tidy3D` output data.\n",
    "\n",
    "We will cover:\n",
    "\n",
    "- Accessing data.\n",
    "\n",
    "- Manipulating data.\n",
    "\n",
    "- Visualizing data.\n",
    "\n",
    "First we import the packages we'll need."
   ]
  },
  {
   "cell_type": "code",
   "execution_count": 1,
   "id": "a22293a5",
   "metadata": {
    "execution": {
     "iopub.execute_input": "2024-02-17T09:25:55.093410Z",
     "iopub.status.busy": "2024-02-17T09:25:55.092714Z",
     "iopub.status.idle": "2024-02-17T09:25:56.364857Z",
     "shell.execute_reply": "2024-02-17T09:25:56.364258Z"
    },
    "tags": []
   },
   "outputs": [],
   "source": [
    "import numpy as np\n",
    "import matplotlib.pylab as plt\n",
    "\n",
    "import tidy3d as td\n",
    "import tidy3d.web as web\n"
   ]
  },
  {
   "cell_type": "markdown",
   "id": "cc1c1323",
   "metadata": {},
   "source": [
    "## Setup\n",
    "\n",
    "### Creating Simulation\n",
    "\n",
    "First, let's make a [Simulation](../api/_autosummary/tidy3d.Simulation.html) so we have data to plot.\n",
    "\n",
    "We will add each possible type of monitor into the simultion to explore their output data separately."
   ]
  },
  {
   "cell_type": "code",
   "execution_count": 2,
   "id": "61c49575",
   "metadata": {
    "execution": {
     "iopub.execute_input": "2024-02-17T09:25:56.367070Z",
     "iopub.status.busy": "2024-02-17T09:25:56.366782Z",
     "iopub.status.idle": "2024-02-17T09:25:56.391849Z",
     "shell.execute_reply": "2024-02-17T09:25:56.391322Z"
    },
    "tags": []
   },
   "outputs": [],
   "source": [
    "# simulation parameters\n",
    "Lx, Ly, Lz = 5, 5, 5\n",
    "min_steps_per_wvl = 32\n",
    "\n",
    "# monitor parameters\n",
    "freq0 = 2e14\n",
    "freqs = np.linspace(1e14, 3e14, 11)\n",
    "num_modes = 3\n",
    "\n",
    "simulation = td.Simulation(\n",
    "    size=(Lx, Ly, Lz),\n",
    "    grid_spec=td.GridSpec.auto(min_steps_per_wvl=min_steps_per_wvl),\n",
    "    run_time=4e-13,\n",
    "    boundary_spec=td.BoundarySpec.all_sides(boundary=td.PML()),\n",
    "    structures=[\n",
    "        td.Structure(\n",
    "            geometry=td.Box(center=(0, 0, 0), size=(10001, 1.4, 1.5)),\n",
    "            medium=td.Medium(permittivity=2),\n",
    "            name=\"waveguide\",\n",
    "        ),\n",
    "        td.Structure(\n",
    "            geometry=td.Box(center=(0, 0.5, 0.5), size=(1.5, 1.4, 1.5)),\n",
    "            medium=td.Medium(permittivity=2),\n",
    "            name=\"scatterer\",\n",
    "        ),\n",
    "    ],\n",
    "    sources=[\n",
    "        td.ModeSource(\n",
    "            source_time=td.GaussianPulse(freq0=freq0, fwidth=6e13),\n",
    "            center=(-2.0, 0.0, 0.0),\n",
    "            size=(0.0, 3, 3),\n",
    "            direction=\"+\",\n",
    "            mode_spec=td.ModeSpec(),\n",
    "            mode_index=0,\n",
    "        )\n",
    "    ],\n",
    "    monitors=[\n",
    "        td.FieldMonitor(\n",
    "            fields=[\"Ex\", \"Ey\", \"Ez\"],\n",
    "            size=(td.inf, 0, td.inf),\n",
    "            center=(0, 0, 0),\n",
    "            freqs=freqs,\n",
    "            name=\"field\",\n",
    "        ),\n",
    "        td.FieldTimeMonitor(\n",
    "            fields=[\"Ex\", \"Ey\", \"Ez\"],\n",
    "            size=(td.inf, 0, td.inf),\n",
    "            center=(0, 0, 0),\n",
    "            interval=200,\n",
    "            name=\"field_time\",\n",
    "        ),\n",
    "        td.FluxMonitor(size=(0, 3, 3), center=(2, 0, 0), freqs=freqs, name=\"flux\"),\n",
    "        td.FluxTimeMonitor(\n",
    "            size=(0, 3, 3), center=(2, 0, 0), interval=10, name=\"flux_time\"\n",
    "        ),\n",
    "        td.ModeMonitor(\n",
    "            size=(0, 3, 3),\n",
    "            center=(2, 0, 0),\n",
    "            freqs=freqs,\n",
    "            mode_spec=td.ModeSpec(num_modes=num_modes),\n",
    "            name=\"mode\",\n",
    "        ),\n",
    "    ],\n",
    ")\n"
   ]
  },
  {
   "cell_type": "code",
   "execution_count": 3,
   "id": "004348be",
   "metadata": {
    "execution": {
     "iopub.execute_input": "2024-02-17T09:25:56.393752Z",
     "iopub.status.busy": "2024-02-17T09:25:56.393580Z",
     "iopub.status.idle": "2024-02-17T09:25:56.411025Z",
     "shell.execute_reply": "2024-02-17T09:25:56.410673Z"
    },
    "tags": []
   },
   "outputs": [
    {
     "name": "stdout",
     "output_type": "stream",
     "text": [
      "monitor field requires 7.06e+06 bytes of storage.\n",
      "monitor field_time requires 1.06e+07 bytes of storage.\n",
      "monitor flux requires 4.40e+01 bytes of storage.\n",
      "monitor flux_time requires 2.65e+03 bytes of storage.\n",
      "monitor mode requires 7.92e+02 bytes of storage.\n"
     ]
    }
   ],
   "source": [
    "tmesh = simulation.tmesh\n",
    "\n",
    "total_size_bytes = 0\n",
    "for monitor in simulation.monitors:\n",
    "    monitor_grid = simulation.discretize(monitor)\n",
    "    num_cells = np.prod(monitor_grid.num_cells)\n",
    "    monitor_size = monitor.storage_size(num_cells=num_cells, tmesh=tmesh)\n",
    "    print(f\"monitor {monitor.name} requires {monitor_size:.2e} bytes of storage.\")\n"
   ]
  },
  {
   "cell_type": "markdown",
   "id": "e3748bef",
   "metadata": {},
   "source": [
    "### Visualize Geometry\n",
    "\n",
    "We've created a simple waveguide with a defect / scattering region defined using a [Box](../api/_autosummary/tidy3d.Box.html) geometry.\n",
    "\n",
    "A modal source is injected from the -x side of the simulation and we measure the mode amplitudes and flux at the +x side.\n",
    "\n",
    "We've also placed a couple field monitors to visualize the field patterns.\n",
    "\n",
    "Let's take a look at the geometry from a few cross sections."
   ]
  },
  {
   "cell_type": "code",
   "execution_count": 4,
   "id": "3f7e72a2",
   "metadata": {
    "execution": {
     "iopub.execute_input": "2024-02-17T09:25:56.412888Z",
     "iopub.status.busy": "2024-02-17T09:25:56.412710Z",
     "iopub.status.idle": "2024-02-17T09:25:56.762738Z",
     "shell.execute_reply": "2024-02-17T09:25:56.762232Z"
    },
    "tags": []
   },
   "outputs": [
    {
     "data": {
      "image/png": "[encoded data removed]",
      "text/plain": [
       "<Figure size 1400x400 with 3 Axes>"
      ]
     },
     "metadata": {},
     "output_type": "display_data"
    }
   ],
   "source": [
    "_, (ax1, ax2, ax3) = plt.subplots(1, 3, figsize=(14, 4))\n",
    "simulation.plot(x=0.0, ax=ax1)\n",
    "simulation.plot(y=0.01, ax=ax2)\n",
    "simulation.plot(z=0.01, ax=ax3)\n",
    "plt.show()\n"
   ]
  },
  {
   "cell_type": "markdown",
   "id": "db68e728",
   "metadata": {},
   "source": [
    "### Make normalization Simulation\n",
    "\n",
    "For purposes of demonstration, let's create another simulation without the scatterer, so we can compare what the data should look like for just the straight waveguide case.\n",
    "\n",
    "This is as simple as making a copy of the original simulation and removing the scatterer from the list of structures."
   ]
  },
  {
   "cell_type": "code",
   "execution_count": 5,
   "id": "bf9aedee",
   "metadata": {
    "execution": {
     "iopub.execute_input": "2024-02-17T09:25:56.764632Z",
     "iopub.status.busy": "2024-02-17T09:25:56.764447Z",
     "iopub.status.idle": "2024-02-17T09:25:56.786670Z",
     "shell.execute_reply": "2024-02-17T09:25:56.786095Z"
    },
    "tags": []
   },
   "outputs": [],
   "source": [
    "# get rid of scatterer for normalization\n",
    "simulation0 = simulation.copy(update=dict(structures=[simulation.structures[0]]))\n"
   ]
  },
  {
   "cell_type": "markdown",
   "id": "653a3b32",
   "metadata": {},
   "source": [
    "### Running simulations\n",
    "\n",
    "Now we will run both simulations and load them into [SimulationData](../api/_autosummary/tidy3d.SimulationData.html) objects.\n",
    "\n",
    "Since these will be a short and simple simulations, we can use the [web.run](../api/_autosummary/tidy3d.web.run.html) function to do them all in one line."
   ]
  },
  {
   "cell_type": "code",
   "execution_count": 6,
   "id": "bedb64a3",
   "metadata": {
    "execution": {
     "iopub.execute_input": "2024-02-17T09:25:56.788577Z",
     "iopub.status.busy": "2024-02-17T09:25:56.788405Z",
     "iopub.status.idle": "2024-02-17T09:26:38.682751Z",
     "shell.execute_reply": "2024-02-17T09:26:38.682245Z"
    },
    "tags": []
   },
   "outputs": [
    {
     "data": {
      "text/html": [
       "<pre style=\"white-space:pre;overflow-x:auto;line-height:normal;font-family:Menlo,'DejaVu Sans Mono',consolas,'Courier New',monospace\"><span style=\"color: #7fbfbf; text-decoration-color: #7fbfbf\">01:25:57 PST </span>Created task <span style=\"color: #008000; text-decoration-color: #008000\">'straight waveguide'</span> with task_id                     \n",
       "<span style=\"color: #7fbfbf; text-decoration-color: #7fbfbf\">             </span><span style=\"color: #008000; text-decoration-color: #008000\">'fdve-0fba39b4-b4be-4bee-80b2-5713402cca69'</span> and task_type <span style=\"color: #008000; text-decoration-color: #008000\">'FDTD'</span>.  \n",
       "</pre>\n"
      ],
      "text/plain": [
       "\u001b[2;36m01:25:57 PST\u001b[0m\u001b[2;36m \u001b[0mCreated task \u001b[32m'straight waveguide'\u001b[0m with task_id                     \n",
       "\u001b[2;36m             \u001b[0m\u001b[32m'fdve-0fba39b4-b4be-4bee-80b2-5713402cca69'\u001b[0m and task_type \u001b[32m'FDTD'\u001b[0m.  \n"
      ]
     },
     "metadata": {},
     "output_type": "display_data"
    },
    {
     "data": {
      "text/html": [
       "<pre style=\"white-space:pre;overflow-x:auto;line-height:normal;font-family:Menlo,'DejaVu Sans Mono',consolas,'Courier New',monospace\"><span style=\"color: #7fbfbf; text-decoration-color: #7fbfbf\">             </span>View task using web UI at                                          \n",
       "<span style=\"color: #7fbfbf; text-decoration-color: #7fbfbf\">             </span><a href=\"https://tidy3d.simulation.cloud/workbench?taskId=fdve-0fba39b4-b4be-4bee-80b2-5713402cca69\" target=\"_blank\"><span style=\"color: #008000; text-decoration-color: #008000\">'https://tidy3d.simulation.cloud/workbench?taskId=fdve-0fba39b4-b4b</span></a>\n",
       "<span style=\"color: #7fbfbf; text-decoration-color: #7fbfbf\">             </span><a href=\"https://tidy3d.simulation.cloud/workbench?taskId=fdve-0fba39b4-b4be-4bee-80b2-5713402cca69\" target=\"_blank\"><span style=\"color: #008000; text-decoration-color: #008000\">e-4bee-80b2-5713402cca69'</span></a>.                                         \n",
       "</pre>\n"
      ],
      "text/plain": [
       "\u001b[2;36m            \u001b[0m\u001b[2;36m \u001b[0mView task using web UI at                                          \n",
       "\u001b[2;36m             \u001b[0m\u001b]8;id=510509;https://tidy3d.simulation.cloud/workbench?taskId=fdve-0fba39b4-b4be-4bee-80b2-5713402cca69\u001b\\\u001b[32m'https://tidy3d.simulation.cloud/workbench?\u001b[0m\u001b]8;;\u001b\\\u001b]8;id=525792;https://tidy3d.simulation.cloud/workbench?taskId=fdve-0fba39b4-b4be-4bee-80b2-5713402cca69\u001b\\\u001b[32mtaskId\u001b[0m\u001b]8;;\u001b\\\u001b]8;id=510509;https://tidy3d.simulation.cloud/workbench?taskId=fdve-0fba39b4-b4be-4bee-80b2-5713402cca69\u001b\\\u001b[32m=\u001b[0m\u001b]8;;\u001b\\\u001b]8;id=548290;https://tidy3d.simulation.cloud/workbench?taskId=fdve-0fba39b4-b4be-4bee-80b2-5713402cca69\u001b\\\u001b[32mfdve\u001b[0m\u001b]8;;\u001b\\\u001b]8;id=510509;https://tidy3d.simulation.cloud/workbench?taskId=fdve-0fba39b4-b4be-4bee-80b2-5713402cca69\u001b\\\u001b[32m-0fba39b4-b4b\u001b[0m\u001b]8;;\u001b\\\n",
       "\u001b[2;36m             \u001b[0m\u001b]8;id=510509;https://tidy3d.simulation.cloud/workbench?taskId=fdve-0fba39b4-b4be-4bee-80b2-5713402cca69\u001b\\\u001b[32me-4bee-80b2-5713402cca69'\u001b[0m\u001b]8;;\u001b\\.                                         \n"
      ]
     },
     "metadata": {},
     "output_type": "display_data"
    },
    {
     "data": {
      "application/vnd.jupyter.widget-view+json": {
       "model_id": "6798f31f8bd34c65810960b5871b601c",
       "version_major": 2,
       "version_minor": 0
      },
      "text/plain": [
       "Output()"
      ]
     },
     "metadata": {},
     "output_type": "display_data"
    },
    {
     "data": {
      "text/html": [
       "<pre style=\"white-space:pre;overflow-x:auto;line-height:normal;font-family:Menlo,'DejaVu Sans Mono',consolas,'Courier New',monospace\"></pre>\n"
      ],
      "text/plain": []
     },
     "metadata": {},
     "output_type": "display_data"
    },
    {
     "data": {
      "text/html": [
       "<pre style=\"white-space:pre;overflow-x:auto;line-height:normal;font-family:Menlo,'DejaVu Sans Mono',consolas,'Courier New',monospace\">\n",
       "</pre>\n"
      ],
      "text/plain": [
       "\n"
      ]
     },
     "metadata": {},
     "output_type": "display_data"
    },
    {
     "data": {
      "text/html": [
       "<pre style=\"white-space:pre;overflow-x:auto;line-height:normal;font-family:Menlo,'DejaVu Sans Mono',consolas,'Courier New',monospace\"><span style=\"color: #7fbfbf; text-decoration-color: #7fbfbf\">01:25:58 PST </span>status = queued                                                    \n",
       "</pre>\n"
      ],
      "text/plain": [
       "\u001b[2;36m01:25:58 PST\u001b[0m\u001b[2;36m \u001b[0mstatus = queued                                                    \n"
      ]
     },
     "metadata": {},
     "output_type": "display_data"
    },
    {
     "data": {
      "application/vnd.jupyter.widget-view+json": {
       "model_id": "998152fe126f4f168c61028d2947e1ec",
       "version_major": 2,
       "version_minor": 0
      },
      "text/plain": [
       "Output()"
      ]
     },
     "metadata": {},
     "output_type": "display_data"
    },
    {
     "data": {
      "text/html": [
       "<pre style=\"white-space:pre;overflow-x:auto;line-height:normal;font-family:Menlo,'DejaVu Sans Mono',consolas,'Courier New',monospace\"><span style=\"color: #7fbfbf; text-decoration-color: #7fbfbf\">01:26:03 PST </span>status = preprocess                                                \n",
       "</pre>\n"
      ],
      "text/plain": [
       "\u001b[2;36m01:26:03 PST\u001b[0m\u001b[2;36m \u001b[0mstatus = preprocess                                                \n"
      ]
     },
     "metadata": {},
     "output_type": "display_data"
    },
    {
     "data": {
      "text/html": [
       "<pre style=\"white-space:pre;overflow-x:auto;line-height:normal;font-family:Menlo,'DejaVu Sans Mono',consolas,'Courier New',monospace\"></pre>\n"
      ],
      "text/plain": []
     },
     "metadata": {},
     "output_type": "display_data"
    },
    {
     "data": {
      "text/html": [
       "<pre style=\"white-space:pre;overflow-x:auto;line-height:normal;font-family:Menlo,'DejaVu Sans Mono',consolas,'Courier New',monospace\"><span style=\"color: #7fbfbf; text-decoration-color: #7fbfbf\">01:26:05 PST </span>Maximum FlexCredit cost: <span style=\"color: #008080; text-decoration-color: #008080; font-weight: bold\">0.025</span>. Use <span style=\"color: #008000; text-decoration-color: #008000\">'web.real_cost(task_id)'</span> to get\n",
       "<span style=\"color: #7fbfbf; text-decoration-color: #7fbfbf\">             </span>the billed FlexCredit cost after a simulation run.                 \n",
       "</pre>\n"
      ],
      "text/plain": [
       "\u001b[2;36m01:26:05 PST\u001b[0m\u001b[2;36m \u001b[0mMaximum FlexCredit cost: \u001b[1;36m0.025\u001b[0m. Use \u001b[32m'web.real_cost\u001b[0m\u001b[32m(\u001b[0m\u001b[32mtask_id\u001b[0m\u001b[32m)\u001b[0m\u001b[32m'\u001b[0m to get\n",
       "\u001b[2;36m             \u001b[0mthe billed FlexCredit cost after a simulation run.                 \n"
      ]
     },
     "metadata": {},
     "output_type": "display_data"
    },
    {
     "data": {
      "text/html": [
       "<pre style=\"white-space:pre;overflow-x:auto;line-height:normal;font-family:Menlo,'DejaVu Sans Mono',consolas,'Courier New',monospace\"><span style=\"color: #7fbfbf; text-decoration-color: #7fbfbf\">             </span>starting up solver                                                 \n",
       "</pre>\n"
      ],
      "text/plain": [
       "\u001b[2;36m            \u001b[0m\u001b[2;36m \u001b[0mstarting up solver                                                 \n"
      ]
     },
     "metadata": {},
     "output_type": "display_data"
    },
    {
     "data": {
      "text/html": [
       "<pre style=\"white-space:pre;overflow-x:auto;line-height:normal;font-family:Menlo,'DejaVu Sans Mono',consolas,'Courier New',monospace\"><span style=\"color: #7fbfbf; text-decoration-color: #7fbfbf\">             </span>running solver                                                     \n",
       "</pre>\n"
      ],
      "text/plain": [
       "\u001b[2;36m            \u001b[0m\u001b[2;36m \u001b[0mrunning solver                                                     \n"
      ]
     },
     "metadata": {},
     "output_type": "display_data"
    },
    {
     "data": {
      "text/html": [
       "<pre style=\"white-space:pre;overflow-x:auto;line-height:normal;font-family:Menlo,'DejaVu Sans Mono',consolas,'Courier New',monospace\"><span style=\"color: #7fbfbf; text-decoration-color: #7fbfbf\">             </span>To cancel the simulation, use <span style=\"color: #008000; text-decoration-color: #008000\">'web.abort(task_id)'</span> or              \n",
       "<span style=\"color: #7fbfbf; text-decoration-color: #7fbfbf\">             </span><span style=\"color: #008000; text-decoration-color: #008000\">'web.delete(task_id)'</span> or abort/delete the task in the web UI.      \n",
       "<span style=\"color: #7fbfbf; text-decoration-color: #7fbfbf\">             </span>Terminating the Python script will not stop the job running on the \n",
       "<span style=\"color: #7fbfbf; text-decoration-color: #7fbfbf\">             </span>cloud.                                                             \n",
       "</pre>\n"
      ],
      "text/plain": [
       "\u001b[2;36m            \u001b[0m\u001b[2;36m \u001b[0mTo cancel the simulation, use \u001b[32m'web.abort\u001b[0m\u001b[32m(\u001b[0m\u001b[32mtask_id\u001b[0m\u001b[32m)\u001b[0m\u001b[32m'\u001b[0m or              \n",
       "\u001b[2;36m             \u001b[0m\u001b[32m'web.delete\u001b[0m\u001b[32m(\u001b[0m\u001b[32mtask_id\u001b[0m\u001b[32m)\u001b[0m\u001b[32m'\u001b[0m or abort/delete the task in the web UI.      \n",
       "\u001b[2;36m             \u001b[0mTerminating the Python script will not stop the job running on the \n",
       "\u001b[2;36m             \u001b[0mcloud.                                                             \n"
      ]
     },
     "metadata": {},
     "output_type": "display_data"
    },
    {
     "data": {
      "application/vnd.jupyter.widget-view+json": {
       "model_id": "64bfb87bbdce4d6ea5a4741b6111b214",
       "version_major": 2,
       "version_minor": 0
      },
      "text/plain": [
       "Output()"
      ]
     },
     "metadata": {},
     "output_type": "display_data"
    },
    {
     "data": {
      "text/html": [
       "<pre style=\"white-space:pre;overflow-x:auto;line-height:normal;font-family:Menlo,'DejaVu Sans Mono',consolas,'Courier New',monospace\"><span style=\"color: #7fbfbf; text-decoration-color: #7fbfbf\">01:26:12 PST </span>early shutoff detected at <span style=\"color: #008080; text-decoration-color: #008080; font-weight: bold\">12</span>%, exiting.                            \n",
       "</pre>\n"
      ],
      "text/plain": [
       "\u001b[2;36m01:26:12 PST\u001b[0m\u001b[2;36m \u001b[0mearly shutoff detected at \u001b[1;36m12\u001b[0m%, exiting.                            \n"
      ]
     },
     "metadata": {},
     "output_type": "display_data"
    },
    {
     "data": {
      "text/html": [
       "<pre style=\"white-space:pre;overflow-x:auto;line-height:normal;font-family:Menlo,'DejaVu Sans Mono',consolas,'Courier New',monospace\"></pre>\n"
      ],
      "text/plain": []
     },
     "metadata": {},
     "output_type": "display_data"
    },
    {
     "data": {
      "text/html": [
       "<pre style=\"white-space:pre;overflow-x:auto;line-height:normal;font-family:Menlo,'DejaVu Sans Mono',consolas,'Courier New',monospace\">\n",
       "</pre>\n"
      ],
      "text/plain": [
       "\n"
      ]
     },
     "metadata": {},
     "output_type": "display_data"
    },
    {
     "data": {
      "text/html": [
       "<pre style=\"white-space:pre;overflow-x:auto;line-height:normal;font-family:Menlo,'DejaVu Sans Mono',consolas,'Courier New',monospace\"><span style=\"color: #7fbfbf; text-decoration-color: #7fbfbf\">             </span>status = postprocess                                               \n",
       "</pre>\n"
      ],
      "text/plain": [
       "\u001b[2;36m            \u001b[0m\u001b[2;36m \u001b[0mstatus = postprocess                                               \n"
      ]
     },
     "metadata": {},
     "output_type": "display_data"
    },
    {
     "data": {
      "application/vnd.jupyter.widget-view+json": {
       "model_id": "ada818607f0341968bdca0c13c867200",
       "version_major": 2,
       "version_minor": 0
      },
      "text/plain": [
       "Output()"
      ]
     },
     "metadata": {},
     "output_type": "display_data"
    },
    {
     "data": {
      "text/html": [
       "<pre style=\"white-space:pre;overflow-x:auto;line-height:normal;font-family:Menlo,'DejaVu Sans Mono',consolas,'Courier New',monospace\"><span style=\"color: #7fbfbf; text-decoration-color: #7fbfbf\">01:26:15 PST </span>status = success                                                   \n",
       "</pre>\n"
      ],
      "text/plain": [
       "\u001b[2;36m01:26:15 PST\u001b[0m\u001b[2;36m \u001b[0mstatus = success                                                   \n"
      ]
     },
     "metadata": {},
     "output_type": "display_data"
    },
    {
     "data": {
      "text/html": [
       "<pre style=\"white-space:pre;overflow-x:auto;line-height:normal;font-family:Menlo,'DejaVu Sans Mono',consolas,'Courier New',monospace\"></pre>\n"
      ],
      "text/plain": []
     },
     "metadata": {},
     "output_type": "display_data"
    },
    {
     "data": {
      "text/html": [
       "<pre style=\"white-space:pre;overflow-x:auto;line-height:normal;font-family:Menlo,'DejaVu Sans Mono',consolas,'Courier New',monospace\"><span style=\"color: #7fbfbf; text-decoration-color: #7fbfbf\">             </span>View simulation result at                                          \n",
       "<span style=\"color: #7fbfbf; text-decoration-color: #7fbfbf\">             </span><a href=\"https://tidy3d.simulation.cloud/workbench?taskId=fdve-0fba39b4-b4be-4bee-80b2-5713402cca69\" target=\"_blank\"><span style=\"color: #000080; text-decoration-color: #000080; text-decoration: underline\">'https://tidy3d.simulation.cloud/workbench?taskId=fdve-0fba39b4-b4b</span></a>\n",
       "<span style=\"color: #7fbfbf; text-decoration-color: #7fbfbf\">             </span><a href=\"https://tidy3d.simulation.cloud/workbench?taskId=fdve-0fba39b4-b4be-4bee-80b2-5713402cca69\" target=\"_blank\"><span style=\"color: #000080; text-decoration-color: #000080; text-decoration: underline\">e-4bee-80b2-5713402cca69'</span></a><span style=\"color: #000080; text-decoration-color: #000080; text-decoration: underline\">.</span>                                         \n",
       "</pre>\n"
      ],
      "text/plain": [
       "\u001b[2;36m            \u001b[0m\u001b[2;36m \u001b[0mView simulation result at                                          \n",
       "\u001b[2;36m             \u001b[0m\u001b]8;id=275170;https://tidy3d.simulation.cloud/workbench?taskId=fdve-0fba39b4-b4be-4bee-80b2-5713402cca69\u001b\\\u001b[4;34m'https://tidy3d.simulation.cloud/workbench?\u001b[0m\u001b]8;;\u001b\\\u001b]8;id=51598;https://tidy3d.simulation.cloud/workbench?taskId=fdve-0fba39b4-b4be-4bee-80b2-5713402cca69\u001b\\\u001b[4;34mtaskId\u001b[0m\u001b]8;;\u001b\\\u001b]8;id=275170;https://tidy3d.simulation.cloud/workbench?taskId=fdve-0fba39b4-b4be-4bee-80b2-5713402cca69\u001b\\\u001b[4;34m=\u001b[0m\u001b]8;;\u001b\\\u001b]8;id=796941;https://tidy3d.simulation.cloud/workbench?taskId=fdve-0fba39b4-b4be-4bee-80b2-5713402cca69\u001b\\\u001b[4;34mfdve\u001b[0m\u001b]8;;\u001b\\\u001b]8;id=275170;https://tidy3d.simulation.cloud/workbench?taskId=fdve-0fba39b4-b4be-4bee-80b2-5713402cca69\u001b\\\u001b[4;34m-0fba39b4-b4b\u001b[0m\u001b]8;;\u001b\\\n",
       "\u001b[2;36m             \u001b[0m\u001b]8;id=275170;https://tidy3d.simulation.cloud/workbench?taskId=fdve-0fba39b4-b4be-4bee-80b2-5713402cca69\u001b\\\u001b[4;34me-4bee-80b2-5713402cca69'\u001b[0m\u001b]8;;\u001b\\\u001b[4;34m.\u001b[0m                                         \n"
      ]
     },
     "metadata": {},
     "output_type": "display_data"
    },
    {
     "data": {
      "application/vnd.jupyter.widget-view+json": {
       "model_id": "05ba425a5ada4ae085c1c8a9ae839fbe",
       "version_major": 2,
       "version_minor": 0
      },
      "text/plain": [
       "Output()"
      ]
     },
     "metadata": {},
     "output_type": "display_data"
    },
    {
     "data": {
      "text/html": [
       "<pre style=\"white-space:pre;overflow-x:auto;line-height:normal;font-family:Menlo,'DejaVu Sans Mono',consolas,'Courier New',monospace\"></pre>\n"
      ],
      "text/plain": []
     },
     "metadata": {},
     "output_type": "display_data"
    },
    {
     "data": {
      "text/html": [
       "<pre style=\"white-space:pre;overflow-x:auto;line-height:normal;font-family:Menlo,'DejaVu Sans Mono',consolas,'Courier New',monospace\">\n",
       "</pre>\n"
      ],
      "text/plain": [
       "\n"
      ]
     },
     "metadata": {},
     "output_type": "display_data"
    },
    {
     "data": {
      "text/html": [
       "<pre style=\"white-space:pre;overflow-x:auto;line-height:normal;font-family:Menlo,'DejaVu Sans Mono',consolas,'Courier New',monospace\"><span style=\"color: #7fbfbf; text-decoration-color: #7fbfbf\">01:26:16 PST </span>loading simulation from data/simulation0.hdf5                      \n",
       "</pre>\n"
      ],
      "text/plain": [
       "\u001b[2;36m01:26:16 PST\u001b[0m\u001b[2;36m \u001b[0mloading simulation from data/simulation0.hdf5                      \n"
      ]
     },
     "metadata": {},
     "output_type": "display_data"
    },
    {
     "data": {
      "text/html": [
       "<pre style=\"white-space:pre;overflow-x:auto;line-height:normal;font-family:Menlo,'DejaVu Sans Mono',consolas,'Courier New',monospace\"><span style=\"color: #7fbfbf; text-decoration-color: #7fbfbf\">             </span><span style=\"color: #800000; text-decoration-color: #800000\">WARNING: Monitor data requires </span><span style=\"color: #008000; text-decoration-color: #008000\">'grid_expanded'</span><span style=\"color: #800000; text-decoration-color: #800000\"> to be defined to    </span>\n",
       "<span style=\"color: #7fbfbf; text-decoration-color: #7fbfbf\">             </span><span style=\"color: #800000; text-decoration-color: #800000\">compute values like flux, Poynting and dot product with other data.</span>\n",
       "</pre>\n"
      ],
      "text/plain": [
       "\u001b[2;36m            \u001b[0m\u001b[2;36m \u001b[0m\u001b[31mWARNING: Monitor data requires \u001b[0m\u001b[32m'grid_expanded'\u001b[0m\u001b[31m to be defined to    \u001b[0m\n",
       "\u001b[2;36m             \u001b[0m\u001b[31mcompute values like flux, Poynting and dot product with other data.\u001b[0m\n"
      ]
     },
     "metadata": {},
     "output_type": "display_data"
    },
    {
     "data": {
      "text/html": [
       "<pre style=\"white-space:pre;overflow-x:auto;line-height:normal;font-family:Menlo,'DejaVu Sans Mono',consolas,'Courier New',monospace\"><span style=\"color: #7fbfbf; text-decoration-color: #7fbfbf\">01:26:17 PST </span>Created task <span style=\"color: #008000; text-decoration-color: #008000\">'scattered waveguide'</span> with task_id                    \n",
       "<span style=\"color: #7fbfbf; text-decoration-color: #7fbfbf\">             </span><span style=\"color: #008000; text-decoration-color: #008000\">'fdve-94e3d8b4-d444-47df-bf19-b1a9230627ad'</span> and task_type <span style=\"color: #008000; text-decoration-color: #008000\">'FDTD'</span>.  \n",
       "</pre>\n"
      ],
      "text/plain": [
       "\u001b[2;36m01:26:17 PST\u001b[0m\u001b[2;36m \u001b[0mCreated task \u001b[32m'scattered waveguide'\u001b[0m with task_id                    \n",
       "\u001b[2;36m             \u001b[0m\u001b[32m'fdve-94e3d8b4-d444-47df-bf19-b1a9230627ad'\u001b[0m and task_type \u001b[32m'FDTD'\u001b[0m.  \n"
      ]
     },
     "metadata": {},
     "output_type": "display_data"
    },
    {
     "data": {
      "text/html": [
       "<pre style=\"white-space:pre;overflow-x:auto;line-height:normal;font-family:Menlo,'DejaVu Sans Mono',consolas,'Courier New',monospace\"><span style=\"color: #7fbfbf; text-decoration-color: #7fbfbf\">             </span>View task using web UI at                                          \n",
       "<span style=\"color: #7fbfbf; text-decoration-color: #7fbfbf\">             </span><a href=\"https://tidy3d.simulation.cloud/workbench?taskId=fdve-94e3d8b4-d444-47df-bf19-b1a9230627ad\" target=\"_blank\"><span style=\"color: #008000; text-decoration-color: #008000\">'https://tidy3d.simulation.cloud/workbench?taskId=fdve-94e3d8b4-d44</span></a>\n",
       "<span style=\"color: #7fbfbf; text-decoration-color: #7fbfbf\">             </span><a href=\"https://tidy3d.simulation.cloud/workbench?taskId=fdve-94e3d8b4-d444-47df-bf19-b1a9230627ad\" target=\"_blank\"><span style=\"color: #008000; text-decoration-color: #008000\">4-47df-bf19-b1a9230627ad'</span></a>.                                         \n",
       "</pre>\n"
      ],
      "text/plain": [
       "\u001b[2;36m            \u001b[0m\u001b[2;36m \u001b[0mView task using web UI at                                          \n",
       "\u001b[2;36m             \u001b[0m\u001b]8;id=943958;https://tidy3d.simulation.cloud/workbench?taskId=fdve-94e3d8b4-d444-47df-bf19-b1a9230627ad\u001b\\\u001b[32m'https://tidy3d.simulation.cloud/workbench?\u001b[0m\u001b]8;;\u001b\\\u001b]8;id=907003;https://tidy3d.simulation.cloud/workbench?taskId=fdve-94e3d8b4-d444-47df-bf19-b1a9230627ad\u001b\\\u001b[32mtaskId\u001b[0m\u001b]8;;\u001b\\\u001b]8;id=943958;https://tidy3d.simulation.cloud/workbench?taskId=fdve-94e3d8b4-d444-47df-bf19-b1a9230627ad\u001b\\\u001b[32m=\u001b[0m\u001b]8;;\u001b\\\u001b]8;id=385715;https://tidy3d.simulation.cloud/workbench?taskId=fdve-94e3d8b4-d444-47df-bf19-b1a9230627ad\u001b\\\u001b[32mfdve\u001b[0m\u001b]8;;\u001b\\\u001b]8;id=943958;https://tidy3d.simulation.cloud/workbench?taskId=fdve-94e3d8b4-d444-47df-bf19-b1a9230627ad\u001b\\\u001b[32m-94e3d8b4-d44\u001b[0m\u001b]8;;\u001b\\\n",
       "\u001b[2;36m             \u001b[0m\u001b]8;id=943958;https://tidy3d.simulation.cloud/workbench?taskId=fdve-94e3d8b4-d444-47df-bf19-b1a9230627ad\u001b\\\u001b[32m4-47df-bf19-b1a9230627ad'\u001b[0m\u001b]8;;\u001b\\.                                         \n"
      ]
     },
     "metadata": {},
     "output_type": "display_data"
    },
    {
     "data": {
      "application/vnd.jupyter.widget-view+json": {
       "model_id": "f39a5fbe32ce4db5bd281a73c9e46c32",
       "version_major": 2,
       "version_minor": 0
      },
      "text/plain": [
       "Output()"
      ]
     },
     "metadata": {},
     "output_type": "display_data"
    },
    {
     "data": {
      "text/html": [
       "<pre style=\"white-space:pre;overflow-x:auto;line-height:normal;font-family:Menlo,'DejaVu Sans Mono',consolas,'Courier New',monospace\"></pre>\n"
      ],
      "text/plain": []
     },
     "metadata": {},
     "output_type": "display_data"
    },
    {
     "data": {
      "text/html": [
       "<pre style=\"white-space:pre;overflow-x:auto;line-height:normal;font-family:Menlo,'DejaVu Sans Mono',consolas,'Courier New',monospace\">\n",
       "</pre>\n"
      ],
      "text/plain": [
       "\n"
      ]
     },
     "metadata": {},
     "output_type": "display_data"
    },
    {
     "data": {
      "text/html": [
       "<pre style=\"white-space:pre;overflow-x:auto;line-height:normal;font-family:Menlo,'DejaVu Sans Mono',consolas,'Courier New',monospace\"><span style=\"color: #7fbfbf; text-decoration-color: #7fbfbf\">01:26:18 PST </span>status = queued                                                    \n",
       "</pre>\n"
      ],
      "text/plain": [
       "\u001b[2;36m01:26:18 PST\u001b[0m\u001b[2;36m \u001b[0mstatus = queued                                                    \n"
      ]
     },
     "metadata": {},
     "output_type": "display_data"
    },
    {
     "data": {
      "application/vnd.jupyter.widget-view+json": {
       "model_id": "876fa22401bc4fbb999b070241afda99",
       "version_major": 2,
       "version_minor": 0
      },
      "text/plain": [
       "Output()"
      ]
     },
     "metadata": {},
     "output_type": "display_data"
    },
    {
     "data": {
      "text/html": [
       "<pre style=\"white-space:pre;overflow-x:auto;line-height:normal;font-family:Menlo,'DejaVu Sans Mono',consolas,'Courier New',monospace\"><span style=\"color: #7fbfbf; text-decoration-color: #7fbfbf\">01:26:23 PST </span>status = preprocess                                                \n",
       "</pre>\n"
      ],
      "text/plain": [
       "\u001b[2;36m01:26:23 PST\u001b[0m\u001b[2;36m \u001b[0mstatus = preprocess                                                \n"
      ]
     },
     "metadata": {},
     "output_type": "display_data"
    },
    {
     "data": {
      "text/html": [
       "<pre style=\"white-space:pre;overflow-x:auto;line-height:normal;font-family:Menlo,'DejaVu Sans Mono',consolas,'Courier New',monospace\"></pre>\n"
      ],
      "text/plain": []
     },
     "metadata": {},
     "output_type": "display_data"
    },
    {
     "data": {
      "text/html": [
       "<pre style=\"white-space:pre;overflow-x:auto;line-height:normal;font-family:Menlo,'DejaVu Sans Mono',consolas,'Courier New',monospace\"><span style=\"color: #7fbfbf; text-decoration-color: #7fbfbf\">01:26:25 PST </span>Maximum FlexCredit cost: <span style=\"color: #008080; text-decoration-color: #008080; font-weight: bold\">0.025</span>. Use <span style=\"color: #008000; text-decoration-color: #008000\">'web.real_cost(task_id)'</span> to get\n",
       "<span style=\"color: #7fbfbf; text-decoration-color: #7fbfbf\">             </span>the billed FlexCredit cost after a simulation run.                 \n",
       "</pre>\n"
      ],
      "text/plain": [
       "\u001b[2;36m01:26:25 PST\u001b[0m\u001b[2;36m \u001b[0mMaximum FlexCredit cost: \u001b[1;36m0.025\u001b[0m. Use \u001b[32m'web.real_cost\u001b[0m\u001b[32m(\u001b[0m\u001b[32mtask_id\u001b[0m\u001b[32m)\u001b[0m\u001b[32m'\u001b[0m to get\n",
       "\u001b[2;36m             \u001b[0mthe billed FlexCredit cost after a simulation run.                 \n"
      ]
     },
     "metadata": {},
     "output_type": "display_data"
    },
    {
     "data": {
      "text/html": [
       "<pre style=\"white-space:pre;overflow-x:auto;line-height:normal;font-family:Menlo,'DejaVu Sans Mono',consolas,'Courier New',monospace\"><span style=\"color: #7fbfbf; text-decoration-color: #7fbfbf\">             </span>starting up solver                                                 \n",
       "</pre>\n"
      ],
      "text/plain": [
       "\u001b[2;36m            \u001b[0m\u001b[2;36m \u001b[0mstarting up solver                                                 \n"
      ]
     },
     "metadata": {},
     "output_type": "display_data"
    },
    {
     "data": {
      "text/html": [
       "<pre style=\"white-space:pre;overflow-x:auto;line-height:normal;font-family:Menlo,'DejaVu Sans Mono',consolas,'Courier New',monospace\"><span style=\"color: #7fbfbf; text-decoration-color: #7fbfbf\">             </span>running solver                                                     \n",
       "</pre>\n"
      ],
      "text/plain": [
       "\u001b[2;36m            \u001b[0m\u001b[2;36m \u001b[0mrunning solver                                                     \n"
      ]
     },
     "metadata": {},
     "output_type": "display_data"
    },
    {
     "data": {
      "text/html": [
       "<pre style=\"white-space:pre;overflow-x:auto;line-height:normal;font-family:Menlo,'DejaVu Sans Mono',consolas,'Courier New',monospace\"><span style=\"color: #7fbfbf; text-decoration-color: #7fbfbf\">             </span>To cancel the simulation, use <span style=\"color: #008000; text-decoration-color: #008000\">'web.abort(task_id)'</span> or              \n",
       "<span style=\"color: #7fbfbf; text-decoration-color: #7fbfbf\">             </span><span style=\"color: #008000; text-decoration-color: #008000\">'web.delete(task_id)'</span> or abort/delete the task in the web UI.      \n",
       "<span style=\"color: #7fbfbf; text-decoration-color: #7fbfbf\">             </span>Terminating the Python script will not stop the job running on the \n",
       "<span style=\"color: #7fbfbf; text-decoration-color: #7fbfbf\">             </span>cloud.                                                             \n",
       "</pre>\n"
      ],
      "text/plain": [
       "\u001b[2;36m            \u001b[0m\u001b[2;36m \u001b[0mTo cancel the simulation, use \u001b[32m'web.abort\u001b[0m\u001b[32m(\u001b[0m\u001b[32mtask_id\u001b[0m\u001b[32m)\u001b[0m\u001b[32m'\u001b[0m or              \n",
       "\u001b[2;36m             \u001b[0m\u001b[32m'web.delete\u001b[0m\u001b[32m(\u001b[0m\u001b[32mtask_id\u001b[0m\u001b[32m)\u001b[0m\u001b[32m'\u001b[0m or abort/delete the task in the web UI.      \n",
       "\u001b[2;36m             \u001b[0mTerminating the Python script will not stop the job running on the \n",
       "\u001b[2;36m             \u001b[0mcloud.                                                             \n"
      ]
     },
     "metadata": {},
     "output_type": "display_data"
    },
    {
     "data": {
      "application/vnd.jupyter.widget-view+json": {
       "model_id": "a88da575d4714986a94f0c2e841e6c17",
       "version_major": 2,
       "version_minor": 0
      },
      "text/plain": [
       "Output()"
      ]
     },
     "metadata": {},
     "output_type": "display_data"
    },
    {
     "data": {
      "text/html": [
       "<pre style=\"white-space:pre;overflow-x:auto;line-height:normal;font-family:Menlo,'DejaVu Sans Mono',consolas,'Courier New',monospace\"><span style=\"color: #7fbfbf; text-decoration-color: #7fbfbf\">01:26:32 PST </span>early shutoff detected at <span style=\"color: #008080; text-decoration-color: #008080; font-weight: bold\">16</span>%, exiting.                            \n",
       "</pre>\n"
      ],
      "text/plain": [
       "\u001b[2;36m01:26:32 PST\u001b[0m\u001b[2;36m \u001b[0mearly shutoff detected at \u001b[1;36m16\u001b[0m%, exiting.                            \n"
      ]
     },
     "metadata": {},
     "output_type": "display_data"
    },
    {
     "data": {
      "text/html": [
       "<pre style=\"white-space:pre;overflow-x:auto;line-height:normal;font-family:Menlo,'DejaVu Sans Mono',consolas,'Courier New',monospace\"></pre>\n"
      ],
      "text/plain": []
     },
     "metadata": {},
     "output_type": "display_data"
    },
    {
     "data": {
      "text/html": [
       "<pre style=\"white-space:pre;overflow-x:auto;line-height:normal;font-family:Menlo,'DejaVu Sans Mono',consolas,'Courier New',monospace\">\n",
       "</pre>\n"
      ],
      "text/plain": [
       "\n"
      ]
     },
     "metadata": {},
     "output_type": "display_data"
    },
    {
     "data": {
      "text/html": [
       "<pre style=\"white-space:pre;overflow-x:auto;line-height:normal;font-family:Menlo,'DejaVu Sans Mono',consolas,'Courier New',monospace\"><span style=\"color: #7fbfbf; text-decoration-color: #7fbfbf\">             </span>status = postprocess                                               \n",
       "</pre>\n"
      ],
      "text/plain": [
       "\u001b[2;36m            \u001b[0m\u001b[2;36m \u001b[0mstatus = postprocess                                               \n"
      ]
     },
     "metadata": {},
     "output_type": "display_data"
    },
    {
     "data": {
      "application/vnd.jupyter.widget-view+json": {
       "model_id": "4618ac7e071243c19de38de3838511fb",
       "version_major": 2,
       "version_minor": 0
      },
      "text/plain": [
       "Output()"
      ]
     },
     "metadata": {},
     "output_type": "display_data"
    },
    {
     "data": {
      "text/html": [
       "<pre style=\"white-space:pre;overflow-x:auto;line-height:normal;font-family:Menlo,'DejaVu Sans Mono',consolas,'Courier New',monospace\"><span style=\"color: #7fbfbf; text-decoration-color: #7fbfbf\">01:26:37 PST </span>status = success                                                   \n",
       "</pre>\n"
      ],
      "text/plain": [
       "\u001b[2;36m01:26:37 PST\u001b[0m\u001b[2;36m \u001b[0mstatus = success                                                   \n"
      ]
     },
     "metadata": {},
     "output_type": "display_data"
    },
    {
     "data": {
      "text/html": [
       "<pre style=\"white-space:pre;overflow-x:auto;line-height:normal;font-family:Menlo,'DejaVu Sans Mono',consolas,'Courier New',monospace\"></pre>\n"
      ],
      "text/plain": []
     },
     "metadata": {},
     "output_type": "display_data"
    },
    {
     "data": {
      "text/html": [
       "<pre style=\"white-space:pre;overflow-x:auto;line-height:normal;font-family:Menlo,'DejaVu Sans Mono',consolas,'Courier New',monospace\"><span style=\"color: #7fbfbf; text-decoration-color: #7fbfbf\">             </span>View simulation result at                                          \n",
       "<span style=\"color: #7fbfbf; text-decoration-color: #7fbfbf\">             </span><a href=\"https://tidy3d.simulation.cloud/workbench?taskId=fdve-94e3d8b4-d444-47df-bf19-b1a9230627ad\" target=\"_blank\"><span style=\"color: #000080; text-decoration-color: #000080; text-decoration: underline\">'https://tidy3d.simulation.cloud/workbench?taskId=fdve-94e3d8b4-d44</span></a>\n",
       "<span style=\"color: #7fbfbf; text-decoration-color: #7fbfbf\">             </span><a href=\"https://tidy3d.simulation.cloud/workbench?taskId=fdve-94e3d8b4-d444-47df-bf19-b1a9230627ad\" target=\"_blank\"><span style=\"color: #000080; text-decoration-color: #000080; text-decoration: underline\">4-47df-bf19-b1a9230627ad'</span></a><span style=\"color: #000080; text-decoration-color: #000080; text-decoration: underline\">.</span>                                         \n",
       "</pre>\n"
      ],
      "text/plain": [
       "\u001b[2;36m            \u001b[0m\u001b[2;36m \u001b[0mView simulation result at                                          \n",
       "\u001b[2;36m             \u001b[0m\u001b]8;id=380692;https://tidy3d.simulation.cloud/workbench?taskId=fdve-94e3d8b4-d444-47df-bf19-b1a9230627ad\u001b\\\u001b[4;34m'https://tidy3d.simulation.cloud/workbench?\u001b[0m\u001b]8;;\u001b\\\u001b]8;id=840041;https://tidy3d.simulation.cloud/workbench?taskId=fdve-94e3d8b4-d444-47df-bf19-b1a9230627ad\u001b\\\u001b[4;34mtaskId\u001b[0m\u001b]8;;\u001b\\\u001b]8;id=380692;https://tidy3d.simulation.cloud/workbench?taskId=fdve-94e3d8b4-d444-47df-bf19-b1a9230627ad\u001b\\\u001b[4;34m=\u001b[0m\u001b]8;;\u001b\\\u001b]8;id=697288;https://tidy3d.simulation.cloud/workbench?taskId=fdve-94e3d8b4-d444-47df-bf19-b1a9230627ad\u001b\\\u001b[4;34mfdve\u001b[0m\u001b]8;;\u001b\\\u001b]8;id=380692;https://tidy3d.simulation.cloud/workbench?taskId=fdve-94e3d8b4-d444-47df-bf19-b1a9230627ad\u001b\\\u001b[4;34m-94e3d8b4-d44\u001b[0m\u001b]8;;\u001b\\\n",
       "\u001b[2;36m             \u001b[0m\u001b]8;id=380692;https://tidy3d.simulation.cloud/workbench?taskId=fdve-94e3d8b4-d444-47df-bf19-b1a9230627ad\u001b\\\u001b[4;34m4-47df-bf19-b1a9230627ad'\u001b[0m\u001b]8;;\u001b\\\u001b[4;34m.\u001b[0m                                         \n"
      ]
     },
     "metadata": {},
     "output_type": "display_data"
    },
    {
     "data": {
      "application/vnd.jupyter.widget-view+json": {
       "model_id": "baf8de692ce34286be97ae177d2f20dc",
       "version_major": 2,
       "version_minor": 0
      },
      "text/plain": [
       "Output()"
      ]
     },
     "metadata": {},
     "output_type": "display_data"
    },
    {
     "data": {
      "text/html": [
       "<pre style=\"white-space:pre;overflow-x:auto;line-height:normal;font-family:Menlo,'DejaVu Sans Mono',consolas,'Courier New',monospace\"></pre>\n"
      ],
      "text/plain": []
     },
     "metadata": {},
     "output_type": "display_data"
    },
    {
     "data": {
      "text/html": [
       "<pre style=\"white-space:pre;overflow-x:auto;line-height:normal;font-family:Menlo,'DejaVu Sans Mono',consolas,'Courier New',monospace\">\n",
       "</pre>\n"
      ],
      "text/plain": [
       "\n"
      ]
     },
     "metadata": {},
     "output_type": "display_data"
    },
    {
     "data": {
      "text/html": [
       "<pre style=\"white-space:pre;overflow-x:auto;line-height:normal;font-family:Menlo,'DejaVu Sans Mono',consolas,'Courier New',monospace\"><span style=\"color: #7fbfbf; text-decoration-color: #7fbfbf\">01:26:38 PST </span>loading simulation from data/simulation.hdf5                       \n",
       "</pre>\n"
      ],
      "text/plain": [
       "\u001b[2;36m01:26:38 PST\u001b[0m\u001b[2;36m \u001b[0mloading simulation from data/simulation.hdf5                       \n"
      ]
     },
     "metadata": {},
     "output_type": "display_data"
    },
    {
     "data": {
      "text/html": [
       "<pre style=\"white-space:pre;overflow-x:auto;line-height:normal;font-family:Menlo,'DejaVu Sans Mono',consolas,'Courier New',monospace\"><span style=\"color: #7fbfbf; text-decoration-color: #7fbfbf\">             </span><span style=\"color: #800000; text-decoration-color: #800000\">WARNING: Monitor data requires </span><span style=\"color: #008000; text-decoration-color: #008000\">'grid_expanded'</span><span style=\"color: #800000; text-decoration-color: #800000\"> to be defined to    </span>\n",
       "<span style=\"color: #7fbfbf; text-decoration-color: #7fbfbf\">             </span><span style=\"color: #800000; text-decoration-color: #800000\">compute values like flux, Poynting and dot product with other data.</span>\n",
       "</pre>\n"
      ],
      "text/plain": [
       "\u001b[2;36m            \u001b[0m\u001b[2;36m \u001b[0m\u001b[31mWARNING: Monitor data requires \u001b[0m\u001b[32m'grid_expanded'\u001b[0m\u001b[31m to be defined to    \u001b[0m\n",
       "\u001b[2;36m             \u001b[0m\u001b[31mcompute values like flux, Poynting and dot product with other data.\u001b[0m\n"
      ]
     },
     "metadata": {},
     "output_type": "display_data"
    }
   ],
   "source": [
    "sim0_data = web.run(\n",
    "    simulation0,\n",
    "    task_name=\"straight waveguide\",\n",
    "    path=\"data/simulation0.hdf5\",\n",
    "    verbose=True,\n",
    ")\n",
    "\n",
    "sim_data = web.run(\n",
    "    simulation,\n",
    "    task_name=\"scattered waveguide\",\n",
    "    path=\"data/simulation.hdf5\",\n",
    "    verbose=True,\n",
    ")\n"
   ]
  },
  {
   "cell_type": "markdown",
   "id": "72401eff",
   "metadata": {},
   "source": [
    "### Inspecting Log\n",
    "\n",
    "Now let's take a look at the log to see if everything looks ok (fields decayed, etc)."
   ]
  },
  {
   "cell_type": "code",
   "execution_count": 7,
   "id": "3e528e33",
   "metadata": {
    "execution": {
     "iopub.execute_input": "2024-02-17T09:26:39.393723Z",
     "iopub.status.busy": "2024-02-17T09:26:39.393485Z",
     "iopub.status.idle": "2024-02-17T09:26:39.409841Z",
     "shell.execute_reply": "2024-02-17T09:26:39.409353Z"
    },
    "tags": []
   },
   "outputs": [
    {
     "name": "stdout",
     "output_type": "stream",
     "text": [
      "[09:26:23] INFO: Auto meshing using wavelength 1.4990 defined from sources.     \n",
      "           USER: Simulation domain Nx, Ny, Nz: [176, 152, 152]                  \n",
      "           USER: Applied symmetries: (0, 0, 0)                                  \n",
      "           USER: Number of computational grid points: 4.2214e+06.               \n",
      "           USER: Using subpixel averaging: True                                 \n",
      "           USER: Number of time steps: 6.6230e+03                               \n",
      "           USER: Automatic shutoff factor: 1.00e-05                             \n",
      "           USER: Time step (s): 6.0408e-17                                      \n",
      "           USER:                                                                \n",
      "                                                                                \n",
      "[09:26:24] USER: Compute source modes time (s):     0.4956                      \n",
      "           USER: Rest of setup time (s):            0.2513                      \n",
      "[09:26:28] WARNING: Mode '2' appears to undergo a discontinuous change between  \n",
      "           frequencies '160000000000000.0' and '180000000000000.0' (overlap:    \n",
      "           '0.00').                                                             \n",
      "[09:26:29] USER: Compute monitor modes time (s):    2.6867                      \n",
      "           USER: Solver time (s):                   1.2510                      \n",
      "           USER: Time-stepping speed (cells/s):     2.66e+10                    \n",
      "[09:26:30] WARNING: Monitor data requires 'grid_expanded' to be defined to      \n",
      "           compute values like flux, Poynting and dot product with other data.  \n",
      "           WARNING: Monitor data requires 'grid_expanded' to be defined to      \n",
      "           compute values like flux, Poynting and dot product with other data.  \n",
      "           USER: Post-processing time (s):          0.8124                      \n",
      "\n",
      " ====== SOLVER LOG ====== \n",
      "\n",
      "Processing grid and structures...\n",
      "Building FDTD update coefficients...\n",
      "Solver setup time (s):             0.1444\n",
      "\n",
      "Running solver for 6623 time steps...\n",
      "- Time step    220 / time 1.33e-14s (  3 % done), field decay: 1.00e+00\n",
      "- Time step    264 / time 1.59e-14s (  4 % done), field decay: 1.00e+00\n",
      "- Time step    529 / time 3.20e-14s (  8 % done), field decay: 1.00e+00\n",
      "- Time step    794 / time 4.80e-14s ( 12 % done), field decay: 8.03e-04\n",
      "- Time step   1059 / time 6.40e-14s ( 16 % done), field decay: 1.36e-06\n",
      "Field decay smaller than shutoff factor, exiting solver.\n",
      "Time-stepping time (s):            1.0501\n",
      "Data write time (s):               0.0572\n",
      "\n"
     ]
    }
   ],
   "source": [
    "print(sim_data.log)\n"
   ]
  },
  {
   "cell_type": "markdown",
   "id": "ce4a54c3",
   "metadata": {},
   "source": [
    "## Post-Processing\n",
    "\n",
    "Now that the simulations have run and their data are loaded into the `sim_data` and `sim0_data` variables, we will explore how to access, manipulate, and visualize the data.  \n",
    "\n",
    "### Accessing Data\n",
    "\n",
    "#### Original Simulation\n",
    "\n",
    "The [SimulationData](../api/_autosummary/tidy3d.SimulationData.html) objects store a copy of the original [Simulation](../api/_autosummary/tidy3d.Simulation.html), so it can be recovered if the [SimulationData](../api/_autosummary/tidy3d.SimulationData.html) is loaded in a new session and the [Simulation](../api/_autosummary/tidy3d.Simulation.html) is no longer in memory."
   ]
  },
  {
   "cell_type": "code",
   "execution_count": 8,
   "id": "2c3ef22b",
   "metadata": {
    "execution": {
     "iopub.execute_input": "2024-02-17T09:26:39.411601Z",
     "iopub.status.busy": "2024-02-17T09:26:39.411459Z",
     "iopub.status.idle": "2024-02-17T09:26:39.427268Z",
     "shell.execute_reply": "2024-02-17T09:26:39.426772Z"
    },
    "tags": []
   },
   "outputs": [
    {
     "name": "stdout",
     "output_type": "stream",
     "text": [
      "(5.0, 5.0, 5.0)\n"
     ]
    }
   ],
   "source": [
    "print(sim_data.simulation.size)\n"
   ]
  },
  {
   "cell_type": "markdown",
   "id": "30e26ff6",
   "metadata": {},
   "source": [
    "#### Monitor Data\n",
    "\n",
    "More importantly, the [SimulationData](../api/_autosummary/tidy3d.SimulationData.html) contains a reference to the data for each of the monitors within the original [Simulation](../api/_autosummary/tidy3d.Simulation.html).\n",
    "This data can be accessed directly using the `name` given to the monitors initially.\n",
    "\n",
    "For example, our [FluxMonitor](../api/_autosummary/tidy3d.FluxMonitor.html) was named `'flux'` while our [FluxTimeMonitor](../api/_autosummary/tidy3d.FluxTimeMonitor.html) was named `'flux_time'`, each with a `.flux` attribute storing the raw data. Therefore, we can access the data as follows."
   ]
  },
  {
   "cell_type": "code",
   "execution_count": 9,
   "id": "58af7e8c",
   "metadata": {
    "execution": {
     "iopub.execute_input": "2024-02-17T09:26:39.428945Z",
     "iopub.status.busy": "2024-02-17T09:26:39.428802Z",
     "iopub.status.idle": "2024-02-17T09:26:39.445870Z",
     "shell.execute_reply": "2024-02-17T09:26:39.445298Z"
    },
    "tags": []
   },
   "outputs": [],
   "source": [
    "# get the flux data from the monitor name\n",
    "flux_data = sim_data[\"flux\"].flux\n",
    "flux_time_data = sim_data[\"flux_time\"].flux\n"
   ]
  },
  {
   "cell_type": "markdown",
   "id": "8f9f3a94",
   "metadata": {},
   "source": [
    "### Structure of Data\n",
    "\n",
    "Now that we have the data loaded, let's inspect it."
   ]
  },
  {
   "cell_type": "code",
   "execution_count": 10,
   "id": "d672a805",
   "metadata": {
    "execution": {
     "iopub.execute_input": "2024-02-17T09:26:39.447687Z",
     "iopub.status.busy": "2024-02-17T09:26:39.447543Z",
     "iopub.status.idle": "2024-02-17T09:26:39.467531Z",
     "shell.execute_reply": "2024-02-17T09:26:39.467033Z"
    },
    "tags": []
   },
   "outputs": [
    {
     "data": {
      "text/html": [
       "<div><svg style=\"position: absolute; width: 0; height: 0; overflow: hidden\">\n",
       "<defs>\n",
       "<symbol id=\"icon-database\" viewBox=\"0 0 32 32\">\n",
       "<path d=\"M16 0c-8.837 0-16 2.239-16 5v4c0 2.761 7.163 5 16 5s16-2.239 16-5v-4c0-2.761-7.163-5-16-5z\"></path>\n",
       "<path d=\"M16 17c-8.837 0-16-2.239-16-5v6c0 2.761 7.163 5 16 5s16-2.239 16-5v-6c0 2.761-7.163 5-16 5z\"></path>\n",
       "<path d=\"M16 26c-8.837 0-16-2.239-16-5v6c0 2.761 7.163 5 16 5s16-2.239 16-5v-6c0 2.761-7.163 5-16 5z\"></path>\n",
       "</symbol>\n",
       "<symbol id=\"icon-file-text2\" viewBox=\"0 0 32 32\">\n",
       "<path d=\"M28.681 7.159c-0.694-0.947-1.662-2.053-2.724-3.116s-2.169-2.030-3.116-2.724c-1.612-1.182-2.393-1.319-2.841-1.319h-15.5c-1.378 0-2.5 1.121-2.5 2.5v27c0 1.378 1.122 2.5 2.5 2.5h23c1.378 0 2.5-1.122 2.5-2.5v-19.5c0-0.448-0.137-1.23-1.319-2.841zM24.543 5.457c0.959 0.959 1.712 1.825 2.268 2.543h-4.811v-4.811c0.718 0.556 1.584 1.309 2.543 2.268zM28 29.5c0 0.271-0.229 0.5-0.5 0.5h-23c-0.271 0-0.5-0.229-0.5-0.5v-27c0-0.271 0.229-0.5 0.5-0.5 0 0 15.499-0 15.5 0v7c0 0.552 0.448 1 1 1h7v19.5z\"></path>\n",
       "<path d=\"M23 26h-14c-0.552 0-1-0.448-1-1s0.448-1 1-1h14c0.552 0 1 0.448 1 1s-0.448 1-1 1z\"></path>\n",
       "<path d=\"M23 22h-14c-0.552 0-1-0.448-1-1s0.448-1 1-1h14c0.552 0 1 0.448 1 1s-0.448 1-1 1z\"></path>\n",
       "<path d=\"M23 18h-14c-0.552 0-1-0.448-1-1s0.448-1 1-1h14c0.552 0 1 0.448 1 1s-0.448 1-1 1z\"></path>\n",
       "</symbol>\n",
       "</defs>\n",
       "</svg>\n",
       "<style>/* CSS stylesheet for displaying xarray objects in jupyterlab.\n",
       " *\n",
       " */\n",
       "\n",
       ":root {\n",
       "  --xr-font-color0: var(--jp-content-font-color0, rgba(0, 0, 0, 1));\n",
       "  --xr-font-color2: var(--jp-content-font-color2, rgba(0, 0, 0, 0.54));\n",
       "  --xr-font-color3: var(--jp-content-font-color3, rgba(0, 0, 0, 0.38));\n",
       "  --xr-border-color: var(--jp-border-color2, #e0e0e0);\n",
       "  --xr-disabled-color: var(--jp-layout-color3, #bdbdbd);\n",
       "  --xr-background-color: var(--jp-layout-color0, white);\n",
       "  --xr-background-color-row-even: var(--jp-layout-color1, white);\n",
       "  --xr-background-color-row-odd: var(--jp-layout-color2, #eeeeee);\n",
       "}\n",
       "\n",
       "html[theme=dark],\n",
       "body[data-theme=dark],\n",
       "body.vscode-dark {\n",
       "  --xr-font-color0: rgba(255, 255, 255, 1);\n",
       "  --xr-font-color2: rgba(255, 255, 255, 0.54);\n",
       "  --xr-font-color3: rgba(255, 255, 255, 0.38);\n",
       "  --xr-border-color: #1F1F1F;\n",
       "  --xr-disabled-color: #515151;\n",
       "  --xr-background-color: #111111;\n",
       "  --xr-background-color-row-even: #111111;\n",
       "  --xr-background-color-row-odd: #313131;\n",
       "}\n",
       "\n",
       ".xr-wrap {\n",
       "  display: block !important;\n",
       "  min-width: 300px;\n",
       "  max-width: 700px;\n",
       "}\n",
       "\n",
       ".xr-text-repr-fallback {\n",
       "  /* fallback to plain text repr when CSS is not injected (untrusted notebook) */\n",
       "  display: none;\n",
       "}\n",
       "\n",
       ".xr-header {\n",
       "  padding-top: 6px;\n",
       "  padding-bottom: 6px;\n",
       "  margin-bottom: 4px;\n",
       "  border-bottom: solid 1px var(--xr-border-color);\n",
       "}\n",
       "\n",
       ".xr-header > div,\n",
       ".xr-header > ul {\n",
       "  display: inline;\n",
       "  margin-top: 0;\n",
       "  margin-bottom: 0;\n",
       "}\n",
       "\n",
       ".xr-obj-type,\n",
       ".xr-array-name {\n",
       "  margin-left: 2px;\n",
       "  margin-right: 10px;\n",
       "}\n",
       "\n",
       ".xr-obj-type {\n",
       "  color: var(--xr-font-color2);\n",
       "}\n",
       "\n",
       ".xr-sections {\n",
       "  padding-left: 0 !important;\n",
       "  display: grid;\n",
       "  grid-template-columns: 150px auto auto 1fr 20px 20px;\n",
       "}\n",
       "\n",
       ".xr-section-item {\n",
       "  display: contents;\n",
       "}\n",
       "\n",
       ".xr-section-item input {\n",
       "  display: none;\n",
       "}\n",
       "\n",
       ".xr-section-item input + label {\n",
       "  color: var(--xr-disabled-color);\n",
       "}\n",
       "\n",
       ".xr-section-item input:enabled + label {\n",
       "  cursor: pointer;\n",
       "  color: var(--xr-font-color2);\n",
       "}\n",
       "\n",
       ".xr-section-item input:enabled + label:hover {\n",
       "  color: var(--xr-font-color0);\n",
       "}\n",
       "\n",
       ".xr-section-summary {\n",
       "  grid-column: 1;\n",
       "  color: var(--xr-font-color2);\n",
       "  font-weight: 500;\n",
       "}\n",
       "\n",
       ".xr-section-summary > span {\n",
       "  display: inline-block;\n",
       "  padding-left: 0.5em;\n",
       "}\n",
       "\n",
       ".xr-section-summary-in:disabled + label {\n",
       "  color: var(--xr-font-color2);\n",
       "}\n",
       "\n",
       ".xr-section-summary-in + label:before {\n",
       "  display: inline-block;\n",
       "  content: '►';\n",
       "  font-size: 11px;\n",
       "  width: 15px;\n",
       "  text-align: center;\n",
       "}\n",
       "\n",
       ".xr-section-summary-in:disabled + label:before {\n",
       "  color: var(--xr-disabled-color);\n",
       "}\n",
       "\n",
       ".xr-section-summary-in:checked + label:before {\n",
       "  content: '▼';\n",
       "}\n",
       "\n",
       ".xr-section-summary-in:checked + label > span {\n",
       "  display: none;\n",
       "}\n",
       "\n",
       ".xr-section-summary,\n",
       ".xr-section-inline-details {\n",
       "  padding-top: 4px;\n",
       "  padding-bottom: 4px;\n",
       "}\n",
       "\n",
       ".xr-section-inline-details {\n",
       "  grid-column: 2 / -1;\n",
       "}\n",
       "\n",
       ".xr-section-details {\n",
       "  display: none;\n",
       "  grid-column: 1 / -1;\n",
       "  margin-bottom: 5px;\n",
       "}\n",
       "\n",
       ".xr-section-summary-in:checked ~ .xr-section-details {\n",
       "  display: contents;\n",
       "}\n",
       "\n",
       ".xr-array-wrap {\n",
       "  grid-column: 1 / -1;\n",
       "  display: grid;\n",
       "  grid-template-columns: 20px auto;\n",
       "}\n",
       "\n",
       ".xr-array-wrap > label {\n",
       "  grid-column: 1;\n",
       "  vertical-align: top;\n",
       "}\n",
       "\n",
       ".xr-preview {\n",
       "  color: var(--xr-font-color3);\n",
       "}\n",
       "\n",
       ".xr-array-preview,\n",
       ".xr-array-data {\n",
       "  padding: 0 5px !important;\n",
       "  grid-column: 2;\n",
       "}\n",
       "\n",
       ".xr-array-data,\n",
       ".xr-array-in:checked ~ .xr-array-preview {\n",
       "  display: none;\n",
       "}\n",
       "\n",
       ".xr-array-in:checked ~ .xr-array-data,\n",
       ".xr-array-preview {\n",
       "  display: inline-block;\n",
       "}\n",
       "\n",
       ".xr-dim-list {\n",
       "  display: inline-block !important;\n",
       "  list-style: none;\n",
       "  padding: 0 !important;\n",
       "  margin: 0;\n",
       "}\n",
       "\n",
       ".xr-dim-list li {\n",
       "  display: inline-block;\n",
       "  padding: 0;\n",
       "  margin: 0;\n",
       "}\n",
       "\n",
       ".xr-dim-list:before {\n",
       "  content: '(';\n",
       "}\n",
       "\n",
       ".xr-dim-list:after {\n",
       "  content: ')';\n",
       "}\n",
       "\n",
       ".xr-dim-list li:not(:last-child):after {\n",
       "  content: ',';\n",
       "  padding-right: 5px;\n",
       "}\n",
       "\n",
       ".xr-has-index {\n",
       "  font-weight: bold;\n",
       "}\n",
       "\n",
       ".xr-var-list,\n",
       ".xr-var-item {\n",
       "  display: contents;\n",
       "}\n",
       "\n",
       ".xr-var-item > div,\n",
       ".xr-var-item label,\n",
       ".xr-var-item > .xr-var-name span {\n",
       "  background-color: var(--xr-background-color-row-even);\n",
       "  margin-bottom: 0;\n",
       "}\n",
       "\n",
       ".xr-var-item > .xr-var-name:hover span {\n",
       "  padding-right: 5px;\n",
       "}\n",
       "\n",
       ".xr-var-list > li:nth-child(odd) > div,\n",
       ".xr-var-list > li:nth-child(odd) > label,\n",
       ".xr-var-list > li:nth-child(odd) > .xr-var-name span {\n",
       "  background-color: var(--xr-background-color-row-odd);\n",
       "}\n",
       "\n",
       ".xr-var-name {\n",
       "  grid-column: 1;\n",
       "}\n",
       "\n",
       ".xr-var-dims {\n",
       "  grid-column: 2;\n",
       "}\n",
       "\n",
       ".xr-var-dtype {\n",
       "  grid-column: 3;\n",
       "  text-align: right;\n",
       "  color: var(--xr-font-color2);\n",
       "}\n",
       "\n",
       ".xr-var-preview {\n",
       "  grid-column: 4;\n",
       "}\n",
       "\n",
       ".xr-index-preview {\n",
       "  grid-column: 2 / 5;\n",
       "  color: var(--xr-font-color2);\n",
       "}\n",
       "\n",
       ".xr-var-name,\n",
       ".xr-var-dims,\n",
       ".xr-var-dtype,\n",
       ".xr-preview,\n",
       ".xr-attrs dt {\n",
       "  white-space: nowrap;\n",
       "  overflow: hidden;\n",
       "  text-overflow: ellipsis;\n",
       "  padding-right: 10px;\n",
       "}\n",
       "\n",
       ".xr-var-name:hover,\n",
       ".xr-var-dims:hover,\n",
       ".xr-var-dtype:hover,\n",
       ".xr-attrs dt:hover {\n",
       "  overflow: visible;\n",
       "  width: auto;\n",
       "  z-index: 1;\n",
       "}\n",
       "\n",
       ".xr-var-attrs,\n",
       ".xr-var-data,\n",
       ".xr-index-data {\n",
       "  display: none;\n",
       "  background-color: var(--xr-background-color) !important;\n",
       "  padding-bottom: 5px !important;\n",
       "}\n",
       "\n",
       ".xr-var-attrs-in:checked ~ .xr-var-attrs,\n",
       ".xr-var-data-in:checked ~ .xr-var-data,\n",
       ".xr-index-data-in:checked ~ .xr-index-data {\n",
       "  display: block;\n",
       "}\n",
       "\n",
       ".xr-var-data > table {\n",
       "  float: right;\n",
       "}\n",
       "\n",
       ".xr-var-name span,\n",
       ".xr-var-data,\n",
       ".xr-index-name div,\n",
       ".xr-index-data,\n",
       ".xr-attrs {\n",
       "  padding-left: 25px !important;\n",
       "}\n",
       "\n",
       ".xr-attrs,\n",
       ".xr-var-attrs,\n",
       ".xr-var-data,\n",
       ".xr-index-data {\n",
       "  grid-column: 1 / -1;\n",
       "}\n",
       "\n",
       "dl.xr-attrs {\n",
       "  padding: 0;\n",
       "  margin: 0;\n",
       "  display: grid;\n",
       "  grid-template-columns: 125px auto;\n",
       "}\n",
       "\n",
       ".xr-attrs dt,\n",
       ".xr-attrs dd {\n",
       "  padding: 0;\n",
       "  margin: 0;\n",
       "  float: left;\n",
       "  padding-right: 10px;\n",
       "  width: auto;\n",
       "}\n",
       "\n",
       ".xr-attrs dt {\n",
       "  font-weight: normal;\n",
       "  grid-column: 1;\n",
       "}\n",
       "\n",
       ".xr-attrs dt:hover span {\n",
       "  display: inline-block;\n",
       "  background: var(--xr-background-color);\n",
       "  padding-right: 10px;\n",
       "}\n",
       "\n",
       ".xr-attrs dd {\n",
       "  grid-column: 2;\n",
       "  white-space: pre-wrap;\n",
       "  word-break: break-all;\n",
       "}\n",
       "\n",
       ".xr-icon-database,\n",
       ".xr-icon-file-text2,\n",
       ".xr-no-icon {\n",
       "  display: inline-block;\n",
       "  vertical-align: middle;\n",
       "  width: 1em;\n",
       "  height: 1.5em !important;\n",
       "  stroke-width: 0;\n",
       "  stroke: currentColor;\n",
       "  fill: currentColor;\n",
       "}\n",
       "</style><pre class='xr-text-repr-fallback'>&lt;xarray.FluxDataArray (f: 11)&gt;\n",
       "array([0.59199744, 0.7746099 , 0.8931861 , 0.9529229 , 0.9721853 ,\n",
       "       0.9766577 , 0.9795632 , 0.9839163 , 0.98803425, 0.99017584,\n",
       "       0.9902634 ], dtype=float32)\n",
       "Coordinates:\n",
       "  * f        (f) float64 1e+14 1.2e+14 1.4e+14 1.6e+14 ... 2.6e+14 2.8e+14 3e+14\n",
       "Attributes:\n",
       "    units:      W\n",
       "    long_name:  flux</pre><div class='xr-wrap' style='display:none'><div class='xr-header'><div class='xr-obj-type'>xarray.FluxDataArray</div><div class='xr-array-name'></div><ul class='xr-dim-list'><li><span class='xr-has-index'>f</span>: 11</li></ul></div><ul class='xr-sections'><li class='xr-section-item'><div class='xr-array-wrap'><input id='section-356dd28c-a33f-43a3-b07a-1f89ad1f76d5' class='xr-array-in' type='checkbox' checked><label for='section-356dd28c-a33f-43a3-b07a-1f89ad1f76d5' title='Show/hide data repr'><svg class='icon xr-icon-database'><use xlink:href='#icon-database'></use></svg></label><div class='xr-array-preview xr-preview'><span>0.592 0.7746 0.8932 0.9529 0.9722 ... 0.9839 0.988 0.9902 0.9903</span></div><div class='xr-array-data'><pre>array([0.59199744, 0.7746099 , 0.8931861 , 0.9529229 , 0.9721853 ,\n",
       "       0.9766577 , 0.9795632 , 0.9839163 , 0.98803425, 0.99017584,\n",
       "       0.9902634 ], dtype=float32)</pre></div></div></li><li class='xr-section-item'><input id='section-eefbe70e-5210-45a8-b807-7162e0fc7380' class='xr-section-summary-in' type='checkbox'  checked><label for='section-eefbe70e-5210-45a8-b807-7162e0fc7380' class='xr-section-summary' >Coordinates: <span>(1)</span></label><div class='xr-section-inline-details'></div><div class='xr-section-details'><ul class='xr-var-list'><li class='xr-var-item'><div class='xr-var-name'><span class='xr-has-index'>f</span></div><div class='xr-var-dims'>(f)</div><div class='xr-var-dtype'>float64</div><div class='xr-var-preview xr-preview'>1e+14 1.2e+14 ... 2.8e+14 3e+14</div><input id='attrs-3273ed64-0385-4c0a-bd6a-4e91640d2fc8' class='xr-var-attrs-in' type='checkbox' ><label for='attrs-3273ed64-0385-4c0a-bd6a-4e91640d2fc8' title='Show/Hide attributes'><svg class='icon xr-icon-file-text2'><use xlink:href='#icon-file-text2'></use></svg></label><input id='data-6b2bd0e0-b9d6-4d69-9c77-2594b119af56' class='xr-var-data-in' type='checkbox'><label for='data-6b2bd0e0-b9d6-4d69-9c77-2594b119af56' title='Show/Hide data repr'><svg class='icon xr-icon-database'><use xlink:href='#icon-database'></use></svg></label><div class='xr-var-attrs'><dl class='xr-attrs'><dt><span>units :</span></dt><dd>Hz</dd><dt><span>long_name :</span></dt><dd>frequency</dd></dl></div><div class='xr-var-data'><pre>array([1.0e+14, 1.2e+14, 1.4e+14, 1.6e+14, 1.8e+14, 2.0e+14, 2.2e+14, 2.4e+14,\n",
       "       2.6e+14, 2.8e+14, 3.0e+14])</pre></div></li></ul></div></li><li class='xr-section-item'><input id='section-00858c3a-e6f2-48d6-bd75-1274a2cb2dfd' class='xr-section-summary-in' type='checkbox'  ><label for='section-00858c3a-e6f2-48d6-bd75-1274a2cb2dfd' class='xr-section-summary' >Indexes: <span>(1)</span></label><div class='xr-section-inline-details'></div><div class='xr-section-details'><ul class='xr-var-list'><li class='xr-var-item'><div class='xr-index-name'><div>f</div></div><div class='xr-index-preview'>PandasIndex</div><div></div><input id='index-39142b1d-0788-4915-a5f5-2299d549a656' class='xr-index-data-in' type='checkbox'/><label for='index-39142b1d-0788-4915-a5f5-2299d549a656' title='Show/Hide index repr'><svg class='icon xr-icon-database'><use xlink:href='#icon-database'></use></svg></label><div class='xr-index-data'><pre>PandasIndex(Index([100000000000000.0, 120000000000000.0, 140000000000000.0,\n",
       "       160000000000000.0, 180000000000000.0, 200000000000000.0,\n",
       "       220000000000000.0, 240000000000000.0, 260000000000000.0,\n",
       "       280000000000000.0, 300000000000000.0],\n",
       "      dtype=&#x27;float64&#x27;, name=&#x27;f&#x27;))</pre></div></li></ul></div></li><li class='xr-section-item'><input id='section-e543953e-1fcd-42c3-b6df-4a278d262a46' class='xr-section-summary-in' type='checkbox'  checked><label for='section-e543953e-1fcd-42c3-b6df-4a278d262a46' class='xr-section-summary' >Attributes: <span>(2)</span></label><div class='xr-section-inline-details'></div><div class='xr-section-details'><dl class='xr-attrs'><dt><span>units :</span></dt><dd>W</dd><dt><span>long_name :</span></dt><dd>flux</dd></dl></div></li></ul></div></div>"
      ],
      "text/plain": [
       "<xarray.FluxDataArray (f: 11)>\n",
       "array([0.59199744, 0.7746099 , 0.8931861 , 0.9529229 , 0.9721853 ,\n",
       "       0.9766577 , 0.9795632 , 0.9839163 , 0.98803425, 0.99017584,\n",
       "       0.9902634 ], dtype=float32)\n",
       "Coordinates:\n",
       "  * f        (f) float64 1e+14 1.2e+14 1.4e+14 1.6e+14 ... 2.6e+14 2.8e+14 3e+14\n",
       "Attributes:\n",
       "    units:      W\n",
       "    long_name:  flux"
      ]
     },
     "execution_count": 10,
     "metadata": {},
     "output_type": "execute_result"
    }
   ],
   "source": [
    "flux_data\n"
   ]
  },
  {
   "cell_type": "markdown",
   "id": "84f11714",
   "metadata": {},
   "source": [
    "The data is stored as a [DataArray](https://xarray.pydata.org/en/stable/generated/xarray.DataArray.html) object using the [xarray](https://xarray.pydata.org/en/stable/) package.\n",
    "You can think of it as a dataset where the flux data is stored as a large, multi-dimensional array (like a numpy array) and the coordinates along each of the dimensions are specified so it is easy to work with.\n",
    "\n",
    "For example:"
   ]
  },
  {
   "cell_type": "code",
   "execution_count": 11,
   "id": "f27c9e1d",
   "metadata": {
    "execution": {
     "iopub.execute_input": "2024-02-17T09:26:39.469288Z",
     "iopub.status.busy": "2024-02-17T09:26:39.469146Z",
     "iopub.status.idle": "2024-02-17T09:26:39.485908Z",
     "shell.execute_reply": "2024-02-17T09:26:39.485467Z"
    },
    "tags": []
   },
   "outputs": [
    {
     "name": "stdout",
     "output_type": "stream",
     "text": [
      "shape of flux dataset = (11,)\n",
      ".\n",
      "frequencies in dataset = <bound method Mapping.values of Coordinates:\n",
      "  * f        (f) float64 1e+14 1.2e+14 1.4e+14 1.6e+14 ... 2.6e+14 2.8e+14 3e+14> \n",
      ".\n",
      "flux values in dataset = [0.59199744 0.7746099  0.8931861  0.9529229  0.9721853  0.9766577\n",
      " 0.9795632  0.9839163  0.98803425 0.99017584 0.9902634 ]\n",
      ".\n"
     ]
    }
   ],
   "source": [
    "# flux values (W) as numpy array\n",
    "print(f\"shape of flux dataset = {flux_data.shape}\\n.\")\n",
    "print(f\"frequencies in dataset = {flux_data.coords.values} \\n.\")\n",
    "print(f\"flux values in dataset = {flux_data.values}\\n.\")\n"
   ]
  },
  {
   "cell_type": "markdown",
   "id": "46e4f0da",
   "metadata": {},
   "source": [
    "So we can see the datset stores a 1D array of flux values (Watts) and a 1D array of frequency values (Hz).\n",
    "\n",
    "### Manipulating Data\n",
    "\n",
    "We can now do some useful operations with this data, including:"
   ]
  },
  {
   "cell_type": "code",
   "execution_count": 12,
   "id": "8774d777",
   "metadata": {
    "execution": {
     "iopub.execute_input": "2024-02-17T09:26:39.487613Z",
     "iopub.status.busy": "2024-02-17T09:26:39.487471Z",
     "iopub.status.idle": "2024-02-17T09:26:39.504745Z",
     "shell.execute_reply": "2024-02-17T09:26:39.504241Z"
    },
    "tags": []
   },
   "outputs": [
    {
     "name": "stdout",
     "output_type": "stream",
     "text": [
      "at central frequency, flux is 9.77e-01 W\n"
     ]
    }
   ],
   "source": [
    "# Selecting data at a specific coordinate\n",
    "flux_central_freq = flux_data.sel(f=freq0)\n",
    "print(f\"at central frequency, flux is {float(flux_central_freq):.2e} W\")\n"
   ]
  },
  {
   "cell_type": "code",
   "execution_count": 13,
   "id": "0c2defca",
   "metadata": {
    "execution": {
     "iopub.execute_input": "2024-02-17T09:26:39.506495Z",
     "iopub.status.busy": "2024-02-17T09:26:39.506353Z",
     "iopub.status.idle": "2024-02-17T09:26:39.522456Z",
     "shell.execute_reply": "2024-02-17T09:26:39.521986Z"
    },
    "tags": []
   },
   "outputs": [
    {
     "name": "stdout",
     "output_type": "stream",
     "text": [
      "at 4th frequency, flux is 9.72e-01 W\n"
     ]
    }
   ],
   "source": [
    "# Selecting data at a specific index\n",
    "flux_4th_freq = flux_data.isel(f=4)\n",
    "print(f\"at 4th frequency, flux is {float(flux_4th_freq):.2e} W\")\n"
   ]
  },
  {
   "cell_type": "code",
   "execution_count": 14,
   "id": "e63cfd62",
   "metadata": {
    "execution": {
     "iopub.execute_input": "2024-02-17T09:26:39.524187Z",
     "iopub.status.busy": "2024-02-17T09:26:39.524051Z",
     "iopub.status.idle": "2024-02-17T09:26:39.547411Z",
     "shell.execute_reply": "2024-02-17T09:26:39.546866Z"
    },
    "tags": []
   },
   "outputs": [
    {
     "name": "stdout",
     "output_type": "stream",
     "text": [
      "at an intermediate (not stored) frequency, flux is 9.79e-01 W\n"
     ]
    }
   ],
   "source": [
    "# Interpolating data at a specific coordinate\n",
    "flux_interp_freq = flux_data.interp(f=213.243523142e12)\n",
    "print(\n",
    "    f\"at an intermediate (not stored) frequency, flux is {float(flux_interp_freq):.2e} W\"\n",
    ")\n"
   ]
  },
  {
   "cell_type": "code",
   "execution_count": 15,
   "id": "e1cff990",
   "metadata": {
    "execution": {
     "iopub.execute_input": "2024-02-17T09:26:39.549139Z",
     "iopub.status.busy": "2024-02-17T09:26:39.549001Z",
     "iopub.status.idle": "2024-02-17T09:26:39.568360Z",
     "shell.execute_reply": "2024-02-17T09:26:39.567798Z"
    },
    "tags": []
   },
   "outputs": [],
   "source": [
    "# arithmetic opertions with numbers\n",
    "flux_times_2_plus_1 = 2 * flux_data + 1\n"
   ]
  },
  {
   "cell_type": "code",
   "execution_count": 16,
   "id": "87f3cc32",
   "metadata": {
    "execution": {
     "iopub.execute_input": "2024-02-17T09:26:39.570046Z",
     "iopub.status.busy": "2024-02-17T09:26:39.569909Z",
     "iopub.status.idle": "2024-02-17T09:26:39.588166Z",
     "shell.execute_reply": "2024-02-17T09:26:39.586513Z"
    },
    "tags": []
   },
   "outputs": [],
   "source": [
    "# operations with dataset (in this case, dividing by the normlization flux)\n",
    "flux_transmission = flux_data / sim0_data[\"flux\"].flux\n"
   ]
  },
  {
   "cell_type": "markdown",
   "id": "d86475df",
   "metadata": {},
   "source": [
    "There are mny more things you can do with the xarray package that are not covered here, so it is best to take a look at [their documention](http://xarray.pydata.org/en/stable/) for more details.\n",
    "\n",
    "### Plotting Data\n",
    "\n",
    "These datasets have built in plotting methods, which can be handy for quickly producing customizable plots.\n",
    "\n",
    "Let's plot the flux data to get a feeling."
   ]
  },
  {
   "cell_type": "code",
   "execution_count": 17,
   "id": "3c2c6760",
   "metadata": {
    "execution": {
     "iopub.execute_input": "2024-02-17T09:26:39.593495Z",
     "iopub.status.busy": "2024-02-17T09:26:39.593120Z",
     "iopub.status.idle": "2024-02-17T09:26:39.931652Z",
     "shell.execute_reply": "2024-02-17T09:26:39.931128Z"
    },
    "tags": []
   },
   "outputs": [
    {
     "data": {
      "image/png": "[encoded data removed]",
      "text/plain": [
       "<Figure size 1000x300 with 3 Axes>"
      ]
     },
     "metadata": {},
     "output_type": "display_data"
    }
   ],
   "source": [
    "f, (ax1, ax2, ax3) = plt.subplots(1, 3, tight_layout=True, figsize=(10, 3))\n",
    "flux_data.plot(ax=ax1)\n",
    "ax1.set_title(\"flux vs. frequency\")\n",
    "ax1.set_xlim(150e12, 250e12)\n",
    "\n",
    "# plot the ratio of flux with scatterer to without scatterer with dashed line signifying unity transmission.\n",
    "flux_transmission.plot(ax=ax2, color=\"k\")\n",
    "ax2.plot(flux_data.f, np.ones_like(flux_data.f), \"--\")\n",
    "ax2.set_ylabel(\"flux(f) / flux_normalize(f)\")\n",
    "ax2.set_xlabel(\"frequency (Hz)\")\n",
    "ax2.set_title(\"transmission spectrum\")\n",
    "ax2.set_xlim(150e12, 250e12)\n",
    "ax2.set_ylim(-0.1, 1.1)\n",
    "\n",
    "# plot the time dependence of the flux\n",
    "flux_time_data.plot(color=\"crimson\", ax=ax3)\n",
    "ax3.set_title(\"flux vs. time\")\n",
    "\n",
    "plt.show()\n"
   ]
  },
  {
   "cell_type": "markdown",
   "id": "ca03826c",
   "metadata": {},
   "source": [
    "Conveniently, xarray adds a lot of the plot labels and formatting automatically, which can save some time."
   ]
  },
  {
   "cell_type": "markdown",
   "id": "3e7f17db",
   "metadata": {},
   "source": [
    "### Complex, Multi-dimensional Data\n",
    "\n",
    "While the flux data is 1D and quite simple, the same approaches apply to more complex data, such as mode amplitude and field data, which can be complex-valued and muli-dimensional.\n",
    "\n",
    "Let's use the [ModeMonitor](../api/_autosummary/tidy3d.ModeMonitor.html) data as an example.  We'll access the data using it's name `'mode'` in the original simulation and print out some of the metadata to examine."
   ]
  },
  {
   "cell_type": "code",
   "execution_count": 18,
   "id": "28bd7aaf",
   "metadata": {
    "execution": {
     "iopub.execute_input": "2024-02-17T09:26:39.933611Z",
     "iopub.status.busy": "2024-02-17T09:26:39.933441Z",
     "iopub.status.idle": "2024-02-17T09:26:39.959857Z",
     "shell.execute_reply": "2024-02-17T09:26:39.959374Z"
    },
    "tags": []
   },
   "outputs": [
    {
     "data": {
      "text/html": [
       "<pre style=\"white-space:pre;overflow-x:auto;line-height:normal;font-family:Menlo,'DejaVu Sans Mono',consolas,'Courier New',monospace\"><span style=\"color: #7fbfbf; text-decoration-color: #7fbfbf\">01:26:39 PST </span><span style=\"color: #800000; text-decoration-color: #800000\">WARNING: Monitor data requires </span><span style=\"color: #008000; text-decoration-color: #008000\">'grid_expanded'</span><span style=\"color: #800000; text-decoration-color: #800000\"> to be defined to    </span>\n",
       "<span style=\"color: #7fbfbf; text-decoration-color: #7fbfbf\">             </span><span style=\"color: #800000; text-decoration-color: #800000\">compute values like flux, Poynting and dot product with other data.</span>\n",
       "</pre>\n"
      ],
      "text/plain": [
       "\u001b[2;36m01:26:39 PST\u001b[0m\u001b[2;36m \u001b[0m\u001b[31mWARNING: Monitor data requires \u001b[0m\u001b[32m'grid_expanded'\u001b[0m\u001b[31m to be defined to    \u001b[0m\n",
       "\u001b[2;36m             \u001b[0m\u001b[31mcompute values like flux, Poynting and dot product with other data.\u001b[0m\n"
      ]
     },
     "metadata": {},
     "output_type": "display_data"
    },
    {
     "data": {
      "text/plain": [
       "(2, 11, 3)"
      ]
     },
     "execution_count": 18,
     "metadata": {},
     "output_type": "execute_result"
    }
   ],
   "source": [
    "mode_data = sim_data[\"mode\"]\n",
    "mode_data.amps.shape\n"
   ]
  },
  {
   "cell_type": "markdown",
   "id": "877d5042",
   "metadata": {},
   "source": [
    "As we can see, the data is complex-valued and contains three dimensions.\n",
    "- a propagation direction for the mode, which is just positive or negative  (+/-)\n",
    "- an index into the list of modes returned by the solver given our initial [ModeSpec](../api/_autosummary/tidy3d.ModeSpec.html) specifications.\n",
    "- the frequency of the mode\n",
    "\n",
    "Let's plot the data just to get a feeling for it, using `.sel()` to split the forward and backward propagating modes onto separate plot axes."
   ]
  },
  {
   "cell_type": "code",
   "execution_count": 19,
   "id": "aa9bb765",
   "metadata": {
    "execution": {
     "iopub.execute_input": "2024-02-17T09:26:39.961742Z",
     "iopub.status.busy": "2024-02-17T09:26:39.961567Z",
     "iopub.status.idle": "2024-02-17T09:26:40.296656Z",
     "shell.execute_reply": "2024-02-17T09:26:40.295981Z"
    },
    "tags": []
   },
   "outputs": [
    {
     "data": {
      "image/png": "[encoded data removed]",
      "text/plain": [
       "<Figure size 800x300 with 2 Axes>"
      ]
     },
     "metadata": {},
     "output_type": "display_data"
    }
   ],
   "source": [
    "f, (ax1, ax2) = plt.subplots(1, 2, tight_layout=True, figsize=(8, 3))\n",
    "\n",
    "mode_data.amps.sel(direction=\"+\").abs.plot.line(x=\"f\", ax=ax1)\n",
    "mode_data.amps.sel(direction=\"-\").abs.plot.line(x=\"f\", ax=ax2)\n",
    "ax1.set_xlim(150e12, 250e12)\n",
    "ax2.set_xlim(150e12, 250e12)\n",
    "\n",
    "plt.show()\n"
   ]
  },
  {
   "cell_type": "markdown",
   "id": "48ae969a",
   "metadata": {},
   "source": [
    "As before, we can manipulate the data using basic algebra or xarray built ins, for example."
   ]
  },
  {
   "cell_type": "code",
   "execution_count": 20,
   "id": "5a2b68fa",
   "metadata": {
    "execution": {
     "iopub.execute_input": "2024-02-17T09:26:40.298633Z",
     "iopub.status.busy": "2024-02-17T09:26:40.298450Z",
     "iopub.status.idle": "2024-02-17T09:26:40.315472Z",
     "shell.execute_reply": "2024-02-17T09:26:40.314872Z"
    },
    "tags": []
   },
   "outputs": [],
   "source": [
    "# sum abolute value squared of the mode amplitudes to get powers\n",
    "mode_powers = abs(mode_data.amps) ** 2\n",
    "\n",
    "# select the powers at the central frequency only\n",
    "powers_central_freq = mode_powers.sel(f=freq0)\n",
    "\n",
    "# sum the powers over all of the mode indices\n",
    "powers_sum_modes = powers_central_freq.sum(\"mode_index\")\n"
   ]
  },
  {
   "cell_type": "markdown",
   "id": "99570157",
   "metadata": {},
   "source": [
    "## Field Data\n",
    "\n",
    "Data from a [FieldMonitor](../api/_autosummary/tidy3d.FieldMonitor.html) or [FieldTimeMonitor](../api/_autosummary/tidy3d.FieldTimeMonitor.html) is more complicated as it contains data from several field components.\n",
    "\n",
    "As such, when we just grab the data by name, we dont get an xarray object, but rather a [FieldData](../api/_autosummary/tidy3d.FieldData.html) container holding all of the field components.\n"
   ]
  },
  {
   "cell_type": "code",
   "execution_count": 21,
   "id": "68111c23",
   "metadata": {
    "execution": {
     "iopub.execute_input": "2024-02-17T09:26:40.317284Z",
     "iopub.status.busy": "2024-02-17T09:26:40.317117Z",
     "iopub.status.idle": "2024-02-17T09:26:40.344641Z",
     "shell.execute_reply": "2024-02-17T09:26:40.344280Z"
    },
    "tags": []
   },
   "outputs": [
    {
     "name": "stdout",
     "output_type": "stream",
     "text": [
      "<class 'tidy3d.components.data.monitor_data.FieldData'>\n"
     ]
    }
   ],
   "source": [
    "field_data = sim_data[\"field\"]\n",
    "field0_data = sim0_data[\"field\"]\n",
    "print(type(field_data))\n"
   ]
  },
  {
   "cell_type": "markdown",
   "id": "6e8d2385",
   "metadata": {
    "tags": []
   },
   "source": [
    "The field_data object contains data for each of the field components in it's `data_dict` dictionary.\n",
    "\n",
    "Let's look at what field components are contined"
   ]
  },
  {
   "cell_type": "code",
   "execution_count": 22,
   "id": "43efb783",
   "metadata": {
    "execution": {
     "iopub.execute_input": "2024-02-17T09:26:40.346566Z",
     "iopub.status.busy": "2024-02-17T09:26:40.346380Z",
     "iopub.status.idle": "2024-02-17T09:26:40.362598Z",
     "shell.execute_reply": "2024-02-17T09:26:40.362115Z"
    },
    "tags": []
   },
   "outputs": [
    {
     "name": "stdout",
     "output_type": "stream",
     "text": [
      "dict_keys(['type', 'Ex', 'Ey', 'Ez', 'Hx', 'Hy', 'Hz', 'monitor', 'symmetry', 'symmetry_center', 'grid_expanded', 'grid_primal_correction', 'grid_dual_correction'])\n"
     ]
    }
   ],
   "source": [
    "print(field_data.dict().keys())\n"
   ]
  },
  {
   "cell_type": "markdown",
   "id": "e01b21ff",
   "metadata": {},
   "source": [
    "The individual field components, themselves, can be accessed conveniently using a \"dot\" syntax, and are stored similarly to the flux and mode data as xarray data arrays."
   ]
  },
  {
   "cell_type": "code",
   "execution_count": 23,
   "id": "acd7313a",
   "metadata": {
    "execution": {
     "iopub.execute_input": "2024-02-17T09:26:40.364471Z",
     "iopub.status.busy": "2024-02-17T09:26:40.364335Z",
     "iopub.status.idle": "2024-02-17T09:26:40.391477Z",
     "shell.execute_reply": "2024-02-17T09:26:40.390955Z"
    },
    "tags": []
   },
   "outputs": [
    {
     "data": {
      "text/html": [
       "<div><svg style=\"position: absolute; width: 0; height: 0; overflow: hidden\">\n",
       "<defs>\n",
       "<symbol id=\"icon-database\" viewBox=\"0 0 32 32\">\n",
       "<path d=\"M16 0c-8.837 0-16 2.239-16 5v4c0 2.761 7.163 5 16 5s16-2.239 16-5v-4c0-2.761-7.163-5-16-5z\"></path>\n",
       "<path d=\"M16 17c-8.837 0-16-2.239-16-5v6c0 2.761 7.163 5 16 5s16-2.239 16-5v-6c0 2.761-7.163 5-16 5z\"></path>\n",
       "<path d=\"M16 26c-8.837 0-16-2.239-16-5v6c0 2.761 7.163 5 16 5s16-2.239 16-5v-6c0 2.761-7.163 5-16 5z\"></path>\n",
       "</symbol>\n",
       "<symbol id=\"icon-file-text2\" viewBox=\"0 0 32 32\">\n",
       "<path d=\"M28.681 7.159c-0.694-0.947-1.662-2.053-2.724-3.116s-2.169-2.030-3.116-2.724c-1.612-1.182-2.393-1.319-2.841-1.319h-15.5c-1.378 0-2.5 1.121-2.5 2.5v27c0 1.378 1.122 2.5 2.5 2.5h23c1.378 0 2.5-1.122 2.5-2.5v-19.5c0-0.448-0.137-1.23-1.319-2.841zM24.543 5.457c0.959 0.959 1.712 1.825 2.268 2.543h-4.811v-4.811c0.718 0.556 1.584 1.309 2.543 2.268zM28 29.5c0 0.271-0.229 0.5-0.5 0.5h-23c-0.271 0-0.5-0.229-0.5-0.5v-27c0-0.271 0.229-0.5 0.5-0.5 0 0 15.499-0 15.5 0v7c0 0.552 0.448 1 1 1h7v19.5z\"></path>\n",
       "<path d=\"M23 26h-14c-0.552 0-1-0.448-1-1s0.448-1 1-1h14c0.552 0 1 0.448 1 1s-0.448 1-1 1z\"></path>\n",
       "<path d=\"M23 22h-14c-0.552 0-1-0.448-1-1s0.448-1 1-1h14c0.552 0 1 0.448 1 1s-0.448 1-1 1z\"></path>\n",
       "<path d=\"M23 18h-14c-0.552 0-1-0.448-1-1s0.448-1 1-1h14c0.552 0 1 0.448 1 1s-0.448 1-1 1z\"></path>\n",
       "</symbol>\n",
       "</defs>\n",
       "</svg>\n",
       "<style>/* CSS stylesheet for displaying xarray objects in jupyterlab.\n",
       " *\n",
       " */\n",
       "\n",
       ":root {\n",
       "  --xr-font-color0: var(--jp-content-font-color0, rgba(0, 0, 0, 1));\n",
       "  --xr-font-color2: var(--jp-content-font-color2, rgba(0, 0, 0, 0.54));\n",
       "  --xr-font-color3: var(--jp-content-font-color3, rgba(0, 0, 0, 0.38));\n",
       "  --xr-border-color: var(--jp-border-color2, #e0e0e0);\n",
       "  --xr-disabled-color: var(--jp-layout-color3, #bdbdbd);\n",
       "  --xr-background-color: var(--jp-layout-color0, white);\n",
       "  --xr-background-color-row-even: var(--jp-layout-color1, white);\n",
       "  --xr-background-color-row-odd: var(--jp-layout-color2, #eeeeee);\n",
       "}\n",
       "\n",
       "html[theme=dark],\n",
       "body[data-theme=dark],\n",
       "body.vscode-dark {\n",
       "  --xr-font-color0: rgba(255, 255, 255, 1);\n",
       "  --xr-font-color2: rgba(255, 255, 255, 0.54);\n",
       "  --xr-font-color3: rgba(255, 255, 255, 0.38);\n",
       "  --xr-border-color: #1F1F1F;\n",
       "  --xr-disabled-color: #515151;\n",
       "  --xr-background-color: #111111;\n",
       "  --xr-background-color-row-even: #111111;\n",
       "  --xr-background-color-row-odd: #313131;\n",
       "}\n",
       "\n",
       ".xr-wrap {\n",
       "  display: block !important;\n",
       "  min-width: 300px;\n",
       "  max-width: 700px;\n",
       "}\n",
       "\n",
       ".xr-text-repr-fallback {\n",
       "  /* fallback to plain text repr when CSS is not injected (untrusted notebook) */\n",
       "  display: none;\n",
       "}\n",
       "\n",
       ".xr-header {\n",
       "  padding-top: 6px;\n",
       "  padding-bottom: 6px;\n",
       "  margin-bottom: 4px;\n",
       "  border-bottom: solid 1px var(--xr-border-color);\n",
       "}\n",
       "\n",
       ".xr-header > div,\n",
       ".xr-header > ul {\n",
       "  display: inline;\n",
       "  margin-top: 0;\n",
       "  margin-bottom: 0;\n",
       "}\n",
       "\n",
       ".xr-obj-type,\n",
       ".xr-array-name {\n",
       "  margin-left: 2px;\n",
       "  margin-right: 10px;\n",
       "}\n",
       "\n",
       ".xr-obj-type {\n",
       "  color: var(--xr-font-color2);\n",
       "}\n",
       "\n",
       ".xr-sections {\n",
       "  padding-left: 0 !important;\n",
       "  display: grid;\n",
       "  grid-template-columns: 150px auto auto 1fr 20px 20px;\n",
       "}\n",
       "\n",
       ".xr-section-item {\n",
       "  display: contents;\n",
       "}\n",
       "\n",
       ".xr-section-item input {\n",
       "  display: none;\n",
       "}\n",
       "\n",
       ".xr-section-item input + label {\n",
       "  color: var(--xr-disabled-color);\n",
       "}\n",
       "\n",
       ".xr-section-item input:enabled + label {\n",
       "  cursor: pointer;\n",
       "  color: var(--xr-font-color2);\n",
       "}\n",
       "\n",
       ".xr-section-item input:enabled + label:hover {\n",
       "  color: var(--xr-font-color0);\n",
       "}\n",
       "\n",
       ".xr-section-summary {\n",
       "  grid-column: 1;\n",
       "  color: var(--xr-font-color2);\n",
       "  font-weight: 500;\n",
       "}\n",
       "\n",
       ".xr-section-summary > span {\n",
       "  display: inline-block;\n",
       "  padding-left: 0.5em;\n",
       "}\n",
       "\n",
       ".xr-section-summary-in:disabled + label {\n",
       "  color: var(--xr-font-color2);\n",
       "}\n",
       "\n",
       ".xr-section-summary-in + label:before {\n",
       "  display: inline-block;\n",
       "  content: '►';\n",
       "  font-size: 11px;\n",
       "  width: 15px;\n",
       "  text-align: center;\n",
       "}\n",
       "\n",
       ".xr-section-summary-in:disabled + label:before {\n",
       "  color: var(--xr-disabled-color);\n",
       "}\n",
       "\n",
       ".xr-section-summary-in:checked + label:before {\n",
       "  content: '▼';\n",
       "}\n",
       "\n",
       ".xr-section-summary-in:checked + label > span {\n",
       "  display: none;\n",
       "}\n",
       "\n",
       ".xr-section-summary,\n",
       ".xr-section-inline-details {\n",
       "  padding-top: 4px;\n",
       "  padding-bottom: 4px;\n",
       "}\n",
       "\n",
       ".xr-section-inline-details {\n",
       "  grid-column: 2 / -1;\n",
       "}\n",
       "\n",
       ".xr-section-details {\n",
       "  display: none;\n",
       "  grid-column: 1 / -1;\n",
       "  margin-bottom: 5px;\n",
       "}\n",
       "\n",
       ".xr-section-summary-in:checked ~ .xr-section-details {\n",
       "  display: contents;\n",
       "}\n",
       "\n",
       ".xr-array-wrap {\n",
       "  grid-column: 1 / -1;\n",
       "  display: grid;\n",
       "  grid-template-columns: 20px auto;\n",
       "}\n",
       "\n",
       ".xr-array-wrap > label {\n",
       "  grid-column: 1;\n",
       "  vertical-align: top;\n",
       "}\n",
       "\n",
       ".xr-preview {\n",
       "  color: var(--xr-font-color3);\n",
       "}\n",
       "\n",
       ".xr-array-preview,\n",
       ".xr-array-data {\n",
       "  padding: 0 5px !important;\n",
       "  grid-column: 2;\n",
       "}\n",
       "\n",
       ".xr-array-data,\n",
       ".xr-array-in:checked ~ .xr-array-preview {\n",
       "  display: none;\n",
       "}\n",
       "\n",
       ".xr-array-in:checked ~ .xr-array-data,\n",
       ".xr-array-preview {\n",
       "  display: inline-block;\n",
       "}\n",
       "\n",
       ".xr-dim-list {\n",
       "  display: inline-block !important;\n",
       "  list-style: none;\n",
       "  padding: 0 !important;\n",
       "  margin: 0;\n",
       "}\n",
       "\n",
       ".xr-dim-list li {\n",
       "  display: inline-block;\n",
       "  padding: 0;\n",
       "  margin: 0;\n",
       "}\n",
       "\n",
       ".xr-dim-list:before {\n",
       "  content: '(';\n",
       "}\n",
       "\n",
       ".xr-dim-list:after {\n",
       "  content: ')';\n",
       "}\n",
       "\n",
       ".xr-dim-list li:not(:last-child):after {\n",
       "  content: ',';\n",
       "  padding-right: 5px;\n",
       "}\n",
       "\n",
       ".xr-has-index {\n",
       "  font-weight: bold;\n",
       "}\n",
       "\n",
       ".xr-var-list,\n",
       ".xr-var-item {\n",
       "  display: contents;\n",
       "}\n",
       "\n",
       ".xr-var-item > div,\n",
       ".xr-var-item label,\n",
       ".xr-var-item > .xr-var-name span {\n",
       "  background-color: var(--xr-background-color-row-even);\n",
       "  margin-bottom: 0;\n",
       "}\n",
       "\n",
       ".xr-var-item > .xr-var-name:hover span {\n",
       "  padding-right: 5px;\n",
       "}\n",
       "\n",
       ".xr-var-list > li:nth-child(odd) > div,\n",
       ".xr-var-list > li:nth-child(odd) > label,\n",
       ".xr-var-list > li:nth-child(odd) > .xr-var-name span {\n",
       "  background-color: var(--xr-background-color-row-odd);\n",
       "}\n",
       "\n",
       ".xr-var-name {\n",
       "  grid-column: 1;\n",
       "}\n",
       "\n",
       ".xr-var-dims {\n",
       "  grid-column: 2;\n",
       "}\n",
       "\n",
       ".xr-var-dtype {\n",
       "  grid-column: 3;\n",
       "  text-align: right;\n",
       "  color: var(--xr-font-color2);\n",
       "}\n",
       "\n",
       ".xr-var-preview {\n",
       "  grid-column: 4;\n",
       "}\n",
       "\n",
       ".xr-index-preview {\n",
       "  grid-column: 2 / 5;\n",
       "  color: var(--xr-font-color2);\n",
       "}\n",
       "\n",
       ".xr-var-name,\n",
       ".xr-var-dims,\n",
       ".xr-var-dtype,\n",
       ".xr-preview,\n",
       ".xr-attrs dt {\n",
       "  white-space: nowrap;\n",
       "  overflow: hidden;\n",
       "  text-overflow: ellipsis;\n",
       "  padding-right: 10px;\n",
       "}\n",
       "\n",
       ".xr-var-name:hover,\n",
       ".xr-var-dims:hover,\n",
       ".xr-var-dtype:hover,\n",
       ".xr-attrs dt:hover {\n",
       "  overflow: visible;\n",
       "  width: auto;\n",
       "  z-index: 1;\n",
       "}\n",
       "\n",
       ".xr-var-attrs,\n",
       ".xr-var-data,\n",
       ".xr-index-data {\n",
       "  display: none;\n",
       "  background-color: var(--xr-background-color) !important;\n",
       "  padding-bottom: 5px !important;\n",
       "}\n",
       "\n",
       ".xr-var-attrs-in:checked ~ .xr-var-attrs,\n",
       ".xr-var-data-in:checked ~ .xr-var-data,\n",
       ".xr-index-data-in:checked ~ .xr-index-data {\n",
       "  display: block;\n",
       "}\n",
       "\n",
       ".xr-var-data > table {\n",
       "  float: right;\n",
       "}\n",
       "\n",
       ".xr-var-name span,\n",
       ".xr-var-data,\n",
       ".xr-index-name div,\n",
       ".xr-index-data,\n",
       ".xr-attrs {\n",
       "  padding-left: 25px !important;\n",
       "}\n",
       "\n",
       ".xr-attrs,\n",
       ".xr-var-attrs,\n",
       ".xr-var-data,\n",
       ".xr-index-data {\n",
       "  grid-column: 1 / -1;\n",
       "}\n",
       "\n",
       "dl.xr-attrs {\n",
       "  padding: 0;\n",
       "  margin: 0;\n",
       "  display: grid;\n",
       "  grid-template-columns: 125px auto;\n",
       "}\n",
       "\n",
       ".xr-attrs dt,\n",
       ".xr-attrs dd {\n",
       "  padding: 0;\n",
       "  margin: 0;\n",
       "  float: left;\n",
       "  padding-right: 10px;\n",
       "  width: auto;\n",
       "}\n",
       "\n",
       ".xr-attrs dt {\n",
       "  font-weight: normal;\n",
       "  grid-column: 1;\n",
       "}\n",
       "\n",
       ".xr-attrs dt:hover span {\n",
       "  display: inline-block;\n",
       "  background: var(--xr-background-color);\n",
       "  padding-right: 10px;\n",
       "}\n",
       "\n",
       ".xr-attrs dd {\n",
       "  grid-column: 2;\n",
       "  white-space: pre-wrap;\n",
       "  word-break: break-all;\n",
       "}\n",
       "\n",
       ".xr-icon-database,\n",
       ".xr-icon-file-text2,\n",
       ".xr-no-icon {\n",
       "  display: inline-block;\n",
       "  vertical-align: middle;\n",
       "  width: 1em;\n",
       "  height: 1.5em !important;\n",
       "  stroke-width: 0;\n",
       "  stroke: currentColor;\n",
       "  fill: currentColor;\n",
       "}\n",
       "</style><pre class='xr-text-repr-fallback'>&lt;xarray.ScalarFieldDataArray (x: 177, y: 1, z: 153, f: 11)&gt;\n",
       "array([[[[ 0.0000000e+00+0.0000000e+00j,  0.0000000e+00+0.0000000e+00j,\n",
       "          -0.0000000e+00-0.0000000e+00j, ...,\n",
       "           0.0000000e+00+0.0000000e+00j,  0.0000000e+00-0.0000000e+00j,\n",
       "          -0.0000000e+00-0.0000000e+00j],\n",
       "         [-9.0770925e-08-1.2804098e-08j,  6.5092685e-08-3.5365655e-08j,\n",
       "           2.6104958e-08+5.6322951e-09j, ...,\n",
       "          -2.8435318e-08-2.4108546e-08j,  3.0787049e-08-3.5094494e-08j,\n",
       "           1.3252189e-08+2.5514247e-08j],\n",
       "         [-1.6188383e-06+3.1313900e-07j,  8.0592355e-07-9.8229361e-07j,\n",
       "           5.4657113e-07+7.9934644e-08j, ...,\n",
       "          -7.8364189e-07-2.7073636e-07j,  3.8027468e-07-8.3809601e-07j,\n",
       "           5.5882930e-07+4.0778826e-07j],\n",
       "         ...,\n",
       "         [ 7.8841317e-08+9.8605817e-09j, -4.0270468e-08+3.8415706e-08j,\n",
       "          -3.8580531e-08-2.4177677e-08j, ...,\n",
       "           2.8329255e-08+1.5764019e-08j, -1.1265838e-08+5.2339299e-08j,\n",
       "          -1.8481412e-08-4.1445595e-08j],\n",
       "         [ 3.3049863e-09-2.3048520e-10j, -1.3494460e-09-5.6196992e-10j,\n",
       "          -1.2961143e-09-1.2332633e-09j, ...,\n",
       "           1.0742378e-09+5.8784227e-10j,  3.5722611e-10+1.4096004e-09j,\n",
       "...\n",
       "          -7.5133144e-09-3.1461251e-09j, ...,\n",
       "          -4.0568784e-09+2.3110618e-09j,  1.6290412e-09+1.2520600e-10j,\n",
       "           2.1699729e-09-5.7158842e-09j],\n",
       "         [-3.3594535e-08-4.8179739e-08j,  6.9399988e-08+5.5320999e-08j,\n",
       "          -8.0717605e-08-5.0175757e-08j, ...,\n",
       "          -5.7223581e-08+3.7532772e-08j,  5.8962666e-08+4.5769131e-09j,\n",
       "          -2.5508758e-08-8.4895902e-08j],\n",
       "         ...,\n",
       "         [-3.8917700e-09+8.8568246e-09j, -2.1279656e-09-6.8491035e-09j,\n",
       "           1.4643381e-10+6.0986007e-09j, ...,\n",
       "          -1.2794479e-09-1.4253188e-09j,  1.6316178e-09+1.8277708e-09j,\n",
       "          -4.9665903e-09-2.9943004e-10j],\n",
       "         [-2.4466744e-09+2.5193989e-10j, -8.6239227e-10+4.8538884e-10j,\n",
       "           5.2805239e-11+5.7951061e-10j, ...,\n",
       "          -7.0545670e-12-1.9684618e-10j,  3.0306310e-10-8.6941850e-11j,\n",
       "          -4.8372378e-10-2.7638719e-10j],\n",
       "         [ 0.0000000e+00+0.0000000e+00j,  0.0000000e+00+0.0000000e+00j,\n",
       "          -0.0000000e+00-0.0000000e+00j, ...,\n",
       "           0.0000000e+00+0.0000000e+00j,  0.0000000e+00-0.0000000e+00j,\n",
       "          -0.0000000e+00-0.0000000e+00j]]]], dtype=complex64)\n",
       "Coordinates:\n",
       "  * x        (x) float64 -2.896 -2.863 -2.83 -2.797 ... 2.797 2.83 2.863 2.896\n",
       "  * y        (y) float64 0.0\n",
       "  * z        (z) float64 -3.061 -3.015 -2.968 -2.921 ... 2.922 2.968 3.015 3.062\n",
       "  * f        (f) float64 1e+14 1.2e+14 1.4e+14 1.6e+14 ... 2.6e+14 2.8e+14 3e+14\n",
       "Attributes:\n",
       "    long_name:  field value</pre><div class='xr-wrap' style='display:none'><div class='xr-header'><div class='xr-obj-type'>xarray.ScalarFieldDataArray</div><div class='xr-array-name'></div><ul class='xr-dim-list'><li><span class='xr-has-index'>x</span>: 177</li><li><span class='xr-has-index'>y</span>: 1</li><li><span class='xr-has-index'>z</span>: 153</li><li><span class='xr-has-index'>f</span>: 11</li></ul></div><ul class='xr-sections'><li class='xr-section-item'><div class='xr-array-wrap'><input id='section-cbae68aa-2d19-4254-bccf-0e159a260827' class='xr-array-in' type='checkbox' checked><label for='section-cbae68aa-2d19-4254-bccf-0e159a260827' title='Show/hide data repr'><svg class='icon xr-icon-database'><use xlink:href='#icon-database'></use></svg></label><div class='xr-array-preview xr-preview'><span>0j 0j (-0-0j) (-0-0j) 0j 0j ... 0j (-0-0j) (-0+0j) 0j -0j (-0-0j)</span></div><div class='xr-array-data'><pre>array([[[[ 0.0000000e+00+0.0000000e+00j,  0.0000000e+00+0.0000000e+00j,\n",
       "          -0.0000000e+00-0.0000000e+00j, ...,\n",
       "           0.0000000e+00+0.0000000e+00j,  0.0000000e+00-0.0000000e+00j,\n",
       "          -0.0000000e+00-0.0000000e+00j],\n",
       "         [-9.0770925e-08-1.2804098e-08j,  6.5092685e-08-3.5365655e-08j,\n",
       "           2.6104958e-08+5.6322951e-09j, ...,\n",
       "          -2.8435318e-08-2.4108546e-08j,  3.0787049e-08-3.5094494e-08j,\n",
       "           1.3252189e-08+2.5514247e-08j],\n",
       "         [-1.6188383e-06+3.1313900e-07j,  8.0592355e-07-9.8229361e-07j,\n",
       "           5.4657113e-07+7.9934644e-08j, ...,\n",
       "          -7.8364189e-07-2.7073636e-07j,  3.8027468e-07-8.3809601e-07j,\n",
       "           5.5882930e-07+4.0778826e-07j],\n",
       "         ...,\n",
       "         [ 7.8841317e-08+9.8605817e-09j, -4.0270468e-08+3.8415706e-08j,\n",
       "          -3.8580531e-08-2.4177677e-08j, ...,\n",
       "           2.8329255e-08+1.5764019e-08j, -1.1265838e-08+5.2339299e-08j,\n",
       "          -1.8481412e-08-4.1445595e-08j],\n",
       "         [ 3.3049863e-09-2.3048520e-10j, -1.3494460e-09-5.6196992e-10j,\n",
       "          -1.2961143e-09-1.2332633e-09j, ...,\n",
       "           1.0742378e-09+5.8784227e-10j,  3.5722611e-10+1.4096004e-09j,\n",
       "...\n",
       "          -7.5133144e-09-3.1461251e-09j, ...,\n",
       "          -4.0568784e-09+2.3110618e-09j,  1.6290412e-09+1.2520600e-10j,\n",
       "           2.1699729e-09-5.7158842e-09j],\n",
       "         [-3.3594535e-08-4.8179739e-08j,  6.9399988e-08+5.5320999e-08j,\n",
       "          -8.0717605e-08-5.0175757e-08j, ...,\n",
       "          -5.7223581e-08+3.7532772e-08j,  5.8962666e-08+4.5769131e-09j,\n",
       "          -2.5508758e-08-8.4895902e-08j],\n",
       "         ...,\n",
       "         [-3.8917700e-09+8.8568246e-09j, -2.1279656e-09-6.8491035e-09j,\n",
       "           1.4643381e-10+6.0986007e-09j, ...,\n",
       "          -1.2794479e-09-1.4253188e-09j,  1.6316178e-09+1.8277708e-09j,\n",
       "          -4.9665903e-09-2.9943004e-10j],\n",
       "         [-2.4466744e-09+2.5193989e-10j, -8.6239227e-10+4.8538884e-10j,\n",
       "           5.2805239e-11+5.7951061e-10j, ...,\n",
       "          -7.0545670e-12-1.9684618e-10j,  3.0306310e-10-8.6941850e-11j,\n",
       "          -4.8372378e-10-2.7638719e-10j],\n",
       "         [ 0.0000000e+00+0.0000000e+00j,  0.0000000e+00+0.0000000e+00j,\n",
       "          -0.0000000e+00-0.0000000e+00j, ...,\n",
       "           0.0000000e+00+0.0000000e+00j,  0.0000000e+00-0.0000000e+00j,\n",
       "          -0.0000000e+00-0.0000000e+00j]]]], dtype=complex64)</pre></div></div></li><li class='xr-section-item'><input id='section-4ef5c041-2f22-42ec-a9fa-aca6832ccb98' class='xr-section-summary-in' type='checkbox'  checked><label for='section-4ef5c041-2f22-42ec-a9fa-aca6832ccb98' class='xr-section-summary' >Coordinates: <span>(4)</span></label><div class='xr-section-inline-details'></div><div class='xr-section-details'><ul class='xr-var-list'><li class='xr-var-item'><div class='xr-var-name'><span class='xr-has-index'>x</span></div><div class='xr-var-dims'>(x)</div><div class='xr-var-dtype'>float64</div><div class='xr-var-preview xr-preview'>-2.896 -2.863 -2.83 ... 2.863 2.896</div><input id='attrs-2110a2c4-8765-419b-abce-ace8c8d8d4d2' class='xr-var-attrs-in' type='checkbox' ><label for='attrs-2110a2c4-8765-419b-abce-ace8c8d8d4d2' title='Show/Hide attributes'><svg class='icon xr-icon-file-text2'><use xlink:href='#icon-file-text2'></use></svg></label><input id='data-d4c738e9-0078-43ea-9c9f-50159f8de240' class='xr-var-data-in' type='checkbox'><label for='data-d4c738e9-0078-43ea-9c9f-50159f8de240' title='Show/Hide data repr'><svg class='icon xr-icon-database'><use xlink:href='#icon-database'></use></svg></label><div class='xr-var-attrs'><dl class='xr-attrs'><dt><span>units :</span></dt><dd>um</dd><dt><span>long_name :</span></dt><dd>x position</dd></dl></div><div class='xr-var-data'><pre>array([-2.896226e+00, -2.863208e+00, -2.830189e+00, -2.797170e+00,\n",
       "       -2.764151e+00, -2.731132e+00, -2.698113e+00, -2.665094e+00,\n",
       "       -2.632075e+00, -2.599057e+00, -2.566038e+00, -2.533019e+00,\n",
       "       -2.500000e+00, -2.466981e+00, -2.433962e+00, -2.400943e+00,\n",
       "       -2.367925e+00, -2.334906e+00, -2.301887e+00, -2.268868e+00,\n",
       "       -2.235849e+00, -2.202830e+00, -2.169811e+00, -2.136792e+00,\n",
       "       -2.103774e+00, -2.070755e+00, -2.037736e+00, -2.004717e+00,\n",
       "       -1.971698e+00, -1.938679e+00, -1.905660e+00, -1.872642e+00,\n",
       "       -1.839623e+00, -1.806604e+00, -1.773585e+00, -1.740566e+00,\n",
       "       -1.707547e+00, -1.674528e+00, -1.641509e+00, -1.608491e+00,\n",
       "       -1.575472e+00, -1.542453e+00, -1.509434e+00, -1.476415e+00,\n",
       "       -1.443396e+00, -1.410377e+00, -1.377358e+00, -1.344340e+00,\n",
       "       -1.311321e+00, -1.278302e+00, -1.245283e+00, -1.212264e+00,\n",
       "       -1.179245e+00, -1.146226e+00, -1.113208e+00, -1.080189e+00,\n",
       "       -1.047170e+00, -1.014151e+00, -9.811321e-01, -9.481132e-01,\n",
       "       -9.150943e-01, -8.820755e-01, -8.490566e-01, -8.160377e-01,\n",
       "       -7.830189e-01, -7.500000e-01, -7.173913e-01, -6.847826e-01,\n",
       "       -6.521739e-01, -6.195652e-01, -5.869565e-01, -5.543478e-01,\n",
       "       -5.217391e-01, -4.891304e-01, -4.565217e-01, -4.239130e-01,\n",
       "       -3.913043e-01, -3.586957e-01, -3.260870e-01, -2.934783e-01,\n",
       "       -2.608696e-01, -2.282609e-01, -1.956522e-01, -1.630435e-01,\n",
       "       -1.304348e-01, -9.782609e-02, -6.521739e-02, -3.260870e-02,\n",
       "       -2.220446e-15,  3.260870e-02,  6.521739e-02,  9.782609e-02,\n",
       "        1.304348e-01,  1.630435e-01,  1.956522e-01,  2.282609e-01,\n",
       "        2.608696e-01,  2.934783e-01,  3.260870e-01,  3.586957e-01,\n",
       "        3.913043e-01,  4.239130e-01,  4.565217e-01,  4.891304e-01,\n",
       "        5.217391e-01,  5.543478e-01,  5.869565e-01,  6.195652e-01,\n",
       "        6.521739e-01,  6.847826e-01,  7.173913e-01,  7.500000e-01,\n",
       "        7.830189e-01,  8.160377e-01,  8.490566e-01,  8.820755e-01,\n",
       "        9.150943e-01,  9.481132e-01,  9.811321e-01,  1.014151e+00,\n",
       "        1.047170e+00,  1.080189e+00,  1.113208e+00,  1.146226e+00,\n",
       "        1.179245e+00,  1.212264e+00,  1.245283e+00,  1.278302e+00,\n",
       "        1.311321e+00,  1.344340e+00,  1.377358e+00,  1.410377e+00,\n",
       "        1.443396e+00,  1.476415e+00,  1.509434e+00,  1.542453e+00,\n",
       "        1.575472e+00,  1.608491e+00,  1.641509e+00,  1.674528e+00,\n",
       "        1.707547e+00,  1.740566e+00,  1.773585e+00,  1.806604e+00,\n",
       "        1.839623e+00,  1.872642e+00,  1.905660e+00,  1.938679e+00,\n",
       "        1.971698e+00,  2.004717e+00,  2.037736e+00,  2.070755e+00,\n",
       "        2.103774e+00,  2.136792e+00,  2.169811e+00,  2.202830e+00,\n",
       "        2.235849e+00,  2.268868e+00,  2.301887e+00,  2.334906e+00,\n",
       "        2.367925e+00,  2.400943e+00,  2.433962e+00,  2.466981e+00,\n",
       "        2.500000e+00,  2.533019e+00,  2.566038e+00,  2.599057e+00,\n",
       "        2.632075e+00,  2.665094e+00,  2.698113e+00,  2.731132e+00,\n",
       "        2.764151e+00,  2.797170e+00,  2.830189e+00,  2.863208e+00,\n",
       "        2.896226e+00])</pre></div></li><li class='xr-var-item'><div class='xr-var-name'><span class='xr-has-index'>y</span></div><div class='xr-var-dims'>(y)</div><div class='xr-var-dtype'>float64</div><div class='xr-var-preview xr-preview'>0.0</div><input id='attrs-c6b0d867-cbd4-4fb6-a701-766ab8c21ce9' class='xr-var-attrs-in' type='checkbox' ><label for='attrs-c6b0d867-cbd4-4fb6-a701-766ab8c21ce9' title='Show/Hide attributes'><svg class='icon xr-icon-file-text2'><use xlink:href='#icon-file-text2'></use></svg></label><input id='data-354858de-454a-4cd8-9d1f-53b0cabb5e1d' class='xr-var-data-in' type='checkbox'><label for='data-354858de-454a-4cd8-9d1f-53b0cabb5e1d' title='Show/Hide data repr'><svg class='icon xr-icon-database'><use xlink:href='#icon-database'></use></svg></label><div class='xr-var-attrs'><dl class='xr-attrs'><dt><span>units :</span></dt><dd>um</dd><dt><span>long_name :</span></dt><dd>y position</dd></dl></div><div class='xr-var-data'><pre>array([0.])</pre></div></li><li class='xr-var-item'><div class='xr-var-name'><span class='xr-has-index'>z</span></div><div class='xr-var-dims'>(z)</div><div class='xr-var-dtype'>float64</div><div class='xr-var-preview xr-preview'>-3.061 -3.015 ... 3.015 3.062</div><input id='attrs-71575897-f3d3-4348-b33a-45242fce1d3e' class='xr-var-attrs-in' type='checkbox' ><label for='attrs-71575897-f3d3-4348-b33a-45242fce1d3e' title='Show/Hide attributes'><svg class='icon xr-icon-file-text2'><use xlink:href='#icon-file-text2'></use></svg></label><input id='data-d25ed8b9-8217-4f6f-ac93-8b87d65160da' class='xr-var-data-in' type='checkbox'><label for='data-d25ed8b9-8217-4f6f-ac93-8b87d65160da' title='Show/Hide data repr'><svg class='icon xr-icon-database'><use xlink:href='#icon-database'></use></svg></label><div class='xr-var-attrs'><dl class='xr-attrs'><dt><span>units :</span></dt><dd>um</dd><dt><span>long_name :</span></dt><dd>z position</dd></dl></div><div class='xr-var-data'><pre>array([-3.061435, -3.014649, -2.967862, -2.921076, -2.87429 , -2.827504,\n",
       "       -2.780717, -2.733931, -2.687145, -2.640359, -2.593572, -2.546786,\n",
       "       -2.5     , -2.453214, -2.406428, -2.359641, -2.312855, -2.266069,\n",
       "       -2.219283, -2.172496, -2.12571 , -2.078924, -2.032138, -1.985351,\n",
       "       -1.938565, -1.891779, -1.844993, -1.798206, -1.75142 , -1.704634,\n",
       "       -1.657848, -1.611062, -1.564275, -1.517489, -1.470703, -1.423917,\n",
       "       -1.37713 , -1.330344, -1.283558, -1.236772, -1.189985, -1.143199,\n",
       "       -1.096413, -1.049627, -1.00284 , -0.956054, -0.909268, -0.862482,\n",
       "       -0.816166, -0.783083, -0.75    , -0.71875 , -0.6875  , -0.65625 ,\n",
       "       -0.625   , -0.59375 , -0.5625  , -0.53125 , -0.5     , -0.46875 ,\n",
       "       -0.4375  , -0.40625 , -0.375   , -0.34375 , -0.3125  , -0.28125 ,\n",
       "       -0.25    , -0.217742, -0.185484, -0.153226, -0.120968, -0.08871 ,\n",
       "       -0.056452, -0.024194,  0.008065,  0.040323,  0.072581,  0.104839,\n",
       "        0.137097,  0.169355,  0.201613,  0.233871,  0.266129,  0.298387,\n",
       "        0.330645,  0.362903,  0.395161,  0.427419,  0.459677,  0.491935,\n",
       "        0.524194,  0.556452,  0.58871 ,  0.620968,  0.653226,  0.685484,\n",
       "        0.717742,  0.75    ,  0.78125 ,  0.8125  ,  0.84375 ,  0.875   ,\n",
       "        0.90625 ,  0.9375  ,  0.96875 ,  1.      ,  1.03125 ,  1.0625  ,\n",
       "        1.09375 ,  1.125   ,  1.15625 ,  1.1875  ,  1.21875 ,  1.25    ,\n",
       "        1.283123,  1.329407,  1.375778,  1.422621,  1.469463,  1.516306,\n",
       "        1.563149,  1.609991,  1.656834,  1.703676,  1.750519,  1.797361,\n",
       "        1.844204,  1.891047,  1.937889,  1.984732,  2.031574,  2.078417,\n",
       "        2.125259,  2.172102,  2.218945,  2.265787,  2.31263 ,  2.359472,\n",
       "        2.406315,  2.453157,  2.5     ,  2.546843,  2.593685,  2.640528,\n",
       "        2.68737 ,  2.734213,  2.781055,  2.827898,  2.874741,  2.921583,\n",
       "        2.968426,  3.015268,  3.062111])</pre></div></li><li class='xr-var-item'><div class='xr-var-name'><span class='xr-has-index'>f</span></div><div class='xr-var-dims'>(f)</div><div class='xr-var-dtype'>float64</div><div class='xr-var-preview xr-preview'>1e+14 1.2e+14 ... 2.8e+14 3e+14</div><input id='attrs-b94d60f6-9dac-42ce-8592-6f321c2f604e' class='xr-var-attrs-in' type='checkbox' ><label for='attrs-b94d60f6-9dac-42ce-8592-6f321c2f604e' title='Show/Hide attributes'><svg class='icon xr-icon-file-text2'><use xlink:href='#icon-file-text2'></use></svg></label><input id='data-c971f8c4-1627-4169-9ff8-b77e01102eb4' class='xr-var-data-in' type='checkbox'><label for='data-c971f8c4-1627-4169-9ff8-b77e01102eb4' title='Show/Hide data repr'><svg class='icon xr-icon-database'><use xlink:href='#icon-database'></use></svg></label><div class='xr-var-attrs'><dl class='xr-attrs'><dt><span>units :</span></dt><dd>Hz</dd><dt><span>long_name :</span></dt><dd>frequency</dd></dl></div><div class='xr-var-data'><pre>array([1.0e+14, 1.2e+14, 1.4e+14, 1.6e+14, 1.8e+14, 2.0e+14, 2.2e+14, 2.4e+14,\n",
       "       2.6e+14, 2.8e+14, 3.0e+14])</pre></div></li></ul></div></li><li class='xr-section-item'><input id='section-c5e14382-91c0-43ef-b3ea-1f6fbbb20bcc' class='xr-section-summary-in' type='checkbox'  ><label for='section-c5e14382-91c0-43ef-b3ea-1f6fbbb20bcc' class='xr-section-summary' >Indexes: <span>(4)</span></label><div class='xr-section-inline-details'></div><div class='xr-section-details'><ul class='xr-var-list'><li class='xr-var-item'><div class='xr-index-name'><div>x</div></div><div class='xr-index-preview'>PandasIndex</div><div></div><input id='index-f1843012-8ccd-4c37-bcae-7bd8f115471b' class='xr-index-data-in' type='checkbox'/><label for='index-f1843012-8ccd-4c37-bcae-7bd8f115471b' title='Show/Hide index repr'><svg class='icon xr-icon-database'><use xlink:href='#icon-database'></use></svg></label><div class='xr-index-data'><pre>PandasIndex(Index([-2.8962264150943415,  -2.863207547169813, -2.8301886792452846,\n",
       "        -2.797169811320756, -2.7641509433962277, -2.7311320754716992,\n",
       "       -2.6981132075471708, -2.6650943396226423,  -2.632075471698114,\n",
       "       -2.5990566037735854,\n",
       "       ...\n",
       "        2.5990566037736107,  2.6320754716981476,  2.6650943396226845,\n",
       "        2.6981132075472214,  2.7311320754717583,   2.764150943396295,\n",
       "         2.797169811320832,   2.830188679245369,   2.863207547169906,\n",
       "         2.896226415094443],\n",
       "      dtype=&#x27;float64&#x27;, name=&#x27;x&#x27;, length=177))</pre></div></li><li class='xr-var-item'><div class='xr-index-name'><div>y</div></div><div class='xr-index-preview'>PandasIndex</div><div></div><input id='index-83e3c52d-00b0-4ed8-9192-bc95884783cb' class='xr-index-data-in' type='checkbox'/><label for='index-83e3c52d-00b0-4ed8-9192-bc95884783cb' title='Show/Hide index repr'><svg class='icon xr-icon-database'><use xlink:href='#icon-database'></use></svg></label><div class='xr-index-data'><pre>PandasIndex(Index([0.0], dtype=&#x27;float64&#x27;, name=&#x27;y&#x27;))</pre></div></li><li class='xr-var-item'><div class='xr-index-name'><div>z</div></div><div class='xr-index-preview'>PandasIndex</div><div></div><input id='index-a0b5c374-f9b6-4419-9054-151aaaa16328' class='xr-index-data-in' type='checkbox'/><label for='index-a0b5c374-f9b6-4419-9054-151aaaa16328' title='Show/Hide index repr'><svg class='icon xr-icon-database'><use xlink:href='#icon-database'></use></svg></label><div class='xr-index-data'><pre>PandasIndex(Index([-3.0614348319608258, -3.0146485959640903,  -2.967862359967355,\n",
       "       -2.9210761239706193,  -2.874289887973884, -2.8275036519771484,\n",
       "        -2.780717415980413, -2.7339311799836774,  -2.687144943986942,\n",
       "       -2.6403587079902064,\n",
       "       ...\n",
       "        2.6405277146874875,  2.6873702862499833,   2.734212857812479,\n",
       "         2.781055429374975,   2.827898000937471,  2.8747405724999666,\n",
       "        2.9215831440624624,  2.9684257156249583,   3.015268287187454,\n",
       "          3.06211085874995],\n",
       "      dtype=&#x27;float64&#x27;, name=&#x27;z&#x27;, length=153))</pre></div></li><li class='xr-var-item'><div class='xr-index-name'><div>f</div></div><div class='xr-index-preview'>PandasIndex</div><div></div><input id='index-8a5f78f3-4166-4926-86a4-16450c5d4085' class='xr-index-data-in' type='checkbox'/><label for='index-8a5f78f3-4166-4926-86a4-16450c5d4085' title='Show/Hide index repr'><svg class='icon xr-icon-database'><use xlink:href='#icon-database'></use></svg></label><div class='xr-index-data'><pre>PandasIndex(Index([100000000000000.0, 120000000000000.0, 140000000000000.0,\n",
       "       160000000000000.0, 180000000000000.0, 200000000000000.0,\n",
       "       220000000000000.0, 240000000000000.0, 260000000000000.0,\n",
       "       280000000000000.0, 300000000000000.0],\n",
       "      dtype=&#x27;float64&#x27;, name=&#x27;f&#x27;))</pre></div></li></ul></div></li><li class='xr-section-item'><input id='section-775c6ccc-8846-4831-afe8-80959aeae3ff' class='xr-section-summary-in' type='checkbox'  checked><label for='section-775c6ccc-8846-4831-afe8-80959aeae3ff' class='xr-section-summary' >Attributes: <span>(1)</span></label><div class='xr-section-inline-details'></div><div class='xr-section-details'><dl class='xr-attrs'><dt><span>long_name :</span></dt><dd>field value</dd></dl></div></li></ul></div></div>"
      ],
      "text/plain": [
       "<xarray.ScalarFieldDataArray (x: 177, y: 1, z: 153, f: 11)>\n",
       "array([[[[ 0.0000000e+00+0.0000000e+00j,  0.0000000e+00+0.0000000e+00j,\n",
       "          -0.0000000e+00-0.0000000e+00j, ...,\n",
       "           0.0000000e+00+0.0000000e+00j,  0.0000000e+00-0.0000000e+00j,\n",
       "          -0.0000000e+00-0.0000000e+00j],\n",
       "         [-9.0770925e-08-1.2804098e-08j,  6.5092685e-08-3.5365655e-08j,\n",
       "           2.6104958e-08+5.6322951e-09j, ...,\n",
       "          -2.8435318e-08-2.4108546e-08j,  3.0787049e-08-3.5094494e-08j,\n",
       "           1.3252189e-08+2.5514247e-08j],\n",
       "         [-1.6188383e-06+3.1313900e-07j,  8.0592355e-07-9.8229361e-07j,\n",
       "           5.4657113e-07+7.9934644e-08j, ...,\n",
       "          -7.8364189e-07-2.7073636e-07j,  3.8027468e-07-8.3809601e-07j,\n",
       "           5.5882930e-07+4.0778826e-07j],\n",
       "         ...,\n",
       "         [ 7.8841317e-08+9.8605817e-09j, -4.0270468e-08+3.8415706e-08j,\n",
       "          -3.8580531e-08-2.4177677e-08j, ...,\n",
       "           2.8329255e-08+1.5764019e-08j, -1.1265838e-08+5.2339299e-08j,\n",
       "          -1.8481412e-08-4.1445595e-08j],\n",
       "         [ 3.3049863e-09-2.3048520e-10j, -1.3494460e-09-5.6196992e-10j,\n",
       "          -1.2961143e-09-1.2332633e-09j, ...,\n",
       "           1.0742378e-09+5.8784227e-10j,  3.5722611e-10+1.4096004e-09j,\n",
       "...\n",
       "          -7.5133144e-09-3.1461251e-09j, ...,\n",
       "          -4.0568784e-09+2.3110618e-09j,  1.6290412e-09+1.2520600e-10j,\n",
       "           2.1699729e-09-5.7158842e-09j],\n",
       "         [-3.3594535e-08-4.8179739e-08j,  6.9399988e-08+5.5320999e-08j,\n",
       "          -8.0717605e-08-5.0175757e-08j, ...,\n",
       "          -5.7223581e-08+3.7532772e-08j,  5.8962666e-08+4.5769131e-09j,\n",
       "          -2.5508758e-08-8.4895902e-08j],\n",
       "         ...,\n",
       "         [-3.8917700e-09+8.8568246e-09j, -2.1279656e-09-6.8491035e-09j,\n",
       "           1.4643381e-10+6.0986007e-09j, ...,\n",
       "          -1.2794479e-09-1.4253188e-09j,  1.6316178e-09+1.8277708e-09j,\n",
       "          -4.9665903e-09-2.9943004e-10j],\n",
       "         [-2.4466744e-09+2.5193989e-10j, -8.6239227e-10+4.8538884e-10j,\n",
       "           5.2805239e-11+5.7951061e-10j, ...,\n",
       "          -7.0545670e-12-1.9684618e-10j,  3.0306310e-10-8.6941850e-11j,\n",
       "          -4.8372378e-10-2.7638719e-10j],\n",
       "         [ 0.0000000e+00+0.0000000e+00j,  0.0000000e+00+0.0000000e+00j,\n",
       "          -0.0000000e+00-0.0000000e+00j, ...,\n",
       "           0.0000000e+00+0.0000000e+00j,  0.0000000e+00-0.0000000e+00j,\n",
       "          -0.0000000e+00-0.0000000e+00j]]]], dtype=complex64)\n",
       "Coordinates:\n",
       "  * x        (x) float64 -2.896 -2.863 -2.83 -2.797 ... 2.797 2.83 2.863 2.896\n",
       "  * y        (y) float64 0.0\n",
       "  * z        (z) float64 -3.061 -3.015 -2.968 -2.921 ... 2.922 2.968 3.015 3.062\n",
       "  * f        (f) float64 1e+14 1.2e+14 1.4e+14 1.6e+14 ... 2.6e+14 2.8e+14 3e+14\n",
       "Attributes:\n",
       "    long_name:  field value"
      ]
     },
     "execution_count": 23,
     "metadata": {},
     "output_type": "execute_result"
    }
   ],
   "source": [
    "field_data.Ex\n"
   ]
  },
  {
   "cell_type": "markdown",
   "id": "51efd903",
   "metadata": {},
   "source": [
    "In this case, the dimensions of the data are the spatial locations on the yee lattice (x,y,z) and the frequency."
   ]
  },
  {
   "cell_type": "markdown",
   "id": "ebeb2dfe",
   "metadata": {
    "tags": []
   },
   "source": [
    "### Colocating Field Data\n",
    "\n",
    "For many advanced plots and other manipulations, it is convenient to have the field data co-located at the same positions, since they are naturally defined on separate locations on the yee lattice. There are several convenience methods that can be used for this."
   ]
  },
  {
   "cell_type": "code",
   "execution_count": 24,
   "id": "bc53fa35",
   "metadata": {
    "execution": {
     "iopub.execute_input": "2024-02-17T09:26:40.393528Z",
     "iopub.status.busy": "2024-02-17T09:26:40.393357Z",
     "iopub.status.idle": "2024-02-17T09:26:40.572775Z",
     "shell.execute_reply": "2024-02-17T09:26:40.572202Z"
    },
    "tags": []
   },
   "outputs": [
    {
     "data": {
      "text/html": [
       "<pre style=\"white-space:pre;overflow-x:auto;line-height:normal;font-family:Menlo,'DejaVu Sans Mono',consolas,'Courier New',monospace\"><span style=\"color: #7fbfbf; text-decoration-color: #7fbfbf\">01:26:40 PST </span><span style=\"color: #800000; text-decoration-color: #800000\">WARNING: Colocating data that has already been colocated during the</span>\n",
       "<span style=\"color: #7fbfbf; text-decoration-color: #7fbfbf\">             </span><span style=\"color: #800000; text-decoration-color: #800000\">solver run. For most accurate results when colocating to custom    </span>\n",
       "<span style=\"color: #7fbfbf; text-decoration-color: #7fbfbf\">             </span><span style=\"color: #800000; text-decoration-color: #800000\">coordinates set </span><span style=\"color: #008000; text-decoration-color: #008000\">'Monitor.colocate'</span><span style=\"color: #800000; text-decoration-color: #800000\"> to </span><span style=\"color: #008000; text-decoration-color: #008000\">'False'</span><span style=\"color: #800000; text-decoration-color: #800000\"> to use the raw data  </span>\n",
       "<span style=\"color: #7fbfbf; text-decoration-color: #7fbfbf\">             </span><span style=\"color: #800000; text-decoration-color: #800000\">on the Yee grid and avoid double interpolation. Note: the default  </span>\n",
       "<span style=\"color: #7fbfbf; text-decoration-color: #7fbfbf\">             </span><span style=\"color: #800000; text-decoration-color: #800000\">value was changed to </span><span style=\"color: #008000; text-decoration-color: #008000\">'True'</span><span style=\"color: #800000; text-decoration-color: #800000\"> in Tidy3D version </span><span style=\"color: #008080; text-decoration-color: #008080; font-weight: bold\">2.4</span><span style=\"color: #800000; text-decoration-color: #800000\">.</span><span style=\"color: #008080; text-decoration-color: #008080; font-weight: bold\">0</span><span style=\"color: #800000; text-decoration-color: #800000\">.               </span>\n",
       "</pre>\n"
      ],
      "text/plain": [
       "\u001b[2;36m01:26:40 PST\u001b[0m\u001b[2;36m \u001b[0m\u001b[31mWARNING: Colocating data that has already been colocated during the\u001b[0m\n",
       "\u001b[2;36m             \u001b[0m\u001b[31msolver run. For most accurate results when colocating to custom    \u001b[0m\n",
       "\u001b[2;36m             \u001b[0m\u001b[31mcoordinates set \u001b[0m\u001b[32m'Monitor.colocate'\u001b[0m\u001b[31m to \u001b[0m\u001b[32m'False'\u001b[0m\u001b[31m to use the raw data  \u001b[0m\n",
       "\u001b[2;36m             \u001b[0m\u001b[31mon the Yee grid and avoid double interpolation. Note: the default  \u001b[0m\n",
       "\u001b[2;36m             \u001b[0m\u001b[31mvalue was changed to \u001b[0m\u001b[32m'True'\u001b[0m\u001b[31m in Tidy3D version \u001b[0m\u001b[1;36m2.4\u001b[0m\u001b[31m.\u001b[0m\u001b[1;36m0\u001b[0m\u001b[31m.               \u001b[0m\n"
      ]
     },
     "metadata": {},
     "output_type": "display_data"
    },
    {
     "data": {
      "text/html": [
       "<pre style=\"white-space:pre;overflow-x:auto;line-height:normal;font-family:Menlo,'DejaVu Sans Mono',consolas,'Courier New',monospace\"><span style=\"color: #7fbfbf; text-decoration-color: #7fbfbf\">             </span><span style=\"color: #800000; text-decoration-color: #800000\">WARNING: Colocating data that has already been colocated during the</span>\n",
       "<span style=\"color: #7fbfbf; text-decoration-color: #7fbfbf\">             </span><span style=\"color: #800000; text-decoration-color: #800000\">solver run. For most accurate results when colocating to custom    </span>\n",
       "<span style=\"color: #7fbfbf; text-decoration-color: #7fbfbf\">             </span><span style=\"color: #800000; text-decoration-color: #800000\">coordinates set </span><span style=\"color: #008000; text-decoration-color: #008000\">'Monitor.colocate'</span><span style=\"color: #800000; text-decoration-color: #800000\"> to </span><span style=\"color: #008000; text-decoration-color: #008000\">'False'</span><span style=\"color: #800000; text-decoration-color: #800000\"> to use the raw data  </span>\n",
       "<span style=\"color: #7fbfbf; text-decoration-color: #7fbfbf\">             </span><span style=\"color: #800000; text-decoration-color: #800000\">on the Yee grid and avoid double interpolation. Note: the default  </span>\n",
       "<span style=\"color: #7fbfbf; text-decoration-color: #7fbfbf\">             </span><span style=\"color: #800000; text-decoration-color: #800000\">value was changed to </span><span style=\"color: #008000; text-decoration-color: #008000\">'True'</span><span style=\"color: #800000; text-decoration-color: #800000\"> in Tidy3D version </span><span style=\"color: #008080; text-decoration-color: #008080; font-weight: bold\">2.4</span><span style=\"color: #800000; text-decoration-color: #800000\">.</span><span style=\"color: #008080; text-decoration-color: #008080; font-weight: bold\">0</span><span style=\"color: #800000; text-decoration-color: #800000\">.               </span>\n",
       "</pre>\n"
      ],
      "text/plain": [
       "\u001b[2;36m            \u001b[0m\u001b[2;36m \u001b[0m\u001b[31mWARNING: Colocating data that has already been colocated during the\u001b[0m\n",
       "\u001b[2;36m             \u001b[0m\u001b[31msolver run. For most accurate results when colocating to custom    \u001b[0m\n",
       "\u001b[2;36m             \u001b[0m\u001b[31mcoordinates set \u001b[0m\u001b[32m'Monitor.colocate'\u001b[0m\u001b[31m to \u001b[0m\u001b[32m'False'\u001b[0m\u001b[31m to use the raw data  \u001b[0m\n",
       "\u001b[2;36m             \u001b[0m\u001b[31mon the Yee grid and avoid double interpolation. Note: the default  \u001b[0m\n",
       "\u001b[2;36m             \u001b[0m\u001b[31mvalue was changed to \u001b[0m\u001b[32m'True'\u001b[0m\u001b[31m in Tidy3D version \u001b[0m\u001b[1;36m2.4\u001b[0m\u001b[31m.\u001b[0m\u001b[1;36m0\u001b[0m\u001b[31m.               \u001b[0m\n"
      ]
     },
     "metadata": {},
     "output_type": "display_data"
    },
    {
     "data": {
      "text/html": [
       "<pre style=\"white-space:pre;overflow-x:auto;line-height:normal;font-family:Menlo,'DejaVu Sans Mono',consolas,'Courier New',monospace\"><span style=\"color: #7fbfbf; text-decoration-color: #7fbfbf\">             </span><span style=\"color: #800000; text-decoration-color: #800000\">WARNING: Colocating data that has already been colocated during the</span>\n",
       "<span style=\"color: #7fbfbf; text-decoration-color: #7fbfbf\">             </span><span style=\"color: #800000; text-decoration-color: #800000\">solver run. For most accurate results when colocating to custom    </span>\n",
       "<span style=\"color: #7fbfbf; text-decoration-color: #7fbfbf\">             </span><span style=\"color: #800000; text-decoration-color: #800000\">coordinates set </span><span style=\"color: #008000; text-decoration-color: #008000\">'Monitor.colocate'</span><span style=\"color: #800000; text-decoration-color: #800000\"> to </span><span style=\"color: #008000; text-decoration-color: #008000\">'False'</span><span style=\"color: #800000; text-decoration-color: #800000\"> to use the raw data  </span>\n",
       "<span style=\"color: #7fbfbf; text-decoration-color: #7fbfbf\">             </span><span style=\"color: #800000; text-decoration-color: #800000\">on the Yee grid and avoid double interpolation. Note: the default  </span>\n",
       "<span style=\"color: #7fbfbf; text-decoration-color: #7fbfbf\">             </span><span style=\"color: #800000; text-decoration-color: #800000\">value was changed to </span><span style=\"color: #008000; text-decoration-color: #008000\">'True'</span><span style=\"color: #800000; text-decoration-color: #800000\"> in Tidy3D version </span><span style=\"color: #008080; text-decoration-color: #008080; font-weight: bold\">2.4</span><span style=\"color: #800000; text-decoration-color: #800000\">.</span><span style=\"color: #008080; text-decoration-color: #008080; font-weight: bold\">0</span><span style=\"color: #800000; text-decoration-color: #800000\">.               </span>\n",
       "</pre>\n"
      ],
      "text/plain": [
       "\u001b[2;36m            \u001b[0m\u001b[2;36m \u001b[0m\u001b[31mWARNING: Colocating data that has already been colocated during the\u001b[0m\n",
       "\u001b[2;36m             \u001b[0m\u001b[31msolver run. For most accurate results when colocating to custom    \u001b[0m\n",
       "\u001b[2;36m             \u001b[0m\u001b[31mcoordinates set \u001b[0m\u001b[32m'Monitor.colocate'\u001b[0m\u001b[31m to \u001b[0m\u001b[32m'False'\u001b[0m\u001b[31m to use the raw data  \u001b[0m\n",
       "\u001b[2;36m             \u001b[0m\u001b[31mon the Yee grid and avoid double interpolation. Note: the default  \u001b[0m\n",
       "\u001b[2;36m             \u001b[0m\u001b[31mvalue was changed to \u001b[0m\u001b[32m'True'\u001b[0m\u001b[31m in Tidy3D version \u001b[0m\u001b[1;36m2.4\u001b[0m\u001b[31m.\u001b[0m\u001b[1;36m0\u001b[0m\u001b[31m.               \u001b[0m\n"
      ]
     },
     "metadata": {},
     "output_type": "display_data"
    }
   ],
   "source": [
    "# Colocate data to the Yee grid centers\n",
    "field0_data_centered = sim0_data.at_centers(\"field\").interp(f=200e12)\n",
    "field_data_centered = sim_data.at_centers(\"field\").interp(f=200e12)\n",
    "\n",
    "# Colocate data to Yee grid boundaries\n",
    "# Note: by default, data is already colocated there, unless `colocate=False` is set in the monitor.\n",
    "# Here, at_boundaries just converts the Tidy3D data into an xarray Dataset.\n",
    "field_data_boundaries = sim_data.at_boundaries(\"field\").interp(f=200e12)\n",
    "\n",
    "# Colocate to custom coordinates\n",
    "# Note: some or all of the x/y/z coordinates can be provided\n",
    "field_data_colocate_z = sim_data[\"field\"].colocate(z=np.linspace(-1, 1, 21))\n"
   ]
  },
  {
   "cell_type": "code",
   "execution_count": 25,
   "id": "28b3434c",
   "metadata": {
    "execution": {
     "iopub.execute_input": "2024-02-17T09:26:40.574809Z",
     "iopub.status.busy": "2024-02-17T09:26:40.574636Z",
     "iopub.status.idle": "2024-02-17T09:26:40.703969Z",
     "shell.execute_reply": "2024-02-17T09:26:40.703518Z"
    },
    "tags": []
   },
   "outputs": [
    {
     "data": {
      "text/html": [
       "<pre style=\"white-space:pre;overflow-x:auto;line-height:normal;font-family:Menlo,'DejaVu Sans Mono',consolas,'Courier New',monospace\"><span style=\"color: #7fbfbf; text-decoration-color: #7fbfbf\">             </span><span style=\"color: #800000; text-decoration-color: #800000\">WARNING: Colocating data that has already been colocated during the</span>\n",
       "<span style=\"color: #7fbfbf; text-decoration-color: #7fbfbf\">             </span><span style=\"color: #800000; text-decoration-color: #800000\">solver run. For most accurate results when colocating to custom    </span>\n",
       "<span style=\"color: #7fbfbf; text-decoration-color: #7fbfbf\">             </span><span style=\"color: #800000; text-decoration-color: #800000\">coordinates set </span><span style=\"color: #008000; text-decoration-color: #008000\">'Monitor.colocate'</span><span style=\"color: #800000; text-decoration-color: #800000\"> to </span><span style=\"color: #008000; text-decoration-color: #008000\">'False'</span><span style=\"color: #800000; text-decoration-color: #800000\"> to use the raw data  </span>\n",
       "<span style=\"color: #7fbfbf; text-decoration-color: #7fbfbf\">             </span><span style=\"color: #800000; text-decoration-color: #800000\">on the Yee grid and avoid double interpolation. Note: the default  </span>\n",
       "<span style=\"color: #7fbfbf; text-decoration-color: #7fbfbf\">             </span><span style=\"color: #800000; text-decoration-color: #800000\">value was changed to </span><span style=\"color: #008000; text-decoration-color: #008000\">'True'</span><span style=\"color: #800000; text-decoration-color: #800000\"> in Tidy3D version </span><span style=\"color: #008080; text-decoration-color: #008080; font-weight: bold\">2.4</span><span style=\"color: #800000; text-decoration-color: #800000\">.</span><span style=\"color: #008080; text-decoration-color: #008080; font-weight: bold\">0</span><span style=\"color: #800000; text-decoration-color: #800000\">.               </span>\n",
       "</pre>\n"
      ],
      "text/plain": [
       "\u001b[2;36m            \u001b[0m\u001b[2;36m \u001b[0m\u001b[31mWARNING: Colocating data that has already been colocated during the\u001b[0m\n",
       "\u001b[2;36m             \u001b[0m\u001b[31msolver run. For most accurate results when colocating to custom    \u001b[0m\n",
       "\u001b[2;36m             \u001b[0m\u001b[31mcoordinates set \u001b[0m\u001b[32m'Monitor.colocate'\u001b[0m\u001b[31m to \u001b[0m\u001b[32m'False'\u001b[0m\u001b[31m to use the raw data  \u001b[0m\n",
       "\u001b[2;36m             \u001b[0m\u001b[31mon the Yee grid and avoid double interpolation. Note: the default  \u001b[0m\n",
       "\u001b[2;36m             \u001b[0m\u001b[31mvalue was changed to \u001b[0m\u001b[32m'True'\u001b[0m\u001b[31m in Tidy3D version \u001b[0m\u001b[1;36m2.4\u001b[0m\u001b[31m.\u001b[0m\u001b[1;36m0\u001b[0m\u001b[31m.               \u001b[0m\n"
      ]
     },
     "metadata": {},
     "output_type": "display_data"
    },
    {
     "data": {
      "text/html": [
       "<pre style=\"white-space:pre;overflow-x:auto;line-height:normal;font-family:Menlo,'DejaVu Sans Mono',consolas,'Courier New',monospace\"><span style=\"color: #7fbfbf; text-decoration-color: #7fbfbf\">             </span><span style=\"color: #800000; text-decoration-color: #800000\">WARNING: Colocating data that has already been colocated during the</span>\n",
       "<span style=\"color: #7fbfbf; text-decoration-color: #7fbfbf\">             </span><span style=\"color: #800000; text-decoration-color: #800000\">solver run. For most accurate results when colocating to custom    </span>\n",
       "<span style=\"color: #7fbfbf; text-decoration-color: #7fbfbf\">             </span><span style=\"color: #800000; text-decoration-color: #800000\">coordinates set </span><span style=\"color: #008000; text-decoration-color: #008000\">'Monitor.colocate'</span><span style=\"color: #800000; text-decoration-color: #800000\"> to </span><span style=\"color: #008000; text-decoration-color: #008000\">'False'</span><span style=\"color: #800000; text-decoration-color: #800000\"> to use the raw data  </span>\n",
       "<span style=\"color: #7fbfbf; text-decoration-color: #7fbfbf\">             </span><span style=\"color: #800000; text-decoration-color: #800000\">on the Yee grid and avoid double interpolation. Note: the default  </span>\n",
       "<span style=\"color: #7fbfbf; text-decoration-color: #7fbfbf\">             </span><span style=\"color: #800000; text-decoration-color: #800000\">value was changed to </span><span style=\"color: #008000; text-decoration-color: #008000\">'True'</span><span style=\"color: #800000; text-decoration-color: #800000\"> in Tidy3D version </span><span style=\"color: #008080; text-decoration-color: #008080; font-weight: bold\">2.4</span><span style=\"color: #800000; text-decoration-color: #800000\">.</span><span style=\"color: #008080; text-decoration-color: #008080; font-weight: bold\">0</span><span style=\"color: #800000; text-decoration-color: #800000\">.               </span>\n",
       "</pre>\n"
      ],
      "text/plain": [
       "\u001b[2;36m            \u001b[0m\u001b[2;36m \u001b[0m\u001b[31mWARNING: Colocating data that has already been colocated during the\u001b[0m\n",
       "\u001b[2;36m             \u001b[0m\u001b[31msolver run. For most accurate results when colocating to custom    \u001b[0m\n",
       "\u001b[2;36m             \u001b[0m\u001b[31mcoordinates set \u001b[0m\u001b[32m'Monitor.colocate'\u001b[0m\u001b[31m to \u001b[0m\u001b[32m'False'\u001b[0m\u001b[31m to use the raw data  \u001b[0m\n",
       "\u001b[2;36m             \u001b[0m\u001b[31mon the Yee grid and avoid double interpolation. Note: the default  \u001b[0m\n",
       "\u001b[2;36m             \u001b[0m\u001b[31mvalue was changed to \u001b[0m\u001b[32m'True'\u001b[0m\u001b[31m in Tidy3D version \u001b[0m\u001b[1;36m2.4\u001b[0m\u001b[31m.\u001b[0m\u001b[1;36m0\u001b[0m\u001b[31m.               \u001b[0m\n"
      ]
     },
     "metadata": {},
     "output_type": "display_data"
    }
   ],
   "source": [
    "field0_data_centered = sim0_data.at_centers(\"field\").interp(f=200e12)\n",
    "field_data_centered = sim_data.at_centers(\"field\").interp(f=200e12)\n"
   ]
  },
  {
   "cell_type": "markdown",
   "id": "8cd0d9e9",
   "metadata": {},
   "source": [
    "All these methods return an xarray [Dataset](https://xarray.pydata.org/en/stable/generated/xarray.Dataset.html), which provies similar functionality as the [DataArray](https://xarray.pydata.org/en/stable/generated/xarray.DataArray.html) objects, but is aware of all of the field data and provides more convenience methods, as we will explore in the next section."
   ]
  },
  {
   "cell_type": "markdown",
   "id": "89af5c1f",
   "metadata": {},
   "source": [
    "### Plotting Fields\n",
    "\n",
    "#### Simple \n",
    "Plotting fields requires a little bit of manipulation to get them in the right shape, but then it is straightforward."
   ]
  },
  {
   "cell_type": "code",
   "execution_count": 26,
   "id": "98ba6150",
   "metadata": {
    "execution": {
     "iopub.execute_input": "2024-02-17T09:26:40.706144Z",
     "iopub.status.busy": "2024-02-17T09:26:40.705962Z",
     "iopub.status.idle": "2024-02-17T09:26:40.727699Z",
     "shell.execute_reply": "2024-02-17T09:26:40.727136Z"
    },
    "tags": []
   },
   "outputs": [],
   "source": [
    "# get the field data on the y=0 plane at frequency 200THz\n",
    "Ez_data = field_data.Ez.isel(y=0).interp(f=2e14)\n",
    "Ez0_data = field0_data.Ez.isel(y=0).interp(f=2e14)\n"
   ]
  },
  {
   "cell_type": "code",
   "execution_count": 27,
   "id": "4a5dc0c3",
   "metadata": {
    "execution": {
     "iopub.execute_input": "2024-02-17T09:26:40.729865Z",
     "iopub.status.busy": "2024-02-17T09:26:40.729693Z",
     "iopub.status.idle": "2024-02-17T09:26:41.398362Z",
     "shell.execute_reply": "2024-02-17T09:26:41.397726Z"
    },
    "tags": []
   },
   "outputs": [
    {
     "data": {
      "image/png": "[encoded data removed]",
      "text/plain": [
       "<Figure size 1000x600 with 8 Axes>"
      ]
     },
     "metadata": {},
     "output_type": "display_data"
    }
   ],
   "source": [
    "# amplitude plot rz Ex(x,y) field on plane\n",
    "_, ((ax1, ax2), (ax3, ax4)) = plt.subplots(2, 2, tight_layout=True, figsize=(10, 6))\n",
    "\n",
    "Ez0_data.real.plot(x=\"x\", y=\"z\", ax=ax1)\n",
    "Ez_data.real.plot(x=\"x\", y=\"z\", ax=ax2)\n",
    "\n",
    "abs(Ez0_data).plot(x=\"x\", y=\"z\", cmap=\"magma\", ax=ax3)\n",
    "abs(Ez_data).plot(x=\"x\", y=\"z\", cmap=\"magma\", ax=ax4)\n",
    "\n",
    "ax1.set_title(\"without scatterer (real Ez)\")\n",
    "ax2.set_title(\"with scatterer (real Ez)\")\n",
    "ax3.set_title(\"without scatterer (abs Ez)\")\n",
    "ax4.set_title(\"with scatterer (abs Ez)\")\n",
    "plt.show()\n"
   ]
  },
  {
   "cell_type": "markdown",
   "id": "1807646a",
   "metadata": {},
   "source": [
    "#### Advanced\n",
    "\n",
    "More advanced plotting is available and is best done with the centered field data."
   ]
  },
  {
   "cell_type": "markdown",
   "id": "516493a1",
   "metadata": {
    "tags": []
   },
   "source": [
    "##### Structure Overlay\n",
    "\n",
    "One can overlay the structure permittivity by calling `plot_fields` from the [SimulationData](../api/_autosummary/tidy3d.SimulationData.html) object as follows:"
   ]
  },
  {
   "cell_type": "code",
   "execution_count": 28,
   "id": "8fdf17ae",
   "metadata": {
    "execution": {
     "iopub.execute_input": "2024-02-17T09:26:41.400778Z",
     "iopub.status.busy": "2024-02-17T09:26:41.400557Z",
     "iopub.status.idle": "2024-02-17T09:26:41.916409Z",
     "shell.execute_reply": "2024-02-17T09:26:41.915806Z"
    },
    "tags": []
   },
   "outputs": [
    {
     "data": {
      "image/png": "[encoded data removed]",
      "text/plain": [
       "<Figure size 640x480 with 2 Axes>"
      ]
     },
     "metadata": {},
     "output_type": "display_data"
    }
   ],
   "source": [
    "ax = sim_data.plot_field(\"field\", \"Ex\", y=0.0, f=200e12, eps_alpha=0.2)\n"
   ]
  },
  {
   "cell_type": "markdown",
   "id": "bc2936a5",
   "metadata": {},
   "source": [
    "##### Quiver Plots\n",
    "\n",
    "Quiver plotting can be done through the centered field Dataset.\n",
    "We first should spatially downsample the data to be quivered to reduce clutter on the plot, which can be done by `.sel()` with `slice(None, None, skip)` range to select every `skip` data point along that axis."
   ]
  },
  {
   "cell_type": "code",
   "execution_count": 29,
   "id": "12b2b76d",
   "metadata": {
    "execution": {
     "iopub.execute_input": "2024-02-17T09:26:41.918729Z",
     "iopub.status.busy": "2024-02-17T09:26:41.918532Z",
     "iopub.status.idle": "2024-02-17T09:26:42.106847Z",
     "shell.execute_reply": "2024-02-17T09:26:42.106266Z"
    },
    "tags": []
   },
   "outputs": [
    {
     "data": {
      "image/png": "[encoded data removed]",
      "text/plain": [
       "<Figure size 800x500 with 2 Axes>"
      ]
     },
     "metadata": {},
     "output_type": "display_data"
    }
   ],
   "source": [
    "# downsample the field data for more clear quiver plotting\n",
    "field0_data_resampled = field0_data_centered.sel(\n",
    "    x=slice(None, None, 7), z=slice(None, None, 7)\n",
    ")\n",
    "\n",
    "# quiver plot of \\vec{E}_{x,y}(x,y) on plane with Ez(x,y) underlying.\n",
    "f, ax = plt.subplots(figsize=(8, 5))\n",
    "field0_data_centered.isel(y=0).Ez.real.plot.imshow(x=\"x\", y=\"z\", ax=ax, robust=True)\n",
    "field0_data_resampled.isel(y=0).real.plot.quiver(\"x\", \"z\", \"Ex\", \"Ez\", ax=ax)\n",
    "plt.show()\n"
   ]
  },
  {
   "cell_type": "markdown",
   "id": "27630dee",
   "metadata": {},
   "source": [
    "##### Stream Plots\n",
    "Stream plots can be another useful feature, although they do not take the amplitude into account, so use with caution."
   ]
  },
  {
   "cell_type": "markdown",
   "id": "ffde187e",
   "metadata": {},
   "source": [
    "##### Time Lapse Fields\n",
    "\n",
    "For time-domain data, it can be convenient to see the fields at various snapshots of the simulation.  For this, it is convenient to supply the `row` and `col` keyword arguments to plot, which expand all plots on a row or column."
   ]
  },
  {
   "cell_type": "code",
   "execution_count": 30,
   "id": "3b49c1f1",
   "metadata": {
    "execution": {
     "iopub.execute_input": "2024-02-17T09:26:42.109615Z",
     "iopub.status.busy": "2024-02-17T09:26:42.109428Z",
     "iopub.status.idle": "2024-02-17T09:26:42.505304Z",
     "shell.execute_reply": "2024-02-17T09:26:42.504790Z"
    },
    "tags": []
   },
   "outputs": [
    {
     "data": {
      "image/png": "[encoded data removed]",
      "text/plain": [
       "<Figure size 1300x300 with 5 Axes>"
      ]
     },
     "metadata": {},
     "output_type": "display_data"
    }
   ],
   "source": [
    "field_time_data = sim_data[\"field_time\"]\n",
    "\n",
    "# select the data and downsample and window the time coordinate to reduce number of plots.\n",
    "time_data = field_time_data.Ez.isel(y=0).sel(t=slice(1e-14, 5e-14, 1))\n",
    "\n",
    "time_data.plot(x=\"x\", y=\"z\", col=\"t\")\n",
    "plt.show()\n"
   ]
  },
  {
   "cell_type": "markdown",
   "id": "4104ee6d-8118-4498-a943-00b4c1b48d4a",
   "metadata": {},
   "source": [
    "## Export data to csv"
   ]
  },
  {
   "cell_type": "markdown",
   "id": "2256ecf5",
   "metadata": {},
   "source": [
    "In many cases, you might want to save the monitor data as a .csv file for future use. This can be done in multiple ways. Here we demonstrate two methods as examples. \n",
    "\n",
    "For saving a 2D array such as a field plot at a specific frequency or time instance, we can first convert the [xarray.DataArray](https://docs.xarray.dev/en/stable/generated/xarray.DataArray.html) to a [numpy.array](https://numpy.org/doc/stable/reference/generated/numpy.array.html) using the [to_numpy()](https://docs.xarray.dev/en/latest/generated/xarray.DataArray.to_numpy.html) method and then using numpy's [savetxt()](https://numpy.org/doc/stable/reference/generated/numpy.savetxt.html) method to save the 2D numpy array as a .csv file. The spatial coordinates can be saved as separate .csv files in the same way. "
   ]
  },
  {
   "cell_type": "code",
   "execution_count": 31,
   "id": "211a8503",
   "metadata": {
    "execution": {
     "iopub.execute_input": "2024-02-17T09:26:42.507269Z",
     "iopub.status.busy": "2024-02-17T09:26:42.507061Z",
     "iopub.status.idle": "2024-02-17T09:26:42.539842Z",
     "shell.execute_reply": "2024-02-17T09:26:42.539295Z"
    }
   },
   "outputs": [],
   "source": [
    "# save Ez to a numpy array\n",
    "Ez = Ez0_data.real.squeeze().to_numpy()\n",
    "\n",
    "# save x coordinate to a numpy array\n",
    "x_array = Ez0_data.real.coords['x'].to_numpy()\n",
    "\n",
    "# save z coordinate to a numpy array\n",
    "z_array =  Ez0_data.real.coords['z'].to_numpy()\n",
    "\n",
    "# save the numpy arries to .csv files\n",
    "np.savetxt('./data/Ez.csv', Ez, delimiter=',')\n",
    "np.savetxt('./data/x.csv', x_array)\n",
    "np.savetxt('./data/z.csv', z_array)"
   ]
  },
  {
   "cell_type": "markdown",
   "id": "e2f284c8",
   "metadata": {},
   "source": [
    "If the data you want to save is higher dimensional such as the field distribution at multiple time instances, you can consider export the [xarray.DataArray](https://docs.xarray.dev/en/stable/generated/xarray.DataArray.html) to a csv file using its [to_dataframe()](https://docs.xarray.dev/en/stable/generated/xarray.DataArray.to_dataframe.html) method."
   ]
  },
  {
   "cell_type": "code",
   "execution_count": 32,
   "id": "6c4e1eab-9ff3-47bd-bd45-b66e428d238a",
   "metadata": {
    "execution": {
     "iopub.execute_input": "2024-02-17T09:26:42.541688Z",
     "iopub.status.busy": "2024-02-17T09:26:42.541518Z",
     "iopub.status.idle": "2024-02-17T09:26:42.897878Z",
     "shell.execute_reply": "2024-02-17T09:26:42.896379Z"
    }
   },
   "outputs": [],
   "source": [
    "df = time_data.to_dataframe(\"value\")\n",
    "df.to_csv(\"./data/time_data.csv\")\n"
   ]
  },
  {
   "cell_type": "markdown",
   "id": "ff38ffe5-b6d1-4de2-a626-0a7aaebfa3dd",
   "metadata": {},
   "source": [
    "It will stack the array coordinates to generate a 2D table. Import the csv file to check the content:"
   ]
  },
  {
   "cell_type": "code",
   "execution_count": 33,
   "id": "329574aa-ce1b-4d09-9a21-556bd7c795ea",
   "metadata": {
    "execution": {
     "iopub.execute_input": "2024-02-17T09:26:42.903376Z",
     "iopub.status.busy": "2024-02-17T09:26:42.902846Z",
     "iopub.status.idle": "2024-02-17T09:26:43.004107Z",
     "shell.execute_reply": "2024-02-17T09:26:43.003621Z"
    }
   },
   "outputs": [
    {
     "data": {
      "text/html": [
       "<div>\n",
       "<style scoped>\n",
       "    .dataframe tbody tr th:only-of-type {\n",
       "        vertical-align: middle;\n",
       "    }\n",
       "\n",
       "    .dataframe tbody tr th {\n",
       "        vertical-align: top;\n",
       "    }\n",
       "\n",
       "    .dataframe thead th {\n",
       "        text-align: right;\n",
       "    }\n",
       "</style>\n",
       "<table border=\"1\" class=\"dataframe\">\n",
       "  <thead>\n",
       "    <tr style=\"text-align: right;\">\n",
       "      <th></th>\n",
       "      <th>x</th>\n",
       "      <th>z</th>\n",
       "      <th>t</th>\n",
       "      <th>y</th>\n",
       "      <th>value</th>\n",
       "    </tr>\n",
       "  </thead>\n",
       "  <tbody>\n",
       "    <tr>\n",
       "      <th>0</th>\n",
       "      <td>-2.896226</td>\n",
       "      <td>-3.061435</td>\n",
       "      <td>1.208153e-14</td>\n",
       "      <td>0.0</td>\n",
       "      <td>0.0</td>\n",
       "    </tr>\n",
       "    <tr>\n",
       "      <th>1</th>\n",
       "      <td>-2.896226</td>\n",
       "      <td>-3.061435</td>\n",
       "      <td>2.416306e-14</td>\n",
       "      <td>0.0</td>\n",
       "      <td>0.0</td>\n",
       "    </tr>\n",
       "    <tr>\n",
       "      <th>2</th>\n",
       "      <td>-2.896226</td>\n",
       "      <td>-3.061435</td>\n",
       "      <td>3.624459e-14</td>\n",
       "      <td>0.0</td>\n",
       "      <td>0.0</td>\n",
       "    </tr>\n",
       "    <tr>\n",
       "      <th>3</th>\n",
       "      <td>-2.896226</td>\n",
       "      <td>-3.061435</td>\n",
       "      <td>4.832612e-14</td>\n",
       "      <td>0.0</td>\n",
       "      <td>0.0</td>\n",
       "    </tr>\n",
       "    <tr>\n",
       "      <th>4</th>\n",
       "      <td>-2.896226</td>\n",
       "      <td>-3.014649</td>\n",
       "      <td>1.208153e-14</td>\n",
       "      <td>0.0</td>\n",
       "      <td>0.0</td>\n",
       "    </tr>\n",
       "    <tr>\n",
       "      <th>...</th>\n",
       "      <td>...</td>\n",
       "      <td>...</td>\n",
       "      <td>...</td>\n",
       "      <td>...</td>\n",
       "      <td>...</td>\n",
       "    </tr>\n",
       "    <tr>\n",
       "      <th>108319</th>\n",
       "      <td>2.896226</td>\n",
       "      <td>3.015268</td>\n",
       "      <td>4.832612e-14</td>\n",
       "      <td>0.0</td>\n",
       "      <td>0.0</td>\n",
       "    </tr>\n",
       "    <tr>\n",
       "      <th>108320</th>\n",
       "      <td>2.896226</td>\n",
       "      <td>3.062111</td>\n",
       "      <td>1.208153e-14</td>\n",
       "      <td>0.0</td>\n",
       "      <td>0.0</td>\n",
       "    </tr>\n",
       "    <tr>\n",
       "      <th>108321</th>\n",
       "      <td>2.896226</td>\n",
       "      <td>3.062111</td>\n",
       "      <td>2.416306e-14</td>\n",
       "      <td>0.0</td>\n",
       "      <td>0.0</td>\n",
       "    </tr>\n",
       "    <tr>\n",
       "      <th>108322</th>\n",
       "      <td>2.896226</td>\n",
       "      <td>3.062111</td>\n",
       "      <td>3.624459e-14</td>\n",
       "      <td>0.0</td>\n",
       "      <td>0.0</td>\n",
       "    </tr>\n",
       "    <tr>\n",
       "      <th>108323</th>\n",
       "      <td>2.896226</td>\n",
       "      <td>3.062111</td>\n",
       "      <td>4.832612e-14</td>\n",
       "      <td>0.0</td>\n",
       "      <td>0.0</td>\n",
       "    </tr>\n",
       "  </tbody>\n",
       "</table>\n",
       "<p>108324 rows × 5 columns</p>\n",
       "</div>"
      ],
      "text/plain": [
       "               x         z             t    y  value\n",
       "0      -2.896226 -3.061435  1.208153e-14  0.0    0.0\n",
       "1      -2.896226 -3.061435  2.416306e-14  0.0    0.0\n",
       "2      -2.896226 -3.061435  3.624459e-14  0.0    0.0\n",
       "3      -2.896226 -3.061435  4.832612e-14  0.0    0.0\n",
       "4      -2.896226 -3.014649  1.208153e-14  0.0    0.0\n",
       "...          ...       ...           ...  ...    ...\n",
       "108319  2.896226  3.015268  4.832612e-14  0.0    0.0\n",
       "108320  2.896226  3.062111  1.208153e-14  0.0    0.0\n",
       "108321  2.896226  3.062111  2.416306e-14  0.0    0.0\n",
       "108322  2.896226  3.062111  3.624459e-14  0.0    0.0\n",
       "108323  2.896226  3.062111  4.832612e-14  0.0    0.0\n",
       "\n",
       "[108324 rows x 5 columns]"
      ]
     },
     "metadata": {},
     "output_type": "display_data"
    }
   ],
   "source": [
    "import pandas as pd\n",
    "\n",
    "df = pd.read_csv(\"./data/time_data.csv\")\n",
    "display(df)\n"
   ]
  },
  {
   "cell_type": "markdown",
   "id": "67dd2c51",
   "metadata": {},
   "source": [
    "## Load data "
   ]
  },
  {
   "cell_type": "markdown",
   "id": "a67c5c66",
   "metadata": {},
   "source": [
    "When running the simulations, we have specified the path to save the simulation data, i.e. `path=\"data/simulation0.hdf5\"`. It means the simulation data is saved as a .hdf5 file, which can be loaded into a [SimulationData](../api/_autosummary/tidy3d.SimulationData.html) object in the future for analysis. Here we demonstrate loading the .hdf5 files using the `from_file` method. If you performed a mode solving simulation instead of a FDTD simulation, [ModeSolverData](../api/_autosummary/tidy3d.ModeSolverData.html) can be loaded in a similar fashion. "
   ]
  },
  {
   "cell_type": "code",
   "execution_count": 34,
   "id": "2f0a7064",
   "metadata": {
    "execution": {
     "iopub.execute_input": "2024-02-17T09:26:43.006116Z",
     "iopub.status.busy": "2024-02-17T09:26:43.005949Z",
     "iopub.status.idle": "2024-02-17T09:26:43.092092Z",
     "shell.execute_reply": "2024-02-17T09:26:43.091604Z"
    }
   },
   "outputs": [
    {
     "data": {
      "text/html": [
       "<pre style=\"white-space:pre;overflow-x:auto;line-height:normal;font-family:Menlo,'DejaVu Sans Mono',consolas,'Courier New',monospace\"><span style=\"color: #7fbfbf; text-decoration-color: #7fbfbf\">01:26:43 PST </span><span style=\"color: #800000; text-decoration-color: #800000\">WARNING: Monitor data requires </span><span style=\"color: #008000; text-decoration-color: #008000\">'grid_expanded'</span><span style=\"color: #800000; text-decoration-color: #800000\"> to be defined to    </span>\n",
       "<span style=\"color: #7fbfbf; text-decoration-color: #7fbfbf\">             </span><span style=\"color: #800000; text-decoration-color: #800000\">compute values like flux, Poynting and dot product with other data.</span>\n",
       "</pre>\n"
      ],
      "text/plain": [
       "\u001b[2;36m01:26:43 PST\u001b[0m\u001b[2;36m \u001b[0m\u001b[31mWARNING: Monitor data requires \u001b[0m\u001b[32m'grid_expanded'\u001b[0m\u001b[31m to be defined to    \u001b[0m\n",
       "\u001b[2;36m             \u001b[0m\u001b[31mcompute values like flux, Poynting and dot product with other data.\u001b[0m\n"
      ]
     },
     "metadata": {},
     "output_type": "display_data"
    },
    {
     "data": {
      "text/html": [
       "<pre style=\"white-space:pre;overflow-x:auto;line-height:normal;font-family:Menlo,'DejaVu Sans Mono',consolas,'Courier New',monospace\"><span style=\"color: #7fbfbf; text-decoration-color: #7fbfbf\">             </span><span style=\"color: #800000; text-decoration-color: #800000\">WARNING: Monitor data requires </span><span style=\"color: #008000; text-decoration-color: #008000\">'grid_expanded'</span><span style=\"color: #800000; text-decoration-color: #800000\"> to be defined to    </span>\n",
       "<span style=\"color: #7fbfbf; text-decoration-color: #7fbfbf\">             </span><span style=\"color: #800000; text-decoration-color: #800000\">compute values like flux, Poynting and dot product with other data.</span>\n",
       "</pre>\n"
      ],
      "text/plain": [
       "\u001b[2;36m            \u001b[0m\u001b[2;36m \u001b[0m\u001b[31mWARNING: Monitor data requires \u001b[0m\u001b[32m'grid_expanded'\u001b[0m\u001b[31m to be defined to    \u001b[0m\n",
       "\u001b[2;36m             \u001b[0m\u001b[31mcompute values like flux, Poynting and dot product with other data.\u001b[0m\n"
      ]
     },
     "metadata": {},
     "output_type": "display_data"
    }
   ],
   "source": [
    "sim_data0 = td.SimulationData.from_file(\"data/simulation0.hdf5\")\n",
    "sim_data = td.SimulationData.from_file(\"data/simulation.hdf5\")"
   ]
  },
  {
   "cell_type": "markdown",
   "id": "d1fb0f4f",
   "metadata": {},
   "source": [
    "After the simulation data is loaded, you can perform postprocessing as discussed above such as plotting the field distribution by using the `plot_field` method."
   ]
  },
  {
   "cell_type": "code",
   "execution_count": 35,
   "id": "f23d0f50",
   "metadata": {
    "execution": {
     "iopub.execute_input": "2024-02-17T09:26:43.094060Z",
     "iopub.status.busy": "2024-02-17T09:26:43.093890Z",
     "iopub.status.idle": "2024-02-17T09:26:43.936643Z",
     "shell.execute_reply": "2024-02-17T09:26:43.936117Z"
    }
   },
   "outputs": [
    {
     "data": {
      "image/png": "[encoded data removed]",
      "text/plain": [
       "<Figure size 800x400 with 4 Axes>"
      ]
     },
     "metadata": {},
     "output_type": "display_data"
    }
   ],
   "source": [
    "fig, (ax1, ax2) = plt.subplots(1,2,tight_layout=True, figsize=(8, 4))\n",
    "sim_data0.plot_field(field_monitor_name=\"field\", field_name='E', val='abs', f=2e14, ax=ax1)\n",
    "sim_data.plot_field(field_monitor_name=\"field\", field_name='E', val='abs', f=2e14, ax=ax2)\n",
    "plt.show()"
   ]
  },
  {
   "cell_type": "markdown",
   "id": "f52001cc",
   "metadata": {
    "tags": []
   },
   "source": [
    "## Conclusion\n",
    "\n",
    "This hopefully gives some sense of what kind of data post processing and visualization can be done in `Tidy3D`.\n",
    "\n",
    "For more detailed information and reference, the best places to check out are\n",
    "\n",
    "* API reference for [SimulationData](../api/_autosummary/tidy3d.SimulationData.html).\n",
    "\n",
    "* [Xarray documentation](http://xarray.pydata.org).\n",
    "\n",
    "If you are new to the finite-difference time-domain (FDTD) method, we highly recommend going through our [FDTD101](https://www.flexcompute.com/fdtd101/) tutorials. "
   ]
  },
  {
   "cell_type": "code",
   "execution_count": null,
   "id": "167de7b3",
   "metadata": {},
   "outputs": [],
   "source": []
  }
 ],
 "metadata": {
  "description": "This notebook demonstrates how to perform visualization of simulation data in Tidy3D FDTD.",
  "feature_image": "",
  "kernelspec": {
   "display_name": "Python 3 (ipykernel)",
   "language": "python",
   "name": "python3"
  },
  "keywords": "result visualization, data plotting, Tidy3D, FDTD",
  "language_info": {
   "codemirror_mode": {
    "name": "ipython",
    "version": 3
   },
   "file_extension": ".py",
   "mimetype": "text/x-python",
   "name": "python",
   "nbconvert_exporter": "python",
   "pygments_lexer": "ipython3",
   "version": "3.10.13"
  },
  "nbdime-conflicts": {
   "local_diff": [
    {
     "diff": [
      {
       "diff": [
        {
         "key": 0,
         "length": 1,
         "op": "removerange"
        }
       ],
       "key": "version",
       "op": "patch"
      }
     ],
     "key": "language_info",
     "op": "patch"
    }
   ],
   "remote_diff": [
    {
     "diff": [
      {
       "diff": [
        {
         "diff": [
          {
           "key": 5,
           "op": "addrange",
           "valuelist": "9"
          },
          {
           "key": 5,
           "length": 1,
           "op": "removerange"
          }
         ],
         "key": 0,
         "op": "patch"
        }
       ],
       "key": "version",
       "op": "patch"
      }
     ],
     "key": "language_info",
     "op": "patch"
    }
   ]
  },
  "title": "Visualization of Simulation Data in Tidy3D | Flexcompute",
  "widgets": {
   "application/vnd.jupyter.widget-state+json": {
    "state": {
     "05ba425a5ada4ae085c1c8a9ae839fbe": {
      "model_module": "@jupyter-widgets/output",
      "model_module_version": "1.0.0",
      "model_name": "OutputModel",
      "state": {
       "_dom_classes": [],
       "_model_module": "@jupyter-widgets/output",
       "_model_module_version": "1.0.0",
       "_model_name": "OutputModel",
       "_view_count": null,
       "_view_module": "@jupyter-widgets/output",
       "_view_module_version": "1.0.0",
       "_view_name": "OutputView",
       "layout": "IPY_MODEL_142b42f738d44f5b8c896d559af02182",
       "msg_id": "",
       "outputs": [
        {
         "data": {
          "text/html": "<pre style=\"white-space:pre;overflow-x:auto;line-height:normal;font-family:Menlo,'DejaVu Sans Mono',consolas,'Courier New',monospace\"><span style=\"color: #008000; text-decoration-color: #008000; font-weight: bold\">↓</span> <span style=\"color: #000080; text-decoration-color: #000080; font-weight: bold\">simulation_data.hdf5.gz</span> <span style=\"color: #729c1f; text-decoration-color: #729c1f\">━━━━━━━━━━━━</span> <span style=\"color: #800080; text-decoration-color: #800080\">100.0%</span> • <span style=\"color: #008000; text-decoration-color: #008000\">7.2/7.2 MB</span> • <span style=\"color: #800000; text-decoration-color: #800000\">17.8 MB/s</span> • <span style=\"color: #008080; text-decoration-color: #008080\">0:00:00</span>\n</pre>\n",
          "text/plain": "\u001b[1;32m↓\u001b[0m \u001b[1;34msimulation_data.hdf5.gz\u001b[0m \u001b[38;2;114;156;31m━━━━━━━━━━━━\u001b[0m \u001b[35m100.0%\u001b[0m • \u001b[32m7.2/7.2 MB\u001b[0m • \u001b[31m17.8 MB/s\u001b[0m • \u001b[36m0:00:00\u001b[0m\n"
         },
         "metadata": {},
         "output_type": "display_data"
        }
       ],
       "tabbable": null,
       "tooltip": null
      }
     },
     "142b42f738d44f5b8c896d559af02182": {
      "model_module": "@jupyter-widgets/base",
      "model_module_version": "2.0.0",
      "model_name": "LayoutModel",
      "state": {
       "_model_module": "@jupyter-widgets/base",
       "_model_module_version": "2.0.0",
       "_model_name": "LayoutModel",
       "_view_count": null,
       "_view_module": "@jupyter-widgets/base",
       "_view_module_version": "2.0.0",
       "_view_name": "LayoutView",
       "align_content": null,
       "align_items": null,
       "align_self": null,
       "border_bottom": null,
       "border_left": null,
       "border_right": null,
       "border_top": null,
       "bottom": null,
       "display": null,
       "flex": null,
       "flex_flow": null,
       "grid_area": null,
       "grid_auto_columns": null,
       "grid_auto_flow": null,
       "grid_auto_rows": null,
       "grid_column": null,
       "grid_gap": null,
       "grid_row": null,
       "grid_template_areas": null,
       "grid_template_columns": null,
       "grid_template_rows": null,
       "height": null,
       "justify_content": null,
       "justify_items": null,
       "left": null,
       "margin": null,
       "max_height": null,
       "max_width": null,
       "min_height": null,
       "min_width": null,
       "object_fit": null,
       "object_position": null,
       "order": null,
       "overflow": null,
       "padding": null,
       "right": null,
       "top": null,
       "visibility": null,
       "width": null
      }
     },
     "3c2daff832904a979815748e5a1ed9c6": {
      "model_module": "@jupyter-widgets/base",
      "model_module_version": "2.0.0",
      "model_name": "LayoutModel",
      "state": {
       "_model_module": "@jupyter-widgets/base",
       "_model_module_version": "2.0.0",
       "_model_name": "LayoutModel",
       "_view_count": null,
       "_view_module": "@jupyter-widgets/base",
       "_view_module_version": "2.0.0",
       "_view_name": "LayoutView",
       "align_content": null,
       "align_items": null,
       "align_self": null,
       "border_bottom": null,
       "border_left": null,
       "border_right": null,
       "border_top": null,
       "bottom": null,
       "display": null,
       "flex": null,
       "flex_flow": null,
       "grid_area": null,
       "grid_auto_columns": null,
       "grid_auto_flow": null,
       "grid_auto_rows": null,
       "grid_column": null,
       "grid_gap": null,
       "grid_row": null,
       "grid_template_areas": null,
       "grid_template_columns": null,
       "grid_template_rows": null,
       "height": null,
       "justify_content": null,
       "justify_items": null,
       "left": null,
       "margin": null,
       "max_height": null,
       "max_width": null,
       "min_height": null,
       "min_width": null,
       "object_fit": null,
       "object_position": null,
       "order": null,
       "overflow": null,
       "padding": null,
       "right": null,
       "top": null,
       "visibility": null,
       "width": null
      }
     },
     "4618ac7e071243c19de38de3838511fb": {
      "model_module": "@jupyter-widgets/output",
      "model_module_version": "1.0.0",
      "model_name": "OutputModel",
      "state": {
       "_dom_classes": [],
       "_model_module": "@jupyter-widgets/output",
       "_model_module_version": "1.0.0",
       "_model_name": "OutputModel",
       "_view_count": null,
       "_view_module": "@jupyter-widgets/output",
       "_view_module_version": "1.0.0",
       "_view_name": "OutputView",
       "layout": "IPY_MODEL_3c2daff832904a979815748e5a1ed9c6",
       "msg_id": "",
       "outputs": [
        {
         "data": {
          "text/html": "<pre style=\"white-space:pre;overflow-x:auto;line-height:normal;font-family:Menlo,'DejaVu Sans Mono',consolas,'Courier New',monospace\"><span style=\"color: #008000; text-decoration-color: #008000\">🚶 </span> <span style=\"color: #008000; text-decoration-color: #008000; font-weight: bold\">Finishing 'scattered waveguide'...</span>\n</pre>\n",
          "text/plain": "\u001b[32m🚶 \u001b[0m \u001b[1;32mFinishing 'scattered waveguide'...\u001b[0m\n"
         },
         "metadata": {},
         "output_type": "display_data"
        }
       ],
       "tabbable": null,
       "tooltip": null
      }
     },
     "57700a63a5d843a988d52e7da5d6903c": {
      "model_module": "@jupyter-widgets/base",
      "model_module_version": "2.0.0",
      "model_name": "LayoutModel",
      "state": {
       "_model_module": "@jupyter-widgets/base",
       "_model_module_version": "2.0.0",
       "_model_name": "LayoutModel",
       "_view_count": null,
       "_view_module": "@jupyter-widgets/base",
       "_view_module_version": "2.0.0",
       "_view_name": "LayoutView",
       "align_content": null,
       "align_items": null,
       "align_self": null,
       "border_bottom": null,
       "border_left": null,
       "border_right": null,
       "border_top": null,
       "bottom": null,
       "display": null,
       "flex": null,
       "flex_flow": null,
       "grid_area": null,
       "grid_auto_columns": null,
       "grid_auto_flow": null,
       "grid_auto_rows": null,
       "grid_column": null,
       "grid_gap": null,
       "grid_row": null,
       "grid_template_areas": null,
       "grid_template_columns": null,
       "grid_template_rows": null,
       "height": null,
       "justify_content": null,
       "justify_items": null,
       "left": null,
       "margin": null,
       "max_height": null,
       "max_width": null,
       "min_height": null,
       "min_width": null,
       "object_fit": null,
       "object_position": null,
       "order": null,
       "overflow": null,
       "padding": null,
       "right": null,
       "top": null,
       "visibility": null,
       "width": null
      }
     },
     "60329ad390ed4712ac229beda1cca62b": {
      "model_module": "@jupyter-widgets/base",
      "model_module_version": "2.0.0",
      "model_name": "LayoutModel",
      "state": {
       "_model_module": "@jupyter-widgets/base",
       "_model_module_version": "2.0.0",
       "_model_name": "LayoutModel",
       "_view_count": null,
       "_view_module": "@jupyter-widgets/base",
       "_view_module_version": "2.0.0",
       "_view_name": "LayoutView",
       "align_content": null,
       "align_items": null,
       "align_self": null,
       "border_bottom": null,
       "border_left": null,
       "border_right": null,
       "border_top": null,
       "bottom": null,
       "display": null,
       "flex": null,
       "flex_flow": null,
       "grid_area": null,
       "grid_auto_columns": null,
       "grid_auto_flow": null,
       "grid_auto_rows": null,
       "grid_column": null,
       "grid_gap": null,
       "grid_row": null,
       "grid_template_areas": null,
       "grid_template_columns": null,
       "grid_template_rows": null,
       "height": null,
       "justify_content": null,
       "justify_items": null,
       "left": null,
       "margin": null,
       "max_height": null,
       "max_width": null,
       "min_height": null,
       "min_width": null,
       "object_fit": null,
       "object_position": null,
       "order": null,
       "overflow": null,
       "padding": null,
       "right": null,
       "top": null,
       "visibility": null,
       "width": null
      }
     },
     "64bfb87bbdce4d6ea5a4741b6111b214": {
      "model_module": "@jupyter-widgets/output",
      "model_module_version": "1.0.0",
      "model_name": "OutputModel",
      "state": {
       "_dom_classes": [],
       "_model_module": "@jupyter-widgets/output",
       "_model_module_version": "1.0.0",
       "_model_name": "OutputModel",
       "_view_count": null,
       "_view_module": "@jupyter-widgets/output",
       "_view_module_version": "1.0.0",
       "_view_name": "OutputView",
       "layout": "IPY_MODEL_60329ad390ed4712ac229beda1cca62b",
       "msg_id": "",
       "outputs": [
        {
         "data": {
          "text/html": "<pre style=\"white-space:pre;overflow-x:auto;line-height:normal;font-family:Menlo,'DejaVu Sans Mono',consolas,'Courier New',monospace\">solver progress (field decay = 6.16e-06) <span style=\"color: #729c1f; text-decoration-color: #729c1f\">━━━━━━━━━━━━━━━━━━━━━━━━━━</span> <span style=\"color: #800080; text-decoration-color: #800080\">100%</span> <span style=\"color: #008080; text-decoration-color: #008080\">0:00:00</span>\n</pre>\n",
          "text/plain": "solver progress (field decay = 6.16e-06) \u001b[38;2;114;156;31m━━━━━━━━━━━━━━━━━━━━━━━━━━\u001b[0m \u001b[35m100%\u001b[0m \u001b[36m0:00:00\u001b[0m\n"
         },
         "metadata": {},
         "output_type": "display_data"
        }
       ],
       "tabbable": null,
       "tooltip": null
      }
     },
     "6798f31f8bd34c65810960b5871b601c": {
      "model_module": "@jupyter-widgets/output",
      "model_module_version": "1.0.0",
      "model_name": "OutputModel",
      "state": {
       "_dom_classes": [],
       "_model_module": "@jupyter-widgets/output",
       "_model_module_version": "1.0.0",
       "_model_name": "OutputModel",
       "_view_count": null,
       "_view_module": "@jupyter-widgets/output",
       "_view_module_version": "1.0.0",
       "_view_name": "OutputView",
       "layout": "IPY_MODEL_b4800e7c7b68442db3337d43cc284ec4",
       "msg_id": "",
       "outputs": [
        {
         "data": {
          "text/html": "<pre style=\"white-space:pre;overflow-x:auto;line-height:normal;font-family:Menlo,'DejaVu Sans Mono',consolas,'Courier New',monospace\"><span style=\"color: #800000; text-decoration-color: #800000; font-weight: bold\">↑</span> <span style=\"color: #000080; text-decoration-color: #000080; font-weight: bold\">simulation.hdf5.gz</span> <span style=\"color: #729c1f; text-decoration-color: #729c1f\">━━━━━━━━━━━━━━━━━━━━━━━━━</span> <span style=\"color: #800080; text-decoration-color: #800080\">100.0%</span> • <span style=\"color: #008000; text-decoration-color: #008000\">1.3/1.3 kB</span> • <span style=\"color: #800000; text-decoration-color: #800000\">?</span> • <span style=\"color: #008080; text-decoration-color: #008080\">0:00:00</span>\n</pre>\n",
          "text/plain": "\u001b[1;31m↑\u001b[0m \u001b[1;34msimulation.hdf5.gz\u001b[0m \u001b[38;2;114;156;31m━━━━━━━━━━━━━━━━━━━━━━━━━\u001b[0m \u001b[35m100.0%\u001b[0m • \u001b[32m1.3/1.3 kB\u001b[0m • \u001b[31m?\u001b[0m • \u001b[36m0:00:00\u001b[0m\n"
         },
         "metadata": {},
         "output_type": "display_data"
        }
       ],
       "tabbable": null,
       "tooltip": null
      }
     },
     "71caf5fcae054847a6656414bf7c38ce": {
      "model_module": "@jupyter-widgets/base",
      "model_module_version": "2.0.0",
      "model_name": "LayoutModel",
      "state": {
       "_model_module": "@jupyter-widgets/base",
       "_model_module_version": "2.0.0",
       "_model_name": "LayoutModel",
       "_view_count": null,
       "_view_module": "@jupyter-widgets/base",
       "_view_module_version": "2.0.0",
       "_view_name": "LayoutView",
       "align_content": null,
       "align_items": null,
       "align_self": null,
       "border_bottom": null,
       "border_left": null,
       "border_right": null,
       "border_top": null,
       "bottom": null,
       "display": null,
       "flex": null,
       "flex_flow": null,
       "grid_area": null,
       "grid_auto_columns": null,
       "grid_auto_flow": null,
       "grid_auto_rows": null,
       "grid_column": null,
       "grid_gap": null,
       "grid_row": null,
       "grid_template_areas": null,
       "grid_template_columns": null,
       "grid_template_rows": null,
       "height": null,
       "justify_content": null,
       "justify_items": null,
       "left": null,
       "margin": null,
       "max_height": null,
       "max_width": null,
       "min_height": null,
       "min_width": null,
       "object_fit": null,
       "object_position": null,
       "order": null,
       "overflow": null,
       "padding": null,
       "right": null,
       "top": null,
       "visibility": null,
       "width": null
      }
     },
     "876fa22401bc4fbb999b070241afda99": {
      "model_module": "@jupyter-widgets/output",
      "model_module_version": "1.0.0",
      "model_name": "OutputModel",
      "state": {
       "_dom_classes": [],
       "_model_module": "@jupyter-widgets/output",
       "_model_module_version": "1.0.0",
       "_model_name": "OutputModel",
       "_view_count": null,
       "_view_module": "@jupyter-widgets/output",
       "_view_module_version": "1.0.0",
       "_view_name": "OutputView",
       "layout": "IPY_MODEL_d75358ed1072497bb503491a33df51bc",
       "msg_id": "",
       "outputs": [
        {
         "data": {
          "text/html": "<pre style=\"white-space:pre;overflow-x:auto;line-height:normal;font-family:Menlo,'DejaVu Sans Mono',consolas,'Courier New',monospace\"><span style=\"color: #008000; text-decoration-color: #008000\">🚶 </span> <span style=\"color: #008000; text-decoration-color: #008000; font-weight: bold\">Starting 'scattered waveguide'...</span>\n</pre>\n",
          "text/plain": "\u001b[32m🚶 \u001b[0m \u001b[1;32mStarting 'scattered waveguide'...\u001b[0m\n"
         },
         "metadata": {},
         "output_type": "display_data"
        }
       ],
       "tabbable": null,
       "tooltip": null
      }
     },
     "8b1a22dcfbdc49f58e050c72e3cdae3d": {
      "model_module": "@jupyter-widgets/base",
      "model_module_version": "2.0.0",
      "model_name": "LayoutModel",
      "state": {
       "_model_module": "@jupyter-widgets/base",
       "_model_module_version": "2.0.0",
       "_model_name": "LayoutModel",
       "_view_count": null,
       "_view_module": "@jupyter-widgets/base",
       "_view_module_version": "2.0.0",
       "_view_name": "LayoutView",
       "align_content": null,
       "align_items": null,
       "align_self": null,
       "border_bottom": null,
       "border_left": null,
       "border_right": null,
       "border_top": null,
       "bottom": null,
       "display": null,
       "flex": null,
       "flex_flow": null,
       "grid_area": null,
       "grid_auto_columns": null,
       "grid_auto_flow": null,
       "grid_auto_rows": null,
       "grid_column": null,
       "grid_gap": null,
       "grid_row": null,
       "grid_template_areas": null,
       "grid_template_columns": null,
       "grid_template_rows": null,
       "height": null,
       "justify_content": null,
       "justify_items": null,
       "left": null,
       "margin": null,
       "max_height": null,
       "max_width": null,
       "min_height": null,
       "min_width": null,
       "object_fit": null,
       "object_position": null,
       "order": null,
       "overflow": null,
       "padding": null,
       "right": null,
       "top": null,
       "visibility": null,
       "width": null
      }
     },
     "998152fe126f4f168c61028d2947e1ec": {
      "model_module": "@jupyter-widgets/output",
      "model_module_version": "1.0.0",
      "model_name": "OutputModel",
      "state": {
       "_dom_classes": [],
       "_model_module": "@jupyter-widgets/output",
       "_model_module_version": "1.0.0",
       "_model_name": "OutputModel",
       "_view_count": null,
       "_view_module": "@jupyter-widgets/output",
       "_view_module_version": "1.0.0",
       "_view_name": "OutputView",
       "layout": "IPY_MODEL_71caf5fcae054847a6656414bf7c38ce",
       "msg_id": "",
       "outputs": [
        {
         "data": {
          "text/html": "<pre style=\"white-space:pre;overflow-x:auto;line-height:normal;font-family:Menlo,'DejaVu Sans Mono',consolas,'Courier New',monospace\"><span style=\"color: #008000; text-decoration-color: #008000\">🏃 </span> <span style=\"color: #008000; text-decoration-color: #008000; font-weight: bold\">Starting 'straight waveguide'...</span>\n</pre>\n",
          "text/plain": "\u001b[32m🏃 \u001b[0m \u001b[1;32mStarting 'straight waveguide'...\u001b[0m\n"
         },
         "metadata": {},
         "output_type": "display_data"
        }
       ],
       "tabbable": null,
       "tooltip": null
      }
     },
     "a88da575d4714986a94f0c2e841e6c17": {
      "model_module": "@jupyter-widgets/output",
      "model_module_version": "1.0.0",
      "model_name": "OutputModel",
      "state": {
       "_dom_classes": [],
       "_model_module": "@jupyter-widgets/output",
       "_model_module_version": "1.0.0",
       "_model_name": "OutputModel",
       "_view_count": null,
       "_view_module": "@jupyter-widgets/output",
       "_view_module_version": "1.0.0",
       "_view_name": "OutputView",
       "layout": "IPY_MODEL_b9fa3db56978425bbcbf14ecc7e48e87",
       "msg_id": "",
       "outputs": [
        {
         "data": {
          "text/html": "<pre style=\"white-space:pre;overflow-x:auto;line-height:normal;font-family:Menlo,'DejaVu Sans Mono',consolas,'Courier New',monospace\">solver progress (field decay = 1.36e-06) <span style=\"color: #729c1f; text-decoration-color: #729c1f\">━━━━━━━━━━━━━━━━━━━━━━━━━━</span> <span style=\"color: #800080; text-decoration-color: #800080\">100%</span> <span style=\"color: #008080; text-decoration-color: #008080\">0:00:00</span>\n</pre>\n",
          "text/plain": "solver progress (field decay = 1.36e-06) \u001b[38;2;114;156;31m━━━━━━━━━━━━━━━━━━━━━━━━━━\u001b[0m \u001b[35m100%\u001b[0m \u001b[36m0:00:00\u001b[0m\n"
         },
         "metadata": {},
         "output_type": "display_data"
        }
       ],
       "tabbable": null,
       "tooltip": null
      }
     },
     "ada818607f0341968bdca0c13c867200": {
      "model_module": "@jupyter-widgets/output",
      "model_module_version": "1.0.0",
      "model_name": "OutputModel",
      "state": {
       "_dom_classes": [],
       "_model_module": "@jupyter-widgets/output",
       "_model_module_version": "1.0.0",
       "_model_name": "OutputModel",
       "_view_count": null,
       "_view_module": "@jupyter-widgets/output",
       "_view_module_version": "1.0.0",
       "_view_name": "OutputView",
       "layout": "IPY_MODEL_8b1a22dcfbdc49f58e050c72e3cdae3d",
       "msg_id": "",
       "outputs": [
        {
         "data": {
          "text/html": "<pre style=\"white-space:pre;overflow-x:auto;line-height:normal;font-family:Menlo,'DejaVu Sans Mono',consolas,'Courier New',monospace\"><span style=\"color: #008000; text-decoration-color: #008000\">🚶 </span> <span style=\"color: #008000; text-decoration-color: #008000; font-weight: bold\">Finishing 'straight waveguide'...</span>\n</pre>\n",
          "text/plain": "\u001b[32m🚶 \u001b[0m \u001b[1;32mFinishing 'straight waveguide'...\u001b[0m\n"
         },
         "metadata": {},
         "output_type": "display_data"
        }
       ],
       "tabbable": null,
       "tooltip": null
      }
     },
     "b4800e7c7b68442db3337d43cc284ec4": {
      "model_module": "@jupyter-widgets/base",
      "model_module_version": "2.0.0",
      "model_name": "LayoutModel",
      "state": {
       "_model_module": "@jupyter-widgets/base",
       "_model_module_version": "2.0.0",
       "_model_name": "LayoutModel",
       "_view_count": null,
       "_view_module": "@jupyter-widgets/base",
       "_view_module_version": "2.0.0",
       "_view_name": "LayoutView",
       "align_content": null,
       "align_items": null,
       "align_self": null,
       "border_bottom": null,
       "border_left": null,
       "border_right": null,
       "border_top": null,
       "bottom": null,
       "display": null,
       "flex": null,
       "flex_flow": null,
       "grid_area": null,
       "grid_auto_columns": null,
       "grid_auto_flow": null,
       "grid_auto_rows": null,
       "grid_column": null,
       "grid_gap": null,
       "grid_row": null,
       "grid_template_areas": null,
       "grid_template_columns": null,
       "grid_template_rows": null,
       "height": null,
       "justify_content": null,
       "justify_items": null,
       "left": null,
       "margin": null,
       "max_height": null,
       "max_width": null,
       "min_height": null,
       "min_width": null,
       "object_fit": null,
       "object_position": null,
       "order": null,
       "overflow": null,
       "padding": null,
       "right": null,
       "top": null,
       "visibility": null,
       "width": null
      }
     },
     "b9fa3db56978425bbcbf14ecc7e48e87": {
      "model_module": "@jupyter-widgets/base",
      "model_module_version": "2.0.0",
      "model_name": "LayoutModel",
      "state": {
       "_model_module": "@jupyter-widgets/base",
       "_model_module_version": "2.0.0",
       "_model_name": "LayoutModel",
       "_view_count": null,
       "_view_module": "@jupyter-widgets/base",
       "_view_module_version": "2.0.0",
       "_view_name": "LayoutView",
       "align_content": null,
       "align_items": null,
       "align_self": null,
       "border_bottom": null,
       "border_left": null,
       "border_right": null,
       "border_top": null,
       "bottom": null,
       "display": null,
       "flex": null,
       "flex_flow": null,
       "grid_area": null,
       "grid_auto_columns": null,
       "grid_auto_flow": null,
       "grid_auto_rows": null,
       "grid_column": null,
       "grid_gap": null,
       "grid_row": null,
       "grid_template_areas": null,
       "grid_template_columns": null,
       "grid_template_rows": null,
       "height": null,
       "justify_content": null,
       "justify_items": null,
       "left": null,
       "margin": null,
       "max_height": null,
       "max_width": null,
       "min_height": null,
       "min_width": null,
       "object_fit": null,
       "object_position": null,
       "order": null,
       "overflow": null,
       "padding": null,
       "right": null,
       "top": null,
       "visibility": null,
       "width": null
      }
     },
     "baf8de692ce34286be97ae177d2f20dc": {
      "model_module": "@jupyter-widgets/output",
      "model_module_version": "1.0.0",
      "model_name": "OutputModel",
      "state": {
       "_dom_classes": [],
       "_model_module": "@jupyter-widgets/output",
       "_model_module_version": "1.0.0",
       "_model_name": "OutputModel",
       "_view_count": null,
       "_view_module": "@jupyter-widgets/output",
       "_view_module_version": "1.0.0",
       "_view_name": "OutputView",
       "layout": "IPY_MODEL_d840000c8a7b4997bd61c06db4ef3afc",
       "msg_id": "",
       "outputs": [
        {
         "data": {
          "text/html": "<pre style=\"white-space:pre;overflow-x:auto;line-height:normal;font-family:Menlo,'DejaVu Sans Mono',consolas,'Courier New',monospace\"><span style=\"color: #008000; text-decoration-color: #008000; font-weight: bold\">↓</span> <span style=\"color: #000080; text-decoration-color: #000080; font-weight: bold\">simulation_data.hdf5.gz</span> <span style=\"color: #729c1f; text-decoration-color: #729c1f\">━━━━━━━━━━━━</span> <span style=\"color: #800080; text-decoration-color: #800080\">100.0%</span> • <span style=\"color: #008000; text-decoration-color: #008000\">8.3/8.3 MB</span> • <span style=\"color: #800000; text-decoration-color: #800000\">36.6 MB/s</span> • <span style=\"color: #008080; text-decoration-color: #008080\">0:00:00</span>\n</pre>\n",
          "text/plain": "\u001b[1;32m↓\u001b[0m \u001b[1;34msimulation_data.hdf5.gz\u001b[0m \u001b[38;2;114;156;31m━━━━━━━━━━━━\u001b[0m \u001b[35m100.0%\u001b[0m • \u001b[32m8.3/8.3 MB\u001b[0m • \u001b[31m36.6 MB/s\u001b[0m • \u001b[36m0:00:00\u001b[0m\n"
         },
         "metadata": {},
         "output_type": "display_data"
        }
       ],
       "tabbable": null,
       "tooltip": null
      }
     },
     "d75358ed1072497bb503491a33df51bc": {
      "model_module": "@jupyter-widgets/base",
      "model_module_version": "2.0.0",
      "model_name": "LayoutModel",
      "state": {
       "_model_module": "@jupyter-widgets/base",
       "_model_module_version": "2.0.0",
       "_model_name": "LayoutModel",
       "_view_count": null,
       "_view_module": "@jupyter-widgets/base",
       "_view_module_version": "2.0.0",
       "_view_name": "LayoutView",
       "align_content": null,
       "align_items": null,
       "align_self": null,
       "border_bottom": null,
       "border_left": null,
       "border_right": null,
       "border_top": null,
       "bottom": null,
       "display": null,
       "flex": null,
       "flex_flow": null,
       "grid_area": null,
       "grid_auto_columns": null,
       "grid_auto_flow": null,
       "grid_auto_rows": null,
       "grid_column": null,
       "grid_gap": null,
       "grid_row": null,
       "grid_template_areas": null,
       "grid_template_columns": null,
       "grid_template_rows": null,
       "height": null,
       "justify_content": null,
       "justify_items": null,
       "left": null,
       "margin": null,
       "max_height": null,
       "max_width": null,
       "min_height": null,
       "min_width": null,
       "object_fit": null,
       "object_position": null,
       "order": null,
       "overflow": null,
       "padding": null,
       "right": null,
       "top": null,
       "visibility": null,
       "width": null
      }
     },
     "d840000c8a7b4997bd61c06db4ef3afc": {
      "model_module": "@jupyter-widgets/base",
      "model_module_version": "2.0.0",
      "model_name": "LayoutModel",
      "state": {
       "_model_module": "@jupyter-widgets/base",
       "_model_module_version": "2.0.0",
       "_model_name": "LayoutModel",
       "_view_count": null,
       "_view_module": "@jupyter-widgets/base",
       "_view_module_version": "2.0.0",
       "_view_name": "LayoutView",
       "align_content": null,
       "align_items": null,
       "align_self": null,
       "border_bottom": null,
       "border_left": null,
       "border_right": null,
       "border_top": null,
       "bottom": null,
       "display": null,
       "flex": null,
       "flex_flow": null,
       "grid_area": null,
       "grid_auto_columns": null,
       "grid_auto_flow": null,
       "grid_auto_rows": null,
       "grid_column": null,
       "grid_gap": null,
       "grid_row": null,
       "grid_template_areas": null,
       "grid_template_columns": null,
       "grid_template_rows": null,
       "height": null,
       "justify_content": null,
       "justify_items": null,
       "left": null,
       "margin": null,
       "max_height": null,
       "max_width": null,
       "min_height": null,
       "min_width": null,
       "object_fit": null,
       "object_position": null,
       "order": null,
       "overflow": null,
       "padding": null,
       "right": null,
       "top": null,
       "visibility": null,
       "width": null
      }
     },
     "f39a5fbe32ce4db5bd281a73c9e46c32": {
      "model_module": "@jupyter-widgets/output",
      "model_module_version": "1.0.0",
      "model_name": "OutputModel",
      "state": {
       "_dom_classes": [],
       "_model_module": "@jupyter-widgets/output",
       "_model_module_version": "1.0.0",
       "_model_name": "OutputModel",
       "_view_count": null,
       "_view_module": "@jupyter-widgets/output",
       "_view_module_version": "1.0.0",
       "_view_name": "OutputView",
       "layout": "IPY_MODEL_57700a63a5d843a988d52e7da5d6903c",
       "msg_id": "",
       "outputs": [
        {
         "data": {
          "text/html": "<pre style=\"white-space:pre;overflow-x:auto;line-height:normal;font-family:Menlo,'DejaVu Sans Mono',consolas,'Courier New',monospace\"><span style=\"color: #800000; text-decoration-color: #800000; font-weight: bold\">↑</span> <span style=\"color: #000080; text-decoration-color: #000080; font-weight: bold\">simulation.hdf5.gz</span> <span style=\"color: #729c1f; text-decoration-color: #729c1f\">━━━━━━━━━━━━━━━━━━━━━━━━━</span> <span style=\"color: #800080; text-decoration-color: #800080\">100.0%</span> • <span style=\"color: #008000; text-decoration-color: #008000\">1.3/1.3 kB</span> • <span style=\"color: #800000; text-decoration-color: #800000\">?</span> • <span style=\"color: #008080; text-decoration-color: #008080\">0:00:00</span>\n</pre>\n",
          "text/plain": "\u001b[1;31m↑\u001b[0m \u001b[1;34msimulation.hdf5.gz\u001b[0m \u001b[38;2;114;156;31m━━━━━━━━━━━━━━━━━━━━━━━━━\u001b[0m \u001b[35m100.0%\u001b[0m • \u001b[32m1.3/1.3 kB\u001b[0m • \u001b[31m?\u001b[0m • \u001b[36m0:00:00\u001b[0m\n"
         },
         "metadata": {},
         "output_type": "display_data"
        }
       ],
       "tabbable": null,
       "tooltip": null
      }
     }
    },
    "version_major": 2,
    "version_minor": 0
   }
  }
 },
 "nbformat": 4,
 "nbformat_minor": 5
}
