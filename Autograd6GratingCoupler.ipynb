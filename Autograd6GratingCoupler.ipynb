{
 "cells": [
  {
   "cell_type": "markdown",
   "metadata": {},
   "source": [
    "# Inverse design optimization of a compact grating coupler\n",
    "\n",
    "> Note: native autograd support is an experimental feature in tidy3d 2.7. To see the original implementation of this notebook using jax and the adjoint plugin, refer to [this notebook](https://www.flexcompute.com/tidy3d/examples/notebooks/AdjointPlugin6GratingCoupler/).\n",
    "\n",
    "**This notebook contains a long optimization. Running the entire notebook will cost about 10 FlexCredits and take a few hours.**\n",
    "\n",
    "The ability to couple light in and out of photonic integrated circuits (PICs) is crucial for developing wafer-scale systems and tests. This need makes designing efficient and compact grating couplers an important task in the PIC development cycle. In this notebook, we will demonstrate how to use `tidy3d` to perform the inverse design of a compact 3D grating coupler. We will show how to improve design fabricability by enhancing permittivity binarization and controlling the device's minimum feature size.\n",
    "\n",
    "<img src=\"img/adjoint_6.png\" width=400 alt=\"Schematic of the grating coupler\">\n",
    "\n",
    "In addition, if you are interested in more conventional designs, we modeled an [uniform grating coupler](https://www.flexcompute.com/tidy3d/examples/notebooks/GratingCoupler/) and a [Focusing apodized grating coupler](https://www.flexcompute.com/tidy3d/examples/notebooks/FocusedApodGC/) in previous case studies. For more integrated photonic examples, please visit our [examples page](https://www.flexcompute.com/tidy3d/examples/). If you are new to the finite-difference time-domain (FDTD) method, we highly recommend going through our [FDTD101](https://www.flexcompute.com/fdtd101/) tutorials. FDTD simulations can diverge due to various reasons. If you run into any simulation divergence issues, please follow the steps outlined in our [troubleshooting guide](https://www.flexcompute.com/tidy3d/examples/notebooks/DivergedFDTDSimulation/) to resolve it.\n",
    "\n",
    "We start by importing our typical python packages, plus `autograd` and `tidy3d`."
   ]
  },
  {
   "cell_type": "code",
   "execution_count": 1,
   "metadata": {
    "execution": {
     "iopub.execute_input": "2024-09-05T08:49:57.838079Z",
     "iopub.status.busy": "2024-09-05T08:49:57.836786Z",
     "iopub.status.idle": "2024-09-05T08:49:59.687008Z",
     "shell.execute_reply": "2024-09-05T08:49:59.686016Z"
    }
   },
   "outputs": [],
   "source": [
    "# Standard python imports.\n",
    "from typing import List\n",
    "import numpy as np\n",
    "import scipy as sp\n",
    "import matplotlib.pylab as plt\n",
    "\n",
    "# Import autograd to be able to use automatic differentiation.\n",
    "import autograd.numpy as anp\n",
    "from autograd import value_and_grad\n",
    "\n",
    "# Import regular tidy3d.\n",
    "import tidy3d as td\n",
    "import tidy3d.web as web"
   ]
  },
  {
   "cell_type": "markdown",
   "metadata": {},
   "source": [
    "## Grating Coupler Inverse Design Configuration\n",
    "\n",
    "The grating coupler inverse design begins with a rectangular design region connected to a $Si$ waveguide. Throughout the optimization process, this initial structure evolves to convert a vertically incident Gaussian-like mode from an optical fiber into a guided mode and then funnel it into the $Si$ waveguide.\n",
    "\n",
    "We are considering a full-etched grating structure, so a $SiO_{2}$ BOX layer is included. To reduce backreflection, we adjusted the fiber tilt angle to $10^{\\circ}$ [[1](https://doi.org/10.1364/OE.23.022628), [2](https://doi.org/10.3390/mi11070666)].\n",
    "\n",
    "In the following block of code, you can find the parameters that can be modified to configure the grating coupler structure, optimization, and simulation setup. Special care should be devoted to the `it_per_step` and `opt_steps` variables bellow."
   ]
  },
  {
   "cell_type": "code",
   "execution_count": 2,
   "metadata": {
    "execution": {
     "iopub.execute_input": "2024-09-05T08:49:59.692259Z",
     "iopub.status.busy": "2024-09-05T08:49:59.691867Z",
     "iopub.status.idle": "2024-09-05T08:49:59.697769Z",
     "shell.execute_reply": "2024-09-05T08:49:59.696935Z"
    }
   },
   "outputs": [],
   "source": [
    "# Geometric parameters.\n",
    "w_thick = 0.22  # Waveguide thickness (um).\n",
    "w_width = 0.5  # Waveguide width (um).\n",
    "w_length = 1.0  # Waveguide length (um).\n",
    "box_thick = 1.6  # SiO2 BOX thickness (um).\n",
    "spot_size = 2.5  # Spot size of the input Gaussian field regarding a lensed fiber (um).\n",
    "fiber_tilt = 10.0  # Fiber tilt angle (degrees).\n",
    "src_offset = 0.05  # Distance between the source focus and device (um).\n",
    "\n",
    "# Material.\n",
    "nSi = 3.48  # Silicon refractive index.\n",
    "nSiO2 = 1.44  # Silica refractive index.\n",
    "\n",
    "# Design region parameters.\n",
    "gc_width = 4.0  # Grating coupler width (um).\n",
    "gc_length = 4.0  # Grating coupler length (um).\n",
    "dr_grid_size = 0.02  # Grid size within the design region (um).\n",
    "\n",
    "# Inverse design set up parameters.\n",
    "#################################################################\n",
    "# Total number of iterations = opt_steps x it_per_step.\n",
    "it_per_step = 1  # Number of iterations per optimization step.\n",
    "opt_steps = 75  # Number of optimization steps.\n",
    "#################################################################\n",
    "eta = 0.50  # Threshold value for the projection filter.\n",
    "fom_name = \"fom_field\"  # Name of the monitor used to compute the objective function.\n",
    "\n",
    "# Simulation wavelength.\n",
    "wl = 1.55  # Central simulation wavelength (um).\n",
    "bw = 0.06  # Simulation bandwidth (um).\n",
    "n_wl = 61  # Number of wavelength points within the bandwidth.\n",
    "\n",
    "# feature size\n",
    "min_feature_size = 0.080\n",
    "filter_radius = min_feature_size\n",
    "\n",
    "# Buffer layer thickness\n",
    "border_buffer = 0.16\n",
    "\n",
    "# projection\n",
    "beta_min = 1.0\n",
    "beta_max = 30.0"
   ]
  },
  {
   "cell_type": "code",
   "execution_count": 3,
   "metadata": {
    "execution": {
     "iopub.execute_input": "2024-09-05T08:49:59.702189Z",
     "iopub.status.busy": "2024-09-05T08:49:59.701886Z",
     "iopub.status.idle": "2024-09-05T08:49:59.706839Z",
     "shell.execute_reply": "2024-09-05T08:49:59.705980Z"
    }
   },
   "outputs": [
    {
     "name": "stdout",
     "output_type": "stream",
     "text": [
      "Total iterations = 75\n"
     ]
    }
   ],
   "source": [
    "total_iter = opt_steps * it_per_step\n",
    "print(f\"Total iterations = {total_iter}\")"
   ]
  },
  {
   "cell_type": "markdown",
   "metadata": {},
   "source": [
    "## Inverse Design Optimization Set Up\n",
    "\n",
    "We will calculate the values of some parameters used throughout the inverse design set up."
   ]
  },
  {
   "cell_type": "code",
   "execution_count": 4,
   "metadata": {
    "execution": {
     "iopub.execute_input": "2024-09-05T08:49:59.711770Z",
     "iopub.status.busy": "2024-09-05T08:49:59.711400Z",
     "iopub.status.idle": "2024-09-05T08:49:59.722245Z",
     "shell.execute_reply": "2024-09-05T08:49:59.721379Z"
    }
   },
   "outputs": [],
   "source": [
    "# Minimum and maximum values for the permittivities.\n",
    "eps_max = nSi**2\n",
    "eps_min = 1.0\n",
    "\n",
    "# Material definitions.\n",
    "mat_si = td.Medium(permittivity=eps_max)  # Waveguide material.\n",
    "mat_sio2 = td.Medium(permittivity=nSiO2**2)  # Substrate material.\n",
    "\n",
    "# Wavelengths and frequencies.\n",
    "wl_max = wl + bw / 2\n",
    "wl_min = wl - bw / 2\n",
    "wl_range = np.linspace(wl_min, wl_max, n_wl)\n",
    "freq = td.C_0 / wl\n",
    "freqs = td.C_0 / wl_range\n",
    "freqw = 0.5 * (freqs[0] - freqs[-1])\n",
    "run_time = 5e-12\n",
    "\n",
    "# Computational domain size.\n",
    "pml_spacing = 0.6 * wl\n",
    "size_x = pml_spacing + w_length + gc_length + 2 * border_buffer\n",
    "size_y = gc_width + 2 * pml_spacing + 2 * border_buffer\n",
    "size_z = w_thick + box_thick + 2 * pml_spacing\n",
    "center_z = size_z / 2 - pml_spacing - w_thick / 2\n",
    "eff_inf = 1000\n",
    "\n",
    "# Inverse design variables.\n",
    "src_pos_z = w_thick / 2 + src_offset\n",
    "mon_pos_x = -size_x / 2 + 0.25 * wl\n",
    "mon_w = int(3 * w_width / dr_grid_size) * dr_grid_size\n",
    "mon_h = int(5 * w_thick / dr_grid_size) * dr_grid_size\n",
    "nx = int((gc_length + 2 * border_buffer) / dr_grid_size)\n",
    "ny = int((gc_width + 2 * border_buffer) / dr_grid_size / 2.0)\n",
    "npar = int(nx * ny)\n",
    "dr_size_x = nx * dr_grid_size\n",
    "dr_size_y = 2 * ny * dr_grid_size\n",
    "dr_center_x = -size_x / 2 + w_length + dr_size_x / 2\n",
    "n_border = int(border_buffer / dr_grid_size)"
   ]
  },
  {
   "cell_type": "markdown",
   "metadata": {},
   "source": [
    "First, we will introduce the simulation components that do not change during optimization, such as the $Si$ waveguide and $SiO_{2}$ BOX layer. Additionally, we will include a Gaussian source to drive the simulations, and a mode monitor to compute the objective function."
   ]
  },
  {
   "cell_type": "code",
   "execution_count": 5,
   "metadata": {
    "execution": {
     "iopub.execute_input": "2024-09-05T08:49:59.726985Z",
     "iopub.status.busy": "2024-09-05T08:49:59.726712Z",
     "iopub.status.idle": "2024-09-05T08:49:59.737542Z",
     "shell.execute_reply": "2024-09-05T08:49:59.736600Z"
    }
   },
   "outputs": [],
   "source": [
    "# Input/output waveguide.\n",
    "waveguide = td.Structure(\n",
    "    geometry=td.Box.from_bounds(\n",
    "        rmin=(-eff_inf, -w_width / 2, -w_thick / 2),\n",
    "        rmax=(-size_x / 2 + w_length, w_width / 2, w_thick / 2),\n",
    "    ),\n",
    "    medium=mat_si,\n",
    ")\n",
    "\n",
    "# SiO2 BOX layer.\n",
    "sio2_substrate = td.Structure(\n",
    "    geometry=td.Box.from_bounds(\n",
    "        rmin=(-eff_inf, -eff_inf, -w_thick / 2 - box_thick),\n",
    "        rmax=(eff_inf, eff_inf, -w_thick / 2),\n",
    "    ),\n",
    "    medium=mat_sio2,\n",
    ")\n",
    "\n",
    "# Si substrate.\n",
    "si_substrate = td.Structure(\n",
    "    geometry=td.Box.from_bounds(\n",
    "        rmin=(-eff_inf, -eff_inf, -eff_inf),\n",
    "        rmax=(eff_inf, eff_inf, -w_thick / 2 - box_thick),\n",
    "    ),\n",
    "    medium=mat_si,\n",
    ")\n",
    "\n",
    "# Gaussian source focused above the grating coupler.\n",
    "gauss_source = td.GaussianBeam(\n",
    "    center=(dr_center_x, 0, src_pos_z),\n",
    "    size=(dr_size_x - 2 * border_buffer, dr_size_y - 2 * border_buffer, 0),\n",
    "    source_time=td.GaussianPulse(freq0=freq, fwidth=freqw),\n",
    "    pol_angle=np.pi / 2,\n",
    "    angle_theta=fiber_tilt * np.pi / 180.0,\n",
    "    direction=\"-\",\n",
    "    num_freqs=7,\n",
    "    waist_radius=spot_size / 2,\n",
    ")\n",
    "\n",
    "# Monitor where we will compute the objective function from.\n",
    "mode_spec = td.ModeSpec(num_modes=1, target_neff=nSi)\n",
    "fom_monitor = td.ModeMonitor(\n",
    "    center=[mon_pos_x, 0, 0],\n",
    "    size=[0, mon_w, mon_h],\n",
    "    freqs=[freq],\n",
    "    mode_spec=mode_spec,\n",
    "    name=fom_name,\n",
    ")"
   ]
  },
  {
   "cell_type": "markdown",
   "metadata": {},
   "source": [
    "Now, we will define a random vector of initial design parameters or load a previously designed structure.\n",
    "\n",
    "> Note: if a previous optimization file is found, the optimizer will pick up where that left off instead."
   ]
  },
  {
   "cell_type": "code",
   "execution_count": 6,
   "metadata": {
    "execution": {
     "iopub.execute_input": "2024-09-05T08:49:59.742679Z",
     "iopub.status.busy": "2024-09-05T08:49:59.741999Z",
     "iopub.status.idle": "2024-09-05T08:49:59.758182Z",
     "shell.execute_reply": "2024-09-05T08:49:59.757209Z"
    }
   },
   "outputs": [],
   "source": [
    "init_par = np.random.uniform(0, 1, int(npar))\n",
    "init_par = sp.ndimage.gaussian_filter(init_par, 1)\n",
    "init_par = init_par.reshape((nx, ny))"
   ]
  },
  {
   "cell_type": "markdown",
   "metadata": {},
   "source": [
    "### Fabrication Constraints\n",
    "\n",
    "We will use the `tidy3d.plugins.autograd` plugin to introduce functions that improve device fabricability. A classical conic density filter, which is popular in topology optimization problems, is used to enforce a minimum feature size specified by the `filter_radius` variable. Next, a hyperbolic tangent projection function is applied to eliminate grayscale and obtain a binarized permittivity pattern. The `beta` parameter controls the sharpness of the transition in the projection function, and for better results, this parameter should be gradually increased throughout the optimization process. Finally, the design parameters are transformed into permittivity values. For a detailed review of these methods, refer to [[3](https://doi.org/10.1007/s00419-015-1106-4)].\n",
    "\n",
    "We will also introduce a buffer layer around the design region to enhance fabricability at the interfaces. The permittivity is enforced to lower values within the buffer layer, except at the output waveguide connection where we want a smooth transition."
   ]
  },
  {
   "cell_type": "code",
   "execution_count": 7,
   "metadata": {
    "execution": {
     "iopub.execute_input": "2024-09-05T08:49:59.763310Z",
     "iopub.status.busy": "2024-09-05T08:49:59.762967Z",
     "iopub.status.idle": "2024-09-05T08:49:59.893948Z",
     "shell.execute_reply": "2024-09-05T08:49:59.893064Z"
    }
   },
   "outputs": [],
   "source": [
    "from tidy3d.plugins.autograd.invdes import make_filter_and_project, get_kernel_size_px\n",
    "from tidy3d.plugins.autograd.functions import rescale\n",
    "\n",
    "filter_size = get_kernel_size_px(filter_radius, dr_grid_size)\n",
    "filter_project = make_filter_and_project(filter_size, padding=\"constant\")\n",
    "\n",
    "\n",
    "def interface_buffer(params):\n",
    "    \"\"\"Introduce a buffer around design to enhance fabricability at the interfaces.\"\"\"\n",
    "    mask = anp.zeros_like(params)\n",
    "    mask[0:n_border, :] = 0\n",
    "    mask[nx - n_border :, :] = 0\n",
    "    mask[:, ny - n_border :] = 0\n",
    "    mask[0:n_border, 0 : int((w_width / 2) / dr_grid_size) + 1] = 1\n",
    "\n",
    "    return params * (1 - mask) + mask\n",
    "\n",
    "\n",
    "def pre_process(params, beta):\n",
    "    \"\"\"Get the permittivity values (1, eps_wg) array as a funciton of the parameters (0,1)\"\"\"\n",
    "    params1 = interface_buffer(params)\n",
    "    params2 = filter_project(params1, beta=beta)\n",
    "    params3 = filter_project(params2, beta=beta)\n",
    "    return params3\n",
    "\n",
    "\n",
    "def get_eps_values(params: np.ndarray, beta: float) -> np.ndarray:\n",
    "    \"\"\"Get the relative permittivity array given the parameters.\"\"\"\n",
    "    params = pre_process(params, beta=beta)\n",
    "    eps_values = rescale(params, eps_min, eps_max)\n",
    "    return eps_values"
   ]
  },
  {
   "cell_type": "code",
   "execution_count": 8,
   "metadata": {
    "execution": {
     "iopub.execute_input": "2024-09-05T08:49:59.898634Z",
     "iopub.status.busy": "2024-09-05T08:49:59.898382Z",
     "iopub.status.idle": "2024-09-05T08:49:59.903518Z",
     "shell.execute_reply": "2024-09-05T08:49:59.902647Z"
    }
   },
   "outputs": [],
   "source": [
    "def get_eps(design_param: np.ndarray, beta: float = 1.00, binarize: bool = False) -> np.ndarray:\n",
    "    \"\"\"Returns the permittivities after applying a conic density filter on design parameters\n",
    "    to enforce fabrication constraints, followed by a binarization projection function\n",
    "    which reduces grayscale.\n",
    "    Parameters:\n",
    "        design_param: np.ndarray\n",
    "            Vector of design parameters.\n",
    "        beta: float = 1.0\n",
    "            Sharpness parameter for the projection filter.\n",
    "        binarize: bool = False\n",
    "            Enforce binarization.\n",
    "    Returns:\n",
    "        eps: np.ndarray\n",
    "            Permittivity vector.\n",
    "    \"\"\"\n",
    "\n",
    "    # Calculates the permittivities from the transformed design parameters.\n",
    "    eps = get_eps_values(design_param, beta=beta)\n",
    "    if binarize:\n",
    "        eps = anp.where(eps < (eps_min + eps_max) / 2, eps_min, eps_max)\n",
    "    else:\n",
    "        eps = anp.where(eps < eps_min, eps_min, eps)\n",
    "        eps = anp.where(eps > eps_max, eps_max, eps)\n",
    "    return eps"
   ]
  },
  {
   "cell_type": "markdown",
   "metadata": {},
   "source": [
    "The permittivity values obtained from the design parameters are then used to build a [CustomMedium](https://docs.flexcompute.com/projects/tidy3d/en/latest/api/_autosummary/tidy3d.CustomMedium.html). As we will consider symmetry about the x-axis in the simulations, only the upper-half part of the design region needs to be populated. A `Structure` built using the `CustomMedium` will be returned by the following function: "
   ]
  },
  {
   "cell_type": "code",
   "execution_count": 9,
   "metadata": {
    "execution": {
     "iopub.execute_input": "2024-09-05T08:49:59.908274Z",
     "iopub.status.busy": "2024-09-05T08:49:59.907986Z",
     "iopub.status.idle": "2024-09-05T08:49:59.915276Z",
     "shell.execute_reply": "2024-09-05T08:49:59.914363Z"
    }
   },
   "outputs": [],
   "source": [
    "def update_design(eps, unfold: bool = False) -> List[td.Structure]:\n",
    "    \"\"\" Reflects the structure about the x-axis.\"\"\"\n",
    "    nyii = ny\n",
    "    y_min = 0\n",
    "    dr_s_y = dr_size_y / 2\n",
    "    dr_c_y = dr_s_y / 2\n",
    "    eps_val = anp.array(eps).reshape((nx, ny, 1))\n",
    "    if unfold:\n",
    "        nyii = 2 * ny\n",
    "        y_min = -dr_size_y / 2\n",
    "        dr_s_y = dr_size_y\n",
    "        dr_c_y = 0\n",
    "        eps_val = anp.concatenate((anp.fliplr(anp.copy(eps_val)), eps_val), axis=1)\n",
    "\n",
    "    # Definition of the coordinates x,y along the design region.\n",
    "    coords_x = [(dr_center_x - dr_size_x / 2) + ix * dr_grid_size for ix in range(nx)]\n",
    "    coords_y = [y_min + iy * dr_grid_size for iy in range(nyii)]\n",
    "    coords = dict(x=coords_x, y=coords_y, z=[0])\n",
    "\n",
    "    # Creation of a custom medium using the values of the design parameters.\n",
    "    permittivity = td.SpatialDataArray(eps_val, coords=coords)\n",
    "    eps_medium = td.CustomMedium(permittivity=permittivity)\n",
    "    box = td.Box(center=(dr_center_x, dr_c_y, 0), size=(dr_size_x, dr_s_y, w_thick))\n",
    "    design_structure = td.Structure(geometry=box, medium=eps_medium)\n",
    "    return [design_structure]"
   ]
  },
  {
   "cell_type": "markdown",
   "metadata": {},
   "source": [
    "Next, we will write a function to return the `td.Simulation` object. Note that we are using a `MeshOverrideStructure` to obtain a uniform mesh over the design region."
   ]
  },
  {
   "cell_type": "code",
   "execution_count": 10,
   "metadata": {
    "execution": {
     "iopub.execute_input": "2024-09-05T08:49:59.920176Z",
     "iopub.status.busy": "2024-09-05T08:49:59.919852Z",
     "iopub.status.idle": "2024-09-05T08:49:59.928471Z",
     "shell.execute_reply": "2024-09-05T08:49:59.927472Z"
    }
   },
   "outputs": [],
   "source": [
    "def make_adjoint_sim(\n",
    "    design_param : np.ndarray, beta: float = 1.00, unfold: bool = False, binarize: bool = False\n",
    ") -> td.Simulation:\n",
    "    # Builds the design region from the design parameters.\n",
    "    eps = get_eps(design_param, beta, binarize)\n",
    "    design_structure = update_design(eps, unfold=unfold)\n",
    "\n",
    "    # Creates a uniform mesh for the design region.\n",
    "    adjoint_dr_mesh = td.MeshOverrideStructure(\n",
    "        geometry=td.Box(center=(dr_center_x, 0, 0), size=(dr_size_x, dr_size_y, w_thick)),\n",
    "        dl=[dr_grid_size, dr_grid_size, dr_grid_size],\n",
    "        enforce=True,\n",
    "    )\n",
    "\n",
    "    return td.Simulation(\n",
    "        size=[size_x, size_y, size_z],\n",
    "        center=[0, 0, -center_z],\n",
    "        grid_spec=td.GridSpec.auto(\n",
    "            wavelength=wl_max,\n",
    "            min_steps_per_wvl=15,\n",
    "            override_structures=[adjoint_dr_mesh],\n",
    "        ),\n",
    "        symmetry=(0, -1, 0),\n",
    "        structures=[waveguide, sio2_substrate, si_substrate] + design_structure,\n",
    "        sources=[gauss_source],\n",
    "        monitors=[fom_monitor],\n",
    "        run_time=run_time,\n",
    "        subpixel=True,\n",
    "    )"
   ]
  },
  {
   "cell_type": "markdown",
   "metadata": {},
   "source": [
    "Let's visualize the simulation set up and verify if all the elements are in their correct places."
   ]
  },
  {
   "cell_type": "code",
   "execution_count": 11,
   "metadata": {
    "execution": {
     "iopub.execute_input": "2024-09-05T08:49:59.934209Z",
     "iopub.status.busy": "2024-09-05T08:49:59.933347Z",
     "iopub.status.idle": "2024-09-05T08:50:00.665507Z",
     "shell.execute_reply": "2024-09-05T08:50:00.664575Z"
    }
   },
   "outputs": [
    {
     "data": {
      "image/png": "[encoded data removed]",
      "text/plain": [
       "<Figure size 1000x1000 with 4 Axes>"
      ]
     },
     "metadata": {},
     "output_type": "display_data"
    }
   ],
   "source": [
    "init_design = make_adjoint_sim(init_par, beta=beta_min)\n",
    "\n",
    "fig, (ax1, ax2) = plt.subplots(1, 2, tight_layout=True, figsize=(10, 10))\n",
    "init_design.plot_eps(z=0, ax=ax1)\n",
    "init_design.plot_eps(y=0, ax=ax2)\n",
    "plt.show()"
   ]
  },
  {
   "cell_type": "markdown",
   "metadata": {},
   "source": [
    "## Optimization\n",
    "\n",
    "We need to provide an objective function and its gradients with respect to the design parameters of the optimization algorithm.\n",
    "\n",
    "Our figure-of-merit (FOM) is the coupling efficiency of the incident power into the fundamental transverse electric mode of the $Si$ waveguide. The optimization algorithm will call the objective function at each iteration step. Therefore, the objective function will create the adjoint simulation, run it, and return the FOM value."
   ]
  },
  {
   "cell_type": "code",
   "execution_count": 12,
   "metadata": {
    "execution": {
     "iopub.execute_input": "2024-09-05T08:50:00.673462Z",
     "iopub.status.busy": "2024-09-05T08:50:00.672691Z",
     "iopub.status.idle": "2024-09-05T08:50:00.683382Z",
     "shell.execute_reply": "2024-09-05T08:50:00.682443Z"
    }
   },
   "outputs": [],
   "source": [
    "from tidy3d.plugins.autograd.invdes import make_erosion_dilation_penalty\n",
    "\n",
    "erode_dilate_penalty = make_erosion_dilation_penalty(filter_size)\n",
    "\n",
    "\n",
    "# Figure of Merit (FOM) calculation.\n",
    "def fom(sim_data: td.SimulationData) -> float:\n",
    "    \"\"\"Return the power at the mode index of interest.\"\"\"\n",
    "    output_amps = sim_data[fom_name].amps\n",
    "    amp = output_amps.sel(direction=\"-\", f=freq, mode_index=0).values\n",
    "    return anp.sum(anp.abs(amp) ** 2)\n",
    "\n",
    "\n",
    "def penalty(params, beta) -> float:\n",
    "    \"\"\"Penalty function based on amount of change in parameters after erosion and dilation.\"\"\"\n",
    "    params_processed = pre_process(params, beta=beta)\n",
    "    return erode_dilate_penalty(params_processed)\n",
    "\n",
    "\n",
    "# Objective function to be passed to the optimization algorithm.\n",
    "def obj(design_param, beta: float = 1.0, step_num: int = None, verbose: bool = False) -> float:\n",
    "    sim = make_adjoint_sim(design_param, beta)\n",
    "    task_name = \"inv_des\"\n",
    "    if step_num:\n",
    "        task_name += f\"_step_{step_num}\"\n",
    "    sim_data = web.run(sim, task_name=task_name, verbose=verbose)\n",
    "    fom_val = fom(sim_data)\n",
    "    feature_size_penalty = penalty(design_param, beta=beta)\n",
    "    J = fom_val - feature_size_penalty\n",
    "    return J\n",
    "\n",
    "\n",
    "# Function to calculate the objective function value and its\n",
    "# gradient with respect to the design parameters.\n",
    "obj_grad = value_and_grad(obj)"
   ]
  },
  {
   "cell_type": "markdown",
   "metadata": {},
   "source": [
    "Next we will define the optimizer using `optax`. We will save the optimization progress in a `pickle` file. If that file is found, it will pick up the optimization from the last state. Otherwise, we will create a blank history."
   ]
  },
  {
   "cell_type": "code",
   "execution_count": 13,
   "metadata": {
    "execution": {
     "iopub.execute_input": "2024-09-05T08:50:00.688468Z",
     "iopub.status.busy": "2024-09-05T08:50:00.688125Z",
     "iopub.status.idle": "2024-09-05T08:50:00.986733Z",
     "shell.execute_reply": "2024-09-05T08:50:00.985774Z"
    },
    "tags": []
   },
   "outputs": [],
   "source": [
    "import optax\n",
    "import pickle\n",
    "\n",
    "# hyperparameters\n",
    "learning_rate = 0.2\n",
    "optimizer = optax.adam(learning_rate=learning_rate)\n",
    "\n",
    "# where to store history\n",
    "history_fname = \"misc/grating_coupler_history_autograd.pkl\"\n",
    "\n",
    "\n",
    "def save_history(history_dict: dict) -> None:\n",
    "    \"\"\"Convenience function to save the history to file.\"\"\"\n",
    "    with open(history_fname, \"wb\") as file:\n",
    "        pickle.dump(history_dict, file)\n",
    "\n",
    "\n",
    "def load_history() -> dict:\n",
    "    \"\"\"Convenience method to load the history from file.\"\"\"\n",
    "    with open(history_fname, \"rb\") as file:\n",
    "        history_dict = pickle.load(file)\n",
    "    return history_dict"
   ]
  },
  {
   "cell_type": "markdown",
   "metadata": {
    "tags": []
   },
   "source": [
    "### Checking For a Previous Optimization\n",
    "\n",
    "If `history_fname` is a valid file, the results of a previous optimization are loaded, then the optimization will continue from the last iteration step. If the optimization was completed, only the final structure will be simulated. The pickle file used in this notebook can be downloaded from our documentation [repo](https://github.com/flexcompute/tidy3d-notebooks/tree/develop/misc)."
   ]
  },
  {
   "cell_type": "code",
   "execution_count": 14,
   "metadata": {
    "execution": {
     "iopub.execute_input": "2024-09-05T08:50:00.992119Z",
     "iopub.status.busy": "2024-09-05T08:50:00.991603Z",
     "iopub.status.idle": "2024-09-05T08:50:01.056572Z",
     "shell.execute_reply": "2024-09-05T08:50:01.055677Z"
    },
    "tags": []
   },
   "outputs": [
    {
     "name": "stderr",
     "output_type": "stream",
     "text": [
      "An NVIDIA GPU may be present on this machine, but a CUDA-enabled jaxlib is not installed. Falling back to cpu.\n"
     ]
    },
    {
     "name": "stdout",
     "output_type": "stream",
     "text": [
      "Loaded optimization checkpoint from file.\n",
      "Found 75 iterations previously completed out of 75 total.\n",
      "Optimization completed, will return results.\n"
     ]
    }
   ],
   "source": [
    "try:\n",
    "    history_dict = load_history()\n",
    "    opt_state = history_dict[\"opt_states\"][-1]\n",
    "    params = history_dict[\"params\"][-1]\n",
    "    num_iters_completed = len(history_dict[\"params\"])\n",
    "    print(\"Loaded optimization checkpoint from file.\")\n",
    "    print(f\"Found {num_iters_completed} iterations previously completed out of {total_iter} total.\")\n",
    "    if num_iters_completed < total_iter:\n",
    "        print(f\"Will resume optimization.\")\n",
    "    else:\n",
    "        print(\"Optimization completed, will return results.\")\n",
    "\n",
    "except FileNotFoundError:\n",
    "    params = np.array(init_par)\n",
    "    opt_state = optimizer.init(params)\n",
    "    history_dict = dict(\n",
    "        values=[],\n",
    "        params=[],\n",
    "        gradients=[],\n",
    "        opt_states=[opt_state],\n",
    "        data=[],\n",
    "        beta=[],\n",
    "    )"
   ]
  },
  {
   "cell_type": "code",
   "execution_count": 15,
   "metadata": {
    "execution": {
     "iopub.execute_input": "2024-09-05T08:50:01.061296Z",
     "iopub.status.busy": "2024-09-05T08:50:01.061082Z",
     "iopub.status.idle": "2024-09-05T08:50:01.067187Z",
     "shell.execute_reply": "2024-09-05T08:50:01.066302Z"
    },
    "tags": []
   },
   "outputs": [],
   "source": [
    "iter_done = len(history_dict[\"values\"])\n",
    "\n",
    "for i in range(iter_done, total_iter):\n",
    "    print(f\"iteration = ({i + 1} / {total_iter})\")\n",
    "\n",
    "    # compute gradient and current objective funciton value\n",
    "    perc_done = i / (total_iter - 1)\n",
    "    beta_i = beta_min * (1 - perc_done) + beta_max * perc_done\n",
    "    value, gradient = obj_grad(np.array(params), beta=beta_i)\n",
    "\n",
    "    # outputs\n",
    "    print(f\"\\tbeta = {beta_i}\")\n",
    "    print(f\"\\tJ = {value:.4e}\")\n",
    "    print(f\"\\tgrad_norm = {np.linalg.norm(gradient):.4e}\")\n",
    "\n",
    "    # compute and apply updates to the optimizer based on gradient (-1 sign to maximize obj_fn)\n",
    "    updates, opt_state = optimizer.update(-gradient, opt_state, params)\n",
    "    params = optax.apply_updates(params, updates)\n",
    "\n",
    "    # cap parameters between 0 and 1\n",
    "    params = anp.clip(params, 0.0, 1.0)\n",
    "\n",
    "    # save history\n",
    "    history_dict[\"values\"].append(value)\n",
    "    history_dict[\"params\"].append(params)\n",
    "    history_dict[\"beta\"].append(beta_i)\n",
    "    history_dict[\"gradients\"].append(gradient)\n",
    "    history_dict[\"opt_states\"].append(opt_state)\n",
    "    # history_dict[\"data\"].append(sim_data_i) # uncomment to store data, can create large files\n",
    "    save_history(history_dict)"
   ]
  },
  {
   "cell_type": "markdown",
   "metadata": {},
   "source": [
    "### Optimization Results\n",
    "\n",
    "After 150 iterations, a coupling efficiency value of 0.71 (-1.48 dB) was achieved at the central wavelength."
   ]
  },
  {
   "cell_type": "code",
   "execution_count": 16,
   "metadata": {
    "execution": {
     "iopub.execute_input": "2024-09-05T08:50:01.071685Z",
     "iopub.status.busy": "2024-09-05T08:50:01.071435Z",
     "iopub.status.idle": "2024-09-05T08:50:01.075897Z",
     "shell.execute_reply": "2024-09-05T08:50:01.074963Z"
    }
   },
   "outputs": [],
   "source": [
    "obj_vals = np.array(history_dict[\"values\"])\n",
    "final_par = history_dict[\"params\"][-1]\n",
    "final_beta = history_dict[\"beta\"][-1]"
   ]
  },
  {
   "cell_type": "code",
   "execution_count": 17,
   "metadata": {
    "execution": {
     "iopub.execute_input": "2024-09-05T08:50:01.080191Z",
     "iopub.status.busy": "2024-09-05T08:50:01.079833Z",
     "iopub.status.idle": "2024-09-05T08:50:01.211980Z",
     "shell.execute_reply": "2024-09-05T08:50:01.211119Z"
    }
   },
   "outputs": [
    {
     "data": {
      "image/png": "[encoded data removed]",
      "text/plain": [
       "<Figure size 600x400 with 1 Axes>"
      ]
     },
     "metadata": {},
     "output_type": "display_data"
    }
   ],
   "source": [
    "fig, ax = plt.subplots(1, 1, figsize=(6, 4))\n",
    "ax.plot(obj_vals, \"ro\")\n",
    "ax.set_xlabel(\"iterations\")\n",
    "ax.set_ylabel(\"objective function\")\n",
    "ax.set_ylim(-1, 1)\n",
    "ax.set_title(f\"Final Objective Function Value: {obj_vals[-1]:.2f}\")\n",
    "plt.show()"
   ]
  },
  {
   "cell_type": "markdown",
   "metadata": {},
   "source": [
    "The final grating coupler structure is well binarized, with mostly black (`eps_max`) and white (`eps_min`) regions."
   ]
  },
  {
   "cell_type": "code",
   "execution_count": 18,
   "metadata": {
    "execution": {
     "iopub.execute_input": "2024-09-05T08:50:01.218026Z",
     "iopub.status.busy": "2024-09-05T08:50:01.217747Z",
     "iopub.status.idle": "2024-09-05T08:50:01.656729Z",
     "shell.execute_reply": "2024-09-05T08:50:01.655814Z"
    }
   },
   "outputs": [
    {
     "data": {
      "image/png": "[encoded data removed]",
      "text/plain": [
       "<Figure size 400x400 with 2 Axes>"
      ]
     },
     "metadata": {},
     "output_type": "display_data"
    }
   ],
   "source": [
    "fig, ax = plt.subplots(1, figsize=(4, 4))\n",
    "sim_final = make_adjoint_sim(final_par, beta=final_beta, unfold=True)\n",
    "sim_final.plot_eps(z=0, source_alpha=0, monitor_alpha=0, ax=ax)\n",
    "plt.show()"
   ]
  },
  {
   "cell_type": "markdown",
   "metadata": {},
   "source": [
    "Once the inverse design is complete, we can visualize the field distributions and the wavelength dependent coupling efficiency."
   ]
  },
  {
   "cell_type": "code",
   "execution_count": 19,
   "metadata": {
    "execution": {
     "iopub.execute_input": "2024-09-05T08:50:01.660712Z",
     "iopub.status.busy": "2024-09-05T08:50:01.660054Z",
     "iopub.status.idle": "2024-09-05T08:50:32.723112Z",
     "shell.execute_reply": "2024-09-05T08:50:32.722201Z"
    }
   },
   "outputs": [
    {
     "data": {
      "text/html": [
       "<pre style=\"white-space:pre;overflow-x:auto;line-height:normal;font-family:Menlo,'DejaVu Sans Mono',consolas,'Courier New',monospace\"><span style=\"color: #7fbfbf; text-decoration-color: #7fbfbf\">08:50:02 UTC </span>Created task <span style=\"color: #008000; text-decoration-color: #008000\">'inv_des_final'</span> with task_id                          \n",
       "<span style=\"color: #7fbfbf; text-decoration-color: #7fbfbf\">             </span><span style=\"color: #008000; text-decoration-color: #008000\">'fdve-815d44be-aeaa-42f8-a66f-b1f6fdf26c0f'</span> and task_type <span style=\"color: #008000; text-decoration-color: #008000\">'FDTD'</span>.  \n",
       "</pre>\n"
      ],
      "text/plain": [
       "\u001b[2;36m08:50:02 UTC\u001b[0m\u001b[2;36m \u001b[0mCreated task \u001b[32m'inv_des_final'\u001b[0m with task_id                          \n",
       "\u001b[2;36m             \u001b[0m\u001b[32m'fdve-815d44be-aeaa-42f8-a66f-b1f6fdf26c0f'\u001b[0m and task_type \u001b[32m'FDTD'\u001b[0m.  \n"
      ]
     },
     "metadata": {},
     "output_type": "display_data"
    },
    {
     "data": {
      "text/html": [
       "<pre style=\"white-space:pre;overflow-x:auto;line-height:normal;font-family:Menlo,'DejaVu Sans Mono',consolas,'Courier New',monospace\"><span style=\"color: #7fbfbf; text-decoration-color: #7fbfbf\">             </span>View task using web UI at                                          \n",
       "<span style=\"color: #7fbfbf; text-decoration-color: #7fbfbf\">             </span><a href=\"https://tidy3d.simulation.cloud/workbench?taskId=fdve-815d44be-aeaa-42f8-a66f-b1f6fdf26c0f\" target=\"_blank\"><span style=\"color: #008000; text-decoration-color: #008000\">'https://tidy3d.simulation.cloud/workbench?taskId=fdve-815d44be-aea</span></a>\n",
       "<span style=\"color: #7fbfbf; text-decoration-color: #7fbfbf\">             </span><a href=\"https://tidy3d.simulation.cloud/workbench?taskId=fdve-815d44be-aeaa-42f8-a66f-b1f6fdf26c0f\" target=\"_blank\"><span style=\"color: #008000; text-decoration-color: #008000\">a-42f8-a66f-b1f6fdf26c0f'</span></a>.                                         \n",
       "</pre>\n"
      ],
      "text/plain": [
       "\u001b[2;36m            \u001b[0m\u001b[2;36m \u001b[0mView task using web UI at                                          \n",
       "\u001b[2;36m             \u001b[0m\u001b]8;id=387271;https://tidy3d.simulation.cloud/workbench?taskId=fdve-815d44be-aeaa-42f8-a66f-b1f6fdf26c0f\u001b\\\u001b[32m'https://tidy3d.simulation.cloud/workbench?\u001b[0m\u001b]8;;\u001b\\\u001b]8;id=179335;https://tidy3d.simulation.cloud/workbench?taskId=fdve-815d44be-aeaa-42f8-a66f-b1f6fdf26c0f\u001b\\\u001b[32mtaskId\u001b[0m\u001b]8;;\u001b\\\u001b]8;id=387271;https://tidy3d.simulation.cloud/workbench?taskId=fdve-815d44be-aeaa-42f8-a66f-b1f6fdf26c0f\u001b\\\u001b[32m=\u001b[0m\u001b]8;;\u001b\\\u001b]8;id=786185;https://tidy3d.simulation.cloud/workbench?taskId=fdve-815d44be-aeaa-42f8-a66f-b1f6fdf26c0f\u001b\\\u001b[32mfdve\u001b[0m\u001b]8;;\u001b\\\u001b]8;id=387271;https://tidy3d.simulation.cloud/workbench?taskId=fdve-815d44be-aeaa-42f8-a66f-b1f6fdf26c0f\u001b\\\u001b[32m-815d44be-aea\u001b[0m\u001b]8;;\u001b\\\n",
       "\u001b[2;36m             \u001b[0m\u001b]8;id=387271;https://tidy3d.simulation.cloud/workbench?taskId=fdve-815d44be-aeaa-42f8-a66f-b1f6fdf26c0f\u001b\\\u001b[32ma-42f8-a66f-b1f6fdf26c0f'\u001b[0m\u001b]8;;\u001b\\.                                         \n"
      ]
     },
     "metadata": {},
     "output_type": "display_data"
    },
    {
     "data": {
      "application/vnd.jupyter.widget-view+json": {
       "model_id": "57864679555b4d7bac52706def449200",
       "version_major": 2,
       "version_minor": 0
      },
      "text/plain": [
       "Output()"
      ]
     },
     "metadata": {},
     "output_type": "display_data"
    },
    {
     "data": {
      "text/html": [
       "<pre style=\"white-space:pre;overflow-x:auto;line-height:normal;font-family:Menlo,'DejaVu Sans Mono',consolas,'Courier New',monospace\"></pre>\n"
      ],
      "text/plain": []
     },
     "metadata": {},
     "output_type": "display_data"
    },
    {
     "data": {
      "text/html": [
       "<pre style=\"white-space:pre;overflow-x:auto;line-height:normal;font-family:Menlo,'DejaVu Sans Mono',consolas,'Courier New',monospace\">\n",
       "</pre>\n"
      ],
      "text/plain": [
       "\n"
      ]
     },
     "metadata": {},
     "output_type": "display_data"
    },
    {
     "data": {
      "text/html": [
       "<pre style=\"white-space:pre;overflow-x:auto;line-height:normal;font-family:Menlo,'DejaVu Sans Mono',consolas,'Courier New',monospace\"><span style=\"color: #7fbfbf; text-decoration-color: #7fbfbf\">08:50:04 UTC </span>status = queued                                                    \n",
       "</pre>\n"
      ],
      "text/plain": [
       "\u001b[2;36m08:50:04 UTC\u001b[0m\u001b[2;36m \u001b[0mstatus = queued                                                    \n"
      ]
     },
     "metadata": {},
     "output_type": "display_data"
    },
    {
     "data": {
      "text/html": [
       "<pre style=\"white-space:pre;overflow-x:auto;line-height:normal;font-family:Menlo,'DejaVu Sans Mono',consolas,'Courier New',monospace\"><span style=\"color: #7fbfbf; text-decoration-color: #7fbfbf\">             </span>To cancel the simulation, use <span style=\"color: #008000; text-decoration-color: #008000\">'web.abort(task_id)'</span> or              \n",
       "<span style=\"color: #7fbfbf; text-decoration-color: #7fbfbf\">             </span><span style=\"color: #008000; text-decoration-color: #008000\">'web.delete(task_id)'</span> or abort/delete the task in the web UI.      \n",
       "<span style=\"color: #7fbfbf; text-decoration-color: #7fbfbf\">             </span>Terminating the Python script will not stop the job running on the \n",
       "<span style=\"color: #7fbfbf; text-decoration-color: #7fbfbf\">             </span>cloud.                                                             \n",
       "</pre>\n"
      ],
      "text/plain": [
       "\u001b[2;36m            \u001b[0m\u001b[2;36m \u001b[0mTo cancel the simulation, use \u001b[32m'web.abort\u001b[0m\u001b[32m(\u001b[0m\u001b[32mtask_id\u001b[0m\u001b[32m)\u001b[0m\u001b[32m'\u001b[0m or              \n",
       "\u001b[2;36m             \u001b[0m\u001b[32m'web.delete\u001b[0m\u001b[32m(\u001b[0m\u001b[32mtask_id\u001b[0m\u001b[32m)\u001b[0m\u001b[32m'\u001b[0m or abort/delete the task in the web UI.      \n",
       "\u001b[2;36m             \u001b[0mTerminating the Python script will not stop the job running on the \n",
       "\u001b[2;36m             \u001b[0mcloud.                                                             \n"
      ]
     },
     "metadata": {},
     "output_type": "display_data"
    },
    {
     "data": {
      "application/vnd.jupyter.widget-view+json": {
       "model_id": "8e4787d8154844ae9f94c4756829ea8c",
       "version_major": 2,
       "version_minor": 0
      },
      "text/plain": [
       "Output()"
      ]
     },
     "metadata": {},
     "output_type": "display_data"
    },
    {
     "data": {
      "text/html": [
       "<pre style=\"white-space:pre;overflow-x:auto;line-height:normal;font-family:Menlo,'DejaVu Sans Mono',consolas,'Courier New',monospace\"><span style=\"color: #7fbfbf; text-decoration-color: #7fbfbf\">08:50:10 UTC </span>status = preprocess                                                \n",
       "</pre>\n"
      ],
      "text/plain": [
       "\u001b[2;36m08:50:10 UTC\u001b[0m\u001b[2;36m \u001b[0mstatus = preprocess                                                \n"
      ]
     },
     "metadata": {},
     "output_type": "display_data"
    },
    {
     "data": {
      "text/html": [
       "<pre style=\"white-space:pre;overflow-x:auto;line-height:normal;font-family:Menlo,'DejaVu Sans Mono',consolas,'Courier New',monospace\"></pre>\n"
      ],
      "text/plain": []
     },
     "metadata": {},
     "output_type": "display_data"
    },
    {
     "data": {
      "text/html": [
       "<pre style=\"white-space:pre;overflow-x:auto;line-height:normal;font-family:Menlo,'DejaVu Sans Mono',consolas,'Courier New',monospace\"><span style=\"color: #7fbfbf; text-decoration-color: #7fbfbf\">08:50:13 UTC </span>Maximum FlexCredit cost: <span style=\"color: #008080; text-decoration-color: #008080; font-weight: bold\">0.213</span>. Use <span style=\"color: #008000; text-decoration-color: #008000\">'web.real_cost(task_id)'</span> to get\n",
       "<span style=\"color: #7fbfbf; text-decoration-color: #7fbfbf\">             </span>the billed FlexCredit cost after a simulation run.                 \n",
       "</pre>\n"
      ],
      "text/plain": [
       "\u001b[2;36m08:50:13 UTC\u001b[0m\u001b[2;36m \u001b[0mMaximum FlexCredit cost: \u001b[1;36m0.213\u001b[0m. Use \u001b[32m'web.real_cost\u001b[0m\u001b[32m(\u001b[0m\u001b[32mtask_id\u001b[0m\u001b[32m)\u001b[0m\u001b[32m'\u001b[0m to get\n",
       "\u001b[2;36m             \u001b[0mthe billed FlexCredit cost after a simulation run.                 \n"
      ]
     },
     "metadata": {},
     "output_type": "display_data"
    },
    {
     "data": {
      "text/html": [
       "<pre style=\"white-space:pre;overflow-x:auto;line-height:normal;font-family:Menlo,'DejaVu Sans Mono',consolas,'Courier New',monospace\"><span style=\"color: #7fbfbf; text-decoration-color: #7fbfbf\">             </span>starting up solver                                                 \n",
       "</pre>\n"
      ],
      "text/plain": [
       "\u001b[2;36m            \u001b[0m\u001b[2;36m \u001b[0mstarting up solver                                                 \n"
      ]
     },
     "metadata": {},
     "output_type": "display_data"
    },
    {
     "data": {
      "text/html": [
       "<pre style=\"white-space:pre;overflow-x:auto;line-height:normal;font-family:Menlo,'DejaVu Sans Mono',consolas,'Courier New',monospace\"><span style=\"color: #7fbfbf; text-decoration-color: #7fbfbf\">             </span>running solver                                                     \n",
       "</pre>\n"
      ],
      "text/plain": [
       "\u001b[2;36m            \u001b[0m\u001b[2;36m \u001b[0mrunning solver                                                     \n"
      ]
     },
     "metadata": {},
     "output_type": "display_data"
    },
    {
     "data": {
      "application/vnd.jupyter.widget-view+json": {
       "model_id": "0150f3ca9fd440c1bcfe368bd4be1405",
       "version_major": 2,
       "version_minor": 0
      },
      "text/plain": [
       "Output()"
      ]
     },
     "metadata": {},
     "output_type": "display_data"
    },
    {
     "data": {
      "text/html": [
       "<pre style=\"white-space:pre;overflow-x:auto;line-height:normal;font-family:Menlo,'DejaVu Sans Mono',consolas,'Courier New',monospace\"><span style=\"color: #7fbfbf; text-decoration-color: #7fbfbf\">08:50:26 UTC </span>early shutoff detected at <span style=\"color: #008080; text-decoration-color: #008080; font-weight: bold\">16</span>%, exiting.                            \n",
       "</pre>\n"
      ],
      "text/plain": [
       "\u001b[2;36m08:50:26 UTC\u001b[0m\u001b[2;36m \u001b[0mearly shutoff detected at \u001b[1;36m16\u001b[0m%, exiting.                            \n"
      ]
     },
     "metadata": {},
     "output_type": "display_data"
    },
    {
     "data": {
      "text/html": [
       "<pre style=\"white-space:pre;overflow-x:auto;line-height:normal;font-family:Menlo,'DejaVu Sans Mono',consolas,'Courier New',monospace\"></pre>\n"
      ],
      "text/plain": []
     },
     "metadata": {},
     "output_type": "display_data"
    },
    {
     "data": {
      "text/html": [
       "<pre style=\"white-space:pre;overflow-x:auto;line-height:normal;font-family:Menlo,'DejaVu Sans Mono',consolas,'Courier New',monospace\">\n",
       "</pre>\n"
      ],
      "text/plain": [
       "\n"
      ]
     },
     "metadata": {},
     "output_type": "display_data"
    },
    {
     "data": {
      "text/html": [
       "<pre style=\"white-space:pre;overflow-x:auto;line-height:normal;font-family:Menlo,'DejaVu Sans Mono',consolas,'Courier New',monospace\"><span style=\"color: #7fbfbf; text-decoration-color: #7fbfbf\">             </span>status = postprocess                                               \n",
       "</pre>\n"
      ],
      "text/plain": [
       "\u001b[2;36m            \u001b[0m\u001b[2;36m \u001b[0mstatus = postprocess                                               \n"
      ]
     },
     "metadata": {},
     "output_type": "display_data"
    },
    {
     "data": {
      "application/vnd.jupyter.widget-view+json": {
       "model_id": "bf9fac1a2c1047dc916769c86bd34289",
       "version_major": 2,
       "version_minor": 0
      },
      "text/plain": [
       "Output()"
      ]
     },
     "metadata": {},
     "output_type": "display_data"
    },
    {
     "data": {
      "text/html": [
       "<pre style=\"white-space:pre;overflow-x:auto;line-height:normal;font-family:Menlo,'DejaVu Sans Mono',consolas,'Courier New',monospace\"><span style=\"color: #7fbfbf; text-decoration-color: #7fbfbf\">08:50:30 UTC </span>status = success                                                   \n",
       "</pre>\n"
      ],
      "text/plain": [
       "\u001b[2;36m08:50:30 UTC\u001b[0m\u001b[2;36m \u001b[0mstatus = success                                                   \n"
      ]
     },
     "metadata": {},
     "output_type": "display_data"
    },
    {
     "data": {
      "text/html": [
       "<pre style=\"white-space:pre;overflow-x:auto;line-height:normal;font-family:Menlo,'DejaVu Sans Mono',consolas,'Courier New',monospace\"></pre>\n"
      ],
      "text/plain": []
     },
     "metadata": {},
     "output_type": "display_data"
    },
    {
     "data": {
      "text/html": [
       "<pre style=\"white-space:pre;overflow-x:auto;line-height:normal;font-family:Menlo,'DejaVu Sans Mono',consolas,'Courier New',monospace\"><span style=\"color: #7fbfbf; text-decoration-color: #7fbfbf\">08:50:31 UTC </span>View simulation result at                                          \n",
       "<span style=\"color: #7fbfbf; text-decoration-color: #7fbfbf\">             </span><a href=\"https://tidy3d.simulation.cloud/workbench?taskId=fdve-815d44be-aeaa-42f8-a66f-b1f6fdf26c0f\" target=\"_blank\"><span style=\"color: #000080; text-decoration-color: #000080; text-decoration: underline\">'https://tidy3d.simulation.cloud/workbench?taskId=fdve-815d44be-aea</span></a>\n",
       "<span style=\"color: #7fbfbf; text-decoration-color: #7fbfbf\">             </span><a href=\"https://tidy3d.simulation.cloud/workbench?taskId=fdve-815d44be-aeaa-42f8-a66f-b1f6fdf26c0f\" target=\"_blank\"><span style=\"color: #000080; text-decoration-color: #000080; text-decoration: underline\">a-42f8-a66f-b1f6fdf26c0f'</span></a><span style=\"color: #000080; text-decoration-color: #000080; text-decoration: underline\">.</span>                                         \n",
       "</pre>\n"
      ],
      "text/plain": [
       "\u001b[2;36m08:50:31 UTC\u001b[0m\u001b[2;36m \u001b[0mView simulation result at                                          \n",
       "\u001b[2;36m             \u001b[0m\u001b]8;id=852678;https://tidy3d.simulation.cloud/workbench?taskId=fdve-815d44be-aeaa-42f8-a66f-b1f6fdf26c0f\u001b\\\u001b[4;34m'https://tidy3d.simulation.cloud/workbench?\u001b[0m\u001b]8;;\u001b\\\u001b]8;id=874535;https://tidy3d.simulation.cloud/workbench?taskId=fdve-815d44be-aeaa-42f8-a66f-b1f6fdf26c0f\u001b\\\u001b[4;34mtaskId\u001b[0m\u001b]8;;\u001b\\\u001b]8;id=852678;https://tidy3d.simulation.cloud/workbench?taskId=fdve-815d44be-aeaa-42f8-a66f-b1f6fdf26c0f\u001b\\\u001b[4;34m=\u001b[0m\u001b]8;;\u001b\\\u001b]8;id=53541;https://tidy3d.simulation.cloud/workbench?taskId=fdve-815d44be-aeaa-42f8-a66f-b1f6fdf26c0f\u001b\\\u001b[4;34mfdve\u001b[0m\u001b]8;;\u001b\\\u001b]8;id=852678;https://tidy3d.simulation.cloud/workbench?taskId=fdve-815d44be-aeaa-42f8-a66f-b1f6fdf26c0f\u001b\\\u001b[4;34m-815d44be-aea\u001b[0m\u001b]8;;\u001b\\\n",
       "\u001b[2;36m             \u001b[0m\u001b]8;id=852678;https://tidy3d.simulation.cloud/workbench?taskId=fdve-815d44be-aeaa-42f8-a66f-b1f6fdf26c0f\u001b\\\u001b[4;34ma-42f8-a66f-b1f6fdf26c0f'\u001b[0m\u001b]8;;\u001b\\\u001b[4;34m.\u001b[0m                                         \n"
      ]
     },
     "metadata": {},
     "output_type": "display_data"
    },
    {
     "data": {
      "application/vnd.jupyter.widget-view+json": {
       "model_id": "49f2d87242594ee7a99e73a493ebd3f6",
       "version_major": 2,
       "version_minor": 0
      },
      "text/plain": [
       "Output()"
      ]
     },
     "metadata": {},
     "output_type": "display_data"
    },
    {
     "data": {
      "text/html": [
       "<pre style=\"white-space:pre;overflow-x:auto;line-height:normal;font-family:Menlo,'DejaVu Sans Mono',consolas,'Courier New',monospace\"></pre>\n"
      ],
      "text/plain": []
     },
     "metadata": {},
     "output_type": "display_data"
    },
    {
     "data": {
      "text/html": [
       "<pre style=\"white-space:pre;overflow-x:auto;line-height:normal;font-family:Menlo,'DejaVu Sans Mono',consolas,'Courier New',monospace\">\n",
       "</pre>\n"
      ],
      "text/plain": [
       "\n"
      ]
     },
     "metadata": {},
     "output_type": "display_data"
    },
    {
     "data": {
      "text/html": [
       "<pre style=\"white-space:pre;overflow-x:auto;line-height:normal;font-family:Menlo,'DejaVu Sans Mono',consolas,'Courier New',monospace\"><span style=\"color: #7fbfbf; text-decoration-color: #7fbfbf\">08:50:32 UTC </span>loading simulation from simulation_data.hdf5                       \n",
       "</pre>\n"
      ],
      "text/plain": [
       "\u001b[2;36m08:50:32 UTC\u001b[0m\u001b[2;36m \u001b[0mloading simulation from simulation_data.hdf5                       \n"
      ]
     },
     "metadata": {},
     "output_type": "display_data"
    }
   ],
   "source": [
    "# Field monitors to visualize the final fields.\n",
    "field_xy = td.FieldMonitor(\n",
    "    size=(td.inf, td.inf, 0),\n",
    "    freqs=[freq],\n",
    "    name=\"field_xy\",\n",
    ")\n",
    "\n",
    "field_xz = td.FieldMonitor(\n",
    "    size=(td.inf, 0, td.inf),\n",
    "    freqs=[freq],\n",
    "    name=\"field_xz\",\n",
    ")\n",
    "\n",
    "# Monitor to compute the grating coupler efficiency.\n",
    "gc_efficiency = td.ModeMonitor(\n",
    "    center=[mon_pos_x, 0, 0],\n",
    "    size=[0, mon_w, mon_h],\n",
    "    freqs=freqs,\n",
    "    mode_spec=mode_spec,\n",
    "    name=\"gc_efficiency\",\n",
    ")\n",
    "import tidy3d.web as web\n",
    "\n",
    "sim_final = sim_final.copy(update=dict(monitors=(field_xy, field_xz, gc_efficiency)))\n",
    "sim_data_final = web.run(sim_final, task_name=\"inv_des_final\")"
   ]
  },
  {
   "cell_type": "code",
   "execution_count": 20,
   "metadata": {
    "execution": {
     "iopub.execute_input": "2024-09-05T08:50:34.123432Z",
     "iopub.status.busy": "2024-09-05T08:50:34.122568Z",
     "iopub.status.idle": "2024-09-05T08:50:35.472601Z",
     "shell.execute_reply": "2024-09-05T08:50:35.471747Z"
    }
   },
   "outputs": [
    {
     "data": {
      "image/png": "[encoded data removed]",
      "text/plain": [
       "<Figure size 800x600 with 6 Axes>"
      ]
     },
     "metadata": {},
     "output_type": "display_data"
    }
   ],
   "source": [
    "mode_amps = sim_data_final[\"gc_efficiency\"]\n",
    "coeffs_f = mode_amps.amps.sel(direction=\"-\")\n",
    "power_0 = np.abs(coeffs_f.sel(mode_index=0)) ** 2\n",
    "power_0_db = 10 * np.log10(power_0)\n",
    "\n",
    "sim_plot = sim_final.updated_copy(symmetry=(0, 0, 0), monitors=(field_xy, field_xz, gc_efficiency))\n",
    "sim_data_plot = sim_data_final.updated_copy(simulation=sim_plot)\n",
    "\n",
    "f, ax = plt.subplots(2, 2, figsize=(8, 6), tight_layout=True)\n",
    "sim_plot.plot_eps(z=0, source_alpha=0, monitor_alpha=0, ax=ax[0, 1])\n",
    "ax[1, 0].plot(wl_range, power_0_db, \"-k\")\n",
    "ax[1, 0].set_xlabel(\"Wavelength (um)\")\n",
    "ax[1, 0].set_ylabel(\"Power (db)\")\n",
    "ax[1, 0].set_ylim(-15, 0)\n",
    "ax[1, 0].set_xlim(wl - bw / 2, wl + bw / 2)\n",
    "ax[1, 0].set_title(\"Coupling Efficiency\")\n",
    "sim_data_plot.plot_field(\"field_xy\", \"E\", \"abs^2\", z=0, ax=ax[1, 1])\n",
    "ax[0, 0].plot(obj_vals, \"ro\")\n",
    "ax[0, 0].set_xlabel(\"iterations\")\n",
    "ax[0, 0].set_ylabel(\"objective function\")\n",
    "ax[0, 0].set_ylim(-1, 1)\n",
    "ax[0, 0].set_title(f\"Final Objective Function Value: {obj_vals[-1]:.2f}\")\n",
    "plt.show()"
   ]
  },
  {
   "cell_type": "code",
   "execution_count": 21,
   "metadata": {
    "execution": {
     "iopub.execute_input": "2024-09-05T08:50:35.475009Z",
     "iopub.status.busy": "2024-09-05T08:50:35.474807Z",
     "iopub.status.idle": "2024-09-05T08:50:35.504335Z",
     "shell.execute_reply": "2024-09-05T08:50:35.503890Z"
    }
   },
   "outputs": [
    {
     "name": "stdout",
     "output_type": "stream",
     "text": [
      "optimized loss of -1.46 dB\n"
     ]
    }
   ],
   "source": [
    "loss_db = max(power_0_db)\n",
    "print(f\"optimized loss of {loss_db:.2f} dB\")"
   ]
  },
  {
   "cell_type": "markdown",
   "metadata": {},
   "source": [
    "## Export to GDS\n",
    "The `Simulation` object has the [.to_gds_file](https://docs.flexcompute.com/projects/tidy3d/en/latest/api/_autosummary/tidy3d.Simulation.html#tidy3d.Simulation.to_gds_file) convenience function to export the final design to a `GDS` file. In addition to a file name, it is necessary to set a cross-sectional plane (`z = 0` in this case) on which to evaluate the geometry, a `frequency` to evaluate the permittivity, and a `permittivity_threshold` to define the shape boundaries in custom mediums. See the [GDS export](https://www.flexcompute.com/tidy3d/examples/notebooks/GDSExport/) notebook for a detailed example on using `.to_gds_file` and other GDS related functions."
   ]
  },
  {
   "cell_type": "code",
   "execution_count": 22,
   "metadata": {
    "execution": {
     "iopub.execute_input": "2024-09-05T08:50:35.509745Z",
     "iopub.status.busy": "2024-09-05T08:50:35.509360Z",
     "iopub.status.idle": "2024-09-05T08:50:35.540195Z",
     "shell.execute_reply": "2024-09-05T08:50:35.539735Z"
    }
   },
   "outputs": [],
   "source": [
    "sim_final.to_gds_file(\n",
    "    fname=\"./misc/inverse_designed_gc.gds\",\n",
    "    z=0,\n",
    "    permittivity_threshold=(eps_max + eps_min) / 2,\n",
    "    frequency=freq,\n",
    ")"
   ]
  },
  {
   "cell_type": "code",
   "execution_count": null,
   "metadata": {},
   "outputs": [],
   "source": []
  }
 ],
 "metadata": {
  "applications": [
   "Passive photonic integrated circuit components"
  ],
  "description": "This notebook demonstrates the inverse design of a compact 3D grating coupler with permittivity binarization and minimum feature size control.",
  "feature_image": "./img/adjoint_6.png",
  "features": [
   "Adjoint inverse design"
  ],
  "kernelspec": {
   "display_name": "Python 3 (ipykernel)",
   "language": "python",
   "name": "python3"
  },
  "keywords": "inverse design, grating coupler, photonic integrated circuits, design optimization, adjoint, Tidy3D, FDTD",
  "language_info": {
   "codemirror_mode": {
    "name": "ipython",
    "version": 3
   },
   "file_extension": ".py",
   "mimetype": "text/x-python",
   "name": "python",
   "nbconvert_exporter": "python",
   "pygments_lexer": "ipython3",
   "version": "3.10.14"
  },
  "nbdime-conflicts": {
   "local_diff": [
    {
     "diff": [
      {
       "diff": [
        {
         "diff": [
          {
           "key": 5,
           "op": "addrange",
           "valuelist": "9"
          },
          {
           "key": 5,
           "length": 1,
           "op": "removerange"
          }
         ],
         "key": 0,
         "op": "patch"
        }
       ],
       "key": "version",
       "op": "patch"
      }
     ],
     "key": "language_info",
     "op": "patch"
    }
   ],
   "remote_diff": [
    {
     "diff": [
      {
       "diff": [
        {
         "diff": [
          {
           "key": 5,
           "op": "addrange",
           "valuelist": "12"
          },
          {
           "key": 5,
           "length": 1,
           "op": "removerange"
          }
         ],
         "key": 0,
         "op": "patch"
        }
       ],
       "key": "version",
       "op": "patch"
      }
     ],
     "key": "language_info",
     "op": "patch"
    }
   ]
  },
  "title": "Inverse Design of a Grating Coupler in Tidy3D | Flexcompute",
  "widgets": {
   "application/vnd.jupyter.widget-state+json": {
    "state": {
     "0150f3ca9fd440c1bcfe368bd4be1405": {
      "model_module": "@jupyter-widgets/output",
      "model_module_version": "1.0.0",
      "model_name": "OutputModel",
      "state": {
       "_dom_classes": [],
       "_model_module": "@jupyter-widgets/output",
       "_model_module_version": "1.0.0",
       "_model_name": "OutputModel",
       "_view_count": null,
       "_view_module": "@jupyter-widgets/output",
       "_view_module_version": "1.0.0",
       "_view_name": "OutputView",
       "layout": "IPY_MODEL_711c16bb65724bae847df9f46cddcf8a",
       "msg_id": "",
       "outputs": [
        {
         "data": {
          "text/html": "<pre style=\"white-space:pre;overflow-x:auto;line-height:normal;font-family:Menlo,'DejaVu Sans Mono',consolas,'Courier New',monospace\">solver progress (field decay = 2.93e-08) <span style=\"color: #729c1f; text-decoration-color: #729c1f\">━━━━━━━━━━━━━━━━━━━━━━━━━━</span> <span style=\"color: #800080; text-decoration-color: #800080\">100%</span> <span style=\"color: #008080; text-decoration-color: #008080\">0:00:00</span>\n</pre>\n",
          "text/plain": "solver progress (field decay = 2.93e-08) \u001b[38;2;114;156;31m━━━━━━━━━━━━━━━━━━━━━━━━━━\u001b[0m \u001b[35m100%\u001b[0m \u001b[36m0:00:00\u001b[0m\n"
         },
         "metadata": {},
         "output_type": "display_data"
        }
       ],
       "tabbable": null,
       "tooltip": null
      }
     },
     "01a926ef73ad4dff87045ef9f2a63d54": {
      "model_module": "@jupyter-widgets/base",
      "model_module_version": "2.0.0",
      "model_name": "LayoutModel",
      "state": {
       "_model_module": "@jupyter-widgets/base",
       "_model_module_version": "2.0.0",
       "_model_name": "LayoutModel",
       "_view_count": null,
       "_view_module": "@jupyter-widgets/base",
       "_view_module_version": "2.0.0",
       "_view_name": "LayoutView",
       "align_content": null,
       "align_items": null,
       "align_self": null,
       "border_bottom": null,
       "border_left": null,
       "border_right": null,
       "border_top": null,
       "bottom": null,
       "display": null,
       "flex": null,
       "flex_flow": null,
       "grid_area": null,
       "grid_auto_columns": null,
       "grid_auto_flow": null,
       "grid_auto_rows": null,
       "grid_column": null,
       "grid_gap": null,
       "grid_row": null,
       "grid_template_areas": null,
       "grid_template_columns": null,
       "grid_template_rows": null,
       "height": null,
       "justify_content": null,
       "justify_items": null,
       "left": null,
       "margin": null,
       "max_height": null,
       "max_width": null,
       "min_height": null,
       "min_width": null,
       "object_fit": null,
       "object_position": null,
       "order": null,
       "overflow": null,
       "padding": null,
       "right": null,
       "top": null,
       "visibility": null,
       "width": null
      }
     },
     "49f2d87242594ee7a99e73a493ebd3f6": {
      "model_module": "@jupyter-widgets/output",
      "model_module_version": "1.0.0",
      "model_name": "OutputModel",
      "state": {
       "_dom_classes": [],
       "_model_module": "@jupyter-widgets/output",
       "_model_module_version": "1.0.0",
       "_model_name": "OutputModel",
       "_view_count": null,
       "_view_module": "@jupyter-widgets/output",
       "_view_module_version": "1.0.0",
       "_view_name": "OutputView",
       "layout": "IPY_MODEL_8306c878dcdf484981e78d7cebcc4614",
       "msg_id": "",
       "outputs": [
        {
         "data": {
          "text/html": "<pre style=\"white-space:pre;overflow-x:auto;line-height:normal;font-family:Menlo,'DejaVu Sans Mono',consolas,'Courier New',monospace\"><span style=\"color: #008000; text-decoration-color: #008000; font-weight: bold\">↓</span> <span style=\"color: #000080; text-decoration-color: #000080; font-weight: bold\">simulation_data.hdf5.gz</span> <span style=\"color: #729c1f; text-decoration-color: #729c1f\">━━━━━━━━━━━━━</span> <span style=\"color: #800080; text-decoration-color: #800080\">100.0%</span> • <span style=\"color: #008000; text-decoration-color: #008000\">3.0/3.0 MB</span> • <span style=\"color: #800000; text-decoration-color: #800000\">8.3 MB/s</span> • <span style=\"color: #008080; text-decoration-color: #008080\">0:00:00</span>\n</pre>\n",
          "text/plain": "\u001b[1;32m↓\u001b[0m \u001b[1;34msimulation_data.hdf5.gz\u001b[0m \u001b[38;2;114;156;31m━━━━━━━━━━━━━\u001b[0m \u001b[35m100.0%\u001b[0m • \u001b[32m3.0/3.0 MB\u001b[0m • \u001b[31m8.3 MB/s\u001b[0m • \u001b[36m0:00:00\u001b[0m\n"
         },
         "metadata": {},
         "output_type": "display_data"
        }
       ],
       "tabbable": null,
       "tooltip": null
      }
     },
     "548d97603da048678bdfe5a4b92b69a4": {
      "model_module": "@jupyter-widgets/base",
      "model_module_version": "2.0.0",
      "model_name": "LayoutModel",
      "state": {
       "_model_module": "@jupyter-widgets/base",
       "_model_module_version": "2.0.0",
       "_model_name": "LayoutModel",
       "_view_count": null,
       "_view_module": "@jupyter-widgets/base",
       "_view_module_version": "2.0.0",
       "_view_name": "LayoutView",
       "align_content": null,
       "align_items": null,
       "align_self": null,
       "border_bottom": null,
       "border_left": null,
       "border_right": null,
       "border_top": null,
       "bottom": null,
       "display": null,
       "flex": null,
       "flex_flow": null,
       "grid_area": null,
       "grid_auto_columns": null,
       "grid_auto_flow": null,
       "grid_auto_rows": null,
       "grid_column": null,
       "grid_gap": null,
       "grid_row": null,
       "grid_template_areas": null,
       "grid_template_columns": null,
       "grid_template_rows": null,
       "height": null,
       "justify_content": null,
       "justify_items": null,
       "left": null,
       "margin": null,
       "max_height": null,
       "max_width": null,
       "min_height": null,
       "min_width": null,
       "object_fit": null,
       "object_position": null,
       "order": null,
       "overflow": null,
       "padding": null,
       "right": null,
       "top": null,
       "visibility": null,
       "width": null
      }
     },
     "57864679555b4d7bac52706def449200": {
      "model_module": "@jupyter-widgets/output",
      "model_module_version": "1.0.0",
      "model_name": "OutputModel",
      "state": {
       "_dom_classes": [],
       "_model_module": "@jupyter-widgets/output",
       "_model_module_version": "1.0.0",
       "_model_name": "OutputModel",
       "_view_count": null,
       "_view_module": "@jupyter-widgets/output",
       "_view_module_version": "1.0.0",
       "_view_name": "OutputView",
       "layout": "IPY_MODEL_548d97603da048678bdfe5a4b92b69a4",
       "msg_id": "",
       "outputs": [
        {
         "data": {
          "text/html": "<pre style=\"white-space:pre;overflow-x:auto;line-height:normal;font-family:Menlo,'DejaVu Sans Mono',consolas,'Courier New',monospace\"><span style=\"color: #800000; text-decoration-color: #800000; font-weight: bold\">↑</span> <span style=\"color: #000080; text-decoration-color: #000080; font-weight: bold\">simulation.hdf5.gz</span> <span style=\"color: #729c1f; text-decoration-color: #729c1f\">━━━━━━━━━━━━━━━━━━━━━</span> <span style=\"color: #800080; text-decoration-color: #800080\">100.0%</span> • <span style=\"color: #008000; text-decoration-color: #008000\">104.3/104.3 kB</span> • <span style=\"color: #800000; text-decoration-color: #800000\">?</span> • <span style=\"color: #008080; text-decoration-color: #008080\">0:00:00</span>\n</pre>\n",
          "text/plain": "\u001b[1;31m↑\u001b[0m \u001b[1;34msimulation.hdf5.gz\u001b[0m \u001b[38;2;114;156;31m━━━━━━━━━━━━━━━━━━━━━\u001b[0m \u001b[35m100.0%\u001b[0m • \u001b[32m104.3/104.3 kB\u001b[0m • \u001b[31m?\u001b[0m • \u001b[36m0:00:00\u001b[0m\n"
         },
         "metadata": {},
         "output_type": "display_data"
        }
       ],
       "tabbable": null,
       "tooltip": null
      }
     },
     "711c16bb65724bae847df9f46cddcf8a": {
      "model_module": "@jupyter-widgets/base",
      "model_module_version": "2.0.0",
      "model_name": "LayoutModel",
      "state": {
       "_model_module": "@jupyter-widgets/base",
       "_model_module_version": "2.0.0",
       "_model_name": "LayoutModel",
       "_view_count": null,
       "_view_module": "@jupyter-widgets/base",
       "_view_module_version": "2.0.0",
       "_view_name": "LayoutView",
       "align_content": null,
       "align_items": null,
       "align_self": null,
       "border_bottom": null,
       "border_left": null,
       "border_right": null,
       "border_top": null,
       "bottom": null,
       "display": null,
       "flex": null,
       "flex_flow": null,
       "grid_area": null,
       "grid_auto_columns": null,
       "grid_auto_flow": null,
       "grid_auto_rows": null,
       "grid_column": null,
       "grid_gap": null,
       "grid_row": null,
       "grid_template_areas": null,
       "grid_template_columns": null,
       "grid_template_rows": null,
       "height": null,
       "justify_content": null,
       "justify_items": null,
       "left": null,
       "margin": null,
       "max_height": null,
       "max_width": null,
       "min_height": null,
       "min_width": null,
       "object_fit": null,
       "object_position": null,
       "order": null,
       "overflow": null,
       "padding": null,
       "right": null,
       "top": null,
       "visibility": null,
       "width": null
      }
     },
     "8306c878dcdf484981e78d7cebcc4614": {
      "model_module": "@jupyter-widgets/base",
      "model_module_version": "2.0.0",
      "model_name": "LayoutModel",
      "state": {
       "_model_module": "@jupyter-widgets/base",
       "_model_module_version": "2.0.0",
       "_model_name": "LayoutModel",
       "_view_count": null,
       "_view_module": "@jupyter-widgets/base",
       "_view_module_version": "2.0.0",
       "_view_name": "LayoutView",
       "align_content": null,
       "align_items": null,
       "align_self": null,
       "border_bottom": null,
       "border_left": null,
       "border_right": null,
       "border_top": null,
       "bottom": null,
       "display": null,
       "flex": null,
       "flex_flow": null,
       "grid_area": null,
       "grid_auto_columns": null,
       "grid_auto_flow": null,
       "grid_auto_rows": null,
       "grid_column": null,
       "grid_gap": null,
       "grid_row": null,
       "grid_template_areas": null,
       "grid_template_columns": null,
       "grid_template_rows": null,
       "height": null,
       "justify_content": null,
       "justify_items": null,
       "left": null,
       "margin": null,
       "max_height": null,
       "max_width": null,
       "min_height": null,
       "min_width": null,
       "object_fit": null,
       "object_position": null,
       "order": null,
       "overflow": null,
       "padding": null,
       "right": null,
       "top": null,
       "visibility": null,
       "width": null
      }
     },
     "8e4787d8154844ae9f94c4756829ea8c": {
      "model_module": "@jupyter-widgets/output",
      "model_module_version": "1.0.0",
      "model_name": "OutputModel",
      "state": {
       "_dom_classes": [],
       "_model_module": "@jupyter-widgets/output",
       "_model_module_version": "1.0.0",
       "_model_name": "OutputModel",
       "_view_count": null,
       "_view_module": "@jupyter-widgets/output",
       "_view_module_version": "1.0.0",
       "_view_name": "OutputView",
       "layout": "IPY_MODEL_c410888637cb47c8abb6f36dd01752e5",
       "msg_id": "",
       "outputs": [
        {
         "data": {
          "text/html": "<pre style=\"white-space:pre;overflow-x:auto;line-height:normal;font-family:Menlo,'DejaVu Sans Mono',consolas,'Courier New',monospace\"><span style=\"color: #008000; text-decoration-color: #008000\">🏃 </span> <span style=\"color: #008000; text-decoration-color: #008000; font-weight: bold\">Waiting for 'inv_des_final'...</span>\n</pre>\n",
          "text/plain": "\u001b[32m🏃 \u001b[0m \u001b[1;32mWaiting for 'inv_des_final'...\u001b[0m\n"
         },
         "metadata": {},
         "output_type": "display_data"
        }
       ],
       "tabbable": null,
       "tooltip": null
      }
     },
     "bf9fac1a2c1047dc916769c86bd34289": {
      "model_module": "@jupyter-widgets/output",
      "model_module_version": "1.0.0",
      "model_name": "OutputModel",
      "state": {
       "_dom_classes": [],
       "_model_module": "@jupyter-widgets/output",
       "_model_module_version": "1.0.0",
       "_model_name": "OutputModel",
       "_view_count": null,
       "_view_module": "@jupyter-widgets/output",
       "_view_module_version": "1.0.0",
       "_view_name": "OutputView",
       "layout": "IPY_MODEL_01a926ef73ad4dff87045ef9f2a63d54",
       "msg_id": "",
       "outputs": [
        {
         "data": {
          "text/html": "<pre style=\"white-space:pre;overflow-x:auto;line-height:normal;font-family:Menlo,'DejaVu Sans Mono',consolas,'Courier New',monospace\"><span style=\"color: #008000; text-decoration-color: #008000\">🚶 </span> <span style=\"color: #008000; text-decoration-color: #008000; font-weight: bold\">Finishing 'inv_des_final'...</span>\n</pre>\n",
          "text/plain": "\u001b[32m🚶 \u001b[0m \u001b[1;32mFinishing 'inv_des_final'...\u001b[0m\n"
         },
         "metadata": {},
         "output_type": "display_data"
        }
       ],
       "tabbable": null,
       "tooltip": null
      }
     },
     "c410888637cb47c8abb6f36dd01752e5": {
      "model_module": "@jupyter-widgets/base",
      "model_module_version": "2.0.0",
      "model_name": "LayoutModel",
      "state": {
       "_model_module": "@jupyter-widgets/base",
       "_model_module_version": "2.0.0",
       "_model_name": "LayoutModel",
       "_view_count": null,
       "_view_module": "@jupyter-widgets/base",
       "_view_module_version": "2.0.0",
       "_view_name": "LayoutView",
       "align_content": null,
       "align_items": null,
       "align_self": null,
       "border_bottom": null,
       "border_left": null,
       "border_right": null,
       "border_top": null,
       "bottom": null,
       "display": null,
       "flex": null,
       "flex_flow": null,
       "grid_area": null,
       "grid_auto_columns": null,
       "grid_auto_flow": null,
       "grid_auto_rows": null,
       "grid_column": null,
       "grid_gap": null,
       "grid_row": null,
       "grid_template_areas": null,
       "grid_template_columns": null,
       "grid_template_rows": null,
       "height": null,
       "justify_content": null,
       "justify_items": null,
       "left": null,
       "margin": null,
       "max_height": null,
       "max_width": null,
       "min_height": null,
       "min_width": null,
       "object_fit": null,
       "object_position": null,
       "order": null,
       "overflow": null,
       "padding": null,
       "right": null,
       "top": null,
       "visibility": null,
       "width": null
      }
     }
    },
    "version_major": 2,
    "version_minor": 0
   }
  }
 },
 "nbformat": 4,
 "nbformat_minor": 4
}
