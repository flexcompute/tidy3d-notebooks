{
 "cells": [
  {
   "cell_type": "markdown",
   "metadata": {},
   "source": [
    "# Resonator benchmark (Lumerical)\n",
    "\n",
    "See on [github](https://github.com/flexcompute/tidy3d-notebooks/blob/main/HighQ_Ge.ipynb), run on [colab](https://colab.research.google.com/github/flexcompute/tidy3d-notebooks/blob/main/HighQ_Ge.ipynb), or just follow along with the output below.\n",
    "\n",
    "In this example, we reproduce the findings of Campione et al. (2016), which is linked [here](https://pubs.acs.org/doi/abs/10.1021/acsphotonics.6b00556?casa_token=v7Cq9VMW40UAAAAA:AWrBfYCHrwGQ9PYBYgdprrQ8X8i-nOairIplRs1Ejo2sbDmFT9nsV1M6UEXpvOfYSnwMjagD9IT97Ph2).\n",
    "\n",
    "This notebook was originally developed and written by Romil Audhkhasi (USC). \n",
    "\n",
    "The paper investigates the resonances of Germanium structures by measuring their transmission spectrum under varying geometric parameters.\n",
    "\n",
    "The paper uses a finite-difference time-domain (Lumerical), which matches the result from Tidy3D.\n",
    "\n",
    "<!-- <img src=\"img/Ge_struct.png\" alt=\"diagram\" width=\"300\"/> -->\n",
    "\n",
    "To do this calculation, we use a broadband pulse and frequency monitor to measure the flux on the opposite side of the structure."
   ]
  },
  {
   "cell_type": "code",
   "execution_count": 1,
   "metadata": {
    "colab": {
     "base_uri": "https://localhost:8080/"
    },
    "execution": {
     "iopub.execute_input": "2021-09-28T00:41:58.753487Z",
     "iopub.status.busy": "2021-09-28T00:41:58.752266Z",
     "iopub.status.idle": "2021-09-28T00:42:00.237155Z",
     "shell.execute_reply": "2021-09-28T00:42:00.236307Z"
    },
    "id": "8WfOAGgkyh3K",
    "outputId": "f02b3adf-9117-42b1-a69c-b5f4f3f0a6c5"
   },
   "outputs": [],
   "source": [
    "# get the most recent version of tidy3d\n",
    "!pip install -q --upgrade tidy3d\n",
    "\n",
    "# make sure notebook plots inline\n",
    "%matplotlib inline\n",
    "\n",
    "# standard python imports\n",
    "import numpy as np\n",
    "import matplotlib.pyplot as plt\n",
    "\n",
    "# tidy3D import\n",
    "import tidy3d as td\n",
    "from tidy3d import web"
   ]
  },
  {
   "cell_type": "markdown",
   "metadata": {},
   "source": [
    "## Set Up Simulation"
   ]
  },
  {
   "cell_type": "code",
   "execution_count": 2,
   "metadata": {
    "execution": {
     "iopub.execute_input": "2021-09-28T00:42:00.242462Z",
     "iopub.status.busy": "2021-09-28T00:42:00.241861Z",
     "iopub.status.idle": "2021-09-28T00:42:00.255442Z",
     "shell.execute_reply": "2021-09-28T00:42:00.255086Z"
    },
    "id": "gy7J23c5yh3S"
   },
   "outputs": [],
   "source": [
    "Nfreq = 1000\n",
    "wavelengths = np.linspace(8, 12, Nfreq)\n",
    "freqs = td.constants.C_0 / wavelengths\n",
    "freq0 = freqs[len(freqs)//2]\n",
    "freqw = freqs[0] - freqs[-1]\n",
    "\n",
    "# Define material properties\n",
    "n_BaF2 = 1.45\n",
    "n_Ge = 4\n",
    "BaF2 = td.Medium(epsilon=n_BaF2**2)\n",
    "Ge = td.Medium(epsilon=n_Ge**2)"
   ]
  },
  {
   "cell_type": "code",
   "execution_count": 3,
   "metadata": {
    "execution": {
     "iopub.execute_input": "2021-09-28T00:42:00.258197Z",
     "iopub.status.busy": "2021-09-28T00:42:00.257804Z",
     "iopub.status.idle": "2021-09-28T00:42:00.267112Z",
     "shell.execute_reply": "2021-09-28T00:42:00.266811Z"
    },
    "id": "mGFiHbvhyh3T"
   },
   "outputs": [],
   "source": [
    "# space between resonators and source\n",
    "spc = 8\n",
    "\n",
    "# geometric parameters\n",
    "Px = Py = P = 4.2\n",
    "h = 2.53\n",
    "L1 = 3.036\n",
    "L2 = 2.024\n",
    "w1 = w2 = w = 1.265\n",
    "\n",
    "# resolution (should be commensurate with periodicity)\n",
    "dl = P / 32"
   ]
  },
  {
   "cell_type": "code",
   "execution_count": 4,
   "metadata": {
    "execution": {
     "iopub.execute_input": "2021-09-28T00:42:00.270135Z",
     "iopub.status.busy": "2021-09-28T00:42:00.269795Z",
     "iopub.status.idle": "2021-09-28T00:42:00.279144Z",
     "shell.execute_reply": "2021-09-28T00:42:00.278843Z"
    },
    "id": "Ol9GwSGUyh3U"
   },
   "outputs": [],
   "source": [
    "# total size in z and [x,y,z]\n",
    "Lz = spc + h + h + spc\n",
    "sim_size = [Px, Py, Lz]\n",
    "\n",
    "# BaF2 substrate\n",
    "substrate = td.Box(\n",
    "    center=[0, 0, -Lz/2],\n",
    "    size=[td.inf, td.inf, 2*(spc+h)],\n",
    "    material=BaF2,\n",
    "    name='substrate'\n",
    ")\n",
    "\n",
    "# Define structure\n",
    "\n",
    "cell1 = td.Box(\n",
    "        center=[(L1/2)-L2, -w1/2, h/2],\n",
    "        size=[L1, w1, h],\n",
    "        material=Ge,\n",
    "        name='cell1'\n",
    "    )\n",
    "\n",
    "cell2 = td.Box(\n",
    "        center=[-L2/2, w2/2, h/2],\n",
    "        size=[L2, w2, h],\n",
    "        material=Ge,\n",
    "        name='cell2'\n",
    "    )"
   ]
  },
  {
   "cell_type": "code",
   "execution_count": 5,
   "metadata": {
    "execution": {
     "iopub.execute_input": "2021-09-28T00:42:00.281507Z",
     "iopub.status.busy": "2021-09-28T00:42:00.281141Z",
     "iopub.status.idle": "2021-09-28T00:42:00.290387Z",
     "shell.execute_reply": "2021-09-28T00:42:00.290014Z"
    },
    "id": "YO2yKasKyh3U"
   },
   "outputs": [],
   "source": [
    "# time dependence of source\n",
    "gaussian = td.GaussianPulse(freq0, freqw)\n",
    "\n",
    "# plane wave source\n",
    "source = td.PlaneWave(\n",
    "            source_time=gaussian,\n",
    "            injection_axis='-z',\n",
    "            position= Lz/2 - spc + 2*dl,\n",
    "            polarization='x')\n",
    "\n",
    "# Simulation run time.  Note you need to run a long time to calculate high Q resonances.\n",
    "run_time = 3e-11"
   ]
  },
  {
   "cell_type": "code",
   "execution_count": 6,
   "metadata": {
    "execution": {
     "iopub.execute_input": "2021-09-28T00:42:00.292630Z",
     "iopub.status.busy": "2021-09-28T00:42:00.292301Z",
     "iopub.status.idle": "2021-09-28T00:42:00.300618Z",
     "shell.execute_reply": "2021-09-28T00:42:00.300888Z"
    },
    "id": "4TZn_s8kyh3V"
   },
   "outputs": [],
   "source": [
    "# monitor fields on other side of structure (substrate side) at range of frequencies\n",
    "monitor = td.FreqMonitor(\n",
    "        center=[0., 0., -Lz/2 + spc - 2 * dl],\n",
    "        size=[td.inf, td.inf, 0],\n",
    "        freqs=freqs,\n",
    "        store='flux',\n",
    "        name='transmitted_fields')"
   ]
  },
  {
   "cell_type": "markdown",
   "metadata": {},
   "source": [
    "## Define Case Studies\n",
    "\n",
    "Here we define the two simulations to run\n",
    "\n",
    "- With no resonator (normalization)\n",
    "- With Ge resonator\n"
   ]
  },
  {
   "cell_type": "code",
   "execution_count": 7,
   "metadata": {
    "colab": {
     "base_uri": "https://localhost:8080/"
    },
    "execution": {
     "iopub.execute_input": "2021-09-28T00:42:00.303650Z",
     "iopub.status.busy": "2021-09-28T00:42:00.303316Z",
     "iopub.status.idle": "2021-09-28T00:42:00.319590Z",
     "shell.execute_reply": "2021-09-28T00:42:00.319250Z"
    },
    "id": "fnpi5BiZyh3W",
    "outputId": "d25c2f44-d5a2-4241-b69b-0ffe5369ec5b"
   },
   "outputs": [
    {
     "name": "stdout",
     "output_type": "stream",
     "text": [
      "Initializing simulation...\n",
      "Mesh step (micron): [1.31e-01, 1.31e-01, 1.31e-01].\n",
      "Simulation domain in number of grid points: [32, 32, 190].\n",
      "Total number of computational grid points: 1.95e+05.\n",
      "Total number of time steps: 13188.\n",
      "Estimated data size (GB) of monitor transmitted_fields: 0.0000.\n",
      "Initializing simulation...\n",
      "Mesh step (micron): [1.31e-01, 1.31e-01, 1.31e-01].\n",
      "Simulation domain in number of grid points: [32, 32, 190].\n",
      "Total number of computational grid points: 1.95e+05.\n",
      "Total number of time steps: 131875.\n",
      "Estimated data size (GB) of monitor transmitted_fields: 0.0000.\n"
     ]
    }
   ],
   "source": [
    "# normalizing run (no Ge) to get baseline transmission vs freq\n",
    "# can be run for shorter time as there are no resonances\n",
    "sim_empty = td.Simulation(size=sim_size,\n",
    "                    mesh_step=[dl, dl, dl],\n",
    "                    structures=[substrate],\n",
    "                    sources=[source],\n",
    "                    monitors=[monitor],\n",
    "                    run_time=run_time/10,\n",
    "                    pml_layers=[0,0,15])\n",
    "\n",
    "# run with Ge nanorod\n",
    "sim_actual = td.Simulation(size=sim_size,\n",
    "                    mesh_step=[dl, dl, dl],\n",
    "                    structures=[substrate,cell1,cell2],\n",
    "                    sources=[source],\n",
    "                    monitors=[monitor],\n",
    "                    run_time=run_time,\n",
    "                    pml_layers=[0,0,15])"
   ]
  },
  {
   "cell_type": "code",
   "execution_count": 8,
   "metadata": {
    "colab": {
     "base_uri": "https://localhost:8080/",
     "height": 513
    },
    "execution": {
     "iopub.execute_input": "2021-09-28T00:42:00.322448Z",
     "iopub.status.busy": "2021-09-28T00:42:00.322051Z",
     "iopub.status.idle": "2021-09-28T00:42:00.614219Z",
     "shell.execute_reply": "2021-09-28T00:42:00.613874Z"
    },
    "id": "T8YFcftUyh3X",
    "outputId": "93b60986-ceb3-4064-eb8d-71a75495c11d"
   },
   "outputs": [
    {
     "data": {
      "image/png": "[encoded data removed]",
      "text/plain": [
       "<Figure size 1008x576 with 3 Axes>"
      ]
     },
     "metadata": {
      "needs_background": "light"
     },
     "output_type": "display_data"
    }
   ],
   "source": [
    "# Structure visualization in various planes\n",
    "\n",
    "fig, (ax1, ax2, ax3) = plt.subplots(1, 3, figsize=(14, 8))\n",
    "td.viz.viz_eps_2D(sim_actual, normal='x', position=0, ax=ax1)\n",
    "td.viz.viz_eps_2D(sim_actual, normal='y', position=-0.1, ax=ax2)\n",
    "td.viz.viz_eps_2D(sim_actual, normal='z', position=0.1, ax=ax3)\n",
    "plt.show()"
   ]
  },
  {
   "cell_type": "markdown",
   "metadata": {},
   "source": [
    "## Run Simulations"
   ]
  },
  {
   "cell_type": "code",
   "execution_count": 9,
   "metadata": {
    "execution": {
     "iopub.execute_input": "2021-09-28T00:42:00.617096Z",
     "iopub.status.busy": "2021-09-28T00:42:00.616755Z",
     "iopub.status.idle": "2021-09-28T00:42:00.626373Z",
     "shell.execute_reply": "2021-09-28T00:42:00.625904Z"
    },
    "id": "uQVEOwT2yh3Y"
   },
   "outputs": [],
   "source": [
    "# define a function that runs the simulations on our server and returns the flux\n",
    "\n",
    "def get_flux(sim, task_name='Ge_resonator'):\n",
    "    project = web.new_project(sim.export(), task_name=task_name)\n",
    "    web.monitor_project(project['taskId'])\n",
    "    print('Downloading results')\n",
    "    web.download_results(project['taskId'], target_folder='out')\n",
    "    sim.load_results('out/monitor_data.hdf5')\n",
    "    with open('out/tidy3d.log', 'r') as f:\n",
    "        print(f.read())\n",
    "    return np.squeeze(sim.data(monitor)['flux'])"
   ]
  },
  {
   "cell_type": "code",
   "execution_count": 10,
   "metadata": {
    "colab": {
     "base_uri": "https://localhost:8080/"
    },
    "execution": {
     "iopub.execute_input": "2021-09-28T00:42:00.628418Z",
     "iopub.status.busy": "2021-09-28T00:42:00.628075Z",
     "iopub.status.idle": "2021-09-28T00:46:17.675558Z",
     "shell.execute_reply": "2021-09-28T00:46:17.675197Z"
    },
    "id": "IG0QZ-PDyh3Y",
    "outputId": "332212da-3f04-4920-e593-801457a5e339"
   },
   "outputs": [
    {
     "name": "stdout",
     "output_type": "stream",
     "text": [
      "Uploading the json file...\n",
      "Project 'Ge_normalization-16a8d59a0e913ce0' status: success...                                \n",
      "\n",
      "Downloading results\n",
      "Applying source normalization to all frequency monitors using source index 0.\n",
      "Simulation domain Nx, Ny, Nz: [32, 32, 190]\n",
      "Applied symmetries: [0, 0, 0]\n",
      "Number of computational grid points: 1.9456e+05.\n",
      "Using subpixel averaging: True\n",
      "Number of time steps: 13188\n",
      "Automatic shutoff factor: 1.00e-05\n",
      "Time step (s): 2.2749e-16\n",
      "\n",
      "Get source modes time (s):    0.0454\n",
      "Get monitor modes time (s):   0.1264\n",
      "Rest of setup time (s):       0.2088\n",
      "\n",
      "Starting solver...\n",
      "- Time step    280 / time 6.37e-14s (  2 % done), field decay: 1.00e+00\n",
      "- Time step    527 / time 1.20e-13s (  4 % done), field decay: 6.86e-01\n",
      "- Time step   1055 / time 2.40e-13s (  8 % done), field decay: 4.15e-12\n",
      "Field decay smaller than shutoff factor, exiting solver.\n",
      "\n",
      "Solver time (s):              2.3401\n",
      "Post-processing time (s):     0.0071\n",
      "\n",
      "Uploading the json file...\n",
      "Project 'Ge_resonator-16a8d5a918bfa170' status: success...                                \n",
      "\n",
      "Downloading results\n",
      "Applying source normalization to all frequency monitors using source index 0.\n",
      "Simulation domain Nx, Ny, Nz: [32, 32, 190]\n",
      "Applied symmetries: [0, 0, 0]\n",
      "Number of computational grid points: 1.9456e+05.\n",
      "Using subpixel averaging: True\n",
      "Number of time steps: 131875\n",
      "Automatic shutoff factor: 1.00e-05\n",
      "Time step (s): 2.2749e-16\n",
      "\n",
      "Get source modes time (s):    0.0499\n",
      "Get monitor modes time (s):   0.1181\n",
      "Rest of setup time (s):       0.2077\n",
      "\n",
      "Starting solver...\n",
      "- Time step    280 / time 6.37e-14s (  0 % done), field decay: 1.00e+00\n",
      "- Time step   5274 / time 1.20e-12s (  4 % done), field decay: 2.45e-02\n",
      "- Time step  10549 / time 2.40e-12s (  8 % done), field decay: 7.63e-03\n",
      "- Time step  15824 / time 3.60e-12s ( 12 % done), field decay: 1.30e-03\n",
      "- Time step  21099 / time 4.80e-12s ( 16 % done), field decay: 1.65e-03\n",
      "- Time step  26374 / time 6.00e-12s ( 20 % done), field decay: 1.28e-03\n",
      "- Time step  31649 / time 7.20e-12s ( 24 % done), field decay: 1.21e-03\n",
      "- Time step  36924 / time 8.40e-12s ( 28 % done), field decay: 9.04e-04\n",
      "- Time step  42199 / time 9.60e-12s ( 32 % done), field decay: 6.94e-04\n",
      "- Time step  47474 / time 1.08e-11s ( 36 % done), field decay: 4.04e-04\n",
      "- Time step  52749 / time 1.20e-11s ( 40 % done), field decay: 3.19e-04\n",
      "- Time step  58024 / time 1.32e-11s ( 44 % done), field decay: 1.95e-04\n",
      "- Time step  63299 / time 1.44e-11s ( 48 % done), field decay: 1.12e-04\n",
      "- Time step  68574 / time 1.56e-11s ( 52 % done), field decay: 1.11e-04\n",
      "- Time step  73849 / time 1.68e-11s ( 56 % done), field decay: 1.72e-04\n",
      "- Time step  79124 / time 1.80e-11s ( 60 % done), field decay: 1.26e-04\n",
      "- Time step  84399 / time 1.92e-11s ( 64 % done), field decay: 8.44e-05\n",
      "- Time step  89674 / time 2.04e-11s ( 68 % done), field decay: 6.78e-05\n",
      "- Time step  94949 / time 2.16e-11s ( 72 % done), field decay: 8.71e-05\n",
      "- Time step 100224 / time 2.28e-11s ( 76 % done), field decay: 9.83e-05\n",
      "- Time step 105499 / time 2.40e-11s ( 80 % done), field decay: 4.92e-05\n",
      "- Time step 110774 / time 2.52e-11s ( 84 % done), field decay: 1.13e-05\n",
      "- Time step 116049 / time 2.64e-11s ( 88 % done), field decay: 2.59e-05\n",
      "- Time step 121324 / time 2.76e-11s ( 92 % done), field decay: 7.49e-05\n",
      "- Time step 126599 / time 2.88e-11s ( 96 % done), field decay: 7.83e-05\n",
      "- Time step 131874 / time 3.00e-11s (100 % done), field decay: 4.18e-05\n",
      "\n",
      "Solver time (s):              128.8658\n",
      "Post-processing time (s):     0.0076\n",
      "\n"
     ]
    }
   ],
   "source": [
    "# run all simulations, take about 2-3 minutes each with some download time\n",
    "\n",
    "flux_empty = get_flux(sim_empty, task_name='Ge_normalization')\n",
    "flux_actual = get_flux(sim_actual, task_name='Ge_resonator')"
   ]
  },
  {
   "cell_type": "code",
   "execution_count": 11,
   "metadata": {
    "colab": {
     "base_uri": "https://localhost:8080/",
     "height": 299
    },
    "execution": {
     "iopub.execute_input": "2021-09-28T00:46:17.678235Z",
     "iopub.status.busy": "2021-09-28T00:46:17.677886Z",
     "iopub.status.idle": "2021-09-28T00:46:18.021117Z",
     "shell.execute_reply": "2021-09-28T00:46:18.021396Z"
    },
    "id": "nDSdepdMyh3a",
    "outputId": "8b5c60ab-0593-42ca-89d0-2946dfa13582"
   },
   "outputs": [
    {
     "data": {
      "image/png": "[encoded data removed]",
      "text/plain": [
       "<Figure size 432x288 with 1 Axes>"
      ]
     },
     "metadata": {
      "needs_background": "light"
     },
     "output_type": "display_data"
    }
   ],
   "source": [
    "# plot normalizing run\n",
    "plt.plot(wavelengths, np.abs(flux_empty), color='k')\n",
    "plt.ylim([0,1])\n",
    "plt.title('normalizing run (no Ge)')\n",
    "plt.xlabel('wavelength ($\\mu m$)')\n",
    "plt.ylabel('Transmission')\n",
    "plt.show()"
   ]
  },
  {
   "cell_type": "markdown",
   "metadata": {},
   "source": [
    "The normalizing run computes the transmitted flux for an air -> SiO2 interface, which is just below unity due to some reflection.\n",
    "\n",
    "While not technically necessary for this example, since this transmission can be computed analytically, it is often a good idea to run a normalizing run so you can accurately measure the *change* in output when the structure is added.  For example, for multilayer structures, the normalizing run displays frequency dependence, which would make it prudent to include in the calculation."
   ]
  },
  {
   "cell_type": "code",
   "execution_count": 12,
   "metadata": {
    "colab": {
     "base_uri": "https://localhost:8080/",
     "height": 311
    },
    "execution": {
     "iopub.execute_input": "2021-09-28T00:46:18.024295Z",
     "iopub.status.busy": "2021-09-28T00:46:18.023944Z",
     "iopub.status.idle": "2021-09-28T00:46:18.153493Z",
     "shell.execute_reply": "2021-09-28T00:46:18.153129Z"
    },
    "id": "x10TjU0uyh3a",
    "outputId": "b74cd9e6-f5a4-468f-f1d0-90c8d9861ed9"
   },
   "outputs": [
    {
     "data": {
      "image/png": "[encoded data removed]",
      "text/plain": [
       "<Figure size 432x324 with 1 Axes>"
      ]
     },
     "metadata": {
      "needs_background": "light"
     },
     "output_type": "display_data"
    }
   ],
   "source": [
    "# plot transmission, compare to paper results, look similar\n",
    "fig, ax = plt.subplots(1, 1, figsize=(6, 4.5))\n",
    "plt.plot(wavelengths, 1 - flux_actual / flux_empty, 'k', label='R')\n",
    "plt.plot(wavelengths, flux_actual / flux_empty, 'r--', label='T')\n",
    "plt.xlabel('wavelength ($\\mu m$)')\n",
    "plt.ylabel('Magnitude')\n",
    "plt.xlim([8.8, 12])\n",
    "plt.ylim([0.0, 1.0])\n",
    "plt.legend()\n",
    "plt.show()"
   ]
  },
  {
   "cell_type": "markdown",
   "metadata": {},
   "source": [
    "<!-- <img src=\"img/Ge_plot.png\" alt=\"diagram\" width=\"300\"/> -->"
   ]
  },
  {
   "cell_type": "code",
   "execution_count": null,
   "metadata": {},
   "outputs": [],
   "source": []
  }
 ],
 "metadata": {
  "colab": {
   "collapsed_sections": [],
   "name": "Ge_HighQ.ipynb",
   "provenance": []
  },
  "kernelspec": {
   "display_name": "Python 3",
   "language": "python",
   "name": "python3"
  },
  "language_info": {
   "codemirror_mode": {
    "name": "ipython",
    "version": 3
   },
   "file_extension": ".py",
   "mimetype": "text/x-python",
   "name": "python",
   "nbconvert_exporter": "python",
   "pygments_lexer": "ipython3",
   "version": "3.6.13"
  }
 },
 "nbformat": 4,
 "nbformat_minor": 4
}
