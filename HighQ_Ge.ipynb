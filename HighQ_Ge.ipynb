{
 "cells": [
  {
   "cell_type": "markdown",
   "metadata": {},
   "source": [
    "# Example: resonator benchmark (Lumerical)\n",
    "\n",
    "See on [github](https://github.com/flexcompute/tidy3d-notebooks/blob/main/HighQ_Ge.ipynb), run on [colab](https://colab.research.google.com/github/flexcompute/tidy3d-notebooks/blob/main/HighQ_Ge.ipynb), or just follow along with the output below.\n",
    "\n",
    "In this example, we reproduce the findings of Campione et al. (2016), which is linked [here](https://pubs.acs.org/doi/abs/10.1021/acsphotonics.6b00556?casa_token=v7Cq9VMW40UAAAAA:AWrBfYCHrwGQ9PYBYgdprrQ8X8i-nOairIplRs1Ejo2sbDmFT9nsV1M6UEXpvOfYSnwMjagD9IT97Ph2).\n",
    "\n",
    "This notebook was originally developed and written by Romil Audhkhasi (USC). \n",
    "\n",
    "The paper investigates the resonances of Germanium structures by measuring their transmission spectrum under varying geometric parameters.\n",
    "\n",
    "The paper uses a finite-difference time-domain (Lumerical), which matches the result from Tidy3D.\n",
    "\n",
    "<!-- <img src=\"img/Ge_struct.png\" alt=\"diagram\" width=\"300\"/> -->\n",
    "\n",
    "To do this calculation, we use a broadband pulse and frequency monitor to measure the flux on the opposite side of the structure."
   ]
  },
  {
   "cell_type": "code",
   "execution_count": 1,
   "metadata": {
    "colab": {
     "base_uri": "https://localhost:8080/"
    },
    "id": "8WfOAGgkyh3K",
    "outputId": "f02b3adf-9117-42b1-a69c-b5f4f3f0a6c5"
   },
   "outputs": [],
   "source": [
    "# basic ipython configuration (reload source code automatically and plots inline)\n",
    "%load_ext autoreload\n",
    "%autoreload 2\n",
    "%matplotlib inline\n",
    "\n",
    "# get the most recent version of tidy3d\n",
    "!pip install -q --upgrade tidy3d\n",
    "\n",
    "# standard python imports\n",
    "import numpy as np\n",
    "import matplotlib.pyplot as plt\n",
    "\n",
    "# tidy3D import\n",
    "import tidy3d as td\n",
    "from tidy3d import web"
   ]
  },
  {
   "cell_type": "markdown",
   "metadata": {},
   "source": [
    "## Set Up Simulation"
   ]
  },
  {
   "cell_type": "code",
   "execution_count": 2,
   "metadata": {
    "id": "gy7J23c5yh3S"
   },
   "outputs": [],
   "source": [
    "Nfreq = 1000\n",
    "wavelengths = np.linspace(8, 12, Nfreq)\n",
    "freqs = td.constants.C_0 / wavelengths\n",
    "freq0 = freqs[len(freqs)//2]\n",
    "freqw = freqs[0] - freqs[-1]\n",
    "\n",
    "# Define material properties\n",
    "n_BaF2 = 1.45\n",
    "n_Ge = 4\n",
    "BaF2 = td.Medium(epsilon=n_BaF2**2)\n",
    "Ge = td.Medium(epsilon=n_Ge**2)\n",
    "\n",
    "# resolution control\n",
    "dl = 0.2"
   ]
  },
  {
   "cell_type": "code",
   "execution_count": 3,
   "metadata": {
    "id": "mGFiHbvhyh3T"
   },
   "outputs": [],
   "source": [
    "# space between resonators and source\n",
    "spc = 8\n",
    "\n",
    "# geometric parameters\n",
    "Px = Py = P = 4.2\n",
    "h = 2.53\n",
    "L1 = 3.036\n",
    "L2 = 2.024\n",
    "w1 = w2 = w = 1.265"
   ]
  },
  {
   "cell_type": "code",
   "execution_count": 4,
   "metadata": {
    "id": "Ol9GwSGUyh3U"
   },
   "outputs": [],
   "source": [
    "# total size in z and [x,y,z]\n",
    "Lz = spc + h + h + spc\n",
    "sim_size = [Px, Py, Lz]\n",
    "\n",
    "# BaF2 substrate\n",
    "substrate = td.Box(\n",
    "    center=[0, 0, -Lz/2],\n",
    "    size=[td.inf, td.inf, 2*(spc+h)],\n",
    "    material=BaF2,\n",
    "    name='substrate'\n",
    ")\n",
    "\n",
    "# Define structure\n",
    "\n",
    "cell1 = td.Box(\n",
    "        center=[(L1/2)-L2, -w1/2, h/2],\n",
    "        size=[L1, w1, h],\n",
    "        material=Ge,\n",
    "        name='cell1'\n",
    "    )\n",
    "\n",
    "cell2 = td.Box(\n",
    "        center=[-L2/2, w2/2, h/2],\n",
    "        size=[L2, w2, h],\n",
    "        material=Ge,\n",
    "        name='cell2'\n",
    "    )"
   ]
  },
  {
   "cell_type": "code",
   "execution_count": 5,
   "metadata": {
    "id": "YO2yKasKyh3U"
   },
   "outputs": [],
   "source": [
    "# time dependence of source\n",
    "gaussian = td.GaussianPulse(freq0, freqw)\n",
    "\n",
    "# plane wave source\n",
    "source = td.PlaneWave(\n",
    "            source_time=gaussian,\n",
    "            injection_axis='-z',\n",
    "            position= Lz/2 - spc + 2*dl,\n",
    "            polarization='x')\n",
    "\n",
    "# Simulation run time.  Note you need to run a long time to calculate high Q resonances.\n",
    "run_time = 500.0 / freqw"
   ]
  },
  {
   "cell_type": "code",
   "execution_count": 6,
   "metadata": {
    "id": "4TZn_s8kyh3V"
   },
   "outputs": [],
   "source": [
    "# monitor fields on other side of structure (substrate side) at range of frequencies\n",
    "monitor = td.FreqMonitor(\n",
    "        center=[0., 0., -Lz/2 + spc - 2 * dl],\n",
    "        size=[td.inf, td.inf, 0],\n",
    "        freqs=freqs,\n",
    "        store='flux',\n",
    "        name='transmitted_fields')"
   ]
  },
  {
   "cell_type": "markdown",
   "metadata": {},
   "source": [
    "## Define Case Studies\n",
    "\n",
    "Here we define the two simulations to run\n",
    "\n",
    "- With no resonator (normalization)\n",
    "- With Ge resonator\n"
   ]
  },
  {
   "cell_type": "code",
   "execution_count": 7,
   "metadata": {
    "colab": {
     "base_uri": "https://localhost:8080/"
    },
    "id": "fnpi5BiZyh3W",
    "outputId": "d25c2f44-d5a2-4241-b69b-0ffe5369ec5b"
   },
   "outputs": [
    {
     "name": "stdout",
     "output_type": "stream",
     "text": [
      "Initializing simulation...\n",
      "Mesh step (micron): [2.00e-01, 2.00e-01, 2.00e-01].\n",
      "Simulation domain in number of grid points: [21, 21, 135].\n",
      "Total number of grid points: 5.95e+04.\n",
      "Total number of time steps: 115471.\n",
      "Estimated data size (GB) of monitor transmitted_fields: 0.0000.\n",
      "Initializing simulation...\n",
      "Mesh step (micron): [2.00e-01, 2.00e-01, 2.00e-01].\n",
      "Simulation domain in number of grid points: [21, 21, 135].\n",
      "Total number of grid points: 5.95e+04.\n",
      "Total number of time steps: 115471.\n",
      "Estimated data size (GB) of monitor transmitted_fields: 0.0000.\n"
     ]
    }
   ],
   "source": [
    "# normalizing run (no Ge) to get baseline transmission vs freq\n",
    "sim_empty = td.Simulation(size=sim_size,\n",
    "                    mesh_step=[dl, dl, dl],\n",
    "                    structures=[substrate],\n",
    "                    sources=[source],\n",
    "                    monitors=[monitor],\n",
    "                    run_time=run_time,\n",
    "                    pml_layers=[0,0,15])\n",
    "\n",
    "# run with Ge nanorod\n",
    "sim_actual = td.Simulation(size=sim_size,\n",
    "                    mesh_step=[dl, dl, dl],\n",
    "                    structures=[substrate,cell1,cell2],\n",
    "                    sources=[source],\n",
    "                    monitors=[monitor],\n",
    "                    run_time=run_time,\n",
    "                    pml_layers=[0,0,15])"
   ]
  },
  {
   "cell_type": "code",
   "execution_count": 8,
   "metadata": {
    "colab": {
     "base_uri": "https://localhost:8080/",
     "height": 513
    },
    "id": "T8YFcftUyh3X",
    "outputId": "93b60986-ceb3-4064-eb8d-71a75495c11d"
   },
   "outputs": [
    {
     "data": {
      "image/png": "[encoded data removed]",
      "text/plain": [
       "<Figure size 1008x576 with 3 Axes>"
      ]
     },
     "metadata": {
      "needs_background": "light"
     },
     "output_type": "display_data"
    }
   ],
   "source": [
    "# Structure visualization in various planes\n",
    "\n",
    "fig, (ax1, ax2, ax3) = plt.subplots(1, 3, figsize=(14, 8))\n",
    "td.viz.viz_eps_2D(sim_actual, normal='x', position=0, ax=ax1)\n",
    "td.viz.viz_eps_2D(sim_actual, normal='y', position=-0.1, ax=ax2)\n",
    "td.viz.viz_eps_2D(sim_actual, normal='z', position=0.1, ax=ax3)\n",
    "plt.show()"
   ]
  },
  {
   "cell_type": "markdown",
   "metadata": {},
   "source": [
    "## Run Simulations"
   ]
  },
  {
   "cell_type": "code",
   "execution_count": 9,
   "metadata": {
    "id": "uQVEOwT2yh3Y"
   },
   "outputs": [],
   "source": [
    "# define a function that runs the simulations on our server and returns the flux\n",
    "\n",
    "def get_flux(sim, task_name='Ge_resonator'):\n",
    "    project = web.new_project(sim.export(), task_name=task_name)\n",
    "    web.monitor_project(project['taskId'])\n",
    "    print('Downloading results')\n",
    "    web.download_results(project['taskId'], target_folder='out')\n",
    "    sim.load_results('out/monitor_data.hdf5')\n",
    "    with open('out/tidy3d.log', 'r') as f:\n",
    "        print(f.read())\n",
    "    return np.squeeze(sim.data(monitor)['flux'])"
   ]
  },
  {
   "cell_type": "code",
   "execution_count": 10,
   "metadata": {
    "colab": {
     "base_uri": "https://localhost:8080/"
    },
    "id": "IG0QZ-PDyh3Y",
    "outputId": "332212da-3f04-4920-e593-801457a5e339"
   },
   "outputs": [
    {
     "name": "stdout",
     "output_type": "stream",
     "text": [
      "Uploading the json file...\n",
      "Project \"Ge_normalization-10-8\" status: success...        \n",
      "\n",
      "Downloading results\n",
      "Applying source normalization to all frequency monitors using source index 0.\n",
      "Simulation domain Nx, Ny, Nz: 21, 21, 135.\n",
      "Total number of computational grid points: 5.95e+04.\n",
      "Total number of time steps: 115471.\n",
      "Time step: 3.466500e-16.\n",
      "Starting Tidy3D... \n",
      "\n",
      "Setup time (s): 0.1554\n",
      "- Time step   5773  (  5 % done), field decay: 1.00e+00\n",
      "- Time step  11547  ( 10 % done), field decay: 9.60e-01\n",
      "- Time step  17320  ( 15 % done), field decay: 9.45e-01\n",
      "- Time step  23094  ( 20 % done), field decay: 9.45e-01\n",
      "- Time step  28867  ( 25 % done), field decay: 9.29e-01\n",
      "- Time step  34641  ( 30 % done), field decay: 9.26e-01\n",
      "- Time step  40414  ( 35 % done), field decay: 9.18e-01\n",
      "- Time step  46188  ( 40 % done), field decay: 9.25e-01\n",
      "- Time step  51961  ( 45 % done), field decay: 9.20e-01\n",
      "- Time step  57735  ( 50 % done), field decay: 9.17e-01\n",
      "- Time step  63509  ( 55 % done), field decay: 9.19e-01\n",
      "- Time step  69282  ( 60 % done), field decay: 9.23e-01\n",
      "- Time step  75056  ( 65 % done), field decay: 9.21e-01\n",
      "- Time step  80829  ( 70 % done), field decay: 9.18e-01\n",
      "- Time step  86603  ( 75 % done), field decay: 9.15e-01\n",
      "- Time step  92376  ( 80 % done), field decay: 9.24e-01\n",
      "- Time step  98150  ( 85 % done), field decay: 9.18e-01\n",
      "- Time step 103923  ( 90 % done), field decay: 9.17e-01\n",
      "- Time step 109697  ( 95 % done), field decay: 9.16e-01\n",
      "- Time step 115470  (100 % done), field decay: 9.21e-01\n",
      "Solver time (s): 38.2139\n",
      "Post-processing time (s): 8.6068\n",
      "\n",
      "Uploading the json file...\n",
      "Project \"Ge_resonator-10\" status: success...        \n",
      "\n",
      "Downloading results\n",
      "Applying source normalization to all frequency monitors using source index 0.\n",
      "Simulation domain Nx, Ny, Nz: 21, 21, 135.\n",
      "Total number of computational grid points: 5.95e+04.\n",
      "Total number of time steps: 115471.\n",
      "Time step: 3.466500e-16.\n",
      "Starting Tidy3D... \n",
      "\n",
      "Setup time (s): 0.1146\n",
      "- Time step   5773  (  5 % done), field decay: 1.00e+00\n",
      "- Time step  11547  ( 10 % done), field decay: 3.84e-01\n",
      "- Time step  17320  ( 15 % done), field decay: 1.90e-01\n",
      "- Time step  23094  ( 20 % done), field decay: 1.13e-01\n",
      "- Time step  28867  ( 25 % done), field decay: 1.31e-01\n",
      "- Time step  34641  ( 30 % done), field decay: 3.94e-02\n",
      "- Time step  40414  ( 35 % done), field decay: 5.33e-02\n",
      "- Time step  46188  ( 40 % done), field decay: 2.45e-02\n",
      "- Time step  51961  ( 45 % done), field decay: 3.40e-02\n",
      "- Time step  57735  ( 50 % done), field decay: 1.90e-02\n",
      "- Time step  63509  ( 55 % done), field decay: 1.87e-02\n",
      "- Time step  69282  ( 60 % done), field decay: 9.04e-03\n",
      "- Time step  75056  ( 65 % done), field decay: 1.44e-02\n",
      "- Time step  80829  ( 70 % done), field decay: 1.07e-02\n",
      "- Time step  86603  ( 75 % done), field decay: 5.29e-03\n",
      "- Time step  92376  ( 80 % done), field decay: 1.40e-02\n",
      "- Time step  98150  ( 85 % done), field decay: 6.87e-04\n",
      "- Time step 103923  ( 90 % done), field decay: 1.14e-02\n",
      "- Time step 109697  ( 95 % done), field decay: 3.58e-03\n",
      "- Time step 115470  (100 % done), field decay: 5.07e-03\n",
      "Solver time (s): 38.4929\n",
      "Post-processing time (s): 8.8976\n",
      "\n"
     ]
    }
   ],
   "source": [
    "# run all simulations, take about 2-3 minutes each with some download time\n",
    "\n",
    "flux_empty = get_flux(sim_empty, task_name='Ge_normalization')\n",
    "flux_actual = get_flux(sim_actual, task_name='Ge_resonator')"
   ]
  },
  {
   "cell_type": "code",
   "execution_count": 11,
   "metadata": {
    "colab": {
     "base_uri": "https://localhost:8080/",
     "height": 299
    },
    "id": "nDSdepdMyh3a",
    "outputId": "8b5c60ab-0593-42ca-89d0-2946dfa13582"
   },
   "outputs": [
    {
     "data": {
      "image/png": "[encoded data removed]",
      "text/plain": [
       "<Figure size 432x288 with 1 Axes>"
      ]
     },
     "metadata": {
      "needs_background": "light"
     },
     "output_type": "display_data"
    }
   ],
   "source": [
    "# plot normalizing run\n",
    "plt.plot(wavelengths, np.abs(flux_empty), color='k')\n",
    "plt.ylim([0,1])\n",
    "plt.title('normalizing run (no Ge)')\n",
    "plt.xlabel('wavelength ($\\mu m$)')\n",
    "plt.ylabel('Transmission')\n",
    "plt.show()"
   ]
  },
  {
   "cell_type": "markdown",
   "metadata": {},
   "source": [
    "The normalizing run computes the transmitted flux for an air -> SiO2 interface, which is just below unity due to some reflection.\n",
    "\n",
    "While not technically necessary for this example, since this transmission can be computed analytically, it is often a good idea to run a normalizing run so you can accurately measure the *change* in output when the structure is added.  For example, for multilayer structures, the normalizing run displays frequency dependence, which would make it prudent to include in the calculation."
   ]
  },
  {
   "cell_type": "code",
   "execution_count": 12,
   "metadata": {
    "colab": {
     "base_uri": "https://localhost:8080/",
     "height": 311
    },
    "id": "x10TjU0uyh3a",
    "outputId": "b74cd9e6-f5a4-468f-f1d0-90c8d9861ed9"
   },
   "outputs": [
    {
     "data": {
      "image/png": "[encoded data removed]",
      "text/plain": [
       "<Figure size 432x324 with 1 Axes>"
      ]
     },
     "metadata": {
      "needs_background": "light"
     },
     "output_type": "display_data"
    }
   ],
   "source": [
    "# plot transmission, compare to paper results, look similar\n",
    "fig, ax = plt.subplots(1, 1, figsize=(6, 4.5))\n",
    "plt.plot(wavelengths, 1 - flux_actual / flux_empty, 'k', label='R')\n",
    "plt.plot(wavelengths, flux_actual / flux_empty, 'r--', label='T')\n",
    "plt.xlabel('wavelength ($\\mu m$)')\n",
    "plt.ylabel('Magnitude')\n",
    "plt.xlim([8.8, 12])\n",
    "plt.ylim([0.0, 1.0])\n",
    "plt.legend()\n",
    "plt.show()"
   ]
  },
  {
   "cell_type": "markdown",
   "metadata": {},
   "source": [
    "<!-- <img src=\"img/Ge_plot.png\" alt=\"diagram\" width=\"300\"/> -->"
   ]
  },
  {
   "cell_type": "code",
   "execution_count": null,
   "metadata": {},
   "outputs": [],
   "source": []
  }
 ],
 "metadata": {
  "colab": {
   "collapsed_sections": [],
   "name": "Ge_HighQ.ipynb",
   "provenance": []
  },
  "kernelspec": {
   "display_name": "Python 3",
   "language": "python",
   "name": "python3"
  },
  "language_info": {
   "codemirror_mode": {
    "name": "ipython",
    "version": 3
   },
   "file_extension": ".py",
   "mimetype": "text/x-python",
   "name": "python",
   "nbconvert_exporter": "python",
   "pygments_lexer": "ipython3",
   "version": "3.7.7"
  }
 },
 "nbformat": 4,
 "nbformat_minor": 4
}
