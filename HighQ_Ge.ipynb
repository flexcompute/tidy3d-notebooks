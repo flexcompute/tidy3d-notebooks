{
 "cells": [
  {
   "cell_type": "markdown",
   "metadata": {},
   "source": [
    "# Example: resonator benchmark (Lumerical)\n",
    "\n",
    "See on [github](https://github.com/flexcompute/tidy3d-notebooks/blob/main/HighQ_Ge.ipynb), run on [colab](https://colab.research.google.com/github/flexcompute/tidy3d-notebooks/blob/main/HighQ_Ge.ipynb), or just follow along with the output below.\n",
    "\n",
    "In this example, we reproduce the findings of Campione et al. (2016), which is linked [here](https://pubs.acs.org/doi/abs/10.1021/acsphotonics.6b00556?casa_token=v7Cq9VMW40UAAAAA:AWrBfYCHrwGQ9PYBYgdprrQ8X8i-nOairIplRs1Ejo2sbDmFT9nsV1M6UEXpvOfYSnwMjagD9IT97Ph2).\n",
    "\n",
    "This notebook was originally developed and written by Romil Audhkhasi (USC). \n",
    "\n",
    "The paper investigates the resonances of Germanium structures by measuring their transmission spectrum under varying geometric parameters.\n",
    "\n",
    "The paper uses a finite-difference time-domain (Lumerical), which matches the result from Tidy3D.\n",
    "\n",
    "<!-- <img src=\"img/Ge_struct.png\" alt=\"diagram\" width=\"300\"/> -->\n",
    "\n",
    "To do this calculation, we use a broadband pulse and frequency monitor to measure the flux on the opposite side of the structure."
   ]
  },
  {
   "cell_type": "code",
   "execution_count": 1,
   "metadata": {
    "colab": {
     "base_uri": "https://localhost:8080/"
    },
    "execution": {
     "iopub.execute_input": "2021-07-27T16:30:00.509055Z",
     "iopub.status.busy": "2021-07-27T16:30:00.507942Z",
     "iopub.status.idle": "2021-07-27T16:30:02.240875Z",
     "shell.execute_reply": "2021-07-27T16:30:02.240472Z"
    },
    "id": "8WfOAGgkyh3K",
    "outputId": "f02b3adf-9117-42b1-a69c-b5f4f3f0a6c5"
   },
   "outputs": [
    {
     "name": "stdout",
     "output_type": "stream",
     "text": [
      "The autoreload extension is already loaded. To reload it, use:\n",
      "  %reload_ext autoreload\n"
     ]
    }
   ],
   "source": [
    "# basic ipython configuration (reload source code automatically and plots inline)\n",
    "%load_ext autoreload\n",
    "%autoreload 2\n",
    "%matplotlib inline\n",
    "\n",
    "# get the most recent version of tidy3d\n",
    "!pip install -q --upgrade tidy3d\n",
    "\n",
    "# standard python imports\n",
    "import numpy as np\n",
    "import matplotlib.pyplot as plt\n",
    "\n",
    "# tidy3D import\n",
    "import tidy3d as td\n",
    "from tidy3d import web"
   ]
  },
  {
   "cell_type": "markdown",
   "metadata": {},
   "source": [
    "## Set Up Simulation"
   ]
  },
  {
   "cell_type": "code",
   "execution_count": 2,
   "metadata": {
    "execution": {
     "iopub.execute_input": "2021-07-27T16:30:02.244603Z",
     "iopub.status.busy": "2021-07-27T16:30:02.244207Z",
     "iopub.status.idle": "2021-07-27T16:30:02.254640Z",
     "shell.execute_reply": "2021-07-27T16:30:02.254270Z"
    },
    "id": "gy7J23c5yh3S"
   },
   "outputs": [],
   "source": [
    "Nfreq = 1000\n",
    "wavelengths = np.linspace(8, 12, Nfreq)\n",
    "freqs = td.constants.C_0 / wavelengths\n",
    "freq0 = freqs[len(freqs)//2]\n",
    "freqw = freqs[0] - freqs[-1]\n",
    "\n",
    "# Define material properties\n",
    "n_BaF2 = 1.45\n",
    "n_Ge = 4\n",
    "BaF2 = td.Medium(epsilon=n_BaF2**2)\n",
    "Ge = td.Medium(epsilon=n_Ge**2)\n",
    "\n",
    "# resolution control\n",
    "dl = 0.2"
   ]
  },
  {
   "cell_type": "code",
   "execution_count": 3,
   "metadata": {
    "execution": {
     "iopub.execute_input": "2021-07-27T16:30:02.258195Z",
     "iopub.status.busy": "2021-07-27T16:30:02.257680Z",
     "iopub.status.idle": "2021-07-27T16:30:02.267992Z",
     "shell.execute_reply": "2021-07-27T16:30:02.267634Z"
    },
    "id": "mGFiHbvhyh3T"
   },
   "outputs": [],
   "source": [
    "# space between resonators and source\n",
    "spc = 8\n",
    "\n",
    "# geometric parameters\n",
    "Px = Py = P = 4.2\n",
    "h = 2.53\n",
    "L1 = 3.036\n",
    "L2 = 2.024\n",
    "w1 = w2 = w = 1.265"
   ]
  },
  {
   "cell_type": "code",
   "execution_count": 4,
   "metadata": {
    "execution": {
     "iopub.execute_input": "2021-07-27T16:30:02.271605Z",
     "iopub.status.busy": "2021-07-27T16:30:02.271194Z",
     "iopub.status.idle": "2021-07-27T16:30:02.282538Z",
     "shell.execute_reply": "2021-07-27T16:30:02.282138Z"
    },
    "id": "Ol9GwSGUyh3U"
   },
   "outputs": [],
   "source": [
    "# total size in z and [x,y,z]\n",
    "Lz = spc + h + h + spc\n",
    "sim_size = [Px, Py, Lz]\n",
    "\n",
    "# BaF2 substrate\n",
    "substrate = td.Box(\n",
    "    center=[0, 0, -Lz/2],\n",
    "    size=[td.inf, td.inf, 2*(spc+h)],\n",
    "    material=BaF2,\n",
    "    name='substrate'\n",
    ")\n",
    "\n",
    "# Define structure\n",
    "\n",
    "cell1 = td.Box(\n",
    "        center=[(L1/2)-L2, -w1/2, h/2],\n",
    "        size=[L1, w1, h],\n",
    "        material=Ge,\n",
    "        name='cell1'\n",
    "    )\n",
    "\n",
    "cell2 = td.Box(\n",
    "        center=[-L2/2, w2/2, h/2],\n",
    "        size=[L2, w2, h],\n",
    "        material=Ge,\n",
    "        name='cell2'\n",
    "    )"
   ]
  },
  {
   "cell_type": "code",
   "execution_count": 5,
   "metadata": {
    "execution": {
     "iopub.execute_input": "2021-07-27T16:30:02.285532Z",
     "iopub.status.busy": "2021-07-27T16:30:02.285181Z",
     "iopub.status.idle": "2021-07-27T16:30:02.295468Z",
     "shell.execute_reply": "2021-07-27T16:30:02.295056Z"
    },
    "id": "YO2yKasKyh3U"
   },
   "outputs": [],
   "source": [
    "# time dependence of source\n",
    "gaussian = td.GaussianPulse(freq0, freqw)\n",
    "\n",
    "# plane wave source\n",
    "source = td.PlaneWave(\n",
    "            source_time=gaussian,\n",
    "            injection_axis='-z',\n",
    "            position= Lz/2 - spc + 2*dl,\n",
    "            polarization='x')\n",
    "\n",
    "# Simulation run time.  Note you need to run a long time to calculate high Q resonances.\n",
    "run_time = 500.0 / freqw"
   ]
  },
  {
   "cell_type": "code",
   "execution_count": 6,
   "metadata": {
    "execution": {
     "iopub.execute_input": "2021-07-27T16:30:02.298382Z",
     "iopub.status.busy": "2021-07-27T16:30:02.297996Z",
     "iopub.status.idle": "2021-07-27T16:30:02.308913Z",
     "shell.execute_reply": "2021-07-27T16:30:02.308465Z"
    },
    "id": "4TZn_s8kyh3V"
   },
   "outputs": [],
   "source": [
    "# monitor fields on other side of structure (substrate side) at range of frequencies\n",
    "monitor = td.FreqMonitor(\n",
    "        center=[0., 0., -Lz/2 + spc - 2 * dl],\n",
    "        size=[td.inf, td.inf, 0],\n",
    "        freqs=freqs,\n",
    "        store='flux',\n",
    "        name='transmitted_fields')"
   ]
  },
  {
   "cell_type": "markdown",
   "metadata": {},
   "source": [
    "## Define Case Studies\n",
    "\n",
    "Here we define the two simulations to run\n",
    "\n",
    "- With no resonator (normalization)\n",
    "- With Ge resonator\n"
   ]
  },
  {
   "cell_type": "code",
   "execution_count": 7,
   "metadata": {
    "colab": {
     "base_uri": "https://localhost:8080/"
    },
    "execution": {
     "iopub.execute_input": "2021-07-27T16:30:02.311866Z",
     "iopub.status.busy": "2021-07-27T16:30:02.311440Z",
     "iopub.status.idle": "2021-07-27T16:30:02.393162Z",
     "shell.execute_reply": "2021-07-27T16:30:02.392775Z"
    },
    "id": "fnpi5BiZyh3W",
    "outputId": "d25c2f44-d5a2-4241-b69b-0ffe5369ec5b"
   },
   "outputs": [
    {
     "name": "stdout",
     "output_type": "stream",
     "text": [
      "Initializing simulation...\n",
      "Mesh step (micron): [2.00e-01, 2.00e-01, 2.00e-01].\n",
      "Simulation domain in number of grid points: [21, 21, 135].\n",
      "Total number of grid points: 5.95e+04.\n",
      "Total number of time steps: 115471.\n",
      "Estimated data size (GB) of monitor transmitted_fields: 0.0000.\n",
      "Initializing simulation...\n",
      "Mesh step (micron): [2.00e-01, 2.00e-01, 2.00e-01].\n",
      "Simulation domain in number of grid points: [21, 21, 135].\n",
      "Total number of grid points: 5.95e+04.\n",
      "Total number of time steps: 115471.\n",
      "Estimated data size (GB) of monitor transmitted_fields: 0.0000.\n"
     ]
    }
   ],
   "source": [
    "# normalizing run (no Ge) to get baseline transmission vs freq\n",
    "sim_empty = td.Simulation(size=sim_size,\n",
    "                    mesh_step=[dl, dl, dl],\n",
    "                    structures=[substrate],\n",
    "                    sources=[source],\n",
    "                    monitors=[monitor],\n",
    "                    run_time=run_time,\n",
    "                    pml_layers=[0,0,15])\n",
    "\n",
    "# run with Ge nanorod\n",
    "sim_actual = td.Simulation(size=sim_size,\n",
    "                    mesh_step=[dl, dl, dl],\n",
    "                    structures=[substrate,cell1,cell2],\n",
    "                    sources=[source],\n",
    "                    monitors=[monitor],\n",
    "                    run_time=run_time,\n",
    "                    pml_layers=[0,0,15])"
   ]
  },
  {
   "cell_type": "code",
   "execution_count": 8,
   "metadata": {
    "colab": {
     "base_uri": "https://localhost:8080/",
     "height": 513
    },
    "execution": {
     "iopub.execute_input": "2021-07-27T16:30:02.396222Z",
     "iopub.status.busy": "2021-07-27T16:30:02.395860Z",
     "iopub.status.idle": "2021-07-27T16:30:02.766293Z",
     "shell.execute_reply": "2021-07-27T16:30:02.765941Z"
    },
    "id": "T8YFcftUyh3X",
    "outputId": "93b60986-ceb3-4064-eb8d-71a75495c11d"
   },
   "outputs": [
    {
     "data": {
      "image/png": "[encoded data removed]",
      "text/plain": [
       "<Figure size 1008x576 with 3 Axes>"
      ]
     },
     "metadata": {
      "needs_background": "light"
     },
     "output_type": "display_data"
    }
   ],
   "source": [
    "# Structure visualization in various planes\n",
    "\n",
    "fig, (ax1, ax2, ax3) = plt.subplots(1, 3, figsize=(14, 8))\n",
    "td.viz.viz_eps_2D(sim_actual, normal='x', position=0, ax=ax1)\n",
    "td.viz.viz_eps_2D(sim_actual, normal='y', position=-0.1, ax=ax2)\n",
    "td.viz.viz_eps_2D(sim_actual, normal='z', position=0.1, ax=ax3)\n",
    "plt.show()"
   ]
  },
  {
   "cell_type": "markdown",
   "metadata": {},
   "source": [
    "## Run Simulations"
   ]
  },
  {
   "cell_type": "code",
   "execution_count": 9,
   "metadata": {
    "execution": {
     "iopub.execute_input": "2021-07-27T16:30:02.769965Z",
     "iopub.status.busy": "2021-07-27T16:30:02.769276Z",
     "iopub.status.idle": "2021-07-27T16:30:02.779660Z",
     "shell.execute_reply": "2021-07-27T16:30:02.779956Z"
    },
    "id": "uQVEOwT2yh3Y"
   },
   "outputs": [],
   "source": [
    "# define a function that runs the simulations on our server and returns the flux\n",
    "\n",
    "def get_flux(sim, task_name='Ge_resonator'):\n",
    "    project = web.new_project(sim.export(), task_name=task_name)\n",
    "    web.monitor_project(project['taskId'])\n",
    "    print('Downloading results')\n",
    "    web.download_results(project['taskId'], target_folder='out')\n",
    "    sim.load_results('out/monitor_data.hdf5')\n",
    "    with open('out/tidy3d.log', 'r') as f:\n",
    "        print(f.read())\n",
    "    return np.squeeze(sim.data(monitor)['flux'])"
   ]
  },
  {
   "cell_type": "code",
   "execution_count": 10,
   "metadata": {
    "colab": {
     "base_uri": "https://localhost:8080/"
    },
    "execution": {
     "iopub.execute_input": "2021-07-27T16:30:02.782268Z",
     "iopub.status.busy": "2021-07-27T16:30:02.781923Z",
     "iopub.status.idle": "2021-07-27T16:33:19.485584Z",
     "shell.execute_reply": "2021-07-27T16:33:19.485232Z"
    },
    "id": "IG0QZ-PDyh3Y",
    "outputId": "332212da-3f04-4920-e593-801457a5e339"
   },
   "outputs": [
    {
     "name": "stdout",
     "output_type": "stream",
     "text": [
      "Uploading the json file...\n",
      "Project 'Ge_normalization-8' status: success...                                \n",
      "\n",
      "Downloading results\n",
      "file download progress: 100.00 %\n",
      "\n",
      "file download progress: 100.00 %\n",
      "\n",
      "Applying source normalization to all frequency monitors using source index 0.\n",
      "Simulation domain Nx, Ny, Nz: [21, 21, 135]\n",
      "Applied symmetries: [0, 0, 0]\n",
      "Number of computational grid points: 5.9535e+04.\n",
      "Using subpixel averaging: True\n",
      "Number of time steps: 115471\n",
      "Automatic shutoff factor: 1.00e-05\n",
      "Time step (s): 3.4665e-16\n",
      "\n",
      "Get source modes time (s):    0.2661\n",
      "Get monitor modes time (s):   0.1098\n",
      "Rest of setup time (s):       0.1285\n",
      "\n",
      "Starting solver...\n",
      "- Time step   4618 / time 1.60e-12fs (  4 % done), field decay: 1.00e+00\n",
      "- Time step   9237 / time 3.20e-12fs (  8 % done), field decay: 7.86e-01\n",
      "- Time step  13856 / time 4.80e-12fs ( 12 % done), field decay: 6.06e-01\n",
      "- Time step  18475 / time 6.40e-12fs ( 16 % done), field decay: 4.69e-01\n",
      "- Time step  23094 / time 8.01e-12fs ( 20 % done), field decay: 3.77e-01\n",
      "- Time step  27713 / time 9.61e-12fs ( 24 % done), field decay: 2.95e-01\n",
      "- Time step  32331 / time 1.12e-11fs ( 28 % done), field decay: 2.15e-01\n",
      "- Time step  36950 / time 1.28e-11fs ( 32 % done), field decay: 2.13e-01\n",
      "- Time step  41569 / time 1.44e-11fs ( 36 % done), field decay: 2.08e-01\n",
      "- Time step  46188 / time 1.60e-11fs ( 40 % done), field decay: 1.97e-01\n",
      "- Time step  50807 / time 1.76e-11fs ( 44 % done), field decay: 1.83e-01\n",
      "- Time step  55426 / time 1.92e-11fs ( 48 % done), field decay: 1.66e-01\n",
      "- Time step  60044 / time 2.08e-11fs ( 52 % done), field decay: 9.14e-02\n",
      "- Time step  64663 / time 2.24e-11fs ( 56 % done), field decay: 9.84e-02\n",
      "- Time step  69282 / time 2.40e-11fs ( 60 % done), field decay: 1.03e-01\n",
      "- Time step  73901 / time 2.56e-11fs ( 64 % done), field decay: 1.06e-01\n",
      "- Time step  78520 / time 2.72e-11fs ( 68 % done), field decay: 1.06e-01\n",
      "- Time step  83139 / time 2.88e-11fs ( 72 % done), field decay: 1.04e-01\n",
      "- Time step  87757 / time 3.04e-11fs ( 76 % done), field decay: 4.79e-02\n",
      "- Time step  92376 / time 3.20e-11fs ( 80 % done), field decay: 5.21e-02\n",
      "- Time step  96995 / time 3.36e-11fs ( 84 % done), field decay: 5.63e-02\n",
      "- Time step 101614 / time 3.52e-11fs ( 88 % done), field decay: 5.98e-02\n",
      "- Time step 106233 / time 3.68e-11fs ( 92 % done), field decay: 6.26e-02\n",
      "- Time step 110852 / time 3.84e-11fs ( 96 % done), field decay: 6.48e-02\n",
      "- Time step 115470 / time 4.00e-11fs (100 % done), field decay: 4.00e-02\n",
      "\n",
      "Solver time (s):              41.9567\n",
      "Post-processing time (s):     0.0955\n",
      "\n",
      "Uploading the json file...\n",
      "Project 'Ge_resonator-7' status: success...                                \n",
      "\n",
      "Downloading results\n",
      "file download progress: 100.00 %\n",
      "\n",
      "file download progress: 100.00 %\n",
      "\n",
      "Applying source normalization to all frequency monitors using source index 0.\n",
      "Simulation domain Nx, Ny, Nz: [21, 21, 135]\n",
      "Applied symmetries: [0, 0, 0]\n",
      "Number of computational grid points: 5.9535e+04.\n",
      "Using subpixel averaging: True\n",
      "Number of time steps: 115471\n",
      "Automatic shutoff factor: 1.00e-05\n",
      "Time step (s): 3.4665e-16\n",
      "\n",
      "Get source modes time (s):    0.2660\n",
      "Get monitor modes time (s):   0.1108\n",
      "Rest of setup time (s):       0.1255\n",
      "\n",
      "Starting solver...\n",
      "- Time step   4618 / time 1.60e-12fs (  4 % done), field decay: 1.00e+00\n",
      "- Time step   9237 / time 3.20e-12fs (  8 % done), field decay: 3.12e-01\n",
      "- Time step  13856 / time 4.80e-12fs ( 12 % done), field decay: 2.60e-01\n",
      "- Time step  18475 / time 6.40e-12fs ( 16 % done), field decay: 1.23e-01\n",
      "- Time step  23094 / time 8.01e-12fs ( 20 % done), field decay: 1.31e-01\n",
      "- Time step  27713 / time 9.61e-12fs ( 24 % done), field decay: 1.06e-01\n",
      "- Time step  32331 / time 1.12e-11fs ( 28 % done), field decay: 3.18e-02\n",
      "- Time step  36950 / time 1.28e-11fs ( 32 % done), field decay: 2.97e-02\n",
      "- Time step  41569 / time 1.44e-11fs ( 36 % done), field decay: 4.86e-02\n",
      "- Time step  46188 / time 1.60e-11fs ( 40 % done), field decay: 2.04e-02\n",
      "- Time step  50807 / time 1.76e-11fs ( 44 % done), field decay: 1.81e-02\n",
      "- Time step  55426 / time 1.92e-11fs ( 48 % done), field decay: 1.59e-02\n",
      "- Time step  60044 / time 2.08e-11fs ( 52 % done), field decay: 1.01e-02\n",
      "- Time step  64663 / time 2.24e-11fs ( 56 % done), field decay: 1.23e-02\n",
      "- Time step  69282 / time 2.40e-11fs ( 60 % done), field decay: 9.61e-03\n",
      "- Time step  73901 / time 2.56e-11fs ( 64 % done), field decay: 3.98e-03\n",
      "- Time step  78520 / time 2.72e-11fs ( 68 % done), field decay: 1.16e-02\n",
      "- Time step  83139 / time 2.88e-11fs ( 72 % done), field decay: 5.51e-03\n",
      "- Time step  87757 / time 3.04e-11fs ( 76 % done), field decay: 2.39e-03\n",
      "- Time step  92376 / time 3.20e-11fs ( 80 % done), field decay: 8.77e-03\n",
      "- Time step  96995 / time 3.36e-11fs ( 84 % done), field decay: 3.60e-03\n",
      "- Time step 101614 / time 3.52e-11fs ( 88 % done), field decay: 3.11e-03\n",
      "- Time step 106233 / time 3.68e-11fs ( 92 % done), field decay: 7.08e-03\n",
      "- Time step 110852 / time 3.84e-11fs ( 96 % done), field decay: 1.48e-03\n",
      "- Time step 115470 / time 4.00e-11fs (100 % done), field decay: 3.38e-03\n",
      "\n",
      "Solver time (s):              42.1211\n",
      "Post-processing time (s):     0.0956\n",
      "\n"
     ]
    }
   ],
   "source": [
    "# run all simulations, take about 2-3 minutes each with some download time\n",
    "\n",
    "flux_empty = get_flux(sim_empty, task_name='Ge_normalization')\n",
    "flux_actual = get_flux(sim_actual, task_name='Ge_resonator')"
   ]
  },
  {
   "cell_type": "code",
   "execution_count": 11,
   "metadata": {
    "colab": {
     "base_uri": "https://localhost:8080/",
     "height": 299
    },
    "execution": {
     "iopub.execute_input": "2021-07-27T16:33:19.488552Z",
     "iopub.status.busy": "2021-07-27T16:33:19.488088Z",
     "iopub.status.idle": "2021-07-27T16:33:19.812253Z",
     "shell.execute_reply": "2021-07-27T16:33:19.811900Z"
    },
    "id": "nDSdepdMyh3a",
    "outputId": "8b5c60ab-0593-42ca-89d0-2946dfa13582"
   },
   "outputs": [
    {
     "data": {
      "image/png": "[encoded data removed]",
      "text/plain": [
       "<Figure size 432x288 with 1 Axes>"
      ]
     },
     "metadata": {
      "needs_background": "light"
     },
     "output_type": "display_data"
    }
   ],
   "source": [
    "# plot normalizing run\n",
    "plt.plot(wavelengths, np.abs(flux_empty), color='k')\n",
    "plt.ylim([0,1])\n",
    "plt.title('normalizing run (no Ge)')\n",
    "plt.xlabel('wavelength ($\\mu m$)')\n",
    "plt.ylabel('Transmission')\n",
    "plt.show()"
   ]
  },
  {
   "cell_type": "markdown",
   "metadata": {},
   "source": [
    "The normalizing run computes the transmitted flux for an air -> SiO2 interface, which is just below unity due to some reflection.\n",
    "\n",
    "While not technically necessary for this example, since this transmission can be computed analytically, it is often a good idea to run a normalizing run so you can accurately measure the *change* in output when the structure is added.  For example, for multilayer structures, the normalizing run displays frequency dependence, which would make it prudent to include in the calculation."
   ]
  },
  {
   "cell_type": "code",
   "execution_count": 12,
   "metadata": {
    "colab": {
     "base_uri": "https://localhost:8080/",
     "height": 311
    },
    "execution": {
     "iopub.execute_input": "2021-07-27T16:33:19.815597Z",
     "iopub.status.busy": "2021-07-27T16:33:19.815177Z",
     "iopub.status.idle": "2021-07-27T16:33:19.943408Z",
     "shell.execute_reply": "2021-07-27T16:33:19.943053Z"
    },
    "id": "x10TjU0uyh3a",
    "outputId": "b74cd9e6-f5a4-468f-f1d0-90c8d9861ed9"
   },
   "outputs": [
    {
     "data": {
      "image/png": "[encoded data removed]",
      "text/plain": [
       "<Figure size 432x324 with 1 Axes>"
      ]
     },
     "metadata": {
      "needs_background": "light"
     },
     "output_type": "display_data"
    }
   ],
   "source": [
    "# plot transmission, compare to paper results, look similar\n",
    "fig, ax = plt.subplots(1, 1, figsize=(6, 4.5))\n",
    "plt.plot(wavelengths, 1 - flux_actual / flux_empty, 'k', label='R')\n",
    "plt.plot(wavelengths, flux_actual / flux_empty, 'r--', label='T')\n",
    "plt.xlabel('wavelength ($\\mu m$)')\n",
    "plt.ylabel('Magnitude')\n",
    "plt.xlim([8.8, 12])\n",
    "plt.ylim([0.0, 1.0])\n",
    "plt.legend()\n",
    "plt.show()"
   ]
  },
  {
   "cell_type": "markdown",
   "metadata": {},
   "source": [
    "<!-- <img src=\"img/Ge_plot.png\" alt=\"diagram\" width=\"300\"/> -->"
   ]
  },
  {
   "cell_type": "code",
   "execution_count": null,
   "metadata": {},
   "outputs": [],
   "source": []
  }
 ],
 "metadata": {
  "colab": {
   "collapsed_sections": [],
   "name": "Ge_HighQ.ipynb",
   "provenance": []
  },
  "kernelspec": {
   "display_name": "Python 3",
   "language": "python",
   "name": "python3"
  },
  "language_info": {
   "codemirror_mode": {
    "name": "ipython",
    "version": 3
   },
   "file_extension": ".py",
   "mimetype": "text/x-python",
   "name": "python",
   "nbconvert_exporter": "python",
   "pygments_lexer": "ipython3",
   "version": "3.6.13"
  }
 },
 "nbformat": 4,
 "nbformat_minor": 4
}
