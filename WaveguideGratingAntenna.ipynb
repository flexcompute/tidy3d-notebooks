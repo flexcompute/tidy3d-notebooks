{
 "cells": [
  {
   "cell_type": "markdown",
   "id": "9cb9a9e8",
   "metadata": {},
   "source": [
    "# Unidirectional waveguide grating antenna"
   ]
  },
  {
   "cell_type": "markdown",
   "id": "c5e68cb5",
   "metadata": {},
   "source": [
    "There has been a growing interest in using silicon photonic phased arrays for applications in light detection and ranging (LIDAR) and free-space communication. For these technologies to be effectively implemented, it is crucial to have large optical apertures. These apertures are necessary to maintain a small diffraction angle and ensure a large area for receiving signals. In the context of one-dimensional arrays, there has been extensive exploration of long waveguide grating antennas (WGAs). WGAs are created by introducing periodic perturbations in an integrated waveguide and have been a popular choice for achieving large apertures, as their length can be extended to several millimeters.\n",
    "\n",
    "In this notebook, we demonstrate a unidirectional silicon nitride WGA with a dual-layer design based on the work `Manan Raval, Christopher V. Poulton, and Michael R. Watts, \"Unidirectional waveguide grating antennas with uniform emission for optical phased arrays,\" Opt. Lett. 42, 2563-2566 (2017)` [DOI: 10.1364/OL.42.002563](https://doi.org/10.1364/OL.42.002563).\n",
    "\n",
    "<img src=\"img/wga_schematic.png\" width=\"400\" alt=\"Schematic of the waveguide grating antenna\">\n",
    "\n",
    "For more integrated photonic examples such as the [8-Channel mode and polarization de-multiplexer](https://www.flexcompute.com/tidy3d/examples/notebooks/8ChannelDemultiplexer/), the [broadband bi-level taper polarization rotator-splitter](https://www.flexcompute.com/tidy3d/examples/notebooks/BilevelPSR/), and the [broadband directional coupler](https://www.flexcompute.com/tidy3d/examples/notebooks/BroadbandDirectionalCoupler/), please visit our [examples page](https://www.flexcompute.com/tidy3d/examples/)."
   ]
  },
  {
   "cell_type": "code",
   "execution_count": 1,
   "id": "ad580b1c",
   "metadata": {},
   "outputs": [],
   "source": [
    "import numpy as np\n",
    "import matplotlib.pyplot as plt\n",
    "\n",
    "import tidy3d as td\n",
    "import tidy3d.web as web\n",
    "from tidy3d.plugins.mode import ModeSolver\n",
    "from tidy3d.plugins.mode.web import run as run_mode_solver"
   ]
  },
  {
   "cell_type": "markdown",
   "id": "c6b5be88",
   "metadata": {},
   "source": [
    "## Design Optimization"
   ]
  },
  {
   "cell_type": "markdown",
   "id": "9c7d9b0c",
   "metadata": {},
   "source": [
    "In the first section of the notebook, we will design and optimize the WGA to ensure maximum unidirectional emission. This includes performing mode solving to calculate the effective indices of different waveguide sections and parameter sweeping the offset length between the two waveguides.\n",
    "\n",
    "The WGA is designed to work at 1550 nm. Since FDTD simulation typically requires launching a broadband light source, we defined the central frequency of the pulse to be `td.C_0/(1.55 μm)`, where `td.C_0` is the speed of light in μm/s, and the frequency width to be 10% of the central frequency."
   ]
  },
  {
   "cell_type": "code",
   "execution_count": 2,
   "id": "afbb70a2",
   "metadata": {},
   "outputs": [],
   "source": [
    "lda0 = 1.55  # central wavelength\n",
    "freq0 = td.C_0 / lda0  # central frequency\n",
    "fwidth = freq0 / 10  # width of the source frequency range"
   ]
  },
  {
   "cell_type": "markdown",
   "id": "22606231",
   "metadata": {},
   "source": [
    "The waveguide is made of silicon nitride and the cladding is made of silicon oxide. Both materials can be imported from the [material library](https://docs.flexcompute.com/projects/tidy3d/en/latest/api/material_library.html#) directly. Note that the refractive index of the materials might not be identical to what is represented in the [reference](https://doi.org/10.1364/OL.42.002563). Therefore, the simulation results are not quantitatively comparable."
   ]
  },
  {
   "cell_type": "code",
   "execution_count": 3,
   "id": "7b4afb8e",
   "metadata": {},
   "outputs": [],
   "source": [
    "SiN = td.material_library[\"Si3N4\"][\"Luke2015PMLStable\"]\n",
    "\n",
    "SiO2 = td.material_library[\"SiO2\"][\"Palik_Lossless\"]"
   ]
  },
  {
   "cell_type": "markdown",
   "id": "d14eb836",
   "metadata": {},
   "source": [
    "Define geometric parameters including nitride layer thickness, gap size between the layers, and so on. In this particular case, we only model 10 periods of the gratings, similar to what is demonstrated in the [reference](https://doi.org/10.1364/OL.42.002563). Since Tidy3D can handle much larger simulations, a much longer WGA can be simulated in principle. "
   ]
  },
  {
   "cell_type": "code",
   "execution_count": 4,
   "id": "f3d13220",
   "metadata": {},
   "outputs": [],
   "source": [
    "t = 0.2  # silicon nitride layer thickness\n",
    "w = 1  # waveguide width of the full width regions\n",
    "gap = 0.1  # gap size between the layers\n",
    "L_f = 0.5  # length of the full width regions\n",
    "N = 10  # number of periods"
   ]
  },
  {
   "cell_type": "markdown",
   "id": "18eb589e",
   "metadata": {},
   "source": [
    "### Mode Solving to Determine the Effective Indices"
   ]
  },
  {
   "cell_type": "markdown",
   "id": "cb5f7a16",
   "metadata": {},
   "source": [
    "The WGA is engineered to emit vertically at a specific design wavelength of 1550 nm. Consequently, the dimensions of the four waveguide segments must be selected to ensure that the total optical path length for one cycle equals exactly one wavelength. That is, \n",
    "\n",
    "$$\\lambda_0 = (L_f-L_0)n_{full} + (L_p(p)-L_0)n_s(p) + 2L_0n_a(p),$$\n",
    "\n",
    "where $L_f$ is the length of the full width regions, $L_0$ is the offset in the direction of propagation between the two waveguides, $L_p$ is the length of the perturbed regions, $p$ is the perturbation value, $n_{full}$, $n_s$ and $n_a$ are the effective indices of different cross sections as indicated below as well as in Fig.2(a) of the [reference](https://doi.org/10.1364/OL.42.002563). \n",
    "\n",
    "<img src=\"img/wga_schematic_2.png\" width=\"400\" alt=\"Schematic of the waveguide grating antenna\">\n",
    "\n",
    "These effective indices can be calculated from mode solving. To do so, we define a function `cal_n_eff` that takes two arguments `p1` and `p2`, which represent the perturbations of the top waveguide and button waveguide, perform the mode solving, and return the effective index. "
   ]
  },
  {
   "cell_type": "code",
   "execution_count": 5,
   "id": "1bd71b32",
   "metadata": {},
   "outputs": [],
   "source": [
    "def cal_n_eff(p1, p2):\n",
    "\n",
    "    # define the top waveguide\n",
    "    top_layer = td.Structure(\n",
    "        geometry=td.Box(center=(0, 0, gap / 2 + t / 2), size=(td.inf, w - 2 * p1, t)), medium=SiN\n",
    "    )\n",
    "\n",
    "    # define the bottom waveguide\n",
    "    bottom_layer = td.Structure(\n",
    "        geometry=td.Box(center=(0, 0, -gap / 2 - t / 2), size=(td.inf, w - 2 * p2, t)), medium=SiN\n",
    "    )\n",
    "\n",
    "    # define a simulation for mode solving\n",
    "    sim = td.Simulation(\n",
    "        size=(1, 3 * w, 10 * t),\n",
    "        grid_spec=td.GridSpec.auto(min_steps_per_wvl=50, wavelength=lda0),\n",
    "        structures=[top_layer, bottom_layer],\n",
    "        run_time=1e-12,\n",
    "        boundary_spec=td.BoundarySpec.all_sides(boundary=td.PML()),\n",
    "        medium=SiO2,\n",
    "    )\n",
    "\n",
    "    # defome a mode solver\n",
    "    mode_spec = td.ModeSpec(num_modes=1, target_neff=2)\n",
    "    mode_solver = ModeSolver(\n",
    "        simulation=sim,\n",
    "        plane=td.Box(size=(0, td.inf, td.inf)),\n",
    "        mode_spec=mode_spec,\n",
    "        freqs=[freq0],\n",
    "    )\n",
    "\n",
    "    # solver for the effective index\n",
    "    mode_data = run_mode_solver(mode_solver, verbose=False)\n",
    "    n_eff = mode_data.n_eff.values[0][0]\n",
    "\n",
    "    return n_eff"
   ]
  },
  {
   "cell_type": "markdown",
   "id": "b3057547",
   "metadata": {},
   "source": [
    "$n_{full}$ is calculated by `p1=p2=0`. $n_a$ is calculated by `p1=p, p2=0`. And $n_s$ is calculated by `p1=p2=p`. Here we set $p$ to be 100 nm."
   ]
  },
  {
   "cell_type": "code",
   "execution_count": 6,
   "id": "4040ea25",
   "metadata": {},
   "outputs": [],
   "source": [
    "p = 0.1  # width perturbation\n",
    "\n",
    "# calculate the effective indices\n",
    "n_full = cal_n_eff(0, 0)\n",
    "n_a = cal_n_eff(p, 0)\n",
    "n_s = cal_n_eff(p, p)"
   ]
  },
  {
   "cell_type": "markdown",
   "id": "ec396285",
   "metadata": {},
   "source": [
    "### Parameter Sweep to Determine the Offset"
   ]
  },
  {
   "cell_type": "markdown",
   "id": "5f485a81",
   "metadata": {},
   "source": [
    "A unidirectional emitter can be achieved by utilizing two scattering elements spaced a quarter wavelength apart. This arrangement generates constructive interference in one vertical direction while causing destructive interference in the opposite direction. In this example, the constant thicknesses of the silicon nitride layers and the separation gap hinder the achievement of full constructive interference for upward emission. Therefore, to find the optimal $L_0$, one needs to perform a parameter sweep to find the $L_0$ value such that the downward emission is minimized.\n",
    "\n",
    "To do so, we define a helper function `make_sim` that takes a given $L_0$ and returns a simulation."
   ]
  },
  {
   "cell_type": "code",
   "execution_count": 7,
   "id": "82534b36",
   "metadata": {},
   "outputs": [],
   "source": [
    "def make_sim(L_0):\n",
    "\n",
    "    # calculate L_p\n",
    "    L_p = (lda0 + L_0 * (n_full + n_s - 2 * n_a) - L_f * n_full) / n_s\n",
    "\n",
    "    period = L_p + L_f  # periodic the grating\n",
    "\n",
    "    # define the grating structures\n",
    "    structures = []\n",
    "    for i in range(N):\n",
    "\n",
    "        structures.append(\n",
    "            td.Structure(\n",
    "                geometry=td.Box(\n",
    "                    center=(L_p / 2 + i * period, 0, -gap / 2 - t / 2), size=(L_p, w - 2 * p, t)\n",
    "                ),\n",
    "                medium=SiN,\n",
    "            )\n",
    "        )\n",
    "\n",
    "        structures.append(\n",
    "            td.Structure(\n",
    "                geometry=td.Box(\n",
    "                    center=(L_p / 2 + L_0 + i * period, 0, gap / 2 + t / 2),\n",
    "                    size=(L_p, w - 2 * p, t),\n",
    "                ),\n",
    "                medium=SiN,\n",
    "            )\n",
    "        )\n",
    "\n",
    "        structures.append(\n",
    "            td.Structure(\n",
    "                geometry=td.Box(\n",
    "                    center=(L_p + L_f / 2 + i * period, 0, -gap / 2 - t / 2), size=(L_f, w, t)\n",
    "                ),\n",
    "                medium=SiN,\n",
    "            )\n",
    "        )\n",
    "\n",
    "        structures.append(\n",
    "            td.Structure(\n",
    "                geometry=td.Box(\n",
    "                    center=(L_p + L_f / 2 + L_0 + i * period, 0, gap / 2 + t / 2), size=(L_f, w, t)\n",
    "                ),\n",
    "                medium=SiN,\n",
    "            )\n",
    "        )\n",
    "\n",
    "    # create the input/output straight waveguide structures\n",
    "    inf_eff = 1e3  # effective infinity\n",
    "\n",
    "    structures.append(\n",
    "        td.Structure(\n",
    "            geometry=td.Box.from_bounds(\n",
    "                rmin=(-inf_eff, -w / 2, -gap / 2 - t), rmax=(0, w / 2, -gap / 2)\n",
    "            ),\n",
    "            medium=SiN,\n",
    "        )\n",
    "    )\n",
    "\n",
    "    structures.append(\n",
    "        td.Structure(\n",
    "            geometry=td.Box.from_bounds(\n",
    "                rmin=(-inf_eff, -w / 2, gap / 2), rmax=(L_0, w / 2, gap / 2 + t)\n",
    "            ),\n",
    "            medium=SiN,\n",
    "        )\n",
    "    )\n",
    "\n",
    "    structures.append(\n",
    "        td.Structure(\n",
    "            geometry=td.Box.from_bounds(\n",
    "                rmin=(L_p + L_f / 2 + (N - 1) * period, -w / 2, -gap / 2 - t),\n",
    "                rmax=(inf_eff, w / 2, -gap / 2),\n",
    "            ),\n",
    "            medium=SiN,\n",
    "        )\n",
    "    )\n",
    "\n",
    "    structures.append(\n",
    "        td.Structure(\n",
    "            geometry=td.Box.from_bounds(\n",
    "                rmin=(L_p + L_f / 2 + L_0 + (N - 1) * period, -w / 2, gap / 2),\n",
    "                rmax=(inf_eff, w / 2, gap / 2 + t),\n",
    "            ),\n",
    "            medium=SiN,\n",
    "        )\n",
    "    )\n",
    "\n",
    "    # define a mode source to launch the fundamental mode\n",
    "    mode_spec = td.ModeSpec(num_modes=1, target_neff=2)\n",
    "    mode_source = td.ModeSource(\n",
    "        center=(-lda0, 0, 0),\n",
    "        size=(0, 3 * w, 10 * t),\n",
    "        source_time=td.GaussianPulse(freq0=freq0, fwidth=fwidth),\n",
    "        direction=\"+\",\n",
    "        mode_spec=mode_spec,\n",
    "        mode_index=0,\n",
    "    )\n",
    "\n",
    "    # define a flux monitor to measure downward radiation\n",
    "    flux_down = td.FluxMonitor(\n",
    "        center=(0, 0, -8 * t), size=(td.inf, td.inf, 0), freqs=[freq0], name=\"flux\"\n",
    "    )\n",
    "\n",
    "    run_time = 5e-13  # simulation run time\n",
    "\n",
    "    # define simulation\n",
    "    sim = td.Simulation(\n",
    "        center=(period * (N + 1) // 2, 0, 0),\n",
    "        size=(2 * N * period, 4 * w, 20 * t),\n",
    "        grid_spec=td.GridSpec.auto(min_steps_per_wvl=30, wavelength=lda0),\n",
    "        structures=structures,\n",
    "        sources=[mode_source],\n",
    "        monitors=[flux_down],\n",
    "        run_time=run_time,\n",
    "        boundary_spec=td.BoundarySpec.all_sides(boundary=td.PML()),\n",
    "        medium=SiO2,\n",
    "        symmetry=(0, -1, 0),\n",
    "    )\n",
    "\n",
    "    return sim"
   ]
  },
  {
   "cell_type": "markdown",
   "id": "ce77c5e5",
   "metadata": {},
   "source": [
    "To ensure the simulation setup is correct, we create a test simulation and visualize it."
   ]
  },
  {
   "cell_type": "code",
   "execution_count": 8,
   "id": "99e29f7a",
   "metadata": {},
   "outputs": [
    {
     "data": {
      "text/html": [
       "\n",
       "    <iframe id=\"simulation-viewer170985641596416603\" src=https://feature-simulation-viewer.d3a9gfg7glllfq.amplifyapp.com/simulation-viewer?uuid=170985641596416603 width=\"800\" height=\"800\" allowfullscreen=\"true\"></iframe>\n",
       "    <script>\n",
       "        \n",
       "    window.postMessageToViewer170985641596416603 = event => {\n",
       "        if(event.data.type === 'viewer'&&event.data.uuid==='170985641596416603'){\n",
       "            document.getElementById('simulation-viewer170985641596416603').contentWindow.postMessage({ type: 'jupyter', uuid:'170985641596416603', value:{\"type\": \"Simulation\", \"center\": [5.0, 0.0, 0.0], \"size\": [19.5747805190349, 4.0, 4.0], \"medium\": {\"name\": null, \"frequency_range\": [59958491600000.0, 1998616386666666.8], \"allow_gain\": false, \"nonlinear_spec\": null, \"modulation_spec\": null, \"heat_spec\": null, \"type\": \"PoleResidue\", \"eps_inf\": 1.5385442336875639, \"poles\": [[{\"real\": -11504139.374277674, \"imag\": -1.595196740783775e+16}, {\"real\": 7507685.43042605, \"imag\": 4535416182817100.0}], [{\"real\": -249390.3565044153, \"imag\": -172280738540723.53}, {\"real\": 46272.506981344035, \"imag\": 99704543223121.88}]]}, \"structures\": [{\"geometry\": {\"type\": \"Box\", \"center\": [0.2393695129758725, 0.0, -0.15000000000000002], \"size\": [0.478739025951745, 0.8, 0.2]}, \"name\": null, \"type\": \"Structure\", \"medium\": {\"name\": null, \"frequency_range\": [152024573088740.38, 724311326723836.8], \"allow_gain\": false, \"nonlinear_spec\": null, \"modulation_spec\": null, \"heat_spec\": null, \"type\": \"PoleResidue\", \"eps_inf\": 3.031225983820944, \"poles\": [[{\"real\": -0.0, \"imag\": -7534484687295489.0}, {\"real\": 0.0, \"imag\": 3530332266482328.0}], [{\"real\": -0.0, \"imag\": -4550924050946271.0}, {\"real\": 0.0, \"imag\": 7233481618.869821}]]}}, {\"geometry\": {\"type\": \"Box\", \"center\": [0.4893695129758725, 0.0, 0.15000000000000002], \"size\": [0.478739025951745, 0.8, 0.2]}, \"name\": null, \"type\": \"Structure\", \"medium\": {\"name\": null, \"frequency_range\": [152024573088740.38, 724311326723836.8], \"allow_gain\": false, \"nonlinear_spec\": null, \"modulation_spec\": null, \"heat_spec\": null, \"type\": \"PoleResidue\", \"eps_inf\": 3.031225983820944, \"poles\": [[{\"real\": -0.0, \"imag\": -7534484687295489.0}, {\"real\": 0.0, \"imag\": 3530332266482328.0}], [{\"real\": -0.0, \"imag\": -4550924050946271.0}, {\"real\": 0.0, \"imag\": 7233481618.869821}]]}}, {\"geometry\": {\"type\": \"Box\", \"center\": [0.728739025951745, 0.0, -0.15000000000000002], \"size\": [0.5, 1.0, 0.2]}, \"name\": null, \"type\": \"Structure\", \"medium\": {\"name\": null, \"frequency_range\": [152024573088740.38, 724311326723836.8], \"allow_gain\": false, \"nonlinear_spec\": null, \"modulation_spec\": null, \"heat_spec\": null, \"type\": \"PoleResidue\", \"eps_inf\": 3.031225983820944, \"poles\": [[{\"real\": -0.0, \"imag\": -7534484687295489.0}, {\"real\": 0.0, \"imag\": 3530332266482328.0}], [{\"real\": -0.0, \"imag\": -4550924050946271.0}, {\"real\": 0.0, \"imag\": 7233481618.869821}]]}}, {\"geometry\": {\"type\": \"Box\", \"center\": [0.978739025951745, 0.0, 0.15000000000000002], \"size\": [0.5, 1.0, 0.2]}, \"name\": null, \"type\": \"Structure\", \"medium\": {\"name\": null, \"frequency_range\": [152024573088740.38, 724311326723836.8], \"allow_gain\": false, \"nonlinear_spec\": null, \"modulation_spec\": null, \"heat_spec\": null, \"type\": \"PoleResidue\", \"eps_inf\": 3.031225983820944, \"poles\": [[{\"real\": -0.0, \"imag\": -7534484687295489.0}, {\"real\": 0.0, \"imag\": 3530332266482328.0}], [{\"real\": -0.0, \"imag\": -4550924050946271.0}, {\"real\": 0.0, \"imag\": 7233481618.869821}]]}}, {\"geometry\": {\"type\": \"Box\", \"center\": [1.2181085389276176, 0.0, -0.15000000000000002], \"size\": [0.478739025951745, 0.8, 0.2]}, \"name\": null, \"type\": \"Structure\", \"medium\": {\"name\": null, \"frequency_range\": [152024573088740.38, 724311326723836.8], \"allow_gain\": false, \"nonlinear_spec\": null, \"modulation_spec\": null, \"heat_spec\": null, \"type\": \"PoleResidue\", \"eps_inf\": 3.031225983820944, \"poles\": [[{\"real\": -0.0, \"imag\": -7534484687295489.0}, {\"real\": 0.0, \"imag\": 3530332266482328.0}], [{\"real\": -0.0, \"imag\": -4550924050946271.0}, {\"real\": 0.0, \"imag\": 7233481618.869821}]]}}, {\"geometry\": {\"type\": \"Box\", \"center\": [1.4681085389276176, 0.0, 0.15000000000000002], \"size\": [0.478739025951745, 0.8, 0.2]}, \"name\": null, \"type\": \"Structure\", \"medium\": {\"name\": null, \"frequency_range\": [152024573088740.38, 724311326723836.8], \"allow_gain\": false, \"nonlinear_spec\": null, \"modulation_spec\": null, \"heat_spec\": null, \"type\": \"PoleResidue\", \"eps_inf\": 3.031225983820944, \"poles\": [[{\"real\": -0.0, \"imag\": -7534484687295489.0}, {\"real\": 0.0, \"imag\": 3530332266482328.0}], [{\"real\": -0.0, \"imag\": -4550924050946271.0}, {\"real\": 0.0, \"imag\": 7233481618.869821}]]}}, {\"geometry\": {\"type\": \"Box\", \"center\": [1.70747805190349, 0.0, -0.15000000000000002], \"size\": [0.5, 1.0, 0.2]}, \"name\": null, \"type\": \"Structure\", \"medium\": {\"name\": null, \"frequency_range\": [152024573088740.38, 724311326723836.8], \"allow_gain\": false, \"nonlinear_spec\": null, \"modulation_spec\": null, \"heat_spec\": null, \"type\": \"PoleResidue\", \"eps_inf\": 3.031225983820944, \"poles\": [[{\"real\": -0.0, \"imag\": -7534484687295489.0}, {\"real\": 0.0, \"imag\": 3530332266482328.0}], [{\"real\": -0.0, \"imag\": -4550924050946271.0}, {\"real\": 0.0, \"imag\": 7233481618.869821}]]}}, {\"geometry\": {\"type\": \"Box\", \"center\": [1.95747805190349, 0.0, 0.15000000000000002], \"size\": [0.5, 1.0, 0.2]}, \"name\": null, \"type\": \"Structure\", \"medium\": {\"name\": null, \"frequency_range\": [152024573088740.38, 724311326723836.8], \"allow_gain\": false, \"nonlinear_spec\": null, \"modulation_spec\": null, \"heat_spec\": null, \"type\": \"PoleResidue\", \"eps_inf\": 3.031225983820944, \"poles\": [[{\"real\": -0.0, \"imag\": -7534484687295489.0}, {\"real\": 0.0, \"imag\": 3530332266482328.0}], [{\"real\": -0.0, \"imag\": -4550924050946271.0}, {\"real\": 0.0, \"imag\": 7233481618.869821}]]}}, {\"geometry\": {\"type\": \"Box\", \"center\": [2.1968475648793624, 0.0, -0.15000000000000002], \"size\": [0.478739025951745, 0.8, 0.2]}, \"name\": null, \"type\": \"Structure\", \"medium\": {\"name\": null, \"frequency_range\": [152024573088740.38, 724311326723836.8], \"allow_gain\": false, \"nonlinear_spec\": null, \"modulation_spec\": null, \"heat_spec\": null, \"type\": \"PoleResidue\", \"eps_inf\": 3.031225983820944, \"poles\": [[{\"real\": -0.0, \"imag\": -7534484687295489.0}, {\"real\": 0.0, \"imag\": 3530332266482328.0}], [{\"real\": -0.0, \"imag\": -4550924050946271.0}, {\"real\": 0.0, \"imag\": 7233481618.869821}]]}}, {\"geometry\": {\"type\": \"Box\", \"center\": [2.4468475648793624, 0.0, 0.15000000000000002], \"size\": [0.478739025951745, 0.8, 0.2]}, \"name\": null, \"type\": \"Structure\", \"medium\": {\"name\": null, \"frequency_range\": [152024573088740.38, 724311326723836.8], \"allow_gain\": false, \"nonlinear_spec\": null, \"modulation_spec\": null, \"heat_spec\": null, \"type\": \"PoleResidue\", \"eps_inf\": 3.031225983820944, \"poles\": [[{\"real\": -0.0, \"imag\": -7534484687295489.0}, {\"real\": 0.0, \"imag\": 3530332266482328.0}], [{\"real\": -0.0, \"imag\": -4550924050946271.0}, {\"real\": 0.0, \"imag\": 7233481618.869821}]]}}, {\"geometry\": {\"type\": \"Box\", \"center\": [2.6862170778552352, 0.0, -0.15000000000000002], \"size\": [0.5, 1.0, 0.2]}, \"name\": null, \"type\": \"Structure\", \"medium\": {\"name\": null, \"frequency_range\": [152024573088740.38, 724311326723836.8], \"allow_gain\": false, \"nonlinear_spec\": null, \"modulation_spec\": null, \"heat_spec\": null, \"type\": \"PoleResidue\", \"eps_inf\": 3.031225983820944, \"poles\": [[{\"real\": -0.0, \"imag\": -7534484687295489.0}, {\"real\": 0.0, \"imag\": 3530332266482328.0}], [{\"real\": -0.0, \"imag\": -4550924050946271.0}, {\"real\": 0.0, \"imag\": 7233481618.869821}]]}}, {\"geometry\": {\"type\": \"Box\", \"center\": [2.9362170778552352, 0.0, 0.15000000000000002], \"size\": [0.5, 1.0, 0.2]}, \"name\": null, \"type\": \"Structure\", \"medium\": {\"name\": null, \"frequency_range\": [152024573088740.38, 724311326723836.8], \"allow_gain\": false, \"nonlinear_spec\": null, \"modulation_spec\": null, \"heat_spec\": null, \"type\": \"PoleResidue\", \"eps_inf\": 3.031225983820944, \"poles\": [[{\"real\": -0.0, \"imag\": -7534484687295489.0}, {\"real\": 0.0, \"imag\": 3530332266482328.0}], [{\"real\": -0.0, \"imag\": -4550924050946271.0}, {\"real\": 0.0, \"imag\": 7233481618.869821}]]}}, {\"geometry\": {\"type\": \"Box\", \"center\": [3.1755865908311076, 0.0, -0.15000000000000002], \"size\": [0.478739025951745, 0.8, 0.2]}, \"name\": null, \"type\": \"Structure\", \"medium\": {\"name\": null, \"frequency_range\": [152024573088740.38, 724311326723836.8], \"allow_gain\": false, \"nonlinear_spec\": null, \"modulation_spec\": null, \"heat_spec\": null, \"type\": \"PoleResidue\", \"eps_inf\": 3.031225983820944, \"poles\": [[{\"real\": -0.0, \"imag\": -7534484687295489.0}, {\"real\": 0.0, \"imag\": 3530332266482328.0}], [{\"real\": -0.0, \"imag\": -4550924050946271.0}, {\"real\": 0.0, \"imag\": 7233481618.869821}]]}}, {\"geometry\": {\"type\": \"Box\", \"center\": [3.4255865908311076, 0.0, 0.15000000000000002], \"size\": [0.478739025951745, 0.8, 0.2]}, \"name\": null, \"type\": \"Structure\", \"medium\": {\"name\": null, \"frequency_range\": [152024573088740.38, 724311326723836.8], \"allow_gain\": false, \"nonlinear_spec\": null, \"modulation_spec\": null, \"heat_spec\": null, \"type\": \"PoleResidue\", \"eps_inf\": 3.031225983820944, \"poles\": [[{\"real\": -0.0, \"imag\": -7534484687295489.0}, {\"real\": 0.0, \"imag\": 3530332266482328.0}], [{\"real\": -0.0, \"imag\": -4550924050946271.0}, {\"real\": 0.0, \"imag\": 7233481618.869821}]]}}, {\"geometry\": {\"type\": \"Box\", \"center\": [3.66495610380698, 0.0, -0.15000000000000002], \"size\": [0.5, 1.0, 0.2]}, \"name\": null, \"type\": \"Structure\", \"medium\": {\"name\": null, \"frequency_range\": [152024573088740.38, 724311326723836.8], \"allow_gain\": false, \"nonlinear_spec\": null, \"modulation_spec\": null, \"heat_spec\": null, \"type\": \"PoleResidue\", \"eps_inf\": 3.031225983820944, \"poles\": [[{\"real\": -0.0, \"imag\": -7534484687295489.0}, {\"real\": 0.0, \"imag\": 3530332266482328.0}], [{\"real\": -0.0, \"imag\": -4550924050946271.0}, {\"real\": 0.0, \"imag\": 7233481618.869821}]]}}, {\"geometry\": {\"type\": \"Box\", \"center\": [3.91495610380698, 0.0, 0.15000000000000002], \"size\": [0.5, 1.0, 0.2]}, \"name\": null, \"type\": \"Structure\", \"medium\": {\"name\": null, \"frequency_range\": [152024573088740.38, 724311326723836.8], \"allow_gain\": false, \"nonlinear_spec\": null, \"modulation_spec\": null, \"heat_spec\": null, \"type\": \"PoleResidue\", \"eps_inf\": 3.031225983820944, \"poles\": [[{\"real\": -0.0, \"imag\": -7534484687295489.0}, {\"real\": 0.0, \"imag\": 3530332266482328.0}], [{\"real\": -0.0, \"imag\": -4550924050946271.0}, {\"real\": 0.0, \"imag\": 7233481618.869821}]]}}, {\"geometry\": {\"type\": \"Box\", \"center\": [4.154325616782852, 0.0, -0.15000000000000002], \"size\": [0.478739025951745, 0.8, 0.2]}, \"name\": null, \"type\": \"Structure\", \"medium\": {\"name\": null, \"frequency_range\": [152024573088740.38, 724311326723836.8], \"allow_gain\": false, \"nonlinear_spec\": null, \"modulation_spec\": null, \"heat_spec\": null, \"type\": \"PoleResidue\", \"eps_inf\": 3.031225983820944, \"poles\": [[{\"real\": -0.0, \"imag\": -7534484687295489.0}, {\"real\": 0.0, \"imag\": 3530332266482328.0}], [{\"real\": -0.0, \"imag\": -4550924050946271.0}, {\"real\": 0.0, \"imag\": 7233481618.869821}]]}}, {\"geometry\": {\"type\": \"Box\", \"center\": [4.404325616782852, 0.0, 0.15000000000000002], \"size\": [0.478739025951745, 0.8, 0.2]}, \"name\": null, \"type\": \"Structure\", \"medium\": {\"name\": null, \"frequency_range\": [152024573088740.38, 724311326723836.8], \"allow_gain\": false, \"nonlinear_spec\": null, \"modulation_spec\": null, \"heat_spec\": null, \"type\": \"PoleResidue\", \"eps_inf\": 3.031225983820944, \"poles\": [[{\"real\": -0.0, \"imag\": -7534484687295489.0}, {\"real\": 0.0, \"imag\": 3530332266482328.0}], [{\"real\": -0.0, \"imag\": -4550924050946271.0}, {\"real\": 0.0, \"imag\": 7233481618.869821}]]}}, {\"geometry\": {\"type\": \"Box\", \"center\": [4.643695129758725, 0.0, -0.15000000000000002], \"size\": [0.5, 1.0, 0.2]}, \"name\": null, \"type\": \"Structure\", \"medium\": {\"name\": null, \"frequency_range\": [152024573088740.38, 724311326723836.8], \"allow_gain\": false, \"nonlinear_spec\": null, \"modulation_spec\": null, \"heat_spec\": null, \"type\": \"PoleResidue\", \"eps_inf\": 3.031225983820944, \"poles\": [[{\"real\": -0.0, \"imag\": -7534484687295489.0}, {\"real\": 0.0, \"imag\": 3530332266482328.0}], [{\"real\": -0.0, \"imag\": -4550924050946271.0}, {\"real\": 0.0, \"imag\": 7233481618.869821}]]}}, {\"geometry\": {\"type\": \"Box\", \"center\": [4.893695129758725, 0.0, 0.15000000000000002], \"size\": [0.5, 1.0, 0.2]}, \"name\": null, \"type\": \"Structure\", \"medium\": {\"name\": null, \"frequency_range\": [152024573088740.38, 724311326723836.8], \"allow_gain\": false, \"nonlinear_spec\": null, \"modulation_spec\": null, \"heat_spec\": null, \"type\": \"PoleResidue\", \"eps_inf\": 3.031225983820944, \"poles\": [[{\"real\": -0.0, \"imag\": -7534484687295489.0}, {\"real\": 0.0, \"imag\": 3530332266482328.0}], [{\"real\": -0.0, \"imag\": -4550924050946271.0}, {\"real\": 0.0, \"imag\": 7233481618.869821}]]}}, {\"geometry\": {\"type\": \"Box\", \"center\": [5.133064642734597, 0.0, -0.15000000000000002], \"size\": [0.478739025951745, 0.8, 0.2]}, \"name\": null, \"type\": \"Structure\", \"medium\": {\"name\": null, \"frequency_range\": [152024573088740.38, 724311326723836.8], \"allow_gain\": false, \"nonlinear_spec\": null, \"modulation_spec\": null, \"heat_spec\": null, \"type\": \"PoleResidue\", \"eps_inf\": 3.031225983820944, \"poles\": [[{\"real\": -0.0, \"imag\": -7534484687295489.0}, {\"real\": 0.0, \"imag\": 3530332266482328.0}], [{\"real\": -0.0, \"imag\": -4550924050946271.0}, {\"real\": 0.0, \"imag\": 7233481618.869821}]]}}, {\"geometry\": {\"type\": \"Box\", \"center\": [5.383064642734597, 0.0, 0.15000000000000002], \"size\": [0.478739025951745, 0.8, 0.2]}, \"name\": null, \"type\": \"Structure\", \"medium\": {\"name\": null, \"frequency_range\": [152024573088740.38, 724311326723836.8], \"allow_gain\": false, \"nonlinear_spec\": null, \"modulation_spec\": null, \"heat_spec\": null, \"type\": \"PoleResidue\", \"eps_inf\": 3.031225983820944, \"poles\": [[{\"real\": -0.0, \"imag\": -7534484687295489.0}, {\"real\": 0.0, \"imag\": 3530332266482328.0}], [{\"real\": -0.0, \"imag\": -4550924050946271.0}, {\"real\": 0.0, \"imag\": 7233481618.869821}]]}}, {\"geometry\": {\"type\": \"Box\", \"center\": [5.62243415571047, 0.0, -0.15000000000000002], \"size\": [0.5, 1.0, 0.2]}, \"name\": null, \"type\": \"Structure\", \"medium\": {\"name\": null, \"frequency_range\": [152024573088740.38, 724311326723836.8], \"allow_gain\": false, \"nonlinear_spec\": null, \"modulation_spec\": null, \"heat_spec\": null, \"type\": \"PoleResidue\", \"eps_inf\": 3.031225983820944, \"poles\": [[{\"real\": -0.0, \"imag\": -7534484687295489.0}, {\"real\": 0.0, \"imag\": 3530332266482328.0}], [{\"real\": -0.0, \"imag\": -4550924050946271.0}, {\"real\": 0.0, \"imag\": 7233481618.869821}]]}}, {\"geometry\": {\"type\": \"Box\", \"center\": [5.87243415571047, 0.0, 0.15000000000000002], \"size\": [0.5, 1.0, 0.2]}, \"name\": null, \"type\": \"Structure\", \"medium\": {\"name\": null, \"frequency_range\": [152024573088740.38, 724311326723836.8], \"allow_gain\": false, \"nonlinear_spec\": null, \"modulation_spec\": null, \"heat_spec\": null, \"type\": \"PoleResidue\", \"eps_inf\": 3.031225983820944, \"poles\": [[{\"real\": -0.0, \"imag\": -7534484687295489.0}, {\"real\": 0.0, \"imag\": 3530332266482328.0}], [{\"real\": -0.0, \"imag\": -4550924050946271.0}, {\"real\": 0.0, \"imag\": 7233481618.869821}]]}}, {\"geometry\": {\"type\": \"Box\", \"center\": [6.111803668686343, 0.0, -0.15000000000000002], \"size\": [0.478739025951745, 0.8, 0.2]}, \"name\": null, \"type\": \"Structure\", \"medium\": {\"name\": null, \"frequency_range\": [152024573088740.38, 724311326723836.8], \"allow_gain\": false, \"nonlinear_spec\": null, \"modulation_spec\": null, \"heat_spec\": null, \"type\": \"PoleResidue\", \"eps_inf\": 3.031225983820944, \"poles\": [[{\"real\": -0.0, \"imag\": -7534484687295489.0}, {\"real\": 0.0, \"imag\": 3530332266482328.0}], [{\"real\": -0.0, \"imag\": -4550924050946271.0}, {\"real\": 0.0, \"imag\": 7233481618.869821}]]}}, {\"geometry\": {\"type\": \"Box\", \"center\": [6.361803668686343, 0.0, 0.15000000000000002], \"size\": [0.478739025951745, 0.8, 0.2]}, \"name\": null, \"type\": \"Structure\", \"medium\": {\"name\": null, \"frequency_range\": [152024573088740.38, 724311326723836.8], \"allow_gain\": false, \"nonlinear_spec\": null, \"modulation_spec\": null, \"heat_spec\": null, \"type\": \"PoleResidue\", \"eps_inf\": 3.031225983820944, \"poles\": [[{\"real\": -0.0, \"imag\": -7534484687295489.0}, {\"real\": 0.0, \"imag\": 3530332266482328.0}], [{\"real\": -0.0, \"imag\": -4550924050946271.0}, {\"real\": 0.0, \"imag\": 7233481618.869821}]]}}, {\"geometry\": {\"type\": \"Box\", \"center\": [6.601173181662215, 0.0, -0.15000000000000002], \"size\": [0.5, 1.0, 0.2]}, \"name\": null, \"type\": \"Structure\", \"medium\": {\"name\": null, \"frequency_range\": [152024573088740.38, 724311326723836.8], \"allow_gain\": false, \"nonlinear_spec\": null, \"modulation_spec\": null, \"heat_spec\": null, \"type\": \"PoleResidue\", \"eps_inf\": 3.031225983820944, \"poles\": [[{\"real\": -0.0, \"imag\": -7534484687295489.0}, {\"real\": 0.0, \"imag\": 3530332266482328.0}], [{\"real\": -0.0, \"imag\": -4550924050946271.0}, {\"real\": 0.0, \"imag\": 7233481618.869821}]]}}, {\"geometry\": {\"type\": \"Box\", \"center\": [6.851173181662215, 0.0, 0.15000000000000002], \"size\": [0.5, 1.0, 0.2]}, \"name\": null, \"type\": \"Structure\", \"medium\": {\"name\": null, \"frequency_range\": [152024573088740.38, 724311326723836.8], \"allow_gain\": false, \"nonlinear_spec\": null, \"modulation_spec\": null, \"heat_spec\": null, \"type\": \"PoleResidue\", \"eps_inf\": 3.031225983820944, \"poles\": [[{\"real\": -0.0, \"imag\": -7534484687295489.0}, {\"real\": 0.0, \"imag\": 3530332266482328.0}], [{\"real\": -0.0, \"imag\": -4550924050946271.0}, {\"real\": 0.0, \"imag\": 7233481618.869821}]]}}, {\"geometry\": {\"type\": \"Box\", \"center\": [7.090542694638088, 0.0, -0.15000000000000002], \"size\": [0.478739025951745, 0.8, 0.2]}, \"name\": null, \"type\": \"Structure\", \"medium\": {\"name\": null, \"frequency_range\": [152024573088740.38, 724311326723836.8], \"allow_gain\": false, \"nonlinear_spec\": null, \"modulation_spec\": null, \"heat_spec\": null, \"type\": \"PoleResidue\", \"eps_inf\": 3.031225983820944, \"poles\": [[{\"real\": -0.0, \"imag\": -7534484687295489.0}, {\"real\": 0.0, \"imag\": 3530332266482328.0}], [{\"real\": -0.0, \"imag\": -4550924050946271.0}, {\"real\": 0.0, \"imag\": 7233481618.869821}]]}}, {\"geometry\": {\"type\": \"Box\", \"center\": [7.340542694638088, 0.0, 0.15000000000000002], \"size\": [0.478739025951745, 0.8, 0.2]}, \"name\": null, \"type\": \"Structure\", \"medium\": {\"name\": null, \"frequency_range\": [152024573088740.38, 724311326723836.8], \"allow_gain\": false, \"nonlinear_spec\": null, \"modulation_spec\": null, \"heat_spec\": null, \"type\": \"PoleResidue\", \"eps_inf\": 3.031225983820944, \"poles\": [[{\"real\": -0.0, \"imag\": -7534484687295489.0}, {\"real\": 0.0, \"imag\": 3530332266482328.0}], [{\"real\": -0.0, \"imag\": -4550924050946271.0}, {\"real\": 0.0, \"imag\": 7233481618.869821}]]}}, {\"geometry\": {\"type\": \"Box\", \"center\": [7.57991220761396, 0.0, -0.15000000000000002], \"size\": [0.5, 1.0, 0.2]}, \"name\": null, \"type\": \"Structure\", \"medium\": {\"name\": null, \"frequency_range\": [152024573088740.38, 724311326723836.8], \"allow_gain\": false, \"nonlinear_spec\": null, \"modulation_spec\": null, \"heat_spec\": null, \"type\": \"PoleResidue\", \"eps_inf\": 3.031225983820944, \"poles\": [[{\"real\": -0.0, \"imag\": -7534484687295489.0}, {\"real\": 0.0, \"imag\": 3530332266482328.0}], [{\"real\": -0.0, \"imag\": -4550924050946271.0}, {\"real\": 0.0, \"imag\": 7233481618.869821}]]}}, {\"geometry\": {\"type\": \"Box\", \"center\": [7.82991220761396, 0.0, 0.15000000000000002], \"size\": [0.5, 1.0, 0.2]}, \"name\": null, \"type\": \"Structure\", \"medium\": {\"name\": null, \"frequency_range\": [152024573088740.38, 724311326723836.8], \"allow_gain\": false, \"nonlinear_spec\": null, \"modulation_spec\": null, \"heat_spec\": null, \"type\": \"PoleResidue\", \"eps_inf\": 3.031225983820944, \"poles\": [[{\"real\": -0.0, \"imag\": -7534484687295489.0}, {\"real\": 0.0, \"imag\": 3530332266482328.0}], [{\"real\": -0.0, \"imag\": -4550924050946271.0}, {\"real\": 0.0, \"imag\": 7233481618.869821}]]}}, {\"geometry\": {\"type\": \"Box\", \"center\": [8.069281720589833, 0.0, -0.15000000000000002], \"size\": [0.478739025951745, 0.8, 0.2]}, \"name\": null, \"type\": \"Structure\", \"medium\": {\"name\": null, \"frequency_range\": [152024573088740.38, 724311326723836.8], \"allow_gain\": false, \"nonlinear_spec\": null, \"modulation_spec\": null, \"heat_spec\": null, \"type\": \"PoleResidue\", \"eps_inf\": 3.031225983820944, \"poles\": [[{\"real\": -0.0, \"imag\": -7534484687295489.0}, {\"real\": 0.0, \"imag\": 3530332266482328.0}], [{\"real\": -0.0, \"imag\": -4550924050946271.0}, {\"real\": 0.0, \"imag\": 7233481618.869821}]]}}, {\"geometry\": {\"type\": \"Box\", \"center\": [8.319281720589833, 0.0, 0.15000000000000002], \"size\": [0.478739025951745, 0.8, 0.2]}, \"name\": null, \"type\": \"Structure\", \"medium\": {\"name\": null, \"frequency_range\": [152024573088740.38, 724311326723836.8], \"allow_gain\": false, \"nonlinear_spec\": null, \"modulation_spec\": null, \"heat_spec\": null, \"type\": \"PoleResidue\", \"eps_inf\": 3.031225983820944, \"poles\": [[{\"real\": -0.0, \"imag\": -7534484687295489.0}, {\"real\": 0.0, \"imag\": 3530332266482328.0}], [{\"real\": -0.0, \"imag\": -4550924050946271.0}, {\"real\": 0.0, \"imag\": 7233481618.869821}]]}}, {\"geometry\": {\"type\": \"Box\", \"center\": [8.558651233565705, 0.0, -0.15000000000000002], \"size\": [0.5, 1.0, 0.2]}, \"name\": null, \"type\": \"Structure\", \"medium\": {\"name\": null, \"frequency_range\": [152024573088740.38, 724311326723836.8], \"allow_gain\": false, \"nonlinear_spec\": null, \"modulation_spec\": null, \"heat_spec\": null, \"type\": \"PoleResidue\", \"eps_inf\": 3.031225983820944, \"poles\": [[{\"real\": -0.0, \"imag\": -7534484687295489.0}, {\"real\": 0.0, \"imag\": 3530332266482328.0}], [{\"real\": -0.0, \"imag\": -4550924050946271.0}, {\"real\": 0.0, \"imag\": 7233481618.869821}]]}}, {\"geometry\": {\"type\": \"Box\", \"center\": [8.808651233565705, 0.0, 0.15000000000000002], \"size\": [0.5, 1.0, 0.2]}, \"name\": null, \"type\": \"Structure\", \"medium\": {\"name\": null, \"frequency_range\": [152024573088740.38, 724311326723836.8], \"allow_gain\": false, \"nonlinear_spec\": null, \"modulation_spec\": null, \"heat_spec\": null, \"type\": \"PoleResidue\", \"eps_inf\": 3.031225983820944, \"poles\": [[{\"real\": -0.0, \"imag\": -7534484687295489.0}, {\"real\": 0.0, \"imag\": 3530332266482328.0}], [{\"real\": -0.0, \"imag\": -4550924050946271.0}, {\"real\": 0.0, \"imag\": 7233481618.869821}]]}}, {\"geometry\": {\"type\": \"Box\", \"center\": [9.048020746541578, 0.0, -0.15000000000000002], \"size\": [0.478739025951745, 0.8, 0.2]}, \"name\": null, \"type\": \"Structure\", \"medium\": {\"name\": null, \"frequency_range\": [152024573088740.38, 724311326723836.8], \"allow_gain\": false, \"nonlinear_spec\": null, \"modulation_spec\": null, \"heat_spec\": null, \"type\": \"PoleResidue\", \"eps_inf\": 3.031225983820944, \"poles\": [[{\"real\": -0.0, \"imag\": -7534484687295489.0}, {\"real\": 0.0, \"imag\": 3530332266482328.0}], [{\"real\": -0.0, \"imag\": -4550924050946271.0}, {\"real\": 0.0, \"imag\": 7233481618.869821}]]}}, {\"geometry\": {\"type\": \"Box\", \"center\": [9.298020746541578, 0.0, 0.15000000000000002], \"size\": [0.478739025951745, 0.8, 0.2]}, \"name\": null, \"type\": \"Structure\", \"medium\": {\"name\": null, \"frequency_range\": [152024573088740.38, 724311326723836.8], \"allow_gain\": false, \"nonlinear_spec\": null, \"modulation_spec\": null, \"heat_spec\": null, \"type\": \"PoleResidue\", \"eps_inf\": 3.031225983820944, \"poles\": [[{\"real\": -0.0, \"imag\": -7534484687295489.0}, {\"real\": 0.0, \"imag\": 3530332266482328.0}], [{\"real\": -0.0, \"imag\": -4550924050946271.0}, {\"real\": 0.0, \"imag\": 7233481618.869821}]]}}, {\"geometry\": {\"type\": \"Box\", \"center\": [9.53739025951745, 0.0, -0.15000000000000002], \"size\": [0.5, 1.0, 0.2]}, \"name\": null, \"type\": \"Structure\", \"medium\": {\"name\": null, \"frequency_range\": [152024573088740.38, 724311326723836.8], \"allow_gain\": false, \"nonlinear_spec\": null, \"modulation_spec\": null, \"heat_spec\": null, \"type\": \"PoleResidue\", \"eps_inf\": 3.031225983820944, \"poles\": [[{\"real\": -0.0, \"imag\": -7534484687295489.0}, {\"real\": 0.0, \"imag\": 3530332266482328.0}], [{\"real\": -0.0, \"imag\": -4550924050946271.0}, {\"real\": 0.0, \"imag\": 7233481618.869821}]]}}, {\"geometry\": {\"type\": \"Box\", \"center\": [9.78739025951745, 0.0, 0.15000000000000002], \"size\": [0.5, 1.0, 0.2]}, \"name\": null, \"type\": \"Structure\", \"medium\": {\"name\": null, \"frequency_range\": [152024573088740.38, 724311326723836.8], \"allow_gain\": false, \"nonlinear_spec\": null, \"modulation_spec\": null, \"heat_spec\": null, \"type\": \"PoleResidue\", \"eps_inf\": 3.031225983820944, \"poles\": [[{\"real\": -0.0, \"imag\": -7534484687295489.0}, {\"real\": 0.0, \"imag\": 3530332266482328.0}], [{\"real\": -0.0, \"imag\": -4550924050946271.0}, {\"real\": 0.0, \"imag\": 7233481618.869821}]]}}, {\"geometry\": {\"type\": \"Box\", \"center\": [-500.0, 0.0, -0.15], \"size\": [1000.0, 1.0, 0.2]}, \"name\": null, \"type\": \"Structure\", \"medium\": {\"name\": null, \"frequency_range\": [152024573088740.38, 724311326723836.8], \"allow_gain\": false, \"nonlinear_spec\": null, \"modulation_spec\": null, \"heat_spec\": null, \"type\": \"PoleResidue\", \"eps_inf\": 3.031225983820944, \"poles\": [[{\"real\": -0.0, \"imag\": -7534484687295489.0}, {\"real\": 0.0, \"imag\": 3530332266482328.0}], [{\"real\": -0.0, \"imag\": -4550924050946271.0}, {\"real\": 0.0, \"imag\": 7233481618.869821}]]}}, {\"geometry\": {\"type\": \"Box\", \"center\": [-499.875, 0.0, 0.15], \"size\": [1000.25, 1.0, 0.2]}, \"name\": null, \"type\": \"Structure\", \"medium\": {\"name\": null, \"frequency_range\": [152024573088740.38, 724311326723836.8], \"allow_gain\": false, \"nonlinear_spec\": null, \"modulation_spec\": null, \"heat_spec\": null, \"type\": \"PoleResidue\", \"eps_inf\": 3.031225983820944, \"poles\": [[{\"real\": -0.0, \"imag\": -7534484687295489.0}, {\"real\": 0.0, \"imag\": 3530332266482328.0}], [{\"real\": -0.0, \"imag\": -4550924050946271.0}, {\"real\": 0.0, \"imag\": 7233481618.869821}]]}}, {\"geometry\": {\"type\": \"Box\", \"center\": [504.7686951297587, 0.0, -0.15], \"size\": [990.4626097404825, 1.0, 0.2]}, \"name\": null, \"type\": \"Structure\", \"medium\": {\"name\": null, \"frequency_range\": [152024573088740.38, 724311326723836.8], \"allow_gain\": false, \"nonlinear_spec\": null, \"modulation_spec\": null, \"heat_spec\": null, \"type\": \"PoleResidue\", \"eps_inf\": 3.031225983820944, \"poles\": [[{\"real\": -0.0, \"imag\": -7534484687295489.0}, {\"real\": 0.0, \"imag\": 3530332266482328.0}], [{\"real\": -0.0, \"imag\": -4550924050946271.0}, {\"real\": 0.0, \"imag\": 7233481618.869821}]]}}, {\"geometry\": {\"type\": \"Box\", \"center\": [504.8936951297587, 0.0, 0.15], \"size\": [990.2126097404825, 1.0, 0.2]}, \"name\": null, \"type\": \"Structure\", \"medium\": {\"name\": null, \"frequency_range\": [152024573088740.38, 724311326723836.8], \"allow_gain\": false, \"nonlinear_spec\": null, \"modulation_spec\": null, \"heat_spec\": null, \"type\": \"PoleResidue\", \"eps_inf\": 3.031225983820944, \"poles\": [[{\"real\": -0.0, \"imag\": -7534484687295489.0}, {\"real\": 0.0, \"imag\": 3530332266482328.0}], [{\"real\": -0.0, \"imag\": -4550924050946271.0}, {\"real\": 0.0, \"imag\": 7233481618.869821}]]}}], \"symmetry\": [0, -1, 0], \"sources\": [{\"name\": null, \"type\": \"ModeSource\", \"center\": [-1.55, 0.0, 0.0], \"size\": [0.0, 3.0, 2.0], \"source_time\": {\"amplitude\": 1.0, \"phase\": 0.0, \"type\": \"GaussianPulse\", \"freq0\": 193414489032258.06, \"fwidth\": 19341448903225.805, \"offset\": 5.0, \"remove_dc_component\": true}, \"num_freqs\": 1, \"direction\": \"+\", \"mode_spec\": {\"num_modes\": 1, \"target_neff\": 2.0, \"num_pml\": [0, 0], \"filter_pol\": null, \"angle_theta\": 0.0, \"angle_phi\": 0.0, \"precision\": \"single\", \"bend_radius\": null, \"bend_axis\": null, \"track_freq\": \"central\", \"group_index_step\": false, \"type\": \"ModeSpec\"}, \"mode_index\": 0}], \"boundary_spec\": {\"x\": {\"plus\": {\"name\": null, \"type\": \"PML\", \"num_layers\": 12, \"parameters\": {\"sigma_order\": 3, \"sigma_min\": 0.0, \"sigma_max\": 1.5, \"type\": \"PMLParams\", \"kappa_order\": 3, \"kappa_min\": 1.0, \"kappa_max\": 3.0, \"alpha_order\": 1, \"alpha_min\": 0.0, \"alpha_max\": 0.0}}, \"minus\": {\"name\": null, \"type\": \"PML\", \"num_layers\": 12, \"parameters\": {\"sigma_order\": 3, \"sigma_min\": 0.0, \"sigma_max\": 1.5, \"type\": \"PMLParams\", \"kappa_order\": 3, \"kappa_min\": 1.0, \"kappa_max\": 3.0, \"alpha_order\": 1, \"alpha_min\": 0.0, \"alpha_max\": 0.0}}, \"type\": \"Boundary\"}, \"y\": {\"plus\": {\"name\": null, \"type\": \"PML\", \"num_layers\": 12, \"parameters\": {\"sigma_order\": 3, \"sigma_min\": 0.0, \"sigma_max\": 1.5, \"type\": \"PMLParams\", \"kappa_order\": 3, \"kappa_min\": 1.0, \"kappa_max\": 3.0, \"alpha_order\": 1, \"alpha_min\": 0.0, \"alpha_max\": 0.0}}, \"minus\": {\"name\": null, \"type\": \"PML\", \"num_layers\": 12, \"parameters\": {\"sigma_order\": 3, \"sigma_min\": 0.0, \"sigma_max\": 1.5, \"type\": \"PMLParams\", \"kappa_order\": 3, \"kappa_min\": 1.0, \"kappa_max\": 3.0, \"alpha_order\": 1, \"alpha_min\": 0.0, \"alpha_max\": 0.0}}, \"type\": \"Boundary\"}, \"z\": {\"plus\": {\"name\": null, \"type\": \"PML\", \"num_layers\": 12, \"parameters\": {\"sigma_order\": 3, \"sigma_min\": 0.0, \"sigma_max\": 1.5, \"type\": \"PMLParams\", \"kappa_order\": 3, \"kappa_min\": 1.0, \"kappa_max\": 3.0, \"alpha_order\": 1, \"alpha_min\": 0.0, \"alpha_max\": 0.0}}, \"minus\": {\"name\": null, \"type\": \"PML\", \"num_layers\": 12, \"parameters\": {\"sigma_order\": 3, \"sigma_min\": 0.0, \"sigma_max\": 1.5, \"type\": \"PMLParams\", \"kappa_order\": 3, \"kappa_min\": 1.0, \"kappa_max\": 3.0, \"alpha_order\": 1, \"alpha_min\": 0.0, \"alpha_max\": 0.0}}, \"type\": \"Boundary\"}, \"type\": \"BoundarySpec\"}, \"monitors\": [{\"type\": \"FluxMonitor\", \"center\": [0.0, 0.0, -1.6], \"size\": [\"Infinity\", \"Infinity\", 0.0], \"name\": \"flux\", \"interval_space\": [1, 1, 1], \"colocate\": true, \"freqs\": [193414489032258.06], \"apodization\": {\"start\": null, \"end\": null, \"width\": null, \"type\": \"ApodizationSpec\"}, \"normal_dir\": \"+\", \"exclude_surfaces\": null}], \"grid_spec\": {\"grid_x\": {\"type\": \"AutoGrid\", \"min_steps_per_wvl\": 30.0, \"max_scale\": 1.4, \"dl_min\": 0.0, \"mesher\": {\"type\": \"GradedMesher\"}}, \"grid_y\": {\"type\": \"AutoGrid\", \"min_steps_per_wvl\": 30.0, \"max_scale\": 1.4, \"dl_min\": 0.0, \"mesher\": {\"type\": \"GradedMesher\"}}, \"grid_z\": {\"type\": \"AutoGrid\", \"min_steps_per_wvl\": 30.0, \"max_scale\": 1.4, \"dl_min\": 0.0, \"mesher\": {\"type\": \"GradedMesher\"}}, \"wavelength\": 1.55, \"override_structures\": [], \"type\": \"GridSpec\"}, \"version\": \"2.6.0\", \"courant\": 0.99, \"normalize_index\": 0, \"shutoff\": 1e-05, \"subpixel\": true, \"run_time\": 5e-13}}, '*')\n",
       "        }\n",
       "    };\n",
       "    window.addEventListener(\n",
       "        'message',\n",
       "        window.postMessageToViewer170985641596416603,\n",
       "        false\n",
       "    );\n",
       "    \n",
       "    </script>\n",
       "    "
      ],
      "text/plain": [
       "<IPython.core.display.HTML object>"
      ]
     },
     "metadata": {},
     "output_type": "display_data"
    }
   ],
   "source": [
    "sim = make_sim(0.25)\n",
    "sim.plot_3d()"
   ]
  },
  {
   "cell_type": "markdown",
   "id": "1e4a55a0",
   "metadata": {},
   "source": [
    "We perform a parameter sweep for $L_0$ from 100 nm to 250 nm to determine the optimal offset length."
   ]
  },
  {
   "cell_type": "code",
   "execution_count": 9,
   "id": "5c613b54",
   "metadata": {},
   "outputs": [
    {
     "data": {
      "text/html": [
       "<pre style=\"white-space:pre;overflow-x:auto;line-height:normal;font-family:Menlo,'DejaVu Sans Mono',consolas,'Courier New',monospace\"><span style=\"color: #7fbfbf; text-decoration-color: #7fbfbf\">19:06:56 Eastern Standard Time </span>Created task <span style=\"color: #008000; text-decoration-color: #008000\">'L_0=0.10'</span> with task_id             \n",
       "<span style=\"color: #7fbfbf; text-decoration-color: #7fbfbf\">                               </span><span style=\"color: #008000; text-decoration-color: #008000\">'fdve-bfbe7a17-bfc5-46b5-ace2-456fb2114e35'</span> and  \n",
       "<span style=\"color: #7fbfbf; text-decoration-color: #7fbfbf\">                               </span>task_type <span style=\"color: #008000; text-decoration-color: #008000\">'FDTD'</span>.                                \n",
       "</pre>\n"
      ],
      "text/plain": [
       "\u001b[2;36m19:06:56 Eastern Standard Time\u001b[0m\u001b[2;36m \u001b[0mCreated task \u001b[32m'\u001b[0m\u001b[32mL_0\u001b[0m\u001b[32m=\u001b[0m\u001b[32m0\u001b[0m\u001b[32m.10'\u001b[0m with task_id             \n",
       "\u001b[2;36m                               \u001b[0m\u001b[32m'fdve-bfbe7a17-bfc5-46b5-ace2-456fb2114e35'\u001b[0m and  \n",
       "\u001b[2;36m                               \u001b[0mtask_type \u001b[32m'FDTD'\u001b[0m.                                \n"
      ]
     },
     "metadata": {},
     "output_type": "display_data"
    },
    {
     "data": {
      "text/html": [
       "<pre style=\"white-space:pre;overflow-x:auto;line-height:normal;font-family:Menlo,'DejaVu Sans Mono',consolas,'Courier New',monospace\"><span style=\"color: #7fbfbf; text-decoration-color: #7fbfbf\">                               </span>View task using web UI at                        \n",
       "<span style=\"color: #7fbfbf; text-decoration-color: #7fbfbf\">                               </span><a href=\"https://tidy3d.simulation.cloud/workbench?taskId=fdve-bfbe7a17-bfc5-46b5-ace2-456fb2114e35\" target=\"_blank\"><span style=\"color: #008000; text-decoration-color: #008000\">'https://tidy3d.simulation.cloud/workbench?taskId</span></a>\n",
       "<span style=\"color: #7fbfbf; text-decoration-color: #7fbfbf\">                               </span><a href=\"https://tidy3d.simulation.cloud/workbench?taskId=fdve-bfbe7a17-bfc5-46b5-ace2-456fb2114e35\" target=\"_blank\"><span style=\"color: #008000; text-decoration-color: #008000\">=fdve-bfbe7a17-bfc5-46b5-ace2-456fb2114e35'</span></a>.     \n",
       "</pre>\n"
      ],
      "text/plain": [
       "\u001b[2;36m                              \u001b[0m\u001b[2;36m \u001b[0mView task using web UI at                        \n",
       "\u001b[2;36m                               \u001b[0m\u001b]8;id=158883;https://tidy3d.simulation.cloud/workbench?taskId=fdve-bfbe7a17-bfc5-46b5-ace2-456fb2114e35\u001b\\\u001b[32m'https://tidy3d.simulation.cloud/workbench?\u001b[0m\u001b]8;;\u001b\\\u001b]8;id=459175;https://tidy3d.simulation.cloud/workbench?taskId=fdve-bfbe7a17-bfc5-46b5-ace2-456fb2114e35\u001b\\\u001b[32mtaskId\u001b[0m\u001b]8;;\u001b\\\n",
       "\u001b[2;36m                               \u001b[0m\u001b]8;id=158883;https://tidy3d.simulation.cloud/workbench?taskId=fdve-bfbe7a17-bfc5-46b5-ace2-456fb2114e35\u001b\\\u001b[32m=\u001b[0m\u001b]8;;\u001b\\\u001b]8;id=973383;https://tidy3d.simulation.cloud/workbench?taskId=fdve-bfbe7a17-bfc5-46b5-ace2-456fb2114e35\u001b\\\u001b[32mfdve\u001b[0m\u001b]8;;\u001b\\\u001b]8;id=158883;https://tidy3d.simulation.cloud/workbench?taskId=fdve-bfbe7a17-bfc5-46b5-ace2-456fb2114e35\u001b\\\u001b[32m-bfbe7a17-bfc5-46b5-ace2-456fb2114e35'\u001b[0m\u001b]8;;\u001b\\.     \n"
      ]
     },
     "metadata": {},
     "output_type": "display_data"
    },
    {
     "data": {
      "application/vnd.jupyter.widget-view+json": {
       "model_id": "a922be7a96e945a8b165ae865649156b",
       "version_major": 2,
       "version_minor": 0
      },
      "text/plain": [
       "Output()"
      ]
     },
     "metadata": {},
     "output_type": "display_data"
    },
    {
     "data": {
      "text/html": [
       "<pre style=\"white-space:pre;overflow-x:auto;line-height:normal;font-family:Menlo,'DejaVu Sans Mono',consolas,'Courier New',monospace\"></pre>\n"
      ],
      "text/plain": []
     },
     "metadata": {},
     "output_type": "display_data"
    },
    {
     "data": {
      "text/html": [
       "<pre style=\"white-space:pre;overflow-x:auto;line-height:normal;font-family:Menlo,'DejaVu Sans Mono',consolas,'Courier New',monospace\">\n",
       "</pre>\n"
      ],
      "text/plain": [
       "\n"
      ]
     },
     "metadata": {},
     "output_type": "display_data"
    },
    {
     "data": {
      "text/html": [
       "<pre style=\"white-space:pre;overflow-x:auto;line-height:normal;font-family:Menlo,'DejaVu Sans Mono',consolas,'Courier New',monospace\"><span style=\"color: #7fbfbf; text-decoration-color: #7fbfbf\">19:06:57 Eastern Standard Time </span>Created task <span style=\"color: #008000; text-decoration-color: #008000\">'L_0=0.11'</span> with task_id             \n",
       "<span style=\"color: #7fbfbf; text-decoration-color: #7fbfbf\">                               </span><span style=\"color: #008000; text-decoration-color: #008000\">'fdve-4b2ea106-0c81-4e4b-a792-13606cdafdaa'</span> and  \n",
       "<span style=\"color: #7fbfbf; text-decoration-color: #7fbfbf\">                               </span>task_type <span style=\"color: #008000; text-decoration-color: #008000\">'FDTD'</span>.                                \n",
       "</pre>\n"
      ],
      "text/plain": [
       "\u001b[2;36m19:06:57 Eastern Standard Time\u001b[0m\u001b[2;36m \u001b[0mCreated task \u001b[32m'\u001b[0m\u001b[32mL_0\u001b[0m\u001b[32m=\u001b[0m\u001b[32m0\u001b[0m\u001b[32m.11'\u001b[0m with task_id             \n",
       "\u001b[2;36m                               \u001b[0m\u001b[32m'fdve-4b2ea106-0c81-4e4b-a792-13606cdafdaa'\u001b[0m and  \n",
       "\u001b[2;36m                               \u001b[0mtask_type \u001b[32m'FDTD'\u001b[0m.                                \n"
      ]
     },
     "metadata": {},
     "output_type": "display_data"
    },
    {
     "data": {
      "text/html": [
       "<pre style=\"white-space:pre;overflow-x:auto;line-height:normal;font-family:Menlo,'DejaVu Sans Mono',consolas,'Courier New',monospace\"><span style=\"color: #7fbfbf; text-decoration-color: #7fbfbf\">                               </span>View task using web UI at                        \n",
       "<span style=\"color: #7fbfbf; text-decoration-color: #7fbfbf\">                               </span><a href=\"https://tidy3d.simulation.cloud/workbench?taskId=fdve-4b2ea106-0c81-4e4b-a792-13606cdafdaa\" target=\"_blank\"><span style=\"color: #008000; text-decoration-color: #008000\">'https://tidy3d.simulation.cloud/workbench?taskId</span></a>\n",
       "<span style=\"color: #7fbfbf; text-decoration-color: #7fbfbf\">                               </span><a href=\"https://tidy3d.simulation.cloud/workbench?taskId=fdve-4b2ea106-0c81-4e4b-a792-13606cdafdaa\" target=\"_blank\"><span style=\"color: #008000; text-decoration-color: #008000\">=fdve-4b2ea106-0c81-4e4b-a792-13606cdafdaa'</span></a>.     \n",
       "</pre>\n"
      ],
      "text/plain": [
       "\u001b[2;36m                              \u001b[0m\u001b[2;36m \u001b[0mView task using web UI at                        \n",
       "\u001b[2;36m                               \u001b[0m\u001b]8;id=63455;https://tidy3d.simulation.cloud/workbench?taskId=fdve-4b2ea106-0c81-4e4b-a792-13606cdafdaa\u001b\\\u001b[32m'https://tidy3d.simulation.cloud/workbench?\u001b[0m\u001b]8;;\u001b\\\u001b]8;id=865601;https://tidy3d.simulation.cloud/workbench?taskId=fdve-4b2ea106-0c81-4e4b-a792-13606cdafdaa\u001b\\\u001b[32mtaskId\u001b[0m\u001b]8;;\u001b\\\n",
       "\u001b[2;36m                               \u001b[0m\u001b]8;id=63455;https://tidy3d.simulation.cloud/workbench?taskId=fdve-4b2ea106-0c81-4e4b-a792-13606cdafdaa\u001b\\\u001b[32m=\u001b[0m\u001b]8;;\u001b\\\u001b]8;id=641618;https://tidy3d.simulation.cloud/workbench?taskId=fdve-4b2ea106-0c81-4e4b-a792-13606cdafdaa\u001b\\\u001b[32mfdve\u001b[0m\u001b]8;;\u001b\\\u001b]8;id=63455;https://tidy3d.simulation.cloud/workbench?taskId=fdve-4b2ea106-0c81-4e4b-a792-13606cdafdaa\u001b\\\u001b[32m-4b2ea106-0c81-4e4b-a792-13606cdafdaa'\u001b[0m\u001b]8;;\u001b\\.     \n"
      ]
     },
     "metadata": {},
     "output_type": "display_data"
    },
    {
     "data": {
      "application/vnd.jupyter.widget-view+json": {
       "model_id": "5ef1c3b246f547b29fcb221c4a9ac8f2",
       "version_major": 2,
       "version_minor": 0
      },
      "text/plain": [
       "Output()"
      ]
     },
     "metadata": {},
     "output_type": "display_data"
    },
    {
     "data": {
      "text/html": [
       "<pre style=\"white-space:pre;overflow-x:auto;line-height:normal;font-family:Menlo,'DejaVu Sans Mono',consolas,'Courier New',monospace\"></pre>\n"
      ],
      "text/plain": []
     },
     "metadata": {},
     "output_type": "display_data"
    },
    {
     "data": {
      "text/html": [
       "<pre style=\"white-space:pre;overflow-x:auto;line-height:normal;font-family:Menlo,'DejaVu Sans Mono',consolas,'Courier New',monospace\">\n",
       "</pre>\n"
      ],
      "text/plain": [
       "\n"
      ]
     },
     "metadata": {},
     "output_type": "display_data"
    },
    {
     "data": {
      "text/html": [
       "<pre style=\"white-space:pre;overflow-x:auto;line-height:normal;font-family:Menlo,'DejaVu Sans Mono',consolas,'Courier New',monospace\"><span style=\"color: #7fbfbf; text-decoration-color: #7fbfbf\">19:06:58 Eastern Standard Time </span>Created task <span style=\"color: #008000; text-decoration-color: #008000\">'L_0=0.12'</span> with task_id             \n",
       "<span style=\"color: #7fbfbf; text-decoration-color: #7fbfbf\">                               </span><span style=\"color: #008000; text-decoration-color: #008000\">'fdve-19a48718-718d-418b-8835-e06b0ce3c17d'</span> and  \n",
       "<span style=\"color: #7fbfbf; text-decoration-color: #7fbfbf\">                               </span>task_type <span style=\"color: #008000; text-decoration-color: #008000\">'FDTD'</span>.                                \n",
       "</pre>\n"
      ],
      "text/plain": [
       "\u001b[2;36m19:06:58 Eastern Standard Time\u001b[0m\u001b[2;36m \u001b[0mCreated task \u001b[32m'\u001b[0m\u001b[32mL_0\u001b[0m\u001b[32m=\u001b[0m\u001b[32m0\u001b[0m\u001b[32m.12'\u001b[0m with task_id             \n",
       "\u001b[2;36m                               \u001b[0m\u001b[32m'fdve-19a48718-718d-418b-8835-e06b0ce3c17d'\u001b[0m and  \n",
       "\u001b[2;36m                               \u001b[0mtask_type \u001b[32m'FDTD'\u001b[0m.                                \n"
      ]
     },
     "metadata": {},
     "output_type": "display_data"
    },
    {
     "data": {
      "text/html": [
       "<pre style=\"white-space:pre;overflow-x:auto;line-height:normal;font-family:Menlo,'DejaVu Sans Mono',consolas,'Courier New',monospace\"><span style=\"color: #7fbfbf; text-decoration-color: #7fbfbf\">                               </span>View task using web UI at                        \n",
       "<span style=\"color: #7fbfbf; text-decoration-color: #7fbfbf\">                               </span><a href=\"https://tidy3d.simulation.cloud/workbench?taskId=fdve-19a48718-718d-418b-8835-e06b0ce3c17d\" target=\"_blank\"><span style=\"color: #008000; text-decoration-color: #008000\">'https://tidy3d.simulation.cloud/workbench?taskId</span></a>\n",
       "<span style=\"color: #7fbfbf; text-decoration-color: #7fbfbf\">                               </span><a href=\"https://tidy3d.simulation.cloud/workbench?taskId=fdve-19a48718-718d-418b-8835-e06b0ce3c17d\" target=\"_blank\"><span style=\"color: #008000; text-decoration-color: #008000\">=fdve-19a48718-718d-418b-8835-e06b0ce3c17d'</span></a>.     \n",
       "</pre>\n"
      ],
      "text/plain": [
       "\u001b[2;36m                              \u001b[0m\u001b[2;36m \u001b[0mView task using web UI at                        \n",
       "\u001b[2;36m                               \u001b[0m\u001b]8;id=485934;https://tidy3d.simulation.cloud/workbench?taskId=fdve-19a48718-718d-418b-8835-e06b0ce3c17d\u001b\\\u001b[32m'https://tidy3d.simulation.cloud/workbench?\u001b[0m\u001b]8;;\u001b\\\u001b]8;id=275050;https://tidy3d.simulation.cloud/workbench?taskId=fdve-19a48718-718d-418b-8835-e06b0ce3c17d\u001b\\\u001b[32mtaskId\u001b[0m\u001b]8;;\u001b\\\n",
       "\u001b[2;36m                               \u001b[0m\u001b]8;id=485934;https://tidy3d.simulation.cloud/workbench?taskId=fdve-19a48718-718d-418b-8835-e06b0ce3c17d\u001b\\\u001b[32m=\u001b[0m\u001b]8;;\u001b\\\u001b]8;id=727655;https://tidy3d.simulation.cloud/workbench?taskId=fdve-19a48718-718d-418b-8835-e06b0ce3c17d\u001b\\\u001b[32mfdve\u001b[0m\u001b]8;;\u001b\\\u001b]8;id=485934;https://tidy3d.simulation.cloud/workbench?taskId=fdve-19a48718-718d-418b-8835-e06b0ce3c17d\u001b\\\u001b[32m-19a48718-718d-418b-8835-e06b0ce3c17d'\u001b[0m\u001b]8;;\u001b\\.     \n"
      ]
     },
     "metadata": {},
     "output_type": "display_data"
    },
    {
     "data": {
      "application/vnd.jupyter.widget-view+json": {
       "model_id": "6f853b23e66c4636a98e08cce06d0797",
       "version_major": 2,
       "version_minor": 0
      },
      "text/plain": [
       "Output()"
      ]
     },
     "metadata": {},
     "output_type": "display_data"
    },
    {
     "data": {
      "text/html": [
       "<pre style=\"white-space:pre;overflow-x:auto;line-height:normal;font-family:Menlo,'DejaVu Sans Mono',consolas,'Courier New',monospace\"></pre>\n"
      ],
      "text/plain": []
     },
     "metadata": {},
     "output_type": "display_data"
    },
    {
     "data": {
      "text/html": [
       "<pre style=\"white-space:pre;overflow-x:auto;line-height:normal;font-family:Menlo,'DejaVu Sans Mono',consolas,'Courier New',monospace\">\n",
       "</pre>\n"
      ],
      "text/plain": [
       "\n"
      ]
     },
     "metadata": {},
     "output_type": "display_data"
    },
    {
     "data": {
      "text/html": [
       "<pre style=\"white-space:pre;overflow-x:auto;line-height:normal;font-family:Menlo,'DejaVu Sans Mono',consolas,'Courier New',monospace\"><span style=\"color: #7fbfbf; text-decoration-color: #7fbfbf\">19:06:59 Eastern Standard Time </span>Created task <span style=\"color: #008000; text-decoration-color: #008000\">'L_0=0.13'</span> with task_id             \n",
       "<span style=\"color: #7fbfbf; text-decoration-color: #7fbfbf\">                               </span><span style=\"color: #008000; text-decoration-color: #008000\">'fdve-c1af01c8-b442-4f46-9778-5c5c64552044'</span> and  \n",
       "<span style=\"color: #7fbfbf; text-decoration-color: #7fbfbf\">                               </span>task_type <span style=\"color: #008000; text-decoration-color: #008000\">'FDTD'</span>.                                \n",
       "</pre>\n"
      ],
      "text/plain": [
       "\u001b[2;36m19:06:59 Eastern Standard Time\u001b[0m\u001b[2;36m \u001b[0mCreated task \u001b[32m'\u001b[0m\u001b[32mL_0\u001b[0m\u001b[32m=\u001b[0m\u001b[32m0\u001b[0m\u001b[32m.13'\u001b[0m with task_id             \n",
       "\u001b[2;36m                               \u001b[0m\u001b[32m'fdve-c1af01c8-b442-4f46-9778-5c5c64552044'\u001b[0m and  \n",
       "\u001b[2;36m                               \u001b[0mtask_type \u001b[32m'FDTD'\u001b[0m.                                \n"
      ]
     },
     "metadata": {},
     "output_type": "display_data"
    },
    {
     "data": {
      "text/html": [
       "<pre style=\"white-space:pre;overflow-x:auto;line-height:normal;font-family:Menlo,'DejaVu Sans Mono',consolas,'Courier New',monospace\"><span style=\"color: #7fbfbf; text-decoration-color: #7fbfbf\">                               </span>View task using web UI at                        \n",
       "<span style=\"color: #7fbfbf; text-decoration-color: #7fbfbf\">                               </span><a href=\"https://tidy3d.simulation.cloud/workbench?taskId=fdve-c1af01c8-b442-4f46-9778-5c5c64552044\" target=\"_blank\"><span style=\"color: #008000; text-decoration-color: #008000\">'https://tidy3d.simulation.cloud/workbench?taskId</span></a>\n",
       "<span style=\"color: #7fbfbf; text-decoration-color: #7fbfbf\">                               </span><a href=\"https://tidy3d.simulation.cloud/workbench?taskId=fdve-c1af01c8-b442-4f46-9778-5c5c64552044\" target=\"_blank\"><span style=\"color: #008000; text-decoration-color: #008000\">=fdve-c1af01c8-b442-4f46-9778-5c5c64552044'</span></a>.     \n",
       "</pre>\n"
      ],
      "text/plain": [
       "\u001b[2;36m                              \u001b[0m\u001b[2;36m \u001b[0mView task using web UI at                        \n",
       "\u001b[2;36m                               \u001b[0m\u001b]8;id=112997;https://tidy3d.simulation.cloud/workbench?taskId=fdve-c1af01c8-b442-4f46-9778-5c5c64552044\u001b\\\u001b[32m'https://tidy3d.simulation.cloud/workbench?\u001b[0m\u001b]8;;\u001b\\\u001b]8;id=803107;https://tidy3d.simulation.cloud/workbench?taskId=fdve-c1af01c8-b442-4f46-9778-5c5c64552044\u001b\\\u001b[32mtaskId\u001b[0m\u001b]8;;\u001b\\\n",
       "\u001b[2;36m                               \u001b[0m\u001b]8;id=112997;https://tidy3d.simulation.cloud/workbench?taskId=fdve-c1af01c8-b442-4f46-9778-5c5c64552044\u001b\\\u001b[32m=\u001b[0m\u001b]8;;\u001b\\\u001b]8;id=439512;https://tidy3d.simulation.cloud/workbench?taskId=fdve-c1af01c8-b442-4f46-9778-5c5c64552044\u001b\\\u001b[32mfdve\u001b[0m\u001b]8;;\u001b\\\u001b]8;id=112997;https://tidy3d.simulation.cloud/workbench?taskId=fdve-c1af01c8-b442-4f46-9778-5c5c64552044\u001b\\\u001b[32m-c1af01c8-b442-4f46-9778-5c5c64552044'\u001b[0m\u001b]8;;\u001b\\.     \n"
      ]
     },
     "metadata": {},
     "output_type": "display_data"
    },
    {
     "data": {
      "application/vnd.jupyter.widget-view+json": {
       "model_id": "2795856a8f2a4b9a8edeb2e667addacc",
       "version_major": 2,
       "version_minor": 0
      },
      "text/plain": [
       "Output()"
      ]
     },
     "metadata": {},
     "output_type": "display_data"
    },
    {
     "data": {
      "text/html": [
       "<pre style=\"white-space:pre;overflow-x:auto;line-height:normal;font-family:Menlo,'DejaVu Sans Mono',consolas,'Courier New',monospace\"></pre>\n"
      ],
      "text/plain": []
     },
     "metadata": {},
     "output_type": "display_data"
    },
    {
     "data": {
      "text/html": [
       "<pre style=\"white-space:pre;overflow-x:auto;line-height:normal;font-family:Menlo,'DejaVu Sans Mono',consolas,'Courier New',monospace\">\n",
       "</pre>\n"
      ],
      "text/plain": [
       "\n"
      ]
     },
     "metadata": {},
     "output_type": "display_data"
    },
    {
     "data": {
      "text/html": [
       "<pre style=\"white-space:pre;overflow-x:auto;line-height:normal;font-family:Menlo,'DejaVu Sans Mono',consolas,'Courier New',monospace\"><span style=\"color: #7fbfbf; text-decoration-color: #7fbfbf\">19:07:00 Eastern Standard Time </span>Created task <span style=\"color: #008000; text-decoration-color: #008000\">'L_0=0.14'</span> with task_id             \n",
       "<span style=\"color: #7fbfbf; text-decoration-color: #7fbfbf\">                               </span><span style=\"color: #008000; text-decoration-color: #008000\">'fdve-2ff7aac6-159d-4055-9052-bb071d3d48f2'</span> and  \n",
       "<span style=\"color: #7fbfbf; text-decoration-color: #7fbfbf\">                               </span>task_type <span style=\"color: #008000; text-decoration-color: #008000\">'FDTD'</span>.                                \n",
       "</pre>\n"
      ],
      "text/plain": [
       "\u001b[2;36m19:07:00 Eastern Standard Time\u001b[0m\u001b[2;36m \u001b[0mCreated task \u001b[32m'\u001b[0m\u001b[32mL_0\u001b[0m\u001b[32m=\u001b[0m\u001b[32m0\u001b[0m\u001b[32m.14'\u001b[0m with task_id             \n",
       "\u001b[2;36m                               \u001b[0m\u001b[32m'fdve-2ff7aac6-159d-4055-9052-bb071d3d48f2'\u001b[0m and  \n",
       "\u001b[2;36m                               \u001b[0mtask_type \u001b[32m'FDTD'\u001b[0m.                                \n"
      ]
     },
     "metadata": {},
     "output_type": "display_data"
    },
    {
     "data": {
      "text/html": [
       "<pre style=\"white-space:pre;overflow-x:auto;line-height:normal;font-family:Menlo,'DejaVu Sans Mono',consolas,'Courier New',monospace\"><span style=\"color: #7fbfbf; text-decoration-color: #7fbfbf\">                               </span>View task using web UI at                        \n",
       "<span style=\"color: #7fbfbf; text-decoration-color: #7fbfbf\">                               </span><a href=\"https://tidy3d.simulation.cloud/workbench?taskId=fdve-2ff7aac6-159d-4055-9052-bb071d3d48f2\" target=\"_blank\"><span style=\"color: #008000; text-decoration-color: #008000\">'https://tidy3d.simulation.cloud/workbench?taskId</span></a>\n",
       "<span style=\"color: #7fbfbf; text-decoration-color: #7fbfbf\">                               </span><a href=\"https://tidy3d.simulation.cloud/workbench?taskId=fdve-2ff7aac6-159d-4055-9052-bb071d3d48f2\" target=\"_blank\"><span style=\"color: #008000; text-decoration-color: #008000\">=fdve-2ff7aac6-159d-4055-9052-bb071d3d48f2'</span></a>.     \n",
       "</pre>\n"
      ],
      "text/plain": [
       "\u001b[2;36m                              \u001b[0m\u001b[2;36m \u001b[0mView task using web UI at                        \n",
       "\u001b[2;36m                               \u001b[0m\u001b]8;id=465543;https://tidy3d.simulation.cloud/workbench?taskId=fdve-2ff7aac6-159d-4055-9052-bb071d3d48f2\u001b\\\u001b[32m'https://tidy3d.simulation.cloud/workbench?\u001b[0m\u001b]8;;\u001b\\\u001b]8;id=543274;https://tidy3d.simulation.cloud/workbench?taskId=fdve-2ff7aac6-159d-4055-9052-bb071d3d48f2\u001b\\\u001b[32mtaskId\u001b[0m\u001b]8;;\u001b\\\n",
       "\u001b[2;36m                               \u001b[0m\u001b]8;id=465543;https://tidy3d.simulation.cloud/workbench?taskId=fdve-2ff7aac6-159d-4055-9052-bb071d3d48f2\u001b\\\u001b[32m=\u001b[0m\u001b]8;;\u001b\\\u001b]8;id=33814;https://tidy3d.simulation.cloud/workbench?taskId=fdve-2ff7aac6-159d-4055-9052-bb071d3d48f2\u001b\\\u001b[32mfdve\u001b[0m\u001b]8;;\u001b\\\u001b]8;id=465543;https://tidy3d.simulation.cloud/workbench?taskId=fdve-2ff7aac6-159d-4055-9052-bb071d3d48f2\u001b\\\u001b[32m-2ff7aac6-159d-4055-9052-bb071d3d48f2'\u001b[0m\u001b]8;;\u001b\\.     \n"
      ]
     },
     "metadata": {},
     "output_type": "display_data"
    },
    {
     "data": {
      "application/vnd.jupyter.widget-view+json": {
       "model_id": "d04359e596f64dc2ad298e2879735629",
       "version_major": 2,
       "version_minor": 0
      },
      "text/plain": [
       "Output()"
      ]
     },
     "metadata": {},
     "output_type": "display_data"
    },
    {
     "data": {
      "text/html": [
       "<pre style=\"white-space:pre;overflow-x:auto;line-height:normal;font-family:Menlo,'DejaVu Sans Mono',consolas,'Courier New',monospace\"></pre>\n"
      ],
      "text/plain": []
     },
     "metadata": {},
     "output_type": "display_data"
    },
    {
     "data": {
      "text/html": [
       "<pre style=\"white-space:pre;overflow-x:auto;line-height:normal;font-family:Menlo,'DejaVu Sans Mono',consolas,'Courier New',monospace\">\n",
       "</pre>\n"
      ],
      "text/plain": [
       "\n"
      ]
     },
     "metadata": {},
     "output_type": "display_data"
    },
    {
     "data": {
      "text/html": [
       "<pre style=\"white-space:pre;overflow-x:auto;line-height:normal;font-family:Menlo,'DejaVu Sans Mono',consolas,'Courier New',monospace\"><span style=\"color: #7fbfbf; text-decoration-color: #7fbfbf\">19:07:01 Eastern Standard Time </span>Created task <span style=\"color: #008000; text-decoration-color: #008000\">'L_0=0.15'</span> with task_id             \n",
       "<span style=\"color: #7fbfbf; text-decoration-color: #7fbfbf\">                               </span><span style=\"color: #008000; text-decoration-color: #008000\">'fdve-dbd2a56a-6c77-4475-933b-424e8fc74d1b'</span> and  \n",
       "<span style=\"color: #7fbfbf; text-decoration-color: #7fbfbf\">                               </span>task_type <span style=\"color: #008000; text-decoration-color: #008000\">'FDTD'</span>.                                \n",
       "</pre>\n"
      ],
      "text/plain": [
       "\u001b[2;36m19:07:01 Eastern Standard Time\u001b[0m\u001b[2;36m \u001b[0mCreated task \u001b[32m'\u001b[0m\u001b[32mL_0\u001b[0m\u001b[32m=\u001b[0m\u001b[32m0\u001b[0m\u001b[32m.15'\u001b[0m with task_id             \n",
       "\u001b[2;36m                               \u001b[0m\u001b[32m'fdve-dbd2a56a-6c77-4475-933b-424e8fc74d1b'\u001b[0m and  \n",
       "\u001b[2;36m                               \u001b[0mtask_type \u001b[32m'FDTD'\u001b[0m.                                \n"
      ]
     },
     "metadata": {},
     "output_type": "display_data"
    },
    {
     "data": {
      "text/html": [
       "<pre style=\"white-space:pre;overflow-x:auto;line-height:normal;font-family:Menlo,'DejaVu Sans Mono',consolas,'Courier New',monospace\"><span style=\"color: #7fbfbf; text-decoration-color: #7fbfbf\">                               </span>View task using web UI at                        \n",
       "<span style=\"color: #7fbfbf; text-decoration-color: #7fbfbf\">                               </span><a href=\"https://tidy3d.simulation.cloud/workbench?taskId=fdve-dbd2a56a-6c77-4475-933b-424e8fc74d1b\" target=\"_blank\"><span style=\"color: #008000; text-decoration-color: #008000\">'https://tidy3d.simulation.cloud/workbench?taskId</span></a>\n",
       "<span style=\"color: #7fbfbf; text-decoration-color: #7fbfbf\">                               </span><a href=\"https://tidy3d.simulation.cloud/workbench?taskId=fdve-dbd2a56a-6c77-4475-933b-424e8fc74d1b\" target=\"_blank\"><span style=\"color: #008000; text-decoration-color: #008000\">=fdve-dbd2a56a-6c77-4475-933b-424e8fc74d1b'</span></a>.     \n",
       "</pre>\n"
      ],
      "text/plain": [
       "\u001b[2;36m                              \u001b[0m\u001b[2;36m \u001b[0mView task using web UI at                        \n",
       "\u001b[2;36m                               \u001b[0m\u001b]8;id=640540;https://tidy3d.simulation.cloud/workbench?taskId=fdve-dbd2a56a-6c77-4475-933b-424e8fc74d1b\u001b\\\u001b[32m'https://tidy3d.simulation.cloud/workbench?\u001b[0m\u001b]8;;\u001b\\\u001b]8;id=425226;https://tidy3d.simulation.cloud/workbench?taskId=fdve-dbd2a56a-6c77-4475-933b-424e8fc74d1b\u001b\\\u001b[32mtaskId\u001b[0m\u001b]8;;\u001b\\\n",
       "\u001b[2;36m                               \u001b[0m\u001b]8;id=640540;https://tidy3d.simulation.cloud/workbench?taskId=fdve-dbd2a56a-6c77-4475-933b-424e8fc74d1b\u001b\\\u001b[32m=\u001b[0m\u001b]8;;\u001b\\\u001b]8;id=756088;https://tidy3d.simulation.cloud/workbench?taskId=fdve-dbd2a56a-6c77-4475-933b-424e8fc74d1b\u001b\\\u001b[32mfdve\u001b[0m\u001b]8;;\u001b\\\u001b]8;id=640540;https://tidy3d.simulation.cloud/workbench?taskId=fdve-dbd2a56a-6c77-4475-933b-424e8fc74d1b\u001b\\\u001b[32m-dbd2a56a-6c77-4475-933b-424e8fc74d1b'\u001b[0m\u001b]8;;\u001b\\.     \n"
      ]
     },
     "metadata": {},
     "output_type": "display_data"
    },
    {
     "data": {
      "application/vnd.jupyter.widget-view+json": {
       "model_id": "dfc7853e88c744cc83a554a77ca0313c",
       "version_major": 2,
       "version_minor": 0
      },
      "text/plain": [
       "Output()"
      ]
     },
     "metadata": {},
     "output_type": "display_data"
    },
    {
     "data": {
      "text/html": [
       "<pre style=\"white-space:pre;overflow-x:auto;line-height:normal;font-family:Menlo,'DejaVu Sans Mono',consolas,'Courier New',monospace\"></pre>\n"
      ],
      "text/plain": []
     },
     "metadata": {},
     "output_type": "display_data"
    },
    {
     "data": {
      "text/html": [
       "<pre style=\"white-space:pre;overflow-x:auto;line-height:normal;font-family:Menlo,'DejaVu Sans Mono',consolas,'Courier New',monospace\">\n",
       "</pre>\n"
      ],
      "text/plain": [
       "\n"
      ]
     },
     "metadata": {},
     "output_type": "display_data"
    },
    {
     "data": {
      "text/html": [
       "<pre style=\"white-space:pre;overflow-x:auto;line-height:normal;font-family:Menlo,'DejaVu Sans Mono',consolas,'Courier New',monospace\"><span style=\"color: #7fbfbf; text-decoration-color: #7fbfbf\">19:07:02 Eastern Standard Time </span>Created task <span style=\"color: #008000; text-decoration-color: #008000\">'L_0=0.16'</span> with task_id             \n",
       "<span style=\"color: #7fbfbf; text-decoration-color: #7fbfbf\">                               </span><span style=\"color: #008000; text-decoration-color: #008000\">'fdve-bebc6827-3cf7-4b94-bb2c-3eedd7d3afa3'</span> and  \n",
       "<span style=\"color: #7fbfbf; text-decoration-color: #7fbfbf\">                               </span>task_type <span style=\"color: #008000; text-decoration-color: #008000\">'FDTD'</span>.                                \n",
       "</pre>\n"
      ],
      "text/plain": [
       "\u001b[2;36m19:07:02 Eastern Standard Time\u001b[0m\u001b[2;36m \u001b[0mCreated task \u001b[32m'\u001b[0m\u001b[32mL_0\u001b[0m\u001b[32m=\u001b[0m\u001b[32m0\u001b[0m\u001b[32m.16'\u001b[0m with task_id             \n",
       "\u001b[2;36m                               \u001b[0m\u001b[32m'fdve-bebc6827-3cf7-4b94-bb2c-3eedd7d3afa3'\u001b[0m and  \n",
       "\u001b[2;36m                               \u001b[0mtask_type \u001b[32m'FDTD'\u001b[0m.                                \n"
      ]
     },
     "metadata": {},
     "output_type": "display_data"
    },
    {
     "data": {
      "text/html": [
       "<pre style=\"white-space:pre;overflow-x:auto;line-height:normal;font-family:Menlo,'DejaVu Sans Mono',consolas,'Courier New',monospace\"><span style=\"color: #7fbfbf; text-decoration-color: #7fbfbf\">                               </span>View task using web UI at                        \n",
       "<span style=\"color: #7fbfbf; text-decoration-color: #7fbfbf\">                               </span><a href=\"https://tidy3d.simulation.cloud/workbench?taskId=fdve-bebc6827-3cf7-4b94-bb2c-3eedd7d3afa3\" target=\"_blank\"><span style=\"color: #008000; text-decoration-color: #008000\">'https://tidy3d.simulation.cloud/workbench?taskId</span></a>\n",
       "<span style=\"color: #7fbfbf; text-decoration-color: #7fbfbf\">                               </span><a href=\"https://tidy3d.simulation.cloud/workbench?taskId=fdve-bebc6827-3cf7-4b94-bb2c-3eedd7d3afa3\" target=\"_blank\"><span style=\"color: #008000; text-decoration-color: #008000\">=fdve-bebc6827-3cf7-4b94-bb2c-3eedd7d3afa3'</span></a>.     \n",
       "</pre>\n"
      ],
      "text/plain": [
       "\u001b[2;36m                              \u001b[0m\u001b[2;36m \u001b[0mView task using web UI at                        \n",
       "\u001b[2;36m                               \u001b[0m\u001b]8;id=218592;https://tidy3d.simulation.cloud/workbench?taskId=fdve-bebc6827-3cf7-4b94-bb2c-3eedd7d3afa3\u001b\\\u001b[32m'https://tidy3d.simulation.cloud/workbench?\u001b[0m\u001b]8;;\u001b\\\u001b]8;id=235269;https://tidy3d.simulation.cloud/workbench?taskId=fdve-bebc6827-3cf7-4b94-bb2c-3eedd7d3afa3\u001b\\\u001b[32mtaskId\u001b[0m\u001b]8;;\u001b\\\n",
       "\u001b[2;36m                               \u001b[0m\u001b]8;id=218592;https://tidy3d.simulation.cloud/workbench?taskId=fdve-bebc6827-3cf7-4b94-bb2c-3eedd7d3afa3\u001b\\\u001b[32m=\u001b[0m\u001b]8;;\u001b\\\u001b]8;id=683366;https://tidy3d.simulation.cloud/workbench?taskId=fdve-bebc6827-3cf7-4b94-bb2c-3eedd7d3afa3\u001b\\\u001b[32mfdve\u001b[0m\u001b]8;;\u001b\\\u001b]8;id=218592;https://tidy3d.simulation.cloud/workbench?taskId=fdve-bebc6827-3cf7-4b94-bb2c-3eedd7d3afa3\u001b\\\u001b[32m-bebc6827-3cf7-4b94-bb2c-3eedd7d3afa3'\u001b[0m\u001b]8;;\u001b\\.     \n"
      ]
     },
     "metadata": {},
     "output_type": "display_data"
    },
    {
     "data": {
      "application/vnd.jupyter.widget-view+json": {
       "model_id": "58d79d3be5cc4945bf8a22b049be92db",
       "version_major": 2,
       "version_minor": 0
      },
      "text/plain": [
       "Output()"
      ]
     },
     "metadata": {},
     "output_type": "display_data"
    },
    {
     "data": {
      "text/html": [
       "<pre style=\"white-space:pre;overflow-x:auto;line-height:normal;font-family:Menlo,'DejaVu Sans Mono',consolas,'Courier New',monospace\"></pre>\n"
      ],
      "text/plain": []
     },
     "metadata": {},
     "output_type": "display_data"
    },
    {
     "data": {
      "text/html": [
       "<pre style=\"white-space:pre;overflow-x:auto;line-height:normal;font-family:Menlo,'DejaVu Sans Mono',consolas,'Courier New',monospace\">\n",
       "</pre>\n"
      ],
      "text/plain": [
       "\n"
      ]
     },
     "metadata": {},
     "output_type": "display_data"
    },
    {
     "data": {
      "text/html": [
       "<pre style=\"white-space:pre;overflow-x:auto;line-height:normal;font-family:Menlo,'DejaVu Sans Mono',consolas,'Courier New',monospace\"><span style=\"color: #7fbfbf; text-decoration-color: #7fbfbf\">                               </span>Created task <span style=\"color: #008000; text-decoration-color: #008000\">'L_0=0.17'</span> with task_id             \n",
       "<span style=\"color: #7fbfbf; text-decoration-color: #7fbfbf\">                               </span><span style=\"color: #008000; text-decoration-color: #008000\">'fdve-3e9eb8c8-97bd-4e0e-a795-47a298bf3e01'</span> and  \n",
       "<span style=\"color: #7fbfbf; text-decoration-color: #7fbfbf\">                               </span>task_type <span style=\"color: #008000; text-decoration-color: #008000\">'FDTD'</span>.                                \n",
       "</pre>\n"
      ],
      "text/plain": [
       "\u001b[2;36m                              \u001b[0m\u001b[2;36m \u001b[0mCreated task \u001b[32m'\u001b[0m\u001b[32mL_0\u001b[0m\u001b[32m=\u001b[0m\u001b[32m0\u001b[0m\u001b[32m.17'\u001b[0m with task_id             \n",
       "\u001b[2;36m                               \u001b[0m\u001b[32m'fdve-3e9eb8c8-97bd-4e0e-a795-47a298bf3e01'\u001b[0m and  \n",
       "\u001b[2;36m                               \u001b[0mtask_type \u001b[32m'FDTD'\u001b[0m.                                \n"
      ]
     },
     "metadata": {},
     "output_type": "display_data"
    },
    {
     "data": {
      "text/html": [
       "<pre style=\"white-space:pre;overflow-x:auto;line-height:normal;font-family:Menlo,'DejaVu Sans Mono',consolas,'Courier New',monospace\"><span style=\"color: #7fbfbf; text-decoration-color: #7fbfbf\">                               </span>View task using web UI at                        \n",
       "<span style=\"color: #7fbfbf; text-decoration-color: #7fbfbf\">                               </span><a href=\"https://tidy3d.simulation.cloud/workbench?taskId=fdve-3e9eb8c8-97bd-4e0e-a795-47a298bf3e01\" target=\"_blank\"><span style=\"color: #008000; text-decoration-color: #008000\">'https://tidy3d.simulation.cloud/workbench?taskId</span></a>\n",
       "<span style=\"color: #7fbfbf; text-decoration-color: #7fbfbf\">                               </span><a href=\"https://tidy3d.simulation.cloud/workbench?taskId=fdve-3e9eb8c8-97bd-4e0e-a795-47a298bf3e01\" target=\"_blank\"><span style=\"color: #008000; text-decoration-color: #008000\">=fdve-3e9eb8c8-97bd-4e0e-a795-47a298bf3e01'</span></a>.     \n",
       "</pre>\n"
      ],
      "text/plain": [
       "\u001b[2;36m                              \u001b[0m\u001b[2;36m \u001b[0mView task using web UI at                        \n",
       "\u001b[2;36m                               \u001b[0m\u001b]8;id=271520;https://tidy3d.simulation.cloud/workbench?taskId=fdve-3e9eb8c8-97bd-4e0e-a795-47a298bf3e01\u001b\\\u001b[32m'https://tidy3d.simulation.cloud/workbench?\u001b[0m\u001b]8;;\u001b\\\u001b]8;id=81058;https://tidy3d.simulation.cloud/workbench?taskId=fdve-3e9eb8c8-97bd-4e0e-a795-47a298bf3e01\u001b\\\u001b[32mtaskId\u001b[0m\u001b]8;;\u001b\\\n",
       "\u001b[2;36m                               \u001b[0m\u001b]8;id=271520;https://tidy3d.simulation.cloud/workbench?taskId=fdve-3e9eb8c8-97bd-4e0e-a795-47a298bf3e01\u001b\\\u001b[32m=\u001b[0m\u001b]8;;\u001b\\\u001b]8;id=995168;https://tidy3d.simulation.cloud/workbench?taskId=fdve-3e9eb8c8-97bd-4e0e-a795-47a298bf3e01\u001b\\\u001b[32mfdve\u001b[0m\u001b]8;;\u001b\\\u001b]8;id=271520;https://tidy3d.simulation.cloud/workbench?taskId=fdve-3e9eb8c8-97bd-4e0e-a795-47a298bf3e01\u001b\\\u001b[32m-3e9eb8c8-97bd-4e0e-a795-47a298bf3e01'\u001b[0m\u001b]8;;\u001b\\.     \n"
      ]
     },
     "metadata": {},
     "output_type": "display_data"
    },
    {
     "data": {
      "application/vnd.jupyter.widget-view+json": {
       "model_id": "f193580f790f430db8697c9887f5ed76",
       "version_major": 2,
       "version_minor": 0
      },
      "text/plain": [
       "Output()"
      ]
     },
     "metadata": {},
     "output_type": "display_data"
    },
    {
     "data": {
      "text/html": [
       "<pre style=\"white-space:pre;overflow-x:auto;line-height:normal;font-family:Menlo,'DejaVu Sans Mono',consolas,'Courier New',monospace\"></pre>\n"
      ],
      "text/plain": []
     },
     "metadata": {},
     "output_type": "display_data"
    },
    {
     "data": {
      "text/html": [
       "<pre style=\"white-space:pre;overflow-x:auto;line-height:normal;font-family:Menlo,'DejaVu Sans Mono',consolas,'Courier New',monospace\">\n",
       "</pre>\n"
      ],
      "text/plain": [
       "\n"
      ]
     },
     "metadata": {},
     "output_type": "display_data"
    },
    {
     "data": {
      "text/html": [
       "<pre style=\"white-space:pre;overflow-x:auto;line-height:normal;font-family:Menlo,'DejaVu Sans Mono',consolas,'Courier New',monospace\"><span style=\"color: #7fbfbf; text-decoration-color: #7fbfbf\">19:07:03 Eastern Standard Time </span>Created task <span style=\"color: #008000; text-decoration-color: #008000\">'L_0=0.18'</span> with task_id             \n",
       "<span style=\"color: #7fbfbf; text-decoration-color: #7fbfbf\">                               </span><span style=\"color: #008000; text-decoration-color: #008000\">'fdve-df9d41a7-4829-427a-b52a-9acb38aa7c60'</span> and  \n",
       "<span style=\"color: #7fbfbf; text-decoration-color: #7fbfbf\">                               </span>task_type <span style=\"color: #008000; text-decoration-color: #008000\">'FDTD'</span>.                                \n",
       "</pre>\n"
      ],
      "text/plain": [
       "\u001b[2;36m19:07:03 Eastern Standard Time\u001b[0m\u001b[2;36m \u001b[0mCreated task \u001b[32m'\u001b[0m\u001b[32mL_0\u001b[0m\u001b[32m=\u001b[0m\u001b[32m0\u001b[0m\u001b[32m.18'\u001b[0m with task_id             \n",
       "\u001b[2;36m                               \u001b[0m\u001b[32m'fdve-df9d41a7-4829-427a-b52a-9acb38aa7c60'\u001b[0m and  \n",
       "\u001b[2;36m                               \u001b[0mtask_type \u001b[32m'FDTD'\u001b[0m.                                \n"
      ]
     },
     "metadata": {},
     "output_type": "display_data"
    },
    {
     "data": {
      "text/html": [
       "<pre style=\"white-space:pre;overflow-x:auto;line-height:normal;font-family:Menlo,'DejaVu Sans Mono',consolas,'Courier New',monospace\"><span style=\"color: #7fbfbf; text-decoration-color: #7fbfbf\">                               </span>View task using web UI at                        \n",
       "<span style=\"color: #7fbfbf; text-decoration-color: #7fbfbf\">                               </span><a href=\"https://tidy3d.simulation.cloud/workbench?taskId=fdve-df9d41a7-4829-427a-b52a-9acb38aa7c60\" target=\"_blank\"><span style=\"color: #008000; text-decoration-color: #008000\">'https://tidy3d.simulation.cloud/workbench?taskId</span></a>\n",
       "<span style=\"color: #7fbfbf; text-decoration-color: #7fbfbf\">                               </span><a href=\"https://tidy3d.simulation.cloud/workbench?taskId=fdve-df9d41a7-4829-427a-b52a-9acb38aa7c60\" target=\"_blank\"><span style=\"color: #008000; text-decoration-color: #008000\">=fdve-df9d41a7-4829-427a-b52a-9acb38aa7c60'</span></a>.     \n",
       "</pre>\n"
      ],
      "text/plain": [
       "\u001b[2;36m                              \u001b[0m\u001b[2;36m \u001b[0mView task using web UI at                        \n",
       "\u001b[2;36m                               \u001b[0m\u001b]8;id=129389;https://tidy3d.simulation.cloud/workbench?taskId=fdve-df9d41a7-4829-427a-b52a-9acb38aa7c60\u001b\\\u001b[32m'https://tidy3d.simulation.cloud/workbench?\u001b[0m\u001b]8;;\u001b\\\u001b]8;id=510782;https://tidy3d.simulation.cloud/workbench?taskId=fdve-df9d41a7-4829-427a-b52a-9acb38aa7c60\u001b\\\u001b[32mtaskId\u001b[0m\u001b]8;;\u001b\\\n",
       "\u001b[2;36m                               \u001b[0m\u001b]8;id=129389;https://tidy3d.simulation.cloud/workbench?taskId=fdve-df9d41a7-4829-427a-b52a-9acb38aa7c60\u001b\\\u001b[32m=\u001b[0m\u001b]8;;\u001b\\\u001b]8;id=540140;https://tidy3d.simulation.cloud/workbench?taskId=fdve-df9d41a7-4829-427a-b52a-9acb38aa7c60\u001b\\\u001b[32mfdve\u001b[0m\u001b]8;;\u001b\\\u001b]8;id=129389;https://tidy3d.simulation.cloud/workbench?taskId=fdve-df9d41a7-4829-427a-b52a-9acb38aa7c60\u001b\\\u001b[32m-df9d41a7-4829-427a-b52a-9acb38aa7c60'\u001b[0m\u001b]8;;\u001b\\.     \n"
      ]
     },
     "metadata": {},
     "output_type": "display_data"
    },
    {
     "data": {
      "application/vnd.jupyter.widget-view+json": {
       "model_id": "14ac1ec11cfc4c61aa0e5e82f828c9a3",
       "version_major": 2,
       "version_minor": 0
      },
      "text/plain": [
       "Output()"
      ]
     },
     "metadata": {},
     "output_type": "display_data"
    },
    {
     "data": {
      "text/html": [
       "<pre style=\"white-space:pre;overflow-x:auto;line-height:normal;font-family:Menlo,'DejaVu Sans Mono',consolas,'Courier New',monospace\"></pre>\n"
      ],
      "text/plain": []
     },
     "metadata": {},
     "output_type": "display_data"
    },
    {
     "data": {
      "text/html": [
       "<pre style=\"white-space:pre;overflow-x:auto;line-height:normal;font-family:Menlo,'DejaVu Sans Mono',consolas,'Courier New',monospace\">\n",
       "</pre>\n"
      ],
      "text/plain": [
       "\n"
      ]
     },
     "metadata": {},
     "output_type": "display_data"
    },
    {
     "data": {
      "text/html": [
       "<pre style=\"white-space:pre;overflow-x:auto;line-height:normal;font-family:Menlo,'DejaVu Sans Mono',consolas,'Courier New',monospace\"><span style=\"color: #7fbfbf; text-decoration-color: #7fbfbf\">19:07:04 Eastern Standard Time </span>Created task <span style=\"color: #008000; text-decoration-color: #008000\">'L_0=0.19'</span> with task_id             \n",
       "<span style=\"color: #7fbfbf; text-decoration-color: #7fbfbf\">                               </span><span style=\"color: #008000; text-decoration-color: #008000\">'fdve-6bfd86ec-fae8-4133-870e-f448e7af15a3'</span> and  \n",
       "<span style=\"color: #7fbfbf; text-decoration-color: #7fbfbf\">                               </span>task_type <span style=\"color: #008000; text-decoration-color: #008000\">'FDTD'</span>.                                \n",
       "</pre>\n"
      ],
      "text/plain": [
       "\u001b[2;36m19:07:04 Eastern Standard Time\u001b[0m\u001b[2;36m \u001b[0mCreated task \u001b[32m'\u001b[0m\u001b[32mL_0\u001b[0m\u001b[32m=\u001b[0m\u001b[32m0\u001b[0m\u001b[32m.19'\u001b[0m with task_id             \n",
       "\u001b[2;36m                               \u001b[0m\u001b[32m'fdve-6bfd86ec-fae8-4133-870e-f448e7af15a3'\u001b[0m and  \n",
       "\u001b[2;36m                               \u001b[0mtask_type \u001b[32m'FDTD'\u001b[0m.                                \n"
      ]
     },
     "metadata": {},
     "output_type": "display_data"
    },
    {
     "data": {
      "text/html": [
       "<pre style=\"white-space:pre;overflow-x:auto;line-height:normal;font-family:Menlo,'DejaVu Sans Mono',consolas,'Courier New',monospace\"><span style=\"color: #7fbfbf; text-decoration-color: #7fbfbf\">                               </span>View task using web UI at                        \n",
       "<span style=\"color: #7fbfbf; text-decoration-color: #7fbfbf\">                               </span><a href=\"https://tidy3d.simulation.cloud/workbench?taskId=fdve-6bfd86ec-fae8-4133-870e-f448e7af15a3\" target=\"_blank\"><span style=\"color: #008000; text-decoration-color: #008000\">'https://tidy3d.simulation.cloud/workbench?taskId</span></a>\n",
       "<span style=\"color: #7fbfbf; text-decoration-color: #7fbfbf\">                               </span><a href=\"https://tidy3d.simulation.cloud/workbench?taskId=fdve-6bfd86ec-fae8-4133-870e-f448e7af15a3\" target=\"_blank\"><span style=\"color: #008000; text-decoration-color: #008000\">=fdve-6bfd86ec-fae8-4133-870e-f448e7af15a3'</span></a>.     \n",
       "</pre>\n"
      ],
      "text/plain": [
       "\u001b[2;36m                              \u001b[0m\u001b[2;36m \u001b[0mView task using web UI at                        \n",
       "\u001b[2;36m                               \u001b[0m\u001b]8;id=66503;https://tidy3d.simulation.cloud/workbench?taskId=fdve-6bfd86ec-fae8-4133-870e-f448e7af15a3\u001b\\\u001b[32m'https://tidy3d.simulation.cloud/workbench?\u001b[0m\u001b]8;;\u001b\\\u001b]8;id=87387;https://tidy3d.simulation.cloud/workbench?taskId=fdve-6bfd86ec-fae8-4133-870e-f448e7af15a3\u001b\\\u001b[32mtaskId\u001b[0m\u001b]8;;\u001b\\\n",
       "\u001b[2;36m                               \u001b[0m\u001b]8;id=66503;https://tidy3d.simulation.cloud/workbench?taskId=fdve-6bfd86ec-fae8-4133-870e-f448e7af15a3\u001b\\\u001b[32m=\u001b[0m\u001b]8;;\u001b\\\u001b]8;id=784138;https://tidy3d.simulation.cloud/workbench?taskId=fdve-6bfd86ec-fae8-4133-870e-f448e7af15a3\u001b\\\u001b[32mfdve\u001b[0m\u001b]8;;\u001b\\\u001b]8;id=66503;https://tidy3d.simulation.cloud/workbench?taskId=fdve-6bfd86ec-fae8-4133-870e-f448e7af15a3\u001b\\\u001b[32m-6bfd86ec-fae8-4133-870e-f448e7af15a3'\u001b[0m\u001b]8;;\u001b\\.     \n"
      ]
     },
     "metadata": {},
     "output_type": "display_data"
    },
    {
     "data": {
      "application/vnd.jupyter.widget-view+json": {
       "model_id": "995945070f514d1c928a1f1f905e03f1",
       "version_major": 2,
       "version_minor": 0
      },
      "text/plain": [
       "Output()"
      ]
     },
     "metadata": {},
     "output_type": "display_data"
    },
    {
     "data": {
      "text/html": [
       "<pre style=\"white-space:pre;overflow-x:auto;line-height:normal;font-family:Menlo,'DejaVu Sans Mono',consolas,'Courier New',monospace\"></pre>\n"
      ],
      "text/plain": []
     },
     "metadata": {},
     "output_type": "display_data"
    },
    {
     "data": {
      "text/html": [
       "<pre style=\"white-space:pre;overflow-x:auto;line-height:normal;font-family:Menlo,'DejaVu Sans Mono',consolas,'Courier New',monospace\">\n",
       "</pre>\n"
      ],
      "text/plain": [
       "\n"
      ]
     },
     "metadata": {},
     "output_type": "display_data"
    },
    {
     "data": {
      "text/html": [
       "<pre style=\"white-space:pre;overflow-x:auto;line-height:normal;font-family:Menlo,'DejaVu Sans Mono',consolas,'Courier New',monospace\"><span style=\"color: #7fbfbf; text-decoration-color: #7fbfbf\">19:07:05 Eastern Standard Time </span>Created task <span style=\"color: #008000; text-decoration-color: #008000\">'L_0=0.20'</span> with task_id             \n",
       "<span style=\"color: #7fbfbf; text-decoration-color: #7fbfbf\">                               </span><span style=\"color: #008000; text-decoration-color: #008000\">'fdve-56075e65-57d3-4ce8-8f1a-c23fa93ee978'</span> and  \n",
       "<span style=\"color: #7fbfbf; text-decoration-color: #7fbfbf\">                               </span>task_type <span style=\"color: #008000; text-decoration-color: #008000\">'FDTD'</span>.                                \n",
       "</pre>\n"
      ],
      "text/plain": [
       "\u001b[2;36m19:07:05 Eastern Standard Time\u001b[0m\u001b[2;36m \u001b[0mCreated task \u001b[32m'\u001b[0m\u001b[32mL_0\u001b[0m\u001b[32m=\u001b[0m\u001b[32m0\u001b[0m\u001b[32m.20'\u001b[0m with task_id             \n",
       "\u001b[2;36m                               \u001b[0m\u001b[32m'fdve-56075e65-57d3-4ce8-8f1a-c23fa93ee978'\u001b[0m and  \n",
       "\u001b[2;36m                               \u001b[0mtask_type \u001b[32m'FDTD'\u001b[0m.                                \n"
      ]
     },
     "metadata": {},
     "output_type": "display_data"
    },
    {
     "data": {
      "text/html": [
       "<pre style=\"white-space:pre;overflow-x:auto;line-height:normal;font-family:Menlo,'DejaVu Sans Mono',consolas,'Courier New',monospace\"><span style=\"color: #7fbfbf; text-decoration-color: #7fbfbf\">                               </span>View task using web UI at                        \n",
       "<span style=\"color: #7fbfbf; text-decoration-color: #7fbfbf\">                               </span><a href=\"https://tidy3d.simulation.cloud/workbench?taskId=fdve-56075e65-57d3-4ce8-8f1a-c23fa93ee978\" target=\"_blank\"><span style=\"color: #008000; text-decoration-color: #008000\">'https://tidy3d.simulation.cloud/workbench?taskId</span></a>\n",
       "<span style=\"color: #7fbfbf; text-decoration-color: #7fbfbf\">                               </span><a href=\"https://tidy3d.simulation.cloud/workbench?taskId=fdve-56075e65-57d3-4ce8-8f1a-c23fa93ee978\" target=\"_blank\"><span style=\"color: #008000; text-decoration-color: #008000\">=fdve-56075e65-57d3-4ce8-8f1a-c23fa93ee978'</span></a>.     \n",
       "</pre>\n"
      ],
      "text/plain": [
       "\u001b[2;36m                              \u001b[0m\u001b[2;36m \u001b[0mView task using web UI at                        \n",
       "\u001b[2;36m                               \u001b[0m\u001b]8;id=533309;https://tidy3d.simulation.cloud/workbench?taskId=fdve-56075e65-57d3-4ce8-8f1a-c23fa93ee978\u001b\\\u001b[32m'https://tidy3d.simulation.cloud/workbench?\u001b[0m\u001b]8;;\u001b\\\u001b]8;id=485193;https://tidy3d.simulation.cloud/workbench?taskId=fdve-56075e65-57d3-4ce8-8f1a-c23fa93ee978\u001b\\\u001b[32mtaskId\u001b[0m\u001b]8;;\u001b\\\n",
       "\u001b[2;36m                               \u001b[0m\u001b]8;id=533309;https://tidy3d.simulation.cloud/workbench?taskId=fdve-56075e65-57d3-4ce8-8f1a-c23fa93ee978\u001b\\\u001b[32m=\u001b[0m\u001b]8;;\u001b\\\u001b]8;id=496775;https://tidy3d.simulation.cloud/workbench?taskId=fdve-56075e65-57d3-4ce8-8f1a-c23fa93ee978\u001b\\\u001b[32mfdve\u001b[0m\u001b]8;;\u001b\\\u001b]8;id=533309;https://tidy3d.simulation.cloud/workbench?taskId=fdve-56075e65-57d3-4ce8-8f1a-c23fa93ee978\u001b\\\u001b[32m-56075e65-57d3-4ce8-8f1a-c23fa93ee978'\u001b[0m\u001b]8;;\u001b\\.     \n"
      ]
     },
     "metadata": {},
     "output_type": "display_data"
    },
    {
     "data": {
      "application/vnd.jupyter.widget-view+json": {
       "model_id": "4085b837252945e5964a6e23b0deb2cc",
       "version_major": 2,
       "version_minor": 0
      },
      "text/plain": [
       "Output()"
      ]
     },
     "metadata": {},
     "output_type": "display_data"
    },
    {
     "data": {
      "text/html": [
       "<pre style=\"white-space:pre;overflow-x:auto;line-height:normal;font-family:Menlo,'DejaVu Sans Mono',consolas,'Courier New',monospace\"></pre>\n"
      ],
      "text/plain": []
     },
     "metadata": {},
     "output_type": "display_data"
    },
    {
     "data": {
      "text/html": [
       "<pre style=\"white-space:pre;overflow-x:auto;line-height:normal;font-family:Menlo,'DejaVu Sans Mono',consolas,'Courier New',monospace\">\n",
       "</pre>\n"
      ],
      "text/plain": [
       "\n"
      ]
     },
     "metadata": {},
     "output_type": "display_data"
    },
    {
     "data": {
      "text/html": [
       "<pre style=\"white-space:pre;overflow-x:auto;line-height:normal;font-family:Menlo,'DejaVu Sans Mono',consolas,'Courier New',monospace\"><span style=\"color: #7fbfbf; text-decoration-color: #7fbfbf\">19:07:06 Eastern Standard Time </span>Created task <span style=\"color: #008000; text-decoration-color: #008000\">'L_0=0.21'</span> with task_id             \n",
       "<span style=\"color: #7fbfbf; text-decoration-color: #7fbfbf\">                               </span><span style=\"color: #008000; text-decoration-color: #008000\">'fdve-4c29fdc9-b531-470d-8bcd-c7c401c27cbf'</span> and  \n",
       "<span style=\"color: #7fbfbf; text-decoration-color: #7fbfbf\">                               </span>task_type <span style=\"color: #008000; text-decoration-color: #008000\">'FDTD'</span>.                                \n",
       "</pre>\n"
      ],
      "text/plain": [
       "\u001b[2;36m19:07:06 Eastern Standard Time\u001b[0m\u001b[2;36m \u001b[0mCreated task \u001b[32m'\u001b[0m\u001b[32mL_0\u001b[0m\u001b[32m=\u001b[0m\u001b[32m0\u001b[0m\u001b[32m.21'\u001b[0m with task_id             \n",
       "\u001b[2;36m                               \u001b[0m\u001b[32m'fdve-4c29fdc9-b531-470d-8bcd-c7c401c27cbf'\u001b[0m and  \n",
       "\u001b[2;36m                               \u001b[0mtask_type \u001b[32m'FDTD'\u001b[0m.                                \n"
      ]
     },
     "metadata": {},
     "output_type": "display_data"
    },
    {
     "data": {
      "text/html": [
       "<pre style=\"white-space:pre;overflow-x:auto;line-height:normal;font-family:Menlo,'DejaVu Sans Mono',consolas,'Courier New',monospace\"><span style=\"color: #7fbfbf; text-decoration-color: #7fbfbf\">                               </span>View task using web UI at                        \n",
       "<span style=\"color: #7fbfbf; text-decoration-color: #7fbfbf\">                               </span><a href=\"https://tidy3d.simulation.cloud/workbench?taskId=fdve-4c29fdc9-b531-470d-8bcd-c7c401c27cbf\" target=\"_blank\"><span style=\"color: #008000; text-decoration-color: #008000\">'https://tidy3d.simulation.cloud/workbench?taskId</span></a>\n",
       "<span style=\"color: #7fbfbf; text-decoration-color: #7fbfbf\">                               </span><a href=\"https://tidy3d.simulation.cloud/workbench?taskId=fdve-4c29fdc9-b531-470d-8bcd-c7c401c27cbf\" target=\"_blank\"><span style=\"color: #008000; text-decoration-color: #008000\">=fdve-4c29fdc9-b531-470d-8bcd-c7c401c27cbf'</span></a>.     \n",
       "</pre>\n"
      ],
      "text/plain": [
       "\u001b[2;36m                              \u001b[0m\u001b[2;36m \u001b[0mView task using web UI at                        \n",
       "\u001b[2;36m                               \u001b[0m\u001b]8;id=294713;https://tidy3d.simulation.cloud/workbench?taskId=fdve-4c29fdc9-b531-470d-8bcd-c7c401c27cbf\u001b\\\u001b[32m'https://tidy3d.simulation.cloud/workbench?\u001b[0m\u001b]8;;\u001b\\\u001b]8;id=366586;https://tidy3d.simulation.cloud/workbench?taskId=fdve-4c29fdc9-b531-470d-8bcd-c7c401c27cbf\u001b\\\u001b[32mtaskId\u001b[0m\u001b]8;;\u001b\\\n",
       "\u001b[2;36m                               \u001b[0m\u001b]8;id=294713;https://tidy3d.simulation.cloud/workbench?taskId=fdve-4c29fdc9-b531-470d-8bcd-c7c401c27cbf\u001b\\\u001b[32m=\u001b[0m\u001b]8;;\u001b\\\u001b]8;id=963342;https://tidy3d.simulation.cloud/workbench?taskId=fdve-4c29fdc9-b531-470d-8bcd-c7c401c27cbf\u001b\\\u001b[32mfdve\u001b[0m\u001b]8;;\u001b\\\u001b]8;id=294713;https://tidy3d.simulation.cloud/workbench?taskId=fdve-4c29fdc9-b531-470d-8bcd-c7c401c27cbf\u001b\\\u001b[32m-4c29fdc9-b531-470d-8bcd-c7c401c27cbf'\u001b[0m\u001b]8;;\u001b\\.     \n"
      ]
     },
     "metadata": {},
     "output_type": "display_data"
    },
    {
     "data": {
      "application/vnd.jupyter.widget-view+json": {
       "model_id": "99e6a62ad4f547efafb15c90348b0722",
       "version_major": 2,
       "version_minor": 0
      },
      "text/plain": [
       "Output()"
      ]
     },
     "metadata": {},
     "output_type": "display_data"
    },
    {
     "data": {
      "text/html": [
       "<pre style=\"white-space:pre;overflow-x:auto;line-height:normal;font-family:Menlo,'DejaVu Sans Mono',consolas,'Courier New',monospace\"></pre>\n"
      ],
      "text/plain": []
     },
     "metadata": {},
     "output_type": "display_data"
    },
    {
     "data": {
      "text/html": [
       "<pre style=\"white-space:pre;overflow-x:auto;line-height:normal;font-family:Menlo,'DejaVu Sans Mono',consolas,'Courier New',monospace\">\n",
       "</pre>\n"
      ],
      "text/plain": [
       "\n"
      ]
     },
     "metadata": {},
     "output_type": "display_data"
    },
    {
     "data": {
      "text/html": [
       "<pre style=\"white-space:pre;overflow-x:auto;line-height:normal;font-family:Menlo,'DejaVu Sans Mono',consolas,'Courier New',monospace\"><span style=\"color: #7fbfbf; text-decoration-color: #7fbfbf\">19:07:07 Eastern Standard Time </span>Created task <span style=\"color: #008000; text-decoration-color: #008000\">'L_0=0.22'</span> with task_id             \n",
       "<span style=\"color: #7fbfbf; text-decoration-color: #7fbfbf\">                               </span><span style=\"color: #008000; text-decoration-color: #008000\">'fdve-ce109dd3-3b23-4f5a-86b7-96b933d60325'</span> and  \n",
       "<span style=\"color: #7fbfbf; text-decoration-color: #7fbfbf\">                               </span>task_type <span style=\"color: #008000; text-decoration-color: #008000\">'FDTD'</span>.                                \n",
       "</pre>\n"
      ],
      "text/plain": [
       "\u001b[2;36m19:07:07 Eastern Standard Time\u001b[0m\u001b[2;36m \u001b[0mCreated task \u001b[32m'\u001b[0m\u001b[32mL_0\u001b[0m\u001b[32m=\u001b[0m\u001b[32m0\u001b[0m\u001b[32m.22'\u001b[0m with task_id             \n",
       "\u001b[2;36m                               \u001b[0m\u001b[32m'fdve-ce109dd3-3b23-4f5a-86b7-96b933d60325'\u001b[0m and  \n",
       "\u001b[2;36m                               \u001b[0mtask_type \u001b[32m'FDTD'\u001b[0m.                                \n"
      ]
     },
     "metadata": {},
     "output_type": "display_data"
    },
    {
     "data": {
      "text/html": [
       "<pre style=\"white-space:pre;overflow-x:auto;line-height:normal;font-family:Menlo,'DejaVu Sans Mono',consolas,'Courier New',monospace\"><span style=\"color: #7fbfbf; text-decoration-color: #7fbfbf\">                               </span>View task using web UI at                        \n",
       "<span style=\"color: #7fbfbf; text-decoration-color: #7fbfbf\">                               </span><a href=\"https://tidy3d.simulation.cloud/workbench?taskId=fdve-ce109dd3-3b23-4f5a-86b7-96b933d60325\" target=\"_blank\"><span style=\"color: #008000; text-decoration-color: #008000\">'https://tidy3d.simulation.cloud/workbench?taskId</span></a>\n",
       "<span style=\"color: #7fbfbf; text-decoration-color: #7fbfbf\">                               </span><a href=\"https://tidy3d.simulation.cloud/workbench?taskId=fdve-ce109dd3-3b23-4f5a-86b7-96b933d60325\" target=\"_blank\"><span style=\"color: #008000; text-decoration-color: #008000\">=fdve-ce109dd3-3b23-4f5a-86b7-96b933d60325'</span></a>.     \n",
       "</pre>\n"
      ],
      "text/plain": [
       "\u001b[2;36m                              \u001b[0m\u001b[2;36m \u001b[0mView task using web UI at                        \n",
       "\u001b[2;36m                               \u001b[0m\u001b]8;id=706917;https://tidy3d.simulation.cloud/workbench?taskId=fdve-ce109dd3-3b23-4f5a-86b7-96b933d60325\u001b\\\u001b[32m'https://tidy3d.simulation.cloud/workbench?\u001b[0m\u001b]8;;\u001b\\\u001b]8;id=638234;https://tidy3d.simulation.cloud/workbench?taskId=fdve-ce109dd3-3b23-4f5a-86b7-96b933d60325\u001b\\\u001b[32mtaskId\u001b[0m\u001b]8;;\u001b\\\n",
       "\u001b[2;36m                               \u001b[0m\u001b]8;id=706917;https://tidy3d.simulation.cloud/workbench?taskId=fdve-ce109dd3-3b23-4f5a-86b7-96b933d60325\u001b\\\u001b[32m=\u001b[0m\u001b]8;;\u001b\\\u001b]8;id=172136;https://tidy3d.simulation.cloud/workbench?taskId=fdve-ce109dd3-3b23-4f5a-86b7-96b933d60325\u001b\\\u001b[32mfdve\u001b[0m\u001b]8;;\u001b\\\u001b]8;id=706917;https://tidy3d.simulation.cloud/workbench?taskId=fdve-ce109dd3-3b23-4f5a-86b7-96b933d60325\u001b\\\u001b[32m-ce109dd3-3b23-4f5a-86b7-96b933d60325'\u001b[0m\u001b]8;;\u001b\\.     \n"
      ]
     },
     "metadata": {},
     "output_type": "display_data"
    },
    {
     "data": {
      "application/vnd.jupyter.widget-view+json": {
       "model_id": "fbce3604a1d14cb99ac59301a139ed31",
       "version_major": 2,
       "version_minor": 0
      },
      "text/plain": [
       "Output()"
      ]
     },
     "metadata": {},
     "output_type": "display_data"
    },
    {
     "data": {
      "text/html": [
       "<pre style=\"white-space:pre;overflow-x:auto;line-height:normal;font-family:Menlo,'DejaVu Sans Mono',consolas,'Courier New',monospace\"></pre>\n"
      ],
      "text/plain": []
     },
     "metadata": {},
     "output_type": "display_data"
    },
    {
     "data": {
      "text/html": [
       "<pre style=\"white-space:pre;overflow-x:auto;line-height:normal;font-family:Menlo,'DejaVu Sans Mono',consolas,'Courier New',monospace\">\n",
       "</pre>\n"
      ],
      "text/plain": [
       "\n"
      ]
     },
     "metadata": {},
     "output_type": "display_data"
    },
    {
     "data": {
      "text/html": [
       "<pre style=\"white-space:pre;overflow-x:auto;line-height:normal;font-family:Menlo,'DejaVu Sans Mono',consolas,'Courier New',monospace\"><span style=\"color: #7fbfbf; text-decoration-color: #7fbfbf\">19:07:08 Eastern Standard Time </span>Created task <span style=\"color: #008000; text-decoration-color: #008000\">'L_0=0.23'</span> with task_id             \n",
       "<span style=\"color: #7fbfbf; text-decoration-color: #7fbfbf\">                               </span><span style=\"color: #008000; text-decoration-color: #008000\">'fdve-19e0d919-8797-4985-bd7f-7ece732254c7'</span> and  \n",
       "<span style=\"color: #7fbfbf; text-decoration-color: #7fbfbf\">                               </span>task_type <span style=\"color: #008000; text-decoration-color: #008000\">'FDTD'</span>.                                \n",
       "</pre>\n"
      ],
      "text/plain": [
       "\u001b[2;36m19:07:08 Eastern Standard Time\u001b[0m\u001b[2;36m \u001b[0mCreated task \u001b[32m'\u001b[0m\u001b[32mL_0\u001b[0m\u001b[32m=\u001b[0m\u001b[32m0\u001b[0m\u001b[32m.23'\u001b[0m with task_id             \n",
       "\u001b[2;36m                               \u001b[0m\u001b[32m'fdve-19e0d919-8797-4985-bd7f-7ece732254c7'\u001b[0m and  \n",
       "\u001b[2;36m                               \u001b[0mtask_type \u001b[32m'FDTD'\u001b[0m.                                \n"
      ]
     },
     "metadata": {},
     "output_type": "display_data"
    },
    {
     "data": {
      "text/html": [
       "<pre style=\"white-space:pre;overflow-x:auto;line-height:normal;font-family:Menlo,'DejaVu Sans Mono',consolas,'Courier New',monospace\"><span style=\"color: #7fbfbf; text-decoration-color: #7fbfbf\">                               </span>View task using web UI at                        \n",
       "<span style=\"color: #7fbfbf; text-decoration-color: #7fbfbf\">                               </span><a href=\"https://tidy3d.simulation.cloud/workbench?taskId=fdve-19e0d919-8797-4985-bd7f-7ece732254c7\" target=\"_blank\"><span style=\"color: #008000; text-decoration-color: #008000\">'https://tidy3d.simulation.cloud/workbench?taskId</span></a>\n",
       "<span style=\"color: #7fbfbf; text-decoration-color: #7fbfbf\">                               </span><a href=\"https://tidy3d.simulation.cloud/workbench?taskId=fdve-19e0d919-8797-4985-bd7f-7ece732254c7\" target=\"_blank\"><span style=\"color: #008000; text-decoration-color: #008000\">=fdve-19e0d919-8797-4985-bd7f-7ece732254c7'</span></a>.     \n",
       "</pre>\n"
      ],
      "text/plain": [
       "\u001b[2;36m                              \u001b[0m\u001b[2;36m \u001b[0mView task using web UI at                        \n",
       "\u001b[2;36m                               \u001b[0m\u001b]8;id=421586;https://tidy3d.simulation.cloud/workbench?taskId=fdve-19e0d919-8797-4985-bd7f-7ece732254c7\u001b\\\u001b[32m'https://tidy3d.simulation.cloud/workbench?\u001b[0m\u001b]8;;\u001b\\\u001b]8;id=430448;https://tidy3d.simulation.cloud/workbench?taskId=fdve-19e0d919-8797-4985-bd7f-7ece732254c7\u001b\\\u001b[32mtaskId\u001b[0m\u001b]8;;\u001b\\\n",
       "\u001b[2;36m                               \u001b[0m\u001b]8;id=421586;https://tidy3d.simulation.cloud/workbench?taskId=fdve-19e0d919-8797-4985-bd7f-7ece732254c7\u001b\\\u001b[32m=\u001b[0m\u001b]8;;\u001b\\\u001b]8;id=280753;https://tidy3d.simulation.cloud/workbench?taskId=fdve-19e0d919-8797-4985-bd7f-7ece732254c7\u001b\\\u001b[32mfdve\u001b[0m\u001b]8;;\u001b\\\u001b]8;id=421586;https://tidy3d.simulation.cloud/workbench?taskId=fdve-19e0d919-8797-4985-bd7f-7ece732254c7\u001b\\\u001b[32m-19e0d919-8797-4985-bd7f-7ece732254c7'\u001b[0m\u001b]8;;\u001b\\.     \n"
      ]
     },
     "metadata": {},
     "output_type": "display_data"
    },
    {
     "data": {
      "application/vnd.jupyter.widget-view+json": {
       "model_id": "b4c200e7b7e44994ba345e444d835f92",
       "version_major": 2,
       "version_minor": 0
      },
      "text/plain": [
       "Output()"
      ]
     },
     "metadata": {},
     "output_type": "display_data"
    },
    {
     "data": {
      "text/html": [
       "<pre style=\"white-space:pre;overflow-x:auto;line-height:normal;font-family:Menlo,'DejaVu Sans Mono',consolas,'Courier New',monospace\"></pre>\n"
      ],
      "text/plain": []
     },
     "metadata": {},
     "output_type": "display_data"
    },
    {
     "data": {
      "text/html": [
       "<pre style=\"white-space:pre;overflow-x:auto;line-height:normal;font-family:Menlo,'DejaVu Sans Mono',consolas,'Courier New',monospace\">\n",
       "</pre>\n"
      ],
      "text/plain": [
       "\n"
      ]
     },
     "metadata": {},
     "output_type": "display_data"
    },
    {
     "data": {
      "text/html": [
       "<pre style=\"white-space:pre;overflow-x:auto;line-height:normal;font-family:Menlo,'DejaVu Sans Mono',consolas,'Courier New',monospace\"><span style=\"color: #7fbfbf; text-decoration-color: #7fbfbf\">19:07:09 Eastern Standard Time </span>Created task <span style=\"color: #008000; text-decoration-color: #008000\">'L_0=0.24'</span> with task_id             \n",
       "<span style=\"color: #7fbfbf; text-decoration-color: #7fbfbf\">                               </span><span style=\"color: #008000; text-decoration-color: #008000\">'fdve-22ca7abc-5217-4d6b-a2e4-755977cbb5bf'</span> and  \n",
       "<span style=\"color: #7fbfbf; text-decoration-color: #7fbfbf\">                               </span>task_type <span style=\"color: #008000; text-decoration-color: #008000\">'FDTD'</span>.                                \n",
       "</pre>\n"
      ],
      "text/plain": [
       "\u001b[2;36m19:07:09 Eastern Standard Time\u001b[0m\u001b[2;36m \u001b[0mCreated task \u001b[32m'\u001b[0m\u001b[32mL_0\u001b[0m\u001b[32m=\u001b[0m\u001b[32m0\u001b[0m\u001b[32m.24'\u001b[0m with task_id             \n",
       "\u001b[2;36m                               \u001b[0m\u001b[32m'fdve-22ca7abc-5217-4d6b-a2e4-755977cbb5bf'\u001b[0m and  \n",
       "\u001b[2;36m                               \u001b[0mtask_type \u001b[32m'FDTD'\u001b[0m.                                \n"
      ]
     },
     "metadata": {},
     "output_type": "display_data"
    },
    {
     "data": {
      "text/html": [
       "<pre style=\"white-space:pre;overflow-x:auto;line-height:normal;font-family:Menlo,'DejaVu Sans Mono',consolas,'Courier New',monospace\"><span style=\"color: #7fbfbf; text-decoration-color: #7fbfbf\">                               </span>View task using web UI at                        \n",
       "<span style=\"color: #7fbfbf; text-decoration-color: #7fbfbf\">                               </span><a href=\"https://tidy3d.simulation.cloud/workbench?taskId=fdve-22ca7abc-5217-4d6b-a2e4-755977cbb5bf\" target=\"_blank\"><span style=\"color: #008000; text-decoration-color: #008000\">'https://tidy3d.simulation.cloud/workbench?taskId</span></a>\n",
       "<span style=\"color: #7fbfbf; text-decoration-color: #7fbfbf\">                               </span><a href=\"https://tidy3d.simulation.cloud/workbench?taskId=fdve-22ca7abc-5217-4d6b-a2e4-755977cbb5bf\" target=\"_blank\"><span style=\"color: #008000; text-decoration-color: #008000\">=fdve-22ca7abc-5217-4d6b-a2e4-755977cbb5bf'</span></a>.     \n",
       "</pre>\n"
      ],
      "text/plain": [
       "\u001b[2;36m                              \u001b[0m\u001b[2;36m \u001b[0mView task using web UI at                        \n",
       "\u001b[2;36m                               \u001b[0m\u001b]8;id=696843;https://tidy3d.simulation.cloud/workbench?taskId=fdve-22ca7abc-5217-4d6b-a2e4-755977cbb5bf\u001b\\\u001b[32m'https://tidy3d.simulation.cloud/workbench?\u001b[0m\u001b]8;;\u001b\\\u001b]8;id=200308;https://tidy3d.simulation.cloud/workbench?taskId=fdve-22ca7abc-5217-4d6b-a2e4-755977cbb5bf\u001b\\\u001b[32mtaskId\u001b[0m\u001b]8;;\u001b\\\n",
       "\u001b[2;36m                               \u001b[0m\u001b]8;id=696843;https://tidy3d.simulation.cloud/workbench?taskId=fdve-22ca7abc-5217-4d6b-a2e4-755977cbb5bf\u001b\\\u001b[32m=\u001b[0m\u001b]8;;\u001b\\\u001b]8;id=240878;https://tidy3d.simulation.cloud/workbench?taskId=fdve-22ca7abc-5217-4d6b-a2e4-755977cbb5bf\u001b\\\u001b[32mfdve\u001b[0m\u001b]8;;\u001b\\\u001b]8;id=696843;https://tidy3d.simulation.cloud/workbench?taskId=fdve-22ca7abc-5217-4d6b-a2e4-755977cbb5bf\u001b\\\u001b[32m-22ca7abc-5217-4d6b-a2e4-755977cbb5bf'\u001b[0m\u001b]8;;\u001b\\.     \n"
      ]
     },
     "metadata": {},
     "output_type": "display_data"
    },
    {
     "data": {
      "application/vnd.jupyter.widget-view+json": {
       "model_id": "8a686d75300f4707a1ebf8ab14d0b915",
       "version_major": 2,
       "version_minor": 0
      },
      "text/plain": [
       "Output()"
      ]
     },
     "metadata": {},
     "output_type": "display_data"
    },
    {
     "data": {
      "text/html": [
       "<pre style=\"white-space:pre;overflow-x:auto;line-height:normal;font-family:Menlo,'DejaVu Sans Mono',consolas,'Courier New',monospace\"></pre>\n"
      ],
      "text/plain": []
     },
     "metadata": {},
     "output_type": "display_data"
    },
    {
     "data": {
      "text/html": [
       "<pre style=\"white-space:pre;overflow-x:auto;line-height:normal;font-family:Menlo,'DejaVu Sans Mono',consolas,'Courier New',monospace\">\n",
       "</pre>\n"
      ],
      "text/plain": [
       "\n"
      ]
     },
     "metadata": {},
     "output_type": "display_data"
    },
    {
     "data": {
      "text/html": [
       "<pre style=\"white-space:pre;overflow-x:auto;line-height:normal;font-family:Menlo,'DejaVu Sans Mono',consolas,'Courier New',monospace\"><span style=\"color: #7fbfbf; text-decoration-color: #7fbfbf\">19:07:10 Eastern Standard Time </span>Created task <span style=\"color: #008000; text-decoration-color: #008000\">'L_0=0.25'</span> with task_id             \n",
       "<span style=\"color: #7fbfbf; text-decoration-color: #7fbfbf\">                               </span><span style=\"color: #008000; text-decoration-color: #008000\">'fdve-e72baff0-5b7a-447b-bd87-9478c126e088'</span> and  \n",
       "<span style=\"color: #7fbfbf; text-decoration-color: #7fbfbf\">                               </span>task_type <span style=\"color: #008000; text-decoration-color: #008000\">'FDTD'</span>.                                \n",
       "</pre>\n"
      ],
      "text/plain": [
       "\u001b[2;36m19:07:10 Eastern Standard Time\u001b[0m\u001b[2;36m \u001b[0mCreated task \u001b[32m'\u001b[0m\u001b[32mL_0\u001b[0m\u001b[32m=\u001b[0m\u001b[32m0\u001b[0m\u001b[32m.25'\u001b[0m with task_id             \n",
       "\u001b[2;36m                               \u001b[0m\u001b[32m'fdve-e72baff0-5b7a-447b-bd87-9478c126e088'\u001b[0m and  \n",
       "\u001b[2;36m                               \u001b[0mtask_type \u001b[32m'FDTD'\u001b[0m.                                \n"
      ]
     },
     "metadata": {},
     "output_type": "display_data"
    },
    {
     "data": {
      "text/html": [
       "<pre style=\"white-space:pre;overflow-x:auto;line-height:normal;font-family:Menlo,'DejaVu Sans Mono',consolas,'Courier New',monospace\"><span style=\"color: #7fbfbf; text-decoration-color: #7fbfbf\">                               </span>View task using web UI at                        \n",
       "<span style=\"color: #7fbfbf; text-decoration-color: #7fbfbf\">                               </span><a href=\"https://tidy3d.simulation.cloud/workbench?taskId=fdve-e72baff0-5b7a-447b-bd87-9478c126e088\" target=\"_blank\"><span style=\"color: #008000; text-decoration-color: #008000\">'https://tidy3d.simulation.cloud/workbench?taskId</span></a>\n",
       "<span style=\"color: #7fbfbf; text-decoration-color: #7fbfbf\">                               </span><a href=\"https://tidy3d.simulation.cloud/workbench?taskId=fdve-e72baff0-5b7a-447b-bd87-9478c126e088\" target=\"_blank\"><span style=\"color: #008000; text-decoration-color: #008000\">=fdve-e72baff0-5b7a-447b-bd87-9478c126e088'</span></a>.     \n",
       "</pre>\n"
      ],
      "text/plain": [
       "\u001b[2;36m                              \u001b[0m\u001b[2;36m \u001b[0mView task using web UI at                        \n",
       "\u001b[2;36m                               \u001b[0m\u001b]8;id=591715;https://tidy3d.simulation.cloud/workbench?taskId=fdve-e72baff0-5b7a-447b-bd87-9478c126e088\u001b\\\u001b[32m'https://tidy3d.simulation.cloud/workbench?\u001b[0m\u001b]8;;\u001b\\\u001b]8;id=83718;https://tidy3d.simulation.cloud/workbench?taskId=fdve-e72baff0-5b7a-447b-bd87-9478c126e088\u001b\\\u001b[32mtaskId\u001b[0m\u001b]8;;\u001b\\\n",
       "\u001b[2;36m                               \u001b[0m\u001b]8;id=591715;https://tidy3d.simulation.cloud/workbench?taskId=fdve-e72baff0-5b7a-447b-bd87-9478c126e088\u001b\\\u001b[32m=\u001b[0m\u001b]8;;\u001b\\\u001b]8;id=706950;https://tidy3d.simulation.cloud/workbench?taskId=fdve-e72baff0-5b7a-447b-bd87-9478c126e088\u001b\\\u001b[32mfdve\u001b[0m\u001b]8;;\u001b\\\u001b]8;id=591715;https://tidy3d.simulation.cloud/workbench?taskId=fdve-e72baff0-5b7a-447b-bd87-9478c126e088\u001b\\\u001b[32m-e72baff0-5b7a-447b-bd87-9478c126e088'\u001b[0m\u001b]8;;\u001b\\.     \n"
      ]
     },
     "metadata": {},
     "output_type": "display_data"
    },
    {
     "data": {
      "application/vnd.jupyter.widget-view+json": {
       "model_id": "9ca0e2c06d6e4ab79728792fb9ed9b55",
       "version_major": 2,
       "version_minor": 0
      },
      "text/plain": [
       "Output()"
      ]
     },
     "metadata": {},
     "output_type": "display_data"
    },
    {
     "data": {
      "text/html": [
       "<pre style=\"white-space:pre;overflow-x:auto;line-height:normal;font-family:Menlo,'DejaVu Sans Mono',consolas,'Courier New',monospace\"></pre>\n"
      ],
      "text/plain": []
     },
     "metadata": {},
     "output_type": "display_data"
    },
    {
     "data": {
      "text/html": [
       "<pre style=\"white-space:pre;overflow-x:auto;line-height:normal;font-family:Menlo,'DejaVu Sans Mono',consolas,'Courier New',monospace\">\n",
       "</pre>\n"
      ],
      "text/plain": [
       "\n"
      ]
     },
     "metadata": {},
     "output_type": "display_data"
    },
    {
     "data": {
      "text/html": [
       "<pre style=\"white-space:pre;overflow-x:auto;line-height:normal;font-family:Menlo,'DejaVu Sans Mono',consolas,'Courier New',monospace\"><span style=\"color: #7fbfbf; text-decoration-color: #7fbfbf\">19:07:24 Eastern Standard Time </span>Started working on Batch.                        \n",
       "</pre>\n"
      ],
      "text/plain": [
       "\u001b[2;36m19:07:24 Eastern Standard Time\u001b[0m\u001b[2;36m \u001b[0mStarted working on Batch.                        \n"
      ]
     },
     "metadata": {},
     "output_type": "display_data"
    },
    {
     "data": {
      "text/html": [
       "<pre style=\"white-space:pre;overflow-x:auto;line-height:normal;font-family:Menlo,'DejaVu Sans Mono',consolas,'Courier New',monospace\"><span style=\"color: #7fbfbf; text-decoration-color: #7fbfbf\">19:07:34 Eastern Standard Time </span>Maximum FlexCredit cost: <span style=\"color: #008080; text-decoration-color: #008080; font-weight: bold\">1.227</span> for the whole     \n",
       "<span style=\"color: #7fbfbf; text-decoration-color: #7fbfbf\">                               </span>batch.                                           \n",
       "</pre>\n"
      ],
      "text/plain": [
       "\u001b[2;36m19:07:34 Eastern Standard Time\u001b[0m\u001b[2;36m \u001b[0mMaximum FlexCredit cost: \u001b[1;36m1.227\u001b[0m for the whole     \n",
       "\u001b[2;36m                               \u001b[0mbatch.                                           \n"
      ]
     },
     "metadata": {},
     "output_type": "display_data"
    },
    {
     "data": {
      "text/html": [
       "<pre style=\"white-space:pre;overflow-x:auto;line-height:normal;font-family:Menlo,'DejaVu Sans Mono',consolas,'Courier New',monospace\"><span style=\"color: #7fbfbf; text-decoration-color: #7fbfbf\">                               </span>Use <span style=\"color: #008000; text-decoration-color: #008000\">'Batch.real_cost()'</span> to get the billed        \n",
       "<span style=\"color: #7fbfbf; text-decoration-color: #7fbfbf\">                               </span>FlexCredit cost after the Batch has completed.   \n",
       "</pre>\n"
      ],
      "text/plain": [
       "\u001b[2;36m                              \u001b[0m\u001b[2;36m \u001b[0mUse \u001b[32m'Batch.real_cost\u001b[0m\u001b[32m(\u001b[0m\u001b[32m)\u001b[0m\u001b[32m'\u001b[0m to get the billed        \n",
       "\u001b[2;36m                               \u001b[0mFlexCredit cost after the Batch has completed.   \n"
      ]
     },
     "metadata": {},
     "output_type": "display_data"
    },
    {
     "data": {
      "application/vnd.jupyter.widget-view+json": {
       "model_id": "19c87f50b4004aaca501c022d75cb158",
       "version_major": 2,
       "version_minor": 0
      },
      "text/plain": [
       "Output()"
      ]
     },
     "metadata": {},
     "output_type": "display_data"
    },
    {
     "data": {
      "text/html": [
       "<pre style=\"white-space:pre;overflow-x:auto;line-height:normal;font-family:Menlo,'DejaVu Sans Mono',consolas,'Courier New',monospace\"><span style=\"color: #7fbfbf; text-decoration-color: #7fbfbf\">19:08:11 Eastern Standard Time </span>Batch complete.                                  \n",
       "</pre>\n"
      ],
      "text/plain": [
       "\u001b[2;36m19:08:11 Eastern Standard Time\u001b[0m\u001b[2;36m \u001b[0mBatch complete.                                  \n"
      ]
     },
     "metadata": {},
     "output_type": "display_data"
    },
    {
     "data": {
      "text/html": [
       "<pre style=\"white-space:pre;overflow-x:auto;line-height:normal;font-family:Menlo,'DejaVu Sans Mono',consolas,'Courier New',monospace\"></pre>\n"
      ],
      "text/plain": []
     },
     "metadata": {},
     "output_type": "display_data"
    },
    {
     "data": {
      "text/html": [
       "<pre style=\"white-space:pre;overflow-x:auto;line-height:normal;font-family:Menlo,'DejaVu Sans Mono',consolas,'Courier New',monospace\">\n",
       "</pre>\n"
      ],
      "text/plain": [
       "\n"
      ]
     },
     "metadata": {},
     "output_type": "display_data"
    }
   ],
   "source": [
    "L_0_list = np.linspace(0.1, 0.25, 16)  # range of the parameter sweep\n",
    "\n",
    "# create simulations\n",
    "sims = {f\"L_0={L_0:.2f}\": make_sim(L_0) for L_0 in L_0_list}\n",
    "\n",
    "# create a batch and run it\n",
    "batch = web.Batch(simulations=sims, verbose=True)\n",
    "batch_results = batch.run(path_dir=\"data\")"
   ]
  },
  {
   "cell_type": "markdown",
   "id": "16530715",
   "metadata": {},
   "source": [
    "Extract the downward radiation flux from the sweep."
   ]
  },
  {
   "cell_type": "code",
   "execution_count": 10,
   "id": "5bb9132e",
   "metadata": {},
   "outputs": [
    {
     "data": {
      "application/vnd.jupyter.widget-view+json": {
       "model_id": "a7ce99b3aab744f3bf26c2f70f68d44d",
       "version_major": 2,
       "version_minor": 0
      },
      "text/plain": [
       "Output()"
      ]
     },
     "metadata": {},
     "output_type": "display_data"
    },
    {
     "data": {
      "text/html": [
       "<pre style=\"white-space:pre;overflow-x:auto;line-height:normal;font-family:Menlo,'DejaVu Sans Mono',consolas,'Courier New',monospace\"></pre>\n"
      ],
      "text/plain": []
     },
     "metadata": {},
     "output_type": "display_data"
    },
    {
     "data": {
      "text/html": [
       "<pre style=\"white-space:pre;overflow-x:auto;line-height:normal;font-family:Menlo,'DejaVu Sans Mono',consolas,'Courier New',monospace\">\n",
       "</pre>\n"
      ],
      "text/plain": [
       "\n"
      ]
     },
     "metadata": {},
     "output_type": "display_data"
    },
    {
     "data": {
      "text/html": [
       "<pre style=\"white-space:pre;overflow-x:auto;line-height:normal;font-family:Menlo,'DejaVu Sans Mono',consolas,'Courier New',monospace\"><span style=\"color: #7fbfbf; text-decoration-color: #7fbfbf\">19:08:15 Eastern Standard Time </span>loading simulation from                          \n",
       "<span style=\"color: #7fbfbf; text-decoration-color: #7fbfbf\">                               </span>data\\fdve-<span style=\"color: #ffff00; text-decoration-color: #ffff00\">bfbe7a17-bfc5-46b5-ace2-456fb2114e35</span>.hd\n",
       "<span style=\"color: #7fbfbf; text-decoration-color: #7fbfbf\">                               </span>f5                                               \n",
       "</pre>\n"
      ],
      "text/plain": [
       "\u001b[2;36m19:08:15 Eastern Standard Time\u001b[0m\u001b[2;36m \u001b[0mloading simulation from                          \n",
       "\u001b[2;36m                               \u001b[0mdata\\fdve-\u001b[93mbfbe7a17-bfc5-46b5-ace2-456fb2114e35\u001b[0m.hd\n",
       "\u001b[2;36m                               \u001b[0mf5                                               \n"
      ]
     },
     "metadata": {},
     "output_type": "display_data"
    },
    {
     "data": {
      "application/vnd.jupyter.widget-view+json": {
       "model_id": "b1408d39afbb42e7b7d84e322fc96653",
       "version_major": 2,
       "version_minor": 0
      },
      "text/plain": [
       "Output()"
      ]
     },
     "metadata": {},
     "output_type": "display_data"
    },
    {
     "data": {
      "text/html": [
       "<pre style=\"white-space:pre;overflow-x:auto;line-height:normal;font-family:Menlo,'DejaVu Sans Mono',consolas,'Courier New',monospace\"></pre>\n"
      ],
      "text/plain": []
     },
     "metadata": {},
     "output_type": "display_data"
    },
    {
     "data": {
      "text/html": [
       "<pre style=\"white-space:pre;overflow-x:auto;line-height:normal;font-family:Menlo,'DejaVu Sans Mono',consolas,'Courier New',monospace\">\n",
       "</pre>\n"
      ],
      "text/plain": [
       "\n"
      ]
     },
     "metadata": {},
     "output_type": "display_data"
    },
    {
     "data": {
      "text/html": [
       "<pre style=\"white-space:pre;overflow-x:auto;line-height:normal;font-family:Menlo,'DejaVu Sans Mono',consolas,'Courier New',monospace\"><span style=\"color: #7fbfbf; text-decoration-color: #7fbfbf\">19:08:16 Eastern Standard Time </span>loading simulation from                          \n",
       "<span style=\"color: #7fbfbf; text-decoration-color: #7fbfbf\">                               </span>data\\fdve-<span style=\"color: #ffff00; text-decoration-color: #ffff00\">4b2ea106-0c81-4e4b-a792-13606cdafdaa</span>.hd\n",
       "<span style=\"color: #7fbfbf; text-decoration-color: #7fbfbf\">                               </span>f5                                               \n",
       "</pre>\n"
      ],
      "text/plain": [
       "\u001b[2;36m19:08:16 Eastern Standard Time\u001b[0m\u001b[2;36m \u001b[0mloading simulation from                          \n",
       "\u001b[2;36m                               \u001b[0mdata\\fdve-\u001b[93m4b2ea106-0c81-4e4b-a792-13606cdafdaa\u001b[0m.hd\n",
       "\u001b[2;36m                               \u001b[0mf5                                               \n"
      ]
     },
     "metadata": {},
     "output_type": "display_data"
    },
    {
     "data": {
      "application/vnd.jupyter.widget-view+json": {
       "model_id": "8251057c8ab943bdadfe5aa2373c7de7",
       "version_major": 2,
       "version_minor": 0
      },
      "text/plain": [
       "Output()"
      ]
     },
     "metadata": {},
     "output_type": "display_data"
    },
    {
     "data": {
      "text/html": [
       "<pre style=\"white-space:pre;overflow-x:auto;line-height:normal;font-family:Menlo,'DejaVu Sans Mono',consolas,'Courier New',monospace\"></pre>\n"
      ],
      "text/plain": []
     },
     "metadata": {},
     "output_type": "display_data"
    },
    {
     "data": {
      "text/html": [
       "<pre style=\"white-space:pre;overflow-x:auto;line-height:normal;font-family:Menlo,'DejaVu Sans Mono',consolas,'Courier New',monospace\">\n",
       "</pre>\n"
      ],
      "text/plain": [
       "\n"
      ]
     },
     "metadata": {},
     "output_type": "display_data"
    },
    {
     "data": {
      "text/html": [
       "<pre style=\"white-space:pre;overflow-x:auto;line-height:normal;font-family:Menlo,'DejaVu Sans Mono',consolas,'Courier New',monospace\"><span style=\"color: #7fbfbf; text-decoration-color: #7fbfbf\">19:08:17 Eastern Standard Time </span>loading simulation from                          \n",
       "<span style=\"color: #7fbfbf; text-decoration-color: #7fbfbf\">                               </span>data\\fdve-<span style=\"color: #ffff00; text-decoration-color: #ffff00\">19a48718-718d-418b-8835-e06b0ce3c17d</span>.hd\n",
       "<span style=\"color: #7fbfbf; text-decoration-color: #7fbfbf\">                               </span>f5                                               \n",
       "</pre>\n"
      ],
      "text/plain": [
       "\u001b[2;36m19:08:17 Eastern Standard Time\u001b[0m\u001b[2;36m \u001b[0mloading simulation from                          \n",
       "\u001b[2;36m                               \u001b[0mdata\\fdve-\u001b[93m19a48718-718d-418b-8835-e06b0ce3c17d\u001b[0m.hd\n",
       "\u001b[2;36m                               \u001b[0mf5                                               \n"
      ]
     },
     "metadata": {},
     "output_type": "display_data"
    },
    {
     "data": {
      "application/vnd.jupyter.widget-view+json": {
       "model_id": "bd273b4d8c5c460486f45cf1e2691621",
       "version_major": 2,
       "version_minor": 0
      },
      "text/plain": [
       "Output()"
      ]
     },
     "metadata": {},
     "output_type": "display_data"
    },
    {
     "data": {
      "text/html": [
       "<pre style=\"white-space:pre;overflow-x:auto;line-height:normal;font-family:Menlo,'DejaVu Sans Mono',consolas,'Courier New',monospace\"></pre>\n"
      ],
      "text/plain": []
     },
     "metadata": {},
     "output_type": "display_data"
    },
    {
     "data": {
      "text/html": [
       "<pre style=\"white-space:pre;overflow-x:auto;line-height:normal;font-family:Menlo,'DejaVu Sans Mono',consolas,'Courier New',monospace\">\n",
       "</pre>\n"
      ],
      "text/plain": [
       "\n"
      ]
     },
     "metadata": {},
     "output_type": "display_data"
    },
    {
     "data": {
      "text/html": [
       "<pre style=\"white-space:pre;overflow-x:auto;line-height:normal;font-family:Menlo,'DejaVu Sans Mono',consolas,'Courier New',monospace\"><span style=\"color: #7fbfbf; text-decoration-color: #7fbfbf\">19:08:18 Eastern Standard Time </span>loading simulation from                          \n",
       "<span style=\"color: #7fbfbf; text-decoration-color: #7fbfbf\">                               </span>data\\fdve-<span style=\"color: #ffff00; text-decoration-color: #ffff00\">c1af01c8-b442-4f46-9778-5c5c64552044</span>.hd\n",
       "<span style=\"color: #7fbfbf; text-decoration-color: #7fbfbf\">                               </span>f5                                               \n",
       "</pre>\n"
      ],
      "text/plain": [
       "\u001b[2;36m19:08:18 Eastern Standard Time\u001b[0m\u001b[2;36m \u001b[0mloading simulation from                          \n",
       "\u001b[2;36m                               \u001b[0mdata\\fdve-\u001b[93mc1af01c8-b442-4f46-9778-5c5c64552044\u001b[0m.hd\n",
       "\u001b[2;36m                               \u001b[0mf5                                               \n"
      ]
     },
     "metadata": {},
     "output_type": "display_data"
    },
    {
     "data": {
      "application/vnd.jupyter.widget-view+json": {
       "model_id": "2cf7c6f1f0474171944a724a37ad1790",
       "version_major": 2,
       "version_minor": 0
      },
      "text/plain": [
       "Output()"
      ]
     },
     "metadata": {},
     "output_type": "display_data"
    },
    {
     "data": {
      "text/html": [
       "<pre style=\"white-space:pre;overflow-x:auto;line-height:normal;font-family:Menlo,'DejaVu Sans Mono',consolas,'Courier New',monospace\"></pre>\n"
      ],
      "text/plain": []
     },
     "metadata": {},
     "output_type": "display_data"
    },
    {
     "data": {
      "text/html": [
       "<pre style=\"white-space:pre;overflow-x:auto;line-height:normal;font-family:Menlo,'DejaVu Sans Mono',consolas,'Courier New',monospace\">\n",
       "</pre>\n"
      ],
      "text/plain": [
       "\n"
      ]
     },
     "metadata": {},
     "output_type": "display_data"
    },
    {
     "data": {
      "text/html": [
       "<pre style=\"white-space:pre;overflow-x:auto;line-height:normal;font-family:Menlo,'DejaVu Sans Mono',consolas,'Courier New',monospace\"><span style=\"color: #7fbfbf; text-decoration-color: #7fbfbf\">19:08:19 Eastern Standard Time </span>loading simulation from                          \n",
       "<span style=\"color: #7fbfbf; text-decoration-color: #7fbfbf\">                               </span>data\\fdve-<span style=\"color: #ffff00; text-decoration-color: #ffff00\">2ff7aac6-159d-4055-9052-bb071d3d48f2</span>.hd\n",
       "<span style=\"color: #7fbfbf; text-decoration-color: #7fbfbf\">                               </span>f5                                               \n",
       "</pre>\n"
      ],
      "text/plain": [
       "\u001b[2;36m19:08:19 Eastern Standard Time\u001b[0m\u001b[2;36m \u001b[0mloading simulation from                          \n",
       "\u001b[2;36m                               \u001b[0mdata\\fdve-\u001b[93m2ff7aac6-159d-4055-9052-bb071d3d48f2\u001b[0m.hd\n",
       "\u001b[2;36m                               \u001b[0mf5                                               \n"
      ]
     },
     "metadata": {},
     "output_type": "display_data"
    },
    {
     "data": {
      "application/vnd.jupyter.widget-view+json": {
       "model_id": "b3d6f03da80d48229597fb52656c280d",
       "version_major": 2,
       "version_minor": 0
      },
      "text/plain": [
       "Output()"
      ]
     },
     "metadata": {},
     "output_type": "display_data"
    },
    {
     "data": {
      "text/html": [
       "<pre style=\"white-space:pre;overflow-x:auto;line-height:normal;font-family:Menlo,'DejaVu Sans Mono',consolas,'Courier New',monospace\"></pre>\n"
      ],
      "text/plain": []
     },
     "metadata": {},
     "output_type": "display_data"
    },
    {
     "data": {
      "text/html": [
       "<pre style=\"white-space:pre;overflow-x:auto;line-height:normal;font-family:Menlo,'DejaVu Sans Mono',consolas,'Courier New',monospace\">\n",
       "</pre>\n"
      ],
      "text/plain": [
       "\n"
      ]
     },
     "metadata": {},
     "output_type": "display_data"
    },
    {
     "data": {
      "text/html": [
       "<pre style=\"white-space:pre;overflow-x:auto;line-height:normal;font-family:Menlo,'DejaVu Sans Mono',consolas,'Courier New',monospace\"><span style=\"color: #7fbfbf; text-decoration-color: #7fbfbf\">19:08:20 Eastern Standard Time </span>loading simulation from                          \n",
       "<span style=\"color: #7fbfbf; text-decoration-color: #7fbfbf\">                               </span>data\\fdve-<span style=\"color: #ffff00; text-decoration-color: #ffff00\">dbd2a56a-6c77-4475-933b-424e8fc74d1b</span>.hd\n",
       "<span style=\"color: #7fbfbf; text-decoration-color: #7fbfbf\">                               </span>f5                                               \n",
       "</pre>\n"
      ],
      "text/plain": [
       "\u001b[2;36m19:08:20 Eastern Standard Time\u001b[0m\u001b[2;36m \u001b[0mloading simulation from                          \n",
       "\u001b[2;36m                               \u001b[0mdata\\fdve-\u001b[93mdbd2a56a-6c77-4475-933b-424e8fc74d1b\u001b[0m.hd\n",
       "\u001b[2;36m                               \u001b[0mf5                                               \n"
      ]
     },
     "metadata": {},
     "output_type": "display_data"
    },
    {
     "data": {
      "application/vnd.jupyter.widget-view+json": {
       "model_id": "fb891362eebd445dbf0d30a99763655d",
       "version_major": 2,
       "version_minor": 0
      },
      "text/plain": [
       "Output()"
      ]
     },
     "metadata": {},
     "output_type": "display_data"
    },
    {
     "data": {
      "text/html": [
       "<pre style=\"white-space:pre;overflow-x:auto;line-height:normal;font-family:Menlo,'DejaVu Sans Mono',consolas,'Courier New',monospace\"></pre>\n"
      ],
      "text/plain": []
     },
     "metadata": {},
     "output_type": "display_data"
    },
    {
     "data": {
      "text/html": [
       "<pre style=\"white-space:pre;overflow-x:auto;line-height:normal;font-family:Menlo,'DejaVu Sans Mono',consolas,'Courier New',monospace\">\n",
       "</pre>\n"
      ],
      "text/plain": [
       "\n"
      ]
     },
     "metadata": {},
     "output_type": "display_data"
    },
    {
     "data": {
      "text/html": [
       "<pre style=\"white-space:pre;overflow-x:auto;line-height:normal;font-family:Menlo,'DejaVu Sans Mono',consolas,'Courier New',monospace\"><span style=\"color: #7fbfbf; text-decoration-color: #7fbfbf\">19:08:21 Eastern Standard Time </span>loading simulation from                          \n",
       "<span style=\"color: #7fbfbf; text-decoration-color: #7fbfbf\">                               </span>data\\fdve-<span style=\"color: #ffff00; text-decoration-color: #ffff00\">bebc6827-3cf7-4b94-bb2c-3eedd7d3afa3</span>.hd\n",
       "<span style=\"color: #7fbfbf; text-decoration-color: #7fbfbf\">                               </span>f5                                               \n",
       "</pre>\n"
      ],
      "text/plain": [
       "\u001b[2;36m19:08:21 Eastern Standard Time\u001b[0m\u001b[2;36m \u001b[0mloading simulation from                          \n",
       "\u001b[2;36m                               \u001b[0mdata\\fdve-\u001b[93mbebc6827-3cf7-4b94-bb2c-3eedd7d3afa3\u001b[0m.hd\n",
       "\u001b[2;36m                               \u001b[0mf5                                               \n"
      ]
     },
     "metadata": {},
     "output_type": "display_data"
    },
    {
     "data": {
      "application/vnd.jupyter.widget-view+json": {
       "model_id": "15477469100d4bceadce23440ebee03f",
       "version_major": 2,
       "version_minor": 0
      },
      "text/plain": [
       "Output()"
      ]
     },
     "metadata": {},
     "output_type": "display_data"
    },
    {
     "data": {
      "text/html": [
       "<pre style=\"white-space:pre;overflow-x:auto;line-height:normal;font-family:Menlo,'DejaVu Sans Mono',consolas,'Courier New',monospace\"></pre>\n"
      ],
      "text/plain": []
     },
     "metadata": {},
     "output_type": "display_data"
    },
    {
     "data": {
      "text/html": [
       "<pre style=\"white-space:pre;overflow-x:auto;line-height:normal;font-family:Menlo,'DejaVu Sans Mono',consolas,'Courier New',monospace\">\n",
       "</pre>\n"
      ],
      "text/plain": [
       "\n"
      ]
     },
     "metadata": {},
     "output_type": "display_data"
    },
    {
     "data": {
      "text/html": [
       "<pre style=\"white-space:pre;overflow-x:auto;line-height:normal;font-family:Menlo,'DejaVu Sans Mono',consolas,'Courier New',monospace\"><span style=\"color: #7fbfbf; text-decoration-color: #7fbfbf\">19:08:22 Eastern Standard Time </span>loading simulation from                          \n",
       "<span style=\"color: #7fbfbf; text-decoration-color: #7fbfbf\">                               </span>data\\fdve-<span style=\"color: #ffff00; text-decoration-color: #ffff00\">3e9eb8c8-97bd-4e0e-a795-47a298bf3e01</span>.hd\n",
       "<span style=\"color: #7fbfbf; text-decoration-color: #7fbfbf\">                               </span>f5                                               \n",
       "</pre>\n"
      ],
      "text/plain": [
       "\u001b[2;36m19:08:22 Eastern Standard Time\u001b[0m\u001b[2;36m \u001b[0mloading simulation from                          \n",
       "\u001b[2;36m                               \u001b[0mdata\\fdve-\u001b[93m3e9eb8c8-97bd-4e0e-a795-47a298bf3e01\u001b[0m.hd\n",
       "\u001b[2;36m                               \u001b[0mf5                                               \n"
      ]
     },
     "metadata": {},
     "output_type": "display_data"
    },
    {
     "data": {
      "application/vnd.jupyter.widget-view+json": {
       "model_id": "ab8de220e520478a865cad94f2b52ef6",
       "version_major": 2,
       "version_minor": 0
      },
      "text/plain": [
       "Output()"
      ]
     },
     "metadata": {},
     "output_type": "display_data"
    },
    {
     "data": {
      "text/html": [
       "<pre style=\"white-space:pre;overflow-x:auto;line-height:normal;font-family:Menlo,'DejaVu Sans Mono',consolas,'Courier New',monospace\"></pre>\n"
      ],
      "text/plain": []
     },
     "metadata": {},
     "output_type": "display_data"
    },
    {
     "data": {
      "text/html": [
       "<pre style=\"white-space:pre;overflow-x:auto;line-height:normal;font-family:Menlo,'DejaVu Sans Mono',consolas,'Courier New',monospace\">\n",
       "</pre>\n"
      ],
      "text/plain": [
       "\n"
      ]
     },
     "metadata": {},
     "output_type": "display_data"
    },
    {
     "data": {
      "text/html": [
       "<pre style=\"white-space:pre;overflow-x:auto;line-height:normal;font-family:Menlo,'DejaVu Sans Mono',consolas,'Courier New',monospace\"><span style=\"color: #7fbfbf; text-decoration-color: #7fbfbf\">19:08:23 Eastern Standard Time </span>loading simulation from                          \n",
       "<span style=\"color: #7fbfbf; text-decoration-color: #7fbfbf\">                               </span>data\\fdve-<span style=\"color: #ffff00; text-decoration-color: #ffff00\">df9d41a7-4829-427a-b52a-9acb38aa7c60</span>.hd\n",
       "<span style=\"color: #7fbfbf; text-decoration-color: #7fbfbf\">                               </span>f5                                               \n",
       "</pre>\n"
      ],
      "text/plain": [
       "\u001b[2;36m19:08:23 Eastern Standard Time\u001b[0m\u001b[2;36m \u001b[0mloading simulation from                          \n",
       "\u001b[2;36m                               \u001b[0mdata\\fdve-\u001b[93mdf9d41a7-4829-427a-b52a-9acb38aa7c60\u001b[0m.hd\n",
       "\u001b[2;36m                               \u001b[0mf5                                               \n"
      ]
     },
     "metadata": {},
     "output_type": "display_data"
    },
    {
     "data": {
      "application/vnd.jupyter.widget-view+json": {
       "model_id": "9b6b86ac1771440d8dfdd487399a20d3",
       "version_major": 2,
       "version_minor": 0
      },
      "text/plain": [
       "Output()"
      ]
     },
     "metadata": {},
     "output_type": "display_data"
    },
    {
     "data": {
      "text/html": [
       "<pre style=\"white-space:pre;overflow-x:auto;line-height:normal;font-family:Menlo,'DejaVu Sans Mono',consolas,'Courier New',monospace\"></pre>\n"
      ],
      "text/plain": []
     },
     "metadata": {},
     "output_type": "display_data"
    },
    {
     "data": {
      "text/html": [
       "<pre style=\"white-space:pre;overflow-x:auto;line-height:normal;font-family:Menlo,'DejaVu Sans Mono',consolas,'Courier New',monospace\">\n",
       "</pre>\n"
      ],
      "text/plain": [
       "\n"
      ]
     },
     "metadata": {},
     "output_type": "display_data"
    },
    {
     "data": {
      "text/html": [
       "<pre style=\"white-space:pre;overflow-x:auto;line-height:normal;font-family:Menlo,'DejaVu Sans Mono',consolas,'Courier New',monospace\"><span style=\"color: #7fbfbf; text-decoration-color: #7fbfbf\">19:08:24 Eastern Standard Time </span>loading simulation from                          \n",
       "<span style=\"color: #7fbfbf; text-decoration-color: #7fbfbf\">                               </span>data\\fdve-<span style=\"color: #ffff00; text-decoration-color: #ffff00\">6bfd86ec-fae8-4133-870e-f448e7af15a3</span>.hd\n",
       "<span style=\"color: #7fbfbf; text-decoration-color: #7fbfbf\">                               </span>f5                                               \n",
       "</pre>\n"
      ],
      "text/plain": [
       "\u001b[2;36m19:08:24 Eastern Standard Time\u001b[0m\u001b[2;36m \u001b[0mloading simulation from                          \n",
       "\u001b[2;36m                               \u001b[0mdata\\fdve-\u001b[93m6bfd86ec-fae8-4133-870e-f448e7af15a3\u001b[0m.hd\n",
       "\u001b[2;36m                               \u001b[0mf5                                               \n"
      ]
     },
     "metadata": {},
     "output_type": "display_data"
    },
    {
     "data": {
      "application/vnd.jupyter.widget-view+json": {
       "model_id": "012039ceecfd485daef8bec3a2181901",
       "version_major": 2,
       "version_minor": 0
      },
      "text/plain": [
       "Output()"
      ]
     },
     "metadata": {},
     "output_type": "display_data"
    },
    {
     "data": {
      "text/html": [
       "<pre style=\"white-space:pre;overflow-x:auto;line-height:normal;font-family:Menlo,'DejaVu Sans Mono',consolas,'Courier New',monospace\"></pre>\n"
      ],
      "text/plain": []
     },
     "metadata": {},
     "output_type": "display_data"
    },
    {
     "data": {
      "text/html": [
       "<pre style=\"white-space:pre;overflow-x:auto;line-height:normal;font-family:Menlo,'DejaVu Sans Mono',consolas,'Courier New',monospace\">\n",
       "</pre>\n"
      ],
      "text/plain": [
       "\n"
      ]
     },
     "metadata": {},
     "output_type": "display_data"
    },
    {
     "data": {
      "text/html": [
       "<pre style=\"white-space:pre;overflow-x:auto;line-height:normal;font-family:Menlo,'DejaVu Sans Mono',consolas,'Courier New',monospace\"><span style=\"color: #7fbfbf; text-decoration-color: #7fbfbf\">19:08:25 Eastern Standard Time </span>loading simulation from                          \n",
       "<span style=\"color: #7fbfbf; text-decoration-color: #7fbfbf\">                               </span>data\\fdve-<span style=\"color: #ffff00; text-decoration-color: #ffff00\">56075e65-57d3-4ce8-8f1a-c23fa93ee978</span>.hd\n",
       "<span style=\"color: #7fbfbf; text-decoration-color: #7fbfbf\">                               </span>f5                                               \n",
       "</pre>\n"
      ],
      "text/plain": [
       "\u001b[2;36m19:08:25 Eastern Standard Time\u001b[0m\u001b[2;36m \u001b[0mloading simulation from                          \n",
       "\u001b[2;36m                               \u001b[0mdata\\fdve-\u001b[93m56075e65-57d3-4ce8-8f1a-c23fa93ee978\u001b[0m.hd\n",
       "\u001b[2;36m                               \u001b[0mf5                                               \n"
      ]
     },
     "metadata": {},
     "output_type": "display_data"
    },
    {
     "data": {
      "application/vnd.jupyter.widget-view+json": {
       "model_id": "e226a56b85a24f33be7a050ce7ffe1b8",
       "version_major": 2,
       "version_minor": 0
      },
      "text/plain": [
       "Output()"
      ]
     },
     "metadata": {},
     "output_type": "display_data"
    },
    {
     "data": {
      "text/html": [
       "<pre style=\"white-space:pre;overflow-x:auto;line-height:normal;font-family:Menlo,'DejaVu Sans Mono',consolas,'Courier New',monospace\"></pre>\n"
      ],
      "text/plain": []
     },
     "metadata": {},
     "output_type": "display_data"
    },
    {
     "data": {
      "text/html": [
       "<pre style=\"white-space:pre;overflow-x:auto;line-height:normal;font-family:Menlo,'DejaVu Sans Mono',consolas,'Courier New',monospace\">\n",
       "</pre>\n"
      ],
      "text/plain": [
       "\n"
      ]
     },
     "metadata": {},
     "output_type": "display_data"
    },
    {
     "data": {
      "text/html": [
       "<pre style=\"white-space:pre;overflow-x:auto;line-height:normal;font-family:Menlo,'DejaVu Sans Mono',consolas,'Courier New',monospace\"><span style=\"color: #7fbfbf; text-decoration-color: #7fbfbf\">19:08:26 Eastern Standard Time </span>loading simulation from                          \n",
       "<span style=\"color: #7fbfbf; text-decoration-color: #7fbfbf\">                               </span>data\\fdve-<span style=\"color: #ffff00; text-decoration-color: #ffff00\">4c29fdc9-b531-470d-8bcd-c7c401c27cbf</span>.hd\n",
       "<span style=\"color: #7fbfbf; text-decoration-color: #7fbfbf\">                               </span>f5                                               \n",
       "</pre>\n"
      ],
      "text/plain": [
       "\u001b[2;36m19:08:26 Eastern Standard Time\u001b[0m\u001b[2;36m \u001b[0mloading simulation from                          \n",
       "\u001b[2;36m                               \u001b[0mdata\\fdve-\u001b[93m4c29fdc9-b531-470d-8bcd-c7c401c27cbf\u001b[0m.hd\n",
       "\u001b[2;36m                               \u001b[0mf5                                               \n"
      ]
     },
     "metadata": {},
     "output_type": "display_data"
    },
    {
     "data": {
      "application/vnd.jupyter.widget-view+json": {
       "model_id": "6d65325c984e4fea90a1ef54c7440222",
       "version_major": 2,
       "version_minor": 0
      },
      "text/plain": [
       "Output()"
      ]
     },
     "metadata": {},
     "output_type": "display_data"
    },
    {
     "data": {
      "text/html": [
       "<pre style=\"white-space:pre;overflow-x:auto;line-height:normal;font-family:Menlo,'DejaVu Sans Mono',consolas,'Courier New',monospace\"></pre>\n"
      ],
      "text/plain": []
     },
     "metadata": {},
     "output_type": "display_data"
    },
    {
     "data": {
      "text/html": [
       "<pre style=\"white-space:pre;overflow-x:auto;line-height:normal;font-family:Menlo,'DejaVu Sans Mono',consolas,'Courier New',monospace\">\n",
       "</pre>\n"
      ],
      "text/plain": [
       "\n"
      ]
     },
     "metadata": {},
     "output_type": "display_data"
    },
    {
     "data": {
      "text/html": [
       "<pre style=\"white-space:pre;overflow-x:auto;line-height:normal;font-family:Menlo,'DejaVu Sans Mono',consolas,'Courier New',monospace\"><span style=\"color: #7fbfbf; text-decoration-color: #7fbfbf\">19:08:27 Eastern Standard Time </span>loading simulation from                          \n",
       "<span style=\"color: #7fbfbf; text-decoration-color: #7fbfbf\">                               </span>data\\fdve-<span style=\"color: #ffff00; text-decoration-color: #ffff00\">ce109dd3-3b23-4f5a-86b7-96b933d60325</span>.hd\n",
       "<span style=\"color: #7fbfbf; text-decoration-color: #7fbfbf\">                               </span>f5                                               \n",
       "</pre>\n"
      ],
      "text/plain": [
       "\u001b[2;36m19:08:27 Eastern Standard Time\u001b[0m\u001b[2;36m \u001b[0mloading simulation from                          \n",
       "\u001b[2;36m                               \u001b[0mdata\\fdve-\u001b[93mce109dd3-3b23-4f5a-86b7-96b933d60325\u001b[0m.hd\n",
       "\u001b[2;36m                               \u001b[0mf5                                               \n"
      ]
     },
     "metadata": {},
     "output_type": "display_data"
    },
    {
     "data": {
      "application/vnd.jupyter.widget-view+json": {
       "model_id": "a02e60fafdab4d55b73c689dc4605ba9",
       "version_major": 2,
       "version_minor": 0
      },
      "text/plain": [
       "Output()"
      ]
     },
     "metadata": {},
     "output_type": "display_data"
    },
    {
     "data": {
      "text/html": [
       "<pre style=\"white-space:pre;overflow-x:auto;line-height:normal;font-family:Menlo,'DejaVu Sans Mono',consolas,'Courier New',monospace\"></pre>\n"
      ],
      "text/plain": []
     },
     "metadata": {},
     "output_type": "display_data"
    },
    {
     "data": {
      "text/html": [
       "<pre style=\"white-space:pre;overflow-x:auto;line-height:normal;font-family:Menlo,'DejaVu Sans Mono',consolas,'Courier New',monospace\">\n",
       "</pre>\n"
      ],
      "text/plain": [
       "\n"
      ]
     },
     "metadata": {},
     "output_type": "display_data"
    },
    {
     "data": {
      "text/html": [
       "<pre style=\"white-space:pre;overflow-x:auto;line-height:normal;font-family:Menlo,'DejaVu Sans Mono',consolas,'Courier New',monospace\"><span style=\"color: #7fbfbf; text-decoration-color: #7fbfbf\">19:08:28 Eastern Standard Time </span>loading simulation from                          \n",
       "<span style=\"color: #7fbfbf; text-decoration-color: #7fbfbf\">                               </span>data\\fdve-<span style=\"color: #ffff00; text-decoration-color: #ffff00\">19e0d919-8797-4985-bd7f-7ece732254c7</span>.hd\n",
       "<span style=\"color: #7fbfbf; text-decoration-color: #7fbfbf\">                               </span>f5                                               \n",
       "</pre>\n"
      ],
      "text/plain": [
       "\u001b[2;36m19:08:28 Eastern Standard Time\u001b[0m\u001b[2;36m \u001b[0mloading simulation from                          \n",
       "\u001b[2;36m                               \u001b[0mdata\\fdve-\u001b[93m19e0d919-8797-4985-bd7f-7ece732254c7\u001b[0m.hd\n",
       "\u001b[2;36m                               \u001b[0mf5                                               \n"
      ]
     },
     "metadata": {},
     "output_type": "display_data"
    },
    {
     "data": {
      "application/vnd.jupyter.widget-view+json": {
       "model_id": "6327c57e11a14821abae27cdae646c4b",
       "version_major": 2,
       "version_minor": 0
      },
      "text/plain": [
       "Output()"
      ]
     },
     "metadata": {},
     "output_type": "display_data"
    },
    {
     "data": {
      "text/html": [
       "<pre style=\"white-space:pre;overflow-x:auto;line-height:normal;font-family:Menlo,'DejaVu Sans Mono',consolas,'Courier New',monospace\"></pre>\n"
      ],
      "text/plain": []
     },
     "metadata": {},
     "output_type": "display_data"
    },
    {
     "data": {
      "text/html": [
       "<pre style=\"white-space:pre;overflow-x:auto;line-height:normal;font-family:Menlo,'DejaVu Sans Mono',consolas,'Courier New',monospace\">\n",
       "</pre>\n"
      ],
      "text/plain": [
       "\n"
      ]
     },
     "metadata": {},
     "output_type": "display_data"
    },
    {
     "data": {
      "text/html": [
       "<pre style=\"white-space:pre;overflow-x:auto;line-height:normal;font-family:Menlo,'DejaVu Sans Mono',consolas,'Courier New',monospace\"><span style=\"color: #7fbfbf; text-decoration-color: #7fbfbf\">19:08:29 Eastern Standard Time </span>loading simulation from                          \n",
       "<span style=\"color: #7fbfbf; text-decoration-color: #7fbfbf\">                               </span>data\\fdve-<span style=\"color: #ffff00; text-decoration-color: #ffff00\">22ca7abc-5217-4d6b-a2e4-755977cbb5bf</span>.hd\n",
       "<span style=\"color: #7fbfbf; text-decoration-color: #7fbfbf\">                               </span>f5                                               \n",
       "</pre>\n"
      ],
      "text/plain": [
       "\u001b[2;36m19:08:29 Eastern Standard Time\u001b[0m\u001b[2;36m \u001b[0mloading simulation from                          \n",
       "\u001b[2;36m                               \u001b[0mdata\\fdve-\u001b[93m22ca7abc-5217-4d6b-a2e4-755977cbb5bf\u001b[0m.hd\n",
       "\u001b[2;36m                               \u001b[0mf5                                               \n"
      ]
     },
     "metadata": {},
     "output_type": "display_data"
    },
    {
     "data": {
      "application/vnd.jupyter.widget-view+json": {
       "model_id": "85e869c85a7a43bea852e08c131cc675",
       "version_major": 2,
       "version_minor": 0
      },
      "text/plain": [
       "Output()"
      ]
     },
     "metadata": {},
     "output_type": "display_data"
    },
    {
     "data": {
      "text/html": [
       "<pre style=\"white-space:pre;overflow-x:auto;line-height:normal;font-family:Menlo,'DejaVu Sans Mono',consolas,'Courier New',monospace\"></pre>\n"
      ],
      "text/plain": []
     },
     "metadata": {},
     "output_type": "display_data"
    },
    {
     "data": {
      "text/html": [
       "<pre style=\"white-space:pre;overflow-x:auto;line-height:normal;font-family:Menlo,'DejaVu Sans Mono',consolas,'Courier New',monospace\">\n",
       "</pre>\n"
      ],
      "text/plain": [
       "\n"
      ]
     },
     "metadata": {},
     "output_type": "display_data"
    },
    {
     "data": {
      "text/html": [
       "<pre style=\"white-space:pre;overflow-x:auto;line-height:normal;font-family:Menlo,'DejaVu Sans Mono',consolas,'Courier New',monospace\"><span style=\"color: #7fbfbf; text-decoration-color: #7fbfbf\">19:08:30 Eastern Standard Time </span>loading simulation from                          \n",
       "<span style=\"color: #7fbfbf; text-decoration-color: #7fbfbf\">                               </span>data\\fdve-<span style=\"color: #ffff00; text-decoration-color: #ffff00\">e72baff0-5b7a-447b-bd87-9478c126e088</span>.hd\n",
       "<span style=\"color: #7fbfbf; text-decoration-color: #7fbfbf\">                               </span>f5                                               \n",
       "</pre>\n"
      ],
      "text/plain": [
       "\u001b[2;36m19:08:30 Eastern Standard Time\u001b[0m\u001b[2;36m \u001b[0mloading simulation from                          \n",
       "\u001b[2;36m                               \u001b[0mdata\\fdve-\u001b[93me72baff0-5b7a-447b-bd87-9478c126e088\u001b[0m.hd\n",
       "\u001b[2;36m                               \u001b[0mf5                                               \n"
      ]
     },
     "metadata": {},
     "output_type": "display_data"
    }
   ],
   "source": [
    "downward_radiation = []\n",
    "\n",
    "for L_0 in L_0_list:\n",
    "    sim_data = batch_results[f\"L_0={L_0:.2f}\"]\n",
    "    downward_radiation.append(np.abs(sim_data[\"flux\"].flux))"
   ]
  },
  {
   "cell_type": "markdown",
   "id": "a9c08725",
   "metadata": {},
   "source": [
    "Plot the downward radiation flux as a function of $L_0$. Then determine the optimal $L_0$."
   ]
  },
  {
   "cell_type": "code",
   "execution_count": 11,
   "id": "7a72a4a8",
   "metadata": {},
   "outputs": [
    {
     "data": {
      "image/png": "[encoded data removed]",
      "text/plain": [
       "<Figure size 640x480 with 1 Axes>"
      ]
     },
     "metadata": {},
     "output_type": "display_data"
    },
    {
     "name": "stdout",
     "output_type": "stream",
     "text": [
      "The optimal offset is 170.0 nm\n"
     ]
    }
   ],
   "source": [
    "plt.plot(L_0_list, downward_radiation, linewidth=3, c=\"red\")\n",
    "plt.xlabel(\"Offset (μm)\")\n",
    "plt.ylabel(\"Downward radiation (%)\")\n",
    "plt.show()\n",
    "\n",
    "# find the offset that results in minimal downward radiation\n",
    "i = np.argmin(downward_radiation)\n",
    "L_0_opt = L_0_list[i]\n",
    "print(f\"The optimal offset is {L_0_opt*1e3} nm\")"
   ]
  },
  {
   "cell_type": "markdown",
   "id": "609cb8a2",
   "metadata": {},
   "source": [
    "## Radiation Pattern of the Optimal Design"
   ]
  },
  {
   "cell_type": "markdown",
   "id": "fb104a88",
   "metadata": {},
   "source": [
    "To simulate the optimal design, we also define two [FieldProjectionAngleMonitor](https://docs.flexcompute.com/projects/tidy3d/en/latest/api/_autosummary/tidy3d.FieldProjectionAngleMonitor.html) objects to compute the far-field radiation pattern upward and downward. "
   ]
  },
  {
   "cell_type": "code",
   "execution_count": 12,
   "id": "dcaf9545",
   "metadata": {},
   "outputs": [
    {
     "data": {
      "text/html": [
       "<pre style=\"white-space:pre;overflow-x:auto;line-height:normal;font-family:Menlo,'DejaVu Sans Mono',consolas,'Courier New',monospace\"><span style=\"color: #7fbfbf; text-decoration-color: #7fbfbf\">                               </span>Created task <span style=\"color: #008000; text-decoration-color: #008000\">'optimized wga'</span> with task_id        \n",
       "<span style=\"color: #7fbfbf; text-decoration-color: #7fbfbf\">                               </span><span style=\"color: #008000; text-decoration-color: #008000\">'fdve-f4f0aae2-c261-4760-ae41-37e7d098700c'</span> and  \n",
       "<span style=\"color: #7fbfbf; text-decoration-color: #7fbfbf\">                               </span>task_type <span style=\"color: #008000; text-decoration-color: #008000\">'FDTD'</span>.                                \n",
       "</pre>\n"
      ],
      "text/plain": [
       "\u001b[2;36m                              \u001b[0m\u001b[2;36m \u001b[0mCreated task \u001b[32m'optimized wga'\u001b[0m with task_id        \n",
       "\u001b[2;36m                               \u001b[0m\u001b[32m'fdve-f4f0aae2-c261-4760-ae41-37e7d098700c'\u001b[0m and  \n",
       "\u001b[2;36m                               \u001b[0mtask_type \u001b[32m'FDTD'\u001b[0m.                                \n"
      ]
     },
     "metadata": {},
     "output_type": "display_data"
    },
    {
     "data": {
      "text/html": [
       "<pre style=\"white-space:pre;overflow-x:auto;line-height:normal;font-family:Menlo,'DejaVu Sans Mono',consolas,'Courier New',monospace\"><span style=\"color: #7fbfbf; text-decoration-color: #7fbfbf\">                               </span>View task using web UI at                        \n",
       "<span style=\"color: #7fbfbf; text-decoration-color: #7fbfbf\">                               </span><a href=\"https://tidy3d.simulation.cloud/workbench?taskId=fdve-f4f0aae2-c261-4760-ae41-37e7d098700c\" target=\"_blank\"><span style=\"color: #008000; text-decoration-color: #008000\">'https://tidy3d.simulation.cloud/workbench?taskId</span></a>\n",
       "<span style=\"color: #7fbfbf; text-decoration-color: #7fbfbf\">                               </span><a href=\"https://tidy3d.simulation.cloud/workbench?taskId=fdve-f4f0aae2-c261-4760-ae41-37e7d098700c\" target=\"_blank\"><span style=\"color: #008000; text-decoration-color: #008000\">=fdve-f4f0aae2-c261-4760-ae41-37e7d098700c'</span></a>.     \n",
       "</pre>\n"
      ],
      "text/plain": [
       "\u001b[2;36m                              \u001b[0m\u001b[2;36m \u001b[0mView task using web UI at                        \n",
       "\u001b[2;36m                               \u001b[0m\u001b]8;id=238621;https://tidy3d.simulation.cloud/workbench?taskId=fdve-f4f0aae2-c261-4760-ae41-37e7d098700c\u001b\\\u001b[32m'https://tidy3d.simulation.cloud/workbench?\u001b[0m\u001b]8;;\u001b\\\u001b]8;id=594808;https://tidy3d.simulation.cloud/workbench?taskId=fdve-f4f0aae2-c261-4760-ae41-37e7d098700c\u001b\\\u001b[32mtaskId\u001b[0m\u001b]8;;\u001b\\\n",
       "\u001b[2;36m                               \u001b[0m\u001b]8;id=238621;https://tidy3d.simulation.cloud/workbench?taskId=fdve-f4f0aae2-c261-4760-ae41-37e7d098700c\u001b\\\u001b[32m=\u001b[0m\u001b]8;;\u001b\\\u001b]8;id=53612;https://tidy3d.simulation.cloud/workbench?taskId=fdve-f4f0aae2-c261-4760-ae41-37e7d098700c\u001b\\\u001b[32mfdve\u001b[0m\u001b]8;;\u001b\\\u001b]8;id=238621;https://tidy3d.simulation.cloud/workbench?taskId=fdve-f4f0aae2-c261-4760-ae41-37e7d098700c\u001b\\\u001b[32m-f4f0aae2-c261-4760-ae41-37e7d098700c'\u001b[0m\u001b]8;;\u001b\\.     \n"
      ]
     },
     "metadata": {},
     "output_type": "display_data"
    },
    {
     "data": {
      "application/vnd.jupyter.widget-view+json": {
       "model_id": "5917730aac3a4426ba4bf4b073fdc001",
       "version_major": 2,
       "version_minor": 0
      },
      "text/plain": [
       "Output()"
      ]
     },
     "metadata": {},
     "output_type": "display_data"
    },
    {
     "data": {
      "text/html": [
       "<pre style=\"white-space:pre;overflow-x:auto;line-height:normal;font-family:Menlo,'DejaVu Sans Mono',consolas,'Courier New',monospace\"></pre>\n"
      ],
      "text/plain": []
     },
     "metadata": {},
     "output_type": "display_data"
    },
    {
     "data": {
      "text/html": [
       "<pre style=\"white-space:pre;overflow-x:auto;line-height:normal;font-family:Menlo,'DejaVu Sans Mono',consolas,'Courier New',monospace\">\n",
       "</pre>\n"
      ],
      "text/plain": [
       "\n"
      ]
     },
     "metadata": {},
     "output_type": "display_data"
    },
    {
     "data": {
      "text/html": [
       "<pre style=\"white-space:pre;overflow-x:auto;line-height:normal;font-family:Menlo,'DejaVu Sans Mono',consolas,'Courier New',monospace\"><span style=\"color: #7fbfbf; text-decoration-color: #7fbfbf\">19:08:32 Eastern Standard Time </span>status = queued                                  \n",
       "</pre>\n"
      ],
      "text/plain": [
       "\u001b[2;36m19:08:32 Eastern Standard Time\u001b[0m\u001b[2;36m \u001b[0mstatus = queued                                  \n"
      ]
     },
     "metadata": {},
     "output_type": "display_data"
    },
    {
     "data": {
      "application/vnd.jupyter.widget-view+json": {
       "model_id": "",
       "version_major": 2,
       "version_minor": 0
      },
      "text/plain": [
       "Output()"
      ]
     },
     "metadata": {},
     "output_type": "display_data"
    },
    {
     "data": {
      "text/html": [
       "<pre style=\"white-space:pre;overflow-x:auto;line-height:normal;font-family:Menlo,'DejaVu Sans Mono',consolas,'Courier New',monospace\"><span style=\"color: #7fbfbf; text-decoration-color: #7fbfbf\">19:09:39 Eastern Standard Time </span>status = preprocess                              \n",
       "</pre>\n"
      ],
      "text/plain": [
       "\u001b[2;36m19:09:39 Eastern Standard Time\u001b[0m\u001b[2;36m \u001b[0mstatus = preprocess                              \n"
      ]
     },
     "metadata": {},
     "output_type": "display_data"
    },
    {
     "data": {
      "text/html": [
       "<pre style=\"white-space:pre;overflow-x:auto;line-height:normal;font-family:Menlo,'DejaVu Sans Mono',consolas,'Courier New',monospace\"></pre>\n"
      ],
      "text/plain": []
     },
     "metadata": {},
     "output_type": "display_data"
    },
    {
     "data": {
      "text/html": [
       "<pre style=\"white-space:pre;overflow-x:auto;line-height:normal;font-family:Menlo,'DejaVu Sans Mono',consolas,'Courier New',monospace\"><span style=\"color: #7fbfbf; text-decoration-color: #7fbfbf\">19:09:41 Eastern Standard Time </span>Maximum FlexCredit cost: <span style=\"color: #008080; text-decoration-color: #008080; font-weight: bold\">0.081</span>. Use              \n",
       "<span style=\"color: #7fbfbf; text-decoration-color: #7fbfbf\">                               </span><span style=\"color: #008000; text-decoration-color: #008000\">'web.real_cost(task_id)'</span> to get the billed       \n",
       "<span style=\"color: #7fbfbf; text-decoration-color: #7fbfbf\">                               </span>FlexCredit cost after a simulation run.          \n",
       "</pre>\n"
      ],
      "text/plain": [
       "\u001b[2;36m19:09:41 Eastern Standard Time\u001b[0m\u001b[2;36m \u001b[0mMaximum FlexCredit cost: \u001b[1;36m0.081\u001b[0m. Use              \n",
       "\u001b[2;36m                               \u001b[0m\u001b[32m'web.real_cost\u001b[0m\u001b[32m(\u001b[0m\u001b[32mtask_id\u001b[0m\u001b[32m)\u001b[0m\u001b[32m'\u001b[0m to get the billed       \n",
       "\u001b[2;36m                               \u001b[0mFlexCredit cost after a simulation run.          \n"
      ]
     },
     "metadata": {},
     "output_type": "display_data"
    },
    {
     "data": {
      "text/html": [
       "<pre style=\"white-space:pre;overflow-x:auto;line-height:normal;font-family:Menlo,'DejaVu Sans Mono',consolas,'Courier New',monospace\"><span style=\"color: #7fbfbf; text-decoration-color: #7fbfbf\">                               </span>starting up solver                               \n",
       "</pre>\n"
      ],
      "text/plain": [
       "\u001b[2;36m                              \u001b[0m\u001b[2;36m \u001b[0mstarting up solver                               \n"
      ]
     },
     "metadata": {},
     "output_type": "display_data"
    },
    {
     "data": {
      "text/html": [
       "<pre style=\"white-space:pre;overflow-x:auto;line-height:normal;font-family:Menlo,'DejaVu Sans Mono',consolas,'Courier New',monospace\"><span style=\"color: #7fbfbf; text-decoration-color: #7fbfbf\">                               </span>running solver                                   \n",
       "</pre>\n"
      ],
      "text/plain": [
       "\u001b[2;36m                              \u001b[0m\u001b[2;36m \u001b[0mrunning solver                                   \n"
      ]
     },
     "metadata": {},
     "output_type": "display_data"
    },
    {
     "data": {
      "text/html": [
       "<pre style=\"white-space:pre;overflow-x:auto;line-height:normal;font-family:Menlo,'DejaVu Sans Mono',consolas,'Courier New',monospace\"><span style=\"color: #7fbfbf; text-decoration-color: #7fbfbf\">                               </span>To cancel the simulation, use                    \n",
       "<span style=\"color: #7fbfbf; text-decoration-color: #7fbfbf\">                               </span><span style=\"color: #008000; text-decoration-color: #008000\">'web.abort(task_id)'</span> or <span style=\"color: #008000; text-decoration-color: #008000\">'web.delete(task_id)'</span> or \n",
       "<span style=\"color: #7fbfbf; text-decoration-color: #7fbfbf\">                               </span>abort/delete the task in the web UI. Terminating \n",
       "<span style=\"color: #7fbfbf; text-decoration-color: #7fbfbf\">                               </span>the Python script will not stop the job running  \n",
       "<span style=\"color: #7fbfbf; text-decoration-color: #7fbfbf\">                               </span>on the cloud.                                    \n",
       "</pre>\n"
      ],
      "text/plain": [
       "\u001b[2;36m                              \u001b[0m\u001b[2;36m \u001b[0mTo cancel the simulation, use                    \n",
       "\u001b[2;36m                               \u001b[0m\u001b[32m'web.abort\u001b[0m\u001b[32m(\u001b[0m\u001b[32mtask_id\u001b[0m\u001b[32m)\u001b[0m\u001b[32m'\u001b[0m or \u001b[32m'web.delete\u001b[0m\u001b[32m(\u001b[0m\u001b[32mtask_id\u001b[0m\u001b[32m)\u001b[0m\u001b[32m'\u001b[0m or \n",
       "\u001b[2;36m                               \u001b[0mabort/delete the task in the web UI. Terminating \n",
       "\u001b[2;36m                               \u001b[0mthe Python script will not stop the job running  \n",
       "\u001b[2;36m                               \u001b[0mon the cloud.                                    \n"
      ]
     },
     "metadata": {},
     "output_type": "display_data"
    },
    {
     "data": {
      "application/vnd.jupyter.widget-view+json": {
       "model_id": "b223e1f93af548cf8414e173df85809f",
       "version_major": 2,
       "version_minor": 0
      },
      "text/plain": [
       "Output()"
      ]
     },
     "metadata": {},
     "output_type": "display_data"
    },
    {
     "data": {
      "text/html": [
       "<pre style=\"white-space:pre;overflow-x:auto;line-height:normal;font-family:Menlo,'DejaVu Sans Mono',consolas,'Courier New',monospace\"><span style=\"color: #7fbfbf; text-decoration-color: #7fbfbf\">19:10:02 Eastern Standard Time </span>early shutoff detected at <span style=\"color: #008080; text-decoration-color: #008080; font-weight: bold\">40</span>%, exiting.          \n",
       "</pre>\n"
      ],
      "text/plain": [
       "\u001b[2;36m19:10:02 Eastern Standard Time\u001b[0m\u001b[2;36m \u001b[0mearly shutoff detected at \u001b[1;36m40\u001b[0m%, exiting.          \n"
      ]
     },
     "metadata": {},
     "output_type": "display_data"
    },
    {
     "data": {
      "text/html": [
       "<pre style=\"white-space:pre;overflow-x:auto;line-height:normal;font-family:Menlo,'DejaVu Sans Mono',consolas,'Courier New',monospace\"></pre>\n"
      ],
      "text/plain": []
     },
     "metadata": {},
     "output_type": "display_data"
    },
    {
     "data": {
      "text/html": [
       "<pre style=\"white-space:pre;overflow-x:auto;line-height:normal;font-family:Menlo,'DejaVu Sans Mono',consolas,'Courier New',monospace\">\n",
       "</pre>\n"
      ],
      "text/plain": [
       "\n"
      ]
     },
     "metadata": {},
     "output_type": "display_data"
    },
    {
     "data": {
      "text/html": [
       "<pre style=\"white-space:pre;overflow-x:auto;line-height:normal;font-family:Menlo,'DejaVu Sans Mono',consolas,'Courier New',monospace\"><span style=\"color: #7fbfbf; text-decoration-color: #7fbfbf\">                               </span>status = postprocess                             \n",
       "</pre>\n"
      ],
      "text/plain": [
       "\u001b[2;36m                              \u001b[0m\u001b[2;36m \u001b[0mstatus = postprocess                             \n"
      ]
     },
     "metadata": {},
     "output_type": "display_data"
    },
    {
     "data": {
      "application/vnd.jupyter.widget-view+json": {
       "model_id": "",
       "version_major": 2,
       "version_minor": 0
      },
      "text/plain": [
       "Output()"
      ]
     },
     "metadata": {},
     "output_type": "display_data"
    },
    {
     "data": {
      "text/html": [
       "<pre style=\"white-space:pre;overflow-x:auto;line-height:normal;font-family:Menlo,'DejaVu Sans Mono',consolas,'Courier New',monospace\"><span style=\"color: #7fbfbf; text-decoration-color: #7fbfbf\">19:10:06 Eastern Standard Time </span>status = success                                 \n",
       "</pre>\n"
      ],
      "text/plain": [
       "\u001b[2;36m19:10:06 Eastern Standard Time\u001b[0m\u001b[2;36m \u001b[0mstatus = success                                 \n"
      ]
     },
     "metadata": {},
     "output_type": "display_data"
    },
    {
     "data": {
      "text/html": [
       "<pre style=\"white-space:pre;overflow-x:auto;line-height:normal;font-family:Menlo,'DejaVu Sans Mono',consolas,'Courier New',monospace\"></pre>\n"
      ],
      "text/plain": []
     },
     "metadata": {},
     "output_type": "display_data"
    },
    {
     "data": {
      "text/html": [
       "<pre style=\"white-space:pre;overflow-x:auto;line-height:normal;font-family:Menlo,'DejaVu Sans Mono',consolas,'Courier New',monospace\"><span style=\"color: #7fbfbf; text-decoration-color: #7fbfbf\">                               </span>View simulation result at                        \n",
       "<span style=\"color: #7fbfbf; text-decoration-color: #7fbfbf\">                               </span><a href=\"https://tidy3d.simulation.cloud/workbench?taskId=fdve-f4f0aae2-c261-4760-ae41-37e7d098700c\" target=\"_blank\"><span style=\"color: #000080; text-decoration-color: #000080; text-decoration: underline\">'https://tidy3d.simulation.cloud/workbench?taskId</span></a>\n",
       "<span style=\"color: #7fbfbf; text-decoration-color: #7fbfbf\">                               </span><a href=\"https://tidy3d.simulation.cloud/workbench?taskId=fdve-f4f0aae2-c261-4760-ae41-37e7d098700c\" target=\"_blank\"><span style=\"color: #000080; text-decoration-color: #000080; text-decoration: underline\">=fdve-f4f0aae2-c261-4760-ae41-37e7d098700c'</span></a><span style=\"color: #000080; text-decoration-color: #000080; text-decoration: underline\">.</span>     \n",
       "</pre>\n"
      ],
      "text/plain": [
       "\u001b[2;36m                              \u001b[0m\u001b[2;36m \u001b[0mView simulation result at                        \n",
       "\u001b[2;36m                               \u001b[0m\u001b]8;id=3911;https://tidy3d.simulation.cloud/workbench?taskId=fdve-f4f0aae2-c261-4760-ae41-37e7d098700c\u001b\\\u001b[4;34m'https://tidy3d.simulation.cloud/workbench?\u001b[0m\u001b]8;;\u001b\\\u001b]8;id=372404;https://tidy3d.simulation.cloud/workbench?taskId=fdve-f4f0aae2-c261-4760-ae41-37e7d098700c\u001b\\\u001b[4;34mtaskId\u001b[0m\u001b]8;;\u001b\\\n",
       "\u001b[2;36m                               \u001b[0m\u001b]8;id=3911;https://tidy3d.simulation.cloud/workbench?taskId=fdve-f4f0aae2-c261-4760-ae41-37e7d098700c\u001b\\\u001b[4;34m=\u001b[0m\u001b]8;;\u001b\\\u001b]8;id=627899;https://tidy3d.simulation.cloud/workbench?taskId=fdve-f4f0aae2-c261-4760-ae41-37e7d098700c\u001b\\\u001b[4;34mfdve\u001b[0m\u001b]8;;\u001b\\\u001b]8;id=3911;https://tidy3d.simulation.cloud/workbench?taskId=fdve-f4f0aae2-c261-4760-ae41-37e7d098700c\u001b\\\u001b[4;34m-f4f0aae2-c261-4760-ae41-37e7d098700c'\u001b[0m\u001b]8;;\u001b\\\u001b[4;34m.\u001b[0m     \n"
      ]
     },
     "metadata": {},
     "output_type": "display_data"
    },
    {
     "data": {
      "application/vnd.jupyter.widget-view+json": {
       "model_id": "4f435b9a8312415ca0408e6b79916e50",
       "version_major": 2,
       "version_minor": 0
      },
      "text/plain": [
       "Output()"
      ]
     },
     "metadata": {},
     "output_type": "display_data"
    },
    {
     "data": {
      "text/html": [
       "<pre style=\"white-space:pre;overflow-x:auto;line-height:normal;font-family:Menlo,'DejaVu Sans Mono',consolas,'Courier New',monospace\"></pre>\n"
      ],
      "text/plain": []
     },
     "metadata": {},
     "output_type": "display_data"
    },
    {
     "data": {
      "text/html": [
       "<pre style=\"white-space:pre;overflow-x:auto;line-height:normal;font-family:Menlo,'DejaVu Sans Mono',consolas,'Courier New',monospace\">\n",
       "</pre>\n"
      ],
      "text/plain": [
       "\n"
      ]
     },
     "metadata": {},
     "output_type": "display_data"
    },
    {
     "data": {
      "text/html": [
       "<pre style=\"white-space:pre;overflow-x:auto;line-height:normal;font-family:Menlo,'DejaVu Sans Mono',consolas,'Courier New',monospace\"><span style=\"color: #7fbfbf; text-decoration-color: #7fbfbf\">19:10:08 Eastern Standard Time </span>loading simulation from simulation_data.hdf5     \n",
       "</pre>\n"
      ],
      "text/plain": [
       "\u001b[2;36m19:10:08 Eastern Standard Time\u001b[0m\u001b[2;36m \u001b[0mloading simulation from simulation_data.hdf5     \n"
      ]
     },
     "metadata": {},
     "output_type": "display_data"
    }
   ],
   "source": [
    "sim_opt = make_sim(L_0_opt)  # create simulation for the optimal design\n",
    "\n",
    "# define field projection angle ranges\n",
    "theta_array = np.linspace(0, np.deg2rad(60), 100)  # polar angle\n",
    "phi_array = np.linspace(0, 2 * np.pi, 200)  # azimuthal angle\n",
    "\n",
    "# define the top field projection monitor\n",
    "monitor_top = td.FieldProjectionAngleMonitor(\n",
    "    name=\"top\",\n",
    "    center=(0, 0, 8 * t),\n",
    "    size=(td.inf, td.inf, 0),\n",
    "    freqs=[freq0],\n",
    "    theta=theta_array,\n",
    "    phi=phi_array,\n",
    ")\n",
    "\n",
    "# define the bottom field projection monitor\n",
    "monitor_bottom = td.FieldProjectionAngleMonitor(\n",
    "    name=\"bottom\",\n",
    "    normal_dir=\"-\",\n",
    "    center=(0, 0, -8 * t),\n",
    "    size=(td.inf, td.inf, 0),\n",
    "    freqs=[freq0],\n",
    "    theta=np.pi - theta_array,\n",
    "    phi=phi_array,\n",
    ")\n",
    "\n",
    "# add the field projection monitors to the simulation\n",
    "sim_opt = sim_opt.copy(update={\"monitors\": [monitor_top, monitor_bottom]})\n",
    "\n",
    "# run the simulation\n",
    "sim_data_opt = web.run(simulation=sim_opt, task_name=\"optimized wga\")"
   ]
  },
  {
   "cell_type": "markdown",
   "id": "7f037e81",
   "metadata": {},
   "source": [
    "Plot the normalized upward radiation pattern. "
   ]
  },
  {
   "cell_type": "code",
   "execution_count": 13,
   "id": "28b08cf9",
   "metadata": {},
   "outputs": [
    {
     "data": {
      "image/png": "[encoded data removed]",
      "text/plain": [
       "<Figure size 640x480 with 2 Axes>"
      ]
     },
     "metadata": {},
     "output_type": "display_data"
    }
   ],
   "source": [
    "P = sim_data_opt[\"top\"].power.squeeze(drop=True)  # extract upward radiated power\n",
    "P_max = np.max(P)\n",
    "P_norm = P / P_max\n",
    "\n",
    "# plot the radiation pattern in polar coordinates\n",
    "fig = plt.figure()\n",
    "ax = fig.add_subplot(111, polar=True)\n",
    "c = ax.pcolor(\n",
    "    phi_array, np.rad2deg(theta_array), P_norm, shading=\"auto\", cmap=\"hot\", vmin=0, vmax=1\n",
    ")\n",
    "cb = fig.colorbar(c, ax=ax)\n",
    "cb.set_label(\"Intensity\")\n",
    "_ = plt.setp(ax.get_yticklabels(), color=\"white\")"
   ]
  },
  {
   "cell_type": "markdown",
   "id": "c56cfcb1",
   "metadata": {},
   "source": [
    "Plot the normalized downward radiation pattern on the same color scale. In comparison, we can see that the downward radiation is nearly invisible since it is orders of magnitude weaker than the upward radiation as desired. "
   ]
  },
  {
   "cell_type": "code",
   "execution_count": 14,
   "id": "9e55075b",
   "metadata": {},
   "outputs": [
    {
     "data": {
      "image/png": "[encoded data removed]",
      "text/plain": [
       "<Figure size 640x480 with 2 Axes>"
      ]
     },
     "metadata": {},
     "output_type": "display_data"
    }
   ],
   "source": [
    "P = sim_data_opt[\"bottom\"].power.squeeze(drop=True)  # extract downward radiated power\n",
    "P_norm = P / P_max\n",
    "\n",
    "# plot the radiation pattern in polar coordinates\n",
    "fig = plt.figure()\n",
    "ax = fig.add_subplot(111, polar=True)\n",
    "c = ax.pcolor(\n",
    "    phi_array, np.rad2deg(theta_array), P_norm, shading=\"auto\", cmap=\"hot\", vmin=0, vmax=1\n",
    ")\n",
    "cb = fig.colorbar(c, ax=ax)\n",
    "cb.set_label(\"Intensity\")\n",
    "_ = plt.setp(ax.get_yticklabels(), color=\"white\")"
   ]
  },
  {
   "cell_type": "code",
   "execution_count": null,
   "id": "ba183ab6",
   "metadata": {},
   "outputs": [],
   "source": []
  }
 ],
 "metadata": {
  "applications": [
   "Passive photonic integrated circuit components",
   "Optical scattering and far-field radiation"
  ],
  "description": "This notebook demonstrates how to simulate a waveguide grating antenna Tidy3D FDTD.",
  "feature_image": "./img/wga_schematic.png",
  "features": [
   "Far field projection"
  ],
  "kernelspec": {
   "display_name": "Python 3 (ipykernel)",
   "language": "python",
   "name": "python3"
  },
  "keywords": "WGA, waveguide, grating, antenna, lidar, integrated photonics, Tidy3D, FDTD",
  "language_info": {
   "codemirror_mode": {
    "name": "ipython",
    "version": 3
   },
   "file_extension": ".py",
   "mimetype": "text/x-python",
   "name": "python",
   "nbconvert_exporter": "python",
   "pygments_lexer": "ipython3",
   "version": "3.11.7"
  },
  "title": "Waveguide Grating Antenna Modeling in Tidy3D | Flexcompute"
 },
 "nbformat": 4,
 "nbformat_minor": 5
}
