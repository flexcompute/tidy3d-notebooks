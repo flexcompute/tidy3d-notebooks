{
 "cells": [
  {
   "cell_type": "markdown",
   "id": "2519a2a0",
   "metadata": {},
   "source": [
    "# Bi-layer SiN edge coupler in the visible frequency"
   ]
  },
  {
   "cell_type": "markdown",
   "id": "12cce5cd",
   "metadata": {},
   "source": [
    "**Note: the cost of running the entire notebook is around 20 FlexCredits.**\n",
    "\n",
    "Photonic integrated circuits that operate at visible wavelengths (400-700nm) are gaining interest for emerging applications beyond traditional telecommunications. Compared to PICs designed for infrared wavelengths, visible light PICs can potentially enable new applications in spectroscopy, bio-medical imaging, quantum computing, augmented reality, and more. However, efficiently interfacing visible light between optical fibers and nanophotonic components on a chip remains challenging. Due to the shorter wavelengths, photonic waveguides must be smaller to confine light, leading to significant mode mismatch with optical fibers. Efficient coupling techniques like inverse tapers reach the limits of fabrication capabilities at visible wavelengths. Novel solutions are needed to address these challenges in fiber-to-chip coupling for visible light PICs.\n",
    "\n",
    "In this notebook, we demonstrate a SiN bi-layer edge coupler design for efficient and broadband fiber-to-chip coupling in visible frequency. The design uses a thin top SiN layer for mode field diameter expansion at the facet to improve fiber coupling and a thicker bottom SiN layer for tight mode confinement and routing. The design achieves a coupling loss ≤4 dB over a broad wavelength range, which is 3-5 dB lower compared to conventional single-layer edge couplers. The example is adapted from `Yiding Lin, Jason C. C. Mak, Hong Chen, Xin Mu, Andrei Stalmashonak, Youngho Jung, Xianshu Luo, Patrick G.-Q. Lo, Wesley D. Sacher, and Joyce K. S. Poon, \"Low-loss broadband bi-layer edge couplers for visible light,\" Opt. Express 29, 34565-34576 (2021)` [DOI:10.1364/OE.435669](https://doi.org/10.1364/OE.435669).\n",
    "\n",
    "<img src=\"img/bilayer_edge_coupler.png\" width=\"500\" alt=\"Schematic of the edge coupler\">\n",
    "\n",
    "In another case study, we investigate [inverse taper edge couplers](https://www.flexcompute.com/tidy3d/examples/notebooks/EdgeCoupler/) at the telecom frequency. In addition, different grating coupler designs including the [uniform grating coupler](https://www.flexcompute.com/tidy3d/examples/notebooks/GratingCoupler/), the [focusing apodized grating coupler](https://www.flexcompute.com/tidy3d/examples/notebooks/FocusedApodGC/), and the [inverse designed compact grating coupler](https://www.flexcompute.com/tidy3d/examples/notebooks/AdjointPlugin6GratingCoupler/) are also explored in various case studies. "
   ]
  },
  {
   "cell_type": "code",
   "execution_count": 1,
   "id": "078e5bb6",
   "metadata": {
    "execution": {
     "iopub.execute_input": "2024-09-05T11:01:58.458268Z",
     "iopub.status.busy": "2024-09-05T11:01:58.457481Z",
     "iopub.status.idle": "2024-09-05T11:02:00.288634Z",
     "shell.execute_reply": "2024-09-05T11:02:00.287563Z"
    }
   },
   "outputs": [],
   "source": [
    "import numpy as np\n",
    "import matplotlib.pyplot as plt\n",
    "\n",
    "import tidy3d as td\n",
    "import tidy3d.web as web"
   ]
  },
  {
   "cell_type": "markdown",
   "id": "6e2a66e4",
   "metadata": {},
   "source": [
    "## Simulation Setup"
   ]
  },
  {
   "cell_type": "markdown",
   "id": "46d57530",
   "metadata": {},
   "source": [
    "The wavelength range of interest for this edge coupler is 400 nm to 640 nm."
   ]
  },
  {
   "cell_type": "code",
   "execution_count": 2,
   "id": "daf4ef1d",
   "metadata": {
    "execution": {
     "iopub.execute_input": "2024-09-05T11:02:00.296111Z",
     "iopub.status.busy": "2024-09-05T11:02:00.294827Z",
     "iopub.status.idle": "2024-09-05T11:02:00.302330Z",
     "shell.execute_reply": "2024-09-05T11:02:00.301429Z"
    }
   },
   "outputs": [],
   "source": [
    "lda0 = 0.52  # central wavelength\n",
    "freq0 = td.C_0 / lda0  # central frequency\n",
    "ldas = np.linspace(0.4, 0.64, 51)  # wavelength range\n",
    "freqs = td.C_0 / ldas  # frequency range\n",
    "fwidth = 0.5 * (np.max(freqs) - np.min(freqs))  # width of the source frequency"
   ]
  },
  {
   "cell_type": "markdown",
   "id": "31924aee",
   "metadata": {},
   "source": [
    "The bi-layer structure is surrounded by a 2 $\\mu m$ top SiO$_2$ cladding and a 3$\\mu m$ bottom SiO$_2$ layer. We do not model the air region above the top cladding and the silicon region below the SiO$_2$ layer since the mode diameter of the single mode fiber is only about 3.7 $\\mu m$. In this case, we first define two materials: SiN and SiO$_2$, both of which are described by a constant refractive index given in the [reference](https://doi.org/10.1364/OE.435669). Using non-dispersive media also helps to reduce the computational cost. \n",
    "\n",
    "Based on the [reference](https://doi.org/10.1364/OE.435669), the optical fiber used is a Nufern S405-XP single-mode fiber, which has a core diameter of 3 $\\mu m$ and a numerical aperture (NA) of 0.12. Here we assume The cladding material is the same SiO$_2$ and calculate the core refractive index based on the NA and $n_{SiO_2}$. "
   ]
  },
  {
   "cell_type": "code",
   "execution_count": 3,
   "id": "ff6e1104",
   "metadata": {
    "execution": {
     "iopub.execute_input": "2024-09-05T11:02:00.307518Z",
     "iopub.status.busy": "2024-09-05T11:02:00.307107Z",
     "iopub.status.idle": "2024-09-05T11:02:00.313650Z",
     "shell.execute_reply": "2024-09-05T11:02:00.312375Z"
    }
   },
   "outputs": [],
   "source": [
    "n_SiN = 1.82  # silicon nitride refractive index\n",
    "SiN = td.Medium(permittivity=n_SiN**2)\n",
    "\n",
    "n_SiO2 = 1.46  # silicon oxide refractive index\n",
    "SiO2 = td.Medium(permittivity=n_SiO2**2)\n",
    "\n",
    "NA = 0.12  # numerical aperture of the optical fiber\n",
    "n_core = np.sqrt(NA**2 + n_SiO2**2)  # fiber core refractive index\n",
    "core_mat = td.Medium(permittivity=n_core**2)"
   ]
  },
  {
   "cell_type": "markdown",
   "id": "e903b22a",
   "metadata": {},
   "source": [
    "Next we define the geometric parameters of the edge coupler. The physical meanings of the parameters are schematically shown in Fig.1 of the [publication](https://doi.org/10.1364/OE.435669). We assume a 500 nm air gap between the optical fiber facet to the beginning of the edge coupler."
   ]
  },
  {
   "cell_type": "code",
   "execution_count": 4,
   "id": "b3757b55",
   "metadata": {
    "execution": {
     "iopub.execute_input": "2024-09-05T11:02:00.319260Z",
     "iopub.status.busy": "2024-09-05T11:02:00.318615Z",
     "iopub.status.idle": "2024-09-05T11:02:00.325776Z",
     "shell.execute_reply": "2024-09-05T11:02:00.324638Z"
    }
   },
   "outputs": [],
   "source": [
    "W_EC = 0.15  # width of the tip of the edge coupler\n",
    "W_base = 1  # width of the base\n",
    "W_tip1 = 0.15  # width of the tip of the bottom SiN\n",
    "W_tip2 = 0.15  # width of the tip of the top SiN\n",
    "W_wg = 0.38  # width of the straight SiN waveguide\n",
    "L_EC = 200  # length of the edge coupler\n",
    "L_tran = 75  # length of the transition region\n",
    "t_1 = 0.15  # thickness of the bottom SiN\n",
    "t_2 = 0.075  # thickness of the top SiN\n",
    "t_space = 0.1  # spacing between the two SiN layers\n",
    "buffer = 3  # buffer spacing\n",
    "r_core = 1.5  # radius of the fiber core\n",
    "l_fiber = 10  # length of the fiber\n",
    "gap = 0.5  # air gap size between the fiber and edge coupler"
   ]
  },
  {
   "cell_type": "markdown",
   "id": "721f4adf",
   "metadata": {},
   "source": [
    "Given the shapes of the SiN layers, the most convenient way to define them is by using [PolySlab](https://docs.flexcompute.com/projects/tidy3d/en/latest/api/_autosummary/tidy3d.PolySlab.html). The vertices can be easily calculated from the geometric parameters defined above."
   ]
  },
  {
   "cell_type": "code",
   "execution_count": 5,
   "id": "fde9e903",
   "metadata": {
    "execution": {
     "iopub.execute_input": "2024-09-05T11:02:00.331478Z",
     "iopub.status.busy": "2024-09-05T11:02:00.330900Z",
     "iopub.status.idle": "2024-09-05T11:02:00.351419Z",
     "shell.execute_reply": "2024-09-05T11:02:00.350286Z"
    }
   },
   "outputs": [],
   "source": [
    "# define vertices for the bottom SiN\n",
    "vertices = [\n",
    "    (L_EC, -W_tip1 / 2),\n",
    "    (L_EC + L_tran, -W_wg / 2),\n",
    "    (L_EC + L_tran + 2 * buffer, -W_wg / 2),\n",
    "    (L_EC + L_tran + 2 * buffer, W_wg / 2),\n",
    "    (L_EC + L_tran, W_wg / 2),\n",
    "    (L_EC, W_tip1 / 2),\n",
    "]\n",
    "# define the bottom SiN structure\n",
    "bottom_SiN = td.Structure(\n",
    "    geometry=td.PolySlab(vertices=vertices, axis=2, slab_bounds=(-t_1 / 2, t_1 / 2)), medium=SiN\n",
    ")\n",
    "\n",
    "# define vertices for the top SiN\n",
    "vertices = [\n",
    "    (0, W_EC / 2),\n",
    "    (L_EC, W_base / 2),\n",
    "    (L_EC + L_tran, W_tip2 / 2),\n",
    "    (L_EC + L_tran, -W_tip2 / 2),\n",
    "    (L_EC, -W_base / 2),\n",
    "    (0, -W_EC / 2),\n",
    "]\n",
    "\n",
    "# define the top SiN structure\n",
    "top_SiN = td.Structure(\n",
    "    geometry=td.PolySlab(\n",
    "        vertices=vertices, axis=2, slab_bounds=(t_1 / 2 + t_space, t_1 / 2 + t_space + t_2)\n",
    "    ),\n",
    "    medium=SiN,\n",
    ")\n",
    "\n",
    "# define the SiO2 cladding structure\n",
    "cladding_SiO2 = td.Structure(\n",
    "    geometry=td.Box.from_bounds(\n",
    "        rmin=(0, -4 * r_core, -4 * r_core),\n",
    "        rmax=(L_EC + L_tran + 2 * r_core + buffer, 4 * r_core, 4 * r_core),\n",
    "    ),\n",
    "    medium=SiO2,\n",
    ")\n",
    "\n",
    "# define the optical fiber core\n",
    "core_fiber = td.Structure(\n",
    "    geometry=td.Cylinder(\n",
    "        axis=0,\n",
    "        radius=r_core,\n",
    "        length=l_fiber,\n",
    "        center=(-l_fiber / 2 - gap, 0, t_1 / 2 + t_space + t_2 / 2),\n",
    "    ),\n",
    "    medium=core_mat,\n",
    ")\n",
    "\n",
    "# define the optical fiber cladding\n",
    "cladding_fiber = td.Structure(\n",
    "    geometry=td.Box.from_bounds(\n",
    "        rmin=(-2 * buffer, -4 * r_core, -4 * r_core),\n",
    "        rmax=(-gap, 4 * r_core, 4 * r_core),\n",
    "    ),\n",
    "    medium=SiO2,\n",
    ")"
   ]
  },
  {
   "cell_type": "markdown",
   "id": "15bbf739",
   "metadata": {},
   "source": [
    "Since we already know the core radius and the refractive indices of the fiber core and cladding materials, we model the fiber explicitly and then use a [ModeSource](https://docs.flexcompute.com/projects/tidy3d/en/latest/api/_autosummary/tidy3d.ModeSource.html) to launch the fiber mode. Alternatively, we can use a [GaussianBeam](https://docs.flexcompute.com/projects/tidy3d/en/latest/api/_autosummary/tidy3d.GaussianBeam.html) with the same beam size to mimic the fiber mode, as demonstrated in the previous [inverse taper edge couplers](https://www.flexcompute.com/tidy3d/examples/notebooks/EdgeCoupler/) example. We will run two separate simulations to investigate the coupling efficiencies of TE and TM modes. The two polarizations correspond to two different symmetry conditions.\n",
    "\n",
    "To compute the coupling efficiency, we add a [ModeMonitor](https://docs.flexcompute.com/projects/tidy3d/en/latest/api/_autosummary/tidy3d.ModeMonitor.html) at the straight SiN waveguide. Although not necessary, it's still quite helpful to add a [FieldMonitor](https://docs.flexcompute.com/projects/tidy3d/en/latest/api/_autosummary/tidy3d.FieldMonitor.html) to visualize the field distribution. Since the simulation domain is quite large, we don't need to store the field at each grid point to have a good field distribution plot. Therefore, we set `interval_space=(3,1,1)` to downsample the stored field by a factor of 3, which helps reduce the size of the downloaded data significantly. "
   ]
  },
  {
   "cell_type": "code",
   "execution_count": 6,
   "id": "80af6e47",
   "metadata": {
    "execution": {
     "iopub.execute_input": "2024-09-05T11:02:00.357723Z",
     "iopub.status.busy": "2024-09-05T11:02:00.356817Z",
     "iopub.status.idle": "2024-09-05T11:02:00.371616Z",
     "shell.execute_reply": "2024-09-05T11:02:00.370386Z"
    }
   },
   "outputs": [],
   "source": [
    "# add a mode source as excitation\n",
    "mode_spec = td.ModeSpec(num_modes=1, target_neff=n_core)\n",
    "fiber_mode = td.ModeSource(\n",
    "    center=(-gap - lda0, 0, t_1 / 2 + t_space + t_2 / 2),\n",
    "    size=(0, 5 * r_core, 5 * r_core),\n",
    "    source_time=td.GaussianPulse(freq0=freq0, fwidth=fwidth),\n",
    "    direction=\"+\",\n",
    "    mode_spec=mode_spec,\n",
    "    mode_index=0,\n",
    ")\n",
    "\n",
    "# define a mode monitor at the straight SiN waveguide to compute coupling efficiency\n",
    "mode_spec = td.ModeSpec(num_modes=1, target_neff=n_SiN)\n",
    "mode_monitor = td.ModeMonitor(\n",
    "    center=(L_EC + L_tran + buffer / 2, 0, 0),\n",
    "    size=(0, 4 * W_wg, 6 * t_1),\n",
    "    freqs=freqs,\n",
    "    mode_spec=mode_spec,\n",
    "    name=\"mode\",\n",
    ")\n",
    "\n",
    "# add a field monitor to visualize field distribution at y=0\n",
    "field_monitor = td.FieldMonitor(\n",
    "    center=(0, 0, 0),\n",
    "    size=(td.inf, 0, 3 * r_core),\n",
    "    freqs=[freq0],\n",
    "    interval_space=(3, 1, 1),\n",
    "    name=\"field\",\n",
    ")"
   ]
  },
  {
   "cell_type": "markdown",
   "id": "cb918025",
   "metadata": {},
   "source": [
    "First we define the simulation with TE polarization. This polarization corresponds to `symmetry=(0,-1,0)`. To learn how to properly utilize symmetry to reduce computational cost, please refer to our [symmetry tutorial](https://www.flexcompute.com/tidy3d/examples/notebooks/Symmetry/). The simulation domain sizes in the $y$ and $z$ directions need to be sufficiently large to ensure the optical fiber mode as well as the waveguide mode field at the tip of the edge coupler decays to zero at the boundaries. "
   ]
  },
  {
   "cell_type": "code",
   "execution_count": 7,
   "id": "3e6ad3e9",
   "metadata": {
    "execution": {
     "iopub.execute_input": "2024-09-05T11:02:00.377183Z",
     "iopub.status.busy": "2024-09-05T11:02:00.376594Z",
     "iopub.status.idle": "2024-09-05T11:02:00.880510Z",
     "shell.execute_reply": "2024-09-05T11:02:00.879594Z"
    }
   },
   "outputs": [
    {
     "data": {
      "image/png": "[encoded data removed]",
      "text/plain": [
       "<Figure size 1000x300 with 3 Axes>"
      ]
     },
     "metadata": {},
     "output_type": "display_data"
    }
   ],
   "source": [
    "# define simulation domain size\n",
    "Lx = L_EC + L_tran + 2 * buffer\n",
    "Ly = 6 * r_core\n",
    "Lz = 6 * r_core\n",
    "sim_size = (Lx, Ly, Lz)\n",
    "\n",
    "run_time = 3e-12  # simulation run time\n",
    "\n",
    "# construct simulation\n",
    "sim_te = td.Simulation(\n",
    "    center=((L_EC + L_tran) / 2, 0, 0),\n",
    "    size=sim_size,\n",
    "    grid_spec=td.GridSpec.auto(min_steps_per_wvl=12, wavelength=lda0),\n",
    "    structures=[cladding_SiO2, top_SiN, bottom_SiN, cladding_fiber, core_fiber],\n",
    "    sources=[fiber_mode],\n",
    "    monitors=[mode_monitor, field_monitor],\n",
    "    run_time=run_time,\n",
    "    boundary_spec=td.BoundarySpec.all_sides(boundary=td.PML()),\n",
    "    symmetry=(0, -1, 0),\n",
    ")\n",
    "\n",
    "# plot a few cross sections of the simulation to examine the setup\n",
    "fig, (ax1, ax2, ax3) = plt.subplots(1, 3, figsize=(10, 3), tight_layout=True)\n",
    "sim_te.plot(y=0, ax=ax1)\n",
    "ax1.set_ylim(-r_core / 2, r_core / 2)\n",
    "ax1.set_aspect(\"auto\")\n",
    "\n",
    "sim_te.plot(z=0, ax=ax2)\n",
    "ax2.set_aspect(\"auto\")\n",
    "ax2.set_ylim(-r_core / 2, r_core / 2)\n",
    "\n",
    "sim_te.plot(z=t_1 / 2 + t_space + t_2 / 2, ax=ax3)\n",
    "ax3.set_aspect(\"auto\")\n",
    "ax3.set_ylim(-r_core / 2, r_core / 2)\n",
    "\n",
    "plt.show()"
   ]
  },
  {
   "cell_type": "markdown",
   "id": "2f48ddd0",
   "metadata": {},
   "source": [
    "In addition, we zoom in to the optical fiber region to ensure it is set up correctly."
   ]
  },
  {
   "cell_type": "code",
   "execution_count": 8,
   "id": "c184a52a",
   "metadata": {
    "execution": {
     "iopub.execute_input": "2024-09-05T11:02:00.885362Z",
     "iopub.status.busy": "2024-09-05T11:02:00.884619Z",
     "iopub.status.idle": "2024-09-05T11:02:01.087216Z",
     "shell.execute_reply": "2024-09-05T11:02:01.086251Z"
    }
   },
   "outputs": [
    {
     "data": {
      "image/png": "[encoded data removed]",
      "text/plain": [
       "<Figure size 640x480 with 1 Axes>"
      ]
     },
     "metadata": {},
     "output_type": "display_data"
    }
   ],
   "source": [
    "ax = sim_te.plot(z=t_1 / 2 + t_space + t_2 / 2)\n",
    "ax.set_aspect(\"auto\")\n",
    "ax.set_xlim(-gap - lda0, lda0)\n",
    "plt.show()"
   ]
  },
  {
   "cell_type": "markdown",
   "id": "fd606e84",
   "metadata": {},
   "source": [
    "The TM polarization simulation can be defined by copying the TE simulation and updating the symmetry."
   ]
  },
  {
   "cell_type": "code",
   "execution_count": 9,
   "id": "3708ec54",
   "metadata": {
    "execution": {
     "iopub.execute_input": "2024-09-05T11:02:01.092716Z",
     "iopub.status.busy": "2024-09-05T11:02:01.092255Z",
     "iopub.status.idle": "2024-09-05T11:02:01.123462Z",
     "shell.execute_reply": "2024-09-05T11:02:01.122614Z"
    }
   },
   "outputs": [
    {
     "name": "stdout",
     "output_type": "stream",
     "text": [
      "The simulation contains 1.347661944 billion grid points.\n"
     ]
    }
   ],
   "source": [
    "sim_tm = sim_te.copy(update={\"symmetry\": (0, 1, 0)})\n",
    "print(f\"The simulation contains {sim_tm.num_cells/1e9} billion grid points.\")"
   ]
  },
  {
   "cell_type": "markdown",
   "id": "748d8565",
   "metadata": {},
   "source": [
    "Each simulation contains over **1 billion** grid points since the length of the coupler is over 500 free space wavelengths. For `Tidy3D`, such large simulations can be handled easily."
   ]
  },
  {
   "cell_type": "markdown",
   "id": "c24da3b8",
   "metadata": {},
   "source": [
    "## Batch Sweeping Different Polarizations"
   ]
  },
  {
   "cell_type": "markdown",
   "id": "61539ff5",
   "metadata": {},
   "source": [
    "We can run the two simulations sequentially. However, for maximum efficiency, we will run them concurrently by making a simulation [Batch](https://docs.flexcompute.com/projects/tidy3d/en/latest/api/_autosummary/tidy3d.web.api.container.Batch.html). To do so, we first put simulations in a Python dictionary."
   ]
  },
  {
   "cell_type": "code",
   "execution_count": 10,
   "id": "796ba26c",
   "metadata": {
    "execution": {
     "iopub.execute_input": "2024-09-05T11:02:01.129163Z",
     "iopub.status.busy": "2024-09-05T11:02:01.128448Z",
     "iopub.status.idle": "2024-09-05T11:02:01.134536Z",
     "shell.execute_reply": "2024-09-05T11:02:01.133315Z"
    }
   },
   "outputs": [],
   "source": [
    "sims = {\n",
    "    \"TE\": sim_te,\n",
    "    \"TM\": sim_tm,\n",
    "}"
   ]
  },
  {
   "cell_type": "markdown",
   "id": "54ef9361",
   "metadata": {},
   "source": [
    "Then we submit the simulation as a [Batch](https://docs.flexcompute.com/projects/tidy3d/en/latest/api/_autosummary/tidy3d.web.api.container.Batch.html) to run on the server."
   ]
  },
  {
   "cell_type": "code",
   "execution_count": 11,
   "id": "91d3fbf5",
   "metadata": {
    "execution": {
     "iopub.execute_input": "2024-09-05T11:02:01.138362Z",
     "iopub.status.busy": "2024-09-05T11:02:01.137717Z",
     "iopub.status.idle": "2024-09-05T11:08:04.663350Z",
     "shell.execute_reply": "2024-09-05T11:08:04.662085Z"
    },
    "scrolled": true
   },
   "outputs": [
    {
     "data": {
      "application/vnd.jupyter.widget-view+json": {
       "model_id": "1d73e1e78970431096323532e0645e07",
       "version_major": 2,
       "version_minor": 0
      },
      "text/plain": [
       "Output()"
      ]
     },
     "metadata": {},
     "output_type": "display_data"
    },
    {
     "data": {
      "text/html": [
       "<pre style=\"white-space:pre;overflow-x:auto;line-height:normal;font-family:Menlo,'DejaVu Sans Mono',consolas,'Courier New',monospace\"></pre>\n"
      ],
      "text/plain": []
     },
     "metadata": {},
     "output_type": "display_data"
    },
    {
     "data": {
      "text/html": [
       "<pre style=\"white-space:pre;overflow-x:auto;line-height:normal;font-family:Menlo,'DejaVu Sans Mono',consolas,'Courier New',monospace\">\n",
       "</pre>\n"
      ],
      "text/plain": [
       "\n"
      ]
     },
     "metadata": {},
     "output_type": "display_data"
    },
    {
     "data": {
      "text/html": [
       "<pre style=\"white-space:pre;overflow-x:auto;line-height:normal;font-family:Menlo,'DejaVu Sans Mono',consolas,'Courier New',monospace\"><span style=\"color: #7fbfbf; text-decoration-color: #7fbfbf\">11:02:02 UTC </span>Started working on Batch containing <span style=\"color: #008080; text-decoration-color: #008080; font-weight: bold\">2</span> tasks.                       \n",
       "</pre>\n"
      ],
      "text/plain": [
       "\u001b[2;36m11:02:02 UTC\u001b[0m\u001b[2;36m \u001b[0mStarted working on Batch containing \u001b[1;36m2\u001b[0m tasks.                       \n"
      ]
     },
     "metadata": {},
     "output_type": "display_data"
    },
    {
     "data": {
      "text/html": [
       "<pre style=\"white-space:pre;overflow-x:auto;line-height:normal;font-family:Menlo,'DejaVu Sans Mono',consolas,'Courier New',monospace\"><span style=\"color: #7fbfbf; text-decoration-color: #7fbfbf\">11:02:04 UTC </span>Maximum FlexCredit cost: <span style=\"color: #008080; text-decoration-color: #008080; font-weight: bold\">26.339</span> for the whole batch.               \n",
       "</pre>\n"
      ],
      "text/plain": [
       "\u001b[2;36m11:02:04 UTC\u001b[0m\u001b[2;36m \u001b[0mMaximum FlexCredit cost: \u001b[1;36m26.339\u001b[0m for the whole batch.               \n"
      ]
     },
     "metadata": {},
     "output_type": "display_data"
    },
    {
     "data": {
      "text/html": [
       "<pre style=\"white-space:pre;overflow-x:auto;line-height:normal;font-family:Menlo,'DejaVu Sans Mono',consolas,'Courier New',monospace\"><span style=\"color: #7fbfbf; text-decoration-color: #7fbfbf\">             </span>Use <span style=\"color: #008000; text-decoration-color: #008000\">'Batch.real_cost()'</span> to get the billed FlexCredit cost after the\n",
       "<span style=\"color: #7fbfbf; text-decoration-color: #7fbfbf\">             </span>Batch has completed.                                               \n",
       "</pre>\n"
      ],
      "text/plain": [
       "\u001b[2;36m            \u001b[0m\u001b[2;36m \u001b[0mUse \u001b[32m'Batch.real_cost\u001b[0m\u001b[32m(\u001b[0m\u001b[32m)\u001b[0m\u001b[32m'\u001b[0m to get the billed FlexCredit cost after the\n",
       "\u001b[2;36m             \u001b[0mBatch has completed.                                               \n"
      ]
     },
     "metadata": {},
     "output_type": "display_data"
    },
    {
     "data": {
      "application/vnd.jupyter.widget-view+json": {
       "model_id": "a5d756f0d9cf426faefddbcc05dbf8c5",
       "version_major": 2,
       "version_minor": 0
      },
      "text/plain": [
       "Output()"
      ]
     },
     "metadata": {},
     "output_type": "display_data"
    },
    {
     "data": {
      "text/html": [
       "<pre style=\"white-space:pre;overflow-x:auto;line-height:normal;font-family:Menlo,'DejaVu Sans Mono',consolas,'Courier New',monospace\"><span style=\"color: #7fbfbf; text-decoration-color: #7fbfbf\">11:07:56 UTC </span>Batch complete.                                                    \n",
       "</pre>\n"
      ],
      "text/plain": [
       "\u001b[2;36m11:07:56 UTC\u001b[0m\u001b[2;36m \u001b[0mBatch complete.                                                    \n"
      ]
     },
     "metadata": {},
     "output_type": "display_data"
    },
    {
     "data": {
      "text/html": [
       "<pre style=\"white-space:pre;overflow-x:auto;line-height:normal;font-family:Menlo,'DejaVu Sans Mono',consolas,'Courier New',monospace\"></pre>\n"
      ],
      "text/plain": []
     },
     "metadata": {},
     "output_type": "display_data"
    },
    {
     "data": {
      "text/html": [
       "<pre style=\"white-space:pre;overflow-x:auto;line-height:normal;font-family:Menlo,'DejaVu Sans Mono',consolas,'Courier New',monospace\">\n",
       "</pre>\n"
      ],
      "text/plain": [
       "\n"
      ]
     },
     "metadata": {},
     "output_type": "display_data"
    },
    {
     "data": {
      "application/vnd.jupyter.widget-view+json": {
       "model_id": "536d4c0ca8104f658aa21e30216add36",
       "version_major": 2,
       "version_minor": 0
      },
      "text/plain": [
       "Output()"
      ]
     },
     "metadata": {},
     "output_type": "display_data"
    },
    {
     "data": {
      "text/html": [
       "<pre style=\"white-space:pre;overflow-x:auto;line-height:normal;font-family:Menlo,'DejaVu Sans Mono',consolas,'Courier New',monospace\"></pre>\n"
      ],
      "text/plain": []
     },
     "metadata": {},
     "output_type": "display_data"
    },
    {
     "data": {
      "text/html": [
       "<pre style=\"white-space:pre;overflow-x:auto;line-height:normal;font-family:Menlo,'DejaVu Sans Mono',consolas,'Courier New',monospace\">\n",
       "</pre>\n"
      ],
      "text/plain": [
       "\n"
      ]
     },
     "metadata": {},
     "output_type": "display_data"
    }
   ],
   "source": [
    "batch = web.Batch(simulations=sims, verbose=True)\n",
    "batch_results = batch.run(path_dir=\"data\")"
   ]
  },
  {
   "cell_type": "markdown",
   "id": "ba663685",
   "metadata": {},
   "source": [
    "## Result Visualization"
   ]
  },
  {
   "cell_type": "markdown",
   "id": "7e6e2a25",
   "metadata": {},
   "source": [
    "After the simulations are complete, we can calculate and plot the coupling efficiencies. For both polarizations, the coupling losses are below 4 dB in a broad wavelength range, which is a great improvement compared to the simple single-layer edge coupler."
   ]
  },
  {
   "cell_type": "code",
   "execution_count": 12,
   "id": "c980d35c",
   "metadata": {
    "execution": {
     "iopub.execute_input": "2024-09-05T11:08:16.136350Z",
     "iopub.status.busy": "2024-09-05T11:08:16.135443Z",
     "iopub.status.idle": "2024-09-05T11:08:16.719622Z",
     "shell.execute_reply": "2024-09-05T11:08:16.718993Z"
    }
   },
   "outputs": [
    {
     "data": {
      "image/png": "[encoded data removed]",
      "text/plain": [
       "<Figure size 640x480 with 1 Axes>"
      ]
     },
     "metadata": {},
     "output_type": "display_data"
    }
   ],
   "source": [
    "amp_te = batch_results[\"TE\"][\"mode\"].amps.sel(mode_index=0, direction=\"+\")\n",
    "T_te = np.abs(amp_te) ** 2\n",
    "\n",
    "amp_tm = batch_results[\"TM\"][\"mode\"].amps.sel(mode_index=0, direction=\"+\")\n",
    "T_tm = np.abs(amp_tm) ** 2\n",
    "\n",
    "plt.plot(ldas * 1e3, -10 * np.log10(T_te), label=\"TE\")\n",
    "plt.plot(ldas * 1e3, -10 * np.log10(T_tm), label=\"TM\")\n",
    "plt.xlabel(\"Wavelength (nm)\")\n",
    "plt.ylabel(\"Coupling loss (dB)\")\n",
    "plt.ylim(0, 10)\n",
    "plt.xlim(np.min(ldas * 1e3), np.max(ldas * 1e3))\n",
    "plt.legend()\n",
    "plt.show()"
   ]
  },
  {
   "cell_type": "markdown",
   "id": "ff63554f",
   "metadata": {},
   "source": [
    "Lastly, we can plot the field norm distribution to visualize the coupling process."
   ]
  },
  {
   "cell_type": "code",
   "execution_count": 13,
   "id": "ae17ae3a",
   "metadata": {
    "execution": {
     "iopub.execute_input": "2024-09-05T11:08:16.722225Z",
     "iopub.status.busy": "2024-09-05T11:08:16.721897Z",
     "iopub.status.idle": "2024-09-05T11:08:24.145640Z",
     "shell.execute_reply": "2024-09-05T11:08:24.144520Z"
    }
   },
   "outputs": [
    {
     "data": {
      "image/png": "[encoded data removed]",
      "text/plain": [
       "<Figure size 800x200 with 4 Axes>"
      ]
     },
     "metadata": {},
     "output_type": "display_data"
    }
   ],
   "source": [
    "fig, (ax1, ax2) = plt.subplots(1, 2, figsize=(8, 2), tight_layout=True)\n",
    "batch_results[\"TE\"].plot_field(\n",
    "    field_monitor_name=\"field\", field_name=\"E\", val=\"abs\", ax=ax1, vmin=0, vmax=60\n",
    ")\n",
    "ax1.set_aspect(\"auto\")\n",
    "ax1.set_title(\"TE\")\n",
    "\n",
    "batch_results[\"TM\"].plot_field(\n",
    "    field_monitor_name=\"field\", field_name=\"E\", val=\"abs\", ax=ax2, vmin=0, vmax=60\n",
    ")\n",
    "ax2.set_aspect(\"auto\")\n",
    "ax2.set_title(\"TM\")\n",
    "plt.show()"
   ]
  }
 ],
 "metadata": {
  "applications": [
   "Passive photonic integrated circuit components"
  ],
  "description": "This notebook demonstrates a SiN bi-layer edge coupler design for efficient and broadband fiber-to-chip coupling in visible frequency.",
  "feature_image": "./img/bilayer_edge_coupler.png",
  "features": [
   "Parameter sweep"
  ],
  "kernelspec": {
   "display_name": "Python 3 (ipykernel)",
   "language": "python",
   "name": "python3"
  },
  "keywords": "integrated photonics, silicon nitride, edge coupler, Tidy3D, FDTD",
  "language_info": {
   "codemirror_mode": {
    "name": "ipython",
    "version": 3
   },
   "file_extension": ".py",
   "mimetype": "text/x-python",
   "name": "python",
   "nbconvert_exporter": "python",
   "pygments_lexer": "ipython3",
   "version": "3.10.14"
  },
  "title": "Visible Light Bi-layer SiN Edge Coupler | Flexcompute",
  "widgets": {
   "application/vnd.jupyter.widget-state+json": {
    "state": {
     "1d73e1e78970431096323532e0645e07": {
      "model_module": "@jupyter-widgets/output",
      "model_module_version": "1.0.0",
      "model_name": "OutputModel",
      "state": {
       "_dom_classes": [],
       "_model_module": "@jupyter-widgets/output",
       "_model_module_version": "1.0.0",
       "_model_name": "OutputModel",
       "_view_count": null,
       "_view_module": "@jupyter-widgets/output",
       "_view_module_version": "1.0.0",
       "_view_name": "OutputView",
       "layout": "IPY_MODEL_7310a8be8ac04f508c4327dc504d965b",
       "msg_id": "",
       "outputs": [
        {
         "data": {
          "text/html": "<pre style=\"white-space:pre;overflow-x:auto;line-height:normal;font-family:Menlo,'DejaVu Sans Mono',consolas,'Courier New',monospace\">Uploading data for 2 tasks. <span style=\"color: #729c1f; text-decoration-color: #729c1f\">━━━━━━━━━━━━━━━━━━━━━━━━━━━━━━━━━━━━━━━</span> <span style=\"color: #800080; text-decoration-color: #800080\">100%</span> <span style=\"color: #008080; text-decoration-color: #008080\">0:00:00</span>\n</pre>\n",
          "text/plain": "Uploading data for 2 tasks. \u001b[38;2;114;156;31m━━━━━━━━━━━━━━━━━━━━━━━━━━━━━━━━━━━━━━━\u001b[0m \u001b[35m100%\u001b[0m \u001b[36m0:00:00\u001b[0m\n"
         },
         "metadata": {},
         "output_type": "display_data"
        }
       ],
       "tabbable": null,
       "tooltip": null
      }
     },
     "2d84ea93f8be4183873f4518ff35ef05": {
      "model_module": "@jupyter-widgets/base",
      "model_module_version": "2.0.0",
      "model_name": "LayoutModel",
      "state": {
       "_model_module": "@jupyter-widgets/base",
       "_model_module_version": "2.0.0",
       "_model_name": "LayoutModel",
       "_view_count": null,
       "_view_module": "@jupyter-widgets/base",
       "_view_module_version": "2.0.0",
       "_view_name": "LayoutView",
       "align_content": null,
       "align_items": null,
       "align_self": null,
       "border_bottom": null,
       "border_left": null,
       "border_right": null,
       "border_top": null,
       "bottom": null,
       "display": null,
       "flex": null,
       "flex_flow": null,
       "grid_area": null,
       "grid_auto_columns": null,
       "grid_auto_flow": null,
       "grid_auto_rows": null,
       "grid_column": null,
       "grid_gap": null,
       "grid_row": null,
       "grid_template_areas": null,
       "grid_template_columns": null,
       "grid_template_rows": null,
       "height": null,
       "justify_content": null,
       "justify_items": null,
       "left": null,
       "margin": null,
       "max_height": null,
       "max_width": null,
       "min_height": null,
       "min_width": null,
       "object_fit": null,
       "object_position": null,
       "order": null,
       "overflow": null,
       "padding": null,
       "right": null,
       "top": null,
       "visibility": null,
       "width": null
      }
     },
     "536d4c0ca8104f658aa21e30216add36": {
      "model_module": "@jupyter-widgets/output",
      "model_module_version": "1.0.0",
      "model_name": "OutputModel",
      "state": {
       "_dom_classes": [],
       "_model_module": "@jupyter-widgets/output",
       "_model_module_version": "1.0.0",
       "_model_name": "OutputModel",
       "_view_count": null,
       "_view_module": "@jupyter-widgets/output",
       "_view_module_version": "1.0.0",
       "_view_name": "OutputView",
       "layout": "IPY_MODEL_2d84ea93f8be4183873f4518ff35ef05",
       "msg_id": "",
       "outputs": [
        {
         "data": {
          "text/html": "<pre style=\"white-space:pre;overflow-x:auto;line-height:normal;font-family:Menlo,'DejaVu Sans Mono',consolas,'Courier New',monospace\">Downloading data for 2 tasks. <span style=\"color: #729c1f; text-decoration-color: #729c1f\">━━━━━━━━━━━━━━━━━━━━━━━━━━━━━━━━━━━━━</span> <span style=\"color: #800080; text-decoration-color: #800080\">100%</span> <span style=\"color: #008080; text-decoration-color: #008080\">0:00:00</span>\n</pre>\n",
          "text/plain": "Downloading data for 2 tasks. \u001b[38;2;114;156;31m━━━━━━━━━━━━━━━━━━━━━━━━━━━━━━━━━━━━━\u001b[0m \u001b[35m100%\u001b[0m \u001b[36m0:00:00\u001b[0m\n"
         },
         "metadata": {},
         "output_type": "display_data"
        }
       ],
       "tabbable": null,
       "tooltip": null
      }
     },
     "7310a8be8ac04f508c4327dc504d965b": {
      "model_module": "@jupyter-widgets/base",
      "model_module_version": "2.0.0",
      "model_name": "LayoutModel",
      "state": {
       "_model_module": "@jupyter-widgets/base",
       "_model_module_version": "2.0.0",
       "_model_name": "LayoutModel",
       "_view_count": null,
       "_view_module": "@jupyter-widgets/base",
       "_view_module_version": "2.0.0",
       "_view_name": "LayoutView",
       "align_content": null,
       "align_items": null,
       "align_self": null,
       "border_bottom": null,
       "border_left": null,
       "border_right": null,
       "border_top": null,
       "bottom": null,
       "display": null,
       "flex": null,
       "flex_flow": null,
       "grid_area": null,
       "grid_auto_columns": null,
       "grid_auto_flow": null,
       "grid_auto_rows": null,
       "grid_column": null,
       "grid_gap": null,
       "grid_row": null,
       "grid_template_areas": null,
       "grid_template_columns": null,
       "grid_template_rows": null,
       "height": null,
       "justify_content": null,
       "justify_items": null,
       "left": null,
       "margin": null,
       "max_height": null,
       "max_width": null,
       "min_height": null,
       "min_width": null,
       "object_fit": null,
       "object_position": null,
       "order": null,
       "overflow": null,
       "padding": null,
       "right": null,
       "top": null,
       "visibility": null,
       "width": null
      }
     },
     "a5d756f0d9cf426faefddbcc05dbf8c5": {
      "model_module": "@jupyter-widgets/output",
      "model_module_version": "1.0.0",
      "model_name": "OutputModel",
      "state": {
       "_dom_classes": [],
       "_model_module": "@jupyter-widgets/output",
       "_model_module_version": "1.0.0",
       "_model_name": "OutputModel",
       "_view_count": null,
       "_view_module": "@jupyter-widgets/output",
       "_view_module_version": "1.0.0",
       "_view_name": "OutputView",
       "layout": "IPY_MODEL_d4457a3fad734f8a8fcc762aa4c820de",
       "msg_id": "",
       "outputs": [
        {
         "data": {
          "text/html": "<pre style=\"white-space:pre;overflow-x:auto;line-height:normal;font-family:Menlo,'DejaVu Sans Mono',consolas,'Courier New',monospace\">TE: status = success <span style=\"color: #729c1f; text-decoration-color: #729c1f\">━━━━━━━━━━━━━━━━━━━━━━━━━━━━━━━━━━━━━━━━</span> <span style=\"color: #800080; text-decoration-color: #800080\">100%</span> <span style=\"color: #008080; text-decoration-color: #008080\">0:00:00</span>\nTM: status = success <span style=\"color: #729c1f; text-decoration-color: #729c1f\">━━━━━━━━━━━━━━━━━━━━━━━━━━━━━━━━━━━━━━━━</span> <span style=\"color: #800080; text-decoration-color: #800080\">100%</span> <span style=\"color: #008080; text-decoration-color: #008080\">0:00:00</span>\n</pre>\n",
          "text/plain": "TE: status = success \u001b[38;2;114;156;31m━━━━━━━━━━━━━━━━━━━━━━━━━━━━━━━━━━━━━━━━\u001b[0m \u001b[35m100%\u001b[0m \u001b[36m0:00:00\u001b[0m\nTM: status = success \u001b[38;2;114;156;31m━━━━━━━━━━━━━━━━━━━━━━━━━━━━━━━━━━━━━━━━\u001b[0m \u001b[35m100%\u001b[0m \u001b[36m0:00:00\u001b[0m\n"
         },
         "metadata": {},
         "output_type": "display_data"
        }
       ],
       "tabbable": null,
       "tooltip": null
      }
     },
     "d4457a3fad734f8a8fcc762aa4c820de": {
      "model_module": "@jupyter-widgets/base",
      "model_module_version": "2.0.0",
      "model_name": "LayoutModel",
      "state": {
       "_model_module": "@jupyter-widgets/base",
       "_model_module_version": "2.0.0",
       "_model_name": "LayoutModel",
       "_view_count": null,
       "_view_module": "@jupyter-widgets/base",
       "_view_module_version": "2.0.0",
       "_view_name": "LayoutView",
       "align_content": null,
       "align_items": null,
       "align_self": null,
       "border_bottom": null,
       "border_left": null,
       "border_right": null,
       "border_top": null,
       "bottom": null,
       "display": null,
       "flex": null,
       "flex_flow": null,
       "grid_area": null,
       "grid_auto_columns": null,
       "grid_auto_flow": null,
       "grid_auto_rows": null,
       "grid_column": null,
       "grid_gap": null,
       "grid_row": null,
       "grid_template_areas": null,
       "grid_template_columns": null,
       "grid_template_rows": null,
       "height": null,
       "justify_content": null,
       "justify_items": null,
       "left": null,
       "margin": null,
       "max_height": null,
       "max_width": null,
       "min_height": null,
       "min_width": null,
       "object_fit": null,
       "object_position": null,
       "order": null,
       "overflow": null,
       "padding": null,
       "right": null,
       "top": null,
       "visibility": null,
       "width": null
      }
     }
    },
    "version_major": 2,
    "version_minor": 0
   }
  }
 },
 "nbformat": 4,
 "nbformat_minor": 5
}
