{
 "cells": [
  {
   "cell_type": "markdown",
   "id": "726c359f-f07d-4997-884a-7bb6f0f49884",
   "metadata": {},
   "source": [
    "# Designing and optimizing a coupled line bandpass filter\n",
    "Microwave filters serve as essential components in microwave and radio frequency communication systems. These critical building blocks help us exert control over the frequencies that are transmitted through a system. Implementing microwave filters can be achieved through various methods, for example, utilizing lumped elements, sections of transmission lines, or a combination of both.\n",
    "\n",
    "In this notebook, we will guide you through the process of designing and validating a bandpass filter using multiple sections of coupled microstrip lines. This practical application example is based on design specifications from the study [Ragani Taoufik, N. Amar Touhami, and M. Agoutane, \"Designing a Microstrip coupled line bandpass filter\", International Journal of Engineering and Technology 2(4), 266-269 (2013)](https://doi.org/10.14419/ijet.v2i4.1173). The specifications outlined in the study are aimed at creating a bandpass filter centered at 6 GHz with a bandwidth of 2 GHz.\n",
    "\n",
    "<img src=\"img/coupled_line_bandpass_filter.png\" width=\"400\" alt=\"Schematic of a coupled line bandpass filter\">\n",
    "\n",
    "\n",
    "To take it a step further, we will also demonstrate how to design an improved coupled line filter that is more closely centered at 6 GHz with an improved return loss. This will be achieved by leveraging the powerful `optimize` module from the widely-used `SciPy` package. By the end of this notebook, you will have a deeper understanding of how to use `Tidy3D` and the microwave plugin to design, simulate, and validate microwave networks."
   ]
  },
  {
   "cell_type": "code",
   "execution_count": 1,
   "id": "c39755d4",
   "metadata": {
    "execution": {
     "iopub.execute_input": "2024-09-05T12:02:07.344582Z",
     "iopub.status.busy": "2024-09-05T12:02:07.344040Z",
     "iopub.status.idle": "2024-09-05T12:02:09.378452Z",
     "shell.execute_reply": "2024-09-05T12:02:09.377037Z"
    }
   },
   "outputs": [],
   "source": [
    "# Tidy3d imports\n",
    "import tidy3d as td\n",
    "\n",
    "# Tidy3d plugin imports\n",
    "import tidy3d.plugins.smatrix as smatrix\n",
    "import tidy3d.plugins.microwave as mw\n",
    "\n",
    "# External modules needed for this notebook\n",
    "import numpy as np\n",
    "import matplotlib.ticker as ticker\n",
    "import matplotlib.pyplot as plt\n",
    "\n",
    "# uncomment the following line to install scikit-rf if it's not installed in your environment already\n",
    "# pip install scikit-rf\n",
    "import skrf as rf  # For validation using circuit models of the filter\n",
    "from scipy import (\n",
    "    optimize as opt,\n",
    ")  # Used to optimize microstrip parameters for the filter\n",
    "\n",
    "# We set the logging level to \"ERROR\". Otherwise there are numerous warnings due to the proximity of the structure to PML boundaries.\n",
    "td.config.logging_level = \"ERROR\""
   ]
  },
  {
   "cell_type": "markdown",
   "id": "54d17567",
   "metadata": {},
   "source": [
    "## Filter Design and Microstrip Parameters\n",
    "\n",
    "We start from the coupled line filter proposed by Taoufik *et al*. [1]. In [1], the filter is designed using the insertion loss method, which is described in [2]. Although a full explanation of the insertion loss method is out of the scope of this notebook, we summarize the main four steps below:\n",
    "\n",
    "1. Filter specifications: The initial step in designing a filter using the insertion loss method involves defining the desired filter response and the type of filter to be used. This includes outlining the passband and stopband frequencies, the maximum allowable insertion loss in the passband, the minimum required attenuation in the stopband, and the specific filter type (such as Butterworth, Chebyshev, Elliptic, etc.) best suited for the application.\n",
    "2. Low-pass prototype design: Next, the order of the filter, which is the number of reactive elements, is determined based on the specified requirements. The order of the filter is typically chosen to achieve the desired attenuation in the stopband.\n",
    "3. Computation of prototype element values: In this step, the values for the prototype elements of the filter are computed based on the filter type and order. These calculations are done using mathematical formulas specific to the filter type. Alternatively, precomputed tables for standard filter types can be used to look up the prototype element values.\n",
    "4. Implementation of elements: Finally, the computed prototype element values are implemented as physical elements in the filter. Depending on the design and frequency requirements, these elements can be realized as lumped elements (inductors and capacitors) or as sections of transmission lines. In the case of a coupled lined filter, the lumped element values are transformed into a list of coupled line sections with desired even and odd characteristic line impedances, see [2].\n",
    "\n",
    "First, we will simulate the filter as designed and implemented in [1]. Later, we will optimize the filter implementation by finding better values for the widths, lengths, and gaps of each segment. The designed filter in [1] is made up of four segments with the parameters given below:\n",
    "\n",
    "| Segment  | Width (mm) |  Length (mm) |  Gap (mm) |\n",
    "| -------- | ---------- | ------------ | --------- |\n",
    "| 1 | 1.4 | 6 | 0.2 |\n",
    "| 2 | 2.4 | 6 | 0.2 |\n",
    "| 3 | 2.4 | 6 | 0.2 |\n",
    "| 4 | 1.4 | 6 | 0.2 |\n",
    "\n",
    "\n",
    "Using the tabulated parameters from [1], a `Tidy3D` simulation is set up that uses the [TerminalComponentModeler](https://docs.flexcompute.com/projects/tidy3d/en/latest/api/_autosummary/tidy3d.plugins.smatrix.TerminalComponentModeler.html) to extract scattering parameters from this 2-port device."
   ]
  },
  {
   "cell_type": "code",
   "execution_count": 2,
   "id": "0d22504b",
   "metadata": {
    "execution": {
     "iopub.execute_input": "2024-09-05T12:02:09.383912Z",
     "iopub.status.busy": "2024-09-05T12:02:09.383456Z",
     "iopub.status.idle": "2024-09-05T12:02:09.390027Z",
     "shell.execute_reply": "2024-09-05T12:02:09.389195Z"
    }
   },
   "outputs": [],
   "source": [
    "# Frequency range of interest is 2-10 GHz\n",
    "freq0 = 6e9\n",
    "# A sample frequency that is within the stopband of the filter\n",
    "freq_stopband = 3e9\n",
    "freqs = np.linspace(2, 10, 101) * 1e9\n",
    "fwidth = 0.5 * (np.max(freqs) - np.min(freqs))\n",
    "lda0 = td.C_0 / freq0  # Central wavelength\n",
    "\n",
    "# Materials used in this simulation\n",
    "PEC = td.PECMedium()\n",
    "eps_sub = 4.3  # Substrate permittivity\n",
    "sub_medium = td.Medium(permittivity=eps_sub)  # define substrate medium\n",
    "\n",
    "mm = 1e3  # Scaling used for millimeters\n",
    "# Large value to ensure structures extend outside simulation domain\n",
    "inf_eff = 1000 * mm\n",
    "\n",
    "# Geometry parameters common to all designs\n",
    "h_sub = 1.56 * mm  # Substrate thickness\n",
    "h_trace = 0.035 * mm  # Thickness of metal layers\n",
    "\n",
    "# Microstrip parameters taken from [1]\n",
    "strips_W = [1.4 * mm, 2.4 * mm, 2.4 * mm, 1.4 * mm]\n",
    "strips_L = [6 * mm, 6 * mm, 6 * mm, 6 * mm]\n",
    "strips_G = [0.2 * mm, 0.2 * mm, 0.2 * mm, 0.2 * mm]\n",
    "\n",
    "# Numpy arrays of the microstrip dimensions\n",
    "lengths = np.array(strips_L)\n",
    "widths = np.array(strips_W)\n",
    "gaps = np.array(strips_G)"
   ]
  },
  {
   "cell_type": "markdown",
   "id": "b3ce27ba",
   "metadata": {},
   "source": [
    "To facilitate the creation of the coupled line filter geometry, we define two helper functions below that generate coupled microstrips given lists of their lengths, widths, and gaps."
   ]
  },
  {
   "cell_type": "code",
   "execution_count": 3,
   "id": "9801758a",
   "metadata": {
    "execution": {
     "iopub.execute_input": "2024-09-05T12:02:09.394895Z",
     "iopub.status.busy": "2024-09-05T12:02:09.394557Z",
     "iopub.status.idle": "2024-09-05T12:02:09.404828Z",
     "shell.execute_reply": "2024-09-05T12:02:09.403755Z"
    }
   },
   "outputs": [],
   "source": [
    "# This helper function generates the starting positions of the coupled microstrip line segments\n",
    "def get_coupled_line_geometry(lengths, widths, gaps):\n",
    "    # Coupled lines are generated from upper left to lower right centered at the origin\n",
    "    total_length = np.sum(lengths)\n",
    "    # Compute the total width\n",
    "    total_width = 0\n",
    "    prev_width = 0\n",
    "    # Coupled line segments are aligned differently depending on their relative widths\n",
    "    for width, gap in zip(widths, gaps):\n",
    "        total_width += width + gap\n",
    "        if width > prev_width:\n",
    "            total_width += width - prev_width\n",
    "        prev_width = width\n",
    "\n",
    "    # Compute the starting positions of each segment the left bound and the top bound\n",
    "    xstarts = []\n",
    "    ystarts = []\n",
    "\n",
    "    prev_xstart = -total_length / 2\n",
    "    prev_ystart = total_width / 2\n",
    "    prev_length = 0\n",
    "    prev_width = 0\n",
    "    prev_gap = 0\n",
    "    for length, width, gap in zip(lengths, widths, gaps):\n",
    "        # Compute x position of the segment (left bound)\n",
    "        xstarts.append(prev_xstart + prev_length)\n",
    "\n",
    "        # Compute y position of the segment (top bound)\n",
    "        ystart = prev_ystart - prev_width - prev_gap\n",
    "        if width < prev_width:\n",
    "            ystart += width - prev_width\n",
    "        ystarts.append(ystart)\n",
    "\n",
    "        prev_xstart = xstarts[-1]\n",
    "        prev_ystart = ystarts[-1]\n",
    "        prev_length = length\n",
    "        prev_width = width\n",
    "        prev_gap = gap\n",
    "\n",
    "    return total_length, total_width, xstarts, ystarts\n",
    "\n",
    "\n",
    "# Generate the tidy3d structures representing the coupled line segments\n",
    "# using the previously computed positions\n",
    "def generate_coupled_lines(lengths, widths, gaps, xstarts, ystarts):\n",
    "    coupled_lines = []\n",
    "    # Each segment is composed of two microstrips\n",
    "    for length, width, gap, xstart, ystart in zip(\n",
    "        lengths, widths, gaps, xstarts, ystarts\n",
    "    ):\n",
    "        coupled_lines.append(\n",
    "            td.Structure(\n",
    "                geometry=td.Box.from_bounds(\n",
    "                    rmin=(xstart, ystart - width, 0),\n",
    "                    rmax=(xstart + length, ystart, h_trace),\n",
    "                ),\n",
    "                medium=PEC,\n",
    "            )\n",
    "        )\n",
    "        coupled_lines.append(\n",
    "            td.Structure(\n",
    "                geometry=td.Box.from_bounds(\n",
    "                    rmin=(xstart, ystart - 2 * width - gap, 0),\n",
    "                    rmax=(xstart + length, ystart - width - gap, h_trace),\n",
    "                ),\n",
    "                medium=PEC,\n",
    "            )\n",
    "        )\n",
    "    return coupled_lines"
   ]
  },
  {
   "cell_type": "markdown",
   "id": "0afe1325",
   "metadata": {},
   "source": [
    "Now we may easily create and view the structure."
   ]
  },
  {
   "cell_type": "code",
   "execution_count": 4,
   "id": "882e2718",
   "metadata": {
    "execution": {
     "iopub.execute_input": "2024-09-05T12:02:09.409701Z",
     "iopub.status.busy": "2024-09-05T12:02:09.409279Z",
     "iopub.status.idle": "2024-09-05T12:02:09.580446Z",
     "shell.execute_reply": "2024-09-05T12:02:09.579604Z"
    }
   },
   "outputs": [
    {
     "data": {
      "image/png": "[encoded data removed]",
      "text/plain": [
       "<Figure size 640x480 with 1 Axes>"
      ]
     },
     "metadata": {},
     "output_type": "display_data"
    }
   ],
   "source": [
    "# Create the structures and geometry of the coupled line bandpass filter\n",
    "(total_L, total_W, xstarts, ystarts) = get_coupled_line_geometry(lengths, widths, gaps)\n",
    "coupled_lines = generate_coupled_lines(lengths, widths, gaps, xstarts, ystarts)\n",
    "# Create the substrate block\n",
    "substrate = td.Structure(\n",
    "    geometry=td.Box.from_bounds(rmin=(-inf_eff, -inf_eff, -inf_eff), rmax=(inf_eff, inf_eff, 0)),\n",
    "    medium=sub_medium,\n",
    ")\n",
    "# Define the simulation domain size with some extra padding based on central wavelength\n",
    "Lx = total_L + lda0 / 5\n",
    "Ly = total_W + lda0 / 5\n",
    "Lz = h_sub + lda0 / 8\n",
    "\n",
    "# View the created line coupler\n",
    "fig, ax = plt.subplots()\n",
    "for geo in coupled_lines:\n",
    "    geo.plot(z=0, ax=ax)\n",
    "# Formatter to help plotting in units of millimeters\n",
    "formatter = ticker.FuncFormatter(lambda y, _: \"{:g}\".format((1e-3) * y))\n",
    "xlbl = \"x (mm)\"\n",
    "ylbl = \"y (mm)\"\n",
    "# Update plot labels\n",
    "ax.xaxis.set_major_formatter(formatter)\n",
    "ax.yaxis.set_major_formatter(formatter)\n",
    "ax.set_xlabel(xlbl)\n",
    "ax.set_ylabel(ylbl)\n",
    "ax.set_xlim(-Lx / 2, Lx / 2)\n",
    "ax.set_ylim(-Ly / 2, Ly / 2)\n",
    "ax.set_title(\"Top view of coupler from [1]\")\n",
    "plt.show()"
   ]
  },
  {
   "cell_type": "markdown",
   "id": "10621860",
   "metadata": {},
   "source": [
    "With the structure created, we now set up the `Tidy3D` Simulation that will be used by the [TerminalComponentModeler](https://docs.flexcompute.com/projects/tidy3d/en/latest/api/_autosummary/tidy3d.plugins.smatrix.TerminalComponentModeler.html).\n",
    "\n",
    "First, we define mesh override structures so that the small height of the microstrips is captured accurately. In addition, we ensure that there are plenty of cells along the width and length of the structure where the fields will be strongly confined."
   ]
  },
  {
   "cell_type": "code",
   "execution_count": 5,
   "id": "a69d7761",
   "metadata": {
    "execution": {
     "iopub.execute_input": "2024-09-05T12:02:09.585584Z",
     "iopub.status.busy": "2024-09-05T12:02:09.585417Z",
     "iopub.status.idle": "2024-09-05T12:02:09.590554Z",
     "shell.execute_reply": "2024-09-05T12:02:09.589789Z"
    }
   },
   "outputs": [],
   "source": [
    "# Definition of mesh overrides\n",
    "mesh_overrides = [\n",
    "    # The first mesh override ensures the small height of the strips is accurately modeled.\n",
    "    td.MeshOverrideStructure(\n",
    "        geometry=td.Box(\n",
    "            center=[0, 0, h_trace / 2],\n",
    "            size=[1.1 * total_L, 1.1 * total_W, h_trace],\n",
    "        ),\n",
    "        dl=[total_L / 200, np.min(widths) / 20, h_trace],\n",
    "    ),\n",
    "    # The second mesh override refined the grid within the substrate.\n",
    "    td.MeshOverrideStructure(\n",
    "        geometry=td.Box(\n",
    "            center=[0, 0, -h_sub / 2],\n",
    "            size=[1.1 * total_L, 1.1 * total_W, h_sub],\n",
    "        ),\n",
    "        dl=[total_L / 200, np.min(widths) / 20, h_sub / 20],\n",
    "    ),\n",
    "]"
   ]
  },
  {
   "cell_type": "markdown",
   "id": "0d7e1131",
   "metadata": {},
   "source": [
    "Now, the rest of the components are set up for the `Tidy3D` simulation. Note the use of a PEC boundary condition for the minus *z* axis, which simplifies the modeling of the microstrips' ground plane."
   ]
  },
  {
   "cell_type": "code",
   "execution_count": 6,
   "id": "d68b9243",
   "metadata": {
    "execution": {
     "iopub.execute_input": "2024-09-05T12:02:09.594941Z",
     "iopub.status.busy": "2024-09-05T12:02:09.594737Z",
     "iopub.status.idle": "2024-09-05T12:02:09.614513Z",
     "shell.execute_reply": "2024-09-05T12:02:09.613756Z"
    }
   },
   "outputs": [],
   "source": [
    "# Field monitor to view the electromagnetic fields along the propagation direction.\n",
    "field_monitor = td.FieldMonitor(\n",
    "    center=(0, 0, -h_sub / 2),\n",
    "    size=(td.inf, td.inf, 0),\n",
    "    freqs=[freq_stopband, freq0],\n",
    "    name=\"field\",\n",
    ")\n",
    "# Boundary conditions are perfectly matched layers, except for the minus z boundary.\n",
    "boundary_spec = td.BoundarySpec(\n",
    "    x=td.Boundary.pml(),\n",
    "    y=td.Boundary.pml(),\n",
    "    z=td.Boundary(minus=td.PECBoundary(), plus=td.PML()),\n",
    ")\n",
    "# The base tidy3D Simulation ready to be used by the TerminalComponentModeler\n",
    "sim = td.Simulation(\n",
    "    center=(0, 0, Lz / 2 - h_sub),\n",
    "    size=(Lx, Ly, Lz),\n",
    "    grid_spec=td.GridSpec.auto(\n",
    "        min_steps_per_wvl=40.0,\n",
    "        wavelength=lda0,\n",
    "        dl_min=h_trace / 5,\n",
    "        override_structures=mesh_overrides,\n",
    "    ),\n",
    "    structures=[substrate] + coupled_lines,\n",
    "    sources=[],\n",
    "    monitors=[field_monitor],\n",
    "    run_time=10e-9,\n",
    "    boundary_spec=boundary_spec,\n",
    ")"
   ]
  },
  {
   "cell_type": "markdown",
   "id": "4b1f685f",
   "metadata": {},
   "source": [
    "## Setting up the TerminalComponentModeler\n",
    "Lumped ports are now added at the left and right sides of the filter. The lumped ports are used in the [TerminalComponentModeler](https://docs.flexcompute.com/projects/tidy3d/en/latest/api/_autosummary/tidy3d.plugins.smatrix.TerminalComponentModeler.html) to set up simulations for extracting the scattering parameters of the network. Each port represents an additional simulation that needs to be run in order to extract the full scattering matrix of the system."
   ]
  },
  {
   "cell_type": "code",
   "execution_count": 7,
   "id": "f8ed594a",
   "metadata": {
    "execution": {
     "iopub.execute_input": "2024-09-05T12:02:09.618684Z",
     "iopub.status.busy": "2024-09-05T12:02:09.618512Z",
     "iopub.status.idle": "2024-09-05T12:02:10.187901Z",
     "shell.execute_reply": "2024-09-05T12:02:10.187081Z"
    }
   },
   "outputs": [
    {
     "data": {
      "image/png": "[encoded data removed]",
      "text/plain": [
       "<Figure size 1500x500 with 2 Axes>"
      ]
     },
     "metadata": {},
     "output_type": "display_data"
    }
   ],
   "source": [
    "# Compute port xy locations\n",
    "port_left = (xstarts[0], ystarts[0] - widths[0] / 2)\n",
    "port_right = (xstarts[-1] + lengths[-1], ystarts[-1] - gaps[-1] - 1.5 * widths[-1])\n",
    "# Impedance at each port\n",
    "reference_impedance = 50\n",
    "port_1_td = smatrix.LumpedPort(\n",
    "    center=(port_left[0], port_left[1], -h_sub / 2),\n",
    "    size=(0, widths[0], h_sub),\n",
    "    voltage_axis=2,\n",
    "    name=\"lumped_port_1\",\n",
    "    impedance=reference_impedance,\n",
    ")\n",
    "\n",
    "port_2_td = smatrix.LumpedPort(\n",
    "    center=(port_right[0], port_right[1], -h_sub / 2),\n",
    "    size=(0, widths[-1], h_sub),\n",
    "    voltage_axis=2,\n",
    "    name=\"lumped_port_2\",\n",
    "    impedance=reference_impedance,\n",
    ")\n",
    "\n",
    "modeler = smatrix.TerminalComponentModeler(\n",
    "    simulation=sim,\n",
    "    ports=[port_1_td, port_2_td],\n",
    "    freqs=freqs,\n",
    "    verbose=True,\n",
    ")\n",
    "\n",
    "# Before running the simulations, we can view the mesh to get an idea of how the mesh overrides have performed.\n",
    "# The simulation objects created within the terminal component modeler will take port mesh refinement into account.\n",
    "sim_port1 = list(modeler.sim_dict.values())[0]\n",
    "\n",
    "f, (ax1, ax2) = plt.subplots(1, 2, tight_layout=True, figsize=(15, 5))\n",
    "hlim = [-Lx / 2, Lx / 2]\n",
    "vlim = [-Ly / 2, Ly / 2]\n",
    "ax = sim_port1.plot(z=h_trace / 2, ax=ax1)\n",
    "sim_port1.plot_grid(z=h_trace / 2, ax=ax1, hlim=hlim, vlim=vlim)\n",
    "# Update plot labels\n",
    "ax.xaxis.set_major_formatter(formatter)\n",
    "ax.yaxis.set_major_formatter(formatter)\n",
    "ax.set_xlabel(xlbl)\n",
    "ax.set_ylabel(ylbl)\n",
    "ax.set_title(\"Top view of coupler\")\n",
    "\n",
    "hlim = [port_2_td.bounds[0][0] - 1 * mm, port_2_td.bounds[1][0] + 1 * mm]\n",
    "vlim = [sim.bounds[0][2] - 100, h_trace + 500]\n",
    "ax = sim_port1.plot(y=port_2_td.center[1], ax=ax2)\n",
    "sim_port1.plot_grid(y=h_trace / 2, ax=ax, hlim=hlim, vlim=vlim)\n",
    "# Update plot labels\n",
    "ax.xaxis.set_major_formatter(formatter)\n",
    "ax.yaxis.set_major_formatter(formatter)\n",
    "ax.set_xlabel(xlbl)\n",
    "ax.set_ylabel(\"z (mm)\")\n",
    "ax.set_title(\"Side view of port 2\")\n",
    "plt.show()"
   ]
  },
  {
   "cell_type": "code",
   "execution_count": 8,
   "id": "d9476e25",
   "metadata": {
    "execution": {
     "iopub.execute_input": "2024-09-05T12:02:10.193460Z",
     "iopub.status.busy": "2024-09-05T12:02:10.193270Z",
     "iopub.status.idle": "2024-09-05T12:02:53.456699Z",
     "shell.execute_reply": "2024-09-05T12:02:53.455820Z"
    }
   },
   "outputs": [
    {
     "data": {
      "application/vnd.jupyter.widget-view+json": {
       "model_id": "92bd3f5e23a84b6dabeec1846f7b0071",
       "version_major": 2,
       "version_minor": 0
      },
      "text/plain": [
       "Output()"
      ]
     },
     "metadata": {},
     "output_type": "display_data"
    },
    {
     "data": {
      "text/html": [
       "<pre style=\"white-space:pre;overflow-x:auto;line-height:normal;font-family:Menlo,'DejaVu Sans Mono',consolas,'Courier New',monospace\"></pre>\n"
      ],
      "text/plain": []
     },
     "metadata": {},
     "output_type": "display_data"
    },
    {
     "data": {
      "text/html": [
       "<pre style=\"white-space:pre;overflow-x:auto;line-height:normal;font-family:Menlo,'DejaVu Sans Mono',consolas,'Courier New',monospace\">\n",
       "</pre>\n"
      ],
      "text/plain": [
       "\n"
      ]
     },
     "metadata": {},
     "output_type": "display_data"
    },
    {
     "data": {
      "text/html": [
       "<pre style=\"white-space:pre;overflow-x:auto;line-height:normal;font-family:Menlo,'DejaVu Sans Mono',consolas,'Courier New',monospace\"><span style=\"color: #7fbfbf; text-decoration-color: #7fbfbf\">12:02:11 UTC </span>Started working on Batch containing <span style=\"color: #008080; text-decoration-color: #008080; font-weight: bold\">2</span> tasks.                       \n",
       "</pre>\n"
      ],
      "text/plain": [
       "\u001b[2;36m12:02:11 UTC\u001b[0m\u001b[2;36m \u001b[0mStarted working on Batch containing \u001b[1;36m2\u001b[0m tasks.                       \n"
      ]
     },
     "metadata": {},
     "output_type": "display_data"
    },
    {
     "data": {
      "text/html": [
       "<pre style=\"white-space:pre;overflow-x:auto;line-height:normal;font-family:Menlo,'DejaVu Sans Mono',consolas,'Courier New',monospace\"><span style=\"color: #7fbfbf; text-decoration-color: #7fbfbf\">12:02:13 UTC </span>Maximum FlexCredit cost: <span style=\"color: #008080; text-decoration-color: #008080; font-weight: bold\">0.319</span> for the whole batch.                \n",
       "</pre>\n"
      ],
      "text/plain": [
       "\u001b[2;36m12:02:13 UTC\u001b[0m\u001b[2;36m \u001b[0mMaximum FlexCredit cost: \u001b[1;36m0.319\u001b[0m for the whole batch.                \n"
      ]
     },
     "metadata": {},
     "output_type": "display_data"
    },
    {
     "data": {
      "text/html": [
       "<pre style=\"white-space:pre;overflow-x:auto;line-height:normal;font-family:Menlo,'DejaVu Sans Mono',consolas,'Courier New',monospace\"><span style=\"color: #7fbfbf; text-decoration-color: #7fbfbf\">             </span>Use <span style=\"color: #008000; text-decoration-color: #008000\">'Batch.real_cost()'</span> to get the billed FlexCredit cost after the\n",
       "<span style=\"color: #7fbfbf; text-decoration-color: #7fbfbf\">             </span>Batch has completed.                                               \n",
       "</pre>\n"
      ],
      "text/plain": [
       "\u001b[2;36m            \u001b[0m\u001b[2;36m \u001b[0mUse \u001b[32m'Batch.real_cost\u001b[0m\u001b[32m(\u001b[0m\u001b[32m)\u001b[0m\u001b[32m'\u001b[0m to get the billed FlexCredit cost after the\n",
       "\u001b[2;36m             \u001b[0mBatch has completed.                                               \n"
      ]
     },
     "metadata": {},
     "output_type": "display_data"
    },
    {
     "data": {
      "application/vnd.jupyter.widget-view+json": {
       "model_id": "41343018e1584733ae66097afc43f251",
       "version_major": 2,
       "version_minor": 0
      },
      "text/plain": [
       "Output()"
      ]
     },
     "metadata": {},
     "output_type": "display_data"
    },
    {
     "data": {
      "text/html": [
       "<pre style=\"white-space:pre;overflow-x:auto;line-height:normal;font-family:Menlo,'DejaVu Sans Mono',consolas,'Courier New',monospace\"><span style=\"color: #7fbfbf; text-decoration-color: #7fbfbf\">12:02:50 UTC </span>Batch complete.                                                    \n",
       "</pre>\n"
      ],
      "text/plain": [
       "\u001b[2;36m12:02:50 UTC\u001b[0m\u001b[2;36m \u001b[0mBatch complete.                                                    \n"
      ]
     },
     "metadata": {},
     "output_type": "display_data"
    },
    {
     "data": {
      "text/html": [
       "<pre style=\"white-space:pre;overflow-x:auto;line-height:normal;font-family:Menlo,'DejaVu Sans Mono',consolas,'Courier New',monospace\"></pre>\n"
      ],
      "text/plain": []
     },
     "metadata": {},
     "output_type": "display_data"
    },
    {
     "data": {
      "text/html": [
       "<pre style=\"white-space:pre;overflow-x:auto;line-height:normal;font-family:Menlo,'DejaVu Sans Mono',consolas,'Courier New',monospace\">\n",
       "</pre>\n"
      ],
      "text/plain": [
       "\n"
      ]
     },
     "metadata": {},
     "output_type": "display_data"
    },
    {
     "data": {
      "application/vnd.jupyter.widget-view+json": {
       "model_id": "90a8e863b06449ce8faf121a98a4736b",
       "version_major": 2,
       "version_minor": 0
      },
      "text/plain": [
       "Output()"
      ]
     },
     "metadata": {},
     "output_type": "display_data"
    },
    {
     "data": {
      "text/html": [
       "<pre style=\"white-space:pre;overflow-x:auto;line-height:normal;font-family:Menlo,'DejaVu Sans Mono',consolas,'Courier New',monospace\"></pre>\n"
      ],
      "text/plain": []
     },
     "metadata": {},
     "output_type": "display_data"
    },
    {
     "data": {
      "text/html": [
       "<pre style=\"white-space:pre;overflow-x:auto;line-height:normal;font-family:Menlo,'DejaVu Sans Mono',consolas,'Courier New',monospace\">\n",
       "</pre>\n"
      ],
      "text/plain": [
       "\n"
      ]
     },
     "metadata": {},
     "output_type": "display_data"
    }
   ],
   "source": [
    "# Run the jobs and save the scattering parameters\n",
    "s_matrix = modeler.run()"
   ]
  },
  {
   "cell_type": "markdown",
   "id": "2d46f596",
   "metadata": {},
   "source": [
    "## Plotting Fields\n",
    "\n",
    "The frequency-domain fields have been recorded over the extent of the coupled line filter between the ground plane and microstrips. Although not needed for extracting scattering parameters, the plots below demonstrate the effect of the filter on frequencies within and frequencies outside the passband. In these plots, the excited port is located in the upper left of the figure, and the transmission port is located at the bottom right."
   ]
  },
  {
   "cell_type": "code",
   "execution_count": 9,
   "id": "3a41d1e7",
   "metadata": {
    "execution": {
     "iopub.execute_input": "2024-09-05T12:02:55.262303Z",
     "iopub.status.busy": "2024-09-05T12:02:55.261832Z",
     "iopub.status.idle": "2024-09-05T12:02:57.115323Z",
     "shell.execute_reply": "2024-09-05T12:02:57.114000Z"
    }
   },
   "outputs": [
    {
     "data": {
      "image/png": "[encoded data removed]",
      "text/plain": [
       "<Figure size 1100x300 with 4 Axes>"
      ]
     },
     "metadata": {},
     "output_type": "display_data"
    }
   ],
   "source": [
    "sim1 = modeler.batch.load()[\"smatrix_lumped_port_1\"]\n",
    "\n",
    "f, (ax1, ax2) = plt.subplots(1, 2, tight_layout=True, figsize=(11, 3))\n",
    "sim1.plot_field(field_monitor_name=\"field\", field_name=\"Ez\", val=\"abs\", f=freq_stopband, ax=ax1)\n",
    "# Update plot labels\n",
    "ax1.xaxis.set_major_formatter(formatter)\n",
    "ax1.yaxis.set_major_formatter(formatter)\n",
    "ax1.set_xlabel(xlbl)\n",
    "ax1.set_ylabel(ylbl)\n",
    "ax1.set_title(\"Electric field in the stopband of the filter\")\n",
    "sim1.plot_field(field_monitor_name=\"field\", field_name=\"Ez\", val=\"abs\", f=freq0, ax=ax2)\n",
    "# Update plot labels\n",
    "ax2.xaxis.set_major_formatter(formatter)\n",
    "ax2.yaxis.set_major_formatter(formatter)\n",
    "ax2.set_xlabel(xlbl)\n",
    "ax2.set_ylabel(ylbl)\n",
    "ax2.set_title(\"Electric field in the passband of the filter\")\n",
    "plt.show()"
   ]
  },
  {
   "cell_type": "markdown",
   "id": "91894098",
   "metadata": {},
   "source": [
    "## Creating a Network Using the `scikit-rf` Package\n",
    "In order to help us validate the design, we use the open source `scikit-rf` package. By treating each coupled line segment as an independent transmission line [2], we can build a simple circuit model of the network by chaining the four segments using the ABCD matrix representation [2].\n",
    "\n",
    "Once ABCD matrices have been generated for each segment, it is quite simple to compute the scattering parameters using the functionality provided by `scikit-rf`."
   ]
  },
  {
   "cell_type": "code",
   "execution_count": 10,
   "id": "f4ff32fa",
   "metadata": {
    "execution": {
     "iopub.execute_input": "2024-09-05T12:02:57.119487Z",
     "iopub.status.busy": "2024-09-05T12:02:57.118955Z",
     "iopub.status.idle": "2024-09-05T12:02:57.139077Z",
     "shell.execute_reply": "2024-09-05T12:02:57.138199Z"
    }
   },
   "outputs": [],
   "source": [
    "# Helper function that creates a model of the 2 port filter network using the scikit-rf package.\n",
    "# This model is useful for validation, but it is based on transmission line models.\n",
    "# As a result, it will not be as accurate as a converged full-wave solution.\n",
    "def create_network_model_four_segment_coupler_with_scikit(\n",
    "    freqs, lengths, widths, height, gaps, eps_sub\n",
    "):\n",
    "    # Helper function that creates an ABCD matrix for each coupler section.\n",
    "    def abcd_from_coupled_strip(lambda_0, length, width, height, gap, eps_sub):\n",
    "        # Use models provided in the microwave plugin to estimate characteristic impedance\n",
    "        # and effective permittivities for the even and odd modes of the coupled line\n",
    "        (z0_even, z0_odd, er_eff_even, er_eff_odd) = (\n",
    "            mw.models.coupled_microstrip.compute_line_params(\n",
    "                relative_permittivity=eps_sub, width=width, height=height, gap=gap\n",
    "            )\n",
    "        )\n",
    "        # First we estimate the electrical length of the segment\n",
    "        # Use the geometric mean of the even/odd permittivities as an approximation for the relative permittivity\n",
    "        er_geo_mean = np.sqrt(er_eff_even * er_eff_odd)\n",
    "        # Phase constant is computed using free space wavelength and the effective permittivity\n",
    "        beta = 2 * np.pi / lambda_0 * np.sqrt(er_geo_mean)\n",
    "        # Microstrips terminated by an open circuit have fringing fields that can be modeled as a slight extension to the microstrip.\n",
    "        # This functionality is available in the microwave plugin.\n",
    "        dL = mw.models.microstrip.compute_end_effect_length(eps_sub, er_geo_mean, width, height)\n",
    "        # With the modified length and phase constant the electrical length is estimated for this segment.\n",
    "        theta = beta * (length + dL)\n",
    "        costheta = np.cos(theta)\n",
    "        sintheta = np.sin(theta)\n",
    "        # Compute the characteristic impedance of the coupler line segment using Table 8.8 from [2]\n",
    "        impedance = np.sqrt(\n",
    "            ((z0_even - z0_odd) ** 2 - (z0_even + z0_odd) ** 2 * costheta**2).astype(complex)\n",
    "        ) / (2 * sintheta)\n",
    "        # Using Equation 8.103 from [2]\n",
    "        cosbetal = costheta * (z0_even + z0_odd) / (z0_even - z0_odd)\n",
    "        sinthetal = np.sqrt((1 - cosbetal**2).astype(complex))\n",
    "        # This is the canonical ABCD matrix for a transmission line\n",
    "        A = cosbetal\n",
    "        B = 1j * impedance * sinthetal\n",
    "        C = 1j / impedance * sinthetal\n",
    "        D = cosbetal\n",
    "        # Change location of frequency dimension to conform to the scikit-rf format\n",
    "        abcd = np.array([[A, B], [C, D]])\n",
    "        return np.transpose(abcd, axes=(2, 0, 1))\n",
    "\n",
    "    # Compute the wavelengths in free space\n",
    "    lambda_0 = 3e14 / freqs  # speed of light in microns/s\n",
    "    abcd1 = abcd_from_coupled_strip(\n",
    "        lambda_0,\n",
    "        length=lengths[0],\n",
    "        width=widths[0],\n",
    "        height=height,\n",
    "        gap=gaps[0],\n",
    "        eps_sub=eps_sub,\n",
    "    )\n",
    "    abcd2 = abcd_from_coupled_strip(\n",
    "        lambda_0,\n",
    "        length=lengths[1],\n",
    "        width=widths[1],\n",
    "        height=height,\n",
    "        gap=gaps[1],\n",
    "        eps_sub=eps_sub,\n",
    "    )\n",
    "\n",
    "    freq = rf.Frequency.from_f(freqs, unit=\"Hz\")\n",
    "    abcd1_ntw = rf.Network(frequency=freq, a=abcd1, name=\"cstrip1\")\n",
    "    abcd2_ntw = rf.Network(frequency=freq, a=abcd2, name=\"cstrip2\")\n",
    "\n",
    "    port1 = rf.Circuit.Port(freq, \"port1\")\n",
    "    port2 = rf.Circuit.Port(freq, \"port2\")\n",
    "\n",
    "    # The complete network is made up of four segments where there are only two unique segments\n",
    "    chain = abcd1_ntw**abcd2_ntw**abcd2_ntw**abcd1_ntw\n",
    "\n",
    "    # Add the ports to the network\n",
    "    cnx = [\n",
    "        [(port1, 0), (chain, 0)],\n",
    "        [(chain, 1), (port2, 0)],\n",
    "    ]\n",
    "    # building the circuit\n",
    "    cir = rf.Circuit(cnx)\n",
    "    # return the resulting Network from the 'network' parameter:\n",
    "    return cir.network"
   ]
  },
  {
   "cell_type": "markdown",
   "id": "288fcdbb",
   "metadata": {},
   "source": [
    "## Plotting the Scattering Parameters from the Initial Design\n",
    "\n",
    "We may now plot the computed scattering parameters $S_{11}$ and $S_{12}$ using both the results from the `scikit-rf` model and the `Tidy3D` simulations."
   ]
  },
  {
   "cell_type": "code",
   "execution_count": 11,
   "id": "a7e3968f",
   "metadata": {
    "execution": {
     "iopub.execute_input": "2024-09-05T12:02:57.142801Z",
     "iopub.status.busy": "2024-09-05T12:02:57.142414Z",
     "iopub.status.idle": "2024-09-05T12:02:57.430211Z",
     "shell.execute_reply": "2024-09-05T12:02:57.428768Z"
    }
   },
   "outputs": [
    {
     "data": {
      "image/png": "[encoded data removed]",
      "text/plain": [
       "<Figure size 1100x300 with 2 Axes>"
      ]
     },
     "metadata": {},
     "output_type": "display_data"
    }
   ],
   "source": [
    "# Create the network using transmission line models for comparison with tidy3D simulations\n",
    "ntw = create_network_model_four_segment_coupler_with_scikit(\n",
    "    freqs=freqs,\n",
    "    lengths=lengths,\n",
    "    widths=widths,\n",
    "    height=h_sub,\n",
    "    gaps=gaps,\n",
    "    eps_sub=eps_sub,\n",
    ")\n",
    "# Plot the scattering parameters related to reflection and transmission\n",
    "_, (ax1, ax2) = plt.subplots(1, 2, figsize=(11, 3))\n",
    "ax1.plot(\n",
    "    freqs / 1e9,\n",
    "    20 * np.log10(np.abs(ntw.s[:, 0, 0])),\n",
    "    \"-r\",\n",
    "    s_matrix.f / 1e9,\n",
    "    20 * np.log10(np.abs(s_matrix.isel(port_out=0, port_in=0).values.flatten())),\n",
    "    \"--b\",\n",
    ")\n",
    "ax1.legend([\"scikit-rf\", \"Tidy3D\"], loc=\"lower right\")\n",
    "ax1.set_xlabel(\"Frequency (GHz)\")\n",
    "ax1.set_ylabel(r\"$|S_{11}|$ (dB)\")\n",
    "ax1.set_ylim([-50, 1])\n",
    "ax1.grid()\n",
    "\n",
    "ax2.plot(\n",
    "    freqs / 1e9,\n",
    "    20 * np.log10(np.abs(ntw.s[:, 0, 1])),\n",
    "    \"-r\",\n",
    "    s_matrix.f / 1e9,\n",
    "    20 * np.log10(np.abs(s_matrix.isel(port_out=0, port_in=1).values.flatten())),\n",
    "    \"--b\",\n",
    ")\n",
    "ax2.legend([\"scikit-rf\", \"Tidy3D\"], loc=\"lower right\")\n",
    "ax2.set_xlabel(\"Frequency (GHz)\")\n",
    "ax2.set_ylabel(r\"$|S_{12}|$ (dB)\")\n",
    "ax2.set_ylim([-50, 1])\n",
    "ax2.grid()\n",
    "plt.show()"
   ]
  },
  {
   "cell_type": "markdown",
   "id": "640b8963",
   "metadata": {},
   "source": [
    "## Optimized Design of Bandpass Filter\n",
    "\n",
    "From the previous results we observe that the filter is not exactly centered at 6 GHz, which was a desired feature. In this part, we optimize the microstrip parameters from [1] to achieve a better implementation of the desired filter.\n",
    "\n",
    "The specified even and odd characteristic impedances for the coupled lines from [1] are tabulated below.\n",
    "\n",
    "| Segment  | $$Z_{\\textrm{even}} ~(\\Omega)$$ | $$Z_{\\textrm{odd}} ~(\\Omega)$$ |\n",
    "| -------- | ---------- | ------------ |\n",
    "| 1 |   101.5 | 38.5 |\n",
    "| 2 |   71 | 39 |\n",
    "| 3 |   71 | 39 |\n",
    "| 4 |   101.5 | 38.5 |\n",
    "\n",
    "In the `microwave` plugin, we have made available approximate models for a few common transmission line types. These models allow us to quickly compute the expected even and odd characteristic impedances for a segment of coupled microstrip lines with a given width and gap.\n",
    "\n",
    "We now use the `optimize` module from the `scipy` package to find better widths, gaps, and lengths. These optimized parameters will result in coupled microstrip lines that more closely match the desired even and odd characteristic impedances from [1]."
   ]
  },
  {
   "cell_type": "code",
   "execution_count": 12,
   "id": "da2bde72",
   "metadata": {
    "execution": {
     "iopub.execute_input": "2024-09-05T12:02:57.433367Z",
     "iopub.status.busy": "2024-09-05T12:02:57.432852Z",
     "iopub.status.idle": "2024-09-05T12:02:57.469917Z",
     "shell.execute_reply": "2024-09-05T12:02:57.468491Z"
    }
   },
   "outputs": [
    {
     "name": "stdout",
     "output_type": "stream",
     "text": [
      "The new optimized dimensions for the coupled microstrips are: \n",
      "Widths (mm): [1.4161279  2.39856517 2.39856517 1.4161279 ]\n",
      "Lengths (mm): [6.60907322 6.39916412 6.39916412 6.60907322]\n",
      "Gaps (mm): [0.13409215 0.3863375  0.3863375  0.13409215]\n"
     ]
    }
   ],
   "source": [
    "# Given parameters are a list of desired even and odd impedances, from [1]\n",
    "Z_evens = [101.5, 71, 71, 101.5]\n",
    "Z_odds = [38.5, 39, 39, 38.5]\n",
    "\n",
    "\n",
    "# Define a target function that is used to find the optimal width and gap of a coupled microstrip given a desired even/odd impedance pair\n",
    "def target_func(x, *args):\n",
    "    width = x[0]\n",
    "    gap = x[1]\n",
    "    # Tidy3D microwave plugin function to quickly approximate parameters of coupled microstrips\n",
    "    (z0_even, z0_odd, _, _) = mw.models.coupled_microstrip.compute_line_params(\n",
    "        relative_permittivity=eps_sub, width=width, height=h_sub, gap=gap\n",
    "    )\n",
    "    even_target = args[0]\n",
    "    odd_target = args[1]\n",
    "    # Simple error metric\n",
    "    error = (z0_even - even_target) ** 2 + (z0_odd - odd_target) ** 2\n",
    "    return error\n",
    "\n",
    "\n",
    "# Use approximate models for microstrip parameters to compute the needed widths, gaps, and lengths of segments\n",
    "strips_W = []\n",
    "strips_G = []\n",
    "strips_L = []\n",
    "for Z_even, Z_odd in zip(Z_evens, Z_odds):\n",
    "    # Search for solutions within the domain 1 < width < 10 and 0.05 < gap < 1\n",
    "    bounds = [(1 * mm, 10 * mm), (0.05 * mm, 1 * mm)]\n",
    "    # Target values for even/odd impedances\n",
    "    args = (Z_even, Z_odd)\n",
    "    res = opt.minimize(\n",
    "        target_func,\n",
    "        x0=[5 * mm, 0.5 * mm],\n",
    "        bounds=bounds,\n",
    "        tol=1e-4,\n",
    "        # We use one of the suggested algorithms from SciPy for bound constrained optimization problems.\n",
    "        method=\"L-BFGS-B\",\n",
    "        args=args,\n",
    "    )\n",
    "    width = res.x[0]\n",
    "    gap = res.x[1]\n",
    "    strips_W.append(width)\n",
    "    strips_G.append(gap)\n",
    "    # Compute the required segment length which needs to have an electrical length of lambda/4\n",
    "    (_, _, er_eff_even, er_eff_odd) = mw.models.coupled_microstrip.compute_line_params(\n",
    "        relative_permittivity=eps_sub, width=width, height=h_sub, gap=gap\n",
    "    )\n",
    "    # Use the geometric mean of the even/odd permittivities as an approximation for the relative permittivity\n",
    "    er_geo_mean = np.sqrt(er_eff_even * er_eff_odd)\n",
    "    length = (lda0) / 4 / (np.sqrt(er_geo_mean))\n",
    "    # Microstrips terminated by an open circuit have fringing fields that can be modelled as a slight extension to the microstrip\n",
    "    dL = mw.models.microstrip.compute_end_effect_length(\n",
    "        eps_sub, er_geo_mean, width, h_sub\n",
    "    )\n",
    "    # As a result, we need a slightly shorter section\n",
    "    length -= dL\n",
    "    strips_L.append(length)\n",
    "\n",
    "# Numpy arrays of the microstrip dimensions\n",
    "lengths = np.array(strips_L)\n",
    "widths = np.array(strips_W)\n",
    "gaps = np.array(strips_G)\n",
    "\n",
    "print(\"The new optimized dimensions for the coupled microstrips are: \")\n",
    "print(f\"Widths (mm): {widths*1e-3}\")\n",
    "print(f\"Lengths (mm): {lengths*1e-3}\")\n",
    "print(f\"Gaps (mm): {gaps*1e-3}\")"
   ]
  },
  {
   "cell_type": "markdown",
   "id": "68f8ecd0",
   "metadata": {},
   "source": [
    "Using the previously defined helper functions, we can quickly set up the new structures and simulations."
   ]
  },
  {
   "cell_type": "code",
   "execution_count": 13,
   "id": "659918cf",
   "metadata": {
    "execution": {
     "iopub.execute_input": "2024-09-05T12:02:57.474046Z",
     "iopub.status.busy": "2024-09-05T12:02:57.473531Z",
     "iopub.status.idle": "2024-09-05T12:04:54.582616Z",
     "shell.execute_reply": "2024-09-05T12:04:54.581733Z"
    }
   },
   "outputs": [
    {
     "data": {
      "application/vnd.jupyter.widget-view+json": {
       "model_id": "71478e750f7a42ae98206d1727baaff8",
       "version_major": 2,
       "version_minor": 0
      },
      "text/plain": [
       "Output()"
      ]
     },
     "metadata": {},
     "output_type": "display_data"
    },
    {
     "data": {
      "text/html": [
       "<pre style=\"white-space:pre;overflow-x:auto;line-height:normal;font-family:Menlo,'DejaVu Sans Mono',consolas,'Courier New',monospace\"></pre>\n"
      ],
      "text/plain": []
     },
     "metadata": {},
     "output_type": "display_data"
    },
    {
     "data": {
      "text/html": [
       "<pre style=\"white-space:pre;overflow-x:auto;line-height:normal;font-family:Menlo,'DejaVu Sans Mono',consolas,'Courier New',monospace\">\n",
       "</pre>\n"
      ],
      "text/plain": [
       "\n"
      ]
     },
     "metadata": {},
     "output_type": "display_data"
    },
    {
     "data": {
      "text/html": [
       "<pre style=\"white-space:pre;overflow-x:auto;line-height:normal;font-family:Menlo,'DejaVu Sans Mono',consolas,'Courier New',monospace\"><span style=\"color: #7fbfbf; text-decoration-color: #7fbfbf\">12:02:58 UTC </span>Started working on Batch containing <span style=\"color: #008080; text-decoration-color: #008080; font-weight: bold\">2</span> tasks.                       \n",
       "</pre>\n"
      ],
      "text/plain": [
       "\u001b[2;36m12:02:58 UTC\u001b[0m\u001b[2;36m \u001b[0mStarted working on Batch containing \u001b[1;36m2\u001b[0m tasks.                       \n"
      ]
     },
     "metadata": {},
     "output_type": "display_data"
    },
    {
     "data": {
      "text/html": [
       "<pre style=\"white-space:pre;overflow-x:auto;line-height:normal;font-family:Menlo,'DejaVu Sans Mono',consolas,'Courier New',monospace\"><span style=\"color: #7fbfbf; text-decoration-color: #7fbfbf\">12:03:00 UTC </span>Maximum FlexCredit cost: <span style=\"color: #008080; text-decoration-color: #008080; font-weight: bold\">0.321</span> for the whole batch.                \n",
       "</pre>\n"
      ],
      "text/plain": [
       "\u001b[2;36m12:03:00 UTC\u001b[0m\u001b[2;36m \u001b[0mMaximum FlexCredit cost: \u001b[1;36m0.321\u001b[0m for the whole batch.                \n"
      ]
     },
     "metadata": {},
     "output_type": "display_data"
    },
    {
     "data": {
      "text/html": [
       "<pre style=\"white-space:pre;overflow-x:auto;line-height:normal;font-family:Menlo,'DejaVu Sans Mono',consolas,'Courier New',monospace\"><span style=\"color: #7fbfbf; text-decoration-color: #7fbfbf\">             </span>Use <span style=\"color: #008000; text-decoration-color: #008000\">'Batch.real_cost()'</span> to get the billed FlexCredit cost after the\n",
       "<span style=\"color: #7fbfbf; text-decoration-color: #7fbfbf\">             </span>Batch has completed.                                               \n",
       "</pre>\n"
      ],
      "text/plain": [
       "\u001b[2;36m            \u001b[0m\u001b[2;36m \u001b[0mUse \u001b[32m'Batch.real_cost\u001b[0m\u001b[32m(\u001b[0m\u001b[32m)\u001b[0m\u001b[32m'\u001b[0m to get the billed FlexCredit cost after the\n",
       "\u001b[2;36m             \u001b[0mBatch has completed.                                               \n"
      ]
     },
     "metadata": {},
     "output_type": "display_data"
    },
    {
     "data": {
      "application/vnd.jupyter.widget-view+json": {
       "model_id": "a2ef4fa89ba24b4a86f8ff5f5e723666",
       "version_major": 2,
       "version_minor": 0
      },
      "text/plain": [
       "Output()"
      ]
     },
     "metadata": {},
     "output_type": "display_data"
    },
    {
     "data": {
      "text/html": [
       "<pre style=\"white-space:pre;overflow-x:auto;line-height:normal;font-family:Menlo,'DejaVu Sans Mono',consolas,'Courier New',monospace\"><span style=\"color: #7fbfbf; text-decoration-color: #7fbfbf\">12:04:51 UTC </span>Batch complete.                                                    \n",
       "</pre>\n"
      ],
      "text/plain": [
       "\u001b[2;36m12:04:51 UTC\u001b[0m\u001b[2;36m \u001b[0mBatch complete.                                                    \n"
      ]
     },
     "metadata": {},
     "output_type": "display_data"
    },
    {
     "data": {
      "text/html": [
       "<pre style=\"white-space:pre;overflow-x:auto;line-height:normal;font-family:Menlo,'DejaVu Sans Mono',consolas,'Courier New',monospace\"></pre>\n"
      ],
      "text/plain": []
     },
     "metadata": {},
     "output_type": "display_data"
    },
    {
     "data": {
      "text/html": [
       "<pre style=\"white-space:pre;overflow-x:auto;line-height:normal;font-family:Menlo,'DejaVu Sans Mono',consolas,'Courier New',monospace\">\n",
       "</pre>\n"
      ],
      "text/plain": [
       "\n"
      ]
     },
     "metadata": {},
     "output_type": "display_data"
    },
    {
     "data": {
      "application/vnd.jupyter.widget-view+json": {
       "model_id": "70a29c3e9a2442aea0d09d25e714ffa3",
       "version_major": 2,
       "version_minor": 0
      },
      "text/plain": [
       "Output()"
      ]
     },
     "metadata": {},
     "output_type": "display_data"
    },
    {
     "data": {
      "text/html": [
       "<pre style=\"white-space:pre;overflow-x:auto;line-height:normal;font-family:Menlo,'DejaVu Sans Mono',consolas,'Courier New',monospace\"></pre>\n"
      ],
      "text/plain": []
     },
     "metadata": {},
     "output_type": "display_data"
    },
    {
     "data": {
      "text/html": [
       "<pre style=\"white-space:pre;overflow-x:auto;line-height:normal;font-family:Menlo,'DejaVu Sans Mono',consolas,'Courier New',monospace\">\n",
       "</pre>\n"
      ],
      "text/plain": [
       "\n"
      ]
     },
     "metadata": {},
     "output_type": "display_data"
    }
   ],
   "source": [
    "# Create the structures and geometry of the coupled line bandpass filter\n",
    "(total_L, total_W, xstarts, ystarts) = get_coupled_line_geometry(lengths, widths, gaps)\n",
    "coupled_lines = generate_coupled_lines(lengths, widths, gaps, xstarts, ystarts)\n",
    "\n",
    "# Define the simulation domain size with some extra padding based on central wavelength\n",
    "Lx = total_L + lda0 / 5\n",
    "Ly = total_W + lda0 / 5\n",
    "Lz = h_sub + lda0 / 8\n",
    "\n",
    "# Definition of mesh overrides\n",
    "mesh_overrides = [\n",
    "    # The first mesh override ensures the small height of the strips is accurately modeled.\n",
    "    td.MeshOverrideStructure(\n",
    "        geometry=td.Box(\n",
    "            center=[0, 0, h_trace / 2],\n",
    "            size=[1.1 * total_L, 1.1 * total_W, h_trace],\n",
    "        ),\n",
    "        dl=[total_L / 200, np.min(widths) / 20, h_trace],\n",
    "    ),\n",
    "    # The second mesh override refined the grid within the substrate.\n",
    "    td.MeshOverrideStructure(\n",
    "        geometry=td.Box(\n",
    "            center=[0, 0, -h_sub / 2],\n",
    "            size=[1.1 * total_L, 1.1 * total_W, h_sub],\n",
    "        ),\n",
    "        dl=[total_L / 200, np.min(widths) / 20, h_sub / 20],\n",
    "    ),\n",
    "]\n",
    "\n",
    "# The base tidy3D Simulation ready to be used by the TerminalComponentModeler\n",
    "sim = td.Simulation(\n",
    "    center=(0, 0, Lz / 2 - h_sub),\n",
    "    size=(Lx, Ly, Lz),\n",
    "    grid_spec=td.GridSpec.auto(\n",
    "        min_steps_per_wvl=40.0,\n",
    "        wavelength=lda0,\n",
    "        dl_min=h_trace / 5,\n",
    "        override_structures=mesh_overrides,\n",
    "    ),\n",
    "    structures=[substrate] + coupled_lines,\n",
    "    sources=[],\n",
    "    monitors=[field_monitor],\n",
    "    run_time=10e-9,\n",
    "    boundary_spec=boundary_spec,\n",
    ")\n",
    "\n",
    "# Compute port xy locations\n",
    "port_left = (xstarts[0], ystarts[0] - widths[0] / 2)\n",
    "port_right = (xstarts[-1] + lengths[-1], ystarts[-1] - gaps[-1] - 1.5 * widths[-1])\n",
    "# Impedance at each port\n",
    "reference_impedance = 50\n",
    "port_1_td = smatrix.LumpedPort(\n",
    "    center=(port_left[0], port_left[1], -h_sub / 2),\n",
    "    size=(0, widths[0], h_sub),\n",
    "    voltage_axis=2,\n",
    "    name=\"lumped_port_1\",\n",
    "    impedance=reference_impedance,\n",
    ")\n",
    "\n",
    "port_2_td = smatrix.LumpedPort(\n",
    "    center=(port_right[0], port_right[1], -h_sub / 2),\n",
    "    size=(0, widths[-1], h_sub),\n",
    "    voltage_axis=2,\n",
    "    name=\"lumped_port_2\",\n",
    "    impedance=reference_impedance,\n",
    ")\n",
    "\n",
    "modeler = smatrix.TerminalComponentModeler(\n",
    "    simulation=sim,\n",
    "    ports=[port_1_td, port_2_td],\n",
    "    freqs=freqs,\n",
    "    verbose=True,\n",
    ")\n",
    "\n",
    "# Run the jobs and save the scattering parameters\n",
    "s_matrix = modeler.run()"
   ]
  },
  {
   "cell_type": "markdown",
   "id": "c4b0c47e",
   "metadata": {},
   "source": [
    "### Plotting the Scattering Parameters from the Optimized Design\n",
    "\n",
    "We again create a transmission line model of the network using `scikit-rf` and the helper function `create_network_model_four_segment_coupler_with_scikit`. We plot the scattering parameters for the optimized design and compare to those computed by the `scikit-rf` model.\n",
    "\n",
    "The optimized filter is now centered at 6 GHz. In addition, the return loss has increased from about 15 dB to approximately 30 dB around the central frequency, which indicates much less reflected power."
   ]
  },
  {
   "cell_type": "code",
   "execution_count": 14,
   "id": "8891493d",
   "metadata": {
    "execution": {
     "iopub.execute_input": "2024-09-05T12:04:59.816272Z",
     "iopub.status.busy": "2024-09-05T12:04:59.815797Z",
     "iopub.status.idle": "2024-09-05T12:05:00.072591Z",
     "shell.execute_reply": "2024-09-05T12:05:00.071777Z"
    }
   },
   "outputs": [
    {
     "data": {
      "image/png": "[encoded data removed]",
      "text/plain": [
       "<Figure size 1100x300 with 2 Axes>"
      ]
     },
     "metadata": {},
     "output_type": "display_data"
    }
   ],
   "source": [
    "# Create the network using transmission line models for comparison with tidy3D simulations\n",
    "ntw = create_network_model_four_segment_coupler_with_scikit(\n",
    "    freqs=freqs,\n",
    "    lengths=lengths,\n",
    "    widths=widths,\n",
    "    height=h_sub,\n",
    "    gaps=gaps,\n",
    "    eps_sub=eps_sub,\n",
    ")\n",
    "\n",
    "# Plot the scattering parameters related to reflection and transmission\n",
    "_, (ax1, ax2) = plt.subplots(1, 2, figsize=(11, 3))\n",
    "ax1.plot(\n",
    "    freqs / 1e9,\n",
    "    20 * np.log10(np.abs(ntw.s[:, 0, 0])),\n",
    "    \"-r\",\n",
    "    s_matrix.f / 1e9,\n",
    "    20 * np.log10(np.abs(s_matrix.isel(port_out=0, port_in=0).values.flatten())),\n",
    "    \"--b\",\n",
    ")\n",
    "ax1.legend([\"scikit-rf\", \"Tidy3D\"], loc=\"lower right\")\n",
    "ax1.set_xlabel(\"Frequency (GHz)\")\n",
    "ax1.set_ylabel(r\"$|S_{11}|$ (dB)\")\n",
    "ax1.set_ylim([-50, 1])\n",
    "ax1.grid()\n",
    "\n",
    "ax2.plot(\n",
    "    freqs / 1e9,\n",
    "    20 * np.log10(np.abs(ntw.s[:, 0, 1])),\n",
    "    \"-r\",\n",
    "    s_matrix.f / 1e9,\n",
    "    20 * np.log10(np.abs(s_matrix.isel(port_out=0, port_in=1).values.flatten())),\n",
    "    \"--b\",\n",
    ")\n",
    "ax2.legend([\"scikit-rf\", \"Tidy3D\"], loc=\"upper right\")\n",
    "ax2.set_xlabel(\"Frequency (GHz)\")\n",
    "ax2.set_ylabel(r\"$|S_{12}|$ (dB)\")\n",
    "ax2.set_ylim([-50, 1])\n",
    "ax2.grid()\n",
    "plt.show()"
   ]
  },
  {
   "cell_type": "markdown",
   "id": "49ce7b9a",
   "metadata": {},
   "source": [
    "## References\n",
    "\n",
    "[1]   Taoufik, Ragani, N. Amar Touhami, and M. Agoutane. \"Designing a Microstrip coupled line bandpass filter.\"\n",
    "      International Journal of Engineering & Technology 2, no. 4 (2013): 266.\n",
    "\n",
    "[2]   David M. Pozar, \"Microwave Filters\" in Microwave Engineering, 4th ed. 2011, ch. 8."
   ]
  },
  {
   "cell_type": "code",
   "execution_count": null,
   "id": "7470f8d5-1b7a-45e3-b9ab-d0c99339655f",
   "metadata": {},
   "outputs": [],
   "source": []
  }
 ],
 "metadata": {
  "applications": [
   "Microwave and RF devices"
  ],
  "description": "Microwave filters serve as essential components in microwave and radio frequency communication systems. These critical building blocks help us exert control over the frequencies that are transmitted through a system. Implementing microwave filters can be achieved through various methods, for example, utilizing lumped elements, sections of transmission lines, or a combination of both. In this notebook, we will guide you through the process of designing and validating a bandpass filter using multiple sections of coupled microstrip lines.",
  "feature_image": "./img/coupled_line_bandpass_filter.png",
  "features": [
   "Lumped port",
   "Smatrix plugin"
  ],
  "kernelspec": {
   "display_name": "Python 3 (ipykernel)",
   "language": "python",
   "name": "python3"
  },
  "keywords": "microwave, RF, network analysis, insertion loss method, filter, Tidy3D, FDTD",
  "language_info": {
   "codemirror_mode": {
    "name": "ipython",
    "version": 3
   },
   "file_extension": ".py",
   "mimetype": "text/x-python",
   "name": "python",
   "nbconvert_exporter": "python",
   "pygments_lexer": "ipython3",
   "version": "3.10.14"
  },
  "title": "Designing and optimizing a coupled microstrip line bandpass filter in Tidy3D FDTD",
  "widgets": {
   "application/vnd.jupyter.widget-state+json": {
    "state": {
     "41343018e1584733ae66097afc43f251": {
      "model_module": "@jupyter-widgets/output",
      "model_module_version": "1.0.0",
      "model_name": "OutputModel",
      "state": {
       "_dom_classes": [],
       "_model_module": "@jupyter-widgets/output",
       "_model_module_version": "1.0.0",
       "_model_name": "OutputModel",
       "_view_count": null,
       "_view_module": "@jupyter-widgets/output",
       "_view_module_version": "1.0.0",
       "_view_name": "OutputView",
       "layout": "IPY_MODEL_ec3bdf23bb364272b8f4f7b2c5a2b9a0",
       "msg_id": "",
       "outputs": [
        {
         "data": {
          "text/html": "<pre style=\"white-space:pre;overflow-x:auto;line-height:normal;font-family:Menlo,'DejaVu Sans Mono',consolas,'Courier New',monospace\">smatrix_lumped_port_1: status = success <span style=\"color: #729c1f; text-decoration-color: #729c1f\">━━━━━━━━━━━━━━━━━━━━━━━━━━━</span> <span style=\"color: #800080; text-decoration-color: #800080\">100%</span> <span style=\"color: #008080; text-decoration-color: #008080\">0:00:00</span>\nsmatrix_lumped_port_2: status = success <span style=\"color: #729c1f; text-decoration-color: #729c1f\">━━━━━━━━━━━━━━━━━━━━━━━━━━━</span> <span style=\"color: #800080; text-decoration-color: #800080\">100%</span> <span style=\"color: #008080; text-decoration-color: #008080\">0:00:00</span>\n</pre>\n",
          "text/plain": "smatrix_lumped_port_1: status = success \u001b[38;2;114;156;31m━━━━━━━━━━━━━━━━━━━━━━━━━━━\u001b[0m \u001b[35m100%\u001b[0m \u001b[36m0:00:00\u001b[0m\nsmatrix_lumped_port_2: status = success \u001b[38;2;114;156;31m━━━━━━━━━━━━━━━━━━━━━━━━━━━\u001b[0m \u001b[35m100%\u001b[0m \u001b[36m0:00:00\u001b[0m\n"
         },
         "metadata": {},
         "output_type": "display_data"
        }
       ],
       "tabbable": null,
       "tooltip": null
      }
     },
     "456260e8e6ef4e5caa8b6e9a0f75bd4e": {
      "model_module": "@jupyter-widgets/base",
      "model_module_version": "2.0.0",
      "model_name": "LayoutModel",
      "state": {
       "_model_module": "@jupyter-widgets/base",
       "_model_module_version": "2.0.0",
       "_model_name": "LayoutModel",
       "_view_count": null,
       "_view_module": "@jupyter-widgets/base",
       "_view_module_version": "2.0.0",
       "_view_name": "LayoutView",
       "align_content": null,
       "align_items": null,
       "align_self": null,
       "border_bottom": null,
       "border_left": null,
       "border_right": null,
       "border_top": null,
       "bottom": null,
       "display": null,
       "flex": null,
       "flex_flow": null,
       "grid_area": null,
       "grid_auto_columns": null,
       "grid_auto_flow": null,
       "grid_auto_rows": null,
       "grid_column": null,
       "grid_gap": null,
       "grid_row": null,
       "grid_template_areas": null,
       "grid_template_columns": null,
       "grid_template_rows": null,
       "height": null,
       "justify_content": null,
       "justify_items": null,
       "left": null,
       "margin": null,
       "max_height": null,
       "max_width": null,
       "min_height": null,
       "min_width": null,
       "object_fit": null,
       "object_position": null,
       "order": null,
       "overflow": null,
       "padding": null,
       "right": null,
       "top": null,
       "visibility": null,
       "width": null
      }
     },
     "70a29c3e9a2442aea0d09d25e714ffa3": {
      "model_module": "@jupyter-widgets/output",
      "model_module_version": "1.0.0",
      "model_name": "OutputModel",
      "state": {
       "_dom_classes": [],
       "_model_module": "@jupyter-widgets/output",
       "_model_module_version": "1.0.0",
       "_model_name": "OutputModel",
       "_view_count": null,
       "_view_module": "@jupyter-widgets/output",
       "_view_module_version": "1.0.0",
       "_view_name": "OutputView",
       "layout": "IPY_MODEL_a0431029702f4f17965c860d31aa33f9",
       "msg_id": "",
       "outputs": [
        {
         "data": {
          "text/html": "<pre style=\"white-space:pre;overflow-x:auto;line-height:normal;font-family:Menlo,'DejaVu Sans Mono',consolas,'Courier New',monospace\">Downloading data for 2 tasks. <span style=\"color: #729c1f; text-decoration-color: #729c1f\">━━━━━━━━━━━━━━━━━━━━━━━━━━━━━━━━━━━━━</span> <span style=\"color: #800080; text-decoration-color: #800080\">100%</span> <span style=\"color: #008080; text-decoration-color: #008080\">0:00:00</span>\n</pre>\n",
          "text/plain": "Downloading data for 2 tasks. \u001b[38;2;114;156;31m━━━━━━━━━━━━━━━━━━━━━━━━━━━━━━━━━━━━━\u001b[0m \u001b[35m100%\u001b[0m \u001b[36m0:00:00\u001b[0m\n"
         },
         "metadata": {},
         "output_type": "display_data"
        }
       ],
       "tabbable": null,
       "tooltip": null
      }
     },
     "71478e750f7a42ae98206d1727baaff8": {
      "model_module": "@jupyter-widgets/output",
      "model_module_version": "1.0.0",
      "model_name": "OutputModel",
      "state": {
       "_dom_classes": [],
       "_model_module": "@jupyter-widgets/output",
       "_model_module_version": "1.0.0",
       "_model_name": "OutputModel",
       "_view_count": null,
       "_view_module": "@jupyter-widgets/output",
       "_view_module_version": "1.0.0",
       "_view_name": "OutputView",
       "layout": "IPY_MODEL_456260e8e6ef4e5caa8b6e9a0f75bd4e",
       "msg_id": "",
       "outputs": [
        {
         "data": {
          "text/html": "<pre style=\"white-space:pre;overflow-x:auto;line-height:normal;font-family:Menlo,'DejaVu Sans Mono',consolas,'Courier New',monospace\">Uploading data for 2 tasks. <span style=\"color: #729c1f; text-decoration-color: #729c1f\">━━━━━━━━━━━━━━━━━━━━━━━━━━━━━━━━━━━━━━━</span> <span style=\"color: #800080; text-decoration-color: #800080\">100%</span> <span style=\"color: #008080; text-decoration-color: #008080\">0:00:00</span>\n</pre>\n",
          "text/plain": "Uploading data for 2 tasks. \u001b[38;2;114;156;31m━━━━━━━━━━━━━━━━━━━━━━━━━━━━━━━━━━━━━━━\u001b[0m \u001b[35m100%\u001b[0m \u001b[36m0:00:00\u001b[0m\n"
         },
         "metadata": {},
         "output_type": "display_data"
        }
       ],
       "tabbable": null,
       "tooltip": null
      }
     },
     "8e8cca291ba24636b525e7943e37d343": {
      "model_module": "@jupyter-widgets/base",
      "model_module_version": "2.0.0",
      "model_name": "LayoutModel",
      "state": {
       "_model_module": "@jupyter-widgets/base",
       "_model_module_version": "2.0.0",
       "_model_name": "LayoutModel",
       "_view_count": null,
       "_view_module": "@jupyter-widgets/base",
       "_view_module_version": "2.0.0",
       "_view_name": "LayoutView",
       "align_content": null,
       "align_items": null,
       "align_self": null,
       "border_bottom": null,
       "border_left": null,
       "border_right": null,
       "border_top": null,
       "bottom": null,
       "display": null,
       "flex": null,
       "flex_flow": null,
       "grid_area": null,
       "grid_auto_columns": null,
       "grid_auto_flow": null,
       "grid_auto_rows": null,
       "grid_column": null,
       "grid_gap": null,
       "grid_row": null,
       "grid_template_areas": null,
       "grid_template_columns": null,
       "grid_template_rows": null,
       "height": null,
       "justify_content": null,
       "justify_items": null,
       "left": null,
       "margin": null,
       "max_height": null,
       "max_width": null,
       "min_height": null,
       "min_width": null,
       "object_fit": null,
       "object_position": null,
       "order": null,
       "overflow": null,
       "padding": null,
       "right": null,
       "top": null,
       "visibility": null,
       "width": null
      }
     },
     "90a8e863b06449ce8faf121a98a4736b": {
      "model_module": "@jupyter-widgets/output",
      "model_module_version": "1.0.0",
      "model_name": "OutputModel",
      "state": {
       "_dom_classes": [],
       "_model_module": "@jupyter-widgets/output",
       "_model_module_version": "1.0.0",
       "_model_name": "OutputModel",
       "_view_count": null,
       "_view_module": "@jupyter-widgets/output",
       "_view_module_version": "1.0.0",
       "_view_name": "OutputView",
       "layout": "IPY_MODEL_8e8cca291ba24636b525e7943e37d343",
       "msg_id": "",
       "outputs": [
        {
         "data": {
          "text/html": "<pre style=\"white-space:pre;overflow-x:auto;line-height:normal;font-family:Menlo,'DejaVu Sans Mono',consolas,'Courier New',monospace\">Downloading data for 2 tasks. <span style=\"color: #729c1f; text-decoration-color: #729c1f\">━━━━━━━━━━━━━━━━━━━━━━━━━━━━━━━━━━━━━</span> <span style=\"color: #800080; text-decoration-color: #800080\">100%</span> <span style=\"color: #008080; text-decoration-color: #008080\">0:00:00</span>\n</pre>\n",
          "text/plain": "Downloading data for 2 tasks. \u001b[38;2;114;156;31m━━━━━━━━━━━━━━━━━━━━━━━━━━━━━━━━━━━━━\u001b[0m \u001b[35m100%\u001b[0m \u001b[36m0:00:00\u001b[0m\n"
         },
         "metadata": {},
         "output_type": "display_data"
        }
       ],
       "tabbable": null,
       "tooltip": null
      }
     },
     "91442a36d4484afd9b33bb95896c4fdc": {
      "model_module": "@jupyter-widgets/base",
      "model_module_version": "2.0.0",
      "model_name": "LayoutModel",
      "state": {
       "_model_module": "@jupyter-widgets/base",
       "_model_module_version": "2.0.0",
       "_model_name": "LayoutModel",
       "_view_count": null,
       "_view_module": "@jupyter-widgets/base",
       "_view_module_version": "2.0.0",
       "_view_name": "LayoutView",
       "align_content": null,
       "align_items": null,
       "align_self": null,
       "border_bottom": null,
       "border_left": null,
       "border_right": null,
       "border_top": null,
       "bottom": null,
       "display": null,
       "flex": null,
       "flex_flow": null,
       "grid_area": null,
       "grid_auto_columns": null,
       "grid_auto_flow": null,
       "grid_auto_rows": null,
       "grid_column": null,
       "grid_gap": null,
       "grid_row": null,
       "grid_template_areas": null,
       "grid_template_columns": null,
       "grid_template_rows": null,
       "height": null,
       "justify_content": null,
       "justify_items": null,
       "left": null,
       "margin": null,
       "max_height": null,
       "max_width": null,
       "min_height": null,
       "min_width": null,
       "object_fit": null,
       "object_position": null,
       "order": null,
       "overflow": null,
       "padding": null,
       "right": null,
       "top": null,
       "visibility": null,
       "width": null
      }
     },
     "92bd3f5e23a84b6dabeec1846f7b0071": {
      "model_module": "@jupyter-widgets/output",
      "model_module_version": "1.0.0",
      "model_name": "OutputModel",
      "state": {
       "_dom_classes": [],
       "_model_module": "@jupyter-widgets/output",
       "_model_module_version": "1.0.0",
       "_model_name": "OutputModel",
       "_view_count": null,
       "_view_module": "@jupyter-widgets/output",
       "_view_module_version": "1.0.0",
       "_view_name": "OutputView",
       "layout": "IPY_MODEL_91442a36d4484afd9b33bb95896c4fdc",
       "msg_id": "",
       "outputs": [
        {
         "data": {
          "text/html": "<pre style=\"white-space:pre;overflow-x:auto;line-height:normal;font-family:Menlo,'DejaVu Sans Mono',consolas,'Courier New',monospace\">Uploading data for 2 tasks. <span style=\"color: #729c1f; text-decoration-color: #729c1f\">━━━━━━━━━━━━━━━━━━━━━━━━━━━━━━━━━━━━━━━</span> <span style=\"color: #800080; text-decoration-color: #800080\">100%</span> <span style=\"color: #008080; text-decoration-color: #008080\">0:00:00</span>\n</pre>\n",
          "text/plain": "Uploading data for 2 tasks. \u001b[38;2;114;156;31m━━━━━━━━━━━━━━━━━━━━━━━━━━━━━━━━━━━━━━━\u001b[0m \u001b[35m100%\u001b[0m \u001b[36m0:00:00\u001b[0m\n"
         },
         "metadata": {},
         "output_type": "display_data"
        }
       ],
       "tabbable": null,
       "tooltip": null
      }
     },
     "9837b245f7174a9dbcceec0b13f5a8e0": {
      "model_module": "@jupyter-widgets/base",
      "model_module_version": "2.0.0",
      "model_name": "LayoutModel",
      "state": {
       "_model_module": "@jupyter-widgets/base",
       "_model_module_version": "2.0.0",
       "_model_name": "LayoutModel",
       "_view_count": null,
       "_view_module": "@jupyter-widgets/base",
       "_view_module_version": "2.0.0",
       "_view_name": "LayoutView",
       "align_content": null,
       "align_items": null,
       "align_self": null,
       "border_bottom": null,
       "border_left": null,
       "border_right": null,
       "border_top": null,
       "bottom": null,
       "display": null,
       "flex": null,
       "flex_flow": null,
       "grid_area": null,
       "grid_auto_columns": null,
       "grid_auto_flow": null,
       "grid_auto_rows": null,
       "grid_column": null,
       "grid_gap": null,
       "grid_row": null,
       "grid_template_areas": null,
       "grid_template_columns": null,
       "grid_template_rows": null,
       "height": null,
       "justify_content": null,
       "justify_items": null,
       "left": null,
       "margin": null,
       "max_height": null,
       "max_width": null,
       "min_height": null,
       "min_width": null,
       "object_fit": null,
       "object_position": null,
       "order": null,
       "overflow": null,
       "padding": null,
       "right": null,
       "top": null,
       "visibility": null,
       "width": null
      }
     },
     "a0431029702f4f17965c860d31aa33f9": {
      "model_module": "@jupyter-widgets/base",
      "model_module_version": "2.0.0",
      "model_name": "LayoutModel",
      "state": {
       "_model_module": "@jupyter-widgets/base",
       "_model_module_version": "2.0.0",
       "_model_name": "LayoutModel",
       "_view_count": null,
       "_view_module": "@jupyter-widgets/base",
       "_view_module_version": "2.0.0",
       "_view_name": "LayoutView",
       "align_content": null,
       "align_items": null,
       "align_self": null,
       "border_bottom": null,
       "border_left": null,
       "border_right": null,
       "border_top": null,
       "bottom": null,
       "display": null,
       "flex": null,
       "flex_flow": null,
       "grid_area": null,
       "grid_auto_columns": null,
       "grid_auto_flow": null,
       "grid_auto_rows": null,
       "grid_column": null,
       "grid_gap": null,
       "grid_row": null,
       "grid_template_areas": null,
       "grid_template_columns": null,
       "grid_template_rows": null,
       "height": null,
       "justify_content": null,
       "justify_items": null,
       "left": null,
       "margin": null,
       "max_height": null,
       "max_width": null,
       "min_height": null,
       "min_width": null,
       "object_fit": null,
       "object_position": null,
       "order": null,
       "overflow": null,
       "padding": null,
       "right": null,
       "top": null,
       "visibility": null,
       "width": null
      }
     },
     "a2ef4fa89ba24b4a86f8ff5f5e723666": {
      "model_module": "@jupyter-widgets/output",
      "model_module_version": "1.0.0",
      "model_name": "OutputModel",
      "state": {
       "_dom_classes": [],
       "_model_module": "@jupyter-widgets/output",
       "_model_module_version": "1.0.0",
       "_model_name": "OutputModel",
       "_view_count": null,
       "_view_module": "@jupyter-widgets/output",
       "_view_module_version": "1.0.0",
       "_view_name": "OutputView",
       "layout": "IPY_MODEL_9837b245f7174a9dbcceec0b13f5a8e0",
       "msg_id": "",
       "outputs": [
        {
         "data": {
          "text/html": "<pre style=\"white-space:pre;overflow-x:auto;line-height:normal;font-family:Menlo,'DejaVu Sans Mono',consolas,'Courier New',monospace\">smatrix_lumped_port_1: status = success <span style=\"color: #729c1f; text-decoration-color: #729c1f\">━━━━━━━━━━━━━━━━━━━━━━━━━━━</span> <span style=\"color: #800080; text-decoration-color: #800080\">100%</span> <span style=\"color: #008080; text-decoration-color: #008080\">0:00:00</span>\nsmatrix_lumped_port_2: status = success <span style=\"color: #729c1f; text-decoration-color: #729c1f\">━━━━━━━━━━━━━━━━━━━━━━━━━━━</span> <span style=\"color: #800080; text-decoration-color: #800080\">100%</span> <span style=\"color: #008080; text-decoration-color: #008080\">0:00:00</span>\n</pre>\n",
          "text/plain": "smatrix_lumped_port_1: status = success \u001b[38;2;114;156;31m━━━━━━━━━━━━━━━━━━━━━━━━━━━\u001b[0m \u001b[35m100%\u001b[0m \u001b[36m0:00:00\u001b[0m\nsmatrix_lumped_port_2: status = success \u001b[38;2;114;156;31m━━━━━━━━━━━━━━━━━━━━━━━━━━━\u001b[0m \u001b[35m100%\u001b[0m \u001b[36m0:00:00\u001b[0m\n"
         },
         "metadata": {},
         "output_type": "display_data"
        }
       ],
       "tabbable": null,
       "tooltip": null
      }
     },
     "ec3bdf23bb364272b8f4f7b2c5a2b9a0": {
      "model_module": "@jupyter-widgets/base",
      "model_module_version": "2.0.0",
      "model_name": "LayoutModel",
      "state": {
       "_model_module": "@jupyter-widgets/base",
       "_model_module_version": "2.0.0",
       "_model_name": "LayoutModel",
       "_view_count": null,
       "_view_module": "@jupyter-widgets/base",
       "_view_module_version": "2.0.0",
       "_view_name": "LayoutView",
       "align_content": null,
       "align_items": null,
       "align_self": null,
       "border_bottom": null,
       "border_left": null,
       "border_right": null,
       "border_top": null,
       "bottom": null,
       "display": null,
       "flex": null,
       "flex_flow": null,
       "grid_area": null,
       "grid_auto_columns": null,
       "grid_auto_flow": null,
       "grid_auto_rows": null,
       "grid_column": null,
       "grid_gap": null,
       "grid_row": null,
       "grid_template_areas": null,
       "grid_template_columns": null,
       "grid_template_rows": null,
       "height": null,
       "justify_content": null,
       "justify_items": null,
       "left": null,
       "margin": null,
       "max_height": null,
       "max_width": null,
       "min_height": null,
       "min_width": null,
       "object_fit": null,
       "object_position": null,
       "order": null,
       "overflow": null,
       "padding": null,
       "right": null,
       "top": null,
       "visibility": null,
       "width": null
      }
     }
    },
    "version_major": 2,
    "version_minor": 0
   }
  }
 },
 "nbformat": 4,
 "nbformat_minor": 5
}
