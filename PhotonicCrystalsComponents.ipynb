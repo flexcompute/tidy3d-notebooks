{
 "cells": [
  {
   "cell_type": "markdown",
   "id": "0e1ca3b7",
   "metadata": {},
   "source": [
    "# Defining common photonic crystal structures"
   ]
  },
  {
   "cell_type": "markdown",
   "id": "526ad9d8",
   "metadata": {},
   "source": [
    "This notebook contains grab-and-go functions of popular periodic structures commonly used in photonic crystals and other photonic devices: square/hexagonal arrays of cylinders, slabs with square/hexagonal arrays of holes, rectangular grating, L and H cavities, wood pile, and FCC/BCC crystals. Users can directly copy these pre-defined functions to your own script and use them directly in building your simulations. More importantly, users can learn the workflow from these examples and build your own periodic [Structures](../api/_autosummary/tidy3d.Structure.html) using the same principles.\n",
    "\n",
    "For photonic crystal related case studies, please see the [band structure calculation](https://www.flexcompute.com/tidy3d/examples/notebooks/Bandstructure/), the [optimized L3 cavity](https://www.flexcompute.com/tidy3d/examples/notebooks/OptimizedL3/), and the [waveguide polarization filter](https://www.flexcompute.com/tidy3d/examples/notebooks/PhotonicCrystalWaveguidePolarizationFilter/).\n",
    "\n",
    "For how to define common photonic integrated circuit components, please see [here](https://www.flexcompute.com/tidy3d/examples/notebooks/PICComponents/)."
   ]
  },
  {
   "cell_type": "code",
   "execution_count": 1,
   "id": "9a8400aa",
   "metadata": {
    "execution": {
     "iopub.execute_input": "2024-02-17T07:57:56.587481Z",
     "iopub.status.busy": "2024-02-17T07:57:56.586869Z",
     "iopub.status.idle": "2024-02-17T07:57:57.718406Z",
     "shell.execute_reply": "2024-02-17T07:57:57.717810Z"
    }
   },
   "outputs": [],
   "source": [
    "import tidy3d as td\n",
    "import numpy as np"
   ]
  },
  {
   "cell_type": "markdown",
   "id": "8c8bdcab",
   "metadata": {},
   "source": [
    "## Square Array of Cylinders "
   ]
  },
  {
   "cell_type": "markdown",
   "id": "45a13e49",
   "metadata": {},
   "source": [
    "The function `square_cylinder_array` returns a square array of cylinders with tunable radius, spacing in both x and y directions, height, and array dimensions."
   ]
  },
  {
   "cell_type": "code",
   "execution_count": 2,
   "id": "fd2c9c2b",
   "metadata": {
    "execution": {
     "iopub.execute_input": "2024-02-17T07:57:57.720824Z",
     "iopub.status.busy": "2024-02-17T07:57:57.720564Z",
     "iopub.status.idle": "2024-02-17T07:57:57.737669Z",
     "shell.execute_reply": "2024-02-17T07:57:57.737107Z"
    }
   },
   "outputs": [],
   "source": [
    "def square_cylinder_array(\n",
    "    x0,\n",
    "    y0,\n",
    "    z0,\n",
    "    R,\n",
    "    hole_spacing_x,\n",
    "    hole_spacing_y,\n",
    "    n_x,\n",
    "    n_y,\n",
    "    height,\n",
    "    medium,\n",
    "    reference_plane=\"bottom\",\n",
    "    sidewall_angle=0,\n",
    "    axis=2,\n",
    "):\n",
    "    # parameters\n",
    "    # ------------------------------------------------------------\n",
    "    # x0: x coordinate of center of the array (um)\n",
    "    # y0: y coordinate of center of the array (um)\n",
    "    # z0: z coordinate of center of the array (um)\n",
    "    # R: radius of the circular holes (um)\n",
    "    # hole_spacing_x: distance between centers of holes in x direction (um)\n",
    "    # hole_spacing_y: distance between centers of holes in y direction (um)\n",
    "    # n_x: number of holes in x direction\n",
    "    # n_y: number of holes in y direction\n",
    "    # height: height of array\n",
    "    # medium: medium of the cylinders\n",
    "    # reference_plane\n",
    "    # sidewall_angle: angle slant of cylinders\n",
    "    # axis\n",
    "\n",
    "    cylinder_group = []\n",
    "\n",
    "    start_x, start_y = x0 + hole_spacing_x * (1 - n_x) / 2, y0 + hole_spacing_y * (1 - n_y) / 2\n",
    "    for i in range(0, n_x):\n",
    "        for j in range(0, n_y):\n",
    "            c = td.Cylinder(\n",
    "                axis=axis,\n",
    "                sidewall_angle=sidewall_angle,\n",
    "                reference_plane=reference_plane,\n",
    "                radius=R,\n",
    "                center=(start_x + i * hole_spacing_x, start_y + j * hole_spacing_y, z0),\n",
    "                length=height,\n",
    "            )\n",
    "            cylinder_group.append(c)\n",
    "\n",
    "    structure = td.Structure(geometry=td.GeometryGroup(geometries=cylinder_group), medium=medium)\n",
    "\n",
    "    return structure"
   ]
  },
  {
   "cell_type": "markdown",
   "id": "b96ff7bd",
   "metadata": {},
   "source": [
    "To demonstrate an example, we use the `square_cylinder_array` function and put it into an empty simulation for visualization purposes. By using the `plot_3d` method of the [Simulation](../api/_autosummary/tidy3d.Simulation.html) object, we can visualize the defined structures in 3D."
   ]
  },
  {
   "cell_type": "code",
   "execution_count": 3,
   "id": "cf07717c",
   "metadata": {
    "execution": {
     "iopub.execute_input": "2024-02-17T07:57:57.739626Z",
     "iopub.status.busy": "2024-02-17T07:57:57.739449Z",
     "iopub.status.idle": "2024-02-17T07:57:57.765281Z",
     "shell.execute_reply": "2024-02-17T07:57:57.764817Z"
    }
   },
   "outputs": [
    {
     "data": {
      "text/html": [
       "\n",
       "    <iframe id=\"simulation-viewer170815667775970843\" src=https://feature-simulation-viewer.d3a9gfg7glllfq.amplifyapp.com/simulation-viewer?uuid=170815667775970843 width=\"800\" height=\"800\" allowfullscreen=\"true\"></iframe>\n",
       "    <script>\n",
       "        \n",
       "    window.postMessageToViewer170815667775970843 = event => {\n",
       "        if(event.data.type === 'viewer'&&event.data.uuid==='170815667775970843'){\n",
       "            document.getElementById('simulation-viewer170815667775970843').contentWindow.postMessage({ type: 'jupyter', uuid:'170815667775970843', value:{\"type\": \"Simulation\", \"center\": [0.0, 0.0, 0.0], \"size\": [10.0, 10.0, 3.0], \"medium\": {\"name\": null, \"frequency_range\": null, \"allow_gain\": false, \"nonlinear_spec\": null, \"modulation_spec\": null, \"heat_spec\": null, \"type\": \"Medium\", \"permittivity\": 1.0, \"conductivity\": 0.0}, \"structures\": [{\"geometry\": {\"type\": \"GeometryGroup\", \"geometries\": [{\"type\": \"Cylinder\", \"axis\": 2, \"sidewall_angle\": 0.0, \"reference_plane\": \"bottom\", \"radius\": 0.3, \"center\": [-2.4499999999999997, -3.6, 0.0], \"length\": 0.4}, {\"type\": \"Cylinder\", \"axis\": 2, \"sidewall_angle\": 0.0, \"reference_plane\": \"bottom\", \"radius\": 0.3, \"center\": [-2.4499999999999997, -2.8, 0.0], \"length\": 0.4}, {\"type\": \"Cylinder\", \"axis\": 2, \"sidewall_angle\": 0.0, \"reference_plane\": \"bottom\", \"radius\": 0.3, \"center\": [-2.4499999999999997, -2.0, 0.0], \"length\": 0.4}, {\"type\": \"Cylinder\", \"axis\": 2, \"sidewall_angle\": 0.0, \"reference_plane\": \"bottom\", \"radius\": 0.3, \"center\": [-2.4499999999999997, -1.1999999999999997, 0.0], \"length\": 0.4}, {\"type\": \"Cylinder\", \"axis\": 2, \"sidewall_angle\": 0.0, \"reference_plane\": \"bottom\", \"radius\": 0.3, \"center\": [-2.4499999999999997, -0.3999999999999999, 0.0], \"length\": 0.4}, {\"type\": \"Cylinder\", \"axis\": 2, \"sidewall_angle\": 0.0, \"reference_plane\": \"bottom\", \"radius\": 0.3, \"center\": [-2.4499999999999997, 0.3999999999999999, 0.0], \"length\": 0.4}, {\"type\": \"Cylinder\", \"axis\": 2, \"sidewall_angle\": 0.0, \"reference_plane\": \"bottom\", \"radius\": 0.3, \"center\": [-2.4499999999999997, 1.2000000000000006, 0.0], \"length\": 0.4}, {\"type\": \"Cylinder\", \"axis\": 2, \"sidewall_angle\": 0.0, \"reference_plane\": \"bottom\", \"radius\": 0.3, \"center\": [-2.4499999999999997, 2.0000000000000004, 0.0], \"length\": 0.4}, {\"type\": \"Cylinder\", \"axis\": 2, \"sidewall_angle\": 0.0, \"reference_plane\": \"bottom\", \"radius\": 0.3, \"center\": [-2.4499999999999997, 2.8000000000000003, 0.0], \"length\": 0.4}, {\"type\": \"Cylinder\", \"axis\": 2, \"sidewall_angle\": 0.0, \"reference_plane\": \"bottom\", \"radius\": 0.3, \"center\": [-2.4499999999999997, 3.6, 0.0], \"length\": 0.4}, {\"type\": \"Cylinder\", \"axis\": 2, \"sidewall_angle\": 0.0, \"reference_plane\": \"bottom\", \"radius\": 0.3, \"center\": [-1.7499999999999998, -3.6, 0.0], \"length\": 0.4}, {\"type\": \"Cylinder\", \"axis\": 2, \"sidewall_angle\": 0.0, \"reference_plane\": \"bottom\", \"radius\": 0.3, \"center\": [-1.7499999999999998, -2.8, 0.0], \"length\": 0.4}, {\"type\": \"Cylinder\", \"axis\": 2, \"sidewall_angle\": 0.0, \"reference_plane\": \"bottom\", \"radius\": 0.3, \"center\": [-1.7499999999999998, -2.0, 0.0], \"length\": 0.4}, {\"type\": \"Cylinder\", \"axis\": 2, \"sidewall_angle\": 0.0, \"reference_plane\": \"bottom\", \"radius\": 0.3, \"center\": [-1.7499999999999998, -1.1999999999999997, 0.0], \"length\": 0.4}, {\"type\": \"Cylinder\", \"axis\": 2, \"sidewall_angle\": 0.0, \"reference_plane\": \"bottom\", \"radius\": 0.3, \"center\": [-1.7499999999999998, -0.3999999999999999, 0.0], \"length\": 0.4}, {\"type\": \"Cylinder\", \"axis\": 2, \"sidewall_angle\": 0.0, \"reference_plane\": \"bottom\", \"radius\": 0.3, \"center\": [-1.7499999999999998, 0.3999999999999999, 0.0], \"length\": 0.4}, {\"type\": \"Cylinder\", \"axis\": 2, \"sidewall_angle\": 0.0, \"reference_plane\": \"bottom\", \"radius\": 0.3, \"center\": [-1.7499999999999998, 1.2000000000000006, 0.0], \"length\": 0.4}, {\"type\": \"Cylinder\", \"axis\": 2, \"sidewall_angle\": 0.0, \"reference_plane\": \"bottom\", \"radius\": 0.3, \"center\": [-1.7499999999999998, 2.0000000000000004, 0.0], \"length\": 0.4}, {\"type\": \"Cylinder\", \"axis\": 2, \"sidewall_angle\": 0.0, \"reference_plane\": \"bottom\", \"radius\": 0.3, \"center\": [-1.7499999999999998, 2.8000000000000003, 0.0], \"length\": 0.4}, {\"type\": \"Cylinder\", \"axis\": 2, \"sidewall_angle\": 0.0, \"reference_plane\": \"bottom\", \"radius\": 0.3, \"center\": [-1.7499999999999998, 3.6, 0.0], \"length\": 0.4}, {\"type\": \"Cylinder\", \"axis\": 2, \"sidewall_angle\": 0.0, \"reference_plane\": \"bottom\", \"radius\": 0.3, \"center\": [-1.0499999999999998, -3.6, 0.0], \"length\": 0.4}, {\"type\": \"Cylinder\", \"axis\": 2, \"sidewall_angle\": 0.0, \"reference_plane\": \"bottom\", \"radius\": 0.3, \"center\": [-1.0499999999999998, -2.8, 0.0], \"length\": 0.4}, {\"type\": \"Cylinder\", \"axis\": 2, \"sidewall_angle\": 0.0, \"reference_plane\": \"bottom\", \"radius\": 0.3, \"center\": [-1.0499999999999998, -2.0, 0.0], \"length\": 0.4}, {\"type\": \"Cylinder\", \"axis\": 2, \"sidewall_angle\": 0.0, \"reference_plane\": \"bottom\", \"radius\": 0.3, \"center\": [-1.0499999999999998, -1.1999999999999997, 0.0], \"length\": 0.4}, {\"type\": \"Cylinder\", \"axis\": 2, \"sidewall_angle\": 0.0, \"reference_plane\": \"bottom\", \"radius\": 0.3, \"center\": [-1.0499999999999998, -0.3999999999999999, 0.0], \"length\": 0.4}, {\"type\": \"Cylinder\", \"axis\": 2, \"sidewall_angle\": 0.0, \"reference_plane\": \"bottom\", \"radius\": 0.3, \"center\": [-1.0499999999999998, 0.3999999999999999, 0.0], \"length\": 0.4}, {\"type\": \"Cylinder\", \"axis\": 2, \"sidewall_angle\": 0.0, \"reference_plane\": \"bottom\", \"radius\": 0.3, \"center\": [-1.0499999999999998, 1.2000000000000006, 0.0], \"length\": 0.4}, {\"type\": \"Cylinder\", \"axis\": 2, \"sidewall_angle\": 0.0, \"reference_plane\": \"bottom\", \"radius\": 0.3, \"center\": [-1.0499999999999998, 2.0000000000000004, 0.0], \"length\": 0.4}, {\"type\": \"Cylinder\", \"axis\": 2, \"sidewall_angle\": 0.0, \"reference_plane\": \"bottom\", \"radius\": 0.3, \"center\": [-1.0499999999999998, 2.8000000000000003, 0.0], \"length\": 0.4}, {\"type\": \"Cylinder\", \"axis\": 2, \"sidewall_angle\": 0.0, \"reference_plane\": \"bottom\", \"radius\": 0.3, \"center\": [-1.0499999999999998, 3.6, 0.0], \"length\": 0.4}, {\"type\": \"Cylinder\", \"axis\": 2, \"sidewall_angle\": 0.0, \"reference_plane\": \"bottom\", \"radius\": 0.3, \"center\": [-0.3500000000000001, -3.6, 0.0], \"length\": 0.4}, {\"type\": \"Cylinder\", \"axis\": 2, \"sidewall_angle\": 0.0, \"reference_plane\": \"bottom\", \"radius\": 0.3, \"center\": [-0.3500000000000001, -2.8, 0.0], \"length\": 0.4}, {\"type\": \"Cylinder\", \"axis\": 2, \"sidewall_angle\": 0.0, \"reference_plane\": \"bottom\", \"radius\": 0.3, \"center\": [-0.3500000000000001, -2.0, 0.0], \"length\": 0.4}, {\"type\": \"Cylinder\", \"axis\": 2, \"sidewall_angle\": 0.0, \"reference_plane\": \"bottom\", \"radius\": 0.3, \"center\": [-0.3500000000000001, -1.1999999999999997, 0.0], \"length\": 0.4}, {\"type\": \"Cylinder\", \"axis\": 2, \"sidewall_angle\": 0.0, \"reference_plane\": \"bottom\", \"radius\": 0.3, \"center\": [-0.3500000000000001, -0.3999999999999999, 0.0], \"length\": 0.4}, {\"type\": \"Cylinder\", \"axis\": 2, \"sidewall_angle\": 0.0, \"reference_plane\": \"bottom\", \"radius\": 0.3, \"center\": [-0.3500000000000001, 0.3999999999999999, 0.0], \"length\": 0.4}, {\"type\": \"Cylinder\", \"axis\": 2, \"sidewall_angle\": 0.0, \"reference_plane\": \"bottom\", \"radius\": 0.3, \"center\": [-0.3500000000000001, 1.2000000000000006, 0.0], \"length\": 0.4}, {\"type\": \"Cylinder\", \"axis\": 2, \"sidewall_angle\": 0.0, \"reference_plane\": \"bottom\", \"radius\": 0.3, \"center\": [-0.3500000000000001, 2.0000000000000004, 0.0], \"length\": 0.4}, {\"type\": \"Cylinder\", \"axis\": 2, \"sidewall_angle\": 0.0, \"reference_plane\": \"bottom\", \"radius\": 0.3, \"center\": [-0.3500000000000001, 2.8000000000000003, 0.0], \"length\": 0.4}, {\"type\": \"Cylinder\", \"axis\": 2, \"sidewall_angle\": 0.0, \"reference_plane\": \"bottom\", \"radius\": 0.3, \"center\": [-0.3500000000000001, 3.6, 0.0], \"length\": 0.4}, {\"type\": \"Cylinder\", \"axis\": 2, \"sidewall_angle\": 0.0, \"reference_plane\": \"bottom\", \"radius\": 0.3, \"center\": [0.3500000000000001, -3.6, 0.0], \"length\": 0.4}, {\"type\": \"Cylinder\", \"axis\": 2, \"sidewall_angle\": 0.0, \"reference_plane\": \"bottom\", \"radius\": 0.3, \"center\": [0.3500000000000001, -2.8, 0.0], \"length\": 0.4}, {\"type\": \"Cylinder\", \"axis\": 2, \"sidewall_angle\": 0.0, \"reference_plane\": \"bottom\", \"radius\": 0.3, \"center\": [0.3500000000000001, -2.0, 0.0], \"length\": 0.4}, {\"type\": \"Cylinder\", \"axis\": 2, \"sidewall_angle\": 0.0, \"reference_plane\": \"bottom\", \"radius\": 0.3, \"center\": [0.3500000000000001, -1.1999999999999997, 0.0], \"length\": 0.4}, {\"type\": \"Cylinder\", \"axis\": 2, \"sidewall_angle\": 0.0, \"reference_plane\": \"bottom\", \"radius\": 0.3, \"center\": [0.3500000000000001, -0.3999999999999999, 0.0], \"length\": 0.4}, {\"type\": \"Cylinder\", \"axis\": 2, \"sidewall_angle\": 0.0, \"reference_plane\": \"bottom\", \"radius\": 0.3, \"center\": [0.3500000000000001, 0.3999999999999999, 0.0], \"length\": 0.4}, {\"type\": \"Cylinder\", \"axis\": 2, \"sidewall_angle\": 0.0, \"reference_plane\": \"bottom\", \"radius\": 0.3, \"center\": [0.3500000000000001, 1.2000000000000006, 0.0], \"length\": 0.4}, {\"type\": \"Cylinder\", \"axis\": 2, \"sidewall_angle\": 0.0, \"reference_plane\": \"bottom\", \"radius\": 0.3, \"center\": [0.3500000000000001, 2.0000000000000004, 0.0], \"length\": 0.4}, {\"type\": \"Cylinder\", \"axis\": 2, \"sidewall_angle\": 0.0, \"reference_plane\": \"bottom\", \"radius\": 0.3, \"center\": [0.3500000000000001, 2.8000000000000003, 0.0], \"length\": 0.4}, {\"type\": \"Cylinder\", \"axis\": 2, \"sidewall_angle\": 0.0, \"reference_plane\": \"bottom\", \"radius\": 0.3, \"center\": [0.3500000000000001, 3.6, 0.0], \"length\": 0.4}, {\"type\": \"Cylinder\", \"axis\": 2, \"sidewall_angle\": 0.0, \"reference_plane\": \"bottom\", \"radius\": 0.3, \"center\": [1.0500000000000003, -3.6, 0.0], \"length\": 0.4}, {\"type\": \"Cylinder\", \"axis\": 2, \"sidewall_angle\": 0.0, \"reference_plane\": \"bottom\", \"radius\": 0.3, \"center\": [1.0500000000000003, -2.8, 0.0], \"length\": 0.4}, {\"type\": \"Cylinder\", \"axis\": 2, \"sidewall_angle\": 0.0, \"reference_plane\": \"bottom\", \"radius\": 0.3, \"center\": [1.0500000000000003, -2.0, 0.0], \"length\": 0.4}, {\"type\": \"Cylinder\", \"axis\": 2, \"sidewall_angle\": 0.0, \"reference_plane\": \"bottom\", \"radius\": 0.3, \"center\": [1.0500000000000003, -1.1999999999999997, 0.0], \"length\": 0.4}, {\"type\": \"Cylinder\", \"axis\": 2, \"sidewall_angle\": 0.0, \"reference_plane\": \"bottom\", \"radius\": 0.3, \"center\": [1.0500000000000003, -0.3999999999999999, 0.0], \"length\": 0.4}, {\"type\": \"Cylinder\", \"axis\": 2, \"sidewall_angle\": 0.0, \"reference_plane\": \"bottom\", \"radius\": 0.3, \"center\": [1.0500000000000003, 0.3999999999999999, 0.0], \"length\": 0.4}, {\"type\": \"Cylinder\", \"axis\": 2, \"sidewall_angle\": 0.0, \"reference_plane\": \"bottom\", \"radius\": 0.3, \"center\": [1.0500000000000003, 1.2000000000000006, 0.0], \"length\": 0.4}, {\"type\": \"Cylinder\", \"axis\": 2, \"sidewall_angle\": 0.0, \"reference_plane\": \"bottom\", \"radius\": 0.3, \"center\": [1.0500000000000003, 2.0000000000000004, 0.0], \"length\": 0.4}, {\"type\": \"Cylinder\", \"axis\": 2, \"sidewall_angle\": 0.0, \"reference_plane\": \"bottom\", \"radius\": 0.3, \"center\": [1.0500000000000003, 2.8000000000000003, 0.0], \"length\": 0.4}, {\"type\": \"Cylinder\", \"axis\": 2, \"sidewall_angle\": 0.0, \"reference_plane\": \"bottom\", \"radius\": 0.3, \"center\": [1.0500000000000003, 3.6, 0.0], \"length\": 0.4}, {\"type\": \"Cylinder\", \"axis\": 2, \"sidewall_angle\": 0.0, \"reference_plane\": \"bottom\", \"radius\": 0.3, \"center\": [1.7499999999999996, -3.6, 0.0], \"length\": 0.4}, {\"type\": \"Cylinder\", \"axis\": 2, \"sidewall_angle\": 0.0, \"reference_plane\": \"bottom\", \"radius\": 0.3, \"center\": [1.7499999999999996, -2.8, 0.0], \"length\": 0.4}, {\"type\": \"Cylinder\", \"axis\": 2, \"sidewall_angle\": 0.0, \"reference_plane\": \"bottom\", \"radius\": 0.3, \"center\": [1.7499999999999996, -2.0, 0.0], \"length\": 0.4}, {\"type\": \"Cylinder\", \"axis\": 2, \"sidewall_angle\": 0.0, \"reference_plane\": \"bottom\", \"radius\": 0.3, \"center\": [1.7499999999999996, -1.1999999999999997, 0.0], \"length\": 0.4}, {\"type\": \"Cylinder\", \"axis\": 2, \"sidewall_angle\": 0.0, \"reference_plane\": \"bottom\", \"radius\": 0.3, \"center\": [1.7499999999999996, -0.3999999999999999, 0.0], \"length\": 0.4}, {\"type\": \"Cylinder\", \"axis\": 2, \"sidewall_angle\": 0.0, \"reference_plane\": \"bottom\", \"radius\": 0.3, \"center\": [1.7499999999999996, 0.3999999999999999, 0.0], \"length\": 0.4}, {\"type\": \"Cylinder\", \"axis\": 2, \"sidewall_angle\": 0.0, \"reference_plane\": \"bottom\", \"radius\": 0.3, \"center\": [1.7499999999999996, 1.2000000000000006, 0.0], \"length\": 0.4}, {\"type\": \"Cylinder\", \"axis\": 2, \"sidewall_angle\": 0.0, \"reference_plane\": \"bottom\", \"radius\": 0.3, \"center\": [1.7499999999999996, 2.0000000000000004, 0.0], \"length\": 0.4}, {\"type\": \"Cylinder\", \"axis\": 2, \"sidewall_angle\": 0.0, \"reference_plane\": \"bottom\", \"radius\": 0.3, \"center\": [1.7499999999999996, 2.8000000000000003, 0.0], \"length\": 0.4}, {\"type\": \"Cylinder\", \"axis\": 2, \"sidewall_angle\": 0.0, \"reference_plane\": \"bottom\", \"radius\": 0.3, \"center\": [1.7499999999999996, 3.6, 0.0], \"length\": 0.4}, {\"type\": \"Cylinder\", \"axis\": 2, \"sidewall_angle\": 0.0, \"reference_plane\": \"bottom\", \"radius\": 0.3, \"center\": [2.4499999999999997, -3.6, 0.0], \"length\": 0.4}, {\"type\": \"Cylinder\", \"axis\": 2, \"sidewall_angle\": 0.0, \"reference_plane\": \"bottom\", \"radius\": 0.3, \"center\": [2.4499999999999997, -2.8, 0.0], \"length\": 0.4}, {\"type\": \"Cylinder\", \"axis\": 2, \"sidewall_angle\": 0.0, \"reference_plane\": \"bottom\", \"radius\": 0.3, \"center\": [2.4499999999999997, -2.0, 0.0], \"length\": 0.4}, {\"type\": \"Cylinder\", \"axis\": 2, \"sidewall_angle\": 0.0, \"reference_plane\": \"bottom\", \"radius\": 0.3, \"center\": [2.4499999999999997, -1.1999999999999997, 0.0], \"length\": 0.4}, {\"type\": \"Cylinder\", \"axis\": 2, \"sidewall_angle\": 0.0, \"reference_plane\": \"bottom\", \"radius\": 0.3, \"center\": [2.4499999999999997, -0.3999999999999999, 0.0], \"length\": 0.4}, {\"type\": \"Cylinder\", \"axis\": 2, \"sidewall_angle\": 0.0, \"reference_plane\": \"bottom\", \"radius\": 0.3, \"center\": [2.4499999999999997, 0.3999999999999999, 0.0], \"length\": 0.4}, {\"type\": \"Cylinder\", \"axis\": 2, \"sidewall_angle\": 0.0, \"reference_plane\": \"bottom\", \"radius\": 0.3, \"center\": [2.4499999999999997, 1.2000000000000006, 0.0], \"length\": 0.4}, {\"type\": \"Cylinder\", \"axis\": 2, \"sidewall_angle\": 0.0, \"reference_plane\": \"bottom\", \"radius\": 0.3, \"center\": [2.4499999999999997, 2.0000000000000004, 0.0], \"length\": 0.4}, {\"type\": \"Cylinder\", \"axis\": 2, \"sidewall_angle\": 0.0, \"reference_plane\": \"bottom\", \"radius\": 0.3, \"center\": [2.4499999999999997, 2.8000000000000003, 0.0], \"length\": 0.4}, {\"type\": \"Cylinder\", \"axis\": 2, \"sidewall_angle\": 0.0, \"reference_plane\": \"bottom\", \"radius\": 0.3, \"center\": [2.4499999999999997, 3.6, 0.0], \"length\": 0.4}]}, \"name\": null, \"type\": \"Structure\", \"medium\": {\"name\": null, \"frequency_range\": null, \"allow_gain\": false, \"nonlinear_spec\": null, \"modulation_spec\": null, \"heat_spec\": null, \"type\": \"Medium\", \"permittivity\": 12.1104, \"conductivity\": 0.0}}], \"symmetry\": [0, 0, 0], \"sources\": [], \"boundary_spec\": {\"x\": {\"plus\": {\"name\": null, \"type\": \"PML\", \"num_layers\": 12, \"parameters\": {\"sigma_order\": 3, \"sigma_min\": 0.0, \"sigma_max\": 1.5, \"type\": \"PMLParams\", \"kappa_order\": 3, \"kappa_min\": 1.0, \"kappa_max\": 3.0, \"alpha_order\": 1, \"alpha_min\": 0.0, \"alpha_max\": 0.0}}, \"minus\": {\"name\": null, \"type\": \"PML\", \"num_layers\": 12, \"parameters\": {\"sigma_order\": 3, \"sigma_min\": 0.0, \"sigma_max\": 1.5, \"type\": \"PMLParams\", \"kappa_order\": 3, \"kappa_min\": 1.0, \"kappa_max\": 3.0, \"alpha_order\": 1, \"alpha_min\": 0.0, \"alpha_max\": 0.0}}, \"type\": \"Boundary\"}, \"y\": {\"plus\": {\"name\": null, \"type\": \"PML\", \"num_layers\": 12, \"parameters\": {\"sigma_order\": 3, \"sigma_min\": 0.0, \"sigma_max\": 1.5, \"type\": \"PMLParams\", \"kappa_order\": 3, \"kappa_min\": 1.0, \"kappa_max\": 3.0, \"alpha_order\": 1, \"alpha_min\": 0.0, \"alpha_max\": 0.0}}, \"minus\": {\"name\": null, \"type\": \"PML\", \"num_layers\": 12, \"parameters\": {\"sigma_order\": 3, \"sigma_min\": 0.0, \"sigma_max\": 1.5, \"type\": \"PMLParams\", \"kappa_order\": 3, \"kappa_min\": 1.0, \"kappa_max\": 3.0, \"alpha_order\": 1, \"alpha_min\": 0.0, \"alpha_max\": 0.0}}, \"type\": \"Boundary\"}, \"z\": {\"plus\": {\"name\": null, \"type\": \"PML\", \"num_layers\": 12, \"parameters\": {\"sigma_order\": 3, \"sigma_min\": 0.0, \"sigma_max\": 1.5, \"type\": \"PMLParams\", \"kappa_order\": 3, \"kappa_min\": 1.0, \"kappa_max\": 3.0, \"alpha_order\": 1, \"alpha_min\": 0.0, \"alpha_max\": 0.0}}, \"minus\": {\"name\": null, \"type\": \"PML\", \"num_layers\": 12, \"parameters\": {\"sigma_order\": 3, \"sigma_min\": 0.0, \"sigma_max\": 1.5, \"type\": \"PMLParams\", \"kappa_order\": 3, \"kappa_min\": 1.0, \"kappa_max\": 3.0, \"alpha_order\": 1, \"alpha_min\": 0.0, \"alpha_max\": 0.0}}, \"type\": \"Boundary\"}, \"type\": \"BoundarySpec\"}, \"monitors\": [], \"grid_spec\": {\"grid_x\": {\"type\": \"AutoGrid\", \"min_steps_per_wvl\": 10.0, \"max_scale\": 1.4, \"dl_min\": 0.0, \"mesher\": {\"type\": \"GradedMesher\"}}, \"grid_y\": {\"type\": \"AutoGrid\", \"min_steps_per_wvl\": 10.0, \"max_scale\": 1.4, \"dl_min\": 0.0, \"mesher\": {\"type\": \"GradedMesher\"}}, \"grid_z\": {\"type\": \"AutoGrid\", \"min_steps_per_wvl\": 10.0, \"max_scale\": 1.4, \"dl_min\": 0.0, \"mesher\": {\"type\": \"GradedMesher\"}}, \"wavelength\": 1.55, \"override_structures\": [], \"type\": \"GridSpec\"}, \"version\": \"2.6.0\", \"run_time\": 1.0, \"shutoff\": 1e-05, \"subpixel\": true, \"normalize_index\": 0, \"courant\": 0.99}}, '*')\n",
       "        }\n",
       "    };\n",
       "    window.addEventListener(\n",
       "        'message',\n",
       "        window.postMessageToViewer170815667775970843,\n",
       "        false\n",
       "    );\n",
       "    \n",
       "    </script>\n",
       "    "
      ],
      "text/plain": [
       "<IPython.core.display.HTML object>"
      ]
     },
     "metadata": {},
     "output_type": "display_data"
    }
   ],
   "source": [
    "s = square_cylinder_array(0, 0, 0, 0.3, 0.7, 0.8, 8, 10, 0.4, td.Medium(permittivity=3.48**2))\n",
    "\n",
    "sim = td.Simulation(\n",
    "    size=[10, 10, 3],\n",
    "    grid_spec=td.GridSpec.auto(wavelength=1.55),\n",
    "    structures=[s],\n",
    "    run_time=1,\n",
    ")\n",
    "\n",
    "sim.plot_3d()"
   ]
  },
  {
   "cell_type": "markdown",
   "id": "e1c30257",
   "metadata": {},
   "source": [
    "## Hexagonal Array of Cylinders"
   ]
  },
  {
   "cell_type": "markdown",
   "id": "6cec31e5",
   "metadata": {},
   "source": [
    "The function `hex_cylinder_array` returns a hexagonal array of cylinders with tunable radius, spacing in both x and y directions, height, and array dimensions."
   ]
  },
  {
   "cell_type": "code",
   "execution_count": 4,
   "id": "573c090b",
   "metadata": {
    "execution": {
     "iopub.execute_input": "2024-02-17T07:57:57.767333Z",
     "iopub.status.busy": "2024-02-17T07:57:57.767155Z",
     "iopub.status.idle": "2024-02-17T07:57:57.782967Z",
     "shell.execute_reply": "2024-02-17T07:57:57.782406Z"
    }
   },
   "outputs": [],
   "source": [
    "def hex_cylinder_array(\n",
    "    x0,\n",
    "    y0,\n",
    "    z0,\n",
    "    R,\n",
    "    hole_spacing_x,\n",
    "    hole_spacing_y,\n",
    "    n_x,\n",
    "    n_y,\n",
    "    height,\n",
    "    medium,\n",
    "    reference_plane=\"bottom\",\n",
    "    sidewall_angle=0,\n",
    "    axis=2,\n",
    "):\n",
    "    # parameters\n",
    "    # ------------------------------------------------------------\n",
    "    # x0: x coordinate of center of the array (um)\n",
    "    # y0: y coordinate of center of the array (um)\n",
    "    # z0: z coordinate of center of the array (um)\n",
    "    # R: radius of the circular holes (um)\n",
    "    # hole_spacing_x: distance between centers of holes in x direction (um)\n",
    "    # hole_spacing_y: distance between centers of holes in y direction (um)\n",
    "    # n_x: number of holes in x direction\n",
    "    # n_y: number of holes in y direction\n",
    "    # height: height of array\n",
    "    # medium: medium of the holes\n",
    "    # reference_plane\n",
    "    # sidewall_angle: angle slant of cylinders. Add compensation for the box geometry if != 0?\n",
    "    # axis\n",
    "\n",
    "    x_slab_length, y_slab_length = hole_spacing_x * (n_x + 0.5), hole_spacing_y * n_y\n",
    "    start_x, start_y = (\n",
    "        x0 - x_slab_length / 2 + hole_spacing_x / 2,\n",
    "        y0 - y_slab_length / 2 + hole_spacing_y / 2,\n",
    "    )\n",
    "\n",
    "    cylinders = []\n",
    "\n",
    "    for i in range(0, n_x):\n",
    "        for j in range(0, n_y):\n",
    "            c = td.Cylinder(\n",
    "                axis=axis,\n",
    "                sidewall_angle=sidewall_angle,\n",
    "                reference_plane=reference_plane,\n",
    "                radius=R,\n",
    "                center=(\n",
    "                    start_x + (i + (j % 2) * 0.5) * hole_spacing_x,\n",
    "                    start_y + j * hole_spacing_y,\n",
    "                    z0,\n",
    "                ),\n",
    "                length=height,\n",
    "            )\n",
    "            cylinders.append(c)\n",
    "\n",
    "    structure = td.Structure(geometry=td.GeometryGroup(geometries=cylinders), medium=medium)\n",
    "\n",
    "    return structure"
   ]
  },
  {
   "cell_type": "code",
   "execution_count": 5,
   "id": "cebe65ef",
   "metadata": {
    "execution": {
     "iopub.execute_input": "2024-02-17T07:57:57.784849Z",
     "iopub.status.busy": "2024-02-17T07:57:57.784679Z",
     "iopub.status.idle": "2024-02-17T07:57:57.811216Z",
     "shell.execute_reply": "2024-02-17T07:57:57.810733Z"
    }
   },
   "outputs": [
    {
     "data": {
      "text/html": [
       "\n",
       "    <iframe id=\"simulation-viewer170815667780420925\" src=https://feature-simulation-viewer.d3a9gfg7glllfq.amplifyapp.com/simulation-viewer?uuid=170815667780420925 width=\"800\" height=\"800\" allowfullscreen=\"true\"></iframe>\n",
       "    <script>\n",
       "        \n",
       "    window.postMessageToViewer170815667780420925 = event => {\n",
       "        if(event.data.type === 'viewer'&&event.data.uuid==='170815667780420925'){\n",
       "            document.getElementById('simulation-viewer170815667780420925').contentWindow.postMessage({ type: 'jupyter', uuid:'170815667780420925', value:{\"type\": \"Simulation\", \"center\": [0.0, 0.0, 0.0], \"size\": [10.0, 10.0, 3.0], \"medium\": {\"name\": null, \"frequency_range\": null, \"allow_gain\": false, \"nonlinear_spec\": null, \"modulation_spec\": null, \"heat_spec\": null, \"type\": \"Medium\", \"permittivity\": 1.0, \"conductivity\": 0.0}, \"structures\": [{\"geometry\": {\"type\": \"GeometryGroup\", \"geometries\": [{\"type\": \"Cylinder\", \"axis\": 2, \"sidewall_angle\": 0.0, \"reference_plane\": \"bottom\", \"radius\": 0.3, \"center\": [-2.6249999999999996, -3.6, 0.0], \"length\": 0.4}, {\"type\": \"Cylinder\", \"axis\": 2, \"sidewall_angle\": 0.0, \"reference_plane\": \"bottom\", \"radius\": 0.3, \"center\": [-2.2749999999999995, -2.8, 0.0], \"length\": 0.4}, {\"type\": \"Cylinder\", \"axis\": 2, \"sidewall_angle\": 0.0, \"reference_plane\": \"bottom\", \"radius\": 0.3, \"center\": [-2.6249999999999996, -2.0, 0.0], \"length\": 0.4}, {\"type\": \"Cylinder\", \"axis\": 2, \"sidewall_angle\": 0.0, \"reference_plane\": \"bottom\", \"radius\": 0.3, \"center\": [-2.2749999999999995, -1.1999999999999997, 0.0], \"length\": 0.4}, {\"type\": \"Cylinder\", \"axis\": 2, \"sidewall_angle\": 0.0, \"reference_plane\": \"bottom\", \"radius\": 0.3, \"center\": [-2.6249999999999996, -0.3999999999999999, 0.0], \"length\": 0.4}, {\"type\": \"Cylinder\", \"axis\": 2, \"sidewall_angle\": 0.0, \"reference_plane\": \"bottom\", \"radius\": 0.3, \"center\": [-2.2749999999999995, 0.3999999999999999, 0.0], \"length\": 0.4}, {\"type\": \"Cylinder\", \"axis\": 2, \"sidewall_angle\": 0.0, \"reference_plane\": \"bottom\", \"radius\": 0.3, \"center\": [-2.6249999999999996, 1.2000000000000006, 0.0], \"length\": 0.4}, {\"type\": \"Cylinder\", \"axis\": 2, \"sidewall_angle\": 0.0, \"reference_plane\": \"bottom\", \"radius\": 0.3, \"center\": [-2.2749999999999995, 2.0000000000000004, 0.0], \"length\": 0.4}, {\"type\": \"Cylinder\", \"axis\": 2, \"sidewall_angle\": 0.0, \"reference_plane\": \"bottom\", \"radius\": 0.3, \"center\": [-2.6249999999999996, 2.8000000000000003, 0.0], \"length\": 0.4}, {\"type\": \"Cylinder\", \"axis\": 2, \"sidewall_angle\": 0.0, \"reference_plane\": \"bottom\", \"radius\": 0.3, \"center\": [-2.2749999999999995, 3.6, 0.0], \"length\": 0.4}, {\"type\": \"Cylinder\", \"axis\": 2, \"sidewall_angle\": 0.0, \"reference_plane\": \"bottom\", \"radius\": 0.3, \"center\": [-1.9249999999999996, -3.6, 0.0], \"length\": 0.4}, {\"type\": \"Cylinder\", \"axis\": 2, \"sidewall_angle\": 0.0, \"reference_plane\": \"bottom\", \"radius\": 0.3, \"center\": [-1.5749999999999997, -2.8, 0.0], \"length\": 0.4}, {\"type\": \"Cylinder\", \"axis\": 2, \"sidewall_angle\": 0.0, \"reference_plane\": \"bottom\", \"radius\": 0.3, \"center\": [-1.9249999999999996, -2.0, 0.0], \"length\": 0.4}, {\"type\": \"Cylinder\", \"axis\": 2, \"sidewall_angle\": 0.0, \"reference_plane\": \"bottom\", \"radius\": 0.3, \"center\": [-1.5749999999999997, -1.1999999999999997, 0.0], \"length\": 0.4}, {\"type\": \"Cylinder\", \"axis\": 2, \"sidewall_angle\": 0.0, \"reference_plane\": \"bottom\", \"radius\": 0.3, \"center\": [-1.9249999999999996, -0.3999999999999999, 0.0], \"length\": 0.4}, {\"type\": \"Cylinder\", \"axis\": 2, \"sidewall_angle\": 0.0, \"reference_plane\": \"bottom\", \"radius\": 0.3, \"center\": [-1.5749999999999997, 0.3999999999999999, 0.0], \"length\": 0.4}, {\"type\": \"Cylinder\", \"axis\": 2, \"sidewall_angle\": 0.0, \"reference_plane\": \"bottom\", \"radius\": 0.3, \"center\": [-1.9249999999999996, 1.2000000000000006, 0.0], \"length\": 0.4}, {\"type\": \"Cylinder\", \"axis\": 2, \"sidewall_angle\": 0.0, \"reference_plane\": \"bottom\", \"radius\": 0.3, \"center\": [-1.5749999999999997, 2.0000000000000004, 0.0], \"length\": 0.4}, {\"type\": \"Cylinder\", \"axis\": 2, \"sidewall_angle\": 0.0, \"reference_plane\": \"bottom\", \"radius\": 0.3, \"center\": [-1.9249999999999996, 2.8000000000000003, 0.0], \"length\": 0.4}, {\"type\": \"Cylinder\", \"axis\": 2, \"sidewall_angle\": 0.0, \"reference_plane\": \"bottom\", \"radius\": 0.3, \"center\": [-1.5749999999999997, 3.6, 0.0], \"length\": 0.4}, {\"type\": \"Cylinder\", \"axis\": 2, \"sidewall_angle\": 0.0, \"reference_plane\": \"bottom\", \"radius\": 0.3, \"center\": [-1.2249999999999996, -3.6, 0.0], \"length\": 0.4}, {\"type\": \"Cylinder\", \"axis\": 2, \"sidewall_angle\": 0.0, \"reference_plane\": \"bottom\", \"radius\": 0.3, \"center\": [-0.8749999999999996, -2.8, 0.0], \"length\": 0.4}, {\"type\": \"Cylinder\", \"axis\": 2, \"sidewall_angle\": 0.0, \"reference_plane\": \"bottom\", \"radius\": 0.3, \"center\": [-1.2249999999999996, -2.0, 0.0], \"length\": 0.4}, {\"type\": \"Cylinder\", \"axis\": 2, \"sidewall_angle\": 0.0, \"reference_plane\": \"bottom\", \"radius\": 0.3, \"center\": [-0.8749999999999996, -1.1999999999999997, 0.0], \"length\": 0.4}, {\"type\": \"Cylinder\", \"axis\": 2, \"sidewall_angle\": 0.0, \"reference_plane\": \"bottom\", \"radius\": 0.3, \"center\": [-1.2249999999999996, -0.3999999999999999, 0.0], \"length\": 0.4}, {\"type\": \"Cylinder\", \"axis\": 2, \"sidewall_angle\": 0.0, \"reference_plane\": \"bottom\", \"radius\": 0.3, \"center\": [-0.8749999999999996, 0.3999999999999999, 0.0], \"length\": 0.4}, {\"type\": \"Cylinder\", \"axis\": 2, \"sidewall_angle\": 0.0, \"reference_plane\": \"bottom\", \"radius\": 0.3, \"center\": [-1.2249999999999996, 1.2000000000000006, 0.0], \"length\": 0.4}, {\"type\": \"Cylinder\", \"axis\": 2, \"sidewall_angle\": 0.0, \"reference_plane\": \"bottom\", \"radius\": 0.3, \"center\": [-0.8749999999999996, 2.0000000000000004, 0.0], \"length\": 0.4}, {\"type\": \"Cylinder\", \"axis\": 2, \"sidewall_angle\": 0.0, \"reference_plane\": \"bottom\", \"radius\": 0.3, \"center\": [-1.2249999999999996, 2.8000000000000003, 0.0], \"length\": 0.4}, {\"type\": \"Cylinder\", \"axis\": 2, \"sidewall_angle\": 0.0, \"reference_plane\": \"bottom\", \"radius\": 0.3, \"center\": [-0.8749999999999996, 3.6, 0.0], \"length\": 0.4}, {\"type\": \"Cylinder\", \"axis\": 2, \"sidewall_angle\": 0.0, \"reference_plane\": \"bottom\", \"radius\": 0.3, \"center\": [-0.5249999999999999, -3.6, 0.0], \"length\": 0.4}, {\"type\": \"Cylinder\", \"axis\": 2, \"sidewall_angle\": 0.0, \"reference_plane\": \"bottom\", \"radius\": 0.3, \"center\": [-0.17499999999999982, -2.8, 0.0], \"length\": 0.4}, {\"type\": \"Cylinder\", \"axis\": 2, \"sidewall_angle\": 0.0, \"reference_plane\": \"bottom\", \"radius\": 0.3, \"center\": [-0.5249999999999999, -2.0, 0.0], \"length\": 0.4}, {\"type\": \"Cylinder\", \"axis\": 2, \"sidewall_angle\": 0.0, \"reference_plane\": \"bottom\", \"radius\": 0.3, \"center\": [-0.17499999999999982, -1.1999999999999997, 0.0], \"length\": 0.4}, {\"type\": \"Cylinder\", \"axis\": 2, \"sidewall_angle\": 0.0, \"reference_plane\": \"bottom\", \"radius\": 0.3, \"center\": [-0.5249999999999999, -0.3999999999999999, 0.0], \"length\": 0.4}, {\"type\": \"Cylinder\", \"axis\": 2, \"sidewall_angle\": 0.0, \"reference_plane\": \"bottom\", \"radius\": 0.3, \"center\": [-0.17499999999999982, 0.3999999999999999, 0.0], \"length\": 0.4}, {\"type\": \"Cylinder\", \"axis\": 2, \"sidewall_angle\": 0.0, \"reference_plane\": \"bottom\", \"radius\": 0.3, \"center\": [-0.5249999999999999, 1.2000000000000006, 0.0], \"length\": 0.4}, {\"type\": \"Cylinder\", \"axis\": 2, \"sidewall_angle\": 0.0, \"reference_plane\": \"bottom\", \"radius\": 0.3, \"center\": [-0.17499999999999982, 2.0000000000000004, 0.0], \"length\": 0.4}, {\"type\": \"Cylinder\", \"axis\": 2, \"sidewall_angle\": 0.0, \"reference_plane\": \"bottom\", \"radius\": 0.3, \"center\": [-0.5249999999999999, 2.8000000000000003, 0.0], \"length\": 0.4}, {\"type\": \"Cylinder\", \"axis\": 2, \"sidewall_angle\": 0.0, \"reference_plane\": \"bottom\", \"radius\": 0.3, \"center\": [-0.17499999999999982, 3.6, 0.0], \"length\": 0.4}, {\"type\": \"Cylinder\", \"axis\": 2, \"sidewall_angle\": 0.0, \"reference_plane\": \"bottom\", \"radius\": 0.3, \"center\": [0.17500000000000027, -3.6, 0.0], \"length\": 0.4}, {\"type\": \"Cylinder\", \"axis\": 2, \"sidewall_angle\": 0.0, \"reference_plane\": \"bottom\", \"radius\": 0.3, \"center\": [0.5250000000000004, -2.8, 0.0], \"length\": 0.4}, {\"type\": \"Cylinder\", \"axis\": 2, \"sidewall_angle\": 0.0, \"reference_plane\": \"bottom\", \"radius\": 0.3, \"center\": [0.17500000000000027, -2.0, 0.0], \"length\": 0.4}, {\"type\": \"Cylinder\", \"axis\": 2, \"sidewall_angle\": 0.0, \"reference_plane\": \"bottom\", \"radius\": 0.3, \"center\": [0.5250000000000004, -1.1999999999999997, 0.0], \"length\": 0.4}, {\"type\": \"Cylinder\", \"axis\": 2, \"sidewall_angle\": 0.0, \"reference_plane\": \"bottom\", \"radius\": 0.3, \"center\": [0.17500000000000027, -0.3999999999999999, 0.0], \"length\": 0.4}, {\"type\": \"Cylinder\", \"axis\": 2, \"sidewall_angle\": 0.0, \"reference_plane\": \"bottom\", \"radius\": 0.3, \"center\": [0.5250000000000004, 0.3999999999999999, 0.0], \"length\": 0.4}, {\"type\": \"Cylinder\", \"axis\": 2, \"sidewall_angle\": 0.0, \"reference_plane\": \"bottom\", \"radius\": 0.3, \"center\": [0.17500000000000027, 1.2000000000000006, 0.0], \"length\": 0.4}, {\"type\": \"Cylinder\", \"axis\": 2, \"sidewall_angle\": 0.0, \"reference_plane\": \"bottom\", \"radius\": 0.3, \"center\": [0.5250000000000004, 2.0000000000000004, 0.0], \"length\": 0.4}, {\"type\": \"Cylinder\", \"axis\": 2, \"sidewall_angle\": 0.0, \"reference_plane\": \"bottom\", \"radius\": 0.3, \"center\": [0.17500000000000027, 2.8000000000000003, 0.0], \"length\": 0.4}, {\"type\": \"Cylinder\", \"axis\": 2, \"sidewall_angle\": 0.0, \"reference_plane\": \"bottom\", \"radius\": 0.3, \"center\": [0.5250000000000004, 3.6, 0.0], \"length\": 0.4}, {\"type\": \"Cylinder\", \"axis\": 2, \"sidewall_angle\": 0.0, \"reference_plane\": \"bottom\", \"radius\": 0.3, \"center\": [0.8750000000000004, -3.6, 0.0], \"length\": 0.4}, {\"type\": \"Cylinder\", \"axis\": 2, \"sidewall_angle\": 0.0, \"reference_plane\": \"bottom\", \"radius\": 0.3, \"center\": [1.225, -2.8, 0.0], \"length\": 0.4}, {\"type\": \"Cylinder\", \"axis\": 2, \"sidewall_angle\": 0.0, \"reference_plane\": \"bottom\", \"radius\": 0.3, \"center\": [0.8750000000000004, -2.0, 0.0], \"length\": 0.4}, {\"type\": \"Cylinder\", \"axis\": 2, \"sidewall_angle\": 0.0, \"reference_plane\": \"bottom\", \"radius\": 0.3, \"center\": [1.225, -1.1999999999999997, 0.0], \"length\": 0.4}, {\"type\": \"Cylinder\", \"axis\": 2, \"sidewall_angle\": 0.0, \"reference_plane\": \"bottom\", \"radius\": 0.3, \"center\": [0.8750000000000004, -0.3999999999999999, 0.0], \"length\": 0.4}, {\"type\": \"Cylinder\", \"axis\": 2, \"sidewall_angle\": 0.0, \"reference_plane\": \"bottom\", \"radius\": 0.3, \"center\": [1.225, 0.3999999999999999, 0.0], \"length\": 0.4}, {\"type\": \"Cylinder\", \"axis\": 2, \"sidewall_angle\": 0.0, \"reference_plane\": \"bottom\", \"radius\": 0.3, \"center\": [0.8750000000000004, 1.2000000000000006, 0.0], \"length\": 0.4}, {\"type\": \"Cylinder\", \"axis\": 2, \"sidewall_angle\": 0.0, \"reference_plane\": \"bottom\", \"radius\": 0.3, \"center\": [1.225, 2.0000000000000004, 0.0], \"length\": 0.4}, {\"type\": \"Cylinder\", \"axis\": 2, \"sidewall_angle\": 0.0, \"reference_plane\": \"bottom\", \"radius\": 0.3, \"center\": [0.8750000000000004, 2.8000000000000003, 0.0], \"length\": 0.4}, {\"type\": \"Cylinder\", \"axis\": 2, \"sidewall_angle\": 0.0, \"reference_plane\": \"bottom\", \"radius\": 0.3, \"center\": [1.225, 3.6, 0.0], \"length\": 0.4}, {\"type\": \"Cylinder\", \"axis\": 2, \"sidewall_angle\": 0.0, \"reference_plane\": \"bottom\", \"radius\": 0.3, \"center\": [1.5749999999999997, -3.6, 0.0], \"length\": 0.4}, {\"type\": \"Cylinder\", \"axis\": 2, \"sidewall_angle\": 0.0, \"reference_plane\": \"bottom\", \"radius\": 0.3, \"center\": [1.9250000000000003, -2.8, 0.0], \"length\": 0.4}, {\"type\": \"Cylinder\", \"axis\": 2, \"sidewall_angle\": 0.0, \"reference_plane\": \"bottom\", \"radius\": 0.3, \"center\": [1.5749999999999997, -2.0, 0.0], \"length\": 0.4}, {\"type\": \"Cylinder\", \"axis\": 2, \"sidewall_angle\": 0.0, \"reference_plane\": \"bottom\", \"radius\": 0.3, \"center\": [1.9250000000000003, -1.1999999999999997, 0.0], \"length\": 0.4}, {\"type\": \"Cylinder\", \"axis\": 2, \"sidewall_angle\": 0.0, \"reference_plane\": \"bottom\", \"radius\": 0.3, \"center\": [1.5749999999999997, -0.3999999999999999, 0.0], \"length\": 0.4}, {\"type\": \"Cylinder\", \"axis\": 2, \"sidewall_angle\": 0.0, \"reference_plane\": \"bottom\", \"radius\": 0.3, \"center\": [1.9250000000000003, 0.3999999999999999, 0.0], \"length\": 0.4}, {\"type\": \"Cylinder\", \"axis\": 2, \"sidewall_angle\": 0.0, \"reference_plane\": \"bottom\", \"radius\": 0.3, \"center\": [1.5749999999999997, 1.2000000000000006, 0.0], \"length\": 0.4}, {\"type\": \"Cylinder\", \"axis\": 2, \"sidewall_angle\": 0.0, \"reference_plane\": \"bottom\", \"radius\": 0.3, \"center\": [1.9250000000000003, 2.0000000000000004, 0.0], \"length\": 0.4}, {\"type\": \"Cylinder\", \"axis\": 2, \"sidewall_angle\": 0.0, \"reference_plane\": \"bottom\", \"radius\": 0.3, \"center\": [1.5749999999999997, 2.8000000000000003, 0.0], \"length\": 0.4}, {\"type\": \"Cylinder\", \"axis\": 2, \"sidewall_angle\": 0.0, \"reference_plane\": \"bottom\", \"radius\": 0.3, \"center\": [1.9250000000000003, 3.6, 0.0], \"length\": 0.4}, {\"type\": \"Cylinder\", \"axis\": 2, \"sidewall_angle\": 0.0, \"reference_plane\": \"bottom\", \"radius\": 0.3, \"center\": [2.275, -3.6, 0.0], \"length\": 0.4}, {\"type\": \"Cylinder\", \"axis\": 2, \"sidewall_angle\": 0.0, \"reference_plane\": \"bottom\", \"radius\": 0.3, \"center\": [2.6250000000000004, -2.8, 0.0], \"length\": 0.4}, {\"type\": \"Cylinder\", \"axis\": 2, \"sidewall_angle\": 0.0, \"reference_plane\": \"bottom\", \"radius\": 0.3, \"center\": [2.275, -2.0, 0.0], \"length\": 0.4}, {\"type\": \"Cylinder\", \"axis\": 2, \"sidewall_angle\": 0.0, \"reference_plane\": \"bottom\", \"radius\": 0.3, \"center\": [2.6250000000000004, -1.1999999999999997, 0.0], \"length\": 0.4}, {\"type\": \"Cylinder\", \"axis\": 2, \"sidewall_angle\": 0.0, \"reference_plane\": \"bottom\", \"radius\": 0.3, \"center\": [2.275, -0.3999999999999999, 0.0], \"length\": 0.4}, {\"type\": \"Cylinder\", \"axis\": 2, \"sidewall_angle\": 0.0, \"reference_plane\": \"bottom\", \"radius\": 0.3, \"center\": [2.6250000000000004, 0.3999999999999999, 0.0], \"length\": 0.4}, {\"type\": \"Cylinder\", \"axis\": 2, \"sidewall_angle\": 0.0, \"reference_plane\": \"bottom\", \"radius\": 0.3, \"center\": [2.275, 1.2000000000000006, 0.0], \"length\": 0.4}, {\"type\": \"Cylinder\", \"axis\": 2, \"sidewall_angle\": 0.0, \"reference_plane\": \"bottom\", \"radius\": 0.3, \"center\": [2.6250000000000004, 2.0000000000000004, 0.0], \"length\": 0.4}, {\"type\": \"Cylinder\", \"axis\": 2, \"sidewall_angle\": 0.0, \"reference_plane\": \"bottom\", \"radius\": 0.3, \"center\": [2.275, 2.8000000000000003, 0.0], \"length\": 0.4}, {\"type\": \"Cylinder\", \"axis\": 2, \"sidewall_angle\": 0.0, \"reference_plane\": \"bottom\", \"radius\": 0.3, \"center\": [2.6250000000000004, 3.6, 0.0], \"length\": 0.4}]}, \"name\": null, \"type\": \"Structure\", \"medium\": {\"name\": null, \"frequency_range\": null, \"allow_gain\": false, \"nonlinear_spec\": null, \"modulation_spec\": null, \"heat_spec\": null, \"type\": \"Medium\", \"permittivity\": 12.1104, \"conductivity\": 0.0}}], \"symmetry\": [0, 0, 0], \"sources\": [], \"boundary_spec\": {\"x\": {\"plus\": {\"name\": null, \"type\": \"PML\", \"num_layers\": 12, \"parameters\": {\"sigma_order\": 3, \"sigma_min\": 0.0, \"sigma_max\": 1.5, \"type\": \"PMLParams\", \"kappa_order\": 3, \"kappa_min\": 1.0, \"kappa_max\": 3.0, \"alpha_order\": 1, \"alpha_min\": 0.0, \"alpha_max\": 0.0}}, \"minus\": {\"name\": null, \"type\": \"PML\", \"num_layers\": 12, \"parameters\": {\"sigma_order\": 3, \"sigma_min\": 0.0, \"sigma_max\": 1.5, \"type\": \"PMLParams\", \"kappa_order\": 3, \"kappa_min\": 1.0, \"kappa_max\": 3.0, \"alpha_order\": 1, \"alpha_min\": 0.0, \"alpha_max\": 0.0}}, \"type\": \"Boundary\"}, \"y\": {\"plus\": {\"name\": null, \"type\": \"PML\", \"num_layers\": 12, \"parameters\": {\"sigma_order\": 3, \"sigma_min\": 0.0, \"sigma_max\": 1.5, \"type\": \"PMLParams\", \"kappa_order\": 3, \"kappa_min\": 1.0, \"kappa_max\": 3.0, \"alpha_order\": 1, \"alpha_min\": 0.0, \"alpha_max\": 0.0}}, \"minus\": {\"name\": null, \"type\": \"PML\", \"num_layers\": 12, \"parameters\": {\"sigma_order\": 3, \"sigma_min\": 0.0, \"sigma_max\": 1.5, \"type\": \"PMLParams\", \"kappa_order\": 3, \"kappa_min\": 1.0, \"kappa_max\": 3.0, \"alpha_order\": 1, \"alpha_min\": 0.0, \"alpha_max\": 0.0}}, \"type\": \"Boundary\"}, \"z\": {\"plus\": {\"name\": null, \"type\": \"PML\", \"num_layers\": 12, \"parameters\": {\"sigma_order\": 3, \"sigma_min\": 0.0, \"sigma_max\": 1.5, \"type\": \"PMLParams\", \"kappa_order\": 3, \"kappa_min\": 1.0, \"kappa_max\": 3.0, \"alpha_order\": 1, \"alpha_min\": 0.0, \"alpha_max\": 0.0}}, \"minus\": {\"name\": null, \"type\": \"PML\", \"num_layers\": 12, \"parameters\": {\"sigma_order\": 3, \"sigma_min\": 0.0, \"sigma_max\": 1.5, \"type\": \"PMLParams\", \"kappa_order\": 3, \"kappa_min\": 1.0, \"kappa_max\": 3.0, \"alpha_order\": 1, \"alpha_min\": 0.0, \"alpha_max\": 0.0}}, \"type\": \"Boundary\"}, \"type\": \"BoundarySpec\"}, \"monitors\": [], \"grid_spec\": {\"grid_x\": {\"type\": \"AutoGrid\", \"min_steps_per_wvl\": 10.0, \"max_scale\": 1.4, \"dl_min\": 0.0, \"mesher\": {\"type\": \"GradedMesher\"}}, \"grid_y\": {\"type\": \"AutoGrid\", \"min_steps_per_wvl\": 10.0, \"max_scale\": 1.4, \"dl_min\": 0.0, \"mesher\": {\"type\": \"GradedMesher\"}}, \"grid_z\": {\"type\": \"AutoGrid\", \"min_steps_per_wvl\": 10.0, \"max_scale\": 1.4, \"dl_min\": 0.0, \"mesher\": {\"type\": \"GradedMesher\"}}, \"wavelength\": 1.55, \"override_structures\": [], \"type\": \"GridSpec\"}, \"version\": \"2.6.0\", \"run_time\": 1.0, \"shutoff\": 1e-05, \"subpixel\": true, \"normalize_index\": 0, \"courant\": 0.99}}, '*')\n",
       "        }\n",
       "    };\n",
       "    window.addEventListener(\n",
       "        'message',\n",
       "        window.postMessageToViewer170815667780420925,\n",
       "        false\n",
       "    );\n",
       "    \n",
       "    </script>\n",
       "    "
      ],
      "text/plain": [
       "<IPython.core.display.HTML object>"
      ]
     },
     "metadata": {},
     "output_type": "display_data"
    }
   ],
   "source": [
    "s = hex_cylinder_array(0, 0, 0, 0.3, 0.7, 0.8, 8, 10, 0.4, td.Medium(permittivity=3.48**2))\n",
    "\n",
    "sim = td.Simulation(\n",
    "    size=[10, 10, 3],\n",
    "    grid_spec=td.GridSpec.auto(wavelength=1.55),\n",
    "    structures=[s],\n",
    "    run_time=1,\n",
    ")\n",
    "\n",
    "sim.plot_3d()"
   ]
  },
  {
   "cell_type": "markdown",
   "id": "fc51d319",
   "metadata": {},
   "source": [
    "##  Square Array of Holes"
   ]
  },
  {
   "cell_type": "markdown",
   "id": "403dc13c",
   "metadata": {},
   "source": [
    "The function `slab_square_array` returns a slab with a square array of holes of separately-defined medium. The slab has a tunable hole radius, spacing in both x and y directions, height, and array dimensions."
   ]
  },
  {
   "cell_type": "code",
   "execution_count": 6,
   "id": "36e5fef0",
   "metadata": {
    "execution": {
     "iopub.execute_input": "2024-02-17T07:57:57.813161Z",
     "iopub.status.busy": "2024-02-17T07:57:57.812973Z",
     "iopub.status.idle": "2024-02-17T07:57:57.830478Z",
     "shell.execute_reply": "2024-02-17T07:57:57.829931Z"
    }
   },
   "outputs": [],
   "source": [
    "def slab_square_array(\n",
    "    x0,\n",
    "    y0,\n",
    "    z0,\n",
    "    R,\n",
    "    hole_spacing_x,\n",
    "    hole_spacing_y,\n",
    "    n_x,\n",
    "    n_y,\n",
    "    height,\n",
    "    hole_medium,\n",
    "    slab_medium,\n",
    "    reference_plane=\"bottom\",\n",
    "    sidewall_angle=0,\n",
    "    axis=2,\n",
    "):\n",
    "    # parameters\n",
    "    # ------------------------------------------------------------\n",
    "    # x0: x coordinate of center of the array (um)\n",
    "    # y0: y coordinate of center of the array (um)\n",
    "    # z0: z coordinate of center of the array (um)\n",
    "    # R: radius of the circular holes (um)\n",
    "    # hole_spacing_x: distance between centers of holes in x direction (um)\n",
    "    # hole_spacing_y: distance between centers of holes in y direction (um)\n",
    "    # n_x: number of holes in x direction\n",
    "    # n_y: number of holes in y direction\n",
    "    # height: height of array\n",
    "    # hole_medium: medium of the holes\n",
    "    # slab_medium: medium of the slab\n",
    "    # reference_plane\n",
    "    # sidewall_angle: angle slant of cylinders. Add compensation for the box geometry if != 0?\n",
    "    # axis\n",
    "\n",
    "    start_x, start_y = x0 - hole_spacing_x * (n_x - 1) / 2, y0 - hole_spacing_y * (n_y - 1) / 2\n",
    "\n",
    "    box = td.Box(center=(x0, y0, z0), size=(hole_spacing_x * n_x, hole_spacing_y * n_y, height))\n",
    "    structures = [td.Structure(geometry=box, medium=slab_medium)]\n",
    "    cylinders = []\n",
    "\n",
    "    for i in range(0, n_x):\n",
    "        for j in range(0, n_y):\n",
    "            c = td.Cylinder(\n",
    "                axis=axis,\n",
    "                sidewall_angle=sidewall_angle,\n",
    "                reference_plane=reference_plane,\n",
    "                radius=R,\n",
    "                center=(start_x + i * hole_spacing_x, start_y + j * hole_spacing_y, z0),\n",
    "                length=height,\n",
    "            )\n",
    "            cylinders.append(c)\n",
    "\n",
    "    cylinders_structure = td.Structure(\n",
    "        geometry=td.GeometryGroup(geometries=cylinders), medium=hole_medium\n",
    "    )\n",
    "\n",
    "    structures.append(cylinders_structure)\n",
    "\n",
    "    return structures"
   ]
  },
  {
   "cell_type": "code",
   "execution_count": 7,
   "id": "3e09b10a",
   "metadata": {
    "execution": {
     "iopub.execute_input": "2024-02-17T07:57:57.832432Z",
     "iopub.status.busy": "2024-02-17T07:57:57.832265Z",
     "iopub.status.idle": "2024-02-17T07:57:57.857208Z",
     "shell.execute_reply": "2024-02-17T07:57:57.856718Z"
    }
   },
   "outputs": [
    {
     "data": {
      "text/html": [
       "\n",
       "    <iframe id=\"simulation-viewer170815667785398109\" src=https://feature-simulation-viewer.d3a9gfg7glllfq.amplifyapp.com/simulation-viewer?uuid=170815667785398109 width=\"800\" height=\"800\" allowfullscreen=\"true\"></iframe>\n",
       "    <script>\n",
       "        \n",
       "    window.postMessageToViewer170815667785398109 = event => {\n",
       "        if(event.data.type === 'viewer'&&event.data.uuid==='170815667785398109'){\n",
       "            document.getElementById('simulation-viewer170815667785398109').contentWindow.postMessage({ type: 'jupyter', uuid:'170815667785398109', value:{\"type\": \"Simulation\", \"center\": [0.0, 0.0, 0.0], \"size\": [10.0, 10.0, 10.0], \"medium\": {\"name\": null, \"frequency_range\": null, \"allow_gain\": false, \"nonlinear_spec\": null, \"modulation_spec\": null, \"heat_spec\": null, \"type\": \"Medium\", \"permittivity\": 1.0, \"conductivity\": 0.0}, \"structures\": [{\"geometry\": {\"type\": \"Box\", \"center\": [0.0, 0.0, 0.0], \"size\": [5.6, 8.0, 0.4]}, \"name\": null, \"type\": \"Structure\", \"medium\": {\"name\": null, \"frequency_range\": null, \"allow_gain\": false, \"nonlinear_spec\": null, \"modulation_spec\": null, \"heat_spec\": null, \"type\": \"Medium\", \"permittivity\": 1.0060089999999997, \"conductivity\": 0.0}}, {\"geometry\": {\"type\": \"GeometryGroup\", \"geometries\": [{\"type\": \"Cylinder\", \"axis\": 2, \"sidewall_angle\": 0.0, \"reference_plane\": \"bottom\", \"radius\": 0.3, \"center\": [-2.4499999999999997, -3.6, 0.0], \"length\": 0.4}, {\"type\": \"Cylinder\", \"axis\": 2, \"sidewall_angle\": 0.0, \"reference_plane\": \"bottom\", \"radius\": 0.3, \"center\": [-2.4499999999999997, -2.8, 0.0], \"length\": 0.4}, {\"type\": \"Cylinder\", \"axis\": 2, \"sidewall_angle\": 0.0, \"reference_plane\": \"bottom\", \"radius\": 0.3, \"center\": [-2.4499999999999997, -2.0, 0.0], \"length\": 0.4}, {\"type\": \"Cylinder\", \"axis\": 2, \"sidewall_angle\": 0.0, \"reference_plane\": \"bottom\", \"radius\": 0.3, \"center\": [-2.4499999999999997, -1.1999999999999997, 0.0], \"length\": 0.4}, {\"type\": \"Cylinder\", \"axis\": 2, \"sidewall_angle\": 0.0, \"reference_plane\": \"bottom\", \"radius\": 0.3, \"center\": [-2.4499999999999997, -0.3999999999999999, 0.0], \"length\": 0.4}, {\"type\": \"Cylinder\", \"axis\": 2, \"sidewall_angle\": 0.0, \"reference_plane\": \"bottom\", \"radius\": 0.3, \"center\": [-2.4499999999999997, 0.3999999999999999, 0.0], \"length\": 0.4}, {\"type\": \"Cylinder\", \"axis\": 2, \"sidewall_angle\": 0.0, \"reference_plane\": \"bottom\", \"radius\": 0.3, \"center\": [-2.4499999999999997, 1.2000000000000006, 0.0], \"length\": 0.4}, {\"type\": \"Cylinder\", \"axis\": 2, \"sidewall_angle\": 0.0, \"reference_plane\": \"bottom\", \"radius\": 0.3, \"center\": [-2.4499999999999997, 2.0000000000000004, 0.0], \"length\": 0.4}, {\"type\": \"Cylinder\", \"axis\": 2, \"sidewall_angle\": 0.0, \"reference_plane\": \"bottom\", \"radius\": 0.3, \"center\": [-2.4499999999999997, 2.8000000000000003, 0.0], \"length\": 0.4}, {\"type\": \"Cylinder\", \"axis\": 2, \"sidewall_angle\": 0.0, \"reference_plane\": \"bottom\", \"radius\": 0.3, \"center\": [-2.4499999999999997, 3.6, 0.0], \"length\": 0.4}, {\"type\": \"Cylinder\", \"axis\": 2, \"sidewall_angle\": 0.0, \"reference_plane\": \"bottom\", \"radius\": 0.3, \"center\": [-1.7499999999999998, -3.6, 0.0], \"length\": 0.4}, {\"type\": \"Cylinder\", \"axis\": 2, \"sidewall_angle\": 0.0, \"reference_plane\": \"bottom\", \"radius\": 0.3, \"center\": [-1.7499999999999998, -2.8, 0.0], \"length\": 0.4}, {\"type\": \"Cylinder\", \"axis\": 2, \"sidewall_angle\": 0.0, \"reference_plane\": \"bottom\", \"radius\": 0.3, \"center\": [-1.7499999999999998, -2.0, 0.0], \"length\": 0.4}, {\"type\": \"Cylinder\", \"axis\": 2, \"sidewall_angle\": 0.0, \"reference_plane\": \"bottom\", \"radius\": 0.3, \"center\": [-1.7499999999999998, -1.1999999999999997, 0.0], \"length\": 0.4}, {\"type\": \"Cylinder\", \"axis\": 2, \"sidewall_angle\": 0.0, \"reference_plane\": \"bottom\", \"radius\": 0.3, \"center\": [-1.7499999999999998, -0.3999999999999999, 0.0], \"length\": 0.4}, {\"type\": \"Cylinder\", \"axis\": 2, \"sidewall_angle\": 0.0, \"reference_plane\": \"bottom\", \"radius\": 0.3, \"center\": [-1.7499999999999998, 0.3999999999999999, 0.0], \"length\": 0.4}, {\"type\": \"Cylinder\", \"axis\": 2, \"sidewall_angle\": 0.0, \"reference_plane\": \"bottom\", \"radius\": 0.3, \"center\": [-1.7499999999999998, 1.2000000000000006, 0.0], \"length\": 0.4}, {\"type\": \"Cylinder\", \"axis\": 2, \"sidewall_angle\": 0.0, \"reference_plane\": \"bottom\", \"radius\": 0.3, \"center\": [-1.7499999999999998, 2.0000000000000004, 0.0], \"length\": 0.4}, {\"type\": \"Cylinder\", \"axis\": 2, \"sidewall_angle\": 0.0, \"reference_plane\": \"bottom\", \"radius\": 0.3, \"center\": [-1.7499999999999998, 2.8000000000000003, 0.0], \"length\": 0.4}, {\"type\": \"Cylinder\", \"axis\": 2, \"sidewall_angle\": 0.0, \"reference_plane\": \"bottom\", \"radius\": 0.3, \"center\": [-1.7499999999999998, 3.6, 0.0], \"length\": 0.4}, {\"type\": \"Cylinder\", \"axis\": 2, \"sidewall_angle\": 0.0, \"reference_plane\": \"bottom\", \"radius\": 0.3, \"center\": [-1.0499999999999998, -3.6, 0.0], \"length\": 0.4}, {\"type\": \"Cylinder\", \"axis\": 2, \"sidewall_angle\": 0.0, \"reference_plane\": \"bottom\", \"radius\": 0.3, \"center\": [-1.0499999999999998, -2.8, 0.0], \"length\": 0.4}, {\"type\": \"Cylinder\", \"axis\": 2, \"sidewall_angle\": 0.0, \"reference_plane\": \"bottom\", \"radius\": 0.3, \"center\": [-1.0499999999999998, -2.0, 0.0], \"length\": 0.4}, {\"type\": \"Cylinder\", \"axis\": 2, \"sidewall_angle\": 0.0, \"reference_plane\": \"bottom\", \"radius\": 0.3, \"center\": [-1.0499999999999998, -1.1999999999999997, 0.0], \"length\": 0.4}, {\"type\": \"Cylinder\", \"axis\": 2, \"sidewall_angle\": 0.0, \"reference_plane\": \"bottom\", \"radius\": 0.3, \"center\": [-1.0499999999999998, -0.3999999999999999, 0.0], \"length\": 0.4}, {\"type\": \"Cylinder\", \"axis\": 2, \"sidewall_angle\": 0.0, \"reference_plane\": \"bottom\", \"radius\": 0.3, \"center\": [-1.0499999999999998, 0.3999999999999999, 0.0], \"length\": 0.4}, {\"type\": \"Cylinder\", \"axis\": 2, \"sidewall_angle\": 0.0, \"reference_plane\": \"bottom\", \"radius\": 0.3, \"center\": [-1.0499999999999998, 1.2000000000000006, 0.0], \"length\": 0.4}, {\"type\": \"Cylinder\", \"axis\": 2, \"sidewall_angle\": 0.0, \"reference_plane\": \"bottom\", \"radius\": 0.3, \"center\": [-1.0499999999999998, 2.0000000000000004, 0.0], \"length\": 0.4}, {\"type\": \"Cylinder\", \"axis\": 2, \"sidewall_angle\": 0.0, \"reference_plane\": \"bottom\", \"radius\": 0.3, \"center\": [-1.0499999999999998, 2.8000000000000003, 0.0], \"length\": 0.4}, {\"type\": \"Cylinder\", \"axis\": 2, \"sidewall_angle\": 0.0, \"reference_plane\": \"bottom\", \"radius\": 0.3, \"center\": [-1.0499999999999998, 3.6, 0.0], \"length\": 0.4}, {\"type\": \"Cylinder\", \"axis\": 2, \"sidewall_angle\": 0.0, \"reference_plane\": \"bottom\", \"radius\": 0.3, \"center\": [-0.3500000000000001, -3.6, 0.0], \"length\": 0.4}, {\"type\": \"Cylinder\", \"axis\": 2, \"sidewall_angle\": 0.0, \"reference_plane\": \"bottom\", \"radius\": 0.3, \"center\": [-0.3500000000000001, -2.8, 0.0], \"length\": 0.4}, {\"type\": \"Cylinder\", \"axis\": 2, \"sidewall_angle\": 0.0, \"reference_plane\": \"bottom\", \"radius\": 0.3, \"center\": [-0.3500000000000001, -2.0, 0.0], \"length\": 0.4}, {\"type\": \"Cylinder\", \"axis\": 2, \"sidewall_angle\": 0.0, \"reference_plane\": \"bottom\", \"radius\": 0.3, \"center\": [-0.3500000000000001, -1.1999999999999997, 0.0], \"length\": 0.4}, {\"type\": \"Cylinder\", \"axis\": 2, \"sidewall_angle\": 0.0, \"reference_plane\": \"bottom\", \"radius\": 0.3, \"center\": [-0.3500000000000001, -0.3999999999999999, 0.0], \"length\": 0.4}, {\"type\": \"Cylinder\", \"axis\": 2, \"sidewall_angle\": 0.0, \"reference_plane\": \"bottom\", \"radius\": 0.3, \"center\": [-0.3500000000000001, 0.3999999999999999, 0.0], \"length\": 0.4}, {\"type\": \"Cylinder\", \"axis\": 2, \"sidewall_angle\": 0.0, \"reference_plane\": \"bottom\", \"radius\": 0.3, \"center\": [-0.3500000000000001, 1.2000000000000006, 0.0], \"length\": 0.4}, {\"type\": \"Cylinder\", \"axis\": 2, \"sidewall_angle\": 0.0, \"reference_plane\": \"bottom\", \"radius\": 0.3, \"center\": [-0.3500000000000001, 2.0000000000000004, 0.0], \"length\": 0.4}, {\"type\": \"Cylinder\", \"axis\": 2, \"sidewall_angle\": 0.0, \"reference_plane\": \"bottom\", \"radius\": 0.3, \"center\": [-0.3500000000000001, 2.8000000000000003, 0.0], \"length\": 0.4}, {\"type\": \"Cylinder\", \"axis\": 2, \"sidewall_angle\": 0.0, \"reference_plane\": \"bottom\", \"radius\": 0.3, \"center\": [-0.3500000000000001, 3.6, 0.0], \"length\": 0.4}, {\"type\": \"Cylinder\", \"axis\": 2, \"sidewall_angle\": 0.0, \"reference_plane\": \"bottom\", \"radius\": 0.3, \"center\": [0.3500000000000001, -3.6, 0.0], \"length\": 0.4}, {\"type\": \"Cylinder\", \"axis\": 2, \"sidewall_angle\": 0.0, \"reference_plane\": \"bottom\", \"radius\": 0.3, \"center\": [0.3500000000000001, -2.8, 0.0], \"length\": 0.4}, {\"type\": \"Cylinder\", \"axis\": 2, \"sidewall_angle\": 0.0, \"reference_plane\": \"bottom\", \"radius\": 0.3, \"center\": [0.3500000000000001, -2.0, 0.0], \"length\": 0.4}, {\"type\": \"Cylinder\", \"axis\": 2, \"sidewall_angle\": 0.0, \"reference_plane\": \"bottom\", \"radius\": 0.3, \"center\": [0.3500000000000001, -1.1999999999999997, 0.0], \"length\": 0.4}, {\"type\": \"Cylinder\", \"axis\": 2, \"sidewall_angle\": 0.0, \"reference_plane\": \"bottom\", \"radius\": 0.3, \"center\": [0.3500000000000001, -0.3999999999999999, 0.0], \"length\": 0.4}, {\"type\": \"Cylinder\", \"axis\": 2, \"sidewall_angle\": 0.0, \"reference_plane\": \"bottom\", \"radius\": 0.3, \"center\": [0.3500000000000001, 0.3999999999999999, 0.0], \"length\": 0.4}, {\"type\": \"Cylinder\", \"axis\": 2, \"sidewall_angle\": 0.0, \"reference_plane\": \"bottom\", \"radius\": 0.3, \"center\": [0.3500000000000001, 1.2000000000000006, 0.0], \"length\": 0.4}, {\"type\": \"Cylinder\", \"axis\": 2, \"sidewall_angle\": 0.0, \"reference_plane\": \"bottom\", \"radius\": 0.3, \"center\": [0.3500000000000001, 2.0000000000000004, 0.0], \"length\": 0.4}, {\"type\": \"Cylinder\", \"axis\": 2, \"sidewall_angle\": 0.0, \"reference_plane\": \"bottom\", \"radius\": 0.3, \"center\": [0.3500000000000001, 2.8000000000000003, 0.0], \"length\": 0.4}, {\"type\": \"Cylinder\", \"axis\": 2, \"sidewall_angle\": 0.0, \"reference_plane\": \"bottom\", \"radius\": 0.3, \"center\": [0.3500000000000001, 3.6, 0.0], \"length\": 0.4}, {\"type\": \"Cylinder\", \"axis\": 2, \"sidewall_angle\": 0.0, \"reference_plane\": \"bottom\", \"radius\": 0.3, \"center\": [1.0500000000000003, -3.6, 0.0], \"length\": 0.4}, {\"type\": \"Cylinder\", \"axis\": 2, \"sidewall_angle\": 0.0, \"reference_plane\": \"bottom\", \"radius\": 0.3, \"center\": [1.0500000000000003, -2.8, 0.0], \"length\": 0.4}, {\"type\": \"Cylinder\", \"axis\": 2, \"sidewall_angle\": 0.0, \"reference_plane\": \"bottom\", \"radius\": 0.3, \"center\": [1.0500000000000003, -2.0, 0.0], \"length\": 0.4}, {\"type\": \"Cylinder\", \"axis\": 2, \"sidewall_angle\": 0.0, \"reference_plane\": \"bottom\", \"radius\": 0.3, \"center\": [1.0500000000000003, -1.1999999999999997, 0.0], \"length\": 0.4}, {\"type\": \"Cylinder\", \"axis\": 2, \"sidewall_angle\": 0.0, \"reference_plane\": \"bottom\", \"radius\": 0.3, \"center\": [1.0500000000000003, -0.3999999999999999, 0.0], \"length\": 0.4}, {\"type\": \"Cylinder\", \"axis\": 2, \"sidewall_angle\": 0.0, \"reference_plane\": \"bottom\", \"radius\": 0.3, \"center\": [1.0500000000000003, 0.3999999999999999, 0.0], \"length\": 0.4}, {\"type\": \"Cylinder\", \"axis\": 2, \"sidewall_angle\": 0.0, \"reference_plane\": \"bottom\", \"radius\": 0.3, \"center\": [1.0500000000000003, 1.2000000000000006, 0.0], \"length\": 0.4}, {\"type\": \"Cylinder\", \"axis\": 2, \"sidewall_angle\": 0.0, \"reference_plane\": \"bottom\", \"radius\": 0.3, \"center\": [1.0500000000000003, 2.0000000000000004, 0.0], \"length\": 0.4}, {\"type\": \"Cylinder\", \"axis\": 2, \"sidewall_angle\": 0.0, \"reference_plane\": \"bottom\", \"radius\": 0.3, \"center\": [1.0500000000000003, 2.8000000000000003, 0.0], \"length\": 0.4}, {\"type\": \"Cylinder\", \"axis\": 2, \"sidewall_angle\": 0.0, \"reference_plane\": \"bottom\", \"radius\": 0.3, \"center\": [1.0500000000000003, 3.6, 0.0], \"length\": 0.4}, {\"type\": \"Cylinder\", \"axis\": 2, \"sidewall_angle\": 0.0, \"reference_plane\": \"bottom\", \"radius\": 0.3, \"center\": [1.7499999999999996, -3.6, 0.0], \"length\": 0.4}, {\"type\": \"Cylinder\", \"axis\": 2, \"sidewall_angle\": 0.0, \"reference_plane\": \"bottom\", \"radius\": 0.3, \"center\": [1.7499999999999996, -2.8, 0.0], \"length\": 0.4}, {\"type\": \"Cylinder\", \"axis\": 2, \"sidewall_angle\": 0.0, \"reference_plane\": \"bottom\", \"radius\": 0.3, \"center\": [1.7499999999999996, -2.0, 0.0], \"length\": 0.4}, {\"type\": \"Cylinder\", \"axis\": 2, \"sidewall_angle\": 0.0, \"reference_plane\": \"bottom\", \"radius\": 0.3, \"center\": [1.7499999999999996, -1.1999999999999997, 0.0], \"length\": 0.4}, {\"type\": \"Cylinder\", \"axis\": 2, \"sidewall_angle\": 0.0, \"reference_plane\": \"bottom\", \"radius\": 0.3, \"center\": [1.7499999999999996, -0.3999999999999999, 0.0], \"length\": 0.4}, {\"type\": \"Cylinder\", \"axis\": 2, \"sidewall_angle\": 0.0, \"reference_plane\": \"bottom\", \"radius\": 0.3, \"center\": [1.7499999999999996, 0.3999999999999999, 0.0], \"length\": 0.4}, {\"type\": \"Cylinder\", \"axis\": 2, \"sidewall_angle\": 0.0, \"reference_plane\": \"bottom\", \"radius\": 0.3, \"center\": [1.7499999999999996, 1.2000000000000006, 0.0], \"length\": 0.4}, {\"type\": \"Cylinder\", \"axis\": 2, \"sidewall_angle\": 0.0, \"reference_plane\": \"bottom\", \"radius\": 0.3, \"center\": [1.7499999999999996, 2.0000000000000004, 0.0], \"length\": 0.4}, {\"type\": \"Cylinder\", \"axis\": 2, \"sidewall_angle\": 0.0, \"reference_plane\": \"bottom\", \"radius\": 0.3, \"center\": [1.7499999999999996, 2.8000000000000003, 0.0], \"length\": 0.4}, {\"type\": \"Cylinder\", \"axis\": 2, \"sidewall_angle\": 0.0, \"reference_plane\": \"bottom\", \"radius\": 0.3, \"center\": [1.7499999999999996, 3.6, 0.0], \"length\": 0.4}, {\"type\": \"Cylinder\", \"axis\": 2, \"sidewall_angle\": 0.0, \"reference_plane\": \"bottom\", \"radius\": 0.3, \"center\": [2.4499999999999997, -3.6, 0.0], \"length\": 0.4}, {\"type\": \"Cylinder\", \"axis\": 2, \"sidewall_angle\": 0.0, \"reference_plane\": \"bottom\", \"radius\": 0.3, \"center\": [2.4499999999999997, -2.8, 0.0], \"length\": 0.4}, {\"type\": \"Cylinder\", \"axis\": 2, \"sidewall_angle\": 0.0, \"reference_plane\": \"bottom\", \"radius\": 0.3, \"center\": [2.4499999999999997, -2.0, 0.0], \"length\": 0.4}, {\"type\": \"Cylinder\", \"axis\": 2, \"sidewall_angle\": 0.0, \"reference_plane\": \"bottom\", \"radius\": 0.3, \"center\": [2.4499999999999997, -1.1999999999999997, 0.0], \"length\": 0.4}, {\"type\": \"Cylinder\", \"axis\": 2, \"sidewall_angle\": 0.0, \"reference_plane\": \"bottom\", \"radius\": 0.3, \"center\": [2.4499999999999997, -0.3999999999999999, 0.0], \"length\": 0.4}, {\"type\": \"Cylinder\", \"axis\": 2, \"sidewall_angle\": 0.0, \"reference_plane\": \"bottom\", \"radius\": 0.3, \"center\": [2.4499999999999997, 0.3999999999999999, 0.0], \"length\": 0.4}, {\"type\": \"Cylinder\", \"axis\": 2, \"sidewall_angle\": 0.0, \"reference_plane\": \"bottom\", \"radius\": 0.3, \"center\": [2.4499999999999997, 1.2000000000000006, 0.0], \"length\": 0.4}, {\"type\": \"Cylinder\", \"axis\": 2, \"sidewall_angle\": 0.0, \"reference_plane\": \"bottom\", \"radius\": 0.3, \"center\": [2.4499999999999997, 2.0000000000000004, 0.0], \"length\": 0.4}, {\"type\": \"Cylinder\", \"axis\": 2, \"sidewall_angle\": 0.0, \"reference_plane\": \"bottom\", \"radius\": 0.3, \"center\": [2.4499999999999997, 2.8000000000000003, 0.0], \"length\": 0.4}, {\"type\": \"Cylinder\", \"axis\": 2, \"sidewall_angle\": 0.0, \"reference_plane\": \"bottom\", \"radius\": 0.3, \"center\": [2.4499999999999997, 3.6, 0.0], \"length\": 0.4}]}, \"name\": null, \"type\": \"Structure\", \"medium\": {\"name\": null, \"frequency_range\": null, \"allow_gain\": false, \"nonlinear_spec\": null, \"modulation_spec\": null, \"heat_spec\": null, \"type\": \"Medium\", \"permittivity\": 12.1104, \"conductivity\": 0.0}}], \"symmetry\": [0, 0, 0], \"sources\": [], \"boundary_spec\": {\"x\": {\"plus\": {\"name\": null, \"type\": \"PML\", \"num_layers\": 12, \"parameters\": {\"sigma_order\": 3, \"sigma_min\": 0.0, \"sigma_max\": 1.5, \"type\": \"PMLParams\", \"kappa_order\": 3, \"kappa_min\": 1.0, \"kappa_max\": 3.0, \"alpha_order\": 1, \"alpha_min\": 0.0, \"alpha_max\": 0.0}}, \"minus\": {\"name\": null, \"type\": \"PML\", \"num_layers\": 12, \"parameters\": {\"sigma_order\": 3, \"sigma_min\": 0.0, \"sigma_max\": 1.5, \"type\": \"PMLParams\", \"kappa_order\": 3, \"kappa_min\": 1.0, \"kappa_max\": 3.0, \"alpha_order\": 1, \"alpha_min\": 0.0, \"alpha_max\": 0.0}}, \"type\": \"Boundary\"}, \"y\": {\"plus\": {\"name\": null, \"type\": \"PML\", \"num_layers\": 12, \"parameters\": {\"sigma_order\": 3, \"sigma_min\": 0.0, \"sigma_max\": 1.5, \"type\": \"PMLParams\", \"kappa_order\": 3, \"kappa_min\": 1.0, \"kappa_max\": 3.0, \"alpha_order\": 1, \"alpha_min\": 0.0, \"alpha_max\": 0.0}}, \"minus\": {\"name\": null, \"type\": \"PML\", \"num_layers\": 12, \"parameters\": {\"sigma_order\": 3, \"sigma_min\": 0.0, \"sigma_max\": 1.5, \"type\": \"PMLParams\", \"kappa_order\": 3, \"kappa_min\": 1.0, \"kappa_max\": 3.0, \"alpha_order\": 1, \"alpha_min\": 0.0, \"alpha_max\": 0.0}}, \"type\": \"Boundary\"}, \"z\": {\"plus\": {\"name\": null, \"type\": \"PML\", \"num_layers\": 12, \"parameters\": {\"sigma_order\": 3, \"sigma_min\": 0.0, \"sigma_max\": 1.5, \"type\": \"PMLParams\", \"kappa_order\": 3, \"kappa_min\": 1.0, \"kappa_max\": 3.0, \"alpha_order\": 1, \"alpha_min\": 0.0, \"alpha_max\": 0.0}}, \"minus\": {\"name\": null, \"type\": \"PML\", \"num_layers\": 12, \"parameters\": {\"sigma_order\": 3, \"sigma_min\": 0.0, \"sigma_max\": 1.5, \"type\": \"PMLParams\", \"kappa_order\": 3, \"kappa_min\": 1.0, \"kappa_max\": 3.0, \"alpha_order\": 1, \"alpha_min\": 0.0, \"alpha_max\": 0.0}}, \"type\": \"Boundary\"}, \"type\": \"BoundarySpec\"}, \"monitors\": [], \"grid_spec\": {\"grid_x\": {\"type\": \"AutoGrid\", \"min_steps_per_wvl\": 10.0, \"max_scale\": 1.4, \"dl_min\": 0.0, \"mesher\": {\"type\": \"GradedMesher\"}}, \"grid_y\": {\"type\": \"AutoGrid\", \"min_steps_per_wvl\": 10.0, \"max_scale\": 1.4, \"dl_min\": 0.0, \"mesher\": {\"type\": \"GradedMesher\"}}, \"grid_z\": {\"type\": \"AutoGrid\", \"min_steps_per_wvl\": 10.0, \"max_scale\": 1.4, \"dl_min\": 0.0, \"mesher\": {\"type\": \"GradedMesher\"}}, \"wavelength\": 1.55, \"override_structures\": [], \"type\": \"GridSpec\"}, \"version\": \"2.6.0\", \"run_time\": 1.0, \"shutoff\": 1e-05, \"subpixel\": true, \"normalize_index\": 0, \"courant\": 0.99}}, '*')\n",
       "        }\n",
       "    };\n",
       "    window.addEventListener(\n",
       "        'message',\n",
       "        window.postMessageToViewer170815667785398109,\n",
       "        false\n",
       "    );\n",
       "    \n",
       "    </script>\n",
       "    "
      ],
      "text/plain": [
       "<IPython.core.display.HTML object>"
      ]
     },
     "metadata": {},
     "output_type": "display_data"
    }
   ],
   "source": [
    "s = slab_square_array(\n",
    "    0,\n",
    "    0,\n",
    "    0,\n",
    "    0.3,\n",
    "    0.7,\n",
    "    0.8,\n",
    "    8,\n",
    "    10,\n",
    "    0.4,\n",
    "    td.Medium(permittivity=3.48**2),\n",
    "    td.Medium(permittivity=1.003**2),\n",
    ")\n",
    "\n",
    "sim = td.Simulation(\n",
    "    size=[10, 10, 10],\n",
    "    grid_spec=td.GridSpec.auto(wavelength=1.55),\n",
    "    structures=s,\n",
    "    run_time=1,\n",
    ")\n",
    "\n",
    "sim.plot_3d()"
   ]
  },
  {
   "cell_type": "markdown",
   "id": "911c68ba",
   "metadata": {},
   "source": [
    "## Hexagonal Array of Holes"
   ]
  },
  {
   "cell_type": "markdown",
   "id": "a847ef2a",
   "metadata": {},
   "source": [
    "The function `slab_hex_array` returns a slab with a square array of holes with separately-defined medium. The slab has a tunable hole radius, spacing in both x and y directions, height, and array dimensions."
   ]
  },
  {
   "cell_type": "code",
   "execution_count": 8,
   "id": "e2298262",
   "metadata": {
    "execution": {
     "iopub.execute_input": "2024-02-17T07:57:57.859083Z",
     "iopub.status.busy": "2024-02-17T07:57:57.858940Z",
     "iopub.status.idle": "2024-02-17T07:57:57.875562Z",
     "shell.execute_reply": "2024-02-17T07:57:57.874953Z"
    }
   },
   "outputs": [],
   "source": [
    "def slab_hex_array(\n",
    "    x0,\n",
    "    y0,\n",
    "    z0,\n",
    "    R,\n",
    "    hole_spacing_x,\n",
    "    hole_spacing_y,\n",
    "    n_x,\n",
    "    n_y,\n",
    "    height,\n",
    "    hole_medium,\n",
    "    slab_medium,\n",
    "    reference_plane=\"bottom\",\n",
    "    sidewall_angle=0,\n",
    "    axis=2,\n",
    "):\n",
    "    # parameters\n",
    "    # ------------------------------------------------------------\n",
    "    # x0: x coordinate of center of the array (um)\n",
    "    # y0: y coordinate of center of the array (um)\n",
    "    # z0: z coordinate of center of the array (um)\n",
    "    # R: radius of the circular holes (um)\n",
    "    # hole_spacing_x: distance between centers of holes in x direction (um)\n",
    "    # hole_spacing_y: distance between centers of holes in y direction (um)\n",
    "    # n_x: number of holes in x direction\n",
    "    # n_y: number of holes in y direction\n",
    "    # height: height of array\n",
    "    # hole_medium: medium of the holes\n",
    "    # slab_medium: medium of the slab\n",
    "    # reference_plane\n",
    "    # sidewall_angle: angle slant of cylinders. Add compensation for the box geometry if != 0?\n",
    "    # axis\n",
    "\n",
    "    # define geometry for slab\n",
    "    x_slab_length, y_slab_length = hole_spacing_x * (n_x + 0.5), hole_spacing_y * n_y\n",
    "    start_x, start_y = (\n",
    "        x0 - x_slab_length / 2 + hole_spacing_x / 2,\n",
    "        y0 - y_slab_length / 2 + hole_spacing_y / 2,\n",
    "    )\n",
    "    box = td.Box(center=(x0, y0, z0), size=(x_slab_length, y_slab_length, height))\n",
    "\n",
    "    structures = [td.Structure(geometry=box, medium=slab_medium)]\n",
    "\n",
    "    cylinders = []\n",
    "    for i in range(0, n_x):\n",
    "        for j in range(0, n_y):\n",
    "            c = td.Cylinder(\n",
    "                axis=axis,\n",
    "                sidewall_angle=sidewall_angle,\n",
    "                reference_plane=reference_plane,\n",
    "                radius=R,\n",
    "                center=(\n",
    "                    start_x + (i + (j % 2) * 0.5) * hole_spacing_x,\n",
    "                    start_y + j * hole_spacing_y,\n",
    "                    z0,\n",
    "                ),\n",
    "                length=height,\n",
    "            )\n",
    "            cylinders.append(c)\n",
    "\n",
    "    cylinders_structure = td.Structure(\n",
    "        geometry=td.GeometryGroup(geometries=cylinders), medium=hole_medium\n",
    "    )\n",
    "\n",
    "    structures.append(cylinders_structure)\n",
    "\n",
    "    return structures"
   ]
  },
  {
   "cell_type": "code",
   "execution_count": 9,
   "id": "3cd7c3e3",
   "metadata": {
    "execution": {
     "iopub.execute_input": "2024-02-17T07:57:57.877378Z",
     "iopub.status.busy": "2024-02-17T07:57:57.877236Z",
     "iopub.status.idle": "2024-02-17T07:57:57.902145Z",
     "shell.execute_reply": "2024-02-17T07:57:57.901657Z"
    }
   },
   "outputs": [
    {
     "data": {
      "text/html": [
       "\n",
       "    <iframe id=\"simulation-viewer17081566778981948\" src=https://feature-simulation-viewer.d3a9gfg7glllfq.amplifyapp.com/simulation-viewer?uuid=17081566778981948 width=\"800\" height=\"800\" allowfullscreen=\"true\"></iframe>\n",
       "    <script>\n",
       "        \n",
       "    window.postMessageToViewer17081566778981948 = event => {\n",
       "        if(event.data.type === 'viewer'&&event.data.uuid==='17081566778981948'){\n",
       "            document.getElementById('simulation-viewer17081566778981948').contentWindow.postMessage({ type: 'jupyter', uuid:'17081566778981948', value:{\"type\": \"Simulation\", \"center\": [0.0, 0.0, 0.0], \"size\": [10.0, 10.0, 10.0], \"medium\": {\"name\": null, \"frequency_range\": null, \"allow_gain\": false, \"nonlinear_spec\": null, \"modulation_spec\": null, \"heat_spec\": null, \"type\": \"Medium\", \"permittivity\": 1.0, \"conductivity\": 0.0}, \"structures\": [{\"geometry\": {\"type\": \"Box\", \"center\": [0.0, 0.0, 0.0], \"size\": [5.949999999999999, 8.0, 0.4]}, \"name\": null, \"type\": \"Structure\", \"medium\": {\"name\": null, \"frequency_range\": null, \"allow_gain\": false, \"nonlinear_spec\": null, \"modulation_spec\": null, \"heat_spec\": null, \"type\": \"Medium\", \"permittivity\": 1.0060089999999997, \"conductivity\": 0.0}}, {\"geometry\": {\"type\": \"GeometryGroup\", \"geometries\": [{\"type\": \"Cylinder\", \"axis\": 2, \"sidewall_angle\": 0.0, \"reference_plane\": \"bottom\", \"radius\": 0.3, \"center\": [-2.6249999999999996, -3.6, 0.0], \"length\": 0.4}, {\"type\": \"Cylinder\", \"axis\": 2, \"sidewall_angle\": 0.0, \"reference_plane\": \"bottom\", \"radius\": 0.3, \"center\": [-2.2749999999999995, -2.8, 0.0], \"length\": 0.4}, {\"type\": \"Cylinder\", \"axis\": 2, \"sidewall_angle\": 0.0, \"reference_plane\": \"bottom\", \"radius\": 0.3, \"center\": [-2.6249999999999996, -2.0, 0.0], \"length\": 0.4}, {\"type\": \"Cylinder\", \"axis\": 2, \"sidewall_angle\": 0.0, \"reference_plane\": \"bottom\", \"radius\": 0.3, \"center\": [-2.2749999999999995, -1.1999999999999997, 0.0], \"length\": 0.4}, {\"type\": \"Cylinder\", \"axis\": 2, \"sidewall_angle\": 0.0, \"reference_plane\": \"bottom\", \"radius\": 0.3, \"center\": [-2.6249999999999996, -0.3999999999999999, 0.0], \"length\": 0.4}, {\"type\": \"Cylinder\", \"axis\": 2, \"sidewall_angle\": 0.0, \"reference_plane\": \"bottom\", \"radius\": 0.3, \"center\": [-2.2749999999999995, 0.3999999999999999, 0.0], \"length\": 0.4}, {\"type\": \"Cylinder\", \"axis\": 2, \"sidewall_angle\": 0.0, \"reference_plane\": \"bottom\", \"radius\": 0.3, \"center\": [-2.6249999999999996, 1.2000000000000006, 0.0], \"length\": 0.4}, {\"type\": \"Cylinder\", \"axis\": 2, \"sidewall_angle\": 0.0, \"reference_plane\": \"bottom\", \"radius\": 0.3, \"center\": [-2.2749999999999995, 2.0000000000000004, 0.0], \"length\": 0.4}, {\"type\": \"Cylinder\", \"axis\": 2, \"sidewall_angle\": 0.0, \"reference_plane\": \"bottom\", \"radius\": 0.3, \"center\": [-2.6249999999999996, 2.8000000000000003, 0.0], \"length\": 0.4}, {\"type\": \"Cylinder\", \"axis\": 2, \"sidewall_angle\": 0.0, \"reference_plane\": \"bottom\", \"radius\": 0.3, \"center\": [-2.2749999999999995, 3.6, 0.0], \"length\": 0.4}, {\"type\": \"Cylinder\", \"axis\": 2, \"sidewall_angle\": 0.0, \"reference_plane\": \"bottom\", \"radius\": 0.3, \"center\": [-1.9249999999999996, -3.6, 0.0], \"length\": 0.4}, {\"type\": \"Cylinder\", \"axis\": 2, \"sidewall_angle\": 0.0, \"reference_plane\": \"bottom\", \"radius\": 0.3, \"center\": [-1.5749999999999997, -2.8, 0.0], \"length\": 0.4}, {\"type\": \"Cylinder\", \"axis\": 2, \"sidewall_angle\": 0.0, \"reference_plane\": \"bottom\", \"radius\": 0.3, \"center\": [-1.9249999999999996, -2.0, 0.0], \"length\": 0.4}, {\"type\": \"Cylinder\", \"axis\": 2, \"sidewall_angle\": 0.0, \"reference_plane\": \"bottom\", \"radius\": 0.3, \"center\": [-1.5749999999999997, -1.1999999999999997, 0.0], \"length\": 0.4}, {\"type\": \"Cylinder\", \"axis\": 2, \"sidewall_angle\": 0.0, \"reference_plane\": \"bottom\", \"radius\": 0.3, \"center\": [-1.9249999999999996, -0.3999999999999999, 0.0], \"length\": 0.4}, {\"type\": \"Cylinder\", \"axis\": 2, \"sidewall_angle\": 0.0, \"reference_plane\": \"bottom\", \"radius\": 0.3, \"center\": [-1.5749999999999997, 0.3999999999999999, 0.0], \"length\": 0.4}, {\"type\": \"Cylinder\", \"axis\": 2, \"sidewall_angle\": 0.0, \"reference_plane\": \"bottom\", \"radius\": 0.3, \"center\": [-1.9249999999999996, 1.2000000000000006, 0.0], \"length\": 0.4}, {\"type\": \"Cylinder\", \"axis\": 2, \"sidewall_angle\": 0.0, \"reference_plane\": \"bottom\", \"radius\": 0.3, \"center\": [-1.5749999999999997, 2.0000000000000004, 0.0], \"length\": 0.4}, {\"type\": \"Cylinder\", \"axis\": 2, \"sidewall_angle\": 0.0, \"reference_plane\": \"bottom\", \"radius\": 0.3, \"center\": [-1.9249999999999996, 2.8000000000000003, 0.0], \"length\": 0.4}, {\"type\": \"Cylinder\", \"axis\": 2, \"sidewall_angle\": 0.0, \"reference_plane\": \"bottom\", \"radius\": 0.3, \"center\": [-1.5749999999999997, 3.6, 0.0], \"length\": 0.4}, {\"type\": \"Cylinder\", \"axis\": 2, \"sidewall_angle\": 0.0, \"reference_plane\": \"bottom\", \"radius\": 0.3, \"center\": [-1.2249999999999996, -3.6, 0.0], \"length\": 0.4}, {\"type\": \"Cylinder\", \"axis\": 2, \"sidewall_angle\": 0.0, \"reference_plane\": \"bottom\", \"radius\": 0.3, \"center\": [-0.8749999999999996, -2.8, 0.0], \"length\": 0.4}, {\"type\": \"Cylinder\", \"axis\": 2, \"sidewall_angle\": 0.0, \"reference_plane\": \"bottom\", \"radius\": 0.3, \"center\": [-1.2249999999999996, -2.0, 0.0], \"length\": 0.4}, {\"type\": \"Cylinder\", \"axis\": 2, \"sidewall_angle\": 0.0, \"reference_plane\": \"bottom\", \"radius\": 0.3, \"center\": [-0.8749999999999996, -1.1999999999999997, 0.0], \"length\": 0.4}, {\"type\": \"Cylinder\", \"axis\": 2, \"sidewall_angle\": 0.0, \"reference_plane\": \"bottom\", \"radius\": 0.3, \"center\": [-1.2249999999999996, -0.3999999999999999, 0.0], \"length\": 0.4}, {\"type\": \"Cylinder\", \"axis\": 2, \"sidewall_angle\": 0.0, \"reference_plane\": \"bottom\", \"radius\": 0.3, \"center\": [-0.8749999999999996, 0.3999999999999999, 0.0], \"length\": 0.4}, {\"type\": \"Cylinder\", \"axis\": 2, \"sidewall_angle\": 0.0, \"reference_plane\": \"bottom\", \"radius\": 0.3, \"center\": [-1.2249999999999996, 1.2000000000000006, 0.0], \"length\": 0.4}, {\"type\": \"Cylinder\", \"axis\": 2, \"sidewall_angle\": 0.0, \"reference_plane\": \"bottom\", \"radius\": 0.3, \"center\": [-0.8749999999999996, 2.0000000000000004, 0.0], \"length\": 0.4}, {\"type\": \"Cylinder\", \"axis\": 2, \"sidewall_angle\": 0.0, \"reference_plane\": \"bottom\", \"radius\": 0.3, \"center\": [-1.2249999999999996, 2.8000000000000003, 0.0], \"length\": 0.4}, {\"type\": \"Cylinder\", \"axis\": 2, \"sidewall_angle\": 0.0, \"reference_plane\": \"bottom\", \"radius\": 0.3, \"center\": [-0.8749999999999996, 3.6, 0.0], \"length\": 0.4}, {\"type\": \"Cylinder\", \"axis\": 2, \"sidewall_angle\": 0.0, \"reference_plane\": \"bottom\", \"radius\": 0.3, \"center\": [-0.5249999999999999, -3.6, 0.0], \"length\": 0.4}, {\"type\": \"Cylinder\", \"axis\": 2, \"sidewall_angle\": 0.0, \"reference_plane\": \"bottom\", \"radius\": 0.3, \"center\": [-0.17499999999999982, -2.8, 0.0], \"length\": 0.4}, {\"type\": \"Cylinder\", \"axis\": 2, \"sidewall_angle\": 0.0, \"reference_plane\": \"bottom\", \"radius\": 0.3, \"center\": [-0.5249999999999999, -2.0, 0.0], \"length\": 0.4}, {\"type\": \"Cylinder\", \"axis\": 2, \"sidewall_angle\": 0.0, \"reference_plane\": \"bottom\", \"radius\": 0.3, \"center\": [-0.17499999999999982, -1.1999999999999997, 0.0], \"length\": 0.4}, {\"type\": \"Cylinder\", \"axis\": 2, \"sidewall_angle\": 0.0, \"reference_plane\": \"bottom\", \"radius\": 0.3, \"center\": [-0.5249999999999999, -0.3999999999999999, 0.0], \"length\": 0.4}, {\"type\": \"Cylinder\", \"axis\": 2, \"sidewall_angle\": 0.0, \"reference_plane\": \"bottom\", \"radius\": 0.3, \"center\": [-0.17499999999999982, 0.3999999999999999, 0.0], \"length\": 0.4}, {\"type\": \"Cylinder\", \"axis\": 2, \"sidewall_angle\": 0.0, \"reference_plane\": \"bottom\", \"radius\": 0.3, \"center\": [-0.5249999999999999, 1.2000000000000006, 0.0], \"length\": 0.4}, {\"type\": \"Cylinder\", \"axis\": 2, \"sidewall_angle\": 0.0, \"reference_plane\": \"bottom\", \"radius\": 0.3, \"center\": [-0.17499999999999982, 2.0000000000000004, 0.0], \"length\": 0.4}, {\"type\": \"Cylinder\", \"axis\": 2, \"sidewall_angle\": 0.0, \"reference_plane\": \"bottom\", \"radius\": 0.3, \"center\": [-0.5249999999999999, 2.8000000000000003, 0.0], \"length\": 0.4}, {\"type\": \"Cylinder\", \"axis\": 2, \"sidewall_angle\": 0.0, \"reference_plane\": \"bottom\", \"radius\": 0.3, \"center\": [-0.17499999999999982, 3.6, 0.0], \"length\": 0.4}, {\"type\": \"Cylinder\", \"axis\": 2, \"sidewall_angle\": 0.0, \"reference_plane\": \"bottom\", \"radius\": 0.3, \"center\": [0.17500000000000027, -3.6, 0.0], \"length\": 0.4}, {\"type\": \"Cylinder\", \"axis\": 2, \"sidewall_angle\": 0.0, \"reference_plane\": \"bottom\", \"radius\": 0.3, \"center\": [0.5250000000000004, -2.8, 0.0], \"length\": 0.4}, {\"type\": \"Cylinder\", \"axis\": 2, \"sidewall_angle\": 0.0, \"reference_plane\": \"bottom\", \"radius\": 0.3, \"center\": [0.17500000000000027, -2.0, 0.0], \"length\": 0.4}, {\"type\": \"Cylinder\", \"axis\": 2, \"sidewall_angle\": 0.0, \"reference_plane\": \"bottom\", \"radius\": 0.3, \"center\": [0.5250000000000004, -1.1999999999999997, 0.0], \"length\": 0.4}, {\"type\": \"Cylinder\", \"axis\": 2, \"sidewall_angle\": 0.0, \"reference_plane\": \"bottom\", \"radius\": 0.3, \"center\": [0.17500000000000027, -0.3999999999999999, 0.0], \"length\": 0.4}, {\"type\": \"Cylinder\", \"axis\": 2, \"sidewall_angle\": 0.0, \"reference_plane\": \"bottom\", \"radius\": 0.3, \"center\": [0.5250000000000004, 0.3999999999999999, 0.0], \"length\": 0.4}, {\"type\": \"Cylinder\", \"axis\": 2, \"sidewall_angle\": 0.0, \"reference_plane\": \"bottom\", \"radius\": 0.3, \"center\": [0.17500000000000027, 1.2000000000000006, 0.0], \"length\": 0.4}, {\"type\": \"Cylinder\", \"axis\": 2, \"sidewall_angle\": 0.0, \"reference_plane\": \"bottom\", \"radius\": 0.3, \"center\": [0.5250000000000004, 2.0000000000000004, 0.0], \"length\": 0.4}, {\"type\": \"Cylinder\", \"axis\": 2, \"sidewall_angle\": 0.0, \"reference_plane\": \"bottom\", \"radius\": 0.3, \"center\": [0.17500000000000027, 2.8000000000000003, 0.0], \"length\": 0.4}, {\"type\": \"Cylinder\", \"axis\": 2, \"sidewall_angle\": 0.0, \"reference_plane\": \"bottom\", \"radius\": 0.3, \"center\": [0.5250000000000004, 3.6, 0.0], \"length\": 0.4}, {\"type\": \"Cylinder\", \"axis\": 2, \"sidewall_angle\": 0.0, \"reference_plane\": \"bottom\", \"radius\": 0.3, \"center\": [0.8750000000000004, -3.6, 0.0], \"length\": 0.4}, {\"type\": \"Cylinder\", \"axis\": 2, \"sidewall_angle\": 0.0, \"reference_plane\": \"bottom\", \"radius\": 0.3, \"center\": [1.225, -2.8, 0.0], \"length\": 0.4}, {\"type\": \"Cylinder\", \"axis\": 2, \"sidewall_angle\": 0.0, \"reference_plane\": \"bottom\", \"radius\": 0.3, \"center\": [0.8750000000000004, -2.0, 0.0], \"length\": 0.4}, {\"type\": \"Cylinder\", \"axis\": 2, \"sidewall_angle\": 0.0, \"reference_plane\": \"bottom\", \"radius\": 0.3, \"center\": [1.225, -1.1999999999999997, 0.0], \"length\": 0.4}, {\"type\": \"Cylinder\", \"axis\": 2, \"sidewall_angle\": 0.0, \"reference_plane\": \"bottom\", \"radius\": 0.3, \"center\": [0.8750000000000004, -0.3999999999999999, 0.0], \"length\": 0.4}, {\"type\": \"Cylinder\", \"axis\": 2, \"sidewall_angle\": 0.0, \"reference_plane\": \"bottom\", \"radius\": 0.3, \"center\": [1.225, 0.3999999999999999, 0.0], \"length\": 0.4}, {\"type\": \"Cylinder\", \"axis\": 2, \"sidewall_angle\": 0.0, \"reference_plane\": \"bottom\", \"radius\": 0.3, \"center\": [0.8750000000000004, 1.2000000000000006, 0.0], \"length\": 0.4}, {\"type\": \"Cylinder\", \"axis\": 2, \"sidewall_angle\": 0.0, \"reference_plane\": \"bottom\", \"radius\": 0.3, \"center\": [1.225, 2.0000000000000004, 0.0], \"length\": 0.4}, {\"type\": \"Cylinder\", \"axis\": 2, \"sidewall_angle\": 0.0, \"reference_plane\": \"bottom\", \"radius\": 0.3, \"center\": [0.8750000000000004, 2.8000000000000003, 0.0], \"length\": 0.4}, {\"type\": \"Cylinder\", \"axis\": 2, \"sidewall_angle\": 0.0, \"reference_plane\": \"bottom\", \"radius\": 0.3, \"center\": [1.225, 3.6, 0.0], \"length\": 0.4}, {\"type\": \"Cylinder\", \"axis\": 2, \"sidewall_angle\": 0.0, \"reference_plane\": \"bottom\", \"radius\": 0.3, \"center\": [1.5749999999999997, -3.6, 0.0], \"length\": 0.4}, {\"type\": \"Cylinder\", \"axis\": 2, \"sidewall_angle\": 0.0, \"reference_plane\": \"bottom\", \"radius\": 0.3, \"center\": [1.9250000000000003, -2.8, 0.0], \"length\": 0.4}, {\"type\": \"Cylinder\", \"axis\": 2, \"sidewall_angle\": 0.0, \"reference_plane\": \"bottom\", \"radius\": 0.3, \"center\": [1.5749999999999997, -2.0, 0.0], \"length\": 0.4}, {\"type\": \"Cylinder\", \"axis\": 2, \"sidewall_angle\": 0.0, \"reference_plane\": \"bottom\", \"radius\": 0.3, \"center\": [1.9250000000000003, -1.1999999999999997, 0.0], \"length\": 0.4}, {\"type\": \"Cylinder\", \"axis\": 2, \"sidewall_angle\": 0.0, \"reference_plane\": \"bottom\", \"radius\": 0.3, \"center\": [1.5749999999999997, -0.3999999999999999, 0.0], \"length\": 0.4}, {\"type\": \"Cylinder\", \"axis\": 2, \"sidewall_angle\": 0.0, \"reference_plane\": \"bottom\", \"radius\": 0.3, \"center\": [1.9250000000000003, 0.3999999999999999, 0.0], \"length\": 0.4}, {\"type\": \"Cylinder\", \"axis\": 2, \"sidewall_angle\": 0.0, \"reference_plane\": \"bottom\", \"radius\": 0.3, \"center\": [1.5749999999999997, 1.2000000000000006, 0.0], \"length\": 0.4}, {\"type\": \"Cylinder\", \"axis\": 2, \"sidewall_angle\": 0.0, \"reference_plane\": \"bottom\", \"radius\": 0.3, \"center\": [1.9250000000000003, 2.0000000000000004, 0.0], \"length\": 0.4}, {\"type\": \"Cylinder\", \"axis\": 2, \"sidewall_angle\": 0.0, \"reference_plane\": \"bottom\", \"radius\": 0.3, \"center\": [1.5749999999999997, 2.8000000000000003, 0.0], \"length\": 0.4}, {\"type\": \"Cylinder\", \"axis\": 2, \"sidewall_angle\": 0.0, \"reference_plane\": \"bottom\", \"radius\": 0.3, \"center\": [1.9250000000000003, 3.6, 0.0], \"length\": 0.4}, {\"type\": \"Cylinder\", \"axis\": 2, \"sidewall_angle\": 0.0, \"reference_plane\": \"bottom\", \"radius\": 0.3, \"center\": [2.275, -3.6, 0.0], \"length\": 0.4}, {\"type\": \"Cylinder\", \"axis\": 2, \"sidewall_angle\": 0.0, \"reference_plane\": \"bottom\", \"radius\": 0.3, \"center\": [2.6250000000000004, -2.8, 0.0], \"length\": 0.4}, {\"type\": \"Cylinder\", \"axis\": 2, \"sidewall_angle\": 0.0, \"reference_plane\": \"bottom\", \"radius\": 0.3, \"center\": [2.275, -2.0, 0.0], \"length\": 0.4}, {\"type\": \"Cylinder\", \"axis\": 2, \"sidewall_angle\": 0.0, \"reference_plane\": \"bottom\", \"radius\": 0.3, \"center\": [2.6250000000000004, -1.1999999999999997, 0.0], \"length\": 0.4}, {\"type\": \"Cylinder\", \"axis\": 2, \"sidewall_angle\": 0.0, \"reference_plane\": \"bottom\", \"radius\": 0.3, \"center\": [2.275, -0.3999999999999999, 0.0], \"length\": 0.4}, {\"type\": \"Cylinder\", \"axis\": 2, \"sidewall_angle\": 0.0, \"reference_plane\": \"bottom\", \"radius\": 0.3, \"center\": [2.6250000000000004, 0.3999999999999999, 0.0], \"length\": 0.4}, {\"type\": \"Cylinder\", \"axis\": 2, \"sidewall_angle\": 0.0, \"reference_plane\": \"bottom\", \"radius\": 0.3, \"center\": [2.275, 1.2000000000000006, 0.0], \"length\": 0.4}, {\"type\": \"Cylinder\", \"axis\": 2, \"sidewall_angle\": 0.0, \"reference_plane\": \"bottom\", \"radius\": 0.3, \"center\": [2.6250000000000004, 2.0000000000000004, 0.0], \"length\": 0.4}, {\"type\": \"Cylinder\", \"axis\": 2, \"sidewall_angle\": 0.0, \"reference_plane\": \"bottom\", \"radius\": 0.3, \"center\": [2.275, 2.8000000000000003, 0.0], \"length\": 0.4}, {\"type\": \"Cylinder\", \"axis\": 2, \"sidewall_angle\": 0.0, \"reference_plane\": \"bottom\", \"radius\": 0.3, \"center\": [2.6250000000000004, 3.6, 0.0], \"length\": 0.4}]}, \"name\": null, \"type\": \"Structure\", \"medium\": {\"name\": null, \"frequency_range\": null, \"allow_gain\": false, \"nonlinear_spec\": null, \"modulation_spec\": null, \"heat_spec\": null, \"type\": \"Medium\", \"permittivity\": 12.1104, \"conductivity\": 0.0}}], \"symmetry\": [0, 0, 0], \"sources\": [], \"boundary_spec\": {\"x\": {\"plus\": {\"name\": null, \"type\": \"PML\", \"num_layers\": 12, \"parameters\": {\"sigma_order\": 3, \"sigma_min\": 0.0, \"sigma_max\": 1.5, \"type\": \"PMLParams\", \"kappa_order\": 3, \"kappa_min\": 1.0, \"kappa_max\": 3.0, \"alpha_order\": 1, \"alpha_min\": 0.0, \"alpha_max\": 0.0}}, \"minus\": {\"name\": null, \"type\": \"PML\", \"num_layers\": 12, \"parameters\": {\"sigma_order\": 3, \"sigma_min\": 0.0, \"sigma_max\": 1.5, \"type\": \"PMLParams\", \"kappa_order\": 3, \"kappa_min\": 1.0, \"kappa_max\": 3.0, \"alpha_order\": 1, \"alpha_min\": 0.0, \"alpha_max\": 0.0}}, \"type\": \"Boundary\"}, \"y\": {\"plus\": {\"name\": null, \"type\": \"PML\", \"num_layers\": 12, \"parameters\": {\"sigma_order\": 3, \"sigma_min\": 0.0, \"sigma_max\": 1.5, \"type\": \"PMLParams\", \"kappa_order\": 3, \"kappa_min\": 1.0, \"kappa_max\": 3.0, \"alpha_order\": 1, \"alpha_min\": 0.0, \"alpha_max\": 0.0}}, \"minus\": {\"name\": null, \"type\": \"PML\", \"num_layers\": 12, \"parameters\": {\"sigma_order\": 3, \"sigma_min\": 0.0, \"sigma_max\": 1.5, \"type\": \"PMLParams\", \"kappa_order\": 3, \"kappa_min\": 1.0, \"kappa_max\": 3.0, \"alpha_order\": 1, \"alpha_min\": 0.0, \"alpha_max\": 0.0}}, \"type\": \"Boundary\"}, \"z\": {\"plus\": {\"name\": null, \"type\": \"PML\", \"num_layers\": 12, \"parameters\": {\"sigma_order\": 3, \"sigma_min\": 0.0, \"sigma_max\": 1.5, \"type\": \"PMLParams\", \"kappa_order\": 3, \"kappa_min\": 1.0, \"kappa_max\": 3.0, \"alpha_order\": 1, \"alpha_min\": 0.0, \"alpha_max\": 0.0}}, \"minus\": {\"name\": null, \"type\": \"PML\", \"num_layers\": 12, \"parameters\": {\"sigma_order\": 3, \"sigma_min\": 0.0, \"sigma_max\": 1.5, \"type\": \"PMLParams\", \"kappa_order\": 3, \"kappa_min\": 1.0, \"kappa_max\": 3.0, \"alpha_order\": 1, \"alpha_min\": 0.0, \"alpha_max\": 0.0}}, \"type\": \"Boundary\"}, \"type\": \"BoundarySpec\"}, \"monitors\": [], \"grid_spec\": {\"grid_x\": {\"type\": \"AutoGrid\", \"min_steps_per_wvl\": 10.0, \"max_scale\": 1.4, \"dl_min\": 0.0, \"mesher\": {\"type\": \"GradedMesher\"}}, \"grid_y\": {\"type\": \"AutoGrid\", \"min_steps_per_wvl\": 10.0, \"max_scale\": 1.4, \"dl_min\": 0.0, \"mesher\": {\"type\": \"GradedMesher\"}}, \"grid_z\": {\"type\": \"AutoGrid\", \"min_steps_per_wvl\": 10.0, \"max_scale\": 1.4, \"dl_min\": 0.0, \"mesher\": {\"type\": \"GradedMesher\"}}, \"wavelength\": 1.55, \"override_structures\": [], \"type\": \"GridSpec\"}, \"version\": \"2.6.0\", \"run_time\": 1.0, \"shutoff\": 1e-05, \"subpixel\": true, \"normalize_index\": 0, \"courant\": 0.99}}, '*')\n",
       "        }\n",
       "    };\n",
       "    window.addEventListener(\n",
       "        'message',\n",
       "        window.postMessageToViewer17081566778981948,\n",
       "        false\n",
       "    );\n",
       "    \n",
       "    </script>\n",
       "    "
      ],
      "text/plain": [
       "<IPython.core.display.HTML object>"
      ]
     },
     "metadata": {},
     "output_type": "display_data"
    }
   ],
   "source": [
    "s = slab_hex_array(\n",
    "    0,\n",
    "    0,\n",
    "    0,\n",
    "    0.3,\n",
    "    0.7,\n",
    "    0.8,\n",
    "    8,\n",
    "    10,\n",
    "    0.4,\n",
    "    td.Medium(permittivity=3.48**2),\n",
    "    td.Medium(permittivity=1.003**2),\n",
    ")\n",
    "\n",
    "sim = td.Simulation(\n",
    "    size=[10, 10, 10],\n",
    "    grid_spec=td.GridSpec.auto(wavelength=1.55),\n",
    "    structures=s,\n",
    "    run_time=1,\n",
    ")\n",
    "\n",
    "sim.plot_3d()"
   ]
  },
  {
   "cell_type": "markdown",
   "id": "48ce0bca",
   "metadata": {},
   "source": [
    "## Rectangular Grating"
   ]
  },
  {
   "cell_type": "markdown",
   "id": "44155ddc",
   "metadata": {},
   "source": [
    "The function `grating` returns a rectangular grating, with tunable height, thickness, tooth width, tooth height, tooth spacing, and tooth number."
   ]
  },
  {
   "cell_type": "code",
   "execution_count": 10,
   "id": "e4a205f0",
   "metadata": {
    "execution": {
     "iopub.execute_input": "2024-02-17T07:57:57.904071Z",
     "iopub.status.busy": "2024-02-17T07:57:57.903927Z",
     "iopub.status.idle": "2024-02-17T07:57:57.920962Z",
     "shell.execute_reply": "2024-02-17T07:57:57.920395Z"
    }
   },
   "outputs": [],
   "source": [
    "def grating(\n",
    "    x0,\n",
    "    y0,\n",
    "    z0,\n",
    "    tooth_width,\n",
    "    tooth_height,\n",
    "    spacing,\n",
    "    base_height,\n",
    "    thickness,\n",
    "    tooth_number,\n",
    "    medium,\n",
    "    reference_plane=\"bottom\",\n",
    "    sidewall_angle=0,\n",
    "    axis=2,\n",
    "):\n",
    "    # parameters\n",
    "    # ------------------------------------------------------------\n",
    "    # x0: x coordinate of center of the grating (um)\n",
    "    # y0: y coordinate of center of the grating (um)\n",
    "    # z0: z coordinate of center of the grating (um)\n",
    "    # tooth_width: width of each grating tooth (um)\n",
    "    # tooth_height: height of each tooth (um)\n",
    "    # spacing: spacing between teeth (um)\n",
    "    # base_height: height of underlying base (um)\n",
    "    # thickness: width of underlying base (um)\n",
    "    # tooth_number: number of teeth in grating\n",
    "    # medium: medium of the grating\n",
    "    # reference_plane\n",
    "    # sidewall_angle: angle of slant\n",
    "    # axis\n",
    "\n",
    "    x_length, z_length = (\n",
    "        tooth_width + spacing\n",
    "    ) * tooth_number - spacing, tooth_height + base_height\n",
    "    start_x, start_z = x0 - x_length / 2, z0 + z_length / 2\n",
    "    \n",
    "    axisArray = [0,1,2]\n",
    "\n",
    "    # create list of points as vertices for polyslab\n",
    "    points = [(start_x, start_z), (start_x + tooth_width, start_z)]\n",
    "    prevPoint = points[-1]\n",
    "    # adding points for teeth\n",
    "    for i in range(0, tooth_number - 1):\n",
    "        points.append((prevPoint[0], prevPoint[1] - tooth_height))\n",
    "        points.append((prevPoint[0] + spacing, prevPoint[1] - tooth_height))\n",
    "        points.append((prevPoint[0] + spacing, prevPoint[1]))\n",
    "        prevPoint = (prevPoint[0] + spacing + tooth_width, prevPoint[1])\n",
    "        points.append(prevPoint)\n",
    "    points.append((prevPoint[0], prevPoint[1] - z_length))\n",
    "    points.append((prevPoint[0] - x_length, prevPoint[1] - z_length))\n",
    "\n",
    "    grating = td.PolySlab(\n",
    "        vertices=points,\n",
    "        axis=axisArray[axis-1],\n",
    "        slab_bounds=(-thickness / 2, thickness / 2),\n",
    "        sidewall_angle=sidewall_angle,\n",
    "        reference_plane=reference_plane,\n",
    "    )\n",
    "\n",
    "    structure = td.Structure(geometry=grating, medium=medium)\n",
    "\n",
    "    return structure"
   ]
  },
  {
   "cell_type": "code",
   "execution_count": 11,
   "id": "3cac81e3",
   "metadata": {
    "execution": {
     "iopub.execute_input": "2024-02-17T07:57:57.922709Z",
     "iopub.status.busy": "2024-02-17T07:57:57.922567Z",
     "iopub.status.idle": "2024-02-17T07:57:57.942017Z",
     "shell.execute_reply": "2024-02-17T07:57:57.941526Z"
    }
   },
   "outputs": [
    {
     "data": {
      "text/html": [
       "\n",
       "    <iframe id=\"simulation-viewer170815667793934212\" src=https://feature-simulation-viewer.d3a9gfg7glllfq.amplifyapp.com/simulation-viewer?uuid=170815667793934212 width=\"800\" height=\"800\" allowfullscreen=\"true\"></iframe>\n",
       "    <script>\n",
       "        \n",
       "    window.postMessageToViewer170815667793934212 = event => {\n",
       "        if(event.data.type === 'viewer'&&event.data.uuid==='170815667793934212'){\n",
       "            document.getElementById('simulation-viewer170815667793934212').contentWindow.postMessage({ type: 'jupyter', uuid:'170815667793934212', value:{\"type\": \"Simulation\", \"center\": [0.0, 0.0, 0.0], \"size\": [10.0, 10.0, 10.0], \"medium\": {\"name\": null, \"frequency_range\": null, \"allow_gain\": false, \"nonlinear_spec\": null, \"modulation_spec\": null, \"heat_spec\": null, \"type\": \"Medium\", \"permittivity\": 1.0, \"conductivity\": 0.0}, \"structures\": [{\"geometry\": {\"type\": \"PolySlab\", \"axis\": 1, \"sidewall_angle\": 0.0, \"reference_plane\": \"bottom\", \"slab_bounds\": [-2.0, 2.0], \"dilation\": 0.0, \"vertices\": [[-2.85, 1.55], [-2.65, 1.55], [-2.65, 1.45], [-2.35, 1.45], [-2.35, 1.55], [-2.15, 1.55], [-2.15, 1.45], [-1.8499999999999999, 1.45], [-1.8499999999999999, 1.55], [-1.65, 1.55], [-1.65, 1.45], [-1.3499999999999999, 1.45], [-1.3499999999999999, 1.55], [-1.15, 1.55], [-1.15, 1.45], [-0.8499999999999999, 1.45], [-0.8499999999999999, 1.55], [-0.6499999999999999, 1.55], [-0.6499999999999999, 1.45], [-0.3499999999999999, 1.45], [-0.3499999999999999, 1.55], [-0.1499999999999999, 1.55], [-0.1499999999999999, 1.45], [0.15000000000000008, 1.45], [0.15000000000000008, 1.55], [0.3500000000000001, 1.55], [0.3500000000000001, 1.45], [0.6500000000000001, 1.45], [0.6500000000000001, 1.55], [0.8500000000000001, 1.55], [0.8500000000000001, 1.45], [1.1500000000000001, 1.45], [1.1500000000000001, 1.55], [1.35, 1.55], [1.35, 1.45], [1.6500000000000001, 1.45], [1.6500000000000001, 1.55], [1.85, 1.55], [1.85, 1.45], [2.15, 1.45], [2.15, 1.55], [2.35, 1.55], [2.35, 1.45], [2.65, 1.45], [2.65, 1.55], [2.85, 1.55], [2.85, -1.55], [-2.85, -1.55]]}, \"name\": null, \"type\": \"Structure\", \"medium\": {\"name\": null, \"frequency_range\": null, \"allow_gain\": false, \"nonlinear_spec\": null, \"modulation_spec\": null, \"heat_spec\": null, \"type\": \"Medium\", \"permittivity\": 12.1104, \"conductivity\": 0.0}}], \"symmetry\": [0, 0, 0], \"sources\": [], \"boundary_spec\": {\"x\": {\"plus\": {\"name\": null, \"type\": \"PML\", \"num_layers\": 12, \"parameters\": {\"sigma_order\": 3, \"sigma_min\": 0.0, \"sigma_max\": 1.5, \"type\": \"PMLParams\", \"kappa_order\": 3, \"kappa_min\": 1.0, \"kappa_max\": 3.0, \"alpha_order\": 1, \"alpha_min\": 0.0, \"alpha_max\": 0.0}}, \"minus\": {\"name\": null, \"type\": \"PML\", \"num_layers\": 12, \"parameters\": {\"sigma_order\": 3, \"sigma_min\": 0.0, \"sigma_max\": 1.5, \"type\": \"PMLParams\", \"kappa_order\": 3, \"kappa_min\": 1.0, \"kappa_max\": 3.0, \"alpha_order\": 1, \"alpha_min\": 0.0, \"alpha_max\": 0.0}}, \"type\": \"Boundary\"}, \"y\": {\"plus\": {\"name\": null, \"type\": \"PML\", \"num_layers\": 12, \"parameters\": {\"sigma_order\": 3, \"sigma_min\": 0.0, \"sigma_max\": 1.5, \"type\": \"PMLParams\", \"kappa_order\": 3, \"kappa_min\": 1.0, \"kappa_max\": 3.0, \"alpha_order\": 1, \"alpha_min\": 0.0, \"alpha_max\": 0.0}}, \"minus\": {\"name\": null, \"type\": \"PML\", \"num_layers\": 12, \"parameters\": {\"sigma_order\": 3, \"sigma_min\": 0.0, \"sigma_max\": 1.5, \"type\": \"PMLParams\", \"kappa_order\": 3, \"kappa_min\": 1.0, \"kappa_max\": 3.0, \"alpha_order\": 1, \"alpha_min\": 0.0, \"alpha_max\": 0.0}}, \"type\": \"Boundary\"}, \"z\": {\"plus\": {\"name\": null, \"type\": \"PML\", \"num_layers\": 12, \"parameters\": {\"sigma_order\": 3, \"sigma_min\": 0.0, \"sigma_max\": 1.5, \"type\": \"PMLParams\", \"kappa_order\": 3, \"kappa_min\": 1.0, \"kappa_max\": 3.0, \"alpha_order\": 1, \"alpha_min\": 0.0, \"alpha_max\": 0.0}}, \"minus\": {\"name\": null, \"type\": \"PML\", \"num_layers\": 12, \"parameters\": {\"sigma_order\": 3, \"sigma_min\": 0.0, \"sigma_max\": 1.5, \"type\": \"PMLParams\", \"kappa_order\": 3, \"kappa_min\": 1.0, \"kappa_max\": 3.0, \"alpha_order\": 1, \"alpha_min\": 0.0, \"alpha_max\": 0.0}}, \"type\": \"Boundary\"}, \"type\": \"BoundarySpec\"}, \"monitors\": [], \"grid_spec\": {\"grid_x\": {\"type\": \"AutoGrid\", \"min_steps_per_wvl\": 10.0, \"max_scale\": 1.4, \"dl_min\": 0.0, \"mesher\": {\"type\": \"GradedMesher\"}}, \"grid_y\": {\"type\": \"AutoGrid\", \"min_steps_per_wvl\": 10.0, \"max_scale\": 1.4, \"dl_min\": 0.0, \"mesher\": {\"type\": \"GradedMesher\"}}, \"grid_z\": {\"type\": \"AutoGrid\", \"min_steps_per_wvl\": 10.0, \"max_scale\": 1.4, \"dl_min\": 0.0, \"mesher\": {\"type\": \"GradedMesher\"}}, \"wavelength\": 1.55, \"override_structures\": [], \"type\": \"GridSpec\"}, \"version\": \"2.6.0\", \"run_time\": 1.0, \"shutoff\": 1e-05, \"subpixel\": true, \"normalize_index\": 0, \"courant\": 0.99}}, '*')\n",
       "        }\n",
       "    };\n",
       "    window.addEventListener(\n",
       "        'message',\n",
       "        window.postMessageToViewer170815667793934212,\n",
       "        false\n",
       "    );\n",
       "    \n",
       "    </script>\n",
       "    "
      ],
      "text/plain": [
       "<IPython.core.display.HTML object>"
      ]
     },
     "metadata": {},
     "output_type": "display_data"
    }
   ],
   "source": [
    "s = grating(0, 0, 0, 0.2, 0.1, 0.3, 3, 4, 12, td.Medium(permittivity=3.48**2))\n",
    "\n",
    "sim = td.Simulation(\n",
    "    size=[10, 10, 10], grid_spec=td.GridSpec.auto(wavelength=1.55), structures=[s], run_time=1\n",
    ")\n",
    "\n",
    "sim.plot_3d()"
   ]
  },
  {
   "cell_type": "markdown",
   "id": "be33cdad",
   "metadata": {},
   "source": [
    "## L Cavity"
   ]
  },
  {
   "cell_type": "markdown",
   "id": "b0de5a80",
   "metadata": {},
   "source": [
    "The function `hex_l_cavity` returns a hexagonal array of cylinders with an L cavity. It has tunable cylinder radius, cylinder spacing, height, cavity size, and separately tunable radii of cavity-bordering cylinders."
   ]
  },
  {
   "cell_type": "code",
   "execution_count": 12,
   "id": "2c257568",
   "metadata": {
    "execution": {
     "iopub.execute_input": "2024-02-17T07:57:57.943939Z",
     "iopub.status.busy": "2024-02-17T07:57:57.943796Z",
     "iopub.status.idle": "2024-02-17T07:57:57.960403Z",
     "shell.execute_reply": "2024-02-17T07:57:57.959927Z"
    }
   },
   "outputs": [],
   "source": [
    "def hex_l_cavity(\n",
    "    x0,\n",
    "    y0,\n",
    "    z0,\n",
    "    R,\n",
    "    side_R,\n",
    "    spacing_x,\n",
    "    spacing_y,\n",
    "    n_x,\n",
    "    n_y,\n",
    "    l_number,\n",
    "    height,\n",
    "    medium,\n",
    "    reference_plane=\"bottom\",\n",
    "    sidewall_angle=0,\n",
    "    axis=2,\n",
    "):\n",
    "    # parameters\n",
    "    # ------------------------------------------------------------\n",
    "    # x0: x coordinate of center of the array (um)\n",
    "    # y0: y coordinate of center of the array (um)\n",
    "    # z0: z coordinate of center of the array (um)\n",
    "    # R: radius of the cylinders (um)\n",
    "    # side_R: radii of the two ends of the L-cavity (um)\n",
    "    # hole_spacing_x: distance between centers of cylinders in x direction (um)\n",
    "    # hole_spacing_y: distance between centers of cylinders in y direction (um)\n",
    "    # n_x: number of cylinders in x direction\n",
    "    # n_y: number of cylinders in y direction\n",
    "    # l_number: number of cylinders removed from center (along x direction)\n",
    "    # height: height of cylinders\n",
    "    # medium: medium of the cylinders\n",
    "    # reference_plane\n",
    "    # sidewall_angle: angle slant of cylinders\n",
    "    # axis\n",
    "\n",
    "    cylinders = []\n",
    "    if n_y % 2 == 0:\n",
    "        n_y -= 1  # only odd numbers for n_y work for symmetry\n",
    "\n",
    "    n_middle = n_x - n_x % 2 + l_number % 2\n",
    "\n",
    "    for i in range(-(n_y // 2), n_y // 2 + 1):  # go up columns\n",
    "        n_row = (\n",
    "            n_middle + (i % 2) * (-1) ** l_number\n",
    "        )  # calculates number of cylinders in current row\n",
    "        for j in range(-n_row + 1, n_row + 1, 2):  # go along rows\n",
    "            if i != 0 or abs(j) > l_number:  # don't populate cavity with cylinders\n",
    "                var_radius = R\n",
    "                if i == 0 and (abs(j) == l_number + 1):  # checks if cylinder is on side of cavity\n",
    "                    var_radius = side_R\n",
    "                c = td.Cylinder(\n",
    "                    axis=axis,\n",
    "                    sidewall_angle=sidewall_angle,\n",
    "                    reference_plane=reference_plane,\n",
    "                    radius=var_radius,\n",
    "                    center=(x0 + j * spacing_x, y0 + i * spacing_y, z0),\n",
    "                    length=height,\n",
    "                )\n",
    "                cylinders.append(c)\n",
    "    structure = td.Structure(geometry=td.GeometryGroup(geometries=cylinders), medium=medium)\n",
    "    return structure"
   ]
  },
  {
   "cell_type": "code",
   "execution_count": 13,
   "id": "86418339",
   "metadata": {
    "execution": {
     "iopub.execute_input": "2024-02-17T07:57:57.962206Z",
     "iopub.status.busy": "2024-02-17T07:57:57.962065Z",
     "iopub.status.idle": "2024-02-17T07:57:57.985069Z",
     "shell.execute_reply": "2024-02-17T07:57:57.984554Z"
    }
   },
   "outputs": [
    {
     "data": {
      "text/html": [
       "\n",
       "    <iframe id=\"simulation-viewer170815667798188847\" src=https://feature-simulation-viewer.d3a9gfg7glllfq.amplifyapp.com/simulation-viewer?uuid=170815667798188847 width=\"800\" height=\"800\" allowfullscreen=\"true\"></iframe>\n",
       "    <script>\n",
       "        \n",
       "    window.postMessageToViewer170815667798188847 = event => {\n",
       "        if(event.data.type === 'viewer'&&event.data.uuid==='170815667798188847'){\n",
       "            document.getElementById('simulation-viewer170815667798188847').contentWindow.postMessage({ type: 'jupyter', uuid:'170815667798188847', value:{\"type\": \"Simulation\", \"center\": [0.0, 0.0, 0.0], \"size\": [15.0, 10.0, 3.0], \"medium\": {\"name\": null, \"frequency_range\": null, \"allow_gain\": false, \"nonlinear_spec\": null, \"modulation_spec\": null, \"heat_spec\": null, \"type\": \"Medium\", \"permittivity\": 1.0, \"conductivity\": 0.0}, \"structures\": [{\"geometry\": {\"type\": \"GeometryGroup\", \"geometries\": [{\"type\": \"Cylinder\", \"axis\": 2, \"sidewall_angle\": 0.0, \"reference_plane\": \"bottom\", \"radius\": 0.3, \"center\": [-5.6000000000000005, -3.6, 0.0], \"length\": 1.0}, {\"type\": \"Cylinder\", \"axis\": 2, \"sidewall_angle\": 0.0, \"reference_plane\": \"bottom\", \"radius\": 0.3, \"center\": [-4.0, -3.6, 0.0], \"length\": 1.0}, {\"type\": \"Cylinder\", \"axis\": 2, \"sidewall_angle\": 0.0, \"reference_plane\": \"bottom\", \"radius\": 0.3, \"center\": [-2.4000000000000004, -3.6, 0.0], \"length\": 1.0}, {\"type\": \"Cylinder\", \"axis\": 2, \"sidewall_angle\": 0.0, \"reference_plane\": \"bottom\", \"radius\": 0.3, \"center\": [-0.8, -3.6, 0.0], \"length\": 1.0}, {\"type\": \"Cylinder\", \"axis\": 2, \"sidewall_angle\": 0.0, \"reference_plane\": \"bottom\", \"radius\": 0.3, \"center\": [0.8, -3.6, 0.0], \"length\": 1.0}, {\"type\": \"Cylinder\", \"axis\": 2, \"sidewall_angle\": 0.0, \"reference_plane\": \"bottom\", \"radius\": 0.3, \"center\": [2.4000000000000004, -3.6, 0.0], \"length\": 1.0}, {\"type\": \"Cylinder\", \"axis\": 2, \"sidewall_angle\": 0.0, \"reference_plane\": \"bottom\", \"radius\": 0.3, \"center\": [4.0, -3.6, 0.0], \"length\": 1.0}, {\"type\": \"Cylinder\", \"axis\": 2, \"sidewall_angle\": 0.0, \"reference_plane\": \"bottom\", \"radius\": 0.3, \"center\": [5.6000000000000005, -3.6, 0.0], \"length\": 1.0}, {\"type\": \"Cylinder\", \"axis\": 2, \"sidewall_angle\": 0.0, \"reference_plane\": \"bottom\", \"radius\": 0.3, \"center\": [-6.4, -2.7, 0.0], \"length\": 1.0}, {\"type\": \"Cylinder\", \"axis\": 2, \"sidewall_angle\": 0.0, \"reference_plane\": \"bottom\", \"radius\": 0.3, \"center\": [-4.800000000000001, -2.7, 0.0], \"length\": 1.0}, {\"type\": \"Cylinder\", \"axis\": 2, \"sidewall_angle\": 0.0, \"reference_plane\": \"bottom\", \"radius\": 0.3, \"center\": [-3.2, -2.7, 0.0], \"length\": 1.0}, {\"type\": \"Cylinder\", \"axis\": 2, \"sidewall_angle\": 0.0, \"reference_plane\": \"bottom\", \"radius\": 0.3, \"center\": [-1.6, -2.7, 0.0], \"length\": 1.0}, {\"type\": \"Cylinder\", \"axis\": 2, \"sidewall_angle\": 0.0, \"reference_plane\": \"bottom\", \"radius\": 0.3, \"center\": [0.0, -2.7, 0.0], \"length\": 1.0}, {\"type\": \"Cylinder\", \"axis\": 2, \"sidewall_angle\": 0.0, \"reference_plane\": \"bottom\", \"radius\": 0.3, \"center\": [1.6, -2.7, 0.0], \"length\": 1.0}, {\"type\": \"Cylinder\", \"axis\": 2, \"sidewall_angle\": 0.0, \"reference_plane\": \"bottom\", \"radius\": 0.3, \"center\": [3.2, -2.7, 0.0], \"length\": 1.0}, {\"type\": \"Cylinder\", \"axis\": 2, \"sidewall_angle\": 0.0, \"reference_plane\": \"bottom\", \"radius\": 0.3, \"center\": [4.800000000000001, -2.7, 0.0], \"length\": 1.0}, {\"type\": \"Cylinder\", \"axis\": 2, \"sidewall_angle\": 0.0, \"reference_plane\": \"bottom\", \"radius\": 0.3, \"center\": [6.4, -2.7, 0.0], \"length\": 1.0}, {\"type\": \"Cylinder\", \"axis\": 2, \"sidewall_angle\": 0.0, \"reference_plane\": \"bottom\", \"radius\": 0.3, \"center\": [-5.6000000000000005, -1.8, 0.0], \"length\": 1.0}, {\"type\": \"Cylinder\", \"axis\": 2, \"sidewall_angle\": 0.0, \"reference_plane\": \"bottom\", \"radius\": 0.3, \"center\": [-4.0, -1.8, 0.0], \"length\": 1.0}, {\"type\": \"Cylinder\", \"axis\": 2, \"sidewall_angle\": 0.0, \"reference_plane\": \"bottom\", \"radius\": 0.3, \"center\": [-2.4000000000000004, -1.8, 0.0], \"length\": 1.0}, {\"type\": \"Cylinder\", \"axis\": 2, \"sidewall_angle\": 0.0, \"reference_plane\": \"bottom\", \"radius\": 0.3, \"center\": [-0.8, -1.8, 0.0], \"length\": 1.0}, {\"type\": \"Cylinder\", \"axis\": 2, \"sidewall_angle\": 0.0, \"reference_plane\": \"bottom\", \"radius\": 0.3, \"center\": [0.8, -1.8, 0.0], \"length\": 1.0}, {\"type\": \"Cylinder\", \"axis\": 2, \"sidewall_angle\": 0.0, \"reference_plane\": \"bottom\", \"radius\": 0.3, \"center\": [2.4000000000000004, -1.8, 0.0], \"length\": 1.0}, {\"type\": \"Cylinder\", \"axis\": 2, \"sidewall_angle\": 0.0, \"reference_plane\": \"bottom\", \"radius\": 0.3, \"center\": [4.0, -1.8, 0.0], \"length\": 1.0}, {\"type\": \"Cylinder\", \"axis\": 2, \"sidewall_angle\": 0.0, \"reference_plane\": \"bottom\", \"radius\": 0.3, \"center\": [5.6000000000000005, -1.8, 0.0], \"length\": 1.0}, {\"type\": \"Cylinder\", \"axis\": 2, \"sidewall_angle\": 0.0, \"reference_plane\": \"bottom\", \"radius\": 0.3, \"center\": [-6.4, -0.9, 0.0], \"length\": 1.0}, {\"type\": \"Cylinder\", \"axis\": 2, \"sidewall_angle\": 0.0, \"reference_plane\": \"bottom\", \"radius\": 0.3, \"center\": [-4.800000000000001, -0.9, 0.0], \"length\": 1.0}, {\"type\": \"Cylinder\", \"axis\": 2, \"sidewall_angle\": 0.0, \"reference_plane\": \"bottom\", \"radius\": 0.3, \"center\": [-3.2, -0.9, 0.0], \"length\": 1.0}, {\"type\": \"Cylinder\", \"axis\": 2, \"sidewall_angle\": 0.0, \"reference_plane\": \"bottom\", \"radius\": 0.3, \"center\": [-1.6, -0.9, 0.0], \"length\": 1.0}, {\"type\": \"Cylinder\", \"axis\": 2, \"sidewall_angle\": 0.0, \"reference_plane\": \"bottom\", \"radius\": 0.3, \"center\": [0.0, -0.9, 0.0], \"length\": 1.0}, {\"type\": \"Cylinder\", \"axis\": 2, \"sidewall_angle\": 0.0, \"reference_plane\": \"bottom\", \"radius\": 0.3, \"center\": [1.6, -0.9, 0.0], \"length\": 1.0}, {\"type\": \"Cylinder\", \"axis\": 2, \"sidewall_angle\": 0.0, \"reference_plane\": \"bottom\", \"radius\": 0.3, \"center\": [3.2, -0.9, 0.0], \"length\": 1.0}, {\"type\": \"Cylinder\", \"axis\": 2, \"sidewall_angle\": 0.0, \"reference_plane\": \"bottom\", \"radius\": 0.3, \"center\": [4.800000000000001, -0.9, 0.0], \"length\": 1.0}, {\"type\": \"Cylinder\", \"axis\": 2, \"sidewall_angle\": 0.0, \"reference_plane\": \"bottom\", \"radius\": 0.3, \"center\": [6.4, -0.9, 0.0], \"length\": 1.0}, {\"type\": \"Cylinder\", \"axis\": 2, \"sidewall_angle\": 0.0, \"reference_plane\": \"bottom\", \"radius\": 0.3, \"center\": [-5.6000000000000005, 0.0, 0.0], \"length\": 1.0}, {\"type\": \"Cylinder\", \"axis\": 2, \"sidewall_angle\": 0.0, \"reference_plane\": \"bottom\", \"radius\": 0.3, \"center\": [-4.0, 0.0, 0.0], \"length\": 1.0}, {\"type\": \"Cylinder\", \"axis\": 2, \"sidewall_angle\": 0.0, \"reference_plane\": \"bottom\", \"radius\": 0.2, \"center\": [-2.4000000000000004, 0.0, 0.0], \"length\": 1.0}, {\"type\": \"Cylinder\", \"axis\": 2, \"sidewall_angle\": 0.0, \"reference_plane\": \"bottom\", \"radius\": 0.2, \"center\": [2.4000000000000004, 0.0, 0.0], \"length\": 1.0}, {\"type\": \"Cylinder\", \"axis\": 2, \"sidewall_angle\": 0.0, \"reference_plane\": \"bottom\", \"radius\": 0.3, \"center\": [4.0, 0.0, 0.0], \"length\": 1.0}, {\"type\": \"Cylinder\", \"axis\": 2, \"sidewall_angle\": 0.0, \"reference_plane\": \"bottom\", \"radius\": 0.3, \"center\": [5.6000000000000005, 0.0, 0.0], \"length\": 1.0}, {\"type\": \"Cylinder\", \"axis\": 2, \"sidewall_angle\": 0.0, \"reference_plane\": \"bottom\", \"radius\": 0.3, \"center\": [-6.4, 0.9, 0.0], \"length\": 1.0}, {\"type\": \"Cylinder\", \"axis\": 2, \"sidewall_angle\": 0.0, \"reference_plane\": \"bottom\", \"radius\": 0.3, \"center\": [-4.800000000000001, 0.9, 0.0], \"length\": 1.0}, {\"type\": \"Cylinder\", \"axis\": 2, \"sidewall_angle\": 0.0, \"reference_plane\": \"bottom\", \"radius\": 0.3, \"center\": [-3.2, 0.9, 0.0], \"length\": 1.0}, {\"type\": \"Cylinder\", \"axis\": 2, \"sidewall_angle\": 0.0, \"reference_plane\": \"bottom\", \"radius\": 0.3, \"center\": [-1.6, 0.9, 0.0], \"length\": 1.0}, {\"type\": \"Cylinder\", \"axis\": 2, \"sidewall_angle\": 0.0, \"reference_plane\": \"bottom\", \"radius\": 0.3, \"center\": [0.0, 0.9, 0.0], \"length\": 1.0}, {\"type\": \"Cylinder\", \"axis\": 2, \"sidewall_angle\": 0.0, \"reference_plane\": \"bottom\", \"radius\": 0.3, \"center\": [1.6, 0.9, 0.0], \"length\": 1.0}, {\"type\": \"Cylinder\", \"axis\": 2, \"sidewall_angle\": 0.0, \"reference_plane\": \"bottom\", \"radius\": 0.3, \"center\": [3.2, 0.9, 0.0], \"length\": 1.0}, {\"type\": \"Cylinder\", \"axis\": 2, \"sidewall_angle\": 0.0, \"reference_plane\": \"bottom\", \"radius\": 0.3, \"center\": [4.800000000000001, 0.9, 0.0], \"length\": 1.0}, {\"type\": \"Cylinder\", \"axis\": 2, \"sidewall_angle\": 0.0, \"reference_plane\": \"bottom\", \"radius\": 0.3, \"center\": [6.4, 0.9, 0.0], \"length\": 1.0}, {\"type\": \"Cylinder\", \"axis\": 2, \"sidewall_angle\": 0.0, \"reference_plane\": \"bottom\", \"radius\": 0.3, \"center\": [-5.6000000000000005, 1.8, 0.0], \"length\": 1.0}, {\"type\": \"Cylinder\", \"axis\": 2, \"sidewall_angle\": 0.0, \"reference_plane\": \"bottom\", \"radius\": 0.3, \"center\": [-4.0, 1.8, 0.0], \"length\": 1.0}, {\"type\": \"Cylinder\", \"axis\": 2, \"sidewall_angle\": 0.0, \"reference_plane\": \"bottom\", \"radius\": 0.3, \"center\": [-2.4000000000000004, 1.8, 0.0], \"length\": 1.0}, {\"type\": \"Cylinder\", \"axis\": 2, \"sidewall_angle\": 0.0, \"reference_plane\": \"bottom\", \"radius\": 0.3, \"center\": [-0.8, 1.8, 0.0], \"length\": 1.0}, {\"type\": \"Cylinder\", \"axis\": 2, \"sidewall_angle\": 0.0, \"reference_plane\": \"bottom\", \"radius\": 0.3, \"center\": [0.8, 1.8, 0.0], \"length\": 1.0}, {\"type\": \"Cylinder\", \"axis\": 2, \"sidewall_angle\": 0.0, \"reference_plane\": \"bottom\", \"radius\": 0.3, \"center\": [2.4000000000000004, 1.8, 0.0], \"length\": 1.0}, {\"type\": \"Cylinder\", \"axis\": 2, \"sidewall_angle\": 0.0, \"reference_plane\": \"bottom\", \"radius\": 0.3, \"center\": [4.0, 1.8, 0.0], \"length\": 1.0}, {\"type\": \"Cylinder\", \"axis\": 2, \"sidewall_angle\": 0.0, \"reference_plane\": \"bottom\", \"radius\": 0.3, \"center\": [5.6000000000000005, 1.8, 0.0], \"length\": 1.0}, {\"type\": \"Cylinder\", \"axis\": 2, \"sidewall_angle\": 0.0, \"reference_plane\": \"bottom\", \"radius\": 0.3, \"center\": [-6.4, 2.7, 0.0], \"length\": 1.0}, {\"type\": \"Cylinder\", \"axis\": 2, \"sidewall_angle\": 0.0, \"reference_plane\": \"bottom\", \"radius\": 0.3, \"center\": [-4.800000000000001, 2.7, 0.0], \"length\": 1.0}, {\"type\": \"Cylinder\", \"axis\": 2, \"sidewall_angle\": 0.0, \"reference_plane\": \"bottom\", \"radius\": 0.3, \"center\": [-3.2, 2.7, 0.0], \"length\": 1.0}, {\"type\": \"Cylinder\", \"axis\": 2, \"sidewall_angle\": 0.0, \"reference_plane\": \"bottom\", \"radius\": 0.3, \"center\": [-1.6, 2.7, 0.0], \"length\": 1.0}, {\"type\": \"Cylinder\", \"axis\": 2, \"sidewall_angle\": 0.0, \"reference_plane\": \"bottom\", \"radius\": 0.3, \"center\": [0.0, 2.7, 0.0], \"length\": 1.0}, {\"type\": \"Cylinder\", \"axis\": 2, \"sidewall_angle\": 0.0, \"reference_plane\": \"bottom\", \"radius\": 0.3, \"center\": [1.6, 2.7, 0.0], \"length\": 1.0}, {\"type\": \"Cylinder\", \"axis\": 2, \"sidewall_angle\": 0.0, \"reference_plane\": \"bottom\", \"radius\": 0.3, \"center\": [3.2, 2.7, 0.0], \"length\": 1.0}, {\"type\": \"Cylinder\", \"axis\": 2, \"sidewall_angle\": 0.0, \"reference_plane\": \"bottom\", \"radius\": 0.3, \"center\": [4.800000000000001, 2.7, 0.0], \"length\": 1.0}, {\"type\": \"Cylinder\", \"axis\": 2, \"sidewall_angle\": 0.0, \"reference_plane\": \"bottom\", \"radius\": 0.3, \"center\": [6.4, 2.7, 0.0], \"length\": 1.0}, {\"type\": \"Cylinder\", \"axis\": 2, \"sidewall_angle\": 0.0, \"reference_plane\": \"bottom\", \"radius\": 0.3, \"center\": [-5.6000000000000005, 3.6, 0.0], \"length\": 1.0}, {\"type\": \"Cylinder\", \"axis\": 2, \"sidewall_angle\": 0.0, \"reference_plane\": \"bottom\", \"radius\": 0.3, \"center\": [-4.0, 3.6, 0.0], \"length\": 1.0}, {\"type\": \"Cylinder\", \"axis\": 2, \"sidewall_angle\": 0.0, \"reference_plane\": \"bottom\", \"radius\": 0.3, \"center\": [-2.4000000000000004, 3.6, 0.0], \"length\": 1.0}, {\"type\": \"Cylinder\", \"axis\": 2, \"sidewall_angle\": 0.0, \"reference_plane\": \"bottom\", \"radius\": 0.3, \"center\": [-0.8, 3.6, 0.0], \"length\": 1.0}, {\"type\": \"Cylinder\", \"axis\": 2, \"sidewall_angle\": 0.0, \"reference_plane\": \"bottom\", \"radius\": 0.3, \"center\": [0.8, 3.6, 0.0], \"length\": 1.0}, {\"type\": \"Cylinder\", \"axis\": 2, \"sidewall_angle\": 0.0, \"reference_plane\": \"bottom\", \"radius\": 0.3, \"center\": [2.4000000000000004, 3.6, 0.0], \"length\": 1.0}, {\"type\": \"Cylinder\", \"axis\": 2, \"sidewall_angle\": 0.0, \"reference_plane\": \"bottom\", \"radius\": 0.3, \"center\": [4.0, 3.6, 0.0], \"length\": 1.0}, {\"type\": \"Cylinder\", \"axis\": 2, \"sidewall_angle\": 0.0, \"reference_plane\": \"bottom\", \"radius\": 0.3, \"center\": [5.6000000000000005, 3.6, 0.0], \"length\": 1.0}]}, \"name\": null, \"type\": \"Structure\", \"medium\": {\"name\": null, \"frequency_range\": null, \"allow_gain\": false, \"nonlinear_spec\": null, \"modulation_spec\": null, \"heat_spec\": null, \"type\": \"Medium\", \"permittivity\": 12.1104, \"conductivity\": 0.0}}], \"symmetry\": [0, 0, 0], \"sources\": [], \"boundary_spec\": {\"x\": {\"plus\": {\"name\": null, \"type\": \"PML\", \"num_layers\": 12, \"parameters\": {\"sigma_order\": 3, \"sigma_min\": 0.0, \"sigma_max\": 1.5, \"type\": \"PMLParams\", \"kappa_order\": 3, \"kappa_min\": 1.0, \"kappa_max\": 3.0, \"alpha_order\": 1, \"alpha_min\": 0.0, \"alpha_max\": 0.0}}, \"minus\": {\"name\": null, \"type\": \"PML\", \"num_layers\": 12, \"parameters\": {\"sigma_order\": 3, \"sigma_min\": 0.0, \"sigma_max\": 1.5, \"type\": \"PMLParams\", \"kappa_order\": 3, \"kappa_min\": 1.0, \"kappa_max\": 3.0, \"alpha_order\": 1, \"alpha_min\": 0.0, \"alpha_max\": 0.0}}, \"type\": \"Boundary\"}, \"y\": {\"plus\": {\"name\": null, \"type\": \"PML\", \"num_layers\": 12, \"parameters\": {\"sigma_order\": 3, \"sigma_min\": 0.0, \"sigma_max\": 1.5, \"type\": \"PMLParams\", \"kappa_order\": 3, \"kappa_min\": 1.0, \"kappa_max\": 3.0, \"alpha_order\": 1, \"alpha_min\": 0.0, \"alpha_max\": 0.0}}, \"minus\": {\"name\": null, \"type\": \"PML\", \"num_layers\": 12, \"parameters\": {\"sigma_order\": 3, \"sigma_min\": 0.0, \"sigma_max\": 1.5, \"type\": \"PMLParams\", \"kappa_order\": 3, \"kappa_min\": 1.0, \"kappa_max\": 3.0, \"alpha_order\": 1, \"alpha_min\": 0.0, \"alpha_max\": 0.0}}, \"type\": \"Boundary\"}, \"z\": {\"plus\": {\"name\": null, \"type\": \"PML\", \"num_layers\": 12, \"parameters\": {\"sigma_order\": 3, \"sigma_min\": 0.0, \"sigma_max\": 1.5, \"type\": \"PMLParams\", \"kappa_order\": 3, \"kappa_min\": 1.0, \"kappa_max\": 3.0, \"alpha_order\": 1, \"alpha_min\": 0.0, \"alpha_max\": 0.0}}, \"minus\": {\"name\": null, \"type\": \"PML\", \"num_layers\": 12, \"parameters\": {\"sigma_order\": 3, \"sigma_min\": 0.0, \"sigma_max\": 1.5, \"type\": \"PMLParams\", \"kappa_order\": 3, \"kappa_min\": 1.0, \"kappa_max\": 3.0, \"alpha_order\": 1, \"alpha_min\": 0.0, \"alpha_max\": 0.0}}, \"type\": \"Boundary\"}, \"type\": \"BoundarySpec\"}, \"monitors\": [], \"grid_spec\": {\"grid_x\": {\"type\": \"AutoGrid\", \"min_steps_per_wvl\": 10.0, \"max_scale\": 1.4, \"dl_min\": 0.0, \"mesher\": {\"type\": \"GradedMesher\"}}, \"grid_y\": {\"type\": \"AutoGrid\", \"min_steps_per_wvl\": 10.0, \"max_scale\": 1.4, \"dl_min\": 0.0, \"mesher\": {\"type\": \"GradedMesher\"}}, \"grid_z\": {\"type\": \"AutoGrid\", \"min_steps_per_wvl\": 10.0, \"max_scale\": 1.4, \"dl_min\": 0.0, \"mesher\": {\"type\": \"GradedMesher\"}}, \"wavelength\": 1.55, \"override_structures\": [], \"type\": \"GridSpec\"}, \"version\": \"2.6.0\", \"run_time\": 1.0, \"shutoff\": 1e-05, \"subpixel\": true, \"normalize_index\": 0, \"courant\": 0.99}}, '*')\n",
       "        }\n",
       "    };\n",
       "    window.addEventListener(\n",
       "        'message',\n",
       "        window.postMessageToViewer170815667798188847,\n",
       "        false\n",
       "    );\n",
       "    \n",
       "    </script>\n",
       "    "
      ],
      "text/plain": [
       "<IPython.core.display.HTML object>"
      ]
     },
     "metadata": {},
     "output_type": "display_data"
    }
   ],
   "source": [
    "s = hex_l_cavity(0, 0, 0, 0.3, 0.2, 0.8, 0.9, 8, 10, 2, 1, td.Medium(permittivity=3.48**2))\n",
    "\n",
    "sim = td.Simulation(\n",
    "    size=[15, 10, 3], grid_spec=td.GridSpec.auto(wavelength=1.55), structures=[s], run_time=1\n",
    ")\n",
    "\n",
    "sim.plot_3d()"
   ]
  },
  {
   "cell_type": "markdown",
   "id": "fc80254d",
   "metadata": {},
   "source": [
    "## H Cavity "
   ]
  },
  {
   "cell_type": "markdown",
   "id": "0d341d02",
   "metadata": {},
   "source": [
    "The function `hex_h_cavity` returns a hexagon-shaped hexagonal array of cylinders with a hexagon-shaped cavity in the middle. Tunable cylinder radius, spacing, height, length in cylinders, and cavity size."
   ]
  },
  {
   "cell_type": "code",
   "execution_count": 14,
   "id": "508bfaec",
   "metadata": {
    "execution": {
     "iopub.execute_input": "2024-02-17T07:57:57.986951Z",
     "iopub.status.busy": "2024-02-17T07:57:57.986810Z",
     "iopub.status.idle": "2024-02-17T07:57:58.002950Z",
     "shell.execute_reply": "2024-02-17T07:57:58.002380Z"
    }
   },
   "outputs": [],
   "source": [
    "def hex_h_cavity(\n",
    "    x0,\n",
    "    y0,\n",
    "    z0,\n",
    "    R,\n",
    "    n_side,\n",
    "    h_number,\n",
    "    spacing,\n",
    "    height,\n",
    "    medium,\n",
    "    reference_plane=\"bottom\",\n",
    "    sidewall_angle=0,\n",
    "    axis=2,\n",
    "):\n",
    "    # parameters\n",
    "    # ------------------------------------------------------------\n",
    "    # x0: x coordinate of center of the array (um)\n",
    "    # y0: y coordinate of center of the array (um)\n",
    "    # z0: z coordinate of center of the array (um)\n",
    "    # R: radius of the cylinders (um)\n",
    "    # n_side: maximum number of cylinders on hexagon side\n",
    "    # h_number: maximum side number of hexagons that are removed\n",
    "    # spacing: spacing between centers of cylinders\n",
    "    # height: height of cylinders\n",
    "    # medium: medium of the cylinders\n",
    "    # reference_plane\n",
    "    # sidewall_angle: angle slant of cylinders\n",
    "    # axis\n",
    "\n",
    "    cylinders = []\n",
    "    for i in range(h_number + 1, n_side + 1):  # hexagon side length\n",
    "        center_x, center_y = x0 + (i - 1) * spacing, y0\n",
    "        for j in range(0, 6 - 5 * (i == 1)):  # iterate through hexagon sides\n",
    "            for k in range(0, i - 1 + (i == 1)):  # iterate along each hexagon side\n",
    "                center_x += spacing * np.cos(np.pi * 2 / 3 + j * np.pi / 3) * (i > 1)\n",
    "                center_y += spacing * np.sin(np.pi * 2 / 3 + j * np.pi / 3) * (i > 1)\n",
    "                c = td.Cylinder(\n",
    "                    axis=axis,\n",
    "                    sidewall_angle=sidewall_angle,\n",
    "                    reference_plane=reference_plane,\n",
    "                    radius=R,\n",
    "                    center=(center_x, center_y, z0),\n",
    "                    length=height,\n",
    "                )\n",
    "                cylinders.append(c)\n",
    "    structure = td.Structure(geometry=td.GeometryGroup(geometries=cylinders), medium=medium)\n",
    "    return structure"
   ]
  },
  {
   "cell_type": "code",
   "execution_count": 15,
   "id": "e3a54fad",
   "metadata": {
    "execution": {
     "iopub.execute_input": "2024-02-17T07:57:58.004743Z",
     "iopub.status.busy": "2024-02-17T07:57:58.004601Z",
     "iopub.status.idle": "2024-02-17T07:57:58.028850Z",
     "shell.execute_reply": "2024-02-17T07:57:58.028362Z"
    }
   },
   "outputs": [
    {
     "data": {
      "text/html": [
       "\n",
       "    <iframe id=\"simulation-viewer170815667802488889\" src=https://feature-simulation-viewer.d3a9gfg7glllfq.amplifyapp.com/simulation-viewer?uuid=170815667802488889 width=\"800\" height=\"800\" allowfullscreen=\"true\"></iframe>\n",
       "    <script>\n",
       "        \n",
       "    window.postMessageToViewer170815667802488889 = event => {\n",
       "        if(event.data.type === 'viewer'&&event.data.uuid==='170815667802488889'){\n",
       "            document.getElementById('simulation-viewer170815667802488889').contentWindow.postMessage({ type: 'jupyter', uuid:'170815667802488889', value:{\"type\": \"Simulation\", \"center\": [0.0, 0.0, 0.0], \"size\": [10.0, 10.0, 3.0], \"medium\": {\"name\": null, \"frequency_range\": null, \"allow_gain\": false, \"nonlinear_spec\": null, \"modulation_spec\": null, \"heat_spec\": null, \"type\": \"Medium\", \"permittivity\": 1.0, \"conductivity\": 0.0}, \"structures\": [{\"geometry\": {\"type\": \"GeometryGroup\", \"geometries\": [{\"type\": \"Cylinder\", \"axis\": 2, \"sidewall_angle\": 0.0, \"reference_plane\": \"bottom\", \"radius\": 0.3, \"center\": [1.2000000000000002, 0.692820323027551, 0.0], \"length\": 1.0}, {\"type\": \"Cylinder\", \"axis\": 2, \"sidewall_angle\": 0.0, \"reference_plane\": \"bottom\", \"radius\": 0.3, \"center\": [0.8000000000000003, 1.385640646055102, 0.0], \"length\": 1.0}, {\"type\": \"Cylinder\", \"axis\": 2, \"sidewall_angle\": 0.0, \"reference_plane\": \"bottom\", \"radius\": 0.3, \"center\": [2.220446049250313e-16, 1.385640646055102, 0.0], \"length\": 1.0}, {\"type\": \"Cylinder\", \"axis\": 2, \"sidewall_angle\": 0.0, \"reference_plane\": \"bottom\", \"radius\": 0.3, \"center\": [-0.7999999999999998, 1.385640646055102, 0.0], \"length\": 1.0}, {\"type\": \"Cylinder\", \"axis\": 2, \"sidewall_angle\": 0.0, \"reference_plane\": \"bottom\", \"radius\": 0.3, \"center\": [-1.2000000000000002, 0.6928203230275514, 0.0], \"length\": 1.0}, {\"type\": \"Cylinder\", \"axis\": 2, \"sidewall_angle\": 0.0, \"reference_plane\": \"bottom\", \"radius\": 0.3, \"center\": [-1.6000000000000005, 6.661338147750939e-16, 0.0], \"length\": 1.0}, {\"type\": \"Cylinder\", \"axis\": 2, \"sidewall_angle\": 0.0, \"reference_plane\": \"bottom\", \"radius\": 0.3, \"center\": [-1.200000000000001, -0.6928203230275506, 0.0], \"length\": 1.0}, {\"type\": \"Cylinder\", \"axis\": 2, \"sidewall_angle\": 0.0, \"reference_plane\": \"bottom\", \"radius\": 0.3, \"center\": [-0.8000000000000016, -1.3856406460551018, 0.0], \"length\": 1.0}, {\"type\": \"Cylinder\", \"axis\": 2, \"sidewall_angle\": 0.0, \"reference_plane\": \"bottom\", \"radius\": 0.3, \"center\": [-1.5543122344752192e-15, -1.385640646055102, 0.0], \"length\": 1.0}, {\"type\": \"Cylinder\", \"axis\": 2, \"sidewall_angle\": 0.0, \"reference_plane\": \"bottom\", \"radius\": 0.3, \"center\": [0.7999999999999985, -1.3856406460551023, 0.0], \"length\": 1.0}, {\"type\": \"Cylinder\", \"axis\": 2, \"sidewall_angle\": 0.0, \"reference_plane\": \"bottom\", \"radius\": 0.3, \"center\": [1.1999999999999984, -0.6928203230275511, 0.0], \"length\": 1.0}, {\"type\": \"Cylinder\", \"axis\": 2, \"sidewall_angle\": 0.0, \"reference_plane\": \"bottom\", \"radius\": 0.3, \"center\": [1.5999999999999983, 0.0, 0.0], \"length\": 1.0}, {\"type\": \"Cylinder\", \"axis\": 2, \"sidewall_angle\": 0.0, \"reference_plane\": \"bottom\", \"radius\": 0.3, \"center\": [2.0000000000000004, 0.692820323027551, 0.0], \"length\": 1.0}, {\"type\": \"Cylinder\", \"axis\": 2, \"sidewall_angle\": 0.0, \"reference_plane\": \"bottom\", \"radius\": 0.3, \"center\": [1.6000000000000005, 1.385640646055102, 0.0], \"length\": 1.0}, {\"type\": \"Cylinder\", \"axis\": 2, \"sidewall_angle\": 0.0, \"reference_plane\": \"bottom\", \"radius\": 0.3, \"center\": [1.2000000000000006, 2.078460969082653, 0.0], \"length\": 1.0}, {\"type\": \"Cylinder\", \"axis\": 2, \"sidewall_angle\": 0.0, \"reference_plane\": \"bottom\", \"radius\": 0.3, \"center\": [0.4000000000000006, 2.078460969082653, 0.0], \"length\": 1.0}, {\"type\": \"Cylinder\", \"axis\": 2, \"sidewall_angle\": 0.0, \"reference_plane\": \"bottom\", \"radius\": 0.3, \"center\": [-0.39999999999999947, 2.078460969082653, 0.0], \"length\": 1.0}, {\"type\": \"Cylinder\", \"axis\": 2, \"sidewall_angle\": 0.0, \"reference_plane\": \"bottom\", \"radius\": 0.3, \"center\": [-1.1999999999999995, 2.078460969082653, 0.0], \"length\": 1.0}, {\"type\": \"Cylinder\", \"axis\": 2, \"sidewall_angle\": 0.0, \"reference_plane\": \"bottom\", \"radius\": 0.3, \"center\": [-1.5999999999999999, 1.3856406460551023, 0.0], \"length\": 1.0}, {\"type\": \"Cylinder\", \"axis\": 2, \"sidewall_angle\": 0.0, \"reference_plane\": \"bottom\", \"radius\": 0.3, \"center\": [-2.0, 0.6928203230275516, 0.0], \"length\": 1.0}, {\"type\": \"Cylinder\", \"axis\": 2, \"sidewall_angle\": 0.0, \"reference_plane\": \"bottom\", \"radius\": 0.3, \"center\": [-2.4000000000000004, 8.881784197001252e-16, 0.0], \"length\": 1.0}, {\"type\": \"Cylinder\", \"axis\": 2, \"sidewall_angle\": 0.0, \"reference_plane\": \"bottom\", \"radius\": 0.3, \"center\": [-2.000000000000001, -0.6928203230275504, 0.0], \"length\": 1.0}, {\"type\": \"Cylinder\", \"axis\": 2, \"sidewall_angle\": 0.0, \"reference_plane\": \"bottom\", \"radius\": 0.3, \"center\": [-1.6000000000000014, -1.3856406460551016, 0.0], \"length\": 1.0}, {\"type\": \"Cylinder\", \"axis\": 2, \"sidewall_angle\": 0.0, \"reference_plane\": \"bottom\", \"radius\": 0.3, \"center\": [-1.200000000000002, -2.078460969082653, 0.0], \"length\": 1.0}, {\"type\": \"Cylinder\", \"axis\": 2, \"sidewall_angle\": 0.0, \"reference_plane\": \"bottom\", \"radius\": 0.3, \"center\": [-0.4000000000000019, -2.078460969082653, 0.0], \"length\": 1.0}, {\"type\": \"Cylinder\", \"axis\": 2, \"sidewall_angle\": 0.0, \"reference_plane\": \"bottom\", \"radius\": 0.3, \"center\": [0.39999999999999813, -2.078460969082653, 0.0], \"length\": 1.0}, {\"type\": \"Cylinder\", \"axis\": 2, \"sidewall_angle\": 0.0, \"reference_plane\": \"bottom\", \"radius\": 0.3, \"center\": [1.1999999999999982, -2.078460969082653, 0.0], \"length\": 1.0}, {\"type\": \"Cylinder\", \"axis\": 2, \"sidewall_angle\": 0.0, \"reference_plane\": \"bottom\", \"radius\": 0.3, \"center\": [1.5999999999999979, -1.3856406460551018, 0.0], \"length\": 1.0}, {\"type\": \"Cylinder\", \"axis\": 2, \"sidewall_angle\": 0.0, \"reference_plane\": \"bottom\", \"radius\": 0.3, \"center\": [1.9999999999999978, -0.6928203230275507, 0.0], \"length\": 1.0}, {\"type\": \"Cylinder\", \"axis\": 2, \"sidewall_angle\": 0.0, \"reference_plane\": \"bottom\", \"radius\": 0.3, \"center\": [2.3999999999999977, 4.440892098500626e-16, 0.0], \"length\": 1.0}, {\"type\": \"Cylinder\", \"axis\": 2, \"sidewall_angle\": 0.0, \"reference_plane\": \"bottom\", \"radius\": 0.3, \"center\": [2.8000000000000003, 0.692820323027551, 0.0], \"length\": 1.0}, {\"type\": \"Cylinder\", \"axis\": 2, \"sidewall_angle\": 0.0, \"reference_plane\": \"bottom\", \"radius\": 0.3, \"center\": [2.4000000000000004, 1.385640646055102, 0.0], \"length\": 1.0}, {\"type\": \"Cylinder\", \"axis\": 2, \"sidewall_angle\": 0.0, \"reference_plane\": \"bottom\", \"radius\": 0.3, \"center\": [2.0000000000000004, 2.078460969082653, 0.0], \"length\": 1.0}, {\"type\": \"Cylinder\", \"axis\": 2, \"sidewall_angle\": 0.0, \"reference_plane\": \"bottom\", \"radius\": 0.3, \"center\": [1.6000000000000005, 2.771281292110204, 0.0], \"length\": 1.0}, {\"type\": \"Cylinder\", \"axis\": 2, \"sidewall_angle\": 0.0, \"reference_plane\": \"bottom\", \"radius\": 0.3, \"center\": [0.8000000000000005, 2.771281292110204, 0.0], \"length\": 1.0}, {\"type\": \"Cylinder\", \"axis\": 2, \"sidewall_angle\": 0.0, \"reference_plane\": \"bottom\", \"radius\": 0.3, \"center\": [4.440892098500626e-16, 2.771281292110204, 0.0], \"length\": 1.0}, {\"type\": \"Cylinder\", \"axis\": 2, \"sidewall_angle\": 0.0, \"reference_plane\": \"bottom\", \"radius\": 0.3, \"center\": [-0.7999999999999996, 2.771281292110204, 0.0], \"length\": 1.0}, {\"type\": \"Cylinder\", \"axis\": 2, \"sidewall_angle\": 0.0, \"reference_plane\": \"bottom\", \"radius\": 0.3, \"center\": [-1.5999999999999996, 2.771281292110204, 0.0], \"length\": 1.0}, {\"type\": \"Cylinder\", \"axis\": 2, \"sidewall_angle\": 0.0, \"reference_plane\": \"bottom\", \"radius\": 0.3, \"center\": [-2.0, 2.0784609690826534, 0.0], \"length\": 1.0}, {\"type\": \"Cylinder\", \"axis\": 2, \"sidewall_angle\": 0.0, \"reference_plane\": \"bottom\", \"radius\": 0.3, \"center\": [-2.4000000000000004, 1.3856406460551027, 0.0], \"length\": 1.0}, {\"type\": \"Cylinder\", \"axis\": 2, \"sidewall_angle\": 0.0, \"reference_plane\": \"bottom\", \"radius\": 0.3, \"center\": [-2.8000000000000007, 0.692820323027552, 0.0], \"length\": 1.0}, {\"type\": \"Cylinder\", \"axis\": 2, \"sidewall_angle\": 0.0, \"reference_plane\": \"bottom\", \"radius\": 0.3, \"center\": [-3.200000000000001, 1.3322676295501878e-15, 0.0], \"length\": 1.0}, {\"type\": \"Cylinder\", \"axis\": 2, \"sidewall_angle\": 0.0, \"reference_plane\": \"bottom\", \"radius\": 0.3, \"center\": [-2.8000000000000016, -0.6928203230275499, 0.0], \"length\": 1.0}, {\"type\": \"Cylinder\", \"axis\": 2, \"sidewall_angle\": 0.0, \"reference_plane\": \"bottom\", \"radius\": 0.3, \"center\": [-2.400000000000002, -1.3856406460551012, 0.0], \"length\": 1.0}, {\"type\": \"Cylinder\", \"axis\": 2, \"sidewall_angle\": 0.0, \"reference_plane\": \"bottom\", \"radius\": 0.3, \"center\": [-2.0000000000000027, -2.0784609690826525, 0.0], \"length\": 1.0}, {\"type\": \"Cylinder\", \"axis\": 2, \"sidewall_angle\": 0.0, \"reference_plane\": \"bottom\", \"radius\": 0.3, \"center\": [-1.6000000000000032, -2.7712812921102037, 0.0], \"length\": 1.0}, {\"type\": \"Cylinder\", \"axis\": 2, \"sidewall_angle\": 0.0, \"reference_plane\": \"bottom\", \"radius\": 0.3, \"center\": [-0.8000000000000032, -2.7712812921102037, 0.0], \"length\": 1.0}, {\"type\": \"Cylinder\", \"axis\": 2, \"sidewall_angle\": 0.0, \"reference_plane\": \"bottom\", \"radius\": 0.3, \"center\": [-3.1086244689504383e-15, -2.7712812921102037, 0.0], \"length\": 1.0}, {\"type\": \"Cylinder\", \"axis\": 2, \"sidewall_angle\": 0.0, \"reference_plane\": \"bottom\", \"radius\": 0.3, \"center\": [0.7999999999999969, -2.7712812921102037, 0.0], \"length\": 1.0}, {\"type\": \"Cylinder\", \"axis\": 2, \"sidewall_angle\": 0.0, \"reference_plane\": \"bottom\", \"radius\": 0.3, \"center\": [1.599999999999997, -2.7712812921102037, 0.0], \"length\": 1.0}, {\"type\": \"Cylinder\", \"axis\": 2, \"sidewall_angle\": 0.0, \"reference_plane\": \"bottom\", \"radius\": 0.3, \"center\": [1.999999999999997, -2.0784609690826525, 0.0], \"length\": 1.0}, {\"type\": \"Cylinder\", \"axis\": 2, \"sidewall_angle\": 0.0, \"reference_plane\": \"bottom\", \"radius\": 0.3, \"center\": [2.399999999999997, -1.3856406460551014, 0.0], \"length\": 1.0}, {\"type\": \"Cylinder\", \"axis\": 2, \"sidewall_angle\": 0.0, \"reference_plane\": \"bottom\", \"radius\": 0.3, \"center\": [2.7999999999999967, -0.6928203230275503, 0.0], \"length\": 1.0}, {\"type\": \"Cylinder\", \"axis\": 2, \"sidewall_angle\": 0.0, \"reference_plane\": \"bottom\", \"radius\": 0.3, \"center\": [3.1999999999999966, 8.881784197001252e-16, 0.0], \"length\": 1.0}, {\"type\": \"Cylinder\", \"axis\": 2, \"sidewall_angle\": 0.0, \"reference_plane\": \"bottom\", \"radius\": 0.3, \"center\": [3.6, 0.692820323027551, 0.0], \"length\": 1.0}, {\"type\": \"Cylinder\", \"axis\": 2, \"sidewall_angle\": 0.0, \"reference_plane\": \"bottom\", \"radius\": 0.3, \"center\": [3.2, 1.385640646055102, 0.0], \"length\": 1.0}, {\"type\": \"Cylinder\", \"axis\": 2, \"sidewall_angle\": 0.0, \"reference_plane\": \"bottom\", \"radius\": 0.3, \"center\": [2.8000000000000003, 2.078460969082653, 0.0], \"length\": 1.0}, {\"type\": \"Cylinder\", \"axis\": 2, \"sidewall_angle\": 0.0, \"reference_plane\": \"bottom\", \"radius\": 0.3, \"center\": [2.4000000000000004, 2.771281292110204, 0.0], \"length\": 1.0}, {\"type\": \"Cylinder\", \"axis\": 2, \"sidewall_angle\": 0.0, \"reference_plane\": \"bottom\", \"radius\": 0.3, \"center\": [2.0000000000000004, 3.4641016151377553, 0.0], \"length\": 1.0}, {\"type\": \"Cylinder\", \"axis\": 2, \"sidewall_angle\": 0.0, \"reference_plane\": \"bottom\", \"radius\": 0.3, \"center\": [1.2000000000000004, 3.4641016151377553, 0.0], \"length\": 1.0}, {\"type\": \"Cylinder\", \"axis\": 2, \"sidewall_angle\": 0.0, \"reference_plane\": \"bottom\", \"radius\": 0.3, \"center\": [0.40000000000000036, 3.4641016151377553, 0.0], \"length\": 1.0}, {\"type\": \"Cylinder\", \"axis\": 2, \"sidewall_angle\": 0.0, \"reference_plane\": \"bottom\", \"radius\": 0.3, \"center\": [-0.3999999999999997, 3.4641016151377553, 0.0], \"length\": 1.0}, {\"type\": \"Cylinder\", \"axis\": 2, \"sidewall_angle\": 0.0, \"reference_plane\": \"bottom\", \"radius\": 0.3, \"center\": [-1.1999999999999997, 3.4641016151377553, 0.0], \"length\": 1.0}, {\"type\": \"Cylinder\", \"axis\": 2, \"sidewall_angle\": 0.0, \"reference_plane\": \"bottom\", \"radius\": 0.3, \"center\": [-1.9999999999999998, 3.4641016151377553, 0.0], \"length\": 1.0}, {\"type\": \"Cylinder\", \"axis\": 2, \"sidewall_angle\": 0.0, \"reference_plane\": \"bottom\", \"radius\": 0.3, \"center\": [-2.4000000000000004, 2.7712812921102046, 0.0], \"length\": 1.0}, {\"type\": \"Cylinder\", \"axis\": 2, \"sidewall_angle\": 0.0, \"reference_plane\": \"bottom\", \"radius\": 0.3, \"center\": [-2.8000000000000007, 2.078460969082654, 0.0], \"length\": 1.0}, {\"type\": \"Cylinder\", \"axis\": 2, \"sidewall_angle\": 0.0, \"reference_plane\": \"bottom\", \"radius\": 0.3, \"center\": [-3.200000000000001, 1.3856406460551032, 0.0], \"length\": 1.0}, {\"type\": \"Cylinder\", \"axis\": 2, \"sidewall_angle\": 0.0, \"reference_plane\": \"bottom\", \"radius\": 0.3, \"center\": [-3.6000000000000014, 0.6928203230275525, 0.0], \"length\": 1.0}, {\"type\": \"Cylinder\", \"axis\": 2, \"sidewall_angle\": 0.0, \"reference_plane\": \"bottom\", \"radius\": 0.3, \"center\": [-4.000000000000002, 1.7763568394002505e-15, 0.0], \"length\": 1.0}, {\"type\": \"Cylinder\", \"axis\": 2, \"sidewall_angle\": 0.0, \"reference_plane\": \"bottom\", \"radius\": 0.3, \"center\": [-3.6000000000000023, -0.6928203230275495, 0.0], \"length\": 1.0}, {\"type\": \"Cylinder\", \"axis\": 2, \"sidewall_angle\": 0.0, \"reference_plane\": \"bottom\", \"radius\": 0.3, \"center\": [-3.200000000000003, -1.3856406460551007, 0.0], \"length\": 1.0}, {\"type\": \"Cylinder\", \"axis\": 2, \"sidewall_angle\": 0.0, \"reference_plane\": \"bottom\", \"radius\": 0.3, \"center\": [-2.8000000000000034, -2.078460969082652, 0.0], \"length\": 1.0}, {\"type\": \"Cylinder\", \"axis\": 2, \"sidewall_angle\": 0.0, \"reference_plane\": \"bottom\", \"radius\": 0.3, \"center\": [-2.400000000000004, -2.7712812921102032, 0.0], \"length\": 1.0}, {\"type\": \"Cylinder\", \"axis\": 2, \"sidewall_angle\": 0.0, \"reference_plane\": \"bottom\", \"radius\": 0.3, \"center\": [-2.0000000000000044, -3.4641016151377544, 0.0], \"length\": 1.0}, {\"type\": \"Cylinder\", \"axis\": 2, \"sidewall_angle\": 0.0, \"reference_plane\": \"bottom\", \"radius\": 0.3, \"center\": [-1.2000000000000044, -3.4641016151377544, 0.0], \"length\": 1.0}, {\"type\": \"Cylinder\", \"axis\": 2, \"sidewall_angle\": 0.0, \"reference_plane\": \"bottom\", \"radius\": 0.3, \"center\": [-0.40000000000000435, -3.4641016151377544, 0.0], \"length\": 1.0}, {\"type\": \"Cylinder\", \"axis\": 2, \"sidewall_angle\": 0.0, \"reference_plane\": \"bottom\", \"radius\": 0.3, \"center\": [0.3999999999999957, -3.4641016151377544, 0.0], \"length\": 1.0}, {\"type\": \"Cylinder\", \"axis\": 2, \"sidewall_angle\": 0.0, \"reference_plane\": \"bottom\", \"radius\": 0.3, \"center\": [1.1999999999999957, -3.4641016151377544, 0.0], \"length\": 1.0}, {\"type\": \"Cylinder\", \"axis\": 2, \"sidewall_angle\": 0.0, \"reference_plane\": \"bottom\", \"radius\": 0.3, \"center\": [1.9999999999999958, -3.4641016151377544, 0.0], \"length\": 1.0}, {\"type\": \"Cylinder\", \"axis\": 2, \"sidewall_angle\": 0.0, \"reference_plane\": \"bottom\", \"radius\": 0.3, \"center\": [2.3999999999999955, -2.7712812921102032, 0.0], \"length\": 1.0}, {\"type\": \"Cylinder\", \"axis\": 2, \"sidewall_angle\": 0.0, \"reference_plane\": \"bottom\", \"radius\": 0.3, \"center\": [2.7999999999999954, -2.078460969082652, 0.0], \"length\": 1.0}, {\"type\": \"Cylinder\", \"axis\": 2, \"sidewall_angle\": 0.0, \"reference_plane\": \"bottom\", \"radius\": 0.3, \"center\": [3.1999999999999953, -1.385640646055101, 0.0], \"length\": 1.0}, {\"type\": \"Cylinder\", \"axis\": 2, \"sidewall_angle\": 0.0, \"reference_plane\": \"bottom\", \"radius\": 0.3, \"center\": [3.599999999999995, -0.6928203230275498, 0.0], \"length\": 1.0}, {\"type\": \"Cylinder\", \"axis\": 2, \"sidewall_angle\": 0.0, \"reference_plane\": \"bottom\", \"radius\": 0.3, \"center\": [3.999999999999995, 1.3322676295501878e-15, 0.0], \"length\": 1.0}]}, \"name\": null, \"type\": \"Structure\", \"medium\": {\"name\": null, \"frequency_range\": null, \"allow_gain\": false, \"nonlinear_spec\": null, \"modulation_spec\": null, \"heat_spec\": null, \"type\": \"Medium\", \"permittivity\": 12.1104, \"conductivity\": 0.0}}], \"symmetry\": [0, 0, 0], \"sources\": [], \"boundary_spec\": {\"x\": {\"plus\": {\"name\": null, \"type\": \"PML\", \"num_layers\": 12, \"parameters\": {\"sigma_order\": 3, \"sigma_min\": 0.0, \"sigma_max\": 1.5, \"type\": \"PMLParams\", \"kappa_order\": 3, \"kappa_min\": 1.0, \"kappa_max\": 3.0, \"alpha_order\": 1, \"alpha_min\": 0.0, \"alpha_max\": 0.0}}, \"minus\": {\"name\": null, \"type\": \"PML\", \"num_layers\": 12, \"parameters\": {\"sigma_order\": 3, \"sigma_min\": 0.0, \"sigma_max\": 1.5, \"type\": \"PMLParams\", \"kappa_order\": 3, \"kappa_min\": 1.0, \"kappa_max\": 3.0, \"alpha_order\": 1, \"alpha_min\": 0.0, \"alpha_max\": 0.0}}, \"type\": \"Boundary\"}, \"y\": {\"plus\": {\"name\": null, \"type\": \"PML\", \"num_layers\": 12, \"parameters\": {\"sigma_order\": 3, \"sigma_min\": 0.0, \"sigma_max\": 1.5, \"type\": \"PMLParams\", \"kappa_order\": 3, \"kappa_min\": 1.0, \"kappa_max\": 3.0, \"alpha_order\": 1, \"alpha_min\": 0.0, \"alpha_max\": 0.0}}, \"minus\": {\"name\": null, \"type\": \"PML\", \"num_layers\": 12, \"parameters\": {\"sigma_order\": 3, \"sigma_min\": 0.0, \"sigma_max\": 1.5, \"type\": \"PMLParams\", \"kappa_order\": 3, \"kappa_min\": 1.0, \"kappa_max\": 3.0, \"alpha_order\": 1, \"alpha_min\": 0.0, \"alpha_max\": 0.0}}, \"type\": \"Boundary\"}, \"z\": {\"plus\": {\"name\": null, \"type\": \"PML\", \"num_layers\": 12, \"parameters\": {\"sigma_order\": 3, \"sigma_min\": 0.0, \"sigma_max\": 1.5, \"type\": \"PMLParams\", \"kappa_order\": 3, \"kappa_min\": 1.0, \"kappa_max\": 3.0, \"alpha_order\": 1, \"alpha_min\": 0.0, \"alpha_max\": 0.0}}, \"minus\": {\"name\": null, \"type\": \"PML\", \"num_layers\": 12, \"parameters\": {\"sigma_order\": 3, \"sigma_min\": 0.0, \"sigma_max\": 1.5, \"type\": \"PMLParams\", \"kappa_order\": 3, \"kappa_min\": 1.0, \"kappa_max\": 3.0, \"alpha_order\": 1, \"alpha_min\": 0.0, \"alpha_max\": 0.0}}, \"type\": \"Boundary\"}, \"type\": \"BoundarySpec\"}, \"monitors\": [], \"grid_spec\": {\"grid_x\": {\"type\": \"AutoGrid\", \"min_steps_per_wvl\": 10.0, \"max_scale\": 1.4, \"dl_min\": 0.0, \"mesher\": {\"type\": \"GradedMesher\"}}, \"grid_y\": {\"type\": \"AutoGrid\", \"min_steps_per_wvl\": 10.0, \"max_scale\": 1.4, \"dl_min\": 0.0, \"mesher\": {\"type\": \"GradedMesher\"}}, \"grid_z\": {\"type\": \"AutoGrid\", \"min_steps_per_wvl\": 10.0, \"max_scale\": 1.4, \"dl_min\": 0.0, \"mesher\": {\"type\": \"GradedMesher\"}}, \"wavelength\": 1.55, \"override_structures\": [], \"type\": \"GridSpec\"}, \"version\": \"2.6.0\", \"run_time\": 2.0, \"shutoff\": 1e-05, \"subpixel\": true, \"normalize_index\": 0, \"courant\": 0.99}}, '*')\n",
       "        }\n",
       "    };\n",
       "    window.addEventListener(\n",
       "        'message',\n",
       "        window.postMessageToViewer170815667802488889,\n",
       "        false\n",
       "    );\n",
       "    \n",
       "    </script>\n",
       "    "
      ],
      "text/plain": [
       "<IPython.core.display.HTML object>"
      ]
     },
     "metadata": {},
     "output_type": "display_data"
    }
   ],
   "source": [
    "s = hex_h_cavity(0, 0, 0, 0.3, 6, 2, 0.8, 1, td.Medium(permittivity=3.48**2))\n",
    "\n",
    "sim = td.Simulation(\n",
    "    size=[10, 10, 3],\n",
    "    grid_spec=td.GridSpec.auto(wavelength=1.55),\n",
    "    structures=[s],\n",
    "    run_time=2,\n",
    ")\n",
    "\n",
    "sim.plot_3d()"
   ]
  },
  {
   "cell_type": "markdown",
   "id": "9cd13c05",
   "metadata": {},
   "source": [
    "## Wood Pile"
   ]
  },
  {
   "cell_type": "markdown",
   "id": "1638edcd",
   "metadata": {},
   "source": [
    "The function `wood_pile` returns the popular 'wood pile' structure with tunable width of the blocks comprising the pile, width and height of the entire pile, number of blocks in each row, and number of rows of blocks."
   ]
  },
  {
   "cell_type": "code",
   "execution_count": 16,
   "id": "5a5d84e7",
   "metadata": {
    "execution": {
     "iopub.execute_input": "2024-02-17T07:57:58.030691Z",
     "iopub.status.busy": "2024-02-17T07:57:58.030548Z",
     "iopub.status.idle": "2024-02-17T07:57:58.046621Z",
     "shell.execute_reply": "2024-02-17T07:57:58.046066Z"
    }
   },
   "outputs": [],
   "source": [
    "def wood_pile(\n",
    "    x0,\n",
    "    y0,\n",
    "    z0,\n",
    "    block_width,\n",
    "    side_width,\n",
    "    pile_height,\n",
    "    n_rows,\n",
    "    n_floors,\n",
    "    medium,\n",
    "    reference_plane=\"bottom\",\n",
    "    axis=2,\n",
    "):\n",
    "    # parameters\n",
    "    # ------------------------------------------------------------\n",
    "    # x0: x coordinate of center of the array (um)\n",
    "    # y0: y coordinate of center of the array (um)\n",
    "    # z0: z coordinate of center of the array (um)\n",
    "    # block_width: width of the blocks being stacked (um)\n",
    "    # side_width: width of the wood pile (um)\n",
    "    # pile_height: height of the wood pile (um)\n",
    "    # n_rows: number of blocks on each floor\n",
    "    # n_floors: number of stackings in the wood pile\n",
    "    # medium: medium of the blocks\n",
    "    # reference_plane\n",
    "    # axis\n",
    "\n",
    "    boxes = []\n",
    "    spacing = 0.5 * side_width / n_rows\n",
    "    for i in range(0, n_floors):\n",
    "        for j in range(0, n_rows):\n",
    "            b = td.Box(\n",
    "                center=(\n",
    "                    x0 + (0.5 - n_rows + 2 * j + (i % 4 == 2)) * spacing * ((i + 1) % 2),\n",
    "                    y0 + (0.5 - n_rows + 2 * j + (i % 4 == 3)) * spacing * (i % 2),\n",
    "                    z0 + pile_height * (-0.5 + 1 / n_floors / 2 + i / n_floors),\n",
    "                ),\n",
    "                size=(\n",
    "                    block_width * ((i + 1) % 2) + side_width * (i % 2),\n",
    "                    block_width * (i % 2) + side_width * ((i + 1) % 2),\n",
    "                    pile_height / n_floors,\n",
    "                ),\n",
    "            )\n",
    "            boxes.append(b)\n",
    "    structure = td.Structure(geometry=td.GeometryGroup(geometries=boxes), medium=medium)\n",
    "    return structure"
   ]
  },
  {
   "cell_type": "code",
   "execution_count": 17,
   "id": "e7b56892",
   "metadata": {
    "execution": {
     "iopub.execute_input": "2024-02-17T07:57:58.048347Z",
     "iopub.status.busy": "2024-02-17T07:57:58.048205Z",
     "iopub.status.idle": "2024-02-17T07:57:58.068198Z",
     "shell.execute_reply": "2024-02-17T07:57:58.067741Z"
    }
   },
   "outputs": [
    {
     "data": {
      "text/html": [
       "\n",
       "    <iframe id=\"simulation-viewer170815667806528865\" src=https://feature-simulation-viewer.d3a9gfg7glllfq.amplifyapp.com/simulation-viewer?uuid=170815667806528865 width=\"800\" height=\"800\" allowfullscreen=\"true\"></iframe>\n",
       "    <script>\n",
       "        \n",
       "    window.postMessageToViewer170815667806528865 = event => {\n",
       "        if(event.data.type === 'viewer'&&event.data.uuid==='170815667806528865'){\n",
       "            document.getElementById('simulation-viewer170815667806528865').contentWindow.postMessage({ type: 'jupyter', uuid:'170815667806528865', value:{\"type\": \"Simulation\", \"center\": [0.0, 0.0, 0.0], \"size\": [3.0, 3.0, 3.0], \"medium\": {\"name\": null, \"frequency_range\": null, \"allow_gain\": false, \"nonlinear_spec\": null, \"modulation_spec\": null, \"heat_spec\": null, \"type\": \"Medium\", \"permittivity\": 1.0, \"conductivity\": 0.0}, \"structures\": [{\"geometry\": {\"type\": \"GeometryGroup\", \"geometries\": [{\"type\": \"Box\", \"center\": [-0.525, 0.0, -0.5833333333333334], \"size\": [0.2, 1.2, 0.2333333333333333]}, {\"type\": \"Box\", \"center\": [-0.22499999999999998, 0.0, -0.5833333333333334], \"size\": [0.2, 1.2, 0.2333333333333333]}, {\"type\": \"Box\", \"center\": [0.075, 0.0, -0.5833333333333334], \"size\": [0.2, 1.2, 0.2333333333333333]}, {\"type\": \"Box\", \"center\": [0.375, 0.0, -0.5833333333333334], \"size\": [0.2, 1.2, 0.2333333333333333]}, {\"type\": \"Box\", \"center\": [0.0, -0.525, -0.35], \"size\": [1.2, 0.2, 0.2333333333333333]}, {\"type\": \"Box\", \"center\": [0.0, -0.22499999999999998, -0.35], \"size\": [1.2, 0.2, 0.2333333333333333]}, {\"type\": \"Box\", \"center\": [0.0, 0.075, -0.35], \"size\": [1.2, 0.2, 0.2333333333333333]}, {\"type\": \"Box\", \"center\": [0.0, 0.375, -0.35], \"size\": [1.2, 0.2, 0.2333333333333333]}, {\"type\": \"Box\", \"center\": [-0.375, 0.0, -0.11666666666666671], \"size\": [0.2, 1.2, 0.2333333333333333]}, {\"type\": \"Box\", \"center\": [-0.075, 0.0, -0.11666666666666671], \"size\": [0.2, 1.2, 0.2333333333333333]}, {\"type\": \"Box\", \"center\": [0.22499999999999998, 0.0, -0.11666666666666671], \"size\": [0.2, 1.2, 0.2333333333333333]}, {\"type\": \"Box\", \"center\": [0.525, 0.0, -0.11666666666666671], \"size\": [0.2, 1.2, 0.2333333333333333]}, {\"type\": \"Box\", \"center\": [0.0, -0.375, 0.11666666666666663], \"size\": [1.2, 0.2, 0.2333333333333333]}, {\"type\": \"Box\", \"center\": [0.0, -0.075, 0.11666666666666663], \"size\": [1.2, 0.2, 0.2333333333333333]}, {\"type\": \"Box\", \"center\": [0.0, 0.22499999999999998, 0.11666666666666663], \"size\": [1.2, 0.2, 0.2333333333333333]}, {\"type\": \"Box\", \"center\": [0.0, 0.525, 0.11666666666666663], \"size\": [1.2, 0.2, 0.2333333333333333]}, {\"type\": \"Box\", \"center\": [-0.525, 0.0, 0.3499999999999999], \"size\": [0.2, 1.2, 0.2333333333333333]}, {\"type\": \"Box\", \"center\": [-0.22499999999999998, 0.0, 0.3499999999999999], \"size\": [0.2, 1.2, 0.2333333333333333]}, {\"type\": \"Box\", \"center\": [0.075, 0.0, 0.3499999999999999], \"size\": [0.2, 1.2, 0.2333333333333333]}, {\"type\": \"Box\", \"center\": [0.375, 0.0, 0.3499999999999999], \"size\": [0.2, 1.2, 0.2333333333333333]}, {\"type\": \"Box\", \"center\": [0.0, -0.525, 0.5833333333333334], \"size\": [1.2, 0.2, 0.2333333333333333]}, {\"type\": \"Box\", \"center\": [0.0, -0.22499999999999998, 0.5833333333333334], \"size\": [1.2, 0.2, 0.2333333333333333]}, {\"type\": \"Box\", \"center\": [0.0, 0.075, 0.5833333333333334], \"size\": [1.2, 0.2, 0.2333333333333333]}, {\"type\": \"Box\", \"center\": [0.0, 0.375, 0.5833333333333334], \"size\": [1.2, 0.2, 0.2333333333333333]}]}, \"name\": null, \"type\": \"Structure\", \"medium\": {\"name\": null, \"frequency_range\": null, \"allow_gain\": false, \"nonlinear_spec\": null, \"modulation_spec\": null, \"heat_spec\": null, \"type\": \"Medium\", \"permittivity\": 12.1104, \"conductivity\": 0.0}}], \"symmetry\": [0, 0, 0], \"sources\": [], \"boundary_spec\": {\"x\": {\"plus\": {\"name\": null, \"type\": \"PML\", \"num_layers\": 12, \"parameters\": {\"sigma_order\": 3, \"sigma_min\": 0.0, \"sigma_max\": 1.5, \"type\": \"PMLParams\", \"kappa_order\": 3, \"kappa_min\": 1.0, \"kappa_max\": 3.0, \"alpha_order\": 1, \"alpha_min\": 0.0, \"alpha_max\": 0.0}}, \"minus\": {\"name\": null, \"type\": \"PML\", \"num_layers\": 12, \"parameters\": {\"sigma_order\": 3, \"sigma_min\": 0.0, \"sigma_max\": 1.5, \"type\": \"PMLParams\", \"kappa_order\": 3, \"kappa_min\": 1.0, \"kappa_max\": 3.0, \"alpha_order\": 1, \"alpha_min\": 0.0, \"alpha_max\": 0.0}}, \"type\": \"Boundary\"}, \"y\": {\"plus\": {\"name\": null, \"type\": \"PML\", \"num_layers\": 12, \"parameters\": {\"sigma_order\": 3, \"sigma_min\": 0.0, \"sigma_max\": 1.5, \"type\": \"PMLParams\", \"kappa_order\": 3, \"kappa_min\": 1.0, \"kappa_max\": 3.0, \"alpha_order\": 1, \"alpha_min\": 0.0, \"alpha_max\": 0.0}}, \"minus\": {\"name\": null, \"type\": \"PML\", \"num_layers\": 12, \"parameters\": {\"sigma_order\": 3, \"sigma_min\": 0.0, \"sigma_max\": 1.5, \"type\": \"PMLParams\", \"kappa_order\": 3, \"kappa_min\": 1.0, \"kappa_max\": 3.0, \"alpha_order\": 1, \"alpha_min\": 0.0, \"alpha_max\": 0.0}}, \"type\": \"Boundary\"}, \"z\": {\"plus\": {\"name\": null, \"type\": \"PML\", \"num_layers\": 12, \"parameters\": {\"sigma_order\": 3, \"sigma_min\": 0.0, \"sigma_max\": 1.5, \"type\": \"PMLParams\", \"kappa_order\": 3, \"kappa_min\": 1.0, \"kappa_max\": 3.0, \"alpha_order\": 1, \"alpha_min\": 0.0, \"alpha_max\": 0.0}}, \"minus\": {\"name\": null, \"type\": \"PML\", \"num_layers\": 12, \"parameters\": {\"sigma_order\": 3, \"sigma_min\": 0.0, \"sigma_max\": 1.5, \"type\": \"PMLParams\", \"kappa_order\": 3, \"kappa_min\": 1.0, \"kappa_max\": 3.0, \"alpha_order\": 1, \"alpha_min\": 0.0, \"alpha_max\": 0.0}}, \"type\": \"Boundary\"}, \"type\": \"BoundarySpec\"}, \"monitors\": [], \"grid_spec\": {\"grid_x\": {\"type\": \"AutoGrid\", \"min_steps_per_wvl\": 10.0, \"max_scale\": 1.4, \"dl_min\": 0.0, \"mesher\": {\"type\": \"GradedMesher\"}}, \"grid_y\": {\"type\": \"AutoGrid\", \"min_steps_per_wvl\": 10.0, \"max_scale\": 1.4, \"dl_min\": 0.0, \"mesher\": {\"type\": \"GradedMesher\"}}, \"grid_z\": {\"type\": \"AutoGrid\", \"min_steps_per_wvl\": 10.0, \"max_scale\": 1.4, \"dl_min\": 0.0, \"mesher\": {\"type\": \"GradedMesher\"}}, \"wavelength\": 1.55, \"override_structures\": [], \"type\": \"GridSpec\"}, \"version\": \"2.6.0\", \"run_time\": 1.0, \"shutoff\": 1e-05, \"subpixel\": true, \"normalize_index\": 0, \"courant\": 0.99}}, '*')\n",
       "        }\n",
       "    };\n",
       "    window.addEventListener(\n",
       "        'message',\n",
       "        window.postMessageToViewer170815667806528865,\n",
       "        false\n",
       "    );\n",
       "    \n",
       "    </script>\n",
       "    "
      ],
      "text/plain": [
       "<IPython.core.display.HTML object>"
      ]
     },
     "metadata": {},
     "output_type": "display_data"
    }
   ],
   "source": [
    "s = wood_pile(0, 0, 0, 0.2, 1.2, 1.4, 4, 6, td.Medium(permittivity=3.48**2))\n",
    "\n",
    "sim = td.Simulation(\n",
    "    size=[3, 3, 3],\n",
    "    grid_spec=td.GridSpec.auto(wavelength=1.55),\n",
    "    structures=[s],\n",
    "    run_time=1,\n",
    ")\n",
    "\n",
    "sim.plot_3d()"
   ]
  },
  {
   "cell_type": "markdown",
   "id": "30efea9a",
   "metadata": {},
   "source": [
    "## FCC Sphere Array "
   ]
  },
  {
   "cell_type": "markdown",
   "id": "74676c8b",
   "metadata": {},
   "source": [
    "The function `fcc_pc` returns an FCC PC crystal of spheres, with tunable sphere radius, spacing, and number of spheres in each dimension."
   ]
  },
  {
   "cell_type": "code",
   "execution_count": 18,
   "id": "8051ce38",
   "metadata": {
    "execution": {
     "iopub.execute_input": "2024-02-17T07:57:58.070065Z",
     "iopub.status.busy": "2024-02-17T07:57:58.069922Z",
     "iopub.status.idle": "2024-02-17T07:57:58.086060Z",
     "shell.execute_reply": "2024-02-17T07:57:58.085505Z"
    }
   },
   "outputs": [],
   "source": [
    "def fcc_pc(x0, y0, z0, spacing, R, n_x, n_y, n_z, medium):\n",
    "    # parameters\n",
    "    # ------------------------------------------------------------\n",
    "    # x0: x coordinate of center of the array (um)\n",
    "    # y0: y coordinate of center of the array (um)\n",
    "    # z0: z coordinate of center of the array (um)\n",
    "    # spacing: spacing between the centers of the spheres (um)\n",
    "    # R: radius of the spheres\n",
    "    # n_x: number of spheres in x direction\n",
    "    # n_y: number of spheres in y direction\n",
    "    # n_z: number of spheres in z direction\n",
    "    # medium: medium of the spheres\n",
    "\n",
    "    spheres = []\n",
    "    center_x, center_y, center_z = (\n",
    "        x0 - (n_x - 1) * spacing,\n",
    "        y0 - (n_y - 1) * spacing,\n",
    "        z0 - (n_z - 1) * spacing,\n",
    "    )\n",
    "    for i in range(0, n_x):\n",
    "        for j in range(0, n_y):\n",
    "            for k in range(0, n_z):\n",
    "                for l in range(0, 4):  # single crystal unit\n",
    "                    s = td.Sphere(\n",
    "                        center=(\n",
    "                            center_x + (2 * i + (l % 3 == 0) * (-1) ** (l < 1)) * spacing,\n",
    "                            center_y + (2 * j + 0.5 * (-1) ** (l % 2)) * spacing,\n",
    "                            center_z + (2 * k + 0.5 * (-1) ** (l > 1)) * spacing,\n",
    "                        ),\n",
    "                        radius=R,\n",
    "                    )\n",
    "                    spheres.append(s)\n",
    "    structure = td.Structure(geometry=td.GeometryGroup(geometries=spheres), medium=medium)\n",
    "    return structure"
   ]
  },
  {
   "cell_type": "code",
   "execution_count": 19,
   "id": "f3aa3819",
   "metadata": {
    "execution": {
     "iopub.execute_input": "2024-02-17T07:57:58.087903Z",
     "iopub.status.busy": "2024-02-17T07:57:58.087760Z",
     "iopub.status.idle": "2024-02-17T07:57:58.125760Z",
     "shell.execute_reply": "2024-02-17T07:57:58.125276Z"
    }
   },
   "outputs": [
    {
     "data": {
      "text/html": [
       "\n",
       "    <iframe id=\"simulation-viewer170815667811710953\" src=https://feature-simulation-viewer.d3a9gfg7glllfq.amplifyapp.com/simulation-viewer?uuid=170815667811710953 width=\"800\" height=\"800\" allowfullscreen=\"true\"></iframe>\n",
       "    <script>\n",
       "        \n",
       "    window.postMessageToViewer170815667811710953 = event => {\n",
       "        if(event.data.type === 'viewer'&&event.data.uuid==='170815667811710953'){\n",
       "            document.getElementById('simulation-viewer170815667811710953').contentWindow.postMessage({ type: 'jupyter', uuid:'170815667811710953', value:{\"type\": \"Simulation\", \"center\": [0.0, 0.0, 0.0], \"size\": [10.0, 10.0, 10.0], \"medium\": {\"name\": null, \"frequency_range\": null, \"allow_gain\": false, \"nonlinear_spec\": null, \"modulation_spec\": null, \"heat_spec\": null, \"type\": \"Medium\", \"permittivity\": 1.0, \"conductivity\": 0.0}, \"structures\": [{\"geometry\": {\"type\": \"GeometryGroup\", \"geometries\": [{\"type\": \"Sphere\", \"radius\": 0.2, \"center\": [-2.0, -2.25, -1.75]}, {\"type\": \"Sphere\", \"radius\": 0.2, \"center\": [-1.5, -2.75, -1.75]}, {\"type\": \"Sphere\", \"radius\": 0.2, \"center\": [-1.5, -2.25, -2.25]}, {\"type\": \"Sphere\", \"radius\": 0.2, \"center\": [-1.0, -2.75, -2.25]}, {\"type\": \"Sphere\", \"radius\": 0.2, \"center\": [-2.0, -2.25, -0.75]}, {\"type\": \"Sphere\", \"radius\": 0.2, \"center\": [-1.5, -2.75, -0.75]}, {\"type\": \"Sphere\", \"radius\": 0.2, \"center\": [-1.5, -2.25, -1.25]}, {\"type\": \"Sphere\", \"radius\": 0.2, \"center\": [-1.0, -2.75, -1.25]}, {\"type\": \"Sphere\", \"radius\": 0.2, \"center\": [-2.0, -2.25, 0.25]}, {\"type\": \"Sphere\", \"radius\": 0.2, \"center\": [-1.5, -2.75, 0.25]}, {\"type\": \"Sphere\", \"radius\": 0.2, \"center\": [-1.5, -2.25, -0.25]}, {\"type\": \"Sphere\", \"radius\": 0.2, \"center\": [-1.0, -2.75, -0.25]}, {\"type\": \"Sphere\", \"radius\": 0.2, \"center\": [-2.0, -2.25, 1.25]}, {\"type\": \"Sphere\", \"radius\": 0.2, \"center\": [-1.5, -2.75, 1.25]}, {\"type\": \"Sphere\", \"radius\": 0.2, \"center\": [-1.5, -2.25, 0.75]}, {\"type\": \"Sphere\", \"radius\": 0.2, \"center\": [-1.0, -2.75, 0.75]}, {\"type\": \"Sphere\", \"radius\": 0.2, \"center\": [-2.0, -2.25, 2.25]}, {\"type\": \"Sphere\", \"radius\": 0.2, \"center\": [-1.5, -2.75, 2.25]}, {\"type\": \"Sphere\", \"radius\": 0.2, \"center\": [-1.5, -2.25, 1.75]}, {\"type\": \"Sphere\", \"radius\": 0.2, \"center\": [-1.0, -2.75, 1.75]}, {\"type\": \"Sphere\", \"radius\": 0.2, \"center\": [-2.0, -1.25, -1.75]}, {\"type\": \"Sphere\", \"radius\": 0.2, \"center\": [-1.5, -1.75, -1.75]}, {\"type\": \"Sphere\", \"radius\": 0.2, \"center\": [-1.5, -1.25, -2.25]}, {\"type\": \"Sphere\", \"radius\": 0.2, \"center\": [-1.0, -1.75, -2.25]}, {\"type\": \"Sphere\", \"radius\": 0.2, \"center\": [-2.0, -1.25, -0.75]}, {\"type\": \"Sphere\", \"radius\": 0.2, \"center\": [-1.5, -1.75, -0.75]}, {\"type\": \"Sphere\", \"radius\": 0.2, \"center\": [-1.5, -1.25, -1.25]}, {\"type\": \"Sphere\", \"radius\": 0.2, \"center\": [-1.0, -1.75, -1.25]}, {\"type\": \"Sphere\", \"radius\": 0.2, \"center\": [-2.0, -1.25, 0.25]}, {\"type\": \"Sphere\", \"radius\": 0.2, \"center\": [-1.5, -1.75, 0.25]}, {\"type\": \"Sphere\", \"radius\": 0.2, \"center\": [-1.5, -1.25, -0.25]}, {\"type\": \"Sphere\", \"radius\": 0.2, \"center\": [-1.0, -1.75, -0.25]}, {\"type\": \"Sphere\", \"radius\": 0.2, \"center\": [-2.0, -1.25, 1.25]}, {\"type\": \"Sphere\", \"radius\": 0.2, \"center\": [-1.5, -1.75, 1.25]}, {\"type\": \"Sphere\", \"radius\": 0.2, \"center\": [-1.5, -1.25, 0.75]}, {\"type\": \"Sphere\", \"radius\": 0.2, \"center\": [-1.0, -1.75, 0.75]}, {\"type\": \"Sphere\", \"radius\": 0.2, \"center\": [-2.0, -1.25, 2.25]}, {\"type\": \"Sphere\", \"radius\": 0.2, \"center\": [-1.5, -1.75, 2.25]}, {\"type\": \"Sphere\", \"radius\": 0.2, \"center\": [-1.5, -1.25, 1.75]}, {\"type\": \"Sphere\", \"radius\": 0.2, \"center\": [-1.0, -1.75, 1.75]}, {\"type\": \"Sphere\", \"radius\": 0.2, \"center\": [-2.0, -0.25, -1.75]}, {\"type\": \"Sphere\", \"radius\": 0.2, \"center\": [-1.5, -0.75, -1.75]}, {\"type\": \"Sphere\", \"radius\": 0.2, \"center\": [-1.5, -0.25, -2.25]}, {\"type\": \"Sphere\", \"radius\": 0.2, \"center\": [-1.0, -0.75, -2.25]}, {\"type\": \"Sphere\", \"radius\": 0.2, \"center\": [-2.0, -0.25, -0.75]}, {\"type\": \"Sphere\", \"radius\": 0.2, \"center\": [-1.5, -0.75, -0.75]}, {\"type\": \"Sphere\", \"radius\": 0.2, \"center\": [-1.5, -0.25, -1.25]}, {\"type\": \"Sphere\", \"radius\": 0.2, \"center\": [-1.0, -0.75, -1.25]}, {\"type\": \"Sphere\", \"radius\": 0.2, \"center\": [-2.0, -0.25, 0.25]}, {\"type\": \"Sphere\", \"radius\": 0.2, \"center\": [-1.5, -0.75, 0.25]}, {\"type\": \"Sphere\", \"radius\": 0.2, \"center\": [-1.5, -0.25, -0.25]}, {\"type\": \"Sphere\", \"radius\": 0.2, \"center\": [-1.0, -0.75, -0.25]}, {\"type\": \"Sphere\", \"radius\": 0.2, \"center\": [-2.0, -0.25, 1.25]}, {\"type\": \"Sphere\", \"radius\": 0.2, \"center\": [-1.5, -0.75, 1.25]}, {\"type\": \"Sphere\", \"radius\": 0.2, \"center\": [-1.5, -0.25, 0.75]}, {\"type\": \"Sphere\", \"radius\": 0.2, \"center\": [-1.0, -0.75, 0.75]}, {\"type\": \"Sphere\", \"radius\": 0.2, \"center\": [-2.0, -0.25, 2.25]}, {\"type\": \"Sphere\", \"radius\": 0.2, \"center\": [-1.5, -0.75, 2.25]}, {\"type\": \"Sphere\", \"radius\": 0.2, \"center\": [-1.5, -0.25, 1.75]}, {\"type\": \"Sphere\", \"radius\": 0.2, \"center\": [-1.0, -0.75, 1.75]}, {\"type\": \"Sphere\", \"radius\": 0.2, \"center\": [-2.0, 0.75, -1.75]}, {\"type\": \"Sphere\", \"radius\": 0.2, \"center\": [-1.5, 0.25, -1.75]}, {\"type\": \"Sphere\", \"radius\": 0.2, \"center\": [-1.5, 0.75, -2.25]}, {\"type\": \"Sphere\", \"radius\": 0.2, \"center\": [-1.0, 0.25, -2.25]}, {\"type\": \"Sphere\", \"radius\": 0.2, \"center\": [-2.0, 0.75, -0.75]}, {\"type\": \"Sphere\", \"radius\": 0.2, \"center\": [-1.5, 0.25, -0.75]}, {\"type\": \"Sphere\", \"radius\": 0.2, \"center\": [-1.5, 0.75, -1.25]}, {\"type\": \"Sphere\", \"radius\": 0.2, \"center\": [-1.0, 0.25, -1.25]}, {\"type\": \"Sphere\", \"radius\": 0.2, \"center\": [-2.0, 0.75, 0.25]}, {\"type\": \"Sphere\", \"radius\": 0.2, \"center\": [-1.5, 0.25, 0.25]}, {\"type\": \"Sphere\", \"radius\": 0.2, \"center\": [-1.5, 0.75, -0.25]}, {\"type\": \"Sphere\", \"radius\": 0.2, \"center\": [-1.0, 0.25, -0.25]}, {\"type\": \"Sphere\", \"radius\": 0.2, \"center\": [-2.0, 0.75, 1.25]}, {\"type\": \"Sphere\", \"radius\": 0.2, \"center\": [-1.5, 0.25, 1.25]}, {\"type\": \"Sphere\", \"radius\": 0.2, \"center\": [-1.5, 0.75, 0.75]}, {\"type\": \"Sphere\", \"radius\": 0.2, \"center\": [-1.0, 0.25, 0.75]}, {\"type\": \"Sphere\", \"radius\": 0.2, \"center\": [-2.0, 0.75, 2.25]}, {\"type\": \"Sphere\", \"radius\": 0.2, \"center\": [-1.5, 0.25, 2.25]}, {\"type\": \"Sphere\", \"radius\": 0.2, \"center\": [-1.5, 0.75, 1.75]}, {\"type\": \"Sphere\", \"radius\": 0.2, \"center\": [-1.0, 0.25, 1.75]}, {\"type\": \"Sphere\", \"radius\": 0.2, \"center\": [-2.0, 1.75, -1.75]}, {\"type\": \"Sphere\", \"radius\": 0.2, \"center\": [-1.5, 1.25, -1.75]}, {\"type\": \"Sphere\", \"radius\": 0.2, \"center\": [-1.5, 1.75, -2.25]}, {\"type\": \"Sphere\", \"radius\": 0.2, \"center\": [-1.0, 1.25, -2.25]}, {\"type\": \"Sphere\", \"radius\": 0.2, \"center\": [-2.0, 1.75, -0.75]}, {\"type\": \"Sphere\", \"radius\": 0.2, \"center\": [-1.5, 1.25, -0.75]}, {\"type\": \"Sphere\", \"radius\": 0.2, \"center\": [-1.5, 1.75, -1.25]}, {\"type\": \"Sphere\", \"radius\": 0.2, \"center\": [-1.0, 1.25, -1.25]}, {\"type\": \"Sphere\", \"radius\": 0.2, \"center\": [-2.0, 1.75, 0.25]}, {\"type\": \"Sphere\", \"radius\": 0.2, \"center\": [-1.5, 1.25, 0.25]}, {\"type\": \"Sphere\", \"radius\": 0.2, \"center\": [-1.5, 1.75, -0.25]}, {\"type\": \"Sphere\", \"radius\": 0.2, \"center\": [-1.0, 1.25, -0.25]}, {\"type\": \"Sphere\", \"radius\": 0.2, \"center\": [-2.0, 1.75, 1.25]}, {\"type\": \"Sphere\", \"radius\": 0.2, \"center\": [-1.5, 1.25, 1.25]}, {\"type\": \"Sphere\", \"radius\": 0.2, \"center\": [-1.5, 1.75, 0.75]}, {\"type\": \"Sphere\", \"radius\": 0.2, \"center\": [-1.0, 1.25, 0.75]}, {\"type\": \"Sphere\", \"radius\": 0.2, \"center\": [-2.0, 1.75, 2.25]}, {\"type\": \"Sphere\", \"radius\": 0.2, \"center\": [-1.5, 1.25, 2.25]}, {\"type\": \"Sphere\", \"radius\": 0.2, \"center\": [-1.5, 1.75, 1.75]}, {\"type\": \"Sphere\", \"radius\": 0.2, \"center\": [-1.0, 1.25, 1.75]}, {\"type\": \"Sphere\", \"radius\": 0.2, \"center\": [-2.0, 2.75, -1.75]}, {\"type\": \"Sphere\", \"radius\": 0.2, \"center\": [-1.5, 2.25, -1.75]}, {\"type\": \"Sphere\", \"radius\": 0.2, \"center\": [-1.5, 2.75, -2.25]}, {\"type\": \"Sphere\", \"radius\": 0.2, \"center\": [-1.0, 2.25, -2.25]}, {\"type\": \"Sphere\", \"radius\": 0.2, \"center\": [-2.0, 2.75, -0.75]}, {\"type\": \"Sphere\", \"radius\": 0.2, \"center\": [-1.5, 2.25, -0.75]}, {\"type\": \"Sphere\", \"radius\": 0.2, \"center\": [-1.5, 2.75, -1.25]}, {\"type\": \"Sphere\", \"radius\": 0.2, \"center\": [-1.0, 2.25, -1.25]}, {\"type\": \"Sphere\", \"radius\": 0.2, \"center\": [-2.0, 2.75, 0.25]}, {\"type\": \"Sphere\", \"radius\": 0.2, \"center\": [-1.5, 2.25, 0.25]}, {\"type\": \"Sphere\", \"radius\": 0.2, \"center\": [-1.5, 2.75, -0.25]}, {\"type\": \"Sphere\", \"radius\": 0.2, \"center\": [-1.0, 2.25, -0.25]}, {\"type\": \"Sphere\", \"radius\": 0.2, \"center\": [-2.0, 2.75, 1.25]}, {\"type\": \"Sphere\", \"radius\": 0.2, \"center\": [-1.5, 2.25, 1.25]}, {\"type\": \"Sphere\", \"radius\": 0.2, \"center\": [-1.5, 2.75, 0.75]}, {\"type\": \"Sphere\", \"radius\": 0.2, \"center\": [-1.0, 2.25, 0.75]}, {\"type\": \"Sphere\", \"radius\": 0.2, \"center\": [-2.0, 2.75, 2.25]}, {\"type\": \"Sphere\", \"radius\": 0.2, \"center\": [-1.5, 2.25, 2.25]}, {\"type\": \"Sphere\", \"radius\": 0.2, \"center\": [-1.5, 2.75, 1.75]}, {\"type\": \"Sphere\", \"radius\": 0.2, \"center\": [-1.0, 2.25, 1.75]}, {\"type\": \"Sphere\", \"radius\": 0.2, \"center\": [-1.0, -2.25, -1.75]}, {\"type\": \"Sphere\", \"radius\": 0.2, \"center\": [-0.5, -2.75, -1.75]}, {\"type\": \"Sphere\", \"radius\": 0.2, \"center\": [-0.5, -2.25, -2.25]}, {\"type\": \"Sphere\", \"radius\": 0.2, \"center\": [0.0, -2.75, -2.25]}, {\"type\": \"Sphere\", \"radius\": 0.2, \"center\": [-1.0, -2.25, -0.75]}, {\"type\": \"Sphere\", \"radius\": 0.2, \"center\": [-0.5, -2.75, -0.75]}, {\"type\": \"Sphere\", \"radius\": 0.2, \"center\": [-0.5, -2.25, -1.25]}, {\"type\": \"Sphere\", \"radius\": 0.2, \"center\": [0.0, -2.75, -1.25]}, {\"type\": \"Sphere\", \"radius\": 0.2, \"center\": [-1.0, -2.25, 0.25]}, {\"type\": \"Sphere\", \"radius\": 0.2, \"center\": [-0.5, -2.75, 0.25]}, {\"type\": \"Sphere\", \"radius\": 0.2, \"center\": [-0.5, -2.25, -0.25]}, {\"type\": \"Sphere\", \"radius\": 0.2, \"center\": [0.0, -2.75, -0.25]}, {\"type\": \"Sphere\", \"radius\": 0.2, \"center\": [-1.0, -2.25, 1.25]}, {\"type\": \"Sphere\", \"radius\": 0.2, \"center\": [-0.5, -2.75, 1.25]}, {\"type\": \"Sphere\", \"radius\": 0.2, \"center\": [-0.5, -2.25, 0.75]}, {\"type\": \"Sphere\", \"radius\": 0.2, \"center\": [0.0, -2.75, 0.75]}, {\"type\": \"Sphere\", \"radius\": 0.2, \"center\": [-1.0, -2.25, 2.25]}, {\"type\": \"Sphere\", \"radius\": 0.2, \"center\": [-0.5, -2.75, 2.25]}, {\"type\": \"Sphere\", \"radius\": 0.2, \"center\": [-0.5, -2.25, 1.75]}, {\"type\": \"Sphere\", \"radius\": 0.2, \"center\": [0.0, -2.75, 1.75]}, {\"type\": \"Sphere\", \"radius\": 0.2, \"center\": [-1.0, -1.25, -1.75]}, {\"type\": \"Sphere\", \"radius\": 0.2, \"center\": [-0.5, -1.75, -1.75]}, {\"type\": \"Sphere\", \"radius\": 0.2, \"center\": [-0.5, -1.25, -2.25]}, {\"type\": \"Sphere\", \"radius\": 0.2, \"center\": [0.0, -1.75, -2.25]}, {\"type\": \"Sphere\", \"radius\": 0.2, \"center\": [-1.0, -1.25, -0.75]}, {\"type\": \"Sphere\", \"radius\": 0.2, \"center\": [-0.5, -1.75, -0.75]}, {\"type\": \"Sphere\", \"radius\": 0.2, \"center\": [-0.5, -1.25, -1.25]}, {\"type\": \"Sphere\", \"radius\": 0.2, \"center\": [0.0, -1.75, -1.25]}, {\"type\": \"Sphere\", \"radius\": 0.2, \"center\": [-1.0, -1.25, 0.25]}, {\"type\": \"Sphere\", \"radius\": 0.2, \"center\": [-0.5, -1.75, 0.25]}, {\"type\": \"Sphere\", \"radius\": 0.2, \"center\": [-0.5, -1.25, -0.25]}, {\"type\": \"Sphere\", \"radius\": 0.2, \"center\": [0.0, -1.75, -0.25]}, {\"type\": \"Sphere\", \"radius\": 0.2, \"center\": [-1.0, -1.25, 1.25]}, {\"type\": \"Sphere\", \"radius\": 0.2, \"center\": [-0.5, -1.75, 1.25]}, {\"type\": \"Sphere\", \"radius\": 0.2, \"center\": [-0.5, -1.25, 0.75]}, {\"type\": \"Sphere\", \"radius\": 0.2, \"center\": [0.0, -1.75, 0.75]}, {\"type\": \"Sphere\", \"radius\": 0.2, \"center\": [-1.0, -1.25, 2.25]}, {\"type\": \"Sphere\", \"radius\": 0.2, \"center\": [-0.5, -1.75, 2.25]}, {\"type\": \"Sphere\", \"radius\": 0.2, \"center\": [-0.5, -1.25, 1.75]}, {\"type\": \"Sphere\", \"radius\": 0.2, \"center\": [0.0, -1.75, 1.75]}, {\"type\": \"Sphere\", \"radius\": 0.2, \"center\": [-1.0, -0.25, -1.75]}, {\"type\": \"Sphere\", \"radius\": 0.2, \"center\": [-0.5, -0.75, -1.75]}, {\"type\": \"Sphere\", \"radius\": 0.2, \"center\": [-0.5, -0.25, -2.25]}, {\"type\": \"Sphere\", \"radius\": 0.2, \"center\": [0.0, -0.75, -2.25]}, {\"type\": \"Sphere\", \"radius\": 0.2, \"center\": [-1.0, -0.25, -0.75]}, {\"type\": \"Sphere\", \"radius\": 0.2, \"center\": [-0.5, -0.75, -0.75]}, {\"type\": \"Sphere\", \"radius\": 0.2, \"center\": [-0.5, -0.25, -1.25]}, {\"type\": \"Sphere\", \"radius\": 0.2, \"center\": [0.0, -0.75, -1.25]}, {\"type\": \"Sphere\", \"radius\": 0.2, \"center\": [-1.0, -0.25, 0.25]}, {\"type\": \"Sphere\", \"radius\": 0.2, \"center\": [-0.5, -0.75, 0.25]}, {\"type\": \"Sphere\", \"radius\": 0.2, \"center\": [-0.5, -0.25, -0.25]}, {\"type\": \"Sphere\", \"radius\": 0.2, \"center\": [0.0, -0.75, -0.25]}, {\"type\": \"Sphere\", \"radius\": 0.2, \"center\": [-1.0, -0.25, 1.25]}, {\"type\": \"Sphere\", \"radius\": 0.2, \"center\": [-0.5, -0.75, 1.25]}, {\"type\": \"Sphere\", \"radius\": 0.2, \"center\": [-0.5, -0.25, 0.75]}, {\"type\": \"Sphere\", \"radius\": 0.2, \"center\": [0.0, -0.75, 0.75]}, {\"type\": \"Sphere\", \"radius\": 0.2, \"center\": [-1.0, -0.25, 2.25]}, {\"type\": \"Sphere\", \"radius\": 0.2, \"center\": [-0.5, -0.75, 2.25]}, {\"type\": \"Sphere\", \"radius\": 0.2, \"center\": [-0.5, -0.25, 1.75]}, {\"type\": \"Sphere\", \"radius\": 0.2, \"center\": [0.0, -0.75, 1.75]}, {\"type\": \"Sphere\", \"radius\": 0.2, \"center\": [-1.0, 0.75, -1.75]}, {\"type\": \"Sphere\", \"radius\": 0.2, \"center\": [-0.5, 0.25, -1.75]}, {\"type\": \"Sphere\", \"radius\": 0.2, \"center\": [-0.5, 0.75, -2.25]}, {\"type\": \"Sphere\", \"radius\": 0.2, \"center\": [0.0, 0.25, -2.25]}, {\"type\": \"Sphere\", \"radius\": 0.2, \"center\": [-1.0, 0.75, -0.75]}, {\"type\": \"Sphere\", \"radius\": 0.2, \"center\": [-0.5, 0.25, -0.75]}, {\"type\": \"Sphere\", \"radius\": 0.2, \"center\": [-0.5, 0.75, -1.25]}, {\"type\": \"Sphere\", \"radius\": 0.2, \"center\": [0.0, 0.25, -1.25]}, {\"type\": \"Sphere\", \"radius\": 0.2, \"center\": [-1.0, 0.75, 0.25]}, {\"type\": \"Sphere\", \"radius\": 0.2, \"center\": [-0.5, 0.25, 0.25]}, {\"type\": \"Sphere\", \"radius\": 0.2, \"center\": [-0.5, 0.75, -0.25]}, {\"type\": \"Sphere\", \"radius\": 0.2, \"center\": [0.0, 0.25, -0.25]}, {\"type\": \"Sphere\", \"radius\": 0.2, \"center\": [-1.0, 0.75, 1.25]}, {\"type\": \"Sphere\", \"radius\": 0.2, \"center\": [-0.5, 0.25, 1.25]}, {\"type\": \"Sphere\", \"radius\": 0.2, \"center\": [-0.5, 0.75, 0.75]}, {\"type\": \"Sphere\", \"radius\": 0.2, \"center\": [0.0, 0.25, 0.75]}, {\"type\": \"Sphere\", \"radius\": 0.2, \"center\": [-1.0, 0.75, 2.25]}, {\"type\": \"Sphere\", \"radius\": 0.2, \"center\": [-0.5, 0.25, 2.25]}, {\"type\": \"Sphere\", \"radius\": 0.2, \"center\": [-0.5, 0.75, 1.75]}, {\"type\": \"Sphere\", \"radius\": 0.2, \"center\": [0.0, 0.25, 1.75]}, {\"type\": \"Sphere\", \"radius\": 0.2, \"center\": [-1.0, 1.75, -1.75]}, {\"type\": \"Sphere\", \"radius\": 0.2, \"center\": [-0.5, 1.25, -1.75]}, {\"type\": \"Sphere\", \"radius\": 0.2, \"center\": [-0.5, 1.75, -2.25]}, {\"type\": \"Sphere\", \"radius\": 0.2, \"center\": [0.0, 1.25, -2.25]}, {\"type\": \"Sphere\", \"radius\": 0.2, \"center\": [-1.0, 1.75, -0.75]}, {\"type\": \"Sphere\", \"radius\": 0.2, \"center\": [-0.5, 1.25, -0.75]}, {\"type\": \"Sphere\", \"radius\": 0.2, \"center\": [-0.5, 1.75, -1.25]}, {\"type\": \"Sphere\", \"radius\": 0.2, \"center\": [0.0, 1.25, -1.25]}, {\"type\": \"Sphere\", \"radius\": 0.2, \"center\": [-1.0, 1.75, 0.25]}, {\"type\": \"Sphere\", \"radius\": 0.2, \"center\": [-0.5, 1.25, 0.25]}, {\"type\": \"Sphere\", \"radius\": 0.2, \"center\": [-0.5, 1.75, -0.25]}, {\"type\": \"Sphere\", \"radius\": 0.2, \"center\": [0.0, 1.25, -0.25]}, {\"type\": \"Sphere\", \"radius\": 0.2, \"center\": [-1.0, 1.75, 1.25]}, {\"type\": \"Sphere\", \"radius\": 0.2, \"center\": [-0.5, 1.25, 1.25]}, {\"type\": \"Sphere\", \"radius\": 0.2, \"center\": [-0.5, 1.75, 0.75]}, {\"type\": \"Sphere\", \"radius\": 0.2, \"center\": [0.0, 1.25, 0.75]}, {\"type\": \"Sphere\", \"radius\": 0.2, \"center\": [-1.0, 1.75, 2.25]}, {\"type\": \"Sphere\", \"radius\": 0.2, \"center\": [-0.5, 1.25, 2.25]}, {\"type\": \"Sphere\", \"radius\": 0.2, \"center\": [-0.5, 1.75, 1.75]}, {\"type\": \"Sphere\", \"radius\": 0.2, \"center\": [0.0, 1.25, 1.75]}, {\"type\": \"Sphere\", \"radius\": 0.2, \"center\": [-1.0, 2.75, -1.75]}, {\"type\": \"Sphere\", \"radius\": 0.2, \"center\": [-0.5, 2.25, -1.75]}, {\"type\": \"Sphere\", \"radius\": 0.2, \"center\": [-0.5, 2.75, -2.25]}, {\"type\": \"Sphere\", \"radius\": 0.2, \"center\": [0.0, 2.25, -2.25]}, {\"type\": \"Sphere\", \"radius\": 0.2, \"center\": [-1.0, 2.75, -0.75]}, {\"type\": \"Sphere\", \"radius\": 0.2, \"center\": [-0.5, 2.25, -0.75]}, {\"type\": \"Sphere\", \"radius\": 0.2, \"center\": [-0.5, 2.75, -1.25]}, {\"type\": \"Sphere\", \"radius\": 0.2, \"center\": [0.0, 2.25, -1.25]}, {\"type\": \"Sphere\", \"radius\": 0.2, \"center\": [-1.0, 2.75, 0.25]}, {\"type\": \"Sphere\", \"radius\": 0.2, \"center\": [-0.5, 2.25, 0.25]}, {\"type\": \"Sphere\", \"radius\": 0.2, \"center\": [-0.5, 2.75, -0.25]}, {\"type\": \"Sphere\", \"radius\": 0.2, \"center\": [0.0, 2.25, -0.25]}, {\"type\": \"Sphere\", \"radius\": 0.2, \"center\": [-1.0, 2.75, 1.25]}, {\"type\": \"Sphere\", \"radius\": 0.2, \"center\": [-0.5, 2.25, 1.25]}, {\"type\": \"Sphere\", \"radius\": 0.2, \"center\": [-0.5, 2.75, 0.75]}, {\"type\": \"Sphere\", \"radius\": 0.2, \"center\": [0.0, 2.25, 0.75]}, {\"type\": \"Sphere\", \"radius\": 0.2, \"center\": [-1.0, 2.75, 2.25]}, {\"type\": \"Sphere\", \"radius\": 0.2, \"center\": [-0.5, 2.25, 2.25]}, {\"type\": \"Sphere\", \"radius\": 0.2, \"center\": [-0.5, 2.75, 1.75]}, {\"type\": \"Sphere\", \"radius\": 0.2, \"center\": [0.0, 2.25, 1.75]}, {\"type\": \"Sphere\", \"radius\": 0.2, \"center\": [0.0, -2.25, -1.75]}, {\"type\": \"Sphere\", \"radius\": 0.2, \"center\": [0.5, -2.75, -1.75]}, {\"type\": \"Sphere\", \"radius\": 0.2, \"center\": [0.5, -2.25, -2.25]}, {\"type\": \"Sphere\", \"radius\": 0.2, \"center\": [1.0, -2.75, -2.25]}, {\"type\": \"Sphere\", \"radius\": 0.2, \"center\": [0.0, -2.25, -0.75]}, {\"type\": \"Sphere\", \"radius\": 0.2, \"center\": [0.5, -2.75, -0.75]}, {\"type\": \"Sphere\", \"radius\": 0.2, \"center\": [0.5, -2.25, -1.25]}, {\"type\": \"Sphere\", \"radius\": 0.2, \"center\": [1.0, -2.75, -1.25]}, {\"type\": \"Sphere\", \"radius\": 0.2, \"center\": [0.0, -2.25, 0.25]}, {\"type\": \"Sphere\", \"radius\": 0.2, \"center\": [0.5, -2.75, 0.25]}, {\"type\": \"Sphere\", \"radius\": 0.2, \"center\": [0.5, -2.25, -0.25]}, {\"type\": \"Sphere\", \"radius\": 0.2, \"center\": [1.0, -2.75, -0.25]}, {\"type\": \"Sphere\", \"radius\": 0.2, \"center\": [0.0, -2.25, 1.25]}, {\"type\": \"Sphere\", \"radius\": 0.2, \"center\": [0.5, -2.75, 1.25]}, {\"type\": \"Sphere\", \"radius\": 0.2, \"center\": [0.5, -2.25, 0.75]}, {\"type\": \"Sphere\", \"radius\": 0.2, \"center\": [1.0, -2.75, 0.75]}, {\"type\": \"Sphere\", \"radius\": 0.2, \"center\": [0.0, -2.25, 2.25]}, {\"type\": \"Sphere\", \"radius\": 0.2, \"center\": [0.5, -2.75, 2.25]}, {\"type\": \"Sphere\", \"radius\": 0.2, \"center\": [0.5, -2.25, 1.75]}, {\"type\": \"Sphere\", \"radius\": 0.2, \"center\": [1.0, -2.75, 1.75]}, {\"type\": \"Sphere\", \"radius\": 0.2, \"center\": [0.0, -1.25, -1.75]}, {\"type\": \"Sphere\", \"radius\": 0.2, \"center\": [0.5, -1.75, -1.75]}, {\"type\": \"Sphere\", \"radius\": 0.2, \"center\": [0.5, -1.25, -2.25]}, {\"type\": \"Sphere\", \"radius\": 0.2, \"center\": [1.0, -1.75, -2.25]}, {\"type\": \"Sphere\", \"radius\": 0.2, \"center\": [0.0, -1.25, -0.75]}, {\"type\": \"Sphere\", \"radius\": 0.2, \"center\": [0.5, -1.75, -0.75]}, {\"type\": \"Sphere\", \"radius\": 0.2, \"center\": [0.5, -1.25, -1.25]}, {\"type\": \"Sphere\", \"radius\": 0.2, \"center\": [1.0, -1.75, -1.25]}, {\"type\": \"Sphere\", \"radius\": 0.2, \"center\": [0.0, -1.25, 0.25]}, {\"type\": \"Sphere\", \"radius\": 0.2, \"center\": [0.5, -1.75, 0.25]}, {\"type\": \"Sphere\", \"radius\": 0.2, \"center\": [0.5, -1.25, -0.25]}, {\"type\": \"Sphere\", \"radius\": 0.2, \"center\": [1.0, -1.75, -0.25]}, {\"type\": \"Sphere\", \"radius\": 0.2, \"center\": [0.0, -1.25, 1.25]}, {\"type\": \"Sphere\", \"radius\": 0.2, \"center\": [0.5, -1.75, 1.25]}, {\"type\": \"Sphere\", \"radius\": 0.2, \"center\": [0.5, -1.25, 0.75]}, {\"type\": \"Sphere\", \"radius\": 0.2, \"center\": [1.0, -1.75, 0.75]}, {\"type\": \"Sphere\", \"radius\": 0.2, \"center\": [0.0, -1.25, 2.25]}, {\"type\": \"Sphere\", \"radius\": 0.2, \"center\": [0.5, -1.75, 2.25]}, {\"type\": \"Sphere\", \"radius\": 0.2, \"center\": [0.5, -1.25, 1.75]}, {\"type\": \"Sphere\", \"radius\": 0.2, \"center\": [1.0, -1.75, 1.75]}, {\"type\": \"Sphere\", \"radius\": 0.2, \"center\": [0.0, -0.25, -1.75]}, {\"type\": \"Sphere\", \"radius\": 0.2, \"center\": [0.5, -0.75, -1.75]}, {\"type\": \"Sphere\", \"radius\": 0.2, \"center\": [0.5, -0.25, -2.25]}, {\"type\": \"Sphere\", \"radius\": 0.2, \"center\": [1.0, -0.75, -2.25]}, {\"type\": \"Sphere\", \"radius\": 0.2, \"center\": [0.0, -0.25, -0.75]}, {\"type\": \"Sphere\", \"radius\": 0.2, \"center\": [0.5, -0.75, -0.75]}, {\"type\": \"Sphere\", \"radius\": 0.2, \"center\": [0.5, -0.25, -1.25]}, {\"type\": \"Sphere\", \"radius\": 0.2, \"center\": [1.0, -0.75, -1.25]}, {\"type\": \"Sphere\", \"radius\": 0.2, \"center\": [0.0, -0.25, 0.25]}, {\"type\": \"Sphere\", \"radius\": 0.2, \"center\": [0.5, -0.75, 0.25]}, {\"type\": \"Sphere\", \"radius\": 0.2, \"center\": [0.5, -0.25, -0.25]}, {\"type\": \"Sphere\", \"radius\": 0.2, \"center\": [1.0, -0.75, -0.25]}, {\"type\": \"Sphere\", \"radius\": 0.2, \"center\": [0.0, -0.25, 1.25]}, {\"type\": \"Sphere\", \"radius\": 0.2, \"center\": [0.5, -0.75, 1.25]}, {\"type\": \"Sphere\", \"radius\": 0.2, \"center\": [0.5, -0.25, 0.75]}, {\"type\": \"Sphere\", \"radius\": 0.2, \"center\": [1.0, -0.75, 0.75]}, {\"type\": \"Sphere\", \"radius\": 0.2, \"center\": [0.0, -0.25, 2.25]}, {\"type\": \"Sphere\", \"radius\": 0.2, \"center\": [0.5, -0.75, 2.25]}, {\"type\": \"Sphere\", \"radius\": 0.2, \"center\": [0.5, -0.25, 1.75]}, {\"type\": \"Sphere\", \"radius\": 0.2, \"center\": [1.0, -0.75, 1.75]}, {\"type\": \"Sphere\", \"radius\": 0.2, \"center\": [0.0, 0.75, -1.75]}, {\"type\": \"Sphere\", \"radius\": 0.2, \"center\": [0.5, 0.25, -1.75]}, {\"type\": \"Sphere\", \"radius\": 0.2, \"center\": [0.5, 0.75, -2.25]}, {\"type\": \"Sphere\", \"radius\": 0.2, \"center\": [1.0, 0.25, -2.25]}, {\"type\": \"Sphere\", \"radius\": 0.2, \"center\": [0.0, 0.75, -0.75]}, {\"type\": \"Sphere\", \"radius\": 0.2, \"center\": [0.5, 0.25, -0.75]}, {\"type\": \"Sphere\", \"radius\": 0.2, \"center\": [0.5, 0.75, -1.25]}, {\"type\": \"Sphere\", \"radius\": 0.2, \"center\": [1.0, 0.25, -1.25]}, {\"type\": \"Sphere\", \"radius\": 0.2, \"center\": [0.0, 0.75, 0.25]}, {\"type\": \"Sphere\", \"radius\": 0.2, \"center\": [0.5, 0.25, 0.25]}, {\"type\": \"Sphere\", \"radius\": 0.2, \"center\": [0.5, 0.75, -0.25]}, {\"type\": \"Sphere\", \"radius\": 0.2, \"center\": [1.0, 0.25, -0.25]}, {\"type\": \"Sphere\", \"radius\": 0.2, \"center\": [0.0, 0.75, 1.25]}, {\"type\": \"Sphere\", \"radius\": 0.2, \"center\": [0.5, 0.25, 1.25]}, {\"type\": \"Sphere\", \"radius\": 0.2, \"center\": [0.5, 0.75, 0.75]}, {\"type\": \"Sphere\", \"radius\": 0.2, \"center\": [1.0, 0.25, 0.75]}, {\"type\": \"Sphere\", \"radius\": 0.2, \"center\": [0.0, 0.75, 2.25]}, {\"type\": \"Sphere\", \"radius\": 0.2, \"center\": [0.5, 0.25, 2.25]}, {\"type\": \"Sphere\", \"radius\": 0.2, \"center\": [0.5, 0.75, 1.75]}, {\"type\": \"Sphere\", \"radius\": 0.2, \"center\": [1.0, 0.25, 1.75]}, {\"type\": \"Sphere\", \"radius\": 0.2, \"center\": [0.0, 1.75, -1.75]}, {\"type\": \"Sphere\", \"radius\": 0.2, \"center\": [0.5, 1.25, -1.75]}, {\"type\": \"Sphere\", \"radius\": 0.2, \"center\": [0.5, 1.75, -2.25]}, {\"type\": \"Sphere\", \"radius\": 0.2, \"center\": [1.0, 1.25, -2.25]}, {\"type\": \"Sphere\", \"radius\": 0.2, \"center\": [0.0, 1.75, -0.75]}, {\"type\": \"Sphere\", \"radius\": 0.2, \"center\": [0.5, 1.25, -0.75]}, {\"type\": \"Sphere\", \"radius\": 0.2, \"center\": [0.5, 1.75, -1.25]}, {\"type\": \"Sphere\", \"radius\": 0.2, \"center\": [1.0, 1.25, -1.25]}, {\"type\": \"Sphere\", \"radius\": 0.2, \"center\": [0.0, 1.75, 0.25]}, {\"type\": \"Sphere\", \"radius\": 0.2, \"center\": [0.5, 1.25, 0.25]}, {\"type\": \"Sphere\", \"radius\": 0.2, \"center\": [0.5, 1.75, -0.25]}, {\"type\": \"Sphere\", \"radius\": 0.2, \"center\": [1.0, 1.25, -0.25]}, {\"type\": \"Sphere\", \"radius\": 0.2, \"center\": [0.0, 1.75, 1.25]}, {\"type\": \"Sphere\", \"radius\": 0.2, \"center\": [0.5, 1.25, 1.25]}, {\"type\": \"Sphere\", \"radius\": 0.2, \"center\": [0.5, 1.75, 0.75]}, {\"type\": \"Sphere\", \"radius\": 0.2, \"center\": [1.0, 1.25, 0.75]}, {\"type\": \"Sphere\", \"radius\": 0.2, \"center\": [0.0, 1.75, 2.25]}, {\"type\": \"Sphere\", \"radius\": 0.2, \"center\": [0.5, 1.25, 2.25]}, {\"type\": \"Sphere\", \"radius\": 0.2, \"center\": [0.5, 1.75, 1.75]}, {\"type\": \"Sphere\", \"radius\": 0.2, \"center\": [1.0, 1.25, 1.75]}, {\"type\": \"Sphere\", \"radius\": 0.2, \"center\": [0.0, 2.75, -1.75]}, {\"type\": \"Sphere\", \"radius\": 0.2, \"center\": [0.5, 2.25, -1.75]}, {\"type\": \"Sphere\", \"radius\": 0.2, \"center\": [0.5, 2.75, -2.25]}, {\"type\": \"Sphere\", \"radius\": 0.2, \"center\": [1.0, 2.25, -2.25]}, {\"type\": \"Sphere\", \"radius\": 0.2, \"center\": [0.0, 2.75, -0.75]}, {\"type\": \"Sphere\", \"radius\": 0.2, \"center\": [0.5, 2.25, -0.75]}, {\"type\": \"Sphere\", \"radius\": 0.2, \"center\": [0.5, 2.75, -1.25]}, {\"type\": \"Sphere\", \"radius\": 0.2, \"center\": [1.0, 2.25, -1.25]}, {\"type\": \"Sphere\", \"radius\": 0.2, \"center\": [0.0, 2.75, 0.25]}, {\"type\": \"Sphere\", \"radius\": 0.2, \"center\": [0.5, 2.25, 0.25]}, {\"type\": \"Sphere\", \"radius\": 0.2, \"center\": [0.5, 2.75, -0.25]}, {\"type\": \"Sphere\", \"radius\": 0.2, \"center\": [1.0, 2.25, -0.25]}, {\"type\": \"Sphere\", \"radius\": 0.2, \"center\": [0.0, 2.75, 1.25]}, {\"type\": \"Sphere\", \"radius\": 0.2, \"center\": [0.5, 2.25, 1.25]}, {\"type\": \"Sphere\", \"radius\": 0.2, \"center\": [0.5, 2.75, 0.75]}, {\"type\": \"Sphere\", \"radius\": 0.2, \"center\": [1.0, 2.25, 0.75]}, {\"type\": \"Sphere\", \"radius\": 0.2, \"center\": [0.0, 2.75, 2.25]}, {\"type\": \"Sphere\", \"radius\": 0.2, \"center\": [0.5, 2.25, 2.25]}, {\"type\": \"Sphere\", \"radius\": 0.2, \"center\": [0.5, 2.75, 1.75]}, {\"type\": \"Sphere\", \"radius\": 0.2, \"center\": [1.0, 2.25, 1.75]}, {\"type\": \"Sphere\", \"radius\": 0.2, \"center\": [1.0, -2.25, -1.75]}, {\"type\": \"Sphere\", \"radius\": 0.2, \"center\": [1.5, -2.75, -1.75]}, {\"type\": \"Sphere\", \"radius\": 0.2, \"center\": [1.5, -2.25, -2.25]}, {\"type\": \"Sphere\", \"radius\": 0.2, \"center\": [2.0, -2.75, -2.25]}, {\"type\": \"Sphere\", \"radius\": 0.2, \"center\": [1.0, -2.25, -0.75]}, {\"type\": \"Sphere\", \"radius\": 0.2, \"center\": [1.5, -2.75, -0.75]}, {\"type\": \"Sphere\", \"radius\": 0.2, \"center\": [1.5, -2.25, -1.25]}, {\"type\": \"Sphere\", \"radius\": 0.2, \"center\": [2.0, -2.75, -1.25]}, {\"type\": \"Sphere\", \"radius\": 0.2, \"center\": [1.0, -2.25, 0.25]}, {\"type\": \"Sphere\", \"radius\": 0.2, \"center\": [1.5, -2.75, 0.25]}, {\"type\": \"Sphere\", \"radius\": 0.2, \"center\": [1.5, -2.25, -0.25]}, {\"type\": \"Sphere\", \"radius\": 0.2, \"center\": [2.0, -2.75, -0.25]}, {\"type\": \"Sphere\", \"radius\": 0.2, \"center\": [1.0, -2.25, 1.25]}, {\"type\": \"Sphere\", \"radius\": 0.2, \"center\": [1.5, -2.75, 1.25]}, {\"type\": \"Sphere\", \"radius\": 0.2, \"center\": [1.5, -2.25, 0.75]}, {\"type\": \"Sphere\", \"radius\": 0.2, \"center\": [2.0, -2.75, 0.75]}, {\"type\": \"Sphere\", \"radius\": 0.2, \"center\": [1.0, -2.25, 2.25]}, {\"type\": \"Sphere\", \"radius\": 0.2, \"center\": [1.5, -2.75, 2.25]}, {\"type\": \"Sphere\", \"radius\": 0.2, \"center\": [1.5, -2.25, 1.75]}, {\"type\": \"Sphere\", \"radius\": 0.2, \"center\": [2.0, -2.75, 1.75]}, {\"type\": \"Sphere\", \"radius\": 0.2, \"center\": [1.0, -1.25, -1.75]}, {\"type\": \"Sphere\", \"radius\": 0.2, \"center\": [1.5, -1.75, -1.75]}, {\"type\": \"Sphere\", \"radius\": 0.2, \"center\": [1.5, -1.25, -2.25]}, {\"type\": \"Sphere\", \"radius\": 0.2, \"center\": [2.0, -1.75, -2.25]}, {\"type\": \"Sphere\", \"radius\": 0.2, \"center\": [1.0, -1.25, -0.75]}, {\"type\": \"Sphere\", \"radius\": 0.2, \"center\": [1.5, -1.75, -0.75]}, {\"type\": \"Sphere\", \"radius\": 0.2, \"center\": [1.5, -1.25, -1.25]}, {\"type\": \"Sphere\", \"radius\": 0.2, \"center\": [2.0, -1.75, -1.25]}, {\"type\": \"Sphere\", \"radius\": 0.2, \"center\": [1.0, -1.25, 0.25]}, {\"type\": \"Sphere\", \"radius\": 0.2, \"center\": [1.5, -1.75, 0.25]}, {\"type\": \"Sphere\", \"radius\": 0.2, \"center\": [1.5, -1.25, -0.25]}, {\"type\": \"Sphere\", \"radius\": 0.2, \"center\": [2.0, -1.75, -0.25]}, {\"type\": \"Sphere\", \"radius\": 0.2, \"center\": [1.0, -1.25, 1.25]}, {\"type\": \"Sphere\", \"radius\": 0.2, \"center\": [1.5, -1.75, 1.25]}, {\"type\": \"Sphere\", \"radius\": 0.2, \"center\": [1.5, -1.25, 0.75]}, {\"type\": \"Sphere\", \"radius\": 0.2, \"center\": [2.0, -1.75, 0.75]}, {\"type\": \"Sphere\", \"radius\": 0.2, \"center\": [1.0, -1.25, 2.25]}, {\"type\": \"Sphere\", \"radius\": 0.2, \"center\": [1.5, -1.75, 2.25]}, {\"type\": \"Sphere\", \"radius\": 0.2, \"center\": [1.5, -1.25, 1.75]}, {\"type\": \"Sphere\", \"radius\": 0.2, \"center\": [2.0, -1.75, 1.75]}, {\"type\": \"Sphere\", \"radius\": 0.2, \"center\": [1.0, -0.25, -1.75]}, {\"type\": \"Sphere\", \"radius\": 0.2, \"center\": [1.5, -0.75, -1.75]}, {\"type\": \"Sphere\", \"radius\": 0.2, \"center\": [1.5, -0.25, -2.25]}, {\"type\": \"Sphere\", \"radius\": 0.2, \"center\": [2.0, -0.75, -2.25]}, {\"type\": \"Sphere\", \"radius\": 0.2, \"center\": [1.0, -0.25, -0.75]}, {\"type\": \"Sphere\", \"radius\": 0.2, \"center\": [1.5, -0.75, -0.75]}, {\"type\": \"Sphere\", \"radius\": 0.2, \"center\": [1.5, -0.25, -1.25]}, {\"type\": \"Sphere\", \"radius\": 0.2, \"center\": [2.0, -0.75, -1.25]}, {\"type\": \"Sphere\", \"radius\": 0.2, \"center\": [1.0, -0.25, 0.25]}, {\"type\": \"Sphere\", \"radius\": 0.2, \"center\": [1.5, -0.75, 0.25]}, {\"type\": \"Sphere\", \"radius\": 0.2, \"center\": [1.5, -0.25, -0.25]}, {\"type\": \"Sphere\", \"radius\": 0.2, \"center\": [2.0, -0.75, -0.25]}, {\"type\": \"Sphere\", \"radius\": 0.2, \"center\": [1.0, -0.25, 1.25]}, {\"type\": \"Sphere\", \"radius\": 0.2, \"center\": [1.5, -0.75, 1.25]}, {\"type\": \"Sphere\", \"radius\": 0.2, \"center\": [1.5, -0.25, 0.75]}, {\"type\": \"Sphere\", \"radius\": 0.2, \"center\": [2.0, -0.75, 0.75]}, {\"type\": \"Sphere\", \"radius\": 0.2, \"center\": [1.0, -0.25, 2.25]}, {\"type\": \"Sphere\", \"radius\": 0.2, \"center\": [1.5, -0.75, 2.25]}, {\"type\": \"Sphere\", \"radius\": 0.2, \"center\": [1.5, -0.25, 1.75]}, {\"type\": \"Sphere\", \"radius\": 0.2, \"center\": [2.0, -0.75, 1.75]}, {\"type\": \"Sphere\", \"radius\": 0.2, \"center\": [1.0, 0.75, -1.75]}, {\"type\": \"Sphere\", \"radius\": 0.2, \"center\": [1.5, 0.25, -1.75]}, {\"type\": \"Sphere\", \"radius\": 0.2, \"center\": [1.5, 0.75, -2.25]}, {\"type\": \"Sphere\", \"radius\": 0.2, \"center\": [2.0, 0.25, -2.25]}, {\"type\": \"Sphere\", \"radius\": 0.2, \"center\": [1.0, 0.75, -0.75]}, {\"type\": \"Sphere\", \"radius\": 0.2, \"center\": [1.5, 0.25, -0.75]}, {\"type\": \"Sphere\", \"radius\": 0.2, \"center\": [1.5, 0.75, -1.25]}, {\"type\": \"Sphere\", \"radius\": 0.2, \"center\": [2.0, 0.25, -1.25]}, {\"type\": \"Sphere\", \"radius\": 0.2, \"center\": [1.0, 0.75, 0.25]}, {\"type\": \"Sphere\", \"radius\": 0.2, \"center\": [1.5, 0.25, 0.25]}, {\"type\": \"Sphere\", \"radius\": 0.2, \"center\": [1.5, 0.75, -0.25]}, {\"type\": \"Sphere\", \"radius\": 0.2, \"center\": [2.0, 0.25, -0.25]}, {\"type\": \"Sphere\", \"radius\": 0.2, \"center\": [1.0, 0.75, 1.25]}, {\"type\": \"Sphere\", \"radius\": 0.2, \"center\": [1.5, 0.25, 1.25]}, {\"type\": \"Sphere\", \"radius\": 0.2, \"center\": [1.5, 0.75, 0.75]}, {\"type\": \"Sphere\", \"radius\": 0.2, \"center\": [2.0, 0.25, 0.75]}, {\"type\": \"Sphere\", \"radius\": 0.2, \"center\": [1.0, 0.75, 2.25]}, {\"type\": \"Sphere\", \"radius\": 0.2, \"center\": [1.5, 0.25, 2.25]}, {\"type\": \"Sphere\", \"radius\": 0.2, \"center\": [1.5, 0.75, 1.75]}, {\"type\": \"Sphere\", \"radius\": 0.2, \"center\": [2.0, 0.25, 1.75]}, {\"type\": \"Sphere\", \"radius\": 0.2, \"center\": [1.0, 1.75, -1.75]}, {\"type\": \"Sphere\", \"radius\": 0.2, \"center\": [1.5, 1.25, -1.75]}, {\"type\": \"Sphere\", \"radius\": 0.2, \"center\": [1.5, 1.75, -2.25]}, {\"type\": \"Sphere\", \"radius\": 0.2, \"center\": [2.0, 1.25, -2.25]}, {\"type\": \"Sphere\", \"radius\": 0.2, \"center\": [1.0, 1.75, -0.75]}, {\"type\": \"Sphere\", \"radius\": 0.2, \"center\": [1.5, 1.25, -0.75]}, {\"type\": \"Sphere\", \"radius\": 0.2, \"center\": [1.5, 1.75, -1.25]}, {\"type\": \"Sphere\", \"radius\": 0.2, \"center\": [2.0, 1.25, -1.25]}, {\"type\": \"Sphere\", \"radius\": 0.2, \"center\": [1.0, 1.75, 0.25]}, {\"type\": \"Sphere\", \"radius\": 0.2, \"center\": [1.5, 1.25, 0.25]}, {\"type\": \"Sphere\", \"radius\": 0.2, \"center\": [1.5, 1.75, -0.25]}, {\"type\": \"Sphere\", \"radius\": 0.2, \"center\": [2.0, 1.25, -0.25]}, {\"type\": \"Sphere\", \"radius\": 0.2, \"center\": [1.0, 1.75, 1.25]}, {\"type\": \"Sphere\", \"radius\": 0.2, \"center\": [1.5, 1.25, 1.25]}, {\"type\": \"Sphere\", \"radius\": 0.2, \"center\": [1.5, 1.75, 0.75]}, {\"type\": \"Sphere\", \"radius\": 0.2, \"center\": [2.0, 1.25, 0.75]}, {\"type\": \"Sphere\", \"radius\": 0.2, \"center\": [1.0, 1.75, 2.25]}, {\"type\": \"Sphere\", \"radius\": 0.2, \"center\": [1.5, 1.25, 2.25]}, {\"type\": \"Sphere\", \"radius\": 0.2, \"center\": [1.5, 1.75, 1.75]}, {\"type\": \"Sphere\", \"radius\": 0.2, \"center\": [2.0, 1.25, 1.75]}, {\"type\": \"Sphere\", \"radius\": 0.2, \"center\": [1.0, 2.75, -1.75]}, {\"type\": \"Sphere\", \"radius\": 0.2, \"center\": [1.5, 2.25, -1.75]}, {\"type\": \"Sphere\", \"radius\": 0.2, \"center\": [1.5, 2.75, -2.25]}, {\"type\": \"Sphere\", \"radius\": 0.2, \"center\": [2.0, 2.25, -2.25]}, {\"type\": \"Sphere\", \"radius\": 0.2, \"center\": [1.0, 2.75, -0.75]}, {\"type\": \"Sphere\", \"radius\": 0.2, \"center\": [1.5, 2.25, -0.75]}, {\"type\": \"Sphere\", \"radius\": 0.2, \"center\": [1.5, 2.75, -1.25]}, {\"type\": \"Sphere\", \"radius\": 0.2, \"center\": [2.0, 2.25, -1.25]}, {\"type\": \"Sphere\", \"radius\": 0.2, \"center\": [1.0, 2.75, 0.25]}, {\"type\": \"Sphere\", \"radius\": 0.2, \"center\": [1.5, 2.25, 0.25]}, {\"type\": \"Sphere\", \"radius\": 0.2, \"center\": [1.5, 2.75, -0.25]}, {\"type\": \"Sphere\", \"radius\": 0.2, \"center\": [2.0, 2.25, -0.25]}, {\"type\": \"Sphere\", \"radius\": 0.2, \"center\": [1.0, 2.75, 1.25]}, {\"type\": \"Sphere\", \"radius\": 0.2, \"center\": [1.5, 2.25, 1.25]}, {\"type\": \"Sphere\", \"radius\": 0.2, \"center\": [1.5, 2.75, 0.75]}, {\"type\": \"Sphere\", \"radius\": 0.2, \"center\": [2.0, 2.25, 0.75]}, {\"type\": \"Sphere\", \"radius\": 0.2, \"center\": [1.0, 2.75, 2.25]}, {\"type\": \"Sphere\", \"radius\": 0.2, \"center\": [1.5, 2.25, 2.25]}, {\"type\": \"Sphere\", \"radius\": 0.2, \"center\": [1.5, 2.75, 1.75]}, {\"type\": \"Sphere\", \"radius\": 0.2, \"center\": [2.0, 2.25, 1.75]}]}, \"name\": null, \"type\": \"Structure\", \"medium\": {\"name\": null, \"frequency_range\": null, \"allow_gain\": false, \"nonlinear_spec\": null, \"modulation_spec\": null, \"heat_spec\": null, \"type\": \"Medium\", \"permittivity\": 12.1104, \"conductivity\": 0.0}}], \"symmetry\": [0, 0, 0], \"sources\": [], \"boundary_spec\": {\"x\": {\"plus\": {\"name\": null, \"type\": \"PML\", \"num_layers\": 12, \"parameters\": {\"sigma_order\": 3, \"sigma_min\": 0.0, \"sigma_max\": 1.5, \"type\": \"PMLParams\", \"kappa_order\": 3, \"kappa_min\": 1.0, \"kappa_max\": 3.0, \"alpha_order\": 1, \"alpha_min\": 0.0, \"alpha_max\": 0.0}}, \"minus\": {\"name\": null, \"type\": \"PML\", \"num_layers\": 12, \"parameters\": {\"sigma_order\": 3, \"sigma_min\": 0.0, \"sigma_max\": 1.5, \"type\": \"PMLParams\", \"kappa_order\": 3, \"kappa_min\": 1.0, \"kappa_max\": 3.0, \"alpha_order\": 1, \"alpha_min\": 0.0, \"alpha_max\": 0.0}}, \"type\": \"Boundary\"}, \"y\": {\"plus\": {\"name\": null, \"type\": \"PML\", \"num_layers\": 12, \"parameters\": {\"sigma_order\": 3, \"sigma_min\": 0.0, \"sigma_max\": 1.5, \"type\": \"PMLParams\", \"kappa_order\": 3, \"kappa_min\": 1.0, \"kappa_max\": 3.0, \"alpha_order\": 1, \"alpha_min\": 0.0, \"alpha_max\": 0.0}}, \"minus\": {\"name\": null, \"type\": \"PML\", \"num_layers\": 12, \"parameters\": {\"sigma_order\": 3, \"sigma_min\": 0.0, \"sigma_max\": 1.5, \"type\": \"PMLParams\", \"kappa_order\": 3, \"kappa_min\": 1.0, \"kappa_max\": 3.0, \"alpha_order\": 1, \"alpha_min\": 0.0, \"alpha_max\": 0.0}}, \"type\": \"Boundary\"}, \"z\": {\"plus\": {\"name\": null, \"type\": \"PML\", \"num_layers\": 12, \"parameters\": {\"sigma_order\": 3, \"sigma_min\": 0.0, \"sigma_max\": 1.5, \"type\": \"PMLParams\", \"kappa_order\": 3, \"kappa_min\": 1.0, \"kappa_max\": 3.0, \"alpha_order\": 1, \"alpha_min\": 0.0, \"alpha_max\": 0.0}}, \"minus\": {\"name\": null, \"type\": \"PML\", \"num_layers\": 12, \"parameters\": {\"sigma_order\": 3, \"sigma_min\": 0.0, \"sigma_max\": 1.5, \"type\": \"PMLParams\", \"kappa_order\": 3, \"kappa_min\": 1.0, \"kappa_max\": 3.0, \"alpha_order\": 1, \"alpha_min\": 0.0, \"alpha_max\": 0.0}}, \"type\": \"Boundary\"}, \"type\": \"BoundarySpec\"}, \"monitors\": [], \"grid_spec\": {\"grid_x\": {\"type\": \"AutoGrid\", \"min_steps_per_wvl\": 10.0, \"max_scale\": 1.4, \"dl_min\": 0.0, \"mesher\": {\"type\": \"GradedMesher\"}}, \"grid_y\": {\"type\": \"AutoGrid\", \"min_steps_per_wvl\": 10.0, \"max_scale\": 1.4, \"dl_min\": 0.0, \"mesher\": {\"type\": \"GradedMesher\"}}, \"grid_z\": {\"type\": \"AutoGrid\", \"min_steps_per_wvl\": 10.0, \"max_scale\": 1.4, \"dl_min\": 0.0, \"mesher\": {\"type\": \"GradedMesher\"}}, \"wavelength\": 1.55, \"override_structures\": [], \"type\": \"GridSpec\"}, \"version\": \"2.6.0\", \"run_time\": 1.0, \"shutoff\": 1e-05, \"subpixel\": true, \"normalize_index\": 0, \"courant\": 0.99}}, '*')\n",
       "        }\n",
       "    };\n",
       "    window.addEventListener(\n",
       "        'message',\n",
       "        window.postMessageToViewer170815667811710953,\n",
       "        false\n",
       "    );\n",
       "    \n",
       "    </script>\n",
       "    "
      ],
      "text/plain": [
       "<IPython.core.display.HTML object>"
      ]
     },
     "metadata": {},
     "output_type": "display_data"
    }
   ],
   "source": [
    "s = fcc_pc(0, 0, 0, 0.5, 0.2, 4, 6, 5, td.Medium(permittivity=3.48**2))\n",
    "\n",
    "sim = td.Simulation(\n",
    "    size=[10, 10, 10],\n",
    "    grid_spec=td.GridSpec.auto(wavelength=1.55),\n",
    "    structures=[s],\n",
    "    run_time=1,\n",
    ")\n",
    "\n",
    "sim.plot_3d()"
   ]
  },
  {
   "cell_type": "markdown",
   "id": "c073c4a8",
   "metadata": {},
   "source": [
    "## BCC Sphere Array "
   ]
  },
  {
   "cell_type": "markdown",
   "id": "edd8cffc",
   "metadata": {},
   "source": [
    "The function `bcc_pc` returns a BCC PC crystal of spheres, with tunable sphere radius, spacing, and number of spheres in each dimension."
   ]
  },
  {
   "cell_type": "code",
   "execution_count": 20,
   "id": "ede1fbf5",
   "metadata": {
    "execution": {
     "iopub.execute_input": "2024-02-17T07:57:58.127653Z",
     "iopub.status.busy": "2024-02-17T07:57:58.127512Z",
     "iopub.status.idle": "2024-02-17T07:57:58.143121Z",
     "shell.execute_reply": "2024-02-17T07:57:58.142709Z"
    }
   },
   "outputs": [],
   "source": [
    "def bcc_pc(x0, y0, z0, spacing, R, n_x, n_y, n_z, medium):\n",
    "    # parameters\n",
    "    # ------------------------------------------------------------\n",
    "    # x0: x coordinate of center of the array (um)\n",
    "    # y0: y coordinate of center of the array (um)\n",
    "    # z0: z coordinate of center of the array (um)\n",
    "    # spacing: spacing between the centers of the spheres (um)\n",
    "    # R: radius of the spheres\n",
    "    # n_x: number of spheres in x direction\n",
    "    # n_y: number of spheres in y direction\n",
    "    # n_z: number of spheres in z direction\n",
    "    # medium: medium of the spheres\n",
    "\n",
    "    spheres = []\n",
    "    center_x, center_y, center_z = (\n",
    "        x0 - (n_x - 1) * spacing,\n",
    "        y0 - (n_y - 1) * spacing,\n",
    "        z0 - (n_z - 1) * spacing,\n",
    "    )\n",
    "    for i in range(0, n_x):\n",
    "        for j in range(0, n_y):\n",
    "            for k in range(0, 2 * n_z - 1):\n",
    "                s = td.Sphere(\n",
    "                    center=(\n",
    "                        center_x + spacing * (2 * i + 0.5 * (-1) ** ((k + 1) % 2)),\n",
    "                        center_y + spacing * (2 * j + 0.5 * (-1) ** (k % 2)),\n",
    "                        center_z + k * spacing,\n",
    "                    ),\n",
    "                    radius=R,\n",
    "                )\n",
    "                spheres.append(s)\n",
    "    structure = td.Structure(geometry=td.GeometryGroup(geometries=spheres), medium=medium)\n",
    "    return structure"
   ]
  },
  {
   "cell_type": "code",
   "execution_count": 21,
   "id": "1cd3c8c6",
   "metadata": {
    "execution": {
     "iopub.execute_input": "2024-02-17T07:57:58.144914Z",
     "iopub.status.busy": "2024-02-17T07:57:58.144773Z",
     "iopub.status.idle": "2024-02-17T07:57:58.171920Z",
     "shell.execute_reply": "2024-02-17T07:57:58.171436Z"
    }
   },
   "outputs": [
    {
     "data": {
      "text/html": [
       "\n",
       "    <iframe id=\"simulation-viewer170815667816638238\" src=https://feature-simulation-viewer.d3a9gfg7glllfq.amplifyapp.com/simulation-viewer?uuid=170815667816638238 width=\"800\" height=\"800\" allowfullscreen=\"true\"></iframe>\n",
       "    <script>\n",
       "        \n",
       "    window.postMessageToViewer170815667816638238 = event => {\n",
       "        if(event.data.type === 'viewer'&&event.data.uuid==='170815667816638238'){\n",
       "            document.getElementById('simulation-viewer170815667816638238').contentWindow.postMessage({ type: 'jupyter', uuid:'170815667816638238', value:{\"type\": \"Simulation\", \"center\": [0.0, 0.0, 0.0], \"size\": [10.0, 10.0, 10.0], \"medium\": {\"name\": null, \"frequency_range\": null, \"allow_gain\": false, \"nonlinear_spec\": null, \"modulation_spec\": null, \"heat_spec\": null, \"type\": \"Medium\", \"permittivity\": 1.0, \"conductivity\": 0.0}, \"structures\": [{\"geometry\": {\"type\": \"GeometryGroup\", \"geometries\": [{\"type\": \"Sphere\", \"radius\": 0.2, \"center\": [-1.75, -2.25, -2.0]}, {\"type\": \"Sphere\", \"radius\": 0.2, \"center\": [-1.25, -2.75, -1.5]}, {\"type\": \"Sphere\", \"radius\": 0.2, \"center\": [-1.75, -2.25, -1.0]}, {\"type\": \"Sphere\", \"radius\": 0.2, \"center\": [-1.25, -2.75, -0.5]}, {\"type\": \"Sphere\", \"radius\": 0.2, \"center\": [-1.75, -2.25, 0.0]}, {\"type\": \"Sphere\", \"radius\": 0.2, \"center\": [-1.25, -2.75, 0.5]}, {\"type\": \"Sphere\", \"radius\": 0.2, \"center\": [-1.75, -2.25, 1.0]}, {\"type\": \"Sphere\", \"radius\": 0.2, \"center\": [-1.25, -2.75, 1.5]}, {\"type\": \"Sphere\", \"radius\": 0.2, \"center\": [-1.75, -2.25, 2.0]}, {\"type\": \"Sphere\", \"radius\": 0.2, \"center\": [-1.75, -1.25, -2.0]}, {\"type\": \"Sphere\", \"radius\": 0.2, \"center\": [-1.25, -1.75, -1.5]}, {\"type\": \"Sphere\", \"radius\": 0.2, \"center\": [-1.75, -1.25, -1.0]}, {\"type\": \"Sphere\", \"radius\": 0.2, \"center\": [-1.25, -1.75, -0.5]}, {\"type\": \"Sphere\", \"radius\": 0.2, \"center\": [-1.75, -1.25, 0.0]}, {\"type\": \"Sphere\", \"radius\": 0.2, \"center\": [-1.25, -1.75, 0.5]}, {\"type\": \"Sphere\", \"radius\": 0.2, \"center\": [-1.75, -1.25, 1.0]}, {\"type\": \"Sphere\", \"radius\": 0.2, \"center\": [-1.25, -1.75, 1.5]}, {\"type\": \"Sphere\", \"radius\": 0.2, \"center\": [-1.75, -1.25, 2.0]}, {\"type\": \"Sphere\", \"radius\": 0.2, \"center\": [-1.75, -0.25, -2.0]}, {\"type\": \"Sphere\", \"radius\": 0.2, \"center\": [-1.25, -0.75, -1.5]}, {\"type\": \"Sphere\", \"radius\": 0.2, \"center\": [-1.75, -0.25, -1.0]}, {\"type\": \"Sphere\", \"radius\": 0.2, \"center\": [-1.25, -0.75, -0.5]}, {\"type\": \"Sphere\", \"radius\": 0.2, \"center\": [-1.75, -0.25, 0.0]}, {\"type\": \"Sphere\", \"radius\": 0.2, \"center\": [-1.25, -0.75, 0.5]}, {\"type\": \"Sphere\", \"radius\": 0.2, \"center\": [-1.75, -0.25, 1.0]}, {\"type\": \"Sphere\", \"radius\": 0.2, \"center\": [-1.25, -0.75, 1.5]}, {\"type\": \"Sphere\", \"radius\": 0.2, \"center\": [-1.75, -0.25, 2.0]}, {\"type\": \"Sphere\", \"radius\": 0.2, \"center\": [-1.75, 0.75, -2.0]}, {\"type\": \"Sphere\", \"radius\": 0.2, \"center\": [-1.25, 0.25, -1.5]}, {\"type\": \"Sphere\", \"radius\": 0.2, \"center\": [-1.75, 0.75, -1.0]}, {\"type\": \"Sphere\", \"radius\": 0.2, \"center\": [-1.25, 0.25, -0.5]}, {\"type\": \"Sphere\", \"radius\": 0.2, \"center\": [-1.75, 0.75, 0.0]}, {\"type\": \"Sphere\", \"radius\": 0.2, \"center\": [-1.25, 0.25, 0.5]}, {\"type\": \"Sphere\", \"radius\": 0.2, \"center\": [-1.75, 0.75, 1.0]}, {\"type\": \"Sphere\", \"radius\": 0.2, \"center\": [-1.25, 0.25, 1.5]}, {\"type\": \"Sphere\", \"radius\": 0.2, \"center\": [-1.75, 0.75, 2.0]}, {\"type\": \"Sphere\", \"radius\": 0.2, \"center\": [-1.75, 1.75, -2.0]}, {\"type\": \"Sphere\", \"radius\": 0.2, \"center\": [-1.25, 1.25, -1.5]}, {\"type\": \"Sphere\", \"radius\": 0.2, \"center\": [-1.75, 1.75, -1.0]}, {\"type\": \"Sphere\", \"radius\": 0.2, \"center\": [-1.25, 1.25, -0.5]}, {\"type\": \"Sphere\", \"radius\": 0.2, \"center\": [-1.75, 1.75, 0.0]}, {\"type\": \"Sphere\", \"radius\": 0.2, \"center\": [-1.25, 1.25, 0.5]}, {\"type\": \"Sphere\", \"radius\": 0.2, \"center\": [-1.75, 1.75, 1.0]}, {\"type\": \"Sphere\", \"radius\": 0.2, \"center\": [-1.25, 1.25, 1.5]}, {\"type\": \"Sphere\", \"radius\": 0.2, \"center\": [-1.75, 1.75, 2.0]}, {\"type\": \"Sphere\", \"radius\": 0.2, \"center\": [-1.75, 2.75, -2.0]}, {\"type\": \"Sphere\", \"radius\": 0.2, \"center\": [-1.25, 2.25, -1.5]}, {\"type\": \"Sphere\", \"radius\": 0.2, \"center\": [-1.75, 2.75, -1.0]}, {\"type\": \"Sphere\", \"radius\": 0.2, \"center\": [-1.25, 2.25, -0.5]}, {\"type\": \"Sphere\", \"radius\": 0.2, \"center\": [-1.75, 2.75, 0.0]}, {\"type\": \"Sphere\", \"radius\": 0.2, \"center\": [-1.25, 2.25, 0.5]}, {\"type\": \"Sphere\", \"radius\": 0.2, \"center\": [-1.75, 2.75, 1.0]}, {\"type\": \"Sphere\", \"radius\": 0.2, \"center\": [-1.25, 2.25, 1.5]}, {\"type\": \"Sphere\", \"radius\": 0.2, \"center\": [-1.75, 2.75, 2.0]}, {\"type\": \"Sphere\", \"radius\": 0.2, \"center\": [-0.75, -2.25, -2.0]}, {\"type\": \"Sphere\", \"radius\": 0.2, \"center\": [-0.25, -2.75, -1.5]}, {\"type\": \"Sphere\", \"radius\": 0.2, \"center\": [-0.75, -2.25, -1.0]}, {\"type\": \"Sphere\", \"radius\": 0.2, \"center\": [-0.25, -2.75, -0.5]}, {\"type\": \"Sphere\", \"radius\": 0.2, \"center\": [-0.75, -2.25, 0.0]}, {\"type\": \"Sphere\", \"radius\": 0.2, \"center\": [-0.25, -2.75, 0.5]}, {\"type\": \"Sphere\", \"radius\": 0.2, \"center\": [-0.75, -2.25, 1.0]}, {\"type\": \"Sphere\", \"radius\": 0.2, \"center\": [-0.25, -2.75, 1.5]}, {\"type\": \"Sphere\", \"radius\": 0.2, \"center\": [-0.75, -2.25, 2.0]}, {\"type\": \"Sphere\", \"radius\": 0.2, \"center\": [-0.75, -1.25, -2.0]}, {\"type\": \"Sphere\", \"radius\": 0.2, \"center\": [-0.25, -1.75, -1.5]}, {\"type\": \"Sphere\", \"radius\": 0.2, \"center\": [-0.75, -1.25, -1.0]}, {\"type\": \"Sphere\", \"radius\": 0.2, \"center\": [-0.25, -1.75, -0.5]}, {\"type\": \"Sphere\", \"radius\": 0.2, \"center\": [-0.75, -1.25, 0.0]}, {\"type\": \"Sphere\", \"radius\": 0.2, \"center\": [-0.25, -1.75, 0.5]}, {\"type\": \"Sphere\", \"radius\": 0.2, \"center\": [-0.75, -1.25, 1.0]}, {\"type\": \"Sphere\", \"radius\": 0.2, \"center\": [-0.25, -1.75, 1.5]}, {\"type\": \"Sphere\", \"radius\": 0.2, \"center\": [-0.75, -1.25, 2.0]}, {\"type\": \"Sphere\", \"radius\": 0.2, \"center\": [-0.75, -0.25, -2.0]}, {\"type\": \"Sphere\", \"radius\": 0.2, \"center\": [-0.25, -0.75, -1.5]}, {\"type\": \"Sphere\", \"radius\": 0.2, \"center\": [-0.75, -0.25, -1.0]}, {\"type\": \"Sphere\", \"radius\": 0.2, \"center\": [-0.25, -0.75, -0.5]}, {\"type\": \"Sphere\", \"radius\": 0.2, \"center\": [-0.75, -0.25, 0.0]}, {\"type\": \"Sphere\", \"radius\": 0.2, \"center\": [-0.25, -0.75, 0.5]}, {\"type\": \"Sphere\", \"radius\": 0.2, \"center\": [-0.75, -0.25, 1.0]}, {\"type\": \"Sphere\", \"radius\": 0.2, \"center\": [-0.25, -0.75, 1.5]}, {\"type\": \"Sphere\", \"radius\": 0.2, \"center\": [-0.75, -0.25, 2.0]}, {\"type\": \"Sphere\", \"radius\": 0.2, \"center\": [-0.75, 0.75, -2.0]}, {\"type\": \"Sphere\", \"radius\": 0.2, \"center\": [-0.25, 0.25, -1.5]}, {\"type\": \"Sphere\", \"radius\": 0.2, \"center\": [-0.75, 0.75, -1.0]}, {\"type\": \"Sphere\", \"radius\": 0.2, \"center\": [-0.25, 0.25, -0.5]}, {\"type\": \"Sphere\", \"radius\": 0.2, \"center\": [-0.75, 0.75, 0.0]}, {\"type\": \"Sphere\", \"radius\": 0.2, \"center\": [-0.25, 0.25, 0.5]}, {\"type\": \"Sphere\", \"radius\": 0.2, \"center\": [-0.75, 0.75, 1.0]}, {\"type\": \"Sphere\", \"radius\": 0.2, \"center\": [-0.25, 0.25, 1.5]}, {\"type\": \"Sphere\", \"radius\": 0.2, \"center\": [-0.75, 0.75, 2.0]}, {\"type\": \"Sphere\", \"radius\": 0.2, \"center\": [-0.75, 1.75, -2.0]}, {\"type\": \"Sphere\", \"radius\": 0.2, \"center\": [-0.25, 1.25, -1.5]}, {\"type\": \"Sphere\", \"radius\": 0.2, \"center\": [-0.75, 1.75, -1.0]}, {\"type\": \"Sphere\", \"radius\": 0.2, \"center\": [-0.25, 1.25, -0.5]}, {\"type\": \"Sphere\", \"radius\": 0.2, \"center\": [-0.75, 1.75, 0.0]}, {\"type\": \"Sphere\", \"radius\": 0.2, \"center\": [-0.25, 1.25, 0.5]}, {\"type\": \"Sphere\", \"radius\": 0.2, \"center\": [-0.75, 1.75, 1.0]}, {\"type\": \"Sphere\", \"radius\": 0.2, \"center\": [-0.25, 1.25, 1.5]}, {\"type\": \"Sphere\", \"radius\": 0.2, \"center\": [-0.75, 1.75, 2.0]}, {\"type\": \"Sphere\", \"radius\": 0.2, \"center\": [-0.75, 2.75, -2.0]}, {\"type\": \"Sphere\", \"radius\": 0.2, \"center\": [-0.25, 2.25, -1.5]}, {\"type\": \"Sphere\", \"radius\": 0.2, \"center\": [-0.75, 2.75, -1.0]}, {\"type\": \"Sphere\", \"radius\": 0.2, \"center\": [-0.25, 2.25, -0.5]}, {\"type\": \"Sphere\", \"radius\": 0.2, \"center\": [-0.75, 2.75, 0.0]}, {\"type\": \"Sphere\", \"radius\": 0.2, \"center\": [-0.25, 2.25, 0.5]}, {\"type\": \"Sphere\", \"radius\": 0.2, \"center\": [-0.75, 2.75, 1.0]}, {\"type\": \"Sphere\", \"radius\": 0.2, \"center\": [-0.25, 2.25, 1.5]}, {\"type\": \"Sphere\", \"radius\": 0.2, \"center\": [-0.75, 2.75, 2.0]}, {\"type\": \"Sphere\", \"radius\": 0.2, \"center\": [0.25, -2.25, -2.0]}, {\"type\": \"Sphere\", \"radius\": 0.2, \"center\": [0.75, -2.75, -1.5]}, {\"type\": \"Sphere\", \"radius\": 0.2, \"center\": [0.25, -2.25, -1.0]}, {\"type\": \"Sphere\", \"radius\": 0.2, \"center\": [0.75, -2.75, -0.5]}, {\"type\": \"Sphere\", \"radius\": 0.2, \"center\": [0.25, -2.25, 0.0]}, {\"type\": \"Sphere\", \"radius\": 0.2, \"center\": [0.75, -2.75, 0.5]}, {\"type\": \"Sphere\", \"radius\": 0.2, \"center\": [0.25, -2.25, 1.0]}, {\"type\": \"Sphere\", \"radius\": 0.2, \"center\": [0.75, -2.75, 1.5]}, {\"type\": \"Sphere\", \"radius\": 0.2, \"center\": [0.25, -2.25, 2.0]}, {\"type\": \"Sphere\", \"radius\": 0.2, \"center\": [0.25, -1.25, -2.0]}, {\"type\": \"Sphere\", \"radius\": 0.2, \"center\": [0.75, -1.75, -1.5]}, {\"type\": \"Sphere\", \"radius\": 0.2, \"center\": [0.25, -1.25, -1.0]}, {\"type\": \"Sphere\", \"radius\": 0.2, \"center\": [0.75, -1.75, -0.5]}, {\"type\": \"Sphere\", \"radius\": 0.2, \"center\": [0.25, -1.25, 0.0]}, {\"type\": \"Sphere\", \"radius\": 0.2, \"center\": [0.75, -1.75, 0.5]}, {\"type\": \"Sphere\", \"radius\": 0.2, \"center\": [0.25, -1.25, 1.0]}, {\"type\": \"Sphere\", \"radius\": 0.2, \"center\": [0.75, -1.75, 1.5]}, {\"type\": \"Sphere\", \"radius\": 0.2, \"center\": [0.25, -1.25, 2.0]}, {\"type\": \"Sphere\", \"radius\": 0.2, \"center\": [0.25, -0.25, -2.0]}, {\"type\": \"Sphere\", \"radius\": 0.2, \"center\": [0.75, -0.75, -1.5]}, {\"type\": \"Sphere\", \"radius\": 0.2, \"center\": [0.25, -0.25, -1.0]}, {\"type\": \"Sphere\", \"radius\": 0.2, \"center\": [0.75, -0.75, -0.5]}, {\"type\": \"Sphere\", \"radius\": 0.2, \"center\": [0.25, -0.25, 0.0]}, {\"type\": \"Sphere\", \"radius\": 0.2, \"center\": [0.75, -0.75, 0.5]}, {\"type\": \"Sphere\", \"radius\": 0.2, \"center\": [0.25, -0.25, 1.0]}, {\"type\": \"Sphere\", \"radius\": 0.2, \"center\": [0.75, -0.75, 1.5]}, {\"type\": \"Sphere\", \"radius\": 0.2, \"center\": [0.25, -0.25, 2.0]}, {\"type\": \"Sphere\", \"radius\": 0.2, \"center\": [0.25, 0.75, -2.0]}, {\"type\": \"Sphere\", \"radius\": 0.2, \"center\": [0.75, 0.25, -1.5]}, {\"type\": \"Sphere\", \"radius\": 0.2, \"center\": [0.25, 0.75, -1.0]}, {\"type\": \"Sphere\", \"radius\": 0.2, \"center\": [0.75, 0.25, -0.5]}, {\"type\": \"Sphere\", \"radius\": 0.2, \"center\": [0.25, 0.75, 0.0]}, {\"type\": \"Sphere\", \"radius\": 0.2, \"center\": [0.75, 0.25, 0.5]}, {\"type\": \"Sphere\", \"radius\": 0.2, \"center\": [0.25, 0.75, 1.0]}, {\"type\": \"Sphere\", \"radius\": 0.2, \"center\": [0.75, 0.25, 1.5]}, {\"type\": \"Sphere\", \"radius\": 0.2, \"center\": [0.25, 0.75, 2.0]}, {\"type\": \"Sphere\", \"radius\": 0.2, \"center\": [0.25, 1.75, -2.0]}, {\"type\": \"Sphere\", \"radius\": 0.2, \"center\": [0.75, 1.25, -1.5]}, {\"type\": \"Sphere\", \"radius\": 0.2, \"center\": [0.25, 1.75, -1.0]}, {\"type\": \"Sphere\", \"radius\": 0.2, \"center\": [0.75, 1.25, -0.5]}, {\"type\": \"Sphere\", \"radius\": 0.2, \"center\": [0.25, 1.75, 0.0]}, {\"type\": \"Sphere\", \"radius\": 0.2, \"center\": [0.75, 1.25, 0.5]}, {\"type\": \"Sphere\", \"radius\": 0.2, \"center\": [0.25, 1.75, 1.0]}, {\"type\": \"Sphere\", \"radius\": 0.2, \"center\": [0.75, 1.25, 1.5]}, {\"type\": \"Sphere\", \"radius\": 0.2, \"center\": [0.25, 1.75, 2.0]}, {\"type\": \"Sphere\", \"radius\": 0.2, \"center\": [0.25, 2.75, -2.0]}, {\"type\": \"Sphere\", \"radius\": 0.2, \"center\": [0.75, 2.25, -1.5]}, {\"type\": \"Sphere\", \"radius\": 0.2, \"center\": [0.25, 2.75, -1.0]}, {\"type\": \"Sphere\", \"radius\": 0.2, \"center\": [0.75, 2.25, -0.5]}, {\"type\": \"Sphere\", \"radius\": 0.2, \"center\": [0.25, 2.75, 0.0]}, {\"type\": \"Sphere\", \"radius\": 0.2, \"center\": [0.75, 2.25, 0.5]}, {\"type\": \"Sphere\", \"radius\": 0.2, \"center\": [0.25, 2.75, 1.0]}, {\"type\": \"Sphere\", \"radius\": 0.2, \"center\": [0.75, 2.25, 1.5]}, {\"type\": \"Sphere\", \"radius\": 0.2, \"center\": [0.25, 2.75, 2.0]}, {\"type\": \"Sphere\", \"radius\": 0.2, \"center\": [1.25, -2.25, -2.0]}, {\"type\": \"Sphere\", \"radius\": 0.2, \"center\": [1.75, -2.75, -1.5]}, {\"type\": \"Sphere\", \"radius\": 0.2, \"center\": [1.25, -2.25, -1.0]}, {\"type\": \"Sphere\", \"radius\": 0.2, \"center\": [1.75, -2.75, -0.5]}, {\"type\": \"Sphere\", \"radius\": 0.2, \"center\": [1.25, -2.25, 0.0]}, {\"type\": \"Sphere\", \"radius\": 0.2, \"center\": [1.75, -2.75, 0.5]}, {\"type\": \"Sphere\", \"radius\": 0.2, \"center\": [1.25, -2.25, 1.0]}, {\"type\": \"Sphere\", \"radius\": 0.2, \"center\": [1.75, -2.75, 1.5]}, {\"type\": \"Sphere\", \"radius\": 0.2, \"center\": [1.25, -2.25, 2.0]}, {\"type\": \"Sphere\", \"radius\": 0.2, \"center\": [1.25, -1.25, -2.0]}, {\"type\": \"Sphere\", \"radius\": 0.2, \"center\": [1.75, -1.75, -1.5]}, {\"type\": \"Sphere\", \"radius\": 0.2, \"center\": [1.25, -1.25, -1.0]}, {\"type\": \"Sphere\", \"radius\": 0.2, \"center\": [1.75, -1.75, -0.5]}, {\"type\": \"Sphere\", \"radius\": 0.2, \"center\": [1.25, -1.25, 0.0]}, {\"type\": \"Sphere\", \"radius\": 0.2, \"center\": [1.75, -1.75, 0.5]}, {\"type\": \"Sphere\", \"radius\": 0.2, \"center\": [1.25, -1.25, 1.0]}, {\"type\": \"Sphere\", \"radius\": 0.2, \"center\": [1.75, -1.75, 1.5]}, {\"type\": \"Sphere\", \"radius\": 0.2, \"center\": [1.25, -1.25, 2.0]}, {\"type\": \"Sphere\", \"radius\": 0.2, \"center\": [1.25, -0.25, -2.0]}, {\"type\": \"Sphere\", \"radius\": 0.2, \"center\": [1.75, -0.75, -1.5]}, {\"type\": \"Sphere\", \"radius\": 0.2, \"center\": [1.25, -0.25, -1.0]}, {\"type\": \"Sphere\", \"radius\": 0.2, \"center\": [1.75, -0.75, -0.5]}, {\"type\": \"Sphere\", \"radius\": 0.2, \"center\": [1.25, -0.25, 0.0]}, {\"type\": \"Sphere\", \"radius\": 0.2, \"center\": [1.75, -0.75, 0.5]}, {\"type\": \"Sphere\", \"radius\": 0.2, \"center\": [1.25, -0.25, 1.0]}, {\"type\": \"Sphere\", \"radius\": 0.2, \"center\": [1.75, -0.75, 1.5]}, {\"type\": \"Sphere\", \"radius\": 0.2, \"center\": [1.25, -0.25, 2.0]}, {\"type\": \"Sphere\", \"radius\": 0.2, \"center\": [1.25, 0.75, -2.0]}, {\"type\": \"Sphere\", \"radius\": 0.2, \"center\": [1.75, 0.25, -1.5]}, {\"type\": \"Sphere\", \"radius\": 0.2, \"center\": [1.25, 0.75, -1.0]}, {\"type\": \"Sphere\", \"radius\": 0.2, \"center\": [1.75, 0.25, -0.5]}, {\"type\": \"Sphere\", \"radius\": 0.2, \"center\": [1.25, 0.75, 0.0]}, {\"type\": \"Sphere\", \"radius\": 0.2, \"center\": [1.75, 0.25, 0.5]}, {\"type\": \"Sphere\", \"radius\": 0.2, \"center\": [1.25, 0.75, 1.0]}, {\"type\": \"Sphere\", \"radius\": 0.2, \"center\": [1.75, 0.25, 1.5]}, {\"type\": \"Sphere\", \"radius\": 0.2, \"center\": [1.25, 0.75, 2.0]}, {\"type\": \"Sphere\", \"radius\": 0.2, \"center\": [1.25, 1.75, -2.0]}, {\"type\": \"Sphere\", \"radius\": 0.2, \"center\": [1.75, 1.25, -1.5]}, {\"type\": \"Sphere\", \"radius\": 0.2, \"center\": [1.25, 1.75, -1.0]}, {\"type\": \"Sphere\", \"radius\": 0.2, \"center\": [1.75, 1.25, -0.5]}, {\"type\": \"Sphere\", \"radius\": 0.2, \"center\": [1.25, 1.75, 0.0]}, {\"type\": \"Sphere\", \"radius\": 0.2, \"center\": [1.75, 1.25, 0.5]}, {\"type\": \"Sphere\", \"radius\": 0.2, \"center\": [1.25, 1.75, 1.0]}, {\"type\": \"Sphere\", \"radius\": 0.2, \"center\": [1.75, 1.25, 1.5]}, {\"type\": \"Sphere\", \"radius\": 0.2, \"center\": [1.25, 1.75, 2.0]}, {\"type\": \"Sphere\", \"radius\": 0.2, \"center\": [1.25, 2.75, -2.0]}, {\"type\": \"Sphere\", \"radius\": 0.2, \"center\": [1.75, 2.25, -1.5]}, {\"type\": \"Sphere\", \"radius\": 0.2, \"center\": [1.25, 2.75, -1.0]}, {\"type\": \"Sphere\", \"radius\": 0.2, \"center\": [1.75, 2.25, -0.5]}, {\"type\": \"Sphere\", \"radius\": 0.2, \"center\": [1.25, 2.75, 0.0]}, {\"type\": \"Sphere\", \"radius\": 0.2, \"center\": [1.75, 2.25, 0.5]}, {\"type\": \"Sphere\", \"radius\": 0.2, \"center\": [1.25, 2.75, 1.0]}, {\"type\": \"Sphere\", \"radius\": 0.2, \"center\": [1.75, 2.25, 1.5]}, {\"type\": \"Sphere\", \"radius\": 0.2, \"center\": [1.25, 2.75, 2.0]}]}, \"name\": null, \"type\": \"Structure\", \"medium\": {\"name\": null, \"frequency_range\": null, \"allow_gain\": false, \"nonlinear_spec\": null, \"modulation_spec\": null, \"heat_spec\": null, \"type\": \"Medium\", \"permittivity\": 12.1104, \"conductivity\": 0.0}}], \"symmetry\": [0, 0, 0], \"sources\": [], \"boundary_spec\": {\"x\": {\"plus\": {\"name\": null, \"type\": \"PML\", \"num_layers\": 12, \"parameters\": {\"sigma_order\": 3, \"sigma_min\": 0.0, \"sigma_max\": 1.5, \"type\": \"PMLParams\", \"kappa_order\": 3, \"kappa_min\": 1.0, \"kappa_max\": 3.0, \"alpha_order\": 1, \"alpha_min\": 0.0, \"alpha_max\": 0.0}}, \"minus\": {\"name\": null, \"type\": \"PML\", \"num_layers\": 12, \"parameters\": {\"sigma_order\": 3, \"sigma_min\": 0.0, \"sigma_max\": 1.5, \"type\": \"PMLParams\", \"kappa_order\": 3, \"kappa_min\": 1.0, \"kappa_max\": 3.0, \"alpha_order\": 1, \"alpha_min\": 0.0, \"alpha_max\": 0.0}}, \"type\": \"Boundary\"}, \"y\": {\"plus\": {\"name\": null, \"type\": \"PML\", \"num_layers\": 12, \"parameters\": {\"sigma_order\": 3, \"sigma_min\": 0.0, \"sigma_max\": 1.5, \"type\": \"PMLParams\", \"kappa_order\": 3, \"kappa_min\": 1.0, \"kappa_max\": 3.0, \"alpha_order\": 1, \"alpha_min\": 0.0, \"alpha_max\": 0.0}}, \"minus\": {\"name\": null, \"type\": \"PML\", \"num_layers\": 12, \"parameters\": {\"sigma_order\": 3, \"sigma_min\": 0.0, \"sigma_max\": 1.5, \"type\": \"PMLParams\", \"kappa_order\": 3, \"kappa_min\": 1.0, \"kappa_max\": 3.0, \"alpha_order\": 1, \"alpha_min\": 0.0, \"alpha_max\": 0.0}}, \"type\": \"Boundary\"}, \"z\": {\"plus\": {\"name\": null, \"type\": \"PML\", \"num_layers\": 12, \"parameters\": {\"sigma_order\": 3, \"sigma_min\": 0.0, \"sigma_max\": 1.5, \"type\": \"PMLParams\", \"kappa_order\": 3, \"kappa_min\": 1.0, \"kappa_max\": 3.0, \"alpha_order\": 1, \"alpha_min\": 0.0, \"alpha_max\": 0.0}}, \"minus\": {\"name\": null, \"type\": \"PML\", \"num_layers\": 12, \"parameters\": {\"sigma_order\": 3, \"sigma_min\": 0.0, \"sigma_max\": 1.5, \"type\": \"PMLParams\", \"kappa_order\": 3, \"kappa_min\": 1.0, \"kappa_max\": 3.0, \"alpha_order\": 1, \"alpha_min\": 0.0, \"alpha_max\": 0.0}}, \"type\": \"Boundary\"}, \"type\": \"BoundarySpec\"}, \"monitors\": [], \"grid_spec\": {\"grid_x\": {\"type\": \"AutoGrid\", \"min_steps_per_wvl\": 10.0, \"max_scale\": 1.4, \"dl_min\": 0.0, \"mesher\": {\"type\": \"GradedMesher\"}}, \"grid_y\": {\"type\": \"AutoGrid\", \"min_steps_per_wvl\": 10.0, \"max_scale\": 1.4, \"dl_min\": 0.0, \"mesher\": {\"type\": \"GradedMesher\"}}, \"grid_z\": {\"type\": \"AutoGrid\", \"min_steps_per_wvl\": 10.0, \"max_scale\": 1.4, \"dl_min\": 0.0, \"mesher\": {\"type\": \"GradedMesher\"}}, \"wavelength\": 1.55, \"override_structures\": [], \"type\": \"GridSpec\"}, \"version\": \"2.6.0\", \"run_time\": 1.0, \"shutoff\": 1e-05, \"subpixel\": true, \"normalize_index\": 0, \"courant\": 0.99}}, '*')\n",
       "        }\n",
       "    };\n",
       "    window.addEventListener(\n",
       "        'message',\n",
       "        window.postMessageToViewer170815667816638238,\n",
       "        false\n",
       "    );\n",
       "    \n",
       "    </script>\n",
       "    "
      ],
      "text/plain": [
       "<IPython.core.display.HTML object>"
      ]
     },
     "metadata": {},
     "output_type": "display_data"
    }
   ],
   "source": [
    "s = bcc_pc(0, 0, 0, 0.5, 0.2, 4, 6, 5, td.Medium(permittivity=3.48**2))\n",
    "\n",
    "sim = td.Simulation(\n",
    "    size=[10, 10, 10],\n",
    "    grid_spec=td.GridSpec.auto(wavelength=1.55),\n",
    "    structures=[s],\n",
    "    run_time=1,\n",
    ")\n",
    "\n",
    "sim.plot_3d()"
   ]
  },
  {
   "cell_type": "code",
   "execution_count": null,
   "id": "cc9970b2",
   "metadata": {},
   "outputs": [],
   "source": []
  }
 ],
 "metadata": {
  "description": "This notebook contains pre-defined functions used to construct commonly used photonic crystal structures such as hexagonal and square lattices.",
  "feature_image": "",
  "kernelspec": {
   "display_name": "Python 2",
   "language": "python",
   "name": "python2"
  },
  "keywords": "photonic crystal, periodic structures, cavities, tidy3d, fdtd",
  "language_info": {
   "codemirror_mode": {
    "name": "ipython",
    "version": 3
   },
   "file_extension": ".py",
   "mimetype": "text/x-python",
   "name": "python",
   "nbconvert_exporter": "python",
   "pygments_lexer": "ipython3",
   "version": "3.10.13"
  },
  "title": "Defining Common Photonic Crystal Structures | Flexcompute"
 },
 "nbformat": 4,
 "nbformat_minor": 5
}
