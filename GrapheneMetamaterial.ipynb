{
 "cells": [
  {
   "cell_type": "markdown",
   "id": "bb6c9859",
   "metadata": {},
   "source": [
    "# Graphene metamaterial absorber"
   ]
  },
  {
   "cell_type": "markdown",
   "id": "f286d274",
   "metadata": {},
   "source": [
    "Graphene, a single atomic sheet of carbon atoms arranged in a hexagonal lattice, has shown great promise for functional optical and optoelectronic devices. Compared to devices made of conventional materials, graphene-based devices have a unique tunability advantage since graphene's conductivity can be drastically modulated by electrostatic gating. \n",
    "\n",
    "Due to its atomic thickness, it is usually very difficult to model graphene in an FDTD simulation without using a large number of grid points. Fortunately, Tidy3D natively supports a surface conductivity model such that thin material layers can be accurately simulated even with grids much larger than the actual layer thickness. More specifically, you can model graphene directly using Tidy3D's [material library](https://docs.flexcompute.com/projects/tidy3d/en/latest/api/material_library.html?highlight=material%20ibrary). The graphene's conductivity is described by the well established Kubo formula, which includes the  contributions from the intraband and interband electronic transitions. To define graphene, a few parameters, namely the scattering rate, chemical potential, and temperature, are required as user inputs.\n",
    "\n",
    "This notebook demonstrates how to model a graphene fishnet metamaterial absorber in the THz frequency range. By forming a Fabry-Perot resonator between the graphene layer and a metal mirror, high absorption is achieved across a bandwidth of ~ 2 THz. The design is adapted from the seminal work [Andrei Andryieuski and Andrei V. Lavrinenko, \"Graphene metamaterials based tunable terahertz absorber: effective surface conductivity approach,\" Opt. Express 21, 9144-9155 (2013)](https://opg.optica.org/oe/fulltext.cfm?uri=oe-21-7-9144&id=252404&ibsearch=false).\n",
    "\n",
    "<img src=\"img/graphene_metamaterial_schematic.png\" width=\"400\" alt=\"Schematic of the graphene metamaterial absorber\">\n",
    "\n",
    "If you are new to the finite-difference time-domain (FDTD) method, we highly recommend going through our [FDTD101](https://www.flexcompute.com/fdtd101/) tutorials. For more simulation examples, please visit our [examples page](https://www.flexcompute.com/tidy3d/examples/). FDTD simulations can diverge due to various reasons. If you run into any simulation divergence issues, please follow the steps outlined in our [troubleshooting guide](https://www.flexcompute.com/tidy3d/examples/notebooks/DivergedFDTDSimulation/) to resolve it."
   ]
  },
  {
   "cell_type": "code",
   "execution_count": 1,
   "id": "96ba5d2f",
   "metadata": {
    "execution": {
     "iopub.execute_input": "2024-09-05T12:50:22.422281Z",
     "iopub.status.busy": "2024-09-05T12:50:22.421700Z",
     "iopub.status.idle": "2024-09-05T12:50:24.153727Z",
     "shell.execute_reply": "2024-09-05T12:50:24.152586Z"
    },
    "scrolled": true
   },
   "outputs": [],
   "source": [
    "import numpy as np\n",
    "import matplotlib.pyplot as plt\n",
    "\n",
    "import tidy3d as td\n",
    "import tidy3d.web as web\n"
   ]
  },
  {
   "cell_type": "markdown",
   "id": "62959f4c",
   "metadata": {},
   "source": [
    "The overall design of the absorber involves two layers of graphene sheets embedded in TOPAS polymer. The bottom of the device is a metallic mirror, which forms a Fabry-Perot resonator with graphene. This resonator greatly amplifies the absorption in graphene and achieves perfect absorption when the resonance condition is met. Two designs are explored in this notebook. The first one is a simple uniform graphene layer. When the chemical potential of graphene is tuned to 0.5 eV, perfect absorption is achieved but only within a narrow frequency band. Then, we test a fishnet structure, which shows a much wider absorption band. "
   ]
  },
  {
   "cell_type": "markdown",
   "id": "16b4ccfc",
   "metadata": {},
   "source": [
    "## Uniform Graphene Sheet Absorber"
   ]
  },
  {
   "cell_type": "markdown",
   "id": "3a95e5d2",
   "metadata": {},
   "source": [
    "We start with a simpler case where the absorber is made of two uniform graphene layers embedded in TOPAS polymer above a ground plate. \n",
    "\n",
    "First, define the basic simulation parameters."
   ]
  },
  {
   "cell_type": "code",
   "execution_count": 2,
   "id": "d76a88bc",
   "metadata": {
    "execution": {
     "iopub.execute_input": "2024-09-05T12:50:24.158763Z",
     "iopub.status.busy": "2024-09-05T12:50:24.158437Z",
     "iopub.status.idle": "2024-09-05T12:50:24.162853Z",
     "shell.execute_reply": "2024-09-05T12:50:24.161986Z"
    }
   },
   "outputs": [],
   "source": [
    "THz = 1e12  # 1 THz = 1e12 Hz\n",
    "\n",
    "freq0 = 2.5 * THz  # central frequency\n",
    "freqs = np.linspace(0.1, 5, 300) * THz  # frequency range of interest\n",
    "\n",
    "lda0 = td.C_0 / freq0  # central wavelength\n"
   ]
  },
  {
   "cell_type": "markdown",
   "id": "a4ba8e8f",
   "metadata": {},
   "source": [
    "The TOPAS polymer has a refractive index of 1.53 in the THz range with little absorption. "
   ]
  },
  {
   "cell_type": "code",
   "execution_count": 3,
   "id": "cd1055cf",
   "metadata": {
    "execution": {
     "iopub.execute_input": "2024-09-05T12:50:24.167402Z",
     "iopub.status.busy": "2024-09-05T12:50:24.167081Z",
     "iopub.status.idle": "2024-09-05T12:50:24.171558Z",
     "shell.execute_reply": "2024-09-05T12:50:24.170627Z"
    }
   },
   "outputs": [],
   "source": [
    "n_topas = 1.53  # refractive index of the polymer\n",
    "topas = td.Medium(permittivity=n_topas**2)\n"
   ]
  },
  {
   "cell_type": "markdown",
   "id": "3ecca39e",
   "metadata": {},
   "source": [
    "To define graphene conductivity, we need to specify a few parameters. Here, we consider a relaxation time of $\\tau$=0.1 ps, which translates to a scattering rate $\\Gamma=\\frac{1}{2\\tau}=\\frac{6.58e-16}{2 \\times 1e-13}=$0.0033 eV, where 6.58e-16 is $\\hbar$ in the unit of eV*s. The temperature is at room temperature. Since there are two layers of graphene, the scaling parameter is set to 2. Note that this only works for graphene layers separated by a small distance. For real bilayer graphene or few-layer graphene in general, the conductivity is more complex as interlayer coupling and stacking order play an important role."
   ]
  },
  {
   "cell_type": "code",
   "execution_count": 4,
   "id": "8f2e5355",
   "metadata": {
    "execution": {
     "iopub.execute_input": "2024-09-05T12:50:24.176062Z",
     "iopub.status.busy": "2024-09-05T12:50:24.175645Z",
     "iopub.status.idle": "2024-09-05T12:50:24.180727Z",
     "shell.execute_reply": "2024-09-05T12:50:24.179457Z"
    }
   },
   "outputs": [],
   "source": [
    "gamma = 0.0033  # scattering rate\n",
    "temp = 300  # temperature\n",
    "scaling = 2  # number of layers.\n"
   ]
  },
  {
   "cell_type": "markdown",
   "id": "1f11672f",
   "metadata": {},
   "source": [
    "Furthermore, we consider a unit cell size of 15 $\\mu m$. In the uniform graphene sheet absorber, the distance between the graphene and the mirror is 35.9 $\\mu m$."
   ]
  },
  {
   "cell_type": "code",
   "execution_count": 5,
   "id": "3dc8f7a7",
   "metadata": {
    "execution": {
     "iopub.execute_input": "2024-09-05T12:50:24.186197Z",
     "iopub.status.busy": "2024-09-05T12:50:24.185232Z",
     "iopub.status.idle": "2024-09-05T12:50:24.191418Z",
     "shell.execute_reply": "2024-09-05T12:50:24.190044Z"
    }
   },
   "outputs": [],
   "source": [
    "a = 15  # unit cell size\n",
    "h = 35.9  # distance between graphene and the ground plate\n",
    "offset = lda0 / 2  # distance between the flux monitor and the graphene\n"
   ]
  },
  {
   "cell_type": "markdown",
   "id": "e8aff35b",
   "metadata": {},
   "source": [
    "The periodic boundary condition is applied in both the $x$ and $y$ directions. In the $z$ direction, PML is applied in the plus direction and PEC is applied in the minus direction. The PEC mimics the metal mirror. For the grids, we use automatic nonuniform grids in all directions. The same [BoundarySpec](https://docs.flexcompute.com/projects/tidy3d/en/latest/api/_autosummary/tidy3d.BoundarySpec.html?highlight=BOUNDARYSPEC) and [GridSpec](https://docs.flexcompute.com/projects/tidy3d/en/latest/api/_autosummary/tidy3d.GridSpec.html?highlight=gridspec) will be used through the notebook."
   ]
  },
  {
   "cell_type": "code",
   "execution_count": 6,
   "id": "1ef2e4e2",
   "metadata": {
    "execution": {
     "iopub.execute_input": "2024-09-05T12:50:24.197340Z",
     "iopub.status.busy": "2024-09-05T12:50:24.196416Z",
     "iopub.status.idle": "2024-09-05T12:50:24.205769Z",
     "shell.execute_reply": "2024-09-05T12:50:24.204566Z"
    }
   },
   "outputs": [],
   "source": [
    "# define a BoundarySpec\n",
    "boundary_spec = td.BoundarySpec(\n",
    "    x=td.Boundary.periodic(),\n",
    "    y=td.Boundary.periodic(),\n",
    "    z=td.Boundary(minus=td.PECBoundary(), plus=td.PML()),\n",
    ")\n",
    "\n",
    "# define a GridSpec\n",
    "grid_spec = td.GridSpec.auto(min_steps_per_wvl=200, wavelength=lda0)\n",
    "\n",
    "# simulation run time\n",
    "run_time = 1e-11\n"
   ]
  },
  {
   "cell_type": "markdown",
   "id": "a5edb267",
   "metadata": {},
   "source": [
    "Next we define a function that returns a simulation at a given graphene chemical potential. This function will later be called repeatedly to construct a simulation batch to investigate how the chemical potential affects the absorption spectrum."
   ]
  },
  {
   "cell_type": "code",
   "execution_count": 7,
   "id": "b85bd993",
   "metadata": {
    "execution": {
     "iopub.execute_input": "2024-09-05T12:50:24.211794Z",
     "iopub.status.busy": "2024-09-05T12:50:24.211140Z",
     "iopub.status.idle": "2024-09-05T12:50:24.226268Z",
     "shell.execute_reply": "2024-09-05T12:50:24.224989Z"
    }
   },
   "outputs": [],
   "source": [
    "def make_sim_uniform(mu_c):\n",
    "\n",
    "    # define graphene\n",
    "    graphene = td.material_library[\"graphene\"](\n",
    "        gamma=gamma, mu_c=mu_c, temp=temp, scaling=scaling\n",
    "    ).medium\n",
    "\n",
    "    # define graphene structure\n",
    "    graphene_layer = td.Structure(\n",
    "        geometry=td.Box(center=(0, 0, h), size=(td.inf, td.inf, 0)), medium=graphene\n",
    "    )\n",
    "\n",
    "    # define a plane wave source\n",
    "    plane_wave = td.PlaneWave(\n",
    "        center=(0, 0, h + 0.1 * offset),\n",
    "        size=(td.inf, td.inf, 0),\n",
    "        source_time=td.GaussianPulse(freq0=freq0, fwidth=freq0 / 2),\n",
    "        direction=\"-\",\n",
    "    )\n",
    "\n",
    "    # define a flux monitor to measure reflection\n",
    "    flux_monitor = td.FluxMonitor(\n",
    "        center=(0, 0, h + offset),\n",
    "        size=(td.inf, td.inf, 0),\n",
    "        freqs=freqs,\n",
    "        name=\"R\",\n",
    "    )\n",
    "\n",
    "    # simulation domain size in z\n",
    "    Lz = h + 1.1 * offset\n",
    "\n",
    "    # define simulation\n",
    "    sim = td.Simulation(\n",
    "        center=(0, 0, Lz / 2),\n",
    "        size=(a, a, Lz),\n",
    "        grid_spec=grid_spec,\n",
    "        structures=[graphene_layer],\n",
    "        sources=[plane_wave],\n",
    "        monitors=[flux_monitor],\n",
    "        run_time=run_time,\n",
    "        medium=topas,\n",
    "        boundary_spec=boundary_spec,\n",
    "        shutoff=1e-7,\n",
    "        symmetry=(-1, 1, 0),  # symmetry is used to reduce the computational load\n",
    "    )\n",
    "\n",
    "    return sim\n"
   ]
  },
  {
   "cell_type": "markdown",
   "id": "a1bbea24",
   "metadata": {},
   "source": [
    "Specifically, we study $\\mu_c=$0, 0.1, 0.2, and 0.5 eV. "
   ]
  },
  {
   "cell_type": "code",
   "execution_count": 8,
   "id": "9f32c260",
   "metadata": {
    "execution": {
     "iopub.execute_input": "2024-09-05T12:50:24.231493Z",
     "iopub.status.busy": "2024-09-05T12:50:24.231023Z",
     "iopub.status.idle": "2024-09-05T12:50:26.389310Z",
     "shell.execute_reply": "2024-09-05T12:50:26.388133Z"
    }
   },
   "outputs": [
    {
     "data": {
      "text/html": [
       "<pre style=\"white-space:pre;overflow-x:auto;line-height:normal;font-family:Menlo,'DejaVu Sans Mono',consolas,'Courier New',monospace\"><span style=\"color: #7fbfbf; text-decoration-color: #7fbfbf\">12:50:26 UTC </span><span style=\"color: #800000; text-decoration-color: #800000\">WARNING: frequency passed to </span><span style=\"color: #008000; text-decoration-color: #008000\">'Medium.eps_model()'</span><span style=\"color: #800000; text-decoration-color: #800000\">is outside of     </span>\n",
       "<span style=\"color: #7fbfbf; text-decoration-color: #7fbfbf\">             </span><span style=\"color: #008000; text-decoration-color: #008000\">'Medium.frequency_range'</span><span style=\"color: #800000; text-decoration-color: #800000\"> = </span><span style=\"color: #800000; text-decoration-color: #800000; font-weight: bold\">(</span><span style=\"color: #008080; text-decoration-color: #008080; font-weight: bold\">0.0</span><span style=\"color: #800000; text-decoration-color: #800000\">, </span><span style=\"color: #008080; text-decoration-color: #008080; font-weight: bold\">1000000000000000.0</span><span style=\"color: #800000; text-decoration-color: #800000; font-weight: bold\">)</span><span style=\"color: #800000; text-decoration-color: #800000\">               </span>\n",
       "</pre>\n"
      ],
      "text/plain": [
       "\u001b[2;36m12:50:26 UTC\u001b[0m\u001b[2;36m \u001b[0m\u001b[31mWARNING: frequency passed to \u001b[0m\u001b[32m'Medium.eps_model\u001b[0m\u001b[32m(\u001b[0m\u001b[32m)\u001b[0m\u001b[32m'\u001b[0m\u001b[31mis outside of     \u001b[0m\n",
       "\u001b[2;36m             \u001b[0m\u001b[32m'Medium.frequency_range'\u001b[0m\u001b[31m = \u001b[0m\u001b[1;31m(\u001b[0m\u001b[1;36m0.0\u001b[0m\u001b[31m, \u001b[0m\u001b[1;36m1000000000000000.0\u001b[0m\u001b[1;31m)\u001b[0m\u001b[31m               \u001b[0m\n"
      ]
     },
     "metadata": {},
     "output_type": "display_data"
    },
    {
     "data": {
      "text/html": [
       "<pre style=\"white-space:pre;overflow-x:auto;line-height:normal;font-family:Menlo,'DejaVu Sans Mono',consolas,'Courier New',monospace\"><span style=\"color: #7fbfbf; text-decoration-color: #7fbfbf\">             </span><span style=\"color: #800000; text-decoration-color: #800000\">WARNING: frequency passed to </span><span style=\"color: #008000; text-decoration-color: #008000\">'Medium.eps_model()'</span><span style=\"color: #800000; text-decoration-color: #800000\">is outside of     </span>\n",
       "<span style=\"color: #7fbfbf; text-decoration-color: #7fbfbf\">             </span><span style=\"color: #008000; text-decoration-color: #008000\">'Medium.frequency_range'</span><span style=\"color: #800000; text-decoration-color: #800000\"> = </span><span style=\"color: #800000; text-decoration-color: #800000; font-weight: bold\">(</span><span style=\"color: #008080; text-decoration-color: #008080; font-weight: bold\">0.0</span><span style=\"color: #800000; text-decoration-color: #800000\">, </span><span style=\"color: #008080; text-decoration-color: #008080; font-weight: bold\">1000000000000000.0</span><span style=\"color: #800000; text-decoration-color: #800000; font-weight: bold\">)</span><span style=\"color: #800000; text-decoration-color: #800000\">               </span>\n",
       "</pre>\n"
      ],
      "text/plain": [
       "\u001b[2;36m            \u001b[0m\u001b[2;36m \u001b[0m\u001b[31mWARNING: frequency passed to \u001b[0m\u001b[32m'Medium.eps_model\u001b[0m\u001b[32m(\u001b[0m\u001b[32m)\u001b[0m\u001b[32m'\u001b[0m\u001b[31mis outside of     \u001b[0m\n",
       "\u001b[2;36m             \u001b[0m\u001b[32m'Medium.frequency_range'\u001b[0m\u001b[31m = \u001b[0m\u001b[1;31m(\u001b[0m\u001b[1;36m0.0\u001b[0m\u001b[31m, \u001b[0m\u001b[1;36m1000000000000000.0\u001b[0m\u001b[1;31m)\u001b[0m\u001b[31m               \u001b[0m\n"
      ]
     },
     "metadata": {},
     "output_type": "display_data"
    }
   ],
   "source": [
    "mu_cs = [0, 0.1, 0.2, 0.5]  # values of mu_c to be simulated\n",
    "\n",
    "# define a simulation batch\n",
    "sims = {f\"mu_c={mu_c:.2f}\": make_sim_uniform(mu_c) for mu_c in mu_cs}\n"
   ]
  },
  {
   "cell_type": "markdown",
   "id": "f4b6fb5c",
   "metadata": {},
   "source": [
    "Submit the simulation batch to the server."
   ]
  },
  {
   "cell_type": "code",
   "execution_count": 9,
   "id": "5a706f2c",
   "metadata": {
    "execution": {
     "iopub.execute_input": "2024-09-05T12:50:26.393828Z",
     "iopub.status.busy": "2024-09-05T12:50:26.393645Z",
     "iopub.status.idle": "2024-09-05T12:51:02.991551Z",
     "shell.execute_reply": "2024-09-05T12:51:02.989754Z"
    }
   },
   "outputs": [
    {
     "data": {
      "application/vnd.jupyter.widget-view+json": {
       "model_id": "1048e14cf04c48eeaa0182df7cc2aa39",
       "version_major": 2,
       "version_minor": 0
      },
      "text/plain": [
       "Output()"
      ]
     },
     "metadata": {},
     "output_type": "display_data"
    },
    {
     "data": {
      "text/html": [
       "<pre style=\"white-space:pre;overflow-x:auto;line-height:normal;font-family:Menlo,'DejaVu Sans Mono',consolas,'Courier New',monospace\"></pre>\n"
      ],
      "text/plain": []
     },
     "metadata": {},
     "output_type": "display_data"
    },
    {
     "data": {
      "text/html": [
       "<pre style=\"white-space:pre;overflow-x:auto;line-height:normal;font-family:Menlo,'DejaVu Sans Mono',consolas,'Courier New',monospace\">\n",
       "</pre>\n"
      ],
      "text/plain": [
       "\n"
      ]
     },
     "metadata": {},
     "output_type": "display_data"
    },
    {
     "data": {
      "text/html": [
       "<pre style=\"white-space:pre;overflow-x:auto;line-height:normal;font-family:Menlo,'DejaVu Sans Mono',consolas,'Courier New',monospace\"><span style=\"color: #7fbfbf; text-decoration-color: #7fbfbf\">12:50:28 UTC </span>Started working on Batch containing <span style=\"color: #008080; text-decoration-color: #008080; font-weight: bold\">4</span> tasks.                       \n",
       "</pre>\n"
      ],
      "text/plain": [
       "\u001b[2;36m12:50:28 UTC\u001b[0m\u001b[2;36m \u001b[0mStarted working on Batch containing \u001b[1;36m4\u001b[0m tasks.                       \n"
      ]
     },
     "metadata": {},
     "output_type": "display_data"
    },
    {
     "data": {
      "text/html": [
       "<pre style=\"white-space:pre;overflow-x:auto;line-height:normal;font-family:Menlo,'DejaVu Sans Mono',consolas,'Courier New',monospace\"><span style=\"color: #7fbfbf; text-decoration-color: #7fbfbf\">12:50:49 UTC </span>Maximum FlexCredit cost: <span style=\"color: #008080; text-decoration-color: #008080; font-weight: bold\">0.100</span> for the whole batch.                \n",
       "</pre>\n"
      ],
      "text/plain": [
       "\u001b[2;36m12:50:49 UTC\u001b[0m\u001b[2;36m \u001b[0mMaximum FlexCredit cost: \u001b[1;36m0.100\u001b[0m for the whole batch.                \n"
      ]
     },
     "metadata": {},
     "output_type": "display_data"
    },
    {
     "data": {
      "text/html": [
       "<pre style=\"white-space:pre;overflow-x:auto;line-height:normal;font-family:Menlo,'DejaVu Sans Mono',consolas,'Courier New',monospace\"><span style=\"color: #7fbfbf; text-decoration-color: #7fbfbf\">             </span>Use <span style=\"color: #008000; text-decoration-color: #008000\">'Batch.real_cost()'</span> to get the billed FlexCredit cost after the\n",
       "<span style=\"color: #7fbfbf; text-decoration-color: #7fbfbf\">             </span>Batch has completed.                                               \n",
       "</pre>\n"
      ],
      "text/plain": [
       "\u001b[2;36m            \u001b[0m\u001b[2;36m \u001b[0mUse \u001b[32m'Batch.real_cost\u001b[0m\u001b[32m(\u001b[0m\u001b[32m)\u001b[0m\u001b[32m'\u001b[0m to get the billed FlexCredit cost after the\n",
       "\u001b[2;36m             \u001b[0mBatch has completed.                                               \n"
      ]
     },
     "metadata": {},
     "output_type": "display_data"
    },
    {
     "data": {
      "application/vnd.jupyter.widget-view+json": {
       "model_id": "d64cb2ad6625490181373c3eab716cc8",
       "version_major": 2,
       "version_minor": 0
      },
      "text/plain": [
       "Output()"
      ]
     },
     "metadata": {},
     "output_type": "display_data"
    },
    {
     "data": {
      "text/html": [
       "<pre style=\"white-space:pre;overflow-x:auto;line-height:normal;font-family:Menlo,'DejaVu Sans Mono',consolas,'Courier New',monospace\"><span style=\"color: #7fbfbf; text-decoration-color: #7fbfbf\">12:51:00 UTC </span>Batch complete.                                                    \n",
       "</pre>\n"
      ],
      "text/plain": [
       "\u001b[2;36m12:51:00 UTC\u001b[0m\u001b[2;36m \u001b[0mBatch complete.                                                    \n"
      ]
     },
     "metadata": {},
     "output_type": "display_data"
    },
    {
     "data": {
      "text/html": [
       "<pre style=\"white-space:pre;overflow-x:auto;line-height:normal;font-family:Menlo,'DejaVu Sans Mono',consolas,'Courier New',monospace\"></pre>\n"
      ],
      "text/plain": []
     },
     "metadata": {},
     "output_type": "display_data"
    },
    {
     "data": {
      "text/html": [
       "<pre style=\"white-space:pre;overflow-x:auto;line-height:normal;font-family:Menlo,'DejaVu Sans Mono',consolas,'Courier New',monospace\">\n",
       "</pre>\n"
      ],
      "text/plain": [
       "\n"
      ]
     },
     "metadata": {},
     "output_type": "display_data"
    },
    {
     "data": {
      "application/vnd.jupyter.widget-view+json": {
       "model_id": "fccf0a11560c434084cc164c6ee29363",
       "version_major": 2,
       "version_minor": 0
      },
      "text/plain": [
       "Output()"
      ]
     },
     "metadata": {},
     "output_type": "display_data"
    },
    {
     "data": {
      "text/html": [
       "<pre style=\"white-space:pre;overflow-x:auto;line-height:normal;font-family:Menlo,'DejaVu Sans Mono',consolas,'Courier New',monospace\"></pre>\n"
      ],
      "text/plain": []
     },
     "metadata": {},
     "output_type": "display_data"
    },
    {
     "data": {
      "text/html": [
       "<pre style=\"white-space:pre;overflow-x:auto;line-height:normal;font-family:Menlo,'DejaVu Sans Mono',consolas,'Courier New',monospace\">\n",
       "</pre>\n"
      ],
      "text/plain": [
       "\n"
      ]
     },
     "metadata": {},
     "output_type": "display_data"
    }
   ],
   "source": [
    "batch = web.Batch(simulations=sims, folder_name=\"default\")\n",
    "batch_results = batch.run(path_dir=\"data\")\n"
   ]
  },
  {
   "cell_type": "markdown",
   "id": "b14e5299",
   "metadata": {},
   "source": [
    "After the batch of jobs is complete, we want to plot the absorption spectra. Since the bottom ground plane is a perfect mirror, absorption is simply $A=1-R$, where $R$ is the reflection. A function `plot_absorption` is defined to do this plotting. "
   ]
  },
  {
   "cell_type": "code",
   "execution_count": 10,
   "id": "75eb91f2",
   "metadata": {
    "execution": {
     "iopub.execute_input": "2024-09-05T12:51:03.708404Z",
     "iopub.status.busy": "2024-09-05T12:51:03.707388Z",
     "iopub.status.idle": "2024-09-05T12:51:03.717164Z",
     "shell.execute_reply": "2024-09-05T12:51:03.715637Z"
    }
   },
   "outputs": [],
   "source": [
    "def plot_absorption(batch_results):\n",
    "    for i, mu_c in enumerate(mu_cs):\n",
    "        sim_data = batch_results[f\"mu_c={mu_c:.2f}\"]\n",
    "        A = 1 - sim_data[\"R\"].flux\n",
    "        plt.plot(freqs / THz, A, label=f\"{mu_c:.2f} eV\")\n",
    "        plt.xlim(0, 5)\n",
    "        plt.ylim(0, 1)\n",
    "        plt.xlabel(\"Frequency (THz)\")\n",
    "        plt.ylabel(\"Absorption\")\n",
    "        plt.legend()\n"
   ]
  },
  {
   "cell_type": "markdown",
   "id": "6516c046",
   "metadata": {},
   "source": [
    "At 0.5 eV chemical potential, perfect absorption is observed around 2.3 THz. However, the bandwidth is rather small."
   ]
  },
  {
   "cell_type": "code",
   "execution_count": 11,
   "id": "77f7b725",
   "metadata": {
    "execution": {
     "iopub.execute_input": "2024-09-05T12:51:03.723337Z",
     "iopub.status.busy": "2024-09-05T12:51:03.722644Z",
     "iopub.status.idle": "2024-09-05T12:51:04.444302Z",
     "shell.execute_reply": "2024-09-05T12:51:04.443386Z"
    }
   },
   "outputs": [
    {
     "data": {
      "image/png": "[encoded data removed]",
      "text/plain": [
       "<Figure size 640x480 with 1 Axes>"
      ]
     },
     "metadata": {},
     "output_type": "display_data"
    }
   ],
   "source": [
    "plot_absorption(batch_results)\n"
   ]
  },
  {
   "cell_type": "markdown",
   "id": "f49c61a9",
   "metadata": {},
   "source": [
    "## Graphene Fishnet Absorber"
   ]
  },
  {
   "cell_type": "markdown",
   "id": "e3ae8df1",
   "metadata": {},
   "source": [
    "To enhance the absorption bandwidth, a fishnet design is explored, as discussed in the [reference](https://opg.optica.org/oe/fulltext.cfm?uri=oe-21-7-9144&id=252404&ibsearch=false).\n",
    "\n",
    "Similarly, we define a function here that returns a simulation at a given graphene chemical potential. "
   ]
  },
  {
   "cell_type": "code",
   "execution_count": 12,
   "id": "9fe6635e",
   "metadata": {
    "execution": {
     "iopub.execute_input": "2024-09-05T12:51:04.451810Z",
     "iopub.status.busy": "2024-09-05T12:51:04.450881Z",
     "iopub.status.idle": "2024-09-05T12:51:04.469012Z",
     "shell.execute_reply": "2024-09-05T12:51:04.468014Z"
    }
   },
   "outputs": [],
   "source": [
    "# fishnet parameters\n",
    "b = 2\n",
    "w = 12\n",
    "\n",
    "h = 17.6  # distance between the graphene and the ground plate\n",
    "inf_eff = 1e3  # effective infinity\n",
    "\n",
    "\n",
    "def make_sim_fishnet(mu_c):\n",
    "    # define graphene\n",
    "    graphene = td.material_library[\"graphene\"](\n",
    "        gamma=gamma, mu_c=mu_c, temp=temp, scaling=scaling\n",
    "    ).medium\n",
    "\n",
    "    # define the fishnet structure\n",
    "    graphene_finishnet_center = td.Structure(\n",
    "        geometry=td.Box.from_bounds(rmin=(0, 0, h), rmax=(w / 2, w / 2, h)),\n",
    "        medium=graphene,\n",
    "    )\n",
    "    graphene_finishnet_right = td.Structure(\n",
    "        geometry=td.Box.from_bounds(rmin=(w / 2, 0, h), rmax=(inf_eff, b / 2, h)),\n",
    "        medium=graphene,\n",
    "    )\n",
    "    graphene_finishnet_top = td.Structure(\n",
    "        geometry=td.Box.from_bounds(rmin=(0, w / 2, h), rmax=(b / 2, inf_eff, h)),\n",
    "        medium=graphene,\n",
    "    )\n",
    "\n",
    "    # define a plane wave source\n",
    "    plane_wave = td.PlaneWave(\n",
    "        center=(0, 0, h + 0.1 * offset),\n",
    "        size=(td.inf, td.inf, 0),\n",
    "        source_time=td.GaussianPulse(freq0=freq0, fwidth=freq0 / 2),\n",
    "        direction=\"-\",\n",
    "    )\n",
    "\n",
    "    # define a flux monitor to measure reflection\n",
    "    flux_monitor = td.FluxMonitor(\n",
    "        center=(0, 0, h + offset),\n",
    "        size=(td.inf, td.inf, 0),\n",
    "        freqs=freqs,\n",
    "        name=\"R\",\n",
    "    )\n",
    "\n",
    "    # simulation domain size in z\n",
    "    Lz = h + 1.1 * offset\n",
    "\n",
    "    # define simulation\n",
    "    sim = td.Simulation(\n",
    "        center=(0, 0, Lz / 2),\n",
    "        size=(a, a, Lz),\n",
    "        grid_spec=grid_spec,\n",
    "        structures=[\n",
    "            graphene_finishnet_center,\n",
    "            graphene_finishnet_right,\n",
    "            graphene_finishnet_top,\n",
    "        ],\n",
    "        sources=[plane_wave],\n",
    "        monitors=[flux_monitor],\n",
    "        run_time=run_time,\n",
    "        medium=topas,\n",
    "        boundary_spec=boundary_spec,\n",
    "        shutoff=1e-7,\n",
    "        symmetry=(-1, 1, 0),\n",
    "    )\n",
    "\n",
    "    return sim\n"
   ]
  },
  {
   "cell_type": "markdown",
   "id": "62d74707",
   "metadata": {},
   "source": [
    "To make sure the structures are defined correctly, use the `plot` method to visualize the fishnet. Due to symmetry, only a quarter of it needs to be defined."
   ]
  },
  {
   "cell_type": "code",
   "execution_count": 13,
   "id": "cfc44984",
   "metadata": {
    "execution": {
     "iopub.execute_input": "2024-09-05T12:51:04.474034Z",
     "iopub.status.busy": "2024-09-05T12:51:04.473691Z",
     "iopub.status.idle": "2024-09-05T12:51:05.216357Z",
     "shell.execute_reply": "2024-09-05T12:51:05.215401Z"
    }
   },
   "outputs": [
    {
     "data": {
      "text/html": [
       "<pre style=\"white-space:pre;overflow-x:auto;line-height:normal;font-family:Menlo,'DejaVu Sans Mono',consolas,'Courier New',monospace\"><span style=\"color: #7fbfbf; text-decoration-color: #7fbfbf\">12:51:04 UTC </span><span style=\"color: #800000; text-decoration-color: #800000\">WARNING: frequency passed to </span><span style=\"color: #008000; text-decoration-color: #008000\">'Medium.eps_model()'</span><span style=\"color: #800000; text-decoration-color: #800000\">is outside of     </span>\n",
       "<span style=\"color: #7fbfbf; text-decoration-color: #7fbfbf\">             </span><span style=\"color: #008000; text-decoration-color: #008000\">'Medium.frequency_range'</span><span style=\"color: #800000; text-decoration-color: #800000\"> = </span><span style=\"color: #800000; text-decoration-color: #800000; font-weight: bold\">(</span><span style=\"color: #008080; text-decoration-color: #008080; font-weight: bold\">0.0</span><span style=\"color: #800000; text-decoration-color: #800000\">, </span><span style=\"color: #008080; text-decoration-color: #008080; font-weight: bold\">1000000000000000.0</span><span style=\"color: #800000; text-decoration-color: #800000; font-weight: bold\">)</span><span style=\"color: #800000; text-decoration-color: #800000\">               </span>\n",
       "</pre>\n"
      ],
      "text/plain": [
       "\u001b[2;36m12:51:04 UTC\u001b[0m\u001b[2;36m \u001b[0m\u001b[31mWARNING: frequency passed to \u001b[0m\u001b[32m'Medium.eps_model\u001b[0m\u001b[32m(\u001b[0m\u001b[32m)\u001b[0m\u001b[32m'\u001b[0m\u001b[31mis outside of     \u001b[0m\n",
       "\u001b[2;36m             \u001b[0m\u001b[32m'Medium.frequency_range'\u001b[0m\u001b[31m = \u001b[0m\u001b[1;31m(\u001b[0m\u001b[1;36m0.0\u001b[0m\u001b[31m, \u001b[0m\u001b[1;36m1000000000000000.0\u001b[0m\u001b[1;31m)\u001b[0m\u001b[31m               \u001b[0m\n"
      ]
     },
     "metadata": {},
     "output_type": "display_data"
    },
    {
     "data": {
      "text/html": [
       "<pre style=\"white-space:pre;overflow-x:auto;line-height:normal;font-family:Menlo,'DejaVu Sans Mono',consolas,'Courier New',monospace\"><span style=\"color: #7fbfbf; text-decoration-color: #7fbfbf\">             </span><span style=\"color: #800000; text-decoration-color: #800000\">WARNING: frequency passed to </span><span style=\"color: #008000; text-decoration-color: #008000\">'Medium.eps_model()'</span><span style=\"color: #800000; text-decoration-color: #800000\">is outside of     </span>\n",
       "<span style=\"color: #7fbfbf; text-decoration-color: #7fbfbf\">             </span><span style=\"color: #008000; text-decoration-color: #008000\">'Medium.frequency_range'</span><span style=\"color: #800000; text-decoration-color: #800000\"> = </span><span style=\"color: #800000; text-decoration-color: #800000; font-weight: bold\">(</span><span style=\"color: #008080; text-decoration-color: #008080; font-weight: bold\">0.0</span><span style=\"color: #800000; text-decoration-color: #800000\">, </span><span style=\"color: #008080; text-decoration-color: #008080; font-weight: bold\">1000000000000000.0</span><span style=\"color: #800000; text-decoration-color: #800000; font-weight: bold\">)</span><span style=\"color: #800000; text-decoration-color: #800000\">               </span>\n",
       "</pre>\n"
      ],
      "text/plain": [
       "\u001b[2;36m            \u001b[0m\u001b[2;36m \u001b[0m\u001b[31mWARNING: frequency passed to \u001b[0m\u001b[32m'Medium.eps_model\u001b[0m\u001b[32m(\u001b[0m\u001b[32m)\u001b[0m\u001b[32m'\u001b[0m\u001b[31mis outside of     \u001b[0m\n",
       "\u001b[2;36m             \u001b[0m\u001b[32m'Medium.frequency_range'\u001b[0m\u001b[31m = \u001b[0m\u001b[1;31m(\u001b[0m\u001b[1;36m0.0\u001b[0m\u001b[31m, \u001b[0m\u001b[1;36m1000000000000000.0\u001b[0m\u001b[1;31m)\u001b[0m\u001b[31m               \u001b[0m\n"
      ]
     },
     "metadata": {},
     "output_type": "display_data"
    },
    {
     "data": {
      "image/png": "[encoded data removed]",
      "text/plain": [
       "<Figure size 640x480 with 1 Axes>"
      ]
     },
     "metadata": {},
     "output_type": "display_data"
    }
   ],
   "source": [
    "sim = make_sim_fishnet(0.5)\n",
    "ax = sim.plot(z=h)\n"
   ]
  },
  {
   "cell_type": "markdown",
   "id": "24fe60ce",
   "metadata": {},
   "source": [
    "A batch of simulations at different chemical potentials is defined and submitted to the server. "
   ]
  },
  {
   "cell_type": "code",
   "execution_count": 14,
   "id": "6c616915",
   "metadata": {
    "execution": {
     "iopub.execute_input": "2024-09-05T12:51:05.222159Z",
     "iopub.status.busy": "2024-09-05T12:51:05.221327Z",
     "iopub.status.idle": "2024-09-05T12:51:42.044911Z",
     "shell.execute_reply": "2024-09-05T12:51:42.043078Z"
    }
   },
   "outputs": [
    {
     "data": {
      "text/html": [
       "<pre style=\"white-space:pre;overflow-x:auto;line-height:normal;font-family:Menlo,'DejaVu Sans Mono',consolas,'Courier New',monospace\"><span style=\"color: #7fbfbf; text-decoration-color: #7fbfbf\">12:51:07 UTC </span><span style=\"color: #800000; text-decoration-color: #800000\">WARNING: frequency passed to </span><span style=\"color: #008000; text-decoration-color: #008000\">'Medium.eps_model()'</span><span style=\"color: #800000; text-decoration-color: #800000\">is outside of     </span>\n",
       "<span style=\"color: #7fbfbf; text-decoration-color: #7fbfbf\">             </span><span style=\"color: #008000; text-decoration-color: #008000\">'Medium.frequency_range'</span><span style=\"color: #800000; text-decoration-color: #800000\"> = </span><span style=\"color: #800000; text-decoration-color: #800000; font-weight: bold\">(</span><span style=\"color: #008080; text-decoration-color: #008080; font-weight: bold\">0.0</span><span style=\"color: #800000; text-decoration-color: #800000\">, </span><span style=\"color: #008080; text-decoration-color: #008080; font-weight: bold\">1000000000000000.0</span><span style=\"color: #800000; text-decoration-color: #800000; font-weight: bold\">)</span><span style=\"color: #800000; text-decoration-color: #800000\">               </span>\n",
       "</pre>\n"
      ],
      "text/plain": [
       "\u001b[2;36m12:51:07 UTC\u001b[0m\u001b[2;36m \u001b[0m\u001b[31mWARNING: frequency passed to \u001b[0m\u001b[32m'Medium.eps_model\u001b[0m\u001b[32m(\u001b[0m\u001b[32m)\u001b[0m\u001b[32m'\u001b[0m\u001b[31mis outside of     \u001b[0m\n",
       "\u001b[2;36m             \u001b[0m\u001b[32m'Medium.frequency_range'\u001b[0m\u001b[31m = \u001b[0m\u001b[1;31m(\u001b[0m\u001b[1;36m0.0\u001b[0m\u001b[31m, \u001b[0m\u001b[1;36m1000000000000000.0\u001b[0m\u001b[1;31m)\u001b[0m\u001b[31m               \u001b[0m\n"
      ]
     },
     "metadata": {},
     "output_type": "display_data"
    },
    {
     "data": {
      "text/html": [
       "<pre style=\"white-space:pre;overflow-x:auto;line-height:normal;font-family:Menlo,'DejaVu Sans Mono',consolas,'Courier New',monospace\"><span style=\"color: #7fbfbf; text-decoration-color: #7fbfbf\">             </span><span style=\"color: #800000; text-decoration-color: #800000\">WARNING: frequency passed to </span><span style=\"color: #008000; text-decoration-color: #008000\">'Medium.eps_model()'</span><span style=\"color: #800000; text-decoration-color: #800000\">is outside of     </span>\n",
       "<span style=\"color: #7fbfbf; text-decoration-color: #7fbfbf\">             </span><span style=\"color: #008000; text-decoration-color: #008000\">'Medium.frequency_range'</span><span style=\"color: #800000; text-decoration-color: #800000\"> = </span><span style=\"color: #800000; text-decoration-color: #800000; font-weight: bold\">(</span><span style=\"color: #008080; text-decoration-color: #008080; font-weight: bold\">0.0</span><span style=\"color: #800000; text-decoration-color: #800000\">, </span><span style=\"color: #008080; text-decoration-color: #008080; font-weight: bold\">1000000000000000.0</span><span style=\"color: #800000; text-decoration-color: #800000; font-weight: bold\">)</span><span style=\"color: #800000; text-decoration-color: #800000\">               </span>\n",
       "</pre>\n"
      ],
      "text/plain": [
       "\u001b[2;36m            \u001b[0m\u001b[2;36m \u001b[0m\u001b[31mWARNING: frequency passed to \u001b[0m\u001b[32m'Medium.eps_model\u001b[0m\u001b[32m(\u001b[0m\u001b[32m)\u001b[0m\u001b[32m'\u001b[0m\u001b[31mis outside of     \u001b[0m\n",
       "\u001b[2;36m             \u001b[0m\u001b[32m'Medium.frequency_range'\u001b[0m\u001b[31m = \u001b[0m\u001b[1;31m(\u001b[0m\u001b[1;36m0.0\u001b[0m\u001b[31m, \u001b[0m\u001b[1;36m1000000000000000.0\u001b[0m\u001b[1;31m)\u001b[0m\u001b[31m               \u001b[0m\n"
      ]
     },
     "metadata": {},
     "output_type": "display_data"
    },
    {
     "data": {
      "application/vnd.jupyter.widget-view+json": {
       "model_id": "523687d06f6d492781cac40cbf29e969",
       "version_major": 2,
       "version_minor": 0
      },
      "text/plain": [
       "Output()"
      ]
     },
     "metadata": {},
     "output_type": "display_data"
    },
    {
     "data": {
      "text/html": [
       "<pre style=\"white-space:pre;overflow-x:auto;line-height:normal;font-family:Menlo,'DejaVu Sans Mono',consolas,'Courier New',monospace\"></pre>\n"
      ],
      "text/plain": []
     },
     "metadata": {},
     "output_type": "display_data"
    },
    {
     "data": {
      "text/html": [
       "<pre style=\"white-space:pre;overflow-x:auto;line-height:normal;font-family:Menlo,'DejaVu Sans Mono',consolas,'Courier New',monospace\">\n",
       "</pre>\n"
      ],
      "text/plain": [
       "\n"
      ]
     },
     "metadata": {},
     "output_type": "display_data"
    },
    {
     "data": {
      "text/html": [
       "<pre style=\"white-space:pre;overflow-x:auto;line-height:normal;font-family:Menlo,'DejaVu Sans Mono',consolas,'Courier New',monospace\"><span style=\"color: #7fbfbf; text-decoration-color: #7fbfbf\">12:51:08 UTC </span>Started working on Batch containing <span style=\"color: #008080; text-decoration-color: #008080; font-weight: bold\">4</span> tasks.                       \n",
       "</pre>\n"
      ],
      "text/plain": [
       "\u001b[2;36m12:51:08 UTC\u001b[0m\u001b[2;36m \u001b[0mStarted working on Batch containing \u001b[1;36m4\u001b[0m tasks.                       \n"
      ]
     },
     "metadata": {},
     "output_type": "display_data"
    },
    {
     "data": {
      "text/html": [
       "<pre style=\"white-space:pre;overflow-x:auto;line-height:normal;font-family:Menlo,'DejaVu Sans Mono',consolas,'Courier New',monospace\"><span style=\"color: #7fbfbf; text-decoration-color: #7fbfbf\">12:51:28 UTC </span>Maximum FlexCredit cost: <span style=\"color: #008080; text-decoration-color: #008080; font-weight: bold\">0.100</span> for the whole batch.                \n",
       "</pre>\n"
      ],
      "text/plain": [
       "\u001b[2;36m12:51:28 UTC\u001b[0m\u001b[2;36m \u001b[0mMaximum FlexCredit cost: \u001b[1;36m0.100\u001b[0m for the whole batch.                \n"
      ]
     },
     "metadata": {},
     "output_type": "display_data"
    },
    {
     "data": {
      "text/html": [
       "<pre style=\"white-space:pre;overflow-x:auto;line-height:normal;font-family:Menlo,'DejaVu Sans Mono',consolas,'Courier New',monospace\"><span style=\"color: #7fbfbf; text-decoration-color: #7fbfbf\">             </span>Use <span style=\"color: #008000; text-decoration-color: #008000\">'Batch.real_cost()'</span> to get the billed FlexCredit cost after the\n",
       "<span style=\"color: #7fbfbf; text-decoration-color: #7fbfbf\">             </span>Batch has completed.                                               \n",
       "</pre>\n"
      ],
      "text/plain": [
       "\u001b[2;36m            \u001b[0m\u001b[2;36m \u001b[0mUse \u001b[32m'Batch.real_cost\u001b[0m\u001b[32m(\u001b[0m\u001b[32m)\u001b[0m\u001b[32m'\u001b[0m to get the billed FlexCredit cost after the\n",
       "\u001b[2;36m             \u001b[0mBatch has completed.                                               \n"
      ]
     },
     "metadata": {},
     "output_type": "display_data"
    },
    {
     "data": {
      "application/vnd.jupyter.widget-view+json": {
       "model_id": "9f76e620b0824af1b650dcfbeb19029f",
       "version_major": 2,
       "version_minor": 0
      },
      "text/plain": [
       "Output()"
      ]
     },
     "metadata": {},
     "output_type": "display_data"
    },
    {
     "data": {
      "text/html": [
       "<pre style=\"white-space:pre;overflow-x:auto;line-height:normal;font-family:Menlo,'DejaVu Sans Mono',consolas,'Courier New',monospace\"><span style=\"color: #7fbfbf; text-decoration-color: #7fbfbf\">12:51:39 UTC </span>Batch complete.                                                    \n",
       "</pre>\n"
      ],
      "text/plain": [
       "\u001b[2;36m12:51:39 UTC\u001b[0m\u001b[2;36m \u001b[0mBatch complete.                                                    \n"
      ]
     },
     "metadata": {},
     "output_type": "display_data"
    },
    {
     "data": {
      "text/html": [
       "<pre style=\"white-space:pre;overflow-x:auto;line-height:normal;font-family:Menlo,'DejaVu Sans Mono',consolas,'Courier New',monospace\"></pre>\n"
      ],
      "text/plain": []
     },
     "metadata": {},
     "output_type": "display_data"
    },
    {
     "data": {
      "text/html": [
       "<pre style=\"white-space:pre;overflow-x:auto;line-height:normal;font-family:Menlo,'DejaVu Sans Mono',consolas,'Courier New',monospace\">\n",
       "</pre>\n"
      ],
      "text/plain": [
       "\n"
      ]
     },
     "metadata": {},
     "output_type": "display_data"
    },
    {
     "data": {
      "application/vnd.jupyter.widget-view+json": {
       "model_id": "99d83d0c380b4caba48a2900fb460ff8",
       "version_major": 2,
       "version_minor": 0
      },
      "text/plain": [
       "Output()"
      ]
     },
     "metadata": {},
     "output_type": "display_data"
    },
    {
     "data": {
      "text/html": [
       "<pre style=\"white-space:pre;overflow-x:auto;line-height:normal;font-family:Menlo,'DejaVu Sans Mono',consolas,'Courier New',monospace\"></pre>\n"
      ],
      "text/plain": []
     },
     "metadata": {},
     "output_type": "display_data"
    },
    {
     "data": {
      "text/html": [
       "<pre style=\"white-space:pre;overflow-x:auto;line-height:normal;font-family:Menlo,'DejaVu Sans Mono',consolas,'Courier New',monospace\">\n",
       "</pre>\n"
      ],
      "text/plain": [
       "\n"
      ]
     },
     "metadata": {},
     "output_type": "display_data"
    }
   ],
   "source": [
    "mu_cs = [0, 0.1, 0.2, 0.5]  # values of mu_c to be simulated\n",
    "\n",
    "# define a simulation batch\n",
    "sims = {f\"mu_c={mu_c:.2f}\": make_sim_fishnet(mu_c) for mu_c in mu_cs}\n",
    "\n",
    "# submit the batch to the server\n",
    "batch = web.Batch(simulations=sims, folder_name=\"default\")\n",
    "batch_results = batch.run(path_dir=\"data\")\n"
   ]
  },
  {
   "cell_type": "markdown",
   "id": "9aea2ae0",
   "metadata": {},
   "source": [
    "At 0.5 eV, the absorber shows an absorption bandwidth (defined as absorption above 0.9) of ~2 THz, much better than the uniform graphene absorber case."
   ]
  },
  {
   "cell_type": "code",
   "execution_count": 15,
   "id": "4c4965ac",
   "metadata": {
    "execution": {
     "iopub.execute_input": "2024-09-05T12:51:42.713133Z",
     "iopub.status.busy": "2024-09-05T12:51:42.712170Z",
     "iopub.status.idle": "2024-09-05T12:51:43.469567Z",
     "shell.execute_reply": "2024-09-05T12:51:43.468424Z"
    }
   },
   "outputs": [
    {
     "data": {
      "image/png": "[encoded data removed]",
      "text/plain": [
       "<Figure size 640x480 with 1 Axes>"
      ]
     },
     "metadata": {},
     "output_type": "display_data"
    }
   ],
   "source": [
    "plot_absorption(batch_results)\n"
   ]
  },
  {
   "cell_type": "markdown",
   "id": "72e4644e",
   "metadata": {},
   "source": [
    "## Additional Notes about Graphene "
   ]
  },
  {
   "cell_type": "markdown",
   "id": "0d9b85e8",
   "metadata": {},
   "source": [
    "As briefly discussed in the introduction, graphene's conductivity includes the contributions from both the intraband and interband electronic transitions. The intraband transitions lead to a Drude-like response that is dominant at lower frequencies. The interband transitions give rise to the prominent feature around $f=2\\mu_c$.\n",
    "\n",
    "The conductivity of graphene can be inspected by using the `numerical_conductivity` method. Here we show an example of graphene conductivity at $\\Gamma$=0.0033 eV, $\\mu_c$=0.2 eV, and $T$=300 K. Below 20 THz, the conductivity is predominantly Drude-like, which comes from the intraband transitions. The interband transition feature shows up at around 100 THz (~0.4 eV). "
   ]
  },
  {
   "cell_type": "code",
   "execution_count": 16,
   "id": "fbd83cbf",
   "metadata": {
    "execution": {
     "iopub.execute_input": "2024-09-05T12:51:43.473373Z",
     "iopub.status.busy": "2024-09-05T12:51:43.472791Z",
     "iopub.status.idle": "2024-09-05T12:51:44.087053Z",
     "shell.execute_reply": "2024-09-05T12:51:44.085970Z"
    }
   },
   "outputs": [
    {
     "data": {
      "image/png": "[encoded data removed]",
      "text/plain": [
       "<Figure size 640x480 with 1 Axes>"
      ]
     },
     "metadata": {},
     "output_type": "display_data"
    }
   ],
   "source": [
    "gamma = 0.0033  # scattering rate\n",
    "mu_c = 0.2  # chemical potential\n",
    "temp = 300  # temperature\n",
    "\n",
    "freqs = np.linspace(10, 250, 100) * THz\n",
    "graphene = td.material_library[\"graphene\"](gamma=gamma, mu_c=mu_c, temp=temp)\n",
    "sigma_analytical = graphene.numerical_conductivity(freqs)\n",
    "plt.plot(freqs / THz, np.real(sigma_analytical * 1e6), label=\"Re($\\sigma$) ($\\mu$S)\")\n",
    "plt.plot(freqs / THz, np.imag(sigma_analytical * 1e6), label=\"Im($\\sigma$) ($\\mu$S)\")\n",
    "plt.xlabel(\"frequency (THz)\")\n",
    "plt.title(\"analytically calculated surface conductivity\")\n",
    "plt.legend()\n",
    "plt.show()\n"
   ]
  },
  {
   "cell_type": "markdown",
   "id": "d66f68dd",
   "metadata": {},
   "source": [
    "Like other dispersive materials used in FDTD, graphene's conductivity needs to be fitted, which is automatically done when you define a graphene medium. The plot generated by `numerical_conductivity` above is the analytical result. To inspect the fitting, one can use the `plot_sigma` method as shown below. The fitted conductivity coincides well with the analytical result in this case."
   ]
  },
  {
   "cell_type": "code",
   "execution_count": 17,
   "id": "c1591ef2",
   "metadata": {
    "execution": {
     "iopub.execute_input": "2024-09-05T12:51:44.094116Z",
     "iopub.status.busy": "2024-09-05T12:51:44.093590Z",
     "iopub.status.idle": "2024-09-05T12:51:44.784117Z",
     "shell.execute_reply": "2024-09-05T12:51:44.782848Z"
    }
   },
   "outputs": [
    {
     "data": {
      "image/png": "[encoded data removed]",
      "text/plain": [
       "<Figure size 640x480 with 1 Axes>"
      ]
     },
     "metadata": {},
     "output_type": "display_data"
    }
   ],
   "source": [
    "graphene.medium.plot_sigma(freqs)\n",
    "plt.show()\n"
   ]
  },
  {
   "cell_type": "code",
   "execution_count": null,
   "id": "32145119",
   "metadata": {},
   "outputs": [],
   "source": []
  }
 ],
 "metadata": {
  "applications": [
   "Metamaterials, gratings, and other periodic structures"
  ],
  "description": "This notebook demonstrates how to model a graphene metamaterial absorber in Tidy3D FDTD.",
  "feature_image": "./img/graphene_metamaterial_schematic.png",
  "features": [
   "Parameter sweep",
   "2D material"
  ],
  "kernelspec": {
   "display_name": "Python 3 (ipykernel)",
   "language": "python",
   "name": "python3"
  },
  "keywords": "graphene, 2D material, metamaterial absorber, Tidy3D, FDTD",
  "language_info": {
   "codemirror_mode": {
    "name": "ipython",
    "version": 3
   },
   "file_extension": ".py",
   "mimetype": "text/x-python",
   "name": "python",
   "nbconvert_exporter": "python",
   "pygments_lexer": "ipython3",
   "version": "3.10.14"
  },
  "title": "Graphene Metamaterial Absorber | Flexcompute",
  "widgets": {
   "application/vnd.jupyter.widget-state+json": {
    "state": {
     "1048e14cf04c48eeaa0182df7cc2aa39": {
      "model_module": "@jupyter-widgets/output",
      "model_module_version": "1.0.0",
      "model_name": "OutputModel",
      "state": {
       "_dom_classes": [],
       "_model_module": "@jupyter-widgets/output",
       "_model_module_version": "1.0.0",
       "_model_name": "OutputModel",
       "_view_count": null,
       "_view_module": "@jupyter-widgets/output",
       "_view_module_version": "1.0.0",
       "_view_name": "OutputView",
       "layout": "IPY_MODEL_f0176cdcc12645259331b7778a0538da",
       "msg_id": "",
       "outputs": [
        {
         "data": {
          "text/html": "<pre style=\"white-space:pre;overflow-x:auto;line-height:normal;font-family:Menlo,'DejaVu Sans Mono',consolas,'Courier New',monospace\">Uploading data for 4 tasks. <span style=\"color: #729c1f; text-decoration-color: #729c1f\">━━━━━━━━━━━━━━━━━━━━━━━━━━━━━━━━━━━━━━━</span> <span style=\"color: #800080; text-decoration-color: #800080\">100%</span> <span style=\"color: #008080; text-decoration-color: #008080\">0:00:00</span>\n</pre>\n",
          "text/plain": "Uploading data for 4 tasks. \u001b[38;2;114;156;31m━━━━━━━━━━━━━━━━━━━━━━━━━━━━━━━━━━━━━━━\u001b[0m \u001b[35m100%\u001b[0m \u001b[36m0:00:00\u001b[0m\n"
         },
         "metadata": {},
         "output_type": "display_data"
        }
       ],
       "tabbable": null,
       "tooltip": null
      }
     },
     "1376ed7e28dd446da48a5cd37871fc17": {
      "model_module": "@jupyter-widgets/base",
      "model_module_version": "2.0.0",
      "model_name": "LayoutModel",
      "state": {
       "_model_module": "@jupyter-widgets/base",
       "_model_module_version": "2.0.0",
       "_model_name": "LayoutModel",
       "_view_count": null,
       "_view_module": "@jupyter-widgets/base",
       "_view_module_version": "2.0.0",
       "_view_name": "LayoutView",
       "align_content": null,
       "align_items": null,
       "align_self": null,
       "border_bottom": null,
       "border_left": null,
       "border_right": null,
       "border_top": null,
       "bottom": null,
       "display": null,
       "flex": null,
       "flex_flow": null,
       "grid_area": null,
       "grid_auto_columns": null,
       "grid_auto_flow": null,
       "grid_auto_rows": null,
       "grid_column": null,
       "grid_gap": null,
       "grid_row": null,
       "grid_template_areas": null,
       "grid_template_columns": null,
       "grid_template_rows": null,
       "height": null,
       "justify_content": null,
       "justify_items": null,
       "left": null,
       "margin": null,
       "max_height": null,
       "max_width": null,
       "min_height": null,
       "min_width": null,
       "object_fit": null,
       "object_position": null,
       "order": null,
       "overflow": null,
       "padding": null,
       "right": null,
       "top": null,
       "visibility": null,
       "width": null
      }
     },
     "335b3fc5e5f64363a9d61cdfda323b1c": {
      "model_module": "@jupyter-widgets/base",
      "model_module_version": "2.0.0",
      "model_name": "LayoutModel",
      "state": {
       "_model_module": "@jupyter-widgets/base",
       "_model_module_version": "2.0.0",
       "_model_name": "LayoutModel",
       "_view_count": null,
       "_view_module": "@jupyter-widgets/base",
       "_view_module_version": "2.0.0",
       "_view_name": "LayoutView",
       "align_content": null,
       "align_items": null,
       "align_self": null,
       "border_bottom": null,
       "border_left": null,
       "border_right": null,
       "border_top": null,
       "bottom": null,
       "display": null,
       "flex": null,
       "flex_flow": null,
       "grid_area": null,
       "grid_auto_columns": null,
       "grid_auto_flow": null,
       "grid_auto_rows": null,
       "grid_column": null,
       "grid_gap": null,
       "grid_row": null,
       "grid_template_areas": null,
       "grid_template_columns": null,
       "grid_template_rows": null,
       "height": null,
       "justify_content": null,
       "justify_items": null,
       "left": null,
       "margin": null,
       "max_height": null,
       "max_width": null,
       "min_height": null,
       "min_width": null,
       "object_fit": null,
       "object_position": null,
       "order": null,
       "overflow": null,
       "padding": null,
       "right": null,
       "top": null,
       "visibility": null,
       "width": null
      }
     },
     "523687d06f6d492781cac40cbf29e969": {
      "model_module": "@jupyter-widgets/output",
      "model_module_version": "1.0.0",
      "model_name": "OutputModel",
      "state": {
       "_dom_classes": [],
       "_model_module": "@jupyter-widgets/output",
       "_model_module_version": "1.0.0",
       "_model_name": "OutputModel",
       "_view_count": null,
       "_view_module": "@jupyter-widgets/output",
       "_view_module_version": "1.0.0",
       "_view_name": "OutputView",
       "layout": "IPY_MODEL_bbcbc74144254053a6ca56270c1ad220",
       "msg_id": "",
       "outputs": [
        {
         "data": {
          "text/html": "<pre style=\"white-space:pre;overflow-x:auto;line-height:normal;font-family:Menlo,'DejaVu Sans Mono',consolas,'Courier New',monospace\">Uploading data for 4 tasks. <span style=\"color: #729c1f; text-decoration-color: #729c1f\">━━━━━━━━━━━━━━━━━━━━━━━━━━━━━━━━━━━━━━━</span> <span style=\"color: #800080; text-decoration-color: #800080\">100%</span> <span style=\"color: #008080; text-decoration-color: #008080\">0:00:00</span>\n</pre>\n",
          "text/plain": "Uploading data for 4 tasks. \u001b[38;2;114;156;31m━━━━━━━━━━━━━━━━━━━━━━━━━━━━━━━━━━━━━━━\u001b[0m \u001b[35m100%\u001b[0m \u001b[36m0:00:00\u001b[0m\n"
         },
         "metadata": {},
         "output_type": "display_data"
        }
       ],
       "tabbable": null,
       "tooltip": null
      }
     },
     "75fbe539cc024351986f1b3e1eae57e1": {
      "model_module": "@jupyter-widgets/base",
      "model_module_version": "2.0.0",
      "model_name": "LayoutModel",
      "state": {
       "_model_module": "@jupyter-widgets/base",
       "_model_module_version": "2.0.0",
       "_model_name": "LayoutModel",
       "_view_count": null,
       "_view_module": "@jupyter-widgets/base",
       "_view_module_version": "2.0.0",
       "_view_name": "LayoutView",
       "align_content": null,
       "align_items": null,
       "align_self": null,
       "border_bottom": null,
       "border_left": null,
       "border_right": null,
       "border_top": null,
       "bottom": null,
       "display": null,
       "flex": null,
       "flex_flow": null,
       "grid_area": null,
       "grid_auto_columns": null,
       "grid_auto_flow": null,
       "grid_auto_rows": null,
       "grid_column": null,
       "grid_gap": null,
       "grid_row": null,
       "grid_template_areas": null,
       "grid_template_columns": null,
       "grid_template_rows": null,
       "height": null,
       "justify_content": null,
       "justify_items": null,
       "left": null,
       "margin": null,
       "max_height": null,
       "max_width": null,
       "min_height": null,
       "min_width": null,
       "object_fit": null,
       "object_position": null,
       "order": null,
       "overflow": null,
       "padding": null,
       "right": null,
       "top": null,
       "visibility": null,
       "width": null
      }
     },
     "99d83d0c380b4caba48a2900fb460ff8": {
      "model_module": "@jupyter-widgets/output",
      "model_module_version": "1.0.0",
      "model_name": "OutputModel",
      "state": {
       "_dom_classes": [],
       "_model_module": "@jupyter-widgets/output",
       "_model_module_version": "1.0.0",
       "_model_name": "OutputModel",
       "_view_count": null,
       "_view_module": "@jupyter-widgets/output",
       "_view_module_version": "1.0.0",
       "_view_name": "OutputView",
       "layout": "IPY_MODEL_335b3fc5e5f64363a9d61cdfda323b1c",
       "msg_id": "",
       "outputs": [
        {
         "data": {
          "text/html": "<pre style=\"white-space:pre;overflow-x:auto;line-height:normal;font-family:Menlo,'DejaVu Sans Mono',consolas,'Courier New',monospace\">Downloading data for 4 tasks. <span style=\"color: #729c1f; text-decoration-color: #729c1f\">━━━━━━━━━━━━━━━━━━━━━━━━━━━━━━━━━━━━━</span> <span style=\"color: #800080; text-decoration-color: #800080\">100%</span> <span style=\"color: #008080; text-decoration-color: #008080\">0:00:00</span>\n</pre>\n",
          "text/plain": "Downloading data for 4 tasks. \u001b[38;2;114;156;31m━━━━━━━━━━━━━━━━━━━━━━━━━━━━━━━━━━━━━\u001b[0m \u001b[35m100%\u001b[0m \u001b[36m0:00:00\u001b[0m\n"
         },
         "metadata": {},
         "output_type": "display_data"
        }
       ],
       "tabbable": null,
       "tooltip": null
      }
     },
     "9f76e620b0824af1b650dcfbeb19029f": {
      "model_module": "@jupyter-widgets/output",
      "model_module_version": "1.0.0",
      "model_name": "OutputModel",
      "state": {
       "_dom_classes": [],
       "_model_module": "@jupyter-widgets/output",
       "_model_module_version": "1.0.0",
       "_model_name": "OutputModel",
       "_view_count": null,
       "_view_module": "@jupyter-widgets/output",
       "_view_module_version": "1.0.0",
       "_view_name": "OutputView",
       "layout": "IPY_MODEL_ac3dc57636184cf7ab8da70899118b36",
       "msg_id": "",
       "outputs": [
        {
         "data": {
          "text/html": "<pre style=\"white-space:pre;overflow-x:auto;line-height:normal;font-family:Menlo,'DejaVu Sans Mono',consolas,'Courier New',monospace\">mu_c=0.00: status = success <span style=\"color: #729c1f; text-decoration-color: #729c1f\">━━━━━━━━━━━━━━━━━━━━━━━━━━━━━━━━━━━━━━━</span> <span style=\"color: #800080; text-decoration-color: #800080\">100%</span> <span style=\"color: #008080; text-decoration-color: #008080\">0:00:00</span>\nmu_c=0.10: status = success <span style=\"color: #729c1f; text-decoration-color: #729c1f\">━━━━━━━━━━━━━━━━━━━━━━━━━━━━━━━━━━━━━━━</span> <span style=\"color: #800080; text-decoration-color: #800080\">100%</span> <span style=\"color: #008080; text-decoration-color: #008080\">0:00:00</span>\nmu_c=0.20: status = success <span style=\"color: #729c1f; text-decoration-color: #729c1f\">━━━━━━━━━━━━━━━━━━━━━━━━━━━━━━━━━━━━━━━</span> <span style=\"color: #800080; text-decoration-color: #800080\">100%</span> <span style=\"color: #008080; text-decoration-color: #008080\">0:00:00</span>\nmu_c=0.50: status = success <span style=\"color: #729c1f; text-decoration-color: #729c1f\">━━━━━━━━━━━━━━━━━━━━━━━━━━━━━━━━━━━━━━━</span> <span style=\"color: #800080; text-decoration-color: #800080\">100%</span> <span style=\"color: #008080; text-decoration-color: #008080\">0:00:00</span>\n</pre>\n",
          "text/plain": "mu_c=0.00: status = success \u001b[38;2;114;156;31m━━━━━━━━━━━━━━━━━━━━━━━━━━━━━━━━━━━━━━━\u001b[0m \u001b[35m100%\u001b[0m \u001b[36m0:00:00\u001b[0m\nmu_c=0.10: status = success \u001b[38;2;114;156;31m━━━━━━━━━━━━━━━━━━━━━━━━━━━━━━━━━━━━━━━\u001b[0m \u001b[35m100%\u001b[0m \u001b[36m0:00:00\u001b[0m\nmu_c=0.20: status = success \u001b[38;2;114;156;31m━━━━━━━━━━━━━━━━━━━━━━━━━━━━━━━━━━━━━━━\u001b[0m \u001b[35m100%\u001b[0m \u001b[36m0:00:00\u001b[0m\nmu_c=0.50: status = success \u001b[38;2;114;156;31m━━━━━━━━━━━━━━━━━━━━━━━━━━━━━━━━━━━━━━━\u001b[0m \u001b[35m100%\u001b[0m \u001b[36m0:00:00\u001b[0m\n"
         },
         "metadata": {},
         "output_type": "display_data"
        }
       ],
       "tabbable": null,
       "tooltip": null
      }
     },
     "ac3dc57636184cf7ab8da70899118b36": {
      "model_module": "@jupyter-widgets/base",
      "model_module_version": "2.0.0",
      "model_name": "LayoutModel",
      "state": {
       "_model_module": "@jupyter-widgets/base",
       "_model_module_version": "2.0.0",
       "_model_name": "LayoutModel",
       "_view_count": null,
       "_view_module": "@jupyter-widgets/base",
       "_view_module_version": "2.0.0",
       "_view_name": "LayoutView",
       "align_content": null,
       "align_items": null,
       "align_self": null,
       "border_bottom": null,
       "border_left": null,
       "border_right": null,
       "border_top": null,
       "bottom": null,
       "display": null,
       "flex": null,
       "flex_flow": null,
       "grid_area": null,
       "grid_auto_columns": null,
       "grid_auto_flow": null,
       "grid_auto_rows": null,
       "grid_column": null,
       "grid_gap": null,
       "grid_row": null,
       "grid_template_areas": null,
       "grid_template_columns": null,
       "grid_template_rows": null,
       "height": null,
       "justify_content": null,
       "justify_items": null,
       "left": null,
       "margin": null,
       "max_height": null,
       "max_width": null,
       "min_height": null,
       "min_width": null,
       "object_fit": null,
       "object_position": null,
       "order": null,
       "overflow": null,
       "padding": null,
       "right": null,
       "top": null,
       "visibility": null,
       "width": null
      }
     },
     "bbcbc74144254053a6ca56270c1ad220": {
      "model_module": "@jupyter-widgets/base",
      "model_module_version": "2.0.0",
      "model_name": "LayoutModel",
      "state": {
       "_model_module": "@jupyter-widgets/base",
       "_model_module_version": "2.0.0",
       "_model_name": "LayoutModel",
       "_view_count": null,
       "_view_module": "@jupyter-widgets/base",
       "_view_module_version": "2.0.0",
       "_view_name": "LayoutView",
       "align_content": null,
       "align_items": null,
       "align_self": null,
       "border_bottom": null,
       "border_left": null,
       "border_right": null,
       "border_top": null,
       "bottom": null,
       "display": null,
       "flex": null,
       "flex_flow": null,
       "grid_area": null,
       "grid_auto_columns": null,
       "grid_auto_flow": null,
       "grid_auto_rows": null,
       "grid_column": null,
       "grid_gap": null,
       "grid_row": null,
       "grid_template_areas": null,
       "grid_template_columns": null,
       "grid_template_rows": null,
       "height": null,
       "justify_content": null,
       "justify_items": null,
       "left": null,
       "margin": null,
       "max_height": null,
       "max_width": null,
       "min_height": null,
       "min_width": null,
       "object_fit": null,
       "object_position": null,
       "order": null,
       "overflow": null,
       "padding": null,
       "right": null,
       "top": null,
       "visibility": null,
       "width": null
      }
     },
     "d64cb2ad6625490181373c3eab716cc8": {
      "model_module": "@jupyter-widgets/output",
      "model_module_version": "1.0.0",
      "model_name": "OutputModel",
      "state": {
       "_dom_classes": [],
       "_model_module": "@jupyter-widgets/output",
       "_model_module_version": "1.0.0",
       "_model_name": "OutputModel",
       "_view_count": null,
       "_view_module": "@jupyter-widgets/output",
       "_view_module_version": "1.0.0",
       "_view_name": "OutputView",
       "layout": "IPY_MODEL_75fbe539cc024351986f1b3e1eae57e1",
       "msg_id": "",
       "outputs": [
        {
         "data": {
          "text/html": "<pre style=\"white-space:pre;overflow-x:auto;line-height:normal;font-family:Menlo,'DejaVu Sans Mono',consolas,'Courier New',monospace\">mu_c=0.00: status = success <span style=\"color: #729c1f; text-decoration-color: #729c1f\">━━━━━━━━━━━━━━━━━━━━━━━━━━━━━━━━━━━━━━━</span> <span style=\"color: #800080; text-decoration-color: #800080\">100%</span> <span style=\"color: #008080; text-decoration-color: #008080\">0:00:00</span>\nmu_c=0.10: status = success <span style=\"color: #729c1f; text-decoration-color: #729c1f\">━━━━━━━━━━━━━━━━━━━━━━━━━━━━━━━━━━━━━━━</span> <span style=\"color: #800080; text-decoration-color: #800080\">100%</span> <span style=\"color: #008080; text-decoration-color: #008080\">0:00:00</span>\nmu_c=0.20: status = success <span style=\"color: #729c1f; text-decoration-color: #729c1f\">━━━━━━━━━━━━━━━━━━━━━━━━━━━━━━━━━━━━━━━</span> <span style=\"color: #800080; text-decoration-color: #800080\">100%</span> <span style=\"color: #008080; text-decoration-color: #008080\">0:00:00</span>\nmu_c=0.50: status = success <span style=\"color: #729c1f; text-decoration-color: #729c1f\">━━━━━━━━━━━━━━━━━━━━━━━━━━━━━━━━━━━━━━━</span> <span style=\"color: #800080; text-decoration-color: #800080\">100%</span> <span style=\"color: #008080; text-decoration-color: #008080\">0:00:00</span>\n</pre>\n",
          "text/plain": "mu_c=0.00: status = success \u001b[38;2;114;156;31m━━━━━━━━━━━━━━━━━━━━━━━━━━━━━━━━━━━━━━━\u001b[0m \u001b[35m100%\u001b[0m \u001b[36m0:00:00\u001b[0m\nmu_c=0.10: status = success \u001b[38;2;114;156;31m━━━━━━━━━━━━━━━━━━━━━━━━━━━━━━━━━━━━━━━\u001b[0m \u001b[35m100%\u001b[0m \u001b[36m0:00:00\u001b[0m\nmu_c=0.20: status = success \u001b[38;2;114;156;31m━━━━━━━━━━━━━━━━━━━━━━━━━━━━━━━━━━━━━━━\u001b[0m \u001b[35m100%\u001b[0m \u001b[36m0:00:00\u001b[0m\nmu_c=0.50: status = success \u001b[38;2;114;156;31m━━━━━━━━━━━━━━━━━━━━━━━━━━━━━━━━━━━━━━━\u001b[0m \u001b[35m100%\u001b[0m \u001b[36m0:00:00\u001b[0m\n"
         },
         "metadata": {},
         "output_type": "display_data"
        }
       ],
       "tabbable": null,
       "tooltip": null
      }
     },
     "f0176cdcc12645259331b7778a0538da": {
      "model_module": "@jupyter-widgets/base",
      "model_module_version": "2.0.0",
      "model_name": "LayoutModel",
      "state": {
       "_model_module": "@jupyter-widgets/base",
       "_model_module_version": "2.0.0",
       "_model_name": "LayoutModel",
       "_view_count": null,
       "_view_module": "@jupyter-widgets/base",
       "_view_module_version": "2.0.0",
       "_view_name": "LayoutView",
       "align_content": null,
       "align_items": null,
       "align_self": null,
       "border_bottom": null,
       "border_left": null,
       "border_right": null,
       "border_top": null,
       "bottom": null,
       "display": null,
       "flex": null,
       "flex_flow": null,
       "grid_area": null,
       "grid_auto_columns": null,
       "grid_auto_flow": null,
       "grid_auto_rows": null,
       "grid_column": null,
       "grid_gap": null,
       "grid_row": null,
       "grid_template_areas": null,
       "grid_template_columns": null,
       "grid_template_rows": null,
       "height": null,
       "justify_content": null,
       "justify_items": null,
       "left": null,
       "margin": null,
       "max_height": null,
       "max_width": null,
       "min_height": null,
       "min_width": null,
       "object_fit": null,
       "object_position": null,
       "order": null,
       "overflow": null,
       "padding": null,
       "right": null,
       "top": null,
       "visibility": null,
       "width": null
      }
     },
     "fccf0a11560c434084cc164c6ee29363": {
      "model_module": "@jupyter-widgets/output",
      "model_module_version": "1.0.0",
      "model_name": "OutputModel",
      "state": {
       "_dom_classes": [],
       "_model_module": "@jupyter-widgets/output",
       "_model_module_version": "1.0.0",
       "_model_name": "OutputModel",
       "_view_count": null,
       "_view_module": "@jupyter-widgets/output",
       "_view_module_version": "1.0.0",
       "_view_name": "OutputView",
       "layout": "IPY_MODEL_1376ed7e28dd446da48a5cd37871fc17",
       "msg_id": "",
       "outputs": [
        {
         "data": {
          "text/html": "<pre style=\"white-space:pre;overflow-x:auto;line-height:normal;font-family:Menlo,'DejaVu Sans Mono',consolas,'Courier New',monospace\">Downloading data for 4 tasks. <span style=\"color: #729c1f; text-decoration-color: #729c1f\">━━━━━━━━━━━━━━━━━━━━━━━━━━━━━━━━━━━━━</span> <span style=\"color: #800080; text-decoration-color: #800080\">100%</span> <span style=\"color: #008080; text-decoration-color: #008080\">0:00:00</span>\n</pre>\n",
          "text/plain": "Downloading data for 4 tasks. \u001b[38;2;114;156;31m━━━━━━━━━━━━━━━━━━━━━━━━━━━━━━━━━━━━━\u001b[0m \u001b[35m100%\u001b[0m \u001b[36m0:00:00\u001b[0m\n"
         },
         "metadata": {},
         "output_type": "display_data"
        }
       ],
       "tabbable": null,
       "tooltip": null
      }
     }
    },
    "version_major": 2,
    "version_minor": 0
   }
  }
 },
 "nbformat": 4,
 "nbformat_minor": 5
}
