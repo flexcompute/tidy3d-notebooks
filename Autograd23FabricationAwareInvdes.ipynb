{
 "cells": [
  {
   "cell_type": "markdown",
   "id": "e2c5f771",
   "metadata": {},
   "source": [
    "# Fabrication-Aware Inverse Design (FAID) of a Wavelength Division Multiplexer\n",
    "\n",
    "This notebook extends the [Adjoint Optimization of a Wavelength Division Multiplexer](https://www.flexcompute.com/tidy3d/examples/notebooks/Autograd9WDM/) by incorporating fabrication awareness into the design process. Specifically, we integrate a differentiable computer vision model from [PreFab Photonics](https://www.prefabphotonics.com/) into the topology optimization loop to predict and optimize the manufacturability of photonic device designs. This approach, known as *fabrication-aware inverse design* (FAID), results in devices that are inherently more robust to fabrication variations.\n",
    "\n",
    "Unlike optical proximity correction (OPC), which adjusts designs to compensate for lithography-induced distortions after the design phase, FAID directly optimizes for manufacturable designs by using fabrication predictions within the design loop. While OPC can enhance design fidelity, it may not ensure manufacturability for complex features. FAID focuses on creating features that are inherently realizable by the fabrication process, leading to designs that are more practical to manufacture.\n",
    "\n",
    "For a deeper look at the FAID concept, refer to this [paper](https://arxiv.org/abs/2410.07353) by Lukas Chrostowski's group at the University of British Columbia. Additional information on PreFab's virtual nanofabrication models can be found in the [PreFab documentation](https://docs.prefabphotonics.com/)."
   ]
  },
  {
   "cell_type": "code",
   "execution_count": 1,
   "id": "c76c454e-e2c8-40ab-a4ed-e41a5e3e0d65",
   "metadata": {},
   "outputs": [],
   "source": [
    "import autograd as ag\n",
    "import autograd.numpy as anp\n",
    "import matplotlib.pylab as plt\n",
    "import numpy as np\n",
    "import tidy3d as td\n",
    "import tidy3d.web as web\n",
    "\n",
    "np.random.seed(2)"
   ]
  },
  {
   "cell_type": "markdown",
   "id": "0b809e8d",
   "metadata": {},
   "source": [
    "## PreFab Setup"
   ]
  },
  {
   "cell_type": "markdown",
   "id": "6fc2775c",
   "metadata": {},
   "source": [
    "First, we will need to install the latest PreFab Python package."
   ]
  },
  {
   "cell_type": "code",
   "execution_count": 2,
   "id": "10218c45",
   "metadata": {},
   "outputs": [
    {
     "name": "stdout",
     "output_type": "stream",
     "text": [
      "Collecting prefab\n",
      "  Downloading prefab-1.1.5-py3-none-any.whl.metadata (34 kB)\n",
      "Collecting gdstk>=0.9.55 (from prefab)\n",
      "  Downloading gdstk-0.9.58-cp311-cp311-macosx_10_9_universal2.whl.metadata (8.7 kB)\n",
      "Requirement already satisfied: matplotlib in /Library/Frameworks/Python.framework/Versions/3.11/lib/python3.11/site-packages (from prefab) (3.8.4)\n",
      "Requirement already satisfied: numpy in /Library/Frameworks/Python.framework/Versions/3.11/lib/python3.11/site-packages (from prefab) (1.26.4)\n",
      "Requirement already satisfied: opencv-python-headless in /Library/Frameworks/Python.framework/Versions/3.11/lib/python3.11/site-packages (from prefab) (4.10.0.84)\n",
      "Requirement already satisfied: pillow in /Library/Frameworks/Python.framework/Versions/3.11/lib/python3.11/site-packages (from prefab) (10.3.0)\n",
      "Requirement already satisfied: pydantic in /Library/Frameworks/Python.framework/Versions/3.11/lib/python3.11/site-packages (from prefab) (2.7.1)\n",
      "Requirement already satisfied: requests in /Library/Frameworks/Python.framework/Versions/3.11/lib/python3.11/site-packages (from prefab) (2.31.0)\n",
      "Requirement already satisfied: scikit-image in /Library/Frameworks/Python.framework/Versions/3.11/lib/python3.11/site-packages (from prefab) (0.24.0)\n",
      "Requirement already satisfied: scipy in /Library/Frameworks/Python.framework/Versions/3.11/lib/python3.11/site-packages (from prefab) (1.13.0)\n",
      "Requirement already satisfied: toml in /Library/Frameworks/Python.framework/Versions/3.11/lib/python3.11/site-packages (from prefab) (0.10.2)\n",
      "Requirement already satisfied: tqdm in /Library/Frameworks/Python.framework/Versions/3.11/lib/python3.11/site-packages (from prefab) (4.66.2)\n",
      "Requirement already satisfied: contourpy>=1.0.1 in /Library/Frameworks/Python.framework/Versions/3.11/lib/python3.11/site-packages (from matplotlib->prefab) (1.2.1)\n",
      "Requirement already satisfied: cycler>=0.10 in /Library/Frameworks/Python.framework/Versions/3.11/lib/python3.11/site-packages (from matplotlib->prefab) (0.12.1)\n",
      "Requirement already satisfied: fonttools>=4.22.0 in /Library/Frameworks/Python.framework/Versions/3.11/lib/python3.11/site-packages (from matplotlib->prefab) (4.51.0)\n",
      "Requirement already satisfied: kiwisolver>=1.3.1 in /Library/Frameworks/Python.framework/Versions/3.11/lib/python3.11/site-packages (from matplotlib->prefab) (1.4.5)\n",
      "Requirement already satisfied: packaging>=20.0 in /Library/Frameworks/Python.framework/Versions/3.11/lib/python3.11/site-packages (from matplotlib->prefab) (24.0)\n",
      "Requirement already satisfied: pyparsing>=2.3.1 in /Library/Frameworks/Python.framework/Versions/3.11/lib/python3.11/site-packages (from matplotlib->prefab) (3.1.2)\n",
      "Requirement already satisfied: python-dateutil>=2.7 in /Library/Frameworks/Python.framework/Versions/3.11/lib/python3.11/site-packages (from matplotlib->prefab) (2.9.0.post0)\n",
      "Requirement already satisfied: annotated-types>=0.4.0 in /Library/Frameworks/Python.framework/Versions/3.11/lib/python3.11/site-packages (from pydantic->prefab) (0.6.0)\n",
      "Requirement already satisfied: pydantic-core==2.18.2 in /Library/Frameworks/Python.framework/Versions/3.11/lib/python3.11/site-packages (from pydantic->prefab) (2.18.2)\n",
      "Requirement already satisfied: typing-extensions>=4.6.1 in /Library/Frameworks/Python.framework/Versions/3.11/lib/python3.11/site-packages (from pydantic->prefab) (4.11.0)\n",
      "Requirement already satisfied: charset-normalizer<4,>=2 in /Library/Frameworks/Python.framework/Versions/3.11/lib/python3.11/site-packages (from requests->prefab) (3.3.2)\n",
      "Requirement already satisfied: idna<4,>=2.5 in /Library/Frameworks/Python.framework/Versions/3.11/lib/python3.11/site-packages (from requests->prefab) (3.6)\n",
      "Requirement already satisfied: urllib3<3,>=1.21.1 in /Library/Frameworks/Python.framework/Versions/3.11/lib/python3.11/site-packages (from requests->prefab) (1.26.18)\n",
      "Requirement already satisfied: certifi>=2017.4.17 in /Library/Frameworks/Python.framework/Versions/3.11/lib/python3.11/site-packages (from requests->prefab) (2024.2.2)\n",
      "Requirement already satisfied: networkx>=2.8 in /Library/Frameworks/Python.framework/Versions/3.11/lib/python3.11/site-packages (from scikit-image->prefab) (2.8.8)\n",
      "Requirement already satisfied: imageio>=2.33 in /Library/Frameworks/Python.framework/Versions/3.11/lib/python3.11/site-packages (from scikit-image->prefab) (2.34.2)\n",
      "Requirement already satisfied: tifffile>=2022.8.12 in /Library/Frameworks/Python.framework/Versions/3.11/lib/python3.11/site-packages (from scikit-image->prefab) (2024.7.24)\n",
      "Requirement already satisfied: lazy-loader>=0.4 in /Library/Frameworks/Python.framework/Versions/3.11/lib/python3.11/site-packages (from scikit-image->prefab) (0.4)\n",
      "Requirement already satisfied: six>=1.5 in /Library/Frameworks/Python.framework/Versions/3.11/lib/python3.11/site-packages (from python-dateutil>=2.7->matplotlib->prefab) (1.16.0)\n",
      "Downloading prefab-1.1.5-py3-none-any.whl (48 kB)\n",
      "\u001b[2K   \u001b[38;2;114;156;31m━━━━━━━━━━━━━━━━━━━━━━━━━━━━━━━━━━━━━━━━\u001b[0m \u001b[32m48.8/48.8 kB\u001b[0m \u001b[31m2.5 MB/s\u001b[0m eta \u001b[36m0:00:00\u001b[0m\n",
      "\u001b[?25hDownloading gdstk-0.9.58-cp311-cp311-macosx_10_9_universal2.whl (920 kB)\n",
      "\u001b[2K   \u001b[38;2;114;156;31m━━━━━━━━━━━━━━━━━━━━━━━━━━━━━━━━━━━━━━━━\u001b[0m \u001b[32m921.0/921.0 kB\u001b[0m \u001b[31m24.6 MB/s\u001b[0m eta \u001b[36m0:00:00\u001b[0m\n",
      "\u001b[?25hInstalling collected packages: gdstk, prefab\n",
      "  Attempting uninstall: gdstk\n",
      "    Found existing installation: gdstk 0.9.50\n",
      "    Uninstalling gdstk-0.9.50:\n",
      "      Successfully uninstalled gdstk-0.9.50\n",
      "Successfully installed gdstk-0.9.58 prefab-1.1.5\n",
      "\n",
      "\u001b[1m[\u001b[0m\u001b[34;49mnotice\u001b[0m\u001b[1;39;49m]\u001b[0m\u001b[39;49m A new release of pip is available: \u001b[0m\u001b[31;49m24.0\u001b[0m\u001b[39;49m -> \u001b[0m\u001b[32;49m24.3.1\u001b[0m\n",
      "\u001b[1m[\u001b[0m\u001b[34;49mnotice\u001b[0m\u001b[1;39;49m]\u001b[0m\u001b[39;49m To update, run: \u001b[0m\u001b[32;49mpip3.11 install --upgrade pip\u001b[0m\n",
      "Note: you may need to restart the kernel to use updated packages.\n"
     ]
    }
   ],
   "source": [
    "%pip install --upgrade prefab"
   ]
  },
  {
   "cell_type": "markdown",
   "id": "5c280837",
   "metadata": {},
   "source": [
    "PreFab models operate on a cloud platform. To make prediction requests, you must first create an account. Run the following cell or visit the [PreFab website](https://www.prefabphotonics.com/signup) to create an account."
   ]
  },
  {
   "cell_type": "code",
   "execution_count": 3,
   "id": "8e12ebf5",
   "metadata": {},
   "outputs": [],
   "source": [
    "import webbrowser\n",
    "\n",
    "_ = webbrowser.open(\"https://www.prefabphotonics.com/signup\")"
   ]
  },
  {
   "cell_type": "markdown",
   "id": "b8342818",
   "metadata": {},
   "source": [
    "To associate your account, a token is required. This action will prompt a browser window to open, allowing you to log in and authenticate your token."
   ]
  },
  {
   "cell_type": "code",
   "execution_count": 4,
   "id": "aa638e5d",
   "metadata": {},
   "outputs": [
    {
     "name": "stdout",
     "output_type": "stream",
     "text": [
      "/usr/local/bin/python3: No module named prefab\n"
     ]
    }
   ],
   "source": [
    "!python3 -m prefab setup"
   ]
  },
  {
   "cell_type": "markdown",
   "id": "8e4b8bde",
   "metadata": {},
   "source": [
    "Lastly, to verify that PreFab is properly configured, we can make a test prediction request.\n",
    "\n",
    "From the test prediction results below, we can see how the predicted structure undergoes corner rounding and loss of small features, as expected from the fabrication process.\n"
   ]
  },
  {
   "cell_type": "code",
   "execution_count": 5,
   "id": "4e8bb4f8",
   "metadata": {},
   "outputs": [
    {
     "name": "stderr",
     "output_type": "stream",
     "text": [
      "Prediction: 100%|\u001b[32m██████████████████████████████\u001b[0m| 100/100 [00:04<00:00, \u001b[0m \u001b[0m\n"
     ]
    },
    {
     "data": {
      "text/plain": [
       "<Axes: xlabel='x (nm)', ylabel='y (nm)'>"
      ]
     },
     "execution_count": 5,
     "metadata": {},
     "output_type": "execute_result"
    },
    {
     "data": {
      "image/png": "[encoded data removed]",
      "text/plain": [
       "<Figure size 640x480 with 1 Axes>"
      ]
     },
     "metadata": {},
     "output_type": "display_data"
    },
    {
     "data": {
      "image/png": "[encoded data removed]",
      "text/plain": [
       "<Figure size 640x480 with 1 Axes>"
      ]
     },
     "metadata": {},
     "output_type": "display_data"
    }
   ],
   "source": [
    "import prefab as pf\n",
    "\n",
    "device = pf.shapes.target()\n",
    "prediction = device.predict(model=pf.models[\"ANT_NanoSOI_ANF1_d10\"], binarize=True)\n",
    "device.plot()\n",
    "prediction.plot()"
   ]
  },
  {
   "cell_type": "markdown",
   "id": "8e761bee",
   "metadata": {},
   "source": [
    "## Predicting Device Performance\n",
    "\n",
    "Using the prediction model, we can simulate the expected experimental performance of device designs such as the wavelength division multiplexer (WDM) in the [Adjoint Optimization of a Wavelength Division Multiplexer](https://www.flexcompute.com/tidy3d/examples/notebooks/Autograd9WDM/). The WDM was optimized with a relatively large feature size and an erosion/dilation penalty to enhance robustness against fabrication variations. This optimization allows it to tolerate predicted fabrication variations quite well; however, some performance degradation is still observed. As illustrated in the figure below, the fabrication-predicted transmission spectra gets distorted, insertion loss is increased, and further crosstalk is introduced. This performance degradation can be mitigated with FAID.\n",
    "\n",
    "# ![WDM performance without fabrication prediction](img/flux_ID_nopredict.png)\n",
    "# ![WDM performance with fabrication prediction](img/flux_ID_predict.png)\n",
    "\n"
   ]
  },
  {
   "cell_type": "markdown",
   "id": "e12a92cd-ca91-4981-8168-da4bcd7bb156",
   "metadata": {},
   "source": [
    "## Sim Setup\n",
    "\n",
    "Then we set up our basic simulation for the FAID optimization.\n",
    "\n",
    "We have an input waveguide connected to a square design region, which has `n=4` output waveguides. \n",
    "\n",
    "The square design region is a custom medium with a pixelated permittivity grid that we wish to optimize such that input light of different wavelengths get directed to different output ports.\n",
    "\n",
    "As this is a SOI device, we typically define the design region and waveguides as Silicon sitting on an SiO2 substrate. For this demo, we make a 2D simulation, but it can be easily made 3D by changing the `Lz` parameter, adding dimension to the structures, and adding a substrate."
   ]
  },
  {
   "cell_type": "code",
   "execution_count": 6,
   "id": "3d77b41c-91ac-49af-bc3d-cca78e938e3c",
   "metadata": {},
   "outputs": [],
   "source": [
    "# material information\n",
    "n_si = 3.49\n",
    "n_sio2 = 1.45  # not used in 2D\n",
    "n_air = 1\n",
    "\n",
    "# channel wavelengths\n",
    "wvls_design = np.array([1.270, 1.290, 1.310, 1.330])\n",
    "\n",
    "freqs_design = td.C_0 / wvls_design\n",
    "num_freqs_design = len(freqs_design)\n",
    "freq_max = np.max(freqs_design)\n",
    "freq_min = np.min(freqs_design)\n",
    "keys = [str(i) for i in range(num_freqs_design)]\n",
    "df_design = abs(np.mean(np.diff(freqs_design)))\n",
    "\n",
    "# forward source\n",
    "freq0 = np.mean(freqs_design)\n",
    "wvl0 = td.C_0 / freq0\n",
    "fwidth = freq_max - freq_min\n",
    "run_time = 120 / fwidth\n",
    "\n",
    "# we average the metrics over the channels with some frequency width\n",
    "channel_fwidth = df_design / 2.0\n",
    "channel_bounds = [\n",
    "    (f - channel_fwidth / 2, f + channel_fwidth / 2) for f in freqs_design\n",
    "]\n",
    "num_freqs_channel = 5\n",
    "channel_freqs = []\n",
    "for fmin, fmax in channel_bounds:\n",
    "    sub_freqs = np.linspace(fmin, fmax, num_freqs_channel)\n",
    "    channel_freqs += sub_freqs.tolist()\n",
    "\n",
    "# size of design region\n",
    "lx = 4.5\n",
    "ly = 4.5\n",
    "ly_single = ly / num_freqs_design\n",
    "lz = td.inf\n",
    "\n",
    "# size of waveguides\n",
    "wg_width = 0.3\n",
    "wg_length = 1.5\n",
    "wg_spacing = 0.8\n",
    "\n",
    "# spacing between design region and PML in y\n",
    "buffer = 1.5\n",
    "\n",
    "# size of simulation\n",
    "Lx = lx + wg_length * 2\n",
    "Ly = ly + buffer * 2\n",
    "Lz = 0.0\n",
    "\n",
    "# fabrication constraints (feature size and projection strength)\n",
    "radius = 0.100\n",
    "beta0 = 2\n",
    "\n",
    "# resolution information\n",
    "min_steps_per_wvl = 18\n",
    "dl_design_region = 0.015"
   ]
  },
  {
   "cell_type": "markdown",
   "id": "c8b4d96e-6af3-47ac-9bac-62ebbc05ce03",
   "metadata": {},
   "source": [
    "### Static Simulation\n",
    "\n",
    "First, we'll define the simulation without any design region using the \"static\" components that dont change over the optimization."
   ]
  },
  {
   "cell_type": "code",
   "execution_count": 7,
   "id": "207a7411-7aec-428c-9d80-2fa730874277",
   "metadata": {},
   "outputs": [],
   "source": [
    "# define the waveguide ports\n",
    "wg_in = td.Structure(\n",
    "    geometry=td.Box(\n",
    "        center=(-Lx / 2, 0, 0),\n",
    "        size=(wg_length * 2, wg_width, lz),\n",
    "    ),\n",
    "    medium=td.Medium(permittivity=n_si**2),\n",
    ")\n",
    "\n",
    "centers_y = np.linspace(\n",
    "    -ly / 2.0 + ly_single / 2.0, +ly / 2.0 - ly_single / 2.0, num_freqs_design\n",
    ")\n",
    "mode_size = (0, 0.9 * ly_single, td.inf)\n",
    "\n",
    "wgs_out = []\n",
    "for center_y in centers_y:\n",
    "    wg_out = td.Structure(\n",
    "        geometry=td.Box(\n",
    "            center=(+Lx / 2, center_y, 0),\n",
    "            size=(wg_length * 2, wg_width, lz),\n",
    "        ),\n",
    "        medium=td.Medium(permittivity=n_si**2),\n",
    "    )\n",
    "    wgs_out.append(wg_out)\n",
    "\n",
    "# measure the mode amplitudes at each of the output ports\n",
    "mnts_mode = []\n",
    "for key, center_y in zip(keys, centers_y):\n",
    "    mnt_mode = td.ModeMonitor(\n",
    "        center=(Lx / 2 - wg_length / 2, center_y, 0),\n",
    "        size=mode_size,\n",
    "        freqs=channel_freqs,\n",
    "        mode_spec=td.ModeSpec(),\n",
    "        name=f\"mode_{key}\",\n",
    "    )\n",
    "    mnts_mode.append(mnt_mode)\n",
    "\n",
    "# measures the flux at each of the output ports\n",
    "mnts_flux = []\n",
    "for key, center_y in zip(keys, centers_y):\n",
    "    mnt_flux = td.FluxMonitor(\n",
    "        center=(Lx / 2 - wg_length / 2, center_y, 0),\n",
    "        size=mode_size,\n",
    "        freqs=channel_freqs,\n",
    "        name=f\"flux_{key}\",\n",
    "    )\n",
    "    mnts_flux.append(mnt_flux)\n",
    "\n",
    "# and a field monitor that measures fields on the z=0 plane at the design freqs\n",
    "fld_mnt = td.FieldMonitor(\n",
    "    center=(0, 0, 0),\n",
    "    size=(td.inf, td.inf, 0),\n",
    "    freqs=freqs_design,\n",
    "    name=\"field\",\n",
    ")\n",
    "\n",
    "# inject the fundamental mode into the input waveguide\n",
    "mode_src = td.ModeSource(\n",
    "    center=(-Lx / 2 + wg_length / 2, 0, 0),\n",
    "    size=mode_size,\n",
    "    source_time=td.GaussianPulse(\n",
    "        freq0=freq0,\n",
    "        fwidth=fwidth,\n",
    "    ),\n",
    "    direction=\"+\",\n",
    "    mode_index=0,\n",
    ")\n",
    "\n",
    "sim_static = td.Simulation(\n",
    "    size=(Lx, Ly, Lz),\n",
    "    grid_spec=td.GridSpec.auto(\n",
    "        min_steps_per_wvl=min_steps_per_wvl,\n",
    "        wavelength=np.min(wvls_design),\n",
    "    ),\n",
    "    structures=[wg_in] + wgs_out,\n",
    "    sources=[mode_src],\n",
    "    monitors=mnts_mode + mnts_flux + [fld_mnt],\n",
    "    boundary_spec=td.BoundarySpec.pml(x=True, y=True, z=True if Lz else False),\n",
    "    run_time=run_time,\n",
    ")"
   ]
  },
  {
   "cell_type": "code",
   "execution_count": 8,
   "id": "4400153f-b2b2-4ec7-97ea-34e82b5ddd1d",
   "metadata": {},
   "outputs": [
    {
     "data": {
      "image/png": "[encoded data removed]",
      "text/plain": [
       "<Figure size 640x480 with 2 Axes>"
      ]
     },
     "metadata": {},
     "output_type": "display_data"
    }
   ],
   "source": [
    "ax = sim_static.plot_eps(z=0.01)\n",
    "ax.set_aspect(\"equal\")"
   ]
  },
  {
   "cell_type": "markdown",
   "id": "27386dd2-e686-4fd0-8210-20bac15dc422",
   "metadata": {},
   "source": [
    "### Solving modes\n",
    "\n",
    "Next, we want to ensure that we are injecting and measuring the right waveguide modes at each of the ports.\n",
    "\n",
    "We'll use `tidy3d`'s `ModeSolver` to analyze the modes of our input waveguide."
   ]
  },
  {
   "cell_type": "code",
   "execution_count": 9,
   "id": "439f9a65-ec0b-4fab-bdc1-d6831108153e",
   "metadata": {},
   "outputs": [],
   "source": [
    "from tidy3d.plugins.mode import ModeSolver\n",
    "from tidy3d.plugins.mode.web import run as run_mode_solver\n",
    "\n",
    "# we'll ask for 4 modes just to inspect\n",
    "num_modes = 4\n",
    "\n",
    "# let's define how large the mode planes are and how far they are from the PML relative to the design region\n",
    "mode_size = (0, ly_single, td.inf)\n",
    "\n",
    "# make a plane corresponding to where we wish to measure the input mode\n",
    "plane_in = td.Box(\n",
    "    center=(-Lx / 2 + wg_length / 2.0, 0, 0),\n",
    "    size=mode_size,\n",
    ")\n",
    "\n",
    "mode_solver = ModeSolver(\n",
    "    simulation=sim_static,\n",
    "    plane=plane_in,\n",
    "    freqs=freqs_design,\n",
    "    mode_spec=td.ModeSpec(num_modes=num_modes),\n",
    ")"
   ]
  },
  {
   "cell_type": "markdown",
   "id": "10bd2470-6bf4-4f46-9912-191ad57ca3ab",
   "metadata": {},
   "source": [
    "Next we run the mode solver on the servers."
   ]
  },
  {
   "cell_type": "code",
   "execution_count": null,
   "id": "682799a3-1e90-4b17-a0aa-c416a4171f9f",
   "metadata": {},
   "outputs": [
    {
     "data": {
      "text/html": [
       "<pre style=\"white-space:pre;overflow-x:auto;line-height:normal;font-family:Menlo,'DejaVu Sans Mono',consolas,'Courier New',monospace\"><span style=\"color: #7fbfbf; text-decoration-color: #7fbfbf\">10:44:30 EST </span>Mode solver created with                                           \n",
       "<span style=\"color: #7fbfbf; text-decoration-color: #7fbfbf\">             </span><span style=\"color: #808000; text-decoration-color: #808000\">task_id</span>=<span style=\"color: #008000; text-decoration-color: #008000\">'fdve-be935b1a-2455-4abb-8028-a29789492be1'</span>,               \n",
       "<span style=\"color: #7fbfbf; text-decoration-color: #7fbfbf\">             </span><span style=\"color: #808000; text-decoration-color: #808000\">solver_id</span>=<span style=\"color: #008000; text-decoration-color: #008000\">'mo-e34389bd-0e8e-4503-b54d-a1a91ca50e90'</span>.               \n",
       "</pre>\n"
      ],
      "text/plain": [
       "\u001b[2;36m10:44:30 EST\u001b[0m\u001b[2;36m \u001b[0mMode solver created with                                           \n",
       "\u001b[2;36m             \u001b[0m\u001b[33mtask_id\u001b[0m=\u001b[32m'fdve-be935b1a-2455-4abb-8028-a29789492be1'\u001b[0m,               \n",
       "\u001b[2;36m             \u001b[0m\u001b[33msolver_id\u001b[0m=\u001b[32m'mo-e34389bd-0e8e-4503-b54d-a1a91ca50e90'\u001b[0m.               \n"
      ]
     },
     "metadata": {},
     "output_type": "display_data"
    },
    {
     "data": {
      "application/vnd.jupyter.widget-view+json": {
       "model_id": "7fd8ab1e961e4dffbb4f36e237c0b1f3",
       "version_major": 2,
       "version_minor": 0
      },
      "text/plain": [
       "Output()"
      ]
     },
     "metadata": {},
     "output_type": "display_data"
    },
    {
     "data": {
      "text/html": [
       "<pre style=\"white-space:pre;overflow-x:auto;line-height:normal;font-family:Menlo,'DejaVu Sans Mono',consolas,'Courier New',monospace\"></pre>\n"
      ],
      "text/plain": []
     },
     "metadata": {},
     "output_type": "display_data"
    },
    {
     "data": {
      "text/html": [
       "<pre style=\"white-space:pre;overflow-x:auto;line-height:normal;font-family:Menlo,'DejaVu Sans Mono',consolas,'Courier New',monospace\">\n",
       "</pre>\n"
      ],
      "text/plain": [
       "\n"
      ]
     },
     "metadata": {},
     "output_type": "display_data"
    },
    {
     "data": {
      "application/vnd.jupyter.widget-view+json": {
       "model_id": "28b224a871774d1ba7eb58c4a24d200a",
       "version_major": 2,
       "version_minor": 0
      },
      "text/plain": [
       "Output()"
      ]
     },
     "metadata": {},
     "output_type": "display_data"
    },
    {
     "data": {
      "text/html": [
       "<pre style=\"white-space:pre;overflow-x:auto;line-height:normal;font-family:Menlo,'DejaVu Sans Mono',consolas,'Courier New',monospace\"></pre>\n"
      ],
      "text/plain": []
     },
     "metadata": {},
     "output_type": "display_data"
    },
    {
     "data": {
      "text/html": [
       "<pre style=\"white-space:pre;overflow-x:auto;line-height:normal;font-family:Menlo,'DejaVu Sans Mono',consolas,'Courier New',monospace\">\n",
       "</pre>\n"
      ],
      "text/plain": [
       "\n"
      ]
     },
     "metadata": {},
     "output_type": "display_data"
    },
    {
     "data": {
      "text/html": [
       "<pre style=\"white-space:pre;overflow-x:auto;line-height:normal;font-family:Menlo,'DejaVu Sans Mono',consolas,'Courier New',monospace\"><span style=\"color: #7fbfbf; text-decoration-color: #7fbfbf\">10:44:33 EST </span>Mode solver status: queued                                         \n",
       "</pre>\n"
      ],
      "text/plain": [
       "\u001b[2;36m10:44:33 EST\u001b[0m\u001b[2;36m \u001b[0mMode solver status: queued                                         \n"
      ]
     },
     "metadata": {},
     "output_type": "display_data"
    },
    {
     "data": {
      "text/html": [
       "<pre style=\"white-space:pre;overflow-x:auto;line-height:normal;font-family:Menlo,'DejaVu Sans Mono',consolas,'Courier New',monospace\"><span style=\"color: #7fbfbf; text-decoration-color: #7fbfbf\">10:45:19 EST </span>Mode solver status: running                                        \n",
       "</pre>\n"
      ],
      "text/plain": [
       "\u001b[2;36m10:45:19 EST\u001b[0m\u001b[2;36m \u001b[0mMode solver status: running                                        \n"
      ]
     },
     "metadata": {},
     "output_type": "display_data"
    }
   ],
   "source": [
    "mode_data = run_mode_solver(\n",
    "    mode_solver, reduce_simulation=True, results_file=\"data/mode_solver.hdf5\"\n",
    ")"
   ]
  },
  {
   "cell_type": "markdown",
   "id": "d0403fdb-7cc3-44c0-97ed-75183da44c93",
   "metadata": {},
   "source": [
    "And visualize the results."
   ]
  },
  {
   "cell_type": "code",
   "execution_count": null,
   "id": "b84807cb-0c7e-497a-88de-6ebc753f2636",
   "metadata": {},
   "outputs": [],
   "source": [
    "fig, axs = plt.subplots(num_modes, 3, figsize=(12, 12), tight_layout=True)\n",
    "for mode_index in range(num_modes):\n",
    "    vmax = 1.1 * max(\n",
    "        abs(mode_data.field_components[n].sel(mode_index=mode_index)).max()\n",
    "        for n in (\"Ex\", \"Ey\", \"Ez\")\n",
    "    )\n",
    "    for field_name, ax in zip((\"Ex\", \"Ey\", \"Ez\"), axs[mode_index]):\n",
    "        for freq in freqs_design:\n",
    "            key = f\"{td.C_0 / freq * 1000 :.0f} nm\"\n",
    "            field = mode_data.field_components[field_name].sel(\n",
    "                mode_index=mode_index, f=freq\n",
    "            )\n",
    "            field.real.plot(label=f\"Real ({key})\", ax=ax)\n",
    "            field.imag.plot(ls=\"--\", label=f\"Imag ({key})\", ax=ax)\n",
    "        ax.set_title(f\"index={mode_index}, {field_name}\")\n",
    "        ax.set_ylim(-vmax, vmax)\n",
    "        ax.legend()\n",
    "\n",
    "print(\"Effective index of computed modes: \", np.array(mode_data.n_eff))"
   ]
  },
  {
   "cell_type": "markdown",
   "id": "43d92a79-c290-48c9-8354-55c998e5b870",
   "metadata": {},
   "source": [
    "We identify `mode_index=0` as the first order mode that is out of plane of the device. Let's choose to optimize our device with respect to this as the mode of interest for both the input and output.\n",
    "\n",
    "We'll update or static simulation with the new mode index and mode specificiation, in case these are different from the original ones."
   ]
  },
  {
   "cell_type": "code",
   "execution_count": null,
   "id": "8ebd9a87-8928-48a6-bbe1-56d774a49c89",
   "metadata": {},
   "outputs": [],
   "source": [
    "mode_index = 0\n",
    "mode_spec = td.ModeSpec(num_modes=mode_index + 1)\n",
    "\n",
    "sim_static = sim_static.updated_copy(mode_index=mode_index, path=\"sources/0\")\n",
    "sim_static = sim_static.updated_copy(mode_spec=mode_spec, path=\"sources/0\")\n",
    "for i in range(num_freqs_design):\n",
    "    sim_static = sim_static.updated_copy(mode_spec=mode_spec, path=f\"monitors/{i}\")"
   ]
  },
  {
   "cell_type": "markdown",
   "id": "d120bf86-54c3-4af2-b3eb-33726288d008",
   "metadata": {},
   "source": [
    "### Define design region\n",
    "\n",
    "Next, we define the design region as a pixelated grid of permittivity values that get generated from our optimization parameters.\n",
    "\n",
    "We first define the overall geometry as a `td.Box` and also the number of pixels in x and y staticd on our design region resolution."
   ]
  },
  {
   "cell_type": "code",
   "execution_count": null,
   "id": "209f2e58-fd7d-42f7-bb6d-459f41511250",
   "metadata": {},
   "outputs": [],
   "source": [
    "nx = int(lx / dl_design_region)\n",
    "ny = int(ly / dl_design_region)\n",
    "\n",
    "design_region_geo = td.Box(size=(lx, ly, lz), center=(0, 0, 0))"
   ]
  },
  {
   "cell_type": "markdown",
   "id": "34e3a347",
   "metadata": {},
   "source": [
    "PreFab models function on a grid with a 1 nm resolution. To use the prediction function effectively, we adjust our simulation design region to match this resolution. We also add a buffer layer to the design region to account for the interface between it and the waveguides. Afterward, we will convert it back to the original size and resolution.\n",
    "\n",
    "While this process introduces discretization error, it can be minimized by using a higher simulation resolution—which is recommended for production designs.\n",
    "\n",
    "> **Note:** We'll use a model for the electron-beam lithography process from [Applied Nanotools Inc. (ANT)](https://www.appliednt.com/) for the prediction."
   ]
  },
  {
   "cell_type": "code",
   "execution_count": null,
   "id": "5bd171d0",
   "metadata": {},
   "outputs": [],
   "source": [
    "FAB_MODEL = pf.models[\"ANT_NanoSOI_ANF1_d10\"]\n",
    "prediction_buffer = 0.16\n",
    "n_prediction_buffer = int(prediction_buffer / dl_design_region)\n",
    "\n",
    "\n",
    "def resize_array(array: np.ndarray, scale: float) -> np.ndarray:\n",
    "    H, W = array.shape\n",
    "    \"\"\"Array resizing using bilinear interpolation.\"\"\"\n",
    "    new_H = int(H * scale)\n",
    "    new_W = int(W * scale)\n",
    "\n",
    "    x = anp.linspace(0, W - 1, new_W)\n",
    "    y = anp.linspace(0, H - 1, new_H)\n",
    "    x_grid, y_grid = anp.meshgrid(x, y)\n",
    "\n",
    "    x0 = anp.floor(x_grid).astype(int)\n",
    "    x1 = x0 + 1\n",
    "    y0 = anp.floor(y_grid).astype(int)\n",
    "    y1 = y0 + 1\n",
    "\n",
    "    x0 = anp.clip(x0, 0, W - 1)\n",
    "    x1 = anp.clip(x1, 0, W - 1)\n",
    "    y0 = anp.clip(y0, 0, H - 1)\n",
    "    y1 = anp.clip(y1, 0, H - 1)\n",
    "\n",
    "    Ia = array[y0, x0]\n",
    "    Ib = array[y1, x0]\n",
    "    Ic = array[y0, x1]\n",
    "    Id = array[y1, x1]\n",
    "\n",
    "    wa = (x1 - x_grid) * (y1 - y_grid)\n",
    "    wb = (x1 - x_grid) * (y_grid - y0)\n",
    "    wc = (x_grid - x0) * (y1 - y_grid)\n",
    "    wd = (x_grid - x0) * (y_grid - y0)\n",
    "\n",
    "    resized_image = wa * Ia + wb * Ib + wc * Ic + wd * Id\n",
    "    return resized_image\n",
    "\n",
    "\n",
    "def add_prediction_buffer(params):\n",
    "    \"\"\"Add a buffer layer to the design region. This is useful for predicting the interface between the design region and the waveguides.\"\"\"\n",
    "    params = anp.pad(\n",
    "        params, pad_width=n_prediction_buffer, mode=\"constant\", constant_values=0\n",
    "    )\n",
    "    wg_mask = anp.zeros_like(params)\n",
    "    center_y_mask = wg_mask.shape[0] // 2\n",
    "\n",
    "    # add input waveguide to mask\n",
    "    wg_half_width = int((wg_width / 2) / dl_design_region)\n",
    "    wg_mask[\n",
    "        0:n_prediction_buffer,\n",
    "        center_y_mask - wg_half_width : center_y_mask + wg_half_width,\n",
    "    ] = 1\n",
    "\n",
    "    # add output waveguides to mask\n",
    "    for center_y in centers_y:\n",
    "        wg_center = int(center_y / dl_design_region)\n",
    "        wg_mask[\n",
    "            -n_prediction_buffer:,\n",
    "            center_y_mask + wg_center - wg_half_width : center_y_mask\n",
    "            + wg_center\n",
    "            + wg_half_width,\n",
    "        ] = 1\n",
    "\n",
    "    return params * (1 - wg_mask) + wg_mask\n",
    "\n",
    "\n",
    "def params_to_device_array(\n",
    "    params: np.ndarray, scale: float, pad_width: int = 100\n",
    ") -> np.ndarray:\n",
    "    \"\"\"Convert params to a device array at 1 nm resolution.\"\"\"\n",
    "    params = add_prediction_buffer(params)\n",
    "    device_array = resize_array(params, scale)\n",
    "    return device_array\n",
    "\n",
    "\n",
    "def device_array_to_params(\n",
    "    device_array: np.ndarray, scale: float, pad_width: int = 100\n",
    ") -> np.ndarray:\n",
    "    \"\"\"Convert device array to params at the original resolution.\"\"\"\n",
    "    params = resize_array(device_array, 1 / scale)\n",
    "    params = params[\n",
    "        n_prediction_buffer:-n_prediction_buffer,\n",
    "        n_prediction_buffer:-n_prediction_buffer,\n",
    "    ]\n",
    "    return params"
   ]
  },
  {
   "cell_type": "markdown",
   "id": "9b02b2fa-ce32-49ad-9844-1af1a4ff864d",
   "metadata": {},
   "source": [
    "Next we write a function to give us the pixelated array as a function of our parameters through our filtering and projection methods, which are used to make the resulting structures easier to fabricate. For more details, refer to our 4th lecture in the [inverse design 101 lecture series](https://www.flexcompute.com/tidy3d/learning-center/inverse-design/), which focuses on fabrication constraints.\n",
    "\n",
    "We also wrap this function in another one that generates the entire `td.Structure` corresponding to the design region, for convenience later.\n",
    "\n",
    "> **For FAID:** During each iteration, we predict the fabrication variation of the structure and incorporate the new geometry into the simulation. This approach allows us to optimize a \"virtual\" structure, which accounts for fabrication imperfections, rather than an idealized version. We introduce a `use_predict` flag here."
   ]
  },
  {
   "cell_type": "code",
   "execution_count": null,
   "id": "761964ee-79d7-486a-8bbb-03d2917ff844",
   "metadata": {},
   "outputs": [],
   "source": [
    "from tidy3d.plugins.autograd import make_filter_and_project, rescale\n",
    "\n",
    "filter_project = make_filter_and_project(radius, dl_design_region)\n",
    "\n",
    "\n",
    "def get_density(params: np.ndarray, beta: float) -> np.ndarray:\n",
    "    \"\"\"Get the density of material (0, 1) as a function of the parameters (0,1)\"\"\"\n",
    "    return filter_project(params, beta=beta)\n",
    "\n",
    "\n",
    "def make_eps(params: np.ndarray, beta: float, use_predict: bool = False) -> np.ndarray:\n",
    "    \"\"\"Generates permittivity values for the design region, optionally using a PreFab prediction model to account for manufacturing variations.\"\"\"\n",
    "    density = get_density(params, beta=beta)\n",
    "\n",
    "    # ********** START OF ADDED PREFAB CODE **********\n",
    "    if use_predict:\n",
    "        device_array = params_to_device_array(density, dl_design_region * 1000)\n",
    "        prediction_array = pf.predict.predict_array_with_grad(device_array, FAB_MODEL)\n",
    "        predicted_density = device_array_to_params(\n",
    "            prediction_array, dl_design_region * 1000\n",
    "        )\n",
    "        return rescale(predicted_density, 1, n_si**2)\n",
    "    # ********** END OF ADDED PREFAB CODE **********\n",
    "\n",
    "    else:\n",
    "        return rescale(density, 1, n_si**2)\n",
    "\n",
    "\n",
    "def make_custom_medium(\n",
    "    params: np.ndarray, beta: float, use_predict: bool = False\n",
    ") -> td.Structure:\n",
    "    \"\"\"Make td.Structure containing custom medium with the permittivity data as a function of parameters.\"\"\"\n",
    "    eps = make_eps(params, beta, use_predict).reshape((nx, ny, 1))\n",
    "    xs = anp.linspace(-lx / 2, lx / 2, nx)\n",
    "    ys = anp.linspace(-ly / 2, ly / 2, ny)\n",
    "    zs = [0]\n",
    "    coords = dict(x=xs, y=ys, z=zs)\n",
    "\n",
    "    eps_arr = td.ScalarFieldDataArray(data=eps, coords=coords)\n",
    "\n",
    "    medium = td.CustomMedium(permittivity=eps_arr)\n",
    "\n",
    "    return td.Structure(geometry=design_region_geo, medium=medium)"
   ]
  },
  {
   "cell_type": "markdown",
   "id": "d8dcf2f1-9bf8-49e6-9e1e-6221992c7210",
   "metadata": {},
   "source": [
    "### Construct Simulation\n",
    "\n",
    "With all of these functions and variables defined, we can write a single function to return our \"static\" `td.Simulation` as a function of our design parameters. This function first constructs the design region, a mesh override structure to control the resolution in this region, and then creates a copy of the original `td.Simulation` with all of the basic parameters."
   ]
  },
  {
   "cell_type": "code",
   "execution_count": null,
   "id": "1d67ccdc-758e-4648-aabc-4264b83086a1",
   "metadata": {},
   "outputs": [],
   "source": [
    "def get_sim(params, beta, include_extra_mnts: bool = True, use_predict: bool = False):\n",
    "    design_region = make_custom_medium(params, beta=beta, use_predict=use_predict)\n",
    "\n",
    "    design_override = td.MeshOverrideStructure(\n",
    "        geometry=design_region.geometry,\n",
    "        dl=[dl_design_region, dl_design_region, dl_design_region],\n",
    "    )\n",
    "    grid_spec = sim_static.grid_spec.updated_copy(\n",
    "        override_structures=list(sim_static.grid_spec.override_structures)\n",
    "        + [design_override]\n",
    "    )\n",
    "\n",
    "    update_dict = dict(\n",
    "        structures=list(sim_static.structures) + [design_region],\n",
    "        grid_spec=grid_spec,\n",
    "    )\n",
    "\n",
    "    # if include_extra_mnts is False, update sim to only include mode monitors, to save data.\n",
    "    if not include_extra_mnts:\n",
    "        update_dict[\"monitors\"] = mnts_mode\n",
    "\n",
    "    return sim_static.updated_copy(**update_dict)"
   ]
  },
  {
   "cell_type": "markdown",
   "id": "aaab90f1-970e-4fde-89d8-f08ae61f530f",
   "metadata": {},
   "source": [
    "Let's test out our function. We'll make an initially random array of parameters between 0 and 1 and generate the static simulation to plot and inspect."
   ]
  },
  {
   "cell_type": "code",
   "execution_count": null,
   "id": "08846717-16bc-49ee-bcb3-dd5e1c30cd6c",
   "metadata": {},
   "outputs": [],
   "source": [
    "params0 = np.random.random((nx, ny))\n",
    "sim0 = get_sim(params0, beta=beta0, use_predict=False)"
   ]
  },
  {
   "cell_type": "code",
   "execution_count": null,
   "id": "65933269-50cd-4dea-b32d-25f39492c7dc",
   "metadata": {},
   "outputs": [],
   "source": [
    "ax = sim0.plot_eps(z=0.01)\n",
    "ax.set_aspect(\"equal\")"
   ]
  },
  {
   "cell_type": "markdown",
   "id": "36ddbde9-64c9-4771-ab9e-8bf2c224f860",
   "metadata": {},
   "source": [
    "## Defining Objective Function\n",
    "\n",
    "With our simulation fully defined as a function of our parameters, we are ready to define our objective function.\n",
    "\n",
    "In this case, it is quite simple, we simply measure the transmitted power in our `n=4` output waveguide modes for each of the `n=4` design frequencies.\n",
    "\n",
    "Our objective whenn looking at waveguide `i` will be to maximize power transmission at frequency `i`. To reduce cross talk between waveguide `i` and frequency `j != i`, we will subtract the average of the power transmissions for all of the other ports.\n",
    "\n",
    "Our overall metric will then be the average"
   ]
  },
  {
   "cell_type": "code",
   "execution_count": null,
   "id": "56ed21ad-0882-46ca-bc99-f1e4163fcc72",
   "metadata": {},
   "outputs": [],
   "source": [
    "import xarray as xr\n",
    "\n",
    "\n",
    "def average_over_channel(\n",
    "    spectrum: xr.DataArray, fmin: float, fmax: float\n",
    ") -> xr.DataArray:\n",
    "    \"\"\"Get average of the spectrum within the frequency range between fmin and fmax.\"\"\"\n",
    "    freqs = spectrum.f\n",
    "    freqs_in_channel = np.logical_and(freqs >= fmin, freqs <= fmax).values\n",
    "    num_freqs = np.sum(freqs_in_channel)\n",
    "    avg_power = spectrum.values @ freqs_in_channel / num_freqs\n",
    "    return avg_power\n",
    "\n",
    "\n",
    "def get_power(sim_data: td.SimulationData, mnt_index: int, freq_index: int) -> float:\n",
    "    \"\"\"Get the average power at waveguide `mnt_index` and frequency channel `freq_index`.\"\"\"\n",
    "    mnt_name = mnts_mode[mnt_index].name\n",
    "    mnt_data = sim_data[mnt_name]\n",
    "    fmin_channel, fmax_channel = channel_bounds[freq_index]\n",
    "    amp = mnt_data.amps.sel(direction=\"+\", mode_index=0)\n",
    "    power_spectrum = anp.abs(amp) ** 2\n",
    "    return average_over_channel(power_spectrum, fmin=fmin_channel, fmax=fmax_channel)\n",
    "\n",
    "\n",
    "def get_metric(\n",
    "    sim_data: td.SimulationData, mnt_index: int, leak_weight: float = 1.0\n",
    ") -> float:\n",
    "    \"\"\"measure of how well this channel (`mnt_index`) performs. With an adjustable weight to reduce cross talk influence.\"\"\"\n",
    "\n",
    "    power_all = [\n",
    "        get_power(sim_data=sim_data, mnt_index=mnt_index, freq_index=j)\n",
    "        for j in range(num_freqs_design)\n",
    "    ]\n",
    "\n",
    "    power_transmitted = power_all[mnt_index]\n",
    "\n",
    "    # remove the extra term of power_self in power_all\n",
    "    power_leaked = sum(power_all) - power_transmitted\n",
    "    avg_power_leaked = power_leaked / (num_freqs_design - 1)\n",
    "\n",
    "    return power_transmitted - leak_weight * avg_power_leaked"
   ]
  },
  {
   "cell_type": "markdown",
   "id": "55bbda26-70af-4e53-a77e-d92dac0221f6",
   "metadata": {},
   "source": [
    "Next we add a penalty to produce structures that are invariant under erosion and dilation, which is a useful approach to implementing minimum length scale features."
   ]
  },
  {
   "cell_type": "code",
   "execution_count": null,
   "id": "7f7da424-d19e-4e0c-b95d-2ac7c877e246",
   "metadata": {},
   "outputs": [],
   "source": [
    "from tidy3d.plugins.autograd import make_erosion_dilation_penalty\n",
    "\n",
    "beta_penalty = 10\n",
    "\n",
    "penalty = make_erosion_dilation_penalty(radius, dl_design_region, beta=beta_penalty)"
   ]
  },
  {
   "cell_type": "markdown",
   "id": "218ac455-3626-4399-a11d-1ba288fe63bf",
   "metadata": {},
   "source": [
    "### Total Objective function\n",
    "\n",
    "Then we write an `objective` function that constructs our simulation, runs it, measures our metric, and subtracts our penalty.\n",
    "\n",
    "> Note: due to current limitations of the autograd support in tidy3d, when running broadband simulations, one must have only a single output 'port' in the forward simulation. Therefore, we split our problem into one simulation per output waveguide, and then run these in parallel using `web.run_async()`.\n",
    "\n",
    "> **For FAID:** We set `use_predict=True` and `use_penalty=False`.\n"
   ]
  },
  {
   "cell_type": "code",
   "execution_count": null,
   "id": "3bba8bcc-4d2e-4268-a338-aab37513f5df",
   "metadata": {},
   "outputs": [],
   "source": [
    "# useful for debugging, if you want to turn off the metric, penalty, or prediction\n",
    "use_penalty = False\n",
    "use_metric = True\n",
    "use_predict = True\n",
    "\n",
    "\n",
    "def objective(\n",
    "    params, beta: float, penalty_weight: float = 1.0, leak_weight: float = 0.0\n",
    ") -> float:\n",
    "    metric = 0.0\n",
    "    penalty_value = 0.0\n",
    "\n",
    "    if use_metric:\n",
    "        sim = get_sim(\n",
    "            params, beta=beta, include_extra_mnts=False, use_predict=use_predict\n",
    "        )\n",
    "        simulations = {f\"WDM_invdes_{key}\": sim for key in keys}\n",
    "        batch_data = web.run_async(simulations, verbose=False, path_dir=\"data/\")\n",
    "        metric = 0.0\n",
    "        for mnt_index, (_, sim_data) in enumerate(batch_data.items()):\n",
    "            metric = metric + get_metric(\n",
    "                sim_data=sim_data, mnt_index=mnt_index, leak_weight=leak_weight\n",
    "            )\n",
    "        metric = metric / num_freqs_design\n",
    "\n",
    "    if use_penalty:\n",
    "        penalty_value = penalty(params)\n",
    "\n",
    "    return metric - penalty_weight * penalty_value"
   ]
  },
  {
   "cell_type": "markdown",
   "id": "94fa67f3-31e2-444c-b2d2-9aea353eef10",
   "metadata": {},
   "source": [
    "### Differentiating the objective\n",
    "\n",
    "Finally, we can simply use `autograd` (`ag`) to transform this objective function into a function that returns our objective function value and our gradient, which we will feed to the optimizer.th"
   ]
  },
  {
   "cell_type": "code",
   "execution_count": null,
   "id": "3d210aba-1184-4191-a405-08c12531991c",
   "metadata": {},
   "outputs": [],
   "source": [
    "grad_fn = ag.value_and_grad(objective)"
   ]
  },
  {
   "cell_type": "markdown",
   "id": "afabe317-16c2-4d01-a5c0-6678eb470735",
   "metadata": {},
   "source": [
    "Let's try out our gradient function."
   ]
  },
  {
   "cell_type": "code",
   "execution_count": null,
   "id": "c6602755-bcb7-4ef2-8532-c3690788e8ca",
   "metadata": {},
   "outputs": [],
   "source": [
    "J, grad = grad_fn(params0, beta=1)"
   ]
  },
  {
   "cell_type": "code",
   "execution_count": null,
   "id": "04e85fa2-dfe9-4c07-bb67-447d1721dcd9",
   "metadata": {},
   "outputs": [],
   "source": [
    "print(J)\n",
    "print(grad.shape)\n",
    "print(np.linalg.norm(grad))"
   ]
  },
  {
   "cell_type": "markdown",
   "id": "2351757c-e19c-4715-8bf5-71a775f47602",
   "metadata": {},
   "source": [
    "## Run Optimization\n",
    "\n",
    "Finally, we are ready to optimize our device. We will make use of the `optax` package to define an optimizer using the `adam` method, as we've done in the previous inverse design tutorials.\n",
    "\n",
    "We record a history of objective function values, and parameters, for visualization later.\n",
    "\n",
    "> **For FAID:** The PreFab prediction will add close to a minute to the runtime of each iteration.\n"
   ]
  },
  {
   "cell_type": "code",
   "execution_count": null,
   "id": "4a24ecd3-f2d1-43b0-88cd-8e0a41cc515a",
   "metadata": {},
   "outputs": [],
   "source": [
    "import os\n",
    "import pickle\n",
    "\n",
    "import optax\n",
    "\n",
    "# check if the optimization history file exists\n",
    "history_file_path = \"misc/optimization_history_FAID_4ch_R100_1filter_buffer.pkl\"\n",
    "if os.path.exists(history_file_path):\n",
    "    # load the saved optimization history\n",
    "    with open(history_file_path, \"rb\") as f:\n",
    "        data_history = pickle.load(f)\n",
    "    Js = data_history[\"Js\"]\n",
    "    params_history = data_history[\"params_history\"]\n",
    "    beta_history = data_history[\"beta_history\"]\n",
    "    opt_state = data_history[\"opt_state\"]\n",
    "    start_step = len(Js)\n",
    "    print(f\"Loaded {start_step} steps from history file.\")\n",
    "    params = params_history[-1]\n",
    "else:\n",
    "    # initialize new optimization history\n",
    "    Js = []\n",
    "    params_history = [params0]\n",
    "    beta_history = []\n",
    "    start_step = 0\n",
    "    params = 0.5 * np.ones_like(params0)\n",
    "    opt_state = None\n",
    "\n",
    "# hyperparameters\n",
    "num_steps = 70\n",
    "learning_rate = 0.1\n",
    "beta_min = 1\n",
    "beta_max = 50\n",
    "\n",
    "# initialize the optimizer with the last known state\n",
    "optimizer = optax.adam(learning_rate=learning_rate)\n",
    "if opt_state is None:\n",
    "    opt_state = optimizer.init(params)\n",
    "\n",
    "for i in range(start_step, num_steps):\n",
    "    perc_done = i / (num_steps - 1)\n",
    "\n",
    "    # in case we want to change parameters over the optimization procedure\n",
    "    one_third = 1.0 / 3.0\n",
    "\n",
    "    penalty_weight = 1.0\n",
    "    leak_weight = 0.0 if perc_done < one_third else 1.0\n",
    "    beta_i = beta_min * (1 - perc_done) + beta_max * perc_done\n",
    "\n",
    "    # make a plot of density to check on progress\n",
    "    density = get_density(params, beta_i)\n",
    "    plt.subplots(figsize=(2, 2))\n",
    "    plt.imshow(np.flipud(1 - density.T), cmap=\"gray\", vmin=0, vmax=1)\n",
    "    plt.axis(\"off\")\n",
    "    plt.show()\n",
    "\n",
    "    # compute gradient and current objective function value\n",
    "    value, gradient = grad_fn(\n",
    "        params, beta=beta_i, penalty_weight=penalty_weight, leak_weight=leak_weight\n",
    "    )\n",
    "\n",
    "    # outputs\n",
    "    print(f\"step = {i + 1}\")\n",
    "    print(f\"\\tJ = {value:.4e}\")\n",
    "    print(f\"\\tbeta = {beta_i:.2f}\")\n",
    "    print(f\"\\tgrad_norm = {np.linalg.norm(gradient):.4e}\")\n",
    "\n",
    "    # compute and apply updates to the optimizer based on gradient (-1 sign to maximize obj_fn)\n",
    "    updates, opt_state = optimizer.update(-gradient, opt_state, params)\n",
    "    params = optax.apply_updates(params, updates)\n",
    "    params = np.array(params)\n",
    "\n",
    "    # keep params between 0 and 1\n",
    "    params = anp.minimum(1.0, params)\n",
    "    params = anp.maximum(0.0, params)\n",
    "\n",
    "    # save history\n",
    "    Js.append(value)\n",
    "    params_history.append(params)\n",
    "    beta_history.append(beta_i)\n",
    "    data_to_save = {\n",
    "        \"Js\": Js,\n",
    "        \"params_history\": params_history,\n",
    "        \"beta_history\": beta_history,\n",
    "        \"opt_state\": opt_state,\n",
    "    }\n",
    "    with open(history_file_path, \"wb\") as f:\n",
    "        pickle.dump(data_to_save, f)"
   ]
  },
  {
   "cell_type": "markdown",
   "id": "f082a060-208d-4678-8c60-9701db55faad",
   "metadata": {},
   "source": [
    "## Visualize Results\n",
    "\n",
    "Let's visualize the results of our optimization.\n",
    "\n",
    "### Objective function vs Iteration\n",
    "\n",
    "First we inspect the objective function value as a function of optimization iteration number. We see that it steadily increases as expected. "
   ]
  },
  {
   "cell_type": "code",
   "execution_count": null,
   "id": "a3f9509b-2448-4505-a013-c2fd26b36052",
   "metadata": {},
   "outputs": [],
   "source": [
    "plt.plot(Js)\n",
    "plt.xlabel(\"iteration number\")\n",
    "plt.ylabel(\"objective function\")\n",
    "plt.show()"
   ]
  },
  {
   "cell_type": "markdown",
   "id": "c9b97d20-1e6b-4b4c-9f35-fc3c21903e24",
   "metadata": {},
   "source": [
    "### Final Simulation\n",
    "\n",
    "Let's take a look at the final simulation, without the prediction model, which we grab from our history."
   ]
  },
  {
   "cell_type": "code",
   "execution_count": null,
   "id": "a20e8905-5699-47c8-8a97-26db6f5935c6",
   "metadata": {},
   "outputs": [],
   "source": [
    "# we'll sample the modes at a finer frequency resolution for this final evaluation, for smoother plots\n",
    "iter_final = -1\n",
    "\n",
    "num_freqs_measure = 151\n",
    "freqs_measure = np.linspace(\n",
    "    freq_min - df_design, freq_max + df_design, num_freqs_measure\n",
    ")\n",
    "\n",
    "sim_final = get_sim(\n",
    "    params_history[iter_final], beta=beta_history[iter_final], use_predict=False\n",
    ")\n",
    "\n",
    "for i in range(num_freqs_design):\n",
    "    sim_final = sim_final.updated_copy(freqs=freqs_measure, path=f\"monitors/{i}\")\n",
    "    sim_final = sim_final.updated_copy(\n",
    "        freqs=freqs_measure, path=f\"monitors/{i + num_freqs_design}\"\n",
    "    )"
   ]
  },
  {
   "cell_type": "code",
   "execution_count": null,
   "id": "464a8789-b539-49e1-b702-73d0bdd4df32",
   "metadata": {},
   "outputs": [],
   "source": [
    "ax = sim_final.plot_eps(z=0.01, monitor_alpha=0, source_alpha=0)"
   ]
  },
  {
   "cell_type": "code",
   "execution_count": null,
   "id": "d6ad06b0-b071-4c7c-9807-430795ab42bc",
   "metadata": {},
   "outputs": [],
   "source": [
    "penalty_value_final = penalty(params_history[-1])\n",
    "print(penalty_value_final)"
   ]
  },
  {
   "cell_type": "code",
   "execution_count": null,
   "id": "6d843652-60c2-4279-acc2-ea2d019b3938",
   "metadata": {},
   "outputs": [],
   "source": [
    "sim_data_final = web.run(sim_final, verbose=False, task_name=\"wdm_final\")"
   ]
  },
  {
   "cell_type": "markdown",
   "id": "50d3fd39",
   "metadata": {},
   "source": [
    "Let's also run the final simulation with the prediction model."
   ]
  },
  {
   "cell_type": "code",
   "execution_count": null,
   "id": "ca094a46",
   "metadata": {},
   "outputs": [],
   "source": [
    "sim_final_predicted = get_sim(\n",
    "    params_history[iter_final], beta=beta_history[iter_final], use_predict=True\n",
    ")\n",
    "\n",
    "for i in range(num_freqs_design):\n",
    "    sim_final_predicted = sim_final_predicted.updated_copy(\n",
    "        freqs=freqs_measure, path=f\"monitors/{i}\"\n",
    "    )\n",
    "    sim_final_predicted = sim_final_predicted.updated_copy(\n",
    "        freqs=freqs_measure, path=f\"monitors/{i + num_freqs_design}\"\n",
    "    )"
   ]
  },
  {
   "cell_type": "markdown",
   "id": "7ba0dd55",
   "metadata": {},
   "source": [
    "The predicted fabrication variations show some notable differences from the ideal design, such as the filled-in hole in the bottom left. However, most variations are quite subtle at this scale and resolution. Despite the seemingly minor geometric differences, these variations lead to meaningful changes in device performance, which we will analyze in the next section."
   ]
  },
  {
   "cell_type": "code",
   "execution_count": null,
   "id": "66224a30",
   "metadata": {},
   "outputs": [],
   "source": [
    "fig, (ax1, ax2) = plt.subplots(1, 2, figsize=(12, 6))\n",
    "sim_final_predicted.plot_eps(z=0.01, monitor_alpha=0, source_alpha=0, ax=ax1)\n",
    "ax1.set_title(\"predicted cross section at z=0.01\")\n",
    "sim_final.plot_eps(z=0.01, monitor_alpha=0, source_alpha=0, ax=ax2)\n",
    "ax2.set_title(\"idealized cross section at z=0.01\")\n",
    "plt.show()"
   ]
  },
  {
   "cell_type": "code",
   "execution_count": null,
   "id": "4f1dcef8",
   "metadata": {},
   "outputs": [],
   "source": [
    "sim_data_final_predicted = web.run(\n",
    "    sim_final_predicted, verbose=False, task_name=\"wdm_final_predicted\"\n",
    ")"
   ]
  },
  {
   "cell_type": "markdown",
   "id": "d13065bd-e796-485f-8a18-1a55f0ebf2bd",
   "metadata": {},
   "source": [
    "### Flux\n",
    "\n",
    "Let's inspect the flux over each of the output ports as a function of wavelength.\n",
    "\n",
    "We notice that the ports have peaks in transmission at their corresponding design wavelengths, and are supressed at the other wavelengths, as expected!\n",
    "\n",
    "> **For FAID:** Because we optimized the design based on the fabrication-predicted geometry, we observe that the predicted design has *higher* performance than the final idealized design. This is intended. This contrasts with non-FAID-based optimization, where the fabrication-predicted structures typically have lower performance than the ideal design due to unaccounted fabrication variations.\n"
   ]
  },
  {
   "cell_type": "code",
   "execution_count": null,
   "id": "14162970-0b19-4f56-bd64-3b4d4221c499",
   "metadata": {},
   "outputs": [],
   "source": [
    "def plot_flux(sim_data, title, linestyle=\"-\"):\n",
    "    for i in range(num_freqs_design):\n",
    "        freq = freqs_design[i]\n",
    "        flux_data = sim_data[mnts_flux[i].name]\n",
    "        wvl_nm = 1000 * td.C_0 / freq\n",
    "        wavelengths_nm = 1000 * td.C_0 / np.array(flux_data.flux.f)\n",
    "        flux = np.array(flux_data.flux.values)\n",
    "        loss_db = 10 * np.log10(flux)\n",
    "        label = f\"channel @ {int(wvl_nm)} nm\"\n",
    "        fmin, fmax = channel_bounds[i]\n",
    "        plt.gca().axvspan(1000 * td.C_0 / fmin, 1000 * td.C_0 / fmax, alpha=0.2)\n",
    "        plt.plot(wavelengths_nm, loss_db, label=label, linestyle=linestyle)\n",
    "        plt.scatter([wvl_nm], [0], 100, marker=\"*\")\n",
    "        plt.xlabel(\"wavelength (nm)\")\n",
    "        plt.ylabel(\"insertion loss (dB)\")\n",
    "        plt.legend()\n",
    "        plt.grid(\"on\")\n",
    "    plt.title(title)\n",
    "    plt.show()\n",
    "\n",
    "\n",
    "plot_flux(sim_data_final_predicted, \"total flux (with fabrication prediction)\")\n",
    "plot_flux(sim_data_final, \"total flux (without fabrication prediction)\", linestyle=\"--\")\n"
   ]
  },
  {
   "cell_type": "code",
   "execution_count": null,
   "id": "8292b4ef-e18e-4356-bb0f-ae3ea28ff460",
   "metadata": {},
   "outputs": [],
   "source": [
    "def plot_power(sim_data, title, linestyle=\"-\"):\n",
    "    for i in range(num_freqs_design):\n",
    "        freq = freqs_design[i]\n",
    "        amps = sim_data[mnts_mode[i].name].amps\n",
    "        powers = np.abs(amps.sel(direction=\"+\", mode_index=0)) ** 2\n",
    "        wvl_nm = 1000 * td.C_0 / freq\n",
    "        flux_data = sim_data[mnts_flux[i].name]\n",
    "        wavelengths_nm = 1000 * td.C_0 / np.array(flux_data.flux.f)\n",
    "        flux = np.array(powers.values)\n",
    "        loss_db = 10 * np.log10(flux)\n",
    "        label = f\"channel @ {int(wvl_nm)} nm\"\n",
    "        fmin, fmax = channel_bounds[i]\n",
    "        plt.gca().axvspan(1000 * td.C_0 / fmin, 1000 * td.C_0 / fmax, alpha=0.2)\n",
    "        plt.plot(wavelengths_nm, loss_db, label=label, linestyle=linestyle)\n",
    "        plt.scatter([wvl_nm], [0], 100, marker=\"*\")\n",
    "        plt.xlabel(\"wavelength (nm)\")\n",
    "        plt.ylabel(\"insertion loss (dB)\")\n",
    "        plt.legend()\n",
    "        plt.grid(\"on\")\n",
    "    plt.title(title)\n",
    "    plt.show()\n",
    "\n",
    "\n",
    "plot_power(\n",
    "    sim_data_final_predicted, \"power at mode_index=0 (with fabrication prediction)\"\n",
    ")\n",
    "plot_power(\n",
    "    sim_data_final,\n",
    "    \"power at mode_index=0 (without fabrication prediction)\",\n",
    "    linestyle=\"--\",\n",
    ")\n"
   ]
  },
  {
   "cell_type": "markdown",
   "id": "5423e5c7-5e00-4a8f-b0fd-ccdbe1afc42c",
   "metadata": {},
   "source": [
    "### Fields\n",
    "\n",
    "Let's also plot the field intensity patterns at each of the design wavelengths for the predicted design.\n",
    "\n",
    "We see from this plot the expected result that the power is directed to the design port at each frequency."
   ]
  },
  {
   "cell_type": "code",
   "execution_count": null,
   "id": "3f5c895a-4543-4e2a-b34d-3aeab61c5914",
   "metadata": {},
   "outputs": [],
   "source": [
    "# plot fields at the two design wavelengths\n",
    "\n",
    "fig, axes = plt.subplots(\n",
    "    1, num_freqs_design, tight_layout=True, figsize=(15, 0.8 * num_freqs_design)\n",
    ")\n",
    "\n",
    "for freq, ax in zip(freqs_design, axes):\n",
    "    sim_data_final_predicted.plot_field(\"field\", \"E\", \"abs^2\", f=freq, ax=ax, vmax=1200)\n",
    "    wvl = 1000 * td.C_0 / freq\n",
    "    ax.set_title(f\"wavelength = {int(wvl)} nm\")"
   ]
  },
  {
   "cell_type": "markdown",
   "id": "5997d513-a66e-44b6-81ce-ce7b7d59762a",
   "metadata": {},
   "source": [
    "### Animation\n",
    "\n",
    "Finally, we animate this plot as a function of iteration number. The animation shows the device quickly accomplishing our design objective.\n",
    "\n",
    "> Note: can take a few minutes to complete"
   ]
  },
  {
   "cell_type": "code",
   "execution_count": null,
   "id": "2cb45408-ffe0-4406-92e2-c2c4c79d8750",
   "metadata": {},
   "outputs": [],
   "source": [
    "import matplotlib.animation as animation\n",
    "from IPython.display import HTML\n",
    "\n",
    "fig, ax1 = fig, axes = plt.subplots(1, 1, tight_layout=False, figsize=(9, 4))\n",
    "\n",
    "\n",
    "def animate(i):\n",
    "    sim_i = get_sim(params_history[i], beta_history[i])\n",
    "    sim_i.plot_eps(z=0.01, monitor_alpha=0, source_alpha=0, ax=ax1)\n",
    "    ax1.set_aspect(\"equal\")\n",
    "\n",
    "\n",
    "# create animation\n",
    "ani = animation.FuncAnimation(fig, animate, frames=len(beta_history))\n",
    "plt.close()"
   ]
  },
  {
   "cell_type": "code",
   "execution_count": null,
   "id": "fc5bd204-d290-42bf-b3bc-187ce4ffa026",
   "metadata": {},
   "outputs": [],
   "source": [
    "# display the animation (press \"play\" to start)\n",
    "HTML(ani.to_jshtml())"
   ]
  },
  {
   "cell_type": "markdown",
   "id": "8dfd4b1c-0f7b-438d-9c06-1abd3c2f8aa3",
   "metadata": {},
   "source": [
    "To save the animation as a file, uncomment the line below\n",
    "\n",
    "> Note: can take several more minutes to complete"
   ]
  },
  {
   "cell_type": "code",
   "execution_count": null,
   "id": "20b92a33-34b6-4c55-8036-99c19a05d251",
   "metadata": {},
   "outputs": [],
   "source": [
    "ani.save(\"img/animation_wdm_autograd.gif\", fps=30)"
   ]
  },
  {
   "cell_type": "markdown",
   "id": "ddbb4884",
   "metadata": {},
   "source": [
    "## Export to GDS\n",
    "The `Simulation` object has the [.to_gds_file](https://docs.flexcompute.com/projects/tidy3d/en/latest/api/_autosummary/tidy3d.Simulation.html#tidy3d.Simulation.to_gds_file) convenience function to export the final design to a `GDS` file. In addition to a file name, it is necessary to set a cross-sectional plane (`z = 0` in this case) on which to evaluate the geometry, a `frequency` to evaluate the permittivity, and a `permittivity_threshold` to define the shape boundaries in custom mediums. See the [GDS export](https://www.flexcompute.com/tidy3d/examples/notebooks/GDSExport/) notebook for a detailed example on using `.to_gds_file` and other GDS related functions.\n",
    "\n",
    "> **For FAID:** Even though we optimize based on the predicted (fabricated) structure, we export the final idealized (not predicted) design. By accounting for fabrication imperfections during optimization, we aim for the structure that is ultimately fabricated to perform at its best.\n"
   ]
  },
  {
   "cell_type": "code",
   "execution_count": null,
   "id": "9f283dab",
   "metadata": {},
   "outputs": [],
   "source": [
    "sim_final.to_gds_file(\n",
    "    fname=\"./misc/inv_des_wdm_ag_FAID.gds\",\n",
    "    z=0,\n",
    "    permittivity_threshold=(n_si**2 + 1) / 2,\n",
    "    frequency=freq0,\n",
    ")"
   ]
  }
 ],
 "metadata": {
  "applications": [
   "Passive photonic integrated circuit components"
  ],
  "description": "This notebook demonstrates the adjoint optimization of a wavelength division multiplexer using autograd.",
  "feature_image": "./img/adjoint_9.png",
  "features": [
   "Adjoint inverse design",
   "2D simulation"
  ],
  "kernelspec": {
   "display_name": "Python 3 (ipykernel)",
   "language": "python",
   "name": "python3"
  },
  "keywords": "inverse design, WDM, design optimization, adjoint, Tidy3D, FDTD",
  "language_info": {
   "codemirror_mode": {
    "name": "ipython",
    "version": 3
   },
   "file_extension": ".py",
   "mimetype": "text/x-python",
   "name": "python",
   "nbconvert_exporter": "python",
   "pygments_lexer": "ipython3",
   "version": "3.11.9"
  },
  "title": "Adjoint Optimization of a WDM in Tidy3D | Flexcompute"
 },
 "nbformat": 4,
 "nbformat_minor": 5
}
