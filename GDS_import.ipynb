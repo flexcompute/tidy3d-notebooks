{
 "cells": [
  {
   "cell_type": "markdown",
   "metadata": {
    "slideshow": {
     "slide_type": "-"
    }
   },
   "source": [
    "# GDSII import\n",
    "\n",
    "See on [github](https://github.com/flexcompute/tidy3d-notebooks/blob/main/GDS_import.ipynb), run on [colab](https://colab.research.google.com/github/flexcompute/tidy3d-notebooks/blob/main/GDS_import.ipynb), or just follow along with the output below.\n",
    "\n",
    "<img src=\"img/splitter.png\" alt=\"diagram\" width=\"400\"/>\n",
    "\n",
    "In Tidy3D, complex structures can be defined or imported from GDSII files via the third-party [gdspy](https://gdspy.readthedocs.io/en/stable/index.html) package. In this tutorial, we will first illustrate how to use the package to define a structure, then we will save this to file, and then we will read that file and import the structures in a simulation."
   ]
  },
  {
   "cell_type": "code",
   "execution_count": 1,
   "metadata": {
    "execution": {
     "iopub.execute_input": "2021-11-17T22:17:04.501832Z",
     "iopub.status.busy": "2021-11-17T22:17:04.498009Z",
     "iopub.status.idle": "2021-11-17T22:17:10.867782Z",
     "shell.execute_reply": "2021-11-17T22:17:10.867265Z"
    }
   },
   "outputs": [],
   "source": [
    "# get the most recent version of tidy3d\n",
    "!pip install -q --upgrade tidy3d\n",
    "\n",
    "# gdspy is also needed for gds import\n",
    "!pip install -q gdspy\n",
    "\n",
    "# make sure notebook plots inline\n",
    "%matplotlib inline\n",
    "\n",
    "# standard python imports\n",
    "import numpy as np\n",
    "import matplotlib.pyplot as plt\n",
    "import gdspy\n",
    "import os\n",
    "\n",
    "# tidy3D import\n",
    "import tidy3d as td\n",
    "from tidy3d import web"
   ]
  },
  {
   "cell_type": "markdown",
   "metadata": {},
   "source": [
    "## Creating a beam splitter with gdspy\n",
    "\n",
    "First, we will construct an integrated beam splitter as in the title image in this notebook using `gdspy`. If you are only interested in importing an already existing GDSII file, see the next section.\n",
    "\n",
    "We first define some structural parameters. The two arms of the device start at a distance `wg_spacing_in` apart, then come together at a coupling distance `wg_spacing_coup` for a certain length `coup_length`, and then split again into separate ports. In the coupling region, the field overlap results in energy exchange between the two waveguides. Here, we will only see how to define, export, and import such a device using `gdspy`, while in a later example we will simulate the device and study the frequency dependence of the transmission into each of the ports."
   ]
  },
  {
   "cell_type": "code",
   "execution_count": 2,
   "metadata": {
    "execution": {
     "iopub.execute_input": "2021-11-17T22:17:10.872356Z",
     "iopub.status.busy": "2021-11-17T22:17:10.871415Z",
     "iopub.status.idle": "2021-11-17T22:17:10.884862Z",
     "shell.execute_reply": "2021-11-17T22:17:10.885278Z"
    }
   },
   "outputs": [],
   "source": [
    "### Length scale in micron.\n",
    "\n",
    "# Waveguide width\n",
    "wg_width = 0.45\n",
    "# Waveguide separation in the beginning/end\n",
    "wg_spacing_in = 8\n",
    "# Length of the coupling region\n",
    "coup_length = 10\n",
    "# Length of the bend region\n",
    "bend_length = 16\n",
    "# Waveguide separation in the coupling region\n",
    "wg_spacing_coup = 0.10\n",
    "# Total device length along propagation direction\n",
    "device_length = 100"
   ]
  },
  {
   "cell_type": "markdown",
   "metadata": {},
   "source": [
    "To create the device, we will define each waveguide as a GDSII path object with the given waveguide width. To do that, we just need to define a series of points along the center of each waveguide that follows the curvature we desire. First, we define a convenience function to create the central points along one of the waveguides, using a hyperbolic tangent curvature between the input and coupling regions. The second waveguide is just a reflected version of the first one."
   ]
  },
  {
   "cell_type": "code",
   "execution_count": 3,
   "metadata": {
    "execution": {
     "iopub.execute_input": "2021-11-17T22:17:10.892808Z",
     "iopub.status.busy": "2021-11-17T22:17:10.892252Z",
     "iopub.status.idle": "2021-11-17T22:17:11.006713Z",
     "shell.execute_reply": "2021-11-17T22:17:11.007125Z"
    }
   },
   "outputs": [
    {
     "data": {
      "image/png": "[encoded data removed]",
      "text/plain": [
       "<Figure size 576x216 with 1 Axes>"
      ]
     },
     "metadata": {
      "needs_background": "light"
     },
     "output_type": "display_data"
    }
   ],
   "source": [
    "def bend_pts(bend_length, width, npts=10):\n",
    "    \"\"\" Set of points describing a tanh bend from (0, 0) to (length, width)\"\"\"\n",
    "    x = np.linspace(0, bend_length, npts)\n",
    "    y = width*(1 + np.tanh(6*(x/bend_length - 0.5)))/2\n",
    "    return np.stack((x, y), axis=1)\n",
    "\n",
    "def arm_pts(length, width, coup_length, bend_length, npts_bend=30):\n",
    "    \"\"\" Set of points defining one arm of an integrated coupler \"\"\"\n",
    "    ### Make the right half of the coupler arm first\n",
    "    # Make bend and offset by coup_length/2\n",
    "    bend = bend_pts(bend_length, width, npts_bend)\n",
    "    bend[:, 0] += coup_length / 2\n",
    "    # Add starting point as (0, 0)\n",
    "    right_half = np.concatenate(([[0, 0]], bend))\n",
    "    # Add an extra point to make sure waveguide is straight past the bend\n",
    "    right_half = np.concatenate((right_half, [[right_half[-1, 0] + 0.1, width]]))\n",
    "    # Add end point as (length/2, width)\n",
    "    right_half = np.concatenate((right_half, [[length/2, width]]))\n",
    "\n",
    "    ### Make the left half by reflecting and omitting the (0, 0) point\n",
    "    left_half = np.copy(right_half)[1:, :]\n",
    "    left_half[:, 0] = -left_half[::-1, 0]\n",
    "    left_half[:, 1] = left_half[::-1, 1]\n",
    "    \n",
    "    return np.concatenate((left_half, right_half), axis=0)\n",
    "\n",
    "# Plot the upper arm for the current configuration\n",
    "arm_center_coords = arm_pts(\n",
    "    device_length,\n",
    "    wg_spacing_in/2,\n",
    "    coup_length,\n",
    "    bend_length)\n",
    "\n",
    "fig, ax = plt.subplots(1, figsize=(8, 3))\n",
    "ax.plot(arm_center_coords[:, 0], arm_center_coords[:, 1], lw=4)\n",
    "ax.set_xlim([-30, 30])\n",
    "ax.set_xlabel(\"x (um)\")\n",
    "ax.set_ylabel(\"y (um)\")\n",
    "ax.set_title(\"Upper beam splitter arm\")\n",
    "ax.axes.set_aspect('equal')\n",
    "plt.show()"
   ]
  },
  {
   "cell_type": "markdown",
   "metadata": {},
   "source": [
    "Next, we construct the splitter and write it to a GDS cell. We add a rectangle for the substrate to layer 0, and in layer 1 we add two paths, one for the upper and one for the lower splitter arms, and set the path width to be the waveguide width defined above."
   ]
  },
  {
   "cell_type": "code",
   "execution_count": 4,
   "metadata": {
    "execution": {
     "iopub.execute_input": "2021-11-17T22:17:11.012124Z",
     "iopub.status.busy": "2021-11-17T22:17:11.011769Z",
     "iopub.status.idle": "2021-11-17T22:17:11.023854Z",
     "shell.execute_reply": "2021-11-17T22:17:11.023446Z"
    }
   },
   "outputs": [
    {
     "data": {
      "text/plain": [
       "<gdspy.library.Cell at 0x7fa80baa0d68>"
      ]
     },
     "execution_count": 1,
     "metadata": {},
     "output_type": "execute_result"
    }
   ],
   "source": [
    "# Reset the gdspy library.\n",
    "# This could be useful if re-running the notebook without restarting the kernel.\n",
    "gdspy.current_library = gdspy.GdsLibrary()\n",
    "lib = gdspy.GdsLibrary()\n",
    "\n",
    "# Geometry must be placed in GDS cells to import into Tidy3D\n",
    "coup_cell = lib.new_cell('Coupler')\n",
    "\n",
    "substrate = gdspy.Rectangle(\n",
    "    (-device_length/2, -wg_spacing_in/2-10),\n",
    "    (device_length/2, wg_spacing_in/2+10),\n",
    "    layer=0)\n",
    "coup_cell.add(substrate)\n",
    "\n",
    "def make_coupler(\n",
    "    length, \n",
    "    wg_spacing_in,\n",
    "    wg_width,\n",
    "    wg_spacing_coup,\n",
    "    coup_length,\n",
    "    bend_length,\n",
    "    npts_bend=30):\n",
    "    \"\"\" Make an integrated coupler using the gdspy FlexPath object. \"\"\"\n",
    "    # Compute one arm of the coupler\n",
    "    arm_width = (wg_spacing_in - wg_width - wg_spacing_coup)/2\n",
    "    arm = arm_pts(length, arm_width, coup_length, bend_length, npts_bend)\n",
    "    # Reflect and offset bottom arm\n",
    "    coup_bot = np.copy(arm)\n",
    "    coup_bot[:, 1] = -coup_bot[::-1, 1] - wg_width/2 - wg_spacing_coup/2\n",
    "    # Offset top arm\n",
    "    coup_top = np.copy(arm)\n",
    "    coup_top[:, 1] += wg_width/2 + wg_spacing_coup/2\n",
    "    \n",
    "    # Create waveguides as GDS paths\n",
    "    path_bot = gdspy.FlexPath(coup_bot, wg_width, layer=1, datatype=0)\n",
    "    path_top = gdspy.FlexPath(coup_top, wg_width, layer=1, datatype=1)\n",
    "    \n",
    "    return [path_bot, path_top]\n",
    "\n",
    "# Add the coupler to a gdspy cell\n",
    "gds_coup = make_coupler(\n",
    "    device_length,\n",
    "    wg_spacing_in,\n",
    "    wg_width,\n",
    "    wg_spacing_coup,\n",
    "    coup_length,\n",
    "    bend_length)\n",
    "\n",
    "coup_cell.add(gds_coup);\n",
    "\n",
    "# Uncomment to display the cell using the internal gdspy viewer\n",
    "# gdspy.LayoutViewer(lib)"
   ]
  },
  {
   "cell_type": "markdown",
   "metadata": {},
   "source": [
    "Finally, we can save what we have built to a GDSII file."
   ]
  },
  {
   "cell_type": "code",
   "execution_count": 5,
   "metadata": {
    "execution": {
     "iopub.execute_input": "2021-11-17T22:17:11.026273Z",
     "iopub.status.busy": "2021-11-17T22:17:11.025934Z",
     "iopub.status.idle": "2021-11-17T22:17:11.039039Z",
     "shell.execute_reply": "2021-11-17T22:17:11.038744Z"
    }
   },
   "outputs": [],
   "source": [
    "os.makedirs('data', exist_ok=True)\n",
    "lib.write_gds('data/coupler.gds')"
   ]
  },
  {
   "cell_type": "markdown",
   "metadata": {},
   "source": [
    "## Importing a GDSII file to simulation\n",
    "\n",
    "We can now add this device to a Tidy3D simulation and use our in-built plotting tools to see what we have created. First, we use ``gdspy`` to load the file that we just created, and examine its contents."
   ]
  },
  {
   "cell_type": "code",
   "execution_count": 6,
   "metadata": {
    "execution": {
     "iopub.execute_input": "2021-11-17T22:17:11.041438Z",
     "iopub.status.busy": "2021-11-17T22:17:11.041094Z",
     "iopub.status.idle": "2021-11-17T22:17:11.050713Z",
     "shell.execute_reply": "2021-11-17T22:17:11.050373Z"
    }
   },
   "outputs": [
    {
     "name": "stdout",
     "output_type": "stream",
     "text": [
      "{'Coupler': <gdspy.library.Cell object at 0x7fa761075ac8>}\n"
     ]
    }
   ],
   "source": [
    "lib_loaded = gdspy.GdsLibrary(infile='data/coupler.gds')\n",
    "print(lib_loaded.cells)"
   ]
  },
  {
   "cell_type": "code",
   "execution_count": 7,
   "metadata": {
    "execution": {
     "iopub.execute_input": "2021-11-17T22:17:11.053224Z",
     "iopub.status.busy": "2021-11-17T22:17:11.052792Z",
     "iopub.status.idle": "2021-11-17T22:17:11.062561Z",
     "shell.execute_reply": "2021-11-17T22:17:11.062279Z"
    }
   },
   "outputs": [
    {
     "name": "stdout",
     "output_type": "stream",
     "text": [
      "Layers in cell:  {0, 1}\n",
      "Layer and datatype of each polygon in cell: \n",
      "    Polygon 0: (0, 0)\n",
      "    Polygon 1: (1, 0)\n",
      "    Polygon 2: (1, 1)\n"
     ]
    }
   ],
   "source": [
    "coup_cell = lib_loaded.cells['Coupler']\n",
    "print(\"Layers in cell: \", coup_cell.get_layers())\n",
    "print(\"Layer and datatype of each polygon in cell: \")\n",
    "for (ip, poly) in enumerate(coup_cell.polygons):\n",
    "    print(f\"    Polygon {ip}: ({poly.layers[0]}, {poly.datatypes[0]})\")"
   ]
  },
  {
   "cell_type": "markdown",
   "metadata": {},
   "source": [
    "As we know from creating the file above, Polygon 0 defines the substrate which is made of oxide, while Polygons 1 and 2 define the waveguides, made of silicon, and hence they are in a different layer. Below, we add these structures to a Tidy3D simulation, setting a height of 220nm for the waveguides. We will not do a full run here, so we will not add sources and monitors."
   ]
  },
  {
   "cell_type": "code",
   "execution_count": 8,
   "metadata": {
    "execution": {
     "iopub.execute_input": "2021-11-17T22:17:11.066969Z",
     "iopub.status.busy": "2021-11-17T22:17:11.066472Z",
     "iopub.status.idle": "2021-11-17T22:17:11.274620Z",
     "shell.execute_reply": "2021-11-17T22:17:11.274111Z"
    }
   },
   "outputs": [
    {
     "name": "stdout",
     "output_type": "stream",
     "text": [
      "Initializing simulation...\n",
      "Mesh step (micron): [2.00e-02, 2.00e-02, 2.00e-02].\n",
      "Simulation domain in number of grid points: [2224, 546, 135].\n",
      "Total number of computational grid points: 1.64e+08.\n",
      "Total number of time steps: 57696.\n"
     ]
    },
    {
     "data": {
      "image/png": "[encoded data removed]",
      "text/plain": [
       "<Figure size 1008x288 with 2 Axes>"
      ]
     },
     "metadata": {
      "needs_background": "light"
     },
     "output_type": "display_data"
    }
   ],
   "source": [
    "# Waveguide height\n",
    "wg_height = 0.22\n",
    "\n",
    "# Permittivity of waveguide and substrate\n",
    "wg_n = 3.48\n",
    "sub_n = 1.45\n",
    "mat_wg = td.Medium(n=wg_n)\n",
    "mat_sub = td.Medium(n=sub_n)\n",
    "\n",
    "# Substrate\n",
    "oxide = td.GdsSlab(\n",
    "    material=mat_sub,\n",
    "    gds_cell=coup_cell,\n",
    "    gds_layer=0,\n",
    "    z_min=-10,\n",
    "    z_max=0)\n",
    "\n",
    "# Waveguides (import all datatypes if gds_dtype not specified)\n",
    "coupler = td.GdsSlab(\n",
    "    material=mat_wg,\n",
    "    gds_cell=coup_cell,\n",
    "    gds_layer=1,\n",
    "    z_cent=wg_height/2,\n",
    "    z_size=wg_height,)\n",
    "\n",
    "# Simulation size along propagation direction\n",
    "sim_length = 2 + 2*bend_length + coup_length\n",
    "# Spacing between waveguides and PML\n",
    "pml_spacing = 1\n",
    "sim_size = [\n",
    "    sim_length,\n",
    "    wg_spacing_in + wg_width + 2*pml_spacing,\n",
    "    wg_height + 2*pml_spacing]\n",
    "\n",
    "# Mesh step in all directions\n",
    "mesh_step = 0.020\n",
    "\n",
    "### Initialize and visualize simulation ###\n",
    "sim = td.Simulation(\n",
    "    size=sim_size,\n",
    "    mesh_step=mesh_step, \n",
    "    structures=[oxide, coupler],\n",
    "    run_time=2e-12,\n",
    "    pml_layers=[12, 12, 12])\n",
    "\n",
    "fig, (ax1, ax2) = plt.subplots(1, 2, figsize=(14, 4))\n",
    "sim.viz_mat_2D(normal='z', position=wg_height/2, ax=ax1);\n",
    "sim.viz_mat_2D(normal='x', ax=ax2, source_alpha=1);\n",
    "ax2.set_xlim([-3, 3])\n",
    "plt.show()"
   ]
  }
 ],
 "metadata": {
  "kernelspec": {
   "display_name": "Python 3",
   "language": "python",
   "name": "python3"
  },
  "language_info": {
   "codemirror_mode": {
    "name": "ipython",
    "version": 3
   },
   "file_extension": ".py",
   "mimetype": "text/x-python",
   "name": "python",
   "nbconvert_exporter": "python",
   "pygments_lexer": "ipython3",
   "version": "3.6.13"
  }
 },
 "nbformat": 4,
 "nbformat_minor": 4
}
