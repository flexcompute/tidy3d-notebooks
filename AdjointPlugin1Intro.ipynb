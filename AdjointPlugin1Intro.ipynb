{
 "cells": [
  {
   "cell_type": "markdown",
   "id": "0dff81f1-150e-4132-a41f-7d5b32dbae1d",
   "metadata": {},
   "source": [
    "# Jax, automatic differentiation, and adjoint optimization: basics\n",
    "\n",
    "> To install the `jax` module required for this feature, we recommend running `pip install \"tidy3d[jax]\"`.\n",
    "\n",
    "## Introduction\n",
    "\n",
    "In this notebook, we will introduce the `adjoint` plugin of Tidy3D.\n",
    "The `adjoint` plugin allows users to take derivatives of arbitrary functions involving Tidy3D simulations through the use of the \"adjoint method\".\n",
    "The advantage of the adjoint method is that the gradients can be computed using only **two** FDTD simulations, independent of the number of parameters.\n",
    "This makes it possible to do gradient-based optimization or sensitivity analysis of devices with enormous numbers of parameters with minimal computational overhead.\n",
    "For more information on the technical details of the adjoint method and what it can be used for, we recommend these references (with links to their pre-print versions):\n",
    "\n",
    "* [Gradient-based \"inverse design\" optimization in photonics](https://arxiv.org/pdf/1801.06715.pdf).\n",
    "\n",
    "* [Adjoint method for electromagnetics](https://arxiv.org/abs/1908.10507)\n",
    "\n",
    "If you want to skip to some case studies of the `adjoint` plugin being used for some applications, see the\n",
    "\n",
    "\n",
    "* [Quickstart Inverse Design Demo](https://www.flexcompute.com/tidy3d/examples/notebooks/AdjointPlugin0Quickstart/).\n",
    "\n",
    "* [Gradient Checking Notebook](https://www.flexcompute.com/tidy3d/examples/notebooks/AdjointPlugin2GradientChecking/).\n",
    "\n",
    "* [Inverse Design Notebook](https://www.flexcompute.com/tidy3d/examples/notebooks/AdjointPlugin3InverseDesign/).\n",
    "\n",
    "* [Multi-Objective Gradient Notebook](https://www.flexcompute.com/tidy3d/examples/notebooks/AdjointPlugin4MultiObjective/).\n",
    "\n",
    "* [Boundary Gradients Notebook](https://www.flexcompute.com/tidy3d/examples/notebooks/AdjointPlugin5BoundaryGradients/).\n",
    "\n",
    "* [Grating Coupler Notebook](https://www.flexcompute.com/tidy3d/examples/notebooks/AdjointPlugin6GratingCoupler/).\n",
    "\n",
    "* [Metalens Notebook](https://www.flexcompute.com/tidy3d/examples/notebooks/AdjointPlugin7Metalens/).\n",
    "\n",
    "\n",
    "### Function differentiation\n",
    "\n",
    "The adjoint package enables users to take derivatives of functions that involve a Tidy3D simulation. For a bit of context, let's first talk about what we mean when we talk about differentiating functions in our programs.\n",
    "Say in our program we have programmatically defined a function of one variable $f(x)$. For example:\n",
    "```py\n",
    "def f(x):\n",
    "   return x**2\n",
    "```\n",
    "\n",
    "Now, we wish to evaluate $\\frac{df(x)}{dx}$.\n",
    "\n",
    "If we know $\\frac{df}{dx}$ analytically, this is just a matter of writing a new function to compute this derivative, for example:\n",
    "\n",
    "```py\n",
    "def df(x):\n",
    "    return 2*x\n",
    "```\n",
    "However, many of the more interesting and complex functions tend to compose several sub-functions together, for example\n",
    "$$f(x) = h(y) = h(g(x))$$\n",
    "might be written in a program as\n",
    "\n",
    "```py\n",
    "def f(x):\n",
    "    y = x**2\n",
    "    return 5 * y - y**3\n",
    "```\n",
    "\n",
    "As one can imagine, defining the derivative by hand can quickly become too daunting of a task as the complexity grows.\n",
    "\n",
    "However, we can simplify things greatly with knowledge of the derivatives of the simpler functions that make up $f$.\n",
    "Following the chain rule, we can write the derivative of $f$ above as\n",
    "$$\\frac{df}{dx}=\\frac{dh}{dy}\\frac{dg}{dx}(x)$$\n",
    "\n",
    "Thus, if we know the derivatives of the composite functions $h$ and $g$, we can construct the derivative of $f$ by multiplying all of the derivatives of the composite functions.\n",
    "This idea is straightforwardly generalized to functions of several inputs and outputs, and even functions that can be written more generally as a more complex \"computational graph\" rather than a sequence of operations.\n",
    "\n",
    "### Automatic differentiation\n",
    "\n",
    "The idea of a technique called \"automatic differentiation\" is to provide a way to compute these derivatives of composite functions in programming languages both efficiently and without the user needing to define anything by hand.\n",
    "\n",
    "Automatic differentiation works by defining \"derivative rules\" for each fundamental operation that the user might incorporate in his or her function. For example, derivative rules for `h` and `g`, in the example above may be used to help define the derivative for `f`. When the function is evaluated, all of the derivative information corresponding to each operation in the function are stitched together using the chain rule to construct a derivative for the entire function. Thus, functions of arbitrary complexity can be differentiated without deriving anything beyond just the derivative rules for the most basic operations contained within.\n",
    "\n",
    "This capability is provided by many programming packages, but we chose to utilize one from the [\"jax\"](https://jax.readthedocs.io/en/latest/) package as it provides the flexibility and extendibility we needed for integrating this functionality into Tidy3D.\n",
    "\n",
    "Using `jax`, we may write a function $f$ using most of the fundamental operations in python and `numpy`. In `jax` both the operations and their derivatives are tracked when the function is called. Thus, `jax` gives the option to apply `jax.grad` to this function, which uses all of the derivative information and the chain rule to construct a new function that gives the derivative of the function with respect to its input arguments.\n",
    "\n",
    "This brings us back to the `adjoint` plugin. The point of the `adjoint` plugin is to extend `jax`'s automatic differentiation capability to allow it to track functions **that involve Tidy3D simulations** in their computational graph. In essence, we privode the \"derivative\" of the `tidy3d.web.run()` function, using the adjoint method, to tell jax how to differentiate functions that might involve both the setting up and postprocessing of a tidy3d simulation and its data. The end result is a framework where users can set up modeling and optimizations and utilize jax automatic differentiation for optimization and sensitivity analysis efficiently and without needing to derive a single derivative rule.\n",
    "\n",
    "In his notebook, we will give an overview of how `jax` works for beginners and provide simple example of the plugin. More complex case studies and examples will be provided in other notebooks, linked here:\n",
    "\n",
    "\n",
    "* [Gradient Checking Notebook](https://www.flexcompute.com/tidy3d/examples/notebooks/AdjointPlugin2GradientChecking/).\n",
    "\n",
    "* [Inverse Design Notebook](https://www.flexcompute.com/tidy3d/examples/notebooks/AdjointPlugin3InverseDesign/).\n",
    "\n",
    "* [Multi-Objective Gradient Notebook](https://www.flexcompute.com/tidy3d/examples/notebooks/AdjointPlugin4MultiObjective/).\n",
    "\n",
    "* [Boundary Gradients Notebook](https://www.flexcompute.com/tidy3d/examples/notebooks/AdjointPlugin5BoundaryGradients/).\n",
    "\n",
    "* [Grating Coupler Notebook](https://www.flexcompute.com/tidy3d/examples/notebooks/AdjointPlugin6GratingCoupler/).\n",
    "\n",
    "* [Metalens Notebook](https://www.flexcompute.com/tidy3d/examples/notebooks/AdjointPlugin7Metalens/).\n"
   ]
  },
  {
   "cell_type": "markdown",
   "id": "87d26e12-3c03-432d-9cf4-61f0b03a8608",
   "metadata": {},
   "source": [
    "## Automatic Differentiation using `jax`\n",
    "\n",
    "Before jumping into any Tidy3D simulations, we will give a bit of a primer on using jax for automatic differentiation. For more details, we highly recommend checking out jax's [tutorial on the subject](https://jax.readthedocs.io/en/latest/notebooks/autodiff_cookbook.html), as we'll be covering a lot of the same topics but in less depth.\n",
    "\n",
    "First, we will import `jax` and its `numpy` wrapper, which provides most of the same functionality, but allows derivative tracking.\n",
    "\n",
    "Tip 1: if you run into an obscure error using `jax`, the first thing to check is whether you're using the `jax.numpy` wrapper instead of regular `numpy` in your function, as otherwise you will get errors from `jax` that are not super clear."
   ]
  },
  {
   "cell_type": "code",
   "execution_count": 1,
   "id": "d1ce429f-3183-4f7f-8b16-dda847239742",
   "metadata": {
    "execution": {
     "iopub.execute_input": "2024-03-13T11:30:18.707166Z",
     "iopub.status.busy": "2024-03-13T11:30:18.706891Z",
     "iopub.status.idle": "2024-03-13T11:30:19.170086Z",
     "shell.execute_reply": "2024-03-13T11:30:19.169488Z"
    }
   },
   "outputs": [],
   "source": [
    "import jax\n",
    "import jax.numpy as jnp\n",
    "import matplotlib.pylab as plt\n"
   ]
  },
  {
   "cell_type": "markdown",
   "id": "b5d017ba-6dc9-4cc0-b226-2b3c3438e0d5",
   "metadata": {},
   "source": [
    "Say we have a function $f$ that performs several operations on a single variable.\n",
    "\n",
    "We can define this function `f` in python and also derive its derivative for this simple case, which we write as a function `df`."
   ]
  },
  {
   "cell_type": "code",
   "execution_count": 2,
   "id": "c501ff19-8e46-4aaf-86dd-89a97732dfa0",
   "metadata": {
    "execution": {
     "iopub.execute_input": "2024-03-13T11:30:19.172008Z",
     "iopub.status.busy": "2024-03-13T11:30:19.171849Z",
     "iopub.status.idle": "2024-03-13T11:30:19.174230Z",
     "shell.execute_reply": "2024-03-13T11:30:19.173950Z"
    }
   },
   "outputs": [],
   "source": [
    "def f(x):\n",
    "    return 5 * jnp.sin(x) - x**2 + x\n",
    "\n",
    "\n",
    "def df(x):\n",
    "    return 5 * jnp.cos(x) - 2 * x + 1\n"
   ]
  },
  {
   "cell_type": "markdown",
   "id": "434d1841-45e5-48a3-986c-56e630badd2d",
   "metadata": {},
   "source": [
    "Let's evaluate these functions at several points and plot them."
   ]
  },
  {
   "cell_type": "code",
   "execution_count": 3,
   "id": "237ede5f-0a7d-45cf-927b-dcb2a9b57d9c",
   "metadata": {
    "execution": {
     "iopub.execute_input": "2024-03-13T11:30:19.175750Z",
     "iopub.status.busy": "2024-03-13T11:30:19.175627Z",
     "iopub.status.idle": "2024-03-13T11:30:19.560329Z",
     "shell.execute_reply": "2024-03-13T11:30:19.559911Z"
    }
   },
   "outputs": [
    {
     "name": "stderr",
     "output_type": "stream",
     "text": [
      "No GPU/TPU found, falling back to CPU. (Set TF_CPP_MIN_LOG_LEVEL=0 and rerun for more info.)\n"
     ]
    },
    {
     "data": {
      "image/png": "[encoded data removed]",
      "text/plain": [
       "<Figure size 640x480 with 1 Axes>"
      ]
     },
     "metadata": {},
     "output_type": "display_data"
    }
   ],
   "source": [
    "xs = jnp.linspace(-1, 3, 1001)\n",
    "plt.plot(xs, f(xs), label=\"f(x)\")\n",
    "plt.plot(xs, df(xs), label=\"df/dx(x)\")\n",
    "plt.xlabel(\"x\")\n",
    "plt.legend()\n",
    "plt.show()\n"
   ]
  },
  {
   "cell_type": "markdown",
   "id": "3e9915a8-59e9-4209-bf29-bd21dcda84a3",
   "metadata": {},
   "source": [
    "Now let's use jax to compute the derivative for us and see how it compares to our analytical derivative.\n",
    "\n",
    "We first call `jax.grad(f)`, which returns a new function that can be evaluated at `x` to give the derivative `df/dx(x)`.\n",
    "\n",
    "For more details on `jax.grad` and the various other inputs it can take, refer to its documentation [here](https://jax.readthedocs.io/en/latest/_autosummary/jax.grad.html)."
   ]
  },
  {
   "cell_type": "code",
   "execution_count": 4,
   "id": "f846ded9-26ac-4778-b637-56768b07dd6e",
   "metadata": {
    "execution": {
     "iopub.execute_input": "2024-03-13T11:30:19.562059Z",
     "iopub.status.busy": "2024-03-13T11:30:19.561922Z",
     "iopub.status.idle": "2024-03-13T11:30:19.843670Z",
     "shell.execute_reply": "2024-03-13T11:30:19.843024Z"
    }
   },
   "outputs": [
    {
     "data": {
      "image/png": "[encoded data removed]",
      "text/plain": [
       "<Figure size 640x480 with 1 Axes>"
      ]
     },
     "metadata": {},
     "output_type": "display_data"
    }
   ],
   "source": [
    "# get the gradient as a function of x\n",
    "df_jax = jax.grad(f)\n",
    "\n",
    "# get a set of points to feed the derivative function one by one (for now)\n",
    "xs_jax = jnp.linspace(-1, 3, 21)\n",
    "df_jax_eval = [df_jax(x) for x in xs_jax]\n",
    "\n",
    "plt.plot(xs, f(xs), label=\"f(x)\")\n",
    "plt.plot(xs, df(xs), label=\"df/dx(x) [analytical]\")\n",
    "plt.plot(xs_jax, df_jax_eval, \"k.\", label=\"df/dx(x) [using jax]\")\n",
    "plt.xlabel(\"x\")\n",
    "plt.legend()\n",
    "plt.show()\n"
   ]
  },
  {
   "cell_type": "markdown",
   "id": "be79405a-621a-4170-9799-ef65efc68335",
   "metadata": {},
   "source": [
    "Note: `jax` provides several other useful gradient wrappers, which can be used in different contexts. \n",
    "\n",
    "For example [jax.value_and_grad](https://jax.readthedocs.io/en/latest/_autosummary/jax.value_and_grad.html) returns both the function return value and the gradient value, which is useful to avoid repetitive computation if you need the value as the `jax.grad` call must evaluate `f`."
   ]
  },
  {
   "cell_type": "code",
   "execution_count": 5,
   "id": "9d26f7d1-124b-4e0d-9f34-75cbf4030ad9",
   "metadata": {
    "execution": {
     "iopub.execute_input": "2024-03-13T11:30:19.845562Z",
     "iopub.status.busy": "2024-03-13T11:30:19.845374Z",
     "iopub.status.idle": "2024-03-13T11:30:19.992965Z",
     "shell.execute_reply": "2024-03-13T11:30:19.992477Z"
    }
   },
   "outputs": [
    {
     "data": {
      "image/png": "[encoded data removed]",
      "text/plain": [
       "<Figure size 640x480 with 1 Axes>"
      ]
     },
     "metadata": {},
     "output_type": "display_data"
    }
   ],
   "source": [
    "f_and_df = jax.value_and_grad(f)\n",
    "vals_and_grads = [f_and_df(x) for x in xs_jax]\n",
    "fs, dfs = list(zip(*vals_and_grads))\n",
    "\n",
    "plt.plot(xs_jax, fs, label=\"f(x)\")\n",
    "plt.plot(xs, df(xs), label=\"df/dx(x) [analytical]\")\n",
    "plt.plot(xs_jax, df_jax_eval, \"k.\", label=\"df/dx(x) [using jax]\")\n",
    "plt.xlabel(\"x\")\n",
    "plt.legend()\n",
    "plt.show()\n"
   ]
  },
  {
   "cell_type": "markdown",
   "id": "a727c6f0-b26a-4b3e-9582-148098f136ec",
   "metadata": {},
   "source": [
    "We can also take an elementwise gradient using [jax.vmap](https://jax.readthedocs.io/en/latest/_autosummary/jax.vmap.html), which vectorizes our gradient function."
   ]
  },
  {
   "cell_type": "code",
   "execution_count": 6,
   "id": "9abb7392-9e0c-4cd6-8fd3-6ce78f563fce",
   "metadata": {
    "execution": {
     "iopub.execute_input": "2024-03-13T11:30:19.995017Z",
     "iopub.status.busy": "2024-03-13T11:30:19.994875Z",
     "iopub.status.idle": "2024-03-13T11:30:20.172833Z",
     "shell.execute_reply": "2024-03-13T11:30:20.172419Z"
    }
   },
   "outputs": [
    {
     "data": {
      "image/png": "[encoded data removed]",
      "text/plain": [
       "<Figure size 640x480 with 1 Axes>"
      ]
     },
     "metadata": {},
     "output_type": "display_data"
    }
   ],
   "source": [
    "df_jax_vectorized = jax.vmap(jax.grad(f))\n",
    "\n",
    "# get a set of points to feed the derivative function one by one (for now)\n",
    "df_jax_eval = df_jax_vectorized(xs)\n",
    "\n",
    "plt.plot(xs, f(xs), label=\"f(x)\")\n",
    "plt.plot(xs, df(xs), label=\"df/dx(x) [analytical]\")\n",
    "plt.plot(xs, df_jax_eval, \"k-.\", label=\"df/dx(x) [using jax]\")\n",
    "plt.xlabel(\"x\")\n",
    "plt.legend()\n",
    "plt.show()\n"
   ]
  },
  {
   "cell_type": "markdown",
   "id": "18a7936e-9919-4ace-85bf-d8c14d124649",
   "metadata": {},
   "source": [
    "Before we continue, there are a few things to watch out for when using jax for gradient calculation:\n",
    "\n",
    "1.  `jax.grad` outputs doesn't automatically convert input arguments from `int` to `float`, so avoid passing `int` types to your functions."
   ]
  },
  {
   "cell_type": "code",
   "execution_count": 7,
   "id": "d648c131-b674-49a7-b441-ca6569e6540d",
   "metadata": {
    "execution": {
     "iopub.execute_input": "2024-03-13T11:30:20.174779Z",
     "iopub.status.busy": "2024-03-13T11:30:20.174449Z",
     "iopub.status.idle": "2024-03-13T11:30:20.271627Z",
     "shell.execute_reply": "2024-03-13T11:30:20.270979Z"
    }
   },
   "outputs": [
    {
     "name": "stdout",
     "output_type": "stream",
     "text": [
      "1.7015114\n",
      "TypeError('grad requires real- or complex-valued inputs (input dtype that is a sub-dtype of np.inexact), but got int32. If you want to use Boolean- or integer-valued inputs, use vjp or set allow_int to True.')\n"
     ]
    }
   ],
   "source": [
    "# ok\n",
    "print(df_jax(1.0))\n",
    "\n",
    "# errors\n",
    "try:\n",
    "    df_jax(1)\n",
    "except TypeError as e:\n",
    "    print(repr(e))\n"
   ]
  },
  {
   "cell_type": "markdown",
   "id": "003ef198-e0a2-495f-844e-adeff0563c1d",
   "metadata": {},
   "source": [
    "2. When differentiating with respect to several arguments, you need to tell `jax.grad` which arguments you want to take the derivative with respect to as a tuple in indices. Otherwise it will take the derivative with respect to only the first argument."
   ]
  },
  {
   "cell_type": "code",
   "execution_count": 8,
   "id": "b42164ce-41df-4bb2-8e23-eb11b2a45547",
   "metadata": {
    "execution": {
     "iopub.execute_input": "2024-03-13T11:30:20.273963Z",
     "iopub.status.busy": "2024-03-13T11:30:20.273741Z",
     "iopub.status.idle": "2024-03-13T11:30:20.332357Z",
     "shell.execute_reply": "2024-03-13T11:30:20.331967Z"
    }
   },
   "outputs": [
    {
     "name": "stdout",
     "output_type": "stream",
     "text": [
      "dgdx=1.0\n",
      "dgdx=1.0, dgdy=1.0, dgdz=2.0\n"
     ]
    }
   ],
   "source": [
    "def g(x, y, z):\n",
    "    return x * y + z**2\n",
    "\n",
    "\n",
    "# only gives dg/dx\n",
    "dg = jax.grad(g)\n",
    "dgdx = dg(1.0, 1.0, 1.0)\n",
    "print(f\"dgdx={dgdx}\")\n",
    "\n",
    "# gives derivative w.r.t. all three args\n",
    "dg_all = jax.grad(g, argnums=(0, 1, 2))\n",
    "dgdx, dgdy, dgdz = dg_all(1.0, 1.0, 1.0)\n",
    "print(f\"dgdx={dgdx}, dgdy={dgdy}, dgdz={dgdz}\")\n"
   ]
  },
  {
   "cell_type": "markdown",
   "id": "cbb36cd5-fef1-47d1-b25f-1fb7cc0d882b",
   "metadata": {},
   "source": [
    "## Incorporating Automatic Differentiation in `Tidy3D`\n",
    "\n",
    "With that basic introduction to automatic differentiation using `jax`, we can now show how the `tidy3d.plugins.adjoint`lets us do the same thing but where our functions can now involve setting up, running, and postprocessing a `tidy3d.Simulation`.\n",
    "\n",
    "We'll need to import special `Jax` components from the adjoint plugin for this to work. These components are registered with `jax` so it knows how to handle them in its automatic differentiation pipeline.\n",
    "\n",
    "We'll also need to import a special `web.run()` wrapper from the plugin. This [tidy3d.plugins.adjoint.web.run](../api/_autosummary/tidy3d.plugins.adjoint.web.run.html) function operates the same as `web.run()`, except its derivative rules are defined in the backend using the adjoint method. Thus, `jax` will know how to \"differentiate\" [tidy3d.plugins.adjoint.web.run](../api/_autosummary/tidy3d.plugins.adjoint.web.run.html) and it can be used within a function that we want to take derivatives with respect to.\n",
    "\n",
    "\n",
    "Here is a diagram showing how the input arguments of our function `f` are related to the `JaxSimulation` and how the `JaxSimulationData` output of `tidy3d.plugins.adjoint.web.run` is related to the return value of `f`. This diagram can be a useful reference when moving through this section.\n",
    "\n",
    "<img src=\"img/AdjointPipeline.png\" width=800 alt=\"Diagram of the adjoint pipeline\">\n",
    "\n",
    "### Introducing `JaxSimuation`\n",
    "\n",
    "Now we will show how to set up a very simple function using the adjoint plugin and differentiate it.\n",
    "\n",
    "First, both our `Simulation` and some of its `.structures` may be dependent on the function arguments. Therefore, we need to use a special `Simulation` subclass called [JaxSimulation](../api/_autosummary/tidy3d.plugins.adjoint.JaxSimulation.html).\n",
    "\n",
    "[JaxSimulation](../api/_autosummary/tidy3d.plugins.adjoint.JaxSimulation.html) is just a `jax`-compatible stand in for `Simulation` and behaves almost entirely the same, except for a few important differences:\n",
    "\n",
    "1. it accepts an additional field `.input_structures`. These `input_structures` are tidy3d structures that can depend on the function arguments, and therefore need to be, `jax`-compatible, themselves. Thus, the structures used in this field must be of the `jax`-compatible type [JaxStructure](../api/_autosummary/tidy3d.plugins.adjoint.JaxStructure.html), which itself contains a `.medium` field of type [JaxMedium](../api/_autosummary/tidy3d.plugins.adjoint.JaxMedium.html) and a `.geometry` field that is of type [JaxBox](../api/_autosummary/tidy3d.plugins.adjoint.JaxBox.html). The `center`, `size`, and `permittivity` fields of these components may all depend on the function input arguments and the final gradients of the function will be given with respect to the values these fields.\n",
    "\n",
    "> At the time of publishing, only `JaxStructures` with geometry of `JaxBox` are supported. However, the medium may contain [JaxMedium](../api/_autosummary/tidy3d.plugins.adjoint.JaxMedium.html), [JaxAnisotropicMedium](../api/_autosummary/tidy3d.plugins.adjoint.JaxAnisotropicMedium.html), or [JaxCustomMedium](../api/_autosummary/tidy3d.plugins.adjoint.JaxCustomMedium.html). \n",
    "\n",
    "> Any extraneous `Structures` can be added to the `JaxSimulation.structures` as long as they don't depend on the funciton arguments. These structures will still influence the simulation result as normal, but are \"static\". \n",
    "\n",
    "> The `input_structures` are always assumed to be added *on top of* the existing `.structures`.\n",
    "\n",
    "2. it accepts another additional field `.output_monitors`, which define the set of monitors with corresponding data that the return value of our function will depend on. Note that at the time of writing, only `ModeMonitor` are supported.\n",
    "\n",
    "3. to convert a `JaxSimulation` to a `Simulation`, one may call `sim, info = JaxSimulation.to_simulation()` where the `sim` is the `Simulation` with all `structures` and `monitors` put together and `info` is just a special information container that is needed to reconstruct the `JaxSimulation` from `sim` using `JaxSimulation.from_simulation(sim, info)`.\n",
    "\n",
    "Let us now import these new `Jax` Tidy3d types and use them in an example."
   ]
  },
  {
   "cell_type": "code",
   "execution_count": 9,
   "id": "f304ea94-34df-4741-ab99-87003884eee7",
   "metadata": {
    "execution": {
     "iopub.execute_input": "2024-03-13T11:30:20.334336Z",
     "iopub.status.busy": "2024-03-13T11:30:20.334214Z",
     "iopub.status.idle": "2024-03-13T11:30:21.241215Z",
     "shell.execute_reply": "2024-03-13T11:30:21.240733Z"
    }
   },
   "outputs": [],
   "source": [
    "import tidy3d as td\n",
    "from tidy3d.plugins.adjoint import JaxSimulation, JaxStructure, JaxMedium, JaxBox\n"
   ]
  },
  {
   "cell_type": "markdown",
   "id": "e54cc9fa-b5f2-4f62-b31e-3a0e1fa7acac",
   "metadata": {},
   "source": [
    "### Simulation example\n",
    "\n",
    "In our example, we will set up a function that involves a simulation of transmission through a waveguide in the presence of a scatterer.\n",
    "\n",
    "This scatterer geometry and material properties will depend on the function input arguments.\n",
    "\n",
    "The output of the function will simply be the power transmitted into the 0th order mode.\n",
    "\n",
    "We will then take the gradient of the output of this function (power) with respect to the scatterer geometric and medium properties using `jax`.\n",
    "\n",
    "To start, it can often be helpful to break our function up into a few parts for debugging.\n",
    "\n",
    "Therefore, we will introduce one function to make the `JaxSimulation` given the input arguments and one function to postprocess the result."
   ]
  },
  {
   "cell_type": "code",
   "execution_count": 10,
   "id": "3cbe5188-a552-40db-a1e6-ddb4af0ead63",
   "metadata": {
    "execution": {
     "iopub.execute_input": "2024-03-13T11:30:21.243396Z",
     "iopub.status.busy": "2024-03-13T11:30:21.243165Z",
     "iopub.status.idle": "2024-03-13T11:30:21.247921Z",
     "shell.execute_reply": "2024-03-13T11:30:21.247454Z"
    }
   },
   "outputs": [],
   "source": [
    "def make_simulation(center: float, size: float, eps: float) -> JaxSimulation:\n",
    "    \"\"\"Makes a simulation with a variable scatter width, height, and relative permittivity.\"\"\"\n",
    "\n",
    "    wavelength = 1.0\n",
    "    freq0 = td.C_0 / wavelength\n",
    "    dl = 0.02\n",
    "\n",
    "    # a \"static\" structure\n",
    "    waveguide = td.Structure(\n",
    "        geometry=td.Box(size=(td.inf, 0.3, 0.2)), medium=td.Medium(permittivity=2.0)\n",
    "    )\n",
    "\n",
    "    # our \"forward\" soruce\n",
    "    mode_src = td.ModeSource(\n",
    "        size=(0, 1.5, 1.5),\n",
    "        center=(-0.9, 0, 0),\n",
    "        mode_index=0,\n",
    "        source_time=td.GaussianPulse(freq0=freq0, fwidth=freq0 / 10),\n",
    "        direction=\"+\",\n",
    "    )\n",
    "\n",
    "    # a monitor to store data that our overall function will depend on\n",
    "    mode_mnt = td.ModeMonitor(\n",
    "        size=(0, 1.5, 1.5),\n",
    "        center=(+0.9, 0, 0),\n",
    "        mode_spec=mode_src.mode_spec,\n",
    "        freqs=[freq0],\n",
    "        name=\"mode\",\n",
    "    )\n",
    "\n",
    "    # the structure that depends on the input parameters, which we will differentiate our function w.r.t\n",
    "    scatterer = JaxStructure(\n",
    "        geometry=JaxBox(\n",
    "            center=center,\n",
    "            size=size,\n",
    "        ),\n",
    "        medium=JaxMedium(permittivity=eps),\n",
    "    )\n",
    "\n",
    "    return JaxSimulation(\n",
    "        size=(2, 2, 2),\n",
    "        run_time=1e-12,\n",
    "        structures=[waveguide],\n",
    "        input_structures=[scatterer],\n",
    "        sources=[mode_src],\n",
    "        output_monitors=[mode_mnt],\n",
    "        boundary_spec=td.BoundarySpec.all_sides(td.PML()),\n",
    "        grid_spec=td.GridSpec.uniform(dl=dl),\n",
    "    )\n"
   ]
  },
  {
   "cell_type": "markdown",
   "id": "f4dcb88e-490f-4579-bb7d-4166bd6a3be5",
   "metadata": {},
   "source": [
    "> Note: adding `.monitors` to the `JaxSimulation` will work as intended, but the function being differentiated should not depend on data corresponding to these monitors. This can, however,be useful for debugging, for example by examining field patterns, as the data will still be accessible in the output data.\n",
    "\n",
    "Let's try setting up the simulation and plotting it for starters."
   ]
  },
  {
   "cell_type": "code",
   "execution_count": 11,
   "id": "f4da7dc4-b13b-4c62-8590-4877ed71422a",
   "metadata": {
    "execution": {
     "iopub.execute_input": "2024-03-13T11:30:21.249611Z",
     "iopub.status.busy": "2024-03-13T11:30:21.249427Z",
     "iopub.status.idle": "2024-03-13T11:30:21.489363Z",
     "shell.execute_reply": "2024-03-13T11:30:21.488880Z"
    }
   },
   "outputs": [
    {
     "data": {
      "image/png": "[encoded data removed]",
      "text/plain": [
       "<Figure size 1600x500 with 3 Axes>"
      ]
     },
     "metadata": {},
     "output_type": "display_data"
    }
   ],
   "source": [
    "# starting set of input parameters\n",
    "center0 = (0.0, 0.0, 0.0)\n",
    "size0 = (0.5, 1.0, 1.0)\n",
    "eps0 = 3.0\n",
    "\n",
    "jax_sim = make_simulation(center=center0, size=size0, eps=eps0)\n",
    "_, axes = plt.subplots(1, 3, figsize=(16, 5))\n",
    "\n",
    "# sim, _ = jax_sim.to_simulation()\n",
    "for ax, dim in zip(axes, \"xyz\"):\n",
    "    jax_sim.plot(**{dim: 0}, ax=ax)\n",
    "plt.show()\n"
   ]
  },
  {
   "cell_type": "markdown",
   "id": "a390df41-e293-4dbf-83e0-f5dff8e700cc",
   "metadata": {},
   "source": [
    "### Post-processing the output data\n",
    "\n",
    "After the simulation is run, it returns a [JaxSimulation](../api/_autosummary/tidy3d.plugins.adjoint.JaxSimulation.html), which is a jax-compatible subclass of `SimulationData`. In addition to the `.data` corresponding to the `.monitors` in the `JaxSimulation`, `JaxSimulationData` also stores a `.output_data`, which stores the data corresponding to `JaxSimulation.output_monitors`. It is the `.output_data` that our differentiable function should depend on. These output data objects are also `Jax` subclasses of `Tidy3d` data objects, so their functionality may be slightly different, but overall can be used in the same way.\n",
    "\n",
    "> Note: currently only `.sel()` selection is supported in jax-compatible DataArray objects. So you should use `.sel()` and pass the values you want to select instead of using `.interp()` or `isel()` \n",
    "\n",
    "Let's write a function that will postprocess our `JaxSimulationData` and return the power in the mode amplitude of our output mode monitor."
   ]
  },
  {
   "cell_type": "code",
   "execution_count": 12,
   "id": "5d5c14b9-cb22-4ced-aad8-834b29c5800b",
   "metadata": {
    "execution": {
     "iopub.execute_input": "2024-03-13T11:30:21.491085Z",
     "iopub.status.busy": "2024-03-13T11:30:21.490965Z",
     "iopub.status.idle": "2024-03-13T11:30:21.493685Z",
     "shell.execute_reply": "2024-03-13T11:30:21.493368Z"
    }
   },
   "outputs": [],
   "source": [
    "from tidy3d.plugins.adjoint import JaxSimulationData\n",
    "\n",
    "\n",
    "def compute_power(jax_sim_data: JaxSimulationData) -> float:\n",
    "    \"\"\"Post process the result of the JaxSimulation run to return the power in the mode at index=0.\"\"\"\n",
    "\n",
    "    freq0 = jax_sim_data.simulation.output_monitors[0].freqs[0]\n",
    "    jax_mode_data = jax_sim_data.output_monitor_data[\"mode\"]\n",
    "    mode_amps = jax_mode_data.amps\n",
    "    amp = mode_amps.sel(direction=\"+\", f=freq0, mode_index=0)\n",
    "    return abs(amp) ** 2\n"
   ]
  },
  {
   "cell_type": "markdown",
   "id": "a49d64c6-7591-4b8b-bfa3-d09c1501d4b0",
   "metadata": {},
   "source": [
    "### Defining the tidy3d simulation function for differentiation\n",
    "\n",
    "Next, we can import the `tidy3d.plugins.adjoint.web.run` function and put all the pieces together into a single function to compute the 0th order transmitted power as a function of `center`, `size`, and `eps` (relative permittivty) of the scatterer."
   ]
  },
  {
   "cell_type": "code",
   "execution_count": 13,
   "id": "7257472c-5db1-4b93-8cdb-24b3cc32775d",
   "metadata": {
    "execution": {
     "iopub.execute_input": "2024-03-13T11:30:21.495371Z",
     "iopub.status.busy": "2024-03-13T11:30:21.495237Z",
     "iopub.status.idle": "2024-03-13T11:30:21.497942Z",
     "shell.execute_reply": "2024-03-13T11:30:21.497674Z"
    },
    "tags": []
   },
   "outputs": [],
   "source": [
    "from tidy3d.plugins.adjoint.web import run as run_adjoint\n"
   ]
  },
  {
   "cell_type": "code",
   "execution_count": 14,
   "id": "946493e2-b10a-4824-aef0-2e8f1ec113f1",
   "metadata": {
    "execution": {
     "iopub.execute_input": "2024-03-13T11:30:21.499511Z",
     "iopub.status.busy": "2024-03-13T11:30:21.499366Z",
     "iopub.status.idle": "2024-03-13T11:30:21.501530Z",
     "shell.execute_reply": "2024-03-13T11:30:21.501226Z"
    }
   },
   "outputs": [],
   "source": [
    "def power(center: float, size: float, eps: float) -> float:\n",
    "    \"\"\"Compute power transmitted into 0th order mode given a set of scatterer parameters.\"\"\"\n",
    "    jax_sim = make_simulation(center=center, size=size, eps=eps)\n",
    "    jax_sim_data = run_adjoint(jax_sim, task_name=\"adjoint_power\", verbose=True)\n",
    "    return compute_power(jax_sim_data)\n"
   ]
  },
  {
   "cell_type": "markdown",
   "id": "90ee44c1-38a6-4dba-add5-9b36c43454cb",
   "metadata": {},
   "source": [
    "### Running and differentiating the simulation using `jax`\n",
    "\n",
    "Finally, using the `jax` tools described earlier, we can differentiate this `power` function. \n",
    "\n",
    "For demonstration, let's use `jax.value_and_grad` to both compute the power **and** the gradient w.r.t. each of the 3 input parameters."
   ]
  },
  {
   "cell_type": "code",
   "execution_count": 15,
   "id": "8a6518dd-c5a9-4826-95f6-7a0ed90e2f9a",
   "metadata": {
    "execution": {
     "iopub.execute_input": "2024-03-13T11:30:21.503070Z",
     "iopub.status.busy": "2024-03-13T11:30:21.502867Z",
     "iopub.status.idle": "2024-03-13T11:30:21.504776Z",
     "shell.execute_reply": "2024-03-13T11:30:21.504471Z"
    }
   },
   "outputs": [],
   "source": [
    "d_power = jax.value_and_grad(power, argnums=(0, 1, 2))\n"
   ]
  },
  {
   "cell_type": "markdown",
   "id": "6f787405-1c6e-40b1-81d2-1a64d667e009",
   "metadata": {},
   "source": [
    "We will run this function and assign variables to the power values and the gradients returned.\n",
    "\n",
    "Note that running this will set off **two** separate tasks, one after another, called, `\"adjoint_power_fwd\"` and `\"adjoint_power_adj\"`.\n",
    "\n",
    "The first is evaluating our simulation in \"forward mode\", computing the power and stashing information needed for gradient computation.\n",
    "\n",
    "The second step runs the \"adjoint\" simulation, in which the output monitor is converted to a source and the simulation is re-run.\n",
    "\n",
    "The results of both of these simulations runs are combined behind the scene to tell jax how to compute the gradient for us."
   ]
  },
  {
   "cell_type": "code",
   "execution_count": 16,
   "id": "68f34dce-3504-4dba-8012-436c4ff21ecc",
   "metadata": {
    "execution": {
     "iopub.execute_input": "2024-03-13T11:30:21.506236Z",
     "iopub.status.busy": "2024-03-13T11:30:21.506097Z",
     "iopub.status.idle": "2024-03-13T11:31:10.504192Z",
     "shell.execute_reply": "2024-03-13T11:31:10.503466Z"
    }
   },
   "outputs": [
    {
     "data": {
      "text/html": [
       "<pre style=\"white-space:pre;overflow-x:auto;line-height:normal;font-family:Menlo,'DejaVu Sans Mono',consolas,'Courier New',monospace\"><span style=\"color: #7fbfbf; text-decoration-color: #7fbfbf\">12:30:22 CET </span>Created task <span style=\"color: #008000; text-decoration-color: #008000\">'adjoint_power'</span> with task_id                          \n",
       "<span style=\"color: #7fbfbf; text-decoration-color: #7fbfbf\">             </span><span style=\"color: #008000; text-decoration-color: #008000\">'fdve-10043eda-72b6-45fe-99cb-603363c25559'</span> and task_type <span style=\"color: #008000; text-decoration-color: #008000\">'FDTD'</span>.  \n",
       "</pre>\n"
      ],
      "text/plain": [
       "\u001b[2;36m12:30:22 CET\u001b[0m\u001b[2;36m \u001b[0mCreated task \u001b[32m'adjoint_power'\u001b[0m with task_id                          \n",
       "\u001b[2;36m             \u001b[0m\u001b[32m'fdve-10043eda-72b6-45fe-99cb-603363c25559'\u001b[0m and task_type \u001b[32m'FDTD'\u001b[0m.  \n"
      ]
     },
     "metadata": {},
     "output_type": "display_data"
    },
    {
     "data": {
      "text/html": [
       "<pre style=\"white-space:pre;overflow-x:auto;line-height:normal;font-family:Menlo,'DejaVu Sans Mono',consolas,'Courier New',monospace\"><span style=\"color: #7fbfbf; text-decoration-color: #7fbfbf\">             </span>View task using web UI at                                          \n",
       "<span style=\"color: #7fbfbf; text-decoration-color: #7fbfbf\">             </span><a href=\"https://tidy3d.simulation.cloud/workbench?taskId=fdve-10043eda-72b6-45fe-99cb-603363c25559\" target=\"_blank\"><span style=\"color: #008000; text-decoration-color: #008000\">'https://tidy3d.simulation.cloud/workbench?taskId=fdve-10043eda-72b</span></a>\n",
       "<span style=\"color: #7fbfbf; text-decoration-color: #7fbfbf\">             </span><a href=\"https://tidy3d.simulation.cloud/workbench?taskId=fdve-10043eda-72b6-45fe-99cb-603363c25559\" target=\"_blank\"><span style=\"color: #008000; text-decoration-color: #008000\">6-45fe-99cb-603363c25559'</span></a>.                                         \n",
       "</pre>\n"
      ],
      "text/plain": [
       "\u001b[2;36m            \u001b[0m\u001b[2;36m \u001b[0mView task using web UI at                                          \n",
       "\u001b[2;36m             \u001b[0m\u001b]8;id=469187;https://tidy3d.simulation.cloud/workbench?taskId=fdve-10043eda-72b6-45fe-99cb-603363c25559\u001b\\\u001b[32m'https://tidy3d.simulation.cloud/workbench?\u001b[0m\u001b]8;;\u001b\\\u001b]8;id=564278;https://tidy3d.simulation.cloud/workbench?taskId=fdve-10043eda-72b6-45fe-99cb-603363c25559\u001b\\\u001b[32mtaskId\u001b[0m\u001b]8;;\u001b\\\u001b]8;id=469187;https://tidy3d.simulation.cloud/workbench?taskId=fdve-10043eda-72b6-45fe-99cb-603363c25559\u001b\\\u001b[32m=\u001b[0m\u001b]8;;\u001b\\\u001b]8;id=185041;https://tidy3d.simulation.cloud/workbench?taskId=fdve-10043eda-72b6-45fe-99cb-603363c25559\u001b\\\u001b[32mfdve\u001b[0m\u001b]8;;\u001b\\\u001b]8;id=469187;https://tidy3d.simulation.cloud/workbench?taskId=fdve-10043eda-72b6-45fe-99cb-603363c25559\u001b\\\u001b[32m-10043eda-72b\u001b[0m\u001b]8;;\u001b\\\n",
       "\u001b[2;36m             \u001b[0m\u001b]8;id=469187;https://tidy3d.simulation.cloud/workbench?taskId=fdve-10043eda-72b6-45fe-99cb-603363c25559\u001b\\\u001b[32m6-45fe-99cb-603363c25559'\u001b[0m\u001b]8;;\u001b\\.                                         \n"
      ]
     },
     "metadata": {},
     "output_type": "display_data"
    },
    {
     "data": {
      "application/vnd.jupyter.widget-view+json": {
       "model_id": "21eb92890aac467aa60666202d14d894",
       "version_major": 2,
       "version_minor": 0
      },
      "text/plain": [
       "Output()"
      ]
     },
     "metadata": {},
     "output_type": "display_data"
    },
    {
     "data": {
      "text/html": [
       "<pre style=\"white-space:pre;overflow-x:auto;line-height:normal;font-family:Menlo,'DejaVu Sans Mono',consolas,'Courier New',monospace\"></pre>\n"
      ],
      "text/plain": []
     },
     "metadata": {},
     "output_type": "display_data"
    },
    {
     "data": {
      "text/html": [
       "<pre style=\"white-space:pre;overflow-x:auto;line-height:normal;font-family:Menlo,'DejaVu Sans Mono',consolas,'Courier New',monospace\">\n",
       "</pre>\n"
      ],
      "text/plain": [
       "\n"
      ]
     },
     "metadata": {},
     "output_type": "display_data"
    },
    {
     "data": {
      "application/vnd.jupyter.widget-view+json": {
       "model_id": "1159550bbb1a4f049a278d1e08421eed",
       "version_major": 2,
       "version_minor": 0
      },
      "text/plain": [
       "Output()"
      ]
     },
     "metadata": {},
     "output_type": "display_data"
    },
    {
     "data": {
      "text/html": [
       "<pre style=\"white-space:pre;overflow-x:auto;line-height:normal;font-family:Menlo,'DejaVu Sans Mono',consolas,'Courier New',monospace\"></pre>\n"
      ],
      "text/plain": []
     },
     "metadata": {},
     "output_type": "display_data"
    },
    {
     "data": {
      "text/html": [
       "<pre style=\"white-space:pre;overflow-x:auto;line-height:normal;font-family:Menlo,'DejaVu Sans Mono',consolas,'Courier New',monospace\">\n",
       "</pre>\n"
      ],
      "text/plain": [
       "\n"
      ]
     },
     "metadata": {},
     "output_type": "display_data"
    },
    {
     "data": {
      "text/html": [
       "<pre style=\"white-space:pre;overflow-x:auto;line-height:normal;font-family:Menlo,'DejaVu Sans Mono',consolas,'Courier New',monospace\"><span style=\"color: #7fbfbf; text-decoration-color: #7fbfbf\">12:30:27 CET </span>status = queued                                                    \n",
       "</pre>\n"
      ],
      "text/plain": [
       "\u001b[2;36m12:30:27 CET\u001b[0m\u001b[2;36m \u001b[0mstatus = queued                                                    \n"
      ]
     },
     "metadata": {},
     "output_type": "display_data"
    },
    {
     "data": {
      "application/vnd.jupyter.widget-view+json": {
       "model_id": "86760243d49d47a8b476877a7853a938",
       "version_major": 2,
       "version_minor": 0
      },
      "text/plain": [
       "Output()"
      ]
     },
     "metadata": {},
     "output_type": "display_data"
    },
    {
     "data": {
      "text/html": [
       "<pre style=\"white-space:pre;overflow-x:auto;line-height:normal;font-family:Menlo,'DejaVu Sans Mono',consolas,'Courier New',monospace\"><span style=\"color: #7fbfbf; text-decoration-color: #7fbfbf\">12:30:33 CET </span>status = preprocess                                                \n",
       "</pre>\n"
      ],
      "text/plain": [
       "\u001b[2;36m12:30:33 CET\u001b[0m\u001b[2;36m \u001b[0mstatus = preprocess                                                \n"
      ]
     },
     "metadata": {},
     "output_type": "display_data"
    },
    {
     "data": {
      "text/html": [
       "<pre style=\"white-space:pre;overflow-x:auto;line-height:normal;font-family:Menlo,'DejaVu Sans Mono',consolas,'Courier New',monospace\"></pre>\n"
      ],
      "text/plain": []
     },
     "metadata": {},
     "output_type": "display_data"
    },
    {
     "data": {
      "text/html": [
       "<pre style=\"white-space:pre;overflow-x:auto;line-height:normal;font-family:Menlo,'DejaVu Sans Mono',consolas,'Courier New',monospace\"><span style=\"color: #7fbfbf; text-decoration-color: #7fbfbf\">12:30:34 CET </span>Maximum FlexCredit cost: <span style=\"color: #008080; text-decoration-color: #008080; font-weight: bold\">0.025</span>. Use <span style=\"color: #008000; text-decoration-color: #008000\">'web.real_cost(task_id)'</span> to get\n",
       "<span style=\"color: #7fbfbf; text-decoration-color: #7fbfbf\">             </span>the billed FlexCredit cost after a simulation run.                 \n",
       "</pre>\n"
      ],
      "text/plain": [
       "\u001b[2;36m12:30:34 CET\u001b[0m\u001b[2;36m \u001b[0mMaximum FlexCredit cost: \u001b[1;36m0.025\u001b[0m. Use \u001b[32m'web.real_cost\u001b[0m\u001b[32m(\u001b[0m\u001b[32mtask_id\u001b[0m\u001b[32m)\u001b[0m\u001b[32m'\u001b[0m to get\n",
       "\u001b[2;36m             \u001b[0mthe billed FlexCredit cost after a simulation run.                 \n"
      ]
     },
     "metadata": {},
     "output_type": "display_data"
    },
    {
     "data": {
      "text/html": [
       "<pre style=\"white-space:pre;overflow-x:auto;line-height:normal;font-family:Menlo,'DejaVu Sans Mono',consolas,'Courier New',monospace\"><span style=\"color: #7fbfbf; text-decoration-color: #7fbfbf\">             </span>starting up solver                                                 \n",
       "</pre>\n"
      ],
      "text/plain": [
       "\u001b[2;36m            \u001b[0m\u001b[2;36m \u001b[0mstarting up solver                                                 \n"
      ]
     },
     "metadata": {},
     "output_type": "display_data"
    },
    {
     "data": {
      "text/html": [
       "<pre style=\"white-space:pre;overflow-x:auto;line-height:normal;font-family:Menlo,'DejaVu Sans Mono',consolas,'Courier New',monospace\"><span style=\"color: #7fbfbf; text-decoration-color: #7fbfbf\">12:30:35 CET </span>running solver                                                     \n",
       "</pre>\n"
      ],
      "text/plain": [
       "\u001b[2;36m12:30:35 CET\u001b[0m\u001b[2;36m \u001b[0mrunning solver                                                     \n"
      ]
     },
     "metadata": {},
     "output_type": "display_data"
    },
    {
     "data": {
      "text/html": [
       "<pre style=\"white-space:pre;overflow-x:auto;line-height:normal;font-family:Menlo,'DejaVu Sans Mono',consolas,'Courier New',monospace\"><span style=\"color: #7fbfbf; text-decoration-color: #7fbfbf\">             </span>To cancel the simulation, use <span style=\"color: #008000; text-decoration-color: #008000\">'web.abort(task_id)'</span> or              \n",
       "<span style=\"color: #7fbfbf; text-decoration-color: #7fbfbf\">             </span><span style=\"color: #008000; text-decoration-color: #008000\">'web.delete(task_id)'</span> or abort/delete the task in the web UI.      \n",
       "<span style=\"color: #7fbfbf; text-decoration-color: #7fbfbf\">             </span>Terminating the Python script will not stop the job running on the \n",
       "<span style=\"color: #7fbfbf; text-decoration-color: #7fbfbf\">             </span>cloud.                                                             \n",
       "</pre>\n"
      ],
      "text/plain": [
       "\u001b[2;36m            \u001b[0m\u001b[2;36m \u001b[0mTo cancel the simulation, use \u001b[32m'web.abort\u001b[0m\u001b[32m(\u001b[0m\u001b[32mtask_id\u001b[0m\u001b[32m)\u001b[0m\u001b[32m'\u001b[0m or              \n",
       "\u001b[2;36m             \u001b[0m\u001b[32m'web.delete\u001b[0m\u001b[32m(\u001b[0m\u001b[32mtask_id\u001b[0m\u001b[32m)\u001b[0m\u001b[32m'\u001b[0m or abort/delete the task in the web UI.      \n",
       "\u001b[2;36m             \u001b[0mTerminating the Python script will not stop the job running on the \n",
       "\u001b[2;36m             \u001b[0mcloud.                                                             \n"
      ]
     },
     "metadata": {},
     "output_type": "display_data"
    },
    {
     "data": {
      "application/vnd.jupyter.widget-view+json": {
       "model_id": "8e293b75216a4c7ea091e10f09766cee",
       "version_major": 2,
       "version_minor": 0
      },
      "text/plain": [
       "Output()"
      ]
     },
     "metadata": {},
     "output_type": "display_data"
    },
    {
     "data": {
      "text/html": [
       "<pre style=\"white-space:pre;overflow-x:auto;line-height:normal;font-family:Menlo,'DejaVu Sans Mono',consolas,'Courier New',monospace\"><span style=\"color: #7fbfbf; text-decoration-color: #7fbfbf\">12:30:40 CET </span>early shutoff detected at <span style=\"color: #008080; text-decoration-color: #008080; font-weight: bold\">8</span>%, exiting.                             \n",
       "</pre>\n"
      ],
      "text/plain": [
       "\u001b[2;36m12:30:40 CET\u001b[0m\u001b[2;36m \u001b[0mearly shutoff detected at \u001b[1;36m8\u001b[0m%, exiting.                             \n"
      ]
     },
     "metadata": {},
     "output_type": "display_data"
    },
    {
     "data": {
      "text/html": [
       "<pre style=\"white-space:pre;overflow-x:auto;line-height:normal;font-family:Menlo,'DejaVu Sans Mono',consolas,'Courier New',monospace\"></pre>\n"
      ],
      "text/plain": []
     },
     "metadata": {},
     "output_type": "display_data"
    },
    {
     "data": {
      "text/html": [
       "<pre style=\"white-space:pre;overflow-x:auto;line-height:normal;font-family:Menlo,'DejaVu Sans Mono',consolas,'Courier New',monospace\">\n",
       "</pre>\n"
      ],
      "text/plain": [
       "\n"
      ]
     },
     "metadata": {},
     "output_type": "display_data"
    },
    {
     "data": {
      "text/html": [
       "<pre style=\"white-space:pre;overflow-x:auto;line-height:normal;font-family:Menlo,'DejaVu Sans Mono',consolas,'Courier New',monospace\"><span style=\"color: #7fbfbf; text-decoration-color: #7fbfbf\">12:30:41 CET </span>status = postprocess                                               \n",
       "</pre>\n"
      ],
      "text/plain": [
       "\u001b[2;36m12:30:41 CET\u001b[0m\u001b[2;36m \u001b[0mstatus = postprocess                                               \n"
      ]
     },
     "metadata": {},
     "output_type": "display_data"
    },
    {
     "data": {
      "application/vnd.jupyter.widget-view+json": {
       "model_id": "c167eaf712114d789aa042cb8b31bd42",
       "version_major": 2,
       "version_minor": 0
      },
      "text/plain": [
       "Output()"
      ]
     },
     "metadata": {},
     "output_type": "display_data"
    },
    {
     "data": {
      "text/html": [
       "<pre style=\"white-space:pre;overflow-x:auto;line-height:normal;font-family:Menlo,'DejaVu Sans Mono',consolas,'Courier New',monospace\"><span style=\"color: #7fbfbf; text-decoration-color: #7fbfbf\">12:30:46 CET </span>status = success                                                   \n",
       "</pre>\n"
      ],
      "text/plain": [
       "\u001b[2;36m12:30:46 CET\u001b[0m\u001b[2;36m \u001b[0mstatus = success                                                   \n"
      ]
     },
     "metadata": {},
     "output_type": "display_data"
    },
    {
     "data": {
      "text/html": [
       "<pre style=\"white-space:pre;overflow-x:auto;line-height:normal;font-family:Menlo,'DejaVu Sans Mono',consolas,'Courier New',monospace\"></pre>\n"
      ],
      "text/plain": []
     },
     "metadata": {},
     "output_type": "display_data"
    },
    {
     "data": {
      "text/html": [
       "<pre style=\"white-space:pre;overflow-x:auto;line-height:normal;font-family:Menlo,'DejaVu Sans Mono',consolas,'Courier New',monospace\"><span style=\"color: #7fbfbf; text-decoration-color: #7fbfbf\">             </span>View simulation result at                                          \n",
       "<span style=\"color: #7fbfbf; text-decoration-color: #7fbfbf\">             </span><a href=\"https://tidy3d.simulation.cloud/workbench?taskId=fdve-10043eda-72b6-45fe-99cb-603363c25559\" target=\"_blank\"><span style=\"color: #000080; text-decoration-color: #000080; text-decoration: underline\">'https://tidy3d.simulation.cloud/workbench?taskId=fdve-10043eda-72b</span></a>\n",
       "<span style=\"color: #7fbfbf; text-decoration-color: #7fbfbf\">             </span><a href=\"https://tidy3d.simulation.cloud/workbench?taskId=fdve-10043eda-72b6-45fe-99cb-603363c25559\" target=\"_blank\"><span style=\"color: #000080; text-decoration-color: #000080; text-decoration: underline\">6-45fe-99cb-603363c25559'</span></a><span style=\"color: #000080; text-decoration-color: #000080; text-decoration: underline\">.</span>                                         \n",
       "</pre>\n"
      ],
      "text/plain": [
       "\u001b[2;36m            \u001b[0m\u001b[2;36m \u001b[0mView simulation result at                                          \n",
       "\u001b[2;36m             \u001b[0m\u001b]8;id=852692;https://tidy3d.simulation.cloud/workbench?taskId=fdve-10043eda-72b6-45fe-99cb-603363c25559\u001b\\\u001b[4;34m'https://tidy3d.simulation.cloud/workbench?\u001b[0m\u001b]8;;\u001b\\\u001b]8;id=282390;https://tidy3d.simulation.cloud/workbench?taskId=fdve-10043eda-72b6-45fe-99cb-603363c25559\u001b\\\u001b[4;34mtaskId\u001b[0m\u001b]8;;\u001b\\\u001b]8;id=852692;https://tidy3d.simulation.cloud/workbench?taskId=fdve-10043eda-72b6-45fe-99cb-603363c25559\u001b\\\u001b[4;34m=\u001b[0m\u001b]8;;\u001b\\\u001b]8;id=408679;https://tidy3d.simulation.cloud/workbench?taskId=fdve-10043eda-72b6-45fe-99cb-603363c25559\u001b\\\u001b[4;34mfdve\u001b[0m\u001b]8;;\u001b\\\u001b]8;id=852692;https://tidy3d.simulation.cloud/workbench?taskId=fdve-10043eda-72b6-45fe-99cb-603363c25559\u001b\\\u001b[4;34m-10043eda-72b\u001b[0m\u001b]8;;\u001b\\\n",
       "\u001b[2;36m             \u001b[0m\u001b]8;id=852692;https://tidy3d.simulation.cloud/workbench?taskId=fdve-10043eda-72b6-45fe-99cb-603363c25559\u001b\\\u001b[4;34m6-45fe-99cb-603363c25559'\u001b[0m\u001b]8;;\u001b\\\u001b[4;34m.\u001b[0m                                         \n"
      ]
     },
     "metadata": {},
     "output_type": "display_data"
    },
    {
     "data": {
      "application/vnd.jupyter.widget-view+json": {
       "model_id": "70414771999f4d8eb8d52858c7d65abd",
       "version_major": 2,
       "version_minor": 0
      },
      "text/plain": [
       "Output()"
      ]
     },
     "metadata": {},
     "output_type": "display_data"
    },
    {
     "data": {
      "text/html": [
       "<pre style=\"white-space:pre;overflow-x:auto;line-height:normal;font-family:Menlo,'DejaVu Sans Mono',consolas,'Courier New',monospace\"></pre>\n"
      ],
      "text/plain": []
     },
     "metadata": {},
     "output_type": "display_data"
    },
    {
     "data": {
      "text/html": [
       "<pre style=\"white-space:pre;overflow-x:auto;line-height:normal;font-family:Menlo,'DejaVu Sans Mono',consolas,'Courier New',monospace\">\n",
       "</pre>\n"
      ],
      "text/plain": [
       "\n"
      ]
     },
     "metadata": {},
     "output_type": "display_data"
    },
    {
     "data": {
      "text/html": [
       "<pre style=\"white-space:pre;overflow-x:auto;line-height:normal;font-family:Menlo,'DejaVu Sans Mono',consolas,'Courier New',monospace\"><span style=\"color: #7fbfbf; text-decoration-color: #7fbfbf\">12:30:48 CET </span>loading simulation from simulation_data.hdf5                       \n",
       "</pre>\n"
      ],
      "text/plain": [
       "\u001b[2;36m12:30:48 CET\u001b[0m\u001b[2;36m \u001b[0mloading simulation from simulation_data.hdf5                       \n"
      ]
     },
     "metadata": {},
     "output_type": "display_data"
    },
    {
     "data": {
      "text/html": [
       "<pre style=\"white-space:pre;overflow-x:auto;line-height:normal;font-family:Menlo,'DejaVu Sans Mono',consolas,'Courier New',monospace\"><span style=\"color: #7fbfbf; text-decoration-color: #7fbfbf\">             </span><span style=\"color: #800000; text-decoration-color: #800000\">WARNING: Monitor data requires </span><span style=\"color: #008000; text-decoration-color: #008000\">'grid_expanded'</span><span style=\"color: #800000; text-decoration-color: #800000\"> to be defined to    </span>\n",
       "<span style=\"color: #7fbfbf; text-decoration-color: #7fbfbf\">             </span><span style=\"color: #800000; text-decoration-color: #800000\">compute values like flux, Poynting and dot product with other data.</span>\n",
       "</pre>\n"
      ],
      "text/plain": [
       "\u001b[2;36m            \u001b[0m\u001b[2;36m \u001b[0m\u001b[31mWARNING: Monitor data requires \u001b[0m\u001b[32m'grid_expanded'\u001b[0m\u001b[31m to be defined to    \u001b[0m\n",
       "\u001b[2;36m             \u001b[0m\u001b[31mcompute values like flux, Poynting and dot product with other data.\u001b[0m\n"
      ]
     },
     "metadata": {},
     "output_type": "display_data"
    },
    {
     "data": {
      "text/html": [
       "<pre style=\"white-space:pre;overflow-x:auto;line-height:normal;font-family:Menlo,'DejaVu Sans Mono',consolas,'Courier New',monospace\"><span style=\"color: #7fbfbf; text-decoration-color: #7fbfbf\">             </span><span style=\"color: #800000; text-decoration-color: #800000\">WARNING: Monitor data requires </span><span style=\"color: #008000; text-decoration-color: #008000\">'grid_expanded'</span><span style=\"color: #800000; text-decoration-color: #800000\"> to be defined to    </span>\n",
       "<span style=\"color: #7fbfbf; text-decoration-color: #7fbfbf\">             </span><span style=\"color: #800000; text-decoration-color: #800000\">compute values like flux, Poynting and dot product with other data.</span>\n",
       "</pre>\n"
      ],
      "text/plain": [
       "\u001b[2;36m            \u001b[0m\u001b[2;36m \u001b[0m\u001b[31mWARNING: Monitor data requires \u001b[0m\u001b[32m'grid_expanded'\u001b[0m\u001b[31m to be defined to    \u001b[0m\n",
       "\u001b[2;36m             \u001b[0m\u001b[31mcompute values like flux, Poynting and dot product with other data.\u001b[0m\n"
      ]
     },
     "metadata": {},
     "output_type": "display_data"
    },
    {
     "data": {
      "text/html": [
       "<pre style=\"white-space:pre;overflow-x:auto;line-height:normal;font-family:Menlo,'DejaVu Sans Mono',consolas,'Courier New',monospace\"><span style=\"color: #7fbfbf; text-decoration-color: #7fbfbf\">             </span><span style=\"color: #800000; text-decoration-color: #800000\">WARNING: Monitor data requires </span><span style=\"color: #008000; text-decoration-color: #008000\">'grid_expanded'</span><span style=\"color: #800000; text-decoration-color: #800000\"> to be defined to    </span>\n",
       "<span style=\"color: #7fbfbf; text-decoration-color: #7fbfbf\">             </span><span style=\"color: #800000; text-decoration-color: #800000\">compute values like flux, Poynting and dot product with other data.</span>\n",
       "</pre>\n"
      ],
      "text/plain": [
       "\u001b[2;36m            \u001b[0m\u001b[2;36m \u001b[0m\u001b[31mWARNING: Monitor data requires \u001b[0m\u001b[32m'grid_expanded'\u001b[0m\u001b[31m to be defined to    \u001b[0m\n",
       "\u001b[2;36m             \u001b[0m\u001b[31mcompute values like flux, Poynting and dot product with other data.\u001b[0m\n"
      ]
     },
     "metadata": {},
     "output_type": "display_data"
    },
    {
     "data": {
      "text/html": [
       "<pre style=\"white-space:pre;overflow-x:auto;line-height:normal;font-family:Menlo,'DejaVu Sans Mono',consolas,'Courier New',monospace\"><span style=\"color: #7fbfbf; text-decoration-color: #7fbfbf\">             </span><span style=\"color: #800000; text-decoration-color: #800000\">WARNING: Monitor data requires </span><span style=\"color: #008000; text-decoration-color: #008000\">'grid_expanded'</span><span style=\"color: #800000; text-decoration-color: #800000\"> to be defined to    </span>\n",
       "<span style=\"color: #7fbfbf; text-decoration-color: #7fbfbf\">             </span><span style=\"color: #800000; text-decoration-color: #800000\">compute values like flux, Poynting and dot product with other data.</span>\n",
       "</pre>\n"
      ],
      "text/plain": [
       "\u001b[2;36m            \u001b[0m\u001b[2;36m \u001b[0m\u001b[31mWARNING: Monitor data requires \u001b[0m\u001b[32m'grid_expanded'\u001b[0m\u001b[31m to be defined to    \u001b[0m\n",
       "\u001b[2;36m             \u001b[0m\u001b[31mcompute values like flux, Poynting and dot product with other data.\u001b[0m\n"
      ]
     },
     "metadata": {},
     "output_type": "display_data"
    },
    {
     "data": {
      "text/html": [
       "<pre style=\"white-space:pre;overflow-x:auto;line-height:normal;font-family:Menlo,'DejaVu Sans Mono',consolas,'Courier New',monospace\"><span style=\"color: #7fbfbf; text-decoration-color: #7fbfbf\">12:30:49 CET </span>Created task <span style=\"color: #008000; text-decoration-color: #008000\">'adjoint_power_adj'</span> with task_id                      \n",
       "<span style=\"color: #7fbfbf; text-decoration-color: #7fbfbf\">             </span><span style=\"color: #008000; text-decoration-color: #008000\">'fdve-2159c212-b30b-4b27-8ca1-2337ed7916ed'</span> and task_type <span style=\"color: #008000; text-decoration-color: #008000\">'FDTD'</span>.  \n",
       "</pre>\n"
      ],
      "text/plain": [
       "\u001b[2;36m12:30:49 CET\u001b[0m\u001b[2;36m \u001b[0mCreated task \u001b[32m'adjoint_power_adj'\u001b[0m with task_id                      \n",
       "\u001b[2;36m             \u001b[0m\u001b[32m'fdve-2159c212-b30b-4b27-8ca1-2337ed7916ed'\u001b[0m and task_type \u001b[32m'FDTD'\u001b[0m.  \n"
      ]
     },
     "metadata": {},
     "output_type": "display_data"
    },
    {
     "data": {
      "text/html": [
       "<pre style=\"white-space:pre;overflow-x:auto;line-height:normal;font-family:Menlo,'DejaVu Sans Mono',consolas,'Courier New',monospace\"><span style=\"color: #7fbfbf; text-decoration-color: #7fbfbf\">             </span>View task using web UI at                                          \n",
       "<span style=\"color: #7fbfbf; text-decoration-color: #7fbfbf\">             </span><a href=\"https://tidy3d.simulation.cloud/workbench?taskId=fdve-2159c212-b30b-4b27-8ca1-2337ed7916ed\" target=\"_blank\"><span style=\"color: #008000; text-decoration-color: #008000\">'https://tidy3d.simulation.cloud/workbench?taskId=fdve-2159c212-b30</span></a>\n",
       "<span style=\"color: #7fbfbf; text-decoration-color: #7fbfbf\">             </span><a href=\"https://tidy3d.simulation.cloud/workbench?taskId=fdve-2159c212-b30b-4b27-8ca1-2337ed7916ed\" target=\"_blank\"><span style=\"color: #008000; text-decoration-color: #008000\">b-4b27-8ca1-2337ed7916ed'</span></a>.                                         \n",
       "</pre>\n"
      ],
      "text/plain": [
       "\u001b[2;36m            \u001b[0m\u001b[2;36m \u001b[0mView task using web UI at                                          \n",
       "\u001b[2;36m             \u001b[0m\u001b]8;id=319087;https://tidy3d.simulation.cloud/workbench?taskId=fdve-2159c212-b30b-4b27-8ca1-2337ed7916ed\u001b\\\u001b[32m'https://tidy3d.simulation.cloud/workbench?\u001b[0m\u001b]8;;\u001b\\\u001b]8;id=261800;https://tidy3d.simulation.cloud/workbench?taskId=fdve-2159c212-b30b-4b27-8ca1-2337ed7916ed\u001b\\\u001b[32mtaskId\u001b[0m\u001b]8;;\u001b\\\u001b]8;id=319087;https://tidy3d.simulation.cloud/workbench?taskId=fdve-2159c212-b30b-4b27-8ca1-2337ed7916ed\u001b\\\u001b[32m=\u001b[0m\u001b]8;;\u001b\\\u001b]8;id=535801;https://tidy3d.simulation.cloud/workbench?taskId=fdve-2159c212-b30b-4b27-8ca1-2337ed7916ed\u001b\\\u001b[32mfdve\u001b[0m\u001b]8;;\u001b\\\u001b]8;id=319087;https://tidy3d.simulation.cloud/workbench?taskId=fdve-2159c212-b30b-4b27-8ca1-2337ed7916ed\u001b\\\u001b[32m-2159c212-b30\u001b[0m\u001b]8;;\u001b\\\n",
       "\u001b[2;36m             \u001b[0m\u001b]8;id=319087;https://tidy3d.simulation.cloud/workbench?taskId=fdve-2159c212-b30b-4b27-8ca1-2337ed7916ed\u001b\\\u001b[32mb-4b27-8ca1-2337ed7916ed'\u001b[0m\u001b]8;;\u001b\\.                                         \n"
      ]
     },
     "metadata": {},
     "output_type": "display_data"
    },
    {
     "data": {
      "application/vnd.jupyter.widget-view+json": {
       "model_id": "bb255937b67741ac85666dddb3b9ebd0",
       "version_major": 2,
       "version_minor": 0
      },
      "text/plain": [
       "Output()"
      ]
     },
     "metadata": {},
     "output_type": "display_data"
    },
    {
     "data": {
      "text/html": [
       "<pre style=\"white-space:pre;overflow-x:auto;line-height:normal;font-family:Menlo,'DejaVu Sans Mono',consolas,'Courier New',monospace\"></pre>\n"
      ],
      "text/plain": []
     },
     "metadata": {},
     "output_type": "display_data"
    },
    {
     "data": {
      "text/html": [
       "<pre style=\"white-space:pre;overflow-x:auto;line-height:normal;font-family:Menlo,'DejaVu Sans Mono',consolas,'Courier New',monospace\">\n",
       "</pre>\n"
      ],
      "text/plain": [
       "\n"
      ]
     },
     "metadata": {},
     "output_type": "display_data"
    },
    {
     "data": {
      "application/vnd.jupyter.widget-view+json": {
       "model_id": "1768aa92d10f4543b4dc43f33b1f213f",
       "version_major": 2,
       "version_minor": 0
      },
      "text/plain": [
       "Output()"
      ]
     },
     "metadata": {},
     "output_type": "display_data"
    },
    {
     "data": {
      "text/html": [
       "<pre style=\"white-space:pre;overflow-x:auto;line-height:normal;font-family:Menlo,'DejaVu Sans Mono',consolas,'Courier New',monospace\"></pre>\n"
      ],
      "text/plain": []
     },
     "metadata": {},
     "output_type": "display_data"
    },
    {
     "data": {
      "text/html": [
       "<pre style=\"white-space:pre;overflow-x:auto;line-height:normal;font-family:Menlo,'DejaVu Sans Mono',consolas,'Courier New',monospace\">\n",
       "</pre>\n"
      ],
      "text/plain": [
       "\n"
      ]
     },
     "metadata": {},
     "output_type": "display_data"
    },
    {
     "data": {
      "text/html": [
       "<pre style=\"white-space:pre;overflow-x:auto;line-height:normal;font-family:Menlo,'DejaVu Sans Mono',consolas,'Courier New',monospace\"><span style=\"color: #7fbfbf; text-decoration-color: #7fbfbf\">12:30:53 CET </span>status = queued                                                    \n",
       "</pre>\n"
      ],
      "text/plain": [
       "\u001b[2;36m12:30:53 CET\u001b[0m\u001b[2;36m \u001b[0mstatus = queued                                                    \n"
      ]
     },
     "metadata": {},
     "output_type": "display_data"
    },
    {
     "data": {
      "application/vnd.jupyter.widget-view+json": {
       "model_id": "cb5b4201b828423996f668d3223ef565",
       "version_major": 2,
       "version_minor": 0
      },
      "text/plain": [
       "Output()"
      ]
     },
     "metadata": {},
     "output_type": "display_data"
    },
    {
     "data": {
      "text/html": [
       "<pre style=\"white-space:pre;overflow-x:auto;line-height:normal;font-family:Menlo,'DejaVu Sans Mono',consolas,'Courier New',monospace\"><span style=\"color: #7fbfbf; text-decoration-color: #7fbfbf\">12:30:57 CET </span>status = preprocess                                                \n",
       "</pre>\n"
      ],
      "text/plain": [
       "\u001b[2;36m12:30:57 CET\u001b[0m\u001b[2;36m \u001b[0mstatus = preprocess                                                \n"
      ]
     },
     "metadata": {},
     "output_type": "display_data"
    },
    {
     "data": {
      "text/html": [
       "<pre style=\"white-space:pre;overflow-x:auto;line-height:normal;font-family:Menlo,'DejaVu Sans Mono',consolas,'Courier New',monospace\"></pre>\n"
      ],
      "text/plain": []
     },
     "metadata": {},
     "output_type": "display_data"
    },
    {
     "data": {
      "text/html": [
       "<pre style=\"white-space:pre;overflow-x:auto;line-height:normal;font-family:Menlo,'DejaVu Sans Mono',consolas,'Courier New',monospace\"><span style=\"color: #7fbfbf; text-decoration-color: #7fbfbf\">12:30:58 CET </span>Maximum FlexCredit cost: <span style=\"color: #008080; text-decoration-color: #008080; font-weight: bold\">0.057</span>. Use <span style=\"color: #008000; text-decoration-color: #008000\">'web.real_cost(task_id)'</span> to get\n",
       "<span style=\"color: #7fbfbf; text-decoration-color: #7fbfbf\">             </span>the billed FlexCredit cost after a simulation run.                 \n",
       "</pre>\n"
      ],
      "text/plain": [
       "\u001b[2;36m12:30:58 CET\u001b[0m\u001b[2;36m \u001b[0mMaximum FlexCredit cost: \u001b[1;36m0.057\u001b[0m. Use \u001b[32m'web.real_cost\u001b[0m\u001b[32m(\u001b[0m\u001b[32mtask_id\u001b[0m\u001b[32m)\u001b[0m\u001b[32m'\u001b[0m to get\n",
       "\u001b[2;36m             \u001b[0mthe billed FlexCredit cost after a simulation run.                 \n"
      ]
     },
     "metadata": {},
     "output_type": "display_data"
    },
    {
     "data": {
      "text/html": [
       "<pre style=\"white-space:pre;overflow-x:auto;line-height:normal;font-family:Menlo,'DejaVu Sans Mono',consolas,'Courier New',monospace\"><span style=\"color: #7fbfbf; text-decoration-color: #7fbfbf\">             </span>starting up solver                                                 \n",
       "</pre>\n"
      ],
      "text/plain": [
       "\u001b[2;36m            \u001b[0m\u001b[2;36m \u001b[0mstarting up solver                                                 \n"
      ]
     },
     "metadata": {},
     "output_type": "display_data"
    },
    {
     "data": {
      "text/html": [
       "<pre style=\"white-space:pre;overflow-x:auto;line-height:normal;font-family:Menlo,'DejaVu Sans Mono',consolas,'Courier New',monospace\"><span style=\"color: #7fbfbf; text-decoration-color: #7fbfbf\">12:30:59 CET </span>running solver                                                     \n",
       "</pre>\n"
      ],
      "text/plain": [
       "\u001b[2;36m12:30:59 CET\u001b[0m\u001b[2;36m \u001b[0mrunning solver                                                     \n"
      ]
     },
     "metadata": {},
     "output_type": "display_data"
    },
    {
     "data": {
      "text/html": [
       "<pre style=\"white-space:pre;overflow-x:auto;line-height:normal;font-family:Menlo,'DejaVu Sans Mono',consolas,'Courier New',monospace\"><span style=\"color: #7fbfbf; text-decoration-color: #7fbfbf\">             </span>To cancel the simulation, use <span style=\"color: #008000; text-decoration-color: #008000\">'web.abort(task_id)'</span> or              \n",
       "<span style=\"color: #7fbfbf; text-decoration-color: #7fbfbf\">             </span><span style=\"color: #008000; text-decoration-color: #008000\">'web.delete(task_id)'</span> or abort/delete the task in the web UI.      \n",
       "<span style=\"color: #7fbfbf; text-decoration-color: #7fbfbf\">             </span>Terminating the Python script will not stop the job running on the \n",
       "<span style=\"color: #7fbfbf; text-decoration-color: #7fbfbf\">             </span>cloud.                                                             \n",
       "</pre>\n"
      ],
      "text/plain": [
       "\u001b[2;36m            \u001b[0m\u001b[2;36m \u001b[0mTo cancel the simulation, use \u001b[32m'web.abort\u001b[0m\u001b[32m(\u001b[0m\u001b[32mtask_id\u001b[0m\u001b[32m)\u001b[0m\u001b[32m'\u001b[0m or              \n",
       "\u001b[2;36m             \u001b[0m\u001b[32m'web.delete\u001b[0m\u001b[32m(\u001b[0m\u001b[32mtask_id\u001b[0m\u001b[32m)\u001b[0m\u001b[32m'\u001b[0m or abort/delete the task in the web UI.      \n",
       "\u001b[2;36m             \u001b[0mTerminating the Python script will not stop the job running on the \n",
       "\u001b[2;36m             \u001b[0mcloud.                                                             \n"
      ]
     },
     "metadata": {},
     "output_type": "display_data"
    },
    {
     "data": {
      "application/vnd.jupyter.widget-view+json": {
       "model_id": "785a26345cfc42969aa286426d727c4b",
       "version_major": 2,
       "version_minor": 0
      },
      "text/plain": [
       "Output()"
      ]
     },
     "metadata": {},
     "output_type": "display_data"
    },
    {
     "data": {
      "text/html": [
       "<pre style=\"white-space:pre;overflow-x:auto;line-height:normal;font-family:Menlo,'DejaVu Sans Mono',consolas,'Courier New',monospace\"><span style=\"color: #7fbfbf; text-decoration-color: #7fbfbf\">12:31:06 CET </span>early shutoff detected at <span style=\"color: #008080; text-decoration-color: #008080; font-weight: bold\">4</span>%, exiting.                             \n",
       "</pre>\n"
      ],
      "text/plain": [
       "\u001b[2;36m12:31:06 CET\u001b[0m\u001b[2;36m \u001b[0mearly shutoff detected at \u001b[1;36m4\u001b[0m%, exiting.                             \n"
      ]
     },
     "metadata": {},
     "output_type": "display_data"
    },
    {
     "data": {
      "text/html": [
       "<pre style=\"white-space:pre;overflow-x:auto;line-height:normal;font-family:Menlo,'DejaVu Sans Mono',consolas,'Courier New',monospace\"></pre>\n"
      ],
      "text/plain": []
     },
     "metadata": {},
     "output_type": "display_data"
    },
    {
     "data": {
      "text/html": [
       "<pre style=\"white-space:pre;overflow-x:auto;line-height:normal;font-family:Menlo,'DejaVu Sans Mono',consolas,'Courier New',monospace\">\n",
       "</pre>\n"
      ],
      "text/plain": [
       "\n"
      ]
     },
     "metadata": {},
     "output_type": "display_data"
    },
    {
     "data": {
      "text/html": [
       "<pre style=\"white-space:pre;overflow-x:auto;line-height:normal;font-family:Menlo,'DejaVu Sans Mono',consolas,'Courier New',monospace\"><span style=\"color: #7fbfbf; text-decoration-color: #7fbfbf\">             </span>status = postprocess                                               \n",
       "</pre>\n"
      ],
      "text/plain": [
       "\u001b[2;36m            \u001b[0m\u001b[2;36m \u001b[0mstatus = postprocess                                               \n"
      ]
     },
     "metadata": {},
     "output_type": "display_data"
    },
    {
     "data": {
      "application/vnd.jupyter.widget-view+json": {
       "model_id": "db3c8ca561104312bc8e0665d4ea272b",
       "version_major": 2,
       "version_minor": 0
      },
      "text/plain": [
       "Output()"
      ]
     },
     "metadata": {},
     "output_type": "display_data"
    },
    {
     "data": {
      "text/html": [
       "<pre style=\"white-space:pre;overflow-x:auto;line-height:normal;font-family:Menlo,'DejaVu Sans Mono',consolas,'Courier New',monospace\"><span style=\"color: #7fbfbf; text-decoration-color: #7fbfbf\">12:31:08 CET </span>status = success                                                   \n",
       "</pre>\n"
      ],
      "text/plain": [
       "\u001b[2;36m12:31:08 CET\u001b[0m\u001b[2;36m \u001b[0mstatus = success                                                   \n"
      ]
     },
     "metadata": {},
     "output_type": "display_data"
    },
    {
     "data": {
      "text/html": [
       "<pre style=\"white-space:pre;overflow-x:auto;line-height:normal;font-family:Menlo,'DejaVu Sans Mono',consolas,'Courier New',monospace\"></pre>\n"
      ],
      "text/plain": []
     },
     "metadata": {},
     "output_type": "display_data"
    },
    {
     "data": {
      "text/html": [
       "<pre style=\"white-space:pre;overflow-x:auto;line-height:normal;font-family:Menlo,'DejaVu Sans Mono',consolas,'Courier New',monospace\"><span style=\"color: #7fbfbf; text-decoration-color: #7fbfbf\">             </span>View simulation result at                                          \n",
       "<span style=\"color: #7fbfbf; text-decoration-color: #7fbfbf\">             </span><a href=\"https://tidy3d.simulation.cloud/workbench?taskId=fdve-2159c212-b30b-4b27-8ca1-2337ed7916ed\" target=\"_blank\"><span style=\"color: #000080; text-decoration-color: #000080; text-decoration: underline\">'https://tidy3d.simulation.cloud/workbench?taskId=fdve-2159c212-b30</span></a>\n",
       "<span style=\"color: #7fbfbf; text-decoration-color: #7fbfbf\">             </span><a href=\"https://tidy3d.simulation.cloud/workbench?taskId=fdve-2159c212-b30b-4b27-8ca1-2337ed7916ed\" target=\"_blank\"><span style=\"color: #000080; text-decoration-color: #000080; text-decoration: underline\">b-4b27-8ca1-2337ed7916ed'</span></a><span style=\"color: #000080; text-decoration-color: #000080; text-decoration: underline\">.</span>                                         \n",
       "</pre>\n"
      ],
      "text/plain": [
       "\u001b[2;36m            \u001b[0m\u001b[2;36m \u001b[0mView simulation result at                                          \n",
       "\u001b[2;36m             \u001b[0m\u001b]8;id=161080;https://tidy3d.simulation.cloud/workbench?taskId=fdve-2159c212-b30b-4b27-8ca1-2337ed7916ed\u001b\\\u001b[4;34m'https://tidy3d.simulation.cloud/workbench?\u001b[0m\u001b]8;;\u001b\\\u001b]8;id=120407;https://tidy3d.simulation.cloud/workbench?taskId=fdve-2159c212-b30b-4b27-8ca1-2337ed7916ed\u001b\\\u001b[4;34mtaskId\u001b[0m\u001b]8;;\u001b\\\u001b]8;id=161080;https://tidy3d.simulation.cloud/workbench?taskId=fdve-2159c212-b30b-4b27-8ca1-2337ed7916ed\u001b\\\u001b[4;34m=\u001b[0m\u001b]8;;\u001b\\\u001b]8;id=31379;https://tidy3d.simulation.cloud/workbench?taskId=fdve-2159c212-b30b-4b27-8ca1-2337ed7916ed\u001b\\\u001b[4;34mfdve\u001b[0m\u001b]8;;\u001b\\\u001b]8;id=161080;https://tidy3d.simulation.cloud/workbench?taskId=fdve-2159c212-b30b-4b27-8ca1-2337ed7916ed\u001b\\\u001b[4;34m-2159c212-b30\u001b[0m\u001b]8;;\u001b\\\n",
       "\u001b[2;36m             \u001b[0m\u001b]8;id=161080;https://tidy3d.simulation.cloud/workbench?taskId=fdve-2159c212-b30b-4b27-8ca1-2337ed7916ed\u001b\\\u001b[4;34mb-4b27-8ca1-2337ed7916ed'\u001b[0m\u001b]8;;\u001b\\\u001b[4;34m.\u001b[0m                                         \n"
      ]
     },
     "metadata": {},
     "output_type": "display_data"
    },
    {
     "data": {
      "application/vnd.jupyter.widget-view+json": {
       "model_id": "4f53013337f44f12a003e7d012927b27",
       "version_major": 2,
       "version_minor": 0
      },
      "text/plain": [
       "Output()"
      ]
     },
     "metadata": {},
     "output_type": "display_data"
    },
    {
     "data": {
      "text/html": [
       "<pre style=\"white-space:pre;overflow-x:auto;line-height:normal;font-family:Menlo,'DejaVu Sans Mono',consolas,'Courier New',monospace\"></pre>\n"
      ],
      "text/plain": []
     },
     "metadata": {},
     "output_type": "display_data"
    },
    {
     "data": {
      "text/html": [
       "<pre style=\"white-space:pre;overflow-x:auto;line-height:normal;font-family:Menlo,'DejaVu Sans Mono',consolas,'Courier New',monospace\">\n",
       "</pre>\n"
      ],
      "text/plain": [
       "\n"
      ]
     },
     "metadata": {},
     "output_type": "display_data"
    }
   ],
   "source": [
    "power_value, (dp_center, dp_dsize, dp_deps) = d_power(center0, size0, eps0)\n"
   ]
  },
  {
   "cell_type": "markdown",
   "id": "0ac63a75-89de-42c5-929d-f46da6f22864",
   "metadata": {},
   "source": [
    "> Note: the gradient evaluation functions returned by `jax.grad()` do not accept keyword arguments (ie. `center=(0.,0.,0.)`) and instead accept positional arguments (without the argument name). You may run across this when trying to evaluate gradients so it's a good idea to keep in mind.\n",
    "\n",
    "We can take a look at our computed power and gradient information. "
   ]
  },
  {
   "cell_type": "code",
   "execution_count": 17,
   "id": "f0a786d2-88c7-406a-a6cd-956e6cfb904c",
   "metadata": {
    "execution": {
     "iopub.execute_input": "2024-03-13T11:31:10.969691Z",
     "iopub.status.busy": "2024-03-13T11:31:10.969474Z",
     "iopub.status.idle": "2024-03-13T11:31:10.971813Z",
     "shell.execute_reply": "2024-03-13T11:31:10.971531Z"
    }
   },
   "outputs": [
    {
     "name": "stdout",
     "output_type": "stream",
     "text": [
      "power = 0.552\n",
      "d_power/d_center = (-0.0063285101137246225, 1.169491113289789e-05, -0.0005401665341729089)\n",
      "d_power/d_size = (-0.027093325100316326, 0.1321369111905392, -0.133587128331337)\n",
      "d_power/d_eps = -0.1680526223554213\n"
     ]
    }
   ],
   "source": [
    "print(f\"power = {power_value:.3f}\")\n",
    "print(f\"d_power/d_center = {dp_center}\")\n",
    "print(f\"d_power/d_size = {dp_dsize}\")\n",
    "print(f\"d_power/d_eps = {dp_deps}\")\n"
   ]
  },
  {
   "cell_type": "markdown",
   "id": "a20619d4-d14b-431f-b543-7f0f0bc2907a",
   "metadata": {},
   "source": [
    "From this, we can infer several things that fit our intuition, for example that:\n",
    "* the transmitted power should **decrease** if we increase the permittivity of our scatterer.\n",
    "* the transmitted power does not depend strongly on the position of the scatterer along the propagation direction.\n",
    "\n",
    "## Conclusion & Next Steps\n",
    "\n",
    "This gives the most basic introduction to the principles behind the adjoint plugin.\n",
    "\n",
    "In subsequent notebooks, we will show how to:\n",
    " * Check the gradients returned by this method against brute force computed gradients for accuracy.\n",
    " * Perform gradient-based optimization using the adjoint plugin."
   ]
  },
  {
   "cell_type": "code",
   "execution_count": null,
   "id": "07afec21-48ce-444c-a0a8-4d8251f1caee",
   "metadata": {},
   "outputs": [],
   "source": []
  }
 ],
 "metadata": {
  "description": "This notebook introduces the basics of Jax, automatic differentiation, and the adjoint plugin in Tidy3D FDTD.",
  "feature_image": "",
  "kernelspec": {
   "display_name": "Python 3 (ipykernel)",
   "language": "python",
   "name": "python3"
  },
  "keywords": "adjoint optimization, Jax, automatic differentiation, Tidy3D, FDTD",
  "language_info": {
   "codemirror_mode": {
    "name": "ipython",
    "version": 3
   },
   "file_extension": ".py",
   "mimetype": "text/x-python",
   "name": "python",
   "nbconvert_exporter": "python",
   "pygments_lexer": "ipython3",
   "version": "3.10.13"
  },
  "title": "FDTD Adjoint Optimization Basics | Flexcompute",
  "vscode": {
   "interpreter": {
    "hash": "9e43a20ef2440406ea6cbfb61ead7c471aba2de37f508addf1f0635fad81ef64"
   }
  },
  "widgets": {
   "application/vnd.jupyter.widget-state+json": {
    "state": {
     "00a241dcfe4f4ee5bce08198ecce62d7": {
      "model_module": "@jupyter-widgets/base",
      "model_module_version": "2.0.0",
      "model_name": "LayoutModel",
      "state": {
       "_model_module": "@jupyter-widgets/base",
       "_model_module_version": "2.0.0",
       "_model_name": "LayoutModel",
       "_view_count": null,
       "_view_module": "@jupyter-widgets/base",
       "_view_module_version": "2.0.0",
       "_view_name": "LayoutView",
       "align_content": null,
       "align_items": null,
       "align_self": null,
       "border_bottom": null,
       "border_left": null,
       "border_right": null,
       "border_top": null,
       "bottom": null,
       "display": null,
       "flex": null,
       "flex_flow": null,
       "grid_area": null,
       "grid_auto_columns": null,
       "grid_auto_flow": null,
       "grid_auto_rows": null,
       "grid_column": null,
       "grid_gap": null,
       "grid_row": null,
       "grid_template_areas": null,
       "grid_template_columns": null,
       "grid_template_rows": null,
       "height": null,
       "justify_content": null,
       "justify_items": null,
       "left": null,
       "margin": null,
       "max_height": null,
       "max_width": null,
       "min_height": null,
       "min_width": null,
       "object_fit": null,
       "object_position": null,
       "order": null,
       "overflow": null,
       "padding": null,
       "right": null,
       "top": null,
       "visibility": null,
       "width": null
      }
     },
     "1159550bbb1a4f049a278d1e08421eed": {
      "model_module": "@jupyter-widgets/output",
      "model_module_version": "1.0.0",
      "model_name": "OutputModel",
      "state": {
       "_dom_classes": [],
       "_model_module": "@jupyter-widgets/output",
       "_model_module_version": "1.0.0",
       "_model_name": "OutputModel",
       "_view_count": null,
       "_view_module": "@jupyter-widgets/output",
       "_view_module_version": "1.0.0",
       "_view_name": "OutputView",
       "layout": "IPY_MODEL_1c06a56f4c3c4697a914748e260a29e1",
       "msg_id": "",
       "outputs": [
        {
         "data": {
          "text/html": "<pre style=\"white-space:pre;overflow-x:auto;line-height:normal;font-family:Menlo,'DejaVu Sans Mono',consolas,'Courier New',monospace\"><span style=\"color: #800000; text-decoration-color: #800000; font-weight: bold\">↑</span> <span style=\"color: #000080; text-decoration-color: #000080; font-weight: bold\">jax_info.json</span> <span style=\"color: #729c1f; text-decoration-color: #729c1f\">━━━━━━━━━━━━━━━━━━━━━━━━━━━</span> <span style=\"color: #800080; text-decoration-color: #800080\">100.0%</span> • <span style=\"color: #008000; text-decoration-color: #008000\">265/265 bytes</span> • <span style=\"color: #800000; text-decoration-color: #800000\">?</span> • <span style=\"color: #008080; text-decoration-color: #008080\">0:00:00</span>\n</pre>\n",
          "text/plain": "\u001b[1;31m↑\u001b[0m \u001b[1;34mjax_info.json\u001b[0m \u001b[38;2;114;156;31m━━━━━━━━━━━━━━━━━━━━━━━━━━━\u001b[0m \u001b[35m100.0%\u001b[0m • \u001b[32m265/265 bytes\u001b[0m • \u001b[31m?\u001b[0m • \u001b[36m0:00:00\u001b[0m\n"
         },
         "metadata": {},
         "output_type": "display_data"
        }
       ],
       "tabbable": null,
       "tooltip": null
      }
     },
     "12bbb299ab3c416b8a4b46d4c2af57fb": {
      "model_module": "@jupyter-widgets/base",
      "model_module_version": "2.0.0",
      "model_name": "LayoutModel",
      "state": {
       "_model_module": "@jupyter-widgets/base",
       "_model_module_version": "2.0.0",
       "_model_name": "LayoutModel",
       "_view_count": null,
       "_view_module": "@jupyter-widgets/base",
       "_view_module_version": "2.0.0",
       "_view_name": "LayoutView",
       "align_content": null,
       "align_items": null,
       "align_self": null,
       "border_bottom": null,
       "border_left": null,
       "border_right": null,
       "border_top": null,
       "bottom": null,
       "display": null,
       "flex": null,
       "flex_flow": null,
       "grid_area": null,
       "grid_auto_columns": null,
       "grid_auto_flow": null,
       "grid_auto_rows": null,
       "grid_column": null,
       "grid_gap": null,
       "grid_row": null,
       "grid_template_areas": null,
       "grid_template_columns": null,
       "grid_template_rows": null,
       "height": null,
       "justify_content": null,
       "justify_items": null,
       "left": null,
       "margin": null,
       "max_height": null,
       "max_width": null,
       "min_height": null,
       "min_width": null,
       "object_fit": null,
       "object_position": null,
       "order": null,
       "overflow": null,
       "padding": null,
       "right": null,
       "top": null,
       "visibility": null,
       "width": null
      }
     },
     "1768aa92d10f4543b4dc43f33b1f213f": {
      "model_module": "@jupyter-widgets/output",
      "model_module_version": "1.0.0",
      "model_name": "OutputModel",
      "state": {
       "_dom_classes": [],
       "_model_module": "@jupyter-widgets/output",
       "_model_module_version": "1.0.0",
       "_model_name": "OutputModel",
       "_view_count": null,
       "_view_module": "@jupyter-widgets/output",
       "_view_module_version": "1.0.0",
       "_view_name": "OutputView",
       "layout": "IPY_MODEL_5631c75d0f8b4ee5856147ecbf8ef2c1",
       "msg_id": "",
       "outputs": [
        {
         "data": {
          "text/html": "<pre style=\"white-space:pre;overflow-x:auto;line-height:normal;font-family:Menlo,'DejaVu Sans Mono',consolas,'Courier New',monospace\"><span style=\"color: #800000; text-decoration-color: #800000; font-weight: bold\">↑</span> <span style=\"color: #000080; text-decoration-color: #000080; font-weight: bold\">jax_info.json</span> <span style=\"color: #729c1f; text-decoration-color: #729c1f\">━━━━━━━━━━━━━━━━━━━━━━━━━━━</span> <span style=\"color: #800080; text-decoration-color: #800080\">100.0%</span> • <span style=\"color: #008000; text-decoration-color: #008000\">265/265 bytes</span> • <span style=\"color: #800000; text-decoration-color: #800000\">?</span> • <span style=\"color: #008080; text-decoration-color: #008080\">0:00:00</span>\n</pre>\n",
          "text/plain": "\u001b[1;31m↑\u001b[0m \u001b[1;34mjax_info.json\u001b[0m \u001b[38;2;114;156;31m━━━━━━━━━━━━━━━━━━━━━━━━━━━\u001b[0m \u001b[35m100.0%\u001b[0m • \u001b[32m265/265 bytes\u001b[0m • \u001b[31m?\u001b[0m • \u001b[36m0:00:00\u001b[0m\n"
         },
         "metadata": {},
         "output_type": "display_data"
        }
       ],
       "tabbable": null,
       "tooltip": null
      }
     },
     "1c06a56f4c3c4697a914748e260a29e1": {
      "model_module": "@jupyter-widgets/base",
      "model_module_version": "2.0.0",
      "model_name": "LayoutModel",
      "state": {
       "_model_module": "@jupyter-widgets/base",
       "_model_module_version": "2.0.0",
       "_model_name": "LayoutModel",
       "_view_count": null,
       "_view_module": "@jupyter-widgets/base",
       "_view_module_version": "2.0.0",
       "_view_name": "LayoutView",
       "align_content": null,
       "align_items": null,
       "align_self": null,
       "border_bottom": null,
       "border_left": null,
       "border_right": null,
       "border_top": null,
       "bottom": null,
       "display": null,
       "flex": null,
       "flex_flow": null,
       "grid_area": null,
       "grid_auto_columns": null,
       "grid_auto_flow": null,
       "grid_auto_rows": null,
       "grid_column": null,
       "grid_gap": null,
       "grid_row": null,
       "grid_template_areas": null,
       "grid_template_columns": null,
       "grid_template_rows": null,
       "height": null,
       "justify_content": null,
       "justify_items": null,
       "left": null,
       "margin": null,
       "max_height": null,
       "max_width": null,
       "min_height": null,
       "min_width": null,
       "object_fit": null,
       "object_position": null,
       "order": null,
       "overflow": null,
       "padding": null,
       "right": null,
       "top": null,
       "visibility": null,
       "width": null
      }
     },
     "21eb92890aac467aa60666202d14d894": {
      "model_module": "@jupyter-widgets/output",
      "model_module_version": "1.0.0",
      "model_name": "OutputModel",
      "state": {
       "_dom_classes": [],
       "_model_module": "@jupyter-widgets/output",
       "_model_module_version": "1.0.0",
       "_model_name": "OutputModel",
       "_view_count": null,
       "_view_module": "@jupyter-widgets/output",
       "_view_module_version": "1.0.0",
       "_view_name": "OutputView",
       "layout": "IPY_MODEL_bd7ad23e2e6742d2896ecb07b2b5d44f",
       "msg_id": "",
       "outputs": [
        {
         "data": {
          "text/html": "<pre style=\"white-space:pre;overflow-x:auto;line-height:normal;font-family:Menlo,'DejaVu Sans Mono',consolas,'Courier New',monospace\"><span style=\"color: #800000; text-decoration-color: #800000; font-weight: bold\">↑</span> <span style=\"color: #000080; text-decoration-color: #000080; font-weight: bold\">simulation.hdf5.gz</span> <span style=\"color: #729c1f; text-decoration-color: #729c1f\">━━━━━━━━━━━━━━━━━━━━━━━━━</span> <span style=\"color: #800080; text-decoration-color: #800080\">100.0%</span> • <span style=\"color: #008000; text-decoration-color: #008000\">1.2/1.2 kB</span> • <span style=\"color: #800000; text-decoration-color: #800000\">?</span> • <span style=\"color: #008080; text-decoration-color: #008080\">0:00:00</span>\n</pre>\n",
          "text/plain": "\u001b[1;31m↑\u001b[0m \u001b[1;34msimulation.hdf5.gz\u001b[0m \u001b[38;2;114;156;31m━━━━━━━━━━━━━━━━━━━━━━━━━\u001b[0m \u001b[35m100.0%\u001b[0m • \u001b[32m1.2/1.2 kB\u001b[0m • \u001b[31m?\u001b[0m • \u001b[36m0:00:00\u001b[0m\n"
         },
         "metadata": {},
         "output_type": "display_data"
        }
       ],
       "tabbable": null,
       "tooltip": null
      }
     },
     "2c2711a0823047eb85575fe37ec2c766": {
      "model_module": "@jupyter-widgets/base",
      "model_module_version": "2.0.0",
      "model_name": "LayoutModel",
      "state": {
       "_model_module": "@jupyter-widgets/base",
       "_model_module_version": "2.0.0",
       "_model_name": "LayoutModel",
       "_view_count": null,
       "_view_module": "@jupyter-widgets/base",
       "_view_module_version": "2.0.0",
       "_view_name": "LayoutView",
       "align_content": null,
       "align_items": null,
       "align_self": null,
       "border_bottom": null,
       "border_left": null,
       "border_right": null,
       "border_top": null,
       "bottom": null,
       "display": null,
       "flex": null,
       "flex_flow": null,
       "grid_area": null,
       "grid_auto_columns": null,
       "grid_auto_flow": null,
       "grid_auto_rows": null,
       "grid_column": null,
       "grid_gap": null,
       "grid_row": null,
       "grid_template_areas": null,
       "grid_template_columns": null,
       "grid_template_rows": null,
       "height": null,
       "justify_content": null,
       "justify_items": null,
       "left": null,
       "margin": null,
       "max_height": null,
       "max_width": null,
       "min_height": null,
       "min_width": null,
       "object_fit": null,
       "object_position": null,
       "order": null,
       "overflow": null,
       "padding": null,
       "right": null,
       "top": null,
       "visibility": null,
       "width": null
      }
     },
     "3099a5bb03f5464192bb7df4a043fc4d": {
      "model_module": "@jupyter-widgets/base",
      "model_module_version": "2.0.0",
      "model_name": "LayoutModel",
      "state": {
       "_model_module": "@jupyter-widgets/base",
       "_model_module_version": "2.0.0",
       "_model_name": "LayoutModel",
       "_view_count": null,
       "_view_module": "@jupyter-widgets/base",
       "_view_module_version": "2.0.0",
       "_view_name": "LayoutView",
       "align_content": null,
       "align_items": null,
       "align_self": null,
       "border_bottom": null,
       "border_left": null,
       "border_right": null,
       "border_top": null,
       "bottom": null,
       "display": null,
       "flex": null,
       "flex_flow": null,
       "grid_area": null,
       "grid_auto_columns": null,
       "grid_auto_flow": null,
       "grid_auto_rows": null,
       "grid_column": null,
       "grid_gap": null,
       "grid_row": null,
       "grid_template_areas": null,
       "grid_template_columns": null,
       "grid_template_rows": null,
       "height": null,
       "justify_content": null,
       "justify_items": null,
       "left": null,
       "margin": null,
       "max_height": null,
       "max_width": null,
       "min_height": null,
       "min_width": null,
       "object_fit": null,
       "object_position": null,
       "order": null,
       "overflow": null,
       "padding": null,
       "right": null,
       "top": null,
       "visibility": null,
       "width": null
      }
     },
     "30c40eda5d524ef0b9d4c7e61351911e": {
      "model_module": "@jupyter-widgets/base",
      "model_module_version": "2.0.0",
      "model_name": "LayoutModel",
      "state": {
       "_model_module": "@jupyter-widgets/base",
       "_model_module_version": "2.0.0",
       "_model_name": "LayoutModel",
       "_view_count": null,
       "_view_module": "@jupyter-widgets/base",
       "_view_module_version": "2.0.0",
       "_view_name": "LayoutView",
       "align_content": null,
       "align_items": null,
       "align_self": null,
       "border_bottom": null,
       "border_left": null,
       "border_right": null,
       "border_top": null,
       "bottom": null,
       "display": null,
       "flex": null,
       "flex_flow": null,
       "grid_area": null,
       "grid_auto_columns": null,
       "grid_auto_flow": null,
       "grid_auto_rows": null,
       "grid_column": null,
       "grid_gap": null,
       "grid_row": null,
       "grid_template_areas": null,
       "grid_template_columns": null,
       "grid_template_rows": null,
       "height": null,
       "justify_content": null,
       "justify_items": null,
       "left": null,
       "margin": null,
       "max_height": null,
       "max_width": null,
       "min_height": null,
       "min_width": null,
       "object_fit": null,
       "object_position": null,
       "order": null,
       "overflow": null,
       "padding": null,
       "right": null,
       "top": null,
       "visibility": null,
       "width": null
      }
     },
     "4f53013337f44f12a003e7d012927b27": {
      "model_module": "@jupyter-widgets/output",
      "model_module_version": "1.0.0",
      "model_name": "OutputModel",
      "state": {
       "_dom_classes": [],
       "_model_module": "@jupyter-widgets/output",
       "_model_module_version": "1.0.0",
       "_model_name": "OutputModel",
       "_view_count": null,
       "_view_module": "@jupyter-widgets/output",
       "_view_module_version": "1.0.0",
       "_view_name": "OutputView",
       "layout": "IPY_MODEL_2c2711a0823047eb85575fe37ec2c766",
       "msg_id": "",
       "outputs": [
        {
         "data": {
          "text/html": "<pre style=\"white-space:pre;overflow-x:auto;line-height:normal;font-family:Menlo,'DejaVu Sans Mono',consolas,'Courier New',monospace\"><span style=\"color: #008000; text-decoration-color: #008000; font-weight: bold\">↓</span> <span style=\"color: #000080; text-decoration-color: #000080; font-weight: bold\">jax_sim_vjp.hdf5</span> <span style=\"color: #729c1f; text-decoration-color: #729c1f\">━━━━━━━━━━━━━━━━━━━━━━━━━━━</span> <span style=\"color: #800080; text-decoration-color: #800080\">100.0%</span> • <span style=\"color: #008000; text-decoration-color: #008000\">6.2/6.2 kB</span> • <span style=\"color: #800000; text-decoration-color: #800000\">?</span> • <span style=\"color: #008080; text-decoration-color: #008080\">0:00:00</span>\n</pre>\n",
          "text/plain": "\u001b[1;32m↓\u001b[0m \u001b[1;34mjax_sim_vjp.hdf5\u001b[0m \u001b[38;2;114;156;31m━━━━━━━━━━━━━━━━━━━━━━━━━━━\u001b[0m \u001b[35m100.0%\u001b[0m • \u001b[32m6.2/6.2 kB\u001b[0m • \u001b[31m?\u001b[0m • \u001b[36m0:00:00\u001b[0m\n"
         },
         "metadata": {},
         "output_type": "display_data"
        }
       ],
       "tabbable": null,
       "tooltip": null
      }
     },
     "5631c75d0f8b4ee5856147ecbf8ef2c1": {
      "model_module": "@jupyter-widgets/base",
      "model_module_version": "2.0.0",
      "model_name": "LayoutModel",
      "state": {
       "_model_module": "@jupyter-widgets/base",
       "_model_module_version": "2.0.0",
       "_model_name": "LayoutModel",
       "_view_count": null,
       "_view_module": "@jupyter-widgets/base",
       "_view_module_version": "2.0.0",
       "_view_name": "LayoutView",
       "align_content": null,
       "align_items": null,
       "align_self": null,
       "border_bottom": null,
       "border_left": null,
       "border_right": null,
       "border_top": null,
       "bottom": null,
       "display": null,
       "flex": null,
       "flex_flow": null,
       "grid_area": null,
       "grid_auto_columns": null,
       "grid_auto_flow": null,
       "grid_auto_rows": null,
       "grid_column": null,
       "grid_gap": null,
       "grid_row": null,
       "grid_template_areas": null,
       "grid_template_columns": null,
       "grid_template_rows": null,
       "height": null,
       "justify_content": null,
       "justify_items": null,
       "left": null,
       "margin": null,
       "max_height": null,
       "max_width": null,
       "min_height": null,
       "min_width": null,
       "object_fit": null,
       "object_position": null,
       "order": null,
       "overflow": null,
       "padding": null,
       "right": null,
       "top": null,
       "visibility": null,
       "width": null
      }
     },
     "6b1e3e7159014b0bb8855ce3dd0b74a7": {
      "model_module": "@jupyter-widgets/base",
      "model_module_version": "2.0.0",
      "model_name": "LayoutModel",
      "state": {
       "_model_module": "@jupyter-widgets/base",
       "_model_module_version": "2.0.0",
       "_model_name": "LayoutModel",
       "_view_count": null,
       "_view_module": "@jupyter-widgets/base",
       "_view_module_version": "2.0.0",
       "_view_name": "LayoutView",
       "align_content": null,
       "align_items": null,
       "align_self": null,
       "border_bottom": null,
       "border_left": null,
       "border_right": null,
       "border_top": null,
       "bottom": null,
       "display": null,
       "flex": null,
       "flex_flow": null,
       "grid_area": null,
       "grid_auto_columns": null,
       "grid_auto_flow": null,
       "grid_auto_rows": null,
       "grid_column": null,
       "grid_gap": null,
       "grid_row": null,
       "grid_template_areas": null,
       "grid_template_columns": null,
       "grid_template_rows": null,
       "height": null,
       "justify_content": null,
       "justify_items": null,
       "left": null,
       "margin": null,
       "max_height": null,
       "max_width": null,
       "min_height": null,
       "min_width": null,
       "object_fit": null,
       "object_position": null,
       "order": null,
       "overflow": null,
       "padding": null,
       "right": null,
       "top": null,
       "visibility": null,
       "width": null
      }
     },
     "70414771999f4d8eb8d52858c7d65abd": {
      "model_module": "@jupyter-widgets/output",
      "model_module_version": "1.0.0",
      "model_name": "OutputModel",
      "state": {
       "_dom_classes": [],
       "_model_module": "@jupyter-widgets/output",
       "_model_module_version": "1.0.0",
       "_model_name": "OutputModel",
       "_view_count": null,
       "_view_module": "@jupyter-widgets/output",
       "_view_module_version": "1.0.0",
       "_view_name": "OutputView",
       "layout": "IPY_MODEL_6b1e3e7159014b0bb8855ce3dd0b74a7",
       "msg_id": "",
       "outputs": [
        {
         "data": {
          "text/html": "<pre style=\"white-space:pre;overflow-x:auto;line-height:normal;font-family:Menlo,'DejaVu Sans Mono',consolas,'Courier New',monospace\"><span style=\"color: #008000; text-decoration-color: #008000; font-weight: bold\">↓</span> <span style=\"color: #000080; text-decoration-color: #000080; font-weight: bold\">simulation_data.hdf5.gz</span> <span style=\"color: #729c1f; text-decoration-color: #729c1f\">━━━━━━━━━━━━━━━━━━━━</span> <span style=\"color: #800080; text-decoration-color: #800080\">100.0%</span> • <span style=\"color: #008000; text-decoration-color: #008000\">2.4/2.4 kB</span> • <span style=\"color: #800000; text-decoration-color: #800000\">?</span> • <span style=\"color: #008080; text-decoration-color: #008080\">0:00:00</span>\n</pre>\n",
          "text/plain": "\u001b[1;32m↓\u001b[0m \u001b[1;34msimulation_data.hdf5.gz\u001b[0m \u001b[38;2;114;156;31m━━━━━━━━━━━━━━━━━━━━\u001b[0m \u001b[35m100.0%\u001b[0m • \u001b[32m2.4/2.4 kB\u001b[0m • \u001b[31m?\u001b[0m • \u001b[36m0:00:00\u001b[0m\n"
         },
         "metadata": {},
         "output_type": "display_data"
        }
       ],
       "tabbable": null,
       "tooltip": null
      }
     },
     "720e9f057a194245851b113824a24e92": {
      "model_module": "@jupyter-widgets/base",
      "model_module_version": "2.0.0",
      "model_name": "LayoutModel",
      "state": {
       "_model_module": "@jupyter-widgets/base",
       "_model_module_version": "2.0.0",
       "_model_name": "LayoutModel",
       "_view_count": null,
       "_view_module": "@jupyter-widgets/base",
       "_view_module_version": "2.0.0",
       "_view_name": "LayoutView",
       "align_content": null,
       "align_items": null,
       "align_self": null,
       "border_bottom": null,
       "border_left": null,
       "border_right": null,
       "border_top": null,
       "bottom": null,
       "display": null,
       "flex": null,
       "flex_flow": null,
       "grid_area": null,
       "grid_auto_columns": null,
       "grid_auto_flow": null,
       "grid_auto_rows": null,
       "grid_column": null,
       "grid_gap": null,
       "grid_row": null,
       "grid_template_areas": null,
       "grid_template_columns": null,
       "grid_template_rows": null,
       "height": null,
       "justify_content": null,
       "justify_items": null,
       "left": null,
       "margin": null,
       "max_height": null,
       "max_width": null,
       "min_height": null,
       "min_width": null,
       "object_fit": null,
       "object_position": null,
       "order": null,
       "overflow": null,
       "padding": null,
       "right": null,
       "top": null,
       "visibility": null,
       "width": null
      }
     },
     "785a26345cfc42969aa286426d727c4b": {
      "model_module": "@jupyter-widgets/output",
      "model_module_version": "1.0.0",
      "model_name": "OutputModel",
      "state": {
       "_dom_classes": [],
       "_model_module": "@jupyter-widgets/output",
       "_model_module_version": "1.0.0",
       "_model_name": "OutputModel",
       "_view_count": null,
       "_view_module": "@jupyter-widgets/output",
       "_view_module_version": "1.0.0",
       "_view_name": "OutputView",
       "layout": "IPY_MODEL_3099a5bb03f5464192bb7df4a043fc4d",
       "msg_id": "",
       "outputs": [
        {
         "data": {
          "text/html": "<pre style=\"white-space:pre;overflow-x:auto;line-height:normal;font-family:Menlo,'DejaVu Sans Mono',consolas,'Courier New',monospace\">solver progress (field decay = 2.66e-13) <span style=\"color: #729c1f; text-decoration-color: #729c1f\">━━━━━━━━━━━━━━━━━━━━━━━━━━</span> <span style=\"color: #800080; text-decoration-color: #800080\">100%</span> <span style=\"color: #008080; text-decoration-color: #008080\">0:00:00</span>\n</pre>\n",
          "text/plain": "solver progress (field decay = 2.66e-13) \u001b[38;2;114;156;31m━━━━━━━━━━━━━━━━━━━━━━━━━━\u001b[0m \u001b[35m100%\u001b[0m \u001b[36m0:00:00\u001b[0m\n"
         },
         "metadata": {},
         "output_type": "display_data"
        }
       ],
       "tabbable": null,
       "tooltip": null
      }
     },
     "86760243d49d47a8b476877a7853a938": {
      "model_module": "@jupyter-widgets/output",
      "model_module_version": "1.0.0",
      "model_name": "OutputModel",
      "state": {
       "_dom_classes": [],
       "_model_module": "@jupyter-widgets/output",
       "_model_module_version": "1.0.0",
       "_model_name": "OutputModel",
       "_view_count": null,
       "_view_module": "@jupyter-widgets/output",
       "_view_module_version": "1.0.0",
       "_view_name": "OutputView",
       "layout": "IPY_MODEL_00a241dcfe4f4ee5bce08198ecce62d7",
       "msg_id": "",
       "outputs": [
        {
         "data": {
          "text/html": "<pre style=\"white-space:pre;overflow-x:auto;line-height:normal;font-family:Menlo,'DejaVu Sans Mono',consolas,'Courier New',monospace\"><span style=\"color: #008000; text-decoration-color: #008000\">🚶 </span> <span style=\"color: #008000; text-decoration-color: #008000; font-weight: bold\">Starting 'adjoint_power'...</span>\n</pre>\n",
          "text/plain": "\u001b[32m🚶 \u001b[0m \u001b[1;32mStarting 'adjoint_power'...\u001b[0m\n"
         },
         "metadata": {},
         "output_type": "display_data"
        }
       ],
       "tabbable": null,
       "tooltip": null
      }
     },
     "8e293b75216a4c7ea091e10f09766cee": {
      "model_module": "@jupyter-widgets/output",
      "model_module_version": "1.0.0",
      "model_name": "OutputModel",
      "state": {
       "_dom_classes": [],
       "_model_module": "@jupyter-widgets/output",
       "_model_module_version": "1.0.0",
       "_model_name": "OutputModel",
       "_view_count": null,
       "_view_module": "@jupyter-widgets/output",
       "_view_module_version": "1.0.0",
       "_view_name": "OutputView",
       "layout": "IPY_MODEL_fcdda15f7cf94b07b5cb9cd6b4a98e9c",
       "msg_id": "",
       "outputs": [
        {
         "data": {
          "text/html": "<pre style=\"white-space:pre;overflow-x:auto;line-height:normal;font-family:Menlo,'DejaVu Sans Mono',consolas,'Courier New',monospace\">solver progress (field decay = 1.64e-07) <span style=\"color: #729c1f; text-decoration-color: #729c1f\">━━━━━━━━━━━━━━━━━━━━━━━━━━</span> <span style=\"color: #800080; text-decoration-color: #800080\">100%</span> <span style=\"color: #008080; text-decoration-color: #008080\">0:00:00</span>\n</pre>\n",
          "text/plain": "solver progress (field decay = 1.64e-07) \u001b[38;2;114;156;31m━━━━━━━━━━━━━━━━━━━━━━━━━━\u001b[0m \u001b[35m100%\u001b[0m \u001b[36m0:00:00\u001b[0m\n"
         },
         "metadata": {},
         "output_type": "display_data"
        }
       ],
       "tabbable": null,
       "tooltip": null
      }
     },
     "99db970cd2944116a7f18b26aac5fa78": {
      "model_module": "@jupyter-widgets/base",
      "model_module_version": "2.0.0",
      "model_name": "LayoutModel",
      "state": {
       "_model_module": "@jupyter-widgets/base",
       "_model_module_version": "2.0.0",
       "_model_name": "LayoutModel",
       "_view_count": null,
       "_view_module": "@jupyter-widgets/base",
       "_view_module_version": "2.0.0",
       "_view_name": "LayoutView",
       "align_content": null,
       "align_items": null,
       "align_self": null,
       "border_bottom": null,
       "border_left": null,
       "border_right": null,
       "border_top": null,
       "bottom": null,
       "display": null,
       "flex": null,
       "flex_flow": null,
       "grid_area": null,
       "grid_auto_columns": null,
       "grid_auto_flow": null,
       "grid_auto_rows": null,
       "grid_column": null,
       "grid_gap": null,
       "grid_row": null,
       "grid_template_areas": null,
       "grid_template_columns": null,
       "grid_template_rows": null,
       "height": null,
       "justify_content": null,
       "justify_items": null,
       "left": null,
       "margin": null,
       "max_height": null,
       "max_width": null,
       "min_height": null,
       "min_width": null,
       "object_fit": null,
       "object_position": null,
       "order": null,
       "overflow": null,
       "padding": null,
       "right": null,
       "top": null,
       "visibility": null,
       "width": null
      }
     },
     "bb255937b67741ac85666dddb3b9ebd0": {
      "model_module": "@jupyter-widgets/output",
      "model_module_version": "1.0.0",
      "model_name": "OutputModel",
      "state": {
       "_dom_classes": [],
       "_model_module": "@jupyter-widgets/output",
       "_model_module_version": "1.0.0",
       "_model_name": "OutputModel",
       "_view_count": null,
       "_view_module": "@jupyter-widgets/output",
       "_view_module_version": "1.0.0",
       "_view_name": "OutputView",
       "layout": "IPY_MODEL_12bbb299ab3c416b8a4b46d4c2af57fb",
       "msg_id": "",
       "outputs": [
        {
         "data": {
          "text/html": "<pre style=\"white-space:pre;overflow-x:auto;line-height:normal;font-family:Menlo,'DejaVu Sans Mono',consolas,'Courier New',monospace\"><span style=\"color: #800000; text-decoration-color: #800000; font-weight: bold\">↑</span> <span style=\"color: #000080; text-decoration-color: #000080; font-weight: bold\">simulation.hdf5.gz</span> <span style=\"color: #729c1f; text-decoration-color: #729c1f\">━━━━━━━━━━━━━━━━━━━━━━━━━</span> <span style=\"color: #800080; text-decoration-color: #800080\">100.0%</span> • <span style=\"color: #008000; text-decoration-color: #008000\">1.2/1.2 kB</span> • <span style=\"color: #800000; text-decoration-color: #800000\">?</span> • <span style=\"color: #008080; text-decoration-color: #008080\">0:00:00</span>\n</pre>\n",
          "text/plain": "\u001b[1;31m↑\u001b[0m \u001b[1;34msimulation.hdf5.gz\u001b[0m \u001b[38;2;114;156;31m━━━━━━━━━━━━━━━━━━━━━━━━━\u001b[0m \u001b[35m100.0%\u001b[0m • \u001b[32m1.2/1.2 kB\u001b[0m • \u001b[31m?\u001b[0m • \u001b[36m0:00:00\u001b[0m\n"
         },
         "metadata": {},
         "output_type": "display_data"
        }
       ],
       "tabbable": null,
       "tooltip": null
      }
     },
     "bd7ad23e2e6742d2896ecb07b2b5d44f": {
      "model_module": "@jupyter-widgets/base",
      "model_module_version": "2.0.0",
      "model_name": "LayoutModel",
      "state": {
       "_model_module": "@jupyter-widgets/base",
       "_model_module_version": "2.0.0",
       "_model_name": "LayoutModel",
       "_view_count": null,
       "_view_module": "@jupyter-widgets/base",
       "_view_module_version": "2.0.0",
       "_view_name": "LayoutView",
       "align_content": null,
       "align_items": null,
       "align_self": null,
       "border_bottom": null,
       "border_left": null,
       "border_right": null,
       "border_top": null,
       "bottom": null,
       "display": null,
       "flex": null,
       "flex_flow": null,
       "grid_area": null,
       "grid_auto_columns": null,
       "grid_auto_flow": null,
       "grid_auto_rows": null,
       "grid_column": null,
       "grid_gap": null,
       "grid_row": null,
       "grid_template_areas": null,
       "grid_template_columns": null,
       "grid_template_rows": null,
       "height": null,
       "justify_content": null,
       "justify_items": null,
       "left": null,
       "margin": null,
       "max_height": null,
       "max_width": null,
       "min_height": null,
       "min_width": null,
       "object_fit": null,
       "object_position": null,
       "order": null,
       "overflow": null,
       "padding": null,
       "right": null,
       "top": null,
       "visibility": null,
       "width": null
      }
     },
     "c167eaf712114d789aa042cb8b31bd42": {
      "model_module": "@jupyter-widgets/output",
      "model_module_version": "1.0.0",
      "model_name": "OutputModel",
      "state": {
       "_dom_classes": [],
       "_model_module": "@jupyter-widgets/output",
       "_model_module_version": "1.0.0",
       "_model_name": "OutputModel",
       "_view_count": null,
       "_view_module": "@jupyter-widgets/output",
       "_view_module_version": "1.0.0",
       "_view_name": "OutputView",
       "layout": "IPY_MODEL_99db970cd2944116a7f18b26aac5fa78",
       "msg_id": "",
       "outputs": [
        {
         "data": {
          "text/html": "<pre style=\"white-space:pre;overflow-x:auto;line-height:normal;font-family:Menlo,'DejaVu Sans Mono',consolas,'Courier New',monospace\"><span style=\"color: #008000; text-decoration-color: #008000\">🚶 </span> <span style=\"color: #008000; text-decoration-color: #008000; font-weight: bold\">Finishing 'adjoint_power'...</span>\n</pre>\n",
          "text/plain": "\u001b[32m🚶 \u001b[0m \u001b[1;32mFinishing 'adjoint_power'...\u001b[0m\n"
         },
         "metadata": {},
         "output_type": "display_data"
        }
       ],
       "tabbable": null,
       "tooltip": null
      }
     },
     "cb5b4201b828423996f668d3223ef565": {
      "model_module": "@jupyter-widgets/output",
      "model_module_version": "1.0.0",
      "model_name": "OutputModel",
      "state": {
       "_dom_classes": [],
       "_model_module": "@jupyter-widgets/output",
       "_model_module_version": "1.0.0",
       "_model_name": "OutputModel",
       "_view_count": null,
       "_view_module": "@jupyter-widgets/output",
       "_view_module_version": "1.0.0",
       "_view_name": "OutputView",
       "layout": "IPY_MODEL_30c40eda5d524ef0b9d4c7e61351911e",
       "msg_id": "",
       "outputs": [
        {
         "data": {
          "text/html": "<pre style=\"white-space:pre;overflow-x:auto;line-height:normal;font-family:Menlo,'DejaVu Sans Mono',consolas,'Courier New',monospace\"><span style=\"color: #008000; text-decoration-color: #008000\">🚶 </span> <span style=\"color: #008000; text-decoration-color: #008000; font-weight: bold\">Starting 'adjoint_power_adj'...</span>\n</pre>\n",
          "text/plain": "\u001b[32m🚶 \u001b[0m \u001b[1;32mStarting 'adjoint_power_adj'...\u001b[0m\n"
         },
         "metadata": {},
         "output_type": "display_data"
        }
       ],
       "tabbable": null,
       "tooltip": null
      }
     },
     "db3c8ca561104312bc8e0665d4ea272b": {
      "model_module": "@jupyter-widgets/output",
      "model_module_version": "1.0.0",
      "model_name": "OutputModel",
      "state": {
       "_dom_classes": [],
       "_model_module": "@jupyter-widgets/output",
       "_model_module_version": "1.0.0",
       "_model_name": "OutputModel",
       "_view_count": null,
       "_view_module": "@jupyter-widgets/output",
       "_view_module_version": "1.0.0",
       "_view_name": "OutputView",
       "layout": "IPY_MODEL_720e9f057a194245851b113824a24e92",
       "msg_id": "",
       "outputs": [
        {
         "data": {
          "text/html": "<pre style=\"white-space:pre;overflow-x:auto;line-height:normal;font-family:Menlo,'DejaVu Sans Mono',consolas,'Courier New',monospace\"><span style=\"color: #008000; text-decoration-color: #008000\">🚶 </span> <span style=\"color: #008000; text-decoration-color: #008000; font-weight: bold\">Finishing 'adjoint_power_adj'...</span>\n</pre>\n",
          "text/plain": "\u001b[32m🚶 \u001b[0m \u001b[1;32mFinishing 'adjoint_power_adj'...\u001b[0m\n"
         },
         "metadata": {},
         "output_type": "display_data"
        }
       ],
       "tabbable": null,
       "tooltip": null
      }
     },
     "fcdda15f7cf94b07b5cb9cd6b4a98e9c": {
      "model_module": "@jupyter-widgets/base",
      "model_module_version": "2.0.0",
      "model_name": "LayoutModel",
      "state": {
       "_model_module": "@jupyter-widgets/base",
       "_model_module_version": "2.0.0",
       "_model_name": "LayoutModel",
       "_view_count": null,
       "_view_module": "@jupyter-widgets/base",
       "_view_module_version": "2.0.0",
       "_view_name": "LayoutView",
       "align_content": null,
       "align_items": null,
       "align_self": null,
       "border_bottom": null,
       "border_left": null,
       "border_right": null,
       "border_top": null,
       "bottom": null,
       "display": null,
       "flex": null,
       "flex_flow": null,
       "grid_area": null,
       "grid_auto_columns": null,
       "grid_auto_flow": null,
       "grid_auto_rows": null,
       "grid_column": null,
       "grid_gap": null,
       "grid_row": null,
       "grid_template_areas": null,
       "grid_template_columns": null,
       "grid_template_rows": null,
       "height": null,
       "justify_content": null,
       "justify_items": null,
       "left": null,
       "margin": null,
       "max_height": null,
       "max_width": null,
       "min_height": null,
       "min_width": null,
       "object_fit": null,
       "object_position": null,
       "order": null,
       "overflow": null,
       "padding": null,
       "right": null,
       "top": null,
       "visibility": null,
       "width": null
      }
     }
    },
    "version_major": 2,
    "version_minor": 0
   }
  }
 },
 "nbformat": 4,
 "nbformat_minor": 5
}
