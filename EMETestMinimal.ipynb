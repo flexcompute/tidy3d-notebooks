{
 "cells": [
  {
   "cell_type": "code",
   "execution_count": 1,
   "id": "2eadcc55-600a-4147-96ab-7e0e2a17a3cc",
   "metadata": {},
   "outputs": [],
   "source": [
    "import tidy3d as td\n",
    "from tidy3d.plugins import waveguide\n",
    "import tidy3d.web as web\n",
    "\n",
    "import numpy as np\n",
    "from matplotlib import pyplot as plt\n",
    "\n",
    "from tidy3d.plugins.mode import ModeSolver\n",
    "from tidy3d.plugins.mode.web import run as run_mode_solver\n",
    "from tidy3d.plugins.mode.web import run_batch"
   ]
  },
  {
   "cell_type": "markdown",
   "id": "23522d80",
   "metadata": {},
   "source": [
    "Function for creating the EME and FDTD simulation.\n",
    "\n",
    "The `bends` argument is the list of tuples (length,bend_radius) containing the length and bend radius of each cell. \n",
    "The `wvgIn` and `wvgOut` arguments are the size of straight waveguides before and after the bent region.\n"
   ]
  },
  {
   "cell_type": "code",
   "execution_count": 2,
   "id": "db621b4d",
   "metadata": {},
   "outputs": [],
   "source": [
    "def getBendEME(bends = [(1,1)],returnFDTD = True,\n",
    "                wvgIn = 0,wvgOut = 0,\n",
    "                plane_size = (10,10),\n",
    "                num_modes = 5,\n",
    "                target_neff = 1.545645,\n",
    "                normalize_index = 0,\n",
    "                normalize = True):    \n",
    "                \n",
    "    '''bends: list of tuple (lenght, bendRadius)'''\n",
    "        \n",
    "\n",
    "    width = 0.6\n",
    "    thickness = 0.4\n",
    "\n",
    "    # generic EMEModeSpec\n",
    "    mode_spec = td.EMEModeSpec(\n",
    "    num_modes=num_modes,\n",
    "    bend_radius=None,\n",
    "    bend_axis=1,\n",
    "    num_pml=(12, 12),\n",
    "    target_neff = target_neff ,\n",
    "    ) \n",
    "\n",
    "    # just apply an offset in order to start the grid at 0. Just for visualization purposes\n",
    "    size = 2 #offsets\n",
    "\n",
    "    # add the straight sections if any\n",
    "    if wvgIn > 0:\n",
    "        bends = [(wvgIn,None)] + bends\n",
    "    if wvgOut > 0:\n",
    "        bends = bends + [(wvgOut,None)]\n",
    "    \n",
    "\n",
    "    mode_specs = []\n",
    "    boundaries = []\n",
    "\n",
    "    # iterate trough the cells to create each EMEModeSpec and boundaries\n",
    "    for i,bend in enumerate(bends):\n",
    "        \n",
    "        \n",
    "        length,radius = bend\n",
    "        \n",
    "        mode_specs.append(mode_spec.updated_copy(bend_radius=radius))\n",
    "\n",
    "\n",
    "        if i == 0:\n",
    "            boundaries = [length]\n",
    "        elif i > 0:\n",
    "            boundaries.append(boundaries[-1]+length)\n",
    "\n",
    "        size += length\n",
    "\n",
    "\n",
    "    eme_grid_spec = td.EMEExplicitGrid(boundaries=boundaries[:-1],\n",
    "                                        mode_specs = mode_specs)\n",
    "\n",
    "    # just adding monitors\n",
    "    eme_field_mon = td.EMEFieldMonitor(\n",
    "        name=\"field\", \n",
    "        size=(td.inf, 0, td.inf)\n",
    "    )\n",
    "\n",
    "    eme_mode_mon = td.EMEModeSolverMonitor(\n",
    "        name=\"modes\", \n",
    "        size=(td.inf, td.inf, td.inf),\n",
    "        center=(0, 0, 0),\n",
    "    )\n",
    "\n",
    "    eme_flux_mon = td.EMEFieldMonitor(name = 'flux',\n",
    "                                    size = (0,3,3),\n",
    "                                    center = (boundaries[-1],0,0))\n",
    "\n",
    "    sio2 = td.material_library[\"SiO2\"][\"Palik_Lossless\"]\n",
    "\n",
    "    siN = td.Medium(permittivity = 2**2)\n",
    "\n",
    "    structures = [td.Structure(attrs={}, \n",
    "                geometry=td.PolySlab(axis=2, sidewall_angle=0.0,\n",
    "                slab_bounds=(-thickness/2, thickness/2),\n",
    "                vertices=np.array([[-1e15, -width/2],\n",
    "        [-1e15,  width/2],\n",
    "        [1e15,  width/2],\n",
    "        [ 1e15, -width/2]])), medium=siN)]\n",
    "\n",
    "    sim = td.EMESimulation(\n",
    "        size=(size, plane_size[0], plane_size[1]),\n",
    "        medium=sio2,\n",
    "        center = (size/2-1,0,0),\n",
    "        structures=structures,\n",
    "        axis=0,\n",
    "        freqs=[td.C_0 / 1.55],\n",
    "        eme_grid_spec=eme_grid_spec,\n",
    "        grid_spec=td.GridSpec.auto(min_steps_per_wvl=20),\n",
    "        monitors = [eme_field_mon,eme_mode_mon,eme_flux_mon],\n",
    "        port_offsets = (1,1),\n",
    "        symmetry = (0,0,1),\n",
    "        normalize = normalize\n",
    "\n",
    "    )\n",
    "  \n",
    "    return sim"
   ]
  },
  {
   "cell_type": "code",
   "execution_count": 3,
   "id": "2e104d12",
   "metadata": {},
   "outputs": [],
   "source": [
    "# 2um straight section at the end. \n",
    "\n",
    "wvgOut = 2\n",
    "wvgIn = 0\n",
    "length = [6*np.pi/2,6*np.pi,3*np.pi/2,3*np.pi/4]\n",
    "\n",
    "\n",
    "emeData02 = []\n",
    "for l in length:\n",
    "\n",
    "    sim = getBendEME(wvgIn = wvgIn,wvgOut = wvgOut,bends= [(l,6)],plane_size = (10,10),\n",
    "                                num_modes = 1,normalize = True)\n",
    "\n",
    "\n",
    "\n",
    "    sim_data = web.run(sim, task_name=\"eme\",verbose = False)\n",
    "    emeData02.append(sim_data)\n",
    "\n",
    "eme02_s12 = []\n",
    "eme02_s21 = []\n",
    "for sim_data in emeData02:\n",
    "    eme_s21 = float(sim_data.smatrix.S21.isel(mode_index_in=0, mode_index_out=0,f=0).abs**2)\n",
    "    eme_s12 = float(sim_data.smatrix.S12.isel(mode_index_in=0, mode_index_out=0,f=0).abs**2)\n",
    "\n",
    "    eme02_s21.append(eme_s21)\n",
    "    eme02_s12.append(eme_s12)\n",
    "\n",
    "# FDTD data\n",
    "fdtd02 = np.array([0.27058363444769606,\n",
    "            0.07040436699748817,\n",
    "            0.5282451321156039,\n",
    "            0.7170267374320302])"
   ]
  },
  {
   "cell_type": "code",
   "execution_count": 4,
   "id": "5bcbb0e1",
   "metadata": {},
   "outputs": [
    {
     "data": {
      "text/plain": [
       "Text(0, 0.5, 'transmittance')"
      ]
     },
     "execution_count": 4,
     "metadata": {},
     "output_type": "execute_result"
    },
    {
     "data": {
      "image/png": "[encoded data removed]",
      "text/plain": [
       "<Figure size 640x480 with 1 Axes>"
      ]
     },
     "metadata": {},
     "output_type": "display_data"
    }
   ],
   "source": [
    "fig,ax = plt.subplots()\n",
    "ax.plot(length,eme02_s21,'o',label = 'EME S21')\n",
    "ax.plot(length,fdtd02,'o',label = 'FDTD')\n",
    "ax.plot(length,eme02_s12,'o',label = 'EME S12')\n",
    "ax.plot(length,[2*i for i in eme02_s21],'*',label = 'EME S21*2')\n",
    "ax.legend()\n",
    "ax.set_title('bend - straight')\n",
    "ax.set_xlabel('length')\n",
    "ax.set_ylabel('transmittance')"
   ]
  },
  {
   "cell_type": "code",
   "execution_count": 6,
   "id": "e50547a4",
   "metadata": {},
   "outputs": [
    {
     "name": "stdout",
     "output_type": "stream",
     "text": [
      "0.8017917658452234\n",
      "0.03426437272763394\n"
     ]
    }
   ],
   "source": [
    "def FDTDError(data):\n",
    "    return np.abs(np.array(data) - fdtd02).sum()\n",
    "    \n",
    "print(FDTDError (eme02_s21))\n",
    "print(FDTDError (eme02_s12))"
   ]
  }
 ],
 "metadata": {
  "kernelspec": {
   "display_name": "Python 3 (ipykernel)",
   "language": "python",
   "name": "python3"
  },
  "language_info": {
   "codemirror_mode": {
    "name": "ipython",
    "version": 3
   },
   "file_extension": ".py",
   "mimetype": "text/x-python",
   "name": "python",
   "nbconvert_exporter": "python",
   "pygments_lexer": "ipython3",
   "version": "3.11.7"
  }
 },
 "nbformat": 4,
 "nbformat_minor": 5
}
