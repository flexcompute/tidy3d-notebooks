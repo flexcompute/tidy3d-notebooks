{
 "cells": [
  {
   "cell_type": "markdown",
   "metadata": {},
   "source": [
    "# Dispersive Materials"
   ]
  },
  {
   "cell_type": "markdown",
   "metadata": {},
   "source": [
    "## Introduction / Setup\n",
    "\n",
    "Here we show to to model dispersive materials in Tidy3D with an example showing transmission spectrum of a multilayer stack of slabs.\n",
    "\n",
    "See on [github](https://github.com/flexcompute/tidy3d-notebooks/blob/main/Dispersion.ipynb), run on [colab](https://colab.research.google.com/github/flexcompute/tidy3d-notebooks/blob/main/Dispersion.ipynb), or just follow along with the output below."
   ]
  },
  {
   "cell_type": "code",
   "execution_count": 1,
   "metadata": {
    "execution": {
     "iopub.execute_input": "2021-07-27T22:37:26.261637Z",
     "iopub.status.busy": "2021-07-27T22:37:26.260831Z",
     "iopub.status.idle": "2021-07-27T22:37:27.816711Z",
     "shell.execute_reply": "2021-07-27T22:37:27.817033Z"
    }
   },
   "outputs": [
    {
     "name": "stdout",
     "output_type": "stream",
     "text": [
      "The autoreload extension is already loaded. To reload it, use:\n",
      "  %reload_ext autoreload\n"
     ]
    }
   ],
   "source": [
    "# basic ipython configuration (reload source code and notebook plots inline)\n",
    "%load_ext autoreload\n",
    "%autoreload 2\n",
    "%matplotlib inline\n",
    "\n",
    "# standard python imports\n",
    "import numpy as np\n",
    "import matplotlib.pyplot as plt\n",
    "\n",
    "# tidy3D import\n",
    "!pip install -q --upgrade tidy3d\n",
    "\n",
    "import tidy3d as td\n",
    "from tidy3d import web"
   ]
  },
  {
   "cell_type": "markdown",
   "metadata": {},
   "source": [
    "First, let us define some basic parameters."
   ]
  },
  {
   "cell_type": "code",
   "execution_count": 2,
   "metadata": {
    "execution": {
     "iopub.execute_input": "2021-07-27T22:37:27.821069Z",
     "iopub.status.busy": "2021-07-27T22:37:27.820635Z",
     "iopub.status.idle": "2021-07-27T22:37:27.831177Z",
     "shell.execute_reply": "2021-07-27T22:37:27.830763Z"
    }
   },
   "outputs": [],
   "source": [
    "# Wavelength and frequency range\n",
    "lambda_range = (0.5, 1.5)\n",
    "lam0 = np.sum(lambda_range)/2\n",
    "freq_range = (td.constants.C_0/lambda_range[1], td.constants.C_0/lambda_range[0])\n",
    "Nfreq = 333\n",
    "\n",
    "# frequencies and wavelengths of monitor\n",
    "monitor_freqs = np.linspace(freq_range[0], freq_range[1], Nfreq)\n",
    "monitor_lambdas = td.constants.C_0 / monitor_freqs\n",
    "\n",
    "# central frequency, frequency pulse width and total running time\n",
    "freq0 = monitor_freqs[Nfreq // 2]\n",
    "freqw  = 0.3 * (freq_range[1] - freq_range[0])\n",
    "t_stop = 100 / freq0\n",
    "\n",
    "# Thicknesses of slabs\n",
    "t_slabs = [0.5, 0.2, 0.4, 0.3] # um\n",
    "\n",
    "# Grid resolution (cells per um)\n",
    "res = 150\n",
    "\n",
    "# space between slabs and sources and PML\n",
    "spacing = 1 * lambda_range[-1]\n",
    "\n",
    "# simulation size\n",
    "sim_size = Lx, Ly, Lz = (1.0, 1.0, 4*spacing + sum(t_slabs))"
   ]
  },
  {
   "cell_type": "markdown",
   "metadata": {},
   "source": [
    "## Defining Materials (4 Ways)\n",
    "\n",
    "We now create materials for each slab in 4 differt ways. The first three of those show various ways that the Tidy3D [Medium](https://simulation.cloud/docs/html/generated/tidy3d.Medium.html) class can be used to define custom materials. The last one is a direct import from our [material library](https://simulation.cloud/docs/html/generated/tidy3d.material_library.html#module-tidy3d.material_library).\n",
    "\n",
    "1. Simple, lossless dielectric defined by a real, dispersionless refracive index (or permittivity).\n",
    "2. Lossy material defined by real and imaginary part of the refractive index (\\\\(n\\\\) and \\\\(k\\\\)) at a given frequency or wavelength. Values are exact only at that frequency, so only good for narrow-band simulations.\n",
    "3. Simple, lossless dispersive material (one-pole fitting) defined by the real part of the refractive index \\\\(n\\\\) and the dispersion \\\\(\\mathrm{d}n/\\mathrm{d}\\lambda\\\\) at a given frequency or wavelength. The dispersion must be negative.\n",
    "4. Dispersive material imported from our pre-defined library of materials.\n",
    "\n",
    "More complicated dispersive materials can also be defined through their dispersive models (supported: Lorentz, Sellmeier, or Debye models).  See [here](https://simulation.cloud/docs/html/api.html#dispersive-models) for more details on defining materials this way if the model parameters are known."
   ]
  },
  {
   "cell_type": "code",
   "execution_count": 3,
   "metadata": {
    "execution": {
     "iopub.execute_input": "2021-07-27T22:37:27.834180Z",
     "iopub.status.busy": "2021-07-27T22:37:27.833768Z",
     "iopub.status.idle": "2021-07-27T22:37:27.843018Z",
     "shell.execute_reply": "2021-07-27T22:37:27.843430Z"
    }
   },
   "outputs": [],
   "source": [
    "# simple, lossless, dispersionless material (either epsilon or n)\n",
    "mat1 = td.Medium(epsilon=4.0)\n",
    "\n",
    "# lossy material with n & k values at a specified frequency or wavelength\n",
    "mat2 = td.Medium(n=3.0, k=0.1, freq=freq0)\n",
    "\n",
    "# lossless dispersive material with n & dn/dlambda at a specified frequency or wavelength\n",
    "mat3 = td.Medium(n=2.0, dn=-0.02, freq=freq0)\n",
    "\n",
    "# dispersive material from tidy3d library\n",
    "mat4 = td.material_library.BK7()\n",
    "\n",
    "# put all together\n",
    "mat_slabs = [mat1, mat2, mat3, mat4]"
   ]
  },
  {
   "cell_type": "markdown",
   "metadata": {},
   "source": [
    "## Create Simulation\n",
    "Now we set everything else up (structures, sources, monitors, simulation) to run the example."
   ]
  },
  {
   "cell_type": "markdown",
   "metadata": {},
   "source": [
    "First, we define the multilayer stack structure."
   ]
  },
  {
   "cell_type": "code",
   "execution_count": 4,
   "metadata": {
    "execution": {
     "iopub.execute_input": "2021-07-27T22:37:27.846512Z",
     "iopub.status.busy": "2021-07-27T22:37:27.846091Z",
     "iopub.status.idle": "2021-07-27T22:37:27.855208Z",
     "shell.execute_reply": "2021-07-27T22:37:27.854910Z"
    }
   },
   "outputs": [],
   "source": [
    "slabs = []\n",
    "slab_position = -Lz/2 + 2*spacing\n",
    "for t, mat in zip(t_slabs, mat_slabs):\n",
    "    slab = td.Box(\n",
    "        center=(0, 0, slab_position + t/2),\n",
    "        size=(td.inf, td.inf, t),\n",
    "        material=mat,\n",
    "    )\n",
    "    slabs.append(slab)\n",
    "    slab_position += t"
   ]
  },
  {
   "cell_type": "markdown",
   "metadata": {},
   "source": [
    "We must now define the excitation conditions and field monitors. We will excite the slab using a normally incident (along z) planewave, polarized along the x direciton."
   ]
  },
  {
   "cell_type": "code",
   "execution_count": 5,
   "metadata": {
    "execution": {
     "iopub.execute_input": "2021-07-27T22:37:27.857652Z",
     "iopub.status.busy": "2021-07-27T22:37:27.857275Z",
     "iopub.status.idle": "2021-07-27T22:37:27.864903Z",
     "shell.execute_reply": "2021-07-27T22:37:27.864566Z"
    }
   },
   "outputs": [],
   "source": [
    "# Here we define the planewave source, placed just in advance (towards negative z) of the slab\n",
    "source = td.PlaneWave(\n",
    "    source_time = td.GaussianPulse(\n",
    "        frequency = freq0,\n",
    "        fwidth = freqw\n",
    "    ),\n",
    "    injection_axis='+z',\n",
    "    position=-Lz/2 + spacing,\n",
    "    polarization='x'\n",
    ")"
   ]
  },
  {
   "cell_type": "markdown",
   "metadata": {},
   "source": [
    "Here we define the field monitor, placed just past (towards positive z) of the stack."
   ]
  },
  {
   "cell_type": "code",
   "execution_count": 6,
   "metadata": {
    "execution": {
     "iopub.execute_input": "2021-07-27T22:37:27.867108Z",
     "iopub.status.busy": "2021-07-27T22:37:27.866768Z",
     "iopub.status.idle": "2021-07-27T22:37:27.874284Z",
     "shell.execute_reply": "2021-07-27T22:37:27.873944Z"
    }
   },
   "outputs": [],
   "source": [
    "# We are interested in measuring the transmitted flux, so we set it to be an oversized plane.\n",
    "monitor = td.FreqMonitor(\n",
    "    center = (0, 0, Lz/2 - spacing),\n",
    "    size = (td.inf, td.inf, 0),\n",
    "    freqs = monitor_freqs,\n",
    "    store='flux',\n",
    ")"
   ]
  },
  {
   "cell_type": "markdown",
   "metadata": {},
   "source": [
    "Now it is time to define the simulation object."
   ]
  },
  {
   "cell_type": "code",
   "execution_count": 7,
   "metadata": {
    "execution": {
     "iopub.execute_input": "2021-07-27T22:37:27.876630Z",
     "iopub.status.busy": "2021-07-27T22:37:27.876292Z",
     "iopub.status.idle": "2021-07-27T22:37:27.890976Z",
     "shell.execute_reply": "2021-07-27T22:37:27.890640Z"
    }
   },
   "outputs": [
    {
     "name": "stdout",
     "output_type": "stream",
     "text": [
      "Initializing simulation...\n",
      "Mesh step (micron): [6.67e-03, 6.67e-03, 6.67e-03].\n",
      "Simulation domain in number of grid points: [150, 150, 1140].\n",
      "Total number of grid points: 2.56e+07.\n",
      "Total number of time steps: 21651.\n",
      "Estimated data size (GB) of monitor monitor: 0.0000.\n"
     ]
    }
   ],
   "source": [
    "sim = td.Simulation(\n",
    "    center = (0, 0, 0),\n",
    "    size = sim_size,\n",
    "    mesh_step = 1/res,\n",
    "    structures = slabs,\n",
    "    sources = [source],\n",
    "    monitors = [monitor],\n",
    "    run_time = t_stop,\n",
    "    pml_layers = (0, 0, 15)\n",
    ")"
   ]
  },
  {
   "cell_type": "markdown",
   "metadata": {},
   "source": [
    "## Plot The Structure\n",
    "\n",
    "Let's now plot the permittivity profile to confirm that the structure was defined correctly."
   ]
  },
  {
   "cell_type": "markdown",
   "metadata": {},
   "source": [
    "First we use `viz_mat_2D` to plot the materials only, which assigns a different color to each slab without knowledge of the material properties."
   ]
  },
  {
   "cell_type": "code",
   "execution_count": 8,
   "metadata": {
    "execution": {
     "iopub.execute_input": "2021-07-27T22:37:27.892954Z",
     "iopub.status.busy": "2021-07-27T22:37:27.892621Z",
     "iopub.status.idle": "2021-07-27T22:37:28.042795Z",
     "shell.execute_reply": "2021-07-27T22:37:28.043055Z"
    }
   },
   "outputs": [
    {
     "data": {
      "image/png": "[encoded data removed]",
      "text/plain": [
       "<Figure size 432x288 with 1 Axes>"
      ]
     },
     "metadata": {
      "needs_background": "light"
     },
     "output_type": "display_data"
    }
   ],
   "source": [
    "sim.viz_mat_2D(normal='x')\n",
    "plt.show()"
   ]
  },
  {
   "cell_type": "markdown",
   "metadata": {},
   "source": [
    "Next, we use `viz_eps_2D` to vizualize the permittivity of the stack. However, because the stack contains dispersive materials, we need to specify the `frequency` of interest as an argument to the plotting tool.  Here we show the permittivity at the lowest and highest frequences in the range of interest.  Note that in this case, the real part of the permittivity (being plotted) only changes slightly between the two frequencies on the dispersive material.  However, for other materials with more dispersion, the effect can be much more prominent."
   ]
  },
  {
   "cell_type": "code",
   "execution_count": 9,
   "metadata": {
    "execution": {
     "iopub.execute_input": "2021-07-27T22:37:28.045899Z",
     "iopub.status.busy": "2021-07-27T22:37:28.045570Z",
     "iopub.status.idle": "2021-07-27T22:37:28.348225Z",
     "shell.execute_reply": "2021-07-27T22:37:28.347843Z"
    }
   },
   "outputs": [
    {
     "data": {
      "image/png": "[encoded data removed]",
      "text/plain": [
       "<Figure size 864x288 with 4 Axes>"
      ]
     },
     "metadata": {
      "needs_background": "light"
     },
     "output_type": "display_data"
    }
   ],
   "source": [
    "# plot the permittivity at a few frequencies\n",
    "freqs_plot = (freq_range[0], freq_range[1])\n",
    "fig, axes = plt.subplots(1, len(freqs_plot), tight_layout=True, figsize=(12, 4))\n",
    "for ax, freq_plot in zip(axes, freqs_plot):\n",
    "    sim.viz_eps_2D(normal='x', cbar=True, frequency=freq_plot, ax=ax)\n",
    "plt.show()"
   ]
  },
  {
   "cell_type": "markdown",
   "metadata": {},
   "source": [
    "We can also take a look at the source to make sure it's defined correctly over our frequency range of interst."
   ]
  },
  {
   "cell_type": "code",
   "execution_count": 10,
   "metadata": {
    "execution": {
     "iopub.execute_input": "2021-07-27T22:37:28.351527Z",
     "iopub.status.busy": "2021-07-27T22:37:28.350986Z",
     "iopub.status.idle": "2021-07-27T22:37:28.602916Z",
     "shell.execute_reply": "2021-07-27T22:37:28.602573Z"
    }
   },
   "outputs": [
    {
     "data": {
      "image/png": "[encoded data removed]",
      "text/plain": [
       "<Figure size 720x216 with 2 Axes>"
      ]
     },
     "metadata": {
      "needs_background": "light"
     },
     "output_type": "display_data"
    }
   ],
   "source": [
    "# Check probe and source\n",
    "ax1, ax2 = sim.viz_source(source)\n",
    "ax1.set_xlim(0, 1e-13)\n",
    "# ax2.plot(freq_range, [1, 1])\n",
    "ax2.fill_between(freq_range, [0,0], [1, 1], alpha=0.1, color='r')\n",
    "ax2.legend(('source', 'measure'))\n",
    "plt.show()"
   ]
  },
  {
   "cell_type": "markdown",
   "metadata": {},
   "source": [
    "## Run the simulation\n",
    "\n",
    "We will submit the simulation to run as a new project."
   ]
  },
  {
   "cell_type": "code",
   "execution_count": 11,
   "metadata": {
    "execution": {
     "iopub.execute_input": "2021-07-27T22:37:28.605370Z",
     "iopub.status.busy": "2021-07-27T22:37:28.604853Z",
     "iopub.status.idle": "2021-07-27T22:37:30.889608Z",
     "shell.execute_reply": "2021-07-27T22:37:30.888016Z"
    }
   },
   "outputs": [
    {
     "name": "stdout",
     "output_type": "stream",
     "text": [
      "Uploading the json file...\n"
     ]
    }
   ],
   "source": [
    "# Submit a project to the cluster\n",
    "project = web.new_project(sim.export(), task_name='docs_dispersion')"
   ]
  },
  {
   "cell_type": "code",
   "execution_count": 12,
   "metadata": {
    "execution": {
     "iopub.execute_input": "2021-07-27T22:37:30.899209Z",
     "iopub.status.busy": "2021-07-27T22:37:30.897566Z",
     "iopub.status.idle": "2021-07-27T22:38:43.838906Z",
     "shell.execute_reply": "2021-07-27T22:38:43.837098Z"
    }
   },
   "outputs": [
    {
     "name": "stdout",
     "output_type": "stream",
     "text": [
      "Project 'docs_dispersion-16-1' status: success...                                \n",
      "\n"
     ]
    }
   ],
   "source": [
    "web.monitor_project(project['taskId'])"
   ]
  },
  {
   "cell_type": "markdown",
   "metadata": {},
   "source": [
    "## Postprocess and Plot\n",
    "\n",
    "Once the simulation has completed, we can download the results and load them into the simulation object."
   ]
  },
  {
   "cell_type": "code",
   "execution_count": 13,
   "metadata": {
    "execution": {
     "iopub.execute_input": "2021-07-27T22:38:43.849740Z",
     "iopub.status.busy": "2021-07-27T22:38:43.848011Z",
     "iopub.status.idle": "2021-07-27T22:38:46.548291Z",
     "shell.execute_reply": "2021-07-27T22:38:46.548569Z"
    }
   },
   "outputs": [
    {
     "name": "stdout",
     "output_type": "stream",
     "text": [
      "downloading data...\n",
      "Applying source normalization to all frequency monitors using source index 0.\n"
     ]
    }
   ],
   "source": [
    "print('downloading data...')\n",
    "web.download_results(project['taskId'], target_folder='out')\n",
    "sim.load_results('out/monitor_data.hdf5')"
   ]
  },
  {
   "cell_type": "markdown",
   "metadata": {},
   "source": [
    "Now, we compute the transmitted flux and plot the transmission spectrum."
   ]
  },
  {
   "cell_type": "code",
   "execution_count": 14,
   "metadata": {
    "execution": {
     "iopub.execute_input": "2021-07-27T22:38:46.550964Z",
     "iopub.status.busy": "2021-07-27T22:38:46.550638Z",
     "iopub.status.idle": "2021-07-27T22:38:46.648498Z",
     "shell.execute_reply": "2021-07-27T22:38:46.648097Z"
    }
   },
   "outputs": [
    {
     "data": {
      "image/png": "[encoded data removed]",
      "text/plain": [
       "<Figure size 432x288 with 1 Axes>"
      ]
     },
     "metadata": {
      "needs_background": "light"
     },
     "output_type": "display_data"
    }
   ],
   "source": [
    "# Retrieve the power flux through the monitor plane.\n",
    "transmission = sim.data(monitor)['flux']\n",
    "plt.plot(monitor_lambdas, transmission, color='k')\n",
    "plt.xlabel('wavelength (um)')\n",
    "plt.ylabel('transmitted flux')\n",
    "plt.show()"
   ]
  },
  {
   "cell_type": "markdown",
   "metadata": {},
   "source": [
    "To get power transmission, we need to do a normalizing run without any slab and divide by that result"
   ]
  },
  {
   "cell_type": "code",
   "execution_count": 15,
   "metadata": {
    "execution": {
     "iopub.execute_input": "2021-07-27T22:38:46.651804Z",
     "iopub.status.busy": "2021-07-27T22:38:46.651457Z",
     "iopub.status.idle": "2021-07-27T22:39:52.979480Z",
     "shell.execute_reply": "2021-07-27T22:39:52.979023Z"
    }
   },
   "outputs": [
    {
     "name": "stdout",
     "output_type": "stream",
     "text": [
      "Initializing simulation...\n",
      "Mesh step (micron): [6.67e-03, 6.67e-03, 6.67e-03].\n",
      "Simulation domain in number of grid points: [150, 150, 1140].\n",
      "Total number of grid points: 2.56e+07.\n",
      "Total number of time steps: 21651.\n",
      "Estimated data size (GB) of monitor monitor: 0.0000.\n",
      "Uploading the json file...\n",
      "Project 'docs_dispersion_norm-12' status: success...                                \n",
      "\n",
      "downloading results...\n",
      "Applying source normalization to all frequency monitors using source index 0.\n"
     ]
    }
   ],
   "source": [
    "sim_norm = td.Simulation(\n",
    "    center = (0, 0, 0),\n",
    "    size = sim_size,\n",
    "    mesh_step = 1/res,\n",
    "    structures = [],\n",
    "    sources = [source],\n",
    "    monitors = [monitor],\n",
    "    run_time = t_stop,\n",
    "    pml_layers = (0, 0, 15)\n",
    ")\n",
    "project = web.new_project(sim_norm.export(), task_name='docs_dispersion_norm')\n",
    "web.monitor_project(project['taskId'])\n",
    "print('downloading results...')\n",
    "web.download_results(project['taskId'], target_folder='out')\n",
    "sim_norm.load_results('out/monitor_data.hdf5')\n",
    "transmission_norm = sim_norm.data(monitor)['flux']"
   ]
  },
  {
   "cell_type": "code",
   "execution_count": 16,
   "metadata": {
    "execution": {
     "iopub.execute_input": "2021-07-27T22:39:52.981988Z",
     "iopub.status.busy": "2021-07-27T22:39:52.981654Z",
     "iopub.status.idle": "2021-07-27T22:39:53.105641Z",
     "shell.execute_reply": "2021-07-27T22:39:53.105274Z"
    }
   },
   "outputs": [
    {
     "data": {
      "image/png": "[encoded data removed]",
      "text/plain": [
       "<Figure size 432x288 with 1 Axes>"
      ]
     },
     "metadata": {
      "needs_background": "light"
     },
     "output_type": "display_data"
    }
   ],
   "source": [
    "plt.plot(monitor_lambdas, transmission, label='with structure')\n",
    "plt.plot(monitor_lambdas, transmission_norm, label='no structure')\n",
    "plt.plot(monitor_lambdas, transmission / transmission_norm, 'k--', label='normalized')\n",
    "plt.legend()\n",
    "plt.xlabel('wavelength (um)')\n",
    "plt.ylabel('fraction of transmitted power (normalized)')\n",
    "plt.show()"
   ]
  },
  {
   "cell_type": "markdown",
   "metadata": {},
   "source": [
    "We see that since the flux monitor already takes the source power into account, the normalizing run doens't affect the calculation much, but it is prudent to include for broadband calculations."
   ]
  },
  {
   "cell_type": "markdown",
   "metadata": {},
   "source": [
    "## Analytical Comparison\n",
    "\n",
    "We will use a transfer matrix method (TMM) [code](https://github.com/sbyrnes321/tmm) to compare tidy3d transmission to a semi-analytical result."
   ]
  },
  {
   "cell_type": "code",
   "execution_count": 17,
   "metadata": {
    "execution": {
     "iopub.execute_input": "2021-07-27T22:39:53.108163Z",
     "iopub.status.busy": "2021-07-27T22:39:53.107829Z",
     "iopub.status.idle": "2021-07-27T22:39:53.116671Z",
     "shell.execute_reply": "2021-07-27T22:39:53.116325Z"
    }
   },
   "outputs": [],
   "source": [
    "# install and import TMM package\n",
    "!pip install -q tmm\n",
    "import tmm"
   ]
  },
  {
   "cell_type": "code",
   "execution_count": 18,
   "metadata": {
    "execution": {
     "iopub.execute_input": "2021-07-27T22:39:53.119829Z",
     "iopub.status.busy": "2021-07-27T22:39:53.119492Z",
     "iopub.status.idle": "2021-07-27T22:39:53.192996Z",
     "shell.execute_reply": "2021-07-27T22:39:53.192636Z"
    }
   },
   "outputs": [],
   "source": [
    "# prepare list of thicknesses including air boundaries\n",
    "d_list = [np.inf] + t_slabs + [np.inf]\n",
    "\n",
    "# convert the complex permittivities at each frequency to refractive indices\n",
    "n_list1 = np.sqrt(mat1.epsilon(monitor_freqs))\n",
    "n_list2 = np.sqrt(mat2.epsilon(monitor_freqs))\n",
    "n_list3 = np.sqrt(mat3.epsilon(monitor_freqs))\n",
    "n_list4 = np.sqrt(mat4.epsilon(monitor_freqs))\n",
    "\n",
    "# loop through wavelength and record TMM computed transmission\n",
    "transmission_tmm = [] \n",
    "for i, lam in enumerate(monitor_lambdas):\n",
    "    \n",
    "    # create list of refractive index at this wavelength including outer material (air)\n",
    "    n_list = [1, n_list1[i], n_list2[i], n_list3[i], n_list4[i], 1]\n",
    "\n",
    "    # get transmission at normal incidence\n",
    "    T = tmm.coh_tmm('s', n_list, d_list, 0, lam)['T']\n",
    "    transmission_tmm.append(T)"
   ]
  },
  {
   "cell_type": "code",
   "execution_count": 19,
   "metadata": {
    "execution": {
     "iopub.execute_input": "2021-07-27T22:39:53.195620Z",
     "iopub.status.busy": "2021-07-27T22:39:53.195251Z",
     "iopub.status.idle": "2021-07-27T22:39:53.541744Z",
     "shell.execute_reply": "2021-07-27T22:39:53.541311Z"
    }
   },
   "outputs": [
    {
     "data": {
      "image/png": "[encoded data removed]",
      "text/plain": [
       "<Figure size 432x288 with 1 Axes>"
      ]
     },
     "metadata": {
      "needs_background": "light"
     },
     "output_type": "display_data"
    }
   ],
   "source": [
    "plt.figure()\n",
    "plt.plot(monitor_lambdas, transmission_tmm, label='TMM')\n",
    "plt.plot(monitor_lambdas, transmission / transmission_norm, 'k--', label='Tidy3D')\n",
    "plt.xlabel('wavelength ($\\mu m$)')\n",
    "plt.ylabel('Transmitted')\n",
    "plt.legend()\n",
    "plt.show()"
   ]
  }
 ],
 "metadata": {
  "kernelspec": {
   "display_name": "Python 3",
   "language": "python",
   "name": "python3"
  },
  "language_info": {
   "codemirror_mode": {
    "name": "ipython",
    "version": 3
   },
   "file_extension": ".py",
   "mimetype": "text/x-python",
   "name": "python",
   "nbconvert_exporter": "python",
   "pygments_lexer": "ipython3",
   "version": "3.6.13"
  }
 },
 "nbformat": 4,
 "nbformat_minor": 4
}
