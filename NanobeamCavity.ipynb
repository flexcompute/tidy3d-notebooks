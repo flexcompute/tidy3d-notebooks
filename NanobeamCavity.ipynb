{
 "cells": [
  {
   "cell_type": "markdown",
   "metadata": {},
   "source": [
    "# Nanobeam cavity\n",
    "\n",
    "1D photonic crystal cavities, also known as nanobeam cavities, are widely used in photonics and quantum optics due to their high-quality factors (Q-factors) and low mode volumes. These attributes make them ideal for exploiting Purcell enhancement, which is crucial for applications involving quantum emitters. The cavities consist of a one-dimensional array of unit cells acting as Bragg mirrors surrounding a tapered region. In this region, the photonic bandgap is gently shifted, allowing the accommodation of an optical mode with minimal scattering and a high-quality factor. In other dimensions, the light confinement is due to total internal reflection.\n",
    "\n",
    "In this notebook, we will implement the basic simulation for such cavities, and go through analysis procedures to calculate mode volume and Q-factors, without the need to run the simulation until the total decay of the fields, which is not practical for high-Q cavities. The Q-factor is a figure of merit related to the photon lifetime in the cavity; hence, a high Q-factor means that the fields in the cavity will decay slowly over time. The mode volume is a metric to evaluate the volumetric distribution of the mode; a low mode volume indicates a highly concentrated field. To explore Purcell enhancement, a cavity with a high Q-factor and low mode volume is needed.\n",
    "\n",
    " As a reference, we will reproduce the results of the work of `Parag B. Deotare, Murray W. McCutcheon, Ian W. Frank,\n",
    "Mughees Khan,and Marko Lončar, \"High quality factor photonic crystal nanobeam cavities\", Applied Physics Letters 94(12), (2009).` [DOI: https://doi.org/10.1063/1.3107263](https://doi.org/10.1063/1.3107263).\n",
    "\n",
    "The design consists of two stacks of unit cells that will act as mirrors, and a tapered region, where the parameters of the unit cell are modified given a polynomial function, to reduce abrupt mode mismatch and avoid scattering. It is possible to explore asymmetries in the cavities, reducing the number of unit cells in one direction and adding a tapered region at its end, allowing efficient light extraction with tapered fiber optics.\n",
    "\n",
    "<img src=\"img/NanobeamCavity_1.png\" width=\"400\" alt=\"Schematic of the experiment\">\n",
    "\n",
    "\n",
    "For more information, please refer to our [learning center](https://www.flexcompute.com/tidy3d/examples/), where you can find tutorials and examples on how to carry out [band structure calculation](https://www.flexcompute.com/tidy3d/examples/notebooks/Bandstructure/), use the [resonance finder plugin](https://www.flexcompute.com/tidy3d/examples/notebooks/ResonanceFinder/) and how to calculate [Q-factor and mode volume for a 2D photonic crystal cavity](https://www.flexcompute.com/tidy3d/examples/notebooks/CavityFOM/)\n"
   ]
  },
  {
   "cell_type": "code",
   "execution_count": 1,
   "metadata": {},
   "outputs": [],
   "source": [
    "import tidy3d as td\n",
    "import numpy as np\n",
    "import matplotlib.pyplot as plt\n",
    "from tidy3d import web\n",
    "from typing import Callable\n",
    "# defining a random seed for reproducibility\n",
    "np.random.seed(12)"
   ]
  },
  {
   "cell_type": "markdown",
   "metadata": {},
   "source": [
    "## Auxiliary Functions\n",
    "\n",
    "We will start defining some auxiliary functions to help us set up the simulation.\n",
    "\n",
    "Since for using the [resonance finder plugin](https://www.flexcompute.com/tidy3d/examples/notebooks/ResonanceFinder/) it is necessary to analyze the fields after the source decays, we will define a simple function to estimate the decay time of the source, given the relation of the temporal width ($\\Delta t$) and the spectral linewidth ($\\Delta  \\nu$) of a gaussian pulse $\\Delta t \\Delta \\nu \\approx 0.44$, and the `offset` attribute of the `source_time`object."
   ]
  },
  {
   "cell_type": "code",
   "execution_count": 2,
   "metadata": {},
   "outputs": [],
   "source": [
    "def find_source_decay(source):\n",
    "    # source bandwidth\n",
    "    fwidth = source.source_time.fwidth\n",
    "\n",
    "    # time offset to start the source\n",
    "    time_offset = source.source_time.offset / (2 * np.pi * fwidth)\n",
    "\n",
    "    # time width for a gaussian pulse\n",
    "    pulse_time = 0.44 / fwidth\n",
    "\n",
    "    decay_time = time_offset + pulse_time\n",
    "    return decay_time"
   ]
  },
  {
   "cell_type": "markdown",
   "metadata": {},
   "source": [
    "Next, we will define the function to return the tapered parameter as a function of the unit cell position. A given parameter in the tapered region will follow the definition:\n",
    "\n",
    "$P_{tapered}(x) = P[1 - M_d(2x^3 -3x^2 + 1)]$\n",
    "\n",
    "Where $x \\equiv \\frac{\\text{unit cell index}}{\\text{number of tapered unit cells}}$, and the unit cell at the center is indexed as 0. Hence $x$ ranges from 0 to 1, so the center unit cell would have a given parameter as $P(1- M_d)$.\n",
    "\n",
    "The $M_d$ parameter is a number ranging from $[0,1)$ and is interpreted as the maximum reduction of a given parameter, in proportion to its original value. For example, $M_d = 0.3$ means that the smallest value of this parameter will be 30% less than its original value.\n",
    "\n"
   ]
  },
  {
   "cell_type": "code",
   "execution_count": 3,
   "metadata": {},
   "outputs": [],
   "source": [
    "def taper_factor(\n",
    "    max_dip,\n",
    "    structure_index,\n",
    "    n_tapered_structures,\n",
    "    cubic_factor=2,\n",
    "    quadratic_factor=-3,\n",
    "    linear_factor=0,\n",
    "    offsetFactor=1,\n",
    "):\n",
    "    cubic = cubic_factor\n",
    "    quadratic = quadratic_factor\n",
    "    linear = linear_factor\n",
    "    offset = offsetFactor\n",
    "\n",
    "    \"\"\"\n",
    "    Compute a taper factor using a cubic polynomial.\n",
    "\n",
    "    Parameters:\n",
    "    - max_dip: float, maximum dip in taper factor.\n",
    "    - structure_index: int, index of the current structure.\n",
    "    - n_tapered_structures: int, total number of tapered structures.\n",
    "    - cubic_factor: float, coefficient for cubic term (default 2).\n",
    "    - quadratic_factor: float, coefficient for quadratic term (default -3).\n",
    "    - linear_factor: float, coefficient for linear term (default 0).\n",
    "    - offsetFactor: float, constant offset (default 1).\n",
    "\n",
    "    Returns:\n",
    "    - float, the taper factor for the given structure.\n",
    "    \"\"\"\n",
    "\n",
    "    # to avoid division for 0 in a case where there is no tapered region\n",
    "    if n_tapered_structures == 0:\n",
    "        x = 1\n",
    "    else:\n",
    "        x = structure_index / np.ceil(n_tapered_structures / 2)\n",
    "\n",
    "    # factor is 1 if the structure is not in the tapered region\n",
    "    factor = (\n",
    "        1\n",
    "        if x >= 1\n",
    "        else 1 - max_dip * (cubic * x**3 + quadratic * x**2 + linear * x + offset)\n",
    "    )\n",
    "\n",
    "    return factor"
   ]
  },
  {
   "cell_type": "markdown",
   "metadata": {},
   "source": [
    "To reduce the computational cost, we can exploit mirror symmetries of the problem to reduce the computational size up to 8 times. However, to properly set the symmetries parity, it is necessary to consider the polarization and vectorial nature of the fields.  For more information on how to set up symmetries and their relation with source polarization, please refer to our [symmetries tutorial](https://www.flexcompute.com/tidy3d/examples/notebooks/Symmetry/).\n",
    "\n",
    "The function defined below will generate the right symmetry parity for a given polarization."
   ]
  },
  {
   "cell_type": "code",
   "execution_count": 4,
   "metadata": {},
   "outputs": [],
   "source": [
    "def get_symmetry(polarization):\n",
    "    if polarization == \"Ex\":\n",
    "        sym = [-1, 1, 1]\n",
    "    elif polarization == \"Ey\":\n",
    "        sym = [1, -1, 1]\n",
    "    elif polarization == \"Ez\":\n",
    "        sym = [1, 1, -1]\n",
    "    elif polarization == \"Hz\":\n",
    "        sym = [-1, -1, 1]\n",
    "    elif polarization == \"Hy\":\n",
    "        sym = [-1, 1, -1]\n",
    "    elif polarization == \"Hx\":\n",
    "        sym = [1, -1, -1]\n",
    "    return sym"
   ]
  },
  {
   "cell_type": "markdown",
   "metadata": {},
   "source": [
    "## Simulation Setup\n",
    "\n",
    "Now, we will start creating functions to set up the simulation.\n",
    "\n",
    "First, we will define a function that creates a stack of unit cells on one side of the nanobeam, positioning them correctly and defining the appropriate tapered parameter. Since unit cell assembly is consistent across different types, the function will accept a `unit_cell_function` argument, which returns the unit cell geometry. Additionally, it requires a list of original parameter arguments (`original_params`) and a list of the $Md$ parameters (`max_dip_params`).\n",
    "\n",
    "\n",
    "Note that `n_tapered_structures` refers to the total number of tapered unit cells on both sides of the nanobeam. Hence, if there is an odd number of unit cells, the first one is exactly in the middle. Otherwise, it is separated by a lattice constant from its twin on the other side, plus a gap (`central_gap` argument). The definition of `n_constant_structures` refers to the mirror cells on each side."
   ]
  },
  {
   "cell_type": "code",
   "execution_count": 5,
   "metadata": {},
   "outputs": [],
   "source": [
    "def assemble_unit_cells(\n",
    "    unit_cell_function: Callable,\n",
    "    lattice_constant: float,\n",
    "    max_dip_lattice: float,\n",
    "    n_constant_structures: int,\n",
    "    n_tapered_structures: int,\n",
    "    original_params: list,\n",
    "    max_dip_params: list,\n",
    "    central_gap: float = 0,\n",
    "):\n",
    "    \"\"\"\n",
    "    Assemble unit cells into a structure with tapered lattice constants and parameters.\n",
    "\n",
    "    Parameters:\n",
    "    - unit_cell_function: callable, function to generate a unit cell given position and parameters.\n",
    "    - lattice_constant: float, base lattice constant for the unit cells.\n",
    "    - max_dip_lattice: float, maximum dip for tapering the lattice constant.\n",
    "    - n_constant_structures: int, number of constant lattice structures on either side.\n",
    "    - n_tapered_structures: int, total number of tapered structures.\n",
    "    - original_params: list of floats, original parameters to be tapered (default empty list).\n",
    "    - max_dip_params: list of floats, maximum dips for each parameter to be tapered (default empty list).\n",
    "    - central_gap: float, gap between central unit cells (only valid for an odd number of tapered structures).\n",
    "\n",
    "    Returns:\n",
    "    - unit_cells: combined unit cells as generated by the unit_cell_function.\n",
    "    - pos_x: final position of the last unit cell in the x-direction.\n",
    "    \"\"\"\n",
    "\n",
    "    unit_cells = None\n",
    "\n",
    "    # start position\n",
    "    pos_x = 0\n",
    "\n",
    "    # defining the number of unit cells for each side\n",
    "    positions = range(\n",
    "        n_constant_structures\n",
    "        + int(np.floor(n_tapered_structures / 2))\n",
    "        + n_constant_structures % 2\n",
    "    )\n",
    "\n",
    "    # iterating over the unit cells\n",
    "    for i in positions:\n",
    "        # defining the current value of the unit cell given the position\n",
    "        current_lattice_constant = lattice_constant * taper_factor(\n",
    "            max_dip_lattice, i, n_tapered_structures\n",
    "        )\n",
    "\n",
    "        # condition for odd or even number of unit cells\n",
    "        if i == 0:\n",
    "            if n_tapered_structures % 2 != 0:\n",
    "                pos_x = 0\n",
    "            else:\n",
    "                pos_x = central_gap / 2 + current_lattice_constant / 2\n",
    "        else:\n",
    "            pos_x += current_lattice_constant / 2 + previous_lattice_constant / 2\n",
    "\n",
    "        # now we create a list of parameters to input to the unit_cell_function\n",
    "        parameters = []\n",
    "        for idx in range(len(original_params)):\n",
    "            original = original_params[idx]\n",
    "            max_dip = max_dip_params[idx]\n",
    "            tapered_param = original * taper_factor(\n",
    "                max_dip, i, n_tapered_structures\n",
    "            )\n",
    "            parameters.append(tapered_param)\n",
    "\n",
    "        # defining the center\n",
    "        center = (pos_x, 0, 0)\n",
    "\n",
    "        # creating the unit cell calling the unit_cell_function\n",
    "        new_unit_cell = unit_cell_function(center, *parameters)\n",
    "\n",
    "        # adding the unit cell to the geometry (or initializing the variable if is the first unit cell)\n",
    "        unit_cells = new_unit_cell if unit_cells == None else unit_cells + new_unit_cell\n",
    "\n",
    "        # the separation to the next unit cell is the mean value of the lattice constants of the current and next unit cells\n",
    "        previous_lattice_constant = current_lattice_constant\n",
    "\n",
    "    # return the geometry and the position of the last unit cell\n",
    "    return unit_cells, pos_x"
   ]
  },
  {
   "cell_type": "markdown",
   "metadata": {},
   "source": [
    "### Unit cell functions\n",
    "\n",
    "As an example, we will create 3 different unit cell functions. The first two are simple functions to return elliptical and square unit cells. The third one is an example of more complex geometry using the [PolySlab](https://docs.flexcompute.com/projects/tidy3d/en/latest/api/_autosummary/tidy3d.PolySlab.html).\n",
    "\n",
    "Given the definition `assemble_unit_cells` function, the first argument must be the center of the geometry object, and non-taper parameters must be passed as default arguments."
   ]
  },
  {
   "cell_type": "code",
   "execution_count": 6,
   "metadata": {},
   "outputs": [],
   "source": [
    "# function for creating ellipse unit cells\n",
    "def ellipse_uc(center, x_axis, y_axis, height=0.5):\n",
    "    theta = np.linspace(0, np.pi * 2, 1001)\n",
    "    x = x_axis * np.cos(theta) + center[0]\n",
    "    y = y_axis * np.sin(theta) + center[1]\n",
    "\n",
    "    geometry = td.PolySlab(\n",
    "        vertices=np.array([x, y]).T,\n",
    "        slab_bounds=(-height / 2 + center[2], height / 2 + center[2]),\n",
    "        axis=2,\n",
    "    )\n",
    "    return geometry\n",
    "\n",
    "\n",
    "# function for creating ellipse unit cells\n",
    "def square_uc(center, x_size, y_size, height=0.5):\n",
    "    geometry = td.Box(center=center, size=(x_size, y_size, height))\n",
    "    return geometry\n",
    "\n",
    "\n",
    "# function for creating \"sawfish\" unit cells\n",
    "def sawfish_uc(center, x, y, height=0.5, width=0.1):\n",
    "    e = 6\n",
    "\n",
    "    yArray = []\n",
    "    numPoints = 501\n",
    "\n",
    "    # defining the vertices for the PolySlab\n",
    "    xaxis = np.linspace(center[0] - x / 2, center[0] + x / 2, numPoints)\n",
    "    xArray = np.linspace(-x / 2, x / 2, numPoints)\n",
    "    yArray = y * ((np.cos((np.pi / x) * xArray)) ** e) + width / 2\n",
    "    yArray2 = -y * ((np.cos((np.pi / x) * np.flip(xArray))) ** e) - width / 2\n",
    "\n",
    "    X = np.concatenate([xaxis, np.flip(xaxis)])\n",
    "    Y = np.concatenate([yArray, yArray2])\n",
    "    arr = np.array([X, Y]).T\n",
    "\n",
    "    geometry = td.PolySlab(\n",
    "        vertices=arr,\n",
    "        slab_bounds=(-height / 2, height / 2),\n",
    "        axis=2,\n",
    "    )\n",
    "\n",
    "    return geometry"
   ]
  },
  {
   "cell_type": "code",
   "execution_count": 7,
   "metadata": {},
   "outputs": [
    {
     "data": {
      "image/png": "[encoded data removed]",
      "text/plain": [
       "<Figure size 640x480 with 1 Axes>"
      ]
     },
     "metadata": {},
     "output_type": "display_data"
    },
    {
     "data": {
      "image/png": "[encoded data removed]",
      "text/plain": [
       "<Figure size 640x480 with 1 Axes>"
      ]
     },
     "metadata": {},
     "output_type": "display_data"
    },
    {
     "data": {
      "image/png": "[encoded data removed]",
      "text/plain": [
       "<Figure size 640x480 with 1 Axes>"
      ]
     },
     "metadata": {},
     "output_type": "display_data"
    }
   ],
   "source": [
    "# plot the geometries\n",
    "\n",
    "args = dict(\n",
    "    lattice_constant=1,\n",
    "    max_dip_lattice=0.5,\n",
    "    n_constant_structures=15,\n",
    "    n_tapered_structures=8,\n",
    ")\n",
    "\n",
    "ellipse_geometry, _ = assemble_unit_cells(\n",
    "    unit_cell_function=ellipse_uc,\n",
    "    original_params=[0.2, 0.3],\n",
    "    max_dip_params=[0.4, 0.3],\n",
    "    **args\n",
    ")\n",
    "ellipse_geometry.plot(z=0)\n",
    "\n",
    "square_geometry, _ = assemble_unit_cells(\n",
    "    unit_cell_function=square_uc,\n",
    "    original_params=[0.4, 0.3],\n",
    "    max_dip_params=[0.4, 0.3],\n",
    "    **args\n",
    ")\n",
    "square_geometry.plot(z=0)\n",
    "\n",
    "sawfish_geometry, _ = assemble_unit_cells(\n",
    "    unit_cell_function=sawfish_uc,\n",
    "    original_params=[1, 0.5],\n",
    "    max_dip_params=[0.4, 0.5],\n",
    "    **args\n",
    ")\n",
    "sawfish_geometry.plot(z=0)\n",
    "\n",
    "plt.show()"
   ]
  },
  {
   "cell_type": "markdown",
   "metadata": {},
   "source": [
    "### Source and monitors\n",
    "\n",
    "Auxiliary function for creating the [point dipole source](https://docs.flexcompute.com/projects/tidy3d/en/latest/api/_autosummary/tidy3d.PointDipole.html)"
   ]
  },
  {
   "cell_type": "code",
   "execution_count": 8,
   "metadata": {},
   "outputs": [],
   "source": [
    "def create_source(\n",
    "    polarization=\"Ey\",\n",
    "    wl1=0.7,\n",
    "    wl2=1.0,\n",
    "    center=(0, 0, 0),\n",
    "):\n",
    "    # defining the frequencies based on the given wavelengths\n",
    "    freq1 = td.C_0 / wl1\n",
    "    freq2 = td.C_0 / wl2\n",
    "    freq0 = (freq1 - freq2) / 2 + freq2\n",
    "    fwidth = (freq1 - freq2) / 2\n",
    "\n",
    "    # defining the source\n",
    "    source = td.PointDipole(\n",
    "        center=center,\n",
    "        name=\"pointDipole\",\n",
    "        polarization=polarization,\n",
    "        source_time=td.GaussianPulse(\n",
    "            freq0=freq0, fwidth=fwidth, phase=2 * np.pi * np.random.random()\n",
    "        ),\n",
    "    )\n",
    "\n",
    "    return source"
   ]
  },
  {
   "cell_type": "markdown",
   "metadata": {},
   "source": [
    "Function for creating the monitors.\n",
    "\n",
    "For this simulation we will have distinct types of monitors:\n",
    "\n",
    "1. Some point [`FieldTimeMonitor`](https:/`docs.flexcompute.com/projects/tidy3d/en/latest/api/_autosummary/tidy3d.FieldTimeMonitor.html), that will record the fields as a function of time in different positions of the cavity, and will be used for Q-factor and resonant frequency calculation\n",
    "\n",
    "2. Six [`FluxTimeMonitor`](https://docs.flexcompute.com/projects/tidy3d/en/latest/api/_autosummary/tidy3d.FluxTimeMonitor.html) surrounding the simulation domain, that will be used for discriminating the directions of losses, and calculation of directional Q-factors.\n",
    "\n",
    "3. One 3D `FieldTimeMonitor` for calculating the total energy at the end of the simulation. To reduce memory requirements, we will set the `interval_space` as `(5,5,5)`, which means that we will record fields at each five grid points in all directions.\n",
    "\n",
    "4. One planar `FieldTimeMonitor`, also recorded at the end of the simulation, to show the field profile. \n",
    "\n",
    "\n",
    "Note that, in principle, it would be possible to use a frequency-domain monitor to visualize the resonant mode profile. However, the exact resonance frequency is often not known beforehand, therefore it is difficult the set the exact frequency to visualize. On the other hand, setting the time field monitors to record only a fell oscillation cycle at the end of the simulation ensures that only the resonant modes are being recorded, as the other frequencies have already decayed."
   ]
  },
  {
   "cell_type": "code",
   "execution_count": 9,
   "metadata": {},
   "outputs": [],
   "source": [
    "def create_monitors(\n",
    "    simulation,\n",
    "    n_point_monitors=5,\n",
    "    center=(0, 0, 0),\n",
    "    deviation=(0.2, 0, 0),\n",
    "):\n",
    "    simulation_size = simulation.size\n",
    "\n",
    "    freq0 = simulation.sources[0].source_time.freq0\n",
    "\n",
    "    # creating random positions around the center of the cavity\n",
    "    positions = np.random.random((n_point_monitors, 3)) * np.array(deviation) + center\n",
    "\n",
    "    # creating the randomly positioned monitors\n",
    "    point_monitors = [\n",
    "        td.FieldTimeMonitor(\n",
    "            center=tuple(positions[i]),\n",
    "            name=\"pointMon%i\" % i,\n",
    "            start=0,\n",
    "            size=(0, 0, 0),\n",
    "            interval=1,\n",
    "        )\n",
    "        for i in range(n_point_monitors)\n",
    "    ]\n",
    "\n",
    "    # defining size for the 3D field monitor\n",
    "    size = tuple(np.array(simulation_size) * 0.9)\n",
    "\n",
    "    # defining the start time of the monitors to record only the last two oscillations of the field\n",
    "    start = simulation.run_time - 2 / freq0\n",
    "\n",
    "    # 3D field monitor for energy density calculation\n",
    "    field_monitor = td.FieldTimeMonitor(\n",
    "        center=(0, 0, 0),\n",
    "        size=size,\n",
    "        start=start,\n",
    "        name=\"fieldTimeMon\",\n",
    "        interval_space=(5, 5, 5),\n",
    "    )\n",
    "\n",
    "    # 2D field monitor for visualizing the resonant mode profile\n",
    "    field_profile_monitor = td.FieldTimeMonitor(\n",
    "        center=(0, 0, 0),\n",
    "        size=(td.inf, td.inf, 0),\n",
    "        start=start,\n",
    "        name=\"fieldProfileMon\",\n",
    "    )\n",
    "\n",
    "    # setup planar flux monitors surrounding the simulation volume\n",
    "    flux_monitors = []\n",
    "    for i in [-1, 1]:\n",
    "        for j in [(0.5, 0, 0), (0, 0.5, 0), (0, 0, 0.5)]:\n",
    "            j = np.array(j)\n",
    "            # defining the center\n",
    "            mon_center = tuple(np.array(size) * j * i + -1 * i * j * (0.95, 0.95, 0.95))\n",
    "\n",
    "            # defining the size\n",
    "            j2 = np.array([0 if l == 0.5 else 1 for l in j])\n",
    "            mon_size = tuple(np.array(size) * j2 * 2)\n",
    "\n",
    "            # defining the name\n",
    "            mon_name = np.array([\"x\", \"y\", \"z\"])[np.ceil(j).astype(bool)][0]\n",
    "            mon_name = (\"-\" + mon_name) if i == -1 else mon_name\n",
    "\n",
    "            # creating the monitors\n",
    "            flux_monitors.append(\n",
    "                td.FluxTimeMonitor(\n",
    "                    center=mon_center, size=mon_size, start=start, name=mon_name\n",
    "                )\n",
    "            )\n",
    "\n",
    "    return (\n",
    "        point_monitors\n",
    "        + flux_monitors\n",
    "        + [\n",
    "            field_monitor,\n",
    "            field_profile_monitor,\n",
    "        ]\n",
    "    )"
   ]
  },
  {
   "cell_type": "markdown",
   "metadata": {},
   "source": [
    "Function for creating simulation object. Since many simulation parameters such as symmetry and source positions depend on the final nanobeam structure, it is convenient to wrap everything in a single function."
   ]
  },
  {
   "cell_type": "code",
   "execution_count": 10,
   "metadata": {},
   "outputs": [],
   "source": [
    "def create_simulation(\n",
    "    wl1: float,\n",
    "    wl2: float,\n",
    "    width: float,\n",
    "    height: float,\n",
    "    unit_cell_function: Callable,\n",
    "    lattice_constant: float,\n",
    "    n_constant_structures_right: int,\n",
    "    n_constant_structures_left: int,\n",
    "    n_tapered_structures: int,\n",
    "    n_tapered_output: int,\n",
    "    max_dip_lattice: float,\n",
    "    original_params: list,\n",
    "    max_dip_params: list,\n",
    "    polarization: str,\n",
    "    unit_cell_index: int,\n",
    "    waveguide_index: float,\n",
    "    run_time: float = 2e-12,\n",
    "    central_gap: float = 0,\n",
    "    delta_override: float = 0.01,\n",
    "    substrate_index: float = 1,\n",
    "    medium_index: float = 1,\n",
    "    sidewall_angle: float = 0,\n",
    "):\n",
    "    \"\"\"\n",
    "    create a simulation with specified parameters and unit cells.\n",
    "\n",
    "    Parameters:\n",
    "    - wl1: float, wavelength 2.\n",
    "    - wl2: float, wavelength 2 for the simulation.\n",
    "    - width: float, width of the waveguide structure.\n",
    "    - height: float, height of the structure.\n",
    "    - unit_cell_function: callable, function to generate unit cells.\n",
    "    - delta_override: float, spacing for mesh override.\n",
    "    - lattice_constant: float, lattice constant.\n",
    "    - n_constant_structures_right: int, number of constant structures on the right side of the nanobeam.\n",
    "    - n_constant_structures_left: int, number of constant structures on the left side of the nanobeam.\n",
    "    - n_tapered_structures: int, number of tapered structures at the cavity region.\n",
    "    - n_tapered_waveguide: int, number of tapered unit cells at the right end of the nanobeam.\n",
    "    - max_dip_lattice: float, maximum dip for the lattice constant tapering.\n",
    "    - original_params: list, list with the unit cell params.\n",
    "    - max_dip_params: list, list with the tapering params\n",
    "    - polarization: str, polarization of the source.\n",
    "    - unit_cell_index: int, index for the unit cell structure.\n",
    "    - waveguide_index: float, index for the waveguide.\n",
    "    - run_time: float, total run time for the simulation.\n",
    "    - central_gap: float, central gap between structures (if n_tapered_structures is odd).\n",
    "    - substrate_index: float, index for the substrate material.\n",
    "    - medium_index: float, index for the surrounding medium.\n",
    "    - sidewall_angle: float, waveguide sidewall angle.\n",
    "\n",
    "    Returns:\n",
    "    - sim: the simulation object with defined structures, sources, and monitors.\n",
    "    \"\"\"\n",
    "\n",
    "    # define the mesh override at the cavity region\n",
    "    mesh_override = td.MeshOverrideStructure(\n",
    "        geometry=td.Box(center=(0, 0, 0), size=(4, width, height)),\n",
    "        dl=(delta_override,) * 3,\n",
    "    )\n",
    "\n",
    "    # define grid specification for the simulation\n",
    "    grid_spec = td.GridSpec.auto(\n",
    "        min_steps_per_wvl=15,\n",
    "        override_structures=[mesh_override],\n",
    "    )\n",
    "\n",
    "    kwargs = dict(unit_cell_function=unit_cell_function,\n",
    "                  lattice_constant=lattice_constant,\n",
    "                  max_dip_lattice=max_dip_lattice,\n",
    "                  original_params=original_params,\n",
    "                  max_dip_params=max_dip_params,\n",
    "                  central_gap=central_gap)\n",
    "\n",
    "    # assemble unit cells for the right side of the nanobeam\n",
    "    unit_cells_right, pos_x_right = assemble_unit_cells(\n",
    "        n_constant_structures=n_constant_structures_right,\n",
    "        n_tapered_structures=n_tapered_structures,\n",
    "        **kwargs\n",
    "    )\n",
    "\n",
    "    # assemble unit cells for the left side of the nanobeam\n",
    "    unit_cells_left, pos_x_left = assemble_unit_cells(\n",
    "        n_constant_structures=n_constant_structures_left,\n",
    "        n_tapered_structures = n_tapered_structures,\n",
    "        **kwargs\n",
    "    )\n",
    "\n",
    "    # rotate and adjust the position of the left unit cells\n",
    "    unit_cells_left = unit_cells_left.rotated(np.pi, axis=2)\n",
    "    pos_x_left *= -1\n",
    "\n",
    "    # assemble and position the tapered output if applicable\n",
    "    if n_tapered_output > 0:\n",
    "        waveguide_tapered, pos_tapered = assemble_unit_cells(\n",
    "            n_constant_structures=0,\n",
    "            n_tapered_structures=n_tapered_output * 2,\n",
    "            **kwargs\n",
    "        )\n",
    "\n",
    "        # rotate and position the tapered output\n",
    "        waveguide_tapered = waveguide_tapered.rotated(np.pi, axis=2)\n",
    "        waveguide_tapered = waveguide_tapered.translated(\n",
    "            x=pos_x_right + lattice_constant + pos_tapered, y=0, z=0\n",
    "        )\n",
    "\n",
    "        # combine the left, right, and tapered waveguide geometries\n",
    "        nanobeam_geometry = unit_cells_left + unit_cells_right + waveguide_tapered\n",
    "\n",
    "    else:\n",
    "        pos_tapered = 0\n",
    "        nanobeam_geometry = unit_cells_left + unit_cells_right\n",
    "\n",
    "    # calculate sizes and defining the center of the nanobeam geometry\n",
    "    size_left = abs(pos_x_left) + lattice_constant + wl2 / 2\n",
    "    size_right = abs(pos_x_right + pos_tapered) + lattice_constant + wl2 / 2\n",
    "    nanobeam_size = size_left + size_right\n",
    "    nanobeam_center = size_left - nanobeam_size / 2\n",
    "\n",
    "    # recenter the geometry to optimize the simulation space\n",
    "    nanobeam_geometry = nanobeam_geometry.translated(x=nanobeam_center, y=0, z=0)\n",
    "\n",
    "    # define mediums for the substrate and nanobeam materials\n",
    "    nanobeam_medium = td.Medium(permittivity=unit_cell_index**2)\n",
    "\n",
    "    # create the nanobeam structure\n",
    "    nanobeam_structure = td.Structure(\n",
    "        geometry=nanobeam_geometry,\n",
    "        medium=nanobeam_medium,\n",
    "    )\n",
    "\n",
    "    # define the waveguide geometry\n",
    "    cell_size = (\n",
    "        nanobeam_size,\n",
    "        width + 2 * wl2,\n",
    "        height + 2 * wl2,\n",
    "    )\n",
    "\n",
    "    # defining the waveguide. Use a PolySlab for the sidewall angle\n",
    "    geometry_wvg = td.PolySlab(\n",
    "        vertices=[\n",
    "            [-2 * cell_size[0], width / 2],\n",
    "            [2 * cell_size[0], width / 2],\n",
    "            [2 * cell_size[0], -width / 2],\n",
    "            [-2 * cell_size[0], -width / 2],\n",
    "        ],\n",
    "        axis=2,\n",
    "        slab_bounds=(-height / 2, height / 2),\n",
    "        sidewall_angle=sidewall_angle,\n",
    "    )\n",
    "    waveguide = td.Structure(\n",
    "        geometry=geometry_wvg,\n",
    "        medium=td.Medium(permittivity=waveguide_index**2),\n",
    "    )\n",
    "\n",
    "    # substrate\n",
    "    substrate = td.Structure(\n",
    "        geometry=td.Box.from_bounds(\n",
    "            rmin=(-999, -999, -999), rmax=(999, 999, -height / 2)\n",
    "        ),\n",
    "        medium=td.Medium(permittivity=substrate_index**2),\n",
    "    )\n",
    "\n",
    "    # defining the source\n",
    "    sources = [\n",
    "        create_source(\n",
    "            polarization=polarization,\n",
    "            wl1=wl1,\n",
    "            wl2=wl2,\n",
    "            center=(nanobeam_center, 0, 0),\n",
    "        )\n",
    "    ]\n",
    "\n",
    "    # boundary conditions\n",
    "    boundary_spec = td.BoundarySpec(\n",
    "        x=td.Boundary.pml(), y=td.Boundary.pml(), z=td.Boundary.pml()\n",
    "    )\n",
    "\n",
    "    # determine symmetry based on structure configuration\n",
    "    if (n_constant_structures_left == n_constant_structures_right) and (\n",
    "        n_tapered_output == 0\n",
    "    ):\n",
    "        symmetry = get_symmetry(polarization=polarization)\n",
    "    else:\n",
    "        symmetry = [0] + get_symmetry(polarization=polarization)[1:]\n",
    "\n",
    "    # create the simulation object\n",
    "    sim = td.Simulation(\n",
    "        size=cell_size,\n",
    "        structures=[substrate, waveguide, nanobeam_structure],\n",
    "        sources=sources,\n",
    "        monitors=[],\n",
    "        run_time=run_time,\n",
    "        boundary_spec=boundary_spec,\n",
    "        grid_spec=grid_spec,\n",
    "        symmetry=symmetry,\n",
    "        medium=td.Medium(permittivity=medium_index**2),\n",
    "    )\n",
    "\n",
    "    # add monitors to the simulation\n",
    "    monitors = create_monitors(\n",
    "        sim, n_point_monitors=5, center=(nanobeam_center, 0, 0), deviation=(0.5, 0, 0)\n",
    "    )\n",
    "    return sim.updated_copy(monitors=monitors)"
   ]
  },
  {
   "cell_type": "markdown",
   "metadata": {},
   "source": [
    "### Running the simulation\n",
    "\n",
    "Finally, we will set the parameters as reported in the reference [paper](https://doi.org/10.1063/1.3107263) and run the simulation."
   ]
  },
  {
   "cell_type": "code",
   "execution_count": 11,
   "metadata": {},
   "outputs": [
    {
     "data": {
      "image/png": "[encoded data removed]",
      "text/plain": [
       "<Figure size 640x480 with 1 Axes>"
      ]
     },
     "metadata": {},
     "output_type": "display_data"
    }
   ],
   "source": [
    "height = 0.22\n",
    "width = 0.5\n",
    "lattice_constant = 0.430\n",
    "max_dip_lattice = 1 - 0.330 / lattice_constant\n",
    "radius_x = 0.28 * lattice_constant\n",
    "radius_y = radius_x\n",
    "max_dip_x = 0\n",
    "max_dip_y = 0\n",
    "n_constant_cells = 12  # each side\n",
    "n_tapered_cells = 12  # total\n",
    "central_gap = 0\n",
    "wl1 = 1.4\n",
    "wl2 = 1.6\n",
    "run_time = 5e-12\n",
    "polarization = \"Ey\"\n",
    "substrate_index = 1.44\n",
    "unit_cell_index = 1\n",
    "waveguide_index = 3.5\n",
    "sidewall_angle = 0\n",
    "\n",
    "# defining a unit cell function depending only on the taper parameters\n",
    "unit_cell_function = lambda center, x, y: ellipse_uc(\n",
    "    center, x_axis=x, y_axis=y, height=height\n",
    ")\n",
    "\n",
    "\n",
    "sim = create_simulation(\n",
    "    unit_cell_function=unit_cell_function,\n",
    "    wl1=wl1,\n",
    "    wl2=wl2,\n",
    "    width=width,\n",
    "    height=height,\n",
    "    run_time=run_time,\n",
    "    lattice_constant=lattice_constant,\n",
    "    n_constant_structures_right=n_constant_cells,\n",
    "    n_constant_structures_left=n_constant_cells,\n",
    "    n_tapered_output=0,\n",
    "    n_tapered_structures=n_tapered_cells,\n",
    "    max_dip_lattice=max_dip_lattice,\n",
    "    polarization=polarization,\n",
    "    substrate_index=substrate_index,\n",
    "    unit_cell_index=unit_cell_index,\n",
    "    waveguide_index=waveguide_index,\n",
    "    sidewall_angle=sidewall_angle,\n",
    "    original_params=[radius_x, radius_y],\n",
    "    max_dip_params=[max_dip_lattice, max_dip_lattice],\n",
    ")\n",
    "\n",
    "\n",
    "sim.plot(z=0, monitor_alpha=0)\n",
    "plt.show()"
   ]
  },
  {
   "cell_type": "code",
   "execution_count": 12,
   "metadata": {},
   "outputs": [
    {
     "data": {
      "text/html": [
       "<pre style=\"white-space:pre;overflow-x:auto;line-height:normal;font-family:Menlo,'DejaVu Sans Mono',consolas,'Courier New',monospace\"><span style=\"color: #7fbfbf; text-decoration-color: #7fbfbf\">16:38:24 -03 </span>Created task <span style=\"color: #008000; text-decoration-color: #008000\">'nanobeam_test'</span> with task_id                          \n",
       "<span style=\"color: #7fbfbf; text-decoration-color: #7fbfbf\">             </span><span style=\"color: #008000; text-decoration-color: #008000\">'fdve-d8b00709-3576-4dc6-b35d-85d058bfc1ac'</span> and task_type <span style=\"color: #008000; text-decoration-color: #008000\">'FDTD'</span>.  \n",
       "</pre>\n"
      ],
      "text/plain": [
       "\u001b[2;36m16:38:24 -03\u001b[0m\u001b[2;36m \u001b[0mCreated task \u001b[32m'nanobeam_test'\u001b[0m with task_id                          \n",
       "\u001b[2;36m             \u001b[0m\u001b[32m'fdve-d8b00709-3576-4dc6-b35d-85d058bfc1ac'\u001b[0m and task_type \u001b[32m'FDTD'\u001b[0m.  \n"
      ]
     },
     "metadata": {},
     "output_type": "display_data"
    },
    {
     "data": {
      "text/html": [
       "<pre style=\"white-space:pre;overflow-x:auto;line-height:normal;font-family:Menlo,'DejaVu Sans Mono',consolas,'Courier New',monospace\"><span style=\"color: #7fbfbf; text-decoration-color: #7fbfbf\">             </span>View task using web UI at                                          \n",
       "<span style=\"color: #7fbfbf; text-decoration-color: #7fbfbf\">             </span><a href=\"https://tidy3d.simulation.cloud/workbench?taskId=fdve-d8b00709-3576-4dc6-b35d-85d058bfc1ac\" target=\"_blank\"><span style=\"color: #008000; text-decoration-color: #008000\">'https://tidy3d.simulation.cloud/workbench?taskId=fdve-d8b00709-357</span></a>\n",
       "<span style=\"color: #7fbfbf; text-decoration-color: #7fbfbf\">             </span><a href=\"https://tidy3d.simulation.cloud/workbench?taskId=fdve-d8b00709-3576-4dc6-b35d-85d058bfc1ac\" target=\"_blank\"><span style=\"color: #008000; text-decoration-color: #008000\">6-4dc6-b35d-85d058bfc1ac'</span></a>.                                         \n",
       "</pre>\n"
      ],
      "text/plain": [
       "\u001b[2;36m            \u001b[0m\u001b[2;36m \u001b[0mView task using web UI at                                          \n",
       "\u001b[2;36m             \u001b[0m\u001b]8;id=632346;https://tidy3d.simulation.cloud/workbench?taskId=fdve-d8b00709-3576-4dc6-b35d-85d058bfc1ac\u001b\\\u001b[32m'https://tidy3d.simulation.cloud/workbench?\u001b[0m\u001b]8;;\u001b\\\u001b]8;id=421719;https://tidy3d.simulation.cloud/workbench?taskId=fdve-d8b00709-3576-4dc6-b35d-85d058bfc1ac\u001b\\\u001b[32mtaskId\u001b[0m\u001b]8;;\u001b\\\u001b]8;id=632346;https://tidy3d.simulation.cloud/workbench?taskId=fdve-d8b00709-3576-4dc6-b35d-85d058bfc1ac\u001b\\\u001b[32m=\u001b[0m\u001b]8;;\u001b\\\u001b]8;id=492985;https://tidy3d.simulation.cloud/workbench?taskId=fdve-d8b00709-3576-4dc6-b35d-85d058bfc1ac\u001b\\\u001b[32mfdve\u001b[0m\u001b]8;;\u001b\\\u001b]8;id=632346;https://tidy3d.simulation.cloud/workbench?taskId=fdve-d8b00709-3576-4dc6-b35d-85d058bfc1ac\u001b\\\u001b[32m-d8b00709-357\u001b[0m\u001b]8;;\u001b\\\n",
       "\u001b[2;36m             \u001b[0m\u001b]8;id=632346;https://tidy3d.simulation.cloud/workbench?taskId=fdve-d8b00709-3576-4dc6-b35d-85d058bfc1ac\u001b\\\u001b[32m6-4dc6-b35d-85d058bfc1ac'\u001b[0m\u001b]8;;\u001b\\.                                         \n"
      ]
     },
     "metadata": {},
     "output_type": "display_data"
    },
    {
     "data": {
      "application/vnd.jupyter.widget-view+json": {
       "model_id": "56001079dbeb4df6a74a18fdb188cae3",
       "version_major": 2,
       "version_minor": 0
      },
      "text/plain": [
       "Output()"
      ]
     },
     "metadata": {},
     "output_type": "display_data"
    },
    {
     "data": {
      "text/html": [
       "<pre style=\"white-space:pre;overflow-x:auto;line-height:normal;font-family:Menlo,'DejaVu Sans Mono',consolas,'Courier New',monospace\"></pre>\n"
      ],
      "text/plain": []
     },
     "metadata": {},
     "output_type": "display_data"
    },
    {
     "data": {
      "text/html": [
       "<pre style=\"white-space:pre;overflow-x:auto;line-height:normal;font-family:Menlo,'DejaVu Sans Mono',consolas,'Courier New',monospace\">\n",
       "</pre>\n"
      ],
      "text/plain": [
       "\n"
      ]
     },
     "metadata": {},
     "output_type": "display_data"
    },
    {
     "data": {
      "text/html": [
       "<pre style=\"white-space:pre;overflow-x:auto;line-height:normal;font-family:Menlo,'DejaVu Sans Mono',consolas,'Courier New',monospace\"><span style=\"color: #7fbfbf; text-decoration-color: #7fbfbf\">16:38:28 -03 </span>Maximum FlexCredit cost: <span style=\"color: #008080; text-decoration-color: #008080; font-weight: bold\">0.100</span>. Minimum cost depends on task       \n",
       "<span style=\"color: #7fbfbf; text-decoration-color: #7fbfbf\">             </span>execution details. Use <span style=\"color: #008000; text-decoration-color: #008000\">'web.real_cost(task_id)'</span> to get the billed  \n",
       "<span style=\"color: #7fbfbf; text-decoration-color: #7fbfbf\">             </span>FlexCredit cost after a simulation run.                            \n",
       "</pre>\n"
      ],
      "text/plain": [
       "\u001b[2;36m16:38:28 -03\u001b[0m\u001b[2;36m \u001b[0mMaximum FlexCredit cost: \u001b[1;36m0.100\u001b[0m. Minimum cost depends on task       \n",
       "\u001b[2;36m             \u001b[0mexecution details. Use \u001b[32m'web.real_cost\u001b[0m\u001b[32m(\u001b[0m\u001b[32mtask_id\u001b[0m\u001b[32m)\u001b[0m\u001b[32m'\u001b[0m to get the billed  \n",
       "\u001b[2;36m             \u001b[0mFlexCredit cost after a simulation run.                            \n"
      ]
     },
     "metadata": {},
     "output_type": "display_data"
    }
   ],
   "source": [
    "# estimating the cost\n",
    "task_id = web.upload(sim, \"nanobeam_test\")\n",
    "cost = web.estimate_cost(task_id)"
   ]
  },
  {
   "cell_type": "code",
   "execution_count": 13,
   "metadata": {},
   "outputs": [
    {
     "data": {
      "text/html": [
       "<pre style=\"white-space:pre;overflow-x:auto;line-height:normal;font-family:Menlo,'DejaVu Sans Mono',consolas,'Courier New',monospace\"><span style=\"color: #7fbfbf; text-decoration-color: #7fbfbf\">             </span>Created task <span style=\"color: #008000; text-decoration-color: #008000\">'ellipse_nanobeam'</span> with task_id                       \n",
       "<span style=\"color: #7fbfbf; text-decoration-color: #7fbfbf\">             </span><span style=\"color: #008000; text-decoration-color: #008000\">'fdve-673c97b4-e271-4281-80f3-ba34d94a36b6'</span> and task_type <span style=\"color: #008000; text-decoration-color: #008000\">'FDTD'</span>.  \n",
       "</pre>\n"
      ],
      "text/plain": [
       "\u001b[2;36m            \u001b[0m\u001b[2;36m \u001b[0mCreated task \u001b[32m'ellipse_nanobeam'\u001b[0m with task_id                       \n",
       "\u001b[2;36m             \u001b[0m\u001b[32m'fdve-673c97b4-e271-4281-80f3-ba34d94a36b6'\u001b[0m and task_type \u001b[32m'FDTD'\u001b[0m.  \n"
      ]
     },
     "metadata": {},
     "output_type": "display_data"
    },
    {
     "data": {
      "text/html": [
       "<pre style=\"white-space:pre;overflow-x:auto;line-height:normal;font-family:Menlo,'DejaVu Sans Mono',consolas,'Courier New',monospace\"><span style=\"color: #7fbfbf; text-decoration-color: #7fbfbf\">             </span>View task using web UI at                                          \n",
       "<span style=\"color: #7fbfbf; text-decoration-color: #7fbfbf\">             </span><a href=\"https://tidy3d.simulation.cloud/workbench?taskId=fdve-673c97b4-e271-4281-80f3-ba34d94a36b6\" target=\"_blank\"><span style=\"color: #008000; text-decoration-color: #008000\">'https://tidy3d.simulation.cloud/workbench?taskId=fdve-673c97b4-e27</span></a>\n",
       "<span style=\"color: #7fbfbf; text-decoration-color: #7fbfbf\">             </span><a href=\"https://tidy3d.simulation.cloud/workbench?taskId=fdve-673c97b4-e271-4281-80f3-ba34d94a36b6\" target=\"_blank\"><span style=\"color: #008000; text-decoration-color: #008000\">1-4281-80f3-ba34d94a36b6'</span></a>.                                         \n",
       "</pre>\n"
      ],
      "text/plain": [
       "\u001b[2;36m            \u001b[0m\u001b[2;36m \u001b[0mView task using web UI at                                          \n",
       "\u001b[2;36m             \u001b[0m\u001b]8;id=384434;https://tidy3d.simulation.cloud/workbench?taskId=fdve-673c97b4-e271-4281-80f3-ba34d94a36b6\u001b\\\u001b[32m'https://tidy3d.simulation.cloud/workbench?\u001b[0m\u001b]8;;\u001b\\\u001b]8;id=743701;https://tidy3d.simulation.cloud/workbench?taskId=fdve-673c97b4-e271-4281-80f3-ba34d94a36b6\u001b\\\u001b[32mtaskId\u001b[0m\u001b]8;;\u001b\\\u001b]8;id=384434;https://tidy3d.simulation.cloud/workbench?taskId=fdve-673c97b4-e271-4281-80f3-ba34d94a36b6\u001b\\\u001b[32m=\u001b[0m\u001b]8;;\u001b\\\u001b]8;id=983162;https://tidy3d.simulation.cloud/workbench?taskId=fdve-673c97b4-e271-4281-80f3-ba34d94a36b6\u001b\\\u001b[32mfdve\u001b[0m\u001b]8;;\u001b\\\u001b]8;id=384434;https://tidy3d.simulation.cloud/workbench?taskId=fdve-673c97b4-e271-4281-80f3-ba34d94a36b6\u001b\\\u001b[32m-673c97b4-e27\u001b[0m\u001b]8;;\u001b\\\n",
       "\u001b[2;36m             \u001b[0m\u001b]8;id=384434;https://tidy3d.simulation.cloud/workbench?taskId=fdve-673c97b4-e271-4281-80f3-ba34d94a36b6\u001b\\\u001b[32m1-4281-80f3-ba34d94a36b6'\u001b[0m\u001b]8;;\u001b\\.                                         \n"
      ]
     },
     "metadata": {},
     "output_type": "display_data"
    },
    {
     "data": {
      "application/vnd.jupyter.widget-view+json": {
       "model_id": "4b45abb5df3040b988cf1a75a5bd47d8",
       "version_major": 2,
       "version_minor": 0
      },
      "text/plain": [
       "Output()"
      ]
     },
     "metadata": {},
     "output_type": "display_data"
    },
    {
     "data": {
      "text/html": [
       "<pre style=\"white-space:pre;overflow-x:auto;line-height:normal;font-family:Menlo,'DejaVu Sans Mono',consolas,'Courier New',monospace\"></pre>\n"
      ],
      "text/plain": []
     },
     "metadata": {},
     "output_type": "display_data"
    },
    {
     "data": {
      "text/html": [
       "<pre style=\"white-space:pre;overflow-x:auto;line-height:normal;font-family:Menlo,'DejaVu Sans Mono',consolas,'Courier New',monospace\">\n",
       "</pre>\n"
      ],
      "text/plain": [
       "\n"
      ]
     },
     "metadata": {},
     "output_type": "display_data"
    },
    {
     "data": {
      "text/html": [
       "<pre style=\"white-space:pre;overflow-x:auto;line-height:normal;font-family:Menlo,'DejaVu Sans Mono',consolas,'Courier New',monospace\"><span style=\"color: #7fbfbf; text-decoration-color: #7fbfbf\">16:38:32 -03 </span>status = queued                                                    \n",
       "</pre>\n"
      ],
      "text/plain": [
       "\u001b[2;36m16:38:32 -03\u001b[0m\u001b[2;36m \u001b[0mstatus = queued                                                    \n"
      ]
     },
     "metadata": {},
     "output_type": "display_data"
    },
    {
     "data": {
      "text/html": [
       "<pre style=\"white-space:pre;overflow-x:auto;line-height:normal;font-family:Menlo,'DejaVu Sans Mono',consolas,'Courier New',monospace\"><span style=\"color: #7fbfbf; text-decoration-color: #7fbfbf\">             </span>To cancel the simulation, use <span style=\"color: #008000; text-decoration-color: #008000\">'web.abort(task_id)'</span> or              \n",
       "<span style=\"color: #7fbfbf; text-decoration-color: #7fbfbf\">             </span><span style=\"color: #008000; text-decoration-color: #008000\">'web.delete(task_id)'</span> or abort/delete the task in the web UI.      \n",
       "<span style=\"color: #7fbfbf; text-decoration-color: #7fbfbf\">             </span>Terminating the Python script will not stop the job running on the \n",
       "<span style=\"color: #7fbfbf; text-decoration-color: #7fbfbf\">             </span>cloud.                                                             \n",
       "</pre>\n"
      ],
      "text/plain": [
       "\u001b[2;36m            \u001b[0m\u001b[2;36m \u001b[0mTo cancel the simulation, use \u001b[32m'web.abort\u001b[0m\u001b[32m(\u001b[0m\u001b[32mtask_id\u001b[0m\u001b[32m)\u001b[0m\u001b[32m'\u001b[0m or              \n",
       "\u001b[2;36m             \u001b[0m\u001b[32m'web.delete\u001b[0m\u001b[32m(\u001b[0m\u001b[32mtask_id\u001b[0m\u001b[32m)\u001b[0m\u001b[32m'\u001b[0m or abort/delete the task in the web UI.      \n",
       "\u001b[2;36m             \u001b[0mTerminating the Python script will not stop the job running on the \n",
       "\u001b[2;36m             \u001b[0mcloud.                                                             \n"
      ]
     },
     "metadata": {},
     "output_type": "display_data"
    },
    {
     "data": {
      "application/vnd.jupyter.widget-view+json": {
       "model_id": "c25917939581403b87babc6738e468e0",
       "version_major": 2,
       "version_minor": 0
      },
      "text/plain": [
       "Output()"
      ]
     },
     "metadata": {},
     "output_type": "display_data"
    },
    {
     "data": {
      "text/html": [
       "<pre style=\"white-space:pre;overflow-x:auto;line-height:normal;font-family:Menlo,'DejaVu Sans Mono',consolas,'Courier New',monospace\"><span style=\"color: #7fbfbf; text-decoration-color: #7fbfbf\">16:38:48 -03 </span>status = preprocess                                                \n",
       "</pre>\n"
      ],
      "text/plain": [
       "\u001b[2;36m16:38:48 -03\u001b[0m\u001b[2;36m \u001b[0mstatus = preprocess                                                \n"
      ]
     },
     "metadata": {},
     "output_type": "display_data"
    },
    {
     "data": {
      "text/html": [
       "<pre style=\"white-space:pre;overflow-x:auto;line-height:normal;font-family:Menlo,'DejaVu Sans Mono',consolas,'Courier New',monospace\"></pre>\n"
      ],
      "text/plain": []
     },
     "metadata": {},
     "output_type": "display_data"
    },
    {
     "data": {
      "text/html": [
       "<pre style=\"white-space:pre;overflow-x:auto;line-height:normal;font-family:Menlo,'DejaVu Sans Mono',consolas,'Courier New',monospace\"><span style=\"color: #7fbfbf; text-decoration-color: #7fbfbf\">16:38:49 -03 </span>Maximum FlexCredit cost: <span style=\"color: #008080; text-decoration-color: #008080; font-weight: bold\">0.100</span>. Use <span style=\"color: #008000; text-decoration-color: #008000\">'web.real_cost(task_id)'</span> to get\n",
       "<span style=\"color: #7fbfbf; text-decoration-color: #7fbfbf\">             </span>the billed FlexCredit cost after a simulation run.                 \n",
       "</pre>\n"
      ],
      "text/plain": [
       "\u001b[2;36m16:38:49 -03\u001b[0m\u001b[2;36m \u001b[0mMaximum FlexCredit cost: \u001b[1;36m0.100\u001b[0m. Use \u001b[32m'web.real_cost\u001b[0m\u001b[32m(\u001b[0m\u001b[32mtask_id\u001b[0m\u001b[32m)\u001b[0m\u001b[32m'\u001b[0m to get\n",
       "\u001b[2;36m             \u001b[0mthe billed FlexCredit cost after a simulation run.                 \n"
      ]
     },
     "metadata": {},
     "output_type": "display_data"
    },
    {
     "data": {
      "text/html": [
       "<pre style=\"white-space:pre;overflow-x:auto;line-height:normal;font-family:Menlo,'DejaVu Sans Mono',consolas,'Courier New',monospace\"><span style=\"color: #7fbfbf; text-decoration-color: #7fbfbf\">             </span>starting up solver                                                 \n",
       "</pre>\n"
      ],
      "text/plain": [
       "\u001b[2;36m            \u001b[0m\u001b[2;36m \u001b[0mstarting up solver                                                 \n"
      ]
     },
     "metadata": {},
     "output_type": "display_data"
    },
    {
     "data": {
      "text/html": [
       "<pre style=\"white-space:pre;overflow-x:auto;line-height:normal;font-family:Menlo,'DejaVu Sans Mono',consolas,'Courier New',monospace\"><span style=\"color: #7fbfbf; text-decoration-color: #7fbfbf\">             </span>running solver                                                     \n",
       "</pre>\n"
      ],
      "text/plain": [
       "\u001b[2;36m            \u001b[0m\u001b[2;36m \u001b[0mrunning solver                                                     \n"
      ]
     },
     "metadata": {},
     "output_type": "display_data"
    },
    {
     "data": {
      "application/vnd.jupyter.widget-view+json": {
       "model_id": "4a01ecd454d04c05b5897f017d0b322a",
       "version_major": 2,
       "version_minor": 0
      },
      "text/plain": [
       "Output()"
      ]
     },
     "metadata": {},
     "output_type": "display_data"
    },
    {
     "data": {
      "text/html": [
       "<pre style=\"white-space:pre;overflow-x:auto;line-height:normal;font-family:Menlo,'DejaVu Sans Mono',consolas,'Courier New',monospace\"></pre>\n"
      ],
      "text/plain": []
     },
     "metadata": {},
     "output_type": "display_data"
    },
    {
     "data": {
      "text/html": [
       "<pre style=\"white-space:pre;overflow-x:auto;line-height:normal;font-family:Menlo,'DejaVu Sans Mono',consolas,'Courier New',monospace\">\n",
       "</pre>\n"
      ],
      "text/plain": [
       "\n"
      ]
     },
     "metadata": {},
     "output_type": "display_data"
    },
    {
     "data": {
      "application/vnd.jupyter.widget-view+json": {
       "model_id": "36764080ba3a4a919c11767a0052db7b",
       "version_major": 2,
       "version_minor": 0
      },
      "text/plain": [
       "Output()"
      ]
     },
     "metadata": {},
     "output_type": "display_data"
    },
    {
     "data": {
      "text/html": [
       "<pre style=\"white-space:pre;overflow-x:auto;line-height:normal;font-family:Menlo,'DejaVu Sans Mono',consolas,'Courier New',monospace\"><span style=\"color: #7fbfbf; text-decoration-color: #7fbfbf\">16:42:41 -03 </span>status = postprocess                                               \n",
       "</pre>\n"
      ],
      "text/plain": [
       "\u001b[2;36m16:42:41 -03\u001b[0m\u001b[2;36m \u001b[0mstatus = postprocess                                               \n"
      ]
     },
     "metadata": {},
     "output_type": "display_data"
    },
    {
     "data": {
      "text/html": [
       "<pre style=\"white-space:pre;overflow-x:auto;line-height:normal;font-family:Menlo,'DejaVu Sans Mono',consolas,'Courier New',monospace\"><span style=\"color: #7fbfbf; text-decoration-color: #7fbfbf\">16:43:22 -03 </span>status = success                                                   \n",
       "</pre>\n"
      ],
      "text/plain": [
       "\u001b[2;36m16:43:22 -03\u001b[0m\u001b[2;36m \u001b[0mstatus = success                                                   \n"
      ]
     },
     "metadata": {},
     "output_type": "display_data"
    },
    {
     "data": {
      "text/html": [
       "<pre style=\"white-space:pre;overflow-x:auto;line-height:normal;font-family:Menlo,'DejaVu Sans Mono',consolas,'Courier New',monospace\"></pre>\n"
      ],
      "text/plain": []
     },
     "metadata": {},
     "output_type": "display_data"
    },
    {
     "data": {
      "text/html": [
       "<pre style=\"white-space:pre;overflow-x:auto;line-height:normal;font-family:Menlo,'DejaVu Sans Mono',consolas,'Courier New',monospace\"><span style=\"color: #7fbfbf; text-decoration-color: #7fbfbf\">             </span>View simulation result at                                          \n",
       "<span style=\"color: #7fbfbf; text-decoration-color: #7fbfbf\">             </span><a href=\"https://tidy3d.simulation.cloud/workbench?taskId=fdve-673c97b4-e271-4281-80f3-ba34d94a36b6\" target=\"_blank\"><span style=\"color: #000080; text-decoration-color: #000080; text-decoration: underline\">'https://tidy3d.simulation.cloud/workbench?taskId=fdve-673c97b4-e27</span></a>\n",
       "<span style=\"color: #7fbfbf; text-decoration-color: #7fbfbf\">             </span><a href=\"https://tidy3d.simulation.cloud/workbench?taskId=fdve-673c97b4-e271-4281-80f3-ba34d94a36b6\" target=\"_blank\"><span style=\"color: #000080; text-decoration-color: #000080; text-decoration: underline\">1-4281-80f3-ba34d94a36b6'</span></a><span style=\"color: #000080; text-decoration-color: #000080; text-decoration: underline\">.</span>                                         \n",
       "</pre>\n"
      ],
      "text/plain": [
       "\u001b[2;36m            \u001b[0m\u001b[2;36m \u001b[0mView simulation result at                                          \n",
       "\u001b[2;36m             \u001b[0m\u001b]8;id=388517;https://tidy3d.simulation.cloud/workbench?taskId=fdve-673c97b4-e271-4281-80f3-ba34d94a36b6\u001b\\\u001b[4;34m'https://tidy3d.simulation.cloud/workbench?\u001b[0m\u001b]8;;\u001b\\\u001b]8;id=909941;https://tidy3d.simulation.cloud/workbench?taskId=fdve-673c97b4-e271-4281-80f3-ba34d94a36b6\u001b\\\u001b[4;34mtaskId\u001b[0m\u001b]8;;\u001b\\\u001b]8;id=388517;https://tidy3d.simulation.cloud/workbench?taskId=fdve-673c97b4-e271-4281-80f3-ba34d94a36b6\u001b\\\u001b[4;34m=\u001b[0m\u001b]8;;\u001b\\\u001b]8;id=997105;https://tidy3d.simulation.cloud/workbench?taskId=fdve-673c97b4-e271-4281-80f3-ba34d94a36b6\u001b\\\u001b[4;34mfdve\u001b[0m\u001b]8;;\u001b\\\u001b]8;id=388517;https://tidy3d.simulation.cloud/workbench?taskId=fdve-673c97b4-e271-4281-80f3-ba34d94a36b6\u001b\\\u001b[4;34m-673c97b4-e27\u001b[0m\u001b]8;;\u001b\\\n",
       "\u001b[2;36m             \u001b[0m\u001b]8;id=388517;https://tidy3d.simulation.cloud/workbench?taskId=fdve-673c97b4-e271-4281-80f3-ba34d94a36b6\u001b\\\u001b[4;34m1-4281-80f3-ba34d94a36b6'\u001b[0m\u001b]8;;\u001b\\\u001b[4;34m.\u001b[0m                                         \n"
      ]
     },
     "metadata": {},
     "output_type": "display_data"
    },
    {
     "data": {
      "application/vnd.jupyter.widget-view+json": {
       "model_id": "f9542ae4116a48248ec0de0360794c09",
       "version_major": 2,
       "version_minor": 0
      },
      "text/plain": [
       "Output()"
      ]
     },
     "metadata": {},
     "output_type": "display_data"
    },
    {
     "data": {
      "text/html": [
       "<pre style=\"white-space:pre;overflow-x:auto;line-height:normal;font-family:Menlo,'DejaVu Sans Mono',consolas,'Courier New',monospace\"></pre>\n"
      ],
      "text/plain": []
     },
     "metadata": {},
     "output_type": "display_data"
    },
    {
     "data": {
      "text/html": [
       "<pre style=\"white-space:pre;overflow-x:auto;line-height:normal;font-family:Menlo,'DejaVu Sans Mono',consolas,'Courier New',monospace\">\n",
       "</pre>\n"
      ],
      "text/plain": [
       "\n"
      ]
     },
     "metadata": {},
     "output_type": "display_data"
    },
    {
     "data": {
      "text/html": [
       "<pre style=\"white-space:pre;overflow-x:auto;line-height:normal;font-family:Menlo,'DejaVu Sans Mono',consolas,'Courier New',monospace\"><span style=\"color: #7fbfbf; text-decoration-color: #7fbfbf\">16:44:25 -03 </span>loading simulation from simulation_data.hdf5                       \n",
       "</pre>\n"
      ],
      "text/plain": [
       "\u001b[2;36m16:44:25 -03\u001b[0m\u001b[2;36m \u001b[0mloading simulation from simulation_data.hdf5                       \n"
      ]
     },
     "metadata": {},
     "output_type": "display_data"
    },
    {
     "data": {
      "text/html": [
       "<pre style=\"white-space:pre;overflow-x:auto;line-height:normal;font-family:Menlo,'DejaVu Sans Mono',consolas,'Courier New',monospace\"><span style=\"color: #7fbfbf; text-decoration-color: #7fbfbf\">16:44:26 -03 </span><span style=\"color: #800000; text-decoration-color: #800000\">WARNING: Simulation final field decay value of </span><span style=\"color: #008080; text-decoration-color: #008080; font-weight: bold\">0.268</span><span style=\"color: #800000; text-decoration-color: #800000\"> is greater    </span>\n",
       "<span style=\"color: #7fbfbf; text-decoration-color: #7fbfbf\">             </span><span style=\"color: #800000; text-decoration-color: #800000\">than the simulation shutoff threshold of </span><span style=\"color: #008080; text-decoration-color: #008080; font-weight: bold\">1e-05</span><span style=\"color: #800000; text-decoration-color: #800000\">. Consider running   </span>\n",
       "<span style=\"color: #7fbfbf; text-decoration-color: #7fbfbf\">             </span><span style=\"color: #800000; text-decoration-color: #800000\">the simulation again with a larger </span><span style=\"color: #008000; text-decoration-color: #008000\">'run_time'</span><span style=\"color: #800000; text-decoration-color: #800000\"> duration for more    </span>\n",
       "<span style=\"color: #7fbfbf; text-decoration-color: #7fbfbf\">             </span><span style=\"color: #800000; text-decoration-color: #800000\">accurate results.                                                  </span>\n",
       "</pre>\n"
      ],
      "text/plain": [
       "\u001b[2;36m16:44:26 -03\u001b[0m\u001b[2;36m \u001b[0m\u001b[31mWARNING: Simulation final field decay value of \u001b[0m\u001b[1;36m0.268\u001b[0m\u001b[31m is greater    \u001b[0m\n",
       "\u001b[2;36m             \u001b[0m\u001b[31mthan the simulation shutoff threshold of \u001b[0m\u001b[1;36m1e-05\u001b[0m\u001b[31m. Consider running   \u001b[0m\n",
       "\u001b[2;36m             \u001b[0m\u001b[31mthe simulation again with a larger \u001b[0m\u001b[32m'run_time'\u001b[0m\u001b[31m duration for more    \u001b[0m\n",
       "\u001b[2;36m             \u001b[0m\u001b[31maccurate results.                                                  \u001b[0m\n"
      ]
     },
     "metadata": {},
     "output_type": "display_data"
    }
   ],
   "source": [
    "# running the simulation\n",
    "sim_data = web.run(simulation=sim, task_name=\"ellipse_nanobeam\")"
   ]
  },
  {
   "cell_type": "markdown",
   "metadata": {},
   "source": [
    "It is possible to notice a warning at the end of the simulation, stating that the fields haven't completely decayed. This is expected for high Q-factor cavities, and the suggestion to run with a larger `run_time` can be ignored in this case."
   ]
  },
  {
   "cell_type": "markdown",
   "metadata": {},
   "source": [
    "## Data Analysis\n",
    "\n",
    "First, we will plot the electric field profile at the end of the simulation, where it is possible to observe a tightly confined mode."
   ]
  },
  {
   "cell_type": "code",
   "execution_count": 14,
   "metadata": {},
   "outputs": [
    {
     "data": {
      "image/png": "[encoded data removed]",
      "text/plain": [
       "<Figure size 640x480 with 2 Axes>"
      ]
     },
     "metadata": {},
     "output_type": "display_data"
    }
   ],
   "source": [
    "sim_data.plot_field(\n",
    "    \"fieldProfileMon\",\n",
    "    \"Ey\",\n",
    "    val=\"abs\",\n",
    "    z=0,\n",
    "    t=sim_data[\"fieldProfileMon\"].Ez.t[-1],\n",
    ")\n",
    "plt.show()"
   ]
  },
  {
   "cell_type": "markdown",
   "metadata": {},
   "source": [
    "### Resonance and Q-factor analysis\n",
    "\n",
    "Next, we will collect the data for the point field monitors and use the `ResonaceFinder` plugin that implements the harmonic-inversion algorithm, which is a convenient technique to analyze exponential decaying fields, allowing us to get Q-factor information with a relatively short simulation time.\n",
    "\n",
    "For high Q-factor cavities (greater than $10^6$) a larger run time may be needed, as well as fine-tuning of the `freq_window` parameters, which is the frequency window where the resonances will be analyzed. \n",
    "\n",
    "Since the harmonic-inversion technique is valid for exponential decaying fields, we will only analyze the data after the sources decay."
   ]
  },
  {
   "cell_type": "code",
   "execution_count": 15,
   "metadata": {},
   "outputs": [],
   "source": [
    "def analyse_resonance_monitors(sim_data, start_time=1e-12, freq_window=None):\n",
    "    # importing needed libraries\n",
    "    from tidy3d.plugins.resonance import ResonanceFinder\n",
    "\n",
    "    combinedSignal = 0\n",
    "    polarization = sim_data.simulation.sources[0].polarization\n",
    "\n",
    "    # iterate through all monitors and combine the signal\n",
    "    i = 0\n",
    "    name = \"pointMon%i\" % i\n",
    "    while name in sim_data.monitor_data:\n",
    "        combinedSignal += sim_data[\"pointMon0\"].field_components[polarization].squeeze()\n",
    "        i += 1\n",
    "        name = \"pointMon%i\" % i\n",
    "\n",
    "    # create the ResonanceFinder instance\n",
    "    rf = ResonanceFinder(freq_window=freq_window)\n",
    "\n",
    "    # boolean mask to set the data after source decay\n",
    "    bm = combinedSignal.t >= start_time\n",
    "\n",
    "    # data containing the resonance information\n",
    "    data = rf.run_raw_signal(combinedSignal[bm], sim_data.simulation.dt)\n",
    "\n",
    "    # creating a DataFrame\n",
    "    df = data.to_dataframe()\n",
    "    df[\"wl\"] = (td.C_0 / df.index) * 10**3\n",
    "\n",
    "    return df, combinedSignal"
   ]
  },
  {
   "cell_type": "code",
   "execution_count": 16,
   "metadata": {},
   "outputs": [
    {
     "data": {
      "text/html": [
       "<div>\n",
       "<style scoped>\n",
       "    .dataframe tbody tr th:only-of-type {\n",
       "        vertical-align: middle;\n",
       "    }\n",
       "\n",
       "    .dataframe tbody tr th {\n",
       "        vertical-align: top;\n",
       "    }\n",
       "\n",
       "    .dataframe thead th {\n",
       "        text-align: right;\n",
       "    }\n",
       "</style>\n",
       "<table border=\"1\" class=\"dataframe\">\n",
       "  <thead>\n",
       "    <tr style=\"text-align: right;\">\n",
       "      <th></th>\n",
       "      <th>decay</th>\n",
       "      <th>Q</th>\n",
       "      <th>amplitude</th>\n",
       "      <th>phase</th>\n",
       "      <th>error</th>\n",
       "      <th>wl</th>\n",
       "    </tr>\n",
       "    <tr>\n",
       "      <th>freq</th>\n",
       "      <th></th>\n",
       "      <th></th>\n",
       "      <th></th>\n",
       "      <th></th>\n",
       "      <th></th>\n",
       "      <th></th>\n",
       "    </tr>\n",
       "  </thead>\n",
       "  <tbody>\n",
       "    <tr>\n",
       "      <th>1.941258e+14</th>\n",
       "      <td>7.709018e+07</td>\n",
       "      <td>7.911051e+06</td>\n",
       "      <td>63674.827463</td>\n",
       "      <td>0.989458</td>\n",
       "      <td>0.00361</td>\n",
       "      <td>1544.32022</td>\n",
       "    </tr>\n",
       "  </tbody>\n",
       "</table>\n",
       "</div>"
      ],
      "text/plain": [
       "                     decay             Q     amplitude     phase    error  \\\n",
       "freq                                                                        \n",
       "1.941258e+14  7.709018e+07  7.911051e+06  63674.827463  0.989458  0.00361   \n",
       "\n",
       "                      wl  \n",
       "freq                      \n",
       "1.941258e+14  1544.32022  "
      ]
     },
     "execution_count": 16,
     "metadata": {},
     "output_type": "execute_result"
    }
   ],
   "source": [
    "# defining the frequency window\n",
    "freq0 = sim_data.simulation.sources[0].source_time.freq0\n",
    "fwidth = sim_data.simulation.sources[0].source_time.fwidth\n",
    "freq_window = (freq0 - fwidth / 2, freq0 + fwidth / 2)\n",
    "\n",
    "# start time to analyze the exponential decaying fields after source decay\n",
    "start_time = 2 * find_source_decay(\n",
    "    sim.sources[0],\n",
    ")\n",
    "\n",
    "df, signal = analyse_resonance_monitors(sim_data, start_time, freq_window)\n",
    "df.head(10)"
   ]
  },
  {
   "cell_type": "markdown",
   "metadata": {},
   "source": [
    "We note that the Q-factor is close of the one reported by the [paper](https://doi.org/10.1063/1.3107263). The resonance frequency is a few nanometers different, although this is due to the different taper function used in this notebook. In the paper, the tapering function is linear."
   ]
  },
  {
   "cell_type": "markdown",
   "metadata": {},
   "source": [
    "### Mode volume calculation\n",
    "\n",
    "The mode volume will be calculated by the definition:\n",
    "\n",
    "$V_{eff} = \\frac{\\int\\varepsilon(r)|E(r)|^{2}d^{3}r}{max[\\varepsilon(r)|E(r)|^{2}(r)]}$,\n",
    "\n",
    "where $\\varepsilon(r)$ is the cavity permittivity distribution, which can be obtained from the simulation object.\n",
    "\n",
    "First, we will define a function to compute the energy density from the time field monitor, defining it as the temporal mean of the last two field oscillations. This approach ensures that we can estimate the mode volume without prior knowledge of the resonant frequency."
   ]
  },
  {
   "cell_type": "code",
   "execution_count": 17,
   "metadata": {},
   "outputs": [],
   "source": [
    "def get_energy_density(sim_data):\n",
    "    # retrieving monitor data\n",
    "    Efield = sim_data[\"fieldTimeMon\"]\n",
    "\n",
    "    # retrieving permittivity data and interpolating it at the same grid points of the monitor data\n",
    "    eps = abs(sim.epsilon(box=td.Box(center=(0, 0, 0), size=(td.inf, td.inf, td.inf))))\n",
    "    eps = eps.interp(coords=dict(x=Efield.Ex.x, y=Efield.Ex.y, z=Efield.Ex.z))\n",
    "\n",
    "    # calculating the energy density\n",
    "    energy_density = np.abs(Efield.Ex**2 + Efield.Ey**2 + Efield.Ez**2) * eps\n",
    "\n",
    "    # calculating the temporal mean value\n",
    "    delta_t = energy_density.t[-1] - energy_density.t[0] # signal duration\n",
    "    energy_density_temporal_mean = energy_density.integrate(coord=(\"t\")) / delta_t\n",
    "\n",
    "    return energy_density_temporal_mean, eps\n",
    "\n",
    "\n",
    "energy_density, eps = get_energy_density(sim_data)"
   ]
  },
  {
   "cell_type": "markdown",
   "metadata": {},
   "source": [
    "Now we will calculate the mode volume. As we can note, the value is close to $0.39 (\\frac{\\lambda}{n})^3$, as reported in the paper. \n",
    "\n",
    "It is important to note that mode volume values $<< 1$ are most like due to the absence of a resonance, hence the field integral would be near to zero."
   ]
  },
  {
   "cell_type": "code",
   "execution_count": 18,
   "metadata": {},
   "outputs": [
    {
     "name": "stdout",
     "output_type": "stream",
     "text": [
      "Mode volume: 0.43 (lambda/n)^3\n"
     ]
    }
   ],
   "source": [
    "def mode_volume(energy_density, eps):\n",
    "    # volume integral of the energy density\n",
    "    Integrated = np.abs(energy_density).integrate(coord=(\"x\", \"y\", \"z\"))\n",
    "\n",
    "    # scaling factor to present in common units of (wl/n)^3\n",
    "    wl = abs(df.sort_values(\"Q\").iloc[-1][\"wl\"] / 1000)  # um\n",
    "    index = np.sqrt(abs(eps.max()))\n",
    "\n",
    "    Vmode = Integrated / np.max(energy_density) / (wl / index) ** 3\n",
    "\n",
    "    return Vmode\n",
    "\n",
    "\n",
    "Vmode = mode_volume(energy_density, eps)\n",
    "print(\"Mode volume: %.2f (lambda/n)^3\" % Vmode)"
   ]
  },
  {
   "cell_type": "markdown",
   "metadata": {},
   "source": [
    "## Directional Q-factor calculation\n",
    "\n",
    "We can decompose the total Q-factor into its directional contributions:\n",
    "\n",
    "$Q^{-1} = Q_x^{-1} + Q_{-x}^{-1} +Q_y^{-1} + Q_{-y}^{-1} +Q_z^{-1} + Q_{-z}^{-1}$\n",
    "\n",
    "This provides useful information for understanding the contribution of scattered losses ($z$ and $y$ directions) and waveguide losses ($x$ direction), which are due to fields that penetrate the Bragg mirror and propagate into the nanobeam slab. If the cavity is to be coupled to an optical fiber, it is desirable that the main direction of losses be waveguide losses in the direction of the fiber.\n",
    "\n",
    "To illustrate the directional Q-factor calculation we will run the simulation again using an asymmetric number of unit cells, and an output tapering region."
   ]
  },
  {
   "cell_type": "code",
   "execution_count": 19,
   "metadata": {},
   "outputs": [
    {
     "data": {
      "image/png": "[encoded data removed]",
      "text/plain": [
       "<Figure size 640x480 with 1 Axes>"
      ]
     },
     "metadata": {},
     "output_type": "display_data"
    }
   ],
   "source": [
    "n_constant_structures_right = 2\n",
    "n_tapered_output = 5\n",
    "\n",
    "asymmetric_sim = create_simulation(\n",
    "    unit_cell_function=unit_cell_function,\n",
    "    wl1=wl1,\n",
    "    wl2=wl2,\n",
    "    width=width,\n",
    "    height=height,\n",
    "    run_time=run_time,\n",
    "    lattice_constant=lattice_constant,\n",
    "    n_constant_structures_right=n_constant_structures_right,\n",
    "    n_constant_structures_left=n_constant_cells,\n",
    "    n_tapered_output=5,\n",
    "    n_tapered_structures=n_tapered_cells,\n",
    "    max_dip_lattice=max_dip_lattice,\n",
    "    polarization=polarization,\n",
    "    substrate_index=substrate_index,\n",
    "    unit_cell_index=unit_cell_index,\n",
    "    waveguide_index=waveguide_index,\n",
    "    sidewall_angle=sidewall_angle,\n",
    "    original_params=[radius_x, radius_y],\n",
    "    max_dip_params=[max_dip_lattice, max_dip_lattice],\n",
    ")\n",
    "\n",
    "asymmetric_sim.plot(z=0)\n",
    "plt.show()"
   ]
  },
  {
   "cell_type": "code",
   "execution_count": 20,
   "metadata": {},
   "outputs": [
    {
     "data": {
      "text/html": [
       "<pre style=\"white-space:pre;overflow-x:auto;line-height:normal;font-family:Menlo,'DejaVu Sans Mono',consolas,'Courier New',monospace\"><span style=\"color: #7fbfbf; text-decoration-color: #7fbfbf\">16:44:53 -03 </span>Created task <span style=\"color: #008000; text-decoration-color: #008000\">'asymmetric_ellipse_nanobeam'</span> with task_id            \n",
       "<span style=\"color: #7fbfbf; text-decoration-color: #7fbfbf\">             </span><span style=\"color: #008000; text-decoration-color: #008000\">'fdve-3313404a-b9cb-42c3-a711-3532e96df5ca'</span> and task_type <span style=\"color: #008000; text-decoration-color: #008000\">'FDTD'</span>.  \n",
       "</pre>\n"
      ],
      "text/plain": [
       "\u001b[2;36m16:44:53 -03\u001b[0m\u001b[2;36m \u001b[0mCreated task \u001b[32m'asymmetric_ellipse_nanobeam'\u001b[0m with task_id            \n",
       "\u001b[2;36m             \u001b[0m\u001b[32m'fdve-3313404a-b9cb-42c3-a711-3532e96df5ca'\u001b[0m and task_type \u001b[32m'FDTD'\u001b[0m.  \n"
      ]
     },
     "metadata": {},
     "output_type": "display_data"
    },
    {
     "data": {
      "text/html": [
       "<pre style=\"white-space:pre;overflow-x:auto;line-height:normal;font-family:Menlo,'DejaVu Sans Mono',consolas,'Courier New',monospace\"><span style=\"color: #7fbfbf; text-decoration-color: #7fbfbf\">             </span>View task using web UI at                                          \n",
       "<span style=\"color: #7fbfbf; text-decoration-color: #7fbfbf\">             </span><a href=\"https://tidy3d.simulation.cloud/workbench?taskId=fdve-3313404a-b9cb-42c3-a711-3532e96df5ca\" target=\"_blank\"><span style=\"color: #008000; text-decoration-color: #008000\">'https://tidy3d.simulation.cloud/workbench?taskId=fdve-3313404a-b9c</span></a>\n",
       "<span style=\"color: #7fbfbf; text-decoration-color: #7fbfbf\">             </span><a href=\"https://tidy3d.simulation.cloud/workbench?taskId=fdve-3313404a-b9cb-42c3-a711-3532e96df5ca\" target=\"_blank\"><span style=\"color: #008000; text-decoration-color: #008000\">b-42c3-a711-3532e96df5ca'</span></a>.                                         \n",
       "</pre>\n"
      ],
      "text/plain": [
       "\u001b[2;36m            \u001b[0m\u001b[2;36m \u001b[0mView task using web UI at                                          \n",
       "\u001b[2;36m             \u001b[0m\u001b]8;id=163203;https://tidy3d.simulation.cloud/workbench?taskId=fdve-3313404a-b9cb-42c3-a711-3532e96df5ca\u001b\\\u001b[32m'https://tidy3d.simulation.cloud/workbench?\u001b[0m\u001b]8;;\u001b\\\u001b]8;id=816219;https://tidy3d.simulation.cloud/workbench?taskId=fdve-3313404a-b9cb-42c3-a711-3532e96df5ca\u001b\\\u001b[32mtaskId\u001b[0m\u001b]8;;\u001b\\\u001b]8;id=163203;https://tidy3d.simulation.cloud/workbench?taskId=fdve-3313404a-b9cb-42c3-a711-3532e96df5ca\u001b\\\u001b[32m=\u001b[0m\u001b]8;;\u001b\\\u001b]8;id=45688;https://tidy3d.simulation.cloud/workbench?taskId=fdve-3313404a-b9cb-42c3-a711-3532e96df5ca\u001b\\\u001b[32mfdve\u001b[0m\u001b]8;;\u001b\\\u001b]8;id=163203;https://tidy3d.simulation.cloud/workbench?taskId=fdve-3313404a-b9cb-42c3-a711-3532e96df5ca\u001b\\\u001b[32m-3313404a-b9c\u001b[0m\u001b]8;;\u001b\\\n",
       "\u001b[2;36m             \u001b[0m\u001b]8;id=163203;https://tidy3d.simulation.cloud/workbench?taskId=fdve-3313404a-b9cb-42c3-a711-3532e96df5ca\u001b\\\u001b[32mb-42c3-a711-3532e96df5ca'\u001b[0m\u001b]8;;\u001b\\.                                         \n"
      ]
     },
     "metadata": {},
     "output_type": "display_data"
    },
    {
     "data": {
      "application/vnd.jupyter.widget-view+json": {
       "model_id": "f3b34635958245da924542e9b3cafe97",
       "version_major": 2,
       "version_minor": 0
      },
      "text/plain": [
       "Output()"
      ]
     },
     "metadata": {},
     "output_type": "display_data"
    },
    {
     "data": {
      "text/html": [
       "<pre style=\"white-space:pre;overflow-x:auto;line-height:normal;font-family:Menlo,'DejaVu Sans Mono',consolas,'Courier New',monospace\"></pre>\n"
      ],
      "text/plain": []
     },
     "metadata": {},
     "output_type": "display_data"
    },
    {
     "data": {
      "text/html": [
       "<pre style=\"white-space:pre;overflow-x:auto;line-height:normal;font-family:Menlo,'DejaVu Sans Mono',consolas,'Courier New',monospace\">\n",
       "</pre>\n"
      ],
      "text/plain": [
       "\n"
      ]
     },
     "metadata": {},
     "output_type": "display_data"
    },
    {
     "data": {
      "text/html": [
       "<pre style=\"white-space:pre;overflow-x:auto;line-height:normal;font-family:Menlo,'DejaVu Sans Mono',consolas,'Courier New',monospace\"><span style=\"color: #7fbfbf; text-decoration-color: #7fbfbf\">16:44:57 -03 </span>status = queued                                                    \n",
       "</pre>\n"
      ],
      "text/plain": [
       "\u001b[2;36m16:44:57 -03\u001b[0m\u001b[2;36m \u001b[0mstatus = queued                                                    \n"
      ]
     },
     "metadata": {},
     "output_type": "display_data"
    },
    {
     "data": {
      "text/html": [
       "<pre style=\"white-space:pre;overflow-x:auto;line-height:normal;font-family:Menlo,'DejaVu Sans Mono',consolas,'Courier New',monospace\"><span style=\"color: #7fbfbf; text-decoration-color: #7fbfbf\">             </span>To cancel the simulation, use <span style=\"color: #008000; text-decoration-color: #008000\">'web.abort(task_id)'</span> or              \n",
       "<span style=\"color: #7fbfbf; text-decoration-color: #7fbfbf\">             </span><span style=\"color: #008000; text-decoration-color: #008000\">'web.delete(task_id)'</span> or abort/delete the task in the web UI.      \n",
       "<span style=\"color: #7fbfbf; text-decoration-color: #7fbfbf\">             </span>Terminating the Python script will not stop the job running on the \n",
       "<span style=\"color: #7fbfbf; text-decoration-color: #7fbfbf\">             </span>cloud.                                                             \n",
       "</pre>\n"
      ],
      "text/plain": [
       "\u001b[2;36m            \u001b[0m\u001b[2;36m \u001b[0mTo cancel the simulation, use \u001b[32m'web.abort\u001b[0m\u001b[32m(\u001b[0m\u001b[32mtask_id\u001b[0m\u001b[32m)\u001b[0m\u001b[32m'\u001b[0m or              \n",
       "\u001b[2;36m             \u001b[0m\u001b[32m'web.delete\u001b[0m\u001b[32m(\u001b[0m\u001b[32mtask_id\u001b[0m\u001b[32m)\u001b[0m\u001b[32m'\u001b[0m or abort/delete the task in the web UI.      \n",
       "\u001b[2;36m             \u001b[0mTerminating the Python script will not stop the job running on the \n",
       "\u001b[2;36m             \u001b[0mcloud.                                                             \n"
      ]
     },
     "metadata": {},
     "output_type": "display_data"
    },
    {
     "data": {
      "application/vnd.jupyter.widget-view+json": {
       "model_id": "66b778fdd37f4cfc9dd94c93bf0e9d1c",
       "version_major": 2,
       "version_minor": 0
      },
      "text/plain": [
       "Output()"
      ]
     },
     "metadata": {},
     "output_type": "display_data"
    },
    {
     "data": {
      "text/html": [
       "<pre style=\"white-space:pre;overflow-x:auto;line-height:normal;font-family:Menlo,'DejaVu Sans Mono',consolas,'Courier New',monospace\"><span style=\"color: #7fbfbf; text-decoration-color: #7fbfbf\">16:45:39 -03 </span>status = preprocess                                                \n",
       "</pre>\n"
      ],
      "text/plain": [
       "\u001b[2;36m16:45:39 -03\u001b[0m\u001b[2;36m \u001b[0mstatus = preprocess                                                \n"
      ]
     },
     "metadata": {},
     "output_type": "display_data"
    },
    {
     "data": {
      "text/html": [
       "<pre style=\"white-space:pre;overflow-x:auto;line-height:normal;font-family:Menlo,'DejaVu Sans Mono',consolas,'Courier New',monospace\"></pre>\n"
      ],
      "text/plain": []
     },
     "metadata": {},
     "output_type": "display_data"
    },
    {
     "data": {
      "text/html": [
       "<pre style=\"white-space:pre;overflow-x:auto;line-height:normal;font-family:Menlo,'DejaVu Sans Mono',consolas,'Courier New',monospace\"><span style=\"color: #7fbfbf; text-decoration-color: #7fbfbf\">16:45:40 -03 </span>Maximum FlexCredit cost: <span style=\"color: #008080; text-decoration-color: #008080; font-weight: bold\">0.179</span>. Use <span style=\"color: #008000; text-decoration-color: #008000\">'web.real_cost(task_id)'</span> to get\n",
       "<span style=\"color: #7fbfbf; text-decoration-color: #7fbfbf\">             </span>the billed FlexCredit cost after a simulation run.                 \n",
       "</pre>\n"
      ],
      "text/plain": [
       "\u001b[2;36m16:45:40 -03\u001b[0m\u001b[2;36m \u001b[0mMaximum FlexCredit cost: \u001b[1;36m0.179\u001b[0m. Use \u001b[32m'web.real_cost\u001b[0m\u001b[32m(\u001b[0m\u001b[32mtask_id\u001b[0m\u001b[32m)\u001b[0m\u001b[32m'\u001b[0m to get\n",
       "\u001b[2;36m             \u001b[0mthe billed FlexCredit cost after a simulation run.                 \n"
      ]
     },
     "metadata": {},
     "output_type": "display_data"
    },
    {
     "data": {
      "text/html": [
       "<pre style=\"white-space:pre;overflow-x:auto;line-height:normal;font-family:Menlo,'DejaVu Sans Mono',consolas,'Courier New',monospace\"><span style=\"color: #7fbfbf; text-decoration-color: #7fbfbf\">             </span>starting up solver                                                 \n",
       "</pre>\n"
      ],
      "text/plain": [
       "\u001b[2;36m            \u001b[0m\u001b[2;36m \u001b[0mstarting up solver                                                 \n"
      ]
     },
     "metadata": {},
     "output_type": "display_data"
    },
    {
     "data": {
      "text/html": [
       "<pre style=\"white-space:pre;overflow-x:auto;line-height:normal;font-family:Menlo,'DejaVu Sans Mono',consolas,'Courier New',monospace\"><span style=\"color: #7fbfbf; text-decoration-color: #7fbfbf\">             </span>running solver                                                     \n",
       "</pre>\n"
      ],
      "text/plain": [
       "\u001b[2;36m            \u001b[0m\u001b[2;36m \u001b[0mrunning solver                                                     \n"
      ]
     },
     "metadata": {},
     "output_type": "display_data"
    },
    {
     "data": {
      "application/vnd.jupyter.widget-view+json": {
       "model_id": "215a2cae3c2b435c91874e54ed3e3c2e",
       "version_major": 2,
       "version_minor": 0
      },
      "text/plain": [
       "Output()"
      ]
     },
     "metadata": {},
     "output_type": "display_data"
    },
    {
     "data": {
      "text/html": [
       "<pre style=\"white-space:pre;overflow-x:auto;line-height:normal;font-family:Menlo,'DejaVu Sans Mono',consolas,'Courier New',monospace\"></pre>\n"
      ],
      "text/plain": []
     },
     "metadata": {},
     "output_type": "display_data"
    },
    {
     "data": {
      "text/html": [
       "<pre style=\"white-space:pre;overflow-x:auto;line-height:normal;font-family:Menlo,'DejaVu Sans Mono',consolas,'Courier New',monospace\">\n",
       "</pre>\n"
      ],
      "text/plain": [
       "\n"
      ]
     },
     "metadata": {},
     "output_type": "display_data"
    },
    {
     "data": {
      "text/html": [
       "<pre style=\"white-space:pre;overflow-x:auto;line-height:normal;font-family:Menlo,'DejaVu Sans Mono',consolas,'Courier New',monospace\"><span style=\"color: #7fbfbf; text-decoration-color: #7fbfbf\">16:47:36 -03 </span>status = postprocess                                               \n",
       "</pre>\n"
      ],
      "text/plain": [
       "\u001b[2;36m16:47:36 -03\u001b[0m\u001b[2;36m \u001b[0mstatus = postprocess                                               \n"
      ]
     },
     "metadata": {},
     "output_type": "display_data"
    },
    {
     "data": {
      "application/vnd.jupyter.widget-view+json": {
       "model_id": "66f5302edd764305b7213d9711a3903f",
       "version_major": 2,
       "version_minor": 0
      },
      "text/plain": [
       "Output()"
      ]
     },
     "metadata": {},
     "output_type": "display_data"
    },
    {
     "data": {
      "text/html": [
       "<pre style=\"white-space:pre;overflow-x:auto;line-height:normal;font-family:Menlo,'DejaVu Sans Mono',consolas,'Courier New',monospace\"><span style=\"color: #7fbfbf; text-decoration-color: #7fbfbf\">16:48:12 -03 </span>status = success                                                   \n",
       "</pre>\n"
      ],
      "text/plain": [
       "\u001b[2;36m16:48:12 -03\u001b[0m\u001b[2;36m \u001b[0mstatus = success                                                   \n"
      ]
     },
     "metadata": {},
     "output_type": "display_data"
    },
    {
     "data": {
      "text/html": [
       "<pre style=\"white-space:pre;overflow-x:auto;line-height:normal;font-family:Menlo,'DejaVu Sans Mono',consolas,'Courier New',monospace\"></pre>\n"
      ],
      "text/plain": []
     },
     "metadata": {},
     "output_type": "display_data"
    },
    {
     "data": {
      "text/html": [
       "<pre style=\"white-space:pre;overflow-x:auto;line-height:normal;font-family:Menlo,'DejaVu Sans Mono',consolas,'Courier New',monospace\"><span style=\"color: #7fbfbf; text-decoration-color: #7fbfbf\">             </span>View simulation result at                                          \n",
       "<span style=\"color: #7fbfbf; text-decoration-color: #7fbfbf\">             </span><a href=\"https://tidy3d.simulation.cloud/workbench?taskId=fdve-3313404a-b9cb-42c3-a711-3532e96df5ca\" target=\"_blank\"><span style=\"color: #000080; text-decoration-color: #000080; text-decoration: underline\">'https://tidy3d.simulation.cloud/workbench?taskId=fdve-3313404a-b9c</span></a>\n",
       "<span style=\"color: #7fbfbf; text-decoration-color: #7fbfbf\">             </span><a href=\"https://tidy3d.simulation.cloud/workbench?taskId=fdve-3313404a-b9cb-42c3-a711-3532e96df5ca\" target=\"_blank\"><span style=\"color: #000080; text-decoration-color: #000080; text-decoration: underline\">b-42c3-a711-3532e96df5ca'</span></a><span style=\"color: #000080; text-decoration-color: #000080; text-decoration: underline\">.</span>                                         \n",
       "</pre>\n"
      ],
      "text/plain": [
       "\u001b[2;36m            \u001b[0m\u001b[2;36m \u001b[0mView simulation result at                                          \n",
       "\u001b[2;36m             \u001b[0m\u001b]8;id=556018;https://tidy3d.simulation.cloud/workbench?taskId=fdve-3313404a-b9cb-42c3-a711-3532e96df5ca\u001b\\\u001b[4;34m'https://tidy3d.simulation.cloud/workbench?\u001b[0m\u001b]8;;\u001b\\\u001b]8;id=4346;https://tidy3d.simulation.cloud/workbench?taskId=fdve-3313404a-b9cb-42c3-a711-3532e96df5ca\u001b\\\u001b[4;34mtaskId\u001b[0m\u001b]8;;\u001b\\\u001b]8;id=556018;https://tidy3d.simulation.cloud/workbench?taskId=fdve-3313404a-b9cb-42c3-a711-3532e96df5ca\u001b\\\u001b[4;34m=\u001b[0m\u001b]8;;\u001b\\\u001b]8;id=340585;https://tidy3d.simulation.cloud/workbench?taskId=fdve-3313404a-b9cb-42c3-a711-3532e96df5ca\u001b\\\u001b[4;34mfdve\u001b[0m\u001b]8;;\u001b\\\u001b]8;id=556018;https://tidy3d.simulation.cloud/workbench?taskId=fdve-3313404a-b9cb-42c3-a711-3532e96df5ca\u001b\\\u001b[4;34m-3313404a-b9c\u001b[0m\u001b]8;;\u001b\\\n",
       "\u001b[2;36m             \u001b[0m\u001b]8;id=556018;https://tidy3d.simulation.cloud/workbench?taskId=fdve-3313404a-b9cb-42c3-a711-3532e96df5ca\u001b\\\u001b[4;34mb-42c3-a711-3532e96df5ca'\u001b[0m\u001b]8;;\u001b\\\u001b[4;34m.\u001b[0m                                         \n"
      ]
     },
     "metadata": {},
     "output_type": "display_data"
    },
    {
     "data": {
      "application/vnd.jupyter.widget-view+json": {
       "model_id": "dadcd221610b41148c89e8a60c215690",
       "version_major": 2,
       "version_minor": 0
      },
      "text/plain": [
       "Output()"
      ]
     },
     "metadata": {},
     "output_type": "display_data"
    },
    {
     "data": {
      "text/html": [
       "<pre style=\"white-space:pre;overflow-x:auto;line-height:normal;font-family:Menlo,'DejaVu Sans Mono',consolas,'Courier New',monospace\"></pre>\n"
      ],
      "text/plain": []
     },
     "metadata": {},
     "output_type": "display_data"
    },
    {
     "data": {
      "text/html": [
       "<pre style=\"white-space:pre;overflow-x:auto;line-height:normal;font-family:Menlo,'DejaVu Sans Mono',consolas,'Courier New',monospace\">\n",
       "</pre>\n"
      ],
      "text/plain": [
       "\n"
      ]
     },
     "metadata": {},
     "output_type": "display_data"
    },
    {
     "data": {
      "text/html": [
       "<pre style=\"white-space:pre;overflow-x:auto;line-height:normal;font-family:Menlo,'DejaVu Sans Mono',consolas,'Courier New',monospace\"><span style=\"color: #7fbfbf; text-decoration-color: #7fbfbf\">16:48:57 -03 </span>loading simulation from simulation_data.hdf5                       \n",
       "</pre>\n"
      ],
      "text/plain": [
       "\u001b[2;36m16:48:57 -03\u001b[0m\u001b[2;36m \u001b[0mloading simulation from simulation_data.hdf5                       \n"
      ]
     },
     "metadata": {},
     "output_type": "display_data"
    },
    {
     "data": {
      "text/html": [
       "<pre style=\"white-space:pre;overflow-x:auto;line-height:normal;font-family:Menlo,'DejaVu Sans Mono',consolas,'Courier New',monospace\"><span style=\"color: #7fbfbf; text-decoration-color: #7fbfbf\">16:48:58 -03 </span><span style=\"color: #800000; text-decoration-color: #800000\">WARNING: Simulation final field decay value of </span><span style=\"color: #008080; text-decoration-color: #008080; font-weight: bold\">0.0561</span><span style=\"color: #800000; text-decoration-color: #800000\"> is greater   </span>\n",
       "<span style=\"color: #7fbfbf; text-decoration-color: #7fbfbf\">             </span><span style=\"color: #800000; text-decoration-color: #800000\">than the simulation shutoff threshold of </span><span style=\"color: #008080; text-decoration-color: #008080; font-weight: bold\">1e-05</span><span style=\"color: #800000; text-decoration-color: #800000\">. Consider running   </span>\n",
       "<span style=\"color: #7fbfbf; text-decoration-color: #7fbfbf\">             </span><span style=\"color: #800000; text-decoration-color: #800000\">the simulation again with a larger </span><span style=\"color: #008000; text-decoration-color: #008000\">'run_time'</span><span style=\"color: #800000; text-decoration-color: #800000\"> duration for more    </span>\n",
       "<span style=\"color: #7fbfbf; text-decoration-color: #7fbfbf\">             </span><span style=\"color: #800000; text-decoration-color: #800000\">accurate results.                                                  </span>\n",
       "</pre>\n"
      ],
      "text/plain": [
       "\u001b[2;36m16:48:58 -03\u001b[0m\u001b[2;36m \u001b[0m\u001b[31mWARNING: Simulation final field decay value of \u001b[0m\u001b[1;36m0.0561\u001b[0m\u001b[31m is greater   \u001b[0m\n",
       "\u001b[2;36m             \u001b[0m\u001b[31mthan the simulation shutoff threshold of \u001b[0m\u001b[1;36m1e-05\u001b[0m\u001b[31m. Consider running   \u001b[0m\n",
       "\u001b[2;36m             \u001b[0m\u001b[31mthe simulation again with a larger \u001b[0m\u001b[32m'run_time'\u001b[0m\u001b[31m duration for more    \u001b[0m\n",
       "\u001b[2;36m             \u001b[0m\u001b[31maccurate results.                                                  \u001b[0m\n"
      ]
     },
     "metadata": {},
     "output_type": "display_data"
    }
   ],
   "source": [
    "asymmetric_sim_data = web.run(asymmetric_sim, task_name=\"asymmetric_ellipse_nanobeam\")"
   ]
  },
  {
   "cell_type": "markdown",
   "metadata": {},
   "source": [
    "First, we will plot the fields and recalculate the Q-factor and mode volume."
   ]
  },
  {
   "cell_type": "code",
   "execution_count": 21,
   "metadata": {},
   "outputs": [
    {
     "data": {
      "image/png": "[encoded data removed]",
      "text/plain": [
       "<Figure size 640x480 with 2 Axes>"
      ]
     },
     "metadata": {},
     "output_type": "display_data"
    }
   ],
   "source": [
    "asymmetric_sim_data.plot_field(\n",
    "    \"fieldProfileMon\",\n",
    "    \"Ey\",\n",
    "    val=\"abs\",\n",
    "    z=0,\n",
    "    t=asymmetric_sim_data[\"fieldProfileMon\"].Ez.t[-1],\n",
    ")\n",
    "plt.show()"
   ]
  },
  {
   "cell_type": "code",
   "execution_count": 22,
   "metadata": {},
   "outputs": [
    {
     "name": "stdout",
     "output_type": "stream",
     "text": [
      "Mode volume: 0.41 (lambda/n)^3\n"
     ]
    },
    {
     "data": {
      "text/html": [
       "<div>\n",
       "<style scoped>\n",
       "    .dataframe tbody tr th:only-of-type {\n",
       "        vertical-align: middle;\n",
       "    }\n",
       "\n",
       "    .dataframe tbody tr th {\n",
       "        vertical-align: top;\n",
       "    }\n",
       "\n",
       "    .dataframe thead th {\n",
       "        text-align: right;\n",
       "    }\n",
       "</style>\n",
       "<table border=\"1\" class=\"dataframe\">\n",
       "  <thead>\n",
       "    <tr style=\"text-align: right;\">\n",
       "      <th></th>\n",
       "      <th>decay</th>\n",
       "      <th>Q</th>\n",
       "      <th>amplitude</th>\n",
       "      <th>phase</th>\n",
       "      <th>error</th>\n",
       "      <th>wl</th>\n",
       "    </tr>\n",
       "    <tr>\n",
       "      <th>freq</th>\n",
       "      <th></th>\n",
       "      <th></th>\n",
       "      <th></th>\n",
       "      <th></th>\n",
       "      <th></th>\n",
       "      <th></th>\n",
       "    </tr>\n",
       "  </thead>\n",
       "  <tbody>\n",
       "    <tr>\n",
       "      <th>1.941612e+14</th>\n",
       "      <td>1.635266e+08</td>\n",
       "      <td>3.730130e+06</td>\n",
       "      <td>18817.985879</td>\n",
       "      <td>-2.816392</td>\n",
       "      <td>0.000098</td>\n",
       "      <td>1544.038947</td>\n",
       "    </tr>\n",
       "  </tbody>\n",
       "</table>\n",
       "</div>"
      ],
      "text/plain": [
       "                     decay             Q     amplitude     phase     error  \\\n",
       "freq                                                                         \n",
       "1.941612e+14  1.635266e+08  3.730130e+06  18817.985879 -2.816392  0.000098   \n",
       "\n",
       "                       wl  \n",
       "freq                       \n",
       "1.941612e+14  1544.038947  "
      ]
     },
     "execution_count": 22,
     "metadata": {},
     "output_type": "execute_result"
    }
   ],
   "source": [
    "asymmetric_energy_density, asymmetric_eps = get_energy_density(asymmetric_sim_data)\n",
    "asymmetric_Vmode = mode_volume(asymmetric_energy_density, eps)\n",
    "\n",
    "print(\"Mode volume: %.2f (lambda/n)^3\" % asymmetric_Vmode)\n",
    "\n",
    "asymmetric_df, asymmetric_signal = analyse_resonance_monitors(\n",
    "    asymmetric_sim_data, start_time, freq_window\n",
    ")\n",
    "asymmetric_df.head()"
   ]
  },
  {
   "cell_type": "markdown",
   "metadata": {},
   "source": [
    "### Direction Q-factor definition\n",
    "\n",
    "To calculate the directional Q-factors, we will use the definition:\n",
    "\n",
    "$Q^i = \\omega \\frac{U_{stored}}{U^i_{lost}}$\n",
    "\n",
    "Where $U_{stored}$ is the total energy in the resonator and $U^i_{lost}$ is the energy leaking from the resonator in one oscillation of the field at coordinate $i$. The energy stored is calculated by integrating the energy density. The energy leaving in each direction is calculated as the temporal mean of the flux monitors around the simulation domain."
   ]
  },
  {
   "cell_type": "code",
   "execution_count": 23,
   "metadata": {},
   "outputs": [],
   "source": [
    "def get_directional_Q(sim_data, energy_density, resonant_frequency):\n",
    "    dict_fluxes = {}\n",
    "\n",
    "    omega = 2 * np.pi * resonant_frequency\n",
    "\n",
    "    # calculating the total energy\n",
    "    Energy = td.EPSILON_0 * np.abs(energy_density).integrate(coord=(\"x\", \"y\", \"z\"))\n",
    "\n",
    "    # iterating through all flux monitors and calculating the Q factor\n",
    "    for coord in [\"x\", \"y\", \"z\"]:\n",
    "        for direction in [\"\", \"-\"]:\n",
    "            delta_t = (\n",
    "                sim_data[direction + coord].flux.t[-1]\n",
    "                - sim_data[direction + coord].flux.t[0]\n",
    "            )\n",
    "            flux = abs(sim_data[direction + coord].flux.integrate(coord=\"t\")) / delta_t\n",
    "            dict_fluxes[direction + coord] = (omega * Energy / flux).values\n",
    "\n",
    "    # estimating the total Q as the contributions of all directional Q factors\n",
    "    totalQ = sum([1 / i for i in dict_fluxes.values()]) ** -1\n",
    "    dict_fluxes[\"total Q\"] = totalQ\n",
    "\n",
    "    return dict_fluxes"
   ]
  },
  {
   "cell_type": "code",
   "execution_count": 24,
   "metadata": {},
   "outputs": [
    {
     "name": "stdout",
     "output_type": "stream",
     "text": [
      "Q x = 3.98 MM\n",
      "Q -x = 93.30 MM\n",
      "Q y = 18.91 MM\n",
      "Q -y = 18.91 MM\n",
      "Q z = 20.91 MM\n",
      "Q -z = 20.91 MM\n",
      "Q total Q = 2.16 MM\n"
     ]
    }
   ],
   "source": [
    "resonant_frequency = abs(df.sort_values(\"Q\").index[0])\n",
    "directional_Q = get_directional_Q(\n",
    "    asymmetric_sim_data, asymmetric_energy_density, resonant_frequency\n",
    ")\n",
    "\n",
    "for i in directional_Q.keys():\n",
    "    print(\"Q %s = %.2f MM\" % (i, directional_Q[i] * 10**-6))"
   ]
  },
  {
   "cell_type": "markdown",
   "metadata": {},
   "source": [
    "We can note that the x+ directional Q is lower than all the others, indicating that this is a preferential loss path. Also, the total Q calculated as the sum of all directional components agrees well with the one obtained using `ResonanceFinder`."
   ]
  }
 ],
 "metadata": {
  "description": "This notebook demonstrates how to run an FDTD simulation of a nanobeam cavity using Tidy3D.",
  "feature_image": "./img/NanobeamCavity_1.png",
  "kernelspec": {
   "display_name": "Python 3 (ipykernel)",
   "language": "python",
   "name": "python3"
  },
  "keywords": "nanobeam, photonic crystal cavity, photonics, optical cavity, optical resonantor, Tidy3D, FDTD",
  "language_info": {
   "codemirror_mode": {
    "name": "ipython",
    "version": 3
   },
   "file_extension": ".py",
   "mimetype": "text/x-python",
   "name": "python",
   "nbconvert_exporter": "python",
   "pygments_lexer": "ipython3",
   "version": "3.11.7"
  },
  "title": "How to model a nanobeam cavity using Tidy3D | Flexcompute"
 },
 "nbformat": 4,
 "nbformat_minor": 4
}
