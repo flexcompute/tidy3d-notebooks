{
 "cells": [
  {
   "cell_type": "code",
   "execution_count": 1,
   "id": "720f0f9e-fab9-4ee1-a6ca-cea90fce073c",
   "metadata": {},
   "outputs": [],
   "source": [
    "import tidy3d as td\n",
    "import tidy3d.web as web\n",
    "\n",
    "import autograd as ag\n",
    "import autograd.numpy as np\n",
    "\n",
    "import matplotlib.pylab as plt"
   ]
  },
  {
   "cell_type": "code",
   "execution_count": 6,
   "id": "4032f0ae-ad4e-4076-a1fe-aa01e2c162be",
   "metadata": {},
   "outputs": [],
   "source": [
    "wvl = 1.0\n",
    "freq = td.C_0 / wvl\n",
    "fwidth = freq/10\n",
    "period = 1 / freq\n",
    "\n",
    "beta = 0.5\n",
    "velocity = td.C_0 * beta\n",
    "Lx = period * velocity\n",
    "\n",
    "ly_design = 3 * wvl\n",
    "ly_channel = 0.5 * wvl\n",
    "buffer = 2 * wvl\n",
    "\n",
    "Ly = 2 * buffer + 2 * ly_design + ly_channel\n",
    "\n",
    "eps_max = 5.0\n",
    "\n",
    "dl = wvl / 50\n",
    "\n",
    "# radius of the circular filter (um) and the threshold strength\n",
    "radius = 0.120\n",
    "threshold = 50"
   ]
  },
  {
   "cell_type": "code",
   "execution_count": 18,
   "id": "59725e97-ba8b-4b48-89f4-e9f8f5e53dad",
   "metadata": {},
   "outputs": [],
   "source": [
    "from tidy3d.plugins.autograd import rescale, make_filter_and_project\n",
    "\n",
    "src = td.PlaneWave(\n",
    "    center=(0, -Ly/2 + buffer+2 * dl, 0),\n",
    "    size=(td.inf, 0, td.inf),\n",
    "    direction=\"+\",\n",
    "    source_time=td.GaussianPulse(freq0=freq, fwidth=fwidth),\n",
    ")\n",
    "\n",
    "mnt_channel = td.FieldMonitor(\n",
    "    center=(0,0,0),\n",
    "    size=(td.inf, 0, 0),\n",
    "    freqs=[freq],\n",
    "    name='channel',\n",
    ")\n",
    "\n",
    "mnt_viz = td.FieldMonitor(\n",
    "    center=(0,0,0),\n",
    "    size=(td.inf, 0, 0),\n",
    "    freqs=[freq],\n",
    "    name='field',\n",
    ")\n",
    "\n",
    "filter_project = make_filter_and_project(radius, dl)\n",
    "\n",
    "def get_eps(params, threshold):\n",
    "    \"\"\"Get the permittivity values (1, eps_wg) array as a function of the parameters (0, 1)\"\"\"\n",
    "    processed_params = filter_project(params, threshold)\n",
    "    eps = rescale(processed_params, 1, eps_max)\n",
    "    return eps\n",
    "\n",
    "def make_structure(params, threshold, y) -> td.Structure:\n",
    "    box = td.Box(\n",
    "        center=(0, y, 0),\n",
    "        size=(Lx + 2 * dl, ly_channel, td.inf)\n",
    "    )\n",
    "    eps_data = get_eps(params, threshold).reshape((nx, ny, 1))\n",
    "    custom_structure = td.Structure.from_permittivity_array(geometry=box, eps_data=eps_data)\n",
    "\n",
    "    return custom_structure\n",
    "\n",
    "def make_sim(params_3d, threshold, viz_mnt=False) -> td.Simulation:\n",
    "\n",
    "    params_up, params_dn = params_3d\n",
    "    \n",
    "    structure_up = make_structure(params_up, threshold, y=+(ly_channel + ly_design)/2)\n",
    "    structure_dn = make_structure(params_dn, threshold, y=-(ly_channel + ly_design)/2)\n",
    "\n",
    "    monitors = [mnt_channel]\n",
    "    if viz_mnt:\n",
    "        monitors += [mnt_viz]\n",
    "    \n",
    "    return td.Simulation(\n",
    "        size=(Lx, Ly, 0),\n",
    "        grid_spec=td.GridSpec.uniform(dl=dl),\n",
    "        boundary_spec=td.BoundarySpec.pml(x=False, y=True, z=False),\n",
    "        structures=[structure_up, structure_dn],\n",
    "        sources=[src],\n",
    "        monitors=monitors,\n",
    "        run_time=fwidth/100,\n",
    "    )"
   ]
  },
  {
   "cell_type": "code",
   "execution_count": 19,
   "id": "0bf32eba-a909-448b-b381-c942c47478fa",
   "metadata": {},
   "outputs": [],
   "source": [
    "nx = int(Lx / dl)\n",
    "ny = int(ly_design / dl)\n",
    "\n",
    "params0 = 0.5 * np.ones((2, nx, ny))\n",
    "\n",
    "sim0 = make_sim(params0, threshold=1.0)"
   ]
  },
  {
   "cell_type": "code",
   "execution_count": 22,
   "id": "ec22d54c-fe09-4c5d-844e-fd003c61895e",
   "metadata": {},
   "outputs": [
    {
     "data": {
      "image/png": "[encoded data removed]",
      "text/plain": [
       "<Figure size 640x480 with 1 Axes>"
      ]
     },
     "metadata": {},
     "output_type": "display_data"
    }
   ],
   "source": [
    "sim0.plot(z=0)\n",
    "plt.show()"
   ]
  },
  {
   "cell_type": "code",
   "execution_count": 23,
   "id": "9f0f3be1-b8a2-445e-a99a-74dc81c0da0b",
   "metadata": {},
   "outputs": [],
   "source": [
    "from tidy3d.plugins.autograd import make_erosion_dilation_penalty\n",
    "\n",
    "penalty = make_erosion_dilation_penalty(radius, dl)"
   ]
  },
  {
   "cell_type": "code",
   "execution_count": null,
   "id": "682fc6f3-8099-48e7-b7cb-166e27c50b52",
   "metadata": {},
   "outputs": [],
   "source": []
  }
 ],
 "metadata": {
  "kernelspec": {
   "display_name": "Python 3 (ipykernel)",
   "language": "python",
   "name": "python3"
  },
  "language_info": {
   "codemirror_mode": {
    "name": "ipython",
    "version": 3
   },
   "file_extension": ".py",
   "mimetype": "text/x-python",
   "name": "python",
   "nbconvert_exporter": "python",
   "pygments_lexer": "ipython3",
   "version": "3.11.9"
  }
 },
 "nbformat": 4,
 "nbformat_minor": 5
}
