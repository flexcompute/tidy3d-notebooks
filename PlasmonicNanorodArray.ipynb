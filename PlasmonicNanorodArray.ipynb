{
 "cells": [
  {
   "cell_type": "markdown",
   "id": "6f64f45c",
   "metadata": {},
   "source": [
    "# Plasmonic cavity resonator consisting of a gold nanorod array"
   ]
  },
  {
   "cell_type": "markdown",
   "id": "45e67b25",
   "metadata": {},
   "source": [
    "Plasmonic structures have been under intense research interest in the past few decades, primarily because of their unique ability to confine light to subwavelength dimensions, significantly enhancing electromagnetic fields at their surfaces. This phenomenon has opened up new avenues in various scientific fields, including photovoltaics, sensing, and nanoscale imaging, by enabling the manipulation of light at the nanometer scale. \n",
    "\n",
    "In this notebook, we demonstrate the modeling of a hexagonal lattice of gold nanorods, which supports localized surface plasmon resonances. When excited by a plane wave, these resonances manifest as distinct dips in the reflectance spectrum, indicative of the efficient transfer of incident power into the plasmon modes. Through the examination of field profiles at these resonance points, it becomes possible to discern the standing waves correlating to various harmonics. The design is adopted from `David P. Lyvers, Jeong-Mi Moon, Alexander V. Kildishev, Vladimir M. Shalaev, and Alexander Wei, ACS Nano 2008, 2, 12, 2569–2576` [DOI: 10.1021/nn8006477](https://doi.org/10.1021/nn8006477).\n",
    "\n",
    "<img src=\"img/nanorod_array.png\" width=\"400\" alt=\"Schematic of the nanorod array\">\n",
    "\n",
    "This notebook mainly aims to demonstrate how to model a hexagonal lattice within the FDTD simulation domain, which is rectangular. In addition, the plane wave source in `Tidy3D` by default has an incident power of 1 W. In this example, we also demonstrate how to perform field normalization to obtain a meaningful relative field enhancement factor. For more discussion on source normalization, refer to the [FAQ entry](https://www.flexcompute.com/tidy3d/learning-center/faq/#how-are-results-normalized).\n",
    "\n",
    "Periodic or quasi-periodic structures are common in photonic devices. In Tidy3D's example library, we have demonstrated a [gradient metasurface reflector](https://www.flexcompute.com/tidy3d/examples/notebooks/GradientMetasurfaceReflector/), a [metalens at the visible frequency](https://www.flexcompute.com/tidy3d/examples/notebooks/Metalens/), and a [graphene metamaterial absorber](https://www.flexcompute.com/tidy3d/examples/notebooks/GrapheneMetamaterial/). In addition, we also investigated a [frequency selected surface](https://www.flexcompute.com/tidy3d/examples/notebooks/MicrowaveFrequencySelectiveSurface/) for the microwave frequency range."
   ]
  },
  {
   "cell_type": "code",
   "execution_count": 1,
   "id": "819a113b",
   "metadata": {
    "execution": {
     "iopub.execute_input": "2024-02-17T08:03:48.760317Z",
     "iopub.status.busy": "2024-02-17T08:03:48.759839Z",
     "iopub.status.idle": "2024-02-17T08:03:50.055057Z",
     "shell.execute_reply": "2024-02-17T08:03:50.054530Z"
    }
   },
   "outputs": [],
   "source": [
    "import numpy as np\n",
    "import matplotlib.pyplot as plt\n",
    "\n",
    "import tidy3d as td\n",
    "import tidy3d.web as web"
   ]
  },
  {
   "cell_type": "markdown",
   "id": "3e546025",
   "metadata": {},
   "source": [
    "## Simulation Setup"
   ]
  },
  {
   "cell_type": "markdown",
   "id": "b3806184",
   "metadata": {},
   "source": [
    "Define the simulation wavelength (frequency) range."
   ]
  },
  {
   "cell_type": "code",
   "execution_count": 2,
   "id": "e1c761c0",
   "metadata": {
    "execution": {
     "iopub.execute_input": "2024-02-17T08:03:50.057300Z",
     "iopub.status.busy": "2024-02-17T08:03:50.057031Z",
     "iopub.status.idle": "2024-02-17T08:03:50.073002Z",
     "shell.execute_reply": "2024-02-17T08:03:50.072481Z"
    }
   },
   "outputs": [],
   "source": [
    "lda0 = 1.15  # central wavelength\n",
    "freq0 = td.C_0 / lda0  # central frequency\n",
    "ldas = np.linspace(0.4, 1.9, 201)  # wavelength range\n",
    "freqs = td.C_0 / ldas  # frequency range\n",
    "fwidth = 0.5 * (np.max(freqs) - np.min(freqs))  # width of the source frequency range"
   ]
  },
  {
   "cell_type": "markdown",
   "id": "f8b9448e",
   "metadata": {},
   "source": [
    "Define the geometric parameters for the nanorod array. "
   ]
  },
  {
   "cell_type": "code",
   "execution_count": 3,
   "id": "411092a3",
   "metadata": {
    "execution": {
     "iopub.execute_input": "2024-02-17T08:03:50.075006Z",
     "iopub.status.busy": "2024-02-17T08:03:50.074806Z",
     "iopub.status.idle": "2024-02-17T08:03:50.090144Z",
     "shell.execute_reply": "2024-02-17T08:03:50.089575Z"
    }
   },
   "outputs": [],
   "source": [
    "h = 0.649  # height of the nanorods\n",
    "a = 0.098  # spacing between the nanorods\n",
    "d = 0.0636  # diameter of the nanorods\n",
    "t_base = 0.05  # thickness of the base plate"
   ]
  },
  {
   "cell_type": "markdown",
   "id": "b6c6fbf3",
   "metadata": {},
   "source": [
    "Define the materials used in the simulation. Tidy3D's material library provides several options for gold. In this particular case, we will use the data from the widely used [paper](https://journals.aps.org/prb/abstract/10.1103/PhysRevB.6.4370) by Johnson and Christy in 1972. \n",
    "\n",
    "The Al$_2$O$_3$ is defined by a constant refractive index material in the wavelength range of interest."
   ]
  },
  {
   "cell_type": "code",
   "execution_count": 4,
   "id": "c74e4ddf",
   "metadata": {
    "execution": {
     "iopub.execute_input": "2024-02-17T08:03:50.092095Z",
     "iopub.status.busy": "2024-02-17T08:03:50.091928Z",
     "iopub.status.idle": "2024-02-17T08:03:50.108381Z",
     "shell.execute_reply": "2024-02-17T08:03:50.106829Z"
    }
   },
   "outputs": [],
   "source": [
    "# define gold material from the material library\n",
    "gold = td.material_library[\"Au\"][\"JohnsonChristy1972\"]\n",
    "\n",
    "# define Al2O3 material as a constant refractive index\n",
    "n_eff = 1.61  # refractive index of Al2O3\n",
    "al2o3 = td.Medium(permittivity=n_eff**2)"
   ]
  },
  {
   "cell_type": "markdown",
   "id": "9a0a1f93",
   "metadata": {},
   "source": [
    "Next we define the structures, which include the dielectric filling, two nanorods, and a base plate. \n",
    "\n",
    "The nanorods are arranged in a hexagonal lattice. In FDTD, the simulation domain needs to be rectangular. For a hexagonal lattice, we can identify a rectangular unit cell as indicated by the blue dashed box below. For a plane wave excitation, we can apply periodic boundary conditions for normal incidence or Bloch boundary conditions for oblique incidence. \n",
    "\n",
    "In addition, we notice that the unit cell structure has two reflection symmetries. Therefore, in the case of normal incidence of a plane wave linearly polarized either in the horizontal or vertical directions, we can utilize the symmetry to further reduce the simulation domain size by a factor of 4. For more details on symmetry, please refer to the tutorial [here](https://www.flexcompute.com/tidy3d/examples/notebooks/Symmetry/). Next we are going to take this approach and only model the unit cell.\n",
    "\n",
    "<img src=\"img/hexagonal_lattice.png\" width=\"400\" alt=\"Schematic of the unit cells in a haxagonal lattice\">"
   ]
  },
  {
   "cell_type": "code",
   "execution_count": 5,
   "id": "f4fb961b",
   "metadata": {
    "execution": {
     "iopub.execute_input": "2024-02-17T08:03:50.113629Z",
     "iopub.status.busy": "2024-02-17T08:03:50.113250Z",
     "iopub.status.idle": "2024-02-17T08:03:50.141910Z",
     "shell.execute_reply": "2024-02-17T08:03:50.141319Z"
    }
   },
   "outputs": [],
   "source": [
    "# define the Al2O3 filling structure\n",
    "dielectric = td.Structure(\n",
    "    geometry=td.Box(center=(0, 0, h / 2), size=(td.inf, td.inf, h)), medium=al2o3\n",
    ")\n",
    "\n",
    "# define the first nanorod structure\n",
    "rod_1 = td.Structure(\n",
    "    geometry=td.Cylinder(center=(0, 0, h / 2), radius=d / 2, length=h), medium=gold\n",
    ")\n",
    "\n",
    "# define the second nanorod structure\n",
    "rod_2 = td.Structure(\n",
    "    geometry=td.Cylinder(center=(a / 2, np.sqrt(3) * a / 2, h / 2), radius=d / 2, length=h),\n",
    "    medium=gold,\n",
    ")\n",
    "\n",
    "# define the third nanorod structure\n",
    "rod_3 = td.Structure(\n",
    "    geometry=td.Cylinder(center=(a / 2, -np.sqrt(3) * a / 2, h / 2), radius=d / 2, length=h),\n",
    "    medium=gold,\n",
    ")\n",
    "\n",
    "# define the forth nanorod structure\n",
    "rod_4 = td.Structure(\n",
    "    geometry=td.Cylinder(center=(-a / 2, np.sqrt(3) * a / 2, h / 2), radius=d / 2, length=h),\n",
    "    medium=gold,\n",
    ")\n",
    "\n",
    "# define the fifth nanorod structure\n",
    "rod_5 = td.Structure(\n",
    "    geometry=td.Cylinder(center=(-a / 2, -np.sqrt(3) * a / 2, h / 2), radius=d / 2, length=h),\n",
    "    medium=gold,\n",
    ")\n",
    "\n",
    "# define the base plate structure\n",
    "base = td.Structure(\n",
    "    geometry=td.Box(center=(0, 0, -t_base / 2), size=(td.inf, td.inf, t_base)), medium=gold\n",
    ")"
   ]
  },
  {
   "cell_type": "markdown",
   "id": "89259852",
   "metadata": {},
   "source": [
    "Next we define the source and monitors. A [PlaneWave](../api/_autosummary/tidy3d.PlaneWave.html) polarized in the $y$ direction is injected from the top of the nanorods. By default the plane wave is polarized in the $x$ direction. To make it $y$-polarized, we set `pol_angle` to $\\pi$/2.\n",
    "\n",
    "To measure reflection, we define a [FluxMonitor](../api/_autosummary/tidy3d.FluxMonitor.html) above the [PlaneWave](../api/_autosummary/tidy3d.PlaneWave.html). In addition, we define a [FieldMonitor](../api/_autosummary/tidy3d.FieldMonitor.html) to help visualize the field profiles at the resonances. In principle, one needs to run the simulation first without the [FieldMonitor](../api/_autosummary/tidy3d.FieldMonitor.html) to determine the resonance wavelengths (frequencies) and then rerun it with the [FieldMonitor](../api/_autosummary/tidy3d.FieldMonitor.html) set to record the resonance frequencies. For presentation purposes, the resonance wavelengths (frequencies) are pre-determined here."
   ]
  },
  {
   "cell_type": "code",
   "execution_count": 6,
   "id": "442e1480",
   "metadata": {
    "execution": {
     "iopub.execute_input": "2024-02-17T08:03:50.143797Z",
     "iopub.status.busy": "2024-02-17T08:03:50.143649Z",
     "iopub.status.idle": "2024-02-17T08:03:50.160931Z",
     "shell.execute_reply": "2024-02-17T08:03:50.160417Z"
    }
   },
   "outputs": [],
   "source": [
    "# define a plane wave incident on the nanorod array from the top\n",
    "plane_wave = td.PlaneWave(\n",
    "    source_time=td.GaussianPulse(freq0=freq0, fwidth=fwidth),\n",
    "    size=(td.inf, td.inf, 0),\n",
    "    center=(0, 0, h + 0.4 * lda0),\n",
    "    direction=\"-\",\n",
    "    pol_angle=np.pi / 2,\n",
    ")\n",
    "\n",
    "# define a flux monitor above the plane wave to measure reflection\n",
    "flux_monitor = td.FluxMonitor(\n",
    "    center=[0, 0, h + 0.5 * lda0], size=[td.inf, td.inf, 0], freqs=freqs, name=\"R\"\n",
    ")\n",
    "\n",
    "# pre-determined resonance wavelengths\n",
    "res_ldas = np.array([1.6, 1.25, 0.93, 0.765, 0.675])\n",
    "# corresponding resonance frequencies\n",
    "res_freqs = td.C_0 / res_ldas\n",
    "\n",
    "# define a field monitor at the resonance frequencies to visualize the excited modes\n",
    "monitor_field = td.FieldMonitor(\n",
    "    center=[a / 4, a * np.sqrt(3) / 4, h / 2],\n",
    "    size=[0, a * np.sqrt(3) / 2, 2 * h],\n",
    "    freqs=res_freqs,\n",
    "    name=\"field\",\n",
    ")"
   ]
  },
  {
   "cell_type": "markdown",
   "id": "b5941330",
   "metadata": {},
   "source": [
    "With everything in place, we are ready to define the [Simulation](../api/_autosummary/tidy3d.Simulation.html). Since the simulation domain is very small, we can afford to use a very fine grid without increasing the cost. In this case, we use an automatic nonuniform grid with a minimum steps per wavelength of 80. \n",
    "\n",
    "For the boundary condition, we apply the periodic boundary condition in the $x$ and $y$ directions and PML in the $z$ direction. `symmetry=(1,-1,0)` is used since the incident light is polarized in the $y$ direction.\n",
    "\n",
    "The default automatic shutoff level is `1e-5` but we decreased it to `1e-7` to further enhance the simulation accuracy, which is typically not required. It can be needed in simulations like plasmonics where strong fields are concentrated in relatively small volumes."
   ]
  },
  {
   "cell_type": "code",
   "execution_count": 7,
   "id": "9187a83c",
   "metadata": {
    "execution": {
     "iopub.execute_input": "2024-02-17T08:03:50.162665Z",
     "iopub.status.busy": "2024-02-17T08:03:50.162530Z",
     "iopub.status.idle": "2024-02-17T08:03:50.188616Z",
     "shell.execute_reply": "2024-02-17T08:03:50.187162Z"
    }
   },
   "outputs": [],
   "source": [
    "run_time = 2e-13  # simulation run time\n",
    "\n",
    "# define simulation domain size\n",
    "sim_size = (a, np.sqrt(3) * a, 1.5 * lda0 + h)\n",
    "\n",
    "# set up simulation\n",
    "sim = td.Simulation(\n",
    "    center=(0, 0, h / 2),\n",
    "    size=sim_size,\n",
    "    grid_spec=td.GridSpec.auto(min_steps_per_wvl=80, wavelength=lda0),\n",
    "    structures=[dielectric, base, rod_1, rod_2, rod_3, rod_4, rod_5],\n",
    "    sources=[plane_wave],\n",
    "    monitors=[flux_monitor, monitor_field],\n",
    "    run_time=run_time,\n",
    "    boundary_spec=td.BoundarySpec(\n",
    "        x=td.Boundary.periodic(), y=td.Boundary.periodic(), z=td.Boundary.pml()\n",
    "    ), \n",
    "    symmetry=(1, -1, 0),\n",
    "    shutoff=1e-7,  # reducing the default shutoff level\n",
    ")"
   ]
  },
  {
   "cell_type": "markdown",
   "id": "24ccd2d1",
   "metadata": {},
   "source": [
    "After the simulation is set up, we can inspect the structure and grid to ensure the setup is correct and the grid is sufficiently fine."
   ]
  },
  {
   "cell_type": "code",
   "execution_count": 8,
   "id": "501d8190",
   "metadata": {
    "execution": {
     "iopub.execute_input": "2024-02-17T08:03:50.193642Z",
     "iopub.status.busy": "2024-02-17T08:03:50.193290Z",
     "iopub.status.idle": "2024-02-17T08:03:50.378842Z",
     "shell.execute_reply": "2024-02-17T08:03:50.378354Z"
    }
   },
   "outputs": [
    {
     "data": {
      "image/png": "[encoded data removed]",
      "text/plain": [
       "<Figure size 640x480 with 1 Axes>"
      ]
     },
     "metadata": {},
     "output_type": "display_data"
    }
   ],
   "source": [
    "ax = sim.plot(z=h / 2)\n",
    "sim.plot_grid(z=h / 2, ax=ax)\n",
    "plt.show()"
   ]
  },
  {
   "cell_type": "markdown",
   "id": "dc627fed",
   "metadata": {},
   "source": [
    "Also plot the 3D visualization."
   ]
  },
  {
   "cell_type": "code",
   "execution_count": 9,
   "id": "e37b0d79",
   "metadata": {
    "execution": {
     "iopub.execute_input": "2024-02-17T08:03:50.380774Z",
     "iopub.status.busy": "2024-02-17T08:03:50.380569Z",
     "iopub.status.idle": "2024-02-17T08:03:50.399217Z",
     "shell.execute_reply": "2024-02-17T08:03:50.398775Z"
    }
   },
   "outputs": [
    {
     "data": {
      "text/html": [
       "\n",
       "    <iframe id=\"simulation-viewer170815703039441891\" src=https://feature-simulation-viewer.d3a9gfg7glllfq.amplifyapp.com/simulation-viewer?uuid=170815703039441891 width=\"800\" height=\"800\" allowfullscreen=\"true\"></iframe>\n",
       "    <script>\n",
       "        \n",
       "    window.postMessageToViewer170815703039441891 = event => {\n",
       "        if(event.data.type === 'viewer'&&event.data.uuid==='170815703039441891'){\n",
       "            document.getElementById('simulation-viewer170815703039441891').contentWindow.postMessage({ type: 'jupyter', uuid:'170815703039441891', value:{\"type\": \"Simulation\", \"center\": [0.0, 0.0, 0.3245], \"size\": [0.098, 0.16974097914174996, 2.3739999999999997], \"medium\": {\"name\": null, \"frequency_range\": null, \"allow_gain\": false, \"nonlinear_spec\": null, \"modulation_spec\": null, \"heat_spec\": null, \"type\": \"Medium\", \"permittivity\": 1.0, \"conductivity\": 0.0}, \"structures\": [{\"geometry\": {\"type\": \"Box\", \"center\": [0.0, 0.0, 0.3245], \"size\": [\"Infinity\", \"Infinity\", 0.649]}, \"name\": null, \"type\": \"Structure\", \"medium\": {\"name\": null, \"frequency_range\": null, \"allow_gain\": false, \"nonlinear_spec\": null, \"modulation_spec\": null, \"heat_spec\": null, \"type\": \"Medium\", \"permittivity\": 2.5921000000000003, \"conductivity\": 0.0}}, {\"geometry\": {\"type\": \"Box\", \"center\": [0.0, 0.0, -0.025], \"size\": [\"Infinity\", \"Infinity\", 0.05]}, \"name\": null, \"type\": \"Structure\", \"medium\": {\"name\": null, \"frequency_range\": [154751311505403.34, 1595872899899471.8], \"allow_gain\": false, \"nonlinear_spec\": null, \"modulation_spec\": null, \"heat_spec\": null, \"type\": \"PoleResidue\", \"eps_inf\": 1.0, \"poles\": [[{\"real\": -569801961707506.2, \"imag\": -5919036552773929.0}, {\"real\": 547547687971021.3, \"imag\": 294290120688174.94}], [{\"real\": -1589807268517576.2, \"imag\": -3491672819475904.0}, {\"real\": 1.0929163739969444e+16, \"imag\": 422154272517619.8}], [{\"real\": -291288687923238.2, \"imag\": -3648189488671429.0}, {\"real\": 252866071416221.06, \"imag\": -269873948615172.56}], [{\"real\": -249515901504479.2, \"imag\": -1081669083787891.2}, {\"real\": -343676981321731.5, \"imag\": -707306264998813.6}], [{\"real\": -53249179312995.555, \"imag\": -283474011170933.5}, {\"real\": 2393359178586368.5, \"imag\": 2.9476885206131206e+17}]]}}, {\"geometry\": {\"type\": \"Cylinder\", \"axis\": 2, \"sidewall_angle\": 0.0, \"reference_plane\": \"middle\", \"radius\": 0.0318, \"center\": [0.0, 0.0, 0.3245], \"length\": 0.649}, \"name\": null, \"type\": \"Structure\", \"medium\": {\"name\": null, \"frequency_range\": [154751311505403.34, 1595872899899471.8], \"allow_gain\": false, \"nonlinear_spec\": null, \"modulation_spec\": null, \"heat_spec\": null, \"type\": \"PoleResidue\", \"eps_inf\": 1.0, \"poles\": [[{\"real\": -569801961707506.2, \"imag\": -5919036552773929.0}, {\"real\": 547547687971021.3, \"imag\": 294290120688174.94}], [{\"real\": -1589807268517576.2, \"imag\": -3491672819475904.0}, {\"real\": 1.0929163739969444e+16, \"imag\": 422154272517619.8}], [{\"real\": -291288687923238.2, \"imag\": -3648189488671429.0}, {\"real\": 252866071416221.06, \"imag\": -269873948615172.56}], [{\"real\": -249515901504479.2, \"imag\": -1081669083787891.2}, {\"real\": -343676981321731.5, \"imag\": -707306264998813.6}], [{\"real\": -53249179312995.555, \"imag\": -283474011170933.5}, {\"real\": 2393359178586368.5, \"imag\": 2.9476885206131206e+17}]]}}, {\"geometry\": {\"type\": \"Cylinder\", \"axis\": 2, \"sidewall_angle\": 0.0, \"reference_plane\": \"middle\", \"radius\": 0.0318, \"center\": [0.049, 0.08487048957087498, 0.3245], \"length\": 0.649}, \"name\": null, \"type\": \"Structure\", \"medium\": {\"name\": null, \"frequency_range\": [154751311505403.34, 1595872899899471.8], \"allow_gain\": false, \"nonlinear_spec\": null, \"modulation_spec\": null, \"heat_spec\": null, \"type\": \"PoleResidue\", \"eps_inf\": 1.0, \"poles\": [[{\"real\": -569801961707506.2, \"imag\": -5919036552773929.0}, {\"real\": 547547687971021.3, \"imag\": 294290120688174.94}], [{\"real\": -1589807268517576.2, \"imag\": -3491672819475904.0}, {\"real\": 1.0929163739969444e+16, \"imag\": 422154272517619.8}], [{\"real\": -291288687923238.2, \"imag\": -3648189488671429.0}, {\"real\": 252866071416221.06, \"imag\": -269873948615172.56}], [{\"real\": -249515901504479.2, \"imag\": -1081669083787891.2}, {\"real\": -343676981321731.5, \"imag\": -707306264998813.6}], [{\"real\": -53249179312995.555, \"imag\": -283474011170933.5}, {\"real\": 2393359178586368.5, \"imag\": 2.9476885206131206e+17}]]}}, {\"geometry\": {\"type\": \"Cylinder\", \"axis\": 2, \"sidewall_angle\": 0.0, \"reference_plane\": \"middle\", \"radius\": 0.0318, \"center\": [0.049, -0.08487048957087498, 0.3245], \"length\": 0.649}, \"name\": null, \"type\": \"Structure\", \"medium\": {\"name\": null, \"frequency_range\": [154751311505403.34, 1595872899899471.8], \"allow_gain\": false, \"nonlinear_spec\": null, \"modulation_spec\": null, \"heat_spec\": null, \"type\": \"PoleResidue\", \"eps_inf\": 1.0, \"poles\": [[{\"real\": -569801961707506.2, \"imag\": -5919036552773929.0}, {\"real\": 547547687971021.3, \"imag\": 294290120688174.94}], [{\"real\": -1589807268517576.2, \"imag\": -3491672819475904.0}, {\"real\": 1.0929163739969444e+16, \"imag\": 422154272517619.8}], [{\"real\": -291288687923238.2, \"imag\": -3648189488671429.0}, {\"real\": 252866071416221.06, \"imag\": -269873948615172.56}], [{\"real\": -249515901504479.2, \"imag\": -1081669083787891.2}, {\"real\": -343676981321731.5, \"imag\": -707306264998813.6}], [{\"real\": -53249179312995.555, \"imag\": -283474011170933.5}, {\"real\": 2393359178586368.5, \"imag\": 2.9476885206131206e+17}]]}}, {\"geometry\": {\"type\": \"Cylinder\", \"axis\": 2, \"sidewall_angle\": 0.0, \"reference_plane\": \"middle\", \"radius\": 0.0318, \"center\": [-0.049, 0.08487048957087498, 0.3245], \"length\": 0.649}, \"name\": null, \"type\": \"Structure\", \"medium\": {\"name\": null, \"frequency_range\": [154751311505403.34, 1595872899899471.8], \"allow_gain\": false, \"nonlinear_spec\": null, \"modulation_spec\": null, \"heat_spec\": null, \"type\": \"PoleResidue\", \"eps_inf\": 1.0, \"poles\": [[{\"real\": -569801961707506.2, \"imag\": -5919036552773929.0}, {\"real\": 547547687971021.3, \"imag\": 294290120688174.94}], [{\"real\": -1589807268517576.2, \"imag\": -3491672819475904.0}, {\"real\": 1.0929163739969444e+16, \"imag\": 422154272517619.8}], [{\"real\": -291288687923238.2, \"imag\": -3648189488671429.0}, {\"real\": 252866071416221.06, \"imag\": -269873948615172.56}], [{\"real\": -249515901504479.2, \"imag\": -1081669083787891.2}, {\"real\": -343676981321731.5, \"imag\": -707306264998813.6}], [{\"real\": -53249179312995.555, \"imag\": -283474011170933.5}, {\"real\": 2393359178586368.5, \"imag\": 2.9476885206131206e+17}]]}}, {\"geometry\": {\"type\": \"Cylinder\", \"axis\": 2, \"sidewall_angle\": 0.0, \"reference_plane\": \"middle\", \"radius\": 0.0318, \"center\": [-0.049, -0.08487048957087498, 0.3245], \"length\": 0.649}, \"name\": null, \"type\": \"Structure\", \"medium\": {\"name\": null, \"frequency_range\": [154751311505403.34, 1595872899899471.8], \"allow_gain\": false, \"nonlinear_spec\": null, \"modulation_spec\": null, \"heat_spec\": null, \"type\": \"PoleResidue\", \"eps_inf\": 1.0, \"poles\": [[{\"real\": -569801961707506.2, \"imag\": -5919036552773929.0}, {\"real\": 547547687971021.3, \"imag\": 294290120688174.94}], [{\"real\": -1589807268517576.2, \"imag\": -3491672819475904.0}, {\"real\": 1.0929163739969444e+16, \"imag\": 422154272517619.8}], [{\"real\": -291288687923238.2, \"imag\": -3648189488671429.0}, {\"real\": 252866071416221.06, \"imag\": -269873948615172.56}], [{\"real\": -249515901504479.2, \"imag\": -1081669083787891.2}, {\"real\": -343676981321731.5, \"imag\": -707306264998813.6}], [{\"real\": -53249179312995.555, \"imag\": -283474011170933.5}, {\"real\": 2393359178586368.5, \"imag\": 2.9476885206131206e+17}]]}}], \"symmetry\": [1, -1, 0], \"sources\": [{\"name\": null, \"type\": \"PlaneWave\", \"center\": [0.0, 0.0, 1.109], \"size\": [\"Infinity\", \"Infinity\", 0.0], \"source_time\": {\"amplitude\": 1.0, \"phase\": 0.0, \"type\": \"GaussianPulse\", \"freq0\": 260689093913043.5, \"fwidth\": 295847820394736.9, \"offset\": 5.0, \"remove_dc_component\": true}, \"direction\": \"-\", \"angle_theta\": 0.0, \"angle_phi\": 0.0, \"pol_angle\": 1.5707963267948966}], \"boundary_spec\": {\"x\": {\"plus\": {\"name\": null, \"type\": \"Periodic\"}, \"minus\": {\"name\": null, \"type\": \"Periodic\"}, \"type\": \"Boundary\"}, \"y\": {\"plus\": {\"name\": null, \"type\": \"Periodic\"}, \"minus\": {\"name\": null, \"type\": \"Periodic\"}, \"type\": \"Boundary\"}, \"z\": {\"plus\": {\"name\": null, \"type\": \"PML\", \"num_layers\": 12, \"parameters\": {\"sigma_order\": 3, \"sigma_min\": 0.0, \"sigma_max\": 1.5, \"type\": \"PMLParams\", \"kappa_order\": 3, \"kappa_min\": 1.0, \"kappa_max\": 3.0, \"alpha_order\": 1, \"alpha_min\": 0.0, \"alpha_max\": 0.0}}, \"minus\": {\"name\": null, \"type\": \"PML\", \"num_layers\": 12, \"parameters\": {\"sigma_order\": 3, \"sigma_min\": 0.0, \"sigma_max\": 1.5, \"type\": \"PMLParams\", \"kappa_order\": 3, \"kappa_min\": 1.0, \"kappa_max\": 3.0, \"alpha_order\": 1, \"alpha_min\": 0.0, \"alpha_max\": 0.0}}, \"type\": \"Boundary\"}, \"type\": \"BoundarySpec\"}, \"monitors\": [{\"type\": \"FluxMonitor\", \"center\": [0.0, 0.0, 1.224], \"size\": [\"Infinity\", \"Infinity\", 0.0], \"name\": \"R\", \"interval_space\": [1, 1, 1], \"colocate\": true, \"freqs\": [749481145000000.0, 735687013496932.5, 722391465060240.9, 709567947928994.0, 697191762790697.6, 685239904000000.0, 673690916853932.6, 662524769060773.5, 651722734782608.6, 641267289839572.1, 631142016842105.2, 621331519170984.4, 611821342857142.9, 602597905527638.1, 593648431683168.2, 584960893658536.6, 576523957692307.6, 568326934597156.2, 560359734579439.25, 552612825806451.6, 545077196363636.3, 537744319282511.2, 530606120353982.4, 523654948471615.7, 516883548275862.0, 510285034893617.0, 503852870588235.3, 497580843153526.94, 491463045901639.4, 485493859109311.7, 479667932800000.0, 473980170750988.1, 468425715625000.0, 462999935135135.2, 457698409160305.3, 452516917735849.0, 447451429850746.25, 442498092988929.9, 437653223357664.2, 432913296750902.5, 428274940000000.0, 423734922968197.9, 419290151048951.0, 414937658131487.9, 410674600000000.0, 406498248135593.2, 402405983892617.44, 398395293023255.8, 394463760526315.8, 390609065798045.56, 386828978064516.1, 383121352076677.3, 379484124050632.9, 375915307836990.6, 372412991304347.9, 368975332923076.94, 365600558536585.3, 362286958308157.1, 359032883832335.4, 355836745400593.44, 352697009411764.7, 349612195918367.4, 346580876300578.06, 343601671060171.9, 340673247727272.75, 337794318873239.44, 334963640223463.7, 332180008864265.94, 329442261538461.5, 326749273024523.2, 324099954594594.56, 321493252546916.9, 318928146808510.6, 316403649604221.6, 313918804188481.7, 311472683636363.6, 309064389690721.7, 306693051662404.06, 304357825380710.7, 302057892191435.75, 299792458000000.0, 297560752357320.1, 295362027586206.9, 293195557946210.25, 291060638834951.44, 288956586024096.4, 286882734928229.7, 284838439904988.1, 282823073584905.6, 280836026229508.22, 278876705116279.1, 276944533949191.7, 275038952293578.03, 273159415034168.53, 271305391855203.62, 269476366741573.03, 267671837499999.97, 265891315299334.8, 264134324229074.88, 262400400875273.5, 260689093913043.5, 258999963714902.8, 257332581974248.9, 255686531343283.6, 254061405084745.72, 252456806736842.1, 250872349790795.0, 249307657380457.34, 247762361983471.1, 246236105133470.22, 244728537142857.12, 243239316835699.8, 241768111290322.6, 240314595591182.34, 238878452589641.47, 237459372673267.34, 236057053543307.1, 234671200000000.03, 233301523735408.53, 231947743133462.28, 230609583076923.1, 229286774760994.25, 227979055513308.0, 226686168620037.8, 225407863157894.72, 224143893831775.72, 222894020817843.88, 221658009611829.94, 220435630882352.97, 219226660329067.66, 218030878545454.53, 216848070886075.97, 215678027338129.47, 214520542397137.75, 213375414946619.25, 212242448141592.9, 211121449295774.66, 210012229772329.28, 208914604878048.78, 207828393760831.9, 206753419310344.8, 205689508061749.56, 204636490102389.1, 203594198981324.25, 202562471621621.62, 201541148235294.16, 200530072240802.66, 199529090183028.28, 198538051655629.16, 197556809225700.16, 196585218360655.75, 195623137357259.34, 194670427272727.28, 193726951857835.22, 192792577491961.4, 191867173120000.0, 190950610191082.8, 190042762599049.12, 189143506624605.7, 188252720879120.9, 187370286250000.0, 186496085847589.44, 185630004953560.4, 184771930970724.2, 183921753374233.16, 183079363664122.12, 182244655319148.94, 181417523751891.1, 180597866265060.22, 179785582008995.5, 178980571940298.53, 178182738781575.03, 177391986982248.53, 176608222680412.4, 175831353665689.16, 175061289343065.7, 174297940697674.44, 173541220260492.03, 172791042074927.97, 172047321664275.44, 171309976000000.0, 170578923470839.28, 169854083852691.22, 169135378279266.56, 168422729213483.16, 167716060419580.4, 167015296935933.16, 166320365048543.72, 165631192265193.38, 164947707290233.84, 164269839999999.97, 163597521418826.75, 162930683695652.2, 162269260081190.78, 161613184905660.38, 160962393557047.0, 160316822459893.03, 159676409054593.88, 159041091777188.34, 158410810039630.12, 157785504210526.3], \"apodization\": {\"start\": null, \"end\": null, \"width\": null, \"type\": \"ApodizationSpec\"}, \"normal_dir\": \"+\", \"exclude_surfaces\": null}, {\"type\": \"FieldMonitor\", \"center\": [0.0245, 0.04243524478543749, 0.3245], \"size\": [0.0, 0.08487048957087498, 1.298], \"name\": \"field\", \"interval_space\": [1, 1, 1], \"colocate\": true, \"freqs\": [187370286250000.0, 239833966400000.0, 322357481720430.06, 391885566013071.9, 444136974814814.8], \"apodization\": {\"start\": null, \"end\": null, \"width\": null, \"type\": \"ApodizationSpec\"}, \"fields\": [\"Ex\", \"Ey\", \"Ez\", \"Hx\", \"Hy\", \"Hz\"]}], \"grid_spec\": {\"grid_x\": {\"type\": \"AutoGrid\", \"min_steps_per_wvl\": 80.0, \"max_scale\": 1.4, \"dl_min\": 0.0, \"mesher\": {\"type\": \"GradedMesher\"}}, \"grid_y\": {\"type\": \"AutoGrid\", \"min_steps_per_wvl\": 80.0, \"max_scale\": 1.4, \"dl_min\": 0.0, \"mesher\": {\"type\": \"GradedMesher\"}}, \"grid_z\": {\"type\": \"AutoGrid\", \"min_steps_per_wvl\": 80.0, \"max_scale\": 1.4, \"dl_min\": 0.0, \"mesher\": {\"type\": \"GradedMesher\"}}, \"wavelength\": 1.15, \"override_structures\": [], \"type\": \"GridSpec\"}, \"version\": \"2.6.0\", \"run_time\": 2e-13, \"shutoff\": 1e-07, \"subpixel\": true, \"normalize_index\": 0, \"courant\": 0.99}}, '*')\n",
       "        }\n",
       "    };\n",
       "    window.addEventListener(\n",
       "        'message',\n",
       "        window.postMessageToViewer170815703039441891,\n",
       "        false\n",
       "    );\n",
       "    \n",
       "    </script>\n",
       "    "
      ],
      "text/plain": [
       "<IPython.core.display.HTML object>"
      ]
     },
     "metadata": {},
     "output_type": "display_data"
    }
   ],
   "source": [
    "sim.plot_3d()"
   ]
  },
  {
   "cell_type": "markdown",
   "id": "c1cbd78f",
   "metadata": {},
   "source": [
    "## Run Simulation"
   ]
  },
  {
   "cell_type": "markdown",
   "id": "58aa7a82",
   "metadata": {},
   "source": [
    "Now we are ready to submit the simulation to the server."
   ]
  },
  {
   "cell_type": "code",
   "execution_count": 10,
   "id": "76e001ee",
   "metadata": {
    "execution": {
     "iopub.execute_input": "2024-02-17T08:03:50.400946Z",
     "iopub.status.busy": "2024-02-17T08:03:50.400805Z",
     "iopub.status.idle": "2024-02-17T08:04:23.161649Z",
     "shell.execute_reply": "2024-02-17T08:04:23.161025Z"
    },
    "scrolled": true
   },
   "outputs": [
    {
     "data": {
      "text/html": [
       "<pre style=\"white-space:pre;overflow-x:auto;line-height:normal;font-family:Menlo,'DejaVu Sans Mono',consolas,'Courier New',monospace\"><span style=\"color: #7fbfbf; text-decoration-color: #7fbfbf\">00:03:50 PST </span>Created task <span style=\"color: #008000; text-decoration-color: #008000\">'nanorod_array'</span> with task_id                          \n",
       "<span style=\"color: #7fbfbf; text-decoration-color: #7fbfbf\">             </span><span style=\"color: #008000; text-decoration-color: #008000\">'fdve-fd9d1709-8d73-4b88-9818-5782354be3e3'</span> and task_type <span style=\"color: #008000; text-decoration-color: #008000\">'FDTD'</span>.  \n",
       "</pre>\n"
      ],
      "text/plain": [
       "\u001b[2;36m00:03:50 PST\u001b[0m\u001b[2;36m \u001b[0mCreated task \u001b[32m'nanorod_array'\u001b[0m with task_id                          \n",
       "\u001b[2;36m             \u001b[0m\u001b[32m'fdve-fd9d1709-8d73-4b88-9818-5782354be3e3'\u001b[0m and task_type \u001b[32m'FDTD'\u001b[0m.  \n"
      ]
     },
     "metadata": {},
     "output_type": "display_data"
    },
    {
     "data": {
      "text/html": [
       "<pre style=\"white-space:pre;overflow-x:auto;line-height:normal;font-family:Menlo,'DejaVu Sans Mono',consolas,'Courier New',monospace\"><span style=\"color: #7fbfbf; text-decoration-color: #7fbfbf\">             </span>View task using web UI at                                          \n",
       "<span style=\"color: #7fbfbf; text-decoration-color: #7fbfbf\">             </span><a href=\"https://tidy3d.simulation.cloud/workbench?taskId=fdve-fd9d1709-8d73-4b88-9818-5782354be3e3\" target=\"_blank\"><span style=\"color: #008000; text-decoration-color: #008000\">'https://tidy3d.simulation.cloud/workbench?taskId=fdve-fd9d1709-8d7</span></a>\n",
       "<span style=\"color: #7fbfbf; text-decoration-color: #7fbfbf\">             </span><a href=\"https://tidy3d.simulation.cloud/workbench?taskId=fdve-fd9d1709-8d73-4b88-9818-5782354be3e3\" target=\"_blank\"><span style=\"color: #008000; text-decoration-color: #008000\">3-4b88-9818-5782354be3e3'</span></a>.                                         \n",
       "</pre>\n"
      ],
      "text/plain": [
       "\u001b[2;36m            \u001b[0m\u001b[2;36m \u001b[0mView task using web UI at                                          \n",
       "\u001b[2;36m             \u001b[0m\u001b]8;id=570400;https://tidy3d.simulation.cloud/workbench?taskId=fdve-fd9d1709-8d73-4b88-9818-5782354be3e3\u001b\\\u001b[32m'https://tidy3d.simulation.cloud/workbench?\u001b[0m\u001b]8;;\u001b\\\u001b]8;id=187774;https://tidy3d.simulation.cloud/workbench?taskId=fdve-fd9d1709-8d73-4b88-9818-5782354be3e3\u001b\\\u001b[32mtaskId\u001b[0m\u001b]8;;\u001b\\\u001b]8;id=570400;https://tidy3d.simulation.cloud/workbench?taskId=fdve-fd9d1709-8d73-4b88-9818-5782354be3e3\u001b\\\u001b[32m=\u001b[0m\u001b]8;;\u001b\\\u001b]8;id=774161;https://tidy3d.simulation.cloud/workbench?taskId=fdve-fd9d1709-8d73-4b88-9818-5782354be3e3\u001b\\\u001b[32mfdve\u001b[0m\u001b]8;;\u001b\\\u001b]8;id=570400;https://tidy3d.simulation.cloud/workbench?taskId=fdve-fd9d1709-8d73-4b88-9818-5782354be3e3\u001b\\\u001b[32m-fd9d1709-8d7\u001b[0m\u001b]8;;\u001b\\\n",
       "\u001b[2;36m             \u001b[0m\u001b]8;id=570400;https://tidy3d.simulation.cloud/workbench?taskId=fdve-fd9d1709-8d73-4b88-9818-5782354be3e3\u001b\\\u001b[32m3-4b88-9818-5782354be3e3'\u001b[0m\u001b]8;;\u001b\\.                                         \n"
      ]
     },
     "metadata": {},
     "output_type": "display_data"
    },
    {
     "data": {
      "application/vnd.jupyter.widget-view+json": {
       "model_id": "e5552c1255374617816de69aab3994b9",
       "version_major": 2,
       "version_minor": 0
      },
      "text/plain": [
       "Output()"
      ]
     },
     "metadata": {},
     "output_type": "display_data"
    },
    {
     "data": {
      "text/html": [
       "<pre style=\"white-space:pre;overflow-x:auto;line-height:normal;font-family:Menlo,'DejaVu Sans Mono',consolas,'Courier New',monospace\"></pre>\n"
      ],
      "text/plain": []
     },
     "metadata": {},
     "output_type": "display_data"
    },
    {
     "data": {
      "text/html": [
       "<pre style=\"white-space:pre;overflow-x:auto;line-height:normal;font-family:Menlo,'DejaVu Sans Mono',consolas,'Courier New',monospace\">\n",
       "</pre>\n"
      ],
      "text/plain": [
       "\n"
      ]
     },
     "metadata": {},
     "output_type": "display_data"
    },
    {
     "data": {
      "text/html": [
       "<pre style=\"white-space:pre;overflow-x:auto;line-height:normal;font-family:Menlo,'DejaVu Sans Mono',consolas,'Courier New',monospace\"><span style=\"color: #7fbfbf; text-decoration-color: #7fbfbf\">00:03:51 PST </span>status = queued                                                    \n",
       "</pre>\n"
      ],
      "text/plain": [
       "\u001b[2;36m00:03:51 PST\u001b[0m\u001b[2;36m \u001b[0mstatus = queued                                                    \n"
      ]
     },
     "metadata": {},
     "output_type": "display_data"
    },
    {
     "data": {
      "application/vnd.jupyter.widget-view+json": {
       "model_id": "bd57899790c1411194b383b5dc55ad7e",
       "version_major": 2,
       "version_minor": 0
      },
      "text/plain": [
       "Output()"
      ]
     },
     "metadata": {},
     "output_type": "display_data"
    },
    {
     "data": {
      "text/html": [
       "<pre style=\"white-space:pre;overflow-x:auto;line-height:normal;font-family:Menlo,'DejaVu Sans Mono',consolas,'Courier New',monospace\"><span style=\"color: #7fbfbf; text-decoration-color: #7fbfbf\">00:03:57 PST </span>status = preprocess                                                \n",
       "</pre>\n"
      ],
      "text/plain": [
       "\u001b[2;36m00:03:57 PST\u001b[0m\u001b[2;36m \u001b[0mstatus = preprocess                                                \n"
      ]
     },
     "metadata": {},
     "output_type": "display_data"
    },
    {
     "data": {
      "text/html": [
       "<pre style=\"white-space:pre;overflow-x:auto;line-height:normal;font-family:Menlo,'DejaVu Sans Mono',consolas,'Courier New',monospace\"></pre>\n"
      ],
      "text/plain": []
     },
     "metadata": {},
     "output_type": "display_data"
    },
    {
     "data": {
      "text/html": [
       "<pre style=\"white-space:pre;overflow-x:auto;line-height:normal;font-family:Menlo,'DejaVu Sans Mono',consolas,'Courier New',monospace\"><span style=\"color: #7fbfbf; text-decoration-color: #7fbfbf\">00:03:58 PST </span>Maximum FlexCredit cost: <span style=\"color: #008080; text-decoration-color: #008080; font-weight: bold\">0.031</span>. Use <span style=\"color: #008000; text-decoration-color: #008000\">'web.real_cost(task_id)'</span> to get\n",
       "<span style=\"color: #7fbfbf; text-decoration-color: #7fbfbf\">             </span>the billed FlexCredit cost after a simulation run.                 \n",
       "</pre>\n"
      ],
      "text/plain": [
       "\u001b[2;36m00:03:58 PST\u001b[0m\u001b[2;36m \u001b[0mMaximum FlexCredit cost: \u001b[1;36m0.031\u001b[0m. Use \u001b[32m'web.real_cost\u001b[0m\u001b[32m(\u001b[0m\u001b[32mtask_id\u001b[0m\u001b[32m)\u001b[0m\u001b[32m'\u001b[0m to get\n",
       "\u001b[2;36m             \u001b[0mthe billed FlexCredit cost after a simulation run.                 \n"
      ]
     },
     "metadata": {},
     "output_type": "display_data"
    },
    {
     "data": {
      "text/html": [
       "<pre style=\"white-space:pre;overflow-x:auto;line-height:normal;font-family:Menlo,'DejaVu Sans Mono',consolas,'Courier New',monospace\"><span style=\"color: #7fbfbf; text-decoration-color: #7fbfbf\">             </span>starting up solver                                                 \n",
       "</pre>\n"
      ],
      "text/plain": [
       "\u001b[2;36m            \u001b[0m\u001b[2;36m \u001b[0mstarting up solver                                                 \n"
      ]
     },
     "metadata": {},
     "output_type": "display_data"
    },
    {
     "data": {
      "text/html": [
       "<pre style=\"white-space:pre;overflow-x:auto;line-height:normal;font-family:Menlo,'DejaVu Sans Mono',consolas,'Courier New',monospace\"><span style=\"color: #7fbfbf; text-decoration-color: #7fbfbf\">             </span>running solver                                                     \n",
       "</pre>\n"
      ],
      "text/plain": [
       "\u001b[2;36m            \u001b[0m\u001b[2;36m \u001b[0mrunning solver                                                     \n"
      ]
     },
     "metadata": {},
     "output_type": "display_data"
    },
    {
     "data": {
      "text/html": [
       "<pre style=\"white-space:pre;overflow-x:auto;line-height:normal;font-family:Menlo,'DejaVu Sans Mono',consolas,'Courier New',monospace\"><span style=\"color: #7fbfbf; text-decoration-color: #7fbfbf\">             </span>To cancel the simulation, use <span style=\"color: #008000; text-decoration-color: #008000\">'web.abort(task_id)'</span> or              \n",
       "<span style=\"color: #7fbfbf; text-decoration-color: #7fbfbf\">             </span><span style=\"color: #008000; text-decoration-color: #008000\">'web.delete(task_id)'</span> or abort/delete the task in the web UI.      \n",
       "<span style=\"color: #7fbfbf; text-decoration-color: #7fbfbf\">             </span>Terminating the Python script will not stop the job running on the \n",
       "<span style=\"color: #7fbfbf; text-decoration-color: #7fbfbf\">             </span>cloud.                                                             \n",
       "</pre>\n"
      ],
      "text/plain": [
       "\u001b[2;36m            \u001b[0m\u001b[2;36m \u001b[0mTo cancel the simulation, use \u001b[32m'web.abort\u001b[0m\u001b[32m(\u001b[0m\u001b[32mtask_id\u001b[0m\u001b[32m)\u001b[0m\u001b[32m'\u001b[0m or              \n",
       "\u001b[2;36m             \u001b[0m\u001b[32m'web.delete\u001b[0m\u001b[32m(\u001b[0m\u001b[32mtask_id\u001b[0m\u001b[32m)\u001b[0m\u001b[32m'\u001b[0m or abort/delete the task in the web UI.      \n",
       "\u001b[2;36m             \u001b[0mTerminating the Python script will not stop the job running on the \n",
       "\u001b[2;36m             \u001b[0mcloud.                                                             \n"
      ]
     },
     "metadata": {},
     "output_type": "display_data"
    },
    {
     "data": {
      "application/vnd.jupyter.widget-view+json": {
       "model_id": "4f1a6f2724c24f19970d0b63fed7cd35",
       "version_major": 2,
       "version_minor": 0
      },
      "text/plain": [
       "Output()"
      ]
     },
     "metadata": {},
     "output_type": "display_data"
    },
    {
     "data": {
      "text/html": [
       "<pre style=\"white-space:pre;overflow-x:auto;line-height:normal;font-family:Menlo,'DejaVu Sans Mono',consolas,'Courier New',monospace\"><span style=\"color: #7fbfbf; text-decoration-color: #7fbfbf\">00:04:19 PST </span>early shutoff detected at <span style=\"color: #008080; text-decoration-color: #008080; font-weight: bold\">64</span>%, exiting.                            \n",
       "</pre>\n"
      ],
      "text/plain": [
       "\u001b[2;36m00:04:19 PST\u001b[0m\u001b[2;36m \u001b[0mearly shutoff detected at \u001b[1;36m64\u001b[0m%, exiting.                            \n"
      ]
     },
     "metadata": {},
     "output_type": "display_data"
    },
    {
     "data": {
      "text/html": [
       "<pre style=\"white-space:pre;overflow-x:auto;line-height:normal;font-family:Menlo,'DejaVu Sans Mono',consolas,'Courier New',monospace\"></pre>\n"
      ],
      "text/plain": []
     },
     "metadata": {},
     "output_type": "display_data"
    },
    {
     "data": {
      "text/html": [
       "<pre style=\"white-space:pre;overflow-x:auto;line-height:normal;font-family:Menlo,'DejaVu Sans Mono',consolas,'Courier New',monospace\">\n",
       "</pre>\n"
      ],
      "text/plain": [
       "\n"
      ]
     },
     "metadata": {},
     "output_type": "display_data"
    },
    {
     "data": {
      "text/html": [
       "<pre style=\"white-space:pre;overflow-x:auto;line-height:normal;font-family:Menlo,'DejaVu Sans Mono',consolas,'Courier New',monospace\"><span style=\"color: #7fbfbf; text-decoration-color: #7fbfbf\">             </span>status = postprocess                                               \n",
       "</pre>\n"
      ],
      "text/plain": [
       "\u001b[2;36m            \u001b[0m\u001b[2;36m \u001b[0mstatus = postprocess                                               \n"
      ]
     },
     "metadata": {},
     "output_type": "display_data"
    },
    {
     "data": {
      "application/vnd.jupyter.widget-view+json": {
       "model_id": "7b04691bf937459fb21b1afcbddb2466",
       "version_major": 2,
       "version_minor": 0
      },
      "text/plain": [
       "Output()"
      ]
     },
     "metadata": {},
     "output_type": "display_data"
    },
    {
     "data": {
      "text/html": [
       "<pre style=\"white-space:pre;overflow-x:auto;line-height:normal;font-family:Menlo,'DejaVu Sans Mono',consolas,'Courier New',monospace\"><span style=\"color: #7fbfbf; text-decoration-color: #7fbfbf\">00:04:22 PST </span>status = success                                                   \n",
       "</pre>\n"
      ],
      "text/plain": [
       "\u001b[2;36m00:04:22 PST\u001b[0m\u001b[2;36m \u001b[0mstatus = success                                                   \n"
      ]
     },
     "metadata": {},
     "output_type": "display_data"
    },
    {
     "data": {
      "text/html": [
       "<pre style=\"white-space:pre;overflow-x:auto;line-height:normal;font-family:Menlo,'DejaVu Sans Mono',consolas,'Courier New',monospace\"></pre>\n"
      ],
      "text/plain": []
     },
     "metadata": {},
     "output_type": "display_data"
    },
    {
     "data": {
      "text/html": [
       "<pre style=\"white-space:pre;overflow-x:auto;line-height:normal;font-family:Menlo,'DejaVu Sans Mono',consolas,'Courier New',monospace\"><span style=\"color: #7fbfbf; text-decoration-color: #7fbfbf\">             </span>View simulation result at                                          \n",
       "<span style=\"color: #7fbfbf; text-decoration-color: #7fbfbf\">             </span><a href=\"https://tidy3d.simulation.cloud/workbench?taskId=fdve-fd9d1709-8d73-4b88-9818-5782354be3e3\" target=\"_blank\"><span style=\"color: #000080; text-decoration-color: #000080; text-decoration: underline\">'https://tidy3d.simulation.cloud/workbench?taskId=fdve-fd9d1709-8d7</span></a>\n",
       "<span style=\"color: #7fbfbf; text-decoration-color: #7fbfbf\">             </span><a href=\"https://tidy3d.simulation.cloud/workbench?taskId=fdve-fd9d1709-8d73-4b88-9818-5782354be3e3\" target=\"_blank\"><span style=\"color: #000080; text-decoration-color: #000080; text-decoration: underline\">3-4b88-9818-5782354be3e3'</span></a><span style=\"color: #000080; text-decoration-color: #000080; text-decoration: underline\">.</span>                                         \n",
       "</pre>\n"
      ],
      "text/plain": [
       "\u001b[2;36m            \u001b[0m\u001b[2;36m \u001b[0mView simulation result at                                          \n",
       "\u001b[2;36m             \u001b[0m\u001b]8;id=930251;https://tidy3d.simulation.cloud/workbench?taskId=fdve-fd9d1709-8d73-4b88-9818-5782354be3e3\u001b\\\u001b[4;34m'https://tidy3d.simulation.cloud/workbench?\u001b[0m\u001b]8;;\u001b\\\u001b]8;id=188964;https://tidy3d.simulation.cloud/workbench?taskId=fdve-fd9d1709-8d73-4b88-9818-5782354be3e3\u001b\\\u001b[4;34mtaskId\u001b[0m\u001b]8;;\u001b\\\u001b]8;id=930251;https://tidy3d.simulation.cloud/workbench?taskId=fdve-fd9d1709-8d73-4b88-9818-5782354be3e3\u001b\\\u001b[4;34m=\u001b[0m\u001b]8;;\u001b\\\u001b]8;id=312811;https://tidy3d.simulation.cloud/workbench?taskId=fdve-fd9d1709-8d73-4b88-9818-5782354be3e3\u001b\\\u001b[4;34mfdve\u001b[0m\u001b]8;;\u001b\\\u001b]8;id=930251;https://tidy3d.simulation.cloud/workbench?taskId=fdve-fd9d1709-8d73-4b88-9818-5782354be3e3\u001b\\\u001b[4;34m-fd9d1709-8d7\u001b[0m\u001b]8;;\u001b\\\n",
       "\u001b[2;36m             \u001b[0m\u001b]8;id=930251;https://tidy3d.simulation.cloud/workbench?taskId=fdve-fd9d1709-8d73-4b88-9818-5782354be3e3\u001b\\\u001b[4;34m3-4b88-9818-5782354be3e3'\u001b[0m\u001b]8;;\u001b\\\u001b[4;34m.\u001b[0m                                         \n"
      ]
     },
     "metadata": {},
     "output_type": "display_data"
    },
    {
     "data": {
      "application/vnd.jupyter.widget-view+json": {
       "model_id": "b0aa7cd18ef543519640a4e966c07f52",
       "version_major": 2,
       "version_minor": 0
      },
      "text/plain": [
       "Output()"
      ]
     },
     "metadata": {},
     "output_type": "display_data"
    },
    {
     "data": {
      "text/html": [
       "<pre style=\"white-space:pre;overflow-x:auto;line-height:normal;font-family:Menlo,'DejaVu Sans Mono',consolas,'Courier New',monospace\"></pre>\n"
      ],
      "text/plain": []
     },
     "metadata": {},
     "output_type": "display_data"
    },
    {
     "data": {
      "text/html": [
       "<pre style=\"white-space:pre;overflow-x:auto;line-height:normal;font-family:Menlo,'DejaVu Sans Mono',consolas,'Courier New',monospace\">\n",
       "</pre>\n"
      ],
      "text/plain": [
       "\n"
      ]
     },
     "metadata": {},
     "output_type": "display_data"
    },
    {
     "data": {
      "text/html": [
       "<pre style=\"white-space:pre;overflow-x:auto;line-height:normal;font-family:Menlo,'DejaVu Sans Mono',consolas,'Courier New',monospace\"><span style=\"color: #7fbfbf; text-decoration-color: #7fbfbf\">00:04:23 PST </span>loading simulation from simulation_data.hdf5                       \n",
       "</pre>\n"
      ],
      "text/plain": [
       "\u001b[2;36m00:04:23 PST\u001b[0m\u001b[2;36m \u001b[0mloading simulation from simulation_data.hdf5                       \n"
      ]
     },
     "metadata": {},
     "output_type": "display_data"
    }
   ],
   "source": [
    "sim_data = web.run(simulation=sim, task_name=\"nanorod_array\")"
   ]
  },
  {
   "cell_type": "markdown",
   "id": "48488a95",
   "metadata": {},
   "source": [
    "## Postprocessing and Result Visualization"
   ]
  },
  {
   "cell_type": "markdown",
   "id": "dad48101",
   "metadata": {},
   "source": [
    "Since the simulation domain is quite small, the simulation took less than a minute to finish. First, we plot the reflectance spectrum. Vertical lines are added to indicate the resonance wavelengths. At resonance, the incident wave excites the plasmon modes and thus the reflection is suppressed."
   ]
  },
  {
   "cell_type": "code",
   "execution_count": 11,
   "id": "425bf44d",
   "metadata": {
    "execution": {
     "iopub.execute_input": "2024-02-17T08:04:23.688292Z",
     "iopub.status.busy": "2024-02-17T08:04:23.688105Z",
     "iopub.status.idle": "2024-02-17T08:04:23.863365Z",
     "shell.execute_reply": "2024-02-17T08:04:23.862801Z"
    }
   },
   "outputs": [
    {
     "data": {
      "image/png": "[encoded data removed]",
      "text/plain": [
       "<Figure size 640x480 with 1 Axes>"
      ]
     },
     "metadata": {},
     "output_type": "display_data"
    }
   ],
   "source": [
    "R = sim_data[\"R\"].flux  # extract reflectance\n",
    "\n",
    "# plotting\n",
    "plt.plot(ldas, R, c=\"black\", linewidth=2)\n",
    "\n",
    "# adding vertical lines at the resonances\n",
    "for res_lda in res_ldas:\n",
    "    plt.axvline(x=res_lda, linestyle=\"--\", c=\"red\")\n",
    "\n",
    "plt.xlim(min(ldas), max(ldas))\n",
    "plt.ylim(0, 1)\n",
    "plt.xlabel(\"Wavelength($\\mu m$)\", fontsize=15)\n",
    "plt.ylabel(\"Reflectance\", fontsize=15)\n",
    "plt.yticks(fontsize=15)\n",
    "plt.xticks(fontsize=15)\n",
    "plt.show()"
   ]
  },
  {
   "cell_type": "markdown",
   "id": "4a76802a",
   "metadata": {},
   "source": [
    "Finally, plot the field profiles at the resonance wavelengths. In particular, we plot the absolute value of $E_y$. Here we can clearly observe the standing wave patterns with increasing orders between the rods, consistent with the result presented in Figure 4 of the [original publication](https://doi.org/10.1021/nn8006477)."
   ]
  },
  {
   "cell_type": "code",
   "execution_count": 12,
   "id": "73de6a56",
   "metadata": {
    "execution": {
     "iopub.execute_input": "2024-02-17T08:04:23.865318Z",
     "iopub.status.busy": "2024-02-17T08:04:23.865131Z",
     "iopub.status.idle": "2024-02-17T08:04:24.843838Z",
     "shell.execute_reply": "2024-02-17T08:04:24.843307Z"
    }
   },
   "outputs": [
    {
     "data": {
      "image/png": "[encoded data removed]",
      "text/plain": [
       "<Figure size 900x400 with 10 Axes>"
      ]
     },
     "metadata": {},
     "output_type": "display_data"
    }
   ],
   "source": [
    "fig, ax = plt.subplots(1, len(res_ldas), figsize=(9, 4), tight_layout=True)\n",
    "for i, res_freq in enumerate(res_freqs):\n",
    "    E = np.sqrt(sim_data[\"field\"].intensity.sel(f=res_freq))  # field strength\n",
    "\n",
    "    # plotting\n",
    "    E.plot(x=\"y\", y=\"z\", ax=ax[i], vmin=0, vmax=1e3, cmap=\"jet\")\n",
    "    ax[i].set_title(f\"$\\lambda$={res_ldas[i]} $\\mu m$\")\n",
    "    ax[i].set_ylim(-0.2, h + 0.2)\n",
    "plt.show()"
   ]
  },
  {
   "cell_type": "markdown",
   "id": "3ec5f751",
   "metadata": {},
   "source": [
    "## Normalization of the Field"
   ]
  },
  {
   "cell_type": "markdown",
   "id": "09dcdd3d",
   "metadata": {},
   "source": [
    "Note that in Tidy3D, the plane wave has a constant power of 1 W. Therefore, the field strength scales with the plane size of the source. Very often we want to get the normalized field enhancement relative to the source field strength. To get the source field strength, one can calculate it analytically based on the power and area of the source plane. Alternatively, in a more convenient and accurate way, one can run a reference simulation without any structures and get the incident field strength numerically. Here we demonstrate how to do it.\n",
    "\n",
    "First we create a reference simulation by copying the previous simulation and updating the structures to an empty list, i.e. no structures. We run the simulation to get the results."
   ]
  },
  {
   "cell_type": "code",
   "execution_count": 13,
   "id": "69b9adda",
   "metadata": {
    "execution": {
     "iopub.execute_input": "2024-02-17T08:04:24.846059Z",
     "iopub.status.busy": "2024-02-17T08:04:24.845881Z",
     "iopub.status.idle": "2024-02-17T08:04:40.628909Z",
     "shell.execute_reply": "2024-02-17T08:04:40.628258Z"
    }
   },
   "outputs": [
    {
     "data": {
      "text/html": [
       "<pre style=\"white-space:pre;overflow-x:auto;line-height:normal;font-family:Menlo,'DejaVu Sans Mono',consolas,'Courier New',monospace\"><span style=\"color: #7fbfbf; text-decoration-color: #7fbfbf\">00:04:24 PST </span>Created task <span style=\"color: #008000; text-decoration-color: #008000\">'reference'</span> with task_id                              \n",
       "<span style=\"color: #7fbfbf; text-decoration-color: #7fbfbf\">             </span><span style=\"color: #008000; text-decoration-color: #008000\">'fdve-44148388-b6bf-445f-a004-5249d68b9b9f'</span> and task_type <span style=\"color: #008000; text-decoration-color: #008000\">'FDTD'</span>.  \n",
       "</pre>\n"
      ],
      "text/plain": [
       "\u001b[2;36m00:04:24 PST\u001b[0m\u001b[2;36m \u001b[0mCreated task \u001b[32m'reference'\u001b[0m with task_id                              \n",
       "\u001b[2;36m             \u001b[0m\u001b[32m'fdve-44148388-b6bf-445f-a004-5249d68b9b9f'\u001b[0m and task_type \u001b[32m'FDTD'\u001b[0m.  \n"
      ]
     },
     "metadata": {},
     "output_type": "display_data"
    },
    {
     "data": {
      "text/html": [
       "<pre style=\"white-space:pre;overflow-x:auto;line-height:normal;font-family:Menlo,'DejaVu Sans Mono',consolas,'Courier New',monospace\"><span style=\"color: #7fbfbf; text-decoration-color: #7fbfbf\">             </span>View task using web UI at                                          \n",
       "<span style=\"color: #7fbfbf; text-decoration-color: #7fbfbf\">             </span><a href=\"https://tidy3d.simulation.cloud/workbench?taskId=fdve-44148388-b6bf-445f-a004-5249d68b9b9f\" target=\"_blank\"><span style=\"color: #008000; text-decoration-color: #008000\">'https://tidy3d.simulation.cloud/workbench?taskId=fdve-44148388-b6b</span></a>\n",
       "<span style=\"color: #7fbfbf; text-decoration-color: #7fbfbf\">             </span><a href=\"https://tidy3d.simulation.cloud/workbench?taskId=fdve-44148388-b6bf-445f-a004-5249d68b9b9f\" target=\"_blank\"><span style=\"color: #008000; text-decoration-color: #008000\">f-445f-a004-5249d68b9b9f'</span></a>.                                         \n",
       "</pre>\n"
      ],
      "text/plain": [
       "\u001b[2;36m            \u001b[0m\u001b[2;36m \u001b[0mView task using web UI at                                          \n",
       "\u001b[2;36m             \u001b[0m\u001b]8;id=849796;https://tidy3d.simulation.cloud/workbench?taskId=fdve-44148388-b6bf-445f-a004-5249d68b9b9f\u001b\\\u001b[32m'https://tidy3d.simulation.cloud/workbench?\u001b[0m\u001b]8;;\u001b\\\u001b]8;id=72020;https://tidy3d.simulation.cloud/workbench?taskId=fdve-44148388-b6bf-445f-a004-5249d68b9b9f\u001b\\\u001b[32mtaskId\u001b[0m\u001b]8;;\u001b\\\u001b]8;id=849796;https://tidy3d.simulation.cloud/workbench?taskId=fdve-44148388-b6bf-445f-a004-5249d68b9b9f\u001b\\\u001b[32m=\u001b[0m\u001b]8;;\u001b\\\u001b]8;id=33168;https://tidy3d.simulation.cloud/workbench?taskId=fdve-44148388-b6bf-445f-a004-5249d68b9b9f\u001b\\\u001b[32mfdve\u001b[0m\u001b]8;;\u001b\\\u001b]8;id=849796;https://tidy3d.simulation.cloud/workbench?taskId=fdve-44148388-b6bf-445f-a004-5249d68b9b9f\u001b\\\u001b[32m-44148388-b6b\u001b[0m\u001b]8;;\u001b\\\n",
       "\u001b[2;36m             \u001b[0m\u001b]8;id=849796;https://tidy3d.simulation.cloud/workbench?taskId=fdve-44148388-b6bf-445f-a004-5249d68b9b9f\u001b\\\u001b[32mf-445f-a004-5249d68b9b9f'\u001b[0m\u001b]8;;\u001b\\.                                         \n"
      ]
     },
     "metadata": {},
     "output_type": "display_data"
    },
    {
     "data": {
      "application/vnd.jupyter.widget-view+json": {
       "model_id": "39271bab32b844b7adb57e3dded70a38",
       "version_major": 2,
       "version_minor": 0
      },
      "text/plain": [
       "Output()"
      ]
     },
     "metadata": {},
     "output_type": "display_data"
    },
    {
     "data": {
      "text/html": [
       "<pre style=\"white-space:pre;overflow-x:auto;line-height:normal;font-family:Menlo,'DejaVu Sans Mono',consolas,'Courier New',monospace\"></pre>\n"
      ],
      "text/plain": []
     },
     "metadata": {},
     "output_type": "display_data"
    },
    {
     "data": {
      "text/html": [
       "<pre style=\"white-space:pre;overflow-x:auto;line-height:normal;font-family:Menlo,'DejaVu Sans Mono',consolas,'Courier New',monospace\">\n",
       "</pre>\n"
      ],
      "text/plain": [
       "\n"
      ]
     },
     "metadata": {},
     "output_type": "display_data"
    },
    {
     "data": {
      "text/html": [
       "<pre style=\"white-space:pre;overflow-x:auto;line-height:normal;font-family:Menlo,'DejaVu Sans Mono',consolas,'Courier New',monospace\"><span style=\"color: #7fbfbf; text-decoration-color: #7fbfbf\">00:04:26 PST </span>status = queued                                                    \n",
       "</pre>\n"
      ],
      "text/plain": [
       "\u001b[2;36m00:04:26 PST\u001b[0m\u001b[2;36m \u001b[0mstatus = queued                                                    \n"
      ]
     },
     "metadata": {},
     "output_type": "display_data"
    },
    {
     "data": {
      "application/vnd.jupyter.widget-view+json": {
       "model_id": "a9d3d50d0cc347508c09fca9e28c0e7c",
       "version_major": 2,
       "version_minor": 0
      },
      "text/plain": [
       "Output()"
      ]
     },
     "metadata": {},
     "output_type": "display_data"
    },
    {
     "data": {
      "text/html": [
       "<pre style=\"white-space:pre;overflow-x:auto;line-height:normal;font-family:Menlo,'DejaVu Sans Mono',consolas,'Courier New',monospace\"><span style=\"color: #7fbfbf; text-decoration-color: #7fbfbf\">00:04:31 PST </span>status = preprocess                                                \n",
       "</pre>\n"
      ],
      "text/plain": [
       "\u001b[2;36m00:04:31 PST\u001b[0m\u001b[2;36m \u001b[0mstatus = preprocess                                                \n"
      ]
     },
     "metadata": {},
     "output_type": "display_data"
    },
    {
     "data": {
      "text/html": [
       "<pre style=\"white-space:pre;overflow-x:auto;line-height:normal;font-family:Menlo,'DejaVu Sans Mono',consolas,'Courier New',monospace\"></pre>\n"
      ],
      "text/plain": []
     },
     "metadata": {},
     "output_type": "display_data"
    },
    {
     "data": {
      "text/html": [
       "<pre style=\"white-space:pre;overflow-x:auto;line-height:normal;font-family:Menlo,'DejaVu Sans Mono',consolas,'Courier New',monospace\"><span style=\"color: #7fbfbf; text-decoration-color: #7fbfbf\">00:04:33 PST </span>Maximum FlexCredit cost: <span style=\"color: #008080; text-decoration-color: #008080; font-weight: bold\">0.025</span>. Use <span style=\"color: #008000; text-decoration-color: #008000\">'web.real_cost(task_id)'</span> to get\n",
       "<span style=\"color: #7fbfbf; text-decoration-color: #7fbfbf\">             </span>the billed FlexCredit cost after a simulation run.                 \n",
       "</pre>\n"
      ],
      "text/plain": [
       "\u001b[2;36m00:04:33 PST\u001b[0m\u001b[2;36m \u001b[0mMaximum FlexCredit cost: \u001b[1;36m0.025\u001b[0m. Use \u001b[32m'web.real_cost\u001b[0m\u001b[32m(\u001b[0m\u001b[32mtask_id\u001b[0m\u001b[32m)\u001b[0m\u001b[32m'\u001b[0m to get\n",
       "\u001b[2;36m             \u001b[0mthe billed FlexCredit cost after a simulation run.                 \n"
      ]
     },
     "metadata": {},
     "output_type": "display_data"
    },
    {
     "data": {
      "text/html": [
       "<pre style=\"white-space:pre;overflow-x:auto;line-height:normal;font-family:Menlo,'DejaVu Sans Mono',consolas,'Courier New',monospace\"><span style=\"color: #7fbfbf; text-decoration-color: #7fbfbf\">             </span>starting up solver                                                 \n",
       "</pre>\n"
      ],
      "text/plain": [
       "\u001b[2;36m            \u001b[0m\u001b[2;36m \u001b[0mstarting up solver                                                 \n"
      ]
     },
     "metadata": {},
     "output_type": "display_data"
    },
    {
     "data": {
      "text/html": [
       "<pre style=\"white-space:pre;overflow-x:auto;line-height:normal;font-family:Menlo,'DejaVu Sans Mono',consolas,'Courier New',monospace\"><span style=\"color: #7fbfbf; text-decoration-color: #7fbfbf\">             </span>running solver                                                     \n",
       "</pre>\n"
      ],
      "text/plain": [
       "\u001b[2;36m            \u001b[0m\u001b[2;36m \u001b[0mrunning solver                                                     \n"
      ]
     },
     "metadata": {},
     "output_type": "display_data"
    },
    {
     "data": {
      "text/html": [
       "<pre style=\"white-space:pre;overflow-x:auto;line-height:normal;font-family:Menlo,'DejaVu Sans Mono',consolas,'Courier New',monospace\"><span style=\"color: #7fbfbf; text-decoration-color: #7fbfbf\">             </span>To cancel the simulation, use <span style=\"color: #008000; text-decoration-color: #008000\">'web.abort(task_id)'</span> or              \n",
       "<span style=\"color: #7fbfbf; text-decoration-color: #7fbfbf\">             </span><span style=\"color: #008000; text-decoration-color: #008000\">'web.delete(task_id)'</span> or abort/delete the task in the web UI.      \n",
       "<span style=\"color: #7fbfbf; text-decoration-color: #7fbfbf\">             </span>Terminating the Python script will not stop the job running on the \n",
       "<span style=\"color: #7fbfbf; text-decoration-color: #7fbfbf\">             </span>cloud.                                                             \n",
       "</pre>\n"
      ],
      "text/plain": [
       "\u001b[2;36m            \u001b[0m\u001b[2;36m \u001b[0mTo cancel the simulation, use \u001b[32m'web.abort\u001b[0m\u001b[32m(\u001b[0m\u001b[32mtask_id\u001b[0m\u001b[32m)\u001b[0m\u001b[32m'\u001b[0m or              \n",
       "\u001b[2;36m             \u001b[0m\u001b[32m'web.delete\u001b[0m\u001b[32m(\u001b[0m\u001b[32mtask_id\u001b[0m\u001b[32m)\u001b[0m\u001b[32m'\u001b[0m or abort/delete the task in the web UI.      \n",
       "\u001b[2;36m             \u001b[0mTerminating the Python script will not stop the job running on the \n",
       "\u001b[2;36m             \u001b[0mcloud.                                                             \n"
      ]
     },
     "metadata": {},
     "output_type": "display_data"
    },
    {
     "data": {
      "application/vnd.jupyter.widget-view+json": {
       "model_id": "b77f020017a44298b9e4642a8dfd22ac",
       "version_major": 2,
       "version_minor": 0
      },
      "text/plain": [
       "Output()"
      ]
     },
     "metadata": {},
     "output_type": "display_data"
    },
    {
     "data": {
      "text/html": [
       "<pre style=\"white-space:pre;overflow-x:auto;line-height:normal;font-family:Menlo,'DejaVu Sans Mono',consolas,'Courier New',monospace\"><span style=\"color: #7fbfbf; text-decoration-color: #7fbfbf\">00:04:38 PST </span>early shutoff detected at <span style=\"color: #008080; text-decoration-color: #008080; font-weight: bold\">8</span>%, exiting.                             \n",
       "</pre>\n"
      ],
      "text/plain": [
       "\u001b[2;36m00:04:38 PST\u001b[0m\u001b[2;36m \u001b[0mearly shutoff detected at \u001b[1;36m8\u001b[0m%, exiting.                             \n"
      ]
     },
     "metadata": {},
     "output_type": "display_data"
    },
    {
     "data": {
      "text/html": [
       "<pre style=\"white-space:pre;overflow-x:auto;line-height:normal;font-family:Menlo,'DejaVu Sans Mono',consolas,'Courier New',monospace\"></pre>\n"
      ],
      "text/plain": []
     },
     "metadata": {},
     "output_type": "display_data"
    },
    {
     "data": {
      "text/html": [
       "<pre style=\"white-space:pre;overflow-x:auto;line-height:normal;font-family:Menlo,'DejaVu Sans Mono',consolas,'Courier New',monospace\">\n",
       "</pre>\n"
      ],
      "text/plain": [
       "\n"
      ]
     },
     "metadata": {},
     "output_type": "display_data"
    },
    {
     "data": {
      "text/html": [
       "<pre style=\"white-space:pre;overflow-x:auto;line-height:normal;font-family:Menlo,'DejaVu Sans Mono',consolas,'Courier New',monospace\"><span style=\"color: #7fbfbf; text-decoration-color: #7fbfbf\">             </span>status = postprocess                                               \n",
       "</pre>\n"
      ],
      "text/plain": [
       "\u001b[2;36m            \u001b[0m\u001b[2;36m \u001b[0mstatus = postprocess                                               \n"
      ]
     },
     "metadata": {},
     "output_type": "display_data"
    },
    {
     "data": {
      "application/vnd.jupyter.widget-view+json": {
       "model_id": "012e762b85b4441ba1fe60880a57572a",
       "version_major": 2,
       "version_minor": 0
      },
      "text/plain": [
       "Output()"
      ]
     },
     "metadata": {},
     "output_type": "display_data"
    },
    {
     "data": {
      "text/html": [
       "<pre style=\"white-space:pre;overflow-x:auto;line-height:normal;font-family:Menlo,'DejaVu Sans Mono',consolas,'Courier New',monospace\"><span style=\"color: #7fbfbf; text-decoration-color: #7fbfbf\">00:04:39 PST </span>status = success                                                   \n",
       "</pre>\n"
      ],
      "text/plain": [
       "\u001b[2;36m00:04:39 PST\u001b[0m\u001b[2;36m \u001b[0mstatus = success                                                   \n"
      ]
     },
     "metadata": {},
     "output_type": "display_data"
    },
    {
     "data": {
      "text/html": [
       "<pre style=\"white-space:pre;overflow-x:auto;line-height:normal;font-family:Menlo,'DejaVu Sans Mono',consolas,'Courier New',monospace\"></pre>\n"
      ],
      "text/plain": []
     },
     "metadata": {},
     "output_type": "display_data"
    },
    {
     "data": {
      "text/html": [
       "<pre style=\"white-space:pre;overflow-x:auto;line-height:normal;font-family:Menlo,'DejaVu Sans Mono',consolas,'Courier New',monospace\"><span style=\"color: #7fbfbf; text-decoration-color: #7fbfbf\">00:04:40 PST </span>View simulation result at                                          \n",
       "<span style=\"color: #7fbfbf; text-decoration-color: #7fbfbf\">             </span><a href=\"https://tidy3d.simulation.cloud/workbench?taskId=fdve-44148388-b6bf-445f-a004-5249d68b9b9f\" target=\"_blank\"><span style=\"color: #000080; text-decoration-color: #000080; text-decoration: underline\">'https://tidy3d.simulation.cloud/workbench?taskId=fdve-44148388-b6b</span></a>\n",
       "<span style=\"color: #7fbfbf; text-decoration-color: #7fbfbf\">             </span><a href=\"https://tidy3d.simulation.cloud/workbench?taskId=fdve-44148388-b6bf-445f-a004-5249d68b9b9f\" target=\"_blank\"><span style=\"color: #000080; text-decoration-color: #000080; text-decoration: underline\">f-445f-a004-5249d68b9b9f'</span></a><span style=\"color: #000080; text-decoration-color: #000080; text-decoration: underline\">.</span>                                         \n",
       "</pre>\n"
      ],
      "text/plain": [
       "\u001b[2;36m00:04:40 PST\u001b[0m\u001b[2;36m \u001b[0mView simulation result at                                          \n",
       "\u001b[2;36m             \u001b[0m\u001b]8;id=878969;https://tidy3d.simulation.cloud/workbench?taskId=fdve-44148388-b6bf-445f-a004-5249d68b9b9f\u001b\\\u001b[4;34m'https://tidy3d.simulation.cloud/workbench?\u001b[0m\u001b]8;;\u001b\\\u001b]8;id=480553;https://tidy3d.simulation.cloud/workbench?taskId=fdve-44148388-b6bf-445f-a004-5249d68b9b9f\u001b\\\u001b[4;34mtaskId\u001b[0m\u001b]8;;\u001b\\\u001b]8;id=878969;https://tidy3d.simulation.cloud/workbench?taskId=fdve-44148388-b6bf-445f-a004-5249d68b9b9f\u001b\\\u001b[4;34m=\u001b[0m\u001b]8;;\u001b\\\u001b]8;id=262676;https://tidy3d.simulation.cloud/workbench?taskId=fdve-44148388-b6bf-445f-a004-5249d68b9b9f\u001b\\\u001b[4;34mfdve\u001b[0m\u001b]8;;\u001b\\\u001b]8;id=878969;https://tidy3d.simulation.cloud/workbench?taskId=fdve-44148388-b6bf-445f-a004-5249d68b9b9f\u001b\\\u001b[4;34m-44148388-b6b\u001b[0m\u001b]8;;\u001b\\\n",
       "\u001b[2;36m             \u001b[0m\u001b]8;id=878969;https://tidy3d.simulation.cloud/workbench?taskId=fdve-44148388-b6bf-445f-a004-5249d68b9b9f\u001b\\\u001b[4;34mf-445f-a004-5249d68b9b9f'\u001b[0m\u001b]8;;\u001b\\\u001b[4;34m.\u001b[0m                                         \n"
      ]
     },
     "metadata": {},
     "output_type": "display_data"
    },
    {
     "data": {
      "application/vnd.jupyter.widget-view+json": {
       "model_id": "b149f2cbbf094d74ab3eb05392c38e9f",
       "version_major": 2,
       "version_minor": 0
      },
      "text/plain": [
       "Output()"
      ]
     },
     "metadata": {},
     "output_type": "display_data"
    },
    {
     "data": {
      "text/html": [
       "<pre style=\"white-space:pre;overflow-x:auto;line-height:normal;font-family:Menlo,'DejaVu Sans Mono',consolas,'Courier New',monospace\"></pre>\n"
      ],
      "text/plain": []
     },
     "metadata": {},
     "output_type": "display_data"
    },
    {
     "data": {
      "text/html": [
       "<pre style=\"white-space:pre;overflow-x:auto;line-height:normal;font-family:Menlo,'DejaVu Sans Mono',consolas,'Courier New',monospace\">\n",
       "</pre>\n"
      ],
      "text/plain": [
       "\n"
      ]
     },
     "metadata": {},
     "output_type": "display_data"
    },
    {
     "data": {
      "text/html": [
       "<pre style=\"white-space:pre;overflow-x:auto;line-height:normal;font-family:Menlo,'DejaVu Sans Mono',consolas,'Courier New',monospace\"><span style=\"color: #7fbfbf; text-decoration-color: #7fbfbf\">             </span>loading simulation from simulation_data.hdf5                       \n",
       "</pre>\n"
      ],
      "text/plain": [
       "\u001b[2;36m            \u001b[0m\u001b[2;36m \u001b[0mloading simulation from simulation_data.hdf5                       \n"
      ]
     },
     "metadata": {},
     "output_type": "display_data"
    }
   ],
   "source": [
    "sim_ref = sim.copy(update={\"structures\": []})\n",
    "\n",
    "sim_data_ref = web.run(simulation=sim_ref, task_name=\"reference\")"
   ]
  },
  {
   "cell_type": "markdown",
   "id": "6d80b8b1",
   "metadata": {},
   "source": [
    "After getting the results, we can inspect it a bit. Since the incident plane wave is polarized in the $y$ direction, let's see the absolute value of $E_y$ at $z$=0. As expected, the field strength is a constant."
   ]
  },
  {
   "cell_type": "code",
   "execution_count": 14,
   "id": "3f91f7f4",
   "metadata": {
    "execution": {
     "iopub.execute_input": "2024-02-17T08:04:40.894036Z",
     "iopub.status.busy": "2024-02-17T08:04:40.893833Z",
     "iopub.status.idle": "2024-02-17T08:04:40.964587Z",
     "shell.execute_reply": "2024-02-17T08:04:40.964016Z"
    }
   },
   "outputs": [
    {
     "data": {
      "text/html": [
       "<div><svg style=\"position: absolute; width: 0; height: 0; overflow: hidden\">\n",
       "<defs>\n",
       "<symbol id=\"icon-database\" viewBox=\"0 0 32 32\">\n",
       "<path d=\"M16 0c-8.837 0-16 2.239-16 5v4c0 2.761 7.163 5 16 5s16-2.239 16-5v-4c0-2.761-7.163-5-16-5z\"></path>\n",
       "<path d=\"M16 17c-8.837 0-16-2.239-16-5v6c0 2.761 7.163 5 16 5s16-2.239 16-5v-6c0 2.761-7.163 5-16 5z\"></path>\n",
       "<path d=\"M16 26c-8.837 0-16-2.239-16-5v6c0 2.761 7.163 5 16 5s16-2.239 16-5v-6c0 2.761-7.163 5-16 5z\"></path>\n",
       "</symbol>\n",
       "<symbol id=\"icon-file-text2\" viewBox=\"0 0 32 32\">\n",
       "<path d=\"M28.681 7.159c-0.694-0.947-1.662-2.053-2.724-3.116s-2.169-2.030-3.116-2.724c-1.612-1.182-2.393-1.319-2.841-1.319h-15.5c-1.378 0-2.5 1.121-2.5 2.5v27c0 1.378 1.122 2.5 2.5 2.5h23c1.378 0 2.5-1.122 2.5-2.5v-19.5c0-0.448-0.137-1.23-1.319-2.841zM24.543 5.457c0.959 0.959 1.712 1.825 2.268 2.543h-4.811v-4.811c0.718 0.556 1.584 1.309 2.543 2.268zM28 29.5c0 0.271-0.229 0.5-0.5 0.5h-23c-0.271 0-0.5-0.229-0.5-0.5v-27c0-0.271 0.229-0.5 0.5-0.5 0 0 15.499-0 15.5 0v7c0 0.552 0.448 1 1 1h7v19.5z\"></path>\n",
       "<path d=\"M23 26h-14c-0.552 0-1-0.448-1-1s0.448-1 1-1h14c0.552 0 1 0.448 1 1s-0.448 1-1 1z\"></path>\n",
       "<path d=\"M23 22h-14c-0.552 0-1-0.448-1-1s0.448-1 1-1h14c0.552 0 1 0.448 1 1s-0.448 1-1 1z\"></path>\n",
       "<path d=\"M23 18h-14c-0.552 0-1-0.448-1-1s0.448-1 1-1h14c0.552 0 1 0.448 1 1s-0.448 1-1 1z\"></path>\n",
       "</symbol>\n",
       "</defs>\n",
       "</svg>\n",
       "<style>/* CSS stylesheet for displaying xarray objects in jupyterlab.\n",
       " *\n",
       " */\n",
       "\n",
       ":root {\n",
       "  --xr-font-color0: var(--jp-content-font-color0, rgba(0, 0, 0, 1));\n",
       "  --xr-font-color2: var(--jp-content-font-color2, rgba(0, 0, 0, 0.54));\n",
       "  --xr-font-color3: var(--jp-content-font-color3, rgba(0, 0, 0, 0.38));\n",
       "  --xr-border-color: var(--jp-border-color2, #e0e0e0);\n",
       "  --xr-disabled-color: var(--jp-layout-color3, #bdbdbd);\n",
       "  --xr-background-color: var(--jp-layout-color0, white);\n",
       "  --xr-background-color-row-even: var(--jp-layout-color1, white);\n",
       "  --xr-background-color-row-odd: var(--jp-layout-color2, #eeeeee);\n",
       "}\n",
       "\n",
       "html[theme=dark],\n",
       "body[data-theme=dark],\n",
       "body.vscode-dark {\n",
       "  --xr-font-color0: rgba(255, 255, 255, 1);\n",
       "  --xr-font-color2: rgba(255, 255, 255, 0.54);\n",
       "  --xr-font-color3: rgba(255, 255, 255, 0.38);\n",
       "  --xr-border-color: #1F1F1F;\n",
       "  --xr-disabled-color: #515151;\n",
       "  --xr-background-color: #111111;\n",
       "  --xr-background-color-row-even: #111111;\n",
       "  --xr-background-color-row-odd: #313131;\n",
       "}\n",
       "\n",
       ".xr-wrap {\n",
       "  display: block !important;\n",
       "  min-width: 300px;\n",
       "  max-width: 700px;\n",
       "}\n",
       "\n",
       ".xr-text-repr-fallback {\n",
       "  /* fallback to plain text repr when CSS is not injected (untrusted notebook) */\n",
       "  display: none;\n",
       "}\n",
       "\n",
       ".xr-header {\n",
       "  padding-top: 6px;\n",
       "  padding-bottom: 6px;\n",
       "  margin-bottom: 4px;\n",
       "  border-bottom: solid 1px var(--xr-border-color);\n",
       "}\n",
       "\n",
       ".xr-header > div,\n",
       ".xr-header > ul {\n",
       "  display: inline;\n",
       "  margin-top: 0;\n",
       "  margin-bottom: 0;\n",
       "}\n",
       "\n",
       ".xr-obj-type,\n",
       ".xr-array-name {\n",
       "  margin-left: 2px;\n",
       "  margin-right: 10px;\n",
       "}\n",
       "\n",
       ".xr-obj-type {\n",
       "  color: var(--xr-font-color2);\n",
       "}\n",
       "\n",
       ".xr-sections {\n",
       "  padding-left: 0 !important;\n",
       "  display: grid;\n",
       "  grid-template-columns: 150px auto auto 1fr 20px 20px;\n",
       "}\n",
       "\n",
       ".xr-section-item {\n",
       "  display: contents;\n",
       "}\n",
       "\n",
       ".xr-section-item input {\n",
       "  display: none;\n",
       "}\n",
       "\n",
       ".xr-section-item input + label {\n",
       "  color: var(--xr-disabled-color);\n",
       "}\n",
       "\n",
       ".xr-section-item input:enabled + label {\n",
       "  cursor: pointer;\n",
       "  color: var(--xr-font-color2);\n",
       "}\n",
       "\n",
       ".xr-section-item input:enabled + label:hover {\n",
       "  color: var(--xr-font-color0);\n",
       "}\n",
       "\n",
       ".xr-section-summary {\n",
       "  grid-column: 1;\n",
       "  color: var(--xr-font-color2);\n",
       "  font-weight: 500;\n",
       "}\n",
       "\n",
       ".xr-section-summary > span {\n",
       "  display: inline-block;\n",
       "  padding-left: 0.5em;\n",
       "}\n",
       "\n",
       ".xr-section-summary-in:disabled + label {\n",
       "  color: var(--xr-font-color2);\n",
       "}\n",
       "\n",
       ".xr-section-summary-in + label:before {\n",
       "  display: inline-block;\n",
       "  content: '►';\n",
       "  font-size: 11px;\n",
       "  width: 15px;\n",
       "  text-align: center;\n",
       "}\n",
       "\n",
       ".xr-section-summary-in:disabled + label:before {\n",
       "  color: var(--xr-disabled-color);\n",
       "}\n",
       "\n",
       ".xr-section-summary-in:checked + label:before {\n",
       "  content: '▼';\n",
       "}\n",
       "\n",
       ".xr-section-summary-in:checked + label > span {\n",
       "  display: none;\n",
       "}\n",
       "\n",
       ".xr-section-summary,\n",
       ".xr-section-inline-details {\n",
       "  padding-top: 4px;\n",
       "  padding-bottom: 4px;\n",
       "}\n",
       "\n",
       ".xr-section-inline-details {\n",
       "  grid-column: 2 / -1;\n",
       "}\n",
       "\n",
       ".xr-section-details {\n",
       "  display: none;\n",
       "  grid-column: 1 / -1;\n",
       "  margin-bottom: 5px;\n",
       "}\n",
       "\n",
       ".xr-section-summary-in:checked ~ .xr-section-details {\n",
       "  display: contents;\n",
       "}\n",
       "\n",
       ".xr-array-wrap {\n",
       "  grid-column: 1 / -1;\n",
       "  display: grid;\n",
       "  grid-template-columns: 20px auto;\n",
       "}\n",
       "\n",
       ".xr-array-wrap > label {\n",
       "  grid-column: 1;\n",
       "  vertical-align: top;\n",
       "}\n",
       "\n",
       ".xr-preview {\n",
       "  color: var(--xr-font-color3);\n",
       "}\n",
       "\n",
       ".xr-array-preview,\n",
       ".xr-array-data {\n",
       "  padding: 0 5px !important;\n",
       "  grid-column: 2;\n",
       "}\n",
       "\n",
       ".xr-array-data,\n",
       ".xr-array-in:checked ~ .xr-array-preview {\n",
       "  display: none;\n",
       "}\n",
       "\n",
       ".xr-array-in:checked ~ .xr-array-data,\n",
       ".xr-array-preview {\n",
       "  display: inline-block;\n",
       "}\n",
       "\n",
       ".xr-dim-list {\n",
       "  display: inline-block !important;\n",
       "  list-style: none;\n",
       "  padding: 0 !important;\n",
       "  margin: 0;\n",
       "}\n",
       "\n",
       ".xr-dim-list li {\n",
       "  display: inline-block;\n",
       "  padding: 0;\n",
       "  margin: 0;\n",
       "}\n",
       "\n",
       ".xr-dim-list:before {\n",
       "  content: '(';\n",
       "}\n",
       "\n",
       ".xr-dim-list:after {\n",
       "  content: ')';\n",
       "}\n",
       "\n",
       ".xr-dim-list li:not(:last-child):after {\n",
       "  content: ',';\n",
       "  padding-right: 5px;\n",
       "}\n",
       "\n",
       ".xr-has-index {\n",
       "  font-weight: bold;\n",
       "}\n",
       "\n",
       ".xr-var-list,\n",
       ".xr-var-item {\n",
       "  display: contents;\n",
       "}\n",
       "\n",
       ".xr-var-item > div,\n",
       ".xr-var-item label,\n",
       ".xr-var-item > .xr-var-name span {\n",
       "  background-color: var(--xr-background-color-row-even);\n",
       "  margin-bottom: 0;\n",
       "}\n",
       "\n",
       ".xr-var-item > .xr-var-name:hover span {\n",
       "  padding-right: 5px;\n",
       "}\n",
       "\n",
       ".xr-var-list > li:nth-child(odd) > div,\n",
       ".xr-var-list > li:nth-child(odd) > label,\n",
       ".xr-var-list > li:nth-child(odd) > .xr-var-name span {\n",
       "  background-color: var(--xr-background-color-row-odd);\n",
       "}\n",
       "\n",
       ".xr-var-name {\n",
       "  grid-column: 1;\n",
       "}\n",
       "\n",
       ".xr-var-dims {\n",
       "  grid-column: 2;\n",
       "}\n",
       "\n",
       ".xr-var-dtype {\n",
       "  grid-column: 3;\n",
       "  text-align: right;\n",
       "  color: var(--xr-font-color2);\n",
       "}\n",
       "\n",
       ".xr-var-preview {\n",
       "  grid-column: 4;\n",
       "}\n",
       "\n",
       ".xr-index-preview {\n",
       "  grid-column: 2 / 5;\n",
       "  color: var(--xr-font-color2);\n",
       "}\n",
       "\n",
       ".xr-var-name,\n",
       ".xr-var-dims,\n",
       ".xr-var-dtype,\n",
       ".xr-preview,\n",
       ".xr-attrs dt {\n",
       "  white-space: nowrap;\n",
       "  overflow: hidden;\n",
       "  text-overflow: ellipsis;\n",
       "  padding-right: 10px;\n",
       "}\n",
       "\n",
       ".xr-var-name:hover,\n",
       ".xr-var-dims:hover,\n",
       ".xr-var-dtype:hover,\n",
       ".xr-attrs dt:hover {\n",
       "  overflow: visible;\n",
       "  width: auto;\n",
       "  z-index: 1;\n",
       "}\n",
       "\n",
       ".xr-var-attrs,\n",
       ".xr-var-data,\n",
       ".xr-index-data {\n",
       "  display: none;\n",
       "  background-color: var(--xr-background-color) !important;\n",
       "  padding-bottom: 5px !important;\n",
       "}\n",
       "\n",
       ".xr-var-attrs-in:checked ~ .xr-var-attrs,\n",
       ".xr-var-data-in:checked ~ .xr-var-data,\n",
       ".xr-index-data-in:checked ~ .xr-index-data {\n",
       "  display: block;\n",
       "}\n",
       "\n",
       ".xr-var-data > table {\n",
       "  float: right;\n",
       "}\n",
       "\n",
       ".xr-var-name span,\n",
       ".xr-var-data,\n",
       ".xr-index-name div,\n",
       ".xr-index-data,\n",
       ".xr-attrs {\n",
       "  padding-left: 25px !important;\n",
       "}\n",
       "\n",
       ".xr-attrs,\n",
       ".xr-var-attrs,\n",
       ".xr-var-data,\n",
       ".xr-index-data {\n",
       "  grid-column: 1 / -1;\n",
       "}\n",
       "\n",
       "dl.xr-attrs {\n",
       "  padding: 0;\n",
       "  margin: 0;\n",
       "  display: grid;\n",
       "  grid-template-columns: 125px auto;\n",
       "}\n",
       "\n",
       ".xr-attrs dt,\n",
       ".xr-attrs dd {\n",
       "  padding: 0;\n",
       "  margin: 0;\n",
       "  float: left;\n",
       "  padding-right: 10px;\n",
       "  width: auto;\n",
       "}\n",
       "\n",
       ".xr-attrs dt {\n",
       "  font-weight: normal;\n",
       "  grid-column: 1;\n",
       "}\n",
       "\n",
       ".xr-attrs dt:hover span {\n",
       "  display: inline-block;\n",
       "  background: var(--xr-background-color);\n",
       "  padding-right: 10px;\n",
       "}\n",
       "\n",
       ".xr-attrs dd {\n",
       "  grid-column: 2;\n",
       "  white-space: pre-wrap;\n",
       "  word-break: break-all;\n",
       "}\n",
       "\n",
       ".xr-icon-database,\n",
       ".xr-icon-file-text2,\n",
       ".xr-no-icon {\n",
       "  display: inline-block;\n",
       "  vertical-align: middle;\n",
       "  width: 1em;\n",
       "  height: 1.5em !important;\n",
       "  stroke-width: 0;\n",
       "  stroke: currentColor;\n",
       "  fill: currentColor;\n",
       "}\n",
       "</style><pre class='xr-text-repr-fallback'>&lt;xarray.ScalarFieldDataArray (x: 1, y: 8)&gt;\n",
       "array([[214.05777, 214.05777, 214.05777, 214.05777, 214.05777, 214.05774,\n",
       "        214.05777, 214.05777]], dtype=float32)\n",
       "Coordinates:\n",
       "    z        float64 -0.004428\n",
       "    f        float64 4.441e+14\n",
       "  * x        (x) float64 0.0245\n",
       "  * y        (y) float64 -0.01415 0.0 0.01415 ... 0.05658 0.07073 0.08487\n",
       "Attributes:\n",
       "    long_name:  field value</pre><div class='xr-wrap' style='display:none'><div class='xr-header'><div class='xr-obj-type'>xarray.ScalarFieldDataArray</div><div class='xr-array-name'></div><ul class='xr-dim-list'><li><span class='xr-has-index'>x</span>: 1</li><li><span class='xr-has-index'>y</span>: 8</li></ul></div><ul class='xr-sections'><li class='xr-section-item'><div class='xr-array-wrap'><input id='section-2d7029e5-ccb4-446c-9a39-2f08daf05ddb' class='xr-array-in' type='checkbox' checked><label for='section-2d7029e5-ccb4-446c-9a39-2f08daf05ddb' title='Show/hide data repr'><svg class='icon xr-icon-database'><use xlink:href='#icon-database'></use></svg></label><div class='xr-array-preview xr-preview'><span>214.1 214.1 214.1 214.1 214.1 214.1 214.1 214.1</span></div><div class='xr-array-data'><pre>array([[214.05777, 214.05777, 214.05777, 214.05777, 214.05777, 214.05774,\n",
       "        214.05777, 214.05777]], dtype=float32)</pre></div></div></li><li class='xr-section-item'><input id='section-5b5a3814-8b63-499b-b285-0a96469d130e' class='xr-section-summary-in' type='checkbox'  checked><label for='section-5b5a3814-8b63-499b-b285-0a96469d130e' class='xr-section-summary' >Coordinates: <span>(4)</span></label><div class='xr-section-inline-details'></div><div class='xr-section-details'><ul class='xr-var-list'><li class='xr-var-item'><div class='xr-var-name'><span>z</span></div><div class='xr-var-dims'>()</div><div class='xr-var-dtype'>float64</div><div class='xr-var-preview xr-preview'>-0.004428</div><input id='attrs-7ce13849-3caf-4c56-b822-8e4d82fe9436' class='xr-var-attrs-in' type='checkbox' ><label for='attrs-7ce13849-3caf-4c56-b822-8e4d82fe9436' title='Show/Hide attributes'><svg class='icon xr-icon-file-text2'><use xlink:href='#icon-file-text2'></use></svg></label><input id='data-ea5bf3b6-7b80-4a62-a78b-f8b1a483a2e4' class='xr-var-data-in' type='checkbox'><label for='data-ea5bf3b6-7b80-4a62-a78b-f8b1a483a2e4' title='Show/Hide data repr'><svg class='icon xr-icon-database'><use xlink:href='#icon-database'></use></svg></label><div class='xr-var-attrs'><dl class='xr-attrs'><dt><span>units :</span></dt><dd>um</dd><dt><span>long_name :</span></dt><dd>z position</dd></dl></div><div class='xr-var-data'><pre>array(-0.00442771)</pre></div></li><li class='xr-var-item'><div class='xr-var-name'><span>f</span></div><div class='xr-var-dims'>()</div><div class='xr-var-dtype'>float64</div><div class='xr-var-preview xr-preview'>4.441e+14</div><input id='attrs-bf7e2ba7-cf71-493f-875b-638e1625f7a3' class='xr-var-attrs-in' type='checkbox' ><label for='attrs-bf7e2ba7-cf71-493f-875b-638e1625f7a3' title='Show/Hide attributes'><svg class='icon xr-icon-file-text2'><use xlink:href='#icon-file-text2'></use></svg></label><input id='data-6b54cfd6-8c04-4604-bab8-95dda2c1bc50' class='xr-var-data-in' type='checkbox'><label for='data-6b54cfd6-8c04-4604-bab8-95dda2c1bc50' title='Show/Hide data repr'><svg class='icon xr-icon-database'><use xlink:href='#icon-database'></use></svg></label><div class='xr-var-attrs'><dl class='xr-attrs'><dt><span>units :</span></dt><dd>Hz</dd><dt><span>long_name :</span></dt><dd>frequency</dd></dl></div><div class='xr-var-data'><pre>array(4.44136975e+14)</pre></div></li><li class='xr-var-item'><div class='xr-var-name'><span class='xr-has-index'>x</span></div><div class='xr-var-dims'>(x)</div><div class='xr-var-dtype'>float64</div><div class='xr-var-preview xr-preview'>0.0245</div><input id='attrs-e30b6064-38e5-434b-80b9-e162deaf13fa' class='xr-var-attrs-in' type='checkbox' ><label for='attrs-e30b6064-38e5-434b-80b9-e162deaf13fa' title='Show/Hide attributes'><svg class='icon xr-icon-file-text2'><use xlink:href='#icon-file-text2'></use></svg></label><input id='data-3ad60db8-b6f7-46e2-aea3-ad23e16524fb' class='xr-var-data-in' type='checkbox'><label for='data-3ad60db8-b6f7-46e2-aea3-ad23e16524fb' title='Show/Hide data repr'><svg class='icon xr-icon-database'><use xlink:href='#icon-database'></use></svg></label><div class='xr-var-attrs'><dl class='xr-attrs'><dt><span>units :</span></dt><dd>um</dd><dt><span>long_name :</span></dt><dd>x position</dd></dl></div><div class='xr-var-data'><pre>array([0.0245])</pre></div></li><li class='xr-var-item'><div class='xr-var-name'><span class='xr-has-index'>y</span></div><div class='xr-var-dims'>(y)</div><div class='xr-var-dtype'>float64</div><div class='xr-var-preview xr-preview'>-0.01415 0.0 ... 0.07073 0.08487</div><input id='attrs-c3608c07-069a-461b-b803-ea5948ac8bb7' class='xr-var-attrs-in' type='checkbox' ><label for='attrs-c3608c07-069a-461b-b803-ea5948ac8bb7' title='Show/Hide attributes'><svg class='icon xr-icon-file-text2'><use xlink:href='#icon-file-text2'></use></svg></label><input id='data-0ab0b583-356d-4832-834f-bb695a2fd482' class='xr-var-data-in' type='checkbox'><label for='data-0ab0b583-356d-4832-834f-bb695a2fd482' title='Show/Hide data repr'><svg class='icon xr-icon-database'><use xlink:href='#icon-database'></use></svg></label><div class='xr-var-attrs'><dl class='xr-attrs'><dt><span>units :</span></dt><dd>um</dd><dt><span>long_name :</span></dt><dd>y position</dd></dl></div><div class='xr-var-data'><pre>array([-0.014145,  0.      ,  0.014145,  0.02829 ,  0.042435,  0.05658 ,\n",
       "        0.070725,  0.08487 ])</pre></div></li></ul></div></li><li class='xr-section-item'><input id='section-26371b01-d465-4f23-9ea2-92f8d4e91554' class='xr-section-summary-in' type='checkbox'  ><label for='section-26371b01-d465-4f23-9ea2-92f8d4e91554' class='xr-section-summary' >Indexes: <span>(2)</span></label><div class='xr-section-inline-details'></div><div class='xr-section-details'><ul class='xr-var-list'><li class='xr-var-item'><div class='xr-index-name'><div>x</div></div><div class='xr-index-preview'>PandasIndex</div><div></div><input id='index-c0d776aa-ba07-4611-8bdb-774902550740' class='xr-index-data-in' type='checkbox'/><label for='index-c0d776aa-ba07-4611-8bdb-774902550740' title='Show/Hide index repr'><svg class='icon xr-icon-database'><use xlink:href='#icon-database'></use></svg></label><div class='xr-index-data'><pre>PandasIndex(Index([0.0245], dtype=&#x27;float64&#x27;, name=&#x27;x&#x27;))</pre></div></li><li class='xr-var-item'><div class='xr-index-name'><div>y</div></div><div class='xr-index-preview'>PandasIndex</div><div></div><input id='index-cbe1d719-96b1-4e25-a0a6-2936e290c9a3' class='xr-index-data-in' type='checkbox'/><label for='index-cbe1d719-96b1-4e25-a0a6-2936e290c9a3' title='Show/Hide index repr'><svg class='icon xr-icon-database'><use xlink:href='#icon-database'></use></svg></label><div class='xr-index-data'><pre>PandasIndex(Index([-0.01414508159514583,                  0.0,  0.01414508159514583,\n",
       "        0.02829016319029166,  0.04243524478543749,  0.05658032638058332,\n",
       "        0.07072540797572915,  0.08487048957087498],\n",
       "      dtype=&#x27;float64&#x27;, name=&#x27;y&#x27;))</pre></div></li></ul></div></li><li class='xr-section-item'><input id='section-92c4299f-646a-4099-aa55-f34870133db4' class='xr-section-summary-in' type='checkbox'  checked><label for='section-92c4299f-646a-4099-aa55-f34870133db4' class='xr-section-summary' >Attributes: <span>(1)</span></label><div class='xr-section-inline-details'></div><div class='xr-section-details'><dl class='xr-attrs'><dt><span>long_name :</span></dt><dd>field value</dd></dl></div></li></ul></div></div>"
      ],
      "text/plain": [
       "<xarray.ScalarFieldDataArray (x: 1, y: 8)>\n",
       "array([[214.05777, 214.05777, 214.05777, 214.05777, 214.05777, 214.05774,\n",
       "        214.05777, 214.05777]], dtype=float32)\n",
       "Coordinates:\n",
       "    z        float64 -0.004428\n",
       "    f        float64 4.441e+14\n",
       "  * x        (x) float64 0.0245\n",
       "  * y        (y) float64 -0.01415 0.0 0.01415 ... 0.05658 0.07073 0.08487\n",
       "Attributes:\n",
       "    long_name:  field value"
      ]
     },
     "execution_count": 14,
     "metadata": {},
     "output_type": "execute_result"
    }
   ],
   "source": [
    "sim_data_ref[\"field\"].Ey.abs.sel(f=res_freqs[-1], z=0, method=\"nearest\")"
   ]
  },
  {
   "cell_type": "markdown",
   "id": "2e0db101",
   "metadata": {},
   "source": [
    "Now we can normalize the field in the previous plot by the incident field strength and plot it again."
   ]
  },
  {
   "cell_type": "code",
   "execution_count": 15,
   "id": "7994c77d",
   "metadata": {
    "execution": {
     "iopub.execute_input": "2024-02-17T08:04:40.966506Z",
     "iopub.status.busy": "2024-02-17T08:04:40.966360Z",
     "iopub.status.idle": "2024-02-17T08:04:42.037841Z",
     "shell.execute_reply": "2024-02-17T08:04:42.037327Z"
    }
   },
   "outputs": [
    {
     "data": {
      "image/png": "[encoded data removed]",
      "text/plain": [
       "<Figure size 900x400 with 10 Axes>"
      ]
     },
     "metadata": {},
     "output_type": "display_data"
    }
   ],
   "source": [
    "fig, ax = plt.subplots(1, len(res_ldas), figsize=(9, 4), tight_layout=True)\n",
    "for i, res_freq in enumerate(res_freqs):\n",
    "    E_sim = np.sqrt(sim_data[\"field\"].intensity.sel(f=res_freq))  # simulated field strength\n",
    "    E_ref = (\n",
    "        sim_data_ref[\"field\"].Ey.abs.sel(f=res_freq, z=0, y=0, method=\"nearest\").values[0]\n",
    "    )  # incident field strength\n",
    "    E_norm = E_sim / E_ref  # normalization\n",
    "\n",
    "    # plotting field profiles\n",
    "    E_norm.plot(x=\"y\", y=\"z\", ax=ax[i], vmin=0, vmax=5, cmap=\"jet\")\n",
    "    ax[i].set_title(f\"$\\lambda$={res_ldas[i]} $\\mu m$\")\n",
    "    ax[i].set_ylim(-0.2, h + 0.2)\n",
    "plt.show()"
   ]
  },
  {
   "cell_type": "markdown",
   "id": "0315cb84",
   "metadata": {},
   "source": [
    "Just as a check, we can calculate the incident field strength by $|E|= (2P/(c_0 \\varepsilon_0 A))^{1/2}$, where $\\varepsilon_0$ is the vacuum permittivity, $c_0$ is the speed of light, $A$ is the area of the source plane, and $P$ is the source power. \n",
    "\n",
    "As we can see, the result from this calculation is very close to the field strength from the previous reference simulation."
   ]
  },
  {
   "cell_type": "code",
   "execution_count": 16,
   "id": "973b46b9",
   "metadata": {
    "execution": {
     "iopub.execute_input": "2024-02-17T08:04:42.042454Z",
     "iopub.status.busy": "2024-02-17T08:04:42.042268Z",
     "iopub.status.idle": "2024-02-17T08:04:42.059835Z",
     "shell.execute_reply": "2024-02-17T08:04:42.059337Z"
    }
   },
   "outputs": [
    {
     "name": "stdout",
     "output_type": "stream",
     "text": [
      "The calculated incident field strength is 212.83 V/um.\n"
     ]
    }
   ],
   "source": [
    "P = 1  # incident power is 1 W\n",
    "A = a * np.sqrt(3) * a  # source plane area in um^2\n",
    "E_ref = np.sqrt(2 * P / (td.C_0 * td.EPSILON_0 * A))\n",
    "print(f\"The calculated incident field strength is {E_ref:.2f} V/um.\")"
   ]
  },
  {
   "cell_type": "code",
   "execution_count": null,
   "id": "7187886c",
   "metadata": {},
   "outputs": [],
   "source": []
  }
 ],
 "metadata": {
  "description": "This notebook demonstrates how to model a hexagonal lattice of plasmonic nanorod array in Tidy3D FDTD.",
  "feature_image": "./img/nanorod_array.png",
  "kernelspec": {
   "display_name": "Python 3 (ipykernel)",
   "language": "python",
   "name": "python3"
  },
  "keywords": "plasmonic, localized surface plasmon resonance, LSPR, hexagonal lattice, trianglar lattice, gold, Tidy3D, FDTD",
  "language_info": {
   "codemirror_mode": {
    "name": "ipython",
    "version": 3
   },
   "file_extension": ".py",
   "mimetype": "text/x-python",
   "name": "python",
   "nbconvert_exporter": "python",
   "pygments_lexer": "ipython3",
   "version": "3.10.13"
  },
  "title": "Plasmonic Nanorod Array Resonator | Flexcompute",
  "widgets": {
   "application/vnd.jupyter.widget-state+json": {
    "state": {
     "012e762b85b4441ba1fe60880a57572a": {
      "model_module": "@jupyter-widgets/output",
      "model_module_version": "1.0.0",
      "model_name": "OutputModel",
      "state": {
       "_dom_classes": [],
       "_model_module": "@jupyter-widgets/output",
       "_model_module_version": "1.0.0",
       "_model_name": "OutputModel",
       "_view_count": null,
       "_view_module": "@jupyter-widgets/output",
       "_view_module_version": "1.0.0",
       "_view_name": "OutputView",
       "layout": "IPY_MODEL_47b285933f69444c81e1edf99c57ff1c",
       "msg_id": "",
       "outputs": [
        {
         "data": {
          "text/html": "<pre style=\"white-space:pre;overflow-x:auto;line-height:normal;font-family:Menlo,'DejaVu Sans Mono',consolas,'Courier New',monospace\"><span style=\"color: #008000; text-decoration-color: #008000\">🏃 </span> <span style=\"color: #008000; text-decoration-color: #008000; font-weight: bold\">Finishing 'reference'...</span>\n</pre>\n",
          "text/plain": "\u001b[32m🏃 \u001b[0m \u001b[1;32mFinishing 'reference'...\u001b[0m\n"
         },
         "metadata": {},
         "output_type": "display_data"
        }
       ],
       "tabbable": null,
       "tooltip": null
      }
     },
     "2698195c2c51429d8edaa52368692931": {
      "model_module": "@jupyter-widgets/base",
      "model_module_version": "2.0.0",
      "model_name": "LayoutModel",
      "state": {
       "_model_module": "@jupyter-widgets/base",
       "_model_module_version": "2.0.0",
       "_model_name": "LayoutModel",
       "_view_count": null,
       "_view_module": "@jupyter-widgets/base",
       "_view_module_version": "2.0.0",
       "_view_name": "LayoutView",
       "align_content": null,
       "align_items": null,
       "align_self": null,
       "border_bottom": null,
       "border_left": null,
       "border_right": null,
       "border_top": null,
       "bottom": null,
       "display": null,
       "flex": null,
       "flex_flow": null,
       "grid_area": null,
       "grid_auto_columns": null,
       "grid_auto_flow": null,
       "grid_auto_rows": null,
       "grid_column": null,
       "grid_gap": null,
       "grid_row": null,
       "grid_template_areas": null,
       "grid_template_columns": null,
       "grid_template_rows": null,
       "height": null,
       "justify_content": null,
       "justify_items": null,
       "left": null,
       "margin": null,
       "max_height": null,
       "max_width": null,
       "min_height": null,
       "min_width": null,
       "object_fit": null,
       "object_position": null,
       "order": null,
       "overflow": null,
       "padding": null,
       "right": null,
       "top": null,
       "visibility": null,
       "width": null
      }
     },
     "39271bab32b844b7adb57e3dded70a38": {
      "model_module": "@jupyter-widgets/output",
      "model_module_version": "1.0.0",
      "model_name": "OutputModel",
      "state": {
       "_dom_classes": [],
       "_model_module": "@jupyter-widgets/output",
       "_model_module_version": "1.0.0",
       "_model_name": "OutputModel",
       "_view_count": null,
       "_view_module": "@jupyter-widgets/output",
       "_view_module_version": "1.0.0",
       "_view_name": "OutputView",
       "layout": "IPY_MODEL_eb0041989b9e40b59b3b5bee12076b2f",
       "msg_id": "",
       "outputs": [
        {
         "data": {
          "text/html": "<pre style=\"white-space:pre;overflow-x:auto;line-height:normal;font-family:Menlo,'DejaVu Sans Mono',consolas,'Courier New',monospace\"><span style=\"color: #800000; text-decoration-color: #800000; font-weight: bold\">↑</span> <span style=\"color: #000080; text-decoration-color: #000080; font-weight: bold\">simulation.hdf5.gz</span> <span style=\"color: #729c1f; text-decoration-color: #729c1f\">━━━━━━━━━━━━━━━━━━━━━━━━━</span> <span style=\"color: #800080; text-decoration-color: #800080\">100.0%</span> • <span style=\"color: #008000; text-decoration-color: #008000\">3.2/3.2 kB</span> • <span style=\"color: #800000; text-decoration-color: #800000\">?</span> • <span style=\"color: #008080; text-decoration-color: #008080\">0:00:00</span>\n</pre>\n",
          "text/plain": "\u001b[1;31m↑\u001b[0m \u001b[1;34msimulation.hdf5.gz\u001b[0m \u001b[38;2;114;156;31m━━━━━━━━━━━━━━━━━━━━━━━━━\u001b[0m \u001b[35m100.0%\u001b[0m • \u001b[32m3.2/3.2 kB\u001b[0m • \u001b[31m?\u001b[0m • \u001b[36m0:00:00\u001b[0m\n"
         },
         "metadata": {},
         "output_type": "display_data"
        }
       ],
       "tabbable": null,
       "tooltip": null
      }
     },
     "443918f36e154501b3b4fa51c7c5de59": {
      "model_module": "@jupyter-widgets/base",
      "model_module_version": "2.0.0",
      "model_name": "LayoutModel",
      "state": {
       "_model_module": "@jupyter-widgets/base",
       "_model_module_version": "2.0.0",
       "_model_name": "LayoutModel",
       "_view_count": null,
       "_view_module": "@jupyter-widgets/base",
       "_view_module_version": "2.0.0",
       "_view_name": "LayoutView",
       "align_content": null,
       "align_items": null,
       "align_self": null,
       "border_bottom": null,
       "border_left": null,
       "border_right": null,
       "border_top": null,
       "bottom": null,
       "display": null,
       "flex": null,
       "flex_flow": null,
       "grid_area": null,
       "grid_auto_columns": null,
       "grid_auto_flow": null,
       "grid_auto_rows": null,
       "grid_column": null,
       "grid_gap": null,
       "grid_row": null,
       "grid_template_areas": null,
       "grid_template_columns": null,
       "grid_template_rows": null,
       "height": null,
       "justify_content": null,
       "justify_items": null,
       "left": null,
       "margin": null,
       "max_height": null,
       "max_width": null,
       "min_height": null,
       "min_width": null,
       "object_fit": null,
       "object_position": null,
       "order": null,
       "overflow": null,
       "padding": null,
       "right": null,
       "top": null,
       "visibility": null,
       "width": null
      }
     },
     "47b285933f69444c81e1edf99c57ff1c": {
      "model_module": "@jupyter-widgets/base",
      "model_module_version": "2.0.0",
      "model_name": "LayoutModel",
      "state": {
       "_model_module": "@jupyter-widgets/base",
       "_model_module_version": "2.0.0",
       "_model_name": "LayoutModel",
       "_view_count": null,
       "_view_module": "@jupyter-widgets/base",
       "_view_module_version": "2.0.0",
       "_view_name": "LayoutView",
       "align_content": null,
       "align_items": null,
       "align_self": null,
       "border_bottom": null,
       "border_left": null,
       "border_right": null,
       "border_top": null,
       "bottom": null,
       "display": null,
       "flex": null,
       "flex_flow": null,
       "grid_area": null,
       "grid_auto_columns": null,
       "grid_auto_flow": null,
       "grid_auto_rows": null,
       "grid_column": null,
       "grid_gap": null,
       "grid_row": null,
       "grid_template_areas": null,
       "grid_template_columns": null,
       "grid_template_rows": null,
       "height": null,
       "justify_content": null,
       "justify_items": null,
       "left": null,
       "margin": null,
       "max_height": null,
       "max_width": null,
       "min_height": null,
       "min_width": null,
       "object_fit": null,
       "object_position": null,
       "order": null,
       "overflow": null,
       "padding": null,
       "right": null,
       "top": null,
       "visibility": null,
       "width": null
      }
     },
     "4bd3facded2c423ab4a2816961bbfe96": {
      "model_module": "@jupyter-widgets/base",
      "model_module_version": "2.0.0",
      "model_name": "LayoutModel",
      "state": {
       "_model_module": "@jupyter-widgets/base",
       "_model_module_version": "2.0.0",
       "_model_name": "LayoutModel",
       "_view_count": null,
       "_view_module": "@jupyter-widgets/base",
       "_view_module_version": "2.0.0",
       "_view_name": "LayoutView",
       "align_content": null,
       "align_items": null,
       "align_self": null,
       "border_bottom": null,
       "border_left": null,
       "border_right": null,
       "border_top": null,
       "bottom": null,
       "display": null,
       "flex": null,
       "flex_flow": null,
       "grid_area": null,
       "grid_auto_columns": null,
       "grid_auto_flow": null,
       "grid_auto_rows": null,
       "grid_column": null,
       "grid_gap": null,
       "grid_row": null,
       "grid_template_areas": null,
       "grid_template_columns": null,
       "grid_template_rows": null,
       "height": null,
       "justify_content": null,
       "justify_items": null,
       "left": null,
       "margin": null,
       "max_height": null,
       "max_width": null,
       "min_height": null,
       "min_width": null,
       "object_fit": null,
       "object_position": null,
       "order": null,
       "overflow": null,
       "padding": null,
       "right": null,
       "top": null,
       "visibility": null,
       "width": null
      }
     },
     "4f1a6f2724c24f19970d0b63fed7cd35": {
      "model_module": "@jupyter-widgets/output",
      "model_module_version": "1.0.0",
      "model_name": "OutputModel",
      "state": {
       "_dom_classes": [],
       "_model_module": "@jupyter-widgets/output",
       "_model_module_version": "1.0.0",
       "_model_name": "OutputModel",
       "_view_count": null,
       "_view_module": "@jupyter-widgets/output",
       "_view_module_version": "1.0.0",
       "_view_name": "OutputView",
       "layout": "IPY_MODEL_2698195c2c51429d8edaa52368692931",
       "msg_id": "",
       "outputs": [
        {
         "data": {
          "text/html": "<pre style=\"white-space:pre;overflow-x:auto;line-height:normal;font-family:Menlo,'DejaVu Sans Mono',consolas,'Courier New',monospace\">solver progress (field decay = 2.89e-08) <span style=\"color: #729c1f; text-decoration-color: #729c1f\">━━━━━━━━━━━━━━━━━━━━━━━━━━</span> <span style=\"color: #800080; text-decoration-color: #800080\">100%</span> <span style=\"color: #008080; text-decoration-color: #008080\">0:00:00</span>\n</pre>\n",
          "text/plain": "solver progress (field decay = 2.89e-08) \u001b[38;2;114;156;31m━━━━━━━━━━━━━━━━━━━━━━━━━━\u001b[0m \u001b[35m100%\u001b[0m \u001b[36m0:00:00\u001b[0m\n"
         },
         "metadata": {},
         "output_type": "display_data"
        }
       ],
       "tabbable": null,
       "tooltip": null
      }
     },
     "6adb24b26d1e478691ab5168f1b76ff6": {
      "model_module": "@jupyter-widgets/base",
      "model_module_version": "2.0.0",
      "model_name": "LayoutModel",
      "state": {
       "_model_module": "@jupyter-widgets/base",
       "_model_module_version": "2.0.0",
       "_model_name": "LayoutModel",
       "_view_count": null,
       "_view_module": "@jupyter-widgets/base",
       "_view_module_version": "2.0.0",
       "_view_name": "LayoutView",
       "align_content": null,
       "align_items": null,
       "align_self": null,
       "border_bottom": null,
       "border_left": null,
       "border_right": null,
       "border_top": null,
       "bottom": null,
       "display": null,
       "flex": null,
       "flex_flow": null,
       "grid_area": null,
       "grid_auto_columns": null,
       "grid_auto_flow": null,
       "grid_auto_rows": null,
       "grid_column": null,
       "grid_gap": null,
       "grid_row": null,
       "grid_template_areas": null,
       "grid_template_columns": null,
       "grid_template_rows": null,
       "height": null,
       "justify_content": null,
       "justify_items": null,
       "left": null,
       "margin": null,
       "max_height": null,
       "max_width": null,
       "min_height": null,
       "min_width": null,
       "object_fit": null,
       "object_position": null,
       "order": null,
       "overflow": null,
       "padding": null,
       "right": null,
       "top": null,
       "visibility": null,
       "width": null
      }
     },
     "7b04691bf937459fb21b1afcbddb2466": {
      "model_module": "@jupyter-widgets/output",
      "model_module_version": "1.0.0",
      "model_name": "OutputModel",
      "state": {
       "_dom_classes": [],
       "_model_module": "@jupyter-widgets/output",
       "_model_module_version": "1.0.0",
       "_model_name": "OutputModel",
       "_view_count": null,
       "_view_module": "@jupyter-widgets/output",
       "_view_module_version": "1.0.0",
       "_view_name": "OutputView",
       "layout": "IPY_MODEL_f80466356a93447ab30c90e141049ffb",
       "msg_id": "",
       "outputs": [
        {
         "data": {
          "text/html": "<pre style=\"white-space:pre;overflow-x:auto;line-height:normal;font-family:Menlo,'DejaVu Sans Mono',consolas,'Courier New',monospace\"><span style=\"color: #008000; text-decoration-color: #008000\">🏃 </span> <span style=\"color: #008000; text-decoration-color: #008000; font-weight: bold\">Finishing 'nanorod_array'...</span>\n</pre>\n",
          "text/plain": "\u001b[32m🏃 \u001b[0m \u001b[1;32mFinishing 'nanorod_array'...\u001b[0m\n"
         },
         "metadata": {},
         "output_type": "display_data"
        }
       ],
       "tabbable": null,
       "tooltip": null
      }
     },
     "8d3c06837e974e9a827710ff3296f998": {
      "model_module": "@jupyter-widgets/base",
      "model_module_version": "2.0.0",
      "model_name": "LayoutModel",
      "state": {
       "_model_module": "@jupyter-widgets/base",
       "_model_module_version": "2.0.0",
       "_model_name": "LayoutModel",
       "_view_count": null,
       "_view_module": "@jupyter-widgets/base",
       "_view_module_version": "2.0.0",
       "_view_name": "LayoutView",
       "align_content": null,
       "align_items": null,
       "align_self": null,
       "border_bottom": null,
       "border_left": null,
       "border_right": null,
       "border_top": null,
       "bottom": null,
       "display": null,
       "flex": null,
       "flex_flow": null,
       "grid_area": null,
       "grid_auto_columns": null,
       "grid_auto_flow": null,
       "grid_auto_rows": null,
       "grid_column": null,
       "grid_gap": null,
       "grid_row": null,
       "grid_template_areas": null,
       "grid_template_columns": null,
       "grid_template_rows": null,
       "height": null,
       "justify_content": null,
       "justify_items": null,
       "left": null,
       "margin": null,
       "max_height": null,
       "max_width": null,
       "min_height": null,
       "min_width": null,
       "object_fit": null,
       "object_position": null,
       "order": null,
       "overflow": null,
       "padding": null,
       "right": null,
       "top": null,
       "visibility": null,
       "width": null
      }
     },
     "a9d3d50d0cc347508c09fca9e28c0e7c": {
      "model_module": "@jupyter-widgets/output",
      "model_module_version": "1.0.0",
      "model_name": "OutputModel",
      "state": {
       "_dom_classes": [],
       "_model_module": "@jupyter-widgets/output",
       "_model_module_version": "1.0.0",
       "_model_name": "OutputModel",
       "_view_count": null,
       "_view_module": "@jupyter-widgets/output",
       "_view_module_version": "1.0.0",
       "_view_name": "OutputView",
       "layout": "IPY_MODEL_aa59dfff95654050997a67a126a4c985",
       "msg_id": "",
       "outputs": [
        {
         "data": {
          "text/html": "<pre style=\"white-space:pre;overflow-x:auto;line-height:normal;font-family:Menlo,'DejaVu Sans Mono',consolas,'Courier New',monospace\"><span style=\"color: #008000; text-decoration-color: #008000\">🚶 </span> <span style=\"color: #008000; text-decoration-color: #008000; font-weight: bold\">Starting 'reference'...</span>\n</pre>\n",
          "text/plain": "\u001b[32m🚶 \u001b[0m \u001b[1;32mStarting 'reference'...\u001b[0m\n"
         },
         "metadata": {},
         "output_type": "display_data"
        }
       ],
       "tabbable": null,
       "tooltip": null
      }
     },
     "aa59dfff95654050997a67a126a4c985": {
      "model_module": "@jupyter-widgets/base",
      "model_module_version": "2.0.0",
      "model_name": "LayoutModel",
      "state": {
       "_model_module": "@jupyter-widgets/base",
       "_model_module_version": "2.0.0",
       "_model_name": "LayoutModel",
       "_view_count": null,
       "_view_module": "@jupyter-widgets/base",
       "_view_module_version": "2.0.0",
       "_view_name": "LayoutView",
       "align_content": null,
       "align_items": null,
       "align_self": null,
       "border_bottom": null,
       "border_left": null,
       "border_right": null,
       "border_top": null,
       "bottom": null,
       "display": null,
       "flex": null,
       "flex_flow": null,
       "grid_area": null,
       "grid_auto_columns": null,
       "grid_auto_flow": null,
       "grid_auto_rows": null,
       "grid_column": null,
       "grid_gap": null,
       "grid_row": null,
       "grid_template_areas": null,
       "grid_template_columns": null,
       "grid_template_rows": null,
       "height": null,
       "justify_content": null,
       "justify_items": null,
       "left": null,
       "margin": null,
       "max_height": null,
       "max_width": null,
       "min_height": null,
       "min_width": null,
       "object_fit": null,
       "object_position": null,
       "order": null,
       "overflow": null,
       "padding": null,
       "right": null,
       "top": null,
       "visibility": null,
       "width": null
      }
     },
     "b0aa7cd18ef543519640a4e966c07f52": {
      "model_module": "@jupyter-widgets/output",
      "model_module_version": "1.0.0",
      "model_name": "OutputModel",
      "state": {
       "_dom_classes": [],
       "_model_module": "@jupyter-widgets/output",
       "_model_module_version": "1.0.0",
       "_model_name": "OutputModel",
       "_view_count": null,
       "_view_module": "@jupyter-widgets/output",
       "_view_module_version": "1.0.0",
       "_view_name": "OutputView",
       "layout": "IPY_MODEL_c7a251d05143422a851d90f7ebcf2c78",
       "msg_id": "",
       "outputs": [
        {
         "data": {
          "text/html": "<pre style=\"white-space:pre;overflow-x:auto;line-height:normal;font-family:Menlo,'DejaVu Sans Mono',consolas,'Courier New',monospace\"><span style=\"color: #008000; text-decoration-color: #008000; font-weight: bold\">↓</span> <span style=\"color: #000080; text-decoration-color: #000080; font-weight: bold\">simulation_data.hdf5.gz</span> <span style=\"color: #729c1f; text-decoration-color: #729c1f\">━━━━━━━━━━━━</span> <span style=\"color: #800080; text-decoration-color: #800080\">100.0%</span> • <span style=\"color: #008000; text-decoration-color: #008000\">4.5/4.5 MB</span> • <span style=\"color: #800000; text-decoration-color: #800000\">26.8 MB/s</span> • <span style=\"color: #008080; text-decoration-color: #008080\">0:00:00</span>\n</pre>\n",
          "text/plain": "\u001b[1;32m↓\u001b[0m \u001b[1;34msimulation_data.hdf5.gz\u001b[0m \u001b[38;2;114;156;31m━━━━━━━━━━━━\u001b[0m \u001b[35m100.0%\u001b[0m • \u001b[32m4.5/4.5 MB\u001b[0m • \u001b[31m26.8 MB/s\u001b[0m • \u001b[36m0:00:00\u001b[0m\n"
         },
         "metadata": {},
         "output_type": "display_data"
        }
       ],
       "tabbable": null,
       "tooltip": null
      }
     },
     "b149f2cbbf094d74ab3eb05392c38e9f": {
      "model_module": "@jupyter-widgets/output",
      "model_module_version": "1.0.0",
      "model_name": "OutputModel",
      "state": {
       "_dom_classes": [],
       "_model_module": "@jupyter-widgets/output",
       "_model_module_version": "1.0.0",
       "_model_name": "OutputModel",
       "_view_count": null,
       "_view_module": "@jupyter-widgets/output",
       "_view_module_version": "1.0.0",
       "_view_name": "OutputView",
       "layout": "IPY_MODEL_4bd3facded2c423ab4a2816961bbfe96",
       "msg_id": "",
       "outputs": [
        {
         "data": {
          "text/html": "<pre style=\"white-space:pre;overflow-x:auto;line-height:normal;font-family:Menlo,'DejaVu Sans Mono',consolas,'Courier New',monospace\"><span style=\"color: #008000; text-decoration-color: #008000; font-weight: bold\">↓</span> <span style=\"color: #000080; text-decoration-color: #000080; font-weight: bold\">simulation_data.hdf5.gz</span> <span style=\"color: #729c1f; text-decoration-color: #729c1f\">━━━━━━━━━━━━━━━━</span> <span style=\"color: #800080; text-decoration-color: #800080\">100.0%</span> • <span style=\"color: #008000; text-decoration-color: #008000\">108.0/108.0 kB</span> • <span style=\"color: #800000; text-decoration-color: #800000\">?</span> • <span style=\"color: #008080; text-decoration-color: #008080\">0:00:00</span>\n</pre>\n",
          "text/plain": "\u001b[1;32m↓\u001b[0m \u001b[1;34msimulation_data.hdf5.gz\u001b[0m \u001b[38;2;114;156;31m━━━━━━━━━━━━━━━━\u001b[0m \u001b[35m100.0%\u001b[0m • \u001b[32m108.0/108.0 kB\u001b[0m • \u001b[31m?\u001b[0m • \u001b[36m0:00:00\u001b[0m\n"
         },
         "metadata": {},
         "output_type": "display_data"
        }
       ],
       "tabbable": null,
       "tooltip": null
      }
     },
     "b77f020017a44298b9e4642a8dfd22ac": {
      "model_module": "@jupyter-widgets/output",
      "model_module_version": "1.0.0",
      "model_name": "OutputModel",
      "state": {
       "_dom_classes": [],
       "_model_module": "@jupyter-widgets/output",
       "_model_module_version": "1.0.0",
       "_model_name": "OutputModel",
       "_view_count": null,
       "_view_module": "@jupyter-widgets/output",
       "_view_module_version": "1.0.0",
       "_view_name": "OutputView",
       "layout": "IPY_MODEL_6adb24b26d1e478691ab5168f1b76ff6",
       "msg_id": "",
       "outputs": [
        {
         "data": {
          "text/html": "<pre style=\"white-space:pre;overflow-x:auto;line-height:normal;font-family:Menlo,'DejaVu Sans Mono',consolas,'Courier New',monospace\">solver progress (field decay = 8.71e-10) <span style=\"color: #729c1f; text-decoration-color: #729c1f\">━━━━━━━━━━━━━━━━━━━━━━━━━━</span> <span style=\"color: #800080; text-decoration-color: #800080\">100%</span> <span style=\"color: #008080; text-decoration-color: #008080\">0:00:00</span>\n</pre>\n",
          "text/plain": "solver progress (field decay = 8.71e-10) \u001b[38;2;114;156;31m━━━━━━━━━━━━━━━━━━━━━━━━━━\u001b[0m \u001b[35m100%\u001b[0m \u001b[36m0:00:00\u001b[0m\n"
         },
         "metadata": {},
         "output_type": "display_data"
        }
       ],
       "tabbable": null,
       "tooltip": null
      }
     },
     "bd57899790c1411194b383b5dc55ad7e": {
      "model_module": "@jupyter-widgets/output",
      "model_module_version": "1.0.0",
      "model_name": "OutputModel",
      "state": {
       "_dom_classes": [],
       "_model_module": "@jupyter-widgets/output",
       "_model_module_version": "1.0.0",
       "_model_name": "OutputModel",
       "_view_count": null,
       "_view_module": "@jupyter-widgets/output",
       "_view_module_version": "1.0.0",
       "_view_name": "OutputView",
       "layout": "IPY_MODEL_443918f36e154501b3b4fa51c7c5de59",
       "msg_id": "",
       "outputs": [
        {
         "data": {
          "text/html": "<pre style=\"white-space:pre;overflow-x:auto;line-height:normal;font-family:Menlo,'DejaVu Sans Mono',consolas,'Courier New',monospace\"><span style=\"color: #008000; text-decoration-color: #008000\">🏃 </span> <span style=\"color: #008000; text-decoration-color: #008000; font-weight: bold\">Starting 'nanorod_array'...</span>\n</pre>\n",
          "text/plain": "\u001b[32m🏃 \u001b[0m \u001b[1;32mStarting 'nanorod_array'...\u001b[0m\n"
         },
         "metadata": {},
         "output_type": "display_data"
        }
       ],
       "tabbable": null,
       "tooltip": null
      }
     },
     "c7a251d05143422a851d90f7ebcf2c78": {
      "model_module": "@jupyter-widgets/base",
      "model_module_version": "2.0.0",
      "model_name": "LayoutModel",
      "state": {
       "_model_module": "@jupyter-widgets/base",
       "_model_module_version": "2.0.0",
       "_model_name": "LayoutModel",
       "_view_count": null,
       "_view_module": "@jupyter-widgets/base",
       "_view_module_version": "2.0.0",
       "_view_name": "LayoutView",
       "align_content": null,
       "align_items": null,
       "align_self": null,
       "border_bottom": null,
       "border_left": null,
       "border_right": null,
       "border_top": null,
       "bottom": null,
       "display": null,
       "flex": null,
       "flex_flow": null,
       "grid_area": null,
       "grid_auto_columns": null,
       "grid_auto_flow": null,
       "grid_auto_rows": null,
       "grid_column": null,
       "grid_gap": null,
       "grid_row": null,
       "grid_template_areas": null,
       "grid_template_columns": null,
       "grid_template_rows": null,
       "height": null,
       "justify_content": null,
       "justify_items": null,
       "left": null,
       "margin": null,
       "max_height": null,
       "max_width": null,
       "min_height": null,
       "min_width": null,
       "object_fit": null,
       "object_position": null,
       "order": null,
       "overflow": null,
       "padding": null,
       "right": null,
       "top": null,
       "visibility": null,
       "width": null
      }
     },
     "e5552c1255374617816de69aab3994b9": {
      "model_module": "@jupyter-widgets/output",
      "model_module_version": "1.0.0",
      "model_name": "OutputModel",
      "state": {
       "_dom_classes": [],
       "_model_module": "@jupyter-widgets/output",
       "_model_module_version": "1.0.0",
       "_model_name": "OutputModel",
       "_view_count": null,
       "_view_module": "@jupyter-widgets/output",
       "_view_module_version": "1.0.0",
       "_view_name": "OutputView",
       "layout": "IPY_MODEL_8d3c06837e974e9a827710ff3296f998",
       "msg_id": "",
       "outputs": [
        {
         "data": {
          "text/html": "<pre style=\"white-space:pre;overflow-x:auto;line-height:normal;font-family:Menlo,'DejaVu Sans Mono',consolas,'Courier New',monospace\"><span style=\"color: #800000; text-decoration-color: #800000; font-weight: bold\">↑</span> <span style=\"color: #000080; text-decoration-color: #000080; font-weight: bold\">simulation.hdf5.gz</span> <span style=\"color: #729c1f; text-decoration-color: #729c1f\">━━━━━━━━━━━━━━━━━━━━━━━━━</span> <span style=\"color: #800080; text-decoration-color: #800080\">100.0%</span> • <span style=\"color: #008000; text-decoration-color: #008000\">3.8/3.8 kB</span> • <span style=\"color: #800000; text-decoration-color: #800000\">?</span> • <span style=\"color: #008080; text-decoration-color: #008080\">0:00:00</span>\n</pre>\n",
          "text/plain": "\u001b[1;31m↑\u001b[0m \u001b[1;34msimulation.hdf5.gz\u001b[0m \u001b[38;2;114;156;31m━━━━━━━━━━━━━━━━━━━━━━━━━\u001b[0m \u001b[35m100.0%\u001b[0m • \u001b[32m3.8/3.8 kB\u001b[0m • \u001b[31m?\u001b[0m • \u001b[36m0:00:00\u001b[0m\n"
         },
         "metadata": {},
         "output_type": "display_data"
        }
       ],
       "tabbable": null,
       "tooltip": null
      }
     },
     "eb0041989b9e40b59b3b5bee12076b2f": {
      "model_module": "@jupyter-widgets/base",
      "model_module_version": "2.0.0",
      "model_name": "LayoutModel",
      "state": {
       "_model_module": "@jupyter-widgets/base",
       "_model_module_version": "2.0.0",
       "_model_name": "LayoutModel",
       "_view_count": null,
       "_view_module": "@jupyter-widgets/base",
       "_view_module_version": "2.0.0",
       "_view_name": "LayoutView",
       "align_content": null,
       "align_items": null,
       "align_self": null,
       "border_bottom": null,
       "border_left": null,
       "border_right": null,
       "border_top": null,
       "bottom": null,
       "display": null,
       "flex": null,
       "flex_flow": null,
       "grid_area": null,
       "grid_auto_columns": null,
       "grid_auto_flow": null,
       "grid_auto_rows": null,
       "grid_column": null,
       "grid_gap": null,
       "grid_row": null,
       "grid_template_areas": null,
       "grid_template_columns": null,
       "grid_template_rows": null,
       "height": null,
       "justify_content": null,
       "justify_items": null,
       "left": null,
       "margin": null,
       "max_height": null,
       "max_width": null,
       "min_height": null,
       "min_width": null,
       "object_fit": null,
       "object_position": null,
       "order": null,
       "overflow": null,
       "padding": null,
       "right": null,
       "top": null,
       "visibility": null,
       "width": null
      }
     },
     "f80466356a93447ab30c90e141049ffb": {
      "model_module": "@jupyter-widgets/base",
      "model_module_version": "2.0.0",
      "model_name": "LayoutModel",
      "state": {
       "_model_module": "@jupyter-widgets/base",
       "_model_module_version": "2.0.0",
       "_model_name": "LayoutModel",
       "_view_count": null,
       "_view_module": "@jupyter-widgets/base",
       "_view_module_version": "2.0.0",
       "_view_name": "LayoutView",
       "align_content": null,
       "align_items": null,
       "align_self": null,
       "border_bottom": null,
       "border_left": null,
       "border_right": null,
       "border_top": null,
       "bottom": null,
       "display": null,
       "flex": null,
       "flex_flow": null,
       "grid_area": null,
       "grid_auto_columns": null,
       "grid_auto_flow": null,
       "grid_auto_rows": null,
       "grid_column": null,
       "grid_gap": null,
       "grid_row": null,
       "grid_template_areas": null,
       "grid_template_columns": null,
       "grid_template_rows": null,
       "height": null,
       "justify_content": null,
       "justify_items": null,
       "left": null,
       "margin": null,
       "max_height": null,
       "max_width": null,
       "min_height": null,
       "min_width": null,
       "object_fit": null,
       "object_position": null,
       "order": null,
       "overflow": null,
       "padding": null,
       "right": null,
       "top": null,
       "visibility": null,
       "width": null
      }
     }
    },
    "version_major": 2,
    "version_minor": 0
   }
  }
 },
 "nbformat": 4,
 "nbformat_minor": 5
}
