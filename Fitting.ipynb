{
 "cells": [
  {
   "cell_type": "markdown",
   "metadata": {},
   "source": [
    "# Dispersion fitting tool\n",
    "\n",
    "See on [github](https://github.com/flexcompute/tidy3d-notebooks/blob/main/Fitting.ipynb), run on [colab](https://colab.research.google.com/github/flexcompute/tidy3d-notebooks/blob/main/Fitting.ipynb), or just follow along with the output below.\n",
    "\n",
    "Here we show how to fit optical measurement data and use the results to create dispersion material models for Tidy3d.\n",
    "\n",
    "Tidy3D's dispersion fitting tool peforms an optimization to find a medium defined as a [DispersionModel](../generated/tidy3d.DispersionModel.rst) that minimizes the RMS error between the model results and the data. This can then be directly used as a material in simulations."
   ]
  },
  {
   "cell_type": "code",
   "execution_count": 1,
   "metadata": {
    "execution": {
     "iopub.execute_input": "2021-11-02T00:20:41.015283Z",
     "iopub.status.busy": "2021-11-02T00:20:41.014308Z",
     "iopub.status.idle": "2021-11-02T00:20:41.347928Z",
     "shell.execute_reply": "2021-11-02T00:20:41.348870Z"
    }
   },
   "outputs": [],
   "source": [
    "# get the most recent version of tidy3d\n",
    "!pip install -q --upgrade tidy3d\n",
    "\n",
    "# make sure notebook plots inline\n",
    "%matplotlib inline\n",
    "\n",
    "# first import packages\n",
    "import matplotlib.pylab as plt\n",
    "import numpy as np\n",
    "\n",
    "import tidy3d as td"
   ]
  },
  {
   "cell_type": "markdown",
   "metadata": {},
   "source": [
    "## Load Data\n",
    "\n",
    "The fitting tool accepts numpy arrays for the data points, but if we have a data file instead, we can load that with the `load_nk_file` utility function.\n",
    "\n",
    "Our data file has columns for wavelength (um), real part of refractive index (n), and imaginary part of refractive index (k).  k data is optional.\n",
    "\n",
    "Note: `load_nk_file` uses [np.loadtxt](https://numpy.org/doc/stable/reference/generated/numpy.loadtxt.html) under the hood, so additional keyword arguments for parsing the file follow the same format as [np.loadtxt](https://numpy.org/doc/stable/reference/generated/numpy.loadtxt.html)."
   ]
  },
  {
   "cell_type": "code",
   "execution_count": 2,
   "metadata": {
    "execution": {
     "iopub.execute_input": "2021-11-02T00:20:41.353621Z",
     "iopub.status.busy": "2021-11-02T00:20:41.352202Z",
     "iopub.status.idle": "2021-11-02T00:20:41.771714Z",
     "shell.execute_reply": "2021-11-02T00:20:41.771995Z"
    }
   },
   "outputs": [
    {
     "data": {
      "image/png": "[encoded data removed]",
      "text/plain": [
       "<Figure size 432x288 with 1 Axes>"
      ]
     },
     "metadata": {
      "needs_background": "light"
     },
     "output_type": "display_data"
    }
   ],
   "source": [
    "from tidy3d.fit import load_nk_file\n",
    "\n",
    "fname = 'https://raw.githubusercontent.com/flexcompute/tidy3d-notebooks/main/data/nk_data.csv'\n",
    "\n",
    "# note that additional keyword arguments to load_nk_file get passed to np.loadtxt\n",
    "wavelengths, n_data, k_data = load_nk_file(fname, skiprows=1, delimiter=',')\n",
    "\n",
    "# lets plot the data\n",
    "plt.scatter(wavelengths, n_data, label='n', color='firebrick')\n",
    "plt.scatter(wavelengths, k_data, label='k', color='chocolate')\n",
    "plt.xlabel('wavelength ($\\mu m$)')\n",
    "plt.ylabel('value')\n",
    "plt.title('refractive index data')\n",
    "plt.legend()\n",
    "plt.show()"
   ]
  },
  {
   "cell_type": "markdown",
   "metadata": {},
   "source": [
    "## Creating Dispersion Fitter\n",
    "\n",
    "Now that we have our data as numpy arrays, we can perform the fit.\n",
    "\n",
    "For this we load the data into the [DispersionFit](../generated/tidy3d.fit.DispersionFit.rst) class, which provides various methods for fitting, visualizing, and exporting the models."
   ]
  },
  {
   "cell_type": "code",
   "execution_count": 3,
   "metadata": {
    "execution": {
     "iopub.execute_input": "2021-11-02T00:20:41.774175Z",
     "iopub.status.busy": "2021-11-02T00:20:41.773853Z",
     "iopub.status.idle": "2021-11-02T00:20:41.782048Z",
     "shell.execute_reply": "2021-11-02T00:20:41.781711Z"
    }
   },
   "outputs": [],
   "source": [
    "from tidy3d.fit import DispersionFit\n",
    "\n",
    "fitter = DispersionFit(wavelengths, n_data, k_data)"
   ]
  },
  {
   "cell_type": "markdown",
   "metadata": {},
   "source": [
    "## Fitting the data\n",
    "\n",
    "The fitting tool uses the [nlopt](https://github.com/stevengj/nlopt) package to fit a dispersion model to the data by minimizing the root mean squared (RMS) error between the model n,k prediciton and the data at the given wavelengths.\n",
    "\n",
    "There are various fitting parameters that can be set, but the most important is the number of \"poles\" in the model.\n",
    "\n",
    "For each pole, there are 4 degrees of freedom in the model.  Adding more poles can produce a closer fit, but each additional pole added will make the fit harder to obtain and will slow down the FDTD.  Therefore, it is best to try the fit with few numbers of poles and increase until the results look good.\n",
    "\n",
    "Here, we will first try fitting the data with 1 pole and specify the RMS value that we are happy with (`tolerance_rms`).\n",
    "\n",
    "Note that the fitting tool performs global optimizations with random starting coefficients, and will repeat the optimization `num_tries` times, returning either the best result or the first result to satisfy the tolerance specified."
   ]
  },
  {
   "cell_type": "code",
   "execution_count": 4,
   "metadata": {
    "execution": {
     "iopub.execute_input": "2021-11-02T00:20:41.784227Z",
     "iopub.status.busy": "2021-11-02T00:20:41.783894Z",
     "iopub.status.idle": "2021-11-02T00:20:46.303960Z",
     "shell.execute_reply": "2021-11-02T00:20:46.303585Z"
    }
   },
   "outputs": [
    {
     "name": "stderr",
     "output_type": "stream",
     "text": [
      "best RMS error so far: 9.95e-02: 100%|██████████| 50/50 [00:04<00:00, 11.09it/s]"
     ]
    },
    {
     "name": "stdout",
     "output_type": "stream",
     "text": [
      "\twarning: did not find fit with RMS error under tolerance_rms of 1.00e-02\n",
      "\treturning best fit with RMS error 9.95e-02\n"
     ]
    },
    {
     "name": "stderr",
     "output_type": "stream",
     "text": [
      "\n"
     ]
    }
   ],
   "source": [
    "poles, rms_error = fitter.fit(\n",
    "                        num_poles=1,\n",
    "                        tolerance_rms=1e-2,\n",
    "                        num_tries=50,\n",
    "                        globalopt=True,\n",
    "                        bound=np.inf)"
   ]
  },
  {
   "cell_type": "markdown",
   "metadata": {},
   "source": [
    "The RMS error stalled at a value that was far above our tolerance, so we might want to try more fits.\n",
    "\n",
    "Let's first visualize how well the best single pole fit captured our model using the `.plot()` method"
   ]
  },
  {
   "cell_type": "code",
   "execution_count": 5,
   "metadata": {
    "execution": {
     "iopub.execute_input": "2021-11-02T00:20:46.306144Z",
     "iopub.status.busy": "2021-11-02T00:20:46.305802Z",
     "iopub.status.idle": "2021-11-02T00:20:46.475248Z",
     "shell.execute_reply": "2021-11-02T00:20:46.474872Z"
    }
   },
   "outputs": [
    {
     "data": {
      "image/png": "[encoded data removed]",
      "text/plain": [
       "<Figure size 432x288 with 1 Axes>"
      ]
     },
     "metadata": {
      "needs_background": "light"
     },
     "output_type": "display_data"
    }
   ],
   "source": [
    "fitter.plot()\n",
    "plt.show()"
   ]
  },
  {
   "cell_type": "markdown",
   "metadata": {},
   "source": [
    "As we can see, there is room for improvement at short wavelengths. Let's now try a two pole fit."
   ]
  },
  {
   "cell_type": "code",
   "execution_count": 6,
   "metadata": {
    "execution": {
     "iopub.execute_input": "2021-11-02T00:20:46.477881Z",
     "iopub.status.busy": "2021-11-02T00:20:46.477453Z",
     "iopub.status.idle": "2021-11-02T00:20:46.861158Z",
     "shell.execute_reply": "2021-11-02T00:20:46.860865Z"
    }
   },
   "outputs": [
    {
     "name": "stderr",
     "output_type": "stream",
     "text": [
      "best RMS error so far: 2.00e-02:   1%|          | 1/100 [00:00<00:37,  2.67it/s]"
     ]
    },
    {
     "name": "stdout",
     "output_type": "stream",
     "text": [
      "\tfound optimal fit with RMS error = 2.00e-02, returning\n"
     ]
    },
    {
     "name": "stderr",
     "output_type": "stream",
     "text": [
      "\n"
     ]
    }
   ],
   "source": [
    "poles, rms_error = fitter.fit(\n",
    "                        num_poles=2,\n",
    "                        tolerance_rms=2e-2,\n",
    "                        num_tries=100,\n",
    "                        globalopt=True,\n",
    "                        bound=np.inf)"
   ]
  },
  {
   "cell_type": "code",
   "execution_count": 7,
   "metadata": {
    "execution": {
     "iopub.execute_input": "2021-11-02T00:20:46.863561Z",
     "iopub.status.busy": "2021-11-02T00:20:46.863188Z",
     "iopub.status.idle": "2021-11-02T00:20:47.038109Z",
     "shell.execute_reply": "2021-11-02T00:20:47.037766Z"
    }
   },
   "outputs": [
    {
     "data": {
      "image/png": "[encoded data removed]",
      "text/plain": [
       "<Figure size 432x288 with 1 Axes>"
      ]
     },
     "metadata": {
      "needs_background": "light"
     },
     "output_type": "display_data"
    }
   ],
   "source": [
    "fitter.plot()\n",
    "plt.show()"
   ]
  },
  {
   "cell_type": "markdown",
   "metadata": {},
   "source": [
    "This fit looks great and should be sufficient for our simulation."
   ]
  },
  {
   "cell_type": "markdown",
   "metadata": {},
   "source": [
    "## Exporting to Medium\n",
    "\n",
    "With the fit performed, we now need to construct a `td.Medium` to use in our simulation.\n"
   ]
  },
  {
   "cell_type": "markdown",
   "metadata": {},
   "source": [
    "### Method 1: direct export as Medium\n",
    "\n",
    "The latest fit result can be directly exported as a tidy3d Medium with the `.as_medium` method.\n",
    "\n",
    "This is useful if your fit is being performed in the same notebook as your simulation and you may want to try multiple fits."
   ]
  },
  {
   "cell_type": "code",
   "execution_count": 8,
   "metadata": {
    "execution": {
     "iopub.execute_input": "2021-11-02T00:20:47.040586Z",
     "iopub.status.busy": "2021-11-02T00:20:47.040250Z",
     "iopub.status.idle": "2021-11-02T00:20:47.048455Z",
     "shell.execute_reply": "2021-11-02T00:20:47.048111Z"
    }
   },
   "outputs": [],
   "source": [
    "# direct export last fit result as medium\n",
    "medium_si = fitter.as_medium(name='my_medium')\n",
    "\n",
    "# construct a structure using this medium and use in simulation\n",
    "my_structure = td.Box(center=[0,0,0], size=[1,1,1], material=medium_si)"
   ]
  },
  {
   "cell_type": "markdown",
   "metadata": {},
   "source": [
    "### Method 2: print medium definition string\n",
    "\n",
    "In many cases, one may want to perform the fit once and then hardcode the result in their tidy3d script.\n",
    "\n",
    "For a quick and easy way to do this, the fitting tool's `print_medium` method prints out a string that can be copied and pasted into your script to hardcode the results."
   ]
  },
  {
   "cell_type": "code",
   "execution_count": 9,
   "metadata": {
    "execution": {
     "iopub.execute_input": "2021-11-02T00:20:47.050630Z",
     "iopub.status.busy": "2021-11-02T00:20:47.050209Z",
     "iopub.status.idle": "2021-11-02T00:20:47.058467Z",
     "shell.execute_reply": "2021-11-02T00:20:47.058045Z"
    }
   },
   "outputs": [
    {
     "name": "stdout",
     "output_type": "stream",
     "text": [
      "\n",
      "\n",
      "COPY AND PASTE BELOW TO CREATE MEDIUM IN TIDY3D SCRIPT\n",
      "========================\n",
      "td.DispersionModel(\n",
      "    poles=[\n",
      "        ((-2390820064188150-4020915865220227.5j), (1.775918494070711e+16-357991397447641.7j)),\n",
      "        ((-1441446388111592.8-1462552736420448.5j), (2496692087167982+7821611521702269j)),\n",
      "    ],\n",
      "    name='my_medium'\n",
      ")\n",
      "========================\n"
     ]
    }
   ],
   "source": [
    "fitter.print_medium(name='my_medium')"
   ]
  },
  {
   "cell_type": "markdown",
   "metadata": {},
   "source": [
    "### Method 3: save and load file containing poles\n",
    "\n",
    "Finally, one can save the poles from a fit in a file and load them to use in medium. Here is an example."
   ]
  },
  {
   "cell_type": "code",
   "execution_count": 10,
   "metadata": {
    "execution": {
     "iopub.execute_input": "2021-11-02T00:20:47.061115Z",
     "iopub.status.busy": "2021-11-02T00:20:47.060765Z",
     "iopub.status.idle": "2021-11-02T00:20:47.068651Z",
     "shell.execute_reply": "2021-11-02T00:20:47.068935Z"
    }
   },
   "outputs": [],
   "source": [
    "# save poles to pole_data.txt\n",
    "fname_poles = 'data/pole_data.txt'\n",
    "fitter.save_poles(fname=fname_poles)\n",
    "\n",
    "# load a medium directly from file\n",
    "from tidy3d.fit import load_poles\n",
    "medium_loaded = load_poles(fname=fname_poles)\n",
    "\n",
    "# works just the same\n",
    "my_structure = td.Box(center=[0,0,0], size=[1,1,1], material=medium_loaded)"
   ]
  },
  {
   "cell_type": "markdown",
   "metadata": {},
   "source": [
    "## Tricks and Tips / Troubleshooting\n",
    "\n",
    "Performing dispersion model fits is more of an art than a science and some trial and error may be required to get good fits.  A good general strategy is to:\n",
    "\n",
    "- Start with few poles and increase unitl RMS error gets to the desired level.\n",
    "\n",
    "- Large `num_tries` values can sometimes find good fits if the RMS seems stalled.  it can be a good idea to set a large number of tries and let it run for a while on an especially difficult data model.\n",
    "\n",
    "- Tailor the parameters to your data.  Long wavelengths and large n,k values can affect the RMS error that is considered a 'good' fit.  So it is a good idea to tweak the tolerance to match your data.  Once size does not fit all.\n",
    "\n",
    "Finally, there are some things to be aware of when troubleshooting the dispersion models in your actual simulation:\n",
    "\n",
    "- It is common to find divergence in FDTD simulations due to dispersive materials.  Besides trying \"absorber\" PML types and reducing runtime, a good solution can be to try other fits.  Therefore, if a simulation is diverging with a single fit result, it is often worth fitting a few more times and trying those results.\n",
    "\n",
    "- If you are unable to find a good fit to your data, it might be worth considering whether you care about certain features in the data.  For example, if the simulation is narrowband, you might want to truncate your data to not include wavelengths far ourside your measurement wavelength to simplify the dispersive model."
   ]
  }
 ],
 "metadata": {
  "kernelspec": {
   "display_name": "Python 3",
   "language": "python",
   "name": "python3"
  },
  "language_info": {
   "codemirror_mode": {
    "name": "ipython",
    "version": 3
   },
   "file_extension": ".py",
   "mimetype": "text/x-python",
   "name": "python",
   "nbconvert_exporter": "python",
   "pygments_lexer": "ipython3",
   "version": "3.6.13"
  }
 },
 "nbformat": 4,
 "nbformat_minor": 4
}
