{
 "cells": [
  {
   "cell_type": "markdown",
   "id": "8d226695-57c5-49b3-baf5-18b10feae3d8",
   "metadata": {},
   "source": [
    "# Carrier injection based Mach-Zehnder modulator\n",
    "\n",
    "Tidy3D capabilities include the modeling of material properties perturbations due to the presence of free carriers. This provides a convenient way to perform full-wave simulations of electro-optic modulators. In this notebook we demonstrate simulation of a simple pin-junction electro-optic modulator as part of an MZI. For generating free carrier distributions under different voltages we use an open-source package [DEVSIM](https://devsim.org). This example loosely follows the experimental modulator described in [Zhou Liang et al 2011 Chinese Phys. Lett. 28 074202](https://doi.org/10.1088/0256-307X/28/7/074202).\n",
    "\n",
    "<img src=\"img/MZI_modulator.png\" width=\"500\" alt=\"Schematic of the MZI modulator\">"
   ]
  },
  {
   "cell_type": "markdown",
   "id": "aac1b9c6-9ffb-4c76-a2d9-7142ccba382a",
   "metadata": {
    "editable": true,
    "slideshow": {
     "slide_type": ""
    },
    "tags": []
   },
   "source": [
    "## Problem Parameters"
   ]
  },
  {
   "cell_type": "code",
   "execution_count": 1,
   "id": "db1f6c6d-85f9-4fba-a3bb-42a50a455ed3",
   "metadata": {},
   "outputs": [],
   "source": [
    "import numpy as np\n",
    "from matplotlib import pyplot as plt\n",
    "\n",
    "import tidy3d as td\n",
    "from tidy3d import web\n",
    "import gdstk\n",
    "\n",
    "import devsim\n",
    "from devsim.python_packages import model_create, simple_physics"
   ]
  },
  {
   "cell_type": "markdown",
   "id": "067d95d0-6f97-4373-b9d2-cb44052b3d89",
   "metadata": {},
   "source": [
    "Our simulation setup will consist of an MZI with two arms, one of which has a common pin-junction profile. For combiner and spitter of the signal we use compact y-junction MMIs. The overall geometry and notation used is shown in the following figure.\n",
    "\n",
    "<img src=\"img/pn_mzi_cross.png\" alt=\"Modulator Cross-Section\"  width=\"500\"/>\n",
    "\n",
    "<img src=\"img/pn_mzi_circuit.png\" alt=\"Scheme of MZI Circuit\"  width=\"1000\"/>"
   ]
  },
  {
   "cell_type": "code",
   "execution_count": 2,
   "id": "f29bad36-ed7d-47e2-a5b4-64912f68e4c2",
   "metadata": {},
   "outputs": [],
   "source": [
    "# modulator cross section parameters (um)\n",
    "w_core = 0.5\n",
    "h_core = 0.34\n",
    "h_slab = 0.1\n",
    "h_side = 0.34\n",
    "w_contact = 0.5\n",
    "x_side = 2.25\n",
    "x_total = 3\n",
    "x_i = 0.55\n",
    "x_p = 1.75\n",
    "h_contact = 0.01\n",
    "# note that the height of the metal contact doesn't affect the results\n",
    "# but devsim requires creating a region representing it\n",
    "# in order to create a interface between the metal contact and modulator\n",
    "\n",
    "# modulator doping concentrations (1/cm^3)\n",
    "conc_p = 1e19\n",
    "conc_pp = 5e19\n",
    "conc_n = 1e19\n",
    "conc_nn = 5e19\n",
    "# note that concentrations in ++/-- are (conc_p + conc_pp) and (conc_m + conc_mm)\n",
    "\n",
    "# photonic circuit geometric parameters (um)\n",
    "y_length_in = 10\n",
    "y_length_out = 1\n",
    "y_length_bend = 10\n",
    "wg_spacing = 3.5\n",
    "taper_length = 10\n",
    "pin_length = 200\n"
   ]
  },
  {
   "cell_type": "markdown",
   "id": "006de98d-fdb1-4d18-b58c-4aa99ca23ff4",
   "metadata": {},
   "source": [
    "Auxiliary variable for easier construction of simulations."
   ]
  },
  {
   "cell_type": "code",
   "execution_count": 3,
   "id": "7b8204ef-3864-4b0e-b14e-ddb72525a84a",
   "metadata": {},
   "outputs": [],
   "source": [
    "mzi_length = 2 * taper_length + pin_length\n",
    "splitter_length = y_length_in + y_length_out + y_length_bend\n",
    "\n",
    "z_core = h_core / 2\n",
    "z_slab = h_slab / 2"
   ]
  },
  {
   "cell_type": "markdown",
   "id": "1b5b8bf3-1f6b-40d5-9808-10476d42d519",
   "metadata": {},
   "source": [
    "## Carrier Distribution"
   ]
  },
  {
   "cell_type": "markdown",
   "id": "82f378ec-9d7f-448b-8e16-3444f84bc7f3",
   "metadata": {},
   "source": [
    "For convenience, we implement a function that uses `devsim` python package to generate electron and hole concentrations in the 2d geometry corresponding to the cross section of the modulator used in this example. It takes in parameters of the cross section profile and voltages to solve at, and returns electron and hole distributions for each requested voltage. This function is built upon methods provided in `python_packages` directory of `devsim` package along the lines of a [one-dimensional diode example](https://devsim.net/examples_diode.html) given in the [DEVSIM documentation](https://devsim.net/index.html). It consists of the following main steps:\n",
    "\n",
    "1. Creating a mesh using the built-in DEVSIM mesher (supports only Cartesian meshes), including specifying device regions, interfaces between regions and between contacts and regions.\n",
    "2. Assigning material properties to each region.\n",
    "3. Assigning doping values over each region.\n",
    "4. Assigning mathematical models to each region and each interface.\n",
    "5. Obtaining the solution in the zero bias case.\n",
    "6. Iterating through requested voltage values and obtaining free carrier distribution for each of them."
   ]
  },
  {
   "cell_type": "code",
   "execution_count": 4,
   "id": "6365820f-0e92-40ee-9825-cd9ba77b3be1",
   "metadata": {},
   "outputs": [],
   "source": [
    "from typing import Tuple\n",
    "\n",
    "def solve_charge(\n",
    "    w_core: float, \n",
    "    h_core: float, \n",
    "    h_slab: float, \n",
    "    h_side: float, \n",
    "    w_contact: Tuple[float, float], \n",
    "    h_contact: float,\n",
    "    x_side: Tuple[float, float], \n",
    "    x_total: Tuple[float, float], \n",
    "    x_i: Tuple[float, float],\n",
    "    x_p: Tuple[float, float],\n",
    "    conc_p: float,\n",
    "    conc_pp: float,\n",
    "    conc_n: float,\n",
    "    conc_nn: float,\n",
    "    voltages: Tuple[float],\n",
    "    res: float,\n",
    "    center: Tuple[float, float, float],\n",
    "    axis: float,\n",
    "):\n",
    "    \"\"\"\n",
    "    This function generates electron and hole distributions in a pn (pin) waveguide cross-section.\n",
    "\n",
    "    Parameters\n",
    "    ----------\n",
    "    w_core: width of core region (um)\n",
    "    h_core: height of core region (um)\n",
    "    h_slab: height of slab (um) \n",
    "    h_side: height of side regions (um)\n",
    "    w_contact: widths (2) of metal contacts (um)\n",
    "    h_contact: height of metal contacts (um)\n",
    "    x_side: distances (2) from modulator center to side ribs (um)  \n",
    "    x_total: total extents (2) of device in horizontal direction (um) \n",
    "    x_i: distances (2) from modulator center to boundaries of lightly doped regions (um)\n",
    "    x_p: distances (2) from modulator center to boundaries of heavily doped regions (um)\n",
    "    conc_p: hole concentration of lightly doped region (1/cm^3)\n",
    "    conc_pp: hole concentration of heavily doped region (1/cm^3)\n",
    "    conc_n: electron concentration of lightly doped region (1/cm^3)\n",
    "    conc_nn: electron concentration of heavily doped region (1/cm^3)\n",
    "    voltages: list of voltages to solve for (V)\n",
    "    res: spatial resolution (um)\n",
    "    center: coordinates of modulator base (um)\n",
    "    axis: modulator orientation in space\n",
    "    \"\"\"\n",
    "    device_name = \"pin_wg\"\n",
    "    mesh_name = \"pin_wg_mesh\"\n",
    "\n",
    "    # convert size into cm\n",
    "    um_to_cm = 1e-4\n",
    "    \n",
    "    w_core_cm = w_core * um_to_cm\n",
    "    h_core_cm = h_core * um_to_cm\n",
    "    h_slab_cm = h_slab * um_to_cm\n",
    "    h_side_cm = h_side * um_to_cm\n",
    "    w_contact_cm = [w_contact[0] * um_to_cm, w_contact[1] * um_to_cm]\n",
    "    h_contact_cm = h_contact * um_to_cm\n",
    "    x_side_cm = [x_side[0] * um_to_cm, x_side[1] * um_to_cm]\n",
    "    x_total_cm = [x_total[0] * um_to_cm, x_total[1] * um_to_cm]\n",
    "    \n",
    "    x_i_cm = [x_i[0] * um_to_cm, x_i[1] * um_to_cm]\n",
    "    x_p_cm = [x_p[0] * um_to_cm, x_p[1] * um_to_cm]\n",
    "    \n",
    "    res_cm = res * um_to_cm\n",
    "\n",
    "    # tolerance for defining \n",
    "    tol = res_cm * 1e-3\n",
    "\n",
    "    # we will expand device dimensions by a small amount to make sure that numerical round-off\n",
    "    # errors do not cause interpolation errors near device boundaries when transferring \n",
    "    # data from charge solver to optic solver\n",
    "    expand = tol / 10\n",
    "\n",
    "    # create mesh\n",
    "    devsim.create_2d_mesh(mesh=mesh_name)\n",
    "    devsim.add_2d_mesh_line(mesh=mesh_name, dir=\"y\", pos=0 - expand, ps=res_cm)\n",
    "    devsim.add_2d_mesh_line(mesh=mesh_name, dir=\"y\", pos=h_slab_cm + expand, ps=res_cm)\n",
    "    devsim.add_2d_mesh_line(mesh=mesh_name, dir=\"y\", pos=h_core_cm + expand, ps=res_cm)\n",
    "    if h_side != h_core and h_side != h_slab:\n",
    "        devsim.add_2d_mesh_line(mesh=mesh_name, dir=\"y\", pos=h_side_cm + expand, ps=res_cm)\n",
    "    devsim.add_2d_mesh_line(mesh=mesh_name, dir=\"y\", pos=h_side_cm + h_contact_cm, ps=res_cm)\n",
    "        \n",
    "    devsim.add_2d_mesh_line(mesh=mesh_name, dir=\"x\", pos=x_total_cm[0] - expand, ps=res_cm)\n",
    "    devsim.add_2d_mesh_line(mesh=mesh_name, dir=\"x\", pos=x_total_cm[1] + expand, ps=res_cm)\n",
    "    devsim.add_2d_mesh_line(mesh=mesh_name, dir=\"x\", pos=x_side_cm[0] + expand, ps=res_cm)\n",
    "    devsim.add_2d_mesh_line(mesh=mesh_name, dir=\"x\", pos=x_side_cm[1] - expand, ps=res_cm)\n",
    "    devsim.add_2d_mesh_line(mesh=mesh_name, dir=\"x\", pos=-w_core_cm / 2 - expand, ps=res_cm)\n",
    "    devsim.add_2d_mesh_line(mesh=mesh_name, dir=\"x\", pos=w_core_cm / 2 + expand, ps=res_cm)\n",
    "    devsim.add_2d_mesh_line(mesh=mesh_name, dir=\"x\", pos=x_total_cm[0] + w_contact_cm[0], ps=res_cm)\n",
    "    devsim.add_2d_mesh_line(mesh=mesh_name, dir=\"x\", pos=x_total_cm[1] - w_contact_cm[1], ps=res_cm)\n",
    "\n",
    "    devsim.add_2d_region(mesh=mesh_name, material=\"Si\", region=\"core\", xl=-w_core_cm / 2, xh=w_core_cm / 2, yl=0, yh=h_core_cm, bloat=tol)\n",
    "    devsim.add_2d_region(mesh=mesh_name, material=\"Si\", region=\"slab_left\", xl=x_side_cm[0], xh=-w_core_cm / 2, yl=0, yh=h_slab_cm, bloat=tol)\n",
    "    devsim.add_2d_region(mesh=mesh_name, material=\"Si\", region=\"slab_right\", xl=w_core_cm / 2, xh=x_side_cm[1], yl=0, yh=h_slab_cm, bloat=tol)\n",
    "    devsim.add_2d_region(mesh=mesh_name, material=\"Si\", region=\"side_left\", xl=x_total_cm[0], xh=x_side_cm[0], yl=0, yh=h_side_cm, bloat=tol)\n",
    "    devsim.add_2d_region(mesh=mesh_name, material=\"Si\", region=\"side_right\", xl=x_side_cm[1], xh=x_total_cm[1], yl=0 , yh=h_side_cm, bloat=tol)\n",
    "    devsim.add_2d_region(mesh=mesh_name, material=\"metal\", region=\"metal_right\", xl=x_total_cm[1] - w_contact_cm[1], xh=x_total_cm[1], yl=h_side_cm, yh=h_side_cm + h_contact_cm, bloat=tol)\n",
    "    devsim.add_2d_region(mesh=mesh_name, material=\"metal\", region=\"metal_left\", xl=x_total_cm[0], xh=x_total_cm[0] + w_contact_cm[0], yl=h_side_cm, yh=h_side_cm + h_contact_cm, bloat=tol)\n",
    "    \n",
    "    devsim.add_2d_interface(mesh=mesh_name, name=\"side/slab\", region0=\"side_left\", region1=\"slab_left\", xl=x_side_cm[0], xh=x_side_cm[0], yl=0, yh=h_slab_cm)\n",
    "    devsim.add_2d_interface(mesh=mesh_name, name=\"slab/core\", region0=\"slab_left\", region1=\"core\", xl=-w_core_cm / 2, xh=-w_core_cm / 2, yl=0, yh=h_slab_cm)\n",
    "    devsim.add_2d_interface(mesh=mesh_name, name=\"core/slab\", region0=\"core\", region1=\"slab_right\", xl=w_core_cm / 2, xh=w_core_cm / 2, yl=0, yh=h_slab_cm)\n",
    "    devsim.add_2d_interface(mesh=mesh_name, name=\"slad/side\", region0=\"slab_right\", region1=\"side_right\", xl=x_side_cm[1], xh=x_side_cm[1], yl=0, yh=h_slab_cm)\n",
    "    \n",
    "    devsim.add_2d_contact(mesh=mesh_name, name=\"left_contact\", material=\"metal\", region=\"side_left\", yl=h_side_cm, yh=h_side_cm, xl=x_total_cm[0], xh=x_total_cm[0] + w_contact_cm[0], bloat=tol)\n",
    "    devsim.add_2d_contact(mesh=mesh_name, name=\"right_contact\", material=\"metal\", region=\"side_right\", yl=h_side_cm, yh=h_side_cm, xl=x_total_cm[1] - w_contact_cm[1], xh=x_total_cm[1], bloat=tol)\n",
    "\n",
    "    devsim.finalize_mesh(mesh=mesh_name)\n",
    "    devsim.create_device(mesh=mesh_name, device=device_name)\n",
    "\n",
    "    si_regions = [\"core\", \"slab_left\", \"slab_right\", \"side_left\", \"side_right\"]\n",
    "    \n",
    "    # set material parameters\n",
    "    for region in si_regions:\n",
    "        simple_physics.SetSiliconParameters(device_name, region, 300)\n",
    "\n",
    "    # set doping\n",
    "    p_expr = f\"{conc_p:1.6e}*step({x_i_cm[0]:1.6e}-x) + {conc_pp:1.6e}*step({x_p_cm[0]:1.6e}-x)\"\n",
    "    n_expr = f\"{conc_n:1.6e}*step(x-{x_i_cm[1]:1.6e}) + {conc_nn:1.6e}*step(x-{x_p_cm[1]:1.6e})\"\n",
    "\n",
    "    for region in si_regions:\n",
    "        model_create.CreateNodeModel(device_name, region, \"Acceptors\", p_expr)\n",
    "        model_create.CreateNodeModel(device_name, region, \"Donors\", n_expr)\n",
    "        model_create.CreateNodeModel(device_name, region, \"NetDoping\", \"Donors-Acceptors\")\n",
    "    \n",
    "    # create potential only model\n",
    "    for region in si_regions:\n",
    "        simple_physics.CreateSolution(device_name, region, \"Potential\")\n",
    "        simple_physics.CreateSiliconPotentialOnly(device_name, region)\n",
    "        \n",
    "    simple_physics.CreateSiliconPotentialOnlyContact(device_name, \"side_left\", \"left_contact\")\n",
    "    simple_physics.CreateSiliconPotentialOnlyContact(device_name, \"side_right\", \"right_contact\")\n",
    "\n",
    "    # set bias\n",
    "    devsim.set_parameter(device=device_name, name=simple_physics.GetContactBiasName(\"left_contact\"), value=\"0.0\")\n",
    "    devsim.set_parameter(device=device_name, name=simple_physics.GetContactBiasName(\"right_contact\"), value=\"0.0\")\n",
    "\n",
    "    # initial solution\n",
    "    devsim.solve(type=\"dc\", absolute_error=1e10, relative_error=1e-10, maximum_iterations=50)\n",
    "        \n",
    "    for region in si_regions:        \n",
    "        model_create.CreateSolution(device_name, region, \"Electrons\")\n",
    "        model_create.CreateSolution(device_name, region, \"Holes\")\n",
    "\n",
    "        # create initial guess from dc only solution\n",
    "        devsim.set_node_values(device=device_name, region=region, name=\"Electrons\", init_from=\"IntrinsicElectrons\")\n",
    "        devsim.set_node_values(device=device_name, region=region, name=\"Holes\", init_from=\"IntrinsicHoles\")\n",
    "\n",
    "        # Set up equations\n",
    "        simple_physics.CreateSiliconDriftDiffusion(device_name, region)\n",
    "\n",
    "    simple_physics.CreateSiliconDriftDiffusionAtContact(device_name, \"side_left\", \"left_contact\")\n",
    "    simple_physics.CreateSiliconDriftDiffusionAtContact(device_name, \"side_right\", \"right_contact\")\n",
    "        \n",
    "    for interface in devsim.get_interface_list(device=device_name):\n",
    "        simple_physics.CreateSiliconSiliconInterface(\n",
    "            device=device_name, interface=interface\n",
    "        )\n",
    "        \n",
    "    devsim.solve(type=\"dc\", absolute_error=1e10, relative_error=1e-10, maximum_iterations=50)\n",
    "\n",
    "    normal_pos = center.pop(axis)\n",
    "\n",
    "    electrons_datas = []\n",
    "    holes_datas = []\n",
    "\n",
    "    # iterate through and solve for each voltage\n",
    "    for v in voltages:\n",
    "        # set new voltage\n",
    "        devsim.set_parameter(device=device_name, name=simple_physics.GetContactBiasName(\"left_contact\"), value=f\"{v:1.6e}\")\n",
    "\n",
    "        # solve\n",
    "        devsim.solve(type=\"dc\", absolute_error=1e10, relative_error=1e-10, maximum_iterations=50)\n",
    "\n",
    "        # load resulting electron and hole distribution region \n",
    "        # and combine them into a single data entities\n",
    "        points = np.ndarray((0, 2))\n",
    "        cells = np.ndarray((0, 3), dtype=int)\n",
    "        values_electrons = np.ndarray((0))\n",
    "        values_holes = np.ndarray((0))\n",
    "\n",
    "        for region in si_regions:\n",
    "            # read carrier distributions values\n",
    "            part_electrons = np.array(devsim.get_node_model_values(device=device_name, region=region, name=\"Electrons\"))\n",
    "            part_holes = np.array(devsim.get_node_model_values(device=device_name, region=region, name=\"Holes\"))\n",
    "            \n",
    "            # read mesh connectivity\n",
    "            part_cells = np.array(devsim.get_element_node_list(device=device_name, region=region))\n",
    "            \n",
    "            # read mesh nodes coordinates\n",
    "            part_xs = np.array(devsim.get_node_model_values(device=device_name, region=region, name=\"x\"))\n",
    "            part_ys = np.array(devsim.get_node_model_values(device=device_name, region=region, name=\"y\"))\n",
    "            part_points = np.transpose([part_xs, part_ys])\n",
    "\n",
    "            # scale and shift node coordinates\n",
    "            part_points = part_points / um_to_cm + center\n",
    "\n",
    "            # gather data in single arrays\n",
    "            num_points_old = len(points)\n",
    "            values_electrons = np.concatenate((values_electrons, part_electrons))\n",
    "            values_holes = np.concatenate((values_holes, part_holes))\n",
    "            points = np.concatenate((points, part_points))\n",
    "            cells = np.concatenate((cells, num_points_old + part_cells))\n",
    "\n",
    "        # convert loaded data into TriangularGridDataset\n",
    "        points_xr = td.PointDataArray(points, dims=[\"index\", \"axis\"])\n",
    "        cells_xr = td.CellDataArray(cells, dims=[\"cell_index\", \"vertex_index\"])\n",
    "\n",
    "        electrons_xr = td.IndexedDataArray(values_electrons, dims=[\"index\"])\n",
    "        holes_xr = td.IndexedDataArray(values_holes, dims=[\"index\"])\n",
    "        \n",
    "        electrons_data = td.TriangularGridDataset(points=points_xr, cells=cells_xr, values=electrons_xr, normal_pos=normal_pos, normal_axis=axis)\n",
    "        holes_data = td.TriangularGridDataset(points=points_xr, cells=cells_xr, values=holes_xr, normal_pos=normal_pos, normal_axis=axis)\n",
    "\n",
    "        # append to lists that will be returned \n",
    "        electrons_datas.append(electrons_data)\n",
    "        holes_datas.append(holes_data)\n",
    "\n",
    "    devsim.reset_devsim()\n",
    "\n",
    "    return electrons_datas, holes_datas"
   ]
  },
  {
   "cell_type": "markdown",
   "id": "4b8f71ba-86f4-4bed-9650-5c9c65dbfb95",
   "metadata": {},
   "source": [
    "Let us generate free carrier distributions for forward bias values up to 1.2 V with a step of 0.1 V using spatial resolution of 0.005 um."
   ]
  },
  {
   "cell_type": "code",
   "execution_count": 5,
   "id": "df191064-7323-4e4a-9187-b87eba9cac23",
   "metadata": {},
   "outputs": [],
   "source": [
    "%%capture\n",
    "devsim.reset_devsim()\n",
    "\n",
    "res = 0.005\n",
    "voltages = np.arange(13) * 0.1\n",
    "\n",
    "electrons_data, holes_data = solve_charge(\n",
    "    w_core=w_core, \n",
    "    h_core=h_core, \n",
    "    h_slab=h_slab, \n",
    "    h_side=h_side, \n",
    "    w_contact=[w_contact, w_contact], \n",
    "    h_contact=h_contact,\n",
    "    x_side=[-x_side, x_side], \n",
    "    x_total=[-x_total, x_total], \n",
    "    x_i=[-x_i, x_i], \n",
    "    x_p=[-x_p, x_p], \n",
    "    conc_p=conc_p,\n",
    "    conc_pp=conc_pp,\n",
    "    conc_n=conc_n,\n",
    "    conc_nn=conc_nn,\n",
    "    voltages=voltages,\n",
    "    res=res,\n",
    "    center=[0, wg_spacing / 2, 0],\n",
    "    axis=0,\n",
    ")"
   ]
  },
  {
   "cell_type": "code",
   "execution_count": 6,
   "id": "f6308695-bc73-40ba-8495-92ac65820760",
   "metadata": {},
   "outputs": [],
   "source": [
    "carrier_data = list(zip(voltages, electrons_data, holes_data))"
   ]
  },
  {
   "cell_type": "markdown",
   "id": "e18a6315-3b8d-4abf-8cc3-b96d968a7bcc",
   "metadata": {},
   "source": [
    "Visualization of electron distributions for zero and 1.2 V biases."
   ]
  },
  {
   "cell_type": "code",
   "execution_count": 7,
   "id": "ee0af0d0-ef1a-4889-af3d-fbd7c133c6cd",
   "metadata": {},
   "outputs": [
    {
     "data": {
      "image/png": "[encoded data removed]",
      "text/plain": [
       "<Figure size 1000x300 with 4 Axes>"
      ]
     },
     "metadata": {},
     "output_type": "display_data"
    }
   ],
   "source": [
    "_, ax = plt.subplots(2, 1, figsize=(10, 3))\n",
    "\n",
    "for ind, (volt, electrons, _) in enumerate([carrier_data[0], carrier_data[-1]]):\n",
    "    electrons.plot(grid=False, ax=ax[ind])\n",
    "    ax[ind].set_title(f\"Bias: {volt:1.1f} V\")\n",
    "    ax[ind].set_xlabel(\"y (um)\")\n",
    "    ax[ind].set_ylabel(\"z (um)\")\n",
    "\n",
    "plt.tight_layout()\n",
    "plt.show()"
   ]
  },
  {
   "cell_type": "markdown",
   "id": "cd8c028d-7042-4db1-8d28-cd27567f0c6f",
   "metadata": {},
   "source": [
    "## Optic Simulations\n",
    "\n",
    "Having obtained free carrier solutions in the modulator cross section we can now turn to setting up optic simulation that will use these results.\n",
    "\n",
    "### Mediums with Charge Perturbations\n",
    "First, we define optic mediums with charge perturbation models. For simplicity, we will use non-dispersive material descriptions. Thus, we start from obtaining permittivity and conductivity of Si at the wavelength of interest."
   ]
  },
  {
   "cell_type": "code",
   "execution_count": 8,
   "id": "b502d09f-c425-4ece-818b-09d18a81e80b",
   "metadata": {},
   "outputs": [],
   "source": [
    "wvl_um = 1.55\n",
    "freq0 = td.C_0 / wvl_um\n",
    "\n",
    "si = td.material_library['cSi']['Li1993_293K']\n",
    "n_si, k_si = si.nk_model(frequency=td.C_0/np.array(wvl_um))\n",
    "\n",
    "# convert to permittivity and conductivity\n",
    "permittivity_si, conductivity_si = td.Medium.nk_to_eps_sigma(n=n_si, k=k_si, freq=freq0)"
   ]
  },
  {
   "cell_type": "markdown",
   "id": "179baf1e-d107-470c-819f-4dc07ca381d3",
   "metadata": {},
   "source": [
    "We will use empiric relationships presented in [M. Nedeljkovic, R. Soref and G. Z. Mashanovich, \"Free-Carrier Electrorefraction and Electroabsorption Modulation Predictions for Silicon Over the 1–14-  μm  Infrared Wavelength Range,\" IEEE Photonics Journal, vol. 3, no. 6, pp. 1171-1180, Dec. 2011](https://doi.org/10.1109/JPHOT.2011.2171930), that state that changes in $n$ and $k$ of Si can be described by formulas\n",
    "$$ - \\Delta n = \\frac{dn}{dN_e}(\\lambda) (\\Delta N_e)^{\\alpha(\\lambda)} + \\frac{dn}{dN_h}(\\lambda) (\\Delta N_h)^{\\beta(\\lambda)}$$\n",
    "$$ \\Delta \\left( \\frac{4 \\pi k}{\\lambda} \\right) = \\frac{dk}{dN_e}(\\lambda) (\\Delta N_e)^{\\gamma(\\lambda)} + \\frac{dk}{dN_h}(\\lambda) (\\Delta N_h)^{\\delta(\\lambda)}$$\n",
    "where $\\Delta N_e$ and $\\Delta N_h$ are electron and hole densities, and parameters have the following values for wavelength of 1.55 $\\mu$m:\n",
    "\n",
    "| $\\lambda$ | $\\frac{dn}{dN_e}$ | $\\alpha$ | $\\frac{dn}{dN_h}$ | $\\beta$ | $\\frac{dk}{dN_e}$ | $\\gamma$ | $\\frac{dk}{dN_h}$ | $\\delta$ |\n",
    "| --------- | ----------------- | ------- | ------------------ | ------- | ----------------- | -------- | ----------------- | -------- |\n",
    "| $1.55$ | $5.40 \\times 10^{-22}$ | $1.011$ | $1.53 \\times 10^{-18}$ | $0.838$ | $8.88 \\times 10^{-21}$ | $1.167$ | $5.84 \\times 10^{-20}$ | $1.109$ | "
   ]
  },
  {
   "cell_type": "code",
   "execution_count": 9,
   "id": "be12ebdf-6a0f-40a0-8f17-2f6d68362eb3",
   "metadata": {},
   "outputs": [],
   "source": [
    "wvl_si_data = 1.55\n",
    "\n",
    "ne_coeff = -5.4e-22\n",
    "ne_pow = 1.011\n",
    "\n",
    "nh_coeff = -1.53e-18\n",
    "nh_pow = 0.838\n",
    "\n",
    "k_factor = wvl_si_data * 1e-4 / 4 / np.pi  # factor for conversion from absorption coefficient into k\n",
    "\n",
    "ke_coeff = k_factor * 8.88e-21\n",
    "ke_pow = 1.167\n",
    "\n",
    "kh_coeff = k_factor * 5.84e-20\n",
    "kh_pow = 1.109"
   ]
  },
  {
   "cell_type": "markdown",
   "id": "4cd7b930-fc76-48fe-bb64-7a990a3e0824",
   "metadata": {},
   "source": [
    "Given the nonlinear character of these dependencies we will incorporate them as sampled function on a rectangular grid formed by electron and hole density values. Specifically, we will sample given $n$ and $k$ dependencies in the electron and hole density ranges up to $10^{20}$ 1/cm$^3$."
   ]
  },
  {
   "cell_type": "code",
   "execution_count": 10,
   "id": "b5b40237-9f65-45d9-8ef9-89b402965317",
   "metadata": {},
   "outputs": [],
   "source": [
    "Ne_range = np.concatenate(([0], np.logspace(15, 20, 20)))\n",
    "Nh_range = np.concatenate(([0], np.logspace(15, 20, 21)))\n",
    "\n",
    "Ne_mesh, Nh_mesh = np.meshgrid(Ne_range, Nh_range, indexing='ij')\n",
    "\n",
    "wvl_ind = 1\n",
    "\n",
    "n_mesh = n_si + ne_coeff * Ne_mesh ** ne_pow + nh_coeff * Nh_mesh ** nh_pow\n",
    "k_mesh = k_si + ke_coeff * Ne_mesh ** ke_pow + kh_coeff * Nh_mesh ** kh_pow"
   ]
  },
  {
   "cell_type": "markdown",
   "id": "aae434a1-c5e8-4484-afaf-0e90928b8a7c",
   "metadata": {},
   "source": [
    "Now we convert sampled values of $n$ and $k$ into permittivity $\\varepsilon$ and conductivity $\\sigma$ values, and assemble a non-dispersive medium with perturbations (`PerturbationMedium`)."
   ]
  },
  {
   "cell_type": "code",
   "execution_count": 11,
   "id": "d55cd927-8bd8-4136-b057-e1b9dace539a",
   "metadata": {},
   "outputs": [],
   "source": [
    "eps_mesh, sigma_mesh = td.Medium.nk_to_eps_sigma(n=n_mesh, k=k_mesh, freq=freq0)\n",
    "\n",
    "deps_data = td.ChargeDataArray(eps_mesh - permittivity_si, coords=dict(n=Ne_range, p=Nh_range))\n",
    "dsigma_data = td.ChargeDataArray(sigma_mesh - conductivity_si, coords=dict(n=Ne_range, p=Nh_range))\n",
    "\n",
    "permittivity_si_charge = td.CustomChargePerturbation(perturbation_values=deps_data)\n",
    "conductivity_si_charge = td.CustomChargePerturbation(perturbation_values=dsigma_data)\n",
    "\n",
    "permittivity_si_perturbation = td.ParameterPerturbation(\n",
    "    charge=permittivity_si_charge,\n",
    ")\n",
    "\n",
    "conductivity_si_perturbation = td.ParameterPerturbation(\n",
    "    charge=conductivity_si_charge,\n",
    ")\n",
    "\n",
    "si_perturb = td.PerturbationMedium(\n",
    "    permittivity=permittivity_si,\n",
    "    conductivity=conductivity_si,\n",
    "    permittivity_perturbation=permittivity_si_perturbation,\n",
    "    conductivity_perturbation=conductivity_si_perturbation,\n",
    ")"
   ]
  },
  {
   "cell_type": "markdown",
   "id": "32bda7a4-e1d7-463a-87ab-cc3f92dd2bb8",
   "metadata": {},
   "source": [
    "Additionally, we define medium for undoped Si regions and for SiO2 BOX/cladding."
   ]
  },
  {
   "cell_type": "code",
   "execution_count": 12,
   "id": "d24f9535-b070-4669-b204-3e9c1ffe49f9",
   "metadata": {},
   "outputs": [],
   "source": [
    "si_non_perturb = td.Medium(\n",
    "    permittivity=permittivity_si,\n",
    "    conductivity=conductivity_si,\n",
    ")\n",
    "\n",
    "sio2 = td.Medium(permittivity=1.444 ** 2)"
   ]
  },
  {
   "cell_type": "markdown",
   "id": "c119e833-a233-4d87-8852-a4433627ce22",
   "metadata": {},
   "source": [
    "### Circuits Structures\n",
    "For generating the entire circuit we use helper functions for creating a single waveguide and a waveguide y-junction (see tutorials [Defining common integrated photonic components](https://www.flexcompute.com/tidy3d/examples/notebooks/PICComponents/) and [Waveguide Y junction](https://www.flexcompute.com/tidy3d/examples/notebooks/YJunction/))."
   ]
  },
  {
   "cell_type": "code",
   "execution_count": 13,
   "id": "a8c29a1b-85f5-40b6-b03e-4fe955ae7202",
   "metadata": {
    "jupyter": {
     "source_hidden": true
    }
   },
   "outputs": [],
   "source": [
    "def make_waveguide(\n",
    "    x0, y0, z0, x1, y1, wg_width_0, wg_width_1, wg_thickness, medium, sidewall_angle=0\n",
    "):\n",
    "    \"\"\"\n",
    "    This function defines a linear waveguide taper and returns the tidy3d structure of it.\n",
    "\n",
    "    Parameters\n",
    "    ----------\n",
    "    x0: x coordinate of the waveguide starting position (um)\n",
    "    y0: y coordinate of the waveguide starting position (um)\n",
    "    z0: z coordinate of the waveguide bottom surface (um)\n",
    "    x1: x coordinate of the waveguide end position (um)\n",
    "    y1: y coordinate of the waveguide end position (um)\n",
    "    wg_width_0: width of the waveguide in the beginning (um)\n",
    "    wg_width_1: width of the waveguide in the end (um)\n",
    "    wg_thickness: thickness of the waveguide (um)\n",
    "    medium: medium of the waveguide\n",
    "    sidewall_angle: side wall angle of the waveguide (rad)\n",
    "    \"\"\"\n",
    "    cell = gdstk.Cell(\"taper\")  # define a gds cell\n",
    "\n",
    "    path = gdstk.RobustPath((x0, y0), wg_width_0, layer=1, datatype=0)  # define a path\n",
    "    path.segment((x1, y1), wg_width_1)\n",
    "\n",
    "    cell.add(path)  # add path to the cell\n",
    "\n",
    "    # define geometry from the gds cell\n",
    "    taper_geo = td.PolySlab.from_gds(\n",
    "        cell,\n",
    "        gds_layer=1,\n",
    "        axis=2,\n",
    "        slab_bounds=(z0, z0 + wg_thickness),\n",
    "        sidewall_angle=sidewall_angle,\n",
    "    )\n",
    "\n",
    "    # define tidy3d structure of the bend\n",
    "    taper = td.Structure(geometry=taper_geo[0], medium=medium)\n",
    "\n",
    "    return taper"
   ]
  },
  {
   "cell_type": "code",
   "execution_count": 14,
   "id": "0616fae7-dff3-4505-a901-ffde55a507ab",
   "metadata": {
    "jupyter": {
     "source_hidden": true
    }
   },
   "outputs": [],
   "source": [
    "def make_y_junction(\n",
    "    x0, y0, z0, wg_thickness, wg_spacing, wg_length_in, wg_length_out, bend_length, direction, medium, sidewall_angle=0,\n",
    "):    \n",
    "    \"\"\"\n",
    "    This function defines a waveguide y junction and returns the tidy3d structure of it.\n",
    "    The width of waveguides are set to 500 nm.\n",
    "\n",
    "    Parameters\n",
    "    ----------\n",
    "    x0: x coordinate of the output waveguides ends (um)\n",
    "    y0: y coordinate of the y junction center (um)\n",
    "    z0: z coordinate of the bottom surface (um)\n",
    "    wg_thickness: thickness of the waveguides (um)\n",
    "    wg_spacing: spacing between output waveguides (center-to-center) (um)\n",
    "    wg_length_in: length of the input waveguide and y-junction together, cannot be less than 2 (um)\n",
    "    wg_length_out: length of straight output waveguides (um)\n",
    "    bend_length: length of s-bends (um)\n",
    "    direction: direction of splitting (1: from left to right, -1: from right to left)\n",
    "    medium: medium of the waveguide\n",
    "    sidewall_angle: side wall angle of the waveguide (rad)\n",
    "    \"\"\"\n",
    "    # parameters of y junction\n",
    "    \n",
    "    # width of the 13 segments\n",
    "    w1 = 0.5\n",
    "    w2 = 0.5\n",
    "    w3 = 0.6\n",
    "    w4 = 0.7\n",
    "    w5 = 0.9\n",
    "    w6 = 1.26\n",
    "    w7 = 1.4\n",
    "    w8 = 1.4\n",
    "    w9 = 1.4\n",
    "    w10 = 1.4\n",
    "    w11 = 1.31\n",
    "    w12 = 1.2\n",
    "    w13 = 1.2\n",
    "    \n",
    "    l_junction = 2  # length of the junction\n",
    "    \n",
    "    if wg_length_in < l_junction:\n",
    "        raise ValueError(f\"'wg_length_in' cannot be less than {l_junction}.\")\n",
    "\n",
    "    # auxiliary variables\n",
    "    h_bend = (wg_spacing - w13 + w1) / 2  # vertical offset of the waveguide bend\n",
    "\n",
    "    # positions between output waveguides / s-bends / y-junction / input waveguide\n",
    "    x1 = x0 - direction * wg_length_out\n",
    "    x2 = x1 - direction * y_length_bend\n",
    "    x3 = x2 - direction * l_junction\n",
    "    x4 = x2 - direction * wg_length_in    \n",
    "\n",
    "    slab_bounds = (z0, z0 + wg_thickness)\n",
    "\n",
    "    # straight input waveguide\n",
    "    wg_in = td.PolySlab(\n",
    "        vertices=[(x4, y0 - w1 / 2), (x3, y0 - w1 / 2), (x3, y0 + w1 / 2), (x4, y0 + w1 / 2)], \n",
    "        axis=2, \n",
    "        slab_bounds=slab_bounds, \n",
    "        sidewall_angle=sidewall_angle,\n",
    "    )\n",
    "\n",
    "    # Y junction\n",
    "    x = np.linspace(x3, x2, 13)  # x coordinates of the top edge vertices\n",
    "    y = np.array(\n",
    "        [w1, w2, w3, w4, w5, w6, w7, w8, w9, w10, w11, w12, w13]\n",
    "    )  # y coordinates of the top edge vertices\n",
    "    \n",
    "    # using concatenate to include bottom edge vertices\n",
    "    x = np.concatenate((x, np.flipud(x)))\n",
    "    y = y0 + np.concatenate((y / 2, -np.flipud(y / 2)))\n",
    "    \n",
    "    # stacking x and y coordinates to form vertices pairs\n",
    "    vertices = np.transpose(np.vstack((x, y)))\n",
    "    \n",
    "    junction = td.PolySlab(vertices=vertices, axis=2, slab_bounds=slab_bounds, sidewall_angle=sidewall_angle)\n",
    "\n",
    "    # bends and output waveguides\n",
    "    x = np.linspace(\n",
    "        x2, x1, 100\n",
    "    )  # x coordinates of the top edge vertices\n",
    "    \n",
    "    y = (\n",
    "        np.abs(x - x2) * h_bend / y_length_bend\n",
    "        - h_bend * np.sin(2 * np.pi * np.abs(x - x2) / y_length_bend) / (np.pi * 2)\n",
    "        + w13 / 2 - w1 / 2\n",
    "    )  # y coordinates of the top edge vertices\n",
    "    \n",
    "    # adding the last point to include the straight waveguide at the output\n",
    "    x = np.append(x, x0)\n",
    "    y = y0 + np.append(y, y[-1])\n",
    "    \n",
    "    # add path to the cell\n",
    "    cell = gdstk.Cell(\"bends\")\n",
    "    cell.add(gdstk.FlexPath(x + 1j * y, w1, layer=1, datatype=0))  # top waveguide bend\n",
    "    cell.add(gdstk.FlexPath(x - 1j * y, w1, layer=1, datatype=0))  # bottom waveguide bend\n",
    "    \n",
    "    wg_bends = td.PolySlab.from_gds(\n",
    "        cell,\n",
    "        gds_layer=1,\n",
    "        axis=2,\n",
    "        slab_bounds=slab_bounds,\n",
    "        sidewall_angle=sidewall_angle,\n",
    "    )\n",
    "\n",
    "    # combine all components into a single struture using GeometryGroup\n",
    "    y_junction = td.Structure(\n",
    "        geometry=td.GeometryGroup(geometries=[wg_in, junction] + wg_bends), \n",
    "        medium=medium,\n",
    "    )\n",
    "\n",
    "    return y_junction"
   ]
  },
  {
   "cell_type": "markdown",
   "id": "c60009c0-19f1-43b4-9fc4-d9a9f2714ca7",
   "metadata": {},
   "source": [
    "Additionally, we create convenience functions to create a rib waveguide and a strip-to-rib taper."
   ]
  },
  {
   "cell_type": "code",
   "execution_count": 15,
   "id": "e1c06d14-d50f-4c96-b88c-639e9a053e7a",
   "metadata": {
    "jupyter": {
     "source_hidden": true
    }
   },
   "outputs": [],
   "source": [
    "def make_strip_rib_taper(\n",
    "    x0, y0, z0, x1, y1, core_width, slab_width, core_thickness, slab_thickness, medium, sidewall_angle=0\n",
    "):\n",
    "    \"\"\"\n",
    "    This function defines a linear waveguide taper and returns the tidy3d structure of it.\n",
    "\n",
    "    Parameters\n",
    "    ----------\n",
    "    x0: x coordinate of the waveguide starting position (um)\n",
    "    y0: y coordinate of the waveguide starting position (um)\n",
    "    z0: z coordinate of the waveguide bottom surface (um)\n",
    "    x1: x coordinate of the waveguide end position (um)\n",
    "    y1: y coordinate of the waveguide end position (um)\n",
    "    core_width: width of the waveguide core (um)\n",
    "    slab_width: width of the slab (um)\n",
    "    core_thickness: thickness of the waveguide core (um)\n",
    "    slab_thickness: thickness of the slab (um)\n",
    "    medium: medium of the waveguide\n",
    "    sidewall_angle: side wall angle of the waveguide (rad)\n",
    "    \"\"\"\n",
    "\n",
    "    # core\n",
    "    core = make_waveguide(\n",
    "        x0=x0, \n",
    "        y0=y0, \n",
    "        z0=z0, \n",
    "        x1=x1, \n",
    "        y1=y1, \n",
    "        wg_width_0=core_width, \n",
    "        wg_width_1=core_width, \n",
    "        wg_thickness=core_thickness, \n",
    "        medium=medium,\n",
    "        sidewall_angle=sidewall_angle,\n",
    "    )\n",
    "\n",
    "    # slab\n",
    "    slab = make_waveguide(\n",
    "        x0=x0, \n",
    "        y0=y0, \n",
    "        z0=z0, \n",
    "        x1=x1, \n",
    "        y1=y1, \n",
    "        wg_width_0=core_width, \n",
    "        wg_width_1=slab_width, \n",
    "        wg_thickness=slab_thickness, \n",
    "        medium=medium,\n",
    "        sidewall_angle=sidewall_angle,\n",
    "    )\n",
    "\n",
    "    return [core, slab]"
   ]
  },
  {
   "cell_type": "code",
   "execution_count": 16,
   "id": "4697870a-e8f0-4bea-9074-d7bb6502e49c",
   "metadata": {
    "jupyter": {
     "source_hidden": true
    }
   },
   "outputs": [],
   "source": [
    "def make_rib_waveguide(\n",
    "    x0, y0, z0, x1, y1, core_width, slab_width, side_width, core_thickness, slab_thickness, side_thickness, medium, sidewall_angle=0\n",
    "):\n",
    "    \"\"\"\n",
    "    This function defines a linear waveguide taper and returns the tidy3d structure of it.\n",
    "\n",
    "    Parameters\n",
    "    ----------\n",
    "    x0: x coordinate of the waveguide starting position (um)\n",
    "    y0: y coordinate of the waveguide starting position (um)\n",
    "    z0: z coordinate of the waveguide bottom surface (um)\n",
    "    x1: x coordinate of the waveguide end position (um)\n",
    "    y1: y coordinate of the waveguide end position (um)\n",
    "    core_width: width of the waveguide core (um)\n",
    "    slab_width: width of the slab (um)\n",
    "    side_width: width of the side ribs (um)\n",
    "    core_thickness: thickness of the waveguide core (um)\n",
    "    slab_thickness: thickness of the slab (um)\n",
    "    side_thickness: thickness of the side ribs (um)\n",
    "    medium: medium of the waveguide\n",
    "    sidewall_angle: side wall angle of the waveguide (rad)\n",
    "    \"\"\"\n",
    "    \n",
    "    # modulator\n",
    "    slab = make_waveguide(\n",
    "        x0=x0, \n",
    "        y0=y0, \n",
    "        z0=z0, \n",
    "        x1=x1, \n",
    "        y1=y1, \n",
    "        wg_width_0=slab_width, \n",
    "        wg_width_1=slab_width, \n",
    "        wg_thickness=slab_thickness,\n",
    "        medium=medium,\n",
    "        sidewall_angle=sidewall_angle,\n",
    "    )\n",
    "    \n",
    "    core = make_waveguide(\n",
    "        x0=x0, \n",
    "        y0=y0, \n",
    "        z0=z0, \n",
    "        x1=x1, \n",
    "        y1=y1, \n",
    "        wg_width_0=core_width, \n",
    "        wg_width_1=core_width, \n",
    "        wg_thickness=core_thickness,\n",
    "        medium=medium,\n",
    "        sidewall_angle=sidewall_angle,\n",
    "    )\n",
    "    \n",
    "    y_side_top = y0 + (slab_width / 2 - side_width / 2)\n",
    "    y_side_bottom = y0 - (slab_width / 2 - side_width / 2)\n",
    "    \n",
    "    side_top = make_waveguide(\n",
    "        x0=x0, \n",
    "        y0=y_side_top, \n",
    "        z0=z0, \n",
    "        x1=x1, \n",
    "        y1=y_side_top,\n",
    "        wg_width_0=side_width, \n",
    "        wg_width_1=side_width, \n",
    "        wg_thickness=side_thickness, \n",
    "        medium=medium,\n",
    "        sidewall_angle=sidewall_angle,\n",
    "    )\n",
    "    \n",
    "    side_bottom = make_waveguide(\n",
    "        x0=x0, \n",
    "        y0=y_side_bottom, \n",
    "        z0=z0, \n",
    "        x1=x1, \n",
    "        y1=y_side_bottom,\n",
    "        wg_width_0=side_width, \n",
    "        wg_width_1=side_width, \n",
    "        wg_thickness=side_thickness, \n",
    "        medium=medium,\n",
    "        sidewall_angle=sidewall_angle,\n",
    "    )\n",
    "\n",
    "    return [core, slab, side_top, side_bottom]"
   ]
  },
  {
   "cell_type": "markdown",
   "id": "44c532f1-8735-400b-bb92-b7a40f1d79ad",
   "metadata": {},
   "source": [
    "Now we need to create necessary components. Note that we use the medium with perturbation models only for the modulator section (`pin_wg`) as the rest of the structures are assumed to be undoped."
   ]
  },
  {
   "cell_type": "code",
   "execution_count": 17,
   "id": "cdbc8475-00d5-45cd-80b2-5760090448a8",
   "metadata": {},
   "outputs": [],
   "source": [
    "# input coupler\n",
    "coupler_in = make_y_junction(\n",
    "    x0=-mzi_length / 2,\n",
    "    y0=0,\n",
    "    z0=0,\n",
    "    wg_thickness=h_core,\n",
    "    wg_spacing=wg_spacing,\n",
    "    wg_length_in=y_length_in,\n",
    "    wg_length_out=y_length_out,\n",
    "    bend_length=y_length_bend,\n",
    "    direction=1,\n",
    "    medium=si_non_perturb,\n",
    "    sidewall_angle=0,\n",
    ")\n",
    "\n",
    "# output coupler\n",
    "coupler_out = make_y_junction(\n",
    "    x0=mzi_length / 2,\n",
    "    y0=0,\n",
    "    z0=0,\n",
    "    wg_thickness=h_core,\n",
    "    wg_spacing=wg_spacing,\n",
    "    wg_length_in=y_length_in,\n",
    "    wg_length_out=y_length_out,\n",
    "    bend_length=y_length_bend,\n",
    "    direction=-1,\n",
    "    medium=si_non_perturb,\n",
    "    sidewall_angle=0,\n",
    ")\n",
    "\n",
    "# bottom arm\n",
    "bot_arm = make_waveguide(\n",
    "    x0=-mzi_length / 2, \n",
    "    y0=-wg_spacing / 2, \n",
    "    z0=0, \n",
    "    x1=mzi_length / 2, \n",
    "    y1=-wg_spacing / 2, \n",
    "    wg_width_0=w_core, \n",
    "    wg_width_1=w_core, \n",
    "    wg_thickness=h_core, \n",
    "    medium=si_non_perturb,\n",
    "    sidewall_angle=0,\n",
    ")\n",
    "\n",
    "# top arm: taper in\n",
    "taper_in = make_strip_rib_taper(\n",
    "    x0=-mzi_length / 2, \n",
    "    y0=wg_spacing / 2, \n",
    "    z0=0, \n",
    "    x1=-pin_length / 2, \n",
    "    y1=wg_spacing / 2, \n",
    "    core_width=w_core, \n",
    "    slab_width=2 * x_side, \n",
    "    core_thickness=h_core, \n",
    "    slab_thickness=h_slab, \n",
    "    medium=si_non_perturb,\n",
    "    sidewall_angle=0,\n",
    ")\n",
    "\n",
    "# top arm: PIN region\n",
    "pin_wg = make_rib_waveguide(\n",
    "    x0=-pin_length / 2, \n",
    "    y0=wg_spacing / 2, \n",
    "    z0=0, \n",
    "    x1=pin_length / 2, \n",
    "    y1=wg_spacing / 2, \n",
    "    core_width=w_core, \n",
    "    slab_width=2 * x_total,\n",
    "    side_width=x_total - x_side,\n",
    "    core_thickness=h_core, \n",
    "    slab_thickness=h_slab, \n",
    "    side_thickness=h_side,\n",
    "    medium=si_perturb,\n",
    "    sidewall_angle=0,\n",
    ")\n",
    "\n",
    "\n",
    "# top arm: taper out\n",
    "taper_out = make_strip_rib_taper(\n",
    "    x0=mzi_length / 2, \n",
    "    y0=wg_spacing / 2, \n",
    "    z0=0, \n",
    "    x1=pin_length / 2, \n",
    "    y1=wg_spacing / 2, \n",
    "    core_width=w_core, \n",
    "    slab_width=2 * x_side, \n",
    "    core_thickness=h_core, \n",
    "    slab_thickness=h_slab, \n",
    "    medium=si_non_perturb,\n",
    "    sidewall_angle=0,\n",
    ")"
   ]
  },
  {
   "cell_type": "markdown",
   "id": "13606043-1cf5-4964-9c0f-fbe98b4d6117",
   "metadata": {},
   "source": [
    "Before proceeding further into creating an optic simulation, we can combine created structures into a `Scene` object for visualization purposes."
   ]
  },
  {
   "cell_type": "code",
   "execution_count": 18,
   "id": "a72ac000-fa53-4a9d-b682-1881c9e4a1a8",
   "metadata": {},
   "outputs": [
    {
     "data": {
      "image/png": "[encoded data removed]",
      "text/plain": [
       "<Figure size 1500x700 with 3 Axes>"
      ]
     },
     "metadata": {},
     "output_type": "display_data"
    }
   ],
   "source": [
    "scene = td.Scene(\n",
    "    structures=[coupler_in, coupler_out, bot_arm] + taper_in + pin_wg + taper_out, \n",
    "    medium=sio2,\n",
    ")\n",
    "\n",
    "_, ax = plt.subplots(3, 1, figsize=(15, 7))\n",
    "scene.plot(z=z_core, ax=ax[0])\n",
    "scene.plot(z=z_slab, ax=ax[1])\n",
    "scene.plot(x=0, ax=ax[2])\n",
    "\n",
    "plt.tight_layout()\n",
    "plt.show()\n"
   ]
  },
  {
   "cell_type": "markdown",
   "id": "d6a4ae46-1e84-4b2a-bbe8-8daed9d45869",
   "metadata": {},
   "source": [
    "### Optic Sources and Monitors\n",
    "Having inspected the geometry we now continue to define other components of an optic simulation. First, we define several auxiliary variables corresponding to:\n",
    "- SiO2 buffer around the circuit,\n",
    "- reduction of simulation in x direction,\n",
    "- location and size of source injection and monitor ports,\n",
    "- width of the injected pulse, and\n",
    "- frequencies at which to measure output signals."
   ]
  },
  {
   "cell_type": "code",
   "execution_count": 19,
   "id": "a98abfb7-e00d-4d01-9051-5705ce8a62c3",
   "metadata": {},
   "outputs": [],
   "source": [
    "buffer = 1\n",
    "dx = 6\n",
    "\n",
    "port_x = mzi_length / 2 + splitter_length - dx - 1\n",
    "port_y = 0\n",
    "port_z = z_core\n",
    "\n",
    "port_size = (0, 3, 2)\n",
    "\n",
    "fwidth = freq0 / 5\n",
    "freqs = np.linspace(freq0 - fwidth / 10, freq0 + fwidth / 10, 201)\n",
    "wvls = td.C_0 / freqs"
   ]
  },
  {
   "cell_type": "markdown",
   "id": "817262f8-b788-4a87-a3cf-b4beefee6e12",
   "metadata": {},
   "source": [
    "The propagation of EM pulse in the circuit is triggered by a `ModeSource`."
   ]
  },
  {
   "cell_type": "code",
   "execution_count": 20,
   "id": "53daeaf9-aa2f-44d8-aec9-166b8f50944b",
   "metadata": {},
   "outputs": [],
   "source": [
    "src = td.ModeSource(\n",
    "    center=(-port_x - 0.5, port_y, port_z), \n",
    "    size=port_size, \n",
    "    direction=\"+\", \n",
    "    mode_index=0, \n",
    "    source_time=td.GaussianPulse(freq0=freq0, fwidth=fwidth),\n",
    ")"
   ]
  },
  {
   "cell_type": "markdown",
   "id": "5e61e979-a80a-4cf2-a91d-c4a9dcc3c6a4",
   "metadata": {},
   "source": [
    "We will measure mode decompositions in the input port and two output ports. Additionally, we will sample field distribution on the horizontal plane passing through the circuit's center."
   ]
  },
  {
   "cell_type": "code",
   "execution_count": 21,
   "id": "e751a7ec-9637-418a-a486-35d19eff9d46",
   "metadata": {},
   "outputs": [],
   "source": [
    "mnt_in = td.ModeMonitor(center=(-port_x, port_y, port_z), size=port_size, freqs=freqs, mode_spec=td.ModeSpec(num_modes=3), name=\"in\")\n",
    "mnt_out = td.ModeMonitor(center=(port_x, port_y, port_z), size=port_size, freqs=freqs, mode_spec=td.ModeSpec(num_modes=3), name=\"out\")\n",
    "mnt_field = td.FieldMonitor(center=(0, 0, z_core), size=(td.inf, td.inf, 0), freqs=[freq0], name=\"field\")"
   ]
  },
  {
   "cell_type": "markdown",
   "id": "2b3d1121-8b34-47f4-a4a2-5336137d8f01",
   "metadata": {},
   "source": [
    "### Simulation Assembly"
   ]
  },
  {
   "cell_type": "code",
   "execution_count": 22,
   "id": "eaa89603-1eb7-45f9-98ab-f0b21789fd71",
   "metadata": {},
   "outputs": [],
   "source": [
    "sim_size = (scene.size[0] - 2 * dx, scene.size[1] + 2 * buffer, scene.size[2] + 2 * buffer)\n",
    "sim = td.Simulation(\n",
    "    center=scene.center,\n",
    "    size=sim_size,\n",
    "    sources=[src],\n",
    "    monitors=[mnt_in, mnt_out, mnt_field],\n",
    "    structures=scene.structures,\n",
    "    run_time=6e-11,\n",
    ")"
   ]
  },
  {
   "cell_type": "markdown",
   "id": "64919785-1b3d-452c-95e9-2f0194af9d60",
   "metadata": {},
   "source": [
    "Let us perform another visual inspection to ensure the right placement of monitors and sources."
   ]
  },
  {
   "cell_type": "code",
   "execution_count": 23,
   "id": "1d30133c-932c-4a7a-af98-30e586271dd2",
   "metadata": {},
   "outputs": [
    {
     "data": {
      "image/png": "[encoded data removed]",
      "text/plain": [
       "<Figure size 1500x700 with 2 Axes>"
      ]
     },
     "metadata": {},
     "output_type": "display_data"
    }
   ],
   "source": [
    "_, ax = plt.subplots(2, 1, figsize=(15, 7))\n",
    "sim.plot(x=sim.center[0], ax=ax[0])\n",
    "sim.plot(z=sim.center[2], ax=ax[1])\n",
    "\n",
    "plt.tight_layout()\n",
    "plt.show()"
   ]
  },
  {
   "cell_type": "markdown",
   "id": "f3574dff-8838-47c2-95b6-d77c6b24889f",
   "metadata": {},
   "source": [
    "This can also be done using a three dimensional plotting functionality."
   ]
  },
  {
   "cell_type": "code",
   "execution_count": 24,
   "id": "5922cc33-60d1-4ff4-9f76-af8b61222b7f",
   "metadata": {},
   "outputs": [
    {
     "data": {
      "text/html": [
       "\n",
       "    <iframe id=\"simulation-viewer170611691096561101\" src=https://feature-simulation-viewer.d3a9gfg7glllfq.amplifyapp.com/simulation-viewer?uuid=170611691096561101 width=\"800\" height=\"600\" allowfullscreen=\"true\"></iframe>\n",
       "    <script>\n",
       "        \n",
       "    window.postMessageToViewer170611691096561101 = event => {\n",
       "        if(event.data.type === 'viewer'&&event.data.uuid==='170611691096561101'){\n",
       "            document.getElementById('simulation-viewer170611691096561101').contentWindow.postMessage({ type: 'jupyter', uuid:'170611691096561101', value:{\"type\": \"Simulation\", \"center\": [0.0, 1.375, 0.17], \"size\": [250.0, 8.75, 2.34], \"medium\": {\"name\": null, \"frequency_range\": null, \"allow_gain\": false, \"nonlinear_spec\": null, \"modulation_spec\": null, \"heat_spec\": null, \"type\": \"Medium\", \"permittivity\": 1.0, \"conductivity\": 0.0}, \"structures\": [{\"geometry\": {\"type\": \"GeometryGroup\", \"geometries\": [{\"type\": \"PolySlab\", \"axis\": 2, \"sidewall_angle\": 0.0, \"reference_plane\": \"middle\", \"slab_bounds\": [0.0, 0.34], \"dilation\": 0.0, \"vertices\": [[-131.0, -0.25], [-123.0, -0.25], [-123.0, 0.25], [-131.0, 0.25]]}, {\"type\": \"PolySlab\", \"axis\": 2, \"sidewall_angle\": 0.0, \"reference_plane\": \"middle\", \"slab_bounds\": [0.0, 0.34], \"dilation\": 0.0, \"vertices\": [[-123.0, 0.25], [-122.83333333333333, 0.25], [-122.66666666666667, 0.3], [-122.5, 0.35], [-122.33333333333333, 0.45], [-122.16666666666667, 0.63], [-122.0, 0.7], [-121.83333333333333, 0.7], [-121.66666666666667, 0.7], [-121.5, 0.7], [-121.33333333333333, 0.655], [-121.16666666666667, 0.6], [-121.0, 0.6], [-121.0, -0.6], [-121.16666666666667, -0.6], [-121.33333333333333, -0.655], [-121.5, -0.7], [-121.66666666666667, -0.7], [-121.83333333333333, -0.7], [-122.0, -0.7], [-122.16666666666667, -0.63], [-122.33333333333333, -0.45], [-122.5, -0.35], [-122.66666666666667, -0.3], [-122.83333333333333, -0.25], [-123.0, -0.25]]}, {\"type\": \"PolySlab\", \"axis\": 2, \"sidewall_angle\": 0.0, \"reference_plane\": \"middle\", \"slab_bounds\": [0.0, 0.34], \"dilation\": 0.0, \"vertices\": [[-120.898895988045, -0.100009499409], [-120.797674913772, -0.100076034038], [-120.69631413646, -0.100256634205], [-120.594815074233, -0.100608099882], [-120.493179711114, -0.101186763611], [-120.391410595266, -0.102048250536], [-120.289510836136, -0.103247237785], [-120.187484100119, -0.104837214358], [-120.085334604285, -0.106870242746], [-119.983067107671, -0.109396723541], [-119.880686899661, -0.112465164383], [-119.778199784963, -0.116121954586], [-119.675612064754, -0.120411146882], [-119.572930513628, -0.125374247694], [-119.470162352073, -0.131050017426], [-119.367315214327, -0.137474282191], [-119.26439711159, -0.144679758438], [-119.161416390718, -0.152695891832], [-119.058381688691, -0.161548711712], [-118.955301883281, -0.171260702316], [-118.852186040509, -0.181850691843], [-118.749043359602, -0.193333760262], [-118.64588311628, -0.205721166601], [-118.542714605265, -0.219020296238], [-118.439547082979, -0.233234628512], [-118.336389711372, -0.248363724763], [-118.233251503846, -0.264403236682], [-118.130141274132, -0.281344934646], [-118.027067588919, -0.299176755546], [-117.924038724904, -0.317882869405], [-117.821062630788, -0.337443763985], [-117.718146894588, -0.357836346422], [-117.615298716489, -0.379034060873], [-117.51252488727, -0.401007021086], [-117.409831772211, -0.423722156753], [-117.307225300221, -0.447143372542], [-117.204710957829, -0.471231718662], [-117.102293787543, -0.495945571863], [-116.999978390017, -0.521240825826], [-116.897768929436, -0.547071089893], [-116.79566914141, -0.57338789518], [-116.693682342763, -0.600140907114], [-116.591811442514, -0.627278143493], [-116.490058953441, -0.654746197206], [-116.388427003606, -0.682490462742], [-116.286917347312, -0.710455365647], [-116.185531375001, -0.738584594106], [-116.084270121685, -0.766821331791], [-115.983134273541, -0.795108491135], [-115.88212417253, -0.823388946137], [-115.781239818655, -0.85160576387], [-115.68048086995, -0.87970243373], [-115.579846640241, -0.907623093499], [-115.479336094515, -0.935312751358], [-115.37894784233, -0.962717502814], [-115.278680129383, -0.989784741661], [-115.178530827611, -1.016463364003], [-115.078497424238, -1.04270396445], [-114.978577010244, -1.068459023596], [-114.878766268805, -1.093683085962], [-114.77906146431, -1.118332927647], [-114.679458432577, -1.142367713003], [-114.579952572949, -1.165749139755], [-114.480538842918, -1.188441572098], [-114.381211755957, -1.210412161406], [-114.281965383156, -1.231630954335], [-114.182793359234, -1.252070988214], [-114.083688893414, -1.271708373746], [-113.984644785511, -1.290522365188], [-113.885653447505, -1.30849541825], [-113.786706930698, -1.325613236078], [-113.687796958392, -1.341864803756], [-113.588914963897, -1.357242411795], [-113.490052133484, -1.371741669131], [-113.39119945375, -1.385361506118], [-113.292347762744, -1.398104168007], [-113.193487804046, -1.409975199324], [-113.094610282933, -1.420983419491], [-112.995705923685, -1.431140889967], [-112.896765527075, -1.44046287305], [-112.797780027081, -1.448967782415], [-112.698740545933, -1.456677125343], [-112.59963844665, -1.463615436518], [-112.500465382376, -1.469810203203], [-112.401213341911, -1.47529178153], [-112.301874691017, -1.480093303649], [-112.202442209205, -1.484250575436], [-112.102909121883, -1.487801964503], [-112.003269127873, -1.490788278294], [-111.903516422467, -1.493252632099], [-111.803645716281, -1.495240306919], [-111.703652250277, -1.496798597174], [-111.603531807387, -1.497976648383], [-111.503280721215, -1.498825285017], [-111.402895882313, -1.499396828852], [-111.302374742521, -1.49974490823], [-111.201715317812, -1.499924258757], [-111.100916190065, -1.499990516032], [-110.999988254037, -1.5], [-110.0, -1.5], [-110.0, -2.0], [-111.000011745963, -2.0], [-111.101104011955, -1.999990500591], [-111.202325086228, -1.999923965962], [-111.30368586354, -1.999743365795], [-111.405184925767, -1.999391900118], [-111.506820288886, -1.998813236389], [-111.608589404734, -1.997951749464], [-111.710489163864, -1.996752762215], [-111.812515899881, -1.995162785642], [-111.914665395715, -1.993129757254], [-112.016932892329, -1.990603276459], [-112.119313100339, -1.987534835617], [-112.221800215037, -1.983878045414], [-112.324387935246, -1.979588853118], [-112.427069486372, -1.974625752306], [-112.529837647927, -1.968949982574], [-112.632684785673, -1.962525717809], [-112.73560288841, -1.955320241562], [-112.838583609282, -1.947304108168], [-112.941618311309, -1.938451288288], [-113.044698116719, -1.928739297684], [-113.147813959491, -1.918149308157], [-113.250956640398, -1.906666239738], [-113.35411688372, -1.894278833399], [-113.457285394735, -1.880979703762], [-113.560452917021, -1.866765371488], [-113.663610288628, -1.851636275237], [-113.766748496154, -1.835596763318], [-113.869858725868, -1.818655065354], [-113.972932411081, -1.800823244454], [-114.075961275095, -1.782117130595], [-114.178937369212, -1.762556236015], [-114.281853105412, -1.742163653578], [-114.384701283511, -1.720965939127], [-114.48747511273, -1.698992978914], [-114.590168227789, -1.676277843247], [-114.692774699779, -1.652856627458], [-114.795289042171, -1.628768281338], [-114.897706212457, -1.604054428137], [-115.000021609983, -1.578759174174], [-115.102231070564, -1.552928910107], [-115.20433085859, -1.52661210482], [-115.306317657237, -1.499859092886], [-115.408188557486, -1.472721856507], [-115.509941046559, -1.445253802794], [-115.611572996394, -1.417509537258], [-115.713082652688, -1.389544634353], [-115.814468624999, -1.361415405894], [-115.915729878315, -1.333178668209], [-116.01686572646, -1.304891508865], [-116.11787582747, -1.276611053863], [-116.218760181345, -1.24839423613], [-116.319519130049, -1.22029756627], [-116.420153359759, -1.192376906501], [-116.520663905485, -1.164687248642], [-116.62105215767, -1.137282497186], [-116.721319870617, -1.110215258339], [-116.821469172389, -1.083536635997], [-116.921502575762, -1.05729603555], [-117.021422989756, -1.031540976404], [-117.121233731195, -1.006316914038], [-117.22093853569, -0.981667072353], [-117.320541567423, -0.957632286997], [-117.420047427051, -0.934250860245], [-117.519461157082, -0.911558427902], [-117.618788244043, -0.889587838594], [-117.718034616844, -0.868369045665], [-117.817206640766, -0.847929011786], [-117.916311106586, -0.828291626254], [-118.015355214489, -0.809477634812], [-118.114346552495, -0.79150458175], [-118.213293069302, -0.774386763922], [-118.312203041608, -0.758135196244], [-118.411085036103, -0.742757588205], [-118.509947866516, -0.728258330869], [-118.60880054625, -0.714638493882], [-118.707652237256, -0.701895831993], [-118.806512195954, -0.690024800676], [-118.905389717067, -0.679016580509], [-119.004294076315, -0.668859110033], [-119.103234472925, -0.65953712695], [-119.202219972919, -0.651032217585], [-119.301259454067, -0.643322874657], [-119.40036155335, -0.636384563482], [-119.499534617624, -0.630189796797], [-119.598786658089, -0.62470821847], [-119.698125308983, -0.619906696351], [-119.797557790795, -0.615749424564], [-119.897090878117, -0.612198035497], [-119.996730872127, -0.609211721706], [-120.096483577533, -0.606747367901], [-120.196354283719, -0.604759693081], [-120.296347749723, -0.603201402826], [-120.396468192613, -0.602023351617], [-120.496719278785, -0.601174714983], [-120.597104117687, -0.600603171148], [-120.697625257479, -0.60025509177], [-120.798284682187, -0.600075741243], [-120.899083809935, -0.600009483968], [-121.000023491929, -0.599999998896], [-120.999976508071, -0.100000001104], [-120.898895988045, -0.100009499409]]}, {\"type\": \"PolySlab\", \"axis\": 2, \"sidewall_angle\": 0.0, \"reference_plane\": \"middle\", \"slab_bounds\": [0.0, 0.34], \"dilation\": 0.0, \"vertices\": [[-120.899083809935, 0.600009483968], [-120.798284682187, 0.600075741243], [-120.697625257479, 0.60025509177], [-120.597104117687, 0.600603171148], [-120.496719278785, 0.601174714983], [-120.396468192613, 0.602023351617], [-120.296347749723, 0.603201402826], [-120.196354283719, 0.604759693081], [-120.096483577533, 0.606747367901], [-119.996730872127, 0.609211721706], [-119.897090878117, 0.612198035497], [-119.797557790795, 0.615749424564], [-119.698125308983, 0.619906696351], [-119.598786658089, 0.62470821847], [-119.499534617624, 0.630189796797], [-119.40036155335, 0.636384563482], [-119.301259454067, 0.643322874657], [-119.202219972919, 0.651032217585], [-119.103234472925, 0.65953712695], [-119.004294076315, 0.668859110033], [-118.905389717067, 0.679016580509], [-118.806512195954, 0.690024800676], [-118.707652237256, 0.701895831993], [-118.60880054625, 0.714638493882], [-118.509947866516, 0.728258330869], [-118.411085036103, 0.742757588205], [-118.312203041608, 0.758135196244], [-118.213293069302, 0.774386763922], [-118.114346552495, 0.79150458175], [-118.015355214489, 0.809477634812], [-117.916311106586, 0.828291626254], [-117.817206640766, 0.847929011786], [-117.718034616844, 0.868369045665], [-117.618788244043, 0.889587838594], [-117.519461157082, 0.911558427902], [-117.420047427051, 0.934250860245], [-117.320541567423, 0.957632286997], [-117.22093853569, 0.981667072353], [-117.121233731195, 1.006316914038], [-117.021422989756, 1.031540976404], [-116.921502575762, 1.05729603555], [-116.821469172389, 1.083536635997], [-116.721319870617, 1.110215258339], [-116.62105215767, 1.137282497186], [-116.520663905485, 1.164687248642], [-116.420153359759, 1.192376906501], [-116.319519130049, 1.22029756627], [-116.218760181345, 1.24839423613], [-116.11787582747, 1.276611053863], [-116.01686572646, 1.304891508865], [-115.915729878315, 1.333178668209], [-115.814468624999, 1.361415405894], [-115.713082652688, 1.389544634353], [-115.611572996394, 1.417509537258], [-115.509941046559, 1.445253802794], [-115.408188557486, 1.472721856507], [-115.306317657237, 1.499859092886], [-115.20433085859, 1.52661210482], [-115.102231070564, 1.552928910107], [-115.000021609983, 1.578759174174], [-114.897706212457, 1.604054428137], [-114.795289042171, 1.628768281338], [-114.692774699779, 1.652856627458], [-114.590168227789, 1.676277843247], [-114.48747511273, 1.698992978914], [-114.384701283511, 1.720965939127], [-114.281853105412, 1.742163653578], [-114.178937369212, 1.762556236015], [-114.075961275095, 1.782117130595], [-113.972932411081, 1.800823244454], [-113.869858725868, 1.818655065354], [-113.766748496154, 1.835596763318], [-113.663610288628, 1.851636275237], [-113.560452917021, 1.866765371488], [-113.457285394735, 1.880979703762], [-113.35411688372, 1.894278833399], [-113.250956640398, 1.906666239738], [-113.147813959491, 1.918149308157], [-113.044698116719, 1.928739297684], [-112.941618311309, 1.938451288288], [-112.838583609282, 1.947304108168], [-112.73560288841, 1.955320241562], [-112.632684785673, 1.962525717809], [-112.529837647927, 1.968949982574], [-112.427069486372, 1.974625752306], [-112.324387935246, 1.979588853118], [-112.221800215037, 1.983878045414], [-112.119313100339, 1.987534835617], [-112.016932892329, 1.990603276459], [-111.914665395715, 1.993129757254], [-111.812515899881, 1.995162785642], [-111.710489163864, 1.996752762215], [-111.608589404734, 1.997951749464], [-111.506820288886, 1.998813236389], [-111.405184925767, 1.999391900118], [-111.30368586354, 1.999743365795], [-111.202325086228, 1.999923965962], [-111.101104011955, 1.999990500591], [-111.000011745963, 2.0], [-110.0, 2.0], [-110.0, 1.5], [-110.999988254037, 1.5], [-111.100916190065, 1.499990516032], [-111.201715317812, 1.499924258757], [-111.302374742521, 1.49974490823], [-111.402895882313, 1.499396828852], [-111.503280721215, 1.498825285017], [-111.603531807387, 1.497976648383], [-111.703652250277, 1.496798597174], [-111.803645716281, 1.495240306919], [-111.903516422467, 1.493252632099], [-112.003269127873, 1.490788278294], [-112.102909121883, 1.487801964503], [-112.202442209205, 1.484250575436], [-112.301874691017, 1.480093303649], [-112.401213341911, 1.47529178153], [-112.500465382376, 1.469810203203], [-112.59963844665, 1.463615436518], [-112.698740545933, 1.456677125343], [-112.797780027081, 1.448967782415], [-112.896765527075, 1.44046287305], [-112.995705923685, 1.431140889967], [-113.094610282933, 1.420983419491], [-113.193487804046, 1.409975199324], [-113.292347762744, 1.398104168007], [-113.39119945375, 1.385361506118], [-113.490052133484, 1.371741669131], [-113.588914963897, 1.357242411795], [-113.687796958392, 1.341864803756], [-113.786706930698, 1.325613236078], [-113.885653447505, 1.30849541825], [-113.984644785511, 1.290522365188], [-114.083688893414, 1.271708373746], [-114.182793359234, 1.252070988214], [-114.281965383156, 1.231630954335], [-114.381211755957, 1.210412161406], [-114.480538842918, 1.188441572098], [-114.579952572949, 1.165749139755], [-114.679458432577, 1.142367713003], [-114.77906146431, 1.118332927647], [-114.878766268805, 1.093683085962], [-114.978577010244, 1.068459023596], [-115.078497424238, 1.04270396445], [-115.178530827611, 1.016463364003], [-115.278680129383, 0.989784741661], [-115.37894784233, 0.962717502814], [-115.479336094515, 0.935312751358], [-115.579846640241, 0.907623093499], [-115.68048086995, 0.87970243373], [-115.781239818655, 0.85160576387], [-115.88212417253, 0.823388946137], [-115.983134273541, 0.795108491135], [-116.084270121685, 0.766821331791], [-116.185531375001, 0.738584594106], [-116.286917347312, 0.710455365647], [-116.388427003606, 0.682490462742], [-116.490058953441, 0.654746197206], [-116.591811442514, 0.627278143493], [-116.693682342763, 0.600140907114], [-116.79566914141, 0.57338789518], [-116.897768929436, 0.547071089893], [-116.999978390017, 0.521240825826], [-117.102293787543, 0.495945571863], [-117.204710957829, 0.471231718662], [-117.307225300221, 0.447143372542], [-117.409831772211, 0.423722156753], [-117.51252488727, 0.401007021086], [-117.615298716489, 0.379034060873], [-117.718146894588, 0.357836346422], [-117.821062630788, 0.337443763985], [-117.924038724904, 0.317882869405], [-118.027067588919, 0.299176755546], [-118.130141274132, 0.281344934646], [-118.233251503846, 0.264403236682], [-118.336389711372, 0.248363724763], [-118.439547082979, 0.233234628512], [-118.542714605265, 0.219020296238], [-118.64588311628, 0.205721166601], [-118.749043359602, 0.193333760262], [-118.852186040509, 0.181850691843], [-118.955301883281, 0.171260702316], [-119.058381688691, 0.161548711712], [-119.161416390718, 0.152695891832], [-119.26439711159, 0.144679758438], [-119.367315214327, 0.137474282191], [-119.470162352073, 0.131050017426], [-119.572930513628, 0.125374247694], [-119.675612064754, 0.120411146882], [-119.778199784963, 0.116121954586], [-119.880686899661, 0.112465164383], [-119.983067107671, 0.109396723541], [-120.085334604285, 0.106870242746], [-120.187484100119, 0.104837214358], [-120.289510836136, 0.103247237785], [-120.391410595266, 0.102048250536], [-120.493179711114, 0.101186763611], [-120.594815074233, 0.100608099882], [-120.69631413646, 0.100256634205], [-120.797674913772, 0.100076034038], [-120.898895988045, 0.100009499409], [-120.999976508071, 0.100000001104], [-121.000023491929, 0.599999998896], [-120.899083809935, 0.600009483968]]}]}, \"name\": null, \"type\": \"Structure\", \"medium\": {\"name\": null, \"frequency_range\": null, \"allow_gain\": false, \"nonlinear_spec\": null, \"modulation_spec\": null, \"heat_spec\": null, \"type\": \"Medium\", \"permittivity\": 12.075663669334666, \"conductivity\": 0.0}}, {\"geometry\": {\"type\": \"GeometryGroup\", \"geometries\": [{\"type\": \"PolySlab\", \"axis\": 2, \"sidewall_angle\": 0.0, \"reference_plane\": \"middle\", \"slab_bounds\": [0.0, 0.34], \"dilation\": 0.0, \"vertices\": [[131.0, -0.25], [123.0, -0.25], [123.0, 0.25], [131.0, 0.25]]}, {\"type\": \"PolySlab\", \"axis\": 2, \"sidewall_angle\": 0.0, \"reference_plane\": \"middle\", \"slab_bounds\": [0.0, 0.34], \"dilation\": 0.0, \"vertices\": [[123.0, 0.25], [122.83333333333333, 0.25], [122.66666666666667, 0.3], [122.5, 0.35], [122.33333333333333, 0.45], [122.16666666666667, 0.63], [122.0, 0.7], [121.83333333333333, 0.7], [121.66666666666667, 0.7], [121.5, 0.7], [121.33333333333333, 0.655], [121.16666666666667, 0.6], [121.0, 0.6], [121.0, -0.6], [121.16666666666667, -0.6], [121.33333333333333, -0.655], [121.5, -0.7], [121.66666666666667, -0.7], [121.83333333333333, -0.7], [122.0, -0.7], [122.16666666666667, -0.63], [122.33333333333333, -0.45], [122.5, -0.35], [122.66666666666667, -0.3], [122.83333333333333, -0.25], [123.0, -0.25]]}, {\"type\": \"PolySlab\", \"axis\": 2, \"sidewall_angle\": 0.0, \"reference_plane\": \"middle\", \"slab_bounds\": [0.0, 0.34], \"dilation\": 0.0, \"vertices\": [[120.899083809935, -0.600009483968], [120.798284682188, -0.600075741243], [120.697625257479, -0.60025509177], [120.597104117687, -0.600603171148], [120.496719278785, -0.601174714983], [120.396468192613, -0.602023351617], [120.296347749723, -0.603201402826], [120.196354283719, -0.604759693081], [120.096483577533, -0.606747367901], [119.996730872127, -0.609211721706], [119.897090878117, -0.612198035497], [119.797557790795, -0.615749424564], [119.698125308983, -0.619906696351], [119.598786658089, -0.62470821847], [119.499534617624, -0.630189796797], [119.40036155335, -0.636384563482], [119.301259454067, -0.643322874657], [119.202219972919, -0.651032217585], [119.103234472925, -0.65953712695], [119.004294076315, -0.668859110033], [118.905389717067, -0.679016580509], [118.806512195954, -0.690024800676], [118.707652237256, -0.701895831993], [118.60880054625, -0.714638493882], [118.509947866516, -0.728258330869], [118.411085036103, -0.742757588205], [118.312203041608, -0.758135196244], [118.213293069302, -0.774386763922], [118.114346552495, -0.79150458175], [118.015355214489, -0.809477634812], [117.916311106586, -0.828291626254], [117.817206640766, -0.847929011786], [117.718034616844, -0.868369045665], [117.618788244043, -0.889587838594], [117.519461157082, -0.911558427902], [117.420047427051, -0.934250860245], [117.320541567423, -0.957632286997], [117.22093853569, -0.981667072353], [117.121233731195, -1.006316914038], [117.021422989756, -1.031540976404], [116.921502575762, -1.05729603555], [116.821469172389, -1.083536635997], [116.721319870617, -1.110215258339], [116.62105215767, -1.137282497186], [116.520663905485, -1.164687248642], [116.420153359759, -1.192376906501], [116.319519130049, -1.22029756627], [116.218760181345, -1.24839423613], [116.11787582747, -1.276611053863], [116.01686572646, -1.304891508865], [115.915729878315, -1.333178668209], [115.814468624999, -1.361415405894], [115.713082652688, -1.389544634353], [115.611572996394, -1.417509537258], [115.509941046559, -1.445253802794], [115.408188557486, -1.472721856507], [115.306317657237, -1.499859092886], [115.20433085859, -1.52661210482], [115.102231070564, -1.552928910107], [115.000021609983, -1.578759174174], [114.897706212457, -1.604054428137], [114.795289042171, -1.628768281338], [114.692774699779, -1.652856627458], [114.590168227789, -1.676277843247], [114.48747511273, -1.698992978914], [114.384701283511, -1.720965939127], [114.281853105412, -1.742163653578], [114.178937369212, -1.762556236015], [114.075961275096, -1.782117130595], [113.972932411081, -1.800823244454], [113.869858725868, -1.818655065354], [113.766748496154, -1.835596763318], [113.663610288628, -1.851636275237], [113.560452917021, -1.866765371488], [113.457285394735, -1.880979703762], [113.35411688372, -1.894278833399], [113.250956640398, -1.906666239738], [113.147813959491, -1.918149308157], [113.044698116719, -1.928739297684], [112.941618311309, -1.938451288288], [112.838583609282, -1.947304108168], [112.73560288841, -1.955320241562], [112.632684785673, -1.962525717809], [112.529837647927, -1.968949982574], [112.427069486372, -1.974625752306], [112.324387935246, -1.979588853118], [112.221800215037, -1.983878045414], [112.119313100339, -1.987534835617], [112.016932892329, -1.990603276459], [111.914665395715, -1.993129757254], [111.812515899881, -1.995162785642], [111.710489163864, -1.996752762215], [111.608589404734, -1.997951749464], [111.506820288886, -1.998813236389], [111.405184925767, -1.999391900118], [111.30368586354, -1.999743365795], [111.202325086228, -1.999923965962], [111.101104011955, -1.999990500591], [111.000011745963, -2.0], [110.0, -2.0], [110.0, -1.5], [110.999988254037, -1.5], [111.100916190065, -1.499990516032], [111.201715317812, -1.499924258757], [111.302374742521, -1.49974490823], [111.402895882313, -1.499396828852], [111.503280721215, -1.498825285017], [111.603531807387, -1.497976648383], [111.703652250277, -1.496798597174], [111.803645716281, -1.495240306919], [111.903516422467, -1.493252632099], [112.003269127873, -1.490788278294], [112.102909121883, -1.487801964503], [112.202442209205, -1.484250575436], [112.301874691017, -1.480093303649], [112.401213341911, -1.47529178153], [112.500465382376, -1.469810203203], [112.59963844665, -1.463615436518], [112.698740545933, -1.456677125343], [112.797780027081, -1.448967782415], [112.896765527075, -1.44046287305], [112.995705923685, -1.431140889967], [113.094610282933, -1.420983419491], [113.193487804046, -1.409975199324], [113.292347762744, -1.398104168007], [113.39119945375, -1.385361506118], [113.490052133484, -1.371741669131], [113.588914963897, -1.357242411795], [113.687796958392, -1.341864803756], [113.786706930698, -1.325613236078], [113.885653447505, -1.30849541825], [113.984644785511, -1.290522365188], [114.083688893414, -1.271708373746], [114.182793359234, -1.252070988214], [114.281965383156, -1.231630954335], [114.381211755957, -1.210412161406], [114.480538842918, -1.188441572098], [114.579952572949, -1.165749139755], [114.679458432577, -1.142367713003], [114.77906146431, -1.118332927647], [114.878766268805, -1.093683085962], [114.978577010244, -1.068459023596], [115.078497424238, -1.04270396445], [115.178530827611, -1.016463364003], [115.278680129383, -0.989784741661], [115.37894784233, -0.962717502814], [115.479336094515, -0.935312751358], [115.579846640241, -0.907623093499], [115.68048086995, -0.87970243373], [115.781239818655, -0.85160576387], [115.88212417253, -0.823388946137], [115.983134273541, -0.795108491135], [116.084270121685, -0.766821331791], [116.185531375001, -0.738584594106], [116.286917347312, -0.710455365647], [116.388427003606, -0.682490462742], [116.490058953441, -0.654746197206], [116.591811442514, -0.627278143493], [116.693682342763, -0.600140907114], [116.79566914141, -0.57338789518], [116.897768929436, -0.547071089893], [116.999978390017, -0.521240825826], [117.102293787543, -0.495945571863], [117.204710957829, -0.471231718662], [117.307225300221, -0.447143372542], [117.409831772211, -0.423722156753], [117.51252488727, -0.401007021086], [117.615298716489, -0.379034060873], [117.718146894588, -0.357836346422], [117.821062630788, -0.337443763985], [117.924038724904, -0.317882869405], [118.027067588919, -0.299176755546], [118.130141274132, -0.281344934646], [118.233251503846, -0.264403236682], [118.336389711372, -0.248363724763], [118.439547082979, -0.233234628512], [118.542714605265, -0.219020296238], [118.64588311628, -0.205721166601], [118.749043359602, -0.193333760262], [118.852186040509, -0.181850691843], [118.955301883281, -0.171260702316], [119.058381688691, -0.161548711712], [119.161416390718, -0.152695891832], [119.26439711159, -0.144679758438], [119.367315214327, -0.137474282191], [119.470162352073, -0.131050017426], [119.572930513628, -0.125374247694], [119.675612064754, -0.120411146882], [119.778199784963, -0.116121954586], [119.880686899661, -0.112465164383], [119.983067107671, -0.109396723541], [120.085334604285, -0.106870242746], [120.187484100119, -0.104837214358], [120.289510836136, -0.103247237785], [120.391410595266, -0.102048250536], [120.493179711114, -0.101186763611], [120.594815074233, -0.100608099882], [120.69631413646, -0.100256634205], [120.797674913772, -0.100076034038], [120.898895988045, -0.100009499409], [120.999976508071, -0.100000001104], [121.000023491929, -0.599999998896], [120.899083809935, -0.600009483968]]}, {\"type\": \"PolySlab\", \"axis\": 2, \"sidewall_angle\": 0.0, \"reference_plane\": \"middle\", \"slab_bounds\": [0.0, 0.34], \"dilation\": 0.0, \"vertices\": [[120.898895988045, 0.100009499409], [120.797674913772, 0.100076034038], [120.69631413646, 0.100256634205], [120.594815074233, 0.100608099882], [120.493179711114, 0.101186763611], [120.391410595266, 0.102048250536], [120.289510836136, 0.103247237785], [120.187484100119, 0.104837214358], [120.085334604285, 0.106870242746], [119.983067107671, 0.109396723541], [119.880686899661, 0.112465164383], [119.778199784963, 0.116121954586], [119.675612064754, 0.120411146882], [119.572930513628, 0.125374247694], [119.470162352073, 0.131050017426], [119.367315214327, 0.137474282191], [119.26439711159, 0.144679758438], [119.161416390718, 0.152695891832], [119.058381688691, 0.161548711712], [118.955301883281, 0.171260702316], [118.852186040509, 0.181850691843], [118.749043359602, 0.193333760262], [118.64588311628, 0.205721166601], [118.542714605265, 0.219020296238], [118.439547082979, 0.233234628512], [118.336389711372, 0.248363724763], [118.233251503846, 0.264403236682], [118.130141274132, 0.281344934646], [118.027067588919, 0.299176755546], [117.924038724904, 0.317882869405], [117.821062630788, 0.337443763985], [117.718146894588, 0.357836346422], [117.615298716489, 0.379034060873], [117.51252488727, 0.401007021086], [117.409831772211, 0.423722156753], [117.307225300221, 0.447143372542], [117.204710957829, 0.471231718662], [117.102293787543, 0.495945571863], [116.999978390017, 0.521240825826], [116.897768929436, 0.547071089893], [116.79566914141, 0.57338789518], [116.693682342763, 0.600140907114], [116.591811442514, 0.627278143493], [116.490058953441, 0.654746197206], [116.388427003606, 0.682490462742], [116.286917347312, 0.710455365647], [116.185531375001, 0.738584594106], [116.084270121685, 0.766821331791], [115.983134273541, 0.795108491135], [115.88212417253, 0.823388946137], [115.781239818655, 0.85160576387], [115.68048086995, 0.87970243373], [115.579846640241, 0.907623093499], [115.479336094515, 0.935312751358], [115.37894784233, 0.962717502814], [115.278680129383, 0.989784741661], [115.178530827611, 1.016463364003], [115.078497424238, 1.04270396445], [114.978577010244, 1.068459023596], [114.878766268805, 1.093683085962], [114.77906146431, 1.118332927647], [114.679458432577, 1.142367713003], [114.579952572949, 1.165749139755], [114.480538842918, 1.188441572098], [114.381211755957, 1.210412161406], [114.281965383156, 1.231630954335], [114.182793359234, 1.252070988214], [114.083688893414, 1.271708373746], [113.984644785511, 1.290522365188], [113.885653447505, 1.30849541825], [113.786706930698, 1.325613236078], [113.687796958392, 1.341864803756], [113.588914963897, 1.357242411795], [113.490052133484, 1.371741669131], [113.39119945375, 1.385361506118], [113.292347762744, 1.398104168007], [113.193487804046, 1.409975199324], [113.094610282933, 1.420983419491], [112.995705923685, 1.431140889967], [112.896765527075, 1.44046287305], [112.797780027081, 1.448967782415], [112.698740545933, 1.456677125343], [112.59963844665, 1.463615436518], [112.500465382376, 1.469810203203], [112.401213341911, 1.47529178153], [112.301874691017, 1.480093303649], [112.202442209205, 1.484250575436], [112.102909121883, 1.487801964503], [112.003269127873, 1.490788278294], [111.903516422467, 1.493252632099], [111.803645716281, 1.495240306919], [111.703652250277, 1.496798597174], [111.603531807387, 1.497976648383], [111.503280721215, 1.498825285017], [111.402895882313, 1.499396828852], [111.302374742521, 1.49974490823], [111.201715317812, 1.499924258757], [111.100916190065, 1.499990516032], [110.999988254037, 1.5], [110.0, 1.5], [110.0, 2.0], [111.000011745963, 2.0], [111.101104011955, 1.999990500591], [111.202325086228, 1.999923965962], [111.30368586354, 1.999743365795], [111.405184925767, 1.999391900118], [111.506820288886, 1.998813236389], [111.608589404734, 1.997951749464], [111.710489163864, 1.996752762215], [111.812515899881, 1.995162785642], [111.914665395715, 1.993129757254], [112.016932892329, 1.990603276459], [112.119313100339, 1.987534835617], [112.221800215037, 1.983878045414], [112.324387935246, 1.979588853118], [112.427069486372, 1.974625752306], [112.529837647927, 1.968949982574], [112.632684785673, 1.962525717809], [112.73560288841, 1.955320241562], [112.838583609282, 1.947304108168], [112.941618311309, 1.938451288288], [113.044698116719, 1.928739297684], [113.147813959491, 1.918149308157], [113.250956640398, 1.906666239738], [113.35411688372, 1.894278833399], [113.457285394735, 1.880979703762], [113.560452917021, 1.866765371488], [113.663610288628, 1.851636275237], [113.766748496154, 1.835596763318], [113.869858725868, 1.818655065354], [113.972932411081, 1.800823244454], [114.075961275096, 1.782117130595], [114.178937369212, 1.762556236015], [114.281853105412, 1.742163653578], [114.384701283511, 1.720965939127], [114.48747511273, 1.698992978914], [114.590168227789, 1.676277843247], [114.692774699779, 1.652856627458], [114.795289042171, 1.628768281338], [114.897706212457, 1.604054428137], [115.000021609983, 1.578759174174], [115.102231070564, 1.552928910107], [115.20433085859, 1.52661210482], [115.306317657237, 1.499859092886], [115.408188557486, 1.472721856507], [115.509941046559, 1.445253802794], [115.611572996394, 1.417509537258], [115.713082652688, 1.389544634353], [115.814468624999, 1.361415405894], [115.915729878315, 1.333178668209], [116.01686572646, 1.304891508865], [116.11787582747, 1.276611053863], [116.218760181345, 1.24839423613], [116.319519130049, 1.22029756627], [116.420153359759, 1.192376906501], [116.520663905485, 1.164687248642], [116.62105215767, 1.137282497186], [116.721319870617, 1.110215258339], [116.821469172389, 1.083536635997], [116.921502575762, 1.05729603555], [117.021422989756, 1.031540976404], [117.121233731195, 1.006316914038], [117.22093853569, 0.981667072353], [117.320541567423, 0.957632286997], [117.420047427051, 0.934250860245], [117.519461157082, 0.911558427902], [117.618788244043, 0.889587838594], [117.718034616844, 0.868369045665], [117.817206640766, 0.847929011786], [117.916311106586, 0.828291626254], [118.015355214489, 0.809477634812], [118.114346552495, 0.79150458175], [118.213293069302, 0.774386763922], [118.312203041608, 0.758135196244], [118.411085036103, 0.742757588205], [118.509947866516, 0.728258330869], [118.60880054625, 0.714638493882], [118.707652237256, 0.701895831993], [118.806512195954, 0.690024800676], [118.905389717067, 0.679016580509], [119.004294076315, 0.668859110033], [119.103234472925, 0.65953712695], [119.202219972919, 0.651032217585], [119.301259454067, 0.643322874657], [119.40036155335, 0.636384563482], [119.499534617624, 0.630189796797], [119.598786658089, 0.62470821847], [119.698125308983, 0.619906696351], [119.797557790795, 0.615749424564], [119.897090878117, 0.612198035497], [119.996730872127, 0.609211721706], [120.096483577533, 0.606747367901], [120.196354283719, 0.604759693081], [120.296347749723, 0.603201402826], [120.396468192613, 0.602023351617], [120.496719278785, 0.601174714983], [120.597104117687, 0.600603171148], [120.697625257479, 0.60025509177], [120.798284682188, 0.600075741243], [120.899083809935, 0.600009483968], [121.000023491929, 0.599999998896], [120.999976508071, 0.100000001104], [120.898895988045, 0.100009499409]]}]}, \"name\": null, \"type\": \"Structure\", \"medium\": {\"name\": null, \"frequency_range\": null, \"allow_gain\": false, \"nonlinear_spec\": null, \"modulation_spec\": null, \"heat_spec\": null, \"type\": \"Medium\", \"permittivity\": 12.075663669334666, \"conductivity\": 0.0}}, {\"geometry\": {\"type\": \"PolySlab\", \"axis\": 2, \"sidewall_angle\": 0.0, \"reference_plane\": \"middle\", \"slab_bounds\": [0.0, 0.34], \"dilation\": 0.0, \"vertices\": [[-55.0, -2.0], [-110.0, -2.0], [-110.0, -1.5], [-55.0, -1.5], [0.0, -1.5], [55.0, -1.5], [110.0, -1.5], [110.0, -2.0], [55.0, -2.0], [0.0, -2.0], [-55.0, -2.0]]}, \"name\": null, \"type\": \"Structure\", \"medium\": {\"name\": null, \"frequency_range\": null, \"allow_gain\": false, \"nonlinear_spec\": null, \"modulation_spec\": null, \"heat_spec\": null, \"type\": \"Medium\", \"permittivity\": 12.075663669334666, \"conductivity\": 0.0}}, {\"geometry\": {\"type\": \"PolySlab\", \"axis\": 2, \"sidewall_angle\": 0.0, \"reference_plane\": \"middle\", \"slab_bounds\": [0.0, 0.34], \"dilation\": 0.0, \"vertices\": [[-107.5, 1.5], [-110.0, 1.5], [-110.0, 2.0], [-107.5, 2.0], [-105.0, 2.0], [-102.5, 2.0], [-100.0, 2.0], [-100.0, 1.5], [-102.5, 1.5], [-105.0, 1.5], [-107.5, 1.5]]}, \"name\": null, \"type\": \"Structure\", \"medium\": {\"name\": null, \"frequency_range\": null, \"allow_gain\": false, \"nonlinear_spec\": null, \"modulation_spec\": null, \"heat_spec\": null, \"type\": \"Medium\", \"permittivity\": 12.075663669334666, \"conductivity\": 0.0}}, {\"geometry\": {\"type\": \"PolySlab\", \"axis\": 2, \"sidewall_angle\": 0.0, \"reference_plane\": \"middle\", \"slab_bounds\": [0.0, 0.1], \"dilation\": 0.0, \"vertices\": [[-107.5, 1.0], [-110.0, 1.5], [-110.0, 2.0], [-107.5, 2.5], [-105.0, 3.0], [-102.5, 3.5], [-100.0, 4.0], [-100.0, -0.5], [-102.5, 0.0], [-105.0, 0.5], [-107.5, 1.0]]}, \"name\": null, \"type\": \"Structure\", \"medium\": {\"name\": null, \"frequency_range\": null, \"allow_gain\": false, \"nonlinear_spec\": null, \"modulation_spec\": null, \"heat_spec\": null, \"type\": \"Medium\", \"permittivity\": 12.075663669334666, \"conductivity\": 0.0}}, {\"geometry\": {\"type\": \"PolySlab\", \"axis\": 2, \"sidewall_angle\": 0.0, \"reference_plane\": \"middle\", \"slab_bounds\": [0.0, 0.34], \"dilation\": 0.0, \"vertices\": [[-50.0, 1.5], [-100.0, 1.5], [-100.0, 2.0], [-50.0, 2.0], [0.0, 2.0], [50.0, 2.0], [100.0, 2.0], [100.0, 1.5], [50.0, 1.5], [0.0, 1.5], [-50.0, 1.5]]}, \"name\": null, \"type\": \"Structure\", \"medium\": {\"subpixel\": true, \"type\": \"PerturbationMedium\", \"name\": null, \"frequency_range\": null, \"allow_gain\": false, \"nonlinear_spec\": null, \"modulation_spec\": null, \"heat_spec\": null, \"permittivity\": 12.075663669334666, \"conductivity\": 0.0, \"permittivity_perturbation\": {\"heat\": null, \"charge\": {\"type\": \"CustomChargePerturbation\", \"electron_range\": [0.0, 1e+20], \"hole_range\": [0.0, 1e+20], \"perturbation_values\": \"ChargeDataArray\", \"interp_method\": \"linear\"}, \"type\": \"ParameterPerturbation\"}, \"conductivity_perturbation\": {\"heat\": null, \"charge\": {\"type\": \"CustomChargePerturbation\", \"electron_range\": [0.0, 1e+20], \"hole_range\": [0.0, 1e+20], \"perturbation_values\": \"ChargeDataArray\", \"interp_method\": \"linear\"}, \"type\": \"ParameterPerturbation\"}}}, {\"geometry\": {\"type\": \"PolySlab\", \"axis\": 2, \"sidewall_angle\": 0.0, \"reference_plane\": \"middle\", \"slab_bounds\": [0.0, 0.1], \"dilation\": 0.0, \"vertices\": [[-50.0, -1.25], [-100.0, -1.25], [-100.0, 4.75], [-50.0, 4.75], [0.0, 4.75], [50.0, 4.75], [100.0, 4.75], [100.0, -1.25], [50.0, -1.25], [0.0, -1.25], [-50.0, -1.25]]}, \"name\": null, \"type\": \"Structure\", \"medium\": {\"subpixel\": true, \"type\": \"PerturbationMedium\", \"name\": null, \"frequency_range\": null, \"allow_gain\": false, \"nonlinear_spec\": null, \"modulation_spec\": null, \"heat_spec\": null, \"permittivity\": 12.075663669334666, \"conductivity\": 0.0, \"permittivity_perturbation\": {\"heat\": null, \"charge\": {\"type\": \"CustomChargePerturbation\", \"electron_range\": [0.0, 1e+20], \"hole_range\": [0.0, 1e+20], \"perturbation_values\": \"ChargeDataArray\", \"interp_method\": \"linear\"}, \"type\": \"ParameterPerturbation\"}, \"conductivity_perturbation\": {\"heat\": null, \"charge\": {\"type\": \"CustomChargePerturbation\", \"electron_range\": [0.0, 1e+20], \"hole_range\": [0.0, 1e+20], \"perturbation_values\": \"ChargeDataArray\", \"interp_method\": \"linear\"}, \"type\": \"ParameterPerturbation\"}}}, {\"geometry\": {\"type\": \"PolySlab\", \"axis\": 2, \"sidewall_angle\": 0.0, \"reference_plane\": \"middle\", \"slab_bounds\": [0.0, 0.34], \"dilation\": 0.0, \"vertices\": [[-50.0, 4.0], [-100.0, 4.0], [-100.0, 4.75], [-50.0, 4.75], [0.0, 4.75], [50.0, 4.75], [100.0, 4.75], [100.0, 4.0], [50.0, 4.0], [0.0, 4.0], [-50.0, 4.0]]}, \"name\": null, \"type\": \"Structure\", \"medium\": {\"subpixel\": true, \"type\": \"PerturbationMedium\", \"name\": null, \"frequency_range\": null, \"allow_gain\": false, \"nonlinear_spec\": null, \"modulation_spec\": null, \"heat_spec\": null, \"permittivity\": 12.075663669334666, \"conductivity\": 0.0, \"permittivity_perturbation\": {\"heat\": null, \"charge\": {\"type\": \"CustomChargePerturbation\", \"electron_range\": [0.0, 1e+20], \"hole_range\": [0.0, 1e+20], \"perturbation_values\": \"ChargeDataArray\", \"interp_method\": \"linear\"}, \"type\": \"ParameterPerturbation\"}, \"conductivity_perturbation\": {\"heat\": null, \"charge\": {\"type\": \"CustomChargePerturbation\", \"electron_range\": [0.0, 1e+20], \"hole_range\": [0.0, 1e+20], \"perturbation_values\": \"ChargeDataArray\", \"interp_method\": \"linear\"}, \"type\": \"ParameterPerturbation\"}}}, {\"geometry\": {\"type\": \"PolySlab\", \"axis\": 2, \"sidewall_angle\": 0.0, \"reference_plane\": \"middle\", \"slab_bounds\": [0.0, 0.34], \"dilation\": 0.0, \"vertices\": [[-50.0, -1.25], [-100.0, -1.25], [-100.0, -0.5], [-50.0, -0.5], [0.0, -0.5], [50.0, -0.5], [100.0, -0.5], [100.0, -1.25], [50.0, -1.25], [0.0, -1.25], [-50.0, -1.25]]}, \"name\": null, \"type\": \"Structure\", \"medium\": {\"subpixel\": true, \"type\": \"PerturbationMedium\", \"name\": null, \"frequency_range\": null, \"allow_gain\": false, \"nonlinear_spec\": null, \"modulation_spec\": null, \"heat_spec\": null, \"permittivity\": 12.075663669334666, \"conductivity\": 0.0, \"permittivity_perturbation\": {\"heat\": null, \"charge\": {\"type\": \"CustomChargePerturbation\", \"electron_range\": [0.0, 1e+20], \"hole_range\": [0.0, 1e+20], \"perturbation_values\": \"ChargeDataArray\", \"interp_method\": \"linear\"}, \"type\": \"ParameterPerturbation\"}, \"conductivity_perturbation\": {\"heat\": null, \"charge\": {\"type\": \"CustomChargePerturbation\", \"electron_range\": [0.0, 1e+20], \"hole_range\": [0.0, 1e+20], \"perturbation_values\": \"ChargeDataArray\", \"interp_method\": \"linear\"}, \"type\": \"ParameterPerturbation\"}}}, {\"geometry\": {\"type\": \"PolySlab\", \"axis\": 2, \"sidewall_angle\": 0.0, \"reference_plane\": \"middle\", \"slab_bounds\": [0.0, 0.34], \"dilation\": 0.0, \"vertices\": [[107.5, 2.0], [110.0, 2.0], [110.0, 1.5], [107.5, 1.5], [105.0, 1.5], [102.5, 1.5], [100.0, 1.5], [100.0, 2.0], [102.5, 2.0], [105.0, 2.0], [107.5, 2.0]]}, \"name\": null, \"type\": \"Structure\", \"medium\": {\"name\": null, \"frequency_range\": null, \"allow_gain\": false, \"nonlinear_spec\": null, \"modulation_spec\": null, \"heat_spec\": null, \"type\": \"Medium\", \"permittivity\": 12.075663669334666, \"conductivity\": 0.0}}, {\"geometry\": {\"type\": \"PolySlab\", \"axis\": 2, \"sidewall_angle\": 0.0, \"reference_plane\": \"middle\", \"slab_bounds\": [0.0, 0.1], \"dilation\": 0.0, \"vertices\": [[107.5, 2.5], [110.0, 2.0], [110.0, 1.5], [107.5, 1.0], [105.0, 0.5], [102.5, 0.0], [100.0, -0.5], [100.0, 4.0], [102.5, 3.5], [105.0, 3.0], [107.5, 2.5]]}, \"name\": null, \"type\": \"Structure\", \"medium\": {\"name\": null, \"frequency_range\": null, \"allow_gain\": false, \"nonlinear_spec\": null, \"modulation_spec\": null, \"heat_spec\": null, \"type\": \"Medium\", \"permittivity\": 12.075663669334666, \"conductivity\": 0.0}}], \"symmetry\": [0, 0, 0], \"sources\": [{\"name\": null, \"type\": \"ModeSource\", \"center\": [-124.5, 0.0, 0.17], \"size\": [0.0, 3.0, 2.0], \"source_time\": {\"amplitude\": 1.0, \"phase\": 0.0, \"type\": \"GaussianPulse\", \"freq0\": 193414489032258.06, \"fwidth\": 38682897806451.61, \"offset\": 5.0, \"remove_dc_component\": true}, \"num_freqs\": 1, \"direction\": \"+\", \"mode_spec\": {\"num_modes\": 1, \"target_neff\": null, \"num_pml\": [0, 0], \"filter_pol\": null, \"angle_theta\": 0.0, \"angle_phi\": 0.0, \"precision\": \"single\", \"bend_radius\": null, \"bend_axis\": null, \"track_freq\": \"central\", \"group_index_step\": false, \"type\": \"ModeSpec\"}, \"mode_index\": 0}], \"boundary_spec\": {\"x\": {\"plus\": {\"name\": null, \"type\": \"PML\", \"num_layers\": 12, \"parameters\": {\"sigma_order\": 3, \"sigma_min\": 0.0, \"sigma_max\": 1.5, \"type\": \"PMLParams\", \"kappa_order\": 3, \"kappa_min\": 1.0, \"kappa_max\": 3.0, \"alpha_order\": 1, \"alpha_min\": 0.0, \"alpha_max\": 0.0}}, \"minus\": {\"name\": null, \"type\": \"PML\", \"num_layers\": 12, \"parameters\": {\"sigma_order\": 3, \"sigma_min\": 0.0, \"sigma_max\": 1.5, \"type\": \"PMLParams\", \"kappa_order\": 3, \"kappa_min\": 1.0, \"kappa_max\": 3.0, \"alpha_order\": 1, \"alpha_min\": 0.0, \"alpha_max\": 0.0}}, \"type\": \"Boundary\"}, \"y\": {\"plus\": {\"name\": null, \"type\": \"PML\", \"num_layers\": 12, \"parameters\": {\"sigma_order\": 3, \"sigma_min\": 0.0, \"sigma_max\": 1.5, \"type\": \"PMLParams\", \"kappa_order\": 3, \"kappa_min\": 1.0, \"kappa_max\": 3.0, \"alpha_order\": 1, \"alpha_min\": 0.0, \"alpha_max\": 0.0}}, \"minus\": {\"name\": null, \"type\": \"PML\", \"num_layers\": 12, \"parameters\": {\"sigma_order\": 3, \"sigma_min\": 0.0, \"sigma_max\": 1.5, \"type\": \"PMLParams\", \"kappa_order\": 3, \"kappa_min\": 1.0, \"kappa_max\": 3.0, \"alpha_order\": 1, \"alpha_min\": 0.0, \"alpha_max\": 0.0}}, \"type\": \"Boundary\"}, \"z\": {\"plus\": {\"name\": null, \"type\": \"PML\", \"num_layers\": 12, \"parameters\": {\"sigma_order\": 3, \"sigma_min\": 0.0, \"sigma_max\": 1.5, \"type\": \"PMLParams\", \"kappa_order\": 3, \"kappa_min\": 1.0, \"kappa_max\": 3.0, \"alpha_order\": 1, \"alpha_min\": 0.0, \"alpha_max\": 0.0}}, \"minus\": {\"name\": null, \"type\": \"PML\", \"num_layers\": 12, \"parameters\": {\"sigma_order\": 3, \"sigma_min\": 0.0, \"sigma_max\": 1.5, \"type\": \"PMLParams\", \"kappa_order\": 3, \"kappa_min\": 1.0, \"kappa_max\": 3.0, \"alpha_order\": 1, \"alpha_min\": 0.0, \"alpha_max\": 0.0}}, \"type\": \"Boundary\"}, \"type\": \"BoundarySpec\"}, \"monitors\": [{\"type\": \"ModeMonitor\", \"center\": [-124.0, 0.0, 0.17], \"size\": [0.0, 3.0, 2.0], \"name\": \"in\", \"interval_space\": [1, 1, 1], \"colocate\": false, \"freqs\": [189546199251612.9, 189584882149419.34, 189623565047225.8, 189662247945032.25, 189700930842838.72, 189739613740645.16, 189778296638451.62, 189816979536258.06, 189855662434064.53, 189894345331870.97, 189933028229677.44, 189971711127483.88, 190010394025290.3, 190049076923096.78, 190087759820903.22, 190126442718709.7, 190165125616516.12, 190203808514322.6, 190242491412129.03, 190281174309935.5, 190319857207741.94, 190358540105548.38, 190397223003354.84, 190435905901161.28, 190474588798967.75, 190513271696774.2, 190551954594580.66, 190590637492387.1, 190629320390193.56, 190668003288000.0, 190706686185806.44, 190745369083612.9, 190784051981419.34, 190822734879225.8, 190861417777032.25, 190900100674838.72, 190938783572645.16, 190977466470451.62, 191016149368258.06, 191054832266064.53, 191093515163870.97, 191132198061677.4, 191170880959483.88, 191209563857290.3, 191248246755096.78, 191286929652903.22, 191325612550709.7, 191364295448516.12, 191402978346322.6, 191441661244129.03, 191480344141935.5, 191519027039741.94, 191557709937548.38, 191596392835354.84, 191635075733161.28, 191673758630967.75, 191712441528774.2, 191751124426580.66, 191789807324387.1, 191828490222193.56, 191867173120000.0, 191905856017806.44, 191944538915612.9, 191983221813419.34, 192021904711225.8, 192060587609032.25, 192099270506838.72, 192137953404645.16, 192176636302451.62, 192215319200258.06, 192254002098064.5, 192292684995870.97, 192331367893677.4, 192370050791483.88, 192408733689290.3, 192447416587096.78, 192486099484903.22, 192524782382709.7, 192563465280516.12, 192602148178322.6, 192640831076129.03, 192679513973935.47, 192718196871741.94, 192756879769548.38, 192795562667354.84, 192834245565161.28, 192872928462967.75, 192911611360774.2, 192950294258580.66, 192988977156387.1, 193027660054193.56, 193066342952000.0, 193105025849806.44, 193143708747612.9, 193182391645419.34, 193221074543225.8, 193259757441032.25, 193298440338838.72, 193337123236645.16, 193375806134451.62, 193414489032258.06, 193453171930064.5, 193491854827870.97, 193530537725677.4, 193569220623483.88, 193607903521290.3, 193646586419096.78, 193685269316903.22, 193723952214709.7, 193762635112516.12, 193801318010322.56, 193840000908129.03, 193878683805935.47, 193917366703741.94, 193956049601548.38, 193994732499354.84, 194033415397161.28, 194072098294967.75, 194110781192774.2, 194149464090580.66, 194188146988387.1, 194226829886193.53, 194265512784000.0, 194304195681806.44, 194342878579612.9, 194381561477419.34, 194420244375225.8, 194458927273032.25, 194497610170838.72, 194536293068645.16, 194574975966451.62, 194613658864258.06, 194652341762064.5, 194691024659870.97, 194729707557677.4, 194768390455483.88, 194807073353290.3, 194845756251096.78, 194884439148903.22, 194923122046709.7, 194961804944516.12, 195000487842322.56, 195039170740129.03, 195077853637935.47, 195116536535741.94, 195155219433548.38, 195193902331354.84, 195232585229161.28, 195271268126967.75, 195309951024774.2, 195348633922580.62, 195387316820387.1, 195425999718193.53, 195464682616000.0, 195503365513806.44, 195542048411612.9, 195580731309419.34, 195619414207225.8, 195658097105032.25, 195696780002838.72, 195735462900645.16, 195774145798451.6, 195812828696258.06, 195851511594064.5, 195890194491870.97, 195928877389677.4, 195967560287483.88, 196006243185290.3, 196044926083096.78, 196083608980903.22, 196122291878709.7, 196160974776516.12, 196199657674322.56, 196238340572129.03, 196277023469935.47, 196315706367741.94, 196354389265548.38, 196393072163354.84, 196431755061161.28, 196470437958967.75, 196509120856774.2, 196547803754580.62, 196586486652387.1, 196625169550193.53, 196663852448000.0, 196702535345806.44, 196741218243612.9, 196779901141419.34, 196818584039225.8, 196857266937032.25, 196895949834838.7, 196934632732645.16, 196973315630451.6, 197011998528258.06, 197050681426064.5, 197089364323870.97, 197128047221677.4, 197166730119483.88, 197205413017290.3, 197244095915096.78, 197282778812903.22], \"apodization\": {\"start\": null, \"end\": null, \"width\": null, \"type\": \"ApodizationSpec\"}, \"mode_spec\": {\"num_modes\": 3, \"target_neff\": null, \"num_pml\": [0, 0], \"filter_pol\": null, \"angle_theta\": 0.0, \"angle_phi\": 0.0, \"precision\": \"single\", \"bend_radius\": null, \"bend_axis\": null, \"track_freq\": \"central\", \"group_index_step\": false, \"type\": \"ModeSpec\"}}, {\"type\": \"ModeMonitor\", \"center\": [124.0, 0.0, 0.17], \"size\": [0.0, 3.0, 2.0], \"name\": \"out\", \"interval_space\": [1, 1, 1], \"colocate\": false, \"freqs\": [189546199251612.9, 189584882149419.34, 189623565047225.8, 189662247945032.25, 189700930842838.72, 189739613740645.16, 189778296638451.62, 189816979536258.06, 189855662434064.53, 189894345331870.97, 189933028229677.44, 189971711127483.88, 190010394025290.3, 190049076923096.78, 190087759820903.22, 190126442718709.7, 190165125616516.12, 190203808514322.6, 190242491412129.03, 190281174309935.5, 190319857207741.94, 190358540105548.38, 190397223003354.84, 190435905901161.28, 190474588798967.75, 190513271696774.2, 190551954594580.66, 190590637492387.1, 190629320390193.56, 190668003288000.0, 190706686185806.44, 190745369083612.9, 190784051981419.34, 190822734879225.8, 190861417777032.25, 190900100674838.72, 190938783572645.16, 190977466470451.62, 191016149368258.06, 191054832266064.53, 191093515163870.97, 191132198061677.4, 191170880959483.88, 191209563857290.3, 191248246755096.78, 191286929652903.22, 191325612550709.7, 191364295448516.12, 191402978346322.6, 191441661244129.03, 191480344141935.5, 191519027039741.94, 191557709937548.38, 191596392835354.84, 191635075733161.28, 191673758630967.75, 191712441528774.2, 191751124426580.66, 191789807324387.1, 191828490222193.56, 191867173120000.0, 191905856017806.44, 191944538915612.9, 191983221813419.34, 192021904711225.8, 192060587609032.25, 192099270506838.72, 192137953404645.16, 192176636302451.62, 192215319200258.06, 192254002098064.5, 192292684995870.97, 192331367893677.4, 192370050791483.88, 192408733689290.3, 192447416587096.78, 192486099484903.22, 192524782382709.7, 192563465280516.12, 192602148178322.6, 192640831076129.03, 192679513973935.47, 192718196871741.94, 192756879769548.38, 192795562667354.84, 192834245565161.28, 192872928462967.75, 192911611360774.2, 192950294258580.66, 192988977156387.1, 193027660054193.56, 193066342952000.0, 193105025849806.44, 193143708747612.9, 193182391645419.34, 193221074543225.8, 193259757441032.25, 193298440338838.72, 193337123236645.16, 193375806134451.62, 193414489032258.06, 193453171930064.5, 193491854827870.97, 193530537725677.4, 193569220623483.88, 193607903521290.3, 193646586419096.78, 193685269316903.22, 193723952214709.7, 193762635112516.12, 193801318010322.56, 193840000908129.03, 193878683805935.47, 193917366703741.94, 193956049601548.38, 193994732499354.84, 194033415397161.28, 194072098294967.75, 194110781192774.2, 194149464090580.66, 194188146988387.1, 194226829886193.53, 194265512784000.0, 194304195681806.44, 194342878579612.9, 194381561477419.34, 194420244375225.8, 194458927273032.25, 194497610170838.72, 194536293068645.16, 194574975966451.62, 194613658864258.06, 194652341762064.5, 194691024659870.97, 194729707557677.4, 194768390455483.88, 194807073353290.3, 194845756251096.78, 194884439148903.22, 194923122046709.7, 194961804944516.12, 195000487842322.56, 195039170740129.03, 195077853637935.47, 195116536535741.94, 195155219433548.38, 195193902331354.84, 195232585229161.28, 195271268126967.75, 195309951024774.2, 195348633922580.62, 195387316820387.1, 195425999718193.53, 195464682616000.0, 195503365513806.44, 195542048411612.9, 195580731309419.34, 195619414207225.8, 195658097105032.25, 195696780002838.72, 195735462900645.16, 195774145798451.6, 195812828696258.06, 195851511594064.5, 195890194491870.97, 195928877389677.4, 195967560287483.88, 196006243185290.3, 196044926083096.78, 196083608980903.22, 196122291878709.7, 196160974776516.12, 196199657674322.56, 196238340572129.03, 196277023469935.47, 196315706367741.94, 196354389265548.38, 196393072163354.84, 196431755061161.28, 196470437958967.75, 196509120856774.2, 196547803754580.62, 196586486652387.1, 196625169550193.53, 196663852448000.0, 196702535345806.44, 196741218243612.9, 196779901141419.34, 196818584039225.8, 196857266937032.25, 196895949834838.7, 196934632732645.16, 196973315630451.6, 197011998528258.06, 197050681426064.5, 197089364323870.97, 197128047221677.4, 197166730119483.88, 197205413017290.3, 197244095915096.78, 197282778812903.22], \"apodization\": {\"start\": null, \"end\": null, \"width\": null, \"type\": \"ApodizationSpec\"}, \"mode_spec\": {\"num_modes\": 3, \"target_neff\": null, \"num_pml\": [0, 0], \"filter_pol\": null, \"angle_theta\": 0.0, \"angle_phi\": 0.0, \"precision\": \"single\", \"bend_radius\": null, \"bend_axis\": null, \"track_freq\": \"central\", \"group_index_step\": false, \"type\": \"ModeSpec\"}}, {\"type\": \"FieldMonitor\", \"center\": [0.0, 0.0, 0.17], \"size\": [\"Infinity\", \"Infinity\", 0.0], \"name\": \"field\", \"interval_space\": [1, 1, 1], \"colocate\": true, \"freqs\": [193414489032258.06], \"apodization\": {\"start\": null, \"end\": null, \"width\": null, \"type\": \"ApodizationSpec\"}, \"fields\": [\"Ex\", \"Ey\", \"Ez\", \"Hx\", \"Hy\", \"Hz\"]}], \"grid_spec\": {\"grid_x\": {\"type\": \"AutoGrid\", \"min_steps_per_wvl\": 10.0, \"max_scale\": 1.4, \"dl_min\": 0.0, \"mesher\": {\"type\": \"GradedMesher\"}}, \"grid_y\": {\"type\": \"AutoGrid\", \"min_steps_per_wvl\": 10.0, \"max_scale\": 1.4, \"dl_min\": 0.0, \"mesher\": {\"type\": \"GradedMesher\"}}, \"grid_z\": {\"type\": \"AutoGrid\", \"min_steps_per_wvl\": 10.0, \"max_scale\": 1.4, \"dl_min\": 0.0, \"mesher\": {\"type\": \"GradedMesher\"}}, \"wavelength\": null, \"override_structures\": [], \"type\": \"GridSpec\"}, \"version\": \"2.6.0rc1\", \"run_time\": 6e-11, \"shutoff\": 1e-05, \"subpixel\": true, \"normalize_index\": 0, \"courant\": 0.99}}, '*')\n",
       "        }\n",
       "    };\n",
       "    window.addEventListener(\n",
       "        'message',\n",
       "        window.postMessageToViewer170611691096561101,\n",
       "        false\n",
       "    );\n",
       "    \n",
       "    </script>\n",
       "    "
      ],
      "text/plain": [
       "<IPython.core.display.HTML object>"
      ]
     },
     "metadata": {},
     "output_type": "display_data"
    }
   ],
   "source": [
    "sim.plot_3d(width=800, height=600)"
   ]
  },
  {
   "cell_type": "markdown",
   "id": "279c2c81-6143-452a-86c9-622c8b09588c",
   "metadata": {},
   "source": [
    "### Applying Carrier Distributions\n",
    "At this point we have created an optic simulation that contains materials with charge perturbation models, however no electron and hole distributions have been provided to it. That is, when we submit such a simulation for solving, all mediums with perturbation models will be considered as regular materials with no perturbations applied. In our case, this corresponds to the case of undoped materials."
   ]
  },
  {
   "cell_type": "markdown",
   "id": "95b361a1-4836-46de-beea-c75d948ee146",
   "metadata": {},
   "source": [
    "To obtain simulations in which perturbation models are sampled against provided carrier densities one can use a convenience method `.perturbed_mediums_copy()`. In the current Tidy3D version, one must provide carrier densities in the form of Cartesian arrays. Thus, we first define a Cartesian grid to transfer carrier distributions to based on the simulation grid without perturbations."
   ]
  },
  {
   "cell_type": "code",
   "execution_count": 25,
   "id": "b9d51593-d6ca-4fdd-874b-7a93a3e620da",
   "metadata": {},
   "outputs": [],
   "source": [
    "def apply_charge(electrons_data, holes_data):\n",
    "    cs_grid = sim.discretize(box=td.Box.from_bounds(*electrons_data[0].bounds))\n",
    "    perturbed_sims = []\n",
    "    for e_data, h_data in zip(electrons_data, holes_data):\n",
    "        e_interpolated = e_data.interp(x=0, y=cs_grid.boundaries.y, z=cs_grid.boundaries.z, fill_value=0)\n",
    "        h_interpolated = h_data.interp(x=0, y=cs_grid.boundaries.y, z=cs_grid.boundaries.z, fill_value=0)\n",
    "        perturbed_sims.append(sim.perturbed_mediums_copy(electron_density=e_interpolated, hole_density=h_interpolated))\n",
    "    return perturbed_sims\n",
    "\n",
    "perturbed_sims = apply_charge(electrons_data, holes_data)"
   ]
  },
  {
   "cell_type": "markdown",
   "id": "94a3a888-717f-46d3-b95c-3ab4295bb511",
   "metadata": {},
   "source": [
    "The difference in the permittivity values in the modulator cross-section compared to the undoped case can be visualized as following."
   ]
  },
  {
   "cell_type": "code",
   "execution_count": 26,
   "id": "8dc9b2f3-c53b-4519-90cf-f8fb7f914b1f",
   "metadata": {},
   "outputs": [
    {
     "data": {
      "image/png": "[encoded data removed]",
      "text/plain": [
       "<Figure size 1000x500 with 4 Axes>"
      ]
     },
     "metadata": {},
     "output_type": "display_data"
    }
   ],
   "source": [
    "_, ax = plt.subplots(2, 1, figsize=(10, 5))\n",
    "eps_undoped = sim.epsilon(box=td.Box(center=(0, wg_spacing / 2, port_z), size=(0, 6, 2)))\n",
    "\n",
    "for ax_ind, ind in enumerate([0, 10]):\n",
    "    eps_doped = perturbed_sims[ind].epsilon(box=td.Box(center=(0, wg_spacing / 2, port_z), size=(0, 6, 2)))\n",
    "    eps_diff = np.abs(np.real(eps_doped - eps_undoped))\n",
    "    eps_diff.name = \"Permittivity change\"\n",
    "    eps_diff.plot(x=\"y\", ax=ax[ax_ind])\n",
    "    ax[ax_ind].set_aspect(\"equal\")\n",
    "    ax[ax_ind].set_title(f\"Bias: {voltages[ind]:1.1f} V\")\n",
    "    ax[ax_ind].set_xlabel(\"y (um)\")\n",
    "    ax[ax_ind].set_ylabel(\"z (um)\")\n",
    "\n",
    "plt.tight_layout()\n",
    "plt.show()"
   ]
  },
  {
   "cell_type": "markdown",
   "id": "633f182d-c9f9-452e-8b93-ec09f8c55beb",
   "metadata": {},
   "source": [
    "### Waveguide Mode Analysis\n",
    "\n",
    "before proceeding to full-wave simulations one can investigate the influence of applied voltage on the propagation index of waveguide modes in the modulator."
   ]
  },
  {
   "cell_type": "code",
   "execution_count": 27,
   "id": "d05b24db-4424-4847-abf4-f621ec84aa95",
   "metadata": {},
   "outputs": [],
   "source": [
    "from tidy3d.plugins.mode import ModeSolver\n",
    "from tidy3d.plugins.mode.web import run as run_mode"
   ]
  },
  {
   "cell_type": "markdown",
   "id": "b85989be-efd2-48c0-adf2-7d02f51770f3",
   "metadata": {},
   "source": [
    "Let us define a plane for which waveguide modes will be calculated."
   ]
  },
  {
   "cell_type": "code",
   "execution_count": 28,
   "id": "0f8597fa-7503-4228-bf91-2bb07b7cc7dd",
   "metadata": {},
   "outputs": [
    {
     "data": {
      "image/png": "[encoded data removed]",
      "text/plain": [
       "<Figure size 640x480 with 1 Axes>"
      ]
     },
     "metadata": {},
     "output_type": "display_data"
    }
   ],
   "source": [
    "mode_plane = td.Box(center=(0, wg_spacing / 2, port_z), size=port_size)\n",
    "\n",
    "# visualize\n",
    "ax = sim.plot(x=mode_plane.center[0])\n",
    "mode_plane.plot(x=mode_plane.center[0], ax=ax, alpha=0.5)\n",
    "plt.show()"
   ]
  },
  {
   "cell_type": "markdown",
   "id": "8c1a8e73-1ba6-4622-9d66-587c49feb899",
   "metadata": {},
   "source": [
    "Create a mode solver specification for each carrier distribution. We will consider only the first mode at 11 different frequencies. Also, given that the anticipated changes are small, double precision is turned on for mode solving."
   ]
  },
  {
   "cell_type": "code",
   "execution_count": 29,
   "id": "cc0ca9d9-a43f-40d7-aeb6-4f5f55bc82f8",
   "metadata": {},
   "outputs": [],
   "source": [
    "mode_solvers = []\n",
    "for psim in perturbed_sims:\n",
    "    ms = ModeSolver(\n",
    "        simulation=psim,\n",
    "        plane=mode_plane,\n",
    "        freqs=np.linspace(freqs[0], freqs[-1], 11),\n",
    "        mode_spec=td.ModeSpec(num_modes=1, precision=\"double\"),\n",
    "    )\n",
    "    mode_solvers.append(ms)"
   ]
  },
  {
   "cell_type": "markdown",
   "id": "02ec93af-bcae-4e1c-b8cf-e7651ddaf930",
   "metadata": {},
   "source": [
    "Perform calculation on our servers. Note that since the associated simulation objects contain custom medium data, they are automatically reduced to the mode solver plane for optimizing uploading/downloading data. Setting `reduce_simulation=True` will silence the associated warning."
   ]
  },
  {
   "cell_type": "code",
   "execution_count": 30,
   "id": "dd7efd06-135c-49da-9902-e39d6a8b5702",
   "metadata": {},
   "outputs": [
    {
     "data": {
      "text/html": [
       "<pre style=\"white-space:pre;overflow-x:auto;line-height:normal;font-family:Menlo,'DejaVu Sans Mono',consolas,'Courier New',monospace\"><span style=\"color: #7fbfbf; text-decoration-color: #7fbfbf\">11:21:53 CST </span><span style=\"color: #800000; text-decoration-color: #800000\">WARNING: The associated `Simulation` object contains custom        </span>\n",
       "<span style=\"color: #7fbfbf; text-decoration-color: #7fbfbf\">             </span><span style=\"color: #800000; text-decoration-color: #800000\">mediums. It will be automatically restricted to the mode solver    </span>\n",
       "<span style=\"color: #7fbfbf; text-decoration-color: #7fbfbf\">             </span><span style=\"color: #800000; text-decoration-color: #800000\">plane to reduce data for uploading. To force uploading the original</span>\n",
       "<span style=\"color: #7fbfbf; text-decoration-color: #7fbfbf\">             </span><span style=\"color: #800000; text-decoration-color: #800000\">`Simulation` object use `</span><span style=\"color: #808000; text-decoration-color: #808000\">reduce_simulation</span><span style=\"color: #800000; text-decoration-color: #800000\">=</span><span style=\"color: #ff0000; text-decoration-color: #ff0000; font-style: italic\">False</span><span style=\"color: #800000; text-decoration-color: #800000\">`. Setting         </span>\n",
       "<span style=\"color: #7fbfbf; text-decoration-color: #7fbfbf\">             </span><span style=\"color: #800000; text-decoration-color: #800000\">`</span><span style=\"color: #808000; text-decoration-color: #808000\">reduce_simulation</span><span style=\"color: #800000; text-decoration-color: #800000\">=</span><span style=\"color: #00ff00; text-decoration-color: #00ff00; font-style: italic\">True</span><span style=\"color: #800000; text-decoration-color: #800000\">` will force simulation reduction in all    </span>\n",
       "<span style=\"color: #7fbfbf; text-decoration-color: #7fbfbf\">             </span><span style=\"color: #800000; text-decoration-color: #800000\">cases and silence this warning.                                    </span>\n",
       "</pre>\n"
      ],
      "text/plain": [
       "\u001b[2;36m11:21:53 CST\u001b[0m\u001b[2;36m \u001b[0m\u001b[31mWARNING: The associated `Simulation` object contains custom        \u001b[0m\n",
       "\u001b[2;36m             \u001b[0m\u001b[31mmediums. It will be automatically restricted to the mode solver    \u001b[0m\n",
       "\u001b[2;36m             \u001b[0m\u001b[31mplane to reduce data for uploading. To force uploading the original\u001b[0m\n",
       "\u001b[2;36m             \u001b[0m\u001b[31m`Simulation` object use `\u001b[0m\u001b[33mreduce_simulation\u001b[0m\u001b[31m=\u001b[0m\u001b[3;91mFalse\u001b[0m\u001b[31m`. Setting         \u001b[0m\n",
       "\u001b[2;36m             \u001b[0m\u001b[31m`\u001b[0m\u001b[33mreduce_simulation\u001b[0m\u001b[31m=\u001b[0m\u001b[3;92mTrue\u001b[0m\u001b[31m` will force simulation reduction in all    \u001b[0m\n",
       "\u001b[2;36m             \u001b[0m\u001b[31mcases and silence this warning.                                    \u001b[0m\n"
      ]
     },
     "metadata": {},
     "output_type": "display_data"
    },
    {
     "data": {
      "text/html": [
       "<pre style=\"white-space:pre;overflow-x:auto;line-height:normal;font-family:Menlo,'DejaVu Sans Mono',consolas,'Courier New',monospace\"><span style=\"color: #7fbfbf; text-decoration-color: #7fbfbf\">11:21:54 CST </span>Mode solver created with                                           \n",
       "<span style=\"color: #7fbfbf; text-decoration-color: #7fbfbf\">             </span><span style=\"color: #808000; text-decoration-color: #808000\">task_id</span>=<span style=\"color: #008000; text-decoration-color: #008000\">'fdve-45b00d27-6fbc-443f-a372-5926334a813c'</span>,               \n",
       "<span style=\"color: #7fbfbf; text-decoration-color: #7fbfbf\">             </span><span style=\"color: #808000; text-decoration-color: #808000\">solver_id</span>=<span style=\"color: #008000; text-decoration-color: #008000\">'mo-52199f2c-6215-4c34-b8df-8b12a7e12f7c'</span>.               \n",
       "</pre>\n"
      ],
      "text/plain": [
       "\u001b[2;36m11:21:54 CST\u001b[0m\u001b[2;36m \u001b[0mMode solver created with                                           \n",
       "\u001b[2;36m             \u001b[0m\u001b[33mtask_id\u001b[0m=\u001b[32m'fdve-45b00d27-6fbc-443f-a372-5926334a813c'\u001b[0m,               \n",
       "\u001b[2;36m             \u001b[0m\u001b[33msolver_id\u001b[0m=\u001b[32m'mo-52199f2c-6215-4c34-b8df-8b12a7e12f7c'\u001b[0m.               \n"
      ]
     },
     "metadata": {},
     "output_type": "display_data"
    },
    {
     "data": {
      "application/vnd.jupyter.widget-view+json": {
       "model_id": "d0f1587d9ac04122b72e4796e9c7a9b8",
       "version_major": 2,
       "version_minor": 0
      },
      "text/plain": [
       "Output()"
      ]
     },
     "metadata": {},
     "output_type": "display_data"
    },
    {
     "data": {
      "text/html": [
       "<pre style=\"white-space:pre;overflow-x:auto;line-height:normal;font-family:Menlo,'DejaVu Sans Mono',consolas,'Courier New',monospace\"></pre>\n"
      ],
      "text/plain": []
     },
     "metadata": {},
     "output_type": "display_data"
    },
    {
     "data": {
      "text/html": [
       "<pre style=\"white-space:pre;overflow-x:auto;line-height:normal;font-family:Menlo,'DejaVu Sans Mono',consolas,'Courier New',monospace\">\n",
       "</pre>\n"
      ],
      "text/plain": [
       "\n"
      ]
     },
     "metadata": {},
     "output_type": "display_data"
    },
    {
     "data": {
      "application/vnd.jupyter.widget-view+json": {
       "model_id": "8f4198d3904f4f83804c446a58f78013",
       "version_major": 2,
       "version_minor": 0
      },
      "text/plain": [
       "Output()"
      ]
     },
     "metadata": {},
     "output_type": "display_data"
    },
    {
     "data": {
      "text/html": [
       "<pre style=\"white-space:pre;overflow-x:auto;line-height:normal;font-family:Menlo,'DejaVu Sans Mono',consolas,'Courier New',monospace\"></pre>\n"
      ],
      "text/plain": []
     },
     "metadata": {},
     "output_type": "display_data"
    },
    {
     "data": {
      "text/html": [
       "<pre style=\"white-space:pre;overflow-x:auto;line-height:normal;font-family:Menlo,'DejaVu Sans Mono',consolas,'Courier New',monospace\">\n",
       "</pre>\n"
      ],
      "text/plain": [
       "\n"
      ]
     },
     "metadata": {},
     "output_type": "display_data"
    },
    {
     "data": {
      "text/html": [
       "<pre style=\"white-space:pre;overflow-x:auto;line-height:normal;font-family:Menlo,'DejaVu Sans Mono',consolas,'Courier New',monospace\"><span style=\"color: #7fbfbf; text-decoration-color: #7fbfbf\">11:21:57 CST </span>Mode solver status: queued                                         \n",
       "</pre>\n"
      ],
      "text/plain": [
       "\u001b[2;36m11:21:57 CST\u001b[0m\u001b[2;36m \u001b[0mMode solver status: queued                                         \n"
      ]
     },
     "metadata": {},
     "output_type": "display_data"
    },
    {
     "data": {
      "text/html": [
       "<pre style=\"white-space:pre;overflow-x:auto;line-height:normal;font-family:Menlo,'DejaVu Sans Mono',consolas,'Courier New',monospace\"><span style=\"color: #7fbfbf; text-decoration-color: #7fbfbf\">11:22:15 CST </span>Mode solver status: running                                        \n",
       "</pre>\n"
      ],
      "text/plain": [
       "\u001b[2;36m11:22:15 CST\u001b[0m\u001b[2;36m \u001b[0mMode solver status: running                                        \n"
      ]
     },
     "metadata": {},
     "output_type": "display_data"
    },
    {
     "data": {
      "text/html": [
       "<pre style=\"white-space:pre;overflow-x:auto;line-height:normal;font-family:Menlo,'DejaVu Sans Mono',consolas,'Courier New',monospace\"><span style=\"color: #7fbfbf; text-decoration-color: #7fbfbf\">11:22:31 CST </span>Mode solver status: success                                        \n",
       "</pre>\n"
      ],
      "text/plain": [
       "\u001b[2;36m11:22:31 CST\u001b[0m\u001b[2;36m \u001b[0mMode solver status: success                                        \n"
      ]
     },
     "metadata": {},
     "output_type": "display_data"
    },
    {
     "data": {
      "application/vnd.jupyter.widget-view+json": {
       "model_id": "3a2b019e19794ac79130425cad53eb3b",
       "version_major": 2,
       "version_minor": 0
      },
      "text/plain": [
       "Output()"
      ]
     },
     "metadata": {},
     "output_type": "display_data"
    },
    {
     "data": {
      "text/html": [
       "<pre style=\"white-space:pre;overflow-x:auto;line-height:normal;font-family:Menlo,'DejaVu Sans Mono',consolas,'Courier New',monospace\"></pre>\n"
      ],
      "text/plain": []
     },
     "metadata": {},
     "output_type": "display_data"
    },
    {
     "data": {
      "text/html": [
       "<pre style=\"white-space:pre;overflow-x:auto;line-height:normal;font-family:Menlo,'DejaVu Sans Mono',consolas,'Courier New',monospace\">\n",
       "</pre>\n"
      ],
      "text/plain": [
       "\n"
      ]
     },
     "metadata": {},
     "output_type": "display_data"
    },
    {
     "data": {
      "text/html": [
       "<pre style=\"white-space:pre;overflow-x:auto;line-height:normal;font-family:Menlo,'DejaVu Sans Mono',consolas,'Courier New',monospace\"><span style=\"color: #7fbfbf; text-decoration-color: #7fbfbf\">11:22:33 CST </span><span style=\"color: #800000; text-decoration-color: #800000\">WARNING: The associated `Simulation` object contains custom        </span>\n",
       "<span style=\"color: #7fbfbf; text-decoration-color: #7fbfbf\">             </span><span style=\"color: #800000; text-decoration-color: #800000\">mediums. It will be automatically restricted to the mode solver    </span>\n",
       "<span style=\"color: #7fbfbf; text-decoration-color: #7fbfbf\">             </span><span style=\"color: #800000; text-decoration-color: #800000\">plane to reduce data for uploading. To force uploading the original</span>\n",
       "<span style=\"color: #7fbfbf; text-decoration-color: #7fbfbf\">             </span><span style=\"color: #800000; text-decoration-color: #800000\">`Simulation` object use `</span><span style=\"color: #808000; text-decoration-color: #808000\">reduce_simulation</span><span style=\"color: #800000; text-decoration-color: #800000\">=</span><span style=\"color: #ff0000; text-decoration-color: #ff0000; font-style: italic\">False</span><span style=\"color: #800000; text-decoration-color: #800000\">`. Setting         </span>\n",
       "<span style=\"color: #7fbfbf; text-decoration-color: #7fbfbf\">             </span><span style=\"color: #800000; text-decoration-color: #800000\">`</span><span style=\"color: #808000; text-decoration-color: #808000\">reduce_simulation</span><span style=\"color: #800000; text-decoration-color: #800000\">=</span><span style=\"color: #00ff00; text-decoration-color: #00ff00; font-style: italic\">True</span><span style=\"color: #800000; text-decoration-color: #800000\">` will force simulation reduction in all    </span>\n",
       "<span style=\"color: #7fbfbf; text-decoration-color: #7fbfbf\">             </span><span style=\"color: #800000; text-decoration-color: #800000\">cases and silence this warning.                                    </span>\n",
       "</pre>\n"
      ],
      "text/plain": [
       "\u001b[2;36m11:22:33 CST\u001b[0m\u001b[2;36m \u001b[0m\u001b[31mWARNING: The associated `Simulation` object contains custom        \u001b[0m\n",
       "\u001b[2;36m             \u001b[0m\u001b[31mmediums. It will be automatically restricted to the mode solver    \u001b[0m\n",
       "\u001b[2;36m             \u001b[0m\u001b[31mplane to reduce data for uploading. To force uploading the original\u001b[0m\n",
       "\u001b[2;36m             \u001b[0m\u001b[31m`Simulation` object use `\u001b[0m\u001b[33mreduce_simulation\u001b[0m\u001b[31m=\u001b[0m\u001b[3;91mFalse\u001b[0m\u001b[31m`. Setting         \u001b[0m\n",
       "\u001b[2;36m             \u001b[0m\u001b[31m`\u001b[0m\u001b[33mreduce_simulation\u001b[0m\u001b[31m=\u001b[0m\u001b[3;92mTrue\u001b[0m\u001b[31m` will force simulation reduction in all    \u001b[0m\n",
       "\u001b[2;36m             \u001b[0m\u001b[31mcases and silence this warning.                                    \u001b[0m\n"
      ]
     },
     "metadata": {},
     "output_type": "display_data"
    },
    {
     "data": {
      "text/html": [
       "<pre style=\"white-space:pre;overflow-x:auto;line-height:normal;font-family:Menlo,'DejaVu Sans Mono',consolas,'Courier New',monospace\"><span style=\"color: #7fbfbf; text-decoration-color: #7fbfbf\">             </span>Mode solver created with                                           \n",
       "<span style=\"color: #7fbfbf; text-decoration-color: #7fbfbf\">             </span><span style=\"color: #808000; text-decoration-color: #808000\">task_id</span>=<span style=\"color: #008000; text-decoration-color: #008000\">'fdve-d8979c4f-553d-43e2-a811-0c64aa87d50e'</span>,               \n",
       "<span style=\"color: #7fbfbf; text-decoration-color: #7fbfbf\">             </span><span style=\"color: #808000; text-decoration-color: #808000\">solver_id</span>=<span style=\"color: #008000; text-decoration-color: #008000\">'mo-1259703d-47bb-4a6f-bc33-a374e86b11a4'</span>.               \n",
       "</pre>\n"
      ],
      "text/plain": [
       "\u001b[2;36m            \u001b[0m\u001b[2;36m \u001b[0mMode solver created with                                           \n",
       "\u001b[2;36m             \u001b[0m\u001b[33mtask_id\u001b[0m=\u001b[32m'fdve-d8979c4f-553d-43e2-a811-0c64aa87d50e'\u001b[0m,               \n",
       "\u001b[2;36m             \u001b[0m\u001b[33msolver_id\u001b[0m=\u001b[32m'mo-1259703d-47bb-4a6f-bc33-a374e86b11a4'\u001b[0m.               \n"
      ]
     },
     "metadata": {},
     "output_type": "display_data"
    },
    {
     "data": {
      "application/vnd.jupyter.widget-view+json": {
       "model_id": "909bf0119b4f4a1fa4095a1c9588e7ba",
       "version_major": 2,
       "version_minor": 0
      },
      "text/plain": [
       "Output()"
      ]
     },
     "metadata": {},
     "output_type": "display_data"
    },
    {
     "data": {
      "text/html": [
       "<pre style=\"white-space:pre;overflow-x:auto;line-height:normal;font-family:Menlo,'DejaVu Sans Mono',consolas,'Courier New',monospace\"></pre>\n"
      ],
      "text/plain": []
     },
     "metadata": {},
     "output_type": "display_data"
    },
    {
     "data": {
      "text/html": [
       "<pre style=\"white-space:pre;overflow-x:auto;line-height:normal;font-family:Menlo,'DejaVu Sans Mono',consolas,'Courier New',monospace\">\n",
       "</pre>\n"
      ],
      "text/plain": [
       "\n"
      ]
     },
     "metadata": {},
     "output_type": "display_data"
    },
    {
     "data": {
      "application/vnd.jupyter.widget-view+json": {
       "model_id": "b49f83e6b2454d04aa8820495d2958f8",
       "version_major": 2,
       "version_minor": 0
      },
      "text/plain": [
       "Output()"
      ]
     },
     "metadata": {},
     "output_type": "display_data"
    },
    {
     "data": {
      "text/html": [
       "<pre style=\"white-space:pre;overflow-x:auto;line-height:normal;font-family:Menlo,'DejaVu Sans Mono',consolas,'Courier New',monospace\"></pre>\n"
      ],
      "text/plain": []
     },
     "metadata": {},
     "output_type": "display_data"
    },
    {
     "data": {
      "text/html": [
       "<pre style=\"white-space:pre;overflow-x:auto;line-height:normal;font-family:Menlo,'DejaVu Sans Mono',consolas,'Courier New',monospace\">\n",
       "</pre>\n"
      ],
      "text/plain": [
       "\n"
      ]
     },
     "metadata": {},
     "output_type": "display_data"
    },
    {
     "data": {
      "text/html": [
       "<pre style=\"white-space:pre;overflow-x:auto;line-height:normal;font-family:Menlo,'DejaVu Sans Mono',consolas,'Courier New',monospace\"><span style=\"color: #7fbfbf; text-decoration-color: #7fbfbf\">11:22:36 CST </span>Mode solver status: queued                                         \n",
       "</pre>\n"
      ],
      "text/plain": [
       "\u001b[2;36m11:22:36 CST\u001b[0m\u001b[2;36m \u001b[0mMode solver status: queued                                         \n"
      ]
     },
     "metadata": {},
     "output_type": "display_data"
    },
    {
     "data": {
      "text/html": [
       "<pre style=\"white-space:pre;overflow-x:auto;line-height:normal;font-family:Menlo,'DejaVu Sans Mono',consolas,'Courier New',monospace\"><span style=\"color: #7fbfbf; text-decoration-color: #7fbfbf\">11:22:52 CST </span>Mode solver status: running                                        \n",
       "</pre>\n"
      ],
      "text/plain": [
       "\u001b[2;36m11:22:52 CST\u001b[0m\u001b[2;36m \u001b[0mMode solver status: running                                        \n"
      ]
     },
     "metadata": {},
     "output_type": "display_data"
    },
    {
     "data": {
      "text/html": [
       "<pre style=\"white-space:pre;overflow-x:auto;line-height:normal;font-family:Menlo,'DejaVu Sans Mono',consolas,'Courier New',monospace\"><span style=\"color: #7fbfbf; text-decoration-color: #7fbfbf\">11:23:03 CST </span>Mode solver status: success                                        \n",
       "</pre>\n"
      ],
      "text/plain": [
       "\u001b[2;36m11:23:03 CST\u001b[0m\u001b[2;36m \u001b[0mMode solver status: success                                        \n"
      ]
     },
     "metadata": {},
     "output_type": "display_data"
    },
    {
     "data": {
      "application/vnd.jupyter.widget-view+json": {
       "model_id": "2bb7d45dda5f4140bdb3c788556df3df",
       "version_major": 2,
       "version_minor": 0
      },
      "text/plain": [
       "Output()"
      ]
     },
     "metadata": {},
     "output_type": "display_data"
    },
    {
     "data": {
      "text/html": [
       "<pre style=\"white-space:pre;overflow-x:auto;line-height:normal;font-family:Menlo,'DejaVu Sans Mono',consolas,'Courier New',monospace\"></pre>\n"
      ],
      "text/plain": []
     },
     "metadata": {},
     "output_type": "display_data"
    },
    {
     "data": {
      "text/html": [
       "<pre style=\"white-space:pre;overflow-x:auto;line-height:normal;font-family:Menlo,'DejaVu Sans Mono',consolas,'Courier New',monospace\">\n",
       "</pre>\n"
      ],
      "text/plain": [
       "\n"
      ]
     },
     "metadata": {},
     "output_type": "display_data"
    },
    {
     "data": {
      "text/html": [
       "<pre style=\"white-space:pre;overflow-x:auto;line-height:normal;font-family:Menlo,'DejaVu Sans Mono',consolas,'Courier New',monospace\"><span style=\"color: #7fbfbf; text-decoration-color: #7fbfbf\">11:23:06 CST </span><span style=\"color: #800000; text-decoration-color: #800000\">WARNING: The associated `Simulation` object contains custom        </span>\n",
       "<span style=\"color: #7fbfbf; text-decoration-color: #7fbfbf\">             </span><span style=\"color: #800000; text-decoration-color: #800000\">mediums. It will be automatically restricted to the mode solver    </span>\n",
       "<span style=\"color: #7fbfbf; text-decoration-color: #7fbfbf\">             </span><span style=\"color: #800000; text-decoration-color: #800000\">plane to reduce data for uploading. To force uploading the original</span>\n",
       "<span style=\"color: #7fbfbf; text-decoration-color: #7fbfbf\">             </span><span style=\"color: #800000; text-decoration-color: #800000\">`Simulation` object use `</span><span style=\"color: #808000; text-decoration-color: #808000\">reduce_simulation</span><span style=\"color: #800000; text-decoration-color: #800000\">=</span><span style=\"color: #ff0000; text-decoration-color: #ff0000; font-style: italic\">False</span><span style=\"color: #800000; text-decoration-color: #800000\">`. Setting         </span>\n",
       "<span style=\"color: #7fbfbf; text-decoration-color: #7fbfbf\">             </span><span style=\"color: #800000; text-decoration-color: #800000\">`</span><span style=\"color: #808000; text-decoration-color: #808000\">reduce_simulation</span><span style=\"color: #800000; text-decoration-color: #800000\">=</span><span style=\"color: #00ff00; text-decoration-color: #00ff00; font-style: italic\">True</span><span style=\"color: #800000; text-decoration-color: #800000\">` will force simulation reduction in all    </span>\n",
       "<span style=\"color: #7fbfbf; text-decoration-color: #7fbfbf\">             </span><span style=\"color: #800000; text-decoration-color: #800000\">cases and silence this warning.                                    </span>\n",
       "</pre>\n"
      ],
      "text/plain": [
       "\u001b[2;36m11:23:06 CST\u001b[0m\u001b[2;36m \u001b[0m\u001b[31mWARNING: The associated `Simulation` object contains custom        \u001b[0m\n",
       "\u001b[2;36m             \u001b[0m\u001b[31mmediums. It will be automatically restricted to the mode solver    \u001b[0m\n",
       "\u001b[2;36m             \u001b[0m\u001b[31mplane to reduce data for uploading. To force uploading the original\u001b[0m\n",
       "\u001b[2;36m             \u001b[0m\u001b[31m`Simulation` object use `\u001b[0m\u001b[33mreduce_simulation\u001b[0m\u001b[31m=\u001b[0m\u001b[3;91mFalse\u001b[0m\u001b[31m`. Setting         \u001b[0m\n",
       "\u001b[2;36m             \u001b[0m\u001b[31m`\u001b[0m\u001b[33mreduce_simulation\u001b[0m\u001b[31m=\u001b[0m\u001b[3;92mTrue\u001b[0m\u001b[31m` will force simulation reduction in all    \u001b[0m\n",
       "\u001b[2;36m             \u001b[0m\u001b[31mcases and silence this warning.                                    \u001b[0m\n"
      ]
     },
     "metadata": {},
     "output_type": "display_data"
    },
    {
     "data": {
      "text/html": [
       "<pre style=\"white-space:pre;overflow-x:auto;line-height:normal;font-family:Menlo,'DejaVu Sans Mono',consolas,'Courier New',monospace\"><span style=\"color: #7fbfbf; text-decoration-color: #7fbfbf\">             </span>Mode solver created with                                           \n",
       "<span style=\"color: #7fbfbf; text-decoration-color: #7fbfbf\">             </span><span style=\"color: #808000; text-decoration-color: #808000\">task_id</span>=<span style=\"color: #008000; text-decoration-color: #008000\">'fdve-0916a033-d950-45e6-9411-eb33ac611724'</span>,               \n",
       "<span style=\"color: #7fbfbf; text-decoration-color: #7fbfbf\">             </span><span style=\"color: #808000; text-decoration-color: #808000\">solver_id</span>=<span style=\"color: #008000; text-decoration-color: #008000\">'mo-5cd62df5-490c-485e-a63f-5e358012e2de'</span>.               \n",
       "</pre>\n"
      ],
      "text/plain": [
       "\u001b[2;36m            \u001b[0m\u001b[2;36m \u001b[0mMode solver created with                                           \n",
       "\u001b[2;36m             \u001b[0m\u001b[33mtask_id\u001b[0m=\u001b[32m'fdve-0916a033-d950-45e6-9411-eb33ac611724'\u001b[0m,               \n",
       "\u001b[2;36m             \u001b[0m\u001b[33msolver_id\u001b[0m=\u001b[32m'mo-5cd62df5-490c-485e-a63f-5e358012e2de'\u001b[0m.               \n"
      ]
     },
     "metadata": {},
     "output_type": "display_data"
    },
    {
     "data": {
      "application/vnd.jupyter.widget-view+json": {
       "model_id": "49ed886621b44cdd864cfbc5582c447a",
       "version_major": 2,
       "version_minor": 0
      },
      "text/plain": [
       "Output()"
      ]
     },
     "metadata": {},
     "output_type": "display_data"
    },
    {
     "data": {
      "text/html": [
       "<pre style=\"white-space:pre;overflow-x:auto;line-height:normal;font-family:Menlo,'DejaVu Sans Mono',consolas,'Courier New',monospace\"></pre>\n"
      ],
      "text/plain": []
     },
     "metadata": {},
     "output_type": "display_data"
    },
    {
     "data": {
      "text/html": [
       "<pre style=\"white-space:pre;overflow-x:auto;line-height:normal;font-family:Menlo,'DejaVu Sans Mono',consolas,'Courier New',monospace\">\n",
       "</pre>\n"
      ],
      "text/plain": [
       "\n"
      ]
     },
     "metadata": {},
     "output_type": "display_data"
    },
    {
     "data": {
      "application/vnd.jupyter.widget-view+json": {
       "model_id": "b942935db222491bb6283de3305958d2",
       "version_major": 2,
       "version_minor": 0
      },
      "text/plain": [
       "Output()"
      ]
     },
     "metadata": {},
     "output_type": "display_data"
    },
    {
     "data": {
      "text/html": [
       "<pre style=\"white-space:pre;overflow-x:auto;line-height:normal;font-family:Menlo,'DejaVu Sans Mono',consolas,'Courier New',monospace\"></pre>\n"
      ],
      "text/plain": []
     },
     "metadata": {},
     "output_type": "display_data"
    },
    {
     "data": {
      "text/html": [
       "<pre style=\"white-space:pre;overflow-x:auto;line-height:normal;font-family:Menlo,'DejaVu Sans Mono',consolas,'Courier New',monospace\">\n",
       "</pre>\n"
      ],
      "text/plain": [
       "\n"
      ]
     },
     "metadata": {},
     "output_type": "display_data"
    },
    {
     "data": {
      "text/html": [
       "<pre style=\"white-space:pre;overflow-x:auto;line-height:normal;font-family:Menlo,'DejaVu Sans Mono',consolas,'Courier New',monospace\"><span style=\"color: #7fbfbf; text-decoration-color: #7fbfbf\">11:23:08 CST </span>Mode solver status: queued                                         \n",
       "</pre>\n"
      ],
      "text/plain": [
       "\u001b[2;36m11:23:08 CST\u001b[0m\u001b[2;36m \u001b[0mMode solver status: queued                                         \n"
      ]
     },
     "metadata": {},
     "output_type": "display_data"
    },
    {
     "data": {
      "text/html": [
       "<pre style=\"white-space:pre;overflow-x:auto;line-height:normal;font-family:Menlo,'DejaVu Sans Mono',consolas,'Courier New',monospace\"><span style=\"color: #7fbfbf; text-decoration-color: #7fbfbf\">11:23:23 CST </span>Mode solver status: running                                        \n",
       "</pre>\n"
      ],
      "text/plain": [
       "\u001b[2;36m11:23:23 CST\u001b[0m\u001b[2;36m \u001b[0mMode solver status: running                                        \n"
      ]
     },
     "metadata": {},
     "output_type": "display_data"
    },
    {
     "data": {
      "text/html": [
       "<pre style=\"white-space:pre;overflow-x:auto;line-height:normal;font-family:Menlo,'DejaVu Sans Mono',consolas,'Courier New',monospace\"><span style=\"color: #7fbfbf; text-decoration-color: #7fbfbf\">11:23:34 CST </span>Mode solver status: success                                        \n",
       "</pre>\n"
      ],
      "text/plain": [
       "\u001b[2;36m11:23:34 CST\u001b[0m\u001b[2;36m \u001b[0mMode solver status: success                                        \n"
      ]
     },
     "metadata": {},
     "output_type": "display_data"
    },
    {
     "data": {
      "application/vnd.jupyter.widget-view+json": {
       "model_id": "ab272c4b4081416282e76837dbc8e1ff",
       "version_major": 2,
       "version_minor": 0
      },
      "text/plain": [
       "Output()"
      ]
     },
     "metadata": {},
     "output_type": "display_data"
    },
    {
     "data": {
      "text/html": [
       "<pre style=\"white-space:pre;overflow-x:auto;line-height:normal;font-family:Menlo,'DejaVu Sans Mono',consolas,'Courier New',monospace\"></pre>\n"
      ],
      "text/plain": []
     },
     "metadata": {},
     "output_type": "display_data"
    },
    {
     "data": {
      "text/html": [
       "<pre style=\"white-space:pre;overflow-x:auto;line-height:normal;font-family:Menlo,'DejaVu Sans Mono',consolas,'Courier New',monospace\">\n",
       "</pre>\n"
      ],
      "text/plain": [
       "\n"
      ]
     },
     "metadata": {},
     "output_type": "display_data"
    },
    {
     "data": {
      "text/html": [
       "<pre style=\"white-space:pre;overflow-x:auto;line-height:normal;font-family:Menlo,'DejaVu Sans Mono',consolas,'Courier New',monospace\"><span style=\"color: #7fbfbf; text-decoration-color: #7fbfbf\">11:23:37 CST </span><span style=\"color: #800000; text-decoration-color: #800000\">WARNING: The associated `Simulation` object contains custom        </span>\n",
       "<span style=\"color: #7fbfbf; text-decoration-color: #7fbfbf\">             </span><span style=\"color: #800000; text-decoration-color: #800000\">mediums. It will be automatically restricted to the mode solver    </span>\n",
       "<span style=\"color: #7fbfbf; text-decoration-color: #7fbfbf\">             </span><span style=\"color: #800000; text-decoration-color: #800000\">plane to reduce data for uploading. To force uploading the original</span>\n",
       "<span style=\"color: #7fbfbf; text-decoration-color: #7fbfbf\">             </span><span style=\"color: #800000; text-decoration-color: #800000\">`Simulation` object use `</span><span style=\"color: #808000; text-decoration-color: #808000\">reduce_simulation</span><span style=\"color: #800000; text-decoration-color: #800000\">=</span><span style=\"color: #ff0000; text-decoration-color: #ff0000; font-style: italic\">False</span><span style=\"color: #800000; text-decoration-color: #800000\">`. Setting         </span>\n",
       "<span style=\"color: #7fbfbf; text-decoration-color: #7fbfbf\">             </span><span style=\"color: #800000; text-decoration-color: #800000\">`</span><span style=\"color: #808000; text-decoration-color: #808000\">reduce_simulation</span><span style=\"color: #800000; text-decoration-color: #800000\">=</span><span style=\"color: #00ff00; text-decoration-color: #00ff00; font-style: italic\">True</span><span style=\"color: #800000; text-decoration-color: #800000\">` will force simulation reduction in all    </span>\n",
       "<span style=\"color: #7fbfbf; text-decoration-color: #7fbfbf\">             </span><span style=\"color: #800000; text-decoration-color: #800000\">cases and silence this warning.                                    </span>\n",
       "</pre>\n"
      ],
      "text/plain": [
       "\u001b[2;36m11:23:37 CST\u001b[0m\u001b[2;36m \u001b[0m\u001b[31mWARNING: The associated `Simulation` object contains custom        \u001b[0m\n",
       "\u001b[2;36m             \u001b[0m\u001b[31mmediums. It will be automatically restricted to the mode solver    \u001b[0m\n",
       "\u001b[2;36m             \u001b[0m\u001b[31mplane to reduce data for uploading. To force uploading the original\u001b[0m\n",
       "\u001b[2;36m             \u001b[0m\u001b[31m`Simulation` object use `\u001b[0m\u001b[33mreduce_simulation\u001b[0m\u001b[31m=\u001b[0m\u001b[3;91mFalse\u001b[0m\u001b[31m`. Setting         \u001b[0m\n",
       "\u001b[2;36m             \u001b[0m\u001b[31m`\u001b[0m\u001b[33mreduce_simulation\u001b[0m\u001b[31m=\u001b[0m\u001b[3;92mTrue\u001b[0m\u001b[31m` will force simulation reduction in all    \u001b[0m\n",
       "\u001b[2;36m             \u001b[0m\u001b[31mcases and silence this warning.                                    \u001b[0m\n"
      ]
     },
     "metadata": {},
     "output_type": "display_data"
    },
    {
     "data": {
      "text/html": [
       "<pre style=\"white-space:pre;overflow-x:auto;line-height:normal;font-family:Menlo,'DejaVu Sans Mono',consolas,'Courier New',monospace\"><span style=\"color: #7fbfbf; text-decoration-color: #7fbfbf\">             </span>Mode solver created with                                           \n",
       "<span style=\"color: #7fbfbf; text-decoration-color: #7fbfbf\">             </span><span style=\"color: #808000; text-decoration-color: #808000\">task_id</span>=<span style=\"color: #008000; text-decoration-color: #008000\">'fdve-d938a83b-6677-48ad-bedb-eed4d599309b'</span>,               \n",
       "<span style=\"color: #7fbfbf; text-decoration-color: #7fbfbf\">             </span><span style=\"color: #808000; text-decoration-color: #808000\">solver_id</span>=<span style=\"color: #008000; text-decoration-color: #008000\">'mo-f21c0694-477b-4010-ac40-6da6254fa31c'</span>.               \n",
       "</pre>\n"
      ],
      "text/plain": [
       "\u001b[2;36m            \u001b[0m\u001b[2;36m \u001b[0mMode solver created with                                           \n",
       "\u001b[2;36m             \u001b[0m\u001b[33mtask_id\u001b[0m=\u001b[32m'fdve-d938a83b-6677-48ad-bedb-eed4d599309b'\u001b[0m,               \n",
       "\u001b[2;36m             \u001b[0m\u001b[33msolver_id\u001b[0m=\u001b[32m'mo-f21c0694-477b-4010-ac40-6da6254fa31c'\u001b[0m.               \n"
      ]
     },
     "metadata": {},
     "output_type": "display_data"
    },
    {
     "data": {
      "application/vnd.jupyter.widget-view+json": {
       "model_id": "0a37ddc11e864c6a9ab9c0f0ff7b9df9",
       "version_major": 2,
       "version_minor": 0
      },
      "text/plain": [
       "Output()"
      ]
     },
     "metadata": {},
     "output_type": "display_data"
    },
    {
     "data": {
      "text/html": [
       "<pre style=\"white-space:pre;overflow-x:auto;line-height:normal;font-family:Menlo,'DejaVu Sans Mono',consolas,'Courier New',monospace\"></pre>\n"
      ],
      "text/plain": []
     },
     "metadata": {},
     "output_type": "display_data"
    },
    {
     "data": {
      "text/html": [
       "<pre style=\"white-space:pre;overflow-x:auto;line-height:normal;font-family:Menlo,'DejaVu Sans Mono',consolas,'Courier New',monospace\">\n",
       "</pre>\n"
      ],
      "text/plain": [
       "\n"
      ]
     },
     "metadata": {},
     "output_type": "display_data"
    },
    {
     "data": {
      "application/vnd.jupyter.widget-view+json": {
       "model_id": "46e2726401d84545b1be27103bfc365b",
       "version_major": 2,
       "version_minor": 0
      },
      "text/plain": [
       "Output()"
      ]
     },
     "metadata": {},
     "output_type": "display_data"
    },
    {
     "data": {
      "text/html": [
       "<pre style=\"white-space:pre;overflow-x:auto;line-height:normal;font-family:Menlo,'DejaVu Sans Mono',consolas,'Courier New',monospace\"></pre>\n"
      ],
      "text/plain": []
     },
     "metadata": {},
     "output_type": "display_data"
    },
    {
     "data": {
      "text/html": [
       "<pre style=\"white-space:pre;overflow-x:auto;line-height:normal;font-family:Menlo,'DejaVu Sans Mono',consolas,'Courier New',monospace\">\n",
       "</pre>\n"
      ],
      "text/plain": [
       "\n"
      ]
     },
     "metadata": {},
     "output_type": "display_data"
    },
    {
     "data": {
      "text/html": [
       "<pre style=\"white-space:pre;overflow-x:auto;line-height:normal;font-family:Menlo,'DejaVu Sans Mono',consolas,'Courier New',monospace\"><span style=\"color: #7fbfbf; text-decoration-color: #7fbfbf\">11:23:39 CST </span>Mode solver status: queued                                         \n",
       "</pre>\n"
      ],
      "text/plain": [
       "\u001b[2;36m11:23:39 CST\u001b[0m\u001b[2;36m \u001b[0mMode solver status: queued                                         \n"
      ]
     },
     "metadata": {},
     "output_type": "display_data"
    },
    {
     "data": {
      "text/html": [
       "<pre style=\"white-space:pre;overflow-x:auto;line-height:normal;font-family:Menlo,'DejaVu Sans Mono',consolas,'Courier New',monospace\"><span style=\"color: #7fbfbf; text-decoration-color: #7fbfbf\">11:23:52 CST </span>Mode solver status: running                                        \n",
       "</pre>\n"
      ],
      "text/plain": [
       "\u001b[2;36m11:23:52 CST\u001b[0m\u001b[2;36m \u001b[0mMode solver status: running                                        \n"
      ]
     },
     "metadata": {},
     "output_type": "display_data"
    },
    {
     "data": {
      "text/html": [
       "<pre style=\"white-space:pre;overflow-x:auto;line-height:normal;font-family:Menlo,'DejaVu Sans Mono',consolas,'Courier New',monospace\"><span style=\"color: #7fbfbf; text-decoration-color: #7fbfbf\">11:24:03 CST </span>Mode solver status: success                                        \n",
       "</pre>\n"
      ],
      "text/plain": [
       "\u001b[2;36m11:24:03 CST\u001b[0m\u001b[2;36m \u001b[0mMode solver status: success                                        \n"
      ]
     },
     "metadata": {},
     "output_type": "display_data"
    },
    {
     "data": {
      "application/vnd.jupyter.widget-view+json": {
       "model_id": "21dd42a658834713bc40db687d7a8ffe",
       "version_major": 2,
       "version_minor": 0
      },
      "text/plain": [
       "Output()"
      ]
     },
     "metadata": {},
     "output_type": "display_data"
    },
    {
     "data": {
      "text/html": [
       "<pre style=\"white-space:pre;overflow-x:auto;line-height:normal;font-family:Menlo,'DejaVu Sans Mono',consolas,'Courier New',monospace\"></pre>\n"
      ],
      "text/plain": []
     },
     "metadata": {},
     "output_type": "display_data"
    },
    {
     "data": {
      "text/html": [
       "<pre style=\"white-space:pre;overflow-x:auto;line-height:normal;font-family:Menlo,'DejaVu Sans Mono',consolas,'Courier New',monospace\">\n",
       "</pre>\n"
      ],
      "text/plain": [
       "\n"
      ]
     },
     "metadata": {},
     "output_type": "display_data"
    },
    {
     "data": {
      "text/html": [
       "<pre style=\"white-space:pre;overflow-x:auto;line-height:normal;font-family:Menlo,'DejaVu Sans Mono',consolas,'Courier New',monospace\"><span style=\"color: #7fbfbf; text-decoration-color: #7fbfbf\">11:24:04 CST </span><span style=\"color: #800000; text-decoration-color: #800000\">WARNING: The associated `Simulation` object contains custom        </span>\n",
       "<span style=\"color: #7fbfbf; text-decoration-color: #7fbfbf\">             </span><span style=\"color: #800000; text-decoration-color: #800000\">mediums. It will be automatically restricted to the mode solver    </span>\n",
       "<span style=\"color: #7fbfbf; text-decoration-color: #7fbfbf\">             </span><span style=\"color: #800000; text-decoration-color: #800000\">plane to reduce data for uploading. To force uploading the original</span>\n",
       "<span style=\"color: #7fbfbf; text-decoration-color: #7fbfbf\">             </span><span style=\"color: #800000; text-decoration-color: #800000\">`Simulation` object use `</span><span style=\"color: #808000; text-decoration-color: #808000\">reduce_simulation</span><span style=\"color: #800000; text-decoration-color: #800000\">=</span><span style=\"color: #ff0000; text-decoration-color: #ff0000; font-style: italic\">False</span><span style=\"color: #800000; text-decoration-color: #800000\">`. Setting         </span>\n",
       "<span style=\"color: #7fbfbf; text-decoration-color: #7fbfbf\">             </span><span style=\"color: #800000; text-decoration-color: #800000\">`</span><span style=\"color: #808000; text-decoration-color: #808000\">reduce_simulation</span><span style=\"color: #800000; text-decoration-color: #800000\">=</span><span style=\"color: #00ff00; text-decoration-color: #00ff00; font-style: italic\">True</span><span style=\"color: #800000; text-decoration-color: #800000\">` will force simulation reduction in all    </span>\n",
       "<span style=\"color: #7fbfbf; text-decoration-color: #7fbfbf\">             </span><span style=\"color: #800000; text-decoration-color: #800000\">cases and silence this warning.                                    </span>\n",
       "</pre>\n"
      ],
      "text/plain": [
       "\u001b[2;36m11:24:04 CST\u001b[0m\u001b[2;36m \u001b[0m\u001b[31mWARNING: The associated `Simulation` object contains custom        \u001b[0m\n",
       "\u001b[2;36m             \u001b[0m\u001b[31mmediums. It will be automatically restricted to the mode solver    \u001b[0m\n",
       "\u001b[2;36m             \u001b[0m\u001b[31mplane to reduce data for uploading. To force uploading the original\u001b[0m\n",
       "\u001b[2;36m             \u001b[0m\u001b[31m`Simulation` object use `\u001b[0m\u001b[33mreduce_simulation\u001b[0m\u001b[31m=\u001b[0m\u001b[3;91mFalse\u001b[0m\u001b[31m`. Setting         \u001b[0m\n",
       "\u001b[2;36m             \u001b[0m\u001b[31m`\u001b[0m\u001b[33mreduce_simulation\u001b[0m\u001b[31m=\u001b[0m\u001b[3;92mTrue\u001b[0m\u001b[31m` will force simulation reduction in all    \u001b[0m\n",
       "\u001b[2;36m             \u001b[0m\u001b[31mcases and silence this warning.                                    \u001b[0m\n"
      ]
     },
     "metadata": {},
     "output_type": "display_data"
    },
    {
     "data": {
      "text/html": [
       "<pre style=\"white-space:pre;overflow-x:auto;line-height:normal;font-family:Menlo,'DejaVu Sans Mono',consolas,'Courier New',monospace\"><span style=\"color: #7fbfbf; text-decoration-color: #7fbfbf\">11:24:05 CST </span>Mode solver created with                                           \n",
       "<span style=\"color: #7fbfbf; text-decoration-color: #7fbfbf\">             </span><span style=\"color: #808000; text-decoration-color: #808000\">task_id</span>=<span style=\"color: #008000; text-decoration-color: #008000\">'fdve-149bb249-dd6d-4651-9ef3-2b5d0f707f15'</span>,               \n",
       "<span style=\"color: #7fbfbf; text-decoration-color: #7fbfbf\">             </span><span style=\"color: #808000; text-decoration-color: #808000\">solver_id</span>=<span style=\"color: #008000; text-decoration-color: #008000\">'mo-eba8c07e-dccf-47d4-a5c3-1bb479c747b6'</span>.               \n",
       "</pre>\n"
      ],
      "text/plain": [
       "\u001b[2;36m11:24:05 CST\u001b[0m\u001b[2;36m \u001b[0mMode solver created with                                           \n",
       "\u001b[2;36m             \u001b[0m\u001b[33mtask_id\u001b[0m=\u001b[32m'fdve-149bb249-dd6d-4651-9ef3-2b5d0f707f15'\u001b[0m,               \n",
       "\u001b[2;36m             \u001b[0m\u001b[33msolver_id\u001b[0m=\u001b[32m'mo-eba8c07e-dccf-47d4-a5c3-1bb479c747b6'\u001b[0m.               \n"
      ]
     },
     "metadata": {},
     "output_type": "display_data"
    },
    {
     "data": {
      "application/vnd.jupyter.widget-view+json": {
       "model_id": "5fc6486cf77a458f924fa56ca0e67bcd",
       "version_major": 2,
       "version_minor": 0
      },
      "text/plain": [
       "Output()"
      ]
     },
     "metadata": {},
     "output_type": "display_data"
    },
    {
     "data": {
      "text/html": [
       "<pre style=\"white-space:pre;overflow-x:auto;line-height:normal;font-family:Menlo,'DejaVu Sans Mono',consolas,'Courier New',monospace\"></pre>\n"
      ],
      "text/plain": []
     },
     "metadata": {},
     "output_type": "display_data"
    },
    {
     "data": {
      "text/html": [
       "<pre style=\"white-space:pre;overflow-x:auto;line-height:normal;font-family:Menlo,'DejaVu Sans Mono',consolas,'Courier New',monospace\">\n",
       "</pre>\n"
      ],
      "text/plain": [
       "\n"
      ]
     },
     "metadata": {},
     "output_type": "display_data"
    },
    {
     "data": {
      "application/vnd.jupyter.widget-view+json": {
       "model_id": "54b3ff860ebe4a558ee18d250b0d839c",
       "version_major": 2,
       "version_minor": 0
      },
      "text/plain": [
       "Output()"
      ]
     },
     "metadata": {},
     "output_type": "display_data"
    },
    {
     "data": {
      "text/html": [
       "<pre style=\"white-space:pre;overflow-x:auto;line-height:normal;font-family:Menlo,'DejaVu Sans Mono',consolas,'Courier New',monospace\"></pre>\n"
      ],
      "text/plain": []
     },
     "metadata": {},
     "output_type": "display_data"
    },
    {
     "data": {
      "text/html": [
       "<pre style=\"white-space:pre;overflow-x:auto;line-height:normal;font-family:Menlo,'DejaVu Sans Mono',consolas,'Courier New',monospace\">\n",
       "</pre>\n"
      ],
      "text/plain": [
       "\n"
      ]
     },
     "metadata": {},
     "output_type": "display_data"
    },
    {
     "data": {
      "text/html": [
       "<pre style=\"white-space:pre;overflow-x:auto;line-height:normal;font-family:Menlo,'DejaVu Sans Mono',consolas,'Courier New',monospace\"><span style=\"color: #7fbfbf; text-decoration-color: #7fbfbf\">11:24:07 CST </span>Mode solver status: queued                                         \n",
       "</pre>\n"
      ],
      "text/plain": [
       "\u001b[2;36m11:24:07 CST\u001b[0m\u001b[2;36m \u001b[0mMode solver status: queued                                         \n"
      ]
     },
     "metadata": {},
     "output_type": "display_data"
    },
    {
     "data": {
      "text/html": [
       "<pre style=\"white-space:pre;overflow-x:auto;line-height:normal;font-family:Menlo,'DejaVu Sans Mono',consolas,'Courier New',monospace\"><span style=\"color: #7fbfbf; text-decoration-color: #7fbfbf\">11:24:24 CST </span>Mode solver status: running                                        \n",
       "</pre>\n"
      ],
      "text/plain": [
       "\u001b[2;36m11:24:24 CST\u001b[0m\u001b[2;36m \u001b[0mMode solver status: running                                        \n"
      ]
     },
     "metadata": {},
     "output_type": "display_data"
    },
    {
     "data": {
      "text/html": [
       "<pre style=\"white-space:pre;overflow-x:auto;line-height:normal;font-family:Menlo,'DejaVu Sans Mono',consolas,'Courier New',monospace\"><span style=\"color: #7fbfbf; text-decoration-color: #7fbfbf\">11:24:36 CST </span>Mode solver status: success                                        \n",
       "</pre>\n"
      ],
      "text/plain": [
       "\u001b[2;36m11:24:36 CST\u001b[0m\u001b[2;36m \u001b[0mMode solver status: success                                        \n"
      ]
     },
     "metadata": {},
     "output_type": "display_data"
    },
    {
     "data": {
      "application/vnd.jupyter.widget-view+json": {
       "model_id": "32a684693cee4b78a3e8213565127eb1",
       "version_major": 2,
       "version_minor": 0
      },
      "text/plain": [
       "Output()"
      ]
     },
     "metadata": {},
     "output_type": "display_data"
    },
    {
     "data": {
      "text/html": [
       "<pre style=\"white-space:pre;overflow-x:auto;line-height:normal;font-family:Menlo,'DejaVu Sans Mono',consolas,'Courier New',monospace\"></pre>\n"
      ],
      "text/plain": []
     },
     "metadata": {},
     "output_type": "display_data"
    },
    {
     "data": {
      "text/html": [
       "<pre style=\"white-space:pre;overflow-x:auto;line-height:normal;font-family:Menlo,'DejaVu Sans Mono',consolas,'Courier New',monospace\">\n",
       "</pre>\n"
      ],
      "text/plain": [
       "\n"
      ]
     },
     "metadata": {},
     "output_type": "display_data"
    },
    {
     "data": {
      "text/html": [
       "<pre style=\"white-space:pre;overflow-x:auto;line-height:normal;font-family:Menlo,'DejaVu Sans Mono',consolas,'Courier New',monospace\"><span style=\"color: #7fbfbf; text-decoration-color: #7fbfbf\">11:24:37 CST </span><span style=\"color: #800000; text-decoration-color: #800000\">WARNING: The associated `Simulation` object contains custom        </span>\n",
       "<span style=\"color: #7fbfbf; text-decoration-color: #7fbfbf\">             </span><span style=\"color: #800000; text-decoration-color: #800000\">mediums. It will be automatically restricted to the mode solver    </span>\n",
       "<span style=\"color: #7fbfbf; text-decoration-color: #7fbfbf\">             </span><span style=\"color: #800000; text-decoration-color: #800000\">plane to reduce data for uploading. To force uploading the original</span>\n",
       "<span style=\"color: #7fbfbf; text-decoration-color: #7fbfbf\">             </span><span style=\"color: #800000; text-decoration-color: #800000\">`Simulation` object use `</span><span style=\"color: #808000; text-decoration-color: #808000\">reduce_simulation</span><span style=\"color: #800000; text-decoration-color: #800000\">=</span><span style=\"color: #ff0000; text-decoration-color: #ff0000; font-style: italic\">False</span><span style=\"color: #800000; text-decoration-color: #800000\">`. Setting         </span>\n",
       "<span style=\"color: #7fbfbf; text-decoration-color: #7fbfbf\">             </span><span style=\"color: #800000; text-decoration-color: #800000\">`</span><span style=\"color: #808000; text-decoration-color: #808000\">reduce_simulation</span><span style=\"color: #800000; text-decoration-color: #800000\">=</span><span style=\"color: #00ff00; text-decoration-color: #00ff00; font-style: italic\">True</span><span style=\"color: #800000; text-decoration-color: #800000\">` will force simulation reduction in all    </span>\n",
       "<span style=\"color: #7fbfbf; text-decoration-color: #7fbfbf\">             </span><span style=\"color: #800000; text-decoration-color: #800000\">cases and silence this warning.                                    </span>\n",
       "</pre>\n"
      ],
      "text/plain": [
       "\u001b[2;36m11:24:37 CST\u001b[0m\u001b[2;36m \u001b[0m\u001b[31mWARNING: The associated `Simulation` object contains custom        \u001b[0m\n",
       "\u001b[2;36m             \u001b[0m\u001b[31mmediums. It will be automatically restricted to the mode solver    \u001b[0m\n",
       "\u001b[2;36m             \u001b[0m\u001b[31mplane to reduce data for uploading. To force uploading the original\u001b[0m\n",
       "\u001b[2;36m             \u001b[0m\u001b[31m`Simulation` object use `\u001b[0m\u001b[33mreduce_simulation\u001b[0m\u001b[31m=\u001b[0m\u001b[3;91mFalse\u001b[0m\u001b[31m`. Setting         \u001b[0m\n",
       "\u001b[2;36m             \u001b[0m\u001b[31m`\u001b[0m\u001b[33mreduce_simulation\u001b[0m\u001b[31m=\u001b[0m\u001b[3;92mTrue\u001b[0m\u001b[31m` will force simulation reduction in all    \u001b[0m\n",
       "\u001b[2;36m             \u001b[0m\u001b[31mcases and silence this warning.                                    \u001b[0m\n"
      ]
     },
     "metadata": {},
     "output_type": "display_data"
    },
    {
     "data": {
      "text/html": [
       "<pre style=\"white-space:pre;overflow-x:auto;line-height:normal;font-family:Menlo,'DejaVu Sans Mono',consolas,'Courier New',monospace\"><span style=\"color: #7fbfbf; text-decoration-color: #7fbfbf\">11:24:38 CST </span>Mode solver created with                                           \n",
       "<span style=\"color: #7fbfbf; text-decoration-color: #7fbfbf\">             </span><span style=\"color: #808000; text-decoration-color: #808000\">task_id</span>=<span style=\"color: #008000; text-decoration-color: #008000\">'fdve-41fc25fb-0680-4843-800b-ef353d4c3b8b'</span>,               \n",
       "<span style=\"color: #7fbfbf; text-decoration-color: #7fbfbf\">             </span><span style=\"color: #808000; text-decoration-color: #808000\">solver_id</span>=<span style=\"color: #008000; text-decoration-color: #008000\">'mo-7044b296-7666-4425-893a-8c765ec18674'</span>.               \n",
       "</pre>\n"
      ],
      "text/plain": [
       "\u001b[2;36m11:24:38 CST\u001b[0m\u001b[2;36m \u001b[0mMode solver created with                                           \n",
       "\u001b[2;36m             \u001b[0m\u001b[33mtask_id\u001b[0m=\u001b[32m'fdve-41fc25fb-0680-4843-800b-ef353d4c3b8b'\u001b[0m,               \n",
       "\u001b[2;36m             \u001b[0m\u001b[33msolver_id\u001b[0m=\u001b[32m'mo-7044b296-7666-4425-893a-8c765ec18674'\u001b[0m.               \n"
      ]
     },
     "metadata": {},
     "output_type": "display_data"
    },
    {
     "data": {
      "application/vnd.jupyter.widget-view+json": {
       "model_id": "92373dd94e1449ada1329b8163af2745",
       "version_major": 2,
       "version_minor": 0
      },
      "text/plain": [
       "Output()"
      ]
     },
     "metadata": {},
     "output_type": "display_data"
    },
    {
     "data": {
      "text/html": [
       "<pre style=\"white-space:pre;overflow-x:auto;line-height:normal;font-family:Menlo,'DejaVu Sans Mono',consolas,'Courier New',monospace\"></pre>\n"
      ],
      "text/plain": []
     },
     "metadata": {},
     "output_type": "display_data"
    },
    {
     "data": {
      "text/html": [
       "<pre style=\"white-space:pre;overflow-x:auto;line-height:normal;font-family:Menlo,'DejaVu Sans Mono',consolas,'Courier New',monospace\">\n",
       "</pre>\n"
      ],
      "text/plain": [
       "\n"
      ]
     },
     "metadata": {},
     "output_type": "display_data"
    },
    {
     "data": {
      "application/vnd.jupyter.widget-view+json": {
       "model_id": "fda9e410bc27447b89ff301049acc5d1",
       "version_major": 2,
       "version_minor": 0
      },
      "text/plain": [
       "Output()"
      ]
     },
     "metadata": {},
     "output_type": "display_data"
    },
    {
     "data": {
      "text/html": [
       "<pre style=\"white-space:pre;overflow-x:auto;line-height:normal;font-family:Menlo,'DejaVu Sans Mono',consolas,'Courier New',monospace\"></pre>\n"
      ],
      "text/plain": []
     },
     "metadata": {},
     "output_type": "display_data"
    },
    {
     "data": {
      "text/html": [
       "<pre style=\"white-space:pre;overflow-x:auto;line-height:normal;font-family:Menlo,'DejaVu Sans Mono',consolas,'Courier New',monospace\">\n",
       "</pre>\n"
      ],
      "text/plain": [
       "\n"
      ]
     },
     "metadata": {},
     "output_type": "display_data"
    },
    {
     "data": {
      "text/html": [
       "<pre style=\"white-space:pre;overflow-x:auto;line-height:normal;font-family:Menlo,'DejaVu Sans Mono',consolas,'Courier New',monospace\"><span style=\"color: #7fbfbf; text-decoration-color: #7fbfbf\">11:24:40 CST </span>Mode solver status: queued                                         \n",
       "</pre>\n"
      ],
      "text/plain": [
       "\u001b[2;36m11:24:40 CST\u001b[0m\u001b[2;36m \u001b[0mMode solver status: queued                                         \n"
      ]
     },
     "metadata": {},
     "output_type": "display_data"
    },
    {
     "data": {
      "text/html": [
       "<pre style=\"white-space:pre;overflow-x:auto;line-height:normal;font-family:Menlo,'DejaVu Sans Mono',consolas,'Courier New',monospace\"><span style=\"color: #7fbfbf; text-decoration-color: #7fbfbf\">11:24:56 CST </span>Mode solver status: running                                        \n",
       "</pre>\n"
      ],
      "text/plain": [
       "\u001b[2;36m11:24:56 CST\u001b[0m\u001b[2;36m \u001b[0mMode solver status: running                                        \n"
      ]
     },
     "metadata": {},
     "output_type": "display_data"
    },
    {
     "data": {
      "text/html": [
       "<pre style=\"white-space:pre;overflow-x:auto;line-height:normal;font-family:Menlo,'DejaVu Sans Mono',consolas,'Courier New',monospace\"><span style=\"color: #7fbfbf; text-decoration-color: #7fbfbf\">11:25:08 CST </span>Mode solver status: success                                        \n",
       "</pre>\n"
      ],
      "text/plain": [
       "\u001b[2;36m11:25:08 CST\u001b[0m\u001b[2;36m \u001b[0mMode solver status: success                                        \n"
      ]
     },
     "metadata": {},
     "output_type": "display_data"
    },
    {
     "data": {
      "application/vnd.jupyter.widget-view+json": {
       "model_id": "10de24ac0c0c47cfbcc3542ada7d0917",
       "version_major": 2,
       "version_minor": 0
      },
      "text/plain": [
       "Output()"
      ]
     },
     "metadata": {},
     "output_type": "display_data"
    },
    {
     "data": {
      "text/html": [
       "<pre style=\"white-space:pre;overflow-x:auto;line-height:normal;font-family:Menlo,'DejaVu Sans Mono',consolas,'Courier New',monospace\"></pre>\n"
      ],
      "text/plain": []
     },
     "metadata": {},
     "output_type": "display_data"
    },
    {
     "data": {
      "text/html": [
       "<pre style=\"white-space:pre;overflow-x:auto;line-height:normal;font-family:Menlo,'DejaVu Sans Mono',consolas,'Courier New',monospace\">\n",
       "</pre>\n"
      ],
      "text/plain": [
       "\n"
      ]
     },
     "metadata": {},
     "output_type": "display_data"
    },
    {
     "data": {
      "text/html": [
       "<pre style=\"white-space:pre;overflow-x:auto;line-height:normal;font-family:Menlo,'DejaVu Sans Mono',consolas,'Courier New',monospace\"><span style=\"color: #7fbfbf; text-decoration-color: #7fbfbf\">11:25:09 CST </span><span style=\"color: #800000; text-decoration-color: #800000\">WARNING: The associated `Simulation` object contains custom        </span>\n",
       "<span style=\"color: #7fbfbf; text-decoration-color: #7fbfbf\">             </span><span style=\"color: #800000; text-decoration-color: #800000\">mediums. It will be automatically restricted to the mode solver    </span>\n",
       "<span style=\"color: #7fbfbf; text-decoration-color: #7fbfbf\">             </span><span style=\"color: #800000; text-decoration-color: #800000\">plane to reduce data for uploading. To force uploading the original</span>\n",
       "<span style=\"color: #7fbfbf; text-decoration-color: #7fbfbf\">             </span><span style=\"color: #800000; text-decoration-color: #800000\">`Simulation` object use `</span><span style=\"color: #808000; text-decoration-color: #808000\">reduce_simulation</span><span style=\"color: #800000; text-decoration-color: #800000\">=</span><span style=\"color: #ff0000; text-decoration-color: #ff0000; font-style: italic\">False</span><span style=\"color: #800000; text-decoration-color: #800000\">`. Setting         </span>\n",
       "<span style=\"color: #7fbfbf; text-decoration-color: #7fbfbf\">             </span><span style=\"color: #800000; text-decoration-color: #800000\">`</span><span style=\"color: #808000; text-decoration-color: #808000\">reduce_simulation</span><span style=\"color: #800000; text-decoration-color: #800000\">=</span><span style=\"color: #00ff00; text-decoration-color: #00ff00; font-style: italic\">True</span><span style=\"color: #800000; text-decoration-color: #800000\">` will force simulation reduction in all    </span>\n",
       "<span style=\"color: #7fbfbf; text-decoration-color: #7fbfbf\">             </span><span style=\"color: #800000; text-decoration-color: #800000\">cases and silence this warning.                                    </span>\n",
       "</pre>\n"
      ],
      "text/plain": [
       "\u001b[2;36m11:25:09 CST\u001b[0m\u001b[2;36m \u001b[0m\u001b[31mWARNING: The associated `Simulation` object contains custom        \u001b[0m\n",
       "\u001b[2;36m             \u001b[0m\u001b[31mmediums. It will be automatically restricted to the mode solver    \u001b[0m\n",
       "\u001b[2;36m             \u001b[0m\u001b[31mplane to reduce data for uploading. To force uploading the original\u001b[0m\n",
       "\u001b[2;36m             \u001b[0m\u001b[31m`Simulation` object use `\u001b[0m\u001b[33mreduce_simulation\u001b[0m\u001b[31m=\u001b[0m\u001b[3;91mFalse\u001b[0m\u001b[31m`. Setting         \u001b[0m\n",
       "\u001b[2;36m             \u001b[0m\u001b[31m`\u001b[0m\u001b[33mreduce_simulation\u001b[0m\u001b[31m=\u001b[0m\u001b[3;92mTrue\u001b[0m\u001b[31m` will force simulation reduction in all    \u001b[0m\n",
       "\u001b[2;36m             \u001b[0m\u001b[31mcases and silence this warning.                                    \u001b[0m\n"
      ]
     },
     "metadata": {},
     "output_type": "display_data"
    },
    {
     "data": {
      "text/html": [
       "<pre style=\"white-space:pre;overflow-x:auto;line-height:normal;font-family:Menlo,'DejaVu Sans Mono',consolas,'Courier New',monospace\"><span style=\"color: #7fbfbf; text-decoration-color: #7fbfbf\">             </span>Mode solver created with                                           \n",
       "<span style=\"color: #7fbfbf; text-decoration-color: #7fbfbf\">             </span><span style=\"color: #808000; text-decoration-color: #808000\">task_id</span>=<span style=\"color: #008000; text-decoration-color: #008000\">'fdve-d3146850-3e3d-454a-a605-b4608d21812e'</span>,               \n",
       "<span style=\"color: #7fbfbf; text-decoration-color: #7fbfbf\">             </span><span style=\"color: #808000; text-decoration-color: #808000\">solver_id</span>=<span style=\"color: #008000; text-decoration-color: #008000\">'mo-4aa949a2-7517-4279-9ce0-6cdff9f99322'</span>.               \n",
       "</pre>\n"
      ],
      "text/plain": [
       "\u001b[2;36m            \u001b[0m\u001b[2;36m \u001b[0mMode solver created with                                           \n",
       "\u001b[2;36m             \u001b[0m\u001b[33mtask_id\u001b[0m=\u001b[32m'fdve-d3146850-3e3d-454a-a605-b4608d21812e'\u001b[0m,               \n",
       "\u001b[2;36m             \u001b[0m\u001b[33msolver_id\u001b[0m=\u001b[32m'mo-4aa949a2-7517-4279-9ce0-6cdff9f99322'\u001b[0m.               \n"
      ]
     },
     "metadata": {},
     "output_type": "display_data"
    },
    {
     "data": {
      "application/vnd.jupyter.widget-view+json": {
       "model_id": "3e7b73e037eb4b3f8a72fe391baad6af",
       "version_major": 2,
       "version_minor": 0
      },
      "text/plain": [
       "Output()"
      ]
     },
     "metadata": {},
     "output_type": "display_data"
    },
    {
     "data": {
      "text/html": [
       "<pre style=\"white-space:pre;overflow-x:auto;line-height:normal;font-family:Menlo,'DejaVu Sans Mono',consolas,'Courier New',monospace\"></pre>\n"
      ],
      "text/plain": []
     },
     "metadata": {},
     "output_type": "display_data"
    },
    {
     "data": {
      "text/html": [
       "<pre style=\"white-space:pre;overflow-x:auto;line-height:normal;font-family:Menlo,'DejaVu Sans Mono',consolas,'Courier New',monospace\">\n",
       "</pre>\n"
      ],
      "text/plain": [
       "\n"
      ]
     },
     "metadata": {},
     "output_type": "display_data"
    },
    {
     "data": {
      "application/vnd.jupyter.widget-view+json": {
       "model_id": "9adc1c1e475c4476b0ed273ac6bfed5d",
       "version_major": 2,
       "version_minor": 0
      },
      "text/plain": [
       "Output()"
      ]
     },
     "metadata": {},
     "output_type": "display_data"
    },
    {
     "data": {
      "text/html": [
       "<pre style=\"white-space:pre;overflow-x:auto;line-height:normal;font-family:Menlo,'DejaVu Sans Mono',consolas,'Courier New',monospace\"></pre>\n"
      ],
      "text/plain": []
     },
     "metadata": {},
     "output_type": "display_data"
    },
    {
     "data": {
      "text/html": [
       "<pre style=\"white-space:pre;overflow-x:auto;line-height:normal;font-family:Menlo,'DejaVu Sans Mono',consolas,'Courier New',monospace\">\n",
       "</pre>\n"
      ],
      "text/plain": [
       "\n"
      ]
     },
     "metadata": {},
     "output_type": "display_data"
    },
    {
     "data": {
      "text/html": [
       "<pre style=\"white-space:pre;overflow-x:auto;line-height:normal;font-family:Menlo,'DejaVu Sans Mono',consolas,'Courier New',monospace\"><span style=\"color: #7fbfbf; text-decoration-color: #7fbfbf\">11:25:12 CST </span>Mode solver status: queued                                         \n",
       "</pre>\n"
      ],
      "text/plain": [
       "\u001b[2;36m11:25:12 CST\u001b[0m\u001b[2;36m \u001b[0mMode solver status: queued                                         \n"
      ]
     },
     "metadata": {},
     "output_type": "display_data"
    },
    {
     "data": {
      "text/html": [
       "<pre style=\"white-space:pre;overflow-x:auto;line-height:normal;font-family:Menlo,'DejaVu Sans Mono',consolas,'Courier New',monospace\"><span style=\"color: #7fbfbf; text-decoration-color: #7fbfbf\">11:25:28 CST </span>Mode solver status: running                                        \n",
       "</pre>\n"
      ],
      "text/plain": [
       "\u001b[2;36m11:25:28 CST\u001b[0m\u001b[2;36m \u001b[0mMode solver status: running                                        \n"
      ]
     },
     "metadata": {},
     "output_type": "display_data"
    },
    {
     "data": {
      "text/html": [
       "<pre style=\"white-space:pre;overflow-x:auto;line-height:normal;font-family:Menlo,'DejaVu Sans Mono',consolas,'Courier New',monospace\"><span style=\"color: #7fbfbf; text-decoration-color: #7fbfbf\">11:25:39 CST </span>Mode solver status: success                                        \n",
       "</pre>\n"
      ],
      "text/plain": [
       "\u001b[2;36m11:25:39 CST\u001b[0m\u001b[2;36m \u001b[0mMode solver status: success                                        \n"
      ]
     },
     "metadata": {},
     "output_type": "display_data"
    },
    {
     "data": {
      "application/vnd.jupyter.widget-view+json": {
       "model_id": "ac1515d43daf4278af0eb105e9a889cb",
       "version_major": 2,
       "version_minor": 0
      },
      "text/plain": [
       "Output()"
      ]
     },
     "metadata": {},
     "output_type": "display_data"
    },
    {
     "data": {
      "text/html": [
       "<pre style=\"white-space:pre;overflow-x:auto;line-height:normal;font-family:Menlo,'DejaVu Sans Mono',consolas,'Courier New',monospace\"></pre>\n"
      ],
      "text/plain": []
     },
     "metadata": {},
     "output_type": "display_data"
    },
    {
     "data": {
      "text/html": [
       "<pre style=\"white-space:pre;overflow-x:auto;line-height:normal;font-family:Menlo,'DejaVu Sans Mono',consolas,'Courier New',monospace\">\n",
       "</pre>\n"
      ],
      "text/plain": [
       "\n"
      ]
     },
     "metadata": {},
     "output_type": "display_data"
    },
    {
     "data": {
      "text/html": [
       "<pre style=\"white-space:pre;overflow-x:auto;line-height:normal;font-family:Menlo,'DejaVu Sans Mono',consolas,'Courier New',monospace\"><span style=\"color: #7fbfbf; text-decoration-color: #7fbfbf\">11:25:41 CST </span><span style=\"color: #800000; text-decoration-color: #800000\">WARNING: The associated `Simulation` object contains custom        </span>\n",
       "<span style=\"color: #7fbfbf; text-decoration-color: #7fbfbf\">             </span><span style=\"color: #800000; text-decoration-color: #800000\">mediums. It will be automatically restricted to the mode solver    </span>\n",
       "<span style=\"color: #7fbfbf; text-decoration-color: #7fbfbf\">             </span><span style=\"color: #800000; text-decoration-color: #800000\">plane to reduce data for uploading. To force uploading the original</span>\n",
       "<span style=\"color: #7fbfbf; text-decoration-color: #7fbfbf\">             </span><span style=\"color: #800000; text-decoration-color: #800000\">`Simulation` object use `</span><span style=\"color: #808000; text-decoration-color: #808000\">reduce_simulation</span><span style=\"color: #800000; text-decoration-color: #800000\">=</span><span style=\"color: #ff0000; text-decoration-color: #ff0000; font-style: italic\">False</span><span style=\"color: #800000; text-decoration-color: #800000\">`. Setting         </span>\n",
       "<span style=\"color: #7fbfbf; text-decoration-color: #7fbfbf\">             </span><span style=\"color: #800000; text-decoration-color: #800000\">`</span><span style=\"color: #808000; text-decoration-color: #808000\">reduce_simulation</span><span style=\"color: #800000; text-decoration-color: #800000\">=</span><span style=\"color: #00ff00; text-decoration-color: #00ff00; font-style: italic\">True</span><span style=\"color: #800000; text-decoration-color: #800000\">` will force simulation reduction in all    </span>\n",
       "<span style=\"color: #7fbfbf; text-decoration-color: #7fbfbf\">             </span><span style=\"color: #800000; text-decoration-color: #800000\">cases and silence this warning.                                    </span>\n",
       "</pre>\n"
      ],
      "text/plain": [
       "\u001b[2;36m11:25:41 CST\u001b[0m\u001b[2;36m \u001b[0m\u001b[31mWARNING: The associated `Simulation` object contains custom        \u001b[0m\n",
       "\u001b[2;36m             \u001b[0m\u001b[31mmediums. It will be automatically restricted to the mode solver    \u001b[0m\n",
       "\u001b[2;36m             \u001b[0m\u001b[31mplane to reduce data for uploading. To force uploading the original\u001b[0m\n",
       "\u001b[2;36m             \u001b[0m\u001b[31m`Simulation` object use `\u001b[0m\u001b[33mreduce_simulation\u001b[0m\u001b[31m=\u001b[0m\u001b[3;91mFalse\u001b[0m\u001b[31m`. Setting         \u001b[0m\n",
       "\u001b[2;36m             \u001b[0m\u001b[31m`\u001b[0m\u001b[33mreduce_simulation\u001b[0m\u001b[31m=\u001b[0m\u001b[3;92mTrue\u001b[0m\u001b[31m` will force simulation reduction in all    \u001b[0m\n",
       "\u001b[2;36m             \u001b[0m\u001b[31mcases and silence this warning.                                    \u001b[0m\n"
      ]
     },
     "metadata": {},
     "output_type": "display_data"
    },
    {
     "data": {
      "text/html": [
       "<pre style=\"white-space:pre;overflow-x:auto;line-height:normal;font-family:Menlo,'DejaVu Sans Mono',consolas,'Courier New',monospace\"><span style=\"color: #7fbfbf; text-decoration-color: #7fbfbf\">             </span>Mode solver created with                                           \n",
       "<span style=\"color: #7fbfbf; text-decoration-color: #7fbfbf\">             </span><span style=\"color: #808000; text-decoration-color: #808000\">task_id</span>=<span style=\"color: #008000; text-decoration-color: #008000\">'fdve-bb6130b3-bd4a-4c25-98ec-922c713c0656'</span>,               \n",
       "<span style=\"color: #7fbfbf; text-decoration-color: #7fbfbf\">             </span><span style=\"color: #808000; text-decoration-color: #808000\">solver_id</span>=<span style=\"color: #008000; text-decoration-color: #008000\">'mo-a245539f-db66-4a28-8c49-8c5556fe01cf'</span>.               \n",
       "</pre>\n"
      ],
      "text/plain": [
       "\u001b[2;36m            \u001b[0m\u001b[2;36m \u001b[0mMode solver created with                                           \n",
       "\u001b[2;36m             \u001b[0m\u001b[33mtask_id\u001b[0m=\u001b[32m'fdve-bb6130b3-bd4a-4c25-98ec-922c713c0656'\u001b[0m,               \n",
       "\u001b[2;36m             \u001b[0m\u001b[33msolver_id\u001b[0m=\u001b[32m'mo-a245539f-db66-4a28-8c49-8c5556fe01cf'\u001b[0m.               \n"
      ]
     },
     "metadata": {},
     "output_type": "display_data"
    },
    {
     "data": {
      "application/vnd.jupyter.widget-view+json": {
       "model_id": "23fbee5341c542869c7198015a119da6",
       "version_major": 2,
       "version_minor": 0
      },
      "text/plain": [
       "Output()"
      ]
     },
     "metadata": {},
     "output_type": "display_data"
    },
    {
     "data": {
      "text/html": [
       "<pre style=\"white-space:pre;overflow-x:auto;line-height:normal;font-family:Menlo,'DejaVu Sans Mono',consolas,'Courier New',monospace\"></pre>\n"
      ],
      "text/plain": []
     },
     "metadata": {},
     "output_type": "display_data"
    },
    {
     "data": {
      "text/html": [
       "<pre style=\"white-space:pre;overflow-x:auto;line-height:normal;font-family:Menlo,'DejaVu Sans Mono',consolas,'Courier New',monospace\">\n",
       "</pre>\n"
      ],
      "text/plain": [
       "\n"
      ]
     },
     "metadata": {},
     "output_type": "display_data"
    },
    {
     "data": {
      "application/vnd.jupyter.widget-view+json": {
       "model_id": "00f393be13f242ad83437dec06a45340",
       "version_major": 2,
       "version_minor": 0
      },
      "text/plain": [
       "Output()"
      ]
     },
     "metadata": {},
     "output_type": "display_data"
    },
    {
     "data": {
      "text/html": [
       "<pre style=\"white-space:pre;overflow-x:auto;line-height:normal;font-family:Menlo,'DejaVu Sans Mono',consolas,'Courier New',monospace\"></pre>\n"
      ],
      "text/plain": []
     },
     "metadata": {},
     "output_type": "display_data"
    },
    {
     "data": {
      "text/html": [
       "<pre style=\"white-space:pre;overflow-x:auto;line-height:normal;font-family:Menlo,'DejaVu Sans Mono',consolas,'Courier New',monospace\">\n",
       "</pre>\n"
      ],
      "text/plain": [
       "\n"
      ]
     },
     "metadata": {},
     "output_type": "display_data"
    },
    {
     "data": {
      "text/html": [
       "<pre style=\"white-space:pre;overflow-x:auto;line-height:normal;font-family:Menlo,'DejaVu Sans Mono',consolas,'Courier New',monospace\"><span style=\"color: #7fbfbf; text-decoration-color: #7fbfbf\">11:25:43 CST </span>Mode solver status: queued                                         \n",
       "</pre>\n"
      ],
      "text/plain": [
       "\u001b[2;36m11:25:43 CST\u001b[0m\u001b[2;36m \u001b[0mMode solver status: queued                                         \n"
      ]
     },
     "metadata": {},
     "output_type": "display_data"
    },
    {
     "data": {
      "text/html": [
       "<pre style=\"white-space:pre;overflow-x:auto;line-height:normal;font-family:Menlo,'DejaVu Sans Mono',consolas,'Courier New',monospace\"><span style=\"color: #7fbfbf; text-decoration-color: #7fbfbf\">11:25:58 CST </span>Mode solver status: running                                        \n",
       "</pre>\n"
      ],
      "text/plain": [
       "\u001b[2;36m11:25:58 CST\u001b[0m\u001b[2;36m \u001b[0mMode solver status: running                                        \n"
      ]
     },
     "metadata": {},
     "output_type": "display_data"
    },
    {
     "data": {
      "text/html": [
       "<pre style=\"white-space:pre;overflow-x:auto;line-height:normal;font-family:Menlo,'DejaVu Sans Mono',consolas,'Courier New',monospace\"><span style=\"color: #7fbfbf; text-decoration-color: #7fbfbf\">11:26:09 CST </span>Mode solver status: success                                        \n",
       "</pre>\n"
      ],
      "text/plain": [
       "\u001b[2;36m11:26:09 CST\u001b[0m\u001b[2;36m \u001b[0mMode solver status: success                                        \n"
      ]
     },
     "metadata": {},
     "output_type": "display_data"
    },
    {
     "data": {
      "application/vnd.jupyter.widget-view+json": {
       "model_id": "f139a1e6a07c4c8ca22e797870c06388",
       "version_major": 2,
       "version_minor": 0
      },
      "text/plain": [
       "Output()"
      ]
     },
     "metadata": {},
     "output_type": "display_data"
    },
    {
     "data": {
      "text/html": [
       "<pre style=\"white-space:pre;overflow-x:auto;line-height:normal;font-family:Menlo,'DejaVu Sans Mono',consolas,'Courier New',monospace\"></pre>\n"
      ],
      "text/plain": []
     },
     "metadata": {},
     "output_type": "display_data"
    },
    {
     "data": {
      "text/html": [
       "<pre style=\"white-space:pre;overflow-x:auto;line-height:normal;font-family:Menlo,'DejaVu Sans Mono',consolas,'Courier New',monospace\">\n",
       "</pre>\n"
      ],
      "text/plain": [
       "\n"
      ]
     },
     "metadata": {},
     "output_type": "display_data"
    },
    {
     "data": {
      "text/html": [
       "<pre style=\"white-space:pre;overflow-x:auto;line-height:normal;font-family:Menlo,'DejaVu Sans Mono',consolas,'Courier New',monospace\"><span style=\"color: #7fbfbf; text-decoration-color: #7fbfbf\">11:26:10 CST </span><span style=\"color: #800000; text-decoration-color: #800000\">WARNING: The associated `Simulation` object contains custom        </span>\n",
       "<span style=\"color: #7fbfbf; text-decoration-color: #7fbfbf\">             </span><span style=\"color: #800000; text-decoration-color: #800000\">mediums. It will be automatically restricted to the mode solver    </span>\n",
       "<span style=\"color: #7fbfbf; text-decoration-color: #7fbfbf\">             </span><span style=\"color: #800000; text-decoration-color: #800000\">plane to reduce data for uploading. To force uploading the original</span>\n",
       "<span style=\"color: #7fbfbf; text-decoration-color: #7fbfbf\">             </span><span style=\"color: #800000; text-decoration-color: #800000\">`Simulation` object use `</span><span style=\"color: #808000; text-decoration-color: #808000\">reduce_simulation</span><span style=\"color: #800000; text-decoration-color: #800000\">=</span><span style=\"color: #ff0000; text-decoration-color: #ff0000; font-style: italic\">False</span><span style=\"color: #800000; text-decoration-color: #800000\">`. Setting         </span>\n",
       "<span style=\"color: #7fbfbf; text-decoration-color: #7fbfbf\">             </span><span style=\"color: #800000; text-decoration-color: #800000\">`</span><span style=\"color: #808000; text-decoration-color: #808000\">reduce_simulation</span><span style=\"color: #800000; text-decoration-color: #800000\">=</span><span style=\"color: #00ff00; text-decoration-color: #00ff00; font-style: italic\">True</span><span style=\"color: #800000; text-decoration-color: #800000\">` will force simulation reduction in all    </span>\n",
       "<span style=\"color: #7fbfbf; text-decoration-color: #7fbfbf\">             </span><span style=\"color: #800000; text-decoration-color: #800000\">cases and silence this warning.                                    </span>\n",
       "</pre>\n"
      ],
      "text/plain": [
       "\u001b[2;36m11:26:10 CST\u001b[0m\u001b[2;36m \u001b[0m\u001b[31mWARNING: The associated `Simulation` object contains custom        \u001b[0m\n",
       "\u001b[2;36m             \u001b[0m\u001b[31mmediums. It will be automatically restricted to the mode solver    \u001b[0m\n",
       "\u001b[2;36m             \u001b[0m\u001b[31mplane to reduce data for uploading. To force uploading the original\u001b[0m\n",
       "\u001b[2;36m             \u001b[0m\u001b[31m`Simulation` object use `\u001b[0m\u001b[33mreduce_simulation\u001b[0m\u001b[31m=\u001b[0m\u001b[3;91mFalse\u001b[0m\u001b[31m`. Setting         \u001b[0m\n",
       "\u001b[2;36m             \u001b[0m\u001b[31m`\u001b[0m\u001b[33mreduce_simulation\u001b[0m\u001b[31m=\u001b[0m\u001b[3;92mTrue\u001b[0m\u001b[31m` will force simulation reduction in all    \u001b[0m\n",
       "\u001b[2;36m             \u001b[0m\u001b[31mcases and silence this warning.                                    \u001b[0m\n"
      ]
     },
     "metadata": {},
     "output_type": "display_data"
    },
    {
     "data": {
      "text/html": [
       "<pre style=\"white-space:pre;overflow-x:auto;line-height:normal;font-family:Menlo,'DejaVu Sans Mono',consolas,'Courier New',monospace\"><span style=\"color: #7fbfbf; text-decoration-color: #7fbfbf\">11:26:11 CST </span>Mode solver created with                                           \n",
       "<span style=\"color: #7fbfbf; text-decoration-color: #7fbfbf\">             </span><span style=\"color: #808000; text-decoration-color: #808000\">task_id</span>=<span style=\"color: #008000; text-decoration-color: #008000\">'fdve-41a3e7f2-ce97-4bc8-99ad-8c49327c1005'</span>,               \n",
       "<span style=\"color: #7fbfbf; text-decoration-color: #7fbfbf\">             </span><span style=\"color: #808000; text-decoration-color: #808000\">solver_id</span>=<span style=\"color: #008000; text-decoration-color: #008000\">'mo-39a16ac0-cd0c-4c33-a939-b9e7b409db38'</span>.               \n",
       "</pre>\n"
      ],
      "text/plain": [
       "\u001b[2;36m11:26:11 CST\u001b[0m\u001b[2;36m \u001b[0mMode solver created with                                           \n",
       "\u001b[2;36m             \u001b[0m\u001b[33mtask_id\u001b[0m=\u001b[32m'fdve-41a3e7f2-ce97-4bc8-99ad-8c49327c1005'\u001b[0m,               \n",
       "\u001b[2;36m             \u001b[0m\u001b[33msolver_id\u001b[0m=\u001b[32m'mo-39a16ac0-cd0c-4c33-a939-b9e7b409db38'\u001b[0m.               \n"
      ]
     },
     "metadata": {},
     "output_type": "display_data"
    },
    {
     "data": {
      "application/vnd.jupyter.widget-view+json": {
       "model_id": "fee69917dfc44e7f8dbeb49e72f8dfd0",
       "version_major": 2,
       "version_minor": 0
      },
      "text/plain": [
       "Output()"
      ]
     },
     "metadata": {},
     "output_type": "display_data"
    },
    {
     "data": {
      "text/html": [
       "<pre style=\"white-space:pre;overflow-x:auto;line-height:normal;font-family:Menlo,'DejaVu Sans Mono',consolas,'Courier New',monospace\"></pre>\n"
      ],
      "text/plain": []
     },
     "metadata": {},
     "output_type": "display_data"
    },
    {
     "data": {
      "text/html": [
       "<pre style=\"white-space:pre;overflow-x:auto;line-height:normal;font-family:Menlo,'DejaVu Sans Mono',consolas,'Courier New',monospace\">\n",
       "</pre>\n"
      ],
      "text/plain": [
       "\n"
      ]
     },
     "metadata": {},
     "output_type": "display_data"
    },
    {
     "data": {
      "application/vnd.jupyter.widget-view+json": {
       "model_id": "2dd24522486541f084d18c5b099cfc9b",
       "version_major": 2,
       "version_minor": 0
      },
      "text/plain": [
       "Output()"
      ]
     },
     "metadata": {},
     "output_type": "display_data"
    },
    {
     "data": {
      "text/html": [
       "<pre style=\"white-space:pre;overflow-x:auto;line-height:normal;font-family:Menlo,'DejaVu Sans Mono',consolas,'Courier New',monospace\"></pre>\n"
      ],
      "text/plain": []
     },
     "metadata": {},
     "output_type": "display_data"
    },
    {
     "data": {
      "text/html": [
       "<pre style=\"white-space:pre;overflow-x:auto;line-height:normal;font-family:Menlo,'DejaVu Sans Mono',consolas,'Courier New',monospace\">\n",
       "</pre>\n"
      ],
      "text/plain": [
       "\n"
      ]
     },
     "metadata": {},
     "output_type": "display_data"
    },
    {
     "data": {
      "text/html": [
       "<pre style=\"white-space:pre;overflow-x:auto;line-height:normal;font-family:Menlo,'DejaVu Sans Mono',consolas,'Courier New',monospace\"><span style=\"color: #7fbfbf; text-decoration-color: #7fbfbf\">11:26:13 CST </span>Mode solver status: queued                                         \n",
       "</pre>\n"
      ],
      "text/plain": [
       "\u001b[2;36m11:26:13 CST\u001b[0m\u001b[2;36m \u001b[0mMode solver status: queued                                         \n"
      ]
     },
     "metadata": {},
     "output_type": "display_data"
    },
    {
     "data": {
      "text/html": [
       "<pre style=\"white-space:pre;overflow-x:auto;line-height:normal;font-family:Menlo,'DejaVu Sans Mono',consolas,'Courier New',monospace\"><span style=\"color: #7fbfbf; text-decoration-color: #7fbfbf\">11:26:26 CST </span>Mode solver status: running                                        \n",
       "</pre>\n"
      ],
      "text/plain": [
       "\u001b[2;36m11:26:26 CST\u001b[0m\u001b[2;36m \u001b[0mMode solver status: running                                        \n"
      ]
     },
     "metadata": {},
     "output_type": "display_data"
    },
    {
     "data": {
      "text/html": [
       "<pre style=\"white-space:pre;overflow-x:auto;line-height:normal;font-family:Menlo,'DejaVu Sans Mono',consolas,'Courier New',monospace\"><span style=\"color: #7fbfbf; text-decoration-color: #7fbfbf\">11:26:38 CST </span>Mode solver status: success                                        \n",
       "</pre>\n"
      ],
      "text/plain": [
       "\u001b[2;36m11:26:38 CST\u001b[0m\u001b[2;36m \u001b[0mMode solver status: success                                        \n"
      ]
     },
     "metadata": {},
     "output_type": "display_data"
    },
    {
     "data": {
      "application/vnd.jupyter.widget-view+json": {
       "model_id": "6700dda0283d4be4946b87a6c76195b6",
       "version_major": 2,
       "version_minor": 0
      },
      "text/plain": [
       "Output()"
      ]
     },
     "metadata": {},
     "output_type": "display_data"
    },
    {
     "data": {
      "text/html": [
       "<pre style=\"white-space:pre;overflow-x:auto;line-height:normal;font-family:Menlo,'DejaVu Sans Mono',consolas,'Courier New',monospace\"></pre>\n"
      ],
      "text/plain": []
     },
     "metadata": {},
     "output_type": "display_data"
    },
    {
     "data": {
      "text/html": [
       "<pre style=\"white-space:pre;overflow-x:auto;line-height:normal;font-family:Menlo,'DejaVu Sans Mono',consolas,'Courier New',monospace\">\n",
       "</pre>\n"
      ],
      "text/plain": [
       "\n"
      ]
     },
     "metadata": {},
     "output_type": "display_data"
    },
    {
     "data": {
      "text/html": [
       "<pre style=\"white-space:pre;overflow-x:auto;line-height:normal;font-family:Menlo,'DejaVu Sans Mono',consolas,'Courier New',monospace\"><span style=\"color: #7fbfbf; text-decoration-color: #7fbfbf\">11:26:39 CST </span><span style=\"color: #800000; text-decoration-color: #800000\">WARNING: The associated `Simulation` object contains custom        </span>\n",
       "<span style=\"color: #7fbfbf; text-decoration-color: #7fbfbf\">             </span><span style=\"color: #800000; text-decoration-color: #800000\">mediums. It will be automatically restricted to the mode solver    </span>\n",
       "<span style=\"color: #7fbfbf; text-decoration-color: #7fbfbf\">             </span><span style=\"color: #800000; text-decoration-color: #800000\">plane to reduce data for uploading. To force uploading the original</span>\n",
       "<span style=\"color: #7fbfbf; text-decoration-color: #7fbfbf\">             </span><span style=\"color: #800000; text-decoration-color: #800000\">`Simulation` object use `</span><span style=\"color: #808000; text-decoration-color: #808000\">reduce_simulation</span><span style=\"color: #800000; text-decoration-color: #800000\">=</span><span style=\"color: #ff0000; text-decoration-color: #ff0000; font-style: italic\">False</span><span style=\"color: #800000; text-decoration-color: #800000\">`. Setting         </span>\n",
       "<span style=\"color: #7fbfbf; text-decoration-color: #7fbfbf\">             </span><span style=\"color: #800000; text-decoration-color: #800000\">`</span><span style=\"color: #808000; text-decoration-color: #808000\">reduce_simulation</span><span style=\"color: #800000; text-decoration-color: #800000\">=</span><span style=\"color: #00ff00; text-decoration-color: #00ff00; font-style: italic\">True</span><span style=\"color: #800000; text-decoration-color: #800000\">` will force simulation reduction in all    </span>\n",
       "<span style=\"color: #7fbfbf; text-decoration-color: #7fbfbf\">             </span><span style=\"color: #800000; text-decoration-color: #800000\">cases and silence this warning.                                    </span>\n",
       "</pre>\n"
      ],
      "text/plain": [
       "\u001b[2;36m11:26:39 CST\u001b[0m\u001b[2;36m \u001b[0m\u001b[31mWARNING: The associated `Simulation` object contains custom        \u001b[0m\n",
       "\u001b[2;36m             \u001b[0m\u001b[31mmediums. It will be automatically restricted to the mode solver    \u001b[0m\n",
       "\u001b[2;36m             \u001b[0m\u001b[31mplane to reduce data for uploading. To force uploading the original\u001b[0m\n",
       "\u001b[2;36m             \u001b[0m\u001b[31m`Simulation` object use `\u001b[0m\u001b[33mreduce_simulation\u001b[0m\u001b[31m=\u001b[0m\u001b[3;91mFalse\u001b[0m\u001b[31m`. Setting         \u001b[0m\n",
       "\u001b[2;36m             \u001b[0m\u001b[31m`\u001b[0m\u001b[33mreduce_simulation\u001b[0m\u001b[31m=\u001b[0m\u001b[3;92mTrue\u001b[0m\u001b[31m` will force simulation reduction in all    \u001b[0m\n",
       "\u001b[2;36m             \u001b[0m\u001b[31mcases and silence this warning.                                    \u001b[0m\n"
      ]
     },
     "metadata": {},
     "output_type": "display_data"
    },
    {
     "data": {
      "text/html": [
       "<pre style=\"white-space:pre;overflow-x:auto;line-height:normal;font-family:Menlo,'DejaVu Sans Mono',consolas,'Courier New',monospace\"><span style=\"color: #7fbfbf; text-decoration-color: #7fbfbf\">             </span>Mode solver created with                                           \n",
       "<span style=\"color: #7fbfbf; text-decoration-color: #7fbfbf\">             </span><span style=\"color: #808000; text-decoration-color: #808000\">task_id</span>=<span style=\"color: #008000; text-decoration-color: #008000\">'fdve-ed5ff19c-4dc8-4c67-bf23-df22ddbfe2ce'</span>,               \n",
       "<span style=\"color: #7fbfbf; text-decoration-color: #7fbfbf\">             </span><span style=\"color: #808000; text-decoration-color: #808000\">solver_id</span>=<span style=\"color: #008000; text-decoration-color: #008000\">'mo-508670eb-8381-43a4-8f15-886e1e36635c'</span>.               \n",
       "</pre>\n"
      ],
      "text/plain": [
       "\u001b[2;36m            \u001b[0m\u001b[2;36m \u001b[0mMode solver created with                                           \n",
       "\u001b[2;36m             \u001b[0m\u001b[33mtask_id\u001b[0m=\u001b[32m'fdve-ed5ff19c-4dc8-4c67-bf23-df22ddbfe2ce'\u001b[0m,               \n",
       "\u001b[2;36m             \u001b[0m\u001b[33msolver_id\u001b[0m=\u001b[32m'mo-508670eb-8381-43a4-8f15-886e1e36635c'\u001b[0m.               \n"
      ]
     },
     "metadata": {},
     "output_type": "display_data"
    },
    {
     "data": {
      "application/vnd.jupyter.widget-view+json": {
       "model_id": "cb985ce770f24bb2a7925bf9a9d8fabb",
       "version_major": 2,
       "version_minor": 0
      },
      "text/plain": [
       "Output()"
      ]
     },
     "metadata": {},
     "output_type": "display_data"
    },
    {
     "data": {
      "text/html": [
       "<pre style=\"white-space:pre;overflow-x:auto;line-height:normal;font-family:Menlo,'DejaVu Sans Mono',consolas,'Courier New',monospace\"></pre>\n"
      ],
      "text/plain": []
     },
     "metadata": {},
     "output_type": "display_data"
    },
    {
     "data": {
      "text/html": [
       "<pre style=\"white-space:pre;overflow-x:auto;line-height:normal;font-family:Menlo,'DejaVu Sans Mono',consolas,'Courier New',monospace\">\n",
       "</pre>\n"
      ],
      "text/plain": [
       "\n"
      ]
     },
     "metadata": {},
     "output_type": "display_data"
    },
    {
     "data": {
      "application/vnd.jupyter.widget-view+json": {
       "model_id": "21766d770ffa4b448e34456575607940",
       "version_major": 2,
       "version_minor": 0
      },
      "text/plain": [
       "Output()"
      ]
     },
     "metadata": {},
     "output_type": "display_data"
    },
    {
     "data": {
      "text/html": [
       "<pre style=\"white-space:pre;overflow-x:auto;line-height:normal;font-family:Menlo,'DejaVu Sans Mono',consolas,'Courier New',monospace\"></pre>\n"
      ],
      "text/plain": []
     },
     "metadata": {},
     "output_type": "display_data"
    },
    {
     "data": {
      "text/html": [
       "<pre style=\"white-space:pre;overflow-x:auto;line-height:normal;font-family:Menlo,'DejaVu Sans Mono',consolas,'Courier New',monospace\">\n",
       "</pre>\n"
      ],
      "text/plain": [
       "\n"
      ]
     },
     "metadata": {},
     "output_type": "display_data"
    },
    {
     "data": {
      "text/html": [
       "<pre style=\"white-space:pre;overflow-x:auto;line-height:normal;font-family:Menlo,'DejaVu Sans Mono',consolas,'Courier New',monospace\"><span style=\"color: #7fbfbf; text-decoration-color: #7fbfbf\">11:26:41 CST </span>Mode solver status: queued                                         \n",
       "</pre>\n"
      ],
      "text/plain": [
       "\u001b[2;36m11:26:41 CST\u001b[0m\u001b[2;36m \u001b[0mMode solver status: queued                                         \n"
      ]
     },
     "metadata": {},
     "output_type": "display_data"
    },
    {
     "data": {
      "text/html": [
       "<pre style=\"white-space:pre;overflow-x:auto;line-height:normal;font-family:Menlo,'DejaVu Sans Mono',consolas,'Courier New',monospace\"><span style=\"color: #7fbfbf; text-decoration-color: #7fbfbf\">11:26:57 CST </span>Mode solver status: running                                        \n",
       "</pre>\n"
      ],
      "text/plain": [
       "\u001b[2;36m11:26:57 CST\u001b[0m\u001b[2;36m \u001b[0mMode solver status: running                                        \n"
      ]
     },
     "metadata": {},
     "output_type": "display_data"
    },
    {
     "data": {
      "text/html": [
       "<pre style=\"white-space:pre;overflow-x:auto;line-height:normal;font-family:Menlo,'DejaVu Sans Mono',consolas,'Courier New',monospace\"><span style=\"color: #7fbfbf; text-decoration-color: #7fbfbf\">11:27:08 CST </span>Mode solver status: success                                        \n",
       "</pre>\n"
      ],
      "text/plain": [
       "\u001b[2;36m11:27:08 CST\u001b[0m\u001b[2;36m \u001b[0mMode solver status: success                                        \n"
      ]
     },
     "metadata": {},
     "output_type": "display_data"
    },
    {
     "data": {
      "application/vnd.jupyter.widget-view+json": {
       "model_id": "9683c89651ba49ac84820be9e457e67b",
       "version_major": 2,
       "version_minor": 0
      },
      "text/plain": [
       "Output()"
      ]
     },
     "metadata": {},
     "output_type": "display_data"
    },
    {
     "data": {
      "text/html": [
       "<pre style=\"white-space:pre;overflow-x:auto;line-height:normal;font-family:Menlo,'DejaVu Sans Mono',consolas,'Courier New',monospace\"></pre>\n"
      ],
      "text/plain": []
     },
     "metadata": {},
     "output_type": "display_data"
    },
    {
     "data": {
      "text/html": [
       "<pre style=\"white-space:pre;overflow-x:auto;line-height:normal;font-family:Menlo,'DejaVu Sans Mono',consolas,'Courier New',monospace\">\n",
       "</pre>\n"
      ],
      "text/plain": [
       "\n"
      ]
     },
     "metadata": {},
     "output_type": "display_data"
    },
    {
     "data": {
      "text/html": [
       "<pre style=\"white-space:pre;overflow-x:auto;line-height:normal;font-family:Menlo,'DejaVu Sans Mono',consolas,'Courier New',monospace\"><span style=\"color: #7fbfbf; text-decoration-color: #7fbfbf\">11:27:13 CST </span><span style=\"color: #800000; text-decoration-color: #800000\">WARNING: The associated `Simulation` object contains custom        </span>\n",
       "<span style=\"color: #7fbfbf; text-decoration-color: #7fbfbf\">             </span><span style=\"color: #800000; text-decoration-color: #800000\">mediums. It will be automatically restricted to the mode solver    </span>\n",
       "<span style=\"color: #7fbfbf; text-decoration-color: #7fbfbf\">             </span><span style=\"color: #800000; text-decoration-color: #800000\">plane to reduce data for uploading. To force uploading the original</span>\n",
       "<span style=\"color: #7fbfbf; text-decoration-color: #7fbfbf\">             </span><span style=\"color: #800000; text-decoration-color: #800000\">`Simulation` object use `</span><span style=\"color: #808000; text-decoration-color: #808000\">reduce_simulation</span><span style=\"color: #800000; text-decoration-color: #800000\">=</span><span style=\"color: #ff0000; text-decoration-color: #ff0000; font-style: italic\">False</span><span style=\"color: #800000; text-decoration-color: #800000\">`. Setting         </span>\n",
       "<span style=\"color: #7fbfbf; text-decoration-color: #7fbfbf\">             </span><span style=\"color: #800000; text-decoration-color: #800000\">`</span><span style=\"color: #808000; text-decoration-color: #808000\">reduce_simulation</span><span style=\"color: #800000; text-decoration-color: #800000\">=</span><span style=\"color: #00ff00; text-decoration-color: #00ff00; font-style: italic\">True</span><span style=\"color: #800000; text-decoration-color: #800000\">` will force simulation reduction in all    </span>\n",
       "<span style=\"color: #7fbfbf; text-decoration-color: #7fbfbf\">             </span><span style=\"color: #800000; text-decoration-color: #800000\">cases and silence this warning.                                    </span>\n",
       "</pre>\n"
      ],
      "text/plain": [
       "\u001b[2;36m11:27:13 CST\u001b[0m\u001b[2;36m \u001b[0m\u001b[31mWARNING: The associated `Simulation` object contains custom        \u001b[0m\n",
       "\u001b[2;36m             \u001b[0m\u001b[31mmediums. It will be automatically restricted to the mode solver    \u001b[0m\n",
       "\u001b[2;36m             \u001b[0m\u001b[31mplane to reduce data for uploading. To force uploading the original\u001b[0m\n",
       "\u001b[2;36m             \u001b[0m\u001b[31m`Simulation` object use `\u001b[0m\u001b[33mreduce_simulation\u001b[0m\u001b[31m=\u001b[0m\u001b[3;91mFalse\u001b[0m\u001b[31m`. Setting         \u001b[0m\n",
       "\u001b[2;36m             \u001b[0m\u001b[31m`\u001b[0m\u001b[33mreduce_simulation\u001b[0m\u001b[31m=\u001b[0m\u001b[3;92mTrue\u001b[0m\u001b[31m` will force simulation reduction in all    \u001b[0m\n",
       "\u001b[2;36m             \u001b[0m\u001b[31mcases and silence this warning.                                    \u001b[0m\n"
      ]
     },
     "metadata": {},
     "output_type": "display_data"
    },
    {
     "data": {
      "text/html": [
       "<pre style=\"white-space:pre;overflow-x:auto;line-height:normal;font-family:Menlo,'DejaVu Sans Mono',consolas,'Courier New',monospace\"><span style=\"color: #7fbfbf; text-decoration-color: #7fbfbf\">11:27:14 CST </span>Mode solver created with                                           \n",
       "<span style=\"color: #7fbfbf; text-decoration-color: #7fbfbf\">             </span><span style=\"color: #808000; text-decoration-color: #808000\">task_id</span>=<span style=\"color: #008000; text-decoration-color: #008000\">'fdve-9aeed8bb-0764-49bc-8404-4a1f586a44b8'</span>,               \n",
       "<span style=\"color: #7fbfbf; text-decoration-color: #7fbfbf\">             </span><span style=\"color: #808000; text-decoration-color: #808000\">solver_id</span>=<span style=\"color: #008000; text-decoration-color: #008000\">'mo-46f689db-3036-4a61-a54e-fdbcbd5814a6'</span>.               \n",
       "</pre>\n"
      ],
      "text/plain": [
       "\u001b[2;36m11:27:14 CST\u001b[0m\u001b[2;36m \u001b[0mMode solver created with                                           \n",
       "\u001b[2;36m             \u001b[0m\u001b[33mtask_id\u001b[0m=\u001b[32m'fdve-9aeed8bb-0764-49bc-8404-4a1f586a44b8'\u001b[0m,               \n",
       "\u001b[2;36m             \u001b[0m\u001b[33msolver_id\u001b[0m=\u001b[32m'mo-46f689db-3036-4a61-a54e-fdbcbd5814a6'\u001b[0m.               \n"
      ]
     },
     "metadata": {},
     "output_type": "display_data"
    },
    {
     "data": {
      "application/vnd.jupyter.widget-view+json": {
       "model_id": "9d20b03557e145f284214f83eaa8dfff",
       "version_major": 2,
       "version_minor": 0
      },
      "text/plain": [
       "Output()"
      ]
     },
     "metadata": {},
     "output_type": "display_data"
    },
    {
     "data": {
      "text/html": [
       "<pre style=\"white-space:pre;overflow-x:auto;line-height:normal;font-family:Menlo,'DejaVu Sans Mono',consolas,'Courier New',monospace\"></pre>\n"
      ],
      "text/plain": []
     },
     "metadata": {},
     "output_type": "display_data"
    },
    {
     "data": {
      "text/html": [
       "<pre style=\"white-space:pre;overflow-x:auto;line-height:normal;font-family:Menlo,'DejaVu Sans Mono',consolas,'Courier New',monospace\">\n",
       "</pre>\n"
      ],
      "text/plain": [
       "\n"
      ]
     },
     "metadata": {},
     "output_type": "display_data"
    },
    {
     "data": {
      "application/vnd.jupyter.widget-view+json": {
       "model_id": "87796d3e7c40439bbd50f5c1a8a55af8",
       "version_major": 2,
       "version_minor": 0
      },
      "text/plain": [
       "Output()"
      ]
     },
     "metadata": {},
     "output_type": "display_data"
    },
    {
     "data": {
      "text/html": [
       "<pre style=\"white-space:pre;overflow-x:auto;line-height:normal;font-family:Menlo,'DejaVu Sans Mono',consolas,'Courier New',monospace\"></pre>\n"
      ],
      "text/plain": []
     },
     "metadata": {},
     "output_type": "display_data"
    },
    {
     "data": {
      "text/html": [
       "<pre style=\"white-space:pre;overflow-x:auto;line-height:normal;font-family:Menlo,'DejaVu Sans Mono',consolas,'Courier New',monospace\">\n",
       "</pre>\n"
      ],
      "text/plain": [
       "\n"
      ]
     },
     "metadata": {},
     "output_type": "display_data"
    },
    {
     "data": {
      "text/html": [
       "<pre style=\"white-space:pre;overflow-x:auto;line-height:normal;font-family:Menlo,'DejaVu Sans Mono',consolas,'Courier New',monospace\"><span style=\"color: #7fbfbf; text-decoration-color: #7fbfbf\">11:27:16 CST </span>Mode solver status: queued                                         \n",
       "</pre>\n"
      ],
      "text/plain": [
       "\u001b[2;36m11:27:16 CST\u001b[0m\u001b[2;36m \u001b[0mMode solver status: queued                                         \n"
      ]
     },
     "metadata": {},
     "output_type": "display_data"
    },
    {
     "data": {
      "text/html": [
       "<pre style=\"white-space:pre;overflow-x:auto;line-height:normal;font-family:Menlo,'DejaVu Sans Mono',consolas,'Courier New',monospace\"><span style=\"color: #7fbfbf; text-decoration-color: #7fbfbf\">11:27:30 CST </span>Mode solver status: running                                        \n",
       "</pre>\n"
      ],
      "text/plain": [
       "\u001b[2;36m11:27:30 CST\u001b[0m\u001b[2;36m \u001b[0mMode solver status: running                                        \n"
      ]
     },
     "metadata": {},
     "output_type": "display_data"
    },
    {
     "data": {
      "text/html": [
       "<pre style=\"white-space:pre;overflow-x:auto;line-height:normal;font-family:Menlo,'DejaVu Sans Mono',consolas,'Courier New',monospace\"><span style=\"color: #7fbfbf; text-decoration-color: #7fbfbf\">11:27:42 CST </span>Mode solver status: success                                        \n",
       "</pre>\n"
      ],
      "text/plain": [
       "\u001b[2;36m11:27:42 CST\u001b[0m\u001b[2;36m \u001b[0mMode solver status: success                                        \n"
      ]
     },
     "metadata": {},
     "output_type": "display_data"
    },
    {
     "data": {
      "application/vnd.jupyter.widget-view+json": {
       "model_id": "6fd0c23cf8424f528b62174fa4fca907",
       "version_major": 2,
       "version_minor": 0
      },
      "text/plain": [
       "Output()"
      ]
     },
     "metadata": {},
     "output_type": "display_data"
    },
    {
     "data": {
      "text/html": [
       "<pre style=\"white-space:pre;overflow-x:auto;line-height:normal;font-family:Menlo,'DejaVu Sans Mono',consolas,'Courier New',monospace\"></pre>\n"
      ],
      "text/plain": []
     },
     "metadata": {},
     "output_type": "display_data"
    },
    {
     "data": {
      "text/html": [
       "<pre style=\"white-space:pre;overflow-x:auto;line-height:normal;font-family:Menlo,'DejaVu Sans Mono',consolas,'Courier New',monospace\">\n",
       "</pre>\n"
      ],
      "text/plain": [
       "\n"
      ]
     },
     "metadata": {},
     "output_type": "display_data"
    },
    {
     "data": {
      "text/html": [
       "<pre style=\"white-space:pre;overflow-x:auto;line-height:normal;font-family:Menlo,'DejaVu Sans Mono',consolas,'Courier New',monospace\"><span style=\"color: #7fbfbf; text-decoration-color: #7fbfbf\">11:27:43 CST </span><span style=\"color: #800000; text-decoration-color: #800000\">WARNING: The associated `Simulation` object contains custom        </span>\n",
       "<span style=\"color: #7fbfbf; text-decoration-color: #7fbfbf\">             </span><span style=\"color: #800000; text-decoration-color: #800000\">mediums. It will be automatically restricted to the mode solver    </span>\n",
       "<span style=\"color: #7fbfbf; text-decoration-color: #7fbfbf\">             </span><span style=\"color: #800000; text-decoration-color: #800000\">plane to reduce data for uploading. To force uploading the original</span>\n",
       "<span style=\"color: #7fbfbf; text-decoration-color: #7fbfbf\">             </span><span style=\"color: #800000; text-decoration-color: #800000\">`Simulation` object use `</span><span style=\"color: #808000; text-decoration-color: #808000\">reduce_simulation</span><span style=\"color: #800000; text-decoration-color: #800000\">=</span><span style=\"color: #ff0000; text-decoration-color: #ff0000; font-style: italic\">False</span><span style=\"color: #800000; text-decoration-color: #800000\">`. Setting         </span>\n",
       "<span style=\"color: #7fbfbf; text-decoration-color: #7fbfbf\">             </span><span style=\"color: #800000; text-decoration-color: #800000\">`</span><span style=\"color: #808000; text-decoration-color: #808000\">reduce_simulation</span><span style=\"color: #800000; text-decoration-color: #800000\">=</span><span style=\"color: #00ff00; text-decoration-color: #00ff00; font-style: italic\">True</span><span style=\"color: #800000; text-decoration-color: #800000\">` will force simulation reduction in all    </span>\n",
       "<span style=\"color: #7fbfbf; text-decoration-color: #7fbfbf\">             </span><span style=\"color: #800000; text-decoration-color: #800000\">cases and silence this warning.                                    </span>\n",
       "</pre>\n"
      ],
      "text/plain": [
       "\u001b[2;36m11:27:43 CST\u001b[0m\u001b[2;36m \u001b[0m\u001b[31mWARNING: The associated `Simulation` object contains custom        \u001b[0m\n",
       "\u001b[2;36m             \u001b[0m\u001b[31mmediums. It will be automatically restricted to the mode solver    \u001b[0m\n",
       "\u001b[2;36m             \u001b[0m\u001b[31mplane to reduce data for uploading. To force uploading the original\u001b[0m\n",
       "\u001b[2;36m             \u001b[0m\u001b[31m`Simulation` object use `\u001b[0m\u001b[33mreduce_simulation\u001b[0m\u001b[31m=\u001b[0m\u001b[3;91mFalse\u001b[0m\u001b[31m`. Setting         \u001b[0m\n",
       "\u001b[2;36m             \u001b[0m\u001b[31m`\u001b[0m\u001b[33mreduce_simulation\u001b[0m\u001b[31m=\u001b[0m\u001b[3;92mTrue\u001b[0m\u001b[31m` will force simulation reduction in all    \u001b[0m\n",
       "\u001b[2;36m             \u001b[0m\u001b[31mcases and silence this warning.                                    \u001b[0m\n"
      ]
     },
     "metadata": {},
     "output_type": "display_data"
    },
    {
     "data": {
      "text/html": [
       "<pre style=\"white-space:pre;overflow-x:auto;line-height:normal;font-family:Menlo,'DejaVu Sans Mono',consolas,'Courier New',monospace\"><span style=\"color: #7fbfbf; text-decoration-color: #7fbfbf\">             </span>Mode solver created with                                           \n",
       "<span style=\"color: #7fbfbf; text-decoration-color: #7fbfbf\">             </span><span style=\"color: #808000; text-decoration-color: #808000\">task_id</span>=<span style=\"color: #008000; text-decoration-color: #008000\">'fdve-fbe54982-5f53-42f8-a8de-ad5c1b370944'</span>,               \n",
       "<span style=\"color: #7fbfbf; text-decoration-color: #7fbfbf\">             </span><span style=\"color: #808000; text-decoration-color: #808000\">solver_id</span>=<span style=\"color: #008000; text-decoration-color: #008000\">'mo-e0906139-b37d-4c08-8c7e-e0ed01e91e29'</span>.               \n",
       "</pre>\n"
      ],
      "text/plain": [
       "\u001b[2;36m            \u001b[0m\u001b[2;36m \u001b[0mMode solver created with                                           \n",
       "\u001b[2;36m             \u001b[0m\u001b[33mtask_id\u001b[0m=\u001b[32m'fdve-fbe54982-5f53-42f8-a8de-ad5c1b370944'\u001b[0m,               \n",
       "\u001b[2;36m             \u001b[0m\u001b[33msolver_id\u001b[0m=\u001b[32m'mo-e0906139-b37d-4c08-8c7e-e0ed01e91e29'\u001b[0m.               \n"
      ]
     },
     "metadata": {},
     "output_type": "display_data"
    },
    {
     "data": {
      "application/vnd.jupyter.widget-view+json": {
       "model_id": "edd22da0b9cf490a9f3a229c90930a20",
       "version_major": 2,
       "version_minor": 0
      },
      "text/plain": [
       "Output()"
      ]
     },
     "metadata": {},
     "output_type": "display_data"
    },
    {
     "data": {
      "text/html": [
       "<pre style=\"white-space:pre;overflow-x:auto;line-height:normal;font-family:Menlo,'DejaVu Sans Mono',consolas,'Courier New',monospace\"></pre>\n"
      ],
      "text/plain": []
     },
     "metadata": {},
     "output_type": "display_data"
    },
    {
     "data": {
      "text/html": [
       "<pre style=\"white-space:pre;overflow-x:auto;line-height:normal;font-family:Menlo,'DejaVu Sans Mono',consolas,'Courier New',monospace\">\n",
       "</pre>\n"
      ],
      "text/plain": [
       "\n"
      ]
     },
     "metadata": {},
     "output_type": "display_data"
    },
    {
     "data": {
      "application/vnd.jupyter.widget-view+json": {
       "model_id": "ccb5fa38ad89496caaf28665762e2a2a",
       "version_major": 2,
       "version_minor": 0
      },
      "text/plain": [
       "Output()"
      ]
     },
     "metadata": {},
     "output_type": "display_data"
    },
    {
     "data": {
      "text/html": [
       "<pre style=\"white-space:pre;overflow-x:auto;line-height:normal;font-family:Menlo,'DejaVu Sans Mono',consolas,'Courier New',monospace\"></pre>\n"
      ],
      "text/plain": []
     },
     "metadata": {},
     "output_type": "display_data"
    },
    {
     "data": {
      "text/html": [
       "<pre style=\"white-space:pre;overflow-x:auto;line-height:normal;font-family:Menlo,'DejaVu Sans Mono',consolas,'Courier New',monospace\">\n",
       "</pre>\n"
      ],
      "text/plain": [
       "\n"
      ]
     },
     "metadata": {},
     "output_type": "display_data"
    },
    {
     "data": {
      "text/html": [
       "<pre style=\"white-space:pre;overflow-x:auto;line-height:normal;font-family:Menlo,'DejaVu Sans Mono',consolas,'Courier New',monospace\"><span style=\"color: #7fbfbf; text-decoration-color: #7fbfbf\">11:27:45 CST </span>Mode solver status: queued                                         \n",
       "</pre>\n"
      ],
      "text/plain": [
       "\u001b[2;36m11:27:45 CST\u001b[0m\u001b[2;36m \u001b[0mMode solver status: queued                                         \n"
      ]
     },
     "metadata": {},
     "output_type": "display_data"
    },
    {
     "data": {
      "text/html": [
       "<pre style=\"white-space:pre;overflow-x:auto;line-height:normal;font-family:Menlo,'DejaVu Sans Mono',consolas,'Courier New',monospace\"><span style=\"color: #7fbfbf; text-decoration-color: #7fbfbf\">11:28:01 CST </span>Mode solver status: running                                        \n",
       "</pre>\n"
      ],
      "text/plain": [
       "\u001b[2;36m11:28:01 CST\u001b[0m\u001b[2;36m \u001b[0mMode solver status: running                                        \n"
      ]
     },
     "metadata": {},
     "output_type": "display_data"
    },
    {
     "data": {
      "text/html": [
       "<pre style=\"white-space:pre;overflow-x:auto;line-height:normal;font-family:Menlo,'DejaVu Sans Mono',consolas,'Courier New',monospace\"><span style=\"color: #7fbfbf; text-decoration-color: #7fbfbf\">11:28:12 CST </span>Mode solver status: success                                        \n",
       "</pre>\n"
      ],
      "text/plain": [
       "\u001b[2;36m11:28:12 CST\u001b[0m\u001b[2;36m \u001b[0mMode solver status: success                                        \n"
      ]
     },
     "metadata": {},
     "output_type": "display_data"
    },
    {
     "data": {
      "application/vnd.jupyter.widget-view+json": {
       "model_id": "1c39a3ca5b694e16aaeb74a69a5d2dfd",
       "version_major": 2,
       "version_minor": 0
      },
      "text/plain": [
       "Output()"
      ]
     },
     "metadata": {},
     "output_type": "display_data"
    },
    {
     "data": {
      "text/html": [
       "<pre style=\"white-space:pre;overflow-x:auto;line-height:normal;font-family:Menlo,'DejaVu Sans Mono',consolas,'Courier New',monospace\"></pre>\n"
      ],
      "text/plain": []
     },
     "metadata": {},
     "output_type": "display_data"
    },
    {
     "data": {
      "text/html": [
       "<pre style=\"white-space:pre;overflow-x:auto;line-height:normal;font-family:Menlo,'DejaVu Sans Mono',consolas,'Courier New',monospace\">\n",
       "</pre>\n"
      ],
      "text/plain": [
       "\n"
      ]
     },
     "metadata": {},
     "output_type": "display_data"
    },
    {
     "data": {
      "text/html": [
       "<pre style=\"white-space:pre;overflow-x:auto;line-height:normal;font-family:Menlo,'DejaVu Sans Mono',consolas,'Courier New',monospace\"><span style=\"color: #7fbfbf; text-decoration-color: #7fbfbf\">11:28:13 CST </span><span style=\"color: #800000; text-decoration-color: #800000\">WARNING: The associated `Simulation` object contains custom        </span>\n",
       "<span style=\"color: #7fbfbf; text-decoration-color: #7fbfbf\">             </span><span style=\"color: #800000; text-decoration-color: #800000\">mediums. It will be automatically restricted to the mode solver    </span>\n",
       "<span style=\"color: #7fbfbf; text-decoration-color: #7fbfbf\">             </span><span style=\"color: #800000; text-decoration-color: #800000\">plane to reduce data for uploading. To force uploading the original</span>\n",
       "<span style=\"color: #7fbfbf; text-decoration-color: #7fbfbf\">             </span><span style=\"color: #800000; text-decoration-color: #800000\">`Simulation` object use `</span><span style=\"color: #808000; text-decoration-color: #808000\">reduce_simulation</span><span style=\"color: #800000; text-decoration-color: #800000\">=</span><span style=\"color: #ff0000; text-decoration-color: #ff0000; font-style: italic\">False</span><span style=\"color: #800000; text-decoration-color: #800000\">`. Setting         </span>\n",
       "<span style=\"color: #7fbfbf; text-decoration-color: #7fbfbf\">             </span><span style=\"color: #800000; text-decoration-color: #800000\">`</span><span style=\"color: #808000; text-decoration-color: #808000\">reduce_simulation</span><span style=\"color: #800000; text-decoration-color: #800000\">=</span><span style=\"color: #00ff00; text-decoration-color: #00ff00; font-style: italic\">True</span><span style=\"color: #800000; text-decoration-color: #800000\">` will force simulation reduction in all    </span>\n",
       "<span style=\"color: #7fbfbf; text-decoration-color: #7fbfbf\">             </span><span style=\"color: #800000; text-decoration-color: #800000\">cases and silence this warning.                                    </span>\n",
       "</pre>\n"
      ],
      "text/plain": [
       "\u001b[2;36m11:28:13 CST\u001b[0m\u001b[2;36m \u001b[0m\u001b[31mWARNING: The associated `Simulation` object contains custom        \u001b[0m\n",
       "\u001b[2;36m             \u001b[0m\u001b[31mmediums. It will be automatically restricted to the mode solver    \u001b[0m\n",
       "\u001b[2;36m             \u001b[0m\u001b[31mplane to reduce data for uploading. To force uploading the original\u001b[0m\n",
       "\u001b[2;36m             \u001b[0m\u001b[31m`Simulation` object use `\u001b[0m\u001b[33mreduce_simulation\u001b[0m\u001b[31m=\u001b[0m\u001b[3;91mFalse\u001b[0m\u001b[31m`. Setting         \u001b[0m\n",
       "\u001b[2;36m             \u001b[0m\u001b[31m`\u001b[0m\u001b[33mreduce_simulation\u001b[0m\u001b[31m=\u001b[0m\u001b[3;92mTrue\u001b[0m\u001b[31m` will force simulation reduction in all    \u001b[0m\n",
       "\u001b[2;36m             \u001b[0m\u001b[31mcases and silence this warning.                                    \u001b[0m\n"
      ]
     },
     "metadata": {},
     "output_type": "display_data"
    },
    {
     "data": {
      "text/html": [
       "<pre style=\"white-space:pre;overflow-x:auto;line-height:normal;font-family:Menlo,'DejaVu Sans Mono',consolas,'Courier New',monospace\"><span style=\"color: #7fbfbf; text-decoration-color: #7fbfbf\">             </span>Mode solver created with                                           \n",
       "<span style=\"color: #7fbfbf; text-decoration-color: #7fbfbf\">             </span><span style=\"color: #808000; text-decoration-color: #808000\">task_id</span>=<span style=\"color: #008000; text-decoration-color: #008000\">'fdve-1e3f75fa-6e9d-4569-b08e-81a95aad6069'</span>,               \n",
       "<span style=\"color: #7fbfbf; text-decoration-color: #7fbfbf\">             </span><span style=\"color: #808000; text-decoration-color: #808000\">solver_id</span>=<span style=\"color: #008000; text-decoration-color: #008000\">'mo-f72f4527-69d0-4977-b13d-ac7108e90c4e'</span>.               \n",
       "</pre>\n"
      ],
      "text/plain": [
       "\u001b[2;36m            \u001b[0m\u001b[2;36m \u001b[0mMode solver created with                                           \n",
       "\u001b[2;36m             \u001b[0m\u001b[33mtask_id\u001b[0m=\u001b[32m'fdve-1e3f75fa-6e9d-4569-b08e-81a95aad6069'\u001b[0m,               \n",
       "\u001b[2;36m             \u001b[0m\u001b[33msolver_id\u001b[0m=\u001b[32m'mo-f72f4527-69d0-4977-b13d-ac7108e90c4e'\u001b[0m.               \n"
      ]
     },
     "metadata": {},
     "output_type": "display_data"
    },
    {
     "data": {
      "application/vnd.jupyter.widget-view+json": {
       "model_id": "84e47bc508864870b8e2a2d688c7f302",
       "version_major": 2,
       "version_minor": 0
      },
      "text/plain": [
       "Output()"
      ]
     },
     "metadata": {},
     "output_type": "display_data"
    },
    {
     "data": {
      "text/html": [
       "<pre style=\"white-space:pre;overflow-x:auto;line-height:normal;font-family:Menlo,'DejaVu Sans Mono',consolas,'Courier New',monospace\"></pre>\n"
      ],
      "text/plain": []
     },
     "metadata": {},
     "output_type": "display_data"
    },
    {
     "data": {
      "text/html": [
       "<pre style=\"white-space:pre;overflow-x:auto;line-height:normal;font-family:Menlo,'DejaVu Sans Mono',consolas,'Courier New',monospace\">\n",
       "</pre>\n"
      ],
      "text/plain": [
       "\n"
      ]
     },
     "metadata": {},
     "output_type": "display_data"
    },
    {
     "data": {
      "application/vnd.jupyter.widget-view+json": {
       "model_id": "bb7bd14336ac4443a1823624cd219f6b",
       "version_major": 2,
       "version_minor": 0
      },
      "text/plain": [
       "Output()"
      ]
     },
     "metadata": {},
     "output_type": "display_data"
    },
    {
     "data": {
      "text/html": [
       "<pre style=\"white-space:pre;overflow-x:auto;line-height:normal;font-family:Menlo,'DejaVu Sans Mono',consolas,'Courier New',monospace\"></pre>\n"
      ],
      "text/plain": []
     },
     "metadata": {},
     "output_type": "display_data"
    },
    {
     "data": {
      "text/html": [
       "<pre style=\"white-space:pre;overflow-x:auto;line-height:normal;font-family:Menlo,'DejaVu Sans Mono',consolas,'Courier New',monospace\">\n",
       "</pre>\n"
      ],
      "text/plain": [
       "\n"
      ]
     },
     "metadata": {},
     "output_type": "display_data"
    },
    {
     "data": {
      "text/html": [
       "<pre style=\"white-space:pre;overflow-x:auto;line-height:normal;font-family:Menlo,'DejaVu Sans Mono',consolas,'Courier New',monospace\"><span style=\"color: #7fbfbf; text-decoration-color: #7fbfbf\">11:28:15 CST </span>Mode solver status: queued                                         \n",
       "</pre>\n"
      ],
      "text/plain": [
       "\u001b[2;36m11:28:15 CST\u001b[0m\u001b[2;36m \u001b[0mMode solver status: queued                                         \n"
      ]
     },
     "metadata": {},
     "output_type": "display_data"
    },
    {
     "data": {
      "text/html": [
       "<pre style=\"white-space:pre;overflow-x:auto;line-height:normal;font-family:Menlo,'DejaVu Sans Mono',consolas,'Courier New',monospace\"><span style=\"color: #7fbfbf; text-decoration-color: #7fbfbf\">11:28:31 CST </span>Mode solver status: running                                        \n",
       "</pre>\n"
      ],
      "text/plain": [
       "\u001b[2;36m11:28:31 CST\u001b[0m\u001b[2;36m \u001b[0mMode solver status: running                                        \n"
      ]
     },
     "metadata": {},
     "output_type": "display_data"
    },
    {
     "data": {
      "text/html": [
       "<pre style=\"white-space:pre;overflow-x:auto;line-height:normal;font-family:Menlo,'DejaVu Sans Mono',consolas,'Courier New',monospace\"><span style=\"color: #7fbfbf; text-decoration-color: #7fbfbf\">11:28:42 CST </span>Mode solver status: success                                        \n",
       "</pre>\n"
      ],
      "text/plain": [
       "\u001b[2;36m11:28:42 CST\u001b[0m\u001b[2;36m \u001b[0mMode solver status: success                                        \n"
      ]
     },
     "metadata": {},
     "output_type": "display_data"
    },
    {
     "data": {
      "application/vnd.jupyter.widget-view+json": {
       "model_id": "df0b12e7d0e04b96bce731166ca419d6",
       "version_major": 2,
       "version_minor": 0
      },
      "text/plain": [
       "Output()"
      ]
     },
     "metadata": {},
     "output_type": "display_data"
    },
    {
     "data": {
      "text/html": [
       "<pre style=\"white-space:pre;overflow-x:auto;line-height:normal;font-family:Menlo,'DejaVu Sans Mono',consolas,'Courier New',monospace\"></pre>\n"
      ],
      "text/plain": []
     },
     "metadata": {},
     "output_type": "display_data"
    },
    {
     "data": {
      "text/html": [
       "<pre style=\"white-space:pre;overflow-x:auto;line-height:normal;font-family:Menlo,'DejaVu Sans Mono',consolas,'Courier New',monospace\">\n",
       "</pre>\n"
      ],
      "text/plain": [
       "\n"
      ]
     },
     "metadata": {},
     "output_type": "display_data"
    }
   ],
   "source": [
    "ms_data = []\n",
    "for ms in mode_solvers:\n",
    "    md = run_mode(ms)\n",
    "    ms_data.append(md)"
   ]
  },
  {
   "cell_type": "markdown",
   "id": "16252a03-94ce-4a2c-8717-a9f50a5eeb09",
   "metadata": {},
   "source": [
    "Let us extract the effective propagation index for the central frequency and visualize its dependence on applied voltage. As expected, increasing the applied voltage results in a more pronounced change in the propagation index and, at the same time, in larger losses in the waveguide."
   ]
  },
  {
   "cell_type": "code",
   "execution_count": 31,
   "id": "839bf0fe-3346-479b-99f9-26f6c35b9375",
   "metadata": {},
   "outputs": [
    {
     "data": {
      "image/png": "[encoded data removed]",
      "text/plain": [
       "<Figure size 1500x400 with 2 Axes>"
      ]
     },
     "metadata": {},
     "output_type": "display_data"
    }
   ],
   "source": [
    "n_eff_freq0 = [md.n_complex.sel(f=freq0, mode_index=0).values for md in ms_data]\n",
    "\n",
    "_, ax = plt.subplots(1, 2, figsize=(15, 4))\n",
    "ax[0].plot(voltages, np.real(n_eff_freq0), \".-\")\n",
    "\n",
    "ax[0].set_xlabel(\"Bias (V)\")\n",
    "ax[0].set_ylabel(\"Re[$n_{eff}$]\")\n",
    "\n",
    "ax[1].plot(voltages, np.imag(n_eff_freq0), \".-\")\n",
    "\n",
    "ax[1].set_xlabel(\"Bias (V)\")\n",
    "ax[1].set_ylabel(\"Im[$n_{eff}$]\")\n",
    "\n",
    "plt.show()"
   ]
  },
  {
   "cell_type": "markdown",
   "id": "f072e22e-8855-44a7-8695-1c191529aa20",
   "metadata": {},
   "source": [
    "Using the obtained propagation index values we can compute the associated phase change and loss over the PIN section of the modulator at the central wavelength of 1.55 um. From this information we can estimate the bias $V_\\pi$ required for a phase shift of $\\pi$ to be around 0.95 V. In [Zhou Liang et al 2011 Chinese Phys. Lett. 28 074202](https://doi.org/10.1088/0256-307X/28/7/074202) the value of 1.15 V was obtained for a similar experimental setup."
   ]
  },
  {
   "cell_type": "code",
   "execution_count": 32,
   "id": "2c96600b-7bba-4b99-a757-8acd5453a134",
   "metadata": {
    "editable": true,
    "slideshow": {
     "slide_type": ""
    },
    "tags": []
   },
   "outputs": [
    {
     "data": {
      "image/png": "[encoded data removed]",
      "text/plain": [
       "<Figure size 1500x400 with 2 Axes>"
      ]
     },
     "metadata": {},
     "output_type": "display_data"
    }
   ],
   "source": [
    "phase_shift = 2 * np.pi / wvl_um * (np.real(n_eff_freq0) - np.real(n_eff_freq0[0])) * pin_length\n",
    "intensity = np.exp(-4 * np.pi * np.imag(n_eff_freq0) * pin_length / wvl_um)\n",
    "\n",
    "_, ax = plt.subplots(1, 2, figsize=(15, 4))\n",
    "ax[0].plot(voltages, phase_shift / np.pi, \".-\")\n",
    "ax[0].axhline(y=-1, color=\"k\", linestyle=\"--\")\n",
    "\n",
    "ax[0].set_xlabel(\"Bias (V)\")\n",
    "ax[0].set_ylabel(\"Phase shift ($\\pi$)\")\n",
    "\n",
    "ax[1].plot(voltages, 10 * np.log10(intensity), \".-\")\n",
    "\n",
    "ax[1].set_xlabel(\"Bias (V)\")\n",
    "ax[1].set_ylabel(\"Output power (dB)\")\n",
    "\n",
    "plt.show()"
   ]
  },
  {
   "cell_type": "markdown",
   "id": "437d4710-78dd-46ff-aa00-24b27726d236",
   "metadata": {},
   "source": [
    "### Full-wave simulation of the circuit\n",
    "\n",
    "**Note: the cost of running this section is over 15 FlexCredits.**\n",
    "\n",
    "While performing full-wave simulations is not the most cost effective approach for such a simple geometry, we still perform it here for zero and 1 V bias values for demonstration purposes. Alternatively, one could achieve the full-wave simulation accuracy by diving the problem setup into smaller components and obtaining S-matrix for each of them using Tidy3D's [ComponentModeler](https://www.flexcompute.com/tidy3d/examples/notebooks/SMatrix/) plugin. Here, we simply perform simulation over the entire circuit."
   ]
  },
  {
   "cell_type": "markdown",
   "id": "70b4818e-512d-4e18-a9e2-0fda5f222e67",
   "metadata": {},
   "source": [
    "For a clearer demonstration let us obtain free carrier distribution for the approximately found $V_\\pi$ of 0.95 V."
   ]
  },
  {
   "cell_type": "code",
   "execution_count": 33,
   "id": "8bcfe165-46c3-4d0e-9963-12138eca51f7",
   "metadata": {},
   "outputs": [],
   "source": [
    "%%capture\n",
    "devsim.reset_devsim()\n",
    "\n",
    "electrons_data, holes_data = solve_charge(\n",
    "    w_core=w_core, \n",
    "    h_core=h_core, \n",
    "    h_slab=h_slab, \n",
    "    h_side=h_side, \n",
    "    w_contact=[w_contact, w_contact], \n",
    "    h_contact=h_contact,\n",
    "    x_side=[-x_side, x_side], \n",
    "    x_total=[-x_total, x_total], \n",
    "    x_i=[-x_i, x_i], \n",
    "    x_p=[-x_p, x_p], \n",
    "    conc_p=conc_p,\n",
    "    conc_pp=conc_pp,\n",
    "    conc_n=conc_n,\n",
    "    conc_nn=conc_nn,\n",
    "    voltages=np.linspace(0, 0.95, 10),\n",
    "    res=res,\n",
    "    center=[0, wg_spacing / 2, 0],\n",
    "    axis=0,\n",
    ")"
   ]
  },
  {
   "cell_type": "code",
   "execution_count": 34,
   "id": "706bb455-e81d-4afd-b8fc-6b34c712a765",
   "metadata": {},
   "outputs": [],
   "source": [
    "perturbed_sim_0_95V = apply_charge([electrons_data[-1]], [holes_data[-1]])[0]"
   ]
  },
  {
   "cell_type": "markdown",
   "id": "7596d156-99c8-4d32-9943-912c810e77de",
   "metadata": {},
   "source": [
    "For convenience, we use `Batch` functionality to submit two simulation for solving in parallel."
   ]
  },
  {
   "cell_type": "code",
   "execution_count": 35,
   "id": "504fdd7b-fffe-4987-bd95-d683be09514a",
   "metadata": {},
   "outputs": [
    {
     "data": {
      "text/html": [
       "<pre style=\"white-space:pre;overflow-x:auto;line-height:normal;font-family:Menlo,'DejaVu Sans Mono',consolas,'Courier New',monospace\"><span style=\"color: #7fbfbf; text-decoration-color: #7fbfbf\">11:29:17 CST </span>Created task <span style=\"color: #008000; text-decoration-color: #008000\">'Bias: 0 V'</span> with task_id                              \n",
       "<span style=\"color: #7fbfbf; text-decoration-color: #7fbfbf\">             </span><span style=\"color: #008000; text-decoration-color: #008000\">'fdve-8fd242d8-bc08-4e49-bb53-8910266c8937'</span> and task_type <span style=\"color: #008000; text-decoration-color: #008000\">'FDTD'</span>.  \n",
       "</pre>\n"
      ],
      "text/plain": [
       "\u001b[2;36m11:29:17 CST\u001b[0m\u001b[2;36m \u001b[0mCreated task \u001b[32m'Bias: 0 V'\u001b[0m with task_id                              \n",
       "\u001b[2;36m             \u001b[0m\u001b[32m'fdve-8fd242d8-bc08-4e49-bb53-8910266c8937'\u001b[0m and task_type \u001b[32m'FDTD'\u001b[0m.  \n"
      ]
     },
     "metadata": {},
     "output_type": "display_data"
    },
    {
     "data": {
      "text/html": [
       "<pre style=\"white-space:pre;overflow-x:auto;line-height:normal;font-family:Menlo,'DejaVu Sans Mono',consolas,'Courier New',monospace\"><span style=\"color: #7fbfbf; text-decoration-color: #7fbfbf\">             </span>View task using web UI at                                          \n",
       "<span style=\"color: #7fbfbf; text-decoration-color: #7fbfbf\">             </span><a href=\"https://tidy3d.simulation.cloud/workbench?taskId=fdve-8fd242d8-bc08-4e49-bb53-8910266c8937\" target=\"_blank\"><span style=\"color: #008000; text-decoration-color: #008000\">'https://tidy3d.simulation.cloud/workbench?taskId=fdve-8fd242d8-bc0</span></a>\n",
       "<span style=\"color: #7fbfbf; text-decoration-color: #7fbfbf\">             </span><a href=\"https://tidy3d.simulation.cloud/workbench?taskId=fdve-8fd242d8-bc08-4e49-bb53-8910266c8937\" target=\"_blank\"><span style=\"color: #008000; text-decoration-color: #008000\">8-4e49-bb53-8910266c8937'</span></a>.                                         \n",
       "</pre>\n"
      ],
      "text/plain": [
       "\u001b[2;36m            \u001b[0m\u001b[2;36m \u001b[0mView task using web UI at                                          \n",
       "\u001b[2;36m             \u001b[0m\u001b]8;id=188300;https://tidy3d.simulation.cloud/workbench?taskId=fdve-8fd242d8-bc08-4e49-bb53-8910266c8937\u001b\\\u001b[32m'https://tidy3d.simulation.cloud/workbench?\u001b[0m\u001b]8;;\u001b\\\u001b]8;id=924395;https://tidy3d.simulation.cloud/workbench?taskId=fdve-8fd242d8-bc08-4e49-bb53-8910266c8937\u001b\\\u001b[32mtaskId\u001b[0m\u001b]8;;\u001b\\\u001b]8;id=188300;https://tidy3d.simulation.cloud/workbench?taskId=fdve-8fd242d8-bc08-4e49-bb53-8910266c8937\u001b\\\u001b[32m=\u001b[0m\u001b]8;;\u001b\\\u001b]8;id=367155;https://tidy3d.simulation.cloud/workbench?taskId=fdve-8fd242d8-bc08-4e49-bb53-8910266c8937\u001b\\\u001b[32mfdve\u001b[0m\u001b]8;;\u001b\\\u001b]8;id=188300;https://tidy3d.simulation.cloud/workbench?taskId=fdve-8fd242d8-bc08-4e49-bb53-8910266c8937\u001b\\\u001b[32m-8fd242d8-bc0\u001b[0m\u001b]8;;\u001b\\\n",
       "\u001b[2;36m             \u001b[0m\u001b]8;id=188300;https://tidy3d.simulation.cloud/workbench?taskId=fdve-8fd242d8-bc08-4e49-bb53-8910266c8937\u001b\\\u001b[32m8-4e49-bb53-8910266c8937'\u001b[0m\u001b]8;;\u001b\\.                                         \n"
      ]
     },
     "metadata": {},
     "output_type": "display_data"
    },
    {
     "data": {
      "application/vnd.jupyter.widget-view+json": {
       "model_id": "3a4101e7668c4a4cb6452507ce2b1aef",
       "version_major": 2,
       "version_minor": 0
      },
      "text/plain": [
       "Output()"
      ]
     },
     "metadata": {},
     "output_type": "display_data"
    },
    {
     "data": {
      "text/html": [
       "<pre style=\"white-space:pre;overflow-x:auto;line-height:normal;font-family:Menlo,'DejaVu Sans Mono',consolas,'Courier New',monospace\"></pre>\n"
      ],
      "text/plain": []
     },
     "metadata": {},
     "output_type": "display_data"
    },
    {
     "data": {
      "text/html": [
       "<pre style=\"white-space:pre;overflow-x:auto;line-height:normal;font-family:Menlo,'DejaVu Sans Mono',consolas,'Courier New',monospace\">\n",
       "</pre>\n"
      ],
      "text/plain": [
       "\n"
      ]
     },
     "metadata": {},
     "output_type": "display_data"
    },
    {
     "data": {
      "text/html": [
       "<pre style=\"white-space:pre;overflow-x:auto;line-height:normal;font-family:Menlo,'DejaVu Sans Mono',consolas,'Courier New',monospace\"><span style=\"color: #7fbfbf; text-decoration-color: #7fbfbf\">             </span>Created task <span style=\"color: #008000; text-decoration-color: #008000\">'Bias: 0.95 V'</span> with task_id                           \n",
       "<span style=\"color: #7fbfbf; text-decoration-color: #7fbfbf\">             </span><span style=\"color: #008000; text-decoration-color: #008000\">'fdve-917d6d65-fdde-4872-a050-f1d884d1f884'</span> and task_type <span style=\"color: #008000; text-decoration-color: #008000\">'FDTD'</span>.  \n",
       "</pre>\n"
      ],
      "text/plain": [
       "\u001b[2;36m            \u001b[0m\u001b[2;36m \u001b[0mCreated task \u001b[32m'Bias: 0.95 V'\u001b[0m with task_id                           \n",
       "\u001b[2;36m             \u001b[0m\u001b[32m'fdve-917d6d65-fdde-4872-a050-f1d884d1f884'\u001b[0m and task_type \u001b[32m'FDTD'\u001b[0m.  \n"
      ]
     },
     "metadata": {},
     "output_type": "display_data"
    },
    {
     "data": {
      "text/html": [
       "<pre style=\"white-space:pre;overflow-x:auto;line-height:normal;font-family:Menlo,'DejaVu Sans Mono',consolas,'Courier New',monospace\"><span style=\"color: #7fbfbf; text-decoration-color: #7fbfbf\">             </span>View task using web UI at                                          \n",
       "<span style=\"color: #7fbfbf; text-decoration-color: #7fbfbf\">             </span><a href=\"https://tidy3d.simulation.cloud/workbench?taskId=fdve-917d6d65-fdde-4872-a050-f1d884d1f884\" target=\"_blank\"><span style=\"color: #008000; text-decoration-color: #008000\">'https://tidy3d.simulation.cloud/workbench?taskId=fdve-917d6d65-fdd</span></a>\n",
       "<span style=\"color: #7fbfbf; text-decoration-color: #7fbfbf\">             </span><a href=\"https://tidy3d.simulation.cloud/workbench?taskId=fdve-917d6d65-fdde-4872-a050-f1d884d1f884\" target=\"_blank\"><span style=\"color: #008000; text-decoration-color: #008000\">e-4872-a050-f1d884d1f884'</span></a>.                                         \n",
       "</pre>\n"
      ],
      "text/plain": [
       "\u001b[2;36m            \u001b[0m\u001b[2;36m \u001b[0mView task using web UI at                                          \n",
       "\u001b[2;36m             \u001b[0m\u001b]8;id=38343;https://tidy3d.simulation.cloud/workbench?taskId=fdve-917d6d65-fdde-4872-a050-f1d884d1f884\u001b\\\u001b[32m'https://tidy3d.simulation.cloud/workbench?\u001b[0m\u001b]8;;\u001b\\\u001b]8;id=964652;https://tidy3d.simulation.cloud/workbench?taskId=fdve-917d6d65-fdde-4872-a050-f1d884d1f884\u001b\\\u001b[32mtaskId\u001b[0m\u001b]8;;\u001b\\\u001b]8;id=38343;https://tidy3d.simulation.cloud/workbench?taskId=fdve-917d6d65-fdde-4872-a050-f1d884d1f884\u001b\\\u001b[32m=\u001b[0m\u001b]8;;\u001b\\\u001b]8;id=147537;https://tidy3d.simulation.cloud/workbench?taskId=fdve-917d6d65-fdde-4872-a050-f1d884d1f884\u001b\\\u001b[32mfdve\u001b[0m\u001b]8;;\u001b\\\u001b]8;id=38343;https://tidy3d.simulation.cloud/workbench?taskId=fdve-917d6d65-fdde-4872-a050-f1d884d1f884\u001b\\\u001b[32m-917d6d65-fdd\u001b[0m\u001b]8;;\u001b\\\n",
       "\u001b[2;36m             \u001b[0m\u001b]8;id=38343;https://tidy3d.simulation.cloud/workbench?taskId=fdve-917d6d65-fdde-4872-a050-f1d884d1f884\u001b\\\u001b[32me-4872-a050-f1d884d1f884'\u001b[0m\u001b]8;;\u001b\\.                                         \n"
      ]
     },
     "metadata": {},
     "output_type": "display_data"
    },
    {
     "data": {
      "application/vnd.jupyter.widget-view+json": {
       "model_id": "647eeea38bf24f1f967d17a0aa4f1a01",
       "version_major": 2,
       "version_minor": 0
      },
      "text/plain": [
       "Output()"
      ]
     },
     "metadata": {},
     "output_type": "display_data"
    },
    {
     "data": {
      "text/html": [
       "<pre style=\"white-space:pre;overflow-x:auto;line-height:normal;font-family:Menlo,'DejaVu Sans Mono',consolas,'Courier New',monospace\"></pre>\n"
      ],
      "text/plain": []
     },
     "metadata": {},
     "output_type": "display_data"
    },
    {
     "data": {
      "text/html": [
       "<pre style=\"white-space:pre;overflow-x:auto;line-height:normal;font-family:Menlo,'DejaVu Sans Mono',consolas,'Courier New',monospace\">\n",
       "</pre>\n"
      ],
      "text/plain": [
       "\n"
      ]
     },
     "metadata": {},
     "output_type": "display_data"
    },
    {
     "data": {
      "text/html": [
       "<pre style=\"white-space:pre;overflow-x:auto;line-height:normal;font-family:Menlo,'DejaVu Sans Mono',consolas,'Courier New',monospace\"><span style=\"color: #7fbfbf; text-decoration-color: #7fbfbf\">11:29:19 CST </span>Started working on Batch.                                          \n",
       "</pre>\n"
      ],
      "text/plain": [
       "\u001b[2;36m11:29:19 CST\u001b[0m\u001b[2;36m \u001b[0mStarted working on Batch.                                          \n"
      ]
     },
     "metadata": {},
     "output_type": "display_data"
    },
    {
     "data": {
      "text/html": [
       "<pre style=\"white-space:pre;overflow-x:auto;line-height:normal;font-family:Menlo,'DejaVu Sans Mono',consolas,'Courier New',monospace\"><span style=\"color: #7fbfbf; text-decoration-color: #7fbfbf\">11:29:32 CST </span>Maximum FlexCredit cost: <span style=\"color: #008080; text-decoration-color: #008080; font-weight: bold\">25.283</span> for the whole batch.               \n",
       "</pre>\n"
      ],
      "text/plain": [
       "\u001b[2;36m11:29:32 CST\u001b[0m\u001b[2;36m \u001b[0mMaximum FlexCredit cost: \u001b[1;36m25.283\u001b[0m for the whole batch.               \n"
      ]
     },
     "metadata": {},
     "output_type": "display_data"
    },
    {
     "data": {
      "text/html": [
       "<pre style=\"white-space:pre;overflow-x:auto;line-height:normal;font-family:Menlo,'DejaVu Sans Mono',consolas,'Courier New',monospace\"><span style=\"color: #7fbfbf; text-decoration-color: #7fbfbf\">             </span>Use <span style=\"color: #008000; text-decoration-color: #008000\">'Batch.real_cost()'</span> to get the billed FlexCredit cost after the\n",
       "<span style=\"color: #7fbfbf; text-decoration-color: #7fbfbf\">             </span>Batch has completed.                                               \n",
       "</pre>\n"
      ],
      "text/plain": [
       "\u001b[2;36m            \u001b[0m\u001b[2;36m \u001b[0mUse \u001b[32m'Batch.real_cost\u001b[0m\u001b[32m(\u001b[0m\u001b[32m)\u001b[0m\u001b[32m'\u001b[0m to get the billed FlexCredit cost after the\n",
       "\u001b[2;36m             \u001b[0mBatch has completed.                                               \n"
      ]
     },
     "metadata": {},
     "output_type": "display_data"
    },
    {
     "data": {
      "application/vnd.jupyter.widget-view+json": {
       "model_id": "2aac27dd6a354d4ca9b47c855284abd7",
       "version_major": 2,
       "version_minor": 0
      },
      "text/plain": [
       "Output()"
      ]
     },
     "metadata": {},
     "output_type": "display_data"
    },
    {
     "data": {
      "text/html": [
       "<pre style=\"white-space:pre;overflow-x:auto;line-height:normal;font-family:Menlo,'DejaVu Sans Mono',consolas,'Courier New',monospace\"><span style=\"color: #7fbfbf; text-decoration-color: #7fbfbf\">11:38:49 CST </span>Batch complete.                                                    \n",
       "</pre>\n"
      ],
      "text/plain": [
       "\u001b[2;36m11:38:49 CST\u001b[0m\u001b[2;36m \u001b[0mBatch complete.                                                    \n"
      ]
     },
     "metadata": {},
     "output_type": "display_data"
    },
    {
     "data": {
      "text/html": [
       "<pre style=\"white-space:pre;overflow-x:auto;line-height:normal;font-family:Menlo,'DejaVu Sans Mono',consolas,'Courier New',monospace\"></pre>\n"
      ],
      "text/plain": []
     },
     "metadata": {},
     "output_type": "display_data"
    },
    {
     "data": {
      "text/html": [
       "<pre style=\"white-space:pre;overflow-x:auto;line-height:normal;font-family:Menlo,'DejaVu Sans Mono',consolas,'Courier New',monospace\">\n",
       "</pre>\n"
      ],
      "text/plain": [
       "\n"
      ]
     },
     "metadata": {},
     "output_type": "display_data"
    }
   ],
   "source": [
    "batch = web.Batch(simulations={f\"Bias: 0 V\": perturbed_sims[0], f\"Bias: 0.95 V\": perturbed_sim_0_95V})\n",
    "batch_data = batch.run()"
   ]
  },
  {
   "cell_type": "markdown",
   "id": "7865d9d1-7e82-48b7-bb04-4e6ba63cfe7b",
   "metadata": {},
   "source": [
    "Let us first visualize the field distribution across the whole circuit. Comparing the two simulations, one can qualitatively observe two effects:\n",
    "1) power in the output waveguide is drastically changed as bias value of 0.95 V is close to $V_\\pi$,\n",
    "2) the signal strength visibly decreases along the PIN section of the modulator in the case of 0.95 V bias value due to losses associated with the increased concentration of free carriers.\n",
    "\n",
    "Note that unequal aspect ratio is used for plotting."
   ]
  },
  {
   "cell_type": "code",
   "execution_count": 38,
   "id": "0be60cc5-44d1-48ba-be56-8513c124c1e0",
   "metadata": {},
   "outputs": [
    {
     "data": {
      "text/html": [
       "<pre style=\"white-space:pre;overflow-x:auto;line-height:normal;font-family:Menlo,'DejaVu Sans Mono',consolas,'Courier New',monospace\"><span style=\"color: #7fbfbf; text-decoration-color: #7fbfbf\">11:42:48 CST </span>loading simulation from                                            \n",
       "<span style=\"color: #7fbfbf; text-decoration-color: #7fbfbf\">             </span>.<span style=\"color: #800080; text-decoration-color: #800080\">/</span><span style=\"color: #ff00ff; text-decoration-color: #ff00ff\">fdve-8fd242d8-bc08-4e49-bb53-8910266c8937.hdf5</span>                   \n",
       "</pre>\n"
      ],
      "text/plain": [
       "\u001b[2;36m11:42:48 CST\u001b[0m\u001b[2;36m \u001b[0mloading simulation from                                            \n",
       "\u001b[2;36m             \u001b[0m.\u001b[35m/\u001b[0m\u001b[95mfdve-8fd242d8-bc08-4e49-bb53-8910266c8937.hdf5\u001b[0m                   \n"
      ]
     },
     "metadata": {},
     "output_type": "display_data"
    },
    {
     "data": {
      "text/html": [
       "<pre style=\"white-space:pre;overflow-x:auto;line-height:normal;font-family:Menlo,'DejaVu Sans Mono',consolas,'Courier New',monospace\"><span style=\"color: #7fbfbf; text-decoration-color: #7fbfbf\">             </span>loading simulation from                                            \n",
       "<span style=\"color: #7fbfbf; text-decoration-color: #7fbfbf\">             </span>.<span style=\"color: #800080; text-decoration-color: #800080\">/</span><span style=\"color: #ff00ff; text-decoration-color: #ff00ff\">fdve-8fd242d8-bc08-4e49-bb53-8910266c8937.hdf5</span>                   \n",
       "</pre>\n"
      ],
      "text/plain": [
       "\u001b[2;36m            \u001b[0m\u001b[2;36m \u001b[0mloading simulation from                                            \n",
       "\u001b[2;36m             \u001b[0m.\u001b[35m/\u001b[0m\u001b[95mfdve-8fd242d8-bc08-4e49-bb53-8910266c8937.hdf5\u001b[0m                   \n"
      ]
     },
     "metadata": {},
     "output_type": "display_data"
    },
    {
     "data": {
      "text/html": [
       "<pre style=\"white-space:pre;overflow-x:auto;line-height:normal;font-family:Menlo,'DejaVu Sans Mono',consolas,'Courier New',monospace\"><span style=\"color: #7fbfbf; text-decoration-color: #7fbfbf\">11:42:52 CST </span>loading simulation from                                            \n",
       "<span style=\"color: #7fbfbf; text-decoration-color: #7fbfbf\">             </span>.<span style=\"color: #800080; text-decoration-color: #800080\">/</span><span style=\"color: #ff00ff; text-decoration-color: #ff00ff\">fdve-917d6d65-fdde-4872-a050-f1d884d1f884.hdf5</span>                   \n",
       "</pre>\n"
      ],
      "text/plain": [
       "\u001b[2;36m11:42:52 CST\u001b[0m\u001b[2;36m \u001b[0mloading simulation from                                            \n",
       "\u001b[2;36m             \u001b[0m.\u001b[35m/\u001b[0m\u001b[95mfdve-917d6d65-fdde-4872-a050-f1d884d1f884.hdf5\u001b[0m                   \n"
      ]
     },
     "metadata": {},
     "output_type": "display_data"
    },
    {
     "data": {
      "text/html": [
       "<pre style=\"white-space:pre;overflow-x:auto;line-height:normal;font-family:Menlo,'DejaVu Sans Mono',consolas,'Courier New',monospace\"><span style=\"color: #7fbfbf; text-decoration-color: #7fbfbf\">             </span>loading simulation from                                            \n",
       "<span style=\"color: #7fbfbf; text-decoration-color: #7fbfbf\">             </span>.<span style=\"color: #800080; text-decoration-color: #800080\">/</span><span style=\"color: #ff00ff; text-decoration-color: #ff00ff\">fdve-917d6d65-fdde-4872-a050-f1d884d1f884.hdf5</span>                   \n",
       "</pre>\n"
      ],
      "text/plain": [
       "\u001b[2;36m            \u001b[0m\u001b[2;36m \u001b[0mloading simulation from                                            \n",
       "\u001b[2;36m             \u001b[0m.\u001b[35m/\u001b[0m\u001b[95mfdve-917d6d65-fdde-4872-a050-f1d884d1f884.hdf5\u001b[0m                   \n"
      ]
     },
     "metadata": {},
     "output_type": "display_data"
    },
    {
     "data": {
      "image/png": "[encoded data removed]",
      "text/plain": [
       "<Figure size 1000x1000 with 4 Axes>"
      ]
     },
     "metadata": {},
     "output_type": "display_data"
    }
   ],
   "source": [
    "_, ax = plt.subplots(2, 1, figsize=(10, 10))\n",
    "\n",
    "for ind, (key, data) in enumerate(batch_data.items()):\n",
    "    batch_data[key].plot_field(\"field\", \"S\", ax=ax[ind])\n",
    "    ax[ind].set_title(key)\n",
    "    ax[ind].set_aspect(\"auto\")\n",
    "\n",
    "plt.tight_layout()\n",
    "plt.show()"
   ]
  },
  {
   "cell_type": "markdown",
   "id": "e8688e81-72ee-4d52-8dac-647f91c54787",
   "metadata": {},
   "source": [
    "A more quantitative visualization of data can be obtained from the output `ModeMonitor` results."
   ]
  },
  {
   "cell_type": "code",
   "execution_count": 39,
   "id": "93ad28f6-0c6e-4051-b587-0869e6f39d90",
   "metadata": {},
   "outputs": [
    {
     "data": {
      "text/html": [
       "<pre style=\"white-space:pre;overflow-x:auto;line-height:normal;font-family:Menlo,'DejaVu Sans Mono',consolas,'Courier New',monospace\"><span style=\"color: #7fbfbf; text-decoration-color: #7fbfbf\">11:44:15 CST </span>loading simulation from                                            \n",
       "<span style=\"color: #7fbfbf; text-decoration-color: #7fbfbf\">             </span>.<span style=\"color: #800080; text-decoration-color: #800080\">/</span><span style=\"color: #ff00ff; text-decoration-color: #ff00ff\">fdve-8fd242d8-bc08-4e49-bb53-8910266c8937.hdf5</span>                   \n",
       "</pre>\n"
      ],
      "text/plain": [
       "\u001b[2;36m11:44:15 CST\u001b[0m\u001b[2;36m \u001b[0mloading simulation from                                            \n",
       "\u001b[2;36m             \u001b[0m.\u001b[35m/\u001b[0m\u001b[95mfdve-8fd242d8-bc08-4e49-bb53-8910266c8937.hdf5\u001b[0m                   \n"
      ]
     },
     "metadata": {},
     "output_type": "display_data"
    },
    {
     "data": {
      "text/html": [
       "<pre style=\"white-space:pre;overflow-x:auto;line-height:normal;font-family:Menlo,'DejaVu Sans Mono',consolas,'Courier New',monospace\"><span style=\"color: #7fbfbf; text-decoration-color: #7fbfbf\">             </span>loading simulation from                                            \n",
       "<span style=\"color: #7fbfbf; text-decoration-color: #7fbfbf\">             </span>.<span style=\"color: #800080; text-decoration-color: #800080\">/</span><span style=\"color: #ff00ff; text-decoration-color: #ff00ff\">fdve-8fd242d8-bc08-4e49-bb53-8910266c8937.hdf5</span>                   \n",
       "</pre>\n"
      ],
      "text/plain": [
       "\u001b[2;36m            \u001b[0m\u001b[2;36m \u001b[0mloading simulation from                                            \n",
       "\u001b[2;36m             \u001b[0m.\u001b[35m/\u001b[0m\u001b[95mfdve-8fd242d8-bc08-4e49-bb53-8910266c8937.hdf5\u001b[0m                   \n"
      ]
     },
     "metadata": {},
     "output_type": "display_data"
    },
    {
     "data": {
      "text/html": [
       "<pre style=\"white-space:pre;overflow-x:auto;line-height:normal;font-family:Menlo,'DejaVu Sans Mono',consolas,'Courier New',monospace\"><span style=\"color: #7fbfbf; text-decoration-color: #7fbfbf\">             </span>loading simulation from                                            \n",
       "<span style=\"color: #7fbfbf; text-decoration-color: #7fbfbf\">             </span>.<span style=\"color: #800080; text-decoration-color: #800080\">/</span><span style=\"color: #ff00ff; text-decoration-color: #ff00ff\">fdve-917d6d65-fdde-4872-a050-f1d884d1f884.hdf5</span>                   \n",
       "</pre>\n"
      ],
      "text/plain": [
       "\u001b[2;36m            \u001b[0m\u001b[2;36m \u001b[0mloading simulation from                                            \n",
       "\u001b[2;36m             \u001b[0m.\u001b[35m/\u001b[0m\u001b[95mfdve-917d6d65-fdde-4872-a050-f1d884d1f884.hdf5\u001b[0m                   \n"
      ]
     },
     "metadata": {},
     "output_type": "display_data"
    },
    {
     "data": {
      "text/html": [
       "<pre style=\"white-space:pre;overflow-x:auto;line-height:normal;font-family:Menlo,'DejaVu Sans Mono',consolas,'Courier New',monospace\"><span style=\"color: #7fbfbf; text-decoration-color: #7fbfbf\">11:44:16 CST </span>loading simulation from                                            \n",
       "<span style=\"color: #7fbfbf; text-decoration-color: #7fbfbf\">             </span>.<span style=\"color: #800080; text-decoration-color: #800080\">/</span><span style=\"color: #ff00ff; text-decoration-color: #ff00ff\">fdve-917d6d65-fdde-4872-a050-f1d884d1f884.hdf5</span>                   \n",
       "</pre>\n"
      ],
      "text/plain": [
       "\u001b[2;36m11:44:16 CST\u001b[0m\u001b[2;36m \u001b[0mloading simulation from                                            \n",
       "\u001b[2;36m             \u001b[0m.\u001b[35m/\u001b[0m\u001b[95mfdve-917d6d65-fdde-4872-a050-f1d884d1f884.hdf5\u001b[0m                   \n"
      ]
     },
     "metadata": {},
     "output_type": "display_data"
    },
    {
     "data": {
      "image/png": "[encoded data removed]",
      "text/plain": [
       "<Figure size 1500x400 with 1 Axes>"
      ]
     },
     "metadata": {},
     "output_type": "display_data"
    }
   ],
   "source": [
    "_, ax = plt.subplots(1, 1, figsize=(15, 4))\n",
    "for ind, (key, data) in enumerate(batch_data.items()):\n",
    "    ax.plot(wvls, batch_data[key][\"out\"].amps.sel(direction=\"+\", mode_index=0).abs ** 2)\n",
    "\n",
    "ax.set_title(\"Output Port\")\n",
    "ax.set_xlabel(\"Wavelength (um)\")\n",
    "ax.set_ylabel(\"Normalized transmission power\")\n",
    "ax.legend([\"0 V\", \"0.95 V\"])\n",
    "\n",
    "plt.tight_layout()\n",
    "plt.show()"
   ]
  },
  {
   "cell_type": "code",
   "execution_count": null,
   "id": "a0b388c3-e05b-4483-9313-9a1f055af914",
   "metadata": {},
   "outputs": [],
   "source": []
  }
 ],
 "metadata": {
  "description": "This notebook demonstrates how to simulate an electro-optic Mach-Zehnder modulator using Tidy3D and a third party charge solver.",
  "feature_image": "./img/mzi_modulator.png",
  "kernelspec": {
   "display_name": "Python 3 (ipykernel)",
   "language": "python",
   "name": "python3"
  },
  "keywords": "Mach-Zehnder, MZI, MZM, waveguide, phase-shifter, electro-optic, charge, Tidy3D, free carrier, carrier injection, carrier depletion, FDTD",
  "language_info": {
   "codemirror_mode": {
    "name": "ipython",
    "version": 3
   },
   "file_extension": ".py",
   "mimetype": "text/x-python",
   "name": "python",
   "nbconvert_exporter": "python",
   "pygments_lexer": "ipython3",
   "version": "3.10.12"
  },
  "title": "Modeling electro-optic Mach-Zehnder modulator using Tidy3D | Flexcompute"
 },
 "nbformat": 4,
 "nbformat_minor": 5
}
