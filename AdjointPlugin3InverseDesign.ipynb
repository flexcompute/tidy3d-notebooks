{
 "cells": [
  {
   "cell_type": "markdown",
   "id": "23bc2ee3-b625-4b4c-9c87-23dc715ad733",
   "metadata": {},
   "source": [
    "# Inverse design optimization of a mode converter\n",
    "\n",
    "> To install the `jax` module required for this feature, we recommend running `pip install \"tidy3d[jax]\"`.\n",
    "\n",
    "In this notebook, we will use inverse design and the Tidy3D `adjoint` plugin to create an integrated photonics component to convert a fundamental waveguide mode to a higher order mode."
   ]
  },
  {
   "cell_type": "code",
   "execution_count": 1,
   "id": "7257472c-5db1-4b93-8cdb-24b3cc32775d",
   "metadata": {
    "tags": []
   },
   "outputs": [],
   "source": [
    "from typing import List\n",
    "import numpy as np\n",
    "import matplotlib.pylab as plt\n",
    "\n",
    "# import jax to be able to use automatic differentiation\n",
    "import jax.numpy as jnp\n",
    "from jax import grad, value_and_grad\n",
    "\n",
    "# import regular tidy3d\n",
    "import tidy3d as td\n",
    "import tidy3d.web as web\n",
    "from tidy3d.plugins.mode import ModeSolver\n",
    "\n",
    "# import the components we need from the adjoint plugin\n",
    "from tidy3d.plugins.adjoint import JaxSimulation, JaxBox, JaxCustomMedium, JaxStructure, JaxStructureStaticGeometry\n",
    "from tidy3d.plugins.adjoint import JaxSimulationData, JaxDataArray, JaxPermittivityDataset\n",
    "from tidy3d.plugins.adjoint.web import run\n",
    "\n",
    "# set random seed to get same results\n",
    "np.random.seed(2)"
   ]
  },
  {
   "cell_type": "markdown",
   "id": "718337a6-e356-4810-8836-48ada41f31d2",
   "metadata": {},
   "source": [
    "## Setup\n",
    "\n",
    "We wish to recreate a device like the diagram below:\n",
    "\n",
    "<img src=\"https://docs.flexcompute.com/projects/tidy3d/en/latest/_images/AdjointInvDes.png\" width=800 alt=\"Schematic of the mode converter\">\n",
    "\n",
    "A mode source is injected into a waveguide on the left-hand side. The light propagates through a rectangular region with pixellated permittivity with the value of each pixel independently tunable between 1 (vacuum) and some maximum permittivity. Finally, we measure the transmission of the light into a waveguide on the right-hand side.\n",
    "\n",
    "The goal of the inverse design exercise is to find the best distribution of permittivities ($\\epsilon_{ij}$) in the coupling region to maximize the power conversion between the input mode and the output mode.\n",
    "\n",
    "We also apply our built-in smoothening and binarization filters to ensure that the final device has smooth features, and permitivitty values that are all either 1, or the maximum permittivity of the waveguide material.\n",
    "\n",
    "### Parameters\n",
    "\n",
    "First we will define some parameters. "
   ]
  },
  {
   "cell_type": "code",
   "execution_count": 2,
   "id": "b2c592b4-c210-46e3-94c2-d6a9bfb3ca73",
   "metadata": {
    "tags": []
   },
   "outputs": [],
   "source": [
    "# wavelength and frequency\n",
    "wavelength = 1.0\n",
    "freq0 = td.C_0 / wavelength\n",
    "k0 = 2 * np.pi * freq0 / td.C_0\n",
    "\n",
    "# resolution control\n",
    "min_steps_per_wvl = 16\n",
    "# in the design region, we set uniform grid resolution,\n",
    "# and define the design parameters on the same grid\n",
    "dl_design_region = 0.01 \n",
    "\n",
    "# space between boxes and PML\n",
    "buffer = 1.0 * wavelength\n",
    "\n",
    "# optimize region size\n",
    "lz = td.inf\n",
    "lx = 5.0\n",
    "ly = 3.0\n",
    "\n",
    "# position of source and monitor (constant for all)\n",
    "source_x = -lx / 2 - buffer * 0.8\n",
    "meas_x = lx / 2 + buffer * 0.8\n",
    "\n",
    "# total size\n",
    "Lx = lx + 2 * buffer\n",
    "Ly = ly + 2 * buffer\n",
    "Lz = 0\n",
    "\n",
    "# permittivity and width of the input/output waveguide\n",
    "eps_wg = 2.75\n",
    "wg_width = 0.7\n",
    "\n",
    "# random starting parameters between 0 and 1\n",
    "nx = int(lx / dl_design_region)\n",
    "ny = int(ly / dl_design_region)\n",
    "params0 = np.random.random((nx, ny))\n",
    "\n",
    "# frequency width and run time\n",
    "freqw = freq0 / 10\n",
    "run_time = 50 / freqw"
   ]
  },
  {
   "cell_type": "markdown",
   "id": "ac035f60-95f7-4f99-989d-67855acd5b15",
   "metadata": {},
   "source": [
    "### Static Components\n",
    "\n",
    "Next, we will set up the static parts of the geometry, the input source, and the output monitor using these parameters."
   ]
  },
  {
   "cell_type": "code",
   "execution_count": 3,
   "id": "9aa55de4-f748-4939-8b26-9098bb573653",
   "metadata": {
    "tags": []
   },
   "outputs": [],
   "source": [
    "waveguide = td.Structure(\n",
    "    geometry=td.Box(size=(2*Lx, wg_width, lz)), medium=td.Medium(permittivity=eps_wg)\n",
    ")\n",
    "\n",
    "mode_size = (0, wg_width * 3, lz)\n",
    "\n",
    "source_plane = td.Box(\n",
    "    center=[source_x, 0, 0],\n",
    "    size=mode_size,\n",
    ")\n",
    "\n",
    "measure_plane = td.Box(\n",
    "    center=[meas_x, 0, 0],\n",
    "    size=mode_size,\n",
    ")"
   ]
  },
  {
   "cell_type": "markdown",
   "id": "afe16823-2271-4773-b0e3-a5ce3788ecae",
   "metadata": {},
   "source": [
    "### Input Structures\n",
    "\n",
    "Next, we write a function to return the pixellated array given our flattened tuple of permittivity values $\\epsilon_{ij}$ using [JaxCustomMedium](../_autosummary/tidy3d.plugins.adjoint.JaxCustomMedium.html).\n",
    "\n",
    "We start with an array of parameters between 0 and 1, apply a [ConicFilter](../_autosummary/tidy3d.plugins.adjoint.utils.filter.ConicFilter.html) and a [BinaryProjector](../_autosummary/tidy3d.plugins.adjoint.utils.filter.BinaryProjector.html) to create smooth, binarized features.\n",
    "\n",
    "The `JaxStructureStaticGeometry` allows for including a `jax`-compatible medium and a non-differentiable Tidy3D geometry."
   ]
  },
  {
   "cell_type": "code",
   "execution_count": 4,
   "id": "2d3e00d9-35f1-4e83-807c-66102b96ed5a",
   "metadata": {
    "tags": []
   },
   "outputs": [],
   "source": [
    "from tidy3d.plugins.adjoint.utils.filter import ConicFilter, BinaryProjector\n",
    "\n",
    "radius = .120\n",
    "beta = 50\n",
    "\n",
    "conic_filter = ConicFilter(radius=radius, design_region_dl=float(lx) / nx)\n",
    "\n",
    "def filter_project(params, beta, eta=0.5):\n",
    "    \"\"\"Apply conic filter and binarization to the raw params.\"\"\"\n",
    "    params_smooth = conic_filter.evaluate(params)\n",
    "    binary_projector = BinaryProjector(vmin=0, vmax=1, beta=beta, eta=eta)\n",
    "    params_smooth_binarized = binary_projector.evaluate(params_smooth)\n",
    "    return params_smooth_binarized\n",
    "\n",
    "def get_eps(params, beta):\n",
    "    \"\"\"Get the permittivity values (1, eps_wg) array as a funciton of the parameters (0, 1)\"\"\"\n",
    "    processed_params = filter_project(params, beta)\n",
    "    return 1 + processed_params * (eps_wg - 1)\n",
    "\n",
    "def make_input_structures(params, beta) -> List[JaxStructure]:\n",
    "\n",
    "    x0_min = -lx / 2 + dl_design_region / 2\n",
    "    y0_min = -ly / 2 + dl_design_region / 2\n",
    "\n",
    "    input_structures = []\n",
    "\n",
    "    coords_x = [x0_min + dl_design_region * ix for ix in range(nx)]\n",
    "    coords_y = [y0_min + dl_design_region * iy for iy in range(ny)]\n",
    "\n",
    "    coords = dict(x=coords_x, y=coords_y, z=[0], f=[freq0])\n",
    "\n",
    "    eps = get_eps(params, beta=beta).reshape((nx, ny, 1, 1))\n",
    "\n",
    "    field_components = {\n",
    "        f\"eps_{dim}{dim}\": JaxDataArray(values=eps, coords=coords) for dim in \"xyz\"\n",
    "    }\n",
    "    eps_dataset = JaxPermittivityDataset(**field_components)\n",
    "    custom_medium = JaxCustomMedium(eps_dataset=eps_dataset)\n",
    "    box = td.Box(center=(0, 0, 0), size=(lx, ly, lz))\n",
    "    custom_structure = JaxStructureStaticGeometry(geometry=box, medium=custom_medium)\n",
    "    return [custom_structure]"
   ]
  },
  {
   "cell_type": "markdown",
   "id": "75983c02-ca0f-4dcb-9c51-04ce9b5ac7ed",
   "metadata": {},
   "source": [
    "### Jax Simulation\n",
    "Next, we write a function to return a basic `JaxSimulation` as a function of our parameter values.\n",
    "\n",
    "We make sure to add the pixellated `JaxStructure` list to `input_structures` but leave out the sources and monitors for now as we'll want to add those after the mode solver is run so we can inspect them."
   ]
  },
  {
   "cell_type": "code",
   "execution_count": 5,
   "id": "3b09827b-a607-4631-977d-466f732e1d90",
   "metadata": {
    "tags": []
   },
   "outputs": [],
   "source": [
    "def make_sim_base(params, beta) -> JaxSimulation:\n",
    "\n",
    "    input_structures = make_input_structures(params, beta=beta)\n",
    "    design_region_mesh = td.MeshOverrideStructure(\n",
    "        geometry=td.Box(size=(lx, ly, lz)),\n",
    "        dl=[dl_design_region] * 3,\n",
    "        enforce=True,\n",
    "    )\n",
    "    grid_spec=td.GridSpec.auto(\n",
    "        wavelength=wavelength,\n",
    "        min_steps_per_wvl=16,\n",
    "        override_structures=[design_region_mesh],\n",
    "    )\n",
    "\n",
    "    return JaxSimulation(\n",
    "        size=[Lx, Ly, Lz],\n",
    "        grid_spec=grid_spec,\n",
    "        structures=[waveguide],\n",
    "        input_structures=input_structures,\n",
    "        sources=[],\n",
    "        monitors=[],\n",
    "        output_monitors=[],\n",
    "        run_time=run_time,\n",
    "        boundary_spec=td.BoundarySpec.pml(x=True, y=True, z=False),\n",
    "    )"
   ]
  },
  {
   "cell_type": "markdown",
   "id": "2e7cd9e9-a41a-4353-a0ee-cec464bc2f2d",
   "metadata": {},
   "source": [
    "### Visualize\n",
    "Let's visualize the simulation to see how it looks"
   ]
  },
  {
   "cell_type": "code",
   "execution_count": 6,
   "id": "ae07fed6-c0e4-415a-8a55-58f1b02bd311",
   "metadata": {
    "tags": []
   },
   "outputs": [
    {
     "name": "stderr",
     "output_type": "stream",
     "text": [
      "WARNING:jax._src.xla_bridge:No GPU/TPU found, falling back to CPU. (Set TF_CPP_MIN_LOG_LEVEL=0 and rerun for more info.)\n"
     ]
    },
    {
     "data": {
      "image/png": "[encoded data removed]",
      "text/plain": [
       "<Figure size 640x480 with 2 Axes>"
      ]
     },
     "metadata": {},
     "output_type": "display_data"
    }
   ],
   "source": [
    "sim_start = make_sim_base(params0, beta=1.0)\n",
    "\n",
    "ax = sim_start.plot_eps(z=0)\n",
    "\n",
    "plt.show()"
   ]
  },
  {
   "cell_type": "markdown",
   "id": "5dc853c5-a191-4602-bf5b-7fa8761d51f1",
   "metadata": {},
   "source": [
    "### Select Input and Output Modes\n",
    "\n",
    "Next, let's visualize the first 4 mode profiles so we can select which mode indices we want to inject and transmit."
   ]
  },
  {
   "cell_type": "code",
   "execution_count": 7,
   "id": "6fc8e702-bfec-4b7f-8dd1-2b5189f9087f",
   "metadata": {
    "tags": []
   },
   "outputs": [
    {
     "data": {
      "text/html": [
       "<pre style=\"white-space:pre;overflow-x:auto;line-height:normal;font-family:Menlo,'DejaVu Sans Mono',consolas,'Courier New',monospace\"><span style=\"color: #7fbfbf; text-decoration-color: #7fbfbf\">10:07:42 PST </span><span style=\"color: #800000; text-decoration-color: #800000\">WARNING: The associated `Simulation` object contains custom        </span>\n",
       "<span style=\"color: #7fbfbf; text-decoration-color: #7fbfbf\">             </span><span style=\"color: #800000; text-decoration-color: #800000\">mediums. It will be automatically restricted to the mode solver    </span>\n",
       "<span style=\"color: #7fbfbf; text-decoration-color: #7fbfbf\">             </span><span style=\"color: #800000; text-decoration-color: #800000\">plane to reduce data for uploading. To force uploading the original</span>\n",
       "<span style=\"color: #7fbfbf; text-decoration-color: #7fbfbf\">             </span><span style=\"color: #800000; text-decoration-color: #800000\">`Simulation` object use `</span><span style=\"color: #808000; text-decoration-color: #808000\">reduce_simulation</span><span style=\"color: #800000; text-decoration-color: #800000\">=</span><span style=\"color: #ff0000; text-decoration-color: #ff0000; font-style: italic\">False</span><span style=\"color: #800000; text-decoration-color: #800000\">`. Setting         </span>\n",
       "<span style=\"color: #7fbfbf; text-decoration-color: #7fbfbf\">             </span><span style=\"color: #800000; text-decoration-color: #800000\">`</span><span style=\"color: #808000; text-decoration-color: #808000\">reduce_simulation</span><span style=\"color: #800000; text-decoration-color: #800000\">=</span><span style=\"color: #00ff00; text-decoration-color: #00ff00; font-style: italic\">True</span><span style=\"color: #800000; text-decoration-color: #800000\">` will force simulation reduction in all    </span>\n",
       "<span style=\"color: #7fbfbf; text-decoration-color: #7fbfbf\">             </span><span style=\"color: #800000; text-decoration-color: #800000\">cases and silence this warning.                                    </span>\n",
       "</pre>\n"
      ],
      "text/plain": [
       "\u001b[2;36m10:07:42 PST\u001b[0m\u001b[2;36m \u001b[0m\u001b[31mWARNING: The associated `Simulation` object contains custom        \u001b[0m\n",
       "\u001b[2;36m             \u001b[0m\u001b[31mmediums. It will be automatically restricted to the mode solver    \u001b[0m\n",
       "\u001b[2;36m             \u001b[0m\u001b[31mplane to reduce data for uploading. To force uploading the original\u001b[0m\n",
       "\u001b[2;36m             \u001b[0m\u001b[31m`Simulation` object use `\u001b[0m\u001b[33mreduce_simulation\u001b[0m\u001b[31m=\u001b[0m\u001b[3;91mFalse\u001b[0m\u001b[31m`. Setting         \u001b[0m\n",
       "\u001b[2;36m             \u001b[0m\u001b[31m`\u001b[0m\u001b[33mreduce_simulation\u001b[0m\u001b[31m=\u001b[0m\u001b[3;92mTrue\u001b[0m\u001b[31m` will force simulation reduction in all    \u001b[0m\n",
       "\u001b[2;36m             \u001b[0m\u001b[31mcases and silence this warning.                                    \u001b[0m\n"
      ]
     },
     "metadata": {},
     "output_type": "display_data"
    },
    {
     "data": {
      "text/html": [
       "<pre style=\"white-space:pre;overflow-x:auto;line-height:normal;font-family:Menlo,'DejaVu Sans Mono',consolas,'Courier New',monospace\"><span style=\"color: #7fbfbf; text-decoration-color: #7fbfbf\">10:07:43 PST </span>Mode solver created with                                           \n",
       "<span style=\"color: #7fbfbf; text-decoration-color: #7fbfbf\">             </span><span style=\"color: #808000; text-decoration-color: #808000\">task_id</span>=<span style=\"color: #008000; text-decoration-color: #008000\">'fdve-17fb0b41-1b41-4d7b-a784-c26bb6ad2ba5'</span>,               \n",
       "<span style=\"color: #7fbfbf; text-decoration-color: #7fbfbf\">             </span><span style=\"color: #808000; text-decoration-color: #808000\">solver_id</span>=<span style=\"color: #008000; text-decoration-color: #008000\">'mo-9558e97b-4308-44b9-8d25-029e155e8332'</span>.               \n",
       "</pre>\n"
      ],
      "text/plain": [
       "\u001b[2;36m10:07:43 PST\u001b[0m\u001b[2;36m \u001b[0mMode solver created with                                           \n",
       "\u001b[2;36m             \u001b[0m\u001b[33mtask_id\u001b[0m=\u001b[32m'fdve-17fb0b41-1b41-4d7b-a784-c26bb6ad2ba5'\u001b[0m,               \n",
       "\u001b[2;36m             \u001b[0m\u001b[33msolver_id\u001b[0m=\u001b[32m'mo-9558e97b-4308-44b9-8d25-029e155e8332'\u001b[0m.               \n"
      ]
     },
     "metadata": {},
     "output_type": "display_data"
    },
    {
     "data": {
      "application/vnd.jupyter.widget-view+json": {
       "model_id": "32dc1b5db181402588de200742a4e499",
       "version_major": 2,
       "version_minor": 0
      },
      "text/plain": [
       "Output()"
      ]
     },
     "metadata": {},
     "output_type": "display_data"
    },
    {
     "data": {
      "text/html": [
       "<pre style=\"white-space:pre;overflow-x:auto;line-height:normal;font-family:Menlo,'DejaVu Sans Mono',consolas,'Courier New',monospace\"></pre>\n"
      ],
      "text/plain": []
     },
     "metadata": {},
     "output_type": "display_data"
    },
    {
     "data": {
      "text/html": [
       "<pre style=\"white-space:pre;overflow-x:auto;line-height:normal;font-family:Menlo,'DejaVu Sans Mono',consolas,'Courier New',monospace\">\n",
       "</pre>\n"
      ],
      "text/plain": [
       "\n"
      ]
     },
     "metadata": {},
     "output_type": "display_data"
    },
    {
     "data": {
      "application/vnd.jupyter.widget-view+json": {
       "model_id": "0fcae27fddcf4436826e54958d59d5c7",
       "version_major": 2,
       "version_minor": 0
      },
      "text/plain": [
       "Output()"
      ]
     },
     "metadata": {},
     "output_type": "display_data"
    },
    {
     "data": {
      "text/html": [
       "<pre style=\"white-space:pre;overflow-x:auto;line-height:normal;font-family:Menlo,'DejaVu Sans Mono',consolas,'Courier New',monospace\"></pre>\n"
      ],
      "text/plain": []
     },
     "metadata": {},
     "output_type": "display_data"
    },
    {
     "data": {
      "text/html": [
       "<pre style=\"white-space:pre;overflow-x:auto;line-height:normal;font-family:Menlo,'DejaVu Sans Mono',consolas,'Courier New',monospace\">\n",
       "</pre>\n"
      ],
      "text/plain": [
       "\n"
      ]
     },
     "metadata": {},
     "output_type": "display_data"
    },
    {
     "data": {
      "text/html": [
       "<pre style=\"white-space:pre;overflow-x:auto;line-height:normal;font-family:Menlo,'DejaVu Sans Mono',consolas,'Courier New',monospace\"><span style=\"color: #7fbfbf; text-decoration-color: #7fbfbf\">10:07:45 PST </span>Mode solver status: queued                                         \n",
       "</pre>\n"
      ],
      "text/plain": [
       "\u001b[2;36m10:07:45 PST\u001b[0m\u001b[2;36m \u001b[0mMode solver status: queued                                         \n"
      ]
     },
     "metadata": {},
     "output_type": "display_data"
    },
    {
     "data": {
      "text/html": [
       "<pre style=\"white-space:pre;overflow-x:auto;line-height:normal;font-family:Menlo,'DejaVu Sans Mono',consolas,'Courier New',monospace\"><span style=\"color: #7fbfbf; text-decoration-color: #7fbfbf\">10:07:57 PST </span>Mode solver status: running                                        \n",
       "</pre>\n"
      ],
      "text/plain": [
       "\u001b[2;36m10:07:57 PST\u001b[0m\u001b[2;36m \u001b[0mMode solver status: running                                        \n"
      ]
     },
     "metadata": {},
     "output_type": "display_data"
    },
    {
     "data": {
      "text/html": [
       "<pre style=\"white-space:pre;overflow-x:auto;line-height:normal;font-family:Menlo,'DejaVu Sans Mono',consolas,'Courier New',monospace\"><span style=\"color: #7fbfbf; text-decoration-color: #7fbfbf\">10:08:10 PST </span>Mode solver status: success                                        \n",
       "</pre>\n"
      ],
      "text/plain": [
       "\u001b[2;36m10:08:10 PST\u001b[0m\u001b[2;36m \u001b[0mMode solver status: success                                        \n"
      ]
     },
     "metadata": {},
     "output_type": "display_data"
    },
    {
     "data": {
      "application/vnd.jupyter.widget-view+json": {
       "model_id": "5cdb48e96c204f61b33b11bcbaeb9098",
       "version_major": 2,
       "version_minor": 0
      },
      "text/plain": [
       "Output()"
      ]
     },
     "metadata": {},
     "output_type": "display_data"
    },
    {
     "data": {
      "text/html": [
       "<pre style=\"white-space:pre;overflow-x:auto;line-height:normal;font-family:Menlo,'DejaVu Sans Mono',consolas,'Courier New',monospace\"></pre>\n"
      ],
      "text/plain": []
     },
     "metadata": {},
     "output_type": "display_data"
    },
    {
     "data": {
      "text/html": [
       "<pre style=\"white-space:pre;overflow-x:auto;line-height:normal;font-family:Menlo,'DejaVu Sans Mono',consolas,'Courier New',monospace\">\n",
       "</pre>\n"
      ],
      "text/plain": [
       "\n"
      ]
     },
     "metadata": {},
     "output_type": "display_data"
    }
   ],
   "source": [
    "from tidy3d.plugins.mode.web import run as run_mode_solver\n",
    "num_modes = 4\n",
    "mode_spec = td.ModeSpec(num_modes=num_modes)\n",
    "\n",
    "mode_solver = ModeSolver(\n",
    "    simulation=sim_start.to_simulation()[0],\n",
    "    plane=source_plane,\n",
    "    mode_spec=td.ModeSpec(num_modes=num_modes),\n",
    "    freqs=[freq0]\n",
    ")\n",
    "modes = run_mode_solver(mode_solver)"
   ]
  },
  {
   "cell_type": "markdown",
   "id": "378dba26-b679-4302-8160-c6df489c7a65",
   "metadata": {},
   "source": [
    "Let's visualize the modes next."
   ]
  },
  {
   "cell_type": "code",
   "execution_count": 8,
   "id": "72502ab0-1055-4409-b11e-fae676f1d53e",
   "metadata": {
    "tags": []
   },
   "outputs": [
    {
     "name": "stdout",
     "output_type": "stream",
     "text": [
      "Effective index of computed modes:  [[1.5720801 1.535463  1.3032304 1.1848152]]\n"
     ]
    },
    {
     "data": {
      "image/png": "[encoded data removed]",
      "text/plain": [
       "<Figure size 1200x1200 with 12 Axes>"
      ]
     },
     "metadata": {},
     "output_type": "display_data"
    }
   ],
   "source": [
    "fig, axs = plt.subplots(num_modes, 3, figsize=(12, 12), tight_layout=True)\n",
    "for mode_index in range(num_modes):\n",
    "    vmax = 1.1 * max(abs(modes.field_components[n].sel(mode_index=mode_index)).max() for n in (\"Ex\", \"Ey\", \"Ez\"))\n",
    "    for field_name, ax in zip((\"Ex\", \"Ey\", \"Ez\"), axs[mode_index]):\n",
    "        field = modes.field_components[field_name].sel(mode_index=mode_index)\n",
    "        field.real.plot(label=\"Real\", ax=ax)\n",
    "        field.imag.plot(ls=\"--\", label=\"Imag\", ax=ax)\n",
    "        ax.set_title(f'index={mode_index}, {field_name}')\n",
    "        ax.set_ylim(-vmax, vmax)\n",
    "\n",
    "axs[0, 0].legend()\n",
    "\n",
    "print(\"Effective index of computed modes: \", np.array(modes.n_eff))"
   ]
  },
  {
   "cell_type": "markdown",
   "id": "d5a09ce7-4e64-4ccb-8a8f-54c23c5c7d4a",
   "metadata": {},
   "source": [
    "We want to inject the fundamental, Ez-polarized input into the 1st order Ez-polarized input.\n",
    "\n",
    "From the plots, we see that these modes correspond to the first and third rows, or `mode_index=0` and `mode_index=2`, respectively. \n",
    "\n",
    "So we make sure that the `mode_index_in` and `mode_index_out` variables are set appropriately and we set a `ModeSpec` with 3 modes to be able to capture the `mode_index_out` in our output data."
   ]
  },
  {
   "cell_type": "code",
   "execution_count": 9,
   "id": "14f6113f-e7fa-4c8d-93e4-9764f396caaa",
   "metadata": {},
   "outputs": [],
   "source": [
    "mode_index_in = 0\n",
    "mode_index_out = 2\n",
    "\n",
    "num_modes = max(mode_index_in, mode_index_out) + 1\n",
    "\n",
    "mode_spec = td.ModeSpec(num_modes=num_modes)"
   ]
  },
  {
   "cell_type": "markdown",
   "id": "5f7dc503-a3cf-486e-8779-727952a721df",
   "metadata": {},
   "source": [
    "Then it is straightforward to generate our source and monitor."
   ]
  },
  {
   "cell_type": "code",
   "execution_count": 10,
   "id": "5bae2746-7ca7-420c-b727-309508621a5a",
   "metadata": {},
   "outputs": [],
   "source": [
    "# source seeding the simulation\n",
    "forward_source = td.ModeSource(\n",
    "    source_time=td.GaussianPulse(freq0=freq0, fwidth=freqw),\n",
    "    center=[source_x, 0, 0],\n",
    "    size=mode_size,\n",
    "    mode_index=mode_index_in,\n",
    "    mode_spec=mode_spec,\n",
    "    direction=\"+\",\n",
    ")\n",
    "\n",
    "# we'll refer to the measurement monitor by this name often\n",
    "measurement_monitor_name = \"measurement\"\n",
    "\n",
    "# monitor where we compute the objective function from\n",
    "measurement_monitor = td.ModeMonitor(\n",
    "    center=[meas_x, 0, 0],\n",
    "    size=mode_size,\n",
    "    freqs=[freq0],\n",
    "    mode_spec=mode_spec,\n",
    "    name=measurement_monitor_name,\n",
    ")"
   ]
  },
  {
   "cell_type": "markdown",
   "id": "87968720-3cd4-434c-97c4-acdb54b18b37",
   "metadata": {},
   "source": [
    "Finally, we create a new function that calls our `make_sim_base()` function and adds the source and monitor to the result. This is the function we will use in our objective function to generate our `JaxSimulation` given the input parameters."
   ]
  },
  {
   "cell_type": "code",
   "execution_count": 11,
   "id": "5dfc5be5-99f6-4c9c-8d73-15e696933013",
   "metadata": {},
   "outputs": [],
   "source": [
    "def make_sim(params, beta):\n",
    "    sim = make_sim_base(params, beta=beta)\n",
    "    return sim.updated_copy(sources=[forward_source], output_monitors=[measurement_monitor])"
   ]
  },
  {
   "cell_type": "markdown",
   "id": "61522716-a26f-400b-a005-5d9493ef7264",
   "metadata": {},
   "source": [
    "### Post Processing\n",
    "\n",
    "Next, we will define a function to tell us how we want to postprocess the output `JaxSimulationData` object to give the conversion power that we are interested in maximizing."
   ]
  },
  {
   "cell_type": "code",
   "execution_count": 12,
   "id": "2081ff1b-46fe-4bb0-9027-8c4ca0a359bd",
   "metadata": {
    "tags": []
   },
   "outputs": [],
   "source": [
    "def measure_power(sim_data: JaxSimulationData) -> float:\n",
    "    \"\"\"Return the power in the output_data amplitude at the mode index of interest.\"\"\"\n",
    "    output_amps = sim_data[\"measurement\"].amps\n",
    "    amp = output_amps.sel(direction=\"+\", f=freq0, mode_index=mode_index_out)\n",
    "    return jnp.sum(jnp.abs(amp) ** 2)"
   ]
  },
  {
   "cell_type": "markdown",
   "id": "a22f9915-559a-4f6a-a4d3-853f103aacab",
   "metadata": {},
   "source": [
    "Then, we add a penalty to produce structures that are invariant under erosion and dilation, which is a useful approach to implementing minimum length scale features."
   ]
  },
  {
   "cell_type": "code",
   "execution_count": 13,
   "id": "b035a178-048c-4404-97c8-f694a94c087a",
   "metadata": {},
   "outputs": [],
   "source": [
    "def penalty(params, beta, delta_eta=0.49):\n",
    "    processed_params = filter_project(params, beta=beta)\n",
    "    \n",
    "    dilate_fn = lambda x: filter_project(x, beta=100, eta=0.5-delta_eta)\n",
    "    eroded_fn = lambda x: filter_project(x, beta=100, eta=0.5+delta_eta)\n",
    "\n",
    "    params_dilate_erode = eroded_fn(dilate_fn(processed_params))\n",
    "    params_erode_dilate = dilate_fn(eroded_fn(processed_params))\n",
    "    \n",
    "    diff = params_dilate_erode - params_erode_dilate\n",
    "    return jnp.linalg.norm(diff) / jnp.linalg.norm(jnp.ones_like(diff))"
   ]
  },
  {
   "cell_type": "markdown",
   "id": "5863a5c3-3b5e-4927-9e18-749b660e7c3f",
   "metadata": {},
   "source": [
    "### Define Objective Function\n",
    "\n",
    "Finally, we need to define the objective function that we want to maximize as a function of our input parameters (permittivity of each pixel) that returns the conversion power. This is the function we will differentiate later."
   ]
  },
  {
   "cell_type": "code",
   "execution_count": 14,
   "id": "71c5b2ed-a036-4578-ad44-89aa70f59e28",
   "metadata": {
    "tags": []
   },
   "outputs": [],
   "source": [
    "def J(params, beta: float, step_num: int = None, verbose: bool = False) -> float:\n",
    "    sim = make_sim(params, beta=beta)\n",
    "    task_name = \"inv_des\"\n",
    "    if step_num:\n",
    "        task_name += f\"_step_{step_num}\"\n",
    "    sim_data = run(sim, task_name=task_name, verbose=verbose)\n",
    "    penalty_weight = np.minimum(1, beta/25)\n",
    "    return measure_power(sim_data) - penalty_weight * penalty(params, beta)"
   ]
  },
  {
   "cell_type": "markdown",
   "id": "075f3d66-c98f-4410-829a-b178464de0b8",
   "metadata": {},
   "source": [
    "## Inverse Design\n",
    "\n",
    "Now we are ready to perform the optimization.\n",
    "\n",
    "We use the `jax.value_and_grad` function to get the gradient of `J` with respect to the permittivity of each `Box`, while also returning the converted power associated with the current iteration, so we can record this value for later.\n",
    "\n",
    "Let's try running this function once to make sure it works."
   ]
  },
  {
   "cell_type": "code",
   "execution_count": 15,
   "id": "9ee539ec-11a2-4107-8270-9d58c7607562",
   "metadata": {
    "tags": []
   },
   "outputs": [],
   "source": [
    "dJ_fn = value_and_grad(J)"
   ]
  },
  {
   "cell_type": "code",
   "execution_count": 16,
   "id": "9c60dfdf-3518-44ce-b658-ea192950aa83",
   "metadata": {
    "tags": []
   },
   "outputs": [
    {
     "data": {
      "text/html": [
       "<pre style=\"white-space:pre;overflow-x:auto;line-height:normal;font-family:Menlo,'DejaVu Sans Mono',consolas,'Courier New',monospace\"><span style=\"color: #7fbfbf; text-decoration-color: #7fbfbf\">10:10:32 PST </span>Created task <span style=\"color: #008000; text-decoration-color: #008000\">'inv_des'</span> with task_id                                \n",
       "<span style=\"color: #7fbfbf; text-decoration-color: #7fbfbf\">             </span><span style=\"color: #008000; text-decoration-color: #008000\">'fdve-0af8c578-cb3a-4200-a5c8-639c8c4609eb'</span> and task_type <span style=\"color: #008000; text-decoration-color: #008000\">'FDTD'</span>.  \n",
       "</pre>\n"
      ],
      "text/plain": [
       "\u001b[2;36m10:10:32 PST\u001b[0m\u001b[2;36m \u001b[0mCreated task \u001b[32m'inv_des'\u001b[0m with task_id                                \n",
       "\u001b[2;36m             \u001b[0m\u001b[32m'fdve-0af8c578-cb3a-4200-a5c8-639c8c4609eb'\u001b[0m and task_type \u001b[32m'FDTD'\u001b[0m.  \n"
      ]
     },
     "metadata": {},
     "output_type": "display_data"
    },
    {
     "data": {
      "text/html": [
       "<pre style=\"white-space:pre;overflow-x:auto;line-height:normal;font-family:Menlo,'DejaVu Sans Mono',consolas,'Courier New',monospace\"><span style=\"color: #7fbfbf; text-decoration-color: #7fbfbf\">             </span>View task using web UI at                                          \n",
       "<span style=\"color: #7fbfbf; text-decoration-color: #7fbfbf\">             </span><a href=\"https://tidy3d.simulation.cloud/workbench?taskId=fdve-0af8c578-cb3a-4200-a5c8-639c8c4609eb\" target=\"_blank\"><span style=\"color: #008000; text-decoration-color: #008000\">'https://tidy3d.simulation.cloud/workbench?taskId=fdve-0af8c578-cb3</span></a>\n",
       "<span style=\"color: #7fbfbf; text-decoration-color: #7fbfbf\">             </span><a href=\"https://tidy3d.simulation.cloud/workbench?taskId=fdve-0af8c578-cb3a-4200-a5c8-639c8c4609eb\" target=\"_blank\"><span style=\"color: #008000; text-decoration-color: #008000\">a-4200-a5c8-639c8c4609eb'</span></a>.                                         \n",
       "</pre>\n"
      ],
      "text/plain": [
       "\u001b[2;36m            \u001b[0m\u001b[2;36m \u001b[0mView task using web UI at                                          \n",
       "\u001b[2;36m             \u001b[0m\u001b]8;id=825971;https://tidy3d.simulation.cloud/workbench?taskId=fdve-0af8c578-cb3a-4200-a5c8-639c8c4609eb\u001b\\\u001b[32m'https://tidy3d.simulation.cloud/workbench?\u001b[0m\u001b]8;;\u001b\\\u001b]8;id=758619;https://tidy3d.simulation.cloud/workbench?taskId=fdve-0af8c578-cb3a-4200-a5c8-639c8c4609eb\u001b\\\u001b[32mtaskId\u001b[0m\u001b]8;;\u001b\\\u001b]8;id=825971;https://tidy3d.simulation.cloud/workbench?taskId=fdve-0af8c578-cb3a-4200-a5c8-639c8c4609eb\u001b\\\u001b[32m=\u001b[0m\u001b]8;;\u001b\\\u001b]8;id=380128;https://tidy3d.simulation.cloud/workbench?taskId=fdve-0af8c578-cb3a-4200-a5c8-639c8c4609eb\u001b\\\u001b[32mfdve\u001b[0m\u001b]8;;\u001b\\\u001b]8;id=825971;https://tidy3d.simulation.cloud/workbench?taskId=fdve-0af8c578-cb3a-4200-a5c8-639c8c4609eb\u001b\\\u001b[32m-0af8c578-cb3\u001b[0m\u001b]8;;\u001b\\\n",
       "\u001b[2;36m             \u001b[0m\u001b]8;id=825971;https://tidy3d.simulation.cloud/workbench?taskId=fdve-0af8c578-cb3a-4200-a5c8-639c8c4609eb\u001b\\\u001b[32ma-4200-a5c8-639c8c4609eb'\u001b[0m\u001b]8;;\u001b\\.                                         \n"
      ]
     },
     "metadata": {},
     "output_type": "display_data"
    },
    {
     "data": {
      "application/vnd.jupyter.widget-view+json": {
       "model_id": "14a09bbf13de4a5cab4d6aa0133601a4",
       "version_major": 2,
       "version_minor": 0
      },
      "text/plain": [
       "Output()"
      ]
     },
     "metadata": {},
     "output_type": "display_data"
    },
    {
     "data": {
      "text/html": [
       "<pre style=\"white-space:pre;overflow-x:auto;line-height:normal;font-family:Menlo,'DejaVu Sans Mono',consolas,'Courier New',monospace\"></pre>\n"
      ],
      "text/plain": []
     },
     "metadata": {},
     "output_type": "display_data"
    },
    {
     "data": {
      "text/html": [
       "<pre style=\"white-space:pre;overflow-x:auto;line-height:normal;font-family:Menlo,'DejaVu Sans Mono',consolas,'Courier New',monospace\">\n",
       "</pre>\n"
      ],
      "text/plain": [
       "\n"
      ]
     },
     "metadata": {},
     "output_type": "display_data"
    },
    {
     "data": {
      "application/vnd.jupyter.widget-view+json": {
       "model_id": "3c92250c187540a4ab1d527b66351ad6",
       "version_major": 2,
       "version_minor": 0
      },
      "text/plain": [
       "Output()"
      ]
     },
     "metadata": {},
     "output_type": "display_data"
    },
    {
     "data": {
      "text/html": [
       "<pre style=\"white-space:pre;overflow-x:auto;line-height:normal;font-family:Menlo,'DejaVu Sans Mono',consolas,'Courier New',monospace\"></pre>\n"
      ],
      "text/plain": []
     },
     "metadata": {},
     "output_type": "display_data"
    },
    {
     "data": {
      "text/html": [
       "<pre style=\"white-space:pre;overflow-x:auto;line-height:normal;font-family:Menlo,'DejaVu Sans Mono',consolas,'Courier New',monospace\">\n",
       "</pre>\n"
      ],
      "text/plain": [
       "\n"
      ]
     },
     "metadata": {},
     "output_type": "display_data"
    },
    {
     "data": {
      "text/html": [
       "<pre style=\"white-space:pre;overflow-x:auto;line-height:normal;font-family:Menlo,'DejaVu Sans Mono',consolas,'Courier New',monospace\"><span style=\"color: #7fbfbf; text-decoration-color: #7fbfbf\">10:10:33 PST </span>status = success                                                   \n",
       "</pre>\n"
      ],
      "text/plain": [
       "\u001b[2;36m10:10:33 PST\u001b[0m\u001b[2;36m \u001b[0mstatus = success                                                   \n"
      ]
     },
     "metadata": {},
     "output_type": "display_data"
    },
    {
     "data": {
      "application/vnd.jupyter.widget-view+json": {
       "model_id": "ddd62a1f32ec40b482a210528052d2e1",
       "version_major": 2,
       "version_minor": 0
      },
      "text/plain": [
       "Output()"
      ]
     },
     "metadata": {},
     "output_type": "display_data"
    },
    {
     "data": {
      "text/html": [
       "<pre style=\"white-space:pre;overflow-x:auto;line-height:normal;font-family:Menlo,'DejaVu Sans Mono',consolas,'Courier New',monospace\"></pre>\n"
      ],
      "text/plain": []
     },
     "metadata": {},
     "output_type": "display_data"
    },
    {
     "data": {
      "text/html": [
       "<pre style=\"white-space:pre;overflow-x:auto;line-height:normal;font-family:Menlo,'DejaVu Sans Mono',consolas,'Courier New',monospace\">\n",
       "</pre>\n"
      ],
      "text/plain": [
       "\n"
      ]
     },
     "metadata": {},
     "output_type": "display_data"
    },
    {
     "data": {
      "text/html": [
       "<pre style=\"white-space:pre;overflow-x:auto;line-height:normal;font-family:Menlo,'DejaVu Sans Mono',consolas,'Courier New',monospace\"><span style=\"color: #7fbfbf; text-decoration-color: #7fbfbf\">10:10:34 PST </span>loading simulation from simulation_data.hdf5                       \n",
       "</pre>\n"
      ],
      "text/plain": [
       "\u001b[2;36m10:10:34 PST\u001b[0m\u001b[2;36m \u001b[0mloading simulation from simulation_data.hdf5                       \n"
      ]
     },
     "metadata": {},
     "output_type": "display_data"
    },
    {
     "data": {
      "text/html": [
       "<pre style=\"white-space:pre;overflow-x:auto;line-height:normal;font-family:Menlo,'DejaVu Sans Mono',consolas,'Courier New',monospace\"><span style=\"color: #7fbfbf; text-decoration-color: #7fbfbf\">             </span><span style=\"color: #800000; text-decoration-color: #800000\">WARNING: Monitor data requires </span><span style=\"color: #008000; text-decoration-color: #008000\">'grid_expanded'</span><span style=\"color: #800000; text-decoration-color: #800000\"> to be defined to    </span>\n",
       "<span style=\"color: #7fbfbf; text-decoration-color: #7fbfbf\">             </span><span style=\"color: #800000; text-decoration-color: #800000\">compute values like flux, Poynting and dot product with other data.</span>\n",
       "</pre>\n"
      ],
      "text/plain": [
       "\u001b[2;36m            \u001b[0m\u001b[2;36m \u001b[0m\u001b[31mWARNING: Monitor data requires \u001b[0m\u001b[32m'grid_expanded'\u001b[0m\u001b[31m to be defined to    \u001b[0m\n",
       "\u001b[2;36m             \u001b[0m\u001b[31mcompute values like flux, Poynting and dot product with other data.\u001b[0m\n"
      ]
     },
     "metadata": {},
     "output_type": "display_data"
    },
    {
     "data": {
      "text/html": [
       "<pre style=\"white-space:pre;overflow-x:auto;line-height:normal;font-family:Menlo,'DejaVu Sans Mono',consolas,'Courier New',monospace\"><span style=\"color: #7fbfbf; text-decoration-color: #7fbfbf\">             </span><span style=\"color: #800000; text-decoration-color: #800000\">WARNING: Monitor data requires </span><span style=\"color: #008000; text-decoration-color: #008000\">'grid_expanded'</span><span style=\"color: #800000; text-decoration-color: #800000\"> to be defined to    </span>\n",
       "<span style=\"color: #7fbfbf; text-decoration-color: #7fbfbf\">             </span><span style=\"color: #800000; text-decoration-color: #800000\">compute values like flux, Poynting and dot product with other data.</span>\n",
       "</pre>\n"
      ],
      "text/plain": [
       "\u001b[2;36m            \u001b[0m\u001b[2;36m \u001b[0m\u001b[31mWARNING: Monitor data requires \u001b[0m\u001b[32m'grid_expanded'\u001b[0m\u001b[31m to be defined to    \u001b[0m\n",
       "\u001b[2;36m             \u001b[0m\u001b[31mcompute values like flux, Poynting and dot product with other data.\u001b[0m\n"
      ]
     },
     "metadata": {},
     "output_type": "display_data"
    },
    {
     "data": {
      "text/html": [
       "<pre style=\"white-space:pre;overflow-x:auto;line-height:normal;font-family:Menlo,'DejaVu Sans Mono',consolas,'Courier New',monospace\"><span style=\"color: #7fbfbf; text-decoration-color: #7fbfbf\">10:10:35 PST </span><span style=\"color: #800000; text-decoration-color: #800000\">WARNING: Monitor data requires </span><span style=\"color: #008000; text-decoration-color: #008000\">'grid_expanded'</span><span style=\"color: #800000; text-decoration-color: #800000\"> to be defined to    </span>\n",
       "<span style=\"color: #7fbfbf; text-decoration-color: #7fbfbf\">             </span><span style=\"color: #800000; text-decoration-color: #800000\">compute values like flux, Poynting and dot product with other data.</span>\n",
       "</pre>\n"
      ],
      "text/plain": [
       "\u001b[2;36m10:10:35 PST\u001b[0m\u001b[2;36m \u001b[0m\u001b[31mWARNING: Monitor data requires \u001b[0m\u001b[32m'grid_expanded'\u001b[0m\u001b[31m to be defined to    \u001b[0m\n",
       "\u001b[2;36m             \u001b[0m\u001b[31mcompute values like flux, Poynting and dot product with other data.\u001b[0m\n"
      ]
     },
     "metadata": {},
     "output_type": "display_data"
    },
    {
     "data": {
      "text/html": [
       "<pre style=\"white-space:pre;overflow-x:auto;line-height:normal;font-family:Menlo,'DejaVu Sans Mono',consolas,'Courier New',monospace\"><span style=\"color: #7fbfbf; text-decoration-color: #7fbfbf\">             </span><span style=\"color: #800000; text-decoration-color: #800000\">WARNING: Monitor data requires </span><span style=\"color: #008000; text-decoration-color: #008000\">'grid_expanded'</span><span style=\"color: #800000; text-decoration-color: #800000\"> to be defined to    </span>\n",
       "<span style=\"color: #7fbfbf; text-decoration-color: #7fbfbf\">             </span><span style=\"color: #800000; text-decoration-color: #800000\">compute values like flux, Poynting and dot product with other data.</span>\n",
       "</pre>\n"
      ],
      "text/plain": [
       "\u001b[2;36m            \u001b[0m\u001b[2;36m \u001b[0m\u001b[31mWARNING: Monitor data requires \u001b[0m\u001b[32m'grid_expanded'\u001b[0m\u001b[31m to be defined to    \u001b[0m\n",
       "\u001b[2;36m             \u001b[0m\u001b[31mcompute values like flux, Poynting and dot product with other data.\u001b[0m\n"
      ]
     },
     "metadata": {},
     "output_type": "display_data"
    },
    {
     "data": {
      "text/html": [
       "<pre style=\"white-space:pre;overflow-x:auto;line-height:normal;font-family:Menlo,'DejaVu Sans Mono',consolas,'Courier New',monospace\"><span style=\"color: #7fbfbf; text-decoration-color: #7fbfbf\">10:10:39 PST </span><span style=\"color: #800000; text-decoration-color: #800000\">WARNING: Monitor data requires </span><span style=\"color: #008000; text-decoration-color: #008000\">'grid_expanded'</span><span style=\"color: #800000; text-decoration-color: #800000\"> to be defined to    </span>\n",
       "<span style=\"color: #7fbfbf; text-decoration-color: #7fbfbf\">             </span><span style=\"color: #800000; text-decoration-color: #800000\">compute values like flux, Poynting and dot product with other data.</span>\n",
       "</pre>\n"
      ],
      "text/plain": [
       "\u001b[2;36m10:10:39 PST\u001b[0m\u001b[2;36m \u001b[0m\u001b[31mWARNING: Monitor data requires \u001b[0m\u001b[32m'grid_expanded'\u001b[0m\u001b[31m to be defined to    \u001b[0m\n",
       "\u001b[2;36m             \u001b[0m\u001b[31mcompute values like flux, Poynting and dot product with other data.\u001b[0m\n"
      ]
     },
     "metadata": {},
     "output_type": "display_data"
    },
    {
     "data": {
      "text/html": [
       "<pre style=\"white-space:pre;overflow-x:auto;line-height:normal;font-family:Menlo,'DejaVu Sans Mono',consolas,'Courier New',monospace\"><span style=\"color: #7fbfbf; text-decoration-color: #7fbfbf\">             </span>Created task <span style=\"color: #008000; text-decoration-color: #008000\">'inv_des_adj'</span> with task_id                            \n",
       "<span style=\"color: #7fbfbf; text-decoration-color: #7fbfbf\">             </span><span style=\"color: #008000; text-decoration-color: #008000\">'fdve-c43bb397-4324-43e5-8dd7-2975ab684392'</span> and task_type <span style=\"color: #008000; text-decoration-color: #008000\">'FDTD'</span>.  \n",
       "</pre>\n"
      ],
      "text/plain": [
       "\u001b[2;36m            \u001b[0m\u001b[2;36m \u001b[0mCreated task \u001b[32m'inv_des_adj'\u001b[0m with task_id                            \n",
       "\u001b[2;36m             \u001b[0m\u001b[32m'fdve-c43bb397-4324-43e5-8dd7-2975ab684392'\u001b[0m and task_type \u001b[32m'FDTD'\u001b[0m.  \n"
      ]
     },
     "metadata": {},
     "output_type": "display_data"
    },
    {
     "data": {
      "text/html": [
       "<pre style=\"white-space:pre;overflow-x:auto;line-height:normal;font-family:Menlo,'DejaVu Sans Mono',consolas,'Courier New',monospace\"><span style=\"color: #7fbfbf; text-decoration-color: #7fbfbf\">             </span>View task using web UI at                                          \n",
       "<span style=\"color: #7fbfbf; text-decoration-color: #7fbfbf\">             </span><a href=\"https://tidy3d.simulation.cloud/workbench?taskId=fdve-c43bb397-4324-43e5-8dd7-2975ab684392\" target=\"_blank\"><span style=\"color: #008000; text-decoration-color: #008000\">'https://tidy3d.simulation.cloud/workbench?taskId=fdve-c43bb397-432</span></a>\n",
       "<span style=\"color: #7fbfbf; text-decoration-color: #7fbfbf\">             </span><a href=\"https://tidy3d.simulation.cloud/workbench?taskId=fdve-c43bb397-4324-43e5-8dd7-2975ab684392\" target=\"_blank\"><span style=\"color: #008000; text-decoration-color: #008000\">4-43e5-8dd7-2975ab684392'</span></a>.                                         \n",
       "</pre>\n"
      ],
      "text/plain": [
       "\u001b[2;36m            \u001b[0m\u001b[2;36m \u001b[0mView task using web UI at                                          \n",
       "\u001b[2;36m             \u001b[0m\u001b]8;id=249833;https://tidy3d.simulation.cloud/workbench?taskId=fdve-c43bb397-4324-43e5-8dd7-2975ab684392\u001b\\\u001b[32m'https://tidy3d.simulation.cloud/workbench?\u001b[0m\u001b]8;;\u001b\\\u001b]8;id=798730;https://tidy3d.simulation.cloud/workbench?taskId=fdve-c43bb397-4324-43e5-8dd7-2975ab684392\u001b\\\u001b[32mtaskId\u001b[0m\u001b]8;;\u001b\\\u001b]8;id=249833;https://tidy3d.simulation.cloud/workbench?taskId=fdve-c43bb397-4324-43e5-8dd7-2975ab684392\u001b\\\u001b[32m=\u001b[0m\u001b]8;;\u001b\\\u001b]8;id=667568;https://tidy3d.simulation.cloud/workbench?taskId=fdve-c43bb397-4324-43e5-8dd7-2975ab684392\u001b\\\u001b[32mfdve\u001b[0m\u001b]8;;\u001b\\\u001b]8;id=249833;https://tidy3d.simulation.cloud/workbench?taskId=fdve-c43bb397-4324-43e5-8dd7-2975ab684392\u001b\\\u001b[32m-c43bb397-432\u001b[0m\u001b]8;;\u001b\\\n",
       "\u001b[2;36m             \u001b[0m\u001b]8;id=249833;https://tidy3d.simulation.cloud/workbench?taskId=fdve-c43bb397-4324-43e5-8dd7-2975ab684392\u001b\\\u001b[32m4-43e5-8dd7-2975ab684392'\u001b[0m\u001b]8;;\u001b\\.                                         \n"
      ]
     },
     "metadata": {},
     "output_type": "display_data"
    },
    {
     "data": {
      "application/vnd.jupyter.widget-view+json": {
       "model_id": "02b6492668174513ba51b9105674a8cf",
       "version_major": 2,
       "version_minor": 0
      },
      "text/plain": [
       "Output()"
      ]
     },
     "metadata": {},
     "output_type": "display_data"
    },
    {
     "data": {
      "text/html": [
       "<pre style=\"white-space:pre;overflow-x:auto;line-height:normal;font-family:Menlo,'DejaVu Sans Mono',consolas,'Courier New',monospace\"></pre>\n"
      ],
      "text/plain": []
     },
     "metadata": {},
     "output_type": "display_data"
    },
    {
     "data": {
      "text/html": [
       "<pre style=\"white-space:pre;overflow-x:auto;line-height:normal;font-family:Menlo,'DejaVu Sans Mono',consolas,'Courier New',monospace\">\n",
       "</pre>\n"
      ],
      "text/plain": [
       "\n"
      ]
     },
     "metadata": {},
     "output_type": "display_data"
    },
    {
     "data": {
      "application/vnd.jupyter.widget-view+json": {
       "model_id": "d2ebc488b9b749afb3a71570736f2bff",
       "version_major": 2,
       "version_minor": 0
      },
      "text/plain": [
       "Output()"
      ]
     },
     "metadata": {},
     "output_type": "display_data"
    },
    {
     "data": {
      "text/html": [
       "<pre style=\"white-space:pre;overflow-x:auto;line-height:normal;font-family:Menlo,'DejaVu Sans Mono',consolas,'Courier New',monospace\"></pre>\n"
      ],
      "text/plain": []
     },
     "metadata": {},
     "output_type": "display_data"
    },
    {
     "data": {
      "text/html": [
       "<pre style=\"white-space:pre;overflow-x:auto;line-height:normal;font-family:Menlo,'DejaVu Sans Mono',consolas,'Courier New',monospace\">\n",
       "</pre>\n"
      ],
      "text/plain": [
       "\n"
      ]
     },
     "metadata": {},
     "output_type": "display_data"
    },
    {
     "data": {
      "text/html": [
       "<pre style=\"white-space:pre;overflow-x:auto;line-height:normal;font-family:Menlo,'DejaVu Sans Mono',consolas,'Courier New',monospace\"><span style=\"color: #7fbfbf; text-decoration-color: #7fbfbf\">10:10:42 PST </span>status = success                                                   \n",
       "</pre>\n"
      ],
      "text/plain": [
       "\u001b[2;36m10:10:42 PST\u001b[0m\u001b[2;36m \u001b[0mstatus = success                                                   \n"
      ]
     },
     "metadata": {},
     "output_type": "display_data"
    },
    {
     "data": {
      "application/vnd.jupyter.widget-view+json": {
       "model_id": "f94438c964aa4ff198f7c59cfd165527",
       "version_major": 2,
       "version_minor": 0
      },
      "text/plain": [
       "Output()"
      ]
     },
     "metadata": {},
     "output_type": "display_data"
    },
    {
     "data": {
      "text/html": [
       "<pre style=\"white-space:pre;overflow-x:auto;line-height:normal;font-family:Menlo,'DejaVu Sans Mono',consolas,'Courier New',monospace\"></pre>\n"
      ],
      "text/plain": []
     },
     "metadata": {},
     "output_type": "display_data"
    },
    {
     "data": {
      "text/html": [
       "<pre style=\"white-space:pre;overflow-x:auto;line-height:normal;font-family:Menlo,'DejaVu Sans Mono',consolas,'Courier New',monospace\">\n",
       "</pre>\n"
      ],
      "text/plain": [
       "\n"
      ]
     },
     "metadata": {},
     "output_type": "display_data"
    },
    {
     "name": "stdout",
     "output_type": "stream",
     "text": [
      "(500, 300)\n"
     ]
    }
   ],
   "source": [
    "val, grad = dJ_fn(params0, beta=1, verbose=True)\n",
    "print(grad.shape)"
   ]
  },
  {
   "cell_type": "code",
   "execution_count": 17,
   "id": "fc7c5898-e2f5-45f0-9273-64efc725417e",
   "metadata": {
    "execution": {
     "iopub.execute_input": "2024-02-20T03:29:43.112994Z",
     "iopub.status.busy": "2024-02-20T03:29:43.112861Z",
     "iopub.status.idle": "2024-02-20T03:29:43.132770Z",
     "shell.execute_reply": "2024-02-20T03:29:43.132278Z"
    }
   },
   "outputs": [
    {
     "name": "stdout",
     "output_type": "stream",
     "text": [
      "[[ 1.9115971e-08  2.0341940e-08  2.1002837e-08 ... -5.6985749e-09\n",
      "  -5.3410614e-09 -4.9523292e-09]\n",
      " [ 2.2382403e-08  2.3751861e-08  2.4416231e-08 ... -6.0140346e-09\n",
      "  -5.7980922e-09 -5.4937974e-09]\n",
      " [ 2.5903667e-08  2.7416892e-08  2.8085175e-08 ... -6.3867076e-09\n",
      "  -6.3510321e-09 -6.1579213e-09]\n",
      " ...\n",
      " [ 4.1107916e-07  4.7214002e-07  5.3059199e-07 ... -5.0702999e-07\n",
      "  -4.4837955e-07 -3.8811248e-07]\n",
      " [ 3.7093611e-07  4.2643046e-07  4.7960327e-07 ... -4.5335162e-07\n",
      "  -4.0046768e-07 -3.4622192e-07]\n",
      " [ 3.2704986e-07  3.7625239e-07  4.2354696e-07 ... -3.9623103e-07\n",
      "  -3.4959447e-07 -3.0191603e-07]]\n"
     ]
    }
   ],
   "source": [
    "print(grad)"
   ]
  },
  {
   "cell_type": "markdown",
   "id": "529fad9d-3692-464b-9a45-bea3e084c1b5",
   "metadata": {},
   "source": [
    "### Optimization\n",
    "\n",
    "We will use \"Adam\" optimization strategy to perform sequential updates of each of the permittivity values in the [JaxCustomMedium](https://docs.flexcompute.com/projects/tidy3d/en/latest/_autosummary/tidy3d.plugins.adjoint.JaxCustomMedium.html?highlight=JaxCustomMedium#tidy3d.plugins.adjoint.JaxCustomMedium).\n",
    "\n",
    "For more information on what we use to implement this method, see [this article](https://optimization.cbe.cornell.edu/index.php?title=Adam).\n",
    "\n",
    "We will run 10 steps and measure both the permittivities and powers at each iteration.\n",
    "\n",
    "We capture this process in an `optimize` function, which accepts various parameters that we can tweak."
   ]
  },
  {
   "cell_type": "code",
   "execution_count": 18,
   "id": "3eedf09a-9265-43ec-a557-3d0ec5b774bb",
   "metadata": {
    "execution": {
     "iopub.execute_input": "2024-02-20T03:29:43.135025Z",
     "iopub.status.busy": "2024-02-20T03:29:43.134886Z",
     "iopub.status.idle": "2024-02-20T03:49:41.933478Z",
     "shell.execute_reply": "2024-02-20T03:49:41.932853Z"
    },
    "tags": []
   },
   "outputs": [
    {
     "data": {
      "text/html": [
       "<pre style=\"white-space:pre;overflow-x:auto;line-height:normal;font-family:Menlo,'DejaVu Sans Mono',consolas,'Courier New',monospace\"><span style=\"color: #7fbfbf; text-decoration-color: #7fbfbf\">19:29:46 PST </span><span style=\"color: #800000; text-decoration-color: #800000\">WARNING: Monitor data requires </span><span style=\"color: #008000; text-decoration-color: #008000\">'grid_expanded'</span><span style=\"color: #800000; text-decoration-color: #800000\"> to be defined to    </span>\n",
       "<span style=\"color: #7fbfbf; text-decoration-color: #7fbfbf\">             </span><span style=\"color: #800000; text-decoration-color: #800000\">compute values like flux, Poynting and dot product with other data.</span>\n",
       "</pre>\n"
      ],
      "text/plain": [
       "\u001b[2;36m19:29:46 PST\u001b[0m\u001b[2;36m \u001b[0m\u001b[31mWARNING: Monitor data requires \u001b[0m\u001b[32m'grid_expanded'\u001b[0m\u001b[31m to be defined to    \u001b[0m\n",
       "\u001b[2;36m             \u001b[0m\u001b[31mcompute values like flux, Poynting and dot product with other data.\u001b[0m\n"
      ]
     },
     "metadata": {},
     "output_type": "display_data"
    },
    {
     "data": {
      "text/html": [
       "<pre style=\"white-space:pre;overflow-x:auto;line-height:normal;font-family:Menlo,'DejaVu Sans Mono',consolas,'Courier New',monospace\"><span style=\"color: #7fbfbf; text-decoration-color: #7fbfbf\">             </span><span style=\"color: #800000; text-decoration-color: #800000\">WARNING: Monitor data requires </span><span style=\"color: #008000; text-decoration-color: #008000\">'grid_expanded'</span><span style=\"color: #800000; text-decoration-color: #800000\"> to be defined to    </span>\n",
       "<span style=\"color: #7fbfbf; text-decoration-color: #7fbfbf\">             </span><span style=\"color: #800000; text-decoration-color: #800000\">compute values like flux, Poynting and dot product with other data.</span>\n",
       "</pre>\n"
      ],
      "text/plain": [
       "\u001b[2;36m            \u001b[0m\u001b[2;36m \u001b[0m\u001b[31mWARNING: Monitor data requires \u001b[0m\u001b[32m'grid_expanded'\u001b[0m\u001b[31m to be defined to    \u001b[0m\n",
       "\u001b[2;36m             \u001b[0m\u001b[31mcompute values like flux, Poynting and dot product with other data.\u001b[0m\n"
      ]
     },
     "metadata": {},
     "output_type": "display_data"
    },
    {
     "data": {
      "text/html": [
       "<pre style=\"white-space:pre;overflow-x:auto;line-height:normal;font-family:Menlo,'DejaVu Sans Mono',consolas,'Courier New',monospace\"><span style=\"color: #7fbfbf; text-decoration-color: #7fbfbf\">19:29:47 PST </span><span style=\"color: #800000; text-decoration-color: #800000\">WARNING: Monitor data requires </span><span style=\"color: #008000; text-decoration-color: #008000\">'grid_expanded'</span><span style=\"color: #800000; text-decoration-color: #800000\"> to be defined to    </span>\n",
       "<span style=\"color: #7fbfbf; text-decoration-color: #7fbfbf\">             </span><span style=\"color: #800000; text-decoration-color: #800000\">compute values like flux, Poynting and dot product with other data.</span>\n",
       "</pre>\n"
      ],
      "text/plain": [
       "\u001b[2;36m19:29:47 PST\u001b[0m\u001b[2;36m \u001b[0m\u001b[31mWARNING: Monitor data requires \u001b[0m\u001b[32m'grid_expanded'\u001b[0m\u001b[31m to be defined to    \u001b[0m\n",
       "\u001b[2;36m             \u001b[0m\u001b[31mcompute values like flux, Poynting and dot product with other data.\u001b[0m\n"
      ]
     },
     "metadata": {},
     "output_type": "display_data"
    },
    {
     "data": {
      "text/html": [
       "<pre style=\"white-space:pre;overflow-x:auto;line-height:normal;font-family:Menlo,'DejaVu Sans Mono',consolas,'Courier New',monospace\"><span style=\"color: #7fbfbf; text-decoration-color: #7fbfbf\">             </span><span style=\"color: #800000; text-decoration-color: #800000\">WARNING: Monitor data requires </span><span style=\"color: #008000; text-decoration-color: #008000\">'grid_expanded'</span><span style=\"color: #800000; text-decoration-color: #800000\"> to be defined to    </span>\n",
       "<span style=\"color: #7fbfbf; text-decoration-color: #7fbfbf\">             </span><span style=\"color: #800000; text-decoration-color: #800000\">compute values like flux, Poynting and dot product with other data.</span>\n",
       "</pre>\n"
      ],
      "text/plain": [
       "\u001b[2;36m            \u001b[0m\u001b[2;36m \u001b[0m\u001b[31mWARNING: Monitor data requires \u001b[0m\u001b[32m'grid_expanded'\u001b[0m\u001b[31m to be defined to    \u001b[0m\n",
       "\u001b[2;36m             \u001b[0m\u001b[31mcompute values like flux, Poynting and dot product with other data.\u001b[0m\n"
      ]
     },
     "metadata": {},
     "output_type": "display_data"
    },
    {
     "data": {
      "text/html": [
       "<pre style=\"white-space:pre;overflow-x:auto;line-height:normal;font-family:Menlo,'DejaVu Sans Mono',consolas,'Courier New',monospace\"><span style=\"color: #7fbfbf; text-decoration-color: #7fbfbf\">19:29:50 PST </span><span style=\"color: #800000; text-decoration-color: #800000\">WARNING: Monitor data requires </span><span style=\"color: #008000; text-decoration-color: #008000\">'grid_expanded'</span><span style=\"color: #800000; text-decoration-color: #800000\"> to be defined to    </span>\n",
       "<span style=\"color: #7fbfbf; text-decoration-color: #7fbfbf\">             </span><span style=\"color: #800000; text-decoration-color: #800000\">compute values like flux, Poynting and dot product with other data.</span>\n",
       "</pre>\n"
      ],
      "text/plain": [
       "\u001b[2;36m19:29:50 PST\u001b[0m\u001b[2;36m \u001b[0m\u001b[31mWARNING: Monitor data requires \u001b[0m\u001b[32m'grid_expanded'\u001b[0m\u001b[31m to be defined to    \u001b[0m\n",
       "\u001b[2;36m             \u001b[0m\u001b[31mcompute values like flux, Poynting and dot product with other data.\u001b[0m\n"
      ]
     },
     "metadata": {},
     "output_type": "display_data"
    },
    {
     "name": "stdout",
     "output_type": "stream",
     "text": [
      "step = 1\n",
      "\tbeta = 1.0000e+00\n",
      "\tJ = -3.9940e-02\n",
      "\tgrad_norm = 4.8046e-04\n"
     ]
    },
    {
     "data": {
      "text/html": [
       "<pre style=\"white-space:pre;overflow-x:auto;line-height:normal;font-family:Menlo,'DejaVu Sans Mono',consolas,'Courier New',monospace\"><span style=\"color: #7fbfbf; text-decoration-color: #7fbfbf\">19:30:32 PST </span><span style=\"color: #800000; text-decoration-color: #800000\">WARNING: Monitor data requires </span><span style=\"color: #008000; text-decoration-color: #008000\">'grid_expanded'</span><span style=\"color: #800000; text-decoration-color: #800000\"> to be defined to    </span>\n",
       "<span style=\"color: #7fbfbf; text-decoration-color: #7fbfbf\">             </span><span style=\"color: #800000; text-decoration-color: #800000\">compute values like flux, Poynting and dot product with other data.</span>\n",
       "</pre>\n"
      ],
      "text/plain": [
       "\u001b[2;36m19:30:32 PST\u001b[0m\u001b[2;36m \u001b[0m\u001b[31mWARNING: Monitor data requires \u001b[0m\u001b[32m'grid_expanded'\u001b[0m\u001b[31m to be defined to    \u001b[0m\n",
       "\u001b[2;36m             \u001b[0m\u001b[31mcompute values like flux, Poynting and dot product with other data.\u001b[0m\n"
      ]
     },
     "metadata": {},
     "output_type": "display_data"
    },
    {
     "data": {
      "text/html": [
       "<pre style=\"white-space:pre;overflow-x:auto;line-height:normal;font-family:Menlo,'DejaVu Sans Mono',consolas,'Courier New',monospace\"><span style=\"color: #7fbfbf; text-decoration-color: #7fbfbf\">             </span><span style=\"color: #800000; text-decoration-color: #800000\">WARNING: Monitor data requires </span><span style=\"color: #008000; text-decoration-color: #008000\">'grid_expanded'</span><span style=\"color: #800000; text-decoration-color: #800000\"> to be defined to    </span>\n",
       "<span style=\"color: #7fbfbf; text-decoration-color: #7fbfbf\">             </span><span style=\"color: #800000; text-decoration-color: #800000\">compute values like flux, Poynting and dot product with other data.</span>\n",
       "</pre>\n"
      ],
      "text/plain": [
       "\u001b[2;36m            \u001b[0m\u001b[2;36m \u001b[0m\u001b[31mWARNING: Monitor data requires \u001b[0m\u001b[32m'grid_expanded'\u001b[0m\u001b[31m to be defined to    \u001b[0m\n",
       "\u001b[2;36m             \u001b[0m\u001b[31mcompute values like flux, Poynting and dot product with other data.\u001b[0m\n"
      ]
     },
     "metadata": {},
     "output_type": "display_data"
    },
    {
     "data": {
      "text/html": [
       "<pre style=\"white-space:pre;overflow-x:auto;line-height:normal;font-family:Menlo,'DejaVu Sans Mono',consolas,'Courier New',monospace\"><span style=\"color: #7fbfbf; text-decoration-color: #7fbfbf\">19:30:33 PST </span><span style=\"color: #800000; text-decoration-color: #800000\">WARNING: Monitor data requires </span><span style=\"color: #008000; text-decoration-color: #008000\">'grid_expanded'</span><span style=\"color: #800000; text-decoration-color: #800000\"> to be defined to    </span>\n",
       "<span style=\"color: #7fbfbf; text-decoration-color: #7fbfbf\">             </span><span style=\"color: #800000; text-decoration-color: #800000\">compute values like flux, Poynting and dot product with other data.</span>\n",
       "</pre>\n"
      ],
      "text/plain": [
       "\u001b[2;36m19:30:33 PST\u001b[0m\u001b[2;36m \u001b[0m\u001b[31mWARNING: Monitor data requires \u001b[0m\u001b[32m'grid_expanded'\u001b[0m\u001b[31m to be defined to    \u001b[0m\n",
       "\u001b[2;36m             \u001b[0m\u001b[31mcompute values like flux, Poynting and dot product with other data.\u001b[0m\n"
      ]
     },
     "metadata": {},
     "output_type": "display_data"
    },
    {
     "data": {
      "text/html": [
       "<pre style=\"white-space:pre;overflow-x:auto;line-height:normal;font-family:Menlo,'DejaVu Sans Mono',consolas,'Courier New',monospace\"><span style=\"color: #7fbfbf; text-decoration-color: #7fbfbf\">             </span><span style=\"color: #800000; text-decoration-color: #800000\">WARNING: Monitor data requires </span><span style=\"color: #008000; text-decoration-color: #008000\">'grid_expanded'</span><span style=\"color: #800000; text-decoration-color: #800000\"> to be defined to    </span>\n",
       "<span style=\"color: #7fbfbf; text-decoration-color: #7fbfbf\">             </span><span style=\"color: #800000; text-decoration-color: #800000\">compute values like flux, Poynting and dot product with other data.</span>\n",
       "</pre>\n"
      ],
      "text/plain": [
       "\u001b[2;36m            \u001b[0m\u001b[2;36m \u001b[0m\u001b[31mWARNING: Monitor data requires \u001b[0m\u001b[32m'grid_expanded'\u001b[0m\u001b[31m to be defined to    \u001b[0m\n",
       "\u001b[2;36m             \u001b[0m\u001b[31mcompute values like flux, Poynting and dot product with other data.\u001b[0m\n"
      ]
     },
     "metadata": {},
     "output_type": "display_data"
    },
    {
     "data": {
      "text/html": [
       "<pre style=\"white-space:pre;overflow-x:auto;line-height:normal;font-family:Menlo,'DejaVu Sans Mono',consolas,'Courier New',monospace\"><span style=\"color: #7fbfbf; text-decoration-color: #7fbfbf\">19:30:36 PST </span><span style=\"color: #800000; text-decoration-color: #800000\">WARNING: Monitor data requires </span><span style=\"color: #008000; text-decoration-color: #008000\">'grid_expanded'</span><span style=\"color: #800000; text-decoration-color: #800000\"> to be defined to    </span>\n",
       "<span style=\"color: #7fbfbf; text-decoration-color: #7fbfbf\">             </span><span style=\"color: #800000; text-decoration-color: #800000\">compute values like flux, Poynting and dot product with other data.</span>\n",
       "</pre>\n"
      ],
      "text/plain": [
       "\u001b[2;36m19:30:36 PST\u001b[0m\u001b[2;36m \u001b[0m\u001b[31mWARNING: Monitor data requires \u001b[0m\u001b[32m'grid_expanded'\u001b[0m\u001b[31m to be defined to    \u001b[0m\n",
       "\u001b[2;36m             \u001b[0m\u001b[31mcompute values like flux, Poynting and dot product with other data.\u001b[0m\n"
      ]
     },
     "metadata": {},
     "output_type": "display_data"
    },
    {
     "name": "stdout",
     "output_type": "stream",
     "text": [
      "step = 2\n",
      "\tbeta = 2.0000e+00\n",
      "\tJ = 6.8249e-03\n",
      "\tgrad_norm = 8.9550e-03\n"
     ]
    },
    {
     "data": {
      "text/html": [
       "<pre style=\"white-space:pre;overflow-x:auto;line-height:normal;font-family:Menlo,'DejaVu Sans Mono',consolas,'Courier New',monospace\"><span style=\"color: #7fbfbf; text-decoration-color: #7fbfbf\">19:31:33 PST </span><span style=\"color: #800000; text-decoration-color: #800000\">WARNING: Monitor data requires </span><span style=\"color: #008000; text-decoration-color: #008000\">'grid_expanded'</span><span style=\"color: #800000; text-decoration-color: #800000\"> to be defined to    </span>\n",
       "<span style=\"color: #7fbfbf; text-decoration-color: #7fbfbf\">             </span><span style=\"color: #800000; text-decoration-color: #800000\">compute values like flux, Poynting and dot product with other data.</span>\n",
       "</pre>\n"
      ],
      "text/plain": [
       "\u001b[2;36m19:31:33 PST\u001b[0m\u001b[2;36m \u001b[0m\u001b[31mWARNING: Monitor data requires \u001b[0m\u001b[32m'grid_expanded'\u001b[0m\u001b[31m to be defined to    \u001b[0m\n",
       "\u001b[2;36m             \u001b[0m\u001b[31mcompute values like flux, Poynting and dot product with other data.\u001b[0m\n"
      ]
     },
     "metadata": {},
     "output_type": "display_data"
    },
    {
     "data": {
      "text/html": [
       "<pre style=\"white-space:pre;overflow-x:auto;line-height:normal;font-family:Menlo,'DejaVu Sans Mono',consolas,'Courier New',monospace\"><span style=\"color: #7fbfbf; text-decoration-color: #7fbfbf\">             </span><span style=\"color: #800000; text-decoration-color: #800000\">WARNING: Monitor data requires </span><span style=\"color: #008000; text-decoration-color: #008000\">'grid_expanded'</span><span style=\"color: #800000; text-decoration-color: #800000\"> to be defined to    </span>\n",
       "<span style=\"color: #7fbfbf; text-decoration-color: #7fbfbf\">             </span><span style=\"color: #800000; text-decoration-color: #800000\">compute values like flux, Poynting and dot product with other data.</span>\n",
       "</pre>\n"
      ],
      "text/plain": [
       "\u001b[2;36m            \u001b[0m\u001b[2;36m \u001b[0m\u001b[31mWARNING: Monitor data requires \u001b[0m\u001b[32m'grid_expanded'\u001b[0m\u001b[31m to be defined to    \u001b[0m\n",
       "\u001b[2;36m             \u001b[0m\u001b[31mcompute values like flux, Poynting and dot product with other data.\u001b[0m\n"
      ]
     },
     "metadata": {},
     "output_type": "display_data"
    },
    {
     "data": {
      "text/html": [
       "<pre style=\"white-space:pre;overflow-x:auto;line-height:normal;font-family:Menlo,'DejaVu Sans Mono',consolas,'Courier New',monospace\"><span style=\"color: #7fbfbf; text-decoration-color: #7fbfbf\">19:31:34 PST </span><span style=\"color: #800000; text-decoration-color: #800000\">WARNING: Monitor data requires </span><span style=\"color: #008000; text-decoration-color: #008000\">'grid_expanded'</span><span style=\"color: #800000; text-decoration-color: #800000\"> to be defined to    </span>\n",
       "<span style=\"color: #7fbfbf; text-decoration-color: #7fbfbf\">             </span><span style=\"color: #800000; text-decoration-color: #800000\">compute values like flux, Poynting and dot product with other data.</span>\n",
       "</pre>\n"
      ],
      "text/plain": [
       "\u001b[2;36m19:31:34 PST\u001b[0m\u001b[2;36m \u001b[0m\u001b[31mWARNING: Monitor data requires \u001b[0m\u001b[32m'grid_expanded'\u001b[0m\u001b[31m to be defined to    \u001b[0m\n",
       "\u001b[2;36m             \u001b[0m\u001b[31mcompute values like flux, Poynting and dot product with other data.\u001b[0m\n"
      ]
     },
     "metadata": {},
     "output_type": "display_data"
    },
    {
     "data": {
      "text/html": [
       "<pre style=\"white-space:pre;overflow-x:auto;line-height:normal;font-family:Menlo,'DejaVu Sans Mono',consolas,'Courier New',monospace\"><span style=\"color: #7fbfbf; text-decoration-color: #7fbfbf\">             </span><span style=\"color: #800000; text-decoration-color: #800000\">WARNING: Monitor data requires </span><span style=\"color: #008000; text-decoration-color: #008000\">'grid_expanded'</span><span style=\"color: #800000; text-decoration-color: #800000\"> to be defined to    </span>\n",
       "<span style=\"color: #7fbfbf; text-decoration-color: #7fbfbf\">             </span><span style=\"color: #800000; text-decoration-color: #800000\">compute values like flux, Poynting and dot product with other data.</span>\n",
       "</pre>\n"
      ],
      "text/plain": [
       "\u001b[2;36m            \u001b[0m\u001b[2;36m \u001b[0m\u001b[31mWARNING: Monitor data requires \u001b[0m\u001b[32m'grid_expanded'\u001b[0m\u001b[31m to be defined to    \u001b[0m\n",
       "\u001b[2;36m             \u001b[0m\u001b[31mcompute values like flux, Poynting and dot product with other data.\u001b[0m\n"
      ]
     },
     "metadata": {},
     "output_type": "display_data"
    },
    {
     "data": {
      "text/html": [
       "<pre style=\"white-space:pre;overflow-x:auto;line-height:normal;font-family:Menlo,'DejaVu Sans Mono',consolas,'Courier New',monospace\"><span style=\"color: #7fbfbf; text-decoration-color: #7fbfbf\">19:31:37 PST </span><span style=\"color: #800000; text-decoration-color: #800000\">WARNING: Monitor data requires </span><span style=\"color: #008000; text-decoration-color: #008000\">'grid_expanded'</span><span style=\"color: #800000; text-decoration-color: #800000\"> to be defined to    </span>\n",
       "<span style=\"color: #7fbfbf; text-decoration-color: #7fbfbf\">             </span><span style=\"color: #800000; text-decoration-color: #800000\">compute values like flux, Poynting and dot product with other data.</span>\n",
       "</pre>\n"
      ],
      "text/plain": [
       "\u001b[2;36m19:31:37 PST\u001b[0m\u001b[2;36m \u001b[0m\u001b[31mWARNING: Monitor data requires \u001b[0m\u001b[32m'grid_expanded'\u001b[0m\u001b[31m to be defined to    \u001b[0m\n",
       "\u001b[2;36m             \u001b[0m\u001b[31mcompute values like flux, Poynting and dot product with other data.\u001b[0m\n"
      ]
     },
     "metadata": {},
     "output_type": "display_data"
    },
    {
     "name": "stdout",
     "output_type": "stream",
     "text": [
      "step = 3\n",
      "\tbeta = 3.0000e+00\n",
      "\tJ = -5.8742e-02\n",
      "\tgrad_norm = 9.5529e-03\n"
     ]
    },
    {
     "data": {
      "text/html": [
       "<pre style=\"white-space:pre;overflow-x:auto;line-height:normal;font-family:Menlo,'DejaVu Sans Mono',consolas,'Courier New',monospace\"><span style=\"color: #7fbfbf; text-decoration-color: #7fbfbf\">19:32:35 PST </span><span style=\"color: #800000; text-decoration-color: #800000\">WARNING: Monitor data requires </span><span style=\"color: #008000; text-decoration-color: #008000\">'grid_expanded'</span><span style=\"color: #800000; text-decoration-color: #800000\"> to be defined to    </span>\n",
       "<span style=\"color: #7fbfbf; text-decoration-color: #7fbfbf\">             </span><span style=\"color: #800000; text-decoration-color: #800000\">compute values like flux, Poynting and dot product with other data.</span>\n",
       "</pre>\n"
      ],
      "text/plain": [
       "\u001b[2;36m19:32:35 PST\u001b[0m\u001b[2;36m \u001b[0m\u001b[31mWARNING: Monitor data requires \u001b[0m\u001b[32m'grid_expanded'\u001b[0m\u001b[31m to be defined to    \u001b[0m\n",
       "\u001b[2;36m             \u001b[0m\u001b[31mcompute values like flux, Poynting and dot product with other data.\u001b[0m\n"
      ]
     },
     "metadata": {},
     "output_type": "display_data"
    },
    {
     "data": {
      "text/html": [
       "<pre style=\"white-space:pre;overflow-x:auto;line-height:normal;font-family:Menlo,'DejaVu Sans Mono',consolas,'Courier New',monospace\"><span style=\"color: #7fbfbf; text-decoration-color: #7fbfbf\">             </span><span style=\"color: #800000; text-decoration-color: #800000\">WARNING: Monitor data requires </span><span style=\"color: #008000; text-decoration-color: #008000\">'grid_expanded'</span><span style=\"color: #800000; text-decoration-color: #800000\"> to be defined to    </span>\n",
       "<span style=\"color: #7fbfbf; text-decoration-color: #7fbfbf\">             </span><span style=\"color: #800000; text-decoration-color: #800000\">compute values like flux, Poynting and dot product with other data.</span>\n",
       "</pre>\n"
      ],
      "text/plain": [
       "\u001b[2;36m            \u001b[0m\u001b[2;36m \u001b[0m\u001b[31mWARNING: Monitor data requires \u001b[0m\u001b[32m'grid_expanded'\u001b[0m\u001b[31m to be defined to    \u001b[0m\n",
       "\u001b[2;36m             \u001b[0m\u001b[31mcompute values like flux, Poynting and dot product with other data.\u001b[0m\n"
      ]
     },
     "metadata": {},
     "output_type": "display_data"
    },
    {
     "data": {
      "text/html": [
       "<pre style=\"white-space:pre;overflow-x:auto;line-height:normal;font-family:Menlo,'DejaVu Sans Mono',consolas,'Courier New',monospace\"><span style=\"color: #7fbfbf; text-decoration-color: #7fbfbf\">19:32:36 PST </span><span style=\"color: #800000; text-decoration-color: #800000\">WARNING: Monitor data requires </span><span style=\"color: #008000; text-decoration-color: #008000\">'grid_expanded'</span><span style=\"color: #800000; text-decoration-color: #800000\"> to be defined to    </span>\n",
       "<span style=\"color: #7fbfbf; text-decoration-color: #7fbfbf\">             </span><span style=\"color: #800000; text-decoration-color: #800000\">compute values like flux, Poynting and dot product with other data.</span>\n",
       "</pre>\n"
      ],
      "text/plain": [
       "\u001b[2;36m19:32:36 PST\u001b[0m\u001b[2;36m \u001b[0m\u001b[31mWARNING: Monitor data requires \u001b[0m\u001b[32m'grid_expanded'\u001b[0m\u001b[31m to be defined to    \u001b[0m\n",
       "\u001b[2;36m             \u001b[0m\u001b[31mcompute values like flux, Poynting and dot product with other data.\u001b[0m\n"
      ]
     },
     "metadata": {},
     "output_type": "display_data"
    },
    {
     "data": {
      "text/html": [
       "<pre style=\"white-space:pre;overflow-x:auto;line-height:normal;font-family:Menlo,'DejaVu Sans Mono',consolas,'Courier New',monospace\"><span style=\"color: #7fbfbf; text-decoration-color: #7fbfbf\">             </span><span style=\"color: #800000; text-decoration-color: #800000\">WARNING: Monitor data requires </span><span style=\"color: #008000; text-decoration-color: #008000\">'grid_expanded'</span><span style=\"color: #800000; text-decoration-color: #800000\"> to be defined to    </span>\n",
       "<span style=\"color: #7fbfbf; text-decoration-color: #7fbfbf\">             </span><span style=\"color: #800000; text-decoration-color: #800000\">compute values like flux, Poynting and dot product with other data.</span>\n",
       "</pre>\n"
      ],
      "text/plain": [
       "\u001b[2;36m            \u001b[0m\u001b[2;36m \u001b[0m\u001b[31mWARNING: Monitor data requires \u001b[0m\u001b[32m'grid_expanded'\u001b[0m\u001b[31m to be defined to    \u001b[0m\n",
       "\u001b[2;36m             \u001b[0m\u001b[31mcompute values like flux, Poynting and dot product with other data.\u001b[0m\n"
      ]
     },
     "metadata": {},
     "output_type": "display_data"
    },
    {
     "data": {
      "text/html": [
       "<pre style=\"white-space:pre;overflow-x:auto;line-height:normal;font-family:Menlo,'DejaVu Sans Mono',consolas,'Courier New',monospace\"><span style=\"color: #7fbfbf; text-decoration-color: #7fbfbf\">19:32:39 PST </span><span style=\"color: #800000; text-decoration-color: #800000\">WARNING: Monitor data requires </span><span style=\"color: #008000; text-decoration-color: #008000\">'grid_expanded'</span><span style=\"color: #800000; text-decoration-color: #800000\"> to be defined to    </span>\n",
       "<span style=\"color: #7fbfbf; text-decoration-color: #7fbfbf\">             </span><span style=\"color: #800000; text-decoration-color: #800000\">compute values like flux, Poynting and dot product with other data.</span>\n",
       "</pre>\n"
      ],
      "text/plain": [
       "\u001b[2;36m19:32:39 PST\u001b[0m\u001b[2;36m \u001b[0m\u001b[31mWARNING: Monitor data requires \u001b[0m\u001b[32m'grid_expanded'\u001b[0m\u001b[31m to be defined to    \u001b[0m\n",
       "\u001b[2;36m             \u001b[0m\u001b[31mcompute values like flux, Poynting and dot product with other data.\u001b[0m\n"
      ]
     },
     "metadata": {},
     "output_type": "display_data"
    },
    {
     "name": "stdout",
     "output_type": "stream",
     "text": [
      "step = 4\n",
      "\tbeta = 4.0000e+00\n",
      "\tJ = -8.3863e-02\n",
      "\tgrad_norm = 5.8784e-03\n"
     ]
    },
    {
     "data": {
      "text/html": [
       "<pre style=\"white-space:pre;overflow-x:auto;line-height:normal;font-family:Menlo,'DejaVu Sans Mono',consolas,'Courier New',monospace\"><span style=\"color: #7fbfbf; text-decoration-color: #7fbfbf\">19:33:35 PST </span><span style=\"color: #800000; text-decoration-color: #800000\">WARNING: Monitor data requires </span><span style=\"color: #008000; text-decoration-color: #008000\">'grid_expanded'</span><span style=\"color: #800000; text-decoration-color: #800000\"> to be defined to    </span>\n",
       "<span style=\"color: #7fbfbf; text-decoration-color: #7fbfbf\">             </span><span style=\"color: #800000; text-decoration-color: #800000\">compute values like flux, Poynting and dot product with other data.</span>\n",
       "</pre>\n"
      ],
      "text/plain": [
       "\u001b[2;36m19:33:35 PST\u001b[0m\u001b[2;36m \u001b[0m\u001b[31mWARNING: Monitor data requires \u001b[0m\u001b[32m'grid_expanded'\u001b[0m\u001b[31m to be defined to    \u001b[0m\n",
       "\u001b[2;36m             \u001b[0m\u001b[31mcompute values like flux, Poynting and dot product with other data.\u001b[0m\n"
      ]
     },
     "metadata": {},
     "output_type": "display_data"
    },
    {
     "data": {
      "text/html": [
       "<pre style=\"white-space:pre;overflow-x:auto;line-height:normal;font-family:Menlo,'DejaVu Sans Mono',consolas,'Courier New',monospace\"><span style=\"color: #7fbfbf; text-decoration-color: #7fbfbf\">             </span><span style=\"color: #800000; text-decoration-color: #800000\">WARNING: Monitor data requires </span><span style=\"color: #008000; text-decoration-color: #008000\">'grid_expanded'</span><span style=\"color: #800000; text-decoration-color: #800000\"> to be defined to    </span>\n",
       "<span style=\"color: #7fbfbf; text-decoration-color: #7fbfbf\">             </span><span style=\"color: #800000; text-decoration-color: #800000\">compute values like flux, Poynting and dot product with other data.</span>\n",
       "</pre>\n"
      ],
      "text/plain": [
       "\u001b[2;36m            \u001b[0m\u001b[2;36m \u001b[0m\u001b[31mWARNING: Monitor data requires \u001b[0m\u001b[32m'grid_expanded'\u001b[0m\u001b[31m to be defined to    \u001b[0m\n",
       "\u001b[2;36m             \u001b[0m\u001b[31mcompute values like flux, Poynting and dot product with other data.\u001b[0m\n"
      ]
     },
     "metadata": {},
     "output_type": "display_data"
    },
    {
     "data": {
      "text/html": [
       "<pre style=\"white-space:pre;overflow-x:auto;line-height:normal;font-family:Menlo,'DejaVu Sans Mono',consolas,'Courier New',monospace\"><span style=\"color: #7fbfbf; text-decoration-color: #7fbfbf\">             </span><span style=\"color: #800000; text-decoration-color: #800000\">WARNING: Monitor data requires </span><span style=\"color: #008000; text-decoration-color: #008000\">'grid_expanded'</span><span style=\"color: #800000; text-decoration-color: #800000\"> to be defined to    </span>\n",
       "<span style=\"color: #7fbfbf; text-decoration-color: #7fbfbf\">             </span><span style=\"color: #800000; text-decoration-color: #800000\">compute values like flux, Poynting and dot product with other data.</span>\n",
       "</pre>\n"
      ],
      "text/plain": [
       "\u001b[2;36m            \u001b[0m\u001b[2;36m \u001b[0m\u001b[31mWARNING: Monitor data requires \u001b[0m\u001b[32m'grid_expanded'\u001b[0m\u001b[31m to be defined to    \u001b[0m\n",
       "\u001b[2;36m             \u001b[0m\u001b[31mcompute values like flux, Poynting and dot product with other data.\u001b[0m\n"
      ]
     },
     "metadata": {},
     "output_type": "display_data"
    },
    {
     "data": {
      "text/html": [
       "<pre style=\"white-space:pre;overflow-x:auto;line-height:normal;font-family:Menlo,'DejaVu Sans Mono',consolas,'Courier New',monospace\"><span style=\"color: #7fbfbf; text-decoration-color: #7fbfbf\">19:33:36 PST </span><span style=\"color: #800000; text-decoration-color: #800000\">WARNING: Monitor data requires </span><span style=\"color: #008000; text-decoration-color: #008000\">'grid_expanded'</span><span style=\"color: #800000; text-decoration-color: #800000\"> to be defined to    </span>\n",
       "<span style=\"color: #7fbfbf; text-decoration-color: #7fbfbf\">             </span><span style=\"color: #800000; text-decoration-color: #800000\">compute values like flux, Poynting and dot product with other data.</span>\n",
       "</pre>\n"
      ],
      "text/plain": [
       "\u001b[2;36m19:33:36 PST\u001b[0m\u001b[2;36m \u001b[0m\u001b[31mWARNING: Monitor data requires \u001b[0m\u001b[32m'grid_expanded'\u001b[0m\u001b[31m to be defined to    \u001b[0m\n",
       "\u001b[2;36m             \u001b[0m\u001b[31mcompute values like flux, Poynting and dot product with other data.\u001b[0m\n"
      ]
     },
     "metadata": {},
     "output_type": "display_data"
    },
    {
     "data": {
      "text/html": [
       "<pre style=\"white-space:pre;overflow-x:auto;line-height:normal;font-family:Menlo,'DejaVu Sans Mono',consolas,'Courier New',monospace\"><span style=\"color: #7fbfbf; text-decoration-color: #7fbfbf\">19:33:39 PST </span><span style=\"color: #800000; text-decoration-color: #800000\">WARNING: Monitor data requires </span><span style=\"color: #008000; text-decoration-color: #008000\">'grid_expanded'</span><span style=\"color: #800000; text-decoration-color: #800000\"> to be defined to    </span>\n",
       "<span style=\"color: #7fbfbf; text-decoration-color: #7fbfbf\">             </span><span style=\"color: #800000; text-decoration-color: #800000\">compute values like flux, Poynting and dot product with other data.</span>\n",
       "</pre>\n"
      ],
      "text/plain": [
       "\u001b[2;36m19:33:39 PST\u001b[0m\u001b[2;36m \u001b[0m\u001b[31mWARNING: Monitor data requires \u001b[0m\u001b[32m'grid_expanded'\u001b[0m\u001b[31m to be defined to    \u001b[0m\n",
       "\u001b[2;36m             \u001b[0m\u001b[31mcompute values like flux, Poynting and dot product with other data.\u001b[0m\n"
      ]
     },
     "metadata": {},
     "output_type": "display_data"
    },
    {
     "name": "stdout",
     "output_type": "stream",
     "text": [
      "step = 5\n",
      "\tbeta = 5.0000e+00\n",
      "\tJ = 1.3108e-01\n",
      "\tgrad_norm = 1.1276e-02\n"
     ]
    },
    {
     "data": {
      "text/html": [
       "<pre style=\"white-space:pre;overflow-x:auto;line-height:normal;font-family:Menlo,'DejaVu Sans Mono',consolas,'Courier New',monospace\"><span style=\"color: #7fbfbf; text-decoration-color: #7fbfbf\">19:34:39 PST </span><span style=\"color: #800000; text-decoration-color: #800000\">WARNING: Monitor data requires </span><span style=\"color: #008000; text-decoration-color: #008000\">'grid_expanded'</span><span style=\"color: #800000; text-decoration-color: #800000\"> to be defined to    </span>\n",
       "<span style=\"color: #7fbfbf; text-decoration-color: #7fbfbf\">             </span><span style=\"color: #800000; text-decoration-color: #800000\">compute values like flux, Poynting and dot product with other data.</span>\n",
       "</pre>\n"
      ],
      "text/plain": [
       "\u001b[2;36m19:34:39 PST\u001b[0m\u001b[2;36m \u001b[0m\u001b[31mWARNING: Monitor data requires \u001b[0m\u001b[32m'grid_expanded'\u001b[0m\u001b[31m to be defined to    \u001b[0m\n",
       "\u001b[2;36m             \u001b[0m\u001b[31mcompute values like flux, Poynting and dot product with other data.\u001b[0m\n"
      ]
     },
     "metadata": {},
     "output_type": "display_data"
    },
    {
     "data": {
      "text/html": [
       "<pre style=\"white-space:pre;overflow-x:auto;line-height:normal;font-family:Menlo,'DejaVu Sans Mono',consolas,'Courier New',monospace\"><span style=\"color: #7fbfbf; text-decoration-color: #7fbfbf\">             </span><span style=\"color: #800000; text-decoration-color: #800000\">WARNING: Monitor data requires </span><span style=\"color: #008000; text-decoration-color: #008000\">'grid_expanded'</span><span style=\"color: #800000; text-decoration-color: #800000\"> to be defined to    </span>\n",
       "<span style=\"color: #7fbfbf; text-decoration-color: #7fbfbf\">             </span><span style=\"color: #800000; text-decoration-color: #800000\">compute values like flux, Poynting and dot product with other data.</span>\n",
       "</pre>\n"
      ],
      "text/plain": [
       "\u001b[2;36m            \u001b[0m\u001b[2;36m \u001b[0m\u001b[31mWARNING: Monitor data requires \u001b[0m\u001b[32m'grid_expanded'\u001b[0m\u001b[31m to be defined to    \u001b[0m\n",
       "\u001b[2;36m             \u001b[0m\u001b[31mcompute values like flux, Poynting and dot product with other data.\u001b[0m\n"
      ]
     },
     "metadata": {},
     "output_type": "display_data"
    },
    {
     "data": {
      "text/html": [
       "<pre style=\"white-space:pre;overflow-x:auto;line-height:normal;font-family:Menlo,'DejaVu Sans Mono',consolas,'Courier New',monospace\"><span style=\"color: #7fbfbf; text-decoration-color: #7fbfbf\">             </span><span style=\"color: #800000; text-decoration-color: #800000\">WARNING: Monitor data requires </span><span style=\"color: #008000; text-decoration-color: #008000\">'grid_expanded'</span><span style=\"color: #800000; text-decoration-color: #800000\"> to be defined to    </span>\n",
       "<span style=\"color: #7fbfbf; text-decoration-color: #7fbfbf\">             </span><span style=\"color: #800000; text-decoration-color: #800000\">compute values like flux, Poynting and dot product with other data.</span>\n",
       "</pre>\n"
      ],
      "text/plain": [
       "\u001b[2;36m            \u001b[0m\u001b[2;36m \u001b[0m\u001b[31mWARNING: Monitor data requires \u001b[0m\u001b[32m'grid_expanded'\u001b[0m\u001b[31m to be defined to    \u001b[0m\n",
       "\u001b[2;36m             \u001b[0m\u001b[31mcompute values like flux, Poynting and dot product with other data.\u001b[0m\n"
      ]
     },
     "metadata": {},
     "output_type": "display_data"
    },
    {
     "data": {
      "text/html": [
       "<pre style=\"white-space:pre;overflow-x:auto;line-height:normal;font-family:Menlo,'DejaVu Sans Mono',consolas,'Courier New',monospace\"><span style=\"color: #7fbfbf; text-decoration-color: #7fbfbf\">19:34:40 PST </span><span style=\"color: #800000; text-decoration-color: #800000\">WARNING: Monitor data requires </span><span style=\"color: #008000; text-decoration-color: #008000\">'grid_expanded'</span><span style=\"color: #800000; text-decoration-color: #800000\"> to be defined to    </span>\n",
       "<span style=\"color: #7fbfbf; text-decoration-color: #7fbfbf\">             </span><span style=\"color: #800000; text-decoration-color: #800000\">compute values like flux, Poynting and dot product with other data.</span>\n",
       "</pre>\n"
      ],
      "text/plain": [
       "\u001b[2;36m19:34:40 PST\u001b[0m\u001b[2;36m \u001b[0m\u001b[31mWARNING: Monitor data requires \u001b[0m\u001b[32m'grid_expanded'\u001b[0m\u001b[31m to be defined to    \u001b[0m\n",
       "\u001b[2;36m             \u001b[0m\u001b[31mcompute values like flux, Poynting and dot product with other data.\u001b[0m\n"
      ]
     },
     "metadata": {},
     "output_type": "display_data"
    },
    {
     "data": {
      "text/html": [
       "<pre style=\"white-space:pre;overflow-x:auto;line-height:normal;font-family:Menlo,'DejaVu Sans Mono',consolas,'Courier New',monospace\"><span style=\"color: #7fbfbf; text-decoration-color: #7fbfbf\">19:34:42 PST </span><span style=\"color: #800000; text-decoration-color: #800000\">WARNING: Monitor data requires </span><span style=\"color: #008000; text-decoration-color: #008000\">'grid_expanded'</span><span style=\"color: #800000; text-decoration-color: #800000\"> to be defined to    </span>\n",
       "<span style=\"color: #7fbfbf; text-decoration-color: #7fbfbf\">             </span><span style=\"color: #800000; text-decoration-color: #800000\">compute values like flux, Poynting and dot product with other data.</span>\n",
       "</pre>\n"
      ],
      "text/plain": [
       "\u001b[2;36m19:34:42 PST\u001b[0m\u001b[2;36m \u001b[0m\u001b[31mWARNING: Monitor data requires \u001b[0m\u001b[32m'grid_expanded'\u001b[0m\u001b[31m to be defined to    \u001b[0m\n",
       "\u001b[2;36m             \u001b[0m\u001b[31mcompute values like flux, Poynting and dot product with other data.\u001b[0m\n"
      ]
     },
     "metadata": {},
     "output_type": "display_data"
    },
    {
     "name": "stdout",
     "output_type": "stream",
     "text": [
      "step = 6\n",
      "\tbeta = 6.0000e+00\n",
      "\tJ = 3.3037e-01\n",
      "\tgrad_norm = 1.4995e-02\n"
     ]
    },
    {
     "data": {
      "text/html": [
       "<pre style=\"white-space:pre;overflow-x:auto;line-height:normal;font-family:Menlo,'DejaVu Sans Mono',consolas,'Courier New',monospace\"><span style=\"color: #7fbfbf; text-decoration-color: #7fbfbf\">19:35:37 PST </span><span style=\"color: #800000; text-decoration-color: #800000\">WARNING: Monitor data requires </span><span style=\"color: #008000; text-decoration-color: #008000\">'grid_expanded'</span><span style=\"color: #800000; text-decoration-color: #800000\"> to be defined to    </span>\n",
       "<span style=\"color: #7fbfbf; text-decoration-color: #7fbfbf\">             </span><span style=\"color: #800000; text-decoration-color: #800000\">compute values like flux, Poynting and dot product with other data.</span>\n",
       "</pre>\n"
      ],
      "text/plain": [
       "\u001b[2;36m19:35:37 PST\u001b[0m\u001b[2;36m \u001b[0m\u001b[31mWARNING: Monitor data requires \u001b[0m\u001b[32m'grid_expanded'\u001b[0m\u001b[31m to be defined to    \u001b[0m\n",
       "\u001b[2;36m             \u001b[0m\u001b[31mcompute values like flux, Poynting and dot product with other data.\u001b[0m\n"
      ]
     },
     "metadata": {},
     "output_type": "display_data"
    },
    {
     "data": {
      "text/html": [
       "<pre style=\"white-space:pre;overflow-x:auto;line-height:normal;font-family:Menlo,'DejaVu Sans Mono',consolas,'Courier New',monospace\"><span style=\"color: #7fbfbf; text-decoration-color: #7fbfbf\">             </span><span style=\"color: #800000; text-decoration-color: #800000\">WARNING: Monitor data requires </span><span style=\"color: #008000; text-decoration-color: #008000\">'grid_expanded'</span><span style=\"color: #800000; text-decoration-color: #800000\"> to be defined to    </span>\n",
       "<span style=\"color: #7fbfbf; text-decoration-color: #7fbfbf\">             </span><span style=\"color: #800000; text-decoration-color: #800000\">compute values like flux, Poynting and dot product with other data.</span>\n",
       "</pre>\n"
      ],
      "text/plain": [
       "\u001b[2;36m            \u001b[0m\u001b[2;36m \u001b[0m\u001b[31mWARNING: Monitor data requires \u001b[0m\u001b[32m'grid_expanded'\u001b[0m\u001b[31m to be defined to    \u001b[0m\n",
       "\u001b[2;36m             \u001b[0m\u001b[31mcompute values like flux, Poynting and dot product with other data.\u001b[0m\n"
      ]
     },
     "metadata": {},
     "output_type": "display_data"
    },
    {
     "data": {
      "text/html": [
       "<pre style=\"white-space:pre;overflow-x:auto;line-height:normal;font-family:Menlo,'DejaVu Sans Mono',consolas,'Courier New',monospace\"><span style=\"color: #7fbfbf; text-decoration-color: #7fbfbf\">19:35:38 PST </span><span style=\"color: #800000; text-decoration-color: #800000\">WARNING: Monitor data requires </span><span style=\"color: #008000; text-decoration-color: #008000\">'grid_expanded'</span><span style=\"color: #800000; text-decoration-color: #800000\"> to be defined to    </span>\n",
       "<span style=\"color: #7fbfbf; text-decoration-color: #7fbfbf\">             </span><span style=\"color: #800000; text-decoration-color: #800000\">compute values like flux, Poynting and dot product with other data.</span>\n",
       "</pre>\n"
      ],
      "text/plain": [
       "\u001b[2;36m19:35:38 PST\u001b[0m\u001b[2;36m \u001b[0m\u001b[31mWARNING: Monitor data requires \u001b[0m\u001b[32m'grid_expanded'\u001b[0m\u001b[31m to be defined to    \u001b[0m\n",
       "\u001b[2;36m             \u001b[0m\u001b[31mcompute values like flux, Poynting and dot product with other data.\u001b[0m\n"
      ]
     },
     "metadata": {},
     "output_type": "display_data"
    },
    {
     "data": {
      "text/html": [
       "<pre style=\"white-space:pre;overflow-x:auto;line-height:normal;font-family:Menlo,'DejaVu Sans Mono',consolas,'Courier New',monospace\"><span style=\"color: #7fbfbf; text-decoration-color: #7fbfbf\">             </span><span style=\"color: #800000; text-decoration-color: #800000\">WARNING: Monitor data requires </span><span style=\"color: #008000; text-decoration-color: #008000\">'grid_expanded'</span><span style=\"color: #800000; text-decoration-color: #800000\"> to be defined to    </span>\n",
       "<span style=\"color: #7fbfbf; text-decoration-color: #7fbfbf\">             </span><span style=\"color: #800000; text-decoration-color: #800000\">compute values like flux, Poynting and dot product with other data.</span>\n",
       "</pre>\n"
      ],
      "text/plain": [
       "\u001b[2;36m            \u001b[0m\u001b[2;36m \u001b[0m\u001b[31mWARNING: Monitor data requires \u001b[0m\u001b[32m'grid_expanded'\u001b[0m\u001b[31m to be defined to    \u001b[0m\n",
       "\u001b[2;36m             \u001b[0m\u001b[31mcompute values like flux, Poynting and dot product with other data.\u001b[0m\n"
      ]
     },
     "metadata": {},
     "output_type": "display_data"
    },
    {
     "data": {
      "text/html": [
       "<pre style=\"white-space:pre;overflow-x:auto;line-height:normal;font-family:Menlo,'DejaVu Sans Mono',consolas,'Courier New',monospace\"><span style=\"color: #7fbfbf; text-decoration-color: #7fbfbf\">19:35:41 PST </span><span style=\"color: #800000; text-decoration-color: #800000\">WARNING: Monitor data requires </span><span style=\"color: #008000; text-decoration-color: #008000\">'grid_expanded'</span><span style=\"color: #800000; text-decoration-color: #800000\"> to be defined to    </span>\n",
       "<span style=\"color: #7fbfbf; text-decoration-color: #7fbfbf\">             </span><span style=\"color: #800000; text-decoration-color: #800000\">compute values like flux, Poynting and dot product with other data.</span>\n",
       "</pre>\n"
      ],
      "text/plain": [
       "\u001b[2;36m19:35:41 PST\u001b[0m\u001b[2;36m \u001b[0m\u001b[31mWARNING: Monitor data requires \u001b[0m\u001b[32m'grid_expanded'\u001b[0m\u001b[31m to be defined to    \u001b[0m\n",
       "\u001b[2;36m             \u001b[0m\u001b[31mcompute values like flux, Poynting and dot product with other data.\u001b[0m\n"
      ]
     },
     "metadata": {},
     "output_type": "display_data"
    },
    {
     "name": "stdout",
     "output_type": "stream",
     "text": [
      "step = 7\n",
      "\tbeta = 7.0000e+00\n",
      "\tJ = 4.2604e-01\n",
      "\tgrad_norm = 1.9794e-02\n"
     ]
    },
    {
     "data": {
      "text/html": [
       "<pre style=\"white-space:pre;overflow-x:auto;line-height:normal;font-family:Menlo,'DejaVu Sans Mono',consolas,'Courier New',monospace\"><span style=\"color: #7fbfbf; text-decoration-color: #7fbfbf\">19:36:29 PST </span><span style=\"color: #800000; text-decoration-color: #800000\">WARNING: Monitor data requires </span><span style=\"color: #008000; text-decoration-color: #008000\">'grid_expanded'</span><span style=\"color: #800000; text-decoration-color: #800000\"> to be defined to    </span>\n",
       "<span style=\"color: #7fbfbf; text-decoration-color: #7fbfbf\">             </span><span style=\"color: #800000; text-decoration-color: #800000\">compute values like flux, Poynting and dot product with other data.</span>\n",
       "</pre>\n"
      ],
      "text/plain": [
       "\u001b[2;36m19:36:29 PST\u001b[0m\u001b[2;36m \u001b[0m\u001b[31mWARNING: Monitor data requires \u001b[0m\u001b[32m'grid_expanded'\u001b[0m\u001b[31m to be defined to    \u001b[0m\n",
       "\u001b[2;36m             \u001b[0m\u001b[31mcompute values like flux, Poynting and dot product with other data.\u001b[0m\n"
      ]
     },
     "metadata": {},
     "output_type": "display_data"
    },
    {
     "data": {
      "text/html": [
       "<pre style=\"white-space:pre;overflow-x:auto;line-height:normal;font-family:Menlo,'DejaVu Sans Mono',consolas,'Courier New',monospace\"><span style=\"color: #7fbfbf; text-decoration-color: #7fbfbf\">             </span><span style=\"color: #800000; text-decoration-color: #800000\">WARNING: Monitor data requires </span><span style=\"color: #008000; text-decoration-color: #008000\">'grid_expanded'</span><span style=\"color: #800000; text-decoration-color: #800000\"> to be defined to    </span>\n",
       "<span style=\"color: #7fbfbf; text-decoration-color: #7fbfbf\">             </span><span style=\"color: #800000; text-decoration-color: #800000\">compute values like flux, Poynting and dot product with other data.</span>\n",
       "</pre>\n"
      ],
      "text/plain": [
       "\u001b[2;36m            \u001b[0m\u001b[2;36m \u001b[0m\u001b[31mWARNING: Monitor data requires \u001b[0m\u001b[32m'grid_expanded'\u001b[0m\u001b[31m to be defined to    \u001b[0m\n",
       "\u001b[2;36m             \u001b[0m\u001b[31mcompute values like flux, Poynting and dot product with other data.\u001b[0m\n"
      ]
     },
     "metadata": {},
     "output_type": "display_data"
    },
    {
     "data": {
      "text/html": [
       "<pre style=\"white-space:pre;overflow-x:auto;line-height:normal;font-family:Menlo,'DejaVu Sans Mono',consolas,'Courier New',monospace\"><span style=\"color: #7fbfbf; text-decoration-color: #7fbfbf\">             </span><span style=\"color: #800000; text-decoration-color: #800000\">WARNING: Monitor data requires </span><span style=\"color: #008000; text-decoration-color: #008000\">'grid_expanded'</span><span style=\"color: #800000; text-decoration-color: #800000\"> to be defined to    </span>\n",
       "<span style=\"color: #7fbfbf; text-decoration-color: #7fbfbf\">             </span><span style=\"color: #800000; text-decoration-color: #800000\">compute values like flux, Poynting and dot product with other data.</span>\n",
       "</pre>\n"
      ],
      "text/plain": [
       "\u001b[2;36m            \u001b[0m\u001b[2;36m \u001b[0m\u001b[31mWARNING: Monitor data requires \u001b[0m\u001b[32m'grid_expanded'\u001b[0m\u001b[31m to be defined to    \u001b[0m\n",
       "\u001b[2;36m             \u001b[0m\u001b[31mcompute values like flux, Poynting and dot product with other data.\u001b[0m\n"
      ]
     },
     "metadata": {},
     "output_type": "display_data"
    },
    {
     "data": {
      "text/html": [
       "<pre style=\"white-space:pre;overflow-x:auto;line-height:normal;font-family:Menlo,'DejaVu Sans Mono',consolas,'Courier New',monospace\"><span style=\"color: #7fbfbf; text-decoration-color: #7fbfbf\">19:36:30 PST </span><span style=\"color: #800000; text-decoration-color: #800000\">WARNING: Monitor data requires </span><span style=\"color: #008000; text-decoration-color: #008000\">'grid_expanded'</span><span style=\"color: #800000; text-decoration-color: #800000\"> to be defined to    </span>\n",
       "<span style=\"color: #7fbfbf; text-decoration-color: #7fbfbf\">             </span><span style=\"color: #800000; text-decoration-color: #800000\">compute values like flux, Poynting and dot product with other data.</span>\n",
       "</pre>\n"
      ],
      "text/plain": [
       "\u001b[2;36m19:36:30 PST\u001b[0m\u001b[2;36m \u001b[0m\u001b[31mWARNING: Monitor data requires \u001b[0m\u001b[32m'grid_expanded'\u001b[0m\u001b[31m to be defined to    \u001b[0m\n",
       "\u001b[2;36m             \u001b[0m\u001b[31mcompute values like flux, Poynting and dot product with other data.\u001b[0m\n"
      ]
     },
     "metadata": {},
     "output_type": "display_data"
    },
    {
     "data": {
      "text/html": [
       "<pre style=\"white-space:pre;overflow-x:auto;line-height:normal;font-family:Menlo,'DejaVu Sans Mono',consolas,'Courier New',monospace\"><span style=\"color: #7fbfbf; text-decoration-color: #7fbfbf\">19:36:32 PST </span><span style=\"color: #800000; text-decoration-color: #800000\">WARNING: Monitor data requires </span><span style=\"color: #008000; text-decoration-color: #008000\">'grid_expanded'</span><span style=\"color: #800000; text-decoration-color: #800000\"> to be defined to    </span>\n",
       "<span style=\"color: #7fbfbf; text-decoration-color: #7fbfbf\">             </span><span style=\"color: #800000; text-decoration-color: #800000\">compute values like flux, Poynting and dot product with other data.</span>\n",
       "</pre>\n"
      ],
      "text/plain": [
       "\u001b[2;36m19:36:32 PST\u001b[0m\u001b[2;36m \u001b[0m\u001b[31mWARNING: Monitor data requires \u001b[0m\u001b[32m'grid_expanded'\u001b[0m\u001b[31m to be defined to    \u001b[0m\n",
       "\u001b[2;36m             \u001b[0m\u001b[31mcompute values like flux, Poynting and dot product with other data.\u001b[0m\n"
      ]
     },
     "metadata": {},
     "output_type": "display_data"
    },
    {
     "name": "stdout",
     "output_type": "stream",
     "text": [
      "step = 8\n",
      "\tbeta = 8.0000e+00\n",
      "\tJ = 4.7465e-01\n",
      "\tgrad_norm = 1.4727e-02\n"
     ]
    },
    {
     "data": {
      "text/html": [
       "<pre style=\"white-space:pre;overflow-x:auto;line-height:normal;font-family:Menlo,'DejaVu Sans Mono',consolas,'Courier New',monospace\"><span style=\"color: #7fbfbf; text-decoration-color: #7fbfbf\">19:37:22 PST </span><span style=\"color: #800000; text-decoration-color: #800000\">WARNING: Monitor data requires </span><span style=\"color: #008000; text-decoration-color: #008000\">'grid_expanded'</span><span style=\"color: #800000; text-decoration-color: #800000\"> to be defined to    </span>\n",
       "<span style=\"color: #7fbfbf; text-decoration-color: #7fbfbf\">             </span><span style=\"color: #800000; text-decoration-color: #800000\">compute values like flux, Poynting and dot product with other data.</span>\n",
       "</pre>\n"
      ],
      "text/plain": [
       "\u001b[2;36m19:37:22 PST\u001b[0m\u001b[2;36m \u001b[0m\u001b[31mWARNING: Monitor data requires \u001b[0m\u001b[32m'grid_expanded'\u001b[0m\u001b[31m to be defined to    \u001b[0m\n",
       "\u001b[2;36m             \u001b[0m\u001b[31mcompute values like flux, Poynting and dot product with other data.\u001b[0m\n"
      ]
     },
     "metadata": {},
     "output_type": "display_data"
    },
    {
     "data": {
      "text/html": [
       "<pre style=\"white-space:pre;overflow-x:auto;line-height:normal;font-family:Menlo,'DejaVu Sans Mono',consolas,'Courier New',monospace\"><span style=\"color: #7fbfbf; text-decoration-color: #7fbfbf\">             </span><span style=\"color: #800000; text-decoration-color: #800000\">WARNING: Monitor data requires </span><span style=\"color: #008000; text-decoration-color: #008000\">'grid_expanded'</span><span style=\"color: #800000; text-decoration-color: #800000\"> to be defined to    </span>\n",
       "<span style=\"color: #7fbfbf; text-decoration-color: #7fbfbf\">             </span><span style=\"color: #800000; text-decoration-color: #800000\">compute values like flux, Poynting and dot product with other data.</span>\n",
       "</pre>\n"
      ],
      "text/plain": [
       "\u001b[2;36m            \u001b[0m\u001b[2;36m \u001b[0m\u001b[31mWARNING: Monitor data requires \u001b[0m\u001b[32m'grid_expanded'\u001b[0m\u001b[31m to be defined to    \u001b[0m\n",
       "\u001b[2;36m             \u001b[0m\u001b[31mcompute values like flux, Poynting and dot product with other data.\u001b[0m\n"
      ]
     },
     "metadata": {},
     "output_type": "display_data"
    },
    {
     "data": {
      "text/html": [
       "<pre style=\"white-space:pre;overflow-x:auto;line-height:normal;font-family:Menlo,'DejaVu Sans Mono',consolas,'Courier New',monospace\"><span style=\"color: #7fbfbf; text-decoration-color: #7fbfbf\">             </span><span style=\"color: #800000; text-decoration-color: #800000\">WARNING: Monitor data requires </span><span style=\"color: #008000; text-decoration-color: #008000\">'grid_expanded'</span><span style=\"color: #800000; text-decoration-color: #800000\"> to be defined to    </span>\n",
       "<span style=\"color: #7fbfbf; text-decoration-color: #7fbfbf\">             </span><span style=\"color: #800000; text-decoration-color: #800000\">compute values like flux, Poynting and dot product with other data.</span>\n",
       "</pre>\n"
      ],
      "text/plain": [
       "\u001b[2;36m            \u001b[0m\u001b[2;36m \u001b[0m\u001b[31mWARNING: Monitor data requires \u001b[0m\u001b[32m'grid_expanded'\u001b[0m\u001b[31m to be defined to    \u001b[0m\n",
       "\u001b[2;36m             \u001b[0m\u001b[31mcompute values like flux, Poynting and dot product with other data.\u001b[0m\n"
      ]
     },
     "metadata": {},
     "output_type": "display_data"
    },
    {
     "data": {
      "text/html": [
       "<pre style=\"white-space:pre;overflow-x:auto;line-height:normal;font-family:Menlo,'DejaVu Sans Mono',consolas,'Courier New',monospace\"><span style=\"color: #7fbfbf; text-decoration-color: #7fbfbf\">19:37:23 PST </span><span style=\"color: #800000; text-decoration-color: #800000\">WARNING: Monitor data requires </span><span style=\"color: #008000; text-decoration-color: #008000\">'grid_expanded'</span><span style=\"color: #800000; text-decoration-color: #800000\"> to be defined to    </span>\n",
       "<span style=\"color: #7fbfbf; text-decoration-color: #7fbfbf\">             </span><span style=\"color: #800000; text-decoration-color: #800000\">compute values like flux, Poynting and dot product with other data.</span>\n",
       "</pre>\n"
      ],
      "text/plain": [
       "\u001b[2;36m19:37:23 PST\u001b[0m\u001b[2;36m \u001b[0m\u001b[31mWARNING: Monitor data requires \u001b[0m\u001b[32m'grid_expanded'\u001b[0m\u001b[31m to be defined to    \u001b[0m\n",
       "\u001b[2;36m             \u001b[0m\u001b[31mcompute values like flux, Poynting and dot product with other data.\u001b[0m\n"
      ]
     },
     "metadata": {},
     "output_type": "display_data"
    },
    {
     "data": {
      "text/html": [
       "<pre style=\"white-space:pre;overflow-x:auto;line-height:normal;font-family:Menlo,'DejaVu Sans Mono',consolas,'Courier New',monospace\"><span style=\"color: #7fbfbf; text-decoration-color: #7fbfbf\">19:37:25 PST </span><span style=\"color: #800000; text-decoration-color: #800000\">WARNING: Monitor data requires </span><span style=\"color: #008000; text-decoration-color: #008000\">'grid_expanded'</span><span style=\"color: #800000; text-decoration-color: #800000\"> to be defined to    </span>\n",
       "<span style=\"color: #7fbfbf; text-decoration-color: #7fbfbf\">             </span><span style=\"color: #800000; text-decoration-color: #800000\">compute values like flux, Poynting and dot product with other data.</span>\n",
       "</pre>\n"
      ],
      "text/plain": [
       "\u001b[2;36m19:37:25 PST\u001b[0m\u001b[2;36m \u001b[0m\u001b[31mWARNING: Monitor data requires \u001b[0m\u001b[32m'grid_expanded'\u001b[0m\u001b[31m to be defined to    \u001b[0m\n",
       "\u001b[2;36m             \u001b[0m\u001b[31mcompute values like flux, Poynting and dot product with other data.\u001b[0m\n"
      ]
     },
     "metadata": {},
     "output_type": "display_data"
    },
    {
     "name": "stdout",
     "output_type": "stream",
     "text": [
      "step = 9\n",
      "\tbeta = 9.0000e+00\n",
      "\tJ = 6.4063e-01\n",
      "\tgrad_norm = 1.1331e-02\n"
     ]
    },
    {
     "data": {
      "text/html": [
       "<pre style=\"white-space:pre;overflow-x:auto;line-height:normal;font-family:Menlo,'DejaVu Sans Mono',consolas,'Courier New',monospace\"><span style=\"color: #7fbfbf; text-decoration-color: #7fbfbf\">19:38:24 PST </span><span style=\"color: #800000; text-decoration-color: #800000\">WARNING: Monitor data requires </span><span style=\"color: #008000; text-decoration-color: #008000\">'grid_expanded'</span><span style=\"color: #800000; text-decoration-color: #800000\"> to be defined to    </span>\n",
       "<span style=\"color: #7fbfbf; text-decoration-color: #7fbfbf\">             </span><span style=\"color: #800000; text-decoration-color: #800000\">compute values like flux, Poynting and dot product with other data.</span>\n",
       "</pre>\n"
      ],
      "text/plain": [
       "\u001b[2;36m19:38:24 PST\u001b[0m\u001b[2;36m \u001b[0m\u001b[31mWARNING: Monitor data requires \u001b[0m\u001b[32m'grid_expanded'\u001b[0m\u001b[31m to be defined to    \u001b[0m\n",
       "\u001b[2;36m             \u001b[0m\u001b[31mcompute values like flux, Poynting and dot product with other data.\u001b[0m\n"
      ]
     },
     "metadata": {},
     "output_type": "display_data"
    },
    {
     "data": {
      "text/html": [
       "<pre style=\"white-space:pre;overflow-x:auto;line-height:normal;font-family:Menlo,'DejaVu Sans Mono',consolas,'Courier New',monospace\"><span style=\"color: #7fbfbf; text-decoration-color: #7fbfbf\">             </span><span style=\"color: #800000; text-decoration-color: #800000\">WARNING: Monitor data requires </span><span style=\"color: #008000; text-decoration-color: #008000\">'grid_expanded'</span><span style=\"color: #800000; text-decoration-color: #800000\"> to be defined to    </span>\n",
       "<span style=\"color: #7fbfbf; text-decoration-color: #7fbfbf\">             </span><span style=\"color: #800000; text-decoration-color: #800000\">compute values like flux, Poynting and dot product with other data.</span>\n",
       "</pre>\n"
      ],
      "text/plain": [
       "\u001b[2;36m            \u001b[0m\u001b[2;36m \u001b[0m\u001b[31mWARNING: Monitor data requires \u001b[0m\u001b[32m'grid_expanded'\u001b[0m\u001b[31m to be defined to    \u001b[0m\n",
       "\u001b[2;36m             \u001b[0m\u001b[31mcompute values like flux, Poynting and dot product with other data.\u001b[0m\n"
      ]
     },
     "metadata": {},
     "output_type": "display_data"
    },
    {
     "data": {
      "text/html": [
       "<pre style=\"white-space:pre;overflow-x:auto;line-height:normal;font-family:Menlo,'DejaVu Sans Mono',consolas,'Courier New',monospace\"><span style=\"color: #7fbfbf; text-decoration-color: #7fbfbf\">19:38:25 PST </span><span style=\"color: #800000; text-decoration-color: #800000\">WARNING: Monitor data requires </span><span style=\"color: #008000; text-decoration-color: #008000\">'grid_expanded'</span><span style=\"color: #800000; text-decoration-color: #800000\"> to be defined to    </span>\n",
       "<span style=\"color: #7fbfbf; text-decoration-color: #7fbfbf\">             </span><span style=\"color: #800000; text-decoration-color: #800000\">compute values like flux, Poynting and dot product with other data.</span>\n",
       "</pre>\n"
      ],
      "text/plain": [
       "\u001b[2;36m19:38:25 PST\u001b[0m\u001b[2;36m \u001b[0m\u001b[31mWARNING: Monitor data requires \u001b[0m\u001b[32m'grid_expanded'\u001b[0m\u001b[31m to be defined to    \u001b[0m\n",
       "\u001b[2;36m             \u001b[0m\u001b[31mcompute values like flux, Poynting and dot product with other data.\u001b[0m\n"
      ]
     },
     "metadata": {},
     "output_type": "display_data"
    },
    {
     "data": {
      "text/html": [
       "<pre style=\"white-space:pre;overflow-x:auto;line-height:normal;font-family:Menlo,'DejaVu Sans Mono',consolas,'Courier New',monospace\"><span style=\"color: #7fbfbf; text-decoration-color: #7fbfbf\">             </span><span style=\"color: #800000; text-decoration-color: #800000\">WARNING: Monitor data requires </span><span style=\"color: #008000; text-decoration-color: #008000\">'grid_expanded'</span><span style=\"color: #800000; text-decoration-color: #800000\"> to be defined to    </span>\n",
       "<span style=\"color: #7fbfbf; text-decoration-color: #7fbfbf\">             </span><span style=\"color: #800000; text-decoration-color: #800000\">compute values like flux, Poynting and dot product with other data.</span>\n",
       "</pre>\n"
      ],
      "text/plain": [
       "\u001b[2;36m            \u001b[0m\u001b[2;36m \u001b[0m\u001b[31mWARNING: Monitor data requires \u001b[0m\u001b[32m'grid_expanded'\u001b[0m\u001b[31m to be defined to    \u001b[0m\n",
       "\u001b[2;36m             \u001b[0m\u001b[31mcompute values like flux, Poynting and dot product with other data.\u001b[0m\n"
      ]
     },
     "metadata": {},
     "output_type": "display_data"
    },
    {
     "data": {
      "text/html": [
       "<pre style=\"white-space:pre;overflow-x:auto;line-height:normal;font-family:Menlo,'DejaVu Sans Mono',consolas,'Courier New',monospace\"><span style=\"color: #7fbfbf; text-decoration-color: #7fbfbf\">19:38:28 PST </span><span style=\"color: #800000; text-decoration-color: #800000\">WARNING: Monitor data requires </span><span style=\"color: #008000; text-decoration-color: #008000\">'grid_expanded'</span><span style=\"color: #800000; text-decoration-color: #800000\"> to be defined to    </span>\n",
       "<span style=\"color: #7fbfbf; text-decoration-color: #7fbfbf\">             </span><span style=\"color: #800000; text-decoration-color: #800000\">compute values like flux, Poynting and dot product with other data.</span>\n",
       "</pre>\n"
      ],
      "text/plain": [
       "\u001b[2;36m19:38:28 PST\u001b[0m\u001b[2;36m \u001b[0m\u001b[31mWARNING: Monitor data requires \u001b[0m\u001b[32m'grid_expanded'\u001b[0m\u001b[31m to be defined to    \u001b[0m\n",
       "\u001b[2;36m             \u001b[0m\u001b[31mcompute values like flux, Poynting and dot product with other data.\u001b[0m\n"
      ]
     },
     "metadata": {},
     "output_type": "display_data"
    },
    {
     "name": "stdout",
     "output_type": "stream",
     "text": [
      "step = 10\n",
      "\tbeta = 1.0000e+01\n",
      "\tJ = 7.2823e-01\n",
      "\tgrad_norm = 1.0882e-02\n"
     ]
    },
    {
     "data": {
      "text/html": [
       "<pre style=\"white-space:pre;overflow-x:auto;line-height:normal;font-family:Menlo,'DejaVu Sans Mono',consolas,'Courier New',monospace\"><span style=\"color: #7fbfbf; text-decoration-color: #7fbfbf\">19:39:27 PST </span><span style=\"color: #800000; text-decoration-color: #800000\">WARNING: Monitor data requires </span><span style=\"color: #008000; text-decoration-color: #008000\">'grid_expanded'</span><span style=\"color: #800000; text-decoration-color: #800000\"> to be defined to    </span>\n",
       "<span style=\"color: #7fbfbf; text-decoration-color: #7fbfbf\">             </span><span style=\"color: #800000; text-decoration-color: #800000\">compute values like flux, Poynting and dot product with other data.</span>\n",
       "</pre>\n"
      ],
      "text/plain": [
       "\u001b[2;36m19:39:27 PST\u001b[0m\u001b[2;36m \u001b[0m\u001b[31mWARNING: Monitor data requires \u001b[0m\u001b[32m'grid_expanded'\u001b[0m\u001b[31m to be defined to    \u001b[0m\n",
       "\u001b[2;36m             \u001b[0m\u001b[31mcompute values like flux, Poynting and dot product with other data.\u001b[0m\n"
      ]
     },
     "metadata": {},
     "output_type": "display_data"
    },
    {
     "data": {
      "text/html": [
       "<pre style=\"white-space:pre;overflow-x:auto;line-height:normal;font-family:Menlo,'DejaVu Sans Mono',consolas,'Courier New',monospace\"><span style=\"color: #7fbfbf; text-decoration-color: #7fbfbf\">             </span><span style=\"color: #800000; text-decoration-color: #800000\">WARNING: Monitor data requires </span><span style=\"color: #008000; text-decoration-color: #008000\">'grid_expanded'</span><span style=\"color: #800000; text-decoration-color: #800000\"> to be defined to    </span>\n",
       "<span style=\"color: #7fbfbf; text-decoration-color: #7fbfbf\">             </span><span style=\"color: #800000; text-decoration-color: #800000\">compute values like flux, Poynting and dot product with other data.</span>\n",
       "</pre>\n"
      ],
      "text/plain": [
       "\u001b[2;36m            \u001b[0m\u001b[2;36m \u001b[0m\u001b[31mWARNING: Monitor data requires \u001b[0m\u001b[32m'grid_expanded'\u001b[0m\u001b[31m to be defined to    \u001b[0m\n",
       "\u001b[2;36m             \u001b[0m\u001b[31mcompute values like flux, Poynting and dot product with other data.\u001b[0m\n"
      ]
     },
     "metadata": {},
     "output_type": "display_data"
    },
    {
     "data": {
      "text/html": [
       "<pre style=\"white-space:pre;overflow-x:auto;line-height:normal;font-family:Menlo,'DejaVu Sans Mono',consolas,'Courier New',monospace\"><span style=\"color: #7fbfbf; text-decoration-color: #7fbfbf\">19:39:28 PST </span><span style=\"color: #800000; text-decoration-color: #800000\">WARNING: Monitor data requires </span><span style=\"color: #008000; text-decoration-color: #008000\">'grid_expanded'</span><span style=\"color: #800000; text-decoration-color: #800000\"> to be defined to    </span>\n",
       "<span style=\"color: #7fbfbf; text-decoration-color: #7fbfbf\">             </span><span style=\"color: #800000; text-decoration-color: #800000\">compute values like flux, Poynting and dot product with other data.</span>\n",
       "</pre>\n"
      ],
      "text/plain": [
       "\u001b[2;36m19:39:28 PST\u001b[0m\u001b[2;36m \u001b[0m\u001b[31mWARNING: Monitor data requires \u001b[0m\u001b[32m'grid_expanded'\u001b[0m\u001b[31m to be defined to    \u001b[0m\n",
       "\u001b[2;36m             \u001b[0m\u001b[31mcompute values like flux, Poynting and dot product with other data.\u001b[0m\n"
      ]
     },
     "metadata": {},
     "output_type": "display_data"
    },
    {
     "data": {
      "text/html": [
       "<pre style=\"white-space:pre;overflow-x:auto;line-height:normal;font-family:Menlo,'DejaVu Sans Mono',consolas,'Courier New',monospace\"><span style=\"color: #7fbfbf; text-decoration-color: #7fbfbf\">             </span><span style=\"color: #800000; text-decoration-color: #800000\">WARNING: Monitor data requires </span><span style=\"color: #008000; text-decoration-color: #008000\">'grid_expanded'</span><span style=\"color: #800000; text-decoration-color: #800000\"> to be defined to    </span>\n",
       "<span style=\"color: #7fbfbf; text-decoration-color: #7fbfbf\">             </span><span style=\"color: #800000; text-decoration-color: #800000\">compute values like flux, Poynting and dot product with other data.</span>\n",
       "</pre>\n"
      ],
      "text/plain": [
       "\u001b[2;36m            \u001b[0m\u001b[2;36m \u001b[0m\u001b[31mWARNING: Monitor data requires \u001b[0m\u001b[32m'grid_expanded'\u001b[0m\u001b[31m to be defined to    \u001b[0m\n",
       "\u001b[2;36m             \u001b[0m\u001b[31mcompute values like flux, Poynting and dot product with other data.\u001b[0m\n"
      ]
     },
     "metadata": {},
     "output_type": "display_data"
    },
    {
     "data": {
      "text/html": [
       "<pre style=\"white-space:pre;overflow-x:auto;line-height:normal;font-family:Menlo,'DejaVu Sans Mono',consolas,'Courier New',monospace\"><span style=\"color: #7fbfbf; text-decoration-color: #7fbfbf\">19:39:31 PST </span><span style=\"color: #800000; text-decoration-color: #800000\">WARNING: Monitor data requires </span><span style=\"color: #008000; text-decoration-color: #008000\">'grid_expanded'</span><span style=\"color: #800000; text-decoration-color: #800000\"> to be defined to    </span>\n",
       "<span style=\"color: #7fbfbf; text-decoration-color: #7fbfbf\">             </span><span style=\"color: #800000; text-decoration-color: #800000\">compute values like flux, Poynting and dot product with other data.</span>\n",
       "</pre>\n"
      ],
      "text/plain": [
       "\u001b[2;36m19:39:31 PST\u001b[0m\u001b[2;36m \u001b[0m\u001b[31mWARNING: Monitor data requires \u001b[0m\u001b[32m'grid_expanded'\u001b[0m\u001b[31m to be defined to    \u001b[0m\n",
       "\u001b[2;36m             \u001b[0m\u001b[31mcompute values like flux, Poynting and dot product with other data.\u001b[0m\n"
      ]
     },
     "metadata": {},
     "output_type": "display_data"
    },
    {
     "name": "stdout",
     "output_type": "stream",
     "text": [
      "step = 11\n",
      "\tbeta = 1.1000e+01\n",
      "\tJ = 7.6352e-01\n",
      "\tgrad_norm = 1.3364e-02\n"
     ]
    },
    {
     "data": {
      "text/html": [
       "<pre style=\"white-space:pre;overflow-x:auto;line-height:normal;font-family:Menlo,'DejaVu Sans Mono',consolas,'Courier New',monospace\"><span style=\"color: #7fbfbf; text-decoration-color: #7fbfbf\">19:41:28 PST </span><span style=\"color: #800000; text-decoration-color: #800000\">WARNING: Monitor data requires </span><span style=\"color: #008000; text-decoration-color: #008000\">'grid_expanded'</span><span style=\"color: #800000; text-decoration-color: #800000\"> to be defined to    </span>\n",
       "<span style=\"color: #7fbfbf; text-decoration-color: #7fbfbf\">             </span><span style=\"color: #800000; text-decoration-color: #800000\">compute values like flux, Poynting and dot product with other data.</span>\n",
       "</pre>\n"
      ],
      "text/plain": [
       "\u001b[2;36m19:41:28 PST\u001b[0m\u001b[2;36m \u001b[0m\u001b[31mWARNING: Monitor data requires \u001b[0m\u001b[32m'grid_expanded'\u001b[0m\u001b[31m to be defined to    \u001b[0m\n",
       "\u001b[2;36m             \u001b[0m\u001b[31mcompute values like flux, Poynting and dot product with other data.\u001b[0m\n"
      ]
     },
     "metadata": {},
     "output_type": "display_data"
    },
    {
     "data": {
      "text/html": [
       "<pre style=\"white-space:pre;overflow-x:auto;line-height:normal;font-family:Menlo,'DejaVu Sans Mono',consolas,'Courier New',monospace\"><span style=\"color: #7fbfbf; text-decoration-color: #7fbfbf\">             </span><span style=\"color: #800000; text-decoration-color: #800000\">WARNING: Monitor data requires </span><span style=\"color: #008000; text-decoration-color: #008000\">'grid_expanded'</span><span style=\"color: #800000; text-decoration-color: #800000\"> to be defined to    </span>\n",
       "<span style=\"color: #7fbfbf; text-decoration-color: #7fbfbf\">             </span><span style=\"color: #800000; text-decoration-color: #800000\">compute values like flux, Poynting and dot product with other data.</span>\n",
       "</pre>\n"
      ],
      "text/plain": [
       "\u001b[2;36m            \u001b[0m\u001b[2;36m \u001b[0m\u001b[31mWARNING: Monitor data requires \u001b[0m\u001b[32m'grid_expanded'\u001b[0m\u001b[31m to be defined to    \u001b[0m\n",
       "\u001b[2;36m             \u001b[0m\u001b[31mcompute values like flux, Poynting and dot product with other data.\u001b[0m\n"
      ]
     },
     "metadata": {},
     "output_type": "display_data"
    },
    {
     "data": {
      "text/html": [
       "<pre style=\"white-space:pre;overflow-x:auto;line-height:normal;font-family:Menlo,'DejaVu Sans Mono',consolas,'Courier New',monospace\"><span style=\"color: #7fbfbf; text-decoration-color: #7fbfbf\">19:41:29 PST </span><span style=\"color: #800000; text-decoration-color: #800000\">WARNING: Monitor data requires </span><span style=\"color: #008000; text-decoration-color: #008000\">'grid_expanded'</span><span style=\"color: #800000; text-decoration-color: #800000\"> to be defined to    </span>\n",
       "<span style=\"color: #7fbfbf; text-decoration-color: #7fbfbf\">             </span><span style=\"color: #800000; text-decoration-color: #800000\">compute values like flux, Poynting and dot product with other data.</span>\n",
       "</pre>\n"
      ],
      "text/plain": [
       "\u001b[2;36m19:41:29 PST\u001b[0m\u001b[2;36m \u001b[0m\u001b[31mWARNING: Monitor data requires \u001b[0m\u001b[32m'grid_expanded'\u001b[0m\u001b[31m to be defined to    \u001b[0m\n",
       "\u001b[2;36m             \u001b[0m\u001b[31mcompute values like flux, Poynting and dot product with other data.\u001b[0m\n"
      ]
     },
     "metadata": {},
     "output_type": "display_data"
    },
    {
     "data": {
      "text/html": [
       "<pre style=\"white-space:pre;overflow-x:auto;line-height:normal;font-family:Menlo,'DejaVu Sans Mono',consolas,'Courier New',monospace\"><span style=\"color: #7fbfbf; text-decoration-color: #7fbfbf\">             </span><span style=\"color: #800000; text-decoration-color: #800000\">WARNING: Monitor data requires </span><span style=\"color: #008000; text-decoration-color: #008000\">'grid_expanded'</span><span style=\"color: #800000; text-decoration-color: #800000\"> to be defined to    </span>\n",
       "<span style=\"color: #7fbfbf; text-decoration-color: #7fbfbf\">             </span><span style=\"color: #800000; text-decoration-color: #800000\">compute values like flux, Poynting and dot product with other data.</span>\n",
       "</pre>\n"
      ],
      "text/plain": [
       "\u001b[2;36m            \u001b[0m\u001b[2;36m \u001b[0m\u001b[31mWARNING: Monitor data requires \u001b[0m\u001b[32m'grid_expanded'\u001b[0m\u001b[31m to be defined to    \u001b[0m\n",
       "\u001b[2;36m             \u001b[0m\u001b[31mcompute values like flux, Poynting and dot product with other data.\u001b[0m\n"
      ]
     },
     "metadata": {},
     "output_type": "display_data"
    },
    {
     "data": {
      "text/html": [
       "<pre style=\"white-space:pre;overflow-x:auto;line-height:normal;font-family:Menlo,'DejaVu Sans Mono',consolas,'Courier New',monospace\"><span style=\"color: #7fbfbf; text-decoration-color: #7fbfbf\">19:41:32 PST </span><span style=\"color: #800000; text-decoration-color: #800000\">WARNING: Monitor data requires </span><span style=\"color: #008000; text-decoration-color: #008000\">'grid_expanded'</span><span style=\"color: #800000; text-decoration-color: #800000\"> to be defined to    </span>\n",
       "<span style=\"color: #7fbfbf; text-decoration-color: #7fbfbf\">             </span><span style=\"color: #800000; text-decoration-color: #800000\">compute values like flux, Poynting and dot product with other data.</span>\n",
       "</pre>\n"
      ],
      "text/plain": [
       "\u001b[2;36m19:41:32 PST\u001b[0m\u001b[2;36m \u001b[0m\u001b[31mWARNING: Monitor data requires \u001b[0m\u001b[32m'grid_expanded'\u001b[0m\u001b[31m to be defined to    \u001b[0m\n",
       "\u001b[2;36m             \u001b[0m\u001b[31mcompute values like flux, Poynting and dot product with other data.\u001b[0m\n"
      ]
     },
     "metadata": {},
     "output_type": "display_data"
    },
    {
     "name": "stdout",
     "output_type": "stream",
     "text": [
      "step = 12\n",
      "\tbeta = 1.2000e+01\n",
      "\tJ = 7.8879e-01\n",
      "\tgrad_norm = 1.2871e-02\n"
     ]
    },
    {
     "data": {
      "text/html": [
       "<pre style=\"white-space:pre;overflow-x:auto;line-height:normal;font-family:Menlo,'DejaVu Sans Mono',consolas,'Courier New',monospace\"><span style=\"color: #7fbfbf; text-decoration-color: #7fbfbf\">19:42:31 PST </span><span style=\"color: #800000; text-decoration-color: #800000\">WARNING: Monitor data requires </span><span style=\"color: #008000; text-decoration-color: #008000\">'grid_expanded'</span><span style=\"color: #800000; text-decoration-color: #800000\"> to be defined to    </span>\n",
       "<span style=\"color: #7fbfbf; text-decoration-color: #7fbfbf\">             </span><span style=\"color: #800000; text-decoration-color: #800000\">compute values like flux, Poynting and dot product with other data.</span>\n",
       "</pre>\n"
      ],
      "text/plain": [
       "\u001b[2;36m19:42:31 PST\u001b[0m\u001b[2;36m \u001b[0m\u001b[31mWARNING: Monitor data requires \u001b[0m\u001b[32m'grid_expanded'\u001b[0m\u001b[31m to be defined to    \u001b[0m\n",
       "\u001b[2;36m             \u001b[0m\u001b[31mcompute values like flux, Poynting and dot product with other data.\u001b[0m\n"
      ]
     },
     "metadata": {},
     "output_type": "display_data"
    },
    {
     "data": {
      "text/html": [
       "<pre style=\"white-space:pre;overflow-x:auto;line-height:normal;font-family:Menlo,'DejaVu Sans Mono',consolas,'Courier New',monospace\"><span style=\"color: #7fbfbf; text-decoration-color: #7fbfbf\">             </span><span style=\"color: #800000; text-decoration-color: #800000\">WARNING: Monitor data requires </span><span style=\"color: #008000; text-decoration-color: #008000\">'grid_expanded'</span><span style=\"color: #800000; text-decoration-color: #800000\"> to be defined to    </span>\n",
       "<span style=\"color: #7fbfbf; text-decoration-color: #7fbfbf\">             </span><span style=\"color: #800000; text-decoration-color: #800000\">compute values like flux, Poynting and dot product with other data.</span>\n",
       "</pre>\n"
      ],
      "text/plain": [
       "\u001b[2;36m            \u001b[0m\u001b[2;36m \u001b[0m\u001b[31mWARNING: Monitor data requires \u001b[0m\u001b[32m'grid_expanded'\u001b[0m\u001b[31m to be defined to    \u001b[0m\n",
       "\u001b[2;36m             \u001b[0m\u001b[31mcompute values like flux, Poynting and dot product with other data.\u001b[0m\n"
      ]
     },
     "metadata": {},
     "output_type": "display_data"
    },
    {
     "data": {
      "text/html": [
       "<pre style=\"white-space:pre;overflow-x:auto;line-height:normal;font-family:Menlo,'DejaVu Sans Mono',consolas,'Courier New',monospace\"><span style=\"color: #7fbfbf; text-decoration-color: #7fbfbf\">             </span><span style=\"color: #800000; text-decoration-color: #800000\">WARNING: Monitor data requires </span><span style=\"color: #008000; text-decoration-color: #008000\">'grid_expanded'</span><span style=\"color: #800000; text-decoration-color: #800000\"> to be defined to    </span>\n",
       "<span style=\"color: #7fbfbf; text-decoration-color: #7fbfbf\">             </span><span style=\"color: #800000; text-decoration-color: #800000\">compute values like flux, Poynting and dot product with other data.</span>\n",
       "</pre>\n"
      ],
      "text/plain": [
       "\u001b[2;36m            \u001b[0m\u001b[2;36m \u001b[0m\u001b[31mWARNING: Monitor data requires \u001b[0m\u001b[32m'grid_expanded'\u001b[0m\u001b[31m to be defined to    \u001b[0m\n",
       "\u001b[2;36m             \u001b[0m\u001b[31mcompute values like flux, Poynting and dot product with other data.\u001b[0m\n"
      ]
     },
     "metadata": {},
     "output_type": "display_data"
    },
    {
     "data": {
      "text/html": [
       "<pre style=\"white-space:pre;overflow-x:auto;line-height:normal;font-family:Menlo,'DejaVu Sans Mono',consolas,'Courier New',monospace\"><span style=\"color: #7fbfbf; text-decoration-color: #7fbfbf\">19:42:32 PST </span><span style=\"color: #800000; text-decoration-color: #800000\">WARNING: Monitor data requires </span><span style=\"color: #008000; text-decoration-color: #008000\">'grid_expanded'</span><span style=\"color: #800000; text-decoration-color: #800000\"> to be defined to    </span>\n",
       "<span style=\"color: #7fbfbf; text-decoration-color: #7fbfbf\">             </span><span style=\"color: #800000; text-decoration-color: #800000\">compute values like flux, Poynting and dot product with other data.</span>\n",
       "</pre>\n"
      ],
      "text/plain": [
       "\u001b[2;36m19:42:32 PST\u001b[0m\u001b[2;36m \u001b[0m\u001b[31mWARNING: Monitor data requires \u001b[0m\u001b[32m'grid_expanded'\u001b[0m\u001b[31m to be defined to    \u001b[0m\n",
       "\u001b[2;36m             \u001b[0m\u001b[31mcompute values like flux, Poynting and dot product with other data.\u001b[0m\n"
      ]
     },
     "metadata": {},
     "output_type": "display_data"
    },
    {
     "data": {
      "text/html": [
       "<pre style=\"white-space:pre;overflow-x:auto;line-height:normal;font-family:Menlo,'DejaVu Sans Mono',consolas,'Courier New',monospace\"><span style=\"color: #7fbfbf; text-decoration-color: #7fbfbf\">19:42:35 PST </span><span style=\"color: #800000; text-decoration-color: #800000\">WARNING: Monitor data requires </span><span style=\"color: #008000; text-decoration-color: #008000\">'grid_expanded'</span><span style=\"color: #800000; text-decoration-color: #800000\"> to be defined to    </span>\n",
       "<span style=\"color: #7fbfbf; text-decoration-color: #7fbfbf\">             </span><span style=\"color: #800000; text-decoration-color: #800000\">compute values like flux, Poynting and dot product with other data.</span>\n",
       "</pre>\n"
      ],
      "text/plain": [
       "\u001b[2;36m19:42:35 PST\u001b[0m\u001b[2;36m \u001b[0m\u001b[31mWARNING: Monitor data requires \u001b[0m\u001b[32m'grid_expanded'\u001b[0m\u001b[31m to be defined to    \u001b[0m\n",
       "\u001b[2;36m             \u001b[0m\u001b[31mcompute values like flux, Poynting and dot product with other data.\u001b[0m\n"
      ]
     },
     "metadata": {},
     "output_type": "display_data"
    },
    {
     "name": "stdout",
     "output_type": "stream",
     "text": [
      "step = 13\n",
      "\tbeta = 1.3000e+01\n",
      "\tJ = 8.3579e-01\n",
      "\tgrad_norm = 6.2434e-03\n"
     ]
    },
    {
     "data": {
      "text/html": [
       "<pre style=\"white-space:pre;overflow-x:auto;line-height:normal;font-family:Menlo,'DejaVu Sans Mono',consolas,'Courier New',monospace\"><span style=\"color: #7fbfbf; text-decoration-color: #7fbfbf\">19:43:21 PST </span><span style=\"color: #800000; text-decoration-color: #800000\">WARNING: Monitor data requires </span><span style=\"color: #008000; text-decoration-color: #008000\">'grid_expanded'</span><span style=\"color: #800000; text-decoration-color: #800000\"> to be defined to    </span>\n",
       "<span style=\"color: #7fbfbf; text-decoration-color: #7fbfbf\">             </span><span style=\"color: #800000; text-decoration-color: #800000\">compute values like flux, Poynting and dot product with other data.</span>\n",
       "</pre>\n"
      ],
      "text/plain": [
       "\u001b[2;36m19:43:21 PST\u001b[0m\u001b[2;36m \u001b[0m\u001b[31mWARNING: Monitor data requires \u001b[0m\u001b[32m'grid_expanded'\u001b[0m\u001b[31m to be defined to    \u001b[0m\n",
       "\u001b[2;36m             \u001b[0m\u001b[31mcompute values like flux, Poynting and dot product with other data.\u001b[0m\n"
      ]
     },
     "metadata": {},
     "output_type": "display_data"
    },
    {
     "data": {
      "text/html": [
       "<pre style=\"white-space:pre;overflow-x:auto;line-height:normal;font-family:Menlo,'DejaVu Sans Mono',consolas,'Courier New',monospace\"><span style=\"color: #7fbfbf; text-decoration-color: #7fbfbf\">             </span><span style=\"color: #800000; text-decoration-color: #800000\">WARNING: Monitor data requires </span><span style=\"color: #008000; text-decoration-color: #008000\">'grid_expanded'</span><span style=\"color: #800000; text-decoration-color: #800000\"> to be defined to    </span>\n",
       "<span style=\"color: #7fbfbf; text-decoration-color: #7fbfbf\">             </span><span style=\"color: #800000; text-decoration-color: #800000\">compute values like flux, Poynting and dot product with other data.</span>\n",
       "</pre>\n"
      ],
      "text/plain": [
       "\u001b[2;36m            \u001b[0m\u001b[2;36m \u001b[0m\u001b[31mWARNING: Monitor data requires \u001b[0m\u001b[32m'grid_expanded'\u001b[0m\u001b[31m to be defined to    \u001b[0m\n",
       "\u001b[2;36m             \u001b[0m\u001b[31mcompute values like flux, Poynting and dot product with other data.\u001b[0m\n"
      ]
     },
     "metadata": {},
     "output_type": "display_data"
    },
    {
     "data": {
      "text/html": [
       "<pre style=\"white-space:pre;overflow-x:auto;line-height:normal;font-family:Menlo,'DejaVu Sans Mono',consolas,'Courier New',monospace\"><span style=\"color: #7fbfbf; text-decoration-color: #7fbfbf\">19:43:22 PST </span><span style=\"color: #800000; text-decoration-color: #800000\">WARNING: Monitor data requires </span><span style=\"color: #008000; text-decoration-color: #008000\">'grid_expanded'</span><span style=\"color: #800000; text-decoration-color: #800000\"> to be defined to    </span>\n",
       "<span style=\"color: #7fbfbf; text-decoration-color: #7fbfbf\">             </span><span style=\"color: #800000; text-decoration-color: #800000\">compute values like flux, Poynting and dot product with other data.</span>\n",
       "</pre>\n"
      ],
      "text/plain": [
       "\u001b[2;36m19:43:22 PST\u001b[0m\u001b[2;36m \u001b[0m\u001b[31mWARNING: Monitor data requires \u001b[0m\u001b[32m'grid_expanded'\u001b[0m\u001b[31m to be defined to    \u001b[0m\n",
       "\u001b[2;36m             \u001b[0m\u001b[31mcompute values like flux, Poynting and dot product with other data.\u001b[0m\n"
      ]
     },
     "metadata": {},
     "output_type": "display_data"
    },
    {
     "data": {
      "text/html": [
       "<pre style=\"white-space:pre;overflow-x:auto;line-height:normal;font-family:Menlo,'DejaVu Sans Mono',consolas,'Courier New',monospace\"><span style=\"color: #7fbfbf; text-decoration-color: #7fbfbf\">             </span><span style=\"color: #800000; text-decoration-color: #800000\">WARNING: Monitor data requires </span><span style=\"color: #008000; text-decoration-color: #008000\">'grid_expanded'</span><span style=\"color: #800000; text-decoration-color: #800000\"> to be defined to    </span>\n",
       "<span style=\"color: #7fbfbf; text-decoration-color: #7fbfbf\">             </span><span style=\"color: #800000; text-decoration-color: #800000\">compute values like flux, Poynting and dot product with other data.</span>\n",
       "</pre>\n"
      ],
      "text/plain": [
       "\u001b[2;36m            \u001b[0m\u001b[2;36m \u001b[0m\u001b[31mWARNING: Monitor data requires \u001b[0m\u001b[32m'grid_expanded'\u001b[0m\u001b[31m to be defined to    \u001b[0m\n",
       "\u001b[2;36m             \u001b[0m\u001b[31mcompute values like flux, Poynting and dot product with other data.\u001b[0m\n"
      ]
     },
     "metadata": {},
     "output_type": "display_data"
    },
    {
     "data": {
      "text/html": [
       "<pre style=\"white-space:pre;overflow-x:auto;line-height:normal;font-family:Menlo,'DejaVu Sans Mono',consolas,'Courier New',monospace\"><span style=\"color: #7fbfbf; text-decoration-color: #7fbfbf\">19:43:25 PST </span><span style=\"color: #800000; text-decoration-color: #800000\">WARNING: Monitor data requires </span><span style=\"color: #008000; text-decoration-color: #008000\">'grid_expanded'</span><span style=\"color: #800000; text-decoration-color: #800000\"> to be defined to    </span>\n",
       "<span style=\"color: #7fbfbf; text-decoration-color: #7fbfbf\">             </span><span style=\"color: #800000; text-decoration-color: #800000\">compute values like flux, Poynting and dot product with other data.</span>\n",
       "</pre>\n"
      ],
      "text/plain": [
       "\u001b[2;36m19:43:25 PST\u001b[0m\u001b[2;36m \u001b[0m\u001b[31mWARNING: Monitor data requires \u001b[0m\u001b[32m'grid_expanded'\u001b[0m\u001b[31m to be defined to    \u001b[0m\n",
       "\u001b[2;36m             \u001b[0m\u001b[31mcompute values like flux, Poynting and dot product with other data.\u001b[0m\n"
      ]
     },
     "metadata": {},
     "output_type": "display_data"
    },
    {
     "name": "stdout",
     "output_type": "stream",
     "text": [
      "step = 14\n",
      "\tbeta = 1.4000e+01\n",
      "\tJ = 8.4931e-01\n",
      "\tgrad_norm = 7.4476e-03\n"
     ]
    },
    {
     "data": {
      "text/html": [
       "<pre style=\"white-space:pre;overflow-x:auto;line-height:normal;font-family:Menlo,'DejaVu Sans Mono',consolas,'Courier New',monospace\"><span style=\"color: #7fbfbf; text-decoration-color: #7fbfbf\">19:44:19 PST </span><span style=\"color: #800000; text-decoration-color: #800000\">WARNING: Monitor data requires </span><span style=\"color: #008000; text-decoration-color: #008000\">'grid_expanded'</span><span style=\"color: #800000; text-decoration-color: #800000\"> to be defined to    </span>\n",
       "<span style=\"color: #7fbfbf; text-decoration-color: #7fbfbf\">             </span><span style=\"color: #800000; text-decoration-color: #800000\">compute values like flux, Poynting and dot product with other data.</span>\n",
       "</pre>\n"
      ],
      "text/plain": [
       "\u001b[2;36m19:44:19 PST\u001b[0m\u001b[2;36m \u001b[0m\u001b[31mWARNING: Monitor data requires \u001b[0m\u001b[32m'grid_expanded'\u001b[0m\u001b[31m to be defined to    \u001b[0m\n",
       "\u001b[2;36m             \u001b[0m\u001b[31mcompute values like flux, Poynting and dot product with other data.\u001b[0m\n"
      ]
     },
     "metadata": {},
     "output_type": "display_data"
    },
    {
     "data": {
      "text/html": [
       "<pre style=\"white-space:pre;overflow-x:auto;line-height:normal;font-family:Menlo,'DejaVu Sans Mono',consolas,'Courier New',monospace\"><span style=\"color: #7fbfbf; text-decoration-color: #7fbfbf\">             </span><span style=\"color: #800000; text-decoration-color: #800000\">WARNING: Monitor data requires </span><span style=\"color: #008000; text-decoration-color: #008000\">'grid_expanded'</span><span style=\"color: #800000; text-decoration-color: #800000\"> to be defined to    </span>\n",
       "<span style=\"color: #7fbfbf; text-decoration-color: #7fbfbf\">             </span><span style=\"color: #800000; text-decoration-color: #800000\">compute values like flux, Poynting and dot product with other data.</span>\n",
       "</pre>\n"
      ],
      "text/plain": [
       "\u001b[2;36m            \u001b[0m\u001b[2;36m \u001b[0m\u001b[31mWARNING: Monitor data requires \u001b[0m\u001b[32m'grid_expanded'\u001b[0m\u001b[31m to be defined to    \u001b[0m\n",
       "\u001b[2;36m             \u001b[0m\u001b[31mcompute values like flux, Poynting and dot product with other data.\u001b[0m\n"
      ]
     },
     "metadata": {},
     "output_type": "display_data"
    },
    {
     "data": {
      "text/html": [
       "<pre style=\"white-space:pre;overflow-x:auto;line-height:normal;font-family:Menlo,'DejaVu Sans Mono',consolas,'Courier New',monospace\"><span style=\"color: #7fbfbf; text-decoration-color: #7fbfbf\">             </span><span style=\"color: #800000; text-decoration-color: #800000\">WARNING: Monitor data requires </span><span style=\"color: #008000; text-decoration-color: #008000\">'grid_expanded'</span><span style=\"color: #800000; text-decoration-color: #800000\"> to be defined to    </span>\n",
       "<span style=\"color: #7fbfbf; text-decoration-color: #7fbfbf\">             </span><span style=\"color: #800000; text-decoration-color: #800000\">compute values like flux, Poynting and dot product with other data.</span>\n",
       "</pre>\n"
      ],
      "text/plain": [
       "\u001b[2;36m            \u001b[0m\u001b[2;36m \u001b[0m\u001b[31mWARNING: Monitor data requires \u001b[0m\u001b[32m'grid_expanded'\u001b[0m\u001b[31m to be defined to    \u001b[0m\n",
       "\u001b[2;36m             \u001b[0m\u001b[31mcompute values like flux, Poynting and dot product with other data.\u001b[0m\n"
      ]
     },
     "metadata": {},
     "output_type": "display_data"
    },
    {
     "data": {
      "text/html": [
       "<pre style=\"white-space:pre;overflow-x:auto;line-height:normal;font-family:Menlo,'DejaVu Sans Mono',consolas,'Courier New',monospace\"><span style=\"color: #7fbfbf; text-decoration-color: #7fbfbf\">             </span><span style=\"color: #800000; text-decoration-color: #800000\">WARNING: Monitor data requires </span><span style=\"color: #008000; text-decoration-color: #008000\">'grid_expanded'</span><span style=\"color: #800000; text-decoration-color: #800000\"> to be defined to    </span>\n",
       "<span style=\"color: #7fbfbf; text-decoration-color: #7fbfbf\">             </span><span style=\"color: #800000; text-decoration-color: #800000\">compute values like flux, Poynting and dot product with other data.</span>\n",
       "</pre>\n"
      ],
      "text/plain": [
       "\u001b[2;36m            \u001b[0m\u001b[2;36m \u001b[0m\u001b[31mWARNING: Monitor data requires \u001b[0m\u001b[32m'grid_expanded'\u001b[0m\u001b[31m to be defined to    \u001b[0m\n",
       "\u001b[2;36m             \u001b[0m\u001b[31mcompute values like flux, Poynting and dot product with other data.\u001b[0m\n"
      ]
     },
     "metadata": {},
     "output_type": "display_data"
    },
    {
     "data": {
      "text/html": [
       "<pre style=\"white-space:pre;overflow-x:auto;line-height:normal;font-family:Menlo,'DejaVu Sans Mono',consolas,'Courier New',monospace\"><span style=\"color: #7fbfbf; text-decoration-color: #7fbfbf\">19:44:22 PST </span><span style=\"color: #800000; text-decoration-color: #800000\">WARNING: Monitor data requires </span><span style=\"color: #008000; text-decoration-color: #008000\">'grid_expanded'</span><span style=\"color: #800000; text-decoration-color: #800000\"> to be defined to    </span>\n",
       "<span style=\"color: #7fbfbf; text-decoration-color: #7fbfbf\">             </span><span style=\"color: #800000; text-decoration-color: #800000\">compute values like flux, Poynting and dot product with other data.</span>\n",
       "</pre>\n"
      ],
      "text/plain": [
       "\u001b[2;36m19:44:22 PST\u001b[0m\u001b[2;36m \u001b[0m\u001b[31mWARNING: Monitor data requires \u001b[0m\u001b[32m'grid_expanded'\u001b[0m\u001b[31m to be defined to    \u001b[0m\n",
       "\u001b[2;36m             \u001b[0m\u001b[31mcompute values like flux, Poynting and dot product with other data.\u001b[0m\n"
      ]
     },
     "metadata": {},
     "output_type": "display_data"
    },
    {
     "name": "stdout",
     "output_type": "stream",
     "text": [
      "step = 15\n",
      "\tbeta = 1.5000e+01\n",
      "\tJ = 8.6637e-01\n",
      "\tgrad_norm = 4.5932e-03\n"
     ]
    },
    {
     "data": {
      "text/html": [
       "<pre style=\"white-space:pre;overflow-x:auto;line-height:normal;font-family:Menlo,'DejaVu Sans Mono',consolas,'Courier New',monospace\"><span style=\"color: #7fbfbf; text-decoration-color: #7fbfbf\">19:45:22 PST </span><span style=\"color: #800000; text-decoration-color: #800000\">WARNING: Monitor data requires </span><span style=\"color: #008000; text-decoration-color: #008000\">'grid_expanded'</span><span style=\"color: #800000; text-decoration-color: #800000\"> to be defined to    </span>\n",
       "<span style=\"color: #7fbfbf; text-decoration-color: #7fbfbf\">             </span><span style=\"color: #800000; text-decoration-color: #800000\">compute values like flux, Poynting and dot product with other data.</span>\n",
       "</pre>\n"
      ],
      "text/plain": [
       "\u001b[2;36m19:45:22 PST\u001b[0m\u001b[2;36m \u001b[0m\u001b[31mWARNING: Monitor data requires \u001b[0m\u001b[32m'grid_expanded'\u001b[0m\u001b[31m to be defined to    \u001b[0m\n",
       "\u001b[2;36m             \u001b[0m\u001b[31mcompute values like flux, Poynting and dot product with other data.\u001b[0m\n"
      ]
     },
     "metadata": {},
     "output_type": "display_data"
    },
    {
     "data": {
      "text/html": [
       "<pre style=\"white-space:pre;overflow-x:auto;line-height:normal;font-family:Menlo,'DejaVu Sans Mono',consolas,'Courier New',monospace\"><span style=\"color: #7fbfbf; text-decoration-color: #7fbfbf\">19:45:23 PST </span><span style=\"color: #800000; text-decoration-color: #800000\">WARNING: Monitor data requires </span><span style=\"color: #008000; text-decoration-color: #008000\">'grid_expanded'</span><span style=\"color: #800000; text-decoration-color: #800000\"> to be defined to    </span>\n",
       "<span style=\"color: #7fbfbf; text-decoration-color: #7fbfbf\">             </span><span style=\"color: #800000; text-decoration-color: #800000\">compute values like flux, Poynting and dot product with other data.</span>\n",
       "</pre>\n"
      ],
      "text/plain": [
       "\u001b[2;36m19:45:23 PST\u001b[0m\u001b[2;36m \u001b[0m\u001b[31mWARNING: Monitor data requires \u001b[0m\u001b[32m'grid_expanded'\u001b[0m\u001b[31m to be defined to    \u001b[0m\n",
       "\u001b[2;36m             \u001b[0m\u001b[31mcompute values like flux, Poynting and dot product with other data.\u001b[0m\n"
      ]
     },
     "metadata": {},
     "output_type": "display_data"
    },
    {
     "data": {
      "text/html": [
       "<pre style=\"white-space:pre;overflow-x:auto;line-height:normal;font-family:Menlo,'DejaVu Sans Mono',consolas,'Courier New',monospace\"><span style=\"color: #7fbfbf; text-decoration-color: #7fbfbf\">             </span><span style=\"color: #800000; text-decoration-color: #800000\">WARNING: Monitor data requires </span><span style=\"color: #008000; text-decoration-color: #008000\">'grid_expanded'</span><span style=\"color: #800000; text-decoration-color: #800000\"> to be defined to    </span>\n",
       "<span style=\"color: #7fbfbf; text-decoration-color: #7fbfbf\">             </span><span style=\"color: #800000; text-decoration-color: #800000\">compute values like flux, Poynting and dot product with other data.</span>\n",
       "</pre>\n"
      ],
      "text/plain": [
       "\u001b[2;36m            \u001b[0m\u001b[2;36m \u001b[0m\u001b[31mWARNING: Monitor data requires \u001b[0m\u001b[32m'grid_expanded'\u001b[0m\u001b[31m to be defined to    \u001b[0m\n",
       "\u001b[2;36m             \u001b[0m\u001b[31mcompute values like flux, Poynting and dot product with other data.\u001b[0m\n"
      ]
     },
     "metadata": {},
     "output_type": "display_data"
    },
    {
     "data": {
      "text/html": [
       "<pre style=\"white-space:pre;overflow-x:auto;line-height:normal;font-family:Menlo,'DejaVu Sans Mono',consolas,'Courier New',monospace\"><span style=\"color: #7fbfbf; text-decoration-color: #7fbfbf\">             </span><span style=\"color: #800000; text-decoration-color: #800000\">WARNING: Monitor data requires </span><span style=\"color: #008000; text-decoration-color: #008000\">'grid_expanded'</span><span style=\"color: #800000; text-decoration-color: #800000\"> to be defined to    </span>\n",
       "<span style=\"color: #7fbfbf; text-decoration-color: #7fbfbf\">             </span><span style=\"color: #800000; text-decoration-color: #800000\">compute values like flux, Poynting and dot product with other data.</span>\n",
       "</pre>\n"
      ],
      "text/plain": [
       "\u001b[2;36m            \u001b[0m\u001b[2;36m \u001b[0m\u001b[31mWARNING: Monitor data requires \u001b[0m\u001b[32m'grid_expanded'\u001b[0m\u001b[31m to be defined to    \u001b[0m\n",
       "\u001b[2;36m             \u001b[0m\u001b[31mcompute values like flux, Poynting and dot product with other data.\u001b[0m\n"
      ]
     },
     "metadata": {},
     "output_type": "display_data"
    },
    {
     "data": {
      "text/html": [
       "<pre style=\"white-space:pre;overflow-x:auto;line-height:normal;font-family:Menlo,'DejaVu Sans Mono',consolas,'Courier New',monospace\"><span style=\"color: #7fbfbf; text-decoration-color: #7fbfbf\">19:45:26 PST </span><span style=\"color: #800000; text-decoration-color: #800000\">WARNING: Monitor data requires </span><span style=\"color: #008000; text-decoration-color: #008000\">'grid_expanded'</span><span style=\"color: #800000; text-decoration-color: #800000\"> to be defined to    </span>\n",
       "<span style=\"color: #7fbfbf; text-decoration-color: #7fbfbf\">             </span><span style=\"color: #800000; text-decoration-color: #800000\">compute values like flux, Poynting and dot product with other data.</span>\n",
       "</pre>\n"
      ],
      "text/plain": [
       "\u001b[2;36m19:45:26 PST\u001b[0m\u001b[2;36m \u001b[0m\u001b[31mWARNING: Monitor data requires \u001b[0m\u001b[32m'grid_expanded'\u001b[0m\u001b[31m to be defined to    \u001b[0m\n",
       "\u001b[2;36m             \u001b[0m\u001b[31mcompute values like flux, Poynting and dot product with other data.\u001b[0m\n"
      ]
     },
     "metadata": {},
     "output_type": "display_data"
    },
    {
     "name": "stdout",
     "output_type": "stream",
     "text": [
      "step = 16\n",
      "\tbeta = 1.6000e+01\n",
      "\tJ = 8.7438e-01\n",
      "\tgrad_norm = 4.1617e-03\n"
     ]
    },
    {
     "data": {
      "text/html": [
       "<pre style=\"white-space:pre;overflow-x:auto;line-height:normal;font-family:Menlo,'DejaVu Sans Mono',consolas,'Courier New',monospace\"><span style=\"color: #7fbfbf; text-decoration-color: #7fbfbf\">19:46:19 PST </span><span style=\"color: #800000; text-decoration-color: #800000\">WARNING: Monitor data requires </span><span style=\"color: #008000; text-decoration-color: #008000\">'grid_expanded'</span><span style=\"color: #800000; text-decoration-color: #800000\"> to be defined to    </span>\n",
       "<span style=\"color: #7fbfbf; text-decoration-color: #7fbfbf\">             </span><span style=\"color: #800000; text-decoration-color: #800000\">compute values like flux, Poynting and dot product with other data.</span>\n",
       "</pre>\n"
      ],
      "text/plain": [
       "\u001b[2;36m19:46:19 PST\u001b[0m\u001b[2;36m \u001b[0m\u001b[31mWARNING: Monitor data requires \u001b[0m\u001b[32m'grid_expanded'\u001b[0m\u001b[31m to be defined to    \u001b[0m\n",
       "\u001b[2;36m             \u001b[0m\u001b[31mcompute values like flux, Poynting and dot product with other data.\u001b[0m\n"
      ]
     },
     "metadata": {},
     "output_type": "display_data"
    },
    {
     "data": {
      "text/html": [
       "<pre style=\"white-space:pre;overflow-x:auto;line-height:normal;font-family:Menlo,'DejaVu Sans Mono',consolas,'Courier New',monospace\"><span style=\"color: #7fbfbf; text-decoration-color: #7fbfbf\">             </span><span style=\"color: #800000; text-decoration-color: #800000\">WARNING: Monitor data requires </span><span style=\"color: #008000; text-decoration-color: #008000\">'grid_expanded'</span><span style=\"color: #800000; text-decoration-color: #800000\"> to be defined to    </span>\n",
       "<span style=\"color: #7fbfbf; text-decoration-color: #7fbfbf\">             </span><span style=\"color: #800000; text-decoration-color: #800000\">compute values like flux, Poynting and dot product with other data.</span>\n",
       "</pre>\n"
      ],
      "text/plain": [
       "\u001b[2;36m            \u001b[0m\u001b[2;36m \u001b[0m\u001b[31mWARNING: Monitor data requires \u001b[0m\u001b[32m'grid_expanded'\u001b[0m\u001b[31m to be defined to    \u001b[0m\n",
       "\u001b[2;36m             \u001b[0m\u001b[31mcompute values like flux, Poynting and dot product with other data.\u001b[0m\n"
      ]
     },
     "metadata": {},
     "output_type": "display_data"
    },
    {
     "data": {
      "text/html": [
       "<pre style=\"white-space:pre;overflow-x:auto;line-height:normal;font-family:Menlo,'DejaVu Sans Mono',consolas,'Courier New',monospace\"><span style=\"color: #7fbfbf; text-decoration-color: #7fbfbf\">             </span><span style=\"color: #800000; text-decoration-color: #800000\">WARNING: Monitor data requires </span><span style=\"color: #008000; text-decoration-color: #008000\">'grid_expanded'</span><span style=\"color: #800000; text-decoration-color: #800000\"> to be defined to    </span>\n",
       "<span style=\"color: #7fbfbf; text-decoration-color: #7fbfbf\">             </span><span style=\"color: #800000; text-decoration-color: #800000\">compute values like flux, Poynting and dot product with other data.</span>\n",
       "</pre>\n"
      ],
      "text/plain": [
       "\u001b[2;36m            \u001b[0m\u001b[2;36m \u001b[0m\u001b[31mWARNING: Monitor data requires \u001b[0m\u001b[32m'grid_expanded'\u001b[0m\u001b[31m to be defined to    \u001b[0m\n",
       "\u001b[2;36m             \u001b[0m\u001b[31mcompute values like flux, Poynting and dot product with other data.\u001b[0m\n"
      ]
     },
     "metadata": {},
     "output_type": "display_data"
    },
    {
     "data": {
      "text/html": [
       "<pre style=\"white-space:pre;overflow-x:auto;line-height:normal;font-family:Menlo,'DejaVu Sans Mono',consolas,'Courier New',monospace\"><span style=\"color: #7fbfbf; text-decoration-color: #7fbfbf\">             </span><span style=\"color: #800000; text-decoration-color: #800000\">WARNING: Monitor data requires </span><span style=\"color: #008000; text-decoration-color: #008000\">'grid_expanded'</span><span style=\"color: #800000; text-decoration-color: #800000\"> to be defined to    </span>\n",
       "<span style=\"color: #7fbfbf; text-decoration-color: #7fbfbf\">             </span><span style=\"color: #800000; text-decoration-color: #800000\">compute values like flux, Poynting and dot product with other data.</span>\n",
       "</pre>\n"
      ],
      "text/plain": [
       "\u001b[2;36m            \u001b[0m\u001b[2;36m \u001b[0m\u001b[31mWARNING: Monitor data requires \u001b[0m\u001b[32m'grid_expanded'\u001b[0m\u001b[31m to be defined to    \u001b[0m\n",
       "\u001b[2;36m             \u001b[0m\u001b[31mcompute values like flux, Poynting and dot product with other data.\u001b[0m\n"
      ]
     },
     "metadata": {},
     "output_type": "display_data"
    },
    {
     "data": {
      "text/html": [
       "<pre style=\"white-space:pre;overflow-x:auto;line-height:normal;font-family:Menlo,'DejaVu Sans Mono',consolas,'Courier New',monospace\"><span style=\"color: #7fbfbf; text-decoration-color: #7fbfbf\">19:46:23 PST </span><span style=\"color: #800000; text-decoration-color: #800000\">WARNING: Monitor data requires </span><span style=\"color: #008000; text-decoration-color: #008000\">'grid_expanded'</span><span style=\"color: #800000; text-decoration-color: #800000\"> to be defined to    </span>\n",
       "<span style=\"color: #7fbfbf; text-decoration-color: #7fbfbf\">             </span><span style=\"color: #800000; text-decoration-color: #800000\">compute values like flux, Poynting and dot product with other data.</span>\n",
       "</pre>\n"
      ],
      "text/plain": [
       "\u001b[2;36m19:46:23 PST\u001b[0m\u001b[2;36m \u001b[0m\u001b[31mWARNING: Monitor data requires \u001b[0m\u001b[32m'grid_expanded'\u001b[0m\u001b[31m to be defined to    \u001b[0m\n",
       "\u001b[2;36m             \u001b[0m\u001b[31mcompute values like flux, Poynting and dot product with other data.\u001b[0m\n"
      ]
     },
     "metadata": {},
     "output_type": "display_data"
    },
    {
     "name": "stdout",
     "output_type": "stream",
     "text": [
      "step = 17\n",
      "\tbeta = 1.7000e+01\n",
      "\tJ = 8.8189e-01\n",
      "\tgrad_norm = 4.4077e-03\n"
     ]
    },
    {
     "data": {
      "text/html": [
       "<pre style=\"white-space:pre;overflow-x:auto;line-height:normal;font-family:Menlo,'DejaVu Sans Mono',consolas,'Courier New',monospace\"><span style=\"color: #7fbfbf; text-decoration-color: #7fbfbf\">19:47:09 PST </span><span style=\"color: #800000; text-decoration-color: #800000\">WARNING: Monitor data requires </span><span style=\"color: #008000; text-decoration-color: #008000\">'grid_expanded'</span><span style=\"color: #800000; text-decoration-color: #800000\"> to be defined to    </span>\n",
       "<span style=\"color: #7fbfbf; text-decoration-color: #7fbfbf\">             </span><span style=\"color: #800000; text-decoration-color: #800000\">compute values like flux, Poynting and dot product with other data.</span>\n",
       "</pre>\n"
      ],
      "text/plain": [
       "\u001b[2;36m19:47:09 PST\u001b[0m\u001b[2;36m \u001b[0m\u001b[31mWARNING: Monitor data requires \u001b[0m\u001b[32m'grid_expanded'\u001b[0m\u001b[31m to be defined to    \u001b[0m\n",
       "\u001b[2;36m             \u001b[0m\u001b[31mcompute values like flux, Poynting and dot product with other data.\u001b[0m\n"
      ]
     },
     "metadata": {},
     "output_type": "display_data"
    },
    {
     "data": {
      "text/html": [
       "<pre style=\"white-space:pre;overflow-x:auto;line-height:normal;font-family:Menlo,'DejaVu Sans Mono',consolas,'Courier New',monospace\"><span style=\"color: #7fbfbf; text-decoration-color: #7fbfbf\">             </span><span style=\"color: #800000; text-decoration-color: #800000\">WARNING: Monitor data requires </span><span style=\"color: #008000; text-decoration-color: #008000\">'grid_expanded'</span><span style=\"color: #800000; text-decoration-color: #800000\"> to be defined to    </span>\n",
       "<span style=\"color: #7fbfbf; text-decoration-color: #7fbfbf\">             </span><span style=\"color: #800000; text-decoration-color: #800000\">compute values like flux, Poynting and dot product with other data.</span>\n",
       "</pre>\n"
      ],
      "text/plain": [
       "\u001b[2;36m            \u001b[0m\u001b[2;36m \u001b[0m\u001b[31mWARNING: Monitor data requires \u001b[0m\u001b[32m'grid_expanded'\u001b[0m\u001b[31m to be defined to    \u001b[0m\n",
       "\u001b[2;36m             \u001b[0m\u001b[31mcompute values like flux, Poynting and dot product with other data.\u001b[0m\n"
      ]
     },
     "metadata": {},
     "output_type": "display_data"
    },
    {
     "data": {
      "text/html": [
       "<pre style=\"white-space:pre;overflow-x:auto;line-height:normal;font-family:Menlo,'DejaVu Sans Mono',consolas,'Courier New',monospace\"><span style=\"color: #7fbfbf; text-decoration-color: #7fbfbf\">19:47:10 PST </span><span style=\"color: #800000; text-decoration-color: #800000\">WARNING: Monitor data requires </span><span style=\"color: #008000; text-decoration-color: #008000\">'grid_expanded'</span><span style=\"color: #800000; text-decoration-color: #800000\"> to be defined to    </span>\n",
       "<span style=\"color: #7fbfbf; text-decoration-color: #7fbfbf\">             </span><span style=\"color: #800000; text-decoration-color: #800000\">compute values like flux, Poynting and dot product with other data.</span>\n",
       "</pre>\n"
      ],
      "text/plain": [
       "\u001b[2;36m19:47:10 PST\u001b[0m\u001b[2;36m \u001b[0m\u001b[31mWARNING: Monitor data requires \u001b[0m\u001b[32m'grid_expanded'\u001b[0m\u001b[31m to be defined to    \u001b[0m\n",
       "\u001b[2;36m             \u001b[0m\u001b[31mcompute values like flux, Poynting and dot product with other data.\u001b[0m\n"
      ]
     },
     "metadata": {},
     "output_type": "display_data"
    },
    {
     "data": {
      "text/html": [
       "<pre style=\"white-space:pre;overflow-x:auto;line-height:normal;font-family:Menlo,'DejaVu Sans Mono',consolas,'Courier New',monospace\"><span style=\"color: #7fbfbf; text-decoration-color: #7fbfbf\">             </span><span style=\"color: #800000; text-decoration-color: #800000\">WARNING: Monitor data requires </span><span style=\"color: #008000; text-decoration-color: #008000\">'grid_expanded'</span><span style=\"color: #800000; text-decoration-color: #800000\"> to be defined to    </span>\n",
       "<span style=\"color: #7fbfbf; text-decoration-color: #7fbfbf\">             </span><span style=\"color: #800000; text-decoration-color: #800000\">compute values like flux, Poynting and dot product with other data.</span>\n",
       "</pre>\n"
      ],
      "text/plain": [
       "\u001b[2;36m            \u001b[0m\u001b[2;36m \u001b[0m\u001b[31mWARNING: Monitor data requires \u001b[0m\u001b[32m'grid_expanded'\u001b[0m\u001b[31m to be defined to    \u001b[0m\n",
       "\u001b[2;36m             \u001b[0m\u001b[31mcompute values like flux, Poynting and dot product with other data.\u001b[0m\n"
      ]
     },
     "metadata": {},
     "output_type": "display_data"
    },
    {
     "data": {
      "text/html": [
       "<pre style=\"white-space:pre;overflow-x:auto;line-height:normal;font-family:Menlo,'DejaVu Sans Mono',consolas,'Courier New',monospace\"><span style=\"color: #7fbfbf; text-decoration-color: #7fbfbf\">19:47:13 PST </span><span style=\"color: #800000; text-decoration-color: #800000\">WARNING: Monitor data requires </span><span style=\"color: #008000; text-decoration-color: #008000\">'grid_expanded'</span><span style=\"color: #800000; text-decoration-color: #800000\"> to be defined to    </span>\n",
       "<span style=\"color: #7fbfbf; text-decoration-color: #7fbfbf\">             </span><span style=\"color: #800000; text-decoration-color: #800000\">compute values like flux, Poynting and dot product with other data.</span>\n",
       "</pre>\n"
      ],
      "text/plain": [
       "\u001b[2;36m19:47:13 PST\u001b[0m\u001b[2;36m \u001b[0m\u001b[31mWARNING: Monitor data requires \u001b[0m\u001b[32m'grid_expanded'\u001b[0m\u001b[31m to be defined to    \u001b[0m\n",
       "\u001b[2;36m             \u001b[0m\u001b[31mcompute values like flux, Poynting and dot product with other data.\u001b[0m\n"
      ]
     },
     "metadata": {},
     "output_type": "display_data"
    },
    {
     "name": "stdout",
     "output_type": "stream",
     "text": [
      "step = 18\n",
      "\tbeta = 1.8000e+01\n",
      "\tJ = 8.9486e-01\n",
      "\tgrad_norm = 2.5965e-03\n"
     ]
    },
    {
     "data": {
      "text/html": [
       "<pre style=\"white-space:pre;overflow-x:auto;line-height:normal;font-family:Menlo,'DejaVu Sans Mono',consolas,'Courier New',monospace\"><span style=\"color: #7fbfbf; text-decoration-color: #7fbfbf\">19:48:01 PST </span><span style=\"color: #800000; text-decoration-color: #800000\">WARNING: Monitor data requires </span><span style=\"color: #008000; text-decoration-color: #008000\">'grid_expanded'</span><span style=\"color: #800000; text-decoration-color: #800000\"> to be defined to    </span>\n",
       "<span style=\"color: #7fbfbf; text-decoration-color: #7fbfbf\">             </span><span style=\"color: #800000; text-decoration-color: #800000\">compute values like flux, Poynting and dot product with other data.</span>\n",
       "</pre>\n"
      ],
      "text/plain": [
       "\u001b[2;36m19:48:01 PST\u001b[0m\u001b[2;36m \u001b[0m\u001b[31mWARNING: Monitor data requires \u001b[0m\u001b[32m'grid_expanded'\u001b[0m\u001b[31m to be defined to    \u001b[0m\n",
       "\u001b[2;36m             \u001b[0m\u001b[31mcompute values like flux, Poynting and dot product with other data.\u001b[0m\n"
      ]
     },
     "metadata": {},
     "output_type": "display_data"
    },
    {
     "data": {
      "text/html": [
       "<pre style=\"white-space:pre;overflow-x:auto;line-height:normal;font-family:Menlo,'DejaVu Sans Mono',consolas,'Courier New',monospace\"><span style=\"color: #7fbfbf; text-decoration-color: #7fbfbf\">             </span><span style=\"color: #800000; text-decoration-color: #800000\">WARNING: Monitor data requires </span><span style=\"color: #008000; text-decoration-color: #008000\">'grid_expanded'</span><span style=\"color: #800000; text-decoration-color: #800000\"> to be defined to    </span>\n",
       "<span style=\"color: #7fbfbf; text-decoration-color: #7fbfbf\">             </span><span style=\"color: #800000; text-decoration-color: #800000\">compute values like flux, Poynting and dot product with other data.</span>\n",
       "</pre>\n"
      ],
      "text/plain": [
       "\u001b[2;36m            \u001b[0m\u001b[2;36m \u001b[0m\u001b[31mWARNING: Monitor data requires \u001b[0m\u001b[32m'grid_expanded'\u001b[0m\u001b[31m to be defined to    \u001b[0m\n",
       "\u001b[2;36m             \u001b[0m\u001b[31mcompute values like flux, Poynting and dot product with other data.\u001b[0m\n"
      ]
     },
     "metadata": {},
     "output_type": "display_data"
    },
    {
     "data": {
      "text/html": [
       "<pre style=\"white-space:pre;overflow-x:auto;line-height:normal;font-family:Menlo,'DejaVu Sans Mono',consolas,'Courier New',monospace\"><span style=\"color: #7fbfbf; text-decoration-color: #7fbfbf\">             </span><span style=\"color: #800000; text-decoration-color: #800000\">WARNING: Monitor data requires </span><span style=\"color: #008000; text-decoration-color: #008000\">'grid_expanded'</span><span style=\"color: #800000; text-decoration-color: #800000\"> to be defined to    </span>\n",
       "<span style=\"color: #7fbfbf; text-decoration-color: #7fbfbf\">             </span><span style=\"color: #800000; text-decoration-color: #800000\">compute values like flux, Poynting and dot product with other data.</span>\n",
       "</pre>\n"
      ],
      "text/plain": [
       "\u001b[2;36m            \u001b[0m\u001b[2;36m \u001b[0m\u001b[31mWARNING: Monitor data requires \u001b[0m\u001b[32m'grid_expanded'\u001b[0m\u001b[31m to be defined to    \u001b[0m\n",
       "\u001b[2;36m             \u001b[0m\u001b[31mcompute values like flux, Poynting and dot product with other data.\u001b[0m\n"
      ]
     },
     "metadata": {},
     "output_type": "display_data"
    },
    {
     "data": {
      "text/html": [
       "<pre style=\"white-space:pre;overflow-x:auto;line-height:normal;font-family:Menlo,'DejaVu Sans Mono',consolas,'Courier New',monospace\"><span style=\"color: #7fbfbf; text-decoration-color: #7fbfbf\">             </span><span style=\"color: #800000; text-decoration-color: #800000\">WARNING: Monitor data requires </span><span style=\"color: #008000; text-decoration-color: #008000\">'grid_expanded'</span><span style=\"color: #800000; text-decoration-color: #800000\"> to be defined to    </span>\n",
       "<span style=\"color: #7fbfbf; text-decoration-color: #7fbfbf\">             </span><span style=\"color: #800000; text-decoration-color: #800000\">compute values like flux, Poynting and dot product with other data.</span>\n",
       "</pre>\n"
      ],
      "text/plain": [
       "\u001b[2;36m            \u001b[0m\u001b[2;36m \u001b[0m\u001b[31mWARNING: Monitor data requires \u001b[0m\u001b[32m'grid_expanded'\u001b[0m\u001b[31m to be defined to    \u001b[0m\n",
       "\u001b[2;36m             \u001b[0m\u001b[31mcompute values like flux, Poynting and dot product with other data.\u001b[0m\n"
      ]
     },
     "metadata": {},
     "output_type": "display_data"
    },
    {
     "data": {
      "text/html": [
       "<pre style=\"white-space:pre;overflow-x:auto;line-height:normal;font-family:Menlo,'DejaVu Sans Mono',consolas,'Courier New',monospace\"><span style=\"color: #7fbfbf; text-decoration-color: #7fbfbf\">19:48:04 PST </span><span style=\"color: #800000; text-decoration-color: #800000\">WARNING: Monitor data requires </span><span style=\"color: #008000; text-decoration-color: #008000\">'grid_expanded'</span><span style=\"color: #800000; text-decoration-color: #800000\"> to be defined to    </span>\n",
       "<span style=\"color: #7fbfbf; text-decoration-color: #7fbfbf\">             </span><span style=\"color: #800000; text-decoration-color: #800000\">compute values like flux, Poynting and dot product with other data.</span>\n",
       "</pre>\n"
      ],
      "text/plain": [
       "\u001b[2;36m19:48:04 PST\u001b[0m\u001b[2;36m \u001b[0m\u001b[31mWARNING: Monitor data requires \u001b[0m\u001b[32m'grid_expanded'\u001b[0m\u001b[31m to be defined to    \u001b[0m\n",
       "\u001b[2;36m             \u001b[0m\u001b[31mcompute values like flux, Poynting and dot product with other data.\u001b[0m\n"
      ]
     },
     "metadata": {},
     "output_type": "display_data"
    },
    {
     "name": "stdout",
     "output_type": "stream",
     "text": [
      "step = 19\n",
      "\tbeta = 1.9000e+01\n",
      "\tJ = 9.0313e-01\n",
      "\tgrad_norm = 3.2184e-03\n"
     ]
    },
    {
     "data": {
      "text/html": [
       "<pre style=\"white-space:pre;overflow-x:auto;line-height:normal;font-family:Menlo,'DejaVu Sans Mono',consolas,'Courier New',monospace\"><span style=\"color: #7fbfbf; text-decoration-color: #7fbfbf\">19:48:51 PST </span><span style=\"color: #800000; text-decoration-color: #800000\">WARNING: Monitor data requires </span><span style=\"color: #008000; text-decoration-color: #008000\">'grid_expanded'</span><span style=\"color: #800000; text-decoration-color: #800000\"> to be defined to    </span>\n",
       "<span style=\"color: #7fbfbf; text-decoration-color: #7fbfbf\">             </span><span style=\"color: #800000; text-decoration-color: #800000\">compute values like flux, Poynting and dot product with other data.</span>\n",
       "</pre>\n"
      ],
      "text/plain": [
       "\u001b[2;36m19:48:51 PST\u001b[0m\u001b[2;36m \u001b[0m\u001b[31mWARNING: Monitor data requires \u001b[0m\u001b[32m'grid_expanded'\u001b[0m\u001b[31m to be defined to    \u001b[0m\n",
       "\u001b[2;36m             \u001b[0m\u001b[31mcompute values like flux, Poynting and dot product with other data.\u001b[0m\n"
      ]
     },
     "metadata": {},
     "output_type": "display_data"
    },
    {
     "data": {
      "text/html": [
       "<pre style=\"white-space:pre;overflow-x:auto;line-height:normal;font-family:Menlo,'DejaVu Sans Mono',consolas,'Courier New',monospace\"><span style=\"color: #7fbfbf; text-decoration-color: #7fbfbf\">19:48:52 PST </span><span style=\"color: #800000; text-decoration-color: #800000\">WARNING: Monitor data requires </span><span style=\"color: #008000; text-decoration-color: #008000\">'grid_expanded'</span><span style=\"color: #800000; text-decoration-color: #800000\"> to be defined to    </span>\n",
       "<span style=\"color: #7fbfbf; text-decoration-color: #7fbfbf\">             </span><span style=\"color: #800000; text-decoration-color: #800000\">compute values like flux, Poynting and dot product with other data.</span>\n",
       "</pre>\n"
      ],
      "text/plain": [
       "\u001b[2;36m19:48:52 PST\u001b[0m\u001b[2;36m \u001b[0m\u001b[31mWARNING: Monitor data requires \u001b[0m\u001b[32m'grid_expanded'\u001b[0m\u001b[31m to be defined to    \u001b[0m\n",
       "\u001b[2;36m             \u001b[0m\u001b[31mcompute values like flux, Poynting and dot product with other data.\u001b[0m\n"
      ]
     },
     "metadata": {},
     "output_type": "display_data"
    },
    {
     "data": {
      "text/html": [
       "<pre style=\"white-space:pre;overflow-x:auto;line-height:normal;font-family:Menlo,'DejaVu Sans Mono',consolas,'Courier New',monospace\"><span style=\"color: #7fbfbf; text-decoration-color: #7fbfbf\">             </span><span style=\"color: #800000; text-decoration-color: #800000\">WARNING: Monitor data requires </span><span style=\"color: #008000; text-decoration-color: #008000\">'grid_expanded'</span><span style=\"color: #800000; text-decoration-color: #800000\"> to be defined to    </span>\n",
       "<span style=\"color: #7fbfbf; text-decoration-color: #7fbfbf\">             </span><span style=\"color: #800000; text-decoration-color: #800000\">compute values like flux, Poynting and dot product with other data.</span>\n",
       "</pre>\n"
      ],
      "text/plain": [
       "\u001b[2;36m            \u001b[0m\u001b[2;36m \u001b[0m\u001b[31mWARNING: Monitor data requires \u001b[0m\u001b[32m'grid_expanded'\u001b[0m\u001b[31m to be defined to    \u001b[0m\n",
       "\u001b[2;36m             \u001b[0m\u001b[31mcompute values like flux, Poynting and dot product with other data.\u001b[0m\n"
      ]
     },
     "metadata": {},
     "output_type": "display_data"
    },
    {
     "data": {
      "text/html": [
       "<pre style=\"white-space:pre;overflow-x:auto;line-height:normal;font-family:Menlo,'DejaVu Sans Mono',consolas,'Courier New',monospace\"><span style=\"color: #7fbfbf; text-decoration-color: #7fbfbf\">             </span><span style=\"color: #800000; text-decoration-color: #800000\">WARNING: Monitor data requires </span><span style=\"color: #008000; text-decoration-color: #008000\">'grid_expanded'</span><span style=\"color: #800000; text-decoration-color: #800000\"> to be defined to    </span>\n",
       "<span style=\"color: #7fbfbf; text-decoration-color: #7fbfbf\">             </span><span style=\"color: #800000; text-decoration-color: #800000\">compute values like flux, Poynting and dot product with other data.</span>\n",
       "</pre>\n"
      ],
      "text/plain": [
       "\u001b[2;36m            \u001b[0m\u001b[2;36m \u001b[0m\u001b[31mWARNING: Monitor data requires \u001b[0m\u001b[32m'grid_expanded'\u001b[0m\u001b[31m to be defined to    \u001b[0m\n",
       "\u001b[2;36m             \u001b[0m\u001b[31mcompute values like flux, Poynting and dot product with other data.\u001b[0m\n"
      ]
     },
     "metadata": {},
     "output_type": "display_data"
    },
    {
     "data": {
      "text/html": [
       "<pre style=\"white-space:pre;overflow-x:auto;line-height:normal;font-family:Menlo,'DejaVu Sans Mono',consolas,'Courier New',monospace\"><span style=\"color: #7fbfbf; text-decoration-color: #7fbfbf\">19:48:55 PST </span><span style=\"color: #800000; text-decoration-color: #800000\">WARNING: Monitor data requires </span><span style=\"color: #008000; text-decoration-color: #008000\">'grid_expanded'</span><span style=\"color: #800000; text-decoration-color: #800000\"> to be defined to    </span>\n",
       "<span style=\"color: #7fbfbf; text-decoration-color: #7fbfbf\">             </span><span style=\"color: #800000; text-decoration-color: #800000\">compute values like flux, Poynting and dot product with other data.</span>\n",
       "</pre>\n"
      ],
      "text/plain": [
       "\u001b[2;36m19:48:55 PST\u001b[0m\u001b[2;36m \u001b[0m\u001b[31mWARNING: Monitor data requires \u001b[0m\u001b[32m'grid_expanded'\u001b[0m\u001b[31m to be defined to    \u001b[0m\n",
       "\u001b[2;36m             \u001b[0m\u001b[31mcompute values like flux, Poynting and dot product with other data.\u001b[0m\n"
      ]
     },
     "metadata": {},
     "output_type": "display_data"
    },
    {
     "name": "stdout",
     "output_type": "stream",
     "text": [
      "step = 20\n",
      "\tbeta = 2.0000e+01\n",
      "\tJ = 9.1220e-01\n",
      "\tgrad_norm = 2.4605e-03\n"
     ]
    },
    {
     "data": {
      "text/html": [
       "<pre style=\"white-space:pre;overflow-x:auto;line-height:normal;font-family:Menlo,'DejaVu Sans Mono',consolas,'Courier New',monospace\"><span style=\"color: #7fbfbf; text-decoration-color: #7fbfbf\">19:49:39 PST </span><span style=\"color: #800000; text-decoration-color: #800000\">WARNING: Monitor data requires </span><span style=\"color: #008000; text-decoration-color: #008000\">'grid_expanded'</span><span style=\"color: #800000; text-decoration-color: #800000\"> to be defined to    </span>\n",
       "<span style=\"color: #7fbfbf; text-decoration-color: #7fbfbf\">             </span><span style=\"color: #800000; text-decoration-color: #800000\">compute values like flux, Poynting and dot product with other data.</span>\n",
       "</pre>\n"
      ],
      "text/plain": [
       "\u001b[2;36m19:49:39 PST\u001b[0m\u001b[2;36m \u001b[0m\u001b[31mWARNING: Monitor data requires \u001b[0m\u001b[32m'grid_expanded'\u001b[0m\u001b[31m to be defined to    \u001b[0m\n",
       "\u001b[2;36m             \u001b[0m\u001b[31mcompute values like flux, Poynting and dot product with other data.\u001b[0m\n"
      ]
     },
     "metadata": {},
     "output_type": "display_data"
    },
    {
     "data": {
      "text/html": [
       "<pre style=\"white-space:pre;overflow-x:auto;line-height:normal;font-family:Menlo,'DejaVu Sans Mono',consolas,'Courier New',monospace\"><span style=\"color: #7fbfbf; text-decoration-color: #7fbfbf\">             </span><span style=\"color: #800000; text-decoration-color: #800000\">WARNING: Monitor data requires </span><span style=\"color: #008000; text-decoration-color: #008000\">'grid_expanded'</span><span style=\"color: #800000; text-decoration-color: #800000\"> to be defined to    </span>\n",
       "<span style=\"color: #7fbfbf; text-decoration-color: #7fbfbf\">             </span><span style=\"color: #800000; text-decoration-color: #800000\">compute values like flux, Poynting and dot product with other data.</span>\n",
       "</pre>\n"
      ],
      "text/plain": [
       "\u001b[2;36m            \u001b[0m\u001b[2;36m \u001b[0m\u001b[31mWARNING: Monitor data requires \u001b[0m\u001b[32m'grid_expanded'\u001b[0m\u001b[31m to be defined to    \u001b[0m\n",
       "\u001b[2;36m             \u001b[0m\u001b[31mcompute values like flux, Poynting and dot product with other data.\u001b[0m\n"
      ]
     },
     "metadata": {},
     "output_type": "display_data"
    },
    {
     "data": {
      "text/html": [
       "<pre style=\"white-space:pre;overflow-x:auto;line-height:normal;font-family:Menlo,'DejaVu Sans Mono',consolas,'Courier New',monospace\"><span style=\"color: #7fbfbf; text-decoration-color: #7fbfbf\">             </span><span style=\"color: #800000; text-decoration-color: #800000\">WARNING: Monitor data requires </span><span style=\"color: #008000; text-decoration-color: #008000\">'grid_expanded'</span><span style=\"color: #800000; text-decoration-color: #800000\"> to be defined to    </span>\n",
       "<span style=\"color: #7fbfbf; text-decoration-color: #7fbfbf\">             </span><span style=\"color: #800000; text-decoration-color: #800000\">compute values like flux, Poynting and dot product with other data.</span>\n",
       "</pre>\n"
      ],
      "text/plain": [
       "\u001b[2;36m            \u001b[0m\u001b[2;36m \u001b[0m\u001b[31mWARNING: Monitor data requires \u001b[0m\u001b[32m'grid_expanded'\u001b[0m\u001b[31m to be defined to    \u001b[0m\n",
       "\u001b[2;36m             \u001b[0m\u001b[31mcompute values like flux, Poynting and dot product with other data.\u001b[0m\n"
      ]
     },
     "metadata": {},
     "output_type": "display_data"
    },
    {
     "data": {
      "text/html": [
       "<pre style=\"white-space:pre;overflow-x:auto;line-height:normal;font-family:Menlo,'DejaVu Sans Mono',consolas,'Courier New',monospace\"><span style=\"color: #7fbfbf; text-decoration-color: #7fbfbf\">19:49:40 PST </span><span style=\"color: #800000; text-decoration-color: #800000\">WARNING: Monitor data requires </span><span style=\"color: #008000; text-decoration-color: #008000\">'grid_expanded'</span><span style=\"color: #800000; text-decoration-color: #800000\"> to be defined to    </span>\n",
       "<span style=\"color: #7fbfbf; text-decoration-color: #7fbfbf\">             </span><span style=\"color: #800000; text-decoration-color: #800000\">compute values like flux, Poynting and dot product with other data.</span>\n",
       "</pre>\n"
      ],
      "text/plain": [
       "\u001b[2;36m19:49:40 PST\u001b[0m\u001b[2;36m \u001b[0m\u001b[31mWARNING: Monitor data requires \u001b[0m\u001b[32m'grid_expanded'\u001b[0m\u001b[31m to be defined to    \u001b[0m\n",
       "\u001b[2;36m             \u001b[0m\u001b[31mcompute values like flux, Poynting and dot product with other data.\u001b[0m\n"
      ]
     },
     "metadata": {},
     "output_type": "display_data"
    }
   ],
   "source": [
    "import optax\n",
    "\n",
    "# hyperparameters\n",
    "num_steps = 20\n",
    "learning_rate = 1.0\n",
    "\n",
    "# initialize adam optimizer with starting parameters\n",
    "params = np.array(params0)\n",
    "optimizer = optax.adam(learning_rate=learning_rate)\n",
    "opt_state = optimizer.init(params)\n",
    "\n",
    "# store history\n",
    "Js = []\n",
    "params_history = [params]\n",
    "beta_history = []\n",
    "\n",
    "# gradually increase the binarization strength\n",
    "beta0 = 1\n",
    "beta_increment = 1\n",
    "\n",
    "for i in range(num_steps):\n",
    "\n",
    "    # compute gradient and current objective funciton value\n",
    "\n",
    "    beta = beta0 + i * beta_increment\n",
    "    value, gradient = dJ_fn(params, step_num=i+1, beta=beta)\n",
    "\n",
    "    # outputs\n",
    "    print(f\"step = {i + 1}\")\n",
    "    print(f\"\\tbeta = {beta:.4e}\")\n",
    "    print(f\"\\tJ = {value:.4e}\")\n",
    "    print(f\"\\tgrad_norm = {np.linalg.norm(gradient):.4e}\")    \n",
    "\n",
    "    # compute and apply updates to the optimizer based on gradient (-1 sign to maximize obj_fn)\n",
    "    updates, opt_state = optimizer.update(-gradient, opt_state, params)\n",
    "    params = optax.apply_updates(params, updates)\n",
    "\n",
    "    # cap the parameters\n",
    "    params = jnp.minimum(params, 1.0)\n",
    "    params = jnp.maximum(params, 0.0)\n",
    "\n",
    "    # save history\n",
    "    Js.append(value)\n",
    "    params_history.append(params)   \n",
    "    beta_history.append(beta)\n",
    "\n",
    "power = J(params_history[-1], beta=beta)\n",
    "Js.append(power)"
   ]
  },
  {
   "cell_type": "code",
   "execution_count": 19,
   "id": "30ce10a9-526c-434a-8606-f31c33949a41",
   "metadata": {
    "execution": {
     "iopub.execute_input": "2024-02-20T03:49:41.935825Z",
     "iopub.status.busy": "2024-02-20T03:49:41.935629Z",
     "iopub.status.idle": "2024-02-20T03:49:41.955520Z",
     "shell.execute_reply": "2024-02-20T03:49:41.954987Z"
    },
    "tags": []
   },
   "outputs": [],
   "source": [
    "params_final = params_history[-1]"
   ]
  },
  {
   "cell_type": "markdown",
   "id": "6af5ad27-46a0-4f72-975d-ebe3040ee446",
   "metadata": {},
   "source": [
    "Let's run the optimize function."
   ]
  },
  {
   "cell_type": "markdown",
   "id": "bd0b335a-c8bd-49a9-a1c5-f08b6125f21b",
   "metadata": {},
   "source": [
    "and then record the final power value (including the last iteration's parameter updates)."
   ]
  },
  {
   "cell_type": "markdown",
   "id": "e0b44fda-bf57-42cf-8370-05bf20de96df",
   "metadata": {},
   "source": [
    "### Results\n",
    "\n",
    "First, we plot the objective function (power converted to 1st order mode) as a function of step and notice that it converges nicely!"
   ]
  },
  {
   "cell_type": "code",
   "execution_count": 20,
   "id": "bc757643-2b71-4394-8fa6-f24c305848af",
   "metadata": {
    "execution": {
     "iopub.execute_input": "2024-02-20T03:49:41.957696Z",
     "iopub.status.busy": "2024-02-20T03:49:41.957503Z",
     "iopub.status.idle": "2024-02-20T03:49:42.064760Z",
     "shell.execute_reply": "2024-02-20T03:49:42.064155Z"
    },
    "tags": []
   },
   "outputs": [
    {
     "data": {
      "image/png": "[encoded data removed]",
      "text/plain": [
       "<Figure size 640x480 with 1 Axes>"
      ]
     },
     "metadata": {},
     "output_type": "display_data"
    }
   ],
   "source": [
    "plt.plot(Js)\n",
    "plt.xlabel(\"iterations\")\n",
    "plt.ylabel(\"objective function\")\n",
    "plt.show()"
   ]
  },
  {
   "cell_type": "markdown",
   "id": "209d151d-4fe5-4b5e-8c3b-633c0b451c70",
   "metadata": {},
   "source": [
    "We then will visualize the final structure, so we convert it to a regular `Simulation` using the final permittivity values and plot it."
   ]
  },
  {
   "cell_type": "code",
   "execution_count": 21,
   "id": "cfde96ed-f4b4-4106-b70e-0659058a82d6",
   "metadata": {
    "execution": {
     "iopub.execute_input": "2024-02-20T03:49:42.066964Z",
     "iopub.status.busy": "2024-02-20T03:49:42.066681Z",
     "iopub.status.idle": "2024-02-20T03:49:42.456874Z",
     "shell.execute_reply": "2024-02-20T03:49:42.455957Z"
    },
    "tags": []
   },
   "outputs": [],
   "source": [
    "sim_final = make_sim(params_final, beta=beta)"
   ]
  },
  {
   "cell_type": "code",
   "execution_count": 22,
   "id": "2c1ec6e0-cd42-4ef3-af95-5cbf7e0327a1",
   "metadata": {
    "execution": {
     "iopub.execute_input": "2024-02-20T03:49:42.459240Z",
     "iopub.status.busy": "2024-02-20T03:49:42.459058Z",
     "iopub.status.idle": "2024-02-20T03:49:42.817110Z",
     "shell.execute_reply": "2024-02-20T03:49:42.816583Z"
    },
    "tags": []
   },
   "outputs": [
    {
     "data": {
      "image/png": "[encoded data removed]",
      "text/plain": [
       "<Figure size 640x480 with 2 Axes>"
      ]
     },
     "metadata": {},
     "output_type": "display_data"
    }
   ],
   "source": [
    "sim_final = sim_final.to_simulation()[0]\n",
    "sim_final.plot_eps(z=0)\n",
    "plt.show()"
   ]
  },
  {
   "cell_type": "markdown",
   "id": "a6309d9a-01da-46da-96f1-236e86d7aa30",
   "metadata": {},
   "source": [
    "Finally, we want to inspect the fields, so we add a field monitor to the `Simulation` and perform one more run to record the field values for plotting."
   ]
  },
  {
   "cell_type": "code",
   "execution_count": 23,
   "id": "3d9e6150-7b42-42c8-8418-2af4d02a1ec8",
   "metadata": {
    "execution": {
     "iopub.execute_input": "2024-02-20T03:49:42.819142Z",
     "iopub.status.busy": "2024-02-20T03:49:42.818962Z",
     "iopub.status.idle": "2024-02-20T03:49:42.868189Z",
     "shell.execute_reply": "2024-02-20T03:49:42.867646Z"
    },
    "tags": []
   },
   "outputs": [],
   "source": [
    "field_mnt = td.FieldMonitor(\n",
    "    size=(td.inf, td.inf, 0),\n",
    "    freqs=[freq0],\n",
    "    name=\"field_mnt\",\n",
    ")\n",
    "\n",
    "sim_final = sim_final.copy(update=dict(monitors=(field_mnt, measurement_monitor)))"
   ]
  },
  {
   "cell_type": "code",
   "execution_count": 24,
   "id": "eb9e98d5-70e7-4fea-abcf-047489bd6a22",
   "metadata": {
    "execution": {
     "iopub.execute_input": "2024-02-20T03:49:42.870262Z",
     "iopub.status.busy": "2024-02-20T03:49:42.870085Z",
     "iopub.status.idle": "2024-02-20T03:50:02.030213Z",
     "shell.execute_reply": "2024-02-20T03:50:02.029706Z"
    },
    "tags": []
   },
   "outputs": [
    {
     "data": {
      "text/html": [
       "<pre style=\"white-space:pre;overflow-x:auto;line-height:normal;font-family:Menlo,'DejaVu Sans Mono',consolas,'Courier New',monospace\"><span style=\"color: #7fbfbf; text-decoration-color: #7fbfbf\">19:49:42 PST </span>Created task <span style=\"color: #008000; text-decoration-color: #008000\">'inv_des_final'</span> with task_id                          \n",
       "<span style=\"color: #7fbfbf; text-decoration-color: #7fbfbf\">             </span><span style=\"color: #008000; text-decoration-color: #008000\">'fdve-170ed170-e083-49f0-9cc1-a4f72928d6fa'</span> and task_type <span style=\"color: #008000; text-decoration-color: #008000\">'FDTD'</span>.  \n",
       "</pre>\n"
      ],
      "text/plain": [
       "\u001b[2;36m19:49:42 PST\u001b[0m\u001b[2;36m \u001b[0mCreated task \u001b[32m'inv_des_final'\u001b[0m with task_id                          \n",
       "\u001b[2;36m             \u001b[0m\u001b[32m'fdve-170ed170-e083-49f0-9cc1-a4f72928d6fa'\u001b[0m and task_type \u001b[32m'FDTD'\u001b[0m.  \n"
      ]
     },
     "metadata": {},
     "output_type": "display_data"
    },
    {
     "data": {
      "text/html": [
       "<pre style=\"white-space:pre;overflow-x:auto;line-height:normal;font-family:Menlo,'DejaVu Sans Mono',consolas,'Courier New',monospace\"><span style=\"color: #7fbfbf; text-decoration-color: #7fbfbf\">             </span>View task using web UI at                                          \n",
       "<span style=\"color: #7fbfbf; text-decoration-color: #7fbfbf\">             </span><a href=\"https://tidy3d.simulation.cloud/workbench?taskId=fdve-170ed170-e083-49f0-9cc1-a4f72928d6fa\" target=\"_blank\"><span style=\"color: #008000; text-decoration-color: #008000\">'https://tidy3d.simulation.cloud/workbench?taskId=fdve-170ed170-e08</span></a>\n",
       "<span style=\"color: #7fbfbf; text-decoration-color: #7fbfbf\">             </span><a href=\"https://tidy3d.simulation.cloud/workbench?taskId=fdve-170ed170-e083-49f0-9cc1-a4f72928d6fa\" target=\"_blank\"><span style=\"color: #008000; text-decoration-color: #008000\">3-49f0-9cc1-a4f72928d6fa'</span></a>.                                         \n",
       "</pre>\n"
      ],
      "text/plain": [
       "\u001b[2;36m            \u001b[0m\u001b[2;36m \u001b[0mView task using web UI at                                          \n",
       "\u001b[2;36m             \u001b[0m\u001b]8;id=674444;https://tidy3d.simulation.cloud/workbench?taskId=fdve-170ed170-e083-49f0-9cc1-a4f72928d6fa\u001b\\\u001b[32m'https://tidy3d.simulation.cloud/workbench?\u001b[0m\u001b]8;;\u001b\\\u001b]8;id=16859;https://tidy3d.simulation.cloud/workbench?taskId=fdve-170ed170-e083-49f0-9cc1-a4f72928d6fa\u001b\\\u001b[32mtaskId\u001b[0m\u001b]8;;\u001b\\\u001b]8;id=674444;https://tidy3d.simulation.cloud/workbench?taskId=fdve-170ed170-e083-49f0-9cc1-a4f72928d6fa\u001b\\\u001b[32m=\u001b[0m\u001b]8;;\u001b\\\u001b]8;id=476217;https://tidy3d.simulation.cloud/workbench?taskId=fdve-170ed170-e083-49f0-9cc1-a4f72928d6fa\u001b\\\u001b[32mfdve\u001b[0m\u001b]8;;\u001b\\\u001b]8;id=674444;https://tidy3d.simulation.cloud/workbench?taskId=fdve-170ed170-e083-49f0-9cc1-a4f72928d6fa\u001b\\\u001b[32m-170ed170-e08\u001b[0m\u001b]8;;\u001b\\\n",
       "\u001b[2;36m             \u001b[0m\u001b]8;id=674444;https://tidy3d.simulation.cloud/workbench?taskId=fdve-170ed170-e083-49f0-9cc1-a4f72928d6fa\u001b\\\u001b[32m3-49f0-9cc1-a4f72928d6fa'\u001b[0m\u001b]8;;\u001b\\.                                         \n"
      ]
     },
     "metadata": {},
     "output_type": "display_data"
    },
    {
     "data": {
      "application/vnd.jupyter.widget-view+json": {
       "model_id": "4ff2d223e74e486ab95713bd03453284",
       "version_major": 2,
       "version_minor": 0
      },
      "text/plain": [
       "Output()"
      ]
     },
     "metadata": {},
     "output_type": "display_data"
    },
    {
     "data": {
      "text/html": [
       "<pre style=\"white-space:pre;overflow-x:auto;line-height:normal;font-family:Menlo,'DejaVu Sans Mono',consolas,'Courier New',monospace\"></pre>\n"
      ],
      "text/plain": []
     },
     "metadata": {},
     "output_type": "display_data"
    },
    {
     "data": {
      "text/html": [
       "<pre style=\"white-space:pre;overflow-x:auto;line-height:normal;font-family:Menlo,'DejaVu Sans Mono',consolas,'Courier New',monospace\">\n",
       "</pre>\n"
      ],
      "text/plain": [
       "\n"
      ]
     },
     "metadata": {},
     "output_type": "display_data"
    },
    {
     "data": {
      "text/html": [
       "<pre style=\"white-space:pre;overflow-x:auto;line-height:normal;font-family:Menlo,'DejaVu Sans Mono',consolas,'Courier New',monospace\"><span style=\"color: #7fbfbf; text-decoration-color: #7fbfbf\">19:49:44 PST </span>status = queued                                                    \n",
       "</pre>\n"
      ],
      "text/plain": [
       "\u001b[2;36m19:49:44 PST\u001b[0m\u001b[2;36m \u001b[0mstatus = queued                                                    \n"
      ]
     },
     "metadata": {},
     "output_type": "display_data"
    },
    {
     "data": {
      "application/vnd.jupyter.widget-view+json": {
       "model_id": "393db407189c4235810d8e5df0dca67c",
       "version_major": 2,
       "version_minor": 0
      },
      "text/plain": [
       "Output()"
      ]
     },
     "metadata": {},
     "output_type": "display_data"
    },
    {
     "data": {
      "text/html": [
       "<pre style=\"white-space:pre;overflow-x:auto;line-height:normal;font-family:Menlo,'DejaVu Sans Mono',consolas,'Courier New',monospace\"><span style=\"color: #7fbfbf; text-decoration-color: #7fbfbf\">19:49:48 PST </span>status = preprocess                                                \n",
       "</pre>\n"
      ],
      "text/plain": [
       "\u001b[2;36m19:49:48 PST\u001b[0m\u001b[2;36m \u001b[0mstatus = preprocess                                                \n"
      ]
     },
     "metadata": {},
     "output_type": "display_data"
    },
    {
     "data": {
      "text/html": [
       "<pre style=\"white-space:pre;overflow-x:auto;line-height:normal;font-family:Menlo,'DejaVu Sans Mono',consolas,'Courier New',monospace\"></pre>\n"
      ],
      "text/plain": []
     },
     "metadata": {},
     "output_type": "display_data"
    },
    {
     "data": {
      "text/html": [
       "<pre style=\"white-space:pre;overflow-x:auto;line-height:normal;font-family:Menlo,'DejaVu Sans Mono',consolas,'Courier New',monospace\"><span style=\"color: #7fbfbf; text-decoration-color: #7fbfbf\">19:49:49 PST </span>Maximum FlexCredit cost: <span style=\"color: #008080; text-decoration-color: #008080; font-weight: bold\">0.025</span>. Use <span style=\"color: #008000; text-decoration-color: #008000\">'web.real_cost(task_id)'</span> to get\n",
       "<span style=\"color: #7fbfbf; text-decoration-color: #7fbfbf\">             </span>the billed FlexCredit cost after a simulation run.                 \n",
       "</pre>\n"
      ],
      "text/plain": [
       "\u001b[2;36m19:49:49 PST\u001b[0m\u001b[2;36m \u001b[0mMaximum FlexCredit cost: \u001b[1;36m0.025\u001b[0m. Use \u001b[32m'web.real_cost\u001b[0m\u001b[32m(\u001b[0m\u001b[32mtask_id\u001b[0m\u001b[32m)\u001b[0m\u001b[32m'\u001b[0m to get\n",
       "\u001b[2;36m             \u001b[0mthe billed FlexCredit cost after a simulation run.                 \n"
      ]
     },
     "metadata": {},
     "output_type": "display_data"
    },
    {
     "data": {
      "text/html": [
       "<pre style=\"white-space:pre;overflow-x:auto;line-height:normal;font-family:Menlo,'DejaVu Sans Mono',consolas,'Courier New',monospace\"><span style=\"color: #7fbfbf; text-decoration-color: #7fbfbf\">             </span>starting up solver                                                 \n",
       "</pre>\n"
      ],
      "text/plain": [
       "\u001b[2;36m            \u001b[0m\u001b[2;36m \u001b[0mstarting up solver                                                 \n"
      ]
     },
     "metadata": {},
     "output_type": "display_data"
    },
    {
     "data": {
      "text/html": [
       "<pre style=\"white-space:pre;overflow-x:auto;line-height:normal;font-family:Menlo,'DejaVu Sans Mono',consolas,'Courier New',monospace\"><span style=\"color: #7fbfbf; text-decoration-color: #7fbfbf\">             </span>running solver                                                     \n",
       "</pre>\n"
      ],
      "text/plain": [
       "\u001b[2;36m            \u001b[0m\u001b[2;36m \u001b[0mrunning solver                                                     \n"
      ]
     },
     "metadata": {},
     "output_type": "display_data"
    },
    {
     "data": {
      "text/html": [
       "<pre style=\"white-space:pre;overflow-x:auto;line-height:normal;font-family:Menlo,'DejaVu Sans Mono',consolas,'Courier New',monospace\"><span style=\"color: #7fbfbf; text-decoration-color: #7fbfbf\">             </span>To cancel the simulation, use <span style=\"color: #008000; text-decoration-color: #008000\">'web.abort(task_id)'</span> or              \n",
       "<span style=\"color: #7fbfbf; text-decoration-color: #7fbfbf\">             </span><span style=\"color: #008000; text-decoration-color: #008000\">'web.delete(task_id)'</span> or abort/delete the task in the web UI.      \n",
       "<span style=\"color: #7fbfbf; text-decoration-color: #7fbfbf\">             </span>Terminating the Python script will not stop the job running on the \n",
       "<span style=\"color: #7fbfbf; text-decoration-color: #7fbfbf\">             </span>cloud.                                                             \n",
       "</pre>\n"
      ],
      "text/plain": [
       "\u001b[2;36m            \u001b[0m\u001b[2;36m \u001b[0mTo cancel the simulation, use \u001b[32m'web.abort\u001b[0m\u001b[32m(\u001b[0m\u001b[32mtask_id\u001b[0m\u001b[32m)\u001b[0m\u001b[32m'\u001b[0m or              \n",
       "\u001b[2;36m             \u001b[0m\u001b[32m'web.delete\u001b[0m\u001b[32m(\u001b[0m\u001b[32mtask_id\u001b[0m\u001b[32m)\u001b[0m\u001b[32m'\u001b[0m or abort/delete the task in the web UI.      \n",
       "\u001b[2;36m             \u001b[0mTerminating the Python script will not stop the job running on the \n",
       "\u001b[2;36m             \u001b[0mcloud.                                                             \n"
      ]
     },
     "metadata": {},
     "output_type": "display_data"
    },
    {
     "data": {
      "application/vnd.jupyter.widget-view+json": {
       "model_id": "c876eb38e4004e1dac1a0b062373c9bb",
       "version_major": 2,
       "version_minor": 0
      },
      "text/plain": [
       "Output()"
      ]
     },
     "metadata": {},
     "output_type": "display_data"
    },
    {
     "data": {
      "text/html": [
       "<pre style=\"white-space:pre;overflow-x:auto;line-height:normal;font-family:Menlo,'DejaVu Sans Mono',consolas,'Courier New',monospace\"><span style=\"color: #7fbfbf; text-decoration-color: #7fbfbf\">19:49:56 PST </span>early shutoff detected at <span style=\"color: #008080; text-decoration-color: #008080; font-weight: bold\">12</span>%, exiting.                            \n",
       "</pre>\n"
      ],
      "text/plain": [
       "\u001b[2;36m19:49:56 PST\u001b[0m\u001b[2;36m \u001b[0mearly shutoff detected at \u001b[1;36m12\u001b[0m%, exiting.                            \n"
      ]
     },
     "metadata": {},
     "output_type": "display_data"
    },
    {
     "data": {
      "text/html": [
       "<pre style=\"white-space:pre;overflow-x:auto;line-height:normal;font-family:Menlo,'DejaVu Sans Mono',consolas,'Courier New',monospace\"></pre>\n"
      ],
      "text/plain": []
     },
     "metadata": {},
     "output_type": "display_data"
    },
    {
     "data": {
      "text/html": [
       "<pre style=\"white-space:pre;overflow-x:auto;line-height:normal;font-family:Menlo,'DejaVu Sans Mono',consolas,'Courier New',monospace\">\n",
       "</pre>\n"
      ],
      "text/plain": [
       "\n"
      ]
     },
     "metadata": {},
     "output_type": "display_data"
    },
    {
     "data": {
      "text/html": [
       "<pre style=\"white-space:pre;overflow-x:auto;line-height:normal;font-family:Menlo,'DejaVu Sans Mono',consolas,'Courier New',monospace\"><span style=\"color: #7fbfbf; text-decoration-color: #7fbfbf\">             </span>status = postprocess                                               \n",
       "</pre>\n"
      ],
      "text/plain": [
       "\u001b[2;36m            \u001b[0m\u001b[2;36m \u001b[0mstatus = postprocess                                               \n"
      ]
     },
     "metadata": {},
     "output_type": "display_data"
    },
    {
     "data": {
      "application/vnd.jupyter.widget-view+json": {
       "model_id": "1fba144e3bcc421b882aec093c6a15af",
       "version_major": 2,
       "version_minor": 0
      },
      "text/plain": [
       "Output()"
      ]
     },
     "metadata": {},
     "output_type": "display_data"
    },
    {
     "data": {
      "text/html": [
       "<pre style=\"white-space:pre;overflow-x:auto;line-height:normal;font-family:Menlo,'DejaVu Sans Mono',consolas,'Courier New',monospace\"><span style=\"color: #7fbfbf; text-decoration-color: #7fbfbf\">19:50:00 PST </span>status = success                                                   \n",
       "</pre>\n"
      ],
      "text/plain": [
       "\u001b[2;36m19:50:00 PST\u001b[0m\u001b[2;36m \u001b[0mstatus = success                                                   \n"
      ]
     },
     "metadata": {},
     "output_type": "display_data"
    },
    {
     "data": {
      "text/html": [
       "<pre style=\"white-space:pre;overflow-x:auto;line-height:normal;font-family:Menlo,'DejaVu Sans Mono',consolas,'Courier New',monospace\"></pre>\n"
      ],
      "text/plain": []
     },
     "metadata": {},
     "output_type": "display_data"
    },
    {
     "data": {
      "text/html": [
       "<pre style=\"white-space:pre;overflow-x:auto;line-height:normal;font-family:Menlo,'DejaVu Sans Mono',consolas,'Courier New',monospace\"><span style=\"color: #7fbfbf; text-decoration-color: #7fbfbf\">             </span>View simulation result at                                          \n",
       "<span style=\"color: #7fbfbf; text-decoration-color: #7fbfbf\">             </span><a href=\"https://tidy3d.simulation.cloud/workbench?taskId=fdve-170ed170-e083-49f0-9cc1-a4f72928d6fa\" target=\"_blank\"><span style=\"color: #000080; text-decoration-color: #000080; text-decoration: underline\">'https://tidy3d.simulation.cloud/workbench?taskId=fdve-170ed170-e08</span></a>\n",
       "<span style=\"color: #7fbfbf; text-decoration-color: #7fbfbf\">             </span><a href=\"https://tidy3d.simulation.cloud/workbench?taskId=fdve-170ed170-e083-49f0-9cc1-a4f72928d6fa\" target=\"_blank\"><span style=\"color: #000080; text-decoration-color: #000080; text-decoration: underline\">3-49f0-9cc1-a4f72928d6fa'</span></a><span style=\"color: #000080; text-decoration-color: #000080; text-decoration: underline\">.</span>                                         \n",
       "</pre>\n"
      ],
      "text/plain": [
       "\u001b[2;36m            \u001b[0m\u001b[2;36m \u001b[0mView simulation result at                                          \n",
       "\u001b[2;36m             \u001b[0m\u001b]8;id=662928;https://tidy3d.simulation.cloud/workbench?taskId=fdve-170ed170-e083-49f0-9cc1-a4f72928d6fa\u001b\\\u001b[4;34m'https://tidy3d.simulation.cloud/workbench?\u001b[0m\u001b]8;;\u001b\\\u001b]8;id=257308;https://tidy3d.simulation.cloud/workbench?taskId=fdve-170ed170-e083-49f0-9cc1-a4f72928d6fa\u001b\\\u001b[4;34mtaskId\u001b[0m\u001b]8;;\u001b\\\u001b]8;id=662928;https://tidy3d.simulation.cloud/workbench?taskId=fdve-170ed170-e083-49f0-9cc1-a4f72928d6fa\u001b\\\u001b[4;34m=\u001b[0m\u001b]8;;\u001b\\\u001b]8;id=417756;https://tidy3d.simulation.cloud/workbench?taskId=fdve-170ed170-e083-49f0-9cc1-a4f72928d6fa\u001b\\\u001b[4;34mfdve\u001b[0m\u001b]8;;\u001b\\\u001b]8;id=662928;https://tidy3d.simulation.cloud/workbench?taskId=fdve-170ed170-e083-49f0-9cc1-a4f72928d6fa\u001b\\\u001b[4;34m-170ed170-e08\u001b[0m\u001b]8;;\u001b\\\n",
       "\u001b[2;36m             \u001b[0m\u001b]8;id=662928;https://tidy3d.simulation.cloud/workbench?taskId=fdve-170ed170-e083-49f0-9cc1-a4f72928d6fa\u001b\\\u001b[4;34m3-49f0-9cc1-a4f72928d6fa'\u001b[0m\u001b]8;;\u001b\\\u001b[4;34m.\u001b[0m                                         \n"
      ]
     },
     "metadata": {},
     "output_type": "display_data"
    },
    {
     "data": {
      "application/vnd.jupyter.widget-view+json": {
       "model_id": "5991bdc0f6c24cb5972d0a4657a599c5",
       "version_major": 2,
       "version_minor": 0
      },
      "text/plain": [
       "Output()"
      ]
     },
     "metadata": {},
     "output_type": "display_data"
    },
    {
     "data": {
      "text/html": [
       "<pre style=\"white-space:pre;overflow-x:auto;line-height:normal;font-family:Menlo,'DejaVu Sans Mono',consolas,'Courier New',monospace\"></pre>\n"
      ],
      "text/plain": []
     },
     "metadata": {},
     "output_type": "display_data"
    },
    {
     "data": {
      "text/html": [
       "<pre style=\"white-space:pre;overflow-x:auto;line-height:normal;font-family:Menlo,'DejaVu Sans Mono',consolas,'Courier New',monospace\">\n",
       "</pre>\n"
      ],
      "text/plain": [
       "\n"
      ]
     },
     "metadata": {},
     "output_type": "display_data"
    },
    {
     "data": {
      "text/html": [
       "<pre style=\"white-space:pre;overflow-x:auto;line-height:normal;font-family:Menlo,'DejaVu Sans Mono',consolas,'Courier New',monospace\"><span style=\"color: #7fbfbf; text-decoration-color: #7fbfbf\">19:50:01 PST </span>loading simulation from simulation_data.hdf5                       \n",
       "</pre>\n"
      ],
      "text/plain": [
       "\u001b[2;36m19:50:01 PST\u001b[0m\u001b[2;36m \u001b[0mloading simulation from simulation_data.hdf5                       \n"
      ]
     },
     "metadata": {},
     "output_type": "display_data"
    },
    {
     "data": {
      "text/html": [
       "<pre style=\"white-space:pre;overflow-x:auto;line-height:normal;font-family:Menlo,'DejaVu Sans Mono',consolas,'Courier New',monospace\"><span style=\"color: #7fbfbf; text-decoration-color: #7fbfbf\">19:50:02 PST </span><span style=\"color: #800000; text-decoration-color: #800000\">WARNING: Monitor data requires </span><span style=\"color: #008000; text-decoration-color: #008000\">'grid_expanded'</span><span style=\"color: #800000; text-decoration-color: #800000\"> to be defined to    </span>\n",
       "<span style=\"color: #7fbfbf; text-decoration-color: #7fbfbf\">             </span><span style=\"color: #800000; text-decoration-color: #800000\">compute values like flux, Poynting and dot product with other data.</span>\n",
       "</pre>\n"
      ],
      "text/plain": [
       "\u001b[2;36m19:50:02 PST\u001b[0m\u001b[2;36m \u001b[0m\u001b[31mWARNING: Monitor data requires \u001b[0m\u001b[32m'grid_expanded'\u001b[0m\u001b[31m to be defined to    \u001b[0m\n",
       "\u001b[2;36m             \u001b[0m\u001b[31mcompute values like flux, Poynting and dot product with other data.\u001b[0m\n"
      ]
     },
     "metadata": {},
     "output_type": "display_data"
    }
   ],
   "source": [
    "sim_data_final = web.run(sim_final, task_name=\"inv_des_final\")"
   ]
  },
  {
   "cell_type": "markdown",
   "id": "6840c1ae-bd2a-470f-9875-cb05759d2df5",
   "metadata": {},
   "source": [
    "We notice that the behavior is as expected and the device performs exactly how we intended!"
   ]
  },
  {
   "cell_type": "code",
   "execution_count": 25,
   "id": "0a28c766-f877-4760-a0f5-ba7851d1759a",
   "metadata": {
    "execution": {
     "iopub.execute_input": "2024-02-20T03:50:02.355054Z",
     "iopub.status.busy": "2024-02-20T03:50:02.354908Z",
     "iopub.status.idle": "2024-02-20T03:50:05.029357Z",
     "shell.execute_reply": "2024-02-20T03:50:05.028720Z"
    },
    "tags": []
   },
   "outputs": [
    {
     "data": {
      "image/png": "[encoded data removed]",
      "text/plain": [
       "<Figure size 1200x300 with 6 Axes>"
      ]
     },
     "metadata": {},
     "output_type": "display_data"
    }
   ],
   "source": [
    "f, (ax0, ax1, ax2) = plt.subplots(1, 3, figsize=(12, 3), tight_layout=True)\n",
    "sim_final.plot_eps(z=0.01, ax=ax0)\n",
    "ax1 = sim_data_final.plot_field(\"field_mnt\", \"Ez\", z=0, ax=ax1)\n",
    "ax2 = sim_data_final.plot_field(\"field_mnt\", \"E\", \"abs^2\", z=0, ax=ax2)"
   ]
  },
  {
   "cell_type": "markdown",
   "id": "104d7469-8489-44d2-8a60-d5b813c6331b",
   "metadata": {},
   "source": [
    "The final device converts more than 90% of the input power to the 1st mode, up from < 1% when we started."
   ]
  },
  {
   "cell_type": "code",
   "execution_count": 26,
   "id": "ebd825e4-6dfe-4836-940c-cf9bd491522a",
   "metadata": {
    "execution": {
     "iopub.execute_input": "2024-02-20T03:50:05.034565Z",
     "iopub.status.busy": "2024-02-20T03:50:05.034372Z",
     "iopub.status.idle": "2024-02-20T03:50:05.065445Z",
     "shell.execute_reply": "2024-02-20T03:50:05.064842Z"
    }
   },
   "outputs": [
    {
     "data": {
      "text/html": [
       "<pre style=\"white-space:pre;overflow-x:auto;line-height:normal;font-family:Menlo,'DejaVu Sans Mono',consolas,'Courier New',monospace\"><span style=\"color: #7fbfbf; text-decoration-color: #7fbfbf\">19:50:05 PST </span><span style=\"color: #800000; text-decoration-color: #800000\">WARNING: Monitor data requires </span><span style=\"color: #008000; text-decoration-color: #008000\">'grid_expanded'</span><span style=\"color: #800000; text-decoration-color: #800000\"> to be defined to    </span>\n",
       "<span style=\"color: #7fbfbf; text-decoration-color: #7fbfbf\">             </span><span style=\"color: #800000; text-decoration-color: #800000\">compute values like flux, Poynting and dot product with other data.</span>\n",
       "</pre>\n"
      ],
      "text/plain": [
       "\u001b[2;36m19:50:05 PST\u001b[0m\u001b[2;36m \u001b[0m\u001b[31mWARNING: Monitor data requires \u001b[0m\u001b[32m'grid_expanded'\u001b[0m\u001b[31m to be defined to    \u001b[0m\n",
       "\u001b[2;36m             \u001b[0m\u001b[31mcompute values like flux, Poynting and dot product with other data.\u001b[0m\n"
      ]
     },
     "metadata": {},
     "output_type": "display_data"
    },
    {
     "name": "stdout",
     "output_type": "stream",
     "text": [
      "Final power conversion = 96.06%\n"
     ]
    }
   ],
   "source": [
    "final_power = sim_data_final[\"measurement\"].amps.sel(direction=\"+\", f=freq0, mode_index=mode_index_out).abs**2\n",
    "print(f\"Final power conversion = {final_power*100:.2f}%\")"
   ]
  },
  {
   "cell_type": "markdown",
   "id": "eb6d530a",
   "metadata": {},
   "source": [
    "## Export to GDS\n",
    "The `Simulation` object has the [.to_gds_file](https://docs.flexcompute.com/projects/tidy3d/en/latest/_autosummary/tidy3d.Simulation.html#tidy3d.Simulation.to_gds_file) convenience function to export the final design to a `GDS` file. In addition to a file name, it is necessary to set a cross-sectional plane (`z = 0` in this case) on which to evaluate the geometry, a `frequency` to evaluate the permittivity, and a `permittivity_threshold` to define the shape boundaries in custom mediums. See the [GDS export](https://www.flexcompute.com/tidy3d/examples/notebooks/GDSExport/) notebook for a detailed example on using `.to_gds_file` and other GDS related functions."
   ]
  },
  {
   "cell_type": "code",
   "execution_count": 27,
   "id": "69afad7b-33ff-4a06-81bb-1c3bdbc50b6b",
   "metadata": {
    "execution": {
     "iopub.execute_input": "2024-02-20T03:50:05.068900Z",
     "iopub.status.busy": "2024-02-20T03:50:05.068721Z",
     "iopub.status.idle": "2024-02-20T03:50:05.115205Z",
     "shell.execute_reply": "2024-02-20T03:50:05.114635Z"
    }
   },
   "outputs": [],
   "source": [
    "sim_final.to_gds_file(\n",
    "    fname=\"./misc/inv_des_mode_conv.gds\", \n",
    "    z=0, \n",
    "    frequency=freq0, \n",
    "    permittivity_threshold=2.6\n",
    ")"
   ]
  }
 ],
 "metadata": {
  "description": "This notebook demonstrates how to perform inverse design optimization of an optical mode converter in Tidy3D FDTD.",
  "feature_image": "",
  "kernelspec": {
   "display_name": "Python 3 (ipykernel)",
   "language": "python",
   "name": "python3"
  },
  "keywords": "inverse design, adjoint optimization, optical mode converter, Tidy3D, FDTD",
  "language_info": {
   "codemirror_mode": {
    "name": "ipython",
    "version": 3
   },
   "file_extension": ".py",
   "mimetype": "text/x-python",
   "name": "python",
   "nbconvert_exporter": "python",
   "pygments_lexer": "ipython3",
   "version": "3.10.13"
  },
  "nbdime-conflicts": {
   "local_diff": [
    {
     "diff": [
      {
       "diff": [
        {
         "key": 0,
         "length": 1,
         "op": "removerange"
        }
       ],
       "key": "version",
       "op": "patch"
      }
     ],
     "key": "language_info",
     "op": "patch"
    }
   ],
   "remote_diff": [
    {
     "diff": [
      {
       "diff": [
        {
         "diff": [
          {
           "key": 5,
           "op": "addrange",
           "valuelist": "9"
          },
          {
           "key": 5,
           "length": 1,
           "op": "removerange"
          }
         ],
         "key": 0,
         "op": "patch"
        }
       ],
       "key": "version",
       "op": "patch"
      }
     ],
     "key": "language_info",
     "op": "patch"
    }
   ]
  },
  "title": "Inverse Design of a Mode Converter | Flexcompute",
  "widgets": {
   "application/vnd.jupyter.widget-state+json": {
    "state": {
     "0216d3faa8a742c0a8da913003a7e87a": {
      "model_module": "@jupyter-widgets/output",
      "model_module_version": "1.0.0",
      "model_name": "OutputModel",
      "state": {
       "_dom_classes": [],
       "_model_module": "@jupyter-widgets/output",
       "_model_module_version": "1.0.0",
       "_model_name": "OutputModel",
       "_view_count": null,
       "_view_module": "@jupyter-widgets/output",
       "_view_module_version": "1.0.0",
       "_view_name": "OutputView",
       "layout": "IPY_MODEL_2e821920a3fe4c7b951a77a4473b2071",
       "msg_id": "",
       "outputs": [
        {
         "data": {
          "text/html": "<pre style=\"white-space:pre;overflow-x:auto;line-height:normal;font-family:Menlo,'DejaVu Sans Mono',consolas,'Courier New',monospace\"><span style=\"color: #800000; text-decoration-color: #800000; font-weight: bold\">↑</span> <span style=\"color: #000080; text-decoration-color: #000080; font-weight: bold\">simulation.hdf5.gz</span> <span style=\"color: #729c1f; text-decoration-color: #729c1f\">━━━━━━━━━━━━━━━━━━</span> <span style=\"color: #800080; text-decoration-color: #800080\">100.0%</span> • <span style=\"color: #008000; text-decoration-color: #008000\">1.4/1.4 MB</span> • <span style=\"color: #800000; text-decoration-color: #800000\">5.3 MB/s</span> • <span style=\"color: #008080; text-decoration-color: #008080\">0:00:00</span>\n</pre>\n",
          "text/plain": "\u001b[1;31m↑\u001b[0m \u001b[1;34msimulation.hdf5.gz\u001b[0m \u001b[38;2;114;156;31m━━━━━━━━━━━━━━━━━━\u001b[0m \u001b[35m100.0%\u001b[0m • \u001b[32m1.4/1.4 MB\u001b[0m • \u001b[31m5.3 MB/s\u001b[0m • \u001b[36m0:00:00\u001b[0m\n"
         },
         "metadata": {},
         "output_type": "display_data"
        }
       ],
       "tabbable": null,
       "tooltip": null
      }
     },
     "156999735e2242af8c49dbb58fa54dc8": {
      "model_module": "@jupyter-widgets/output",
      "model_module_version": "1.0.0",
      "model_name": "OutputModel",
      "state": {
       "_dom_classes": [],
       "_model_module": "@jupyter-widgets/output",
       "_model_module_version": "1.0.0",
       "_model_name": "OutputModel",
       "_view_count": null,
       "_view_module": "@jupyter-widgets/output",
       "_view_module_version": "1.0.0",
       "_view_name": "OutputView",
       "layout": "IPY_MODEL_370bf941c7dc48f0a7081e41f10511e8",
       "msg_id": "",
       "outputs": [
        {
         "data": {
          "text/html": "<pre style=\"white-space:pre;overflow-x:auto;line-height:normal;font-family:Menlo,'DejaVu Sans Mono',consolas,'Courier New',monospace\"><span style=\"color: #008000; text-decoration-color: #008000\">🏃 </span> <span style=\"color: #008000; text-decoration-color: #008000; font-weight: bold\">Starting 'inv_des'...</span>\n</pre>\n",
          "text/plain": "\u001b[32m🏃 \u001b[0m \u001b[1;32mStarting 'inv_des'...\u001b[0m\n"
         },
         "metadata": {},
         "output_type": "display_data"
        }
       ],
       "tabbable": null,
       "tooltip": null
      }
     },
     "1fba144e3bcc421b882aec093c6a15af": {
      "model_module": "@jupyter-widgets/output",
      "model_module_version": "1.0.0",
      "model_name": "OutputModel",
      "state": {
       "_dom_classes": [],
       "_model_module": "@jupyter-widgets/output",
       "_model_module_version": "1.0.0",
       "_model_name": "OutputModel",
       "_view_count": null,
       "_view_module": "@jupyter-widgets/output",
       "_view_module_version": "1.0.0",
       "_view_name": "OutputView",
       "layout": "IPY_MODEL_5757604da8554285bc8903ea403634cb",
       "msg_id": "",
       "outputs": [
        {
         "data": {
          "text/html": "<pre style=\"white-space:pre;overflow-x:auto;line-height:normal;font-family:Menlo,'DejaVu Sans Mono',consolas,'Courier New',monospace\"><span style=\"color: #008000; text-decoration-color: #008000\">🚶 </span> <span style=\"color: #008000; text-decoration-color: #008000; font-weight: bold\">Finishing 'inv_des_final'...</span>\n</pre>\n",
          "text/plain": "\u001b[32m🚶 \u001b[0m \u001b[1;32mFinishing 'inv_des_final'...\u001b[0m\n"
         },
         "metadata": {},
         "output_type": "display_data"
        }
       ],
       "tabbable": null,
       "tooltip": null
      }
     },
     "212a32db6dea4350bbd7a827111655c1": {
      "model_module": "@jupyter-widgets/output",
      "model_module_version": "1.0.0",
      "model_name": "OutputModel",
      "state": {
       "_dom_classes": [],
       "_model_module": "@jupyter-widgets/output",
       "_model_module_version": "1.0.0",
       "_model_name": "OutputModel",
       "_view_count": null,
       "_view_module": "@jupyter-widgets/output",
       "_view_module_version": "1.0.0",
       "_view_name": "OutputView",
       "layout": "IPY_MODEL_bb146d054f6a42339689516d2dd97a58",
       "msg_id": "",
       "outputs": [
        {
         "data": {
          "text/html": "<pre style=\"white-space:pre;overflow-x:auto;line-height:normal;font-family:Menlo,'DejaVu Sans Mono',consolas,'Courier New',monospace\"><span style=\"color: #008000; text-decoration-color: #008000\">🚶 </span> <span style=\"color: #008000; text-decoration-color: #008000; font-weight: bold\">Starting 'inv_des_adj'...</span>\n</pre>\n",
          "text/plain": "\u001b[32m🚶 \u001b[0m \u001b[1;32mStarting 'inv_des_adj'...\u001b[0m\n"
         },
         "metadata": {},
         "output_type": "display_data"
        }
       ],
       "tabbable": null,
       "tooltip": null
      }
     },
     "29cb8a37c40f4aa4aeecde5537d0e5be": {
      "model_module": "@jupyter-widgets/base",
      "model_module_version": "2.0.0",
      "model_name": "LayoutModel",
      "state": {
       "_model_module": "@jupyter-widgets/base",
       "_model_module_version": "2.0.0",
       "_model_name": "LayoutModel",
       "_view_count": null,
       "_view_module": "@jupyter-widgets/base",
       "_view_module_version": "2.0.0",
       "_view_name": "LayoutView",
       "align_content": null,
       "align_items": null,
       "align_self": null,
       "border_bottom": null,
       "border_left": null,
       "border_right": null,
       "border_top": null,
       "bottom": null,
       "display": null,
       "flex": null,
       "flex_flow": null,
       "grid_area": null,
       "grid_auto_columns": null,
       "grid_auto_flow": null,
       "grid_auto_rows": null,
       "grid_column": null,
       "grid_gap": null,
       "grid_row": null,
       "grid_template_areas": null,
       "grid_template_columns": null,
       "grid_template_rows": null,
       "height": null,
       "justify_content": null,
       "justify_items": null,
       "left": null,
       "margin": null,
       "max_height": null,
       "max_width": null,
       "min_height": null,
       "min_width": null,
       "object_fit": null,
       "object_position": null,
       "order": null,
       "overflow": null,
       "padding": null,
       "right": null,
       "top": null,
       "visibility": null,
       "width": null
      }
     },
     "2b23a93ab01647549633b26dd2e805d2": {
      "model_module": "@jupyter-widgets/output",
      "model_module_version": "1.0.0",
      "model_name": "OutputModel",
      "state": {
       "_dom_classes": [],
       "_model_module": "@jupyter-widgets/output",
       "_model_module_version": "1.0.0",
       "_model_name": "OutputModel",
       "_view_count": null,
       "_view_module": "@jupyter-widgets/output",
       "_view_module_version": "1.0.0",
       "_view_name": "OutputView",
       "layout": "IPY_MODEL_81de7158f6424367b09de3bc0584f584",
       "msg_id": "",
       "outputs": [
        {
         "data": {
          "text/html": "<pre style=\"white-space:pre;overflow-x:auto;line-height:normal;font-family:Menlo,'DejaVu Sans Mono',consolas,'Courier New',monospace\"><span style=\"color: #008000; text-decoration-color: #008000\">🏃 </span> <span style=\"color: #008000; text-decoration-color: #008000; font-weight: bold\">Finishing 'inv_des'...</span>\n</pre>\n",
          "text/plain": "\u001b[32m🏃 \u001b[0m \u001b[1;32mFinishing 'inv_des'...\u001b[0m\n"
         },
         "metadata": {},
         "output_type": "display_data"
        }
       ],
       "tabbable": null,
       "tooltip": null
      }
     },
     "2e821920a3fe4c7b951a77a4473b2071": {
      "model_module": "@jupyter-widgets/base",
      "model_module_version": "2.0.0",
      "model_name": "LayoutModel",
      "state": {
       "_model_module": "@jupyter-widgets/base",
       "_model_module_version": "2.0.0",
       "_model_name": "LayoutModel",
       "_view_count": null,
       "_view_module": "@jupyter-widgets/base",
       "_view_module_version": "2.0.0",
       "_view_name": "LayoutView",
       "align_content": null,
       "align_items": null,
       "align_self": null,
       "border_bottom": null,
       "border_left": null,
       "border_right": null,
       "border_top": null,
       "bottom": null,
       "display": null,
       "flex": null,
       "flex_flow": null,
       "grid_area": null,
       "grid_auto_columns": null,
       "grid_auto_flow": null,
       "grid_auto_rows": null,
       "grid_column": null,
       "grid_gap": null,
       "grid_row": null,
       "grid_template_areas": null,
       "grid_template_columns": null,
       "grid_template_rows": null,
       "height": null,
       "justify_content": null,
       "justify_items": null,
       "left": null,
       "margin": null,
       "max_height": null,
       "max_width": null,
       "min_height": null,
       "min_width": null,
       "object_fit": null,
       "object_position": null,
       "order": null,
       "overflow": null,
       "padding": null,
       "right": null,
       "top": null,
       "visibility": null,
       "width": null
      }
     },
     "34d9ffce80f647e9be6fb878e93a3574": {
      "model_module": "@jupyter-widgets/base",
      "model_module_version": "2.0.0",
      "model_name": "LayoutModel",
      "state": {
       "_model_module": "@jupyter-widgets/base",
       "_model_module_version": "2.0.0",
       "_model_name": "LayoutModel",
       "_view_count": null,
       "_view_module": "@jupyter-widgets/base",
       "_view_module_version": "2.0.0",
       "_view_name": "LayoutView",
       "align_content": null,
       "align_items": null,
       "align_self": null,
       "border_bottom": null,
       "border_left": null,
       "border_right": null,
       "border_top": null,
       "bottom": null,
       "display": null,
       "flex": null,
       "flex_flow": null,
       "grid_area": null,
       "grid_auto_columns": null,
       "grid_auto_flow": null,
       "grid_auto_rows": null,
       "grid_column": null,
       "grid_gap": null,
       "grid_row": null,
       "grid_template_areas": null,
       "grid_template_columns": null,
       "grid_template_rows": null,
       "height": null,
       "justify_content": null,
       "justify_items": null,
       "left": null,
       "margin": null,
       "max_height": null,
       "max_width": null,
       "min_height": null,
       "min_width": null,
       "object_fit": null,
       "object_position": null,
       "order": null,
       "overflow": null,
       "padding": null,
       "right": null,
       "top": null,
       "visibility": null,
       "width": null
      }
     },
     "370bf941c7dc48f0a7081e41f10511e8": {
      "model_module": "@jupyter-widgets/base",
      "model_module_version": "2.0.0",
      "model_name": "LayoutModel",
      "state": {
       "_model_module": "@jupyter-widgets/base",
       "_model_module_version": "2.0.0",
       "_model_name": "LayoutModel",
       "_view_count": null,
       "_view_module": "@jupyter-widgets/base",
       "_view_module_version": "2.0.0",
       "_view_name": "LayoutView",
       "align_content": null,
       "align_items": null,
       "align_self": null,
       "border_bottom": null,
       "border_left": null,
       "border_right": null,
       "border_top": null,
       "bottom": null,
       "display": null,
       "flex": null,
       "flex_flow": null,
       "grid_area": null,
       "grid_auto_columns": null,
       "grid_auto_flow": null,
       "grid_auto_rows": null,
       "grid_column": null,
       "grid_gap": null,
       "grid_row": null,
       "grid_template_areas": null,
       "grid_template_columns": null,
       "grid_template_rows": null,
       "height": null,
       "justify_content": null,
       "justify_items": null,
       "left": null,
       "margin": null,
       "max_height": null,
       "max_width": null,
       "min_height": null,
       "min_width": null,
       "object_fit": null,
       "object_position": null,
       "order": null,
       "overflow": null,
       "padding": null,
       "right": null,
       "top": null,
       "visibility": null,
       "width": null
      }
     },
     "393db407189c4235810d8e5df0dca67c": {
      "model_module": "@jupyter-widgets/output",
      "model_module_version": "1.0.0",
      "model_name": "OutputModel",
      "state": {
       "_dom_classes": [],
       "_model_module": "@jupyter-widgets/output",
       "_model_module_version": "1.0.0",
       "_model_name": "OutputModel",
       "_view_count": null,
       "_view_module": "@jupyter-widgets/output",
       "_view_module_version": "1.0.0",
       "_view_name": "OutputView",
       "layout": "IPY_MODEL_c1dcce520880492f9ed0db3ca1d7dc5d",
       "msg_id": "",
       "outputs": [
        {
         "data": {
          "text/html": "<pre style=\"white-space:pre;overflow-x:auto;line-height:normal;font-family:Menlo,'DejaVu Sans Mono',consolas,'Courier New',monospace\"><span style=\"color: #008000; text-decoration-color: #008000\">🏃 </span> <span style=\"color: #008000; text-decoration-color: #008000; font-weight: bold\">Starting 'inv_des_final'...</span>\n</pre>\n",
          "text/plain": "\u001b[32m🏃 \u001b[0m \u001b[1;32mStarting 'inv_des_final'...\u001b[0m\n"
         },
         "metadata": {},
         "output_type": "display_data"
        }
       ],
       "tabbable": null,
       "tooltip": null
      }
     },
     "3ca0233444d543ff9ac75a28aaa999d9": {
      "model_module": "@jupyter-widgets/base",
      "model_module_version": "2.0.0",
      "model_name": "LayoutModel",
      "state": {
       "_model_module": "@jupyter-widgets/base",
       "_model_module_version": "2.0.0",
       "_model_name": "LayoutModel",
       "_view_count": null,
       "_view_module": "@jupyter-widgets/base",
       "_view_module_version": "2.0.0",
       "_view_name": "LayoutView",
       "align_content": null,
       "align_items": null,
       "align_self": null,
       "border_bottom": null,
       "border_left": null,
       "border_right": null,
       "border_top": null,
       "bottom": null,
       "display": null,
       "flex": null,
       "flex_flow": null,
       "grid_area": null,
       "grid_auto_columns": null,
       "grid_auto_flow": null,
       "grid_auto_rows": null,
       "grid_column": null,
       "grid_gap": null,
       "grid_row": null,
       "grid_template_areas": null,
       "grid_template_columns": null,
       "grid_template_rows": null,
       "height": null,
       "justify_content": null,
       "justify_items": null,
       "left": null,
       "margin": null,
       "max_height": null,
       "max_width": null,
       "min_height": null,
       "min_width": null,
       "object_fit": null,
       "object_position": null,
       "order": null,
       "overflow": null,
       "padding": null,
       "right": null,
       "top": null,
       "visibility": null,
       "width": null
      }
     },
     "3d4dbebd3c024279b4d71bfbcd0d8938": {
      "model_module": "@jupyter-widgets/base",
      "model_module_version": "2.0.0",
      "model_name": "LayoutModel",
      "state": {
       "_model_module": "@jupyter-widgets/base",
       "_model_module_version": "2.0.0",
       "_model_name": "LayoutModel",
       "_view_count": null,
       "_view_module": "@jupyter-widgets/base",
       "_view_module_version": "2.0.0",
       "_view_name": "LayoutView",
       "align_content": null,
       "align_items": null,
       "align_self": null,
       "border_bottom": null,
       "border_left": null,
       "border_right": null,
       "border_top": null,
       "bottom": null,
       "display": null,
       "flex": null,
       "flex_flow": null,
       "grid_area": null,
       "grid_auto_columns": null,
       "grid_auto_flow": null,
       "grid_auto_rows": null,
       "grid_column": null,
       "grid_gap": null,
       "grid_row": null,
       "grid_template_areas": null,
       "grid_template_columns": null,
       "grid_template_rows": null,
       "height": null,
       "justify_content": null,
       "justify_items": null,
       "left": null,
       "margin": null,
       "max_height": null,
       "max_width": null,
       "min_height": null,
       "min_width": null,
       "object_fit": null,
       "object_position": null,
       "order": null,
       "overflow": null,
       "padding": null,
       "right": null,
       "top": null,
       "visibility": null,
       "width": null
      }
     },
     "4d2bc1fda32440f68ff1939c45325310": {
      "model_module": "@jupyter-widgets/output",
      "model_module_version": "1.0.0",
      "model_name": "OutputModel",
      "state": {
       "_dom_classes": [],
       "_model_module": "@jupyter-widgets/output",
       "_model_module_version": "1.0.0",
       "_model_name": "OutputModel",
       "_view_count": null,
       "_view_module": "@jupyter-widgets/output",
       "_view_module_version": "1.0.0",
       "_view_name": "OutputView",
       "layout": "IPY_MODEL_ed5dea374861496395db710f2be1e433",
       "msg_id": "",
       "outputs": [
        {
         "data": {
          "text/html": "<pre style=\"white-space:pre;overflow-x:auto;line-height:normal;font-family:Menlo,'DejaVu Sans Mono',consolas,'Courier New',monospace\"><span style=\"color: #800000; text-decoration-color: #800000; font-weight: bold\">↑</span> <span style=\"color: #000080; text-decoration-color: #000080; font-weight: bold\">simulation.hdf5.gz</span> <span style=\"color: #729c1f; text-decoration-color: #729c1f\">━━━━━━━━━━━━━━━━━━━━━━━━━</span> <span style=\"color: #800080; text-decoration-color: #800080\">100.0%</span> • <span style=\"color: #008000; text-decoration-color: #008000\">1.1/1.1 kB</span> • <span style=\"color: #800000; text-decoration-color: #800000\">?</span> • <span style=\"color: #008080; text-decoration-color: #008080\">0:00:00</span>\n</pre>\n",
          "text/plain": "\u001b[1;31m↑\u001b[0m \u001b[1;34msimulation.hdf5.gz\u001b[0m \u001b[38;2;114;156;31m━━━━━━━━━━━━━━━━━━━━━━━━━\u001b[0m \u001b[35m100.0%\u001b[0m • \u001b[32m1.1/1.1 kB\u001b[0m • \u001b[31m?\u001b[0m • \u001b[36m0:00:00\u001b[0m\n"
         },
         "metadata": {},
         "output_type": "display_data"
        }
       ],
       "tabbable": null,
       "tooltip": null
      }
     },
     "4ff2d223e74e486ab95713bd03453284": {
      "model_module": "@jupyter-widgets/output",
      "model_module_version": "1.0.0",
      "model_name": "OutputModel",
      "state": {
       "_dom_classes": [],
       "_model_module": "@jupyter-widgets/output",
       "_model_module_version": "1.0.0",
       "_model_name": "OutputModel",
       "_view_count": null,
       "_view_module": "@jupyter-widgets/output",
       "_view_module_version": "1.0.0",
       "_view_name": "OutputView",
       "layout": "IPY_MODEL_c80f5856de4f46af8ebbbac7eefbd2e1",
       "msg_id": "",
       "outputs": [
        {
         "data": {
          "text/html": "<pre style=\"white-space:pre;overflow-x:auto;line-height:normal;font-family:Menlo,'DejaVu Sans Mono',consolas,'Courier New',monospace\"><span style=\"color: #800000; text-decoration-color: #800000; font-weight: bold\">↑</span> <span style=\"color: #000080; text-decoration-color: #000080; font-weight: bold\">simulation.hdf5.gz</span> <span style=\"color: #729c1f; text-decoration-color: #729c1f\">━━━━━━━━━━━━━━</span> <span style=\"color: #800080; text-decoration-color: #800080\">100.0%</span> • <span style=\"color: #008000; text-decoration-color: #008000\">385.8/385.8 kB</span> • <span style=\"color: #800000; text-decoration-color: #800000\">1.0 MB/s</span> • <span style=\"color: #008080; text-decoration-color: #008080\">0:00:00</span>\n</pre>\n",
          "text/plain": "\u001b[1;31m↑\u001b[0m \u001b[1;34msimulation.hdf5.gz\u001b[0m \u001b[38;2;114;156;31m━━━━━━━━━━━━━━\u001b[0m \u001b[35m100.0%\u001b[0m • \u001b[32m385.8/385.8 kB\u001b[0m • \u001b[31m1.0 MB/s\u001b[0m • \u001b[36m0:00:00\u001b[0m\n"
         },
         "metadata": {},
         "output_type": "display_data"
        }
       ],
       "tabbable": null,
       "tooltip": null
      }
     },
     "51dedff6f9404dd2baa89b841ebaaa66": {
      "model_module": "@jupyter-widgets/output",
      "model_module_version": "1.0.0",
      "model_name": "OutputModel",
      "state": {
       "_dom_classes": [],
       "_model_module": "@jupyter-widgets/output",
       "_model_module_version": "1.0.0",
       "_model_name": "OutputModel",
       "_view_count": null,
       "_view_module": "@jupyter-widgets/output",
       "_view_module_version": "1.0.0",
       "_view_name": "OutputView",
       "layout": "IPY_MODEL_75659aa66d1e42599d88e1ef6623881e",
       "msg_id": "",
       "outputs": [
        {
         "data": {
          "text/html": "<pre style=\"white-space:pre;overflow-x:auto;line-height:normal;font-family:Menlo,'DejaVu Sans Mono',consolas,'Courier New',monospace\"><span style=\"color: #800000; text-decoration-color: #800000; font-weight: bold\">↑</span> <span style=\"color: #000080; text-decoration-color: #000080; font-weight: bold\">jax_info.json</span> <span style=\"color: #729c1f; text-decoration-color: #729c1f\">━━━━━━━━━━━━━━━━━━━━━━━━━━━</span> <span style=\"color: #800080; text-decoration-color: #800080\">100.0%</span> • <span style=\"color: #008000; text-decoration-color: #008000\">279/279 bytes</span> • <span style=\"color: #800000; text-decoration-color: #800000\">?</span> • <span style=\"color: #008080; text-decoration-color: #008080\">0:00:00</span>\n</pre>\n",
          "text/plain": "\u001b[1;31m↑\u001b[0m \u001b[1;34mjax_info.json\u001b[0m \u001b[38;2;114;156;31m━━━━━━━━━━━━━━━━━━━━━━━━━━━\u001b[0m \u001b[35m100.0%\u001b[0m • \u001b[32m279/279 bytes\u001b[0m • \u001b[31m?\u001b[0m • \u001b[36m0:00:00\u001b[0m\n"
         },
         "metadata": {},
         "output_type": "display_data"
        }
       ],
       "tabbable": null,
       "tooltip": null
      }
     },
     "53b57f3021d74919a154814343c174a7": {
      "model_module": "@jupyter-widgets/output",
      "model_module_version": "1.0.0",
      "model_name": "OutputModel",
      "state": {
       "_dom_classes": [],
       "_model_module": "@jupyter-widgets/output",
       "_model_module_version": "1.0.0",
       "_model_name": "OutputModel",
       "_view_count": null,
       "_view_module": "@jupyter-widgets/output",
       "_view_module_version": "1.0.0",
       "_view_name": "OutputView",
       "layout": "IPY_MODEL_7c2a0947dfd74d48a4e5933085dd5ee4",
       "msg_id": "",
       "outputs": [
        {
         "data": {
          "text/html": "<pre style=\"white-space:pre;overflow-x:auto;line-height:normal;font-family:Menlo,'DejaVu Sans Mono',consolas,'Courier New',monospace\"><span style=\"color: #800000; text-decoration-color: #800000; font-weight: bold\">↑</span> <span style=\"color: #000080; text-decoration-color: #000080; font-weight: bold\">mode_solver.hdf5.gz</span> <span style=\"color: #729c1f; text-decoration-color: #729c1f\">━━━━━━━━━━━━━━━━━━━━━━━━</span> <span style=\"color: #800080; text-decoration-color: #800080\">100.0%</span> • <span style=\"color: #008000; text-decoration-color: #008000\">1.3/1.3 kB</span> • <span style=\"color: #800000; text-decoration-color: #800000\">?</span> • <span style=\"color: #008080; text-decoration-color: #008080\">0:00:00</span>\n</pre>\n",
          "text/plain": "\u001b[1;31m↑\u001b[0m \u001b[1;34mmode_solver.hdf5.gz\u001b[0m \u001b[38;2;114;156;31m━━━━━━━━━━━━━━━━━━━━━━━━\u001b[0m \u001b[35m100.0%\u001b[0m • \u001b[32m1.3/1.3 kB\u001b[0m • \u001b[31m?\u001b[0m • \u001b[36m0:00:00\u001b[0m\n"
         },
         "metadata": {},
         "output_type": "display_data"
        }
       ],
       "tabbable": null,
       "tooltip": null
      }
     },
     "5757604da8554285bc8903ea403634cb": {
      "model_module": "@jupyter-widgets/base",
      "model_module_version": "2.0.0",
      "model_name": "LayoutModel",
      "state": {
       "_model_module": "@jupyter-widgets/base",
       "_model_module_version": "2.0.0",
       "_model_name": "LayoutModel",
       "_view_count": null,
       "_view_module": "@jupyter-widgets/base",
       "_view_module_version": "2.0.0",
       "_view_name": "LayoutView",
       "align_content": null,
       "align_items": null,
       "align_self": null,
       "border_bottom": null,
       "border_left": null,
       "border_right": null,
       "border_top": null,
       "bottom": null,
       "display": null,
       "flex": null,
       "flex_flow": null,
       "grid_area": null,
       "grid_auto_columns": null,
       "grid_auto_flow": null,
       "grid_auto_rows": null,
       "grid_column": null,
       "grid_gap": null,
       "grid_row": null,
       "grid_template_areas": null,
       "grid_template_columns": null,
       "grid_template_rows": null,
       "height": null,
       "justify_content": null,
       "justify_items": null,
       "left": null,
       "margin": null,
       "max_height": null,
       "max_width": null,
       "min_height": null,
       "min_width": null,
       "object_fit": null,
       "object_position": null,
       "order": null,
       "overflow": null,
       "padding": null,
       "right": null,
       "top": null,
       "visibility": null,
       "width": null
      }
     },
     "5991bdc0f6c24cb5972d0a4657a599c5": {
      "model_module": "@jupyter-widgets/output",
      "model_module_version": "1.0.0",
      "model_name": "OutputModel",
      "state": {
       "_dom_classes": [],
       "_model_module": "@jupyter-widgets/output",
       "_model_module_version": "1.0.0",
       "_model_name": "OutputModel",
       "_view_count": null,
       "_view_module": "@jupyter-widgets/output",
       "_view_module_version": "1.0.0",
       "_view_name": "OutputView",
       "layout": "IPY_MODEL_29cb8a37c40f4aa4aeecde5537d0e5be",
       "msg_id": "",
       "outputs": [
        {
         "data": {
          "text/html": "<pre style=\"white-space:pre;overflow-x:auto;line-height:normal;font-family:Menlo,'DejaVu Sans Mono',consolas,'Courier New',monospace\"><span style=\"color: #008000; text-decoration-color: #008000; font-weight: bold\">↓</span> <span style=\"color: #000080; text-decoration-color: #000080; font-weight: bold\">simulation_data.hdf5.gz</span> <span style=\"color: #729c1f; text-decoration-color: #729c1f\">━━━━━━━━━━━</span> <span style=\"color: #800080; text-decoration-color: #800080\">100.0%</span> • <span style=\"color: #008000; text-decoration-color: #008000\">10.0/10.0  </span> • <span style=\"color: #800000; text-decoration-color: #800000\">19.0 MB/s</span> • <span style=\"color: #008080; text-decoration-color: #008080\">0:00:00</span>\n                                               <span style=\"color: #008000; text-decoration-color: #008000\">MB         </span>                      \n</pre>\n",
          "text/plain": "\u001b[1;32m↓\u001b[0m \u001b[1;34msimulation_data.hdf5.gz\u001b[0m \u001b[38;2;114;156;31m━━━━━━━━━━━\u001b[0m \u001b[35m100.0%\u001b[0m • \u001b[32m10.0/10.0  \u001b[0m • \u001b[31m19.0 MB/s\u001b[0m • \u001b[36m0:00:00\u001b[0m\n                                               \u001b[32mMB         \u001b[0m                      \n"
         },
         "metadata": {},
         "output_type": "display_data"
        }
       ],
       "tabbable": null,
       "tooltip": null
      }
     },
     "5ef5e8a47e8b40c2aab12c9c69d3cd08": {
      "model_module": "@jupyter-widgets/base",
      "model_module_version": "2.0.0",
      "model_name": "LayoutModel",
      "state": {
       "_model_module": "@jupyter-widgets/base",
       "_model_module_version": "2.0.0",
       "_model_name": "LayoutModel",
       "_view_count": null,
       "_view_module": "@jupyter-widgets/base",
       "_view_module_version": "2.0.0",
       "_view_name": "LayoutView",
       "align_content": null,
       "align_items": null,
       "align_self": null,
       "border_bottom": null,
       "border_left": null,
       "border_right": null,
       "border_top": null,
       "bottom": null,
       "display": null,
       "flex": null,
       "flex_flow": null,
       "grid_area": null,
       "grid_auto_columns": null,
       "grid_auto_flow": null,
       "grid_auto_rows": null,
       "grid_column": null,
       "grid_gap": null,
       "grid_row": null,
       "grid_template_areas": null,
       "grid_template_columns": null,
       "grid_template_rows": null,
       "height": null,
       "justify_content": null,
       "justify_items": null,
       "left": null,
       "margin": null,
       "max_height": null,
       "max_width": null,
       "min_height": null,
       "min_width": null,
       "object_fit": null,
       "object_position": null,
       "order": null,
       "overflow": null,
       "padding": null,
       "right": null,
       "top": null,
       "visibility": null,
       "width": null
      }
     },
     "6636bf44fd0e4c1a872ee2b49b043d64": {
      "model_module": "@jupyter-widgets/base",
      "model_module_version": "2.0.0",
      "model_name": "LayoutModel",
      "state": {
       "_model_module": "@jupyter-widgets/base",
       "_model_module_version": "2.0.0",
       "_model_name": "LayoutModel",
       "_view_count": null,
       "_view_module": "@jupyter-widgets/base",
       "_view_module_version": "2.0.0",
       "_view_name": "LayoutView",
       "align_content": null,
       "align_items": null,
       "align_self": null,
       "border_bottom": null,
       "border_left": null,
       "border_right": null,
       "border_top": null,
       "bottom": null,
       "display": null,
       "flex": null,
       "flex_flow": null,
       "grid_area": null,
       "grid_auto_columns": null,
       "grid_auto_flow": null,
       "grid_auto_rows": null,
       "grid_column": null,
       "grid_gap": null,
       "grid_row": null,
       "grid_template_areas": null,
       "grid_template_columns": null,
       "grid_template_rows": null,
       "height": null,
       "justify_content": null,
       "justify_items": null,
       "left": null,
       "margin": null,
       "max_height": null,
       "max_width": null,
       "min_height": null,
       "min_width": null,
       "object_fit": null,
       "object_position": null,
       "order": null,
       "overflow": null,
       "padding": null,
       "right": null,
       "top": null,
       "visibility": null,
       "width": null
      }
     },
     "75659aa66d1e42599d88e1ef6623881e": {
      "model_module": "@jupyter-widgets/base",
      "model_module_version": "2.0.0",
      "model_name": "LayoutModel",
      "state": {
       "_model_module": "@jupyter-widgets/base",
       "_model_module_version": "2.0.0",
       "_model_name": "LayoutModel",
       "_view_count": null,
       "_view_module": "@jupyter-widgets/base",
       "_view_module_version": "2.0.0",
       "_view_name": "LayoutView",
       "align_content": null,
       "align_items": null,
       "align_self": null,
       "border_bottom": null,
       "border_left": null,
       "border_right": null,
       "border_top": null,
       "bottom": null,
       "display": null,
       "flex": null,
       "flex_flow": null,
       "grid_area": null,
       "grid_auto_columns": null,
       "grid_auto_flow": null,
       "grid_auto_rows": null,
       "grid_column": null,
       "grid_gap": null,
       "grid_row": null,
       "grid_template_areas": null,
       "grid_template_columns": null,
       "grid_template_rows": null,
       "height": null,
       "justify_content": null,
       "justify_items": null,
       "left": null,
       "margin": null,
       "max_height": null,
       "max_width": null,
       "min_height": null,
       "min_width": null,
       "object_fit": null,
       "object_position": null,
       "order": null,
       "overflow": null,
       "padding": null,
       "right": null,
       "top": null,
       "visibility": null,
       "width": null
      }
     },
     "757b144ca0dc4f36bef563a7ef429dd8": {
      "model_module": "@jupyter-widgets/output",
      "model_module_version": "1.0.0",
      "model_name": "OutputModel",
      "state": {
       "_dom_classes": [],
       "_model_module": "@jupyter-widgets/output",
       "_model_module_version": "1.0.0",
       "_model_name": "OutputModel",
       "_view_count": null,
       "_view_module": "@jupyter-widgets/output",
       "_view_module_version": "1.0.0",
       "_view_name": "OutputView",
       "layout": "IPY_MODEL_6636bf44fd0e4c1a872ee2b49b043d64",
       "msg_id": "",
       "outputs": [
        {
         "data": {
          "text/html": "<pre style=\"white-space:pre;overflow-x:auto;line-height:normal;font-family:Menlo,'DejaVu Sans Mono',consolas,'Courier New',monospace\"><span style=\"color: #008000; text-decoration-color: #008000; font-weight: bold\">↓</span> <span style=\"color: #000080; text-decoration-color: #000080; font-weight: bold\">simulation_data.hdf5.gz</span> <span style=\"color: #729c1f; text-decoration-color: #729c1f\">━━━━━━━━━━━━━</span> <span style=\"color: #800080; text-decoration-color: #800080\">100.0%</span> • <span style=\"color: #008000; text-decoration-color: #008000\">1.4/1.4 MB</span> • <span style=\"color: #800000; text-decoration-color: #800000\">2.4 MB/s</span> • <span style=\"color: #008080; text-decoration-color: #008080\">0:00:00</span>\n</pre>\n",
          "text/plain": "\u001b[1;32m↓\u001b[0m \u001b[1;34msimulation_data.hdf5.gz\u001b[0m \u001b[38;2;114;156;31m━━━━━━━━━━━━━\u001b[0m \u001b[35m100.0%\u001b[0m • \u001b[32m1.4/1.4 MB\u001b[0m • \u001b[31m2.4 MB/s\u001b[0m • \u001b[36m0:00:00\u001b[0m\n"
         },
         "metadata": {},
         "output_type": "display_data"
        }
       ],
       "tabbable": null,
       "tooltip": null
      }
     },
     "7659a2bbde464f8c8a852958707ffbff": {
      "model_module": "@jupyter-widgets/output",
      "model_module_version": "1.0.0",
      "model_name": "OutputModel",
      "state": {
       "_dom_classes": [],
       "_model_module": "@jupyter-widgets/output",
       "_model_module_version": "1.0.0",
       "_model_name": "OutputModel",
       "_view_count": null,
       "_view_module": "@jupyter-widgets/output",
       "_view_module_version": "1.0.0",
       "_view_name": "OutputView",
       "layout": "IPY_MODEL_34d9ffce80f647e9be6fb878e93a3574",
       "msg_id": "",
       "outputs": [
        {
         "data": {
          "text/html": "<pre style=\"white-space:pre;overflow-x:auto;line-height:normal;font-family:Menlo,'DejaVu Sans Mono',consolas,'Courier New',monospace\"><span style=\"color: #800000; text-decoration-color: #800000; font-weight: bold\">↑</span> <span style=\"color: #000080; text-decoration-color: #000080; font-weight: bold\">simulation.hdf5.gz</span> <span style=\"color: #729c1f; text-decoration-color: #729c1f\">━━━━━━━━━━━━━━━━━━</span> <span style=\"color: #800080; text-decoration-color: #800080\">100.0%</span> • <span style=\"color: #008000; text-decoration-color: #008000\">1.5/1.5 MB</span> • <span style=\"color: #800000; text-decoration-color: #800000\">6.8 MB/s</span> • <span style=\"color: #008080; text-decoration-color: #008080\">0:00:00</span>\n</pre>\n",
          "text/plain": "\u001b[1;31m↑\u001b[0m \u001b[1;34msimulation.hdf5.gz\u001b[0m \u001b[38;2;114;156;31m━━━━━━━━━━━━━━━━━━\u001b[0m \u001b[35m100.0%\u001b[0m • \u001b[32m1.5/1.5 MB\u001b[0m • \u001b[31m6.8 MB/s\u001b[0m • \u001b[36m0:00:00\u001b[0m\n"
         },
         "metadata": {},
         "output_type": "display_data"
        }
       ],
       "tabbable": null,
       "tooltip": null
      }
     },
     "7c2a0947dfd74d48a4e5933085dd5ee4": {
      "model_module": "@jupyter-widgets/base",
      "model_module_version": "2.0.0",
      "model_name": "LayoutModel",
      "state": {
       "_model_module": "@jupyter-widgets/base",
       "_model_module_version": "2.0.0",
       "_model_name": "LayoutModel",
       "_view_count": null,
       "_view_module": "@jupyter-widgets/base",
       "_view_module_version": "2.0.0",
       "_view_name": "LayoutView",
       "align_content": null,
       "align_items": null,
       "align_self": null,
       "border_bottom": null,
       "border_left": null,
       "border_right": null,
       "border_top": null,
       "bottom": null,
       "display": null,
       "flex": null,
       "flex_flow": null,
       "grid_area": null,
       "grid_auto_columns": null,
       "grid_auto_flow": null,
       "grid_auto_rows": null,
       "grid_column": null,
       "grid_gap": null,
       "grid_row": null,
       "grid_template_areas": null,
       "grid_template_columns": null,
       "grid_template_rows": null,
       "height": null,
       "justify_content": null,
       "justify_items": null,
       "left": null,
       "margin": null,
       "max_height": null,
       "max_width": null,
       "min_height": null,
       "min_width": null,
       "object_fit": null,
       "object_position": null,
       "order": null,
       "overflow": null,
       "padding": null,
       "right": null,
       "top": null,
       "visibility": null,
       "width": null
      }
     },
     "81de7158f6424367b09de3bc0584f584": {
      "model_module": "@jupyter-widgets/base",
      "model_module_version": "2.0.0",
      "model_name": "LayoutModel",
      "state": {
       "_model_module": "@jupyter-widgets/base",
       "_model_module_version": "2.0.0",
       "_model_name": "LayoutModel",
       "_view_count": null,
       "_view_module": "@jupyter-widgets/base",
       "_view_module_version": "2.0.0",
       "_view_name": "LayoutView",
       "align_content": null,
       "align_items": null,
       "align_self": null,
       "border_bottom": null,
       "border_left": null,
       "border_right": null,
       "border_top": null,
       "bottom": null,
       "display": null,
       "flex": null,
       "flex_flow": null,
       "grid_area": null,
       "grid_auto_columns": null,
       "grid_auto_flow": null,
       "grid_auto_rows": null,
       "grid_column": null,
       "grid_gap": null,
       "grid_row": null,
       "grid_template_areas": null,
       "grid_template_columns": null,
       "grid_template_rows": null,
       "height": null,
       "justify_content": null,
       "justify_items": null,
       "left": null,
       "margin": null,
       "max_height": null,
       "max_width": null,
       "min_height": null,
       "min_width": null,
       "object_fit": null,
       "object_position": null,
       "order": null,
       "overflow": null,
       "padding": null,
       "right": null,
       "top": null,
       "visibility": null,
       "width": null
      }
     },
     "9d080cfdee1f4a41817b6d6af6871734": {
      "model_module": "@jupyter-widgets/output",
      "model_module_version": "1.0.0",
      "model_name": "OutputModel",
      "state": {
       "_dom_classes": [],
       "_model_module": "@jupyter-widgets/output",
       "_model_module_version": "1.0.0",
       "_model_name": "OutputModel",
       "_view_count": null,
       "_view_module": "@jupyter-widgets/output",
       "_view_module_version": "1.0.0",
       "_view_name": "OutputView",
       "layout": "IPY_MODEL_5ef5e8a47e8b40c2aab12c9c69d3cd08",
       "msg_id": "",
       "outputs": [
        {
         "data": {
          "text/html": "<pre style=\"white-space:pre;overflow-x:auto;line-height:normal;font-family:Menlo,'DejaVu Sans Mono',consolas,'Courier New',monospace\">solver progress (field decay = 7.20e-12) <span style=\"color: #729c1f; text-decoration-color: #729c1f\">━━━━━━━━━━━━━━━━━━━━━━━━━━</span> <span style=\"color: #800080; text-decoration-color: #800080\">100%</span> <span style=\"color: #008080; text-decoration-color: #008080\">0:00:00</span>\n</pre>\n",
          "text/plain": "solver progress (field decay = 7.20e-12) \u001b[38;2;114;156;31m━━━━━━━━━━━━━━━━━━━━━━━━━━\u001b[0m \u001b[35m100%\u001b[0m \u001b[36m0:00:00\u001b[0m\n"
         },
         "metadata": {},
         "output_type": "display_data"
        }
       ],
       "tabbable": null,
       "tooltip": null
      }
     },
     "a554c1c174564e6b997c9a39239869a6": {
      "model_module": "@jupyter-widgets/base",
      "model_module_version": "2.0.0",
      "model_name": "LayoutModel",
      "state": {
       "_model_module": "@jupyter-widgets/base",
       "_model_module_version": "2.0.0",
       "_model_name": "LayoutModel",
       "_view_count": null,
       "_view_module": "@jupyter-widgets/base",
       "_view_module_version": "2.0.0",
       "_view_name": "LayoutView",
       "align_content": null,
       "align_items": null,
       "align_self": null,
       "border_bottom": null,
       "border_left": null,
       "border_right": null,
       "border_top": null,
       "bottom": null,
       "display": null,
       "flex": null,
       "flex_flow": null,
       "grid_area": null,
       "grid_auto_columns": null,
       "grid_auto_flow": null,
       "grid_auto_rows": null,
       "grid_column": null,
       "grid_gap": null,
       "grid_row": null,
       "grid_template_areas": null,
       "grid_template_columns": null,
       "grid_template_rows": null,
       "height": null,
       "justify_content": null,
       "justify_items": null,
       "left": null,
       "margin": null,
       "max_height": null,
       "max_width": null,
       "min_height": null,
       "min_width": null,
       "object_fit": null,
       "object_position": null,
       "order": null,
       "overflow": null,
       "padding": null,
       "right": null,
       "top": null,
       "visibility": null,
       "width": null
      }
     },
     "b41d114708664caeb3b36b95a379ff0d": {
      "model_module": "@jupyter-widgets/output",
      "model_module_version": "1.0.0",
      "model_name": "OutputModel",
      "state": {
       "_dom_classes": [],
       "_model_module": "@jupyter-widgets/output",
       "_model_module_version": "1.0.0",
       "_model_name": "OutputModel",
       "_view_count": null,
       "_view_module": "@jupyter-widgets/output",
       "_view_module_version": "1.0.0",
       "_view_name": "OutputView",
       "layout": "IPY_MODEL_3ca0233444d543ff9ac75a28aaa999d9",
       "msg_id": "",
       "outputs": [
        {
         "data": {
          "text/html": "<pre style=\"white-space:pre;overflow-x:auto;line-height:normal;font-family:Menlo,'DejaVu Sans Mono',consolas,'Courier New',monospace\"><span style=\"color: #800000; text-decoration-color: #800000; font-weight: bold\">↑</span> <span style=\"color: #000080; text-decoration-color: #000080; font-weight: bold\">jax_info.json</span> <span style=\"color: #729c1f; text-decoration-color: #729c1f\">━━━━━━━━━━━━━━━━━━━━━━━━━━━</span> <span style=\"color: #800080; text-decoration-color: #800080\">100.0%</span> • <span style=\"color: #008000; text-decoration-color: #008000\">279/279 bytes</span> • <span style=\"color: #800000; text-decoration-color: #800000\">?</span> • <span style=\"color: #008080; text-decoration-color: #008080\">0:00:00</span>\n</pre>\n",
          "text/plain": "\u001b[1;31m↑\u001b[0m \u001b[1;34mjax_info.json\u001b[0m \u001b[38;2;114;156;31m━━━━━━━━━━━━━━━━━━━━━━━━━━━\u001b[0m \u001b[35m100.0%\u001b[0m • \u001b[32m279/279 bytes\u001b[0m • \u001b[31m?\u001b[0m • \u001b[36m0:00:00\u001b[0m\n"
         },
         "metadata": {},
         "output_type": "display_data"
        }
       ],
       "tabbable": null,
       "tooltip": null
      }
     },
     "b827138335574b7299f5e243f4c8c48d": {
      "model_module": "@jupyter-widgets/output",
      "model_module_version": "1.0.0",
      "model_name": "OutputModel",
      "state": {
       "_dom_classes": [],
       "_model_module": "@jupyter-widgets/output",
       "_model_module_version": "1.0.0",
       "_model_name": "OutputModel",
       "_view_count": null,
       "_view_module": "@jupyter-widgets/output",
       "_view_module_version": "1.0.0",
       "_view_name": "OutputView",
       "layout": "IPY_MODEL_ba47e61d8ad143ebb1bedce4532bb13a",
       "msg_id": "",
       "outputs": [
        {
         "data": {
          "text/html": "<pre style=\"white-space:pre;overflow-x:auto;line-height:normal;font-family:Menlo,'DejaVu Sans Mono',consolas,'Courier New',monospace\"><span style=\"color: #008000; text-decoration-color: #008000; font-weight: bold\">↓</span> <span style=\"color: #000080; text-decoration-color: #000080; font-weight: bold\">mode_solver_data.hdf5.gz</span> <span style=\"color: #729c1f; text-decoration-color: #729c1f\">━━━━━━━━━━━━━━━━━</span> <span style=\"color: #800080; text-decoration-color: #800080\">100.0%</span> • <span style=\"color: #008000; text-decoration-color: #008000\">41.2/41.2 kB</span> • <span style=\"color: #800000; text-decoration-color: #800000\">?</span> • <span style=\"color: #008080; text-decoration-color: #008080\">0:00:00</span>\n</pre>\n",
          "text/plain": "\u001b[1;32m↓\u001b[0m \u001b[1;34mmode_solver_data.hdf5.gz\u001b[0m \u001b[38;2;114;156;31m━━━━━━━━━━━━━━━━━\u001b[0m \u001b[35m100.0%\u001b[0m • \u001b[32m41.2/41.2 kB\u001b[0m • \u001b[31m?\u001b[0m • \u001b[36m0:00:00\u001b[0m\n"
         },
         "metadata": {},
         "output_type": "display_data"
        }
       ],
       "tabbable": null,
       "tooltip": null
      }
     },
     "ba47e61d8ad143ebb1bedce4532bb13a": {
      "model_module": "@jupyter-widgets/base",
      "model_module_version": "2.0.0",
      "model_name": "LayoutModel",
      "state": {
       "_model_module": "@jupyter-widgets/base",
       "_model_module_version": "2.0.0",
       "_model_name": "LayoutModel",
       "_view_count": null,
       "_view_module": "@jupyter-widgets/base",
       "_view_module_version": "2.0.0",
       "_view_name": "LayoutView",
       "align_content": null,
       "align_items": null,
       "align_self": null,
       "border_bottom": null,
       "border_left": null,
       "border_right": null,
       "border_top": null,
       "bottom": null,
       "display": null,
       "flex": null,
       "flex_flow": null,
       "grid_area": null,
       "grid_auto_columns": null,
       "grid_auto_flow": null,
       "grid_auto_rows": null,
       "grid_column": null,
       "grid_gap": null,
       "grid_row": null,
       "grid_template_areas": null,
       "grid_template_columns": null,
       "grid_template_rows": null,
       "height": null,
       "justify_content": null,
       "justify_items": null,
       "left": null,
       "margin": null,
       "max_height": null,
       "max_width": null,
       "min_height": null,
       "min_width": null,
       "object_fit": null,
       "object_position": null,
       "order": null,
       "overflow": null,
       "padding": null,
       "right": null,
       "top": null,
       "visibility": null,
       "width": null
      }
     },
     "bb146d054f6a42339689516d2dd97a58": {
      "model_module": "@jupyter-widgets/base",
      "model_module_version": "2.0.0",
      "model_name": "LayoutModel",
      "state": {
       "_model_module": "@jupyter-widgets/base",
       "_model_module_version": "2.0.0",
       "_model_name": "LayoutModel",
       "_view_count": null,
       "_view_module": "@jupyter-widgets/base",
       "_view_module_version": "2.0.0",
       "_view_name": "LayoutView",
       "align_content": null,
       "align_items": null,
       "align_self": null,
       "border_bottom": null,
       "border_left": null,
       "border_right": null,
       "border_top": null,
       "bottom": null,
       "display": null,
       "flex": null,
       "flex_flow": null,
       "grid_area": null,
       "grid_auto_columns": null,
       "grid_auto_flow": null,
       "grid_auto_rows": null,
       "grid_column": null,
       "grid_gap": null,
       "grid_row": null,
       "grid_template_areas": null,
       "grid_template_columns": null,
       "grid_template_rows": null,
       "height": null,
       "justify_content": null,
       "justify_items": null,
       "left": null,
       "margin": null,
       "max_height": null,
       "max_width": null,
       "min_height": null,
       "min_width": null,
       "object_fit": null,
       "object_position": null,
       "order": null,
       "overflow": null,
       "padding": null,
       "right": null,
       "top": null,
       "visibility": null,
       "width": null
      }
     },
     "c1dcce520880492f9ed0db3ca1d7dc5d": {
      "model_module": "@jupyter-widgets/base",
      "model_module_version": "2.0.0",
      "model_name": "LayoutModel",
      "state": {
       "_model_module": "@jupyter-widgets/base",
       "_model_module_version": "2.0.0",
       "_model_name": "LayoutModel",
       "_view_count": null,
       "_view_module": "@jupyter-widgets/base",
       "_view_module_version": "2.0.0",
       "_view_name": "LayoutView",
       "align_content": null,
       "align_items": null,
       "align_self": null,
       "border_bottom": null,
       "border_left": null,
       "border_right": null,
       "border_top": null,
       "bottom": null,
       "display": null,
       "flex": null,
       "flex_flow": null,
       "grid_area": null,
       "grid_auto_columns": null,
       "grid_auto_flow": null,
       "grid_auto_rows": null,
       "grid_column": null,
       "grid_gap": null,
       "grid_row": null,
       "grid_template_areas": null,
       "grid_template_columns": null,
       "grid_template_rows": null,
       "height": null,
       "justify_content": null,
       "justify_items": null,
       "left": null,
       "margin": null,
       "max_height": null,
       "max_width": null,
       "min_height": null,
       "min_width": null,
       "object_fit": null,
       "object_position": null,
       "order": null,
       "overflow": null,
       "padding": null,
       "right": null,
       "top": null,
       "visibility": null,
       "width": null
      }
     },
     "c80f5856de4f46af8ebbbac7eefbd2e1": {
      "model_module": "@jupyter-widgets/base",
      "model_module_version": "2.0.0",
      "model_name": "LayoutModel",
      "state": {
       "_model_module": "@jupyter-widgets/base",
       "_model_module_version": "2.0.0",
       "_model_name": "LayoutModel",
       "_view_count": null,
       "_view_module": "@jupyter-widgets/base",
       "_view_module_version": "2.0.0",
       "_view_name": "LayoutView",
       "align_content": null,
       "align_items": null,
       "align_self": null,
       "border_bottom": null,
       "border_left": null,
       "border_right": null,
       "border_top": null,
       "bottom": null,
       "display": null,
       "flex": null,
       "flex_flow": null,
       "grid_area": null,
       "grid_auto_columns": null,
       "grid_auto_flow": null,
       "grid_auto_rows": null,
       "grid_column": null,
       "grid_gap": null,
       "grid_row": null,
       "grid_template_areas": null,
       "grid_template_columns": null,
       "grid_template_rows": null,
       "height": null,
       "justify_content": null,
       "justify_items": null,
       "left": null,
       "margin": null,
       "max_height": null,
       "max_width": null,
       "min_height": null,
       "min_width": null,
       "object_fit": null,
       "object_position": null,
       "order": null,
       "overflow": null,
       "padding": null,
       "right": null,
       "top": null,
       "visibility": null,
       "width": null
      }
     },
     "c876eb38e4004e1dac1a0b062373c9bb": {
      "model_module": "@jupyter-widgets/output",
      "model_module_version": "1.0.0",
      "model_name": "OutputModel",
      "state": {
       "_dom_classes": [],
       "_model_module": "@jupyter-widgets/output",
       "_model_module_version": "1.0.0",
       "_model_name": "OutputModel",
       "_view_count": null,
       "_view_module": "@jupyter-widgets/output",
       "_view_module_version": "1.0.0",
       "_view_name": "OutputView",
       "layout": "IPY_MODEL_a554c1c174564e6b997c9a39239869a6",
       "msg_id": "",
       "outputs": [
        {
         "data": {
          "text/html": "<pre style=\"white-space:pre;overflow-x:auto;line-height:normal;font-family:Menlo,'DejaVu Sans Mono',consolas,'Courier New',monospace\">solver progress (field decay = 1.76e-07) <span style=\"color: #729c1f; text-decoration-color: #729c1f\">━━━━━━━━━━━━━━━━━━━━━━━━━━</span> <span style=\"color: #800080; text-decoration-color: #800080\">100%</span> <span style=\"color: #008080; text-decoration-color: #008080\">0:00:00</span>\n</pre>\n",
          "text/plain": "solver progress (field decay = 1.76e-07) \u001b[38;2;114;156;31m━━━━━━━━━━━━━━━━━━━━━━━━━━\u001b[0m \u001b[35m100%\u001b[0m \u001b[36m0:00:00\u001b[0m\n"
         },
         "metadata": {},
         "output_type": "display_data"
        }
       ],
       "tabbable": null,
       "tooltip": null
      }
     },
     "db8384cfdf524a7a994a59a1162fac0b": {
      "model_module": "@jupyter-widgets/base",
      "model_module_version": "2.0.0",
      "model_name": "LayoutModel",
      "state": {
       "_model_module": "@jupyter-widgets/base",
       "_model_module_version": "2.0.0",
       "_model_name": "LayoutModel",
       "_view_count": null,
       "_view_module": "@jupyter-widgets/base",
       "_view_module_version": "2.0.0",
       "_view_name": "LayoutView",
       "align_content": null,
       "align_items": null,
       "align_self": null,
       "border_bottom": null,
       "border_left": null,
       "border_right": null,
       "border_top": null,
       "bottom": null,
       "display": null,
       "flex": null,
       "flex_flow": null,
       "grid_area": null,
       "grid_auto_columns": null,
       "grid_auto_flow": null,
       "grid_auto_rows": null,
       "grid_column": null,
       "grid_gap": null,
       "grid_row": null,
       "grid_template_areas": null,
       "grid_template_columns": null,
       "grid_template_rows": null,
       "height": null,
       "justify_content": null,
       "justify_items": null,
       "left": null,
       "margin": null,
       "max_height": null,
       "max_width": null,
       "min_height": null,
       "min_width": null,
       "object_fit": null,
       "object_position": null,
       "order": null,
       "overflow": null,
       "padding": null,
       "right": null,
       "top": null,
       "visibility": null,
       "width": null
      }
     },
     "dee00e20ea2e4e7d953ce5df29d8fb70": {
      "model_module": "@jupyter-widgets/base",
      "model_module_version": "2.0.0",
      "model_name": "LayoutModel",
      "state": {
       "_model_module": "@jupyter-widgets/base",
       "_model_module_version": "2.0.0",
       "_model_name": "LayoutModel",
       "_view_count": null,
       "_view_module": "@jupyter-widgets/base",
       "_view_module_version": "2.0.0",
       "_view_name": "LayoutView",
       "align_content": null,
       "align_items": null,
       "align_self": null,
       "border_bottom": null,
       "border_left": null,
       "border_right": null,
       "border_top": null,
       "bottom": null,
       "display": null,
       "flex": null,
       "flex_flow": null,
       "grid_area": null,
       "grid_auto_columns": null,
       "grid_auto_flow": null,
       "grid_auto_rows": null,
       "grid_column": null,
       "grid_gap": null,
       "grid_row": null,
       "grid_template_areas": null,
       "grid_template_columns": null,
       "grid_template_rows": null,
       "height": null,
       "justify_content": null,
       "justify_items": null,
       "left": null,
       "margin": null,
       "max_height": null,
       "max_width": null,
       "min_height": null,
       "min_width": null,
       "object_fit": null,
       "object_position": null,
       "order": null,
       "overflow": null,
       "padding": null,
       "right": null,
       "top": null,
       "visibility": null,
       "width": null
      }
     },
     "ea56c75b92844a04bb511cfe7e0e9955": {
      "model_module": "@jupyter-widgets/output",
      "model_module_version": "1.0.0",
      "model_name": "OutputModel",
      "state": {
       "_dom_classes": [],
       "_model_module": "@jupyter-widgets/output",
       "_model_module_version": "1.0.0",
       "_model_name": "OutputModel",
       "_view_count": null,
       "_view_module": "@jupyter-widgets/output",
       "_view_module_version": "1.0.0",
       "_view_name": "OutputView",
       "layout": "IPY_MODEL_3d4dbebd3c024279b4d71bfbcd0d8938",
       "msg_id": "",
       "outputs": [
        {
         "data": {
          "text/html": "<pre style=\"white-space:pre;overflow-x:auto;line-height:normal;font-family:Menlo,'DejaVu Sans Mono',consolas,'Courier New',monospace\"><span style=\"color: #008000; text-decoration-color: #008000; font-weight: bold\">↓</span> <span style=\"color: #000080; text-decoration-color: #000080; font-weight: bold\">jax_sim_vjp.hdf5</span> <span style=\"color: #729c1f; text-decoration-color: #729c1f\">━━━━━━━━━━━━━━━━━━━</span> <span style=\"color: #800080; text-decoration-color: #800080\">100.0%</span> • <span style=\"color: #008000; text-decoration-color: #008000\">3.6/3.6 MB</span> • <span style=\"color: #800000; text-decoration-color: #800000\">13.4 MB/s</span> • <span style=\"color: #008080; text-decoration-color: #008080\">0:00:00</span>\n</pre>\n",
          "text/plain": "\u001b[1;32m↓\u001b[0m \u001b[1;34mjax_sim_vjp.hdf5\u001b[0m \u001b[38;2;114;156;31m━━━━━━━━━━━━━━━━━━━\u001b[0m \u001b[35m100.0%\u001b[0m • \u001b[32m3.6/3.6 MB\u001b[0m • \u001b[31m13.4 MB/s\u001b[0m • \u001b[36m0:00:00\u001b[0m\n"
         },
         "metadata": {},
         "output_type": "display_data"
        }
       ],
       "tabbable": null,
       "tooltip": null
      }
     },
     "ebbf300788d147318efb5006f25ab9a9": {
      "model_module": "@jupyter-widgets/output",
      "model_module_version": "1.0.0",
      "model_name": "OutputModel",
      "state": {
       "_dom_classes": [],
       "_model_module": "@jupyter-widgets/output",
       "_model_module_version": "1.0.0",
       "_model_name": "OutputModel",
       "_view_count": null,
       "_view_module": "@jupyter-widgets/output",
       "_view_module_version": "1.0.0",
       "_view_name": "OutputView",
       "layout": "IPY_MODEL_db8384cfdf524a7a994a59a1162fac0b",
       "msg_id": "",
       "outputs": [
        {
         "data": {
          "text/html": "<pre style=\"white-space:pre;overflow-x:auto;line-height:normal;font-family:Menlo,'DejaVu Sans Mono',consolas,'Courier New',monospace\">solver progress (field decay = 5.71e-09) <span style=\"color: #729c1f; text-decoration-color: #729c1f\">━━━━━━━━━━━━━━━━━━━━━━━━━━</span> <span style=\"color: #800080; text-decoration-color: #800080\">100%</span> <span style=\"color: #008080; text-decoration-color: #008080\">0:00:00</span>\n</pre>\n",
          "text/plain": "solver progress (field decay = 5.71e-09) \u001b[38;2;114;156;31m━━━━━━━━━━━━━━━━━━━━━━━━━━\u001b[0m \u001b[35m100%\u001b[0m \u001b[36m0:00:00\u001b[0m\n"
         },
         "metadata": {},
         "output_type": "display_data"
        }
       ],
       "tabbable": null,
       "tooltip": null
      }
     },
     "ed5dea374861496395db710f2be1e433": {
      "model_module": "@jupyter-widgets/base",
      "model_module_version": "2.0.0",
      "model_name": "LayoutModel",
      "state": {
       "_model_module": "@jupyter-widgets/base",
       "_model_module_version": "2.0.0",
       "_model_name": "LayoutModel",
       "_view_count": null,
       "_view_module": "@jupyter-widgets/base",
       "_view_module_version": "2.0.0",
       "_view_name": "LayoutView",
       "align_content": null,
       "align_items": null,
       "align_self": null,
       "border_bottom": null,
       "border_left": null,
       "border_right": null,
       "border_top": null,
       "bottom": null,
       "display": null,
       "flex": null,
       "flex_flow": null,
       "grid_area": null,
       "grid_auto_columns": null,
       "grid_auto_flow": null,
       "grid_auto_rows": null,
       "grid_column": null,
       "grid_gap": null,
       "grid_row": null,
       "grid_template_areas": null,
       "grid_template_columns": null,
       "grid_template_rows": null,
       "height": null,
       "justify_content": null,
       "justify_items": null,
       "left": null,
       "margin": null,
       "max_height": null,
       "max_width": null,
       "min_height": null,
       "min_width": null,
       "object_fit": null,
       "object_position": null,
       "order": null,
       "overflow": null,
       "padding": null,
       "right": null,
       "top": null,
       "visibility": null,
       "width": null
      }
     },
     "fd4e286e80624340a1a121ad7a80a6bc": {
      "model_module": "@jupyter-widgets/output",
      "model_module_version": "1.0.0",
      "model_name": "OutputModel",
      "state": {
       "_dom_classes": [],
       "_model_module": "@jupyter-widgets/output",
       "_model_module_version": "1.0.0",
       "_model_name": "OutputModel",
       "_view_count": null,
       "_view_module": "@jupyter-widgets/output",
       "_view_module_version": "1.0.0",
       "_view_name": "OutputView",
       "layout": "IPY_MODEL_dee00e20ea2e4e7d953ce5df29d8fb70",
       "msg_id": "",
       "outputs": [
        {
         "data": {
          "text/html": "<pre style=\"white-space:pre;overflow-x:auto;line-height:normal;font-family:Menlo,'DejaVu Sans Mono',consolas,'Courier New',monospace\"><span style=\"color: #008000; text-decoration-color: #008000\">🏃 </span> <span style=\"color: #008000; text-decoration-color: #008000; font-weight: bold\">Finishing 'inv_des_adj'...</span>\n</pre>\n",
          "text/plain": "\u001b[32m🏃 \u001b[0m \u001b[1;32mFinishing 'inv_des_adj'...\u001b[0m\n"
         },
         "metadata": {},
         "output_type": "display_data"
        }
       ],
       "tabbable": null,
       "tooltip": null
      }
     }
    },
    "version_major": 2,
    "version_minor": 0
   }
  }
 },
 "nbformat": 4,
 "nbformat_minor": 5
}
