{
 "cells": [
  {
   "cell_type": "markdown",
   "metadata": {
    "editable": true,
    "slideshow": {
     "slide_type": ""
    },
    "tags": []
   },
   "source": [
    "## Bayesian optimization of a Y-junction"
   ]
  },
  {
   "cell_type": "markdown",
   "metadata": {},
   "source": [
    "**Note: the cost of running the entire notebook is larger than 10 FlexCredits.**\n",
    "\n",
    "[Bayesian optimization](https://en.wikipedia.org/wiki/Bayesian_optimization) is a popular technique for searching and optimizing a design space. It works by building a probabilistic model, such as a [Gaussian process](https://en.wikipedia.org/wiki/Gaussian_process), to predict the outcome of a more complex objective function. Unlike other optimizers like genetic algorithms or particle swarm optimization, Bayesian optimization uses an acquisition function to select new potential solutions, focusing on areas of the design space that the Gaussian process predicts will have high objective values and high uncertainty. Over the course of the optimization, the model's uncertainty reduces, improving its accuracy as a surrogate for the true objective function. This makes Bayesian optimization a direct approach to optimization, particularly well-suited to problems with small (< 30 dimensions) and expensive-to-evaluate objective functions. \n",
    "\n",
    "However, as Bayesian optimization is an iterative process with many individual components, it can be challenging to design and parallelize, leading to long run times and high computational costs.  Fortunately, the Design plugin in ``Tidy3D`` includes the Bayesian optimization method ``MethodBayOpt`` which eliminates much of this complexity. Users can quickly and easily run a Bayesian optimization for complex FDTD simulations and analyze the results. Further details on Bayesian optimization and the methods used in ``Tidy3D`` are available in the open-source Python library [bayesian_optimization](https://bayesian-optimization.github.io/BayesianOptimization/basic-tour.html).\n",
    "\n",
    "This notebook details how to perform a Bayesian optimization with the ``Tidy3D`` Design plugin for the development of a Y-junction. It is based on the work of `Zhengqi Gao, Zhengxing Zhang, and Duane S. Boning, \"Automatic Synthesis of Broadband Silicon Photonic Devices via Bayesian Optimization\" J. Light. Technol. 40, 7879-7892 (2022)` [DOI:10.1109/JLT.2022.3207052](https://doi.org/10.1109/JLT.2022.3207052). A detailed description of how to build a Y-junction can be found in the [Waveguide Y junction](https://www.flexcompute.com/tidy3d/examples/notebooks/YJunction/).\n",
    "\n",
    "\n",
    "<img src=\"img/bayesian_opt_y_junction.png\" width=\"600\" alt=\"Schematic of the waveguide Y junction\">\n",
    "\n",
    "If you are curious about other `Design` plugin features, see these notebooks:\n",
    "\n",
    "1. [Intro to Design Plugin](https://www.flexcompute.com/tidy3d/examples/notebooks/Design/)\n",
    "\n",
    "2. [Particle Swarm Optimizer PBS](https://www.flexcompute.com/tidy3d/examples/notebooks/ParticleSwarmOptimizedPBS/)\n",
    "\n",
    "3. [Particle Swarm Optimizer Bullseye Cavity](https://www.flexcompute.com/tidy3d/examples/notebooks/BullseyeCavityPSO/)\n",
    "\n",
    "4. [Genetic Algorithm Reflector](https://www.flexcompute.com/tidy3d/examples/notebooks/GeneticAlgorithmReflector/)\n",
    "\n",
    "5. [All-Dielectric Structural Colors](https://www.flexcompute.com/tidy3d/examples/notebooks/AllDielectricStructuralColor/)\n",
    "\n",
    "6. [Parameter Scan](https://www.flexcompute.com/tidy3d/examples/notebooks/ParameterScan/)"
   ]
  },
  {
   "cell_type": "code",
   "execution_count": 9,
   "metadata": {},
   "outputs": [],
   "source": [
    "# uncomment the following line to install bayesian-optimization if it's not installed in your environment already\n",
    "# pip install bayesian-optimization\n",
    "\n",
    "import numpy as np\n",
    "import matplotlib.pyplot as plt\n",
    "import gdstk\n",
    "from scipy.interpolate import make_interp_spline\n",
    "\n",
    "import tidy3d as td\n",
    "import tidy3d.web as web\n",
    "import tidy3d.plugins.design as tdd"
   ]
  },
  {
   "cell_type": "markdown",
   "metadata": {},
   "source": [
    "## Simulation Setup"
   ]
  },
  {
   "cell_type": "markdown",
   "metadata": {},
   "source": [
    "The simulation is defined across the 1.5 $\\mu m$ to 1.6 $\\mu m$ wavelength range with 100 sampling points. The base of the model is silicon, the top of the model is silicon dioxide; we use the material constants included in the Tidy3D Tidy3D's [material library](https://docs.flexcompute.com/projects/tidy3d/en/latest/api/material_library.html#)."
   ]
  },
  {
   "cell_type": "code",
   "execution_count": 10,
   "metadata": {},
   "outputs": [],
   "source": [
    "lda0 = 1.55  # central wavelength\n",
    "freq0 = td.C_0 / lda0  # central frequency\n",
    "n_wav = 100 # Number of wavelengths to sample in the range\n",
    "ldas = np.linspace(1.5, 1.6, n_wav)  # wavelength range\n",
    "freqs = td.C_0 / ldas  # frequency range\n",
    "fwidth = 0.5 * (np.max(freqs) - np.min(freqs))  # width of the source frequency range\n",
    "\n",
    "si = td.material_library[\"cSi\"][\"Palik_Lossless\"]\n",
    "sio2 = td.material_library[\"SiO2\"][\"Palik_Lossless\"]"
   ]
  },
  {
   "cell_type": "markdown",
   "metadata": {},
   "source": [
    "The following parameters describe the geometry of the waveguide. The optimizable design space is the junction which is split into 13 discreate segments."
   ]
  },
  {
   "cell_type": "code",
   "execution_count": 11,
   "metadata": {},
   "outputs": [],
   "source": [
    "t = 0.22  # thickness of the silicon layer\n",
    "num_d = 13 # dimensional space of the design region\n",
    "\n",
    "l_in = 1  # input waveguide length\n",
    "l_junction = 2  # length of the junction\n",
    "l_bend = 6  # horizontal length of the waveguide bend\n",
    "h_bend = 2  # vertical offset of the waveguide bend\n",
    "l_out = 1  # output waveguide length\n",
    "branch_width = 0.5 # width of one Y branch\n",
    "branch_sep = 0.2 # distance between y branches at the junction\n",
    "inf_eff = 100  # effective infinity\n"
   ]
  },
  {
   "cell_type": "markdown",
   "metadata": {},
   "source": [
    "The most effective way to use the Design plugin is to split the workflow into \"pre\" and \"post\" functions which can surround a call to the Tidy3D cloud that carries out the computation. This takes advantage of automated simulation batching, allowing for parallelization which saves a considerable amount of time. The pre-function returns a `Simulation`; the post-function then analyzes the corresponding `SimulationData`. Together they can be considered the fitness function (or objective function / figure of merit)  which the Bayesian optimization process is working to predict.\n",
    "\n",
    "The ``fn_pre`` needs to take the parameters that are being optimized: these are the 13 width segements of the junction. They always input as a dictionary and can be unpacked within the function (as below) or included as keyword arguments. These parameters are used to build a Y-junction ``Simulation`` object which can be computed.\n",
    "\n",
    "``fn_post`` then takes the ``SimulationData`` object output by the simulation and performs some analysis to return a float value which can be fed back into the Bayesian optimization to inform the probabilistic model. In this case, we extract the power passing through the Y-junction and the power reflected back to the source. These values are evaluated in a custom loss function described by ``Gao et al.`` to determine the effectiveness of the junction design. The aim of this function is to achieve a transmitted power of 0.5 through each branch, whilst driving the power reflected towards the source to zero. Note there is a minus sign in front of the output value as this loss function is a minimizing function, whilst all the optimizers in the Design plugin are built to maximize the objective function. "
   ]
  },
  {
   "cell_type": "code",
   "execution_count": 12,
   "metadata": {},
   "outputs": [],
   "source": [
    "def fn_pre(**w_params: dict) -> td.Simulation:\n",
    "    \"\"\"Create a Simulation of a Y splitter from a series of junction widths.\n",
    "    \n",
    "    Includes mode monitors to measure the power transmitted and reflected to source.\n",
    "    \"\"\"\n",
    "    w_start = 0.5\n",
    "    w_end = branch_width * 2 + branch_sep\n",
    "    \n",
    "    widths = [w_start] # Ensures input waveguide is included in spline for first point of junction\n",
    "    widths.extend(list(w_params.values()))\n",
    "    widths.append(w_end) # Ensures final point of junction smoothly converts to the branches\n",
    "    \n",
    "    x_junction = np.linspace(l_in, l_in + l_junction, num_d + 2)  # x coordinates of the top edge vertices\n",
    "    y_junction = np.array(widths)  # y coordinates of the top edge vertices\n",
    "\n",
    "    # pass vertices through spline and increase sampling to smooth the geometry\n",
    "    new_x_junction = np.linspace(l_in, l_in + l_junction, 100)  # x coordinates of the top edge vertices\n",
    "    spline = make_interp_spline(x_junction, y_junction, k=2)\n",
    "    spline_yjunction = spline(new_x_junction)\n",
    "\n",
    "    # using concatenate to include bottom edge vertices\n",
    "    x_junction = np.concatenate((new_x_junction, np.flipud(new_x_junction)))\n",
    "    y_junction = np.concatenate((spline_yjunction / 2, -np.flipud(spline_yjunction / 2)))\n",
    "\n",
    "    # stacking x and y coordinates to form vertices pairs\n",
    "    vertices = np.transpose(np.vstack((x_junction, y_junction)))\n",
    "\n",
    "    junction = td.Structure(\n",
    "        geometry=td.PolySlab(vertices=vertices, axis=2, slab_bounds=(0, t)), medium=si\n",
    "    )\n",
    "\n",
    "    x_start = l_in + l_junction # x coordinate of the starting point of the waveguide bends\n",
    "\n",
    "    x_bend = np.linspace(x_start, x_start + l_bend, 100)  # x coordinates of the top edge vertices\n",
    "\n",
    "    y_bend = (\n",
    "        (x_bend - x_start) * h_bend / l_bend\n",
    "        - h_bend * np.sin(2 * np.pi * (x_bend - x_start) / l_bend) / (np.pi * 2)\n",
    "        + w_end / 2\n",
    "        - w_start / 2\n",
    "    )  # y coordinates of the top edge vertices\n",
    "\n",
    "    # adding the last point to include the straight waveguide at the output\n",
    "    x_bend = np.append(x_bend, inf_eff)\n",
    "    y_bend = np.append(y_bend, y_bend[-1])\n",
    "\n",
    "    # add path to the cell\n",
    "    cell = gdstk.Cell(\"bends\")\n",
    "    cell.add(gdstk.FlexPath(x_bend + 1j * y_bend, branch_width, layer=1, datatype=0))  # top waveguide bend\n",
    "    cell.add(gdstk.FlexPath(x_bend - 1j * y_bend, branch_width, layer=1, datatype=0))  # bottom waveguide bend\n",
    "\n",
    "    # define top waveguide bend structure\n",
    "    wg_bend_1 = td.Structure(\n",
    "        geometry=td.PolySlab.from_gds(\n",
    "            cell,\n",
    "            gds_layer=1,\n",
    "            axis=2,\n",
    "            slab_bounds=(0, t),\n",
    "        )[0],\n",
    "        medium=si,\n",
    "    )\n",
    "\n",
    "    # define bottom waveguide bend structure\n",
    "    wg_bend_2 = td.Structure(\n",
    "        geometry=td.PolySlab.from_gds(\n",
    "            cell,\n",
    "            gds_layer=1,\n",
    "            axis=2,\n",
    "            slab_bounds=(0, t),\n",
    "        )[1],\n",
    "        medium=si,\n",
    "    )\n",
    "\n",
    "    # straight input waveguide\n",
    "    wg_in = td.Structure(\n",
    "        geometry=td.Box.from_bounds(rmin=(-inf_eff, -w_start / 2, 0), rmax=(l_in, w_start / 2, t)),\n",
    "        medium=si,\n",
    "    )\n",
    "\n",
    "    # the entire model is the collection of all structures defined so far\n",
    "    model_structure = [wg_in, junction, wg_bend_1, wg_bend_2]\n",
    "\n",
    "    Lx = l_in + l_junction + l_out + l_bend  # simulation domain size in x direction\n",
    "    Ly = w_end + 2 * h_bend + 1.5 * lda0  # simulation domain size in y direction\n",
    "    Lz = 10 * t  # simulation domain size in z direction\n",
    "    sim_size = (Lx, Ly, Lz)\n",
    "\n",
    "    # add a mode source as excitation\n",
    "    mode_spec = td.ModeSpec(num_modes=1, target_neff=3.5)\n",
    "    mode_source = td.ModeSource(\n",
    "        center=(l_in / 2, 0, t / 2),\n",
    "        size=(0, 4 * w_start, 6 * t),\n",
    "        source_time=td.GaussianPulse(freq0=freq0, fwidth=fwidth),\n",
    "        direction=\"+\",\n",
    "        mode_spec=mode_spec,\n",
    "        mode_index=0,\n",
    "    )\n",
    "\n",
    "    # add a mode monitor to measure transmission at the output waveguide\n",
    "    mode_monitor_11 = td.ModeMonitor(\n",
    "        center=(l_in / 3 , 0, t / 2),\n",
    "        size=(0, 4 * w_start, 6 * t),\n",
    "        freqs=freqs,\n",
    "        mode_spec=mode_spec,\n",
    "        name=\"mode_11\",\n",
    "    )\n",
    "    \n",
    "    mode_monitor_12 = td.ModeMonitor(\n",
    "        center=(l_in + l_junction + l_bend + l_out / 2, w_end / 2 - w_start / 2 + h_bend, t / 2),\n",
    "        size=(0, 4 * w_start, 6 * t),\n",
    "        freqs=freqs,\n",
    "        mode_spec=mode_spec,\n",
    "        name=\"mode_12\",\n",
    "    )\n",
    "\n",
    "    # add a field monitor to visualize field distribution at z=t/2\n",
    "    field_monitor = td.FieldMonitor(\n",
    "        center=(0, 0, t / 2), size=(td.inf, td.inf, 0), freqs=[freq0], name=\"field\"\n",
    "    )\n",
    "\n",
    "    run_time = 5e-13  # simulation run time\n",
    "\n",
    "    # construct simulation\n",
    "    sim = td.Simulation(\n",
    "        center=(Lx / 2, 0, 0),\n",
    "        size=sim_size,\n",
    "        grid_spec=td.GridSpec.auto(min_steps_per_wvl=20, wavelength=lda0),\n",
    "        structures=model_structure,\n",
    "        sources=[mode_source],\n",
    "        monitors=[mode_monitor_11, mode_monitor_12, field_monitor],\n",
    "        run_time=run_time,\n",
    "        boundary_spec=td.BoundarySpec.all_sides(boundary=td.PML()),\n",
    "        medium=sio2,\n",
    "    )\n",
    "    \n",
    "    return sim\n",
    "\n",
    "def fn_post(sim_data: td.SimulationData) -> float:\n",
    "    \"\"\"Calculate the loss function from the power at the mode monitors in the SimulationData.\"\"\"\n",
    "    # Calculate the power reflected back to source and transmitted to one branch\n",
    "    power_reflected = np.squeeze(np.abs(sim_data[\"mode_11\"].amps.sel(direction=\"-\", mode_index=0)) ** 2)\n",
    "    power_transmitted = np.squeeze(np.abs(sim_data[\"mode_12\"].amps.sel(direction=\"+\", mode_index=0)) ** 2)\n",
    "    \n",
    "    # Loss function proposed by Gao et al. which takes advantage of branch symmetry\n",
    "    loss_fn = 1 / 3 * n_wav * np.sum(power_reflected ** 2 + 2 * (power_transmitted - 0.5) ** 2)\n",
    "    output = -float(loss_fn.values) # Negative value as this is a minimizing loss function\n",
    "    \n",
    "    return output"
   ]
  },
  {
   "cell_type": "markdown",
   "metadata": {},
   "source": [
    "We can quickly check that out ``fn_pre`` is working correctly by passing a set of potential ``test_params`` and plotting the result. Note that the gap between the `Polyslab` junction and the branches is a plotting artifact and doesn't exist in the `Simulation`."
   ]
  },
  {
   "cell_type": "code",
   "execution_count": 13,
   "metadata": {},
   "outputs": [
    {
     "data": {
      "image/png": "[encoded data removed]",
      "text/plain": [
       "<Figure size 640x480 with 1 Axes>"
      ]
     },
     "metadata": {},
     "output_type": "display_data"
    }
   ],
   "source": [
    "test_params = {\n",
    "    \"w1\": 0.5,\n",
    "    \"w2\": 0.5,\n",
    "    \"w3\": 0.6,\n",
    "    \"w4\": 0.7,\n",
    "    \"w5\": 0.9,\n",
    "    \"w6\": 1.26,\n",
    "    \"w7\": 1.4,\n",
    "    \"w8\": 1.4,\n",
    "    \"w9\": 1.4,\n",
    "    \"w10\": 1.4,\n",
    "    \"w11\": 1.31,\n",
    "    \"w12\": 0.5,\n",
    "    \"w13\": 0.5,\n",
    "}\n",
    "sim = fn_pre(**test_params)\n",
    "sim.plot(z=0)\n",
    "plt.show()"
   ]
  },
  {
   "cell_type": "markdown",
   "metadata": {},
   "source": [
    "The set up for the Bayesian optimization can be easily replicated with the ``Method`` arguments. We don't have the ``lcb`` (lower confidence bound) acquisition function used in the paper available to us, but by making our loss function negative and using the ``ucb`` (upper confidence bound) acquisition we achieve the same optimizer design. We set the seed to keep the results consistant between runs, but this isn't necessary for most optimization problems.\n",
    "\n",
    "A simple set ``Parameters`` are created with generic names, as we don't access them by keywords, and spans as we only need to vary float values across a small range.\n",
    "\n",
    "The ``Method`` and ``Parameters`` are then passed to a ``DesignSpace`` which controls all we need to run the Bayesian optimization."
   ]
  },
  {
   "cell_type": "code",
   "execution_count": 14,
   "metadata": {},
   "outputs": [],
   "source": [
    "method = tdd.MethodBayOpt(\n",
    "    initial_iter=30,\n",
    "    n_iter=70,\n",
    "    acq_func='ucb',\n",
    "    kappa=0.3,\n",
    "    seed=1,\n",
    ")\n",
    "\n",
    "parameters = [tdd.ParameterFloat(name=f\"w_{i}\", span=(0.5, 1.6)) for i in range(num_d)]\n",
    "\n",
    "design_space = tdd.DesignSpace(method=method, parameters=parameters, task_name=\"bay_opt_notebook\", path_dir=\"./data\")"
   ]
  },
  {
   "cell_type": "markdown",
   "metadata": {},
   "source": [
    "It is then very easy to the launch this optimization with ``design_space.run``. This launches an initial batch of 30 simulations with randomly generated solutions, followed by sequential computation of 70 simulations with the optimizer suggesting potential solutions that have good potential and effectively explore the design space. The total of 100 simulations takes around 90 minutes to compute. Once complete the results can be stored in a ``Pandas`` dataframe for analysis"
   ]
  },
  {
   "cell_type": "code",
   "execution_count": 15,
   "metadata": {},
   "outputs": [
    {
     "data": {
      "text/html": [
       "<pre style=\"white-space:pre;overflow-x:auto;line-height:normal;font-family:Menlo,'DejaVu Sans Mono',consolas,'Courier New',monospace\"><span style=\"color: #7fbfbf; text-decoration-color: #7fbfbf\">16:16:40 BST </span>Running <span style=\"color: #008080; text-decoration-color: #008080; font-weight: bold\">30</span> Simulations                                             \n",
       "</pre>\n"
      ],
      "text/plain": [
       "\u001b[2;36m16:16:40 BST\u001b[0m\u001b[2;36m \u001b[0mRunning \u001b[1;36m30\u001b[0m Simulations                                             \n"
      ]
     },
     "metadata": {},
     "output_type": "display_data"
    },
    {
     "data": {
      "text/html": [
       "<pre style=\"white-space:pre;overflow-x:auto;line-height:normal;font-family:Menlo,'DejaVu Sans Mono',consolas,'Courier New',monospace\"><span style=\"color: #7fbfbf; text-decoration-color: #7fbfbf\">16:22:49 BST </span>Best Fit from Initial Solutions: <span style=\"color: #008080; text-decoration-color: #008080; font-weight: bold\">-181.231</span>                          \n",
       "<span style=\"color: #7fbfbf; text-decoration-color: #7fbfbf\">             </span>                                                                   \n",
       "</pre>\n"
      ],
      "text/plain": [
       "\u001b[2;36m16:22:49 BST\u001b[0m\u001b[2;36m \u001b[0mBest Fit from Initial Solutions: \u001b[1;36m-181.231\u001b[0m                          \n",
       "\u001b[2;36m             \u001b[0m                                                                   \n"
      ]
     },
     "metadata": {},
     "output_type": "display_data"
    },
    {
     "data": {
      "text/html": [
       "<pre style=\"white-space:pre;overflow-x:auto;line-height:normal;font-family:Menlo,'DejaVu Sans Mono',consolas,'Courier New',monospace\"><span style=\"color: #7fbfbf; text-decoration-color: #7fbfbf\">             </span>Running <span style=\"color: #008080; text-decoration-color: #008080; font-weight: bold\">1</span> Simulations                                              \n",
       "</pre>\n"
      ],
      "text/plain": [
       "\u001b[2;36m            \u001b[0m\u001b[2;36m \u001b[0mRunning \u001b[1;36m1\u001b[0m Simulations                                              \n"
      ]
     },
     "metadata": {},
     "output_type": "display_data"
    },
    {
     "data": {
      "text/html": [
       "<pre style=\"white-space:pre;overflow-x:auto;line-height:normal;font-family:Menlo,'DejaVu Sans Mono',consolas,'Courier New',monospace\"><span style=\"color: #7fbfbf; text-decoration-color: #7fbfbf\">16:24:34 BST </span>Running <span style=\"color: #008080; text-decoration-color: #008080; font-weight: bold\">1</span> Simulations                                              \n",
       "</pre>\n"
      ],
      "text/plain": [
       "\u001b[2;36m16:24:34 BST\u001b[0m\u001b[2;36m \u001b[0mRunning \u001b[1;36m1\u001b[0m Simulations                                              \n"
      ]
     },
     "metadata": {},
     "output_type": "display_data"
    },
    {
     "data": {
      "text/html": [
       "<pre style=\"white-space:pre;overflow-x:auto;line-height:normal;font-family:Menlo,'DejaVu Sans Mono',consolas,'Courier New',monospace\"><span style=\"color: #7fbfbf; text-decoration-color: #7fbfbf\">16:27:29 BST </span>Running <span style=\"color: #008080; text-decoration-color: #008080; font-weight: bold\">1</span> Simulations                                              \n",
       "</pre>\n"
      ],
      "text/plain": [
       "\u001b[2;36m16:27:29 BST\u001b[0m\u001b[2;36m \u001b[0mRunning \u001b[1;36m1\u001b[0m Simulations                                              \n"
      ]
     },
     "metadata": {},
     "output_type": "display_data"
    },
    {
     "data": {
      "text/html": [
       "<pre style=\"white-space:pre;overflow-x:auto;line-height:normal;font-family:Menlo,'DejaVu Sans Mono',consolas,'Courier New',monospace\"><span style=\"color: #7fbfbf; text-decoration-color: #7fbfbf\">16:28:38 BST </span>Latest Best Fit on Iter <span style=\"color: #008080; text-decoration-color: #008080; font-weight: bold\">2</span>: <span style=\"color: #008080; text-decoration-color: #008080; font-weight: bold\">-150.43</span>                                 \n",
       "<span style=\"color: #7fbfbf; text-decoration-color: #7fbfbf\">             </span>                                                                   \n",
       "</pre>\n"
      ],
      "text/plain": [
       "\u001b[2;36m16:28:38 BST\u001b[0m\u001b[2;36m \u001b[0mLatest Best Fit on Iter \u001b[1;36m2\u001b[0m: \u001b[1;36m-150.43\u001b[0m                                 \n",
       "\u001b[2;36m             \u001b[0m                                                                   \n"
      ]
     },
     "metadata": {},
     "output_type": "display_data"
    },
    {
     "data": {
      "text/html": [
       "<pre style=\"white-space:pre;overflow-x:auto;line-height:normal;font-family:Menlo,'DejaVu Sans Mono',consolas,'Courier New',monospace\"><span style=\"color: #7fbfbf; text-decoration-color: #7fbfbf\">             </span>Running <span style=\"color: #008080; text-decoration-color: #008080; font-weight: bold\">1</span> Simulations                                              \n",
       "</pre>\n"
      ],
      "text/plain": [
       "\u001b[2;36m            \u001b[0m\u001b[2;36m \u001b[0mRunning \u001b[1;36m1\u001b[0m Simulations                                              \n"
      ]
     },
     "metadata": {},
     "output_type": "display_data"
    },
    {
     "data": {
      "text/html": [
       "<pre style=\"white-space:pre;overflow-x:auto;line-height:normal;font-family:Menlo,'DejaVu Sans Mono',consolas,'Courier New',monospace\"><span style=\"color: #7fbfbf; text-decoration-color: #7fbfbf\">16:30:17 BST </span>Latest Best Fit on Iter <span style=\"color: #008080; text-decoration-color: #008080; font-weight: bold\">3</span>: <span style=\"color: #008080; text-decoration-color: #008080; font-weight: bold\">-134.777</span>                                \n",
       "<span style=\"color: #7fbfbf; text-decoration-color: #7fbfbf\">             </span>                                                                   \n",
       "</pre>\n"
      ],
      "text/plain": [
       "\u001b[2;36m16:30:17 BST\u001b[0m\u001b[2;36m \u001b[0mLatest Best Fit on Iter \u001b[1;36m3\u001b[0m: \u001b[1;36m-134.777\u001b[0m                                \n",
       "\u001b[2;36m             \u001b[0m                                                                   \n"
      ]
     },
     "metadata": {},
     "output_type": "display_data"
    },
    {
     "data": {
      "text/html": [
       "<pre style=\"white-space:pre;overflow-x:auto;line-height:normal;font-family:Menlo,'DejaVu Sans Mono',consolas,'Courier New',monospace\"><span style=\"color: #7fbfbf; text-decoration-color: #7fbfbf\">16:30:18 BST </span>Running <span style=\"color: #008080; text-decoration-color: #008080; font-weight: bold\">1</span> Simulations                                              \n",
       "</pre>\n"
      ],
      "text/plain": [
       "\u001b[2;36m16:30:18 BST\u001b[0m\u001b[2;36m \u001b[0mRunning \u001b[1;36m1\u001b[0m Simulations                                              \n"
      ]
     },
     "metadata": {},
     "output_type": "display_data"
    },
    {
     "data": {
      "text/html": [
       "<pre style=\"white-space:pre;overflow-x:auto;line-height:normal;font-family:Menlo,'DejaVu Sans Mono',consolas,'Courier New',monospace\"><span style=\"color: #7fbfbf; text-decoration-color: #7fbfbf\">16:32:02 BST </span>Latest Best Fit on Iter <span style=\"color: #008080; text-decoration-color: #008080; font-weight: bold\">4</span>: <span style=\"color: #008080; text-decoration-color: #008080; font-weight: bold\">-122.768</span>                                \n",
       "<span style=\"color: #7fbfbf; text-decoration-color: #7fbfbf\">             </span>                                                                   \n",
       "</pre>\n"
      ],
      "text/plain": [
       "\u001b[2;36m16:32:02 BST\u001b[0m\u001b[2;36m \u001b[0mLatest Best Fit on Iter \u001b[1;36m4\u001b[0m: \u001b[1;36m-122.768\u001b[0m                                \n",
       "\u001b[2;36m             \u001b[0m                                                                   \n"
      ]
     },
     "metadata": {},
     "output_type": "display_data"
    },
    {
     "data": {
      "text/html": [
       "<pre style=\"white-space:pre;overflow-x:auto;line-height:normal;font-family:Menlo,'DejaVu Sans Mono',consolas,'Courier New',monospace\"><span style=\"color: #7fbfbf; text-decoration-color: #7fbfbf\">             </span>Running <span style=\"color: #008080; text-decoration-color: #008080; font-weight: bold\">1</span> Simulations                                              \n",
       "</pre>\n"
      ],
      "text/plain": [
       "\u001b[2;36m            \u001b[0m\u001b[2;36m \u001b[0mRunning \u001b[1;36m1\u001b[0m Simulations                                              \n"
      ]
     },
     "metadata": {},
     "output_type": "display_data"
    },
    {
     "data": {
      "text/html": [
       "<pre style=\"white-space:pre;overflow-x:auto;line-height:normal;font-family:Menlo,'DejaVu Sans Mono',consolas,'Courier New',monospace\"><span style=\"color: #7fbfbf; text-decoration-color: #7fbfbf\">16:33:18 BST </span>Running <span style=\"color: #008080; text-decoration-color: #008080; font-weight: bold\">1</span> Simulations                                              \n",
       "</pre>\n"
      ],
      "text/plain": [
       "\u001b[2;36m16:33:18 BST\u001b[0m\u001b[2;36m \u001b[0mRunning \u001b[1;36m1\u001b[0m Simulations                                              \n"
      ]
     },
     "metadata": {},
     "output_type": "display_data"
    },
    {
     "data": {
      "text/html": [
       "<pre style=\"white-space:pre;overflow-x:auto;line-height:normal;font-family:Menlo,'DejaVu Sans Mono',consolas,'Courier New',monospace\"><span style=\"color: #7fbfbf; text-decoration-color: #7fbfbf\">16:34:22 BST </span>Latest Best Fit on Iter <span style=\"color: #008080; text-decoration-color: #008080; font-weight: bold\">6</span>: <span style=\"color: #008080; text-decoration-color: #008080; font-weight: bold\">-81.616</span>                                 \n",
       "<span style=\"color: #7fbfbf; text-decoration-color: #7fbfbf\">             </span>                                                                   \n",
       "</pre>\n"
      ],
      "text/plain": [
       "\u001b[2;36m16:34:22 BST\u001b[0m\u001b[2;36m \u001b[0mLatest Best Fit on Iter \u001b[1;36m6\u001b[0m: \u001b[1;36m-81.616\u001b[0m                                 \n",
       "\u001b[2;36m             \u001b[0m                                                                   \n"
      ]
     },
     "metadata": {},
     "output_type": "display_data"
    },
    {
     "data": {
      "text/html": [
       "<pre style=\"white-space:pre;overflow-x:auto;line-height:normal;font-family:Menlo,'DejaVu Sans Mono',consolas,'Courier New',monospace\"><span style=\"color: #7fbfbf; text-decoration-color: #7fbfbf\">             </span>Running <span style=\"color: #008080; text-decoration-color: #008080; font-weight: bold\">1</span> Simulations                                              \n",
       "</pre>\n"
      ],
      "text/plain": [
       "\u001b[2;36m            \u001b[0m\u001b[2;36m \u001b[0mRunning \u001b[1;36m1\u001b[0m Simulations                                              \n"
      ]
     },
     "metadata": {},
     "output_type": "display_data"
    },
    {
     "data": {
      "text/html": [
       "<pre style=\"white-space:pre;overflow-x:auto;line-height:normal;font-family:Menlo,'DejaVu Sans Mono',consolas,'Courier New',monospace\"><span style=\"color: #7fbfbf; text-decoration-color: #7fbfbf\">16:36:03 BST </span>Running <span style=\"color: #008080; text-decoration-color: #008080; font-weight: bold\">1</span> Simulations                                              \n",
       "</pre>\n"
      ],
      "text/plain": [
       "\u001b[2;36m16:36:03 BST\u001b[0m\u001b[2;36m \u001b[0mRunning \u001b[1;36m1\u001b[0m Simulations                                              \n"
      ]
     },
     "metadata": {},
     "output_type": "display_data"
    },
    {
     "data": {
      "text/html": [
       "<pre style=\"white-space:pre;overflow-x:auto;line-height:normal;font-family:Menlo,'DejaVu Sans Mono',consolas,'Courier New',monospace\"><span style=\"color: #7fbfbf; text-decoration-color: #7fbfbf\">16:37:49 BST </span>Running <span style=\"color: #008080; text-decoration-color: #008080; font-weight: bold\">1</span> Simulations                                              \n",
       "</pre>\n"
      ],
      "text/plain": [
       "\u001b[2;36m16:37:49 BST\u001b[0m\u001b[2;36m \u001b[0mRunning \u001b[1;36m1\u001b[0m Simulations                                              \n"
      ]
     },
     "metadata": {},
     "output_type": "display_data"
    },
    {
     "data": {
      "text/html": [
       "<pre style=\"white-space:pre;overflow-x:auto;line-height:normal;font-family:Menlo,'DejaVu Sans Mono',consolas,'Courier New',monospace\"><span style=\"color: #7fbfbf; text-decoration-color: #7fbfbf\">16:38:51 BST </span>Running <span style=\"color: #008080; text-decoration-color: #008080; font-weight: bold\">1</span> Simulations                                              \n",
       "</pre>\n"
      ],
      "text/plain": [
       "\u001b[2;36m16:38:51 BST\u001b[0m\u001b[2;36m \u001b[0mRunning \u001b[1;36m1\u001b[0m Simulations                                              \n"
      ]
     },
     "metadata": {},
     "output_type": "display_data"
    },
    {
     "data": {
      "text/html": [
       "<pre style=\"white-space:pre;overflow-x:auto;line-height:normal;font-family:Menlo,'DejaVu Sans Mono',consolas,'Courier New',monospace\"><span style=\"color: #7fbfbf; text-decoration-color: #7fbfbf\">16:40:35 BST </span>Running <span style=\"color: #008080; text-decoration-color: #008080; font-weight: bold\">1</span> Simulations                                              \n",
       "</pre>\n"
      ],
      "text/plain": [
       "\u001b[2;36m16:40:35 BST\u001b[0m\u001b[2;36m \u001b[0mRunning \u001b[1;36m1\u001b[0m Simulations                                              \n"
      ]
     },
     "metadata": {},
     "output_type": "display_data"
    },
    {
     "data": {
      "text/html": [
       "<pre style=\"white-space:pre;overflow-x:auto;line-height:normal;font-family:Menlo,'DejaVu Sans Mono',consolas,'Courier New',monospace\"><span style=\"color: #7fbfbf; text-decoration-color: #7fbfbf\">16:42:32 BST </span>Latest Best Fit on Iter <span style=\"color: #008080; text-decoration-color: #008080; font-weight: bold\">11</span>: <span style=\"color: #008080; text-decoration-color: #008080; font-weight: bold\">-67.751</span>                                \n",
       "<span style=\"color: #7fbfbf; text-decoration-color: #7fbfbf\">             </span>                                                                   \n",
       "</pre>\n"
      ],
      "text/plain": [
       "\u001b[2;36m16:42:32 BST\u001b[0m\u001b[2;36m \u001b[0mLatest Best Fit on Iter \u001b[1;36m11\u001b[0m: \u001b[1;36m-67.751\u001b[0m                                \n",
       "\u001b[2;36m             \u001b[0m                                                                   \n"
      ]
     },
     "metadata": {},
     "output_type": "display_data"
    },
    {
     "data": {
      "text/html": [
       "<pre style=\"white-space:pre;overflow-x:auto;line-height:normal;font-family:Menlo,'DejaVu Sans Mono',consolas,'Courier New',monospace\"><span style=\"color: #7fbfbf; text-decoration-color: #7fbfbf\">16:42:33 BST </span>Running <span style=\"color: #008080; text-decoration-color: #008080; font-weight: bold\">1</span> Simulations                                              \n",
       "</pre>\n"
      ],
      "text/plain": [
       "\u001b[2;36m16:42:33 BST\u001b[0m\u001b[2;36m \u001b[0mRunning \u001b[1;36m1\u001b[0m Simulations                                              \n"
      ]
     },
     "metadata": {},
     "output_type": "display_data"
    },
    {
     "data": {
      "text/html": [
       "<pre style=\"white-space:pre;overflow-x:auto;line-height:normal;font-family:Menlo,'DejaVu Sans Mono',consolas,'Courier New',monospace\"><span style=\"color: #7fbfbf; text-decoration-color: #7fbfbf\">16:43:39 BST </span>Running <span style=\"color: #008080; text-decoration-color: #008080; font-weight: bold\">1</span> Simulations                                              \n",
       "</pre>\n"
      ],
      "text/plain": [
       "\u001b[2;36m16:43:39 BST\u001b[0m\u001b[2;36m \u001b[0mRunning \u001b[1;36m1\u001b[0m Simulations                                              \n"
      ]
     },
     "metadata": {},
     "output_type": "display_data"
    },
    {
     "data": {
      "text/html": [
       "<pre style=\"white-space:pre;overflow-x:auto;line-height:normal;font-family:Menlo,'DejaVu Sans Mono',consolas,'Courier New',monospace\"><span style=\"color: #7fbfbf; text-decoration-color: #7fbfbf\">16:44:48 BST </span>Running <span style=\"color: #008080; text-decoration-color: #008080; font-weight: bold\">1</span> Simulations                                              \n",
       "</pre>\n"
      ],
      "text/plain": [
       "\u001b[2;36m16:44:48 BST\u001b[0m\u001b[2;36m \u001b[0mRunning \u001b[1;36m1\u001b[0m Simulations                                              \n"
      ]
     },
     "metadata": {},
     "output_type": "display_data"
    },
    {
     "data": {
      "text/html": [
       "<pre style=\"white-space:pre;overflow-x:auto;line-height:normal;font-family:Menlo,'DejaVu Sans Mono',consolas,'Courier New',monospace\"><span style=\"color: #7fbfbf; text-decoration-color: #7fbfbf\">16:46:35 BST </span>Running <span style=\"color: #008080; text-decoration-color: #008080; font-weight: bold\">1</span> Simulations                                              \n",
       "</pre>\n"
      ],
      "text/plain": [
       "\u001b[2;36m16:46:35 BST\u001b[0m\u001b[2;36m \u001b[0mRunning \u001b[1;36m1\u001b[0m Simulations                                              \n"
      ]
     },
     "metadata": {},
     "output_type": "display_data"
    },
    {
     "data": {
      "text/html": [
       "<pre style=\"white-space:pre;overflow-x:auto;line-height:normal;font-family:Menlo,'DejaVu Sans Mono',consolas,'Courier New',monospace\"><span style=\"color: #7fbfbf; text-decoration-color: #7fbfbf\">16:48:26 BST </span>Running <span style=\"color: #008080; text-decoration-color: #008080; font-weight: bold\">1</span> Simulations                                              \n",
       "</pre>\n"
      ],
      "text/plain": [
       "\u001b[2;36m16:48:26 BST\u001b[0m\u001b[2;36m \u001b[0mRunning \u001b[1;36m1\u001b[0m Simulations                                              \n"
      ]
     },
     "metadata": {},
     "output_type": "display_data"
    },
    {
     "data": {
      "text/html": [
       "<pre style=\"white-space:pre;overflow-x:auto;line-height:normal;font-family:Menlo,'DejaVu Sans Mono',consolas,'Courier New',monospace\"><span style=\"color: #7fbfbf; text-decoration-color: #7fbfbf\">16:52:52 BST </span>Latest Best Fit on Iter <span style=\"color: #008080; text-decoration-color: #008080; font-weight: bold\">16</span>: <span style=\"color: #008080; text-decoration-color: #008080; font-weight: bold\">-50.891</span>                                \n",
       "<span style=\"color: #7fbfbf; text-decoration-color: #7fbfbf\">             </span>                                                                   \n",
       "</pre>\n"
      ],
      "text/plain": [
       "\u001b[2;36m16:52:52 BST\u001b[0m\u001b[2;36m \u001b[0mLatest Best Fit on Iter \u001b[1;36m16\u001b[0m: \u001b[1;36m-50.891\u001b[0m                                \n",
       "\u001b[2;36m             \u001b[0m                                                                   \n"
      ]
     },
     "metadata": {},
     "output_type": "display_data"
    },
    {
     "data": {
      "text/html": [
       "<pre style=\"white-space:pre;overflow-x:auto;line-height:normal;font-family:Menlo,'DejaVu Sans Mono',consolas,'Courier New',monospace\"><span style=\"color: #7fbfbf; text-decoration-color: #7fbfbf\">             </span>Running <span style=\"color: #008080; text-decoration-color: #008080; font-weight: bold\">1</span> Simulations                                              \n",
       "</pre>\n"
      ],
      "text/plain": [
       "\u001b[2;36m            \u001b[0m\u001b[2;36m \u001b[0mRunning \u001b[1;36m1\u001b[0m Simulations                                              \n"
      ]
     },
     "metadata": {},
     "output_type": "display_data"
    },
    {
     "data": {
      "text/html": [
       "<pre style=\"white-space:pre;overflow-x:auto;line-height:normal;font-family:Menlo,'DejaVu Sans Mono',consolas,'Courier New',monospace\"><span style=\"color: #7fbfbf; text-decoration-color: #7fbfbf\">16:54:05 BST </span>Running <span style=\"color: #008080; text-decoration-color: #008080; font-weight: bold\">1</span> Simulations                                              \n",
       "</pre>\n"
      ],
      "text/plain": [
       "\u001b[2;36m16:54:05 BST\u001b[0m\u001b[2;36m \u001b[0mRunning \u001b[1;36m1\u001b[0m Simulations                                              \n"
      ]
     },
     "metadata": {},
     "output_type": "display_data"
    },
    {
     "data": {
      "text/html": [
       "<pre style=\"white-space:pre;overflow-x:auto;line-height:normal;font-family:Menlo,'DejaVu Sans Mono',consolas,'Courier New',monospace\"><span style=\"color: #7fbfbf; text-decoration-color: #7fbfbf\">16:55:12 BST </span>Running <span style=\"color: #008080; text-decoration-color: #008080; font-weight: bold\">1</span> Simulations                                              \n",
       "</pre>\n"
      ],
      "text/plain": [
       "\u001b[2;36m16:55:12 BST\u001b[0m\u001b[2;36m \u001b[0mRunning \u001b[1;36m1\u001b[0m Simulations                                              \n"
      ]
     },
     "metadata": {},
     "output_type": "display_data"
    },
    {
     "data": {
      "text/html": [
       "<pre style=\"white-space:pre;overflow-x:auto;line-height:normal;font-family:Menlo,'DejaVu Sans Mono',consolas,'Courier New',monospace\"><span style=\"color: #7fbfbf; text-decoration-color: #7fbfbf\">16:56:10 BST </span>Latest Best Fit on Iter <span style=\"color: #008080; text-decoration-color: #008080; font-weight: bold\">19</span>: <span style=\"color: #008080; text-decoration-color: #008080; font-weight: bold\">-49.99</span>                                 \n",
       "<span style=\"color: #7fbfbf; text-decoration-color: #7fbfbf\">             </span>                                                                   \n",
       "</pre>\n"
      ],
      "text/plain": [
       "\u001b[2;36m16:56:10 BST\u001b[0m\u001b[2;36m \u001b[0mLatest Best Fit on Iter \u001b[1;36m19\u001b[0m: \u001b[1;36m-49.99\u001b[0m                                 \n",
       "\u001b[2;36m             \u001b[0m                                                                   \n"
      ]
     },
     "metadata": {},
     "output_type": "display_data"
    },
    {
     "data": {
      "text/html": [
       "<pre style=\"white-space:pre;overflow-x:auto;line-height:normal;font-family:Menlo,'DejaVu Sans Mono',consolas,'Courier New',monospace\"><span style=\"color: #7fbfbf; text-decoration-color: #7fbfbf\">16:56:12 BST </span>Running <span style=\"color: #008080; text-decoration-color: #008080; font-weight: bold\">1</span> Simulations                                              \n",
       "</pre>\n"
      ],
      "text/plain": [
       "\u001b[2;36m16:56:12 BST\u001b[0m\u001b[2;36m \u001b[0mRunning \u001b[1;36m1\u001b[0m Simulations                                              \n"
      ]
     },
     "metadata": {},
     "output_type": "display_data"
    },
    {
     "data": {
      "text/html": [
       "<pre style=\"white-space:pre;overflow-x:auto;line-height:normal;font-family:Menlo,'DejaVu Sans Mono',consolas,'Courier New',monospace\"><span style=\"color: #7fbfbf; text-decoration-color: #7fbfbf\">16:57:20 BST </span>Latest Best Fit on Iter <span style=\"color: #008080; text-decoration-color: #008080; font-weight: bold\">20</span>: <span style=\"color: #008080; text-decoration-color: #008080; font-weight: bold\">-41.954</span>                                \n",
       "<span style=\"color: #7fbfbf; text-decoration-color: #7fbfbf\">             </span>                                                                   \n",
       "</pre>\n"
      ],
      "text/plain": [
       "\u001b[2;36m16:57:20 BST\u001b[0m\u001b[2;36m \u001b[0mLatest Best Fit on Iter \u001b[1;36m20\u001b[0m: \u001b[1;36m-41.954\u001b[0m                                \n",
       "\u001b[2;36m             \u001b[0m                                                                   \n"
      ]
     },
     "metadata": {},
     "output_type": "display_data"
    },
    {
     "data": {
      "text/html": [
       "<pre style=\"white-space:pre;overflow-x:auto;line-height:normal;font-family:Menlo,'DejaVu Sans Mono',consolas,'Courier New',monospace\"><span style=\"color: #7fbfbf; text-decoration-color: #7fbfbf\">             </span>Running <span style=\"color: #008080; text-decoration-color: #008080; font-weight: bold\">1</span> Simulations                                              \n",
       "</pre>\n"
      ],
      "text/plain": [
       "\u001b[2;36m            \u001b[0m\u001b[2;36m \u001b[0mRunning \u001b[1;36m1\u001b[0m Simulations                                              \n"
      ]
     },
     "metadata": {},
     "output_type": "display_data"
    },
    {
     "data": {
      "text/html": [
       "<pre style=\"white-space:pre;overflow-x:auto;line-height:normal;font-family:Menlo,'DejaVu Sans Mono',consolas,'Courier New',monospace\"><span style=\"color: #7fbfbf; text-decoration-color: #7fbfbf\">16:59:07 BST </span>Latest Best Fit on Iter <span style=\"color: #008080; text-decoration-color: #008080; font-weight: bold\">21</span>: <span style=\"color: #008080; text-decoration-color: #008080; font-weight: bold\">-39.001</span>                                \n",
       "<span style=\"color: #7fbfbf; text-decoration-color: #7fbfbf\">             </span>                                                                   \n",
       "</pre>\n"
      ],
      "text/plain": [
       "\u001b[2;36m16:59:07 BST\u001b[0m\u001b[2;36m \u001b[0mLatest Best Fit on Iter \u001b[1;36m21\u001b[0m: \u001b[1;36m-39.001\u001b[0m                                \n",
       "\u001b[2;36m             \u001b[0m                                                                   \n"
      ]
     },
     "metadata": {},
     "output_type": "display_data"
    },
    {
     "data": {
      "text/html": [
       "<pre style=\"white-space:pre;overflow-x:auto;line-height:normal;font-family:Menlo,'DejaVu Sans Mono',consolas,'Courier New',monospace\"><span style=\"color: #7fbfbf; text-decoration-color: #7fbfbf\">             </span>Running <span style=\"color: #008080; text-decoration-color: #008080; font-weight: bold\">1</span> Simulations                                              \n",
       "</pre>\n"
      ],
      "text/plain": [
       "\u001b[2;36m            \u001b[0m\u001b[2;36m \u001b[0mRunning \u001b[1;36m1\u001b[0m Simulations                                              \n"
      ]
     },
     "metadata": {},
     "output_type": "display_data"
    },
    {
     "data": {
      "text/html": [
       "<pre style=\"white-space:pre;overflow-x:auto;line-height:normal;font-family:Menlo,'DejaVu Sans Mono',consolas,'Courier New',monospace\"><span style=\"color: #7fbfbf; text-decoration-color: #7fbfbf\">17:00:49 BST </span>Running <span style=\"color: #008080; text-decoration-color: #008080; font-weight: bold\">1</span> Simulations                                              \n",
       "</pre>\n"
      ],
      "text/plain": [
       "\u001b[2;36m17:00:49 BST\u001b[0m\u001b[2;36m \u001b[0mRunning \u001b[1;36m1\u001b[0m Simulations                                              \n"
      ]
     },
     "metadata": {},
     "output_type": "display_data"
    },
    {
     "data": {
      "text/html": [
       "<pre style=\"white-space:pre;overflow-x:auto;line-height:normal;font-family:Menlo,'DejaVu Sans Mono',consolas,'Courier New',monospace\"><span style=\"color: #7fbfbf; text-decoration-color: #7fbfbf\">17:02:42 BST </span>Latest Best Fit on Iter <span style=\"color: #008080; text-decoration-color: #008080; font-weight: bold\">23</span>: <span style=\"color: #008080; text-decoration-color: #008080; font-weight: bold\">-33.742</span>                                \n",
       "<span style=\"color: #7fbfbf; text-decoration-color: #7fbfbf\">             </span>                                                                   \n",
       "</pre>\n"
      ],
      "text/plain": [
       "\u001b[2;36m17:02:42 BST\u001b[0m\u001b[2;36m \u001b[0mLatest Best Fit on Iter \u001b[1;36m23\u001b[0m: \u001b[1;36m-33.742\u001b[0m                                \n",
       "\u001b[2;36m             \u001b[0m                                                                   \n"
      ]
     },
     "metadata": {},
     "output_type": "display_data"
    },
    {
     "data": {
      "text/html": [
       "<pre style=\"white-space:pre;overflow-x:auto;line-height:normal;font-family:Menlo,'DejaVu Sans Mono',consolas,'Courier New',monospace\"><span style=\"color: #7fbfbf; text-decoration-color: #7fbfbf\">             </span>Running <span style=\"color: #008080; text-decoration-color: #008080; font-weight: bold\">1</span> Simulations                                              \n",
       "</pre>\n"
      ],
      "text/plain": [
       "\u001b[2;36m            \u001b[0m\u001b[2;36m \u001b[0mRunning \u001b[1;36m1\u001b[0m Simulations                                              \n"
      ]
     },
     "metadata": {},
     "output_type": "display_data"
    },
    {
     "data": {
      "text/html": [
       "<pre style=\"white-space:pre;overflow-x:auto;line-height:normal;font-family:Menlo,'DejaVu Sans Mono',consolas,'Courier New',monospace\"><span style=\"color: #7fbfbf; text-decoration-color: #7fbfbf\">17:03:54 BST </span>Latest Best Fit on Iter <span style=\"color: #008080; text-decoration-color: #008080; font-weight: bold\">24</span>: <span style=\"color: #008080; text-decoration-color: #008080; font-weight: bold\">-29.549</span>                                \n",
       "<span style=\"color: #7fbfbf; text-decoration-color: #7fbfbf\">             </span>                                                                   \n",
       "</pre>\n"
      ],
      "text/plain": [
       "\u001b[2;36m17:03:54 BST\u001b[0m\u001b[2;36m \u001b[0mLatest Best Fit on Iter \u001b[1;36m24\u001b[0m: \u001b[1;36m-29.549\u001b[0m                                \n",
       "\u001b[2;36m             \u001b[0m                                                                   \n"
      ]
     },
     "metadata": {},
     "output_type": "display_data"
    },
    {
     "data": {
      "text/html": [
       "<pre style=\"white-space:pre;overflow-x:auto;line-height:normal;font-family:Menlo,'DejaVu Sans Mono',consolas,'Courier New',monospace\"><span style=\"color: #7fbfbf; text-decoration-color: #7fbfbf\">             </span>Running <span style=\"color: #008080; text-decoration-color: #008080; font-weight: bold\">1</span> Simulations                                              \n",
       "</pre>\n"
      ],
      "text/plain": [
       "\u001b[2;36m            \u001b[0m\u001b[2;36m \u001b[0mRunning \u001b[1;36m1\u001b[0m Simulations                                              \n"
      ]
     },
     "metadata": {},
     "output_type": "display_data"
    },
    {
     "data": {
      "text/html": [
       "<pre style=\"white-space:pre;overflow-x:auto;line-height:normal;font-family:Menlo,'DejaVu Sans Mono',consolas,'Courier New',monospace\"><span style=\"color: #7fbfbf; text-decoration-color: #7fbfbf\">17:04:57 BST </span>Latest Best Fit on Iter <span style=\"color: #008080; text-decoration-color: #008080; font-weight: bold\">25</span>: <span style=\"color: #008080; text-decoration-color: #008080; font-weight: bold\">-19.056</span>                                \n",
       "<span style=\"color: #7fbfbf; text-decoration-color: #7fbfbf\">             </span>                                                                   \n",
       "</pre>\n"
      ],
      "text/plain": [
       "\u001b[2;36m17:04:57 BST\u001b[0m\u001b[2;36m \u001b[0mLatest Best Fit on Iter \u001b[1;36m25\u001b[0m: \u001b[1;36m-19.056\u001b[0m                                \n",
       "\u001b[2;36m             \u001b[0m                                                                   \n"
      ]
     },
     "metadata": {},
     "output_type": "display_data"
    },
    {
     "data": {
      "text/html": [
       "<pre style=\"white-space:pre;overflow-x:auto;line-height:normal;font-family:Menlo,'DejaVu Sans Mono',consolas,'Courier New',monospace\"><span style=\"color: #7fbfbf; text-decoration-color: #7fbfbf\">17:04:58 BST </span>Running <span style=\"color: #008080; text-decoration-color: #008080; font-weight: bold\">1</span> Simulations                                              \n",
       "</pre>\n"
      ],
      "text/plain": [
       "\u001b[2;36m17:04:58 BST\u001b[0m\u001b[2;36m \u001b[0mRunning \u001b[1;36m1\u001b[0m Simulations                                              \n"
      ]
     },
     "metadata": {},
     "output_type": "display_data"
    },
    {
     "data": {
      "text/html": [
       "<pre style=\"white-space:pre;overflow-x:auto;line-height:normal;font-family:Menlo,'DejaVu Sans Mono',consolas,'Courier New',monospace\"><span style=\"color: #7fbfbf; text-decoration-color: #7fbfbf\">17:06:40 BST </span>Running <span style=\"color: #008080; text-decoration-color: #008080; font-weight: bold\">1</span> Simulations                                              \n",
       "</pre>\n"
      ],
      "text/plain": [
       "\u001b[2;36m17:06:40 BST\u001b[0m\u001b[2;36m \u001b[0mRunning \u001b[1;36m1\u001b[0m Simulations                                              \n"
      ]
     },
     "metadata": {},
     "output_type": "display_data"
    },
    {
     "data": {
      "text/html": [
       "<pre style=\"white-space:pre;overflow-x:auto;line-height:normal;font-family:Menlo,'DejaVu Sans Mono',consolas,'Courier New',monospace\"><span style=\"color: #7fbfbf; text-decoration-color: #7fbfbf\">17:08:20 BST </span>Running <span style=\"color: #008080; text-decoration-color: #008080; font-weight: bold\">1</span> Simulations                                              \n",
       "</pre>\n"
      ],
      "text/plain": [
       "\u001b[2;36m17:08:20 BST\u001b[0m\u001b[2;36m \u001b[0mRunning \u001b[1;36m1\u001b[0m Simulations                                              \n"
      ]
     },
     "metadata": {},
     "output_type": "display_data"
    },
    {
     "data": {
      "text/html": [
       "<pre style=\"white-space:pre;overflow-x:auto;line-height:normal;font-family:Menlo,'DejaVu Sans Mono',consolas,'Courier New',monospace\"><span style=\"color: #7fbfbf; text-decoration-color: #7fbfbf\">17:10:06 BST </span>Running <span style=\"color: #008080; text-decoration-color: #008080; font-weight: bold\">1</span> Simulations                                              \n",
       "</pre>\n"
      ],
      "text/plain": [
       "\u001b[2;36m17:10:06 BST\u001b[0m\u001b[2;36m \u001b[0mRunning \u001b[1;36m1\u001b[0m Simulations                                              \n"
      ]
     },
     "metadata": {},
     "output_type": "display_data"
    },
    {
     "data": {
      "text/html": [
       "<pre style=\"white-space:pre;overflow-x:auto;line-height:normal;font-family:Menlo,'DejaVu Sans Mono',consolas,'Courier New',monospace\"><span style=\"color: #7fbfbf; text-decoration-color: #7fbfbf\">17:11:14 BST </span>Latest Best Fit on Iter <span style=\"color: #008080; text-decoration-color: #008080; font-weight: bold\">29</span>: <span style=\"color: #008080; text-decoration-color: #008080; font-weight: bold\">-18.09</span>                                 \n",
       "<span style=\"color: #7fbfbf; text-decoration-color: #7fbfbf\">             </span>                                                                   \n",
       "</pre>\n"
      ],
      "text/plain": [
       "\u001b[2;36m17:11:14 BST\u001b[0m\u001b[2;36m \u001b[0mLatest Best Fit on Iter \u001b[1;36m29\u001b[0m: \u001b[1;36m-18.09\u001b[0m                                 \n",
       "\u001b[2;36m             \u001b[0m                                                                   \n"
      ]
     },
     "metadata": {},
     "output_type": "display_data"
    },
    {
     "data": {
      "text/html": [
       "<pre style=\"white-space:pre;overflow-x:auto;line-height:normal;font-family:Menlo,'DejaVu Sans Mono',consolas,'Courier New',monospace\"><span style=\"color: #7fbfbf; text-decoration-color: #7fbfbf\">17:11:15 BST </span>Running <span style=\"color: #008080; text-decoration-color: #008080; font-weight: bold\">1</span> Simulations                                              \n",
       "</pre>\n"
      ],
      "text/plain": [
       "\u001b[2;36m17:11:15 BST\u001b[0m\u001b[2;36m \u001b[0mRunning \u001b[1;36m1\u001b[0m Simulations                                              \n"
      ]
     },
     "metadata": {},
     "output_type": "display_data"
    },
    {
     "data": {
      "text/html": [
       "<pre style=\"white-space:pre;overflow-x:auto;line-height:normal;font-family:Menlo,'DejaVu Sans Mono',consolas,'Courier New',monospace\"><span style=\"color: #7fbfbf; text-decoration-color: #7fbfbf\">17:12:19 BST </span>Latest Best Fit on Iter <span style=\"color: #008080; text-decoration-color: #008080; font-weight: bold\">30</span>: <span style=\"color: #008080; text-decoration-color: #008080; font-weight: bold\">-10.95</span>                                 \n",
       "<span style=\"color: #7fbfbf; text-decoration-color: #7fbfbf\">             </span>                                                                   \n",
       "</pre>\n"
      ],
      "text/plain": [
       "\u001b[2;36m17:12:19 BST\u001b[0m\u001b[2;36m \u001b[0mLatest Best Fit on Iter \u001b[1;36m30\u001b[0m: \u001b[1;36m-10.95\u001b[0m                                 \n",
       "\u001b[2;36m             \u001b[0m                                                                   \n"
      ]
     },
     "metadata": {},
     "output_type": "display_data"
    },
    {
     "data": {
      "text/html": [
       "<pre style=\"white-space:pre;overflow-x:auto;line-height:normal;font-family:Menlo,'DejaVu Sans Mono',consolas,'Courier New',monospace\"><span style=\"color: #7fbfbf; text-decoration-color: #7fbfbf\">17:12:20 BST </span>Running <span style=\"color: #008080; text-decoration-color: #008080; font-weight: bold\">1</span> Simulations                                              \n",
       "</pre>\n"
      ],
      "text/plain": [
       "\u001b[2;36m17:12:20 BST\u001b[0m\u001b[2;36m \u001b[0mRunning \u001b[1;36m1\u001b[0m Simulations                                              \n"
      ]
     },
     "metadata": {},
     "output_type": "display_data"
    },
    {
     "data": {
      "text/html": [
       "<pre style=\"white-space:pre;overflow-x:auto;line-height:normal;font-family:Menlo,'DejaVu Sans Mono',consolas,'Courier New',monospace\"><span style=\"color: #7fbfbf; text-decoration-color: #7fbfbf\">17:14:05 BST </span>Running <span style=\"color: #008080; text-decoration-color: #008080; font-weight: bold\">1</span> Simulations                                              \n",
       "</pre>\n"
      ],
      "text/plain": [
       "\u001b[2;36m17:14:05 BST\u001b[0m\u001b[2;36m \u001b[0mRunning \u001b[1;36m1\u001b[0m Simulations                                              \n"
      ]
     },
     "metadata": {},
     "output_type": "display_data"
    },
    {
     "data": {
      "text/html": [
       "<pre style=\"white-space:pre;overflow-x:auto;line-height:normal;font-family:Menlo,'DejaVu Sans Mono',consolas,'Courier New',monospace\"><span style=\"color: #7fbfbf; text-decoration-color: #7fbfbf\">17:15:53 BST </span>Latest Best Fit on Iter <span style=\"color: #008080; text-decoration-color: #008080; font-weight: bold\">32</span>: <span style=\"color: #008080; text-decoration-color: #008080; font-weight: bold\">-9.102</span>                                 \n",
       "<span style=\"color: #7fbfbf; text-decoration-color: #7fbfbf\">             </span>                                                                   \n",
       "</pre>\n"
      ],
      "text/plain": [
       "\u001b[2;36m17:15:53 BST\u001b[0m\u001b[2;36m \u001b[0mLatest Best Fit on Iter \u001b[1;36m32\u001b[0m: \u001b[1;36m-9.102\u001b[0m                                 \n",
       "\u001b[2;36m             \u001b[0m                                                                   \n"
      ]
     },
     "metadata": {},
     "output_type": "display_data"
    },
    {
     "data": {
      "text/html": [
       "<pre style=\"white-space:pre;overflow-x:auto;line-height:normal;font-family:Menlo,'DejaVu Sans Mono',consolas,'Courier New',monospace\"><span style=\"color: #7fbfbf; text-decoration-color: #7fbfbf\">17:15:54 BST </span>Running <span style=\"color: #008080; text-decoration-color: #008080; font-weight: bold\">1</span> Simulations                                              \n",
       "</pre>\n"
      ],
      "text/plain": [
       "\u001b[2;36m17:15:54 BST\u001b[0m\u001b[2;36m \u001b[0mRunning \u001b[1;36m1\u001b[0m Simulations                                              \n"
      ]
     },
     "metadata": {},
     "output_type": "display_data"
    },
    {
     "data": {
      "text/html": [
       "<pre style=\"white-space:pre;overflow-x:auto;line-height:normal;font-family:Menlo,'DejaVu Sans Mono',consolas,'Courier New',monospace\"><span style=\"color: #7fbfbf; text-decoration-color: #7fbfbf\">17:26:54 BST </span>Running <span style=\"color: #008080; text-decoration-color: #008080; font-weight: bold\">1</span> Simulations                                              \n",
       "</pre>\n"
      ],
      "text/plain": [
       "\u001b[2;36m17:26:54 BST\u001b[0m\u001b[2;36m \u001b[0mRunning \u001b[1;36m1\u001b[0m Simulations                                              \n"
      ]
     },
     "metadata": {},
     "output_type": "display_data"
    },
    {
     "data": {
      "text/html": [
       "<pre style=\"white-space:pre;overflow-x:auto;line-height:normal;font-family:Menlo,'DejaVu Sans Mono',consolas,'Courier New',monospace\"><span style=\"color: #7fbfbf; text-decoration-color: #7fbfbf\">17:28:43 BST </span>Running <span style=\"color: #008080; text-decoration-color: #008080; font-weight: bold\">1</span> Simulations                                              \n",
       "</pre>\n"
      ],
      "text/plain": [
       "\u001b[2;36m17:28:43 BST\u001b[0m\u001b[2;36m \u001b[0mRunning \u001b[1;36m1\u001b[0m Simulations                                              \n"
      ]
     },
     "metadata": {},
     "output_type": "display_data"
    },
    {
     "data": {
      "text/html": [
       "<pre style=\"white-space:pre;overflow-x:auto;line-height:normal;font-family:Menlo,'DejaVu Sans Mono',consolas,'Courier New',monospace\"><span style=\"color: #7fbfbf; text-decoration-color: #7fbfbf\">17:30:29 BST </span>Running <span style=\"color: #008080; text-decoration-color: #008080; font-weight: bold\">1</span> Simulations                                              \n",
       "</pre>\n"
      ],
      "text/plain": [
       "\u001b[2;36m17:30:29 BST\u001b[0m\u001b[2;36m \u001b[0mRunning \u001b[1;36m1\u001b[0m Simulations                                              \n"
      ]
     },
     "metadata": {},
     "output_type": "display_data"
    },
    {
     "data": {
      "text/html": [
       "<pre style=\"white-space:pre;overflow-x:auto;line-height:normal;font-family:Menlo,'DejaVu Sans Mono',consolas,'Courier New',monospace\"><span style=\"color: #7fbfbf; text-decoration-color: #7fbfbf\">17:32:08 BST </span>Latest Best Fit on Iter <span style=\"color: #008080; text-decoration-color: #008080; font-weight: bold\">36</span>: <span style=\"color: #008080; text-decoration-color: #008080; font-weight: bold\">-8.663</span>                                 \n",
       "<span style=\"color: #7fbfbf; text-decoration-color: #7fbfbf\">             </span>                                                                   \n",
       "</pre>\n"
      ],
      "text/plain": [
       "\u001b[2;36m17:32:08 BST\u001b[0m\u001b[2;36m \u001b[0mLatest Best Fit on Iter \u001b[1;36m36\u001b[0m: \u001b[1;36m-8.663\u001b[0m                                 \n",
       "\u001b[2;36m             \u001b[0m                                                                   \n"
      ]
     },
     "metadata": {},
     "output_type": "display_data"
    },
    {
     "data": {
      "text/html": [
       "<pre style=\"white-space:pre;overflow-x:auto;line-height:normal;font-family:Menlo,'DejaVu Sans Mono',consolas,'Courier New',monospace\"><span style=\"color: #7fbfbf; text-decoration-color: #7fbfbf\">             </span>Running <span style=\"color: #008080; text-decoration-color: #008080; font-weight: bold\">1</span> Simulations                                              \n",
       "</pre>\n"
      ],
      "text/plain": [
       "\u001b[2;36m            \u001b[0m\u001b[2;36m \u001b[0mRunning \u001b[1;36m1\u001b[0m Simulations                                              \n"
      ]
     },
     "metadata": {},
     "output_type": "display_data"
    },
    {
     "data": {
      "text/html": [
       "<pre style=\"white-space:pre;overflow-x:auto;line-height:normal;font-family:Menlo,'DejaVu Sans Mono',consolas,'Courier New',monospace\"><span style=\"color: #7fbfbf; text-decoration-color: #7fbfbf\">17:33:20 BST </span>Running <span style=\"color: #008080; text-decoration-color: #008080; font-weight: bold\">1</span> Simulations                                              \n",
       "</pre>\n"
      ],
      "text/plain": [
       "\u001b[2;36m17:33:20 BST\u001b[0m\u001b[2;36m \u001b[0mRunning \u001b[1;36m1\u001b[0m Simulations                                              \n"
      ]
     },
     "metadata": {},
     "output_type": "display_data"
    },
    {
     "data": {
      "text/html": [
       "<pre style=\"white-space:pre;overflow-x:auto;line-height:normal;font-family:Menlo,'DejaVu Sans Mono',consolas,'Courier New',monospace\"><span style=\"color: #7fbfbf; text-decoration-color: #7fbfbf\">17:34:16 BST </span>Running <span style=\"color: #008080; text-decoration-color: #008080; font-weight: bold\">1</span> Simulations                                              \n",
       "</pre>\n"
      ],
      "text/plain": [
       "\u001b[2;36m17:34:16 BST\u001b[0m\u001b[2;36m \u001b[0mRunning \u001b[1;36m1\u001b[0m Simulations                                              \n"
      ]
     },
     "metadata": {},
     "output_type": "display_data"
    },
    {
     "data": {
      "text/html": [
       "<pre style=\"white-space:pre;overflow-x:auto;line-height:normal;font-family:Menlo,'DejaVu Sans Mono',consolas,'Courier New',monospace\"><span style=\"color: #7fbfbf; text-decoration-color: #7fbfbf\">17:35:26 BST </span>Latest Best Fit on Iter <span style=\"color: #008080; text-decoration-color: #008080; font-weight: bold\">39</span>: <span style=\"color: #008080; text-decoration-color: #008080; font-weight: bold\">-7.726</span>                                 \n",
       "<span style=\"color: #7fbfbf; text-decoration-color: #7fbfbf\">             </span>                                                                   \n",
       "</pre>\n"
      ],
      "text/plain": [
       "\u001b[2;36m17:35:26 BST\u001b[0m\u001b[2;36m \u001b[0mLatest Best Fit on Iter \u001b[1;36m39\u001b[0m: \u001b[1;36m-7.726\u001b[0m                                 \n",
       "\u001b[2;36m             \u001b[0m                                                                   \n"
      ]
     },
     "metadata": {},
     "output_type": "display_data"
    },
    {
     "data": {
      "text/html": [
       "<pre style=\"white-space:pre;overflow-x:auto;line-height:normal;font-family:Menlo,'DejaVu Sans Mono',consolas,'Courier New',monospace\"><span style=\"color: #7fbfbf; text-decoration-color: #7fbfbf\">             </span>Running <span style=\"color: #008080; text-decoration-color: #008080; font-weight: bold\">1</span> Simulations                                              \n",
       "</pre>\n"
      ],
      "text/plain": [
       "\u001b[2;36m            \u001b[0m\u001b[2;36m \u001b[0mRunning \u001b[1;36m1\u001b[0m Simulations                                              \n"
      ]
     },
     "metadata": {},
     "output_type": "display_data"
    },
    {
     "data": {
      "text/html": [
       "<pre style=\"white-space:pre;overflow-x:auto;line-height:normal;font-family:Menlo,'DejaVu Sans Mono',consolas,'Courier New',monospace\"><span style=\"color: #7fbfbf; text-decoration-color: #7fbfbf\">17:36:37 BST </span>Latest Best Fit on Iter <span style=\"color: #008080; text-decoration-color: #008080; font-weight: bold\">40</span>: <span style=\"color: #008080; text-decoration-color: #008080; font-weight: bold\">-7.207</span>                                 \n",
       "<span style=\"color: #7fbfbf; text-decoration-color: #7fbfbf\">             </span>                                                                   \n",
       "</pre>\n"
      ],
      "text/plain": [
       "\u001b[2;36m17:36:37 BST\u001b[0m\u001b[2;36m \u001b[0mLatest Best Fit on Iter \u001b[1;36m40\u001b[0m: \u001b[1;36m-7.207\u001b[0m                                 \n",
       "\u001b[2;36m             \u001b[0m                                                                   \n"
      ]
     },
     "metadata": {},
     "output_type": "display_data"
    },
    {
     "data": {
      "text/html": [
       "<pre style=\"white-space:pre;overflow-x:auto;line-height:normal;font-family:Menlo,'DejaVu Sans Mono',consolas,'Courier New',monospace\"><span style=\"color: #7fbfbf; text-decoration-color: #7fbfbf\">17:36:38 BST </span>Running <span style=\"color: #008080; text-decoration-color: #008080; font-weight: bold\">1</span> Simulations                                              \n",
       "</pre>\n"
      ],
      "text/plain": [
       "\u001b[2;36m17:36:38 BST\u001b[0m\u001b[2;36m \u001b[0mRunning \u001b[1;36m1\u001b[0m Simulations                                              \n"
      ]
     },
     "metadata": {},
     "output_type": "display_data"
    },
    {
     "data": {
      "text/html": [
       "<pre style=\"white-space:pre;overflow-x:auto;line-height:normal;font-family:Menlo,'DejaVu Sans Mono',consolas,'Courier New',monospace\"><span style=\"color: #7fbfbf; text-decoration-color: #7fbfbf\">17:37:38 BST </span>Running <span style=\"color: #008080; text-decoration-color: #008080; font-weight: bold\">1</span> Simulations                                              \n",
       "</pre>\n"
      ],
      "text/plain": [
       "\u001b[2;36m17:37:38 BST\u001b[0m\u001b[2;36m \u001b[0mRunning \u001b[1;36m1\u001b[0m Simulations                                              \n"
      ]
     },
     "metadata": {},
     "output_type": "display_data"
    },
    {
     "data": {
      "text/html": [
       "<pre style=\"white-space:pre;overflow-x:auto;line-height:normal;font-family:Menlo,'DejaVu Sans Mono',consolas,'Courier New',monospace\"><span style=\"color: #7fbfbf; text-decoration-color: #7fbfbf\">17:38:39 BST </span>Latest Best Fit on Iter <span style=\"color: #008080; text-decoration-color: #008080; font-weight: bold\">42</span>: <span style=\"color: #008080; text-decoration-color: #008080; font-weight: bold\">-6.661</span>                                 \n",
       "<span style=\"color: #7fbfbf; text-decoration-color: #7fbfbf\">             </span>                                                                   \n",
       "</pre>\n"
      ],
      "text/plain": [
       "\u001b[2;36m17:38:39 BST\u001b[0m\u001b[2;36m \u001b[0mLatest Best Fit on Iter \u001b[1;36m42\u001b[0m: \u001b[1;36m-6.661\u001b[0m                                 \n",
       "\u001b[2;36m             \u001b[0m                                                                   \n"
      ]
     },
     "metadata": {},
     "output_type": "display_data"
    },
    {
     "data": {
      "text/html": [
       "<pre style=\"white-space:pre;overflow-x:auto;line-height:normal;font-family:Menlo,'DejaVu Sans Mono',consolas,'Courier New',monospace\"><span style=\"color: #7fbfbf; text-decoration-color: #7fbfbf\">             </span>Running <span style=\"color: #008080; text-decoration-color: #008080; font-weight: bold\">1</span> Simulations                                              \n",
       "</pre>\n"
      ],
      "text/plain": [
       "\u001b[2;36m            \u001b[0m\u001b[2;36m \u001b[0mRunning \u001b[1;36m1\u001b[0m Simulations                                              \n"
      ]
     },
     "metadata": {},
     "output_type": "display_data"
    },
    {
     "data": {
      "text/html": [
       "<pre style=\"white-space:pre;overflow-x:auto;line-height:normal;font-family:Menlo,'DejaVu Sans Mono',consolas,'Courier New',monospace\"><span style=\"color: #7fbfbf; text-decoration-color: #7fbfbf\">17:39:45 BST </span>Running <span style=\"color: #008080; text-decoration-color: #008080; font-weight: bold\">1</span> Simulations                                              \n",
       "</pre>\n"
      ],
      "text/plain": [
       "\u001b[2;36m17:39:45 BST\u001b[0m\u001b[2;36m \u001b[0mRunning \u001b[1;36m1\u001b[0m Simulations                                              \n"
      ]
     },
     "metadata": {},
     "output_type": "display_data"
    },
    {
     "data": {
      "text/html": [
       "<pre style=\"white-space:pre;overflow-x:auto;line-height:normal;font-family:Menlo,'DejaVu Sans Mono',consolas,'Courier New',monospace\"><span style=\"color: #7fbfbf; text-decoration-color: #7fbfbf\">17:40:54 BST </span>Latest Best Fit on Iter <span style=\"color: #008080; text-decoration-color: #008080; font-weight: bold\">44</span>: <span style=\"color: #008080; text-decoration-color: #008080; font-weight: bold\">-5.694</span>                                 \n",
       "<span style=\"color: #7fbfbf; text-decoration-color: #7fbfbf\">             </span>                                                                   \n",
       "</pre>\n"
      ],
      "text/plain": [
       "\u001b[2;36m17:40:54 BST\u001b[0m\u001b[2;36m \u001b[0mLatest Best Fit on Iter \u001b[1;36m44\u001b[0m: \u001b[1;36m-5.694\u001b[0m                                 \n",
       "\u001b[2;36m             \u001b[0m                                                                   \n"
      ]
     },
     "metadata": {},
     "output_type": "display_data"
    },
    {
     "data": {
      "text/html": [
       "<pre style=\"white-space:pre;overflow-x:auto;line-height:normal;font-family:Menlo,'DejaVu Sans Mono',consolas,'Courier New',monospace\"><span style=\"color: #7fbfbf; text-decoration-color: #7fbfbf\">             </span>Running <span style=\"color: #008080; text-decoration-color: #008080; font-weight: bold\">1</span> Simulations                                              \n",
       "</pre>\n"
      ],
      "text/plain": [
       "\u001b[2;36m            \u001b[0m\u001b[2;36m \u001b[0mRunning \u001b[1;36m1\u001b[0m Simulations                                              \n"
      ]
     },
     "metadata": {},
     "output_type": "display_data"
    },
    {
     "data": {
      "text/html": [
       "<pre style=\"white-space:pre;overflow-x:auto;line-height:normal;font-family:Menlo,'DejaVu Sans Mono',consolas,'Courier New',monospace\"><span style=\"color: #7fbfbf; text-decoration-color: #7fbfbf\">17:42:18 BST </span>Latest Best Fit on Iter <span style=\"color: #008080; text-decoration-color: #008080; font-weight: bold\">45</span>: <span style=\"color: #008080; text-decoration-color: #008080; font-weight: bold\">-5.542</span>                                 \n",
       "<span style=\"color: #7fbfbf; text-decoration-color: #7fbfbf\">             </span>                                                                   \n",
       "</pre>\n"
      ],
      "text/plain": [
       "\u001b[2;36m17:42:18 BST\u001b[0m\u001b[2;36m \u001b[0mLatest Best Fit on Iter \u001b[1;36m45\u001b[0m: \u001b[1;36m-5.542\u001b[0m                                 \n",
       "\u001b[2;36m             \u001b[0m                                                                   \n"
      ]
     },
     "metadata": {},
     "output_type": "display_data"
    },
    {
     "data": {
      "text/html": [
       "<pre style=\"white-space:pre;overflow-x:auto;line-height:normal;font-family:Menlo,'DejaVu Sans Mono',consolas,'Courier New',monospace\"><span style=\"color: #7fbfbf; text-decoration-color: #7fbfbf\">17:42:19 BST </span>Running <span style=\"color: #008080; text-decoration-color: #008080; font-weight: bold\">1</span> Simulations                                              \n",
       "</pre>\n"
      ],
      "text/plain": [
       "\u001b[2;36m17:42:19 BST\u001b[0m\u001b[2;36m \u001b[0mRunning \u001b[1;36m1\u001b[0m Simulations                                              \n"
      ]
     },
     "metadata": {},
     "output_type": "display_data"
    },
    {
     "data": {
      "text/html": [
       "<pre style=\"white-space:pre;overflow-x:auto;line-height:normal;font-family:Menlo,'DejaVu Sans Mono',consolas,'Courier New',monospace\"><span style=\"color: #7fbfbf; text-decoration-color: #7fbfbf\">17:43:22 BST </span>Running <span style=\"color: #008080; text-decoration-color: #008080; font-weight: bold\">1</span> Simulations                                              \n",
       "</pre>\n"
      ],
      "text/plain": [
       "\u001b[2;36m17:43:22 BST\u001b[0m\u001b[2;36m \u001b[0mRunning \u001b[1;36m1\u001b[0m Simulations                                              \n"
      ]
     },
     "metadata": {},
     "output_type": "display_data"
    },
    {
     "data": {
      "text/html": [
       "<pre style=\"white-space:pre;overflow-x:auto;line-height:normal;font-family:Menlo,'DejaVu Sans Mono',consolas,'Courier New',monospace\"><span style=\"color: #7fbfbf; text-decoration-color: #7fbfbf\">17:44:27 BST </span>Running <span style=\"color: #008080; text-decoration-color: #008080; font-weight: bold\">1</span> Simulations                                              \n",
       "</pre>\n"
      ],
      "text/plain": [
       "\u001b[2;36m17:44:27 BST\u001b[0m\u001b[2;36m \u001b[0mRunning \u001b[1;36m1\u001b[0m Simulations                                              \n"
      ]
     },
     "metadata": {},
     "output_type": "display_data"
    },
    {
     "data": {
      "text/html": [
       "<pre style=\"white-space:pre;overflow-x:auto;line-height:normal;font-family:Menlo,'DejaVu Sans Mono',consolas,'Courier New',monospace\"><span style=\"color: #7fbfbf; text-decoration-color: #7fbfbf\">17:45:36 BST </span>Running <span style=\"color: #008080; text-decoration-color: #008080; font-weight: bold\">1</span> Simulations                                              \n",
       "</pre>\n"
      ],
      "text/plain": [
       "\u001b[2;36m17:45:36 BST\u001b[0m\u001b[2;36m \u001b[0mRunning \u001b[1;36m1\u001b[0m Simulations                                              \n"
      ]
     },
     "metadata": {},
     "output_type": "display_data"
    },
    {
     "data": {
      "text/html": [
       "<pre style=\"white-space:pre;overflow-x:auto;line-height:normal;font-family:Menlo,'DejaVu Sans Mono',consolas,'Courier New',monospace\"><span style=\"color: #7fbfbf; text-decoration-color: #7fbfbf\">17:46:45 BST </span>Running <span style=\"color: #008080; text-decoration-color: #008080; font-weight: bold\">1</span> Simulations                                              \n",
       "</pre>\n"
      ],
      "text/plain": [
       "\u001b[2;36m17:46:45 BST\u001b[0m\u001b[2;36m \u001b[0mRunning \u001b[1;36m1\u001b[0m Simulations                                              \n"
      ]
     },
     "metadata": {},
     "output_type": "display_data"
    },
    {
     "data": {
      "text/html": [
       "<pre style=\"white-space:pre;overflow-x:auto;line-height:normal;font-family:Menlo,'DejaVu Sans Mono',consolas,'Courier New',monospace\"><span style=\"color: #7fbfbf; text-decoration-color: #7fbfbf\">17:49:44 BST </span>Latest Best Fit on Iter <span style=\"color: #008080; text-decoration-color: #008080; font-weight: bold\">50</span>: <span style=\"color: #008080; text-decoration-color: #008080; font-weight: bold\">-5.487</span>                                 \n",
       "<span style=\"color: #7fbfbf; text-decoration-color: #7fbfbf\">             </span>                                                                   \n",
       "</pre>\n"
      ],
      "text/plain": [
       "\u001b[2;36m17:49:44 BST\u001b[0m\u001b[2;36m \u001b[0mLatest Best Fit on Iter \u001b[1;36m50\u001b[0m: \u001b[1;36m-5.487\u001b[0m                                 \n",
       "\u001b[2;36m             \u001b[0m                                                                   \n"
      ]
     },
     "metadata": {},
     "output_type": "display_data"
    },
    {
     "data": {
      "text/html": [
       "<pre style=\"white-space:pre;overflow-x:auto;line-height:normal;font-family:Menlo,'DejaVu Sans Mono',consolas,'Courier New',monospace\"><span style=\"color: #7fbfbf; text-decoration-color: #7fbfbf\">17:49:45 BST </span>Running <span style=\"color: #008080; text-decoration-color: #008080; font-weight: bold\">1</span> Simulations                                              \n",
       "</pre>\n"
      ],
      "text/plain": [
       "\u001b[2;36m17:49:45 BST\u001b[0m\u001b[2;36m \u001b[0mRunning \u001b[1;36m1\u001b[0m Simulations                                              \n"
      ]
     },
     "metadata": {},
     "output_type": "display_data"
    },
    {
     "data": {
      "text/html": [
       "<pre style=\"white-space:pre;overflow-x:auto;line-height:normal;font-family:Menlo,'DejaVu Sans Mono',consolas,'Courier New',monospace\"><span style=\"color: #7fbfbf; text-decoration-color: #7fbfbf\">17:54:30 BST </span>Latest Best Fit on Iter <span style=\"color: #008080; text-decoration-color: #008080; font-weight: bold\">51</span>: <span style=\"color: #008080; text-decoration-color: #008080; font-weight: bold\">-4.927</span>                                 \n",
       "<span style=\"color: #7fbfbf; text-decoration-color: #7fbfbf\">             </span>                                                                   \n",
       "</pre>\n"
      ],
      "text/plain": [
       "\u001b[2;36m17:54:30 BST\u001b[0m\u001b[2;36m \u001b[0mLatest Best Fit on Iter \u001b[1;36m51\u001b[0m: \u001b[1;36m-4.927\u001b[0m                                 \n",
       "\u001b[2;36m             \u001b[0m                                                                   \n"
      ]
     },
     "metadata": {},
     "output_type": "display_data"
    },
    {
     "data": {
      "text/html": [
       "<pre style=\"white-space:pre;overflow-x:auto;line-height:normal;font-family:Menlo,'DejaVu Sans Mono',consolas,'Courier New',monospace\"><span style=\"color: #7fbfbf; text-decoration-color: #7fbfbf\">             </span>Running <span style=\"color: #008080; text-decoration-color: #008080; font-weight: bold\">1</span> Simulations                                              \n",
       "</pre>\n"
      ],
      "text/plain": [
       "\u001b[2;36m            \u001b[0m\u001b[2;36m \u001b[0mRunning \u001b[1;36m1\u001b[0m Simulations                                              \n"
      ]
     },
     "metadata": {},
     "output_type": "display_data"
    },
    {
     "data": {
      "text/html": [
       "<pre style=\"white-space:pre;overflow-x:auto;line-height:normal;font-family:Menlo,'DejaVu Sans Mono',consolas,'Courier New',monospace\"><span style=\"color: #7fbfbf; text-decoration-color: #7fbfbf\">17:56:09 BST </span>Running <span style=\"color: #008080; text-decoration-color: #008080; font-weight: bold\">1</span> Simulations                                              \n",
       "</pre>\n"
      ],
      "text/plain": [
       "\u001b[2;36m17:56:09 BST\u001b[0m\u001b[2;36m \u001b[0mRunning \u001b[1;36m1\u001b[0m Simulations                                              \n"
      ]
     },
     "metadata": {},
     "output_type": "display_data"
    },
    {
     "data": {
      "text/html": [
       "<pre style=\"white-space:pre;overflow-x:auto;line-height:normal;font-family:Menlo,'DejaVu Sans Mono',consolas,'Courier New',monospace\"><span style=\"color: #7fbfbf; text-decoration-color: #7fbfbf\">17:58:01 BST </span>Running <span style=\"color: #008080; text-decoration-color: #008080; font-weight: bold\">1</span> Simulations                                              \n",
       "</pre>\n"
      ],
      "text/plain": [
       "\u001b[2;36m17:58:01 BST\u001b[0m\u001b[2;36m \u001b[0mRunning \u001b[1;36m1\u001b[0m Simulations                                              \n"
      ]
     },
     "metadata": {},
     "output_type": "display_data"
    },
    {
     "data": {
      "text/html": [
       "<pre style=\"white-space:pre;overflow-x:auto;line-height:normal;font-family:Menlo,'DejaVu Sans Mono',consolas,'Courier New',monospace\"><span style=\"color: #7fbfbf; text-decoration-color: #7fbfbf\">17:58:57 BST </span>Latest Best Fit on Iter <span style=\"color: #008080; text-decoration-color: #008080; font-weight: bold\">54</span>: <span style=\"color: #008080; text-decoration-color: #008080; font-weight: bold\">-4.893</span>                                 \n",
       "<span style=\"color: #7fbfbf; text-decoration-color: #7fbfbf\">             </span>                                                                   \n",
       "</pre>\n"
      ],
      "text/plain": [
       "\u001b[2;36m17:58:57 BST\u001b[0m\u001b[2;36m \u001b[0mLatest Best Fit on Iter \u001b[1;36m54\u001b[0m: \u001b[1;36m-4.893\u001b[0m                                 \n",
       "\u001b[2;36m             \u001b[0m                                                                   \n"
      ]
     },
     "metadata": {},
     "output_type": "display_data"
    },
    {
     "data": {
      "text/html": [
       "<pre style=\"white-space:pre;overflow-x:auto;line-height:normal;font-family:Menlo,'DejaVu Sans Mono',consolas,'Courier New',monospace\"><span style=\"color: #7fbfbf; text-decoration-color: #7fbfbf\">17:58:58 BST </span>Running <span style=\"color: #008080; text-decoration-color: #008080; font-weight: bold\">1</span> Simulations                                              \n",
       "</pre>\n"
      ],
      "text/plain": [
       "\u001b[2;36m17:58:58 BST\u001b[0m\u001b[2;36m \u001b[0mRunning \u001b[1;36m1\u001b[0m Simulations                                              \n"
      ]
     },
     "metadata": {},
     "output_type": "display_data"
    },
    {
     "data": {
      "text/html": [
       "<pre style=\"white-space:pre;overflow-x:auto;line-height:normal;font-family:Menlo,'DejaVu Sans Mono',consolas,'Courier New',monospace\"><span style=\"color: #7fbfbf; text-decoration-color: #7fbfbf\">18:00:01 BST </span>Running <span style=\"color: #008080; text-decoration-color: #008080; font-weight: bold\">1</span> Simulations                                              \n",
       "</pre>\n"
      ],
      "text/plain": [
       "\u001b[2;36m18:00:01 BST\u001b[0m\u001b[2;36m \u001b[0mRunning \u001b[1;36m1\u001b[0m Simulations                                              \n"
      ]
     },
     "metadata": {},
     "output_type": "display_data"
    },
    {
     "data": {
      "text/html": [
       "<pre style=\"white-space:pre;overflow-x:auto;line-height:normal;font-family:Menlo,'DejaVu Sans Mono',consolas,'Courier New',monospace\"><span style=\"color: #7fbfbf; text-decoration-color: #7fbfbf\">18:01:08 BST </span>Running <span style=\"color: #008080; text-decoration-color: #008080; font-weight: bold\">1</span> Simulations                                              \n",
       "</pre>\n"
      ],
      "text/plain": [
       "\u001b[2;36m18:01:08 BST\u001b[0m\u001b[2;36m \u001b[0mRunning \u001b[1;36m1\u001b[0m Simulations                                              \n"
      ]
     },
     "metadata": {},
     "output_type": "display_data"
    },
    {
     "data": {
      "text/html": [
       "<pre style=\"white-space:pre;overflow-x:auto;line-height:normal;font-family:Menlo,'DejaVu Sans Mono',consolas,'Courier New',monospace\"><span style=\"color: #7fbfbf; text-decoration-color: #7fbfbf\">18:02:53 BST </span>Latest Best Fit on Iter <span style=\"color: #008080; text-decoration-color: #008080; font-weight: bold\">57</span>: <span style=\"color: #008080; text-decoration-color: #008080; font-weight: bold\">-4.86</span>                                  \n",
       "<span style=\"color: #7fbfbf; text-decoration-color: #7fbfbf\">             </span>                                                                   \n",
       "</pre>\n"
      ],
      "text/plain": [
       "\u001b[2;36m18:02:53 BST\u001b[0m\u001b[2;36m \u001b[0mLatest Best Fit on Iter \u001b[1;36m57\u001b[0m: \u001b[1;36m-4.86\u001b[0m                                  \n",
       "\u001b[2;36m             \u001b[0m                                                                   \n"
      ]
     },
     "metadata": {},
     "output_type": "display_data"
    },
    {
     "data": {
      "text/html": [
       "<pre style=\"white-space:pre;overflow-x:auto;line-height:normal;font-family:Menlo,'DejaVu Sans Mono',consolas,'Courier New',monospace\"><span style=\"color: #7fbfbf; text-decoration-color: #7fbfbf\">18:02:55 BST </span>Running <span style=\"color: #008080; text-decoration-color: #008080; font-weight: bold\">1</span> Simulations                                              \n",
       "</pre>\n"
      ],
      "text/plain": [
       "\u001b[2;36m18:02:55 BST\u001b[0m\u001b[2;36m \u001b[0mRunning \u001b[1;36m1\u001b[0m Simulations                                              \n"
      ]
     },
     "metadata": {},
     "output_type": "display_data"
    },
    {
     "data": {
      "text/html": [
       "<pre style=\"white-space:pre;overflow-x:auto;line-height:normal;font-family:Menlo,'DejaVu Sans Mono',consolas,'Courier New',monospace\"><span style=\"color: #7fbfbf; text-decoration-color: #7fbfbf\">18:04:37 BST </span>Running <span style=\"color: #008080; text-decoration-color: #008080; font-weight: bold\">1</span> Simulations                                              \n",
       "</pre>\n"
      ],
      "text/plain": [
       "\u001b[2;36m18:04:37 BST\u001b[0m\u001b[2;36m \u001b[0mRunning \u001b[1;36m1\u001b[0m Simulations                                              \n"
      ]
     },
     "metadata": {},
     "output_type": "display_data"
    },
    {
     "data": {
      "text/html": [
       "<pre style=\"white-space:pre;overflow-x:auto;line-height:normal;font-family:Menlo,'DejaVu Sans Mono',consolas,'Courier New',monospace\"><span style=\"color: #7fbfbf; text-decoration-color: #7fbfbf\">18:06:21 BST </span>Latest Best Fit on Iter <span style=\"color: #008080; text-decoration-color: #008080; font-weight: bold\">59</span>: <span style=\"color: #008080; text-decoration-color: #008080; font-weight: bold\">-4.83</span>                                  \n",
       "<span style=\"color: #7fbfbf; text-decoration-color: #7fbfbf\">             </span>                                                                   \n",
       "</pre>\n"
      ],
      "text/plain": [
       "\u001b[2;36m18:06:21 BST\u001b[0m\u001b[2;36m \u001b[0mLatest Best Fit on Iter \u001b[1;36m59\u001b[0m: \u001b[1;36m-4.83\u001b[0m                                  \n",
       "\u001b[2;36m             \u001b[0m                                                                   \n"
      ]
     },
     "metadata": {},
     "output_type": "display_data"
    },
    {
     "data": {
      "text/html": [
       "<pre style=\"white-space:pre;overflow-x:auto;line-height:normal;font-family:Menlo,'DejaVu Sans Mono',consolas,'Courier New',monospace\"><span style=\"color: #7fbfbf; text-decoration-color: #7fbfbf\">18:06:23 BST </span>Running <span style=\"color: #008080; text-decoration-color: #008080; font-weight: bold\">1</span> Simulations                                              \n",
       "</pre>\n"
      ],
      "text/plain": [
       "\u001b[2;36m18:06:23 BST\u001b[0m\u001b[2;36m \u001b[0mRunning \u001b[1;36m1\u001b[0m Simulations                                              \n"
      ]
     },
     "metadata": {},
     "output_type": "display_data"
    },
    {
     "data": {
      "text/html": [
       "<pre style=\"white-space:pre;overflow-x:auto;line-height:normal;font-family:Menlo,'DejaVu Sans Mono',consolas,'Courier New',monospace\"><span style=\"color: #7fbfbf; text-decoration-color: #7fbfbf\">18:07:55 BST </span>Running <span style=\"color: #008080; text-decoration-color: #008080; font-weight: bold\">1</span> Simulations                                              \n",
       "</pre>\n"
      ],
      "text/plain": [
       "\u001b[2;36m18:07:55 BST\u001b[0m\u001b[2;36m \u001b[0mRunning \u001b[1;36m1\u001b[0m Simulations                                              \n"
      ]
     },
     "metadata": {},
     "output_type": "display_data"
    },
    {
     "data": {
      "text/html": [
       "<pre style=\"white-space:pre;overflow-x:auto;line-height:normal;font-family:Menlo,'DejaVu Sans Mono',consolas,'Courier New',monospace\"><span style=\"color: #7fbfbf; text-decoration-color: #7fbfbf\">18:09:27 BST </span>Latest Best Fit on Iter <span style=\"color: #008080; text-decoration-color: #008080; font-weight: bold\">61</span>: <span style=\"color: #008080; text-decoration-color: #008080; font-weight: bold\">-4.777</span>                                 \n",
       "<span style=\"color: #7fbfbf; text-decoration-color: #7fbfbf\">             </span>                                                                   \n",
       "</pre>\n"
      ],
      "text/plain": [
       "\u001b[2;36m18:09:27 BST\u001b[0m\u001b[2;36m \u001b[0mLatest Best Fit on Iter \u001b[1;36m61\u001b[0m: \u001b[1;36m-4.777\u001b[0m                                 \n",
       "\u001b[2;36m             \u001b[0m                                                                   \n"
      ]
     },
     "metadata": {},
     "output_type": "display_data"
    },
    {
     "data": {
      "text/html": [
       "<pre style=\"white-space:pre;overflow-x:auto;line-height:normal;font-family:Menlo,'DejaVu Sans Mono',consolas,'Courier New',monospace\"><span style=\"color: #7fbfbf; text-decoration-color: #7fbfbf\">             </span>Running <span style=\"color: #008080; text-decoration-color: #008080; font-weight: bold\">1</span> Simulations                                              \n",
       "</pre>\n"
      ],
      "text/plain": [
       "\u001b[2;36m            \u001b[0m\u001b[2;36m \u001b[0mRunning \u001b[1;36m1\u001b[0m Simulations                                              \n"
      ]
     },
     "metadata": {},
     "output_type": "display_data"
    },
    {
     "data": {
      "text/html": [
       "<pre style=\"white-space:pre;overflow-x:auto;line-height:normal;font-family:Menlo,'DejaVu Sans Mono',consolas,'Courier New',monospace\"><span style=\"color: #7fbfbf; text-decoration-color: #7fbfbf\">18:10:38 BST </span>Latest Best Fit on Iter <span style=\"color: #008080; text-decoration-color: #008080; font-weight: bold\">62</span>: <span style=\"color: #008080; text-decoration-color: #008080; font-weight: bold\">-4.737</span>                                 \n",
       "<span style=\"color: #7fbfbf; text-decoration-color: #7fbfbf\">             </span>                                                                   \n",
       "</pre>\n"
      ],
      "text/plain": [
       "\u001b[2;36m18:10:38 BST\u001b[0m\u001b[2;36m \u001b[0mLatest Best Fit on Iter \u001b[1;36m62\u001b[0m: \u001b[1;36m-4.737\u001b[0m                                 \n",
       "\u001b[2;36m             \u001b[0m                                                                   \n"
      ]
     },
     "metadata": {},
     "output_type": "display_data"
    },
    {
     "data": {
      "text/html": [
       "<pre style=\"white-space:pre;overflow-x:auto;line-height:normal;font-family:Menlo,'DejaVu Sans Mono',consolas,'Courier New',monospace\"><span style=\"color: #7fbfbf; text-decoration-color: #7fbfbf\">18:10:39 BST </span>Running <span style=\"color: #008080; text-decoration-color: #008080; font-weight: bold\">1</span> Simulations                                              \n",
       "</pre>\n"
      ],
      "text/plain": [
       "\u001b[2;36m18:10:39 BST\u001b[0m\u001b[2;36m \u001b[0mRunning \u001b[1;36m1\u001b[0m Simulations                                              \n"
      ]
     },
     "metadata": {},
     "output_type": "display_data"
    },
    {
     "data": {
      "text/html": [
       "<pre style=\"white-space:pre;overflow-x:auto;line-height:normal;font-family:Menlo,'DejaVu Sans Mono',consolas,'Courier New',monospace\"><span style=\"color: #7fbfbf; text-decoration-color: #7fbfbf\">18:11:33 BST </span>Latest Best Fit on Iter <span style=\"color: #008080; text-decoration-color: #008080; font-weight: bold\">63</span>: <span style=\"color: #008080; text-decoration-color: #008080; font-weight: bold\">-4.699</span>                                 \n",
       "<span style=\"color: #7fbfbf; text-decoration-color: #7fbfbf\">             </span>                                                                   \n",
       "</pre>\n"
      ],
      "text/plain": [
       "\u001b[2;36m18:11:33 BST\u001b[0m\u001b[2;36m \u001b[0mLatest Best Fit on Iter \u001b[1;36m63\u001b[0m: \u001b[1;36m-4.699\u001b[0m                                 \n",
       "\u001b[2;36m             \u001b[0m                                                                   \n"
      ]
     },
     "metadata": {},
     "output_type": "display_data"
    },
    {
     "data": {
      "text/html": [
       "<pre style=\"white-space:pre;overflow-x:auto;line-height:normal;font-family:Menlo,'DejaVu Sans Mono',consolas,'Courier New',monospace\"><span style=\"color: #7fbfbf; text-decoration-color: #7fbfbf\">18:11:34 BST </span>Running <span style=\"color: #008080; text-decoration-color: #008080; font-weight: bold\">1</span> Simulations                                              \n",
       "</pre>\n"
      ],
      "text/plain": [
       "\u001b[2;36m18:11:34 BST\u001b[0m\u001b[2;36m \u001b[0mRunning \u001b[1;36m1\u001b[0m Simulations                                              \n"
      ]
     },
     "metadata": {},
     "output_type": "display_data"
    },
    {
     "data": {
      "text/html": [
       "<pre style=\"white-space:pre;overflow-x:auto;line-height:normal;font-family:Menlo,'DejaVu Sans Mono',consolas,'Courier New',monospace\"><span style=\"color: #7fbfbf; text-decoration-color: #7fbfbf\">18:13:08 BST </span>Latest Best Fit on Iter <span style=\"color: #008080; text-decoration-color: #008080; font-weight: bold\">64</span>: <span style=\"color: #008080; text-decoration-color: #008080; font-weight: bold\">-4.656</span>                                 \n",
       "<span style=\"color: #7fbfbf; text-decoration-color: #7fbfbf\">             </span>                                                                   \n",
       "</pre>\n"
      ],
      "text/plain": [
       "\u001b[2;36m18:13:08 BST\u001b[0m\u001b[2;36m \u001b[0mLatest Best Fit on Iter \u001b[1;36m64\u001b[0m: \u001b[1;36m-4.656\u001b[0m                                 \n",
       "\u001b[2;36m             \u001b[0m                                                                   \n"
      ]
     },
     "metadata": {},
     "output_type": "display_data"
    },
    {
     "data": {
      "text/html": [
       "<pre style=\"white-space:pre;overflow-x:auto;line-height:normal;font-family:Menlo,'DejaVu Sans Mono',consolas,'Courier New',monospace\"><span style=\"color: #7fbfbf; text-decoration-color: #7fbfbf\">18:13:09 BST </span>Running <span style=\"color: #008080; text-decoration-color: #008080; font-weight: bold\">1</span> Simulations                                              \n",
       "</pre>\n"
      ],
      "text/plain": [
       "\u001b[2;36m18:13:09 BST\u001b[0m\u001b[2;36m \u001b[0mRunning \u001b[1;36m1\u001b[0m Simulations                                              \n"
      ]
     },
     "metadata": {},
     "output_type": "display_data"
    },
    {
     "data": {
      "text/html": [
       "<pre style=\"white-space:pre;overflow-x:auto;line-height:normal;font-family:Menlo,'DejaVu Sans Mono',consolas,'Courier New',monospace\"><span style=\"color: #7fbfbf; text-decoration-color: #7fbfbf\">18:14:21 BST </span>Running <span style=\"color: #008080; text-decoration-color: #008080; font-weight: bold\">1</span> Simulations                                              \n",
       "</pre>\n"
      ],
      "text/plain": [
       "\u001b[2;36m18:14:21 BST\u001b[0m\u001b[2;36m \u001b[0mRunning \u001b[1;36m1\u001b[0m Simulations                                              \n"
      ]
     },
     "metadata": {},
     "output_type": "display_data"
    },
    {
     "data": {
      "text/html": [
       "<pre style=\"white-space:pre;overflow-x:auto;line-height:normal;font-family:Menlo,'DejaVu Sans Mono',consolas,'Courier New',monospace\"><span style=\"color: #7fbfbf; text-decoration-color: #7fbfbf\">18:15:31 BST </span>Latest Best Fit on Iter <span style=\"color: #008080; text-decoration-color: #008080; font-weight: bold\">66</span>: <span style=\"color: #008080; text-decoration-color: #008080; font-weight: bold\">-4.587</span>                                 \n",
       "<span style=\"color: #7fbfbf; text-decoration-color: #7fbfbf\">             </span>                                                                   \n",
       "</pre>\n"
      ],
      "text/plain": [
       "\u001b[2;36m18:15:31 BST\u001b[0m\u001b[2;36m \u001b[0mLatest Best Fit on Iter \u001b[1;36m66\u001b[0m: \u001b[1;36m-4.587\u001b[0m                                 \n",
       "\u001b[2;36m             \u001b[0m                                                                   \n"
      ]
     },
     "metadata": {},
     "output_type": "display_data"
    },
    {
     "data": {
      "text/html": [
       "<pre style=\"white-space:pre;overflow-x:auto;line-height:normal;font-family:Menlo,'DejaVu Sans Mono',consolas,'Courier New',monospace\"><span style=\"color: #7fbfbf; text-decoration-color: #7fbfbf\">18:15:32 BST </span>Running <span style=\"color: #008080; text-decoration-color: #008080; font-weight: bold\">1</span> Simulations                                              \n",
       "</pre>\n"
      ],
      "text/plain": [
       "\u001b[2;36m18:15:32 BST\u001b[0m\u001b[2;36m \u001b[0mRunning \u001b[1;36m1\u001b[0m Simulations                                              \n"
      ]
     },
     "metadata": {},
     "output_type": "display_data"
    },
    {
     "data": {
      "text/html": [
       "<pre style=\"white-space:pre;overflow-x:auto;line-height:normal;font-family:Menlo,'DejaVu Sans Mono',consolas,'Courier New',monospace\"><span style=\"color: #7fbfbf; text-decoration-color: #7fbfbf\">18:16:33 BST </span>Latest Best Fit on Iter <span style=\"color: #008080; text-decoration-color: #008080; font-weight: bold\">67</span>: <span style=\"color: #008080; text-decoration-color: #008080; font-weight: bold\">-4.538</span>                                 \n",
       "<span style=\"color: #7fbfbf; text-decoration-color: #7fbfbf\">             </span>                                                                   \n",
       "</pre>\n"
      ],
      "text/plain": [
       "\u001b[2;36m18:16:33 BST\u001b[0m\u001b[2;36m \u001b[0mLatest Best Fit on Iter \u001b[1;36m67\u001b[0m: \u001b[1;36m-4.538\u001b[0m                                 \n",
       "\u001b[2;36m             \u001b[0m                                                                   \n"
      ]
     },
     "metadata": {},
     "output_type": "display_data"
    },
    {
     "data": {
      "text/html": [
       "<pre style=\"white-space:pre;overflow-x:auto;line-height:normal;font-family:Menlo,'DejaVu Sans Mono',consolas,'Courier New',monospace\"><span style=\"color: #7fbfbf; text-decoration-color: #7fbfbf\">             </span>Running <span style=\"color: #008080; text-decoration-color: #008080; font-weight: bold\">1</span> Simulations                                              \n",
       "</pre>\n"
      ],
      "text/plain": [
       "\u001b[2;36m            \u001b[0m\u001b[2;36m \u001b[0mRunning \u001b[1;36m1\u001b[0m Simulations                                              \n"
      ]
     },
     "metadata": {},
     "output_type": "display_data"
    },
    {
     "data": {
      "text/html": [
       "<pre style=\"white-space:pre;overflow-x:auto;line-height:normal;font-family:Menlo,'DejaVu Sans Mono',consolas,'Courier New',monospace\"><span style=\"color: #7fbfbf; text-decoration-color: #7fbfbf\">18:18:10 BST </span>Latest Best Fit on Iter <span style=\"color: #008080; text-decoration-color: #008080; font-weight: bold\">68</span>: <span style=\"color: #008080; text-decoration-color: #008080; font-weight: bold\">-4.499</span>                                 \n",
       "<span style=\"color: #7fbfbf; text-decoration-color: #7fbfbf\">             </span>                                                                   \n",
       "</pre>\n"
      ],
      "text/plain": [
       "\u001b[2;36m18:18:10 BST\u001b[0m\u001b[2;36m \u001b[0mLatest Best Fit on Iter \u001b[1;36m68\u001b[0m: \u001b[1;36m-4.499\u001b[0m                                 \n",
       "\u001b[2;36m             \u001b[0m                                                                   \n"
      ]
     },
     "metadata": {},
     "output_type": "display_data"
    },
    {
     "data": {
      "text/html": [
       "<pre style=\"white-space:pre;overflow-x:auto;line-height:normal;font-family:Menlo,'DejaVu Sans Mono',consolas,'Courier New',monospace\"><span style=\"color: #7fbfbf; text-decoration-color: #7fbfbf\">18:18:11 BST </span>Running <span style=\"color: #008080; text-decoration-color: #008080; font-weight: bold\">1</span> Simulations                                              \n",
       "</pre>\n"
      ],
      "text/plain": [
       "\u001b[2;36m18:18:11 BST\u001b[0m\u001b[2;36m \u001b[0mRunning \u001b[1;36m1\u001b[0m Simulations                                              \n"
      ]
     },
     "metadata": {},
     "output_type": "display_data"
    },
    {
     "data": {
      "text/html": [
       "<pre style=\"white-space:pre;overflow-x:auto;line-height:normal;font-family:Menlo,'DejaVu Sans Mono',consolas,'Courier New',monospace\"><span style=\"color: #7fbfbf; text-decoration-color: #7fbfbf\">18:19:47 BST </span>Latest Best Fit on Iter <span style=\"color: #008080; text-decoration-color: #008080; font-weight: bold\">69</span>: <span style=\"color: #008080; text-decoration-color: #008080; font-weight: bold\">-4.406</span>                                 \n",
       "<span style=\"color: #7fbfbf; text-decoration-color: #7fbfbf\">             </span>                                                                   \n",
       "</pre>\n"
      ],
      "text/plain": [
       "\u001b[2;36m18:19:47 BST\u001b[0m\u001b[2;36m \u001b[0mLatest Best Fit on Iter \u001b[1;36m69\u001b[0m: \u001b[1;36m-4.406\u001b[0m                                 \n",
       "\u001b[2;36m             \u001b[0m                                                                   \n"
      ]
     },
     "metadata": {},
     "output_type": "display_data"
    },
    {
     "data": {
      "text/html": [
       "<pre style=\"white-space:pre;overflow-x:auto;line-height:normal;font-family:Menlo,'DejaVu Sans Mono',consolas,'Courier New',monospace\"><span style=\"color: #7fbfbf; text-decoration-color: #7fbfbf\">             </span>Best Result: <span style=\"color: #008080; text-decoration-color: #008080; font-weight: bold\">-4.4055562604894485</span>                                   \n",
       "<span style=\"color: #7fbfbf; text-decoration-color: #7fbfbf\">             </span>Best Parameters: w_0: <span style=\"color: #008080; text-decoration-color: #008080; font-weight: bold\">0.5931301204038487</span> w_1: <span style=\"color: #008080; text-decoration-color: #008080; font-weight: bold\">0.5</span> w_10:            \n",
       "<span style=\"color: #7fbfbf; text-decoration-color: #7fbfbf\">             </span><span style=\"color: #008080; text-decoration-color: #008080; font-weight: bold\">0.5903932922556919</span> w_11: <span style=\"color: #008080; text-decoration-color: #008080; font-weight: bold\">0.5</span> w_12: <span style=\"color: #008080; text-decoration-color: #008080; font-weight: bold\">1.3472697086120091</span> w_2:         \n",
       "<span style=\"color: #7fbfbf; text-decoration-color: #7fbfbf\">             </span><span style=\"color: #008080; text-decoration-color: #008080; font-weight: bold\">1.1303513561201977</span> w_3: <span style=\"color: #008080; text-decoration-color: #008080; font-weight: bold\">1.6</span> w_4: <span style=\"color: #008080; text-decoration-color: #008080; font-weight: bold\">1.409963655095437</span> w_5:            \n",
       "<span style=\"color: #7fbfbf; text-decoration-color: #7fbfbf\">             </span><span style=\"color: #008080; text-decoration-color: #008080; font-weight: bold\">1.3575099556878945</span> w_6: <span style=\"color: #008080; text-decoration-color: #008080; font-weight: bold\">1.4521481413205992</span> w_7: <span style=\"color: #008080; text-decoration-color: #008080; font-weight: bold\">1.2184433257470613</span> \n",
       "<span style=\"color: #7fbfbf; text-decoration-color: #7fbfbf\">             </span>w_8: <span style=\"color: #008080; text-decoration-color: #008080; font-weight: bold\">1.6</span> w_9: <span style=\"color: #008080; text-decoration-color: #008080; font-weight: bold\">1.078173871888387</span>                                    \n",
       "<span style=\"color: #7fbfbf; text-decoration-color: #7fbfbf\">             </span>                                                                   \n",
       "</pre>\n"
      ],
      "text/plain": [
       "\u001b[2;36m            \u001b[0m\u001b[2;36m \u001b[0mBest Result: \u001b[1;36m-4.4055562604894485\u001b[0m                                   \n",
       "\u001b[2;36m             \u001b[0mBest Parameters: w_0: \u001b[1;36m0.5931301204038487\u001b[0m w_1: \u001b[1;36m0.5\u001b[0m w_10:            \n",
       "\u001b[2;36m             \u001b[0m\u001b[1;36m0.5903932922556919\u001b[0m w_11: \u001b[1;36m0.5\u001b[0m w_12: \u001b[1;36m1.3472697086120091\u001b[0m w_2:         \n",
       "\u001b[2;36m             \u001b[0m\u001b[1;36m1.1303513561201977\u001b[0m w_3: \u001b[1;36m1.6\u001b[0m w_4: \u001b[1;36m1.409963655095437\u001b[0m w_5:            \n",
       "\u001b[2;36m             \u001b[0m\u001b[1;36m1.3575099556878945\u001b[0m w_6: \u001b[1;36m1.4521481413205992\u001b[0m w_7: \u001b[1;36m1.2184433257470613\u001b[0m \n",
       "\u001b[2;36m             \u001b[0mw_8: \u001b[1;36m1.6\u001b[0m w_9: \u001b[1;36m1.078173871888387\u001b[0m                                    \n",
       "\u001b[2;36m             \u001b[0m                                                                   \n"
      ]
     },
     "metadata": {},
     "output_type": "display_data"
    }
   ],
   "source": [
    "results = design_space.run(fn_pre, fn_post, verbose=True)\n",
    "df = results.to_dataframe()"
   ]
  },
  {
   "cell_type": "markdown",
   "metadata": {},
   "source": [
    "## Results"
   ]
  },
  {
   "cell_type": "markdown",
   "metadata": {},
   "source": [
    "The best result can be extracted directly from the optimizer object. Plotting this, we see what the optimizer has returned as the optimized structure for this design of Y-junction."
   ]
  },
  {
   "cell_type": "code",
   "execution_count": 16,
   "metadata": {},
   "outputs": [
    {
     "name": "stdout",
     "output_type": "stream",
     "text": [
      "Best fitness: -4.4055562604894485\n"
     ]
    },
    {
     "data": {
      "image/png": "[encoded data removed]",
      "text/plain": [
       "<Figure size 640x480 with 1 Axes>"
      ]
     },
     "metadata": {},
     "output_type": "display_data"
    }
   ],
   "source": [
    "best_params = results.optimizer.max[\"params\"]\n",
    "print(f\"Best fitness: {results.optimizer.max['target']}\")\n",
    "sim = fn_pre(**best_params)\n",
    "sim.plot(z=0)\n",
    "plt.show()"
   ]
  },
  {
   "cell_type": "markdown",
   "metadata": {},
   "source": [
    "We can then create a plot to evaluate if the Bayesian optimization has converged on a fitness value. The first 30 iterations are from the random initialisation, so the fitness values are expected to be more varied. The fitness has converged before the end of the remaining 70 iterations; an early stop criteria could have been included to finish the optimization sooner."
   ]
  },
  {
   "cell_type": "code",
   "execution_count": 17,
   "metadata": {},
   "outputs": [
    {
     "data": {
      "text/plain": [
       "<Axes: xlabel='Simulation Number', ylabel='Fitness'>"
      ]
     },
     "execution_count": 17,
     "metadata": {},
     "output_type": "execute_result"
    },
    {
     "data": {
      "image/png": "[encoded data removed]",
      "text/plain": [
       "<Figure size 640x480 with 1 Axes>"
      ]
     },
     "metadata": {},
     "output_type": "display_data"
    }
   ],
   "source": [
    "df[\"output\"].plot(xlabel=\"Simulation Number\", ylabel=\"Fitness\")"
   ]
  },
  {
   "cell_type": "markdown",
   "metadata": {},
   "source": [
    "The mean power at the reflected and transmitted monitors can be calculated and compared to the paper from ``Gao et al.``"
   ]
  },
  {
   "cell_type": "code",
   "execution_count": 18,
   "metadata": {},
   "outputs": [
    {
     "name": "stdout",
     "output_type": "stream",
     "text": [
      "Mean Reflected Power: 0.003 (Paper: 0.004)\n",
      "Mean Transmitted Power: 0.475 (Paper: 0.460)\n"
     ]
    }
   ],
   "source": [
    "idx_best_result = df[\"output\"].idxmax()\n",
    "best_sim_filename = results.task_paths[idx_best_result]\n",
    "best_sim = td.SimulationData.from_file(best_sim_filename)\n",
    "\n",
    "power_reflected = np.array(np.squeeze(np.abs(best_sim[\"mode_11\"].amps.sel(direction=\"-\", mode_index=0)) ** 2)).mean()\n",
    "power_transmitted = np.array(np.squeeze(np.abs(best_sim[\"mode_12\"].amps.sel(direction=\"+\", mode_index=0)) ** 2)).mean()\n",
    "\n",
    "print(f\"Mean Reflected Power: {round(power_reflected, 3)} (Paper: 0.004)\")\n",
    "print(f\"Mean Transmitted Power: {round(power_transmitted, 3)} (Paper: 0.460)\")\n"
   ]
  },
  {
   "cell_type": "markdown",
   "metadata": {},
   "source": [
    "## Final Optimized Design"
   ]
  },
  {
   "cell_type": "markdown",
   "metadata": {},
   "source": [
    "Finally, we can simulate the optimium solution with an additional `FieldMonitor` to visualise the field distribution throughout the splitter."
   ]
  },
  {
   "cell_type": "code",
   "execution_count": 19,
   "metadata": {},
   "outputs": [
    {
     "data": {
      "text/html": [
       "<pre style=\"white-space:pre;overflow-x:auto;line-height:normal;font-family:Menlo,'DejaVu Sans Mono',consolas,'Courier New',monospace\"><span style=\"color: #7fbfbf; text-decoration-color: #7fbfbf\">18:52:56 BST </span>Created task <span style=\"color: #008000; text-decoration-color: #008000\">'BO_notebook_final_sim'</span> with task_id                  \n",
       "<span style=\"color: #7fbfbf; text-decoration-color: #7fbfbf\">             </span><span style=\"color: #008000; text-decoration-color: #008000\">'fdve-2c35ea58-cda7-48dd-9543-fbbb972b906c'</span> and task_type <span style=\"color: #008000; text-decoration-color: #008000\">'FDTD'</span>.  \n",
       "</pre>\n"
      ],
      "text/plain": [
       "\u001b[2;36m18:52:56 BST\u001b[0m\u001b[2;36m \u001b[0mCreated task \u001b[32m'BO_notebook_final_sim'\u001b[0m with task_id                  \n",
       "\u001b[2;36m             \u001b[0m\u001b[32m'fdve-2c35ea58-cda7-48dd-9543-fbbb972b906c'\u001b[0m and task_type \u001b[32m'FDTD'\u001b[0m.  \n"
      ]
     },
     "metadata": {},
     "output_type": "display_data"
    },
    {
     "data": {
      "text/html": [
       "<pre style=\"white-space:pre;overflow-x:auto;line-height:normal;font-family:Menlo,'DejaVu Sans Mono',consolas,'Courier New',monospace\"><span style=\"color: #7fbfbf; text-decoration-color: #7fbfbf\">             </span>View task using web UI at                                          \n",
       "<span style=\"color: #7fbfbf; text-decoration-color: #7fbfbf\">             </span><a href=\"https://tidy3d.simulation.cloud/workbench?taskId=fdve-2c35ea58-cda7-48dd-9543-fbbb972b906c\" target=\"_blank\"><span style=\"color: #008000; text-decoration-color: #008000\">'https://tidy3d.simulation.cloud/workbench?taskId=fdve-2c35ea58-cda</span></a>\n",
       "<span style=\"color: #7fbfbf; text-decoration-color: #7fbfbf\">             </span><a href=\"https://tidy3d.simulation.cloud/workbench?taskId=fdve-2c35ea58-cda7-48dd-9543-fbbb972b906c\" target=\"_blank\"><span style=\"color: #008000; text-decoration-color: #008000\">7-48dd-9543-fbbb972b906c'</span></a>.                                         \n",
       "</pre>\n"
      ],
      "text/plain": [
       "\u001b[2;36m            \u001b[0m\u001b[2;36m \u001b[0mView task using web UI at                                          \n",
       "\u001b[2;36m             \u001b[0m\u001b]8;id=872774;https://tidy3d.simulation.cloud/workbench?taskId=fdve-2c35ea58-cda7-48dd-9543-fbbb972b906c\u001b\\\u001b[32m'https://tidy3d.simulation.cloud/workbench?\u001b[0m\u001b]8;;\u001b\\\u001b]8;id=835121;https://tidy3d.simulation.cloud/workbench?taskId=fdve-2c35ea58-cda7-48dd-9543-fbbb972b906c\u001b\\\u001b[32mtaskId\u001b[0m\u001b]8;;\u001b\\\u001b]8;id=872774;https://tidy3d.simulation.cloud/workbench?taskId=fdve-2c35ea58-cda7-48dd-9543-fbbb972b906c\u001b\\\u001b[32m=\u001b[0m\u001b]8;;\u001b\\\u001b]8;id=884777;https://tidy3d.simulation.cloud/workbench?taskId=fdve-2c35ea58-cda7-48dd-9543-fbbb972b906c\u001b\\\u001b[32mfdve\u001b[0m\u001b]8;;\u001b\\\u001b]8;id=872774;https://tidy3d.simulation.cloud/workbench?taskId=fdve-2c35ea58-cda7-48dd-9543-fbbb972b906c\u001b\\\u001b[32m-2c35ea58-cda\u001b[0m\u001b]8;;\u001b\\\n",
       "\u001b[2;36m             \u001b[0m\u001b]8;id=872774;https://tidy3d.simulation.cloud/workbench?taskId=fdve-2c35ea58-cda7-48dd-9543-fbbb972b906c\u001b\\\u001b[32m7-48dd-9543-fbbb972b906c'\u001b[0m\u001b]8;;\u001b\\.                                         \n"
      ]
     },
     "metadata": {},
     "output_type": "display_data"
    },
    {
     "data": {
      "application/vnd.jupyter.widget-view+json": {
       "model_id": "7bd27e1327a14d6db9603940dd9e56d4",
       "version_major": 2,
       "version_minor": 0
      },
      "text/plain": [
       "Output()"
      ]
     },
     "metadata": {},
     "output_type": "display_data"
    },
    {
     "data": {
      "text/html": [
       "<pre style=\"white-space:pre;overflow-x:auto;line-height:normal;font-family:Menlo,'DejaVu Sans Mono',consolas,'Courier New',monospace\"></pre>\n"
      ],
      "text/plain": []
     },
     "metadata": {},
     "output_type": "display_data"
    },
    {
     "data": {
      "text/html": [
       "<pre style=\"white-space:pre;overflow-x:auto;line-height:normal;font-family:Menlo,'DejaVu Sans Mono',consolas,'Courier New',monospace\">\n",
       "</pre>\n"
      ],
      "text/plain": [
       "\n"
      ]
     },
     "metadata": {},
     "output_type": "display_data"
    },
    {
     "data": {
      "text/html": [
       "<pre style=\"white-space:pre;overflow-x:auto;line-height:normal;font-family:Menlo,'DejaVu Sans Mono',consolas,'Courier New',monospace\"><span style=\"color: #7fbfbf; text-decoration-color: #7fbfbf\">18:52:59 BST </span>status = queued                                                    \n",
       "</pre>\n"
      ],
      "text/plain": [
       "\u001b[2;36m18:52:59 BST\u001b[0m\u001b[2;36m \u001b[0mstatus = queued                                                    \n"
      ]
     },
     "metadata": {},
     "output_type": "display_data"
    },
    {
     "data": {
      "text/html": [
       "<pre style=\"white-space:pre;overflow-x:auto;line-height:normal;font-family:Menlo,'DejaVu Sans Mono',consolas,'Courier New',monospace\"><span style=\"color: #7fbfbf; text-decoration-color: #7fbfbf\">             </span>To cancel the simulation, use <span style=\"color: #008000; text-decoration-color: #008000\">'web.abort(task_id)'</span> or              \n",
       "<span style=\"color: #7fbfbf; text-decoration-color: #7fbfbf\">             </span><span style=\"color: #008000; text-decoration-color: #008000\">'web.delete(task_id)'</span> or abort/delete the task in the web UI.      \n",
       "<span style=\"color: #7fbfbf; text-decoration-color: #7fbfbf\">             </span>Terminating the Python script will not stop the job running on the \n",
       "<span style=\"color: #7fbfbf; text-decoration-color: #7fbfbf\">             </span>cloud.                                                             \n",
       "</pre>\n"
      ],
      "text/plain": [
       "\u001b[2;36m            \u001b[0m\u001b[2;36m \u001b[0mTo cancel the simulation, use \u001b[32m'web.abort\u001b[0m\u001b[32m(\u001b[0m\u001b[32mtask_id\u001b[0m\u001b[32m)\u001b[0m\u001b[32m'\u001b[0m or              \n",
       "\u001b[2;36m             \u001b[0m\u001b[32m'web.delete\u001b[0m\u001b[32m(\u001b[0m\u001b[32mtask_id\u001b[0m\u001b[32m)\u001b[0m\u001b[32m'\u001b[0m or abort/delete the task in the web UI.      \n",
       "\u001b[2;36m             \u001b[0mTerminating the Python script will not stop the job running on the \n",
       "\u001b[2;36m             \u001b[0mcloud.                                                             \n"
      ]
     },
     "metadata": {},
     "output_type": "display_data"
    },
    {
     "data": {
      "application/vnd.jupyter.widget-view+json": {
       "model_id": "7261673679a447c3b541d9be80671c99",
       "version_major": 2,
       "version_minor": 0
      },
      "text/plain": [
       "Output()"
      ]
     },
     "metadata": {},
     "output_type": "display_data"
    },
    {
     "data": {
      "text/html": [
       "<pre style=\"white-space:pre;overflow-x:auto;line-height:normal;font-family:Menlo,'DejaVu Sans Mono',consolas,'Courier New',monospace\"><span style=\"color: #7fbfbf; text-decoration-color: #7fbfbf\">18:53:11 BST </span>status = preprocess                                                \n",
       "</pre>\n"
      ],
      "text/plain": [
       "\u001b[2;36m18:53:11 BST\u001b[0m\u001b[2;36m \u001b[0mstatus = preprocess                                                \n"
      ]
     },
     "metadata": {},
     "output_type": "display_data"
    },
    {
     "data": {
      "text/html": [
       "<pre style=\"white-space:pre;overflow-x:auto;line-height:normal;font-family:Menlo,'DejaVu Sans Mono',consolas,'Courier New',monospace\"></pre>\n"
      ],
      "text/plain": []
     },
     "metadata": {},
     "output_type": "display_data"
    },
    {
     "data": {
      "text/html": [
       "<pre style=\"white-space:pre;overflow-x:auto;line-height:normal;font-family:Menlo,'DejaVu Sans Mono',consolas,'Courier New',monospace\"><span style=\"color: #7fbfbf; text-decoration-color: #7fbfbf\">18:53:13 BST </span>Maximum FlexCredit cost: <span style=\"color: #008080; text-decoration-color: #008080; font-weight: bold\">0.112</span>. Use <span style=\"color: #008000; text-decoration-color: #008000\">'web.real_cost(task_id)'</span> to get\n",
       "<span style=\"color: #7fbfbf; text-decoration-color: #7fbfbf\">             </span>the billed FlexCredit cost after a simulation run.                 \n",
       "</pre>\n"
      ],
      "text/plain": [
       "\u001b[2;36m18:53:13 BST\u001b[0m\u001b[2;36m \u001b[0mMaximum FlexCredit cost: \u001b[1;36m0.112\u001b[0m. Use \u001b[32m'web.real_cost\u001b[0m\u001b[32m(\u001b[0m\u001b[32mtask_id\u001b[0m\u001b[32m)\u001b[0m\u001b[32m'\u001b[0m to get\n",
       "\u001b[2;36m             \u001b[0mthe billed FlexCredit cost after a simulation run.                 \n"
      ]
     },
     "metadata": {},
     "output_type": "display_data"
    },
    {
     "data": {
      "text/html": [
       "<pre style=\"white-space:pre;overflow-x:auto;line-height:normal;font-family:Menlo,'DejaVu Sans Mono',consolas,'Courier New',monospace\"><span style=\"color: #7fbfbf; text-decoration-color: #7fbfbf\">             </span>starting up solver                                                 \n",
       "</pre>\n"
      ],
      "text/plain": [
       "\u001b[2;36m            \u001b[0m\u001b[2;36m \u001b[0mstarting up solver                                                 \n"
      ]
     },
     "metadata": {},
     "output_type": "display_data"
    },
    {
     "data": {
      "text/html": [
       "<pre style=\"white-space:pre;overflow-x:auto;line-height:normal;font-family:Menlo,'DejaVu Sans Mono',consolas,'Courier New',monospace\"><span style=\"color: #7fbfbf; text-decoration-color: #7fbfbf\">18:53:14 BST </span>running solver                                                     \n",
       "</pre>\n"
      ],
      "text/plain": [
       "\u001b[2;36m18:53:14 BST\u001b[0m\u001b[2;36m \u001b[0mrunning solver                                                     \n"
      ]
     },
     "metadata": {},
     "output_type": "display_data"
    },
    {
     "data": {
      "application/vnd.jupyter.widget-view+json": {
       "model_id": "868cf17b59134563b86069b1f7eda328",
       "version_major": 2,
       "version_minor": 0
      },
      "text/plain": [
       "Output()"
      ]
     },
     "metadata": {},
     "output_type": "display_data"
    },
    {
     "data": {
      "text/html": [
       "<pre style=\"white-space:pre;overflow-x:auto;line-height:normal;font-family:Menlo,'DejaVu Sans Mono',consolas,'Courier New',monospace\"><span style=\"color: #7fbfbf; text-decoration-color: #7fbfbf\">18:53:54 BST </span>early shutoff detected at <span style=\"color: #008080; text-decoration-color: #008080; font-weight: bold\">76</span>%, exiting.                            \n",
       "</pre>\n"
      ],
      "text/plain": [
       "\u001b[2;36m18:53:54 BST\u001b[0m\u001b[2;36m \u001b[0mearly shutoff detected at \u001b[1;36m76\u001b[0m%, exiting.                            \n"
      ]
     },
     "metadata": {},
     "output_type": "display_data"
    },
    {
     "data": {
      "text/html": [
       "<pre style=\"white-space:pre;overflow-x:auto;line-height:normal;font-family:Menlo,'DejaVu Sans Mono',consolas,'Courier New',monospace\"></pre>\n"
      ],
      "text/plain": []
     },
     "metadata": {},
     "output_type": "display_data"
    },
    {
     "data": {
      "text/html": [
       "<pre style=\"white-space:pre;overflow-x:auto;line-height:normal;font-family:Menlo,'DejaVu Sans Mono',consolas,'Courier New',monospace\">\n",
       "</pre>\n"
      ],
      "text/plain": [
       "\n"
      ]
     },
     "metadata": {},
     "output_type": "display_data"
    },
    {
     "data": {
      "text/html": [
       "<pre style=\"white-space:pre;overflow-x:auto;line-height:normal;font-family:Menlo,'DejaVu Sans Mono',consolas,'Courier New',monospace\"><span style=\"color: #7fbfbf; text-decoration-color: #7fbfbf\">18:53:55 BST </span>status = postprocess                                               \n",
       "</pre>\n"
      ],
      "text/plain": [
       "\u001b[2;36m18:53:55 BST\u001b[0m\u001b[2;36m \u001b[0mstatus = postprocess                                               \n"
      ]
     },
     "metadata": {},
     "output_type": "display_data"
    },
    {
     "data": {
      "application/vnd.jupyter.widget-view+json": {
       "model_id": "6b799d54f0334d7ca5c8b940ced9e301",
       "version_major": 2,
       "version_minor": 0
      },
      "text/plain": [
       "Output()"
      ]
     },
     "metadata": {},
     "output_type": "display_data"
    },
    {
     "data": {
      "text/html": [
       "<pre style=\"white-space:pre;overflow-x:auto;line-height:normal;font-family:Menlo,'DejaVu Sans Mono',consolas,'Courier New',monospace\"><span style=\"color: #7fbfbf; text-decoration-color: #7fbfbf\">18:53:57 BST </span>status = success                                                   \n",
       "</pre>\n"
      ],
      "text/plain": [
       "\u001b[2;36m18:53:57 BST\u001b[0m\u001b[2;36m \u001b[0mstatus = success                                                   \n"
      ]
     },
     "metadata": {},
     "output_type": "display_data"
    },
    {
     "data": {
      "text/html": [
       "<pre style=\"white-space:pre;overflow-x:auto;line-height:normal;font-family:Menlo,'DejaVu Sans Mono',consolas,'Courier New',monospace\"></pre>\n"
      ],
      "text/plain": []
     },
     "metadata": {},
     "output_type": "display_data"
    },
    {
     "data": {
      "text/html": [
       "<pre style=\"white-space:pre;overflow-x:auto;line-height:normal;font-family:Menlo,'DejaVu Sans Mono',consolas,'Courier New',monospace\"><span style=\"color: #7fbfbf; text-decoration-color: #7fbfbf\">18:53:58 BST </span>View simulation result at                                          \n",
       "<span style=\"color: #7fbfbf; text-decoration-color: #7fbfbf\">             </span><a href=\"https://tidy3d.simulation.cloud/workbench?taskId=fdve-2c35ea58-cda7-48dd-9543-fbbb972b906c\" target=\"_blank\"><span style=\"color: #000080; text-decoration-color: #000080; text-decoration: underline\">'https://tidy3d.simulation.cloud/workbench?taskId=fdve-2c35ea58-cda</span></a>\n",
       "<span style=\"color: #7fbfbf; text-decoration-color: #7fbfbf\">             </span><a href=\"https://tidy3d.simulation.cloud/workbench?taskId=fdve-2c35ea58-cda7-48dd-9543-fbbb972b906c\" target=\"_blank\"><span style=\"color: #000080; text-decoration-color: #000080; text-decoration: underline\">7-48dd-9543-fbbb972b906c'</span></a><span style=\"color: #000080; text-decoration-color: #000080; text-decoration: underline\">.</span>                                         \n",
       "</pre>\n"
      ],
      "text/plain": [
       "\u001b[2;36m18:53:58 BST\u001b[0m\u001b[2;36m \u001b[0mView simulation result at                                          \n",
       "\u001b[2;36m             \u001b[0m\u001b]8;id=897911;https://tidy3d.simulation.cloud/workbench?taskId=fdve-2c35ea58-cda7-48dd-9543-fbbb972b906c\u001b\\\u001b[4;34m'https://tidy3d.simulation.cloud/workbench?\u001b[0m\u001b]8;;\u001b\\\u001b]8;id=202944;https://tidy3d.simulation.cloud/workbench?taskId=fdve-2c35ea58-cda7-48dd-9543-fbbb972b906c\u001b\\\u001b[4;34mtaskId\u001b[0m\u001b]8;;\u001b\\\u001b]8;id=897911;https://tidy3d.simulation.cloud/workbench?taskId=fdve-2c35ea58-cda7-48dd-9543-fbbb972b906c\u001b\\\u001b[4;34m=\u001b[0m\u001b]8;;\u001b\\\u001b]8;id=66153;https://tidy3d.simulation.cloud/workbench?taskId=fdve-2c35ea58-cda7-48dd-9543-fbbb972b906c\u001b\\\u001b[4;34mfdve\u001b[0m\u001b]8;;\u001b\\\u001b]8;id=897911;https://tidy3d.simulation.cloud/workbench?taskId=fdve-2c35ea58-cda7-48dd-9543-fbbb972b906c\u001b\\\u001b[4;34m-2c35ea58-cda\u001b[0m\u001b]8;;\u001b\\\n",
       "\u001b[2;36m             \u001b[0m\u001b]8;id=897911;https://tidy3d.simulation.cloud/workbench?taskId=fdve-2c35ea58-cda7-48dd-9543-fbbb972b906c\u001b\\\u001b[4;34m7-48dd-9543-fbbb972b906c'\u001b[0m\u001b]8;;\u001b\\\u001b[4;34m.\u001b[0m                                         \n"
      ]
     },
     "metadata": {},
     "output_type": "display_data"
    },
    {
     "data": {
      "application/vnd.jupyter.widget-view+json": {
       "model_id": "a44f0dd8083f4da3ac16edfea586ea0a",
       "version_major": 2,
       "version_minor": 0
      },
      "text/plain": [
       "Output()"
      ]
     },
     "metadata": {},
     "output_type": "display_data"
    },
    {
     "data": {
      "text/html": [
       "<pre style=\"white-space:pre;overflow-x:auto;line-height:normal;font-family:Menlo,'DejaVu Sans Mono',consolas,'Courier New',monospace\"></pre>\n"
      ],
      "text/plain": []
     },
     "metadata": {},
     "output_type": "display_data"
    },
    {
     "data": {
      "text/html": [
       "<pre style=\"white-space:pre;overflow-x:auto;line-height:normal;font-family:Menlo,'DejaVu Sans Mono',consolas,'Courier New',monospace\">\n",
       "</pre>\n"
      ],
      "text/plain": [
       "\n"
      ]
     },
     "metadata": {},
     "output_type": "display_data"
    },
    {
     "data": {
      "text/html": [
       "<pre style=\"white-space:pre;overflow-x:auto;line-height:normal;font-family:Menlo,'DejaVu Sans Mono',consolas,'Courier New',monospace\"><span style=\"color: #7fbfbf; text-decoration-color: #7fbfbf\">18:54:01 BST </span>loading simulation from simulation_data.hdf5                       \n",
       "</pre>\n"
      ],
      "text/plain": [
       "\u001b[2;36m18:54:01 BST\u001b[0m\u001b[2;36m \u001b[0mloading simulation from simulation_data.hdf5                       \n"
      ]
     },
     "metadata": {},
     "output_type": "display_data"
    }
   ],
   "source": [
    "final_sim = fn_pre(**best_params)\n",
    "\n",
    "# Define a field monitor to help visualize the field distribution\n",
    "field_monitor = td.FieldMonitor(\n",
    "    center=(0, 0, 0), size=(td.inf, td.inf, 0), freqs=[freq0], name=\"field\"\n",
    ")\n",
    "\n",
    "mode_12 = final_sim.monitors[1]\n",
    "\n",
    "final_sim = final_sim.copy(\n",
    "    update={\"monitors\": (field_monitor, mode_12)}\n",
    ")\n",
    "\n",
    "final_sim_data = web.run(final_sim, task_name=\"BO_notebook_final_sim\")"
   ]
  },
  {
   "cell_type": "markdown",
   "metadata": {},
   "source": [
    "Plotting the field shows how it splits evenly between each branch."
   ]
  },
  {
   "cell_type": "code",
   "execution_count": 20,
   "metadata": {},
   "outputs": [
    {
     "data": {
      "image/png": "[encoded data removed]",
      "text/plain": [
       "<Figure size 640x480 with 2 Axes>"
      ]
     },
     "metadata": {},
     "output_type": "display_data"
    }
   ],
   "source": [
    "final_sim_data.plot_field(\"field\", \"E\", \"abs^2\")\n",
    "plt.show()"
   ]
  },
  {
   "cell_type": "markdown",
   "metadata": {},
   "source": [
    "And we can visualise how the power transmitted varies over the frequency range. "
   ]
  },
  {
   "cell_type": "code",
   "execution_count": 21,
   "metadata": {},
   "outputs": [
    {
     "data": {
      "image/png": "[encoded data removed]",
      "text/plain": [
       "<Figure size 640x480 with 1 Axes>"
      ]
     },
     "metadata": {},
     "output_type": "display_data"
    }
   ],
   "source": [
    "power_transmitted = np.squeeze(np.abs(final_sim_data[\"mode_12\"].amps.sel(direction=\"+\", mode_index=0)) ** 2)\n",
    "plt.plot(freqs, power_transmitted)\n",
    "plt.title(\"Power transmitted across frequency range\")\n",
    "plt.xlabel(\"Frequency / Hz\")\n",
    "plt.ylabel(\"Power\")\n",
    "plt.show()"
   ]
  },
  {
   "cell_type": "markdown",
   "metadata": {},
   "source": [
    "## Conclusion"
   ]
  },
  {
   "cell_type": "markdown",
   "metadata": {},
   "source": [
    "Through comparison of the junction geometry and the transmitted and reflected power, we can show that these results closely follow the results published by ``Gao et al.`` for the design of a Y-junction. This notebook demonstrates how to carry out Bayesian optimization with the Design plugin, and can be adapted to other usecases.\n",
    "\n",
    "Other `Design` plugin notebooks:\n",
    "\n",
    "1. [Intro to Design Plugin](https://www.flexcompute.com/tidy3d/examples/notebooks/Design/)\n",
    "\n",
    "2. [Particle Swarm Optimizer PBS](https://www.flexcompute.com/tidy3d/examples/notebooks/ParticleSwarmOptimizedPBS/)\n",
    "\n",
    "3. [Particle Swarm Optimizer Bullseye Cavity](https://www.flexcompute.com/tidy3d/examples/notebooks/BullseyeCavityPSO/)\n",
    "\n",
    "4. [Genetic Algorithm Reflector](https://www.flexcompute.com/tidy3d/examples/notebooks/GeneticAlgorithmReflector/)\n",
    "\n",
    "5. [All-Dielectric Structural Colors](https://www.flexcompute.com/tidy3d/examples/notebooks/AllDielectricStructuralColor/)\n",
    "\n",
    "6. [Parameter Scan](https://www.flexcompute.com/tidy3d/examples/notebooks/ParameterScan/)"
   ]
  }
 ],
 "metadata": {
  "applications": [
   "Passive photonic integrated circuit components"
  ],
  "description": "Bayesian optimization is a popular technique to search a design space. In this notebook Bayesian optimization is used to optimize a Y-junction to transmit power equally through each branch.",
  "feature_image": "./img/y_junction_schematic.png",
  "features": [
   "Design plugin",
   "Parameter sweep"
  ],
  "kernelspec": {
   "display_name": "Python 3 (ipykernel)",
   "language": "python",
   "name": "python3"
  },
  "keywords": "Bayesian optimization, Y Junction, FDTD, Tidy3d",
  "language_info": {
   "codemirror_mode": {
    "name": "ipython",
    "version": 3
   },
   "file_extension": ".py",
   "mimetype": "text/x-python",
   "name": "python",
   "nbconvert_exporter": "python",
   "pygments_lexer": "ipython3",
   "version": "3.10.12"
  },
  "title": "How to optimize a Y-junction using Bayesian optimization with Tidy3D FDTD simulations"
 },
 "nbformat": 4,
 "nbformat_minor": 4
}
