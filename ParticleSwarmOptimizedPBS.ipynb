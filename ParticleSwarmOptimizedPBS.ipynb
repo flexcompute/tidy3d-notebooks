{
 "cells": [
  {
   "cell_type": "markdown",
   "id": "8c83af48",
   "metadata": {},
   "source": [
    "# Particle swarm optimization of a polarization beam splitter"
   ]
  },
  {
   "cell_type": "markdown",
   "id": "e62c19f3",
   "metadata": {},
   "source": [
    "**Note: the cost of running the entire notebook is larger than 10 FlexCredits.**\n",
    "\n",
    "[Particle Swarm Optimization](https://en.wikipedia.org/wiki/Particle_swarm_optimization) (PSO) is a powerful and versatile optimization technique. PSO has since emerged as a popular metaheuristic algorithm for solving complex optimization problems across a wide range of domains, including integrated photonic device design. At its core, PSO embodies the principles of collaboration and information sharing within a population of simple entities known as \"particles.\" These particles navigate through a multi-dimensional search space, seeking optimal solutions to a given problem. They learn from their own experiences, as well as the experiences of other particles, to adapt their positions and velocities over time. \n",
    "\n",
    "In this notebook, we demonstrate the PSO of a compact polarization beam splitter (PBS) using `Tidy3D` and the [PySwarms](https://pyswarms.readthedocs.io/en/latest/index.html) library implemented in the `Tidy3D` Design plugin. The coupling region is segmented into 10 sections with varying widths $W_1$, $W_2$, ..., $W_{10}$. Since performing the traditional parameter sweep is unrealistic in this case due to the large parameter space dimension, we use PSO to optimize all the widths to maximize the beam splitting of the TE0 mode and the TM0 mode. The device is inspired by the work `Weiwei Chen, et al., \"Ultra-compact and low-loss silicon polarization beam splitter using a particle-swarm-optimized counter-tapered coupler,\" Opt. Express 28, 30701-30709 (2020)`[DOI:10.1364/OE.408432](https://doi.org/10.1364/OE.408432). In the original work, the authors employed a more complex PSO scheme of changing objective functions. For the sake of simplicity, we will use a simpler PSO scheme in this notebook, only aiming to demonstrate the idea and workflow. Tidy3D users can draw inspiration from this notebook, as well as from the wealth of PSO research in the literature. By harnessing the versatility of PSO in combination with the exceptional speed of `Tidy3D`, we anticipate that users can design many novel and high-performance photonic devices.\n",
    "\n",
    "<img src=\"img/particle_swarm_optimization_pbs.png\" width=\"500\" alt=\"Schematic of the polarization beam splitter\">\n",
    "\n",
    "Besides the PSO introduced in this notebook, Tidy3D also provides a built-in adjoint optimization plugin. Unlike PSO, adjoint optimization is gradient-based and thus more efficient. To learn more, please refer to the adjoint optimizations of a [wavelength division multiplexer](https://www.flexcompute.com/tidy3d/examples/notebooks/AdjointPlugin9WDM/), a [mode converter](https://www.flexcompute.com/tidy3d/examples/notebooks/AdjointPlugin3InverseDesign/), and a [waveguide taper](https://www.flexcompute.com/tidy3d/examples/notebooks/AdjointPlugin5BoundaryGradients/). If you are new to adjoint optimization, please start with the [tutorial](https://www.flexcompute.com/tidy3d/examples/notebooks/AdjointPlugin1Intro/) on adjoint basis and our [video lectures](https://www.flexcompute.com/tidy3d/learning-center/inverse-design/) on inverse design."
   ]
  },
  {
   "cell_type": "code",
   "execution_count": 1,
   "id": "ab737676",
   "metadata": {},
   "outputs": [],
   "source": [
    "# uncomment the following line to install pyswarms if it's not installed in your environment already\n",
    "# pip install pyswarms\n",
    "\n",
    "import numpy as np\n",
    "import matplotlib.pyplot as plt\n",
    "\n",
    "import gdstk\n",
    "\n",
    "import tidy3d as td\n",
    "import tidy3d.web as web\n",
    "import tidy3d.plugins.design as tdd"
   ]
  },
  {
   "cell_type": "markdown",
   "id": "eee49c7a",
   "metadata": {},
   "source": [
    "## Preparational Work Before the PSO"
   ]
  },
  {
   "cell_type": "markdown",
   "id": "76c53f8e",
   "metadata": {},
   "source": [
    "### Define Fixed Simulation Settings"
   ]
  },
  {
   "cell_type": "markdown",
   "id": "c90ba8e1",
   "metadata": {},
   "source": [
    "Before we can perform the PSO, we need to prepare a few things. First of all, we will define parts that are unchanged in the optimization procedure. The wavelength range of interest in this case is 1500 nm to 1600 nm."
   ]
  },
  {
   "cell_type": "code",
   "execution_count": 2,
   "id": "38144a42",
   "metadata": {},
   "outputs": [],
   "source": [
    "lda0 = 1.55  # central wavelength\n",
    "freq0 = td.C_0 / lda0  # central frequency\n",
    "ldas = np.linspace(1.5, 1.6, 31)  # wavelength range\n",
    "freqs = td.C_0 / ldas  # frequency range\n",
    "fwidth = 0.5 * (freqs[0] - freqs[-1])  # width of the source frequency range"
   ]
  },
  {
   "cell_type": "markdown",
   "id": "b341c16e",
   "metadata": {},
   "source": [
    "For simplicity, we use a constant refractive index for silicon and silicon oxide. Dispersive models can certainly be used instead if needed."
   ]
  },
  {
   "cell_type": "code",
   "execution_count": 3,
   "id": "268ae7e8",
   "metadata": {},
   "outputs": [],
   "source": [
    "n_si = 3.48  # silicon refractive index\n",
    "si = td.Medium(permittivity=n_si**2)\n",
    "\n",
    "n_sio2 = 1.44  # silicon oxide refractive index\n",
    "sio2 = td.Medium(permittivity=n_sio2**2)"
   ]
  },
  {
   "cell_type": "markdown",
   "id": "33ac7472",
   "metadata": {},
   "source": [
    "Define geometric parameters outside of the optimization region. "
   ]
  },
  {
   "cell_type": "code",
   "execution_count": 4,
   "id": "839fb785",
   "metadata": {},
   "outputs": [],
   "source": [
    "Ls = 0.5  # length of each segment\n",
    "W0 = 0.45  # width of the input waveguide\n",
    "Wa = 0.2  # width of the taper tip\n",
    "Wt = 0.45  # width of the taper end\n",
    "Hc = 0.22  # thickness of the Si layer\n",
    "G0 = 0.27  # size of the gap\n",
    "buffer = 8  # buffer spacing\n",
    "M = 10  # number of segments to be optimized"
   ]
  },
  {
   "cell_type": "markdown",
   "id": "ef657f08",
   "metadata": {},
   "source": [
    "Next, we define the device geometry outside the optimization region. These geometries will stay unchanged in the optimization process. After each part is defined, we can perform a union operation (+) to combine them together. "
   ]
  },
  {
   "cell_type": "code",
   "execution_count": 5,
   "id": "cbe812a6",
   "metadata": {},
   "outputs": [],
   "source": [
    "# Define the input straight waveguide geometry\n",
    "input_waveguide_geo = td.Box.from_bounds(rmin=(-buffer, 0, -Hc / 2), rmax=(0, W0, Hc / 2))\n",
    "\n",
    "# Define the bar port straight waveguide geometry\n",
    "bar_waveguide_geo = td.Box.from_bounds(\n",
    "    rmin=((M + 1) * Ls, 0, -Hc / 2), rmax=((M + 1) * Ls + buffer, W0, Hc / 2)\n",
    ")\n",
    "\n",
    "# Define the lower waveguide geometry with the help of gdstk\n",
    "cell = gdstk.Cell(\"lower_waveguide\")\n",
    "path = gdstk.RobustPath(\n",
    "    initial_point=(0, -G0 - Wa / 2), width=Wa, tolerance=1e-4, layer=1, datatype=0\n",
    ")\n",
    "path.segment(xy=((M + 1) * Ls, -G0 - Wt / 2), width=Wt, offset=-(Wt - Wa))\n",
    "bend_length = 6\n",
    "bend_height = 1\n",
    "path.segment(\n",
    "    xy=((M + 1) * Ls + bend_length, -G0 - Wt / 2),\n",
    "    offset=lambda u: bend_height * np.cos(np.pi * (u)) / 2 - bend_height / 2,\n",
    ")\n",
    "path.horizontal(x=(M + 1) * Ls + bend_length + buffer)\n",
    "cell.add(path)\n",
    "lower_waveguide_geo = td.Geometry.from_gds(cell, gds_layer=1, axis=2, slab_bounds=(-Hc / 2, Hc / 2))\n",
    "\n",
    "# Perform a union operation to combine all the geometries\n",
    "unchanged_geo = input_waveguide_geo + bar_waveguide_geo + lower_waveguide_geo"
   ]
  },
  {
   "cell_type": "markdown",
   "id": "72e306e6",
   "metadata": {},
   "source": [
    "To visually inspect if the above-defined geometries are correct, we can simply use the `plot()` method. The geometries do look correct. The missing design region will be optimized by PSO later."
   ]
  },
  {
   "cell_type": "code",
   "execution_count": 6,
   "id": "89d4cc13",
   "metadata": {},
   "outputs": [
    {
     "data": {
      "image/png": "[encoded data removed]",
      "text/plain": [
       "<Figure size 640x480 with 1 Axes>"
      ]
     },
     "metadata": {},
     "output_type": "display_data"
    }
   ],
   "source": [
    "ax = unchanged_geo.plot(z=0)\n",
    "ax.set_xlim(-2, 12)\n",
    "plt.show()"
   ]
  },
  {
   "cell_type": "markdown",
   "id": "890b9e1b",
   "metadata": {},
   "source": [
    "### Define Design Region"
   ]
  },
  {
   "cell_type": "markdown",
   "id": "7b3a665b",
   "metadata": {},
   "source": [
    "Next we define a function that creates the geometry of the design region. This region is parameterized by 10 parameters $W_1$, $W_2$, ..., $W_{10}$. We will define an array `Ws` to store these 10 values. The geometry of the design region is defined as a [PolySlab](https://docs.flexcompute.com/projects/tidy3d/en/latest/api/_autosummary/tidy3d.PolySlab.html), whose vertices can be easily calculated from `Ws`."
   ]
  },
  {
   "cell_type": "code",
   "execution_count": 7,
   "id": "a59833f2",
   "metadata": {},
   "outputs": [],
   "source": [
    "def define_optimize_region(Ws: np.array) -> td.PolySlab:\n",
    "    \"\"\"Calculate the vertices of the design region and return a PolySlab.\"\"\"\n",
    "    vertices = [(0, 0), (0, W0)]\n",
    "    for i, Wi in enumerate(Ws):\n",
    "        vertices.append(((i + 1) * Ls, Wi))\n",
    "\n",
    "    vertices.append(((M + 1) * Ls, W0))\n",
    "    vertices.append(((M + 1) * Ls, 0))\n",
    "\n",
    "    optimize_region_geo = td.PolySlab(vertices=vertices, axis=2, slab_bounds=(-Hc / 2, Hc / 2))\n",
    "\n",
    "    return optimize_region_geo"
   ]
  },
  {
   "cell_type": "markdown",
   "id": "466dfeb3",
   "metadata": {},
   "source": [
    "Again, we want to visually inspect if the `define_optimize_region` function works correctly. To do so, we define `Ws` with some random values and plot the design region geometry together with the unchanged region geometries. From the plot, we can confirm that the geometries are generated correctly. "
   ]
  },
  {
   "cell_type": "code",
   "execution_count": 8,
   "id": "e23831a6",
   "metadata": {},
   "outputs": [
    {
     "data": {
      "image/png": "[encoded data removed]",
      "text/plain": [
       "<Figure size 640x480 with 1 Axes>"
      ]
     },
     "metadata": {},
     "output_type": "display_data"
    }
   ],
   "source": [
    "Ws = np.random.uniform(0.3, 0.45, M)\n",
    "optimize_region_geo = define_optimize_region(Ws)\n",
    "\n",
    "device = td.Structure(geometry=unchanged_geo + optimize_region_geo, medium=si)\n",
    "ax = device.plot(z=0)\n",
    "ax.set_xlim(-1, 12)\n",
    "plt.show()"
   ]
  },
  {
   "cell_type": "markdown",
   "id": "49f1a557",
   "metadata": {},
   "source": [
    "### Define Source and Monitors"
   ]
  },
  {
   "cell_type": "markdown",
   "id": "e84d1209",
   "metadata": {},
   "source": [
    "To characterize the performance of the PBS, we need to perform two simulations: 1. excite the input waveguide with a TE0 [ModeSource](https://docs.flexcompute.com/projects/tidy3d/en/latest/api/_autosummary/tidy3d.ModeSource.html) and calculate the TE0 mode transmission at the bar port using a [ModeMonitor](https://docs.flexcompute.com/projects/tidy3d/en/latest/api/_autosummary/tidy3d.ModeMonitor.html); 2. Excite the input waveguide with a TM0 [ModeSource](https://docs.flexcompute.com/projects/tidy3d/en/latest/api/_autosummary/tidy3d.ModeSource.html) and calculate the TM0 mode transmission at the cross port using a [ModeMonitor](https://docs.flexcompute.com/projects/tidy3d/en/latest/api/_autosummary/tidy3d.ModeMonitor.html). Since the PBS is surrounded by SiO$_2$, there is a symmetry that can be exploited in the $z$ direction. We can use this symmetry to strategically select TE0 mode or the TM0 mode at the [ModeSource](https://docs.flexcompute.com/projects/tidy3d/en/latest/api/_autosummary/tidy3d.ModeSource.html) (more on it later). Therefore, here we set `num_modes=1` in the [ModeSpec](https://docs.flexcompute.com/projects/tidy3d/en/latest/api/_autosummary/tidy3d.ModeSpec.html). If no symmetry is used, `num_modes=2` should be used."
   ]
  },
  {
   "cell_type": "code",
   "execution_count": 9,
   "id": "2596c764",
   "metadata": {},
   "outputs": [],
   "source": [
    "# Add a mode source as excitation\n",
    "mode_spec = td.ModeSpec(num_modes=1, target_neff=n_si)\n",
    "mode_source = td.ModeSource(\n",
    "    center=(-lda0 / 2, W0 / 2, 0),\n",
    "    size=(0, 4 * W0, 6 * Hc),\n",
    "    source_time=td.GaussianPulse(freq0=freq0, fwidth=fwidth),\n",
    "    direction=\"+\",\n",
    "    mode_spec=mode_spec,\n",
    "    mode_index=0,\n",
    ")\n",
    "\n",
    "# Add a mode monitor at the bar port\n",
    "mode_monitor_bar = td.ModeMonitor(\n",
    "    center=((M + 1) * Ls + bend_length + lda0 / 2, W0 / 2, 0),\n",
    "    size=mode_source.size,\n",
    "    freqs=freqs,\n",
    "    mode_spec=mode_spec,\n",
    "    name=\"bar\",\n",
    ")\n",
    "\n",
    "# Add a mode monitor at the cross port\n",
    "mode_monitor_cross = td.ModeMonitor(\n",
    "    center=((M + 1) * Ls + bend_length + lda0 / 2, -G0 - Wt / 2 - bend_height, 0),\n",
    "    size=mode_source.size,\n",
    "    freqs=freqs,\n",
    "    mode_spec=mode_spec,\n",
    "    name=\"cross\",\n",
    ")\n",
    "\n",
    "# Simulation domain box\n",
    "sim_box = td.Box.from_bounds(rmin=(-1, -3.5, -1), rmax=(12.5, 1.5, 1))\n",
    "\n",
    "# Simulation run time\n",
    "run_time = 5e-13"
   ]
  },
  {
   "cell_type": "markdown",
   "id": "15f91e13",
   "metadata": {},
   "source": [
    "### Define Tidy3D Simulation"
   ]
  },
  {
   "cell_type": "markdown",
   "id": "298fc467",
   "metadata": {},
   "source": [
    "Next, we define a function `make_sim` that takes the design parameters and polarization and returns a Tidy3D [Simulation](https://docs.flexcompute.com/projects/tidy3d/en/latest/api/_autosummary/tidy3d.Simulation.html). If we want to define a TE0 mode excitation, we set `symmetry` to `(0,0,1)` while for TM0 excitation, we have `symmetry=(0,0,-1)`. Note again that we can use symmetry because the PBS is surrounded by silicon oxide. If no cladding is used, this symmetry will be broken and we need to define the excitation mode at the source differently. "
   ]
  },
  {
   "cell_type": "code",
   "execution_count": 10,
   "id": "3e9df335",
   "metadata": {},
   "outputs": [],
   "source": [
    "def make_sim(Ws: np.array, pol: str) -> td.Simulation:\n",
    "    \"\"\"Build a Simulation object from design region widths and desired polarization.\"\"\"\n",
    "    optimize_region_geo = define_optimize_region(Ws)\n",
    "\n",
    "    # Define the structure for the entire PBS\n",
    "    device = td.Structure(geometry=unchanged_geo + optimize_region_geo, medium=si)\n",
    "\n",
    "    # Define symmetry according to excitation polarization\n",
    "    pol_to_symmetry = {\"TE\": (0, 0, 1), \"TM\": (0, 0, -1)}\n",
    "\n",
    "    try:\n",
    "        symmetry = pol_to_symmetry[pol]\n",
    "    except KeyError:\n",
    "        raise ValueError(\"Polarization can either be TE or TM\")\n",
    "\n",
    "    # Add mode monitor according to excitation polarization\n",
    "    if pol == \"TE\":\n",
    "        monitor = [mode_monitor_bar]\n",
    "    elif pol == \"TM\":\n",
    "        monitor = [mode_monitor_cross]\n",
    "\n",
    "    # Define simulation\n",
    "    sim = td.Simulation(\n",
    "        center=sim_box.center,\n",
    "        size=sim_box.size,\n",
    "        grid_spec=td.GridSpec.auto(min_steps_per_wvl=10, wavelength=lda0),\n",
    "        structures=[device],\n",
    "        sources=[mode_source],\n",
    "        monitors=monitor,\n",
    "        run_time=run_time,\n",
    "        boundary_spec=td.BoundarySpec.all_sides(boundary=td.PML()),\n",
    "        medium=sio2,\n",
    "        symmetry=symmetry,\n",
    "    )\n",
    "\n",
    "    return sim"
   ]
  },
  {
   "cell_type": "markdown",
   "id": "3dbd01f4",
   "metadata": {},
   "source": [
    "We again inspect the simulation setup by plotting it. For the TM simulation, we see the [ModeMonitor](https://docs.flexcompute.com/projects/tidy3d/en/latest/api/_autosummary/tidy3d.ModeMonitor.html) at the cross port. For TE simulation, we should see the monitor at the bar port."
   ]
  },
  {
   "cell_type": "code",
   "execution_count": 11,
   "id": "b81bba56",
   "metadata": {},
   "outputs": [
    {
     "data": {
      "image/png": "[encoded data removed]",
      "text/plain": [
       "<Figure size 640x480 with 1 Axes>"
      ]
     },
     "metadata": {},
     "output_type": "display_data"
    }
   ],
   "source": [
    "sim = make_sim(Ws, \"TM\")\n",
    "sim.plot(z=0)\n",
    "plt.show()"
   ]
  },
  {
   "cell_type": "markdown",
   "id": "3fb38033",
   "metadata": {},
   "source": [
    "## Preparing the DesignSpace"
   ]
  },
  {
   "cell_type": "markdown",
   "id": "75c01b9e",
   "metadata": {},
   "source": [
    "The `Design` plugin requires a pre and post function that define the simulation(s) to be run and how to postprocess the result.\n",
    "\n",
    "We can define a short pre function which will create the both TE and TM simulations based on the parameter widths that the PSO will suggest. Outputting this as a dictionary of `Simulations` will allow the Design plugin to efficiently parallelize this problem and correctly format the task names."
   ]
  },
  {
   "cell_type": "code",
   "execution_count": 12,
   "id": "2d81f4f0",
   "metadata": {},
   "outputs": [],
   "source": [
    "def fn_pre(**params: dict) -> dict[td.Simulation, td.Simulation]:\n",
    "    \"\"\"Take parameter widths suggested by the PSO and output a dictionary of Simulations.\"\"\"\n",
    "    widths = np.array(list(params.values()))\n",
    "    sim_te = make_sim(widths, \"TE\")\n",
    "    sim_tm = make_sim(widths, \"TM\")\n",
    "    \n",
    "    return {\"TE\": sim_te, \"TM\": sim_tm}"
   ]
  },
  {
   "cell_type": "markdown",
   "id": "6a7c6d99",
   "metadata": {},
   "source": [
    "### Define the Figure of Merit (FOM)"
   ]
  },
  {
   "cell_type": "markdown",
   "id": "5ee47a3c",
   "metadata": {},
   "source": [
    "We need to define a function that acts as post function for our `DesignSpace` and calculates the FOM from our simulation output. In the case of the PBS, we define the FOM as the sum of $P_{TE,bar}$ and $P_{TM,cross}$, where $P_{TE,bar}$ is the transmission of TE0 mode at the bar port and $P_{TM,cross}$ is the transmission of TM0 mode at the cross port. In this particular case, we only optimize the transmission at the central frequency. If broadband operation is desired, the FOM can be defined with respect to the entire frequency range. \n",
    "\n",
    "The input for this function is a dictionary with the same keys as the output of `fn_pre`. The optimizer replaces the `Simulation` objects it receives with `SimulationData` objects, meaning we can easily access the appropriate TE or TM simulation.\n",
    "\n",
    "Note that this FOM is a maximising function; all the optimizers in the `Design` plugin are maximising by default so the sign does not need to be changed."
   ]
  },
  {
   "cell_type": "code",
   "execution_count": 13,
   "id": "669b5398",
   "metadata": {},
   "outputs": [],
   "source": [
    "def fn_post(sim_data_dict: dict[td.SimulationData, td.SimulationData]) -> float:\n",
    "    \"\"\"Calculate the power for TE and TM polarizations in different regions of the PBS.\"\"\"\n",
    "    # Extract te power at the bar at the central frequency\n",
    "    P_TE_bar = (\n",
    "        np.abs(\n",
    "            sim_data_dict[\"TE\"][\"bar\"].amps.sel(\n",
    "                mode_index=0, direction=\"+\", f=freq0\n",
    "            )\n",
    "        )\n",
    "        ** 2\n",
    "    )\n",
    "\n",
    "    # Extract tm transmission at cross port at the central frequency\n",
    "    P_TM_cross = (\n",
    "        np.abs(\n",
    "            sim_data_dict[\"TM\"][\"cross\"].amps.sel(\n",
    "                mode_index=0, direction=\"+\", f=freq0\n",
    "            )\n",
    "        )\n",
    "        ** 2\n",
    "    )\n",
    "\n",
    "    return float(P_TE_bar + P_TM_cross)"
   ]
  },
  {
   "cell_type": "markdown",
   "id": "911d1c21",
   "metadata": {},
   "source": [
    "## Performing PSO "
   ]
  },
  {
   "cell_type": "markdown",
   "id": "f305c0fd",
   "metadata": {},
   "source": [
    "With all the preparation work done, we are finally ready to perform the PSO. Defining the hyper-parameters within the `Method` lets the `DesignSpace` manage the PSO run using the [PySwarms](https://pyswarms.readthedocs.io/en/latest/index.html) library.\n",
    "\n",
    "In this optimization, we put an upper and lower bound for the $W_i$ to be 450 nm and 300 nm. 5 particles are used for a total of 40 iterations. As discussed above, this means the entire optimization will run 400 simulations and cost 10 FlexCredits. Since this notebook is mainly for demonstration purposes, the numbers of particles and iterations are kept small. To really achieve a design with high performance, larger numbers should be used. To ensure the final result is reproducible every time we run the notebook, the initial positions of the particles are fixed with a random seed.\n",
    "\n",
    "There are three hyperparameters in PSO, namely the inertia weight, the cognitive coefficient, and the social coefficient. Their values can significantly impact the performance of the algorithm. The best values of them depend on the specific problem so can take some experimentation to determine.\n",
    "\n",
    "We also include a very low `ftol` value that must be maintained for 8 consecutive iterations as an early-stop criteria. This means if the fitness stops impoving the optimization will finish early."
   ]
  },
  {
   "cell_type": "code",
   "execution_count": 14,
   "id": "9f874266",
   "metadata": {},
   "outputs": [],
   "source": [
    "W_max = 0.45  # upper bound\n",
    "W_min = 0.3  # lower bound\n",
    "\n",
    "n_particles = 5  # number of particles\n",
    "\n",
    "# Set initial positions to for reproducability of the notebook\n",
    "np.random.seed(1)\n",
    "init_pos = np.random.uniform(W_min, W_max, (n_particles, M))\n",
    "\n",
    "particle_swarm=tdd.MethodParticleSwarm(\n",
    "    n_particles=n_particles, \n",
    "    n_iter=40,\n",
    "    cognitive_coeff=1,\n",
    "    social_coeff=1,\n",
    "    weight=0.7,\n",
    "    init_pos=init_pos,\n",
    "    seed=1,\n",
    "    ftol=0.001,\n",
    "    ftol_iter=8\n",
    ")\n",
    "\n",
    "parameters = [tdd.ParameterFloat(name=i, span=(W_min, W_max)) for i in range(M)]\n",
    "\n",
    "design_space = tdd.DesignSpace(method=particle_swarm, parameters=parameters, task_name=\"PSO_Notebook\", path_dir=\"./data\")"
   ]
  },
  {
   "cell_type": "markdown",
   "id": "36560bbc",
   "metadata": {},
   "source": [
    "Running the PSO optimization is easily managed by supplying the `fn_pre` and `fn_post` functions to the `DesignSpace.run` method."
   ]
  },
  {
   "cell_type": "code",
   "execution_count": 15,
   "id": "63c01956",
   "metadata": {},
   "outputs": [
    {
     "name": "stderr",
     "output_type": "stream",
     "text": [
      "2024-08-18 14:58:57,739 - pyswarms.single.global_best - INFO - Optimize for 40 iters with {'c1': 1.0, 'c2': 1.0, 'w': 0.7}\n",
      "pyswarms.single.global_best:   0%|          |0/40"
     ]
    },
    {
     "data": {
      "text/html": [
       "<pre style=\"white-space:pre;overflow-x:auto;line-height:normal;font-family:Menlo,'DejaVu Sans Mono',consolas,'Courier New',monospace\"><span style=\"color: #7fbfbf; text-decoration-color: #7fbfbf\">14:58:57 BST </span>Running <span style=\"color: #008080; text-decoration-color: #008080; font-weight: bold\">10</span> Simulations                                             \n",
       "</pre>\n"
      ],
      "text/plain": [
       "\u001b[2;36m14:58:57 BST\u001b[0m\u001b[2;36m \u001b[0mRunning \u001b[1;36m10\u001b[0m Simulations                                             \n"
      ]
     },
     "metadata": {},
     "output_type": "display_data"
    },
    {
     "name": "stderr",
     "output_type": "stream",
     "text": [
      "pyswarms.single.global_best:   2%|▎         |1/40, best_cost=-1.55"
     ]
    },
    {
     "data": {
      "text/html": [
       "<pre style=\"white-space:pre;overflow-x:auto;line-height:normal;font-family:Menlo,'DejaVu Sans Mono',consolas,'Courier New',monospace\"><span style=\"color: #7fbfbf; text-decoration-color: #7fbfbf\">14:59:40 BST </span>Running <span style=\"color: #008080; text-decoration-color: #008080; font-weight: bold\">10</span> Simulations                                             \n",
       "</pre>\n"
      ],
      "text/plain": [
       "\u001b[2;36m14:59:40 BST\u001b[0m\u001b[2;36m \u001b[0mRunning \u001b[1;36m10\u001b[0m Simulations                                             \n"
      ]
     },
     "metadata": {},
     "output_type": "display_data"
    },
    {
     "name": "stderr",
     "output_type": "stream",
     "text": [
      "pyswarms.single.global_best:   5%|▌         |2/40, best_cost=-1.56"
     ]
    },
    {
     "data": {
      "text/html": [
       "<pre style=\"white-space:pre;overflow-x:auto;line-height:normal;font-family:Menlo,'DejaVu Sans Mono',consolas,'Courier New',monospace\"><span style=\"color: #7fbfbf; text-decoration-color: #7fbfbf\">15:00:20 BST </span>Running <span style=\"color: #008080; text-decoration-color: #008080; font-weight: bold\">10</span> Simulations                                             \n",
       "</pre>\n"
      ],
      "text/plain": [
       "\u001b[2;36m15:00:20 BST\u001b[0m\u001b[2;36m \u001b[0mRunning \u001b[1;36m10\u001b[0m Simulations                                             \n"
      ]
     },
     "metadata": {},
     "output_type": "display_data"
    },
    {
     "name": "stderr",
     "output_type": "stream",
     "text": [
      "pyswarms.single.global_best:   8%|▊         |3/40, best_cost=-1.56"
     ]
    },
    {
     "data": {
      "text/html": [
       "<pre style=\"white-space:pre;overflow-x:auto;line-height:normal;font-family:Menlo,'DejaVu Sans Mono',consolas,'Courier New',monospace\"><span style=\"color: #7fbfbf; text-decoration-color: #7fbfbf\">15:00:57 BST </span>Running <span style=\"color: #008080; text-decoration-color: #008080; font-weight: bold\">10</span> Simulations                                             \n",
       "</pre>\n"
      ],
      "text/plain": [
       "\u001b[2;36m15:00:57 BST\u001b[0m\u001b[2;36m \u001b[0mRunning \u001b[1;36m10\u001b[0m Simulations                                             \n"
      ]
     },
     "metadata": {},
     "output_type": "display_data"
    },
    {
     "name": "stderr",
     "output_type": "stream",
     "text": [
      "pyswarms.single.global_best:  10%|█         |4/40, best_cost=-1.56"
     ]
    },
    {
     "data": {
      "text/html": [
       "<pre style=\"white-space:pre;overflow-x:auto;line-height:normal;font-family:Menlo,'DejaVu Sans Mono',consolas,'Courier New',monospace\"><span style=\"color: #7fbfbf; text-decoration-color: #7fbfbf\">15:01:38 BST </span>Running <span style=\"color: #008080; text-decoration-color: #008080; font-weight: bold\">10</span> Simulations                                             \n",
       "</pre>\n"
      ],
      "text/plain": [
       "\u001b[2;36m15:01:38 BST\u001b[0m\u001b[2;36m \u001b[0mRunning \u001b[1;36m10\u001b[0m Simulations                                             \n"
      ]
     },
     "metadata": {},
     "output_type": "display_data"
    },
    {
     "name": "stderr",
     "output_type": "stream",
     "text": [
      "pyswarms.single.global_best:  12%|█▎        |5/40, best_cost=-1.56"
     ]
    },
    {
     "data": {
      "text/html": [
       "<pre style=\"white-space:pre;overflow-x:auto;line-height:normal;font-family:Menlo,'DejaVu Sans Mono',consolas,'Courier New',monospace\"><span style=\"color: #7fbfbf; text-decoration-color: #7fbfbf\">15:02:19 BST </span>Running <span style=\"color: #008080; text-decoration-color: #008080; font-weight: bold\">10</span> Simulations                                             \n",
       "</pre>\n"
      ],
      "text/plain": [
       "\u001b[2;36m15:02:19 BST\u001b[0m\u001b[2;36m \u001b[0mRunning \u001b[1;36m10\u001b[0m Simulations                                             \n"
      ]
     },
     "metadata": {},
     "output_type": "display_data"
    },
    {
     "name": "stderr",
     "output_type": "stream",
     "text": [
      "pyswarms.single.global_best:  15%|█▌        |6/40, best_cost=-1.57"
     ]
    },
    {
     "data": {
      "text/html": [
       "<pre style=\"white-space:pre;overflow-x:auto;line-height:normal;font-family:Menlo,'DejaVu Sans Mono',consolas,'Courier New',monospace\"><span style=\"color: #7fbfbf; text-decoration-color: #7fbfbf\">15:02:57 BST </span>Running <span style=\"color: #008080; text-decoration-color: #008080; font-weight: bold\">10</span> Simulations                                             \n",
       "</pre>\n"
      ],
      "text/plain": [
       "\u001b[2;36m15:02:57 BST\u001b[0m\u001b[2;36m \u001b[0mRunning \u001b[1;36m10\u001b[0m Simulations                                             \n"
      ]
     },
     "metadata": {},
     "output_type": "display_data"
    },
    {
     "name": "stderr",
     "output_type": "stream",
     "text": [
      "pyswarms.single.global_best:  18%|█▊        |7/40, best_cost=-1.57"
     ]
    },
    {
     "data": {
      "text/html": [
       "<pre style=\"white-space:pre;overflow-x:auto;line-height:normal;font-family:Menlo,'DejaVu Sans Mono',consolas,'Courier New',monospace\"><span style=\"color: #7fbfbf; text-decoration-color: #7fbfbf\">15:03:34 BST </span>Running <span style=\"color: #008080; text-decoration-color: #008080; font-weight: bold\">10</span> Simulations                                             \n",
       "</pre>\n"
      ],
      "text/plain": [
       "\u001b[2;36m15:03:34 BST\u001b[0m\u001b[2;36m \u001b[0mRunning \u001b[1;36m10\u001b[0m Simulations                                             \n"
      ]
     },
     "metadata": {},
     "output_type": "display_data"
    },
    {
     "name": "stderr",
     "output_type": "stream",
     "text": [
      "pyswarms.single.global_best:  20%|██        |8/40, best_cost=-1.6 "
     ]
    },
    {
     "data": {
      "text/html": [
       "<pre style=\"white-space:pre;overflow-x:auto;line-height:normal;font-family:Menlo,'DejaVu Sans Mono',consolas,'Courier New',monospace\"><span style=\"color: #7fbfbf; text-decoration-color: #7fbfbf\">15:04:14 BST </span>Running <span style=\"color: #008080; text-decoration-color: #008080; font-weight: bold\">10</span> Simulations                                             \n",
       "</pre>\n"
      ],
      "text/plain": [
       "\u001b[2;36m15:04:14 BST\u001b[0m\u001b[2;36m \u001b[0mRunning \u001b[1;36m10\u001b[0m Simulations                                             \n"
      ]
     },
     "metadata": {},
     "output_type": "display_data"
    },
    {
     "name": "stderr",
     "output_type": "stream",
     "text": [
      "pyswarms.single.global_best:  22%|██▎       |9/40, best_cost=-1.6"
     ]
    },
    {
     "data": {
      "text/html": [
       "<pre style=\"white-space:pre;overflow-x:auto;line-height:normal;font-family:Menlo,'DejaVu Sans Mono',consolas,'Courier New',monospace\"><span style=\"color: #7fbfbf; text-decoration-color: #7fbfbf\">15:04:53 BST </span>Running <span style=\"color: #008080; text-decoration-color: #008080; font-weight: bold\">10</span> Simulations                                             \n",
       "</pre>\n"
      ],
      "text/plain": [
       "\u001b[2;36m15:04:53 BST\u001b[0m\u001b[2;36m \u001b[0mRunning \u001b[1;36m10\u001b[0m Simulations                                             \n"
      ]
     },
     "metadata": {},
     "output_type": "display_data"
    },
    {
     "name": "stderr",
     "output_type": "stream",
     "text": [
      "pyswarms.single.global_best:  25%|██▌       |10/40, best_cost=-1.6"
     ]
    },
    {
     "data": {
      "text/html": [
       "<pre style=\"white-space:pre;overflow-x:auto;line-height:normal;font-family:Menlo,'DejaVu Sans Mono',consolas,'Courier New',monospace\"><span style=\"color: #7fbfbf; text-decoration-color: #7fbfbf\">15:05:32 BST </span>Running <span style=\"color: #008080; text-decoration-color: #008080; font-weight: bold\">10</span> Simulations                                             \n",
       "</pre>\n"
      ],
      "text/plain": [
       "\u001b[2;36m15:05:32 BST\u001b[0m\u001b[2;36m \u001b[0mRunning \u001b[1;36m10\u001b[0m Simulations                                             \n"
      ]
     },
     "metadata": {},
     "output_type": "display_data"
    },
    {
     "name": "stderr",
     "output_type": "stream",
     "text": [
      "pyswarms.single.global_best:  28%|██▊       |11/40, best_cost=-1.6"
     ]
    },
    {
     "data": {
      "text/html": [
       "<pre style=\"white-space:pre;overflow-x:auto;line-height:normal;font-family:Menlo,'DejaVu Sans Mono',consolas,'Courier New',monospace\"><span style=\"color: #7fbfbf; text-decoration-color: #7fbfbf\">15:06:16 BST </span>Running <span style=\"color: #008080; text-decoration-color: #008080; font-weight: bold\">10</span> Simulations                                             \n",
       "</pre>\n"
      ],
      "text/plain": [
       "\u001b[2;36m15:06:16 BST\u001b[0m\u001b[2;36m \u001b[0mRunning \u001b[1;36m10\u001b[0m Simulations                                             \n"
      ]
     },
     "metadata": {},
     "output_type": "display_data"
    },
    {
     "name": "stderr",
     "output_type": "stream",
     "text": [
      "pyswarms.single.global_best:  30%|███       |12/40, best_cost=-1.6"
     ]
    },
    {
     "data": {
      "text/html": [
       "<pre style=\"white-space:pre;overflow-x:auto;line-height:normal;font-family:Menlo,'DejaVu Sans Mono',consolas,'Courier New',monospace\"><span style=\"color: #7fbfbf; text-decoration-color: #7fbfbf\">15:06:54 BST </span>Running <span style=\"color: #008080; text-decoration-color: #008080; font-weight: bold\">10</span> Simulations                                             \n",
       "</pre>\n"
      ],
      "text/plain": [
       "\u001b[2;36m15:06:54 BST\u001b[0m\u001b[2;36m \u001b[0mRunning \u001b[1;36m10\u001b[0m Simulations                                             \n"
      ]
     },
     "metadata": {},
     "output_type": "display_data"
    },
    {
     "name": "stderr",
     "output_type": "stream",
     "text": [
      "pyswarms.single.global_best:  32%|███▎      |13/40, best_cost=-1.6"
     ]
    },
    {
     "data": {
      "text/html": [
       "<pre style=\"white-space:pre;overflow-x:auto;line-height:normal;font-family:Menlo,'DejaVu Sans Mono',consolas,'Courier New',monospace\"><span style=\"color: #7fbfbf; text-decoration-color: #7fbfbf\">15:07:36 BST </span>Running <span style=\"color: #008080; text-decoration-color: #008080; font-weight: bold\">10</span> Simulations                                             \n",
       "</pre>\n"
      ],
      "text/plain": [
       "\u001b[2;36m15:07:36 BST\u001b[0m\u001b[2;36m \u001b[0mRunning \u001b[1;36m10\u001b[0m Simulations                                             \n"
      ]
     },
     "metadata": {},
     "output_type": "display_data"
    },
    {
     "name": "stderr",
     "output_type": "stream",
     "text": [
      "pyswarms.single.global_best:  35%|███▌      |14/40, best_cost=-1.6"
     ]
    },
    {
     "data": {
      "text/html": [
       "<pre style=\"white-space:pre;overflow-x:auto;line-height:normal;font-family:Menlo,'DejaVu Sans Mono',consolas,'Courier New',monospace\"><span style=\"color: #7fbfbf; text-decoration-color: #7fbfbf\">15:08:18 BST </span>Running <span style=\"color: #008080; text-decoration-color: #008080; font-weight: bold\">10</span> Simulations                                             \n",
       "</pre>\n"
      ],
      "text/plain": [
       "\u001b[2;36m15:08:18 BST\u001b[0m\u001b[2;36m \u001b[0mRunning \u001b[1;36m10\u001b[0m Simulations                                             \n"
      ]
     },
     "metadata": {},
     "output_type": "display_data"
    },
    {
     "name": "stderr",
     "output_type": "stream",
     "text": [
      "pyswarms.single.global_best:  38%|███▊      |15/40, best_cost=-1.65"
     ]
    },
    {
     "data": {
      "text/html": [
       "<pre style=\"white-space:pre;overflow-x:auto;line-height:normal;font-family:Menlo,'DejaVu Sans Mono',consolas,'Courier New',monospace\"><span style=\"color: #7fbfbf; text-decoration-color: #7fbfbf\">15:08:57 BST </span>Running <span style=\"color: #008080; text-decoration-color: #008080; font-weight: bold\">10</span> Simulations                                             \n",
       "</pre>\n"
      ],
      "text/plain": [
       "\u001b[2;36m15:08:57 BST\u001b[0m\u001b[2;36m \u001b[0mRunning \u001b[1;36m10\u001b[0m Simulations                                             \n"
      ]
     },
     "metadata": {},
     "output_type": "display_data"
    },
    {
     "name": "stderr",
     "output_type": "stream",
     "text": [
      "pyswarms.single.global_best:  40%|████      |16/40, best_cost=-1.65"
     ]
    },
    {
     "data": {
      "text/html": [
       "<pre style=\"white-space:pre;overflow-x:auto;line-height:normal;font-family:Menlo,'DejaVu Sans Mono',consolas,'Courier New',monospace\"><span style=\"color: #7fbfbf; text-decoration-color: #7fbfbf\">15:09:36 BST </span>Running <span style=\"color: #008080; text-decoration-color: #008080; font-weight: bold\">10</span> Simulations                                             \n",
       "</pre>\n"
      ],
      "text/plain": [
       "\u001b[2;36m15:09:36 BST\u001b[0m\u001b[2;36m \u001b[0mRunning \u001b[1;36m10\u001b[0m Simulations                                             \n"
      ]
     },
     "metadata": {},
     "output_type": "display_data"
    },
    {
     "name": "stderr",
     "output_type": "stream",
     "text": [
      "pyswarms.single.global_best:  42%|████▎     |17/40, best_cost=-1.65"
     ]
    },
    {
     "data": {
      "text/html": [
       "<pre style=\"white-space:pre;overflow-x:auto;line-height:normal;font-family:Menlo,'DejaVu Sans Mono',consolas,'Courier New',monospace\"><span style=\"color: #7fbfbf; text-decoration-color: #7fbfbf\">15:10:16 BST </span>Running <span style=\"color: #008080; text-decoration-color: #008080; font-weight: bold\">10</span> Simulations                                             \n",
       "</pre>\n"
      ],
      "text/plain": [
       "\u001b[2;36m15:10:16 BST\u001b[0m\u001b[2;36m \u001b[0mRunning \u001b[1;36m10\u001b[0m Simulations                                             \n"
      ]
     },
     "metadata": {},
     "output_type": "display_data"
    },
    {
     "name": "stderr",
     "output_type": "stream",
     "text": [
      "pyswarms.single.global_best:  45%|████▌     |18/40, best_cost=-1.65"
     ]
    },
    {
     "data": {
      "text/html": [
       "<pre style=\"white-space:pre;overflow-x:auto;line-height:normal;font-family:Menlo,'DejaVu Sans Mono',consolas,'Courier New',monospace\"><span style=\"color: #7fbfbf; text-decoration-color: #7fbfbf\">15:10:56 BST </span>Running <span style=\"color: #008080; text-decoration-color: #008080; font-weight: bold\">10</span> Simulations                                             \n",
       "</pre>\n"
      ],
      "text/plain": [
       "\u001b[2;36m15:10:56 BST\u001b[0m\u001b[2;36m \u001b[0mRunning \u001b[1;36m10\u001b[0m Simulations                                             \n"
      ]
     },
     "metadata": {},
     "output_type": "display_data"
    },
    {
     "name": "stderr",
     "output_type": "stream",
     "text": [
      "pyswarms.single.global_best:  48%|████▊     |19/40, best_cost=-1.65"
     ]
    },
    {
     "data": {
      "text/html": [
       "<pre style=\"white-space:pre;overflow-x:auto;line-height:normal;font-family:Menlo,'DejaVu Sans Mono',consolas,'Courier New',monospace\"><span style=\"color: #7fbfbf; text-decoration-color: #7fbfbf\">15:11:34 BST </span>Running <span style=\"color: #008080; text-decoration-color: #008080; font-weight: bold\">10</span> Simulations                                             \n",
       "</pre>\n"
      ],
      "text/plain": [
       "\u001b[2;36m15:11:34 BST\u001b[0m\u001b[2;36m \u001b[0mRunning \u001b[1;36m10\u001b[0m Simulations                                             \n"
      ]
     },
     "metadata": {},
     "output_type": "display_data"
    },
    {
     "name": "stderr",
     "output_type": "stream",
     "text": [
      "pyswarms.single.global_best:  50%|█████     |20/40, best_cost=-1.66"
     ]
    },
    {
     "data": {
      "text/html": [
       "<pre style=\"white-space:pre;overflow-x:auto;line-height:normal;font-family:Menlo,'DejaVu Sans Mono',consolas,'Courier New',monospace\"><span style=\"color: #7fbfbf; text-decoration-color: #7fbfbf\">15:12:11 BST </span>Running <span style=\"color: #008080; text-decoration-color: #008080; font-weight: bold\">10</span> Simulations                                             \n",
       "</pre>\n"
      ],
      "text/plain": [
       "\u001b[2;36m15:12:11 BST\u001b[0m\u001b[2;36m \u001b[0mRunning \u001b[1;36m10\u001b[0m Simulations                                             \n"
      ]
     },
     "metadata": {},
     "output_type": "display_data"
    },
    {
     "name": "stderr",
     "output_type": "stream",
     "text": [
      "pyswarms.single.global_best:  52%|█████▎    |21/40, best_cost=-1.66"
     ]
    },
    {
     "data": {
      "text/html": [
       "<pre style=\"white-space:pre;overflow-x:auto;line-height:normal;font-family:Menlo,'DejaVu Sans Mono',consolas,'Courier New',monospace\"><span style=\"color: #7fbfbf; text-decoration-color: #7fbfbf\">15:12:53 BST </span>Running <span style=\"color: #008080; text-decoration-color: #008080; font-weight: bold\">10</span> Simulations                                             \n",
       "</pre>\n"
      ],
      "text/plain": [
       "\u001b[2;36m15:12:53 BST\u001b[0m\u001b[2;36m \u001b[0mRunning \u001b[1;36m10\u001b[0m Simulations                                             \n"
      ]
     },
     "metadata": {},
     "output_type": "display_data"
    },
    {
     "name": "stderr",
     "output_type": "stream",
     "text": [
      "pyswarms.single.global_best:  55%|█████▌    |22/40, best_cost=-1.66"
     ]
    },
    {
     "data": {
      "text/html": [
       "<pre style=\"white-space:pre;overflow-x:auto;line-height:normal;font-family:Menlo,'DejaVu Sans Mono',consolas,'Courier New',monospace\"><span style=\"color: #7fbfbf; text-decoration-color: #7fbfbf\">15:13:31 BST </span>Running <span style=\"color: #008080; text-decoration-color: #008080; font-weight: bold\">10</span> Simulations                                             \n",
       "</pre>\n"
      ],
      "text/plain": [
       "\u001b[2;36m15:13:31 BST\u001b[0m\u001b[2;36m \u001b[0mRunning \u001b[1;36m10\u001b[0m Simulations                                             \n"
      ]
     },
     "metadata": {},
     "output_type": "display_data"
    },
    {
     "name": "stderr",
     "output_type": "stream",
     "text": [
      "pyswarms.single.global_best:  57%|█████▊    |23/40, best_cost=-1.66"
     ]
    },
    {
     "data": {
      "text/html": [
       "<pre style=\"white-space:pre;overflow-x:auto;line-height:normal;font-family:Menlo,'DejaVu Sans Mono',consolas,'Courier New',monospace\"><span style=\"color: #7fbfbf; text-decoration-color: #7fbfbf\">15:14:09 BST </span>Running <span style=\"color: #008080; text-decoration-color: #008080; font-weight: bold\">10</span> Simulations                                             \n",
       "</pre>\n"
      ],
      "text/plain": [
       "\u001b[2;36m15:14:09 BST\u001b[0m\u001b[2;36m \u001b[0mRunning \u001b[1;36m10\u001b[0m Simulations                                             \n"
      ]
     },
     "metadata": {},
     "output_type": "display_data"
    },
    {
     "name": "stderr",
     "output_type": "stream",
     "text": [
      "pyswarms.single.global_best:  60%|██████    |24/40, best_cost=-1.66"
     ]
    },
    {
     "data": {
      "text/html": [
       "<pre style=\"white-space:pre;overflow-x:auto;line-height:normal;font-family:Menlo,'DejaVu Sans Mono',consolas,'Courier New',monospace\"><span style=\"color: #7fbfbf; text-decoration-color: #7fbfbf\">15:14:49 BST </span>Running <span style=\"color: #008080; text-decoration-color: #008080; font-weight: bold\">10</span> Simulations                                             \n",
       "</pre>\n"
      ],
      "text/plain": [
       "\u001b[2;36m15:14:49 BST\u001b[0m\u001b[2;36m \u001b[0mRunning \u001b[1;36m10\u001b[0m Simulations                                             \n"
      ]
     },
     "metadata": {},
     "output_type": "display_data"
    },
    {
     "name": "stderr",
     "output_type": "stream",
     "text": [
      "pyswarms.single.global_best:  62%|██████▎   |25/40, best_cost=-1.66"
     ]
    },
    {
     "data": {
      "text/html": [
       "<pre style=\"white-space:pre;overflow-x:auto;line-height:normal;font-family:Menlo,'DejaVu Sans Mono',consolas,'Courier New',monospace\"><span style=\"color: #7fbfbf; text-decoration-color: #7fbfbf\">15:15:29 BST </span>Running <span style=\"color: #008080; text-decoration-color: #008080; font-weight: bold\">10</span> Simulations                                             \n",
       "</pre>\n"
      ],
      "text/plain": [
       "\u001b[2;36m15:15:29 BST\u001b[0m\u001b[2;36m \u001b[0mRunning \u001b[1;36m10\u001b[0m Simulations                                             \n"
      ]
     },
     "metadata": {},
     "output_type": "display_data"
    },
    {
     "name": "stderr",
     "output_type": "stream",
     "text": [
      "pyswarms.single.global_best:  65%|██████▌   |26/40, best_cost=-1.66"
     ]
    },
    {
     "data": {
      "text/html": [
       "<pre style=\"white-space:pre;overflow-x:auto;line-height:normal;font-family:Menlo,'DejaVu Sans Mono',consolas,'Courier New',monospace\"><span style=\"color: #7fbfbf; text-decoration-color: #7fbfbf\">15:16:08 BST </span>Running <span style=\"color: #008080; text-decoration-color: #008080; font-weight: bold\">10</span> Simulations                                             \n",
       "</pre>\n"
      ],
      "text/plain": [
       "\u001b[2;36m15:16:08 BST\u001b[0m\u001b[2;36m \u001b[0mRunning \u001b[1;36m10\u001b[0m Simulations                                             \n"
      ]
     },
     "metadata": {},
     "output_type": "display_data"
    },
    {
     "name": "stderr",
     "output_type": "stream",
     "text": [
      "pyswarms.single.global_best:  68%|██████▊   |27/40, best_cost=-1.76"
     ]
    },
    {
     "data": {
      "text/html": [
       "<pre style=\"white-space:pre;overflow-x:auto;line-height:normal;font-family:Menlo,'DejaVu Sans Mono',consolas,'Courier New',monospace\"><span style=\"color: #7fbfbf; text-decoration-color: #7fbfbf\">15:16:46 BST </span>Running <span style=\"color: #008080; text-decoration-color: #008080; font-weight: bold\">10</span> Simulations                                             \n",
       "</pre>\n"
      ],
      "text/plain": [
       "\u001b[2;36m15:16:46 BST\u001b[0m\u001b[2;36m \u001b[0mRunning \u001b[1;36m10\u001b[0m Simulations                                             \n"
      ]
     },
     "metadata": {},
     "output_type": "display_data"
    },
    {
     "name": "stderr",
     "output_type": "stream",
     "text": [
      "pyswarms.single.global_best:  70%|███████   |28/40, best_cost=-1.76"
     ]
    },
    {
     "data": {
      "text/html": [
       "<pre style=\"white-space:pre;overflow-x:auto;line-height:normal;font-family:Menlo,'DejaVu Sans Mono',consolas,'Courier New',monospace\"><span style=\"color: #7fbfbf; text-decoration-color: #7fbfbf\">15:17:24 BST </span>Running <span style=\"color: #008080; text-decoration-color: #008080; font-weight: bold\">10</span> Simulations                                             \n",
       "</pre>\n"
      ],
      "text/plain": [
       "\u001b[2;36m15:17:24 BST\u001b[0m\u001b[2;36m \u001b[0mRunning \u001b[1;36m10\u001b[0m Simulations                                             \n"
      ]
     },
     "metadata": {},
     "output_type": "display_data"
    },
    {
     "name": "stderr",
     "output_type": "stream",
     "text": [
      "pyswarms.single.global_best:  72%|███████▎  |29/40, best_cost=-1.76"
     ]
    },
    {
     "data": {
      "text/html": [
       "<pre style=\"white-space:pre;overflow-x:auto;line-height:normal;font-family:Menlo,'DejaVu Sans Mono',consolas,'Courier New',monospace\"><span style=\"color: #7fbfbf; text-decoration-color: #7fbfbf\">15:18:02 BST </span>Running <span style=\"color: #008080; text-decoration-color: #008080; font-weight: bold\">10</span> Simulations                                             \n",
       "</pre>\n"
      ],
      "text/plain": [
       "\u001b[2;36m15:18:02 BST\u001b[0m\u001b[2;36m \u001b[0mRunning \u001b[1;36m10\u001b[0m Simulations                                             \n"
      ]
     },
     "metadata": {},
     "output_type": "display_data"
    },
    {
     "name": "stderr",
     "output_type": "stream",
     "text": [
      "pyswarms.single.global_best:  75%|███████▌  |30/40, best_cost=-1.76"
     ]
    },
    {
     "data": {
      "text/html": [
       "<pre style=\"white-space:pre;overflow-x:auto;line-height:normal;font-family:Menlo,'DejaVu Sans Mono',consolas,'Courier New',monospace\"><span style=\"color: #7fbfbf; text-decoration-color: #7fbfbf\">15:18:44 BST </span>Running <span style=\"color: #008080; text-decoration-color: #008080; font-weight: bold\">10</span> Simulations                                             \n",
       "</pre>\n"
      ],
      "text/plain": [
       "\u001b[2;36m15:18:44 BST\u001b[0m\u001b[2;36m \u001b[0mRunning \u001b[1;36m10\u001b[0m Simulations                                             \n"
      ]
     },
     "metadata": {},
     "output_type": "display_data"
    },
    {
     "name": "stderr",
     "output_type": "stream",
     "text": [
      "pyswarms.single.global_best:  78%|███████▊  |31/40, best_cost=-1.76"
     ]
    },
    {
     "data": {
      "text/html": [
       "<pre style=\"white-space:pre;overflow-x:auto;line-height:normal;font-family:Menlo,'DejaVu Sans Mono',consolas,'Courier New',monospace\"><span style=\"color: #7fbfbf; text-decoration-color: #7fbfbf\">15:19:25 BST </span>Running <span style=\"color: #008080; text-decoration-color: #008080; font-weight: bold\">10</span> Simulations                                             \n",
       "</pre>\n"
      ],
      "text/plain": [
       "\u001b[2;36m15:19:25 BST\u001b[0m\u001b[2;36m \u001b[0mRunning \u001b[1;36m10\u001b[0m Simulations                                             \n"
      ]
     },
     "metadata": {},
     "output_type": "display_data"
    },
    {
     "name": "stderr",
     "output_type": "stream",
     "text": [
      "pyswarms.single.global_best:  80%|████████  |32/40, best_cost=-1.76"
     ]
    },
    {
     "data": {
      "text/html": [
       "<pre style=\"white-space:pre;overflow-x:auto;line-height:normal;font-family:Menlo,'DejaVu Sans Mono',consolas,'Courier New',monospace\"><span style=\"color: #7fbfbf; text-decoration-color: #7fbfbf\">15:20:04 BST </span>Running <span style=\"color: #008080; text-decoration-color: #008080; font-weight: bold\">10</span> Simulations                                             \n",
       "</pre>\n"
      ],
      "text/plain": [
       "\u001b[2;36m15:20:04 BST\u001b[0m\u001b[2;36m \u001b[0mRunning \u001b[1;36m10\u001b[0m Simulations                                             \n"
      ]
     },
     "metadata": {},
     "output_type": "display_data"
    },
    {
     "name": "stderr",
     "output_type": "stream",
     "text": [
      "pyswarms.single.global_best:  82%|████████▎ |33/40, best_cost=-1.76"
     ]
    },
    {
     "data": {
      "text/html": [
       "<pre style=\"white-space:pre;overflow-x:auto;line-height:normal;font-family:Menlo,'DejaVu Sans Mono',consolas,'Courier New',monospace\"><span style=\"color: #7fbfbf; text-decoration-color: #7fbfbf\">15:20:47 BST </span>Running <span style=\"color: #008080; text-decoration-color: #008080; font-weight: bold\">10</span> Simulations                                             \n",
       "</pre>\n"
      ],
      "text/plain": [
       "\u001b[2;36m15:20:47 BST\u001b[0m\u001b[2;36m \u001b[0mRunning \u001b[1;36m10\u001b[0m Simulations                                             \n"
      ]
     },
     "metadata": {},
     "output_type": "display_data"
    },
    {
     "name": "stderr",
     "output_type": "stream",
     "text": [
      "pyswarms.single.global_best:  85%|████████▌ |34/40, best_cost=-1.76"
     ]
    },
    {
     "data": {
      "text/html": [
       "<pre style=\"white-space:pre;overflow-x:auto;line-height:normal;font-family:Menlo,'DejaVu Sans Mono',consolas,'Courier New',monospace\"><span style=\"color: #7fbfbf; text-decoration-color: #7fbfbf\">15:21:25 BST </span>Running <span style=\"color: #008080; text-decoration-color: #008080; font-weight: bold\">10</span> Simulations                                             \n",
       "</pre>\n"
      ],
      "text/plain": [
       "\u001b[2;36m15:21:25 BST\u001b[0m\u001b[2;36m \u001b[0mRunning \u001b[1;36m10\u001b[0m Simulations                                             \n"
      ]
     },
     "metadata": {},
     "output_type": "display_data"
    },
    {
     "name": "stderr",
     "output_type": "stream",
     "text": [
      "pyswarms.single.global_best:  85%|████████▌ |34/40, best_cost=-1.76\n",
      "2024-08-18 15:22:05,753 - pyswarms.single.global_best - INFO - Optimization finished | best cost: -1.7550373095072005, best pos: [0.36448035 0.37247524 0.38638816 0.40732065 0.4468407  0.327726\n",
      " 0.3097584  0.31346851 0.32078258 0.34627143]\n"
     ]
    },
    {
     "data": {
      "text/html": [
       "<pre style=\"white-space:pre;overflow-x:auto;line-height:normal;font-family:Menlo,'DejaVu Sans Mono',consolas,'Courier New',monospace\"><span style=\"color: #7fbfbf; text-decoration-color: #7fbfbf\">15:22:05 BST </span>Best Result: <span style=\"color: #008080; text-decoration-color: #008080; font-weight: bold\">-1.7550373095072005</span>                                   \n",
       "<span style=\"color: #7fbfbf; text-decoration-color: #7fbfbf\">             </span>Best Parameters: <span style=\"color: #008080; text-decoration-color: #008080; font-weight: bold\">0</span>: <span style=\"color: #008080; text-decoration-color: #008080; font-weight: bold\">0.3644803547286112</span> <span style=\"color: #008080; text-decoration-color: #008080; font-weight: bold\">1</span>: <span style=\"color: #008080; text-decoration-color: #008080; font-weight: bold\">0.37247524188920256</span> <span style=\"color: #008080; text-decoration-color: #008080; font-weight: bold\">2</span>:   \n",
       "<span style=\"color: #7fbfbf; text-decoration-color: #7fbfbf\">             </span><span style=\"color: #008080; text-decoration-color: #008080; font-weight: bold\">0.38638815979366026</span> <span style=\"color: #008080; text-decoration-color: #008080; font-weight: bold\">3</span>: <span style=\"color: #008080; text-decoration-color: #008080; font-weight: bold\">0.40732064818082</span> <span style=\"color: #008080; text-decoration-color: #008080; font-weight: bold\">4</span>: <span style=\"color: #008080; text-decoration-color: #008080; font-weight: bold\">0.4468407035432923</span> <span style=\"color: #008080; text-decoration-color: #008080; font-weight: bold\">5</span>:   \n",
       "<span style=\"color: #7fbfbf; text-decoration-color: #7fbfbf\">             </span><span style=\"color: #008080; text-decoration-color: #008080; font-weight: bold\">0.3277260025698511</span> <span style=\"color: #008080; text-decoration-color: #008080; font-weight: bold\">6</span>: <span style=\"color: #008080; text-decoration-color: #008080; font-weight: bold\">0.30975839785286563</span> <span style=\"color: #008080; text-decoration-color: #008080; font-weight: bold\">7</span>: <span style=\"color: #008080; text-decoration-color: #008080; font-weight: bold\">0.3134685087443462</span> <span style=\"color: #008080; text-decoration-color: #008080; font-weight: bold\">8</span>: \n",
       "<span style=\"color: #7fbfbf; text-decoration-color: #7fbfbf\">             </span><span style=\"color: #008080; text-decoration-color: #008080; font-weight: bold\">0.32078258493519357</span> <span style=\"color: #008080; text-decoration-color: #008080; font-weight: bold\">9</span>: <span style=\"color: #008080; text-decoration-color: #008080; font-weight: bold\">0.34627143329045607</span>                         \n",
       "<span style=\"color: #7fbfbf; text-decoration-color: #7fbfbf\">             </span>                                                                   \n",
       "</pre>\n"
      ],
      "text/plain": [
       "\u001b[2;36m15:22:05 BST\u001b[0m\u001b[2;36m \u001b[0mBest Result: \u001b[1;36m-1.7550373095072005\u001b[0m                                   \n",
       "\u001b[2;36m             \u001b[0mBest Parameters: \u001b[1;36m0\u001b[0m: \u001b[1;36m0.3644803547286112\u001b[0m \u001b[1;36m1\u001b[0m: \u001b[1;36m0.37247524188920256\u001b[0m \u001b[1;36m2\u001b[0m:   \n",
       "\u001b[2;36m             \u001b[0m\u001b[1;36m0.38638815979366026\u001b[0m \u001b[1;36m3\u001b[0m: \u001b[1;36m0.40732064818082\u001b[0m \u001b[1;36m4\u001b[0m: \u001b[1;36m0.4468407035432923\u001b[0m \u001b[1;36m5\u001b[0m:   \n",
       "\u001b[2;36m             \u001b[0m\u001b[1;36m0.3277260025698511\u001b[0m \u001b[1;36m6\u001b[0m: \u001b[1;36m0.30975839785286563\u001b[0m \u001b[1;36m7\u001b[0m: \u001b[1;36m0.3134685087443462\u001b[0m \u001b[1;36m8\u001b[0m: \n",
       "\u001b[2;36m             \u001b[0m\u001b[1;36m0.32078258493519357\u001b[0m \u001b[1;36m9\u001b[0m: \u001b[1;36m0.34627143329045607\u001b[0m                         \n",
       "\u001b[2;36m             \u001b[0m                                                                   \n"
      ]
     },
     "metadata": {},
     "output_type": "display_data"
    }
   ],
   "source": [
    "results = design_space.run(fn_pre, fn_post, verbose=True)\n",
    "df = results.to_dataframe()"
   ]
  },
  {
   "cell_type": "markdown",
   "id": "1f6a3634",
   "metadata": {},
   "source": [
    "After the optimization is complete, plot the FOM as a function of iteration. We can use the optimizer object from the `results` to access the cost history."
   ]
  },
  {
   "cell_type": "code",
   "execution_count": 16,
   "id": "87ff2ad7",
   "metadata": {},
   "outputs": [
    {
     "data": {
      "image/png": "[encoded data removed]",
      "text/plain": [
       "<Figure size 640x480 with 1 Axes>"
      ]
     },
     "metadata": {},
     "output_type": "display_data"
    }
   ],
   "source": [
    "\n",
    "cost_history=results.optimizer.cost_history\n",
    "plt.plot(cost_history)\n",
    "plt.xlabel(\"Iteration\")\n",
    "plt.ylabel(\"Cost\")\n",
    "plt.title(\"Cost history of optimization\")\n",
    "plt.show()"
   ]
  },
  {
   "cell_type": "markdown",
   "id": "177a4c35",
   "metadata": {},
   "source": [
    "## Final Optimized Design "
   ]
  },
  {
   "cell_type": "markdown",
   "id": "23eb67dc",
   "metadata": {},
   "source": [
    "Finally, we will run two simulations again with the optimized parameters. We will add a [FieldMonitor](https://docs.flexcompute.com/projects/tidy3d/en/latest/api/_autosummary/tidy3d.FieldMonitor.html) to help visualize the mode splitting. "
   ]
  },
  {
   "cell_type": "code",
   "execution_count": 19,
   "id": "1a6147fc",
   "metadata": {},
   "outputs": [
    {
     "data": {
      "application/vnd.jupyter.widget-view+json": {
       "model_id": "dd17607e96124204b671610e489e7fa8",
       "version_major": 2,
       "version_minor": 0
      },
      "text/plain": [
       "Output()"
      ]
     },
     "metadata": {},
     "output_type": "display_data"
    },
    {
     "data": {
      "text/html": [
       "<pre style=\"white-space:pre;overflow-x:auto;line-height:normal;font-family:Menlo,'DejaVu Sans Mono',consolas,'Courier New',monospace\"></pre>\n"
      ],
      "text/plain": []
     },
     "metadata": {},
     "output_type": "display_data"
    },
    {
     "data": {
      "text/html": [
       "<pre style=\"white-space:pre;overflow-x:auto;line-height:normal;font-family:Menlo,'DejaVu Sans Mono',consolas,'Courier New',monospace\">\n",
       "</pre>\n"
      ],
      "text/plain": [
       "\n"
      ]
     },
     "metadata": {},
     "output_type": "display_data"
    },
    {
     "data": {
      "text/html": [
       "<pre style=\"white-space:pre;overflow-x:auto;line-height:normal;font-family:Menlo,'DejaVu Sans Mono',consolas,'Courier New',monospace\"><span style=\"color: #7fbfbf; text-decoration-color: #7fbfbf\">12:59:47 BST </span>Started working on Batch containing <span style=\"color: #008080; text-decoration-color: #008080; font-weight: bold\">2</span> tasks.                       \n",
       "</pre>\n"
      ],
      "text/plain": [
       "\u001b[2;36m12:59:47 BST\u001b[0m\u001b[2;36m \u001b[0mStarted working on Batch containing \u001b[1;36m2\u001b[0m tasks.                       \n"
      ]
     },
     "metadata": {},
     "output_type": "display_data"
    },
    {
     "data": {
      "text/html": [
       "<pre style=\"white-space:pre;overflow-x:auto;line-height:normal;font-family:Menlo,'DejaVu Sans Mono',consolas,'Courier New',monospace\"><span style=\"color: #7fbfbf; text-decoration-color: #7fbfbf\">12:59:56 BST </span>Maximum FlexCredit cost: <span style=\"color: #008080; text-decoration-color: #008080; font-weight: bold\">0.050</span> for the whole batch.                \n",
       "</pre>\n"
      ],
      "text/plain": [
       "\u001b[2;36m12:59:56 BST\u001b[0m\u001b[2;36m \u001b[0mMaximum FlexCredit cost: \u001b[1;36m0.050\u001b[0m for the whole batch.                \n"
      ]
     },
     "metadata": {},
     "output_type": "display_data"
    },
    {
     "data": {
      "text/html": [
       "<pre style=\"white-space:pre;overflow-x:auto;line-height:normal;font-family:Menlo,'DejaVu Sans Mono',consolas,'Courier New',monospace\"><span style=\"color: #7fbfbf; text-decoration-color: #7fbfbf\">             </span>Use <span style=\"color: #008000; text-decoration-color: #008000\">'Batch.real_cost()'</span> to get the billed FlexCredit cost after the\n",
       "<span style=\"color: #7fbfbf; text-decoration-color: #7fbfbf\">             </span>Batch has completed.                                               \n",
       "</pre>\n"
      ],
      "text/plain": [
       "\u001b[2;36m            \u001b[0m\u001b[2;36m \u001b[0mUse \u001b[32m'Batch.real_cost\u001b[0m\u001b[32m(\u001b[0m\u001b[32m)\u001b[0m\u001b[32m'\u001b[0m to get the billed FlexCredit cost after the\n",
       "\u001b[2;36m             \u001b[0mBatch has completed.                                               \n"
      ]
     },
     "metadata": {},
     "output_type": "display_data"
    },
    {
     "data": {
      "application/vnd.jupyter.widget-view+json": {
       "model_id": "5bbdbdf0a7a146df89486602d5166e53",
       "version_major": 2,
       "version_minor": 0
      },
      "text/plain": [
       "Output()"
      ]
     },
     "metadata": {},
     "output_type": "display_data"
    },
    {
     "data": {
      "text/html": [
       "<pre style=\"white-space:pre;overflow-x:auto;line-height:normal;font-family:Menlo,'DejaVu Sans Mono',consolas,'Courier New',monospace\"><span style=\"color: #7fbfbf; text-decoration-color: #7fbfbf\">13:00:17 BST </span>Batch complete.                                                    \n",
       "</pre>\n"
      ],
      "text/plain": [
       "\u001b[2;36m13:00:17 BST\u001b[0m\u001b[2;36m \u001b[0mBatch complete.                                                    \n"
      ]
     },
     "metadata": {},
     "output_type": "display_data"
    },
    {
     "data": {
      "text/html": [
       "<pre style=\"white-space:pre;overflow-x:auto;line-height:normal;font-family:Menlo,'DejaVu Sans Mono',consolas,'Courier New',monospace\"></pre>\n"
      ],
      "text/plain": []
     },
     "metadata": {},
     "output_type": "display_data"
    },
    {
     "data": {
      "text/html": [
       "<pre style=\"white-space:pre;overflow-x:auto;line-height:normal;font-family:Menlo,'DejaVu Sans Mono',consolas,'Courier New',monospace\">\n",
       "</pre>\n"
      ],
      "text/plain": [
       "\n"
      ]
     },
     "metadata": {},
     "output_type": "display_data"
    },
    {
     "data": {
      "application/vnd.jupyter.widget-view+json": {
       "model_id": "f9fe246ecf1e47df9f3cdbc582dc0898",
       "version_major": 2,
       "version_minor": 0
      },
      "text/plain": [
       "Output()"
      ]
     },
     "metadata": {},
     "output_type": "display_data"
    },
    {
     "data": {
      "text/html": [
       "<pre style=\"white-space:pre;overflow-x:auto;line-height:normal;font-family:Menlo,'DejaVu Sans Mono',consolas,'Courier New',monospace\"></pre>\n"
      ],
      "text/plain": []
     },
     "metadata": {},
     "output_type": "display_data"
    },
    {
     "data": {
      "text/html": [
       "<pre style=\"white-space:pre;overflow-x:auto;line-height:normal;font-family:Menlo,'DejaVu Sans Mono',consolas,'Courier New',monospace\">\n",
       "</pre>\n"
      ],
      "text/plain": [
       "\n"
      ]
     },
     "metadata": {},
     "output_type": "display_data"
    }
   ],
   "source": [
    "# Get the best parameters from the optimizer\n",
    "W_opt = results.optimizer.swarm.best_pos\n",
    "\n",
    "# Define a field monitor to help visualize the field distribution\n",
    "field_monitor = td.FieldMonitor(\n",
    "    center=(0, 0, 0), size=(td.inf, td.inf, 0), freqs=[freq0], name=\"field\"\n",
    ")\n",
    "\n",
    "# Define simulations with the optimal design\n",
    "sims = {\n",
    "    \"TE\": make_sim(W_opt, \"TE\").copy(\n",
    "        update={\"monitors\": [mode_monitor_bar, mode_monitor_cross, field_monitor]}\n",
    "    ),\n",
    "    \"TM\": make_sim(W_opt, \"TM\").copy(\n",
    "        update={\"monitors\": [mode_monitor_bar, mode_monitor_cross, field_monitor]}\n",
    "    ),\n",
    "}\n",
    "\n",
    "# Define and submit the batch\n",
    "batch = web.Batch(simulations=sims, verbose=True)\n",
    "batch_results = batch.run(path_dir=\"data\")"
   ]
  },
  {
   "cell_type": "markdown",
   "id": "c37e8914",
   "metadata": {},
   "source": [
    "Plot the field intensity distribution for the TE and TM simulations. As expected, the TE mode mainly transmits to the bar port while the TM mode mainly transmits to the cross port."
   ]
  },
  {
   "cell_type": "code",
   "execution_count": 20,
   "id": "c282c1fd",
   "metadata": {},
   "outputs": [
    {
     "data": {
      "image/png": "[encoded data removed]",
      "text/plain": [
       "<Figure size 800x200 with 4 Axes>"
      ]
     },
     "metadata": {},
     "output_type": "display_data"
    }
   ],
   "source": [
    "fig, (ax1, ax2) = plt.subplots(1, 2, figsize=(8, 2), tight_layout=True)\n",
    "batch_results[\"TE\"].plot_field(\"field\", \"E\", \"abs^2\", ax=ax1)\n",
    "batch_results[\"TM\"].plot_field(\"field\", \"E\", \"abs^2\", ax=ax2)\n",
    "plt.show()"
   ]
  },
  {
   "cell_type": "markdown",
   "id": "9976d10f",
   "metadata": {},
   "source": [
    "Plot the transmission spectra. "
   ]
  },
  {
   "cell_type": "code",
   "execution_count": 21,
   "id": "306d49bf",
   "metadata": {},
   "outputs": [
    {
     "data": {
      "image/png": "[encoded data removed]",
      "text/plain": [
       "<Figure size 640x480 with 1 Axes>"
      ]
     },
     "metadata": {},
     "output_type": "display_data"
    }
   ],
   "source": [
    "# Extract transmission spectra to the bar and cross ports\n",
    "P_TE_bar = np.abs(batch_results[\"TE\"][\"bar\"].amps.sel(mode_index=0, direction=\"+\")) ** 2\n",
    "P_TM_cross = np.abs(batch_results[\"TM\"][\"cross\"].amps.sel(mode_index=0, direction=\"+\")) ** 2\n",
    "\n",
    "# Plot the spectra\n",
    "plt.plot(ldas * 1e3, 10 * np.log10(P_TE_bar), label=\"TE bar port\")\n",
    "plt.plot(ldas * 1e3, 10 * np.log10(P_TM_cross), label=\"TM cross port\")\n",
    "plt.legend()\n",
    "plt.ylabel(\"Transmission (dB)\")\n",
    "plt.xlabel(\"Wavelength (nm)\")\n",
    "plt.ylim(-10, 0)\n",
    "plt.show()"
   ]
  },
  {
   "cell_type": "markdown",
   "id": "b9214b41",
   "metadata": {},
   "source": [
    "## Closing Remark"
   ]
  },
  {
   "cell_type": "markdown",
   "id": "2ba7fb3d",
   "metadata": {},
   "source": [
    "The final design in this notebook achieves reasonable performance but is by no means the best design. A more intricate optimization scheme can be used to enhance the final result as demonstrated in the [publication](https://doi.org/10.1364/OE.408432).\n",
    "\n",
    "Using the PSO optimizer from the `Design` plugin is a convenient plug-and-play tool for managing parallelized PSO runs within `Tidy3D`. Advanced users may wish to develop their own optimizer that supports advanced options like dynamic hyperparameters.\n",
    "\n",
    "Due to the large number of simulation runs, a PSO task can take a significant amount of time and FlexCredits. Users should have a good familiarity with Tidy3D before attempting to perform PSO to avoid making mistakes in the optimization and wasting credits. Running a smaller PSO task as a test and practice before a large PSO task is also highly recommended. "
   ]
  }
 ],
 "metadata": {
  "applications": [
   "Passive photonic integrated circuit components"
  ],
  "description": "This notebook demonstrates how to perform a particle swarm optimization of a polarization beam splitter in Tidy3D.",
  "feature_image": "./img/particle_swarm_optimization_pbs.png",
  "features": [
   "Global optimization"
  ],
  "kernelspec": {
   "display_name": "Python 3 (ipykernel)",
   "language": "python",
   "name": "python3"
  },
  "keywords": "particle swarm optimization, PSO, polarization beam splitter, PBS, tidy3d, fdtd",
  "language_info": {
   "codemirror_mode": {
    "name": "ipython",
    "version": 3
   },
   "file_extension": ".py",
   "mimetype": "text/x-python",
   "name": "python",
   "nbconvert_exporter": "python",
   "pygments_lexer": "ipython3",
   "version": "3.10.12"
  },
  "title": "Particle Swarm Optimization of a PBS| Flexcompute"
 },
 "nbformat": 4,
 "nbformat_minor": 5
}
