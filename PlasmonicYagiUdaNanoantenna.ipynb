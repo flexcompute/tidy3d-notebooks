{
 "cells": [
  {
   "cell_type": "markdown",
   "id": "e06d909a",
   "metadata": {},
   "source": [
    "# Plasmonic Yagi-Uda nanoantenna"
   ]
  },
  {
   "cell_type": "markdown",
   "id": "7d61adb8",
   "metadata": {},
   "source": [
    "Note: the cost of running the entire notebook is larger than 1 FlexCredit.\n",
    "\n",
    "Antennas are the fundamental building blocks for high-speed communication networks. The concept of an antenna is well-established, particularly in RF and microwave engineering, dating back over one century ago. An antenna transforms propagating electromagnetic waves to localized electromagnetic field and vice versa, depending on whether it is in the transmitting mode or receiving mode. Thus, it enables wireless communication and information transmission over long distances. \n",
    "\n",
    "Recent rapid developments in nanotechnology have sparked vast interest in constructing the optical counterpart of antennas by utilizing the plasmonic nature of metal at optical frequencies. The size of these antennas is usually in the order of 100 nm. Therefore, they are often termed plasmonic nanoantennas. As the demand for higher bandwidth information transmission keeps growing, plasmonic nanoantennas potentially be the technological cornerstone for future communication systems.\n",
    "\n",
    "In this example notebook, we demonstrate the modeling of a plasmonic Yagi-Uda nanoantenna made of aluminum nanorods excited by a point dipole source. The far-field radiation pattern is calculated. We show that the simulated plasmonic Yagi-Uda nanoantenna can achieve a high directivity, which is desirable in many applications. The model is based on [Tim H. Taminiau, Fernando D. Stefani, and Niek F. van Hulst, \"Enhanced directional excitation and emission of single emitters by a nano-optical Yagi-Uda antenna,\" Opt. Express 16, 10858-10866 (2008)](https://opg.optica.org/oe/fulltext.cfm?uri=oe-16-14-10858&id=167282).\n",
    "\n",
    "<img src=\"img/yagi_uda_antenna_schematic_1.png\" width=600 alt=\"Schematic of the plasmonic Yagi-Uda nanoantenna\">\n",
    "\n",
    "If you are new to the finite-difference time-domain (FDTD) method, we highly recommend going through our [FDTD101](https://www.flexcompute.com/fdtd101/) tutorials. For more simulation examples, please visit our [examples page](https://www.flexcompute.com/tidy3d/examples/). FDTD simulations can diverge due to various reasons. If you run into any simulation divergence issues, please follow the steps outlined in our [troubleshooting guide](https://www.flexcompute.com/tidy3d/examples/notebooks/DivergedFDTDSimulation/) to resolve it."
   ]
  },
  {
   "cell_type": "markdown",
   "id": "8c4e33ec",
   "metadata": {},
   "source": [
    "## Simulation Setup "
   ]
  },
  {
   "cell_type": "markdown",
   "id": "39e69ef7",
   "metadata": {},
   "source": [
    "In this model, we are going to fit the refractive index of aluminum using data from the literature. Thus, we import the [DispersionFitter](../api/_autosummary/tidy3d.plugins.dispersion.DispersionFitter.html) from the Tidy3D plugins."
   ]
  },
  {
   "cell_type": "code",
   "execution_count": 1,
   "id": "1cd3ac66",
   "metadata": {
    "execution": {
     "iopub.execute_input": "2024-02-17T08:07:27.688117Z",
     "iopub.status.busy": "2024-02-17T08:07:27.687516Z",
     "iopub.status.idle": "2024-02-17T08:07:28.974725Z",
     "shell.execute_reply": "2024-02-17T08:07:28.974148Z"
    }
   },
   "outputs": [],
   "source": [
    "import numpy as np\n",
    "import matplotlib.pyplot as plt\n",
    "import tidy3d as td\n",
    "import tidy3d.web as web\n",
    "from tidy3d.plugins.dispersion import DispersionFitter\n"
   ]
  },
  {
   "cell_type": "markdown",
   "id": "d1868111",
   "metadata": {},
   "source": [
    "As schematically shown above, a typical Yagi-Uda antenna consists of three components: a feed element that is excited by a source, a reflector element that suppresses the radiation in the backward direction, and an array of director elements that enhances the radiation in the forward direction. Usually, having a large number of director elements is beneficial for achieving a high directivity. In practice, we need to consider the footprint, fabrication constraints, costs, and so on. In this particular example, our Yagi-Uda antenna has three director elements. All elements are made of aluminum nanorods with rounded ends.  \n",
    "\n",
    "The lengths and spacings of the elements are designed to achieve optimal performance at 570 nm wavelength. An initial design can be obtained by following the classical design principle of RF/microwave Yagi-Uda antennas. Since metals behave very differently in lower frequencies compared to optical frequencies, the parameters need to be optimized to account for the finite skin depth and ohmic loss. In this notebook, we skip the optimization process and only present the optimized design from the referenced paper. "
   ]
  },
  {
   "cell_type": "code",
   "execution_count": 2,
   "id": "f76b62d9",
   "metadata": {
    "execution": {
     "iopub.execute_input": "2024-02-17T08:07:28.976966Z",
     "iopub.status.busy": "2024-02-17T08:07:28.976708Z",
     "iopub.status.idle": "2024-02-17T08:07:28.992636Z",
     "shell.execute_reply": "2024-02-17T08:07:28.992098Z"
    }
   },
   "outputs": [],
   "source": [
    "lda0 = 0.57  # operation wavelength\n",
    "freq0 = td.C_0 / lda0  # operation frequency\n"
   ]
  },
  {
   "cell_type": "markdown",
   "id": "7bfd9947",
   "metadata": {},
   "source": [
    "The nanorods are made of aluminum. Before constructing the model, we first need to use the [DispersionFitter](../api/_autosummary/tidy3d.plugins.dispersion.DispersionFitter.html) to fit the refractive index data of aluminum, which can be found in the [refractive index database](https://refractiveindex.info/). In particular, we use the data from [McPeak et al. 2015](https://pubs.acs.org/doi/10.1021/ph5004237). The csv file can be downloaded from our documentation [repo](https://github.com/flexcompute-readthedocs/tidy3d-docs/tree/readthedocs/docs/source/notebooks/misc). Since we are only interested in the antenna response at 570 nm, we only need to fit the refractive index in the vicinity of the operation wavelength.\n",
    "\n",
    "The fitting results in a RMS error about of 0.01, which is reasonably good."
   ]
  },
  {
   "cell_type": "code",
   "execution_count": 3,
   "id": "0c4d1567",
   "metadata": {
    "execution": {
     "iopub.execute_input": "2024-02-17T08:07:28.994642Z",
     "iopub.status.busy": "2024-02-17T08:07:28.994474Z",
     "iopub.status.idle": "2024-02-17T08:07:44.298687Z",
     "shell.execute_reply": "2024-02-17T08:07:44.298210Z"
    }
   },
   "outputs": [
    {
     "data": {
      "application/vnd.jupyter.widget-view+json": {
       "model_id": "73b22c019e2e49e0b703928254bc6321",
       "version_major": 2,
       "version_minor": 0
      },
      "text/plain": [
       "Output()"
      ]
     },
     "metadata": {},
     "output_type": "display_data"
    },
    {
     "data": {
      "text/html": [
       "<pre style=\"white-space:pre;overflow-x:auto;line-height:normal;font-family:Menlo,'DejaVu Sans Mono',consolas,'Courier New',monospace\"></pre>\n"
      ],
      "text/plain": []
     },
     "metadata": {},
     "output_type": "display_data"
    },
    {
     "data": {
      "text/html": [
       "<pre style=\"white-space:pre;overflow-x:auto;line-height:normal;font-family:Menlo,'DejaVu Sans Mono',consolas,'Courier New',monospace\">\n",
       "</pre>\n"
      ],
      "text/plain": [
       "\n"
      ]
     },
     "metadata": {},
     "output_type": "display_data"
    }
   ],
   "source": [
    "fname = \"misc/McPeak.csv\"  # read the refractive index data from a csv file\n",
    "fitter = DispersionFitter.from_file(fname, delimiter=\",\")  # construct a fitter\n",
    "al, rms_error = fitter.fit(num_poles=6, tolerance_rms=2e-2, num_tries=50)\n"
   ]
  },
  {
   "cell_type": "markdown",
   "id": "c1f03abd",
   "metadata": {},
   "source": [
    "Next, we construct the Yagi-Uda antenna by individually constructing the feed, reflector, and three directors. Each element consists of a cylinder and two spheres that represent the rounded caps on each end. For convenience, we define a function to build the antenna structures since it will be used repeatedly in the next section of this notebook."
   ]
  },
  {
   "cell_type": "code",
   "execution_count": 4,
   "id": "db39d6c3",
   "metadata": {
    "execution": {
     "iopub.execute_input": "2024-02-17T08:07:44.550325Z",
     "iopub.status.busy": "2024-02-17T08:07:44.550179Z",
     "iopub.status.idle": "2024-02-17T08:07:44.573116Z",
     "shell.execute_reply": "2024-02-17T08:07:44.572575Z"
    }
   },
   "outputs": [],
   "source": [
    "# L_f is the length of the feed element\n",
    "# r is the radius of the nanorods.\n",
    "# medium is the material of the nanorods\n",
    "def construct_antenna(L_f, r, lda0, medium):\n",
    "    L_r = L_f * 1.25  # length of the reflector\n",
    "    L_d = L_f * 0.9  # length of the directors\n",
    "    a_r = lda0 / 4.4  # spacing between the feed and the reflector\n",
    "    a_d = (\n",
    "        lda0 / 4\n",
    "    )  # spacing between the feed and the first director (also the spacing between directors)\n",
    "\n",
    "    feed = [\n",
    "        td.Structure(\n",
    "            geometry=td.Cylinder(\n",
    "                center=(0, 0, 0), radius=r, length=L_f - 2 * r, axis=1\n",
    "            ),\n",
    "            medium=medium,\n",
    "        ),\n",
    "        td.Structure(\n",
    "            geometry=td.Sphere(center=(0, (L_f - 2 * r) / 2, 0), radius=r),\n",
    "            medium=medium,\n",
    "        ),\n",
    "        td.Structure(\n",
    "            geometry=td.Sphere(center=(0, -(L_f - 2 * r) / 2, 0), radius=r),\n",
    "            medium=medium,\n",
    "        ),\n",
    "    ]\n",
    "\n",
    "    reflector = [\n",
    "        td.Structure(\n",
    "            geometry=td.Cylinder(\n",
    "                center=(-a_r, 0, 0), radius=r, length=L_r - 2 * r, axis=1\n",
    "            ),\n",
    "            medium=medium,\n",
    "        ),\n",
    "        td.Structure(\n",
    "            geometry=td.Sphere(center=(-a_r, (L_r - 2 * r) / 2, 0), radius=r),\n",
    "            medium=medium,\n",
    "        ),\n",
    "        td.Structure(\n",
    "            geometry=td.Sphere(center=(-a_r, -(L_r - 2 * r) / 2, 0), radius=r),\n",
    "            medium=medium,\n",
    "        ),\n",
    "    ]\n",
    "\n",
    "    director_1 = [\n",
    "        td.Structure(\n",
    "            geometry=td.Cylinder(\n",
    "                center=(a_d, 0, 0), radius=r, length=L_d - 2 * r, axis=1\n",
    "            ),\n",
    "            medium=medium,\n",
    "        ),\n",
    "        td.Structure(\n",
    "            geometry=td.Sphere(center=(a_d, (L_d - 2 * r) / 2, 0), radius=r),\n",
    "            medium=medium,\n",
    "        ),\n",
    "        td.Structure(\n",
    "            geometry=td.Sphere(center=(a_d, -(L_d - 2 * r) / 2, 0), radius=r),\n",
    "            medium=medium,\n",
    "        ),\n",
    "    ]\n",
    "\n",
    "    director_2 = [\n",
    "        td.Structure(\n",
    "            geometry=td.Cylinder(\n",
    "                center=(2 * a_d, 0, 0), radius=r, length=L_d - 2 * r, axis=1\n",
    "            ),\n",
    "            medium=medium,\n",
    "        ),\n",
    "        td.Structure(\n",
    "            geometry=td.Sphere(center=(2 * a_d, (L_d - 2 * r) / 2, 0), radius=r),\n",
    "            medium=medium,\n",
    "        ),\n",
    "        td.Structure(\n",
    "            geometry=td.Sphere(center=(2 * a_d, -(L_d - 2 * r) / 2, 0), radius=r),\n",
    "            medium=medium,\n",
    "        ),\n",
    "    ]\n",
    "\n",
    "    director_3 = [\n",
    "        td.Structure(\n",
    "            geometry=td.Cylinder(\n",
    "                center=(3 * a_d, 0, 0), radius=r, length=L_d - 2 * r, axis=1\n",
    "            ),\n",
    "            medium=medium,\n",
    "        ),\n",
    "        td.Structure(\n",
    "            geometry=td.Sphere(center=(3 * a_d, (L_d - 2 * r) / 2, 0), radius=r),\n",
    "            medium=medium,\n",
    "        ),\n",
    "        td.Structure(\n",
    "            geometry=td.Sphere(center=(3 * a_d, -(L_d - 2 * r) / 2, 0), radius=r),\n",
    "            medium=medium,\n",
    "        ),\n",
    "    ]\n",
    "\n",
    "    antenna = feed + reflector + director_1 + director_2 + director_3\n",
    "    return antenna\n",
    "\n",
    "\n",
    "L_f = 0.16  # length of the feed\n",
    "r = 0.02  # radius of the nanorods\n",
    "medium = al  # material of the antenna\n",
    "\n",
    "antenna = construct_antenna(L_f, r, lda0, medium)\n"
   ]
  },
  {
   "cell_type": "markdown",
   "id": "94620334",
   "metadata": {},
   "source": [
    "The Yagi-Uda antenna is usually fed by a small quantum emitter such as a laser-excited quantum dot. In the simulation, the source can be well approximated as a [PointDipole](../api/_autosummary/tidy3d.PointDipole.html), which is what we are going to use.\n",
    "\n",
    "To calculate the far-field radiation pattern and directivity, we will use the [FieldProjectionAngleMonitor](../api/_autosummary/tidy3d.FieldProjectionAngleMonitor.html) as well as a [FluxMonitor](../api/_autosummary/tidy3d.FluxMonitor.html). The [FieldProjectionAngleMonitor](../api/_autosummary/tidy3d.FieldProjectionAngleMonitor.html) yields the angular radiation power and the [FluxMonitor](../api/_autosummary/tidy3d.FluxMonitor.html) helps to calculate the total radiated power. Both are required in the calculation of directivity."
   ]
  },
  {
   "cell_type": "code",
   "execution_count": 5,
   "id": "79a4c9d5",
   "metadata": {
    "execution": {
     "iopub.execute_input": "2024-02-17T08:07:44.575036Z",
     "iopub.status.busy": "2024-02-17T08:07:44.574892Z",
     "iopub.status.idle": "2024-02-17T08:07:44.806535Z",
     "shell.execute_reply": "2024-02-17T08:07:44.806046Z"
    }
   },
   "outputs": [
    {
     "data": {
      "image/png": "[encoded data removed]",
      "text/plain": [
       "<Figure size 640x480 with 1 Axes>"
      ]
     },
     "metadata": {},
     "output_type": "display_data"
    }
   ],
   "source": [
    "# define simulation domain size\n",
    "Lx = 3 * lda0\n",
    "Ly = 2 * lda0\n",
    "Lz = 2 * lda0\n",
    "sim_size = (Lx, Ly, Lz)\n",
    "\n",
    "# create an electrical point dipole source polarized in the y direction to excite the feed element\n",
    "d_dp = 0.004  # distance between the dipole and the feed element\n",
    "pulse = td.GaussianPulse(freq0=freq0, fwidth=freq0 / 20)\n",
    "pt_dipole = td.PointDipole(\n",
    "    center=(0, L_f / 2 + d_dp, 0), source_time=pulse, polarization=\"Ey\"\n",
    ")\n",
    "\n",
    "# create a FieldProjectionAngleMonitor to perform the near field to far field transformation in spherical coordinates\n",
    "theta_array = np.linspace(0, 2 * np.pi, 200)\n",
    "phi_array = np.linspace(0, np.pi, 100)\n",
    "n2f_monitor = td.FieldProjectionAngleMonitor(\n",
    "    center=(0, 0, 0),\n",
    "    size=(2 * lda0, 1 * lda0, 1 * lda0),\n",
    "    freqs=[freq0],\n",
    "    name=\"n2f_monitor\",\n",
    "    custom_origin=(0, 0, 0),\n",
    "    phi=phi_array,\n",
    "    theta=theta_array,\n",
    ")\n",
    "\n",
    "# create a flux monitor to calculate the total radiated power\n",
    "flux_monitor = td.FluxMonitor(\n",
    "    center=(0, 0, 0),\n",
    "    size=(Lx * 0.9, Ly * 0.9, Lz * 0.9),\n",
    "    freqs=[freq0],\n",
    "    name=\"power\",\n",
    ")\n",
    "\n",
    "# create the simulation with the above defined elements\n",
    "sim = td.Simulation(\n",
    "    center=(0, 0, 0),\n",
    "    size=sim_size,\n",
    "    grid_spec=td.GridSpec.auto(min_steps_per_wvl=40, wavelength=lda0),\n",
    "    structures=antenna,\n",
    "    sources=[pt_dipole],\n",
    "    monitors=[n2f_monitor, flux_monitor],\n",
    "    run_time=1e-13,\n",
    "    boundary_spec=td.BoundarySpec.all_sides(boundary=td.PML()),\n",
    ")\n",
    "\n",
    "# visualize the simulation setup\n",
    "sim.plot(z=0)\n",
    "plt.show()\n"
   ]
  },
  {
   "cell_type": "markdown",
   "id": "820025da",
   "metadata": {},
   "source": [
    "For comparison, define an empty simulation with only the [PointDipole](../api/_autosummary/tidy3d.PointDipole.html). We will use this to show that the Yagi-Uda antenna exhibits a much higher directivity compared to a dipole radiation source."
   ]
  },
  {
   "cell_type": "code",
   "execution_count": 6,
   "id": "4d0836a6",
   "metadata": {
    "execution": {
     "iopub.execute_input": "2024-02-17T08:07:44.808497Z",
     "iopub.status.busy": "2024-02-17T08:07:44.808351Z",
     "iopub.status.idle": "2024-02-17T08:07:44.830644Z",
     "shell.execute_reply": "2024-02-17T08:07:44.830091Z"
    }
   },
   "outputs": [],
   "source": [
    "sim_empty = td.Simulation(\n",
    "    center=(0, 0, 0),\n",
    "    size=sim_size,\n",
    "    grid_spec=td.GridSpec.auto(min_steps_per_wvl=40, wavelength=lda0),\n",
    "    structures=[],  # this simulation is identical to the previous one besides the structures is set to an empty list\n",
    "    sources=[pt_dipole],\n",
    "    monitors=[n2f_monitor, flux_monitor],\n",
    "    run_time=1e-13,\n",
    "    boundary_spec=td.BoundarySpec.all_sides(boundary=td.PML()),\n",
    ")\n"
   ]
  },
  {
   "cell_type": "markdown",
   "id": "38a3a87d",
   "metadata": {},
   "source": [
    "Submit both the antenna simulation and empty simulation to the server."
   ]
  },
  {
   "cell_type": "code",
   "execution_count": 7,
   "id": "f25b9b66",
   "metadata": {
    "execution": {
     "iopub.execute_input": "2024-02-17T08:07:44.832604Z",
     "iopub.status.busy": "2024-02-17T08:07:44.832393Z",
     "iopub.status.idle": "2024-02-17T08:08:41.375517Z",
     "shell.execute_reply": "2024-02-17T08:08:41.374877Z"
    }
   },
   "outputs": [
    {
     "data": {
      "text/html": [
       "<pre style=\"white-space:pre;overflow-x:auto;line-height:normal;font-family:Menlo,'DejaVu Sans Mono',consolas,'Courier New',monospace\"><span style=\"color: #7fbfbf; text-decoration-color: #7fbfbf\">00:07:45 PST </span>Created task <span style=\"color: #008000; text-decoration-color: #008000\">'plasmonic_yagi_uda'</span> with task_id                     \n",
       "<span style=\"color: #7fbfbf; text-decoration-color: #7fbfbf\">             </span><span style=\"color: #008000; text-decoration-color: #008000\">'fdve-c1898805-d69b-43a6-8ccb-30a3c6602819'</span> and task_type <span style=\"color: #008000; text-decoration-color: #008000\">'FDTD'</span>.  \n",
       "</pre>\n"
      ],
      "text/plain": [
       "\u001b[2;36m00:07:45 PST\u001b[0m\u001b[2;36m \u001b[0mCreated task \u001b[32m'plasmonic_yagi_uda'\u001b[0m with task_id                     \n",
       "\u001b[2;36m             \u001b[0m\u001b[32m'fdve-c1898805-d69b-43a6-8ccb-30a3c6602819'\u001b[0m and task_type \u001b[32m'FDTD'\u001b[0m.  \n"
      ]
     },
     "metadata": {},
     "output_type": "display_data"
    },
    {
     "data": {
      "text/html": [
       "<pre style=\"white-space:pre;overflow-x:auto;line-height:normal;font-family:Menlo,'DejaVu Sans Mono',consolas,'Courier New',monospace\"><span style=\"color: #7fbfbf; text-decoration-color: #7fbfbf\">             </span>View task using web UI at                                          \n",
       "<span style=\"color: #7fbfbf; text-decoration-color: #7fbfbf\">             </span><a href=\"https://tidy3d.simulation.cloud/workbench?taskId=fdve-c1898805-d69b-43a6-8ccb-30a3c6602819\" target=\"_blank\"><span style=\"color: #008000; text-decoration-color: #008000\">'https://tidy3d.simulation.cloud/workbench?taskId=fdve-c1898805-d69</span></a>\n",
       "<span style=\"color: #7fbfbf; text-decoration-color: #7fbfbf\">             </span><a href=\"https://tidy3d.simulation.cloud/workbench?taskId=fdve-c1898805-d69b-43a6-8ccb-30a3c6602819\" target=\"_blank\"><span style=\"color: #008000; text-decoration-color: #008000\">b-43a6-8ccb-30a3c6602819'</span></a>.                                         \n",
       "</pre>\n"
      ],
      "text/plain": [
       "\u001b[2;36m            \u001b[0m\u001b[2;36m \u001b[0mView task using web UI at                                          \n",
       "\u001b[2;36m             \u001b[0m\u001b]8;id=183229;https://tidy3d.simulation.cloud/workbench?taskId=fdve-c1898805-d69b-43a6-8ccb-30a3c6602819\u001b\\\u001b[32m'https://tidy3d.simulation.cloud/workbench?\u001b[0m\u001b]8;;\u001b\\\u001b]8;id=454095;https://tidy3d.simulation.cloud/workbench?taskId=fdve-c1898805-d69b-43a6-8ccb-30a3c6602819\u001b\\\u001b[32mtaskId\u001b[0m\u001b]8;;\u001b\\\u001b]8;id=183229;https://tidy3d.simulation.cloud/workbench?taskId=fdve-c1898805-d69b-43a6-8ccb-30a3c6602819\u001b\\\u001b[32m=\u001b[0m\u001b]8;;\u001b\\\u001b]8;id=994799;https://tidy3d.simulation.cloud/workbench?taskId=fdve-c1898805-d69b-43a6-8ccb-30a3c6602819\u001b\\\u001b[32mfdve\u001b[0m\u001b]8;;\u001b\\\u001b]8;id=183229;https://tidy3d.simulation.cloud/workbench?taskId=fdve-c1898805-d69b-43a6-8ccb-30a3c6602819\u001b\\\u001b[32m-c1898805-d69\u001b[0m\u001b]8;;\u001b\\\n",
       "\u001b[2;36m             \u001b[0m\u001b]8;id=183229;https://tidy3d.simulation.cloud/workbench?taskId=fdve-c1898805-d69b-43a6-8ccb-30a3c6602819\u001b\\\u001b[32mb-43a6-8ccb-30a3c6602819'\u001b[0m\u001b]8;;\u001b\\.                                         \n"
      ]
     },
     "metadata": {},
     "output_type": "display_data"
    },
    {
     "data": {
      "application/vnd.jupyter.widget-view+json": {
       "model_id": "d58f21b199ed4591a90fbafdec840536",
       "version_major": 2,
       "version_minor": 0
      },
      "text/plain": [
       "Output()"
      ]
     },
     "metadata": {},
     "output_type": "display_data"
    },
    {
     "data": {
      "text/html": [
       "<pre style=\"white-space:pre;overflow-x:auto;line-height:normal;font-family:Menlo,'DejaVu Sans Mono',consolas,'Courier New',monospace\"></pre>\n"
      ],
      "text/plain": []
     },
     "metadata": {},
     "output_type": "display_data"
    },
    {
     "data": {
      "text/html": [
       "<pre style=\"white-space:pre;overflow-x:auto;line-height:normal;font-family:Menlo,'DejaVu Sans Mono',consolas,'Courier New',monospace\">\n",
       "</pre>\n"
      ],
      "text/plain": [
       "\n"
      ]
     },
     "metadata": {},
     "output_type": "display_data"
    },
    {
     "data": {
      "text/html": [
       "<pre style=\"white-space:pre;overflow-x:auto;line-height:normal;font-family:Menlo,'DejaVu Sans Mono',consolas,'Courier New',monospace\"><span style=\"color: #7fbfbf; text-decoration-color: #7fbfbf\">00:07:46 PST </span>status = queued                                                    \n",
       "</pre>\n"
      ],
      "text/plain": [
       "\u001b[2;36m00:07:46 PST\u001b[0m\u001b[2;36m \u001b[0mstatus = queued                                                    \n"
      ]
     },
     "metadata": {},
     "output_type": "display_data"
    },
    {
     "data": {
      "application/vnd.jupyter.widget-view+json": {
       "model_id": "55c8ab238fad4b4d890ec004e1c1edeb",
       "version_major": 2,
       "version_minor": 0
      },
      "text/plain": [
       "Output()"
      ]
     },
     "metadata": {},
     "output_type": "display_data"
    },
    {
     "data": {
      "text/html": [
       "<pre style=\"white-space:pre;overflow-x:auto;line-height:normal;font-family:Menlo,'DejaVu Sans Mono',consolas,'Courier New',monospace\"><span style=\"color: #7fbfbf; text-decoration-color: #7fbfbf\">00:07:52 PST </span>status = preprocess                                                \n",
       "</pre>\n"
      ],
      "text/plain": [
       "\u001b[2;36m00:07:52 PST\u001b[0m\u001b[2;36m \u001b[0mstatus = preprocess                                                \n"
      ]
     },
     "metadata": {},
     "output_type": "display_data"
    },
    {
     "data": {
      "text/html": [
       "<pre style=\"white-space:pre;overflow-x:auto;line-height:normal;font-family:Menlo,'DejaVu Sans Mono',consolas,'Courier New',monospace\"></pre>\n"
      ],
      "text/plain": []
     },
     "metadata": {},
     "output_type": "display_data"
    },
    {
     "data": {
      "text/html": [
       "<pre style=\"white-space:pre;overflow-x:auto;line-height:normal;font-family:Menlo,'DejaVu Sans Mono',consolas,'Courier New',monospace\"><span style=\"color: #7fbfbf; text-decoration-color: #7fbfbf\">00:07:54 PST </span>Maximum FlexCredit cost: <span style=\"color: #008080; text-decoration-color: #008080; font-weight: bold\">0.057</span>. Use <span style=\"color: #008000; text-decoration-color: #008000\">'web.real_cost(task_id)'</span> to get\n",
       "<span style=\"color: #7fbfbf; text-decoration-color: #7fbfbf\">             </span>the billed FlexCredit cost after a simulation run.                 \n",
       "</pre>\n"
      ],
      "text/plain": [
       "\u001b[2;36m00:07:54 PST\u001b[0m\u001b[2;36m \u001b[0mMaximum FlexCredit cost: \u001b[1;36m0.057\u001b[0m. Use \u001b[32m'web.real_cost\u001b[0m\u001b[32m(\u001b[0m\u001b[32mtask_id\u001b[0m\u001b[32m)\u001b[0m\u001b[32m'\u001b[0m to get\n",
       "\u001b[2;36m             \u001b[0mthe billed FlexCredit cost after a simulation run.                 \n"
      ]
     },
     "metadata": {},
     "output_type": "display_data"
    },
    {
     "data": {
      "text/html": [
       "<pre style=\"white-space:pre;overflow-x:auto;line-height:normal;font-family:Menlo,'DejaVu Sans Mono',consolas,'Courier New',monospace\"><span style=\"color: #7fbfbf; text-decoration-color: #7fbfbf\">             </span>starting up solver                                                 \n",
       "</pre>\n"
      ],
      "text/plain": [
       "\u001b[2;36m            \u001b[0m\u001b[2;36m \u001b[0mstarting up solver                                                 \n"
      ]
     },
     "metadata": {},
     "output_type": "display_data"
    },
    {
     "data": {
      "text/html": [
       "<pre style=\"white-space:pre;overflow-x:auto;line-height:normal;font-family:Menlo,'DejaVu Sans Mono',consolas,'Courier New',monospace\"><span style=\"color: #7fbfbf; text-decoration-color: #7fbfbf\">             </span>running solver                                                     \n",
       "</pre>\n"
      ],
      "text/plain": [
       "\u001b[2;36m            \u001b[0m\u001b[2;36m \u001b[0mrunning solver                                                     \n"
      ]
     },
     "metadata": {},
     "output_type": "display_data"
    },
    {
     "data": {
      "text/html": [
       "<pre style=\"white-space:pre;overflow-x:auto;line-height:normal;font-family:Menlo,'DejaVu Sans Mono',consolas,'Courier New',monospace\"><span style=\"color: #7fbfbf; text-decoration-color: #7fbfbf\">             </span>To cancel the simulation, use <span style=\"color: #008000; text-decoration-color: #008000\">'web.abort(task_id)'</span> or              \n",
       "<span style=\"color: #7fbfbf; text-decoration-color: #7fbfbf\">             </span><span style=\"color: #008000; text-decoration-color: #008000\">'web.delete(task_id)'</span> or abort/delete the task in the web UI.      \n",
       "<span style=\"color: #7fbfbf; text-decoration-color: #7fbfbf\">             </span>Terminating the Python script will not stop the job running on the \n",
       "<span style=\"color: #7fbfbf; text-decoration-color: #7fbfbf\">             </span>cloud.                                                             \n",
       "</pre>\n"
      ],
      "text/plain": [
       "\u001b[2;36m            \u001b[0m\u001b[2;36m \u001b[0mTo cancel the simulation, use \u001b[32m'web.abort\u001b[0m\u001b[32m(\u001b[0m\u001b[32mtask_id\u001b[0m\u001b[32m)\u001b[0m\u001b[32m'\u001b[0m or              \n",
       "\u001b[2;36m             \u001b[0m\u001b[32m'web.delete\u001b[0m\u001b[32m(\u001b[0m\u001b[32mtask_id\u001b[0m\u001b[32m)\u001b[0m\u001b[32m'\u001b[0m or abort/delete the task in the web UI.      \n",
       "\u001b[2;36m             \u001b[0mTerminating the Python script will not stop the job running on the \n",
       "\u001b[2;36m             \u001b[0mcloud.                                                             \n"
      ]
     },
     "metadata": {},
     "output_type": "display_data"
    },
    {
     "data": {
      "application/vnd.jupyter.widget-view+json": {
       "model_id": "c89c5de4563e421f96f54fe7a2f869ad",
       "version_major": 2,
       "version_minor": 0
      },
      "text/plain": [
       "Output()"
      ]
     },
     "metadata": {},
     "output_type": "display_data"
    },
    {
     "data": {
      "text/html": [
       "<pre style=\"white-space:pre;overflow-x:auto;line-height:normal;font-family:Menlo,'DejaVu Sans Mono',consolas,'Courier New',monospace\"><span style=\"color: #7fbfbf; text-decoration-color: #7fbfbf\">00:08:19 PST </span>early shutoff detected at <span style=\"color: #008080; text-decoration-color: #008080; font-weight: bold\">56</span>%, exiting.                            \n",
       "</pre>\n"
      ],
      "text/plain": [
       "\u001b[2;36m00:08:19 PST\u001b[0m\u001b[2;36m \u001b[0mearly shutoff detected at \u001b[1;36m56\u001b[0m%, exiting.                            \n"
      ]
     },
     "metadata": {},
     "output_type": "display_data"
    },
    {
     "data": {
      "text/html": [
       "<pre style=\"white-space:pre;overflow-x:auto;line-height:normal;font-family:Menlo,'DejaVu Sans Mono',consolas,'Courier New',monospace\"></pre>\n"
      ],
      "text/plain": []
     },
     "metadata": {},
     "output_type": "display_data"
    },
    {
     "data": {
      "text/html": [
       "<pre style=\"white-space:pre;overflow-x:auto;line-height:normal;font-family:Menlo,'DejaVu Sans Mono',consolas,'Courier New',monospace\">\n",
       "</pre>\n"
      ],
      "text/plain": [
       "\n"
      ]
     },
     "metadata": {},
     "output_type": "display_data"
    },
    {
     "data": {
      "text/html": [
       "<pre style=\"white-space:pre;overflow-x:auto;line-height:normal;font-family:Menlo,'DejaVu Sans Mono',consolas,'Courier New',monospace\"><span style=\"color: #7fbfbf; text-decoration-color: #7fbfbf\">             </span>status = postprocess                                               \n",
       "</pre>\n"
      ],
      "text/plain": [
       "\u001b[2;36m            \u001b[0m\u001b[2;36m \u001b[0mstatus = postprocess                                               \n"
      ]
     },
     "metadata": {},
     "output_type": "display_data"
    },
    {
     "data": {
      "application/vnd.jupyter.widget-view+json": {
       "model_id": "9c11fb1a57a1450c803d9032ec2d6a86",
       "version_major": 2,
       "version_minor": 0
      },
      "text/plain": [
       "Output()"
      ]
     },
     "metadata": {},
     "output_type": "display_data"
    },
    {
     "data": {
      "text/html": [
       "<pre style=\"white-space:pre;overflow-x:auto;line-height:normal;font-family:Menlo,'DejaVu Sans Mono',consolas,'Courier New',monospace\"><span style=\"color: #7fbfbf; text-decoration-color: #7fbfbf\">00:08:21 PST </span>status = success                                                   \n",
       "</pre>\n"
      ],
      "text/plain": [
       "\u001b[2;36m00:08:21 PST\u001b[0m\u001b[2;36m \u001b[0mstatus = success                                                   \n"
      ]
     },
     "metadata": {},
     "output_type": "display_data"
    },
    {
     "data": {
      "text/html": [
       "<pre style=\"white-space:pre;overflow-x:auto;line-height:normal;font-family:Menlo,'DejaVu Sans Mono',consolas,'Courier New',monospace\"></pre>\n"
      ],
      "text/plain": []
     },
     "metadata": {},
     "output_type": "display_data"
    },
    {
     "data": {
      "text/html": [
       "<pre style=\"white-space:pre;overflow-x:auto;line-height:normal;font-family:Menlo,'DejaVu Sans Mono',consolas,'Courier New',monospace\"><span style=\"color: #7fbfbf; text-decoration-color: #7fbfbf\">             </span>View simulation result at                                          \n",
       "<span style=\"color: #7fbfbf; text-decoration-color: #7fbfbf\">             </span><a href=\"https://tidy3d.simulation.cloud/workbench?taskId=fdve-c1898805-d69b-43a6-8ccb-30a3c6602819\" target=\"_blank\"><span style=\"color: #000080; text-decoration-color: #000080; text-decoration: underline\">'https://tidy3d.simulation.cloud/workbench?taskId=fdve-c1898805-d69</span></a>\n",
       "<span style=\"color: #7fbfbf; text-decoration-color: #7fbfbf\">             </span><a href=\"https://tidy3d.simulation.cloud/workbench?taskId=fdve-c1898805-d69b-43a6-8ccb-30a3c6602819\" target=\"_blank\"><span style=\"color: #000080; text-decoration-color: #000080; text-decoration: underline\">b-43a6-8ccb-30a3c6602819'</span></a><span style=\"color: #000080; text-decoration-color: #000080; text-decoration: underline\">.</span>                                         \n",
       "</pre>\n"
      ],
      "text/plain": [
       "\u001b[2;36m            \u001b[0m\u001b[2;36m \u001b[0mView simulation result at                                          \n",
       "\u001b[2;36m             \u001b[0m\u001b]8;id=806351;https://tidy3d.simulation.cloud/workbench?taskId=fdve-c1898805-d69b-43a6-8ccb-30a3c6602819\u001b\\\u001b[4;34m'https://tidy3d.simulation.cloud/workbench?\u001b[0m\u001b]8;;\u001b\\\u001b]8;id=526089;https://tidy3d.simulation.cloud/workbench?taskId=fdve-c1898805-d69b-43a6-8ccb-30a3c6602819\u001b\\\u001b[4;34mtaskId\u001b[0m\u001b]8;;\u001b\\\u001b]8;id=806351;https://tidy3d.simulation.cloud/workbench?taskId=fdve-c1898805-d69b-43a6-8ccb-30a3c6602819\u001b\\\u001b[4;34m=\u001b[0m\u001b]8;;\u001b\\\u001b]8;id=526103;https://tidy3d.simulation.cloud/workbench?taskId=fdve-c1898805-d69b-43a6-8ccb-30a3c6602819\u001b\\\u001b[4;34mfdve\u001b[0m\u001b]8;;\u001b\\\u001b]8;id=806351;https://tidy3d.simulation.cloud/workbench?taskId=fdve-c1898805-d69b-43a6-8ccb-30a3c6602819\u001b\\\u001b[4;34m-c1898805-d69\u001b[0m\u001b]8;;\u001b\\\n",
       "\u001b[2;36m             \u001b[0m\u001b]8;id=806351;https://tidy3d.simulation.cloud/workbench?taskId=fdve-c1898805-d69b-43a6-8ccb-30a3c6602819\u001b\\\u001b[4;34mb-43a6-8ccb-30a3c6602819'\u001b[0m\u001b]8;;\u001b\\\u001b[4;34m.\u001b[0m                                         \n"
      ]
     },
     "metadata": {},
     "output_type": "display_data"
    },
    {
     "data": {
      "application/vnd.jupyter.widget-view+json": {
       "model_id": "17ceb6b33aab4bfd9bffa0d415555722",
       "version_major": 2,
       "version_minor": 0
      },
      "text/plain": [
       "Output()"
      ]
     },
     "metadata": {},
     "output_type": "display_data"
    },
    {
     "data": {
      "text/html": [
       "<pre style=\"white-space:pre;overflow-x:auto;line-height:normal;font-family:Menlo,'DejaVu Sans Mono',consolas,'Courier New',monospace\"></pre>\n"
      ],
      "text/plain": []
     },
     "metadata": {},
     "output_type": "display_data"
    },
    {
     "data": {
      "text/html": [
       "<pre style=\"white-space:pre;overflow-x:auto;line-height:normal;font-family:Menlo,'DejaVu Sans Mono',consolas,'Courier New',monospace\">\n",
       "</pre>\n"
      ],
      "text/plain": [
       "\n"
      ]
     },
     "metadata": {},
     "output_type": "display_data"
    },
    {
     "data": {
      "text/html": [
       "<pre style=\"white-space:pre;overflow-x:auto;line-height:normal;font-family:Menlo,'DejaVu Sans Mono',consolas,'Courier New',monospace\"><span style=\"color: #7fbfbf; text-decoration-color: #7fbfbf\">00:08:22 PST </span>loading simulation from data/optical_yagi_uda.hdf5                 \n",
       "</pre>\n"
      ],
      "text/plain": [
       "\u001b[2;36m00:08:22 PST\u001b[0m\u001b[2;36m \u001b[0mloading simulation from data/optical_yagi_uda.hdf5                 \n"
      ]
     },
     "metadata": {},
     "output_type": "display_data"
    },
    {
     "data": {
      "text/html": [
       "<pre style=\"white-space:pre;overflow-x:auto;line-height:normal;font-family:Menlo,'DejaVu Sans Mono',consolas,'Courier New',monospace\"><span style=\"color: #7fbfbf; text-decoration-color: #7fbfbf\">             </span>Created task <span style=\"color: #008000; text-decoration-color: #008000\">'empty'</span> with task_id                                  \n",
       "<span style=\"color: #7fbfbf; text-decoration-color: #7fbfbf\">             </span><span style=\"color: #008000; text-decoration-color: #008000\">'fdve-c7061594-8b66-4b26-9d4b-2d412aea241d'</span> and task_type <span style=\"color: #008000; text-decoration-color: #008000\">'FDTD'</span>.  \n",
       "</pre>\n"
      ],
      "text/plain": [
       "\u001b[2;36m            \u001b[0m\u001b[2;36m \u001b[0mCreated task \u001b[32m'empty'\u001b[0m with task_id                                  \n",
       "\u001b[2;36m             \u001b[0m\u001b[32m'fdve-c7061594-8b66-4b26-9d4b-2d412aea241d'\u001b[0m and task_type \u001b[32m'FDTD'\u001b[0m.  \n"
      ]
     },
     "metadata": {},
     "output_type": "display_data"
    },
    {
     "data": {
      "text/html": [
       "<pre style=\"white-space:pre;overflow-x:auto;line-height:normal;font-family:Menlo,'DejaVu Sans Mono',consolas,'Courier New',monospace\"><span style=\"color: #7fbfbf; text-decoration-color: #7fbfbf\">             </span>View task using web UI at                                          \n",
       "<span style=\"color: #7fbfbf; text-decoration-color: #7fbfbf\">             </span><a href=\"https://tidy3d.simulation.cloud/workbench?taskId=fdve-c7061594-8b66-4b26-9d4b-2d412aea241d\" target=\"_blank\"><span style=\"color: #008000; text-decoration-color: #008000\">'https://tidy3d.simulation.cloud/workbench?taskId=fdve-c7061594-8b6</span></a>\n",
       "<span style=\"color: #7fbfbf; text-decoration-color: #7fbfbf\">             </span><a href=\"https://tidy3d.simulation.cloud/workbench?taskId=fdve-c7061594-8b66-4b26-9d4b-2d412aea241d\" target=\"_blank\"><span style=\"color: #008000; text-decoration-color: #008000\">6-4b26-9d4b-2d412aea241d'</span></a>.                                         \n",
       "</pre>\n"
      ],
      "text/plain": [
       "\u001b[2;36m            \u001b[0m\u001b[2;36m \u001b[0mView task using web UI at                                          \n",
       "\u001b[2;36m             \u001b[0m\u001b]8;id=819375;https://tidy3d.simulation.cloud/workbench?taskId=fdve-c7061594-8b66-4b26-9d4b-2d412aea241d\u001b\\\u001b[32m'https://tidy3d.simulation.cloud/workbench?\u001b[0m\u001b]8;;\u001b\\\u001b]8;id=65973;https://tidy3d.simulation.cloud/workbench?taskId=fdve-c7061594-8b66-4b26-9d4b-2d412aea241d\u001b\\\u001b[32mtaskId\u001b[0m\u001b]8;;\u001b\\\u001b]8;id=819375;https://tidy3d.simulation.cloud/workbench?taskId=fdve-c7061594-8b66-4b26-9d4b-2d412aea241d\u001b\\\u001b[32m=\u001b[0m\u001b]8;;\u001b\\\u001b]8;id=825382;https://tidy3d.simulation.cloud/workbench?taskId=fdve-c7061594-8b66-4b26-9d4b-2d412aea241d\u001b\\\u001b[32mfdve\u001b[0m\u001b]8;;\u001b\\\u001b]8;id=819375;https://tidy3d.simulation.cloud/workbench?taskId=fdve-c7061594-8b66-4b26-9d4b-2d412aea241d\u001b\\\u001b[32m-c7061594-8b6\u001b[0m\u001b]8;;\u001b\\\n",
       "\u001b[2;36m             \u001b[0m\u001b]8;id=819375;https://tidy3d.simulation.cloud/workbench?taskId=fdve-c7061594-8b66-4b26-9d4b-2d412aea241d\u001b\\\u001b[32m6-4b26-9d4b-2d412aea241d'\u001b[0m\u001b]8;;\u001b\\.                                         \n"
      ]
     },
     "metadata": {},
     "output_type": "display_data"
    },
    {
     "data": {
      "application/vnd.jupyter.widget-view+json": {
       "model_id": "1f9b5db1db4742c7835f170337f9b173",
       "version_major": 2,
       "version_minor": 0
      },
      "text/plain": [
       "Output()"
      ]
     },
     "metadata": {},
     "output_type": "display_data"
    },
    {
     "data": {
      "text/html": [
       "<pre style=\"white-space:pre;overflow-x:auto;line-height:normal;font-family:Menlo,'DejaVu Sans Mono',consolas,'Courier New',monospace\"></pre>\n"
      ],
      "text/plain": []
     },
     "metadata": {},
     "output_type": "display_data"
    },
    {
     "data": {
      "text/html": [
       "<pre style=\"white-space:pre;overflow-x:auto;line-height:normal;font-family:Menlo,'DejaVu Sans Mono',consolas,'Courier New',monospace\">\n",
       "</pre>\n"
      ],
      "text/plain": [
       "\n"
      ]
     },
     "metadata": {},
     "output_type": "display_data"
    },
    {
     "data": {
      "text/html": [
       "<pre style=\"white-space:pre;overflow-x:auto;line-height:normal;font-family:Menlo,'DejaVu Sans Mono',consolas,'Courier New',monospace\"><span style=\"color: #7fbfbf; text-decoration-color: #7fbfbf\">00:08:23 PST </span>status = queued                                                    \n",
       "</pre>\n"
      ],
      "text/plain": [
       "\u001b[2;36m00:08:23 PST\u001b[0m\u001b[2;36m \u001b[0mstatus = queued                                                    \n"
      ]
     },
     "metadata": {},
     "output_type": "display_data"
    },
    {
     "data": {
      "application/vnd.jupyter.widget-view+json": {
       "model_id": "8d11da924d4844429bc85002c2738cd9",
       "version_major": 2,
       "version_minor": 0
      },
      "text/plain": [
       "Output()"
      ]
     },
     "metadata": {},
     "output_type": "display_data"
    },
    {
     "data": {
      "text/html": [
       "<pre style=\"white-space:pre;overflow-x:auto;line-height:normal;font-family:Menlo,'DejaVu Sans Mono',consolas,'Courier New',monospace\"><span style=\"color: #7fbfbf; text-decoration-color: #7fbfbf\">00:08:29 PST </span>status = preprocess                                                \n",
       "</pre>\n"
      ],
      "text/plain": [
       "\u001b[2;36m00:08:29 PST\u001b[0m\u001b[2;36m \u001b[0mstatus = preprocess                                                \n"
      ]
     },
     "metadata": {},
     "output_type": "display_data"
    },
    {
     "data": {
      "text/html": [
       "<pre style=\"white-space:pre;overflow-x:auto;line-height:normal;font-family:Menlo,'DejaVu Sans Mono',consolas,'Courier New',monospace\"></pre>\n"
      ],
      "text/plain": []
     },
     "metadata": {},
     "output_type": "display_data"
    },
    {
     "data": {
      "text/html": [
       "<pre style=\"white-space:pre;overflow-x:auto;line-height:normal;font-family:Menlo,'DejaVu Sans Mono',consolas,'Courier New',monospace\"><span style=\"color: #7fbfbf; text-decoration-color: #7fbfbf\">00:08:30 PST </span>Maximum FlexCredit cost: <span style=\"color: #008080; text-decoration-color: #008080; font-weight: bold\">0.025</span>. Use <span style=\"color: #008000; text-decoration-color: #008000\">'web.real_cost(task_id)'</span> to get\n",
       "<span style=\"color: #7fbfbf; text-decoration-color: #7fbfbf\">             </span>the billed FlexCredit cost after a simulation run.                 \n",
       "</pre>\n"
      ],
      "text/plain": [
       "\u001b[2;36m00:08:30 PST\u001b[0m\u001b[2;36m \u001b[0mMaximum FlexCredit cost: \u001b[1;36m0.025\u001b[0m. Use \u001b[32m'web.real_cost\u001b[0m\u001b[32m(\u001b[0m\u001b[32mtask_id\u001b[0m\u001b[32m)\u001b[0m\u001b[32m'\u001b[0m to get\n",
       "\u001b[2;36m             \u001b[0mthe billed FlexCredit cost after a simulation run.                 \n"
      ]
     },
     "metadata": {},
     "output_type": "display_data"
    },
    {
     "data": {
      "text/html": [
       "<pre style=\"white-space:pre;overflow-x:auto;line-height:normal;font-family:Menlo,'DejaVu Sans Mono',consolas,'Courier New',monospace\"><span style=\"color: #7fbfbf; text-decoration-color: #7fbfbf\">             </span>starting up solver                                                 \n",
       "</pre>\n"
      ],
      "text/plain": [
       "\u001b[2;36m            \u001b[0m\u001b[2;36m \u001b[0mstarting up solver                                                 \n"
      ]
     },
     "metadata": {},
     "output_type": "display_data"
    },
    {
     "data": {
      "text/html": [
       "<pre style=\"white-space:pre;overflow-x:auto;line-height:normal;font-family:Menlo,'DejaVu Sans Mono',consolas,'Courier New',monospace\"><span style=\"color: #7fbfbf; text-decoration-color: #7fbfbf\">             </span>running solver                                                     \n",
       "</pre>\n"
      ],
      "text/plain": [
       "\u001b[2;36m            \u001b[0m\u001b[2;36m \u001b[0mrunning solver                                                     \n"
      ]
     },
     "metadata": {},
     "output_type": "display_data"
    },
    {
     "data": {
      "text/html": [
       "<pre style=\"white-space:pre;overflow-x:auto;line-height:normal;font-family:Menlo,'DejaVu Sans Mono',consolas,'Courier New',monospace\"><span style=\"color: #7fbfbf; text-decoration-color: #7fbfbf\">             </span>To cancel the simulation, use <span style=\"color: #008000; text-decoration-color: #008000\">'web.abort(task_id)'</span> or              \n",
       "<span style=\"color: #7fbfbf; text-decoration-color: #7fbfbf\">             </span><span style=\"color: #008000; text-decoration-color: #008000\">'web.delete(task_id)'</span> or abort/delete the task in the web UI.      \n",
       "<span style=\"color: #7fbfbf; text-decoration-color: #7fbfbf\">             </span>Terminating the Python script will not stop the job running on the \n",
       "<span style=\"color: #7fbfbf; text-decoration-color: #7fbfbf\">             </span>cloud.                                                             \n",
       "</pre>\n"
      ],
      "text/plain": [
       "\u001b[2;36m            \u001b[0m\u001b[2;36m \u001b[0mTo cancel the simulation, use \u001b[32m'web.abort\u001b[0m\u001b[32m(\u001b[0m\u001b[32mtask_id\u001b[0m\u001b[32m)\u001b[0m\u001b[32m'\u001b[0m or              \n",
       "\u001b[2;36m             \u001b[0m\u001b[32m'web.delete\u001b[0m\u001b[32m(\u001b[0m\u001b[32mtask_id\u001b[0m\u001b[32m)\u001b[0m\u001b[32m'\u001b[0m or abort/delete the task in the web UI.      \n",
       "\u001b[2;36m             \u001b[0mTerminating the Python script will not stop the job running on the \n",
       "\u001b[2;36m             \u001b[0mcloud.                                                             \n"
      ]
     },
     "metadata": {},
     "output_type": "display_data"
    },
    {
     "data": {
      "application/vnd.jupyter.widget-view+json": {
       "model_id": "3b8e5040e38647938f888aa986c0f7ee",
       "version_major": 2,
       "version_minor": 0
      },
      "text/plain": [
       "Output()"
      ]
     },
     "metadata": {},
     "output_type": "display_data"
    },
    {
     "data": {
      "text/html": [
       "<pre style=\"white-space:pre;overflow-x:auto;line-height:normal;font-family:Menlo,'DejaVu Sans Mono',consolas,'Courier New',monospace\"><span style=\"color: #7fbfbf; text-decoration-color: #7fbfbf\">00:08:38 PST </span>early shutoff detected at <span style=\"color: #008080; text-decoration-color: #008080; font-weight: bold\">52</span>%, exiting.                            \n",
       "</pre>\n"
      ],
      "text/plain": [
       "\u001b[2;36m00:08:38 PST\u001b[0m\u001b[2;36m \u001b[0mearly shutoff detected at \u001b[1;36m52\u001b[0m%, exiting.                            \n"
      ]
     },
     "metadata": {},
     "output_type": "display_data"
    },
    {
     "data": {
      "text/html": [
       "<pre style=\"white-space:pre;overflow-x:auto;line-height:normal;font-family:Menlo,'DejaVu Sans Mono',consolas,'Courier New',monospace\"></pre>\n"
      ],
      "text/plain": []
     },
     "metadata": {},
     "output_type": "display_data"
    },
    {
     "data": {
      "text/html": [
       "<pre style=\"white-space:pre;overflow-x:auto;line-height:normal;font-family:Menlo,'DejaVu Sans Mono',consolas,'Courier New',monospace\">\n",
       "</pre>\n"
      ],
      "text/plain": [
       "\n"
      ]
     },
     "metadata": {},
     "output_type": "display_data"
    },
    {
     "data": {
      "text/html": [
       "<pre style=\"white-space:pre;overflow-x:auto;line-height:normal;font-family:Menlo,'DejaVu Sans Mono',consolas,'Courier New',monospace\"><span style=\"color: #7fbfbf; text-decoration-color: #7fbfbf\">             </span>status = postprocess                                               \n",
       "</pre>\n"
      ],
      "text/plain": [
       "\u001b[2;36m            \u001b[0m\u001b[2;36m \u001b[0mstatus = postprocess                                               \n"
      ]
     },
     "metadata": {},
     "output_type": "display_data"
    },
    {
     "data": {
      "application/vnd.jupyter.widget-view+json": {
       "model_id": "19361df90bdd4584bad39c03b3becd64",
       "version_major": 2,
       "version_minor": 0
      },
      "text/plain": [
       "Output()"
      ]
     },
     "metadata": {},
     "output_type": "display_data"
    },
    {
     "data": {
      "text/html": [
       "<pre style=\"white-space:pre;overflow-x:auto;line-height:normal;font-family:Menlo,'DejaVu Sans Mono',consolas,'Courier New',monospace\"><span style=\"color: #7fbfbf; text-decoration-color: #7fbfbf\">00:08:40 PST </span>status = success                                                   \n",
       "</pre>\n"
      ],
      "text/plain": [
       "\u001b[2;36m00:08:40 PST\u001b[0m\u001b[2;36m \u001b[0mstatus = success                                                   \n"
      ]
     },
     "metadata": {},
     "output_type": "display_data"
    },
    {
     "data": {
      "text/html": [
       "<pre style=\"white-space:pre;overflow-x:auto;line-height:normal;font-family:Menlo,'DejaVu Sans Mono',consolas,'Courier New',monospace\"></pre>\n"
      ],
      "text/plain": []
     },
     "metadata": {},
     "output_type": "display_data"
    },
    {
     "data": {
      "text/html": [
       "<pre style=\"white-space:pre;overflow-x:auto;line-height:normal;font-family:Menlo,'DejaVu Sans Mono',consolas,'Courier New',monospace\"><span style=\"color: #7fbfbf; text-decoration-color: #7fbfbf\">             </span>View simulation result at                                          \n",
       "<span style=\"color: #7fbfbf; text-decoration-color: #7fbfbf\">             </span><a href=\"https://tidy3d.simulation.cloud/workbench?taskId=fdve-c7061594-8b66-4b26-9d4b-2d412aea241d\" target=\"_blank\"><span style=\"color: #000080; text-decoration-color: #000080; text-decoration: underline\">'https://tidy3d.simulation.cloud/workbench?taskId=fdve-c7061594-8b6</span></a>\n",
       "<span style=\"color: #7fbfbf; text-decoration-color: #7fbfbf\">             </span><a href=\"https://tidy3d.simulation.cloud/workbench?taskId=fdve-c7061594-8b66-4b26-9d4b-2d412aea241d\" target=\"_blank\"><span style=\"color: #000080; text-decoration-color: #000080; text-decoration: underline\">6-4b26-9d4b-2d412aea241d'</span></a><span style=\"color: #000080; text-decoration-color: #000080; text-decoration: underline\">.</span>                                         \n",
       "</pre>\n"
      ],
      "text/plain": [
       "\u001b[2;36m            \u001b[0m\u001b[2;36m \u001b[0mView simulation result at                                          \n",
       "\u001b[2;36m             \u001b[0m\u001b]8;id=957079;https://tidy3d.simulation.cloud/workbench?taskId=fdve-c7061594-8b66-4b26-9d4b-2d412aea241d\u001b\\\u001b[4;34m'https://tidy3d.simulation.cloud/workbench?\u001b[0m\u001b]8;;\u001b\\\u001b]8;id=509905;https://tidy3d.simulation.cloud/workbench?taskId=fdve-c7061594-8b66-4b26-9d4b-2d412aea241d\u001b\\\u001b[4;34mtaskId\u001b[0m\u001b]8;;\u001b\\\u001b]8;id=957079;https://tidy3d.simulation.cloud/workbench?taskId=fdve-c7061594-8b66-4b26-9d4b-2d412aea241d\u001b\\\u001b[4;34m=\u001b[0m\u001b]8;;\u001b\\\u001b]8;id=435752;https://tidy3d.simulation.cloud/workbench?taskId=fdve-c7061594-8b66-4b26-9d4b-2d412aea241d\u001b\\\u001b[4;34mfdve\u001b[0m\u001b]8;;\u001b\\\u001b]8;id=957079;https://tidy3d.simulation.cloud/workbench?taskId=fdve-c7061594-8b66-4b26-9d4b-2d412aea241d\u001b\\\u001b[4;34m-c7061594-8b6\u001b[0m\u001b]8;;\u001b\\\n",
       "\u001b[2;36m             \u001b[0m\u001b]8;id=957079;https://tidy3d.simulation.cloud/workbench?taskId=fdve-c7061594-8b66-4b26-9d4b-2d412aea241d\u001b\\\u001b[4;34m6-4b26-9d4b-2d412aea241d'\u001b[0m\u001b]8;;\u001b\\\u001b[4;34m.\u001b[0m                                         \n"
      ]
     },
     "metadata": {},
     "output_type": "display_data"
    },
    {
     "data": {
      "application/vnd.jupyter.widget-view+json": {
       "model_id": "1eb3bb79902c4ca19b1a1526a5441c0e",
       "version_major": 2,
       "version_minor": 0
      },
      "text/plain": [
       "Output()"
      ]
     },
     "metadata": {},
     "output_type": "display_data"
    },
    {
     "data": {
      "text/html": [
       "<pre style=\"white-space:pre;overflow-x:auto;line-height:normal;font-family:Menlo,'DejaVu Sans Mono',consolas,'Courier New',monospace\"></pre>\n"
      ],
      "text/plain": []
     },
     "metadata": {},
     "output_type": "display_data"
    },
    {
     "data": {
      "text/html": [
       "<pre style=\"white-space:pre;overflow-x:auto;line-height:normal;font-family:Menlo,'DejaVu Sans Mono',consolas,'Courier New',monospace\">\n",
       "</pre>\n"
      ],
      "text/plain": [
       "\n"
      ]
     },
     "metadata": {},
     "output_type": "display_data"
    },
    {
     "data": {
      "text/html": [
       "<pre style=\"white-space:pre;overflow-x:auto;line-height:normal;font-family:Menlo,'DejaVu Sans Mono',consolas,'Courier New',monospace\"><span style=\"color: #7fbfbf; text-decoration-color: #7fbfbf\">00:08:41 PST </span>loading simulation from data/optical_yagi_uda.hdf5                 \n",
       "</pre>\n"
      ],
      "text/plain": [
       "\u001b[2;36m00:08:41 PST\u001b[0m\u001b[2;36m \u001b[0mloading simulation from data/optical_yagi_uda.hdf5                 \n"
      ]
     },
     "metadata": {},
     "output_type": "display_data"
    }
   ],
   "source": [
    "sim_data = web.run(\n",
    "    sim, task_name=\"plasmonic_yagi_uda\", path=\"data/optical_yagi_uda.hdf5\", verbose=True\n",
    ")\n",
    "sim_empty_data = web.run(\n",
    "    sim_empty, task_name=\"empty\", path=\"data/optical_yagi_uda.hdf5\", verbose=True\n",
    ")\n"
   ]
  },
  {
   "cell_type": "markdown",
   "id": "7a334ffc",
   "metadata": {},
   "source": [
    "## Postprocessing"
   ]
  },
  {
   "cell_type": "markdown",
   "id": "d002725e",
   "metadata": {},
   "source": [
    "After the simulations are complete, we calculate the directivity of the Yagi-Uda antenna and the single point dipole. The directivity is given by\n",
    "\n",
    "<center> $D(\\phi,\\theta)=\\frac{4\\pi P(\\phi,\\theta)}{P_0}$,</center>\n",
    "\n",
    "where $P$ is the angular radiated power and $P_0= \\iint P(\\phi,\\theta) d\\Omega$ is the total radiated power.\n",
    "\n",
    "The result shows that the dipole has a directivity of around 1.5, which is expected for a dipole radiator. On the other hand, the Yagi-Uda antenna has a much higher forward directivity above 6. "
   ]
  },
  {
   "cell_type": "code",
   "execution_count": 8,
   "id": "ff1fb3b0",
   "metadata": {
    "execution": {
     "iopub.execute_input": "2024-02-17T08:08:42.292001Z",
     "iopub.status.busy": "2024-02-17T08:08:42.291608Z",
     "iopub.status.idle": "2024-02-17T08:08:42.552931Z",
     "shell.execute_reply": "2024-02-17T08:08:42.552276Z"
    }
   },
   "outputs": [
    {
     "data": {
      "image/png": "[encoded data removed]",
      "text/plain": [
       "<Figure size 640x480 with 1 Axes>"
      ]
     },
     "metadata": {},
     "output_type": "display_data"
    }
   ],
   "source": [
    "P0 = np.array(sim_data[\"power\"].flux)  # total radiated power of the yagi-uda antenna\n",
    "\n",
    "# angular radiated power of the yagi-uda antenna\n",
    "# by default, the power is calculated at 1 meter away from the antenna. The 1e12 factor normalizes the power to unit distance (1 um)\n",
    "P = 1e12 * sim_data[\"n2f_monitor\"].power.sel(f=freq0, phi=0, method=\"nearest\").values\n",
    "P = np.squeeze(P)\n",
    "D = 4 * np.pi * P / P0  # directivity of the yagi-uda antenna\n",
    "\n",
    "P0_dp = np.array(\n",
    "    sim_empty_data[\"power\"].flux\n",
    ")  # total radiated power of the point dipole\n",
    "P_dp = (\n",
    "    1e12\n",
    "    * sim_empty_data[\"n2f_monitor\"].power.sel(f=freq0, phi=0, method=\"nearest\").values\n",
    ")  # angular radiated power of the point dipole\n",
    "P_dp = np.squeeze(P_dp)\n",
    "D_dp = 4 * np.pi * P_dp / P0_dp  # directivity of the point dipole\n",
    "\n",
    "# comparison of the directivity\n",
    "fig, ax = plt.subplots(subplot_kw={\"projection\": \"polar\"})\n",
    "ax.set_theta_direction(-1)\n",
    "ax.set_theta_offset(np.pi / 2.0)\n",
    "ax.plot(theta_array, D, theta_array, D_dp)\n",
    "ax.set_rlim(0, 8)\n",
    "ax.set_title(\"Directivity\")\n",
    "ax.legend((\"Yagi-Uda antenna\", \"Dipole\"))\n",
    "plt.show()\n"
   ]
  },
  {
   "cell_type": "markdown",
   "id": "4fef9a61",
   "metadata": {},
   "source": [
    "When studying antennas, very often we want to plot the full 3D radiation pattern. Here we show how to do so. This requires us to convert the spherical coordinates representation of the radiation pattern to Cartesian coordinates representation. "
   ]
  },
  {
   "cell_type": "code",
   "execution_count": 9,
   "id": "c1d1e015",
   "metadata": {
    "execution": {
     "iopub.execute_input": "2024-02-17T08:08:42.554954Z",
     "iopub.status.busy": "2024-02-17T08:08:42.554738Z",
     "iopub.status.idle": "2024-02-17T08:08:44.702974Z",
     "shell.execute_reply": "2024-02-17T08:08:44.702463Z"
    }
   },
   "outputs": [
    {
     "data": {
      "image/png": "[encoded data removed]",
      "text/plain": [
       "<Figure size 640x480 with 1 Axes>"
      ]
     },
     "metadata": {},
     "output_type": "display_data"
    }
   ],
   "source": [
    "P = 1e12 * sim_data[\"n2f_monitor\"].power.sel(f=freq0).values  # angular radiated power\n",
    "D = 4 * np.pi * np.squeeze(P) / P0  # directivity\n",
    "\n",
    "# convert the spherical coordinates representation to cartesian coordinates\n",
    "phi, theta = np.meshgrid(phi_array, theta_array)\n",
    "X = D * np.cos(phi) * np.sin(theta)\n",
    "Y = D * np.sin(phi) * np.sin(theta)\n",
    "Z = D * np.cos(theta)\n",
    "\n",
    "R = np.sqrt(\n",
    "    X**2 + Y**2 + Z**2\n",
    ")  # distance to the center will be used to plot the color on top of the radiation pattern\n",
    "R = R / np.max(R)  # normalize it to 1\n",
    "\n",
    "color = plt.cm.jet(R)  # define colormap using the distance\n",
    "\n",
    "# plotting the radiation pattern in 3d\n",
    "fig = plt.figure()\n",
    "ax = fig.add_subplot(1, 1, 1, projection=\"3d\")\n",
    "ax.set_xlim((-2, 8))\n",
    "ax.set_ylim((-5, 5))\n",
    "ax.set_zlim((-5, 5))\n",
    "ax.set_xlabel(\"X\")\n",
    "ax.set_ylabel(\"Y\")\n",
    "ax.set_zlabel(\"Z\")\n",
    "surf = ax.plot_surface(\n",
    "    X, Y, Z, cstride=1, rstride=1, facecolors=color, antialiased=True, shade=False\n",
    ")\n"
   ]
  },
  {
   "cell_type": "markdown",
   "id": "62475fa2",
   "metadata": {},
   "source": [
    "## Alternative Approach: Extending the Simulation Domain into the Far-Field Zone"
   ]
  },
  {
   "cell_type": "markdown",
   "id": "9e95638d",
   "metadata": {},
   "source": [
    "Performing the near field to far field transformation using the [FieldProjectionAngleMonitor](../api/_autosummary/tidy3d.FieldProjectionAngleMonitor.html) is a great way to reduce the computational cost by limiting the simulation domain only to the vicinity of the antenna. However, there are certain limitations. For example, the transformation assumes a homogenous background medium. In practice, we often encounter inhomogeneous background such as when the antenna is placed on a dielectric substrate. \n",
    "\n",
    "Alternative to using the near field to far field transformation to obtain the far-field quantities, we can simply extend the simulation domain sufficiently far into the far-field zone. Here we harness the power of the highly optimized Tidy3D solver such that the simulation is still fast even when the domain size is large.\n",
    "\n",
    "Next, we demonstrate this alternative approach and compare the result to the previous simulation to verify the accuracy."
   ]
  },
  {
   "cell_type": "code",
   "execution_count": 10,
   "id": "89dad19a",
   "metadata": {
    "execution": {
     "iopub.execute_input": "2024-02-17T08:08:44.705226Z",
     "iopub.status.busy": "2024-02-17T08:08:44.704883Z",
     "iopub.status.idle": "2024-02-17T08:08:44.889319Z",
     "shell.execute_reply": "2024-02-17T08:08:44.888731Z"
    }
   },
   "outputs": [
    {
     "data": {
      "image/png": "[encoded data removed]",
      "text/plain": [
       "<Figure size 640x480 with 1 Axes>"
      ]
     },
     "metadata": {},
     "output_type": "display_data"
    }
   ],
   "source": [
    "# compared to the previous simulation, this simulation uses a much larger simulation domain size\n",
    "Lx = 15 * lda0\n",
    "Ly = 2 * lda0\n",
    "Lz = 15 * lda0\n",
    "sim_size = (Lx, Ly, Lz)\n",
    "\n",
    "# add a point dipole source\n",
    "pulse = td.GaussianPulse(freq0=freq0, fwidth=freq0 / 20)\n",
    "pt_dipole = td.PointDipole(\n",
    "    center=(0, L_f / 2 + d_dp, 0), source_time=pulse, polarization=\"Ey\"\n",
    ")\n",
    "\n",
    "# add a flux monitor to compute the total radiated power\n",
    "flux_monitor = td.FluxMonitor(\n",
    "    center=(0, 0, 0),\n",
    "    size=(Lx * 0.9, Ly * 0.9, Lz * 0.9),\n",
    "    freqs=[freq0],\n",
    "    name=\"power\",\n",
    ")\n",
    "\n",
    "# add a field monitor to compute the field far away from the antenna to calculate the directivity\n",
    "field_monitor = td.FieldMonitor(\n",
    "    center=(0, 0, 0),\n",
    "    size=(td.inf, 0, td.inf),\n",
    "    freqs=[freq0],\n",
    "    name=\"field\",\n",
    ")\n",
    "\n",
    "# create the simulation with the above defined elements\n",
    "sim = td.Simulation(\n",
    "    center=(0, 0, 0),\n",
    "    size=sim_size,\n",
    "    grid_spec=td.GridSpec.auto(min_steps_per_wvl=40, wavelength=lda0),\n",
    "    structures=antenna,\n",
    "    sources=[pt_dipole],\n",
    "    monitors=[flux_monitor, field_monitor],\n",
    "    run_time=1e-13,\n",
    "    boundary_spec=td.BoundarySpec.all_sides(boundary=td.PML()),\n",
    ")\n",
    "\n",
    "# visualize the simulation setup\n",
    "sim.plot(z=0)\n",
    "plt.show()\n"
   ]
  },
  {
   "cell_type": "markdown",
   "id": "df2c4a9d",
   "metadata": {},
   "source": [
    "Submit the simulation to the server."
   ]
  },
  {
   "cell_type": "code",
   "execution_count": 11,
   "id": "7ce54de3",
   "metadata": {
    "execution": {
     "iopub.execute_input": "2024-02-17T08:08:44.891281Z",
     "iopub.status.busy": "2024-02-17T08:08:44.891045Z",
     "iopub.status.idle": "2024-02-17T08:09:26.005838Z",
     "shell.execute_reply": "2024-02-17T08:09:26.005246Z"
    }
   },
   "outputs": [
    {
     "data": {
      "text/html": [
       "<pre style=\"white-space:pre;overflow-x:auto;line-height:normal;font-family:Menlo,'DejaVu Sans Mono',consolas,'Courier New',monospace\"><span style=\"color: #7fbfbf; text-decoration-color: #7fbfbf\">00:08:44 PST </span>Created task <span style=\"color: #008000; text-decoration-color: #008000\">'plasmonic_yagi_uda'</span> with task_id                     \n",
       "<span style=\"color: #7fbfbf; text-decoration-color: #7fbfbf\">             </span><span style=\"color: #008000; text-decoration-color: #008000\">'fdve-979c7cbc-e8fe-4d5d-9ba2-644443f93b93'</span> and task_type <span style=\"color: #008000; text-decoration-color: #008000\">'FDTD'</span>.  \n",
       "</pre>\n"
      ],
      "text/plain": [
       "\u001b[2;36m00:08:44 PST\u001b[0m\u001b[2;36m \u001b[0mCreated task \u001b[32m'plasmonic_yagi_uda'\u001b[0m with task_id                     \n",
       "\u001b[2;36m             \u001b[0m\u001b[32m'fdve-979c7cbc-e8fe-4d5d-9ba2-644443f93b93'\u001b[0m and task_type \u001b[32m'FDTD'\u001b[0m.  \n"
      ]
     },
     "metadata": {},
     "output_type": "display_data"
    },
    {
     "data": {
      "text/html": [
       "<pre style=\"white-space:pre;overflow-x:auto;line-height:normal;font-family:Menlo,'DejaVu Sans Mono',consolas,'Courier New',monospace\"><span style=\"color: #7fbfbf; text-decoration-color: #7fbfbf\">             </span>View task using web UI at                                          \n",
       "<span style=\"color: #7fbfbf; text-decoration-color: #7fbfbf\">             </span><a href=\"https://tidy3d.simulation.cloud/workbench?taskId=fdve-979c7cbc-e8fe-4d5d-9ba2-644443f93b93\" target=\"_blank\"><span style=\"color: #008000; text-decoration-color: #008000\">'https://tidy3d.simulation.cloud/workbench?taskId=fdve-979c7cbc-e8f</span></a>\n",
       "<span style=\"color: #7fbfbf; text-decoration-color: #7fbfbf\">             </span><a href=\"https://tidy3d.simulation.cloud/workbench?taskId=fdve-979c7cbc-e8fe-4d5d-9ba2-644443f93b93\" target=\"_blank\"><span style=\"color: #008000; text-decoration-color: #008000\">e-4d5d-9ba2-644443f93b93'</span></a>.                                         \n",
       "</pre>\n"
      ],
      "text/plain": [
       "\u001b[2;36m            \u001b[0m\u001b[2;36m \u001b[0mView task using web UI at                                          \n",
       "\u001b[2;36m             \u001b[0m\u001b]8;id=454351;https://tidy3d.simulation.cloud/workbench?taskId=fdve-979c7cbc-e8fe-4d5d-9ba2-644443f93b93\u001b\\\u001b[32m'https://tidy3d.simulation.cloud/workbench?\u001b[0m\u001b]8;;\u001b\\\u001b]8;id=619798;https://tidy3d.simulation.cloud/workbench?taskId=fdve-979c7cbc-e8fe-4d5d-9ba2-644443f93b93\u001b\\\u001b[32mtaskId\u001b[0m\u001b]8;;\u001b\\\u001b]8;id=454351;https://tidy3d.simulation.cloud/workbench?taskId=fdve-979c7cbc-e8fe-4d5d-9ba2-644443f93b93\u001b\\\u001b[32m=\u001b[0m\u001b]8;;\u001b\\\u001b]8;id=126018;https://tidy3d.simulation.cloud/workbench?taskId=fdve-979c7cbc-e8fe-4d5d-9ba2-644443f93b93\u001b\\\u001b[32mfdve\u001b[0m\u001b]8;;\u001b\\\u001b]8;id=454351;https://tidy3d.simulation.cloud/workbench?taskId=fdve-979c7cbc-e8fe-4d5d-9ba2-644443f93b93\u001b\\\u001b[32m-979c7cbc-e8f\u001b[0m\u001b]8;;\u001b\\\n",
       "\u001b[2;36m             \u001b[0m\u001b]8;id=454351;https://tidy3d.simulation.cloud/workbench?taskId=fdve-979c7cbc-e8fe-4d5d-9ba2-644443f93b93\u001b\\\u001b[32me-4d5d-9ba2-644443f93b93'\u001b[0m\u001b]8;;\u001b\\.                                         \n"
      ]
     },
     "metadata": {},
     "output_type": "display_data"
    },
    {
     "data": {
      "application/vnd.jupyter.widget-view+json": {
       "model_id": "515e65dd85c041d5bd7aaf706f5d24e4",
       "version_major": 2,
       "version_minor": 0
      },
      "text/plain": [
       "Output()"
      ]
     },
     "metadata": {},
     "output_type": "display_data"
    },
    {
     "data": {
      "text/html": [
       "<pre style=\"white-space:pre;overflow-x:auto;line-height:normal;font-family:Menlo,'DejaVu Sans Mono',consolas,'Courier New',monospace\"></pre>\n"
      ],
      "text/plain": []
     },
     "metadata": {},
     "output_type": "display_data"
    },
    {
     "data": {
      "text/html": [
       "<pre style=\"white-space:pre;overflow-x:auto;line-height:normal;font-family:Menlo,'DejaVu Sans Mono',consolas,'Courier New',monospace\">\n",
       "</pre>\n"
      ],
      "text/plain": [
       "\n"
      ]
     },
     "metadata": {},
     "output_type": "display_data"
    },
    {
     "data": {
      "text/html": [
       "<pre style=\"white-space:pre;overflow-x:auto;line-height:normal;font-family:Menlo,'DejaVu Sans Mono',consolas,'Courier New',monospace\"><span style=\"color: #7fbfbf; text-decoration-color: #7fbfbf\">00:08:46 PST </span>status = queued                                                    \n",
       "</pre>\n"
      ],
      "text/plain": [
       "\u001b[2;36m00:08:46 PST\u001b[0m\u001b[2;36m \u001b[0mstatus = queued                                                    \n"
      ]
     },
     "metadata": {},
     "output_type": "display_data"
    },
    {
     "data": {
      "application/vnd.jupyter.widget-view+json": {
       "model_id": "39238f2f2fd84764b93c029adc7a8ee5",
       "version_major": 2,
       "version_minor": 0
      },
      "text/plain": [
       "Output()"
      ]
     },
     "metadata": {},
     "output_type": "display_data"
    },
    {
     "data": {
      "text/html": [
       "<pre style=\"white-space:pre;overflow-x:auto;line-height:normal;font-family:Menlo,'DejaVu Sans Mono',consolas,'Courier New',monospace\"><span style=\"color: #7fbfbf; text-decoration-color: #7fbfbf\">00:08:49 PST </span>status = preprocess                                                \n",
       "</pre>\n"
      ],
      "text/plain": [
       "\u001b[2;36m00:08:49 PST\u001b[0m\u001b[2;36m \u001b[0mstatus = preprocess                                                \n"
      ]
     },
     "metadata": {},
     "output_type": "display_data"
    },
    {
     "data": {
      "text/html": [
       "<pre style=\"white-space:pre;overflow-x:auto;line-height:normal;font-family:Menlo,'DejaVu Sans Mono',consolas,'Courier New',monospace\"></pre>\n"
      ],
      "text/plain": []
     },
     "metadata": {},
     "output_type": "display_data"
    },
    {
     "data": {
      "text/html": [
       "<pre style=\"white-space:pre;overflow-x:auto;line-height:normal;font-family:Menlo,'DejaVu Sans Mono',consolas,'Courier New',monospace\"><span style=\"color: #7fbfbf; text-decoration-color: #7fbfbf\">00:08:51 PST </span>Maximum FlexCredit cost: <span style=\"color: #008080; text-decoration-color: #008080; font-weight: bold\">0.744</span>. Use <span style=\"color: #008000; text-decoration-color: #008000\">'web.real_cost(task_id)'</span> to get\n",
       "<span style=\"color: #7fbfbf; text-decoration-color: #7fbfbf\">             </span>the billed FlexCredit cost after a simulation run.                 \n",
       "</pre>\n"
      ],
      "text/plain": [
       "\u001b[2;36m00:08:51 PST\u001b[0m\u001b[2;36m \u001b[0mMaximum FlexCredit cost: \u001b[1;36m0.744\u001b[0m. Use \u001b[32m'web.real_cost\u001b[0m\u001b[32m(\u001b[0m\u001b[32mtask_id\u001b[0m\u001b[32m)\u001b[0m\u001b[32m'\u001b[0m to get\n",
       "\u001b[2;36m             \u001b[0mthe billed FlexCredit cost after a simulation run.                 \n"
      ]
     },
     "metadata": {},
     "output_type": "display_data"
    },
    {
     "data": {
      "text/html": [
       "<pre style=\"white-space:pre;overflow-x:auto;line-height:normal;font-family:Menlo,'DejaVu Sans Mono',consolas,'Courier New',monospace\"><span style=\"color: #7fbfbf; text-decoration-color: #7fbfbf\">             </span>starting up solver                                                 \n",
       "</pre>\n"
      ],
      "text/plain": [
       "\u001b[2;36m            \u001b[0m\u001b[2;36m \u001b[0mstarting up solver                                                 \n"
      ]
     },
     "metadata": {},
     "output_type": "display_data"
    },
    {
     "data": {
      "text/html": [
       "<pre style=\"white-space:pre;overflow-x:auto;line-height:normal;font-family:Menlo,'DejaVu Sans Mono',consolas,'Courier New',monospace\"><span style=\"color: #7fbfbf; text-decoration-color: #7fbfbf\">             </span>running solver                                                     \n",
       "</pre>\n"
      ],
      "text/plain": [
       "\u001b[2;36m            \u001b[0m\u001b[2;36m \u001b[0mrunning solver                                                     \n"
      ]
     },
     "metadata": {},
     "output_type": "display_data"
    },
    {
     "data": {
      "text/html": [
       "<pre style=\"white-space:pre;overflow-x:auto;line-height:normal;font-family:Menlo,'DejaVu Sans Mono',consolas,'Courier New',monospace\"><span style=\"color: #7fbfbf; text-decoration-color: #7fbfbf\">             </span>To cancel the simulation, use <span style=\"color: #008000; text-decoration-color: #008000\">'web.abort(task_id)'</span> or              \n",
       "<span style=\"color: #7fbfbf; text-decoration-color: #7fbfbf\">             </span><span style=\"color: #008000; text-decoration-color: #008000\">'web.delete(task_id)'</span> or abort/delete the task in the web UI.      \n",
       "<span style=\"color: #7fbfbf; text-decoration-color: #7fbfbf\">             </span>Terminating the Python script will not stop the job running on the \n",
       "<span style=\"color: #7fbfbf; text-decoration-color: #7fbfbf\">             </span>cloud.                                                             \n",
       "</pre>\n"
      ],
      "text/plain": [
       "\u001b[2;36m            \u001b[0m\u001b[2;36m \u001b[0mTo cancel the simulation, use \u001b[32m'web.abort\u001b[0m\u001b[32m(\u001b[0m\u001b[32mtask_id\u001b[0m\u001b[32m)\u001b[0m\u001b[32m'\u001b[0m or              \n",
       "\u001b[2;36m             \u001b[0m\u001b[32m'web.delete\u001b[0m\u001b[32m(\u001b[0m\u001b[32mtask_id\u001b[0m\u001b[32m)\u001b[0m\u001b[32m'\u001b[0m or abort/delete the task in the web UI.      \n",
       "\u001b[2;36m             \u001b[0mTerminating the Python script will not stop the job running on the \n",
       "\u001b[2;36m             \u001b[0mcloud.                                                             \n"
      ]
     },
     "metadata": {},
     "output_type": "display_data"
    },
    {
     "data": {
      "application/vnd.jupyter.widget-view+json": {
       "model_id": "b145762d55e44b4abee18241fd9fede0",
       "version_major": 2,
       "version_minor": 0
      },
      "text/plain": [
       "Output()"
      ]
     },
     "metadata": {},
     "output_type": "display_data"
    },
    {
     "data": {
      "text/html": [
       "<pre style=\"white-space:pre;overflow-x:auto;line-height:normal;font-family:Menlo,'DejaVu Sans Mono',consolas,'Courier New',monospace\"><span style=\"color: #7fbfbf; text-decoration-color: #7fbfbf\">00:09:21 PST </span>early shutoff detected at <span style=\"color: #008080; text-decoration-color: #008080; font-weight: bold\">64</span>%, exiting.                            \n",
       "</pre>\n"
      ],
      "text/plain": [
       "\u001b[2;36m00:09:21 PST\u001b[0m\u001b[2;36m \u001b[0mearly shutoff detected at \u001b[1;36m64\u001b[0m%, exiting.                            \n"
      ]
     },
     "metadata": {},
     "output_type": "display_data"
    },
    {
     "data": {
      "text/html": [
       "<pre style=\"white-space:pre;overflow-x:auto;line-height:normal;font-family:Menlo,'DejaVu Sans Mono',consolas,'Courier New',monospace\"></pre>\n"
      ],
      "text/plain": []
     },
     "metadata": {},
     "output_type": "display_data"
    },
    {
     "data": {
      "text/html": [
       "<pre style=\"white-space:pre;overflow-x:auto;line-height:normal;font-family:Menlo,'DejaVu Sans Mono',consolas,'Courier New',monospace\">\n",
       "</pre>\n"
      ],
      "text/plain": [
       "\n"
      ]
     },
     "metadata": {},
     "output_type": "display_data"
    },
    {
     "data": {
      "text/html": [
       "<pre style=\"white-space:pre;overflow-x:auto;line-height:normal;font-family:Menlo,'DejaVu Sans Mono',consolas,'Courier New',monospace\"><span style=\"color: #7fbfbf; text-decoration-color: #7fbfbf\">             </span>status = postprocess                                               \n",
       "</pre>\n"
      ],
      "text/plain": [
       "\u001b[2;36m            \u001b[0m\u001b[2;36m \u001b[0mstatus = postprocess                                               \n"
      ]
     },
     "metadata": {},
     "output_type": "display_data"
    },
    {
     "data": {
      "application/vnd.jupyter.widget-view+json": {
       "model_id": "258ffc3b1b3b42cc843e201c19664089",
       "version_major": 2,
       "version_minor": 0
      },
      "text/plain": [
       "Output()"
      ]
     },
     "metadata": {},
     "output_type": "display_data"
    },
    {
     "data": {
      "text/html": [
       "<pre style=\"white-space:pre;overflow-x:auto;line-height:normal;font-family:Menlo,'DejaVu Sans Mono',consolas,'Courier New',monospace\"><span style=\"color: #7fbfbf; text-decoration-color: #7fbfbf\">00:09:24 PST </span>status = success                                                   \n",
       "</pre>\n"
      ],
      "text/plain": [
       "\u001b[2;36m00:09:24 PST\u001b[0m\u001b[2;36m \u001b[0mstatus = success                                                   \n"
      ]
     },
     "metadata": {},
     "output_type": "display_data"
    },
    {
     "data": {
      "text/html": [
       "<pre style=\"white-space:pre;overflow-x:auto;line-height:normal;font-family:Menlo,'DejaVu Sans Mono',consolas,'Courier New',monospace\"></pre>\n"
      ],
      "text/plain": []
     },
     "metadata": {},
     "output_type": "display_data"
    },
    {
     "data": {
      "text/html": [
       "<pre style=\"white-space:pre;overflow-x:auto;line-height:normal;font-family:Menlo,'DejaVu Sans Mono',consolas,'Courier New',monospace\"><span style=\"color: #7fbfbf; text-decoration-color: #7fbfbf\">             </span>View simulation result at                                          \n",
       "<span style=\"color: #7fbfbf; text-decoration-color: #7fbfbf\">             </span><a href=\"https://tidy3d.simulation.cloud/workbench?taskId=fdve-979c7cbc-e8fe-4d5d-9ba2-644443f93b93\" target=\"_blank\"><span style=\"color: #000080; text-decoration-color: #000080; text-decoration: underline\">'https://tidy3d.simulation.cloud/workbench?taskId=fdve-979c7cbc-e8f</span></a>\n",
       "<span style=\"color: #7fbfbf; text-decoration-color: #7fbfbf\">             </span><a href=\"https://tidy3d.simulation.cloud/workbench?taskId=fdve-979c7cbc-e8fe-4d5d-9ba2-644443f93b93\" target=\"_blank\"><span style=\"color: #000080; text-decoration-color: #000080; text-decoration: underline\">e-4d5d-9ba2-644443f93b93'</span></a><span style=\"color: #000080; text-decoration-color: #000080; text-decoration: underline\">.</span>                                         \n",
       "</pre>\n"
      ],
      "text/plain": [
       "\u001b[2;36m            \u001b[0m\u001b[2;36m \u001b[0mView simulation result at                                          \n",
       "\u001b[2;36m             \u001b[0m\u001b]8;id=559720;https://tidy3d.simulation.cloud/workbench?taskId=fdve-979c7cbc-e8fe-4d5d-9ba2-644443f93b93\u001b\\\u001b[4;34m'https://tidy3d.simulation.cloud/workbench?\u001b[0m\u001b]8;;\u001b\\\u001b]8;id=554603;https://tidy3d.simulation.cloud/workbench?taskId=fdve-979c7cbc-e8fe-4d5d-9ba2-644443f93b93\u001b\\\u001b[4;34mtaskId\u001b[0m\u001b]8;;\u001b\\\u001b]8;id=559720;https://tidy3d.simulation.cloud/workbench?taskId=fdve-979c7cbc-e8fe-4d5d-9ba2-644443f93b93\u001b\\\u001b[4;34m=\u001b[0m\u001b]8;;\u001b\\\u001b]8;id=851680;https://tidy3d.simulation.cloud/workbench?taskId=fdve-979c7cbc-e8fe-4d5d-9ba2-644443f93b93\u001b\\\u001b[4;34mfdve\u001b[0m\u001b]8;;\u001b\\\u001b]8;id=559720;https://tidy3d.simulation.cloud/workbench?taskId=fdve-979c7cbc-e8fe-4d5d-9ba2-644443f93b93\u001b\\\u001b[4;34m-979c7cbc-e8f\u001b[0m\u001b]8;;\u001b\\\n",
       "\u001b[2;36m             \u001b[0m\u001b]8;id=559720;https://tidy3d.simulation.cloud/workbench?taskId=fdve-979c7cbc-e8fe-4d5d-9ba2-644443f93b93\u001b\\\u001b[4;34me-4d5d-9ba2-644443f93b93'\u001b[0m\u001b]8;;\u001b\\\u001b[4;34m.\u001b[0m                                         \n"
      ]
     },
     "metadata": {},
     "output_type": "display_data"
    },
    {
     "data": {
      "application/vnd.jupyter.widget-view+json": {
       "model_id": "161e7da935b040ada663b4fb48ebbb6d",
       "version_major": 2,
       "version_minor": 0
      },
      "text/plain": [
       "Output()"
      ]
     },
     "metadata": {},
     "output_type": "display_data"
    },
    {
     "data": {
      "text/html": [
       "<pre style=\"white-space:pre;overflow-x:auto;line-height:normal;font-family:Menlo,'DejaVu Sans Mono',consolas,'Courier New',monospace\"></pre>\n"
      ],
      "text/plain": []
     },
     "metadata": {},
     "output_type": "display_data"
    },
    {
     "data": {
      "text/html": [
       "<pre style=\"white-space:pre;overflow-x:auto;line-height:normal;font-family:Menlo,'DejaVu Sans Mono',consolas,'Courier New',monospace\">\n",
       "</pre>\n"
      ],
      "text/plain": [
       "\n"
      ]
     },
     "metadata": {},
     "output_type": "display_data"
    },
    {
     "data": {
      "text/html": [
       "<pre style=\"white-space:pre;overflow-x:auto;line-height:normal;font-family:Menlo,'DejaVu Sans Mono',consolas,'Courier New',monospace\"><span style=\"color: #7fbfbf; text-decoration-color: #7fbfbf\">00:09:25 PST </span>loading simulation from data/optical_yagi_uda.hdf5                 \n",
       "</pre>\n"
      ],
      "text/plain": [
       "\u001b[2;36m00:09:25 PST\u001b[0m\u001b[2;36m \u001b[0mloading simulation from data/optical_yagi_uda.hdf5                 \n"
      ]
     },
     "metadata": {},
     "output_type": "display_data"
    }
   ],
   "source": [
    "sim_data = web.run(\n",
    "    sim, task_name=\"plasmonic_yagi_uda\", path=\"data/optical_yagi_uda.hdf5\", verbose=True\n",
    ")\n"
   ]
  },
  {
   "cell_type": "markdown",
   "id": "9fb88e64",
   "metadata": {},
   "source": [
    "In this simulation, the way to calculate the directivity is a little different. The simulation domain size is 15$\\lambda$. We can evaluate the radiated field at a circle 7$\\lambda$ away from the antenna. At this distance, the near field should completely decay away so the field is purely radiated field. Therefore, the power is directly given by\n",
    "\n",
    "<center>$P = \\frac{E^2}{2\\eta}$,</center>\n",
    "\n",
    "where $E$ is the peak-to-peak electric field strength and $\\eta=\\eta_0/n$ is the intrinsic impedance of the medium. $\\eta_0=377$ $\\Omega$ is the free space impedance and $n$ is the refractive index.\n",
    "\n",
    "As expected, the directivity pattern from this approach is practically identical to that from the near field to far field transformation, which verifies the validity of both methods."
   ]
  },
  {
   "cell_type": "code",
   "execution_count": 12,
   "id": "f5f98fd5",
   "metadata": {
    "execution": {
     "iopub.execute_input": "2024-02-17T08:09:26.620183Z",
     "iopub.status.busy": "2024-02-17T08:09:26.619910Z",
     "iopub.status.idle": "2024-02-17T08:09:33.838627Z",
     "shell.execute_reply": "2024-02-17T08:09:33.838101Z"
    }
   },
   "outputs": [
    {
     "data": {
      "image/png": "[encoded data removed]",
      "text/plain": [
       "<Figure size 640x480 with 1 Axes>"
      ]
     },
     "metadata": {},
     "output_type": "display_data"
    }
   ],
   "source": [
    "d = 7 * lda0  # distance at which the radiation pattern is evaluated\n",
    "Z0 = 377  # free space impedance\n",
    "P0 = np.array(sim_data[\"power\"].flux)  # total radiated power\n",
    "\n",
    "# evaluate the radiated power at 7*lda0 away from the antenna\n",
    "P = np.zeros(len(theta_array))\n",
    "for i, theta in enumerate(theta_array):\n",
    "    Ex = sim_data[\"field\"].Ex.sel(\n",
    "        x=d * np.sin(theta), z=d * np.cos(theta), method=\"nearest\"\n",
    "    )\n",
    "    Ey = sim_data[\"field\"].Ey.sel(\n",
    "        x=d * np.sin(theta), z=d * np.cos(theta), method=\"nearest\"\n",
    "    )\n",
    "    Ez = sim_data[\"field\"].Ez.sel(\n",
    "        x=d * np.sin(theta), z=d * np.cos(theta), method=\"nearest\"\n",
    "    )\n",
    "    P[i] = (\n",
    "        d**2 * (abs(Ex) ** 2 + abs(Ey) ** 2 + abs(Ez) ** 2) / (2 * Z0)\n",
    "    )  # we multiple the power by d^2 to normalize it to the power at unit distance\n",
    "D = 4 * np.pi * P / P0  # directivity of the yagi-uda antenna\n",
    "\n",
    "fig, ax = plt.subplots(subplot_kw={\"projection\": \"polar\"})\n",
    "ax.set_theta_direction(-1)\n",
    "ax.set_theta_offset(np.pi / 2.0)\n",
    "ax.plot(theta_array, D)\n",
    "ax.set_rlim(0, 8)\n",
    "ax.set_title(\"Directivity\")\n",
    "plt.show()\n"
   ]
  },
  {
   "cell_type": "markdown",
   "id": "dd2e1744",
   "metadata": {},
   "source": [
    "## Modeling Antenna on Substrate "
   ]
  },
  {
   "cell_type": "markdown",
   "id": "c1b0f582",
   "metadata": {},
   "source": [
    "The approach of extending the simulation domain directly into the far-field zone really shows the benefit when the background medium is not uniform. Here we investigate such a case where a Yagi-Uda is placed on a glass substrate. It was predicted in the referenced paper that a lossless Yagi-Uda antenna on a glass substrate can achieve a directivity above 20, much higher than suspended in free space. \n",
    "\n",
    "For the lossless antenna, we will use PEC as the medium for the antenna structure. To make sure the mesh around the PEC domains is not excessively fine, we will utilize a mesh override structure and set the refractive index to 10. \n",
    "\n",
    "<img src=\"img/yagi_uda_antenna_schematic_2.png\" width=\"600\" alt=\"Schematic of the Yagi-Uda nanoantenna on glass\">"
   ]
  },
  {
   "cell_type": "code",
   "execution_count": 13,
   "id": "d40ee38b",
   "metadata": {
    "execution": {
     "iopub.execute_input": "2024-02-17T08:09:33.841065Z",
     "iopub.status.busy": "2024-02-17T08:09:33.840837Z",
     "iopub.status.idle": "2024-02-17T08:09:33.860616Z",
     "shell.execute_reply": "2024-02-17T08:09:33.860121Z"
    }
   },
   "outputs": [],
   "source": [
    "pec = td.PECMedium()  # pec medium\n",
    "\n",
    "n_glass = 1.5  # glass has a refractive index of 1.5\n",
    "glass = td.Medium(permittivity=n_glass**2)\n",
    "\n",
    "L_f = 0.187  # length of the feed element\n",
    "antenna_pec = construct_antenna(\n",
    "    L_f, r, lda0, pec\n",
    ")  # construct the lossless yagi-uda antenna with pec\n",
    "\n",
    "inf_eff = 100  # effective infinity\n",
    "# construct the substrate\n",
    "sub = td.Structure(\n",
    "    geometry=td.Box.from_bounds(\n",
    "        rmin=(-inf_eff, -inf_eff, -inf_eff), rmax=(inf_eff, inf_eff, -r)\n",
    "    ),\n",
    "    medium=glass,\n",
    ")\n",
    "\n",
    "# the whole structure is the antenna plus the substrate\n",
    "antenna_pec.append(sub)\n",
    "\n",
    "# to control the mesh around the antenna area, we construct a mesh override structure\n",
    "# refractive index of the override structure is set to 10 to ensure sufficiently but not excessively fine mesh\n",
    "refine_medium = td.Medium(permittivity=10**2)\n",
    "antenna_refine = construct_antenna(\n",
    "    L_f, r, lda0, refine_medium\n",
    ")  # construct the mesh override structure\n"
   ]
  },
  {
   "cell_type": "markdown",
   "id": "c3ae09b0",
   "metadata": {},
   "source": [
    "Construct the source, monitors, and simulation in a similar way to the previous simulation."
   ]
  },
  {
   "cell_type": "code",
   "execution_count": 14,
   "id": "f9960aea",
   "metadata": {
    "execution": {
     "iopub.execute_input": "2024-02-17T08:09:33.862481Z",
     "iopub.status.busy": "2024-02-17T08:09:33.862305Z",
     "iopub.status.idle": "2024-02-17T08:09:34.044806Z",
     "shell.execute_reply": "2024-02-17T08:09:34.044307Z"
    }
   },
   "outputs": [
    {
     "data": {
      "image/png": "[encoded data removed]",
      "text/plain": [
       "<Figure size 640x480 with 1 Axes>"
      ]
     },
     "metadata": {},
     "output_type": "display_data"
    }
   ],
   "source": [
    "Lx = 15 * lda0\n",
    "Ly = 2 * lda0\n",
    "Lz = 15 * lda0\n",
    "sim_size = (Lx, Ly, Lz)\n",
    "\n",
    "pulse = td.GaussianPulse(freq0=freq0, fwidth=freq0 / 20)\n",
    "pt_dipole = td.PointDipole(\n",
    "    center=(0, L_f / 2 + d_dp, 0), source_time=pulse, polarization=\"Ey\"\n",
    ")\n",
    "\n",
    "flux_monitor = td.FluxMonitor(\n",
    "    center=(0, 0, 0),\n",
    "    size=(Lx * 0.9, Ly * 0.9, Lz * 0.9),\n",
    "    freqs=[freq0],\n",
    "    name=\"power\",\n",
    ")\n",
    "\n",
    "field_monitor = td.FieldMonitor(\n",
    "    center=(0, 0, 0),\n",
    "    size=(td.inf, 0, td.inf),\n",
    "    freqs=[freq0],\n",
    "    name=\"field\",\n",
    ")\n",
    "\n",
    "sim = td.Simulation(\n",
    "    center=(0, 0, 0),\n",
    "    size=sim_size,\n",
    "    grid_spec=td.GridSpec.auto(\n",
    "        min_steps_per_wvl=40, wavelength=lda0, override_structures=antenna_refine\n",
    "    ),\n",
    "    structures=antenna_pec,\n",
    "    sources=[pt_dipole],\n",
    "    monitors=[flux_monitor, field_monitor],\n",
    "    run_time=1e-13,\n",
    "    boundary_spec=td.BoundarySpec.all_sides(boundary=td.PML()),\n",
    ")\n",
    "\n",
    "sim.plot(y=0)\n",
    "plt.show()\n"
   ]
  },
  {
   "cell_type": "markdown",
   "id": "28a1aafb",
   "metadata": {},
   "source": [
    "Submit the simulation to the server."
   ]
  },
  {
   "cell_type": "code",
   "execution_count": 15,
   "id": "632a8a6f",
   "metadata": {
    "execution": {
     "iopub.execute_input": "2024-02-17T08:09:34.046709Z",
     "iopub.status.busy": "2024-02-17T08:09:34.046564Z",
     "iopub.status.idle": "2024-02-17T08:11:09.599822Z",
     "shell.execute_reply": "2024-02-17T08:11:09.599240Z"
    }
   },
   "outputs": [
    {
     "data": {
      "text/html": [
       "<pre style=\"white-space:pre;overflow-x:auto;line-height:normal;font-family:Menlo,'DejaVu Sans Mono',consolas,'Courier New',monospace\"><span style=\"color: #7fbfbf; text-decoration-color: #7fbfbf\">00:09:34 PST </span>Created task <span style=\"color: #008000; text-decoration-color: #008000\">'plasmonic_yagi_uda_on_glass'</span> with task_id            \n",
       "<span style=\"color: #7fbfbf; text-decoration-color: #7fbfbf\">             </span><span style=\"color: #008000; text-decoration-color: #008000\">'fdve-8565115c-437b-421a-946c-bf177fbe9166'</span> and task_type <span style=\"color: #008000; text-decoration-color: #008000\">'FDTD'</span>.  \n",
       "</pre>\n"
      ],
      "text/plain": [
       "\u001b[2;36m00:09:34 PST\u001b[0m\u001b[2;36m \u001b[0mCreated task \u001b[32m'plasmonic_yagi_uda_on_glass'\u001b[0m with task_id            \n",
       "\u001b[2;36m             \u001b[0m\u001b[32m'fdve-8565115c-437b-421a-946c-bf177fbe9166'\u001b[0m and task_type \u001b[32m'FDTD'\u001b[0m.  \n"
      ]
     },
     "metadata": {},
     "output_type": "display_data"
    },
    {
     "data": {
      "text/html": [
       "<pre style=\"white-space:pre;overflow-x:auto;line-height:normal;font-family:Menlo,'DejaVu Sans Mono',consolas,'Courier New',monospace\"><span style=\"color: #7fbfbf; text-decoration-color: #7fbfbf\">             </span>View task using web UI at                                          \n",
       "<span style=\"color: #7fbfbf; text-decoration-color: #7fbfbf\">             </span><a href=\"https://tidy3d.simulation.cloud/workbench?taskId=fdve-8565115c-437b-421a-946c-bf177fbe9166\" target=\"_blank\"><span style=\"color: #008000; text-decoration-color: #008000\">'https://tidy3d.simulation.cloud/workbench?taskId=fdve-8565115c-437</span></a>\n",
       "<span style=\"color: #7fbfbf; text-decoration-color: #7fbfbf\">             </span><a href=\"https://tidy3d.simulation.cloud/workbench?taskId=fdve-8565115c-437b-421a-946c-bf177fbe9166\" target=\"_blank\"><span style=\"color: #008000; text-decoration-color: #008000\">b-421a-946c-bf177fbe9166'</span></a>.                                         \n",
       "</pre>\n"
      ],
      "text/plain": [
       "\u001b[2;36m            \u001b[0m\u001b[2;36m \u001b[0mView task using web UI at                                          \n",
       "\u001b[2;36m             \u001b[0m\u001b]8;id=217640;https://tidy3d.simulation.cloud/workbench?taskId=fdve-8565115c-437b-421a-946c-bf177fbe9166\u001b\\\u001b[32m'https://tidy3d.simulation.cloud/workbench?\u001b[0m\u001b]8;;\u001b\\\u001b]8;id=18402;https://tidy3d.simulation.cloud/workbench?taskId=fdve-8565115c-437b-421a-946c-bf177fbe9166\u001b\\\u001b[32mtaskId\u001b[0m\u001b]8;;\u001b\\\u001b]8;id=217640;https://tidy3d.simulation.cloud/workbench?taskId=fdve-8565115c-437b-421a-946c-bf177fbe9166\u001b\\\u001b[32m=\u001b[0m\u001b]8;;\u001b\\\u001b]8;id=145904;https://tidy3d.simulation.cloud/workbench?taskId=fdve-8565115c-437b-421a-946c-bf177fbe9166\u001b\\\u001b[32mfdve\u001b[0m\u001b]8;;\u001b\\\u001b]8;id=217640;https://tidy3d.simulation.cloud/workbench?taskId=fdve-8565115c-437b-421a-946c-bf177fbe9166\u001b\\\u001b[32m-8565115c-437\u001b[0m\u001b]8;;\u001b\\\n",
       "\u001b[2;36m             \u001b[0m\u001b]8;id=217640;https://tidy3d.simulation.cloud/workbench?taskId=fdve-8565115c-437b-421a-946c-bf177fbe9166\u001b\\\u001b[32mb-421a-946c-bf177fbe9166'\u001b[0m\u001b]8;;\u001b\\.                                         \n"
      ]
     },
     "metadata": {},
     "output_type": "display_data"
    },
    {
     "data": {
      "application/vnd.jupyter.widget-view+json": {
       "model_id": "dd4a4e2d610740bd93b553fdda609fbf",
       "version_major": 2,
       "version_minor": 0
      },
      "text/plain": [
       "Output()"
      ]
     },
     "metadata": {},
     "output_type": "display_data"
    },
    {
     "data": {
      "text/html": [
       "<pre style=\"white-space:pre;overflow-x:auto;line-height:normal;font-family:Menlo,'DejaVu Sans Mono',consolas,'Courier New',monospace\"></pre>\n"
      ],
      "text/plain": []
     },
     "metadata": {},
     "output_type": "display_data"
    },
    {
     "data": {
      "text/html": [
       "<pre style=\"white-space:pre;overflow-x:auto;line-height:normal;font-family:Menlo,'DejaVu Sans Mono',consolas,'Courier New',monospace\">\n",
       "</pre>\n"
      ],
      "text/plain": [
       "\n"
      ]
     },
     "metadata": {},
     "output_type": "display_data"
    },
    {
     "data": {
      "text/html": [
       "<pre style=\"white-space:pre;overflow-x:auto;line-height:normal;font-family:Menlo,'DejaVu Sans Mono',consolas,'Courier New',monospace\"><span style=\"color: #7fbfbf; text-decoration-color: #7fbfbf\">00:09:35 PST </span>status = queued                                                    \n",
       "</pre>\n"
      ],
      "text/plain": [
       "\u001b[2;36m00:09:35 PST\u001b[0m\u001b[2;36m \u001b[0mstatus = queued                                                    \n"
      ]
     },
     "metadata": {},
     "output_type": "display_data"
    },
    {
     "data": {
      "application/vnd.jupyter.widget-view+json": {
       "model_id": "8b7b312fdcbb480bb1703e0249ea50d0",
       "version_major": 2,
       "version_minor": 0
      },
      "text/plain": [
       "Output()"
      ]
     },
     "metadata": {},
     "output_type": "display_data"
    },
    {
     "data": {
      "text/html": [
       "<pre style=\"white-space:pre;overflow-x:auto;line-height:normal;font-family:Menlo,'DejaVu Sans Mono',consolas,'Courier New',monospace\"><span style=\"color: #7fbfbf; text-decoration-color: #7fbfbf\">00:09:39 PST </span>status = preprocess                                                \n",
       "</pre>\n"
      ],
      "text/plain": [
       "\u001b[2;36m00:09:39 PST\u001b[0m\u001b[2;36m \u001b[0mstatus = preprocess                                                \n"
      ]
     },
     "metadata": {},
     "output_type": "display_data"
    },
    {
     "data": {
      "text/html": [
       "<pre style=\"white-space:pre;overflow-x:auto;line-height:normal;font-family:Menlo,'DejaVu Sans Mono',consolas,'Courier New',monospace\"></pre>\n"
      ],
      "text/plain": []
     },
     "metadata": {},
     "output_type": "display_data"
    },
    {
     "data": {
      "text/html": [
       "<pre style=\"white-space:pre;overflow-x:auto;line-height:normal;font-family:Menlo,'DejaVu Sans Mono',consolas,'Courier New',monospace\"><span style=\"color: #7fbfbf; text-decoration-color: #7fbfbf\">00:09:48 PST </span>Maximum FlexCredit cost: <span style=\"color: #008080; text-decoration-color: #008080; font-weight: bold\">3.070</span>. Use <span style=\"color: #008000; text-decoration-color: #008000\">'web.real_cost(task_id)'</span> to get\n",
       "<span style=\"color: #7fbfbf; text-decoration-color: #7fbfbf\">             </span>the billed FlexCredit cost after a simulation run.                 \n",
       "</pre>\n"
      ],
      "text/plain": [
       "\u001b[2;36m00:09:48 PST\u001b[0m\u001b[2;36m \u001b[0mMaximum FlexCredit cost: \u001b[1;36m3.070\u001b[0m. Use \u001b[32m'web.real_cost\u001b[0m\u001b[32m(\u001b[0m\u001b[32mtask_id\u001b[0m\u001b[32m)\u001b[0m\u001b[32m'\u001b[0m to get\n",
       "\u001b[2;36m             \u001b[0mthe billed FlexCredit cost after a simulation run.                 \n"
      ]
     },
     "metadata": {},
     "output_type": "display_data"
    },
    {
     "data": {
      "text/html": [
       "<pre style=\"white-space:pre;overflow-x:auto;line-height:normal;font-family:Menlo,'DejaVu Sans Mono',consolas,'Courier New',monospace\"><span style=\"color: #7fbfbf; text-decoration-color: #7fbfbf\">             </span>starting up solver                                                 \n",
       "</pre>\n"
      ],
      "text/plain": [
       "\u001b[2;36m            \u001b[0m\u001b[2;36m \u001b[0mstarting up solver                                                 \n"
      ]
     },
     "metadata": {},
     "output_type": "display_data"
    },
    {
     "data": {
      "text/html": [
       "<pre style=\"white-space:pre;overflow-x:auto;line-height:normal;font-family:Menlo,'DejaVu Sans Mono',consolas,'Courier New',monospace\"><span style=\"color: #7fbfbf; text-decoration-color: #7fbfbf\">             </span>running solver                                                     \n",
       "</pre>\n"
      ],
      "text/plain": [
       "\u001b[2;36m            \u001b[0m\u001b[2;36m \u001b[0mrunning solver                                                     \n"
      ]
     },
     "metadata": {},
     "output_type": "display_data"
    },
    {
     "data": {
      "text/html": [
       "<pre style=\"white-space:pre;overflow-x:auto;line-height:normal;font-family:Menlo,'DejaVu Sans Mono',consolas,'Courier New',monospace\"><span style=\"color: #7fbfbf; text-decoration-color: #7fbfbf\">             </span>To cancel the simulation, use <span style=\"color: #008000; text-decoration-color: #008000\">'web.abort(task_id)'</span> or              \n",
       "<span style=\"color: #7fbfbf; text-decoration-color: #7fbfbf\">             </span><span style=\"color: #008000; text-decoration-color: #008000\">'web.delete(task_id)'</span> or abort/delete the task in the web UI.      \n",
       "<span style=\"color: #7fbfbf; text-decoration-color: #7fbfbf\">             </span>Terminating the Python script will not stop the job running on the \n",
       "<span style=\"color: #7fbfbf; text-decoration-color: #7fbfbf\">             </span>cloud.                                                             \n",
       "</pre>\n"
      ],
      "text/plain": [
       "\u001b[2;36m            \u001b[0m\u001b[2;36m \u001b[0mTo cancel the simulation, use \u001b[32m'web.abort\u001b[0m\u001b[32m(\u001b[0m\u001b[32mtask_id\u001b[0m\u001b[32m)\u001b[0m\u001b[32m'\u001b[0m or              \n",
       "\u001b[2;36m             \u001b[0m\u001b[32m'web.delete\u001b[0m\u001b[32m(\u001b[0m\u001b[32mtask_id\u001b[0m\u001b[32m)\u001b[0m\u001b[32m'\u001b[0m or abort/delete the task in the web UI.      \n",
       "\u001b[2;36m             \u001b[0mTerminating the Python script will not stop the job running on the \n",
       "\u001b[2;36m             \u001b[0mcloud.                                                             \n"
      ]
     },
     "metadata": {},
     "output_type": "display_data"
    },
    {
     "data": {
      "application/vnd.jupyter.widget-view+json": {
       "model_id": "7c49b7d7caf94dc1b8cfd40e11c92aff",
       "version_major": 2,
       "version_minor": 0
      },
      "text/plain": [
       "Output()"
      ]
     },
     "metadata": {},
     "output_type": "display_data"
    },
    {
     "data": {
      "text/html": [
       "<pre style=\"white-space:pre;overflow-x:auto;line-height:normal;font-family:Menlo,'DejaVu Sans Mono',consolas,'Courier New',monospace\"><span style=\"color: #7fbfbf; text-decoration-color: #7fbfbf\">00:11:04 PST </span>early shutoff detected at <span style=\"color: #008080; text-decoration-color: #008080; font-weight: bold\">76</span>%, exiting.                            \n",
       "</pre>\n"
      ],
      "text/plain": [
       "\u001b[2;36m00:11:04 PST\u001b[0m\u001b[2;36m \u001b[0mearly shutoff detected at \u001b[1;36m76\u001b[0m%, exiting.                            \n"
      ]
     },
     "metadata": {},
     "output_type": "display_data"
    },
    {
     "data": {
      "text/html": [
       "<pre style=\"white-space:pre;overflow-x:auto;line-height:normal;font-family:Menlo,'DejaVu Sans Mono',consolas,'Courier New',monospace\"></pre>\n"
      ],
      "text/plain": []
     },
     "metadata": {},
     "output_type": "display_data"
    },
    {
     "data": {
      "text/html": [
       "<pre style=\"white-space:pre;overflow-x:auto;line-height:normal;font-family:Menlo,'DejaVu Sans Mono',consolas,'Courier New',monospace\">\n",
       "</pre>\n"
      ],
      "text/plain": [
       "\n"
      ]
     },
     "metadata": {},
     "output_type": "display_data"
    },
    {
     "data": {
      "text/html": [
       "<pre style=\"white-space:pre;overflow-x:auto;line-height:normal;font-family:Menlo,'DejaVu Sans Mono',consolas,'Courier New',monospace\"><span style=\"color: #7fbfbf; text-decoration-color: #7fbfbf\">             </span>status = postprocess                                               \n",
       "</pre>\n"
      ],
      "text/plain": [
       "\u001b[2;36m            \u001b[0m\u001b[2;36m \u001b[0mstatus = postprocess                                               \n"
      ]
     },
     "metadata": {},
     "output_type": "display_data"
    },
    {
     "data": {
      "application/vnd.jupyter.widget-view+json": {
       "model_id": "8fad7de3572140a3ad8b1f035dfc94a3",
       "version_major": 2,
       "version_minor": 0
      },
      "text/plain": [
       "Output()"
      ]
     },
     "metadata": {},
     "output_type": "display_data"
    },
    {
     "data": {
      "text/html": [
       "<pre style=\"white-space:pre;overflow-x:auto;line-height:normal;font-family:Menlo,'DejaVu Sans Mono',consolas,'Courier New',monospace\"><span style=\"color: #7fbfbf; text-decoration-color: #7fbfbf\">00:11:06 PST </span>status = success                                                   \n",
       "</pre>\n"
      ],
      "text/plain": [
       "\u001b[2;36m00:11:06 PST\u001b[0m\u001b[2;36m \u001b[0mstatus = success                                                   \n"
      ]
     },
     "metadata": {},
     "output_type": "display_data"
    },
    {
     "data": {
      "text/html": [
       "<pre style=\"white-space:pre;overflow-x:auto;line-height:normal;font-family:Menlo,'DejaVu Sans Mono',consolas,'Courier New',monospace\"></pre>\n"
      ],
      "text/plain": []
     },
     "metadata": {},
     "output_type": "display_data"
    },
    {
     "data": {
      "text/html": [
       "<pre style=\"white-space:pre;overflow-x:auto;line-height:normal;font-family:Menlo,'DejaVu Sans Mono',consolas,'Courier New',monospace\"><span style=\"color: #7fbfbf; text-decoration-color: #7fbfbf\">00:11:07 PST </span>View simulation result at                                          \n",
       "<span style=\"color: #7fbfbf; text-decoration-color: #7fbfbf\">             </span><a href=\"https://tidy3d.simulation.cloud/workbench?taskId=fdve-8565115c-437b-421a-946c-bf177fbe9166\" target=\"_blank\"><span style=\"color: #000080; text-decoration-color: #000080; text-decoration: underline\">'https://tidy3d.simulation.cloud/workbench?taskId=fdve-8565115c-437</span></a>\n",
       "<span style=\"color: #7fbfbf; text-decoration-color: #7fbfbf\">             </span><a href=\"https://tidy3d.simulation.cloud/workbench?taskId=fdve-8565115c-437b-421a-946c-bf177fbe9166\" target=\"_blank\"><span style=\"color: #000080; text-decoration-color: #000080; text-decoration: underline\">b-421a-946c-bf177fbe9166'</span></a><span style=\"color: #000080; text-decoration-color: #000080; text-decoration: underline\">.</span>                                         \n",
       "</pre>\n"
      ],
      "text/plain": [
       "\u001b[2;36m00:11:07 PST\u001b[0m\u001b[2;36m \u001b[0mView simulation result at                                          \n",
       "\u001b[2;36m             \u001b[0m\u001b]8;id=794601;https://tidy3d.simulation.cloud/workbench?taskId=fdve-8565115c-437b-421a-946c-bf177fbe9166\u001b\\\u001b[4;34m'https://tidy3d.simulation.cloud/workbench?\u001b[0m\u001b]8;;\u001b\\\u001b]8;id=858240;https://tidy3d.simulation.cloud/workbench?taskId=fdve-8565115c-437b-421a-946c-bf177fbe9166\u001b\\\u001b[4;34mtaskId\u001b[0m\u001b]8;;\u001b\\\u001b]8;id=794601;https://tidy3d.simulation.cloud/workbench?taskId=fdve-8565115c-437b-421a-946c-bf177fbe9166\u001b\\\u001b[4;34m=\u001b[0m\u001b]8;;\u001b\\\u001b]8;id=74794;https://tidy3d.simulation.cloud/workbench?taskId=fdve-8565115c-437b-421a-946c-bf177fbe9166\u001b\\\u001b[4;34mfdve\u001b[0m\u001b]8;;\u001b\\\u001b]8;id=794601;https://tidy3d.simulation.cloud/workbench?taskId=fdve-8565115c-437b-421a-946c-bf177fbe9166\u001b\\\u001b[4;34m-8565115c-437\u001b[0m\u001b]8;;\u001b\\\n",
       "\u001b[2;36m             \u001b[0m\u001b]8;id=794601;https://tidy3d.simulation.cloud/workbench?taskId=fdve-8565115c-437b-421a-946c-bf177fbe9166\u001b\\\u001b[4;34mb-421a-946c-bf177fbe9166'\u001b[0m\u001b]8;;\u001b\\\u001b[4;34m.\u001b[0m                                         \n"
      ]
     },
     "metadata": {},
     "output_type": "display_data"
    },
    {
     "data": {
      "application/vnd.jupyter.widget-view+json": {
       "model_id": "3d5032b9748c481881231be158f4a050",
       "version_major": 2,
       "version_minor": 0
      },
      "text/plain": [
       "Output()"
      ]
     },
     "metadata": {},
     "output_type": "display_data"
    },
    {
     "data": {
      "text/html": [
       "<pre style=\"white-space:pre;overflow-x:auto;line-height:normal;font-family:Menlo,'DejaVu Sans Mono',consolas,'Courier New',monospace\"></pre>\n"
      ],
      "text/plain": []
     },
     "metadata": {},
     "output_type": "display_data"
    },
    {
     "data": {
      "text/html": [
       "<pre style=\"white-space:pre;overflow-x:auto;line-height:normal;font-family:Menlo,'DejaVu Sans Mono',consolas,'Courier New',monospace\">\n",
       "</pre>\n"
      ],
      "text/plain": [
       "\n"
      ]
     },
     "metadata": {},
     "output_type": "display_data"
    },
    {
     "data": {
      "text/html": [
       "<pre style=\"white-space:pre;overflow-x:auto;line-height:normal;font-family:Menlo,'DejaVu Sans Mono',consolas,'Courier New',monospace\"><span style=\"color: #7fbfbf; text-decoration-color: #7fbfbf\">00:11:09 PST </span>loading simulation from data/optical_yagi_uda.hdf5                 \n",
       "</pre>\n"
      ],
      "text/plain": [
       "\u001b[2;36m00:11:09 PST\u001b[0m\u001b[2;36m \u001b[0mloading simulation from data/optical_yagi_uda.hdf5                 \n"
      ]
     },
     "metadata": {},
     "output_type": "display_data"
    }
   ],
   "source": [
    "sim_data = web.run(\n",
    "    sim,\n",
    "    task_name=\"plasmonic_yagi_uda_on_glass\",\n",
    "    path=\"data/optical_yagi_uda.hdf5\",\n",
    "    verbose=True,\n",
    ")\n"
   ]
  },
  {
   "cell_type": "markdown",
   "id": "6918092c",
   "metadata": {},
   "source": [
    "After the simulation is complete, we calculate the directivity in the same way as previously. Note that the intrinsic impedance $\\eta=\\eta_0/n$ is different in the glass ($n=1.5$) compared to in the free space ($n=1$). \n",
    "\n",
    "From the directivity plot, we can see that a directivity close to 25 can be achieved in this case."
   ]
  },
  {
   "cell_type": "code",
   "execution_count": 16,
   "id": "210e80f0",
   "metadata": {
    "execution": {
     "iopub.execute_input": "2024-02-17T08:11:11.059247Z",
     "iopub.status.busy": "2024-02-17T08:11:11.059016Z",
     "iopub.status.idle": "2024-02-17T08:11:18.713606Z",
     "shell.execute_reply": "2024-02-17T08:11:18.713059Z"
    }
   },
   "outputs": [
    {
     "data": {
      "image/png": "[encoded data removed]",
      "text/plain": [
       "<Figure size 640x480 with 1 Axes>"
      ]
     },
     "metadata": {},
     "output_type": "display_data"
    }
   ],
   "source": [
    "P0 = np.array(sim_data[\"power\"].flux)  # total radiated power\n",
    "\n",
    "# evaluate the radiated power at 7*lda0 away from the antenna\n",
    "P = np.zeros(len(theta_array))\n",
    "for i, theta in enumerate(theta_array):\n",
    "    Ex = sim_data[\"field\"].Ex.sel(\n",
    "        x=d * np.sin(theta), z=d * np.cos(theta), method=\"nearest\"\n",
    "    )\n",
    "    Ey = sim_data[\"field\"].Ey.sel(\n",
    "        x=d * np.sin(theta), z=d * np.cos(theta), method=\"nearest\"\n",
    "    )\n",
    "    Ez = sim_data[\"field\"].Ez.sel(\n",
    "        x=d * np.sin(theta), z=d * np.cos(theta), method=\"nearest\"\n",
    "    )\n",
    "    if d * np.cos(theta) > 0:\n",
    "        P[i] = d**2 * (abs(Ex) ** 2 + abs(Ey) ** 2 + abs(Ez) ** 2) / (2 * Z0)\n",
    "    else:\n",
    "        # inside the substrate, the impedance of the glass needs to be taken into account\n",
    "        P[i] = (\n",
    "            n_glass * d**2 * (abs(Ex) ** 2 + abs(Ey) ** 2 + abs(Ez) ** 2) / (2 * Z0)\n",
    "        )\n",
    "\n",
    "D = 4 * np.pi * P / P0  # directivity\n",
    "\n",
    "# plotting the directivity pattern\n",
    "fig, ax = plt.subplots(subplot_kw={\"projection\": \"polar\"})\n",
    "ax.set_theta_direction(-1)\n",
    "ax.set_theta_offset(np.pi / 2.0)\n",
    "ax.plot(theta_array, D)\n",
    "ax.set_rlim(0, 25)\n",
    "ax.set_title(\"Directivity\")\n",
    "plt.show()\n"
   ]
  },
  {
   "cell_type": "code",
   "execution_count": null,
   "id": "0fac2e64",
   "metadata": {},
   "outputs": [],
   "source": []
  }
 ],
 "metadata": {
  "description": "This notebook demonstrates how to model a plasmonic Yagi-Uda nanoantenna in Tidy3D FDTD.",
  "feature_image": "./img/yagi_uda_antenna_schematic_2.png",
  "kernelspec": {
   "display_name": "Python 3 (ipykernel)",
   "language": "python",
   "name": "python3"
  },
  "keywords": "plasmonic Yagi-Uda nanoantenna, directivity, Tidy3D, FDTD",
  "language_info": {
   "codemirror_mode": {
    "name": "ipython",
    "version": 3
   },
   "file_extension": ".py",
   "mimetype": "text/x-python",
   "name": "python",
   "nbconvert_exporter": "python",
   "pygments_lexer": "ipython3",
   "version": "3.10.13"
  },
  "title": "Plasmonic Yagi-Uda Nanoantenna | Flexcompute",
  "widgets": {
   "application/vnd.jupyter.widget-state+json": {
    "state": {
     "0c33299e61df471b86f426647a5761bc": {
      "model_module": "@jupyter-widgets/base",
      "model_module_version": "2.0.0",
      "model_name": "LayoutModel",
      "state": {
       "_model_module": "@jupyter-widgets/base",
       "_model_module_version": "2.0.0",
       "_model_name": "LayoutModel",
       "_view_count": null,
       "_view_module": "@jupyter-widgets/base",
       "_view_module_version": "2.0.0",
       "_view_name": "LayoutView",
       "align_content": null,
       "align_items": null,
       "align_self": null,
       "border_bottom": null,
       "border_left": null,
       "border_right": null,
       "border_top": null,
       "bottom": null,
       "display": null,
       "flex": null,
       "flex_flow": null,
       "grid_area": null,
       "grid_auto_columns": null,
       "grid_auto_flow": null,
       "grid_auto_rows": null,
       "grid_column": null,
       "grid_gap": null,
       "grid_row": null,
       "grid_template_areas": null,
       "grid_template_columns": null,
       "grid_template_rows": null,
       "height": null,
       "justify_content": null,
       "justify_items": null,
       "left": null,
       "margin": null,
       "max_height": null,
       "max_width": null,
       "min_height": null,
       "min_width": null,
       "object_fit": null,
       "object_position": null,
       "order": null,
       "overflow": null,
       "padding": null,
       "right": null,
       "top": null,
       "visibility": null,
       "width": null
      }
     },
     "113765b3871444dfb55fc380bbaed883": {
      "model_module": "@jupyter-widgets/base",
      "model_module_version": "2.0.0",
      "model_name": "LayoutModel",
      "state": {
       "_model_module": "@jupyter-widgets/base",
       "_model_module_version": "2.0.0",
       "_model_name": "LayoutModel",
       "_view_count": null,
       "_view_module": "@jupyter-widgets/base",
       "_view_module_version": "2.0.0",
       "_view_name": "LayoutView",
       "align_content": null,
       "align_items": null,
       "align_self": null,
       "border_bottom": null,
       "border_left": null,
       "border_right": null,
       "border_top": null,
       "bottom": null,
       "display": null,
       "flex": null,
       "flex_flow": null,
       "grid_area": null,
       "grid_auto_columns": null,
       "grid_auto_flow": null,
       "grid_auto_rows": null,
       "grid_column": null,
       "grid_gap": null,
       "grid_row": null,
       "grid_template_areas": null,
       "grid_template_columns": null,
       "grid_template_rows": null,
       "height": null,
       "justify_content": null,
       "justify_items": null,
       "left": null,
       "margin": null,
       "max_height": null,
       "max_width": null,
       "min_height": null,
       "min_width": null,
       "object_fit": null,
       "object_position": null,
       "order": null,
       "overflow": null,
       "padding": null,
       "right": null,
       "top": null,
       "visibility": null,
       "width": null
      }
     },
     "161e7da935b040ada663b4fb48ebbb6d": {
      "model_module": "@jupyter-widgets/output",
      "model_module_version": "1.0.0",
      "model_name": "OutputModel",
      "state": {
       "_dom_classes": [],
       "_model_module": "@jupyter-widgets/output",
       "_model_module_version": "1.0.0",
       "_model_name": "OutputModel",
       "_view_count": null,
       "_view_module": "@jupyter-widgets/output",
       "_view_module_version": "1.0.0",
       "_view_name": "OutputView",
       "layout": "IPY_MODEL_eb2c5909d8804a679a39523f53d16720",
       "msg_id": "",
       "outputs": [
        {
         "data": {
          "text/html": "<pre style=\"white-space:pre;overflow-x:auto;line-height:normal;font-family:Menlo,'DejaVu Sans Mono',consolas,'Courier New',monospace\"><span style=\"color: #008000; text-decoration-color: #008000; font-weight: bold\">↓</span> <span style=\"color: #000080; text-decoration-color: #000080; font-weight: bold\">simulation_data.hdf5.gz</span> <span style=\"color: #729c1f; text-decoration-color: #729c1f\">━━━━━━━━━━━</span> <span style=\"color: #800080; text-decoration-color: #800080\">100.0%</span> • <span style=\"color: #008000; text-decoration-color: #008000\">21.1/21.1  </span> • <span style=\"color: #800000; text-decoration-color: #800000\">31.6 MB/s</span> • <span style=\"color: #008080; text-decoration-color: #008080\">0:00:00</span>\n                                               <span style=\"color: #008000; text-decoration-color: #008000\">MB         </span>                      \n</pre>\n",
          "text/plain": "\u001b[1;32m↓\u001b[0m \u001b[1;34msimulation_data.hdf5.gz\u001b[0m \u001b[38;2;114;156;31m━━━━━━━━━━━\u001b[0m \u001b[35m100.0%\u001b[0m • \u001b[32m21.1/21.1  \u001b[0m • \u001b[31m31.6 MB/s\u001b[0m • \u001b[36m0:00:00\u001b[0m\n                                               \u001b[32mMB         \u001b[0m                      \n"
         },
         "metadata": {},
         "output_type": "display_data"
        }
       ],
       "tabbable": null,
       "tooltip": null
      }
     },
     "17ceb6b33aab4bfd9bffa0d415555722": {
      "model_module": "@jupyter-widgets/output",
      "model_module_version": "1.0.0",
      "model_name": "OutputModel",
      "state": {
       "_dom_classes": [],
       "_model_module": "@jupyter-widgets/output",
       "_model_module_version": "1.0.0",
       "_model_name": "OutputModel",
       "_view_count": null,
       "_view_module": "@jupyter-widgets/output",
       "_view_module_version": "1.0.0",
       "_view_name": "OutputView",
       "layout": "IPY_MODEL_eb80ef2493d648e4864e0a6fcf6211c3",
       "msg_id": "",
       "outputs": [
        {
         "data": {
          "text/html": "<pre style=\"white-space:pre;overflow-x:auto;line-height:normal;font-family:Menlo,'DejaVu Sans Mono',consolas,'Courier New',monospace\"><span style=\"color: #008000; text-decoration-color: #008000; font-weight: bold\">↓</span> <span style=\"color: #000080; text-decoration-color: #000080; font-weight: bold\">simulation_data.hdf5.gz</span> <span style=\"color: #729c1f; text-decoration-color: #729c1f\">━━━━━━━━━━━━</span> <span style=\"color: #800080; text-decoration-color: #800080\">100.0%</span> • <span style=\"color: #008000; text-decoration-color: #008000\">612.2/612.2</span> • <span style=\"color: #800000; text-decoration-color: #800000\">7.6 MB/s</span> • <span style=\"color: #008080; text-decoration-color: #008080\">0:00:00</span>\n                                                <span style=\"color: #008000; text-decoration-color: #008000\">kB         </span>                     \n</pre>\n",
          "text/plain": "\u001b[1;32m↓\u001b[0m \u001b[1;34msimulation_data.hdf5.gz\u001b[0m \u001b[38;2;114;156;31m━━━━━━━━━━━━\u001b[0m \u001b[35m100.0%\u001b[0m • \u001b[32m612.2/612.2\u001b[0m • \u001b[31m7.6 MB/s\u001b[0m • \u001b[36m0:00:00\u001b[0m\n                                                \u001b[32mkB         \u001b[0m                     \n"
         },
         "metadata": {},
         "output_type": "display_data"
        }
       ],
       "tabbable": null,
       "tooltip": null
      }
     },
     "19361df90bdd4584bad39c03b3becd64": {
      "model_module": "@jupyter-widgets/output",
      "model_module_version": "1.0.0",
      "model_name": "OutputModel",
      "state": {
       "_dom_classes": [],
       "_model_module": "@jupyter-widgets/output",
       "_model_module_version": "1.0.0",
       "_model_name": "OutputModel",
       "_view_count": null,
       "_view_module": "@jupyter-widgets/output",
       "_view_module_version": "1.0.0",
       "_view_name": "OutputView",
       "layout": "IPY_MODEL_7075cfae7b87496aba633202f100d4cd",
       "msg_id": "",
       "outputs": [
        {
         "data": {
          "text/html": "<pre style=\"white-space:pre;overflow-x:auto;line-height:normal;font-family:Menlo,'DejaVu Sans Mono',consolas,'Courier New',monospace\"><span style=\"color: #008000; text-decoration-color: #008000\">🚶 </span> <span style=\"color: #008000; text-decoration-color: #008000; font-weight: bold\">Finishing 'empty'...</span>\n</pre>\n",
          "text/plain": "\u001b[32m🚶 \u001b[0m \u001b[1;32mFinishing 'empty'...\u001b[0m\n"
         },
         "metadata": {},
         "output_type": "display_data"
        }
       ],
       "tabbable": null,
       "tooltip": null
      }
     },
     "1eb3bb79902c4ca19b1a1526a5441c0e": {
      "model_module": "@jupyter-widgets/output",
      "model_module_version": "1.0.0",
      "model_name": "OutputModel",
      "state": {
       "_dom_classes": [],
       "_model_module": "@jupyter-widgets/output",
       "_model_module_version": "1.0.0",
       "_model_name": "OutputModel",
       "_view_count": null,
       "_view_module": "@jupyter-widgets/output",
       "_view_module_version": "1.0.0",
       "_view_name": "OutputView",
       "layout": "IPY_MODEL_72fb4ec5fa7545709e222e2e7bb84020",
       "msg_id": "",
       "outputs": [
        {
         "data": {
          "text/html": "<pre style=\"white-space:pre;overflow-x:auto;line-height:normal;font-family:Menlo,'DejaVu Sans Mono',consolas,'Courier New',monospace\"><span style=\"color: #008000; text-decoration-color: #008000; font-weight: bold\">↓</span> <span style=\"color: #000080; text-decoration-color: #000080; font-weight: bold\">simulation_data.hdf5.gz</span> <span style=\"color: #729c1f; text-decoration-color: #729c1f\">━━━━━━━━━━━━</span> <span style=\"color: #800080; text-decoration-color: #800080\">100.0%</span> • <span style=\"color: #008000; text-decoration-color: #008000\">558.0/558.0</span> • <span style=\"color: #800000; text-decoration-color: #800000\">2.3 MB/s</span> • <span style=\"color: #008080; text-decoration-color: #008080\">0:00:00</span>\n                                                <span style=\"color: #008000; text-decoration-color: #008000\">kB         </span>                     \n</pre>\n",
          "text/plain": "\u001b[1;32m↓\u001b[0m \u001b[1;34msimulation_data.hdf5.gz\u001b[0m \u001b[38;2;114;156;31m━━━━━━━━━━━━\u001b[0m \u001b[35m100.0%\u001b[0m • \u001b[32m558.0/558.0\u001b[0m • \u001b[31m2.3 MB/s\u001b[0m • \u001b[36m0:00:00\u001b[0m\n                                                \u001b[32mkB         \u001b[0m                     \n"
         },
         "metadata": {},
         "output_type": "display_data"
        }
       ],
       "tabbable": null,
       "tooltip": null
      }
     },
     "1f409b1dfc7c4ed8abba5f204eaab9c2": {
      "model_module": "@jupyter-widgets/base",
      "model_module_version": "2.0.0",
      "model_name": "LayoutModel",
      "state": {
       "_model_module": "@jupyter-widgets/base",
       "_model_module_version": "2.0.0",
       "_model_name": "LayoutModel",
       "_view_count": null,
       "_view_module": "@jupyter-widgets/base",
       "_view_module_version": "2.0.0",
       "_view_name": "LayoutView",
       "align_content": null,
       "align_items": null,
       "align_self": null,
       "border_bottom": null,
       "border_left": null,
       "border_right": null,
       "border_top": null,
       "bottom": null,
       "display": null,
       "flex": null,
       "flex_flow": null,
       "grid_area": null,
       "grid_auto_columns": null,
       "grid_auto_flow": null,
       "grid_auto_rows": null,
       "grid_column": null,
       "grid_gap": null,
       "grid_row": null,
       "grid_template_areas": null,
       "grid_template_columns": null,
       "grid_template_rows": null,
       "height": null,
       "justify_content": null,
       "justify_items": null,
       "left": null,
       "margin": null,
       "max_height": null,
       "max_width": null,
       "min_height": null,
       "min_width": null,
       "object_fit": null,
       "object_position": null,
       "order": null,
       "overflow": null,
       "padding": null,
       "right": null,
       "top": null,
       "visibility": null,
       "width": null
      }
     },
     "1f9b5db1db4742c7835f170337f9b173": {
      "model_module": "@jupyter-widgets/output",
      "model_module_version": "1.0.0",
      "model_name": "OutputModel",
      "state": {
       "_dom_classes": [],
       "_model_module": "@jupyter-widgets/output",
       "_model_module_version": "1.0.0",
       "_model_name": "OutputModel",
       "_view_count": null,
       "_view_module": "@jupyter-widgets/output",
       "_view_module_version": "1.0.0",
       "_view_name": "OutputView",
       "layout": "IPY_MODEL_a5d3d1efd95647bb9e2ac318e3bf9fc4",
       "msg_id": "",
       "outputs": [
        {
         "data": {
          "text/html": "<pre style=\"white-space:pre;overflow-x:auto;line-height:normal;font-family:Menlo,'DejaVu Sans Mono',consolas,'Courier New',monospace\"><span style=\"color: #800000; text-decoration-color: #800000; font-weight: bold\">↑</span> <span style=\"color: #000080; text-decoration-color: #000080; font-weight: bold\">simulation.hdf5.gz</span> <span style=\"color: #729c1f; text-decoration-color: #729c1f\">━━━━━━━━━━━━━━━━━━━━━━━━━</span> <span style=\"color: #800080; text-decoration-color: #800080\">100.0%</span> • <span style=\"color: #008000; text-decoration-color: #008000\">4.0/4.0 kB</span> • <span style=\"color: #800000; text-decoration-color: #800000\">?</span> • <span style=\"color: #008080; text-decoration-color: #008080\">0:00:00</span>\n</pre>\n",
          "text/plain": "\u001b[1;31m↑\u001b[0m \u001b[1;34msimulation.hdf5.gz\u001b[0m \u001b[38;2;114;156;31m━━━━━━━━━━━━━━━━━━━━━━━━━\u001b[0m \u001b[35m100.0%\u001b[0m • \u001b[32m4.0/4.0 kB\u001b[0m • \u001b[31m?\u001b[0m • \u001b[36m0:00:00\u001b[0m\n"
         },
         "metadata": {},
         "output_type": "display_data"
        }
       ],
       "tabbable": null,
       "tooltip": null
      }
     },
     "258ffc3b1b3b42cc843e201c19664089": {
      "model_module": "@jupyter-widgets/output",
      "model_module_version": "1.0.0",
      "model_name": "OutputModel",
      "state": {
       "_dom_classes": [],
       "_model_module": "@jupyter-widgets/output",
       "_model_module_version": "1.0.0",
       "_model_name": "OutputModel",
       "_view_count": null,
       "_view_module": "@jupyter-widgets/output",
       "_view_module_version": "1.0.0",
       "_view_name": "OutputView",
       "layout": "IPY_MODEL_eddb61b909304c8ba613f66a98aed427",
       "msg_id": "",
       "outputs": [
        {
         "data": {
          "text/html": "<pre style=\"white-space:pre;overflow-x:auto;line-height:normal;font-family:Menlo,'DejaVu Sans Mono',consolas,'Courier New',monospace\"><span style=\"color: #008000; text-decoration-color: #008000\">🚶 </span> <span style=\"color: #008000; text-decoration-color: #008000; font-weight: bold\">Finishing 'plasmonic_yagi_uda'...</span>\n</pre>\n",
          "text/plain": "\u001b[32m🚶 \u001b[0m \u001b[1;32mFinishing 'plasmonic_yagi_uda'...\u001b[0m\n"
         },
         "metadata": {},
         "output_type": "display_data"
        }
       ],
       "tabbable": null,
       "tooltip": null
      }
     },
     "30e7ed71de4648bf89c6cb2d82ae439c": {
      "model_module": "@jupyter-widgets/base",
      "model_module_version": "2.0.0",
      "model_name": "LayoutModel",
      "state": {
       "_model_module": "@jupyter-widgets/base",
       "_model_module_version": "2.0.0",
       "_model_name": "LayoutModel",
       "_view_count": null,
       "_view_module": "@jupyter-widgets/base",
       "_view_module_version": "2.0.0",
       "_view_name": "LayoutView",
       "align_content": null,
       "align_items": null,
       "align_self": null,
       "border_bottom": null,
       "border_left": null,
       "border_right": null,
       "border_top": null,
       "bottom": null,
       "display": null,
       "flex": null,
       "flex_flow": null,
       "grid_area": null,
       "grid_auto_columns": null,
       "grid_auto_flow": null,
       "grid_auto_rows": null,
       "grid_column": null,
       "grid_gap": null,
       "grid_row": null,
       "grid_template_areas": null,
       "grid_template_columns": null,
       "grid_template_rows": null,
       "height": null,
       "justify_content": null,
       "justify_items": null,
       "left": null,
       "margin": null,
       "max_height": null,
       "max_width": null,
       "min_height": null,
       "min_width": null,
       "object_fit": null,
       "object_position": null,
       "order": null,
       "overflow": null,
       "padding": null,
       "right": null,
       "top": null,
       "visibility": null,
       "width": null
      }
     },
     "39238f2f2fd84764b93c029adc7a8ee5": {
      "model_module": "@jupyter-widgets/output",
      "model_module_version": "1.0.0",
      "model_name": "OutputModel",
      "state": {
       "_dom_classes": [],
       "_model_module": "@jupyter-widgets/output",
       "_model_module_version": "1.0.0",
       "_model_name": "OutputModel",
       "_view_count": null,
       "_view_module": "@jupyter-widgets/output",
       "_view_module_version": "1.0.0",
       "_view_name": "OutputView",
       "layout": "IPY_MODEL_a7989c86db224487aea6d56b32016522",
       "msg_id": "",
       "outputs": [
        {
         "data": {
          "text/html": "<pre style=\"white-space:pre;overflow-x:auto;line-height:normal;font-family:Menlo,'DejaVu Sans Mono',consolas,'Courier New',monospace\"><span style=\"color: #008000; text-decoration-color: #008000\">🏃 </span> <span style=\"color: #008000; text-decoration-color: #008000; font-weight: bold\">Starting 'plasmonic_yagi_uda'...</span>\n</pre>\n",
          "text/plain": "\u001b[32m🏃 \u001b[0m \u001b[1;32mStarting 'plasmonic_yagi_uda'...\u001b[0m\n"
         },
         "metadata": {},
         "output_type": "display_data"
        }
       ],
       "tabbable": null,
       "tooltip": null
      }
     },
     "3b8e5040e38647938f888aa986c0f7ee": {
      "model_module": "@jupyter-widgets/output",
      "model_module_version": "1.0.0",
      "model_name": "OutputModel",
      "state": {
       "_dom_classes": [],
       "_model_module": "@jupyter-widgets/output",
       "_model_module_version": "1.0.0",
       "_model_name": "OutputModel",
       "_view_count": null,
       "_view_module": "@jupyter-widgets/output",
       "_view_module_version": "1.0.0",
       "_view_name": "OutputView",
       "layout": "IPY_MODEL_53d7b68687734e2b9182cf93b0dcd401",
       "msg_id": "",
       "outputs": [
        {
         "data": {
          "text/html": "<pre style=\"white-space:pre;overflow-x:auto;line-height:normal;font-family:Menlo,'DejaVu Sans Mono',consolas,'Courier New',monospace\">solver progress (field decay = 1.52e-06) <span style=\"color: #729c1f; text-decoration-color: #729c1f\">━━━━━━━━━━━━━━━━━━━━━━━━━━</span> <span style=\"color: #800080; text-decoration-color: #800080\">100%</span> <span style=\"color: #008080; text-decoration-color: #008080\">0:00:00</span>\n</pre>\n",
          "text/plain": "solver progress (field decay = 1.52e-06) \u001b[38;2;114;156;31m━━━━━━━━━━━━━━━━━━━━━━━━━━\u001b[0m \u001b[35m100%\u001b[0m \u001b[36m0:00:00\u001b[0m\n"
         },
         "metadata": {},
         "output_type": "display_data"
        }
       ],
       "tabbable": null,
       "tooltip": null
      }
     },
     "3d5032b9748c481881231be158f4a050": {
      "model_module": "@jupyter-widgets/output",
      "model_module_version": "1.0.0",
      "model_name": "OutputModel",
      "state": {
       "_dom_classes": [],
       "_model_module": "@jupyter-widgets/output",
       "_model_module_version": "1.0.0",
       "_model_name": "OutputModel",
       "_view_count": null,
       "_view_module": "@jupyter-widgets/output",
       "_view_module_version": "1.0.0",
       "_view_name": "OutputView",
       "layout": "IPY_MODEL_7b8884a21c4f40aeb227c1e986542bfe",
       "msg_id": "",
       "outputs": [
        {
         "data": {
          "text/html": "<pre style=\"white-space:pre;overflow-x:auto;line-height:normal;font-family:Menlo,'DejaVu Sans Mono',consolas,'Courier New',monospace\"><span style=\"color: #008000; text-decoration-color: #008000; font-weight: bold\">↓</span> <span style=\"color: #000080; text-decoration-color: #000080; font-weight: bold\">simulation_data.hdf5.gz</span> <span style=\"color: #729c1f; text-decoration-color: #729c1f\">━━━━━━━━━━━</span> <span style=\"color: #800080; text-decoration-color: #800080\">100.0%</span> • <span style=\"color: #008000; text-decoration-color: #008000\">39.5/39.5  </span> • <span style=\"color: #800000; text-decoration-color: #800000\">26.1 MB/s</span> • <span style=\"color: #008080; text-decoration-color: #008080\">0:00:00</span>\n                                               <span style=\"color: #008000; text-decoration-color: #008000\">MB         </span>                      \n</pre>\n",
          "text/plain": "\u001b[1;32m↓\u001b[0m \u001b[1;34msimulation_data.hdf5.gz\u001b[0m \u001b[38;2;114;156;31m━━━━━━━━━━━\u001b[0m \u001b[35m100.0%\u001b[0m • \u001b[32m39.5/39.5  \u001b[0m • \u001b[31m26.1 MB/s\u001b[0m • \u001b[36m0:00:00\u001b[0m\n                                               \u001b[32mMB         \u001b[0m                      \n"
         },
         "metadata": {},
         "output_type": "display_data"
        }
       ],
       "tabbable": null,
       "tooltip": null
      }
     },
     "4a0491ad7b244223a9d51f37cf63ca92": {
      "model_module": "@jupyter-widgets/base",
      "model_module_version": "2.0.0",
      "model_name": "LayoutModel",
      "state": {
       "_model_module": "@jupyter-widgets/base",
       "_model_module_version": "2.0.0",
       "_model_name": "LayoutModel",
       "_view_count": null,
       "_view_module": "@jupyter-widgets/base",
       "_view_module_version": "2.0.0",
       "_view_name": "LayoutView",
       "align_content": null,
       "align_items": null,
       "align_self": null,
       "border_bottom": null,
       "border_left": null,
       "border_right": null,
       "border_top": null,
       "bottom": null,
       "display": null,
       "flex": null,
       "flex_flow": null,
       "grid_area": null,
       "grid_auto_columns": null,
       "grid_auto_flow": null,
       "grid_auto_rows": null,
       "grid_column": null,
       "grid_gap": null,
       "grid_row": null,
       "grid_template_areas": null,
       "grid_template_columns": null,
       "grid_template_rows": null,
       "height": null,
       "justify_content": null,
       "justify_items": null,
       "left": null,
       "margin": null,
       "max_height": null,
       "max_width": null,
       "min_height": null,
       "min_width": null,
       "object_fit": null,
       "object_position": null,
       "order": null,
       "overflow": null,
       "padding": null,
       "right": null,
       "top": null,
       "visibility": null,
       "width": null
      }
     },
     "515e65dd85c041d5bd7aaf706f5d24e4": {
      "model_module": "@jupyter-widgets/output",
      "model_module_version": "1.0.0",
      "model_name": "OutputModel",
      "state": {
       "_dom_classes": [],
       "_model_module": "@jupyter-widgets/output",
       "_model_module_version": "1.0.0",
       "_model_name": "OutputModel",
       "_view_count": null,
       "_view_module": "@jupyter-widgets/output",
       "_view_module_version": "1.0.0",
       "_view_name": "OutputView",
       "layout": "IPY_MODEL_5219170c0729408f94e6088a04a8c0b2",
       "msg_id": "",
       "outputs": [
        {
         "data": {
          "text/html": "<pre style=\"white-space:pre;overflow-x:auto;line-height:normal;font-family:Menlo,'DejaVu Sans Mono',consolas,'Courier New',monospace\"><span style=\"color: #800000; text-decoration-color: #800000; font-weight: bold\">↑</span> <span style=\"color: #000080; text-decoration-color: #000080; font-weight: bold\">simulation.hdf5.gz</span> <span style=\"color: #729c1f; text-decoration-color: #729c1f\">━━━━━━━━━━━━━━━━━━━━━━━━━</span> <span style=\"color: #800080; text-decoration-color: #800080\">100.0%</span> • <span style=\"color: #008000; text-decoration-color: #008000\">1.8/1.8 kB</span> • <span style=\"color: #800000; text-decoration-color: #800000\">?</span> • <span style=\"color: #008080; text-decoration-color: #008080\">0:00:00</span>\n</pre>\n",
          "text/plain": "\u001b[1;31m↑\u001b[0m \u001b[1;34msimulation.hdf5.gz\u001b[0m \u001b[38;2;114;156;31m━━━━━━━━━━━━━━━━━━━━━━━━━\u001b[0m \u001b[35m100.0%\u001b[0m • \u001b[32m1.8/1.8 kB\u001b[0m • \u001b[31m?\u001b[0m • \u001b[36m0:00:00\u001b[0m\n"
         },
         "metadata": {},
         "output_type": "display_data"
        }
       ],
       "tabbable": null,
       "tooltip": null
      }
     },
     "5219170c0729408f94e6088a04a8c0b2": {
      "model_module": "@jupyter-widgets/base",
      "model_module_version": "2.0.0",
      "model_name": "LayoutModel",
      "state": {
       "_model_module": "@jupyter-widgets/base",
       "_model_module_version": "2.0.0",
       "_model_name": "LayoutModel",
       "_view_count": null,
       "_view_module": "@jupyter-widgets/base",
       "_view_module_version": "2.0.0",
       "_view_name": "LayoutView",
       "align_content": null,
       "align_items": null,
       "align_self": null,
       "border_bottom": null,
       "border_left": null,
       "border_right": null,
       "border_top": null,
       "bottom": null,
       "display": null,
       "flex": null,
       "flex_flow": null,
       "grid_area": null,
       "grid_auto_columns": null,
       "grid_auto_flow": null,
       "grid_auto_rows": null,
       "grid_column": null,
       "grid_gap": null,
       "grid_row": null,
       "grid_template_areas": null,
       "grid_template_columns": null,
       "grid_template_rows": null,
       "height": null,
       "justify_content": null,
       "justify_items": null,
       "left": null,
       "margin": null,
       "max_height": null,
       "max_width": null,
       "min_height": null,
       "min_width": null,
       "object_fit": null,
       "object_position": null,
       "order": null,
       "overflow": null,
       "padding": null,
       "right": null,
       "top": null,
       "visibility": null,
       "width": null
      }
     },
     "53d7b68687734e2b9182cf93b0dcd401": {
      "model_module": "@jupyter-widgets/base",
      "model_module_version": "2.0.0",
      "model_name": "LayoutModel",
      "state": {
       "_model_module": "@jupyter-widgets/base",
       "_model_module_version": "2.0.0",
       "_model_name": "LayoutModel",
       "_view_count": null,
       "_view_module": "@jupyter-widgets/base",
       "_view_module_version": "2.0.0",
       "_view_name": "LayoutView",
       "align_content": null,
       "align_items": null,
       "align_self": null,
       "border_bottom": null,
       "border_left": null,
       "border_right": null,
       "border_top": null,
       "bottom": null,
       "display": null,
       "flex": null,
       "flex_flow": null,
       "grid_area": null,
       "grid_auto_columns": null,
       "grid_auto_flow": null,
       "grid_auto_rows": null,
       "grid_column": null,
       "grid_gap": null,
       "grid_row": null,
       "grid_template_areas": null,
       "grid_template_columns": null,
       "grid_template_rows": null,
       "height": null,
       "justify_content": null,
       "justify_items": null,
       "left": null,
       "margin": null,
       "max_height": null,
       "max_width": null,
       "min_height": null,
       "min_width": null,
       "object_fit": null,
       "object_position": null,
       "order": null,
       "overflow": null,
       "padding": null,
       "right": null,
       "top": null,
       "visibility": null,
       "width": null
      }
     },
     "55c8ab238fad4b4d890ec004e1c1edeb": {
      "model_module": "@jupyter-widgets/output",
      "model_module_version": "1.0.0",
      "model_name": "OutputModel",
      "state": {
       "_dom_classes": [],
       "_model_module": "@jupyter-widgets/output",
       "_model_module_version": "1.0.0",
       "_model_name": "OutputModel",
       "_view_count": null,
       "_view_module": "@jupyter-widgets/output",
       "_view_module_version": "1.0.0",
       "_view_name": "OutputView",
       "layout": "IPY_MODEL_e63859b68bec4c93a2494b6f87d980d4",
       "msg_id": "",
       "outputs": [
        {
         "data": {
          "text/html": "<pre style=\"white-space:pre;overflow-x:auto;line-height:normal;font-family:Menlo,'DejaVu Sans Mono',consolas,'Courier New',monospace\"><span style=\"color: #008000; text-decoration-color: #008000\">🏃 </span> <span style=\"color: #008000; text-decoration-color: #008000; font-weight: bold\">Starting 'plasmonic_yagi_uda'...</span>\n</pre>\n",
          "text/plain": "\u001b[32m🏃 \u001b[0m \u001b[1;32mStarting 'plasmonic_yagi_uda'...\u001b[0m\n"
         },
         "metadata": {},
         "output_type": "display_data"
        }
       ],
       "tabbable": null,
       "tooltip": null
      }
     },
     "7075cfae7b87496aba633202f100d4cd": {
      "model_module": "@jupyter-widgets/base",
      "model_module_version": "2.0.0",
      "model_name": "LayoutModel",
      "state": {
       "_model_module": "@jupyter-widgets/base",
       "_model_module_version": "2.0.0",
       "_model_name": "LayoutModel",
       "_view_count": null,
       "_view_module": "@jupyter-widgets/base",
       "_view_module_version": "2.0.0",
       "_view_name": "LayoutView",
       "align_content": null,
       "align_items": null,
       "align_self": null,
       "border_bottom": null,
       "border_left": null,
       "border_right": null,
       "border_top": null,
       "bottom": null,
       "display": null,
       "flex": null,
       "flex_flow": null,
       "grid_area": null,
       "grid_auto_columns": null,
       "grid_auto_flow": null,
       "grid_auto_rows": null,
       "grid_column": null,
       "grid_gap": null,
       "grid_row": null,
       "grid_template_areas": null,
       "grid_template_columns": null,
       "grid_template_rows": null,
       "height": null,
       "justify_content": null,
       "justify_items": null,
       "left": null,
       "margin": null,
       "max_height": null,
       "max_width": null,
       "min_height": null,
       "min_width": null,
       "object_fit": null,
       "object_position": null,
       "order": null,
       "overflow": null,
       "padding": null,
       "right": null,
       "top": null,
       "visibility": null,
       "width": null
      }
     },
     "72fb4ec5fa7545709e222e2e7bb84020": {
      "model_module": "@jupyter-widgets/base",
      "model_module_version": "2.0.0",
      "model_name": "LayoutModel",
      "state": {
       "_model_module": "@jupyter-widgets/base",
       "_model_module_version": "2.0.0",
       "_model_name": "LayoutModel",
       "_view_count": null,
       "_view_module": "@jupyter-widgets/base",
       "_view_module_version": "2.0.0",
       "_view_name": "LayoutView",
       "align_content": null,
       "align_items": null,
       "align_self": null,
       "border_bottom": null,
       "border_left": null,
       "border_right": null,
       "border_top": null,
       "bottom": null,
       "display": null,
       "flex": null,
       "flex_flow": null,
       "grid_area": null,
       "grid_auto_columns": null,
       "grid_auto_flow": null,
       "grid_auto_rows": null,
       "grid_column": null,
       "grid_gap": null,
       "grid_row": null,
       "grid_template_areas": null,
       "grid_template_columns": null,
       "grid_template_rows": null,
       "height": null,
       "justify_content": null,
       "justify_items": null,
       "left": null,
       "margin": null,
       "max_height": null,
       "max_width": null,
       "min_height": null,
       "min_width": null,
       "object_fit": null,
       "object_position": null,
       "order": null,
       "overflow": null,
       "padding": null,
       "right": null,
       "top": null,
       "visibility": null,
       "width": null
      }
     },
     "73b22c019e2e49e0b703928254bc6321": {
      "model_module": "@jupyter-widgets/output",
      "model_module_version": "1.0.0",
      "model_name": "OutputModel",
      "state": {
       "_dom_classes": [],
       "_model_module": "@jupyter-widgets/output",
       "_model_module_version": "1.0.0",
       "_model_name": "OutputModel",
       "_view_count": null,
       "_view_module": "@jupyter-widgets/output",
       "_view_module_version": "1.0.0",
       "_view_name": "OutputView",
       "layout": "IPY_MODEL_4a0491ad7b244223a9d51f37cf63ca92",
       "msg_id": "",
       "outputs": [
        {
         "data": {
          "text/html": "<pre style=\"white-space:pre;overflow-x:auto;line-height:normal;font-family:Menlo,'DejaVu Sans Mono',consolas,'Courier New',monospace\">Best RMS error: 0.0154 <span style=\"color: #729c1f; text-decoration-color: #729c1f\">━━━━━━━━━━━━━━━━━━━━━━━━━━━━━━━━━━━━━━━━</span> <span style=\"color: #800080; text-decoration-color: #800080\">100%</span> <span style=\"color: #008080; text-decoration-color: #008080\">0:00:00</span>\n</pre>\n",
          "text/plain": "Best RMS error: 0.0154 \u001b[38;2;114;156;31m━━━━━━━━━━━━━━━━━━━━━━━━━━━━━━━━━━━━━━━━\u001b[0m \u001b[35m100%\u001b[0m \u001b[36m0:00:00\u001b[0m\n"
         },
         "metadata": {},
         "output_type": "display_data"
        }
       ],
       "tabbable": null,
       "tooltip": null
      }
     },
     "7b8884a21c4f40aeb227c1e986542bfe": {
      "model_module": "@jupyter-widgets/base",
      "model_module_version": "2.0.0",
      "model_name": "LayoutModel",
      "state": {
       "_model_module": "@jupyter-widgets/base",
       "_model_module_version": "2.0.0",
       "_model_name": "LayoutModel",
       "_view_count": null,
       "_view_module": "@jupyter-widgets/base",
       "_view_module_version": "2.0.0",
       "_view_name": "LayoutView",
       "align_content": null,
       "align_items": null,
       "align_self": null,
       "border_bottom": null,
       "border_left": null,
       "border_right": null,
       "border_top": null,
       "bottom": null,
       "display": null,
       "flex": null,
       "flex_flow": null,
       "grid_area": null,
       "grid_auto_columns": null,
       "grid_auto_flow": null,
       "grid_auto_rows": null,
       "grid_column": null,
       "grid_gap": null,
       "grid_row": null,
       "grid_template_areas": null,
       "grid_template_columns": null,
       "grid_template_rows": null,
       "height": null,
       "justify_content": null,
       "justify_items": null,
       "left": null,
       "margin": null,
       "max_height": null,
       "max_width": null,
       "min_height": null,
       "min_width": null,
       "object_fit": null,
       "object_position": null,
       "order": null,
       "overflow": null,
       "padding": null,
       "right": null,
       "top": null,
       "visibility": null,
       "width": null
      }
     },
     "7c49b7d7caf94dc1b8cfd40e11c92aff": {
      "model_module": "@jupyter-widgets/output",
      "model_module_version": "1.0.0",
      "model_name": "OutputModel",
      "state": {
       "_dom_classes": [],
       "_model_module": "@jupyter-widgets/output",
       "_model_module_version": "1.0.0",
       "_model_name": "OutputModel",
       "_view_count": null,
       "_view_module": "@jupyter-widgets/output",
       "_view_module_version": "1.0.0",
       "_view_name": "OutputView",
       "layout": "IPY_MODEL_0c33299e61df471b86f426647a5761bc",
       "msg_id": "",
       "outputs": [
        {
         "data": {
          "text/html": "<pre style=\"white-space:pre;overflow-x:auto;line-height:normal;font-family:Menlo,'DejaVu Sans Mono',consolas,'Courier New',monospace\">solver progress (field decay = 1.60e-06) <span style=\"color: #729c1f; text-decoration-color: #729c1f\">━━━━━━━━━━━━━━━━━━━━━━━━━━</span> <span style=\"color: #800080; text-decoration-color: #800080\">100%</span> <span style=\"color: #008080; text-decoration-color: #008080\">0:00:00</span>\n</pre>\n",
          "text/plain": "solver progress (field decay = 1.60e-06) \u001b[38;2;114;156;31m━━━━━━━━━━━━━━━━━━━━━━━━━━\u001b[0m \u001b[35m100%\u001b[0m \u001b[36m0:00:00\u001b[0m\n"
         },
         "metadata": {},
         "output_type": "display_data"
        }
       ],
       "tabbable": null,
       "tooltip": null
      }
     },
     "7e9a80d8f22f407abf87b9d61334c0eb": {
      "model_module": "@jupyter-widgets/base",
      "model_module_version": "2.0.0",
      "model_name": "LayoutModel",
      "state": {
       "_model_module": "@jupyter-widgets/base",
       "_model_module_version": "2.0.0",
       "_model_name": "LayoutModel",
       "_view_count": null,
       "_view_module": "@jupyter-widgets/base",
       "_view_module_version": "2.0.0",
       "_view_name": "LayoutView",
       "align_content": null,
       "align_items": null,
       "align_self": null,
       "border_bottom": null,
       "border_left": null,
       "border_right": null,
       "border_top": null,
       "bottom": null,
       "display": null,
       "flex": null,
       "flex_flow": null,
       "grid_area": null,
       "grid_auto_columns": null,
       "grid_auto_flow": null,
       "grid_auto_rows": null,
       "grid_column": null,
       "grid_gap": null,
       "grid_row": null,
       "grid_template_areas": null,
       "grid_template_columns": null,
       "grid_template_rows": null,
       "height": null,
       "justify_content": null,
       "justify_items": null,
       "left": null,
       "margin": null,
       "max_height": null,
       "max_width": null,
       "min_height": null,
       "min_width": null,
       "object_fit": null,
       "object_position": null,
       "order": null,
       "overflow": null,
       "padding": null,
       "right": null,
       "top": null,
       "visibility": null,
       "width": null
      }
     },
     "8b7b312fdcbb480bb1703e0249ea50d0": {
      "model_module": "@jupyter-widgets/output",
      "model_module_version": "1.0.0",
      "model_name": "OutputModel",
      "state": {
       "_dom_classes": [],
       "_model_module": "@jupyter-widgets/output",
       "_model_module_version": "1.0.0",
       "_model_name": "OutputModel",
       "_view_count": null,
       "_view_module": "@jupyter-widgets/output",
       "_view_module_version": "1.0.0",
       "_view_name": "OutputView",
       "layout": "IPY_MODEL_b31aec0af0c94b368a9019d2efe1b644",
       "msg_id": "",
       "outputs": [
        {
         "data": {
          "text/html": "<pre style=\"white-space:pre;overflow-x:auto;line-height:normal;font-family:Menlo,'DejaVu Sans Mono',consolas,'Courier New',monospace\"><span style=\"color: #008000; text-decoration-color: #008000\">🏃 </span> <span style=\"color: #008000; text-decoration-color: #008000; font-weight: bold\">Starting 'plasmonic_yagi_uda_on_glass'...</span>\n</pre>\n",
          "text/plain": "\u001b[32m🏃 \u001b[0m \u001b[1;32mStarting 'plasmonic_yagi_uda_on_glass'...\u001b[0m\n"
         },
         "metadata": {},
         "output_type": "display_data"
        }
       ],
       "tabbable": null,
       "tooltip": null
      }
     },
     "8d11da924d4844429bc85002c2738cd9": {
      "model_module": "@jupyter-widgets/output",
      "model_module_version": "1.0.0",
      "model_name": "OutputModel",
      "state": {
       "_dom_classes": [],
       "_model_module": "@jupyter-widgets/output",
       "_model_module_version": "1.0.0",
       "_model_name": "OutputModel",
       "_view_count": null,
       "_view_module": "@jupyter-widgets/output",
       "_view_module_version": "1.0.0",
       "_view_name": "OutputView",
       "layout": "IPY_MODEL_113765b3871444dfb55fc380bbaed883",
       "msg_id": "",
       "outputs": [
        {
         "data": {
          "text/html": "<pre style=\"white-space:pre;overflow-x:auto;line-height:normal;font-family:Menlo,'DejaVu Sans Mono',consolas,'Courier New',monospace\"><span style=\"color: #008000; text-decoration-color: #008000\">🚶 </span> <span style=\"color: #008000; text-decoration-color: #008000; font-weight: bold\">Starting 'empty'...</span>\n</pre>\n",
          "text/plain": "\u001b[32m🚶 \u001b[0m \u001b[1;32mStarting 'empty'...\u001b[0m\n"
         },
         "metadata": {},
         "output_type": "display_data"
        }
       ],
       "tabbable": null,
       "tooltip": null
      }
     },
     "8fad7de3572140a3ad8b1f035dfc94a3": {
      "model_module": "@jupyter-widgets/output",
      "model_module_version": "1.0.0",
      "model_name": "OutputModel",
      "state": {
       "_dom_classes": [],
       "_model_module": "@jupyter-widgets/output",
       "_model_module_version": "1.0.0",
       "_model_name": "OutputModel",
       "_view_count": null,
       "_view_module": "@jupyter-widgets/output",
       "_view_module_version": "1.0.0",
       "_view_name": "OutputView",
       "layout": "IPY_MODEL_30e7ed71de4648bf89c6cb2d82ae439c",
       "msg_id": "",
       "outputs": [
        {
         "data": {
          "text/html": "<pre style=\"white-space:pre;overflow-x:auto;line-height:normal;font-family:Menlo,'DejaVu Sans Mono',consolas,'Courier New',monospace\"><span style=\"color: #008000; text-decoration-color: #008000\">🚶 </span> <span style=\"color: #008000; text-decoration-color: #008000; font-weight: bold\">Finishing 'plasmonic_yagi_uda_on_glass'...</span>\n</pre>\n",
          "text/plain": "\u001b[32m🚶 \u001b[0m \u001b[1;32mFinishing 'plasmonic_yagi_uda_on_glass'...\u001b[0m\n"
         },
         "metadata": {},
         "output_type": "display_data"
        }
       ],
       "tabbable": null,
       "tooltip": null
      }
     },
     "9c11fb1a57a1450c803d9032ec2d6a86": {
      "model_module": "@jupyter-widgets/output",
      "model_module_version": "1.0.0",
      "model_name": "OutputModel",
      "state": {
       "_dom_classes": [],
       "_model_module": "@jupyter-widgets/output",
       "_model_module_version": "1.0.0",
       "_model_name": "OutputModel",
       "_view_count": null,
       "_view_module": "@jupyter-widgets/output",
       "_view_module_version": "1.0.0",
       "_view_name": "OutputView",
       "layout": "IPY_MODEL_f32df3de3fd0412b8b82f96ed13a9118",
       "msg_id": "",
       "outputs": [
        {
         "data": {
          "text/html": "<pre style=\"white-space:pre;overflow-x:auto;line-height:normal;font-family:Menlo,'DejaVu Sans Mono',consolas,'Courier New',monospace\"><span style=\"color: #008000; text-decoration-color: #008000\">🚶 </span> <span style=\"color: #008000; text-decoration-color: #008000; font-weight: bold\">Finishing 'plasmonic_yagi_uda'...</span>\n</pre>\n",
          "text/plain": "\u001b[32m🚶 \u001b[0m \u001b[1;32mFinishing 'plasmonic_yagi_uda'...\u001b[0m\n"
         },
         "metadata": {},
         "output_type": "display_data"
        }
       ],
       "tabbable": null,
       "tooltip": null
      }
     },
     "a2bee97a2e46454abdb11d4e320e4f84": {
      "model_module": "@jupyter-widgets/base",
      "model_module_version": "2.0.0",
      "model_name": "LayoutModel",
      "state": {
       "_model_module": "@jupyter-widgets/base",
       "_model_module_version": "2.0.0",
       "_model_name": "LayoutModel",
       "_view_count": null,
       "_view_module": "@jupyter-widgets/base",
       "_view_module_version": "2.0.0",
       "_view_name": "LayoutView",
       "align_content": null,
       "align_items": null,
       "align_self": null,
       "border_bottom": null,
       "border_left": null,
       "border_right": null,
       "border_top": null,
       "bottom": null,
       "display": null,
       "flex": null,
       "flex_flow": null,
       "grid_area": null,
       "grid_auto_columns": null,
       "grid_auto_flow": null,
       "grid_auto_rows": null,
       "grid_column": null,
       "grid_gap": null,
       "grid_row": null,
       "grid_template_areas": null,
       "grid_template_columns": null,
       "grid_template_rows": null,
       "height": null,
       "justify_content": null,
       "justify_items": null,
       "left": null,
       "margin": null,
       "max_height": null,
       "max_width": null,
       "min_height": null,
       "min_width": null,
       "object_fit": null,
       "object_position": null,
       "order": null,
       "overflow": null,
       "padding": null,
       "right": null,
       "top": null,
       "visibility": null,
       "width": null
      }
     },
     "a5d3d1efd95647bb9e2ac318e3bf9fc4": {
      "model_module": "@jupyter-widgets/base",
      "model_module_version": "2.0.0",
      "model_name": "LayoutModel",
      "state": {
       "_model_module": "@jupyter-widgets/base",
       "_model_module_version": "2.0.0",
       "_model_name": "LayoutModel",
       "_view_count": null,
       "_view_module": "@jupyter-widgets/base",
       "_view_module_version": "2.0.0",
       "_view_name": "LayoutView",
       "align_content": null,
       "align_items": null,
       "align_self": null,
       "border_bottom": null,
       "border_left": null,
       "border_right": null,
       "border_top": null,
       "bottom": null,
       "display": null,
       "flex": null,
       "flex_flow": null,
       "grid_area": null,
       "grid_auto_columns": null,
       "grid_auto_flow": null,
       "grid_auto_rows": null,
       "grid_column": null,
       "grid_gap": null,
       "grid_row": null,
       "grid_template_areas": null,
       "grid_template_columns": null,
       "grid_template_rows": null,
       "height": null,
       "justify_content": null,
       "justify_items": null,
       "left": null,
       "margin": null,
       "max_height": null,
       "max_width": null,
       "min_height": null,
       "min_width": null,
       "object_fit": null,
       "object_position": null,
       "order": null,
       "overflow": null,
       "padding": null,
       "right": null,
       "top": null,
       "visibility": null,
       "width": null
      }
     },
     "a7989c86db224487aea6d56b32016522": {
      "model_module": "@jupyter-widgets/base",
      "model_module_version": "2.0.0",
      "model_name": "LayoutModel",
      "state": {
       "_model_module": "@jupyter-widgets/base",
       "_model_module_version": "2.0.0",
       "_model_name": "LayoutModel",
       "_view_count": null,
       "_view_module": "@jupyter-widgets/base",
       "_view_module_version": "2.0.0",
       "_view_name": "LayoutView",
       "align_content": null,
       "align_items": null,
       "align_self": null,
       "border_bottom": null,
       "border_left": null,
       "border_right": null,
       "border_top": null,
       "bottom": null,
       "display": null,
       "flex": null,
       "flex_flow": null,
       "grid_area": null,
       "grid_auto_columns": null,
       "grid_auto_flow": null,
       "grid_auto_rows": null,
       "grid_column": null,
       "grid_gap": null,
       "grid_row": null,
       "grid_template_areas": null,
       "grid_template_columns": null,
       "grid_template_rows": null,
       "height": null,
       "justify_content": null,
       "justify_items": null,
       "left": null,
       "margin": null,
       "max_height": null,
       "max_width": null,
       "min_height": null,
       "min_width": null,
       "object_fit": null,
       "object_position": null,
       "order": null,
       "overflow": null,
       "padding": null,
       "right": null,
       "top": null,
       "visibility": null,
       "width": null
      }
     },
     "a81b773254a940c89abe6f5f5854974c": {
      "model_module": "@jupyter-widgets/base",
      "model_module_version": "2.0.0",
      "model_name": "LayoutModel",
      "state": {
       "_model_module": "@jupyter-widgets/base",
       "_model_module_version": "2.0.0",
       "_model_name": "LayoutModel",
       "_view_count": null,
       "_view_module": "@jupyter-widgets/base",
       "_view_module_version": "2.0.0",
       "_view_name": "LayoutView",
       "align_content": null,
       "align_items": null,
       "align_self": null,
       "border_bottom": null,
       "border_left": null,
       "border_right": null,
       "border_top": null,
       "bottom": null,
       "display": null,
       "flex": null,
       "flex_flow": null,
       "grid_area": null,
       "grid_auto_columns": null,
       "grid_auto_flow": null,
       "grid_auto_rows": null,
       "grid_column": null,
       "grid_gap": null,
       "grid_row": null,
       "grid_template_areas": null,
       "grid_template_columns": null,
       "grid_template_rows": null,
       "height": null,
       "justify_content": null,
       "justify_items": null,
       "left": null,
       "margin": null,
       "max_height": null,
       "max_width": null,
       "min_height": null,
       "min_width": null,
       "object_fit": null,
       "object_position": null,
       "order": null,
       "overflow": null,
       "padding": null,
       "right": null,
       "top": null,
       "visibility": null,
       "width": null
      }
     },
     "b145762d55e44b4abee18241fd9fede0": {
      "model_module": "@jupyter-widgets/output",
      "model_module_version": "1.0.0",
      "model_name": "OutputModel",
      "state": {
       "_dom_classes": [],
       "_model_module": "@jupyter-widgets/output",
       "_model_module_version": "1.0.0",
       "_model_name": "OutputModel",
       "_view_count": null,
       "_view_module": "@jupyter-widgets/output",
       "_view_module_version": "1.0.0",
       "_view_name": "OutputView",
       "layout": "IPY_MODEL_a81b773254a940c89abe6f5f5854974c",
       "msg_id": "",
       "outputs": [
        {
         "data": {
          "text/html": "<pre style=\"white-space:pre;overflow-x:auto;line-height:normal;font-family:Menlo,'DejaVu Sans Mono',consolas,'Courier New',monospace\">solver progress (field decay = 9.94e-06) <span style=\"color: #729c1f; text-decoration-color: #729c1f\">━━━━━━━━━━━━━━━━━━━━━━━━━━</span> <span style=\"color: #800080; text-decoration-color: #800080\">100%</span> <span style=\"color: #008080; text-decoration-color: #008080\">0:00:00</span>\n</pre>\n",
          "text/plain": "solver progress (field decay = 9.94e-06) \u001b[38;2;114;156;31m━━━━━━━━━━━━━━━━━━━━━━━━━━\u001b[0m \u001b[35m100%\u001b[0m \u001b[36m0:00:00\u001b[0m\n"
         },
         "metadata": {},
         "output_type": "display_data"
        }
       ],
       "tabbable": null,
       "tooltip": null
      }
     },
     "b31aec0af0c94b368a9019d2efe1b644": {
      "model_module": "@jupyter-widgets/base",
      "model_module_version": "2.0.0",
      "model_name": "LayoutModel",
      "state": {
       "_model_module": "@jupyter-widgets/base",
       "_model_module_version": "2.0.0",
       "_model_name": "LayoutModel",
       "_view_count": null,
       "_view_module": "@jupyter-widgets/base",
       "_view_module_version": "2.0.0",
       "_view_name": "LayoutView",
       "align_content": null,
       "align_items": null,
       "align_self": null,
       "border_bottom": null,
       "border_left": null,
       "border_right": null,
       "border_top": null,
       "bottom": null,
       "display": null,
       "flex": null,
       "flex_flow": null,
       "grid_area": null,
       "grid_auto_columns": null,
       "grid_auto_flow": null,
       "grid_auto_rows": null,
       "grid_column": null,
       "grid_gap": null,
       "grid_row": null,
       "grid_template_areas": null,
       "grid_template_columns": null,
       "grid_template_rows": null,
       "height": null,
       "justify_content": null,
       "justify_items": null,
       "left": null,
       "margin": null,
       "max_height": null,
       "max_width": null,
       "min_height": null,
       "min_width": null,
       "object_fit": null,
       "object_position": null,
       "order": null,
       "overflow": null,
       "padding": null,
       "right": null,
       "top": null,
       "visibility": null,
       "width": null
      }
     },
     "c89c5de4563e421f96f54fe7a2f869ad": {
      "model_module": "@jupyter-widgets/output",
      "model_module_version": "1.0.0",
      "model_name": "OutputModel",
      "state": {
       "_dom_classes": [],
       "_model_module": "@jupyter-widgets/output",
       "_model_module_version": "1.0.0",
       "_model_name": "OutputModel",
       "_view_count": null,
       "_view_module": "@jupyter-widgets/output",
       "_view_module_version": "1.0.0",
       "_view_name": "OutputView",
       "layout": "IPY_MODEL_a2bee97a2e46454abdb11d4e320e4f84",
       "msg_id": "",
       "outputs": [
        {
         "data": {
          "text/html": "<pre style=\"white-space:pre;overflow-x:auto;line-height:normal;font-family:Menlo,'DejaVu Sans Mono',consolas,'Courier New',monospace\">solver progress (field decay = 1.28e-06) <span style=\"color: #729c1f; text-decoration-color: #729c1f\">━━━━━━━━━━━━━━━━━━━━━━━━━━</span> <span style=\"color: #800080; text-decoration-color: #800080\">100%</span> <span style=\"color: #008080; text-decoration-color: #008080\">0:00:00</span>\n</pre>\n",
          "text/plain": "solver progress (field decay = 1.28e-06) \u001b[38;2;114;156;31m━━━━━━━━━━━━━━━━━━━━━━━━━━\u001b[0m \u001b[35m100%\u001b[0m \u001b[36m0:00:00\u001b[0m\n"
         },
         "metadata": {},
         "output_type": "display_data"
        }
       ],
       "tabbable": null,
       "tooltip": null
      }
     },
     "d58f21b199ed4591a90fbafdec840536": {
      "model_module": "@jupyter-widgets/output",
      "model_module_version": "1.0.0",
      "model_name": "OutputModel",
      "state": {
       "_dom_classes": [],
       "_model_module": "@jupyter-widgets/output",
       "_model_module_version": "1.0.0",
       "_model_name": "OutputModel",
       "_view_count": null,
       "_view_module": "@jupyter-widgets/output",
       "_view_module_version": "1.0.0",
       "_view_name": "OutputView",
       "layout": "IPY_MODEL_1f409b1dfc7c4ed8abba5f204eaab9c2",
       "msg_id": "",
       "outputs": [
        {
         "data": {
          "text/html": "<pre style=\"white-space:pre;overflow-x:auto;line-height:normal;font-family:Menlo,'DejaVu Sans Mono',consolas,'Courier New',monospace\"><span style=\"color: #800000; text-decoration-color: #800000; font-weight: bold\">↑</span> <span style=\"color: #000080; text-decoration-color: #000080; font-weight: bold\">simulation.hdf5.gz</span> <span style=\"color: #729c1f; text-decoration-color: #729c1f\">━━━━━━━━━━━━━━━━━━━━━━━━━</span> <span style=\"color: #800080; text-decoration-color: #800080\">100.0%</span> • <span style=\"color: #008000; text-decoration-color: #008000\">4.7/4.7 kB</span> • <span style=\"color: #800000; text-decoration-color: #800000\">?</span> • <span style=\"color: #008080; text-decoration-color: #008080\">0:00:00</span>\n</pre>\n",
          "text/plain": "\u001b[1;31m↑\u001b[0m \u001b[1;34msimulation.hdf5.gz\u001b[0m \u001b[38;2;114;156;31m━━━━━━━━━━━━━━━━━━━━━━━━━\u001b[0m \u001b[35m100.0%\u001b[0m • \u001b[32m4.7/4.7 kB\u001b[0m • \u001b[31m?\u001b[0m • \u001b[36m0:00:00\u001b[0m\n"
         },
         "metadata": {},
         "output_type": "display_data"
        }
       ],
       "tabbable": null,
       "tooltip": null
      }
     },
     "dd4a4e2d610740bd93b553fdda609fbf": {
      "model_module": "@jupyter-widgets/output",
      "model_module_version": "1.0.0",
      "model_name": "OutputModel",
      "state": {
       "_dom_classes": [],
       "_model_module": "@jupyter-widgets/output",
       "_model_module_version": "1.0.0",
       "_model_name": "OutputModel",
       "_view_count": null,
       "_view_module": "@jupyter-widgets/output",
       "_view_module_version": "1.0.0",
       "_view_name": "OutputView",
       "layout": "IPY_MODEL_7e9a80d8f22f407abf87b9d61334c0eb",
       "msg_id": "",
       "outputs": [
        {
         "data": {
          "text/html": "<pre style=\"white-space:pre;overflow-x:auto;line-height:normal;font-family:Menlo,'DejaVu Sans Mono',consolas,'Courier New',monospace\"><span style=\"color: #800000; text-decoration-color: #800000; font-weight: bold\">↑</span> <span style=\"color: #000080; text-decoration-color: #000080; font-weight: bold\">simulation.hdf5.gz</span> <span style=\"color: #729c1f; text-decoration-color: #729c1f\">━━━━━━━━━━━━━━━━━━━━━━━━━</span> <span style=\"color: #800080; text-decoration-color: #800080\">100.0%</span> • <span style=\"color: #008000; text-decoration-color: #008000\">1.4/1.4 kB</span> • <span style=\"color: #800000; text-decoration-color: #800000\">?</span> • <span style=\"color: #008080; text-decoration-color: #008080\">0:00:00</span>\n</pre>\n",
          "text/plain": "\u001b[1;31m↑\u001b[0m \u001b[1;34msimulation.hdf5.gz\u001b[0m \u001b[38;2;114;156;31m━━━━━━━━━━━━━━━━━━━━━━━━━\u001b[0m \u001b[35m100.0%\u001b[0m • \u001b[32m1.4/1.4 kB\u001b[0m • \u001b[31m?\u001b[0m • \u001b[36m0:00:00\u001b[0m\n"
         },
         "metadata": {},
         "output_type": "display_data"
        }
       ],
       "tabbable": null,
       "tooltip": null
      }
     },
     "e63859b68bec4c93a2494b6f87d980d4": {
      "model_module": "@jupyter-widgets/base",
      "model_module_version": "2.0.0",
      "model_name": "LayoutModel",
      "state": {
       "_model_module": "@jupyter-widgets/base",
       "_model_module_version": "2.0.0",
       "_model_name": "LayoutModel",
       "_view_count": null,
       "_view_module": "@jupyter-widgets/base",
       "_view_module_version": "2.0.0",
       "_view_name": "LayoutView",
       "align_content": null,
       "align_items": null,
       "align_self": null,
       "border_bottom": null,
       "border_left": null,
       "border_right": null,
       "border_top": null,
       "bottom": null,
       "display": null,
       "flex": null,
       "flex_flow": null,
       "grid_area": null,
       "grid_auto_columns": null,
       "grid_auto_flow": null,
       "grid_auto_rows": null,
       "grid_column": null,
       "grid_gap": null,
       "grid_row": null,
       "grid_template_areas": null,
       "grid_template_columns": null,
       "grid_template_rows": null,
       "height": null,
       "justify_content": null,
       "justify_items": null,
       "left": null,
       "margin": null,
       "max_height": null,
       "max_width": null,
       "min_height": null,
       "min_width": null,
       "object_fit": null,
       "object_position": null,
       "order": null,
       "overflow": null,
       "padding": null,
       "right": null,
       "top": null,
       "visibility": null,
       "width": null
      }
     },
     "eb2c5909d8804a679a39523f53d16720": {
      "model_module": "@jupyter-widgets/base",
      "model_module_version": "2.0.0",
      "model_name": "LayoutModel",
      "state": {
       "_model_module": "@jupyter-widgets/base",
       "_model_module_version": "2.0.0",
       "_model_name": "LayoutModel",
       "_view_count": null,
       "_view_module": "@jupyter-widgets/base",
       "_view_module_version": "2.0.0",
       "_view_name": "LayoutView",
       "align_content": null,
       "align_items": null,
       "align_self": null,
       "border_bottom": null,
       "border_left": null,
       "border_right": null,
       "border_top": null,
       "bottom": null,
       "display": null,
       "flex": null,
       "flex_flow": null,
       "grid_area": null,
       "grid_auto_columns": null,
       "grid_auto_flow": null,
       "grid_auto_rows": null,
       "grid_column": null,
       "grid_gap": null,
       "grid_row": null,
       "grid_template_areas": null,
       "grid_template_columns": null,
       "grid_template_rows": null,
       "height": null,
       "justify_content": null,
       "justify_items": null,
       "left": null,
       "margin": null,
       "max_height": null,
       "max_width": null,
       "min_height": null,
       "min_width": null,
       "object_fit": null,
       "object_position": null,
       "order": null,
       "overflow": null,
       "padding": null,
       "right": null,
       "top": null,
       "visibility": null,
       "width": null
      }
     },
     "eb80ef2493d648e4864e0a6fcf6211c3": {
      "model_module": "@jupyter-widgets/base",
      "model_module_version": "2.0.0",
      "model_name": "LayoutModel",
      "state": {
       "_model_module": "@jupyter-widgets/base",
       "_model_module_version": "2.0.0",
       "_model_name": "LayoutModel",
       "_view_count": null,
       "_view_module": "@jupyter-widgets/base",
       "_view_module_version": "2.0.0",
       "_view_name": "LayoutView",
       "align_content": null,
       "align_items": null,
       "align_self": null,
       "border_bottom": null,
       "border_left": null,
       "border_right": null,
       "border_top": null,
       "bottom": null,
       "display": null,
       "flex": null,
       "flex_flow": null,
       "grid_area": null,
       "grid_auto_columns": null,
       "grid_auto_flow": null,
       "grid_auto_rows": null,
       "grid_column": null,
       "grid_gap": null,
       "grid_row": null,
       "grid_template_areas": null,
       "grid_template_columns": null,
       "grid_template_rows": null,
       "height": null,
       "justify_content": null,
       "justify_items": null,
       "left": null,
       "margin": null,
       "max_height": null,
       "max_width": null,
       "min_height": null,
       "min_width": null,
       "object_fit": null,
       "object_position": null,
       "order": null,
       "overflow": null,
       "padding": null,
       "right": null,
       "top": null,
       "visibility": null,
       "width": null
      }
     },
     "eddb61b909304c8ba613f66a98aed427": {
      "model_module": "@jupyter-widgets/base",
      "model_module_version": "2.0.0",
      "model_name": "LayoutModel",
      "state": {
       "_model_module": "@jupyter-widgets/base",
       "_model_module_version": "2.0.0",
       "_model_name": "LayoutModel",
       "_view_count": null,
       "_view_module": "@jupyter-widgets/base",
       "_view_module_version": "2.0.0",
       "_view_name": "LayoutView",
       "align_content": null,
       "align_items": null,
       "align_self": null,
       "border_bottom": null,
       "border_left": null,
       "border_right": null,
       "border_top": null,
       "bottom": null,
       "display": null,
       "flex": null,
       "flex_flow": null,
       "grid_area": null,
       "grid_auto_columns": null,
       "grid_auto_flow": null,
       "grid_auto_rows": null,
       "grid_column": null,
       "grid_gap": null,
       "grid_row": null,
       "grid_template_areas": null,
       "grid_template_columns": null,
       "grid_template_rows": null,
       "height": null,
       "justify_content": null,
       "justify_items": null,
       "left": null,
       "margin": null,
       "max_height": null,
       "max_width": null,
       "min_height": null,
       "min_width": null,
       "object_fit": null,
       "object_position": null,
       "order": null,
       "overflow": null,
       "padding": null,
       "right": null,
       "top": null,
       "visibility": null,
       "width": null
      }
     },
     "f32df3de3fd0412b8b82f96ed13a9118": {
      "model_module": "@jupyter-widgets/base",
      "model_module_version": "2.0.0",
      "model_name": "LayoutModel",
      "state": {
       "_model_module": "@jupyter-widgets/base",
       "_model_module_version": "2.0.0",
       "_model_name": "LayoutModel",
       "_view_count": null,
       "_view_module": "@jupyter-widgets/base",
       "_view_module_version": "2.0.0",
       "_view_name": "LayoutView",
       "align_content": null,
       "align_items": null,
       "align_self": null,
       "border_bottom": null,
       "border_left": null,
       "border_right": null,
       "border_top": null,
       "bottom": null,
       "display": null,
       "flex": null,
       "flex_flow": null,
       "grid_area": null,
       "grid_auto_columns": null,
       "grid_auto_flow": null,
       "grid_auto_rows": null,
       "grid_column": null,
       "grid_gap": null,
       "grid_row": null,
       "grid_template_areas": null,
       "grid_template_columns": null,
       "grid_template_rows": null,
       "height": null,
       "justify_content": null,
       "justify_items": null,
       "left": null,
       "margin": null,
       "max_height": null,
       "max_width": null,
       "min_height": null,
       "min_width": null,
       "object_fit": null,
       "object_position": null,
       "order": null,
       "overflow": null,
       "padding": null,
       "right": null,
       "top": null,
       "visibility": null,
       "width": null
      }
     }
    },
    "version_major": 2,
    "version_minor": 0
   }
  }
 },
 "nbformat": 4,
 "nbformat_minor": 5
}
