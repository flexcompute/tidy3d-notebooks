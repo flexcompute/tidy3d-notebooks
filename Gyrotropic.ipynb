{
 "cells": [
  {
   "cell_type": "markdown",
   "id": "9a8fc81f-041f-4082-951c-3b7e4d6e1e96",
   "metadata": {
    "tags": []
   },
   "source": [
    "# Defining gyrotropic materials\n",
    "\n",
    "Here we demonstrate the usage of Tidy3D simulation software for modeling of gyrotropic materials, that is, materials with Hermitian permittivity tensors. Currently, this is achieved by using [fully anisotropic dieletric medium](../api/_autosummary/tidy3d.FullyAnisotropicMedium.html) option with anisymmetric conductivity tensor. Specifically, let us consider modeling a material with total complex permittivity tensor \n",
    "$$\\varepsilon = \\varepsilon_u + i \\frac{\\sigma_u}{\\omega} + i \\varepsilon_0 G,$$ \n",
    "where $\\varepsilon_u$ and $\\sigma_u$ are real symmetric matrices describing unperturbed permittivity and conductivity of the material, and $G$ is a real antisymmetric matrix representing the magneto-optic effect. That is, \n",
    "$$G = \\begin{pmatrix} 0 & g_z & -g_y  \\\\ -g_z & 0 & g_x \\\\ g_y & -g_x & 0\\end{pmatrix}$$\n",
    "for a gyration vector $\\boldsymbol{g} = \\begin{pmatrix} g_x & g_y & g_z \\end{pmatrix}$. Denoting the electromagnetic frequency of interest as $\\omega_0$, we can approximate the complex permittivity of material in the vicinity of $\\omega_0$ as $$\\varepsilon \\approx \\varepsilon_u + i \\frac{1}{\\omega} \\left( \\sigma_u + \\varepsilon_0 G \\omega_0 \\right).$$ \n",
    "Thus, the gyrotropic effect of a medium can be modeled by providing a modified conductivity tensor $\\sigma = \\sigma_u + \\varepsilon_0 G \\omega_0$ that contains both symmetric and antisymmetric parts. Note that because of this approximation, the simulation results will be most accurate in the vicinity of the frequency of interest $\\omega_0$.\n",
    "\n",
    "For more simulation examples, please visit our [examples page](https://www.flexcompute.com/tidy3d/examples/). If you are new to the finite-difference time-domain (FDTD) method, we highly recommend going through our [FDTD101](https://www.flexcompute.com/fdtd101/) tutorials. FDTD simulations can diverge due to various reasons. If you run into any simulation divergence issues, please follow the steps outlined in our [troubleshooting guide](https://www.flexcompute.com/tidy3d/examples/notebooks/DivergedFDTDSimulation/) to resolve it."
   ]
  },
  {
   "cell_type": "markdown",
   "id": "3b58073b-4e6d-4a40-bf74-dfc61c6a3c3a",
   "metadata": {},
   "source": [
    "## Simulation setup"
   ]
  },
  {
   "cell_type": "markdown",
   "id": "3d3a04fc-8cb1-4eba-b90d-69761766709c",
   "metadata": {},
   "source": [
    "Let us now demonstrate simulation of plane wave propagation inside a gyrotropic material. Specifically, we will consider two simulations, one with $\\boldsymbol{g} = 0$ and another one with $\\boldsymbol{g} \\neq 0$. In the first, reference, simulation the injected plane wave is expected to preserve its polarization, while in the second case the polarization of the injected pulse will undergo rotation due to the gyrotropic properties of the background medium. The rotation degree can be predicted by analytical expressions. In section [Results](#Results) we apply it to the results of the reference simulation and compare with the results of the gyrotropic simulation."
   ]
  },
  {
   "cell_type": "code",
   "execution_count": 1,
   "id": "a36120b6-d7c4-49bd-9396-18baaa1ea5ce",
   "metadata": {
    "execution": {
     "iopub.execute_input": "2024-02-17T05:53:31.387691Z",
     "iopub.status.busy": "2024-02-17T05:53:31.387048Z",
     "iopub.status.idle": "2024-02-17T05:53:32.696823Z",
     "shell.execute_reply": "2024-02-17T05:53:32.696217Z"
    }
   },
   "outputs": [],
   "source": [
    "# standard python imports\n",
    "import numpy as np\n",
    "import matplotlib.pylab as plt\n",
    "\n",
    "# tidy3D import\n",
    "import tidy3d as td\n",
    "import tidy3d.web as web"
   ]
  },
  {
   "cell_type": "markdown",
   "id": "11dfc19c-d87c-41f7-809c-4c891fdfc3de",
   "metadata": {},
   "source": [
    "We define an elongated simulation domain assuming wave propagation along $z$ direction and select sample frequencies in the vicinity of the wavelength of interest."
   ]
  },
  {
   "cell_type": "code",
   "execution_count": 2,
   "id": "1ce15f40-ec78-4b95-a3be-9b56ec5146bb",
   "metadata": {
    "execution": {
     "iopub.execute_input": "2024-02-17T05:53:32.699122Z",
     "iopub.status.busy": "2024-02-17T05:53:32.698845Z",
     "iopub.status.idle": "2024-02-17T05:53:32.715290Z",
     "shell.execute_reply": "2024-02-17T05:53:32.714581Z"
    }
   },
   "outputs": [],
   "source": [
    "# simulation domain\n",
    "sim_length = 10\n",
    "sim_size = [0.1, 0.1, sim_length]\n",
    "\n",
    "# central frequency\n",
    "wvl_um = 1\n",
    "freq0 = td.C_0 / wvl_um\n",
    "fwidth = freq0 / 10\n",
    "freqs = np.linspace(freq0 - fwidth, freq0 + fwidth, 5)\n",
    "\n",
    "run_time = 10 / fwidth"
   ]
  },
  {
   "cell_type": "markdown",
   "id": "4a470c3d-e378-4c77-8981-c1c6ec0f31b3",
   "metadata": {},
   "source": [
    "Properties of the unperturbed material."
   ]
  },
  {
   "cell_type": "code",
   "execution_count": 3,
   "id": "cda0d308-687b-49ab-ada3-bfebcaf763ec",
   "metadata": {
    "execution": {
     "iopub.execute_input": "2024-02-17T05:53:32.717254Z",
     "iopub.status.busy": "2024-02-17T05:53:32.717087Z",
     "iopub.status.idle": "2024-02-17T05:53:32.732866Z",
     "shell.execute_reply": "2024-02-17T05:53:32.732288Z"
    }
   },
   "outputs": [],
   "source": [
    "eps0 = 2\n",
    "permittivity_unperturbed = np.diag((eps0, eps0, eps0))\n",
    "conductivity_unperturbed = np.zeros((3, 3))"
   ]
  },
  {
   "cell_type": "markdown",
   "id": "cc6da355-424f-4cd5-b6fe-f36e09253d8e",
   "metadata": {},
   "source": [
    "Gyration vector along the propagation axis."
   ]
  },
  {
   "cell_type": "code",
   "execution_count": 4,
   "id": "2d7e275e-6008-434e-b3cb-ca47e0eaa592",
   "metadata": {
    "execution": {
     "iopub.execute_input": "2024-02-17T05:53:32.734828Z",
     "iopub.status.busy": "2024-02-17T05:53:32.734661Z",
     "iopub.status.idle": "2024-02-17T05:53:32.750627Z",
     "shell.execute_reply": "2024-02-17T05:53:32.750045Z"
    }
   },
   "outputs": [],
   "source": [
    "g = (0, 0, 0.1)\n",
    "G = np.array([[0, g[2], g[1]], [-g[2], 0, g[0]], [-g[1], -g[0], 0]])"
   ]
  },
  {
   "cell_type": "markdown",
   "id": "5233d603-c648-4ae5-9bbb-85ac70656000",
   "metadata": {},
   "source": [
    "Following the procedure outlined in the beginning of this tutorial we modify the material conductivity such that it accounts for material gyrotropic properties."
   ]
  },
  {
   "cell_type": "code",
   "execution_count": 5,
   "id": "291b0cd9-6671-491b-8fbb-072abd084ccb",
   "metadata": {
    "execution": {
     "iopub.execute_input": "2024-02-17T05:53:32.752683Z",
     "iopub.status.busy": "2024-02-17T05:53:32.752513Z",
     "iopub.status.idle": "2024-02-17T05:53:32.767896Z",
     "shell.execute_reply": "2024-02-17T05:53:32.767389Z"
    }
   },
   "outputs": [],
   "source": [
    "conductivity = conductivity_unperturbed + G * (2 * np.pi * freq0) * td.EPSILON_0"
   ]
  },
  {
   "cell_type": "markdown",
   "id": "9b894750-2b5a-4532-988d-a4f902090fc7",
   "metadata": {},
   "source": [
    "Now we define two materials: a simple [isotropic medium](../api/_autosummary/tidy3d.Medium.html) to use in a reference simulation and a [fully anisotropic medium](../api/_autosummary/tidy3d.FullyAnisotropicMedium.html) for modeling the magneto-optic effect."
   ]
  },
  {
   "cell_type": "code",
   "execution_count": 6,
   "id": "468b0773-2068-46eb-a154-9dad66617257",
   "metadata": {
    "execution": {
     "iopub.execute_input": "2024-02-17T05:53:32.769834Z",
     "iopub.status.busy": "2024-02-17T05:53:32.769655Z",
     "iopub.status.idle": "2024-02-17T05:53:32.785835Z",
     "shell.execute_reply": "2024-02-17T05:53:32.785264Z"
    }
   },
   "outputs": [],
   "source": [
    "medium_unperturbed = td.Medium(permittivity=eps0)\n",
    "medium_gyrotropic = td.FullyAnisotropicMedium(permittivity=permittivity_unperturbed, conductivity=conductivity)"
   ]
  },
  {
   "cell_type": "markdown",
   "id": "f09ff522-79b2-43ab-865a-95e876d22104",
   "metadata": {},
   "source": [
    "Given the simulation geometry we place PML boundary conditions along the propagation axis and periodic boundary conditions in the orthogonal directions"
   ]
  },
  {
   "cell_type": "code",
   "execution_count": 7,
   "id": "4189b0a8-a150-4362-8848-2b9247315c0e",
   "metadata": {
    "execution": {
     "iopub.execute_input": "2024-02-17T05:53:32.787626Z",
     "iopub.status.busy": "2024-02-17T05:53:32.787484Z",
     "iopub.status.idle": "2024-02-17T05:53:32.803471Z",
     "shell.execute_reply": "2024-02-17T05:53:32.802916Z"
    }
   },
   "outputs": [],
   "source": [
    "boundary_spec = td.BoundarySpec(\n",
    "    x=td.Boundary.periodic(),\n",
    "    y=td.Boundary.periodic(),\n",
    "    z=td.Boundary.pml(),\n",
    ")"
   ]
  },
  {
   "cell_type": "markdown",
   "id": "b2604c27-d771-426a-bd86-14690c1324c6",
   "metadata": {},
   "source": [
    "We will track field distribution along the propagation axis."
   ]
  },
  {
   "cell_type": "code",
   "execution_count": 8,
   "id": "4314d437-be3b-4bf3-80d6-6be28b06b2a4",
   "metadata": {
    "execution": {
     "iopub.execute_input": "2024-02-17T05:53:32.805197Z",
     "iopub.status.busy": "2024-02-17T05:53:32.805055Z",
     "iopub.status.idle": "2024-02-17T05:53:32.820848Z",
     "shell.execute_reply": "2024-02-17T05:53:32.820270Z"
    }
   },
   "outputs": [],
   "source": [
    "mnt_xz = td.FieldMonitor(\n",
    "    center=(0, 0, 0),\n",
    "    size=(0, 0, td.inf),\n",
    "    freqs=freqs,\n",
    "    name=\"freq_mnt_xz\",\n",
    ")"
   ]
  },
  {
   "cell_type": "markdown",
   "id": "1cc1958f-6c05-4b2f-ac31-443d680fbc64",
   "metadata": {},
   "source": [
    "Since Tidy3D does not currently support injection of [unidirectional plane waves](../api/_autosummary/tidy3d.PlaneWave.html) into anisotropic material, we use [a uniform current source](../api/_autosummary/tidy3d.UniformCurrentSource.html) to initiate a planar (bidirectional) propagating pulse."
   ]
  },
  {
   "cell_type": "code",
   "execution_count": 9,
   "id": "bcebfa0d-7fb1-422f-b51d-4dad021b62a4",
   "metadata": {
    "execution": {
     "iopub.execute_input": "2024-02-17T05:53:32.822686Z",
     "iopub.status.busy": "2024-02-17T05:53:32.822545Z",
     "iopub.status.idle": "2024-02-17T05:53:32.838279Z",
     "shell.execute_reply": "2024-02-17T05:53:32.837784Z"
    }
   },
   "outputs": [],
   "source": [
    "source = td.UniformCurrentSource(\n",
    "    center=(0, 0, -sim_length/2.5),\n",
    "    size=(td.inf, td.inf, 0),\n",
    "    source_time=td.GaussianPulse(freq0=freq0, fwidth=fwidth),\n",
    "    polarization=\"Ex\",\n",
    ")"
   ]
  },
  {
   "cell_type": "markdown",
   "id": "0686179a-c0dc-47c5-9cb7-03a2f7a79bf6",
   "metadata": {},
   "source": [
    "Use automatic grid discretization based on the requested number of steps per source wavelength."
   ]
  },
  {
   "cell_type": "code",
   "execution_count": 10,
   "id": "f84977a5-03e7-4c6f-b7ca-3aebde9ff6b0",
   "metadata": {
    "execution": {
     "iopub.execute_input": "2024-02-17T05:53:32.840036Z",
     "iopub.status.busy": "2024-02-17T05:53:32.839896Z",
     "iopub.status.idle": "2024-02-17T05:53:32.855370Z",
     "shell.execute_reply": "2024-02-17T05:53:32.854828Z"
    }
   },
   "outputs": [],
   "source": [
    "grid_spec = td.GridSpec.auto(min_steps_per_wvl=30)"
   ]
  },
  {
   "cell_type": "markdown",
   "id": "0512f004-8020-4d31-b6a6-6f63450e3827",
   "metadata": {},
   "source": [
    "Combining defined above components we create two simulation, with and without gyrotropic effect."
   ]
  },
  {
   "cell_type": "code",
   "execution_count": 11,
   "id": "b857a1a9-a632-4e42-b418-c4dc84e2d965",
   "metadata": {
    "execution": {
     "iopub.execute_input": "2024-02-17T05:53:32.857149Z",
     "iopub.status.busy": "2024-02-17T05:53:32.857010Z",
     "iopub.status.idle": "2024-02-17T05:53:32.877352Z",
     "shell.execute_reply": "2024-02-17T05:53:32.876781Z"
    }
   },
   "outputs": [],
   "source": [
    "# Propagation in an unperturbed medium\n",
    "sim_unperturbed = td.Simulation(\n",
    "    size=sim_size,\n",
    "    grid_spec=grid_spec,\n",
    "    medium=medium_unperturbed,\n",
    "    sources=[source],\n",
    "    monitors=[mnt_xz],\n",
    "    run_time=run_time,\n",
    "    boundary_spec=boundary_spec,\n",
    ")\n",
    "\n",
    "# Propagation in a gyrotropic medium\n",
    "sim_gyrotropic = td.Simulation(\n",
    "    size=sim_size,\n",
    "    grid_spec=grid_spec,\n",
    "    medium=medium_gyrotropic,\n",
    "    sources=[source],\n",
    "    monitors=[ mnt_xz],\n",
    "    run_time=run_time,\n",
    "    boundary_spec=boundary_spec,\n",
    ")"
   ]
  },
  {
   "cell_type": "markdown",
   "id": "2a88a310-e64f-40b0-b020-5f27ebd57d26",
   "metadata": {},
   "source": [
    "Visualize simulation for setup confirmation."
   ]
  },
  {
   "cell_type": "code",
   "execution_count": 12,
   "id": "d96d2322-f7e7-4e9c-8b3c-7d557e62f73f",
   "metadata": {
    "execution": {
     "iopub.execute_input": "2024-02-17T05:53:32.879245Z",
     "iopub.status.busy": "2024-02-17T05:53:32.879050Z",
     "iopub.status.idle": "2024-02-17T05:53:32.993842Z",
     "shell.execute_reply": "2024-02-17T05:53:32.993325Z"
    }
   },
   "outputs": [
    {
     "data": {
      "image/png": "[encoded data removed]",
      "text/plain": [
       "<Figure size 200x300 with 1 Axes>"
      ]
     },
     "metadata": {},
     "output_type": "display_data"
    }
   ],
   "source": [
    "_, ax = plt.subplots(1, 1, figsize=(2, 3))\n",
    "sim_gyrotropic.plot(y=0, ax=ax)\n",
    "ax.set_aspect(\"auto\")\n",
    "plt.show()"
   ]
  },
  {
   "cell_type": "markdown",
   "id": "aa094e99-6362-428b-993d-fb49f37767e0",
   "metadata": {},
   "source": [
    "## Results"
   ]
  },
  {
   "cell_type": "markdown",
   "id": "ea0e8bcf-1c1e-4cd3-a24a-0bb4655f16e8",
   "metadata": {},
   "source": [
    "Submit and run simulations on the server."
   ]
  },
  {
   "cell_type": "code",
   "execution_count": 13,
   "id": "ed410168-9199-4b88-93f1-4d89032ab7b0",
   "metadata": {
    "execution": {
     "iopub.execute_input": "2024-02-17T05:53:32.995845Z",
     "iopub.status.busy": "2024-02-17T05:53:32.995641Z",
     "iopub.status.idle": "2024-02-17T05:55:03.481802Z",
     "shell.execute_reply": "2024-02-17T05:55:03.481148Z"
    }
   },
   "outputs": [
    {
     "data": {
      "text/html": [
       "<pre style=\"white-space:pre;overflow-x:auto;line-height:normal;font-family:Menlo,'DejaVu Sans Mono',consolas,'Courier New',monospace\"><span style=\"color: #7fbfbf; text-decoration-color: #7fbfbf\">21:53:33 PST </span>Created task <span style=\"color: #008000; text-decoration-color: #008000\">'gyrotropic_reference'</span> with task_id                   \n",
       "<span style=\"color: #7fbfbf; text-decoration-color: #7fbfbf\">             </span><span style=\"color: #008000; text-decoration-color: #008000\">'fdve-265c1861-5336-4229-a6be-fcf285297e12'</span> and task_type <span style=\"color: #008000; text-decoration-color: #008000\">'FDTD'</span>.  \n",
       "</pre>\n"
      ],
      "text/plain": [
       "\u001b[2;36m21:53:33 PST\u001b[0m\u001b[2;36m \u001b[0mCreated task \u001b[32m'gyrotropic_reference'\u001b[0m with task_id                   \n",
       "\u001b[2;36m             \u001b[0m\u001b[32m'fdve-265c1861-5336-4229-a6be-fcf285297e12'\u001b[0m and task_type \u001b[32m'FDTD'\u001b[0m.  \n"
      ]
     },
     "metadata": {},
     "output_type": "display_data"
    },
    {
     "data": {
      "text/html": [
       "<pre style=\"white-space:pre;overflow-x:auto;line-height:normal;font-family:Menlo,'DejaVu Sans Mono',consolas,'Courier New',monospace\"><span style=\"color: #7fbfbf; text-decoration-color: #7fbfbf\">             </span>View task using web UI at                                          \n",
       "<span style=\"color: #7fbfbf; text-decoration-color: #7fbfbf\">             </span><a href=\"https://tidy3d.simulation.cloud/workbench?taskId=fdve-265c1861-5336-4229-a6be-fcf285297e12\" target=\"_blank\"><span style=\"color: #008000; text-decoration-color: #008000\">'https://tidy3d.simulation.cloud/workbench?taskId=fdve-265c1861-533</span></a>\n",
       "<span style=\"color: #7fbfbf; text-decoration-color: #7fbfbf\">             </span><a href=\"https://tidy3d.simulation.cloud/workbench?taskId=fdve-265c1861-5336-4229-a6be-fcf285297e12\" target=\"_blank\"><span style=\"color: #008000; text-decoration-color: #008000\">6-4229-a6be-fcf285297e12'</span></a>.                                         \n",
       "</pre>\n"
      ],
      "text/plain": [
       "\u001b[2;36m            \u001b[0m\u001b[2;36m \u001b[0mView task using web UI at                                          \n",
       "\u001b[2;36m             \u001b[0m\u001b]8;id=688054;https://tidy3d.simulation.cloud/workbench?taskId=fdve-265c1861-5336-4229-a6be-fcf285297e12\u001b\\\u001b[32m'https://tidy3d.simulation.cloud/workbench?\u001b[0m\u001b]8;;\u001b\\\u001b]8;id=79089;https://tidy3d.simulation.cloud/workbench?taskId=fdve-265c1861-5336-4229-a6be-fcf285297e12\u001b\\\u001b[32mtaskId\u001b[0m\u001b]8;;\u001b\\\u001b]8;id=688054;https://tidy3d.simulation.cloud/workbench?taskId=fdve-265c1861-5336-4229-a6be-fcf285297e12\u001b\\\u001b[32m=\u001b[0m\u001b]8;;\u001b\\\u001b]8;id=763105;https://tidy3d.simulation.cloud/workbench?taskId=fdve-265c1861-5336-4229-a6be-fcf285297e12\u001b\\\u001b[32mfdve\u001b[0m\u001b]8;;\u001b\\\u001b]8;id=688054;https://tidy3d.simulation.cloud/workbench?taskId=fdve-265c1861-5336-4229-a6be-fcf285297e12\u001b\\\u001b[32m-265c1861-533\u001b[0m\u001b]8;;\u001b\\\n",
       "\u001b[2;36m             \u001b[0m\u001b]8;id=688054;https://tidy3d.simulation.cloud/workbench?taskId=fdve-265c1861-5336-4229-a6be-fcf285297e12\u001b\\\u001b[32m6-4229-a6be-fcf285297e12'\u001b[0m\u001b]8;;\u001b\\.                                         \n"
      ]
     },
     "metadata": {},
     "output_type": "display_data"
    },
    {
     "data": {
      "application/vnd.jupyter.widget-view+json": {
       "model_id": "2a4bb3bc1c2c489596b678b7a6eeb8b6",
       "version_major": 2,
       "version_minor": 0
      },
      "text/plain": [
       "Output()"
      ]
     },
     "metadata": {},
     "output_type": "display_data"
    },
    {
     "data": {
      "text/html": [
       "<pre style=\"white-space:pre;overflow-x:auto;line-height:normal;font-family:Menlo,'DejaVu Sans Mono',consolas,'Courier New',monospace\"></pre>\n"
      ],
      "text/plain": []
     },
     "metadata": {},
     "output_type": "display_data"
    },
    {
     "data": {
      "text/html": [
       "<pre style=\"white-space:pre;overflow-x:auto;line-height:normal;font-family:Menlo,'DejaVu Sans Mono',consolas,'Courier New',monospace\">\n",
       "</pre>\n"
      ],
      "text/plain": [
       "\n"
      ]
     },
     "metadata": {},
     "output_type": "display_data"
    },
    {
     "data": {
      "text/html": [
       "<pre style=\"white-space:pre;overflow-x:auto;line-height:normal;font-family:Menlo,'DejaVu Sans Mono',consolas,'Courier New',monospace\"><span style=\"color: #7fbfbf; text-decoration-color: #7fbfbf\">21:54:34 PST </span>status = queued                                                    \n",
       "</pre>\n"
      ],
      "text/plain": [
       "\u001b[2;36m21:54:34 PST\u001b[0m\u001b[2;36m \u001b[0mstatus = queued                                                    \n"
      ]
     },
     "metadata": {},
     "output_type": "display_data"
    },
    {
     "data": {
      "application/vnd.jupyter.widget-view+json": {
       "model_id": "bb62d89a561c4e77a9a4182ecf7fb04a",
       "version_major": 2,
       "version_minor": 0
      },
      "text/plain": [
       "Output()"
      ]
     },
     "metadata": {},
     "output_type": "display_data"
    },
    {
     "data": {
      "text/html": [
       "<pre style=\"white-space:pre;overflow-x:auto;line-height:normal;font-family:Menlo,'DejaVu Sans Mono',consolas,'Courier New',monospace\"><span style=\"color: #7fbfbf; text-decoration-color: #7fbfbf\">21:54:40 PST </span>status = preprocess                                                \n",
       "</pre>\n"
      ],
      "text/plain": [
       "\u001b[2;36m21:54:40 PST\u001b[0m\u001b[2;36m \u001b[0mstatus = preprocess                                                \n"
      ]
     },
     "metadata": {},
     "output_type": "display_data"
    },
    {
     "data": {
      "text/html": [
       "<pre style=\"white-space:pre;overflow-x:auto;line-height:normal;font-family:Menlo,'DejaVu Sans Mono',consolas,'Courier New',monospace\"></pre>\n"
      ],
      "text/plain": []
     },
     "metadata": {},
     "output_type": "display_data"
    },
    {
     "data": {
      "text/html": [
       "<pre style=\"white-space:pre;overflow-x:auto;line-height:normal;font-family:Menlo,'DejaVu Sans Mono',consolas,'Courier New',monospace\"><span style=\"color: #7fbfbf; text-decoration-color: #7fbfbf\">21:54:41 PST </span>Maximum FlexCredit cost: <span style=\"color: #008080; text-decoration-color: #008080; font-weight: bold\">0.025</span>. Use <span style=\"color: #008000; text-decoration-color: #008000\">'web.real_cost(task_id)'</span> to get\n",
       "<span style=\"color: #7fbfbf; text-decoration-color: #7fbfbf\">             </span>the billed FlexCredit cost after a simulation run.                 \n",
       "</pre>\n"
      ],
      "text/plain": [
       "\u001b[2;36m21:54:41 PST\u001b[0m\u001b[2;36m \u001b[0mMaximum FlexCredit cost: \u001b[1;36m0.025\u001b[0m. Use \u001b[32m'web.real_cost\u001b[0m\u001b[32m(\u001b[0m\u001b[32mtask_id\u001b[0m\u001b[32m)\u001b[0m\u001b[32m'\u001b[0m to get\n",
       "\u001b[2;36m             \u001b[0mthe billed FlexCredit cost after a simulation run.                 \n"
      ]
     },
     "metadata": {},
     "output_type": "display_data"
    },
    {
     "data": {
      "text/html": [
       "<pre style=\"white-space:pre;overflow-x:auto;line-height:normal;font-family:Menlo,'DejaVu Sans Mono',consolas,'Courier New',monospace\"><span style=\"color: #7fbfbf; text-decoration-color: #7fbfbf\">             </span>starting up solver                                                 \n",
       "</pre>\n"
      ],
      "text/plain": [
       "\u001b[2;36m            \u001b[0m\u001b[2;36m \u001b[0mstarting up solver                                                 \n"
      ]
     },
     "metadata": {},
     "output_type": "display_data"
    },
    {
     "data": {
      "text/html": [
       "<pre style=\"white-space:pre;overflow-x:auto;line-height:normal;font-family:Menlo,'DejaVu Sans Mono',consolas,'Courier New',monospace\"><span style=\"color: #7fbfbf; text-decoration-color: #7fbfbf\">             </span>running solver                                                     \n",
       "</pre>\n"
      ],
      "text/plain": [
       "\u001b[2;36m            \u001b[0m\u001b[2;36m \u001b[0mrunning solver                                                     \n"
      ]
     },
     "metadata": {},
     "output_type": "display_data"
    },
    {
     "data": {
      "text/html": [
       "<pre style=\"white-space:pre;overflow-x:auto;line-height:normal;font-family:Menlo,'DejaVu Sans Mono',consolas,'Courier New',monospace\"><span style=\"color: #7fbfbf; text-decoration-color: #7fbfbf\">             </span>To cancel the simulation, use <span style=\"color: #008000; text-decoration-color: #008000\">'web.abort(task_id)'</span> or              \n",
       "<span style=\"color: #7fbfbf; text-decoration-color: #7fbfbf\">             </span><span style=\"color: #008000; text-decoration-color: #008000\">'web.delete(task_id)'</span> or abort/delete the task in the web UI.      \n",
       "<span style=\"color: #7fbfbf; text-decoration-color: #7fbfbf\">             </span>Terminating the Python script will not stop the job running on the \n",
       "<span style=\"color: #7fbfbf; text-decoration-color: #7fbfbf\">             </span>cloud.                                                             \n",
       "</pre>\n"
      ],
      "text/plain": [
       "\u001b[2;36m            \u001b[0m\u001b[2;36m \u001b[0mTo cancel the simulation, use \u001b[32m'web.abort\u001b[0m\u001b[32m(\u001b[0m\u001b[32mtask_id\u001b[0m\u001b[32m)\u001b[0m\u001b[32m'\u001b[0m or              \n",
       "\u001b[2;36m             \u001b[0m\u001b[32m'web.delete\u001b[0m\u001b[32m(\u001b[0m\u001b[32mtask_id\u001b[0m\u001b[32m)\u001b[0m\u001b[32m'\u001b[0m or abort/delete the task in the web UI.      \n",
       "\u001b[2;36m             \u001b[0mTerminating the Python script will not stop the job running on the \n",
       "\u001b[2;36m             \u001b[0mcloud.                                                             \n"
      ]
     },
     "metadata": {},
     "output_type": "display_data"
    },
    {
     "data": {
      "application/vnd.jupyter.widget-view+json": {
       "model_id": "a8209cdf8ad24e229de24d4057c3d01e",
       "version_major": 2,
       "version_minor": 0
      },
      "text/plain": [
       "Output()"
      ]
     },
     "metadata": {},
     "output_type": "display_data"
    },
    {
     "data": {
      "text/html": [
       "<pre style=\"white-space:pre;overflow-x:auto;line-height:normal;font-family:Menlo,'DejaVu Sans Mono',consolas,'Courier New',monospace\"><span style=\"color: #7fbfbf; text-decoration-color: #7fbfbf\">21:54:46 PST </span>early shutoff detected at <span style=\"color: #008080; text-decoration-color: #008080; font-weight: bold\">28</span>%, exiting.                            \n",
       "</pre>\n"
      ],
      "text/plain": [
       "\u001b[2;36m21:54:46 PST\u001b[0m\u001b[2;36m \u001b[0mearly shutoff detected at \u001b[1;36m28\u001b[0m%, exiting.                            \n"
      ]
     },
     "metadata": {},
     "output_type": "display_data"
    },
    {
     "data": {
      "text/html": [
       "<pre style=\"white-space:pre;overflow-x:auto;line-height:normal;font-family:Menlo,'DejaVu Sans Mono',consolas,'Courier New',monospace\"></pre>\n"
      ],
      "text/plain": []
     },
     "metadata": {},
     "output_type": "display_data"
    },
    {
     "data": {
      "text/html": [
       "<pre style=\"white-space:pre;overflow-x:auto;line-height:normal;font-family:Menlo,'DejaVu Sans Mono',consolas,'Courier New',monospace\">\n",
       "</pre>\n"
      ],
      "text/plain": [
       "\n"
      ]
     },
     "metadata": {},
     "output_type": "display_data"
    },
    {
     "data": {
      "text/html": [
       "<pre style=\"white-space:pre;overflow-x:auto;line-height:normal;font-family:Menlo,'DejaVu Sans Mono',consolas,'Courier New',monospace\"><span style=\"color: #7fbfbf; text-decoration-color: #7fbfbf\">             </span>status = postprocess                                               \n",
       "</pre>\n"
      ],
      "text/plain": [
       "\u001b[2;36m            \u001b[0m\u001b[2;36m \u001b[0mstatus = postprocess                                               \n"
      ]
     },
     "metadata": {},
     "output_type": "display_data"
    },
    {
     "data": {
      "application/vnd.jupyter.widget-view+json": {
       "model_id": "c9151fc77ed342048c1028090e8cf784",
       "version_major": 2,
       "version_minor": 0
      },
      "text/plain": [
       "Output()"
      ]
     },
     "metadata": {},
     "output_type": "display_data"
    },
    {
     "data": {
      "text/html": [
       "<pre style=\"white-space:pre;overflow-x:auto;line-height:normal;font-family:Menlo,'DejaVu Sans Mono',consolas,'Courier New',monospace\"><span style=\"color: #7fbfbf; text-decoration-color: #7fbfbf\">21:54:48 PST </span>status = success                                                   \n",
       "</pre>\n"
      ],
      "text/plain": [
       "\u001b[2;36m21:54:48 PST\u001b[0m\u001b[2;36m \u001b[0mstatus = success                                                   \n"
      ]
     },
     "metadata": {},
     "output_type": "display_data"
    },
    {
     "data": {
      "text/html": [
       "<pre style=\"white-space:pre;overflow-x:auto;line-height:normal;font-family:Menlo,'DejaVu Sans Mono',consolas,'Courier New',monospace\"></pre>\n"
      ],
      "text/plain": []
     },
     "metadata": {},
     "output_type": "display_data"
    },
    {
     "data": {
      "text/html": [
       "<pre style=\"white-space:pre;overflow-x:auto;line-height:normal;font-family:Menlo,'DejaVu Sans Mono',consolas,'Courier New',monospace\"><span style=\"color: #7fbfbf; text-decoration-color: #7fbfbf\">21:54:49 PST </span>View simulation result at                                          \n",
       "<span style=\"color: #7fbfbf; text-decoration-color: #7fbfbf\">             </span><a href=\"https://tidy3d.simulation.cloud/workbench?taskId=fdve-265c1861-5336-4229-a6be-fcf285297e12\" target=\"_blank\"><span style=\"color: #000080; text-decoration-color: #000080; text-decoration: underline\">'https://tidy3d.simulation.cloud/workbench?taskId=fdve-265c1861-533</span></a>\n",
       "<span style=\"color: #7fbfbf; text-decoration-color: #7fbfbf\">             </span><a href=\"https://tidy3d.simulation.cloud/workbench?taskId=fdve-265c1861-5336-4229-a6be-fcf285297e12\" target=\"_blank\"><span style=\"color: #000080; text-decoration-color: #000080; text-decoration: underline\">6-4229-a6be-fcf285297e12'</span></a><span style=\"color: #000080; text-decoration-color: #000080; text-decoration: underline\">.</span>                                         \n",
       "</pre>\n"
      ],
      "text/plain": [
       "\u001b[2;36m21:54:49 PST\u001b[0m\u001b[2;36m \u001b[0mView simulation result at                                          \n",
       "\u001b[2;36m             \u001b[0m\u001b]8;id=383879;https://tidy3d.simulation.cloud/workbench?taskId=fdve-265c1861-5336-4229-a6be-fcf285297e12\u001b\\\u001b[4;34m'https://tidy3d.simulation.cloud/workbench?\u001b[0m\u001b]8;;\u001b\\\u001b]8;id=598393;https://tidy3d.simulation.cloud/workbench?taskId=fdve-265c1861-5336-4229-a6be-fcf285297e12\u001b\\\u001b[4;34mtaskId\u001b[0m\u001b]8;;\u001b\\\u001b]8;id=383879;https://tidy3d.simulation.cloud/workbench?taskId=fdve-265c1861-5336-4229-a6be-fcf285297e12\u001b\\\u001b[4;34m=\u001b[0m\u001b]8;;\u001b\\\u001b]8;id=379420;https://tidy3d.simulation.cloud/workbench?taskId=fdve-265c1861-5336-4229-a6be-fcf285297e12\u001b\\\u001b[4;34mfdve\u001b[0m\u001b]8;;\u001b\\\u001b]8;id=383879;https://tidy3d.simulation.cloud/workbench?taskId=fdve-265c1861-5336-4229-a6be-fcf285297e12\u001b\\\u001b[4;34m-265c1861-533\u001b[0m\u001b]8;;\u001b\\\n",
       "\u001b[2;36m             \u001b[0m\u001b]8;id=383879;https://tidy3d.simulation.cloud/workbench?taskId=fdve-265c1861-5336-4229-a6be-fcf285297e12\u001b\\\u001b[4;34m6-4229-a6be-fcf285297e12'\u001b[0m\u001b]8;;\u001b\\\u001b[4;34m.\u001b[0m                                         \n"
      ]
     },
     "metadata": {},
     "output_type": "display_data"
    },
    {
     "data": {
      "application/vnd.jupyter.widget-view+json": {
       "model_id": "3826528b132a400a8e9cb8ef6ca9356c",
       "version_major": 2,
       "version_minor": 0
      },
      "text/plain": [
       "Output()"
      ]
     },
     "metadata": {},
     "output_type": "display_data"
    },
    {
     "data": {
      "text/html": [
       "<pre style=\"white-space:pre;overflow-x:auto;line-height:normal;font-family:Menlo,'DejaVu Sans Mono',consolas,'Courier New',monospace\"></pre>\n"
      ],
      "text/plain": []
     },
     "metadata": {},
     "output_type": "display_data"
    },
    {
     "data": {
      "text/html": [
       "<pre style=\"white-space:pre;overflow-x:auto;line-height:normal;font-family:Menlo,'DejaVu Sans Mono',consolas,'Courier New',monospace\">\n",
       "</pre>\n"
      ],
      "text/plain": [
       "\n"
      ]
     },
     "metadata": {},
     "output_type": "display_data"
    },
    {
     "data": {
      "text/html": [
       "<pre style=\"white-space:pre;overflow-x:auto;line-height:normal;font-family:Menlo,'DejaVu Sans Mono',consolas,'Courier New',monospace\"><span style=\"color: #7fbfbf; text-decoration-color: #7fbfbf\">             </span>loading simulation from data/simulation_data_gyrotropic_ref.hdf5   \n",
       "</pre>\n"
      ],
      "text/plain": [
       "\u001b[2;36m            \u001b[0m\u001b[2;36m \u001b[0mloading simulation from data/simulation_data_gyrotropic_ref.hdf5   \n"
      ]
     },
     "metadata": {},
     "output_type": "display_data"
    },
    {
     "data": {
      "text/html": [
       "<pre style=\"white-space:pre;overflow-x:auto;line-height:normal;font-family:Menlo,'DejaVu Sans Mono',consolas,'Courier New',monospace\"><span style=\"color: #7fbfbf; text-decoration-color: #7fbfbf\">             </span>Created task <span style=\"color: #008000; text-decoration-color: #008000\">'gyrotropic'</span> with task_id                             \n",
       "<span style=\"color: #7fbfbf; text-decoration-color: #7fbfbf\">             </span><span style=\"color: #008000; text-decoration-color: #008000\">'fdve-10d76953-cd1d-4810-99f7-72a5d4f05541'</span> and task_type <span style=\"color: #008000; text-decoration-color: #008000\">'FDTD'</span>.  \n",
       "</pre>\n"
      ],
      "text/plain": [
       "\u001b[2;36m            \u001b[0m\u001b[2;36m \u001b[0mCreated task \u001b[32m'gyrotropic'\u001b[0m with task_id                             \n",
       "\u001b[2;36m             \u001b[0m\u001b[32m'fdve-10d76953-cd1d-4810-99f7-72a5d4f05541'\u001b[0m and task_type \u001b[32m'FDTD'\u001b[0m.  \n"
      ]
     },
     "metadata": {},
     "output_type": "display_data"
    },
    {
     "data": {
      "text/html": [
       "<pre style=\"white-space:pre;overflow-x:auto;line-height:normal;font-family:Menlo,'DejaVu Sans Mono',consolas,'Courier New',monospace\"><span style=\"color: #7fbfbf; text-decoration-color: #7fbfbf\">             </span>View task using web UI at                                          \n",
       "<span style=\"color: #7fbfbf; text-decoration-color: #7fbfbf\">             </span><a href=\"https://tidy3d.simulation.cloud/workbench?taskId=fdve-10d76953-cd1d-4810-99f7-72a5d4f05541\" target=\"_blank\"><span style=\"color: #008000; text-decoration-color: #008000\">'https://tidy3d.simulation.cloud/workbench?taskId=fdve-10d76953-cd1</span></a>\n",
       "<span style=\"color: #7fbfbf; text-decoration-color: #7fbfbf\">             </span><a href=\"https://tidy3d.simulation.cloud/workbench?taskId=fdve-10d76953-cd1d-4810-99f7-72a5d4f05541\" target=\"_blank\"><span style=\"color: #008000; text-decoration-color: #008000\">d-4810-99f7-72a5d4f05541'</span></a>.                                         \n",
       "</pre>\n"
      ],
      "text/plain": [
       "\u001b[2;36m            \u001b[0m\u001b[2;36m \u001b[0mView task using web UI at                                          \n",
       "\u001b[2;36m             \u001b[0m\u001b]8;id=506188;https://tidy3d.simulation.cloud/workbench?taskId=fdve-10d76953-cd1d-4810-99f7-72a5d4f05541\u001b\\\u001b[32m'https://tidy3d.simulation.cloud/workbench?\u001b[0m\u001b]8;;\u001b\\\u001b]8;id=36769;https://tidy3d.simulation.cloud/workbench?taskId=fdve-10d76953-cd1d-4810-99f7-72a5d4f05541\u001b\\\u001b[32mtaskId\u001b[0m\u001b]8;;\u001b\\\u001b]8;id=506188;https://tidy3d.simulation.cloud/workbench?taskId=fdve-10d76953-cd1d-4810-99f7-72a5d4f05541\u001b\\\u001b[32m=\u001b[0m\u001b]8;;\u001b\\\u001b]8;id=473905;https://tidy3d.simulation.cloud/workbench?taskId=fdve-10d76953-cd1d-4810-99f7-72a5d4f05541\u001b\\\u001b[32mfdve\u001b[0m\u001b]8;;\u001b\\\u001b]8;id=506188;https://tidy3d.simulation.cloud/workbench?taskId=fdve-10d76953-cd1d-4810-99f7-72a5d4f05541\u001b\\\u001b[32m-10d76953-cd1\u001b[0m\u001b]8;;\u001b\\\n",
       "\u001b[2;36m             \u001b[0m\u001b]8;id=506188;https://tidy3d.simulation.cloud/workbench?taskId=fdve-10d76953-cd1d-4810-99f7-72a5d4f05541\u001b\\\u001b[32md-4810-99f7-72a5d4f05541'\u001b[0m\u001b]8;;\u001b\\.                                         \n"
      ]
     },
     "metadata": {},
     "output_type": "display_data"
    },
    {
     "data": {
      "application/vnd.jupyter.widget-view+json": {
       "model_id": "1f784d9887a249348c2a83b174276690",
       "version_major": 2,
       "version_minor": 0
      },
      "text/plain": [
       "Output()"
      ]
     },
     "metadata": {},
     "output_type": "display_data"
    },
    {
     "data": {
      "text/html": [
       "<pre style=\"white-space:pre;overflow-x:auto;line-height:normal;font-family:Menlo,'DejaVu Sans Mono',consolas,'Courier New',monospace\"></pre>\n"
      ],
      "text/plain": []
     },
     "metadata": {},
     "output_type": "display_data"
    },
    {
     "data": {
      "text/html": [
       "<pre style=\"white-space:pre;overflow-x:auto;line-height:normal;font-family:Menlo,'DejaVu Sans Mono',consolas,'Courier New',monospace\">\n",
       "</pre>\n"
      ],
      "text/plain": [
       "\n"
      ]
     },
     "metadata": {},
     "output_type": "display_data"
    },
    {
     "data": {
      "text/html": [
       "<pre style=\"white-space:pre;overflow-x:auto;line-height:normal;font-family:Menlo,'DejaVu Sans Mono',consolas,'Courier New',monospace\"><span style=\"color: #7fbfbf; text-decoration-color: #7fbfbf\">21:54:50 PST </span>status = queued                                                    \n",
       "</pre>\n"
      ],
      "text/plain": [
       "\u001b[2;36m21:54:50 PST\u001b[0m\u001b[2;36m \u001b[0mstatus = queued                                                    \n"
      ]
     },
     "metadata": {},
     "output_type": "display_data"
    },
    {
     "data": {
      "application/vnd.jupyter.widget-view+json": {
       "model_id": "927d450589834ba5a6a61c82f7e9af90",
       "version_major": 2,
       "version_minor": 0
      },
      "text/plain": [
       "Output()"
      ]
     },
     "metadata": {},
     "output_type": "display_data"
    },
    {
     "data": {
      "text/html": [
       "<pre style=\"white-space:pre;overflow-x:auto;line-height:normal;font-family:Menlo,'DejaVu Sans Mono',consolas,'Courier New',monospace\"><span style=\"color: #7fbfbf; text-decoration-color: #7fbfbf\">21:54:54 PST </span>status = preprocess                                                \n",
       "</pre>\n"
      ],
      "text/plain": [
       "\u001b[2;36m21:54:54 PST\u001b[0m\u001b[2;36m \u001b[0mstatus = preprocess                                                \n"
      ]
     },
     "metadata": {},
     "output_type": "display_data"
    },
    {
     "data": {
      "text/html": [
       "<pre style=\"white-space:pre;overflow-x:auto;line-height:normal;font-family:Menlo,'DejaVu Sans Mono',consolas,'Courier New',monospace\"></pre>\n"
      ],
      "text/plain": []
     },
     "metadata": {},
     "output_type": "display_data"
    },
    {
     "data": {
      "text/html": [
       "<pre style=\"white-space:pre;overflow-x:auto;line-height:normal;font-family:Menlo,'DejaVu Sans Mono',consolas,'Courier New',monospace\"><span style=\"color: #7fbfbf; text-decoration-color: #7fbfbf\">21:54:55 PST </span>Maximum FlexCredit cost: <span style=\"color: #008080; text-decoration-color: #008080; font-weight: bold\">0.025</span>. Use <span style=\"color: #008000; text-decoration-color: #008000\">'web.real_cost(task_id)'</span> to get\n",
       "<span style=\"color: #7fbfbf; text-decoration-color: #7fbfbf\">             </span>the billed FlexCredit cost after a simulation run.                 \n",
       "</pre>\n"
      ],
      "text/plain": [
       "\u001b[2;36m21:54:55 PST\u001b[0m\u001b[2;36m \u001b[0mMaximum FlexCredit cost: \u001b[1;36m0.025\u001b[0m. Use \u001b[32m'web.real_cost\u001b[0m\u001b[32m(\u001b[0m\u001b[32mtask_id\u001b[0m\u001b[32m)\u001b[0m\u001b[32m'\u001b[0m to get\n",
       "\u001b[2;36m             \u001b[0mthe billed FlexCredit cost after a simulation run.                 \n"
      ]
     },
     "metadata": {},
     "output_type": "display_data"
    },
    {
     "data": {
      "text/html": [
       "<pre style=\"white-space:pre;overflow-x:auto;line-height:normal;font-family:Menlo,'DejaVu Sans Mono',consolas,'Courier New',monospace\"><span style=\"color: #7fbfbf; text-decoration-color: #7fbfbf\">             </span>starting up solver                                                 \n",
       "</pre>\n"
      ],
      "text/plain": [
       "\u001b[2;36m            \u001b[0m\u001b[2;36m \u001b[0mstarting up solver                                                 \n"
      ]
     },
     "metadata": {},
     "output_type": "display_data"
    },
    {
     "data": {
      "text/html": [
       "<pre style=\"white-space:pre;overflow-x:auto;line-height:normal;font-family:Menlo,'DejaVu Sans Mono',consolas,'Courier New',monospace\"><span style=\"color: #7fbfbf; text-decoration-color: #7fbfbf\">             </span>running solver                                                     \n",
       "</pre>\n"
      ],
      "text/plain": [
       "\u001b[2;36m            \u001b[0m\u001b[2;36m \u001b[0mrunning solver                                                     \n"
      ]
     },
     "metadata": {},
     "output_type": "display_data"
    },
    {
     "data": {
      "text/html": [
       "<pre style=\"white-space:pre;overflow-x:auto;line-height:normal;font-family:Menlo,'DejaVu Sans Mono',consolas,'Courier New',monospace\"><span style=\"color: #7fbfbf; text-decoration-color: #7fbfbf\">             </span>To cancel the simulation, use <span style=\"color: #008000; text-decoration-color: #008000\">'web.abort(task_id)'</span> or              \n",
       "<span style=\"color: #7fbfbf; text-decoration-color: #7fbfbf\">             </span><span style=\"color: #008000; text-decoration-color: #008000\">'web.delete(task_id)'</span> or abort/delete the task in the web UI.      \n",
       "<span style=\"color: #7fbfbf; text-decoration-color: #7fbfbf\">             </span>Terminating the Python script will not stop the job running on the \n",
       "<span style=\"color: #7fbfbf; text-decoration-color: #7fbfbf\">             </span>cloud.                                                             \n",
       "</pre>\n"
      ],
      "text/plain": [
       "\u001b[2;36m            \u001b[0m\u001b[2;36m \u001b[0mTo cancel the simulation, use \u001b[32m'web.abort\u001b[0m\u001b[32m(\u001b[0m\u001b[32mtask_id\u001b[0m\u001b[32m)\u001b[0m\u001b[32m'\u001b[0m or              \n",
       "\u001b[2;36m             \u001b[0m\u001b[32m'web.delete\u001b[0m\u001b[32m(\u001b[0m\u001b[32mtask_id\u001b[0m\u001b[32m)\u001b[0m\u001b[32m'\u001b[0m or abort/delete the task in the web UI.      \n",
       "\u001b[2;36m             \u001b[0mTerminating the Python script will not stop the job running on the \n",
       "\u001b[2;36m             \u001b[0mcloud.                                                             \n"
      ]
     },
     "metadata": {},
     "output_type": "display_data"
    },
    {
     "data": {
      "application/vnd.jupyter.widget-view+json": {
       "model_id": "910e2dab3fcd4a7782ca0b395e4869da",
       "version_major": 2,
       "version_minor": 0
      },
      "text/plain": [
       "Output()"
      ]
     },
     "metadata": {},
     "output_type": "display_data"
    },
    {
     "data": {
      "text/html": [
       "<pre style=\"white-space:pre;overflow-x:auto;line-height:normal;font-family:Menlo,'DejaVu Sans Mono',consolas,'Courier New',monospace\"><span style=\"color: #7fbfbf; text-decoration-color: #7fbfbf\">21:55:00 PST </span>early shutoff detected at <span style=\"color: #008080; text-decoration-color: #008080; font-weight: bold\">28</span>%, exiting.                            \n",
       "</pre>\n"
      ],
      "text/plain": [
       "\u001b[2;36m21:55:00 PST\u001b[0m\u001b[2;36m \u001b[0mearly shutoff detected at \u001b[1;36m28\u001b[0m%, exiting.                            \n"
      ]
     },
     "metadata": {},
     "output_type": "display_data"
    },
    {
     "data": {
      "text/html": [
       "<pre style=\"white-space:pre;overflow-x:auto;line-height:normal;font-family:Menlo,'DejaVu Sans Mono',consolas,'Courier New',monospace\"></pre>\n"
      ],
      "text/plain": []
     },
     "metadata": {},
     "output_type": "display_data"
    },
    {
     "data": {
      "text/html": [
       "<pre style=\"white-space:pre;overflow-x:auto;line-height:normal;font-family:Menlo,'DejaVu Sans Mono',consolas,'Courier New',monospace\">\n",
       "</pre>\n"
      ],
      "text/plain": [
       "\n"
      ]
     },
     "metadata": {},
     "output_type": "display_data"
    },
    {
     "data": {
      "text/html": [
       "<pre style=\"white-space:pre;overflow-x:auto;line-height:normal;font-family:Menlo,'DejaVu Sans Mono',consolas,'Courier New',monospace\"><span style=\"color: #7fbfbf; text-decoration-color: #7fbfbf\">             </span>status = postprocess                                               \n",
       "</pre>\n"
      ],
      "text/plain": [
       "\u001b[2;36m            \u001b[0m\u001b[2;36m \u001b[0mstatus = postprocess                                               \n"
      ]
     },
     "metadata": {},
     "output_type": "display_data"
    },
    {
     "data": {
      "application/vnd.jupyter.widget-view+json": {
       "model_id": "bd15ab8bd3244954ab42f65312d3aff5",
       "version_major": 2,
       "version_minor": 0
      },
      "text/plain": [
       "Output()"
      ]
     },
     "metadata": {},
     "output_type": "display_data"
    },
    {
     "data": {
      "text/html": [
       "<pre style=\"white-space:pre;overflow-x:auto;line-height:normal;font-family:Menlo,'DejaVu Sans Mono',consolas,'Courier New',monospace\"><span style=\"color: #7fbfbf; text-decoration-color: #7fbfbf\">21:55:02 PST </span>status = success                                                   \n",
       "</pre>\n"
      ],
      "text/plain": [
       "\u001b[2;36m21:55:02 PST\u001b[0m\u001b[2;36m \u001b[0mstatus = success                                                   \n"
      ]
     },
     "metadata": {},
     "output_type": "display_data"
    },
    {
     "data": {
      "text/html": [
       "<pre style=\"white-space:pre;overflow-x:auto;line-height:normal;font-family:Menlo,'DejaVu Sans Mono',consolas,'Courier New',monospace\"></pre>\n"
      ],
      "text/plain": []
     },
     "metadata": {},
     "output_type": "display_data"
    },
    {
     "data": {
      "text/html": [
       "<pre style=\"white-space:pre;overflow-x:auto;line-height:normal;font-family:Menlo,'DejaVu Sans Mono',consolas,'Courier New',monospace\"><span style=\"color: #7fbfbf; text-decoration-color: #7fbfbf\">             </span>View simulation result at                                          \n",
       "<span style=\"color: #7fbfbf; text-decoration-color: #7fbfbf\">             </span><a href=\"https://tidy3d.simulation.cloud/workbench?taskId=fdve-10d76953-cd1d-4810-99f7-72a5d4f05541\" target=\"_blank\"><span style=\"color: #000080; text-decoration-color: #000080; text-decoration: underline\">'https://tidy3d.simulation.cloud/workbench?taskId=fdve-10d76953-cd1</span></a>\n",
       "<span style=\"color: #7fbfbf; text-decoration-color: #7fbfbf\">             </span><a href=\"https://tidy3d.simulation.cloud/workbench?taskId=fdve-10d76953-cd1d-4810-99f7-72a5d4f05541\" target=\"_blank\"><span style=\"color: #000080; text-decoration-color: #000080; text-decoration: underline\">d-4810-99f7-72a5d4f05541'</span></a><span style=\"color: #000080; text-decoration-color: #000080; text-decoration: underline\">.</span>                                         \n",
       "</pre>\n"
      ],
      "text/plain": [
       "\u001b[2;36m            \u001b[0m\u001b[2;36m \u001b[0mView simulation result at                                          \n",
       "\u001b[2;36m             \u001b[0m\u001b]8;id=628070;https://tidy3d.simulation.cloud/workbench?taskId=fdve-10d76953-cd1d-4810-99f7-72a5d4f05541\u001b\\\u001b[4;34m'https://tidy3d.simulation.cloud/workbench?\u001b[0m\u001b]8;;\u001b\\\u001b]8;id=955233;https://tidy3d.simulation.cloud/workbench?taskId=fdve-10d76953-cd1d-4810-99f7-72a5d4f05541\u001b\\\u001b[4;34mtaskId\u001b[0m\u001b]8;;\u001b\\\u001b]8;id=628070;https://tidy3d.simulation.cloud/workbench?taskId=fdve-10d76953-cd1d-4810-99f7-72a5d4f05541\u001b\\\u001b[4;34m=\u001b[0m\u001b]8;;\u001b\\\u001b]8;id=98374;https://tidy3d.simulation.cloud/workbench?taskId=fdve-10d76953-cd1d-4810-99f7-72a5d4f05541\u001b\\\u001b[4;34mfdve\u001b[0m\u001b]8;;\u001b\\\u001b]8;id=628070;https://tidy3d.simulation.cloud/workbench?taskId=fdve-10d76953-cd1d-4810-99f7-72a5d4f05541\u001b\\\u001b[4;34m-10d76953-cd1\u001b[0m\u001b]8;;\u001b\\\n",
       "\u001b[2;36m             \u001b[0m\u001b]8;id=628070;https://tidy3d.simulation.cloud/workbench?taskId=fdve-10d76953-cd1d-4810-99f7-72a5d4f05541\u001b\\\u001b[4;34md-4810-99f7-72a5d4f05541'\u001b[0m\u001b]8;;\u001b\\\u001b[4;34m.\u001b[0m                                         \n"
      ]
     },
     "metadata": {},
     "output_type": "display_data"
    },
    {
     "data": {
      "application/vnd.jupyter.widget-view+json": {
       "model_id": "26124c20ab2e491e97917a0258ee6053",
       "version_major": 2,
       "version_minor": 0
      },
      "text/plain": [
       "Output()"
      ]
     },
     "metadata": {},
     "output_type": "display_data"
    },
    {
     "data": {
      "text/html": [
       "<pre style=\"white-space:pre;overflow-x:auto;line-height:normal;font-family:Menlo,'DejaVu Sans Mono',consolas,'Courier New',monospace\"></pre>\n"
      ],
      "text/plain": []
     },
     "metadata": {},
     "output_type": "display_data"
    },
    {
     "data": {
      "text/html": [
       "<pre style=\"white-space:pre;overflow-x:auto;line-height:normal;font-family:Menlo,'DejaVu Sans Mono',consolas,'Courier New',monospace\">\n",
       "</pre>\n"
      ],
      "text/plain": [
       "\n"
      ]
     },
     "metadata": {},
     "output_type": "display_data"
    },
    {
     "data": {
      "text/html": [
       "<pre style=\"white-space:pre;overflow-x:auto;line-height:normal;font-family:Menlo,'DejaVu Sans Mono',consolas,'Courier New',monospace\"><span style=\"color: #7fbfbf; text-decoration-color: #7fbfbf\">21:55:03 PST </span>loading simulation from data/simulation_data_gyrotropic.hdf5       \n",
       "</pre>\n"
      ],
      "text/plain": [
       "\u001b[2;36m21:55:03 PST\u001b[0m\u001b[2;36m \u001b[0mloading simulation from data/simulation_data_gyrotropic.hdf5       \n"
      ]
     },
     "metadata": {},
     "output_type": "display_data"
    }
   ],
   "source": [
    "data_unperturbed = web.run(simulation=sim_unperturbed, task_name=\"gyrotropic_reference\", path=\"data/simulation_data_gyrotropic_ref.hdf5\", verbose=True)\n",
    "data_gyrotropic = web.run(simulation=sim_gyrotropic, task_name=\"gyrotropic\", path=\"data/simulation_data_gyrotropic.hdf5\", verbose=True)"
   ]
  },
  {
   "cell_type": "markdown",
   "id": "e019fa5b-af1e-45c9-987a-85abcb88da1a",
   "metadata": {},
   "source": [
    "Now we compare the simulation results to analytically predicted behavior. It is known that in the gyrotropic medium propagation along gyration axis allows two circularly polarized normal modes with propagation constants given by\n",
    "$$n_{\\pm} = \\sqrt{n^2 \\pm G}$$\n",
    "and the rotatory power (rotation angle per unit length) of the medium is given by \n",
    "$$\\rho = \\frac{\\pi}{\\lambda_0} \\left(n_- - n_+\\right).$$"
   ]
  },
  {
   "cell_type": "markdown",
   "id": "510c1b05-4063-49c6-ac3f-4da352576960",
   "metadata": {},
   "source": [
    "First we consider central frequency for which we expect simulation results to be the most accurate."
   ]
  },
  {
   "cell_type": "code",
   "execution_count": 14,
   "id": "100fc296-0e8d-4154-a3f2-2661cc099df6",
   "metadata": {
    "execution": {
     "iopub.execute_input": "2024-02-17T05:55:04.811925Z",
     "iopub.status.busy": "2024-02-17T05:55:04.811791Z",
     "iopub.status.idle": "2024-02-17T05:55:04.827935Z",
     "shell.execute_reply": "2024-02-17T05:55:04.827433Z"
    }
   },
   "outputs": [],
   "source": [
    "freq_ind = len(freqs) // 2"
   ]
  },
  {
   "cell_type": "markdown",
   "id": "5e080644-93da-4f86-860b-0966a0df4dbe",
   "metadata": {},
   "source": [
    "To obtain reference field distribution we extract numerical data from the reference simulation and apply rotation of polarization as predicted by the theory."
   ]
  },
  {
   "cell_type": "code",
   "execution_count": 15,
   "id": "5d302961-7f73-41f7-b62d-34ea6b3d885d",
   "metadata": {
    "execution": {
     "iopub.execute_input": "2024-02-17T05:55:04.829784Z",
     "iopub.status.busy": "2024-02-17T05:55:04.829645Z",
     "iopub.status.idle": "2024-02-17T05:55:04.855461Z",
     "shell.execute_reply": "2024-02-17T05:55:04.854905Z"
    }
   },
   "outputs": [],
   "source": [
    "# reference (constant polarization) wave propagation\n",
    "Ex_ref = (\n",
    "    data_unperturbed[\"freq_mnt_xz\"]\n",
    "    .field_components[\"Ex\"]\n",
    "    .isel({\"f\": freq_ind, \"x\": 0, \"y\": 0})\n",
    ")\n",
    "\n",
    "# predicted rotatory power at chosen wavelength\n",
    "wvl = td.C_0 / freqs[freq_ind]\n",
    "n_minus = np.sqrt(eps0 - g[2])\n",
    "n_plus = np.sqrt(eps0 + g[2])\n",
    "rho = np.pi / wvl * (n_minus - n_plus)\n",
    "\n",
    "# rotation factor along propagation direction\n",
    "coord = Ex_ref.coords[\"z\"]\n",
    "src_coord = source.center[2]\n",
    "dist = coord.data - src_coord\n",
    "factor_x = np.cos(rho * dist).real\n",
    "factor_y = -np.sin(rho * abs(dist)).real\n",
    "\n",
    "# rotated polarizations\n",
    "Ex_theory = Ex_ref * factor_x\n",
    "Ey_theory = Ex_ref * factor_y"
   ]
  },
  {
   "cell_type": "markdown",
   "id": "8fc45df0-1fee-4ed1-a13b-97ad15f60c1f",
   "metadata": {},
   "source": [
    "Extract simulation data at the chosen frequency."
   ]
  },
  {
   "cell_type": "code",
   "execution_count": 16,
   "id": "425e2ad3-3076-4630-97ff-bdee8a8b7d08",
   "metadata": {
    "execution": {
     "iopub.execute_input": "2024-02-17T05:55:04.857346Z",
     "iopub.status.busy": "2024-02-17T05:55:04.857203Z",
     "iopub.status.idle": "2024-02-17T05:55:04.882319Z",
     "shell.execute_reply": "2024-02-17T05:55:04.881913Z"
    }
   },
   "outputs": [],
   "source": [
    "Ex_num = (\n",
    "    data_gyrotropic[\"freq_mnt_xz\"]\n",
    "    .field_components[\"Ex\"]\n",
    "    .isel({\"f\": freq_ind, \"x\": 0, \"y\": 0})\n",
    ")\n",
    "\n",
    "Ey_num = (\n",
    "    data_gyrotropic[\"freq_mnt_xz\"]\n",
    "    .field_components[\"Ey\"]\n",
    "    .isel({\"f\": freq_ind, \"x\": 0, \"y\": 0})\n",
    ")"
   ]
  },
  {
   "cell_type": "markdown",
   "id": "c5a82e6e-0e44-40d8-acc2-719a55305a82",
   "metadata": {},
   "source": [
    "Plot the comparison."
   ]
  },
  {
   "cell_type": "code",
   "execution_count": 17,
   "id": "0ca8a218-a4dc-4c33-b1de-83b2a6bcab38",
   "metadata": {
    "execution": {
     "iopub.execute_input": "2024-02-17T05:55:04.884394Z",
     "iopub.status.busy": "2024-02-17T05:55:04.884153Z",
     "iopub.status.idle": "2024-02-17T05:55:05.134287Z",
     "shell.execute_reply": "2024-02-17T05:55:05.133907Z"
    }
   },
   "outputs": [
    {
     "data": {
      "image/png": "[encoded data removed]",
      "text/plain": [
       "<Figure size 800x600 with 2 Axes>"
      ]
     },
     "metadata": {},
     "output_type": "display_data"
    }
   ],
   "source": [
    "fig, ax = plt.subplots(2, 1, figsize=(8,6))\n",
    "Ex_num.real.plot(ax=ax[0])\n",
    "Ex_theory.real.plot(ax=ax[0], ls=\"--\")\n",
    "ax[0].set_ylabel(\"Re[Ex]\")\n",
    "ax[0].legend([\"Simulation\", \"Theory\"])\n",
    "\n",
    "Ey_num.real.plot(ax=ax[1])\n",
    "Ey_theory.real.plot(ax=ax[1], ls=\"--\")\n",
    "ax[1].set_ylabel(\"Re[Ey]\")\n",
    "ax[1].legend([\"Simulation\", \"Theory\"])\n",
    "\n",
    "plt.tight_layout()\n",
    "plt.show()"
   ]
  },
  {
   "cell_type": "markdown",
   "id": "ce54520a-014e-4518-9888-9eb57bfbe3ae",
   "metadata": {},
   "source": [
    "As one can see the simulation results for magneto-optic effect matches very closely the predicted behavior. Note that this comparison is made at the central wavelength. If we repeat the same comparison away from central wavelength the accuracy of simulation results will degrade because of the approximations made in defining properties of the gyrotropic medium."
   ]
  },
  {
   "cell_type": "code",
   "execution_count": 18,
   "id": "208b353f-bebb-4ce7-ba8a-f904800a495c",
   "metadata": {
    "execution": {
     "iopub.execute_input": "2024-02-17T05:55:05.136716Z",
     "iopub.status.busy": "2024-02-17T05:55:05.136500Z",
     "iopub.status.idle": "2024-02-17T05:55:05.397959Z",
     "shell.execute_reply": "2024-02-17T05:55:05.397456Z"
    }
   },
   "outputs": [
    {
     "data": {
      "image/png": "[encoded data removed]",
      "text/plain": [
       "<Figure size 800x600 with 2 Axes>"
      ]
     },
     "metadata": {},
     "output_type": "display_data"
    }
   ],
   "source": [
    "# choose frequency index (out of 5)\n",
    "freq_ind = 0\n",
    "\n",
    "# reference (constant polarization) wave propagation\n",
    "Ex_ref = (\n",
    "    data_unperturbed[\"freq_mnt_xz\"]\n",
    "    .field_components[\"Ex\"]\n",
    "    .isel({\"f\": freq_ind, \"x\": 0, \"y\": 0})\n",
    ")\n",
    "\n",
    "# predicted rotatory power at chosen wavelength\n",
    "wvl = td.C_0 / freqs[freq_ind]\n",
    "n_minus = np.sqrt(eps0 - g[2])\n",
    "n_plus = np.sqrt(eps0 + g[2])\n",
    "rho = np.pi / wvl * (n_minus - n_plus)\n",
    "\n",
    "# rotation factor along propagation direction\n",
    "coord = Ex_ref.coords[\"z\"]\n",
    "src_coord = source.center[2]\n",
    "dist = coord.data - src_coord\n",
    "factor_x = np.cos(rho * dist).real\n",
    "factor_y = -np.sin(rho * abs(dist)).real\n",
    "\n",
    "# rotated polarizations\n",
    "Ex_theory = Ex_ref * factor_x\n",
    "Ey_theory = Ex_ref * factor_y\n",
    "\n",
    "# extract simulation data at the chosen frequency\n",
    "Ex_num = (\n",
    "    data_gyrotropic[\"freq_mnt_xz\"]\n",
    "    .field_components[\"Ex\"]\n",
    "    .isel({\"f\": freq_ind, \"x\": 0, \"y\": 0})\n",
    ")\n",
    "\n",
    "Ey_num = (\n",
    "    data_gyrotropic[\"freq_mnt_xz\"]\n",
    "    .field_components[\"Ey\"]\n",
    "    .isel({\"f\": freq_ind, \"x\": 0, \"y\": 0})\n",
    ")\n",
    "\n",
    "# plot comparison\n",
    "fig, ax = plt.subplots(2, 1, figsize=(8,6))\n",
    "Ex_num.real.plot(ax=ax[0])\n",
    "Ex_theory.real.plot(ax=ax[0], ls=\"--\")\n",
    "ax[0].set_ylabel(\"Re[Ex]\")\n",
    "ax[0].legend([\"Simulation\", \"Theory\"])\n",
    "\n",
    "Ey_num.real.plot(ax=ax[1])\n",
    "Ey_theory.real.plot(ax=ax[1], ls=\"--\")\n",
    "ax[1].set_ylabel(\"Re[Ey]\")\n",
    "ax[1].legend([\"Simulation\", \"Theory\"])\n",
    "\n",
    "plt.tight_layout()\n",
    "plt.show()"
   ]
  },
  {
   "cell_type": "markdown",
   "id": "f90d785c",
   "metadata": {},
   "source": [
    "Gyrotropic materials are only a special type of the [FullyAnisotropicMedium](../api/_autosummary/tidy3d.FullyAnisotropicMedium.html). For more general cases, see the tutorial on [defining fully anisotropic materials](https://www.flexcompute.com/tidy3d/examples/notebooks/FullyAnisotropic/)."
   ]
  },
  {
   "cell_type": "code",
   "execution_count": null,
   "id": "07366e72",
   "metadata": {},
   "outputs": [],
   "source": []
  }
 ],
 "metadata": {
  "description": "This notebook demonstrates how to define gyrotropic materials in Tidy3D for FDTD simulations.",
  "feature_imag": "",
  "feature_image": "N/A",
  "kernelspec": {
   "display_name": "Python 3 (ipykernel)",
   "language": "python",
   "name": "python3"
  },
  "keywords": "gyrotropic material, Tidy3D, FDTD",
  "language_info": {
   "codemirror_mode": {
    "name": "ipython",
    "version": 3
   },
   "file_extension": ".py",
   "mimetype": "text/x-python",
   "name": "python",
   "nbconvert_exporter": "python",
   "pygments_lexer": "ipython3",
   "version": "3.10.13"
  },
  "title": "Defining Gyrotropic Materials in Tidy3D | Flexcompute",
  "widgets": {
   "application/vnd.jupyter.widget-state+json": {
    "state": {
     "0b6e9e7359fc4467bc0b948790fab729": {
      "model_module": "@jupyter-widgets/base",
      "model_module_version": "2.0.0",
      "model_name": "LayoutModel",
      "state": {
       "_model_module": "@jupyter-widgets/base",
       "_model_module_version": "2.0.0",
       "_model_name": "LayoutModel",
       "_view_count": null,
       "_view_module": "@jupyter-widgets/base",
       "_view_module_version": "2.0.0",
       "_view_name": "LayoutView",
       "align_content": null,
       "align_items": null,
       "align_self": null,
       "border_bottom": null,
       "border_left": null,
       "border_right": null,
       "border_top": null,
       "bottom": null,
       "display": null,
       "flex": null,
       "flex_flow": null,
       "grid_area": null,
       "grid_auto_columns": null,
       "grid_auto_flow": null,
       "grid_auto_rows": null,
       "grid_column": null,
       "grid_gap": null,
       "grid_row": null,
       "grid_template_areas": null,
       "grid_template_columns": null,
       "grid_template_rows": null,
       "height": null,
       "justify_content": null,
       "justify_items": null,
       "left": null,
       "margin": null,
       "max_height": null,
       "max_width": null,
       "min_height": null,
       "min_width": null,
       "object_fit": null,
       "object_position": null,
       "order": null,
       "overflow": null,
       "padding": null,
       "right": null,
       "top": null,
       "visibility": null,
       "width": null
      }
     },
     "0e9ef8d8c0474b5bbde8f0b1967e318f": {
      "model_module": "@jupyter-widgets/base",
      "model_module_version": "2.0.0",
      "model_name": "LayoutModel",
      "state": {
       "_model_module": "@jupyter-widgets/base",
       "_model_module_version": "2.0.0",
       "_model_name": "LayoutModel",
       "_view_count": null,
       "_view_module": "@jupyter-widgets/base",
       "_view_module_version": "2.0.0",
       "_view_name": "LayoutView",
       "align_content": null,
       "align_items": null,
       "align_self": null,
       "border_bottom": null,
       "border_left": null,
       "border_right": null,
       "border_top": null,
       "bottom": null,
       "display": null,
       "flex": null,
       "flex_flow": null,
       "grid_area": null,
       "grid_auto_columns": null,
       "grid_auto_flow": null,
       "grid_auto_rows": null,
       "grid_column": null,
       "grid_gap": null,
       "grid_row": null,
       "grid_template_areas": null,
       "grid_template_columns": null,
       "grid_template_rows": null,
       "height": null,
       "justify_content": null,
       "justify_items": null,
       "left": null,
       "margin": null,
       "max_height": null,
       "max_width": null,
       "min_height": null,
       "min_width": null,
       "object_fit": null,
       "object_position": null,
       "order": null,
       "overflow": null,
       "padding": null,
       "right": null,
       "top": null,
       "visibility": null,
       "width": null
      }
     },
     "1f784d9887a249348c2a83b174276690": {
      "model_module": "@jupyter-widgets/output",
      "model_module_version": "1.0.0",
      "model_name": "OutputModel",
      "state": {
       "_dom_classes": [],
       "_model_module": "@jupyter-widgets/output",
       "_model_module_version": "1.0.0",
       "_model_name": "OutputModel",
       "_view_count": null,
       "_view_module": "@jupyter-widgets/output",
       "_view_module_version": "1.0.0",
       "_view_name": "OutputView",
       "layout": "IPY_MODEL_50b83a0a2fd843fa8f1793c8ebfcfc32",
       "msg_id": "",
       "outputs": [
        {
         "data": {
          "text/html": "<pre style=\"white-space:pre;overflow-x:auto;line-height:normal;font-family:Menlo,'DejaVu Sans Mono',consolas,'Courier New',monospace\"><span style=\"color: #800000; text-decoration-color: #800000; font-weight: bold\">↑</span> <span style=\"color: #000080; text-decoration-color: #000080; font-weight: bold\">simulation.hdf5.gz</span> <span style=\"color: #729c1f; text-decoration-color: #729c1f\">━━━━━━━━━━━━━━━━━━━━━━━━━</span> <span style=\"color: #800080; text-decoration-color: #800080\">100.0%</span> • <span style=\"color: #008000; text-decoration-color: #008000\">1.1/1.1 kB</span> • <span style=\"color: #800000; text-decoration-color: #800000\">?</span> • <span style=\"color: #008080; text-decoration-color: #008080\">0:00:00</span>\n</pre>\n",
          "text/plain": "\u001b[1;31m↑\u001b[0m \u001b[1;34msimulation.hdf5.gz\u001b[0m \u001b[38;2;114;156;31m━━━━━━━━━━━━━━━━━━━━━━━━━\u001b[0m \u001b[35m100.0%\u001b[0m • \u001b[32m1.1/1.1 kB\u001b[0m • \u001b[31m?\u001b[0m • \u001b[36m0:00:00\u001b[0m\n"
         },
         "metadata": {},
         "output_type": "display_data"
        }
       ],
       "tabbable": null,
       "tooltip": null
      }
     },
     "26124c20ab2e491e97917a0258ee6053": {
      "model_module": "@jupyter-widgets/output",
      "model_module_version": "1.0.0",
      "model_name": "OutputModel",
      "state": {
       "_dom_classes": [],
       "_model_module": "@jupyter-widgets/output",
       "_model_module_version": "1.0.0",
       "_model_name": "OutputModel",
       "_view_count": null,
       "_view_module": "@jupyter-widgets/output",
       "_view_module_version": "1.0.0",
       "_view_name": "OutputView",
       "layout": "IPY_MODEL_78e684b3c05b4eeab0c6e9448c70e963",
       "msg_id": "",
       "outputs": [
        {
         "data": {
          "text/html": "<pre style=\"white-space:pre;overflow-x:auto;line-height:normal;font-family:Menlo,'DejaVu Sans Mono',consolas,'Courier New',monospace\"><span style=\"color: #008000; text-decoration-color: #008000; font-weight: bold\">↓</span> <span style=\"color: #000080; text-decoration-color: #000080; font-weight: bold\">simulation_data.hdf5.gz</span> <span style=\"color: #729c1f; text-decoration-color: #729c1f\">━━━━━━━━━━━━━━━━</span> <span style=\"color: #800080; text-decoration-color: #800080\">100.0%</span> • <span style=\"color: #008000; text-decoration-color: #008000\">109.8/109.8 kB</span> • <span style=\"color: #800000; text-decoration-color: #800000\">?</span> • <span style=\"color: #008080; text-decoration-color: #008080\">0:00:00</span>\n</pre>\n",
          "text/plain": "\u001b[1;32m↓\u001b[0m \u001b[1;34msimulation_data.hdf5.gz\u001b[0m \u001b[38;2;114;156;31m━━━━━━━━━━━━━━━━\u001b[0m \u001b[35m100.0%\u001b[0m • \u001b[32m109.8/109.8 kB\u001b[0m • \u001b[31m?\u001b[0m • \u001b[36m0:00:00\u001b[0m\n"
         },
         "metadata": {},
         "output_type": "display_data"
        }
       ],
       "tabbable": null,
       "tooltip": null
      }
     },
     "2a4bb3bc1c2c489596b678b7a6eeb8b6": {
      "model_module": "@jupyter-widgets/output",
      "model_module_version": "1.0.0",
      "model_name": "OutputModel",
      "state": {
       "_dom_classes": [],
       "_model_module": "@jupyter-widgets/output",
       "_model_module_version": "1.0.0",
       "_model_name": "OutputModel",
       "_view_count": null,
       "_view_module": "@jupyter-widgets/output",
       "_view_module_version": "1.0.0",
       "_view_name": "OutputView",
       "layout": "IPY_MODEL_b78a035521d94916a4c8fa557b486513",
       "msg_id": "",
       "outputs": [
        {
         "data": {
          "text/html": "<pre style=\"white-space:pre;overflow-x:auto;line-height:normal;font-family:Menlo,'DejaVu Sans Mono',consolas,'Courier New',monospace\"><span style=\"color: #800000; text-decoration-color: #800000; font-weight: bold\">↑</span> <span style=\"color: #000080; text-decoration-color: #000080; font-weight: bold\">simulation.hdf5.gz</span> <span style=\"color: #729c1f; text-decoration-color: #729c1f\">━━━━━━━━━━━━━━━━━━━━━━━━━</span> <span style=\"color: #800080; text-decoration-color: #800080\">100.0%</span> • <span style=\"color: #008000; text-decoration-color: #008000\">1.1/1.1 kB</span> • <span style=\"color: #800000; text-decoration-color: #800000\">?</span> • <span style=\"color: #008080; text-decoration-color: #008080\">0:00:00</span>\n</pre>\n",
          "text/plain": "\u001b[1;31m↑\u001b[0m \u001b[1;34msimulation.hdf5.gz\u001b[0m \u001b[38;2;114;156;31m━━━━━━━━━━━━━━━━━━━━━━━━━\u001b[0m \u001b[35m100.0%\u001b[0m • \u001b[32m1.1/1.1 kB\u001b[0m • \u001b[31m?\u001b[0m • \u001b[36m0:00:00\u001b[0m\n"
         },
         "metadata": {},
         "output_type": "display_data"
        }
       ],
       "tabbable": null,
       "tooltip": null
      }
     },
     "3826528b132a400a8e9cb8ef6ca9356c": {
      "model_module": "@jupyter-widgets/output",
      "model_module_version": "1.0.0",
      "model_name": "OutputModel",
      "state": {
       "_dom_classes": [],
       "_model_module": "@jupyter-widgets/output",
       "_model_module_version": "1.0.0",
       "_model_name": "OutputModel",
       "_view_count": null,
       "_view_module": "@jupyter-widgets/output",
       "_view_module_version": "1.0.0",
       "_view_name": "OutputView",
       "layout": "IPY_MODEL_0b6e9e7359fc4467bc0b948790fab729",
       "msg_id": "",
       "outputs": [
        {
         "data": {
          "text/html": "<pre style=\"white-space:pre;overflow-x:auto;line-height:normal;font-family:Menlo,'DejaVu Sans Mono',consolas,'Courier New',monospace\"><span style=\"color: #008000; text-decoration-color: #008000; font-weight: bold\">↓</span> <span style=\"color: #000080; text-decoration-color: #000080; font-weight: bold\">simulation_data.hdf5.gz</span> <span style=\"color: #729c1f; text-decoration-color: #729c1f\">━━━━━━━━━━━━━━━━━━</span> <span style=\"color: #800080; text-decoration-color: #800080\">100.0%</span> • <span style=\"color: #008000; text-decoration-color: #008000\">42.3/42.3 kB</span> • <span style=\"color: #800000; text-decoration-color: #800000\">?</span> • <span style=\"color: #008080; text-decoration-color: #008080\">0:00:00</span>\n</pre>\n",
          "text/plain": "\u001b[1;32m↓\u001b[0m \u001b[1;34msimulation_data.hdf5.gz\u001b[0m \u001b[38;2;114;156;31m━━━━━━━━━━━━━━━━━━\u001b[0m \u001b[35m100.0%\u001b[0m • \u001b[32m42.3/42.3 kB\u001b[0m • \u001b[31m?\u001b[0m • \u001b[36m0:00:00\u001b[0m\n"
         },
         "metadata": {},
         "output_type": "display_data"
        }
       ],
       "tabbable": null,
       "tooltip": null
      }
     },
     "50b83a0a2fd843fa8f1793c8ebfcfc32": {
      "model_module": "@jupyter-widgets/base",
      "model_module_version": "2.0.0",
      "model_name": "LayoutModel",
      "state": {
       "_model_module": "@jupyter-widgets/base",
       "_model_module_version": "2.0.0",
       "_model_name": "LayoutModel",
       "_view_count": null,
       "_view_module": "@jupyter-widgets/base",
       "_view_module_version": "2.0.0",
       "_view_name": "LayoutView",
       "align_content": null,
       "align_items": null,
       "align_self": null,
       "border_bottom": null,
       "border_left": null,
       "border_right": null,
       "border_top": null,
       "bottom": null,
       "display": null,
       "flex": null,
       "flex_flow": null,
       "grid_area": null,
       "grid_auto_columns": null,
       "grid_auto_flow": null,
       "grid_auto_rows": null,
       "grid_column": null,
       "grid_gap": null,
       "grid_row": null,
       "grid_template_areas": null,
       "grid_template_columns": null,
       "grid_template_rows": null,
       "height": null,
       "justify_content": null,
       "justify_items": null,
       "left": null,
       "margin": null,
       "max_height": null,
       "max_width": null,
       "min_height": null,
       "min_width": null,
       "object_fit": null,
       "object_position": null,
       "order": null,
       "overflow": null,
       "padding": null,
       "right": null,
       "top": null,
       "visibility": null,
       "width": null
      }
     },
     "5da33f946bd6451890117be0fc81f70f": {
      "model_module": "@jupyter-widgets/base",
      "model_module_version": "2.0.0",
      "model_name": "LayoutModel",
      "state": {
       "_model_module": "@jupyter-widgets/base",
       "_model_module_version": "2.0.0",
       "_model_name": "LayoutModel",
       "_view_count": null,
       "_view_module": "@jupyter-widgets/base",
       "_view_module_version": "2.0.0",
       "_view_name": "LayoutView",
       "align_content": null,
       "align_items": null,
       "align_self": null,
       "border_bottom": null,
       "border_left": null,
       "border_right": null,
       "border_top": null,
       "bottom": null,
       "display": null,
       "flex": null,
       "flex_flow": null,
       "grid_area": null,
       "grid_auto_columns": null,
       "grid_auto_flow": null,
       "grid_auto_rows": null,
       "grid_column": null,
       "grid_gap": null,
       "grid_row": null,
       "grid_template_areas": null,
       "grid_template_columns": null,
       "grid_template_rows": null,
       "height": null,
       "justify_content": null,
       "justify_items": null,
       "left": null,
       "margin": null,
       "max_height": null,
       "max_width": null,
       "min_height": null,
       "min_width": null,
       "object_fit": null,
       "object_position": null,
       "order": null,
       "overflow": null,
       "padding": null,
       "right": null,
       "top": null,
       "visibility": null,
       "width": null
      }
     },
     "78e684b3c05b4eeab0c6e9448c70e963": {
      "model_module": "@jupyter-widgets/base",
      "model_module_version": "2.0.0",
      "model_name": "LayoutModel",
      "state": {
       "_model_module": "@jupyter-widgets/base",
       "_model_module_version": "2.0.0",
       "_model_name": "LayoutModel",
       "_view_count": null,
       "_view_module": "@jupyter-widgets/base",
       "_view_module_version": "2.0.0",
       "_view_name": "LayoutView",
       "align_content": null,
       "align_items": null,
       "align_self": null,
       "border_bottom": null,
       "border_left": null,
       "border_right": null,
       "border_top": null,
       "bottom": null,
       "display": null,
       "flex": null,
       "flex_flow": null,
       "grid_area": null,
       "grid_auto_columns": null,
       "grid_auto_flow": null,
       "grid_auto_rows": null,
       "grid_column": null,
       "grid_gap": null,
       "grid_row": null,
       "grid_template_areas": null,
       "grid_template_columns": null,
       "grid_template_rows": null,
       "height": null,
       "justify_content": null,
       "justify_items": null,
       "left": null,
       "margin": null,
       "max_height": null,
       "max_width": null,
       "min_height": null,
       "min_width": null,
       "object_fit": null,
       "object_position": null,
       "order": null,
       "overflow": null,
       "padding": null,
       "right": null,
       "top": null,
       "visibility": null,
       "width": null
      }
     },
     "881026bbddd544d784164a428c31f7f6": {
      "model_module": "@jupyter-widgets/base",
      "model_module_version": "2.0.0",
      "model_name": "LayoutModel",
      "state": {
       "_model_module": "@jupyter-widgets/base",
       "_model_module_version": "2.0.0",
       "_model_name": "LayoutModel",
       "_view_count": null,
       "_view_module": "@jupyter-widgets/base",
       "_view_module_version": "2.0.0",
       "_view_name": "LayoutView",
       "align_content": null,
       "align_items": null,
       "align_self": null,
       "border_bottom": null,
       "border_left": null,
       "border_right": null,
       "border_top": null,
       "bottom": null,
       "display": null,
       "flex": null,
       "flex_flow": null,
       "grid_area": null,
       "grid_auto_columns": null,
       "grid_auto_flow": null,
       "grid_auto_rows": null,
       "grid_column": null,
       "grid_gap": null,
       "grid_row": null,
       "grid_template_areas": null,
       "grid_template_columns": null,
       "grid_template_rows": null,
       "height": null,
       "justify_content": null,
       "justify_items": null,
       "left": null,
       "margin": null,
       "max_height": null,
       "max_width": null,
       "min_height": null,
       "min_width": null,
       "object_fit": null,
       "object_position": null,
       "order": null,
       "overflow": null,
       "padding": null,
       "right": null,
       "top": null,
       "visibility": null,
       "width": null
      }
     },
     "910e2dab3fcd4a7782ca0b395e4869da": {
      "model_module": "@jupyter-widgets/output",
      "model_module_version": "1.0.0",
      "model_name": "OutputModel",
      "state": {
       "_dom_classes": [],
       "_model_module": "@jupyter-widgets/output",
       "_model_module_version": "1.0.0",
       "_model_name": "OutputModel",
       "_view_count": null,
       "_view_module": "@jupyter-widgets/output",
       "_view_module_version": "1.0.0",
       "_view_name": "OutputView",
       "layout": "IPY_MODEL_9145a63dc2ea4a5fac49593a9902dde2",
       "msg_id": "",
       "outputs": [
        {
         "data": {
          "text/html": "<pre style=\"white-space:pre;overflow-x:auto;line-height:normal;font-family:Menlo,'DejaVu Sans Mono',consolas,'Courier New',monospace\">solver progress (field decay = 2.20e-09) <span style=\"color: #729c1f; text-decoration-color: #729c1f\">━━━━━━━━━━━━━━━━━━━━━━━━━━</span> <span style=\"color: #800080; text-decoration-color: #800080\">100%</span> <span style=\"color: #008080; text-decoration-color: #008080\">0:00:00</span>\n</pre>\n",
          "text/plain": "solver progress (field decay = 2.20e-09) \u001b[38;2;114;156;31m━━━━━━━━━━━━━━━━━━━━━━━━━━\u001b[0m \u001b[35m100%\u001b[0m \u001b[36m0:00:00\u001b[0m\n"
         },
         "metadata": {},
         "output_type": "display_data"
        }
       ],
       "tabbable": null,
       "tooltip": null
      }
     },
     "9145a63dc2ea4a5fac49593a9902dde2": {
      "model_module": "@jupyter-widgets/base",
      "model_module_version": "2.0.0",
      "model_name": "LayoutModel",
      "state": {
       "_model_module": "@jupyter-widgets/base",
       "_model_module_version": "2.0.0",
       "_model_name": "LayoutModel",
       "_view_count": null,
       "_view_module": "@jupyter-widgets/base",
       "_view_module_version": "2.0.0",
       "_view_name": "LayoutView",
       "align_content": null,
       "align_items": null,
       "align_self": null,
       "border_bottom": null,
       "border_left": null,
       "border_right": null,
       "border_top": null,
       "bottom": null,
       "display": null,
       "flex": null,
       "flex_flow": null,
       "grid_area": null,
       "grid_auto_columns": null,
       "grid_auto_flow": null,
       "grid_auto_rows": null,
       "grid_column": null,
       "grid_gap": null,
       "grid_row": null,
       "grid_template_areas": null,
       "grid_template_columns": null,
       "grid_template_rows": null,
       "height": null,
       "justify_content": null,
       "justify_items": null,
       "left": null,
       "margin": null,
       "max_height": null,
       "max_width": null,
       "min_height": null,
       "min_width": null,
       "object_fit": null,
       "object_position": null,
       "order": null,
       "overflow": null,
       "padding": null,
       "right": null,
       "top": null,
       "visibility": null,
       "width": null
      }
     },
     "927d450589834ba5a6a61c82f7e9af90": {
      "model_module": "@jupyter-widgets/output",
      "model_module_version": "1.0.0",
      "model_name": "OutputModel",
      "state": {
       "_dom_classes": [],
       "_model_module": "@jupyter-widgets/output",
       "_model_module_version": "1.0.0",
       "_model_name": "OutputModel",
       "_view_count": null,
       "_view_module": "@jupyter-widgets/output",
       "_view_module_version": "1.0.0",
       "_view_name": "OutputView",
       "layout": "IPY_MODEL_e2a9cd0c034a4c1195a489d938b1a85f",
       "msg_id": "",
       "outputs": [
        {
         "data": {
          "text/html": "<pre style=\"white-space:pre;overflow-x:auto;line-height:normal;font-family:Menlo,'DejaVu Sans Mono',consolas,'Courier New',monospace\"><span style=\"color: #008000; text-decoration-color: #008000\">🚶 </span> <span style=\"color: #008000; text-decoration-color: #008000; font-weight: bold\">Starting 'gyrotropic'...</span>\n</pre>\n",
          "text/plain": "\u001b[32m🚶 \u001b[0m \u001b[1;32mStarting 'gyrotropic'...\u001b[0m\n"
         },
         "metadata": {},
         "output_type": "display_data"
        }
       ],
       "tabbable": null,
       "tooltip": null
      }
     },
     "a8209cdf8ad24e229de24d4057c3d01e": {
      "model_module": "@jupyter-widgets/output",
      "model_module_version": "1.0.0",
      "model_name": "OutputModel",
      "state": {
       "_dom_classes": [],
       "_model_module": "@jupyter-widgets/output",
       "_model_module_version": "1.0.0",
       "_model_name": "OutputModel",
       "_view_count": null,
       "_view_module": "@jupyter-widgets/output",
       "_view_module_version": "1.0.0",
       "_view_name": "OutputView",
       "layout": "IPY_MODEL_0e9ef8d8c0474b5bbde8f0b1967e318f",
       "msg_id": "",
       "outputs": [
        {
         "data": {
          "text/html": "<pre style=\"white-space:pre;overflow-x:auto;line-height:normal;font-family:Menlo,'DejaVu Sans Mono',consolas,'Courier New',monospace\">solver progress (field decay = 2.20e-09) <span style=\"color: #729c1f; text-decoration-color: #729c1f\">━━━━━━━━━━━━━━━━━━━━━━━━━━</span> <span style=\"color: #800080; text-decoration-color: #800080\">100%</span> <span style=\"color: #008080; text-decoration-color: #008080\">0:00:00</span>\n</pre>\n",
          "text/plain": "solver progress (field decay = 2.20e-09) \u001b[38;2;114;156;31m━━━━━━━━━━━━━━━━━━━━━━━━━━\u001b[0m \u001b[35m100%\u001b[0m \u001b[36m0:00:00\u001b[0m\n"
         },
         "metadata": {},
         "output_type": "display_data"
        }
       ],
       "tabbable": null,
       "tooltip": null
      }
     },
     "b78a035521d94916a4c8fa557b486513": {
      "model_module": "@jupyter-widgets/base",
      "model_module_version": "2.0.0",
      "model_name": "LayoutModel",
      "state": {
       "_model_module": "@jupyter-widgets/base",
       "_model_module_version": "2.0.0",
       "_model_name": "LayoutModel",
       "_view_count": null,
       "_view_module": "@jupyter-widgets/base",
       "_view_module_version": "2.0.0",
       "_view_name": "LayoutView",
       "align_content": null,
       "align_items": null,
       "align_self": null,
       "border_bottom": null,
       "border_left": null,
       "border_right": null,
       "border_top": null,
       "bottom": null,
       "display": null,
       "flex": null,
       "flex_flow": null,
       "grid_area": null,
       "grid_auto_columns": null,
       "grid_auto_flow": null,
       "grid_auto_rows": null,
       "grid_column": null,
       "grid_gap": null,
       "grid_row": null,
       "grid_template_areas": null,
       "grid_template_columns": null,
       "grid_template_rows": null,
       "height": null,
       "justify_content": null,
       "justify_items": null,
       "left": null,
       "margin": null,
       "max_height": null,
       "max_width": null,
       "min_height": null,
       "min_width": null,
       "object_fit": null,
       "object_position": null,
       "order": null,
       "overflow": null,
       "padding": null,
       "right": null,
       "top": null,
       "visibility": null,
       "width": null
      }
     },
     "bb62d89a561c4e77a9a4182ecf7fb04a": {
      "model_module": "@jupyter-widgets/output",
      "model_module_version": "1.0.0",
      "model_name": "OutputModel",
      "state": {
       "_dom_classes": [],
       "_model_module": "@jupyter-widgets/output",
       "_model_module_version": "1.0.0",
       "_model_name": "OutputModel",
       "_view_count": null,
       "_view_module": "@jupyter-widgets/output",
       "_view_module_version": "1.0.0",
       "_view_name": "OutputView",
       "layout": "IPY_MODEL_881026bbddd544d784164a428c31f7f6",
       "msg_id": "",
       "outputs": [
        {
         "data": {
          "text/html": "<pre style=\"white-space:pre;overflow-x:auto;line-height:normal;font-family:Menlo,'DejaVu Sans Mono',consolas,'Courier New',monospace\"><span style=\"color: #008000; text-decoration-color: #008000\">🏃 </span> <span style=\"color: #008000; text-decoration-color: #008000; font-weight: bold\">Starting 'gyrotropic_reference'...</span>\n</pre>\n",
          "text/plain": "\u001b[32m🏃 \u001b[0m \u001b[1;32mStarting 'gyrotropic_reference'...\u001b[0m\n"
         },
         "metadata": {},
         "output_type": "display_data"
        }
       ],
       "tabbable": null,
       "tooltip": null
      }
     },
     "bd15ab8bd3244954ab42f65312d3aff5": {
      "model_module": "@jupyter-widgets/output",
      "model_module_version": "1.0.0",
      "model_name": "OutputModel",
      "state": {
       "_dom_classes": [],
       "_model_module": "@jupyter-widgets/output",
       "_model_module_version": "1.0.0",
       "_model_name": "OutputModel",
       "_view_count": null,
       "_view_module": "@jupyter-widgets/output",
       "_view_module_version": "1.0.0",
       "_view_name": "OutputView",
       "layout": "IPY_MODEL_c376dedcb4a64ed1b3af655986c5e32c",
       "msg_id": "",
       "outputs": [
        {
         "data": {
          "text/html": "<pre style=\"white-space:pre;overflow-x:auto;line-height:normal;font-family:Menlo,'DejaVu Sans Mono',consolas,'Courier New',monospace\"><span style=\"color: #008000; text-decoration-color: #008000\">🚶 </span> <span style=\"color: #008000; text-decoration-color: #008000; font-weight: bold\">Finishing 'gyrotropic'...</span>\n</pre>\n",
          "text/plain": "\u001b[32m🚶 \u001b[0m \u001b[1;32mFinishing 'gyrotropic'...\u001b[0m\n"
         },
         "metadata": {},
         "output_type": "display_data"
        }
       ],
       "tabbable": null,
       "tooltip": null
      }
     },
     "c376dedcb4a64ed1b3af655986c5e32c": {
      "model_module": "@jupyter-widgets/base",
      "model_module_version": "2.0.0",
      "model_name": "LayoutModel",
      "state": {
       "_model_module": "@jupyter-widgets/base",
       "_model_module_version": "2.0.0",
       "_model_name": "LayoutModel",
       "_view_count": null,
       "_view_module": "@jupyter-widgets/base",
       "_view_module_version": "2.0.0",
       "_view_name": "LayoutView",
       "align_content": null,
       "align_items": null,
       "align_self": null,
       "border_bottom": null,
       "border_left": null,
       "border_right": null,
       "border_top": null,
       "bottom": null,
       "display": null,
       "flex": null,
       "flex_flow": null,
       "grid_area": null,
       "grid_auto_columns": null,
       "grid_auto_flow": null,
       "grid_auto_rows": null,
       "grid_column": null,
       "grid_gap": null,
       "grid_row": null,
       "grid_template_areas": null,
       "grid_template_columns": null,
       "grid_template_rows": null,
       "height": null,
       "justify_content": null,
       "justify_items": null,
       "left": null,
       "margin": null,
       "max_height": null,
       "max_width": null,
       "min_height": null,
       "min_width": null,
       "object_fit": null,
       "object_position": null,
       "order": null,
       "overflow": null,
       "padding": null,
       "right": null,
       "top": null,
       "visibility": null,
       "width": null
      }
     },
     "c9151fc77ed342048c1028090e8cf784": {
      "model_module": "@jupyter-widgets/output",
      "model_module_version": "1.0.0",
      "model_name": "OutputModel",
      "state": {
       "_dom_classes": [],
       "_model_module": "@jupyter-widgets/output",
       "_model_module_version": "1.0.0",
       "_model_name": "OutputModel",
       "_view_count": null,
       "_view_module": "@jupyter-widgets/output",
       "_view_module_version": "1.0.0",
       "_view_name": "OutputView",
       "layout": "IPY_MODEL_5da33f946bd6451890117be0fc81f70f",
       "msg_id": "",
       "outputs": [
        {
         "data": {
          "text/html": "<pre style=\"white-space:pre;overflow-x:auto;line-height:normal;font-family:Menlo,'DejaVu Sans Mono',consolas,'Courier New',monospace\"><span style=\"color: #008000; text-decoration-color: #008000\">🚶 </span> <span style=\"color: #008000; text-decoration-color: #008000; font-weight: bold\">Finishing 'gyrotropic_reference'...</span>\n</pre>\n",
          "text/plain": "\u001b[32m🚶 \u001b[0m \u001b[1;32mFinishing 'gyrotropic_reference'...\u001b[0m\n"
         },
         "metadata": {},
         "output_type": "display_data"
        }
       ],
       "tabbable": null,
       "tooltip": null
      }
     },
     "e2a9cd0c034a4c1195a489d938b1a85f": {
      "model_module": "@jupyter-widgets/base",
      "model_module_version": "2.0.0",
      "model_name": "LayoutModel",
      "state": {
       "_model_module": "@jupyter-widgets/base",
       "_model_module_version": "2.0.0",
       "_model_name": "LayoutModel",
       "_view_count": null,
       "_view_module": "@jupyter-widgets/base",
       "_view_module_version": "2.0.0",
       "_view_name": "LayoutView",
       "align_content": null,
       "align_items": null,
       "align_self": null,
       "border_bottom": null,
       "border_left": null,
       "border_right": null,
       "border_top": null,
       "bottom": null,
       "display": null,
       "flex": null,
       "flex_flow": null,
       "grid_area": null,
       "grid_auto_columns": null,
       "grid_auto_flow": null,
       "grid_auto_rows": null,
       "grid_column": null,
       "grid_gap": null,
       "grid_row": null,
       "grid_template_areas": null,
       "grid_template_columns": null,
       "grid_template_rows": null,
       "height": null,
       "justify_content": null,
       "justify_items": null,
       "left": null,
       "margin": null,
       "max_height": null,
       "max_width": null,
       "min_height": null,
       "min_width": null,
       "object_fit": null,
       "object_position": null,
       "order": null,
       "overflow": null,
       "padding": null,
       "right": null,
       "top": null,
       "visibility": null,
       "width": null
      }
     }
    },
    "version_major": 2,
    "version_minor": 0
   }
  }
 },
 "nbformat": 4,
 "nbformat_minor": 5
}
