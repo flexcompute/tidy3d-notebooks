{
 "cells": [
  {
   "cell_type": "markdown",
   "id": "89f983f5",
   "metadata": {},
   "source": [
    "# Genetic algorithm optimization of a silicon on-chip reflector"
   ]
  },
  {
   "cell_type": "markdown",
   "id": "c129793b",
   "metadata": {},
   "source": [
    "**Note: the cost of running the entire notebook is larger than 10 FlexCredits.**\n",
    "\n",
    "A [genetic algorithm](https://en.wikipedia.org/wiki/Genetic_algorithm) (GA) is a search heuristic that mimics the process of natural selection. This algorithm reflects the process of natural evolution where the fittest individuals are selected for reproduction in order to produce offspring of the next generation.\n",
    "\n",
    "The steps in a GA are typically as follows:\n",
    "\n",
    "1. **Initial Population**: The process begins with a set of individuals which is called a population. Each individual is a solution to the problem you want to solve.\n",
    "\n",
    "2. **Fitness Function**: Each individual in the population has a fitness score which indicates how good it is at solving the problem.\n",
    "\n",
    "3. **Selection**: The algorithm selects individuals, often the fittest among the population, to breed a new generation. The selection can be done in various ways, such as roulette wheel selection, tournament selection, etc.\n",
    "\n",
    "4. **Crossover**: During crossover, parts of two individuals' chromosome strings are swapped to get a new offspring, which may contain some parts of both parents' strings. This simulates reproduction and biological crossover.\n",
    "\n",
    "5. **Mutation**: In some new offspring, random genes are mutated or changed to maintain diversity within the population and to avoid premature convergence.\n",
    "\n",
    "6. **New Generation**: The new generation of population is formed by the offspring. This new generation is then used in the next iteration of the algorithm.\n",
    "\n",
    "7. **Termination**: The algorithm terminates if the population has converged (does not produce offspring that are significantly different from the previous generation), or a satisfactory solution has been found, or a set number of generations have been produced.\n",
    "\n",
    "GAs have become a powerful tool for optimizing photonic components, leveraging their ability to efficiently search large and complex design spaces. In photonics, where the performance of components like waveguides, photonic crystals, and fibers can be highly sensitive to geometrical and material parameters, GAs offer a way to find optimal solutions that might be difficult to discover using traditional design methods. \n",
    "\n",
    "In this notebook, we demonstrate the optimization of a compact silicon waveguide reflector using GA, utilizing the open source Python library [pyGAD](https://pygad.readthedocs.io/en/latest/) implemented into the `Tidy3D` Design plugin. The idea follows `Zejie Yu, Haoran Cui, and Xiankai Sun, \"Genetically optimized on-chip wideband ultracompact reflectors and Fabry–Perot cavities,\" Photon. Res. 5, B15-B19 (2017)` [DOI:10.1364/PRJ.5.000B15](https://doi.org/10.1364/PRJ.5.000B15). The design region of the reflector consists of a grid divided into 18x18 pixels. Each pixel is a square measuring 120 nm by 120 nm. \n",
    "\n",
    "<img src=\"img/optimized_reflector.png\" width=\"450\" alt=\"Schematic of the reflector\">\n",
    "\n",
    "`Tidy3D` is a powerful tool for photonic design optimization due to its fast speed and high throughput. Besides GA, we have demonstrated particle swarm optimizations of a [polarization beam splitter](https://www.flexcompute.com/tidy3d/examples/notebooks/ParticleSwarmOptimizedPBS/) and a [bullseye cavity](https://www.flexcompute.com/tidy3d/examples/notebooks/BullseyeCavityPSO/), CMA-ES optimization of an [waveguide S-bend](https://www.flexcompute.com/tidy3d/examples/notebooks/SbendCMAES/), Bayesian optimization of a [Y-junction](https://www.flexcompute.com/tidy3d/examples/notebooks/BayesianOptimizationYJunction/), and direct binary search optimization of an [optical switch](https://www.flexcompute.com/tidy3d/examples/notebooks/OpticalSwitchDBS/). Furthermore, we also have a growing list of gradient-based adjoint optimization examples including\n",
    "\n",
    "1. [Mode converter](https://www.flexcompute.com/tidy3d/examples/notebooks/AdjointPlugin3InverseDesign/),\n",
    "\n",
    "2. [Waveguide taper](https://www.flexcompute.com/tidy3d/examples/notebooks/AdjointPlugin5BoundaryGradients/),\n",
    "\n",
    "3. [Metalens](https://www.flexcompute.com/tidy3d/examples/notebooks/AdjointPlugin7Metalens/),\n",
    "\n",
    "4. [Waveguide bend](https://www.flexcompute.com/tidy3d/examples/notebooks/AdjointPlugin8WaveguideBend/), \n",
    "\n",
    "5. [Multiplexer](https://www.flexcompute.com/tidy3d/examples/notebooks/AdjointPlugin9WDM/),\n",
    "\n",
    "6. [Y-branch](https://www.flexcompute.com/tidy3d/examples/notebooks/AdjointPlugin10YBranchLevelSet/),\n",
    "\n",
    "7. [MZI circuit](https://www.flexcompute.com/tidy3d/examples/notebooks/AdjointPlugin11CircuitMZI/),\n",
    "\n",
    "8. [Light extractor](https://www.flexcompute.com/tidy3d/examples/notebooks/AdjointPlugin12LightExtractor/)."
   ]
  },
  {
   "cell_type": "code",
   "execution_count": 1,
   "id": "b9979b1b",
   "metadata": {},
   "outputs": [],
   "source": [
    "# Uncomment the following line to install pygad if it's not installed in your environment already\n",
    "# pip install pygad\n",
    "\n",
    "import numpy as np\n",
    "import matplotlib.pyplot as plt\n",
    "\n",
    "import tidy3d as td\n",
    "import tidy3d.web as web\n",
    "import tidy3d.plugins.design as tdd"
   ]
  },
  {
   "cell_type": "markdown",
   "id": "fb19411a",
   "metadata": {},
   "source": [
    "## Simulation Setup"
   ]
  },
  {
   "cell_type": "markdown",
   "id": "21fd3302",
   "metadata": {},
   "source": [
    "For simplicity, we will use the silicon and oxide media directly from the [material library](https://docs.flexcompute.com/projects/tidy3d/en/latest/api/material_library.html#)."
   ]
  },
  {
   "cell_type": "code",
   "execution_count": 2,
   "id": "3e01ad5e",
   "metadata": {},
   "outputs": [],
   "source": [
    "Si = td.material_library[\"cSi\"][\"Palik_Lossless\"]\n",
    "SiO2 = td.material_library[\"SiO2\"][\"Palik_Lossless\"]"
   ]
  },
  {
   "cell_type": "markdown",
   "id": "eb7a4663",
   "metadata": {},
   "source": [
    "The simulation wavelength range is 1450 nm to 1650 nm."
   ]
  },
  {
   "cell_type": "code",
   "execution_count": 3,
   "id": "531341c1",
   "metadata": {},
   "outputs": [],
   "source": [
    "lda0 = 1.55  # central wavelength\n",
    "freq0 = td.C_0 / lda0  # central frequency\n",
    "ldas = np.linspace(1.45, 1.65, 101)  # wavelength range\n",
    "freqs = td.C_0 / ldas  # frequency range\n",
    "fwidth = 0.5 * (np.max(freqs) - np.min(freqs))  # width of the source frequency range"
   ]
  },
  {
   "cell_type": "markdown",
   "id": "c58826ce",
   "metadata": {},
   "source": [
    "The waveguide has a 500 nm width and 220 nm thickness. The design region consists of 18 by 18 pixels. Each pixel is 120 nm by 120 nm. Due to the symmetry, we only consider symmetric design so the total number of tunable pixels is 18*9=162."
   ]
  },
  {
   "cell_type": "code",
   "execution_count": 4,
   "id": "70707ef4",
   "metadata": {},
   "outputs": [],
   "source": [
    "w = 0.5  # width of the waveguide\n",
    "t = 0.22  # thickness of the silicon\n",
    "l = 1  # length of the waveguide in the simulation\n",
    "Px = Py = 0.12  # pixel sizes in the x and y directions\n",
    "Nx = 18  # number of pixels in the x direction\n",
    "Ny = 9  # numbre of pixels in the y direction\n",
    "buffer = 0.8  # buffer spacing\n",
    "res = 15 # overall resolution setting (steps per wavelength)\n",
    "gsx = gsy = 5 # number of grid steps per pixel in override region"
   ]
  },
  {
   "cell_type": "markdown",
   "id": "7f6e1510",
   "metadata": {},
   "source": [
    "We will create an array of length 162 to represent a design. Each element corresponds to each pixel in the design region. An element value of 1 means the pixel is silicon while an element value of 0 means the pixel is void. To facilitate the optimization, we define a helper function `create_design(pixels)` that takes the pixel array and creates the [Structures](https://docs.flexcompute.com/projects/tidy3d/en/latest/api/_autosummary/tidy3d.Structure.html) of the simulation, inlcuding the waveguide and the design region. "
   ]
  },
  {
   "cell_type": "code",
   "execution_count": 5,
   "id": "04b74f92",
   "metadata": {},
   "outputs": [],
   "source": [
    "def create_design(pixels):\n",
    "    geo = 0\n",
    "    for i, pixel in enumerate(pixels):\n",
    "        if pixel == 1:\n",
    "            geo += td.Box(\n",
    "                center=(l + Px / 2 + Px * (i % Nx), Py * Ny - Py / 2 - Py * (i // Nx), t / 2),\n",
    "                size=(Px, Py, t),\n",
    "            )\n",
    "            geo += td.Box(\n",
    "                center=(l + Px / 2 + Px * (i % Nx), -(Py * Ny - Py / 2 - Py * (i // Nx)), t / 2),\n",
    "                size=(Px, Py, t),\n",
    "            )\n",
    "    geo = geo + td.Box(center=(0, 0, t / 2), size=(2 * l, w, t))\n",
    "\n",
    "    design = td.Structure(geometry=geo, medium=Si)\n",
    "\n",
    "    return design"
   ]
  },
  {
   "cell_type": "markdown",
   "id": "d4a87700",
   "metadata": {},
   "source": [
    "As a quick check, we create a random array and plot the created structures."
   ]
  },
  {
   "cell_type": "code",
   "execution_count": 6,
   "id": "3fc9d4e5",
   "metadata": {},
   "outputs": [
    {
     "data": {
      "image/png": "[encoded data removed]",
      "text/plain": [
       "<Figure size 640x480 with 1 Axes>"
      ]
     },
     "metadata": {},
     "output_type": "display_data"
    }
   ],
   "source": [
    "pixels = np.random.choice([0, 1], size=Nx * Ny)\n",
    "design = create_design(pixels)\n",
    "design.plot(z=t / 2)\n",
    "plt.show()"
   ]
  },
  {
   "cell_type": "markdown",
   "id": "93cfd3ca",
   "metadata": {},
   "source": [
    "Furthermore, we define a `make_sim(pixels)` function to define the entire simulation given the pixel array. The simulation includes a [ModeSource](https://docs.flexcompute.com/projects/tidy3d/en/latest/api/_autosummary/tidy3d.ModeSource.html) to launch the TE0 mode at the waveguide and a [ModeMonitor](https://docs.flexcompute.com/projects/tidy3d/en/latest/api/_autosummary/tidy3d.ModeMonitor.html) next to the source to measure the reflection. To minimize data download during the optimization, we will only record the reflection at the central wavelength of 1550 nm since the objective is to maximize this value. "
   ]
  },
  {
   "cell_type": "code",
   "execution_count": 7,
   "id": "cd22e367",
   "metadata": {},
   "outputs": [],
   "source": [
    "def make_sim(pixels):\n",
    "\n",
    "    design = create_design(pixels)\n",
    "\n",
    "    # Add a mode source as excitation\n",
    "    mode_spec = td.ModeSpec(num_modes=1, target_neff=3.5)\n",
    "    mode_source = td.ModeSource(\n",
    "        center=(l / 2, 0, t / 2),\n",
    "        size=(0, 4 * w, 6 * t),\n",
    "        source_time=td.GaussianPulse(freq0=freq0, fwidth=fwidth),\n",
    "        direction=\"+\",\n",
    "        mode_spec=mode_spec,\n",
    "        mode_index=0,\n",
    "    )\n",
    "\n",
    "    # Add a mode monitor to measure transmission at the output waveguide\n",
    "    mode_monitor = td.ModeMonitor(\n",
    "        center=(l / 4, 0, t / 2),\n",
    "        size=mode_source.size,\n",
    "        freqs=[freq0],\n",
    "        mode_spec=mode_spec,\n",
    "        name=\"mode\",\n",
    "    )\n",
    "\n",
    "    # Define simulation domain size\n",
    "    Lx = l + Nx * Px + buffer\n",
    "    Ly = 2 * Ny * Py + 2 * buffer\n",
    "    Lz = 10 * t\n",
    "\n",
    "    eff_inf = 1e2  # effective infinity\n",
    "\n",
    "    # Define substrate structure\n",
    "    substrate = td.Structure(\n",
    "        geometry=td.Box.from_bounds(\n",
    "            rmin=(-eff_inf, -eff_inf, -eff_inf), rmax=(eff_inf, eff_inf, 0)\n",
    "        ),\n",
    "        medium=SiO2,\n",
    "    )\n",
    "\n",
    "    run_time = 5e-13  # simulation run time\n",
    "\n",
    "    # Simulation box\n",
    "    sim_box = td.Box.from_bounds(rmin=(0, -Ly / 2, -Lz / 2), rmax=(Lx, Ly / 2, Lz / 2))\n",
    "\n",
    "    # Mesh override structure over the pixel region to ensure grid that conforms to the pixels\n",
    "    mesh_override = td.MeshOverrideStructure(\n",
    "        geometry=td.Box.from_bounds(rmin=(l, -Py * Ny, 0), rmax=(l + Px * Nx, Py * Ny, 0)),\n",
    "        dl=(Px / gsx, Py / gsy, 1), # the z-direction dl doesn't matter as the box size is 0 along z\n",
    "    )\n",
    "\n",
    "    # Define simulation\n",
    "    sim = td.Simulation(\n",
    "        center=sim_box.center,\n",
    "        size=sim_box.size,\n",
    "        grid_spec=td.GridSpec.auto(min_steps_per_wvl=res, wavelength=lda0, override_structures=[mesh_override]),\n",
    "        structures=[design, substrate],\n",
    "        sources=[mode_source],\n",
    "        monitors=[mode_monitor],\n",
    "        run_time=run_time,\n",
    "        boundary_spec=td.BoundarySpec.all_sides(boundary=td.PML()),\n",
    "        symmetry=(0, -1, 0),\n",
    "    )\n",
    "\n",
    "    return sim"
   ]
  },
  {
   "cell_type": "markdown",
   "id": "174fe54c",
   "metadata": {},
   "source": [
    "Again, we test it by defining a simulation with a random pixel array. From the 3D view, we confirm that the simulation setup is correct."
   ]
  },
  {
   "cell_type": "code",
   "execution_count": 8,
   "id": "cc3e6ad7",
   "metadata": {},
   "outputs": [
    {
     "data": {
      "text/html": [
       "\n",
       "    <div class=\"simulation-viewer\" data-width=\"800\" data-height=\"800\" data-simulation=\"{&quot;attrs&quot;: {}, &quot;type&quot;: &quot;Simulation&quot;, &quot;center&quot;: [1.98, 0.0, 0.0], &quot;size&quot;: [3.96, 3.7600000000000002, 2.2], &quot;medium&quot;: {&quot;attrs&quot;: {}, &quot;name&quot;: null, &quot;frequency_range&quot;: null, &quot;allow_gain&quot;: false, &quot;nonlinear_spec&quot;: null, &quot;modulation_spec&quot;: null, &quot;heat_spec&quot;: null, &quot;electric_spec&quot;: null, &quot;type&quot;: &quot;Medium&quot;, &quot;permittivity&quot;: 1.0, &quot;conductivity&quot;: 0.0}, &quot;structures&quot;: [{&quot;attrs&quot;: {}, &quot;geometry&quot;: {&quot;attrs&quot;: {}, &quot;type&quot;: &quot;GeometryGroup&quot;, &quot;geometries&quot;: [{&quot;attrs&quot;: {}, &quot;type&quot;: &quot;Box&quot;, &quot;center&quot;: [1.06, 1.02, 0.11], &quot;size&quot;: [0.12, 0.12, 0.22]}, {&quot;attrs&quot;: {}, &quot;type&quot;: &quot;Box&quot;, &quot;center&quot;: [1.06, -1.02, 0.11], &quot;size&quot;: [0.12, 0.12, 0.22]}, {&quot;attrs&quot;: {}, &quot;type&quot;: &quot;Box&quot;, &quot;center&quot;: [1.3, 1.02, 0.11], &quot;size&quot;: [0.12, 0.12, 0.22]}, {&quot;attrs&quot;: {}, &quot;type&quot;: &quot;Box&quot;, &quot;center&quot;: [1.3, -1.02, 0.11], &quot;size&quot;: [0.12, 0.12, 0.22]}, {&quot;attrs&quot;: {}, &quot;type&quot;: &quot;Box&quot;, &quot;center&quot;: [1.54, 1.02, 0.11], &quot;size&quot;: [0.12, 0.12, 0.22]}, {&quot;attrs&quot;: {}, &quot;type&quot;: &quot;Box&quot;, &quot;center&quot;: [1.54, -1.02, 0.11], &quot;size&quot;: [0.12, 0.12, 0.22]}, {&quot;attrs&quot;: {}, &quot;type&quot;: &quot;Box&quot;, &quot;center&quot;: [1.78, 1.02, 0.11], &quot;size&quot;: [0.12, 0.12, 0.22]}, {&quot;attrs&quot;: {}, &quot;type&quot;: &quot;Box&quot;, &quot;center&quot;: [1.78, -1.02, 0.11], &quot;size&quot;: [0.12, 0.12, 0.22]}, {&quot;attrs&quot;: {}, &quot;type&quot;: &quot;Box&quot;, &quot;center&quot;: [1.9, 1.02, 0.11], &quot;size&quot;: [0.12, 0.12, 0.22]}, {&quot;attrs&quot;: {}, &quot;type&quot;: &quot;Box&quot;, &quot;center&quot;: [1.9, -1.02, 0.11], &quot;size&quot;: [0.12, 0.12, 0.22]}, {&quot;attrs&quot;: {}, &quot;type&quot;: &quot;Box&quot;, &quot;center&quot;: [2.38, 1.02, 0.11], &quot;size&quot;: [0.12, 0.12, 0.22]}, {&quot;attrs&quot;: {}, &quot;type&quot;: &quot;Box&quot;, &quot;center&quot;: [2.38, -1.02, 0.11], &quot;size&quot;: [0.12, 0.12, 0.22]}, {&quot;attrs&quot;: {}, &quot;type&quot;: &quot;Box&quot;, &quot;center&quot;: [2.5, 1.02, 0.11], &quot;size&quot;: [0.12, 0.12, 0.22]}, {&quot;attrs&quot;: {}, &quot;type&quot;: &quot;Box&quot;, &quot;center&quot;: [2.5, -1.02, 0.11], &quot;size&quot;: [0.12, 0.12, 0.22]}, {&quot;attrs&quot;: {}, &quot;type&quot;: &quot;Box&quot;, &quot;center&quot;: [2.62, 1.02, 0.11], &quot;size&quot;: [0.12, 0.12, 0.22]}, {&quot;attrs&quot;: {}, &quot;type&quot;: &quot;Box&quot;, &quot;center&quot;: [2.62, -1.02, 0.11], &quot;size&quot;: [0.12, 0.12, 0.22]}, {&quot;attrs&quot;: {}, &quot;type&quot;: &quot;Box&quot;, &quot;center&quot;: [2.98, 1.02, 0.11], &quot;size&quot;: [0.12, 0.12, 0.22]}, {&quot;attrs&quot;: {}, &quot;type&quot;: &quot;Box&quot;, &quot;center&quot;: [2.98, -1.02, 0.11], &quot;size&quot;: [0.12, 0.12, 0.22]}, {&quot;attrs&quot;: {}, &quot;type&quot;: &quot;Box&quot;, &quot;center&quot;: [1.42, 0.9, 0.11], &quot;size&quot;: [0.12, 0.12, 0.22]}, {&quot;attrs&quot;: {}, &quot;type&quot;: &quot;Box&quot;, &quot;center&quot;: [1.42, -0.9, 0.11], &quot;size&quot;: [0.12, 0.12, 0.22]}, {&quot;attrs&quot;: {}, &quot;type&quot;: &quot;Box&quot;, &quot;center&quot;: [1.54, 0.9, 0.11], &quot;size&quot;: [0.12, 0.12, 0.22]}, {&quot;attrs&quot;: {}, &quot;type&quot;: &quot;Box&quot;, &quot;center&quot;: [1.54, -0.9, 0.11], &quot;size&quot;: [0.12, 0.12, 0.22]}, {&quot;attrs&quot;: {}, &quot;type&quot;: &quot;Box&quot;, &quot;center&quot;: [1.6600000000000001, 0.9, 0.11], &quot;size&quot;: [0.12, 0.12, 0.22]}, {&quot;attrs&quot;: {}, &quot;type&quot;: &quot;Box&quot;, &quot;center&quot;: [1.6600000000000001, -0.9, 0.11], &quot;size&quot;: [0.12, 0.12, 0.22]}, {&quot;attrs&quot;: {}, &quot;type&quot;: &quot;Box&quot;, &quot;center&quot;: [1.9, 0.9, 0.11], &quot;size&quot;: [0.12, 0.12, 0.22]}, {&quot;attrs&quot;: {}, &quot;type&quot;: &quot;Box&quot;, &quot;center&quot;: [1.9, -0.9, 0.11], &quot;size&quot;: [0.12, 0.12, 0.22]}, {&quot;attrs&quot;: {}, &quot;type&quot;: &quot;Box&quot;, &quot;center&quot;: [2.02, 0.9, 0.11], &quot;size&quot;: [0.12, 0.12, 0.22]}, {&quot;attrs&quot;: {}, &quot;type&quot;: &quot;Box&quot;, &quot;center&quot;: [2.02, -0.9, 0.11], &quot;size&quot;: [0.12, 0.12, 0.22]}, {&quot;attrs&quot;: {}, &quot;type&quot;: &quot;Box&quot;, &quot;center&quot;: [2.14, 0.9, 0.11], &quot;size&quot;: [0.12, 0.12, 0.22]}, {&quot;attrs&quot;: {}, &quot;type&quot;: &quot;Box&quot;, &quot;center&quot;: [2.14, -0.9, 0.11], &quot;size&quot;: [0.12, 0.12, 0.22]}, {&quot;attrs&quot;: {}, &quot;type&quot;: &quot;Box&quot;, &quot;center&quot;: [2.26, 0.9, 0.11], &quot;size&quot;: [0.12, 0.12, 0.22]}, {&quot;attrs&quot;: {}, &quot;type&quot;: &quot;Box&quot;, &quot;center&quot;: [2.26, -0.9, 0.11], &quot;size&quot;: [0.12, 0.12, 0.22]}, {&quot;attrs&quot;: {}, &quot;type&quot;: &quot;Box&quot;, &quot;center&quot;: [2.38, 0.9, 0.11], &quot;size&quot;: [0.12, 0.12, 0.22]}, {&quot;attrs&quot;: {}, &quot;type&quot;: &quot;Box&quot;, &quot;center&quot;: [2.38, -0.9, 0.11], &quot;size&quot;: [0.12, 0.12, 0.22]}, {&quot;attrs&quot;: {}, &quot;type&quot;: &quot;Box&quot;, &quot;center&quot;: [2.5, 0.9, 0.11], &quot;size&quot;: [0.12, 0.12, 0.22]}, {&quot;attrs&quot;: {}, &quot;type&quot;: &quot;Box&quot;, &quot;center&quot;: [2.5, -0.9, 0.11], &quot;size&quot;: [0.12, 0.12, 0.22]}, {&quot;attrs&quot;: {}, &quot;type&quot;: &quot;Box&quot;, &quot;center&quot;: [2.62, 0.9, 0.11], &quot;size&quot;: [0.12, 0.12, 0.22]}, {&quot;attrs&quot;: {}, &quot;type&quot;: &quot;Box&quot;, &quot;center&quot;: [2.62, -0.9, 0.11], &quot;size&quot;: [0.12, 0.12, 0.22]}, {&quot;attrs&quot;: {}, &quot;type&quot;: &quot;Box&quot;, &quot;center&quot;: [2.98, 0.9, 0.11], &quot;size&quot;: [0.12, 0.12, 0.22]}, {&quot;attrs&quot;: {}, &quot;type&quot;: &quot;Box&quot;, &quot;center&quot;: [2.98, -0.9, 0.11], &quot;size&quot;: [0.12, 0.12, 0.22]}, {&quot;attrs&quot;: {}, &quot;type&quot;: &quot;Box&quot;, &quot;center&quot;: [1.54, 0.78, 0.11], &quot;size&quot;: [0.12, 0.12, 0.22]}, {&quot;attrs&quot;: {}, &quot;type&quot;: &quot;Box&quot;, &quot;center&quot;: [1.54, -0.78, 0.11], &quot;size&quot;: [0.12, 0.12, 0.22]}, {&quot;attrs&quot;: {}, &quot;type&quot;: &quot;Box&quot;, &quot;center&quot;: [1.9, 0.78, 0.11], &quot;size&quot;: [0.12, 0.12, 0.22]}, {&quot;attrs&quot;: {}, &quot;type&quot;: &quot;Box&quot;, &quot;center&quot;: [1.9, -0.78, 0.11], &quot;size&quot;: [0.12, 0.12, 0.22]}, {&quot;attrs&quot;: {}, &quot;type&quot;: &quot;Box&quot;, &quot;center&quot;: [2.02, 0.78, 0.11], &quot;size&quot;: [0.12, 0.12, 0.22]}, {&quot;attrs&quot;: {}, &quot;type&quot;: &quot;Box&quot;, &quot;center&quot;: [2.02, -0.78, 0.11], &quot;size&quot;: [0.12, 0.12, 0.22]}, {&quot;attrs&quot;: {}, &quot;type&quot;: &quot;Box&quot;, &quot;center&quot;: [2.14, 0.78, 0.11], &quot;size&quot;: [0.12, 0.12, 0.22]}, {&quot;attrs&quot;: {}, &quot;type&quot;: &quot;Box&quot;, &quot;center&quot;: [2.14, -0.78, 0.11], &quot;size&quot;: [0.12, 0.12, 0.22]}, {&quot;attrs&quot;: {}, &quot;type&quot;: &quot;Box&quot;, &quot;center&quot;: [2.5, 0.78, 0.11], &quot;size&quot;: [0.12, 0.12, 0.22]}, {&quot;attrs&quot;: {}, &quot;type&quot;: &quot;Box&quot;, &quot;center&quot;: [2.5, -0.78, 0.11], &quot;size&quot;: [0.12, 0.12, 0.22]}, {&quot;attrs&quot;: {}, &quot;type&quot;: &quot;Box&quot;, &quot;center&quot;: [3.1, 0.78, 0.11], &quot;size&quot;: [0.12, 0.12, 0.22]}, {&quot;attrs&quot;: {}, &quot;type&quot;: &quot;Box&quot;, &quot;center&quot;: [3.1, -0.78, 0.11], &quot;size&quot;: [0.12, 0.12, 0.22]}, {&quot;attrs&quot;: {}, &quot;type&quot;: &quot;Box&quot;, &quot;center&quot;: [1.3, 0.66, 0.11], &quot;size&quot;: [0.12, 0.12, 0.22]}, {&quot;attrs&quot;: {}, &quot;type&quot;: &quot;Box&quot;, &quot;center&quot;: [1.3, -0.66, 0.11], &quot;size&quot;: [0.12, 0.12, 0.22]}, {&quot;attrs&quot;: {}, &quot;type&quot;: &quot;Box&quot;, &quot;center&quot;: [1.6600000000000001, 0.66, 0.11], &quot;size&quot;: [0.12, 0.12, 0.22]}, {&quot;attrs&quot;: {}, &quot;type&quot;: &quot;Box&quot;, &quot;center&quot;: [1.6600000000000001, -0.66, 0.11], &quot;size&quot;: [0.12, 0.12, 0.22]}, {&quot;attrs&quot;: {}, &quot;type&quot;: &quot;Box&quot;, &quot;center&quot;: [1.78, 0.66, 0.11], &quot;size&quot;: [0.12, 0.12, 0.22]}, {&quot;attrs&quot;: {}, &quot;type&quot;: &quot;Box&quot;, &quot;center&quot;: [1.78, -0.66, 0.11], &quot;size&quot;: [0.12, 0.12, 0.22]}, {&quot;attrs&quot;: {}, &quot;type&quot;: &quot;Box&quot;, &quot;center&quot;: [1.9, 0.66, 0.11], &quot;size&quot;: [0.12, 0.12, 0.22]}, {&quot;attrs&quot;: {}, &quot;type&quot;: &quot;Box&quot;, &quot;center&quot;: [1.9, -0.66, 0.11], &quot;size&quot;: [0.12, 0.12, 0.22]}, {&quot;attrs&quot;: {}, &quot;type&quot;: &quot;Box&quot;, &quot;center&quot;: [2.74, 0.66, 0.11], &quot;size&quot;: [0.12, 0.12, 0.22]}, {&quot;attrs&quot;: {}, &quot;type&quot;: &quot;Box&quot;, &quot;center&quot;: [2.74, -0.66, 0.11], &quot;size&quot;: [0.12, 0.12, 0.22]}, {&quot;attrs&quot;: {}, &quot;type&quot;: &quot;Box&quot;, &quot;center&quot;: [2.86, 0.66, 0.11], &quot;size&quot;: [0.12, 0.12, 0.22]}, {&quot;attrs&quot;: {}, &quot;type&quot;: &quot;Box&quot;, &quot;center&quot;: [2.86, -0.66, 0.11], &quot;size&quot;: [0.12, 0.12, 0.22]}, {&quot;attrs&quot;: {}, &quot;type&quot;: &quot;Box&quot;, &quot;center&quot;: [2.98, 0.66, 0.11], &quot;size&quot;: [0.12, 0.12, 0.22]}, {&quot;attrs&quot;: {}, &quot;type&quot;: &quot;Box&quot;, &quot;center&quot;: [2.98, -0.66, 0.11], &quot;size&quot;: [0.12, 0.12, 0.22]}, {&quot;attrs&quot;: {}, &quot;type&quot;: &quot;Box&quot;, &quot;center&quot;: [1.06, 0.54, 0.11], &quot;size&quot;: [0.12, 0.12, 0.22]}, {&quot;attrs&quot;: {}, &quot;type&quot;: &quot;Box&quot;, &quot;center&quot;: [1.06, -0.54, 0.11], &quot;size&quot;: [0.12, 0.12, 0.22]}, {&quot;attrs&quot;: {}, &quot;type&quot;: &quot;Box&quot;, &quot;center&quot;: [1.1800000000000002, 0.54, 0.11], &quot;size&quot;: [0.12, 0.12, 0.22]}, {&quot;attrs&quot;: {}, &quot;type&quot;: &quot;Box&quot;, &quot;center&quot;: [1.1800000000000002, -0.54, 0.11], &quot;size&quot;: [0.12, 0.12, 0.22]}, {&quot;attrs&quot;: {}, &quot;type&quot;: &quot;Box&quot;, &quot;center&quot;: [1.3, 0.54, 0.11], &quot;size&quot;: [0.12, 0.12, 0.22]}, {&quot;attrs&quot;: {}, &quot;type&quot;: &quot;Box&quot;, &quot;center&quot;: [1.3, -0.54, 0.11], &quot;size&quot;: [0.12, 0.12, 0.22]}, {&quot;attrs&quot;: {}, &quot;type&quot;: &quot;Box&quot;, &quot;center&quot;: [1.42, 0.54, 0.11], &quot;size&quot;: [0.12, 0.12, 0.22]}, {&quot;attrs&quot;: {}, &quot;type&quot;: &quot;Box&quot;, &quot;center&quot;: [1.42, -0.54, 0.11], &quot;size&quot;: [0.12, 0.12, 0.22]}, {&quot;attrs&quot;: {}, &quot;type&quot;: &quot;Box&quot;, &quot;center&quot;: [1.54, 0.54, 0.11], &quot;size&quot;: [0.12, 0.12, 0.22]}, {&quot;attrs&quot;: {}, &quot;type&quot;: &quot;Box&quot;, &quot;center&quot;: [1.54, -0.54, 0.11], &quot;size&quot;: [0.12, 0.12, 0.22]}, {&quot;attrs&quot;: {}, &quot;type&quot;: &quot;Box&quot;, &quot;center&quot;: [1.6600000000000001, 0.54, 0.11], &quot;size&quot;: [0.12, 0.12, 0.22]}, {&quot;attrs&quot;: {}, &quot;type&quot;: &quot;Box&quot;, &quot;center&quot;: [1.6600000000000001, -0.54, 0.11], &quot;size&quot;: [0.12, 0.12, 0.22]}, {&quot;attrs&quot;: {}, &quot;type&quot;: &quot;Box&quot;, &quot;center&quot;: [1.78, 0.54, 0.11], &quot;size&quot;: [0.12, 0.12, 0.22]}, {&quot;attrs&quot;: {}, &quot;type&quot;: &quot;Box&quot;, &quot;center&quot;: [1.78, -0.54, 0.11], &quot;size&quot;: [0.12, 0.12, 0.22]}, {&quot;attrs&quot;: {}, &quot;type&quot;: &quot;Box&quot;, &quot;center&quot;: [2.02, 0.54, 0.11], &quot;size&quot;: [0.12, 0.12, 0.22]}, {&quot;attrs&quot;: {}, &quot;type&quot;: &quot;Box&quot;, &quot;center&quot;: [2.02, -0.54, 0.11], &quot;size&quot;: [0.12, 0.12, 0.22]}, {&quot;attrs&quot;: {}, &quot;type&quot;: &quot;Box&quot;, &quot;center&quot;: [2.26, 0.54, 0.11], &quot;size&quot;: [0.12, 0.12, 0.22]}, {&quot;attrs&quot;: {}, &quot;type&quot;: &quot;Box&quot;, &quot;center&quot;: [2.26, -0.54, 0.11], &quot;size&quot;: [0.12, 0.12, 0.22]}, {&quot;attrs&quot;: {}, &quot;type&quot;: &quot;Box&quot;, &quot;center&quot;: [3.1, 0.54, 0.11], &quot;size&quot;: [0.12, 0.12, 0.22]}, {&quot;attrs&quot;: {}, &quot;type&quot;: &quot;Box&quot;, &quot;center&quot;: [3.1, -0.54, 0.11], &quot;size&quot;: [0.12, 0.12, 0.22]}, {&quot;attrs&quot;: {}, &quot;type&quot;: &quot;Box&quot;, &quot;center&quot;: [1.42, 0.42000000000000004, 0.11], &quot;size&quot;: [0.12, 0.12, 0.22]}, {&quot;attrs&quot;: {}, &quot;type&quot;: &quot;Box&quot;, &quot;center&quot;: [1.42, -0.42000000000000004, 0.11], &quot;size&quot;: [0.12, 0.12, 0.22]}, {&quot;attrs&quot;: {}, &quot;type&quot;: &quot;Box&quot;, &quot;center&quot;: [1.6600000000000001, 0.42000000000000004, 0.11], &quot;size&quot;: [0.12, 0.12, 0.22]}, {&quot;attrs&quot;: {}, &quot;type&quot;: &quot;Box&quot;, &quot;center&quot;: [1.6600000000000001, -0.42000000000000004, 0.11], &quot;size&quot;: [0.12, 0.12, 0.22]}, {&quot;attrs&quot;: {}, &quot;type&quot;: &quot;Box&quot;, &quot;center&quot;: [1.9, 0.42000000000000004, 0.11], &quot;size&quot;: [0.12, 0.12, 0.22]}, {&quot;attrs&quot;: {}, &quot;type&quot;: &quot;Box&quot;, &quot;center&quot;: [1.9, -0.42000000000000004, 0.11], &quot;size&quot;: [0.12, 0.12, 0.22]}, {&quot;attrs&quot;: {}, &quot;type&quot;: &quot;Box&quot;, &quot;center&quot;: [2.02, 0.42000000000000004, 0.11], &quot;size&quot;: [0.12, 0.12, 0.22]}, {&quot;attrs&quot;: {}, &quot;type&quot;: &quot;Box&quot;, &quot;center&quot;: [2.02, -0.42000000000000004, 0.11], &quot;size&quot;: [0.12, 0.12, 0.22]}, {&quot;attrs&quot;: {}, &quot;type&quot;: &quot;Box&quot;, &quot;center&quot;: [2.26, 0.42000000000000004, 0.11], &quot;size&quot;: [0.12, 0.12, 0.22]}, {&quot;attrs&quot;: {}, &quot;type&quot;: &quot;Box&quot;, &quot;center&quot;: [2.26, -0.42000000000000004, 0.11], &quot;size&quot;: [0.12, 0.12, 0.22]}, {&quot;attrs&quot;: {}, &quot;type&quot;: &quot;Box&quot;, &quot;center&quot;: [2.38, 0.42000000000000004, 0.11], &quot;size&quot;: [0.12, 0.12, 0.22]}, {&quot;attrs&quot;: {}, &quot;type&quot;: &quot;Box&quot;, &quot;center&quot;: [2.38, -0.42000000000000004, 0.11], &quot;size&quot;: [0.12, 0.12, 0.22]}, {&quot;attrs&quot;: {}, &quot;type&quot;: &quot;Box&quot;, &quot;center&quot;: [2.5, 0.42000000000000004, 0.11], &quot;size&quot;: [0.12, 0.12, 0.22]}, {&quot;attrs&quot;: {}, &quot;type&quot;: &quot;Box&quot;, &quot;center&quot;: [2.5, -0.42000000000000004, 0.11], &quot;size&quot;: [0.12, 0.12, 0.22]}, {&quot;attrs&quot;: {}, &quot;type&quot;: &quot;Box&quot;, &quot;center&quot;: [2.62, 0.42000000000000004, 0.11], &quot;size&quot;: [0.12, 0.12, 0.22]}, {&quot;attrs&quot;: {}, &quot;type&quot;: &quot;Box&quot;, &quot;center&quot;: [2.62, -0.42000000000000004, 0.11], &quot;size&quot;: [0.12, 0.12, 0.22]}, {&quot;attrs&quot;: {}, &quot;type&quot;: &quot;Box&quot;, &quot;center&quot;: [1.3, 0.30000000000000004, 0.11], &quot;size&quot;: [0.12, 0.12, 0.22]}, {&quot;attrs&quot;: {}, &quot;type&quot;: &quot;Box&quot;, &quot;center&quot;: [1.3, -0.30000000000000004, 0.11], &quot;size&quot;: [0.12, 0.12, 0.22]}, {&quot;attrs&quot;: {}, &quot;type&quot;: &quot;Box&quot;, &quot;center&quot;: [1.42, 0.30000000000000004, 0.11], &quot;size&quot;: [0.12, 0.12, 0.22]}, {&quot;attrs&quot;: {}, &quot;type&quot;: &quot;Box&quot;, &quot;center&quot;: [1.42, -0.30000000000000004, 0.11], &quot;size&quot;: [0.12, 0.12, 0.22]}, {&quot;attrs&quot;: {}, &quot;type&quot;: &quot;Box&quot;, &quot;center&quot;: [1.54, 0.30000000000000004, 0.11], &quot;size&quot;: [0.12, 0.12, 0.22]}, {&quot;attrs&quot;: {}, &quot;type&quot;: &quot;Box&quot;, &quot;center&quot;: [1.54, -0.30000000000000004, 0.11], &quot;size&quot;: [0.12, 0.12, 0.22]}, {&quot;attrs&quot;: {}, &quot;type&quot;: &quot;Box&quot;, &quot;center&quot;: [1.6600000000000001, 0.30000000000000004, 0.11], &quot;size&quot;: [0.12, 0.12, 0.22]}, {&quot;attrs&quot;: {}, &quot;type&quot;: &quot;Box&quot;, &quot;center&quot;: [1.6600000000000001, -0.30000000000000004, 0.11], &quot;size&quot;: [0.12, 0.12, 0.22]}, {&quot;attrs&quot;: {}, &quot;type&quot;: &quot;Box&quot;, &quot;center&quot;: [1.78, 0.30000000000000004, 0.11], &quot;size&quot;: [0.12, 0.12, 0.22]}, {&quot;attrs&quot;: {}, &quot;type&quot;: &quot;Box&quot;, &quot;center&quot;: [1.78, -0.30000000000000004, 0.11], &quot;size&quot;: [0.12, 0.12, 0.22]}, {&quot;attrs&quot;: {}, &quot;type&quot;: &quot;Box&quot;, &quot;center&quot;: [2.26, 0.30000000000000004, 0.11], &quot;size&quot;: [0.12, 0.12, 0.22]}, {&quot;attrs&quot;: {}, &quot;type&quot;: &quot;Box&quot;, &quot;center&quot;: [2.26, -0.30000000000000004, 0.11], &quot;size&quot;: [0.12, 0.12, 0.22]}, {&quot;attrs&quot;: {}, &quot;type&quot;: &quot;Box&quot;, &quot;center&quot;: [2.38, 0.30000000000000004, 0.11], &quot;size&quot;: [0.12, 0.12, 0.22]}, {&quot;attrs&quot;: {}, &quot;type&quot;: &quot;Box&quot;, &quot;center&quot;: [2.38, -0.30000000000000004, 0.11], &quot;size&quot;: [0.12, 0.12, 0.22]}, {&quot;attrs&quot;: {}, &quot;type&quot;: &quot;Box&quot;, &quot;center&quot;: [2.5, 0.30000000000000004, 0.11], &quot;size&quot;: [0.12, 0.12, 0.22]}, {&quot;attrs&quot;: {}, &quot;type&quot;: &quot;Box&quot;, &quot;center&quot;: [2.5, -0.30000000000000004, 0.11], &quot;size&quot;: [0.12, 0.12, 0.22]}, {&quot;attrs&quot;: {}, &quot;type&quot;: &quot;Box&quot;, &quot;center&quot;: [1.1800000000000002, 0.18000000000000005, 0.11], &quot;size&quot;: [0.12, 0.12, 0.22]}, {&quot;attrs&quot;: {}, &quot;type&quot;: &quot;Box&quot;, &quot;center&quot;: [1.1800000000000002, -0.18000000000000005, 0.11], &quot;size&quot;: [0.12, 0.12, 0.22]}, {&quot;attrs&quot;: {}, &quot;type&quot;: &quot;Box&quot;, &quot;center&quot;: [1.54, 0.18000000000000005, 0.11], &quot;size&quot;: [0.12, 0.12, 0.22]}, {&quot;attrs&quot;: {}, &quot;type&quot;: &quot;Box&quot;, &quot;center&quot;: [1.54, -0.18000000000000005, 0.11], &quot;size&quot;: [0.12, 0.12, 0.22]}, {&quot;attrs&quot;: {}, &quot;type&quot;: &quot;Box&quot;, &quot;center&quot;: [1.6600000000000001, 0.18000000000000005, 0.11], &quot;size&quot;: [0.12, 0.12, 0.22]}, {&quot;attrs&quot;: {}, &quot;type&quot;: &quot;Box&quot;, &quot;center&quot;: [1.6600000000000001, -0.18000000000000005, 0.11], &quot;size&quot;: [0.12, 0.12, 0.22]}, {&quot;attrs&quot;: {}, &quot;type&quot;: &quot;Box&quot;, &quot;center&quot;: [1.78, 0.18000000000000005, 0.11], &quot;size&quot;: [0.12, 0.12, 0.22]}, {&quot;attrs&quot;: {}, &quot;type&quot;: &quot;Box&quot;, &quot;center&quot;: [1.78, -0.18000000000000005, 0.11], &quot;size&quot;: [0.12, 0.12, 0.22]}, {&quot;attrs&quot;: {}, &quot;type&quot;: &quot;Box&quot;, &quot;center&quot;: [1.9, 0.18000000000000005, 0.11], &quot;size&quot;: [0.12, 0.12, 0.22]}, {&quot;attrs&quot;: {}, &quot;type&quot;: &quot;Box&quot;, &quot;center&quot;: [1.9, -0.18000000000000005, 0.11], &quot;size&quot;: [0.12, 0.12, 0.22]}, {&quot;attrs&quot;: {}, &quot;type&quot;: &quot;Box&quot;, &quot;center&quot;: [2.14, 0.18000000000000005, 0.11], &quot;size&quot;: [0.12, 0.12, 0.22]}, {&quot;attrs&quot;: {}, &quot;type&quot;: &quot;Box&quot;, &quot;center&quot;: [2.14, -0.18000000000000005, 0.11], &quot;size&quot;: [0.12, 0.12, 0.22]}, {&quot;attrs&quot;: {}, &quot;type&quot;: &quot;Box&quot;, &quot;center&quot;: [2.5, 0.18000000000000005, 0.11], &quot;size&quot;: [0.12, 0.12, 0.22]}, {&quot;attrs&quot;: {}, &quot;type&quot;: &quot;Box&quot;, &quot;center&quot;: [2.5, -0.18000000000000005, 0.11], &quot;size&quot;: [0.12, 0.12, 0.22]}, {&quot;attrs&quot;: {}, &quot;type&quot;: &quot;Box&quot;, &quot;center&quot;: [2.62, 0.18000000000000005, 0.11], &quot;size&quot;: [0.12, 0.12, 0.22]}, {&quot;attrs&quot;: {}, &quot;type&quot;: &quot;Box&quot;, &quot;center&quot;: [2.62, -0.18000000000000005, 0.11], &quot;size&quot;: [0.12, 0.12, 0.22]}, {&quot;attrs&quot;: {}, &quot;type&quot;: &quot;Box&quot;, &quot;center&quot;: [2.74, 0.18000000000000005, 0.11], &quot;size&quot;: [0.12, 0.12, 0.22]}, {&quot;attrs&quot;: {}, &quot;type&quot;: &quot;Box&quot;, &quot;center&quot;: [2.74, -0.18000000000000005, 0.11], &quot;size&quot;: [0.12, 0.12, 0.22]}, {&quot;attrs&quot;: {}, &quot;type&quot;: &quot;Box&quot;, &quot;center&quot;: [2.98, 0.18000000000000005, 0.11], &quot;size&quot;: [0.12, 0.12, 0.22]}, {&quot;attrs&quot;: {}, &quot;type&quot;: &quot;Box&quot;, &quot;center&quot;: [2.98, -0.18000000000000005, 0.11], &quot;size&quot;: [0.12, 0.12, 0.22]}, {&quot;attrs&quot;: {}, &quot;type&quot;: &quot;Box&quot;, &quot;center&quot;: [1.06, 0.06000000000000005, 0.11], &quot;size&quot;: [0.12, 0.12, 0.22]}, {&quot;attrs&quot;: {}, &quot;type&quot;: &quot;Box&quot;, &quot;center&quot;: [1.06, -0.06000000000000005, 0.11], &quot;size&quot;: [0.12, 0.12, 0.22]}, {&quot;attrs&quot;: {}, &quot;type&quot;: &quot;Box&quot;, &quot;center&quot;: [1.1800000000000002, 0.06000000000000005, 0.11], &quot;size&quot;: [0.12, 0.12, 0.22]}, {&quot;attrs&quot;: {}, &quot;type&quot;: &quot;Box&quot;, &quot;center&quot;: [1.1800000000000002, -0.06000000000000005, 0.11], &quot;size&quot;: [0.12, 0.12, 0.22]}, {&quot;attrs&quot;: {}, &quot;type&quot;: &quot;Box&quot;, &quot;center&quot;: [2.02, 0.06000000000000005, 0.11], &quot;size&quot;: [0.12, 0.12, 0.22]}, {&quot;attrs&quot;: {}, &quot;type&quot;: &quot;Box&quot;, &quot;center&quot;: [2.02, -0.06000000000000005, 0.11], &quot;size&quot;: [0.12, 0.12, 0.22]}, {&quot;attrs&quot;: {}, &quot;type&quot;: &quot;Box&quot;, &quot;center&quot;: [2.14, 0.06000000000000005, 0.11], &quot;size&quot;: [0.12, 0.12, 0.22]}, {&quot;attrs&quot;: {}, &quot;type&quot;: &quot;Box&quot;, &quot;center&quot;: [2.14, -0.06000000000000005, 0.11], &quot;size&quot;: [0.12, 0.12, 0.22]}, {&quot;attrs&quot;: {}, &quot;type&quot;: &quot;Box&quot;, &quot;center&quot;: [2.26, 0.06000000000000005, 0.11], &quot;size&quot;: [0.12, 0.12, 0.22]}, {&quot;attrs&quot;: {}, &quot;type&quot;: &quot;Box&quot;, &quot;center&quot;: [2.26, -0.06000000000000005, 0.11], &quot;size&quot;: [0.12, 0.12, 0.22]}, {&quot;attrs&quot;: {}, &quot;type&quot;: &quot;Box&quot;, &quot;center&quot;: [2.38, 0.06000000000000005, 0.11], &quot;size&quot;: [0.12, 0.12, 0.22]}, {&quot;attrs&quot;: {}, &quot;type&quot;: &quot;Box&quot;, &quot;center&quot;: [2.38, -0.06000000000000005, 0.11], &quot;size&quot;: [0.12, 0.12, 0.22]}, {&quot;attrs&quot;: {}, &quot;type&quot;: &quot;Box&quot;, &quot;center&quot;: [2.62, 0.06000000000000005, 0.11], &quot;size&quot;: [0.12, 0.12, 0.22]}, {&quot;attrs&quot;: {}, &quot;type&quot;: &quot;Box&quot;, &quot;center&quot;: [2.62, -0.06000000000000005, 0.11], &quot;size&quot;: [0.12, 0.12, 0.22]}, {&quot;attrs&quot;: {}, &quot;type&quot;: &quot;Box&quot;, &quot;center&quot;: [3.1, 0.06000000000000005, 0.11], &quot;size&quot;: [0.12, 0.12, 0.22]}, {&quot;attrs&quot;: {}, &quot;type&quot;: &quot;Box&quot;, &quot;center&quot;: [3.1, -0.06000000000000005, 0.11], &quot;size&quot;: [0.12, 0.12, 0.22]}, {&quot;attrs&quot;: {}, &quot;type&quot;: &quot;Box&quot;, &quot;center&quot;: [0.0, 0.0, 0.11], &quot;size&quot;: [2.0, 0.5, 0.22]}]}, &quot;name&quot;: null, &quot;autograd_background_permittivity&quot;: null, &quot;type&quot;: &quot;Structure&quot;, &quot;medium&quot;: {&quot;attrs&quot;: {}, &quot;name&quot;: null, &quot;frequency_range&quot;: [1199169832000.0, 249827048333333.34], &quot;allow_gain&quot;: false, &quot;nonlinear_spec&quot;: null, &quot;modulation_spec&quot;: null, &quot;heat_spec&quot;: null, &quot;electric_spec&quot;: null, &quot;type&quot;: &quot;PoleResidue&quot;, &quot;eps_inf&quot;: 1.0, &quot;poles&quot;: [[{&quot;real&quot;: -1.7473849958109988, &quot;imag&quot;: -6409829457220535.0}, {&quot;real&quot;: 0.06947645444424029, &quot;imag&quot;: 3.4268436708700284e+16}]]}}, {&quot;attrs&quot;: {}, &quot;geometry&quot;: {&quot;attrs&quot;: {}, &quot;type&quot;: &quot;Box&quot;, &quot;center&quot;: [0.0, 0.0, -50.0], &quot;size&quot;: [200.0, 200.0, 100.0]}, &quot;name&quot;: null, &quot;autograd_background_permittivity&quot;: null, &quot;type&quot;: &quot;Structure&quot;, &quot;medium&quot;: {&quot;attrs&quot;: {}, &quot;name&quot;: null, &quot;frequency_range&quot;: [59958491600000.0, 1998616386666666.8], &quot;allow_gain&quot;: false, &quot;nonlinear_spec&quot;: null, &quot;modulation_spec&quot;: null, &quot;heat_spec&quot;: null, &quot;electric_spec&quot;: null, &quot;type&quot;: &quot;PoleResidue&quot;, &quot;eps_inf&quot;: 1.5385442336875639, &quot;poles&quot;: [[{&quot;real&quot;: -11504139.374277674, &quot;imag&quot;: -1.595196740783775e+16}, {&quot;real&quot;: 7507685.43042605, &quot;imag&quot;: 4535416182817100.0}], [{&quot;real&quot;: -249390.3565044153, &quot;imag&quot;: -172280738540723.53}, {&quot;real&quot;: 46272.506981344035, &quot;imag&quot;: 99704543223121.88}]]}}], &quot;symmetry&quot;: [0, -1, 0], &quot;sources&quot;: [{&quot;attrs&quot;: {}, &quot;name&quot;: null, &quot;type&quot;: &quot;ModeSource&quot;, &quot;center&quot;: [0.5, 0.0, 0.11], &quot;size&quot;: [0.0, 2.0, 1.32], &quot;source_time&quot;: {&quot;attrs&quot;: {}, &quot;amplitude&quot;: 1.0, &quot;phase&quot;: 0.0, &quot;type&quot;: &quot;GaussianPulse&quot;, &quot;freq0&quot;: 193414489032258.06, &quot;fwidth&quot;: 12530510261233.016, &quot;offset&quot;: 5.0, &quot;remove_dc_component&quot;: true}, &quot;num_freqs&quot;: 1, &quot;direction&quot;: &quot;+&quot;, &quot;mode_spec&quot;: {&quot;attrs&quot;: {}, &quot;num_modes&quot;: 1, &quot;target_neff&quot;: 3.5, &quot;num_pml&quot;: [0, 0], &quot;filter_pol&quot;: null, &quot;angle_theta&quot;: 0.0, &quot;angle_phi&quot;: 0.0, &quot;precision&quot;: &quot;single&quot;, &quot;bend_radius&quot;: null, &quot;bend_axis&quot;: null, &quot;track_freq&quot;: &quot;central&quot;, &quot;group_index_step&quot;: false, &quot;type&quot;: &quot;ModeSpec&quot;}, &quot;mode_index&quot;: 0}], &quot;boundary_spec&quot;: {&quot;attrs&quot;: {}, &quot;x&quot;: {&quot;attrs&quot;: {}, &quot;plus&quot;: {&quot;attrs&quot;: {}, &quot;name&quot;: null, &quot;type&quot;: &quot;PML&quot;, &quot;num_layers&quot;: 12, &quot;parameters&quot;: {&quot;attrs&quot;: {}, &quot;sigma_order&quot;: 3, &quot;sigma_min&quot;: 0.0, &quot;sigma_max&quot;: 1.5, &quot;type&quot;: &quot;PMLParams&quot;, &quot;kappa_order&quot;: 3, &quot;kappa_min&quot;: 1.0, &quot;kappa_max&quot;: 3.0, &quot;alpha_order&quot;: 1, &quot;alpha_min&quot;: 0.0, &quot;alpha_max&quot;: 0.0}}, &quot;minus&quot;: {&quot;attrs&quot;: {}, &quot;name&quot;: null, &quot;type&quot;: &quot;PML&quot;, &quot;num_layers&quot;: 12, &quot;parameters&quot;: {&quot;attrs&quot;: {}, &quot;sigma_order&quot;: 3, &quot;sigma_min&quot;: 0.0, &quot;sigma_max&quot;: 1.5, &quot;type&quot;: &quot;PMLParams&quot;, &quot;kappa_order&quot;: 3, &quot;kappa_min&quot;: 1.0, &quot;kappa_max&quot;: 3.0, &quot;alpha_order&quot;: 1, &quot;alpha_min&quot;: 0.0, &quot;alpha_max&quot;: 0.0}}, &quot;type&quot;: &quot;Boundary&quot;}, &quot;y&quot;: {&quot;attrs&quot;: {}, &quot;plus&quot;: {&quot;attrs&quot;: {}, &quot;name&quot;: null, &quot;type&quot;: &quot;PML&quot;, &quot;num_layers&quot;: 12, &quot;parameters&quot;: {&quot;attrs&quot;: {}, &quot;sigma_order&quot;: 3, &quot;sigma_min&quot;: 0.0, &quot;sigma_max&quot;: 1.5, &quot;type&quot;: &quot;PMLParams&quot;, &quot;kappa_order&quot;: 3, &quot;kappa_min&quot;: 1.0, &quot;kappa_max&quot;: 3.0, &quot;alpha_order&quot;: 1, &quot;alpha_min&quot;: 0.0, &quot;alpha_max&quot;: 0.0}}, &quot;minus&quot;: {&quot;attrs&quot;: {}, &quot;name&quot;: null, &quot;type&quot;: &quot;PML&quot;, &quot;num_layers&quot;: 12, &quot;parameters&quot;: {&quot;attrs&quot;: {}, &quot;sigma_order&quot;: 3, &quot;sigma_min&quot;: 0.0, &quot;sigma_max&quot;: 1.5, &quot;type&quot;: &quot;PMLParams&quot;, &quot;kappa_order&quot;: 3, &quot;kappa_min&quot;: 1.0, &quot;kappa_max&quot;: 3.0, &quot;alpha_order&quot;: 1, &quot;alpha_min&quot;: 0.0, &quot;alpha_max&quot;: 0.0}}, &quot;type&quot;: &quot;Boundary&quot;}, &quot;z&quot;: {&quot;attrs&quot;: {}, &quot;plus&quot;: {&quot;attrs&quot;: {}, &quot;name&quot;: null, &quot;type&quot;: &quot;PML&quot;, &quot;num_layers&quot;: 12, &quot;parameters&quot;: {&quot;attrs&quot;: {}, &quot;sigma_order&quot;: 3, &quot;sigma_min&quot;: 0.0, &quot;sigma_max&quot;: 1.5, &quot;type&quot;: &quot;PMLParams&quot;, &quot;kappa_order&quot;: 3, &quot;kappa_min&quot;: 1.0, &quot;kappa_max&quot;: 3.0, &quot;alpha_order&quot;: 1, &quot;alpha_min&quot;: 0.0, &quot;alpha_max&quot;: 0.0}}, &quot;minus&quot;: {&quot;attrs&quot;: {}, &quot;name&quot;: null, &quot;type&quot;: &quot;PML&quot;, &quot;num_layers&quot;: 12, &quot;parameters&quot;: {&quot;attrs&quot;: {}, &quot;sigma_order&quot;: 3, &quot;sigma_min&quot;: 0.0, &quot;sigma_max&quot;: 1.5, &quot;type&quot;: &quot;PMLParams&quot;, &quot;kappa_order&quot;: 3, &quot;kappa_min&quot;: 1.0, &quot;kappa_max&quot;: 3.0, &quot;alpha_order&quot;: 1, &quot;alpha_min&quot;: 0.0, &quot;alpha_max&quot;: 0.0}}, &quot;type&quot;: &quot;Boundary&quot;}, &quot;type&quot;: &quot;BoundarySpec&quot;}, &quot;monitors&quot;: [{&quot;attrs&quot;: {}, &quot;type&quot;: &quot;ModeMonitor&quot;, &quot;center&quot;: [0.25, 0.0, 0.11], &quot;size&quot;: [0.0, 2.0, 1.32], &quot;name&quot;: &quot;mode&quot;, &quot;interval_space&quot;: [1, 1, 1], &quot;colocate&quot;: false, &quot;freqs&quot;: [193414489032258.06], &quot;apodization&quot;: {&quot;attrs&quot;: {}, &quot;start&quot;: null, &quot;end&quot;: null, &quot;width&quot;: null, &quot;type&quot;: &quot;ApodizationSpec&quot;}, &quot;mode_spec&quot;: {&quot;attrs&quot;: {}, &quot;num_modes&quot;: 1, &quot;target_neff&quot;: 3.5, &quot;num_pml&quot;: [0, 0], &quot;filter_pol&quot;: null, &quot;angle_theta&quot;: 0.0, &quot;angle_phi&quot;: 0.0, &quot;precision&quot;: &quot;single&quot;, &quot;bend_radius&quot;: null, &quot;bend_axis&quot;: null, &quot;track_freq&quot;: &quot;central&quot;, &quot;group_index_step&quot;: false, &quot;type&quot;: &quot;ModeSpec&quot;}, &quot;store_fields_direction&quot;: null}], &quot;grid_spec&quot;: {&quot;attrs&quot;: {}, &quot;grid_x&quot;: {&quot;attrs&quot;: {}, &quot;type&quot;: &quot;AutoGrid&quot;, &quot;min_steps_per_wvl&quot;: 15.0, &quot;max_scale&quot;: 1.4, &quot;dl_min&quot;: 0.0, &quot;mesher&quot;: {&quot;attrs&quot;: {}, &quot;type&quot;: &quot;GradedMesher&quot;}}, &quot;grid_y&quot;: {&quot;attrs&quot;: {}, &quot;type&quot;: &quot;AutoGrid&quot;, &quot;min_steps_per_wvl&quot;: 15.0, &quot;max_scale&quot;: 1.4, &quot;dl_min&quot;: 0.0, &quot;mesher&quot;: {&quot;attrs&quot;: {}, &quot;type&quot;: &quot;GradedMesher&quot;}}, &quot;grid_z&quot;: {&quot;attrs&quot;: {}, &quot;type&quot;: &quot;AutoGrid&quot;, &quot;min_steps_per_wvl&quot;: 15.0, &quot;max_scale&quot;: 1.4, &quot;dl_min&quot;: 0.0, &quot;mesher&quot;: {&quot;attrs&quot;: {}, &quot;type&quot;: &quot;GradedMesher&quot;}}, &quot;wavelength&quot;: 1.55, &quot;override_structures&quot;: [{&quot;attrs&quot;: {}, &quot;geometry&quot;: {&quot;attrs&quot;: {}, &quot;type&quot;: &quot;Box&quot;, &quot;center&quot;: [2.08, 0.0, 0.0], &quot;size&quot;: [2.16, 2.16, 0.0]}, &quot;name&quot;: null, &quot;autograd_background_permittivity&quot;: null, &quot;type&quot;: &quot;MeshOverrideStructure&quot;, &quot;dl&quot;: [0.024, 0.024, 1.0], &quot;enforce&quot;: false}], &quot;snapping_points&quot;: [], &quot;type&quot;: &quot;GridSpec&quot;}, &quot;version&quot;: &quot;2.8.0rc1&quot;, &quot;plot_length_units&quot;: &quot;\\u03bcm&quot;, &quot;lumped_elements&quot;: [], &quot;subpixel&quot;: {&quot;attrs&quot;: {}, &quot;dielectric&quot;: {&quot;attrs&quot;: {}, &quot;type&quot;: &quot;PolarizedAveraging&quot;}, &quot;metal&quot;: {&quot;attrs&quot;: {}, &quot;type&quot;: &quot;Staircasing&quot;}, &quot;pec&quot;: {&quot;attrs&quot;: {}, &quot;type&quot;: &quot;PECConformal&quot;, &quot;timestep_reduction&quot;: 0.3}, &quot;type&quot;: &quot;SubpixelSpec&quot;}, &quot;courant&quot;: 0.99, &quot;normalize_index&quot;: 0, &quot;shutoff&quot;: 1e-05, &quot;run_time&quot;: 5e-13}\" />\n",
       "    <script>\n",
       "        \n",
       "        /**\n",
       "        * Simulation Viewer Injector\n",
       "        *\n",
       "        * Monitors the document for elements being added in the form:\n",
       "        *\n",
       "        *    <div class=\"simulation-viewer\" data-width=\"800\" data-height=\"800\" data-simulation=\"{...}\" />\n",
       "        *\n",
       "        * This script will then inject an iframe to the viewer application, and pass it the simulation data\n",
       "        * via the postMessage API on request. The script may be safely included multiple times, with only the\n",
       "        * configuration of the first started script (e.g. viewer URL) applying.\n",
       "        *\n",
       "        */\n",
       "        (function() {\n",
       "            const TARGET_CLASS = \"simulation-viewer\";\n",
       "            const ACTIVE_CLASS = \"simulation-viewer-active\";\n",
       "            const VIEWER_URL = \"https://feature-simulation-viewer.d3a9gfg7glllfq.amplifyapp.com/simulation-viewer\";\n",
       "\n",
       "            class SimulationViewerInjector {\n",
       "                constructor() {\n",
       "                    for (var node of document.getElementsByClassName(TARGET_CLASS)) {\n",
       "                        this.injectViewer(node);\n",
       "                    }\n",
       "\n",
       "                    // Monitor for newly added nodes to the DOM\n",
       "                    this.observer = new MutationObserver(this.onMutations.bind(this));\n",
       "                    this.observer.observe(document.body, {childList: true, subtree: true});\n",
       "                }\n",
       "\n",
       "                onMutations(mutations) {\n",
       "                    for (var mutation of mutations) {\n",
       "                        if (mutation.type === 'childList') {\n",
       "                            /**\n",
       "                            * Have found that adding the element does not reliably trigger the mutation observer.\n",
       "                            * It may be the case that setting content with innerHTML does not trigger.\n",
       "                            *\n",
       "                            * It seems to be sufficient to re-scan the document for un-activated viewers\n",
       "                            * whenever an event occurs, as Jupyter triggers multiple events on cell evaluation.\n",
       "                            */\n",
       "                            var viewers = document.getElementsByClassName(TARGET_CLASS);\n",
       "                            for (var node of viewers) {\n",
       "                                this.injectViewer(node);\n",
       "                            }\n",
       "                        }\n",
       "                    }\n",
       "                }\n",
       "\n",
       "                injectViewer(node) {\n",
       "                    // (re-)check that this is a valid simulation container and has not already been injected\n",
       "                    if (node.classList.contains(TARGET_CLASS) && !node.classList.contains(ACTIVE_CLASS)) {\n",
       "                        // Mark node as injected, to prevent re-runs\n",
       "                        node.classList.add(ACTIVE_CLASS);\n",
       "\n",
       "                        var uuid;\n",
       "                        if (window.crypto && window.crypto.randomUUID) {\n",
       "                            uuid = window.crypto.randomUUID();\n",
       "                        } else {\n",
       "                            uuid = \"\" + Math.random();\n",
       "                        }\n",
       "\n",
       "                        var frame = document.createElement(\"iframe\");\n",
       "                        frame.width = node.dataset.width || 800;\n",
       "                        frame.height = node.dataset.height || 800;\n",
       "                        frame.src = VIEWER_URL + \"?uuid=\" + uuid;\n",
       "\n",
       "                        var postMessageToViewer;\n",
       "                        postMessageToViewer = event => {{\n",
       "                            if(event.data.type === 'viewer' && event.data.uuid===uuid){{\n",
       "                                var simulation = JSON.parse(node.dataset.simulation);\n",
       "                                frame.contentWindow.postMessage({ type: 'jupyter', uuid, value: simulation}, '*');\n",
       "\n",
       "                                // Run once only\n",
       "                                window.removeEventListener('message', postMessageToViewer);\n",
       "                            }}\n",
       "                        }};\n",
       "                        window.addEventListener(\n",
       "                            'message',\n",
       "                            postMessageToViewer,\n",
       "                            false\n",
       "                        );\n",
       "\n",
       "                        node.appendChild(frame);\n",
       "                    }\n",
       "                }\n",
       "            }\n",
       "\n",
       "            if (!window.simulationViewerInjector) {\n",
       "                window.simulationViewerInjector = new SimulationViewerInjector();\n",
       "            }\n",
       "        })();\n",
       "    \n",
       "    </script>\n",
       "    "
      ],
      "text/plain": [
       "<IPython.core.display.HTML object>"
      ]
     },
     "metadata": {},
     "output_type": "display_data"
    }
   ],
   "source": [
    "sim = make_sim(pixels)\n",
    "sim.plot_3d()"
   ]
  },
  {
   "cell_type": "markdown",
   "id": "a25227f1",
   "metadata": {},
   "source": [
    "## GA Setup"
   ]
  },
  {
   "cell_type": "markdown",
   "id": "e62a2da5",
   "metadata": {},
   "source": [
    "Now we are ready to setup a GA optimization. This can quickly be done using the Tidy3D `Design` plugin, which can efficiently manage the optimization with parallel cloud computing, reducing the runtime and saving FlexCredits.\n",
    "\n",
    "First we need to define some hyperparameters. In this particular example, we will use 30 solutions per population and run the optimization for a total of 25 generations, and also specify early-stop criteria that stops the optimization if the fitness value doesn't change for 6 consecutive generations. The `MethodGenAlg` class can be used to tune a number of parameters that change the selection, crossover, and mutation processes. We only change a few and leave the most to the default settings. Users are encouraged to explore these settings using the [PyGAD](https://pygad.readthedocs.io/en/latest/pygad.html#pygad-ga-class) docs and fine tune them for better results. For reproducibility, we also set a fixed random seed.\n",
    "\n",
    "A list `ParameterInt` objects are created to store the binary values used to define the geometry of the reflector. These parameters and the GA method are supplied to a `DesignSpace` object, which manages the GA process and outputs the results of the optimization."
   ]
  },
  {
   "cell_type": "code",
   "execution_count": 9,
   "id": "0a60323d-aac4-44a0-a855-e3f3e7057027",
   "metadata": {},
   "outputs": [],
   "source": [
    "method = tdd.MethodGenAlg(\n",
    "    solutions_per_pop=30, \n",
    "    n_generations=25,\n",
    "    n_parents_mating=10,\n",
    "    keep_elitism=1,\n",
    "    parent_selection_type=\"sss\",\n",
    "    crossover_type=\"single_point\",\n",
    "    crossover_prob=0.7,\n",
    "    mutation_type=\"inversion\",\n",
    "    mutation_prob=None,\n",
    "    seed=5,\n",
    "    stop_criteria_type=\"saturate\",\n",
    "    stop_criteria_number=6,\n",
    ")\n",
    "\n",
    "parameters = [tdd.ParameterInt(name=i, span=(0, 1)) for i in range(Nx * Ny)]\n",
    "\n",
    "design_space = tdd.DesignSpace(method=method, parameters=parameters, task_name=\"GA_Notebook\", path_dir=\"./data\")"
   ]
  },
  {
   "cell_type": "markdown",
   "id": "68b26822",
   "metadata": {},
   "source": [
    "We can optionally summarise the design space to check the setup."
   ]
  },
  {
   "cell_type": "code",
   "execution_count": null,
   "id": "92509ea6",
   "metadata": {},
   "outputs": [],
   "source": [
    "summary = design_space.summarize()"
   ]
  },
  {
   "cell_type": "markdown",
   "id": "9be63767",
   "metadata": {},
   "source": [
    "To run the GA optimization we need to define the `fn_pre` and `fn_post` functions for the optmizer. The pre function creates a `Simulation` from the parameters suggested by GA as a solution to the reflector. The post function defines how the `SimulationData` should be evaluated to create a single float value which is then fed back into the GA. By evaluating of the float values of the current generation the GA can then assemble the population for the next generation, based on our hyperparameters."
   ]
  },
  {
   "cell_type": "code",
   "execution_count": 10,
   "id": "4873608a",
   "metadata": {},
   "outputs": [],
   "source": [
    "def fn_pre(**params):\n",
    "    pixels = np.array(list(params.values()))\n",
    "    sim = make_sim(pixels)\n",
    "    \n",
    "    return sim\n",
    "\n",
    "def fn_post(sim_data):\n",
    "    return abs(sim_data[\"mode\"].amps.sel(direction=\"-\").squeeze(drop=True).values) ** 2"
   ]
  },
  {
   "cell_type": "markdown",
   "id": "94a1d492",
   "metadata": {},
   "source": [
    "Once satisfied with the setup, the optimization can be started by calling `DesignSpace.run` with our `fn_pre` and `fn_post` functions. The `DesignSpace` will parallelize each generation by running the `Simulation` objects as a batch, and will prevent previously evaluated solutions from being recomputed. Once complete, we can combine all the solution outputs within a Pandas `DataFrame` for further analysis."
   ]
  },
  {
   "cell_type": "code",
   "execution_count": 11,
   "id": "191a78ce",
   "metadata": {},
   "outputs": [
    {
     "data": {
      "text/html": [
       "<pre style=\"white-space:pre;overflow-x:auto;line-height:normal;font-family:Menlo,'DejaVu Sans Mono',consolas,'Courier New',monospace\"><span style=\"color: #7fbfbf; text-decoration-color: #7fbfbf\">09:41:57 BST </span>Running <span style=\"color: #008080; text-decoration-color: #008080; font-weight: bold\">30</span> Simulations                                             \n",
       "</pre>\n"
      ],
      "text/plain": [
       "\u001b[2;36m09:41:57 BST\u001b[0m\u001b[2;36m \u001b[0mRunning \u001b[1;36m30\u001b[0m Simulations                                             \n"
      ]
     },
     "metadata": {},
     "output_type": "display_data"
    },
    {
     "data": {
      "text/html": [
       "<pre style=\"white-space:pre;overflow-x:auto;line-height:normal;font-family:Menlo,'DejaVu Sans Mono',consolas,'Courier New',monospace\"><span style=\"color: #7fbfbf; text-decoration-color: #7fbfbf\">09:43:21 BST </span>Running <span style=\"color: #008080; text-decoration-color: #008080; font-weight: bold\">29</span> Simulations                                             \n",
       "</pre>\n"
      ],
      "text/plain": [
       "\u001b[2;36m09:43:21 BST\u001b[0m\u001b[2;36m \u001b[0mRunning \u001b[1;36m29\u001b[0m Simulations                                             \n"
      ]
     },
     "metadata": {},
     "output_type": "display_data"
    },
    {
     "data": {
      "text/html": [
       "<pre style=\"white-space:pre;overflow-x:auto;line-height:normal;font-family:Menlo,'DejaVu Sans Mono',consolas,'Courier New',monospace\"><span style=\"color: #7fbfbf; text-decoration-color: #7fbfbf\">09:44:43 BST </span>Generation <span style=\"color: #008080; text-decoration-color: #008080; font-weight: bold\">1</span> Best Fitness: <span style=\"color: #008080; text-decoration-color: #008080; font-weight: bold\">0.723</span>                                   \n",
       "</pre>\n"
      ],
      "text/plain": [
       "\u001b[2;36m09:44:43 BST\u001b[0m\u001b[2;36m \u001b[0mGeneration \u001b[1;36m1\u001b[0m Best Fitness: \u001b[1;36m0.723\u001b[0m                                   \n"
      ]
     },
     "metadata": {},
     "output_type": "display_data"
    },
    {
     "data": {
      "text/html": [
       "<pre style=\"white-space:pre;overflow-x:auto;line-height:normal;font-family:Menlo,'DejaVu Sans Mono',consolas,'Courier New',monospace\"><span style=\"color: #7fbfbf; text-decoration-color: #7fbfbf\">09:44:44 BST </span>Running <span style=\"color: #008080; text-decoration-color: #008080; font-weight: bold\">29</span> Simulations                                             \n",
       "</pre>\n"
      ],
      "text/plain": [
       "\u001b[2;36m09:44:44 BST\u001b[0m\u001b[2;36m \u001b[0mRunning \u001b[1;36m29\u001b[0m Simulations                                             \n"
      ]
     },
     "metadata": {},
     "output_type": "display_data"
    },
    {
     "data": {
      "text/html": [
       "<pre style=\"white-space:pre;overflow-x:auto;line-height:normal;font-family:Menlo,'DejaVu Sans Mono',consolas,'Courier New',monospace\"><span style=\"color: #7fbfbf; text-decoration-color: #7fbfbf\">09:46:02 BST </span>Generation <span style=\"color: #008080; text-decoration-color: #008080; font-weight: bold\">2</span> Best Fitness: <span style=\"color: #008080; text-decoration-color: #008080; font-weight: bold\">0.760</span>                                   \n",
       "</pre>\n"
      ],
      "text/plain": [
       "\u001b[2;36m09:46:02 BST\u001b[0m\u001b[2;36m \u001b[0mGeneration \u001b[1;36m2\u001b[0m Best Fitness: \u001b[1;36m0.760\u001b[0m                                   \n"
      ]
     },
     "metadata": {},
     "output_type": "display_data"
    },
    {
     "data": {
      "text/html": [
       "<pre style=\"white-space:pre;overflow-x:auto;line-height:normal;font-family:Menlo,'DejaVu Sans Mono',consolas,'Courier New',monospace\"><span style=\"color: #7fbfbf; text-decoration-color: #7fbfbf\">09:46:03 BST </span>Running <span style=\"color: #008080; text-decoration-color: #008080; font-weight: bold\">29</span> Simulations                                             \n",
       "</pre>\n"
      ],
      "text/plain": [
       "\u001b[2;36m09:46:03 BST\u001b[0m\u001b[2;36m \u001b[0mRunning \u001b[1;36m29\u001b[0m Simulations                                             \n"
      ]
     },
     "metadata": {},
     "output_type": "display_data"
    },
    {
     "data": {
      "text/html": [
       "<pre style=\"white-space:pre;overflow-x:auto;line-height:normal;font-family:Menlo,'DejaVu Sans Mono',consolas,'Courier New',monospace\"><span style=\"color: #7fbfbf; text-decoration-color: #7fbfbf\">09:49:36 BST </span>Generation <span style=\"color: #008080; text-decoration-color: #008080; font-weight: bold\">3</span> Best Fitness: <span style=\"color: #008080; text-decoration-color: #008080; font-weight: bold\">0.760</span>                                   \n",
       "</pre>\n"
      ],
      "text/plain": [
       "\u001b[2;36m09:49:36 BST\u001b[0m\u001b[2;36m \u001b[0mGeneration \u001b[1;36m3\u001b[0m Best Fitness: \u001b[1;36m0.760\u001b[0m                                   \n"
      ]
     },
     "metadata": {},
     "output_type": "display_data"
    },
    {
     "data": {
      "text/html": [
       "<pre style=\"white-space:pre;overflow-x:auto;line-height:normal;font-family:Menlo,'DejaVu Sans Mono',consolas,'Courier New',monospace\"><span style=\"color: #7fbfbf; text-decoration-color: #7fbfbf\">09:49:37 BST </span>Running <span style=\"color: #008080; text-decoration-color: #008080; font-weight: bold\">29</span> Simulations                                             \n",
       "</pre>\n"
      ],
      "text/plain": [
       "\u001b[2;36m09:49:37 BST\u001b[0m\u001b[2;36m \u001b[0mRunning \u001b[1;36m29\u001b[0m Simulations                                             \n"
      ]
     },
     "metadata": {},
     "output_type": "display_data"
    },
    {
     "data": {
      "text/html": [
       "<pre style=\"white-space:pre;overflow-x:auto;line-height:normal;font-family:Menlo,'DejaVu Sans Mono',consolas,'Courier New',monospace\"><span style=\"color: #7fbfbf; text-decoration-color: #7fbfbf\">09:50:59 BST </span>Generation <span style=\"color: #008080; text-decoration-color: #008080; font-weight: bold\">4</span> Best Fitness: <span style=\"color: #008080; text-decoration-color: #008080; font-weight: bold\">0.760</span>                                   \n",
       "</pre>\n"
      ],
      "text/plain": [
       "\u001b[2;36m09:50:59 BST\u001b[0m\u001b[2;36m \u001b[0mGeneration \u001b[1;36m4\u001b[0m Best Fitness: \u001b[1;36m0.760\u001b[0m                                   \n"
      ]
     },
     "metadata": {},
     "output_type": "display_data"
    },
    {
     "data": {
      "text/html": [
       "<pre style=\"white-space:pre;overflow-x:auto;line-height:normal;font-family:Menlo,'DejaVu Sans Mono',consolas,'Courier New',monospace\"><span style=\"color: #7fbfbf; text-decoration-color: #7fbfbf\">09:51:00 BST </span>Running <span style=\"color: #008080; text-decoration-color: #008080; font-weight: bold\">29</span> Simulations                                             \n",
       "</pre>\n"
      ],
      "text/plain": [
       "\u001b[2;36m09:51:00 BST\u001b[0m\u001b[2;36m \u001b[0mRunning \u001b[1;36m29\u001b[0m Simulations                                             \n"
      ]
     },
     "metadata": {},
     "output_type": "display_data"
    },
    {
     "data": {
      "text/html": [
       "<pre style=\"white-space:pre;overflow-x:auto;line-height:normal;font-family:Menlo,'DejaVu Sans Mono',consolas,'Courier New',monospace\"><span style=\"color: #7fbfbf; text-decoration-color: #7fbfbf\">09:52:25 BST </span>Generation <span style=\"color: #008080; text-decoration-color: #008080; font-weight: bold\">5</span> Best Fitness: <span style=\"color: #008080; text-decoration-color: #008080; font-weight: bold\">0.765</span>                                   \n",
       "</pre>\n"
      ],
      "text/plain": [
       "\u001b[2;36m09:52:25 BST\u001b[0m\u001b[2;36m \u001b[0mGeneration \u001b[1;36m5\u001b[0m Best Fitness: \u001b[1;36m0.765\u001b[0m                                   \n"
      ]
     },
     "metadata": {},
     "output_type": "display_data"
    },
    {
     "data": {
      "text/html": [
       "<pre style=\"white-space:pre;overflow-x:auto;line-height:normal;font-family:Menlo,'DejaVu Sans Mono',consolas,'Courier New',monospace\"><span style=\"color: #7fbfbf; text-decoration-color: #7fbfbf\">09:52:26 BST </span>Running <span style=\"color: #008080; text-decoration-color: #008080; font-weight: bold\">29</span> Simulations                                             \n",
       "</pre>\n"
      ],
      "text/plain": [
       "\u001b[2;36m09:52:26 BST\u001b[0m\u001b[2;36m \u001b[0mRunning \u001b[1;36m29\u001b[0m Simulations                                             \n"
      ]
     },
     "metadata": {},
     "output_type": "display_data"
    },
    {
     "data": {
      "text/html": [
       "<pre style=\"white-space:pre;overflow-x:auto;line-height:normal;font-family:Menlo,'DejaVu Sans Mono',consolas,'Courier New',monospace\"><span style=\"color: #7fbfbf; text-decoration-color: #7fbfbf\">09:53:47 BST </span>Generation <span style=\"color: #008080; text-decoration-color: #008080; font-weight: bold\">6</span> Best Fitness: <span style=\"color: #008080; text-decoration-color: #008080; font-weight: bold\">0.765</span>                                   \n",
       "</pre>\n"
      ],
      "text/plain": [
       "\u001b[2;36m09:53:47 BST\u001b[0m\u001b[2;36m \u001b[0mGeneration \u001b[1;36m6\u001b[0m Best Fitness: \u001b[1;36m0.765\u001b[0m                                   \n"
      ]
     },
     "metadata": {},
     "output_type": "display_data"
    },
    {
     "data": {
      "text/html": [
       "<pre style=\"white-space:pre;overflow-x:auto;line-height:normal;font-family:Menlo,'DejaVu Sans Mono',consolas,'Courier New',monospace\"><span style=\"color: #7fbfbf; text-decoration-color: #7fbfbf\">             </span>Running <span style=\"color: #008080; text-decoration-color: #008080; font-weight: bold\">29</span> Simulations                                             \n",
       "</pre>\n"
      ],
      "text/plain": [
       "\u001b[2;36m            \u001b[0m\u001b[2;36m \u001b[0mRunning \u001b[1;36m29\u001b[0m Simulations                                             \n"
      ]
     },
     "metadata": {},
     "output_type": "display_data"
    },
    {
     "data": {
      "text/html": [
       "<pre style=\"white-space:pre;overflow-x:auto;line-height:normal;font-family:Menlo,'DejaVu Sans Mono',consolas,'Courier New',monospace\"><span style=\"color: #7fbfbf; text-decoration-color: #7fbfbf\">09:55:12 BST </span>Generation <span style=\"color: #008080; text-decoration-color: #008080; font-weight: bold\">7</span> Best Fitness: <span style=\"color: #008080; text-decoration-color: #008080; font-weight: bold\">0.784</span>                                   \n",
       "</pre>\n"
      ],
      "text/plain": [
       "\u001b[2;36m09:55:12 BST\u001b[0m\u001b[2;36m \u001b[0mGeneration \u001b[1;36m7\u001b[0m Best Fitness: \u001b[1;36m0.784\u001b[0m                                   \n"
      ]
     },
     "metadata": {},
     "output_type": "display_data"
    },
    {
     "data": {
      "text/html": [
       "<pre style=\"white-space:pre;overflow-x:auto;line-height:normal;font-family:Menlo,'DejaVu Sans Mono',consolas,'Courier New',monospace\"><span style=\"color: #7fbfbf; text-decoration-color: #7fbfbf\">             </span>Running <span style=\"color: #008080; text-decoration-color: #008080; font-weight: bold\">29</span> Simulations                                             \n",
       "</pre>\n"
      ],
      "text/plain": [
       "\u001b[2;36m            \u001b[0m\u001b[2;36m \u001b[0mRunning \u001b[1;36m29\u001b[0m Simulations                                             \n"
      ]
     },
     "metadata": {},
     "output_type": "display_data"
    },
    {
     "data": {
      "text/html": [
       "<pre style=\"white-space:pre;overflow-x:auto;line-height:normal;font-family:Menlo,'DejaVu Sans Mono',consolas,'Courier New',monospace\"><span style=\"color: #7fbfbf; text-decoration-color: #7fbfbf\">09:56:32 BST </span>Generation <span style=\"color: #008080; text-decoration-color: #008080; font-weight: bold\">8</span> Best Fitness: <span style=\"color: #008080; text-decoration-color: #008080; font-weight: bold\">0.784</span>                                   \n",
       "</pre>\n"
      ],
      "text/plain": [
       "\u001b[2;36m09:56:32 BST\u001b[0m\u001b[2;36m \u001b[0mGeneration \u001b[1;36m8\u001b[0m Best Fitness: \u001b[1;36m0.784\u001b[0m                                   \n"
      ]
     },
     "metadata": {},
     "output_type": "display_data"
    },
    {
     "data": {
      "text/html": [
       "<pre style=\"white-space:pre;overflow-x:auto;line-height:normal;font-family:Menlo,'DejaVu Sans Mono',consolas,'Courier New',monospace\"><span style=\"color: #7fbfbf; text-decoration-color: #7fbfbf\">09:56:33 BST </span>Running <span style=\"color: #008080; text-decoration-color: #008080; font-weight: bold\">29</span> Simulations                                             \n",
       "</pre>\n"
      ],
      "text/plain": [
       "\u001b[2;36m09:56:33 BST\u001b[0m\u001b[2;36m \u001b[0mRunning \u001b[1;36m29\u001b[0m Simulations                                             \n"
      ]
     },
     "metadata": {},
     "output_type": "display_data"
    },
    {
     "data": {
      "text/html": [
       "<pre style=\"white-space:pre;overflow-x:auto;line-height:normal;font-family:Menlo,'DejaVu Sans Mono',consolas,'Courier New',monospace\"><span style=\"color: #7fbfbf; text-decoration-color: #7fbfbf\">09:57:51 BST </span>Generation <span style=\"color: #008080; text-decoration-color: #008080; font-weight: bold\">9</span> Best Fitness: <span style=\"color: #008080; text-decoration-color: #008080; font-weight: bold\">0.803</span>                                   \n",
       "</pre>\n"
      ],
      "text/plain": [
       "\u001b[2;36m09:57:51 BST\u001b[0m\u001b[2;36m \u001b[0mGeneration \u001b[1;36m9\u001b[0m Best Fitness: \u001b[1;36m0.803\u001b[0m                                   \n"
      ]
     },
     "metadata": {},
     "output_type": "display_data"
    },
    {
     "data": {
      "text/html": [
       "<pre style=\"white-space:pre;overflow-x:auto;line-height:normal;font-family:Menlo,'DejaVu Sans Mono',consolas,'Courier New',monospace\"><span style=\"color: #7fbfbf; text-decoration-color: #7fbfbf\">09:57:52 BST </span>Running <span style=\"color: #008080; text-decoration-color: #008080; font-weight: bold\">29</span> Simulations                                             \n",
       "</pre>\n"
      ],
      "text/plain": [
       "\u001b[2;36m09:57:52 BST\u001b[0m\u001b[2;36m \u001b[0mRunning \u001b[1;36m29\u001b[0m Simulations                                             \n"
      ]
     },
     "metadata": {},
     "output_type": "display_data"
    },
    {
     "data": {
      "text/html": [
       "<pre style=\"white-space:pre;overflow-x:auto;line-height:normal;font-family:Menlo,'DejaVu Sans Mono',consolas,'Courier New',monospace\"><span style=\"color: #7fbfbf; text-decoration-color: #7fbfbf\">09:59:08 BST </span>Generation <span style=\"color: #008080; text-decoration-color: #008080; font-weight: bold\">10</span> Best Fitness: <span style=\"color: #008080; text-decoration-color: #008080; font-weight: bold\">0.816</span>                                  \n",
       "</pre>\n"
      ],
      "text/plain": [
       "\u001b[2;36m09:59:08 BST\u001b[0m\u001b[2;36m \u001b[0mGeneration \u001b[1;36m10\u001b[0m Best Fitness: \u001b[1;36m0.816\u001b[0m                                  \n"
      ]
     },
     "metadata": {},
     "output_type": "display_data"
    },
    {
     "data": {
      "text/html": [
       "<pre style=\"white-space:pre;overflow-x:auto;line-height:normal;font-family:Menlo,'DejaVu Sans Mono',consolas,'Courier New',monospace\"><span style=\"color: #7fbfbf; text-decoration-color: #7fbfbf\">09:59:09 BST </span>Running <span style=\"color: #008080; text-decoration-color: #008080; font-weight: bold\">29</span> Simulations                                             \n",
       "</pre>\n"
      ],
      "text/plain": [
       "\u001b[2;36m09:59:09 BST\u001b[0m\u001b[2;36m \u001b[0mRunning \u001b[1;36m29\u001b[0m Simulations                                             \n"
      ]
     },
     "metadata": {},
     "output_type": "display_data"
    },
    {
     "data": {
      "text/html": [
       "<pre style=\"white-space:pre;overflow-x:auto;line-height:normal;font-family:Menlo,'DejaVu Sans Mono',consolas,'Courier New',monospace\"><span style=\"color: #7fbfbf; text-decoration-color: #7fbfbf\">10:00:30 BST </span>Generation <span style=\"color: #008080; text-decoration-color: #008080; font-weight: bold\">11</span> Best Fitness: <span style=\"color: #008080; text-decoration-color: #008080; font-weight: bold\">0.816</span>                                  \n",
       "</pre>\n"
      ],
      "text/plain": [
       "\u001b[2;36m10:00:30 BST\u001b[0m\u001b[2;36m \u001b[0mGeneration \u001b[1;36m11\u001b[0m Best Fitness: \u001b[1;36m0.816\u001b[0m                                  \n"
      ]
     },
     "metadata": {},
     "output_type": "display_data"
    },
    {
     "data": {
      "text/html": [
       "<pre style=\"white-space:pre;overflow-x:auto;line-height:normal;font-family:Menlo,'DejaVu Sans Mono',consolas,'Courier New',monospace\"><span style=\"color: #7fbfbf; text-decoration-color: #7fbfbf\">10:00:31 BST </span>Running <span style=\"color: #008080; text-decoration-color: #008080; font-weight: bold\">29</span> Simulations                                             \n",
       "</pre>\n"
      ],
      "text/plain": [
       "\u001b[2;36m10:00:31 BST\u001b[0m\u001b[2;36m \u001b[0mRunning \u001b[1;36m29\u001b[0m Simulations                                             \n"
      ]
     },
     "metadata": {},
     "output_type": "display_data"
    },
    {
     "data": {
      "text/html": [
       "<pre style=\"white-space:pre;overflow-x:auto;line-height:normal;font-family:Menlo,'DejaVu Sans Mono',consolas,'Courier New',monospace\"><span style=\"color: #7fbfbf; text-decoration-color: #7fbfbf\">10:01:46 BST </span>Generation <span style=\"color: #008080; text-decoration-color: #008080; font-weight: bold\">12</span> Best Fitness: <span style=\"color: #008080; text-decoration-color: #008080; font-weight: bold\">0.829</span>                                  \n",
       "</pre>\n"
      ],
      "text/plain": [
       "\u001b[2;36m10:01:46 BST\u001b[0m\u001b[2;36m \u001b[0mGeneration \u001b[1;36m12\u001b[0m Best Fitness: \u001b[1;36m0.829\u001b[0m                                  \n"
      ]
     },
     "metadata": {},
     "output_type": "display_data"
    },
    {
     "data": {
      "text/html": [
       "<pre style=\"white-space:pre;overflow-x:auto;line-height:normal;font-family:Menlo,'DejaVu Sans Mono',consolas,'Courier New',monospace\"><span style=\"color: #7fbfbf; text-decoration-color: #7fbfbf\">10:01:47 BST </span>Running <span style=\"color: #008080; text-decoration-color: #008080; font-weight: bold\">29</span> Simulations                                             \n",
       "</pre>\n"
      ],
      "text/plain": [
       "\u001b[2;36m10:01:47 BST\u001b[0m\u001b[2;36m \u001b[0mRunning \u001b[1;36m29\u001b[0m Simulations                                             \n"
      ]
     },
     "metadata": {},
     "output_type": "display_data"
    },
    {
     "data": {
      "text/html": [
       "<pre style=\"white-space:pre;overflow-x:auto;line-height:normal;font-family:Menlo,'DejaVu Sans Mono',consolas,'Courier New',monospace\"><span style=\"color: #7fbfbf; text-decoration-color: #7fbfbf\">10:03:05 BST </span>Generation <span style=\"color: #008080; text-decoration-color: #008080; font-weight: bold\">13</span> Best Fitness: <span style=\"color: #008080; text-decoration-color: #008080; font-weight: bold\">0.829</span>                                  \n",
       "</pre>\n"
      ],
      "text/plain": [
       "\u001b[2;36m10:03:05 BST\u001b[0m\u001b[2;36m \u001b[0mGeneration \u001b[1;36m13\u001b[0m Best Fitness: \u001b[1;36m0.829\u001b[0m                                  \n"
      ]
     },
     "metadata": {},
     "output_type": "display_data"
    },
    {
     "data": {
      "text/html": [
       "<pre style=\"white-space:pre;overflow-x:auto;line-height:normal;font-family:Menlo,'DejaVu Sans Mono',consolas,'Courier New',monospace\"><span style=\"color: #7fbfbf; text-decoration-color: #7fbfbf\">10:03:06 BST </span>Running <span style=\"color: #008080; text-decoration-color: #008080; font-weight: bold\">29</span> Simulations                                             \n",
       "</pre>\n"
      ],
      "text/plain": [
       "\u001b[2;36m10:03:06 BST\u001b[0m\u001b[2;36m \u001b[0mRunning \u001b[1;36m29\u001b[0m Simulations                                             \n"
      ]
     },
     "metadata": {},
     "output_type": "display_data"
    },
    {
     "data": {
      "text/html": [
       "<pre style=\"white-space:pre;overflow-x:auto;line-height:normal;font-family:Menlo,'DejaVu Sans Mono',consolas,'Courier New',monospace\"><span style=\"color: #7fbfbf; text-decoration-color: #7fbfbf\">10:04:24 BST </span>Generation <span style=\"color: #008080; text-decoration-color: #008080; font-weight: bold\">14</span> Best Fitness: <span style=\"color: #008080; text-decoration-color: #008080; font-weight: bold\">0.829</span>                                  \n",
       "</pre>\n"
      ],
      "text/plain": [
       "\u001b[2;36m10:04:24 BST\u001b[0m\u001b[2;36m \u001b[0mGeneration \u001b[1;36m14\u001b[0m Best Fitness: \u001b[1;36m0.829\u001b[0m                                  \n"
      ]
     },
     "metadata": {},
     "output_type": "display_data"
    },
    {
     "data": {
      "text/html": [
       "<pre style=\"white-space:pre;overflow-x:auto;line-height:normal;font-family:Menlo,'DejaVu Sans Mono',consolas,'Courier New',monospace\"><span style=\"color: #7fbfbf; text-decoration-color: #7fbfbf\">10:04:25 BST </span>Running <span style=\"color: #008080; text-decoration-color: #008080; font-weight: bold\">29</span> Simulations                                             \n",
       "</pre>\n"
      ],
      "text/plain": [
       "\u001b[2;36m10:04:25 BST\u001b[0m\u001b[2;36m \u001b[0mRunning \u001b[1;36m29\u001b[0m Simulations                                             \n"
      ]
     },
     "metadata": {},
     "output_type": "display_data"
    },
    {
     "data": {
      "text/html": [
       "<pre style=\"white-space:pre;overflow-x:auto;line-height:normal;font-family:Menlo,'DejaVu Sans Mono',consolas,'Courier New',monospace\"><span style=\"color: #7fbfbf; text-decoration-color: #7fbfbf\">10:05:44 BST </span>Generation <span style=\"color: #008080; text-decoration-color: #008080; font-weight: bold\">15</span> Best Fitness: <span style=\"color: #008080; text-decoration-color: #008080; font-weight: bold\">0.866</span>                                  \n",
       "</pre>\n"
      ],
      "text/plain": [
       "\u001b[2;36m10:05:44 BST\u001b[0m\u001b[2;36m \u001b[0mGeneration \u001b[1;36m15\u001b[0m Best Fitness: \u001b[1;36m0.866\u001b[0m                                  \n"
      ]
     },
     "metadata": {},
     "output_type": "display_data"
    },
    {
     "data": {
      "text/html": [
       "<pre style=\"white-space:pre;overflow-x:auto;line-height:normal;font-family:Menlo,'DejaVu Sans Mono',consolas,'Courier New',monospace\"><span style=\"color: #7fbfbf; text-decoration-color: #7fbfbf\">10:05:45 BST </span>Running <span style=\"color: #008080; text-decoration-color: #008080; font-weight: bold\">29</span> Simulations                                             \n",
       "</pre>\n"
      ],
      "text/plain": [
       "\u001b[2;36m10:05:45 BST\u001b[0m\u001b[2;36m \u001b[0mRunning \u001b[1;36m29\u001b[0m Simulations                                             \n"
      ]
     },
     "metadata": {},
     "output_type": "display_data"
    },
    {
     "data": {
      "text/html": [
       "<pre style=\"white-space:pre;overflow-x:auto;line-height:normal;font-family:Menlo,'DejaVu Sans Mono',consolas,'Courier New',monospace\"><span style=\"color: #7fbfbf; text-decoration-color: #7fbfbf\">10:07:03 BST </span>Generation <span style=\"color: #008080; text-decoration-color: #008080; font-weight: bold\">16</span> Best Fitness: <span style=\"color: #008080; text-decoration-color: #008080; font-weight: bold\">0.866</span>                                  \n",
       "</pre>\n"
      ],
      "text/plain": [
       "\u001b[2;36m10:07:03 BST\u001b[0m\u001b[2;36m \u001b[0mGeneration \u001b[1;36m16\u001b[0m Best Fitness: \u001b[1;36m0.866\u001b[0m                                  \n"
      ]
     },
     "metadata": {},
     "output_type": "display_data"
    },
    {
     "data": {
      "text/html": [
       "<pre style=\"white-space:pre;overflow-x:auto;line-height:normal;font-family:Menlo,'DejaVu Sans Mono',consolas,'Courier New',monospace\"><span style=\"color: #7fbfbf; text-decoration-color: #7fbfbf\">10:07:04 BST </span>Running <span style=\"color: #008080; text-decoration-color: #008080; font-weight: bold\">29</span> Simulations                                             \n",
       "</pre>\n"
      ],
      "text/plain": [
       "\u001b[2;36m10:07:04 BST\u001b[0m\u001b[2;36m \u001b[0mRunning \u001b[1;36m29\u001b[0m Simulations                                             \n"
      ]
     },
     "metadata": {},
     "output_type": "display_data"
    },
    {
     "data": {
      "text/html": [
       "<pre style=\"white-space:pre;overflow-x:auto;line-height:normal;font-family:Menlo,'DejaVu Sans Mono',consolas,'Courier New',monospace\"><span style=\"color: #7fbfbf; text-decoration-color: #7fbfbf\">10:08:18 BST </span>Generation <span style=\"color: #008080; text-decoration-color: #008080; font-weight: bold\">17</span> Best Fitness: <span style=\"color: #008080; text-decoration-color: #008080; font-weight: bold\">0.912</span>                                  \n",
       "</pre>\n"
      ],
      "text/plain": [
       "\u001b[2;36m10:08:18 BST\u001b[0m\u001b[2;36m \u001b[0mGeneration \u001b[1;36m17\u001b[0m Best Fitness: \u001b[1;36m0.912\u001b[0m                                  \n"
      ]
     },
     "metadata": {},
     "output_type": "display_data"
    },
    {
     "data": {
      "text/html": [
       "<pre style=\"white-space:pre;overflow-x:auto;line-height:normal;font-family:Menlo,'DejaVu Sans Mono',consolas,'Courier New',monospace\"><span style=\"color: #7fbfbf; text-decoration-color: #7fbfbf\">10:08:19 BST </span>Running <span style=\"color: #008080; text-decoration-color: #008080; font-weight: bold\">29</span> Simulations                                             \n",
       "</pre>\n"
      ],
      "text/plain": [
       "\u001b[2;36m10:08:19 BST\u001b[0m\u001b[2;36m \u001b[0mRunning \u001b[1;36m29\u001b[0m Simulations                                             \n"
      ]
     },
     "metadata": {},
     "output_type": "display_data"
    },
    {
     "data": {
      "text/html": [
       "<pre style=\"white-space:pre;overflow-x:auto;line-height:normal;font-family:Menlo,'DejaVu Sans Mono',consolas,'Courier New',monospace\"><span style=\"color: #7fbfbf; text-decoration-color: #7fbfbf\">10:09:39 BST </span>Generation <span style=\"color: #008080; text-decoration-color: #008080; font-weight: bold\">18</span> Best Fitness: <span style=\"color: #008080; text-decoration-color: #008080; font-weight: bold\">0.912</span>                                  \n",
       "</pre>\n"
      ],
      "text/plain": [
       "\u001b[2;36m10:09:39 BST\u001b[0m\u001b[2;36m \u001b[0mGeneration \u001b[1;36m18\u001b[0m Best Fitness: \u001b[1;36m0.912\u001b[0m                                  \n"
      ]
     },
     "metadata": {},
     "output_type": "display_data"
    },
    {
     "data": {
      "text/html": [
       "<pre style=\"white-space:pre;overflow-x:auto;line-height:normal;font-family:Menlo,'DejaVu Sans Mono',consolas,'Courier New',monospace\"><span style=\"color: #7fbfbf; text-decoration-color: #7fbfbf\">10:09:40 BST </span>Running <span style=\"color: #008080; text-decoration-color: #008080; font-weight: bold\">29</span> Simulations                                             \n",
       "</pre>\n"
      ],
      "text/plain": [
       "\u001b[2;36m10:09:40 BST\u001b[0m\u001b[2;36m \u001b[0mRunning \u001b[1;36m29\u001b[0m Simulations                                             \n"
      ]
     },
     "metadata": {},
     "output_type": "display_data"
    },
    {
     "data": {
      "text/html": [
       "<pre style=\"white-space:pre;overflow-x:auto;line-height:normal;font-family:Menlo,'DejaVu Sans Mono',consolas,'Courier New',monospace\"><span style=\"color: #7fbfbf; text-decoration-color: #7fbfbf\">10:10:57 BST </span>Generation <span style=\"color: #008080; text-decoration-color: #008080; font-weight: bold\">19</span> Best Fitness: <span style=\"color: #008080; text-decoration-color: #008080; font-weight: bold\">0.912</span>                                  \n",
       "</pre>\n"
      ],
      "text/plain": [
       "\u001b[2;36m10:10:57 BST\u001b[0m\u001b[2;36m \u001b[0mGeneration \u001b[1;36m19\u001b[0m Best Fitness: \u001b[1;36m0.912\u001b[0m                                  \n"
      ]
     },
     "metadata": {},
     "output_type": "display_data"
    },
    {
     "data": {
      "text/html": [
       "<pre style=\"white-space:pre;overflow-x:auto;line-height:normal;font-family:Menlo,'DejaVu Sans Mono',consolas,'Courier New',monospace\"><span style=\"color: #7fbfbf; text-decoration-color: #7fbfbf\">10:10:58 BST </span>Running <span style=\"color: #008080; text-decoration-color: #008080; font-weight: bold\">29</span> Simulations                                             \n",
       "</pre>\n"
      ],
      "text/plain": [
       "\u001b[2;36m10:10:58 BST\u001b[0m\u001b[2;36m \u001b[0mRunning \u001b[1;36m29\u001b[0m Simulations                                             \n"
      ]
     },
     "metadata": {},
     "output_type": "display_data"
    },
    {
     "data": {
      "text/html": [
       "<pre style=\"white-space:pre;overflow-x:auto;line-height:normal;font-family:Menlo,'DejaVu Sans Mono',consolas,'Courier New',monospace\"><span style=\"color: #7fbfbf; text-decoration-color: #7fbfbf\">10:12:18 BST </span>Generation <span style=\"color: #008080; text-decoration-color: #008080; font-weight: bold\">20</span> Best Fitness: <span style=\"color: #008080; text-decoration-color: #008080; font-weight: bold\">0.912</span>                                  \n",
       "</pre>\n"
      ],
      "text/plain": [
       "\u001b[2;36m10:12:18 BST\u001b[0m\u001b[2;36m \u001b[0mGeneration \u001b[1;36m20\u001b[0m Best Fitness: \u001b[1;36m0.912\u001b[0m                                  \n"
      ]
     },
     "metadata": {},
     "output_type": "display_data"
    },
    {
     "data": {
      "text/html": [
       "<pre style=\"white-space:pre;overflow-x:auto;line-height:normal;font-family:Menlo,'DejaVu Sans Mono',consolas,'Courier New',monospace\"><span style=\"color: #7fbfbf; text-decoration-color: #7fbfbf\">10:12:19 BST </span>Running <span style=\"color: #008080; text-decoration-color: #008080; font-weight: bold\">29</span> Simulations                                             \n",
       "</pre>\n"
      ],
      "text/plain": [
       "\u001b[2;36m10:12:19 BST\u001b[0m\u001b[2;36m \u001b[0mRunning \u001b[1;36m29\u001b[0m Simulations                                             \n"
      ]
     },
     "metadata": {},
     "output_type": "display_data"
    },
    {
     "data": {
      "text/html": [
       "<pre style=\"white-space:pre;overflow-x:auto;line-height:normal;font-family:Menlo,'DejaVu Sans Mono',consolas,'Courier New',monospace\"><span style=\"color: #7fbfbf; text-decoration-color: #7fbfbf\">10:13:40 BST </span>Generation <span style=\"color: #008080; text-decoration-color: #008080; font-weight: bold\">21</span> Best Fitness: <span style=\"color: #008080; text-decoration-color: #008080; font-weight: bold\">0.912</span>                                  \n",
       "</pre>\n"
      ],
      "text/plain": [
       "\u001b[2;36m10:13:40 BST\u001b[0m\u001b[2;36m \u001b[0mGeneration \u001b[1;36m21\u001b[0m Best Fitness: \u001b[1;36m0.912\u001b[0m                                  \n"
      ]
     },
     "metadata": {},
     "output_type": "display_data"
    },
    {
     "data": {
      "text/html": [
       "<pre style=\"white-space:pre;overflow-x:auto;line-height:normal;font-family:Menlo,'DejaVu Sans Mono',consolas,'Courier New',monospace\"><span style=\"color: #7fbfbf; text-decoration-color: #7fbfbf\">10:13:41 BST </span>Running <span style=\"color: #008080; text-decoration-color: #008080; font-weight: bold\">29</span> Simulations                                             \n",
       "</pre>\n"
      ],
      "text/plain": [
       "\u001b[2;36m10:13:41 BST\u001b[0m\u001b[2;36m \u001b[0mRunning \u001b[1;36m29\u001b[0m Simulations                                             \n"
      ]
     },
     "metadata": {},
     "output_type": "display_data"
    },
    {
     "data": {
      "text/html": [
       "<pre style=\"white-space:pre;overflow-x:auto;line-height:normal;font-family:Menlo,'DejaVu Sans Mono',consolas,'Courier New',monospace\"><span style=\"color: #7fbfbf; text-decoration-color: #7fbfbf\">10:15:00 BST </span>Generation <span style=\"color: #008080; text-decoration-color: #008080; font-weight: bold\">22</span> Best Fitness: <span style=\"color: #008080; text-decoration-color: #008080; font-weight: bold\">0.912</span>                                  \n",
       "</pre>\n"
      ],
      "text/plain": [
       "\u001b[2;36m10:15:00 BST\u001b[0m\u001b[2;36m \u001b[0mGeneration \u001b[1;36m22\u001b[0m Best Fitness: \u001b[1;36m0.912\u001b[0m                                  \n"
      ]
     },
     "metadata": {},
     "output_type": "display_data"
    },
    {
     "data": {
      "text/html": [
       "<pre style=\"white-space:pre;overflow-x:auto;line-height:normal;font-family:Menlo,'DejaVu Sans Mono',consolas,'Courier New',monospace\"><span style=\"color: #7fbfbf; text-decoration-color: #7fbfbf\">10:15:01 BST </span>Running <span style=\"color: #008080; text-decoration-color: #008080; font-weight: bold\">29</span> Simulations                                             \n",
       "</pre>\n"
      ],
      "text/plain": [
       "\u001b[2;36m10:15:01 BST\u001b[0m\u001b[2;36m \u001b[0mRunning \u001b[1;36m29\u001b[0m Simulations                                             \n"
      ]
     },
     "metadata": {},
     "output_type": "display_data"
    },
    {
     "data": {
      "text/html": [
       "<pre style=\"white-space:pre;overflow-x:auto;line-height:normal;font-family:Menlo,'DejaVu Sans Mono',consolas,'Courier New',monospace\"><span style=\"color: #7fbfbf; text-decoration-color: #7fbfbf\">10:16:16 BST </span>Generation <span style=\"color: #008080; text-decoration-color: #008080; font-weight: bold\">23</span> Best Fitness: <span style=\"color: #008080; text-decoration-color: #008080; font-weight: bold\">0.912</span>                                  \n",
       "</pre>\n"
      ],
      "text/plain": [
       "\u001b[2;36m10:16:16 BST\u001b[0m\u001b[2;36m \u001b[0mGeneration \u001b[1;36m23\u001b[0m Best Fitness: \u001b[1;36m0.912\u001b[0m                                  \n"
      ]
     },
     "metadata": {},
     "output_type": "display_data"
    },
    {
     "data": {
      "text/html": [
       "<pre style=\"white-space:pre;overflow-x:auto;line-height:normal;font-family:Menlo,'DejaVu Sans Mono',consolas,'Courier New',monospace\"><span style=\"color: #7fbfbf; text-decoration-color: #7fbfbf\">             </span>Best Result: <span style=\"color: #008080; text-decoration-color: #008080; font-weight: bold\">0.912478548154955</span>                                     \n",
       "<span style=\"color: #7fbfbf; text-decoration-color: #7fbfbf\">             </span>Best Parameters: <span style=\"color: #008080; text-decoration-color: #008080; font-weight: bold\">0</span>: <span style=\"color: #008080; text-decoration-color: #008080; font-weight: bold\">1</span> <span style=\"color: #008080; text-decoration-color: #008080; font-weight: bold\">1</span>: <span style=\"color: #008080; text-decoration-color: #008080; font-weight: bold\">1</span> <span style=\"color: #008080; text-decoration-color: #008080; font-weight: bold\">2</span>: <span style=\"color: #008080; text-decoration-color: #008080; font-weight: bold\">0</span> <span style=\"color: #008080; text-decoration-color: #008080; font-weight: bold\">3</span>: <span style=\"color: #008080; text-decoration-color: #008080; font-weight: bold\">0</span> <span style=\"color: #008080; text-decoration-color: #008080; font-weight: bold\">4</span>: <span style=\"color: #008080; text-decoration-color: #008080; font-weight: bold\">0</span> <span style=\"color: #008080; text-decoration-color: #008080; font-weight: bold\">5</span>: <span style=\"color: #008080; text-decoration-color: #008080; font-weight: bold\">0</span> <span style=\"color: #008080; text-decoration-color: #008080; font-weight: bold\">6</span>: <span style=\"color: #008080; text-decoration-color: #008080; font-weight: bold\">0</span> <span style=\"color: #008080; text-decoration-color: #008080; font-weight: bold\">7</span>: <span style=\"color: #008080; text-decoration-color: #008080; font-weight: bold\">1</span> <span style=\"color: #008080; text-decoration-color: #008080; font-weight: bold\">8</span>: <span style=\"color: #008080; text-decoration-color: #008080; font-weight: bold\">0</span> <span style=\"color: #008080; text-decoration-color: #008080; font-weight: bold\">9</span>: <span style=\"color: #008080; text-decoration-color: #008080; font-weight: bold\">0</span> \n",
       "<span style=\"color: #7fbfbf; text-decoration-color: #7fbfbf\">             </span><span style=\"color: #008080; text-decoration-color: #008080; font-weight: bold\">10</span>: <span style=\"color: #008080; text-decoration-color: #008080; font-weight: bold\">1</span> <span style=\"color: #008080; text-decoration-color: #008080; font-weight: bold\">11</span>: <span style=\"color: #008080; text-decoration-color: #008080; font-weight: bold\">1</span> <span style=\"color: #008080; text-decoration-color: #008080; font-weight: bold\">12</span>: <span style=\"color: #008080; text-decoration-color: #008080; font-weight: bold\">0</span> <span style=\"color: #008080; text-decoration-color: #008080; font-weight: bold\">13</span>: <span style=\"color: #008080; text-decoration-color: #008080; font-weight: bold\">0</span> <span style=\"color: #008080; text-decoration-color: #008080; font-weight: bold\">14</span>: <span style=\"color: #008080; text-decoration-color: #008080; font-weight: bold\">0</span> <span style=\"color: #008080; text-decoration-color: #008080; font-weight: bold\">15</span>: <span style=\"color: #008080; text-decoration-color: #008080; font-weight: bold\">0</span> <span style=\"color: #008080; text-decoration-color: #008080; font-weight: bold\">16</span>: <span style=\"color: #008080; text-decoration-color: #008080; font-weight: bold\">0</span> <span style=\"color: #008080; text-decoration-color: #008080; font-weight: bold\">17</span>: <span style=\"color: #008080; text-decoration-color: #008080; font-weight: bold\">1</span> <span style=\"color: #008080; text-decoration-color: #008080; font-weight: bold\">18</span>: <span style=\"color: #008080; text-decoration-color: #008080; font-weight: bold\">1</span> <span style=\"color: #008080; text-decoration-color: #008080; font-weight: bold\">19</span>: <span style=\"color: #008080; text-decoration-color: #008080; font-weight: bold\">1</span> <span style=\"color: #008080; text-decoration-color: #008080; font-weight: bold\">20</span>: <span style=\"color: #008080; text-decoration-color: #008080; font-weight: bold\">0</span>  \n",
       "<span style=\"color: #7fbfbf; text-decoration-color: #7fbfbf\">             </span><span style=\"color: #008080; text-decoration-color: #008080; font-weight: bold\">21</span>: <span style=\"color: #008080; text-decoration-color: #008080; font-weight: bold\">1</span> <span style=\"color: #008080; text-decoration-color: #008080; font-weight: bold\">22</span>: <span style=\"color: #008080; text-decoration-color: #008080; font-weight: bold\">1</span> <span style=\"color: #008080; text-decoration-color: #008080; font-weight: bold\">23</span>: <span style=\"color: #008080; text-decoration-color: #008080; font-weight: bold\">0</span> <span style=\"color: #008080; text-decoration-color: #008080; font-weight: bold\">24</span>: <span style=\"color: #008080; text-decoration-color: #008080; font-weight: bold\">0</span> <span style=\"color: #008080; text-decoration-color: #008080; font-weight: bold\">25</span>: <span style=\"color: #008080; text-decoration-color: #008080; font-weight: bold\">0</span> <span style=\"color: #008080; text-decoration-color: #008080; font-weight: bold\">26</span>: <span style=\"color: #008080; text-decoration-color: #008080; font-weight: bold\">1</span> <span style=\"color: #008080; text-decoration-color: #008080; font-weight: bold\">27</span>: <span style=\"color: #008080; text-decoration-color: #008080; font-weight: bold\">0</span> <span style=\"color: #008080; text-decoration-color: #008080; font-weight: bold\">28</span>: <span style=\"color: #008080; text-decoration-color: #008080; font-weight: bold\">1</span> <span style=\"color: #008080; text-decoration-color: #008080; font-weight: bold\">29</span>: <span style=\"color: #008080; text-decoration-color: #008080; font-weight: bold\">1</span> <span style=\"color: #008080; text-decoration-color: #008080; font-weight: bold\">30</span>: <span style=\"color: #008080; text-decoration-color: #008080; font-weight: bold\">1</span> <span style=\"color: #008080; text-decoration-color: #008080; font-weight: bold\">31</span>: <span style=\"color: #008080; text-decoration-color: #008080; font-weight: bold\">1</span>  \n",
       "<span style=\"color: #7fbfbf; text-decoration-color: #7fbfbf\">             </span><span style=\"color: #008080; text-decoration-color: #008080; font-weight: bold\">32</span>: <span style=\"color: #008080; text-decoration-color: #008080; font-weight: bold\">1</span> <span style=\"color: #008080; text-decoration-color: #008080; font-weight: bold\">33</span>: <span style=\"color: #008080; text-decoration-color: #008080; font-weight: bold\">1</span> <span style=\"color: #008080; text-decoration-color: #008080; font-weight: bold\">34</span>: <span style=\"color: #008080; text-decoration-color: #008080; font-weight: bold\">0</span> <span style=\"color: #008080; text-decoration-color: #008080; font-weight: bold\">35</span>: <span style=\"color: #008080; text-decoration-color: #008080; font-weight: bold\">0</span> <span style=\"color: #008080; text-decoration-color: #008080; font-weight: bold\">36</span>: <span style=\"color: #008080; text-decoration-color: #008080; font-weight: bold\">1</span> <span style=\"color: #008080; text-decoration-color: #008080; font-weight: bold\">37</span>: <span style=\"color: #008080; text-decoration-color: #008080; font-weight: bold\">1</span> <span style=\"color: #008080; text-decoration-color: #008080; font-weight: bold\">38</span>: <span style=\"color: #008080; text-decoration-color: #008080; font-weight: bold\">0</span> <span style=\"color: #008080; text-decoration-color: #008080; font-weight: bold\">39</span>: <span style=\"color: #008080; text-decoration-color: #008080; font-weight: bold\">0</span> <span style=\"color: #008080; text-decoration-color: #008080; font-weight: bold\">40</span>: <span style=\"color: #008080; text-decoration-color: #008080; font-weight: bold\">1</span> <span style=\"color: #008080; text-decoration-color: #008080; font-weight: bold\">41</span>: <span style=\"color: #008080; text-decoration-color: #008080; font-weight: bold\">1</span> <span style=\"color: #008080; text-decoration-color: #008080; font-weight: bold\">42</span>: <span style=\"color: #008080; text-decoration-color: #008080; font-weight: bold\">0</span>  \n",
       "<span style=\"color: #7fbfbf; text-decoration-color: #7fbfbf\">             </span><span style=\"color: #008080; text-decoration-color: #008080; font-weight: bold\">43</span>: <span style=\"color: #008080; text-decoration-color: #008080; font-weight: bold\">1</span> <span style=\"color: #008080; text-decoration-color: #008080; font-weight: bold\">44</span>: <span style=\"color: #008080; text-decoration-color: #008080; font-weight: bold\">0</span> <span style=\"color: #008080; text-decoration-color: #008080; font-weight: bold\">45</span>: <span style=\"color: #008080; text-decoration-color: #008080; font-weight: bold\">1</span> <span style=\"color: #008080; text-decoration-color: #008080; font-weight: bold\">46</span>: <span style=\"color: #008080; text-decoration-color: #008080; font-weight: bold\">1</span> <span style=\"color: #008080; text-decoration-color: #008080; font-weight: bold\">47</span>: <span style=\"color: #008080; text-decoration-color: #008080; font-weight: bold\">1</span> <span style=\"color: #008080; text-decoration-color: #008080; font-weight: bold\">48</span>: <span style=\"color: #008080; text-decoration-color: #008080; font-weight: bold\">0</span> <span style=\"color: #008080; text-decoration-color: #008080; font-weight: bold\">49</span>: <span style=\"color: #008080; text-decoration-color: #008080; font-weight: bold\">1</span> <span style=\"color: #008080; text-decoration-color: #008080; font-weight: bold\">50</span>: <span style=\"color: #008080; text-decoration-color: #008080; font-weight: bold\">1</span> <span style=\"color: #008080; text-decoration-color: #008080; font-weight: bold\">51</span>: <span style=\"color: #008080; text-decoration-color: #008080; font-weight: bold\">1</span> <span style=\"color: #008080; text-decoration-color: #008080; font-weight: bold\">52</span>: <span style=\"color: #008080; text-decoration-color: #008080; font-weight: bold\">1</span> <span style=\"color: #008080; text-decoration-color: #008080; font-weight: bold\">53</span>: <span style=\"color: #008080; text-decoration-color: #008080; font-weight: bold\">1</span>  \n",
       "<span style=\"color: #7fbfbf; text-decoration-color: #7fbfbf\">             </span><span style=\"color: #008080; text-decoration-color: #008080; font-weight: bold\">54</span>: <span style=\"color: #008080; text-decoration-color: #008080; font-weight: bold\">0</span> <span style=\"color: #008080; text-decoration-color: #008080; font-weight: bold\">55</span>: <span style=\"color: #008080; text-decoration-color: #008080; font-weight: bold\">0</span> <span style=\"color: #008080; text-decoration-color: #008080; font-weight: bold\">56</span>: <span style=\"color: #008080; text-decoration-color: #008080; font-weight: bold\">0</span> <span style=\"color: #008080; text-decoration-color: #008080; font-weight: bold\">57</span>: <span style=\"color: #008080; text-decoration-color: #008080; font-weight: bold\">1</span> <span style=\"color: #008080; text-decoration-color: #008080; font-weight: bold\">58</span>: <span style=\"color: #008080; text-decoration-color: #008080; font-weight: bold\">1</span> <span style=\"color: #008080; text-decoration-color: #008080; font-weight: bold\">59</span>: <span style=\"color: #008080; text-decoration-color: #008080; font-weight: bold\">0</span> <span style=\"color: #008080; text-decoration-color: #008080; font-weight: bold\">60</span>: <span style=\"color: #008080; text-decoration-color: #008080; font-weight: bold\">1</span> <span style=\"color: #008080; text-decoration-color: #008080; font-weight: bold\">61</span>: <span style=\"color: #008080; text-decoration-color: #008080; font-weight: bold\">0</span> <span style=\"color: #008080; text-decoration-color: #008080; font-weight: bold\">62</span>: <span style=\"color: #008080; text-decoration-color: #008080; font-weight: bold\">1</span> <span style=\"color: #008080; text-decoration-color: #008080; font-weight: bold\">63</span>: <span style=\"color: #008080; text-decoration-color: #008080; font-weight: bold\">1</span> <span style=\"color: #008080; text-decoration-color: #008080; font-weight: bold\">64</span>: <span style=\"color: #008080; text-decoration-color: #008080; font-weight: bold\">0</span>  \n",
       "<span style=\"color: #7fbfbf; text-decoration-color: #7fbfbf\">             </span><span style=\"color: #008080; text-decoration-color: #008080; font-weight: bold\">65</span>: <span style=\"color: #008080; text-decoration-color: #008080; font-weight: bold\">0</span> <span style=\"color: #008080; text-decoration-color: #008080; font-weight: bold\">66</span>: <span style=\"color: #008080; text-decoration-color: #008080; font-weight: bold\">1</span> <span style=\"color: #008080; text-decoration-color: #008080; font-weight: bold\">67</span>: <span style=\"color: #008080; text-decoration-color: #008080; font-weight: bold\">0</span> <span style=\"color: #008080; text-decoration-color: #008080; font-weight: bold\">68</span>: <span style=\"color: #008080; text-decoration-color: #008080; font-weight: bold\">0</span> <span style=\"color: #008080; text-decoration-color: #008080; font-weight: bold\">69</span>: <span style=\"color: #008080; text-decoration-color: #008080; font-weight: bold\">0</span> <span style=\"color: #008080; text-decoration-color: #008080; font-weight: bold\">70</span>: <span style=\"color: #008080; text-decoration-color: #008080; font-weight: bold\">0</span> <span style=\"color: #008080; text-decoration-color: #008080; font-weight: bold\">71</span>: <span style=\"color: #008080; text-decoration-color: #008080; font-weight: bold\">0</span> <span style=\"color: #008080; text-decoration-color: #008080; font-weight: bold\">72</span>: <span style=\"color: #008080; text-decoration-color: #008080; font-weight: bold\">0</span> <span style=\"color: #008080; text-decoration-color: #008080; font-weight: bold\">73</span>: <span style=\"color: #008080; text-decoration-color: #008080; font-weight: bold\">1</span> <span style=\"color: #008080; text-decoration-color: #008080; font-weight: bold\">74</span>: <span style=\"color: #008080; text-decoration-color: #008080; font-weight: bold\">0</span> <span style=\"color: #008080; text-decoration-color: #008080; font-weight: bold\">75</span>: <span style=\"color: #008080; text-decoration-color: #008080; font-weight: bold\">0</span>  \n",
       "<span style=\"color: #7fbfbf; text-decoration-color: #7fbfbf\">             </span><span style=\"color: #008080; text-decoration-color: #008080; font-weight: bold\">76</span>: <span style=\"color: #008080; text-decoration-color: #008080; font-weight: bold\">1</span> <span style=\"color: #008080; text-decoration-color: #008080; font-weight: bold\">77</span>: <span style=\"color: #008080; text-decoration-color: #008080; font-weight: bold\">1</span> <span style=\"color: #008080; text-decoration-color: #008080; font-weight: bold\">78</span>: <span style=\"color: #008080; text-decoration-color: #008080; font-weight: bold\">0</span> <span style=\"color: #008080; text-decoration-color: #008080; font-weight: bold\">79</span>: <span style=\"color: #008080; text-decoration-color: #008080; font-weight: bold\">0</span> <span style=\"color: #008080; text-decoration-color: #008080; font-weight: bold\">80</span>: <span style=\"color: #008080; text-decoration-color: #008080; font-weight: bold\">0</span> <span style=\"color: #008080; text-decoration-color: #008080; font-weight: bold\">81</span>: <span style=\"color: #008080; text-decoration-color: #008080; font-weight: bold\">1</span> <span style=\"color: #008080; text-decoration-color: #008080; font-weight: bold\">82</span>: <span style=\"color: #008080; text-decoration-color: #008080; font-weight: bold\">0</span> <span style=\"color: #008080; text-decoration-color: #008080; font-weight: bold\">83</span>: <span style=\"color: #008080; text-decoration-color: #008080; font-weight: bold\">1</span> <span style=\"color: #008080; text-decoration-color: #008080; font-weight: bold\">84</span>: <span style=\"color: #008080; text-decoration-color: #008080; font-weight: bold\">0</span> <span style=\"color: #008080; text-decoration-color: #008080; font-weight: bold\">85</span>: <span style=\"color: #008080; text-decoration-color: #008080; font-weight: bold\">0</span> <span style=\"color: #008080; text-decoration-color: #008080; font-weight: bold\">86</span>: <span style=\"color: #008080; text-decoration-color: #008080; font-weight: bold\">0</span>  \n",
       "<span style=\"color: #7fbfbf; text-decoration-color: #7fbfbf\">             </span><span style=\"color: #008080; text-decoration-color: #008080; font-weight: bold\">87</span>: <span style=\"color: #008080; text-decoration-color: #008080; font-weight: bold\">1</span> <span style=\"color: #008080; text-decoration-color: #008080; font-weight: bold\">88</span>: <span style=\"color: #008080; text-decoration-color: #008080; font-weight: bold\">1</span> <span style=\"color: #008080; text-decoration-color: #008080; font-weight: bold\">89</span>: <span style=\"color: #008080; text-decoration-color: #008080; font-weight: bold\">0</span> <span style=\"color: #008080; text-decoration-color: #008080; font-weight: bold\">90</span>: <span style=\"color: #008080; text-decoration-color: #008080; font-weight: bold\">1</span> <span style=\"color: #008080; text-decoration-color: #008080; font-weight: bold\">91</span>: <span style=\"color: #008080; text-decoration-color: #008080; font-weight: bold\">1</span> <span style=\"color: #008080; text-decoration-color: #008080; font-weight: bold\">92</span>: <span style=\"color: #008080; text-decoration-color: #008080; font-weight: bold\">0</span> <span style=\"color: #008080; text-decoration-color: #008080; font-weight: bold\">93</span>: <span style=\"color: #008080; text-decoration-color: #008080; font-weight: bold\">0</span> <span style=\"color: #008080; text-decoration-color: #008080; font-weight: bold\">94</span>: <span style=\"color: #008080; text-decoration-color: #008080; font-weight: bold\">1</span> <span style=\"color: #008080; text-decoration-color: #008080; font-weight: bold\">95</span>: <span style=\"color: #008080; text-decoration-color: #008080; font-weight: bold\">1</span> <span style=\"color: #008080; text-decoration-color: #008080; font-weight: bold\">96</span>: <span style=\"color: #008080; text-decoration-color: #008080; font-weight: bold\">0</span> <span style=\"color: #008080; text-decoration-color: #008080; font-weight: bold\">97</span>: <span style=\"color: #008080; text-decoration-color: #008080; font-weight: bold\">1</span>  \n",
       "<span style=\"color: #7fbfbf; text-decoration-color: #7fbfbf\">             </span><span style=\"color: #008080; text-decoration-color: #008080; font-weight: bold\">98</span>: <span style=\"color: #008080; text-decoration-color: #008080; font-weight: bold\">0</span> <span style=\"color: #008080; text-decoration-color: #008080; font-weight: bold\">99</span>: <span style=\"color: #008080; text-decoration-color: #008080; font-weight: bold\">0</span> <span style=\"color: #008080; text-decoration-color: #008080; font-weight: bold\">100</span>: <span style=\"color: #008080; text-decoration-color: #008080; font-weight: bold\">0</span> <span style=\"color: #008080; text-decoration-color: #008080; font-weight: bold\">101</span>: <span style=\"color: #008080; text-decoration-color: #008080; font-weight: bold\">1</span> <span style=\"color: #008080; text-decoration-color: #008080; font-weight: bold\">102</span>: <span style=\"color: #008080; text-decoration-color: #008080; font-weight: bold\">0</span> <span style=\"color: #008080; text-decoration-color: #008080; font-weight: bold\">103</span>: <span style=\"color: #008080; text-decoration-color: #008080; font-weight: bold\">1</span> <span style=\"color: #008080; text-decoration-color: #008080; font-weight: bold\">104</span>: <span style=\"color: #008080; text-decoration-color: #008080; font-weight: bold\">0</span> <span style=\"color: #008080; text-decoration-color: #008080; font-weight: bold\">105</span>: <span style=\"color: #008080; text-decoration-color: #008080; font-weight: bold\">1</span> <span style=\"color: #008080; text-decoration-color: #008080; font-weight: bold\">106</span>: <span style=\"color: #008080; text-decoration-color: #008080; font-weight: bold\">1</span> <span style=\"color: #008080; text-decoration-color: #008080; font-weight: bold\">107</span>: <span style=\"color: #008080; text-decoration-color: #008080; font-weight: bold\">0</span>\n",
       "<span style=\"color: #7fbfbf; text-decoration-color: #7fbfbf\">             </span><span style=\"color: #008080; text-decoration-color: #008080; font-weight: bold\">108</span>: <span style=\"color: #008080; text-decoration-color: #008080; font-weight: bold\">1</span> <span style=\"color: #008080; text-decoration-color: #008080; font-weight: bold\">109</span>: <span style=\"color: #008080; text-decoration-color: #008080; font-weight: bold\">1</span> <span style=\"color: #008080; text-decoration-color: #008080; font-weight: bold\">110</span>: <span style=\"color: #008080; text-decoration-color: #008080; font-weight: bold\">1</span> <span style=\"color: #008080; text-decoration-color: #008080; font-weight: bold\">111</span>: <span style=\"color: #008080; text-decoration-color: #008080; font-weight: bold\">1</span> <span style=\"color: #008080; text-decoration-color: #008080; font-weight: bold\">112</span>: <span style=\"color: #008080; text-decoration-color: #008080; font-weight: bold\">1</span> <span style=\"color: #008080; text-decoration-color: #008080; font-weight: bold\">113</span>: <span style=\"color: #008080; text-decoration-color: #008080; font-weight: bold\">0</span> <span style=\"color: #008080; text-decoration-color: #008080; font-weight: bold\">114</span>: <span style=\"color: #008080; text-decoration-color: #008080; font-weight: bold\">0</span> <span style=\"color: #008080; text-decoration-color: #008080; font-weight: bold\">115</span>: <span style=\"color: #008080; text-decoration-color: #008080; font-weight: bold\">1</span> <span style=\"color: #008080; text-decoration-color: #008080; font-weight: bold\">116</span>: <span style=\"color: #008080; text-decoration-color: #008080; font-weight: bold\">1</span> <span style=\"color: #008080; text-decoration-color: #008080; font-weight: bold\">117</span>:\n",
       "<span style=\"color: #7fbfbf; text-decoration-color: #7fbfbf\">             </span><span style=\"color: #008080; text-decoration-color: #008080; font-weight: bold\">1</span> <span style=\"color: #008080; text-decoration-color: #008080; font-weight: bold\">118</span>: <span style=\"color: #008080; text-decoration-color: #008080; font-weight: bold\">1</span> <span style=\"color: #008080; text-decoration-color: #008080; font-weight: bold\">119</span>: <span style=\"color: #008080; text-decoration-color: #008080; font-weight: bold\">0</span> <span style=\"color: #008080; text-decoration-color: #008080; font-weight: bold\">120</span>: <span style=\"color: #008080; text-decoration-color: #008080; font-weight: bold\">0</span> <span style=\"color: #008080; text-decoration-color: #008080; font-weight: bold\">121</span>: <span style=\"color: #008080; text-decoration-color: #008080; font-weight: bold\">1</span> <span style=\"color: #008080; text-decoration-color: #008080; font-weight: bold\">122</span>: <span style=\"color: #008080; text-decoration-color: #008080; font-weight: bold\">0</span> <span style=\"color: #008080; text-decoration-color: #008080; font-weight: bold\">123</span>: <span style=\"color: #008080; text-decoration-color: #008080; font-weight: bold\">1</span> <span style=\"color: #008080; text-decoration-color: #008080; font-weight: bold\">124</span>: <span style=\"color: #008080; text-decoration-color: #008080; font-weight: bold\">0</span> <span style=\"color: #008080; text-decoration-color: #008080; font-weight: bold\">125</span>: <span style=\"color: #008080; text-decoration-color: #008080; font-weight: bold\">1</span> <span style=\"color: #008080; text-decoration-color: #008080; font-weight: bold\">126</span>: <span style=\"color: #008080; text-decoration-color: #008080; font-weight: bold\">1</span>   \n",
       "<span style=\"color: #7fbfbf; text-decoration-color: #7fbfbf\">             </span><span style=\"color: #008080; text-decoration-color: #008080; font-weight: bold\">127</span>: <span style=\"color: #008080; text-decoration-color: #008080; font-weight: bold\">1</span> <span style=\"color: #008080; text-decoration-color: #008080; font-weight: bold\">128</span>: <span style=\"color: #008080; text-decoration-color: #008080; font-weight: bold\">1</span> <span style=\"color: #008080; text-decoration-color: #008080; font-weight: bold\">129</span>: <span style=\"color: #008080; text-decoration-color: #008080; font-weight: bold\">0</span> <span style=\"color: #008080; text-decoration-color: #008080; font-weight: bold\">130</span>: <span style=\"color: #008080; text-decoration-color: #008080; font-weight: bold\">1</span> <span style=\"color: #008080; text-decoration-color: #008080; font-weight: bold\">131</span>: <span style=\"color: #008080; text-decoration-color: #008080; font-weight: bold\">0</span> <span style=\"color: #008080; text-decoration-color: #008080; font-weight: bold\">132</span>: <span style=\"color: #008080; text-decoration-color: #008080; font-weight: bold\">1</span> <span style=\"color: #008080; text-decoration-color: #008080; font-weight: bold\">133</span>: <span style=\"color: #008080; text-decoration-color: #008080; font-weight: bold\">0</span> <span style=\"color: #008080; text-decoration-color: #008080; font-weight: bold\">134</span>: <span style=\"color: #008080; text-decoration-color: #008080; font-weight: bold\">1</span> <span style=\"color: #008080; text-decoration-color: #008080; font-weight: bold\">135</span>: <span style=\"color: #008080; text-decoration-color: #008080; font-weight: bold\">0</span> <span style=\"color: #008080; text-decoration-color: #008080; font-weight: bold\">136</span>:\n",
       "<span style=\"color: #7fbfbf; text-decoration-color: #7fbfbf\">             </span><span style=\"color: #008080; text-decoration-color: #008080; font-weight: bold\">0</span> <span style=\"color: #008080; text-decoration-color: #008080; font-weight: bold\">137</span>: <span style=\"color: #008080; text-decoration-color: #008080; font-weight: bold\">1</span> <span style=\"color: #008080; text-decoration-color: #008080; font-weight: bold\">138</span>: <span style=\"color: #008080; text-decoration-color: #008080; font-weight: bold\">1</span> <span style=\"color: #008080; text-decoration-color: #008080; font-weight: bold\">139</span>: <span style=\"color: #008080; text-decoration-color: #008080; font-weight: bold\">0</span> <span style=\"color: #008080; text-decoration-color: #008080; font-weight: bold\">140</span>: <span style=\"color: #008080; text-decoration-color: #008080; font-weight: bold\">1</span> <span style=\"color: #008080; text-decoration-color: #008080; font-weight: bold\">141</span>: <span style=\"color: #008080; text-decoration-color: #008080; font-weight: bold\">1</span> <span style=\"color: #008080; text-decoration-color: #008080; font-weight: bold\">142</span>: <span style=\"color: #008080; text-decoration-color: #008080; font-weight: bold\">0</span> <span style=\"color: #008080; text-decoration-color: #008080; font-weight: bold\">143</span>: <span style=\"color: #008080; text-decoration-color: #008080; font-weight: bold\">0</span> <span style=\"color: #008080; text-decoration-color: #008080; font-weight: bold\">144</span>: <span style=\"color: #008080; text-decoration-color: #008080; font-weight: bold\">0</span> <span style=\"color: #008080; text-decoration-color: #008080; font-weight: bold\">145</span>: <span style=\"color: #008080; text-decoration-color: #008080; font-weight: bold\">1</span>   \n",
       "<span style=\"color: #7fbfbf; text-decoration-color: #7fbfbf\">             </span><span style=\"color: #008080; text-decoration-color: #008080; font-weight: bold\">146</span>: <span style=\"color: #008080; text-decoration-color: #008080; font-weight: bold\">1</span> <span style=\"color: #008080; text-decoration-color: #008080; font-weight: bold\">147</span>: <span style=\"color: #008080; text-decoration-color: #008080; font-weight: bold\">0</span> <span style=\"color: #008080; text-decoration-color: #008080; font-weight: bold\">148</span>: <span style=\"color: #008080; text-decoration-color: #008080; font-weight: bold\">1</span> <span style=\"color: #008080; text-decoration-color: #008080; font-weight: bold\">149</span>: <span style=\"color: #008080; text-decoration-color: #008080; font-weight: bold\">1</span> <span style=\"color: #008080; text-decoration-color: #008080; font-weight: bold\">150</span>: <span style=\"color: #008080; text-decoration-color: #008080; font-weight: bold\">1</span> <span style=\"color: #008080; text-decoration-color: #008080; font-weight: bold\">151</span>: <span style=\"color: #008080; text-decoration-color: #008080; font-weight: bold\">1</span> <span style=\"color: #008080; text-decoration-color: #008080; font-weight: bold\">152</span>: <span style=\"color: #008080; text-decoration-color: #008080; font-weight: bold\">1</span> <span style=\"color: #008080; text-decoration-color: #008080; font-weight: bold\">153</span>: <span style=\"color: #008080; text-decoration-color: #008080; font-weight: bold\">1</span> <span style=\"color: #008080; text-decoration-color: #008080; font-weight: bold\">154</span>: <span style=\"color: #008080; text-decoration-color: #008080; font-weight: bold\">0</span> <span style=\"color: #008080; text-decoration-color: #008080; font-weight: bold\">155</span>:\n",
       "<span style=\"color: #7fbfbf; text-decoration-color: #7fbfbf\">             </span><span style=\"color: #008080; text-decoration-color: #008080; font-weight: bold\">0</span> <span style=\"color: #008080; text-decoration-color: #008080; font-weight: bold\">156</span>: <span style=\"color: #008080; text-decoration-color: #008080; font-weight: bold\">1</span> <span style=\"color: #008080; text-decoration-color: #008080; font-weight: bold\">157</span>: <span style=\"color: #008080; text-decoration-color: #008080; font-weight: bold\">1</span> <span style=\"color: #008080; text-decoration-color: #008080; font-weight: bold\">158</span>: <span style=\"color: #008080; text-decoration-color: #008080; font-weight: bold\">0</span> <span style=\"color: #008080; text-decoration-color: #008080; font-weight: bold\">159</span>: <span style=\"color: #008080; text-decoration-color: #008080; font-weight: bold\">1</span> <span style=\"color: #008080; text-decoration-color: #008080; font-weight: bold\">160</span>: <span style=\"color: #008080; text-decoration-color: #008080; font-weight: bold\">1</span> <span style=\"color: #008080; text-decoration-color: #008080; font-weight: bold\">161</span>: <span style=\"color: #008080; text-decoration-color: #008080; font-weight: bold\">0</span>                        \n",
       "<span style=\"color: #7fbfbf; text-decoration-color: #7fbfbf\">             </span>                                                                   \n",
       "</pre>\n"
      ],
      "text/plain": [
       "\u001b[2;36m            \u001b[0m\u001b[2;36m \u001b[0mBest Result: \u001b[1;36m0.912478548154955\u001b[0m                                     \n",
       "\u001b[2;36m             \u001b[0mBest Parameters: \u001b[1;36m0\u001b[0m: \u001b[1;36m1\u001b[0m \u001b[1;36m1\u001b[0m: \u001b[1;36m1\u001b[0m \u001b[1;36m2\u001b[0m: \u001b[1;36m0\u001b[0m \u001b[1;36m3\u001b[0m: \u001b[1;36m0\u001b[0m \u001b[1;36m4\u001b[0m: \u001b[1;36m0\u001b[0m \u001b[1;36m5\u001b[0m: \u001b[1;36m0\u001b[0m \u001b[1;36m6\u001b[0m: \u001b[1;36m0\u001b[0m \u001b[1;36m7\u001b[0m: \u001b[1;36m1\u001b[0m \u001b[1;36m8\u001b[0m: \u001b[1;36m0\u001b[0m \u001b[1;36m9\u001b[0m: \u001b[1;36m0\u001b[0m \n",
       "\u001b[2;36m             \u001b[0m\u001b[1;36m10\u001b[0m: \u001b[1;36m1\u001b[0m \u001b[1;36m11\u001b[0m: \u001b[1;36m1\u001b[0m \u001b[1;36m12\u001b[0m: \u001b[1;36m0\u001b[0m \u001b[1;36m13\u001b[0m: \u001b[1;36m0\u001b[0m \u001b[1;36m14\u001b[0m: \u001b[1;36m0\u001b[0m \u001b[1;36m15\u001b[0m: \u001b[1;36m0\u001b[0m \u001b[1;36m16\u001b[0m: \u001b[1;36m0\u001b[0m \u001b[1;36m17\u001b[0m: \u001b[1;36m1\u001b[0m \u001b[1;36m18\u001b[0m: \u001b[1;36m1\u001b[0m \u001b[1;36m19\u001b[0m: \u001b[1;36m1\u001b[0m \u001b[1;36m20\u001b[0m: \u001b[1;36m0\u001b[0m  \n",
       "\u001b[2;36m             \u001b[0m\u001b[1;36m21\u001b[0m: \u001b[1;36m1\u001b[0m \u001b[1;36m22\u001b[0m: \u001b[1;36m1\u001b[0m \u001b[1;36m23\u001b[0m: \u001b[1;36m0\u001b[0m \u001b[1;36m24\u001b[0m: \u001b[1;36m0\u001b[0m \u001b[1;36m25\u001b[0m: \u001b[1;36m0\u001b[0m \u001b[1;36m26\u001b[0m: \u001b[1;36m1\u001b[0m \u001b[1;36m27\u001b[0m: \u001b[1;36m0\u001b[0m \u001b[1;36m28\u001b[0m: \u001b[1;36m1\u001b[0m \u001b[1;36m29\u001b[0m: \u001b[1;36m1\u001b[0m \u001b[1;36m30\u001b[0m: \u001b[1;36m1\u001b[0m \u001b[1;36m31\u001b[0m: \u001b[1;36m1\u001b[0m  \n",
       "\u001b[2;36m             \u001b[0m\u001b[1;36m32\u001b[0m: \u001b[1;36m1\u001b[0m \u001b[1;36m33\u001b[0m: \u001b[1;36m1\u001b[0m \u001b[1;36m34\u001b[0m: \u001b[1;36m0\u001b[0m \u001b[1;36m35\u001b[0m: \u001b[1;36m0\u001b[0m \u001b[1;36m36\u001b[0m: \u001b[1;36m1\u001b[0m \u001b[1;36m37\u001b[0m: \u001b[1;36m1\u001b[0m \u001b[1;36m38\u001b[0m: \u001b[1;36m0\u001b[0m \u001b[1;36m39\u001b[0m: \u001b[1;36m0\u001b[0m \u001b[1;36m40\u001b[0m: \u001b[1;36m1\u001b[0m \u001b[1;36m41\u001b[0m: \u001b[1;36m1\u001b[0m \u001b[1;36m42\u001b[0m: \u001b[1;36m0\u001b[0m  \n",
       "\u001b[2;36m             \u001b[0m\u001b[1;36m43\u001b[0m: \u001b[1;36m1\u001b[0m \u001b[1;36m44\u001b[0m: \u001b[1;36m0\u001b[0m \u001b[1;36m45\u001b[0m: \u001b[1;36m1\u001b[0m \u001b[1;36m46\u001b[0m: \u001b[1;36m1\u001b[0m \u001b[1;36m47\u001b[0m: \u001b[1;36m1\u001b[0m \u001b[1;36m48\u001b[0m: \u001b[1;36m0\u001b[0m \u001b[1;36m49\u001b[0m: \u001b[1;36m1\u001b[0m \u001b[1;36m50\u001b[0m: \u001b[1;36m1\u001b[0m \u001b[1;36m51\u001b[0m: \u001b[1;36m1\u001b[0m \u001b[1;36m52\u001b[0m: \u001b[1;36m1\u001b[0m \u001b[1;36m53\u001b[0m: \u001b[1;36m1\u001b[0m  \n",
       "\u001b[2;36m             \u001b[0m\u001b[1;36m54\u001b[0m: \u001b[1;36m0\u001b[0m \u001b[1;36m55\u001b[0m: \u001b[1;36m0\u001b[0m \u001b[1;36m56\u001b[0m: \u001b[1;36m0\u001b[0m \u001b[1;36m57\u001b[0m: \u001b[1;36m1\u001b[0m \u001b[1;36m58\u001b[0m: \u001b[1;36m1\u001b[0m \u001b[1;36m59\u001b[0m: \u001b[1;36m0\u001b[0m \u001b[1;36m60\u001b[0m: \u001b[1;36m1\u001b[0m \u001b[1;36m61\u001b[0m: \u001b[1;36m0\u001b[0m \u001b[1;36m62\u001b[0m: \u001b[1;36m1\u001b[0m \u001b[1;36m63\u001b[0m: \u001b[1;36m1\u001b[0m \u001b[1;36m64\u001b[0m: \u001b[1;36m0\u001b[0m  \n",
       "\u001b[2;36m             \u001b[0m\u001b[1;36m65\u001b[0m: \u001b[1;36m0\u001b[0m \u001b[1;36m66\u001b[0m: \u001b[1;36m1\u001b[0m \u001b[1;36m67\u001b[0m: \u001b[1;36m0\u001b[0m \u001b[1;36m68\u001b[0m: \u001b[1;36m0\u001b[0m \u001b[1;36m69\u001b[0m: \u001b[1;36m0\u001b[0m \u001b[1;36m70\u001b[0m: \u001b[1;36m0\u001b[0m \u001b[1;36m71\u001b[0m: \u001b[1;36m0\u001b[0m \u001b[1;36m72\u001b[0m: \u001b[1;36m0\u001b[0m \u001b[1;36m73\u001b[0m: \u001b[1;36m1\u001b[0m \u001b[1;36m74\u001b[0m: \u001b[1;36m0\u001b[0m \u001b[1;36m75\u001b[0m: \u001b[1;36m0\u001b[0m  \n",
       "\u001b[2;36m             \u001b[0m\u001b[1;36m76\u001b[0m: \u001b[1;36m1\u001b[0m \u001b[1;36m77\u001b[0m: \u001b[1;36m1\u001b[0m \u001b[1;36m78\u001b[0m: \u001b[1;36m0\u001b[0m \u001b[1;36m79\u001b[0m: \u001b[1;36m0\u001b[0m \u001b[1;36m80\u001b[0m: \u001b[1;36m0\u001b[0m \u001b[1;36m81\u001b[0m: \u001b[1;36m1\u001b[0m \u001b[1;36m82\u001b[0m: \u001b[1;36m0\u001b[0m \u001b[1;36m83\u001b[0m: \u001b[1;36m1\u001b[0m \u001b[1;36m84\u001b[0m: \u001b[1;36m0\u001b[0m \u001b[1;36m85\u001b[0m: \u001b[1;36m0\u001b[0m \u001b[1;36m86\u001b[0m: \u001b[1;36m0\u001b[0m  \n",
       "\u001b[2;36m             \u001b[0m\u001b[1;36m87\u001b[0m: \u001b[1;36m1\u001b[0m \u001b[1;36m88\u001b[0m: \u001b[1;36m1\u001b[0m \u001b[1;36m89\u001b[0m: \u001b[1;36m0\u001b[0m \u001b[1;36m90\u001b[0m: \u001b[1;36m1\u001b[0m \u001b[1;36m91\u001b[0m: \u001b[1;36m1\u001b[0m \u001b[1;36m92\u001b[0m: \u001b[1;36m0\u001b[0m \u001b[1;36m93\u001b[0m: \u001b[1;36m0\u001b[0m \u001b[1;36m94\u001b[0m: \u001b[1;36m1\u001b[0m \u001b[1;36m95\u001b[0m: \u001b[1;36m1\u001b[0m \u001b[1;36m96\u001b[0m: \u001b[1;36m0\u001b[0m \u001b[1;36m97\u001b[0m: \u001b[1;36m1\u001b[0m  \n",
       "\u001b[2;36m             \u001b[0m\u001b[1;36m98\u001b[0m: \u001b[1;36m0\u001b[0m \u001b[1;36m99\u001b[0m: \u001b[1;36m0\u001b[0m \u001b[1;36m100\u001b[0m: \u001b[1;36m0\u001b[0m \u001b[1;36m101\u001b[0m: \u001b[1;36m1\u001b[0m \u001b[1;36m102\u001b[0m: \u001b[1;36m0\u001b[0m \u001b[1;36m103\u001b[0m: \u001b[1;36m1\u001b[0m \u001b[1;36m104\u001b[0m: \u001b[1;36m0\u001b[0m \u001b[1;36m105\u001b[0m: \u001b[1;36m1\u001b[0m \u001b[1;36m106\u001b[0m: \u001b[1;36m1\u001b[0m \u001b[1;36m107\u001b[0m: \u001b[1;36m0\u001b[0m\n",
       "\u001b[2;36m             \u001b[0m\u001b[1;36m108\u001b[0m: \u001b[1;36m1\u001b[0m \u001b[1;36m109\u001b[0m: \u001b[1;36m1\u001b[0m \u001b[1;36m110\u001b[0m: \u001b[1;36m1\u001b[0m \u001b[1;36m111\u001b[0m: \u001b[1;36m1\u001b[0m \u001b[1;36m112\u001b[0m: \u001b[1;36m1\u001b[0m \u001b[1;36m113\u001b[0m: \u001b[1;36m0\u001b[0m \u001b[1;36m114\u001b[0m: \u001b[1;36m0\u001b[0m \u001b[1;36m115\u001b[0m: \u001b[1;36m1\u001b[0m \u001b[1;36m116\u001b[0m: \u001b[1;36m1\u001b[0m \u001b[1;36m117\u001b[0m:\n",
       "\u001b[2;36m             \u001b[0m\u001b[1;36m1\u001b[0m \u001b[1;36m118\u001b[0m: \u001b[1;36m1\u001b[0m \u001b[1;36m119\u001b[0m: \u001b[1;36m0\u001b[0m \u001b[1;36m120\u001b[0m: \u001b[1;36m0\u001b[0m \u001b[1;36m121\u001b[0m: \u001b[1;36m1\u001b[0m \u001b[1;36m122\u001b[0m: \u001b[1;36m0\u001b[0m \u001b[1;36m123\u001b[0m: \u001b[1;36m1\u001b[0m \u001b[1;36m124\u001b[0m: \u001b[1;36m0\u001b[0m \u001b[1;36m125\u001b[0m: \u001b[1;36m1\u001b[0m \u001b[1;36m126\u001b[0m: \u001b[1;36m1\u001b[0m   \n",
       "\u001b[2;36m             \u001b[0m\u001b[1;36m127\u001b[0m: \u001b[1;36m1\u001b[0m \u001b[1;36m128\u001b[0m: \u001b[1;36m1\u001b[0m \u001b[1;36m129\u001b[0m: \u001b[1;36m0\u001b[0m \u001b[1;36m130\u001b[0m: \u001b[1;36m1\u001b[0m \u001b[1;36m131\u001b[0m: \u001b[1;36m0\u001b[0m \u001b[1;36m132\u001b[0m: \u001b[1;36m1\u001b[0m \u001b[1;36m133\u001b[0m: \u001b[1;36m0\u001b[0m \u001b[1;36m134\u001b[0m: \u001b[1;36m1\u001b[0m \u001b[1;36m135\u001b[0m: \u001b[1;36m0\u001b[0m \u001b[1;36m136\u001b[0m:\n",
       "\u001b[2;36m             \u001b[0m\u001b[1;36m0\u001b[0m \u001b[1;36m137\u001b[0m: \u001b[1;36m1\u001b[0m \u001b[1;36m138\u001b[0m: \u001b[1;36m1\u001b[0m \u001b[1;36m139\u001b[0m: \u001b[1;36m0\u001b[0m \u001b[1;36m140\u001b[0m: \u001b[1;36m1\u001b[0m \u001b[1;36m141\u001b[0m: \u001b[1;36m1\u001b[0m \u001b[1;36m142\u001b[0m: \u001b[1;36m0\u001b[0m \u001b[1;36m143\u001b[0m: \u001b[1;36m0\u001b[0m \u001b[1;36m144\u001b[0m: \u001b[1;36m0\u001b[0m \u001b[1;36m145\u001b[0m: \u001b[1;36m1\u001b[0m   \n",
       "\u001b[2;36m             \u001b[0m\u001b[1;36m146\u001b[0m: \u001b[1;36m1\u001b[0m \u001b[1;36m147\u001b[0m: \u001b[1;36m0\u001b[0m \u001b[1;36m148\u001b[0m: \u001b[1;36m1\u001b[0m \u001b[1;36m149\u001b[0m: \u001b[1;36m1\u001b[0m \u001b[1;36m150\u001b[0m: \u001b[1;36m1\u001b[0m \u001b[1;36m151\u001b[0m: \u001b[1;36m1\u001b[0m \u001b[1;36m152\u001b[0m: \u001b[1;36m1\u001b[0m \u001b[1;36m153\u001b[0m: \u001b[1;36m1\u001b[0m \u001b[1;36m154\u001b[0m: \u001b[1;36m0\u001b[0m \u001b[1;36m155\u001b[0m:\n",
       "\u001b[2;36m             \u001b[0m\u001b[1;36m0\u001b[0m \u001b[1;36m156\u001b[0m: \u001b[1;36m1\u001b[0m \u001b[1;36m157\u001b[0m: \u001b[1;36m1\u001b[0m \u001b[1;36m158\u001b[0m: \u001b[1;36m0\u001b[0m \u001b[1;36m159\u001b[0m: \u001b[1;36m1\u001b[0m \u001b[1;36m160\u001b[0m: \u001b[1;36m1\u001b[0m \u001b[1;36m161\u001b[0m: \u001b[1;36m0\u001b[0m                        \n",
       "\u001b[2;36m             \u001b[0m                                                                   \n"
      ]
     },
     "metadata": {},
     "output_type": "display_data"
    }
   ],
   "source": [
    "results = design_space.run(fn_pre, fn_post, verbose=True)\n",
    "df = results.to_dataframe()"
   ]
  },
  {
   "cell_type": "markdown",
   "id": "0b67c427",
   "metadata": {},
   "source": [
    "## Optimization and Results"
   ]
  },
  {
   "cell_type": "markdown",
   "id": "296adb3a",
   "metadata": {},
   "source": [
    "The optimization prints the best fitness achieved in after the generation has been computed. We can further visualize this improvement using the optimizer object stored in the ``results``. After the optimization is complete, we see that we achieved the best fitness (reflection) of 0.897."
   ]
  },
  {
   "cell_type": "code",
   "execution_count": 12,
   "id": "8dfdc377",
   "metadata": {},
   "outputs": [
    {
     "data": {
      "image/png": "[encoded data removed]",
      "text/plain": [
       "<Figure size 640x480 with 1 Axes>"
      ]
     },
     "metadata": {},
     "output_type": "display_data"
    },
    {
     "name": "stdout",
     "output_type": "stream",
     "text": [
      "Fitness value of the best solution = 0.912\n"
     ]
    },
    {
     "data": {
      "image/png": "[encoded data removed]",
      "text/plain": [
       "<Figure size 640x480 with 1 Axes>"
      ]
     },
     "metadata": {},
     "output_type": "display_data"
    }
   ],
   "source": [
    "# Plotting the best fitness over generations\n",
    "ga_instance = results.optimizer\n",
    "best_fitness = ga_instance.best_solutions_fitness\n",
    "generations = range(len(best_fitness))\n",
    "\n",
    "plt.plot(generations, best_fitness)\n",
    "plt.title(\"Best Fitness over Generations\")\n",
    "plt.xlabel(\"Generation\")\n",
    "plt.ylabel(\"Best Fitness\")\n",
    "plt.show()\n",
    "\n",
    "pixels_final, solution_fitness, solution_idx = ga_instance.best_solution()\n",
    "print(f\"Fitness value of the best solution = {solution_fitness:.3f}\")\n",
    "\n",
    "def plot_fitness_evolution(data_frame, solutions_per_pop, fitness_column_name=\"output\"):\n",
    "    \"\"\"Plot the best, worst, and average fitness across generations.\"\"\"\n",
    "\n",
    "    # Divide the solutions into generations\n",
    "    fitness_values = data_frame[fitness_column_name]\n",
    "    generation_fitness = [fitness_values[i: i + solutions_per_pop] for i in range(0, len(fitness_values), solutions_per_pop)]\n",
    "\n",
    "    # Get min, max, and mean values per generation\n",
    "    min_fitness = [generation.min() for generation in generation_fitness]\n",
    "    max_fitness = [generation.max() for generation in generation_fitness]\n",
    "    mean_fitness = [generation.mean() for generation in generation_fitness]\n",
    "\n",
    "    plt.plot(min_fitness, label=\"Worst fitness\", alpha=0.5)\n",
    "    plt.plot(max_fitness, label=\"Best fitness\", alpha=0.5)\n",
    "    plt.plot(mean_fitness, label=\"Average fitness\", alpha=0.5)\n",
    "    plt.xlabel(\"Generation\")\n",
    "    plt.ylabel(\"Fitness\")\n",
    "    plt.legend()\n",
    "    plt.show()\n",
    "\n",
    "plot_fitness_evolution(df, 40)"
   ]
  },
  {
   "cell_type": "markdown",
   "id": "bd16ffaf",
   "metadata": {},
   "source": [
    "Now that we have an optimized design, we will grab the best pixel array and re-simulate the design with a broadband [ModeMonitor](https://docs.flexcompute.com/projects/tidy3d/en/latest/api/_autosummary/tidy3d.ModeMonitor.html) and a [FieldMonitor](https://docs.flexcompute.com/projects/tidy3d/en/latest/api/_autosummary/tidy3d.FieldMonitor.html) at the central wavelength. This final simulation can be defined by copying the original simulation and updating the monitors."
   ]
  },
  {
   "cell_type": "code",
   "execution_count": 13,
   "id": "2024c056",
   "metadata": {},
   "outputs": [
    {
     "data": {
      "text/html": [
       "<pre style=\"white-space:pre;overflow-x:auto;line-height:normal;font-family:Menlo,'DejaVu Sans Mono',consolas,'Courier New',monospace\"><span style=\"color: #7fbfbf; text-decoration-color: #7fbfbf\">10:38:04 BST </span>Created task <span style=\"color: #008000; text-decoration-color: #008000\">'final design'</span> with task_id                           \n",
       "<span style=\"color: #7fbfbf; text-decoration-color: #7fbfbf\">             </span><span style=\"color: #008000; text-decoration-color: #008000\">'fdve-b96bb239-29e0-4358-ad9a-b87283aa576e'</span> and task_type <span style=\"color: #008000; text-decoration-color: #008000\">'FDTD'</span>.  \n",
       "</pre>\n"
      ],
      "text/plain": [
       "\u001b[2;36m10:38:04 BST\u001b[0m\u001b[2;36m \u001b[0mCreated task \u001b[32m'final design'\u001b[0m with task_id                           \n",
       "\u001b[2;36m             \u001b[0m\u001b[32m'fdve-b96bb239-29e0-4358-ad9a-b87283aa576e'\u001b[0m and task_type \u001b[32m'FDTD'\u001b[0m.  \n"
      ]
     },
     "metadata": {},
     "output_type": "display_data"
    },
    {
     "data": {
      "text/html": [
       "<pre style=\"white-space:pre;overflow-x:auto;line-height:normal;font-family:Menlo,'DejaVu Sans Mono',consolas,'Courier New',monospace\"><span style=\"color: #7fbfbf; text-decoration-color: #7fbfbf\">             </span>View task using web UI at                                          \n",
       "<span style=\"color: #7fbfbf; text-decoration-color: #7fbfbf\">             </span><a href=\"https://tidy3d.simulation.cloud/workbench?taskId=fdve-b96bb239-29e0-4358-ad9a-b87283aa576e\" target=\"_blank\"><span style=\"color: #008000; text-decoration-color: #008000\">'https://tidy3d.simulation.cloud/workbench?taskId=fdve-b96bb239-29e</span></a>\n",
       "<span style=\"color: #7fbfbf; text-decoration-color: #7fbfbf\">             </span><a href=\"https://tidy3d.simulation.cloud/workbench?taskId=fdve-b96bb239-29e0-4358-ad9a-b87283aa576e\" target=\"_blank\"><span style=\"color: #008000; text-decoration-color: #008000\">0-4358-ad9a-b87283aa576e'</span></a>.                                         \n",
       "</pre>\n"
      ],
      "text/plain": [
       "\u001b[2;36m            \u001b[0m\u001b[2;36m \u001b[0mView task using web UI at                                          \n",
       "\u001b[2;36m             \u001b[0m\u001b]8;id=398467;https://tidy3d.simulation.cloud/workbench?taskId=fdve-b96bb239-29e0-4358-ad9a-b87283aa576e\u001b\\\u001b[32m'https://tidy3d.simulation.cloud/workbench?\u001b[0m\u001b]8;;\u001b\\\u001b]8;id=472845;https://tidy3d.simulation.cloud/workbench?taskId=fdve-b96bb239-29e0-4358-ad9a-b87283aa576e\u001b\\\u001b[32mtaskId\u001b[0m\u001b]8;;\u001b\\\u001b]8;id=398467;https://tidy3d.simulation.cloud/workbench?taskId=fdve-b96bb239-29e0-4358-ad9a-b87283aa576e\u001b\\\u001b[32m=\u001b[0m\u001b]8;;\u001b\\\u001b]8;id=192710;https://tidy3d.simulation.cloud/workbench?taskId=fdve-b96bb239-29e0-4358-ad9a-b87283aa576e\u001b\\\u001b[32mfdve\u001b[0m\u001b]8;;\u001b\\\u001b]8;id=398467;https://tidy3d.simulation.cloud/workbench?taskId=fdve-b96bb239-29e0-4358-ad9a-b87283aa576e\u001b\\\u001b[32m-b96bb239-29e\u001b[0m\u001b]8;;\u001b\\\n",
       "\u001b[2;36m             \u001b[0m\u001b]8;id=398467;https://tidy3d.simulation.cloud/workbench?taskId=fdve-b96bb239-29e0-4358-ad9a-b87283aa576e\u001b\\\u001b[32m0-4358-ad9a-b87283aa576e'\u001b[0m\u001b]8;;\u001b\\.                                         \n"
      ]
     },
     "metadata": {},
     "output_type": "display_data"
    },
    {
     "data": {
      "application/vnd.jupyter.widget-view+json": {
       "model_id": "0c3897939d2a458aaa5104693b0be4df",
       "version_major": 2,
       "version_minor": 0
      },
      "text/plain": [
       "Output()"
      ]
     },
     "metadata": {},
     "output_type": "display_data"
    },
    {
     "data": {
      "text/html": [
       "<pre style=\"white-space:pre;overflow-x:auto;line-height:normal;font-family:Menlo,'DejaVu Sans Mono',consolas,'Courier New',monospace\"></pre>\n"
      ],
      "text/plain": []
     },
     "metadata": {},
     "output_type": "display_data"
    },
    {
     "data": {
      "text/html": [
       "<pre style=\"white-space:pre;overflow-x:auto;line-height:normal;font-family:Menlo,'DejaVu Sans Mono',consolas,'Courier New',monospace\">\n",
       "</pre>\n"
      ],
      "text/plain": [
       "\n"
      ]
     },
     "metadata": {},
     "output_type": "display_data"
    },
    {
     "data": {
      "text/html": [
       "<pre style=\"white-space:pre;overflow-x:auto;line-height:normal;font-family:Menlo,'DejaVu Sans Mono',consolas,'Courier New',monospace\"><span style=\"color: #7fbfbf; text-decoration-color: #7fbfbf\">10:38:07 BST </span>status = queued                                                    \n",
       "</pre>\n"
      ],
      "text/plain": [
       "\u001b[2;36m10:38:07 BST\u001b[0m\u001b[2;36m \u001b[0mstatus = queued                                                    \n"
      ]
     },
     "metadata": {},
     "output_type": "display_data"
    },
    {
     "data": {
      "text/html": [
       "<pre style=\"white-space:pre;overflow-x:auto;line-height:normal;font-family:Menlo,'DejaVu Sans Mono',consolas,'Courier New',monospace\"><span style=\"color: #7fbfbf; text-decoration-color: #7fbfbf\">             </span>To cancel the simulation, use <span style=\"color: #008000; text-decoration-color: #008000\">'web.abort(task_id)'</span> or              \n",
       "<span style=\"color: #7fbfbf; text-decoration-color: #7fbfbf\">             </span><span style=\"color: #008000; text-decoration-color: #008000\">'web.delete(task_id)'</span> or abort/delete the task in the web UI.      \n",
       "<span style=\"color: #7fbfbf; text-decoration-color: #7fbfbf\">             </span>Terminating the Python script will not stop the job running on the \n",
       "<span style=\"color: #7fbfbf; text-decoration-color: #7fbfbf\">             </span>cloud.                                                             \n",
       "</pre>\n"
      ],
      "text/plain": [
       "\u001b[2;36m            \u001b[0m\u001b[2;36m \u001b[0mTo cancel the simulation, use \u001b[32m'web.abort\u001b[0m\u001b[32m(\u001b[0m\u001b[32mtask_id\u001b[0m\u001b[32m)\u001b[0m\u001b[32m'\u001b[0m or              \n",
       "\u001b[2;36m             \u001b[0m\u001b[32m'web.delete\u001b[0m\u001b[32m(\u001b[0m\u001b[32mtask_id\u001b[0m\u001b[32m)\u001b[0m\u001b[32m'\u001b[0m or abort/delete the task in the web UI.      \n",
       "\u001b[2;36m             \u001b[0mTerminating the Python script will not stop the job running on the \n",
       "\u001b[2;36m             \u001b[0mcloud.                                                             \n"
      ]
     },
     "metadata": {},
     "output_type": "display_data"
    },
    {
     "data": {
      "application/vnd.jupyter.widget-view+json": {
       "model_id": "954b767ae3e944718b14aa620e426c91",
       "version_major": 2,
       "version_minor": 0
      },
      "text/plain": [
       "Output()"
      ]
     },
     "metadata": {},
     "output_type": "display_data"
    },
    {
     "data": {
      "text/html": [
       "<pre style=\"white-space:pre;overflow-x:auto;line-height:normal;font-family:Menlo,'DejaVu Sans Mono',consolas,'Courier New',monospace\"><span style=\"color: #7fbfbf; text-decoration-color: #7fbfbf\">10:38:23 BST </span>status = preprocess                                                \n",
       "</pre>\n"
      ],
      "text/plain": [
       "\u001b[2;36m10:38:23 BST\u001b[0m\u001b[2;36m \u001b[0mstatus = preprocess                                                \n"
      ]
     },
     "metadata": {},
     "output_type": "display_data"
    },
    {
     "data": {
      "text/html": [
       "<pre style=\"white-space:pre;overflow-x:auto;line-height:normal;font-family:Menlo,'DejaVu Sans Mono',consolas,'Courier New',monospace\"></pre>\n"
      ],
      "text/plain": []
     },
     "metadata": {},
     "output_type": "display_data"
    },
    {
     "data": {
      "text/html": [
       "<pre style=\"white-space:pre;overflow-x:auto;line-height:normal;font-family:Menlo,'DejaVu Sans Mono',consolas,'Courier New',monospace\"><span style=\"color: #7fbfbf; text-decoration-color: #7fbfbf\">10:38:26 BST </span>Maximum FlexCredit cost: <span style=\"color: #008080; text-decoration-color: #008080; font-weight: bold\">0.025</span>. Use <span style=\"color: #008000; text-decoration-color: #008000\">'web.real_cost(task_id)'</span> to get\n",
       "<span style=\"color: #7fbfbf; text-decoration-color: #7fbfbf\">             </span>the billed FlexCredit cost after a simulation run.                 \n",
       "</pre>\n"
      ],
      "text/plain": [
       "\u001b[2;36m10:38:26 BST\u001b[0m\u001b[2;36m \u001b[0mMaximum FlexCredit cost: \u001b[1;36m0.025\u001b[0m. Use \u001b[32m'web.real_cost\u001b[0m\u001b[32m(\u001b[0m\u001b[32mtask_id\u001b[0m\u001b[32m)\u001b[0m\u001b[32m'\u001b[0m to get\n",
       "\u001b[2;36m             \u001b[0mthe billed FlexCredit cost after a simulation run.                 \n"
      ]
     },
     "metadata": {},
     "output_type": "display_data"
    },
    {
     "data": {
      "text/html": [
       "<pre style=\"white-space:pre;overflow-x:auto;line-height:normal;font-family:Menlo,'DejaVu Sans Mono',consolas,'Courier New',monospace\"><span style=\"color: #7fbfbf; text-decoration-color: #7fbfbf\">             </span>starting up solver                                                 \n",
       "</pre>\n"
      ],
      "text/plain": [
       "\u001b[2;36m            \u001b[0m\u001b[2;36m \u001b[0mstarting up solver                                                 \n"
      ]
     },
     "metadata": {},
     "output_type": "display_data"
    },
    {
     "data": {
      "text/html": [
       "<pre style=\"white-space:pre;overflow-x:auto;line-height:normal;font-family:Menlo,'DejaVu Sans Mono',consolas,'Courier New',monospace\"><span style=\"color: #7fbfbf; text-decoration-color: #7fbfbf\">             </span>running solver                                                     \n",
       "</pre>\n"
      ],
      "text/plain": [
       "\u001b[2;36m            \u001b[0m\u001b[2;36m \u001b[0mrunning solver                                                     \n"
      ]
     },
     "metadata": {},
     "output_type": "display_data"
    },
    {
     "data": {
      "application/vnd.jupyter.widget-view+json": {
       "model_id": "0978462702664c95b90c11a82013acfc",
       "version_major": 2,
       "version_minor": 0
      },
      "text/plain": [
       "Output()"
      ]
     },
     "metadata": {},
     "output_type": "display_data"
    },
    {
     "data": {
      "text/html": [
       "<pre style=\"white-space:pre;overflow-x:auto;line-height:normal;font-family:Menlo,'DejaVu Sans Mono',consolas,'Courier New',monospace\"><span style=\"color: #7fbfbf; text-decoration-color: #7fbfbf\">10:38:36 BST </span>early shutoff detected at <span style=\"color: #008080; text-decoration-color: #008080; font-weight: bold\">48</span>%, exiting.                            \n",
       "</pre>\n"
      ],
      "text/plain": [
       "\u001b[2;36m10:38:36 BST\u001b[0m\u001b[2;36m \u001b[0mearly shutoff detected at \u001b[1;36m48\u001b[0m%, exiting.                            \n"
      ]
     },
     "metadata": {},
     "output_type": "display_data"
    },
    {
     "data": {
      "text/html": [
       "<pre style=\"white-space:pre;overflow-x:auto;line-height:normal;font-family:Menlo,'DejaVu Sans Mono',consolas,'Courier New',monospace\"></pre>\n"
      ],
      "text/plain": []
     },
     "metadata": {},
     "output_type": "display_data"
    },
    {
     "data": {
      "text/html": [
       "<pre style=\"white-space:pre;overflow-x:auto;line-height:normal;font-family:Menlo,'DejaVu Sans Mono',consolas,'Courier New',monospace\">\n",
       "</pre>\n"
      ],
      "text/plain": [
       "\n"
      ]
     },
     "metadata": {},
     "output_type": "display_data"
    },
    {
     "data": {
      "text/html": [
       "<pre style=\"white-space:pre;overflow-x:auto;line-height:normal;font-family:Menlo,'DejaVu Sans Mono',consolas,'Courier New',monospace\"><span style=\"color: #7fbfbf; text-decoration-color: #7fbfbf\">10:38:37 BST </span>status = postprocess                                               \n",
       "</pre>\n"
      ],
      "text/plain": [
       "\u001b[2;36m10:38:37 BST\u001b[0m\u001b[2;36m \u001b[0mstatus = postprocess                                               \n"
      ]
     },
     "metadata": {},
     "output_type": "display_data"
    },
    {
     "data": {
      "application/vnd.jupyter.widget-view+json": {
       "model_id": "0b5c8249dcf44b7cbee3f0f1b03a993d",
       "version_major": 2,
       "version_minor": 0
      },
      "text/plain": [
       "Output()"
      ]
     },
     "metadata": {},
     "output_type": "display_data"
    },
    {
     "data": {
      "text/html": [
       "<pre style=\"white-space:pre;overflow-x:auto;line-height:normal;font-family:Menlo,'DejaVu Sans Mono',consolas,'Courier New',monospace\"><span style=\"color: #7fbfbf; text-decoration-color: #7fbfbf\">10:38:38 BST </span>status = success                                                   \n",
       "</pre>\n"
      ],
      "text/plain": [
       "\u001b[2;36m10:38:38 BST\u001b[0m\u001b[2;36m \u001b[0mstatus = success                                                   \n"
      ]
     },
     "metadata": {},
     "output_type": "display_data"
    },
    {
     "data": {
      "text/html": [
       "<pre style=\"white-space:pre;overflow-x:auto;line-height:normal;font-family:Menlo,'DejaVu Sans Mono',consolas,'Courier New',monospace\"></pre>\n"
      ],
      "text/plain": []
     },
     "metadata": {},
     "output_type": "display_data"
    },
    {
     "data": {
      "text/html": [
       "<pre style=\"white-space:pre;overflow-x:auto;line-height:normal;font-family:Menlo,'DejaVu Sans Mono',consolas,'Courier New',monospace\"><span style=\"color: #7fbfbf; text-decoration-color: #7fbfbf\">10:38:39 BST </span>View simulation result at                                          \n",
       "<span style=\"color: #7fbfbf; text-decoration-color: #7fbfbf\">             </span><a href=\"https://tidy3d.simulation.cloud/workbench?taskId=fdve-b96bb239-29e0-4358-ad9a-b87283aa576e\" target=\"_blank\"><span style=\"color: #000080; text-decoration-color: #000080; text-decoration: underline\">'https://tidy3d.simulation.cloud/workbench?taskId=fdve-b96bb239-29e</span></a>\n",
       "<span style=\"color: #7fbfbf; text-decoration-color: #7fbfbf\">             </span><a href=\"https://tidy3d.simulation.cloud/workbench?taskId=fdve-b96bb239-29e0-4358-ad9a-b87283aa576e\" target=\"_blank\"><span style=\"color: #000080; text-decoration-color: #000080; text-decoration: underline\">0-4358-ad9a-b87283aa576e'</span></a><span style=\"color: #000080; text-decoration-color: #000080; text-decoration: underline\">.</span>                                         \n",
       "</pre>\n"
      ],
      "text/plain": [
       "\u001b[2;36m10:38:39 BST\u001b[0m\u001b[2;36m \u001b[0mView simulation result at                                          \n",
       "\u001b[2;36m             \u001b[0m\u001b]8;id=540161;https://tidy3d.simulation.cloud/workbench?taskId=fdve-b96bb239-29e0-4358-ad9a-b87283aa576e\u001b\\\u001b[4;34m'https://tidy3d.simulation.cloud/workbench?\u001b[0m\u001b]8;;\u001b\\\u001b]8;id=269756;https://tidy3d.simulation.cloud/workbench?taskId=fdve-b96bb239-29e0-4358-ad9a-b87283aa576e\u001b\\\u001b[4;34mtaskId\u001b[0m\u001b]8;;\u001b\\\u001b]8;id=540161;https://tidy3d.simulation.cloud/workbench?taskId=fdve-b96bb239-29e0-4358-ad9a-b87283aa576e\u001b\\\u001b[4;34m=\u001b[0m\u001b]8;;\u001b\\\u001b]8;id=951144;https://tidy3d.simulation.cloud/workbench?taskId=fdve-b96bb239-29e0-4358-ad9a-b87283aa576e\u001b\\\u001b[4;34mfdve\u001b[0m\u001b]8;;\u001b\\\u001b]8;id=540161;https://tidy3d.simulation.cloud/workbench?taskId=fdve-b96bb239-29e0-4358-ad9a-b87283aa576e\u001b\\\u001b[4;34m-b96bb239-29e\u001b[0m\u001b]8;;\u001b\\\n",
       "\u001b[2;36m             \u001b[0m\u001b]8;id=540161;https://tidy3d.simulation.cloud/workbench?taskId=fdve-b96bb239-29e0-4358-ad9a-b87283aa576e\u001b\\\u001b[4;34m0-4358-ad9a-b87283aa576e'\u001b[0m\u001b]8;;\u001b\\\u001b[4;34m.\u001b[0m                                         \n"
      ]
     },
     "metadata": {},
     "output_type": "display_data"
    },
    {
     "data": {
      "application/vnd.jupyter.widget-view+json": {
       "model_id": "1f62d5315f6549fea4e34164f38e2fe5",
       "version_major": 2,
       "version_minor": 0
      },
      "text/plain": [
       "Output()"
      ]
     },
     "metadata": {},
     "output_type": "display_data"
    },
    {
     "data": {
      "text/html": [
       "<pre style=\"white-space:pre;overflow-x:auto;line-height:normal;font-family:Menlo,'DejaVu Sans Mono',consolas,'Courier New',monospace\"></pre>\n"
      ],
      "text/plain": []
     },
     "metadata": {},
     "output_type": "display_data"
    },
    {
     "data": {
      "text/html": [
       "<pre style=\"white-space:pre;overflow-x:auto;line-height:normal;font-family:Menlo,'DejaVu Sans Mono',consolas,'Courier New',monospace\">\n",
       "</pre>\n"
      ],
      "text/plain": [
       "\n"
      ]
     },
     "metadata": {},
     "output_type": "display_data"
    },
    {
     "data": {
      "text/html": [
       "<pre style=\"white-space:pre;overflow-x:auto;line-height:normal;font-family:Menlo,'DejaVu Sans Mono',consolas,'Courier New',monospace\"><span style=\"color: #7fbfbf; text-decoration-color: #7fbfbf\">10:38:41 BST </span>loading simulation from simulation_data.hdf5                       \n",
       "</pre>\n"
      ],
      "text/plain": [
       "\u001b[2;36m10:38:41 BST\u001b[0m\u001b[2;36m \u001b[0mloading simulation from simulation_data.hdf5                       \n"
      ]
     },
     "metadata": {},
     "output_type": "display_data"
    }
   ],
   "source": [
    "sim_final = make_sim(pixels_final)\n",
    "\n",
    "# Update mode monitor's recording frequencies\n",
    "mode_monitor = sim.monitors[0].copy(update={\"freqs\": freqs})\n",
    "\n",
    "# Add a field monitor to visualize field distribution\n",
    "field_monitor = td.FieldMonitor(\n",
    "    center=(0, 0, t / 2), size=(td.inf, td.inf, 0), freqs=[freq0], name=\"field\"\n",
    ")\n",
    "\n",
    "# Update simulation to use the new monitors\n",
    "sim_final = sim_final.copy(update={\"monitors\": [mode_monitor, field_monitor]})\n",
    "\n",
    "# Submit the simulation to the server\n",
    "sim_data_final = web.run(simulation=sim_final, task_name=\"final design\")"
   ]
  },
  {
   "cell_type": "markdown",
   "id": "645d4052",
   "metadata": {},
   "source": [
    "After the simulation, we visualize the electric field norm at the central wavelength. As expected, a strong reflection is observed. "
   ]
  },
  {
   "cell_type": "code",
   "execution_count": 14,
   "id": "0eff6f90",
   "metadata": {},
   "outputs": [
    {
     "data": {
      "image/png": "[encoded data removed]",
      "text/plain": [
       "<Figure size 640x480 with 2 Axes>"
      ]
     },
     "metadata": {},
     "output_type": "display_data"
    }
   ],
   "source": [
    "sim_data_final.plot_field(\"field\", \"Ey\", \"abs\", vmin=0, vmax=1e2)\n",
    "plt.show()"
   ]
  },
  {
   "cell_type": "markdown",
   "id": "89311128",
   "metadata": {},
   "source": [
    "Finally plot the reflection spectrum, where we see a broadband reflection. Considering the very compact footprint, the performance is very good. With this reflector design, we can further construct other devices such as high-quality-factor Fabry–Perot cavities as demonstrated in the [publication](https://doi.org/10.1364/PRJ.5.000B15)."
   ]
  },
  {
   "cell_type": "code",
   "execution_count": 15,
   "id": "20e9667f",
   "metadata": {},
   "outputs": [
    {
     "data": {
      "image/png": "[encoded data removed]",
      "text/plain": [
       "<Figure size 640x480 with 1 Axes>"
      ]
     },
     "metadata": {},
     "output_type": "display_data"
    }
   ],
   "source": [
    "R = abs(sim_data_final[\"mode\"].amps.sel(direction=\"-\").squeeze(drop=True).values) ** 2\n",
    "\n",
    "plt.plot(ldas, R, \"red\", linewidth=2)\n",
    "plt.xlim(min(ldas), max(ldas))\n",
    "plt.ylim(0, 1)\n",
    "plt.xlabel(\"Wavelength (µm)\")\n",
    "plt.ylabel(\"Reflectivity\")\n",
    "plt.show()"
   ]
  },
  {
   "cell_type": "markdown",
   "id": "6cf44ce8",
   "metadata": {},
   "source": [
    "With the optimized design, we can directly export a GDS file of the reflector for fabrication. "
   ]
  },
  {
   "cell_type": "code",
   "execution_count": 16,
   "id": "26cf87f5",
   "metadata": {},
   "outputs": [],
   "source": [
    "# Make the misc/ directory to store the GDS file if it doesnt exist already\n",
    "import os\n",
    "if not os.path.exists('./misc/'):\n",
    "    os.mkdir('./misc/')\n",
    "    \n",
    "sim_final.to_gds_file(fname=\"misc/optimized_reflector.gds\", z=t / 2)"
   ]
  }
 ],
 "metadata": {
  "description": "This notebook demonstrates how to use genetic algorithm (GA) to optimize an on-chip reflector.",
  "feature_image": "./img/optimized_reflector.png",
  "kernelspec": {
   "display_name": "Python 3 (ipykernel)",
   "language": "python",
   "name": "python3"
  },
  "keywords": "genetic algorithm, optimization, Tidy3D, FDTD",
  "language_info": {
   "codemirror_mode": {
    "name": "ipython",
    "version": 3
   },
   "file_extension": ".py",
   "mimetype": "text/x-python",
   "name": "python",
   "nbconvert_exporter": "python",
   "pygments_lexer": "ipython3",
   "version": "3.10.12"
  },
  "title": "Genetic Algorithm Optimization of a Reflector | Flexcompute"
 },
 "nbformat": 4,
 "nbformat_minor": 5
}
