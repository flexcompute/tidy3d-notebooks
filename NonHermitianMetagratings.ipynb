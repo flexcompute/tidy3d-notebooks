{
 "cells": [
  {
   "cell_type": "markdown",
   "id": "9a8067fc",
   "metadata": {},
   "source": [
    "# Unidirectional SPP from non-Hermitian metagratings"
   ]
  },
  {
   "cell_type": "markdown",
   "id": "0540bd37",
   "metadata": {},
   "source": [
    "Non-Hermitian systems are open systems that can exchange energy, matter, or information with their surroundings through the engineering of gain or loss materials. While quantum mechanics traditionally requires Hamiltonians to be Hermitian to produce real eigenvalues, it's been discovered that a system with a spatially varying complex potential energy can still have real eigenvalues if it obeys a certain symmetry known as Parity-Time (PT) symmetry.\n",
    "\n",
    "One concept that has gained particular attention in non-Hermitian photonics is the phenomenon of \"exceptional points.\" These are points in parameter space at which the eigenvalues and the eigenvectors of a non-Hermitian system coincide. Around these exceptional points, systems can have unique and often counterintuitive properties. For instance, light in these systems can exhibit uni-directional propagation, enhanced sensitivity to external parameters, or unusual scattering behavior. Non-Hermitian photonics has potential applications in many areas, including the design of new types of lasers, sensors, and photonic devices with novel properties. \n",
    "\n",
    "This notebook demonstrates the unidirectional surface plasmon polariton (SPP) propagation from non-Hermitian metagratings. The design is adapted from [Yihao Xu et al. ,Subwavelength control of light transport at the exceptional point by non-Hermitian metagratings. Sci.  Adv. 9, eadf3510(2023)](https://www.science.org/doi/10.1126/sciadv.adf3510).\n",
    "\n",
    "<img src=\"img/nonhermitian_metagrating.png\" width=\"500\" alt=\"Schematic of the non-Hermitian metagrating\">\n",
    "\n",
    "For more interesting contents in the realm of nanophotonics, please check out the case studies on [Anderson localization](https://www.flexcompute.com/tidy3d/examples/notebooks/AndersonLocalization/), [hyperbolic polaritons](https://www.flexcompute.com/tidy3d/examples/notebooks/NanostructuredBoronNitride/), and [plasmonic nanoantennas](https://www.flexcompute.com/tidy3d/examples/notebooks/PlasmonicYagiUdaNanoantenna/). For more simulation examples, please visit our [examples page](https://www.flexcompute.com/tidy3d/examples/). If you are new to the finite-difference time-domain (FDTD) method, we highly recommend going through our [FDTD101](https://www.flexcompute.com/fdtd101/) tutorials. FDTD simulations can diverge due to various reasons. If you run into any simulation divergence issues, please follow the steps outlined in our [troubleshooting guide](https://www.flexcompute.com/tidy3d/examples/notebooks/DivergedFDTDSimulation/) to resolve it."
   ]
  },
  {
   "cell_type": "code",
   "execution_count": 1,
   "id": "bf9df052",
   "metadata": {
    "execution": {
     "iopub.execute_input": "2024-02-17T06:52:36.125130Z",
     "iopub.status.busy": "2024-02-17T06:52:36.123822Z",
     "iopub.status.idle": "2024-02-17T06:52:37.425780Z",
     "shell.execute_reply": "2024-02-17T06:52:37.425233Z"
    }
   },
   "outputs": [],
   "source": [
    "import numpy as np\n",
    "import matplotlib.pyplot as plt\n",
    "\n",
    "import tidy3d as td\n",
    "import tidy3d.web as web\n",
    "from tidy3d.plugins.dispersion import DispersionFitter"
   ]
  },
  {
   "cell_type": "markdown",
   "id": "ae504163",
   "metadata": {},
   "source": [
    "## Simulation Setup "
   ]
  },
  {
   "cell_type": "markdown",
   "id": "62091a1b",
   "metadata": {},
   "source": [
    "Define the basic model parameters including the simulation wavelength/frequency and the metagrating geometric parameters."
   ]
  },
  {
   "cell_type": "code",
   "execution_count": 2,
   "id": "7fef6fca",
   "metadata": {
    "execution": {
     "iopub.execute_input": "2024-02-17T06:52:37.428161Z",
     "iopub.status.busy": "2024-02-17T06:52:37.427890Z",
     "iopub.status.idle": "2024-02-17T06:52:37.445482Z",
     "shell.execute_reply": "2024-02-17T06:52:37.443902Z"
    }
   },
   "outputs": [],
   "source": [
    "lda0 = 1.15 # simulation wavelength\n",
    "freq0 = td.C_0/lda0 # simulation frequency\n",
    "\n",
    "w1 = 0.083 # width of the first nanostrip in the unit cell\n",
    "w2 = 0.162 # width of the second nanostrip in the unit cell\n",
    "t1 = 0.08  # thickness of the first nanostrip\n",
    "t2 = 0.03  # thickness of the bottom layer of the second nanostrip\n",
    "t3 = 0.022 # thickness of the top layer of the second nanostrip\n",
    "s = 0.35  # center-to-center distance between the nanostrips\n",
    "p = 1.14  # grating period\n",
    "t_au = 0.06  # gold layer thickness\n",
    "N = 9  # number of unit cells\n",
    "inf_eff = 1e3 # effective infinity"
   ]
  },
  {
   "cell_type": "markdown",
   "id": "7279dd10",
   "metadata": {},
   "source": [
    "The metagrating utilizes four materials: a silicon dioxide substrate, a gold thin film, germanium nanostrips, and chromium nanostrips. These materials can be defined in different ways. Specifically, we use the gold medium directly from the [material library](../api/material_library.html). The germanium is defined using the [from_nk](../api/_autosummary/tidy3d.Medium.html#tidy3d.Medium.from_nk) method by specifying the real and imaginary parts of the refractive index at the simulation frequency. Silicon dioxide is considered as a lossless medium. Chromium is modeled as a dispersive medium by fitting the raw data from experimental measurements. \n",
    "\n",
    "In this simulation, we are only concerned about one frequency, so in principle the dispersive fitting is not necessary. However, chromium has $Re(\\varepsilon)<1$ at 1150 nm. In Tidy3D, we require the nondispersive medium to have $Re(\\varepsilon)\\ge 1$. Therefore, it can not be defined using the [from_nk](../api/_autosummary/tidy3d.Medium.html#tidy3d.Medium.from_nk) method directly and dispersive fitting is the only option. \n",
    "\n",
    "The raw data file `Cr_Sytchkova.csv` can be found on the refractive index [database](https://refractiveindex.info/?shelf=main&book=Cr&page=Sytchkova) or on our github [repo](https://github.com/flexcompute-readthedocs/tidy3d-docs/tree/latest/docs/source/notebooks/misc)."
   ]
  },
  {
   "cell_type": "code",
   "execution_count": 3,
   "id": "e67a4833",
   "metadata": {
    "execution": {
     "iopub.execute_input": "2024-02-17T06:52:37.450735Z",
     "iopub.status.busy": "2024-02-17T06:52:37.450349Z",
     "iopub.status.idle": "2024-02-17T06:52:51.146710Z",
     "shell.execute_reply": "2024-02-17T06:52:51.145980Z"
    }
   },
   "outputs": [
    {
     "data": {
      "application/vnd.jupyter.widget-view+json": {
       "model_id": "0a07031d46544aeaa3744e24f667b395",
       "version_major": 2,
       "version_minor": 0
      },
      "text/plain": [
       "Output()"
      ]
     },
     "metadata": {},
     "output_type": "display_data"
    },
    {
     "data": {
      "text/html": [
       "<pre style=\"white-space:pre;overflow-x:auto;line-height:normal;font-family:Menlo,'DejaVu Sans Mono',consolas,'Courier New',monospace\"></pre>\n"
      ],
      "text/plain": []
     },
     "metadata": {},
     "output_type": "display_data"
    },
    {
     "data": {
      "text/html": [
       "<pre style=\"white-space:pre;overflow-x:auto;line-height:normal;font-family:Menlo,'DejaVu Sans Mono',consolas,'Courier New',monospace\">\n",
       "</pre>\n"
      ],
      "text/plain": [
       "\n"
      ]
     },
     "metadata": {},
     "output_type": "display_data"
    },
    {
     "data": {
      "text/html": [
       "<pre style=\"white-space:pre;overflow-x:auto;line-height:normal;font-family:Menlo,'DejaVu Sans Mono',consolas,'Courier New',monospace\"><span style=\"color: #7fbfbf; text-decoration-color: #7fbfbf\">22:52:51 PST </span><span style=\"color: #800000; text-decoration-color: #800000\">WARNING: Unable to fit with RMS error under </span><span style=\"color: #008000; text-decoration-color: #008000\">'tolerance_rms'</span><span style=\"color: #800000; text-decoration-color: #800000\"> of </span><span style=\"color: #008080; text-decoration-color: #008080; font-weight: bold\">0.01</span>\n",
       "</pre>\n"
      ],
      "text/plain": [
       "\u001b[2;36m22:52:51 PST\u001b[0m\u001b[2;36m \u001b[0m\u001b[31mWARNING: Unable to fit with RMS error under \u001b[0m\u001b[32m'tolerance_rms'\u001b[0m\u001b[31m of \u001b[0m\u001b[1;36m0.01\u001b[0m\n"
      ]
     },
     "metadata": {},
     "output_type": "display_data"
    }
   ],
   "source": [
    "# define gold medium\n",
    "Au = td.material_library['Au']['Olmon2012stripped']  \n",
    "\n",
    "# define Ge medium\n",
    "Ge = td.Medium.from_nk(n=4.6403, k=0.2519, freq=freq0)\n",
    "\n",
    "# define SiO2 medium\n",
    "SiO2 = td.Medium(permittivity=1.45**2)\n",
    "\n",
    "# define Cr medium\n",
    "fname = \"misc/Cr_Sytchkova.csv\"  # read the refractive index data from a csv file\n",
    "fitter = DispersionFitter.from_file(fname, delimiter=\",\")  # construct a fitter\n",
    "Cr, rms_error = fitter.fit(num_poles=4, num_tries=10)\n",
    "fitted_nk = Cr.nk_model(freq0)\n"
   ]
  },
  {
   "cell_type": "markdown",
   "id": "2f0b68de",
   "metadata": {},
   "source": [
    "After the fitting, we see a warning that the fitting RMS error didn't get lower than the threshold. We can inspect the fitting result of chromium to see if the fitting is sufficiently good. Here we do see the fitting is quite resonable.  "
   ]
  },
  {
   "cell_type": "code",
   "execution_count": 4,
   "id": "22317026",
   "metadata": {
    "execution": {
     "iopub.execute_input": "2024-02-17T06:52:51.377847Z",
     "iopub.status.busy": "2024-02-17T06:52:51.377699Z",
     "iopub.status.idle": "2024-02-17T06:52:51.615574Z",
     "shell.execute_reply": "2024-02-17T06:52:51.614970Z"
    }
   },
   "outputs": [
    {
     "data": {
      "image/png": "[encoded data removed]",
      "text/plain": [
       "<Figure size 640x480 with 1 Axes>"
      ]
     },
     "metadata": {},
     "output_type": "display_data"
    }
   ],
   "source": [
    "fitter.plot(Cr)\n",
    "plt.show()"
   ]
  },
  {
   "cell_type": "markdown",
   "id": "22049a80",
   "metadata": {},
   "source": [
    "Next, we define the metagrating structures. The `N` unit cells can be defined by using a simple for loop."
   ]
  },
  {
   "cell_type": "code",
   "execution_count": 5,
   "id": "138dc69a",
   "metadata": {
    "execution": {
     "iopub.execute_input": "2024-02-17T06:52:51.617409Z",
     "iopub.status.busy": "2024-02-17T06:52:51.617233Z",
     "iopub.status.idle": "2024-02-17T06:52:51.637478Z",
     "shell.execute_reply": "2024-02-17T06:52:51.636933Z"
    }
   },
   "outputs": [],
   "source": [
    "# define the nanostrips that make up the unit cells\n",
    "grating = []\n",
    "for i in range(N):\n",
    "    geo = td.Box(center=(-s/2+i*p-(N-1)*p/2, 0, t1/2), size=(w1,td.inf,t1))\n",
    "    grating.append(td.Structure(geometry=geo, medium=Ge))\n",
    "    \n",
    "    geo = td.Box(center=(s/2+i*p-(N-1)*p/2, 0, t2/2), size=(w1,td.inf,t2))\n",
    "    grating.append(td.Structure(geometry=geo, medium=Ge))\n",
    "    \n",
    "    geo = td.Box(center=(s/2+i*p-(N-1)*p/2, 0, t2+t3/2), size=(w1,td.inf,t3))\n",
    "    grating.append(td.Structure(geometry=geo, medium=Cr))\n",
    "    \n",
    "# define the substrate\n",
    "substrate_geo = td.Box.from_bounds(rmin=(-inf_eff,-inf_eff,-inf_eff), rmax=(inf_eff,inf_eff,-t_au))\n",
    "substrate = td.Structure(geometry=substrate_geo, medium=SiO2)\n",
    "\n",
    "# define the gold film\n",
    "gold_film_geo = td.Box(center=(0,0,-t_au/2), size=(inf_eff, inf_eff, t_au))\n",
    "gold_film = td.Structure(geometry=gold_film_geo, medium=Au)"
   ]
  },
  {
   "cell_type": "markdown",
   "id": "d2b091e5",
   "metadata": {},
   "source": [
    "For excitation, we define a [GaussianBeam](../api/_autosummary/tidy3d.GaussianBeam.html) incident on the metagrating. The `waist_radius` is set to five grating periods to ensure the entire grating array is covered by the beam. \n",
    "\n",
    "To visualize the SPP propagation, a [FieldMonitor](../api/_autosummary/tidy3d.FieldMonitor.html) is defined. Two [FluxMonitors](../api/_autosummary/tidy3d.FluxMonitor.html) are defined to measure the power transmissions of the SPP to the left and right. "
   ]
  },
  {
   "cell_type": "code",
   "execution_count": 6,
   "id": "ff030f3f",
   "metadata": {
    "execution": {
     "iopub.execute_input": "2024-02-17T06:52:51.639350Z",
     "iopub.status.busy": "2024-02-17T06:52:51.639122Z",
     "iopub.status.idle": "2024-02-17T06:52:51.657142Z",
     "shell.execute_reply": "2024-02-17T06:52:51.656570Z"
    }
   },
   "outputs": [],
   "source": [
    "gaussian_beam = td.GaussianBeam(\n",
    "    size=(td.inf, td.inf, 0),\n",
    "    center=(0, 0, 5*lda0),\n",
    "    source_time=td.GaussianPulse(freq0=freq0, fwidth=freq0/10),\n",
    "    direction=\"-\",\n",
    "    waist_radius=5*p,\n",
    ")\n",
    "\n",
    "field_monitor = td.FieldMonitor(\n",
    "    size=(td.inf, 0, td.inf), \n",
    "    freqs=[freq0], \n",
    "    interval_space=(2,1,2),\n",
    "    name=\"field\"\n",
    ")\n",
    "\n",
    "flux_monitor_right = td.FluxMonitor(\n",
    "    center=(23*p,0,0),\n",
    "    size=(0, td.inf, 2*lda0),\n",
    "    freqs=[freq0],\n",
    "    name=\"flux_right\",\n",
    ")\n",
    "\n",
    "flux_monitor_left = td.FluxMonitor(\n",
    "    center=(-23*p,0,0),\n",
    "    size=(0, td.inf, 2*lda0),\n",
    "    freqs=[freq0],\n",
    "    name=\"flux_left\",\n",
    ")"
   ]
  },
  {
   "cell_type": "markdown",
   "id": "c6304d09",
   "metadata": {},
   "source": [
    "Define the Tidy3D [Simulation](../api/_autosummary/tidy3d.Simulation.html). The simulation is 2D so periodic boundary condition is applied to the direction with zero size (the $y$ direction in this case)."
   ]
  },
  {
   "cell_type": "code",
   "execution_count": 7,
   "id": "cca3cd88",
   "metadata": {
    "execution": {
     "iopub.execute_input": "2024-02-17T06:52:51.658999Z",
     "iopub.status.busy": "2024-02-17T06:52:51.658841Z",
     "iopub.status.idle": "2024-02-17T06:52:51.696097Z",
     "shell.execute_reply": "2024-02-17T06:52:51.695554Z"
    }
   },
   "outputs": [],
   "source": [
    "# simulation domain size\n",
    "Lx = 50*p\n",
    "Ly = 0\n",
    "Lz = 7*lda0\n",
    "\n",
    "# simulation run time\n",
    "run_time = 5e-13\n",
    "\n",
    "# define simulation\n",
    "sim = td.Simulation(\n",
    "        center=(0, 0, 2*lda0),\n",
    "        size=(Lx, Ly, Lz),\n",
    "        grid_spec=td.GridSpec.auto(min_steps_per_wvl=30, wavelength=lda0),\n",
    "        structures=grating + [substrate, gold_film],\n",
    "        sources=[gaussian_beam],\n",
    "        monitors=[field_monitor, flux_monitor_right, flux_monitor_left],\n",
    "        run_time=run_time,\n",
    "        boundary_spec=td.BoundarySpec(\n",
    "            x=td.Boundary.pml(), y=td.Boundary.periodic(), z=td.Boundary.pml()\n",
    "        ),  \n",
    ")\n"
   ]
  },
  {
   "cell_type": "markdown",
   "id": "c7cc7eb4",
   "metadata": {},
   "source": [
    "Visualize the simulation setup."
   ]
  },
  {
   "cell_type": "code",
   "execution_count": 8,
   "id": "6e31921c",
   "metadata": {
    "execution": {
     "iopub.execute_input": "2024-02-17T06:52:51.697946Z",
     "iopub.status.busy": "2024-02-17T06:52:51.697759Z",
     "iopub.status.idle": "2024-02-17T06:52:51.891083Z",
     "shell.execute_reply": "2024-02-17T06:52:51.890566Z"
    }
   },
   "outputs": [
    {
     "data": {
      "image/png": "[encoded data removed]",
      "text/plain": [
       "<Figure size 640x480 with 1 Axes>"
      ]
     },
     "metadata": {},
     "output_type": "display_data"
    }
   ],
   "source": [
    "ax = sim.plot(y=0)\n",
    "ax.set_aspect('auto')\n",
    "plt.show()"
   ]
  },
  {
   "cell_type": "markdown",
   "id": "10f22ff0",
   "metadata": {},
   "source": [
    "Since the grating structures are small compared to the simulation domain, we can zoom in to see them more clearly."
   ]
  },
  {
   "cell_type": "code",
   "execution_count": 9,
   "id": "3502259c",
   "metadata": {
    "execution": {
     "iopub.execute_input": "2024-02-17T06:52:51.893018Z",
     "iopub.status.busy": "2024-02-17T06:52:51.892843Z",
     "iopub.status.idle": "2024-02-17T06:52:52.116712Z",
     "shell.execute_reply": "2024-02-17T06:52:52.115944Z"
    }
   },
   "outputs": [
    {
     "data": {
      "image/png": "[encoded data removed]",
      "text/plain": [
       "<Figure size 640x480 with 1 Axes>"
      ]
     },
     "metadata": {},
     "output_type": "display_data"
    }
   ],
   "source": [
    "ax = sim.plot(y=0)\n",
    "ax.set_xlim(-6, 6)\n",
    "ax.set_ylim(-0.1, 0.1)\n",
    "ax.set_aspect('auto')\n",
    "plt.show()"
   ]
  },
  {
   "cell_type": "markdown",
   "id": "1d0ff819",
   "metadata": {},
   "source": [
    "The simulation settings look correct. We are ready to submit the simulation to the server."
   ]
  },
  {
   "cell_type": "code",
   "execution_count": 10,
   "id": "93cd1c7f",
   "metadata": {
    "execution": {
     "iopub.execute_input": "2024-02-17T06:52:52.119331Z",
     "iopub.status.busy": "2024-02-17T06:52:52.118940Z",
     "iopub.status.idle": "2024-02-17T06:53:29.828271Z",
     "shell.execute_reply": "2024-02-17T06:53:29.827666Z"
    }
   },
   "outputs": [
    {
     "data": {
      "text/html": [
       "<pre style=\"white-space:pre;overflow-x:auto;line-height:normal;font-family:Menlo,'DejaVu Sans Mono',consolas,'Courier New',monospace\"><span style=\"color: #7fbfbf; text-decoration-color: #7fbfbf\">22:52:52 PST </span>Created task <span style=\"color: #008000; text-decoration-color: #008000\">'nonhermitian_metagrating'</span> with task_id               \n",
       "<span style=\"color: #7fbfbf; text-decoration-color: #7fbfbf\">             </span><span style=\"color: #008000; text-decoration-color: #008000\">'fdve-82ec90ed-7a7e-41b6-9b4b-bf69a2ee57dc'</span> and task_type <span style=\"color: #008000; text-decoration-color: #008000\">'FDTD'</span>.  \n",
       "</pre>\n"
      ],
      "text/plain": [
       "\u001b[2;36m22:52:52 PST\u001b[0m\u001b[2;36m \u001b[0mCreated task \u001b[32m'nonhermitian_metagrating'\u001b[0m with task_id               \n",
       "\u001b[2;36m             \u001b[0m\u001b[32m'fdve-82ec90ed-7a7e-41b6-9b4b-bf69a2ee57dc'\u001b[0m and task_type \u001b[32m'FDTD'\u001b[0m.  \n"
      ]
     },
     "metadata": {},
     "output_type": "display_data"
    },
    {
     "data": {
      "text/html": [
       "<pre style=\"white-space:pre;overflow-x:auto;line-height:normal;font-family:Menlo,'DejaVu Sans Mono',consolas,'Courier New',monospace\"><span style=\"color: #7fbfbf; text-decoration-color: #7fbfbf\">             </span>View task using web UI at                                          \n",
       "<span style=\"color: #7fbfbf; text-decoration-color: #7fbfbf\">             </span><a href=\"https://tidy3d.simulation.cloud/workbench?taskId=fdve-82ec90ed-7a7e-41b6-9b4b-bf69a2ee57dc\" target=\"_blank\"><span style=\"color: #008000; text-decoration-color: #008000\">'https://tidy3d.simulation.cloud/workbench?taskId=fdve-82ec90ed-7a7</span></a>\n",
       "<span style=\"color: #7fbfbf; text-decoration-color: #7fbfbf\">             </span><a href=\"https://tidy3d.simulation.cloud/workbench?taskId=fdve-82ec90ed-7a7e-41b6-9b4b-bf69a2ee57dc\" target=\"_blank\"><span style=\"color: #008000; text-decoration-color: #008000\">e-41b6-9b4b-bf69a2ee57dc'</span></a>.                                         \n",
       "</pre>\n"
      ],
      "text/plain": [
       "\u001b[2;36m            \u001b[0m\u001b[2;36m \u001b[0mView task using web UI at                                          \n",
       "\u001b[2;36m             \u001b[0m\u001b]8;id=822036;https://tidy3d.simulation.cloud/workbench?taskId=fdve-82ec90ed-7a7e-41b6-9b4b-bf69a2ee57dc\u001b\\\u001b[32m'https://tidy3d.simulation.cloud/workbench?\u001b[0m\u001b]8;;\u001b\\\u001b]8;id=677686;https://tidy3d.simulation.cloud/workbench?taskId=fdve-82ec90ed-7a7e-41b6-9b4b-bf69a2ee57dc\u001b\\\u001b[32mtaskId\u001b[0m\u001b]8;;\u001b\\\u001b]8;id=822036;https://tidy3d.simulation.cloud/workbench?taskId=fdve-82ec90ed-7a7e-41b6-9b4b-bf69a2ee57dc\u001b\\\u001b[32m=\u001b[0m\u001b]8;;\u001b\\\u001b]8;id=847415;https://tidy3d.simulation.cloud/workbench?taskId=fdve-82ec90ed-7a7e-41b6-9b4b-bf69a2ee57dc\u001b\\\u001b[32mfdve\u001b[0m\u001b]8;;\u001b\\\u001b]8;id=822036;https://tidy3d.simulation.cloud/workbench?taskId=fdve-82ec90ed-7a7e-41b6-9b4b-bf69a2ee57dc\u001b\\\u001b[32m-82ec90ed-7a7\u001b[0m\u001b]8;;\u001b\\\n",
       "\u001b[2;36m             \u001b[0m\u001b]8;id=822036;https://tidy3d.simulation.cloud/workbench?taskId=fdve-82ec90ed-7a7e-41b6-9b4b-bf69a2ee57dc\u001b\\\u001b[32me-41b6-9b4b-bf69a2ee57dc'\u001b[0m\u001b]8;;\u001b\\.                                         \n"
      ]
     },
     "metadata": {},
     "output_type": "display_data"
    },
    {
     "data": {
      "application/vnd.jupyter.widget-view+json": {
       "model_id": "a56277aad8984df5b81f473f72d93ee3",
       "version_major": 2,
       "version_minor": 0
      },
      "text/plain": [
       "Output()"
      ]
     },
     "metadata": {},
     "output_type": "display_data"
    },
    {
     "data": {
      "text/html": [
       "<pre style=\"white-space:pre;overflow-x:auto;line-height:normal;font-family:Menlo,'DejaVu Sans Mono',consolas,'Courier New',monospace\"></pre>\n"
      ],
      "text/plain": []
     },
     "metadata": {},
     "output_type": "display_data"
    },
    {
     "data": {
      "text/html": [
       "<pre style=\"white-space:pre;overflow-x:auto;line-height:normal;font-family:Menlo,'DejaVu Sans Mono',consolas,'Courier New',monospace\">\n",
       "</pre>\n"
      ],
      "text/plain": [
       "\n"
      ]
     },
     "metadata": {},
     "output_type": "display_data"
    },
    {
     "data": {
      "text/html": [
       "<pre style=\"white-space:pre;overflow-x:auto;line-height:normal;font-family:Menlo,'DejaVu Sans Mono',consolas,'Courier New',monospace\"><span style=\"color: #7fbfbf; text-decoration-color: #7fbfbf\">22:52:53 PST </span>status = queued                                                    \n",
       "</pre>\n"
      ],
      "text/plain": [
       "\u001b[2;36m22:52:53 PST\u001b[0m\u001b[2;36m \u001b[0mstatus = queued                                                    \n"
      ]
     },
     "metadata": {},
     "output_type": "display_data"
    },
    {
     "data": {
      "application/vnd.jupyter.widget-view+json": {
       "model_id": "4c2b547b846341369a0fabf2d9479a54",
       "version_major": 2,
       "version_minor": 0
      },
      "text/plain": [
       "Output()"
      ]
     },
     "metadata": {},
     "output_type": "display_data"
    },
    {
     "data": {
      "text/html": [
       "<pre style=\"white-space:pre;overflow-x:auto;line-height:normal;font-family:Menlo,'DejaVu Sans Mono',consolas,'Courier New',monospace\"><span style=\"color: #7fbfbf; text-decoration-color: #7fbfbf\">22:52:59 PST </span>status = preprocess                                                \n",
       "</pre>\n"
      ],
      "text/plain": [
       "\u001b[2;36m22:52:59 PST\u001b[0m\u001b[2;36m \u001b[0mstatus = preprocess                                                \n"
      ]
     },
     "metadata": {},
     "output_type": "display_data"
    },
    {
     "data": {
      "text/html": [
       "<pre style=\"white-space:pre;overflow-x:auto;line-height:normal;font-family:Menlo,'DejaVu Sans Mono',consolas,'Courier New',monospace\"></pre>\n"
      ],
      "text/plain": []
     },
     "metadata": {},
     "output_type": "display_data"
    },
    {
     "data": {
      "text/html": [
       "<pre style=\"white-space:pre;overflow-x:auto;line-height:normal;font-family:Menlo,'DejaVu Sans Mono',consolas,'Courier New',monospace\"><span style=\"color: #7fbfbf; text-decoration-color: #7fbfbf\">22:53:00 PST </span>Maximum FlexCredit cost: <span style=\"color: #008080; text-decoration-color: #008080; font-weight: bold\">0.059</span>. Use <span style=\"color: #008000; text-decoration-color: #008000\">'web.real_cost(task_id)'</span> to get\n",
       "<span style=\"color: #7fbfbf; text-decoration-color: #7fbfbf\">             </span>the billed FlexCredit cost after a simulation run.                 \n",
       "</pre>\n"
      ],
      "text/plain": [
       "\u001b[2;36m22:53:00 PST\u001b[0m\u001b[2;36m \u001b[0mMaximum FlexCredit cost: \u001b[1;36m0.059\u001b[0m. Use \u001b[32m'web.real_cost\u001b[0m\u001b[32m(\u001b[0m\u001b[32mtask_id\u001b[0m\u001b[32m)\u001b[0m\u001b[32m'\u001b[0m to get\n",
       "\u001b[2;36m             \u001b[0mthe billed FlexCredit cost after a simulation run.                 \n"
      ]
     },
     "metadata": {},
     "output_type": "display_data"
    },
    {
     "data": {
      "text/html": [
       "<pre style=\"white-space:pre;overflow-x:auto;line-height:normal;font-family:Menlo,'DejaVu Sans Mono',consolas,'Courier New',monospace\"><span style=\"color: #7fbfbf; text-decoration-color: #7fbfbf\">             </span>starting up solver                                                 \n",
       "</pre>\n"
      ],
      "text/plain": [
       "\u001b[2;36m            \u001b[0m\u001b[2;36m \u001b[0mstarting up solver                                                 \n"
      ]
     },
     "metadata": {},
     "output_type": "display_data"
    },
    {
     "data": {
      "text/html": [
       "<pre style=\"white-space:pre;overflow-x:auto;line-height:normal;font-family:Menlo,'DejaVu Sans Mono',consolas,'Courier New',monospace\"><span style=\"color: #7fbfbf; text-decoration-color: #7fbfbf\">             </span>running solver                                                     \n",
       "</pre>\n"
      ],
      "text/plain": [
       "\u001b[2;36m            \u001b[0m\u001b[2;36m \u001b[0mrunning solver                                                     \n"
      ]
     },
     "metadata": {},
     "output_type": "display_data"
    },
    {
     "data": {
      "text/html": [
       "<pre style=\"white-space:pre;overflow-x:auto;line-height:normal;font-family:Menlo,'DejaVu Sans Mono',consolas,'Courier New',monospace\"><span style=\"color: #7fbfbf; text-decoration-color: #7fbfbf\">             </span>To cancel the simulation, use <span style=\"color: #008000; text-decoration-color: #008000\">'web.abort(task_id)'</span> or              \n",
       "<span style=\"color: #7fbfbf; text-decoration-color: #7fbfbf\">             </span><span style=\"color: #008000; text-decoration-color: #008000\">'web.delete(task_id)'</span> or abort/delete the task in the web UI.      \n",
       "<span style=\"color: #7fbfbf; text-decoration-color: #7fbfbf\">             </span>Terminating the Python script will not stop the job running on the \n",
       "<span style=\"color: #7fbfbf; text-decoration-color: #7fbfbf\">             </span>cloud.                                                             \n",
       "</pre>\n"
      ],
      "text/plain": [
       "\u001b[2;36m            \u001b[0m\u001b[2;36m \u001b[0mTo cancel the simulation, use \u001b[32m'web.abort\u001b[0m\u001b[32m(\u001b[0m\u001b[32mtask_id\u001b[0m\u001b[32m)\u001b[0m\u001b[32m'\u001b[0m or              \n",
       "\u001b[2;36m             \u001b[0m\u001b[32m'web.delete\u001b[0m\u001b[32m(\u001b[0m\u001b[32mtask_id\u001b[0m\u001b[32m)\u001b[0m\u001b[32m'\u001b[0m or abort/delete the task in the web UI.      \n",
       "\u001b[2;36m             \u001b[0mTerminating the Python script will not stop the job running on the \n",
       "\u001b[2;36m             \u001b[0mcloud.                                                             \n"
      ]
     },
     "metadata": {},
     "output_type": "display_data"
    },
    {
     "data": {
      "application/vnd.jupyter.widget-view+json": {
       "model_id": "83289aa2b35c4c289a0d53e40f72bfb4",
       "version_major": 2,
       "version_minor": 0
      },
      "text/plain": [
       "Output()"
      ]
     },
     "metadata": {},
     "output_type": "display_data"
    },
    {
     "data": {
      "text/html": [
       "<pre style=\"white-space:pre;overflow-x:auto;line-height:normal;font-family:Menlo,'DejaVu Sans Mono',consolas,'Courier New',monospace\"><span style=\"color: #7fbfbf; text-decoration-color: #7fbfbf\">22:53:19 PST </span>early shutoff detected at <span style=\"color: #008080; text-decoration-color: #008080; font-weight: bold\">40</span>%, exiting.                            \n",
       "</pre>\n"
      ],
      "text/plain": [
       "\u001b[2;36m22:53:19 PST\u001b[0m\u001b[2;36m \u001b[0mearly shutoff detected at \u001b[1;36m40\u001b[0m%, exiting.                            \n"
      ]
     },
     "metadata": {},
     "output_type": "display_data"
    },
    {
     "data": {
      "text/html": [
       "<pre style=\"white-space:pre;overflow-x:auto;line-height:normal;font-family:Menlo,'DejaVu Sans Mono',consolas,'Courier New',monospace\"></pre>\n"
      ],
      "text/plain": []
     },
     "metadata": {},
     "output_type": "display_data"
    },
    {
     "data": {
      "text/html": [
       "<pre style=\"white-space:pre;overflow-x:auto;line-height:normal;font-family:Menlo,'DejaVu Sans Mono',consolas,'Courier New',monospace\">\n",
       "</pre>\n"
      ],
      "text/plain": [
       "\n"
      ]
     },
     "metadata": {},
     "output_type": "display_data"
    },
    {
     "data": {
      "text/html": [
       "<pre style=\"white-space:pre;overflow-x:auto;line-height:normal;font-family:Menlo,'DejaVu Sans Mono',consolas,'Courier New',monospace\"><span style=\"color: #7fbfbf; text-decoration-color: #7fbfbf\">             </span>status = postprocess                                               \n",
       "</pre>\n"
      ],
      "text/plain": [
       "\u001b[2;36m            \u001b[0m\u001b[2;36m \u001b[0mstatus = postprocess                                               \n"
      ]
     },
     "metadata": {},
     "output_type": "display_data"
    },
    {
     "data": {
      "application/vnd.jupyter.widget-view+json": {
       "model_id": "bab0e53bdaf84c1580e132715b21f09b",
       "version_major": 2,
       "version_minor": 0
      },
      "text/plain": [
       "Output()"
      ]
     },
     "metadata": {},
     "output_type": "display_data"
    },
    {
     "data": {
      "text/html": [
       "<pre style=\"white-space:pre;overflow-x:auto;line-height:normal;font-family:Menlo,'DejaVu Sans Mono',consolas,'Courier New',monospace\"><span style=\"color: #7fbfbf; text-decoration-color: #7fbfbf\">22:53:27 PST </span>status = success                                                   \n",
       "</pre>\n"
      ],
      "text/plain": [
       "\u001b[2;36m22:53:27 PST\u001b[0m\u001b[2;36m \u001b[0mstatus = success                                                   \n"
      ]
     },
     "metadata": {},
     "output_type": "display_data"
    },
    {
     "data": {
      "text/html": [
       "<pre style=\"white-space:pre;overflow-x:auto;line-height:normal;font-family:Menlo,'DejaVu Sans Mono',consolas,'Courier New',monospace\"></pre>\n"
      ],
      "text/plain": []
     },
     "metadata": {},
     "output_type": "display_data"
    },
    {
     "data": {
      "text/html": [
       "<pre style=\"white-space:pre;overflow-x:auto;line-height:normal;font-family:Menlo,'DejaVu Sans Mono',consolas,'Courier New',monospace\"><span style=\"color: #7fbfbf; text-decoration-color: #7fbfbf\">             </span>View simulation result at                                          \n",
       "<span style=\"color: #7fbfbf; text-decoration-color: #7fbfbf\">             </span><a href=\"https://tidy3d.simulation.cloud/workbench?taskId=fdve-82ec90ed-7a7e-41b6-9b4b-bf69a2ee57dc\" target=\"_blank\"><span style=\"color: #000080; text-decoration-color: #000080; text-decoration: underline\">'https://tidy3d.simulation.cloud/workbench?taskId=fdve-82ec90ed-7a7</span></a>\n",
       "<span style=\"color: #7fbfbf; text-decoration-color: #7fbfbf\">             </span><a href=\"https://tidy3d.simulation.cloud/workbench?taskId=fdve-82ec90ed-7a7e-41b6-9b4b-bf69a2ee57dc\" target=\"_blank\"><span style=\"color: #000080; text-decoration-color: #000080; text-decoration: underline\">e-41b6-9b4b-bf69a2ee57dc'</span></a><span style=\"color: #000080; text-decoration-color: #000080; text-decoration: underline\">.</span>                                         \n",
       "</pre>\n"
      ],
      "text/plain": [
       "\u001b[2;36m            \u001b[0m\u001b[2;36m \u001b[0mView simulation result at                                          \n",
       "\u001b[2;36m             \u001b[0m\u001b]8;id=528852;https://tidy3d.simulation.cloud/workbench?taskId=fdve-82ec90ed-7a7e-41b6-9b4b-bf69a2ee57dc\u001b\\\u001b[4;34m'https://tidy3d.simulation.cloud/workbench?\u001b[0m\u001b]8;;\u001b\\\u001b]8;id=413330;https://tidy3d.simulation.cloud/workbench?taskId=fdve-82ec90ed-7a7e-41b6-9b4b-bf69a2ee57dc\u001b\\\u001b[4;34mtaskId\u001b[0m\u001b]8;;\u001b\\\u001b]8;id=528852;https://tidy3d.simulation.cloud/workbench?taskId=fdve-82ec90ed-7a7e-41b6-9b4b-bf69a2ee57dc\u001b\\\u001b[4;34m=\u001b[0m\u001b]8;;\u001b\\\u001b]8;id=567230;https://tidy3d.simulation.cloud/workbench?taskId=fdve-82ec90ed-7a7e-41b6-9b4b-bf69a2ee57dc\u001b\\\u001b[4;34mfdve\u001b[0m\u001b]8;;\u001b\\\u001b]8;id=528852;https://tidy3d.simulation.cloud/workbench?taskId=fdve-82ec90ed-7a7e-41b6-9b4b-bf69a2ee57dc\u001b\\\u001b[4;34m-82ec90ed-7a7\u001b[0m\u001b]8;;\u001b\\\n",
       "\u001b[2;36m             \u001b[0m\u001b]8;id=528852;https://tidy3d.simulation.cloud/workbench?taskId=fdve-82ec90ed-7a7e-41b6-9b4b-bf69a2ee57dc\u001b\\\u001b[4;34me-41b6-9b4b-bf69a2ee57dc'\u001b[0m\u001b]8;;\u001b\\\u001b[4;34m.\u001b[0m                                         \n"
      ]
     },
     "metadata": {},
     "output_type": "display_data"
    },
    {
     "data": {
      "application/vnd.jupyter.widget-view+json": {
       "model_id": "96e23b672537440581f2957950e51b9f",
       "version_major": 2,
       "version_minor": 0
      },
      "text/plain": [
       "Output()"
      ]
     },
     "metadata": {},
     "output_type": "display_data"
    },
    {
     "data": {
      "text/html": [
       "<pre style=\"white-space:pre;overflow-x:auto;line-height:normal;font-family:Menlo,'DejaVu Sans Mono',consolas,'Courier New',monospace\"></pre>\n"
      ],
      "text/plain": []
     },
     "metadata": {},
     "output_type": "display_data"
    },
    {
     "data": {
      "text/html": [
       "<pre style=\"white-space:pre;overflow-x:auto;line-height:normal;font-family:Menlo,'DejaVu Sans Mono',consolas,'Courier New',monospace\">\n",
       "</pre>\n"
      ],
      "text/plain": [
       "\n"
      ]
     },
     "metadata": {},
     "output_type": "display_data"
    },
    {
     "data": {
      "text/html": [
       "<pre style=\"white-space:pre;overflow-x:auto;line-height:normal;font-family:Menlo,'DejaVu Sans Mono',consolas,'Courier New',monospace\"><span style=\"color: #7fbfbf; text-decoration-color: #7fbfbf\">22:53:29 PST </span>loading simulation from data/simulation_data.hdf5                  \n",
       "</pre>\n"
      ],
      "text/plain": [
       "\u001b[2;36m22:53:29 PST\u001b[0m\u001b[2;36m \u001b[0mloading simulation from data/simulation_data.hdf5                  \n"
      ]
     },
     "metadata": {},
     "output_type": "display_data"
    }
   ],
   "source": [
    "sim_data = web.run(\n",
    "    sim, task_name=\"nonhermitian_metagrating\", path=\"data/simulation_data.hdf5\"\n",
    ")\n"
   ]
  },
  {
   "cell_type": "markdown",
   "id": "eaed37ff",
   "metadata": {},
   "source": [
    "## Result Analysis"
   ]
  },
  {
   "cell_type": "markdown",
   "id": "ffed0e49",
   "metadata": {},
   "source": [
    "Plot $|H_y|^2$ to visualize the SPP propagation. We can see the SPP is only propagating to the right, i.e. unidirectional propagation."
   ]
  },
  {
   "cell_type": "code",
   "execution_count": 11,
   "id": "1dfaa45e",
   "metadata": {
    "execution": {
     "iopub.execute_input": "2024-02-17T06:53:30.417388Z",
     "iopub.status.busy": "2024-02-17T06:53:30.417145Z",
     "iopub.status.idle": "2024-02-17T06:53:35.386146Z",
     "shell.execute_reply": "2024-02-17T06:53:35.385429Z"
    }
   },
   "outputs": [
    {
     "data": {
      "image/png": "[encoded data removed]",
      "text/plain": [
       "<Figure size 640x480 with 2 Axes>"
      ]
     },
     "metadata": {},
     "output_type": "display_data"
    }
   ],
   "source": [
    "ax = sim_data.plot_field(field_monitor_name='field', field_name='Hy', val='abs^2', vmin=0, vmax=3e-4)\n",
    "ax.set_aspect('auto')"
   ]
  },
  {
   "cell_type": "markdown",
   "id": "4000ce35",
   "metadata": {},
   "source": [
    "To quantify the directionality, we define a contrast parameter $C_{exc} = \\frac{I_r-I_l}{I_r+I_l}$, where $I_r$ and $I_l$ are the transmitted power to the right and to the left, respectively. $C_{exc}=0$ corresponds to an isotropic propagation. For the ideal unidirectional propagation, $C_{exc}=1$ or $C_{exc}=-1$. In this case, we observe $C_{exc}>0.98$."
   ]
  },
  {
   "cell_type": "code",
   "execution_count": 12,
   "id": "98413918",
   "metadata": {
    "execution": {
     "iopub.execute_input": "2024-02-17T06:53:35.388188Z",
     "iopub.status.busy": "2024-02-17T06:53:35.388008Z",
     "iopub.status.idle": "2024-02-17T06:53:35.408943Z",
     "shell.execute_reply": "2024-02-17T06:53:35.408359Z"
    }
   },
   "outputs": [
    {
     "name": "stdout",
     "output_type": "stream",
     "text": [
      "C_exc = 0.9820\n"
     ]
    }
   ],
   "source": [
    "def cal_C_exc(sim_data):\n",
    "    I_r = sim_data['flux_right'].flux\n",
    "    I_l = -sim_data['flux_left'].flux\n",
    "    C_exc = (I_r-I_l)/(I_r+I_l)\n",
    "    return C_exc.values[0]\n",
    "\n",
    "print(f'C_exc = {cal_C_exc(sim_data):1.4f}')"
   ]
  },
  {
   "cell_type": "markdown",
   "id": "d284f00c",
   "metadata": {},
   "source": [
    "## Sweeping Nanostrip Spacing "
   ]
  },
  {
   "cell_type": "markdown",
   "id": "dcd7e13c",
   "metadata": {},
   "source": [
    "The SPP propagating can be effectively tuned by changing the center-to-center distance between the nanostrips within the grating unit cell. We would like to perform a parameter sweep of the center-to-center distance $s$ to investigate how the unidirectional SPP propagation changes. To do so, we first define a function `make_sim` that returns a simulation given a $s$ value."
   ]
  },
  {
   "cell_type": "code",
   "execution_count": 13,
   "id": "552853af",
   "metadata": {
    "execution": {
     "iopub.execute_input": "2024-02-17T06:53:35.410866Z",
     "iopub.status.busy": "2024-02-17T06:53:35.410691Z",
     "iopub.status.idle": "2024-02-17T06:53:35.430043Z",
     "shell.execute_reply": "2024-02-17T06:53:35.429436Z"
    }
   },
   "outputs": [],
   "source": [
    "def make_sim(s):\n",
    "    \n",
    "    # define the grating structures of each unit cell\n",
    "    grating = []\n",
    "    for i in range(N):\n",
    "        geo = td.Box(center=(-s/2+i*p-(N-1)*p/2, 0, t1/2), size=(w1,td.inf,t1))\n",
    "        grating.append(td.Structure(geometry=geo, medium=Ge))\n",
    "\n",
    "        geo = td.Box(center=(s/2+i*p-(N-1)*p/2, 0, t2/2), size=(w1,td.inf,t2))\n",
    "        grating.append(td.Structure(geometry=geo, medium=Ge))\n",
    "\n",
    "        geo = td.Box(center=(s/2+i*p-(N-1)*p/2, 0, t2+t3/2), size=(w1,td.inf,t3))\n",
    "        grating.append(td.Structure(geometry=geo, medium=Cr))\n",
    "\n",
    "    # define simulation\n",
    "    sim = td.Simulation(\n",
    "        center=(0, 0, 2*lda0),\n",
    "        size=(Lx, Ly, Lz),\n",
    "        grid_spec=td.GridSpec.auto(min_steps_per_wvl=30, wavelength=lda0),\n",
    "        structures=grating + [substrate, gold_film],\n",
    "        sources=[gaussian_beam],\n",
    "        monitors=[field_monitor, flux_monitor_right, flux_monitor_left],\n",
    "        run_time=run_time,\n",
    "        boundary_spec=td.BoundarySpec(\n",
    "            x=td.Boundary.pml(), y=td.Boundary.periodic(), z=td.Boundary.pml()\n",
    "        ),  \n",
    "    )\n",
    "    \n",
    "    return sim"
   ]
  },
  {
   "cell_type": "markdown",
   "id": "82ca604c",
   "metadata": {},
   "source": [
    "The range of interest for $s$ is from 350 nm to 770 nm. A batch of 5 simulations is created."
   ]
  },
  {
   "cell_type": "code",
   "execution_count": 14,
   "id": "9ea962b2",
   "metadata": {
    "execution": {
     "iopub.execute_input": "2024-02-17T06:53:35.431973Z",
     "iopub.status.busy": "2024-02-17T06:53:35.431813Z",
     "iopub.status.idle": "2024-02-17T06:53:35.558024Z",
     "shell.execute_reply": "2024-02-17T06:53:35.557432Z"
    }
   },
   "outputs": [],
   "source": [
    "s_array = np.linspace(0.35,0.77,5)  # collection of s for the parameter sweep\n",
    "\n",
    "sims = {\n",
    "    f\"s={s:.3f}\": make_sim(s) for s in s_array\n",
    "}  # construct simulations for each s from s_array\n"
   ]
  },
  {
   "cell_type": "markdown",
   "id": "18832421",
   "metadata": {},
   "source": [
    "Run the simulations in the batch in parallel."
   ]
  },
  {
   "cell_type": "code",
   "execution_count": 15,
   "id": "5075dfaa",
   "metadata": {
    "execution": {
     "iopub.execute_input": "2024-02-17T06:53:35.560013Z",
     "iopub.status.busy": "2024-02-17T06:53:35.559839Z",
     "iopub.status.idle": "2024-02-17T06:54:20.174737Z",
     "shell.execute_reply": "2024-02-17T06:54:20.172603Z"
    }
   },
   "outputs": [
    {
     "data": {
      "text/html": [
       "<pre style=\"white-space:pre;overflow-x:auto;line-height:normal;font-family:Menlo,'DejaVu Sans Mono',consolas,'Courier New',monospace\"><span style=\"color: #7fbfbf; text-decoration-color: #7fbfbf\">22:53:35 PST </span>Created task <span style=\"color: #008000; text-decoration-color: #008000\">'s=0.350'</span> with task_id                                \n",
       "<span style=\"color: #7fbfbf; text-decoration-color: #7fbfbf\">             </span><span style=\"color: #008000; text-decoration-color: #008000\">'fdve-aca3d696-6313-42b8-8d19-57b3ad77e9a6'</span> and task_type <span style=\"color: #008000; text-decoration-color: #008000\">'FDTD'</span>.  \n",
       "</pre>\n"
      ],
      "text/plain": [
       "\u001b[2;36m22:53:35 PST\u001b[0m\u001b[2;36m \u001b[0mCreated task \u001b[32m'\u001b[0m\u001b[32ms\u001b[0m\u001b[32m=\u001b[0m\u001b[32m0\u001b[0m\u001b[32m.350'\u001b[0m with task_id                                \n",
       "\u001b[2;36m             \u001b[0m\u001b[32m'fdve-aca3d696-6313-42b8-8d19-57b3ad77e9a6'\u001b[0m and task_type \u001b[32m'FDTD'\u001b[0m.  \n"
      ]
     },
     "metadata": {},
     "output_type": "display_data"
    },
    {
     "data": {
      "text/html": [
       "<pre style=\"white-space:pre;overflow-x:auto;line-height:normal;font-family:Menlo,'DejaVu Sans Mono',consolas,'Courier New',monospace\"><span style=\"color: #7fbfbf; text-decoration-color: #7fbfbf\">             </span>View task using web UI at                                          \n",
       "<span style=\"color: #7fbfbf; text-decoration-color: #7fbfbf\">             </span><a href=\"https://tidy3d.simulation.cloud/workbench?taskId=fdve-aca3d696-6313-42b8-8d19-57b3ad77e9a6\" target=\"_blank\"><span style=\"color: #008000; text-decoration-color: #008000\">'https://tidy3d.simulation.cloud/workbench?taskId=fdve-aca3d696-631</span></a>\n",
       "<span style=\"color: #7fbfbf; text-decoration-color: #7fbfbf\">             </span><a href=\"https://tidy3d.simulation.cloud/workbench?taskId=fdve-aca3d696-6313-42b8-8d19-57b3ad77e9a6\" target=\"_blank\"><span style=\"color: #008000; text-decoration-color: #008000\">3-42b8-8d19-57b3ad77e9a6'</span></a>.                                         \n",
       "</pre>\n"
      ],
      "text/plain": [
       "\u001b[2;36m            \u001b[0m\u001b[2;36m \u001b[0mView task using web UI at                                          \n",
       "\u001b[2;36m             \u001b[0m\u001b]8;id=134029;https://tidy3d.simulation.cloud/workbench?taskId=fdve-aca3d696-6313-42b8-8d19-57b3ad77e9a6\u001b\\\u001b[32m'https://tidy3d.simulation.cloud/workbench?\u001b[0m\u001b]8;;\u001b\\\u001b]8;id=676473;https://tidy3d.simulation.cloud/workbench?taskId=fdve-aca3d696-6313-42b8-8d19-57b3ad77e9a6\u001b\\\u001b[32mtaskId\u001b[0m\u001b]8;;\u001b\\\u001b]8;id=134029;https://tidy3d.simulation.cloud/workbench?taskId=fdve-aca3d696-6313-42b8-8d19-57b3ad77e9a6\u001b\\\u001b[32m=\u001b[0m\u001b]8;;\u001b\\\u001b]8;id=265311;https://tidy3d.simulation.cloud/workbench?taskId=fdve-aca3d696-6313-42b8-8d19-57b3ad77e9a6\u001b\\\u001b[32mfdve\u001b[0m\u001b]8;;\u001b\\\u001b]8;id=134029;https://tidy3d.simulation.cloud/workbench?taskId=fdve-aca3d696-6313-42b8-8d19-57b3ad77e9a6\u001b\\\u001b[32m-aca3d696-631\u001b[0m\u001b]8;;\u001b\\\n",
       "\u001b[2;36m             \u001b[0m\u001b]8;id=134029;https://tidy3d.simulation.cloud/workbench?taskId=fdve-aca3d696-6313-42b8-8d19-57b3ad77e9a6\u001b\\\u001b[32m3-42b8-8d19-57b3ad77e9a6'\u001b[0m\u001b]8;;\u001b\\.                                         \n"
      ]
     },
     "metadata": {},
     "output_type": "display_data"
    },
    {
     "data": {
      "application/vnd.jupyter.widget-view+json": {
       "model_id": "afef3f87cf794666a7b314243962a858",
       "version_major": 2,
       "version_minor": 0
      },
      "text/plain": [
       "Output()"
      ]
     },
     "metadata": {},
     "output_type": "display_data"
    },
    {
     "data": {
      "text/html": [
       "<pre style=\"white-space:pre;overflow-x:auto;line-height:normal;font-family:Menlo,'DejaVu Sans Mono',consolas,'Courier New',monospace\"></pre>\n"
      ],
      "text/plain": []
     },
     "metadata": {},
     "output_type": "display_data"
    },
    {
     "data": {
      "text/html": [
       "<pre style=\"white-space:pre;overflow-x:auto;line-height:normal;font-family:Menlo,'DejaVu Sans Mono',consolas,'Courier New',monospace\">\n",
       "</pre>\n"
      ],
      "text/plain": [
       "\n"
      ]
     },
     "metadata": {},
     "output_type": "display_data"
    },
    {
     "data": {
      "text/html": [
       "<pre style=\"white-space:pre;overflow-x:auto;line-height:normal;font-family:Menlo,'DejaVu Sans Mono',consolas,'Courier New',monospace\"><span style=\"color: #7fbfbf; text-decoration-color: #7fbfbf\">22:53:36 PST </span>Created task <span style=\"color: #008000; text-decoration-color: #008000\">'s=0.455'</span> with task_id                                \n",
       "<span style=\"color: #7fbfbf; text-decoration-color: #7fbfbf\">             </span><span style=\"color: #008000; text-decoration-color: #008000\">'fdve-a8bac56a-7b13-441e-b428-17d20bea6802'</span> and task_type <span style=\"color: #008000; text-decoration-color: #008000\">'FDTD'</span>.  \n",
       "</pre>\n"
      ],
      "text/plain": [
       "\u001b[2;36m22:53:36 PST\u001b[0m\u001b[2;36m \u001b[0mCreated task \u001b[32m'\u001b[0m\u001b[32ms\u001b[0m\u001b[32m=\u001b[0m\u001b[32m0\u001b[0m\u001b[32m.455'\u001b[0m with task_id                                \n",
       "\u001b[2;36m             \u001b[0m\u001b[32m'fdve-a8bac56a-7b13-441e-b428-17d20bea6802'\u001b[0m and task_type \u001b[32m'FDTD'\u001b[0m.  \n"
      ]
     },
     "metadata": {},
     "output_type": "display_data"
    },
    {
     "data": {
      "text/html": [
       "<pre style=\"white-space:pre;overflow-x:auto;line-height:normal;font-family:Menlo,'DejaVu Sans Mono',consolas,'Courier New',monospace\"><span style=\"color: #7fbfbf; text-decoration-color: #7fbfbf\">             </span>View task using web UI at                                          \n",
       "<span style=\"color: #7fbfbf; text-decoration-color: #7fbfbf\">             </span><a href=\"https://tidy3d.simulation.cloud/workbench?taskId=fdve-a8bac56a-7b13-441e-b428-17d20bea6802\" target=\"_blank\"><span style=\"color: #008000; text-decoration-color: #008000\">'https://tidy3d.simulation.cloud/workbench?taskId=fdve-a8bac56a-7b1</span></a>\n",
       "<span style=\"color: #7fbfbf; text-decoration-color: #7fbfbf\">             </span><a href=\"https://tidy3d.simulation.cloud/workbench?taskId=fdve-a8bac56a-7b13-441e-b428-17d20bea6802\" target=\"_blank\"><span style=\"color: #008000; text-decoration-color: #008000\">3-441e-b428-17d20bea6802'</span></a>.                                         \n",
       "</pre>\n"
      ],
      "text/plain": [
       "\u001b[2;36m            \u001b[0m\u001b[2;36m \u001b[0mView task using web UI at                                          \n",
       "\u001b[2;36m             \u001b[0m\u001b]8;id=449909;https://tidy3d.simulation.cloud/workbench?taskId=fdve-a8bac56a-7b13-441e-b428-17d20bea6802\u001b\\\u001b[32m'https://tidy3d.simulation.cloud/workbench?\u001b[0m\u001b]8;;\u001b\\\u001b]8;id=199067;https://tidy3d.simulation.cloud/workbench?taskId=fdve-a8bac56a-7b13-441e-b428-17d20bea6802\u001b\\\u001b[32mtaskId\u001b[0m\u001b]8;;\u001b\\\u001b]8;id=449909;https://tidy3d.simulation.cloud/workbench?taskId=fdve-a8bac56a-7b13-441e-b428-17d20bea6802\u001b\\\u001b[32m=\u001b[0m\u001b]8;;\u001b\\\u001b]8;id=248583;https://tidy3d.simulation.cloud/workbench?taskId=fdve-a8bac56a-7b13-441e-b428-17d20bea6802\u001b\\\u001b[32mfdve\u001b[0m\u001b]8;;\u001b\\\u001b]8;id=449909;https://tidy3d.simulation.cloud/workbench?taskId=fdve-a8bac56a-7b13-441e-b428-17d20bea6802\u001b\\\u001b[32m-a8bac56a-7b1\u001b[0m\u001b]8;;\u001b\\\n",
       "\u001b[2;36m             \u001b[0m\u001b]8;id=449909;https://tidy3d.simulation.cloud/workbench?taskId=fdve-a8bac56a-7b13-441e-b428-17d20bea6802\u001b\\\u001b[32m3-441e-b428-17d20bea6802'\u001b[0m\u001b]8;;\u001b\\.                                         \n"
      ]
     },
     "metadata": {},
     "output_type": "display_data"
    },
    {
     "data": {
      "application/vnd.jupyter.widget-view+json": {
       "model_id": "57e1ecf1fefb4b359636896f8e7876a2",
       "version_major": 2,
       "version_minor": 0
      },
      "text/plain": [
       "Output()"
      ]
     },
     "metadata": {},
     "output_type": "display_data"
    },
    {
     "data": {
      "text/html": [
       "<pre style=\"white-space:pre;overflow-x:auto;line-height:normal;font-family:Menlo,'DejaVu Sans Mono',consolas,'Courier New',monospace\"></pre>\n"
      ],
      "text/plain": []
     },
     "metadata": {},
     "output_type": "display_data"
    },
    {
     "data": {
      "text/html": [
       "<pre style=\"white-space:pre;overflow-x:auto;line-height:normal;font-family:Menlo,'DejaVu Sans Mono',consolas,'Courier New',monospace\">\n",
       "</pre>\n"
      ],
      "text/plain": [
       "\n"
      ]
     },
     "metadata": {},
     "output_type": "display_data"
    },
    {
     "data": {
      "text/html": [
       "<pre style=\"white-space:pre;overflow-x:auto;line-height:normal;font-family:Menlo,'DejaVu Sans Mono',consolas,'Courier New',monospace\"><span style=\"color: #7fbfbf; text-decoration-color: #7fbfbf\">             </span>Created task <span style=\"color: #008000; text-decoration-color: #008000\">'s=0.560'</span> with task_id                                \n",
       "<span style=\"color: #7fbfbf; text-decoration-color: #7fbfbf\">             </span><span style=\"color: #008000; text-decoration-color: #008000\">'fdve-c7e76a2f-c38f-445f-8024-69625cbeee58'</span> and task_type <span style=\"color: #008000; text-decoration-color: #008000\">'FDTD'</span>.  \n",
       "</pre>\n"
      ],
      "text/plain": [
       "\u001b[2;36m            \u001b[0m\u001b[2;36m \u001b[0mCreated task \u001b[32m'\u001b[0m\u001b[32ms\u001b[0m\u001b[32m=\u001b[0m\u001b[32m0\u001b[0m\u001b[32m.560'\u001b[0m with task_id                                \n",
       "\u001b[2;36m             \u001b[0m\u001b[32m'fdve-c7e76a2f-c38f-445f-8024-69625cbeee58'\u001b[0m and task_type \u001b[32m'FDTD'\u001b[0m.  \n"
      ]
     },
     "metadata": {},
     "output_type": "display_data"
    },
    {
     "data": {
      "text/html": [
       "<pre style=\"white-space:pre;overflow-x:auto;line-height:normal;font-family:Menlo,'DejaVu Sans Mono',consolas,'Courier New',monospace\"><span style=\"color: #7fbfbf; text-decoration-color: #7fbfbf\">             </span>View task using web UI at                                          \n",
       "<span style=\"color: #7fbfbf; text-decoration-color: #7fbfbf\">             </span><a href=\"https://tidy3d.simulation.cloud/workbench?taskId=fdve-c7e76a2f-c38f-445f-8024-69625cbeee58\" target=\"_blank\"><span style=\"color: #008000; text-decoration-color: #008000\">'https://tidy3d.simulation.cloud/workbench?taskId=fdve-c7e76a2f-c38</span></a>\n",
       "<span style=\"color: #7fbfbf; text-decoration-color: #7fbfbf\">             </span><a href=\"https://tidy3d.simulation.cloud/workbench?taskId=fdve-c7e76a2f-c38f-445f-8024-69625cbeee58\" target=\"_blank\"><span style=\"color: #008000; text-decoration-color: #008000\">f-445f-8024-69625cbeee58'</span></a>.                                         \n",
       "</pre>\n"
      ],
      "text/plain": [
       "\u001b[2;36m            \u001b[0m\u001b[2;36m \u001b[0mView task using web UI at                                          \n",
       "\u001b[2;36m             \u001b[0m\u001b]8;id=699196;https://tidy3d.simulation.cloud/workbench?taskId=fdve-c7e76a2f-c38f-445f-8024-69625cbeee58\u001b\\\u001b[32m'https://tidy3d.simulation.cloud/workbench?\u001b[0m\u001b]8;;\u001b\\\u001b]8;id=601257;https://tidy3d.simulation.cloud/workbench?taskId=fdve-c7e76a2f-c38f-445f-8024-69625cbeee58\u001b\\\u001b[32mtaskId\u001b[0m\u001b]8;;\u001b\\\u001b]8;id=699196;https://tidy3d.simulation.cloud/workbench?taskId=fdve-c7e76a2f-c38f-445f-8024-69625cbeee58\u001b\\\u001b[32m=\u001b[0m\u001b]8;;\u001b\\\u001b]8;id=992630;https://tidy3d.simulation.cloud/workbench?taskId=fdve-c7e76a2f-c38f-445f-8024-69625cbeee58\u001b\\\u001b[32mfdve\u001b[0m\u001b]8;;\u001b\\\u001b]8;id=699196;https://tidy3d.simulation.cloud/workbench?taskId=fdve-c7e76a2f-c38f-445f-8024-69625cbeee58\u001b\\\u001b[32m-c7e76a2f-c38\u001b[0m\u001b]8;;\u001b\\\n",
       "\u001b[2;36m             \u001b[0m\u001b]8;id=699196;https://tidy3d.simulation.cloud/workbench?taskId=fdve-c7e76a2f-c38f-445f-8024-69625cbeee58\u001b\\\u001b[32mf-445f-8024-69625cbeee58'\u001b[0m\u001b]8;;\u001b\\.                                         \n"
      ]
     },
     "metadata": {},
     "output_type": "display_data"
    },
    {
     "data": {
      "application/vnd.jupyter.widget-view+json": {
       "model_id": "a2238f40adc247f9804f2a7c3ebfd6f5",
       "version_major": 2,
       "version_minor": 0
      },
      "text/plain": [
       "Output()"
      ]
     },
     "metadata": {},
     "output_type": "display_data"
    },
    {
     "data": {
      "text/html": [
       "<pre style=\"white-space:pre;overflow-x:auto;line-height:normal;font-family:Menlo,'DejaVu Sans Mono',consolas,'Courier New',monospace\"></pre>\n"
      ],
      "text/plain": []
     },
     "metadata": {},
     "output_type": "display_data"
    },
    {
     "data": {
      "text/html": [
       "<pre style=\"white-space:pre;overflow-x:auto;line-height:normal;font-family:Menlo,'DejaVu Sans Mono',consolas,'Courier New',monospace\">\n",
       "</pre>\n"
      ],
      "text/plain": [
       "\n"
      ]
     },
     "metadata": {},
     "output_type": "display_data"
    },
    {
     "data": {
      "text/html": [
       "<pre style=\"white-space:pre;overflow-x:auto;line-height:normal;font-family:Menlo,'DejaVu Sans Mono',consolas,'Courier New',monospace\"><span style=\"color: #7fbfbf; text-decoration-color: #7fbfbf\">             </span>Created task <span style=\"color: #008000; text-decoration-color: #008000\">'s=0.665'</span> with task_id                                \n",
       "<span style=\"color: #7fbfbf; text-decoration-color: #7fbfbf\">             </span><span style=\"color: #008000; text-decoration-color: #008000\">'fdve-1561b9c6-9a4c-46bd-9b2a-321c5d1d1502'</span> and task_type <span style=\"color: #008000; text-decoration-color: #008000\">'FDTD'</span>.  \n",
       "</pre>\n"
      ],
      "text/plain": [
       "\u001b[2;36m            \u001b[0m\u001b[2;36m \u001b[0mCreated task \u001b[32m'\u001b[0m\u001b[32ms\u001b[0m\u001b[32m=\u001b[0m\u001b[32m0\u001b[0m\u001b[32m.665'\u001b[0m with task_id                                \n",
       "\u001b[2;36m             \u001b[0m\u001b[32m'fdve-1561b9c6-9a4c-46bd-9b2a-321c5d1d1502'\u001b[0m and task_type \u001b[32m'FDTD'\u001b[0m.  \n"
      ]
     },
     "metadata": {},
     "output_type": "display_data"
    },
    {
     "data": {
      "text/html": [
       "<pre style=\"white-space:pre;overflow-x:auto;line-height:normal;font-family:Menlo,'DejaVu Sans Mono',consolas,'Courier New',monospace\"><span style=\"color: #7fbfbf; text-decoration-color: #7fbfbf\">             </span>View task using web UI at                                          \n",
       "<span style=\"color: #7fbfbf; text-decoration-color: #7fbfbf\">             </span><a href=\"https://tidy3d.simulation.cloud/workbench?taskId=fdve-1561b9c6-9a4c-46bd-9b2a-321c5d1d1502\" target=\"_blank\"><span style=\"color: #008000; text-decoration-color: #008000\">'https://tidy3d.simulation.cloud/workbench?taskId=fdve-1561b9c6-9a4</span></a>\n",
       "<span style=\"color: #7fbfbf; text-decoration-color: #7fbfbf\">             </span><a href=\"https://tidy3d.simulation.cloud/workbench?taskId=fdve-1561b9c6-9a4c-46bd-9b2a-321c5d1d1502\" target=\"_blank\"><span style=\"color: #008000; text-decoration-color: #008000\">c-46bd-9b2a-321c5d1d1502'</span></a>.                                         \n",
       "</pre>\n"
      ],
      "text/plain": [
       "\u001b[2;36m            \u001b[0m\u001b[2;36m \u001b[0mView task using web UI at                                          \n",
       "\u001b[2;36m             \u001b[0m\u001b]8;id=800042;https://tidy3d.simulation.cloud/workbench?taskId=fdve-1561b9c6-9a4c-46bd-9b2a-321c5d1d1502\u001b\\\u001b[32m'https://tidy3d.simulation.cloud/workbench?\u001b[0m\u001b]8;;\u001b\\\u001b]8;id=410407;https://tidy3d.simulation.cloud/workbench?taskId=fdve-1561b9c6-9a4c-46bd-9b2a-321c5d1d1502\u001b\\\u001b[32mtaskId\u001b[0m\u001b]8;;\u001b\\\u001b]8;id=800042;https://tidy3d.simulation.cloud/workbench?taskId=fdve-1561b9c6-9a4c-46bd-9b2a-321c5d1d1502\u001b\\\u001b[32m=\u001b[0m\u001b]8;;\u001b\\\u001b]8;id=955394;https://tidy3d.simulation.cloud/workbench?taskId=fdve-1561b9c6-9a4c-46bd-9b2a-321c5d1d1502\u001b\\\u001b[32mfdve\u001b[0m\u001b]8;;\u001b\\\u001b]8;id=800042;https://tidy3d.simulation.cloud/workbench?taskId=fdve-1561b9c6-9a4c-46bd-9b2a-321c5d1d1502\u001b\\\u001b[32m-1561b9c6-9a4\u001b[0m\u001b]8;;\u001b\\\n",
       "\u001b[2;36m             \u001b[0m\u001b]8;id=800042;https://tidy3d.simulation.cloud/workbench?taskId=fdve-1561b9c6-9a4c-46bd-9b2a-321c5d1d1502\u001b\\\u001b[32mc-46bd-9b2a-321c5d1d1502'\u001b[0m\u001b]8;;\u001b\\.                                         \n"
      ]
     },
     "metadata": {},
     "output_type": "display_data"
    },
    {
     "data": {
      "application/vnd.jupyter.widget-view+json": {
       "model_id": "244ff5bcc4954e8b90012375456a065b",
       "version_major": 2,
       "version_minor": 0
      },
      "text/plain": [
       "Output()"
      ]
     },
     "metadata": {},
     "output_type": "display_data"
    },
    {
     "data": {
      "text/html": [
       "<pre style=\"white-space:pre;overflow-x:auto;line-height:normal;font-family:Menlo,'DejaVu Sans Mono',consolas,'Courier New',monospace\"></pre>\n"
      ],
      "text/plain": []
     },
     "metadata": {},
     "output_type": "display_data"
    },
    {
     "data": {
      "text/html": [
       "<pre style=\"white-space:pre;overflow-x:auto;line-height:normal;font-family:Menlo,'DejaVu Sans Mono',consolas,'Courier New',monospace\">\n",
       "</pre>\n"
      ],
      "text/plain": [
       "\n"
      ]
     },
     "metadata": {},
     "output_type": "display_data"
    },
    {
     "data": {
      "text/html": [
       "<pre style=\"white-space:pre;overflow-x:auto;line-height:normal;font-family:Menlo,'DejaVu Sans Mono',consolas,'Courier New',monospace\"><span style=\"color: #7fbfbf; text-decoration-color: #7fbfbf\">22:53:37 PST </span>Created task <span style=\"color: #008000; text-decoration-color: #008000\">'s=0.770'</span> with task_id                                \n",
       "<span style=\"color: #7fbfbf; text-decoration-color: #7fbfbf\">             </span><span style=\"color: #008000; text-decoration-color: #008000\">'fdve-d38803c0-fc87-4f4a-a63a-9fee280fb201'</span> and task_type <span style=\"color: #008000; text-decoration-color: #008000\">'FDTD'</span>.  \n",
       "</pre>\n"
      ],
      "text/plain": [
       "\u001b[2;36m22:53:37 PST\u001b[0m\u001b[2;36m \u001b[0mCreated task \u001b[32m'\u001b[0m\u001b[32ms\u001b[0m\u001b[32m=\u001b[0m\u001b[32m0\u001b[0m\u001b[32m.770'\u001b[0m with task_id                                \n",
       "\u001b[2;36m             \u001b[0m\u001b[32m'fdve-d38803c0-fc87-4f4a-a63a-9fee280fb201'\u001b[0m and task_type \u001b[32m'FDTD'\u001b[0m.  \n"
      ]
     },
     "metadata": {},
     "output_type": "display_data"
    },
    {
     "data": {
      "text/html": [
       "<pre style=\"white-space:pre;overflow-x:auto;line-height:normal;font-family:Menlo,'DejaVu Sans Mono',consolas,'Courier New',monospace\"><span style=\"color: #7fbfbf; text-decoration-color: #7fbfbf\">             </span>View task using web UI at                                          \n",
       "<span style=\"color: #7fbfbf; text-decoration-color: #7fbfbf\">             </span><a href=\"https://tidy3d.simulation.cloud/workbench?taskId=fdve-d38803c0-fc87-4f4a-a63a-9fee280fb201\" target=\"_blank\"><span style=\"color: #008000; text-decoration-color: #008000\">'https://tidy3d.simulation.cloud/workbench?taskId=fdve-d38803c0-fc8</span></a>\n",
       "<span style=\"color: #7fbfbf; text-decoration-color: #7fbfbf\">             </span><a href=\"https://tidy3d.simulation.cloud/workbench?taskId=fdve-d38803c0-fc87-4f4a-a63a-9fee280fb201\" target=\"_blank\"><span style=\"color: #008000; text-decoration-color: #008000\">7-4f4a-a63a-9fee280fb201'</span></a>.                                         \n",
       "</pre>\n"
      ],
      "text/plain": [
       "\u001b[2;36m            \u001b[0m\u001b[2;36m \u001b[0mView task using web UI at                                          \n",
       "\u001b[2;36m             \u001b[0m\u001b]8;id=622351;https://tidy3d.simulation.cloud/workbench?taskId=fdve-d38803c0-fc87-4f4a-a63a-9fee280fb201\u001b\\\u001b[32m'https://tidy3d.simulation.cloud/workbench?\u001b[0m\u001b]8;;\u001b\\\u001b]8;id=574499;https://tidy3d.simulation.cloud/workbench?taskId=fdve-d38803c0-fc87-4f4a-a63a-9fee280fb201\u001b\\\u001b[32mtaskId\u001b[0m\u001b]8;;\u001b\\\u001b]8;id=622351;https://tidy3d.simulation.cloud/workbench?taskId=fdve-d38803c0-fc87-4f4a-a63a-9fee280fb201\u001b\\\u001b[32m=\u001b[0m\u001b]8;;\u001b\\\u001b]8;id=823010;https://tidy3d.simulation.cloud/workbench?taskId=fdve-d38803c0-fc87-4f4a-a63a-9fee280fb201\u001b\\\u001b[32mfdve\u001b[0m\u001b]8;;\u001b\\\u001b]8;id=622351;https://tidy3d.simulation.cloud/workbench?taskId=fdve-d38803c0-fc87-4f4a-a63a-9fee280fb201\u001b\\\u001b[32m-d38803c0-fc8\u001b[0m\u001b]8;;\u001b\\\n",
       "\u001b[2;36m             \u001b[0m\u001b]8;id=622351;https://tidy3d.simulation.cloud/workbench?taskId=fdve-d38803c0-fc87-4f4a-a63a-9fee280fb201\u001b\\\u001b[32m7-4f4a-a63a-9fee280fb201'\u001b[0m\u001b]8;;\u001b\\.                                         \n"
      ]
     },
     "metadata": {},
     "output_type": "display_data"
    },
    {
     "data": {
      "application/vnd.jupyter.widget-view+json": {
       "model_id": "73b225777ef5466bb98ca3f929f49596",
       "version_major": 2,
       "version_minor": 0
      },
      "text/plain": [
       "Output()"
      ]
     },
     "metadata": {},
     "output_type": "display_data"
    },
    {
     "data": {
      "text/html": [
       "<pre style=\"white-space:pre;overflow-x:auto;line-height:normal;font-family:Menlo,'DejaVu Sans Mono',consolas,'Courier New',monospace\"></pre>\n"
      ],
      "text/plain": []
     },
     "metadata": {},
     "output_type": "display_data"
    },
    {
     "data": {
      "text/html": [
       "<pre style=\"white-space:pre;overflow-x:auto;line-height:normal;font-family:Menlo,'DejaVu Sans Mono',consolas,'Courier New',monospace\">\n",
       "</pre>\n"
      ],
      "text/plain": [
       "\n"
      ]
     },
     "metadata": {},
     "output_type": "display_data"
    },
    {
     "data": {
      "text/html": [
       "<pre style=\"white-space:pre;overflow-x:auto;line-height:normal;font-family:Menlo,'DejaVu Sans Mono',consolas,'Courier New',monospace\"><span style=\"color: #7fbfbf; text-decoration-color: #7fbfbf\">22:53:40 PST </span>Started working on Batch.                                          \n",
       "</pre>\n"
      ],
      "text/plain": [
       "\u001b[2;36m22:53:40 PST\u001b[0m\u001b[2;36m \u001b[0mStarted working on Batch.                                          \n"
      ]
     },
     "metadata": {},
     "output_type": "display_data"
    },
    {
     "data": {
      "text/html": [
       "<pre style=\"white-space:pre;overflow-x:auto;line-height:normal;font-family:Menlo,'DejaVu Sans Mono',consolas,'Courier New',monospace\"><span style=\"color: #7fbfbf; text-decoration-color: #7fbfbf\">22:53:42 PST </span>Maximum FlexCredit cost: <span style=\"color: #008080; text-decoration-color: #008080; font-weight: bold\">0.293</span> for the whole batch.                \n",
       "</pre>\n"
      ],
      "text/plain": [
       "\u001b[2;36m22:53:42 PST\u001b[0m\u001b[2;36m \u001b[0mMaximum FlexCredit cost: \u001b[1;36m0.293\u001b[0m for the whole batch.                \n"
      ]
     },
     "metadata": {},
     "output_type": "display_data"
    },
    {
     "data": {
      "text/html": [
       "<pre style=\"white-space:pre;overflow-x:auto;line-height:normal;font-family:Menlo,'DejaVu Sans Mono',consolas,'Courier New',monospace\"><span style=\"color: #7fbfbf; text-decoration-color: #7fbfbf\">             </span>Use <span style=\"color: #008000; text-decoration-color: #008000\">'Batch.real_cost()'</span> to get the billed FlexCredit cost after the\n",
       "<span style=\"color: #7fbfbf; text-decoration-color: #7fbfbf\">             </span>Batch has completed.                                               \n",
       "</pre>\n"
      ],
      "text/plain": [
       "\u001b[2;36m            \u001b[0m\u001b[2;36m \u001b[0mUse \u001b[32m'Batch.real_cost\u001b[0m\u001b[32m(\u001b[0m\u001b[32m)\u001b[0m\u001b[32m'\u001b[0m to get the billed FlexCredit cost after the\n",
       "\u001b[2;36m             \u001b[0mBatch has completed.                                               \n"
      ]
     },
     "metadata": {},
     "output_type": "display_data"
    },
    {
     "data": {
      "application/vnd.jupyter.widget-view+json": {
       "model_id": "a95d7dc7c1ad44f1bcffeb61c5552a3e",
       "version_major": 2,
       "version_minor": 0
      },
      "text/plain": [
       "Output()"
      ]
     },
     "metadata": {},
     "output_type": "display_data"
    },
    {
     "data": {
      "text/html": [
       "<pre style=\"white-space:pre;overflow-x:auto;line-height:normal;font-family:Menlo,'DejaVu Sans Mono',consolas,'Courier New',monospace\"><span style=\"color: #7fbfbf; text-decoration-color: #7fbfbf\">22:54:19 PST </span>Batch complete.                                                    \n",
       "</pre>\n"
      ],
      "text/plain": [
       "\u001b[2;36m22:54:19 PST\u001b[0m\u001b[2;36m \u001b[0mBatch complete.                                                    \n"
      ]
     },
     "metadata": {},
     "output_type": "display_data"
    },
    {
     "data": {
      "text/html": [
       "<pre style=\"white-space:pre;overflow-x:auto;line-height:normal;font-family:Menlo,'DejaVu Sans Mono',consolas,'Courier New',monospace\"></pre>\n"
      ],
      "text/plain": []
     },
     "metadata": {},
     "output_type": "display_data"
    },
    {
     "data": {
      "text/html": [
       "<pre style=\"white-space:pre;overflow-x:auto;line-height:normal;font-family:Menlo,'DejaVu Sans Mono',consolas,'Courier New',monospace\">\n",
       "</pre>\n"
      ],
      "text/plain": [
       "\n"
      ]
     },
     "metadata": {},
     "output_type": "display_data"
    }
   ],
   "source": [
    "batch = web.Batch(simulations=sims)\n",
    "batch_results = batch.run(path_dir=\"data\")"
   ]
  },
  {
   "cell_type": "markdown",
   "id": "3e56f7e1",
   "metadata": {},
   "source": [
    "Plot $|H_y|^2$ for each simulation. We can see that the SPP propagates to the right for smaller $s$ and to the left for larger $s$.\n",
    "\n",
    "$C_{exc}$ is also computed for each simulation."
   ]
  },
  {
   "cell_type": "code",
   "execution_count": 16,
   "id": "3905877c",
   "metadata": {
    "execution": {
     "iopub.execute_input": "2024-02-17T06:54:20.773757Z",
     "iopub.status.busy": "2024-02-17T06:54:20.773620Z",
     "iopub.status.idle": "2024-02-17T06:54:33.785211Z",
     "shell.execute_reply": "2024-02-17T06:54:33.784648Z"
    }
   },
   "outputs": [
    {
     "data": {
      "application/vnd.jupyter.widget-view+json": {
       "model_id": "dea9684793214371aedeb4bff2460661",
       "version_major": 2,
       "version_minor": 0
      },
      "text/plain": [
       "Output()"
      ]
     },
     "metadata": {},
     "output_type": "display_data"
    },
    {
     "data": {
      "text/html": [
       "<pre style=\"white-space:pre;overflow-x:auto;line-height:normal;font-family:Menlo,'DejaVu Sans Mono',consolas,'Courier New',monospace\"></pre>\n"
      ],
      "text/plain": []
     },
     "metadata": {},
     "output_type": "display_data"
    },
    {
     "data": {
      "text/html": [
       "<pre style=\"white-space:pre;overflow-x:auto;line-height:normal;font-family:Menlo,'DejaVu Sans Mono',consolas,'Courier New',monospace\">\n",
       "</pre>\n"
      ],
      "text/plain": [
       "\n"
      ]
     },
     "metadata": {},
     "output_type": "display_data"
    },
    {
     "data": {
      "text/html": [
       "<pre style=\"white-space:pre;overflow-x:auto;line-height:normal;font-family:Menlo,'DejaVu Sans Mono',consolas,'Courier New',monospace\"><span style=\"color: #7fbfbf; text-decoration-color: #7fbfbf\">22:54:22 PST </span>loading simulation from                                            \n",
       "<span style=\"color: #7fbfbf; text-decoration-color: #7fbfbf\">             </span>data/fdve-<span style=\"color: #ffff00; text-decoration-color: #ffff00\">aca3d696-6313-42b8-8d19-57b3ad77e9a6</span>.hdf5                \n",
       "</pre>\n"
      ],
      "text/plain": [
       "\u001b[2;36m22:54:22 PST\u001b[0m\u001b[2;36m \u001b[0mloading simulation from                                            \n",
       "\u001b[2;36m             \u001b[0mdata/fdve-\u001b[93maca3d696-6313-42b8-8d19-57b3ad77e9a6\u001b[0m.hdf5                \n"
      ]
     },
     "metadata": {},
     "output_type": "display_data"
    },
    {
     "data": {
      "application/vnd.jupyter.widget-view+json": {
       "model_id": "94ceef27b978444ebb3079d8f12fc42f",
       "version_major": 2,
       "version_minor": 0
      },
      "text/plain": [
       "Output()"
      ]
     },
     "metadata": {},
     "output_type": "display_data"
    },
    {
     "data": {
      "text/html": [
       "<pre style=\"white-space:pre;overflow-x:auto;line-height:normal;font-family:Menlo,'DejaVu Sans Mono',consolas,'Courier New',monospace\"></pre>\n"
      ],
      "text/plain": []
     },
     "metadata": {},
     "output_type": "display_data"
    },
    {
     "data": {
      "text/html": [
       "<pre style=\"white-space:pre;overflow-x:auto;line-height:normal;font-family:Menlo,'DejaVu Sans Mono',consolas,'Courier New',monospace\">\n",
       "</pre>\n"
      ],
      "text/plain": [
       "\n"
      ]
     },
     "metadata": {},
     "output_type": "display_data"
    },
    {
     "data": {
      "text/html": [
       "<pre style=\"white-space:pre;overflow-x:auto;line-height:normal;font-family:Menlo,'DejaVu Sans Mono',consolas,'Courier New',monospace\"><span style=\"color: #7fbfbf; text-decoration-color: #7fbfbf\">22:54:24 PST </span>loading simulation from                                            \n",
       "<span style=\"color: #7fbfbf; text-decoration-color: #7fbfbf\">             </span>data/fdve-<span style=\"color: #ffff00; text-decoration-color: #ffff00\">a8bac56a-7b13-441e-b428-17d20bea6802</span>.hdf5                \n",
       "</pre>\n"
      ],
      "text/plain": [
       "\u001b[2;36m22:54:24 PST\u001b[0m\u001b[2;36m \u001b[0mloading simulation from                                            \n",
       "\u001b[2;36m             \u001b[0mdata/fdve-\u001b[93ma8bac56a-7b13-441e-b428-17d20bea6802\u001b[0m.hdf5                \n"
      ]
     },
     "metadata": {},
     "output_type": "display_data"
    },
    {
     "data": {
      "application/vnd.jupyter.widget-view+json": {
       "model_id": "2b2f3787b47f4e85948497ca7438232d",
       "version_major": 2,
       "version_minor": 0
      },
      "text/plain": [
       "Output()"
      ]
     },
     "metadata": {},
     "output_type": "display_data"
    },
    {
     "data": {
      "text/html": [
       "<pre style=\"white-space:pre;overflow-x:auto;line-height:normal;font-family:Menlo,'DejaVu Sans Mono',consolas,'Courier New',monospace\"></pre>\n"
      ],
      "text/plain": []
     },
     "metadata": {},
     "output_type": "display_data"
    },
    {
     "data": {
      "text/html": [
       "<pre style=\"white-space:pre;overflow-x:auto;line-height:normal;font-family:Menlo,'DejaVu Sans Mono',consolas,'Courier New',monospace\">\n",
       "</pre>\n"
      ],
      "text/plain": [
       "\n"
      ]
     },
     "metadata": {},
     "output_type": "display_data"
    },
    {
     "data": {
      "text/html": [
       "<pre style=\"white-space:pre;overflow-x:auto;line-height:normal;font-family:Menlo,'DejaVu Sans Mono',consolas,'Courier New',monospace\"><span style=\"color: #7fbfbf; text-decoration-color: #7fbfbf\">22:54:25 PST </span>loading simulation from                                            \n",
       "<span style=\"color: #7fbfbf; text-decoration-color: #7fbfbf\">             </span>data/fdve-<span style=\"color: #ffff00; text-decoration-color: #ffff00\">c7e76a2f-c38f-445f-8024-69625cbeee58</span>.hdf5                \n",
       "</pre>\n"
      ],
      "text/plain": [
       "\u001b[2;36m22:54:25 PST\u001b[0m\u001b[2;36m \u001b[0mloading simulation from                                            \n",
       "\u001b[2;36m             \u001b[0mdata/fdve-\u001b[93mc7e76a2f-c38f-445f-8024-69625cbeee58\u001b[0m.hdf5                \n"
      ]
     },
     "metadata": {},
     "output_type": "display_data"
    },
    {
     "data": {
      "application/vnd.jupyter.widget-view+json": {
       "model_id": "8b59fbdc396a4a6caf1babf454298de8",
       "version_major": 2,
       "version_minor": 0
      },
      "text/plain": [
       "Output()"
      ]
     },
     "metadata": {},
     "output_type": "display_data"
    },
    {
     "data": {
      "text/html": [
       "<pre style=\"white-space:pre;overflow-x:auto;line-height:normal;font-family:Menlo,'DejaVu Sans Mono',consolas,'Courier New',monospace\"></pre>\n"
      ],
      "text/plain": []
     },
     "metadata": {},
     "output_type": "display_data"
    },
    {
     "data": {
      "text/html": [
       "<pre style=\"white-space:pre;overflow-x:auto;line-height:normal;font-family:Menlo,'DejaVu Sans Mono',consolas,'Courier New',monospace\">\n",
       "</pre>\n"
      ],
      "text/plain": [
       "\n"
      ]
     },
     "metadata": {},
     "output_type": "display_data"
    },
    {
     "data": {
      "text/html": [
       "<pre style=\"white-space:pre;overflow-x:auto;line-height:normal;font-family:Menlo,'DejaVu Sans Mono',consolas,'Courier New',monospace\"><span style=\"color: #7fbfbf; text-decoration-color: #7fbfbf\">22:54:28 PST </span>loading simulation from                                            \n",
       "<span style=\"color: #7fbfbf; text-decoration-color: #7fbfbf\">             </span>data/fdve-<span style=\"color: #ffff00; text-decoration-color: #ffff00\">1561b9c6-9a4c-46bd-9b2a-321c5d1d1502</span>.hdf5                \n",
       "</pre>\n"
      ],
      "text/plain": [
       "\u001b[2;36m22:54:28 PST\u001b[0m\u001b[2;36m \u001b[0mloading simulation from                                            \n",
       "\u001b[2;36m             \u001b[0mdata/fdve-\u001b[93m1561b9c6-9a4c-46bd-9b2a-321c5d1d1502\u001b[0m.hdf5                \n"
      ]
     },
     "metadata": {},
     "output_type": "display_data"
    },
    {
     "data": {
      "application/vnd.jupyter.widget-view+json": {
       "model_id": "48111bd6e1ac4759ad3deeea15657642",
       "version_major": 2,
       "version_minor": 0
      },
      "text/plain": [
       "Output()"
      ]
     },
     "metadata": {},
     "output_type": "display_data"
    },
    {
     "data": {
      "text/html": [
       "<pre style=\"white-space:pre;overflow-x:auto;line-height:normal;font-family:Menlo,'DejaVu Sans Mono',consolas,'Courier New',monospace\"></pre>\n"
      ],
      "text/plain": []
     },
     "metadata": {},
     "output_type": "display_data"
    },
    {
     "data": {
      "text/html": [
       "<pre style=\"white-space:pre;overflow-x:auto;line-height:normal;font-family:Menlo,'DejaVu Sans Mono',consolas,'Courier New',monospace\">\n",
       "</pre>\n"
      ],
      "text/plain": [
       "\n"
      ]
     },
     "metadata": {},
     "output_type": "display_data"
    },
    {
     "data": {
      "text/html": [
       "<pre style=\"white-space:pre;overflow-x:auto;line-height:normal;font-family:Menlo,'DejaVu Sans Mono',consolas,'Courier New',monospace\"><span style=\"color: #7fbfbf; text-decoration-color: #7fbfbf\">22:54:30 PST </span>loading simulation from                                            \n",
       "<span style=\"color: #7fbfbf; text-decoration-color: #7fbfbf\">             </span>data/fdve-<span style=\"color: #ffff00; text-decoration-color: #ffff00\">d38803c0-fc87-4f4a-a63a-9fee280fb201</span>.hdf5                \n",
       "</pre>\n"
      ],
      "text/plain": [
       "\u001b[2;36m22:54:30 PST\u001b[0m\u001b[2;36m \u001b[0mloading simulation from                                            \n",
       "\u001b[2;36m             \u001b[0mdata/fdve-\u001b[93md38803c0-fc87-4f4a-a63a-9fee280fb201\u001b[0m.hdf5                \n"
      ]
     },
     "metadata": {},
     "output_type": "display_data"
    },
    {
     "data": {
      "image/png": "[encoded data removed]",
      "text/plain": [
       "<Figure size 800x1200 with 10 Axes>"
      ]
     },
     "metadata": {},
     "output_type": "display_data"
    }
   ],
   "source": [
    "fig, ax = plt.subplots(len(s_array),1, tight_layout=True, figsize=(8,12))\n",
    "\n",
    "C_exc = []\n",
    "\n",
    "# computer |H_y|^2 and C_exc for each simulation\n",
    "for i, s in enumerate(s_array):\n",
    "    sim_data = batch_results[f\"s={s:.3f}\"]\n",
    "    Hy_abs = sim_data['field'].Hy.abs\n",
    "    Hy_squared = Hy_abs**2\n",
    "    Hy_squared.plot(x='x',y='z',ax=ax[i], vmin=0, vmax=3e-4, cmap='hot')\n",
    "    ax[i].set_title(f's={s:.3f} um')\n",
    "    C_exc.append(cal_C_exc(sim_data))\n",
    "    "
   ]
  },
  {
   "cell_type": "markdown",
   "id": "9a899572",
   "metadata": {},
   "source": [
    "Plot $C_{exc}$ as a function of $s$. $C_{exc}$ can be tuned from >0.98 to <-0.98 by changing $s$. Compared to the [original paper](https://www.science.org/doi/10.1126/sciadv.adf3510), the result here is slightly different, which we attribute to slightly different material properties used. "
   ]
  },
  {
   "cell_type": "code",
   "execution_count": 17,
   "id": "06e793ed",
   "metadata": {
    "execution": {
     "iopub.execute_input": "2024-02-17T06:54:33.909165Z",
     "iopub.status.busy": "2024-02-17T06:54:33.909026Z",
     "iopub.status.idle": "2024-02-17T06:54:34.006739Z",
     "shell.execute_reply": "2024-02-17T06:54:34.006132Z"
    }
   },
   "outputs": [
    {
     "data": {
      "image/png": "[encoded data removed]",
      "text/plain": [
       "<Figure size 640x480 with 1 Axes>"
      ]
     },
     "metadata": {},
     "output_type": "display_data"
    }
   ],
   "source": [
    "plt.plot(s_array*1e3, np.array(C_exc), c='red', linewidth=3)\n",
    "plt.xlabel('s (nm)')\n",
    "plt.ylabel('$C_{exc}$')\n",
    "plt.ylim(-1,1)\n",
    "plt.show()"
   ]
  },
  {
   "cell_type": "code",
   "execution_count": null,
   "id": "a76f90c7",
   "metadata": {},
   "outputs": [],
   "source": []
  }
 ],
 "metadata": {
  "description": "This notebook demonstrates the unidirectional propagation surface plasmon polariton excited by a carefully engineered quasi-PT symmetric metagrating.",
  "feature_image": "./img/nonhermitian_metagrating.png",
  "kernelspec": {
   "display_name": "Python 3 (ipykernel)",
   "language": "python",
   "name": "python3"
  },
  "keywords": "non-hermitian, surface plasmon polariton, SPP, metagrating, Tidy3D, FDTD",
  "language_info": {
   "codemirror_mode": {
    "name": "ipython",
    "version": 3
   },
   "file_extension": ".py",
   "mimetype": "text/x-python",
   "name": "python",
   "nbconvert_exporter": "python",
   "pygments_lexer": "ipython3",
   "version": "3.10.13"
  },
  "title": "SPP on Non-Hermitian Metagratings | Flexcompute",
  "widgets": {
   "application/vnd.jupyter.widget-state+json": {
    "state": {
     "064addf860fb40598846675003148e57": {
      "model_module": "@jupyter-widgets/base",
      "model_module_version": "2.0.0",
      "model_name": "LayoutModel",
      "state": {
       "_model_module": "@jupyter-widgets/base",
       "_model_module_version": "2.0.0",
       "_model_name": "LayoutModel",
       "_view_count": null,
       "_view_module": "@jupyter-widgets/base",
       "_view_module_version": "2.0.0",
       "_view_name": "LayoutView",
       "align_content": null,
       "align_items": null,
       "align_self": null,
       "border_bottom": null,
       "border_left": null,
       "border_right": null,
       "border_top": null,
       "bottom": null,
       "display": null,
       "flex": null,
       "flex_flow": null,
       "grid_area": null,
       "grid_auto_columns": null,
       "grid_auto_flow": null,
       "grid_auto_rows": null,
       "grid_column": null,
       "grid_gap": null,
       "grid_row": null,
       "grid_template_areas": null,
       "grid_template_columns": null,
       "grid_template_rows": null,
       "height": null,
       "justify_content": null,
       "justify_items": null,
       "left": null,
       "margin": null,
       "max_height": null,
       "max_width": null,
       "min_height": null,
       "min_width": null,
       "object_fit": null,
       "object_position": null,
       "order": null,
       "overflow": null,
       "padding": null,
       "right": null,
       "top": null,
       "visibility": null,
       "width": null
      }
     },
     "0770b16504724208987595b52379a692": {
      "model_module": "@jupyter-widgets/base",
      "model_module_version": "2.0.0",
      "model_name": "LayoutModel",
      "state": {
       "_model_module": "@jupyter-widgets/base",
       "_model_module_version": "2.0.0",
       "_model_name": "LayoutModel",
       "_view_count": null,
       "_view_module": "@jupyter-widgets/base",
       "_view_module_version": "2.0.0",
       "_view_name": "LayoutView",
       "align_content": null,
       "align_items": null,
       "align_self": null,
       "border_bottom": null,
       "border_left": null,
       "border_right": null,
       "border_top": null,
       "bottom": null,
       "display": null,
       "flex": null,
       "flex_flow": null,
       "grid_area": null,
       "grid_auto_columns": null,
       "grid_auto_flow": null,
       "grid_auto_rows": null,
       "grid_column": null,
       "grid_gap": null,
       "grid_row": null,
       "grid_template_areas": null,
       "grid_template_columns": null,
       "grid_template_rows": null,
       "height": null,
       "justify_content": null,
       "justify_items": null,
       "left": null,
       "margin": null,
       "max_height": null,
       "max_width": null,
       "min_height": null,
       "min_width": null,
       "object_fit": null,
       "object_position": null,
       "order": null,
       "overflow": null,
       "padding": null,
       "right": null,
       "top": null,
       "visibility": null,
       "width": null
      }
     },
     "07e9b2ab040e4911b45afb85ca3a405e": {
      "model_module": "@jupyter-widgets/base",
      "model_module_version": "2.0.0",
      "model_name": "LayoutModel",
      "state": {
       "_model_module": "@jupyter-widgets/base",
       "_model_module_version": "2.0.0",
       "_model_name": "LayoutModel",
       "_view_count": null,
       "_view_module": "@jupyter-widgets/base",
       "_view_module_version": "2.0.0",
       "_view_name": "LayoutView",
       "align_content": null,
       "align_items": null,
       "align_self": null,
       "border_bottom": null,
       "border_left": null,
       "border_right": null,
       "border_top": null,
       "bottom": null,
       "display": null,
       "flex": null,
       "flex_flow": null,
       "grid_area": null,
       "grid_auto_columns": null,
       "grid_auto_flow": null,
       "grid_auto_rows": null,
       "grid_column": null,
       "grid_gap": null,
       "grid_row": null,
       "grid_template_areas": null,
       "grid_template_columns": null,
       "grid_template_rows": null,
       "height": null,
       "justify_content": null,
       "justify_items": null,
       "left": null,
       "margin": null,
       "max_height": null,
       "max_width": null,
       "min_height": null,
       "min_width": null,
       "object_fit": null,
       "object_position": null,
       "order": null,
       "overflow": null,
       "padding": null,
       "right": null,
       "top": null,
       "visibility": null,
       "width": null
      }
     },
     "0a07031d46544aeaa3744e24f667b395": {
      "model_module": "@jupyter-widgets/output",
      "model_module_version": "1.0.0",
      "model_name": "OutputModel",
      "state": {
       "_dom_classes": [],
       "_model_module": "@jupyter-widgets/output",
       "_model_module_version": "1.0.0",
       "_model_name": "OutputModel",
       "_view_count": null,
       "_view_module": "@jupyter-widgets/output",
       "_view_module_version": "1.0.0",
       "_view_name": "OutputView",
       "layout": "IPY_MODEL_82795e1d12604188a68a316ff48f8f70",
       "msg_id": "",
       "outputs": [
        {
         "data": {
          "text/html": "<pre style=\"white-space:pre;overflow-x:auto;line-height:normal;font-family:Menlo,'DejaVu Sans Mono',consolas,'Courier New',monospace\">Best RMS error so far: 0.178 <span style=\"color: #729c1f; text-decoration-color: #729c1f\">━━━━━━━━━━━━━━━━━━━━━━━━━━━━━━━━━━━━━━</span> <span style=\"color: #800080; text-decoration-color: #800080\">100%</span> <span style=\"color: #008080; text-decoration-color: #008080\">0:00:00</span>\n</pre>\n",
          "text/plain": "Best RMS error so far: 0.178 \u001b[38;2;114;156;31m━━━━━━━━━━━━━━━━━━━━━━━━━━━━━━━━━━━━━━\u001b[0m \u001b[35m100%\u001b[0m \u001b[36m0:00:00\u001b[0m\n"
         },
         "metadata": {},
         "output_type": "display_data"
        }
       ],
       "tabbable": null,
       "tooltip": null
      }
     },
     "244ff5bcc4954e8b90012375456a065b": {
      "model_module": "@jupyter-widgets/output",
      "model_module_version": "1.0.0",
      "model_name": "OutputModel",
      "state": {
       "_dom_classes": [],
       "_model_module": "@jupyter-widgets/output",
       "_model_module_version": "1.0.0",
       "_model_name": "OutputModel",
       "_view_count": null,
       "_view_module": "@jupyter-widgets/output",
       "_view_module_version": "1.0.0",
       "_view_name": "OutputView",
       "layout": "IPY_MODEL_d4c20eeafe6043ca8dc8696c8918d157",
       "msg_id": "",
       "outputs": [
        {
         "data": {
          "text/html": "<pre style=\"white-space:pre;overflow-x:auto;line-height:normal;font-family:Menlo,'DejaVu Sans Mono',consolas,'Courier New',monospace\"><span style=\"color: #800000; text-decoration-color: #800000; font-weight: bold\">↑</span> <span style=\"color: #000080; text-decoration-color: #000080; font-weight: bold\">simulation.hdf5.gz</span> <span style=\"color: #729c1f; text-decoration-color: #729c1f\">━━━━━━━━━━━━━━━━━━━━━━━━━</span> <span style=\"color: #800080; text-decoration-color: #800080\">100.0%</span> • <span style=\"color: #008000; text-decoration-color: #008000\">2.0/2.0 kB</span> • <span style=\"color: #800000; text-decoration-color: #800000\">?</span> • <span style=\"color: #008080; text-decoration-color: #008080\">0:00:00</span>\n</pre>\n",
          "text/plain": "\u001b[1;31m↑\u001b[0m \u001b[1;34msimulation.hdf5.gz\u001b[0m \u001b[38;2;114;156;31m━━━━━━━━━━━━━━━━━━━━━━━━━\u001b[0m \u001b[35m100.0%\u001b[0m • \u001b[32m2.0/2.0 kB\u001b[0m • \u001b[31m?\u001b[0m • \u001b[36m0:00:00\u001b[0m\n"
         },
         "metadata": {},
         "output_type": "display_data"
        }
       ],
       "tabbable": null,
       "tooltip": null
      }
     },
     "2b2f3787b47f4e85948497ca7438232d": {
      "model_module": "@jupyter-widgets/output",
      "model_module_version": "1.0.0",
      "model_name": "OutputModel",
      "state": {
       "_dom_classes": [],
       "_model_module": "@jupyter-widgets/output",
       "_model_module_version": "1.0.0",
       "_model_name": "OutputModel",
       "_view_count": null,
       "_view_module": "@jupyter-widgets/output",
       "_view_module_version": "1.0.0",
       "_view_name": "OutputView",
       "layout": "IPY_MODEL_59d3063e26f04143b26db9e82bdb06ab",
       "msg_id": "",
       "outputs": [
        {
         "data": {
          "text/html": "<pre style=\"white-space:pre;overflow-x:auto;line-height:normal;font-family:Menlo,'DejaVu Sans Mono',consolas,'Courier New',monospace\"><span style=\"color: #008000; text-decoration-color: #008000; font-weight: bold\">↓</span> <span style=\"color: #000080; text-decoration-color: #000080; font-weight: bold\">simulation_data.hdf5.gz</span> <span style=\"color: #729c1f; text-decoration-color: #729c1f\">━━━━━━━━━━━</span> <span style=\"color: #800080; text-decoration-color: #800080\">100.0%</span> • <span style=\"color: #008000; text-decoration-color: #008000\">19.9/19.9  </span> • <span style=\"color: #800000; text-decoration-color: #800000\">26.1 MB/s</span> • <span style=\"color: #008080; text-decoration-color: #008080\">0:00:00</span>\n                                               <span style=\"color: #008000; text-decoration-color: #008000\">MB         </span>                      \n</pre>\n",
          "text/plain": "\u001b[1;32m↓\u001b[0m \u001b[1;34msimulation_data.hdf5.gz\u001b[0m \u001b[38;2;114;156;31m━━━━━━━━━━━\u001b[0m \u001b[35m100.0%\u001b[0m • \u001b[32m19.9/19.9  \u001b[0m • \u001b[31m26.1 MB/s\u001b[0m • \u001b[36m0:00:00\u001b[0m\n                                               \u001b[32mMB         \u001b[0m                      \n"
         },
         "metadata": {},
         "output_type": "display_data"
        }
       ],
       "tabbable": null,
       "tooltip": null
      }
     },
     "4472f4b2db5d4a84a4145acea23a71cb": {
      "model_module": "@jupyter-widgets/base",
      "model_module_version": "2.0.0",
      "model_name": "LayoutModel",
      "state": {
       "_model_module": "@jupyter-widgets/base",
       "_model_module_version": "2.0.0",
       "_model_name": "LayoutModel",
       "_view_count": null,
       "_view_module": "@jupyter-widgets/base",
       "_view_module_version": "2.0.0",
       "_view_name": "LayoutView",
       "align_content": null,
       "align_items": null,
       "align_self": null,
       "border_bottom": null,
       "border_left": null,
       "border_right": null,
       "border_top": null,
       "bottom": null,
       "display": null,
       "flex": null,
       "flex_flow": null,
       "grid_area": null,
       "grid_auto_columns": null,
       "grid_auto_flow": null,
       "grid_auto_rows": null,
       "grid_column": null,
       "grid_gap": null,
       "grid_row": null,
       "grid_template_areas": null,
       "grid_template_columns": null,
       "grid_template_rows": null,
       "height": null,
       "justify_content": null,
       "justify_items": null,
       "left": null,
       "margin": null,
       "max_height": null,
       "max_width": null,
       "min_height": null,
       "min_width": null,
       "object_fit": null,
       "object_position": null,
       "order": null,
       "overflow": null,
       "padding": null,
       "right": null,
       "top": null,
       "visibility": null,
       "width": null
      }
     },
     "48111bd6e1ac4759ad3deeea15657642": {
      "model_module": "@jupyter-widgets/output",
      "model_module_version": "1.0.0",
      "model_name": "OutputModel",
      "state": {
       "_dom_classes": [],
       "_model_module": "@jupyter-widgets/output",
       "_model_module_version": "1.0.0",
       "_model_name": "OutputModel",
       "_view_count": null,
       "_view_module": "@jupyter-widgets/output",
       "_view_module_version": "1.0.0",
       "_view_name": "OutputView",
       "layout": "IPY_MODEL_8357ecc4ffa84924a4755d840494f1dd",
       "msg_id": "",
       "outputs": [
        {
         "data": {
          "text/html": "<pre style=\"white-space:pre;overflow-x:auto;line-height:normal;font-family:Menlo,'DejaVu Sans Mono',consolas,'Courier New',monospace\"><span style=\"color: #008000; text-decoration-color: #008000; font-weight: bold\">↓</span> <span style=\"color: #000080; text-decoration-color: #000080; font-weight: bold\">simulation_data.hdf5.gz</span> <span style=\"color: #729c1f; text-decoration-color: #729c1f\">━━━━━━━━━━━</span> <span style=\"color: #800080; text-decoration-color: #800080\">100.0%</span> • <span style=\"color: #008000; text-decoration-color: #008000\">19.9/19.9  </span> • <span style=\"color: #800000; text-decoration-color: #800000\">15.3 MB/s</span> • <span style=\"color: #008080; text-decoration-color: #008080\">0:00:00</span>\n                                               <span style=\"color: #008000; text-decoration-color: #008000\">MB         </span>                      \n</pre>\n",
          "text/plain": "\u001b[1;32m↓\u001b[0m \u001b[1;34msimulation_data.hdf5.gz\u001b[0m \u001b[38;2;114;156;31m━━━━━━━━━━━\u001b[0m \u001b[35m100.0%\u001b[0m • \u001b[32m19.9/19.9  \u001b[0m • \u001b[31m15.3 MB/s\u001b[0m • \u001b[36m0:00:00\u001b[0m\n                                               \u001b[32mMB         \u001b[0m                      \n"
         },
         "metadata": {},
         "output_type": "display_data"
        }
       ],
       "tabbable": null,
       "tooltip": null
      }
     },
     "4c2b547b846341369a0fabf2d9479a54": {
      "model_module": "@jupyter-widgets/output",
      "model_module_version": "1.0.0",
      "model_name": "OutputModel",
      "state": {
       "_dom_classes": [],
       "_model_module": "@jupyter-widgets/output",
       "_model_module_version": "1.0.0",
       "_model_name": "OutputModel",
       "_view_count": null,
       "_view_module": "@jupyter-widgets/output",
       "_view_module_version": "1.0.0",
       "_view_name": "OutputView",
       "layout": "IPY_MODEL_63e04687c60e492bb60c6e7363c2a279",
       "msg_id": "",
       "outputs": [
        {
         "data": {
          "text/html": "<pre style=\"white-space:pre;overflow-x:auto;line-height:normal;font-family:Menlo,'DejaVu Sans Mono',consolas,'Courier New',monospace\"><span style=\"color: #008000; text-decoration-color: #008000\">🚶 </span> <span style=\"color: #008000; text-decoration-color: #008000; font-weight: bold\">Starting 'nonhermitian_metagrating'...</span>\n</pre>\n",
          "text/plain": "\u001b[32m🚶 \u001b[0m \u001b[1;32mStarting 'nonhermitian_metagrating'...\u001b[0m\n"
         },
         "metadata": {},
         "output_type": "display_data"
        }
       ],
       "tabbable": null,
       "tooltip": null
      }
     },
     "57e1ecf1fefb4b359636896f8e7876a2": {
      "model_module": "@jupyter-widgets/output",
      "model_module_version": "1.0.0",
      "model_name": "OutputModel",
      "state": {
       "_dom_classes": [],
       "_model_module": "@jupyter-widgets/output",
       "_model_module_version": "1.0.0",
       "_model_name": "OutputModel",
       "_view_count": null,
       "_view_module": "@jupyter-widgets/output",
       "_view_module_version": "1.0.0",
       "_view_name": "OutputView",
       "layout": "IPY_MODEL_c5f3703fce914c2aa899dbda3a3b4141",
       "msg_id": "",
       "outputs": [
        {
         "data": {
          "text/html": "<pre style=\"white-space:pre;overflow-x:auto;line-height:normal;font-family:Menlo,'DejaVu Sans Mono',consolas,'Courier New',monospace\"><span style=\"color: #800000; text-decoration-color: #800000; font-weight: bold\">↑</span> <span style=\"color: #000080; text-decoration-color: #000080; font-weight: bold\">simulation.hdf5.gz</span> <span style=\"color: #729c1f; text-decoration-color: #729c1f\">━━━━━━━━━━━━━━━━━━━━━━━━━</span> <span style=\"color: #800080; text-decoration-color: #800080\">100.0%</span> • <span style=\"color: #008000; text-decoration-color: #008000\">2.0/2.0 kB</span> • <span style=\"color: #800000; text-decoration-color: #800000\">?</span> • <span style=\"color: #008080; text-decoration-color: #008080\">0:00:00</span>\n</pre>\n",
          "text/plain": "\u001b[1;31m↑\u001b[0m \u001b[1;34msimulation.hdf5.gz\u001b[0m \u001b[38;2;114;156;31m━━━━━━━━━━━━━━━━━━━━━━━━━\u001b[0m \u001b[35m100.0%\u001b[0m • \u001b[32m2.0/2.0 kB\u001b[0m • \u001b[31m?\u001b[0m • \u001b[36m0:00:00\u001b[0m\n"
         },
         "metadata": {},
         "output_type": "display_data"
        }
       ],
       "tabbable": null,
       "tooltip": null
      }
     },
     "59d3063e26f04143b26db9e82bdb06ab": {
      "model_module": "@jupyter-widgets/base",
      "model_module_version": "2.0.0",
      "model_name": "LayoutModel",
      "state": {
       "_model_module": "@jupyter-widgets/base",
       "_model_module_version": "2.0.0",
       "_model_name": "LayoutModel",
       "_view_count": null,
       "_view_module": "@jupyter-widgets/base",
       "_view_module_version": "2.0.0",
       "_view_name": "LayoutView",
       "align_content": null,
       "align_items": null,
       "align_self": null,
       "border_bottom": null,
       "border_left": null,
       "border_right": null,
       "border_top": null,
       "bottom": null,
       "display": null,
       "flex": null,
       "flex_flow": null,
       "grid_area": null,
       "grid_auto_columns": null,
       "grid_auto_flow": null,
       "grid_auto_rows": null,
       "grid_column": null,
       "grid_gap": null,
       "grid_row": null,
       "grid_template_areas": null,
       "grid_template_columns": null,
       "grid_template_rows": null,
       "height": null,
       "justify_content": null,
       "justify_items": null,
       "left": null,
       "margin": null,
       "max_height": null,
       "max_width": null,
       "min_height": null,
       "min_width": null,
       "object_fit": null,
       "object_position": null,
       "order": null,
       "overflow": null,
       "padding": null,
       "right": null,
       "top": null,
       "visibility": null,
       "width": null
      }
     },
     "63e04687c60e492bb60c6e7363c2a279": {
      "model_module": "@jupyter-widgets/base",
      "model_module_version": "2.0.0",
      "model_name": "LayoutModel",
      "state": {
       "_model_module": "@jupyter-widgets/base",
       "_model_module_version": "2.0.0",
       "_model_name": "LayoutModel",
       "_view_count": null,
       "_view_module": "@jupyter-widgets/base",
       "_view_module_version": "2.0.0",
       "_view_name": "LayoutView",
       "align_content": null,
       "align_items": null,
       "align_self": null,
       "border_bottom": null,
       "border_left": null,
       "border_right": null,
       "border_top": null,
       "bottom": null,
       "display": null,
       "flex": null,
       "flex_flow": null,
       "grid_area": null,
       "grid_auto_columns": null,
       "grid_auto_flow": null,
       "grid_auto_rows": null,
       "grid_column": null,
       "grid_gap": null,
       "grid_row": null,
       "grid_template_areas": null,
       "grid_template_columns": null,
       "grid_template_rows": null,
       "height": null,
       "justify_content": null,
       "justify_items": null,
       "left": null,
       "margin": null,
       "max_height": null,
       "max_width": null,
       "min_height": null,
       "min_width": null,
       "object_fit": null,
       "object_position": null,
       "order": null,
       "overflow": null,
       "padding": null,
       "right": null,
       "top": null,
       "visibility": null,
       "width": null
      }
     },
     "6c794c2b2dd242f19d4ed51c48f5840c": {
      "model_module": "@jupyter-widgets/base",
      "model_module_version": "2.0.0",
      "model_name": "LayoutModel",
      "state": {
       "_model_module": "@jupyter-widgets/base",
       "_model_module_version": "2.0.0",
       "_model_name": "LayoutModel",
       "_view_count": null,
       "_view_module": "@jupyter-widgets/base",
       "_view_module_version": "2.0.0",
       "_view_name": "LayoutView",
       "align_content": null,
       "align_items": null,
       "align_self": null,
       "border_bottom": null,
       "border_left": null,
       "border_right": null,
       "border_top": null,
       "bottom": null,
       "display": null,
       "flex": null,
       "flex_flow": null,
       "grid_area": null,
       "grid_auto_columns": null,
       "grid_auto_flow": null,
       "grid_auto_rows": null,
       "grid_column": null,
       "grid_gap": null,
       "grid_row": null,
       "grid_template_areas": null,
       "grid_template_columns": null,
       "grid_template_rows": null,
       "height": null,
       "justify_content": null,
       "justify_items": null,
       "left": null,
       "margin": null,
       "max_height": null,
       "max_width": null,
       "min_height": null,
       "min_width": null,
       "object_fit": null,
       "object_position": null,
       "order": null,
       "overflow": null,
       "padding": null,
       "right": null,
       "top": null,
       "visibility": null,
       "width": null
      }
     },
     "73b225777ef5466bb98ca3f929f49596": {
      "model_module": "@jupyter-widgets/output",
      "model_module_version": "1.0.0",
      "model_name": "OutputModel",
      "state": {
       "_dom_classes": [],
       "_model_module": "@jupyter-widgets/output",
       "_model_module_version": "1.0.0",
       "_model_name": "OutputModel",
       "_view_count": null,
       "_view_module": "@jupyter-widgets/output",
       "_view_module_version": "1.0.0",
       "_view_name": "OutputView",
       "layout": "IPY_MODEL_ccb10912a4384bb6ab6b6eadce501fba",
       "msg_id": "",
       "outputs": [
        {
         "data": {
          "text/html": "<pre style=\"white-space:pre;overflow-x:auto;line-height:normal;font-family:Menlo,'DejaVu Sans Mono',consolas,'Courier New',monospace\"><span style=\"color: #800000; text-decoration-color: #800000; font-weight: bold\">↑</span> <span style=\"color: #000080; text-decoration-color: #000080; font-weight: bold\">simulation.hdf5.gz</span> <span style=\"color: #729c1f; text-decoration-color: #729c1f\">━━━━━━━━━━━━━━━━━━━━━━━━━</span> <span style=\"color: #800080; text-decoration-color: #800080\">100.0%</span> • <span style=\"color: #008000; text-decoration-color: #008000\">2.0/2.0 kB</span> • <span style=\"color: #800000; text-decoration-color: #800000\">?</span> • <span style=\"color: #008080; text-decoration-color: #008080\">0:00:00</span>\n</pre>\n",
          "text/plain": "\u001b[1;31m↑\u001b[0m \u001b[1;34msimulation.hdf5.gz\u001b[0m \u001b[38;2;114;156;31m━━━━━━━━━━━━━━━━━━━━━━━━━\u001b[0m \u001b[35m100.0%\u001b[0m • \u001b[32m2.0/2.0 kB\u001b[0m • \u001b[31m?\u001b[0m • \u001b[36m0:00:00\u001b[0m\n"
         },
         "metadata": {},
         "output_type": "display_data"
        }
       ],
       "tabbable": null,
       "tooltip": null
      }
     },
     "7bb7de1ab8d9430888a2889f1847d13a": {
      "model_module": "@jupyter-widgets/base",
      "model_module_version": "2.0.0",
      "model_name": "LayoutModel",
      "state": {
       "_model_module": "@jupyter-widgets/base",
       "_model_module_version": "2.0.0",
       "_model_name": "LayoutModel",
       "_view_count": null,
       "_view_module": "@jupyter-widgets/base",
       "_view_module_version": "2.0.0",
       "_view_name": "LayoutView",
       "align_content": null,
       "align_items": null,
       "align_self": null,
       "border_bottom": null,
       "border_left": null,
       "border_right": null,
       "border_top": null,
       "bottom": null,
       "display": null,
       "flex": null,
       "flex_flow": null,
       "grid_area": null,
       "grid_auto_columns": null,
       "grid_auto_flow": null,
       "grid_auto_rows": null,
       "grid_column": null,
       "grid_gap": null,
       "grid_row": null,
       "grid_template_areas": null,
       "grid_template_columns": null,
       "grid_template_rows": null,
       "height": null,
       "justify_content": null,
       "justify_items": null,
       "left": null,
       "margin": null,
       "max_height": null,
       "max_width": null,
       "min_height": null,
       "min_width": null,
       "object_fit": null,
       "object_position": null,
       "order": null,
       "overflow": null,
       "padding": null,
       "right": null,
       "top": null,
       "visibility": null,
       "width": null
      }
     },
     "7f318e2af37148dcb8f9cc20c07f5c1c": {
      "model_module": "@jupyter-widgets/base",
      "model_module_version": "2.0.0",
      "model_name": "LayoutModel",
      "state": {
       "_model_module": "@jupyter-widgets/base",
       "_model_module_version": "2.0.0",
       "_model_name": "LayoutModel",
       "_view_count": null,
       "_view_module": "@jupyter-widgets/base",
       "_view_module_version": "2.0.0",
       "_view_name": "LayoutView",
       "align_content": null,
       "align_items": null,
       "align_self": null,
       "border_bottom": null,
       "border_left": null,
       "border_right": null,
       "border_top": null,
       "bottom": null,
       "display": null,
       "flex": null,
       "flex_flow": null,
       "grid_area": null,
       "grid_auto_columns": null,
       "grid_auto_flow": null,
       "grid_auto_rows": null,
       "grid_column": null,
       "grid_gap": null,
       "grid_row": null,
       "grid_template_areas": null,
       "grid_template_columns": null,
       "grid_template_rows": null,
       "height": null,
       "justify_content": null,
       "justify_items": null,
       "left": null,
       "margin": null,
       "max_height": null,
       "max_width": null,
       "min_height": null,
       "min_width": null,
       "object_fit": null,
       "object_position": null,
       "order": null,
       "overflow": null,
       "padding": null,
       "right": null,
       "top": null,
       "visibility": null,
       "width": null
      }
     },
     "82795e1d12604188a68a316ff48f8f70": {
      "model_module": "@jupyter-widgets/base",
      "model_module_version": "2.0.0",
      "model_name": "LayoutModel",
      "state": {
       "_model_module": "@jupyter-widgets/base",
       "_model_module_version": "2.0.0",
       "_model_name": "LayoutModel",
       "_view_count": null,
       "_view_module": "@jupyter-widgets/base",
       "_view_module_version": "2.0.0",
       "_view_name": "LayoutView",
       "align_content": null,
       "align_items": null,
       "align_self": null,
       "border_bottom": null,
       "border_left": null,
       "border_right": null,
       "border_top": null,
       "bottom": null,
       "display": null,
       "flex": null,
       "flex_flow": null,
       "grid_area": null,
       "grid_auto_columns": null,
       "grid_auto_flow": null,
       "grid_auto_rows": null,
       "grid_column": null,
       "grid_gap": null,
       "grid_row": null,
       "grid_template_areas": null,
       "grid_template_columns": null,
       "grid_template_rows": null,
       "height": null,
       "justify_content": null,
       "justify_items": null,
       "left": null,
       "margin": null,
       "max_height": null,
       "max_width": null,
       "min_height": null,
       "min_width": null,
       "object_fit": null,
       "object_position": null,
       "order": null,
       "overflow": null,
       "padding": null,
       "right": null,
       "top": null,
       "visibility": null,
       "width": null
      }
     },
     "83289aa2b35c4c289a0d53e40f72bfb4": {
      "model_module": "@jupyter-widgets/output",
      "model_module_version": "1.0.0",
      "model_name": "OutputModel",
      "state": {
       "_dom_classes": [],
       "_model_module": "@jupyter-widgets/output",
       "_model_module_version": "1.0.0",
       "_model_name": "OutputModel",
       "_view_count": null,
       "_view_module": "@jupyter-widgets/output",
       "_view_module_version": "1.0.0",
       "_view_name": "OutputView",
       "layout": "IPY_MODEL_94d887fa9e96443fbccb942fa429e889",
       "msg_id": "",
       "outputs": [
        {
         "data": {
          "text/html": "<pre style=\"white-space:pre;overflow-x:auto;line-height:normal;font-family:Menlo,'DejaVu Sans Mono',consolas,'Courier New',monospace\">solver progress (field decay = 1.05e-06) <span style=\"color: #729c1f; text-decoration-color: #729c1f\">━━━━━━━━━━━━━━━━━━━━━━━━━━</span> <span style=\"color: #800080; text-decoration-color: #800080\">100%</span> <span style=\"color: #008080; text-decoration-color: #008080\">0:00:00</span>\n</pre>\n",
          "text/plain": "solver progress (field decay = 1.05e-06) \u001b[38;2;114;156;31m━━━━━━━━━━━━━━━━━━━━━━━━━━\u001b[0m \u001b[35m100%\u001b[0m \u001b[36m0:00:00\u001b[0m\n"
         },
         "metadata": {},
         "output_type": "display_data"
        }
       ],
       "tabbable": null,
       "tooltip": null
      }
     },
     "8357ecc4ffa84924a4755d840494f1dd": {
      "model_module": "@jupyter-widgets/base",
      "model_module_version": "2.0.0",
      "model_name": "LayoutModel",
      "state": {
       "_model_module": "@jupyter-widgets/base",
       "_model_module_version": "2.0.0",
       "_model_name": "LayoutModel",
       "_view_count": null,
       "_view_module": "@jupyter-widgets/base",
       "_view_module_version": "2.0.0",
       "_view_name": "LayoutView",
       "align_content": null,
       "align_items": null,
       "align_self": null,
       "border_bottom": null,
       "border_left": null,
       "border_right": null,
       "border_top": null,
       "bottom": null,
       "display": null,
       "flex": null,
       "flex_flow": null,
       "grid_area": null,
       "grid_auto_columns": null,
       "grid_auto_flow": null,
       "grid_auto_rows": null,
       "grid_column": null,
       "grid_gap": null,
       "grid_row": null,
       "grid_template_areas": null,
       "grid_template_columns": null,
       "grid_template_rows": null,
       "height": null,
       "justify_content": null,
       "justify_items": null,
       "left": null,
       "margin": null,
       "max_height": null,
       "max_width": null,
       "min_height": null,
       "min_width": null,
       "object_fit": null,
       "object_position": null,
       "order": null,
       "overflow": null,
       "padding": null,
       "right": null,
       "top": null,
       "visibility": null,
       "width": null
      }
     },
     "8b59fbdc396a4a6caf1babf454298de8": {
      "model_module": "@jupyter-widgets/output",
      "model_module_version": "1.0.0",
      "model_name": "OutputModel",
      "state": {
       "_dom_classes": [],
       "_model_module": "@jupyter-widgets/output",
       "_model_module_version": "1.0.0",
       "_model_name": "OutputModel",
       "_view_count": null,
       "_view_module": "@jupyter-widgets/output",
       "_view_module_version": "1.0.0",
       "_view_name": "OutputView",
       "layout": "IPY_MODEL_7bb7de1ab8d9430888a2889f1847d13a",
       "msg_id": "",
       "outputs": [
        {
         "data": {
          "text/html": "<pre style=\"white-space:pre;overflow-x:auto;line-height:normal;font-family:Menlo,'DejaVu Sans Mono',consolas,'Courier New',monospace\"><span style=\"color: #008000; text-decoration-color: #008000; font-weight: bold\">↓</span> <span style=\"color: #000080; text-decoration-color: #000080; font-weight: bold\">simulation_data.hdf5.gz</span> <span style=\"color: #729c1f; text-decoration-color: #729c1f\">━━━━━━━━━━━</span> <span style=\"color: #800080; text-decoration-color: #800080\">100.0%</span> • <span style=\"color: #008000; text-decoration-color: #008000\">19.9/19.9  </span> • <span style=\"color: #800000; text-decoration-color: #800000\">12.5 MB/s</span> • <span style=\"color: #008080; text-decoration-color: #008080\">0:00:00</span>\n                                               <span style=\"color: #008000; text-decoration-color: #008000\">MB         </span>                      \n</pre>\n",
          "text/plain": "\u001b[1;32m↓\u001b[0m \u001b[1;34msimulation_data.hdf5.gz\u001b[0m \u001b[38;2;114;156;31m━━━━━━━━━━━\u001b[0m \u001b[35m100.0%\u001b[0m • \u001b[32m19.9/19.9  \u001b[0m • \u001b[31m12.5 MB/s\u001b[0m • \u001b[36m0:00:00\u001b[0m\n                                               \u001b[32mMB         \u001b[0m                      \n"
         },
         "metadata": {},
         "output_type": "display_data"
        }
       ],
       "tabbable": null,
       "tooltip": null
      }
     },
     "94ceef27b978444ebb3079d8f12fc42f": {
      "model_module": "@jupyter-widgets/output",
      "model_module_version": "1.0.0",
      "model_name": "OutputModel",
      "state": {
       "_dom_classes": [],
       "_model_module": "@jupyter-widgets/output",
       "_model_module_version": "1.0.0",
       "_model_name": "OutputModel",
       "_view_count": null,
       "_view_module": "@jupyter-widgets/output",
       "_view_module_version": "1.0.0",
       "_view_name": "OutputView",
       "layout": "IPY_MODEL_b6cae5a49f6442e28a98fc92637ba1b0",
       "msg_id": "",
       "outputs": [
        {
         "data": {
          "text/html": "<pre style=\"white-space:pre;overflow-x:auto;line-height:normal;font-family:Menlo,'DejaVu Sans Mono',consolas,'Courier New',monospace\"><span style=\"color: #008000; text-decoration-color: #008000; font-weight: bold\">↓</span> <span style=\"color: #000080; text-decoration-color: #000080; font-weight: bold\">simulation_data.hdf5.gz</span> <span style=\"color: #729c1f; text-decoration-color: #729c1f\">━━━━━━━━━━━</span> <span style=\"color: #800080; text-decoration-color: #800080\">100.0%</span> • <span style=\"color: #008000; text-decoration-color: #008000\">19.9/19.9  </span> • <span style=\"color: #800000; text-decoration-color: #800000\">25.0 MB/s</span> • <span style=\"color: #008080; text-decoration-color: #008080\">0:00:00</span>\n                                               <span style=\"color: #008000; text-decoration-color: #008000\">MB         </span>                      \n</pre>\n",
          "text/plain": "\u001b[1;32m↓\u001b[0m \u001b[1;34msimulation_data.hdf5.gz\u001b[0m \u001b[38;2;114;156;31m━━━━━━━━━━━\u001b[0m \u001b[35m100.0%\u001b[0m • \u001b[32m19.9/19.9  \u001b[0m • \u001b[31m25.0 MB/s\u001b[0m • \u001b[36m0:00:00\u001b[0m\n                                               \u001b[32mMB         \u001b[0m                      \n"
         },
         "metadata": {},
         "output_type": "display_data"
        }
       ],
       "tabbable": null,
       "tooltip": null
      }
     },
     "94d887fa9e96443fbccb942fa429e889": {
      "model_module": "@jupyter-widgets/base",
      "model_module_version": "2.0.0",
      "model_name": "LayoutModel",
      "state": {
       "_model_module": "@jupyter-widgets/base",
       "_model_module_version": "2.0.0",
       "_model_name": "LayoutModel",
       "_view_count": null,
       "_view_module": "@jupyter-widgets/base",
       "_view_module_version": "2.0.0",
       "_view_name": "LayoutView",
       "align_content": null,
       "align_items": null,
       "align_self": null,
       "border_bottom": null,
       "border_left": null,
       "border_right": null,
       "border_top": null,
       "bottom": null,
       "display": null,
       "flex": null,
       "flex_flow": null,
       "grid_area": null,
       "grid_auto_columns": null,
       "grid_auto_flow": null,
       "grid_auto_rows": null,
       "grid_column": null,
       "grid_gap": null,
       "grid_row": null,
       "grid_template_areas": null,
       "grid_template_columns": null,
       "grid_template_rows": null,
       "height": null,
       "justify_content": null,
       "justify_items": null,
       "left": null,
       "margin": null,
       "max_height": null,
       "max_width": null,
       "min_height": null,
       "min_width": null,
       "object_fit": null,
       "object_position": null,
       "order": null,
       "overflow": null,
       "padding": null,
       "right": null,
       "top": null,
       "visibility": null,
       "width": null
      }
     },
     "96e23b672537440581f2957950e51b9f": {
      "model_module": "@jupyter-widgets/output",
      "model_module_version": "1.0.0",
      "model_name": "OutputModel",
      "state": {
       "_dom_classes": [],
       "_model_module": "@jupyter-widgets/output",
       "_model_module_version": "1.0.0",
       "_model_name": "OutputModel",
       "_view_count": null,
       "_view_module": "@jupyter-widgets/output",
       "_view_module_version": "1.0.0",
       "_view_name": "OutputView",
       "layout": "IPY_MODEL_064addf860fb40598846675003148e57",
       "msg_id": "",
       "outputs": [
        {
         "data": {
          "text/html": "<pre style=\"white-space:pre;overflow-x:auto;line-height:normal;font-family:Menlo,'DejaVu Sans Mono',consolas,'Courier New',monospace\"><span style=\"color: #008000; text-decoration-color: #008000; font-weight: bold\">↓</span> <span style=\"color: #000080; text-decoration-color: #000080; font-weight: bold\">simulation_data.hdf5.gz</span> <span style=\"color: #729c1f; text-decoration-color: #729c1f\">━━━━━━━━━━━</span> <span style=\"color: #800080; text-decoration-color: #800080\">100.0%</span> • <span style=\"color: #008000; text-decoration-color: #008000\">19.9/19.9  </span> • <span style=\"color: #800000; text-decoration-color: #800000\">16.9 MB/s</span> • <span style=\"color: #008080; text-decoration-color: #008080\">0:00:00</span>\n                                               <span style=\"color: #008000; text-decoration-color: #008000\">MB         </span>                      \n</pre>\n",
          "text/plain": "\u001b[1;32m↓\u001b[0m \u001b[1;34msimulation_data.hdf5.gz\u001b[0m \u001b[38;2;114;156;31m━━━━━━━━━━━\u001b[0m \u001b[35m100.0%\u001b[0m • \u001b[32m19.9/19.9  \u001b[0m • \u001b[31m16.9 MB/s\u001b[0m • \u001b[36m0:00:00\u001b[0m\n                                               \u001b[32mMB         \u001b[0m                      \n"
         },
         "metadata": {},
         "output_type": "display_data"
        }
       ],
       "tabbable": null,
       "tooltip": null
      }
     },
     "a2238f40adc247f9804f2a7c3ebfd6f5": {
      "model_module": "@jupyter-widgets/output",
      "model_module_version": "1.0.0",
      "model_name": "OutputModel",
      "state": {
       "_dom_classes": [],
       "_model_module": "@jupyter-widgets/output",
       "_model_module_version": "1.0.0",
       "_model_name": "OutputModel",
       "_view_count": null,
       "_view_module": "@jupyter-widgets/output",
       "_view_module_version": "1.0.0",
       "_view_name": "OutputView",
       "layout": "IPY_MODEL_7f318e2af37148dcb8f9cc20c07f5c1c",
       "msg_id": "",
       "outputs": [
        {
         "data": {
          "text/html": "<pre style=\"white-space:pre;overflow-x:auto;line-height:normal;font-family:Menlo,'DejaVu Sans Mono',consolas,'Courier New',monospace\"><span style=\"color: #800000; text-decoration-color: #800000; font-weight: bold\">↑</span> <span style=\"color: #000080; text-decoration-color: #000080; font-weight: bold\">simulation.hdf5.gz</span> <span style=\"color: #729c1f; text-decoration-color: #729c1f\">━━━━━━━━━━━━━━━━━━━━━━━━━</span> <span style=\"color: #800080; text-decoration-color: #800080\">100.0%</span> • <span style=\"color: #008000; text-decoration-color: #008000\">2.0/2.0 kB</span> • <span style=\"color: #800000; text-decoration-color: #800000\">?</span> • <span style=\"color: #008080; text-decoration-color: #008080\">0:00:00</span>\n</pre>\n",
          "text/plain": "\u001b[1;31m↑\u001b[0m \u001b[1;34msimulation.hdf5.gz\u001b[0m \u001b[38;2;114;156;31m━━━━━━━━━━━━━━━━━━━━━━━━━\u001b[0m \u001b[35m100.0%\u001b[0m • \u001b[32m2.0/2.0 kB\u001b[0m • \u001b[31m?\u001b[0m • \u001b[36m0:00:00\u001b[0m\n"
         },
         "metadata": {},
         "output_type": "display_data"
        }
       ],
       "tabbable": null,
       "tooltip": null
      }
     },
     "a56277aad8984df5b81f473f72d93ee3": {
      "model_module": "@jupyter-widgets/output",
      "model_module_version": "1.0.0",
      "model_name": "OutputModel",
      "state": {
       "_dom_classes": [],
       "_model_module": "@jupyter-widgets/output",
       "_model_module_version": "1.0.0",
       "_model_name": "OutputModel",
       "_view_count": null,
       "_view_module": "@jupyter-widgets/output",
       "_view_module_version": "1.0.0",
       "_view_name": "OutputView",
       "layout": "IPY_MODEL_4472f4b2db5d4a84a4145acea23a71cb",
       "msg_id": "",
       "outputs": [
        {
         "data": {
          "text/html": "<pre style=\"white-space:pre;overflow-x:auto;line-height:normal;font-family:Menlo,'DejaVu Sans Mono',consolas,'Courier New',monospace\"><span style=\"color: #800000; text-decoration-color: #800000; font-weight: bold\">↑</span> <span style=\"color: #000080; text-decoration-color: #000080; font-weight: bold\">simulation.hdf5.gz</span> <span style=\"color: #729c1f; text-decoration-color: #729c1f\">━━━━━━━━━━━━━━━━━━━━━━━━━</span> <span style=\"color: #800080; text-decoration-color: #800080\">100.0%</span> • <span style=\"color: #008000; text-decoration-color: #008000\">2.0/2.0 kB</span> • <span style=\"color: #800000; text-decoration-color: #800000\">?</span> • <span style=\"color: #008080; text-decoration-color: #008080\">0:00:00</span>\n</pre>\n",
          "text/plain": "\u001b[1;31m↑\u001b[0m \u001b[1;34msimulation.hdf5.gz\u001b[0m \u001b[38;2;114;156;31m━━━━━━━━━━━━━━━━━━━━━━━━━\u001b[0m \u001b[35m100.0%\u001b[0m • \u001b[32m2.0/2.0 kB\u001b[0m • \u001b[31m?\u001b[0m • \u001b[36m0:00:00\u001b[0m\n"
         },
         "metadata": {},
         "output_type": "display_data"
        }
       ],
       "tabbable": null,
       "tooltip": null
      }
     },
     "a95d7dc7c1ad44f1bcffeb61c5552a3e": {
      "model_module": "@jupyter-widgets/output",
      "model_module_version": "1.0.0",
      "model_name": "OutputModel",
      "state": {
       "_dom_classes": [],
       "_model_module": "@jupyter-widgets/output",
       "_model_module_version": "1.0.0",
       "_model_name": "OutputModel",
       "_view_count": null,
       "_view_module": "@jupyter-widgets/output",
       "_view_module_version": "1.0.0",
       "_view_name": "OutputView",
       "layout": "IPY_MODEL_07e9b2ab040e4911b45afb85ca3a405e",
       "msg_id": "",
       "outputs": [
        {
         "data": {
          "text/html": "<pre style=\"white-space:pre;overflow-x:auto;line-height:normal;font-family:Menlo,'DejaVu Sans Mono',consolas,'Courier New',monospace\">s=0.350: status = success <span style=\"color: #729c1f; text-decoration-color: #729c1f\">━━━━━━━━━━━━━━━━━━━━━━━━━━━━━━━━━━━━━━━━</span> <span style=\"color: #800080; text-decoration-color: #800080\">100%</span> <span style=\"color: #008080; text-decoration-color: #008080\">0:00:00</span>\ns=0.455: status = success <span style=\"color: #729c1f; text-decoration-color: #729c1f\">━━━━━━━━━━━━━━━━━━━━━━━━━━━━━━━━━━━━━━━━</span> <span style=\"color: #800080; text-decoration-color: #800080\">100%</span> <span style=\"color: #008080; text-decoration-color: #008080\">0:00:00</span>\ns=0.560: status = success <span style=\"color: #729c1f; text-decoration-color: #729c1f\">━━━━━━━━━━━━━━━━━━━━━━━━━━━━━━━━━━━━━━━━</span> <span style=\"color: #800080; text-decoration-color: #800080\">100%</span> <span style=\"color: #008080; text-decoration-color: #008080\">0:00:00</span>\ns=0.665: status = success <span style=\"color: #729c1f; text-decoration-color: #729c1f\">━━━━━━━━━━━━━━━━━━━━━━━━━━━━━━━━━━━━━━━━</span> <span style=\"color: #800080; text-decoration-color: #800080\">100%</span> <span style=\"color: #008080; text-decoration-color: #008080\">0:00:00</span>\ns=0.770: status = success <span style=\"color: #729c1f; text-decoration-color: #729c1f\">━━━━━━━━━━━━━━━━━━━━━━━━━━━━━━━━━━━━━━━━</span> <span style=\"color: #800080; text-decoration-color: #800080\">100%</span> <span style=\"color: #008080; text-decoration-color: #008080\">0:00:00</span>\n</pre>\n",
          "text/plain": "s=0.350: status = success \u001b[38;2;114;156;31m━━━━━━━━━━━━━━━━━━━━━━━━━━━━━━━━━━━━━━━━\u001b[0m \u001b[35m100%\u001b[0m \u001b[36m0:00:00\u001b[0m\ns=0.455: status = success \u001b[38;2;114;156;31m━━━━━━━━━━━━━━━━━━━━━━━━━━━━━━━━━━━━━━━━\u001b[0m \u001b[35m100%\u001b[0m \u001b[36m0:00:00\u001b[0m\ns=0.560: status = success \u001b[38;2;114;156;31m━━━━━━━━━━━━━━━━━━━━━━━━━━━━━━━━━━━━━━━━\u001b[0m \u001b[35m100%\u001b[0m \u001b[36m0:00:00\u001b[0m\ns=0.665: status = success \u001b[38;2;114;156;31m━━━━━━━━━━━━━━━━━━━━━━━━━━━━━━━━━━━━━━━━\u001b[0m \u001b[35m100%\u001b[0m \u001b[36m0:00:00\u001b[0m\ns=0.770: status = success \u001b[38;2;114;156;31m━━━━━━━━━━━━━━━━━━━━━━━━━━━━━━━━━━━━━━━━\u001b[0m \u001b[35m100%\u001b[0m \u001b[36m0:00:00\u001b[0m\n"
         },
         "metadata": {},
         "output_type": "display_data"
        }
       ],
       "tabbable": null,
       "tooltip": null
      }
     },
     "afef3f87cf794666a7b314243962a858": {
      "model_module": "@jupyter-widgets/output",
      "model_module_version": "1.0.0",
      "model_name": "OutputModel",
      "state": {
       "_dom_classes": [],
       "_model_module": "@jupyter-widgets/output",
       "_model_module_version": "1.0.0",
       "_model_name": "OutputModel",
       "_view_count": null,
       "_view_module": "@jupyter-widgets/output",
       "_view_module_version": "1.0.0",
       "_view_name": "OutputView",
       "layout": "IPY_MODEL_6c794c2b2dd242f19d4ed51c48f5840c",
       "msg_id": "",
       "outputs": [
        {
         "data": {
          "text/html": "<pre style=\"white-space:pre;overflow-x:auto;line-height:normal;font-family:Menlo,'DejaVu Sans Mono',consolas,'Courier New',monospace\"><span style=\"color: #800000; text-decoration-color: #800000; font-weight: bold\">↑</span> <span style=\"color: #000080; text-decoration-color: #000080; font-weight: bold\">simulation.hdf5.gz</span> <span style=\"color: #729c1f; text-decoration-color: #729c1f\">━━━━━━━━━━━━━━━━━━━━━━━━━</span> <span style=\"color: #800080; text-decoration-color: #800080\">100.0%</span> • <span style=\"color: #008000; text-decoration-color: #008000\">2.0/2.0 kB</span> • <span style=\"color: #800000; text-decoration-color: #800000\">?</span> • <span style=\"color: #008080; text-decoration-color: #008080\">0:00:00</span>\n</pre>\n",
          "text/plain": "\u001b[1;31m↑\u001b[0m \u001b[1;34msimulation.hdf5.gz\u001b[0m \u001b[38;2;114;156;31m━━━━━━━━━━━━━━━━━━━━━━━━━\u001b[0m \u001b[35m100.0%\u001b[0m • \u001b[32m2.0/2.0 kB\u001b[0m • \u001b[31m?\u001b[0m • \u001b[36m0:00:00\u001b[0m\n"
         },
         "metadata": {},
         "output_type": "display_data"
        }
       ],
       "tabbable": null,
       "tooltip": null
      }
     },
     "b6cae5a49f6442e28a98fc92637ba1b0": {
      "model_module": "@jupyter-widgets/base",
      "model_module_version": "2.0.0",
      "model_name": "LayoutModel",
      "state": {
       "_model_module": "@jupyter-widgets/base",
       "_model_module_version": "2.0.0",
       "_model_name": "LayoutModel",
       "_view_count": null,
       "_view_module": "@jupyter-widgets/base",
       "_view_module_version": "2.0.0",
       "_view_name": "LayoutView",
       "align_content": null,
       "align_items": null,
       "align_self": null,
       "border_bottom": null,
       "border_left": null,
       "border_right": null,
       "border_top": null,
       "bottom": null,
       "display": null,
       "flex": null,
       "flex_flow": null,
       "grid_area": null,
       "grid_auto_columns": null,
       "grid_auto_flow": null,
       "grid_auto_rows": null,
       "grid_column": null,
       "grid_gap": null,
       "grid_row": null,
       "grid_template_areas": null,
       "grid_template_columns": null,
       "grid_template_rows": null,
       "height": null,
       "justify_content": null,
       "justify_items": null,
       "left": null,
       "margin": null,
       "max_height": null,
       "max_width": null,
       "min_height": null,
       "min_width": null,
       "object_fit": null,
       "object_position": null,
       "order": null,
       "overflow": null,
       "padding": null,
       "right": null,
       "top": null,
       "visibility": null,
       "width": null
      }
     },
     "bab0e53bdaf84c1580e132715b21f09b": {
      "model_module": "@jupyter-widgets/output",
      "model_module_version": "1.0.0",
      "model_name": "OutputModel",
      "state": {
       "_dom_classes": [],
       "_model_module": "@jupyter-widgets/output",
       "_model_module_version": "1.0.0",
       "_model_name": "OutputModel",
       "_view_count": null,
       "_view_module": "@jupyter-widgets/output",
       "_view_module_version": "1.0.0",
       "_view_name": "OutputView",
       "layout": "IPY_MODEL_0770b16504724208987595b52379a692",
       "msg_id": "",
       "outputs": [
        {
         "data": {
          "text/html": "<pre style=\"white-space:pre;overflow-x:auto;line-height:normal;font-family:Menlo,'DejaVu Sans Mono',consolas,'Courier New',monospace\"><span style=\"color: #008000; text-decoration-color: #008000\">🏃 </span> <span style=\"color: #008000; text-decoration-color: #008000; font-weight: bold\">Finishing 'nonhermitian_metagrating'...</span>\n</pre>\n",
          "text/plain": "\u001b[32m🏃 \u001b[0m \u001b[1;32mFinishing 'nonhermitian_metagrating'...\u001b[0m\n"
         },
         "metadata": {},
         "output_type": "display_data"
        }
       ],
       "tabbable": null,
       "tooltip": null
      }
     },
     "c5f3703fce914c2aa899dbda3a3b4141": {
      "model_module": "@jupyter-widgets/base",
      "model_module_version": "2.0.0",
      "model_name": "LayoutModel",
      "state": {
       "_model_module": "@jupyter-widgets/base",
       "_model_module_version": "2.0.0",
       "_model_name": "LayoutModel",
       "_view_count": null,
       "_view_module": "@jupyter-widgets/base",
       "_view_module_version": "2.0.0",
       "_view_name": "LayoutView",
       "align_content": null,
       "align_items": null,
       "align_self": null,
       "border_bottom": null,
       "border_left": null,
       "border_right": null,
       "border_top": null,
       "bottom": null,
       "display": null,
       "flex": null,
       "flex_flow": null,
       "grid_area": null,
       "grid_auto_columns": null,
       "grid_auto_flow": null,
       "grid_auto_rows": null,
       "grid_column": null,
       "grid_gap": null,
       "grid_row": null,
       "grid_template_areas": null,
       "grid_template_columns": null,
       "grid_template_rows": null,
       "height": null,
       "justify_content": null,
       "justify_items": null,
       "left": null,
       "margin": null,
       "max_height": null,
       "max_width": null,
       "min_height": null,
       "min_width": null,
       "object_fit": null,
       "object_position": null,
       "order": null,
       "overflow": null,
       "padding": null,
       "right": null,
       "top": null,
       "visibility": null,
       "width": null
      }
     },
     "ccb10912a4384bb6ab6b6eadce501fba": {
      "model_module": "@jupyter-widgets/base",
      "model_module_version": "2.0.0",
      "model_name": "LayoutModel",
      "state": {
       "_model_module": "@jupyter-widgets/base",
       "_model_module_version": "2.0.0",
       "_model_name": "LayoutModel",
       "_view_count": null,
       "_view_module": "@jupyter-widgets/base",
       "_view_module_version": "2.0.0",
       "_view_name": "LayoutView",
       "align_content": null,
       "align_items": null,
       "align_self": null,
       "border_bottom": null,
       "border_left": null,
       "border_right": null,
       "border_top": null,
       "bottom": null,
       "display": null,
       "flex": null,
       "flex_flow": null,
       "grid_area": null,
       "grid_auto_columns": null,
       "grid_auto_flow": null,
       "grid_auto_rows": null,
       "grid_column": null,
       "grid_gap": null,
       "grid_row": null,
       "grid_template_areas": null,
       "grid_template_columns": null,
       "grid_template_rows": null,
       "height": null,
       "justify_content": null,
       "justify_items": null,
       "left": null,
       "margin": null,
       "max_height": null,
       "max_width": null,
       "min_height": null,
       "min_width": null,
       "object_fit": null,
       "object_position": null,
       "order": null,
       "overflow": null,
       "padding": null,
       "right": null,
       "top": null,
       "visibility": null,
       "width": null
      }
     },
     "d4c20eeafe6043ca8dc8696c8918d157": {
      "model_module": "@jupyter-widgets/base",
      "model_module_version": "2.0.0",
      "model_name": "LayoutModel",
      "state": {
       "_model_module": "@jupyter-widgets/base",
       "_model_module_version": "2.0.0",
       "_model_name": "LayoutModel",
       "_view_count": null,
       "_view_module": "@jupyter-widgets/base",
       "_view_module_version": "2.0.0",
       "_view_name": "LayoutView",
       "align_content": null,
       "align_items": null,
       "align_self": null,
       "border_bottom": null,
       "border_left": null,
       "border_right": null,
       "border_top": null,
       "bottom": null,
       "display": null,
       "flex": null,
       "flex_flow": null,
       "grid_area": null,
       "grid_auto_columns": null,
       "grid_auto_flow": null,
       "grid_auto_rows": null,
       "grid_column": null,
       "grid_gap": null,
       "grid_row": null,
       "grid_template_areas": null,
       "grid_template_columns": null,
       "grid_template_rows": null,
       "height": null,
       "justify_content": null,
       "justify_items": null,
       "left": null,
       "margin": null,
       "max_height": null,
       "max_width": null,
       "min_height": null,
       "min_width": null,
       "object_fit": null,
       "object_position": null,
       "order": null,
       "overflow": null,
       "padding": null,
       "right": null,
       "top": null,
       "visibility": null,
       "width": null
      }
     },
     "dd18b32467e94d84a0e095b7c09d6764": {
      "model_module": "@jupyter-widgets/base",
      "model_module_version": "2.0.0",
      "model_name": "LayoutModel",
      "state": {
       "_model_module": "@jupyter-widgets/base",
       "_model_module_version": "2.0.0",
       "_model_name": "LayoutModel",
       "_view_count": null,
       "_view_module": "@jupyter-widgets/base",
       "_view_module_version": "2.0.0",
       "_view_name": "LayoutView",
       "align_content": null,
       "align_items": null,
       "align_self": null,
       "border_bottom": null,
       "border_left": null,
       "border_right": null,
       "border_top": null,
       "bottom": null,
       "display": null,
       "flex": null,
       "flex_flow": null,
       "grid_area": null,
       "grid_auto_columns": null,
       "grid_auto_flow": null,
       "grid_auto_rows": null,
       "grid_column": null,
       "grid_gap": null,
       "grid_row": null,
       "grid_template_areas": null,
       "grid_template_columns": null,
       "grid_template_rows": null,
       "height": null,
       "justify_content": null,
       "justify_items": null,
       "left": null,
       "margin": null,
       "max_height": null,
       "max_width": null,
       "min_height": null,
       "min_width": null,
       "object_fit": null,
       "object_position": null,
       "order": null,
       "overflow": null,
       "padding": null,
       "right": null,
       "top": null,
       "visibility": null,
       "width": null
      }
     },
     "dea9684793214371aedeb4bff2460661": {
      "model_module": "@jupyter-widgets/output",
      "model_module_version": "1.0.0",
      "model_name": "OutputModel",
      "state": {
       "_dom_classes": [],
       "_model_module": "@jupyter-widgets/output",
       "_model_module_version": "1.0.0",
       "_model_name": "OutputModel",
       "_view_count": null,
       "_view_module": "@jupyter-widgets/output",
       "_view_module_version": "1.0.0",
       "_view_name": "OutputView",
       "layout": "IPY_MODEL_dd18b32467e94d84a0e095b7c09d6764",
       "msg_id": "",
       "outputs": [
        {
         "data": {
          "text/html": "<pre style=\"white-space:pre;overflow-x:auto;line-height:normal;font-family:Menlo,'DejaVu Sans Mono',consolas,'Courier New',monospace\"><span style=\"color: #008000; text-decoration-color: #008000; font-weight: bold\">↓</span> <span style=\"color: #000080; text-decoration-color: #000080; font-weight: bold\">simulation_data.hdf5.gz</span> <span style=\"color: #729c1f; text-decoration-color: #729c1f\">━━━━━━━━━━━</span> <span style=\"color: #800080; text-decoration-color: #800080\">100.0%</span> • <span style=\"color: #008000; text-decoration-color: #008000\">19.9/19.9  </span> • <span style=\"color: #800000; text-decoration-color: #800000\">28.3 MB/s</span> • <span style=\"color: #008080; text-decoration-color: #008080\">0:00:00</span>\n                                               <span style=\"color: #008000; text-decoration-color: #008000\">MB         </span>                      \n</pre>\n",
          "text/plain": "\u001b[1;32m↓\u001b[0m \u001b[1;34msimulation_data.hdf5.gz\u001b[0m \u001b[38;2;114;156;31m━━━━━━━━━━━\u001b[0m \u001b[35m100.0%\u001b[0m • \u001b[32m19.9/19.9  \u001b[0m • \u001b[31m28.3 MB/s\u001b[0m • \u001b[36m0:00:00\u001b[0m\n                                               \u001b[32mMB         \u001b[0m                      \n"
         },
         "metadata": {},
         "output_type": "display_data"
        }
       ],
       "tabbable": null,
       "tooltip": null
      }
     }
    },
    "version_major": 2,
    "version_minor": 0
   }
  }
 },
 "nbformat": 4,
 "nbformat_minor": 5
}
