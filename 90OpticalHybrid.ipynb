{
 "cells": [
  {
   "cell_type": "markdown",
   "id": "223695de",
   "metadata": {},
   "source": [
    "# 90 degree optical hybrid"
   ]
  },
  {
   "cell_type": "markdown",
   "id": "29d2491d",
   "metadata": {},
   "source": [
    "Note: The cost of running the entire notebook is higher than 1 FlexCredit.\n",
    "\n",
    "90 degree optical hybrids (also known as quadrature optical hybrids) are essential components in coherent transmission systems. A 90 degree optical hybrid is a six-port device consisting of two inputs and four outputs. In the ideal case, the outputs are the mixed signals of the inputs with 0, $\\pi$/2, $\\pi$, and 3$\\pi$/2 relative phase shifts. \n",
    "\n",
    "This notebook demonstrates the simulation of a compact and low-loss 90 degree optical hybrid based on a silicon-on-insulator platform. The device consists of a Y-branch, three 2x2 MMIs, and four 90 degree waveguide bends. Building those structures natively in `Tidy3D` is certainly doable but time consuming. Here, we build the device structures in a separate CAD editor and [import the stl file](https://www.flexcompute.com/tidy3d/examples/notebooks/STLImport/) into `Tidy3D` for simulation. To use this functionality, remember to install Tidy3D as `pip install \"tidy3d[trimesh]\"`, which will install optional dependencies needed for processing surface meshes.\n",
    "\n",
    "The device design is adapted from [Hang Guan et al., \"Compact and low loss 90° optical hybrid on a silicon-on-insulator platform,\" Opt. Express 25, 28957-28968 (2017)](https://opg.optica.org/oe/fulltext.cfm?uri=oe-25-23-28957&id=376719).\n",
    "\n",
    "<img src=\"img/optical_hybrid_schematic.png\" width=\"700\" alt=\"Schematic of the optical hybrid\">\n",
    "\n",
    "For more integrated photonic examples such as the [8-Channel mode and polarization de-multiplexer](https://www.flexcompute.com/tidy3d/examples/notebooks/8ChannelDemultiplexer/), the [broadband bi-level taper polarization rotator-splitter](https://www.flexcompute.com/tidy3d/examples/notebooks/BilevelPSR/), and the [broadband directional coupler](https://www.flexcompute.com/tidy3d/examples/notebooks/BroadbandDirectionalCoupler/), please visit our [examples page](https://www.flexcompute.com/tidy3d/examples/)."
   ]
  },
  {
   "cell_type": "code",
   "execution_count": 1,
   "id": "0c653ce0",
   "metadata": {
    "execution": {
     "iopub.execute_input": "2024-02-17T01:00:06.083638Z",
     "iopub.status.busy": "2024-02-17T01:00:06.082964Z",
     "iopub.status.idle": "2024-02-17T01:00:07.797198Z",
     "shell.execute_reply": "2024-02-17T01:00:07.796625Z"
    }
   },
   "outputs": [],
   "source": [
    "import numpy as np\n",
    "import matplotlib.pyplot as plt\n",
    "\n",
    "import tidy3d as td\n",
    "import tidy3d.web as web\n"
   ]
  },
  {
   "cell_type": "markdown",
   "id": "a604f3ef",
   "metadata": {},
   "source": [
    "## Simulation of the 2x2 MMI "
   ]
  },
  {
   "cell_type": "markdown",
   "id": "97cb0b02",
   "metadata": {},
   "source": [
    "To design the optical hybrid, we first design each component individually. For the Y-branch, we will use the same low-loss design demonstrated in the [reference](https://opg.optica.org/oe/fulltext.cfm?uri=oe-21-1-1310&id=248418) and our Y-branch [notebook](https://www.flexcompute.com/tidy3d/examples/notebooks/YJunction/). The waveguide bends can be Euler bends or circular bands, which is also demonstrated in another [notebook](https://www.flexcompute.com/tidy3d/examples/notebooks/EulerWaveguideBend/). \n",
    "\n",
    "For the 2x2 MMIs, an optimized design is demonstrated here. The design aims to have equal power splitting and a 90 degree phase difference in the through port and cross port. To simulate the MMI, we also built the structure as a stl file and only import it here.\n",
    "\n",
    "First, define some basic simulation parameters. We simulate at a relatively narrow wavelength band of 1530 nm to 1560 nm."
   ]
  },
  {
   "cell_type": "code",
   "execution_count": 2,
   "id": "145c702f",
   "metadata": {
    "execution": {
     "iopub.execute_input": "2024-02-17T01:00:07.799488Z",
     "iopub.status.busy": "2024-02-17T01:00:07.799219Z",
     "iopub.status.idle": "2024-02-17T01:00:07.815837Z",
     "shell.execute_reply": "2024-02-17T01:00:07.815065Z"
    }
   },
   "outputs": [],
   "source": [
    "lda0 = 1.55  # central wavelength\n",
    "freq0 = td.C_0 / lda0  # central frequency\n",
    "ldas = np.linspace(1.53, 1.56, 101)  # wavelength range\n",
    "freqs = td.C_0 / ldas  # frequency range\n",
    "fwidth = 0.5 * (np.max(freqs) - np.min(freqs))\n"
   ]
  },
  {
   "cell_type": "markdown",
   "id": "5103bb83",
   "metadata": {},
   "source": [
    "Define material properties. For simplicity, we only use non-dispersive materials in this simulation. "
   ]
  },
  {
   "cell_type": "code",
   "execution_count": 3,
   "id": "e3439f1c",
   "metadata": {
    "execution": {
     "iopub.execute_input": "2024-02-17T01:00:07.818120Z",
     "iopub.status.busy": "2024-02-17T01:00:07.817950Z",
     "iopub.status.idle": "2024-02-17T01:00:07.833748Z",
     "shell.execute_reply": "2024-02-17T01:00:07.833166Z"
    }
   },
   "outputs": [],
   "source": [
    "n_si = 3.47  # silicon refractive index\n",
    "si = td.Medium(permittivity=n_si**2)\n",
    "\n",
    "n_sio2 = 1.45  # silicon oxide refractive index\n",
    "sio2 = td.Medium(permittivity=n_sio2**2)\n"
   ]
  },
  {
   "cell_type": "markdown",
   "id": "5d4136ea",
   "metadata": {},
   "source": [
    "The structures will be imported from stl files, but it is good to define some geometric parameters to help set up the source, monitors, and simulation domains."
   ]
  },
  {
   "cell_type": "code",
   "execution_count": 4,
   "id": "db0b8467",
   "metadata": {
    "execution": {
     "iopub.execute_input": "2024-02-17T01:00:07.835989Z",
     "iopub.status.busy": "2024-02-17T01:00:07.835822Z",
     "iopub.status.idle": "2024-02-17T01:00:07.851457Z",
     "shell.execute_reply": "2024-02-17T01:00:07.850864Z"
    }
   },
   "outputs": [],
   "source": [
    "thickness = 0.22  # si layer thickness\n",
    "width = 0.5  # waveguide width\n"
   ]
  },
  {
   "cell_type": "markdown",
   "id": "01374e67",
   "metadata": {},
   "source": [
    "Import the MMI geometry from the stl file and define the MMI structure. All stl files used in this notebook can be downloaded from our documentation [repo](https://github.com/flexcompute-readthedocs/tidy3d-docs/tree/readthedocs/docs/source/notebooks/misc)."
   ]
  },
  {
   "cell_type": "code",
   "execution_count": 5,
   "id": "0c2bd24e",
   "metadata": {
    "execution": {
     "iopub.execute_input": "2024-02-17T01:00:07.853717Z",
     "iopub.status.busy": "2024-02-17T01:00:07.853548Z",
     "iopub.status.idle": "2024-02-17T01:00:08.234760Z",
     "shell.execute_reply": "2024-02-17T01:00:08.234051Z"
    }
   },
   "outputs": [],
   "source": [
    "# import mmi geometry from a stl file\n",
    "mmi_geometry = td.TriangleMesh.from_stl(\n",
    "    filename=\"misc/mmi_stl.stl\",\n",
    ")\n",
    "\n",
    "# define mmi structure\n",
    "mmi = td.Structure(geometry=mmi_geometry, medium=si)\n"
   ]
  },
  {
   "cell_type": "markdown",
   "id": "92f94448",
   "metadata": {},
   "source": [
    "Define a [ModeSource](../api/_autosummary/tidy3d.ModeSource.html) launching the TE0 mode at the top left waveguide. Two [ModeMonitors](../api/_autosummary/tidy3d.ModeMonitor.html) are added to the waveguides on the right to measure the power and phase of the outputs. To visualize the field distribution within the MMI region, we also add a [FieldMonitor](../api/_autosummary/tidy3d.FieldMonitor.html) in the xy plane. Finally, define a [Simulation](../api/_autosummary/tidy3d.Simulation.html)."
   ]
  },
  {
   "cell_type": "code",
   "execution_count": 6,
   "id": "9a9eacde",
   "metadata": {
    "execution": {
     "iopub.execute_input": "2024-02-17T01:00:08.237684Z",
     "iopub.status.busy": "2024-02-17T01:00:08.237496Z",
     "iopub.status.idle": "2024-02-17T01:00:08.265134Z",
     "shell.execute_reply": "2024-02-17T01:00:08.264560Z"
    }
   },
   "outputs": [],
   "source": [
    "mode_spec = td.ModeSpec(\n",
    "    num_modes=1, target_neff=n_si\n",
    ")  # define a ModeSpec used in mode source and monitors\n",
    "\n",
    "# define a mode source\n",
    "mode_source = td.ModeSource(\n",
    "    center=(-5, 0.45, 0),\n",
    "    size=(0, 2 * width, 6 * thickness),\n",
    "    source_time=td.GaussianPulse(freq0=freq0, fwidth=fwidth),\n",
    "    direction=\"+\",\n",
    "    mode_spec=td.ModeSpec(num_modes=1, target_neff=n_si),\n",
    "    mode_index=0,\n",
    ")\n",
    "\n",
    "# define a mode monitor at the through port\n",
    "mode_monitor_through = td.ModeMonitor(\n",
    "    center=(6, 0.45, 0),\n",
    "    size=(0, 2 * width, 6 * thickness),\n",
    "    freqs=freqs,\n",
    "    name=\"through\",\n",
    "    mode_spec=mode_spec,\n",
    ")\n",
    "\n",
    "# define a mode monitor at the cross port\n",
    "mode_monitor_cross = td.ModeMonitor(\n",
    "    center=(6, -0.45, 0),\n",
    "    size=(0, 2 * width, 6 * thickness),\n",
    "    freqs=freqs,\n",
    "    name=\"cross\",\n",
    "    mode_spec=mode_spec,\n",
    ")\n",
    "\n",
    "# define a field monitor at the xp plane\n",
    "field_monitor = td.FieldMonitor(\n",
    "    center=(0, 0, 0), size=(td.inf, td.inf, 0), freqs=[freq0], name=\"field\"\n",
    ")\n",
    "\n",
    "run_time = 1e-12  # simulation run time\n",
    "\n",
    "sim = td.Simulation(\n",
    "    size=(13, 5, 10 * thickness),\n",
    "    grid_spec=td.GridSpec.auto(min_steps_per_wvl=30, wavelength=lda0),\n",
    "    structures=[mmi],\n",
    "    sources=[mode_source],\n",
    "    monitors=[field_monitor, mode_monitor_through, mode_monitor_cross],\n",
    "    run_time=run_time,\n",
    "    boundary_spec=td.BoundarySpec.all_sides(boundary=td.PML()),\n",
    "    medium=sio2,\n",
    "    symmetry=(0, 0, 1),\n",
    ")\n"
   ]
  },
  {
   "cell_type": "markdown",
   "id": "4e664e13",
   "metadata": {},
   "source": [
    "Visualize the simulation."
   ]
  },
  {
   "cell_type": "code",
   "execution_count": 7,
   "id": "e6dcdfa3",
   "metadata": {
    "execution": {
     "iopub.execute_input": "2024-02-17T01:00:08.267458Z",
     "iopub.status.busy": "2024-02-17T01:00:08.267315Z",
     "iopub.status.idle": "2024-02-17T01:00:08.508543Z",
     "shell.execute_reply": "2024-02-17T01:00:08.508039Z"
    }
   },
   "outputs": [
    {
     "data": {
      "image/png": "[encoded data removed]",
      "text/plain": [
       "<Figure size 640x480 with 1 Axes>"
      ]
     },
     "metadata": {},
     "output_type": "display_data"
    }
   ],
   "source": [
    "ax = sim.plot(z=0)\n"
   ]
  },
  {
   "cell_type": "markdown",
   "id": "9da5f01a",
   "metadata": {},
   "source": [
    "Submit the simulation job to the server."
   ]
  },
  {
   "cell_type": "code",
   "execution_count": 8,
   "id": "1b6fec84",
   "metadata": {
    "execution": {
     "iopub.execute_input": "2024-02-17T01:00:08.510727Z",
     "iopub.status.busy": "2024-02-17T01:00:08.510577Z",
     "iopub.status.idle": "2024-02-17T01:02:21.377416Z",
     "shell.execute_reply": "2024-02-17T01:02:21.376876Z"
    }
   },
   "outputs": [
    {
     "data": {
      "text/html": [
       "<pre style=\"white-space:pre;overflow-x:auto;line-height:normal;font-family:Menlo,'DejaVu Sans Mono',consolas,'Courier New',monospace\"><span style=\"color: #7fbfbf; text-decoration-color: #7fbfbf\">17:02:19 PST </span>Created task <span style=\"color: #008000; text-decoration-color: #008000\">'mmi'</span> with task_id                                    \n",
       "<span style=\"color: #7fbfbf; text-decoration-color: #7fbfbf\">             </span><span style=\"color: #008000; text-decoration-color: #008000\">'fdve-8452c31d-ed1f-4a3d-8d0f-72fad963152e'</span> and task_type <span style=\"color: #008000; text-decoration-color: #008000\">'FDTD'</span>.  \n",
       "</pre>\n"
      ],
      "text/plain": [
       "\u001b[2;36m17:02:19 PST\u001b[0m\u001b[2;36m \u001b[0mCreated task \u001b[32m'mmi'\u001b[0m with task_id                                    \n",
       "\u001b[2;36m             \u001b[0m\u001b[32m'fdve-8452c31d-ed1f-4a3d-8d0f-72fad963152e'\u001b[0m and task_type \u001b[32m'FDTD'\u001b[0m.  \n"
      ]
     },
     "metadata": {},
     "output_type": "display_data"
    },
    {
     "data": {
      "text/html": [
       "<pre style=\"white-space:pre;overflow-x:auto;line-height:normal;font-family:Menlo,'DejaVu Sans Mono',consolas,'Courier New',monospace\"><span style=\"color: #7fbfbf; text-decoration-color: #7fbfbf\">             </span>View task using web UI at                                          \n",
       "<span style=\"color: #7fbfbf; text-decoration-color: #7fbfbf\">             </span><a href=\"https://tidy3d.simulation.cloud/workbench?taskId=fdve-8452c31d-ed1f-4a3d-8d0f-72fad963152e\" target=\"_blank\"><span style=\"color: #008000; text-decoration-color: #008000\">'https://tidy3d.simulation.cloud/workbench?taskId=fdve-8452c31d-ed1</span></a>\n",
       "<span style=\"color: #7fbfbf; text-decoration-color: #7fbfbf\">             </span><a href=\"https://tidy3d.simulation.cloud/workbench?taskId=fdve-8452c31d-ed1f-4a3d-8d0f-72fad963152e\" target=\"_blank\"><span style=\"color: #008000; text-decoration-color: #008000\">f-4a3d-8d0f-72fad963152e'</span></a>.                                         \n",
       "</pre>\n"
      ],
      "text/plain": [
       "\u001b[2;36m            \u001b[0m\u001b[2;36m \u001b[0mView task using web UI at                                          \n",
       "\u001b[2;36m             \u001b[0m\u001b]8;id=192577;https://tidy3d.simulation.cloud/workbench?taskId=fdve-8452c31d-ed1f-4a3d-8d0f-72fad963152e\u001b\\\u001b[32m'https://tidy3d.simulation.cloud/workbench?\u001b[0m\u001b]8;;\u001b\\\u001b]8;id=708471;https://tidy3d.simulation.cloud/workbench?taskId=fdve-8452c31d-ed1f-4a3d-8d0f-72fad963152e\u001b\\\u001b[32mtaskId\u001b[0m\u001b]8;;\u001b\\\u001b]8;id=192577;https://tidy3d.simulation.cloud/workbench?taskId=fdve-8452c31d-ed1f-4a3d-8d0f-72fad963152e\u001b\\\u001b[32m=\u001b[0m\u001b]8;;\u001b\\\u001b]8;id=443782;https://tidy3d.simulation.cloud/workbench?taskId=fdve-8452c31d-ed1f-4a3d-8d0f-72fad963152e\u001b\\\u001b[32mfdve\u001b[0m\u001b]8;;\u001b\\\u001b]8;id=192577;https://tidy3d.simulation.cloud/workbench?taskId=fdve-8452c31d-ed1f-4a3d-8d0f-72fad963152e\u001b\\\u001b[32m-8452c31d-ed1\u001b[0m\u001b]8;;\u001b\\\n",
       "\u001b[2;36m             \u001b[0m\u001b]8;id=192577;https://tidy3d.simulation.cloud/workbench?taskId=fdve-8452c31d-ed1f-4a3d-8d0f-72fad963152e\u001b\\\u001b[32mf-4a3d-8d0f-72fad963152e'\u001b[0m\u001b]8;;\u001b\\.                                         \n"
      ]
     },
     "metadata": {},
     "output_type": "display_data"
    },
    {
     "data": {
      "application/vnd.jupyter.widget-view+json": {
       "model_id": "7781754475bd4100945e1b81388fc9b8",
       "version_major": 2,
       "version_minor": 0
      },
      "text/plain": [
       "Output()"
      ]
     },
     "metadata": {},
     "output_type": "display_data"
    },
    {
     "data": {
      "text/html": [
       "<pre style=\"white-space:pre;overflow-x:auto;line-height:normal;font-family:Menlo,'DejaVu Sans Mono',consolas,'Courier New',monospace\"></pre>\n"
      ],
      "text/plain": []
     },
     "metadata": {},
     "output_type": "display_data"
    },
    {
     "data": {
      "text/html": [
       "<pre style=\"white-space:pre;overflow-x:auto;line-height:normal;font-family:Menlo,'DejaVu Sans Mono',consolas,'Courier New',monospace\">\n",
       "</pre>\n"
      ],
      "text/plain": [
       "\n"
      ]
     },
     "metadata": {},
     "output_type": "display_data"
    },
    {
     "data": {
      "text/html": [
       "<pre style=\"white-space:pre;overflow-x:auto;line-height:normal;font-family:Menlo,'DejaVu Sans Mono',consolas,'Courier New',monospace\"><span style=\"color: #7fbfbf; text-decoration-color: #7fbfbf\">17:02:20 PST </span>status = success                                                   \n",
       "</pre>\n"
      ],
      "text/plain": [
       "\u001b[2;36m17:02:20 PST\u001b[0m\u001b[2;36m \u001b[0mstatus = success                                                   \n"
      ]
     },
     "metadata": {},
     "output_type": "display_data"
    },
    {
     "data": {
      "application/vnd.jupyter.widget-view+json": {
       "model_id": "bfe2c91ea95449eb964338f1013756ef",
       "version_major": 2,
       "version_minor": 0
      },
      "text/plain": [
       "Output()"
      ]
     },
     "metadata": {},
     "output_type": "display_data"
    },
    {
     "data": {
      "text/html": [
       "<pre style=\"white-space:pre;overflow-x:auto;line-height:normal;font-family:Menlo,'DejaVu Sans Mono',consolas,'Courier New',monospace\"></pre>\n"
      ],
      "text/plain": []
     },
     "metadata": {},
     "output_type": "display_data"
    },
    {
     "data": {
      "text/html": [
       "<pre style=\"white-space:pre;overflow-x:auto;line-height:normal;font-family:Menlo,'DejaVu Sans Mono',consolas,'Courier New',monospace\">\n",
       "</pre>\n"
      ],
      "text/plain": [
       "\n"
      ]
     },
     "metadata": {},
     "output_type": "display_data"
    },
    {
     "data": {
      "text/html": [
       "<pre style=\"white-space:pre;overflow-x:auto;line-height:normal;font-family:Menlo,'DejaVu Sans Mono',consolas,'Courier New',monospace\"><span style=\"color: #7fbfbf; text-decoration-color: #7fbfbf\">17:02:21 PST </span>loading simulation from data/simulation_data.hdf5                  \n",
       "</pre>\n"
      ],
      "text/plain": [
       "\u001b[2;36m17:02:21 PST\u001b[0m\u001b[2;36m \u001b[0mloading simulation from data/simulation_data.hdf5                  \n"
      ]
     },
     "metadata": {},
     "output_type": "display_data"
    },
    {
     "data": {
      "text/html": [
       "<pre style=\"white-space:pre;overflow-x:auto;line-height:normal;font-family:Menlo,'DejaVu Sans Mono',consolas,'Courier New',monospace\"><span style=\"color: #7fbfbf; text-decoration-color: #7fbfbf\">             </span><span style=\"color: #800000; text-decoration-color: #800000\">WARNING: Monitor data requires </span><span style=\"color: #008000; text-decoration-color: #008000\">'grid_expanded'</span><span style=\"color: #800000; text-decoration-color: #800000\"> to be defined to    </span>\n",
       "<span style=\"color: #7fbfbf; text-decoration-color: #7fbfbf\">             </span><span style=\"color: #800000; text-decoration-color: #800000\">compute values like flux, Poynting and dot product with other data.</span>\n",
       "</pre>\n"
      ],
      "text/plain": [
       "\u001b[2;36m            \u001b[0m\u001b[2;36m \u001b[0m\u001b[31mWARNING: Monitor data requires \u001b[0m\u001b[32m'grid_expanded'\u001b[0m\u001b[31m to be defined to    \u001b[0m\n",
       "\u001b[2;36m             \u001b[0m\u001b[31mcompute values like flux, Poynting and dot product with other data.\u001b[0m\n"
      ]
     },
     "metadata": {},
     "output_type": "display_data"
    },
    {
     "data": {
      "text/html": [
       "<pre style=\"white-space:pre;overflow-x:auto;line-height:normal;font-family:Menlo,'DejaVu Sans Mono',consolas,'Courier New',monospace\"><span style=\"color: #7fbfbf; text-decoration-color: #7fbfbf\">             </span><span style=\"color: #800000; text-decoration-color: #800000\">WARNING: Monitor data requires </span><span style=\"color: #008000; text-decoration-color: #008000\">'grid_expanded'</span><span style=\"color: #800000; text-decoration-color: #800000\"> to be defined to    </span>\n",
       "<span style=\"color: #7fbfbf; text-decoration-color: #7fbfbf\">             </span><span style=\"color: #800000; text-decoration-color: #800000\">compute values like flux, Poynting and dot product with other data.</span>\n",
       "</pre>\n"
      ],
      "text/plain": [
       "\u001b[2;36m            \u001b[0m\u001b[2;36m \u001b[0m\u001b[31mWARNING: Monitor data requires \u001b[0m\u001b[32m'grid_expanded'\u001b[0m\u001b[31m to be defined to    \u001b[0m\n",
       "\u001b[2;36m             \u001b[0m\u001b[31mcompute values like flux, Poynting and dot product with other data.\u001b[0m\n"
      ]
     },
     "metadata": {},
     "output_type": "display_data"
    }
   ],
   "source": [
    "job = web.Job(simulation=sim, task_name=\"mmi\", verbose=True)\n",
    "sim_data = job.run(path=\"data/simulation_data.hdf5\")\n"
   ]
  },
  {
   "cell_type": "markdown",
   "id": "0e8dd3b3",
   "metadata": {},
   "source": [
    "The simulation is complete and the monitor data have been downloaded. First, we plot the field intensity distribution to visualize the power flow. We can observe that the two outputs have a similar intensity."
   ]
  },
  {
   "cell_type": "code",
   "execution_count": 9,
   "id": "ceed0bb5",
   "metadata": {
    "execution": {
     "iopub.execute_input": "2024-02-17T01:02:21.402748Z",
     "iopub.status.busy": "2024-02-17T01:02:21.402616Z",
     "iopub.status.idle": "2024-02-17T01:02:22.476128Z",
     "shell.execute_reply": "2024-02-17T01:02:22.475464Z"
    }
   },
   "outputs": [
    {
     "data": {
      "image/png": "[encoded data removed]",
      "text/plain": [
       "<Figure size 640x480 with 2 Axes>"
      ]
     },
     "metadata": {},
     "output_type": "display_data"
    }
   ],
   "source": [
    "sim_data.plot_field(field_monitor_name=\"field\", field_name=\"E\", val=\"abs^2\", vmax=2000)\n",
    "plt.show()\n"
   ]
  },
  {
   "cell_type": "markdown",
   "id": "daca909a",
   "metadata": {},
   "source": [
    "To quantitatively investigate the power in the two output waveguides, we compute the power from the mode amplitudes. Compared to the simulation results reported in the reference, the small discrepancy here is likely due to the different material properties used.\n",
    "\n",
    "Ideally, both power levels are 3 dB. Here, we see the through port has a slightly lower power level than the cross port. However, the small difference is acceptable."
   ]
  },
  {
   "cell_type": "code",
   "execution_count": 10,
   "id": "5ce5307d",
   "metadata": {
    "execution": {
     "iopub.execute_input": "2024-02-17T01:02:22.480490Z",
     "iopub.status.busy": "2024-02-17T01:02:22.480274Z",
     "iopub.status.idle": "2024-02-17T01:02:22.751875Z",
     "shell.execute_reply": "2024-02-17T01:02:22.751349Z"
    }
   },
   "outputs": [
    {
     "data": {
      "text/html": [
       "<pre style=\"white-space:pre;overflow-x:auto;line-height:normal;font-family:Menlo,'DejaVu Sans Mono',consolas,'Courier New',monospace\"><span style=\"color: #7fbfbf; text-decoration-color: #7fbfbf\">17:02:22 PST </span><span style=\"color: #800000; text-decoration-color: #800000\">WARNING: Monitor data requires </span><span style=\"color: #008000; text-decoration-color: #008000\">'grid_expanded'</span><span style=\"color: #800000; text-decoration-color: #800000\"> to be defined to    </span>\n",
       "<span style=\"color: #7fbfbf; text-decoration-color: #7fbfbf\">             </span><span style=\"color: #800000; text-decoration-color: #800000\">compute values like flux, Poynting and dot product with other data.</span>\n",
       "</pre>\n"
      ],
      "text/plain": [
       "\u001b[2;36m17:02:22 PST\u001b[0m\u001b[2;36m \u001b[0m\u001b[31mWARNING: Monitor data requires \u001b[0m\u001b[32m'grid_expanded'\u001b[0m\u001b[31m to be defined to    \u001b[0m\n",
       "\u001b[2;36m             \u001b[0m\u001b[31mcompute values like flux, Poynting and dot product with other data.\u001b[0m\n"
      ]
     },
     "metadata": {},
     "output_type": "display_data"
    },
    {
     "data": {
      "text/html": [
       "<pre style=\"white-space:pre;overflow-x:auto;line-height:normal;font-family:Menlo,'DejaVu Sans Mono',consolas,'Courier New',monospace\"><span style=\"color: #7fbfbf; text-decoration-color: #7fbfbf\">             </span><span style=\"color: #800000; text-decoration-color: #800000\">WARNING: Monitor data requires </span><span style=\"color: #008000; text-decoration-color: #008000\">'grid_expanded'</span><span style=\"color: #800000; text-decoration-color: #800000\"> to be defined to    </span>\n",
       "<span style=\"color: #7fbfbf; text-decoration-color: #7fbfbf\">             </span><span style=\"color: #800000; text-decoration-color: #800000\">compute values like flux, Poynting and dot product with other data.</span>\n",
       "</pre>\n"
      ],
      "text/plain": [
       "\u001b[2;36m            \u001b[0m\u001b[2;36m \u001b[0m\u001b[31mWARNING: Monitor data requires \u001b[0m\u001b[32m'grid_expanded'\u001b[0m\u001b[31m to be defined to    \u001b[0m\n",
       "\u001b[2;36m             \u001b[0m\u001b[31mcompute values like flux, Poynting and dot product with other data.\u001b[0m\n"
      ]
     },
     "metadata": {},
     "output_type": "display_data"
    },
    {
     "data": {
      "image/png": "[encoded data removed]",
      "text/plain": [
       "<Figure size 640x480 with 1 Axes>"
      ]
     },
     "metadata": {},
     "output_type": "display_data"
    }
   ],
   "source": [
    "# compute power at the through port\n",
    "P_through = np.abs(sim_data[\"through\"].amps.sel(direction=\"+\").values) ** 2\n",
    "# compute power at the cross port\n",
    "P_cross = np.abs(sim_data[\"cross\"].amps.sel(direction=\"+\").values) ** 2\n",
    "\n",
    "# plot loss\n",
    "plt.plot(ldas, -10 * np.log10(P_through), label=\"through port\")\n",
    "plt.plot(ldas, -10 * np.log10(P_cross), label=\"cross port\")\n",
    "plt.xlabel(\"Wavelength ($\\mu m$)\")\n",
    "plt.ylabel(\"Insertion loss (dB)\")\n",
    "plt.ylim(2.5, 4)\n",
    "plt.legend()\n",
    "plt.show()\n"
   ]
  },
  {
   "cell_type": "markdown",
   "id": "d38f9656",
   "metadata": {},
   "source": [
    "Lastly, we check the phase difference in the two outputs. Within the wavelength range, the phase difference is only about 1 degree from the ideal 90 degree."
   ]
  },
  {
   "cell_type": "code",
   "execution_count": 11,
   "id": "38b9fa2c",
   "metadata": {
    "execution": {
     "iopub.execute_input": "2024-02-17T01:02:22.753702Z",
     "iopub.status.busy": "2024-02-17T01:02:22.753545Z",
     "iopub.status.idle": "2024-02-17T01:02:22.881774Z",
     "shell.execute_reply": "2024-02-17T01:02:22.881254Z"
    }
   },
   "outputs": [
    {
     "data": {
      "text/html": [
       "<pre style=\"white-space:pre;overflow-x:auto;line-height:normal;font-family:Menlo,'DejaVu Sans Mono',consolas,'Courier New',monospace\"><span style=\"color: #7fbfbf; text-decoration-color: #7fbfbf\">             </span><span style=\"color: #800000; text-decoration-color: #800000\">WARNING: Monitor data requires </span><span style=\"color: #008000; text-decoration-color: #008000\">'grid_expanded'</span><span style=\"color: #800000; text-decoration-color: #800000\"> to be defined to    </span>\n",
       "<span style=\"color: #7fbfbf; text-decoration-color: #7fbfbf\">             </span><span style=\"color: #800000; text-decoration-color: #800000\">compute values like flux, Poynting and dot product with other data.</span>\n",
       "</pre>\n"
      ],
      "text/plain": [
       "\u001b[2;36m            \u001b[0m\u001b[2;36m \u001b[0m\u001b[31mWARNING: Monitor data requires \u001b[0m\u001b[32m'grid_expanded'\u001b[0m\u001b[31m to be defined to    \u001b[0m\n",
       "\u001b[2;36m             \u001b[0m\u001b[31mcompute values like flux, Poynting and dot product with other data.\u001b[0m\n"
      ]
     },
     "metadata": {},
     "output_type": "display_data"
    },
    {
     "data": {
      "text/html": [
       "<pre style=\"white-space:pre;overflow-x:auto;line-height:normal;font-family:Menlo,'DejaVu Sans Mono',consolas,'Courier New',monospace\"><span style=\"color: #7fbfbf; text-decoration-color: #7fbfbf\">             </span><span style=\"color: #800000; text-decoration-color: #800000\">WARNING: Monitor data requires </span><span style=\"color: #008000; text-decoration-color: #008000\">'grid_expanded'</span><span style=\"color: #800000; text-decoration-color: #800000\"> to be defined to    </span>\n",
       "<span style=\"color: #7fbfbf; text-decoration-color: #7fbfbf\">             </span><span style=\"color: #800000; text-decoration-color: #800000\">compute values like flux, Poynting and dot product with other data.</span>\n",
       "</pre>\n"
      ],
      "text/plain": [
       "\u001b[2;36m            \u001b[0m\u001b[2;36m \u001b[0m\u001b[31mWARNING: Monitor data requires \u001b[0m\u001b[32m'grid_expanded'\u001b[0m\u001b[31m to be defined to    \u001b[0m\n",
       "\u001b[2;36m             \u001b[0m\u001b[31mcompute values like flux, Poynting and dot product with other data.\u001b[0m\n"
      ]
     },
     "metadata": {},
     "output_type": "display_data"
    },
    {
     "data": {
      "image/png": "[encoded data removed]",
      "text/plain": [
       "<Figure size 640x480 with 1 Axes>"
      ]
     },
     "metadata": {},
     "output_type": "display_data"
    }
   ],
   "source": [
    "# compute phase at the through port\n",
    "phase_through = np.angle(sim_data[\"through\"].amps.sel(direction=\"+\").values)\n",
    "# compute phase at the cross port\n",
    "phase_cross = np.angle(sim_data[\"cross\"].amps.sel(direction=\"+\").values)\n",
    "# compute phase difference\n",
    "delta_phase = (phase_through - phase_cross) * 180 / np.pi\n",
    "\n",
    "# plot phase difference\n",
    "plt.plot(ldas, delta_phase)\n",
    "plt.xlabel(\"Wavelength ($\\mu m$)\")\n",
    "plt.ylabel(\"Phase difference\")\n",
    "plt.ylim(85, 95)\n",
    "plt.show()\n"
   ]
  },
  {
   "cell_type": "markdown",
   "id": "c1da6cff",
   "metadata": {},
   "source": [
    "## Simulation of the Optical Hybrid -- LO Input "
   ]
  },
  {
   "cell_type": "markdown",
   "id": "1eda90a4",
   "metadata": {},
   "source": [
    "Now that we have tested individual components, we can put them together and simulate the whole device. Again, we directly import the geometry from a stl file."
   ]
  },
  {
   "cell_type": "code",
   "execution_count": 12,
   "id": "1b616031",
   "metadata": {
    "execution": {
     "iopub.execute_input": "2024-02-17T01:02:22.885411Z",
     "iopub.status.busy": "2024-02-17T01:02:22.885226Z",
     "iopub.status.idle": "2024-02-17T01:02:22.922795Z",
     "shell.execute_reply": "2024-02-17T01:02:22.922271Z"
    }
   },
   "outputs": [],
   "source": [
    "# import optical hybrid geometry from a stl file\n",
    "optical_hybrid_geometry = td.TriangleMesh.from_stl(\n",
    "    filename=\"misc/optical_hybrid_stl.stl\",\n",
    ")\n",
    "\n",
    "# define optical hybrid structure\n",
    "optical_hybrid = td.Structure(geometry=optical_hybrid_geometry, medium=si)\n"
   ]
  },
  {
   "cell_type": "markdown",
   "id": "c88dd404",
   "metadata": {},
   "source": [
    "In the first case, define a [ModeSource](../api/_autosummary/tidy3d.ModeSource.html) at the LO input and four ModeMonitors at the outputs. "
   ]
  },
  {
   "cell_type": "code",
   "execution_count": 13,
   "id": "e9115162",
   "metadata": {
    "execution": {
     "iopub.execute_input": "2024-02-17T01:02:22.924797Z",
     "iopub.status.busy": "2024-02-17T01:02:22.924654Z",
     "iopub.status.idle": "2024-02-17T01:02:22.945665Z",
     "shell.execute_reply": "2024-02-17T01:02:22.945127Z"
    }
   },
   "outputs": [],
   "source": [
    "# define a mode source at the LO input waveguide on the top y branch\n",
    "mode_source_LO = td.ModeSource(\n",
    "    center=(0, 1, 0),\n",
    "    size=(2 * width, 0, 4 * thickness),\n",
    "    source_time=td.GaussianPulse(freq0=freq0, fwidth=fwidth),\n",
    "    direction=\"-\",\n",
    "    mode_spec=mode_spec,\n",
    "    mode_index=0,\n",
    ")\n",
    "\n",
    "# define mode monitors at the four output waveguides\n",
    "\n",
    "mode_monitor_Qn = td.ModeMonitor(\n",
    "    center=(-16, -6, 0),\n",
    "    size=(0, 2 * width, 4 * thickness),\n",
    "    freqs=freqs,\n",
    "    name=\"port_Qn\",\n",
    "    mode_spec=mode_spec,\n",
    ")\n",
    "\n",
    "mode_monitor_Qp = td.ModeMonitor(\n",
    "    center=(-16, -6.9, 0),\n",
    "    size=(0, 2 * width, 4 * thickness),\n",
    "    freqs=freqs,\n",
    "    name=\"port_Qp\",\n",
    "    mode_spec=mode_spec,\n",
    ")\n",
    "\n",
    "\n",
    "mode_monitor_In = td.ModeMonitor(\n",
    "    center=(16, -6, 0),\n",
    "    size=(0, 2 * width, 4 * thickness),\n",
    "    freqs=freqs,\n",
    "    name=\"port_In\",\n",
    "    mode_spec=mode_spec,\n",
    ")\n",
    "\n",
    "mode_monitor_Ip = td.ModeMonitor(\n",
    "    center=(16, -6.9, 0),\n",
    "    size=(0, 2 * width, 4 * thickness),\n",
    "    freqs=freqs,\n",
    "    name=\"port_Ip\",\n",
    "    mode_spec=mode_spec,\n",
    ")\n"
   ]
  },
  {
   "cell_type": "markdown",
   "id": "5991fddf",
   "metadata": {},
   "source": [
    "Define the simulation. "
   ]
  },
  {
   "cell_type": "code",
   "execution_count": 14,
   "id": "338b72df",
   "metadata": {
    "execution": {
     "iopub.execute_input": "2024-02-17T01:02:22.947480Z",
     "iopub.status.busy": "2024-02-17T01:02:22.947339Z",
     "iopub.status.idle": "2024-02-17T01:02:22.973437Z",
     "shell.execute_reply": "2024-02-17T01:02:22.972852Z"
    }
   },
   "outputs": [],
   "source": [
    "run_time = 2e-12  # simulation run time\n",
    "\n",
    "# define simulation\n",
    "sim = td.Simulation(\n",
    "    center=(0, -10, 0),\n",
    "    size=(32, 23, 10 * thickness),\n",
    "    grid_spec=td.GridSpec.auto(min_steps_per_wvl=20, wavelength=lda0),\n",
    "    structures=[optical_hybrid],\n",
    "    sources=[mode_source_LO],\n",
    "    monitors=[\n",
    "        field_monitor,\n",
    "        mode_monitor_Qn,\n",
    "        mode_monitor_Qp,\n",
    "        mode_monitor_In,\n",
    "        mode_monitor_Ip,\n",
    "    ],\n",
    "    run_time=run_time,\n",
    "    boundary_spec=td.BoundarySpec.all_sides(boundary=td.PML()),\n",
    "    medium=sio2,\n",
    "    symmetry=(0, 0, 1),\n",
    ")\n"
   ]
  },
  {
   "cell_type": "markdown",
   "id": "d11a3a5a",
   "metadata": {},
   "source": [
    "Visualize the simulation."
   ]
  },
  {
   "cell_type": "code",
   "execution_count": 15,
   "id": "c2f7cdc2",
   "metadata": {
    "execution": {
     "iopub.execute_input": "2024-02-17T01:02:22.975417Z",
     "iopub.status.busy": "2024-02-17T01:02:22.975273Z",
     "iopub.status.idle": "2024-02-17T01:02:23.172036Z",
     "shell.execute_reply": "2024-02-17T01:02:23.171529Z"
    }
   },
   "outputs": [
    {
     "data": {
      "image/png": "[encoded data removed]",
      "text/plain": [
       "<Figure size 640x480 with 1 Axes>"
      ]
     },
     "metadata": {},
     "output_type": "display_data"
    }
   ],
   "source": [
    "sim.plot(z=0)\n",
    "plt.show()\n"
   ]
  },
  {
   "cell_type": "markdown",
   "id": "b733c0b8",
   "metadata": {},
   "source": [
    "Submit the simulation job to the server."
   ]
  },
  {
   "cell_type": "code",
   "execution_count": 16,
   "id": "7ae31213",
   "metadata": {
    "execution": {
     "iopub.execute_input": "2024-02-17T01:02:23.173866Z",
     "iopub.status.busy": "2024-02-17T01:02:23.173715Z",
     "iopub.status.idle": "2024-02-17T01:05:31.236811Z",
     "shell.execute_reply": "2024-02-17T01:05:31.236362Z"
    }
   },
   "outputs": [
    {
     "data": {
      "text/html": [
       "<pre style=\"white-space:pre;overflow-x:auto;line-height:normal;font-family:Menlo,'DejaVu Sans Mono',consolas,'Courier New',monospace\"><span style=\"color: #7fbfbf; text-decoration-color: #7fbfbf\">17:02:23 PST </span>Created task <span style=\"color: #008000; text-decoration-color: #008000\">'optical_hybrid_lo_input'</span> with task_id                \n",
       "<span style=\"color: #7fbfbf; text-decoration-color: #7fbfbf\">             </span><span style=\"color: #008000; text-decoration-color: #008000\">'fdve-f5ff72b7-ff8c-47a4-b94e-8e56a711c7ba'</span> and task_type <span style=\"color: #008000; text-decoration-color: #008000\">'FDTD'</span>.  \n",
       "</pre>\n"
      ],
      "text/plain": [
       "\u001b[2;36m17:02:23 PST\u001b[0m\u001b[2;36m \u001b[0mCreated task \u001b[32m'optical_hybrid_lo_input'\u001b[0m with task_id                \n",
       "\u001b[2;36m             \u001b[0m\u001b[32m'fdve-f5ff72b7-ff8c-47a4-b94e-8e56a711c7ba'\u001b[0m and task_type \u001b[32m'FDTD'\u001b[0m.  \n"
      ]
     },
     "metadata": {},
     "output_type": "display_data"
    },
    {
     "data": {
      "text/html": [
       "<pre style=\"white-space:pre;overflow-x:auto;line-height:normal;font-family:Menlo,'DejaVu Sans Mono',consolas,'Courier New',monospace\"><span style=\"color: #7fbfbf; text-decoration-color: #7fbfbf\">             </span>View task using web UI at                                          \n",
       "<span style=\"color: #7fbfbf; text-decoration-color: #7fbfbf\">             </span><a href=\"https://tidy3d.simulation.cloud/workbench?taskId=fdve-f5ff72b7-ff8c-47a4-b94e-8e56a711c7ba\" target=\"_blank\"><span style=\"color: #008000; text-decoration-color: #008000\">'https://tidy3d.simulation.cloud/workbench?taskId=fdve-f5ff72b7-ff8</span></a>\n",
       "<span style=\"color: #7fbfbf; text-decoration-color: #7fbfbf\">             </span><a href=\"https://tidy3d.simulation.cloud/workbench?taskId=fdve-f5ff72b7-ff8c-47a4-b94e-8e56a711c7ba\" target=\"_blank\"><span style=\"color: #008000; text-decoration-color: #008000\">c-47a4-b94e-8e56a711c7ba'</span></a>.                                         \n",
       "</pre>\n"
      ],
      "text/plain": [
       "\u001b[2;36m            \u001b[0m\u001b[2;36m \u001b[0mView task using web UI at                                          \n",
       "\u001b[2;36m             \u001b[0m\u001b]8;id=220124;https://tidy3d.simulation.cloud/workbench?taskId=fdve-f5ff72b7-ff8c-47a4-b94e-8e56a711c7ba\u001b\\\u001b[32m'https://tidy3d.simulation.cloud/workbench?\u001b[0m\u001b]8;;\u001b\\\u001b]8;id=420879;https://tidy3d.simulation.cloud/workbench?taskId=fdve-f5ff72b7-ff8c-47a4-b94e-8e56a711c7ba\u001b\\\u001b[32mtaskId\u001b[0m\u001b]8;;\u001b\\\u001b]8;id=220124;https://tidy3d.simulation.cloud/workbench?taskId=fdve-f5ff72b7-ff8c-47a4-b94e-8e56a711c7ba\u001b\\\u001b[32m=\u001b[0m\u001b]8;;\u001b\\\u001b]8;id=145088;https://tidy3d.simulation.cloud/workbench?taskId=fdve-f5ff72b7-ff8c-47a4-b94e-8e56a711c7ba\u001b\\\u001b[32mfdve\u001b[0m\u001b]8;;\u001b\\\u001b]8;id=220124;https://tidy3d.simulation.cloud/workbench?taskId=fdve-f5ff72b7-ff8c-47a4-b94e-8e56a711c7ba\u001b\\\u001b[32m-f5ff72b7-ff8\u001b[0m\u001b]8;;\u001b\\\n",
       "\u001b[2;36m             \u001b[0m\u001b]8;id=220124;https://tidy3d.simulation.cloud/workbench?taskId=fdve-f5ff72b7-ff8c-47a4-b94e-8e56a711c7ba\u001b\\\u001b[32mc-47a4-b94e-8e56a711c7ba'\u001b[0m\u001b]8;;\u001b\\.                                         \n"
      ]
     },
     "metadata": {},
     "output_type": "display_data"
    },
    {
     "data": {
      "application/vnd.jupyter.widget-view+json": {
       "model_id": "d54817c5e85c4505a701606872fb07cc",
       "version_major": 2,
       "version_minor": 0
      },
      "text/plain": [
       "Output()"
      ]
     },
     "metadata": {},
     "output_type": "display_data"
    },
    {
     "data": {
      "text/html": [
       "<pre style=\"white-space:pre;overflow-x:auto;line-height:normal;font-family:Menlo,'DejaVu Sans Mono',consolas,'Courier New',monospace\"></pre>\n"
      ],
      "text/plain": []
     },
     "metadata": {},
     "output_type": "display_data"
    },
    {
     "data": {
      "text/html": [
       "<pre style=\"white-space:pre;overflow-x:auto;line-height:normal;font-family:Menlo,'DejaVu Sans Mono',consolas,'Courier New',monospace\">\n",
       "</pre>\n"
      ],
      "text/plain": [
       "\n"
      ]
     },
     "metadata": {},
     "output_type": "display_data"
    },
    {
     "data": {
      "text/html": [
       "<pre style=\"white-space:pre;overflow-x:auto;line-height:normal;font-family:Menlo,'DejaVu Sans Mono',consolas,'Courier New',monospace\"><span style=\"color: #7fbfbf; text-decoration-color: #7fbfbf\">17:02:24 PST </span>status = queued                                                    \n",
       "</pre>\n"
      ],
      "text/plain": [
       "\u001b[2;36m17:02:24 PST\u001b[0m\u001b[2;36m \u001b[0mstatus = queued                                                    \n"
      ]
     },
     "metadata": {},
     "output_type": "display_data"
    },
    {
     "data": {
      "application/vnd.jupyter.widget-view+json": {
       "model_id": "9e241ddc46784d219d7e63b26e00b0ca",
       "version_major": 2,
       "version_minor": 0
      },
      "text/plain": [
       "Output()"
      ]
     },
     "metadata": {},
     "output_type": "display_data"
    },
    {
     "data": {
      "text/html": [
       "<pre style=\"white-space:pre;overflow-x:auto;line-height:normal;font-family:Menlo,'DejaVu Sans Mono',consolas,'Courier New',monospace\"><span style=\"color: #7fbfbf; text-decoration-color: #7fbfbf\">17:02:35 PST </span>status = preprocess                                                \n",
       "</pre>\n"
      ],
      "text/plain": [
       "\u001b[2;36m17:02:35 PST\u001b[0m\u001b[2;36m \u001b[0mstatus = preprocess                                                \n"
      ]
     },
     "metadata": {},
     "output_type": "display_data"
    },
    {
     "data": {
      "text/html": [
       "<pre style=\"white-space:pre;overflow-x:auto;line-height:normal;font-family:Menlo,'DejaVu Sans Mono',consolas,'Courier New',monospace\"></pre>\n"
      ],
      "text/plain": []
     },
     "metadata": {},
     "output_type": "display_data"
    },
    {
     "data": {
      "text/html": [
       "<pre style=\"white-space:pre;overflow-x:auto;line-height:normal;font-family:Menlo,'DejaVu Sans Mono',consolas,'Courier New',monospace\"><span style=\"color: #7fbfbf; text-decoration-color: #7fbfbf\">17:02:38 PST </span>Maximum FlexCredit cost: <span style=\"color: #008080; text-decoration-color: #008080; font-weight: bold\">0.901</span>. Use <span style=\"color: #008000; text-decoration-color: #008000\">'web.real_cost(task_id)'</span> to get\n",
       "<span style=\"color: #7fbfbf; text-decoration-color: #7fbfbf\">             </span>the billed FlexCredit cost after a simulation run.                 \n",
       "</pre>\n"
      ],
      "text/plain": [
       "\u001b[2;36m17:02:38 PST\u001b[0m\u001b[2;36m \u001b[0mMaximum FlexCredit cost: \u001b[1;36m0.901\u001b[0m. Use \u001b[32m'web.real_cost\u001b[0m\u001b[32m(\u001b[0m\u001b[32mtask_id\u001b[0m\u001b[32m)\u001b[0m\u001b[32m'\u001b[0m to get\n",
       "\u001b[2;36m             \u001b[0mthe billed FlexCredit cost after a simulation run.                 \n"
      ]
     },
     "metadata": {},
     "output_type": "display_data"
    },
    {
     "data": {
      "text/html": [
       "<pre style=\"white-space:pre;overflow-x:auto;line-height:normal;font-family:Menlo,'DejaVu Sans Mono',consolas,'Courier New',monospace\"><span style=\"color: #7fbfbf; text-decoration-color: #7fbfbf\">             </span>starting up solver                                                 \n",
       "</pre>\n"
      ],
      "text/plain": [
       "\u001b[2;36m            \u001b[0m\u001b[2;36m \u001b[0mstarting up solver                                                 \n"
      ]
     },
     "metadata": {},
     "output_type": "display_data"
    },
    {
     "data": {
      "text/html": [
       "<pre style=\"white-space:pre;overflow-x:auto;line-height:normal;font-family:Menlo,'DejaVu Sans Mono',consolas,'Courier New',monospace\"><span style=\"color: #7fbfbf; text-decoration-color: #7fbfbf\">             </span>running solver                                                     \n",
       "</pre>\n"
      ],
      "text/plain": [
       "\u001b[2;36m            \u001b[0m\u001b[2;36m \u001b[0mrunning solver                                                     \n"
      ]
     },
     "metadata": {},
     "output_type": "display_data"
    },
    {
     "data": {
      "text/html": [
       "<pre style=\"white-space:pre;overflow-x:auto;line-height:normal;font-family:Menlo,'DejaVu Sans Mono',consolas,'Courier New',monospace\"><span style=\"color: #7fbfbf; text-decoration-color: #7fbfbf\">             </span>To cancel the simulation, use <span style=\"color: #008000; text-decoration-color: #008000\">'web.abort(task_id)'</span> or              \n",
       "<span style=\"color: #7fbfbf; text-decoration-color: #7fbfbf\">             </span><span style=\"color: #008000; text-decoration-color: #008000\">'web.delete(task_id)'</span> or abort/delete the task in the web UI.      \n",
       "<span style=\"color: #7fbfbf; text-decoration-color: #7fbfbf\">             </span>Terminating the Python script will not stop the job running on the \n",
       "<span style=\"color: #7fbfbf; text-decoration-color: #7fbfbf\">             </span>cloud.                                                             \n",
       "</pre>\n"
      ],
      "text/plain": [
       "\u001b[2;36m            \u001b[0m\u001b[2;36m \u001b[0mTo cancel the simulation, use \u001b[32m'web.abort\u001b[0m\u001b[32m(\u001b[0m\u001b[32mtask_id\u001b[0m\u001b[32m)\u001b[0m\u001b[32m'\u001b[0m or              \n",
       "\u001b[2;36m             \u001b[0m\u001b[32m'web.delete\u001b[0m\u001b[32m(\u001b[0m\u001b[32mtask_id\u001b[0m\u001b[32m)\u001b[0m\u001b[32m'\u001b[0m or abort/delete the task in the web UI.      \n",
       "\u001b[2;36m             \u001b[0mTerminating the Python script will not stop the job running on the \n",
       "\u001b[2;36m             \u001b[0mcloud.                                                             \n"
      ]
     },
     "metadata": {},
     "output_type": "display_data"
    },
    {
     "data": {
      "application/vnd.jupyter.widget-view+json": {
       "model_id": "06d830f4f76441c6a46cf0cf94d7577e",
       "version_major": 2,
       "version_minor": 0
      },
      "text/plain": [
       "Output()"
      ]
     },
     "metadata": {},
     "output_type": "display_data"
    },
    {
     "data": {
      "text/html": [
       "<pre style=\"white-space:pre;overflow-x:auto;line-height:normal;font-family:Menlo,'DejaVu Sans Mono',consolas,'Courier New',monospace\"><span style=\"color: #7fbfbf; text-decoration-color: #7fbfbf\">17:05:24 PST </span>early shutoff detected at <span style=\"color: #008080; text-decoration-color: #008080; font-weight: bold\">56</span>%, exiting.                            \n",
       "</pre>\n"
      ],
      "text/plain": [
       "\u001b[2;36m17:05:24 PST\u001b[0m\u001b[2;36m \u001b[0mearly shutoff detected at \u001b[1;36m56\u001b[0m%, exiting.                            \n"
      ]
     },
     "metadata": {},
     "output_type": "display_data"
    },
    {
     "data": {
      "text/html": [
       "<pre style=\"white-space:pre;overflow-x:auto;line-height:normal;font-family:Menlo,'DejaVu Sans Mono',consolas,'Courier New',monospace\"></pre>\n"
      ],
      "text/plain": []
     },
     "metadata": {},
     "output_type": "display_data"
    },
    {
     "data": {
      "text/html": [
       "<pre style=\"white-space:pre;overflow-x:auto;line-height:normal;font-family:Menlo,'DejaVu Sans Mono',consolas,'Courier New',monospace\">\n",
       "</pre>\n"
      ],
      "text/plain": [
       "\n"
      ]
     },
     "metadata": {},
     "output_type": "display_data"
    },
    {
     "data": {
      "text/html": [
       "<pre style=\"white-space:pre;overflow-x:auto;line-height:normal;font-family:Menlo,'DejaVu Sans Mono',consolas,'Courier New',monospace\"><span style=\"color: #7fbfbf; text-decoration-color: #7fbfbf\">             </span>status = postprocess                                               \n",
       "</pre>\n"
      ],
      "text/plain": [
       "\u001b[2;36m            \u001b[0m\u001b[2;36m \u001b[0mstatus = postprocess                                               \n"
      ]
     },
     "metadata": {},
     "output_type": "display_data"
    },
    {
     "data": {
      "application/vnd.jupyter.widget-view+json": {
       "model_id": "337f7469cb1c4b6ebf7edc80bfe0d943",
       "version_major": 2,
       "version_minor": 0
      },
      "text/plain": [
       "Output()"
      ]
     },
     "metadata": {},
     "output_type": "display_data"
    },
    {
     "data": {
      "text/html": [
       "<pre style=\"white-space:pre;overflow-x:auto;line-height:normal;font-family:Menlo,'DejaVu Sans Mono',consolas,'Courier New',monospace\"><span style=\"color: #7fbfbf; text-decoration-color: #7fbfbf\">17:05:27 PST </span>status = success                                                   \n",
       "</pre>\n"
      ],
      "text/plain": [
       "\u001b[2;36m17:05:27 PST\u001b[0m\u001b[2;36m \u001b[0mstatus = success                                                   \n"
      ]
     },
     "metadata": {},
     "output_type": "display_data"
    },
    {
     "data": {
      "text/html": [
       "<pre style=\"white-space:pre;overflow-x:auto;line-height:normal;font-family:Menlo,'DejaVu Sans Mono',consolas,'Courier New',monospace\"></pre>\n"
      ],
      "text/plain": []
     },
     "metadata": {},
     "output_type": "display_data"
    },
    {
     "data": {
      "text/html": [
       "<pre style=\"white-space:pre;overflow-x:auto;line-height:normal;font-family:Menlo,'DejaVu Sans Mono',consolas,'Courier New',monospace\"><span style=\"color: #7fbfbf; text-decoration-color: #7fbfbf\">             </span>View simulation result at                                          \n",
       "<span style=\"color: #7fbfbf; text-decoration-color: #7fbfbf\">             </span><a href=\"https://tidy3d.simulation.cloud/workbench?taskId=fdve-f5ff72b7-ff8c-47a4-b94e-8e56a711c7ba\" target=\"_blank\"><span style=\"color: #000080; text-decoration-color: #000080; text-decoration: underline\">'https://tidy3d.simulation.cloud/workbench?taskId=fdve-f5ff72b7-ff8</span></a>\n",
       "<span style=\"color: #7fbfbf; text-decoration-color: #7fbfbf\">             </span><a href=\"https://tidy3d.simulation.cloud/workbench?taskId=fdve-f5ff72b7-ff8c-47a4-b94e-8e56a711c7ba\" target=\"_blank\"><span style=\"color: #000080; text-decoration-color: #000080; text-decoration: underline\">c-47a4-b94e-8e56a711c7ba'</span></a><span style=\"color: #000080; text-decoration-color: #000080; text-decoration: underline\">.</span>                                         \n",
       "</pre>\n"
      ],
      "text/plain": [
       "\u001b[2;36m            \u001b[0m\u001b[2;36m \u001b[0mView simulation result at                                          \n",
       "\u001b[2;36m             \u001b[0m\u001b]8;id=605230;https://tidy3d.simulation.cloud/workbench?taskId=fdve-f5ff72b7-ff8c-47a4-b94e-8e56a711c7ba\u001b\\\u001b[4;34m'https://tidy3d.simulation.cloud/workbench?\u001b[0m\u001b]8;;\u001b\\\u001b]8;id=43853;https://tidy3d.simulation.cloud/workbench?taskId=fdve-f5ff72b7-ff8c-47a4-b94e-8e56a711c7ba\u001b\\\u001b[4;34mtaskId\u001b[0m\u001b]8;;\u001b\\\u001b]8;id=605230;https://tidy3d.simulation.cloud/workbench?taskId=fdve-f5ff72b7-ff8c-47a4-b94e-8e56a711c7ba\u001b\\\u001b[4;34m=\u001b[0m\u001b]8;;\u001b\\\u001b]8;id=798006;https://tidy3d.simulation.cloud/workbench?taskId=fdve-f5ff72b7-ff8c-47a4-b94e-8e56a711c7ba\u001b\\\u001b[4;34mfdve\u001b[0m\u001b]8;;\u001b\\\u001b]8;id=605230;https://tidy3d.simulation.cloud/workbench?taskId=fdve-f5ff72b7-ff8c-47a4-b94e-8e56a711c7ba\u001b\\\u001b[4;34m-f5ff72b7-ff8\u001b[0m\u001b]8;;\u001b\\\n",
       "\u001b[2;36m             \u001b[0m\u001b]8;id=605230;https://tidy3d.simulation.cloud/workbench?taskId=fdve-f5ff72b7-ff8c-47a4-b94e-8e56a711c7ba\u001b\\\u001b[4;34mc-47a4-b94e-8e56a711c7ba'\u001b[0m\u001b]8;;\u001b\\\u001b[4;34m.\u001b[0m                                         \n"
      ]
     },
     "metadata": {},
     "output_type": "display_data"
    },
    {
     "data": {
      "application/vnd.jupyter.widget-view+json": {
       "model_id": "f1b831584cc24bb8b92381a2e6fa729f",
       "version_major": 2,
       "version_minor": 0
      },
      "text/plain": [
       "Output()"
      ]
     },
     "metadata": {},
     "output_type": "display_data"
    },
    {
     "data": {
      "text/html": [
       "<pre style=\"white-space:pre;overflow-x:auto;line-height:normal;font-family:Menlo,'DejaVu Sans Mono',consolas,'Courier New',monospace\"></pre>\n"
      ],
      "text/plain": []
     },
     "metadata": {},
     "output_type": "display_data"
    },
    {
     "data": {
      "text/html": [
       "<pre style=\"white-space:pre;overflow-x:auto;line-height:normal;font-family:Menlo,'DejaVu Sans Mono',consolas,'Courier New',monospace\">\n",
       "</pre>\n"
      ],
      "text/plain": [
       "\n"
      ]
     },
     "metadata": {},
     "output_type": "display_data"
    },
    {
     "data": {
      "text/html": [
       "<pre style=\"white-space:pre;overflow-x:auto;line-height:normal;font-family:Menlo,'DejaVu Sans Mono',consolas,'Courier New',monospace\"><span style=\"color: #7fbfbf; text-decoration-color: #7fbfbf\">17:05:31 PST </span>loading simulation from data/simulation_data.hdf5                  \n",
       "</pre>\n"
      ],
      "text/plain": [
       "\u001b[2;36m17:05:31 PST\u001b[0m\u001b[2;36m \u001b[0mloading simulation from data/simulation_data.hdf5                  \n"
      ]
     },
     "metadata": {},
     "output_type": "display_data"
    },
    {
     "data": {
      "text/html": [
       "<pre style=\"white-space:pre;overflow-x:auto;line-height:normal;font-family:Menlo,'DejaVu Sans Mono',consolas,'Courier New',monospace\"><span style=\"color: #7fbfbf; text-decoration-color: #7fbfbf\">             </span><span style=\"color: #800000; text-decoration-color: #800000\">WARNING: Monitor data requires </span><span style=\"color: #008000; text-decoration-color: #008000\">'grid_expanded'</span><span style=\"color: #800000; text-decoration-color: #800000\"> to be defined to    </span>\n",
       "<span style=\"color: #7fbfbf; text-decoration-color: #7fbfbf\">             </span><span style=\"color: #800000; text-decoration-color: #800000\">compute values like flux, Poynting and dot product with other data.</span>\n",
       "</pre>\n"
      ],
      "text/plain": [
       "\u001b[2;36m            \u001b[0m\u001b[2;36m \u001b[0m\u001b[31mWARNING: Monitor data requires \u001b[0m\u001b[32m'grid_expanded'\u001b[0m\u001b[31m to be defined to    \u001b[0m\n",
       "\u001b[2;36m             \u001b[0m\u001b[31mcompute values like flux, Poynting and dot product with other data.\u001b[0m\n"
      ]
     },
     "metadata": {},
     "output_type": "display_data"
    },
    {
     "data": {
      "text/html": [
       "<pre style=\"white-space:pre;overflow-x:auto;line-height:normal;font-family:Menlo,'DejaVu Sans Mono',consolas,'Courier New',monospace\"><span style=\"color: #7fbfbf; text-decoration-color: #7fbfbf\">             </span><span style=\"color: #800000; text-decoration-color: #800000\">WARNING: Monitor data requires </span><span style=\"color: #008000; text-decoration-color: #008000\">'grid_expanded'</span><span style=\"color: #800000; text-decoration-color: #800000\"> to be defined to    </span>\n",
       "<span style=\"color: #7fbfbf; text-decoration-color: #7fbfbf\">             </span><span style=\"color: #800000; text-decoration-color: #800000\">compute values like flux, Poynting and dot product with other data.</span>\n",
       "</pre>\n"
      ],
      "text/plain": [
       "\u001b[2;36m            \u001b[0m\u001b[2;36m \u001b[0m\u001b[31mWARNING: Monitor data requires \u001b[0m\u001b[32m'grid_expanded'\u001b[0m\u001b[31m to be defined to    \u001b[0m\n",
       "\u001b[2;36m             \u001b[0m\u001b[31mcompute values like flux, Poynting and dot product with other data.\u001b[0m\n"
      ]
     },
     "metadata": {},
     "output_type": "display_data"
    },
    {
     "data": {
      "text/html": [
       "<pre style=\"white-space:pre;overflow-x:auto;line-height:normal;font-family:Menlo,'DejaVu Sans Mono',consolas,'Courier New',monospace\"><span style=\"color: #7fbfbf; text-decoration-color: #7fbfbf\">             </span><span style=\"color: #800000; text-decoration-color: #800000\">WARNING: Monitor data requires </span><span style=\"color: #008000; text-decoration-color: #008000\">'grid_expanded'</span><span style=\"color: #800000; text-decoration-color: #800000\"> to be defined to    </span>\n",
       "<span style=\"color: #7fbfbf; text-decoration-color: #7fbfbf\">             </span><span style=\"color: #800000; text-decoration-color: #800000\">compute values like flux, Poynting and dot product with other data.</span>\n",
       "</pre>\n"
      ],
      "text/plain": [
       "\u001b[2;36m            \u001b[0m\u001b[2;36m \u001b[0m\u001b[31mWARNING: Monitor data requires \u001b[0m\u001b[32m'grid_expanded'\u001b[0m\u001b[31m to be defined to    \u001b[0m\n",
       "\u001b[2;36m             \u001b[0m\u001b[31mcompute values like flux, Poynting and dot product with other data.\u001b[0m\n"
      ]
     },
     "metadata": {},
     "output_type": "display_data"
    },
    {
     "data": {
      "text/html": [
       "<pre style=\"white-space:pre;overflow-x:auto;line-height:normal;font-family:Menlo,'DejaVu Sans Mono',consolas,'Courier New',monospace\"><span style=\"color: #7fbfbf; text-decoration-color: #7fbfbf\">             </span><span style=\"color: #800000; text-decoration-color: #800000\">WARNING: Monitor data requires </span><span style=\"color: #008000; text-decoration-color: #008000\">'grid_expanded'</span><span style=\"color: #800000; text-decoration-color: #800000\"> to be defined to    </span>\n",
       "<span style=\"color: #7fbfbf; text-decoration-color: #7fbfbf\">             </span><span style=\"color: #800000; text-decoration-color: #800000\">compute values like flux, Poynting and dot product with other data.</span>\n",
       "</pre>\n"
      ],
      "text/plain": [
       "\u001b[2;36m            \u001b[0m\u001b[2;36m \u001b[0m\u001b[31mWARNING: Monitor data requires \u001b[0m\u001b[32m'grid_expanded'\u001b[0m\u001b[31m to be defined to    \u001b[0m\n",
       "\u001b[2;36m             \u001b[0m\u001b[31mcompute values like flux, Poynting and dot product with other data.\u001b[0m\n"
      ]
     },
     "metadata": {},
     "output_type": "display_data"
    }
   ],
   "source": [
    "job = web.Job(simulation=sim, task_name=\"optical_hybrid_lo_input\", verbose=True)\n",
    "sim_data = job.run(path=\"data/simulation_data.hdf5\")\n"
   ]
  },
  {
   "cell_type": "markdown",
   "id": "6b0921a6",
   "metadata": {},
   "source": [
    "Visualize the field intensity distribution."
   ]
  },
  {
   "cell_type": "code",
   "execution_count": 17,
   "id": "07018789",
   "metadata": {
    "execution": {
     "iopub.execute_input": "2024-02-17T01:05:34.170493Z",
     "iopub.status.busy": "2024-02-17T01:05:34.170267Z",
     "iopub.status.idle": "2024-02-17T01:05:37.037047Z",
     "shell.execute_reply": "2024-02-17T01:05:37.036531Z"
    }
   },
   "outputs": [
    {
     "data": {
      "image/png": "[encoded data removed]",
      "text/plain": [
       "<Figure size 640x480 with 2 Axes>"
      ]
     },
     "metadata": {},
     "output_type": "display_data"
    }
   ],
   "source": [
    "sim_data.plot_field(field_monitor_name=\"field\", field_name=\"E\", val=\"abs^2\", vmax=1500)\n",
    "plt.show()\n"
   ]
  },
  {
   "cell_type": "markdown",
   "id": "6b7eb83c",
   "metadata": {},
   "source": [
    "Besides the error in the relative phase, there are three additional figures of merit (FOM) the characterize the performance of the 90 degree optical hybrid: insertion loss, common mode rejection ratio (CMRR), and imbalance. We define a function to calculate those FOMs and plot the results.\n",
    "\n",
    "The insertion loss is calculated as $-10log_{10}(P_{tot})$, where $P_{tot}=P_{Ip}+P_{In}+P_{Qp}+P_{Qn}$ is the total power at four output ports.\n",
    "\n",
    "The CMRR is calculated as CMRR$_I=-20log_{10}(\\left|\\frac{P_{Ip}-P_{In}}{P_{Ip}+P_{In}}  \\right|)$ and CMRR$_Q=-20log_{10}(\\left|\\frac{P_{Qp}-P_{Qn}}{P_{Qp}+P_{Qn}}  \\right|)$.\n",
    "\n",
    "The imbalance is defined as Imbalance$_I = -10log_{10}(\\frac{P_{Ip}}{P_{In}})$ and Imbalance$_Q = -10log_{10}(\\frac{P_{Qp}}{P_{Qn}})$."
   ]
  },
  {
   "cell_type": "code",
   "execution_count": 18,
   "id": "89763cfc",
   "metadata": {
    "execution": {
     "iopub.execute_input": "2024-02-17T01:05:37.041300Z",
     "iopub.status.busy": "2024-02-17T01:05:37.041105Z",
     "iopub.status.idle": "2024-02-17T01:05:37.063663Z",
     "shell.execute_reply": "2024-02-17T01:05:37.063134Z"
    }
   },
   "outputs": [],
   "source": [
    "def calculate_FOM(sim_data):\n",
    "    # compute power at the Ip port\n",
    "    P_Ip = np.abs(sim_data[\"port_Ip\"].amps.sel(direction=\"+\").values) ** 2\n",
    "    # compute power at the In port\n",
    "    P_In = np.abs(sim_data[\"port_In\"].amps.sel(direction=\"+\").values) ** 2\n",
    "    # compute power at the Qp port\n",
    "    P_Qp = np.abs(sim_data[\"port_Qp\"].amps.sel(direction=\"-\").values) ** 2\n",
    "    # compute power at the Qn port\n",
    "    P_Qn = np.abs(sim_data[\"port_Qn\"].amps.sel(direction=\"-\").values) ** 2\n",
    "\n",
    "    fig, ax = plt.subplots(3, 1, tight_layout=True, figsize=(6, 10))\n",
    "\n",
    "    # compute and plot insertion loss\n",
    "    loss = -10 * np.log10(P_Ip + P_In + P_Qp + P_Qn)\n",
    "    ax[0].plot(ldas, loss)\n",
    "    ax[0].set_xlabel(\"Wavelength ($\\mu m$)\")\n",
    "    ax[0].set_ylabel(\"Insertion loss (dB)\")\n",
    "    ax[0].set_ylim(0, 1)\n",
    "\n",
    "    # compute and plot CMRR\n",
    "    CMRR_I = -20 * np.log10(np.abs((P_Ip - P_In) / (P_Ip + P_In)))\n",
    "    CMRR_Q = -20 * np.log10(np.abs((P_Qp - P_Qn) / (P_Qp + P_Qn)))\n",
    "    ax[1].plot(ldas, CMRR_I, label=\"CMRR$_I$\")\n",
    "    ax[1].plot(ldas, CMRR_Q, label=\"CMRR$_Q$\")\n",
    "    ax[1].set_xlabel(\"Wavelength ($\\mu m$)\")\n",
    "    ax[1].set_ylabel(\"CMRR (dB)\")\n",
    "    ax[1].set_ylim(25, 45)\n",
    "    ax[1].legend()\n",
    "\n",
    "    # compute and plot imbalance\n",
    "    Imbalance_I = -10 * np.log10(P_Ip / P_In)\n",
    "    Imbalance_Q = -10 * np.log10(P_Qp / P_Qn)\n",
    "    ax[2].plot(ldas, Imbalance_I, label=\"Imbalance$_I$\")\n",
    "    ax[2].plot(ldas, Imbalance_Q, label=\"Imbalance$_Q$\")\n",
    "    ax[2].set_xlabel(\"Wavelength ($\\mu m$)\")\n",
    "    ax[2].set_ylabel(\"Imbalance (dB)\")\n",
    "    ax[2].set_ylim(-0.5, 0.5)\n",
    "    ax[2].legend()\n"
   ]
  },
  {
   "cell_type": "markdown",
   "id": "bf88df32",
   "metadata": {},
   "source": [
    "Calculate those FOMs and plot the results. Due to symmetry, CMRR$_I$ and CMRR$_Q$ are identical. So is Imbalance$_I$ and Imbalance$_Q$. \n",
    "\n",
    "Overall, we see that the design has a good performance. The insertion loss is about 0.3 dB while the CMRRs are above 30 dB and the Imbalances are around 0.1 dB."
   ]
  },
  {
   "cell_type": "code",
   "execution_count": 19,
   "id": "d6d31259",
   "metadata": {
    "execution": {
     "iopub.execute_input": "2024-02-17T01:05:37.066638Z",
     "iopub.status.busy": "2024-02-17T01:05:37.066455Z",
     "iopub.status.idle": "2024-02-17T01:05:37.562350Z",
     "shell.execute_reply": "2024-02-17T01:05:37.561792Z"
    }
   },
   "outputs": [
    {
     "data": {
      "text/html": [
       "<pre style=\"white-space:pre;overflow-x:auto;line-height:normal;font-family:Menlo,'DejaVu Sans Mono',consolas,'Courier New',monospace\"><span style=\"color: #7fbfbf; text-decoration-color: #7fbfbf\">17:05:37 PST </span><span style=\"color: #800000; text-decoration-color: #800000\">WARNING: Monitor data requires </span><span style=\"color: #008000; text-decoration-color: #008000\">'grid_expanded'</span><span style=\"color: #800000; text-decoration-color: #800000\"> to be defined to    </span>\n",
       "<span style=\"color: #7fbfbf; text-decoration-color: #7fbfbf\">             </span><span style=\"color: #800000; text-decoration-color: #800000\">compute values like flux, Poynting and dot product with other data.</span>\n",
       "</pre>\n"
      ],
      "text/plain": [
       "\u001b[2;36m17:05:37 PST\u001b[0m\u001b[2;36m \u001b[0m\u001b[31mWARNING: Monitor data requires \u001b[0m\u001b[32m'grid_expanded'\u001b[0m\u001b[31m to be defined to    \u001b[0m\n",
       "\u001b[2;36m             \u001b[0m\u001b[31mcompute values like flux, Poynting and dot product with other data.\u001b[0m\n"
      ]
     },
     "metadata": {},
     "output_type": "display_data"
    },
    {
     "data": {
      "text/html": [
       "<pre style=\"white-space:pre;overflow-x:auto;line-height:normal;font-family:Menlo,'DejaVu Sans Mono',consolas,'Courier New',monospace\"><span style=\"color: #7fbfbf; text-decoration-color: #7fbfbf\">             </span><span style=\"color: #800000; text-decoration-color: #800000\">WARNING: Monitor data requires </span><span style=\"color: #008000; text-decoration-color: #008000\">'grid_expanded'</span><span style=\"color: #800000; text-decoration-color: #800000\"> to be defined to    </span>\n",
       "<span style=\"color: #7fbfbf; text-decoration-color: #7fbfbf\">             </span><span style=\"color: #800000; text-decoration-color: #800000\">compute values like flux, Poynting and dot product with other data.</span>\n",
       "</pre>\n"
      ],
      "text/plain": [
       "\u001b[2;36m            \u001b[0m\u001b[2;36m \u001b[0m\u001b[31mWARNING: Monitor data requires \u001b[0m\u001b[32m'grid_expanded'\u001b[0m\u001b[31m to be defined to    \u001b[0m\n",
       "\u001b[2;36m             \u001b[0m\u001b[31mcompute values like flux, Poynting and dot product with other data.\u001b[0m\n"
      ]
     },
     "metadata": {},
     "output_type": "display_data"
    },
    {
     "data": {
      "text/html": [
       "<pre style=\"white-space:pre;overflow-x:auto;line-height:normal;font-family:Menlo,'DejaVu Sans Mono',consolas,'Courier New',monospace\"><span style=\"color: #7fbfbf; text-decoration-color: #7fbfbf\">             </span><span style=\"color: #800000; text-decoration-color: #800000\">WARNING: Monitor data requires </span><span style=\"color: #008000; text-decoration-color: #008000\">'grid_expanded'</span><span style=\"color: #800000; text-decoration-color: #800000\"> to be defined to    </span>\n",
       "<span style=\"color: #7fbfbf; text-decoration-color: #7fbfbf\">             </span><span style=\"color: #800000; text-decoration-color: #800000\">compute values like flux, Poynting and dot product with other data.</span>\n",
       "</pre>\n"
      ],
      "text/plain": [
       "\u001b[2;36m            \u001b[0m\u001b[2;36m \u001b[0m\u001b[31mWARNING: Monitor data requires \u001b[0m\u001b[32m'grid_expanded'\u001b[0m\u001b[31m to be defined to    \u001b[0m\n",
       "\u001b[2;36m             \u001b[0m\u001b[31mcompute values like flux, Poynting and dot product with other data.\u001b[0m\n"
      ]
     },
     "metadata": {},
     "output_type": "display_data"
    },
    {
     "data": {
      "text/html": [
       "<pre style=\"white-space:pre;overflow-x:auto;line-height:normal;font-family:Menlo,'DejaVu Sans Mono',consolas,'Courier New',monospace\"><span style=\"color: #7fbfbf; text-decoration-color: #7fbfbf\">             </span><span style=\"color: #800000; text-decoration-color: #800000\">WARNING: Monitor data requires </span><span style=\"color: #008000; text-decoration-color: #008000\">'grid_expanded'</span><span style=\"color: #800000; text-decoration-color: #800000\"> to be defined to    </span>\n",
       "<span style=\"color: #7fbfbf; text-decoration-color: #7fbfbf\">             </span><span style=\"color: #800000; text-decoration-color: #800000\">compute values like flux, Poynting and dot product with other data.</span>\n",
       "</pre>\n"
      ],
      "text/plain": [
       "\u001b[2;36m            \u001b[0m\u001b[2;36m \u001b[0m\u001b[31mWARNING: Monitor data requires \u001b[0m\u001b[32m'grid_expanded'\u001b[0m\u001b[31m to be defined to    \u001b[0m\n",
       "\u001b[2;36m             \u001b[0m\u001b[31mcompute values like flux, Poynting and dot product with other data.\u001b[0m\n"
      ]
     },
     "metadata": {},
     "output_type": "display_data"
    },
    {
     "data": {
      "image/png": "[encoded data removed]",
      "text/plain": [
       "<Figure size 600x1000 with 3 Axes>"
      ]
     },
     "metadata": {},
     "output_type": "display_data"
    }
   ],
   "source": [
    "calculate_FOM(sim_data)\n"
   ]
  },
  {
   "cell_type": "markdown",
   "id": "23536beb",
   "metadata": {},
   "source": [
    "## Simulation of the Optical Hybrid -- Signal Input "
   ]
  },
  {
   "cell_type": "markdown",
   "id": "2c51e262",
   "metadata": {},
   "source": [
    "Finally, we simulate the case where the input signal is from the bottom signal port. To do so, we only need to define a ModeSource at the signal port and update the previous simulation since other settings of the simulation is identical."
   ]
  },
  {
   "cell_type": "code",
   "execution_count": 20,
   "id": "fc12ac48",
   "metadata": {
    "execution": {
     "iopub.execute_input": "2024-02-17T01:05:37.564347Z",
     "iopub.status.busy": "2024-02-17T01:05:37.564173Z",
     "iopub.status.idle": "2024-02-17T01:05:37.773358Z",
     "shell.execute_reply": "2024-02-17T01:05:37.772841Z"
    }
   },
   "outputs": [
    {
     "data": {
      "image/png": "[encoded data removed]",
      "text/plain": [
       "<Figure size 640x480 with 1 Axes>"
      ]
     },
     "metadata": {},
     "output_type": "display_data"
    }
   ],
   "source": [
    "# define a mode source at the signal input waveguide at the bottom MMI\n",
    "mode_source_signal = td.ModeSource(\n",
    "    center=(-0.5, -21, 0),\n",
    "    size=(2 * width, 0, 4 * thickness),\n",
    "    source_time=td.GaussianPulse(freq0=freq0, fwidth=fwidth),\n",
    "    direction=\"+\",\n",
    "    mode_spec=mode_spec,\n",
    "    mode_index=0,\n",
    ")\n",
    "\n",
    "# copy simulation and change the source\n",
    "sim = sim.copy(update={\"sources\": [mode_source_signal]})\n",
    "sim.plot(z=0)\n",
    "plt.show()\n"
   ]
  },
  {
   "cell_type": "code",
   "execution_count": 21,
   "id": "cfcaf425",
   "metadata": {
    "execution": {
     "iopub.execute_input": "2024-02-17T01:05:37.775116Z",
     "iopub.status.busy": "2024-02-17T01:05:37.774963Z",
     "iopub.status.idle": "2024-02-17T01:08:47.957807Z",
     "shell.execute_reply": "2024-02-17T01:08:47.957228Z"
    }
   },
   "outputs": [
    {
     "data": {
      "text/html": [
       "<pre style=\"white-space:pre;overflow-x:auto;line-height:normal;font-family:Menlo,'DejaVu Sans Mono',consolas,'Courier New',monospace\"><span style=\"color: #7fbfbf; text-decoration-color: #7fbfbf\">             </span>Created task <span style=\"color: #008000; text-decoration-color: #008000\">'optical_hybrid_signal_input'</span> with task_id            \n",
       "<span style=\"color: #7fbfbf; text-decoration-color: #7fbfbf\">             </span><span style=\"color: #008000; text-decoration-color: #008000\">'fdve-f21d5e74-a13d-4af1-af56-c4492455eceb'</span> and task_type <span style=\"color: #008000; text-decoration-color: #008000\">'FDTD'</span>.  \n",
       "</pre>\n"
      ],
      "text/plain": [
       "\u001b[2;36m            \u001b[0m\u001b[2;36m \u001b[0mCreated task \u001b[32m'optical_hybrid_signal_input'\u001b[0m with task_id            \n",
       "\u001b[2;36m             \u001b[0m\u001b[32m'fdve-f21d5e74-a13d-4af1-af56-c4492455eceb'\u001b[0m and task_type \u001b[32m'FDTD'\u001b[0m.  \n"
      ]
     },
     "metadata": {},
     "output_type": "display_data"
    },
    {
     "data": {
      "text/html": [
       "<pre style=\"white-space:pre;overflow-x:auto;line-height:normal;font-family:Menlo,'DejaVu Sans Mono',consolas,'Courier New',monospace\"><span style=\"color: #7fbfbf; text-decoration-color: #7fbfbf\">             </span>View task using web UI at                                          \n",
       "<span style=\"color: #7fbfbf; text-decoration-color: #7fbfbf\">             </span><a href=\"https://tidy3d.simulation.cloud/workbench?taskId=fdve-f21d5e74-a13d-4af1-af56-c4492455eceb\" target=\"_blank\"><span style=\"color: #008000; text-decoration-color: #008000\">'https://tidy3d.simulation.cloud/workbench?taskId=fdve-f21d5e74-a13</span></a>\n",
       "<span style=\"color: #7fbfbf; text-decoration-color: #7fbfbf\">             </span><a href=\"https://tidy3d.simulation.cloud/workbench?taskId=fdve-f21d5e74-a13d-4af1-af56-c4492455eceb\" target=\"_blank\"><span style=\"color: #008000; text-decoration-color: #008000\">d-4af1-af56-c4492455eceb'</span></a>.                                         \n",
       "</pre>\n"
      ],
      "text/plain": [
       "\u001b[2;36m            \u001b[0m\u001b[2;36m \u001b[0mView task using web UI at                                          \n",
       "\u001b[2;36m             \u001b[0m\u001b]8;id=8421;https://tidy3d.simulation.cloud/workbench?taskId=fdve-f21d5e74-a13d-4af1-af56-c4492455eceb\u001b\\\u001b[32m'https://tidy3d.simulation.cloud/workbench?\u001b[0m\u001b]8;;\u001b\\\u001b]8;id=142155;https://tidy3d.simulation.cloud/workbench?taskId=fdve-f21d5e74-a13d-4af1-af56-c4492455eceb\u001b\\\u001b[32mtaskId\u001b[0m\u001b]8;;\u001b\\\u001b]8;id=8421;https://tidy3d.simulation.cloud/workbench?taskId=fdve-f21d5e74-a13d-4af1-af56-c4492455eceb\u001b\\\u001b[32m=\u001b[0m\u001b]8;;\u001b\\\u001b]8;id=687885;https://tidy3d.simulation.cloud/workbench?taskId=fdve-f21d5e74-a13d-4af1-af56-c4492455eceb\u001b\\\u001b[32mfdve\u001b[0m\u001b]8;;\u001b\\\u001b]8;id=8421;https://tidy3d.simulation.cloud/workbench?taskId=fdve-f21d5e74-a13d-4af1-af56-c4492455eceb\u001b\\\u001b[32m-f21d5e74-a13\u001b[0m\u001b]8;;\u001b\\\n",
       "\u001b[2;36m             \u001b[0m\u001b]8;id=8421;https://tidy3d.simulation.cloud/workbench?taskId=fdve-f21d5e74-a13d-4af1-af56-c4492455eceb\u001b\\\u001b[32md-4af1-af56-c4492455eceb'\u001b[0m\u001b]8;;\u001b\\.                                         \n"
      ]
     },
     "metadata": {},
     "output_type": "display_data"
    },
    {
     "data": {
      "application/vnd.jupyter.widget-view+json": {
       "model_id": "7e982f775f6243068402693b2300476c",
       "version_major": 2,
       "version_minor": 0
      },
      "text/plain": [
       "Output()"
      ]
     },
     "metadata": {},
     "output_type": "display_data"
    },
    {
     "data": {
      "text/html": [
       "<pre style=\"white-space:pre;overflow-x:auto;line-height:normal;font-family:Menlo,'DejaVu Sans Mono',consolas,'Courier New',monospace\"></pre>\n"
      ],
      "text/plain": []
     },
     "metadata": {},
     "output_type": "display_data"
    },
    {
     "data": {
      "text/html": [
       "<pre style=\"white-space:pre;overflow-x:auto;line-height:normal;font-family:Menlo,'DejaVu Sans Mono',consolas,'Courier New',monospace\">\n",
       "</pre>\n"
      ],
      "text/plain": [
       "\n"
      ]
     },
     "metadata": {},
     "output_type": "display_data"
    },
    {
     "data": {
      "text/html": [
       "<pre style=\"white-space:pre;overflow-x:auto;line-height:normal;font-family:Menlo,'DejaVu Sans Mono',consolas,'Courier New',monospace\"><span style=\"color: #7fbfbf; text-decoration-color: #7fbfbf\">17:05:39 PST </span>status = queued                                                    \n",
       "</pre>\n"
      ],
      "text/plain": [
       "\u001b[2;36m17:05:39 PST\u001b[0m\u001b[2;36m \u001b[0mstatus = queued                                                    \n"
      ]
     },
     "metadata": {},
     "output_type": "display_data"
    },
    {
     "data": {
      "application/vnd.jupyter.widget-view+json": {
       "model_id": "cd4f2475aa4949bfb0dcb09bba4acafe",
       "version_major": 2,
       "version_minor": 0
      },
      "text/plain": [
       "Output()"
      ]
     },
     "metadata": {},
     "output_type": "display_data"
    },
    {
     "data": {
      "text/html": [
       "<pre style=\"white-space:pre;overflow-x:auto;line-height:normal;font-family:Menlo,'DejaVu Sans Mono',consolas,'Courier New',monospace\"><span style=\"color: #7fbfbf; text-decoration-color: #7fbfbf\">17:05:49 PST </span>status = preprocess                                                \n",
       "</pre>\n"
      ],
      "text/plain": [
       "\u001b[2;36m17:05:49 PST\u001b[0m\u001b[2;36m \u001b[0mstatus = preprocess                                                \n"
      ]
     },
     "metadata": {},
     "output_type": "display_data"
    },
    {
     "data": {
      "text/html": [
       "<pre style=\"white-space:pre;overflow-x:auto;line-height:normal;font-family:Menlo,'DejaVu Sans Mono',consolas,'Courier New',monospace\"></pre>\n"
      ],
      "text/plain": []
     },
     "metadata": {},
     "output_type": "display_data"
    },
    {
     "data": {
      "text/html": [
       "<pre style=\"white-space:pre;overflow-x:auto;line-height:normal;font-family:Menlo,'DejaVu Sans Mono',consolas,'Courier New',monospace\"><span style=\"color: #7fbfbf; text-decoration-color: #7fbfbf\">17:05:53 PST </span>Maximum FlexCredit cost: <span style=\"color: #008080; text-decoration-color: #008080; font-weight: bold\">0.901</span>. Use <span style=\"color: #008000; text-decoration-color: #008000\">'web.real_cost(task_id)'</span> to get\n",
       "<span style=\"color: #7fbfbf; text-decoration-color: #7fbfbf\">             </span>the billed FlexCredit cost after a simulation run.                 \n",
       "</pre>\n"
      ],
      "text/plain": [
       "\u001b[2;36m17:05:53 PST\u001b[0m\u001b[2;36m \u001b[0mMaximum FlexCredit cost: \u001b[1;36m0.901\u001b[0m. Use \u001b[32m'web.real_cost\u001b[0m\u001b[32m(\u001b[0m\u001b[32mtask_id\u001b[0m\u001b[32m)\u001b[0m\u001b[32m'\u001b[0m to get\n",
       "\u001b[2;36m             \u001b[0mthe billed FlexCredit cost after a simulation run.                 \n"
      ]
     },
     "metadata": {},
     "output_type": "display_data"
    },
    {
     "data": {
      "text/html": [
       "<pre style=\"white-space:pre;overflow-x:auto;line-height:normal;font-family:Menlo,'DejaVu Sans Mono',consolas,'Courier New',monospace\"><span style=\"color: #7fbfbf; text-decoration-color: #7fbfbf\">             </span>starting up solver                                                 \n",
       "</pre>\n"
      ],
      "text/plain": [
       "\u001b[2;36m            \u001b[0m\u001b[2;36m \u001b[0mstarting up solver                                                 \n"
      ]
     },
     "metadata": {},
     "output_type": "display_data"
    },
    {
     "data": {
      "text/html": [
       "<pre style=\"white-space:pre;overflow-x:auto;line-height:normal;font-family:Menlo,'DejaVu Sans Mono',consolas,'Courier New',monospace\"><span style=\"color: #7fbfbf; text-decoration-color: #7fbfbf\">             </span>running solver                                                     \n",
       "</pre>\n"
      ],
      "text/plain": [
       "\u001b[2;36m            \u001b[0m\u001b[2;36m \u001b[0mrunning solver                                                     \n"
      ]
     },
     "metadata": {},
     "output_type": "display_data"
    },
    {
     "data": {
      "text/html": [
       "<pre style=\"white-space:pre;overflow-x:auto;line-height:normal;font-family:Menlo,'DejaVu Sans Mono',consolas,'Courier New',monospace\"><span style=\"color: #7fbfbf; text-decoration-color: #7fbfbf\">             </span>To cancel the simulation, use <span style=\"color: #008000; text-decoration-color: #008000\">'web.abort(task_id)'</span> or              \n",
       "<span style=\"color: #7fbfbf; text-decoration-color: #7fbfbf\">             </span><span style=\"color: #008000; text-decoration-color: #008000\">'web.delete(task_id)'</span> or abort/delete the task in the web UI.      \n",
       "<span style=\"color: #7fbfbf; text-decoration-color: #7fbfbf\">             </span>Terminating the Python script will not stop the job running on the \n",
       "<span style=\"color: #7fbfbf; text-decoration-color: #7fbfbf\">             </span>cloud.                                                             \n",
       "</pre>\n"
      ],
      "text/plain": [
       "\u001b[2;36m            \u001b[0m\u001b[2;36m \u001b[0mTo cancel the simulation, use \u001b[32m'web.abort\u001b[0m\u001b[32m(\u001b[0m\u001b[32mtask_id\u001b[0m\u001b[32m)\u001b[0m\u001b[32m'\u001b[0m or              \n",
       "\u001b[2;36m             \u001b[0m\u001b[32m'web.delete\u001b[0m\u001b[32m(\u001b[0m\u001b[32mtask_id\u001b[0m\u001b[32m)\u001b[0m\u001b[32m'\u001b[0m or abort/delete the task in the web UI.      \n",
       "\u001b[2;36m             \u001b[0mTerminating the Python script will not stop the job running on the \n",
       "\u001b[2;36m             \u001b[0mcloud.                                                             \n"
      ]
     },
     "metadata": {},
     "output_type": "display_data"
    },
    {
     "data": {
      "application/vnd.jupyter.widget-view+json": {
       "model_id": "99ac91dde95e4de1a8afa39ff0158334",
       "version_major": 2,
       "version_minor": 0
      },
      "text/plain": [
       "Output()"
      ]
     },
     "metadata": {},
     "output_type": "display_data"
    },
    {
     "data": {
      "text/html": [
       "<pre style=\"white-space:pre;overflow-x:auto;line-height:normal;font-family:Menlo,'DejaVu Sans Mono',consolas,'Courier New',monospace\"><span style=\"color: #7fbfbf; text-decoration-color: #7fbfbf\">17:08:40 PST </span>early shutoff detected at <span style=\"color: #008080; text-decoration-color: #008080; font-weight: bold\">60</span>%, exiting.                            \n",
       "</pre>\n"
      ],
      "text/plain": [
       "\u001b[2;36m17:08:40 PST\u001b[0m\u001b[2;36m \u001b[0mearly shutoff detected at \u001b[1;36m60\u001b[0m%, exiting.                            \n"
      ]
     },
     "metadata": {},
     "output_type": "display_data"
    },
    {
     "data": {
      "text/html": [
       "<pre style=\"white-space:pre;overflow-x:auto;line-height:normal;font-family:Menlo,'DejaVu Sans Mono',consolas,'Courier New',monospace\"></pre>\n"
      ],
      "text/plain": []
     },
     "metadata": {},
     "output_type": "display_data"
    },
    {
     "data": {
      "text/html": [
       "<pre style=\"white-space:pre;overflow-x:auto;line-height:normal;font-family:Menlo,'DejaVu Sans Mono',consolas,'Courier New',monospace\">\n",
       "</pre>\n"
      ],
      "text/plain": [
       "\n"
      ]
     },
     "metadata": {},
     "output_type": "display_data"
    },
    {
     "data": {
      "text/html": [
       "<pre style=\"white-space:pre;overflow-x:auto;line-height:normal;font-family:Menlo,'DejaVu Sans Mono',consolas,'Courier New',monospace\"><span style=\"color: #7fbfbf; text-decoration-color: #7fbfbf\">17:08:41 PST </span>status = postprocess                                               \n",
       "</pre>\n"
      ],
      "text/plain": [
       "\u001b[2;36m17:08:41 PST\u001b[0m\u001b[2;36m \u001b[0mstatus = postprocess                                               \n"
      ]
     },
     "metadata": {},
     "output_type": "display_data"
    },
    {
     "data": {
      "application/vnd.jupyter.widget-view+json": {
       "model_id": "456cd11e7fb04a9fa76a0de2698522f2",
       "version_major": 2,
       "version_minor": 0
      },
      "text/plain": [
       "Output()"
      ]
     },
     "metadata": {},
     "output_type": "display_data"
    },
    {
     "data": {
      "text/html": [
       "<pre style=\"white-space:pre;overflow-x:auto;line-height:normal;font-family:Menlo,'DejaVu Sans Mono',consolas,'Courier New',monospace\"><span style=\"color: #7fbfbf; text-decoration-color: #7fbfbf\">17:08:43 PST </span>status = success                                                   \n",
       "</pre>\n"
      ],
      "text/plain": [
       "\u001b[2;36m17:08:43 PST\u001b[0m\u001b[2;36m \u001b[0mstatus = success                                                   \n"
      ]
     },
     "metadata": {},
     "output_type": "display_data"
    },
    {
     "data": {
      "text/html": [
       "<pre style=\"white-space:pre;overflow-x:auto;line-height:normal;font-family:Menlo,'DejaVu Sans Mono',consolas,'Courier New',monospace\"></pre>\n"
      ],
      "text/plain": []
     },
     "metadata": {},
     "output_type": "display_data"
    },
    {
     "data": {
      "text/html": [
       "<pre style=\"white-space:pre;overflow-x:auto;line-height:normal;font-family:Menlo,'DejaVu Sans Mono',consolas,'Courier New',monospace\"><span style=\"color: #7fbfbf; text-decoration-color: #7fbfbf\">             </span>View simulation result at                                          \n",
       "<span style=\"color: #7fbfbf; text-decoration-color: #7fbfbf\">             </span><a href=\"https://tidy3d.simulation.cloud/workbench?taskId=fdve-f21d5e74-a13d-4af1-af56-c4492455eceb\" target=\"_blank\"><span style=\"color: #000080; text-decoration-color: #000080; text-decoration: underline\">'https://tidy3d.simulation.cloud/workbench?taskId=fdve-f21d5e74-a13</span></a>\n",
       "<span style=\"color: #7fbfbf; text-decoration-color: #7fbfbf\">             </span><a href=\"https://tidy3d.simulation.cloud/workbench?taskId=fdve-f21d5e74-a13d-4af1-af56-c4492455eceb\" target=\"_blank\"><span style=\"color: #000080; text-decoration-color: #000080; text-decoration: underline\">d-4af1-af56-c4492455eceb'</span></a><span style=\"color: #000080; text-decoration-color: #000080; text-decoration: underline\">.</span>                                         \n",
       "</pre>\n"
      ],
      "text/plain": [
       "\u001b[2;36m            \u001b[0m\u001b[2;36m \u001b[0mView simulation result at                                          \n",
       "\u001b[2;36m             \u001b[0m\u001b]8;id=657264;https://tidy3d.simulation.cloud/workbench?taskId=fdve-f21d5e74-a13d-4af1-af56-c4492455eceb\u001b\\\u001b[4;34m'https://tidy3d.simulation.cloud/workbench?\u001b[0m\u001b]8;;\u001b\\\u001b]8;id=677254;https://tidy3d.simulation.cloud/workbench?taskId=fdve-f21d5e74-a13d-4af1-af56-c4492455eceb\u001b\\\u001b[4;34mtaskId\u001b[0m\u001b]8;;\u001b\\\u001b]8;id=657264;https://tidy3d.simulation.cloud/workbench?taskId=fdve-f21d5e74-a13d-4af1-af56-c4492455eceb\u001b\\\u001b[4;34m=\u001b[0m\u001b]8;;\u001b\\\u001b]8;id=719864;https://tidy3d.simulation.cloud/workbench?taskId=fdve-f21d5e74-a13d-4af1-af56-c4492455eceb\u001b\\\u001b[4;34mfdve\u001b[0m\u001b]8;;\u001b\\\u001b]8;id=657264;https://tidy3d.simulation.cloud/workbench?taskId=fdve-f21d5e74-a13d-4af1-af56-c4492455eceb\u001b\\\u001b[4;34m-f21d5e74-a13\u001b[0m\u001b]8;;\u001b\\\n",
       "\u001b[2;36m             \u001b[0m\u001b]8;id=657264;https://tidy3d.simulation.cloud/workbench?taskId=fdve-f21d5e74-a13d-4af1-af56-c4492455eceb\u001b\\\u001b[4;34md-4af1-af56-c4492455eceb'\u001b[0m\u001b]8;;\u001b\\\u001b[4;34m.\u001b[0m                                         \n"
      ]
     },
     "metadata": {},
     "output_type": "display_data"
    },
    {
     "data": {
      "application/vnd.jupyter.widget-view+json": {
       "model_id": "1d52868dd5fb40a49ddf063a21124cef",
       "version_major": 2,
       "version_minor": 0
      },
      "text/plain": [
       "Output()"
      ]
     },
     "metadata": {},
     "output_type": "display_data"
    },
    {
     "data": {
      "text/html": [
       "<pre style=\"white-space:pre;overflow-x:auto;line-height:normal;font-family:Menlo,'DejaVu Sans Mono',consolas,'Courier New',monospace\"></pre>\n"
      ],
      "text/plain": []
     },
     "metadata": {},
     "output_type": "display_data"
    },
    {
     "data": {
      "text/html": [
       "<pre style=\"white-space:pre;overflow-x:auto;line-height:normal;font-family:Menlo,'DejaVu Sans Mono',consolas,'Courier New',monospace\">\n",
       "</pre>\n"
      ],
      "text/plain": [
       "\n"
      ]
     },
     "metadata": {},
     "output_type": "display_data"
    },
    {
     "data": {
      "text/html": [
       "<pre style=\"white-space:pre;overflow-x:auto;line-height:normal;font-family:Menlo,'DejaVu Sans Mono',consolas,'Courier New',monospace\"><span style=\"color: #7fbfbf; text-decoration-color: #7fbfbf\">17:08:47 PST </span>loading simulation from data/simulation_data.hdf5                  \n",
       "</pre>\n"
      ],
      "text/plain": [
       "\u001b[2;36m17:08:47 PST\u001b[0m\u001b[2;36m \u001b[0mloading simulation from data/simulation_data.hdf5                  \n"
      ]
     },
     "metadata": {},
     "output_type": "display_data"
    },
    {
     "data": {
      "text/html": [
       "<pre style=\"white-space:pre;overflow-x:auto;line-height:normal;font-family:Menlo,'DejaVu Sans Mono',consolas,'Courier New',monospace\"><span style=\"color: #7fbfbf; text-decoration-color: #7fbfbf\">             </span><span style=\"color: #800000; text-decoration-color: #800000\">WARNING: Monitor data requires </span><span style=\"color: #008000; text-decoration-color: #008000\">'grid_expanded'</span><span style=\"color: #800000; text-decoration-color: #800000\"> to be defined to    </span>\n",
       "<span style=\"color: #7fbfbf; text-decoration-color: #7fbfbf\">             </span><span style=\"color: #800000; text-decoration-color: #800000\">compute values like flux, Poynting and dot product with other data.</span>\n",
       "</pre>\n"
      ],
      "text/plain": [
       "\u001b[2;36m            \u001b[0m\u001b[2;36m \u001b[0m\u001b[31mWARNING: Monitor data requires \u001b[0m\u001b[32m'grid_expanded'\u001b[0m\u001b[31m to be defined to    \u001b[0m\n",
       "\u001b[2;36m             \u001b[0m\u001b[31mcompute values like flux, Poynting and dot product with other data.\u001b[0m\n"
      ]
     },
     "metadata": {},
     "output_type": "display_data"
    },
    {
     "data": {
      "text/html": [
       "<pre style=\"white-space:pre;overflow-x:auto;line-height:normal;font-family:Menlo,'DejaVu Sans Mono',consolas,'Courier New',monospace\"><span style=\"color: #7fbfbf; text-decoration-color: #7fbfbf\">             </span><span style=\"color: #800000; text-decoration-color: #800000\">WARNING: Monitor data requires </span><span style=\"color: #008000; text-decoration-color: #008000\">'grid_expanded'</span><span style=\"color: #800000; text-decoration-color: #800000\"> to be defined to    </span>\n",
       "<span style=\"color: #7fbfbf; text-decoration-color: #7fbfbf\">             </span><span style=\"color: #800000; text-decoration-color: #800000\">compute values like flux, Poynting and dot product with other data.</span>\n",
       "</pre>\n"
      ],
      "text/plain": [
       "\u001b[2;36m            \u001b[0m\u001b[2;36m \u001b[0m\u001b[31mWARNING: Monitor data requires \u001b[0m\u001b[32m'grid_expanded'\u001b[0m\u001b[31m to be defined to    \u001b[0m\n",
       "\u001b[2;36m             \u001b[0m\u001b[31mcompute values like flux, Poynting and dot product with other data.\u001b[0m\n"
      ]
     },
     "metadata": {},
     "output_type": "display_data"
    },
    {
     "data": {
      "text/html": [
       "<pre style=\"white-space:pre;overflow-x:auto;line-height:normal;font-family:Menlo,'DejaVu Sans Mono',consolas,'Courier New',monospace\"><span style=\"color: #7fbfbf; text-decoration-color: #7fbfbf\">             </span><span style=\"color: #800000; text-decoration-color: #800000\">WARNING: Monitor data requires </span><span style=\"color: #008000; text-decoration-color: #008000\">'grid_expanded'</span><span style=\"color: #800000; text-decoration-color: #800000\"> to be defined to    </span>\n",
       "<span style=\"color: #7fbfbf; text-decoration-color: #7fbfbf\">             </span><span style=\"color: #800000; text-decoration-color: #800000\">compute values like flux, Poynting and dot product with other data.</span>\n",
       "</pre>\n"
      ],
      "text/plain": [
       "\u001b[2;36m            \u001b[0m\u001b[2;36m \u001b[0m\u001b[31mWARNING: Monitor data requires \u001b[0m\u001b[32m'grid_expanded'\u001b[0m\u001b[31m to be defined to    \u001b[0m\n",
       "\u001b[2;36m             \u001b[0m\u001b[31mcompute values like flux, Poynting and dot product with other data.\u001b[0m\n"
      ]
     },
     "metadata": {},
     "output_type": "display_data"
    },
    {
     "data": {
      "text/html": [
       "<pre style=\"white-space:pre;overflow-x:auto;line-height:normal;font-family:Menlo,'DejaVu Sans Mono',consolas,'Courier New',monospace\"><span style=\"color: #7fbfbf; text-decoration-color: #7fbfbf\">             </span><span style=\"color: #800000; text-decoration-color: #800000\">WARNING: Monitor data requires </span><span style=\"color: #008000; text-decoration-color: #008000\">'grid_expanded'</span><span style=\"color: #800000; text-decoration-color: #800000\"> to be defined to    </span>\n",
       "<span style=\"color: #7fbfbf; text-decoration-color: #7fbfbf\">             </span><span style=\"color: #800000; text-decoration-color: #800000\">compute values like flux, Poynting and dot product with other data.</span>\n",
       "</pre>\n"
      ],
      "text/plain": [
       "\u001b[2;36m            \u001b[0m\u001b[2;36m \u001b[0m\u001b[31mWARNING: Monitor data requires \u001b[0m\u001b[32m'grid_expanded'\u001b[0m\u001b[31m to be defined to    \u001b[0m\n",
       "\u001b[2;36m             \u001b[0m\u001b[31mcompute values like flux, Poynting and dot product with other data.\u001b[0m\n"
      ]
     },
     "metadata": {},
     "output_type": "display_data"
    }
   ],
   "source": [
    "job = web.Job(simulation=sim, task_name=\"optical_hybrid_signal_input\", verbose=True)\n",
    "sim_data = job.run(path=\"data/simulation_data.hdf5\")\n"
   ]
  },
  {
   "cell_type": "markdown",
   "id": "7c35b8bb",
   "metadata": {},
   "source": [
    "Visualize the field intensity distribution."
   ]
  },
  {
   "cell_type": "code",
   "execution_count": 22,
   "id": "03f76087",
   "metadata": {
    "execution": {
     "iopub.execute_input": "2024-02-17T01:08:50.867440Z",
     "iopub.status.busy": "2024-02-17T01:08:50.867304Z",
     "iopub.status.idle": "2024-02-17T01:08:53.477878Z",
     "shell.execute_reply": "2024-02-17T01:08:53.477364Z"
    }
   },
   "outputs": [
    {
     "data": {
      "image/png": "[encoded data removed]",
      "text/plain": [
       "<Figure size 640x480 with 2 Axes>"
      ]
     },
     "metadata": {},
     "output_type": "display_data"
    }
   ],
   "source": [
    "sim_data.plot_field(field_monitor_name=\"field\", field_name=\"E\", val=\"abs^2\", vmax=1500)\n",
    "plt.show()\n"
   ]
  },
  {
   "cell_type": "markdown",
   "id": "312ceacd",
   "metadata": {},
   "source": [
    "Calculate those FOMs and plot the results. Since the signal port is the left waveguide of the bottom MMI, CMRR$_I$ and CMRR$_Q$ are expected to be slghtly different. The device performance according to the insertion loss, CMRR, and Imbalance is comparable to the case with input from the LO port. In addition, from the phase simulation, we know the phase error is going to be small too. This means the overall design of the 90 degree optical hybrid works very well."
   ]
  },
  {
   "cell_type": "code",
   "execution_count": 23,
   "id": "46801e77",
   "metadata": {
    "execution": {
     "iopub.execute_input": "2024-02-17T01:08:53.482317Z",
     "iopub.status.busy": "2024-02-17T01:08:53.482009Z",
     "iopub.status.idle": "2024-02-17T01:08:53.983648Z",
     "shell.execute_reply": "2024-02-17T01:08:53.983067Z"
    }
   },
   "outputs": [
    {
     "data": {
      "text/html": [
       "<pre style=\"white-space:pre;overflow-x:auto;line-height:normal;font-family:Menlo,'DejaVu Sans Mono',consolas,'Courier New',monospace\"><span style=\"color: #7fbfbf; text-decoration-color: #7fbfbf\">17:08:53 PST </span><span style=\"color: #800000; text-decoration-color: #800000\">WARNING: Monitor data requires </span><span style=\"color: #008000; text-decoration-color: #008000\">'grid_expanded'</span><span style=\"color: #800000; text-decoration-color: #800000\"> to be defined to    </span>\n",
       "<span style=\"color: #7fbfbf; text-decoration-color: #7fbfbf\">             </span><span style=\"color: #800000; text-decoration-color: #800000\">compute values like flux, Poynting and dot product with other data.</span>\n",
       "</pre>\n"
      ],
      "text/plain": [
       "\u001b[2;36m17:08:53 PST\u001b[0m\u001b[2;36m \u001b[0m\u001b[31mWARNING: Monitor data requires \u001b[0m\u001b[32m'grid_expanded'\u001b[0m\u001b[31m to be defined to    \u001b[0m\n",
       "\u001b[2;36m             \u001b[0m\u001b[31mcompute values like flux, Poynting and dot product with other data.\u001b[0m\n"
      ]
     },
     "metadata": {},
     "output_type": "display_data"
    },
    {
     "data": {
      "text/html": [
       "<pre style=\"white-space:pre;overflow-x:auto;line-height:normal;font-family:Menlo,'DejaVu Sans Mono',consolas,'Courier New',monospace\"><span style=\"color: #7fbfbf; text-decoration-color: #7fbfbf\">             </span><span style=\"color: #800000; text-decoration-color: #800000\">WARNING: Monitor data requires </span><span style=\"color: #008000; text-decoration-color: #008000\">'grid_expanded'</span><span style=\"color: #800000; text-decoration-color: #800000\"> to be defined to    </span>\n",
       "<span style=\"color: #7fbfbf; text-decoration-color: #7fbfbf\">             </span><span style=\"color: #800000; text-decoration-color: #800000\">compute values like flux, Poynting and dot product with other data.</span>\n",
       "</pre>\n"
      ],
      "text/plain": [
       "\u001b[2;36m            \u001b[0m\u001b[2;36m \u001b[0m\u001b[31mWARNING: Monitor data requires \u001b[0m\u001b[32m'grid_expanded'\u001b[0m\u001b[31m to be defined to    \u001b[0m\n",
       "\u001b[2;36m             \u001b[0m\u001b[31mcompute values like flux, Poynting and dot product with other data.\u001b[0m\n"
      ]
     },
     "metadata": {},
     "output_type": "display_data"
    },
    {
     "data": {
      "text/html": [
       "<pre style=\"white-space:pre;overflow-x:auto;line-height:normal;font-family:Menlo,'DejaVu Sans Mono',consolas,'Courier New',monospace\"><span style=\"color: #7fbfbf; text-decoration-color: #7fbfbf\">             </span><span style=\"color: #800000; text-decoration-color: #800000\">WARNING: Monitor data requires </span><span style=\"color: #008000; text-decoration-color: #008000\">'grid_expanded'</span><span style=\"color: #800000; text-decoration-color: #800000\"> to be defined to    </span>\n",
       "<span style=\"color: #7fbfbf; text-decoration-color: #7fbfbf\">             </span><span style=\"color: #800000; text-decoration-color: #800000\">compute values like flux, Poynting and dot product with other data.</span>\n",
       "</pre>\n"
      ],
      "text/plain": [
       "\u001b[2;36m            \u001b[0m\u001b[2;36m \u001b[0m\u001b[31mWARNING: Monitor data requires \u001b[0m\u001b[32m'grid_expanded'\u001b[0m\u001b[31m to be defined to    \u001b[0m\n",
       "\u001b[2;36m             \u001b[0m\u001b[31mcompute values like flux, Poynting and dot product with other data.\u001b[0m\n"
      ]
     },
     "metadata": {},
     "output_type": "display_data"
    },
    {
     "data": {
      "text/html": [
       "<pre style=\"white-space:pre;overflow-x:auto;line-height:normal;font-family:Menlo,'DejaVu Sans Mono',consolas,'Courier New',monospace\"><span style=\"color: #7fbfbf; text-decoration-color: #7fbfbf\">             </span><span style=\"color: #800000; text-decoration-color: #800000\">WARNING: Monitor data requires </span><span style=\"color: #008000; text-decoration-color: #008000\">'grid_expanded'</span><span style=\"color: #800000; text-decoration-color: #800000\"> to be defined to    </span>\n",
       "<span style=\"color: #7fbfbf; text-decoration-color: #7fbfbf\">             </span><span style=\"color: #800000; text-decoration-color: #800000\">compute values like flux, Poynting and dot product with other data.</span>\n",
       "</pre>\n"
      ],
      "text/plain": [
       "\u001b[2;36m            \u001b[0m\u001b[2;36m \u001b[0m\u001b[31mWARNING: Monitor data requires \u001b[0m\u001b[32m'grid_expanded'\u001b[0m\u001b[31m to be defined to    \u001b[0m\n",
       "\u001b[2;36m             \u001b[0m\u001b[31mcompute values like flux, Poynting and dot product with other data.\u001b[0m\n"
      ]
     },
     "metadata": {},
     "output_type": "display_data"
    },
    {
     "data": {
      "image/png": "[encoded data removed]",
      "text/plain": [
       "<Figure size 600x1000 with 3 Axes>"
      ]
     },
     "metadata": {},
     "output_type": "display_data"
    }
   ],
   "source": [
    "calculate_FOM(sim_data)\n"
   ]
  },
  {
   "cell_type": "code",
   "execution_count": null,
   "id": "33b24fec",
   "metadata": {},
   "outputs": [],
   "source": []
  }
 ],
 "metadata": {
  "description": "This notebook demonstrates how to model a 90 degree optical hybrid in Tidy3D FDTD.",
  "feature_image": "./img/optical_hybrid_schematic.png",
  "kernelspec": {
   "display_name": "Python 3 (ipykernel)",
   "language": "python",
   "name": "python3"
  },
  "keywords": "silicon photonics, PIC, integrated photonics, optical hybrid, MMI, Tidy3D, FDTD",
  "language_info": {
   "codemirror_mode": {
    "name": "ipython",
    "version": 3
   },
   "file_extension": ".py",
   "mimetype": "text/x-python",
   "name": "python",
   "nbconvert_exporter": "python",
   "pygments_lexer": "ipython3",
   "version": "3.10.13"
  },
  "title": "90 Degree Optical Hybrid Modeling in Tidy3D | Flexcompute",
  "widgets": {
   "application/vnd.jupyter.widget-state+json": {
    "state": {
     "06d830f4f76441c6a46cf0cf94d7577e": {
      "model_module": "@jupyter-widgets/output",
      "model_module_version": "1.0.0",
      "model_name": "OutputModel",
      "state": {
       "_dom_classes": [],
       "_model_module": "@jupyter-widgets/output",
       "_model_module_version": "1.0.0",
       "_model_name": "OutputModel",
       "_view_count": null,
       "_view_module": "@jupyter-widgets/output",
       "_view_module_version": "1.0.0",
       "_view_name": "OutputView",
       "layout": "IPY_MODEL_626557c5ccdd4abca597a9d0b17df226",
       "msg_id": "",
       "outputs": [
        {
         "data": {
          "text/html": "<pre style=\"white-space:pre;overflow-x:auto;line-height:normal;font-family:Menlo,'DejaVu Sans Mono',consolas,'Courier New',monospace\">solver progress (field decay = 6.00e-06) <span style=\"color: #729c1f; text-decoration-color: #729c1f\">━━━━━━━━━━━━━━━━━━━━━━━━━━</span> <span style=\"color: #800080; text-decoration-color: #800080\">100%</span> <span style=\"color: #008080; text-decoration-color: #008080\">0:00:00</span>\n</pre>\n",
          "text/plain": "solver progress (field decay = 6.00e-06) \u001b[38;2;114;156;31m━━━━━━━━━━━━━━━━━━━━━━━━━━\u001b[0m \u001b[35m100%\u001b[0m \u001b[36m0:00:00\u001b[0m\n"
         },
         "metadata": {},
         "output_type": "display_data"
        }
       ],
       "tabbable": null,
       "tooltip": null
      }
     },
     "1a89220f7ca54483812f64f795221cff": {
      "model_module": "@jupyter-widgets/base",
      "model_module_version": "2.0.0",
      "model_name": "LayoutModel",
      "state": {
       "_model_module": "@jupyter-widgets/base",
       "_model_module_version": "2.0.0",
       "_model_name": "LayoutModel",
       "_view_count": null,
       "_view_module": "@jupyter-widgets/base",
       "_view_module_version": "2.0.0",
       "_view_name": "LayoutView",
       "align_content": null,
       "align_items": null,
       "align_self": null,
       "border_bottom": null,
       "border_left": null,
       "border_right": null,
       "border_top": null,
       "bottom": null,
       "display": null,
       "flex": null,
       "flex_flow": null,
       "grid_area": null,
       "grid_auto_columns": null,
       "grid_auto_flow": null,
       "grid_auto_rows": null,
       "grid_column": null,
       "grid_gap": null,
       "grid_row": null,
       "grid_template_areas": null,
       "grid_template_columns": null,
       "grid_template_rows": null,
       "height": null,
       "justify_content": null,
       "justify_items": null,
       "left": null,
       "margin": null,
       "max_height": null,
       "max_width": null,
       "min_height": null,
       "min_width": null,
       "object_fit": null,
       "object_position": null,
       "order": null,
       "overflow": null,
       "padding": null,
       "right": null,
       "top": null,
       "visibility": null,
       "width": null
      }
     },
     "1d52868dd5fb40a49ddf063a21124cef": {
      "model_module": "@jupyter-widgets/output",
      "model_module_version": "1.0.0",
      "model_name": "OutputModel",
      "state": {
       "_dom_classes": [],
       "_model_module": "@jupyter-widgets/output",
       "_model_module_version": "1.0.0",
       "_model_name": "OutputModel",
       "_view_count": null,
       "_view_module": "@jupyter-widgets/output",
       "_view_module_version": "1.0.0",
       "_view_name": "OutputView",
       "layout": "IPY_MODEL_f30192fc2de94f819f3c6a05d40be50f",
       "msg_id": "",
       "outputs": [
        {
         "data": {
          "text/html": "<pre style=\"white-space:pre;overflow-x:auto;line-height:normal;font-family:Menlo,'DejaVu Sans Mono',consolas,'Courier New',monospace\"><span style=\"color: #008000; text-decoration-color: #008000; font-weight: bold\">↓</span> <span style=\"color: #000080; text-decoration-color: #000080; font-weight: bold\">simulation_data.hdf5.gz</span> <span style=\"color: #729c1f; text-decoration-color: #729c1f\">━━━━━━━━━━━</span> <span style=\"color: #800080; text-decoration-color: #800080\">100.0%</span> • <span style=\"color: #008000; text-decoration-color: #008000\">69.8/69.8  </span> • <span style=\"color: #800000; text-decoration-color: #800000\">24.2 MB/s</span> • <span style=\"color: #008080; text-decoration-color: #008080\">0:00:00</span>\n                                               <span style=\"color: #008000; text-decoration-color: #008000\">MB         </span>                      \n</pre>\n",
          "text/plain": "\u001b[1;32m↓\u001b[0m \u001b[1;34msimulation_data.hdf5.gz\u001b[0m \u001b[38;2;114;156;31m━━━━━━━━━━━\u001b[0m \u001b[35m100.0%\u001b[0m • \u001b[32m69.8/69.8  \u001b[0m • \u001b[31m24.2 MB/s\u001b[0m • \u001b[36m0:00:00\u001b[0m\n                                               \u001b[32mMB         \u001b[0m                      \n"
         },
         "metadata": {},
         "output_type": "display_data"
        }
       ],
       "tabbable": null,
       "tooltip": null
      }
     },
     "337f7469cb1c4b6ebf7edc80bfe0d943": {
      "model_module": "@jupyter-widgets/output",
      "model_module_version": "1.0.0",
      "model_name": "OutputModel",
      "state": {
       "_dom_classes": [],
       "_model_module": "@jupyter-widgets/output",
       "_model_module_version": "1.0.0",
       "_model_name": "OutputModel",
       "_view_count": null,
       "_view_module": "@jupyter-widgets/output",
       "_view_module_version": "1.0.0",
       "_view_name": "OutputView",
       "layout": "IPY_MODEL_74d11400ca2049e2907acb342e456d0b",
       "msg_id": "",
       "outputs": [
        {
         "data": {
          "text/html": "<pre style=\"white-space:pre;overflow-x:auto;line-height:normal;font-family:Menlo,'DejaVu Sans Mono',consolas,'Courier New',monospace\"><span style=\"color: #008000; text-decoration-color: #008000\">🚶 </span> <span style=\"color: #008000; text-decoration-color: #008000; font-weight: bold\">Finishing 'optical_hybrid_lo_input'...</span>\n</pre>\n",
          "text/plain": "\u001b[32m🚶 \u001b[0m \u001b[1;32mFinishing 'optical_hybrid_lo_input'...\u001b[0m\n"
         },
         "metadata": {},
         "output_type": "display_data"
        }
       ],
       "tabbable": null,
       "tooltip": null
      }
     },
     "378259cb866a4b58b6b02e403203bdb0": {
      "model_module": "@jupyter-widgets/base",
      "model_module_version": "2.0.0",
      "model_name": "LayoutModel",
      "state": {
       "_model_module": "@jupyter-widgets/base",
       "_model_module_version": "2.0.0",
       "_model_name": "LayoutModel",
       "_view_count": null,
       "_view_module": "@jupyter-widgets/base",
       "_view_module_version": "2.0.0",
       "_view_name": "LayoutView",
       "align_content": null,
       "align_items": null,
       "align_self": null,
       "border_bottom": null,
       "border_left": null,
       "border_right": null,
       "border_top": null,
       "bottom": null,
       "display": null,
       "flex": null,
       "flex_flow": null,
       "grid_area": null,
       "grid_auto_columns": null,
       "grid_auto_flow": null,
       "grid_auto_rows": null,
       "grid_column": null,
       "grid_gap": null,
       "grid_row": null,
       "grid_template_areas": null,
       "grid_template_columns": null,
       "grid_template_rows": null,
       "height": null,
       "justify_content": null,
       "justify_items": null,
       "left": null,
       "margin": null,
       "max_height": null,
       "max_width": null,
       "min_height": null,
       "min_width": null,
       "object_fit": null,
       "object_position": null,
       "order": null,
       "overflow": null,
       "padding": null,
       "right": null,
       "top": null,
       "visibility": null,
       "width": null
      }
     },
     "3843d0d2dd9843c9b94c102a65766d13": {
      "model_module": "@jupyter-widgets/base",
      "model_module_version": "2.0.0",
      "model_name": "LayoutModel",
      "state": {
       "_model_module": "@jupyter-widgets/base",
       "_model_module_version": "2.0.0",
       "_model_name": "LayoutModel",
       "_view_count": null,
       "_view_module": "@jupyter-widgets/base",
       "_view_module_version": "2.0.0",
       "_view_name": "LayoutView",
       "align_content": null,
       "align_items": null,
       "align_self": null,
       "border_bottom": null,
       "border_left": null,
       "border_right": null,
       "border_top": null,
       "bottom": null,
       "display": null,
       "flex": null,
       "flex_flow": null,
       "grid_area": null,
       "grid_auto_columns": null,
       "grid_auto_flow": null,
       "grid_auto_rows": null,
       "grid_column": null,
       "grid_gap": null,
       "grid_row": null,
       "grid_template_areas": null,
       "grid_template_columns": null,
       "grid_template_rows": null,
       "height": null,
       "justify_content": null,
       "justify_items": null,
       "left": null,
       "margin": null,
       "max_height": null,
       "max_width": null,
       "min_height": null,
       "min_width": null,
       "object_fit": null,
       "object_position": null,
       "order": null,
       "overflow": null,
       "padding": null,
       "right": null,
       "top": null,
       "visibility": null,
       "width": null
      }
     },
     "456cd11e7fb04a9fa76a0de2698522f2": {
      "model_module": "@jupyter-widgets/output",
      "model_module_version": "1.0.0",
      "model_name": "OutputModel",
      "state": {
       "_dom_classes": [],
       "_model_module": "@jupyter-widgets/output",
       "_model_module_version": "1.0.0",
       "_model_name": "OutputModel",
       "_view_count": null,
       "_view_module": "@jupyter-widgets/output",
       "_view_module_version": "1.0.0",
       "_view_name": "OutputView",
       "layout": "IPY_MODEL_5a345a5d43d44b548e4e9eb54a35a8d1",
       "msg_id": "",
       "outputs": [
        {
         "data": {
          "text/html": "<pre style=\"white-space:pre;overflow-x:auto;line-height:normal;font-family:Menlo,'DejaVu Sans Mono',consolas,'Courier New',monospace\"><span style=\"color: #008000; text-decoration-color: #008000\">🏃 </span> <span style=\"color: #008000; text-decoration-color: #008000; font-weight: bold\">Finishing 'optical_hybrid_signal_input'...</span>\n</pre>\n",
          "text/plain": "\u001b[32m🏃 \u001b[0m \u001b[1;32mFinishing 'optical_hybrid_signal_input'...\u001b[0m\n"
         },
         "metadata": {},
         "output_type": "display_data"
        }
       ],
       "tabbable": null,
       "tooltip": null
      }
     },
     "5a345a5d43d44b548e4e9eb54a35a8d1": {
      "model_module": "@jupyter-widgets/base",
      "model_module_version": "2.0.0",
      "model_name": "LayoutModel",
      "state": {
       "_model_module": "@jupyter-widgets/base",
       "_model_module_version": "2.0.0",
       "_model_name": "LayoutModel",
       "_view_count": null,
       "_view_module": "@jupyter-widgets/base",
       "_view_module_version": "2.0.0",
       "_view_name": "LayoutView",
       "align_content": null,
       "align_items": null,
       "align_self": null,
       "border_bottom": null,
       "border_left": null,
       "border_right": null,
       "border_top": null,
       "bottom": null,
       "display": null,
       "flex": null,
       "flex_flow": null,
       "grid_area": null,
       "grid_auto_columns": null,
       "grid_auto_flow": null,
       "grid_auto_rows": null,
       "grid_column": null,
       "grid_gap": null,
       "grid_row": null,
       "grid_template_areas": null,
       "grid_template_columns": null,
       "grid_template_rows": null,
       "height": null,
       "justify_content": null,
       "justify_items": null,
       "left": null,
       "margin": null,
       "max_height": null,
       "max_width": null,
       "min_height": null,
       "min_width": null,
       "object_fit": null,
       "object_position": null,
       "order": null,
       "overflow": null,
       "padding": null,
       "right": null,
       "top": null,
       "visibility": null,
       "width": null
      }
     },
     "626557c5ccdd4abca597a9d0b17df226": {
      "model_module": "@jupyter-widgets/base",
      "model_module_version": "2.0.0",
      "model_name": "LayoutModel",
      "state": {
       "_model_module": "@jupyter-widgets/base",
       "_model_module_version": "2.0.0",
       "_model_name": "LayoutModel",
       "_view_count": null,
       "_view_module": "@jupyter-widgets/base",
       "_view_module_version": "2.0.0",
       "_view_name": "LayoutView",
       "align_content": null,
       "align_items": null,
       "align_self": null,
       "border_bottom": null,
       "border_left": null,
       "border_right": null,
       "border_top": null,
       "bottom": null,
       "display": null,
       "flex": null,
       "flex_flow": null,
       "grid_area": null,
       "grid_auto_columns": null,
       "grid_auto_flow": null,
       "grid_auto_rows": null,
       "grid_column": null,
       "grid_gap": null,
       "grid_row": null,
       "grid_template_areas": null,
       "grid_template_columns": null,
       "grid_template_rows": null,
       "height": null,
       "justify_content": null,
       "justify_items": null,
       "left": null,
       "margin": null,
       "max_height": null,
       "max_width": null,
       "min_height": null,
       "min_width": null,
       "object_fit": null,
       "object_position": null,
       "order": null,
       "overflow": null,
       "padding": null,
       "right": null,
       "top": null,
       "visibility": null,
       "width": null
      }
     },
     "7488d8fe95f142029b5f92ab68b81a16": {
      "model_module": "@jupyter-widgets/base",
      "model_module_version": "2.0.0",
      "model_name": "LayoutModel",
      "state": {
       "_model_module": "@jupyter-widgets/base",
       "_model_module_version": "2.0.0",
       "_model_name": "LayoutModel",
       "_view_count": null,
       "_view_module": "@jupyter-widgets/base",
       "_view_module_version": "2.0.0",
       "_view_name": "LayoutView",
       "align_content": null,
       "align_items": null,
       "align_self": null,
       "border_bottom": null,
       "border_left": null,
       "border_right": null,
       "border_top": null,
       "bottom": null,
       "display": null,
       "flex": null,
       "flex_flow": null,
       "grid_area": null,
       "grid_auto_columns": null,
       "grid_auto_flow": null,
       "grid_auto_rows": null,
       "grid_column": null,
       "grid_gap": null,
       "grid_row": null,
       "grid_template_areas": null,
       "grid_template_columns": null,
       "grid_template_rows": null,
       "height": null,
       "justify_content": null,
       "justify_items": null,
       "left": null,
       "margin": null,
       "max_height": null,
       "max_width": null,
       "min_height": null,
       "min_width": null,
       "object_fit": null,
       "object_position": null,
       "order": null,
       "overflow": null,
       "padding": null,
       "right": null,
       "top": null,
       "visibility": null,
       "width": null
      }
     },
     "74d11400ca2049e2907acb342e456d0b": {
      "model_module": "@jupyter-widgets/base",
      "model_module_version": "2.0.0",
      "model_name": "LayoutModel",
      "state": {
       "_model_module": "@jupyter-widgets/base",
       "_model_module_version": "2.0.0",
       "_model_name": "LayoutModel",
       "_view_count": null,
       "_view_module": "@jupyter-widgets/base",
       "_view_module_version": "2.0.0",
       "_view_name": "LayoutView",
       "align_content": null,
       "align_items": null,
       "align_self": null,
       "border_bottom": null,
       "border_left": null,
       "border_right": null,
       "border_top": null,
       "bottom": null,
       "display": null,
       "flex": null,
       "flex_flow": null,
       "grid_area": null,
       "grid_auto_columns": null,
       "grid_auto_flow": null,
       "grid_auto_rows": null,
       "grid_column": null,
       "grid_gap": null,
       "grid_row": null,
       "grid_template_areas": null,
       "grid_template_columns": null,
       "grid_template_rows": null,
       "height": null,
       "justify_content": null,
       "justify_items": null,
       "left": null,
       "margin": null,
       "max_height": null,
       "max_width": null,
       "min_height": null,
       "min_width": null,
       "object_fit": null,
       "object_position": null,
       "order": null,
       "overflow": null,
       "padding": null,
       "right": null,
       "top": null,
       "visibility": null,
       "width": null
      }
     },
     "7781754475bd4100945e1b81388fc9b8": {
      "model_module": "@jupyter-widgets/output",
      "model_module_version": "1.0.0",
      "model_name": "OutputModel",
      "state": {
       "_dom_classes": [],
       "_model_module": "@jupyter-widgets/output",
       "_model_module_version": "1.0.0",
       "_model_name": "OutputModel",
       "_view_count": null,
       "_view_module": "@jupyter-widgets/output",
       "_view_module_version": "1.0.0",
       "_view_name": "OutputView",
       "layout": "IPY_MODEL_7488d8fe95f142029b5f92ab68b81a16",
       "msg_id": "",
       "outputs": [
        {
         "data": {
          "text/html": "<pre style=\"white-space:pre;overflow-x:auto;line-height:normal;font-family:Menlo,'DejaVu Sans Mono',consolas,'Courier New',monospace\"><span style=\"color: #800000; text-decoration-color: #800000; font-weight: bold\">↑</span> <span style=\"color: #000080; text-decoration-color: #000080; font-weight: bold\">simulation.hdf5.gz</span> <span style=\"color: #729c1f; text-decoration-color: #729c1f\">━━━━━━━━━━━━━━━━━━━━━━━</span> <span style=\"color: #800080; text-decoration-color: #800080\">100.0%</span> • <span style=\"color: #008000; text-decoration-color: #008000\">13.5/13.5 kB</span> • <span style=\"color: #800000; text-decoration-color: #800000\">?</span> • <span style=\"color: #008080; text-decoration-color: #008080\">0:00:00</span>\n</pre>\n",
          "text/plain": "\u001b[1;31m↑\u001b[0m \u001b[1;34msimulation.hdf5.gz\u001b[0m \u001b[38;2;114;156;31m━━━━━━━━━━━━━━━━━━━━━━━\u001b[0m \u001b[35m100.0%\u001b[0m • \u001b[32m13.5/13.5 kB\u001b[0m • \u001b[31m?\u001b[0m • \u001b[36m0:00:00\u001b[0m\n"
         },
         "metadata": {},
         "output_type": "display_data"
        }
       ],
       "tabbable": null,
       "tooltip": null
      }
     },
     "7e982f775f6243068402693b2300476c": {
      "model_module": "@jupyter-widgets/output",
      "model_module_version": "1.0.0",
      "model_name": "OutputModel",
      "state": {
       "_dom_classes": [],
       "_model_module": "@jupyter-widgets/output",
       "_model_module_version": "1.0.0",
       "_model_name": "OutputModel",
       "_view_count": null,
       "_view_module": "@jupyter-widgets/output",
       "_view_module_version": "1.0.0",
       "_view_name": "OutputView",
       "layout": "IPY_MODEL_92adf975f14c44ba83a25209a92f2576",
       "msg_id": "",
       "outputs": [
        {
         "data": {
          "text/html": "<pre style=\"white-space:pre;overflow-x:auto;line-height:normal;font-family:Menlo,'DejaVu Sans Mono',consolas,'Courier New',monospace\"><span style=\"color: #800000; text-decoration-color: #800000; font-weight: bold\">↑</span> <span style=\"color: #000080; text-decoration-color: #000080; font-weight: bold\">simulation.hdf5.gz</span> <span style=\"color: #729c1f; text-decoration-color: #729c1f\">━━━━━━━━━━━━━━━━━━━━━━━</span> <span style=\"color: #800080; text-decoration-color: #800080\">100.0%</span> • <span style=\"color: #008000; text-decoration-color: #008000\">47.9/47.9 kB</span> • <span style=\"color: #800000; text-decoration-color: #800000\">?</span> • <span style=\"color: #008080; text-decoration-color: #008080\">0:00:00</span>\n</pre>\n",
          "text/plain": "\u001b[1;31m↑\u001b[0m \u001b[1;34msimulation.hdf5.gz\u001b[0m \u001b[38;2;114;156;31m━━━━━━━━━━━━━━━━━━━━━━━\u001b[0m \u001b[35m100.0%\u001b[0m • \u001b[32m47.9/47.9 kB\u001b[0m • \u001b[31m?\u001b[0m • \u001b[36m0:00:00\u001b[0m\n"
         },
         "metadata": {},
         "output_type": "display_data"
        }
       ],
       "tabbable": null,
       "tooltip": null
      }
     },
     "8818626ec7ca4d58a5828b6675753145": {
      "model_module": "@jupyter-widgets/base",
      "model_module_version": "2.0.0",
      "model_name": "LayoutModel",
      "state": {
       "_model_module": "@jupyter-widgets/base",
       "_model_module_version": "2.0.0",
       "_model_name": "LayoutModel",
       "_view_count": null,
       "_view_module": "@jupyter-widgets/base",
       "_view_module_version": "2.0.0",
       "_view_name": "LayoutView",
       "align_content": null,
       "align_items": null,
       "align_self": null,
       "border_bottom": null,
       "border_left": null,
       "border_right": null,
       "border_top": null,
       "bottom": null,
       "display": null,
       "flex": null,
       "flex_flow": null,
       "grid_area": null,
       "grid_auto_columns": null,
       "grid_auto_flow": null,
       "grid_auto_rows": null,
       "grid_column": null,
       "grid_gap": null,
       "grid_row": null,
       "grid_template_areas": null,
       "grid_template_columns": null,
       "grid_template_rows": null,
       "height": null,
       "justify_content": null,
       "justify_items": null,
       "left": null,
       "margin": null,
       "max_height": null,
       "max_width": null,
       "min_height": null,
       "min_width": null,
       "object_fit": null,
       "object_position": null,
       "order": null,
       "overflow": null,
       "padding": null,
       "right": null,
       "top": null,
       "visibility": null,
       "width": null
      }
     },
     "92adf975f14c44ba83a25209a92f2576": {
      "model_module": "@jupyter-widgets/base",
      "model_module_version": "2.0.0",
      "model_name": "LayoutModel",
      "state": {
       "_model_module": "@jupyter-widgets/base",
       "_model_module_version": "2.0.0",
       "_model_name": "LayoutModel",
       "_view_count": null,
       "_view_module": "@jupyter-widgets/base",
       "_view_module_version": "2.0.0",
       "_view_name": "LayoutView",
       "align_content": null,
       "align_items": null,
       "align_self": null,
       "border_bottom": null,
       "border_left": null,
       "border_right": null,
       "border_top": null,
       "bottom": null,
       "display": null,
       "flex": null,
       "flex_flow": null,
       "grid_area": null,
       "grid_auto_columns": null,
       "grid_auto_flow": null,
       "grid_auto_rows": null,
       "grid_column": null,
       "grid_gap": null,
       "grid_row": null,
       "grid_template_areas": null,
       "grid_template_columns": null,
       "grid_template_rows": null,
       "height": null,
       "justify_content": null,
       "justify_items": null,
       "left": null,
       "margin": null,
       "max_height": null,
       "max_width": null,
       "min_height": null,
       "min_width": null,
       "object_fit": null,
       "object_position": null,
       "order": null,
       "overflow": null,
       "padding": null,
       "right": null,
       "top": null,
       "visibility": null,
       "width": null
      }
     },
     "99ac91dde95e4de1a8afa39ff0158334": {
      "model_module": "@jupyter-widgets/output",
      "model_module_version": "1.0.0",
      "model_name": "OutputModel",
      "state": {
       "_dom_classes": [],
       "_model_module": "@jupyter-widgets/output",
       "_model_module_version": "1.0.0",
       "_model_name": "OutputModel",
       "_view_count": null,
       "_view_module": "@jupyter-widgets/output",
       "_view_module_version": "1.0.0",
       "_view_name": "OutputView",
       "layout": "IPY_MODEL_adc09ab5c31643078fa793007cddd1c7",
       "msg_id": "",
       "outputs": [
        {
         "data": {
          "text/html": "<pre style=\"white-space:pre;overflow-x:auto;line-height:normal;font-family:Menlo,'DejaVu Sans Mono',consolas,'Courier New',monospace\">solver progress (field decay = 3.25e-06) <span style=\"color: #729c1f; text-decoration-color: #729c1f\">━━━━━━━━━━━━━━━━━━━━━━━━━━</span> <span style=\"color: #800080; text-decoration-color: #800080\">100%</span> <span style=\"color: #008080; text-decoration-color: #008080\">0:00:00</span>\n</pre>\n",
          "text/plain": "solver progress (field decay = 3.25e-06) \u001b[38;2;114;156;31m━━━━━━━━━━━━━━━━━━━━━━━━━━\u001b[0m \u001b[35m100%\u001b[0m \u001b[36m0:00:00\u001b[0m\n"
         },
         "metadata": {},
         "output_type": "display_data"
        }
       ],
       "tabbable": null,
       "tooltip": null
      }
     },
     "9e241ddc46784d219d7e63b26e00b0ca": {
      "model_module": "@jupyter-widgets/output",
      "model_module_version": "1.0.0",
      "model_name": "OutputModel",
      "state": {
       "_dom_classes": [],
       "_model_module": "@jupyter-widgets/output",
       "_model_module_version": "1.0.0",
       "_model_name": "OutputModel",
       "_view_count": null,
       "_view_module": "@jupyter-widgets/output",
       "_view_module_version": "1.0.0",
       "_view_name": "OutputView",
       "layout": "IPY_MODEL_3843d0d2dd9843c9b94c102a65766d13",
       "msg_id": "",
       "outputs": [
        {
         "data": {
          "text/html": "<pre style=\"white-space:pre;overflow-x:auto;line-height:normal;font-family:Menlo,'DejaVu Sans Mono',consolas,'Courier New',monospace\"><span style=\"color: #008000; text-decoration-color: #008000\">🏃 </span> <span style=\"color: #008000; text-decoration-color: #008000; font-weight: bold\">Starting 'optical_hybrid_lo_input'...</span>\n</pre>\n",
          "text/plain": "\u001b[32m🏃 \u001b[0m \u001b[1;32mStarting 'optical_hybrid_lo_input'...\u001b[0m\n"
         },
         "metadata": {},
         "output_type": "display_data"
        }
       ],
       "tabbable": null,
       "tooltip": null
      }
     },
     "adc09ab5c31643078fa793007cddd1c7": {
      "model_module": "@jupyter-widgets/base",
      "model_module_version": "2.0.0",
      "model_name": "LayoutModel",
      "state": {
       "_model_module": "@jupyter-widgets/base",
       "_model_module_version": "2.0.0",
       "_model_name": "LayoutModel",
       "_view_count": null,
       "_view_module": "@jupyter-widgets/base",
       "_view_module_version": "2.0.0",
       "_view_name": "LayoutView",
       "align_content": null,
       "align_items": null,
       "align_self": null,
       "border_bottom": null,
       "border_left": null,
       "border_right": null,
       "border_top": null,
       "bottom": null,
       "display": null,
       "flex": null,
       "flex_flow": null,
       "grid_area": null,
       "grid_auto_columns": null,
       "grid_auto_flow": null,
       "grid_auto_rows": null,
       "grid_column": null,
       "grid_gap": null,
       "grid_row": null,
       "grid_template_areas": null,
       "grid_template_columns": null,
       "grid_template_rows": null,
       "height": null,
       "justify_content": null,
       "justify_items": null,
       "left": null,
       "margin": null,
       "max_height": null,
       "max_width": null,
       "min_height": null,
       "min_width": null,
       "object_fit": null,
       "object_position": null,
       "order": null,
       "overflow": null,
       "padding": null,
       "right": null,
       "top": null,
       "visibility": null,
       "width": null
      }
     },
     "bfe2c91ea95449eb964338f1013756ef": {
      "model_module": "@jupyter-widgets/output",
      "model_module_version": "1.0.0",
      "model_name": "OutputModel",
      "state": {
       "_dom_classes": [],
       "_model_module": "@jupyter-widgets/output",
       "_model_module_version": "1.0.0",
       "_model_name": "OutputModel",
       "_view_count": null,
       "_view_module": "@jupyter-widgets/output",
       "_view_module_version": "1.0.0",
       "_view_name": "OutputView",
       "layout": "IPY_MODEL_378259cb866a4b58b6b02e403203bdb0",
       "msg_id": "",
       "outputs": [
        {
         "data": {
          "text/html": "<pre style=\"white-space:pre;overflow-x:auto;line-height:normal;font-family:Menlo,'DejaVu Sans Mono',consolas,'Courier New',monospace\"><span style=\"color: #008000; text-decoration-color: #008000; font-weight: bold\">↓</span> <span style=\"color: #000080; text-decoration-color: #000080; font-weight: bold\">simulation_data.hdf5.gz</span> <span style=\"color: #729c1f; text-decoration-color: #729c1f\">━━━━━━━━━━━━</span> <span style=\"color: #800080; text-decoration-color: #800080\">100.0%</span> • <span style=\"color: #008000; text-decoration-color: #008000\">8.0/8.0 MB</span> • <span style=\"color: #800000; text-decoration-color: #800000\">40.7 MB/s</span> • <span style=\"color: #008080; text-decoration-color: #008080\">0:00:00</span>\n</pre>\n",
          "text/plain": "\u001b[1;32m↓\u001b[0m \u001b[1;34msimulation_data.hdf5.gz\u001b[0m \u001b[38;2;114;156;31m━━━━━━━━━━━━\u001b[0m \u001b[35m100.0%\u001b[0m • \u001b[32m8.0/8.0 MB\u001b[0m • \u001b[31m40.7 MB/s\u001b[0m • \u001b[36m0:00:00\u001b[0m\n"
         },
         "metadata": {},
         "output_type": "display_data"
        }
       ],
       "tabbable": null,
       "tooltip": null
      }
     },
     "cd4f2475aa4949bfb0dcb09bba4acafe": {
      "model_module": "@jupyter-widgets/output",
      "model_module_version": "1.0.0",
      "model_name": "OutputModel",
      "state": {
       "_dom_classes": [],
       "_model_module": "@jupyter-widgets/output",
       "_model_module_version": "1.0.0",
       "_model_name": "OutputModel",
       "_view_count": null,
       "_view_module": "@jupyter-widgets/output",
       "_view_module_version": "1.0.0",
       "_view_name": "OutputView",
       "layout": "IPY_MODEL_dd9d7dc5c19149608a4ee99c87f3417b",
       "msg_id": "",
       "outputs": [
        {
         "data": {
          "text/html": "<pre style=\"white-space:pre;overflow-x:auto;line-height:normal;font-family:Menlo,'DejaVu Sans Mono',consolas,'Courier New',monospace\"><span style=\"color: #008000; text-decoration-color: #008000\">🏃 </span> <span style=\"color: #008000; text-decoration-color: #008000; font-weight: bold\">Starting 'optical_hybrid_signal_input'...</span>\n</pre>\n",
          "text/plain": "\u001b[32m🏃 \u001b[0m \u001b[1;32mStarting 'optical_hybrid_signal_input'...\u001b[0m\n"
         },
         "metadata": {},
         "output_type": "display_data"
        }
       ],
       "tabbable": null,
       "tooltip": null
      }
     },
     "d54817c5e85c4505a701606872fb07cc": {
      "model_module": "@jupyter-widgets/output",
      "model_module_version": "1.0.0",
      "model_name": "OutputModel",
      "state": {
       "_dom_classes": [],
       "_model_module": "@jupyter-widgets/output",
       "_model_module_version": "1.0.0",
       "_model_name": "OutputModel",
       "_view_count": null,
       "_view_module": "@jupyter-widgets/output",
       "_view_module_version": "1.0.0",
       "_view_name": "OutputView",
       "layout": "IPY_MODEL_1a89220f7ca54483812f64f795221cff",
       "msg_id": "",
       "outputs": [
        {
         "data": {
          "text/html": "<pre style=\"white-space:pre;overflow-x:auto;line-height:normal;font-family:Menlo,'DejaVu Sans Mono',consolas,'Courier New',monospace\"><span style=\"color: #800000; text-decoration-color: #800000; font-weight: bold\">↑</span> <span style=\"color: #000080; text-decoration-color: #000080; font-weight: bold\">simulation.hdf5.gz</span> <span style=\"color: #729c1f; text-decoration-color: #729c1f\">━━━━━━━━━━━━━━━━━━━━━━━</span> <span style=\"color: #800080; text-decoration-color: #800080\">100.0%</span> • <span style=\"color: #008000; text-decoration-color: #008000\">47.9/47.9 kB</span> • <span style=\"color: #800000; text-decoration-color: #800000\">?</span> • <span style=\"color: #008080; text-decoration-color: #008080\">0:00:00</span>\n</pre>\n",
          "text/plain": "\u001b[1;31m↑\u001b[0m \u001b[1;34msimulation.hdf5.gz\u001b[0m \u001b[38;2;114;156;31m━━━━━━━━━━━━━━━━━━━━━━━\u001b[0m \u001b[35m100.0%\u001b[0m • \u001b[32m47.9/47.9 kB\u001b[0m • \u001b[31m?\u001b[0m • \u001b[36m0:00:00\u001b[0m\n"
         },
         "metadata": {},
         "output_type": "display_data"
        }
       ],
       "tabbable": null,
       "tooltip": null
      }
     },
     "dd9d7dc5c19149608a4ee99c87f3417b": {
      "model_module": "@jupyter-widgets/base",
      "model_module_version": "2.0.0",
      "model_name": "LayoutModel",
      "state": {
       "_model_module": "@jupyter-widgets/base",
       "_model_module_version": "2.0.0",
       "_model_name": "LayoutModel",
       "_view_count": null,
       "_view_module": "@jupyter-widgets/base",
       "_view_module_version": "2.0.0",
       "_view_name": "LayoutView",
       "align_content": null,
       "align_items": null,
       "align_self": null,
       "border_bottom": null,
       "border_left": null,
       "border_right": null,
       "border_top": null,
       "bottom": null,
       "display": null,
       "flex": null,
       "flex_flow": null,
       "grid_area": null,
       "grid_auto_columns": null,
       "grid_auto_flow": null,
       "grid_auto_rows": null,
       "grid_column": null,
       "grid_gap": null,
       "grid_row": null,
       "grid_template_areas": null,
       "grid_template_columns": null,
       "grid_template_rows": null,
       "height": null,
       "justify_content": null,
       "justify_items": null,
       "left": null,
       "margin": null,
       "max_height": null,
       "max_width": null,
       "min_height": null,
       "min_width": null,
       "object_fit": null,
       "object_position": null,
       "order": null,
       "overflow": null,
       "padding": null,
       "right": null,
       "top": null,
       "visibility": null,
       "width": null
      }
     },
     "f1b831584cc24bb8b92381a2e6fa729f": {
      "model_module": "@jupyter-widgets/output",
      "model_module_version": "1.0.0",
      "model_name": "OutputModel",
      "state": {
       "_dom_classes": [],
       "_model_module": "@jupyter-widgets/output",
       "_model_module_version": "1.0.0",
       "_model_name": "OutputModel",
       "_view_count": null,
       "_view_module": "@jupyter-widgets/output",
       "_view_module_version": "1.0.0",
       "_view_name": "OutputView",
       "layout": "IPY_MODEL_8818626ec7ca4d58a5828b6675753145",
       "msg_id": "",
       "outputs": [
        {
         "data": {
          "text/html": "<pre style=\"white-space:pre;overflow-x:auto;line-height:normal;font-family:Menlo,'DejaVu Sans Mono',consolas,'Courier New',monospace\"><span style=\"color: #008000; text-decoration-color: #008000; font-weight: bold\">↓</span> <span style=\"color: #000080; text-decoration-color: #000080; font-weight: bold\">simulation_data.hdf5.gz</span> <span style=\"color: #729c1f; text-decoration-color: #729c1f\">━━━━━━━━━━━</span> <span style=\"color: #800080; text-decoration-color: #800080\">100.0%</span> • <span style=\"color: #008000; text-decoration-color: #008000\">69.8/69.8  </span> • <span style=\"color: #800000; text-decoration-color: #800000\">30.8 MB/s</span> • <span style=\"color: #008080; text-decoration-color: #008080\">0:00:00</span>\n                                               <span style=\"color: #008000; text-decoration-color: #008000\">MB         </span>                      \n</pre>\n",
          "text/plain": "\u001b[1;32m↓\u001b[0m \u001b[1;34msimulation_data.hdf5.gz\u001b[0m \u001b[38;2;114;156;31m━━━━━━━━━━━\u001b[0m \u001b[35m100.0%\u001b[0m • \u001b[32m69.8/69.8  \u001b[0m • \u001b[31m30.8 MB/s\u001b[0m • \u001b[36m0:00:00\u001b[0m\n                                               \u001b[32mMB         \u001b[0m                      \n"
         },
         "metadata": {},
         "output_type": "display_data"
        }
       ],
       "tabbable": null,
       "tooltip": null
      }
     },
     "f30192fc2de94f819f3c6a05d40be50f": {
      "model_module": "@jupyter-widgets/base",
      "model_module_version": "2.0.0",
      "model_name": "LayoutModel",
      "state": {
       "_model_module": "@jupyter-widgets/base",
       "_model_module_version": "2.0.0",
       "_model_name": "LayoutModel",
       "_view_count": null,
       "_view_module": "@jupyter-widgets/base",
       "_view_module_version": "2.0.0",
       "_view_name": "LayoutView",
       "align_content": null,
       "align_items": null,
       "align_self": null,
       "border_bottom": null,
       "border_left": null,
       "border_right": null,
       "border_top": null,
       "bottom": null,
       "display": null,
       "flex": null,
       "flex_flow": null,
       "grid_area": null,
       "grid_auto_columns": null,
       "grid_auto_flow": null,
       "grid_auto_rows": null,
       "grid_column": null,
       "grid_gap": null,
       "grid_row": null,
       "grid_template_areas": null,
       "grid_template_columns": null,
       "grid_template_rows": null,
       "height": null,
       "justify_content": null,
       "justify_items": null,
       "left": null,
       "margin": null,
       "max_height": null,
       "max_width": null,
       "min_height": null,
       "min_width": null,
       "object_fit": null,
       "object_position": null,
       "order": null,
       "overflow": null,
       "padding": null,
       "right": null,
       "top": null,
       "visibility": null,
       "width": null
      }
     }
    },
    "version_major": 2,
    "version_minor": 0
   }
  }
 },
 "nbformat": 4,
 "nbformat_minor": 5
}
