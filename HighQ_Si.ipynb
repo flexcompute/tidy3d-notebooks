{
 "cells": [
  {
   "cell_type": "markdown",
   "metadata": {},
   "source": [
    "# Resonator benchmark (COMSOL)\n",
    "\n",
    "See on [github](https://github.com/flexcompute/tidy3d-notebooks/blob/main/HighQ_Si.ipynb), run on [colab](https://colab.research.google.com/github/flexcompute/tidy3d-notebooks/blob/main/HighQ_Si.ipynb), or just follow along with the output below.\n",
    "\n",
    "In this example, we reproduce the findings of Zhang et al. (2018), which is linked [here](https://www.osapublishing.org/ol/abstract.cfm?uri=ol-43-8-1842).\n",
    "\n",
    "This notebook was originally developed and written by Romil Audhkhasi (USC). \n",
    "\n",
    "The paper investigates the resonances of silicon structures by measuring their transmission spectrum under varying geometric parameters.\n",
    "\n",
    "The paper uses a finite element solver (COMSOL), which matches the result from Tidy3D.\n",
    "\n",
    "<img src=\"img/Si_struct.png\" alt=\"diagram\" width=\"500\"/>\n",
    "\n",
    "(Citation: Opt. Lett. 43, 1842-1845 (2018).  With permission from the Optical Society)\n",
    "\n",
    "To do this calculation, we use a broadband pulse and frequency monitor to measure the flux on the opposite side of the structure."
   ]
  },
  {
   "cell_type": "code",
   "execution_count": 1,
   "metadata": {
    "execution": {
     "iopub.execute_input": "2021-09-08T00:19:59.878381Z",
     "iopub.status.busy": "2021-09-08T00:19:59.874183Z",
     "iopub.status.idle": "2021-09-08T00:20:01.331959Z",
     "shell.execute_reply": "2021-09-08T00:20:01.331576Z"
    }
   },
   "outputs": [
    {
     "name": "stdout",
     "output_type": "stream",
     "text": [
      "The autoreload extension is already loaded. To reload it, use:\n",
      "  %reload_ext autoreload\n"
     ]
    }
   ],
   "source": [
    "# get the most recent version of tidy3d\n",
    "!pip install -q --upgrade tidy3d\n",
    "\n",
    "# make sure notebook plots inline\n",
    "%matplotlib inline\n",
    "\n",
    "# standard python imports\n",
    "import numpy as np\n",
    "import matplotlib.pyplot as plt\n",
    "\n",
    "# tidy3D import\n",
    "import tidy3d as td\n",
    "from tidy3d import web"
   ]
  },
  {
   "cell_type": "markdown",
   "metadata": {},
   "source": [
    "## Set Up Simulation"
   ]
  },
  {
   "cell_type": "code",
   "execution_count": 2,
   "metadata": {
    "execution": {
     "iopub.execute_input": "2021-09-08T00:20:01.336351Z",
     "iopub.status.busy": "2021-09-08T00:20:01.335793Z",
     "iopub.status.idle": "2021-09-08T00:20:01.345468Z",
     "shell.execute_reply": "2021-09-08T00:20:01.345105Z"
    }
   },
   "outputs": [],
   "source": [
    "nm = 1e-3\n",
    "\n",
    "# define the frequencies we want to measure\n",
    "Nfreq = 1000\n",
    "wavelengths = nm * np.linspace(1050, 1400, Nfreq)\n",
    "freqs = td.constants.C_0 / wavelengths\n",
    "\n",
    "# define the frequency center and width of our pulse\n",
    "freq0 = freqs[len(freqs)//2]\n",
    "freqw = freqs[0] - freqs[-1]\n",
    "\n",
    "# Define material properties\n",
    "n_SiO2 = 1.46\n",
    "n_Si = 3.52\n",
    "SiO2 = td.Medium(epsilon=n_SiO2**2)\n",
    "Si = td.Medium(epsilon=n_Si**2)"
   ]
  },
  {
   "cell_type": "code",
   "execution_count": 3,
   "metadata": {
    "execution": {
     "iopub.execute_input": "2021-09-08T00:20:01.349189Z",
     "iopub.status.busy": "2021-09-08T00:20:01.348611Z",
     "iopub.status.idle": "2021-09-08T00:20:01.357662Z",
     "shell.execute_reply": "2021-09-08T00:20:01.357344Z"
    }
   },
   "outputs": [],
   "source": [
    "# space between resonators and source\n",
    "spc = 1.5\n",
    "\n",
    "# geometric parameters\n",
    "Px = Py = P = 650 * nm  # periodicity in x and y\n",
    "t = 260 * nm            # thickness of silcon\n",
    "g = 80 * nm             # gap size\n",
    "L = 480 * nm            # length in x\n",
    "w_sum = 400 * nm        # sum of lengths in y\n",
    "\n",
    "# resolution (should be commensurate with periodicity)\n",
    "dl = P / 32\n",
    "dz = 20 * nm\n",
    "\n",
    "# computes widths in y (w1 and w2) given the difference in lengths in y and the sum of lengths\n",
    "def calc_ws(delta):\n",
    "    \"\"\" delta is a tunable parameter used to break symmetry.\n",
    "        w_sum = w1 + w2\n",
    "        delta = w1 - w2\n",
    "        w_sum + delta = 2 * w1\n",
    "    \"\"\"\n",
    "    w1 = (w_sum + delta) / 2\n",
    "    w2 = w_sum - w1\n",
    "    return w1, w2"
   ]
  },
  {
   "cell_type": "code",
   "execution_count": 4,
   "metadata": {
    "execution": {
     "iopub.execute_input": "2021-09-08T00:20:01.361676Z",
     "iopub.status.busy": "2021-09-08T00:20:01.361162Z",
     "iopub.status.idle": "2021-09-08T00:20:01.369818Z",
     "shell.execute_reply": "2021-09-08T00:20:01.369504Z"
    }
   },
   "outputs": [],
   "source": [
    "# total size in z and [x,y,z]\n",
    "Lz = spc + t + t + spc\n",
    "sim_size = [Px, Py, Lz]\n",
    "\n",
    "# sio2 substrate\n",
    "substrate = td.Box(\n",
    "    center=[0, 0, -Lz/2],\n",
    "    size=[td.inf, td.inf, 2*(spc+t)],\n",
    "    material=SiO2,\n",
    "    name='substrate'\n",
    ")\n",
    "\n",
    "# creates a list of structures given a value of 'delta'\n",
    "def geometry(delta):\n",
    "    w1, w2 = calc_ws(delta)\n",
    "    center_y = (w1 - w2) / 2.0\n",
    "\n",
    "    cell1 = td.Box(\n",
    "        center=[0, center_y + (g + w1)/2., t/2.],\n",
    "        size=[L, w1, t],\n",
    "        material=Si,\n",
    "        name='cell1'\n",
    "    )\n",
    "\n",
    "    cell2 = td.Box(\n",
    "        center=[0, center_y - (g + w2)/2., t/2.],\n",
    "        size=[L, w2, t],\n",
    "        material=Si,\n",
    "        name='cell2'\n",
    "    )\n",
    "\n",
    "    return [substrate, cell1, cell2]\n"
   ]
  },
  {
   "cell_type": "code",
   "execution_count": 5,
   "metadata": {
    "execution": {
     "iopub.execute_input": "2021-09-08T00:20:01.372795Z",
     "iopub.status.busy": "2021-09-08T00:20:01.372304Z",
     "iopub.status.idle": "2021-09-08T00:20:01.380959Z",
     "shell.execute_reply": "2021-09-08T00:20:01.380616Z"
    }
   },
   "outputs": [],
   "source": [
    "# time dependence of source\n",
    "gaussian = td.GaussianPulse(freq0, freqw)\n",
    "\n",
    "# plane wave source\n",
    "source = td.PlaneWave(\n",
    "            source_time=gaussian,\n",
    "            injection_axis='-z',\n",
    "            position= Lz/2 - spc + 2*dl,\n",
    "            polarization='x')\n",
    "\n",
    "# Simulation run time.  Note you need to run a long time to calculate high Q resonances.\n",
    "run_time = 7e-12"
   ]
  },
  {
   "cell_type": "code",
   "execution_count": 6,
   "metadata": {
    "execution": {
     "iopub.execute_input": "2021-09-08T00:20:01.383908Z",
     "iopub.status.busy": "2021-09-08T00:20:01.383400Z",
     "iopub.status.idle": "2021-09-08T00:20:01.391650Z",
     "shell.execute_reply": "2021-09-08T00:20:01.391339Z"
    }
   },
   "outputs": [],
   "source": [
    "# monitor fields on other side of structure (substrate side) at range of frequencies\n",
    "monitor = td.FreqMonitor(\n",
    "        center=[0., 0., -Lz/2 + spc - 2 * dl],\n",
    "        size=[td.inf, td.inf, 0],\n",
    "        freqs=freqs,\n",
    "        store=['flux'],\n",
    "        name='transmitted_fields')"
   ]
  },
  {
   "cell_type": "markdown",
   "metadata": {},
   "source": [
    "## Define Case Studies\n",
    "\n",
    "Here we define the three simulations to run\n",
    "\n",
    "- With no resonators (normalization)\n",
    "- With symmetric (delta = 0) resonators\n",
    "- With asymmetric (delta != 0) resonators\n"
   ]
  },
  {
   "cell_type": "code",
   "execution_count": 7,
   "metadata": {
    "execution": {
     "iopub.execute_input": "2021-09-08T00:20:01.395619Z",
     "iopub.status.busy": "2021-09-08T00:20:01.395103Z",
     "iopub.status.idle": "2021-09-08T00:20:01.499999Z",
     "shell.execute_reply": "2021-09-08T00:20:01.499662Z"
    }
   },
   "outputs": [
    {
     "name": "stdout",
     "output_type": "stream",
     "text": [
      "Initializing simulation...\n",
      "Mesh step (micron): [2.03e-02, 2.03e-02, 2.00e-02].\n",
      "Simulation domain in number of grid points: [32, 32, 206].\n",
      "Total number of computational grid points: 2.11e+05.\n",
      "Total number of time steps: 19987.\n",
      "Estimated data size (GB) of monitor transmitted_fields: 0.0000.\n",
      "Initializing simulation...\n",
      "Mesh step (micron): [2.03e-02, 2.03e-02, 2.00e-02].\n",
      "Simulation domain in number of grid points: [32, 32, 206].\n",
      "Total number of computational grid points: 2.11e+05.\n",
      "Total number of time steps: 199868.\n",
      "Estimated data size (GB) of monitor transmitted_fields: 0.0000.\n",
      "Initializing simulation...\n",
      "Mesh step (micron): [2.03e-02, 2.03e-02, 2.00e-02].\n",
      "Simulation domain in number of grid points: [32, 32, 206].\n",
      "Total number of computational grid points: 2.11e+05.\n",
      "Total number of time steps: 199868.\n",
      "Estimated data size (GB) of monitor transmitted_fields: 0.0000.\n"
     ]
    }
   ],
   "source": [
    "# normalizing run (no Si) to get baseline transmission vs freq\n",
    "# can be run for shorter time as there are no resonances\n",
    "sim_empty = td.Simulation(size=sim_size,\n",
    "                    mesh_step=[dl, dl, dz],\n",
    "                    structures=[substrate],\n",
    "                    sources=[source],\n",
    "                    monitors=[monitor],\n",
    "                    run_time=run_time/10,\n",
    "                    pml_layers=[0,0,15])\n",
    "\n",
    "# run with delta = 0\n",
    "sim_d0 = td.Simulation(size=sim_size,\n",
    "                    mesh_step=[dl, dl, dz],\n",
    "                    structures=geometry(0),\n",
    "                    sources=[source],\n",
    "                    monitors=[monitor],\n",
    "                    run_time=run_time,\n",
    "                    pml_layers=[0,0,15])\n",
    "\n",
    "# run with delta = 20nm\n",
    "sim_d20 = td.Simulation(size=sim_size,\n",
    "                    mesh_step=[dl, dl, dz],\n",
    "                    structures=geometry(20 * nm),\n",
    "                    sources=[source],\n",
    "                    monitors=[monitor],\n",
    "                    run_time=run_time,\n",
    "                    pml_layers=[0,0,15])"
   ]
  },
  {
   "cell_type": "code",
   "execution_count": 8,
   "metadata": {
    "execution": {
     "iopub.execute_input": "2021-09-08T00:20:01.503228Z",
     "iopub.status.busy": "2021-09-08T00:20:01.502724Z",
     "iopub.status.idle": "2021-09-08T00:20:01.789498Z",
     "shell.execute_reply": "2021-09-08T00:20:01.789757Z"
    }
   },
   "outputs": [
    {
     "data": {
      "image/png": "[encoded data removed]",
      "text/plain": [
       "<Figure size 1008x576 with 3 Axes>"
      ]
     },
     "metadata": {
      "needs_background": "light"
     },
     "output_type": "display_data"
    }
   ],
   "source": [
    "# Structure visualization in various planes\n",
    "\n",
    "fig, (ax1, ax2, ax3) = plt.subplots(1, 3, figsize=(14, 8))\n",
    "sim_d0.viz_eps_2D(normal='x', position=0, ax=ax1)\n",
    "sim_d0.viz_eps_2D(normal='y', position=g, ax=ax2)\n",
    "sim_d0.viz_eps_2D(normal='z', position=0, ax=ax3)\n",
    "plt.show()"
   ]
  },
  {
   "cell_type": "markdown",
   "metadata": {},
   "source": [
    "## Run Simulations"
   ]
  },
  {
   "cell_type": "code",
   "execution_count": 9,
   "metadata": {
    "execution": {
     "iopub.execute_input": "2021-09-08T00:20:01.793221Z",
     "iopub.status.busy": "2021-09-08T00:20:01.792709Z",
     "iopub.status.idle": "2021-09-08T00:20:01.801599Z",
     "shell.execute_reply": "2021-09-08T00:20:01.801330Z"
    }
   },
   "outputs": [],
   "source": [
    "# define a function that runs the simulations on our server and computes the flux\n",
    "\n",
    "def get_flux(sim, task_name='Si_resonator'):\n",
    "    project = web.new_project(sim.export(), task_name=task_name)\n",
    "    web.monitor_project(project['taskId'])\n",
    "    print('Downloading results')\n",
    "    web.download_results(project['taskId'], target_folder='out')\n",
    "    sim.load_results('out/monitor_data.hdf5')\n",
    "    with open('out/tidy3d.log', 'r') as f:\n",
    "        print(f.read())\n",
    "    return np.squeeze(sim.data(monitor)['flux'])\n"
   ]
  },
  {
   "cell_type": "code",
   "execution_count": 10,
   "metadata": {
    "execution": {
     "iopub.execute_input": "2021-09-08T00:20:01.804237Z",
     "iopub.status.busy": "2021-09-08T00:20:01.803730Z",
     "iopub.status.idle": "2021-09-08T00:28:29.079625Z",
     "shell.execute_reply": "2021-09-08T00:28:29.079302Z"
    }
   },
   "outputs": [
    {
     "name": "stdout",
     "output_type": "stream",
     "text": [
      "Uploading the json file...\n",
      "Project 'normalization-24' status: success...                                \n",
      "\n",
      "Downloading results\n",
      "Applying source normalization to all frequency monitors using source index 0.\n",
      "Simulation domain Nx, Ny, Nz: [32, 32, 206]\n",
      "Applied symmetries: [0, 0, 0]\n",
      "Number of computational grid points: 2.1094e+05.\n",
      "Using subpixel averaging: True\n",
      "Number of time steps: 19987\n",
      "Automatic shutoff factor: 1.00e-05\n",
      "Time step (s): 3.5023e-17\n",
      "\n",
      "Get source modes time (s):    0.0720\n",
      "Get monitor modes time (s):   0.1276\n",
      "Rest of setup time (s):       0.2210\n",
      "\n",
      "Starting solver...\n",
      "- Time step    799 / time 2.80e-14s (  4 % done), field decay: 1.00e+00\n",
      "- Time step   1598 / time 5.60e-14s (  8 % done), field decay: 1.41e-08\n",
      "Field decay smaller than shutoff factor, exiting solver.\n",
      "\n",
      "Solver time (s):              2.7260\n",
      "Post-processing time (s):     0.0144\n",
      "\n",
      "Uploading the json file...\n",
      "Project 'Si-resonator-delta-0-7' status: success...                                \n",
      "\n",
      "Downloading results\n",
      "Applying source normalization to all frequency monitors using source index 0.\n",
      "Simulation domain Nx, Ny, Nz: [32, 32, 206]\n",
      "Applied symmetries: [0, 0, 0]\n",
      "Number of computational grid points: 2.1094e+05.\n",
      "Using subpixel averaging: True\n",
      "Number of time steps: 199868\n",
      "Automatic shutoff factor: 1.00e-05\n",
      "Time step (s): 3.5023e-17\n",
      "\n",
      "Get source modes time (s):    1.1772\n",
      "Get monitor modes time (s):   0.2312\n",
      "Rest of setup time (s):       0.3410\n",
      "\n",
      "Starting solver...\n",
      "- Time step   7994 / time 2.80e-13s (  4 % done), field decay: 1.00e+00\n",
      "- Time step  15989 / time 5.60e-13s (  8 % done), field decay: 7.48e-02\n",
      "- Time step  23984 / time 8.40e-13s ( 12 % done), field decay: 8.20e-02\n",
      "- Time step  31978 / time 1.12e-12s ( 16 % done), field decay: 5.42e-03\n",
      "- Time step  39973 / time 1.40e-12s ( 20 % done), field decay: 1.90e-02\n",
      "- Time step  47968 / time 1.68e-12s ( 24 % done), field decay: 2.21e-03\n",
      "- Time step  55963 / time 1.96e-12s ( 28 % done), field decay: 3.16e-03\n",
      "- Time step  63957 / time 2.24e-12s ( 32 % done), field decay: 1.30e-03\n",
      "- Time step  71952 / time 2.52e-12s ( 36 % done), field decay: 3.05e-04\n",
      "- Time step  79947 / time 2.80e-12s ( 40 % done), field decay: 4.26e-04\n",
      "- Time step  87941 / time 3.08e-12s ( 44 % done), field decay: 2.59e-05\n",
      "- Time step  95936 / time 3.36e-12s ( 48 % done), field decay: 9.80e-05\n",
      "- Time step 103931 / time 3.64e-12s ( 52 % done), field decay: 1.29e-05\n",
      "- Time step 111926 / time 3.92e-12s ( 56 % done), field decay: 1.57e-05\n",
      "- Time step 119920 / time 4.20e-12s ( 60 % done), field decay: 7.20e-06\n",
      "Field decay smaller than shutoff factor, exiting solver.\n",
      "\n",
      "Solver time (s):              115.7181\n",
      "Post-processing time (s):     0.1080\n",
      "\n",
      "Uploading the json file...\n",
      "Project 'Si-resonator-delta-20-7' status: success...                                \n",
      "\n",
      "Downloading results\n",
      "Applying source normalization to all frequency monitors using source index 0.\n",
      "Simulation domain Nx, Ny, Nz: [32, 32, 206]\n",
      "Applied symmetries: [0, 0, 0]\n",
      "Number of computational grid points: 2.1094e+05.\n",
      "Using subpixel averaging: True\n",
      "Number of time steps: 199868\n",
      "Automatic shutoff factor: 1.00e-05\n",
      "Time step (s): 3.5023e-17\n",
      "\n",
      "Get source modes time (s):    1.0110\n",
      "Get monitor modes time (s):   0.2374\n",
      "Rest of setup time (s):       0.3428\n",
      "\n",
      "Starting solver...\n",
      "- Time step   7994 / time 2.80e-13s (  4 % done), field decay: 1.00e+00\n",
      "- Time step  15989 / time 5.60e-13s (  8 % done), field decay: 1.00e+00\n",
      "- Time step  23984 / time 8.40e-13s ( 12 % done), field decay: 5.90e-01\n",
      "- Time step  31978 / time 1.12e-12s ( 16 % done), field decay: 5.38e-01\n",
      "- Time step  39973 / time 1.40e-12s ( 20 % done), field decay: 6.06e-01\n",
      "- Time step  47968 / time 1.68e-12s ( 24 % done), field decay: 2.01e-01\n",
      "- Time step  55963 / time 1.96e-12s ( 28 % done), field decay: 3.24e-01\n",
      "- Time step  63957 / time 2.24e-12s ( 32 % done), field decay: 5.88e-01\n",
      "- Time step  71952 / time 2.52e-12s ( 36 % done), field decay: 2.57e-01\n",
      "- Time step  79947 / time 2.80e-12s ( 40 % done), field decay: 1.74e-01\n",
      "- Time step  87941 / time 3.08e-12s ( 44 % done), field decay: 5.51e-01\n",
      "- Time step  95936 / time 3.36e-12s ( 48 % done), field decay: 5.47e-01\n",
      "- Time step 103931 / time 3.64e-12s ( 52 % done), field decay: 1.64e-01\n",
      "- Time step 111926 / time 3.92e-12s ( 56 % done), field decay: 2.39e-01\n",
      "- Time step 119920 / time 4.20e-12s ( 60 % done), field decay: 5.42e-01\n",
      "- Time step 127915 / time 4.48e-12s ( 64 % done), field decay: 3.83e-01\n",
      "- Time step 135910 / time 4.76e-12s ( 68 % done), field decay: 4.09e-02\n",
      "- Time step 143904 / time 5.04e-12s ( 72 % done), field decay: 2.60e-01\n",
      "- Time step 151899 / time 5.32e-12s ( 76 % done), field decay: 6.59e-01\n",
      "- Time step 159894 / time 5.60e-12s ( 80 % done), field decay: 4.08e-01\n",
      "- Time step 167889 / time 5.88e-12s ( 84 % done), field decay: 1.06e-01\n",
      "- Time step 175883 / time 6.16e-12s ( 88 % done), field decay: 4.49e-01\n",
      "- Time step 183878 / time 6.44e-12s ( 92 % done), field decay: 7.41e-01\n",
      "- Time step 191873 / time 6.72e-12s ( 96 % done), field decay: 2.83e-01\n",
      "- Time step 199867 / time 7.00e-12s (100 % done), field decay: 4.50e-02\n",
      "\n",
      "Solver time (s):              193.1921\n",
      "Post-processing time (s):     0.1102\n",
      "\n"
     ]
    }
   ],
   "source": [
    "# run all simulations, take about 2-3 minutes each with some download time\n",
    "flux_empty = get_flux(sim_empty, task_name='normalization')\n",
    "flux_delta0 = get_flux(sim_d0, task_name='Si-resonator-delta-0')\n",
    "flux_delta20 = get_flux(sim_d20, task_name='Si-resonator-delta-20')"
   ]
  },
  {
   "cell_type": "markdown",
   "metadata": {},
   "source": [
    "## Get Results and Plot"
   ]
  },
  {
   "cell_type": "code",
   "execution_count": 11,
   "metadata": {
    "execution": {
     "iopub.execute_input": "2021-09-08T00:28:29.082843Z",
     "iopub.status.busy": "2021-09-08T00:28:29.082493Z",
     "iopub.status.idle": "2021-09-08T00:28:29.366273Z",
     "shell.execute_reply": "2021-09-08T00:28:29.365951Z"
    }
   },
   "outputs": [
    {
     "data": {
      "image/png": "[encoded data removed]",
      "text/plain": [
       "<Figure size 432x288 with 1 Axes>"
      ]
     },
     "metadata": {
      "needs_background": "light"
     },
     "output_type": "display_data"
    }
   ],
   "source": [
    "# plot normalizing run (transmission through substrate alone)\n",
    "plt.plot(wavelengths / nm, np.abs(flux_empty), color='k')\n",
    "plt.ylim([0,1])\n",
    "plt.title('normalizing run (no Si)')\n",
    "plt.xlabel('wavelength ($nm$)')\n",
    "plt.ylabel('Transmission')\n",
    "plt.show()"
   ]
  },
  {
   "cell_type": "markdown",
   "metadata": {},
   "source": [
    "The normalizing run computes the transmitted flux for an air -> SiO2 interface, which is just below unity due to some reflection.\n",
    "\n",
    "While not technically necessary for this example, since this transmission can be computed analytically, it is often a good idea to run a normalizing run so you can accurately measure the *change* in output when the structure is added.  For example, for multilayer structures, the normalizing run displays frequency dependence, which would make it prudent to include in the calculation."
   ]
  },
  {
   "cell_type": "code",
   "execution_count": 12,
   "metadata": {
    "execution": {
     "iopub.execute_input": "2021-09-08T00:28:29.369581Z",
     "iopub.status.busy": "2021-09-08T00:28:29.369265Z",
     "iopub.status.idle": "2021-09-08T00:28:29.483388Z",
     "shell.execute_reply": "2021-09-08T00:28:29.483922Z"
    }
   },
   "outputs": [
    {
     "data": {
      "image/png": "[encoded data removed]",
      "text/plain": [
       "<Figure size 432x324 with 1 Axes>"
      ]
     },
     "metadata": {
      "needs_background": "light"
     },
     "output_type": "display_data"
    }
   ],
   "source": [
    "# plot transmission, compare to paper results, look similar\n",
    "fig, ax = plt.subplots(1, 1, figsize=(6, 4.5))\n",
    "plt.plot(wavelengths / nm, flux_delta0 / flux_empty, color='red', label='$\\delta=0$')\n",
    "plt.plot(wavelengths / nm, flux_delta20 / flux_empty, color='blue', label='$\\delta=20~nm$')\n",
    "plt.xlabel('wavelength ($nm$)')\n",
    "plt.ylabel('Transmission')\n",
    "plt.xlim([1050, 1400])\n",
    "plt.ylim([0, 1])\n",
    "plt.legend()\n",
    "plt.show()"
   ]
  },
  {
   "cell_type": "markdown",
   "metadata": {},
   "source": [
    "## Results Comparison\n",
    "\n",
    "Compare this plot to published results computed using COMSOL (FEM):\n",
    "\n",
    "<img src=\"img/Si_plot.png\" alt=\"diagram\" width=\"400\"/>\n",
    "\n",
    "(Citation: Opt. Lett. 43, 1842-1845 (2018).  With permission from the Optical Society)"
   ]
  },
  {
   "cell_type": "code",
   "execution_count": null,
   "metadata": {},
   "outputs": [],
   "source": []
  }
 ],
 "metadata": {
  "kernelspec": {
   "display_name": "Python 3",
   "language": "python",
   "name": "python3"
  },
  "language_info": {
   "codemirror_mode": {
    "name": "ipython",
    "version": 3
   },
   "file_extension": ".py",
   "mimetype": "text/x-python",
   "name": "python",
   "nbconvert_exporter": "python",
   "pygments_lexer": "ipython3",
   "version": "3.8.3"
  }
 },
 "nbformat": 4,
 "nbformat_minor": 4
}
