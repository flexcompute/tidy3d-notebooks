{
 "cells": [
  {
   "cell_type": "markdown",
   "metadata": {},
   "source": [
    "# Example: resonator benchmark (COMSOL)\n",
    "\n",
    "See on [github](https://github.com/flexcompute/tidy3d-notebooks/blob/main/HighQ_Si.ipynb), run on [colab](https://colab.research.google.com/github/flexcompute/tidy3d-notebooks/blob/main/HighQ_Si.ipynb), or just follow along with the output below.\n",
    "\n",
    "In this example, we reproduce the findings of Zhang et al. (2018), which is linked [here](https://www.osapublishing.org/ol/abstract.cfm?uri=ol-43-8-1842).\n",
    "\n",
    "This notebook was originally developed and written by Romil Audhkhasi (USC). \n",
    "\n",
    "The paper investigates the resonances of silicon structures by measuring their transmission spectrum under varying geometric parameters.\n",
    "\n",
    "The paper uses a finite element solver (COMSOL), which matches the result from Tidy3D.\n",
    "\n",
    "<!-- <img src=\"img/Si_struct.png\" alt=\"diagram\" width=\"300\"/> -->\n",
    "\n",
    "To do this calculation, we use a broadband pulse and frequency monitor to measure the flux on the opposite side of the structure."
   ]
  },
  {
   "cell_type": "code",
   "execution_count": 1,
   "metadata": {},
   "outputs": [],
   "source": [
    "# basic ipython configuration (reload source code automatically and plots inline)\n",
    "%load_ext autoreload\n",
    "%autoreload 2\n",
    "%matplotlib inline\n",
    "\n",
    "# get the most recent version of tidy3d\n",
    "!pip install -q --upgrade tidy3d\n",
    "\n",
    "# standard python imports\n",
    "import numpy as np\n",
    "import matplotlib.pyplot as plt\n",
    "\n",
    "# tidy3D import\n",
    "import tidy3d as td\n",
    "from tidy3d import web"
   ]
  },
  {
   "cell_type": "markdown",
   "metadata": {},
   "source": [
    "## Set Up Simulation"
   ]
  },
  {
   "cell_type": "code",
   "execution_count": 2,
   "metadata": {},
   "outputs": [],
   "source": [
    "nm = 1e-3\n",
    "\n",
    "# define the frequencies we want to measure\n",
    "Nfreq = 1000\n",
    "wavelengths = nm * np.linspace(1050, 1400, Nfreq)\n",
    "freqs = td.constants.C_0 / wavelengths\n",
    "\n",
    "# define the frequency center and width of our pulse\n",
    "freq0 = freqs[len(freqs)//2]\n",
    "freqw = freqs[0] - freqs[-1]\n",
    "\n",
    "# Define material properties\n",
    "n_SiO2 = 1.46\n",
    "n_Si = 3.52\n",
    "SiO2 = td.Medium(epsilon=n_SiO2**2)\n",
    "Si = td.Medium(epsilon=n_Si**2)\n",
    "\n",
    "# resolution\n",
    "dl = 20 * nm"
   ]
  },
  {
   "cell_type": "code",
   "execution_count": 3,
   "metadata": {},
   "outputs": [],
   "source": [
    "# space between resonators and source\n",
    "spc = 1.5\n",
    "\n",
    "# geometric parameters\n",
    "Px = Py = P = 650 * nm  # periodicity in x and y\n",
    "t = 260 * nm            # thickness of silcon\n",
    "g = 80 * nm             # gap size\n",
    "L = 480 * nm            # length in x\n",
    "w_sum = 400 * nm        # sum of lengths in y\n",
    "\n",
    "# computes widths in y (w1 and w2) given the difference in lengths in y and the sum of lengths\n",
    "def calc_ws(delta):\n",
    "    \"\"\" delta is a tunable parameter used to break symmetry.\n",
    "        w_sum = w1 + w2\n",
    "        delta = w1 - w2\n",
    "        w_sum + delta = 2 * w1\n",
    "    \"\"\"\n",
    "    w1 = (w_sum + delta) / 2\n",
    "    w2 = w_sum - w1\n",
    "    return w1, w2"
   ]
  },
  {
   "cell_type": "code",
   "execution_count": 4,
   "metadata": {},
   "outputs": [],
   "source": [
    "# total size in z and [x,y,z]\n",
    "Lz = spc + t + t + spc\n",
    "sim_size = [Px, Py, Lz]\n",
    "\n",
    "# sio2 substrate\n",
    "substrate = td.Box(\n",
    "    center=[0, 0, -Lz/2],\n",
    "    size=[td.inf, td.inf, 2*(spc+t)],\n",
    "    material=SiO2,\n",
    "    name='substrate'\n",
    ")\n",
    "\n",
    "# creates a list of structures given a value of 'delta'\n",
    "def geometry(delta):\n",
    "    w1, w2 = calc_ws(delta)\n",
    "    center_y = (w1 - w2) / 2.0\n",
    "\n",
    "    cell1 = td.Box(\n",
    "        center=[0, center_y + (g + w1)/2., t/2.],\n",
    "        size=[L, w1, t],\n",
    "        material=Si,\n",
    "        name='cell1'\n",
    "    )\n",
    "\n",
    "    cell2 = td.Box(\n",
    "        center=[0, center_y - (g + w2)/2., t/2.],\n",
    "        size=[L, w2, t],\n",
    "        material=Si,\n",
    "        name='cell2'\n",
    "    )\n",
    "\n",
    "    return [substrate, cell1, cell2]\n"
   ]
  },
  {
   "cell_type": "code",
   "execution_count": 5,
   "metadata": {},
   "outputs": [],
   "source": [
    "# time dependence of source\n",
    "gaussian = td.GaussianPulse(freq0, freqw)\n",
    "\n",
    "# plane wave source\n",
    "source = td.PlaneWave(\n",
    "            source_time=gaussian,\n",
    "            injection_axis='-z',\n",
    "            position= Lz/2 - spc + 2*dl,\n",
    "            polarization='x')\n",
    "\n",
    "# Simulation run time.  Note you need to run a long time to calculate high Q resonances.\n",
    "run_time = 500.0 / freqw"
   ]
  },
  {
   "cell_type": "code",
   "execution_count": 6,
   "metadata": {},
   "outputs": [],
   "source": [
    "# monitor fields on other side of structure (substrate side) at range of frequencies\n",
    "monitor = td.FreqMonitor(\n",
    "        center=[0., 0., -Lz/2 + spc - 2 * dl],\n",
    "        size=[td.inf, td.inf, 0],\n",
    "        freqs=freqs,\n",
    "        store=['flux'],\n",
    "        name='transmitted_fields')"
   ]
  },
  {
   "cell_type": "markdown",
   "metadata": {},
   "source": [
    "## Define Case Studies\n",
    "\n",
    "Here we define the three simulations to run\n",
    "\n",
    "- With no resonators (normalization)\n",
    "- With symmetric (delta = 0) resonators\n",
    "- With asymmetric (delta != 0) resonators\n"
   ]
  },
  {
   "cell_type": "code",
   "execution_count": 7,
   "metadata": {},
   "outputs": [
    {
     "name": "stdout",
     "output_type": "stream",
     "text": [
      "Initializing simulation...\n",
      "Mesh step (micron): [2.00e-02, 2.00e-02, 2.00e-02].\n",
      "Simulation domain in number of grid points: [32, 32, 206].\n",
      "Total number of grid points: 2.11e+05.\n",
      "Total number of time steps: 202073.\n",
      "Estimated data size (GB) of monitor transmitted_fields: 0.0000.\n",
      "Initializing simulation...\n",
      "Mesh step (micron): [2.00e-02, 2.00e-02, 2.00e-02].\n",
      "Simulation domain in number of grid points: [32, 32, 206].\n",
      "Total number of grid points: 2.11e+05.\n",
      "Total number of time steps: 202073.\n",
      "Estimated data size (GB) of monitor transmitted_fields: 0.0000.\n",
      "Initializing simulation...\n",
      "Mesh step (micron): [2.00e-02, 2.00e-02, 2.00e-02].\n",
      "Simulation domain in number of grid points: [32, 32, 206].\n",
      "Total number of grid points: 2.11e+05.\n",
      "Total number of time steps: 202073.\n",
      "Estimated data size (GB) of monitor transmitted_fields: 0.0000.\n"
     ]
    }
   ],
   "source": [
    "# normalizing run (no Si) to get baseline transmission vs freq\n",
    "sim_empty = td.Simulation(size=sim_size,\n",
    "                    mesh_step=[dl, dl, dl],\n",
    "                    structures=[substrate],\n",
    "                    sources=[source],\n",
    "                    monitors=[monitor],\n",
    "                    run_time=run_time,\n",
    "                    pml_layers=[0,0,15])\n",
    "\n",
    "# run with delta = 0\n",
    "sim_d0 = td.Simulation(size=sim_size,\n",
    "                    mesh_step=[dl, dl, dl],\n",
    "                    structures=geometry(0),\n",
    "                    sources=[source],\n",
    "                    monitors=[monitor],\n",
    "                    run_time=run_time,\n",
    "                    pml_layers=[0,0,15])\n",
    "\n",
    "# run with delta = 20nm\n",
    "sim_d20 = td.Simulation(size=sim_size,\n",
    "                    mesh_step=[dl, dl, dl],\n",
    "                    structures=geometry(20 * nm),\n",
    "                    sources=[source],\n",
    "                    monitors=[monitor],\n",
    "                    run_time=run_time,\n",
    "                    pml_layers=[0,0,15])"
   ]
  },
  {
   "cell_type": "code",
   "execution_count": 8,
   "metadata": {},
   "outputs": [
    {
     "data": {
      "image/png": "[encoded data removed]",
      "text/plain": [
       "<Figure size 1008x576 with 3 Axes>"
      ]
     },
     "metadata": {
      "needs_background": "light"
     },
     "output_type": "display_data"
    }
   ],
   "source": [
    "# Structure visualization in various planes\n",
    "\n",
    "fig, (ax1, ax2, ax3) = plt.subplots(1, 3, figsize=(14, 8))\n",
    "sim_d0.viz_eps_2D(normal='x', position=0, ax=ax1)\n",
    "sim_d0.viz_eps_2D(normal='y', position=g, ax=ax2)\n",
    "sim_d0.viz_eps_2D(normal='z', position=0, ax=ax3)\n",
    "plt.show()"
   ]
  },
  {
   "cell_type": "markdown",
   "metadata": {},
   "source": [
    "## Run Simulations"
   ]
  },
  {
   "cell_type": "code",
   "execution_count": 9,
   "metadata": {},
   "outputs": [],
   "source": [
    "# define a function that runs the simulations on our server and computes the flux\n",
    "\n",
    "def get_flux(sim, task_name='Si_resonator'):\n",
    "    project = web.new_project(sim.export(), task_name=task_name)\n",
    "    web.monitor_project(project['taskId'])\n",
    "    print('Downloading results')\n",
    "    web.download_results(project['taskId'], target_folder='out')\n",
    "    sim.load_results('out/monitor_data.hdf5')\n",
    "    with open('out/tidy3d.log', 'r') as f:\n",
    "        print(f.read())\n",
    "    return np.squeeze(sim.data(monitor)['flux'])\n"
   ]
  },
  {
   "cell_type": "code",
   "execution_count": 10,
   "metadata": {},
   "outputs": [
    {
     "name": "stdout",
     "output_type": "stream",
     "text": [
      "Uploading the json file...\n",
      "Project \"normalization-62\" status: success...        \n",
      "\n",
      "Downloading results\n",
      "Applying source normalization to all frequency monitors using source index 0.\n",
      "Simulation domain Nx, Ny, Nz: 32, 32, 206.\n",
      "Total number of computational grid points: 2.11e+05.\n",
      "Total number of time steps: 202073.\n",
      "Time step: 3.466500e-17.\n",
      "Starting Tidy3D... \n",
      "\n",
      "Setup time (s): 0.1975\n",
      "- Time step  10103  (  5 % done), field decay: 1.00e+00\n",
      "- Time step  20207  ( 10 % done), field decay: 1.00e+00\n",
      "- Time step  30310  ( 15 % done), field decay: 9.76e-01\n",
      "- Time step  40414  ( 20 % done), field decay: 8.83e-01\n",
      "- Time step  50518  ( 25 % done), field decay: 7.92e-01\n",
      "- Time step  60621  ( 30 % done), field decay: 8.01e-01\n",
      "- Time step  70725  ( 35 % done), field decay: 8.72e-01\n",
      "- Time step  80829  ( 40 % done), field decay: 8.79e-01\n",
      "- Time step  90932  ( 45 % done), field decay: 8.71e-01\n",
      "- Time step 101036  ( 50 % done), field decay: 7.89e-01\n",
      "- Time step 111140  ( 55 % done), field decay: 7.82e-01\n",
      "- Time step 121243  ( 60 % done), field decay: 7.94e-01\n",
      "- Time step 131347  ( 65 % done), field decay: 8.45e-01\n",
      "- Time step 141451  ( 70 % done), field decay: 8.14e-01\n",
      "- Time step 151554  ( 75 % done), field decay: 8.13e-01\n",
      "- Time step 161658  ( 80 % done), field decay: 7.70e-01\n",
      "- Time step 171762  ( 85 % done), field decay: 7.93e-01\n",
      "- Time step 181865  ( 90 % done), field decay: 8.03e-01\n",
      "- Time step 191969  ( 95 % done), field decay: 8.22e-01\n",
      "- Time step 202072  (100 % done), field decay: 8.19e-01\n",
      "Solver time (s): 102.643\n",
      "Post-processing time (s): 14.9445\n",
      "\n",
      "Uploading the json file...\n",
      "Project \"Si-resonator-delta-0-18\" status: success...       \n",
      "\n",
      "Downloading results\n",
      "Applying source normalization to all frequency monitors using source index 0.\n",
      "Simulation domain Nx, Ny, Nz: 32, 32, 206.\n",
      "Total number of computational grid points: 2.11e+05.\n",
      "Total number of time steps: 202073.\n",
      "Time step: 3.466500e-17.\n",
      "Starting Tidy3D... \n",
      "\n",
      "Setup time (s): 0.1737\n",
      "- Time step  10103  (  5 % done), field decay: 1.00e+00\n",
      "- Time step  20207  ( 10 % done), field decay: 3.26e-01\n",
      "- Time step  30310  ( 15 % done), field decay: 2.01e-01\n",
      "- Time step  40414  ( 20 % done), field decay: 1.35e-01\n",
      "- Time step  50518  ( 25 % done), field decay: 8.94e-02\n",
      "- Time step  60621  ( 30 % done), field decay: 5.88e-02\n",
      "- Time step  70725  ( 35 % done), field decay: 3.70e-02\n",
      "- Time step  80829  ( 40 % done), field decay: 2.29e-02\n",
      "- Time step  90932  ( 45 % done), field decay: 1.33e-02\n",
      "- Time step 101036  ( 50 % done), field decay: 7.79e-03\n",
      "- Time step 111140  ( 55 % done), field decay: 4.46e-03\n",
      "- Time step 121243  ( 60 % done), field decay: 2.24e-03\n",
      "- Time step 131347  ( 65 % done), field decay: 1.19e-03\n",
      "- Time step 141451  ( 70 % done), field decay: 6.10e-04\n",
      "- Time step 151554  ( 75 % done), field decay: 2.43e-04\n",
      "- Time step 161658  ( 80 % done), field decay: 1.09e-04\n",
      "- Time step 171762  ( 85 % done), field decay: 4.48e-05\n",
      "- Time step 181865  ( 90 % done), field decay: 1.15e-05\n",
      "- Time step 191969  ( 95 % done), field decay: 4.59e-06\n",
      "Field decay smaller than shutoff factor, exiting solver.\n",
      "Solver time (s): 98.2258\n",
      "Post-processing time (s): 15.3568\n",
      "\n",
      "Uploading the json file...\n",
      "Project \"Si-resonator-delta-20-18\" status: success...        \n",
      "\n",
      "Downloading results\n",
      "Applying source normalization to all frequency monitors using source index 0.\n",
      "Simulation domain Nx, Ny, Nz: 32, 32, 206.\n",
      "Total number of computational grid points: 2.11e+05.\n",
      "Total number of time steps: 202073.\n",
      "Time step: 3.466500e-17.\n",
      "Starting Tidy3D... \n",
      "\n",
      "Setup time (s): 0.1764\n",
      "- Time step  10103  (  5 % done), field decay: 1.00e+00\n",
      "- Time step  20207  ( 10 % done), field decay: 3.87e-01\n",
      "- Time step  30310  ( 15 % done), field decay: 4.62e-01\n",
      "- Time step  40414  ( 20 % done), field decay: 2.77e-01\n",
      "- Time step  50518  ( 25 % done), field decay: 3.44e-01\n",
      "- Time step  60621  ( 30 % done), field decay: 2.12e-01\n",
      "- Time step  70725  ( 35 % done), field decay: 2.50e-01\n",
      "- Time step  80829  ( 40 % done), field decay: 1.73e-01\n",
      "- Time step  90932  ( 45 % done), field decay: 1.90e-01\n",
      "- Time step 101036  ( 50 % done), field decay: 1.23e-01\n",
      "- Time step 111140  ( 55 % done), field decay: 1.13e-01\n",
      "- Time step 121243  ( 60 % done), field decay: 6.42e-02\n",
      "- Time step 131347  ( 65 % done), field decay: 4.44e-02\n",
      "- Time step 141451  ( 70 % done), field decay: 1.41e-02\n",
      "- Time step 151554  ( 75 % done), field decay: 4.78e-03\n",
      "- Time step 161658  ( 80 % done), field decay: 9.45e-04\n",
      "- Time step 171762  ( 85 % done), field decay: 1.11e-02\n",
      "- Time step 181865  ( 90 % done), field decay: 2.33e-02\n",
      "- Time step 191969  ( 95 % done), field decay: 4.77e-02\n",
      "- Time step 202072  (100 % done), field decay: 5.86e-02\n",
      "Solver time (s): 103.367\n",
      "Post-processing time (s): 15.0327\n",
      "\n"
     ]
    }
   ],
   "source": [
    "# run all simulations, take about 2-3 minutes each with some download time\n",
    "flux_empty = get_flux(sim_empty, task_name='normalization')\n",
    "flux_delta0 = get_flux(sim_d0, task_name='Si-resonator-delta-0')\n",
    "flux_delta20 = get_flux(sim_d20, task_name='Si-resonator-delta-20')"
   ]
  },
  {
   "cell_type": "markdown",
   "metadata": {},
   "source": [
    "## Get Results and Plot"
   ]
  },
  {
   "cell_type": "code",
   "execution_count": 11,
   "metadata": {},
   "outputs": [
    {
     "data": {
      "image/png": "[encoded data removed]",
      "text/plain": [
       "<Figure size 432x288 with 1 Axes>"
      ]
     },
     "metadata": {
      "needs_background": "light"
     },
     "output_type": "display_data"
    }
   ],
   "source": [
    "# plot normalizing run (transmission through substrate alone)\n",
    "plt.plot(wavelengths / nm, np.abs(flux_empty), color='k')\n",
    "plt.ylim([0,1])\n",
    "plt.title('normalizing run (no Si)')\n",
    "plt.xlabel('wavelength ($nm$)')\n",
    "plt.ylabel('Transmission')\n",
    "plt.show()"
   ]
  },
  {
   "cell_type": "markdown",
   "metadata": {},
   "source": [
    "The normalizing run computes the transmitted flux for an air -> SiO2 interface, which is just below unity due to some reflection.\n",
    "\n",
    "While not technically necessary for this example, since this transmission can be computed analytically, it is often a good idea to run a normalizing run so you can accurately measure the *change* in output when the structure is added.  For example, for multilayer structures, the normalizing run displays frequency dependence, which would make it prudent to include in the calculation."
   ]
  },
  {
   "cell_type": "code",
   "execution_count": 12,
   "metadata": {},
   "outputs": [
    {
     "data": {
      "image/png": "[encoded data removed]",
      "text/plain": [
       "<Figure size 432x324 with 1 Axes>"
      ]
     },
     "metadata": {
      "needs_background": "light"
     },
     "output_type": "display_data"
    }
   ],
   "source": [
    "# plot transmission, compare to paper results, look similar\n",
    "fig, ax = plt.subplots(1, 1, figsize=(6, 4.5))\n",
    "plt.plot(wavelengths / nm, flux_delta0 / flux_empty, color='red', label='$\\delta=0$')\n",
    "plt.plot(wavelengths / nm, flux_delta20 / flux_empty, color='blue', label='$\\delta=20~nm$')\n",
    "plt.xlabel('wavelength ($nm$)')\n",
    "plt.ylabel('Transmission')\n",
    "plt.xlim([1050, 1400])\n",
    "plt.ylim([0, 1])\n",
    "plt.legend()\n",
    "plt.show()"
   ]
  },
  {
   "cell_type": "markdown",
   "metadata": {},
   "source": [
    "<!-- <img src=\"img/Si_plot.png\" alt=\"diagram\" width=\"300\"/> -->\n"
   ]
  },
  {
   "cell_type": "code",
   "execution_count": null,
   "metadata": {},
   "outputs": [],
   "source": []
  }
 ],
 "metadata": {
  "kernelspec": {
   "display_name": "Python 3",
   "language": "python",
   "name": "python3"
  },
  "language_info": {
   "codemirror_mode": {
    "name": "ipython",
    "version": 3
   },
   "file_extension": ".py",
   "mimetype": "text/x-python",
   "name": "python",
   "nbconvert_exporter": "python",
   "pygments_lexer": "ipython3",
   "version": "3.7.7"
  }
 },
 "nbformat": 4,
 "nbformat_minor": 4
}
