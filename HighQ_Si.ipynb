{
 "cells": [
  {
   "cell_type": "markdown",
   "metadata": {},
   "source": [
    "# Resonator benchmark (COMSOL)\n",
    "\n",
    "See on [github](https://github.com/flexcompute/tidy3d-notebooks/blob/main/HighQ_Si.ipynb), run on [colab](https://colab.research.google.com/github/flexcompute/tidy3d-notebooks/blob/main/HighQ_Si.ipynb), or just follow along with the output below.\n",
    "\n",
    "In this example, we reproduce the findings of Zhang et al. (2018), which is linked [here](https://www.osapublishing.org/ol/abstract.cfm?uri=ol-43-8-1842).\n",
    "\n",
    "This notebook was originally developed and written by Romil Audhkhasi (USC). \n",
    "\n",
    "The paper investigates the resonances of silicon structures by measuring their transmission spectrum under varying geometric parameters.\n",
    "\n",
    "The paper uses a finite element solver (COMSOL), which matches the result from Tidy3D.\n",
    "\n",
    "<img src=\"img/Si_struct.png\" alt=\"diagram\" width=\"500\"/>\n",
    "\n",
    "(Citation: Opt. Lett. 43, 1842-1845 (2018).  With permission from the Optical Society)\n",
    "\n",
    "To do this calculation, we use a broadband pulse and frequency monitor to measure the flux on the opposite side of the structure."
   ]
  },
  {
   "cell_type": "code",
   "execution_count": 1,
   "metadata": {
    "execution": {
     "iopub.execute_input": "2021-09-28T00:34:04.003244Z",
     "iopub.status.busy": "2021-09-28T00:34:04.001991Z",
     "iopub.status.idle": "2021-09-28T00:34:05.390910Z",
     "shell.execute_reply": "2021-09-28T00:34:05.390406Z"
    }
   },
   "outputs": [],
   "source": [
    "# get the most recent version of tidy3d\n",
    "!pip install -q --upgrade tidy3d\n",
    "\n",
    "# make sure notebook plots inline\n",
    "%matplotlib inline\n",
    "\n",
    "# standard python imports\n",
    "import numpy as np\n",
    "import matplotlib.pyplot as plt\n",
    "\n",
    "# tidy3D import\n",
    "import tidy3d as td\n",
    "from tidy3d import web"
   ]
  },
  {
   "cell_type": "markdown",
   "metadata": {},
   "source": [
    "## Set Up Simulation"
   ]
  },
  {
   "cell_type": "code",
   "execution_count": 2,
   "metadata": {
    "execution": {
     "iopub.execute_input": "2021-09-28T00:34:05.394242Z",
     "iopub.status.busy": "2021-09-28T00:34:05.393765Z",
     "iopub.status.idle": "2021-09-28T00:34:05.403326Z",
     "shell.execute_reply": "2021-09-28T00:34:05.402986Z"
    }
   },
   "outputs": [],
   "source": [
    "nm = 1e-3\n",
    "\n",
    "# define the frequencies we want to measure\n",
    "Nfreq = 1000\n",
    "wavelengths = nm * np.linspace(1050, 1400, Nfreq)\n",
    "freqs = td.constants.C_0 / wavelengths\n",
    "\n",
    "# define the frequency center and width of our pulse\n",
    "freq0 = freqs[len(freqs)//2]\n",
    "freqw = freqs[0] - freqs[-1]\n",
    "\n",
    "# Define material properties\n",
    "n_SiO2 = 1.46\n",
    "n_Si = 3.52\n",
    "SiO2 = td.Medium(epsilon=n_SiO2**2)\n",
    "Si = td.Medium(epsilon=n_Si**2)"
   ]
  },
  {
   "cell_type": "code",
   "execution_count": 3,
   "metadata": {
    "execution": {
     "iopub.execute_input": "2021-09-28T00:34:05.406208Z",
     "iopub.status.busy": "2021-09-28T00:34:05.405863Z",
     "iopub.status.idle": "2021-09-28T00:34:05.415276Z",
     "shell.execute_reply": "2021-09-28T00:34:05.414837Z"
    }
   },
   "outputs": [],
   "source": [
    "# space between resonators and source\n",
    "spc = 1.5\n",
    "\n",
    "# geometric parameters\n",
    "Px = Py = P = 650 * nm  # periodicity in x and y\n",
    "t = 260 * nm            # thickness of silcon\n",
    "g = 80 * nm             # gap size\n",
    "L = 480 * nm            # length in x\n",
    "w_sum = 400 * nm        # sum of lengths in y\n",
    "\n",
    "# resolution (should be commensurate with periodicity)\n",
    "dl = P / 32\n",
    "dz = 20 * nm\n",
    "\n",
    "# computes widths in y (w1 and w2) given the difference in lengths in y and the sum of lengths\n",
    "def calc_ws(delta):\n",
    "    \"\"\" delta is a tunable parameter used to break symmetry.\n",
    "        w_sum = w1 + w2\n",
    "        delta = w1 - w2\n",
    "        w_sum + delta = 2 * w1\n",
    "    \"\"\"\n",
    "    w1 = (w_sum + delta) / 2\n",
    "    w2 = w_sum - w1\n",
    "    return w1, w2"
   ]
  },
  {
   "cell_type": "code",
   "execution_count": 4,
   "metadata": {
    "execution": {
     "iopub.execute_input": "2021-09-28T00:34:05.419005Z",
     "iopub.status.busy": "2021-09-28T00:34:05.418570Z",
     "iopub.status.idle": "2021-09-28T00:34:05.428372Z",
     "shell.execute_reply": "2021-09-28T00:34:05.428086Z"
    }
   },
   "outputs": [],
   "source": [
    "# total size in z and [x,y,z]\n",
    "Lz = spc + t + t + spc\n",
    "sim_size = [Px, Py, Lz]\n",
    "\n",
    "# sio2 substrate\n",
    "substrate = td.Box(\n",
    "    center=[0, 0, -Lz/2],\n",
    "    size=[td.inf, td.inf, 2*(spc+t)],\n",
    "    material=SiO2,\n",
    "    name='substrate'\n",
    ")\n",
    "\n",
    "# creates a list of structures given a value of 'delta'\n",
    "def geometry(delta):\n",
    "    w1, w2 = calc_ws(delta)\n",
    "    center_y = (w1 - w2) / 2.0\n",
    "\n",
    "    cell1 = td.Box(\n",
    "        center=[0, center_y + (g + w1)/2., t/2.],\n",
    "        size=[L, w1, t],\n",
    "        material=Si,\n",
    "        name='cell1'\n",
    "    )\n",
    "\n",
    "    cell2 = td.Box(\n",
    "        center=[0, center_y - (g + w2)/2., t/2.],\n",
    "        size=[L, w2, t],\n",
    "        material=Si,\n",
    "        name='cell2'\n",
    "    )\n",
    "\n",
    "    return [substrate, cell1, cell2]\n"
   ]
  },
  {
   "cell_type": "code",
   "execution_count": 5,
   "metadata": {
    "execution": {
     "iopub.execute_input": "2021-09-28T00:34:05.430999Z",
     "iopub.status.busy": "2021-09-28T00:34:05.430665Z",
     "iopub.status.idle": "2021-09-28T00:34:05.439635Z",
     "shell.execute_reply": "2021-09-28T00:34:05.439288Z"
    }
   },
   "outputs": [],
   "source": [
    "# time dependence of source\n",
    "gaussian = td.GaussianPulse(freq0, freqw)\n",
    "\n",
    "# plane wave source\n",
    "source = td.PlaneWave(\n",
    "            source_time=gaussian,\n",
    "            injection_axis='-z',\n",
    "            position= Lz/2 - spc + 2*dl,\n",
    "            polarization='x')\n",
    "\n",
    "# Simulation run time.  Note you need to run a long time to calculate high Q resonances.\n",
    "run_time = 7e-12"
   ]
  },
  {
   "cell_type": "code",
   "execution_count": 6,
   "metadata": {
    "execution": {
     "iopub.execute_input": "2021-09-28T00:34:05.442015Z",
     "iopub.status.busy": "2021-09-28T00:34:05.441676Z",
     "iopub.status.idle": "2021-09-28T00:34:05.450464Z",
     "shell.execute_reply": "2021-09-28T00:34:05.450103Z"
    }
   },
   "outputs": [],
   "source": [
    "# monitor fields on other side of structure (substrate side) at range of frequencies\n",
    "monitor = td.FreqMonitor(\n",
    "        center=[0., 0., -Lz/2 + spc - 2 * dl],\n",
    "        size=[td.inf, td.inf, 0],\n",
    "        freqs=freqs,\n",
    "        store=['flux'],\n",
    "        name='transmitted_fields')"
   ]
  },
  {
   "cell_type": "markdown",
   "metadata": {},
   "source": [
    "## Define Case Studies\n",
    "\n",
    "Here we define the three simulations to run\n",
    "\n",
    "- With no resonators (normalization)\n",
    "- With symmetric (delta = 0) resonators\n",
    "- With asymmetric (delta != 0) resonators\n"
   ]
  },
  {
   "cell_type": "code",
   "execution_count": 7,
   "metadata": {
    "execution": {
     "iopub.execute_input": "2021-09-28T00:34:05.453617Z",
     "iopub.status.busy": "2021-09-28T00:34:05.453272Z",
     "iopub.status.idle": "2021-09-28T00:34:05.471687Z",
     "shell.execute_reply": "2021-09-28T00:34:05.471955Z"
    }
   },
   "outputs": [
    {
     "name": "stdout",
     "output_type": "stream",
     "text": [
      "Initializing simulation...\n",
      "Mesh step (micron): [2.03e-02, 2.03e-02, 2.00e-02].\n",
      "Simulation domain in number of grid points: [32, 32, 206].\n",
      "Total number of computational grid points: 2.11e+05.\n",
      "Total number of time steps: 19987.\n",
      "Estimated data size (GB) of monitor transmitted_fields: 0.0000.\n",
      "Initializing simulation...\n",
      "Mesh step (micron): [2.03e-02, 2.03e-02, 2.00e-02].\n",
      "Simulation domain in number of grid points: [32, 32, 206].\n",
      "Total number of computational grid points: 2.11e+05.\n",
      "Total number of time steps: 199868.\n",
      "Estimated data size (GB) of monitor transmitted_fields: 0.0000.\n",
      "Initializing simulation...\n",
      "Mesh step (micron): [2.03e-02, 2.03e-02, 2.00e-02].\n",
      "Simulation domain in number of grid points: [32, 32, 206].\n",
      "Total number of computational grid points: 2.11e+05.\n",
      "Total number of time steps: 199868.\n",
      "Estimated data size (GB) of monitor transmitted_fields: 0.0000.\n"
     ]
    }
   ],
   "source": [
    "# normalizing run (no Si) to get baseline transmission vs freq\n",
    "# can be run for shorter time as there are no resonances\n",
    "sim_empty = td.Simulation(size=sim_size,\n",
    "                    mesh_step=[dl, dl, dz],\n",
    "                    structures=[substrate],\n",
    "                    sources=[source],\n",
    "                    monitors=[monitor],\n",
    "                    run_time=run_time/10,\n",
    "                    pml_layers=[0,0,15])\n",
    "\n",
    "# run with delta = 0\n",
    "sim_d0 = td.Simulation(size=sim_size,\n",
    "                    mesh_step=[dl, dl, dz],\n",
    "                    structures=geometry(0),\n",
    "                    sources=[source],\n",
    "                    monitors=[monitor],\n",
    "                    run_time=run_time,\n",
    "                    pml_layers=[0,0,15])\n",
    "\n",
    "# run with delta = 20nm\n",
    "sim_d20 = td.Simulation(size=sim_size,\n",
    "                    mesh_step=[dl, dl, dz],\n",
    "                    structures=geometry(20 * nm),\n",
    "                    sources=[source],\n",
    "                    monitors=[monitor],\n",
    "                    run_time=run_time,\n",
    "                    pml_layers=[0,0,15])"
   ]
  },
  {
   "cell_type": "code",
   "execution_count": 8,
   "metadata": {
    "execution": {
     "iopub.execute_input": "2021-09-28T00:34:05.474471Z",
     "iopub.status.busy": "2021-09-28T00:34:05.474110Z",
     "iopub.status.idle": "2021-09-28T00:34:05.835494Z",
     "shell.execute_reply": "2021-09-28T00:34:05.835126Z"
    }
   },
   "outputs": [
    {
     "data": {
      "image/png": "[encoded data removed]",
      "text/plain": [
       "<Figure size 1008x576 with 3 Axes>"
      ]
     },
     "metadata": {
      "needs_background": "light"
     },
     "output_type": "display_data"
    }
   ],
   "source": [
    "# Structure visualization in various planes\n",
    "\n",
    "fig, (ax1, ax2, ax3) = plt.subplots(1, 3, figsize=(14, 8))\n",
    "sim_d0.viz_eps_2D(normal='x', position=0, ax=ax1)\n",
    "sim_d0.viz_eps_2D(normal='y', position=g, ax=ax2)\n",
    "sim_d0.viz_eps_2D(normal='z', position=0, ax=ax3)\n",
    "plt.show()"
   ]
  },
  {
   "cell_type": "markdown",
   "metadata": {},
   "source": [
    "## Run Simulations"
   ]
  },
  {
   "cell_type": "code",
   "execution_count": 9,
   "metadata": {
    "execution": {
     "iopub.execute_input": "2021-09-28T00:34:05.838447Z",
     "iopub.status.busy": "2021-09-28T00:34:05.838067Z",
     "iopub.status.idle": "2021-09-28T00:34:05.847395Z",
     "shell.execute_reply": "2021-09-28T00:34:05.847061Z"
    }
   },
   "outputs": [],
   "source": [
    "# define a function that runs the simulations on our server and computes the flux\n",
    "\n",
    "def get_flux(sim, task_name='Si_resonator'):\n",
    "    project = web.new_project(sim.export(), task_name=task_name)\n",
    "    web.monitor_project(project['taskId'])\n",
    "    print('Downloading results')\n",
    "    web.download_results(project['taskId'], target_folder='out')\n",
    "    sim.load_results('out/monitor_data.hdf5')\n",
    "    with open('out/tidy3d.log', 'r') as f:\n",
    "        print(f.read())\n",
    "    return np.squeeze(sim.data(monitor)['flux'])\n"
   ]
  },
  {
   "cell_type": "code",
   "execution_count": 10,
   "metadata": {
    "execution": {
     "iopub.execute_input": "2021-09-28T00:34:05.849457Z",
     "iopub.status.busy": "2021-09-28T00:34:05.849123Z",
     "iopub.status.idle": "2021-09-28T00:41:55.673766Z",
     "shell.execute_reply": "2021-09-28T00:41:55.673239Z"
    }
   },
   "outputs": [
    {
     "name": "stdout",
     "output_type": "stream",
     "text": [
      "Uploading the json file...\n",
      "Project 'normalization-16a8d52b8a63dfe0' status: success...                                \n",
      "\n",
      "Downloading results\n",
      "Applying source normalization to all frequency monitors using source index 0.\n",
      "Simulation domain Nx, Ny, Nz: [32, 32, 206]\n",
      "Applied symmetries: [0, 0, 0]\n",
      "Number of computational grid points: 2.1094e+05.\n",
      "Using subpixel averaging: True\n",
      "Number of time steps: 19987\n",
      "Automatic shutoff factor: 1.00e-05\n",
      "Time step (s): 3.5023e-17\n",
      "\n",
      "Get source modes time (s):    0.0460\n",
      "Get monitor modes time (s):   0.1215\n",
      "Rest of setup time (s):       0.2263\n",
      "\n",
      "Starting solver...\n",
      "- Time step    318 / time 1.11e-14s (  1 % done), field decay: 1.00e+00\n",
      "- Time step    799 / time 2.80e-14s (  4 % done), field decay: 1.18e-05\n",
      "- Time step   1598 / time 5.60e-14s (  8 % done), field decay: 5.28e-13\n",
      "Field decay smaller than shutoff factor, exiting solver.\n",
      "\n",
      "Solver time (s):              2.6880\n",
      "Post-processing time (s):     0.0075\n",
      "\n",
      "Uploading the json file...\n",
      "Project 'Si-resonator-delta-0-16a8d53a12fd37a8' status: success...                                \n",
      "\n",
      "Downloading results\n",
      "Applying source normalization to all frequency monitors using source index 0.\n",
      "Simulation domain Nx, Ny, Nz: [32, 32, 206]\n",
      "Applied symmetries: [0, 0, 0]\n",
      "Number of computational grid points: 2.1094e+05.\n",
      "Using subpixel averaging: True\n",
      "Number of time steps: 199868\n",
      "Automatic shutoff factor: 1.00e-05\n",
      "Time step (s): 3.5023e-17\n",
      "\n",
      "Get source modes time (s):    0.0520\n",
      "Get monitor modes time (s):   0.1265\n",
      "Rest of setup time (s):       0.2234\n",
      "\n",
      "Starting solver...\n",
      "- Time step    318 / time 1.11e-14s (  0 % done), field decay: 1.00e+00\n",
      "- Time step   7994 / time 2.80e-13s (  4 % done), field decay: 7.01e-03\n",
      "- Time step  15989 / time 5.60e-13s (  8 % done), field decay: 5.59e-04\n",
      "- Time step  23984 / time 8.40e-13s ( 12 % done), field decay: 5.61e-04\n",
      "- Time step  31978 / time 1.12e-12s ( 16 % done), field decay: 3.87e-05\n",
      "- Time step  39973 / time 1.40e-12s ( 20 % done), field decay: 1.34e-04\n",
      "- Time step  47968 / time 1.68e-12s ( 24 % done), field decay: 1.43e-05\n",
      "- Time step  55963 / time 1.96e-12s ( 28 % done), field decay: 2.28e-05\n",
      "- Time step  63957 / time 2.24e-12s ( 32 % done), field decay: 8.69e-06\n",
      "Field decay smaller than shutoff factor, exiting solver.\n",
      "\n",
      "Solver time (s):              62.2796\n",
      "Post-processing time (s):     0.0081\n",
      "\n",
      "Uploading the json file...\n",
      "Project 'Si-resonator-delta-20-16a8d55839d042a8' status: success...                                \n",
      "\n",
      "Downloading results\n",
      "Applying source normalization to all frequency monitors using source index 0.\n",
      "Simulation domain Nx, Ny, Nz: [32, 32, 206]\n",
      "Applied symmetries: [0, 0, 0]\n",
      "Number of computational grid points: 2.1094e+05.\n",
      "Using subpixel averaging: True\n",
      "Number of time steps: 199868\n",
      "Automatic shutoff factor: 1.00e-05\n",
      "Time step (s): 3.5023e-17\n",
      "\n",
      "Get source modes time (s):    0.0695\n",
      "Get monitor modes time (s):   0.1432\n",
      "Rest of setup time (s):       0.2262\n",
      "\n",
      "Starting solver...\n",
      "- Time step    318 / time 1.11e-14s (  0 % done), field decay: 1.00e+00\n",
      "- Time step   7994 / time 2.80e-13s (  4 % done), field decay: 7.65e-03\n",
      "- Time step  15989 / time 5.60e-13s (  8 % done), field decay: 1.05e-02\n",
      "- Time step  23984 / time 8.40e-13s ( 12 % done), field decay: 6.48e-03\n",
      "- Time step  31978 / time 1.12e-12s ( 16 % done), field decay: 5.60e-03\n",
      "- Time step  39973 / time 1.40e-12s ( 20 % done), field decay: 6.23e-03\n",
      "- Time step  47968 / time 1.68e-12s ( 24 % done), field decay: 2.21e-03\n",
      "- Time step  55963 / time 1.96e-12s ( 28 % done), field decay: 3.53e-03\n",
      "- Time step  63957 / time 2.24e-12s ( 32 % done), field decay: 6.19e-03\n",
      "- Time step  71952 / time 2.52e-12s ( 36 % done), field decay: 2.69e-03\n",
      "- Time step  79947 / time 2.80e-12s ( 40 % done), field decay: 1.96e-03\n",
      "- Time step  87941 / time 3.08e-12s ( 44 % done), field decay: 5.97e-03\n",
      "- Time step  95936 / time 3.36e-12s ( 48 % done), field decay: 5.70e-03\n",
      "- Time step 103931 / time 3.64e-12s ( 52 % done), field decay: 1.62e-03\n",
      "- Time step 111926 / time 3.92e-12s ( 56 % done), field decay: 2.65e-03\n",
      "- Time step 119920 / time 4.20e-12s ( 60 % done), field decay: 5.81e-03\n",
      "- Time step 127915 / time 4.48e-12s ( 64 % done), field decay: 3.90e-03\n",
      "- Time step 135910 / time 4.76e-12s ( 68 % done), field decay: 4.10e-04\n",
      "- Time step 143904 / time 5.04e-12s ( 72 % done), field decay: 2.98e-03\n",
      "- Time step 151899 / time 5.32e-12s ( 76 % done), field decay: 7.05e-03\n",
      "- Time step 159894 / time 5.60e-12s ( 80 % done), field decay: 4.15e-03\n",
      "- Time step 167889 / time 5.88e-12s ( 84 % done), field decay: 1.15e-03\n",
      "- Time step 175883 / time 6.16e-12s ( 88 % done), field decay: 4.97e-03\n",
      "- Time step 183878 / time 6.44e-12s ( 92 % done), field decay: 7.80e-03\n",
      "- Time step 191873 / time 6.72e-12s ( 96 % done), field decay: 2.77e-03\n",
      "- Time step 199867 / time 7.00e-12s (100 % done), field decay: 5.43e-04\n",
      "\n",
      "Solver time (s):              193.6010\n",
      "Post-processing time (s):     0.0079\n",
      "\n"
     ]
    }
   ],
   "source": [
    "# run all simulations, take about 2-3 minutes each with some download time\n",
    "flux_empty = get_flux(sim_empty, task_name='normalization')\n",
    "flux_delta0 = get_flux(sim_d0, task_name='Si-resonator-delta-0')\n",
    "flux_delta20 = get_flux(sim_d20, task_name='Si-resonator-delta-20')"
   ]
  },
  {
   "cell_type": "markdown",
   "metadata": {},
   "source": [
    "## Get Results and Plot"
   ]
  },
  {
   "cell_type": "code",
   "execution_count": 11,
   "metadata": {
    "execution": {
     "iopub.execute_input": "2021-09-28T00:41:55.677194Z",
     "iopub.status.busy": "2021-09-28T00:41:55.676334Z",
     "iopub.status.idle": "2021-09-28T00:41:56.254118Z",
     "shell.execute_reply": "2021-09-28T00:41:56.253771Z"
    }
   },
   "outputs": [
    {
     "data": {
      "image/png": "[encoded data removed]",
      "text/plain": [
       "<Figure size 432x288 with 1 Axes>"
      ]
     },
     "metadata": {
      "needs_background": "light"
     },
     "output_type": "display_data"
    }
   ],
   "source": [
    "# plot normalizing run (transmission through substrate alone)\n",
    "plt.plot(wavelengths / nm, np.abs(flux_empty), color='k')\n",
    "plt.ylim([0,1])\n",
    "plt.title('normalizing run (no Si)')\n",
    "plt.xlabel('wavelength ($nm$)')\n",
    "plt.ylabel('Transmission')\n",
    "plt.show()"
   ]
  },
  {
   "cell_type": "markdown",
   "metadata": {},
   "source": [
    "The normalizing run computes the transmitted flux for an air -> SiO2 interface, which is just below unity due to some reflection.\n",
    "\n",
    "While not technically necessary for this example, since this transmission can be computed analytically, it is often a good idea to run a normalizing run so you can accurately measure the *change* in output when the structure is added.  For example, for multilayer structures, the normalizing run displays frequency dependence, which would make it prudent to include in the calculation."
   ]
  },
  {
   "cell_type": "code",
   "execution_count": 12,
   "metadata": {
    "execution": {
     "iopub.execute_input": "2021-09-28T00:41:56.257173Z",
     "iopub.status.busy": "2021-09-28T00:41:56.256828Z",
     "iopub.status.idle": "2021-09-28T00:41:56.423718Z",
     "shell.execute_reply": "2021-09-28T00:41:56.423415Z"
    }
   },
   "outputs": [
    {
     "data": {
      "image/png": "[encoded data removed]",
      "text/plain": [
       "<Figure size 432x324 with 1 Axes>"
      ]
     },
     "metadata": {
      "needs_background": "light"
     },
     "output_type": "display_data"
    }
   ],
   "source": [
    "# plot transmission, compare to paper results, look similar\n",
    "fig, ax = plt.subplots(1, 1, figsize=(6, 4.5))\n",
    "plt.plot(wavelengths / nm, flux_delta0 / flux_empty, color='red', label='$\\delta=0$')\n",
    "plt.plot(wavelengths / nm, flux_delta20 / flux_empty, color='blue', label='$\\delta=20~nm$')\n",
    "plt.xlabel('wavelength ($nm$)')\n",
    "plt.ylabel('Transmission')\n",
    "plt.xlim([1050, 1400])\n",
    "plt.ylim([0, 1])\n",
    "plt.legend()\n",
    "plt.show()"
   ]
  },
  {
   "cell_type": "markdown",
   "metadata": {},
   "source": [
    "## Results Comparison\n",
    "\n",
    "Compare this plot to published results computed using COMSOL (FEM):\n",
    "\n",
    "<img src=\"img/Si_plot.png\" alt=\"diagram\" width=\"400\"/>\n",
    "\n",
    "(Citation: Opt. Lett. 43, 1842-1845 (2018).  With permission from the Optical Society)"
   ]
  },
  {
   "cell_type": "code",
   "execution_count": null,
   "metadata": {},
   "outputs": [],
   "source": []
  }
 ],
 "metadata": {
  "kernelspec": {
   "display_name": "Python 3",
   "language": "python",
   "name": "python3"
  },
  "language_info": {
   "codemirror_mode": {
    "name": "ipython",
    "version": 3
   },
   "file_extension": ".py",
   "mimetype": "text/x-python",
   "name": "python",
   "nbconvert_exporter": "python",
   "pygments_lexer": "ipython3",
   "version": "3.6.13"
  }
 },
 "nbformat": 4,
 "nbformat_minor": 4
}
