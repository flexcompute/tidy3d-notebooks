{
 "cells": [
  {
   "cell_type": "markdown",
   "metadata": {},
   "source": [
    "# Using automatic nonuniform meshing\n",
    "\n",
    "Here we demonstrate how to use the automatic nonuniform grid generation available in `Tidy3D`. We show different possible ways to discretize the air-slot waveguide first introduced in [this reference](https://opg.optica.org/ol/abstract.cfm?uri=ol-29-11-1209).\n",
    "\n",
    "If you are new to the finite-difference time-domain (FDTD) method, we highly recommend going through our [FDTD101](https://www.flexcompute.com/fdtd101/) tutorials. "
   ]
  },
  {
   "cell_type": "code",
   "execution_count": null,
   "metadata": {
    "scrolled": true
   },
   "outputs": [],
   "source": [
    "# basic imports\n",
    "import numpy as np\n",
    "import matplotlib.pylab as plt\n",
    "\n",
    "# tidy3d imports\n",
    "import tidy3d as td\n",
    "from tidy3d.plugins.mode import ModeSolver\n"
   ]
  },
  {
   "cell_type": "code",
   "execution_count": null,
   "metadata": {
    "scrolled": true
   },
   "outputs": [],
   "source": [
    "# basic parameters (note, all length units are microns)\n",
    "nm = 1e-3\n",
    "wavelength = 1550 * nm\n",
    "freq0 = td.C_0 / wavelength\n",
    "\n",
    "# waveguide parameters\n",
    "slot_width = 50 * nm\n",
    "box_length = 300 * nm\n",
    "box_height = 180 * nm\n",
    "\n",
    "# materials\n",
    "si_med = td.Medium(permittivity=3.48**2)\n",
    "sub_med = td.Medium(permittivity=1.46**2)\n",
    "\n",
    "# structures\n",
    "box1 = td.Structure(\n",
    "    geometry=td.Box(\n",
    "        center=(0, -box_length / 2 - slot_width / 2, 0),\n",
    "        size=(td.inf, box_length, box_height),\n",
    "    ),\n",
    "    medium=si_med,\n",
    ")\n",
    "box2 = td.Structure(\n",
    "    geometry=td.Box(\n",
    "        center=(0, box_length / 2 + slot_width / 2, 0),\n",
    "        size=(td.inf, box_length, box_height),\n",
    "    ),\n",
    "    medium=si_med,\n",
    ")\n",
    "\n",
    "# boundaries\n",
    "boundary_spec = td.BoundarySpec.all_sides(boundary=td.PML())\n"
   ]
  },
  {
   "cell_type": "markdown",
   "metadata": {},
   "source": [
    "Define a helper function to show us the various grids as we go along this exmaple."
   ]
  },
  {
   "cell_type": "code",
   "execution_count": null,
   "metadata": {
    "scrolled": true
   },
   "outputs": [],
   "source": [
    "# Plot simulation and overlay grid in the yz and xy planes\n",
    "def plot_sim_grid(sim):\n",
    "    fig, ax = plt.subplots(1, 2, figsize=(12, 6))\n",
    "    sim.plot(x=0, ax=ax[0])\n",
    "    sim.plot_grid(x=0, ax=ax[0], lw=0.4, colors=\"r\")\n",
    "    ax[0].set_xlim(-0.6, 0.6)\n",
    "    ax[0].set_ylim(-0.4, 0.4)\n",
    "    sim.plot(z=0, ax=ax[1])\n",
    "    sim.plot_grid(z=0, ax=ax[1], lw=0.4, colors=\"r\")\n",
    "    ax[1].set_xlim(-0.6, 0.6)\n",
    "    ax[1].set_ylim(-0.4, 0.4)\n",
    "    print(f\"Total number of grid points (millions): {sim.num_cells / 1e6:1.2}\")\n",
    "\n",
    "    return ax\n"
   ]
  },
  {
   "cell_type": "markdown",
   "metadata": {},
   "source": [
    "## Uniform grid\n",
    "\n",
    "The most standard way to define a simulation is to use a constant grid size in each of the three directions. This can be achieved simply using `td.GridSpec.uniform(dl=...)` as shown below."
   ]
  },
  {
   "cell_type": "code",
   "execution_count": null,
   "metadata": {},
   "outputs": [],
   "source": [
    "sim_uniform = td.Simulation(\n",
    "    size=[5, 3, 3],\n",
    "    grid_spec=td.GridSpec.uniform(dl=20 * nm),\n",
    "    medium=sub_med,\n",
    "    structures=[box1, box2],\n",
    "    boundary_spec=boundary_spec,\n",
    "    run_time=1e-12,\n",
    ")\n",
    "\n",
    "ax = plot_sim_grid(sim_uniform)\n"
   ]
  },
  {
   "cell_type": "markdown",
   "metadata": {},
   "source": [
    "Note: `Tidy3D` is warning us that our Simulation does not contain sources. In this case, since we are using the simulation as a demonstration of the meshing process and are not running any simulations, we may safely ignore this warning throughout this notebook."
   ]
  },
  {
   "cell_type": "markdown",
   "metadata": {},
   "source": [
    "## Quasi-uniform grid\n",
    "\n",
    "In many simulations, we aim to have a meshing that is almost uniform everywhere, but locally adjust to structure boundaries or snapping points. This can be achieved simply using `td.GridSpec.quasiuniform(dl=...)` as shown below."
   ]
  },
  {
   "cell_type": "code",
   "execution_count": null,
   "metadata": {},
   "outputs": [],
   "source": [
    "sim_quasiuniform = td.Simulation(\n",
    "    size=[5, 3, 3],\n",
    "    grid_spec=td.GridSpec.quasiuniform(dl=20 * nm),\n",
    "    medium=sub_med,\n",
    "    structures=[box1, box2],\n",
    "    boundary_spec=boundary_spec,\n",
    "    run_time=1e-12,\n",
    ")\n",
    "\n",
    "ax = plot_sim_grid(sim_quasiuniform)\n"
   ]
  },
  {
   "cell_type": "markdown",
   "metadata": {},
   "source": [
    "The grids look quite uniform. Compared to the uniform grid figure, here the grid is aligned with the edges of the two waveguides' boundaries."
   ]
  },
  {
   "cell_type": "markdown",
   "metadata": {},
   "source": [
    "## Automatic nonuniform grid\n",
    "\n",
    "By default, `Tidy3D` uses a more advanced meshing, using an algorithm to automatically define a nonuniform grid in all three directions. The resolution of this grid is specified using two parameters:\n",
    "- Minimum steps per wavelength in each material (`min_steps_per_wvl = 10` by default). This specification therefore requires a target wavelength, which can be either provided directly to `grid_spec`, or inferred from any sources present in the simulation. The two simulations below will have the same grid;\n",
    "- Minimum steps per longest edge length of simulation domain bounding box (`min_steps_per_sim_size=10` by default). This specification is relevant when the entire simulation domain is subwavelength, e.g. in radio-frequency simulations."
   ]
  },
  {
   "cell_type": "code",
   "execution_count": null,
   "metadata": {},
   "outputs": [],
   "source": [
    "# provide wavelength directly\n",
    "sim_nonuniform_10 = td.Simulation(\n",
    "    size=[5, 3, 3],\n",
    "    grid_spec=td.GridSpec.auto(wavelength=wavelength),\n",
    "    medium=sub_med,\n",
    "    structures=[box1, box2],\n",
    "    boundary_spec=boundary_spec,\n",
    "    run_time=1e-12,\n",
    ")\n",
    "\n",
    "# no grid_spec defined; using default with wavelength taken from source\n",
    "source = td.ModeSource(\n",
    "    center=(-2, 0, 0),\n",
    "    size=(0, 2, 2),\n",
    "    mode_index=0,\n",
    "    direction=\"+\",\n",
    "    source_time=td.GaussianPulse(freq0=freq0, fwidth=freq0 / 10),\n",
    ")\n",
    "sim_nonuniform_10 = td.Simulation(\n",
    "    size=[5, 3, 3],\n",
    "    medium=sub_med,\n",
    "    structures=[box1, box2],\n",
    "    boundary_spec=boundary_spec,\n",
    "    run_time=1e-12,\n",
    "    sources=[source],\n",
    ")\n",
    "\n",
    "ax = plot_sim_grid(sim_nonuniform_10)\n"
   ]
  },
  {
   "cell_type": "markdown",
   "metadata": {},
   "source": [
    "The default grid is somewhat coarse, but it is often good for initial simulations. We can easily refine it by requiring a higher number of steps per wavelength:"
   ]
  },
  {
   "cell_type": "code",
   "execution_count": null,
   "metadata": {},
   "outputs": [],
   "source": [
    "sim_nonuniform_20 = td.Simulation(\n",
    "    size=[5, 3, 3],\n",
    "    grid_spec=td.GridSpec.auto(\n",
    "        wavelength=wavelength,\n",
    "        min_steps_per_wvl=20,\n",
    "    ),\n",
    "    medium=sub_med,\n",
    "    structures=[box1, box2],\n",
    "    boundary_spec=boundary_spec,\n",
    "    run_time=1e-12,\n",
    ")\n",
    "ax = plot_sim_grid(sim_nonuniform_20)\n"
   ]
  },
  {
   "cell_type": "markdown",
   "metadata": {},
   "source": [
    "Notice how the automatic grid conforms to the structures in the simulation, and the grid steps are high in the high-index regions. \n",
    "\n",
    "### Lower bound of grid size\n",
    "Sometimes the grid size in the automatically generated mesh is too small. A lower bound `dl_min` can be set to increase the minimal grid size. Note that the bound is soft, meaning that the actual grid size might be slightly smaller.\n",
    "\n",
    "The minimal step size along y-direction in the previous setup is,"
   ]
  },
  {
   "cell_type": "code",
   "execution_count": null,
   "metadata": {},
   "outputs": [],
   "source": [
    "print(\n",
    "    f\"Minimal grid size along y-direction = {min(sim_nonuniform_20.grid.sizes.y)*1e3:1.2f}nm\"\n",
    ")\n"
   ]
  },
  {
   "cell_type": "markdown",
   "metadata": {},
   "source": [
    "Now let's set a lower bound of 25nm."
   ]
  },
  {
   "cell_type": "code",
   "execution_count": null,
   "metadata": {},
   "outputs": [],
   "source": [
    "sim_nonuniform_20 = td.Simulation(\n",
    "    size=[5, 3, 3],\n",
    "    grid_spec=td.GridSpec.auto(\n",
    "        wavelength=wavelength,\n",
    "        min_steps_per_wvl=20,\n",
    "        dl_min=25 * nm,\n",
    "    ),\n",
    "    medium=sub_med,\n",
    "    structures=[box1, box2],\n",
    "    boundary_spec=boundary_spec,\n",
    "    run_time=1e-12,\n",
    ")\n",
    "ax = plot_sim_grid(sim_nonuniform_20)\n",
    "print(\n",
    "    f\"Minimal grid size along y-direction = {min(sim_nonuniform_20.grid.sizes.y)*1e3:1.2f}nm\"\n",
    ")\n"
   ]
  },
  {
   "cell_type": "markdown",
   "metadata": {},
   "source": [
    "The actual minimal grid size along y-direction is 24.57nm, greater than 16.67nm when `dl_min` is not set."
   ]
  },
  {
   "cell_type": "markdown",
   "metadata": {},
   "source": [
    "### Grid snapping points\n",
    "\n",
    "Sometimes we want to make sure that grids are placed at certain locations. This can be achieved by adding `snapping_points` to the simulation `grid_spec`. `snapping_points` is a list of coordinates defining the positions of the points. Note that the snapping of grids is not enforced if they are too close among themselves or to structure boundaries.\n",
    "\n",
    "In the previous example, there is no grid point at `(0, -0.4, 0.2)`. Let's add a snapping point there to see the effects. As illustrated below, the snapping point is visualized as a red dot. Now grid boundaries pass through this point."
   ]
  },
  {
   "cell_type": "code",
   "execution_count": null,
   "metadata": {},
   "outputs": [],
   "source": [
    "sim_nonuniform_20 = td.Simulation(\n",
    "    size=[5, 3, 3],\n",
    "    grid_spec=td.GridSpec.auto(\n",
    "        wavelength=wavelength,\n",
    "        min_steps_per_wvl=20,\n",
    "        dl_min=25 * nm,\n",
    "        snapping_points=[(0, -0.4, 0.2),]\n",
    "    ),\n",
    "    medium=sub_med,\n",
    "    structures=[box1, box2],\n",
    "    boundary_spec=boundary_spec,\n",
    "    run_time=1e-12,\n",
    ")\n",
    "ax = plot_sim_grid(sim_nonuniform_20)"
   ]
  },
  {
   "cell_type": "markdown",
   "metadata": {},
   "source": [
    "### Mesh override structures\n",
    "For this particular problem, we may want to do a final refinement around the slot, where we expect the fields to be strongest. This can be achieved by adding `override_structures` to the simulation `grid_spec`."
   ]
  },
  {
   "cell_type": "markdown",
   "metadata": {},
   "source": [
    "`override_structures` is a list of `Tidy3D` structures each with an arbitrary geometry which are used exclusively for the meshing, added on top of any physical simulation structures.\n",
    "\n",
    "There are two types of `Tidy3D` structures that can be added the `override_structures` list. The first type defines a fictitious medium inside the override structure so that the grid size is decided by the minimum steps per wavelength in the medium; The second type is more straightforward: one can directly define the grid size along each axis inside the override structures.\n",
    "\n",
    "#### Override Structure -- option 1\n",
    "The first type is identical to the [Structure](https://docs.flexcompute.com/projects/tidy3d/en/latest/api/_autosummary/tidy3d.Structure.html) object that consists of a [Geometry](https://docs.flexcompute.com/projects/tidy3d/en/latest/api/index.html#geometry) and a [Medium](https://docs.flexcompute.com/projects/tidy3d/en/latest/api/index.html#mediums). The grid step in the override_structure region is decided by the minimum steps per wavelength in this `medium`."
   ]
  },
  {
   "cell_type": "code",
   "execution_count": null,
   "metadata": {},
   "outputs": [],
   "source": [
    "# Define a \"dummy\" box with refractive index 5 around the central location of the waveguide\n",
    "refine_box = td.Structure(\n",
    "    geometry=td.Box(center=(0, 0, 0), size=(td.inf, 0.4, 0.4)),\n",
    "    medium=td.Medium(permittivity=5**2),\n",
    ")\n",
    "\n",
    "# Use the box as a grid refinement structure\n",
    "sim_nonuniform_20_refine = td.Simulation(\n",
    "    size=[5, 3, 3],\n",
    "    grid_spec=td.GridSpec.auto(\n",
    "        wavelength=wavelength,\n",
    "        min_steps_per_wvl=20,\n",
    "        override_structures=[refine_box],\n",
    "    ),\n",
    "    medium=sub_med,\n",
    "    structures=[box1, box2],\n",
    "    boundary_spec=boundary_spec,\n",
    "    run_time=1e-12,\n",
    ")\n",
    "\n",
    "ax = plot_sim_grid(sim_nonuniform_20_refine)\n"
   ]
  },
  {
   "cell_type": "markdown",
   "metadata": {},
   "source": [
    "Note that the override region is highlighted in the grid plotting. Now this looks pretty good - the grid size of the points around the slot region is `1550 / 20 / 5 = 15.5` nanometers, while overall the simulation has twice fewer total number of grid points (`4.0M`) compared to the simulation with a uniform mesh step of `20` nanometers (`8.3M`). One thing to note, however, is that the override structure made the grid along the x-dimension small, which may not be necessary. To avoid this, we can change that structure to have `size = 0` along that dimension. This would force the non-uniform grid to place a grid boundary at the `center` of the override structure along `x`, but apart from that it will not refine the grid step along `x`."
   ]
  },
  {
   "cell_type": "code",
   "execution_count": null,
   "metadata": {},
   "outputs": [],
   "source": [
    "# Redefine the box with size 0 along x\n",
    "refine_box = td.Structure(\n",
    "    geometry=td.Box(center=(0, 0, 0), size=(0, 0.4, 0.4)),\n",
    "    medium=td.Medium(permittivity=5**2),\n",
    ")\n",
    "\n",
    "# Use the box as a grid refinement structure\n",
    "sim_nonuniform_20_refine = td.Simulation(\n",
    "    size=[5, 3, 3],\n",
    "    grid_spec=td.GridSpec.auto(\n",
    "        wavelength=wavelength,\n",
    "        min_steps_per_wvl=20,\n",
    "        override_structures=[refine_box],\n",
    "    ),\n",
    "    medium=sub_med,\n",
    "    structures=[box1, box2],\n",
    "    boundary_spec=boundary_spec,\n",
    "    run_time=1e-12,\n",
    ")\n",
    "\n",
    "ax = plot_sim_grid(sim_nonuniform_20_refine)\n"
   ]
  },
  {
   "cell_type": "markdown",
   "metadata": {},
   "source": [
    "#### Override Structure -- option 2\n",
    "The second type is the [MeshOverrideStructure](https://docs.flexcompute.com/projects/tidy3d/en/latest/api/_autosummary/tidy3d.MeshOverrideStructure.html) object that consists of a [Geometry](https://docs.flexcompute.com/projects/tidy3d/en/latest/api/index.html#geometry), and a tuple `dl` specifying the grid sizes along x,y,z directions. We can override the grid sizes just along a few selected directions by setting the value to be `None` in the `dl` tuple along the other directions. E.g. if we only plan to refine the grid size along x-direction with grid size 0.01 micron, we can apply `dl=(0.01, None, None)`. In the following, we override the grid size along `y` and `z` to be 15.5nm."
   ]
  },
  {
   "cell_type": "code",
   "execution_count": null,
   "metadata": {},
   "outputs": [],
   "source": [
    "refine_box = td.MeshOverrideStructure(\n",
    "    geometry=td.Box(center=(0, 0, 0), size=(td.inf, 0.4, 0.4)),\n",
    "    dl=[None, 15.5 * nm, 15.5 * nm],\n",
    ")\n",
    "\n",
    "# Use the box as a grid refinement structure\n",
    "sim_nonuniform_20_refine = td.Simulation(\n",
    "    size=[5, 3, 3],\n",
    "    grid_spec=td.GridSpec.auto(\n",
    "        wavelength=wavelength,\n",
    "        min_steps_per_wvl=20,\n",
    "        override_structures=[refine_box],\n",
    "    ),\n",
    "    medium=sub_med,\n",
    "    structures=[box1, box2],\n",
    "    boundary_spec=boundary_spec,\n",
    "    run_time=1e-12,\n",
    ")\n",
    "\n",
    "ax = plot_sim_grid(sim_nonuniform_20_refine)\n"
   ]
  },
  {
   "cell_type": "markdown",
   "metadata": {},
   "source": [
    "Just for fun, we can also have a look at the modes of this structure."
   ]
  },
  {
   "cell_type": "code",
   "execution_count": null,
   "metadata": {
    "tags": []
   },
   "outputs": [],
   "source": [
    "num_modes = 3\n",
    "plane = td.Box(center=(0, 0, 0), size=(0, 2, 2))\n",
    "mode_spec = td.ModeSpec(num_modes=num_modes)\n",
    "ms = ModeSolver(\n",
    "    simulation=sim_nonuniform_20_refine, plane=plane, mode_spec=mode_spec, freqs=[freq0]\n",
    ")\n",
    "modes = ms.solve()\n",
    "fig, axs = plt.subplots(num_modes, 2, figsize=(12, 14))\n",
    "for mode_ind in range(num_modes):\n",
    "    ms.plot_field(\n",
    "        \"Ey\", \"abs\", f=freq0, mode_index=mode_ind, ax=axs[mode_ind, 0], robust=False\n",
    "    )\n",
    "    ms.plot_field(\n",
    "        \"Ez\", \"abs\", f=freq0, mode_index=mode_ind, ax=axs[mode_ind, 1], robust=False\n",
    "    )\n",
    "plt.show()\n"
   ]
  },
  {
   "cell_type": "markdown",
   "metadata": {},
   "source": [
    "#### Mesh override with coarser grid size\n",
    "Sometimes, instead of refinement, we want to override a region with a coarser mesh. This can be achieved by setting `enforce=True` in [MeshOverrideStructure](https://docs.flexcompute.com/projects/tidy3d/en/latest/api/_autosummary/tidy3d.MeshOverrideStructure.html).\n",
    "\n",
    "First, let's see the default behavior where `enforce=False` so that the override structure with coarser mesh will be ignored unless it fully covers the structure of fine mesh. In the following example, we try to override the mesh along x-direction be to 40nm."
   ]
  },
  {
   "cell_type": "code",
   "execution_count": null,
   "metadata": {},
   "outputs": [],
   "source": [
    "refine_box = td.MeshOverrideStructure(\n",
    "    geometry=td.Box(center=(0, 0, 0), size=(td.inf, 0.4, 0.4)),\n",
    "    dl=[50 * nm, 15.5 * nm, 15.5 * nm],\n",
    ")\n",
    "\n",
    "# Use the box as a grid refinement structure\n",
    "sim_nonuniform_20_coarser = td.Simulation(\n",
    "    size=[5, 3, 3],\n",
    "    grid_spec=td.GridSpec.auto(\n",
    "        wavelength=wavelength,\n",
    "        min_steps_per_wvl=20,\n",
    "        override_structures=[refine_box],\n",
    "    ),\n",
    "    medium=sub_med,\n",
    "    structures=[box1, box2],\n",
    "    boundary_spec=boundary_spec,\n",
    "    run_time=1e-12,\n",
    ")\n",
    "\n",
    "ax = plot_sim_grid(sim_nonuniform_20_coarser)\n",
    "print(\n",
    "    f\"Minimal grid size along x-direction = {min(sim_nonuniform_20_coarser.grid.sizes.x)*1e3:1.2f}nm\"\n",
    ")\n"
   ]
  },
  {
   "cell_type": "markdown",
   "metadata": {},
   "source": [
    "The minimal grid size along x-direction is still 22nm, so the `override_structures` doesn't take effect. This is because, by default, the meshing chooses the step size based on the highest-index structure (real or override) at any given cross-section. However, this behavior can be overridden if we set `enforce=True` in an `MeshOverrideStructure`, in which case other structures are ignored."
   ]
  },
  {
   "cell_type": "code",
   "execution_count": null,
   "metadata": {},
   "outputs": [],
   "source": [
    "refine_box = td.MeshOverrideStructure(\n",
    "    geometry=td.Box(center=(0, 0, 0), size=(td.inf, 0.4, 0.4)),\n",
    "    dl=[40 * nm, None, None],\n",
    "    enforce=True,\n",
    ")\n",
    "\n",
    "# Use the box as a grid refinement structure\n",
    "sim_nonuniform_20_coarser = td.Simulation(\n",
    "    size=[5, 3, 3],\n",
    "    grid_spec=td.GridSpec.auto(\n",
    "        wavelength=wavelength,\n",
    "        min_steps_per_wvl=20,\n",
    "        override_structures=[refine_box],\n",
    "    ),\n",
    "    medium=sub_med,\n",
    "    structures=[box1, box2],\n",
    "    boundary_spec=boundary_spec,\n",
    "    run_time=1e-12,\n",
    ")\n",
    "\n",
    "ax = plot_sim_grid(sim_nonuniform_20_coarser)\n",
    "print(\n",
    "    f\"Minimal grid size along x-direction = {min(sim_nonuniform_20_coarser.grid.sizes.x)*1e3:1.2f}nm\"\n",
    ")\n"
   ]
  },
  {
   "cell_type": "markdown",
   "metadata": {},
   "source": [
    "Now the minimal grid size along x-direction is target 40nm. When multiple override structures with `enforce=True` overlap, the grid size in the intersection region is decided by the last such structure in the list."
   ]
  },
  {
   "cell_type": "markdown",
   "metadata": {},
   "source": [
    "## Combination of uniform and nonuiform grid\n",
    "\n",
    "Finally, we note that `Tidy3D` allows another easy way to handle the `x` direction in our example, namely applying different grid specifications along each of the three simulation directions. For example, we can set a fixed grid size of `40nm` along the propagation direction, where we expect the field dependence to be smooth, while still using the refined nonuniform mesh in the other two directions. This achieves the same effect as in the plot above."
   ]
  },
  {
   "cell_type": "code",
   "execution_count": null,
   "metadata": {},
   "outputs": [],
   "source": [
    "grid_spec = td.GridSpec(\n",
    "    grid_x=td.UniformGrid(dl=0.04),\n",
    "    grid_y=td.AutoGrid(min_steps_per_wvl=20),\n",
    "    grid_z=td.AutoGrid(min_steps_per_wvl=20),\n",
    "    wavelength=wavelength,\n",
    "    override_structures=[refine_box],\n",
    ")\n",
    "\n",
    "sim_nonuniform_yz_uniform_x = td.Simulation(\n",
    "    size=[5, 3, 3],\n",
    "    grid_spec=grid_spec,\n",
    "    medium=sub_med,\n",
    "    structures=[box1, box2],\n",
    "    boundary_spec=boundary_spec,\n",
    "    run_time=1e-12,\n",
    ")\n",
    "\n",
    "ax = plot_sim_grid(sim_nonuniform_yz_uniform_x)\n"
   ]
  },
  {
   "cell_type": "markdown",
   "metadata": {},
   "source": [
    "Note: the 2nd warning is just letting us know that we are using uniform grid along x-axis even though the override structures have some extent in these dimensions. We can ignore as this is intended."
   ]
  },
  {
   "cell_type": "code",
   "execution_count": null,
   "metadata": {},
   "outputs": [],
   "source": []
  }
 ],
 "metadata": {
  "description": "This notebook demonstrates how to use automatic nonuniform meshing in Tidy3D FDTD.",
  "feature_image": "",
  "kernelspec": {
   "display_name": "Python 3 (ipykernel)",
   "language": "python",
   "name": "python3"
  },
  "keywords": "automatic nonuniform meshing, automatic nonuniform grid, Tidy3D, FDTD",
  "language_info": {
   "codemirror_mode": {
    "name": "ipython",
    "version": 3
   },
   "file_extension": ".py",
   "mimetype": "text/x-python",
   "name": "python",
   "nbconvert_exporter": "python",
   "pygments_lexer": "ipython3",
   "version": "3.11.5"
  },
  "title": "Automatic Nonuniform Meshing in Tidy3D | Flexcompute"
 },
 "nbformat": 4,
 "nbformat_minor": 4
}
