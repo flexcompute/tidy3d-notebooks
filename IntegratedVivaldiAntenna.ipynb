{
 "cells": [
  {
   "cell_type": "markdown",
   "id": "32895d95-6fa3-477e-bebd-d2ad6f87f6a2",
   "metadata": {},
   "source": [
    "# Integrated plasmonic Vivaldi antenna with silicon waveguide\n",
    "\n",
    "**Running the entire notebook costs more than 1 FlexCredit.**\n",
    "\n",
    "Chip Multiprocessors (CMP) enhance efficiency by using multiple parallel cores. Efficient interconnection is crucial, leading to Network on Chip (NoC) and optical interconnections (ONoC) for better performance. ONoC faces issues like complexity and signal loss. Wireless connections (WiNoC) and on-chip wireless optical connections (OWiNoC) offer solutions by combining optical and wireless benefits, reducing complexity, and eliminating electro-optical conversion. \n",
    "\n",
    "In this notebook, we design a Vivaldi plasmonic antenna for on-chip optical communications. Known for high gain and wide bandwidth in the microwave range, the Vivaldi antenna can also perform well at optical frequencies with proper geometry adjustments. Its simple design, compact size, high gain, and large bandwidth make it ideal for optical wireless communications. The design principles are based on the work `Gaetano Bellanca, Giovanna Calò, Ali Emre Kaplan, Paolo Bassi, and Vincenzo Petruzzelli, \"Integrated Vivaldi plasmonic antenna for wireless on-chip optical communications,\" Opt. Express 25, 16214-16227 (2017).` [DOI: OE.25.016214](https://doi.org/10.1364/OE.25.016214).\n",
    "\n",
    "The design consists of three sections: the silicon waveguide, the coupling section, and the Vivaldi antenna as schematically shown below. We start by optimizing the coupling region geometry through coupled mode theory and normal mode analysis. Then the optimized coupler region is verified using FDTD. Finally we simulate the antenna structure and evaluate the antenna performance. Through this example, we demonstrate various features and functionalities in Tidy3D. They mainly include:\n",
    "\n",
    "1. How to use the [waveguide plugin](https://www.flexcompute.com/tidy3d/examples/notebooks/WaveguidePluginDemonstration/) for quick waveguide mode analysis on simple waveguide configurations.\n",
    "\n",
    "2. How to use the regular [mode solver plugin](https://www.flexcompute.com/tidy3d/examples/notebooks/ModeSolver/) to perform mode solving on arbitrary waveguide cross sections.\n",
    "\n",
    "3. How to [run mode solvers in parallel](https://www.flexcompute.com/tidy3d/examples/notebooks/BatchModeSolver/) to speed up the analysis.\n",
    "\n",
    "4. How to turn on volumetric averaging scheme for metal structures for enhanced accuracy. \n",
    "\n",
    "5. How to [perform near field to far field projection](https://www.flexcompute.com/tidy3d/examples/notebooks/FieldProjections/) and evaluate antenna performance by computing the antenna directivity.\n",
    "\n",
    "<img src=\"img/integrated_antenna.png\" width=\"500\" alt=\"Schematic of the integrated antenna\">\n",
    "\n",
    "For users who are interested in the physical principle behind the field projection, our [technical article](https://www.flexcompute.com/tidy3d/learn-center/technical-article/far-field-projection/) on this topic is a great learning source."
   ]
  },
  {
   "cell_type": "code",
   "execution_count": 1,
   "id": "3ab059ef-9027-49a6-a094-d6d53f57d923",
   "metadata": {
    "execution": {
     "iopub.execute_input": "2024-09-05T13:15:33.193745Z",
     "iopub.status.busy": "2024-09-05T13:15:33.192775Z",
     "iopub.status.idle": "2024-09-05T13:15:35.030627Z",
     "shell.execute_reply": "2024-09-05T13:15:35.029581Z"
    }
   },
   "outputs": [],
   "source": [
    "import numpy as np\n",
    "import matplotlib.pyplot as plt\n",
    "\n",
    "import tidy3d as td\n",
    "import tidy3d.web as web\n",
    "\n",
    "from tidy3d.plugins.mode import ModeSolver\n",
    "from tidy3d.plugins import waveguide\n",
    "from tidy3d.plugins.mode.web import run_batch"
   ]
  },
  {
   "cell_type": "markdown",
   "id": "271991ba-fdd0-436a-a175-b420e4bd5ec5",
   "metadata": {},
   "source": [
    "## Basic Simulation Parameter Setup\n",
    "\n",
    "First we define the basic parameters used throughout the notebook. The wavelength range of interest is centered around the 1550 nm telecom wavelength. "
   ]
  },
  {
   "cell_type": "code",
   "execution_count": 2,
   "id": "2c067b14-48c6-4d62-bda6-04c23409bcf5",
   "metadata": {
    "execution": {
     "iopub.execute_input": "2024-09-05T13:15:35.036380Z",
     "iopub.status.busy": "2024-09-05T13:15:35.035727Z",
     "iopub.status.idle": "2024-09-05T13:15:35.042012Z",
     "shell.execute_reply": "2024-09-05T13:15:35.040976Z"
    }
   },
   "outputs": [],
   "source": [
    "lda0 = 1.55  # central wavelength\n",
    "freq0 = td.C_0 / lda0  # central frequency\n",
    "\n",
    "ldas = np.linspace(1.5, 1.6, 101)  # wavelength range\n",
    "freqs = td.C_0 / ldas  # frequency range\n",
    "\n",
    "fwidth = 0.5 * (np.max(freqs) - np.min(freqs))  # width of the source frequency range"
   ]
  },
  {
   "cell_type": "markdown",
   "id": "3b16cb17-da7c-453e-a4a7-215a59c3f063",
   "metadata": {},
   "source": [
    "Three materials are used in the simulations, namely silicon, silicon oxide, and silver. All three materials are contained in the [material library](https://docs.flexcompute.com/projects/tidy3d/en/latest/api/material_library.html) so users can use them conveniently. "
   ]
  },
  {
   "cell_type": "code",
   "execution_count": 3,
   "id": "98ee78e4-d7dc-47ca-9dc8-d601d45e5590",
   "metadata": {
    "execution": {
     "iopub.execute_input": "2024-09-05T13:15:35.047063Z",
     "iopub.status.busy": "2024-09-05T13:15:35.046592Z",
     "iopub.status.idle": "2024-09-05T13:15:35.052921Z",
     "shell.execute_reply": "2024-09-05T13:15:35.051380Z"
    }
   },
   "outputs": [],
   "source": [
    "si = td.material_library[\"cSi\"][\"Palik_Lossless\"]\n",
    "\n",
    "sio2 = td.material_library[\"SiO2\"][\"Palik_Lossless\"]\n",
    "\n",
    "ag = td.material_library[\"Ag\"][\"JohnsonChristy1972\"]"
   ]
  },
  {
   "cell_type": "markdown",
   "id": "65607d49-5ba2-4374-8b9b-d1b291c0038c",
   "metadata": {},
   "source": [
    "Define fixed geometric parameters. The silicon waveguide thickness and silver waveguide thickness are fixed due to fabrication constraints. The slot width of the silver waveguide is varied in the [reference](https://doi.org/10.1364/OE.25.016214) but is fixed here for the sake of simplicity. "
   ]
  },
  {
   "cell_type": "code",
   "execution_count": 4,
   "id": "0640e5de-9aa0-4dc7-aeb3-bee57bfc7bbb",
   "metadata": {
    "execution": {
     "iopub.execute_input": "2024-09-05T13:15:35.059462Z",
     "iopub.status.busy": "2024-09-05T13:15:35.058478Z",
     "iopub.status.idle": "2024-09-05T13:15:35.064123Z",
     "shell.execute_reply": "2024-09-05T13:15:35.063051Z"
    }
   },
   "outputs": [],
   "source": [
    "h = 0.22  # silicon waveguide thickness\n",
    "t = 0.05  # silver waveguide thickness\n",
    "s = 0.03  # slot size of the silver slot waveguide"
   ]
  },
  {
   "cell_type": "markdown",
   "id": "e647b1c0-8069-4636-8ac2-002fea8d3e70",
   "metadata": {},
   "source": [
    "## Coupled Mode Theory and Normal Mode Analysis\n",
    "\n",
    "The coupling region comprises a silicon waveguide with a plasmonic slot waveguide positioned above it. The objective is to efficiently convert the silicon waveguide mode to the plasmonic waveguide mode. This can be achieved in two steps. First, we achieve phase matching by examining the effective indices of the silicon and plasmonic waveguides using various geometric parameters. When the effective indices of the silicon waveguide mode and the plasmonic waveguide mode are equal, maximum power conversion is realized. In the second step, we conduct mode analysis on the hybrid waveguide cross-section and determine the optimal coupling length based on the effective indices of the first and second normal modes. In this notebook, we will try to explain the design principles but for full detail, please refer to the referenced [paper](https://doi.org/10.1364/OE.25.016214).\n",
    "\n",
    "We start by defining a function to generate a silicon waveguide mode solver given the width of the silicon waveguide. Since the silicon waveguide is just a strip waveguide, we can use the [waveguide plugin](https://www.flexcompute.com/tidy3d/examples/notebooks/WaveguidePluginDemonstration/) for convenience."
   ]
  },
  {
   "cell_type": "code",
   "execution_count": 5,
   "id": "1d18d944-c13b-4968-8e41-91da5da25837",
   "metadata": {
    "execution": {
     "iopub.execute_input": "2024-09-05T13:15:35.070771Z",
     "iopub.status.busy": "2024-09-05T13:15:35.069015Z",
     "iopub.status.idle": "2024-09-05T13:15:35.077752Z",
     "shell.execute_reply": "2024-09-05T13:15:35.076393Z"
    }
   },
   "outputs": [],
   "source": [
    "# define a function to create silicon waveguide mode solver\n",
    "def silicon_waveguide_mode_solver(w):\n",
    "\n",
    "    silicon_waveguide = waveguide.RectangularDielectric(\n",
    "        wavelength=lda0,\n",
    "        core_width=w,\n",
    "        core_thickness=h,\n",
    "        core_medium=si,\n",
    "        clad_medium=sio2,\n",
    "        grid_resolution=15,\n",
    "        mode_spec=td.ModeSpec(num_modes=1, target_neff=3),\n",
    "    )\n",
    "\n",
    "    return silicon_waveguide.mode_solver"
   ]
  },
  {
   "cell_type": "markdown",
   "id": "d20055eb-004f-48af-a787-f7bdca9948f3",
   "metadata": {},
   "source": [
    "To verify the setup, we can create an example mode solver and plot the cross section. "
   ]
  },
  {
   "cell_type": "code",
   "execution_count": 6,
   "id": "9ff38551-4cf5-47d1-83db-dc042e641904",
   "metadata": {
    "execution": {
     "iopub.execute_input": "2024-09-05T13:15:35.083819Z",
     "iopub.status.busy": "2024-09-05T13:15:35.083197Z",
     "iopub.status.idle": "2024-09-05T13:15:35.370748Z",
     "shell.execute_reply": "2024-09-05T13:15:35.369841Z"
    }
   },
   "outputs": [
    {
     "data": {
      "image/png": "[encoded data removed]",
      "text/plain": [
       "<Figure size 640x480 with 2 Axes>"
      ]
     },
     "metadata": {},
     "output_type": "display_data"
    }
   ],
   "source": [
    "mode_solver_example = silicon_waveguide_mode_solver(w=0.5)\n",
    "mode_solver_example.plot_eps()\n",
    "plt.show()"
   ]
  },
  {
   "cell_type": "markdown",
   "id": "f3634ba0-bd4d-4370-bbf9-1c10fa9e4ef4",
   "metadata": {},
   "source": [
    "The mode solving is done for the waveguide width from 220 nm to 500 nm. Instead of running the mode solving sequentially, we run them in parallel through a batch to maximize the time saving."
   ]
  },
  {
   "cell_type": "code",
   "execution_count": 7,
   "id": "e4883910-9388-4c3c-8445-ee7788205377",
   "metadata": {
    "execution": {
     "iopub.execute_input": "2024-09-05T13:15:35.373179Z",
     "iopub.status.busy": "2024-09-05T13:15:35.372993Z",
     "iopub.status.idle": "2024-09-05T13:15:35.494728Z",
     "shell.execute_reply": "2024-09-05T13:15:35.493837Z"
    }
   },
   "outputs": [],
   "source": [
    "w_list = np.linspace(h, 0.5, 8)  # range of the waveguide width to be studied\n",
    "\n",
    "# generate a list of mode solvers\n",
    "silicon_waveguide_mode_solvers = [silicon_waveguide_mode_solver(w) for w in w_list]"
   ]
  },
  {
   "cell_type": "code",
   "execution_count": 8,
   "id": "25b19894-3f68-4270-9fc4-f3311fd9c563",
   "metadata": {
    "execution": {
     "iopub.execute_input": "2024-09-05T13:15:35.497322Z",
     "iopub.status.busy": "2024-09-05T13:15:35.497140Z",
     "iopub.status.idle": "2024-09-05T13:16:19.463339Z",
     "shell.execute_reply": "2024-09-05T13:16:19.462624Z"
    }
   },
   "outputs": [
    {
     "data": {
      "text/html": [
       "<pre style=\"white-space:pre;overflow-x:auto;line-height:normal;font-family:Menlo,'DejaVu Sans Mono',consolas,'Courier New',monospace\"><span style=\"color: #7fbfbf; text-decoration-color: #7fbfbf\">13:15:35 UTC </span><span style=\"color: #008080; text-decoration-color: #008080\">Running a batch of </span><span style=\"color: #af005f; text-decoration-color: #af005f; font-weight: bold\">8</span><span style=\"color: #af005f; text-decoration-color: #af005f\"> mode solvers.</span>                                 \n",
       "<span style=\"color: #7fbfbf; text-decoration-color: #7fbfbf\">             </span>                                                                   \n",
       "</pre>\n"
      ],
      "text/plain": [
       "\u001b[2;36m13:15:35 UTC\u001b[0m\u001b[2;36m \u001b[0m\u001b[36mRunning a batch of \u001b[0m\u001b[1;38;5;125m8\u001b[0m\u001b[38;5;125m mode solvers.\u001b[0m                                 \n",
       "\u001b[2;36m             \u001b[0m                                                                   \n"
      ]
     },
     "metadata": {},
     "output_type": "display_data"
    },
    {
     "data": {
      "application/vnd.jupyter.widget-view+json": {
       "model_id": "67fe28f3014e4582881c2151e035ddfb",
       "version_major": 2,
       "version_minor": 0
      },
      "text/plain": [
       "Output()"
      ]
     },
     "metadata": {},
     "output_type": "display_data"
    },
    {
     "data": {
      "text/html": [
       "<pre style=\"white-space:pre;overflow-x:auto;line-height:normal;font-family:Menlo,'DejaVu Sans Mono',consolas,'Courier New',monospace\"><span style=\"color: #7fbfbf; text-decoration-color: #7fbfbf\">13:16:19 UTC </span><span style=\"color: #008000; text-decoration-color: #008000\">A batch of `ModeSolver` tasks completed successfully!</span>              \n",
       "</pre>\n"
      ],
      "text/plain": [
       "\u001b[2;36m13:16:19 UTC\u001b[0m\u001b[2;36m \u001b[0m\u001b[32mA batch of `ModeSolver` tasks completed successfully!\u001b[0m              \n"
      ]
     },
     "metadata": {},
     "output_type": "display_data"
    },
    {
     "data": {
      "text/html": [
       "<pre style=\"white-space:pre;overflow-x:auto;line-height:normal;font-family:Menlo,'DejaVu Sans Mono',consolas,'Courier New',monospace\"></pre>\n"
      ],
      "text/plain": []
     },
     "metadata": {},
     "output_type": "display_data"
    },
    {
     "data": {
      "text/html": [
       "<pre style=\"white-space:pre;overflow-x:auto;line-height:normal;font-family:Menlo,'DejaVu Sans Mono',consolas,'Courier New',monospace\">\n",
       "</pre>\n"
      ],
      "text/plain": [
       "\n"
      ]
     },
     "metadata": {},
     "output_type": "display_data"
    }
   ],
   "source": [
    "# run mode solvers in parallel\n",
    "silicon_waveguide_batch_results = run_batch(\n",
    "    mode_solvers=silicon_waveguide_mode_solvers,  # list of mode solvers\n",
    "    task_name=\"silicon waveguides\",  # each task in the batch will have a unique index appended to this base name\n",
    "    folder_name=\"Mode Solver\",  # name of the folder where tasks are stored on the server's web UI.\n",
    "    results_files=[\n",
    "        f\"./data/w_{w:.2f}.hdf5\" for w in w_list\n",
    "    ],  # list of file paths where the results are downloaded\n",
    ")"
   ]
  },
  {
   "cell_type": "markdown",
   "id": "fde51560-c8e0-4298-a15f-abbf96b2f0eb",
   "metadata": {},
   "source": [
    "We are mainly interested in the effective index of the fundamental mode. However we can also visualize the mode profile. For example, here we visualize the mode profile from one of the mode solvers. "
   ]
  },
  {
   "cell_type": "code",
   "execution_count": 9,
   "id": "d735dda6-a0fa-45fd-88dc-9a7a404c82bb",
   "metadata": {
    "execution": {
     "iopub.execute_input": "2024-09-05T13:16:20.605237Z",
     "iopub.status.busy": "2024-09-05T13:16:20.605000Z",
     "iopub.status.idle": "2024-09-05T13:16:21.174283Z",
     "shell.execute_reply": "2024-09-05T13:16:21.173460Z"
    }
   },
   "outputs": [
    {
     "data": {
      "image/png": "[encoded data removed]",
      "text/plain": [
       "<Figure size 640x480 with 2 Axes>"
      ]
     },
     "metadata": {},
     "output_type": "display_data"
    }
   ],
   "source": [
    "silicon_waveguide_mode_solvers[3].plot_field(\"E\", \"abs\")\n",
    "plt.show()"
   ]
  },
  {
   "cell_type": "markdown",
   "id": "c9687fdc-afb8-47e2-b3df-8c01fe940e35",
   "metadata": {},
   "source": [
    "Extract and plot the effective index as a function of the waveguide width."
   ]
  },
  {
   "cell_type": "code",
   "execution_count": 10,
   "id": "612f5018-c1d8-41ae-8ffb-be07908c9fbe",
   "metadata": {
    "execution": {
     "iopub.execute_input": "2024-09-05T13:16:21.192313Z",
     "iopub.status.busy": "2024-09-05T13:16:21.191738Z",
     "iopub.status.idle": "2024-09-05T13:16:21.331067Z",
     "shell.execute_reply": "2024-09-05T13:16:21.330267Z"
    }
   },
   "outputs": [
    {
     "data": {
      "image/png": "[encoded data removed]",
      "text/plain": [
       "<Figure size 640x480 with 1 Axes>"
      ]
     },
     "metadata": {},
     "output_type": "display_data"
    }
   ],
   "source": [
    "# extract the effective index of the fundamental mode\n",
    "n_eff_silicon = np.zeros(len(w_list))\n",
    "for i, result in enumerate(silicon_waveguide_batch_results):\n",
    "    n_eff_silicon[i] = result.n_eff[0][0].values\n",
    "\n",
    "plt.plot(w_list, n_eff_silicon)\n",
    "plt.xlabel(\"Waveguide width (μm)\")\n",
    "plt.ylabel(\"Effective index\")\n",
    "plt.show()"
   ]
  },
  {
   "cell_type": "markdown",
   "id": "f5cabf25-57bb-48b9-a51d-a9fd4052ac24",
   "metadata": {},
   "source": [
    "Next we will perform the same analysis for the plasmonic waveguide. A few things to note here: \n",
    "\n",
    "1. The slot mode has a strong field inside the small slot region and near the metal surface. To ensure the effective index is accurate, we need to use a fine grid resolution. Here we use the automatic nonuniform grid with `min_steps_per_wvl=50` mainly for convenience. Alternatively, one could consider using an overall coarser grid but add a mesh refinement region around the slot and metal. This approach can potentially reduce the total number of grid points and thus save some computational cost.\n",
    "\n",
    "2. By default, we apply [staircasing](https://docs.flexcompute.com/projects/tidy3d/en/latest/api/_autosummary/tidy3d.Staircasing.html) for metal structures. For enhanced accuracy, we can turn on [volumetric averaging](https://docs.flexcompute.com/projects/tidy3d/en/latest/api/_autosummary/tidy3d.VolumetricAveraging.html) for metal.\n",
    "\n",
    "3. For the same reason, we use double precision instead of the default single precision in the mode solver."
   ]
  },
  {
   "cell_type": "code",
   "execution_count": 11,
   "id": "bf41ee48-9b75-41a6-899a-832679224d1c",
   "metadata": {
    "execution": {
     "iopub.execute_input": "2024-09-05T13:16:21.335998Z",
     "iopub.status.busy": "2024-09-05T13:16:21.335240Z",
     "iopub.status.idle": "2024-09-05T13:16:21.343053Z",
     "shell.execute_reply": "2024-09-05T13:16:21.342310Z"
    }
   },
   "outputs": [],
   "source": [
    "# define a function to create plasmonic waveguide mode solver\n",
    "def plasmonic_waveguide_mode_solver(p):\n",
    "\n",
    "    # define the waveguide left to the slot\n",
    "    slot_left = td.Structure(\n",
    "        geometry=td.Box(center=(-(s + p) / 2, 0, 0), size=(p, t, td.inf)), medium=ag\n",
    "    )\n",
    "\n",
    "    # define the waveguide right to the slot\n",
    "    slot_right = td.Structure(\n",
    "        geometry=td.Box(center=((s + p) / 2, 0, 0), size=(p, t, td.inf)), medium=ag\n",
    "    )\n",
    "\n",
    "    # define mode solving plane size\n",
    "    mode_plane_size_x = 2 * (2 * p + s)\n",
    "    mode_plane_size_y = 6 * t\n",
    "\n",
    "    # define a simulation\n",
    "    sim = td.Simulation(\n",
    "        size=(mode_plane_size_x, mode_plane_size_y, 1),\n",
    "        grid_spec=td.GridSpec.auto(\n",
    "            min_steps_per_wvl=50, wavelength=lda0\n",
    "        ),  # fine grid resolution is used to ensure accurate result\n",
    "        structures=[slot_left, slot_right],\n",
    "        run_time=1e-12,\n",
    "        medium=sio2,\n",
    "        subpixel=td.SubpixelSpec(\n",
    "            metal=td.VolumetricAveraging()\n",
    "        ),  # enable volumetric averaging for metal for improved accuracy\n",
    "    )\n",
    "\n",
    "    # define a mode solver\n",
    "    mode_solver = ModeSolver(\n",
    "        simulation=sim,\n",
    "        plane=td.Box(size=(mode_plane_size_x, mode_plane_size_y, 0)),\n",
    "        mode_spec=td.ModeSpec(\n",
    "            num_modes=1, precision=\"double\", target_neff=3\n",
    "        ),  # use double precision\n",
    "        freqs=[freq0],\n",
    "    )\n",
    "\n",
    "    return mode_solver"
   ]
  },
  {
   "cell_type": "markdown",
   "id": "e17d5cac-2f63-45d0-93c9-7e3246211e05",
   "metadata": {},
   "source": [
    "Again we create an example mode solver and visualize it. More importantly, we inspect the grid to ensure resolution is sufficiently fine."
   ]
  },
  {
   "cell_type": "code",
   "execution_count": 12,
   "id": "da960dd0-f580-4bde-8fd6-237165253372",
   "metadata": {
    "execution": {
     "iopub.execute_input": "2024-09-05T13:16:21.346544Z",
     "iopub.status.busy": "2024-09-05T13:16:21.346234Z",
     "iopub.status.idle": "2024-09-05T13:16:21.602178Z",
     "shell.execute_reply": "2024-09-05T13:16:21.601380Z"
    }
   },
   "outputs": [
    {
     "data": {
      "image/png": "[encoded data removed]",
      "text/plain": [
       "<Figure size 640x480 with 1 Axes>"
      ]
     },
     "metadata": {},
     "output_type": "display_data"
    }
   ],
   "source": [
    "mode_solver_example = plasmonic_waveguide_mode_solver(p=0.1)\n",
    "ax = mode_solver_example.plot()\n",
    "mode_solver_example.plot_grid(ax=ax, colors=\"r\")\n",
    "plt.show()"
   ]
  },
  {
   "cell_type": "markdown",
   "id": "c3a0b264-a078-4fa9-b084-5c74b7d40971",
   "metadata": {},
   "source": [
    "Here the mode solving is done for the waveguide width from 50 nm to 500 nm."
   ]
  },
  {
   "cell_type": "code",
   "execution_count": 13,
   "id": "b6e754be-b6dd-45d7-876a-bcb11e02ecb2",
   "metadata": {
    "execution": {
     "iopub.execute_input": "2024-09-05T13:16:21.606045Z",
     "iopub.status.busy": "2024-09-05T13:16:21.605707Z",
     "iopub.status.idle": "2024-09-05T13:16:45.747641Z",
     "shell.execute_reply": "2024-09-05T13:16:45.746694Z"
    }
   },
   "outputs": [
    {
     "data": {
      "text/html": [
       "<pre style=\"white-space:pre;overflow-x:auto;line-height:normal;font-family:Menlo,'DejaVu Sans Mono',consolas,'Courier New',monospace\"><span style=\"color: #7fbfbf; text-decoration-color: #7fbfbf\">13:16:21 UTC </span><span style=\"color: #008080; text-decoration-color: #008080\">Running a batch of </span><span style=\"color: #af005f; text-decoration-color: #af005f; font-weight: bold\">9</span><span style=\"color: #af005f; text-decoration-color: #af005f\"> mode solvers.</span>                                 \n",
       "<span style=\"color: #7fbfbf; text-decoration-color: #7fbfbf\">             </span>                                                                   \n",
       "</pre>\n"
      ],
      "text/plain": [
       "\u001b[2;36m13:16:21 UTC\u001b[0m\u001b[2;36m \u001b[0m\u001b[36mRunning a batch of \u001b[0m\u001b[1;38;5;125m9\u001b[0m\u001b[38;5;125m mode solvers.\u001b[0m                                 \n",
       "\u001b[2;36m             \u001b[0m                                                                   \n"
      ]
     },
     "metadata": {},
     "output_type": "display_data"
    },
    {
     "data": {
      "application/vnd.jupyter.widget-view+json": {
       "model_id": "5ab7115e00d84c9cb2262fde179625a5",
       "version_major": 2,
       "version_minor": 0
      },
      "text/plain": [
       "Output()"
      ]
     },
     "metadata": {},
     "output_type": "display_data"
    },
    {
     "data": {
      "text/html": [
       "<pre style=\"white-space:pre;overflow-x:auto;line-height:normal;font-family:Menlo,'DejaVu Sans Mono',consolas,'Courier New',monospace\"><span style=\"color: #7fbfbf; text-decoration-color: #7fbfbf\">13:16:45 UTC </span><span style=\"color: #008000; text-decoration-color: #008000\">A batch of `ModeSolver` tasks completed successfully!</span>              \n",
       "</pre>\n"
      ],
      "text/plain": [
       "\u001b[2;36m13:16:45 UTC\u001b[0m\u001b[2;36m \u001b[0m\u001b[32mA batch of `ModeSolver` tasks completed successfully!\u001b[0m              \n"
      ]
     },
     "metadata": {},
     "output_type": "display_data"
    },
    {
     "data": {
      "text/html": [
       "<pre style=\"white-space:pre;overflow-x:auto;line-height:normal;font-family:Menlo,'DejaVu Sans Mono',consolas,'Courier New',monospace\"></pre>\n"
      ],
      "text/plain": []
     },
     "metadata": {},
     "output_type": "display_data"
    },
    {
     "data": {
      "text/html": [
       "<pre style=\"white-space:pre;overflow-x:auto;line-height:normal;font-family:Menlo,'DejaVu Sans Mono',consolas,'Courier New',monospace\">\n",
       "</pre>\n"
      ],
      "text/plain": [
       "\n"
      ]
     },
     "metadata": {},
     "output_type": "display_data"
    }
   ],
   "source": [
    "p_list = np.linspace(0.05, 0.5, 9)  # range of the plasmonic waveguide width\n",
    "\n",
    "# create a list of mode solvers\n",
    "plasmonic_waveguide_mode_solvers = [plasmonic_waveguide_mode_solver(p) for p in p_list]\n",
    "\n",
    "# run mode solvers in parallel\n",
    "plasmonic_waveguide_batch_results = run_batch(\n",
    "    mode_solvers=plasmonic_waveguide_mode_solvers,  # list of mode solvers\n",
    "    task_name=\"plasmonic waveguides\",  # each task in the batch will have a unique index appended to this base name\n",
    "    folder_name=\"Mode Solver\",  # name of the folder where tasks are stored on the server's web UI.\n",
    "    results_files=[\n",
    "        f\"./data/p_{p:.2f}.hdf5\" for p in p_list\n",
    "    ],  # list of file paths where the results are downloaded\n",
    ")"
   ]
  },
  {
   "cell_type": "markdown",
   "id": "b54117bc-6f55-4c66-b9c1-8126223fa7e6",
   "metadata": {},
   "source": [
    "Plot the mode profile of a mode solver to ensure we are looking at the correct slot mode."
   ]
  },
  {
   "cell_type": "code",
   "execution_count": 14,
   "id": "b2b0aab2-79f7-4765-998d-eaecde68d87b",
   "metadata": {
    "execution": {
     "iopub.execute_input": "2024-09-05T13:16:46.304058Z",
     "iopub.status.busy": "2024-09-05T13:16:46.303656Z",
     "iopub.status.idle": "2024-09-05T13:16:47.038380Z",
     "shell.execute_reply": "2024-09-05T13:16:47.037530Z"
    }
   },
   "outputs": [
    {
     "data": {
      "image/png": "[encoded data removed]",
      "text/plain": [
       "<Figure size 640x480 with 2 Axes>"
      ]
     },
     "metadata": {},
     "output_type": "display_data"
    }
   ],
   "source": [
    "plasmonic_waveguide_mode_solvers[3].plot_field(\"E\", \"abs\")\n",
    "plt.show()"
   ]
  },
  {
   "cell_type": "markdown",
   "id": "19f87baa-63c7-4724-8efc-d73f92db105a",
   "metadata": {},
   "source": [
    "To help the analysis, we plot the effective indices of both the silicon waveguide and the plasmonic waveguide together, similar to Fig. 2(a) of the referenced [paper](https://doi.org/10.1364/OE.25.016214).\n",
    "\n",
    "From this plot, we can determine the silicon waveguide width and the plasmonic waveguide width given a target effective index. The option is seemingly infinite as for any effective index between ~2.1 and ~2.5, we can identify a `w` and a `p` such that the mode indices are equal. "
   ]
  },
  {
   "cell_type": "code",
   "execution_count": 15,
   "id": "94869227-83f1-4cbe-9a3f-477eb52676d7",
   "metadata": {
    "execution": {
     "iopub.execute_input": "2024-09-05T13:16:47.044185Z",
     "iopub.status.busy": "2024-09-05T13:16:47.043488Z",
     "iopub.status.idle": "2024-09-05T13:16:47.219730Z",
     "shell.execute_reply": "2024-09-05T13:16:47.218698Z"
    }
   },
   "outputs": [
    {
     "data": {
      "image/png": "[encoded data removed]",
      "text/plain": [
       "<Figure size 640x480 with 1 Axes>"
      ]
     },
     "metadata": {},
     "output_type": "display_data"
    }
   ],
   "source": [
    "# extract the effective index of the fundamental mode\n",
    "n_eff_plasmonic = np.zeros(len(p_list))\n",
    "for i, result in enumerate(plasmonic_waveguide_batch_results):\n",
    "    n_eff_plasmonic[i] = result.n_eff[0][0].values\n",
    "\n",
    "# plot the effective indices of the silicon waveguide and plasmonic waveguide\n",
    "plt.plot(p_list, n_eff_plasmonic, c=\"red\", linewidth=3, label=\"plasmonic waveguide\")\n",
    "plt.plot(w_list, n_eff_silicon, c=\"blue\", linewidth=3, label=\"silicon waveguide\")\n",
    "\n",
    "plt.xlabel(\"w/p (μm)\")\n",
    "plt.ylabel(\"Effective index\")\n",
    "plt.legend()\n",
    "plt.show()"
   ]
  },
  {
   "cell_type": "markdown",
   "id": "9f30339d-507d-4d82-945d-280dfa0c9683",
   "metadata": {},
   "source": [
    "In fact, for optimal result, we cannot use an arbitrary target effective index. Since the plasmonic waveguide is lossy, we prefer to shorten the coupling region length as much as possible to minimize the absorption loss. Therefore, we need to analyze the optimal coupling length for different effective index values. This can be done by performing a normal mode analysis for the hybrid waveguide cross section. According to the normal mode analysis, the optimal coupling length is then given by $L_c = \\frac{\\lambda}{2(n_1-n_2)}$, where $n_1$ and $n_2$ are the effective indices of the first and second normal modes. "
   ]
  },
  {
   "cell_type": "code",
   "execution_count": 16,
   "id": "deab04ec-f604-49f7-8f48-f611b4f8b768",
   "metadata": {
    "execution": {
     "iopub.execute_input": "2024-09-05T13:16:47.226646Z",
     "iopub.status.busy": "2024-09-05T13:16:47.226062Z",
     "iopub.status.idle": "2024-09-05T13:16:47.236742Z",
     "shell.execute_reply": "2024-09-05T13:16:47.235913Z"
    }
   },
   "outputs": [],
   "source": [
    "# define a function to create hybrid waveguide mode solver\n",
    "def hybrid_waveguide_mode_solver(n_eff):\n",
    "\n",
    "    w = np.interp(\n",
    "        n_eff, n_eff_silicon, w_list\n",
    "    )  # determine the silicon waveguide width given the effective index\n",
    "    p = np.interp(\n",
    "        n_eff, np.flipud(n_eff_plasmonic), np.flipud(p_list)\n",
    "    )  # determine the plasmonic waveguide width given the effective index\n",
    "    g = 0.08  # gap size between the silicon waveguide and the plasmonic waveguide\n",
    "\n",
    "    # create the plasmonic waveguide structures\n",
    "    slot_left = td.Structure(\n",
    "        geometry=td.Box(center=(-(s + p) / 2, h / 2 + g + t / 2, 0), size=(p, t, td.inf)), medium=ag\n",
    "    )\n",
    "    slot_right = td.Structure(\n",
    "        geometry=td.Box(center=((s + p) / 2, h / 2 + g + t / 2, 0), size=(p, t, td.inf)), medium=ag\n",
    "    )\n",
    "\n",
    "    # create the silicon waveguide structure\n",
    "    silicon_waveguide = td.Structure(geometry=td.Box(size=(w, h, td.inf)), medium=si)\n",
    "\n",
    "    # mode solving plane size\n",
    "    mode_plane_size_x = 2 * (2 * p + s + w)\n",
    "    mode_plane_size_y = 3 * (t + g + h)\n",
    "\n",
    "    # create a simulation\n",
    "    sim = td.Simulation(\n",
    "        size=(mode_plane_size_x, mode_plane_size_y, 1),\n",
    "        grid_spec=td.GridSpec.auto(min_steps_per_wvl=50, wavelength=lda0),\n",
    "        structures=[silicon_waveguide, slot_left, slot_right],\n",
    "        run_time=1e-12,\n",
    "        medium=sio2,\n",
    "        subpixel=td.SubpixelSpec(metal=td.VolumetricAveraging()),\n",
    "        symmetry=(-1, 0, 0),  # use symmetry that is compatible with the fundamental TE mode\n",
    "    )\n",
    "\n",
    "    # create a mode solver\n",
    "    mode_solver = ModeSolver(\n",
    "        simulation=sim,\n",
    "        plane=td.Box(size=(mode_plane_size_x, mode_plane_size_y, 0)),\n",
    "        mode_spec=td.ModeSpec(num_modes=2, precision=\"double\", target_neff=3),  # solve for 2 modes\n",
    "        freqs=[freq0],\n",
    "    )\n",
    "\n",
    "    return mode_solver"
   ]
  },
  {
   "cell_type": "markdown",
   "id": "3f6520a9-366f-49d3-955a-b75f2f350890",
   "metadata": {},
   "source": [
    "Create an example mode solver to visualize the setup. We correctly see the silicon waveguide with the plasmonic waveguide on top of it. "
   ]
  },
  {
   "cell_type": "code",
   "execution_count": 17,
   "id": "d5029afa-60c5-4d59-ab01-2bcbea0395b4",
   "metadata": {
    "execution": {
     "iopub.execute_input": "2024-09-05T13:16:47.242352Z",
     "iopub.status.busy": "2024-09-05T13:16:47.241838Z",
     "iopub.status.idle": "2024-09-05T13:16:47.527667Z",
     "shell.execute_reply": "2024-09-05T13:16:47.526692Z"
    }
   },
   "outputs": [
    {
     "data": {
      "image/png": "[encoded data removed]",
      "text/plain": [
       "<Figure size 640x480 with 1 Axes>"
      ]
     },
     "metadata": {},
     "output_type": "display_data"
    }
   ],
   "source": [
    "mode_solver_example = hybrid_waveguide_mode_solver(n_eff=2.2)\n",
    "mode_solver_example.plot()\n",
    "plt.show()"
   ]
  },
  {
   "cell_type": "markdown",
   "id": "f690c1db-95b7-4e62-926b-8d7698015a94",
   "metadata": {},
   "source": [
    "Now we perform mode solving for a range of target effective indices from 2.15 to 2.5. "
   ]
  },
  {
   "cell_type": "code",
   "execution_count": 18,
   "id": "64ee1dfa-b4c2-475b-95e1-cd1fd0589516",
   "metadata": {
    "execution": {
     "iopub.execute_input": "2024-09-05T13:16:47.531628Z",
     "iopub.status.busy": "2024-09-05T13:16:47.531145Z",
     "iopub.status.idle": "2024-09-05T13:17:15.710839Z",
     "shell.execute_reply": "2024-09-05T13:17:15.709981Z"
    }
   },
   "outputs": [
    {
     "data": {
      "text/html": [
       "<pre style=\"white-space:pre;overflow-x:auto;line-height:normal;font-family:Menlo,'DejaVu Sans Mono',consolas,'Courier New',monospace\"><span style=\"color: #7fbfbf; text-decoration-color: #7fbfbf\">13:16:47 UTC </span><span style=\"color: #008080; text-decoration-color: #008080\">Running a batch of </span><span style=\"color: #af005f; text-decoration-color: #af005f; font-weight: bold\">8</span><span style=\"color: #af005f; text-decoration-color: #af005f\"> mode solvers.</span>                                 \n",
       "<span style=\"color: #7fbfbf; text-decoration-color: #7fbfbf\">             </span>                                                                   \n",
       "</pre>\n"
      ],
      "text/plain": [
       "\u001b[2;36m13:16:47 UTC\u001b[0m\u001b[2;36m \u001b[0m\u001b[36mRunning a batch of \u001b[0m\u001b[1;38;5;125m8\u001b[0m\u001b[38;5;125m mode solvers.\u001b[0m                                 \n",
       "\u001b[2;36m             \u001b[0m                                                                   \n"
      ]
     },
     "metadata": {},
     "output_type": "display_data"
    },
    {
     "data": {
      "application/vnd.jupyter.widget-view+json": {
       "model_id": "98cd7b100d5f406eb17a1f53ec84eeaf",
       "version_major": 2,
       "version_minor": 0
      },
      "text/plain": [
       "Output()"
      ]
     },
     "metadata": {},
     "output_type": "display_data"
    },
    {
     "data": {
      "text/html": [
       "<pre style=\"white-space:pre;overflow-x:auto;line-height:normal;font-family:Menlo,'DejaVu Sans Mono',consolas,'Courier New',monospace\"><span style=\"color: #7fbfbf; text-decoration-color: #7fbfbf\">13:17:15 UTC </span><span style=\"color: #008000; text-decoration-color: #008000\">A batch of `ModeSolver` tasks completed successfully!</span>              \n",
       "</pre>\n"
      ],
      "text/plain": [
       "\u001b[2;36m13:17:15 UTC\u001b[0m\u001b[2;36m \u001b[0m\u001b[32mA batch of `ModeSolver` tasks completed successfully!\u001b[0m              \n"
      ]
     },
     "metadata": {},
     "output_type": "display_data"
    },
    {
     "data": {
      "text/html": [
       "<pre style=\"white-space:pre;overflow-x:auto;line-height:normal;font-family:Menlo,'DejaVu Sans Mono',consolas,'Courier New',monospace\"></pre>\n"
      ],
      "text/plain": []
     },
     "metadata": {},
     "output_type": "display_data"
    },
    {
     "data": {
      "text/html": [
       "<pre style=\"white-space:pre;overflow-x:auto;line-height:normal;font-family:Menlo,'DejaVu Sans Mono',consolas,'Courier New',monospace\">\n",
       "</pre>\n"
      ],
      "text/plain": [
       "\n"
      ]
     },
     "metadata": {},
     "output_type": "display_data"
    }
   ],
   "source": [
    "n_eff_list = np.linspace(2.15, 2.5, 8)  # effective index range\n",
    "\n",
    "# create a list of mode solvers\n",
    "hybrid_waveguide_mode_solvers = [hybrid_waveguide_mode_solver(n_eff) for n_eff in n_eff_list]\n",
    "\n",
    "# run mode solvers in parallel\n",
    "hybrid_waveguide_batch_results = run_batch(\n",
    "    mode_solvers=hybrid_waveguide_mode_solvers,  # list of mode solvers\n",
    "    task_name=\"hybrid waveguides\",  # each task in the batch will have a unique index appended to this base name\n",
    "    folder_name=\"Mode Solver\",  # name of the folder where tasks are stored on the server's web UI.\n",
    "    results_files=[\n",
    "        f\"./data/n_eff_{n_eff:.2f}.hdf5\" for n_eff in n_eff_list\n",
    "    ],  # list of file paths where the results are downloaded\n",
    ")"
   ]
  },
  {
   "cell_type": "markdown",
   "id": "90f195f1-fa48-4f9d-9b1e-ae55b9db9cde",
   "metadata": {},
   "source": [
    "Compute and plot the coupling length as a function of the effective index. The coupling length is found to increase with the effective index. Therefore, a lower refractive index is preferred to minimize absorption loss. "
   ]
  },
  {
   "cell_type": "code",
   "execution_count": 19,
   "id": "78142ef4-6a99-4dec-b9e0-82e980373290",
   "metadata": {
    "execution": {
     "iopub.execute_input": "2024-09-05T13:17:16.425899Z",
     "iopub.status.busy": "2024-09-05T13:17:16.422280Z",
     "iopub.status.idle": "2024-09-05T13:17:16.609486Z",
     "shell.execute_reply": "2024-09-05T13:17:16.608680Z"
    }
   },
   "outputs": [
    {
     "data": {
      "image/png": "[encoded data removed]",
      "text/plain": [
       "<Figure size 640x480 with 1 Axes>"
      ]
     },
     "metadata": {},
     "output_type": "display_data"
    }
   ],
   "source": [
    "# compute the coupling length based on the normal mode effective indices\n",
    "L_c = np.zeros(len(n_eff_list))\n",
    "for i, result in enumerate(hybrid_waveguide_batch_results):\n",
    "    n_1 = result.n_eff.sel(mode_index=0).values[0]\n",
    "    n_2 = result.n_eff.sel(mode_index=1).values[0]\n",
    "\n",
    "    L_c[i] = lda0 / (2 * (n_1 - n_2))\n",
    "\n",
    "# plot the coupling length\n",
    "plt.plot(n_eff_list, L_c, c=\"red\", linewidth=3)\n",
    "plt.ylim(0, 7)\n",
    "plt.xlabel(\"Target effective index\")\n",
    "plt.ylabel(\"Coupling length (μm)\")\n",
    "plt.show()"
   ]
  },
  {
   "cell_type": "markdown",
   "id": "48f794f8-33d5-48a1-b49b-70108a50b603",
   "metadata": {},
   "source": [
    "## FDTD Verification of the Coupling Efficiency\n",
    "\n",
    "We use the target effective index of 2.15. The corresponding silicon waveguide and plasmonic waveguide widths can be calculated by simple interpolation. The optimal coupling length from this analysis turns out to be around 1.65 μm. We will verify the coupling efficiency using FDTD. To do so, we define a [Simulation](https://docs.flexcompute.com/projects/tidy3d/en/latest/api/_autosummary/tidy3d.Simulation.html#tidy3d.Simulation) with a [ModeSource](https://docs.flexcompute.com/projects/tidy3d/en/latest/api/_autosummary/tidy3d.ModeSource.html) as excitation and two [ModeMonitor](https://docs.flexcompute.com/projects/tidy3d/en/latest/api/_autosummary/tidy3d.ModeMonitor.html) instances to measure the coupling efficiency and return loss. To help with visualization, we also use a [FieldMonitor](https://docs.flexcompute.com/projects/tidy3d/en/latest/api/_autosummary/tidy3d.FieldMonitor.html) in the $yz$ plane.\n",
    "\n",
    "To ensure accuracy, again we use a fine grid resolution and turn on the volumetric averaging for metal. In addition, to make the simulation domain as compact as possible and prevent simulation divergence, we use the [Absorber](https://docs.flexcompute.com/projects/tidy3d/en/latest/api/_autosummary/tidy3d.Absorber.html) boundary condition instead of the default [PML](https://docs.flexcompute.com/projects/tidy3d/en/latest/api/_autosummary/tidy3d.PML.html). The simulation can diverge is a dispersive medium is inside PML or the distance between the structure and PML is too close. To minimize the artificial reflection of the absorber, we increase the number of layers to `60` in the $z$ direction."
   ]
  },
  {
   "cell_type": "code",
   "execution_count": 20,
   "id": "3756c264-ebf3-4bbe-994d-0bb163f33c43",
   "metadata": {
    "execution": {
     "iopub.execute_input": "2024-09-05T13:17:16.614524Z",
     "iopub.status.busy": "2024-09-05T13:17:16.614082Z",
     "iopub.status.idle": "2024-09-05T13:17:16.660299Z",
     "shell.execute_reply": "2024-09-05T13:17:16.659522Z"
    }
   },
   "outputs": [
    {
     "name": "stdout",
     "output_type": "stream",
     "text": [
      "Silicon waveguide width is 375.74 nm.\n",
      "Plasmonic waveguide width is 261.83 nm\n",
      "Optimal coupling length is 1652.90 nm\n"
     ]
    },
    {
     "data": {
      "text/html": [
       "\n",
       "    <div class=\"simulation-viewer\" data-width=\"800\" data-height=\"800\" data-simulation=\"{&quot;attrs&quot;: {}, &quot;type&quot;: &quot;Simulation&quot;, &quot;center&quot;: [0.0, 0.11, 0.8264524004178215], &quot;size&quot;: [1.8587996596169996, 1.0499999999999998, 3.2029048008356433], &quot;medium&quot;: {&quot;attrs&quot;: {}, &quot;name&quot;: null, &quot;frequency_range&quot;: [59958491600000.0, 1998616386666666.8], &quot;allow_gain&quot;: false, &quot;nonlinear_spec&quot;: null, &quot;modulation_spec&quot;: null, &quot;heat_spec&quot;: null, &quot;type&quot;: &quot;PoleResidue&quot;, &quot;eps_inf&quot;: 1.5385442336875639, &quot;poles&quot;: [[{&quot;real&quot;: -11504139.374277674, &quot;imag&quot;: -1.595196740783775e+16}, {&quot;real&quot;: 7507685.43042605, &quot;imag&quot;: 4535416182817100.0}], [{&quot;real&quot;: -249390.3565044153, &quot;imag&quot;: -172280738540723.53}, {&quot;real&quot;: 46272.506981344035, &quot;imag&quot;: 99704543223121.88}]]}, &quot;structures&quot;: [{&quot;attrs&quot;: {}, &quot;geometry&quot;: {&quot;attrs&quot;: {}, &quot;type&quot;: &quot;Box&quot;, &quot;center&quot;: [-0.1459141350955129, 0.215, 500.0], &quot;size&quot;: [0.2618282701910258, 0.04999999999999999, 1000.0]}, &quot;name&quot;: null, &quot;type&quot;: &quot;Structure&quot;, &quot;medium&quot;: {&quot;attrs&quot;: {}, &quot;name&quot;: null, &quot;frequency_range&quot;: [154771532566312.25, 1595489401708072.2], &quot;allow_gain&quot;: false, &quot;nonlinear_spec&quot;: null, &quot;modulation_spec&quot;: null, &quot;heat_spec&quot;: null, &quot;type&quot;: &quot;PoleResidue&quot;, &quot;eps_inf&quot;: 1.0, &quot;poles&quot;: [[{&quot;real&quot;: -2208321413508536.0, &quot;imag&quot;: -5948722238054062.0}, {&quot;real&quot;: 6900545964172845.0, &quot;imag&quot;: 2859999298140436.0}], [{&quot;real&quot;: -454071262600809.06, &quot;imag&quot;: -6045413448570748.0}, {&quot;real&quot;: 900170460600995.0, &quot;imag&quot;: -571876746089699.8}], [{&quot;real&quot;: -440069917626400.94, &quot;imag&quot;: -1501005120704881.8}, {&quot;real&quot;: -624427112339892.1, &quot;imag&quot;: -709709047591569.2}], [{&quot;real&quot;: -90645222183131.28, &quot;imag&quot;: -1207503089909680.2}, {&quot;real&quot;: 36466030087984.664, &quot;imag&quot;: -105435949158129.28}], [{&quot;real&quot;: -6882166770889.508, &quot;imag&quot;: -101422373698470.4}, {&quot;real&quot;: 2204704963300273.8, &quot;imag&quot;: 9.259919916690406e+17}]]}}, {&quot;attrs&quot;: {}, &quot;geometry&quot;: {&quot;attrs&quot;: {}, &quot;type&quot;: &quot;Box&quot;, &quot;center&quot;: [0.1459141350955129, 0.215, 500.0], &quot;size&quot;: [0.2618282701910258, 0.04999999999999999, 1000.0]}, &quot;name&quot;: null, &quot;type&quot;: &quot;Structure&quot;, &quot;medium&quot;: {&quot;attrs&quot;: {}, &quot;name&quot;: null, &quot;frequency_range&quot;: [154771532566312.25, 1595489401708072.2], &quot;allow_gain&quot;: false, &quot;nonlinear_spec&quot;: null, &quot;modulation_spec&quot;: null, &quot;heat_spec&quot;: null, &quot;type&quot;: &quot;PoleResidue&quot;, &quot;eps_inf&quot;: 1.0, &quot;poles&quot;: [[{&quot;real&quot;: -2208321413508536.0, &quot;imag&quot;: -5948722238054062.0}, {&quot;real&quot;: 6900545964172845.0, &quot;imag&quot;: 2859999298140436.0}], [{&quot;real&quot;: -454071262600809.06, &quot;imag&quot;: -6045413448570748.0}, {&quot;real&quot;: 900170460600995.0, &quot;imag&quot;: -571876746089699.8}], [{&quot;real&quot;: -440069917626400.94, &quot;imag&quot;: -1501005120704881.8}, {&quot;real&quot;: -624427112339892.1, &quot;imag&quot;: -709709047591569.2}], [{&quot;real&quot;: -90645222183131.28, &quot;imag&quot;: -1207503089909680.2}, {&quot;real&quot;: 36466030087984.664, &quot;imag&quot;: -105435949158129.28}], [{&quot;real&quot;: -6882166770889.508, &quot;imag&quot;: -101422373698470.4}, {&quot;real&quot;: 2204704963300273.8, &quot;imag&quot;: 9.259919916690406e+17}]]}}, {&quot;attrs&quot;: {}, &quot;geometry&quot;: {&quot;attrs&quot;: {}, &quot;type&quot;: &quot;Box&quot;, &quot;center&quot;: [0.0, 0.0, -499.17354759958215], &quot;size&quot;: [0.3757432894264482, 0.22, 1001.6529048008357]}, &quot;name&quot;: null, &quot;type&quot;: &quot;Structure&quot;, &quot;medium&quot;: {&quot;attrs&quot;: {}, &quot;name&quot;: null, &quot;frequency_range&quot;: [1199169832000.0, 249827048333333.34], &quot;allow_gain&quot;: false, &quot;nonlinear_spec&quot;: null, &quot;modulation_spec&quot;: null, &quot;heat_spec&quot;: null, &quot;type&quot;: &quot;PoleResidue&quot;, &quot;eps_inf&quot;: 1.0, &quot;poles&quot;: [[{&quot;real&quot;: -1.7473849958109988, &quot;imag&quot;: -6409829457220535.0}, {&quot;real&quot;: 0.06947645444424029, &quot;imag&quot;: 3.4268436708700284e+16}]]}}], &quot;symmetry&quot;: [-1, 0, 0], &quot;sources&quot;: [{&quot;attrs&quot;: {}, &quot;name&quot;: null, &quot;type&quot;: &quot;ModeSource&quot;, &quot;center&quot;: [0.0, 0.0, -0.3875], &quot;size&quot;: [&quot;Infinity&quot;, &quot;Infinity&quot;, 0.0], &quot;source_time&quot;: {&quot;attrs&quot;: {}, &quot;amplitude&quot;: 1.0, &quot;phase&quot;: 0.0, &quot;type&quot;: &quot;GaussianPulse&quot;, &quot;freq0&quot;: 193414489032258.06, &quot;fwidth&quot;: 6245676208333.328, &quot;offset&quot;: 5.0, &quot;remove_dc_component&quot;: true}, &quot;num_freqs&quot;: 1, &quot;direction&quot;: &quot;+&quot;, &quot;mode_spec&quot;: {&quot;attrs&quot;: {}, &quot;num_modes&quot;: 1, &quot;target_neff&quot;: 3.0, &quot;num_pml&quot;: [0, 0], &quot;filter_pol&quot;: null, &quot;angle_theta&quot;: 0.0, &quot;angle_phi&quot;: 0.0, &quot;precision&quot;: &quot;single&quot;, &quot;bend_radius&quot;: null, &quot;bend_axis&quot;: null, &quot;track_freq&quot;: &quot;central&quot;, &quot;group_index_step&quot;: false, &quot;type&quot;: &quot;ModeSpec&quot;}, &quot;mode_index&quot;: 0}], &quot;boundary_spec&quot;: {&quot;attrs&quot;: {}, &quot;x&quot;: {&quot;attrs&quot;: {}, &quot;plus&quot;: {&quot;attrs&quot;: {}, &quot;name&quot;: null, &quot;type&quot;: &quot;Absorber&quot;, &quot;num_layers&quot;: 40, &quot;parameters&quot;: {&quot;attrs&quot;: {}, &quot;sigma_order&quot;: 3, &quot;sigma_min&quot;: 0.0, &quot;sigma_max&quot;: 6.4, &quot;type&quot;: &quot;AbsorberParams&quot;}}, &quot;minus&quot;: {&quot;attrs&quot;: {}, &quot;name&quot;: null, &quot;type&quot;: &quot;Absorber&quot;, &quot;num_layers&quot;: 40, &quot;parameters&quot;: {&quot;attrs&quot;: {}, &quot;sigma_order&quot;: 3, &quot;sigma_min&quot;: 0.0, &quot;sigma_max&quot;: 6.4, &quot;type&quot;: &quot;AbsorberParams&quot;}}, &quot;type&quot;: &quot;Boundary&quot;}, &quot;y&quot;: {&quot;attrs&quot;: {}, &quot;plus&quot;: {&quot;attrs&quot;: {}, &quot;name&quot;: null, &quot;type&quot;: &quot;Absorber&quot;, &quot;num_layers&quot;: 40, &quot;parameters&quot;: {&quot;attrs&quot;: {}, &quot;sigma_order&quot;: 3, &quot;sigma_min&quot;: 0.0, &quot;sigma_max&quot;: 6.4, &quot;type&quot;: &quot;AbsorberParams&quot;}}, &quot;minus&quot;: {&quot;attrs&quot;: {}, &quot;name&quot;: null, &quot;type&quot;: &quot;Absorber&quot;, &quot;num_layers&quot;: 40, &quot;parameters&quot;: {&quot;attrs&quot;: {}, &quot;sigma_order&quot;: 3, &quot;sigma_min&quot;: 0.0, &quot;sigma_max&quot;: 6.4, &quot;type&quot;: &quot;AbsorberParams&quot;}}, &quot;type&quot;: &quot;Boundary&quot;}, &quot;z&quot;: {&quot;attrs&quot;: {}, &quot;plus&quot;: {&quot;attrs&quot;: {}, &quot;name&quot;: null, &quot;type&quot;: &quot;Absorber&quot;, &quot;num_layers&quot;: 60, &quot;parameters&quot;: {&quot;attrs&quot;: {}, &quot;sigma_order&quot;: 3, &quot;sigma_min&quot;: 0.0, &quot;sigma_max&quot;: 6.4, &quot;type&quot;: &quot;AbsorberParams&quot;}}, &quot;minus&quot;: {&quot;attrs&quot;: {}, &quot;name&quot;: null, &quot;type&quot;: &quot;Absorber&quot;, &quot;num_layers&quot;: 60, &quot;parameters&quot;: {&quot;attrs&quot;: {}, &quot;sigma_order&quot;: 3, &quot;sigma_min&quot;: 0.0, &quot;sigma_max&quot;: 6.4, &quot;type&quot;: &quot;AbsorberParams&quot;}}, &quot;type&quot;: &quot;Boundary&quot;}, &quot;type&quot;: &quot;BoundarySpec&quot;}, &quot;monitors&quot;: [{&quot;attrs&quot;: {}, &quot;type&quot;: &quot;ModeMonitor&quot;, &quot;center&quot;: [0.0, 0.0, -0.58125], &quot;size&quot;: [&quot;Infinity&quot;, &quot;Infinity&quot;, 0.0], &quot;name&quot;: &quot;R&quot;, &quot;interval_space&quot;: [1, 1, 1], &quot;colocate&quot;: false, &quot;freqs&quot;: [199861638666666.66, 199728486342438.38, 199595511318242.34, 199462713240186.28, 199330091755319.16, 199197646511627.9, 199065377158034.53, 198933283344392.8, 198801364721485.4, 198669620941020.56, 198538051655629.12, 198406656518861.66, 198275435185185.2, 198144387309980.2, 198013512549537.66, 197882810561056.1, 197752281002638.53, 197621923533289.4, 197491737812911.72, 197361723502304.12, 197231880263157.9, 197102207758053.94, 196972705650459.9, 196843373604727.5, 196714211286089.25, 196585218360655.75, 196456394495412.84, 196327739358218.72, 196199252617801.03, 196070933943754.1, 195942783006535.94, 195814799477465.7, 195686983028720.62, 195559333333333.34, 195431850065189.03, 195304532899022.78, 195177381510416.66, 195050395575797.03, 194923574772431.72, 194796918778427.53, 194670427272727.28, 194544099935107.1, 194417936446173.78, 194291936487362.25, 194166099740932.62, 194040425889967.66, 193914914618369.97, 193789565610859.72, 193664378552971.56, 193539353131052.3, 193414489032258.06, 193289785944551.88, 193165243556701.03, 193040861558274.3, 192916639639639.62, 192792577491961.4, 192668674807197.94, 192544931278098.9, 192421346598202.8, 192297920461834.5, 192174652564102.56, 192051542600896.88, 191928590268886.03, 191805795265515.0, 191683157289002.56, 191560676038338.66, 191438351213282.25, 191316182514358.62, 191194169642857.12, 191072312300828.56, 190950610191082.78, 190829063017186.47, 190707670483460.56, 190586432294977.75, 190465348157560.34, 190344417777777.75, 190223640862944.16, 190103017121116.06, 189982546261089.97, 189862227992400.22, 189742062025316.44, 189622048070841.25, 189502185840707.97, 189382475047378.38, 189262915404040.4, 189143506624605.7, 189024248423707.44, 188905140516698.16, 188786182619647.34, 188667374449339.22, 188548715723270.44, 188430206159648.0, 188311845477386.94, 188193633396107.97, 188075569636135.5, 187957653918495.28, 187839885964912.28, 187722265497808.4, 187604792240300.38, 187487465916197.6, 187370286250000.0], &quot;apodization&quot;: {&quot;attrs&quot;: {}, &quot;start&quot;: null, &quot;end&quot;: null, &quot;width&quot;: null, &quot;type&quot;: &quot;ApodizationSpec&quot;}, &quot;mode_spec&quot;: {&quot;attrs&quot;: {}, &quot;num_modes&quot;: 1, &quot;target_neff&quot;: 3.0, &quot;num_pml&quot;: [0, 0], &quot;filter_pol&quot;: null, &quot;angle_theta&quot;: 0.0, &quot;angle_phi&quot;: 0.0, &quot;precision&quot;: &quot;single&quot;, &quot;bend_radius&quot;: null, &quot;bend_axis&quot;: null, &quot;track_freq&quot;: &quot;central&quot;, &quot;group_index_step&quot;: false, &quot;type&quot;: &quot;ModeSpec&quot;}, &quot;store_fields_direction&quot;: null}, {&quot;attrs&quot;: {}, &quot;type&quot;: &quot;ModeMonitor&quot;, &quot;center&quot;: [0.0, 0.0, 2.0404048008356432], &quot;size&quot;: [&quot;Infinity&quot;, &quot;Infinity&quot;, 0.0], &quot;name&quot;: &quot;T&quot;, &quot;interval_space&quot;: [1, 1, 1], &quot;colocate&quot;: false, &quot;freqs&quot;: [199861638666666.66, 199728486342438.38, 199595511318242.34, 199462713240186.28, 199330091755319.16, 199197646511627.9, 199065377158034.53, 198933283344392.8, 198801364721485.4, 198669620941020.56, 198538051655629.12, 198406656518861.66, 198275435185185.2, 198144387309980.2, 198013512549537.66, 197882810561056.1, 197752281002638.53, 197621923533289.4, 197491737812911.72, 197361723502304.12, 197231880263157.9, 197102207758053.94, 196972705650459.9, 196843373604727.5, 196714211286089.25, 196585218360655.75, 196456394495412.84, 196327739358218.72, 196199252617801.03, 196070933943754.1, 195942783006535.94, 195814799477465.7, 195686983028720.62, 195559333333333.34, 195431850065189.03, 195304532899022.78, 195177381510416.66, 195050395575797.03, 194923574772431.72, 194796918778427.53, 194670427272727.28, 194544099935107.1, 194417936446173.78, 194291936487362.25, 194166099740932.62, 194040425889967.66, 193914914618369.97, 193789565610859.72, 193664378552971.56, 193539353131052.3, 193414489032258.06, 193289785944551.88, 193165243556701.03, 193040861558274.3, 192916639639639.62, 192792577491961.4, 192668674807197.94, 192544931278098.9, 192421346598202.8, 192297920461834.5, 192174652564102.56, 192051542600896.88, 191928590268886.03, 191805795265515.0, 191683157289002.56, 191560676038338.66, 191438351213282.25, 191316182514358.62, 191194169642857.12, 191072312300828.56, 190950610191082.78, 190829063017186.47, 190707670483460.56, 190586432294977.75, 190465348157560.34, 190344417777777.75, 190223640862944.16, 190103017121116.06, 189982546261089.97, 189862227992400.22, 189742062025316.44, 189622048070841.25, 189502185840707.97, 189382475047378.38, 189262915404040.4, 189143506624605.7, 189024248423707.44, 188905140516698.16, 188786182619647.34, 188667374449339.22, 188548715723270.44, 188430206159648.0, 188311845477386.94, 188193633396107.97, 188075569636135.5, 187957653918495.28, 187839885964912.28, 187722265497808.4, 187604792240300.38, 187487465916197.6, 187370286250000.0], &quot;apodization&quot;: {&quot;attrs&quot;: {}, &quot;start&quot;: null, &quot;end&quot;: null, &quot;width&quot;: null, &quot;type&quot;: &quot;ApodizationSpec&quot;}, &quot;mode_spec&quot;: {&quot;attrs&quot;: {}, &quot;num_modes&quot;: 1, &quot;target_neff&quot;: 3.0, &quot;num_pml&quot;: [0, 0], &quot;filter_pol&quot;: null, &quot;angle_theta&quot;: 0.0, &quot;angle_phi&quot;: 0.0, &quot;precision&quot;: &quot;single&quot;, &quot;bend_radius&quot;: null, &quot;bend_axis&quot;: null, &quot;track_freq&quot;: &quot;central&quot;, &quot;group_index_step&quot;: false, &quot;type&quot;: &quot;ModeSpec&quot;}, &quot;store_fields_direction&quot;: null}, {&quot;attrs&quot;: {}, &quot;type&quot;: &quot;FieldMonitor&quot;, &quot;center&quot;: [0.0, 0.0, 0.0], &quot;size&quot;: [0.0, &quot;Infinity&quot;, &quot;Infinity&quot;], &quot;name&quot;: &quot;field&quot;, &quot;interval_space&quot;: [1, 2, 4], &quot;colocate&quot;: true, &quot;freqs&quot;: [193414489032258.06], &quot;apodization&quot;: {&quot;attrs&quot;: {}, &quot;start&quot;: null, &quot;end&quot;: null, &quot;width&quot;: null, &quot;type&quot;: &quot;ApodizationSpec&quot;}, &quot;fields&quot;: [&quot;Ex&quot;, &quot;Ey&quot;, &quot;Ez&quot;, &quot;Hx&quot;, &quot;Hy&quot;, &quot;Hz&quot;]}], &quot;grid_spec&quot;: {&quot;attrs&quot;: {}, &quot;grid_x&quot;: {&quot;attrs&quot;: {}, &quot;type&quot;: &quot;AutoGrid&quot;, &quot;min_steps_per_wvl&quot;: 50.0, &quot;max_scale&quot;: 1.4, &quot;dl_min&quot;: 0.0, &quot;mesher&quot;: {&quot;attrs&quot;: {}, &quot;type&quot;: &quot;GradedMesher&quot;}}, &quot;grid_y&quot;: {&quot;attrs&quot;: {}, &quot;type&quot;: &quot;AutoGrid&quot;, &quot;min_steps_per_wvl&quot;: 50.0, &quot;max_scale&quot;: 1.4, &quot;dl_min&quot;: 0.0, &quot;mesher&quot;: {&quot;attrs&quot;: {}, &quot;type&quot;: &quot;GradedMesher&quot;}}, &quot;grid_z&quot;: {&quot;attrs&quot;: {}, &quot;type&quot;: &quot;AutoGrid&quot;, &quot;min_steps_per_wvl&quot;: 50.0, &quot;max_scale&quot;: 1.4, &quot;dl_min&quot;: 0.0, &quot;mesher&quot;: {&quot;attrs&quot;: {}, &quot;type&quot;: &quot;GradedMesher&quot;}}, &quot;wavelength&quot;: 1.55, &quot;override_structures&quot;: [], &quot;snapping_points&quot;: [], &quot;type&quot;: &quot;GridSpec&quot;}, &quot;version&quot;: &quot;2.7.3&quot;, &quot;lumped_elements&quot;: [], &quot;subpixel&quot;: {&quot;attrs&quot;: {}, &quot;dielectric&quot;: {&quot;attrs&quot;: {}, &quot;type&quot;: &quot;PolarizedAveraging&quot;}, &quot;metal&quot;: {&quot;attrs&quot;: {}, &quot;type&quot;: &quot;VolumetricAveraging&quot;, &quot;staircase_normal_component&quot;: true}, &quot;pec&quot;: {&quot;attrs&quot;: {}, &quot;type&quot;: &quot;PECConformal&quot;, &quot;timestep_reduction&quot;: 0.3}, &quot;type&quot;: &quot;SubpixelSpec&quot;}, &quot;simulation_type&quot;: null, &quot;courant&quot;: 0.99, &quot;normalize_index&quot;: 0, &quot;shutoff&quot;: 1e-05, &quot;run_time&quot;: 5e-13}\" />\n",
       "    <script>\n",
       "        \n",
       "        /**\n",
       "        * Simulation Viewer Injector\n",
       "        *\n",
       "        * Monitors the document for elements being added in the form:\n",
       "        *\n",
       "        *    <div class=\"simulation-viewer\" data-width=\"800\" data-height=\"800\" data-simulation=\"{...}\" />\n",
       "        *\n",
       "        * This script will then inject an iframe to the viewer application, and pass it the simulation data\n",
       "        * via the postMessage API on request. The script may be safely included multiple times, with only the\n",
       "        * configuration of the first started script (e.g. viewer URL) applying.\n",
       "        *\n",
       "        */\n",
       "        (function() {\n",
       "            const TARGET_CLASS = \"simulation-viewer\";\n",
       "            const ACTIVE_CLASS = \"simulation-viewer-active\";\n",
       "            const VIEWER_URL = \"https://feature-simulation-viewer.d3a9gfg7glllfq.amplifyapp.com/simulation-viewer\";\n",
       "\n",
       "            class SimulationViewerInjector {\n",
       "                constructor() {\n",
       "                    for (var node of document.getElementsByClassName(TARGET_CLASS)) {\n",
       "                        this.injectViewer(node);\n",
       "                    }\n",
       "\n",
       "                    // Monitor for newly added nodes to the DOM\n",
       "                    this.observer = new MutationObserver(this.onMutations.bind(this));\n",
       "                    this.observer.observe(document.body, {childList: true, subtree: true});\n",
       "                }\n",
       "\n",
       "                onMutations(mutations) {\n",
       "                    for (var mutation of mutations) {\n",
       "                        if (mutation.type === 'childList') {\n",
       "                            /**\n",
       "                            * Have found that adding the element does not reliably trigger the mutation observer.\n",
       "                            * It may be the case that setting content with innerHTML does not trigger.\n",
       "                            *\n",
       "                            * It seems to be sufficient to re-scan the document for un-activated viewers\n",
       "                            * whenever an event occurs, as Jupyter triggers multiple events on cell evaluation.\n",
       "                            */\n",
       "                            var viewers = document.getElementsByClassName(TARGET_CLASS);\n",
       "                            for (var node of viewers) {\n",
       "                                this.injectViewer(node);\n",
       "                            }\n",
       "                        }\n",
       "                    }\n",
       "                }\n",
       "\n",
       "                injectViewer(node) {\n",
       "                    // (re-)check that this is a valid simulation container and has not already been injected\n",
       "                    if (node.classList.contains(TARGET_CLASS) && !node.classList.contains(ACTIVE_CLASS)) {\n",
       "                        // Mark node as injected, to prevent re-runs\n",
       "                        node.classList.add(ACTIVE_CLASS);\n",
       "\n",
       "                        var uuid;\n",
       "                        if (window.crypto && window.crypto.randomUUID) {\n",
       "                            uuid = window.crypto.randomUUID();\n",
       "                        } else {\n",
       "                            uuid = \"\" + Math.random();\n",
       "                        }\n",
       "\n",
       "                        var frame = document.createElement(\"iframe\");\n",
       "                        frame.width = node.dataset.width || 800;\n",
       "                        frame.height = node.dataset.height || 800;\n",
       "                        frame.src = VIEWER_URL + \"?uuid=\" + uuid;\n",
       "\n",
       "                        var postMessageToViewer;\n",
       "                        postMessageToViewer = event => {{\n",
       "                            if(event.data.type === 'viewer' && event.data.uuid===uuid){{\n",
       "                                var simulation = JSON.parse(node.dataset.simulation);\n",
       "                                frame.contentWindow.postMessage({ type: 'jupyter', uuid, value: simulation}, '*');\n",
       "\n",
       "                                // Run once only\n",
       "                                window.removeEventListener('message', postMessageToViewer);\n",
       "                            }}\n",
       "                        }};\n",
       "                        window.addEventListener(\n",
       "                            'message',\n",
       "                            postMessageToViewer,\n",
       "                            false\n",
       "                        );\n",
       "\n",
       "                        node.appendChild(frame);\n",
       "                    }\n",
       "                }\n",
       "            }\n",
       "\n",
       "            if (!window.simulationViewerInjector) {\n",
       "                window.simulationViewerInjector = new SimulationViewerInjector();\n",
       "            }\n",
       "        })();\n",
       "    \n",
       "    </script>\n",
       "    "
      ],
      "text/plain": [
       "<IPython.core.display.HTML object>"
      ]
     },
     "metadata": {},
     "output_type": "display_data"
    }
   ],
   "source": [
    "target_n_eff = 2.15\n",
    "w = np.interp(\n",
    "    target_n_eff, n_eff_silicon, w_list\n",
    ")  # calculate the silicon waveguide width given the target effective index\n",
    "p = np.interp(\n",
    "    target_n_eff, np.flipud(n_eff_plasmonic), np.flipud(p_list)\n",
    ")  # calculate the plasmonic waveguide width given the target effective index\n",
    "L_c_opt = np.interp(\n",
    "    target_n_eff, n_eff_list, L_c\n",
    ")  # calculate the coupling length given the target effective index\n",
    "\n",
    "print(f\"Silicon waveguide width is {w*1e3:.2f} nm.\")\n",
    "print(f\"Plasmonic waveguide width is {p*1e3:.2f} nm\")\n",
    "print(f\"Optimal coupling length is {L_c_opt*1e3:.2f} nm\")\n",
    "\n",
    "g = 0.08  # gap size between the silicon waveguide and the plasmonic waveguide\n",
    "inf_eff = 1e3  # effective infinity\n",
    "buffer = lda0 / 2  # buffer spacing for padding the simulation domain\n",
    "\n",
    "# define both waveguide structures\n",
    "slot_left = td.Structure(\n",
    "    geometry=td.Box.from_bounds(\n",
    "        rmin=(-s / 2 - p, h / 2 + g, 0), rmax=(-s / 2, h / 2 + g + t, inf_eff)\n",
    "    ),\n",
    "    medium=ag,\n",
    ")\n",
    "\n",
    "slot_right = td.Structure(\n",
    "    geometry=td.Box.from_bounds(\n",
    "        rmin=(s / 2, h / 2 + g, 0), rmax=(s / 2 + p, h / 2 + g + t, inf_eff)\n",
    "    ),\n",
    "    medium=ag,\n",
    ")\n",
    "\n",
    "silicon_waveguide = td.Structure(\n",
    "    geometry=td.Box.from_bounds(rmin=(-w / 2, -h / 2, -inf_eff), rmax=(w / 2, h / 2, L_c_opt)),\n",
    "    medium=si,\n",
    ")\n",
    "\n",
    "# define a mode source\n",
    "mode_spec = td.ModeSpec(num_modes=1, target_neff=3)\n",
    "mode_source = td.ModeSource(\n",
    "    center=(0, 0, -buffer / 2),\n",
    "    size=(td.inf, td.inf, 0),\n",
    "    source_time=td.GaussianPulse(freq0=freq0, fwidth=fwidth),\n",
    "    direction=\"+\",\n",
    "    mode_spec=mode_spec,\n",
    "    mode_index=0,\n",
    ")\n",
    "\n",
    "# add a mode monitor to measure transmission at the plasmonic waveguide\n",
    "mode_monitor_t = td.ModeMonitor(\n",
    "    center=(0, 0, L_c_opt + buffer / 2),\n",
    "    size=(td.inf, td.inf, 0),\n",
    "    freqs=freqs,\n",
    "    mode_spec=mode_spec,\n",
    "    name=\"T\",\n",
    ")\n",
    "\n",
    "# add a mode monitor to measure reflection at the silicon waveguide\n",
    "mode_monitor_r = td.ModeMonitor(\n",
    "    center=(0, 0, -0.75 * buffer),\n",
    "    size=(td.inf, td.inf, 0),\n",
    "    freqs=freqs,\n",
    "    mode_spec=mode_spec,\n",
    "    name=\"R\",\n",
    ")\n",
    "\n",
    "# add a field monitor to visualize field distribution\n",
    "field_monitor = td.FieldMonitor(\n",
    "    size=(0, td.inf, td.inf), freqs=[freq0], interval_space=(1, 2, 4), name=\"field\"\n",
    ")\n",
    "\n",
    "run_time = 5e-13  # simulation run time\n",
    "\n",
    "# construct simulation\n",
    "sim_coupler = td.Simulation(\n",
    "    center=(0, h / 2, L_c_opt / 2),\n",
    "    size=(2 * (2 * p + s + w), 3 * (t + g + h), L_c_opt + 2 * buffer),\n",
    "    grid_spec=td.GridSpec.auto(min_steps_per_wvl=50, wavelength=lda0),\n",
    "    structures=[slot_left, slot_right, silicon_waveguide],\n",
    "    sources=[mode_source],\n",
    "    monitors=[mode_monitor_r, mode_monitor_t, field_monitor],\n",
    "    run_time=run_time,\n",
    "    boundary_spec=td.BoundarySpec(\n",
    "        x=td.Boundary.absorber(), y=td.Boundary.absorber(), z=td.Boundary.absorber(num_layers=60)\n",
    "    ),  # using a larger number of layers to minimize reflection\n",
    "    subpixel=td.SubpixelSpec(\n",
    "        metal=td.VolumetricAveraging()\n",
    "    ),  # turn on volumetric averaging for metal\n",
    "    medium=sio2,\n",
    "    symmetry=(-1, 0, 0),\n",
    ")\n",
    "\n",
    "sim_coupler.plot_3d()"
   ]
  },
  {
   "cell_type": "markdown",
   "id": "ae2a684d-f2d1-434d-b9d1-d1c175dcaa12",
   "metadata": {},
   "source": [
    "Since a fine grid resolution is used, we would like to estimate the cost before running the simulation to ensure it's affordable."
   ]
  },
  {
   "cell_type": "code",
   "execution_count": 21,
   "id": "80b62648-74d7-4555-8bf5-1cb230048baf",
   "metadata": {
    "execution": {
     "iopub.execute_input": "2024-09-05T13:17:16.663948Z",
     "iopub.status.busy": "2024-09-05T13:17:16.663635Z",
     "iopub.status.idle": "2024-09-05T13:17:18.072793Z",
     "shell.execute_reply": "2024-09-05T13:17:18.072015Z"
    }
   },
   "outputs": [
    {
     "data": {
      "text/html": [
       "<pre style=\"white-space:pre;overflow-x:auto;line-height:normal;font-family:Menlo,'DejaVu Sans Mono',consolas,'Courier New',monospace\"><span style=\"color: #7fbfbf; text-decoration-color: #7fbfbf\">13:17:16 UTC </span>Created task <span style=\"color: #008000; text-decoration-color: #008000\">'coupling'</span> with task_id                               \n",
       "<span style=\"color: #7fbfbf; text-decoration-color: #7fbfbf\">             </span><span style=\"color: #008000; text-decoration-color: #008000\">'fdve-571ca63d-c81f-455d-8e51-71212972b050'</span> and task_type <span style=\"color: #008000; text-decoration-color: #008000\">'FDTD'</span>.  \n",
       "</pre>\n"
      ],
      "text/plain": [
       "\u001b[2;36m13:17:16 UTC\u001b[0m\u001b[2;36m \u001b[0mCreated task \u001b[32m'coupling'\u001b[0m with task_id                               \n",
       "\u001b[2;36m             \u001b[0m\u001b[32m'fdve-571ca63d-c81f-455d-8e51-71212972b050'\u001b[0m and task_type \u001b[32m'FDTD'\u001b[0m.  \n"
      ]
     },
     "metadata": {},
     "output_type": "display_data"
    },
    {
     "data": {
      "text/html": [
       "<pre style=\"white-space:pre;overflow-x:auto;line-height:normal;font-family:Menlo,'DejaVu Sans Mono',consolas,'Courier New',monospace\"><span style=\"color: #7fbfbf; text-decoration-color: #7fbfbf\">             </span>View task using web UI at                                          \n",
       "<span style=\"color: #7fbfbf; text-decoration-color: #7fbfbf\">             </span><a href=\"https://tidy3d.simulation.cloud/workbench?taskId=fdve-571ca63d-c81f-455d-8e51-71212972b050\" target=\"_blank\"><span style=\"color: #008000; text-decoration-color: #008000\">'https://tidy3d.simulation.cloud/workbench?taskId=fdve-571ca63d-c81</span></a>\n",
       "<span style=\"color: #7fbfbf; text-decoration-color: #7fbfbf\">             </span><a href=\"https://tidy3d.simulation.cloud/workbench?taskId=fdve-571ca63d-c81f-455d-8e51-71212972b050\" target=\"_blank\"><span style=\"color: #008000; text-decoration-color: #008000\">f-455d-8e51-71212972b050'</span></a>.                                         \n",
       "</pre>\n"
      ],
      "text/plain": [
       "\u001b[2;36m            \u001b[0m\u001b[2;36m \u001b[0mView task using web UI at                                          \n",
       "\u001b[2;36m             \u001b[0m\u001b]8;id=92354;https://tidy3d.simulation.cloud/workbench?taskId=fdve-571ca63d-c81f-455d-8e51-71212972b050\u001b\\\u001b[32m'https://tidy3d.simulation.cloud/workbench?\u001b[0m\u001b]8;;\u001b\\\u001b]8;id=240277;https://tidy3d.simulation.cloud/workbench?taskId=fdve-571ca63d-c81f-455d-8e51-71212972b050\u001b\\\u001b[32mtaskId\u001b[0m\u001b]8;;\u001b\\\u001b]8;id=92354;https://tidy3d.simulation.cloud/workbench?taskId=fdve-571ca63d-c81f-455d-8e51-71212972b050\u001b\\\u001b[32m=\u001b[0m\u001b]8;;\u001b\\\u001b]8;id=715796;https://tidy3d.simulation.cloud/workbench?taskId=fdve-571ca63d-c81f-455d-8e51-71212972b050\u001b\\\u001b[32mfdve\u001b[0m\u001b]8;;\u001b\\\u001b]8;id=92354;https://tidy3d.simulation.cloud/workbench?taskId=fdve-571ca63d-c81f-455d-8e51-71212972b050\u001b\\\u001b[32m-571ca63d-c81\u001b[0m\u001b]8;;\u001b\\\n",
       "\u001b[2;36m             \u001b[0m\u001b]8;id=92354;https://tidy3d.simulation.cloud/workbench?taskId=fdve-571ca63d-c81f-455d-8e51-71212972b050\u001b\\\u001b[32mf-455d-8e51-71212972b050'\u001b[0m\u001b]8;;\u001b\\.                                         \n"
      ]
     },
     "metadata": {},
     "output_type": "display_data"
    },
    {
     "data": {
      "application/vnd.jupyter.widget-view+json": {
       "model_id": "898aafb97df84647b765e28ed3070d50",
       "version_major": 2,
       "version_minor": 0
      },
      "text/plain": [
       "Output()"
      ]
     },
     "metadata": {},
     "output_type": "display_data"
    },
    {
     "data": {
      "text/html": [
       "<pre style=\"white-space:pre;overflow-x:auto;line-height:normal;font-family:Menlo,'DejaVu Sans Mono',consolas,'Courier New',monospace\"></pre>\n"
      ],
      "text/plain": []
     },
     "metadata": {},
     "output_type": "display_data"
    },
    {
     "data": {
      "text/html": [
       "<pre style=\"white-space:pre;overflow-x:auto;line-height:normal;font-family:Menlo,'DejaVu Sans Mono',consolas,'Courier New',monospace\">\n",
       "</pre>\n"
      ],
      "text/plain": [
       "\n"
      ]
     },
     "metadata": {},
     "output_type": "display_data"
    },
    {
     "data": {
      "text/html": [
       "<pre style=\"white-space:pre;overflow-x:auto;line-height:normal;font-family:Menlo,'DejaVu Sans Mono',consolas,'Courier New',monospace\"><span style=\"color: #7fbfbf; text-decoration-color: #7fbfbf\">13:17:18 UTC </span>Maximum FlexCredit cost: <span style=\"color: #008080; text-decoration-color: #008080; font-weight: bold\">2.521</span>. Minimum cost depends on task       \n",
       "<span style=\"color: #7fbfbf; text-decoration-color: #7fbfbf\">             </span>execution details. Use <span style=\"color: #008000; text-decoration-color: #008000\">'web.real_cost(task_id)'</span> to get the billed  \n",
       "<span style=\"color: #7fbfbf; text-decoration-color: #7fbfbf\">             </span>FlexCredit cost after a simulation run.                            \n",
       "</pre>\n"
      ],
      "text/plain": [
       "\u001b[2;36m13:17:18 UTC\u001b[0m\u001b[2;36m \u001b[0mMaximum FlexCredit cost: \u001b[1;36m2.521\u001b[0m. Minimum cost depends on task       \n",
       "\u001b[2;36m             \u001b[0mexecution details. Use \u001b[32m'web.real_cost\u001b[0m\u001b[32m(\u001b[0m\u001b[32mtask_id\u001b[0m\u001b[32m)\u001b[0m\u001b[32m'\u001b[0m to get the billed  \n",
       "\u001b[2;36m             \u001b[0mFlexCredit cost after a simulation run.                            \n"
      ]
     },
     "metadata": {},
     "output_type": "display_data"
    }
   ],
   "source": [
    "job = web.Job(simulation=sim_coupler, task_name=\"coupling\")\n",
    "estimated_cost = web.estimate_cost(job.task_id)"
   ]
  },
  {
   "cell_type": "markdown",
   "id": "93aac9c9-5a42-412c-882d-4634305b8e10",
   "metadata": {},
   "source": [
    "Run the simulation after the cost is checked."
   ]
  },
  {
   "cell_type": "code",
   "execution_count": 22,
   "id": "bd5d9d94-49f5-4c7b-bf64-6d67777e6f6a",
   "metadata": {
    "execution": {
     "iopub.execute_input": "2024-09-05T13:17:18.093335Z",
     "iopub.status.busy": "2024-09-05T13:17:18.093088Z",
     "iopub.status.idle": "2024-09-05T13:20:25.393217Z",
     "shell.execute_reply": "2024-09-05T13:20:25.391794Z"
    }
   },
   "outputs": [
    {
     "data": {
      "text/html": [
       "<pre style=\"white-space:pre;overflow-x:auto;line-height:normal;font-family:Menlo,'DejaVu Sans Mono',consolas,'Courier New',monospace\"><span style=\"color: #7fbfbf; text-decoration-color: #7fbfbf\">13:17:25 UTC </span>status = queued                                                    \n",
       "</pre>\n"
      ],
      "text/plain": [
       "\u001b[2;36m13:17:25 UTC\u001b[0m\u001b[2;36m \u001b[0mstatus = queued                                                    \n"
      ]
     },
     "metadata": {},
     "output_type": "display_data"
    },
    {
     "data": {
      "text/html": [
       "<pre style=\"white-space:pre;overflow-x:auto;line-height:normal;font-family:Menlo,'DejaVu Sans Mono',consolas,'Courier New',monospace\"><span style=\"color: #7fbfbf; text-decoration-color: #7fbfbf\">             </span>To cancel the simulation, use <span style=\"color: #008000; text-decoration-color: #008000\">'web.abort(task_id)'</span> or              \n",
       "<span style=\"color: #7fbfbf; text-decoration-color: #7fbfbf\">             </span><span style=\"color: #008000; text-decoration-color: #008000\">'web.delete(task_id)'</span> or abort/delete the task in the web UI.      \n",
       "<span style=\"color: #7fbfbf; text-decoration-color: #7fbfbf\">             </span>Terminating the Python script will not stop the job running on the \n",
       "<span style=\"color: #7fbfbf; text-decoration-color: #7fbfbf\">             </span>cloud.                                                             \n",
       "</pre>\n"
      ],
      "text/plain": [
       "\u001b[2;36m            \u001b[0m\u001b[2;36m \u001b[0mTo cancel the simulation, use \u001b[32m'web.abort\u001b[0m\u001b[32m(\u001b[0m\u001b[32mtask_id\u001b[0m\u001b[32m)\u001b[0m\u001b[32m'\u001b[0m or              \n",
       "\u001b[2;36m             \u001b[0m\u001b[32m'web.delete\u001b[0m\u001b[32m(\u001b[0m\u001b[32mtask_id\u001b[0m\u001b[32m)\u001b[0m\u001b[32m'\u001b[0m or abort/delete the task in the web UI.      \n",
       "\u001b[2;36m             \u001b[0mTerminating the Python script will not stop the job running on the \n",
       "\u001b[2;36m             \u001b[0mcloud.                                                             \n"
      ]
     },
     "metadata": {},
     "output_type": "display_data"
    },
    {
     "data": {
      "application/vnd.jupyter.widget-view+json": {
       "model_id": "1d056ffa64f34a3598439ec30d0642b3",
       "version_major": 2,
       "version_minor": 0
      },
      "text/plain": [
       "Output()"
      ]
     },
     "metadata": {},
     "output_type": "display_data"
    },
    {
     "data": {
      "text/html": [
       "<pre style=\"white-space:pre;overflow-x:auto;line-height:normal;font-family:Menlo,'DejaVu Sans Mono',consolas,'Courier New',monospace\"><span style=\"color: #7fbfbf; text-decoration-color: #7fbfbf\">13:17:30 UTC </span>status = preprocess                                                \n",
       "</pre>\n"
      ],
      "text/plain": [
       "\u001b[2;36m13:17:30 UTC\u001b[0m\u001b[2;36m \u001b[0mstatus = preprocess                                                \n"
      ]
     },
     "metadata": {},
     "output_type": "display_data"
    },
    {
     "data": {
      "text/html": [
       "<pre style=\"white-space:pre;overflow-x:auto;line-height:normal;font-family:Menlo,'DejaVu Sans Mono',consolas,'Courier New',monospace\"></pre>\n"
      ],
      "text/plain": []
     },
     "metadata": {},
     "output_type": "display_data"
    },
    {
     "data": {
      "text/html": [
       "<pre style=\"white-space:pre;overflow-x:auto;line-height:normal;font-family:Menlo,'DejaVu Sans Mono',consolas,'Courier New',monospace\"><span style=\"color: #7fbfbf; text-decoration-color: #7fbfbf\">13:17:33 UTC </span>Maximum FlexCredit cost: <span style=\"color: #008080; text-decoration-color: #008080; font-weight: bold\">2.521</span>. Use <span style=\"color: #008000; text-decoration-color: #008000\">'web.real_cost(task_id)'</span> to get\n",
       "<span style=\"color: #7fbfbf; text-decoration-color: #7fbfbf\">             </span>the billed FlexCredit cost after a simulation run.                 \n",
       "</pre>\n"
      ],
      "text/plain": [
       "\u001b[2;36m13:17:33 UTC\u001b[0m\u001b[2;36m \u001b[0mMaximum FlexCredit cost: \u001b[1;36m2.521\u001b[0m. Use \u001b[32m'web.real_cost\u001b[0m\u001b[32m(\u001b[0m\u001b[32mtask_id\u001b[0m\u001b[32m)\u001b[0m\u001b[32m'\u001b[0m to get\n",
       "\u001b[2;36m             \u001b[0mthe billed FlexCredit cost after a simulation run.                 \n"
      ]
     },
     "metadata": {},
     "output_type": "display_data"
    },
    {
     "data": {
      "text/html": [
       "<pre style=\"white-space:pre;overflow-x:auto;line-height:normal;font-family:Menlo,'DejaVu Sans Mono',consolas,'Courier New',monospace\"><span style=\"color: #7fbfbf; text-decoration-color: #7fbfbf\">             </span>starting up solver                                                 \n",
       "</pre>\n"
      ],
      "text/plain": [
       "\u001b[2;36m            \u001b[0m\u001b[2;36m \u001b[0mstarting up solver                                                 \n"
      ]
     },
     "metadata": {},
     "output_type": "display_data"
    },
    {
     "data": {
      "text/html": [
       "<pre style=\"white-space:pre;overflow-x:auto;line-height:normal;font-family:Menlo,'DejaVu Sans Mono',consolas,'Courier New',monospace\"><span style=\"color: #7fbfbf; text-decoration-color: #7fbfbf\">13:17:34 UTC </span>running solver                                                     \n",
       "</pre>\n"
      ],
      "text/plain": [
       "\u001b[2;36m13:17:34 UTC\u001b[0m\u001b[2;36m \u001b[0mrunning solver                                                     \n"
      ]
     },
     "metadata": {},
     "output_type": "display_data"
    },
    {
     "data": {
      "application/vnd.jupyter.widget-view+json": {
       "model_id": "11b254b7aea04351beb37a87e0fb4aa7",
       "version_major": 2,
       "version_minor": 0
      },
      "text/plain": [
       "Output()"
      ]
     },
     "metadata": {},
     "output_type": "display_data"
    },
    {
     "data": {
      "text/html": [
       "<pre style=\"white-space:pre;overflow-x:auto;line-height:normal;font-family:Menlo,'DejaVu Sans Mono',consolas,'Courier New',monospace\"><span style=\"color: #7fbfbf; text-decoration-color: #7fbfbf\">13:19:57 UTC </span>early shutoff detected at <span style=\"color: #008080; text-decoration-color: #008080; font-weight: bold\">64</span>%, exiting.                            \n",
       "</pre>\n"
      ],
      "text/plain": [
       "\u001b[2;36m13:19:57 UTC\u001b[0m\u001b[2;36m \u001b[0mearly shutoff detected at \u001b[1;36m64\u001b[0m%, exiting.                            \n"
      ]
     },
     "metadata": {},
     "output_type": "display_data"
    },
    {
     "data": {
      "text/html": [
       "<pre style=\"white-space:pre;overflow-x:auto;line-height:normal;font-family:Menlo,'DejaVu Sans Mono',consolas,'Courier New',monospace\"></pre>\n"
      ],
      "text/plain": []
     },
     "metadata": {},
     "output_type": "display_data"
    },
    {
     "data": {
      "text/html": [
       "<pre style=\"white-space:pre;overflow-x:auto;line-height:normal;font-family:Menlo,'DejaVu Sans Mono',consolas,'Courier New',monospace\">\n",
       "</pre>\n"
      ],
      "text/plain": [
       "\n"
      ]
     },
     "metadata": {},
     "output_type": "display_data"
    },
    {
     "data": {
      "text/html": [
       "<pre style=\"white-space:pre;overflow-x:auto;line-height:normal;font-family:Menlo,'DejaVu Sans Mono',consolas,'Courier New',monospace\"><span style=\"color: #7fbfbf; text-decoration-color: #7fbfbf\">13:19:58 UTC </span>status = postprocess                                               \n",
       "</pre>\n"
      ],
      "text/plain": [
       "\u001b[2;36m13:19:58 UTC\u001b[0m\u001b[2;36m \u001b[0mstatus = postprocess                                               \n"
      ]
     },
     "metadata": {},
     "output_type": "display_data"
    },
    {
     "data": {
      "application/vnd.jupyter.widget-view+json": {
       "model_id": "13daf9a8c1f2423c967bd6e22ace8e8d",
       "version_major": 2,
       "version_minor": 0
      },
      "text/plain": [
       "Output()"
      ]
     },
     "metadata": {},
     "output_type": "display_data"
    },
    {
     "data": {
      "text/html": [
       "<pre style=\"white-space:pre;overflow-x:auto;line-height:normal;font-family:Menlo,'DejaVu Sans Mono',consolas,'Courier New',monospace\"><span style=\"color: #7fbfbf; text-decoration-color: #7fbfbf\">13:20:23 UTC </span>status = success                                                   \n",
       "</pre>\n"
      ],
      "text/plain": [
       "\u001b[2;36m13:20:23 UTC\u001b[0m\u001b[2;36m \u001b[0mstatus = success                                                   \n"
      ]
     },
     "metadata": {},
     "output_type": "display_data"
    },
    {
     "data": {
      "text/html": [
       "<pre style=\"white-space:pre;overflow-x:auto;line-height:normal;font-family:Menlo,'DejaVu Sans Mono',consolas,'Courier New',monospace\"></pre>\n"
      ],
      "text/plain": []
     },
     "metadata": {},
     "output_type": "display_data"
    },
    {
     "data": {
      "text/html": [
       "<pre style=\"white-space:pre;overflow-x:auto;line-height:normal;font-family:Menlo,'DejaVu Sans Mono',consolas,'Courier New',monospace\"><span style=\"color: #7fbfbf; text-decoration-color: #7fbfbf\">13:20:24 UTC </span>View simulation result at                                          \n",
       "<span style=\"color: #7fbfbf; text-decoration-color: #7fbfbf\">             </span><a href=\"https://tidy3d.simulation.cloud/workbench?taskId=fdve-571ca63d-c81f-455d-8e51-71212972b050\" target=\"_blank\"><span style=\"color: #000080; text-decoration-color: #000080; text-decoration: underline\">'https://tidy3d.simulation.cloud/workbench?taskId=fdve-571ca63d-c81</span></a>\n",
       "<span style=\"color: #7fbfbf; text-decoration-color: #7fbfbf\">             </span><a href=\"https://tidy3d.simulation.cloud/workbench?taskId=fdve-571ca63d-c81f-455d-8e51-71212972b050\" target=\"_blank\"><span style=\"color: #000080; text-decoration-color: #000080; text-decoration: underline\">f-455d-8e51-71212972b050'</span></a><span style=\"color: #000080; text-decoration-color: #000080; text-decoration: underline\">.</span>                                         \n",
       "</pre>\n"
      ],
      "text/plain": [
       "\u001b[2;36m13:20:24 UTC\u001b[0m\u001b[2;36m \u001b[0mView simulation result at                                          \n",
       "\u001b[2;36m             \u001b[0m\u001b]8;id=212537;https://tidy3d.simulation.cloud/workbench?taskId=fdve-571ca63d-c81f-455d-8e51-71212972b050\u001b\\\u001b[4;34m'https://tidy3d.simulation.cloud/workbench?\u001b[0m\u001b]8;;\u001b\\\u001b]8;id=163045;https://tidy3d.simulation.cloud/workbench?taskId=fdve-571ca63d-c81f-455d-8e51-71212972b050\u001b\\\u001b[4;34mtaskId\u001b[0m\u001b]8;;\u001b\\\u001b]8;id=212537;https://tidy3d.simulation.cloud/workbench?taskId=fdve-571ca63d-c81f-455d-8e51-71212972b050\u001b\\\u001b[4;34m=\u001b[0m\u001b]8;;\u001b\\\u001b]8;id=540109;https://tidy3d.simulation.cloud/workbench?taskId=fdve-571ca63d-c81f-455d-8e51-71212972b050\u001b\\\u001b[4;34mfdve\u001b[0m\u001b]8;;\u001b\\\u001b]8;id=212537;https://tidy3d.simulation.cloud/workbench?taskId=fdve-571ca63d-c81f-455d-8e51-71212972b050\u001b\\\u001b[4;34m-571ca63d-c81\u001b[0m\u001b]8;;\u001b\\\n",
       "\u001b[2;36m             \u001b[0m\u001b]8;id=212537;https://tidy3d.simulation.cloud/workbench?taskId=fdve-571ca63d-c81f-455d-8e51-71212972b050\u001b\\\u001b[4;34mf-455d-8e51-71212972b050'\u001b[0m\u001b]8;;\u001b\\\u001b[4;34m.\u001b[0m                                         \n"
      ]
     },
     "metadata": {},
     "output_type": "display_data"
    },
    {
     "data": {
      "application/vnd.jupyter.widget-view+json": {
       "model_id": "f4924f04287445efb23e99695dce8124",
       "version_major": 2,
       "version_minor": 0
      },
      "text/plain": [
       "Output()"
      ]
     },
     "metadata": {},
     "output_type": "display_data"
    },
    {
     "data": {
      "text/html": [
       "<pre style=\"white-space:pre;overflow-x:auto;line-height:normal;font-family:Menlo,'DejaVu Sans Mono',consolas,'Courier New',monospace\"></pre>\n"
      ],
      "text/plain": []
     },
     "metadata": {},
     "output_type": "display_data"
    },
    {
     "data": {
      "text/html": [
       "<pre style=\"white-space:pre;overflow-x:auto;line-height:normal;font-family:Menlo,'DejaVu Sans Mono',consolas,'Courier New',monospace\">\n",
       "</pre>\n"
      ],
      "text/plain": [
       "\n"
      ]
     },
     "metadata": {},
     "output_type": "display_data"
    },
    {
     "data": {
      "text/html": [
       "<pre style=\"white-space:pre;overflow-x:auto;line-height:normal;font-family:Menlo,'DejaVu Sans Mono',consolas,'Courier New',monospace\"><span style=\"color: #7fbfbf; text-decoration-color: #7fbfbf\">13:20:25 UTC </span>loading simulation from data/simulation_data.hdf5                  \n",
       "</pre>\n"
      ],
      "text/plain": [
       "\u001b[2;36m13:20:25 UTC\u001b[0m\u001b[2;36m \u001b[0mloading simulation from data/simulation_data.hdf5                  \n"
      ]
     },
     "metadata": {},
     "output_type": "display_data"
    }
   ],
   "source": [
    "sim_data_coupler = job.run(path=\"data/simulation_data.hdf5\")"
   ]
  },
  {
   "cell_type": "markdown",
   "id": "2f42e7d4-1685-4646-91a6-579364e26c04",
   "metadata": {},
   "source": [
    "After the simulation is finished, extract and plot the coupling efficiency and return loss from 1500 nm to 1600 nm. We see a good coupling efficiency of around 1 dB across the entire wavelength range and a very low return loss, indicating efficient coupling. "
   ]
  },
  {
   "cell_type": "code",
   "execution_count": 23,
   "id": "0901db4c-6b08-46a5-849d-82a7cb47a09a",
   "metadata": {
    "execution": {
     "iopub.execute_input": "2024-09-05T13:20:34.440221Z",
     "iopub.status.busy": "2024-09-05T13:20:34.439492Z",
     "iopub.status.idle": "2024-09-05T13:20:34.598250Z",
     "shell.execute_reply": "2024-09-05T13:20:34.597380Z"
    }
   },
   "outputs": [
    {
     "data": {
      "image/png": "[encoded data removed]",
      "text/plain": [
       "<Figure size 640x480 with 1 Axes>"
      ]
     },
     "metadata": {},
     "output_type": "display_data"
    }
   ],
   "source": [
    "# extract the transmission data from the mode monitor\n",
    "T = np.abs(sim_data_coupler[\"T\"].amps.sel(mode_index=0, direction=\"+\")) ** 2\n",
    "R = np.abs(sim_data_coupler[\"R\"].amps.sel(mode_index=0, direction=\"-\")) ** 2\n",
    "\n",
    "plt.plot(ldas, 10 * np.log10(T), c=\"red\", linewidth=3, label=\"Coupling efficiency\")\n",
    "plt.plot(ldas, 10 * np.log10(R), c=\"blue\", linewidth=3, label=\"Return loss\")\n",
    "plt.ylim(-45, 0)\n",
    "plt.xlabel(\"Wavelength ($\\mu m$)\")\n",
    "plt.legend()\n",
    "plt.ylabel(\"dB\")\n",
    "plt.show()"
   ]
  },
  {
   "cell_type": "markdown",
   "id": "8f76b4f7-b6d4-495a-bff5-b3230baa94da",
   "metadata": {},
   "source": [
    "Plot the field distribution to visualize the coupling."
   ]
  },
  {
   "cell_type": "code",
   "execution_count": 24,
   "id": "22586667-9126-40bd-9174-b1b63ac7ba52",
   "metadata": {
    "execution": {
     "iopub.execute_input": "2024-09-05T13:20:34.603775Z",
     "iopub.status.busy": "2024-09-05T13:20:34.603143Z",
     "iopub.status.idle": "2024-09-05T13:20:35.165668Z",
     "shell.execute_reply": "2024-09-05T13:20:35.164211Z"
    }
   },
   "outputs": [
    {
     "data": {
      "image/png": "[encoded data removed]",
      "text/plain": [
       "<Figure size 640x480 with 2 Axes>"
      ]
     },
     "metadata": {},
     "output_type": "display_data"
    }
   ],
   "source": [
    "sim_data_coupler.plot_field(field_monitor_name=\"field\", field_name=\"E\", val=\"abs\")\n",
    "plt.show()"
   ]
  },
  {
   "cell_type": "markdown",
   "id": "54b2abdb-475c-4a6b-8a0a-a598d40d60fb",
   "metadata": {},
   "source": [
    "## Simulation of the Plasmonic Antenna"
   ]
  },
  {
   "cell_type": "markdown",
   "id": "b37f1b36-6696-47df-b5b2-0ec1d5dbaafe",
   "metadata": {},
   "source": [
    "Once the coupling region design is complete, we move on to design the plasmonic antenna. In this case, we will explore the Vivaldi antenna design with exponential tapers. That is, the taper profile is described by $x = A e^{Rz} + B$, where $R$ determines the shape of the profile. \n",
    "\n",
    "The design and optimization of the antenna usually require a good amount of simulations, but for the sake of keeping the notebook short, we will skip the optimization procedure and only simulate the optimized design. The optimization can be done via parameter sweep or other optimization techniques as demonstrated in other examples in the [example library](https://www.flexcompute.com/tidy3d/learning-center/example-library/).\n",
    "\n",
    "For the optimal design, the antenna length $L_a$ is 1.75 μm and $R$ is 3 μm$^{-1}$. We will first create the antenna structure and then simulate it. "
   ]
  },
  {
   "cell_type": "code",
   "execution_count": 25,
   "id": "053d854d-ac78-4d9f-9656-ac5bfebfd50d",
   "metadata": {
    "execution": {
     "iopub.execute_input": "2024-09-05T13:20:35.172265Z",
     "iopub.status.busy": "2024-09-05T13:20:35.171395Z",
     "iopub.status.idle": "2024-09-05T13:20:35.185950Z",
     "shell.execute_reply": "2024-09-05T13:20:35.185163Z"
    }
   },
   "outputs": [],
   "source": [
    "L_a = 1.75  # antenna length\n",
    "R = 3  # shape parameter\n",
    "\n",
    "# set up the system of equations\n",
    "# s/2 = A * exp(R * L_c_opt) + B\n",
    "# s/2+p = A * exp(R * (L_c_opt+L_a)) + B\n",
    "\n",
    "# this can be written as a matrix equation:\n",
    "# [exp(R * L_c_opt), 1] [A] = [s/2]\n",
    "# [exp(R * (L_c_opt+L_a)), 1] [B] = [s/2+p]\n",
    "\n",
    "# create the matrix\n",
    "matrix = np.array([[np.exp(R * L_c_opt), 1], [np.exp(R * (L_c_opt + L_a)), 1]])\n",
    "\n",
    "# create the right-hand side vector\n",
    "vector = np.array([s / 2, s / 2 + p])\n",
    "\n",
    "# solve the system of equations\n",
    "A, B = np.linalg.solve(matrix, vector)\n",
    "\n",
    "# function to compute the x coordinate of the exponential curve given the z coordinate\n",
    "def compute_x(z):\n",
    "    return A * np.exp(R * z) + B\n",
    "\n",
    "\n",
    "n_pt = 100  # number of points for the polyslab\n",
    "\n",
    "# compute the vertices for the left antenna arm\n",
    "vertices = [[compute_x(z), z] for z in np.linspace(L_c_opt, L_c_opt + L_a, n_pt)]\n",
    "vertices.append([s / 2 + p, L_c_opt])\n",
    "\n",
    "# create the left antenna arm structure\n",
    "antenna_left = td.Structure(\n",
    "    geometry=td.PolySlab(vertices=vertices, axis=1, slab_bounds=(h / 2 + g, h / 2 + g + t)),\n",
    "    medium=ag,\n",
    ")\n",
    "\n",
    "# similarly for the right antenna arm\n",
    "vertices = [[-compute_x(z), z] for z in np.linspace(L_c_opt, L_c_opt + L_a, n_pt)]\n",
    "vertices.append([-s / 2 - p, L_c_opt])\n",
    "antenna_right = td.Structure(\n",
    "    geometry=td.PolySlab(vertices=vertices, axis=1, slab_bounds=(h / 2 + g, h / 2 + g + t)),\n",
    "    medium=ag,\n",
    ")\n",
    "\n",
    "# create the plasmonic waveguide structures\n",
    "slot_left = td.Structure(\n",
    "    geometry=td.Box.from_bounds(\n",
    "        rmin=(-s / 2 - p, h / 2 + g, 0), rmax=(-s / 2, h / 2 + g + t, L_c_opt)\n",
    "    ),\n",
    "    medium=ag,\n",
    ")\n",
    "\n",
    "slot_right = td.Structure(\n",
    "    geometry=td.Box.from_bounds(\n",
    "        rmin=(s / 2, h / 2 + g, 0), rmax=(s / 2 + p, h / 2 + g + t, L_c_opt)\n",
    "    ),\n",
    "    medium=ag,\n",
    ")"
   ]
  },
  {
   "cell_type": "markdown",
   "id": "48bfe178-d662-4c30-baf4-f0a9d906abc8",
   "metadata": {},
   "source": [
    "To ensure the antenna structure is created correctly, we can plot the shape and visualize it."
   ]
  },
  {
   "cell_type": "code",
   "execution_count": 26,
   "id": "23a5b64b-980f-49ff-af7b-c305b0c74891",
   "metadata": {
    "execution": {
     "iopub.execute_input": "2024-09-05T13:20:35.190625Z",
     "iopub.status.busy": "2024-09-05T13:20:35.190439Z",
     "iopub.status.idle": "2024-09-05T13:20:35.302287Z",
     "shell.execute_reply": "2024-09-05T13:20:35.301539Z"
    }
   },
   "outputs": [
    {
     "data": {
      "image/png": "[encoded data removed]",
      "text/plain": [
       "<Figure size 640x480 with 1 Axes>"
      ]
     },
     "metadata": {},
     "output_type": "display_data"
    }
   ],
   "source": [
    "antenna_left.plot(y=h / 2 + g + t / 2)\n",
    "plt.show()"
   ]
  },
  {
   "cell_type": "markdown",
   "id": "fb8e3e03-b8d4-4a53-afc7-c8107591b208",
   "metadata": {},
   "source": [
    "To investigate the performance of the antenna, we need to perform near field to far field projection using the [FieldProjectionAngleMonitor](https://docs.flexcompute.com/projects/tidy3d/en/latest/api/_autosummary/tidy3d.FieldProjectionAngleMonitor.html). More specifically, we want to calculate the antenna directivity in the E-plane and H-plane. Therefore, we focus on `phi=0` and `phi=pi/2` respectively, where `phi` is the azimuth angles with respect to the global z axis. Note that the field projection monitor encloses the antenna but intersects the silicon waveguide. We require the surfaces of the field projection monitor to be in uniform medium only. To get around this, we set `exclude_surfaces` to `[\"z-\"]`. This way, the surface in the $z-$ direction is ignored in the calculation. This will introduce a small inaccuracy as some radiation in that direction is not captured. However, for the antenna, we are mainly interested in the forward radiation so this inaccuracy is acceptable. \n",
    "\n",
    "For the directivity calculation, we also need to know the total radiated power and thus we define a [FluxMonitor](https://docs.flexcompute.com/projects/tidy3d/en/latest/api/_autosummary/tidy3d.FluxMonitor.html) surrounding the antenna."
   ]
  },
  {
   "cell_type": "code",
   "execution_count": 27,
   "id": "eb7b1d30-8d50-4b97-ae51-ada757b21970",
   "metadata": {
    "execution": {
     "iopub.execute_input": "2024-09-05T13:20:35.306949Z",
     "iopub.status.busy": "2024-09-05T13:20:35.306776Z",
     "iopub.status.idle": "2024-09-05T13:20:35.312456Z",
     "shell.execute_reply": "2024-09-05T13:20:35.311621Z"
    }
   },
   "outputs": [],
   "source": [
    "# create a FieldProjectionAngleMonitor to perform the near field to far field transformation in spherical coordinates\n",
    "theta_array = np.linspace(0, 2 * np.pi, 200)  # theta angle range\n",
    "phi_array = np.linspace(0, np.pi / 2, 2)  # phi angle range\n",
    "\n",
    "# define the field projection monitor\n",
    "n2f_monitor = td.FieldProjectionAngleMonitor(\n",
    "    center=(0, h / 2, (L_c_opt + L_a) / 2),\n",
    "    size=(2 * p + s + w, 2 * (t + g + h), L_c_opt + L_a + 1.2 * buffer),\n",
    "    freqs=[freq0],\n",
    "    name=\"n2f_monitor\",\n",
    "    custom_origin=(0, 0, 0),\n",
    "    phi=phi_array,\n",
    "    theta=theta_array,\n",
    "    exclude_surfaces=[\"z-\"],\n",
    ")\n",
    "\n",
    "# define a flux monitor to calculate the total radiated power\n",
    "flux_monitor = td.FluxMonitor(\n",
    "    center=n2f_monitor.center,\n",
    "    size=n2f_monitor.size,\n",
    "    freqs=[freq0],\n",
    "    name=\"power\",\n",
    ")"
   ]
  },
  {
   "cell_type": "markdown",
   "id": "96999b6c-2070-4dd6-837a-00178b712259",
   "metadata": {},
   "source": [
    "Create the antenna simulation. The overall settings are similar to that of the coupler simulation."
   ]
  },
  {
   "cell_type": "code",
   "execution_count": 28,
   "id": "9bb8c0ad-4dbe-434a-91e7-7a16f29b432f",
   "metadata": {
    "execution": {
     "iopub.execute_input": "2024-09-05T13:20:35.318043Z",
     "iopub.status.busy": "2024-09-05T13:20:35.317267Z",
     "iopub.status.idle": "2024-09-05T13:20:35.553032Z",
     "shell.execute_reply": "2024-09-05T13:20:35.551891Z"
    }
   },
   "outputs": [
    {
     "data": {
      "text/html": [
       "<pre style=\"white-space:pre;overflow-x:auto;line-height:normal;font-family:Menlo,'DejaVu Sans Mono',consolas,'Courier New',monospace\"><span style=\"color: #7fbfbf; text-decoration-color: #7fbfbf\">13:20:35 UTC </span><span style=\"color: #800000; text-decoration-color: #800000\">WARNING: Structure at structures</span><span style=\"color: #800000; text-decoration-color: #800000; font-weight: bold\">[</span><span style=\"color: #008080; text-decoration-color: #008080; font-weight: bold\">2</span><span style=\"color: #800000; text-decoration-color: #800000; font-weight: bold\">]</span><span style=\"color: #800000; text-decoration-color: #800000\"> was detected as being less than</span>\n",
       "<span style=\"color: #7fbfbf; text-decoration-color: #7fbfbf\">             </span><span style=\"color: #800000; text-decoration-color: #800000\">half of a central wavelength from a PML on side z-max. To avoid    </span>\n",
       "<span style=\"color: #7fbfbf; text-decoration-color: #7fbfbf\">             </span><span style=\"color: #800000; text-decoration-color: #800000\">inaccurate results or divergence, please increase gap between any  </span>\n",
       "<span style=\"color: #7fbfbf; text-decoration-color: #7fbfbf\">             </span><span style=\"color: #800000; text-decoration-color: #800000\">structures and PML or fully extend structure through the pml.      </span>\n",
       "</pre>\n"
      ],
      "text/plain": [
       "\u001b[2;36m13:20:35 UTC\u001b[0m\u001b[2;36m \u001b[0m\u001b[31mWARNING: Structure at structures\u001b[0m\u001b[1;31m[\u001b[0m\u001b[1;36m2\u001b[0m\u001b[1;31m]\u001b[0m\u001b[31m was detected as being less than\u001b[0m\n",
       "\u001b[2;36m             \u001b[0m\u001b[31mhalf of a central wavelength from a PML on side z-max. To avoid    \u001b[0m\n",
       "\u001b[2;36m             \u001b[0m\u001b[31minaccurate results or divergence, please increase gap between any  \u001b[0m\n",
       "\u001b[2;36m             \u001b[0m\u001b[31mstructures and PML or fully extend structure through the pml.      \u001b[0m\n"
      ]
     },
     "metadata": {},
     "output_type": "display_data"
    },
    {
     "data": {
      "text/html": [
       "<pre style=\"white-space:pre;overflow-x:auto;line-height:normal;font-family:Menlo,'DejaVu Sans Mono',consolas,'Courier New',monospace\"><span style=\"color: #7fbfbf; text-decoration-color: #7fbfbf\">             </span><span style=\"color: #800000; text-decoration-color: #800000\">WARNING: Suppressed </span><span style=\"color: #008080; text-decoration-color: #008080; font-weight: bold\">1</span><span style=\"color: #800000; text-decoration-color: #800000\"> WARNING message.                             </span>\n",
       "</pre>\n"
      ],
      "text/plain": [
       "\u001b[2;36m            \u001b[0m\u001b[2;36m \u001b[0m\u001b[31mWARNING: Suppressed \u001b[0m\u001b[1;36m1\u001b[0m\u001b[31m WARNING message.                             \u001b[0m\n"
      ]
     },
     "metadata": {},
     "output_type": "display_data"
    }
   ],
   "source": [
    "# construct simulation\n",
    "sim_antenna = td.Simulation(\n",
    "    center=(0, h / 2, (L_c_opt + L_a) / 2),\n",
    "    size=(2 * (2 * p + s + w), 3 * (t + g + h), L_c_opt + L_a + 2 * buffer),\n",
    "    grid_spec=td.GridSpec.auto(min_steps_per_wvl=50, wavelength=lda0),\n",
    "    structures=[slot_left, slot_right, antenna_right, antenna_left, silicon_waveguide],\n",
    "    sources=[mode_source],\n",
    "    monitors=[flux_monitor, n2f_monitor],\n",
    "    run_time=run_time,\n",
    "    boundary_spec=td.BoundarySpec(\n",
    "        x=td.Boundary.absorber(),\n",
    "        y=td.Boundary.absorber(),\n",
    "        z=td.Boundary(plus=td.PML(), minus=td.Absorber(num_layers=60)),\n",
    "    ),\n",
    "    subpixel=td.SubpixelSpec(metal=td.VolumetricAveraging()),\n",
    "    medium=sio2,\n",
    "    symmetry=(-1, 0, 0),\n",
    ")"
   ]
  },
  {
   "cell_type": "markdown",
   "id": "6568f908-3104-4fdf-b4e0-ea58224327a5",
   "metadata": {},
   "source": [
    "Visualize the simulation in 3D."
   ]
  },
  {
   "cell_type": "code",
   "execution_count": 29,
   "id": "cccd72d2-ebc5-43df-9d43-d89e8c4a31c0",
   "metadata": {
    "execution": {
     "iopub.execute_input": "2024-09-05T13:20:35.557474Z",
     "iopub.status.busy": "2024-09-05T13:20:35.556832Z",
     "iopub.status.idle": "2024-09-05T13:20:35.572987Z",
     "shell.execute_reply": "2024-09-05T13:20:35.571964Z"
    }
   },
   "outputs": [
    {
     "data": {
      "text/html": [
       "\n",
       "    <div class=\"simulation-viewer\" data-width=\"800\" data-height=\"800\" data-simulation=\"{&quot;attrs&quot;: {}, &quot;type&quot;: &quot;Simulation&quot;, &quot;center&quot;: [0.0, 0.11, 1.7014524004178215], &quot;size&quot;: [1.8587996596169996, 1.0499999999999998, 4.952904800835643], &quot;medium&quot;: {&quot;attrs&quot;: {}, &quot;name&quot;: null, &quot;frequency_range&quot;: [59958491600000.0, 1998616386666666.8], &quot;allow_gain&quot;: false, &quot;nonlinear_spec&quot;: null, &quot;modulation_spec&quot;: null, &quot;heat_spec&quot;: null, &quot;type&quot;: &quot;PoleResidue&quot;, &quot;eps_inf&quot;: 1.5385442336875639, &quot;poles&quot;: [[{&quot;real&quot;: -11504139.374277674, &quot;imag&quot;: -1.595196740783775e+16}, {&quot;real&quot;: 7507685.43042605, &quot;imag&quot;: 4535416182817100.0}], [{&quot;real&quot;: -249390.3565044153, &quot;imag&quot;: -172280738540723.53}, {&quot;real&quot;: 46272.506981344035, &quot;imag&quot;: 99704543223121.88}]]}, &quot;structures&quot;: [{&quot;attrs&quot;: {}, &quot;geometry&quot;: {&quot;attrs&quot;: {}, &quot;type&quot;: &quot;Box&quot;, &quot;center&quot;: [-0.1459141350955129, 0.215, 0.8264524004178215], &quot;size&quot;: [0.2618282701910258, 0.04999999999999999, 1.652904800835643]}, &quot;name&quot;: null, &quot;type&quot;: &quot;Structure&quot;, &quot;medium&quot;: {&quot;attrs&quot;: {}, &quot;name&quot;: null, &quot;frequency_range&quot;: [154771532566312.25, 1595489401708072.2], &quot;allow_gain&quot;: false, &quot;nonlinear_spec&quot;: null, &quot;modulation_spec&quot;: null, &quot;heat_spec&quot;: null, &quot;type&quot;: &quot;PoleResidue&quot;, &quot;eps_inf&quot;: 1.0, &quot;poles&quot;: [[{&quot;real&quot;: -2208321413508536.0, &quot;imag&quot;: -5948722238054062.0}, {&quot;real&quot;: 6900545964172845.0, &quot;imag&quot;: 2859999298140436.0}], [{&quot;real&quot;: -454071262600809.06, &quot;imag&quot;: -6045413448570748.0}, {&quot;real&quot;: 900170460600995.0, &quot;imag&quot;: -571876746089699.8}], [{&quot;real&quot;: -440069917626400.94, &quot;imag&quot;: -1501005120704881.8}, {&quot;real&quot;: -624427112339892.1, &quot;imag&quot;: -709709047591569.2}], [{&quot;real&quot;: -90645222183131.28, &quot;imag&quot;: -1207503089909680.2}, {&quot;real&quot;: 36466030087984.664, &quot;imag&quot;: -105435949158129.28}], [{&quot;real&quot;: -6882166770889.508, &quot;imag&quot;: -101422373698470.4}, {&quot;real&quot;: 2204704963300273.8, &quot;imag&quot;: 9.259919916690406e+17}]]}}, {&quot;attrs&quot;: {}, &quot;geometry&quot;: {&quot;attrs&quot;: {}, &quot;type&quot;: &quot;Box&quot;, &quot;center&quot;: [0.1459141350955129, 0.215, 0.8264524004178215], &quot;size&quot;: [0.2618282701910258, 0.04999999999999999, 1.652904800835643]}, &quot;name&quot;: null, &quot;type&quot;: &quot;Structure&quot;, &quot;medium&quot;: {&quot;attrs&quot;: {}, &quot;name&quot;: null, &quot;frequency_range&quot;: [154771532566312.25, 1595489401708072.2], &quot;allow_gain&quot;: false, &quot;nonlinear_spec&quot;: null, &quot;modulation_spec&quot;: null, &quot;heat_spec&quot;: null, &quot;type&quot;: &quot;PoleResidue&quot;, &quot;eps_inf&quot;: 1.0, &quot;poles&quot;: [[{&quot;real&quot;: -2208321413508536.0, &quot;imag&quot;: -5948722238054062.0}, {&quot;real&quot;: 6900545964172845.0, &quot;imag&quot;: 2859999298140436.0}], [{&quot;real&quot;: -454071262600809.06, &quot;imag&quot;: -6045413448570748.0}, {&quot;real&quot;: 900170460600995.0, &quot;imag&quot;: -571876746089699.8}], [{&quot;real&quot;: -440069917626400.94, &quot;imag&quot;: -1501005120704881.8}, {&quot;real&quot;: -624427112339892.1, &quot;imag&quot;: -709709047591569.2}], [{&quot;real&quot;: -90645222183131.28, &quot;imag&quot;: -1207503089909680.2}, {&quot;real&quot;: 36466030087984.664, &quot;imag&quot;: -105435949158129.28}], [{&quot;real&quot;: -6882166770889.508, &quot;imag&quot;: -101422373698470.4}, {&quot;real&quot;: 2204704963300273.8, &quot;imag&quot;: 9.259919916690406e+17}]]}}, {&quot;attrs&quot;: {}, &quot;geometry&quot;: {&quot;attrs&quot;: {}, &quot;type&quot;: &quot;PolySlab&quot;, &quot;axis&quot;: 1, &quot;sidewall_angle&quot;: 0.0, &quot;reference_plane&quot;: &quot;middle&quot;, &quot;slab_bounds&quot;: [0.19, 0.24], &quot;dilation&quot;: 0.0, &quot;vertices&quot;: [[-0.015, 1.652904800835643], [-0.015075222169622102, 1.6705815685124108], [-0.015154541058808127, 1.6882583361891783], [-0.015238179781452156, 1.705935103865946], [-0.015326373602587477, 1.7236118715427138], [-0.01541937060015705, 1.7412886392194815], [-0.015517432362825044, 1.758965406896249], [-0.015620834725792298, 1.7766421745730168], [-0.01572986854668548, 1.7943189422497845], [-0.015844840523702403, 1.8119957099265522], [-0.015966074058314836, 1.8296724776033197], [-0.01609391016495551, 1.8473492452800875], [-0.016228708430248102, 1.8650260129568552], [-0.016370848024478447, 1.8827027806336227], [-0.016520728768152065, 1.9003795483103905], [-0.016678772256638115, 1.9180563159871582], [-0.016845423046063294, 1.935733083663926], [-0.017021149903791364, 1.9534098513406937], [-0.0172064471270058, 1.9710866190174612], [-0.017401835933104605, 1.988763386694229], [-0.01760786592581818, 2.0064401543709964], [-0.017825116641174366, 2.024116922047764], [-0.018054199177659176, 2.041793689724532], [-0.018295757915158733, 2.0594704574012996], [-0.01855047232751748, 2.0771472250780674], [-0.018819058893811243, 2.094823992754835], [-0.01910227311371125, 2.112500760431603], [-0.01940091163260814, 2.13017752810837], [-0.019715814482473587, 2.147854295785138], [-0.020047867444762803, 2.1655310634619056], [-0.020398004542004557, 2.1832078311386733], [-0.020767210665087132, 2.200884598815441], [-0.021156524343630436, 2.218561366492209], [-0.021567040667237067, 2.2362381341689765], [-0.02199991436583936, 2.253914901845744], [-0.022456363057807075, 2.2715916695225116], [-0.0229376706749521, 2.2892684371992793], [-0.023445191074064585, 2.306945204876047], [-0.02398035184513896, 2.3246219725528148], [-0.02454465832700204, 2.3422987402295825], [-0.025139697841638716, 2.3599755079063502], [-0.025767144159125736, 2.3776522755831175], [-0.026428762205733005, 2.3953290432598857], [-0.027126413028435336, 2.413005810936653], [-0.02786205902979991, 2.4306825786134207], [-0.028637769487973613, 2.4483593462901885], [-0.02945572637729793, 2.466036113966956], [-0.03031823050592384, 2.483712881643724], [-0.031227707987690936, 2.5013896493204912], [-0.03218671706647557, 2.5190664169972594], [-0.033197955312203556, 2.5367431846740267], [-0.03426426720876979, 2.5544199523507944], [-0.03538865215520755, 2.572096720027562], [-0.03657427290261455, 2.58977348770433], [-0.03782446445056739, 2.6074502553810976], [-0.03914274342804906, 2.6251270230578654], [-0.040532817985276595, 2.642803790734633], [-0.04199859822425343, 2.6604805584114004], [-0.04354420719738673, 2.6781573260881686], [-0.04517399250510614, 2.695834093764936], [-0.04689253852510865, 2.7135108614417036], [-0.048704679307626154, 2.7311876291184713], [-0.050615512172991296, 2.748864396795239], [-0.05263041204974766, 2.766541164472007], [-0.054755046593636225, 2.784217932148774], [-0.056995392129987194, 2.8018946998255423], [-0.059357750464357865, 2.8195714675023096], [-0.061848766608707265, 2.8372482351790773], [-0.06447544747296394, 2.854925002855845], [-0.06724518157456864, 2.872601770532613], [-0.07016575982142895, 2.8902785382093805], [-0.07324539742674667, 2.907955305886148], [-0.07649275701736338, 2.925632073562916], [-0.07991697300062063, 2.9433088412396833], [-0.08352767725828156, 2.960985608916451], [-0.0873350262397813, 2.9786623765932188], [-0.09134972953102183, 2.9963391442699865], [-0.09558307997906745, 3.0140159119467542], [-0.10004698545747924, 3.0316926796235215], [-0.10475400236164237, 3.0493694473002897], [-0.10971737092829882, 3.067046214977057], [-0.11495105247864297, 3.0847229826538247], [-0.12046976868973064, 3.1023997503305925], [-0.12628904300467636, 3.12007651800736], [-0.13242524429811336, 3.137753285684128], [-0.13889563291974436, 3.155430053360895], [-0.14571840924550067, 3.1731068210376634], [-0.1529127648728696, 3.1907835887144307], [-0.16049893660440798, 3.208460356391199], [-0.1684982633712769, 3.226137124067966], [-0.17693324625692947, 3.243813891744734], [-0.1858276117897808, 3.2614906594215016], [-0.19520637868289803, 3.2791674270982694], [-0.2050959282084432, 3.296844194775037], [-0.2155240784048172, 3.3145209624518044], [-0.22652016232524746, 3.3321977301285726], [-0.23811511054791282, 3.34987449780534], [-0.2503415381797086, 3.3675512654821076], [-0.26323383659837135, 3.3852280331588753], [-0.2768282701910258, 3.402904800835643], [-0.2768282701910258, 1.652904800835643]]}, &quot;name&quot;: null, &quot;type&quot;: &quot;Structure&quot;, &quot;medium&quot;: {&quot;attrs&quot;: {}, &quot;name&quot;: null, &quot;frequency_range&quot;: [154771532566312.25, 1595489401708072.2], &quot;allow_gain&quot;: false, &quot;nonlinear_spec&quot;: null, &quot;modulation_spec&quot;: null, &quot;heat_spec&quot;: null, &quot;type&quot;: &quot;PoleResidue&quot;, &quot;eps_inf&quot;: 1.0, &quot;poles&quot;: [[{&quot;real&quot;: -2208321413508536.0, &quot;imag&quot;: -5948722238054062.0}, {&quot;real&quot;: 6900545964172845.0, &quot;imag&quot;: 2859999298140436.0}], [{&quot;real&quot;: -454071262600809.06, &quot;imag&quot;: -6045413448570748.0}, {&quot;real&quot;: 900170460600995.0, &quot;imag&quot;: -571876746089699.8}], [{&quot;real&quot;: -440069917626400.94, &quot;imag&quot;: -1501005120704881.8}, {&quot;real&quot;: -624427112339892.1, &quot;imag&quot;: -709709047591569.2}], [{&quot;real&quot;: -90645222183131.28, &quot;imag&quot;: -1207503089909680.2}, {&quot;real&quot;: 36466030087984.664, &quot;imag&quot;: -105435949158129.28}], [{&quot;real&quot;: -6882166770889.508, &quot;imag&quot;: -101422373698470.4}, {&quot;real&quot;: 2204704963300273.8, &quot;imag&quot;: 9.259919916690406e+17}]]}}, {&quot;attrs&quot;: {}, &quot;geometry&quot;: {&quot;attrs&quot;: {}, &quot;type&quot;: &quot;PolySlab&quot;, &quot;axis&quot;: 1, &quot;sidewall_angle&quot;: 0.0, &quot;reference_plane&quot;: &quot;middle&quot;, &quot;slab_bounds&quot;: [0.19, 0.24], &quot;dilation&quot;: 0.0, &quot;vertices&quot;: [[0.015, 1.652904800835643], [0.015075222169622102, 1.6705815685124108], [0.015154541058808127, 1.6882583361891783], [0.015238179781452156, 1.705935103865946], [0.015326373602587477, 1.7236118715427138], [0.01541937060015705, 1.7412886392194815], [0.015517432362825044, 1.758965406896249], [0.015620834725792298, 1.7766421745730168], [0.01572986854668548, 1.7943189422497845], [0.015844840523702403, 1.8119957099265522], [0.015966074058314836, 1.8296724776033197], [0.01609391016495551, 1.8473492452800875], [0.016228708430248102, 1.8650260129568552], [0.016370848024478447, 1.8827027806336227], [0.016520728768152065, 1.9003795483103905], [0.016678772256638115, 1.9180563159871582], [0.016845423046063294, 1.935733083663926], [0.017021149903791364, 1.9534098513406937], [0.0172064471270058, 1.9710866190174612], [0.017401835933104605, 1.988763386694229], [0.01760786592581818, 2.0064401543709964], [0.017825116641174366, 2.024116922047764], [0.018054199177659176, 2.041793689724532], [0.018295757915158733, 2.0594704574012996], [0.01855047232751748, 2.0771472250780674], [0.018819058893811243, 2.094823992754835], [0.01910227311371125, 2.112500760431603], [0.01940091163260814, 2.13017752810837], [0.019715814482473587, 2.147854295785138], [0.020047867444762803, 2.1655310634619056], [0.020398004542004557, 2.1832078311386733], [0.020767210665087132, 2.200884598815441], [0.021156524343630436, 2.218561366492209], [0.021567040667237067, 2.2362381341689765], [0.02199991436583936, 2.253914901845744], [0.022456363057807075, 2.2715916695225116], [0.0229376706749521, 2.2892684371992793], [0.023445191074064585, 2.306945204876047], [0.02398035184513896, 2.3246219725528148], [0.02454465832700204, 2.3422987402295825], [0.025139697841638716, 2.3599755079063502], [0.025767144159125736, 2.3776522755831175], [0.026428762205733005, 2.3953290432598857], [0.027126413028435336, 2.413005810936653], [0.02786205902979991, 2.4306825786134207], [0.028637769487973613, 2.4483593462901885], [0.02945572637729793, 2.466036113966956], [0.03031823050592384, 2.483712881643724], [0.031227707987690936, 2.5013896493204912], [0.03218671706647557, 2.5190664169972594], [0.033197955312203556, 2.5367431846740267], [0.03426426720876979, 2.5544199523507944], [0.03538865215520755, 2.572096720027562], [0.03657427290261455, 2.58977348770433], [0.03782446445056739, 2.6074502553810976], [0.03914274342804906, 2.6251270230578654], [0.040532817985276595, 2.642803790734633], [0.04199859822425343, 2.6604805584114004], [0.04354420719738673, 2.6781573260881686], [0.04517399250510614, 2.695834093764936], [0.04689253852510865, 2.7135108614417036], [0.048704679307626154, 2.7311876291184713], [0.050615512172991296, 2.748864396795239], [0.05263041204974766, 2.766541164472007], [0.054755046593636225, 2.784217932148774], [0.056995392129987194, 2.8018946998255423], [0.059357750464357865, 2.8195714675023096], [0.061848766608707265, 2.8372482351790773], [0.06447544747296394, 2.854925002855845], [0.06724518157456864, 2.872601770532613], [0.07016575982142895, 2.8902785382093805], [0.07324539742674667, 2.907955305886148], [0.07649275701736338, 2.925632073562916], [0.07991697300062063, 2.9433088412396833], [0.08352767725828156, 2.960985608916451], [0.0873350262397813, 2.9786623765932188], [0.09134972953102183, 2.9963391442699865], [0.09558307997906745, 3.0140159119467542], [0.10004698545747924, 3.0316926796235215], [0.10475400236164237, 3.0493694473002897], [0.10971737092829882, 3.067046214977057], [0.11495105247864297, 3.0847229826538247], [0.12046976868973064, 3.1023997503305925], [0.12628904300467636, 3.12007651800736], [0.13242524429811336, 3.137753285684128], [0.13889563291974436, 3.155430053360895], [0.14571840924550067, 3.1731068210376634], [0.1529127648728696, 3.1907835887144307], [0.16049893660440798, 3.208460356391199], [0.1684982633712769, 3.226137124067966], [0.17693324625692947, 3.243813891744734], [0.1858276117897808, 3.2614906594215016], [0.19520637868289803, 3.2791674270982694], [0.2050959282084432, 3.296844194775037], [0.2155240784048172, 3.3145209624518044], [0.22652016232524746, 3.3321977301285726], [0.23811511054791282, 3.34987449780534], [0.2503415381797086, 3.3675512654821076], [0.26323383659837135, 3.3852280331588753], [0.2768282701910258, 3.402904800835643], [0.2768282701910258, 1.652904800835643]]}, &quot;name&quot;: null, &quot;type&quot;: &quot;Structure&quot;, &quot;medium&quot;: {&quot;attrs&quot;: {}, &quot;name&quot;: null, &quot;frequency_range&quot;: [154771532566312.25, 1595489401708072.2], &quot;allow_gain&quot;: false, &quot;nonlinear_spec&quot;: null, &quot;modulation_spec&quot;: null, &quot;heat_spec&quot;: null, &quot;type&quot;: &quot;PoleResidue&quot;, &quot;eps_inf&quot;: 1.0, &quot;poles&quot;: [[{&quot;real&quot;: -2208321413508536.0, &quot;imag&quot;: -5948722238054062.0}, {&quot;real&quot;: 6900545964172845.0, &quot;imag&quot;: 2859999298140436.0}], [{&quot;real&quot;: -454071262600809.06, &quot;imag&quot;: -6045413448570748.0}, {&quot;real&quot;: 900170460600995.0, &quot;imag&quot;: -571876746089699.8}], [{&quot;real&quot;: -440069917626400.94, &quot;imag&quot;: -1501005120704881.8}, {&quot;real&quot;: -624427112339892.1, &quot;imag&quot;: -709709047591569.2}], [{&quot;real&quot;: -90645222183131.28, &quot;imag&quot;: -1207503089909680.2}, {&quot;real&quot;: 36466030087984.664, &quot;imag&quot;: -105435949158129.28}], [{&quot;real&quot;: -6882166770889.508, &quot;imag&quot;: -101422373698470.4}, {&quot;real&quot;: 2204704963300273.8, &quot;imag&quot;: 9.259919916690406e+17}]]}}, {&quot;attrs&quot;: {}, &quot;geometry&quot;: {&quot;attrs&quot;: {}, &quot;type&quot;: &quot;Box&quot;, &quot;center&quot;: [0.0, 0.0, -499.17354759958215], &quot;size&quot;: [0.3757432894264482, 0.22, 1001.6529048008357]}, &quot;name&quot;: null, &quot;type&quot;: &quot;Structure&quot;, &quot;medium&quot;: {&quot;attrs&quot;: {}, &quot;name&quot;: null, &quot;frequency_range&quot;: [1199169832000.0, 249827048333333.34], &quot;allow_gain&quot;: false, &quot;nonlinear_spec&quot;: null, &quot;modulation_spec&quot;: null, &quot;heat_spec&quot;: null, &quot;type&quot;: &quot;PoleResidue&quot;, &quot;eps_inf&quot;: 1.0, &quot;poles&quot;: [[{&quot;real&quot;: -1.7473849958109988, &quot;imag&quot;: -6409829457220535.0}, {&quot;real&quot;: 0.06947645444424029, &quot;imag&quot;: 3.4268436708700284e+16}]]}}], &quot;symmetry&quot;: [-1, 0, 0], &quot;sources&quot;: [{&quot;attrs&quot;: {}, &quot;name&quot;: null, &quot;type&quot;: &quot;ModeSource&quot;, &quot;center&quot;: [0.0, 0.0, -0.3875], &quot;size&quot;: [&quot;Infinity&quot;, &quot;Infinity&quot;, 0.0], &quot;source_time&quot;: {&quot;attrs&quot;: {}, &quot;amplitude&quot;: 1.0, &quot;phase&quot;: 0.0, &quot;type&quot;: &quot;GaussianPulse&quot;, &quot;freq0&quot;: 193414489032258.06, &quot;fwidth&quot;: 6245676208333.328, &quot;offset&quot;: 5.0, &quot;remove_dc_component&quot;: true}, &quot;num_freqs&quot;: 1, &quot;direction&quot;: &quot;+&quot;, &quot;mode_spec&quot;: {&quot;attrs&quot;: {}, &quot;num_modes&quot;: 1, &quot;target_neff&quot;: 3.0, &quot;num_pml&quot;: [0, 0], &quot;filter_pol&quot;: null, &quot;angle_theta&quot;: 0.0, &quot;angle_phi&quot;: 0.0, &quot;precision&quot;: &quot;single&quot;, &quot;bend_radius&quot;: null, &quot;bend_axis&quot;: null, &quot;track_freq&quot;: &quot;central&quot;, &quot;group_index_step&quot;: false, &quot;type&quot;: &quot;ModeSpec&quot;}, &quot;mode_index&quot;: 0}], &quot;boundary_spec&quot;: {&quot;attrs&quot;: {}, &quot;x&quot;: {&quot;attrs&quot;: {}, &quot;plus&quot;: {&quot;attrs&quot;: {}, &quot;name&quot;: null, &quot;type&quot;: &quot;Absorber&quot;, &quot;num_layers&quot;: 40, &quot;parameters&quot;: {&quot;attrs&quot;: {}, &quot;sigma_order&quot;: 3, &quot;sigma_min&quot;: 0.0, &quot;sigma_max&quot;: 6.4, &quot;type&quot;: &quot;AbsorberParams&quot;}}, &quot;minus&quot;: {&quot;attrs&quot;: {}, &quot;name&quot;: null, &quot;type&quot;: &quot;Absorber&quot;, &quot;num_layers&quot;: 40, &quot;parameters&quot;: {&quot;attrs&quot;: {}, &quot;sigma_order&quot;: 3, &quot;sigma_min&quot;: 0.0, &quot;sigma_max&quot;: 6.4, &quot;type&quot;: &quot;AbsorberParams&quot;}}, &quot;type&quot;: &quot;Boundary&quot;}, &quot;y&quot;: {&quot;attrs&quot;: {}, &quot;plus&quot;: {&quot;attrs&quot;: {}, &quot;name&quot;: null, &quot;type&quot;: &quot;Absorber&quot;, &quot;num_layers&quot;: 40, &quot;parameters&quot;: {&quot;attrs&quot;: {}, &quot;sigma_order&quot;: 3, &quot;sigma_min&quot;: 0.0, &quot;sigma_max&quot;: 6.4, &quot;type&quot;: &quot;AbsorberParams&quot;}}, &quot;minus&quot;: {&quot;attrs&quot;: {}, &quot;name&quot;: null, &quot;type&quot;: &quot;Absorber&quot;, &quot;num_layers&quot;: 40, &quot;parameters&quot;: {&quot;attrs&quot;: {}, &quot;sigma_order&quot;: 3, &quot;sigma_min&quot;: 0.0, &quot;sigma_max&quot;: 6.4, &quot;type&quot;: &quot;AbsorberParams&quot;}}, &quot;type&quot;: &quot;Boundary&quot;}, &quot;z&quot;: {&quot;attrs&quot;: {}, &quot;plus&quot;: {&quot;attrs&quot;: {}, &quot;name&quot;: null, &quot;type&quot;: &quot;PML&quot;, &quot;num_layers&quot;: 12, &quot;parameters&quot;: {&quot;attrs&quot;: {}, &quot;sigma_order&quot;: 3, &quot;sigma_min&quot;: 0.0, &quot;sigma_max&quot;: 1.5, &quot;type&quot;: &quot;PMLParams&quot;, &quot;kappa_order&quot;: 3, &quot;kappa_min&quot;: 1.0, &quot;kappa_max&quot;: 3.0, &quot;alpha_order&quot;: 1, &quot;alpha_min&quot;: 0.0, &quot;alpha_max&quot;: 0.0}}, &quot;minus&quot;: {&quot;attrs&quot;: {}, &quot;name&quot;: null, &quot;type&quot;: &quot;Absorber&quot;, &quot;num_layers&quot;: 60, &quot;parameters&quot;: {&quot;attrs&quot;: {}, &quot;sigma_order&quot;: 3, &quot;sigma_min&quot;: 0.0, &quot;sigma_max&quot;: 6.4, &quot;type&quot;: &quot;AbsorberParams&quot;}}, &quot;type&quot;: &quot;Boundary&quot;}, &quot;type&quot;: &quot;BoundarySpec&quot;}, &quot;monitors&quot;: [{&quot;attrs&quot;: {}, &quot;type&quot;: &quot;FluxMonitor&quot;, &quot;center&quot;: [0.0, 0.11, 1.7014524004178215], &quot;size&quot;: [0.9293998298084998, 0.7, 4.332904800835643], &quot;name&quot;: &quot;power&quot;, &quot;interval_space&quot;: [1, 1, 1], &quot;colocate&quot;: true, &quot;freqs&quot;: [193414489032258.06], &quot;apodization&quot;: {&quot;attrs&quot;: {}, &quot;start&quot;: null, &quot;end&quot;: null, &quot;width&quot;: null, &quot;type&quot;: &quot;ApodizationSpec&quot;}, &quot;normal_dir&quot;: null, &quot;exclude_surfaces&quot;: null}, {&quot;attrs&quot;: {}, &quot;type&quot;: &quot;FieldProjectionAngleMonitor&quot;, &quot;center&quot;: [0.0, 0.11, 1.7014524004178215], &quot;size&quot;: [0.9293998298084998, 0.7, 4.332904800835643], &quot;name&quot;: &quot;n2f_monitor&quot;, &quot;interval_space&quot;: [1, 1, 1], &quot;colocate&quot;: true, &quot;freqs&quot;: [193414489032258.06], &quot;apodization&quot;: {&quot;attrs&quot;: {}, &quot;start&quot;: null, &quot;end&quot;: null, &quot;width&quot;: null, &quot;type&quot;: &quot;ApodizationSpec&quot;}, &quot;normal_dir&quot;: null, &quot;exclude_surfaces&quot;: [&quot;z-&quot;], &quot;custom_origin&quot;: [0.0, 0.0, 0.0], &quot;far_field_approx&quot;: true, &quot;window_size&quot;: [0.0, 0.0], &quot;medium&quot;: null, &quot;proj_distance&quot;: 1000000.0, &quot;theta&quot;: [0.0, 0.03157379551346526, 0.06314759102693052, 0.09472138654039577, 0.12629518205386103, 0.1578689775673263, 0.18944277308079155, 0.2210165685942568, 0.25259036410772207, 0.28416415962118735, 0.3157379551346526, 0.3473117506481178, 0.3788855461615831, 0.4104593416750484, 0.4420331371885136, 0.47360693270197884, 0.5051807282154441, 0.5367545237289094, 0.5683283192423747, 0.5999021147558399, 0.6314759102693052, 0.6630497057827704, 0.6946235012962356, 0.7261972968097009, 0.7577710923231662, 0.7893448878366315, 0.8209186833500968, 0.8524924788635619, 0.8840662743770272, 0.9156400698904925, 0.9472138654039577, 0.978787660917423, 1.0103614564308883, 1.0419352519443534, 1.0735090474578188, 1.105082842971284, 1.1366566384847494, 1.1682304339982146, 1.1998042295116798, 1.2313780250251452, 1.2629518205386103, 1.2945256160520755, 1.326099411565541, 1.357673207079006, 1.3892470025924712, 1.4208207981059366, 1.4523945936194018, 1.4839683891328672, 1.5155421846463324, 1.5471159801597976, 1.578689775673263, 1.6102635711867281, 1.6418373667001935, 1.6734111622136587, 1.7049849577271239, 1.7365587532405893, 1.7681325487540545, 1.7997063442675196, 1.831280139780985, 1.8628539352944502, 1.8944277308079154, 1.9260015263213808, 1.957575321834846, 1.9891491173483113, 2.0207229128617765, 2.0522967083752417, 2.083870503888707, 2.1154442994021725, 2.1470180949156377, 2.178591890429103, 2.210165685942568, 2.241739481456033, 2.273313276969499, 2.304887072482964, 2.336460867996429, 2.3680346635098943, 2.3996084590233595, 2.4311822545368247, 2.4627560500502903, 2.4943298455637555, 2.5259036410772207, 2.557477436590686, 2.589051232104151, 2.6206250276176166, 2.652198823131082, 2.683772618644547, 2.715346414158012, 2.7469202096714773, 2.7784940051849425, 2.810067800698408, 2.8416415962118733, 2.8732153917253385, 2.9047891872388036, 2.936362982752269, 2.9679367782657344, 2.9995105737791996, 3.031084369292665, 3.06265816480613, 3.094231960319595, 3.1258057558330608, 3.157379551346526, 3.188953346859991, 3.2205271423734563, 3.2521009378869215, 3.283674733400387, 3.3152485289138522, 3.3468223244273174, 3.3783961199407826, 3.4099699154542478, 3.441543710967713, 3.4731175064811786, 3.5046913019946437, 3.536265097508109, 3.567838893021574, 3.5994126885350393, 3.630986484048505, 3.66256027956197, 3.6941340750754352, 3.7257078705889004, 3.7572816661023656, 3.7888554616158308, 3.8204292571292964, 3.8520030526427615, 3.8835768481562267, 3.915150643669692, 3.946724439183157, 3.9782982346966227, 4.009872030210087, 4.041445825723553, 4.073019621237019, 4.104593416750483, 4.136167212263949, 4.167741007777414, 4.199314803290879, 4.230888598804345, 4.26246239431781, 4.294036189831275, 4.32560998534474, 4.357183780858206, 4.388757576371671, 4.420331371885136, 4.451905167398602, 4.483478962912066, 4.515052758425532, 4.546626553938998, 4.578200349452462, 4.609774144965928, 4.641347940479393, 4.672921735992858, 4.704495531506323, 4.736069327019789, 4.767643122533254, 4.799216918046719, 4.830790713560185, 4.862364509073649, 4.893938304587115, 4.925512100100581, 4.957085895614045, 4.988659691127511, 5.020233486640976, 5.051807282154441, 5.083381077667907, 5.114954873181372, 5.146528668694837, 5.178102464208302, 5.209676259721768, 5.241250055235233, 5.272823850748698, 5.304397646262164, 5.335971441775628, 5.367545237289094, 5.39911903280256, 5.430692828316024, 5.46226662382949, 5.493840419342955, 5.52541421485642, 5.556988010369885, 5.588561805883351, 5.620135601396816, 5.651709396910281, 5.683283192423747, 5.714856987937211, 5.746430783450677, 5.7780045789641425, 5.809578374477607, 5.841152169991073, 5.872725965504538, 5.904299761018003, 5.935873556531469, 5.967447352044934, 5.999021147558399, 6.030594943071864, 6.06216873858533, 6.093742534098795, 6.12531632961226, 6.1568901251257255, 6.18846392063919, 6.220037716152656, 6.2516115116661215, 6.283185307179586], &quot;phi&quot;: [0.0, 1.5707963267948966]}], &quot;grid_spec&quot;: {&quot;attrs&quot;: {}, &quot;grid_x&quot;: {&quot;attrs&quot;: {}, &quot;type&quot;: &quot;AutoGrid&quot;, &quot;min_steps_per_wvl&quot;: 50.0, &quot;max_scale&quot;: 1.4, &quot;dl_min&quot;: 0.0, &quot;mesher&quot;: {&quot;attrs&quot;: {}, &quot;type&quot;: &quot;GradedMesher&quot;}}, &quot;grid_y&quot;: {&quot;attrs&quot;: {}, &quot;type&quot;: &quot;AutoGrid&quot;, &quot;min_steps_per_wvl&quot;: 50.0, &quot;max_scale&quot;: 1.4, &quot;dl_min&quot;: 0.0, &quot;mesher&quot;: {&quot;attrs&quot;: {}, &quot;type&quot;: &quot;GradedMesher&quot;}}, &quot;grid_z&quot;: {&quot;attrs&quot;: {}, &quot;type&quot;: &quot;AutoGrid&quot;, &quot;min_steps_per_wvl&quot;: 50.0, &quot;max_scale&quot;: 1.4, &quot;dl_min&quot;: 0.0, &quot;mesher&quot;: {&quot;attrs&quot;: {}, &quot;type&quot;: &quot;GradedMesher&quot;}}, &quot;wavelength&quot;: 1.55, &quot;override_structures&quot;: [], &quot;snapping_points&quot;: [], &quot;type&quot;: &quot;GridSpec&quot;}, &quot;version&quot;: &quot;2.7.3&quot;, &quot;lumped_elements&quot;: [], &quot;subpixel&quot;: {&quot;attrs&quot;: {}, &quot;dielectric&quot;: {&quot;attrs&quot;: {}, &quot;type&quot;: &quot;PolarizedAveraging&quot;}, &quot;metal&quot;: {&quot;attrs&quot;: {}, &quot;type&quot;: &quot;VolumetricAveraging&quot;, &quot;staircase_normal_component&quot;: true}, &quot;pec&quot;: {&quot;attrs&quot;: {}, &quot;type&quot;: &quot;PECConformal&quot;, &quot;timestep_reduction&quot;: 0.3}, &quot;type&quot;: &quot;SubpixelSpec&quot;}, &quot;simulation_type&quot;: null, &quot;courant&quot;: 0.99, &quot;normalize_index&quot;: 0, &quot;shutoff&quot;: 1e-05, &quot;run_time&quot;: 5e-13}\" />\n",
       "    <script>\n",
       "        \n",
       "        /**\n",
       "        * Simulation Viewer Injector\n",
       "        *\n",
       "        * Monitors the document for elements being added in the form:\n",
       "        *\n",
       "        *    <div class=\"simulation-viewer\" data-width=\"800\" data-height=\"800\" data-simulation=\"{...}\" />\n",
       "        *\n",
       "        * This script will then inject an iframe to the viewer application, and pass it the simulation data\n",
       "        * via the postMessage API on request. The script may be safely included multiple times, with only the\n",
       "        * configuration of the first started script (e.g. viewer URL) applying.\n",
       "        *\n",
       "        */\n",
       "        (function() {\n",
       "            const TARGET_CLASS = \"simulation-viewer\";\n",
       "            const ACTIVE_CLASS = \"simulation-viewer-active\";\n",
       "            const VIEWER_URL = \"https://feature-simulation-viewer.d3a9gfg7glllfq.amplifyapp.com/simulation-viewer\";\n",
       "\n",
       "            class SimulationViewerInjector {\n",
       "                constructor() {\n",
       "                    for (var node of document.getElementsByClassName(TARGET_CLASS)) {\n",
       "                        this.injectViewer(node);\n",
       "                    }\n",
       "\n",
       "                    // Monitor for newly added nodes to the DOM\n",
       "                    this.observer = new MutationObserver(this.onMutations.bind(this));\n",
       "                    this.observer.observe(document.body, {childList: true, subtree: true});\n",
       "                }\n",
       "\n",
       "                onMutations(mutations) {\n",
       "                    for (var mutation of mutations) {\n",
       "                        if (mutation.type === 'childList') {\n",
       "                            /**\n",
       "                            * Have found that adding the element does not reliably trigger the mutation observer.\n",
       "                            * It may be the case that setting content with innerHTML does not trigger.\n",
       "                            *\n",
       "                            * It seems to be sufficient to re-scan the document for un-activated viewers\n",
       "                            * whenever an event occurs, as Jupyter triggers multiple events on cell evaluation.\n",
       "                            */\n",
       "                            var viewers = document.getElementsByClassName(TARGET_CLASS);\n",
       "                            for (var node of viewers) {\n",
       "                                this.injectViewer(node);\n",
       "                            }\n",
       "                        }\n",
       "                    }\n",
       "                }\n",
       "\n",
       "                injectViewer(node) {\n",
       "                    // (re-)check that this is a valid simulation container and has not already been injected\n",
       "                    if (node.classList.contains(TARGET_CLASS) && !node.classList.contains(ACTIVE_CLASS)) {\n",
       "                        // Mark node as injected, to prevent re-runs\n",
       "                        node.classList.add(ACTIVE_CLASS);\n",
       "\n",
       "                        var uuid;\n",
       "                        if (window.crypto && window.crypto.randomUUID) {\n",
       "                            uuid = window.crypto.randomUUID();\n",
       "                        } else {\n",
       "                            uuid = \"\" + Math.random();\n",
       "                        }\n",
       "\n",
       "                        var frame = document.createElement(\"iframe\");\n",
       "                        frame.width = node.dataset.width || 800;\n",
       "                        frame.height = node.dataset.height || 800;\n",
       "                        frame.src = VIEWER_URL + \"?uuid=\" + uuid;\n",
       "\n",
       "                        var postMessageToViewer;\n",
       "                        postMessageToViewer = event => {{\n",
       "                            if(event.data.type === 'viewer' && event.data.uuid===uuid){{\n",
       "                                var simulation = JSON.parse(node.dataset.simulation);\n",
       "                                frame.contentWindow.postMessage({ type: 'jupyter', uuid, value: simulation}, '*');\n",
       "\n",
       "                                // Run once only\n",
       "                                window.removeEventListener('message', postMessageToViewer);\n",
       "                            }}\n",
       "                        }};\n",
       "                        window.addEventListener(\n",
       "                            'message',\n",
       "                            postMessageToViewer,\n",
       "                            false\n",
       "                        );\n",
       "\n",
       "                        node.appendChild(frame);\n",
       "                    }\n",
       "                }\n",
       "            }\n",
       "\n",
       "            if (!window.simulationViewerInjector) {\n",
       "                window.simulationViewerInjector = new SimulationViewerInjector();\n",
       "            }\n",
       "        })();\n",
       "    \n",
       "    </script>\n",
       "    "
      ],
      "text/plain": [
       "<IPython.core.display.HTML object>"
      ]
     },
     "metadata": {},
     "output_type": "display_data"
    }
   ],
   "source": [
    "sim_antenna.plot_3d()"
   ]
  },
  {
   "cell_type": "markdown",
   "id": "2b2c825e-61bd-431c-ad2c-fa9dec31acbe",
   "metadata": {},
   "source": [
    "Submit the simulation to the cloud. The cost of this simulation will be slightly higher than that of the previous simulation due to its larger simulation domain. "
   ]
  },
  {
   "cell_type": "code",
   "execution_count": 30,
   "id": "0f8cea33-cea0-4859-bc95-2cff33236c23",
   "metadata": {
    "execution": {
     "iopub.execute_input": "2024-09-05T13:20:35.576293Z",
     "iopub.status.busy": "2024-09-05T13:20:35.575918Z",
     "iopub.status.idle": "2024-09-05T13:23:03.909460Z",
     "shell.execute_reply": "2024-09-05T13:23:03.908583Z"
    }
   },
   "outputs": [
    {
     "data": {
      "text/html": [
       "<pre style=\"white-space:pre;overflow-x:auto;line-height:normal;font-family:Menlo,'DejaVu Sans Mono',consolas,'Courier New',monospace\"><span style=\"color: #7fbfbf; text-decoration-color: #7fbfbf\">             </span>Created task <span style=\"color: #008000; text-decoration-color: #008000\">'antenna'</span> with task_id                                \n",
       "<span style=\"color: #7fbfbf; text-decoration-color: #7fbfbf\">             </span><span style=\"color: #008000; text-decoration-color: #008000\">'fdve-4b61605b-083c-4818-8c8c-1401e6d4afb2'</span> and task_type <span style=\"color: #008000; text-decoration-color: #008000\">'FDTD'</span>.  \n",
       "</pre>\n"
      ],
      "text/plain": [
       "\u001b[2;36m            \u001b[0m\u001b[2;36m \u001b[0mCreated task \u001b[32m'antenna'\u001b[0m with task_id                                \n",
       "\u001b[2;36m             \u001b[0m\u001b[32m'fdve-4b61605b-083c-4818-8c8c-1401e6d4afb2'\u001b[0m and task_type \u001b[32m'FDTD'\u001b[0m.  \n"
      ]
     },
     "metadata": {},
     "output_type": "display_data"
    },
    {
     "data": {
      "text/html": [
       "<pre style=\"white-space:pre;overflow-x:auto;line-height:normal;font-family:Menlo,'DejaVu Sans Mono',consolas,'Courier New',monospace\"><span style=\"color: #7fbfbf; text-decoration-color: #7fbfbf\">             </span>View task using web UI at                                          \n",
       "<span style=\"color: #7fbfbf; text-decoration-color: #7fbfbf\">             </span><a href=\"https://tidy3d.simulation.cloud/workbench?taskId=fdve-4b61605b-083c-4818-8c8c-1401e6d4afb2\" target=\"_blank\"><span style=\"color: #008000; text-decoration-color: #008000\">'https://tidy3d.simulation.cloud/workbench?taskId=fdve-4b61605b-083</span></a>\n",
       "<span style=\"color: #7fbfbf; text-decoration-color: #7fbfbf\">             </span><a href=\"https://tidy3d.simulation.cloud/workbench?taskId=fdve-4b61605b-083c-4818-8c8c-1401e6d4afb2\" target=\"_blank\"><span style=\"color: #008000; text-decoration-color: #008000\">c-4818-8c8c-1401e6d4afb2'</span></a>.                                         \n",
       "</pre>\n"
      ],
      "text/plain": [
       "\u001b[2;36m            \u001b[0m\u001b[2;36m \u001b[0mView task using web UI at                                          \n",
       "\u001b[2;36m             \u001b[0m\u001b]8;id=318170;https://tidy3d.simulation.cloud/workbench?taskId=fdve-4b61605b-083c-4818-8c8c-1401e6d4afb2\u001b\\\u001b[32m'https://tidy3d.simulation.cloud/workbench?\u001b[0m\u001b]8;;\u001b\\\u001b]8;id=466837;https://tidy3d.simulation.cloud/workbench?taskId=fdve-4b61605b-083c-4818-8c8c-1401e6d4afb2\u001b\\\u001b[32mtaskId\u001b[0m\u001b]8;;\u001b\\\u001b]8;id=318170;https://tidy3d.simulation.cloud/workbench?taskId=fdve-4b61605b-083c-4818-8c8c-1401e6d4afb2\u001b\\\u001b[32m=\u001b[0m\u001b]8;;\u001b\\\u001b]8;id=117321;https://tidy3d.simulation.cloud/workbench?taskId=fdve-4b61605b-083c-4818-8c8c-1401e6d4afb2\u001b\\\u001b[32mfdve\u001b[0m\u001b]8;;\u001b\\\u001b]8;id=318170;https://tidy3d.simulation.cloud/workbench?taskId=fdve-4b61605b-083c-4818-8c8c-1401e6d4afb2\u001b\\\u001b[32m-4b61605b-083\u001b[0m\u001b]8;;\u001b\\\n",
       "\u001b[2;36m             \u001b[0m\u001b]8;id=318170;https://tidy3d.simulation.cloud/workbench?taskId=fdve-4b61605b-083c-4818-8c8c-1401e6d4afb2\u001b\\\u001b[32mc-4818-8c8c-1401e6d4afb2'\u001b[0m\u001b]8;;\u001b\\.                                         \n"
      ]
     },
     "metadata": {},
     "output_type": "display_data"
    },
    {
     "data": {
      "application/vnd.jupyter.widget-view+json": {
       "model_id": "bb30c087480c4fc386f56295576f7815",
       "version_major": 2,
       "version_minor": 0
      },
      "text/plain": [
       "Output()"
      ]
     },
     "metadata": {},
     "output_type": "display_data"
    },
    {
     "data": {
      "text/html": [
       "<pre style=\"white-space:pre;overflow-x:auto;line-height:normal;font-family:Menlo,'DejaVu Sans Mono',consolas,'Courier New',monospace\"></pre>\n"
      ],
      "text/plain": []
     },
     "metadata": {},
     "output_type": "display_data"
    },
    {
     "data": {
      "text/html": [
       "<pre style=\"white-space:pre;overflow-x:auto;line-height:normal;font-family:Menlo,'DejaVu Sans Mono',consolas,'Courier New',monospace\">\n",
       "</pre>\n"
      ],
      "text/plain": [
       "\n"
      ]
     },
     "metadata": {},
     "output_type": "display_data"
    },
    {
     "data": {
      "text/html": [
       "<pre style=\"white-space:pre;overflow-x:auto;line-height:normal;font-family:Menlo,'DejaVu Sans Mono',consolas,'Courier New',monospace\"><span style=\"color: #7fbfbf; text-decoration-color: #7fbfbf\">13:20:38 UTC </span>status = queued                                                    \n",
       "</pre>\n"
      ],
      "text/plain": [
       "\u001b[2;36m13:20:38 UTC\u001b[0m\u001b[2;36m \u001b[0mstatus = queued                                                    \n"
      ]
     },
     "metadata": {},
     "output_type": "display_data"
    },
    {
     "data": {
      "text/html": [
       "<pre style=\"white-space:pre;overflow-x:auto;line-height:normal;font-family:Menlo,'DejaVu Sans Mono',consolas,'Courier New',monospace\"><span style=\"color: #7fbfbf; text-decoration-color: #7fbfbf\">             </span>To cancel the simulation, use <span style=\"color: #008000; text-decoration-color: #008000\">'web.abort(task_id)'</span> or              \n",
       "<span style=\"color: #7fbfbf; text-decoration-color: #7fbfbf\">             </span><span style=\"color: #008000; text-decoration-color: #008000\">'web.delete(task_id)'</span> or abort/delete the task in the web UI.      \n",
       "<span style=\"color: #7fbfbf; text-decoration-color: #7fbfbf\">             </span>Terminating the Python script will not stop the job running on the \n",
       "<span style=\"color: #7fbfbf; text-decoration-color: #7fbfbf\">             </span>cloud.                                                             \n",
       "</pre>\n"
      ],
      "text/plain": [
       "\u001b[2;36m            \u001b[0m\u001b[2;36m \u001b[0mTo cancel the simulation, use \u001b[32m'web.abort\u001b[0m\u001b[32m(\u001b[0m\u001b[32mtask_id\u001b[0m\u001b[32m)\u001b[0m\u001b[32m'\u001b[0m or              \n",
       "\u001b[2;36m             \u001b[0m\u001b[32m'web.delete\u001b[0m\u001b[32m(\u001b[0m\u001b[32mtask_id\u001b[0m\u001b[32m)\u001b[0m\u001b[32m'\u001b[0m or abort/delete the task in the web UI.      \n",
       "\u001b[2;36m             \u001b[0mTerminating the Python script will not stop the job running on the \n",
       "\u001b[2;36m             \u001b[0mcloud.                                                             \n"
      ]
     },
     "metadata": {},
     "output_type": "display_data"
    },
    {
     "data": {
      "application/vnd.jupyter.widget-view+json": {
       "model_id": "e42a0236b1b145dd93398a648906c1e8",
       "version_major": 2,
       "version_minor": 0
      },
      "text/plain": [
       "Output()"
      ]
     },
     "metadata": {},
     "output_type": "display_data"
    },
    {
     "data": {
      "text/html": [
       "<pre style=\"white-space:pre;overflow-x:auto;line-height:normal;font-family:Menlo,'DejaVu Sans Mono',consolas,'Courier New',monospace\"><span style=\"color: #7fbfbf; text-decoration-color: #7fbfbf\">13:20:43 UTC </span>status = preprocess                                                \n",
       "</pre>\n"
      ],
      "text/plain": [
       "\u001b[2;36m13:20:43 UTC\u001b[0m\u001b[2;36m \u001b[0mstatus = preprocess                                                \n"
      ]
     },
     "metadata": {},
     "output_type": "display_data"
    },
    {
     "data": {
      "text/html": [
       "<pre style=\"white-space:pre;overflow-x:auto;line-height:normal;font-family:Menlo,'DejaVu Sans Mono',consolas,'Courier New',monospace\"></pre>\n"
      ],
      "text/plain": []
     },
     "metadata": {},
     "output_type": "display_data"
    },
    {
     "data": {
      "text/html": [
       "<pre style=\"white-space:pre;overflow-x:auto;line-height:normal;font-family:Menlo,'DejaVu Sans Mono',consolas,'Courier New',monospace\"><span style=\"color: #7fbfbf; text-decoration-color: #7fbfbf\">13:20:47 UTC </span>Maximum FlexCredit cost: <span style=\"color: #008080; text-decoration-color: #008080; font-weight: bold\">3.214</span>. Use <span style=\"color: #008000; text-decoration-color: #008000\">'web.real_cost(task_id)'</span> to get\n",
       "<span style=\"color: #7fbfbf; text-decoration-color: #7fbfbf\">             </span>the billed FlexCredit cost after a simulation run.                 \n",
       "</pre>\n"
      ],
      "text/plain": [
       "\u001b[2;36m13:20:47 UTC\u001b[0m\u001b[2;36m \u001b[0mMaximum FlexCredit cost: \u001b[1;36m3.214\u001b[0m. Use \u001b[32m'web.real_cost\u001b[0m\u001b[32m(\u001b[0m\u001b[32mtask_id\u001b[0m\u001b[32m)\u001b[0m\u001b[32m'\u001b[0m to get\n",
       "\u001b[2;36m             \u001b[0mthe billed FlexCredit cost after a simulation run.                 \n"
      ]
     },
     "metadata": {},
     "output_type": "display_data"
    },
    {
     "data": {
      "text/html": [
       "<pre style=\"white-space:pre;overflow-x:auto;line-height:normal;font-family:Menlo,'DejaVu Sans Mono',consolas,'Courier New',monospace\"><span style=\"color: #7fbfbf; text-decoration-color: #7fbfbf\">             </span>starting up solver                                                 \n",
       "</pre>\n"
      ],
      "text/plain": [
       "\u001b[2;36m            \u001b[0m\u001b[2;36m \u001b[0mstarting up solver                                                 \n"
      ]
     },
     "metadata": {},
     "output_type": "display_data"
    },
    {
     "data": {
      "text/html": [
       "<pre style=\"white-space:pre;overflow-x:auto;line-height:normal;font-family:Menlo,'DejaVu Sans Mono',consolas,'Courier New',monospace\"><span style=\"color: #7fbfbf; text-decoration-color: #7fbfbf\">             </span>running solver                                                     \n",
       "</pre>\n"
      ],
      "text/plain": [
       "\u001b[2;36m            \u001b[0m\u001b[2;36m \u001b[0mrunning solver                                                     \n"
      ]
     },
     "metadata": {},
     "output_type": "display_data"
    },
    {
     "data": {
      "application/vnd.jupyter.widget-view+json": {
       "model_id": "09fbe0d997654af99d8a02db8f39c782",
       "version_major": 2,
       "version_minor": 0
      },
      "text/plain": [
       "Output()"
      ]
     },
     "metadata": {},
     "output_type": "display_data"
    },
    {
     "data": {
      "text/html": [
       "<pre style=\"white-space:pre;overflow-x:auto;line-height:normal;font-family:Menlo,'DejaVu Sans Mono',consolas,'Courier New',monospace\"><span style=\"color: #7fbfbf; text-decoration-color: #7fbfbf\">13:23:00 UTC </span>early shutoff detected at <span style=\"color: #008080; text-decoration-color: #008080; font-weight: bold\">80</span>%, exiting.                            \n",
       "</pre>\n"
      ],
      "text/plain": [
       "\u001b[2;36m13:23:00 UTC\u001b[0m\u001b[2;36m \u001b[0mearly shutoff detected at \u001b[1;36m80\u001b[0m%, exiting.                            \n"
      ]
     },
     "metadata": {},
     "output_type": "display_data"
    },
    {
     "data": {
      "text/html": [
       "<pre style=\"white-space:pre;overflow-x:auto;line-height:normal;font-family:Menlo,'DejaVu Sans Mono',consolas,'Courier New',monospace\"></pre>\n"
      ],
      "text/plain": []
     },
     "metadata": {},
     "output_type": "display_data"
    },
    {
     "data": {
      "text/html": [
       "<pre style=\"white-space:pre;overflow-x:auto;line-height:normal;font-family:Menlo,'DejaVu Sans Mono',consolas,'Courier New',monospace\">\n",
       "</pre>\n"
      ],
      "text/plain": [
       "\n"
      ]
     },
     "metadata": {},
     "output_type": "display_data"
    },
    {
     "data": {
      "text/html": [
       "<pre style=\"white-space:pre;overflow-x:auto;line-height:normal;font-family:Menlo,'DejaVu Sans Mono',consolas,'Courier New',monospace\"><span style=\"color: #7fbfbf; text-decoration-color: #7fbfbf\">             </span>status = postprocess                                               \n",
       "</pre>\n"
      ],
      "text/plain": [
       "\u001b[2;36m            \u001b[0m\u001b[2;36m \u001b[0mstatus = postprocess                                               \n"
      ]
     },
     "metadata": {},
     "output_type": "display_data"
    },
    {
     "data": {
      "application/vnd.jupyter.widget-view+json": {
       "model_id": "441cc3604b2d4c389f361144a3fd48e7",
       "version_major": 2,
       "version_minor": 0
      },
      "text/plain": [
       "Output()"
      ]
     },
     "metadata": {},
     "output_type": "display_data"
    },
    {
     "data": {
      "text/html": [
       "<pre style=\"white-space:pre;overflow-x:auto;line-height:normal;font-family:Menlo,'DejaVu Sans Mono',consolas,'Courier New',monospace\"><span style=\"color: #7fbfbf; text-decoration-color: #7fbfbf\">13:23:02 UTC </span>status = success                                                   \n",
       "</pre>\n"
      ],
      "text/plain": [
       "\u001b[2;36m13:23:02 UTC\u001b[0m\u001b[2;36m \u001b[0mstatus = success                                                   \n"
      ]
     },
     "metadata": {},
     "output_type": "display_data"
    },
    {
     "data": {
      "text/html": [
       "<pre style=\"white-space:pre;overflow-x:auto;line-height:normal;font-family:Menlo,'DejaVu Sans Mono',consolas,'Courier New',monospace\"></pre>\n"
      ],
      "text/plain": []
     },
     "metadata": {},
     "output_type": "display_data"
    },
    {
     "data": {
      "text/html": [
       "<pre style=\"white-space:pre;overflow-x:auto;line-height:normal;font-family:Menlo,'DejaVu Sans Mono',consolas,'Courier New',monospace\"><span style=\"color: #7fbfbf; text-decoration-color: #7fbfbf\">13:23:03 UTC </span>View simulation result at                                          \n",
       "<span style=\"color: #7fbfbf; text-decoration-color: #7fbfbf\">             </span><a href=\"https://tidy3d.simulation.cloud/workbench?taskId=fdve-4b61605b-083c-4818-8c8c-1401e6d4afb2\" target=\"_blank\"><span style=\"color: #000080; text-decoration-color: #000080; text-decoration: underline\">'https://tidy3d.simulation.cloud/workbench?taskId=fdve-4b61605b-083</span></a>\n",
       "<span style=\"color: #7fbfbf; text-decoration-color: #7fbfbf\">             </span><a href=\"https://tidy3d.simulation.cloud/workbench?taskId=fdve-4b61605b-083c-4818-8c8c-1401e6d4afb2\" target=\"_blank\"><span style=\"color: #000080; text-decoration-color: #000080; text-decoration: underline\">c-4818-8c8c-1401e6d4afb2'</span></a><span style=\"color: #000080; text-decoration-color: #000080; text-decoration: underline\">.</span>                                         \n",
       "</pre>\n"
      ],
      "text/plain": [
       "\u001b[2;36m13:23:03 UTC\u001b[0m\u001b[2;36m \u001b[0mView simulation result at                                          \n",
       "\u001b[2;36m             \u001b[0m\u001b]8;id=82686;https://tidy3d.simulation.cloud/workbench?taskId=fdve-4b61605b-083c-4818-8c8c-1401e6d4afb2\u001b\\\u001b[4;34m'https://tidy3d.simulation.cloud/workbench?\u001b[0m\u001b]8;;\u001b\\\u001b]8;id=745090;https://tidy3d.simulation.cloud/workbench?taskId=fdve-4b61605b-083c-4818-8c8c-1401e6d4afb2\u001b\\\u001b[4;34mtaskId\u001b[0m\u001b]8;;\u001b\\\u001b]8;id=82686;https://tidy3d.simulation.cloud/workbench?taskId=fdve-4b61605b-083c-4818-8c8c-1401e6d4afb2\u001b\\\u001b[4;34m=\u001b[0m\u001b]8;;\u001b\\\u001b]8;id=993675;https://tidy3d.simulation.cloud/workbench?taskId=fdve-4b61605b-083c-4818-8c8c-1401e6d4afb2\u001b\\\u001b[4;34mfdve\u001b[0m\u001b]8;;\u001b\\\u001b]8;id=82686;https://tidy3d.simulation.cloud/workbench?taskId=fdve-4b61605b-083c-4818-8c8c-1401e6d4afb2\u001b\\\u001b[4;34m-4b61605b-083\u001b[0m\u001b]8;;\u001b\\\n",
       "\u001b[2;36m             \u001b[0m\u001b]8;id=82686;https://tidy3d.simulation.cloud/workbench?taskId=fdve-4b61605b-083c-4818-8c8c-1401e6d4afb2\u001b\\\u001b[4;34mc-4818-8c8c-1401e6d4afb2'\u001b[0m\u001b]8;;\u001b\\\u001b[4;34m.\u001b[0m                                         \n"
      ]
     },
     "metadata": {},
     "output_type": "display_data"
    },
    {
     "data": {
      "application/vnd.jupyter.widget-view+json": {
       "model_id": "ee0f9abfa7554071bd470e74d4c923cc",
       "version_major": 2,
       "version_minor": 0
      },
      "text/plain": [
       "Output()"
      ]
     },
     "metadata": {},
     "output_type": "display_data"
    },
    {
     "data": {
      "text/html": [
       "<pre style=\"white-space:pre;overflow-x:auto;line-height:normal;font-family:Menlo,'DejaVu Sans Mono',consolas,'Courier New',monospace\"></pre>\n"
      ],
      "text/plain": []
     },
     "metadata": {},
     "output_type": "display_data"
    },
    {
     "data": {
      "text/html": [
       "<pre style=\"white-space:pre;overflow-x:auto;line-height:normal;font-family:Menlo,'DejaVu Sans Mono',consolas,'Courier New',monospace\">\n",
       "</pre>\n"
      ],
      "text/plain": [
       "\n"
      ]
     },
     "metadata": {},
     "output_type": "display_data"
    },
    {
     "data": {
      "text/html": [
       "<pre style=\"white-space:pre;overflow-x:auto;line-height:normal;font-family:Menlo,'DejaVu Sans Mono',consolas,'Courier New',monospace\"><span style=\"color: #7fbfbf; text-decoration-color: #7fbfbf\">             </span>loading simulation from simulation_data.hdf5                       \n",
       "</pre>\n"
      ],
      "text/plain": [
       "\u001b[2;36m            \u001b[0m\u001b[2;36m \u001b[0mloading simulation from simulation_data.hdf5                       \n"
      ]
     },
     "metadata": {},
     "output_type": "display_data"
    },
    {
     "data": {
      "text/html": [
       "<pre style=\"white-space:pre;overflow-x:auto;line-height:normal;font-family:Menlo,'DejaVu Sans Mono',consolas,'Courier New',monospace\"><span style=\"color: #7fbfbf; text-decoration-color: #7fbfbf\">             </span><span style=\"color: #800000; text-decoration-color: #800000\">WARNING: Structure at structures</span><span style=\"color: #800000; text-decoration-color: #800000; font-weight: bold\">[</span><span style=\"color: #008080; text-decoration-color: #008080; font-weight: bold\">2</span><span style=\"color: #800000; text-decoration-color: #800000; font-weight: bold\">]</span><span style=\"color: #800000; text-decoration-color: #800000\"> was detected as being less than</span>\n",
       "<span style=\"color: #7fbfbf; text-decoration-color: #7fbfbf\">             </span><span style=\"color: #800000; text-decoration-color: #800000\">half of a central wavelength from a PML on side z-max. To avoid    </span>\n",
       "<span style=\"color: #7fbfbf; text-decoration-color: #7fbfbf\">             </span><span style=\"color: #800000; text-decoration-color: #800000\">inaccurate results or divergence, please increase gap between any  </span>\n",
       "<span style=\"color: #7fbfbf; text-decoration-color: #7fbfbf\">             </span><span style=\"color: #800000; text-decoration-color: #800000\">structures and PML or fully extend structure through the pml.      </span>\n",
       "</pre>\n"
      ],
      "text/plain": [
       "\u001b[2;36m            \u001b[0m\u001b[2;36m \u001b[0m\u001b[31mWARNING: Structure at structures\u001b[0m\u001b[1;31m[\u001b[0m\u001b[1;36m2\u001b[0m\u001b[1;31m]\u001b[0m\u001b[31m was detected as being less than\u001b[0m\n",
       "\u001b[2;36m             \u001b[0m\u001b[31mhalf of a central wavelength from a PML on side z-max. To avoid    \u001b[0m\n",
       "\u001b[2;36m             \u001b[0m\u001b[31minaccurate results or divergence, please increase gap between any  \u001b[0m\n",
       "\u001b[2;36m             \u001b[0m\u001b[31mstructures and PML or fully extend structure through the pml.      \u001b[0m\n"
      ]
     },
     "metadata": {},
     "output_type": "display_data"
    },
    {
     "data": {
      "text/html": [
       "<pre style=\"white-space:pre;overflow-x:auto;line-height:normal;font-family:Menlo,'DejaVu Sans Mono',consolas,'Courier New',monospace\"><span style=\"color: #7fbfbf; text-decoration-color: #7fbfbf\">             </span><span style=\"color: #800000; text-decoration-color: #800000\">WARNING: Suppressed </span><span style=\"color: #008080; text-decoration-color: #008080; font-weight: bold\">1</span><span style=\"color: #800000; text-decoration-color: #800000\"> WARNING message.                             </span>\n",
       "</pre>\n"
      ],
      "text/plain": [
       "\u001b[2;36m            \u001b[0m\u001b[2;36m \u001b[0m\u001b[31mWARNING: Suppressed \u001b[0m\u001b[1;36m1\u001b[0m\u001b[31m WARNING message.                             \u001b[0m\n"
      ]
     },
     "metadata": {},
     "output_type": "display_data"
    },
    {
     "data": {
      "text/html": [
       "<pre style=\"white-space:pre;overflow-x:auto;line-height:normal;font-family:Menlo,'DejaVu Sans Mono',consolas,'Courier New',monospace\"><span style=\"color: #7fbfbf; text-decoration-color: #7fbfbf\">             </span><span style=\"color: #800000; text-decoration-color: #800000\">WARNING: Warning messages were found in the solver log. For more   </span>\n",
       "<span style=\"color: #7fbfbf; text-decoration-color: #7fbfbf\">             </span><span style=\"color: #800000; text-decoration-color: #800000\">information, check </span><span style=\"color: #008000; text-decoration-color: #008000\">'SimulationData.log'</span><span style=\"color: #800000; text-decoration-color: #800000\"> or use                     </span>\n",
       "<span style=\"color: #7fbfbf; text-decoration-color: #7fbfbf\">             </span><span style=\"color: #008000; text-decoration-color: #008000\">'web.download_log(task_id)'</span><span style=\"color: #800000; text-decoration-color: #800000\">.                                       </span>\n",
       "</pre>\n"
      ],
      "text/plain": [
       "\u001b[2;36m            \u001b[0m\u001b[2;36m \u001b[0m\u001b[31mWARNING: Warning messages were found in the solver log. For more   \u001b[0m\n",
       "\u001b[2;36m             \u001b[0m\u001b[31minformation, check \u001b[0m\u001b[32m'SimulationData.log'\u001b[0m\u001b[31m or use                     \u001b[0m\n",
       "\u001b[2;36m             \u001b[0m\u001b[32m'web.download_log\u001b[0m\u001b[32m(\u001b[0m\u001b[32mtask_id\u001b[0m\u001b[32m)\u001b[0m\u001b[32m'\u001b[0m\u001b[31m.                                       \u001b[0m\n"
      ]
     },
     "metadata": {},
     "output_type": "display_data"
    }
   ],
   "source": [
    "sim_data_antenna = web.run(simulation=sim_antenna, task_name=\"antenna\")"
   ]
  },
  {
   "cell_type": "markdown",
   "id": "d0d5e2dd-c00b-4c10-864c-8a6fe8bc3fa1",
   "metadata": {},
   "source": [
    "Calculate and plot the antenna directivity in the E-plane and H-plane. We see a strong forward radiation with a directivity over 12 (~11 dB). "
   ]
  },
  {
   "cell_type": "code",
   "execution_count": 31,
   "id": "d647b604-b191-49fc-9f1c-0e8383a44082",
   "metadata": {
    "execution": {
     "iopub.execute_input": "2024-09-05T13:23:10.962834Z",
     "iopub.status.busy": "2024-09-05T13:23:10.962309Z",
     "iopub.status.idle": "2024-09-05T13:23:11.255417Z",
     "shell.execute_reply": "2024-09-05T13:23:11.254628Z"
    }
   },
   "outputs": [
    {
     "data": {
      "image/png": "[encoded data removed]",
      "text/plain": [
       "<Figure size 640x480 with 1 Axes>"
      ]
     },
     "metadata": {},
     "output_type": "display_data"
    }
   ],
   "source": [
    "P0 = np.array(sim_data_antenna[\"power\"].flux)  # total radiated power of the antenna\n",
    "\n",
    "# angular radiated power of the antenna\n",
    "# by default, the power is calculated at 1 meter away from the antenna. \n",
    "# The 1e12 factor normalizes the power to unit distance (1 um)\n",
    "P_e = np.squeeze(\n",
    "    1e12 * sim_data_antenna[\"n2f_monitor\"].power.sel(f=freq0, phi=0, method=\"nearest\").values\n",
    ")\n",
    "D_e = 4 * np.pi * P_e / P0  # directivity of the antenna\n",
    "\n",
    "P_h = np.squeeze(\n",
    "    1e12\n",
    "    * sim_data_antenna[\"n2f_monitor\"].power.sel(f=freq0, phi=np.pi / 2, method=\"nearest\").values\n",
    ")\n",
    "D_h = 4 * np.pi * P_h / P0  # directivity of the antenna\n",
    "\n",
    "# plot the directivity in the E-plane and H-plane\n",
    "fig, ax = plt.subplots(subplot_kw={\"projection\": \"polar\"})\n",
    "ax.set_theta_direction(-1)\n",
    "ax.set_theta_offset(np.pi / 2.0)\n",
    "ax.plot(theta_array, D_h, c=\"red\", linestyle=\"--\", label=\"H plane\")\n",
    "ax.plot(theta_array, D_e, c=\"blue\", label=\"E plane\")\n",
    "ax.set_rlim(0, 15)\n",
    "ax.set_title(\"Directivity\")\n",
    "ax.legend()\n",
    "plt.show()"
   ]
  },
  {
   "cell_type": "markdown",
   "id": "71fd4a2b-8b8c-450c-adab-e4db39a01469",
   "metadata": {},
   "source": [
    "The result confirms that the antenna design works well. In the referenced [paper](https://doi.org/10.1364/OE.25.016214), an optical wireless link simulation is performed where two antennas are separated over a long distance. One antenna functions as the transmitter while the other antenna functions as a receiver. The same power budget analysis can also be done via the Friis transmission equation. "
   ]
  }
 ],
 "metadata": {
  "applications": [
   "Passive photonic integrated circuit components",
   "Plasmonics",
   "Optical scattering and far-field radiation"
  ],
  "description": "This notebook demonstrates how to design a Vivaldi antenna integrated with silicon waveguide.",
  "feature_image": "./img/integrated_antenna.png",
  "features": [
   "Mode analysis",
   "Far field projection"
  ],
  "kernelspec": {
   "display_name": "Python 3 (ipykernel)",
   "language": "python",
   "name": "python3"
  },
  "keywords": "antenna, photonic integrated circuits, design, silicon photonics, waveguide, directivity, Vivaldi, Tidy3D, FDTD",
  "language_info": {
   "codemirror_mode": {
    "name": "ipython",
    "version": 3
   },
   "file_extension": ".py",
   "mimetype": "text/x-python",
   "name": "python",
   "nbconvert_exporter": "python",
   "pygments_lexer": "ipython3",
   "version": "3.10.14"
  },
  "title": "Integrated Plasmonic Vivaldi Antenna | Flexcompute",
  "widgets": {
   "application/vnd.jupyter.widget-state+json": {
    "state": {
     "09fbe0d997654af99d8a02db8f39c782": {
      "model_module": "@jupyter-widgets/output",
      "model_module_version": "1.0.0",
      "model_name": "OutputModel",
      "state": {
       "_dom_classes": [],
       "_model_module": "@jupyter-widgets/output",
       "_model_module_version": "1.0.0",
       "_model_name": "OutputModel",
       "_view_count": null,
       "_view_module": "@jupyter-widgets/output",
       "_view_module_version": "1.0.0",
       "_view_name": "OutputView",
       "layout": "IPY_MODEL_5bc9970894034c0982fb7d2a07e7b771",
       "msg_id": "",
       "outputs": [
        {
         "data": {
          "text/html": "<pre style=\"white-space:pre;overflow-x:auto;line-height:normal;font-family:Menlo,'DejaVu Sans Mono',consolas,'Courier New',monospace\">solver progress (field decay = 3.76e-06) <span style=\"color: #729c1f; text-decoration-color: #729c1f\">━━━━━━━━━━━━━━━━━━━━━━━━━━</span> <span style=\"color: #800080; text-decoration-color: #800080\">100%</span> <span style=\"color: #008080; text-decoration-color: #008080\">0:00:00</span>\n</pre>\n",
          "text/plain": "solver progress (field decay = 3.76e-06) \u001b[38;2;114;156;31m━━━━━━━━━━━━━━━━━━━━━━━━━━\u001b[0m \u001b[35m100%\u001b[0m \u001b[36m0:00:00\u001b[0m\n"
         },
         "metadata": {},
         "output_type": "display_data"
        }
       ],
       "tabbable": null,
       "tooltip": null
      }
     },
     "0aa7cef8a7c54309b77963aa5e9f98f6": {
      "model_module": "@jupyter-widgets/base",
      "model_module_version": "2.0.0",
      "model_name": "LayoutModel",
      "state": {
       "_model_module": "@jupyter-widgets/base",
       "_model_module_version": "2.0.0",
       "_model_name": "LayoutModel",
       "_view_count": null,
       "_view_module": "@jupyter-widgets/base",
       "_view_module_version": "2.0.0",
       "_view_name": "LayoutView",
       "align_content": null,
       "align_items": null,
       "align_self": null,
       "border_bottom": null,
       "border_left": null,
       "border_right": null,
       "border_top": null,
       "bottom": null,
       "display": null,
       "flex": null,
       "flex_flow": null,
       "grid_area": null,
       "grid_auto_columns": null,
       "grid_auto_flow": null,
       "grid_auto_rows": null,
       "grid_column": null,
       "grid_gap": null,
       "grid_row": null,
       "grid_template_areas": null,
       "grid_template_columns": null,
       "grid_template_rows": null,
       "height": null,
       "justify_content": null,
       "justify_items": null,
       "left": null,
       "margin": null,
       "max_height": null,
       "max_width": null,
       "min_height": null,
       "min_width": null,
       "object_fit": null,
       "object_position": null,
       "order": null,
       "overflow": null,
       "padding": null,
       "right": null,
       "top": null,
       "visibility": null,
       "width": null
      }
     },
     "11b254b7aea04351beb37a87e0fb4aa7": {
      "model_module": "@jupyter-widgets/output",
      "model_module_version": "1.0.0",
      "model_name": "OutputModel",
      "state": {
       "_dom_classes": [],
       "_model_module": "@jupyter-widgets/output",
       "_model_module_version": "1.0.0",
       "_model_name": "OutputModel",
       "_view_count": null,
       "_view_module": "@jupyter-widgets/output",
       "_view_module_version": "1.0.0",
       "_view_name": "OutputView",
       "layout": "IPY_MODEL_29a7ca2d77b145fdaacd9987a8267cf5",
       "msg_id": "",
       "outputs": [
        {
         "data": {
          "text/html": "<pre style=\"white-space:pre;overflow-x:auto;line-height:normal;font-family:Menlo,'DejaVu Sans Mono',consolas,'Courier New',monospace\">solver progress (field decay = 9.82e-06) <span style=\"color: #729c1f; text-decoration-color: #729c1f\">━━━━━━━━━━━━━━━━━━━━━━━━━━</span> <span style=\"color: #800080; text-decoration-color: #800080\">100%</span> <span style=\"color: #008080; text-decoration-color: #008080\">0:00:00</span>\n</pre>\n",
          "text/plain": "solver progress (field decay = 9.82e-06) \u001b[38;2;114;156;31m━━━━━━━━━━━━━━━━━━━━━━━━━━\u001b[0m \u001b[35m100%\u001b[0m \u001b[36m0:00:00\u001b[0m\n"
         },
         "metadata": {},
         "output_type": "display_data"
        }
       ],
       "tabbable": null,
       "tooltip": null
      }
     },
     "13daf9a8c1f2423c967bd6e22ace8e8d": {
      "model_module": "@jupyter-widgets/output",
      "model_module_version": "1.0.0",
      "model_name": "OutputModel",
      "state": {
       "_dom_classes": [],
       "_model_module": "@jupyter-widgets/output",
       "_model_module_version": "1.0.0",
       "_model_name": "OutputModel",
       "_view_count": null,
       "_view_module": "@jupyter-widgets/output",
       "_view_module_version": "1.0.0",
       "_view_name": "OutputView",
       "layout": "IPY_MODEL_0aa7cef8a7c54309b77963aa5e9f98f6",
       "msg_id": "",
       "outputs": [
        {
         "data": {
          "text/html": "<pre style=\"white-space:pre;overflow-x:auto;line-height:normal;font-family:Menlo,'DejaVu Sans Mono',consolas,'Courier New',monospace\"><span style=\"color: #008000; text-decoration-color: #008000\">🏃 </span> <span style=\"color: #008000; text-decoration-color: #008000; font-weight: bold\">Finishing 'coupling'...</span>\n</pre>\n",
          "text/plain": "\u001b[32m🏃 \u001b[0m \u001b[1;32mFinishing 'coupling'...\u001b[0m\n"
         },
         "metadata": {},
         "output_type": "display_data"
        }
       ],
       "tabbable": null,
       "tooltip": null
      }
     },
     "144905fdf3194ee588bc22c2c24e49a7": {
      "model_module": "@jupyter-widgets/base",
      "model_module_version": "2.0.0",
      "model_name": "LayoutModel",
      "state": {
       "_model_module": "@jupyter-widgets/base",
       "_model_module_version": "2.0.0",
       "_model_name": "LayoutModel",
       "_view_count": null,
       "_view_module": "@jupyter-widgets/base",
       "_view_module_version": "2.0.0",
       "_view_name": "LayoutView",
       "align_content": null,
       "align_items": null,
       "align_self": null,
       "border_bottom": null,
       "border_left": null,
       "border_right": null,
       "border_top": null,
       "bottom": null,
       "display": null,
       "flex": null,
       "flex_flow": null,
       "grid_area": null,
       "grid_auto_columns": null,
       "grid_auto_flow": null,
       "grid_auto_rows": null,
       "grid_column": null,
       "grid_gap": null,
       "grid_row": null,
       "grid_template_areas": null,
       "grid_template_columns": null,
       "grid_template_rows": null,
       "height": null,
       "justify_content": null,
       "justify_items": null,
       "left": null,
       "margin": null,
       "max_height": null,
       "max_width": null,
       "min_height": null,
       "min_width": null,
       "object_fit": null,
       "object_position": null,
       "order": null,
       "overflow": null,
       "padding": null,
       "right": null,
       "top": null,
       "visibility": null,
       "width": null
      }
     },
     "1d056ffa64f34a3598439ec30d0642b3": {
      "model_module": "@jupyter-widgets/output",
      "model_module_version": "1.0.0",
      "model_name": "OutputModel",
      "state": {
       "_dom_classes": [],
       "_model_module": "@jupyter-widgets/output",
       "_model_module_version": "1.0.0",
       "_model_name": "OutputModel",
       "_view_count": null,
       "_view_module": "@jupyter-widgets/output",
       "_view_module_version": "1.0.0",
       "_view_name": "OutputView",
       "layout": "IPY_MODEL_2ec5f4f5e93b4bb58d50f895bbb0c473",
       "msg_id": "",
       "outputs": [
        {
         "data": {
          "text/html": "<pre style=\"white-space:pre;overflow-x:auto;line-height:normal;font-family:Menlo,'DejaVu Sans Mono',consolas,'Courier New',monospace\"><span style=\"color: #008000; text-decoration-color: #008000\">🏃 </span> <span style=\"color: #008000; text-decoration-color: #008000; font-weight: bold\">Waiting for 'coupling'...</span>\n</pre>\n",
          "text/plain": "\u001b[32m🏃 \u001b[0m \u001b[1;32mWaiting for 'coupling'...\u001b[0m\n"
         },
         "metadata": {},
         "output_type": "display_data"
        }
       ],
       "tabbable": null,
       "tooltip": null
      }
     },
     "29a7ca2d77b145fdaacd9987a8267cf5": {
      "model_module": "@jupyter-widgets/base",
      "model_module_version": "2.0.0",
      "model_name": "LayoutModel",
      "state": {
       "_model_module": "@jupyter-widgets/base",
       "_model_module_version": "2.0.0",
       "_model_name": "LayoutModel",
       "_view_count": null,
       "_view_module": "@jupyter-widgets/base",
       "_view_module_version": "2.0.0",
       "_view_name": "LayoutView",
       "align_content": null,
       "align_items": null,
       "align_self": null,
       "border_bottom": null,
       "border_left": null,
       "border_right": null,
       "border_top": null,
       "bottom": null,
       "display": null,
       "flex": null,
       "flex_flow": null,
       "grid_area": null,
       "grid_auto_columns": null,
       "grid_auto_flow": null,
       "grid_auto_rows": null,
       "grid_column": null,
       "grid_gap": null,
       "grid_row": null,
       "grid_template_areas": null,
       "grid_template_columns": null,
       "grid_template_rows": null,
       "height": null,
       "justify_content": null,
       "justify_items": null,
       "left": null,
       "margin": null,
       "max_height": null,
       "max_width": null,
       "min_height": null,
       "min_width": null,
       "object_fit": null,
       "object_position": null,
       "order": null,
       "overflow": null,
       "padding": null,
       "right": null,
       "top": null,
       "visibility": null,
       "width": null
      }
     },
     "2ec5f4f5e93b4bb58d50f895bbb0c473": {
      "model_module": "@jupyter-widgets/base",
      "model_module_version": "2.0.0",
      "model_name": "LayoutModel",
      "state": {
       "_model_module": "@jupyter-widgets/base",
       "_model_module_version": "2.0.0",
       "_model_name": "LayoutModel",
       "_view_count": null,
       "_view_module": "@jupyter-widgets/base",
       "_view_module_version": "2.0.0",
       "_view_name": "LayoutView",
       "align_content": null,
       "align_items": null,
       "align_self": null,
       "border_bottom": null,
       "border_left": null,
       "border_right": null,
       "border_top": null,
       "bottom": null,
       "display": null,
       "flex": null,
       "flex_flow": null,
       "grid_area": null,
       "grid_auto_columns": null,
       "grid_auto_flow": null,
       "grid_auto_rows": null,
       "grid_column": null,
       "grid_gap": null,
       "grid_row": null,
       "grid_template_areas": null,
       "grid_template_columns": null,
       "grid_template_rows": null,
       "height": null,
       "justify_content": null,
       "justify_items": null,
       "left": null,
       "margin": null,
       "max_height": null,
       "max_width": null,
       "min_height": null,
       "min_width": null,
       "object_fit": null,
       "object_position": null,
       "order": null,
       "overflow": null,
       "padding": null,
       "right": null,
       "top": null,
       "visibility": null,
       "width": null
      }
     },
     "441cc3604b2d4c389f361144a3fd48e7": {
      "model_module": "@jupyter-widgets/output",
      "model_module_version": "1.0.0",
      "model_name": "OutputModel",
      "state": {
       "_dom_classes": [],
       "_model_module": "@jupyter-widgets/output",
       "_model_module_version": "1.0.0",
       "_model_name": "OutputModel",
       "_view_count": null,
       "_view_module": "@jupyter-widgets/output",
       "_view_module_version": "1.0.0",
       "_view_name": "OutputView",
       "layout": "IPY_MODEL_ed3be8b0af8a4222b85ec27c2d4518fd",
       "msg_id": "",
       "outputs": [
        {
         "data": {
          "text/html": "<pre style=\"white-space:pre;overflow-x:auto;line-height:normal;font-family:Menlo,'DejaVu Sans Mono',consolas,'Courier New',monospace\"><span style=\"color: #008000; text-decoration-color: #008000\">🚶 </span> <span style=\"color: #008000; text-decoration-color: #008000; font-weight: bold\">Finishing 'antenna'...</span>\n</pre>\n",
          "text/plain": "\u001b[32m🚶 \u001b[0m \u001b[1;32mFinishing 'antenna'...\u001b[0m\n"
         },
         "metadata": {},
         "output_type": "display_data"
        }
       ],
       "tabbable": null,
       "tooltip": null
      }
     },
     "5ab7115e00d84c9cb2262fde179625a5": {
      "model_module": "@jupyter-widgets/output",
      "model_module_version": "1.0.0",
      "model_name": "OutputModel",
      "state": {
       "_dom_classes": [],
       "_model_module": "@jupyter-widgets/output",
       "_model_module_version": "1.0.0",
       "_model_name": "OutputModel",
       "_view_count": null,
       "_view_module": "@jupyter-widgets/output",
       "_view_module_version": "1.0.0",
       "_view_name": "OutputView",
       "layout": "IPY_MODEL_8518b57575384f28b340caa95d43cbfd",
       "msg_id": "",
       "outputs": [
        {
         "data": {
          "text/html": "<pre style=\"white-space:pre;overflow-x:auto;line-height:normal;font-family:Menlo,'DejaVu Sans Mono',consolas,'Courier New',monospace\">Status: <span style=\"color: #729c1f; text-decoration-color: #729c1f\">━━━━━━━━━━━━━━━━━━━━━━━━━━━━━━━━━━━━━━━━</span> <span style=\"color: #800080; text-decoration-color: #800080\">100%</span> <span style=\"color: #008080; text-decoration-color: #008080\">0:00:00</span>\n</pre>\n",
          "text/plain": "Status: \u001b[38;2;114;156;31m━━━━━━━━━━━━━━━━━━━━━━━━━━━━━━━━━━━━━━━━\u001b[0m \u001b[35m100%\u001b[0m \u001b[36m0:00:00\u001b[0m\n"
         },
         "metadata": {},
         "output_type": "display_data"
        }
       ],
       "tabbable": null,
       "tooltip": null
      }
     },
     "5bc9970894034c0982fb7d2a07e7b771": {
      "model_module": "@jupyter-widgets/base",
      "model_module_version": "2.0.0",
      "model_name": "LayoutModel",
      "state": {
       "_model_module": "@jupyter-widgets/base",
       "_model_module_version": "2.0.0",
       "_model_name": "LayoutModel",
       "_view_count": null,
       "_view_module": "@jupyter-widgets/base",
       "_view_module_version": "2.0.0",
       "_view_name": "LayoutView",
       "align_content": null,
       "align_items": null,
       "align_self": null,
       "border_bottom": null,
       "border_left": null,
       "border_right": null,
       "border_top": null,
       "bottom": null,
       "display": null,
       "flex": null,
       "flex_flow": null,
       "grid_area": null,
       "grid_auto_columns": null,
       "grid_auto_flow": null,
       "grid_auto_rows": null,
       "grid_column": null,
       "grid_gap": null,
       "grid_row": null,
       "grid_template_areas": null,
       "grid_template_columns": null,
       "grid_template_rows": null,
       "height": null,
       "justify_content": null,
       "justify_items": null,
       "left": null,
       "margin": null,
       "max_height": null,
       "max_width": null,
       "min_height": null,
       "min_width": null,
       "object_fit": null,
       "object_position": null,
       "order": null,
       "overflow": null,
       "padding": null,
       "right": null,
       "top": null,
       "visibility": null,
       "width": null
      }
     },
     "64dd063519564beb86a86a77e96bd6f8": {
      "model_module": "@jupyter-widgets/base",
      "model_module_version": "2.0.0",
      "model_name": "LayoutModel",
      "state": {
       "_model_module": "@jupyter-widgets/base",
       "_model_module_version": "2.0.0",
       "_model_name": "LayoutModel",
       "_view_count": null,
       "_view_module": "@jupyter-widgets/base",
       "_view_module_version": "2.0.0",
       "_view_name": "LayoutView",
       "align_content": null,
       "align_items": null,
       "align_self": null,
       "border_bottom": null,
       "border_left": null,
       "border_right": null,
       "border_top": null,
       "bottom": null,
       "display": null,
       "flex": null,
       "flex_flow": null,
       "grid_area": null,
       "grid_auto_columns": null,
       "grid_auto_flow": null,
       "grid_auto_rows": null,
       "grid_column": null,
       "grid_gap": null,
       "grid_row": null,
       "grid_template_areas": null,
       "grid_template_columns": null,
       "grid_template_rows": null,
       "height": null,
       "justify_content": null,
       "justify_items": null,
       "left": null,
       "margin": null,
       "max_height": null,
       "max_width": null,
       "min_height": null,
       "min_width": null,
       "object_fit": null,
       "object_position": null,
       "order": null,
       "overflow": null,
       "padding": null,
       "right": null,
       "top": null,
       "visibility": null,
       "width": null
      }
     },
     "65ff8e19ed6f40a5ade9c70498dfccac": {
      "model_module": "@jupyter-widgets/base",
      "model_module_version": "2.0.0",
      "model_name": "LayoutModel",
      "state": {
       "_model_module": "@jupyter-widgets/base",
       "_model_module_version": "2.0.0",
       "_model_name": "LayoutModel",
       "_view_count": null,
       "_view_module": "@jupyter-widgets/base",
       "_view_module_version": "2.0.0",
       "_view_name": "LayoutView",
       "align_content": null,
       "align_items": null,
       "align_self": null,
       "border_bottom": null,
       "border_left": null,
       "border_right": null,
       "border_top": null,
       "bottom": null,
       "display": null,
       "flex": null,
       "flex_flow": null,
       "grid_area": null,
       "grid_auto_columns": null,
       "grid_auto_flow": null,
       "grid_auto_rows": null,
       "grid_column": null,
       "grid_gap": null,
       "grid_row": null,
       "grid_template_areas": null,
       "grid_template_columns": null,
       "grid_template_rows": null,
       "height": null,
       "justify_content": null,
       "justify_items": null,
       "left": null,
       "margin": null,
       "max_height": null,
       "max_width": null,
       "min_height": null,
       "min_width": null,
       "object_fit": null,
       "object_position": null,
       "order": null,
       "overflow": null,
       "padding": null,
       "right": null,
       "top": null,
       "visibility": null,
       "width": null
      }
     },
     "67fe28f3014e4582881c2151e035ddfb": {
      "model_module": "@jupyter-widgets/output",
      "model_module_version": "1.0.0",
      "model_name": "OutputModel",
      "state": {
       "_dom_classes": [],
       "_model_module": "@jupyter-widgets/output",
       "_model_module_version": "1.0.0",
       "_model_name": "OutputModel",
       "_view_count": null,
       "_view_module": "@jupyter-widgets/output",
       "_view_module_version": "1.0.0",
       "_view_name": "OutputView",
       "layout": "IPY_MODEL_64dd063519564beb86a86a77e96bd6f8",
       "msg_id": "",
       "outputs": [
        {
         "data": {
          "text/html": "<pre style=\"white-space:pre;overflow-x:auto;line-height:normal;font-family:Menlo,'DejaVu Sans Mono',consolas,'Courier New',monospace\">Status: <span style=\"color: #729c1f; text-decoration-color: #729c1f\">━━━━━━━━━━━━━━━━━━━━━━━━━━━━━━━━━━━━━━━━</span> <span style=\"color: #800080; text-decoration-color: #800080\">100%</span> <span style=\"color: #008080; text-decoration-color: #008080\">0:00:00</span>\n</pre>\n",
          "text/plain": "Status: \u001b[38;2;114;156;31m━━━━━━━━━━━━━━━━━━━━━━━━━━━━━━━━━━━━━━━━\u001b[0m \u001b[35m100%\u001b[0m \u001b[36m0:00:00\u001b[0m\n"
         },
         "metadata": {},
         "output_type": "display_data"
        }
       ],
       "tabbable": null,
       "tooltip": null
      }
     },
     "751a300e1ff74cbdbb6bbb9b51e3e3aa": {
      "model_module": "@jupyter-widgets/base",
      "model_module_version": "2.0.0",
      "model_name": "LayoutModel",
      "state": {
       "_model_module": "@jupyter-widgets/base",
       "_model_module_version": "2.0.0",
       "_model_name": "LayoutModel",
       "_view_count": null,
       "_view_module": "@jupyter-widgets/base",
       "_view_module_version": "2.0.0",
       "_view_name": "LayoutView",
       "align_content": null,
       "align_items": null,
       "align_self": null,
       "border_bottom": null,
       "border_left": null,
       "border_right": null,
       "border_top": null,
       "bottom": null,
       "display": null,
       "flex": null,
       "flex_flow": null,
       "grid_area": null,
       "grid_auto_columns": null,
       "grid_auto_flow": null,
       "grid_auto_rows": null,
       "grid_column": null,
       "grid_gap": null,
       "grid_row": null,
       "grid_template_areas": null,
       "grid_template_columns": null,
       "grid_template_rows": null,
       "height": null,
       "justify_content": null,
       "justify_items": null,
       "left": null,
       "margin": null,
       "max_height": null,
       "max_width": null,
       "min_height": null,
       "min_width": null,
       "object_fit": null,
       "object_position": null,
       "order": null,
       "overflow": null,
       "padding": null,
       "right": null,
       "top": null,
       "visibility": null,
       "width": null
      }
     },
     "8518b57575384f28b340caa95d43cbfd": {
      "model_module": "@jupyter-widgets/base",
      "model_module_version": "2.0.0",
      "model_name": "LayoutModel",
      "state": {
       "_model_module": "@jupyter-widgets/base",
       "_model_module_version": "2.0.0",
       "_model_name": "LayoutModel",
       "_view_count": null,
       "_view_module": "@jupyter-widgets/base",
       "_view_module_version": "2.0.0",
       "_view_name": "LayoutView",
       "align_content": null,
       "align_items": null,
       "align_self": null,
       "border_bottom": null,
       "border_left": null,
       "border_right": null,
       "border_top": null,
       "bottom": null,
       "display": null,
       "flex": null,
       "flex_flow": null,
       "grid_area": null,
       "grid_auto_columns": null,
       "grid_auto_flow": null,
       "grid_auto_rows": null,
       "grid_column": null,
       "grid_gap": null,
       "grid_row": null,
       "grid_template_areas": null,
       "grid_template_columns": null,
       "grid_template_rows": null,
       "height": null,
       "justify_content": null,
       "justify_items": null,
       "left": null,
       "margin": null,
       "max_height": null,
       "max_width": null,
       "min_height": null,
       "min_width": null,
       "object_fit": null,
       "object_position": null,
       "order": null,
       "overflow": null,
       "padding": null,
       "right": null,
       "top": null,
       "visibility": null,
       "width": null
      }
     },
     "898aafb97df84647b765e28ed3070d50": {
      "model_module": "@jupyter-widgets/output",
      "model_module_version": "1.0.0",
      "model_name": "OutputModel",
      "state": {
       "_dom_classes": [],
       "_model_module": "@jupyter-widgets/output",
       "_model_module_version": "1.0.0",
       "_model_name": "OutputModel",
       "_view_count": null,
       "_view_module": "@jupyter-widgets/output",
       "_view_module_version": "1.0.0",
       "_view_name": "OutputView",
       "layout": "IPY_MODEL_aaacc86e2c014e0f844ac26212bc83f1",
       "msg_id": "",
       "outputs": [
        {
         "data": {
          "text/html": "<pre style=\"white-space:pre;overflow-x:auto;line-height:normal;font-family:Menlo,'DejaVu Sans Mono',consolas,'Courier New',monospace\"><span style=\"color: #800000; text-decoration-color: #800000; font-weight: bold\">↑</span> <span style=\"color: #000080; text-decoration-color: #000080; font-weight: bold\">simulation.hdf5.gz</span> <span style=\"color: #729c1f; text-decoration-color: #729c1f\">━━━━━━━━━━━━━━━━━━━━━━━━━</span> <span style=\"color: #800080; text-decoration-color: #800080\">100.0%</span> • <span style=\"color: #008000; text-decoration-color: #008000\">3.1/3.1 kB</span> • <span style=\"color: #800000; text-decoration-color: #800000\">?</span> • <span style=\"color: #008080; text-decoration-color: #008080\">0:00:00</span>\n</pre>\n",
          "text/plain": "\u001b[1;31m↑\u001b[0m \u001b[1;34msimulation.hdf5.gz\u001b[0m \u001b[38;2;114;156;31m━━━━━━━━━━━━━━━━━━━━━━━━━\u001b[0m \u001b[35m100.0%\u001b[0m • \u001b[32m3.1/3.1 kB\u001b[0m • \u001b[31m?\u001b[0m • \u001b[36m0:00:00\u001b[0m\n"
         },
         "metadata": {},
         "output_type": "display_data"
        }
       ],
       "tabbable": null,
       "tooltip": null
      }
     },
     "98cd7b100d5f406eb17a1f53ec84eeaf": {
      "model_module": "@jupyter-widgets/output",
      "model_module_version": "1.0.0",
      "model_name": "OutputModel",
      "state": {
       "_dom_classes": [],
       "_model_module": "@jupyter-widgets/output",
       "_model_module_version": "1.0.0",
       "_model_name": "OutputModel",
       "_view_count": null,
       "_view_module": "@jupyter-widgets/output",
       "_view_module_version": "1.0.0",
       "_view_name": "OutputView",
       "layout": "IPY_MODEL_751a300e1ff74cbdbb6bbb9b51e3e3aa",
       "msg_id": "",
       "outputs": [
        {
         "data": {
          "text/html": "<pre style=\"white-space:pre;overflow-x:auto;line-height:normal;font-family:Menlo,'DejaVu Sans Mono',consolas,'Courier New',monospace\">Status: <span style=\"color: #729c1f; text-decoration-color: #729c1f\">━━━━━━━━━━━━━━━━━━━━━━━━━━━━━━━━━━━━━━━━</span> <span style=\"color: #800080; text-decoration-color: #800080\">100%</span> <span style=\"color: #008080; text-decoration-color: #008080\">0:00:00</span>\n</pre>\n",
          "text/plain": "Status: \u001b[38;2;114;156;31m━━━━━━━━━━━━━━━━━━━━━━━━━━━━━━━━━━━━━━━━\u001b[0m \u001b[35m100%\u001b[0m \u001b[36m0:00:00\u001b[0m\n"
         },
         "metadata": {},
         "output_type": "display_data"
        }
       ],
       "tabbable": null,
       "tooltip": null
      }
     },
     "aaacc86e2c014e0f844ac26212bc83f1": {
      "model_module": "@jupyter-widgets/base",
      "model_module_version": "2.0.0",
      "model_name": "LayoutModel",
      "state": {
       "_model_module": "@jupyter-widgets/base",
       "_model_module_version": "2.0.0",
       "_model_name": "LayoutModel",
       "_view_count": null,
       "_view_module": "@jupyter-widgets/base",
       "_view_module_version": "2.0.0",
       "_view_name": "LayoutView",
       "align_content": null,
       "align_items": null,
       "align_self": null,
       "border_bottom": null,
       "border_left": null,
       "border_right": null,
       "border_top": null,
       "bottom": null,
       "display": null,
       "flex": null,
       "flex_flow": null,
       "grid_area": null,
       "grid_auto_columns": null,
       "grid_auto_flow": null,
       "grid_auto_rows": null,
       "grid_column": null,
       "grid_gap": null,
       "grid_row": null,
       "grid_template_areas": null,
       "grid_template_columns": null,
       "grid_template_rows": null,
       "height": null,
       "justify_content": null,
       "justify_items": null,
       "left": null,
       "margin": null,
       "max_height": null,
       "max_width": null,
       "min_height": null,
       "min_width": null,
       "object_fit": null,
       "object_position": null,
       "order": null,
       "overflow": null,
       "padding": null,
       "right": null,
       "top": null,
       "visibility": null,
       "width": null
      }
     },
     "bb30c087480c4fc386f56295576f7815": {
      "model_module": "@jupyter-widgets/output",
      "model_module_version": "1.0.0",
      "model_name": "OutputModel",
      "state": {
       "_dom_classes": [],
       "_model_module": "@jupyter-widgets/output",
       "_model_module_version": "1.0.0",
       "_model_name": "OutputModel",
       "_view_count": null,
       "_view_module": "@jupyter-widgets/output",
       "_view_module_version": "1.0.0",
       "_view_name": "OutputView",
       "layout": "IPY_MODEL_eda5943eb80b478f9129e54013d62894",
       "msg_id": "",
       "outputs": [
        {
         "data": {
          "text/html": "<pre style=\"white-space:pre;overflow-x:auto;line-height:normal;font-family:Menlo,'DejaVu Sans Mono',consolas,'Courier New',monospace\"><span style=\"color: #800000; text-decoration-color: #800000; font-weight: bold\">↑</span> <span style=\"color: #000080; text-decoration-color: #000080; font-weight: bold\">simulation.hdf5.gz</span> <span style=\"color: #729c1f; text-decoration-color: #729c1f\">━━━━━━━━━━━━━━━━━━━━━━━━━</span> <span style=\"color: #800080; text-decoration-color: #800080\">100.0%</span> • <span style=\"color: #008000; text-decoration-color: #008000\">6.6/6.6 kB</span> • <span style=\"color: #800000; text-decoration-color: #800000\">?</span> • <span style=\"color: #008080; text-decoration-color: #008080\">0:00:00</span>\n</pre>\n",
          "text/plain": "\u001b[1;31m↑\u001b[0m \u001b[1;34msimulation.hdf5.gz\u001b[0m \u001b[38;2;114;156;31m━━━━━━━━━━━━━━━━━━━━━━━━━\u001b[0m \u001b[35m100.0%\u001b[0m • \u001b[32m6.6/6.6 kB\u001b[0m • \u001b[31m?\u001b[0m • \u001b[36m0:00:00\u001b[0m\n"
         },
         "metadata": {},
         "output_type": "display_data"
        }
       ],
       "tabbable": null,
       "tooltip": null
      }
     },
     "e42a0236b1b145dd93398a648906c1e8": {
      "model_module": "@jupyter-widgets/output",
      "model_module_version": "1.0.0",
      "model_name": "OutputModel",
      "state": {
       "_dom_classes": [],
       "_model_module": "@jupyter-widgets/output",
       "_model_module_version": "1.0.0",
       "_model_name": "OutputModel",
       "_view_count": null,
       "_view_module": "@jupyter-widgets/output",
       "_view_module_version": "1.0.0",
       "_view_name": "OutputView",
       "layout": "IPY_MODEL_144905fdf3194ee588bc22c2c24e49a7",
       "msg_id": "",
       "outputs": [
        {
         "data": {
          "text/html": "<pre style=\"white-space:pre;overflow-x:auto;line-height:normal;font-family:Menlo,'DejaVu Sans Mono',consolas,'Courier New',monospace\"><span style=\"color: #008000; text-decoration-color: #008000\">🚶 </span> <span style=\"color: #008000; text-decoration-color: #008000; font-weight: bold\">Waiting for 'antenna'...</span>\n</pre>\n",
          "text/plain": "\u001b[32m🚶 \u001b[0m \u001b[1;32mWaiting for 'antenna'...\u001b[0m\n"
         },
         "metadata": {},
         "output_type": "display_data"
        }
       ],
       "tabbable": null,
       "tooltip": null
      }
     },
     "ed3be8b0af8a4222b85ec27c2d4518fd": {
      "model_module": "@jupyter-widgets/base",
      "model_module_version": "2.0.0",
      "model_name": "LayoutModel",
      "state": {
       "_model_module": "@jupyter-widgets/base",
       "_model_module_version": "2.0.0",
       "_model_name": "LayoutModel",
       "_view_count": null,
       "_view_module": "@jupyter-widgets/base",
       "_view_module_version": "2.0.0",
       "_view_name": "LayoutView",
       "align_content": null,
       "align_items": null,
       "align_self": null,
       "border_bottom": null,
       "border_left": null,
       "border_right": null,
       "border_top": null,
       "bottom": null,
       "display": null,
       "flex": null,
       "flex_flow": null,
       "grid_area": null,
       "grid_auto_columns": null,
       "grid_auto_flow": null,
       "grid_auto_rows": null,
       "grid_column": null,
       "grid_gap": null,
       "grid_row": null,
       "grid_template_areas": null,
       "grid_template_columns": null,
       "grid_template_rows": null,
       "height": null,
       "justify_content": null,
       "justify_items": null,
       "left": null,
       "margin": null,
       "max_height": null,
       "max_width": null,
       "min_height": null,
       "min_width": null,
       "object_fit": null,
       "object_position": null,
       "order": null,
       "overflow": null,
       "padding": null,
       "right": null,
       "top": null,
       "visibility": null,
       "width": null
      }
     },
     "ed9d465350124be5a27d5a72fa4a11e7": {
      "model_module": "@jupyter-widgets/base",
      "model_module_version": "2.0.0",
      "model_name": "LayoutModel",
      "state": {
       "_model_module": "@jupyter-widgets/base",
       "_model_module_version": "2.0.0",
       "_model_name": "LayoutModel",
       "_view_count": null,
       "_view_module": "@jupyter-widgets/base",
       "_view_module_version": "2.0.0",
       "_view_name": "LayoutView",
       "align_content": null,
       "align_items": null,
       "align_self": null,
       "border_bottom": null,
       "border_left": null,
       "border_right": null,
       "border_top": null,
       "bottom": null,
       "display": null,
       "flex": null,
       "flex_flow": null,
       "grid_area": null,
       "grid_auto_columns": null,
       "grid_auto_flow": null,
       "grid_auto_rows": null,
       "grid_column": null,
       "grid_gap": null,
       "grid_row": null,
       "grid_template_areas": null,
       "grid_template_columns": null,
       "grid_template_rows": null,
       "height": null,
       "justify_content": null,
       "justify_items": null,
       "left": null,
       "margin": null,
       "max_height": null,
       "max_width": null,
       "min_height": null,
       "min_width": null,
       "object_fit": null,
       "object_position": null,
       "order": null,
       "overflow": null,
       "padding": null,
       "right": null,
       "top": null,
       "visibility": null,
       "width": null
      }
     },
     "eda5943eb80b478f9129e54013d62894": {
      "model_module": "@jupyter-widgets/base",
      "model_module_version": "2.0.0",
      "model_name": "LayoutModel",
      "state": {
       "_model_module": "@jupyter-widgets/base",
       "_model_module_version": "2.0.0",
       "_model_name": "LayoutModel",
       "_view_count": null,
       "_view_module": "@jupyter-widgets/base",
       "_view_module_version": "2.0.0",
       "_view_name": "LayoutView",
       "align_content": null,
       "align_items": null,
       "align_self": null,
       "border_bottom": null,
       "border_left": null,
       "border_right": null,
       "border_top": null,
       "bottom": null,
       "display": null,
       "flex": null,
       "flex_flow": null,
       "grid_area": null,
       "grid_auto_columns": null,
       "grid_auto_flow": null,
       "grid_auto_rows": null,
       "grid_column": null,
       "grid_gap": null,
       "grid_row": null,
       "grid_template_areas": null,
       "grid_template_columns": null,
       "grid_template_rows": null,
       "height": null,
       "justify_content": null,
       "justify_items": null,
       "left": null,
       "margin": null,
       "max_height": null,
       "max_width": null,
       "min_height": null,
       "min_width": null,
       "object_fit": null,
       "object_position": null,
       "order": null,
       "overflow": null,
       "padding": null,
       "right": null,
       "top": null,
       "visibility": null,
       "width": null
      }
     },
     "ee0f9abfa7554071bd470e74d4c923cc": {
      "model_module": "@jupyter-widgets/output",
      "model_module_version": "1.0.0",
      "model_name": "OutputModel",
      "state": {
       "_dom_classes": [],
       "_model_module": "@jupyter-widgets/output",
       "_model_module_version": "1.0.0",
       "_model_name": "OutputModel",
       "_view_count": null,
       "_view_module": "@jupyter-widgets/output",
       "_view_module_version": "1.0.0",
       "_view_name": "OutputView",
       "layout": "IPY_MODEL_65ff8e19ed6f40a5ade9c70498dfccac",
       "msg_id": "",
       "outputs": [
        {
         "data": {
          "text/html": "<pre style=\"white-space:pre;overflow-x:auto;line-height:normal;font-family:Menlo,'DejaVu Sans Mono',consolas,'Courier New',monospace\"><span style=\"color: #008000; text-decoration-color: #008000; font-weight: bold\">↓</span> <span style=\"color: #000080; text-decoration-color: #000080; font-weight: bold\">simulation_data.hdf5.gz</span> <span style=\"color: #729c1f; text-decoration-color: #729c1f\">━━━━━━━━━━━━━━━━━━</span> <span style=\"color: #800080; text-decoration-color: #800080\">100.0%</span> • <span style=\"color: #008000; text-decoration-color: #008000\">24.0/24.0 kB</span> • <span style=\"color: #800000; text-decoration-color: #800000\">?</span> • <span style=\"color: #008080; text-decoration-color: #008080\">0:00:00</span>\n</pre>\n",
          "text/plain": "\u001b[1;32m↓\u001b[0m \u001b[1;34msimulation_data.hdf5.gz\u001b[0m \u001b[38;2;114;156;31m━━━━━━━━━━━━━━━━━━\u001b[0m \u001b[35m100.0%\u001b[0m • \u001b[32m24.0/24.0 kB\u001b[0m • \u001b[31m?\u001b[0m • \u001b[36m0:00:00\u001b[0m\n"
         },
         "metadata": {},
         "output_type": "display_data"
        }
       ],
       "tabbable": null,
       "tooltip": null
      }
     },
     "f4924f04287445efb23e99695dce8124": {
      "model_module": "@jupyter-widgets/output",
      "model_module_version": "1.0.0",
      "model_name": "OutputModel",
      "state": {
       "_dom_classes": [],
       "_model_module": "@jupyter-widgets/output",
       "_model_module_version": "1.0.0",
       "_model_name": "OutputModel",
       "_view_count": null,
       "_view_module": "@jupyter-widgets/output",
       "_view_module_version": "1.0.0",
       "_view_name": "OutputView",
       "layout": "IPY_MODEL_ed9d465350124be5a27d5a72fa4a11e7",
       "msg_id": "",
       "outputs": [
        {
         "data": {
          "text/html": "<pre style=\"white-space:pre;overflow-x:auto;line-height:normal;font-family:Menlo,'DejaVu Sans Mono',consolas,'Courier New',monospace\"><span style=\"color: #008000; text-decoration-color: #008000; font-weight: bold\">↓</span> <span style=\"color: #000080; text-decoration-color: #000080; font-weight: bold\">simulation_data.hdf5.gz</span> <span style=\"color: #729c1f; text-decoration-color: #729c1f\">━━━━━━━━━━━━</span> <span style=\"color: #800080; text-decoration-color: #800080\">100.0%</span> • <span style=\"color: #008000; text-decoration-color: #008000\">588.1/588.1</span> • <span style=\"color: #800000; text-decoration-color: #800000\">4.2 MB/s</span> • <span style=\"color: #008080; text-decoration-color: #008080\">0:00:00</span>\n                                                <span style=\"color: #008000; text-decoration-color: #008000\">kB         </span>                     \n</pre>\n",
          "text/plain": "\u001b[1;32m↓\u001b[0m \u001b[1;34msimulation_data.hdf5.gz\u001b[0m \u001b[38;2;114;156;31m━━━━━━━━━━━━\u001b[0m \u001b[35m100.0%\u001b[0m • \u001b[32m588.1/588.1\u001b[0m • \u001b[31m4.2 MB/s\u001b[0m • \u001b[36m0:00:00\u001b[0m\n                                                \u001b[32mkB         \u001b[0m                     \n"
         },
         "metadata": {},
         "output_type": "display_data"
        }
       ],
       "tabbable": null,
       "tooltip": null
      }
     }
    },
    "version_major": 2,
    "version_minor": 0
   }
  }
 },
 "nbformat": 4,
 "nbformat_minor": 5
}
