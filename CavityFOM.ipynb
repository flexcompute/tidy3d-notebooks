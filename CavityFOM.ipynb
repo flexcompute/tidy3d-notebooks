{
 "cells": [
  {
   "cell_type": "markdown",
   "metadata": {
    "tags": []
   },
   "source": [
    "# Cavity quality factor, effective mode volume, and Purcell factor\n",
    "\n",
    "In this notebook, we will walk through the process of calculating the quality factor ($Q$), the effective mode volume ($V_{eff}$), and the Purcell factor ($F_{p}$) of a L3 photonic crystal (PhC) nanocavity. We start by using the [Resonance Finder](https://docs.flexcompute.com/projects/tidy3d/en/latest/api/_autosummary/tidy3d.plugins.resonance.ResonanceFinder.html#tidy3d.plugins.resonance.ResonanceFinder.html) plugin to find the L3 PhC cavity fundamental resonance and extract its information. For those not familiar with the `Resonance Finder`, detailed information is available in [Extracting resonance information using Resonance Finder](https://www.flexcompute.com/tidy3d/examples/notebooks/ResonanceFinder/), [Optimized photonic crystal L3 cavity](https://www.flexcompute.com/tidy3d/examples/notebooks/OptimizedL3/), or [Band structure calculation of a photonic crystal slab](https://www.flexcompute.com/tidy3d/examples/notebooks/Bandstructure/) notebooks. Then, we show how to estimate the cavity effective mode volume from the frequency-domain fields. Lastly, the Purcell factor is calculated from the quality factor and the mode effective volume.\n",
    "\n",
    "If you are new to the finite-difference time-domain (FDTD) method, we highly recommend going through our [FDTD101](https://www.flexcompute.com/tidy3d/learning-center/fdtd101/) tutorials. \n",
    "\n",
    "## References\n",
    "`[1] Peter Lodahl, Sahand Mahmoodian, and Søren Stobbe, \"Interfacing single photons and single quantum dots with photonic nanostructures,\" Rev. Mod. Phys. 87, 347 (2015)` [DOI: 10.1103/RevModPhys.87.347](<https://doi.org/10.1103/RevModPhys.87.347>)\n",
    "\n",
    "`[2] R. Coccioli, M. Boroditsky, K.W. Kim, Y. Rahmat-Samii, and E. Yablonovitch, \"Smallest possible electromagnetic mode volume in a dielectric cavity,\"  IEE Proceedings - Optoelectronics 145(6), 391 – 397 (1998)` [DOI: 10.1049/ip-opt:19982468](<https://doi.org/10.1049/ip-opt:19982468>)\n",
    "\n",
    "`[3] P. T. Kristensen, C. Van Vlack, and S. Hughes, \"Generalized effective mode volume for leaky optical cavities,\" Opt. Lett. 37, 1649-1651 (2012)` [DOI: 10.1364/OL.37.001649](<https://doi.org/10.1364/OL.37.001649>)\n",
    "\n",
    "`[4] Y. Xu, J. S. Vučković, R. K. Lee, O. J. Painter, A. Scherer, and A. Yariv, \"Finite-difference time-domain calculation of spontaneous emission lifetime in a microcavity,\" J. Opt. Soc. Am. B 16, 465-474 (1999)` [DOI: 10.1364/JOSAB.16.000465](<https://doi.org/10.1364/JOSAB.16.000465>)"
   ]
  },
  {
   "cell_type": "code",
   "execution_count": 1,
   "metadata": {},
   "outputs": [],
   "source": [
    "# Standard python imports.\n",
    "import numpy as np\n",
    "import matplotlib.pyplot as plt\n",
    "\n",
    "# Tidy3D imports.\n",
    "import tidy3d as td\n",
    "import tidy3d.web as web\n",
    "from tidy3d.plugins.resonance import ResonanceFinder"
   ]
  },
  {
   "cell_type": "markdown",
   "metadata": {},
   "source": [
    "## PhC L3 Cavity Set Up\n",
    "To illustrate the calculation of cavity quality factor, effective mode volume, and Purcell factor, we will build an L3 PhC nanocavity. The cavity parameters were obtained from Fig. 23 of `[1]`."
   ]
  },
  {
   "cell_type": "code",
   "execution_count": 2,
   "metadata": {},
   "outputs": [
    {
     "name": "stdout",
     "output_type": "stream",
     "text": [
      "Total runtime = 5.52 ps\n",
      "Start monitoring fields after 0.55 ps\n"
     ]
    }
   ],
   "source": [
    "# PhC nanocavity geometry.\n",
    "a = 0.240\n",
    "r = 0.3 * a\n",
    "t = 0.6 * a\n",
    "r_1 = 0.24 * a\n",
    "d_1 = 0.16 * a\n",
    "n_x = 21\n",
    "n_y = 17\n",
    "\n",
    "# PhC nanocavity material.\n",
    "n = 3.46\n",
    "mat_slab = td.Medium(permittivity=n**2)\n",
    "mat_hole = td.Medium(permittivity=1)\n",
    "\n",
    "# Simulation wavelength.\n",
    "wl_min = 0.90\n",
    "wl_max = 0.92\n",
    "n_wl = 21\n",
    "wl_c = (wl_min + wl_max) / 2\n",
    "wl_range = np.linspace(wl_min, wl_max, n_wl)\n",
    "freq_c = td.C_0 / wl_c\n",
    "freq_range = td.C_0 / wl_range\n",
    "freq_bw = 0.5 * (freq_range[0] - freq_range[-1])\n",
    "\n",
    "# Simulation runtime.\n",
    "runtime_fwidth = 20.0  # In units of 1/frequency bandwidth of the source.\n",
    "t_start_fwidth = 2.0  # Time to start monitoring after source has decayed, units of 1/frequency bandwidth.\n",
    "run_time = runtime_fwidth / freq_bw\n",
    "t_start = t_start_fwidth / freq_bw\n",
    "print(f\"Total runtime = {(run_time*1e12):.2f} ps\")\n",
    "print(f\"Start monitoring fields after {(t_start*1e12):.2f} ps\")"
   ]
  },
  {
   "cell_type": "markdown",
   "metadata": {},
   "source": [
    "The following function was adapted from the notebook [Defining common photonic crystal structures](https://www.flexcompute.com/tidy3d/examples/notebooks/PhotonicCrystalsComponents.html) and is employed to create the L3 PhC nanocavity holes."
   ]
  },
  {
   "cell_type": "code",
   "execution_count": 3,
   "metadata": {},
   "outputs": [],
   "source": [
    "def hex_l_cavity(\n",
    "    R: float = 0.26,\n",
    "    side_R: float = 0.1,\n",
    "    del_R: float = 0.0,\n",
    "    spacing_x: float = 0,\n",
    "    spacing_y: float = 0,\n",
    "    n_x: int = 34,\n",
    "    n_y: int = 17,\n",
    "    height: float = 0.22,\n",
    "    mat_hole: td.Medium = td.Medium(permittivity=1),\n",
    ") -> td.Structure:\n",
    "    # parameters\n",
    "    # ------------------------------------------------------------\n",
    "    # R: radius of the cylinders (um)\n",
    "    # side_R: radii of the two ends of the L-cavity (um)\n",
    "    # del_R: shift of the two ends of the L-cavity (um)\n",
    "    # spacing_x: distance between centers of cylinders in x direction (um)\n",
    "    # spacing_y: distance between centers of cylinders in y direction (um)\n",
    "    # n_x: number of cylinders in x direction\n",
    "    # n_y: number of cylinders in y direction\n",
    "    # height: height of cylinders\n",
    "    # mat_hole: medium of the PhC cylinders\n",
    "\n",
    "    x0 = 0  # x coordinate of center of the array (um).\n",
    "    y0 = 0  # y coordinate of center of the array (um).\n",
    "    z0 = 0  # z coordinate of center of the array (um).\n",
    "    l_number = 3  # Number of cylinders removed from center (along x direction).\n",
    "    reference_plane = \"bottom\"  # Reference plane.\n",
    "    sidewall_angle = 0  # Angle slant of cylinders.\n",
    "    axis = 2  # Cylinders axis.\n",
    "\n",
    "    cylinders = []\n",
    "    if n_y % 2 == 0:\n",
    "        n_y -= 1  # only odd numbers for n_y work for symmetry\n",
    "\n",
    "    n_middle = n_x - n_x % 2 + l_number % 2\n",
    "\n",
    "    for i in range(-(n_y // 2), n_y // 2 + 1):  # go up columns\n",
    "        n_row = (\n",
    "            n_middle + (i % 2) * (-1) ** l_number\n",
    "        )  # calculates number of cylinders in current row\n",
    "        for j in range(-n_row + 1, n_row + 1, 2):  # go along rows\n",
    "            if i != 0 or abs(j) > l_number:  # don't populate cavity with cylinders\n",
    "                var_radius = R\n",
    "                shift_x = 0\n",
    "                if i == 0 and (\n",
    "                    abs(j) == l_number + 1\n",
    "                ):  # checks if cylinder is on side of cavity\n",
    "                    var_radius = side_R\n",
    "                    shift_x = del_R * np.sign(j)\n",
    "                c = td.Cylinder(\n",
    "                    axis=axis,\n",
    "                    sidewall_angle=sidewall_angle,\n",
    "                    reference_plane=reference_plane,\n",
    "                    radius=var_radius,\n",
    "                    center=(x0 + j * spacing_x + shift_x, y0 + i * spacing_y, z0),\n",
    "                    length=height,\n",
    "                )\n",
    "                cylinders.append(c)\n",
    "    structure = td.Structure(\n",
    "        geometry=td.GeometryGroup(geometries=cylinders), medium=mat_hole\n",
    "    )\n",
    "    return structure"
   ]
  },
  {
   "cell_type": "markdown",
   "metadata": {},
   "source": [
    "Next, we will define the PhC structure. We consider a hexagonal lattice to calculate the periodicity in `x`- and `y`-directions."
   ]
  },
  {
   "cell_type": "code",
   "execution_count": 4,
   "metadata": {},
   "outputs": [],
   "source": [
    "# PhC periodicity\n",
    "p_x = a * np.cos(60 * np.pi / 180)\n",
    "p_y = a * np.sin(60 * np.pi / 180)\n",
    "\n",
    "# Simulation size.\n",
    "pml_gap = 0.6 * wl_max\n",
    "size_x = 2 * n_x * p_x\n",
    "size_y = n_y * p_y\n",
    "size_z = t + 2 * pml_gap\n",
    "_inf = 10\n",
    "\n",
    "# PhC slab.\n",
    "phc_slab = td.Structure(\n",
    "    geometry=td.Box.from_bounds(\n",
    "        rmin=(-_inf - size_x / 2, -_inf - size_y / 2, -t / 2),\n",
    "        rmax=(+_inf + size_x / 2, +_inf + size_y / 2, +t / 2),\n",
    "    ),\n",
    "    medium=mat_slab,\n",
    ")\n",
    "\n",
    "# PhC holes.\n",
    "phc_holes = hex_l_cavity(\n",
    "    R=r,\n",
    "    side_R=r_1,\n",
    "    del_R=d_1,\n",
    "    spacing_x=p_x,\n",
    "    spacing_y=p_y,\n",
    "    n_x=n_x,\n",
    "    n_y=n_y,\n",
    "    height=t,\n",
    "    mat_hole=mat_hole,\n",
    ")"
   ]
  },
  {
   "cell_type": "markdown",
   "metadata": {},
   "source": [
    "We will include a point dipole at the center of the simulation domain to excite only the fundamental L3 PhC nanocavity mode. The [Resonance Finder](https://docs.flexcompute.com/projects/tidy3d/en/latest/api/_autosummary/tidy3d.plugins.resonance.ResonanceFinder.html#tidy3d.plugins.resonance.ResonanceFinder.html) plugin needs at least one `FieldTimeMonitor` to record the field as a function of time. Importantly, we start the monitors after the source pulse has decayed."
   ]
  },
  {
   "cell_type": "code",
   "execution_count": 5,
   "metadata": {},
   "outputs": [],
   "source": [
    "# Point dipole source.\n",
    "pulse = td.GaussianPulse(freq0=freq_c, fwidth=freq_bw)\n",
    "dip_source = td.PointDipole(\n",
    "    source_time=pulse,\n",
    "    center=(0, 0, 0),\n",
    "    polarization=\"Ey\",\n",
    "    name=\"dip_source\",\n",
    ")\n",
    "\n",
    "# Field time monitor.\n",
    "mon_fieldtime = td.FieldTimeMonitor(\n",
    "    fields=[\"Ey\"],\n",
    "    center=(0, 0, 0),\n",
    "    size=(0, 0, 0),\n",
    "    start=t_start,\n",
    "    name=\"monitor_time\",\n",
    ")"
   ]
  },
  {
   "cell_type": "markdown",
   "metadata": {},
   "source": [
    "In the simulation, we will include a 3D `FieldMonitor` to calculate the cavity effective mode volume. We have obtained the resonance frequency from a previous simulation."
   ]
  },
  {
   "cell_type": "code",
   "execution_count": 6,
   "metadata": {},
   "outputs": [],
   "source": [
    "# Mode resonance frequency.\n",
    "mode_freq = 3.291688e14\n",
    "\n",
    "# Apodization to exclude the source pulse from the frequency-domain monitors.\n",
    "apod = td.ApodizationSpec(start=t_start, width=run_time - t_start)\n",
    "\n",
    "# Field monitor.\n",
    "mon_box = td.Box(center=(0, 0, 0), size=(size_x / 2, size_y / 2, 4 * t))\n",
    "mon_field = td.FieldMonitor(\n",
    "    center=mon_box.center,\n",
    "    size=mon_box.size,\n",
    "    freqs=mode_freq,\n",
    "    name=\"field_vol\",\n",
    "    colocate=False,\n",
    "    apodization=apod,\n",
    ")"
   ]
  },
  {
   "cell_type": "markdown",
   "metadata": {},
   "source": [
    "Now, we can build and run the simulation. It is worth mentioning that we set `shutoff=0` to run the simulation only for the `run_time` period. Otherwise, the simulation can take a very long time for the fields to decay fully."
   ]
  },
  {
   "cell_type": "code",
   "execution_count": 9,
   "metadata": {},
   "outputs": [
    {
     "data": {
      "text/html": [
       "<pre style=\"white-space:pre;overflow-x:auto;line-height:normal;font-family:Menlo,'DejaVu Sans Mono',consolas,'Courier New',monospace\"><span style=\"color: #7fbfbf; text-decoration-color: #7fbfbf\">08:51:58 EST </span><span style=\"color: #800000; text-decoration-color: #800000\">WARNING: Structure at structures</span><span style=\"color: #800000; text-decoration-color: #800000; font-weight: bold\">[</span><span style=\"color: #008080; text-decoration-color: #008080; font-weight: bold\">1</span><span style=\"color: #800000; text-decoration-color: #800000; font-weight: bold\">]</span><span style=\"color: #800000; text-decoration-color: #800000\"> was detected as being less than</span>\n",
       "<span style=\"color: #7fbfbf; text-decoration-color: #7fbfbf\">             </span><span style=\"color: #800000; text-decoration-color: #800000\">half of a central wavelength from a PML on side x-min. To avoid    </span>\n",
       "<span style=\"color: #7fbfbf; text-decoration-color: #7fbfbf\">             </span><span style=\"color: #800000; text-decoration-color: #800000\">inaccurate results or divergence, please increase gap between any  </span>\n",
       "<span style=\"color: #7fbfbf; text-decoration-color: #7fbfbf\">             </span><span style=\"color: #800000; text-decoration-color: #800000\">structures and PML or fully extend structure through the pml.      </span>\n",
       "</pre>\n"
      ],
      "text/plain": [
       "\u001b[2;36m08:51:58 EST\u001b[0m\u001b[2;36m \u001b[0m\u001b[31mWARNING: Structure at structures\u001b[0m\u001b[1;31m[\u001b[0m\u001b[1;36m1\u001b[0m\u001b[1;31m]\u001b[0m\u001b[31m was detected as being less than\u001b[0m\n",
       "\u001b[2;36m             \u001b[0m\u001b[31mhalf of a central wavelength from a PML on side x-min. To avoid    \u001b[0m\n",
       "\u001b[2;36m             \u001b[0m\u001b[31minaccurate results or divergence, please increase gap between any  \u001b[0m\n",
       "\u001b[2;36m             \u001b[0m\u001b[31mstructures and PML or fully extend structure through the pml.      \u001b[0m\n"
      ]
     },
     "metadata": {},
     "output_type": "display_data"
    },
    {
     "data": {
      "text/html": [
       "<pre style=\"white-space:pre;overflow-x:auto;line-height:normal;font-family:Menlo,'DejaVu Sans Mono',consolas,'Courier New',monospace\"><span style=\"color: #7fbfbf; text-decoration-color: #7fbfbf\">             </span><span style=\"color: #800000; text-decoration-color: #800000\">WARNING: Suppressed </span><span style=\"color: #008080; text-decoration-color: #008080; font-weight: bold\">3</span><span style=\"color: #800000; text-decoration-color: #800000\"> WARNING messages.                            </span>\n",
       "</pre>\n"
      ],
      "text/plain": [
       "\u001b[2;36m            \u001b[0m\u001b[2;36m \u001b[0m\u001b[31mWARNING: Suppressed \u001b[0m\u001b[1;36m3\u001b[0m\u001b[31m WARNING messages.                            \u001b[0m\n"
      ]
     },
     "metadata": {},
     "output_type": "display_data"
    },
    {
     "data": {
      "text/html": [
       "\n",
       "    <iframe id=\"simulation-viewer170904191812695499\" src=https://feature-simulation-viewer.d3a9gfg7glllfq.amplifyapp.com/simulation-viewer?uuid=170904191812695499 width=\"400\" height=\"400\" allowfullscreen=\"true\"></iframe>\n",
       "    <script>\n",
       "        \n",
       "    window.postMessageToViewer170904191812695499 = event => {\n",
       "        if(event.data.type === 'viewer'&&event.data.uuid==='170904191812695499'){\n",
       "            document.getElementById('simulation-viewer170904191812695499').contentWindow.postMessage({ type: 'jupyter', uuid:'170904191812695499', value:{\"type\": \"Simulation\", \"center\": [0.0, 0.0, 0.0], \"size\": [5.040000000000001, 3.5333836474405094, 1.248], \"medium\": {\"name\": null, \"frequency_range\": null, \"allow_gain\": false, \"nonlinear_spec\": null, \"modulation_spec\": null, \"heat_spec\": null, \"type\": \"Medium\", \"permittivity\": 1.0, \"conductivity\": 0.0}, \"structures\": [{\"geometry\": {\"type\": \"Box\", \"center\": [0.0, 0.0, 0.0], \"size\": [25.04, 23.53338364744051, 0.144]}, \"name\": null, \"type\": \"Structure\", \"medium\": {\"name\": null, \"frequency_range\": null, \"allow_gain\": false, \"nonlinear_spec\": null, \"modulation_spec\": null, \"heat_spec\": null, \"type\": \"Medium\", \"permittivity\": 11.9716, \"conductivity\": 0.0}}, {\"geometry\": {\"type\": \"GeometryGroup\", \"geometries\": [{\"type\": \"Cylinder\", \"axis\": 2, \"sidewall_angle\": 0.0, \"reference_plane\": \"bottom\", \"radius\": 0.072, \"center\": [-2.4000000000000004, -1.662768775266122, 0.0], \"length\": 0.144}, {\"type\": \"Cylinder\", \"axis\": 2, \"sidewall_angle\": 0.0, \"reference_plane\": \"bottom\", \"radius\": 0.072, \"center\": [-2.1600000000000006, -1.662768775266122, 0.0], \"length\": 0.144}, {\"type\": \"Cylinder\", \"axis\": 2, \"sidewall_angle\": 0.0, \"reference_plane\": \"bottom\", \"radius\": 0.072, \"center\": [-1.9200000000000004, -1.662768775266122, 0.0], \"length\": 0.144}, {\"type\": \"Cylinder\", \"axis\": 2, \"sidewall_angle\": 0.0, \"reference_plane\": \"bottom\", \"radius\": 0.072, \"center\": [-1.6800000000000004, -1.662768775266122, 0.0], \"length\": 0.144}, {\"type\": \"Cylinder\", \"axis\": 2, \"sidewall_angle\": 0.0, \"reference_plane\": \"bottom\", \"radius\": 0.072, \"center\": [-1.4400000000000004, -1.662768775266122, 0.0], \"length\": 0.144}, {\"type\": \"Cylinder\", \"axis\": 2, \"sidewall_angle\": 0.0, \"reference_plane\": \"bottom\", \"radius\": 0.072, \"center\": [-1.2000000000000002, -1.662768775266122, 0.0], \"length\": 0.144}, {\"type\": \"Cylinder\", \"axis\": 2, \"sidewall_angle\": 0.0, \"reference_plane\": \"bottom\", \"radius\": 0.072, \"center\": [-0.9600000000000002, -1.662768775266122, 0.0], \"length\": 0.144}, {\"type\": \"Cylinder\", \"axis\": 2, \"sidewall_angle\": 0.0, \"reference_plane\": \"bottom\", \"radius\": 0.072, \"center\": [-0.7200000000000002, -1.662768775266122, 0.0], \"length\": 0.144}, {\"type\": \"Cylinder\", \"axis\": 2, \"sidewall_angle\": 0.0, \"reference_plane\": \"bottom\", \"radius\": 0.072, \"center\": [-0.4800000000000001, -1.662768775266122, 0.0], \"length\": 0.144}, {\"type\": \"Cylinder\", \"axis\": 2, \"sidewall_angle\": 0.0, \"reference_plane\": \"bottom\", \"radius\": 0.072, \"center\": [-0.24000000000000005, -1.662768775266122, 0.0], \"length\": 0.144}, {\"type\": \"Cylinder\", \"axis\": 2, \"sidewall_angle\": 0.0, \"reference_plane\": \"bottom\", \"radius\": 0.072, \"center\": [0.0, -1.662768775266122, 0.0], \"length\": 0.144}, {\"type\": \"Cylinder\", \"axis\": 2, \"sidewall_angle\": 0.0, \"reference_plane\": \"bottom\", \"radius\": 0.072, \"center\": [0.24000000000000005, -1.662768775266122, 0.0], \"length\": 0.144}, {\"type\": \"Cylinder\", \"axis\": 2, \"sidewall_angle\": 0.0, \"reference_plane\": \"bottom\", \"radius\": 0.072, \"center\": [0.4800000000000001, -1.662768775266122, 0.0], \"length\": 0.144}, {\"type\": \"Cylinder\", \"axis\": 2, \"sidewall_angle\": 0.0, \"reference_plane\": \"bottom\", \"radius\": 0.072, \"center\": [0.7200000000000002, -1.662768775266122, 0.0], \"length\": 0.144}, {\"type\": \"Cylinder\", \"axis\": 2, \"sidewall_angle\": 0.0, \"reference_plane\": \"bottom\", \"radius\": 0.072, \"center\": [0.9600000000000002, -1.662768775266122, 0.0], \"length\": 0.144}, {\"type\": \"Cylinder\", \"axis\": 2, \"sidewall_angle\": 0.0, \"reference_plane\": \"bottom\", \"radius\": 0.072, \"center\": [1.2000000000000002, -1.662768775266122, 0.0], \"length\": 0.144}, {\"type\": \"Cylinder\", \"axis\": 2, \"sidewall_angle\": 0.0, \"reference_plane\": \"bottom\", \"radius\": 0.072, \"center\": [1.4400000000000004, -1.662768775266122, 0.0], \"length\": 0.144}, {\"type\": \"Cylinder\", \"axis\": 2, \"sidewall_angle\": 0.0, \"reference_plane\": \"bottom\", \"radius\": 0.072, \"center\": [1.6800000000000004, -1.662768775266122, 0.0], \"length\": 0.144}, {\"type\": \"Cylinder\", \"axis\": 2, \"sidewall_angle\": 0.0, \"reference_plane\": \"bottom\", \"radius\": 0.072, \"center\": [1.9200000000000004, -1.662768775266122, 0.0], \"length\": 0.144}, {\"type\": \"Cylinder\", \"axis\": 2, \"sidewall_angle\": 0.0, \"reference_plane\": \"bottom\", \"radius\": 0.072, \"center\": [2.1600000000000006, -1.662768775266122, 0.0], \"length\": 0.144}, {\"type\": \"Cylinder\", \"axis\": 2, \"sidewall_angle\": 0.0, \"reference_plane\": \"bottom\", \"radius\": 0.072, \"center\": [2.4000000000000004, -1.662768775266122, 0.0], \"length\": 0.144}, {\"type\": \"Cylinder\", \"axis\": 2, \"sidewall_angle\": 0.0, \"reference_plane\": \"bottom\", \"radius\": 0.072, \"center\": [-2.2800000000000002, -1.4549226783578568, 0.0], \"length\": 0.144}, {\"type\": \"Cylinder\", \"axis\": 2, \"sidewall_angle\": 0.0, \"reference_plane\": \"bottom\", \"radius\": 0.072, \"center\": [-2.0400000000000005, -1.4549226783578568, 0.0], \"length\": 0.144}, {\"type\": \"Cylinder\", \"axis\": 2, \"sidewall_angle\": 0.0, \"reference_plane\": \"bottom\", \"radius\": 0.072, \"center\": [-1.8000000000000003, -1.4549226783578568, 0.0], \"length\": 0.144}, {\"type\": \"Cylinder\", \"axis\": 2, \"sidewall_angle\": 0.0, \"reference_plane\": \"bottom\", \"radius\": 0.072, \"center\": [-1.5600000000000003, -1.4549226783578568, 0.0], \"length\": 0.144}, {\"type\": \"Cylinder\", \"axis\": 2, \"sidewall_angle\": 0.0, \"reference_plane\": \"bottom\", \"radius\": 0.072, \"center\": [-1.3200000000000003, -1.4549226783578568, 0.0], \"length\": 0.144}, {\"type\": \"Cylinder\", \"axis\": 2, \"sidewall_angle\": 0.0, \"reference_plane\": \"bottom\", \"radius\": 0.072, \"center\": [-1.0800000000000003, -1.4549226783578568, 0.0], \"length\": 0.144}, {\"type\": \"Cylinder\", \"axis\": 2, \"sidewall_angle\": 0.0, \"reference_plane\": \"bottom\", \"radius\": 0.072, \"center\": [-0.8400000000000002, -1.4549226783578568, 0.0], \"length\": 0.144}, {\"type\": \"Cylinder\", \"axis\": 2, \"sidewall_angle\": 0.0, \"reference_plane\": \"bottom\", \"radius\": 0.072, \"center\": [-0.6000000000000001, -1.4549226783578568, 0.0], \"length\": 0.144}, {\"type\": \"Cylinder\", \"axis\": 2, \"sidewall_angle\": 0.0, \"reference_plane\": \"bottom\", \"radius\": 0.072, \"center\": [-0.3600000000000001, -1.4549226783578568, 0.0], \"length\": 0.144}, {\"type\": \"Cylinder\", \"axis\": 2, \"sidewall_angle\": 0.0, \"reference_plane\": \"bottom\", \"radius\": 0.072, \"center\": [-0.12000000000000002, -1.4549226783578568, 0.0], \"length\": 0.144}, {\"type\": \"Cylinder\", \"axis\": 2, \"sidewall_angle\": 0.0, \"reference_plane\": \"bottom\", \"radius\": 0.072, \"center\": [0.12000000000000002, -1.4549226783578568, 0.0], \"length\": 0.144}, {\"type\": \"Cylinder\", \"axis\": 2, \"sidewall_angle\": 0.0, \"reference_plane\": \"bottom\", \"radius\": 0.072, \"center\": [0.3600000000000001, -1.4549226783578568, 0.0], \"length\": 0.144}, {\"type\": \"Cylinder\", \"axis\": 2, \"sidewall_angle\": 0.0, \"reference_plane\": \"bottom\", \"radius\": 0.072, \"center\": [0.6000000000000001, -1.4549226783578568, 0.0], \"length\": 0.144}, {\"type\": \"Cylinder\", \"axis\": 2, \"sidewall_angle\": 0.0, \"reference_plane\": \"bottom\", \"radius\": 0.072, \"center\": [0.8400000000000002, -1.4549226783578568, 0.0], \"length\": 0.144}, {\"type\": \"Cylinder\", \"axis\": 2, \"sidewall_angle\": 0.0, \"reference_plane\": \"bottom\", \"radius\": 0.072, \"center\": [1.0800000000000003, -1.4549226783578568, 0.0], \"length\": 0.144}, {\"type\": \"Cylinder\", \"axis\": 2, \"sidewall_angle\": 0.0, \"reference_plane\": \"bottom\", \"radius\": 0.072, \"center\": [1.3200000000000003, -1.4549226783578568, 0.0], \"length\": 0.144}, {\"type\": \"Cylinder\", \"axis\": 2, \"sidewall_angle\": 0.0, \"reference_plane\": \"bottom\", \"radius\": 0.072, \"center\": [1.5600000000000003, -1.4549226783578568, 0.0], \"length\": 0.144}, {\"type\": \"Cylinder\", \"axis\": 2, \"sidewall_angle\": 0.0, \"reference_plane\": \"bottom\", \"radius\": 0.072, \"center\": [1.8000000000000003, -1.4549226783578568, 0.0], \"length\": 0.144}, {\"type\": \"Cylinder\", \"axis\": 2, \"sidewall_angle\": 0.0, \"reference_plane\": \"bottom\", \"radius\": 0.072, \"center\": [2.0400000000000005, -1.4549226783578568, 0.0], \"length\": 0.144}, {\"type\": \"Cylinder\", \"axis\": 2, \"sidewall_angle\": 0.0, \"reference_plane\": \"bottom\", \"radius\": 0.072, \"center\": [2.2800000000000002, -1.4549226783578568, 0.0], \"length\": 0.144}, {\"type\": \"Cylinder\", \"axis\": 2, \"sidewall_angle\": 0.0, \"reference_plane\": \"bottom\", \"radius\": 0.072, \"center\": [-2.4000000000000004, -1.2470765814495914, 0.0], \"length\": 0.144}, {\"type\": \"Cylinder\", \"axis\": 2, \"sidewall_angle\": 0.0, \"reference_plane\": \"bottom\", \"radius\": 0.072, \"center\": [-2.1600000000000006, -1.2470765814495914, 0.0], \"length\": 0.144}, {\"type\": \"Cylinder\", \"axis\": 2, \"sidewall_angle\": 0.0, \"reference_plane\": \"bottom\", \"radius\": 0.072, \"center\": [-1.9200000000000004, -1.2470765814495914, 0.0], \"length\": 0.144}, {\"type\": \"Cylinder\", \"axis\": 2, \"sidewall_angle\": 0.0, \"reference_plane\": \"bottom\", \"radius\": 0.072, \"center\": [-1.6800000000000004, -1.2470765814495914, 0.0], \"length\": 0.144}, {\"type\": \"Cylinder\", \"axis\": 2, \"sidewall_angle\": 0.0, \"reference_plane\": \"bottom\", \"radius\": 0.072, \"center\": [-1.4400000000000004, -1.2470765814495914, 0.0], \"length\": 0.144}, {\"type\": \"Cylinder\", \"axis\": 2, \"sidewall_angle\": 0.0, \"reference_plane\": \"bottom\", \"radius\": 0.072, \"center\": [-1.2000000000000002, -1.2470765814495914, 0.0], \"length\": 0.144}, {\"type\": \"Cylinder\", \"axis\": 2, \"sidewall_angle\": 0.0, \"reference_plane\": \"bottom\", \"radius\": 0.072, \"center\": [-0.9600000000000002, -1.2470765814495914, 0.0], \"length\": 0.144}, {\"type\": \"Cylinder\", \"axis\": 2, \"sidewall_angle\": 0.0, \"reference_plane\": \"bottom\", \"radius\": 0.072, \"center\": [-0.7200000000000002, -1.2470765814495914, 0.0], \"length\": 0.144}, {\"type\": \"Cylinder\", \"axis\": 2, \"sidewall_angle\": 0.0, \"reference_plane\": \"bottom\", \"radius\": 0.072, \"center\": [-0.4800000000000001, -1.2470765814495914, 0.0], \"length\": 0.144}, {\"type\": \"Cylinder\", \"axis\": 2, \"sidewall_angle\": 0.0, \"reference_plane\": \"bottom\", \"radius\": 0.072, \"center\": [-0.24000000000000005, -1.2470765814495914, 0.0], \"length\": 0.144}, {\"type\": \"Cylinder\", \"axis\": 2, \"sidewall_angle\": 0.0, \"reference_plane\": \"bottom\", \"radius\": 0.072, \"center\": [0.0, -1.2470765814495914, 0.0], \"length\": 0.144}, {\"type\": \"Cylinder\", \"axis\": 2, \"sidewall_angle\": 0.0, \"reference_plane\": \"bottom\", \"radius\": 0.072, \"center\": [0.24000000000000005, -1.2470765814495914, 0.0], \"length\": 0.144}, {\"type\": \"Cylinder\", \"axis\": 2, \"sidewall_angle\": 0.0, \"reference_plane\": \"bottom\", \"radius\": 0.072, \"center\": [0.4800000000000001, -1.2470765814495914, 0.0], \"length\": 0.144}, {\"type\": \"Cylinder\", \"axis\": 2, \"sidewall_angle\": 0.0, \"reference_plane\": \"bottom\", \"radius\": 0.072, \"center\": [0.7200000000000002, -1.2470765814495914, 0.0], \"length\": 0.144}, {\"type\": \"Cylinder\", \"axis\": 2, \"sidewall_angle\": 0.0, \"reference_plane\": \"bottom\", \"radius\": 0.072, \"center\": [0.9600000000000002, -1.2470765814495914, 0.0], \"length\": 0.144}, {\"type\": \"Cylinder\", \"axis\": 2, \"sidewall_angle\": 0.0, \"reference_plane\": \"bottom\", \"radius\": 0.072, \"center\": [1.2000000000000002, -1.2470765814495914, 0.0], \"length\": 0.144}, {\"type\": \"Cylinder\", \"axis\": 2, \"sidewall_angle\": 0.0, \"reference_plane\": \"bottom\", \"radius\": 0.072, \"center\": [1.4400000000000004, -1.2470765814495914, 0.0], \"length\": 0.144}, {\"type\": \"Cylinder\", \"axis\": 2, \"sidewall_angle\": 0.0, \"reference_plane\": \"bottom\", \"radius\": 0.072, \"center\": [1.6800000000000004, -1.2470765814495914, 0.0], \"length\": 0.144}, {\"type\": \"Cylinder\", \"axis\": 2, \"sidewall_angle\": 0.0, \"reference_plane\": \"bottom\", \"radius\": 0.072, \"center\": [1.9200000000000004, -1.2470765814495914, 0.0], \"length\": 0.144}, {\"type\": \"Cylinder\", \"axis\": 2, \"sidewall_angle\": 0.0, \"reference_plane\": \"bottom\", \"radius\": 0.072, \"center\": [2.1600000000000006, -1.2470765814495914, 0.0], \"length\": 0.144}, {\"type\": \"Cylinder\", \"axis\": 2, \"sidewall_angle\": 0.0, \"reference_plane\": \"bottom\", \"radius\": 0.072, \"center\": [2.4000000000000004, -1.2470765814495914, 0.0], \"length\": 0.144}, {\"type\": \"Cylinder\", \"axis\": 2, \"sidewall_angle\": 0.0, \"reference_plane\": \"bottom\", \"radius\": 0.072, \"center\": [-2.2800000000000002, -1.0392304845413263, 0.0], \"length\": 0.144}, {\"type\": \"Cylinder\", \"axis\": 2, \"sidewall_angle\": 0.0, \"reference_plane\": \"bottom\", \"radius\": 0.072, \"center\": [-2.0400000000000005, -1.0392304845413263, 0.0], \"length\": 0.144}, {\"type\": \"Cylinder\", \"axis\": 2, \"sidewall_angle\": 0.0, \"reference_plane\": \"bottom\", \"radius\": 0.072, \"center\": [-1.8000000000000003, -1.0392304845413263, 0.0], \"length\": 0.144}, {\"type\": \"Cylinder\", \"axis\": 2, \"sidewall_angle\": 0.0, \"reference_plane\": \"bottom\", \"radius\": 0.072, \"center\": [-1.5600000000000003, -1.0392304845413263, 0.0], \"length\": 0.144}, {\"type\": \"Cylinder\", \"axis\": 2, \"sidewall_angle\": 0.0, \"reference_plane\": \"bottom\", \"radius\": 0.072, \"center\": [-1.3200000000000003, -1.0392304845413263, 0.0], \"length\": 0.144}, {\"type\": \"Cylinder\", \"axis\": 2, \"sidewall_angle\": 0.0, \"reference_plane\": \"bottom\", \"radius\": 0.072, \"center\": [-1.0800000000000003, -1.0392304845413263, 0.0], \"length\": 0.144}, {\"type\": \"Cylinder\", \"axis\": 2, \"sidewall_angle\": 0.0, \"reference_plane\": \"bottom\", \"radius\": 0.072, \"center\": [-0.8400000000000002, -1.0392304845413263, 0.0], \"length\": 0.144}, {\"type\": \"Cylinder\", \"axis\": 2, \"sidewall_angle\": 0.0, \"reference_plane\": \"bottom\", \"radius\": 0.072, \"center\": [-0.6000000000000001, -1.0392304845413263, 0.0], \"length\": 0.144}, {\"type\": \"Cylinder\", \"axis\": 2, \"sidewall_angle\": 0.0, \"reference_plane\": \"bottom\", \"radius\": 0.072, \"center\": [-0.3600000000000001, -1.0392304845413263, 0.0], \"length\": 0.144}, {\"type\": \"Cylinder\", \"axis\": 2, \"sidewall_angle\": 0.0, \"reference_plane\": \"bottom\", \"radius\": 0.072, \"center\": [-0.12000000000000002, -1.0392304845413263, 0.0], \"length\": 0.144}, {\"type\": \"Cylinder\", \"axis\": 2, \"sidewall_angle\": 0.0, \"reference_plane\": \"bottom\", \"radius\": 0.072, \"center\": [0.12000000000000002, -1.0392304845413263, 0.0], \"length\": 0.144}, {\"type\": \"Cylinder\", \"axis\": 2, \"sidewall_angle\": 0.0, \"reference_plane\": \"bottom\", \"radius\": 0.072, \"center\": [0.3600000000000001, -1.0392304845413263, 0.0], \"length\": 0.144}, {\"type\": \"Cylinder\", \"axis\": 2, \"sidewall_angle\": 0.0, \"reference_plane\": \"bottom\", \"radius\": 0.072, \"center\": [0.6000000000000001, -1.0392304845413263, 0.0], \"length\": 0.144}, {\"type\": \"Cylinder\", \"axis\": 2, \"sidewall_angle\": 0.0, \"reference_plane\": \"bottom\", \"radius\": 0.072, \"center\": [0.8400000000000002, -1.0392304845413263, 0.0], \"length\": 0.144}, {\"type\": \"Cylinder\", \"axis\": 2, \"sidewall_angle\": 0.0, \"reference_plane\": \"bottom\", \"radius\": 0.072, \"center\": [1.0800000000000003, -1.0392304845413263, 0.0], \"length\": 0.144}, {\"type\": \"Cylinder\", \"axis\": 2, \"sidewall_angle\": 0.0, \"reference_plane\": \"bottom\", \"radius\": 0.072, \"center\": [1.3200000000000003, -1.0392304845413263, 0.0], \"length\": 0.144}, {\"type\": \"Cylinder\", \"axis\": 2, \"sidewall_angle\": 0.0, \"reference_plane\": \"bottom\", \"radius\": 0.072, \"center\": [1.5600000000000003, -1.0392304845413263, 0.0], \"length\": 0.144}, {\"type\": \"Cylinder\", \"axis\": 2, \"sidewall_angle\": 0.0, \"reference_plane\": \"bottom\", \"radius\": 0.072, \"center\": [1.8000000000000003, -1.0392304845413263, 0.0], \"length\": 0.144}, {\"type\": \"Cylinder\", \"axis\": 2, \"sidewall_angle\": 0.0, \"reference_plane\": \"bottom\", \"radius\": 0.072, \"center\": [2.0400000000000005, -1.0392304845413263, 0.0], \"length\": 0.144}, {\"type\": \"Cylinder\", \"axis\": 2, \"sidewall_angle\": 0.0, \"reference_plane\": \"bottom\", \"radius\": 0.072, \"center\": [2.2800000000000002, -1.0392304845413263, 0.0], \"length\": 0.144}, {\"type\": \"Cylinder\", \"axis\": 2, \"sidewall_angle\": 0.0, \"reference_plane\": \"bottom\", \"radius\": 0.072, \"center\": [-2.4000000000000004, -0.831384387633061, 0.0], \"length\": 0.144}, {\"type\": \"Cylinder\", \"axis\": 2, \"sidewall_angle\": 0.0, \"reference_plane\": \"bottom\", \"radius\": 0.072, \"center\": [-2.1600000000000006, -0.831384387633061, 0.0], \"length\": 0.144}, {\"type\": \"Cylinder\", \"axis\": 2, \"sidewall_angle\": 0.0, \"reference_plane\": \"bottom\", \"radius\": 0.072, \"center\": [-1.9200000000000004, -0.831384387633061, 0.0], \"length\": 0.144}, {\"type\": \"Cylinder\", \"axis\": 2, \"sidewall_angle\": 0.0, \"reference_plane\": \"bottom\", \"radius\": 0.072, \"center\": [-1.6800000000000004, -0.831384387633061, 0.0], \"length\": 0.144}, {\"type\": \"Cylinder\", \"axis\": 2, \"sidewall_angle\": 0.0, \"reference_plane\": \"bottom\", \"radius\": 0.072, \"center\": [-1.4400000000000004, -0.831384387633061, 0.0], \"length\": 0.144}, {\"type\": \"Cylinder\", \"axis\": 2, \"sidewall_angle\": 0.0, \"reference_plane\": \"bottom\", \"radius\": 0.072, \"center\": [-1.2000000000000002, -0.831384387633061, 0.0], \"length\": 0.144}, {\"type\": \"Cylinder\", \"axis\": 2, \"sidewall_angle\": 0.0, \"reference_plane\": \"bottom\", \"radius\": 0.072, \"center\": [-0.9600000000000002, -0.831384387633061, 0.0], \"length\": 0.144}, {\"type\": \"Cylinder\", \"axis\": 2, \"sidewall_angle\": 0.0, \"reference_plane\": \"bottom\", \"radius\": 0.072, \"center\": [-0.7200000000000002, -0.831384387633061, 0.0], \"length\": 0.144}, {\"type\": \"Cylinder\", \"axis\": 2, \"sidewall_angle\": 0.0, \"reference_plane\": \"bottom\", \"radius\": 0.072, \"center\": [-0.4800000000000001, -0.831384387633061, 0.0], \"length\": 0.144}, {\"type\": \"Cylinder\", \"axis\": 2, \"sidewall_angle\": 0.0, \"reference_plane\": \"bottom\", \"radius\": 0.072, \"center\": [-0.24000000000000005, -0.831384387633061, 0.0], \"length\": 0.144}, {\"type\": \"Cylinder\", \"axis\": 2, \"sidewall_angle\": 0.0, \"reference_plane\": \"bottom\", \"radius\": 0.072, \"center\": [0.0, -0.831384387633061, 0.0], \"length\": 0.144}, {\"type\": \"Cylinder\", \"axis\": 2, \"sidewall_angle\": 0.0, \"reference_plane\": \"bottom\", \"radius\": 0.072, \"center\": [0.24000000000000005, -0.831384387633061, 0.0], \"length\": 0.144}, {\"type\": \"Cylinder\", \"axis\": 2, \"sidewall_angle\": 0.0, \"reference_plane\": \"bottom\", \"radius\": 0.072, \"center\": [0.4800000000000001, -0.831384387633061, 0.0], \"length\": 0.144}, {\"type\": \"Cylinder\", \"axis\": 2, \"sidewall_angle\": 0.0, \"reference_plane\": \"bottom\", \"radius\": 0.072, \"center\": [0.7200000000000002, -0.831384387633061, 0.0], \"length\": 0.144}, {\"type\": \"Cylinder\", \"axis\": 2, \"sidewall_angle\": 0.0, \"reference_plane\": \"bottom\", \"radius\": 0.072, \"center\": [0.9600000000000002, -0.831384387633061, 0.0], \"length\": 0.144}, {\"type\": \"Cylinder\", \"axis\": 2, \"sidewall_angle\": 0.0, \"reference_plane\": \"bottom\", \"radius\": 0.072, \"center\": [1.2000000000000002, -0.831384387633061, 0.0], \"length\": 0.144}, {\"type\": \"Cylinder\", \"axis\": 2, \"sidewall_angle\": 0.0, \"reference_plane\": \"bottom\", \"radius\": 0.072, \"center\": [1.4400000000000004, -0.831384387633061, 0.0], \"length\": 0.144}, {\"type\": \"Cylinder\", \"axis\": 2, \"sidewall_angle\": 0.0, \"reference_plane\": \"bottom\", \"radius\": 0.072, \"center\": [1.6800000000000004, -0.831384387633061, 0.0], \"length\": 0.144}, {\"type\": \"Cylinder\", \"axis\": 2, \"sidewall_angle\": 0.0, \"reference_plane\": \"bottom\", \"radius\": 0.072, \"center\": [1.9200000000000004, -0.831384387633061, 0.0], \"length\": 0.144}, {\"type\": \"Cylinder\", \"axis\": 2, \"sidewall_angle\": 0.0, \"reference_plane\": \"bottom\", \"radius\": 0.072, \"center\": [2.1600000000000006, -0.831384387633061, 0.0], \"length\": 0.144}, {\"type\": \"Cylinder\", \"axis\": 2, \"sidewall_angle\": 0.0, \"reference_plane\": \"bottom\", \"radius\": 0.072, \"center\": [2.4000000000000004, -0.831384387633061, 0.0], \"length\": 0.144}, {\"type\": \"Cylinder\", \"axis\": 2, \"sidewall_angle\": 0.0, \"reference_plane\": \"bottom\", \"radius\": 0.072, \"center\": [-2.2800000000000002, -0.6235382907247957, 0.0], \"length\": 0.144}, {\"type\": \"Cylinder\", \"axis\": 2, \"sidewall_angle\": 0.0, \"reference_plane\": \"bottom\", \"radius\": 0.072, \"center\": [-2.0400000000000005, -0.6235382907247957, 0.0], \"length\": 0.144}, {\"type\": \"Cylinder\", \"axis\": 2, \"sidewall_angle\": 0.0, \"reference_plane\": \"bottom\", \"radius\": 0.072, \"center\": [-1.8000000000000003, -0.6235382907247957, 0.0], \"length\": 0.144}, {\"type\": \"Cylinder\", \"axis\": 2, \"sidewall_angle\": 0.0, \"reference_plane\": \"bottom\", \"radius\": 0.072, \"center\": [-1.5600000000000003, -0.6235382907247957, 0.0], \"length\": 0.144}, {\"type\": \"Cylinder\", \"axis\": 2, \"sidewall_angle\": 0.0, \"reference_plane\": \"bottom\", \"radius\": 0.072, \"center\": [-1.3200000000000003, -0.6235382907247957, 0.0], \"length\": 0.144}, {\"type\": \"Cylinder\", \"axis\": 2, \"sidewall_angle\": 0.0, \"reference_plane\": \"bottom\", \"radius\": 0.072, \"center\": [-1.0800000000000003, -0.6235382907247957, 0.0], \"length\": 0.144}, {\"type\": \"Cylinder\", \"axis\": 2, \"sidewall_angle\": 0.0, \"reference_plane\": \"bottom\", \"radius\": 0.072, \"center\": [-0.8400000000000002, -0.6235382907247957, 0.0], \"length\": 0.144}, {\"type\": \"Cylinder\", \"axis\": 2, \"sidewall_angle\": 0.0, \"reference_plane\": \"bottom\", \"radius\": 0.072, \"center\": [-0.6000000000000001, -0.6235382907247957, 0.0], \"length\": 0.144}, {\"type\": \"Cylinder\", \"axis\": 2, \"sidewall_angle\": 0.0, \"reference_plane\": \"bottom\", \"radius\": 0.072, \"center\": [-0.3600000000000001, -0.6235382907247957, 0.0], \"length\": 0.144}, {\"type\": \"Cylinder\", \"axis\": 2, \"sidewall_angle\": 0.0, \"reference_plane\": \"bottom\", \"radius\": 0.072, \"center\": [-0.12000000000000002, -0.6235382907247957, 0.0], \"length\": 0.144}, {\"type\": \"Cylinder\", \"axis\": 2, \"sidewall_angle\": 0.0, \"reference_plane\": \"bottom\", \"radius\": 0.072, \"center\": [0.12000000000000002, -0.6235382907247957, 0.0], \"length\": 0.144}, {\"type\": \"Cylinder\", \"axis\": 2, \"sidewall_angle\": 0.0, \"reference_plane\": \"bottom\", \"radius\": 0.072, \"center\": [0.3600000000000001, -0.6235382907247957, 0.0], \"length\": 0.144}, {\"type\": \"Cylinder\", \"axis\": 2, \"sidewall_angle\": 0.0, \"reference_plane\": \"bottom\", \"radius\": 0.072, \"center\": [0.6000000000000001, -0.6235382907247957, 0.0], \"length\": 0.144}, {\"type\": \"Cylinder\", \"axis\": 2, \"sidewall_angle\": 0.0, \"reference_plane\": \"bottom\", \"radius\": 0.072, \"center\": [0.8400000000000002, -0.6235382907247957, 0.0], \"length\": 0.144}, {\"type\": \"Cylinder\", \"axis\": 2, \"sidewall_angle\": 0.0, \"reference_plane\": \"bottom\", \"radius\": 0.072, \"center\": [1.0800000000000003, -0.6235382907247957, 0.0], \"length\": 0.144}, {\"type\": \"Cylinder\", \"axis\": 2, \"sidewall_angle\": 0.0, \"reference_plane\": \"bottom\", \"radius\": 0.072, \"center\": [1.3200000000000003, -0.6235382907247957, 0.0], \"length\": 0.144}, {\"type\": \"Cylinder\", \"axis\": 2, \"sidewall_angle\": 0.0, \"reference_plane\": \"bottom\", \"radius\": 0.072, \"center\": [1.5600000000000003, -0.6235382907247957, 0.0], \"length\": 0.144}, {\"type\": \"Cylinder\", \"axis\": 2, \"sidewall_angle\": 0.0, \"reference_plane\": \"bottom\", \"radius\": 0.072, \"center\": [1.8000000000000003, -0.6235382907247957, 0.0], \"length\": 0.144}, {\"type\": \"Cylinder\", \"axis\": 2, \"sidewall_angle\": 0.0, \"reference_plane\": \"bottom\", \"radius\": 0.072, \"center\": [2.0400000000000005, -0.6235382907247957, 0.0], \"length\": 0.144}, {\"type\": \"Cylinder\", \"axis\": 2, \"sidewall_angle\": 0.0, \"reference_plane\": \"bottom\", \"radius\": 0.072, \"center\": [2.2800000000000002, -0.6235382907247957, 0.0], \"length\": 0.144}, {\"type\": \"Cylinder\", \"axis\": 2, \"sidewall_angle\": 0.0, \"reference_plane\": \"bottom\", \"radius\": 0.072, \"center\": [-2.4000000000000004, -0.4156921938165305, 0.0], \"length\": 0.144}, {\"type\": \"Cylinder\", \"axis\": 2, \"sidewall_angle\": 0.0, \"reference_plane\": \"bottom\", \"radius\": 0.072, \"center\": [-2.1600000000000006, -0.4156921938165305, 0.0], \"length\": 0.144}, {\"type\": \"Cylinder\", \"axis\": 2, \"sidewall_angle\": 0.0, \"reference_plane\": \"bottom\", \"radius\": 0.072, \"center\": [-1.9200000000000004, -0.4156921938165305, 0.0], \"length\": 0.144}, {\"type\": \"Cylinder\", \"axis\": 2, \"sidewall_angle\": 0.0, \"reference_plane\": \"bottom\", \"radius\": 0.072, \"center\": [-1.6800000000000004, -0.4156921938165305, 0.0], \"length\": 0.144}, {\"type\": \"Cylinder\", \"axis\": 2, \"sidewall_angle\": 0.0, \"reference_plane\": \"bottom\", \"radius\": 0.072, \"center\": [-1.4400000000000004, -0.4156921938165305, 0.0], \"length\": 0.144}, {\"type\": \"Cylinder\", \"axis\": 2, \"sidewall_angle\": 0.0, \"reference_plane\": \"bottom\", \"radius\": 0.072, \"center\": [-1.2000000000000002, -0.4156921938165305, 0.0], \"length\": 0.144}, {\"type\": \"Cylinder\", \"axis\": 2, \"sidewall_angle\": 0.0, \"reference_plane\": \"bottom\", \"radius\": 0.072, \"center\": [-0.9600000000000002, -0.4156921938165305, 0.0], \"length\": 0.144}, {\"type\": \"Cylinder\", \"axis\": 2, \"sidewall_angle\": 0.0, \"reference_plane\": \"bottom\", \"radius\": 0.072, \"center\": [-0.7200000000000002, -0.4156921938165305, 0.0], \"length\": 0.144}, {\"type\": \"Cylinder\", \"axis\": 2, \"sidewall_angle\": 0.0, \"reference_plane\": \"bottom\", \"radius\": 0.072, \"center\": [-0.4800000000000001, -0.4156921938165305, 0.0], \"length\": 0.144}, {\"type\": \"Cylinder\", \"axis\": 2, \"sidewall_angle\": 0.0, \"reference_plane\": \"bottom\", \"radius\": 0.072, \"center\": [-0.24000000000000005, -0.4156921938165305, 0.0], \"length\": 0.144}, {\"type\": \"Cylinder\", \"axis\": 2, \"sidewall_angle\": 0.0, \"reference_plane\": \"bottom\", \"radius\": 0.072, \"center\": [0.0, -0.4156921938165305, 0.0], \"length\": 0.144}, {\"type\": \"Cylinder\", \"axis\": 2, \"sidewall_angle\": 0.0, \"reference_plane\": \"bottom\", \"radius\": 0.072, \"center\": [0.24000000000000005, -0.4156921938165305, 0.0], \"length\": 0.144}, {\"type\": \"Cylinder\", \"axis\": 2, \"sidewall_angle\": 0.0, \"reference_plane\": \"bottom\", \"radius\": 0.072, \"center\": [0.4800000000000001, -0.4156921938165305, 0.0], \"length\": 0.144}, {\"type\": \"Cylinder\", \"axis\": 2, \"sidewall_angle\": 0.0, \"reference_plane\": \"bottom\", \"radius\": 0.072, \"center\": [0.7200000000000002, -0.4156921938165305, 0.0], \"length\": 0.144}, {\"type\": \"Cylinder\", \"axis\": 2, \"sidewall_angle\": 0.0, \"reference_plane\": \"bottom\", \"radius\": 0.072, \"center\": [0.9600000000000002, -0.4156921938165305, 0.0], \"length\": 0.144}, {\"type\": \"Cylinder\", \"axis\": 2, \"sidewall_angle\": 0.0, \"reference_plane\": \"bottom\", \"radius\": 0.072, \"center\": [1.2000000000000002, -0.4156921938165305, 0.0], \"length\": 0.144}, {\"type\": \"Cylinder\", \"axis\": 2, \"sidewall_angle\": 0.0, \"reference_plane\": \"bottom\", \"radius\": 0.072, \"center\": [1.4400000000000004, -0.4156921938165305, 0.0], \"length\": 0.144}, {\"type\": \"Cylinder\", \"axis\": 2, \"sidewall_angle\": 0.0, \"reference_plane\": \"bottom\", \"radius\": 0.072, \"center\": [1.6800000000000004, -0.4156921938165305, 0.0], \"length\": 0.144}, {\"type\": \"Cylinder\", \"axis\": 2, \"sidewall_angle\": 0.0, \"reference_plane\": \"bottom\", \"radius\": 0.072, \"center\": [1.9200000000000004, -0.4156921938165305, 0.0], \"length\": 0.144}, {\"type\": \"Cylinder\", \"axis\": 2, \"sidewall_angle\": 0.0, \"reference_plane\": \"bottom\", \"radius\": 0.072, \"center\": [2.1600000000000006, -0.4156921938165305, 0.0], \"length\": 0.144}, {\"type\": \"Cylinder\", \"axis\": 2, \"sidewall_angle\": 0.0, \"reference_plane\": \"bottom\", \"radius\": 0.072, \"center\": [2.4000000000000004, -0.4156921938165305, 0.0], \"length\": 0.144}, {\"type\": \"Cylinder\", \"axis\": 2, \"sidewall_angle\": 0.0, \"reference_plane\": \"bottom\", \"radius\": 0.072, \"center\": [-2.2800000000000002, -0.20784609690826525, 0.0], \"length\": 0.144}, {\"type\": \"Cylinder\", \"axis\": 2, \"sidewall_angle\": 0.0, \"reference_plane\": \"bottom\", \"radius\": 0.072, \"center\": [-2.0400000000000005, -0.20784609690826525, 0.0], \"length\": 0.144}, {\"type\": \"Cylinder\", \"axis\": 2, \"sidewall_angle\": 0.0, \"reference_plane\": \"bottom\", \"radius\": 0.072, \"center\": [-1.8000000000000003, -0.20784609690826525, 0.0], \"length\": 0.144}, {\"type\": \"Cylinder\", \"axis\": 2, \"sidewall_angle\": 0.0, \"reference_plane\": \"bottom\", \"radius\": 0.072, \"center\": [-1.5600000000000003, -0.20784609690826525, 0.0], \"length\": 0.144}, {\"type\": \"Cylinder\", \"axis\": 2, \"sidewall_angle\": 0.0, \"reference_plane\": \"bottom\", \"radius\": 0.072, \"center\": [-1.3200000000000003, -0.20784609690826525, 0.0], \"length\": 0.144}, {\"type\": \"Cylinder\", \"axis\": 2, \"sidewall_angle\": 0.0, \"reference_plane\": \"bottom\", \"radius\": 0.072, \"center\": [-1.0800000000000003, -0.20784609690826525, 0.0], \"length\": 0.144}, {\"type\": \"Cylinder\", \"axis\": 2, \"sidewall_angle\": 0.0, \"reference_plane\": \"bottom\", \"radius\": 0.072, \"center\": [-0.8400000000000002, -0.20784609690826525, 0.0], \"length\": 0.144}, {\"type\": \"Cylinder\", \"axis\": 2, \"sidewall_angle\": 0.0, \"reference_plane\": \"bottom\", \"radius\": 0.072, \"center\": [-0.6000000000000001, -0.20784609690826525, 0.0], \"length\": 0.144}, {\"type\": \"Cylinder\", \"axis\": 2, \"sidewall_angle\": 0.0, \"reference_plane\": \"bottom\", \"radius\": 0.072, \"center\": [-0.3600000000000001, -0.20784609690826525, 0.0], \"length\": 0.144}, {\"type\": \"Cylinder\", \"axis\": 2, \"sidewall_angle\": 0.0, \"reference_plane\": \"bottom\", \"radius\": 0.072, \"center\": [-0.12000000000000002, -0.20784609690826525, 0.0], \"length\": 0.144}, {\"type\": \"Cylinder\", \"axis\": 2, \"sidewall_angle\": 0.0, \"reference_plane\": \"bottom\", \"radius\": 0.072, \"center\": [0.12000000000000002, -0.20784609690826525, 0.0], \"length\": 0.144}, {\"type\": \"Cylinder\", \"axis\": 2, \"sidewall_angle\": 0.0, \"reference_plane\": \"bottom\", \"radius\": 0.072, \"center\": [0.3600000000000001, -0.20784609690826525, 0.0], \"length\": 0.144}, {\"type\": \"Cylinder\", \"axis\": 2, \"sidewall_angle\": 0.0, \"reference_plane\": \"bottom\", \"radius\": 0.072, \"center\": [0.6000000000000001, -0.20784609690826525, 0.0], \"length\": 0.144}, {\"type\": \"Cylinder\", \"axis\": 2, \"sidewall_angle\": 0.0, \"reference_plane\": \"bottom\", \"radius\": 0.072, \"center\": [0.8400000000000002, -0.20784609690826525, 0.0], \"length\": 0.144}, {\"type\": \"Cylinder\", \"axis\": 2, \"sidewall_angle\": 0.0, \"reference_plane\": \"bottom\", \"radius\": 0.072, \"center\": [1.0800000000000003, -0.20784609690826525, 0.0], \"length\": 0.144}, {\"type\": \"Cylinder\", \"axis\": 2, \"sidewall_angle\": 0.0, \"reference_plane\": \"bottom\", \"radius\": 0.072, \"center\": [1.3200000000000003, -0.20784609690826525, 0.0], \"length\": 0.144}, {\"type\": \"Cylinder\", \"axis\": 2, \"sidewall_angle\": 0.0, \"reference_plane\": \"bottom\", \"radius\": 0.072, \"center\": [1.5600000000000003, -0.20784609690826525, 0.0], \"length\": 0.144}, {\"type\": \"Cylinder\", \"axis\": 2, \"sidewall_angle\": 0.0, \"reference_plane\": \"bottom\", \"radius\": 0.072, \"center\": [1.8000000000000003, -0.20784609690826525, 0.0], \"length\": 0.144}, {\"type\": \"Cylinder\", \"axis\": 2, \"sidewall_angle\": 0.0, \"reference_plane\": \"bottom\", \"radius\": 0.072, \"center\": [2.0400000000000005, -0.20784609690826525, 0.0], \"length\": 0.144}, {\"type\": \"Cylinder\", \"axis\": 2, \"sidewall_angle\": 0.0, \"reference_plane\": \"bottom\", \"radius\": 0.072, \"center\": [2.2800000000000002, -0.20784609690826525, 0.0], \"length\": 0.144}, {\"type\": \"Cylinder\", \"axis\": 2, \"sidewall_angle\": 0.0, \"reference_plane\": \"bottom\", \"radius\": 0.072, \"center\": [-2.4000000000000004, 0.0, 0.0], \"length\": 0.144}, {\"type\": \"Cylinder\", \"axis\": 2, \"sidewall_angle\": 0.0, \"reference_plane\": \"bottom\", \"radius\": 0.072, \"center\": [-2.1600000000000006, 0.0, 0.0], \"length\": 0.144}, {\"type\": \"Cylinder\", \"axis\": 2, \"sidewall_angle\": 0.0, \"reference_plane\": \"bottom\", \"radius\": 0.072, \"center\": [-1.9200000000000004, 0.0, 0.0], \"length\": 0.144}, {\"type\": \"Cylinder\", \"axis\": 2, \"sidewall_angle\": 0.0, \"reference_plane\": \"bottom\", \"radius\": 0.072, \"center\": [-1.6800000000000004, 0.0, 0.0], \"length\": 0.144}, {\"type\": \"Cylinder\", \"axis\": 2, \"sidewall_angle\": 0.0, \"reference_plane\": \"bottom\", \"radius\": 0.072, \"center\": [-1.4400000000000004, 0.0, 0.0], \"length\": 0.144}, {\"type\": \"Cylinder\", \"axis\": 2, \"sidewall_angle\": 0.0, \"reference_plane\": \"bottom\", \"radius\": 0.072, \"center\": [-1.2000000000000002, 0.0, 0.0], \"length\": 0.144}, {\"type\": \"Cylinder\", \"axis\": 2, \"sidewall_angle\": 0.0, \"reference_plane\": \"bottom\", \"radius\": 0.072, \"center\": [-0.9600000000000002, 0.0, 0.0], \"length\": 0.144}, {\"type\": \"Cylinder\", \"axis\": 2, \"sidewall_angle\": 0.0, \"reference_plane\": \"bottom\", \"radius\": 0.072, \"center\": [-0.7200000000000002, 0.0, 0.0], \"length\": 0.144}, {\"type\": \"Cylinder\", \"axis\": 2, \"sidewall_angle\": 0.0, \"reference_plane\": \"bottom\", \"radius\": 0.0576, \"center\": [-0.5184000000000001, 0.0, 0.0], \"length\": 0.144}, {\"type\": \"Cylinder\", \"axis\": 2, \"sidewall_angle\": 0.0, \"reference_plane\": \"bottom\", \"radius\": 0.0576, \"center\": [0.5184000000000001, 0.0, 0.0], \"length\": 0.144}, {\"type\": \"Cylinder\", \"axis\": 2, \"sidewall_angle\": 0.0, \"reference_plane\": \"bottom\", \"radius\": 0.072, \"center\": [0.7200000000000002, 0.0, 0.0], \"length\": 0.144}, {\"type\": \"Cylinder\", \"axis\": 2, \"sidewall_angle\": 0.0, \"reference_plane\": \"bottom\", \"radius\": 0.072, \"center\": [0.9600000000000002, 0.0, 0.0], \"length\": 0.144}, {\"type\": \"Cylinder\", \"axis\": 2, \"sidewall_angle\": 0.0, \"reference_plane\": \"bottom\", \"radius\": 0.072, \"center\": [1.2000000000000002, 0.0, 0.0], \"length\": 0.144}, {\"type\": \"Cylinder\", \"axis\": 2, \"sidewall_angle\": 0.0, \"reference_plane\": \"bottom\", \"radius\": 0.072, \"center\": [1.4400000000000004, 0.0, 0.0], \"length\": 0.144}, {\"type\": \"Cylinder\", \"axis\": 2, \"sidewall_angle\": 0.0, \"reference_plane\": \"bottom\", \"radius\": 0.072, \"center\": [1.6800000000000004, 0.0, 0.0], \"length\": 0.144}, {\"type\": \"Cylinder\", \"axis\": 2, \"sidewall_angle\": 0.0, \"reference_plane\": \"bottom\", \"radius\": 0.072, \"center\": [1.9200000000000004, 0.0, 0.0], \"length\": 0.144}, {\"type\": \"Cylinder\", \"axis\": 2, \"sidewall_angle\": 0.0, \"reference_plane\": \"bottom\", \"radius\": 0.072, \"center\": [2.1600000000000006, 0.0, 0.0], \"length\": 0.144}, {\"type\": \"Cylinder\", \"axis\": 2, \"sidewall_angle\": 0.0, \"reference_plane\": \"bottom\", \"radius\": 0.072, \"center\": [2.4000000000000004, 0.0, 0.0], \"length\": 0.144}, {\"type\": \"Cylinder\", \"axis\": 2, \"sidewall_angle\": 0.0, \"reference_plane\": \"bottom\", \"radius\": 0.072, \"center\": [-2.2800000000000002, 0.20784609690826525, 0.0], \"length\": 0.144}, {\"type\": \"Cylinder\", \"axis\": 2, \"sidewall_angle\": 0.0, \"reference_plane\": \"bottom\", \"radius\": 0.072, \"center\": [-2.0400000000000005, 0.20784609690826525, 0.0], \"length\": 0.144}, {\"type\": \"Cylinder\", \"axis\": 2, \"sidewall_angle\": 0.0, \"reference_plane\": \"bottom\", \"radius\": 0.072, \"center\": [-1.8000000000000003, 0.20784609690826525, 0.0], \"length\": 0.144}, {\"type\": \"Cylinder\", \"axis\": 2, \"sidewall_angle\": 0.0, \"reference_plane\": \"bottom\", \"radius\": 0.072, \"center\": [-1.5600000000000003, 0.20784609690826525, 0.0], \"length\": 0.144}, {\"type\": \"Cylinder\", \"axis\": 2, \"sidewall_angle\": 0.0, \"reference_plane\": \"bottom\", \"radius\": 0.072, \"center\": [-1.3200000000000003, 0.20784609690826525, 0.0], \"length\": 0.144}, {\"type\": \"Cylinder\", \"axis\": 2, \"sidewall_angle\": 0.0, \"reference_plane\": \"bottom\", \"radius\": 0.072, \"center\": [-1.0800000000000003, 0.20784609690826525, 0.0], \"length\": 0.144}, {\"type\": \"Cylinder\", \"axis\": 2, \"sidewall_angle\": 0.0, \"reference_plane\": \"bottom\", \"radius\": 0.072, \"center\": [-0.8400000000000002, 0.20784609690826525, 0.0], \"length\": 0.144}, {\"type\": \"Cylinder\", \"axis\": 2, \"sidewall_angle\": 0.0, \"reference_plane\": \"bottom\", \"radius\": 0.072, \"center\": [-0.6000000000000001, 0.20784609690826525, 0.0], \"length\": 0.144}, {\"type\": \"Cylinder\", \"axis\": 2, \"sidewall_angle\": 0.0, \"reference_plane\": \"bottom\", \"radius\": 0.072, \"center\": [-0.3600000000000001, 0.20784609690826525, 0.0], \"length\": 0.144}, {\"type\": \"Cylinder\", \"axis\": 2, \"sidewall_angle\": 0.0, \"reference_plane\": \"bottom\", \"radius\": 0.072, \"center\": [-0.12000000000000002, 0.20784609690826525, 0.0], \"length\": 0.144}, {\"type\": \"Cylinder\", \"axis\": 2, \"sidewall_angle\": 0.0, \"reference_plane\": \"bottom\", \"radius\": 0.072, \"center\": [0.12000000000000002, 0.20784609690826525, 0.0], \"length\": 0.144}, {\"type\": \"Cylinder\", \"axis\": 2, \"sidewall_angle\": 0.0, \"reference_plane\": \"bottom\", \"radius\": 0.072, \"center\": [0.3600000000000001, 0.20784609690826525, 0.0], \"length\": 0.144}, {\"type\": \"Cylinder\", \"axis\": 2, \"sidewall_angle\": 0.0, \"reference_plane\": \"bottom\", \"radius\": 0.072, \"center\": [0.6000000000000001, 0.20784609690826525, 0.0], \"length\": 0.144}, {\"type\": \"Cylinder\", \"axis\": 2, \"sidewall_angle\": 0.0, \"reference_plane\": \"bottom\", \"radius\": 0.072, \"center\": [0.8400000000000002, 0.20784609690826525, 0.0], \"length\": 0.144}, {\"type\": \"Cylinder\", \"axis\": 2, \"sidewall_angle\": 0.0, \"reference_plane\": \"bottom\", \"radius\": 0.072, \"center\": [1.0800000000000003, 0.20784609690826525, 0.0], \"length\": 0.144}, {\"type\": \"Cylinder\", \"axis\": 2, \"sidewall_angle\": 0.0, \"reference_plane\": \"bottom\", \"radius\": 0.072, \"center\": [1.3200000000000003, 0.20784609690826525, 0.0], \"length\": 0.144}, {\"type\": \"Cylinder\", \"axis\": 2, \"sidewall_angle\": 0.0, \"reference_plane\": \"bottom\", \"radius\": 0.072, \"center\": [1.5600000000000003, 0.20784609690826525, 0.0], \"length\": 0.144}, {\"type\": \"Cylinder\", \"axis\": 2, \"sidewall_angle\": 0.0, \"reference_plane\": \"bottom\", \"radius\": 0.072, \"center\": [1.8000000000000003, 0.20784609690826525, 0.0], \"length\": 0.144}, {\"type\": \"Cylinder\", \"axis\": 2, \"sidewall_angle\": 0.0, \"reference_plane\": \"bottom\", \"radius\": 0.072, \"center\": [2.0400000000000005, 0.20784609690826525, 0.0], \"length\": 0.144}, {\"type\": \"Cylinder\", \"axis\": 2, \"sidewall_angle\": 0.0, \"reference_plane\": \"bottom\", \"radius\": 0.072, \"center\": [2.2800000000000002, 0.20784609690826525, 0.0], \"length\": 0.144}, {\"type\": \"Cylinder\", \"axis\": 2, \"sidewall_angle\": 0.0, \"reference_plane\": \"bottom\", \"radius\": 0.072, \"center\": [-2.4000000000000004, 0.4156921938165305, 0.0], \"length\": 0.144}, {\"type\": \"Cylinder\", \"axis\": 2, \"sidewall_angle\": 0.0, \"reference_plane\": \"bottom\", \"radius\": 0.072, \"center\": [-2.1600000000000006, 0.4156921938165305, 0.0], \"length\": 0.144}, {\"type\": \"Cylinder\", \"axis\": 2, \"sidewall_angle\": 0.0, \"reference_plane\": \"bottom\", \"radius\": 0.072, \"center\": [-1.9200000000000004, 0.4156921938165305, 0.0], \"length\": 0.144}, {\"type\": \"Cylinder\", \"axis\": 2, \"sidewall_angle\": 0.0, \"reference_plane\": \"bottom\", \"radius\": 0.072, \"center\": [-1.6800000000000004, 0.4156921938165305, 0.0], \"length\": 0.144}, {\"type\": \"Cylinder\", \"axis\": 2, \"sidewall_angle\": 0.0, \"reference_plane\": \"bottom\", \"radius\": 0.072, \"center\": [-1.4400000000000004, 0.4156921938165305, 0.0], \"length\": 0.144}, {\"type\": \"Cylinder\", \"axis\": 2, \"sidewall_angle\": 0.0, \"reference_plane\": \"bottom\", \"radius\": 0.072, \"center\": [-1.2000000000000002, 0.4156921938165305, 0.0], \"length\": 0.144}, {\"type\": \"Cylinder\", \"axis\": 2, \"sidewall_angle\": 0.0, \"reference_plane\": \"bottom\", \"radius\": 0.072, \"center\": [-0.9600000000000002, 0.4156921938165305, 0.0], \"length\": 0.144}, {\"type\": \"Cylinder\", \"axis\": 2, \"sidewall_angle\": 0.0, \"reference_plane\": \"bottom\", \"radius\": 0.072, \"center\": [-0.7200000000000002, 0.4156921938165305, 0.0], \"length\": 0.144}, {\"type\": \"Cylinder\", \"axis\": 2, \"sidewall_angle\": 0.0, \"reference_plane\": \"bottom\", \"radius\": 0.072, \"center\": [-0.4800000000000001, 0.4156921938165305, 0.0], \"length\": 0.144}, {\"type\": \"Cylinder\", \"axis\": 2, \"sidewall_angle\": 0.0, \"reference_plane\": \"bottom\", \"radius\": 0.072, \"center\": [-0.24000000000000005, 0.4156921938165305, 0.0], \"length\": 0.144}, {\"type\": \"Cylinder\", \"axis\": 2, \"sidewall_angle\": 0.0, \"reference_plane\": \"bottom\", \"radius\": 0.072, \"center\": [0.0, 0.4156921938165305, 0.0], \"length\": 0.144}, {\"type\": \"Cylinder\", \"axis\": 2, \"sidewall_angle\": 0.0, \"reference_plane\": \"bottom\", \"radius\": 0.072, \"center\": [0.24000000000000005, 0.4156921938165305, 0.0], \"length\": 0.144}, {\"type\": \"Cylinder\", \"axis\": 2, \"sidewall_angle\": 0.0, \"reference_plane\": \"bottom\", \"radius\": 0.072, \"center\": [0.4800000000000001, 0.4156921938165305, 0.0], \"length\": 0.144}, {\"type\": \"Cylinder\", \"axis\": 2, \"sidewall_angle\": 0.0, \"reference_plane\": \"bottom\", \"radius\": 0.072, \"center\": [0.7200000000000002, 0.4156921938165305, 0.0], \"length\": 0.144}, {\"type\": \"Cylinder\", \"axis\": 2, \"sidewall_angle\": 0.0, \"reference_plane\": \"bottom\", \"radius\": 0.072, \"center\": [0.9600000000000002, 0.4156921938165305, 0.0], \"length\": 0.144}, {\"type\": \"Cylinder\", \"axis\": 2, \"sidewall_angle\": 0.0, \"reference_plane\": \"bottom\", \"radius\": 0.072, \"center\": [1.2000000000000002, 0.4156921938165305, 0.0], \"length\": 0.144}, {\"type\": \"Cylinder\", \"axis\": 2, \"sidewall_angle\": 0.0, \"reference_plane\": \"bottom\", \"radius\": 0.072, \"center\": [1.4400000000000004, 0.4156921938165305, 0.0], \"length\": 0.144}, {\"type\": \"Cylinder\", \"axis\": 2, \"sidewall_angle\": 0.0, \"reference_plane\": \"bottom\", \"radius\": 0.072, \"center\": [1.6800000000000004, 0.4156921938165305, 0.0], \"length\": 0.144}, {\"type\": \"Cylinder\", \"axis\": 2, \"sidewall_angle\": 0.0, \"reference_plane\": \"bottom\", \"radius\": 0.072, \"center\": [1.9200000000000004, 0.4156921938165305, 0.0], \"length\": 0.144}, {\"type\": \"Cylinder\", \"axis\": 2, \"sidewall_angle\": 0.0, \"reference_plane\": \"bottom\", \"radius\": 0.072, \"center\": [2.1600000000000006, 0.4156921938165305, 0.0], \"length\": 0.144}, {\"type\": \"Cylinder\", \"axis\": 2, \"sidewall_angle\": 0.0, \"reference_plane\": \"bottom\", \"radius\": 0.072, \"center\": [2.4000000000000004, 0.4156921938165305, 0.0], \"length\": 0.144}, {\"type\": \"Cylinder\", \"axis\": 2, \"sidewall_angle\": 0.0, \"reference_plane\": \"bottom\", \"radius\": 0.072, \"center\": [-2.2800000000000002, 0.6235382907247957, 0.0], \"length\": 0.144}, {\"type\": \"Cylinder\", \"axis\": 2, \"sidewall_angle\": 0.0, \"reference_plane\": \"bottom\", \"radius\": 0.072, \"center\": [-2.0400000000000005, 0.6235382907247957, 0.0], \"length\": 0.144}, {\"type\": \"Cylinder\", \"axis\": 2, \"sidewall_angle\": 0.0, \"reference_plane\": \"bottom\", \"radius\": 0.072, \"center\": [-1.8000000000000003, 0.6235382907247957, 0.0], \"length\": 0.144}, {\"type\": \"Cylinder\", \"axis\": 2, \"sidewall_angle\": 0.0, \"reference_plane\": \"bottom\", \"radius\": 0.072, \"center\": [-1.5600000000000003, 0.6235382907247957, 0.0], \"length\": 0.144}, {\"type\": \"Cylinder\", \"axis\": 2, \"sidewall_angle\": 0.0, \"reference_plane\": \"bottom\", \"radius\": 0.072, \"center\": [-1.3200000000000003, 0.6235382907247957, 0.0], \"length\": 0.144}, {\"type\": \"Cylinder\", \"axis\": 2, \"sidewall_angle\": 0.0, \"reference_plane\": \"bottom\", \"radius\": 0.072, \"center\": [-1.0800000000000003, 0.6235382907247957, 0.0], \"length\": 0.144}, {\"type\": \"Cylinder\", \"axis\": 2, \"sidewall_angle\": 0.0, \"reference_plane\": \"bottom\", \"radius\": 0.072, \"center\": [-0.8400000000000002, 0.6235382907247957, 0.0], \"length\": 0.144}, {\"type\": \"Cylinder\", \"axis\": 2, \"sidewall_angle\": 0.0, \"reference_plane\": \"bottom\", \"radius\": 0.072, \"center\": [-0.6000000000000001, 0.6235382907247957, 0.0], \"length\": 0.144}, {\"type\": \"Cylinder\", \"axis\": 2, \"sidewall_angle\": 0.0, \"reference_plane\": \"bottom\", \"radius\": 0.072, \"center\": [-0.3600000000000001, 0.6235382907247957, 0.0], \"length\": 0.144}, {\"type\": \"Cylinder\", \"axis\": 2, \"sidewall_angle\": 0.0, \"reference_plane\": \"bottom\", \"radius\": 0.072, \"center\": [-0.12000000000000002, 0.6235382907247957, 0.0], \"length\": 0.144}, {\"type\": \"Cylinder\", \"axis\": 2, \"sidewall_angle\": 0.0, \"reference_plane\": \"bottom\", \"radius\": 0.072, \"center\": [0.12000000000000002, 0.6235382907247957, 0.0], \"length\": 0.144}, {\"type\": \"Cylinder\", \"axis\": 2, \"sidewall_angle\": 0.0, \"reference_plane\": \"bottom\", \"radius\": 0.072, \"center\": [0.3600000000000001, 0.6235382907247957, 0.0], \"length\": 0.144}, {\"type\": \"Cylinder\", \"axis\": 2, \"sidewall_angle\": 0.0, \"reference_plane\": \"bottom\", \"radius\": 0.072, \"center\": [0.6000000000000001, 0.6235382907247957, 0.0], \"length\": 0.144}, {\"type\": \"Cylinder\", \"axis\": 2, \"sidewall_angle\": 0.0, \"reference_plane\": \"bottom\", \"radius\": 0.072, \"center\": [0.8400000000000002, 0.6235382907247957, 0.0], \"length\": 0.144}, {\"type\": \"Cylinder\", \"axis\": 2, \"sidewall_angle\": 0.0, \"reference_plane\": \"bottom\", \"radius\": 0.072, \"center\": [1.0800000000000003, 0.6235382907247957, 0.0], \"length\": 0.144}, {\"type\": \"Cylinder\", \"axis\": 2, \"sidewall_angle\": 0.0, \"reference_plane\": \"bottom\", \"radius\": 0.072, \"center\": [1.3200000000000003, 0.6235382907247957, 0.0], \"length\": 0.144}, {\"type\": \"Cylinder\", \"axis\": 2, \"sidewall_angle\": 0.0, \"reference_plane\": \"bottom\", \"radius\": 0.072, \"center\": [1.5600000000000003, 0.6235382907247957, 0.0], \"length\": 0.144}, {\"type\": \"Cylinder\", \"axis\": 2, \"sidewall_angle\": 0.0, \"reference_plane\": \"bottom\", \"radius\": 0.072, \"center\": [1.8000000000000003, 0.6235382907247957, 0.0], \"length\": 0.144}, {\"type\": \"Cylinder\", \"axis\": 2, \"sidewall_angle\": 0.0, \"reference_plane\": \"bottom\", \"radius\": 0.072, \"center\": [2.0400000000000005, 0.6235382907247957, 0.0], \"length\": 0.144}, {\"type\": \"Cylinder\", \"axis\": 2, \"sidewall_angle\": 0.0, \"reference_plane\": \"bottom\", \"radius\": 0.072, \"center\": [2.2800000000000002, 0.6235382907247957, 0.0], \"length\": 0.144}, {\"type\": \"Cylinder\", \"axis\": 2, \"sidewall_angle\": 0.0, \"reference_plane\": \"bottom\", \"radius\": 0.072, \"center\": [-2.4000000000000004, 0.831384387633061, 0.0], \"length\": 0.144}, {\"type\": \"Cylinder\", \"axis\": 2, \"sidewall_angle\": 0.0, \"reference_plane\": \"bottom\", \"radius\": 0.072, \"center\": [-2.1600000000000006, 0.831384387633061, 0.0], \"length\": 0.144}, {\"type\": \"Cylinder\", \"axis\": 2, \"sidewall_angle\": 0.0, \"reference_plane\": \"bottom\", \"radius\": 0.072, \"center\": [-1.9200000000000004, 0.831384387633061, 0.0], \"length\": 0.144}, {\"type\": \"Cylinder\", \"axis\": 2, \"sidewall_angle\": 0.0, \"reference_plane\": \"bottom\", \"radius\": 0.072, \"center\": [-1.6800000000000004, 0.831384387633061, 0.0], \"length\": 0.144}, {\"type\": \"Cylinder\", \"axis\": 2, \"sidewall_angle\": 0.0, \"reference_plane\": \"bottom\", \"radius\": 0.072, \"center\": [-1.4400000000000004, 0.831384387633061, 0.0], \"length\": 0.144}, {\"type\": \"Cylinder\", \"axis\": 2, \"sidewall_angle\": 0.0, \"reference_plane\": \"bottom\", \"radius\": 0.072, \"center\": [-1.2000000000000002, 0.831384387633061, 0.0], \"length\": 0.144}, {\"type\": \"Cylinder\", \"axis\": 2, \"sidewall_angle\": 0.0, \"reference_plane\": \"bottom\", \"radius\": 0.072, \"center\": [-0.9600000000000002, 0.831384387633061, 0.0], \"length\": 0.144}, {\"type\": \"Cylinder\", \"axis\": 2, \"sidewall_angle\": 0.0, \"reference_plane\": \"bottom\", \"radius\": 0.072, \"center\": [-0.7200000000000002, 0.831384387633061, 0.0], \"length\": 0.144}, {\"type\": \"Cylinder\", \"axis\": 2, \"sidewall_angle\": 0.0, \"reference_plane\": \"bottom\", \"radius\": 0.072, \"center\": [-0.4800000000000001, 0.831384387633061, 0.0], \"length\": 0.144}, {\"type\": \"Cylinder\", \"axis\": 2, \"sidewall_angle\": 0.0, \"reference_plane\": \"bottom\", \"radius\": 0.072, \"center\": [-0.24000000000000005, 0.831384387633061, 0.0], \"length\": 0.144}, {\"type\": \"Cylinder\", \"axis\": 2, \"sidewall_angle\": 0.0, \"reference_plane\": \"bottom\", \"radius\": 0.072, \"center\": [0.0, 0.831384387633061, 0.0], \"length\": 0.144}, {\"type\": \"Cylinder\", \"axis\": 2, \"sidewall_angle\": 0.0, \"reference_plane\": \"bottom\", \"radius\": 0.072, \"center\": [0.24000000000000005, 0.831384387633061, 0.0], \"length\": 0.144}, {\"type\": \"Cylinder\", \"axis\": 2, \"sidewall_angle\": 0.0, \"reference_plane\": \"bottom\", \"radius\": 0.072, \"center\": [0.4800000000000001, 0.831384387633061, 0.0], \"length\": 0.144}, {\"type\": \"Cylinder\", \"axis\": 2, \"sidewall_angle\": 0.0, \"reference_plane\": \"bottom\", \"radius\": 0.072, \"center\": [0.7200000000000002, 0.831384387633061, 0.0], \"length\": 0.144}, {\"type\": \"Cylinder\", \"axis\": 2, \"sidewall_angle\": 0.0, \"reference_plane\": \"bottom\", \"radius\": 0.072, \"center\": [0.9600000000000002, 0.831384387633061, 0.0], \"length\": 0.144}, {\"type\": \"Cylinder\", \"axis\": 2, \"sidewall_angle\": 0.0, \"reference_plane\": \"bottom\", \"radius\": 0.072, \"center\": [1.2000000000000002, 0.831384387633061, 0.0], \"length\": 0.144}, {\"type\": \"Cylinder\", \"axis\": 2, \"sidewall_angle\": 0.0, \"reference_plane\": \"bottom\", \"radius\": 0.072, \"center\": [1.4400000000000004, 0.831384387633061, 0.0], \"length\": 0.144}, {\"type\": \"Cylinder\", \"axis\": 2, \"sidewall_angle\": 0.0, \"reference_plane\": \"bottom\", \"radius\": 0.072, \"center\": [1.6800000000000004, 0.831384387633061, 0.0], \"length\": 0.144}, {\"type\": \"Cylinder\", \"axis\": 2, \"sidewall_angle\": 0.0, \"reference_plane\": \"bottom\", \"radius\": 0.072, \"center\": [1.9200000000000004, 0.831384387633061, 0.0], \"length\": 0.144}, {\"type\": \"Cylinder\", \"axis\": 2, \"sidewall_angle\": 0.0, \"reference_plane\": \"bottom\", \"radius\": 0.072, \"center\": [2.1600000000000006, 0.831384387633061, 0.0], \"length\": 0.144}, {\"type\": \"Cylinder\", \"axis\": 2, \"sidewall_angle\": 0.0, \"reference_plane\": \"bottom\", \"radius\": 0.072, \"center\": [2.4000000000000004, 0.831384387633061, 0.0], \"length\": 0.144}, {\"type\": \"Cylinder\", \"axis\": 2, \"sidewall_angle\": 0.0, \"reference_plane\": \"bottom\", \"radius\": 0.072, \"center\": [-2.2800000000000002, 1.0392304845413263, 0.0], \"length\": 0.144}, {\"type\": \"Cylinder\", \"axis\": 2, \"sidewall_angle\": 0.0, \"reference_plane\": \"bottom\", \"radius\": 0.072, \"center\": [-2.0400000000000005, 1.0392304845413263, 0.0], \"length\": 0.144}, {\"type\": \"Cylinder\", \"axis\": 2, \"sidewall_angle\": 0.0, \"reference_plane\": \"bottom\", \"radius\": 0.072, \"center\": [-1.8000000000000003, 1.0392304845413263, 0.0], \"length\": 0.144}, {\"type\": \"Cylinder\", \"axis\": 2, \"sidewall_angle\": 0.0, \"reference_plane\": \"bottom\", \"radius\": 0.072, \"center\": [-1.5600000000000003, 1.0392304845413263, 0.0], \"length\": 0.144}, {\"type\": \"Cylinder\", \"axis\": 2, \"sidewall_angle\": 0.0, \"reference_plane\": \"bottom\", \"radius\": 0.072, \"center\": [-1.3200000000000003, 1.0392304845413263, 0.0], \"length\": 0.144}, {\"type\": \"Cylinder\", \"axis\": 2, \"sidewall_angle\": 0.0, \"reference_plane\": \"bottom\", \"radius\": 0.072, \"center\": [-1.0800000000000003, 1.0392304845413263, 0.0], \"length\": 0.144}, {\"type\": \"Cylinder\", \"axis\": 2, \"sidewall_angle\": 0.0, \"reference_plane\": \"bottom\", \"radius\": 0.072, \"center\": [-0.8400000000000002, 1.0392304845413263, 0.0], \"length\": 0.144}, {\"type\": \"Cylinder\", \"axis\": 2, \"sidewall_angle\": 0.0, \"reference_plane\": \"bottom\", \"radius\": 0.072, \"center\": [-0.6000000000000001, 1.0392304845413263, 0.0], \"length\": 0.144}, {\"type\": \"Cylinder\", \"axis\": 2, \"sidewall_angle\": 0.0, \"reference_plane\": \"bottom\", \"radius\": 0.072, \"center\": [-0.3600000000000001, 1.0392304845413263, 0.0], \"length\": 0.144}, {\"type\": \"Cylinder\", \"axis\": 2, \"sidewall_angle\": 0.0, \"reference_plane\": \"bottom\", \"radius\": 0.072, \"center\": [-0.12000000000000002, 1.0392304845413263, 0.0], \"length\": 0.144}, {\"type\": \"Cylinder\", \"axis\": 2, \"sidewall_angle\": 0.0, \"reference_plane\": \"bottom\", \"radius\": 0.072, \"center\": [0.12000000000000002, 1.0392304845413263, 0.0], \"length\": 0.144}, {\"type\": \"Cylinder\", \"axis\": 2, \"sidewall_angle\": 0.0, \"reference_plane\": \"bottom\", \"radius\": 0.072, \"center\": [0.3600000000000001, 1.0392304845413263, 0.0], \"length\": 0.144}, {\"type\": \"Cylinder\", \"axis\": 2, \"sidewall_angle\": 0.0, \"reference_plane\": \"bottom\", \"radius\": 0.072, \"center\": [0.6000000000000001, 1.0392304845413263, 0.0], \"length\": 0.144}, {\"type\": \"Cylinder\", \"axis\": 2, \"sidewall_angle\": 0.0, \"reference_plane\": \"bottom\", \"radius\": 0.072, \"center\": [0.8400000000000002, 1.0392304845413263, 0.0], \"length\": 0.144}, {\"type\": \"Cylinder\", \"axis\": 2, \"sidewall_angle\": 0.0, \"reference_plane\": \"bottom\", \"radius\": 0.072, \"center\": [1.0800000000000003, 1.0392304845413263, 0.0], \"length\": 0.144}, {\"type\": \"Cylinder\", \"axis\": 2, \"sidewall_angle\": 0.0, \"reference_plane\": \"bottom\", \"radius\": 0.072, \"center\": [1.3200000000000003, 1.0392304845413263, 0.0], \"length\": 0.144}, {\"type\": \"Cylinder\", \"axis\": 2, \"sidewall_angle\": 0.0, \"reference_plane\": \"bottom\", \"radius\": 0.072, \"center\": [1.5600000000000003, 1.0392304845413263, 0.0], \"length\": 0.144}, {\"type\": \"Cylinder\", \"axis\": 2, \"sidewall_angle\": 0.0, \"reference_plane\": \"bottom\", \"radius\": 0.072, \"center\": [1.8000000000000003, 1.0392304845413263, 0.0], \"length\": 0.144}, {\"type\": \"Cylinder\", \"axis\": 2, \"sidewall_angle\": 0.0, \"reference_plane\": \"bottom\", \"radius\": 0.072, \"center\": [2.0400000000000005, 1.0392304845413263, 0.0], \"length\": 0.144}, {\"type\": \"Cylinder\", \"axis\": 2, \"sidewall_angle\": 0.0, \"reference_plane\": \"bottom\", \"radius\": 0.072, \"center\": [2.2800000000000002, 1.0392304845413263, 0.0], \"length\": 0.144}, {\"type\": \"Cylinder\", \"axis\": 2, \"sidewall_angle\": 0.0, \"reference_plane\": \"bottom\", \"radius\": 0.072, \"center\": [-2.4000000000000004, 1.2470765814495914, 0.0], \"length\": 0.144}, {\"type\": \"Cylinder\", \"axis\": 2, \"sidewall_angle\": 0.0, \"reference_plane\": \"bottom\", \"radius\": 0.072, \"center\": [-2.1600000000000006, 1.2470765814495914, 0.0], \"length\": 0.144}, {\"type\": \"Cylinder\", \"axis\": 2, \"sidewall_angle\": 0.0, \"reference_plane\": \"bottom\", \"radius\": 0.072, \"center\": [-1.9200000000000004, 1.2470765814495914, 0.0], \"length\": 0.144}, {\"type\": \"Cylinder\", \"axis\": 2, \"sidewall_angle\": 0.0, \"reference_plane\": \"bottom\", \"radius\": 0.072, \"center\": [-1.6800000000000004, 1.2470765814495914, 0.0], \"length\": 0.144}, {\"type\": \"Cylinder\", \"axis\": 2, \"sidewall_angle\": 0.0, \"reference_plane\": \"bottom\", \"radius\": 0.072, \"center\": [-1.4400000000000004, 1.2470765814495914, 0.0], \"length\": 0.144}, {\"type\": \"Cylinder\", \"axis\": 2, \"sidewall_angle\": 0.0, \"reference_plane\": \"bottom\", \"radius\": 0.072, \"center\": [-1.2000000000000002, 1.2470765814495914, 0.0], \"length\": 0.144}, {\"type\": \"Cylinder\", \"axis\": 2, \"sidewall_angle\": 0.0, \"reference_plane\": \"bottom\", \"radius\": 0.072, \"center\": [-0.9600000000000002, 1.2470765814495914, 0.0], \"length\": 0.144}, {\"type\": \"Cylinder\", \"axis\": 2, \"sidewall_angle\": 0.0, \"reference_plane\": \"bottom\", \"radius\": 0.072, \"center\": [-0.7200000000000002, 1.2470765814495914, 0.0], \"length\": 0.144}, {\"type\": \"Cylinder\", \"axis\": 2, \"sidewall_angle\": 0.0, \"reference_plane\": \"bottom\", \"radius\": 0.072, \"center\": [-0.4800000000000001, 1.2470765814495914, 0.0], \"length\": 0.144}, {\"type\": \"Cylinder\", \"axis\": 2, \"sidewall_angle\": 0.0, \"reference_plane\": \"bottom\", \"radius\": 0.072, \"center\": [-0.24000000000000005, 1.2470765814495914, 0.0], \"length\": 0.144}, {\"type\": \"Cylinder\", \"axis\": 2, \"sidewall_angle\": 0.0, \"reference_plane\": \"bottom\", \"radius\": 0.072, \"center\": [0.0, 1.2470765814495914, 0.0], \"length\": 0.144}, {\"type\": \"Cylinder\", \"axis\": 2, \"sidewall_angle\": 0.0, \"reference_plane\": \"bottom\", \"radius\": 0.072, \"center\": [0.24000000000000005, 1.2470765814495914, 0.0], \"length\": 0.144}, {\"type\": \"Cylinder\", \"axis\": 2, \"sidewall_angle\": 0.0, \"reference_plane\": \"bottom\", \"radius\": 0.072, \"center\": [0.4800000000000001, 1.2470765814495914, 0.0], \"length\": 0.144}, {\"type\": \"Cylinder\", \"axis\": 2, \"sidewall_angle\": 0.0, \"reference_plane\": \"bottom\", \"radius\": 0.072, \"center\": [0.7200000000000002, 1.2470765814495914, 0.0], \"length\": 0.144}, {\"type\": \"Cylinder\", \"axis\": 2, \"sidewall_angle\": 0.0, \"reference_plane\": \"bottom\", \"radius\": 0.072, \"center\": [0.9600000000000002, 1.2470765814495914, 0.0], \"length\": 0.144}, {\"type\": \"Cylinder\", \"axis\": 2, \"sidewall_angle\": 0.0, \"reference_plane\": \"bottom\", \"radius\": 0.072, \"center\": [1.2000000000000002, 1.2470765814495914, 0.0], \"length\": 0.144}, {\"type\": \"Cylinder\", \"axis\": 2, \"sidewall_angle\": 0.0, \"reference_plane\": \"bottom\", \"radius\": 0.072, \"center\": [1.4400000000000004, 1.2470765814495914, 0.0], \"length\": 0.144}, {\"type\": \"Cylinder\", \"axis\": 2, \"sidewall_angle\": 0.0, \"reference_plane\": \"bottom\", \"radius\": 0.072, \"center\": [1.6800000000000004, 1.2470765814495914, 0.0], \"length\": 0.144}, {\"type\": \"Cylinder\", \"axis\": 2, \"sidewall_angle\": 0.0, \"reference_plane\": \"bottom\", \"radius\": 0.072, \"center\": [1.9200000000000004, 1.2470765814495914, 0.0], \"length\": 0.144}, {\"type\": \"Cylinder\", \"axis\": 2, \"sidewall_angle\": 0.0, \"reference_plane\": \"bottom\", \"radius\": 0.072, \"center\": [2.1600000000000006, 1.2470765814495914, 0.0], \"length\": 0.144}, {\"type\": \"Cylinder\", \"axis\": 2, \"sidewall_angle\": 0.0, \"reference_plane\": \"bottom\", \"radius\": 0.072, \"center\": [2.4000000000000004, 1.2470765814495914, 0.0], \"length\": 0.144}, {\"type\": \"Cylinder\", \"axis\": 2, \"sidewall_angle\": 0.0, \"reference_plane\": \"bottom\", \"radius\": 0.072, \"center\": [-2.2800000000000002, 1.4549226783578568, 0.0], \"length\": 0.144}, {\"type\": \"Cylinder\", \"axis\": 2, \"sidewall_angle\": 0.0, \"reference_plane\": \"bottom\", \"radius\": 0.072, \"center\": [-2.0400000000000005, 1.4549226783578568, 0.0], \"length\": 0.144}, {\"type\": \"Cylinder\", \"axis\": 2, \"sidewall_angle\": 0.0, \"reference_plane\": \"bottom\", \"radius\": 0.072, \"center\": [-1.8000000000000003, 1.4549226783578568, 0.0], \"length\": 0.144}, {\"type\": \"Cylinder\", \"axis\": 2, \"sidewall_angle\": 0.0, \"reference_plane\": \"bottom\", \"radius\": 0.072, \"center\": [-1.5600000000000003, 1.4549226783578568, 0.0], \"length\": 0.144}, {\"type\": \"Cylinder\", \"axis\": 2, \"sidewall_angle\": 0.0, \"reference_plane\": \"bottom\", \"radius\": 0.072, \"center\": [-1.3200000000000003, 1.4549226783578568, 0.0], \"length\": 0.144}, {\"type\": \"Cylinder\", \"axis\": 2, \"sidewall_angle\": 0.0, \"reference_plane\": \"bottom\", \"radius\": 0.072, \"center\": [-1.0800000000000003, 1.4549226783578568, 0.0], \"length\": 0.144}, {\"type\": \"Cylinder\", \"axis\": 2, \"sidewall_angle\": 0.0, \"reference_plane\": \"bottom\", \"radius\": 0.072, \"center\": [-0.8400000000000002, 1.4549226783578568, 0.0], \"length\": 0.144}, {\"type\": \"Cylinder\", \"axis\": 2, \"sidewall_angle\": 0.0, \"reference_plane\": \"bottom\", \"radius\": 0.072, \"center\": [-0.6000000000000001, 1.4549226783578568, 0.0], \"length\": 0.144}, {\"type\": \"Cylinder\", \"axis\": 2, \"sidewall_angle\": 0.0, \"reference_plane\": \"bottom\", \"radius\": 0.072, \"center\": [-0.3600000000000001, 1.4549226783578568, 0.0], \"length\": 0.144}, {\"type\": \"Cylinder\", \"axis\": 2, \"sidewall_angle\": 0.0, \"reference_plane\": \"bottom\", \"radius\": 0.072, \"center\": [-0.12000000000000002, 1.4549226783578568, 0.0], \"length\": 0.144}, {\"type\": \"Cylinder\", \"axis\": 2, \"sidewall_angle\": 0.0, \"reference_plane\": \"bottom\", \"radius\": 0.072, \"center\": [0.12000000000000002, 1.4549226783578568, 0.0], \"length\": 0.144}, {\"type\": \"Cylinder\", \"axis\": 2, \"sidewall_angle\": 0.0, \"reference_plane\": \"bottom\", \"radius\": 0.072, \"center\": [0.3600000000000001, 1.4549226783578568, 0.0], \"length\": 0.144}, {\"type\": \"Cylinder\", \"axis\": 2, \"sidewall_angle\": 0.0, \"reference_plane\": \"bottom\", \"radius\": 0.072, \"center\": [0.6000000000000001, 1.4549226783578568, 0.0], \"length\": 0.144}, {\"type\": \"Cylinder\", \"axis\": 2, \"sidewall_angle\": 0.0, \"reference_plane\": \"bottom\", \"radius\": 0.072, \"center\": [0.8400000000000002, 1.4549226783578568, 0.0], \"length\": 0.144}, {\"type\": \"Cylinder\", \"axis\": 2, \"sidewall_angle\": 0.0, \"reference_plane\": \"bottom\", \"radius\": 0.072, \"center\": [1.0800000000000003, 1.4549226783578568, 0.0], \"length\": 0.144}, {\"type\": \"Cylinder\", \"axis\": 2, \"sidewall_angle\": 0.0, \"reference_plane\": \"bottom\", \"radius\": 0.072, \"center\": [1.3200000000000003, 1.4549226783578568, 0.0], \"length\": 0.144}, {\"type\": \"Cylinder\", \"axis\": 2, \"sidewall_angle\": 0.0, \"reference_plane\": \"bottom\", \"radius\": 0.072, \"center\": [1.5600000000000003, 1.4549226783578568, 0.0], \"length\": 0.144}, {\"type\": \"Cylinder\", \"axis\": 2, \"sidewall_angle\": 0.0, \"reference_plane\": \"bottom\", \"radius\": 0.072, \"center\": [1.8000000000000003, 1.4549226783578568, 0.0], \"length\": 0.144}, {\"type\": \"Cylinder\", \"axis\": 2, \"sidewall_angle\": 0.0, \"reference_plane\": \"bottom\", \"radius\": 0.072, \"center\": [2.0400000000000005, 1.4549226783578568, 0.0], \"length\": 0.144}, {\"type\": \"Cylinder\", \"axis\": 2, \"sidewall_angle\": 0.0, \"reference_plane\": \"bottom\", \"radius\": 0.072, \"center\": [2.2800000000000002, 1.4549226783578568, 0.0], \"length\": 0.144}, {\"type\": \"Cylinder\", \"axis\": 2, \"sidewall_angle\": 0.0, \"reference_plane\": \"bottom\", \"radius\": 0.072, \"center\": [-2.4000000000000004, 1.662768775266122, 0.0], \"length\": 0.144}, {\"type\": \"Cylinder\", \"axis\": 2, \"sidewall_angle\": 0.0, \"reference_plane\": \"bottom\", \"radius\": 0.072, \"center\": [-2.1600000000000006, 1.662768775266122, 0.0], \"length\": 0.144}, {\"type\": \"Cylinder\", \"axis\": 2, \"sidewall_angle\": 0.0, \"reference_plane\": \"bottom\", \"radius\": 0.072, \"center\": [-1.9200000000000004, 1.662768775266122, 0.0], \"length\": 0.144}, {\"type\": \"Cylinder\", \"axis\": 2, \"sidewall_angle\": 0.0, \"reference_plane\": \"bottom\", \"radius\": 0.072, \"center\": [-1.6800000000000004, 1.662768775266122, 0.0], \"length\": 0.144}, {\"type\": \"Cylinder\", \"axis\": 2, \"sidewall_angle\": 0.0, \"reference_plane\": \"bottom\", \"radius\": 0.072, \"center\": [-1.4400000000000004, 1.662768775266122, 0.0], \"length\": 0.144}, {\"type\": \"Cylinder\", \"axis\": 2, \"sidewall_angle\": 0.0, \"reference_plane\": \"bottom\", \"radius\": 0.072, \"center\": [-1.2000000000000002, 1.662768775266122, 0.0], \"length\": 0.144}, {\"type\": \"Cylinder\", \"axis\": 2, \"sidewall_angle\": 0.0, \"reference_plane\": \"bottom\", \"radius\": 0.072, \"center\": [-0.9600000000000002, 1.662768775266122, 0.0], \"length\": 0.144}, {\"type\": \"Cylinder\", \"axis\": 2, \"sidewall_angle\": 0.0, \"reference_plane\": \"bottom\", \"radius\": 0.072, \"center\": [-0.7200000000000002, 1.662768775266122, 0.0], \"length\": 0.144}, {\"type\": \"Cylinder\", \"axis\": 2, \"sidewall_angle\": 0.0, \"reference_plane\": \"bottom\", \"radius\": 0.072, \"center\": [-0.4800000000000001, 1.662768775266122, 0.0], \"length\": 0.144}, {\"type\": \"Cylinder\", \"axis\": 2, \"sidewall_angle\": 0.0, \"reference_plane\": \"bottom\", \"radius\": 0.072, \"center\": [-0.24000000000000005, 1.662768775266122, 0.0], \"length\": 0.144}, {\"type\": \"Cylinder\", \"axis\": 2, \"sidewall_angle\": 0.0, \"reference_plane\": \"bottom\", \"radius\": 0.072, \"center\": [0.0, 1.662768775266122, 0.0], \"length\": 0.144}, {\"type\": \"Cylinder\", \"axis\": 2, \"sidewall_angle\": 0.0, \"reference_plane\": \"bottom\", \"radius\": 0.072, \"center\": [0.24000000000000005, 1.662768775266122, 0.0], \"length\": 0.144}, {\"type\": \"Cylinder\", \"axis\": 2, \"sidewall_angle\": 0.0, \"reference_plane\": \"bottom\", \"radius\": 0.072, \"center\": [0.4800000000000001, 1.662768775266122, 0.0], \"length\": 0.144}, {\"type\": \"Cylinder\", \"axis\": 2, \"sidewall_angle\": 0.0, \"reference_plane\": \"bottom\", \"radius\": 0.072, \"center\": [0.7200000000000002, 1.662768775266122, 0.0], \"length\": 0.144}, {\"type\": \"Cylinder\", \"axis\": 2, \"sidewall_angle\": 0.0, \"reference_plane\": \"bottom\", \"radius\": 0.072, \"center\": [0.9600000000000002, 1.662768775266122, 0.0], \"length\": 0.144}, {\"type\": \"Cylinder\", \"axis\": 2, \"sidewall_angle\": 0.0, \"reference_plane\": \"bottom\", \"radius\": 0.072, \"center\": [1.2000000000000002, 1.662768775266122, 0.0], \"length\": 0.144}, {\"type\": \"Cylinder\", \"axis\": 2, \"sidewall_angle\": 0.0, \"reference_plane\": \"bottom\", \"radius\": 0.072, \"center\": [1.4400000000000004, 1.662768775266122, 0.0], \"length\": 0.144}, {\"type\": \"Cylinder\", \"axis\": 2, \"sidewall_angle\": 0.0, \"reference_plane\": \"bottom\", \"radius\": 0.072, \"center\": [1.6800000000000004, 1.662768775266122, 0.0], \"length\": 0.144}, {\"type\": \"Cylinder\", \"axis\": 2, \"sidewall_angle\": 0.0, \"reference_plane\": \"bottom\", \"radius\": 0.072, \"center\": [1.9200000000000004, 1.662768775266122, 0.0], \"length\": 0.144}, {\"type\": \"Cylinder\", \"axis\": 2, \"sidewall_angle\": 0.0, \"reference_plane\": \"bottom\", \"radius\": 0.072, \"center\": [2.1600000000000006, 1.662768775266122, 0.0], \"length\": 0.144}, {\"type\": \"Cylinder\", \"axis\": 2, \"sidewall_angle\": 0.0, \"reference_plane\": \"bottom\", \"radius\": 0.072, \"center\": [2.4000000000000004, 1.662768775266122, 0.0], \"length\": 0.144}]}, \"name\": null, \"type\": \"Structure\", \"medium\": {\"name\": null, \"frequency_range\": null, \"allow_gain\": false, \"nonlinear_spec\": null, \"modulation_spec\": null, \"heat_spec\": null, \"type\": \"Medium\", \"permittivity\": 1.0, \"conductivity\": 0.0}}], \"symmetry\": [1, -1, 1], \"sources\": [{\"name\": \"dip_source\", \"type\": \"PointDipole\", \"center\": [0.0, 0.0, 0.0], \"size\": [0, 0, 0], \"source_time\": {\"amplitude\": 1.0, \"phase\": 0.0, \"type\": \"GaussianPulse\", \"freq0\": 329442261538461.5, \"fwidth\": 3620681859903.4062, \"offset\": 5.0, \"remove_dc_component\": true}, \"interpolate\": true, \"polarization\": \"Ey\"}], \"boundary_spec\": {\"x\": {\"plus\": {\"name\": null, \"type\": \"PML\", \"num_layers\": 12, \"parameters\": {\"sigma_order\": 3, \"sigma_min\": 0.0, \"sigma_max\": 1.5, \"type\": \"PMLParams\", \"kappa_order\": 3, \"kappa_min\": 1.0, \"kappa_max\": 3.0, \"alpha_order\": 1, \"alpha_min\": 0.0, \"alpha_max\": 0.0}}, \"minus\": {\"name\": null, \"type\": \"PML\", \"num_layers\": 12, \"parameters\": {\"sigma_order\": 3, \"sigma_min\": 0.0, \"sigma_max\": 1.5, \"type\": \"PMLParams\", \"kappa_order\": 3, \"kappa_min\": 1.0, \"kappa_max\": 3.0, \"alpha_order\": 1, \"alpha_min\": 0.0, \"alpha_max\": 0.0}}, \"type\": \"Boundary\"}, \"y\": {\"plus\": {\"name\": null, \"type\": \"PML\", \"num_layers\": 12, \"parameters\": {\"sigma_order\": 3, \"sigma_min\": 0.0, \"sigma_max\": 1.5, \"type\": \"PMLParams\", \"kappa_order\": 3, \"kappa_min\": 1.0, \"kappa_max\": 3.0, \"alpha_order\": 1, \"alpha_min\": 0.0, \"alpha_max\": 0.0}}, \"minus\": {\"name\": null, \"type\": \"PML\", \"num_layers\": 12, \"parameters\": {\"sigma_order\": 3, \"sigma_min\": 0.0, \"sigma_max\": 1.5, \"type\": \"PMLParams\", \"kappa_order\": 3, \"kappa_min\": 1.0, \"kappa_max\": 3.0, \"alpha_order\": 1, \"alpha_min\": 0.0, \"alpha_max\": 0.0}}, \"type\": \"Boundary\"}, \"z\": {\"plus\": {\"name\": null, \"type\": \"PML\", \"num_layers\": 12, \"parameters\": {\"sigma_order\": 3, \"sigma_min\": 0.0, \"sigma_max\": 1.5, \"type\": \"PMLParams\", \"kappa_order\": 3, \"kappa_min\": 1.0, \"kappa_max\": 3.0, \"alpha_order\": 1, \"alpha_min\": 0.0, \"alpha_max\": 0.0}}, \"minus\": {\"name\": null, \"type\": \"PML\", \"num_layers\": 12, \"parameters\": {\"sigma_order\": 3, \"sigma_min\": 0.0, \"sigma_max\": 1.5, \"type\": \"PMLParams\", \"kappa_order\": 3, \"kappa_min\": 1.0, \"kappa_max\": 3.0, \"alpha_order\": 1, \"alpha_min\": 0.0, \"alpha_max\": 0.0}}, \"type\": \"Boundary\"}, \"type\": \"BoundarySpec\"}, \"monitors\": [{\"type\": \"FieldTimeMonitor\", \"center\": [0.0, 0.0, 0.0], \"size\": [0.0, 0.0, 0.0], \"name\": \"monitor_time\", \"interval_space\": [1, 1, 1], \"colocate\": true, \"start\": 5.52382141648136e-13, \"stop\": null, \"interval\": 1, \"fields\": [\"Ey\"]}, {\"type\": \"FieldMonitor\", \"center\": [0.0, 0.0, 0.0], \"size\": [2.5200000000000005, 1.7666918237202547, 0.576], \"name\": \"field_vol\", \"interval_space\": [1, 1, 1], \"colocate\": false, \"freqs\": [329168800000000.0], \"apodization\": {\"start\": 5.52382141648136e-13, \"end\": null, \"width\": 4.971439274833224e-12, \"type\": \"ApodizationSpec\"}, \"fields\": [\"Ex\", \"Ey\", \"Ez\", \"Hx\", \"Hy\", \"Hz\"]}], \"grid_spec\": {\"grid_x\": {\"type\": \"AutoGrid\", \"min_steps_per_wvl\": 20.0, \"max_scale\": 1.4, \"dl_min\": 0.0, \"mesher\": {\"type\": \"GradedMesher\"}}, \"grid_y\": {\"type\": \"AutoGrid\", \"min_steps_per_wvl\": 20.0, \"max_scale\": 1.4, \"dl_min\": 0.0, \"mesher\": {\"type\": \"GradedMesher\"}}, \"grid_z\": {\"type\": \"AutoGrid\", \"min_steps_per_wvl\": 20.0, \"max_scale\": 1.4, \"dl_min\": 0.0, \"mesher\": {\"type\": \"GradedMesher\"}}, \"wavelength\": 0.91, \"override_structures\": [], \"type\": \"GridSpec\"}, \"version\": \"2.7.0rc1\", \"courant\": 0.99, \"normalize_index\": null, \"shutoff\": 0.0, \"subpixel\": true, \"run_time\": {\"source_factor\": 3.0, \"quality_factor\": 100.0, \"type\": \"RunTimeSpec\"}}}, '*')\n",
       "        }\n",
       "    };\n",
       "    window.addEventListener(\n",
       "        'message',\n",
       "        window.postMessageToViewer170904191812695499,\n",
       "        false\n",
       "    );\n",
       "    \n",
       "    </script>\n",
       "    "
      ],
      "text/plain": [
       "<IPython.core.display.HTML object>"
      ]
     },
     "metadata": {},
     "output_type": "display_data"
    }
   ],
   "source": [
    "sim = td.Simulation(\n",
    "    center=(0, 0, 0),\n",
    "    size=(size_x, size_y, size_z),\n",
    "    grid_spec=td.GridSpec.auto(wavelength=wl_c, min_steps_per_wvl=20),\n",
    "    structures=[phc_slab, phc_holes],\n",
    "    sources=[dip_source],\n",
    "    monitors=[mon_fieldtime, mon_field],\n",
    "    run_time=td.RunTimeSpec(),\n",
    "    shutoff=0,\n",
    "    boundary_spec=td.BoundarySpec.all_sides(boundary=td.PML()),\n",
    "    normalize_index=None,\n",
    "    symmetry=(1, -1, 1),\n",
    ")\n",
    "\n",
    "sim.plot_3d(width=400, height=400)"
   ]
  },
  {
   "cell_type": "code",
   "execution_count": null,
   "metadata": {},
   "outputs": [],
   "source": [
    "print(f\"run_time (original) = {run_time:3e} (sec), run_time (auto / spec) = {sim._run_time:3e} (sec)\")\n",
    "assert False"
   ]
  },
  {
   "cell_type": "markdown",
   "metadata": {},
   "source": [
    "Before running the simulation, let's look at the source and monitor positions to certify we are measuring the fields after the sources have fully decayed."
   ]
  },
  {
   "cell_type": "code",
   "execution_count": null,
   "metadata": {},
   "outputs": [],
   "source": [
    "fig, (ax1, ax2) = plt.subplots(1, 2, tight_layout=True, figsize=(12, 5))\n",
    "sim.plot(z=0.0, ax=ax1)\n",
    "\n",
    "plot_time = 3 / freq_bw\n",
    "sim.sources[0].source_time.plot(\n",
    "    times=np.linspace(0, plot_time, 1001), val=\"abs\", ax=ax2\n",
    ")\n",
    "ax2.set_xlim(0, plot_time)\n",
    "ax2.vlines(t_start, 0, 1, linewidth=2, color=\"g\", alpha=0.4)\n",
    "ax2.legend([\"source\", \"start time\"])\n",
    "plt.show()"
   ]
  },
  {
   "cell_type": "markdown",
   "metadata": {},
   "source": [
    "Now, let's run the simulation!"
   ]
  },
  {
   "cell_type": "code",
   "execution_count": null,
   "metadata": {},
   "outputs": [],
   "source": [
    "job = web.Job(simulation=sim, task_name=\"l3_nanocavity\", verbose=True)\n",
    "sim_data = job.run(path=\"data/simulation_data.hdf5\")"
   ]
  },
  {
   "cell_type": "markdown",
   "metadata": {},
   "source": [
    "## Cavity Field Distribution\n",
    "After running the simulation, we can obtain the frequency-domain fields to see what the cavity mode looks like. It is worth mentioning that frequency-domain results are considered accurate only if we run the simulation until the time-domain fields completely decays within the monitor region."
   ]
  },
  {
   "cell_type": "code",
   "execution_count": null,
   "metadata": {},
   "outputs": [],
   "source": [
    "fig, (ax1, ax2) = plt.subplots(1, 2, tight_layout=True, figsize=(12, 4))\n",
    "\n",
    "sim_data.plot_field(\"field_vol\", \"E\", \"abs\", z=0, ax=ax1)\n",
    "sim_data.plot_field(\"field_vol\", \"Ey\", \"real\", z=0, ax=ax2)\n",
    "plt.show()"
   ]
  },
  {
   "cell_type": "markdown",
   "metadata": {},
   "source": [
    "## Quality Factor\n",
    "Now, we can analyze the simulation data and calculate the resonance information from the time domain fields. The `run()` method returns an `xr.Dataset` containing the decay rate, Q-factor, amplitude, phase, and estimation error.\n"
   ]
  },
  {
   "cell_type": "code",
   "execution_count": null,
   "metadata": {},
   "outputs": [],
   "source": [
    "resonance_finder = ResonanceFinder(freq_window=(freq_range[-1], freq_range[0]))\n",
    "resonance_data = resonance_finder.run(signals=sim_data[\"monitor_time\"])\n",
    "resonance_data.to_dataframe()"
   ]
  },
  {
   "cell_type": "markdown",
   "metadata": {},
   "source": [
    "Within the wavelength range from 900 to 920 nm, the L3 nanocavity has only the fundamental resonance, which shows a Q-factor of \n",
    "$9.53\\times10^{4}$, very close to the value of $9.60\\times10^{4}$ reported in `[1]`."
   ]
  },
  {
   "cell_type": "markdown",
   "metadata": {},
   "source": [
    "## Cavity Effective Mode Volume\n",
    "\n",
    "The cavity effective mode volume ($V_{eff}$) describes how efficiently the cavity concentrates the electromagnetic field in a restricted space. The $V_{eff}$ value can be calculated from the cavity mode field distribution as defined by `[2]`:\n",
    "\n",
    "$V_{eff} = \\frac{\\int\\varepsilon(r)|E(r)|^{2}d^{3}r}{max[\\varepsilon(r)|E(r)|^{2}(r)]}$,\n",
    "\n",
    "where $\\varepsilon(r)$ is the cavity permittivity distribution, which can be obtained from the simulation object. This expression for $V_{eff}$ is not strictly valid for the case of open leaky cavities supporting quasimodes `[3]`.\n",
    "\n",
    "Below, we estimate $V_{eff}$ in units of $\\mu m^{3}$, $m^{3}$, and in units of $(\\lambda/n)^{3}$ which is also commonly used. The volume integral is performed using [xarray.Dataset.integrate](https://docs.xarray.dev/en/stable/generated/xarray.Dataset.integrate.html), which conveniently integrates the integrand along the given coordinates using the trapezoidal rule. \n"
   ]
  },
  {
   "cell_type": "code",
   "execution_count": null,
   "metadata": {},
   "outputs": [],
   "source": [
    "# Permittivity distribution.\n",
    "grid = sim.discretize(box=mon_box, extend=False)\n",
    "eps = np.real(sim.epsilon_on_grid(grid=grid, coord_key=\"centers\").values)\n",
    "\n",
    "# Electric field obtained at the grid coordinates.\n",
    "e_field = sim_data[\"field_vol\"].at_coords(\n",
    "    td.Coords(x=grid.centers.x, y=grid.centers.y, z=grid.centers.z)\n",
    ")\n",
    "e_x = e_field.isel(f=0).Ex\n",
    "e_y = e_field.isel(f=0).Ey\n",
    "e_z = e_field.isel(f=0).Ez\n",
    "e_2 = np.abs(e_x) ** 2 + np.abs(e_y) ** 2 + np.abs(e_z) ** 2\n",
    "\n",
    "# Calculation of effective mode volume.\n",
    "e_eps = eps * e_2\n",
    "num = e_eps.integrate(coord=(\"x\", \"y\", \"z\")).item()\n",
    "den = np.amax(e_eps)\n",
    "V_eff = (num / den).values\n",
    "\n",
    "print(f\"V_eff = {V_eff:.3f} um^3\")\n",
    "print(f\"V_eff = {V_eff / 1e18:.3e} m^3\")\n",
    "print(f\"V_eff = {V_eff / (wl_c/n)**3:.2f} (lambda/n)^3\")"
   ]
  },
  {
   "cell_type": "markdown",
   "metadata": {},
   "source": [
    "The result is close to the value of $0.75 (\\lambda/n)^{3}$ reported in `[1]`. We can further improve the $V_{eff}$ accuracy by reducing the source bandwidth, running the simulation longer, and choosing a finer grid mesh."
   ]
  },
  {
   "cell_type": "markdown",
   "metadata": {},
   "source": [
    "## Purcell Factor\n",
    "\n",
    "As stated in `[1]`, nanophotonic cavities enable the pronounced enhancement of a single optical mode due to a substantial spatial and spectral confinement of light so that the radiative decay rate into the cavity mode $\\gamma_{cav}$ is much faster than the decay rate into all other (nonguided) modes $\\gamma_{ng}$. As usually $\\gamma_{cav} \\gg \\gamma_{ng}$, we can describe the Purcell factor as the ratio between the radiative decay rate of a dipole-like emitter into a photonic structure to the radiative rate of an identical emitter placed in a homogeneous medium of refractive index $n$, i. e., $F_{p} = \\gamma_{cav}/\\gamma_{hom}$. The Purcell factor measures the enhancement in spontaneous emission rate, and it is essential for many applications, e.g., LEDs, lasers, and single-photon sources.\n",
    "\n",
    "When dealing with low-quality factor resonances, we can calculate the Purcell factor by the ratio of the radiation power for a dipole in a cavity ($P_{cav}$) and the dipole emission power in a homogeneous dielectric material  ($P_{hom}$), i. e.,  $F_{p} = P_{cav}/P_{hom}$, as defined in `[4]`. An example of such an approach is included in this [notebook](https://www.flexcompute.com/tidy3d/examples/notebooks/BullseyeCavityPSO/).\n",
    "\n",
    "However, when long-lived resonances are present in the FDTD simulation (this case), calculating the dipole power emission is not so practical, as we might wait for a long time until the fields decay to negligible values within the simulation domain. So, we can derive the Purcell factor as `[1]`:\n",
    "\n",
    "$F_{p}(r, \\omega, e_{d}) = F_{p}^{max} f(r) |e_{d} \\cdot e_{c}|^{2}\\frac{\\omega_{c}^{2}/4Q^{2}}{(\\omega_{c} - \\omega)^{2} + \\omega_{c}^{2}/4Q^{2}}$,\n",
    "\n",
    "where $F_{p}^{max}$ is the maximum achievable Purcell factor, $f(r)$ defines the spatial mismatch between the emitter position and the maximum cavity field amplitude, $|e_{d} \\cdot e_{c}|^{2}$ accounts for the alignment between the emitter and cavity fields, and the last term corrects for a detuning concerning the cavity resonance.\n",
    "\n",
    "When optimizing photonic cavity structures, we can usually consider an emitter in resonance and optimally placed and oriented concerning the cavity fields so that,\n",
    "\n",
    "$F_{p} = F_{p}^{max} = \\frac{3}{4\\pi^{2}}\\left(\\frac{\\lambda}{n}\\right)^{3}\\frac{Q}{V_{eff}}$.\n",
    "\n",
    "This way, we can derive the Purcell value from the cavity quality factor and effective mode volume, as below:"
   ]
  },
  {
   "cell_type": "code",
   "execution_count": null,
   "metadata": {},
   "outputs": [],
   "source": [
    "Q = resonance_data[\"Q\"][0].values\n",
    "mode_freq = resonance_data[\"freq\"][0].values\n",
    "\n",
    "F_p = (3 / (4 * np.pi**2)) * ((wl_c / n) ** 3) * (Q / V_eff)\n",
    "print(f\"F_p = {F_p:.0f}\")"
   ]
  },
  {
   "cell_type": "markdown",
   "metadata": {},
   "source": [
    "Lastly, let's see how the Purcell factor would vary under a $\\pm 50$ GHz detuning."
   ]
  },
  {
   "cell_type": "code",
   "execution_count": null,
   "metadata": {},
   "outputs": [],
   "source": [
    "w_c = 2 * np.pi * mode_freq\n",
    "detuning = 50e9\n",
    "del_w = np.linspace(-detuning * 2 * np.pi, detuning * 2 * np.pi, 2000)\n",
    "F_p_w = F_p * (w_c**2 / (4 * Q) ** 2) / (del_w**2 + (w_c**2 / (4 * Q) ** 2))\n",
    "\n",
    "fig, ax1 = plt.subplots(1, 1, tight_layout=True, figsize=(7, 4))\n",
    "\n",
    "ax1.plot(del_w * 1e-9 / (2 * np.pi), F_p_w)\n",
    "ax1.set_xlabel(\"$(\\omega_{c} - \\omega)/2 \\pi$ (GHz)\")\n",
    "ax1.set_ylabel(\"$F_{p}$\")\n",
    "ax1.set_xlim(-detuning * 1e-9, detuning * 1e-9)\n",
    "plt.show()"
   ]
  }
 ],
 "metadata": {
  "description": "This notebook demonstrates how to calculate cavity quality factor, effective mode volume, and Purcell factor in Tidy3D FDTD.",
  "feature_image": "",
  "kernelspec": {
   "display_name": "Python 3 (ipykernel)",
   "language": "python",
   "name": "python3"
  },
  "keywords": "cavity quality factor, cavity effective mode volume, cavity mode volume, Purcell factor, FDTD cavity, FDTD resonance, FDTD quality factor, FDTD mode volume, FDTD Purcell factor, Tidy3D, FDTD",
  "language_info": {
   "codemirror_mode": {
    "name": "ipython",
    "version": 3
   },
   "file_extension": ".py",
   "mimetype": "text/x-python",
   "name": "python",
   "nbconvert_exporter": "python",
   "pygments_lexer": "ipython3",
   "version": "3.11.7"
  },
  "title": "Calculating cavity quality factor, effective mode volume, and Purcell factor in Tidy3D | Flexcompute",
  "widgets": {
   "application/vnd.jupyter.widget-state+json": {
    "state": {
     "09fe8c9fda4d4770a6e69f05681b8cd0": {
      "model_module": "@jupyter-widgets/output",
      "model_module_version": "1.0.0",
      "model_name": "OutputModel",
      "state": {
       "_dom_classes": [],
       "_model_module": "@jupyter-widgets/output",
       "_model_module_version": "1.0.0",
       "_model_name": "OutputModel",
       "_view_count": null,
       "_view_module": "@jupyter-widgets/output",
       "_view_module_version": "1.0.0",
       "_view_name": "OutputView",
       "layout": "IPY_MODEL_c0cd67d174b84c9e902bddc1057b8438",
       "msg_id": "",
       "outputs": [
        {
         "data": {
          "text/html": "<pre style=\"white-space:pre;overflow-x:auto;line-height:normal;font-family:Menlo,'DejaVu Sans Mono',consolas,'Courier New',monospace\"><span style=\"color: #008000; text-decoration-color: #008000; font-weight: bold\">↓</span> <span style=\"color: #000080; text-decoration-color: #000080; font-weight: bold\">monitor_data.hdf5</span> <span style=\"color: #729c1f; text-decoration-color: #729c1f\">━━━━━━━━━━━━━━━━━━</span> <span style=\"color: #800080; text-decoration-color: #800080\">100.0%</span> • <span style=\"color: #008000; text-decoration-color: #008000\">5.4/5.4 MB</span> • <span style=\"color: #800000; text-decoration-color: #800000\">26.8 MB/s</span> • <span style=\"color: #008080; text-decoration-color: #008080\">0:00:00</span>\n</pre>\n",
          "text/plain": "\u001b[1;32m↓\u001b[0m \u001b[1;34mmonitor_data.hdf5\u001b[0m \u001b[38;2;114;156;31m━━━━━━━━━━━━━━━━━━\u001b[0m \u001b[35m100.0%\u001b[0m • \u001b[32m5.4/5.4 MB\u001b[0m • \u001b[31m26.8 MB/s\u001b[0m • \u001b[36m0:00:00\u001b[0m\n"
         },
         "metadata": {},
         "output_type": "display_data"
        }
       ],
       "tabbable": null,
       "tooltip": null
      }
     },
     "0ebaf2445613420eabb4080aaa4e49e0": {
      "model_module": "@jupyter-widgets/base",
      "model_module_version": "2.0.0",
      "model_name": "LayoutModel",
      "state": {
       "_model_module": "@jupyter-widgets/base",
       "_model_module_version": "2.0.0",
       "_model_name": "LayoutModel",
       "_view_count": null,
       "_view_module": "@jupyter-widgets/base",
       "_view_module_version": "2.0.0",
       "_view_name": "LayoutView",
       "align_content": null,
       "align_items": null,
       "align_self": null,
       "border_bottom": null,
       "border_left": null,
       "border_right": null,
       "border_top": null,
       "bottom": null,
       "display": null,
       "flex": null,
       "flex_flow": null,
       "grid_area": null,
       "grid_auto_columns": null,
       "grid_auto_flow": null,
       "grid_auto_rows": null,
       "grid_column": null,
       "grid_gap": null,
       "grid_row": null,
       "grid_template_areas": null,
       "grid_template_columns": null,
       "grid_template_rows": null,
       "height": null,
       "justify_content": null,
       "justify_items": null,
       "left": null,
       "margin": null,
       "max_height": null,
       "max_width": null,
       "min_height": null,
       "min_width": null,
       "object_fit": null,
       "object_position": null,
       "order": null,
       "overflow": null,
       "padding": null,
       "right": null,
       "top": null,
       "visibility": null,
       "width": null
      }
     },
     "167955fe2d6a43b49ae76a69d8897680": {
      "model_module": "@jupyter-widgets/base",
      "model_module_version": "2.0.0",
      "model_name": "LayoutModel",
      "state": {
       "_model_module": "@jupyter-widgets/base",
       "_model_module_version": "2.0.0",
       "_model_name": "LayoutModel",
       "_view_count": null,
       "_view_module": "@jupyter-widgets/base",
       "_view_module_version": "2.0.0",
       "_view_name": "LayoutView",
       "align_content": null,
       "align_items": null,
       "align_self": null,
       "border_bottom": null,
       "border_left": null,
       "border_right": null,
       "border_top": null,
       "bottom": null,
       "display": null,
       "flex": null,
       "flex_flow": null,
       "grid_area": null,
       "grid_auto_columns": null,
       "grid_auto_flow": null,
       "grid_auto_rows": null,
       "grid_column": null,
       "grid_gap": null,
       "grid_row": null,
       "grid_template_areas": null,
       "grid_template_columns": null,
       "grid_template_rows": null,
       "height": null,
       "justify_content": null,
       "justify_items": null,
       "left": null,
       "margin": null,
       "max_height": null,
       "max_width": null,
       "min_height": null,
       "min_width": null,
       "object_fit": null,
       "object_position": null,
       "order": null,
       "overflow": null,
       "padding": null,
       "right": null,
       "top": null,
       "visibility": null,
       "width": null
      }
     },
     "216d6ddd1b7d4b9295d0cac8a84fc243": {
      "model_module": "@jupyter-widgets/base",
      "model_module_version": "2.0.0",
      "model_name": "LayoutModel",
      "state": {
       "_model_module": "@jupyter-widgets/base",
       "_model_module_version": "2.0.0",
       "_model_name": "LayoutModel",
       "_view_count": null,
       "_view_module": "@jupyter-widgets/base",
       "_view_module_version": "2.0.0",
       "_view_name": "LayoutView",
       "align_content": null,
       "align_items": null,
       "align_self": null,
       "border_bottom": null,
       "border_left": null,
       "border_right": null,
       "border_top": null,
       "bottom": null,
       "display": null,
       "flex": null,
       "flex_flow": null,
       "grid_area": null,
       "grid_auto_columns": null,
       "grid_auto_flow": null,
       "grid_auto_rows": null,
       "grid_column": null,
       "grid_gap": null,
       "grid_row": null,
       "grid_template_areas": null,
       "grid_template_columns": null,
       "grid_template_rows": null,
       "height": null,
       "justify_content": null,
       "justify_items": null,
       "left": null,
       "margin": null,
       "max_height": null,
       "max_width": null,
       "min_height": null,
       "min_width": null,
       "object_fit": null,
       "object_position": null,
       "order": null,
       "overflow": null,
       "padding": null,
       "right": null,
       "top": null,
       "visibility": null,
       "width": null
      }
     },
     "3116834516ae4287b133f93972df0d63": {
      "model_module": "@jupyter-widgets/base",
      "model_module_version": "2.0.0",
      "model_name": "LayoutModel",
      "state": {
       "_model_module": "@jupyter-widgets/base",
       "_model_module_version": "2.0.0",
       "_model_name": "LayoutModel",
       "_view_count": null,
       "_view_module": "@jupyter-widgets/base",
       "_view_module_version": "2.0.0",
       "_view_name": "LayoutView",
       "align_content": null,
       "align_items": null,
       "align_self": null,
       "border_bottom": null,
       "border_left": null,
       "border_right": null,
       "border_top": null,
       "bottom": null,
       "display": null,
       "flex": null,
       "flex_flow": null,
       "grid_area": null,
       "grid_auto_columns": null,
       "grid_auto_flow": null,
       "grid_auto_rows": null,
       "grid_column": null,
       "grid_gap": null,
       "grid_row": null,
       "grid_template_areas": null,
       "grid_template_columns": null,
       "grid_template_rows": null,
       "height": null,
       "justify_content": null,
       "justify_items": null,
       "left": null,
       "margin": null,
       "max_height": null,
       "max_width": null,
       "min_height": null,
       "min_width": null,
       "object_fit": null,
       "object_position": null,
       "order": null,
       "overflow": null,
       "padding": null,
       "right": null,
       "top": null,
       "visibility": null,
       "width": null
      }
     },
     "368ea34c1775439a82d9f2f9c0cf751c": {
      "model_module": "@jupyter-widgets/base",
      "model_module_version": "2.0.0",
      "model_name": "LayoutModel",
      "state": {
       "_model_module": "@jupyter-widgets/base",
       "_model_module_version": "2.0.0",
       "_model_name": "LayoutModel",
       "_view_count": null,
       "_view_module": "@jupyter-widgets/base",
       "_view_module_version": "2.0.0",
       "_view_name": "LayoutView",
       "align_content": null,
       "align_items": null,
       "align_self": null,
       "border_bottom": null,
       "border_left": null,
       "border_right": null,
       "border_top": null,
       "bottom": null,
       "display": null,
       "flex": null,
       "flex_flow": null,
       "grid_area": null,
       "grid_auto_columns": null,
       "grid_auto_flow": null,
       "grid_auto_rows": null,
       "grid_column": null,
       "grid_gap": null,
       "grid_row": null,
       "grid_template_areas": null,
       "grid_template_columns": null,
       "grid_template_rows": null,
       "height": null,
       "justify_content": null,
       "justify_items": null,
       "left": null,
       "margin": null,
       "max_height": null,
       "max_width": null,
       "min_height": null,
       "min_width": null,
       "object_fit": null,
       "object_position": null,
       "order": null,
       "overflow": null,
       "padding": null,
       "right": null,
       "top": null,
       "visibility": null,
       "width": null
      }
     },
     "3db9ad11a0874aa480bf5cf942a23c50": {
      "model_module": "@jupyter-widgets/base",
      "model_module_version": "2.0.0",
      "model_name": "LayoutModel",
      "state": {
       "_model_module": "@jupyter-widgets/base",
       "_model_module_version": "2.0.0",
       "_model_name": "LayoutModel",
       "_view_count": null,
       "_view_module": "@jupyter-widgets/base",
       "_view_module_version": "2.0.0",
       "_view_name": "LayoutView",
       "align_content": null,
       "align_items": null,
       "align_self": null,
       "border_bottom": null,
       "border_left": null,
       "border_right": null,
       "border_top": null,
       "bottom": null,
       "display": null,
       "flex": null,
       "flex_flow": null,
       "grid_area": null,
       "grid_auto_columns": null,
       "grid_auto_flow": null,
       "grid_auto_rows": null,
       "grid_column": null,
       "grid_gap": null,
       "grid_row": null,
       "grid_template_areas": null,
       "grid_template_columns": null,
       "grid_template_rows": null,
       "height": null,
       "justify_content": null,
       "justify_items": null,
       "left": null,
       "margin": null,
       "max_height": null,
       "max_width": null,
       "min_height": null,
       "min_width": null,
       "object_fit": null,
       "object_position": null,
       "order": null,
       "overflow": null,
       "padding": null,
       "right": null,
       "top": null,
       "visibility": null,
       "width": null
      }
     },
     "400dd082958c4131b87785eed0c2e802": {
      "model_module": "@jupyter-widgets/output",
      "model_module_version": "1.0.0",
      "model_name": "OutputModel",
      "state": {
       "_dom_classes": [],
       "_model_module": "@jupyter-widgets/output",
       "_model_module_version": "1.0.0",
       "_model_name": "OutputModel",
       "_view_count": null,
       "_view_module": "@jupyter-widgets/output",
       "_view_module_version": "1.0.0",
       "_view_name": "OutputView",
       "layout": "IPY_MODEL_216d6ddd1b7d4b9295d0cac8a84fc243",
       "msg_id": "",
       "outputs": [
        {
         "data": {
          "text/html": "<pre style=\"white-space:pre;overflow-x:auto;line-height:normal;font-family:Menlo,'DejaVu Sans Mono',consolas,'Courier New',monospace\"><span style=\"color: #008000; text-decoration-color: #008000\">🏃 </span> <span style=\"color: #008000; text-decoration-color: #008000; font-weight: bold\">Starting 'bc_example2'...</span>\n</pre>\n",
          "text/plain": "\u001b[32m🏃 \u001b[0m \u001b[1;32mStarting 'bc_example2'...\u001b[0m\n"
         },
         "metadata": {},
         "output_type": "display_data"
        }
       ],
       "tabbable": null,
       "tooltip": null
      }
     },
     "48c5e20a9570498183129fdb1a295726": {
      "model_module": "@jupyter-widgets/base",
      "model_module_version": "2.0.0",
      "model_name": "LayoutModel",
      "state": {
       "_model_module": "@jupyter-widgets/base",
       "_model_module_version": "2.0.0",
       "_model_name": "LayoutModel",
       "_view_count": null,
       "_view_module": "@jupyter-widgets/base",
       "_view_module_version": "2.0.0",
       "_view_name": "LayoutView",
       "align_content": null,
       "align_items": null,
       "align_self": null,
       "border_bottom": null,
       "border_left": null,
       "border_right": null,
       "border_top": null,
       "bottom": null,
       "display": null,
       "flex": null,
       "flex_flow": null,
       "grid_area": null,
       "grid_auto_columns": null,
       "grid_auto_flow": null,
       "grid_auto_rows": null,
       "grid_column": null,
       "grid_gap": null,
       "grid_row": null,
       "grid_template_areas": null,
       "grid_template_columns": null,
       "grid_template_rows": null,
       "height": null,
       "justify_content": null,
       "justify_items": null,
       "left": null,
       "margin": null,
       "max_height": null,
       "max_width": null,
       "min_height": null,
       "min_width": null,
       "object_fit": null,
       "object_position": null,
       "order": null,
       "overflow": null,
       "padding": null,
       "right": null,
       "top": null,
       "visibility": null,
       "width": null
      }
     },
     "4a7c4ea7bf3843d0afcbb5b7dbf146f5": {
      "model_module": "@jupyter-widgets/output",
      "model_module_version": "1.0.0",
      "model_name": "OutputModel",
      "state": {
       "_dom_classes": [],
       "_model_module": "@jupyter-widgets/output",
       "_model_module_version": "1.0.0",
       "_model_name": "OutputModel",
       "_view_count": null,
       "_view_module": "@jupyter-widgets/output",
       "_view_module_version": "1.0.0",
       "_view_name": "OutputView",
       "layout": "IPY_MODEL_75a080e634a249c8b37596092afc2bd3",
       "msg_id": "",
       "outputs": [
        {
         "data": {
          "text/html": "<pre style=\"white-space:pre;overflow-x:auto;line-height:normal;font-family:Menlo,'DejaVu Sans Mono',consolas,'Courier New',monospace\"><span style=\"color: #800000; text-decoration-color: #800000; font-weight: bold\">↑</span> <span style=\"color: #000080; text-decoration-color: #000080; font-weight: bold\">simulation.hdf5.gz</span> <span style=\"color: #729c1f; text-decoration-color: #729c1f\">━━━━━━━━━━━━━━━━━━━━━━━━━</span> <span style=\"color: #800080; text-decoration-color: #800080\">100.0%</span> • <span style=\"color: #008000; text-decoration-color: #008000\">1.2/1.2 kB</span> • <span style=\"color: #800000; text-decoration-color: #800000\">?</span> • <span style=\"color: #008080; text-decoration-color: #008080\">0:00:00</span>\n</pre>\n",
          "text/plain": "\u001b[1;31m↑\u001b[0m \u001b[1;34msimulation.hdf5.gz\u001b[0m \u001b[38;2;114;156;31m━━━━━━━━━━━━━━━━━━━━━━━━━\u001b[0m \u001b[35m100.0%\u001b[0m • \u001b[32m1.2/1.2 kB\u001b[0m • \u001b[31m?\u001b[0m • \u001b[36m0:00:00\u001b[0m\n"
         },
         "metadata": {},
         "output_type": "display_data"
        }
       ],
       "tabbable": null,
       "tooltip": null
      }
     },
     "50829bd26bdf41669b1aa8363b8feed5": {
      "model_module": "@jupyter-widgets/output",
      "model_module_version": "1.0.0",
      "model_name": "OutputModel",
      "state": {
       "_dom_classes": [],
       "_model_module": "@jupyter-widgets/output",
       "_model_module_version": "1.0.0",
       "_model_name": "OutputModel",
       "_view_count": null,
       "_view_module": "@jupyter-widgets/output",
       "_view_module_version": "1.0.0",
       "_view_name": "OutputView",
       "layout": "IPY_MODEL_0ebaf2445613420eabb4080aaa4e49e0",
       "msg_id": "",
       "outputs": [
        {
         "data": {
          "text/html": "<pre style=\"white-space:pre;overflow-x:auto;line-height:normal;font-family:Menlo,'DejaVu Sans Mono',consolas,'Courier New',monospace\"><span style=\"color: #800000; text-decoration-color: #800000; font-weight: bold\">↑</span> <span style=\"color: #000080; text-decoration-color: #000080; font-weight: bold\">simulation.hdf5.gz</span> <span style=\"color: #729c1f; text-decoration-color: #729c1f\">━━━━━━━━━━━━━━━━━━━━━━━━━</span> <span style=\"color: #800080; text-decoration-color: #800080\">100.0%</span> • <span style=\"color: #008000; text-decoration-color: #008000\">1.2/1.2 kB</span> • <span style=\"color: #800000; text-decoration-color: #800000\">?</span> • <span style=\"color: #008080; text-decoration-color: #008080\">0:00:00</span>\n</pre>\n",
          "text/plain": "\u001b[1;31m↑\u001b[0m \u001b[1;34msimulation.hdf5.gz\u001b[0m \u001b[38;2;114;156;31m━━━━━━━━━━━━━━━━━━━━━━━━━\u001b[0m \u001b[35m100.0%\u001b[0m • \u001b[32m1.2/1.2 kB\u001b[0m • \u001b[31m?\u001b[0m • \u001b[36m0:00:00\u001b[0m\n"
         },
         "metadata": {},
         "output_type": "display_data"
        }
       ],
       "tabbable": null,
       "tooltip": null
      }
     },
     "51cb98d3e42c450ca85e5df5f7746a9f": {
      "model_module": "@jupyter-widgets/base",
      "model_module_version": "2.0.0",
      "model_name": "LayoutModel",
      "state": {
       "_model_module": "@jupyter-widgets/base",
       "_model_module_version": "2.0.0",
       "_model_name": "LayoutModel",
       "_view_count": null,
       "_view_module": "@jupyter-widgets/base",
       "_view_module_version": "2.0.0",
       "_view_name": "LayoutView",
       "align_content": null,
       "align_items": null,
       "align_self": null,
       "border_bottom": null,
       "border_left": null,
       "border_right": null,
       "border_top": null,
       "bottom": null,
       "display": null,
       "flex": null,
       "flex_flow": null,
       "grid_area": null,
       "grid_auto_columns": null,
       "grid_auto_flow": null,
       "grid_auto_rows": null,
       "grid_column": null,
       "grid_gap": null,
       "grid_row": null,
       "grid_template_areas": null,
       "grid_template_columns": null,
       "grid_template_rows": null,
       "height": null,
       "justify_content": null,
       "justify_items": null,
       "left": null,
       "margin": null,
       "max_height": null,
       "max_width": null,
       "min_height": null,
       "min_width": null,
       "object_fit": null,
       "object_position": null,
       "order": null,
       "overflow": null,
       "padding": null,
       "right": null,
       "top": null,
       "visibility": null,
       "width": null
      }
     },
     "581fa7c3b23744c2a559c82e1c5ab186": {
      "model_module": "@jupyter-widgets/output",
      "model_module_version": "1.0.0",
      "model_name": "OutputModel",
      "state": {
       "_dom_classes": [],
       "_model_module": "@jupyter-widgets/output",
       "_model_module_version": "1.0.0",
       "_model_name": "OutputModel",
       "_view_count": null,
       "_view_module": "@jupyter-widgets/output",
       "_view_module_version": "1.0.0",
       "_view_name": "OutputView",
       "layout": "IPY_MODEL_48c5e20a9570498183129fdb1a295726",
       "msg_id": "",
       "outputs": [
        {
         "data": {
          "text/html": "<pre style=\"white-space:pre;overflow-x:auto;line-height:normal;font-family:Menlo,'DejaVu Sans Mono',consolas,'Courier New',monospace\"><span style=\"color: #008000; text-decoration-color: #008000\">🚶 </span> <span style=\"color: #008000; text-decoration-color: #008000; font-weight: bold\">Finishing 'bc_example1'...</span>\n</pre>\n",
          "text/plain": "\u001b[32m🚶 \u001b[0m \u001b[1;32mFinishing 'bc_example1'...\u001b[0m\n"
         },
         "metadata": {},
         "output_type": "display_data"
        }
       ],
       "tabbable": null,
       "tooltip": null
      }
     },
     "59ee8882d8c946a9a401e4e1410862b7": {
      "model_module": "@jupyter-widgets/output",
      "model_module_version": "1.0.0",
      "model_name": "OutputModel",
      "state": {
       "_dom_classes": [],
       "_model_module": "@jupyter-widgets/output",
       "_model_module_version": "1.0.0",
       "_model_name": "OutputModel",
       "_view_count": null,
       "_view_module": "@jupyter-widgets/output",
       "_view_module_version": "1.0.0",
       "_view_name": "OutputView",
       "layout": "IPY_MODEL_3db9ad11a0874aa480bf5cf942a23c50",
       "msg_id": "",
       "outputs": [
        {
         "data": {
          "text/html": "<pre style=\"white-space:pre;overflow-x:auto;line-height:normal;font-family:Menlo,'DejaVu Sans Mono',consolas,'Courier New',monospace\"><span style=\"color: #800000; text-decoration-color: #800000; font-weight: bold\">↑</span> <span style=\"color: #000080; text-decoration-color: #000080; font-weight: bold\">simulation.hdf5.gz</span> <span style=\"color: #729c1f; text-decoration-color: #729c1f\">━━━━━━━━━━━━━━━━━━━━━━━━━</span> <span style=\"color: #800080; text-decoration-color: #800080\">100.0%</span> • <span style=\"color: #008000; text-decoration-color: #008000\">1.1/1.1 kB</span> • <span style=\"color: #800000; text-decoration-color: #800000\">?</span> • <span style=\"color: #008080; text-decoration-color: #008080\">0:00:00</span>\n</pre>\n",
          "text/plain": "\u001b[1;31m↑\u001b[0m \u001b[1;34msimulation.hdf5.gz\u001b[0m \u001b[38;2;114;156;31m━━━━━━━━━━━━━━━━━━━━━━━━━\u001b[0m \u001b[35m100.0%\u001b[0m • \u001b[32m1.1/1.1 kB\u001b[0m • \u001b[31m?\u001b[0m • \u001b[36m0:00:00\u001b[0m\n"
         },
         "metadata": {},
         "output_type": "display_data"
        }
       ],
       "tabbable": null,
       "tooltip": null
      }
     },
     "61c52fe7a9474dc5bebdbbbdf934498d": {
      "model_module": "@jupyter-widgets/output",
      "model_module_version": "1.0.0",
      "model_name": "OutputModel",
      "state": {
       "_dom_classes": [],
       "_model_module": "@jupyter-widgets/output",
       "_model_module_version": "1.0.0",
       "_model_name": "OutputModel",
       "_view_count": null,
       "_view_module": "@jupyter-widgets/output",
       "_view_module_version": "1.0.0",
       "_view_name": "OutputView",
       "layout": "IPY_MODEL_bac77257aba3421b8bae1a430935312c",
       "msg_id": "",
       "outputs": [
        {
         "data": {
          "text/html": "<pre style=\"white-space:pre;overflow-x:auto;line-height:normal;font-family:Menlo,'DejaVu Sans Mono',consolas,'Courier New',monospace\">solver progress (field decay = 4.39e-04) <span style=\"color: #729c1f; text-decoration-color: #729c1f\">━━━━━━━━━━━━━━━━━━━━━━━━━━</span> <span style=\"color: #800080; text-decoration-color: #800080\">100%</span> <span style=\"color: #008080; text-decoration-color: #008080\">0:00:00</span>\n</pre>\n",
          "text/plain": "solver progress (field decay = 4.39e-04) \u001b[38;2;114;156;31m━━━━━━━━━━━━━━━━━━━━━━━━━━\u001b[0m \u001b[35m100%\u001b[0m \u001b[36m0:00:00\u001b[0m\n"
         },
         "metadata": {},
         "output_type": "display_data"
        }
       ],
       "tabbable": null,
       "tooltip": null
      }
     },
     "75a080e634a249c8b37596092afc2bd3": {
      "model_module": "@jupyter-widgets/base",
      "model_module_version": "2.0.0",
      "model_name": "LayoutModel",
      "state": {
       "_model_module": "@jupyter-widgets/base",
       "_model_module_version": "2.0.0",
       "_model_name": "LayoutModel",
       "_view_count": null,
       "_view_module": "@jupyter-widgets/base",
       "_view_module_version": "2.0.0",
       "_view_name": "LayoutView",
       "align_content": null,
       "align_items": null,
       "align_self": null,
       "border_bottom": null,
       "border_left": null,
       "border_right": null,
       "border_top": null,
       "bottom": null,
       "display": null,
       "flex": null,
       "flex_flow": null,
       "grid_area": null,
       "grid_auto_columns": null,
       "grid_auto_flow": null,
       "grid_auto_rows": null,
       "grid_column": null,
       "grid_gap": null,
       "grid_row": null,
       "grid_template_areas": null,
       "grid_template_columns": null,
       "grid_template_rows": null,
       "height": null,
       "justify_content": null,
       "justify_items": null,
       "left": null,
       "margin": null,
       "max_height": null,
       "max_width": null,
       "min_height": null,
       "min_width": null,
       "object_fit": null,
       "object_position": null,
       "order": null,
       "overflow": null,
       "padding": null,
       "right": null,
       "top": null,
       "visibility": null,
       "width": null
      }
     },
     "7702758a15524171a2cfd1b1c396a01d": {
      "model_module": "@jupyter-widgets/output",
      "model_module_version": "1.0.0",
      "model_name": "OutputModel",
      "state": {
       "_dom_classes": [],
       "_model_module": "@jupyter-widgets/output",
       "_model_module_version": "1.0.0",
       "_model_name": "OutputModel",
       "_view_count": null,
       "_view_module": "@jupyter-widgets/output",
       "_view_module_version": "1.0.0",
       "_view_name": "OutputView",
       "layout": "IPY_MODEL_c1d1eedb186d43d3ab32eaa9b8f1dae2",
       "msg_id": "",
       "outputs": [
        {
         "data": {
          "text/html": "<pre style=\"white-space:pre;overflow-x:auto;line-height:normal;font-family:Menlo,'DejaVu Sans Mono',consolas,'Courier New',monospace\"><span style=\"color: #008000; text-decoration-color: #008000\">🏃 </span> <span style=\"color: #008000; text-decoration-color: #008000; font-weight: bold\">Starting 'bc_example1'...</span>\n</pre>\n",
          "text/plain": "\u001b[32m🏃 \u001b[0m \u001b[1;32mStarting 'bc_example1'...\u001b[0m\n"
         },
         "metadata": {},
         "output_type": "display_data"
        }
       ],
       "tabbable": null,
       "tooltip": null
      }
     },
     "7b90beeeb4324bf1a8fbbc0414b47d5d": {
      "model_module": "@jupyter-widgets/output",
      "model_module_version": "1.0.0",
      "model_name": "OutputModel",
      "state": {
       "_dom_classes": [],
       "_model_module": "@jupyter-widgets/output",
       "_model_module_version": "1.0.0",
       "_model_name": "OutputModel",
       "_view_count": null,
       "_view_module": "@jupyter-widgets/output",
       "_view_module_version": "1.0.0",
       "_view_name": "OutputView",
       "layout": "IPY_MODEL_eaa4b46a97994c9ca7f83417d3dc0899",
       "msg_id": "",
       "outputs": [
        {
         "data": {
          "text/html": "<pre style=\"white-space:pre;overflow-x:auto;line-height:normal;font-family:Menlo,'DejaVu Sans Mono',consolas,'Courier New',monospace\"><span style=\"color: #008000; text-decoration-color: #008000\">🏃 </span> <span style=\"color: #008000; text-decoration-color: #008000; font-weight: bold\">Finishing 'bc_example3'...</span>\n</pre>\n",
          "text/plain": "\u001b[32m🏃 \u001b[0m \u001b[1;32mFinishing 'bc_example3'...\u001b[0m\n"
         },
         "metadata": {},
         "output_type": "display_data"
        }
       ],
       "tabbable": null,
       "tooltip": null
      }
     },
     "7ea67ce108714573be06244299aa4896": {
      "model_module": "@jupyter-widgets/base",
      "model_module_version": "2.0.0",
      "model_name": "LayoutModel",
      "state": {
       "_model_module": "@jupyter-widgets/base",
       "_model_module_version": "2.0.0",
       "_model_name": "LayoutModel",
       "_view_count": null,
       "_view_module": "@jupyter-widgets/base",
       "_view_module_version": "2.0.0",
       "_view_name": "LayoutView",
       "align_content": null,
       "align_items": null,
       "align_self": null,
       "border_bottom": null,
       "border_left": null,
       "border_right": null,
       "border_top": null,
       "bottom": null,
       "display": null,
       "flex": null,
       "flex_flow": null,
       "grid_area": null,
       "grid_auto_columns": null,
       "grid_auto_flow": null,
       "grid_auto_rows": null,
       "grid_column": null,
       "grid_gap": null,
       "grid_row": null,
       "grid_template_areas": null,
       "grid_template_columns": null,
       "grid_template_rows": null,
       "height": null,
       "justify_content": null,
       "justify_items": null,
       "left": null,
       "margin": null,
       "max_height": null,
       "max_width": null,
       "min_height": null,
       "min_width": null,
       "object_fit": null,
       "object_position": null,
       "order": null,
       "overflow": null,
       "padding": null,
       "right": null,
       "top": null,
       "visibility": null,
       "width": null
      }
     },
     "813678880410401c8a6faf371bb2265e": {
      "model_module": "@jupyter-widgets/output",
      "model_module_version": "1.0.0",
      "model_name": "OutputModel",
      "state": {
       "_dom_classes": [],
       "_model_module": "@jupyter-widgets/output",
       "_model_module_version": "1.0.0",
       "_model_name": "OutputModel",
       "_view_count": null,
       "_view_module": "@jupyter-widgets/output",
       "_view_module_version": "1.0.0",
       "_view_name": "OutputView",
       "layout": "IPY_MODEL_51cb98d3e42c450ca85e5df5f7746a9f",
       "msg_id": "",
       "outputs": [
        {
         "data": {
          "text/html": "<pre style=\"white-space:pre;overflow-x:auto;line-height:normal;font-family:Menlo,'DejaVu Sans Mono',consolas,'Courier New',monospace\"><span style=\"color: #008000; text-decoration-color: #008000\">🏃 </span> <span style=\"color: #008000; text-decoration-color: #008000; font-weight: bold\">Starting 'bc_example4'...</span>\n</pre>\n",
          "text/plain": "\u001b[32m🏃 \u001b[0m \u001b[1;32mStarting 'bc_example4'...\u001b[0m\n"
         },
         "metadata": {},
         "output_type": "display_data"
        }
       ],
       "tabbable": null,
       "tooltip": null
      }
     },
     "81f465de62ea4aefafc4577b1b424147": {
      "model_module": "@jupyter-widgets/base",
      "model_module_version": "2.0.0",
      "model_name": "LayoutModel",
      "state": {
       "_model_module": "@jupyter-widgets/base",
       "_model_module_version": "2.0.0",
       "_model_name": "LayoutModel",
       "_view_count": null,
       "_view_module": "@jupyter-widgets/base",
       "_view_module_version": "2.0.0",
       "_view_name": "LayoutView",
       "align_content": null,
       "align_items": null,
       "align_self": null,
       "border_bottom": null,
       "border_left": null,
       "border_right": null,
       "border_top": null,
       "bottom": null,
       "display": null,
       "flex": null,
       "flex_flow": null,
       "grid_area": null,
       "grid_auto_columns": null,
       "grid_auto_flow": null,
       "grid_auto_rows": null,
       "grid_column": null,
       "grid_gap": null,
       "grid_row": null,
       "grid_template_areas": null,
       "grid_template_columns": null,
       "grid_template_rows": null,
       "height": null,
       "justify_content": null,
       "justify_items": null,
       "left": null,
       "margin": null,
       "max_height": null,
       "max_width": null,
       "min_height": null,
       "min_width": null,
       "object_fit": null,
       "object_position": null,
       "order": null,
       "overflow": null,
       "padding": null,
       "right": null,
       "top": null,
       "visibility": null,
       "width": null
      }
     },
     "900494ff965d486c9d1a99de6478049c": {
      "model_module": "@jupyter-widgets/output",
      "model_module_version": "1.0.0",
      "model_name": "OutputModel",
      "state": {
       "_dom_classes": [],
       "_model_module": "@jupyter-widgets/output",
       "_model_module_version": "1.0.0",
       "_model_name": "OutputModel",
       "_view_count": null,
       "_view_module": "@jupyter-widgets/output",
       "_view_module_version": "1.0.0",
       "_view_name": "OutputView",
       "layout": "IPY_MODEL_7ea67ce108714573be06244299aa4896",
       "msg_id": "",
       "outputs": [
        {
         "data": {
          "text/html": "<pre style=\"white-space:pre;overflow-x:auto;line-height:normal;font-family:Menlo,'DejaVu Sans Mono',consolas,'Courier New',monospace\"><span style=\"color: #008000; text-decoration-color: #008000\">🚶 </span> <span style=\"color: #008000; text-decoration-color: #008000; font-weight: bold\">Finishing 'bc_example2'...</span>\n</pre>\n",
          "text/plain": "\u001b[32m🚶 \u001b[0m \u001b[1;32mFinishing 'bc_example2'...\u001b[0m\n"
         },
         "metadata": {},
         "output_type": "display_data"
        }
       ],
       "tabbable": null,
       "tooltip": null
      }
     },
     "914d7c269c6b4460b1ed612ec989b9de": {
      "model_module": "@jupyter-widgets/output",
      "model_module_version": "1.0.0",
      "model_name": "OutputModel",
      "state": {
       "_dom_classes": [],
       "_model_module": "@jupyter-widgets/output",
       "_model_module_version": "1.0.0",
       "_model_name": "OutputModel",
       "_view_count": null,
       "_view_module": "@jupyter-widgets/output",
       "_view_module_version": "1.0.0",
       "_view_name": "OutputView",
       "layout": "IPY_MODEL_c6a3d6fbcefd4ce8b41114e17ee614b3",
       "msg_id": "",
       "outputs": [
        {
         "data": {
          "text/html": "<pre style=\"white-space:pre;overflow-x:auto;line-height:normal;font-family:Menlo,'DejaVu Sans Mono',consolas,'Courier New',monospace\"><span style=\"color: #008000; text-decoration-color: #008000\">🏃 </span> <span style=\"color: #008000; text-decoration-color: #008000; font-weight: bold\">Starting 'bc_example3'...</span>\n</pre>\n",
          "text/plain": "\u001b[32m🏃 \u001b[0m \u001b[1;32mStarting 'bc_example3'...\u001b[0m\n"
         },
         "metadata": {},
         "output_type": "display_data"
        }
       ],
       "tabbable": null,
       "tooltip": null
      }
     },
     "92afc639db9e4455803a77dc4d231872": {
      "model_module": "@jupyter-widgets/output",
      "model_module_version": "1.0.0",
      "model_name": "OutputModel",
      "state": {
       "_dom_classes": [],
       "_model_module": "@jupyter-widgets/output",
       "_model_module_version": "1.0.0",
       "_model_name": "OutputModel",
       "_view_count": null,
       "_view_module": "@jupyter-widgets/output",
       "_view_module_version": "1.0.0",
       "_view_name": "OutputView",
       "layout": "IPY_MODEL_368ea34c1775439a82d9f2f9c0cf751c",
       "msg_id": "",
       "outputs": [
        {
         "data": {
          "text/html": "<pre style=\"white-space:pre;overflow-x:auto;line-height:normal;font-family:Menlo,'DejaVu Sans Mono',consolas,'Courier New',monospace\"><span style=\"color: #800000; text-decoration-color: #800000; font-weight: bold\">↑</span> <span style=\"color: #000080; text-decoration-color: #000080; font-weight: bold\">simulation.hdf5.gz</span> <span style=\"color: #729c1f; text-decoration-color: #729c1f\">━━━━━━━━━━━━━━━━━━━━━━━━━</span> <span style=\"color: #800080; text-decoration-color: #800080\">100.0%</span> • <span style=\"color: #008000; text-decoration-color: #008000\">1.3/1.3 kB</span> • <span style=\"color: #800000; text-decoration-color: #800000\">?</span> • <span style=\"color: #008080; text-decoration-color: #008080\">0:00:00</span>\n</pre>\n",
          "text/plain": "\u001b[1;31m↑\u001b[0m \u001b[1;34msimulation.hdf5.gz\u001b[0m \u001b[38;2;114;156;31m━━━━━━━━━━━━━━━━━━━━━━━━━\u001b[0m \u001b[35m100.0%\u001b[0m • \u001b[32m1.3/1.3 kB\u001b[0m • \u001b[31m?\u001b[0m • \u001b[36m0:00:00\u001b[0m\n"
         },
         "metadata": {},
         "output_type": "display_data"
        }
       ],
       "tabbable": null,
       "tooltip": null
      }
     },
     "bac77257aba3421b8bae1a430935312c": {
      "model_module": "@jupyter-widgets/base",
      "model_module_version": "2.0.0",
      "model_name": "LayoutModel",
      "state": {
       "_model_module": "@jupyter-widgets/base",
       "_model_module_version": "2.0.0",
       "_model_name": "LayoutModel",
       "_view_count": null,
       "_view_module": "@jupyter-widgets/base",
       "_view_module_version": "2.0.0",
       "_view_name": "LayoutView",
       "align_content": null,
       "align_items": null,
       "align_self": null,
       "border_bottom": null,
       "border_left": null,
       "border_right": null,
       "border_top": null,
       "bottom": null,
       "display": null,
       "flex": null,
       "flex_flow": null,
       "grid_area": null,
       "grid_auto_columns": null,
       "grid_auto_flow": null,
       "grid_auto_rows": null,
       "grid_column": null,
       "grid_gap": null,
       "grid_row": null,
       "grid_template_areas": null,
       "grid_template_columns": null,
       "grid_template_rows": null,
       "height": null,
       "justify_content": null,
       "justify_items": null,
       "left": null,
       "margin": null,
       "max_height": null,
       "max_width": null,
       "min_height": null,
       "min_width": null,
       "object_fit": null,
       "object_position": null,
       "order": null,
       "overflow": null,
       "padding": null,
       "right": null,
       "top": null,
       "visibility": null,
       "width": null
      }
     },
     "c0991c4a3dea4cb09aa6d8ca5d83a086": {
      "model_module": "@jupyter-widgets/base",
      "model_module_version": "2.0.0",
      "model_name": "LayoutModel",
      "state": {
       "_model_module": "@jupyter-widgets/base",
       "_model_module_version": "2.0.0",
       "_model_name": "LayoutModel",
       "_view_count": null,
       "_view_module": "@jupyter-widgets/base",
       "_view_module_version": "2.0.0",
       "_view_name": "LayoutView",
       "align_content": null,
       "align_items": null,
       "align_self": null,
       "border_bottom": null,
       "border_left": null,
       "border_right": null,
       "border_top": null,
       "bottom": null,
       "display": null,
       "flex": null,
       "flex_flow": null,
       "grid_area": null,
       "grid_auto_columns": null,
       "grid_auto_flow": null,
       "grid_auto_rows": null,
       "grid_column": null,
       "grid_gap": null,
       "grid_row": null,
       "grid_template_areas": null,
       "grid_template_columns": null,
       "grid_template_rows": null,
       "height": null,
       "justify_content": null,
       "justify_items": null,
       "left": null,
       "margin": null,
       "max_height": null,
       "max_width": null,
       "min_height": null,
       "min_width": null,
       "object_fit": null,
       "object_position": null,
       "order": null,
       "overflow": null,
       "padding": null,
       "right": null,
       "top": null,
       "visibility": null,
       "width": null
      }
     },
     "c0cd67d174b84c9e902bddc1057b8438": {
      "model_module": "@jupyter-widgets/base",
      "model_module_version": "2.0.0",
      "model_name": "LayoutModel",
      "state": {
       "_model_module": "@jupyter-widgets/base",
       "_model_module_version": "2.0.0",
       "_model_name": "LayoutModel",
       "_view_count": null,
       "_view_module": "@jupyter-widgets/base",
       "_view_module_version": "2.0.0",
       "_view_name": "LayoutView",
       "align_content": null,
       "align_items": null,
       "align_self": null,
       "border_bottom": null,
       "border_left": null,
       "border_right": null,
       "border_top": null,
       "bottom": null,
       "display": null,
       "flex": null,
       "flex_flow": null,
       "grid_area": null,
       "grid_auto_columns": null,
       "grid_auto_flow": null,
       "grid_auto_rows": null,
       "grid_column": null,
       "grid_gap": null,
       "grid_row": null,
       "grid_template_areas": null,
       "grid_template_columns": null,
       "grid_template_rows": null,
       "height": null,
       "justify_content": null,
       "justify_items": null,
       "left": null,
       "margin": null,
       "max_height": null,
       "max_width": null,
       "min_height": null,
       "min_width": null,
       "object_fit": null,
       "object_position": null,
       "order": null,
       "overflow": null,
       "padding": null,
       "right": null,
       "top": null,
       "visibility": null,
       "width": null
      }
     },
     "c1d1eedb186d43d3ab32eaa9b8f1dae2": {
      "model_module": "@jupyter-widgets/base",
      "model_module_version": "2.0.0",
      "model_name": "LayoutModel",
      "state": {
       "_model_module": "@jupyter-widgets/base",
       "_model_module_version": "2.0.0",
       "_model_name": "LayoutModel",
       "_view_count": null,
       "_view_module": "@jupyter-widgets/base",
       "_view_module_version": "2.0.0",
       "_view_name": "LayoutView",
       "align_content": null,
       "align_items": null,
       "align_self": null,
       "border_bottom": null,
       "border_left": null,
       "border_right": null,
       "border_top": null,
       "bottom": null,
       "display": null,
       "flex": null,
       "flex_flow": null,
       "grid_area": null,
       "grid_auto_columns": null,
       "grid_auto_flow": null,
       "grid_auto_rows": null,
       "grid_column": null,
       "grid_gap": null,
       "grid_row": null,
       "grid_template_areas": null,
       "grid_template_columns": null,
       "grid_template_rows": null,
       "height": null,
       "justify_content": null,
       "justify_items": null,
       "left": null,
       "margin": null,
       "max_height": null,
       "max_width": null,
       "min_height": null,
       "min_width": null,
       "object_fit": null,
       "object_position": null,
       "order": null,
       "overflow": null,
       "padding": null,
       "right": null,
       "top": null,
       "visibility": null,
       "width": null
      }
     },
     "c6a3d6fbcefd4ce8b41114e17ee614b3": {
      "model_module": "@jupyter-widgets/base",
      "model_module_version": "2.0.0",
      "model_name": "LayoutModel",
      "state": {
       "_model_module": "@jupyter-widgets/base",
       "_model_module_version": "2.0.0",
       "_model_name": "LayoutModel",
       "_view_count": null,
       "_view_module": "@jupyter-widgets/base",
       "_view_module_version": "2.0.0",
       "_view_name": "LayoutView",
       "align_content": null,
       "align_items": null,
       "align_self": null,
       "border_bottom": null,
       "border_left": null,
       "border_right": null,
       "border_top": null,
       "bottom": null,
       "display": null,
       "flex": null,
       "flex_flow": null,
       "grid_area": null,
       "grid_auto_columns": null,
       "grid_auto_flow": null,
       "grid_auto_rows": null,
       "grid_column": null,
       "grid_gap": null,
       "grid_row": null,
       "grid_template_areas": null,
       "grid_template_columns": null,
       "grid_template_rows": null,
       "height": null,
       "justify_content": null,
       "justify_items": null,
       "left": null,
       "margin": null,
       "max_height": null,
       "max_width": null,
       "min_height": null,
       "min_width": null,
       "object_fit": null,
       "object_position": null,
       "order": null,
       "overflow": null,
       "padding": null,
       "right": null,
       "top": null,
       "visibility": null,
       "width": null
      }
     },
     "c79a003a967a4656b763ebd860ef243c": {
      "model_module": "@jupyter-widgets/output",
      "model_module_version": "1.0.0",
      "model_name": "OutputModel",
      "state": {
       "_dom_classes": [],
       "_model_module": "@jupyter-widgets/output",
       "_model_module_version": "1.0.0",
       "_model_name": "OutputModel",
       "_view_count": null,
       "_view_module": "@jupyter-widgets/output",
       "_view_module_version": "1.0.0",
       "_view_name": "OutputView",
       "layout": "IPY_MODEL_f7e40ee562f941408b6499b21c5bf1d8",
       "msg_id": "",
       "outputs": [
        {
         "data": {
          "text/html": "<pre style=\"white-space:pre;overflow-x:auto;line-height:normal;font-family:Menlo,'DejaVu Sans Mono',consolas,'Courier New',monospace\"><span style=\"color: #008000; text-decoration-color: #008000; font-weight: bold\">↓</span> <span style=\"color: #000080; text-decoration-color: #000080; font-weight: bold\">monitor_data.hdf5</span> <span style=\"color: #729c1f; text-decoration-color: #729c1f\">━━━━━━━━━━━━━━━━━━</span> <span style=\"color: #800080; text-decoration-color: #800080\">100.0%</span> • <span style=\"color: #008000; text-decoration-color: #008000\">2.3/2.3 MB</span> • <span style=\"color: #800000; text-decoration-color: #800000\">20.1 MB/s</span> • <span style=\"color: #008080; text-decoration-color: #008080\">0:00:00</span>\n</pre>\n",
          "text/plain": "\u001b[1;32m↓\u001b[0m \u001b[1;34mmonitor_data.hdf5\u001b[0m \u001b[38;2;114;156;31m━━━━━━━━━━━━━━━━━━\u001b[0m \u001b[35m100.0%\u001b[0m • \u001b[32m2.3/2.3 MB\u001b[0m • \u001b[31m20.1 MB/s\u001b[0m • \u001b[36m0:00:00\u001b[0m\n"
         },
         "metadata": {},
         "output_type": "display_data"
        }
       ],
       "tabbable": null,
       "tooltip": null
      }
     },
     "cb3d25cdd27e437b86ab691dbc057e95": {
      "model_module": "@jupyter-widgets/output",
      "model_module_version": "1.0.0",
      "model_name": "OutputModel",
      "state": {
       "_dom_classes": [],
       "_model_module": "@jupyter-widgets/output",
       "_model_module_version": "1.0.0",
       "_model_name": "OutputModel",
       "_view_count": null,
       "_view_module": "@jupyter-widgets/output",
       "_view_module_version": "1.0.0",
       "_view_name": "OutputView",
       "layout": "IPY_MODEL_81f465de62ea4aefafc4577b1b424147",
       "msg_id": "",
       "outputs": [
        {
         "data": {
          "text/html": "<pre style=\"white-space:pre;overflow-x:auto;line-height:normal;font-family:Menlo,'DejaVu Sans Mono',consolas,'Courier New',monospace\"><span style=\"color: #008000; text-decoration-color: #008000\">🏃 </span> <span style=\"color: #008000; text-decoration-color: #008000; font-weight: bold\">Finishing 'bc_example4'...</span>\n</pre>\n",
          "text/plain": "\u001b[32m🏃 \u001b[0m \u001b[1;32mFinishing 'bc_example4'...\u001b[0m\n"
         },
         "metadata": {},
         "output_type": "display_data"
        }
       ],
       "tabbable": null,
       "tooltip": null
      }
     },
     "cc85fef6b43a487388cdd1bf78e2a388": {
      "model_module": "@jupyter-widgets/output",
      "model_module_version": "1.0.0",
      "model_name": "OutputModel",
      "state": {
       "_dom_classes": [],
       "_model_module": "@jupyter-widgets/output",
       "_model_module_version": "1.0.0",
       "_model_name": "OutputModel",
       "_view_count": null,
       "_view_module": "@jupyter-widgets/output",
       "_view_module_version": "1.0.0",
       "_view_name": "OutputView",
       "layout": "IPY_MODEL_3116834516ae4287b133f93972df0d63",
       "msg_id": "",
       "outputs": [
        {
         "data": {
          "text/html": "<pre style=\"white-space:pre;overflow-x:auto;line-height:normal;font-family:Menlo,'DejaVu Sans Mono',consolas,'Courier New',monospace\"><span style=\"color: #008000; text-decoration-color: #008000; font-weight: bold\">↓</span> <span style=\"color: #000080; text-decoration-color: #000080; font-weight: bold\">monitor_data.hdf5</span> <span style=\"color: #729c1f; text-decoration-color: #729c1f\">━━━━━━━━━━━━━━━━━━</span> <span style=\"color: #800080; text-decoration-color: #800080\">100.0%</span> • <span style=\"color: #008000; text-decoration-color: #008000\">1.2/1.2 MB</span> • <span style=\"color: #800000; text-decoration-color: #800000\">15.1 MB/s</span> • <span style=\"color: #008080; text-decoration-color: #008080\">0:00:00</span>\n</pre>\n",
          "text/plain": "\u001b[1;32m↓\u001b[0m \u001b[1;34mmonitor_data.hdf5\u001b[0m \u001b[38;2;114;156;31m━━━━━━━━━━━━━━━━━━\u001b[0m \u001b[35m100.0%\u001b[0m • \u001b[32m1.2/1.2 MB\u001b[0m • \u001b[31m15.1 MB/s\u001b[0m • \u001b[36m0:00:00\u001b[0m\n"
         },
         "metadata": {},
         "output_type": "display_data"
        }
       ],
       "tabbable": null,
       "tooltip": null
      }
     },
     "cf2cce0b51db487e8f01cec0e031deee": {
      "model_module": "@jupyter-widgets/output",
      "model_module_version": "1.0.0",
      "model_name": "OutputModel",
      "state": {
       "_dom_classes": [],
       "_model_module": "@jupyter-widgets/output",
       "_model_module_version": "1.0.0",
       "_model_name": "OutputModel",
       "_view_count": null,
       "_view_module": "@jupyter-widgets/output",
       "_view_module_version": "1.0.0",
       "_view_name": "OutputView",
       "layout": "IPY_MODEL_167955fe2d6a43b49ae76a69d8897680",
       "msg_id": "",
       "outputs": [
        {
         "data": {
          "text/html": "<pre style=\"white-space:pre;overflow-x:auto;line-height:normal;font-family:Menlo,'DejaVu Sans Mono',consolas,'Courier New',monospace\">solver progress (field decay = 0.00e+00) <span style=\"color: #729c1f; text-decoration-color: #729c1f\">━━━━━━━━━━━━━━━━━━━━━━━━━━</span> <span style=\"color: #800080; text-decoration-color: #800080\">100%</span> <span style=\"color: #008080; text-decoration-color: #008080\">0:00:00</span>\n</pre>\n",
          "text/plain": "solver progress (field decay = 0.00e+00) \u001b[38;2;114;156;31m━━━━━━━━━━━━━━━━━━━━━━━━━━\u001b[0m \u001b[35m100%\u001b[0m \u001b[36m0:00:00\u001b[0m\n"
         },
         "metadata": {},
         "output_type": "display_data"
        }
       ],
       "tabbable": null,
       "tooltip": null
      }
     },
     "df191cc774b149e79332241122672256": {
      "model_module": "@jupyter-widgets/output",
      "model_module_version": "1.0.0",
      "model_name": "OutputModel",
      "state": {
       "_dom_classes": [],
       "_model_module": "@jupyter-widgets/output",
       "_model_module_version": "1.0.0",
       "_model_name": "OutputModel",
       "_view_count": null,
       "_view_module": "@jupyter-widgets/output",
       "_view_module_version": "1.0.0",
       "_view_name": "OutputView",
       "layout": "IPY_MODEL_c0991c4a3dea4cb09aa6d8ca5d83a086",
       "msg_id": "",
       "outputs": [
        {
         "data": {
          "text/html": "<pre style=\"white-space:pre;overflow-x:auto;line-height:normal;font-family:Menlo,'DejaVu Sans Mono',consolas,'Courier New',monospace\">solver progress (field decay = 0.00e+00) <span style=\"color: #729c1f; text-decoration-color: #729c1f\">━━━━━━━━━━━━━━━━━━━━━━━━━━</span> <span style=\"color: #800080; text-decoration-color: #800080\">100%</span> <span style=\"color: #008080; text-decoration-color: #008080\">0:00:00</span>\n</pre>\n",
          "text/plain": "solver progress (field decay = 0.00e+00) \u001b[38;2;114;156;31m━━━━━━━━━━━━━━━━━━━━━━━━━━\u001b[0m \u001b[35m100%\u001b[0m \u001b[36m0:00:00\u001b[0m\n"
         },
         "metadata": {},
         "output_type": "display_data"
        }
       ],
       "tabbable": null,
       "tooltip": null
      }
     },
     "e2ff9e89868f4b7cb2a4e532877759dd": {
      "model_module": "@jupyter-widgets/output",
      "model_module_version": "1.0.0",
      "model_name": "OutputModel",
      "state": {
       "_dom_classes": [],
       "_model_module": "@jupyter-widgets/output",
       "_model_module_version": "1.0.0",
       "_model_name": "OutputModel",
       "_view_count": null,
       "_view_module": "@jupyter-widgets/output",
       "_view_module_version": "1.0.0",
       "_view_name": "OutputView",
       "layout": "IPY_MODEL_f02a44cb79824a9ab4bb3b514c267e64",
       "msg_id": "",
       "outputs": [
        {
         "data": {
          "text/html": "<pre style=\"white-space:pre;overflow-x:auto;line-height:normal;font-family:Menlo,'DejaVu Sans Mono',consolas,'Courier New',monospace\"><span style=\"color: #008000; text-decoration-color: #008000; font-weight: bold\">↓</span> <span style=\"color: #000080; text-decoration-color: #000080; font-weight: bold\">monitor_data.hdf5</span> <span style=\"color: #729c1f; text-decoration-color: #729c1f\">━━━━━━━━━━━━━━━━━━━</span> <span style=\"color: #800080; text-decoration-color: #800080\">100.0%</span> • <span style=\"color: #008000; text-decoration-color: #008000\">5.4/5.4 MB</span> • <span style=\"color: #800000; text-decoration-color: #800000\">4.6 MB/s</span> • <span style=\"color: #008080; text-decoration-color: #008080\">0:00:00</span>\n</pre>\n",
          "text/plain": "\u001b[1;32m↓\u001b[0m \u001b[1;34mmonitor_data.hdf5\u001b[0m \u001b[38;2;114;156;31m━━━━━━━━━━━━━━━━━━━\u001b[0m \u001b[35m100.0%\u001b[0m • \u001b[32m5.4/5.4 MB\u001b[0m • \u001b[31m4.6 MB/s\u001b[0m • \u001b[36m0:00:00\u001b[0m\n"
         },
         "metadata": {},
         "output_type": "display_data"
        }
       ],
       "tabbable": null,
       "tooltip": null
      }
     },
     "eaa4b46a97994c9ca7f83417d3dc0899": {
      "model_module": "@jupyter-widgets/base",
      "model_module_version": "2.0.0",
      "model_name": "LayoutModel",
      "state": {
       "_model_module": "@jupyter-widgets/base",
       "_model_module_version": "2.0.0",
       "_model_name": "LayoutModel",
       "_view_count": null,
       "_view_module": "@jupyter-widgets/base",
       "_view_module_version": "2.0.0",
       "_view_name": "LayoutView",
       "align_content": null,
       "align_items": null,
       "align_self": null,
       "border_bottom": null,
       "border_left": null,
       "border_right": null,
       "border_top": null,
       "bottom": null,
       "display": null,
       "flex": null,
       "flex_flow": null,
       "grid_area": null,
       "grid_auto_columns": null,
       "grid_auto_flow": null,
       "grid_auto_rows": null,
       "grid_column": null,
       "grid_gap": null,
       "grid_row": null,
       "grid_template_areas": null,
       "grid_template_columns": null,
       "grid_template_rows": null,
       "height": null,
       "justify_content": null,
       "justify_items": null,
       "left": null,
       "margin": null,
       "max_height": null,
       "max_width": null,
       "min_height": null,
       "min_width": null,
       "object_fit": null,
       "object_position": null,
       "order": null,
       "overflow": null,
       "padding": null,
       "right": null,
       "top": null,
       "visibility": null,
       "width": null
      }
     },
     "f02a44cb79824a9ab4bb3b514c267e64": {
      "model_module": "@jupyter-widgets/base",
      "model_module_version": "2.0.0",
      "model_name": "LayoutModel",
      "state": {
       "_model_module": "@jupyter-widgets/base",
       "_model_module_version": "2.0.0",
       "_model_name": "LayoutModel",
       "_view_count": null,
       "_view_module": "@jupyter-widgets/base",
       "_view_module_version": "2.0.0",
       "_view_name": "LayoutView",
       "align_content": null,
       "align_items": null,
       "align_self": null,
       "border_bottom": null,
       "border_left": null,
       "border_right": null,
       "border_top": null,
       "bottom": null,
       "display": null,
       "flex": null,
       "flex_flow": null,
       "grid_area": null,
       "grid_auto_columns": null,
       "grid_auto_flow": null,
       "grid_auto_rows": null,
       "grid_column": null,
       "grid_gap": null,
       "grid_row": null,
       "grid_template_areas": null,
       "grid_template_columns": null,
       "grid_template_rows": null,
       "height": null,
       "justify_content": null,
       "justify_items": null,
       "left": null,
       "margin": null,
       "max_height": null,
       "max_width": null,
       "min_height": null,
       "min_width": null,
       "object_fit": null,
       "object_position": null,
       "order": null,
       "overflow": null,
       "padding": null,
       "right": null,
       "top": null,
       "visibility": null,
       "width": null
      }
     },
     "f0490884b89b4390a6db83b3d2b07b83": {
      "model_module": "@jupyter-widgets/base",
      "model_module_version": "2.0.0",
      "model_name": "LayoutModel",
      "state": {
       "_model_module": "@jupyter-widgets/base",
       "_model_module_version": "2.0.0",
       "_model_name": "LayoutModel",
       "_view_count": null,
       "_view_module": "@jupyter-widgets/base",
       "_view_module_version": "2.0.0",
       "_view_name": "LayoutView",
       "align_content": null,
       "align_items": null,
       "align_self": null,
       "border_bottom": null,
       "border_left": null,
       "border_right": null,
       "border_top": null,
       "bottom": null,
       "display": null,
       "flex": null,
       "flex_flow": null,
       "grid_area": null,
       "grid_auto_columns": null,
       "grid_auto_flow": null,
       "grid_auto_rows": null,
       "grid_column": null,
       "grid_gap": null,
       "grid_row": null,
       "grid_template_areas": null,
       "grid_template_columns": null,
       "grid_template_rows": null,
       "height": null,
       "justify_content": null,
       "justify_items": null,
       "left": null,
       "margin": null,
       "max_height": null,
       "max_width": null,
       "min_height": null,
       "min_width": null,
       "object_fit": null,
       "object_position": null,
       "order": null,
       "overflow": null,
       "padding": null,
       "right": null,
       "top": null,
       "visibility": null,
       "width": null
      }
     },
     "f0ce24b96dae4f1e9bb19006909a11f2": {
      "model_module": "@jupyter-widgets/output",
      "model_module_version": "1.0.0",
      "model_name": "OutputModel",
      "state": {
       "_dom_classes": [],
       "_model_module": "@jupyter-widgets/output",
       "_model_module_version": "1.0.0",
       "_model_name": "OutputModel",
       "_view_count": null,
       "_view_module": "@jupyter-widgets/output",
       "_view_module_version": "1.0.0",
       "_view_name": "OutputView",
       "layout": "IPY_MODEL_f0490884b89b4390a6db83b3d2b07b83",
       "msg_id": "",
       "outputs": [
        {
         "data": {
          "text/html": "<pre style=\"white-space:pre;overflow-x:auto;line-height:normal;font-family:Menlo,'DejaVu Sans Mono',consolas,'Courier New',monospace\">solver progress (field decay = 0.00e+00) <span style=\"color: #729c1f; text-decoration-color: #729c1f\">━━━━━━━━━━━━━━━━━━━━━━━━━━</span> <span style=\"color: #800080; text-decoration-color: #800080\">100%</span> <span style=\"color: #008080; text-decoration-color: #008080\">0:00:00</span>\n</pre>\n",
          "text/plain": "solver progress (field decay = 0.00e+00) \u001b[38;2;114;156;31m━━━━━━━━━━━━━━━━━━━━━━━━━━\u001b[0m \u001b[35m100%\u001b[0m \u001b[36m0:00:00\u001b[0m\n"
         },
         "metadata": {},
         "output_type": "display_data"
        }
       ],
       "tabbable": null,
       "tooltip": null
      }
     },
     "f7e40ee562f941408b6499b21c5bf1d8": {
      "model_module": "@jupyter-widgets/base",
      "model_module_version": "2.0.0",
      "model_name": "LayoutModel",
      "state": {
       "_model_module": "@jupyter-widgets/base",
       "_model_module_version": "2.0.0",
       "_model_name": "LayoutModel",
       "_view_count": null,
       "_view_module": "@jupyter-widgets/base",
       "_view_module_version": "2.0.0",
       "_view_name": "LayoutView",
       "align_content": null,
       "align_items": null,
       "align_self": null,
       "border_bottom": null,
       "border_left": null,
       "border_right": null,
       "border_top": null,
       "bottom": null,
       "display": null,
       "flex": null,
       "flex_flow": null,
       "grid_area": null,
       "grid_auto_columns": null,
       "grid_auto_flow": null,
       "grid_auto_rows": null,
       "grid_column": null,
       "grid_gap": null,
       "grid_row": null,
       "grid_template_areas": null,
       "grid_template_columns": null,
       "grid_template_rows": null,
       "height": null,
       "justify_content": null,
       "justify_items": null,
       "left": null,
       "margin": null,
       "max_height": null,
       "max_width": null,
       "min_height": null,
       "min_width": null,
       "object_fit": null,
       "object_position": null,
       "order": null,
       "overflow": null,
       "padding": null,
       "right": null,
       "top": null,
       "visibility": null,
       "width": null
      }
     }
    },
    "version_major": 2,
    "version_minor": 0
   }
  }
 },
 "nbformat": 4,
 "nbformat_minor": 4
}
