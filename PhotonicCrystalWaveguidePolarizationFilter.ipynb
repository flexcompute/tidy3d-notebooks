{
 "cells": [
  {
   "cell_type": "markdown",
   "id": "80074018",
   "metadata": {},
   "source": [
    "# Photonic crystal waveguide polarization filter"
   ]
  },
  {
   "cell_type": "markdown",
   "id": "37a27f2a",
   "metadata": {},
   "source": [
    "Polarization control is one of the central themes in integrated silicon photonics. Different polarization modes not only allow for more information-carrying channels but also enable a wide range of applications given their different characteristics. For example, waveguide TE modes usually have better confinement and thus they are less prone to sidewall roughness. TM modes, on the other hand, have a larger penetration depth into the top and bottom claddings, which makes them suitable for sensing applications. As a result, integrated silicon photonic filters that selectively transmit or block certain polarization are very useful. \n",
    "\n",
    "This notebook demonstrates the modeling of a compact TM-pass polarization filter based on photonic crystal waveguide. The photonic crystal is an air-bridged silicon slab with periodic air holes arranged in a triangular lattice. It is possible to achieve a TM-pass but TE-block device within a frequency range by utilizing bandgap engineering and index guiding mechanism. The design parameters adopted from [Chandra Prakash and Mrinal Sen , \"Optimization of silicon-photonic crystal (PhC) waveguide for a compact and high extinction ratio TM-pass polarization filter\", Journal of Applied Physics 127, 023101 (2020)](https://aip.scitation.org/doi/abs/10.1063/1.5130160) are optimized for the telecom frequency to have a ~-0.5 dB TM transmission and ~-40 dB TE transmission. \n",
    "\n",
    "<img src=\"img/phc_polarization_filter.png\" width=\"500\" alt=\"Schematic of the polarization filter\">\n",
    "\n",
    "For more integrated photonic examples such as the [8-Channel mode and polarization de-multiplexer](https://www.flexcompute.com/tidy3d/examples/notebooks/8ChannelDemultiplexer/), the [broadband bi-level taper polarization rotator-splitter](https://www.flexcompute.com/tidy3d/examples/notebooks/BilevelPSR/), and the [broadband directional coupler](https://www.flexcompute.com/tidy3d/examples/notebooks/BroadbandDirectionalCoupler/), please visit our [examples page](https://www.flexcompute.com/tidy3d/examples/). If you are new to the finite-difference time-domain (FDTD) method, we highly recommend going through our [FDTD101](https://www.flexcompute.com/fdtd101/) tutorials. FDTD simulations can diverge due to various reasons. If you run into any simulation divergence issues, please follow the steps outlined in our [troubleshooting guide](https://www.flexcompute.com/tidy3d/examples/notebooks/DivergedFDTDSimulation/) to resolve it."
   ]
  },
  {
   "cell_type": "code",
   "execution_count": 1,
   "id": "a172f231",
   "metadata": {
    "execution": {
     "iopub.execute_input": "2024-02-17T07:52:21.940295Z",
     "iopub.status.busy": "2024-02-17T07:52:21.939595Z",
     "iopub.status.idle": "2024-02-17T07:52:23.211822Z",
     "shell.execute_reply": "2024-02-17T07:52:23.211234Z"
    }
   },
   "outputs": [],
   "source": [
    "import numpy as np\n",
    "import matplotlib.pyplot as plt\n",
    "\n",
    "import tidy3d as td\n",
    "import tidy3d.web as web\n",
    "from tidy3d.plugins.mode import ModeSolver\n",
    "from tidy3d.plugins.mode.web import run as run_ms\n"
   ]
  },
  {
   "cell_type": "markdown",
   "id": "2bcbebc6",
   "metadata": {},
   "source": [
    "## Simulation Setup "
   ]
  },
  {
   "cell_type": "markdown",
   "id": "565a299c",
   "metadata": {},
   "source": [
    "This device is designed to work in a wide frequency range from 1480 nm to 1620 nm."
   ]
  },
  {
   "cell_type": "code",
   "execution_count": 2,
   "id": "e2bda8ee",
   "metadata": {
    "execution": {
     "iopub.execute_input": "2024-02-17T07:52:23.214237Z",
     "iopub.status.busy": "2024-02-17T07:52:23.213860Z",
     "iopub.status.idle": "2024-02-17T07:52:23.229877Z",
     "shell.execute_reply": "2024-02-17T07:52:23.229307Z"
    }
   },
   "outputs": [],
   "source": [
    "lda0 = 1.55  # central wavelength\n",
    "freq0 = td.C_0 / lda0  # central frequency\n",
    "ldas = np.linspace(1.48, 1.62, 100)  # wavelength range of interest\n",
    "freqs = td.C_0 / ldas  # frequency range of interest\n"
   ]
  },
  {
   "cell_type": "markdown",
   "id": "c7862239",
   "metadata": {},
   "source": [
    "Since the photonic crystal slab is air-bridged, we only need to define two materials: silicon and air. The frequency dispersion of the silicon refractive index in the frequency range of interest is quite small. Therefore, in this notebook, we model it as non-dispersive and lossless. "
   ]
  },
  {
   "cell_type": "code",
   "execution_count": 3,
   "id": "65537c56",
   "metadata": {
    "execution": {
     "iopub.execute_input": "2024-02-17T07:52:23.231839Z",
     "iopub.status.busy": "2024-02-17T07:52:23.231662Z",
     "iopub.status.idle": "2024-02-17T07:52:23.247589Z",
     "shell.execute_reply": "2024-02-17T07:52:23.247014Z"
    }
   },
   "outputs": [],
   "source": [
    "n_si = 3.47  # silicon refractive index\n",
    "si = td.Medium(permittivity=n_si**2)\n",
    "\n",
    "n_air = 1  # air refractive index\n",
    "air = td.Medium(permittivity=n_air)\n"
   ]
  },
  {
   "cell_type": "markdown",
   "id": "ebfa2951",
   "metadata": {},
   "source": [
    "For the photonic crystal to work as a filter, the geometric parameters need to be carefully chosen such that bandgap lies within the frequency range of interest. The design process would require the calculation of band structures. In this notebook, we will skip the band structure calculation and only model the optimized device. For band diagram simulation, refer to the [photonic crystal slab band structure calculation notebook](https://www.flexcompute.com/tidy3d/examples/notebooks/Bandstructure/).\n",
    "\n",
    "Define the geometric parameters for the photonic crystal as well as the input and output straight waveguides."
   ]
  },
  {
   "cell_type": "code",
   "execution_count": 4,
   "id": "f2d41dc3",
   "metadata": {
    "execution": {
     "iopub.execute_input": "2024-02-17T07:52:23.249438Z",
     "iopub.status.busy": "2024-02-17T07:52:23.249301Z",
     "iopub.status.idle": "2024-02-17T07:52:23.264750Z",
     "shell.execute_reply": "2024-02-17T07:52:23.264187Z"
    }
   },
   "outputs": [],
   "source": [
    "a = 0.42  # lattice constant\n",
    "t = 0.75 * a  # slab thickness\n",
    "r = 0.3 * a  # radius of air holes\n",
    "w = 0.73 * a  # width of the photonic crystal waveguide section\n",
    "\n",
    "N_holes = 11  # number of holes in each row\n",
    "N_rows = 7  # number of rows of holes on each side of the waveguide\n",
    "L = N_holes * a  # length of the photonic crystal waveguide\n",
    "\n",
    "D = 0.4  # width of the input and output waveguides\n",
    "\n",
    "inf_eff = 1e3  # effective infinity of the model\n"
   ]
  },
  {
   "cell_type": "markdown",
   "id": "9fd085a2",
   "metadata": {},
   "source": [
    "To build the device, we define the silicon slab, input and output straight waveguides, and air holes. The air holes are systematically defined using a nested for loop. Due to the mirror symmetry of the device with respect to the $xz$ plane, We only define the air holes in $y>0$. Later, we will define the symmetry condition in the simulation."
   ]
  },
  {
   "cell_type": "code",
   "execution_count": 5,
   "id": "fae873ee",
   "metadata": {
    "execution": {
     "iopub.execute_input": "2024-02-17T07:52:23.266593Z",
     "iopub.status.busy": "2024-02-17T07:52:23.266455Z",
     "iopub.status.idle": "2024-02-17T07:52:23.298425Z",
     "shell.execute_reply": "2024-02-17T07:52:23.297916Z"
    }
   },
   "outputs": [],
   "source": [
    "# define the silicon slab\n",
    "si_slab = td.Box.from_bounds(\n",
    "        rmin=(-L / 2, -N_rows * np.sqrt(3) * a / 2 - w / 2, 0),\n",
    "        rmax=(L / 2, N_rows * np.sqrt(3) * a / 2 + w / 2, t),\n",
    "    )\n",
    "\n",
    "# define the input and output straight waveguides\n",
    "si_wg = td.Box.from_bounds(\n",
    "        rmin=(-inf_eff, -D / 2, 0),\n",
    "        rmax=(inf_eff, D / 2, t),\n",
    "    )\n",
    "\n",
    "# get the union with both silicon geometries\n",
    "phc_geometry = si_slab + si_wg\n",
    "\n",
    "# group all air holes\n",
    "holes = []\n",
    "for i in range(N_rows):\n",
    "    if i % 2 == 0:\n",
    "        shift = a / 2\n",
    "        N = N_holes\n",
    "    else:\n",
    "        shift = 0\n",
    "        N = N_holes + 1\n",
    "\n",
    "    for j in range(N):\n",
    "        holes.append(\n",
    "            td.Cylinder(\n",
    "                center=(\n",
    "                    (j - (N_holes) / 2) * a + shift,\n",
    "                    (w / 2 + r) + (i) * np.sqrt(3) * a / 2,\n",
    "                    t / 2,\n",
    "                ),\n",
    "                radius=r,\n",
    "                length=t,\n",
    "            )\n",
    "        )\n",
    "\n",
    "# remove holes from the si geometry\n",
    "\n",
    "phc_geometry -= sum(holes)\n",
    "\n",
    "phc_structure = td.Structure(geometry=phc_geometry, medium=si)"
   ]
  },
  {
   "cell_type": "markdown",
   "id": "e441c407",
   "metadata": {},
   "source": [
    "A [ModeSouce](../api/_autosummary/tidy3d.ModeSource.html) is defined at the input waveguide to launch either the fundamental TE or TM mode. A [FluxMonitor](../api/_autosummary/tidy3d.FluxMonitor.html) is defined at the output waveguide to measure the transmission. In addition, we define a [FieldMonitor](../api/_autosummary/tidy3d.FieldMonitor.html) to visualize the field propagation and scattering in the $xy$ plane."
   ]
  },
  {
   "cell_type": "code",
   "execution_count": 6,
   "id": "043af5cf",
   "metadata": {
    "execution": {
     "iopub.execute_input": "2024-02-17T07:52:23.300424Z",
     "iopub.status.busy": "2024-02-17T07:52:23.300209Z",
     "iopub.status.idle": "2024-02-17T07:52:23.318588Z",
     "shell.execute_reply": "2024-02-17T07:52:23.318083Z"
    }
   },
   "outputs": [],
   "source": [
    "# simulation domain size\n",
    "Lx = 1.5 * L\n",
    "Ly = 2 * N_rows * a + lda0\n",
    "Lz = 7 * t\n",
    "sim_size = (Lx, Ly, Lz)\n",
    "\n",
    "# define a mode source at the input waveguide\n",
    "fwidth = 0.5 * (np.max(freqs) - np.min(freqs))\n",
    "mode_spec = td.ModeSpec(num_modes=1, target_neff=n_si)\n",
    "mode_source = td.ModeSource(\n",
    "    center=(-Lx / 2 + lda0 / 2, 0, t / 2),\n",
    "    size=(0, 4 * D, 5 * t),\n",
    "    source_time=td.GaussianPulse(freq0=freq0, fwidth=fwidth),\n",
    "    direction=\"+\",\n",
    "    mode_spec=mode_spec,\n",
    "    mode_index=0,\n",
    ")\n",
    "\n",
    "# define a flux monitor at the output waveguide\n",
    "flux_monitor = td.FluxMonitor(\n",
    "    center=(Lx / 2 - lda0 / 2, 0, t / 2),\n",
    "    size=mode_source.size,\n",
    "    freqs=freqs,\n",
    "    name=\"flux\",\n",
    ")\n",
    "\n",
    "# define a field monitor in the xy plane\n",
    "field_monitor = td.FieldMonitor(\n",
    "    center=(0, 0, t / 2),\n",
    "    size=(td.inf, td.inf, 0),\n",
    "    freqs=[freq0],\n",
    "    name=\"field\",\n",
    ")\n"
   ]
  },
  {
   "cell_type": "markdown",
   "id": "a5c609d5",
   "metadata": {},
   "source": [
    "For periodic structures, it is better the define a grid that is commensurate with the periodicity. Therefore, we use [UniformGrid](../api/_autosummary/tidy3d.UniformGrid.html) in the $x$ and $y$ directions. In the $z$ direction, a nonuniform grid can be used. "
   ]
  },
  {
   "cell_type": "code",
   "execution_count": 7,
   "id": "34ea04d9",
   "metadata": {
    "execution": {
     "iopub.execute_input": "2024-02-17T07:52:23.320461Z",
     "iopub.status.busy": "2024-02-17T07:52:23.320279Z",
     "iopub.status.idle": "2024-02-17T07:52:23.336609Z",
     "shell.execute_reply": "2024-02-17T07:52:23.336019Z"
    }
   },
   "outputs": [],
   "source": [
    "# define grids\n",
    "steps_per_unit_cell = 20\n",
    "grid_spec = td.GridSpec(\n",
    "    grid_x=td.UniformGrid(dl=a / steps_per_unit_cell),\n",
    "    grid_y=td.UniformGrid(dl=a / steps_per_unit_cell * np.sqrt(3) / 2),\n",
    "    grid_z=td.AutoGrid(min_steps_per_wvl=steps_per_unit_cell),\n",
    ")\n"
   ]
  },
  {
   "cell_type": "markdown",
   "id": "99bc4945",
   "metadata": {},
   "source": [
    "Since the TE and TM modes share different symmetry with respect to the $xz$ plane, we can selectively launch them by setting the appropriate symmetry condition. The simulation for TE incidence is done by setting the symmetry condition to `(0,-1,0)` while the TM incidence corresponds to `(0,1,0)`. \n",
    "\n",
    "For this simulation, we set a relatively long run time of 20 ps to ensure the field decays sufficiently such that the simulation result is accurate. "
   ]
  },
  {
   "cell_type": "code",
   "execution_count": 8,
   "id": "5f2deae1",
   "metadata": {
    "execution": {
     "iopub.execute_input": "2024-02-17T07:52:23.338534Z",
     "iopub.status.busy": "2024-02-17T07:52:23.338354Z",
     "iopub.status.idle": "2024-02-17T07:52:23.357871Z",
     "shell.execute_reply": "2024-02-17T07:52:23.357367Z"
    }
   },
   "outputs": [],
   "source": [
    "# define the te incidence simulation\n",
    "run_time = 2e-11  # simulation run time\n",
    "\n",
    "sim_te = td.Simulation(\n",
    "    center=(0, 0, 0),\n",
    "    size=sim_size,\n",
    "    grid_spec=grid_spec,\n",
    "    structures=[phc_structure],\n",
    "    sources=[mode_source],\n",
    "    monitors=[flux_monitor, field_monitor],\n",
    "    run_time=run_time,\n",
    "    boundary_spec=td.BoundarySpec.all_sides(boundary=td.PML()),\n",
    "    symmetry=(0, -1, 0),\n",
    "    medium=air,\n",
    ")\n"
   ]
  },
  {
   "cell_type": "markdown",
   "id": "1cdcd5fd",
   "metadata": {},
   "source": [
    "To quickly check if the structures, source, and monitors are correctly defined, use the `plot` method to visualize the simulation."
   ]
  },
  {
   "cell_type": "code",
   "execution_count": 9,
   "id": "82aa2672",
   "metadata": {
    "execution": {
     "iopub.execute_input": "2024-02-17T07:52:23.359784Z",
     "iopub.status.busy": "2024-02-17T07:52:23.359602Z",
     "iopub.status.idle": "2024-02-17T07:52:23.607073Z",
     "shell.execute_reply": "2024-02-17T07:52:23.606527Z"
    }
   },
   "outputs": [
    {
     "data": {
      "image/png": "[encoded data removed]",
      "text/plain": [
       "<Figure size 640x480 with 1 Axes>"
      ]
     },
     "metadata": {},
     "output_type": "display_data"
    }
   ],
   "source": [
    "sim_te.plot(z=t / 2)\n",
    "plt.show()\n"
   ]
  },
  {
   "cell_type": "markdown",
   "id": "407055b0",
   "metadata": {},
   "source": [
    "To further investigate the grids, we overlay the grid on top of the structures and zoom in on a small area. The grid looks sufficiently fine."
   ]
  },
  {
   "cell_type": "code",
   "execution_count": 10,
   "id": "27380ab5",
   "metadata": {
    "execution": {
     "iopub.execute_input": "2024-02-17T07:52:23.608957Z",
     "iopub.status.busy": "2024-02-17T07:52:23.608810Z",
     "iopub.status.idle": "2024-02-17T07:52:23.794785Z",
     "shell.execute_reply": "2024-02-17T07:52:23.794260Z"
    }
   },
   "outputs": [
    {
     "data": {
      "image/png": "[encoded data removed]",
      "text/plain": [
       "<Figure size 640x480 with 1 Axes>"
      ]
     },
     "metadata": {},
     "output_type": "display_data"
    }
   ],
   "source": [
    "fig, ax = plt.subplots()\n",
    "sim_te.plot(z=t / 2, ax=ax)\n",
    "sim_te.plot_grid(z=t / 2, ax=ax)\n",
    "ax.set_xlim(-0.5, 0.5)\n",
    "ax.set_ylim(0, 1)\n",
    "plt.show()\n"
   ]
  },
  {
   "cell_type": "markdown",
   "id": "287ae5bc",
   "metadata": {},
   "source": [
    "Lastly, we use the [ModeSolver](../api/_autosummary/tidy3d.plugins.mode.ModeSolver.html) plugin to visualize the mode profile launched by the mode source. The mode field confirms that we are launching the fundamental TE mode at the input waveguide. "
   ]
  },
  {
   "cell_type": "code",
   "execution_count": 11,
   "id": "a66f5a30",
   "metadata": {
    "execution": {
     "iopub.execute_input": "2024-02-17T07:52:23.796829Z",
     "iopub.status.busy": "2024-02-17T07:52:23.796645Z",
     "iopub.status.idle": "2024-02-17T07:52:50.518679Z",
     "shell.execute_reply": "2024-02-17T07:52:50.518162Z"
    }
   },
   "outputs": [
    {
     "data": {
      "text/html": [
       "<pre style=\"white-space:pre;overflow-x:auto;line-height:normal;font-family:Menlo,'DejaVu Sans Mono',consolas,'Courier New',monospace\"><span style=\"color: #7fbfbf; text-decoration-color: #7fbfbf\">23:52:24 PST </span>Mode solver created with                                           \n",
       "<span style=\"color: #7fbfbf; text-decoration-color: #7fbfbf\">             </span><span style=\"color: #808000; text-decoration-color: #808000\">task_id</span>=<span style=\"color: #008000; text-decoration-color: #008000\">'fdve-7d285ff3-4264-42f3-93f9-abecb1c00fb2'</span>,               \n",
       "<span style=\"color: #7fbfbf; text-decoration-color: #7fbfbf\">             </span><span style=\"color: #808000; text-decoration-color: #808000\">solver_id</span>=<span style=\"color: #008000; text-decoration-color: #008000\">'mo-440200e0-178c-44b2-804f-6283c0fa8203'</span>.               \n",
       "</pre>\n"
      ],
      "text/plain": [
       "\u001b[2;36m23:52:24 PST\u001b[0m\u001b[2;36m \u001b[0mMode solver created with                                           \n",
       "\u001b[2;36m             \u001b[0m\u001b[33mtask_id\u001b[0m=\u001b[32m'fdve-7d285ff3-4264-42f3-93f9-abecb1c00fb2'\u001b[0m,               \n",
       "\u001b[2;36m             \u001b[0m\u001b[33msolver_id\u001b[0m=\u001b[32m'mo-440200e0-178c-44b2-804f-6283c0fa8203'\u001b[0m.               \n"
      ]
     },
     "metadata": {},
     "output_type": "display_data"
    },
    {
     "data": {
      "application/vnd.jupyter.widget-view+json": {
       "model_id": "f7a952bb0d1140bb8842376e2a140a45",
       "version_major": 2,
       "version_minor": 0
      },
      "text/plain": [
       "Output()"
      ]
     },
     "metadata": {},
     "output_type": "display_data"
    },
    {
     "data": {
      "text/html": [
       "<pre style=\"white-space:pre;overflow-x:auto;line-height:normal;font-family:Menlo,'DejaVu Sans Mono',consolas,'Courier New',monospace\"></pre>\n"
      ],
      "text/plain": []
     },
     "metadata": {},
     "output_type": "display_data"
    },
    {
     "data": {
      "text/html": [
       "<pre style=\"white-space:pre;overflow-x:auto;line-height:normal;font-family:Menlo,'DejaVu Sans Mono',consolas,'Courier New',monospace\">\n",
       "</pre>\n"
      ],
      "text/plain": [
       "\n"
      ]
     },
     "metadata": {},
     "output_type": "display_data"
    },
    {
     "data": {
      "application/vnd.jupyter.widget-view+json": {
       "model_id": "ec4b1a01796f46cd8627b1a9e5f9449c",
       "version_major": 2,
       "version_minor": 0
      },
      "text/plain": [
       "Output()"
      ]
     },
     "metadata": {},
     "output_type": "display_data"
    },
    {
     "data": {
      "text/html": [
       "<pre style=\"white-space:pre;overflow-x:auto;line-height:normal;font-family:Menlo,'DejaVu Sans Mono',consolas,'Courier New',monospace\"></pre>\n"
      ],
      "text/plain": []
     },
     "metadata": {},
     "output_type": "display_data"
    },
    {
     "data": {
      "text/html": [
       "<pre style=\"white-space:pre;overflow-x:auto;line-height:normal;font-family:Menlo,'DejaVu Sans Mono',consolas,'Courier New',monospace\">\n",
       "</pre>\n"
      ],
      "text/plain": [
       "\n"
      ]
     },
     "metadata": {},
     "output_type": "display_data"
    },
    {
     "data": {
      "text/html": [
       "<pre style=\"white-space:pre;overflow-x:auto;line-height:normal;font-family:Menlo,'DejaVu Sans Mono',consolas,'Courier New',monospace\"><span style=\"color: #7fbfbf; text-decoration-color: #7fbfbf\">23:52:26 PST </span>Mode solver status: queued                                         \n",
       "</pre>\n"
      ],
      "text/plain": [
       "\u001b[2;36m23:52:26 PST\u001b[0m\u001b[2;36m \u001b[0mMode solver status: queued                                         \n"
      ]
     },
     "metadata": {},
     "output_type": "display_data"
    },
    {
     "data": {
      "text/html": [
       "<pre style=\"white-space:pre;overflow-x:auto;line-height:normal;font-family:Menlo,'DejaVu Sans Mono',consolas,'Courier New',monospace\"><span style=\"color: #7fbfbf; text-decoration-color: #7fbfbf\">23:52:38 PST </span>Mode solver status: running                                        \n",
       "</pre>\n"
      ],
      "text/plain": [
       "\u001b[2;36m23:52:38 PST\u001b[0m\u001b[2;36m \u001b[0mMode solver status: running                                        \n"
      ]
     },
     "metadata": {},
     "output_type": "display_data"
    },
    {
     "data": {
      "text/html": [
       "<pre style=\"white-space:pre;overflow-x:auto;line-height:normal;font-family:Menlo,'DejaVu Sans Mono',consolas,'Courier New',monospace\"><span style=\"color: #7fbfbf; text-decoration-color: #7fbfbf\">23:52:49 PST </span>Mode solver status: success                                        \n",
       "</pre>\n"
      ],
      "text/plain": [
       "\u001b[2;36m23:52:49 PST\u001b[0m\u001b[2;36m \u001b[0mMode solver status: success                                        \n"
      ]
     },
     "metadata": {},
     "output_type": "display_data"
    },
    {
     "data": {
      "application/vnd.jupyter.widget-view+json": {
       "model_id": "94f6810a4d0e4442ad74f7e992acf56c",
       "version_major": 2,
       "version_minor": 0
      },
      "text/plain": [
       "Output()"
      ]
     },
     "metadata": {},
     "output_type": "display_data"
    },
    {
     "data": {
      "text/html": [
       "<pre style=\"white-space:pre;overflow-x:auto;line-height:normal;font-family:Menlo,'DejaVu Sans Mono',consolas,'Courier New',monospace\"></pre>\n"
      ],
      "text/plain": []
     },
     "metadata": {},
     "output_type": "display_data"
    },
    {
     "data": {
      "text/html": [
       "<pre style=\"white-space:pre;overflow-x:auto;line-height:normal;font-family:Menlo,'DejaVu Sans Mono',consolas,'Courier New',monospace\">\n",
       "</pre>\n"
      ],
      "text/plain": [
       "\n"
      ]
     },
     "metadata": {},
     "output_type": "display_data"
    },
    {
     "data": {
      "image/png": "[encoded data removed]",
      "text/plain": [
       "<Figure size 1000x300 with 6 Axes>"
      ]
     },
     "metadata": {},
     "output_type": "display_data"
    }
   ],
   "source": [
    "# define mode solver\n",
    "mode_solver = ModeSolver(\n",
    "    simulation=sim_te,\n",
    "    plane=td.Box(center=mode_source.center, size=mode_source.size),\n",
    "    mode_spec=mode_spec,\n",
    "    freqs=[freq0],\n",
    ")\n",
    "mode_data = run_ms(mode_solver)\n",
    "\n",
    "# visualize mode fields\n",
    "f, (ax1, ax2, ax3) = plt.subplots(1, 3, tight_layout=True, figsize=(10, 3))\n",
    "abs(mode_data.Ex.isel(mode_index=0)).plot(x=\"y\", y=\"z\", ax=ax1, cmap=\"magma\")\n",
    "abs(mode_data.Ey.isel(mode_index=0)).plot(x=\"y\", y=\"z\", ax=ax2, cmap=\"magma\")\n",
    "abs(mode_data.Ez.isel(mode_index=0)).plot(x=\"y\", y=\"z\", ax=ax3, cmap=\"magma\")\n",
    "\n",
    "ax1.set_title(\"|Ex(x, y)|\")\n",
    "ax1.set_aspect(\"equal\")\n",
    "ax2.set_title(\"|Ey(x, y)|\")\n",
    "ax2.set_aspect(\"equal\")\n",
    "ax3.set_title(\"|Ez(x, y)|\")\n",
    "ax3.set_aspect(\"equal\")\n",
    "plt.show()\n"
   ]
  },
  {
   "cell_type": "markdown",
   "id": "36381b65",
   "metadata": {},
   "source": [
    "The TM incidence simulation can be made simply by copying the TE simulation while updating the symmetry condition to `(0,1,0)`. Then a simulation batch consisting of both simulations is defined. This way, both simulations will be running in parallel on the server, which will substantially save the total simulation time. "
   ]
  },
  {
   "cell_type": "code",
   "execution_count": 12,
   "id": "f67374c9",
   "metadata": {
    "execution": {
     "iopub.execute_input": "2024-02-17T07:52:50.545472Z",
     "iopub.status.busy": "2024-02-17T07:52:50.545329Z",
     "iopub.status.idle": "2024-02-17T07:52:50.577505Z",
     "shell.execute_reply": "2024-02-17T07:52:50.577019Z"
    }
   },
   "outputs": [],
   "source": [
    "# copy the te simulation to make the tm simulation\n",
    "sim_tm = sim_te.copy(update={\"symmetry\": (0, 1, 0)})\n",
    "\n",
    "# define simulation batch\n",
    "sims = {\"TE\": sim_te, \"TM\": sim_tm}\n"
   ]
  },
  {
   "cell_type": "markdown",
   "id": "947ba4e5",
   "metadata": {},
   "source": [
    "Submit the simulation batch to the server."
   ]
  },
  {
   "cell_type": "code",
   "execution_count": 13,
   "id": "3d61016a",
   "metadata": {
    "execution": {
     "iopub.execute_input": "2024-02-17T07:52:50.579540Z",
     "iopub.status.busy": "2024-02-17T07:52:50.579319Z",
     "iopub.status.idle": "2024-02-17T07:57:47.131455Z",
     "shell.execute_reply": "2024-02-17T07:57:47.129290Z"
    }
   },
   "outputs": [
    {
     "data": {
      "text/html": [
       "<pre style=\"white-space:pre;overflow-x:auto;line-height:normal;font-family:Menlo,'DejaVu Sans Mono',consolas,'Courier New',monospace\"><span style=\"color: #7fbfbf; text-decoration-color: #7fbfbf\">23:52:50 PST </span>Created task <span style=\"color: #008000; text-decoration-color: #008000\">'TE'</span> with task_id                                     \n",
       "<span style=\"color: #7fbfbf; text-decoration-color: #7fbfbf\">             </span><span style=\"color: #008000; text-decoration-color: #008000\">'fdve-0ebea76e-3b59-4fae-8e48-0f5c5c067472'</span> and task_type <span style=\"color: #008000; text-decoration-color: #008000\">'FDTD'</span>.  \n",
       "</pre>\n"
      ],
      "text/plain": [
       "\u001b[2;36m23:52:50 PST\u001b[0m\u001b[2;36m \u001b[0mCreated task \u001b[32m'TE'\u001b[0m with task_id                                     \n",
       "\u001b[2;36m             \u001b[0m\u001b[32m'fdve-0ebea76e-3b59-4fae-8e48-0f5c5c067472'\u001b[0m and task_type \u001b[32m'FDTD'\u001b[0m.  \n"
      ]
     },
     "metadata": {},
     "output_type": "display_data"
    },
    {
     "data": {
      "text/html": [
       "<pre style=\"white-space:pre;overflow-x:auto;line-height:normal;font-family:Menlo,'DejaVu Sans Mono',consolas,'Courier New',monospace\"><span style=\"color: #7fbfbf; text-decoration-color: #7fbfbf\">             </span>View task using web UI at                                          \n",
       "<span style=\"color: #7fbfbf; text-decoration-color: #7fbfbf\">             </span><a href=\"https://tidy3d.simulation.cloud/workbench?taskId=fdve-0ebea76e-3b59-4fae-8e48-0f5c5c067472\" target=\"_blank\"><span style=\"color: #008000; text-decoration-color: #008000\">'https://tidy3d.simulation.cloud/workbench?taskId=fdve-0ebea76e-3b5</span></a>\n",
       "<span style=\"color: #7fbfbf; text-decoration-color: #7fbfbf\">             </span><a href=\"https://tidy3d.simulation.cloud/workbench?taskId=fdve-0ebea76e-3b59-4fae-8e48-0f5c5c067472\" target=\"_blank\"><span style=\"color: #008000; text-decoration-color: #008000\">9-4fae-8e48-0f5c5c067472'</span></a>.                                         \n",
       "</pre>\n"
      ],
      "text/plain": [
       "\u001b[2;36m            \u001b[0m\u001b[2;36m \u001b[0mView task using web UI at                                          \n",
       "\u001b[2;36m             \u001b[0m\u001b]8;id=6154;https://tidy3d.simulation.cloud/workbench?taskId=fdve-0ebea76e-3b59-4fae-8e48-0f5c5c067472\u001b\\\u001b[32m'https://tidy3d.simulation.cloud/workbench?\u001b[0m\u001b]8;;\u001b\\\u001b]8;id=57654;https://tidy3d.simulation.cloud/workbench?taskId=fdve-0ebea76e-3b59-4fae-8e48-0f5c5c067472\u001b\\\u001b[32mtaskId\u001b[0m\u001b]8;;\u001b\\\u001b]8;id=6154;https://tidy3d.simulation.cloud/workbench?taskId=fdve-0ebea76e-3b59-4fae-8e48-0f5c5c067472\u001b\\\u001b[32m=\u001b[0m\u001b]8;;\u001b\\\u001b]8;id=309978;https://tidy3d.simulation.cloud/workbench?taskId=fdve-0ebea76e-3b59-4fae-8e48-0f5c5c067472\u001b\\\u001b[32mfdve\u001b[0m\u001b]8;;\u001b\\\u001b]8;id=6154;https://tidy3d.simulation.cloud/workbench?taskId=fdve-0ebea76e-3b59-4fae-8e48-0f5c5c067472\u001b\\\u001b[32m-0ebea76e-3b5\u001b[0m\u001b]8;;\u001b\\\n",
       "\u001b[2;36m             \u001b[0m\u001b]8;id=6154;https://tidy3d.simulation.cloud/workbench?taskId=fdve-0ebea76e-3b59-4fae-8e48-0f5c5c067472\u001b\\\u001b[32m9-4fae-8e48-0f5c5c067472'\u001b[0m\u001b]8;;\u001b\\.                                         \n"
      ]
     },
     "metadata": {},
     "output_type": "display_data"
    },
    {
     "data": {
      "application/vnd.jupyter.widget-view+json": {
       "model_id": "13d27b0b4bf04fdaa463d1ac4995f7e2",
       "version_major": 2,
       "version_minor": 0
      },
      "text/plain": [
       "Output()"
      ]
     },
     "metadata": {},
     "output_type": "display_data"
    },
    {
     "data": {
      "text/html": [
       "<pre style=\"white-space:pre;overflow-x:auto;line-height:normal;font-family:Menlo,'DejaVu Sans Mono',consolas,'Courier New',monospace\"></pre>\n"
      ],
      "text/plain": []
     },
     "metadata": {},
     "output_type": "display_data"
    },
    {
     "data": {
      "text/html": [
       "<pre style=\"white-space:pre;overflow-x:auto;line-height:normal;font-family:Menlo,'DejaVu Sans Mono',consolas,'Courier New',monospace\">\n",
       "</pre>\n"
      ],
      "text/plain": [
       "\n"
      ]
     },
     "metadata": {},
     "output_type": "display_data"
    },
    {
     "data": {
      "text/html": [
       "<pre style=\"white-space:pre;overflow-x:auto;line-height:normal;font-family:Menlo,'DejaVu Sans Mono',consolas,'Courier New',monospace\"><span style=\"color: #7fbfbf; text-decoration-color: #7fbfbf\">23:52:51 PST </span>Created task <span style=\"color: #008000; text-decoration-color: #008000\">'TM'</span> with task_id                                     \n",
       "<span style=\"color: #7fbfbf; text-decoration-color: #7fbfbf\">             </span><span style=\"color: #008000; text-decoration-color: #008000\">'fdve-50057f5a-2b66-47ec-91f7-0237d9d151a1'</span> and task_type <span style=\"color: #008000; text-decoration-color: #008000\">'FDTD'</span>.  \n",
       "</pre>\n"
      ],
      "text/plain": [
       "\u001b[2;36m23:52:51 PST\u001b[0m\u001b[2;36m \u001b[0mCreated task \u001b[32m'TM'\u001b[0m with task_id                                     \n",
       "\u001b[2;36m             \u001b[0m\u001b[32m'fdve-50057f5a-2b66-47ec-91f7-0237d9d151a1'\u001b[0m and task_type \u001b[32m'FDTD'\u001b[0m.  \n"
      ]
     },
     "metadata": {},
     "output_type": "display_data"
    },
    {
     "data": {
      "text/html": [
       "<pre style=\"white-space:pre;overflow-x:auto;line-height:normal;font-family:Menlo,'DejaVu Sans Mono',consolas,'Courier New',monospace\"><span style=\"color: #7fbfbf; text-decoration-color: #7fbfbf\">             </span>View task using web UI at                                          \n",
       "<span style=\"color: #7fbfbf; text-decoration-color: #7fbfbf\">             </span><a href=\"https://tidy3d.simulation.cloud/workbench?taskId=fdve-50057f5a-2b66-47ec-91f7-0237d9d151a1\" target=\"_blank\"><span style=\"color: #008000; text-decoration-color: #008000\">'https://tidy3d.simulation.cloud/workbench?taskId=fdve-50057f5a-2b6</span></a>\n",
       "<span style=\"color: #7fbfbf; text-decoration-color: #7fbfbf\">             </span><a href=\"https://tidy3d.simulation.cloud/workbench?taskId=fdve-50057f5a-2b66-47ec-91f7-0237d9d151a1\" target=\"_blank\"><span style=\"color: #008000; text-decoration-color: #008000\">6-47ec-91f7-0237d9d151a1'</span></a>.                                         \n",
       "</pre>\n"
      ],
      "text/plain": [
       "\u001b[2;36m            \u001b[0m\u001b[2;36m \u001b[0mView task using web UI at                                          \n",
       "\u001b[2;36m             \u001b[0m\u001b]8;id=459993;https://tidy3d.simulation.cloud/workbench?taskId=fdve-50057f5a-2b66-47ec-91f7-0237d9d151a1\u001b\\\u001b[32m'https://tidy3d.simulation.cloud/workbench?\u001b[0m\u001b]8;;\u001b\\\u001b]8;id=606010;https://tidy3d.simulation.cloud/workbench?taskId=fdve-50057f5a-2b66-47ec-91f7-0237d9d151a1\u001b\\\u001b[32mtaskId\u001b[0m\u001b]8;;\u001b\\\u001b]8;id=459993;https://tidy3d.simulation.cloud/workbench?taskId=fdve-50057f5a-2b66-47ec-91f7-0237d9d151a1\u001b\\\u001b[32m=\u001b[0m\u001b]8;;\u001b\\\u001b]8;id=167190;https://tidy3d.simulation.cloud/workbench?taskId=fdve-50057f5a-2b66-47ec-91f7-0237d9d151a1\u001b\\\u001b[32mfdve\u001b[0m\u001b]8;;\u001b\\\u001b]8;id=459993;https://tidy3d.simulation.cloud/workbench?taskId=fdve-50057f5a-2b66-47ec-91f7-0237d9d151a1\u001b\\\u001b[32m-50057f5a-2b6\u001b[0m\u001b]8;;\u001b\\\n",
       "\u001b[2;36m             \u001b[0m\u001b]8;id=459993;https://tidy3d.simulation.cloud/workbench?taskId=fdve-50057f5a-2b66-47ec-91f7-0237d9d151a1\u001b\\\u001b[32m6-47ec-91f7-0237d9d151a1'\u001b[0m\u001b]8;;\u001b\\.                                         \n"
      ]
     },
     "metadata": {},
     "output_type": "display_data"
    },
    {
     "data": {
      "application/vnd.jupyter.widget-view+json": {
       "model_id": "ddbac60a6684459e9ea6a971de1dac34",
       "version_major": 2,
       "version_minor": 0
      },
      "text/plain": [
       "Output()"
      ]
     },
     "metadata": {},
     "output_type": "display_data"
    },
    {
     "data": {
      "text/html": [
       "<pre style=\"white-space:pre;overflow-x:auto;line-height:normal;font-family:Menlo,'DejaVu Sans Mono',consolas,'Courier New',monospace\"></pre>\n"
      ],
      "text/plain": []
     },
     "metadata": {},
     "output_type": "display_data"
    },
    {
     "data": {
      "text/html": [
       "<pre style=\"white-space:pre;overflow-x:auto;line-height:normal;font-family:Menlo,'DejaVu Sans Mono',consolas,'Courier New',monospace\">\n",
       "</pre>\n"
      ],
      "text/plain": [
       "\n"
      ]
     },
     "metadata": {},
     "output_type": "display_data"
    },
    {
     "data": {
      "text/html": [
       "<pre style=\"white-space:pre;overflow-x:auto;line-height:normal;font-family:Menlo,'DejaVu Sans Mono',consolas,'Courier New',monospace\"><span style=\"color: #7fbfbf; text-decoration-color: #7fbfbf\">23:52:52 PST </span>Started working on Batch.                                          \n",
       "</pre>\n"
      ],
      "text/plain": [
       "\u001b[2;36m23:52:52 PST\u001b[0m\u001b[2;36m \u001b[0mStarted working on Batch.                                          \n"
      ]
     },
     "metadata": {},
     "output_type": "display_data"
    },
    {
     "data": {
      "text/html": [
       "<pre style=\"white-space:pre;overflow-x:auto;line-height:normal;font-family:Menlo,'DejaVu Sans Mono',consolas,'Courier New',monospace\"><span style=\"color: #7fbfbf; text-decoration-color: #7fbfbf\">23:52:53 PST </span>Maximum FlexCredit cost: <span style=\"color: #008080; text-decoration-color: #008080; font-weight: bold\">1.752</span> for the whole batch.                \n",
       "</pre>\n"
      ],
      "text/plain": [
       "\u001b[2;36m23:52:53 PST\u001b[0m\u001b[2;36m \u001b[0mMaximum FlexCredit cost: \u001b[1;36m1.752\u001b[0m for the whole batch.                \n"
      ]
     },
     "metadata": {},
     "output_type": "display_data"
    },
    {
     "data": {
      "text/html": [
       "<pre style=\"white-space:pre;overflow-x:auto;line-height:normal;font-family:Menlo,'DejaVu Sans Mono',consolas,'Courier New',monospace\"><span style=\"color: #7fbfbf; text-decoration-color: #7fbfbf\">             </span>Use <span style=\"color: #008000; text-decoration-color: #008000\">'Batch.real_cost()'</span> to get the billed FlexCredit cost after the\n",
       "<span style=\"color: #7fbfbf; text-decoration-color: #7fbfbf\">             </span>Batch has completed.                                               \n",
       "</pre>\n"
      ],
      "text/plain": [
       "\u001b[2;36m            \u001b[0m\u001b[2;36m \u001b[0mUse \u001b[32m'Batch.real_cost\u001b[0m\u001b[32m(\u001b[0m\u001b[32m)\u001b[0m\u001b[32m'\u001b[0m to get the billed FlexCredit cost after the\n",
       "\u001b[2;36m             \u001b[0mBatch has completed.                                               \n"
      ]
     },
     "metadata": {},
     "output_type": "display_data"
    },
    {
     "data": {
      "application/vnd.jupyter.widget-view+json": {
       "model_id": "eed3fa9b6b1f44df9e80fefb8b013856",
       "version_major": 2,
       "version_minor": 0
      },
      "text/plain": [
       "Output()"
      ]
     },
     "metadata": {},
     "output_type": "display_data"
    },
    {
     "data": {
      "text/html": [
       "<pre style=\"white-space:pre;overflow-x:auto;line-height:normal;font-family:Menlo,'DejaVu Sans Mono',consolas,'Courier New',monospace\"><span style=\"color: #7fbfbf; text-decoration-color: #7fbfbf\">23:57:46 PST </span>Batch complete.                                                    \n",
       "</pre>\n"
      ],
      "text/plain": [
       "\u001b[2;36m23:57:46 PST\u001b[0m\u001b[2;36m \u001b[0mBatch complete.                                                    \n"
      ]
     },
     "metadata": {},
     "output_type": "display_data"
    },
    {
     "data": {
      "text/html": [
       "<pre style=\"white-space:pre;overflow-x:auto;line-height:normal;font-family:Menlo,'DejaVu Sans Mono',consolas,'Courier New',monospace\"></pre>\n"
      ],
      "text/plain": []
     },
     "metadata": {},
     "output_type": "display_data"
    },
    {
     "data": {
      "text/html": [
       "<pre style=\"white-space:pre;overflow-x:auto;line-height:normal;font-family:Menlo,'DejaVu Sans Mono',consolas,'Courier New',monospace\">\n",
       "</pre>\n"
      ],
      "text/plain": [
       "\n"
      ]
     },
     "metadata": {},
     "output_type": "display_data"
    }
   ],
   "source": [
    "batch = web.Batch(simulations=sims, verbose=True)\n",
    "batch_results = batch.run(path_dir=\"data\")\n"
   ]
  },
  {
   "cell_type": "markdown",
   "id": "8d035558",
   "metadata": {},
   "source": [
    "## Postprocessing and Result Visualization "
   ]
  },
  {
   "cell_type": "markdown",
   "id": "2c8eb58b",
   "metadata": {},
   "source": [
    "After the batch of simulations is complete, we first visualize the field intensity distributions in both cases. As expected, the TE mode is blocked and the TM mode transmits through the photonic crystal region. "
   ]
  },
  {
   "cell_type": "code",
   "execution_count": 14,
   "id": "2652b899",
   "metadata": {
    "execution": {
     "iopub.execute_input": "2024-02-17T07:57:51.892146Z",
     "iopub.status.busy": "2024-02-17T07:57:51.892006Z",
     "iopub.status.idle": "2024-02-17T07:57:55.171969Z",
     "shell.execute_reply": "2024-02-17T07:57:55.171418Z"
    }
   },
   "outputs": [
    {
     "data": {
      "application/vnd.jupyter.widget-view+json": {
       "model_id": "9b119f3fca1843388a3446d0f7c86269",
       "version_major": 2,
       "version_minor": 0
      },
      "text/plain": [
       "Output()"
      ]
     },
     "metadata": {},
     "output_type": "display_data"
    },
    {
     "data": {
      "text/html": [
       "<pre style=\"white-space:pre;overflow-x:auto;line-height:normal;font-family:Menlo,'DejaVu Sans Mono',consolas,'Courier New',monospace\"></pre>\n"
      ],
      "text/plain": []
     },
     "metadata": {},
     "output_type": "display_data"
    },
    {
     "data": {
      "text/html": [
       "<pre style=\"white-space:pre;overflow-x:auto;line-height:normal;font-family:Menlo,'DejaVu Sans Mono',consolas,'Courier New',monospace\">\n",
       "</pre>\n"
      ],
      "text/plain": [
       "\n"
      ]
     },
     "metadata": {},
     "output_type": "display_data"
    },
    {
     "data": {
      "text/html": [
       "<pre style=\"white-space:pre;overflow-x:auto;line-height:normal;font-family:Menlo,'DejaVu Sans Mono',consolas,'Courier New',monospace\"><span style=\"color: #7fbfbf; text-decoration-color: #7fbfbf\">23:57:52 PST </span>loading simulation from                                            \n",
       "<span style=\"color: #7fbfbf; text-decoration-color: #7fbfbf\">             </span>data/fdve-<span style=\"color: #ffff00; text-decoration-color: #ffff00\">0ebea76e-3b59-4fae-8e48-0f5c5c067472</span>.hdf5                \n",
       "</pre>\n"
      ],
      "text/plain": [
       "\u001b[2;36m23:57:52 PST\u001b[0m\u001b[2;36m \u001b[0mloading simulation from                                            \n",
       "\u001b[2;36m             \u001b[0mdata/fdve-\u001b[93m0ebea76e-3b59-4fae-8e48-0f5c5c067472\u001b[0m.hdf5                \n"
      ]
     },
     "metadata": {},
     "output_type": "display_data"
    },
    {
     "data": {
      "application/vnd.jupyter.widget-view+json": {
       "model_id": "02c3fdd689914a8998dac6d36ce528d3",
       "version_major": 2,
       "version_minor": 0
      },
      "text/plain": [
       "Output()"
      ]
     },
     "metadata": {},
     "output_type": "display_data"
    },
    {
     "data": {
      "text/html": [
       "<pre style=\"white-space:pre;overflow-x:auto;line-height:normal;font-family:Menlo,'DejaVu Sans Mono',consolas,'Courier New',monospace\"></pre>\n"
      ],
      "text/plain": []
     },
     "metadata": {},
     "output_type": "display_data"
    },
    {
     "data": {
      "text/html": [
       "<pre style=\"white-space:pre;overflow-x:auto;line-height:normal;font-family:Menlo,'DejaVu Sans Mono',consolas,'Courier New',monospace\">\n",
       "</pre>\n"
      ],
      "text/plain": [
       "\n"
      ]
     },
     "metadata": {},
     "output_type": "display_data"
    },
    {
     "data": {
      "text/html": [
       "<pre style=\"white-space:pre;overflow-x:auto;line-height:normal;font-family:Menlo,'DejaVu Sans Mono',consolas,'Courier New',monospace\"><span style=\"color: #7fbfbf; text-decoration-color: #7fbfbf\">23:57:53 PST </span>loading simulation from                                            \n",
       "<span style=\"color: #7fbfbf; text-decoration-color: #7fbfbf\">             </span>data/fdve-<span style=\"color: #ffff00; text-decoration-color: #ffff00\">50057f5a-2b66-47ec-91f7-0237d9d151a1</span>.hdf5                \n",
       "</pre>\n"
      ],
      "text/plain": [
       "\u001b[2;36m23:57:53 PST\u001b[0m\u001b[2;36m \u001b[0mloading simulation from                                            \n",
       "\u001b[2;36m             \u001b[0mdata/fdve-\u001b[93m50057f5a-2b66-47ec-91f7-0237d9d151a1\u001b[0m.hdf5                \n"
      ]
     },
     "metadata": {},
     "output_type": "display_data"
    },
    {
     "data": {
      "image/png": "[encoded data removed]",
      "text/plain": [
       "<Figure size 900x400 with 4 Axes>"
      ]
     },
     "metadata": {},
     "output_type": "display_data"
    }
   ],
   "source": [
    "# get individual simulation data from batch result\n",
    "sim_data_te = batch_results[\"TE\"]\n",
    "sim_data_tm = batch_results[\"TM\"]\n",
    "\n",
    "# plot the field intensities in the te and tm cases\n",
    "fig, (ax1, ax2) = plt.subplots(1, 2, tight_layout=True, figsize=(9, 4))\n",
    "sim_data_te.plot_field(\n",
    "    field_monitor_name=\"field\", field_name=\"E\", val=\"abs^2\", ax=ax1, vmin=0, vmax=4000\n",
    ")\n",
    "sim_data_tm.plot_field(\n",
    "    field_monitor_name=\"field\", field_name=\"E\", val=\"abs^2\", ax=ax2, vmin=0, vmax=4000\n",
    ")\n",
    "plt.show()\n"
   ]
  },
  {
   "cell_type": "markdown",
   "id": "904169bf",
   "metadata": {},
   "source": [
    "To quantify the filter performance, we plot the transmission in both simulations. The result shows a good transmission (about -0.5 dB) for the TM mode and a low transmission (about -40 dB) for the TE mode. That is, the designed filter functions well while being very compact in size. "
   ]
  },
  {
   "cell_type": "code",
   "execution_count": 15,
   "id": "7a4d9dd4",
   "metadata": {
    "execution": {
     "iopub.execute_input": "2024-02-17T07:57:55.201937Z",
     "iopub.status.busy": "2024-02-17T07:57:55.201724Z",
     "iopub.status.idle": "2024-02-17T07:57:55.379333Z",
     "shell.execute_reply": "2024-02-17T07:57:55.378715Z"
    }
   },
   "outputs": [
    {
     "data": {
      "image/png": "[encoded data removed]",
      "text/plain": [
       "<Figure size 640x480 with 1 Axes>"
      ]
     },
     "metadata": {},
     "output_type": "display_data"
    }
   ],
   "source": [
    "T_te = sim_data_te[\"flux\"].flux\n",
    "T_tm = sim_data_tm[\"flux\"].flux\n",
    "\n",
    "# plot the transmissions in the te and tm cases\n",
    "plt.plot(ldas, 10 * np.log10(T_te), label=\"TE\")\n",
    "plt.plot(ldas, 10 * np.log10(T_tm), label=\"TM\")\n",
    "plt.xlim(1.48, 1.62)\n",
    "plt.ylim(-50, 0)\n",
    "plt.xlabel(\"Wavelength ($\\mu m$)\")\n",
    "plt.ylabel(\"Transmission (dB)\")\n",
    "plt.legend()\n",
    "plt.show()\n"
   ]
  },
  {
   "cell_type": "code",
   "execution_count": null,
   "id": "d03118e9",
   "metadata": {},
   "outputs": [],
   "source": []
  }
 ],
 "metadata": {
  "description": "This notebook demonstrates how to model a photonic crystal waveguide polarization filter in Tidy3D FDTD.",
  "feature_image": "./img/phc_polarization_filter.png",
  "kernelspec": {
   "display_name": "tidy3d",
   "language": "python",
   "name": "tidy3d"
  },
  "keywords": "photonic crystal, waveguide filter, polarization filter, Tidy3D, FDTD",
  "language_info": {
   "codemirror_mode": {
    "name": "ipython",
    "version": 3
   },
   "file_extension": ".py",
   "mimetype": "text/x-python",
   "name": "python",
   "nbconvert_exporter": "python",
   "pygments_lexer": "ipython3",
   "version": "3.10.13"
  },
  "title": "Photonic Crystal Waveguide Polarization Filter | Flexcompute",
  "widgets": {
   "application/vnd.jupyter.widget-state+json": {
    "state": {
     "02c3fdd689914a8998dac6d36ce528d3": {
      "model_module": "@jupyter-widgets/output",
      "model_module_version": "1.0.0",
      "model_name": "OutputModel",
      "state": {
       "_dom_classes": [],
       "_model_module": "@jupyter-widgets/output",
       "_model_module_version": "1.0.0",
       "_model_name": "OutputModel",
       "_view_count": null,
       "_view_module": "@jupyter-widgets/output",
       "_view_module_version": "1.0.0",
       "_view_name": "OutputView",
       "layout": "IPY_MODEL_38fb92c0bb28462dbcabca9696b23c4d",
       "msg_id": "",
       "outputs": [
        {
         "data": {
          "text/html": "<pre style=\"white-space:pre;overflow-x:auto;line-height:normal;font-family:Menlo,'DejaVu Sans Mono',consolas,'Courier New',monospace\"><span style=\"color: #008000; text-decoration-color: #008000; font-weight: bold\">↓</span> <span style=\"color: #000080; text-decoration-color: #000080; font-weight: bold\">simulation_data.hdf5.gz</span> <span style=\"color: #729c1f; text-decoration-color: #729c1f\">━━━━━━━━━━━━</span> <span style=\"color: #800080; text-decoration-color: #800080\">100.0%</span> • <span style=\"color: #008000; text-decoration-color: #008000\">3.5/3.5 MB</span> • <span style=\"color: #800000; text-decoration-color: #800000\">29.9 MB/s</span> • <span style=\"color: #008080; text-decoration-color: #008080\">0:00:00</span>\n</pre>\n",
          "text/plain": "\u001b[1;32m↓\u001b[0m \u001b[1;34msimulation_data.hdf5.gz\u001b[0m \u001b[38;2;114;156;31m━━━━━━━━━━━━\u001b[0m \u001b[35m100.0%\u001b[0m • \u001b[32m3.5/3.5 MB\u001b[0m • \u001b[31m29.9 MB/s\u001b[0m • \u001b[36m0:00:00\u001b[0m\n"
         },
         "metadata": {},
         "output_type": "display_data"
        }
       ],
       "tabbable": null,
       "tooltip": null
      }
     },
     "13d27b0b4bf04fdaa463d1ac4995f7e2": {
      "model_module": "@jupyter-widgets/output",
      "model_module_version": "1.0.0",
      "model_name": "OutputModel",
      "state": {
       "_dom_classes": [],
       "_model_module": "@jupyter-widgets/output",
       "_model_module_version": "1.0.0",
       "_model_name": "OutputModel",
       "_view_count": null,
       "_view_module": "@jupyter-widgets/output",
       "_view_module_version": "1.0.0",
       "_view_name": "OutputView",
       "layout": "IPY_MODEL_b5710927a33b4b4d8877a4eb3368c330",
       "msg_id": "",
       "outputs": [
        {
         "data": {
          "text/html": "<pre style=\"white-space:pre;overflow-x:auto;line-height:normal;font-family:Menlo,'DejaVu Sans Mono',consolas,'Courier New',monospace\"><span style=\"color: #800000; text-decoration-color: #800000; font-weight: bold\">↑</span> <span style=\"color: #000080; text-decoration-color: #000080; font-weight: bold\">simulation.hdf5.gz</span> <span style=\"color: #729c1f; text-decoration-color: #729c1f\">━━━━━━━━━━━━━━━━━━━━━━━━━</span> <span style=\"color: #800080; text-decoration-color: #800080\">100.0%</span> • <span style=\"color: #008000; text-decoration-color: #008000\">2.9/2.9 kB</span> • <span style=\"color: #800000; text-decoration-color: #800000\">?</span> • <span style=\"color: #008080; text-decoration-color: #008080\">0:00:00</span>\n</pre>\n",
          "text/plain": "\u001b[1;31m↑\u001b[0m \u001b[1;34msimulation.hdf5.gz\u001b[0m \u001b[38;2;114;156;31m━━━━━━━━━━━━━━━━━━━━━━━━━\u001b[0m \u001b[35m100.0%\u001b[0m • \u001b[32m2.9/2.9 kB\u001b[0m • \u001b[31m?\u001b[0m • \u001b[36m0:00:00\u001b[0m\n"
         },
         "metadata": {},
         "output_type": "display_data"
        }
       ],
       "tabbable": null,
       "tooltip": null
      }
     },
     "38fb92c0bb28462dbcabca9696b23c4d": {
      "model_module": "@jupyter-widgets/base",
      "model_module_version": "2.0.0",
      "model_name": "LayoutModel",
      "state": {
       "_model_module": "@jupyter-widgets/base",
       "_model_module_version": "2.0.0",
       "_model_name": "LayoutModel",
       "_view_count": null,
       "_view_module": "@jupyter-widgets/base",
       "_view_module_version": "2.0.0",
       "_view_name": "LayoutView",
       "align_content": null,
       "align_items": null,
       "align_self": null,
       "border_bottom": null,
       "border_left": null,
       "border_right": null,
       "border_top": null,
       "bottom": null,
       "display": null,
       "flex": null,
       "flex_flow": null,
       "grid_area": null,
       "grid_auto_columns": null,
       "grid_auto_flow": null,
       "grid_auto_rows": null,
       "grid_column": null,
       "grid_gap": null,
       "grid_row": null,
       "grid_template_areas": null,
       "grid_template_columns": null,
       "grid_template_rows": null,
       "height": null,
       "justify_content": null,
       "justify_items": null,
       "left": null,
       "margin": null,
       "max_height": null,
       "max_width": null,
       "min_height": null,
       "min_width": null,
       "object_fit": null,
       "object_position": null,
       "order": null,
       "overflow": null,
       "padding": null,
       "right": null,
       "top": null,
       "visibility": null,
       "width": null
      }
     },
     "4e960722fad64ad1af9325fb84d6f8b0": {
      "model_module": "@jupyter-widgets/base",
      "model_module_version": "2.0.0",
      "model_name": "LayoutModel",
      "state": {
       "_model_module": "@jupyter-widgets/base",
       "_model_module_version": "2.0.0",
       "_model_name": "LayoutModel",
       "_view_count": null,
       "_view_module": "@jupyter-widgets/base",
       "_view_module_version": "2.0.0",
       "_view_name": "LayoutView",
       "align_content": null,
       "align_items": null,
       "align_self": null,
       "border_bottom": null,
       "border_left": null,
       "border_right": null,
       "border_top": null,
       "bottom": null,
       "display": null,
       "flex": null,
       "flex_flow": null,
       "grid_area": null,
       "grid_auto_columns": null,
       "grid_auto_flow": null,
       "grid_auto_rows": null,
       "grid_column": null,
       "grid_gap": null,
       "grid_row": null,
       "grid_template_areas": null,
       "grid_template_columns": null,
       "grid_template_rows": null,
       "height": null,
       "justify_content": null,
       "justify_items": null,
       "left": null,
       "margin": null,
       "max_height": null,
       "max_width": null,
       "min_height": null,
       "min_width": null,
       "object_fit": null,
       "object_position": null,
       "order": null,
       "overflow": null,
       "padding": null,
       "right": null,
       "top": null,
       "visibility": null,
       "width": null
      }
     },
     "50f48828b3c64cdaadb261af670830fb": {
      "model_module": "@jupyter-widgets/base",
      "model_module_version": "2.0.0",
      "model_name": "LayoutModel",
      "state": {
       "_model_module": "@jupyter-widgets/base",
       "_model_module_version": "2.0.0",
       "_model_name": "LayoutModel",
       "_view_count": null,
       "_view_module": "@jupyter-widgets/base",
       "_view_module_version": "2.0.0",
       "_view_name": "LayoutView",
       "align_content": null,
       "align_items": null,
       "align_self": null,
       "border_bottom": null,
       "border_left": null,
       "border_right": null,
       "border_top": null,
       "bottom": null,
       "display": null,
       "flex": null,
       "flex_flow": null,
       "grid_area": null,
       "grid_auto_columns": null,
       "grid_auto_flow": null,
       "grid_auto_rows": null,
       "grid_column": null,
       "grid_gap": null,
       "grid_row": null,
       "grid_template_areas": null,
       "grid_template_columns": null,
       "grid_template_rows": null,
       "height": null,
       "justify_content": null,
       "justify_items": null,
       "left": null,
       "margin": null,
       "max_height": null,
       "max_width": null,
       "min_height": null,
       "min_width": null,
       "object_fit": null,
       "object_position": null,
       "order": null,
       "overflow": null,
       "padding": null,
       "right": null,
       "top": null,
       "visibility": null,
       "width": null
      }
     },
     "94f6810a4d0e4442ad74f7e992acf56c": {
      "model_module": "@jupyter-widgets/output",
      "model_module_version": "1.0.0",
      "model_name": "OutputModel",
      "state": {
       "_dom_classes": [],
       "_model_module": "@jupyter-widgets/output",
       "_model_module_version": "1.0.0",
       "_model_name": "OutputModel",
       "_view_count": null,
       "_view_module": "@jupyter-widgets/output",
       "_view_module_version": "1.0.0",
       "_view_name": "OutputView",
       "layout": "IPY_MODEL_deb615d5916746e2bb3ce20afd2c3a9a",
       "msg_id": "",
       "outputs": [
        {
         "data": {
          "text/html": "<pre style=\"white-space:pre;overflow-x:auto;line-height:normal;font-family:Menlo,'DejaVu Sans Mono',consolas,'Courier New',monospace\"><span style=\"color: #008000; text-decoration-color: #008000; font-weight: bold\">↓</span> <span style=\"color: #000080; text-decoration-color: #000080; font-weight: bold\">mode_solver_data.hdf5.gz</span> <span style=\"color: #729c1f; text-decoration-color: #729c1f\">━━━━━━━━━━━━━━━</span> <span style=\"color: #800080; text-decoration-color: #800080\">100.0%</span> • <span style=\"color: #008000; text-decoration-color: #008000\">125.8/125.8 kB</span> • <span style=\"color: #800000; text-decoration-color: #800000\">?</span> • <span style=\"color: #008080; text-decoration-color: #008080\">0:00:00</span>\n</pre>\n",
          "text/plain": "\u001b[1;32m↓\u001b[0m \u001b[1;34mmode_solver_data.hdf5.gz\u001b[0m \u001b[38;2;114;156;31m━━━━━━━━━━━━━━━\u001b[0m \u001b[35m100.0%\u001b[0m • \u001b[32m125.8/125.8 kB\u001b[0m • \u001b[31m?\u001b[0m • \u001b[36m0:00:00\u001b[0m\n"
         },
         "metadata": {},
         "output_type": "display_data"
        }
       ],
       "tabbable": null,
       "tooltip": null
      }
     },
     "9b119f3fca1843388a3446d0f7c86269": {
      "model_module": "@jupyter-widgets/output",
      "model_module_version": "1.0.0",
      "model_name": "OutputModel",
      "state": {
       "_dom_classes": [],
       "_model_module": "@jupyter-widgets/output",
       "_model_module_version": "1.0.0",
       "_model_name": "OutputModel",
       "_view_count": null,
       "_view_module": "@jupyter-widgets/output",
       "_view_module_version": "1.0.0",
       "_view_name": "OutputView",
       "layout": "IPY_MODEL_50f48828b3c64cdaadb261af670830fb",
       "msg_id": "",
       "outputs": [
        {
         "data": {
          "text/html": "<pre style=\"white-space:pre;overflow-x:auto;line-height:normal;font-family:Menlo,'DejaVu Sans Mono',consolas,'Courier New',monospace\"><span style=\"color: #008000; text-decoration-color: #008000; font-weight: bold\">↓</span> <span style=\"color: #000080; text-decoration-color: #000080; font-weight: bold\">simulation_data.hdf5.gz</span> <span style=\"color: #729c1f; text-decoration-color: #729c1f\">━━━━━━━━━━━━</span> <span style=\"color: #800080; text-decoration-color: #800080\">100.0%</span> • <span style=\"color: #008000; text-decoration-color: #008000\">3.5/3.5 MB</span> • <span style=\"color: #800000; text-decoration-color: #800000\">21.5 MB/s</span> • <span style=\"color: #008080; text-decoration-color: #008080\">0:00:00</span>\n</pre>\n",
          "text/plain": "\u001b[1;32m↓\u001b[0m \u001b[1;34msimulation_data.hdf5.gz\u001b[0m \u001b[38;2;114;156;31m━━━━━━━━━━━━\u001b[0m \u001b[35m100.0%\u001b[0m • \u001b[32m3.5/3.5 MB\u001b[0m • \u001b[31m21.5 MB/s\u001b[0m • \u001b[36m0:00:00\u001b[0m\n"
         },
         "metadata": {},
         "output_type": "display_data"
        }
       ],
       "tabbable": null,
       "tooltip": null
      }
     },
     "a20a450a4c9e4cf0a5e2893c2a026d69": {
      "model_module": "@jupyter-widgets/base",
      "model_module_version": "2.0.0",
      "model_name": "LayoutModel",
      "state": {
       "_model_module": "@jupyter-widgets/base",
       "_model_module_version": "2.0.0",
       "_model_name": "LayoutModel",
       "_view_count": null,
       "_view_module": "@jupyter-widgets/base",
       "_view_module_version": "2.0.0",
       "_view_name": "LayoutView",
       "align_content": null,
       "align_items": null,
       "align_self": null,
       "border_bottom": null,
       "border_left": null,
       "border_right": null,
       "border_top": null,
       "bottom": null,
       "display": null,
       "flex": null,
       "flex_flow": null,
       "grid_area": null,
       "grid_auto_columns": null,
       "grid_auto_flow": null,
       "grid_auto_rows": null,
       "grid_column": null,
       "grid_gap": null,
       "grid_row": null,
       "grid_template_areas": null,
       "grid_template_columns": null,
       "grid_template_rows": null,
       "height": null,
       "justify_content": null,
       "justify_items": null,
       "left": null,
       "margin": null,
       "max_height": null,
       "max_width": null,
       "min_height": null,
       "min_width": null,
       "object_fit": null,
       "object_position": null,
       "order": null,
       "overflow": null,
       "padding": null,
       "right": null,
       "top": null,
       "visibility": null,
       "width": null
      }
     },
     "b5710927a33b4b4d8877a4eb3368c330": {
      "model_module": "@jupyter-widgets/base",
      "model_module_version": "2.0.0",
      "model_name": "LayoutModel",
      "state": {
       "_model_module": "@jupyter-widgets/base",
       "_model_module_version": "2.0.0",
       "_model_name": "LayoutModel",
       "_view_count": null,
       "_view_module": "@jupyter-widgets/base",
       "_view_module_version": "2.0.0",
       "_view_name": "LayoutView",
       "align_content": null,
       "align_items": null,
       "align_self": null,
       "border_bottom": null,
       "border_left": null,
       "border_right": null,
       "border_top": null,
       "bottom": null,
       "display": null,
       "flex": null,
       "flex_flow": null,
       "grid_area": null,
       "grid_auto_columns": null,
       "grid_auto_flow": null,
       "grid_auto_rows": null,
       "grid_column": null,
       "grid_gap": null,
       "grid_row": null,
       "grid_template_areas": null,
       "grid_template_columns": null,
       "grid_template_rows": null,
       "height": null,
       "justify_content": null,
       "justify_items": null,
       "left": null,
       "margin": null,
       "max_height": null,
       "max_width": null,
       "min_height": null,
       "min_width": null,
       "object_fit": null,
       "object_position": null,
       "order": null,
       "overflow": null,
       "padding": null,
       "right": null,
       "top": null,
       "visibility": null,
       "width": null
      }
     },
     "cff958218fb9444b83eac2758cc8b1e9": {
      "model_module": "@jupyter-widgets/base",
      "model_module_version": "2.0.0",
      "model_name": "LayoutModel",
      "state": {
       "_model_module": "@jupyter-widgets/base",
       "_model_module_version": "2.0.0",
       "_model_name": "LayoutModel",
       "_view_count": null,
       "_view_module": "@jupyter-widgets/base",
       "_view_module_version": "2.0.0",
       "_view_name": "LayoutView",
       "align_content": null,
       "align_items": null,
       "align_self": null,
       "border_bottom": null,
       "border_left": null,
       "border_right": null,
       "border_top": null,
       "bottom": null,
       "display": null,
       "flex": null,
       "flex_flow": null,
       "grid_area": null,
       "grid_auto_columns": null,
       "grid_auto_flow": null,
       "grid_auto_rows": null,
       "grid_column": null,
       "grid_gap": null,
       "grid_row": null,
       "grid_template_areas": null,
       "grid_template_columns": null,
       "grid_template_rows": null,
       "height": null,
       "justify_content": null,
       "justify_items": null,
       "left": null,
       "margin": null,
       "max_height": null,
       "max_width": null,
       "min_height": null,
       "min_width": null,
       "object_fit": null,
       "object_position": null,
       "order": null,
       "overflow": null,
       "padding": null,
       "right": null,
       "top": null,
       "visibility": null,
       "width": null
      }
     },
     "ddbac60a6684459e9ea6a971de1dac34": {
      "model_module": "@jupyter-widgets/output",
      "model_module_version": "1.0.0",
      "model_name": "OutputModel",
      "state": {
       "_dom_classes": [],
       "_model_module": "@jupyter-widgets/output",
       "_model_module_version": "1.0.0",
       "_model_name": "OutputModel",
       "_view_count": null,
       "_view_module": "@jupyter-widgets/output",
       "_view_module_version": "1.0.0",
       "_view_name": "OutputView",
       "layout": "IPY_MODEL_4e960722fad64ad1af9325fb84d6f8b0",
       "msg_id": "",
       "outputs": [
        {
         "data": {
          "text/html": "<pre style=\"white-space:pre;overflow-x:auto;line-height:normal;font-family:Menlo,'DejaVu Sans Mono',consolas,'Courier New',monospace\"><span style=\"color: #800000; text-decoration-color: #800000; font-weight: bold\">↑</span> <span style=\"color: #000080; text-decoration-color: #000080; font-weight: bold\">simulation.hdf5.gz</span> <span style=\"color: #729c1f; text-decoration-color: #729c1f\">━━━━━━━━━━━━━━━━━━━━━━━━━</span> <span style=\"color: #800080; text-decoration-color: #800080\">100.0%</span> • <span style=\"color: #008000; text-decoration-color: #008000\">2.9/2.9 kB</span> • <span style=\"color: #800000; text-decoration-color: #800000\">?</span> • <span style=\"color: #008080; text-decoration-color: #008080\">0:00:00</span>\n</pre>\n",
          "text/plain": "\u001b[1;31m↑\u001b[0m \u001b[1;34msimulation.hdf5.gz\u001b[0m \u001b[38;2;114;156;31m━━━━━━━━━━━━━━━━━━━━━━━━━\u001b[0m \u001b[35m100.0%\u001b[0m • \u001b[32m2.9/2.9 kB\u001b[0m • \u001b[31m?\u001b[0m • \u001b[36m0:00:00\u001b[0m\n"
         },
         "metadata": {},
         "output_type": "display_data"
        }
       ],
       "tabbable": null,
       "tooltip": null
      }
     },
     "deb615d5916746e2bb3ce20afd2c3a9a": {
      "model_module": "@jupyter-widgets/base",
      "model_module_version": "2.0.0",
      "model_name": "LayoutModel",
      "state": {
       "_model_module": "@jupyter-widgets/base",
       "_model_module_version": "2.0.0",
       "_model_name": "LayoutModel",
       "_view_count": null,
       "_view_module": "@jupyter-widgets/base",
       "_view_module_version": "2.0.0",
       "_view_name": "LayoutView",
       "align_content": null,
       "align_items": null,
       "align_self": null,
       "border_bottom": null,
       "border_left": null,
       "border_right": null,
       "border_top": null,
       "bottom": null,
       "display": null,
       "flex": null,
       "flex_flow": null,
       "grid_area": null,
       "grid_auto_columns": null,
       "grid_auto_flow": null,
       "grid_auto_rows": null,
       "grid_column": null,
       "grid_gap": null,
       "grid_row": null,
       "grid_template_areas": null,
       "grid_template_columns": null,
       "grid_template_rows": null,
       "height": null,
       "justify_content": null,
       "justify_items": null,
       "left": null,
       "margin": null,
       "max_height": null,
       "max_width": null,
       "min_height": null,
       "min_width": null,
       "object_fit": null,
       "object_position": null,
       "order": null,
       "overflow": null,
       "padding": null,
       "right": null,
       "top": null,
       "visibility": null,
       "width": null
      }
     },
     "ec4b1a01796f46cd8627b1a9e5f9449c": {
      "model_module": "@jupyter-widgets/output",
      "model_module_version": "1.0.0",
      "model_name": "OutputModel",
      "state": {
       "_dom_classes": [],
       "_model_module": "@jupyter-widgets/output",
       "_model_module_version": "1.0.0",
       "_model_name": "OutputModel",
       "_view_count": null,
       "_view_module": "@jupyter-widgets/output",
       "_view_module_version": "1.0.0",
       "_view_name": "OutputView",
       "layout": "IPY_MODEL_ef14df08f46b4d18a39137fd7ec411df",
       "msg_id": "",
       "outputs": [
        {
         "data": {
          "text/html": "<pre style=\"white-space:pre;overflow-x:auto;line-height:normal;font-family:Menlo,'DejaVu Sans Mono',consolas,'Courier New',monospace\"><span style=\"color: #800000; text-decoration-color: #800000; font-weight: bold\">↑</span> <span style=\"color: #000080; text-decoration-color: #000080; font-weight: bold\">mode_solver.hdf5.gz</span> <span style=\"color: #729c1f; text-decoration-color: #729c1f\">━━━━━━━━━━━━━━━━━━━━━━━━</span> <span style=\"color: #800080; text-decoration-color: #800080\">100.0%</span> • <span style=\"color: #008000; text-decoration-color: #008000\">2.9/2.9 kB</span> • <span style=\"color: #800000; text-decoration-color: #800000\">?</span> • <span style=\"color: #008080; text-decoration-color: #008080\">0:00:00</span>\n</pre>\n",
          "text/plain": "\u001b[1;31m↑\u001b[0m \u001b[1;34mmode_solver.hdf5.gz\u001b[0m \u001b[38;2;114;156;31m━━━━━━━━━━━━━━━━━━━━━━━━\u001b[0m \u001b[35m100.0%\u001b[0m • \u001b[32m2.9/2.9 kB\u001b[0m • \u001b[31m?\u001b[0m • \u001b[36m0:00:00\u001b[0m\n"
         },
         "metadata": {},
         "output_type": "display_data"
        }
       ],
       "tabbable": null,
       "tooltip": null
      }
     },
     "eed3fa9b6b1f44df9e80fefb8b013856": {
      "model_module": "@jupyter-widgets/output",
      "model_module_version": "1.0.0",
      "model_name": "OutputModel",
      "state": {
       "_dom_classes": [],
       "_model_module": "@jupyter-widgets/output",
       "_model_module_version": "1.0.0",
       "_model_name": "OutputModel",
       "_view_count": null,
       "_view_module": "@jupyter-widgets/output",
       "_view_module_version": "1.0.0",
       "_view_name": "OutputView",
       "layout": "IPY_MODEL_cff958218fb9444b83eac2758cc8b1e9",
       "msg_id": "",
       "outputs": [
        {
         "data": {
          "text/html": "<pre style=\"white-space:pre;overflow-x:auto;line-height:normal;font-family:Menlo,'DejaVu Sans Mono',consolas,'Courier New',monospace\">TE: status = success <span style=\"color: #729c1f; text-decoration-color: #729c1f\">━━━━━━━━━━━━━━━━━━━━━━━━━━━━━━━━━━━━━━━━</span> <span style=\"color: #800080; text-decoration-color: #800080\">100%</span> <span style=\"color: #008080; text-decoration-color: #008080\">0:00:00</span>\nTM: status = success <span style=\"color: #729c1f; text-decoration-color: #729c1f\">━━━━━━━━━━━━━━━━━━━━━━━━━━━━━━━━━━━━━━━━</span> <span style=\"color: #800080; text-decoration-color: #800080\">100%</span> <span style=\"color: #008080; text-decoration-color: #008080\">0:00:00</span>\n</pre>\n",
          "text/plain": "TE: status = success \u001b[38;2;114;156;31m━━━━━━━━━━━━━━━━━━━━━━━━━━━━━━━━━━━━━━━━\u001b[0m \u001b[35m100%\u001b[0m \u001b[36m0:00:00\u001b[0m\nTM: status = success \u001b[38;2;114;156;31m━━━━━━━━━━━━━━━━━━━━━━━━━━━━━━━━━━━━━━━━\u001b[0m \u001b[35m100%\u001b[0m \u001b[36m0:00:00\u001b[0m\n"
         },
         "metadata": {},
         "output_type": "display_data"
        }
       ],
       "tabbable": null,
       "tooltip": null
      }
     },
     "ef14df08f46b4d18a39137fd7ec411df": {
      "model_module": "@jupyter-widgets/base",
      "model_module_version": "2.0.0",
      "model_name": "LayoutModel",
      "state": {
       "_model_module": "@jupyter-widgets/base",
       "_model_module_version": "2.0.0",
       "_model_name": "LayoutModel",
       "_view_count": null,
       "_view_module": "@jupyter-widgets/base",
       "_view_module_version": "2.0.0",
       "_view_name": "LayoutView",
       "align_content": null,
       "align_items": null,
       "align_self": null,
       "border_bottom": null,
       "border_left": null,
       "border_right": null,
       "border_top": null,
       "bottom": null,
       "display": null,
       "flex": null,
       "flex_flow": null,
       "grid_area": null,
       "grid_auto_columns": null,
       "grid_auto_flow": null,
       "grid_auto_rows": null,
       "grid_column": null,
       "grid_gap": null,
       "grid_row": null,
       "grid_template_areas": null,
       "grid_template_columns": null,
       "grid_template_rows": null,
       "height": null,
       "justify_content": null,
       "justify_items": null,
       "left": null,
       "margin": null,
       "max_height": null,
       "max_width": null,
       "min_height": null,
       "min_width": null,
       "object_fit": null,
       "object_position": null,
       "order": null,
       "overflow": null,
       "padding": null,
       "right": null,
       "top": null,
       "visibility": null,
       "width": null
      }
     },
     "f7a952bb0d1140bb8842376e2a140a45": {
      "model_module": "@jupyter-widgets/output",
      "model_module_version": "1.0.0",
      "model_name": "OutputModel",
      "state": {
       "_dom_classes": [],
       "_model_module": "@jupyter-widgets/output",
       "_model_module_version": "1.0.0",
       "_model_name": "OutputModel",
       "_view_count": null,
       "_view_module": "@jupyter-widgets/output",
       "_view_module_version": "1.0.0",
       "_view_name": "OutputView",
       "layout": "IPY_MODEL_a20a450a4c9e4cf0a5e2893c2a026d69",
       "msg_id": "",
       "outputs": [
        {
         "data": {
          "text/html": "<pre style=\"white-space:pre;overflow-x:auto;line-height:normal;font-family:Menlo,'DejaVu Sans Mono',consolas,'Courier New',monospace\"><span style=\"color: #800000; text-decoration-color: #800000; font-weight: bold\">↑</span> <span style=\"color: #000080; text-decoration-color: #000080; font-weight: bold\">simulation.hdf5.gz</span> <span style=\"color: #729c1f; text-decoration-color: #729c1f\">━━━━━━━━━━━━━━━━━━━━━━━━━</span> <span style=\"color: #800080; text-decoration-color: #800080\">100.0%</span> • <span style=\"color: #008000; text-decoration-color: #008000\">2.9/2.9 kB</span> • <span style=\"color: #800000; text-decoration-color: #800000\">?</span> • <span style=\"color: #008080; text-decoration-color: #008080\">0:00:00</span>\n</pre>\n",
          "text/plain": "\u001b[1;31m↑\u001b[0m \u001b[1;34msimulation.hdf5.gz\u001b[0m \u001b[38;2;114;156;31m━━━━━━━━━━━━━━━━━━━━━━━━━\u001b[0m \u001b[35m100.0%\u001b[0m • \u001b[32m2.9/2.9 kB\u001b[0m • \u001b[31m?\u001b[0m • \u001b[36m0:00:00\u001b[0m\n"
         },
         "metadata": {},
         "output_type": "display_data"
        }
       ],
       "tabbable": null,
       "tooltip": null
      }
     }
    },
    "version_major": 2,
    "version_minor": 0
   }
  }
 },
 "nbformat": 4,
 "nbformat_minor": 5
}
