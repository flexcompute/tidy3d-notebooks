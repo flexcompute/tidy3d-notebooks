{
 "cells": [
  {
   "cell_type": "markdown",
   "id": "1535d9e4-b444-46e3-9a39-9d5a6ce1f724",
   "metadata": {},
   "source": [
    "# Adjoint-based shape optimization of a waveguide bend\n",
    "\n",
    "> Note: native autograd support is an experimental feature in tidy3d 2.7. To see the original implementation of this notebook using jax and the adjoint plugin, refer to [this notebook](https://www.flexcompute.com/tidy3d/examples/notebooks/AdjointPlugin8WaveguideBend/).\n",
    "\n",
    "In this notebook, we will apply the adjoint method to the optimization of a low-loss waveguide bend. We start with a 90 degree bend in a SiN waveguide, parameterized using a `td.PolySlab`. \n",
    "\n",
    "We define an objective function that seeks to maximize the transmission of the TE0 output mode amplitude with respect to the position of the polygon vertices defining the bend. A penalty is applied to keep the local radii of curvature larger than a pre-defined value.\n",
    "\n",
    "The resulting device demonstrates low loss and exhibits a smooth geometry.\n",
    "\n",
    "> To install the `autograd` package required for this feature, we recommend running `pip install autograd`.\n",
    "\n",
    "<img src=\"img/adjoint_8.png\" width=400 alt=\"Schematic of the waveguide bend\">\n",
    "\n",
    "If you are unfamiliar with inverse design, we also recommend our [intro to inverse design tutorials](https://www.flexcompute.com/tidy3d/learning-center/inverse-design/) and our [primer on automatic differentiation with tidy3d](https://www.flexcompute.com/tidy3d/examples/notebooks/Autograd1Intro/).\n",
    "\n",
    "## Setup\n",
    "\n",
    "First, we import `tidy3d`. We will also use `numpy`, `matplotlib` and `autograd`. "
   ]
  },
  {
   "cell_type": "code",
   "execution_count": 1,
   "id": "49188672-e1c3-43f1-92c0-a575810aa0ac",
   "metadata": {
    "execution": {
     "iopub.execute_input": "2024-09-05T09:45:01.419243Z",
     "iopub.status.busy": "2024-09-05T09:45:01.418709Z",
     "iopub.status.idle": "2024-09-05T09:45:03.238769Z",
     "shell.execute_reply": "2024-09-05T09:45:03.237816Z"
    }
   },
   "outputs": [],
   "source": [
    "import tidy3d as td\n",
    "import tidy3d.web as web\n",
    "import numpy as np\n",
    "import matplotlib.pylab as plt\n",
    "import autograd as ag\n",
    "import autograd.numpy as anp"
   ]
  },
  {
   "cell_type": "markdown",
   "id": "ba08a4ef-c31c-41bc-bff7-922bf83a7b1e",
   "metadata": {},
   "source": [
    "Next, we define all the global parameters for our device and optimization."
   ]
  },
  {
   "cell_type": "code",
   "execution_count": 2,
   "id": "330887eb-6c9a-4173-8b73-b7583c8c5869",
   "metadata": {
    "execution": {
     "iopub.execute_input": "2024-09-05T09:45:03.244096Z",
     "iopub.status.busy": "2024-09-05T09:45:03.243775Z",
     "iopub.status.idle": "2024-09-05T09:45:03.250922Z",
     "shell.execute_reply": "2024-09-05T09:45:03.249548Z"
    }
   },
   "outputs": [],
   "source": [
    "wavelength = 1.5\n",
    "freq0 = td.C_0 / wavelength\n",
    "\n",
    "# frequency of measurement and source\n",
    "# note: we only optimize results at the central frequency for now.\n",
    "fwidth = freq0 / 10\n",
    "num_freqs = 1\n",
    "freqs = np.linspace(freq0 - fwidth / 2, freq0 + fwidth / 2, num_freqs)\n",
    "freqs = np.array([freq0])\n",
    "\n",
    "# define the discretization of the bend polygon in angle\n",
    "num_pts = 60\n",
    "angles = np.linspace(0, np.pi / 2, num_pts + 2)[1:-1]\n",
    "\n",
    "# refractive indices of waveguide and substrate (air above)\n",
    "n_wg = 2.0\n",
    "n_sub = 1.5\n",
    "\n",
    "# min space between waveguide and PML\n",
    "spc = 1 * wavelength\n",
    "\n",
    "# length of input and output straight waveguide sections\n",
    "t = 1 * wavelength\n",
    "\n",
    "# distance between PML and the mode source / mode monitor\n",
    "mode_spc = t / 2.0\n",
    "\n",
    "# height of waveguide core\n",
    "h = 0.7\n",
    "\n",
    "# minimum, starting, and maximum allowed thicknesses for the bend geometry\n",
    "wmin = 0.5\n",
    "wmid = 1.5\n",
    "wmax = 2.5\n",
    "\n",
    "# average radius of curvature of the bend\n",
    "radius = 6\n",
    "\n",
    "# minimum allowed radius of curvature of the polygon\n",
    "min_radius = 150e-3\n",
    "\n",
    "# name of the monitor measuring the transmission amplitudes for optimization\n",
    "monitor_name = \"mode\"\n",
    "\n",
    "# how many grid points per wavelength in the waveguide core material\n",
    "min_steps_per_wvl = 20\n",
    "\n",
    "# how many mode outputs to measure\n",
    "num_modes = 3\n",
    "mode_spec = td.ModeSpec(num_modes=num_modes)"
   ]
  },
  {
   "cell_type": "markdown",
   "id": "491189f1-8d54-45d2-bd14-f0e46163cdc5",
   "metadata": {},
   "source": [
    "Using all of these parameters, we can define the total simulation size."
   ]
  },
  {
   "cell_type": "code",
   "execution_count": 3,
   "id": "099d588f-6745-4db4-8ca0-452a498e6d2b",
   "metadata": {
    "execution": {
     "iopub.execute_input": "2024-09-05T09:45:03.256817Z",
     "iopub.status.busy": "2024-09-05T09:45:03.255990Z",
     "iopub.status.idle": "2024-09-05T09:45:03.262296Z",
     "shell.execute_reply": "2024-09-05T09:45:03.261119Z"
    }
   },
   "outputs": [],
   "source": [
    "Lx = Ly = t + radius + abs(wmax - wmid) + spc\n",
    "Lz = spc + h + spc"
   ]
  },
  {
   "cell_type": "markdown",
   "id": "89afa716-793b-40ff-b762-2dfccf05c867",
   "metadata": {},
   "source": [
    "### Define parameterization\n",
    "\n",
    "Next we describe how the geometry looks as a function of our design parameters.\n",
    "\n",
    "At each angle on our bend discretization, we define a parameter that can range between `-inf` and `+inf` to control the thickness of that section. If that parameter is `-inf`, `0`, and `+inf`, the thickness of that section is `wmin`, `wmid`, and `wmax`, respectively.\n",
    "\n",
    "This gives us a smooth way to constrain our measurable parameter without needing to worry about it in the optimization."
   ]
  },
  {
   "cell_type": "code",
   "execution_count": 4,
   "id": "104ab125-3ac9-4569-ab70-873acd41f0fc",
   "metadata": {
    "execution": {
     "iopub.execute_input": "2024-09-05T09:45:03.267379Z",
     "iopub.status.busy": "2024-09-05T09:45:03.266966Z",
     "iopub.status.idle": "2024-09-05T09:45:03.272466Z",
     "shell.execute_reply": "2024-09-05T09:45:03.271476Z"
    }
   },
   "outputs": [],
   "source": [
    "def thickness(param: float) -> float:\n",
    "    \"\"\"thickness of a bend section as a function of a parameter in (-inf, +inf).\"\"\"\n",
    "    param_01 = (anp.tanh(param) + 1.0) / 2.0\n",
    "    return wmax * param_01 + wmin * (1 - param_01)"
   ]
  },
  {
   "cell_type": "markdown",
   "id": "7261fdc3-9520-4995-9610-1586d330ed13",
   "metadata": {},
   "source": [
    "Next we write a function to generate all of our bend polygon vertices given our array of design parameters. Note that we add extra vertices at the beginning and end of the bend that are **independent** of the parameters (static) and are only there to make it easier to connect the bend to the input and output waveguide sections."
   ]
  },
  {
   "cell_type": "code",
   "execution_count": 5,
   "id": "f04524c0-9ac4-4990-a142-c3596323606d",
   "metadata": {
    "execution": {
     "iopub.execute_input": "2024-09-05T09:45:03.277549Z",
     "iopub.status.busy": "2024-09-05T09:45:03.277090Z",
     "iopub.status.idle": "2024-09-05T09:45:03.291449Z",
     "shell.execute_reply": "2024-09-05T09:45:03.290342Z"
    }
   },
   "outputs": [],
   "source": [
    "def make_vertices(params: np.ndarray) -> list:\n",
    "    \"\"\"Make bend polygon vertices as a function of design parameters.\"\"\"\n",
    "    vertices = []\n",
    "    vertices.append((-Lx / 2 + 1e-2, -Ly / 2 + t + radius))\n",
    "    vertices.append((-Lx / 2 + t, -Ly / 2 + t + radius + wmid / 2))\n",
    "    for angle, param in zip(angles, params):\n",
    "        thickness_i = thickness(param)\n",
    "        radius_i = radius + thickness_i / 2.0\n",
    "        x = radius_i * np.sin(angle) - Lx / 2 + t\n",
    "        y = radius_i * np.cos(angle) - Ly / 2 + t\n",
    "        vertices.append((x, y))\n",
    "    vertices.append((-Lx / 2 + t + radius + wmid / 2, -Ly / 2 + t))\n",
    "    vertices.append((-Lx / 2 + t + radius, -Ly / 2 + 1e-2))\n",
    "    vertices.append((-Lx / 2 + t + radius - wmid / 2, -Ly / 2 + t))\n",
    "    for angle, param in zip(angles[::-1], params[::-1]):\n",
    "        thickness_i = thickness(param)\n",
    "        radius_i = radius - thickness_i / 2.0\n",
    "        x = radius_i * np.sin(angle) - Lx / 2 + t\n",
    "        y = radius_i * np.cos(angle) - Ly / 2 + t\n",
    "        vertices.append((x, y))\n",
    "    vertices.append((-Lx / 2 + t, -Ly / 2 + t + radius - wmid / 2))\n",
    "    return vertices"
   ]
  },
  {
   "cell_type": "markdown",
   "id": "3e5f676f-0e63-4e41-9df9-514afd08eb7e",
   "metadata": {},
   "source": [
    "Let's try out our `make_vertices` function on a set of all `0` parameters, which should give the starting waveguide width of `wmid` across the bend."
   ]
  },
  {
   "cell_type": "code",
   "execution_count": 6,
   "id": "580d21d7-6423-4299-b889-676294966565",
   "metadata": {
    "execution": {
     "iopub.execute_input": "2024-09-05T09:45:03.296746Z",
     "iopub.status.busy": "2024-09-05T09:45:03.296214Z",
     "iopub.status.idle": "2024-09-05T09:45:03.303103Z",
     "shell.execute_reply": "2024-09-05T09:45:03.301971Z"
    }
   },
   "outputs": [],
   "source": [
    "params = np.zeros(num_pts)\n",
    "vertices = make_vertices(params)"
   ]
  },
  {
   "cell_type": "code",
   "execution_count": 7,
   "id": "cea18164-b71b-4fca-9d0e-801390531f9c",
   "metadata": {
    "execution": {
     "iopub.execute_input": "2024-09-05T09:45:03.308307Z",
     "iopub.status.busy": "2024-09-05T09:45:03.307602Z",
     "iopub.status.idle": "2024-09-05T09:45:03.422503Z",
     "shell.execute_reply": "2024-09-05T09:45:03.422081Z"
    }
   },
   "outputs": [
    {
     "data": {
      "image/png": "[encoded data removed]",
      "text/plain": [
       "<Figure size 640x480 with 1 Axes>"
      ]
     },
     "metadata": {},
     "output_type": "display_data"
    }
   ],
   "source": [
    "plt.scatter(*np.array(vertices).T)\n",
    "ax = plt.gca()\n",
    "ax.set_aspect(\"equal\")"
   ]
  },
  {
   "cell_type": "markdown",
   "id": "3b4df320-a42a-463c-9a9a-bcd84c7f7dd3",
   "metadata": {},
   "source": [
    "Looks good, note again that the extra points on the ends are just to ensure a solid overlap with the in and out waveguides. At this time, the autograd differentiation does not handle polygons that extend outside of the simulation domain so we need to also ensure that all points are inside of the domain."
   ]
  },
  {
   "cell_type": "code",
   "execution_count": 8,
   "id": "044f2377-62e8-4be8-9815-87cc1368d3ba",
   "metadata": {
    "execution": {
     "iopub.execute_input": "2024-09-05T09:45:03.425845Z",
     "iopub.status.busy": "2024-09-05T09:45:03.425143Z",
     "iopub.status.idle": "2024-09-05T09:45:03.431627Z",
     "shell.execute_reply": "2024-09-05T09:45:03.430733Z"
    }
   },
   "outputs": [],
   "source": [
    "def make_polyslab(params: np.ndarray) -> td.PolySlab:\n",
    "    \"\"\"Make a `tidy3d.PolySlab` for the bend given the design parameters.\"\"\"\n",
    "    vertices = make_vertices(params)\n",
    "    return td.PolySlab(vertices=vertices, slab_bounds=(-h / 2, h / 2), axis=2)"
   ]
  },
  {
   "cell_type": "markdown",
   "id": "b57aa022-e979-4a19-9826-016ec22574ca",
   "metadata": {},
   "source": [
    "Let's visualize this as well."
   ]
  },
  {
   "cell_type": "code",
   "execution_count": 9,
   "id": "ea0df1fd-0c81-4185-9455-81c1a2af2a4a",
   "metadata": {
    "execution": {
     "iopub.execute_input": "2024-09-05T09:45:03.435451Z",
     "iopub.status.busy": "2024-09-05T09:45:03.434557Z",
     "iopub.status.idle": "2024-09-05T09:45:03.665119Z",
     "shell.execute_reply": "2024-09-05T09:45:03.664321Z"
    }
   },
   "outputs": [
    {
     "data": {
      "image/png": "[encoded data removed]",
      "text/plain": [
       "<Figure size 640x480 with 1 Axes>"
      ]
     },
     "metadata": {},
     "output_type": "display_data"
    }
   ],
   "source": [
    "polyslab = make_polyslab(params)\n",
    "ax = polyslab.plot(z=0)"
   ]
  },
  {
   "cell_type": "markdown",
   "id": "dc3b3303-3942-4004-a49b-f66fc07a0eb3",
   "metadata": {},
   "source": [
    "Keeping with this theme, we add a function to generate the structure itself."
   ]
  },
  {
   "cell_type": "code",
   "execution_count": 10,
   "id": "8db1381a-dd4a-4e99-a207-6f1c1363d173",
   "metadata": {
    "execution": {
     "iopub.execute_input": "2024-09-05T09:45:03.669839Z",
     "iopub.status.busy": "2024-09-05T09:45:03.668973Z",
     "iopub.status.idle": "2024-09-05T09:45:03.675397Z",
     "shell.execute_reply": "2024-09-05T09:45:03.674474Z"
    }
   },
   "outputs": [],
   "source": [
    "def make_structure(params) -> td.Structure:\n",
    "    polyslab = make_polyslab(params)\n",
    "    medium = td.Medium(permittivity=n_wg**2)\n",
    "    return td.Structure(geometry=polyslab, medium=medium)"
   ]
  },
  {
   "cell_type": "code",
   "execution_count": 11,
   "id": "2ab62467-2ac4-4908-8344-2c342944f8e1",
   "metadata": {
    "execution": {
     "iopub.execute_input": "2024-09-05T09:45:03.680872Z",
     "iopub.status.busy": "2024-09-05T09:45:03.680065Z",
     "iopub.status.idle": "2024-09-05T09:45:03.935009Z",
     "shell.execute_reply": "2024-09-05T09:45:03.933938Z"
    }
   },
   "outputs": [
    {
     "data": {
      "image/png": "[encoded data removed]",
      "text/plain": [
       "<Figure size 640x480 with 1 Axes>"
      ]
     },
     "metadata": {},
     "output_type": "display_data"
    }
   ],
   "source": [
    "ring = make_structure(params)\n",
    "ax = ring.plot(z=0)"
   ]
  },
  {
   "cell_type": "markdown",
   "id": "92d145cd-20e9-4762-ba3b-227d667b3fcd",
   "metadata": {},
   "source": [
    "Next, we define the other geometries, such as the input waveguide section, output waveguide section, and substrate."
   ]
  },
  {
   "cell_type": "code",
   "execution_count": 12,
   "id": "0e756863-4009-421a-9b86-20509d1d807b",
   "metadata": {
    "execution": {
     "iopub.execute_input": "2024-09-05T09:45:03.941017Z",
     "iopub.status.busy": "2024-09-05T09:45:03.940448Z",
     "iopub.status.idle": "2024-09-05T09:45:03.955508Z",
     "shell.execute_reply": "2024-09-05T09:45:03.954180Z"
    }
   },
   "outputs": [],
   "source": [
    "box_in = td.Box.from_bounds(\n",
    "    rmin=(-Lx / 2 - 1, -Ly / 2 + t + radius - wmid / 2, -h / 2),\n",
    "    rmax=(-Lx / 2 + t + 1e-3, -Ly / 2 + t + radius + wmid / 2, +h / 2),\n",
    ")\n",
    "box_out = td.Box.from_bounds(\n",
    "    rmin=(-Lx / 2 + t + radius - wmid / 2, -Ly / 2 - 1, -h / 2),\n",
    "    rmax=(-Lx / 2 + t + radius + wmid / 2, -Ly / 2 + t, +h / 2),\n",
    ")\n",
    "\n",
    "geo_sub = td.Box.from_bounds(\n",
    "    rmin=(-td.inf, -td.inf, -10000),\n",
    "    rmax=(+td.inf, +td.inf, -h / 2),\n",
    ")\n",
    "\n",
    "wg_in = td.Structure(geometry=box_in, medium=td.Medium(permittivity=n_wg**2))\n",
    "wg_out = td.Structure(geometry=box_out, medium=td.Medium(permittivity=n_wg**2))\n",
    "substrate = td.Structure(geometry=geo_sub, medium=td.Medium(permittivity=n_sub**2))"
   ]
  },
  {
   "cell_type": "markdown",
   "id": "36c7b8fa-51fb-4852-9e62-f231410d8e0e",
   "metadata": {},
   "source": [
    "## Fabrication Constraints\n",
    "\n",
    "With the current parameterization, it is possible to generate structures with wildly varying radii of curvature which may be difficult to fabricate. To alleviate this, we introduce a minimum radius of curvature penalty transformation using the tidy3d `autograd` utilities. The penalty will take a set of vertices, compute the local radius of curvature using a quadratic Bezier curve, and return an average penalty function that depends on how much smaller the local radii are compared to a desired minimum radius."
   ]
  },
  {
   "cell_type": "code",
   "execution_count": 13,
   "id": "a4e9cb73-c8a9-41ec-a4e2-af2eac220c04",
   "metadata": {
    "execution": {
     "iopub.execute_input": "2024-09-05T09:45:03.958745Z",
     "iopub.status.busy": "2024-09-05T09:45:03.958358Z",
     "iopub.status.idle": "2024-09-05T09:45:04.090058Z",
     "shell.execute_reply": "2024-09-05T09:45:04.089206Z"
    }
   },
   "outputs": [],
   "source": [
    "from tidy3d.plugins.autograd.invdes import make_curvature_penalty\n",
    "\n",
    "penalty = make_curvature_penalty(min_radius)"
   ]
  },
  {
   "cell_type": "markdown",
   "id": "557d4e5b-8441-433f-8965-e81c2f4b6231",
   "metadata": {},
   "source": [
    "We then wrap this penalty to look at only the inner and outer vertices independently and average the penalty from each."
   ]
  },
  {
   "cell_type": "code",
   "execution_count": 14,
   "id": "4e4bc5d9-2c57-412c-8cc2-cc026b39857b",
   "metadata": {
    "execution": {
     "iopub.execute_input": "2024-09-05T09:45:04.092792Z",
     "iopub.status.busy": "2024-09-05T09:45:04.092608Z",
     "iopub.status.idle": "2024-09-05T09:45:04.097086Z",
     "shell.execute_reply": "2024-09-05T09:45:04.096298Z"
    }
   },
   "outputs": [],
   "source": [
    "def eval_penalty(params):\n",
    "    \"\"\"Evaluate penalty on a set of params looking at radius of curvature.\"\"\"\n",
    "    vertices = make_vertices(params)\n",
    "    _vertices = anp.array(vertices)\n",
    "    vertices_top = _vertices[1 : num_pts + 3]  # select outer set of points along bend\n",
    "    vertices_bot = _vertices[num_pts + 4 :]  # select inner set of points along bend\n",
    "    penalty_top = penalty(vertices_top)\n",
    "    penalty_bot = penalty(vertices_bot)\n",
    "    return (penalty_top + penalty_bot) / 2.0"
   ]
  },
  {
   "cell_type": "markdown",
   "id": "9881812c-1795-4f83-a24f-0b01833638e7",
   "metadata": {},
   "source": [
    "Let's try this out on our starting parameters. We see we get an autograd traced float that seems reasonably low given our smooth starting structure."
   ]
  },
  {
   "cell_type": "code",
   "execution_count": 15,
   "id": "d13993be-d625-4537-af2a-f7700c199612",
   "metadata": {
    "execution": {
     "iopub.execute_input": "2024-09-05T09:45:04.099194Z",
     "iopub.status.busy": "2024-09-05T09:45:04.099030Z",
     "iopub.status.idle": "2024-09-05T09:45:04.106973Z",
     "shell.execute_reply": "2024-09-05T09:45:04.106109Z"
    }
   },
   "outputs": [
    {
     "data": {
      "text/plain": [
       "3.57973410373256e-23"
      ]
     },
     "execution_count": 15,
     "metadata": {},
     "output_type": "execute_result"
    }
   ],
   "source": [
    "eval_penalty(params)"
   ]
  },
  {
   "cell_type": "markdown",
   "id": "28462443-1777-4b35-8c03-32490755f475",
   "metadata": {},
   "source": [
    "## Define Simulation\n",
    "\n",
    "Now we define our sources, monitors, and simulation.\n",
    "\n",
    "We first define a mode source injected at the input waveguide."
   ]
  },
  {
   "cell_type": "code",
   "execution_count": 16,
   "id": "96cf199b-0a3b-4ace-9e1e-ba6c62d165f7",
   "metadata": {
    "execution": {
     "iopub.execute_input": "2024-09-05T09:45:04.109747Z",
     "iopub.status.busy": "2024-09-05T09:45:04.109443Z",
     "iopub.status.idle": "2024-09-05T09:45:04.115028Z",
     "shell.execute_reply": "2024-09-05T09:45:04.114098Z"
    }
   },
   "outputs": [],
   "source": [
    "mode_width = wmid + 2 * spc\n",
    "mode_height = Lz\n",
    "\n",
    "mode_src = td.ModeSource(\n",
    "    size=(0, mode_width, mode_height),\n",
    "    center=(-Lx / 2 + t / 2, -Ly / 2 + t + radius, 0),\n",
    "    direction=\"+\",\n",
    "    source_time=td.GaussianPulse(\n",
    "        freq0=freq0,\n",
    "        fwidth=fwidth,\n",
    "    ),\n",
    ")"
   ]
  },
  {
   "cell_type": "markdown",
   "id": "79c7db54-87c6-4ba4-9da7-68ae176a222f",
   "metadata": {},
   "source": [
    "Next, we define monitors for storing:\n",
    "\n",
    "- The output mode amplitude at the central frequency.\n",
    "\n",
    "- The flux on the output plane (for reference).\n",
    "\n",
    "- The output mode amplitude across a frequency range (for examining the transmission spectrum of our final device).\n",
    "\n",
    "- A field monitor to measure fields directly in the z-normal plane intersecting the waveguide."
   ]
  },
  {
   "cell_type": "code",
   "execution_count": 17,
   "id": "731f5f2f-0c38-4e86-add9-7ba8eea6c951",
   "metadata": {
    "execution": {
     "iopub.execute_input": "2024-09-05T09:45:04.118015Z",
     "iopub.status.busy": "2024-09-05T09:45:04.117753Z",
     "iopub.status.idle": "2024-09-05T09:45:04.126305Z",
     "shell.execute_reply": "2024-09-05T09:45:04.125412Z"
    }
   },
   "outputs": [],
   "source": [
    "mode_mnt = td.ModeMonitor(\n",
    "    size=(mode_width, 0, mode_height),\n",
    "    center=(-Lx / 2 + t + radius, -Ly / 2 + t / 2, 0),\n",
    "    name=monitor_name,\n",
    "    freqs=[freq0],\n",
    "    mode_spec=mode_spec,\n",
    ")\n",
    "\n",
    "flux_mnt = td.FluxMonitor(\n",
    "    size=(mode_width, 0, mode_height),\n",
    "    center=(-Lx / 2 + t + radius, -Ly / 2 + t / 2, 0),\n",
    "    name=\"flux\",\n",
    "    freqs=[freq0],\n",
    ")\n",
    "\n",
    "mode_mnt_bb = td.ModeMonitor(\n",
    "    size=(mode_width, 0, mode_height),\n",
    "    center=(-Lx / 2 + t + radius, -Ly / 2 + t / 2, 0),\n",
    "    name=\"mode_bb\",\n",
    "    freqs=freqs.tolist(),\n",
    "    mode_spec=mode_spec,\n",
    ")\n",
    "\n",
    "fld_mnt = td.FieldMonitor(\n",
    "    size=(td.inf, td.inf, 0),\n",
    "    freqs=[freq0],\n",
    "    name=\"field\",\n",
    ")"
   ]
  },
  {
   "cell_type": "markdown",
   "id": "2e47e54a-65f3-463f-b790-fd873597659e",
   "metadata": {},
   "source": [
    "Next we put everything together into a function that returns a `td.Simulation` given our parameters and an optional boolean specifying whether to include the field monitor (to save data when fields are not required)."
   ]
  },
  {
   "cell_type": "code",
   "execution_count": 18,
   "id": "f33bcf5e-2f31-4969-acb7-42bc06b1347e",
   "metadata": {
    "execution": {
     "iopub.execute_input": "2024-09-05T09:45:04.130861Z",
     "iopub.status.busy": "2024-09-05T09:45:04.130559Z",
     "iopub.status.idle": "2024-09-05T09:45:04.138344Z",
     "shell.execute_reply": "2024-09-05T09:45:04.137316Z"
    }
   },
   "outputs": [],
   "source": [
    "def make_sim(params, use_fld_mnt: bool = True) -> td.Simulation:\n",
    "    monitors = [mode_mnt_bb, flux_mnt]\n",
    "    if use_fld_mnt:\n",
    "        monitors += [fld_mnt]\n",
    "    ring = make_structure(params)\n",
    "    return td.Simulation(\n",
    "        size=(Lx, Ly, Lz),\n",
    "        structures=[substrate, wg_in, wg_out, ring],\n",
    "        sources=[mode_src],\n",
    "        grid_spec=td.GridSpec.auto(min_steps_per_wvl=min_steps_per_wvl),\n",
    "        boundary_spec=td.BoundarySpec.pml(x=True, y=True, z=True),\n",
    "        monitors=monitors + [mode_mnt],\n",
    "        run_time=10 / fwidth,\n",
    "    )"
   ]
  },
  {
   "cell_type": "markdown",
   "id": "c7d38368-afd9-4a29-864a-4c6c6385acea",
   "metadata": {},
   "source": [
    "Let's try it out and plot our simulation."
   ]
  },
  {
   "cell_type": "code",
   "execution_count": 19,
   "id": "42fcce5a-11e9-4de2-b03e-97ca75af1628",
   "metadata": {
    "execution": {
     "iopub.execute_input": "2024-09-05T09:45:04.144379Z",
     "iopub.status.busy": "2024-09-05T09:45:04.143190Z",
     "iopub.status.idle": "2024-09-05T09:45:04.761663Z",
     "shell.execute_reply": "2024-09-05T09:45:04.760763Z"
    }
   },
   "outputs": [
    {
     "data": {
      "text/html": [
       "<pre style=\"white-space:pre;overflow-x:auto;line-height:normal;font-family:Menlo,'DejaVu Sans Mono',consolas,'Courier New',monospace\"><span style=\"color: #7fbfbf; text-decoration-color: #7fbfbf\">09:45:04 UTC </span><span style=\"color: #800000; text-decoration-color: #800000\">WARNING: Structure at structures</span><span style=\"color: #800000; text-decoration-color: #800000; font-weight: bold\">[</span><span style=\"color: #008080; text-decoration-color: #008080; font-weight: bold\">3</span><span style=\"color: #800000; text-decoration-color: #800000; font-weight: bold\">]</span><span style=\"color: #800000; text-decoration-color: #800000\"> was detected as being less than</span>\n",
       "<span style=\"color: #7fbfbf; text-decoration-color: #7fbfbf\">             </span><span style=\"color: #800000; text-decoration-color: #800000\">half of a central wavelength from a PML on side x-min. To avoid    </span>\n",
       "<span style=\"color: #7fbfbf; text-decoration-color: #7fbfbf\">             </span><span style=\"color: #800000; text-decoration-color: #800000\">inaccurate results or divergence, please increase gap between any  </span>\n",
       "<span style=\"color: #7fbfbf; text-decoration-color: #7fbfbf\">             </span><span style=\"color: #800000; text-decoration-color: #800000\">structures and PML or fully extend structure through the pml.      </span>\n",
       "</pre>\n"
      ],
      "text/plain": [
       "\u001b[2;36m09:45:04 UTC\u001b[0m\u001b[2;36m \u001b[0m\u001b[31mWARNING: Structure at structures\u001b[0m\u001b[1;31m[\u001b[0m\u001b[1;36m3\u001b[0m\u001b[1;31m]\u001b[0m\u001b[31m was detected as being less than\u001b[0m\n",
       "\u001b[2;36m             \u001b[0m\u001b[31mhalf of a central wavelength from a PML on side x-min. To avoid    \u001b[0m\n",
       "\u001b[2;36m             \u001b[0m\u001b[31minaccurate results or divergence, please increase gap between any  \u001b[0m\n",
       "\u001b[2;36m             \u001b[0m\u001b[31mstructures and PML or fully extend structure through the pml.      \u001b[0m\n"
      ]
     },
     "metadata": {},
     "output_type": "display_data"
    },
    {
     "data": {
      "text/html": [
       "<pre style=\"white-space:pre;overflow-x:auto;line-height:normal;font-family:Menlo,'DejaVu Sans Mono',consolas,'Courier New',monospace\"><span style=\"color: #7fbfbf; text-decoration-color: #7fbfbf\">             </span><span style=\"color: #800000; text-decoration-color: #800000\">WARNING: Suppressed </span><span style=\"color: #008080; text-decoration-color: #008080; font-weight: bold\">1</span><span style=\"color: #800000; text-decoration-color: #800000\"> WARNING message.                             </span>\n",
       "</pre>\n"
      ],
      "text/plain": [
       "\u001b[2;36m            \u001b[0m\u001b[2;36m \u001b[0m\u001b[31mWARNING: Suppressed \u001b[0m\u001b[1;36m1\u001b[0m\u001b[31m WARNING message.                             \u001b[0m\n"
      ]
     },
     "metadata": {},
     "output_type": "display_data"
    },
    {
     "data": {
      "image/png": "[encoded data removed]",
      "text/plain": [
       "<Figure size 1000x400 with 2 Axes>"
      ]
     },
     "metadata": {},
     "output_type": "display_data"
    }
   ],
   "source": [
    "sim = make_sim(params)\n",
    "\n",
    "f, (ax1, ax2) = plt.subplots(1, 2, tight_layout=True, figsize=(10, 4))\n",
    "ax = sim.plot(z=0.01, ax=ax1)\n",
    "ax = sim.plot(x=-Lx / 2 + t / 2, ax=ax2)"
   ]
  },
  {
   "cell_type": "code",
   "execution_count": 20,
   "id": "fa5b961a-1b10-416d-9b68-c4d1d24d087a",
   "metadata": {
    "execution": {
     "iopub.execute_input": "2024-09-05T09:45:04.766959Z",
     "iopub.status.busy": "2024-09-05T09:45:04.766768Z",
     "iopub.status.idle": "2024-09-05T09:45:04.770906Z",
     "shell.execute_reply": "2024-09-05T09:45:04.769992Z"
    }
   },
   "outputs": [],
   "source": [
    "# let's turn off warnings because we know this ring is intersecting with our waveguide ports.\n",
    "td.config.logging_level = \"ERROR\""
   ]
  },
  {
   "cell_type": "markdown",
   "id": "b11fca49-0b3f-4f96-9b2e-933b0c8ea6ac",
   "metadata": {},
   "source": [
    "## Select the desired waveguide mode\n",
    "\n",
    "Next, we use the [ModeSolver](https://docs.flexcompute.com/projects/tidy3d/en/latest/api/_autosummary/tidy3d.plugins.mode.ModeSolver.html) to solve and select the `mode_index` that gives us the proper injected and measured modes. We plot all of the fields for the first 3 modes and see that the TE0 mode is `mode_index=0`."
   ]
  },
  {
   "cell_type": "code",
   "execution_count": 21,
   "id": "8480cca1-a8df-4c43-81d0-18b7ffa5076f",
   "metadata": {
    "execution": {
     "iopub.execute_input": "2024-09-05T09:45:04.773626Z",
     "iopub.status.busy": "2024-09-05T09:45:04.773400Z",
     "iopub.status.idle": "2024-09-05T09:45:08.430463Z",
     "shell.execute_reply": "2024-09-05T09:45:08.428678Z"
    }
   },
   "outputs": [
    {
     "name": "stdout",
     "output_type": "stream",
     "text": [
      "Effective index of computed modes:  [[1.7968912 1.7528987 1.6045495]]\n"
     ]
    },
    {
     "data": {
      "image/png": "[encoded data removed]",
      "text/plain": [
       "<Figure size 1400x1000 with 18 Axes>"
      ]
     },
     "metadata": {},
     "output_type": "display_data"
    }
   ],
   "source": [
    "from tidy3d.plugins.mode import ModeSolver\n",
    "\n",
    "ms = ModeSolver(simulation=sim, plane=mode_src, mode_spec=mode_spec, freqs=mode_mnt.freqs)\n",
    "data = ms.solve()\n",
    "\n",
    "print(\"Effective index of computed modes: \", np.array(data.n_eff))\n",
    "\n",
    "fig, axs = plt.subplots(num_modes, 3, figsize=(14, 10), tight_layout=True)\n",
    "for mode_ind in range(num_modes):\n",
    "    for field_ind, field_name in enumerate((\"Ex\", \"Ey\", \"Ez\")):\n",
    "        field = data.field_components[field_name].sel(mode_index=mode_ind)\n",
    "        ax = axs[mode_ind, field_ind]\n",
    "        field.real.plot(x=\"y\", y=\"z\", ax=ax, cmap=\"RdBu\")\n",
    "        ax.set_title(f\"{field_name}, mode_ind={mode_ind}\")"
   ]
  },
  {
   "cell_type": "markdown",
   "id": "a9fe1aaf-5e75-445a-80a5-e7a75197a8ee",
   "metadata": {},
   "source": [
    "Since this is already the default mode index, we can leave the original `make_sim()` function as is. However, to generate a new mode source with a different `mode_index`, we could do the following and rewrite that function with the returned `mode_src`."
   ]
  },
  {
   "cell_type": "code",
   "execution_count": 22,
   "id": "5e1974b0-28c8-4d65-9d79-976cb012b870",
   "metadata": {
    "execution": {
     "iopub.execute_input": "2024-09-05T09:45:08.438967Z",
     "iopub.status.busy": "2024-09-05T09:45:08.438680Z",
     "iopub.status.idle": "2024-09-05T09:45:08.443766Z",
     "shell.execute_reply": "2024-09-05T09:45:08.442894Z"
    }
   },
   "outputs": [],
   "source": [
    "# select the mode index\n",
    "mode_index = 0\n",
    "\n",
    "# make the mode source with appropriate mode index\n",
    "mode_src = ms.to_source(\n",
    "    mode_index=mode_index, source_time=mode_src.source_time, direction=mode_src.direction\n",
    ")"
   ]
  },
  {
   "cell_type": "markdown",
   "id": "ab0e3e8c-3336-4fa3-9eca-6e89e0c50812",
   "metadata": {},
   "source": [
    "## Defining objective function\n",
    "\n",
    "Now we can define our objective function to maximize. The objective function first generates a simulation given the parameters, runs the simulation using the builtin `web.run()` function, measures the power transmitted into the TE0 output mode at our desired polarization, and then subtracts the radius of curvature penalty that we defined earlier."
   ]
  },
  {
   "cell_type": "code",
   "execution_count": 23,
   "id": "9f02432c-1de7-45da-ac8d-dc730093acff",
   "metadata": {
    "execution": {
     "iopub.execute_input": "2024-09-05T09:45:08.448525Z",
     "iopub.status.busy": "2024-09-05T09:45:08.448201Z",
     "iopub.status.idle": "2024-09-05T09:45:08.455155Z",
     "shell.execute_reply": "2024-09-05T09:45:08.454137Z"
    }
   },
   "outputs": [],
   "source": [
    "def objective(params: np.ndarray, use_fld_mnt: bool = True) -> float:\n",
    "    sim = make_sim(params, use_fld_mnt=use_fld_mnt)\n",
    "    sim_data = web.run(sim, task_name=\"bend\", verbose=False)\n",
    "\n",
    "    # be sure to take .values here before summing the transmission\n",
    "    amps = sim_data[monitor_name].amps.sel(direction=\"-\", mode_index=mode_index).values\n",
    "\n",
    "    transmission = anp.abs(anp.array(amps)) ** 2\n",
    "    J = anp.sum(transmission) - eval_penalty(params)\n",
    "    return J"
   ]
  },
  {
   "cell_type": "markdown",
   "id": "8e82ef72-d130-48dd-b88d-bdc5e5ccde0f",
   "metadata": {},
   "source": [
    "Next, we use [autograd.value_and_grad](https://ag.readthedocs.io/en/latest/_autosummary/ag.value_and_grad.html) to transform this objective function into a function that returns the \n",
    "\n",
    "* Objective function evaluated at the passed parameters.\n",
    "\n",
    "* Gradient of the objective function with respect to the passed parameters."
   ]
  },
  {
   "cell_type": "code",
   "execution_count": 24,
   "id": "d8390c85-0506-4a4f-aa85-fa9311a969bd",
   "metadata": {
    "execution": {
     "iopub.execute_input": "2024-09-05T09:45:08.460915Z",
     "iopub.status.busy": "2024-09-05T09:45:08.459816Z",
     "iopub.status.idle": "2024-09-05T09:45:08.466227Z",
     "shell.execute_reply": "2024-09-05T09:45:08.464772Z"
    }
   },
   "outputs": [],
   "source": [
    "val_grad = ag.value_and_grad(objective)"
   ]
  },
  {
   "cell_type": "markdown",
   "id": "a1cad86d-800f-40c8-8966-d2483cdd254e",
   "metadata": {},
   "source": [
    "Let's run this function and take a look at the outputs."
   ]
  },
  {
   "cell_type": "code",
   "execution_count": 25,
   "id": "99393577-a86b-4d20-98b2-8e45b4b88058",
   "metadata": {
    "execution": {
     "iopub.execute_input": "2024-09-05T09:45:08.472615Z",
     "iopub.status.busy": "2024-09-05T09:45:08.471511Z",
     "iopub.status.idle": "2024-09-05T09:46:20.619594Z",
     "shell.execute_reply": "2024-09-05T09:46:20.618650Z"
    }
   },
   "outputs": [],
   "source": [
    "val, grad = val_grad(params)"
   ]
  },
  {
   "cell_type": "code",
   "execution_count": 26,
   "id": "0adcb4f4-8b8d-4526-bfcd-5be2caf810c2",
   "metadata": {
    "execution": {
     "iopub.execute_input": "2024-09-05T09:46:20.622535Z",
     "iopub.status.busy": "2024-09-05T09:46:20.622347Z",
     "iopub.status.idle": "2024-09-05T09:46:20.627313Z",
     "shell.execute_reply": "2024-09-05T09:46:20.626538Z"
    }
   },
   "outputs": [
    {
     "name": "stdout",
     "output_type": "stream",
     "text": [
      "0.5687327977286296\n",
      "[ 0.37782466 -0.03514529 -0.03842251 -0.04513983 -0.06424653 -0.07530052\n",
      " -0.06905075 -0.07359374 -0.08643272 -0.07759094 -0.05804546 -0.05225464\n",
      " -0.05485549 -0.04296091 -0.02892589 -0.02209054 -0.01450592 -0.00950438\n",
      "  0.00186635  0.01524174  0.01835059  0.02489777  0.0396239   0.04585165\n",
      "  0.0429791   0.04743653  0.04943701  0.05010325  0.05907856  0.05876213\n",
      "  0.04714969  0.04535662  0.04338559  0.03776125  0.04051464  0.03326636\n",
      "  0.01787344  0.01134622  0.00768042 -0.00491989 -0.01570698 -0.02162313\n",
      " -0.02806227 -0.03381822 -0.04781481 -0.05858779 -0.05490522 -0.06072305\n",
      " -0.08053764 -0.08869338 -0.07518741 -0.07042543 -0.07488215 -0.06162904\n",
      " -0.04080582 -0.03170446 -0.0276341  -0.01451917 -0.00336264  1.86423729]\n"
     ]
    }
   ],
   "source": [
    "print(val)\n",
    "print(grad)"
   ]
  },
  {
   "cell_type": "markdown",
   "id": "6aea9708-fe5c-4f9e-aae3-0d4aa769fa17",
   "metadata": {},
   "source": [
    "These seem reasonable and can now be used for plugging into our optimization algorithm.\n",
    "\n",
    "## Optimization Procedure\n",
    "\n",
    "With our gradients defined, we write a simple optimization loop using the [optax](https://optax.readthedocs.io/en/latest/) package. We use the `adam` method with a tunable number of steps and learning rate. The intermediate values, parameters, and data are stored for visualization later.\n",
    "\n",
    "> Note: this will take several minutes. While not shown here, it is good practice to checkpoint your optimization results by saving to file on every iteration, or ensure you have a stable internet connection. See [this notebook](https://www.flexcompute.com/tidy3d/examples/notebooks/AdjointPlugin6GratingCoupler/) for more details. "
   ]
  },
  {
   "cell_type": "code",
   "execution_count": 27,
   "id": "f0a6b1e7-6d87-483e-a54e-ac8ca19a03fa",
   "metadata": {
    "execution": {
     "iopub.execute_input": "2024-09-05T09:46:20.629424Z",
     "iopub.status.busy": "2024-09-05T09:46:20.629264Z",
     "iopub.status.idle": "2024-09-05T10:06:17.793404Z",
     "shell.execute_reply": "2024-09-05T10:06:17.792851Z"
    }
   },
   "outputs": [
    {
     "name": "stderr",
     "output_type": "stream",
     "text": [
      "An NVIDIA GPU may be present on this machine, but a CUDA-enabled jaxlib is not installed. Falling back to cpu.\n"
     ]
    },
    {
     "name": "stdout",
     "output_type": "stream",
     "text": [
      "step = 1\n",
      "\tJ = 5.6873e-01\n",
      "\tgrad_norm = 1.9375e+00\n"
     ]
    },
    {
     "name": "stdout",
     "output_type": "stream",
     "text": [
      "step = 2\n",
      "\tJ = 6.0339e-01\n",
      "\tgrad_norm = 2.0592e+00\n"
     ]
    },
    {
     "name": "stdout",
     "output_type": "stream",
     "text": [
      "step = 3\n",
      "\tJ = 6.3793e-01\n",
      "\tgrad_norm = 2.1548e+00\n"
     ]
    },
    {
     "name": "stdout",
     "output_type": "stream",
     "text": [
      "step = 4\n",
      "\tJ = 6.7055e-01\n",
      "\tgrad_norm = 2.1717e+00\n"
     ]
    },
    {
     "name": "stdout",
     "output_type": "stream",
     "text": [
      "step = 5\n",
      "\tJ = 7.0092e-01\n",
      "\tgrad_norm = 2.2427e+00\n"
     ]
    },
    {
     "name": "stdout",
     "output_type": "stream",
     "text": [
      "step = 6\n",
      "\tJ = 7.3037e-01\n",
      "\tgrad_norm = 2.3622e+00\n"
     ]
    },
    {
     "name": "stdout",
     "output_type": "stream",
     "text": [
      "step = 7\n",
      "\tJ = 7.5788e-01\n",
      "\tgrad_norm = 2.4437e+00\n"
     ]
    },
    {
     "name": "stdout",
     "output_type": "stream",
     "text": [
      "step = 8\n",
      "\tJ = 7.8249e-01\n",
      "\tgrad_norm = 2.4747e+00\n"
     ]
    },
    {
     "name": "stdout",
     "output_type": "stream",
     "text": [
      "step = 9\n",
      "\tJ = 8.0406e-01\n",
      "\tgrad_norm = 2.5391e+00\n"
     ]
    },
    {
     "name": "stdout",
     "output_type": "stream",
     "text": [
      "step = 10\n",
      "\tJ = 8.2381e-01\n",
      "\tgrad_norm = 2.6117e+00\n"
     ]
    },
    {
     "name": "stdout",
     "output_type": "stream",
     "text": [
      "step = 11\n",
      "\tJ = 8.4112e-01\n",
      "\tgrad_norm = 2.6810e+00\n"
     ]
    },
    {
     "name": "stdout",
     "output_type": "stream",
     "text": [
      "step = 12\n",
      "\tJ = 8.5650e-01\n",
      "\tgrad_norm = 2.7386e+00\n"
     ]
    },
    {
     "name": "stdout",
     "output_type": "stream",
     "text": [
      "step = 13\n",
      "\tJ = 8.6951e-01\n",
      "\tgrad_norm = 2.7962e+00\n"
     ]
    },
    {
     "name": "stdout",
     "output_type": "stream",
     "text": [
      "step = 14\n",
      "\tJ = 8.8082e-01\n",
      "\tgrad_norm = 2.8369e+00\n"
     ]
    },
    {
     "name": "stdout",
     "output_type": "stream",
     "text": [
      "step = 15\n",
      "\tJ = 8.9025e-01\n",
      "\tgrad_norm = 2.8529e+00\n"
     ]
    }
   ],
   "source": [
    "import optax\n",
    "\n",
    "# hyperparameters\n",
    "num_steps = 15\n",
    "learning_rate = 0.01\n",
    "\n",
    "# initialize adam optimizer with starting parameters\n",
    "params = np.array(params).copy()\n",
    "optimizer = optax.adam(learning_rate=learning_rate)\n",
    "opt_state = optimizer.init(params)\n",
    "\n",
    "# store history\n",
    "objective_history = []\n",
    "param_history = [params]\n",
    "data_history = []\n",
    "\n",
    "for i in range(num_steps):\n",
    "    # compute gradient and current objective funciton value\n",
    "    value, gradient = val_grad(params)\n",
    "\n",
    "    # multiply all by -1 to maximize obj_fn\n",
    "    gradient = -np.array(gradient)\n",
    "\n",
    "    # outputs\n",
    "    print(f\"step = {i + 1}\")\n",
    "    print(f\"\\tJ = {value:.4e}\")\n",
    "    print(f\"\\tgrad_norm = {np.linalg.norm(gradient):.4e}\")\n",
    "\n",
    "    # compute and apply updates to the optimizer based on gradient\n",
    "    updates, opt_state = optimizer.update(gradient, opt_state, params)\n",
    "    params = optax.apply_updates(params, updates)\n",
    "\n",
    "    # it is important using optax to convert the parameters back to numpy arrays to feed back to our gradient\n",
    "    params = np.array(params)\n",
    "\n",
    "    # save history\n",
    "    objective_history.append(value)\n",
    "    param_history.append(params)\n"
   ]
  },
  {
   "cell_type": "markdown",
   "id": "9760808f-512b-4806-85b6-809ba15e389c",
   "metadata": {},
   "source": [
    "## Analyzing results\n",
    "\n",
    "After the optimization is finished, let's look at the results."
   ]
  },
  {
   "cell_type": "code",
   "execution_count": 28,
   "id": "09aac45c-d7d8-4fd1-a599-0a7888257120",
   "metadata": {
    "execution": {
     "iopub.execute_input": "2024-09-05T10:06:17.802328Z",
     "iopub.status.busy": "2024-09-05T10:06:17.800902Z",
     "iopub.status.idle": "2024-09-05T10:06:17.944559Z",
     "shell.execute_reply": "2024-09-05T10:06:17.943595Z"
    }
   },
   "outputs": [
    {
     "data": {
      "image/png": "[encoded data removed]",
      "text/plain": [
       "<Figure size 640x480 with 1 Axes>"
      ]
     },
     "metadata": {},
     "output_type": "display_data"
    }
   ],
   "source": [
    "_ = plt.plot(objective_history)\n",
    "ax = plt.gca()\n",
    "ax.set_xlabel(\"iteration number\")\n",
    "ax.set_ylabel(\"objective function\")\n",
    "ax.set_title(\"optimization progress\")\n",
    "plt.show()"
   ]
  },
  {
   "cell_type": "markdown",
   "id": "bdbff561-b56c-4e83-8841-3c1ea7d5ba9e",
   "metadata": {},
   "source": [
    "Next, we can grab our initial and final device from the history lists."
   ]
  },
  {
   "cell_type": "code",
   "execution_count": 29,
   "id": "d782b925-2af0-4bb8-bf87-88526a3f359f",
   "metadata": {
    "execution": {
     "iopub.execute_input": "2024-09-05T10:06:17.948828Z",
     "iopub.status.busy": "2024-09-05T10:06:17.948491Z",
     "iopub.status.idle": "2024-09-05T10:06:52.464062Z",
     "shell.execute_reply": "2024-09-05T10:06:52.463180Z"
    }
   },
   "outputs": [
    {
     "data": {
      "text/html": [
       "<pre style=\"white-space:pre;overflow-x:auto;line-height:normal;font-family:Menlo,'DejaVu Sans Mono',consolas,'Courier New',monospace\"><span style=\"color: #7fbfbf; text-decoration-color: #7fbfbf\">10:06:18 UTC </span>Created task <span style=\"color: #008000; text-decoration-color: #008000\">'start'</span> with task_id                                  \n",
       "<span style=\"color: #7fbfbf; text-decoration-color: #7fbfbf\">             </span><span style=\"color: #008000; text-decoration-color: #008000\">'fdve-08ecc688-28dc-42fa-8361-2aba360e94f5'</span> and task_type <span style=\"color: #008000; text-decoration-color: #008000\">'FDTD'</span>.  \n",
       "</pre>\n"
      ],
      "text/plain": [
       "\u001b[2;36m10:06:18 UTC\u001b[0m\u001b[2;36m \u001b[0mCreated task \u001b[32m'start'\u001b[0m with task_id                                  \n",
       "\u001b[2;36m             \u001b[0m\u001b[32m'fdve-08ecc688-28dc-42fa-8361-2aba360e94f5'\u001b[0m and task_type \u001b[32m'FDTD'\u001b[0m.  \n"
      ]
     },
     "metadata": {},
     "output_type": "display_data"
    },
    {
     "data": {
      "text/html": [
       "<pre style=\"white-space:pre;overflow-x:auto;line-height:normal;font-family:Menlo,'DejaVu Sans Mono',consolas,'Courier New',monospace\"><span style=\"color: #7fbfbf; text-decoration-color: #7fbfbf\">             </span>View task using web UI at                                          \n",
       "<span style=\"color: #7fbfbf; text-decoration-color: #7fbfbf\">             </span><a href=\"https://tidy3d.simulation.cloud/workbench?taskId=fdve-08ecc688-28dc-42fa-8361-2aba360e94f5\" target=\"_blank\"><span style=\"color: #008000; text-decoration-color: #008000\">'https://tidy3d.simulation.cloud/workbench?taskId=fdve-08ecc688-28d</span></a>\n",
       "<span style=\"color: #7fbfbf; text-decoration-color: #7fbfbf\">             </span><a href=\"https://tidy3d.simulation.cloud/workbench?taskId=fdve-08ecc688-28dc-42fa-8361-2aba360e94f5\" target=\"_blank\"><span style=\"color: #008000; text-decoration-color: #008000\">c-42fa-8361-2aba360e94f5'</span></a>.                                         \n",
       "</pre>\n"
      ],
      "text/plain": [
       "\u001b[2;36m            \u001b[0m\u001b[2;36m \u001b[0mView task using web UI at                                          \n",
       "\u001b[2;36m             \u001b[0m\u001b]8;id=920433;https://tidy3d.simulation.cloud/workbench?taskId=fdve-08ecc688-28dc-42fa-8361-2aba360e94f5\u001b\\\u001b[32m'https://tidy3d.simulation.cloud/workbench?\u001b[0m\u001b]8;;\u001b\\\u001b]8;id=173179;https://tidy3d.simulation.cloud/workbench?taskId=fdve-08ecc688-28dc-42fa-8361-2aba360e94f5\u001b\\\u001b[32mtaskId\u001b[0m\u001b]8;;\u001b\\\u001b]8;id=920433;https://tidy3d.simulation.cloud/workbench?taskId=fdve-08ecc688-28dc-42fa-8361-2aba360e94f5\u001b\\\u001b[32m=\u001b[0m\u001b]8;;\u001b\\\u001b]8;id=14751;https://tidy3d.simulation.cloud/workbench?taskId=fdve-08ecc688-28dc-42fa-8361-2aba360e94f5\u001b\\\u001b[32mfdve\u001b[0m\u001b]8;;\u001b\\\u001b]8;id=920433;https://tidy3d.simulation.cloud/workbench?taskId=fdve-08ecc688-28dc-42fa-8361-2aba360e94f5\u001b\\\u001b[32m-08ecc688-28d\u001b[0m\u001b]8;;\u001b\\\n",
       "\u001b[2;36m             \u001b[0m\u001b]8;id=920433;https://tidy3d.simulation.cloud/workbench?taskId=fdve-08ecc688-28dc-42fa-8361-2aba360e94f5\u001b\\\u001b[32mc-42fa-8361-2aba360e94f5'\u001b[0m\u001b]8;;\u001b\\.                                         \n"
      ]
     },
     "metadata": {},
     "output_type": "display_data"
    },
    {
     "data": {
      "application/vnd.jupyter.widget-view+json": {
       "model_id": "e96c0936b9734d8b9da8b75e8a9a44b1",
       "version_major": 2,
       "version_minor": 0
      },
      "text/plain": [
       "Output()"
      ]
     },
     "metadata": {},
     "output_type": "display_data"
    },
    {
     "data": {
      "text/html": [
       "<pre style=\"white-space:pre;overflow-x:auto;line-height:normal;font-family:Menlo,'DejaVu Sans Mono',consolas,'Courier New',monospace\"></pre>\n"
      ],
      "text/plain": []
     },
     "metadata": {},
     "output_type": "display_data"
    },
    {
     "data": {
      "text/html": [
       "<pre style=\"white-space:pre;overflow-x:auto;line-height:normal;font-family:Menlo,'DejaVu Sans Mono',consolas,'Courier New',monospace\">\n",
       "</pre>\n"
      ],
      "text/plain": [
       "\n"
      ]
     },
     "metadata": {},
     "output_type": "display_data"
    },
    {
     "data": {
      "text/html": [
       "<pre style=\"white-space:pre;overflow-x:auto;line-height:normal;font-family:Menlo,'DejaVu Sans Mono',consolas,'Courier New',monospace\"><span style=\"color: #7fbfbf; text-decoration-color: #7fbfbf\">10:06:19 UTC </span>status = queued                                                    \n",
       "</pre>\n"
      ],
      "text/plain": [
       "\u001b[2;36m10:06:19 UTC\u001b[0m\u001b[2;36m \u001b[0mstatus = queued                                                    \n"
      ]
     },
     "metadata": {},
     "output_type": "display_data"
    },
    {
     "data": {
      "text/html": [
       "<pre style=\"white-space:pre;overflow-x:auto;line-height:normal;font-family:Menlo,'DejaVu Sans Mono',consolas,'Courier New',monospace\"><span style=\"color: #7fbfbf; text-decoration-color: #7fbfbf\">             </span>To cancel the simulation, use <span style=\"color: #008000; text-decoration-color: #008000\">'web.abort(task_id)'</span> or              \n",
       "<span style=\"color: #7fbfbf; text-decoration-color: #7fbfbf\">             </span><span style=\"color: #008000; text-decoration-color: #008000\">'web.delete(task_id)'</span> or abort/delete the task in the web UI.      \n",
       "<span style=\"color: #7fbfbf; text-decoration-color: #7fbfbf\">             </span>Terminating the Python script will not stop the job running on the \n",
       "<span style=\"color: #7fbfbf; text-decoration-color: #7fbfbf\">             </span>cloud.                                                             \n",
       "</pre>\n"
      ],
      "text/plain": [
       "\u001b[2;36m            \u001b[0m\u001b[2;36m \u001b[0mTo cancel the simulation, use \u001b[32m'web.abort\u001b[0m\u001b[32m(\u001b[0m\u001b[32mtask_id\u001b[0m\u001b[32m)\u001b[0m\u001b[32m'\u001b[0m or              \n",
       "\u001b[2;36m             \u001b[0m\u001b[32m'web.delete\u001b[0m\u001b[32m(\u001b[0m\u001b[32mtask_id\u001b[0m\u001b[32m)\u001b[0m\u001b[32m'\u001b[0m or abort/delete the task in the web UI.      \n",
       "\u001b[2;36m             \u001b[0mTerminating the Python script will not stop the job running on the \n",
       "\u001b[2;36m             \u001b[0mcloud.                                                             \n"
      ]
     },
     "metadata": {},
     "output_type": "display_data"
    },
    {
     "data": {
      "application/vnd.jupyter.widget-view+json": {
       "model_id": "7831eb0384484ac98148bc6b6cf34a37",
       "version_major": 2,
       "version_minor": 0
      },
      "text/plain": [
       "Output()"
      ]
     },
     "metadata": {},
     "output_type": "display_data"
    },
    {
     "data": {
      "text/html": [
       "<pre style=\"white-space:pre;overflow-x:auto;line-height:normal;font-family:Menlo,'DejaVu Sans Mono',consolas,'Courier New',monospace\"><span style=\"color: #7fbfbf; text-decoration-color: #7fbfbf\">10:06:25 UTC </span>status = preprocess                                                \n",
       "</pre>\n"
      ],
      "text/plain": [
       "\u001b[2;36m10:06:25 UTC\u001b[0m\u001b[2;36m \u001b[0mstatus = preprocess                                                \n"
      ]
     },
     "metadata": {},
     "output_type": "display_data"
    },
    {
     "data": {
      "text/html": [
       "<pre style=\"white-space:pre;overflow-x:auto;line-height:normal;font-family:Menlo,'DejaVu Sans Mono',consolas,'Courier New',monospace\"></pre>\n"
      ],
      "text/plain": []
     },
     "metadata": {},
     "output_type": "display_data"
    },
    {
     "data": {
      "text/html": [
       "<pre style=\"white-space:pre;overflow-x:auto;line-height:normal;font-family:Menlo,'DejaVu Sans Mono',consolas,'Courier New',monospace\"><span style=\"color: #7fbfbf; text-decoration-color: #7fbfbf\">10:06:27 UTC </span>Maximum FlexCredit cost: <span style=\"color: #008080; text-decoration-color: #008080; font-weight: bold\">0.029</span>. Use <span style=\"color: #008000; text-decoration-color: #008000\">'web.real_cost(task_id)'</span> to get\n",
       "<span style=\"color: #7fbfbf; text-decoration-color: #7fbfbf\">             </span>the billed FlexCredit cost after a simulation run.                 \n",
       "</pre>\n"
      ],
      "text/plain": [
       "\u001b[2;36m10:06:27 UTC\u001b[0m\u001b[2;36m \u001b[0mMaximum FlexCredit cost: \u001b[1;36m0.029\u001b[0m. Use \u001b[32m'web.real_cost\u001b[0m\u001b[32m(\u001b[0m\u001b[32mtask_id\u001b[0m\u001b[32m)\u001b[0m\u001b[32m'\u001b[0m to get\n",
       "\u001b[2;36m             \u001b[0mthe billed FlexCredit cost after a simulation run.                 \n"
      ]
     },
     "metadata": {},
     "output_type": "display_data"
    },
    {
     "data": {
      "text/html": [
       "<pre style=\"white-space:pre;overflow-x:auto;line-height:normal;font-family:Menlo,'DejaVu Sans Mono',consolas,'Courier New',monospace\"><span style=\"color: #7fbfbf; text-decoration-color: #7fbfbf\">             </span>starting up solver                                                 \n",
       "</pre>\n"
      ],
      "text/plain": [
       "\u001b[2;36m            \u001b[0m\u001b[2;36m \u001b[0mstarting up solver                                                 \n"
      ]
     },
     "metadata": {},
     "output_type": "display_data"
    },
    {
     "data": {
      "text/html": [
       "<pre style=\"white-space:pre;overflow-x:auto;line-height:normal;font-family:Menlo,'DejaVu Sans Mono',consolas,'Courier New',monospace\"><span style=\"color: #7fbfbf; text-decoration-color: #7fbfbf\">10:06:28 UTC </span>running solver                                                     \n",
       "</pre>\n"
      ],
      "text/plain": [
       "\u001b[2;36m10:06:28 UTC\u001b[0m\u001b[2;36m \u001b[0mrunning solver                                                     \n"
      ]
     },
     "metadata": {},
     "output_type": "display_data"
    },
    {
     "data": {
      "application/vnd.jupyter.widget-view+json": {
       "model_id": "703564a24c604bf8b53626bc27086bea",
       "version_major": 2,
       "version_minor": 0
      },
      "text/plain": [
       "Output()"
      ]
     },
     "metadata": {},
     "output_type": "display_data"
    },
    {
     "data": {
      "text/html": [
       "<pre style=\"white-space:pre;overflow-x:auto;line-height:normal;font-family:Menlo,'DejaVu Sans Mono',consolas,'Courier New',monospace\"><span style=\"color: #7fbfbf; text-decoration-color: #7fbfbf\">10:06:32 UTC </span>early shutoff detected at <span style=\"color: #008080; text-decoration-color: #008080; font-weight: bold\">36</span>%, exiting.                            \n",
       "</pre>\n"
      ],
      "text/plain": [
       "\u001b[2;36m10:06:32 UTC\u001b[0m\u001b[2;36m \u001b[0mearly shutoff detected at \u001b[1;36m36\u001b[0m%, exiting.                            \n"
      ]
     },
     "metadata": {},
     "output_type": "display_data"
    },
    {
     "data": {
      "text/html": [
       "<pre style=\"white-space:pre;overflow-x:auto;line-height:normal;font-family:Menlo,'DejaVu Sans Mono',consolas,'Courier New',monospace\"></pre>\n"
      ],
      "text/plain": []
     },
     "metadata": {},
     "output_type": "display_data"
    },
    {
     "data": {
      "text/html": [
       "<pre style=\"white-space:pre;overflow-x:auto;line-height:normal;font-family:Menlo,'DejaVu Sans Mono',consolas,'Courier New',monospace\">\n",
       "</pre>\n"
      ],
      "text/plain": [
       "\n"
      ]
     },
     "metadata": {},
     "output_type": "display_data"
    },
    {
     "data": {
      "text/html": [
       "<pre style=\"white-space:pre;overflow-x:auto;line-height:normal;font-family:Menlo,'DejaVu Sans Mono',consolas,'Courier New',monospace\"><span style=\"color: #7fbfbf; text-decoration-color: #7fbfbf\">             </span>status = postprocess                                               \n",
       "</pre>\n"
      ],
      "text/plain": [
       "\u001b[2;36m            \u001b[0m\u001b[2;36m \u001b[0mstatus = postprocess                                               \n"
      ]
     },
     "metadata": {},
     "output_type": "display_data"
    },
    {
     "data": {
      "application/vnd.jupyter.widget-view+json": {
       "model_id": "9fac3ef63331480bab54a0262a46f9e0",
       "version_major": 2,
       "version_minor": 0
      },
      "text/plain": [
       "Output()"
      ]
     },
     "metadata": {},
     "output_type": "display_data"
    },
    {
     "data": {
      "text/html": [
       "<pre style=\"white-space:pre;overflow-x:auto;line-height:normal;font-family:Menlo,'DejaVu Sans Mono',consolas,'Courier New',monospace\"><span style=\"color: #7fbfbf; text-decoration-color: #7fbfbf\">10:06:34 UTC </span>status = success                                                   \n",
       "</pre>\n"
      ],
      "text/plain": [
       "\u001b[2;36m10:06:34 UTC\u001b[0m\u001b[2;36m \u001b[0mstatus = success                                                   \n"
      ]
     },
     "metadata": {},
     "output_type": "display_data"
    },
    {
     "data": {
      "text/html": [
       "<pre style=\"white-space:pre;overflow-x:auto;line-height:normal;font-family:Menlo,'DejaVu Sans Mono',consolas,'Courier New',monospace\"></pre>\n"
      ],
      "text/plain": []
     },
     "metadata": {},
     "output_type": "display_data"
    },
    {
     "data": {
      "text/html": [
       "<pre style=\"white-space:pre;overflow-x:auto;line-height:normal;font-family:Menlo,'DejaVu Sans Mono',consolas,'Courier New',monospace\"><span style=\"color: #7fbfbf; text-decoration-color: #7fbfbf\">             </span>View simulation result at                                          \n",
       "<span style=\"color: #7fbfbf; text-decoration-color: #7fbfbf\">             </span><a href=\"https://tidy3d.simulation.cloud/workbench?taskId=fdve-08ecc688-28dc-42fa-8361-2aba360e94f5\" target=\"_blank\"><span style=\"color: #000080; text-decoration-color: #000080; text-decoration: underline\">'https://tidy3d.simulation.cloud/workbench?taskId=fdve-08ecc688-28d</span></a>\n",
       "<span style=\"color: #7fbfbf; text-decoration-color: #7fbfbf\">             </span><a href=\"https://tidy3d.simulation.cloud/workbench?taskId=fdve-08ecc688-28dc-42fa-8361-2aba360e94f5\" target=\"_blank\"><span style=\"color: #000080; text-decoration-color: #000080; text-decoration: underline\">c-42fa-8361-2aba360e94f5'</span></a><span style=\"color: #000080; text-decoration-color: #000080; text-decoration: underline\">.</span>                                         \n",
       "</pre>\n"
      ],
      "text/plain": [
       "\u001b[2;36m            \u001b[0m\u001b[2;36m \u001b[0mView simulation result at                                          \n",
       "\u001b[2;36m             \u001b[0m\u001b]8;id=355929;https://tidy3d.simulation.cloud/workbench?taskId=fdve-08ecc688-28dc-42fa-8361-2aba360e94f5\u001b\\\u001b[4;34m'https://tidy3d.simulation.cloud/workbench?\u001b[0m\u001b]8;;\u001b\\\u001b]8;id=486095;https://tidy3d.simulation.cloud/workbench?taskId=fdve-08ecc688-28dc-42fa-8361-2aba360e94f5\u001b\\\u001b[4;34mtaskId\u001b[0m\u001b]8;;\u001b\\\u001b]8;id=355929;https://tidy3d.simulation.cloud/workbench?taskId=fdve-08ecc688-28dc-42fa-8361-2aba360e94f5\u001b\\\u001b[4;34m=\u001b[0m\u001b]8;;\u001b\\\u001b]8;id=275339;https://tidy3d.simulation.cloud/workbench?taskId=fdve-08ecc688-28dc-42fa-8361-2aba360e94f5\u001b\\\u001b[4;34mfdve\u001b[0m\u001b]8;;\u001b\\\u001b]8;id=355929;https://tidy3d.simulation.cloud/workbench?taskId=fdve-08ecc688-28dc-42fa-8361-2aba360e94f5\u001b\\\u001b[4;34m-08ecc688-28d\u001b[0m\u001b]8;;\u001b\\\n",
       "\u001b[2;36m             \u001b[0m\u001b]8;id=355929;https://tidy3d.simulation.cloud/workbench?taskId=fdve-08ecc688-28dc-42fa-8361-2aba360e94f5\u001b\\\u001b[4;34mc-42fa-8361-2aba360e94f5'\u001b[0m\u001b]8;;\u001b\\\u001b[4;34m.\u001b[0m                                         \n"
      ]
     },
     "metadata": {},
     "output_type": "display_data"
    },
    {
     "data": {
      "application/vnd.jupyter.widget-view+json": {
       "model_id": "6897252e2edd49eca9215862f644eb2a",
       "version_major": 2,
       "version_minor": 0
      },
      "text/plain": [
       "Output()"
      ]
     },
     "metadata": {},
     "output_type": "display_data"
    },
    {
     "data": {
      "text/html": [
       "<pre style=\"white-space:pre;overflow-x:auto;line-height:normal;font-family:Menlo,'DejaVu Sans Mono',consolas,'Courier New',monospace\"></pre>\n"
      ],
      "text/plain": []
     },
     "metadata": {},
     "output_type": "display_data"
    },
    {
     "data": {
      "text/html": [
       "<pre style=\"white-space:pre;overflow-x:auto;line-height:normal;font-family:Menlo,'DejaVu Sans Mono',consolas,'Courier New',monospace\">\n",
       "</pre>\n"
      ],
      "text/plain": [
       "\n"
      ]
     },
     "metadata": {},
     "output_type": "display_data"
    },
    {
     "data": {
      "text/html": [
       "<pre style=\"white-space:pre;overflow-x:auto;line-height:normal;font-family:Menlo,'DejaVu Sans Mono',consolas,'Courier New',monospace\"><span style=\"color: #7fbfbf; text-decoration-color: #7fbfbf\">10:06:35 UTC </span>loading simulation from simulation_data.hdf5                       \n",
       "</pre>\n"
      ],
      "text/plain": [
       "\u001b[2;36m10:06:35 UTC\u001b[0m\u001b[2;36m \u001b[0mloading simulation from simulation_data.hdf5                       \n"
      ]
     },
     "metadata": {},
     "output_type": "display_data"
    },
    {
     "data": {
      "text/html": [
       "<pre style=\"white-space:pre;overflow-x:auto;line-height:normal;font-family:Menlo,'DejaVu Sans Mono',consolas,'Courier New',monospace\"><span style=\"color: #7fbfbf; text-decoration-color: #7fbfbf\">             </span>Created task <span style=\"color: #008000; text-decoration-color: #008000\">'final'</span> with task_id                                  \n",
       "<span style=\"color: #7fbfbf; text-decoration-color: #7fbfbf\">             </span><span style=\"color: #008000; text-decoration-color: #008000\">'fdve-c4003e14-fb5e-4d08-9705-d4626e49026d'</span> and task_type <span style=\"color: #008000; text-decoration-color: #008000\">'FDTD'</span>.  \n",
       "</pre>\n"
      ],
      "text/plain": [
       "\u001b[2;36m            \u001b[0m\u001b[2;36m \u001b[0mCreated task \u001b[32m'final'\u001b[0m with task_id                                  \n",
       "\u001b[2;36m             \u001b[0m\u001b[32m'fdve-c4003e14-fb5e-4d08-9705-d4626e49026d'\u001b[0m and task_type \u001b[32m'FDTD'\u001b[0m.  \n"
      ]
     },
     "metadata": {},
     "output_type": "display_data"
    },
    {
     "data": {
      "text/html": [
       "<pre style=\"white-space:pre;overflow-x:auto;line-height:normal;font-family:Menlo,'DejaVu Sans Mono',consolas,'Courier New',monospace\"><span style=\"color: #7fbfbf; text-decoration-color: #7fbfbf\">             </span>View task using web UI at                                          \n",
       "<span style=\"color: #7fbfbf; text-decoration-color: #7fbfbf\">             </span><a href=\"https://tidy3d.simulation.cloud/workbench?taskId=fdve-c4003e14-fb5e-4d08-9705-d4626e49026d\" target=\"_blank\"><span style=\"color: #008000; text-decoration-color: #008000\">'https://tidy3d.simulation.cloud/workbench?taskId=fdve-c4003e14-fb5</span></a>\n",
       "<span style=\"color: #7fbfbf; text-decoration-color: #7fbfbf\">             </span><a href=\"https://tidy3d.simulation.cloud/workbench?taskId=fdve-c4003e14-fb5e-4d08-9705-d4626e49026d\" target=\"_blank\"><span style=\"color: #008000; text-decoration-color: #008000\">e-4d08-9705-d4626e49026d'</span></a>.                                         \n",
       "</pre>\n"
      ],
      "text/plain": [
       "\u001b[2;36m            \u001b[0m\u001b[2;36m \u001b[0mView task using web UI at                                          \n",
       "\u001b[2;36m             \u001b[0m\u001b]8;id=889475;https://tidy3d.simulation.cloud/workbench?taskId=fdve-c4003e14-fb5e-4d08-9705-d4626e49026d\u001b\\\u001b[32m'https://tidy3d.simulation.cloud/workbench?\u001b[0m\u001b]8;;\u001b\\\u001b]8;id=186319;https://tidy3d.simulation.cloud/workbench?taskId=fdve-c4003e14-fb5e-4d08-9705-d4626e49026d\u001b\\\u001b[32mtaskId\u001b[0m\u001b]8;;\u001b\\\u001b]8;id=889475;https://tidy3d.simulation.cloud/workbench?taskId=fdve-c4003e14-fb5e-4d08-9705-d4626e49026d\u001b\\\u001b[32m=\u001b[0m\u001b]8;;\u001b\\\u001b]8;id=453426;https://tidy3d.simulation.cloud/workbench?taskId=fdve-c4003e14-fb5e-4d08-9705-d4626e49026d\u001b\\\u001b[32mfdve\u001b[0m\u001b]8;;\u001b\\\u001b]8;id=889475;https://tidy3d.simulation.cloud/workbench?taskId=fdve-c4003e14-fb5e-4d08-9705-d4626e49026d\u001b\\\u001b[32m-c4003e14-fb5\u001b[0m\u001b]8;;\u001b\\\n",
       "\u001b[2;36m             \u001b[0m\u001b]8;id=889475;https://tidy3d.simulation.cloud/workbench?taskId=fdve-c4003e14-fb5e-4d08-9705-d4626e49026d\u001b\\\u001b[32me-4d08-9705-d4626e49026d'\u001b[0m\u001b]8;;\u001b\\.                                         \n"
      ]
     },
     "metadata": {},
     "output_type": "display_data"
    },
    {
     "data": {
      "application/vnd.jupyter.widget-view+json": {
       "model_id": "a2a4f0ac1b7b4696832a7f10afaa2781",
       "version_major": 2,
       "version_minor": 0
      },
      "text/plain": [
       "Output()"
      ]
     },
     "metadata": {},
     "output_type": "display_data"
    },
    {
     "data": {
      "text/html": [
       "<pre style=\"white-space:pre;overflow-x:auto;line-height:normal;font-family:Menlo,'DejaVu Sans Mono',consolas,'Courier New',monospace\"></pre>\n"
      ],
      "text/plain": []
     },
     "metadata": {},
     "output_type": "display_data"
    },
    {
     "data": {
      "text/html": [
       "<pre style=\"white-space:pre;overflow-x:auto;line-height:normal;font-family:Menlo,'DejaVu Sans Mono',consolas,'Courier New',monospace\">\n",
       "</pre>\n"
      ],
      "text/plain": [
       "\n"
      ]
     },
     "metadata": {},
     "output_type": "display_data"
    },
    {
     "data": {
      "text/html": [
       "<pre style=\"white-space:pre;overflow-x:auto;line-height:normal;font-family:Menlo,'DejaVu Sans Mono',consolas,'Courier New',monospace\"><span style=\"color: #7fbfbf; text-decoration-color: #7fbfbf\">10:06:37 UTC </span>status = queued                                                    \n",
       "</pre>\n"
      ],
      "text/plain": [
       "\u001b[2;36m10:06:37 UTC\u001b[0m\u001b[2;36m \u001b[0mstatus = queued                                                    \n"
      ]
     },
     "metadata": {},
     "output_type": "display_data"
    },
    {
     "data": {
      "text/html": [
       "<pre style=\"white-space:pre;overflow-x:auto;line-height:normal;font-family:Menlo,'DejaVu Sans Mono',consolas,'Courier New',monospace\"><span style=\"color: #7fbfbf; text-decoration-color: #7fbfbf\">             </span>To cancel the simulation, use <span style=\"color: #008000; text-decoration-color: #008000\">'web.abort(task_id)'</span> or              \n",
       "<span style=\"color: #7fbfbf; text-decoration-color: #7fbfbf\">             </span><span style=\"color: #008000; text-decoration-color: #008000\">'web.delete(task_id)'</span> or abort/delete the task in the web UI.      \n",
       "<span style=\"color: #7fbfbf; text-decoration-color: #7fbfbf\">             </span>Terminating the Python script will not stop the job running on the \n",
       "<span style=\"color: #7fbfbf; text-decoration-color: #7fbfbf\">             </span>cloud.                                                             \n",
       "</pre>\n"
      ],
      "text/plain": [
       "\u001b[2;36m            \u001b[0m\u001b[2;36m \u001b[0mTo cancel the simulation, use \u001b[32m'web.abort\u001b[0m\u001b[32m(\u001b[0m\u001b[32mtask_id\u001b[0m\u001b[32m)\u001b[0m\u001b[32m'\u001b[0m or              \n",
       "\u001b[2;36m             \u001b[0m\u001b[32m'web.delete\u001b[0m\u001b[32m(\u001b[0m\u001b[32mtask_id\u001b[0m\u001b[32m)\u001b[0m\u001b[32m'\u001b[0m or abort/delete the task in the web UI.      \n",
       "\u001b[2;36m             \u001b[0mTerminating the Python script will not stop the job running on the \n",
       "\u001b[2;36m             \u001b[0mcloud.                                                             \n"
      ]
     },
     "metadata": {},
     "output_type": "display_data"
    },
    {
     "data": {
      "application/vnd.jupyter.widget-view+json": {
       "model_id": "45b03c2cce434526a54037e0b0a7028a",
       "version_major": 2,
       "version_minor": 0
      },
      "text/plain": [
       "Output()"
      ]
     },
     "metadata": {},
     "output_type": "display_data"
    },
    {
     "data": {
      "text/html": [
       "<pre style=\"white-space:pre;overflow-x:auto;line-height:normal;font-family:Menlo,'DejaVu Sans Mono',consolas,'Courier New',monospace\"><span style=\"color: #7fbfbf; text-decoration-color: #7fbfbf\">10:06:41 UTC </span>status = preprocess                                                \n",
       "</pre>\n"
      ],
      "text/plain": [
       "\u001b[2;36m10:06:41 UTC\u001b[0m\u001b[2;36m \u001b[0mstatus = preprocess                                                \n"
      ]
     },
     "metadata": {},
     "output_type": "display_data"
    },
    {
     "data": {
      "text/html": [
       "<pre style=\"white-space:pre;overflow-x:auto;line-height:normal;font-family:Menlo,'DejaVu Sans Mono',consolas,'Courier New',monospace\"></pre>\n"
      ],
      "text/plain": []
     },
     "metadata": {},
     "output_type": "display_data"
    },
    {
     "data": {
      "text/html": [
       "<pre style=\"white-space:pre;overflow-x:auto;line-height:normal;font-family:Menlo,'DejaVu Sans Mono',consolas,'Courier New',monospace\"><span style=\"color: #7fbfbf; text-decoration-color: #7fbfbf\">10:06:43 UTC </span>Maximum FlexCredit cost: <span style=\"color: #008080; text-decoration-color: #008080; font-weight: bold\">0.029</span>. Use <span style=\"color: #008000; text-decoration-color: #008000\">'web.real_cost(task_id)'</span> to get\n",
       "<span style=\"color: #7fbfbf; text-decoration-color: #7fbfbf\">             </span>the billed FlexCredit cost after a simulation run.                 \n",
       "</pre>\n"
      ],
      "text/plain": [
       "\u001b[2;36m10:06:43 UTC\u001b[0m\u001b[2;36m \u001b[0mMaximum FlexCredit cost: \u001b[1;36m0.029\u001b[0m. Use \u001b[32m'web.real_cost\u001b[0m\u001b[32m(\u001b[0m\u001b[32mtask_id\u001b[0m\u001b[32m)\u001b[0m\u001b[32m'\u001b[0m to get\n",
       "\u001b[2;36m             \u001b[0mthe billed FlexCredit cost after a simulation run.                 \n"
      ]
     },
     "metadata": {},
     "output_type": "display_data"
    },
    {
     "data": {
      "text/html": [
       "<pre style=\"white-space:pre;overflow-x:auto;line-height:normal;font-family:Menlo,'DejaVu Sans Mono',consolas,'Courier New',monospace\"><span style=\"color: #7fbfbf; text-decoration-color: #7fbfbf\">             </span>starting up solver                                                 \n",
       "</pre>\n"
      ],
      "text/plain": [
       "\u001b[2;36m            \u001b[0m\u001b[2;36m \u001b[0mstarting up solver                                                 \n"
      ]
     },
     "metadata": {},
     "output_type": "display_data"
    },
    {
     "data": {
      "text/html": [
       "<pre style=\"white-space:pre;overflow-x:auto;line-height:normal;font-family:Menlo,'DejaVu Sans Mono',consolas,'Courier New',monospace\"><span style=\"color: #7fbfbf; text-decoration-color: #7fbfbf\">             </span>running solver                                                     \n",
       "</pre>\n"
      ],
      "text/plain": [
       "\u001b[2;36m            \u001b[0m\u001b[2;36m \u001b[0mrunning solver                                                     \n"
      ]
     },
     "metadata": {},
     "output_type": "display_data"
    },
    {
     "data": {
      "application/vnd.jupyter.widget-view+json": {
       "model_id": "46e8eb4d249a4e0b8fc77e71c20a909b",
       "version_major": 2,
       "version_minor": 0
      },
      "text/plain": [
       "Output()"
      ]
     },
     "metadata": {},
     "output_type": "display_data"
    },
    {
     "data": {
      "text/html": [
       "<pre style=\"white-space:pre;overflow-x:auto;line-height:normal;font-family:Menlo,'DejaVu Sans Mono',consolas,'Courier New',monospace\"><span style=\"color: #7fbfbf; text-decoration-color: #7fbfbf\">10:06:48 UTC </span>early shutoff detected at <span style=\"color: #008080; text-decoration-color: #008080; font-weight: bold\">40</span>%, exiting.                            \n",
       "</pre>\n"
      ],
      "text/plain": [
       "\u001b[2;36m10:06:48 UTC\u001b[0m\u001b[2;36m \u001b[0mearly shutoff detected at \u001b[1;36m40\u001b[0m%, exiting.                            \n"
      ]
     },
     "metadata": {},
     "output_type": "display_data"
    },
    {
     "data": {
      "text/html": [
       "<pre style=\"white-space:pre;overflow-x:auto;line-height:normal;font-family:Menlo,'DejaVu Sans Mono',consolas,'Courier New',monospace\"></pre>\n"
      ],
      "text/plain": []
     },
     "metadata": {},
     "output_type": "display_data"
    },
    {
     "data": {
      "text/html": [
       "<pre style=\"white-space:pre;overflow-x:auto;line-height:normal;font-family:Menlo,'DejaVu Sans Mono',consolas,'Courier New',monospace\">\n",
       "</pre>\n"
      ],
      "text/plain": [
       "\n"
      ]
     },
     "metadata": {},
     "output_type": "display_data"
    },
    {
     "data": {
      "text/html": [
       "<pre style=\"white-space:pre;overflow-x:auto;line-height:normal;font-family:Menlo,'DejaVu Sans Mono',consolas,'Courier New',monospace\"><span style=\"color: #7fbfbf; text-decoration-color: #7fbfbf\">             </span>status = postprocess                                               \n",
       "</pre>\n"
      ],
      "text/plain": [
       "\u001b[2;36m            \u001b[0m\u001b[2;36m \u001b[0mstatus = postprocess                                               \n"
      ]
     },
     "metadata": {},
     "output_type": "display_data"
    },
    {
     "data": {
      "application/vnd.jupyter.widget-view+json": {
       "model_id": "7b213e6d57a347efb8cd193062c2364c",
       "version_major": 2,
       "version_minor": 0
      },
      "text/plain": [
       "Output()"
      ]
     },
     "metadata": {},
     "output_type": "display_data"
    },
    {
     "data": {
      "text/html": [
       "<pre style=\"white-space:pre;overflow-x:auto;line-height:normal;font-family:Menlo,'DejaVu Sans Mono',consolas,'Courier New',monospace\"><span style=\"color: #7fbfbf; text-decoration-color: #7fbfbf\">10:06:50 UTC </span>status = success                                                   \n",
       "</pre>\n"
      ],
      "text/plain": [
       "\u001b[2;36m10:06:50 UTC\u001b[0m\u001b[2;36m \u001b[0mstatus = success                                                   \n"
      ]
     },
     "metadata": {},
     "output_type": "display_data"
    },
    {
     "data": {
      "text/html": [
       "<pre style=\"white-space:pre;overflow-x:auto;line-height:normal;font-family:Menlo,'DejaVu Sans Mono',consolas,'Courier New',monospace\"></pre>\n"
      ],
      "text/plain": []
     },
     "metadata": {},
     "output_type": "display_data"
    },
    {
     "data": {
      "text/html": [
       "<pre style=\"white-space:pre;overflow-x:auto;line-height:normal;font-family:Menlo,'DejaVu Sans Mono',consolas,'Courier New',monospace\"><span style=\"color: #7fbfbf; text-decoration-color: #7fbfbf\">10:06:51 UTC </span>View simulation result at                                          \n",
       "<span style=\"color: #7fbfbf; text-decoration-color: #7fbfbf\">             </span><a href=\"https://tidy3d.simulation.cloud/workbench?taskId=fdve-c4003e14-fb5e-4d08-9705-d4626e49026d\" target=\"_blank\"><span style=\"color: #000080; text-decoration-color: #000080; text-decoration: underline\">'https://tidy3d.simulation.cloud/workbench?taskId=fdve-c4003e14-fb5</span></a>\n",
       "<span style=\"color: #7fbfbf; text-decoration-color: #7fbfbf\">             </span><a href=\"https://tidy3d.simulation.cloud/workbench?taskId=fdve-c4003e14-fb5e-4d08-9705-d4626e49026d\" target=\"_blank\"><span style=\"color: #000080; text-decoration-color: #000080; text-decoration: underline\">e-4d08-9705-d4626e49026d'</span></a><span style=\"color: #000080; text-decoration-color: #000080; text-decoration: underline\">.</span>                                         \n",
       "</pre>\n"
      ],
      "text/plain": [
       "\u001b[2;36m10:06:51 UTC\u001b[0m\u001b[2;36m \u001b[0mView simulation result at                                          \n",
       "\u001b[2;36m             \u001b[0m\u001b]8;id=646300;https://tidy3d.simulation.cloud/workbench?taskId=fdve-c4003e14-fb5e-4d08-9705-d4626e49026d\u001b\\\u001b[4;34m'https://tidy3d.simulation.cloud/workbench?\u001b[0m\u001b]8;;\u001b\\\u001b]8;id=756135;https://tidy3d.simulation.cloud/workbench?taskId=fdve-c4003e14-fb5e-4d08-9705-d4626e49026d\u001b\\\u001b[4;34mtaskId\u001b[0m\u001b]8;;\u001b\\\u001b]8;id=646300;https://tidy3d.simulation.cloud/workbench?taskId=fdve-c4003e14-fb5e-4d08-9705-d4626e49026d\u001b\\\u001b[4;34m=\u001b[0m\u001b]8;;\u001b\\\u001b]8;id=781942;https://tidy3d.simulation.cloud/workbench?taskId=fdve-c4003e14-fb5e-4d08-9705-d4626e49026d\u001b\\\u001b[4;34mfdve\u001b[0m\u001b]8;;\u001b\\\u001b]8;id=646300;https://tidy3d.simulation.cloud/workbench?taskId=fdve-c4003e14-fb5e-4d08-9705-d4626e49026d\u001b\\\u001b[4;34m-c4003e14-fb5\u001b[0m\u001b]8;;\u001b\\\n",
       "\u001b[2;36m             \u001b[0m\u001b]8;id=646300;https://tidy3d.simulation.cloud/workbench?taskId=fdve-c4003e14-fb5e-4d08-9705-d4626e49026d\u001b\\\u001b[4;34me-4d08-9705-d4626e49026d'\u001b[0m\u001b]8;;\u001b\\\u001b[4;34m.\u001b[0m                                         \n"
      ]
     },
     "metadata": {},
     "output_type": "display_data"
    },
    {
     "data": {
      "application/vnd.jupyter.widget-view+json": {
       "model_id": "762289b43e784e47907d44a283506c6c",
       "version_major": 2,
       "version_minor": 0
      },
      "text/plain": [
       "Output()"
      ]
     },
     "metadata": {},
     "output_type": "display_data"
    },
    {
     "data": {
      "text/html": [
       "<pre style=\"white-space:pre;overflow-x:auto;line-height:normal;font-family:Menlo,'DejaVu Sans Mono',consolas,'Courier New',monospace\"></pre>\n"
      ],
      "text/plain": []
     },
     "metadata": {},
     "output_type": "display_data"
    },
    {
     "data": {
      "text/html": [
       "<pre style=\"white-space:pre;overflow-x:auto;line-height:normal;font-family:Menlo,'DejaVu Sans Mono',consolas,'Courier New',monospace\">\n",
       "</pre>\n"
      ],
      "text/plain": [
       "\n"
      ]
     },
     "metadata": {},
     "output_type": "display_data"
    },
    {
     "data": {
      "text/html": [
       "<pre style=\"white-space:pre;overflow-x:auto;line-height:normal;font-family:Menlo,'DejaVu Sans Mono',consolas,'Courier New',monospace\"><span style=\"color: #7fbfbf; text-decoration-color: #7fbfbf\">10:06:52 UTC </span>loading simulation from simulation_data.hdf5                       \n",
       "</pre>\n"
      ],
      "text/plain": [
       "\u001b[2;36m10:06:52 UTC\u001b[0m\u001b[2;36m \u001b[0mloading simulation from simulation_data.hdf5                       \n"
      ]
     },
     "metadata": {},
     "output_type": "display_data"
    }
   ],
   "source": [
    "import tidy3d.web as web\n",
    "\n",
    "sim_start = make_sim(param_history[0])\n",
    "data_start = web.run(sim_start, task_name=\"start\")\n",
    "\n",
    "sim_final = make_sim(param_history[-1])\n",
    "data_final = web.run(sim_final, task_name=\"final\")"
   ]
  },
  {
   "cell_type": "markdown",
   "id": "63a876ae-1d19-4f38-a958-170c9576b21a",
   "metadata": {},
   "source": [
    "Let's take a look at the final structure. We see that it has a smooth design which is symmetric about the 45 degree angle."
   ]
  },
  {
   "cell_type": "code",
   "execution_count": 30,
   "id": "7ec2b20e-74de-4b82-949f-591696437315",
   "metadata": {
    "execution": {
     "iopub.execute_input": "2024-09-05T10:06:53.937980Z",
     "iopub.status.busy": "2024-09-05T10:06:53.937509Z",
     "iopub.status.idle": "2024-09-05T10:06:54.191009Z",
     "shell.execute_reply": "2024-09-05T10:06:54.190097Z"
    }
   },
   "outputs": [
    {
     "data": {
      "image/png": "[encoded data removed]",
      "text/plain": [
       "<Figure size 640x480 with 1 Axes>"
      ]
     },
     "metadata": {},
     "output_type": "display_data"
    }
   ],
   "source": [
    "ax = sim_final.plot(z=0.01)"
   ]
  },
  {
   "cell_type": "markdown",
   "id": "95b503b9-a29e-455c-aef3-e4a97a0c59b2",
   "metadata": {},
   "source": [
    "Now let's inspect the difference between the initial and final intensity patterns. We notice that the final device is quite effective at coupling light into the output waveguide! This is especially evident when compared to the starting device."
   ]
  },
  {
   "cell_type": "code",
   "execution_count": 31,
   "id": "a2dddafd-8cee-42fd-a1c7-ddc94f4ef9e8",
   "metadata": {
    "execution": {
     "iopub.execute_input": "2024-09-05T10:06:54.196802Z",
     "iopub.status.busy": "2024-09-05T10:06:54.196129Z",
     "iopub.status.idle": "2024-09-05T10:06:55.876625Z",
     "shell.execute_reply": "2024-09-05T10:06:55.875683Z"
    }
   },
   "outputs": [
    {
     "data": {
      "image/png": "[encoded data removed]",
      "text/plain": [
       "<Figure size 1000x600 with 6 Axes>"
      ]
     },
     "metadata": {},
     "output_type": "display_data"
    }
   ],
   "source": [
    "f, ((ax1, ax2), (ax3, ax4)) = plt.subplots(2, 2, tight_layout=True, figsize=(10, 6))\n",
    "\n",
    "_ = data_start.plot_field(\"field\", \"E\", \"abs^2\", ax=ax1)\n",
    "_ = sim_start.plot(z=0, ax=ax2)\n",
    "ax1.set_title(\"starting device\")\n",
    "ax2.set_title(\"starting device\")\n",
    "\n",
    "_ = data_final.plot_field(\"field\", \"E\", \"abs^2\", ax=ax3)\n",
    "_ = sim_final.plot(z=0, ax=ax4)\n",
    "ax3.set_title(\"final device\")\n",
    "ax4.set_title(\"final device\")\n",
    "\n",
    "plt.show()"
   ]
  },
  {
   "cell_type": "markdown",
   "id": "38997828-6ea8-489c-96b0-3cb4aae502c2",
   "metadata": {},
   "source": [
    "Let's view the transmission now, both in linear and dB scale.\n",
    "\n",
    "The mode amplitudes are simply an [xarray.DataArray](https://docs.xarray.dev/en/stable/generated/xarray.DataArray.html) that can be selected, post processed, and plotted."
   ]
  },
  {
   "cell_type": "code",
   "execution_count": 32,
   "id": "9075ae74-7b0a-4336-98a6-0b89a650d0d3",
   "metadata": {
    "execution": {
     "iopub.execute_input": "2024-09-05T10:06:55.881005Z",
     "iopub.status.busy": "2024-09-05T10:06:55.880720Z",
     "iopub.status.idle": "2024-09-05T10:06:55.889193Z",
     "shell.execute_reply": "2024-09-05T10:06:55.887050Z"
    }
   },
   "outputs": [],
   "source": [
    "amps = data_final[\"mode_bb\"].amps.sel(direction=\"-\", mode_index=mode_index)"
   ]
  },
  {
   "cell_type": "code",
   "execution_count": 33,
   "id": "93a9b8e8-7581-4fb3-a3f4-f718a80082d0",
   "metadata": {
    "execution": {
     "iopub.execute_input": "2024-09-05T10:06:55.893694Z",
     "iopub.status.busy": "2024-09-05T10:06:55.893451Z",
     "iopub.status.idle": "2024-09-05T10:06:55.899257Z",
     "shell.execute_reply": "2024-09-05T10:06:55.898296Z"
    }
   },
   "outputs": [
    {
     "name": "stdout",
     "output_type": "stream",
     "text": [
      "transmission of 91.393 %\n"
     ]
    }
   ],
   "source": [
    "transmission = abs(amps) ** 2\n",
    "transmission_percent = 100 * transmission\n",
    "\n",
    "print(f'transmission of {transmission_percent.values[0]:.3f} %')"
   ]
  },
  {
   "cell_type": "markdown",
   "id": "2b2b6145",
   "metadata": {},
   "source": [
    "## Export to GDS\n",
    "The `Simulation` object has the [.to_gds_file](https://docs.flexcompute.com/projects/tidy3d/en/latest/api/_autosummary/tidy3d.Simulation.html#tidy3d.Simulation.to_gds_file) convenience function to export the final design to a `GDS` file. In addition to a file name, it is necessary to set a cross-sectional plane (`z = 0` in this case) on which to evaluate the geometry. See the [GDS export](https://www.flexcompute.com/tidy3d/examples/notebooks/GDSExport/) notebook for a detailed example on using `.to_gds_file` and other GDS related functions."
   ]
  },
  {
   "cell_type": "code",
   "execution_count": 34,
   "id": "e6dc501b-54ef-4ef5-b54d-a45ce55af44e",
   "metadata": {
    "execution": {
     "iopub.execute_input": "2024-09-05T10:06:55.904381Z",
     "iopub.status.busy": "2024-09-05T10:06:55.904097Z",
     "iopub.status.idle": "2024-09-05T10:06:55.908984Z",
     "shell.execute_reply": "2024-09-05T10:06:55.908237Z"
    }
   },
   "outputs": [],
   "source": [
    "sim_final.to_gds_file(\n",
    "    fname=\"./misc/inverse_des_wg_bend.gds\",\n",
    "    z=0,\n",
    ")"
   ]
  },
  {
   "cell_type": "code",
   "execution_count": null,
   "id": "99285030-02fc-4857-ae18-84966a93c62a",
   "metadata": {},
   "outputs": [],
   "source": []
  },
  {
   "cell_type": "code",
   "execution_count": null,
   "id": "b938fc7c-f587-48c3-bdf4-a33c2a915346",
   "metadata": {},
   "outputs": [],
   "source": []
  },
  {
   "cell_type": "code",
   "execution_count": null,
   "id": "6e4e61df-cd8a-4ab6-ba6f-62a0df011f33",
   "metadata": {},
   "outputs": [],
   "source": []
  },
  {
   "cell_type": "code",
   "execution_count": null,
   "id": "f45bf923-fcb2-4639-9338-dab00595fff1",
   "metadata": {},
   "outputs": [],
   "source": []
  }
 ],
 "metadata": {
  "applications": [
   "Passive photonic integrated circuit components"
  ],
  "description": "This notebook demonstrates the adjoint optimization of a waveguide bend in Tidy3D using the adjoint plugin.",
  "feature_image": "./img/adjoint_8.png",
  "features": [
   "Adjoint inverse design"
  ],
  "kernelspec": {
   "display_name": "Python 3 (ipykernel)",
   "language": "python",
   "name": "python3"
  },
  "keywords": "inverse design, bend, design optimization, adjoint, Tidy3D, FDTD",
  "language_info": {
   "codemirror_mode": {
    "name": "ipython",
    "version": 3
   },
   "file_extension": ".py",
   "mimetype": "text/x-python",
   "name": "python",
   "nbconvert_exporter": "python",
   "pygments_lexer": "ipython3",
   "version": "3.10.14"
  },
  "title": "Adjoint Optimization of a Waveguide Bend in Tidy3D | Flexcompute",
  "widgets": {
   "application/vnd.jupyter.widget-state+json": {
    "state": {
     "29a0d62e16de43a68a4c1e9304e0aa84": {
      "model_module": "@jupyter-widgets/base",
      "model_module_version": "2.0.0",
      "model_name": "LayoutModel",
      "state": {
       "_model_module": "@jupyter-widgets/base",
       "_model_module_version": "2.0.0",
       "_model_name": "LayoutModel",
       "_view_count": null,
       "_view_module": "@jupyter-widgets/base",
       "_view_module_version": "2.0.0",
       "_view_name": "LayoutView",
       "align_content": null,
       "align_items": null,
       "align_self": null,
       "border_bottom": null,
       "border_left": null,
       "border_right": null,
       "border_top": null,
       "bottom": null,
       "display": null,
       "flex": null,
       "flex_flow": null,
       "grid_area": null,
       "grid_auto_columns": null,
       "grid_auto_flow": null,
       "grid_auto_rows": null,
       "grid_column": null,
       "grid_gap": null,
       "grid_row": null,
       "grid_template_areas": null,
       "grid_template_columns": null,
       "grid_template_rows": null,
       "height": null,
       "justify_content": null,
       "justify_items": null,
       "left": null,
       "margin": null,
       "max_height": null,
       "max_width": null,
       "min_height": null,
       "min_width": null,
       "object_fit": null,
       "object_position": null,
       "order": null,
       "overflow": null,
       "padding": null,
       "right": null,
       "top": null,
       "visibility": null,
       "width": null
      }
     },
     "3888422db5b44f529a8886e37a8c9afc": {
      "model_module": "@jupyter-widgets/base",
      "model_module_version": "2.0.0",
      "model_name": "LayoutModel",
      "state": {
       "_model_module": "@jupyter-widgets/base",
       "_model_module_version": "2.0.0",
       "_model_name": "LayoutModel",
       "_view_count": null,
       "_view_module": "@jupyter-widgets/base",
       "_view_module_version": "2.0.0",
       "_view_name": "LayoutView",
       "align_content": null,
       "align_items": null,
       "align_self": null,
       "border_bottom": null,
       "border_left": null,
       "border_right": null,
       "border_top": null,
       "bottom": null,
       "display": null,
       "flex": null,
       "flex_flow": null,
       "grid_area": null,
       "grid_auto_columns": null,
       "grid_auto_flow": null,
       "grid_auto_rows": null,
       "grid_column": null,
       "grid_gap": null,
       "grid_row": null,
       "grid_template_areas": null,
       "grid_template_columns": null,
       "grid_template_rows": null,
       "height": null,
       "justify_content": null,
       "justify_items": null,
       "left": null,
       "margin": null,
       "max_height": null,
       "max_width": null,
       "min_height": null,
       "min_width": null,
       "object_fit": null,
       "object_position": null,
       "order": null,
       "overflow": null,
       "padding": null,
       "right": null,
       "top": null,
       "visibility": null,
       "width": null
      }
     },
     "4059a061eb874bfa98a7edf2f5007d2f": {
      "model_module": "@jupyter-widgets/base",
      "model_module_version": "2.0.0",
      "model_name": "LayoutModel",
      "state": {
       "_model_module": "@jupyter-widgets/base",
       "_model_module_version": "2.0.0",
       "_model_name": "LayoutModel",
       "_view_count": null,
       "_view_module": "@jupyter-widgets/base",
       "_view_module_version": "2.0.0",
       "_view_name": "LayoutView",
       "align_content": null,
       "align_items": null,
       "align_self": null,
       "border_bottom": null,
       "border_left": null,
       "border_right": null,
       "border_top": null,
       "bottom": null,
       "display": null,
       "flex": null,
       "flex_flow": null,
       "grid_area": null,
       "grid_auto_columns": null,
       "grid_auto_flow": null,
       "grid_auto_rows": null,
       "grid_column": null,
       "grid_gap": null,
       "grid_row": null,
       "grid_template_areas": null,
       "grid_template_columns": null,
       "grid_template_rows": null,
       "height": null,
       "justify_content": null,
       "justify_items": null,
       "left": null,
       "margin": null,
       "max_height": null,
       "max_width": null,
       "min_height": null,
       "min_width": null,
       "object_fit": null,
       "object_position": null,
       "order": null,
       "overflow": null,
       "padding": null,
       "right": null,
       "top": null,
       "visibility": null,
       "width": null
      }
     },
     "45b03c2cce434526a54037e0b0a7028a": {
      "model_module": "@jupyter-widgets/output",
      "model_module_version": "1.0.0",
      "model_name": "OutputModel",
      "state": {
       "_dom_classes": [],
       "_model_module": "@jupyter-widgets/output",
       "_model_module_version": "1.0.0",
       "_model_name": "OutputModel",
       "_view_count": null,
       "_view_module": "@jupyter-widgets/output",
       "_view_module_version": "1.0.0",
       "_view_name": "OutputView",
       "layout": "IPY_MODEL_eb99298c57774d299c11c86d3e84a7c4",
       "msg_id": "",
       "outputs": [
        {
         "data": {
          "text/html": "<pre style=\"white-space:pre;overflow-x:auto;line-height:normal;font-family:Menlo,'DejaVu Sans Mono',consolas,'Courier New',monospace\"><span style=\"color: #008000; text-decoration-color: #008000\">🚶 </span> <span style=\"color: #008000; text-decoration-color: #008000; font-weight: bold\">Waiting for 'final'...</span>\n</pre>\n",
          "text/plain": "\u001b[32m🚶 \u001b[0m \u001b[1;32mWaiting for 'final'...\u001b[0m\n"
         },
         "metadata": {},
         "output_type": "display_data"
        }
       ],
       "tabbable": null,
       "tooltip": null
      }
     },
     "46e8eb4d249a4e0b8fc77e71c20a909b": {
      "model_module": "@jupyter-widgets/output",
      "model_module_version": "1.0.0",
      "model_name": "OutputModel",
      "state": {
       "_dom_classes": [],
       "_model_module": "@jupyter-widgets/output",
       "_model_module_version": "1.0.0",
       "_model_name": "OutputModel",
       "_view_count": null,
       "_view_module": "@jupyter-widgets/output",
       "_view_module_version": "1.0.0",
       "_view_name": "OutputView",
       "layout": "IPY_MODEL_4059a061eb874bfa98a7edf2f5007d2f",
       "msg_id": "",
       "outputs": [
        {
         "data": {
          "text/html": "<pre style=\"white-space:pre;overflow-x:auto;line-height:normal;font-family:Menlo,'DejaVu Sans Mono',consolas,'Courier New',monospace\">solver progress (field decay = 6.38e-06) <span style=\"color: #729c1f; text-decoration-color: #729c1f\">━━━━━━━━━━━━━━━━━━━━━━━━━━</span> <span style=\"color: #800080; text-decoration-color: #800080\">100%</span> <span style=\"color: #008080; text-decoration-color: #008080\">0:00:00</span>\n</pre>\n",
          "text/plain": "solver progress (field decay = 6.38e-06) \u001b[38;2;114;156;31m━━━━━━━━━━━━━━━━━━━━━━━━━━\u001b[0m \u001b[35m100%\u001b[0m \u001b[36m0:00:00\u001b[0m\n"
         },
         "metadata": {},
         "output_type": "display_data"
        }
       ],
       "tabbable": null,
       "tooltip": null
      }
     },
     "553346c0d29d450aa935ece04b983f13": {
      "model_module": "@jupyter-widgets/base",
      "model_module_version": "2.0.0",
      "model_name": "LayoutModel",
      "state": {
       "_model_module": "@jupyter-widgets/base",
       "_model_module_version": "2.0.0",
       "_model_name": "LayoutModel",
       "_view_count": null,
       "_view_module": "@jupyter-widgets/base",
       "_view_module_version": "2.0.0",
       "_view_name": "LayoutView",
       "align_content": null,
       "align_items": null,
       "align_self": null,
       "border_bottom": null,
       "border_left": null,
       "border_right": null,
       "border_top": null,
       "bottom": null,
       "display": null,
       "flex": null,
       "flex_flow": null,
       "grid_area": null,
       "grid_auto_columns": null,
       "grid_auto_flow": null,
       "grid_auto_rows": null,
       "grid_column": null,
       "grid_gap": null,
       "grid_row": null,
       "grid_template_areas": null,
       "grid_template_columns": null,
       "grid_template_rows": null,
       "height": null,
       "justify_content": null,
       "justify_items": null,
       "left": null,
       "margin": null,
       "max_height": null,
       "max_width": null,
       "min_height": null,
       "min_width": null,
       "object_fit": null,
       "object_position": null,
       "order": null,
       "overflow": null,
       "padding": null,
       "right": null,
       "top": null,
       "visibility": null,
       "width": null
      }
     },
     "5f74b9b58148440593a95e0d76fdbd8f": {
      "model_module": "@jupyter-widgets/base",
      "model_module_version": "2.0.0",
      "model_name": "LayoutModel",
      "state": {
       "_model_module": "@jupyter-widgets/base",
       "_model_module_version": "2.0.0",
       "_model_name": "LayoutModel",
       "_view_count": null,
       "_view_module": "@jupyter-widgets/base",
       "_view_module_version": "2.0.0",
       "_view_name": "LayoutView",
       "align_content": null,
       "align_items": null,
       "align_self": null,
       "border_bottom": null,
       "border_left": null,
       "border_right": null,
       "border_top": null,
       "bottom": null,
       "display": null,
       "flex": null,
       "flex_flow": null,
       "grid_area": null,
       "grid_auto_columns": null,
       "grid_auto_flow": null,
       "grid_auto_rows": null,
       "grid_column": null,
       "grid_gap": null,
       "grid_row": null,
       "grid_template_areas": null,
       "grid_template_columns": null,
       "grid_template_rows": null,
       "height": null,
       "justify_content": null,
       "justify_items": null,
       "left": null,
       "margin": null,
       "max_height": null,
       "max_width": null,
       "min_height": null,
       "min_width": null,
       "object_fit": null,
       "object_position": null,
       "order": null,
       "overflow": null,
       "padding": null,
       "right": null,
       "top": null,
       "visibility": null,
       "width": null
      }
     },
     "6897252e2edd49eca9215862f644eb2a": {
      "model_module": "@jupyter-widgets/output",
      "model_module_version": "1.0.0",
      "model_name": "OutputModel",
      "state": {
       "_dom_classes": [],
       "_model_module": "@jupyter-widgets/output",
       "_model_module_version": "1.0.0",
       "_model_name": "OutputModel",
       "_view_count": null,
       "_view_module": "@jupyter-widgets/output",
       "_view_module_version": "1.0.0",
       "_view_name": "OutputView",
       "layout": "IPY_MODEL_b96f1478d1874162a9546d3019260f92",
       "msg_id": "",
       "outputs": [
        {
         "data": {
          "text/html": "<pre style=\"white-space:pre;overflow-x:auto;line-height:normal;font-family:Menlo,'DejaVu Sans Mono',consolas,'Courier New',monospace\"><span style=\"color: #008000; text-decoration-color: #008000; font-weight: bold\">↓</span> <span style=\"color: #000080; text-decoration-color: #000080; font-weight: bold\">simulation_data.hdf5.gz</span> <span style=\"color: #729c1f; text-decoration-color: #729c1f\">━━━━━━━━━━━━</span> <span style=\"color: #800080; text-decoration-color: #800080\">100.0%</span> • <span style=\"color: #008000; text-decoration-color: #008000\">3.6/3.6 MB</span> • <span style=\"color: #800000; text-decoration-color: #800000\">10.2 MB/s</span> • <span style=\"color: #008080; text-decoration-color: #008080\">0:00:00</span>\n</pre>\n",
          "text/plain": "\u001b[1;32m↓\u001b[0m \u001b[1;34msimulation_data.hdf5.gz\u001b[0m \u001b[38;2;114;156;31m━━━━━━━━━━━━\u001b[0m \u001b[35m100.0%\u001b[0m • \u001b[32m3.6/3.6 MB\u001b[0m • \u001b[31m10.2 MB/s\u001b[0m • \u001b[36m0:00:00\u001b[0m\n"
         },
         "metadata": {},
         "output_type": "display_data"
        }
       ],
       "tabbable": null,
       "tooltip": null
      }
     },
     "703564a24c604bf8b53626bc27086bea": {
      "model_module": "@jupyter-widgets/output",
      "model_module_version": "1.0.0",
      "model_name": "OutputModel",
      "state": {
       "_dom_classes": [],
       "_model_module": "@jupyter-widgets/output",
       "_model_module_version": "1.0.0",
       "_model_name": "OutputModel",
       "_view_count": null,
       "_view_module": "@jupyter-widgets/output",
       "_view_module_version": "1.0.0",
       "_view_name": "OutputView",
       "layout": "IPY_MODEL_553346c0d29d450aa935ece04b983f13",
       "msg_id": "",
       "outputs": [
        {
         "data": {
          "text/html": "<pre style=\"white-space:pre;overflow-x:auto;line-height:normal;font-family:Menlo,'DejaVu Sans Mono',consolas,'Courier New',monospace\">solver progress (field decay = 9.69e-06) <span style=\"color: #729c1f; text-decoration-color: #729c1f\">━━━━━━━━━━━━━━━━━━━━━━━━━━</span> <span style=\"color: #800080; text-decoration-color: #800080\">100%</span> <span style=\"color: #008080; text-decoration-color: #008080\">0:00:00</span>\n</pre>\n",
          "text/plain": "solver progress (field decay = 9.69e-06) \u001b[38;2;114;156;31m━━━━━━━━━━━━━━━━━━━━━━━━━━\u001b[0m \u001b[35m100%\u001b[0m \u001b[36m0:00:00\u001b[0m\n"
         },
         "metadata": {},
         "output_type": "display_data"
        }
       ],
       "tabbable": null,
       "tooltip": null
      }
     },
     "762289b43e784e47907d44a283506c6c": {
      "model_module": "@jupyter-widgets/output",
      "model_module_version": "1.0.0",
      "model_name": "OutputModel",
      "state": {
       "_dom_classes": [],
       "_model_module": "@jupyter-widgets/output",
       "_model_module_version": "1.0.0",
       "_model_name": "OutputModel",
       "_view_count": null,
       "_view_module": "@jupyter-widgets/output",
       "_view_module_version": "1.0.0",
       "_view_name": "OutputView",
       "layout": "IPY_MODEL_888d35d4c0e846d5b51c158cbb84e9fa",
       "msg_id": "",
       "outputs": [
        {
         "data": {
          "text/html": "<pre style=\"white-space:pre;overflow-x:auto;line-height:normal;font-family:Menlo,'DejaVu Sans Mono',consolas,'Courier New',monospace\"><span style=\"color: #008000; text-decoration-color: #008000; font-weight: bold\">↓</span> <span style=\"color: #000080; text-decoration-color: #000080; font-weight: bold\">simulation_data.hdf5.gz</span> <span style=\"color: #729c1f; text-decoration-color: #729c1f\">━━━━━━━━━━━━</span> <span style=\"color: #800080; text-decoration-color: #800080\">100.0%</span> • <span style=\"color: #008000; text-decoration-color: #008000\">3.6/3.6 MB</span> • <span style=\"color: #800000; text-decoration-color: #800000\">10.3 MB/s</span> • <span style=\"color: #008080; text-decoration-color: #008080\">0:00:00</span>\n</pre>\n",
          "text/plain": "\u001b[1;32m↓\u001b[0m \u001b[1;34msimulation_data.hdf5.gz\u001b[0m \u001b[38;2;114;156;31m━━━━━━━━━━━━\u001b[0m \u001b[35m100.0%\u001b[0m • \u001b[32m3.6/3.6 MB\u001b[0m • \u001b[31m10.3 MB/s\u001b[0m • \u001b[36m0:00:00\u001b[0m\n"
         },
         "metadata": {},
         "output_type": "display_data"
        }
       ],
       "tabbable": null,
       "tooltip": null
      }
     },
     "7831eb0384484ac98148bc6b6cf34a37": {
      "model_module": "@jupyter-widgets/output",
      "model_module_version": "1.0.0",
      "model_name": "OutputModel",
      "state": {
       "_dom_classes": [],
       "_model_module": "@jupyter-widgets/output",
       "_model_module_version": "1.0.0",
       "_model_name": "OutputModel",
       "_view_count": null,
       "_view_module": "@jupyter-widgets/output",
       "_view_module_version": "1.0.0",
       "_view_name": "OutputView",
       "layout": "IPY_MODEL_5f74b9b58148440593a95e0d76fdbd8f",
       "msg_id": "",
       "outputs": [
        {
         "data": {
          "text/html": "<pre style=\"white-space:pre;overflow-x:auto;line-height:normal;font-family:Menlo,'DejaVu Sans Mono',consolas,'Courier New',monospace\"><span style=\"color: #008000; text-decoration-color: #008000\">🏃 </span> <span style=\"color: #008000; text-decoration-color: #008000; font-weight: bold\">Waiting for 'start'...</span>\n</pre>\n",
          "text/plain": "\u001b[32m🏃 \u001b[0m \u001b[1;32mWaiting for 'start'...\u001b[0m\n"
         },
         "metadata": {},
         "output_type": "display_data"
        }
       ],
       "tabbable": null,
       "tooltip": null
      }
     },
     "7b213e6d57a347efb8cd193062c2364c": {
      "model_module": "@jupyter-widgets/output",
      "model_module_version": "1.0.0",
      "model_name": "OutputModel",
      "state": {
       "_dom_classes": [],
       "_model_module": "@jupyter-widgets/output",
       "_model_module_version": "1.0.0",
       "_model_name": "OutputModel",
       "_view_count": null,
       "_view_module": "@jupyter-widgets/output",
       "_view_module_version": "1.0.0",
       "_view_name": "OutputView",
       "layout": "IPY_MODEL_29a0d62e16de43a68a4c1e9304e0aa84",
       "msg_id": "",
       "outputs": [
        {
         "data": {
          "text/html": "<pre style=\"white-space:pre;overflow-x:auto;line-height:normal;font-family:Menlo,'DejaVu Sans Mono',consolas,'Courier New',monospace\"><span style=\"color: #008000; text-decoration-color: #008000\">🚶 </span> <span style=\"color: #008000; text-decoration-color: #008000; font-weight: bold\">Finishing 'final'...</span>\n</pre>\n",
          "text/plain": "\u001b[32m🚶 \u001b[0m \u001b[1;32mFinishing 'final'...\u001b[0m\n"
         },
         "metadata": {},
         "output_type": "display_data"
        }
       ],
       "tabbable": null,
       "tooltip": null
      }
     },
     "888d35d4c0e846d5b51c158cbb84e9fa": {
      "model_module": "@jupyter-widgets/base",
      "model_module_version": "2.0.0",
      "model_name": "LayoutModel",
      "state": {
       "_model_module": "@jupyter-widgets/base",
       "_model_module_version": "2.0.0",
       "_model_name": "LayoutModel",
       "_view_count": null,
       "_view_module": "@jupyter-widgets/base",
       "_view_module_version": "2.0.0",
       "_view_name": "LayoutView",
       "align_content": null,
       "align_items": null,
       "align_self": null,
       "border_bottom": null,
       "border_left": null,
       "border_right": null,
       "border_top": null,
       "bottom": null,
       "display": null,
       "flex": null,
       "flex_flow": null,
       "grid_area": null,
       "grid_auto_columns": null,
       "grid_auto_flow": null,
       "grid_auto_rows": null,
       "grid_column": null,
       "grid_gap": null,
       "grid_row": null,
       "grid_template_areas": null,
       "grid_template_columns": null,
       "grid_template_rows": null,
       "height": null,
       "justify_content": null,
       "justify_items": null,
       "left": null,
       "margin": null,
       "max_height": null,
       "max_width": null,
       "min_height": null,
       "min_width": null,
       "object_fit": null,
       "object_position": null,
       "order": null,
       "overflow": null,
       "padding": null,
       "right": null,
       "top": null,
       "visibility": null,
       "width": null
      }
     },
     "8f6cb689eb40488b8b4d8d1852a03c11": {
      "model_module": "@jupyter-widgets/base",
      "model_module_version": "2.0.0",
      "model_name": "LayoutModel",
      "state": {
       "_model_module": "@jupyter-widgets/base",
       "_model_module_version": "2.0.0",
       "_model_name": "LayoutModel",
       "_view_count": null,
       "_view_module": "@jupyter-widgets/base",
       "_view_module_version": "2.0.0",
       "_view_name": "LayoutView",
       "align_content": null,
       "align_items": null,
       "align_self": null,
       "border_bottom": null,
       "border_left": null,
       "border_right": null,
       "border_top": null,
       "bottom": null,
       "display": null,
       "flex": null,
       "flex_flow": null,
       "grid_area": null,
       "grid_auto_columns": null,
       "grid_auto_flow": null,
       "grid_auto_rows": null,
       "grid_column": null,
       "grid_gap": null,
       "grid_row": null,
       "grid_template_areas": null,
       "grid_template_columns": null,
       "grid_template_rows": null,
       "height": null,
       "justify_content": null,
       "justify_items": null,
       "left": null,
       "margin": null,
       "max_height": null,
       "max_width": null,
       "min_height": null,
       "min_width": null,
       "object_fit": null,
       "object_position": null,
       "order": null,
       "overflow": null,
       "padding": null,
       "right": null,
       "top": null,
       "visibility": null,
       "width": null
      }
     },
     "9dc65d1dc32c40f5ad3411a063b32e6f": {
      "model_module": "@jupyter-widgets/base",
      "model_module_version": "2.0.0",
      "model_name": "LayoutModel",
      "state": {
       "_model_module": "@jupyter-widgets/base",
       "_model_module_version": "2.0.0",
       "_model_name": "LayoutModel",
       "_view_count": null,
       "_view_module": "@jupyter-widgets/base",
       "_view_module_version": "2.0.0",
       "_view_name": "LayoutView",
       "align_content": null,
       "align_items": null,
       "align_self": null,
       "border_bottom": null,
       "border_left": null,
       "border_right": null,
       "border_top": null,
       "bottom": null,
       "display": null,
       "flex": null,
       "flex_flow": null,
       "grid_area": null,
       "grid_auto_columns": null,
       "grid_auto_flow": null,
       "grid_auto_rows": null,
       "grid_column": null,
       "grid_gap": null,
       "grid_row": null,
       "grid_template_areas": null,
       "grid_template_columns": null,
       "grid_template_rows": null,
       "height": null,
       "justify_content": null,
       "justify_items": null,
       "left": null,
       "margin": null,
       "max_height": null,
       "max_width": null,
       "min_height": null,
       "min_width": null,
       "object_fit": null,
       "object_position": null,
       "order": null,
       "overflow": null,
       "padding": null,
       "right": null,
       "top": null,
       "visibility": null,
       "width": null
      }
     },
     "9fac3ef63331480bab54a0262a46f9e0": {
      "model_module": "@jupyter-widgets/output",
      "model_module_version": "1.0.0",
      "model_name": "OutputModel",
      "state": {
       "_dom_classes": [],
       "_model_module": "@jupyter-widgets/output",
       "_model_module_version": "1.0.0",
       "_model_name": "OutputModel",
       "_view_count": null,
       "_view_module": "@jupyter-widgets/output",
       "_view_module_version": "1.0.0",
       "_view_name": "OutputView",
       "layout": "IPY_MODEL_3888422db5b44f529a8886e37a8c9afc",
       "msg_id": "",
       "outputs": [
        {
         "data": {
          "text/html": "<pre style=\"white-space:pre;overflow-x:auto;line-height:normal;font-family:Menlo,'DejaVu Sans Mono',consolas,'Courier New',monospace\"><span style=\"color: #008000; text-decoration-color: #008000\">🏃 </span> <span style=\"color: #008000; text-decoration-color: #008000; font-weight: bold\">Finishing 'start'...</span>\n</pre>\n",
          "text/plain": "\u001b[32m🏃 \u001b[0m \u001b[1;32mFinishing 'start'...\u001b[0m\n"
         },
         "metadata": {},
         "output_type": "display_data"
        }
       ],
       "tabbable": null,
       "tooltip": null
      }
     },
     "a2a4f0ac1b7b4696832a7f10afaa2781": {
      "model_module": "@jupyter-widgets/output",
      "model_module_version": "1.0.0",
      "model_name": "OutputModel",
      "state": {
       "_dom_classes": [],
       "_model_module": "@jupyter-widgets/output",
       "_model_module_version": "1.0.0",
       "_model_name": "OutputModel",
       "_view_count": null,
       "_view_module": "@jupyter-widgets/output",
       "_view_module_version": "1.0.0",
       "_view_name": "OutputView",
       "layout": "IPY_MODEL_9dc65d1dc32c40f5ad3411a063b32e6f",
       "msg_id": "",
       "outputs": [
        {
         "data": {
          "text/html": "<pre style=\"white-space:pre;overflow-x:auto;line-height:normal;font-family:Menlo,'DejaVu Sans Mono',consolas,'Courier New',monospace\"><span style=\"color: #800000; text-decoration-color: #800000; font-weight: bold\">↑</span> <span style=\"color: #000080; text-decoration-color: #000080; font-weight: bold\">simulation.hdf5.gz</span> <span style=\"color: #729c1f; text-decoration-color: #729c1f\">━━━━━━━━━━━━━━━━━━━━━━━━━</span> <span style=\"color: #800080; text-decoration-color: #800080\">100.0%</span> • <span style=\"color: #008000; text-decoration-color: #008000\">4.2/4.2 kB</span> • <span style=\"color: #800000; text-decoration-color: #800000\">?</span> • <span style=\"color: #008080; text-decoration-color: #008080\">0:00:00</span>\n</pre>\n",
          "text/plain": "\u001b[1;31m↑\u001b[0m \u001b[1;34msimulation.hdf5.gz\u001b[0m \u001b[38;2;114;156;31m━━━━━━━━━━━━━━━━━━━━━━━━━\u001b[0m \u001b[35m100.0%\u001b[0m • \u001b[32m4.2/4.2 kB\u001b[0m • \u001b[31m?\u001b[0m • \u001b[36m0:00:00\u001b[0m\n"
         },
         "metadata": {},
         "output_type": "display_data"
        }
       ],
       "tabbable": null,
       "tooltip": null
      }
     },
     "b96f1478d1874162a9546d3019260f92": {
      "model_module": "@jupyter-widgets/base",
      "model_module_version": "2.0.0",
      "model_name": "LayoutModel",
      "state": {
       "_model_module": "@jupyter-widgets/base",
       "_model_module_version": "2.0.0",
       "_model_name": "LayoutModel",
       "_view_count": null,
       "_view_module": "@jupyter-widgets/base",
       "_view_module_version": "2.0.0",
       "_view_name": "LayoutView",
       "align_content": null,
       "align_items": null,
       "align_self": null,
       "border_bottom": null,
       "border_left": null,
       "border_right": null,
       "border_top": null,
       "bottom": null,
       "display": null,
       "flex": null,
       "flex_flow": null,
       "grid_area": null,
       "grid_auto_columns": null,
       "grid_auto_flow": null,
       "grid_auto_rows": null,
       "grid_column": null,
       "grid_gap": null,
       "grid_row": null,
       "grid_template_areas": null,
       "grid_template_columns": null,
       "grid_template_rows": null,
       "height": null,
       "justify_content": null,
       "justify_items": null,
       "left": null,
       "margin": null,
       "max_height": null,
       "max_width": null,
       "min_height": null,
       "min_width": null,
       "object_fit": null,
       "object_position": null,
       "order": null,
       "overflow": null,
       "padding": null,
       "right": null,
       "top": null,
       "visibility": null,
       "width": null
      }
     },
     "e96c0936b9734d8b9da8b75e8a9a44b1": {
      "model_module": "@jupyter-widgets/output",
      "model_module_version": "1.0.0",
      "model_name": "OutputModel",
      "state": {
       "_dom_classes": [],
       "_model_module": "@jupyter-widgets/output",
       "_model_module_version": "1.0.0",
       "_model_name": "OutputModel",
       "_view_count": null,
       "_view_module": "@jupyter-widgets/output",
       "_view_module_version": "1.0.0",
       "_view_name": "OutputView",
       "layout": "IPY_MODEL_8f6cb689eb40488b8b4d8d1852a03c11",
       "msg_id": "",
       "outputs": [
        {
         "data": {
          "text/html": "<pre style=\"white-space:pre;overflow-x:auto;line-height:normal;font-family:Menlo,'DejaVu Sans Mono',consolas,'Courier New',monospace\"><span style=\"color: #800000; text-decoration-color: #800000; font-weight: bold\">↑</span> <span style=\"color: #000080; text-decoration-color: #000080; font-weight: bold\">simulation.hdf5.gz</span> <span style=\"color: #729c1f; text-decoration-color: #729c1f\">━━━━━━━━━━━━━━━━━━━━━━━━━</span> <span style=\"color: #800080; text-decoration-color: #800080\">100.0%</span> • <span style=\"color: #008000; text-decoration-color: #008000\">3.5/3.5 kB</span> • <span style=\"color: #800000; text-decoration-color: #800000\">?</span> • <span style=\"color: #008080; text-decoration-color: #008080\">0:00:00</span>\n</pre>\n",
          "text/plain": "\u001b[1;31m↑\u001b[0m \u001b[1;34msimulation.hdf5.gz\u001b[0m \u001b[38;2;114;156;31m━━━━━━━━━━━━━━━━━━━━━━━━━\u001b[0m \u001b[35m100.0%\u001b[0m • \u001b[32m3.5/3.5 kB\u001b[0m • \u001b[31m?\u001b[0m • \u001b[36m0:00:00\u001b[0m\n"
         },
         "metadata": {},
         "output_type": "display_data"
        }
       ],
       "tabbable": null,
       "tooltip": null
      }
     },
     "eb99298c57774d299c11c86d3e84a7c4": {
      "model_module": "@jupyter-widgets/base",
      "model_module_version": "2.0.0",
      "model_name": "LayoutModel",
      "state": {
       "_model_module": "@jupyter-widgets/base",
       "_model_module_version": "2.0.0",
       "_model_name": "LayoutModel",
       "_view_count": null,
       "_view_module": "@jupyter-widgets/base",
       "_view_module_version": "2.0.0",
       "_view_name": "LayoutView",
       "align_content": null,
       "align_items": null,
       "align_self": null,
       "border_bottom": null,
       "border_left": null,
       "border_right": null,
       "border_top": null,
       "bottom": null,
       "display": null,
       "flex": null,
       "flex_flow": null,
       "grid_area": null,
       "grid_auto_columns": null,
       "grid_auto_flow": null,
       "grid_auto_rows": null,
       "grid_column": null,
       "grid_gap": null,
       "grid_row": null,
       "grid_template_areas": null,
       "grid_template_columns": null,
       "grid_template_rows": null,
       "height": null,
       "justify_content": null,
       "justify_items": null,
       "left": null,
       "margin": null,
       "max_height": null,
       "max_width": null,
       "min_height": null,
       "min_width": null,
       "object_fit": null,
       "object_position": null,
       "order": null,
       "overflow": null,
       "padding": null,
       "right": null,
       "top": null,
       "visibility": null,
       "width": null
      }
     }
    },
    "version_major": 2,
    "version_minor": 0
   }
  }
 },
 "nbformat": 4,
 "nbformat_minor": 5
}
