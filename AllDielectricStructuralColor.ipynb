{
 "cells": [
  {
   "cell_type": "markdown",
   "metadata": {},
   "source": [
    "# All-dielectric structural colors\n",
    "\n",
    "Structural colors are produced through the light manipulation at the nanoscale, where the periodic arrangement of materials dictates light phenomena such as reflection, diffraction, and interference. This approach offers a wide range of bright and vivid colors in various applications, ranging from displays and sensors to optical communication devices, without the need for traditional dyes or pigments. In this notebook we will use [Tidy3D](https://www.flexcompute.com/tidy3d/solver/) to simulate the optical response of an all-dielectric structural color metasurface, as proposed by `Bo Yang, Wenwei Liu, Zhancheng Li, Hua Cheng, Duk-Yong Choi, Shuqi Chen, and Jianguo Tian, \"Ultrahighly Saturated Structural Colors Enhanced by Multipolar-Modulated Metasurfaces,\" Nano Letters 19(7), 4221-4228 (2019)` [DOI: 10.1021/acs.nanolett.8b04923](https://doi.org/10.1021/acs.nanolett.8b04923). \n",
    "\n",
    "Here, we will show how to use the [Design](https://docs.flexcompute.com/projects/tidy3d/en/v2.6.0rc1/api/plugins/design_readme.html) plugin, introduced in `Tidy3d` version 2.6.0, to programmatically define and run a parameter sweep and then use its convenient container for managing the resulting data. See the [Design Space Exploration Plugin](https://www.flexcompute.com/tidy3d/examples/notebooks/Design/) notebook for a detailed example on how to use it.\n",
    "\n",
    "<img src=\"img/all_dielectric.png\" alt=\"MIM\"  width=\"400\"/>\n",
    "\n",
    "You can find related content in [MIM resonator](https://www.flexcompute.com/tidy3d/examples/notebooks/MIMResonator/), [Dielectric metasurface absorber](https://www.flexcompute.com/tidy3d/examples/notebooks/DielectricMetasurfaceAbsorber/), and [CMOS RGB image sensor](https://www.flexcompute.com/tidy3d/examples/notebooks/CMOSRGBSensor/).\n",
    "\n",
    "If you are new to the finite-difference time-domain (FDTD) method, we highly recommend going through our [FDTD101](https://www.flexcompute.com/fdtd101/) tutorials. FDTD simulations can diverge due to various reasons. If you run into any simulation divergence issues, please follow the steps outlined in our [troubleshooting guide](https://www.flexcompute.com/tidy3d/examples/notebooks/DivergedFDTDSimulation/) to resolve it. \n",
    "\n"
   ]
  },
  {
   "cell_type": "markdown",
   "metadata": {},
   "source": [
    "First we will include all the libraries needed to run the notebook and also include the `Design` plugin as `tdd`."
   ]
  },
  {
   "cell_type": "code",
   "execution_count": 1,
   "metadata": {},
   "outputs": [],
   "source": [
    "# Standard python imports.\n",
    "import numpy as np\n",
    "import matplotlib.pylab as plt\n",
    "from scipy.signal import find_peaks\n",
    "import pandas as pd\n",
    "\n",
    "# Import regular tidy3d.\n",
    "import tidy3d as td\n",
    "import tidy3d.web as web\n",
    "import tidy3d.plugins.design as tdd"
   ]
  },
  {
   "cell_type": "markdown",
   "metadata": {},
   "source": [
    "## Simulation Set Up\n",
    "\n",
    "The device geometry is comprised of a periodic pattern of dielectric multilayer stacks. Each unit cell consists of a 60 nm thick $SiO_{3}N_{4}$ layer, a 140 nm thick $TiO_{2}$ spacer layer, and a 100 nm thick $SiO_{2}$ capping layer. The thin film multilayer was built by successive material depositions into a silica substrate. Below, we will define the device geometric parameters."
   ]
  },
  {
   "cell_type": "code",
   "execution_count": 2,
   "metadata": {},
   "outputs": [],
   "source": [
    "period = 0.35  # Unit cell period (um).\n",
    "gap = 0.15  # Gap between adjacent unit cells (um).\n",
    "sio2_thick = 0.10  # SiO2 dielectric thin film thickness (um).\n",
    "tio2_thick = 0.14  # TiO2 dielectric thin film thickness (um).\n",
    "si3n4_thick = 0.06  # Si3N4 dielectric thin film thickness (um).\n",
    "sub_thick = 0.6  # SiO2 substrate thickness (um).\n",
    "air_thick = 1.0  # Upper air layer thickness (um)."
   ]
  },
  {
   "cell_type": "markdown",
   "metadata": {},
   "source": [
    "Material definition."
   ]
  },
  {
   "cell_type": "code",
   "execution_count": 3,
   "metadata": {},
   "outputs": [],
   "source": [
    "n_sio2 = 1.45  # SiO2 refractive index.\n",
    "n_tio2 = 2.41  # TiO2 refractive index.\n",
    "n_si3n4 = 2.00  # Si3N4 refractive index.\n",
    "\n",
    "mat_sio2 = td.Medium(permittivity=n_sio2**2)  # SiO2.\n",
    "mat_tio2 = td.Medium(permittivity=n_tio2**2)  # TiO2.\n",
    "mat_si3n4 = td.Medium(permittivity=n_si3n4**2)  # Si3N4.\n",
    "mat_air = td.Medium(permittivity=1)  # Air."
   ]
  },
  {
   "cell_type": "markdown",
   "metadata": {},
   "source": [
    "Next, we define the wavelength, frequencies, and other simulation parameters."
   ]
  },
  {
   "cell_type": "code",
   "execution_count": 4,
   "metadata": {},
   "outputs": [],
   "source": [
    "wl_min = 0.400  # Minimum simulation wavelength (um).\n",
    "wl_max = 0.700  # Maximum simulation wavelength (um).\n",
    "n_wl = 151  # Number of wavelength points within the simulation bandwidth.\n",
    "wl_res = np.asarray([0.63, 0.52, 0.45])  # Resonance wavelengths of RGB pixels.\n",
    "run_time = 2e-12  # Simulation run time (s).\n",
    "\n",
    "wl_c = (wl_min + wl_max) / 2  # Central simulation wavelength (um).\n",
    "wl_range = np.linspace(wl_min, wl_max, n_wl)  # Simulation wavelength range (um).\n",
    "freq_c = td.C_0 / wl_c  # Central simulation frequency (Hz).\n",
    "freq_range = td.C_0 / wl_range  # Simulation frequency range (Hz).\n",
    "freq_bw = 0.5 * (freq_range[0] - freq_range[-1])  # Source bandwidth (Hz).\n",
    "freq_res = td.C_0 / wl_res  # Resonance frequencies (Hz).\n",
    "\n",
    "size_z = (\n",
    "    sub_thick + si3n4_thick + tio2_thick + sio2_thick + air_thick\n",
    ")  # Simulation size in the z-direction (um)."
   ]
  },
  {
   "cell_type": "markdown",
   "metadata": {},
   "source": [
    "The next function defines the device unit cell. Here, we will define the dielectric stack structure, a plane wave source, and include a flux monitor to calculate the reflectance. The function accepts the unit cell `period` as an input parameter and returns a `Simulation` object. We will use it later as a pre-processing function to run the parameter sweep."
   ]
  },
  {
   "cell_type": "code",
   "execution_count": 5,
   "metadata": {},
   "outputs": [],
   "source": [
    "def build_sim(period: float = period) -> td.Simulation:\n",
    "    \"\"\"Builds the device simulation and returns a simulation object.\n",
    "    Parameters:\n",
    "        period: float\n",
    "            Device unit cell period (um).\n",
    "    Returns:\n",
    "        sim: tidy3d.Simulation\n",
    "            FDTD simulation object.\n",
    "    \"\"\"\n",
    "\n",
    "\n",
    "    _inf = 10\n",
    "\n",
    "    # Dielectric stack width (um).\n",
    "    width = period - gap\n",
    "\n",
    "    # Simulation size.\n",
    "    size_x = period\n",
    "    size_y = period\n",
    "\n",
    "    # Substrate.\n",
    "    substrate = td.Structure(\n",
    "        geometry=td.Box.from_bounds(\n",
    "            rmin=(-_inf, -_inf, -_inf), rmax=(_inf, _inf, -size_z / 2 + sub_thick)\n",
    "        ),\n",
    "        medium=mat_sio2,\n",
    "    )\n",
    "\n",
    "    # Si3N4 layer.\n",
    "    si3n4_layer = td.Structure(\n",
    "        geometry=td.Box.from_bounds(\n",
    "            rmin=(-width / 2, -width / 2, -size_z / 2 + sub_thick),\n",
    "            rmax=(width / 2, width / 2, -size_z / 2 + sub_thick + si3n4_thick),\n",
    "        ),\n",
    "        medium=mat_si3n4,\n",
    "    )\n",
    "\n",
    "    # TiO2 layer.\n",
    "    tio2_layer = td.Structure(\n",
    "        geometry=td.Box.from_bounds(\n",
    "            rmin=(-width / 2, -width / 2, -size_z / 2 + sub_thick + si3n4_thick),\n",
    "            rmax=(\n",
    "                width / 2,\n",
    "                width / 2,\n",
    "                -size_z / 2 + sub_thick + si3n4_thick + tio2_thick,\n",
    "            ),\n",
    "        ),\n",
    "        medium=mat_tio2,\n",
    "    )\n",
    "\n",
    "    # SiO2 layer.\n",
    "    sio2_layer = td.Structure(\n",
    "        geometry=td.Box.from_bounds(\n",
    "            rmin=(\n",
    "                -width / 2,\n",
    "                -width / 2,\n",
    "                -size_z / 2 + sub_thick + si3n4_thick + tio2_thick,\n",
    "            ),\n",
    "            rmax=(\n",
    "                width / 2,\n",
    "                width / 2,\n",
    "                -size_z / 2 + sub_thick + si3n4_thick + tio2_thick + sio2_thick,\n",
    "            ),\n",
    "        ),\n",
    "        medium=mat_sio2,\n",
    "    )\n",
    "\n",
    "    # Plane wave excitation source.\n",
    "    plane_wave = td.PlaneWave(\n",
    "        source_time=td.GaussianPulse(freq0=freq_c, fwidth=freq_bw),\n",
    "        size=(td.inf, td.inf, 0),\n",
    "        center=(0, 0, size_z / 2 - wl_c / 2),\n",
    "        direction=\"-\",\n",
    "        pol_angle=0,\n",
    "        angle_theta=0,\n",
    "    )\n",
    "\n",
    "    # Flux monitor to measure the reflectance.\n",
    "    ref_monitor = td.FluxMonitor(\n",
    "        center=(0, 0, size_z / 2 - wl_c / 4),\n",
    "        size=(td.inf, td.inf, 0),\n",
    "        freqs=freq_range,\n",
    "        name=\"R\",\n",
    "    )\n",
    "\n",
    "    # Simulation\n",
    "    sim = td.Simulation(\n",
    "        size=(size_x, size_y, size_z),\n",
    "        center=(0, 0, 0),\n",
    "        grid_spec=td.GridSpec.auto(\n",
    "            min_steps_per_wvl=40, wavelength=(wl_min + wl_max) / 2\n",
    "        ),\n",
    "        structures=[substrate, si3n4_layer, tio2_layer, sio2_layer],\n",
    "        sources=[plane_wave],\n",
    "        monitors=[ref_monitor],\n",
    "        run_time=run_time,\n",
    "        boundary_spec=td.BoundarySpec(\n",
    "            x=td.Boundary.periodic(), y=td.Boundary.periodic(), z=td.Boundary.pml()\n",
    "        ),\n",
    "        symmetry=(-1, 1, 0),\n",
    "        medium=mat_air,\n",
    "    )\n",
    "    return sim"
   ]
  },
  {
   "cell_type": "markdown",
   "metadata": {},
   "source": [
    "Before running any simulation, we will visually inspect the simulation setup."
   ]
  },
  {
   "cell_type": "code",
   "execution_count": 6,
   "metadata": {},
   "outputs": [
    {
     "data": {
      "text/html": [
       "\n",
       "    <iframe id=\"simulation-viewer170907659404999385\" src=https://feature-simulation-viewer.d3a9gfg7glllfq.amplifyapp.com/simulation-viewer?uuid=170907659404999385 width=\"800\" height=\"800\" allowfullscreen=\"true\"></iframe>\n",
       "    <script>\n",
       "        \n",
       "    window.postMessageToViewer170907659404999385 = event => {\n",
       "        if(event.data.type === 'viewer'&&event.data.uuid==='170907659404999385'){\n",
       "            document.getElementById('simulation-viewer170907659404999385').contentWindow.postMessage({ type: 'jupyter', uuid:'170907659404999385', value:{\"type\": \"Simulation\", \"center\": [0.0, 0.0, 0.0], \"size\": [0.35, 0.35, 1.9], \"medium\": {\"name\": null, \"frequency_range\": null, \"allow_gain\": false, \"nonlinear_spec\": null, \"modulation_spec\": null, \"heat_spec\": null, \"type\": \"Medium\", \"permittivity\": 1.0, \"conductivity\": 0.0}, \"structures\": [{\"geometry\": {\"type\": \"Box\", \"center\": [0.0, 0.0, -5.175], \"size\": [20.0, 20.0, 9.65]}, \"name\": null, \"type\": \"Structure\", \"medium\": {\"name\": null, \"frequency_range\": null, \"allow_gain\": false, \"nonlinear_spec\": null, \"modulation_spec\": null, \"heat_spec\": null, \"type\": \"Medium\", \"permittivity\": 2.1025, \"conductivity\": 0.0}}, {\"geometry\": {\"type\": \"Box\", \"center\": [0.0, 0.0, -0.31999999999999995], \"size\": [0.19999999999999998, 0.19999999999999998, 0.06]}, \"name\": null, \"type\": \"Structure\", \"medium\": {\"name\": null, \"frequency_range\": null, \"allow_gain\": false, \"nonlinear_spec\": null, \"modulation_spec\": null, \"heat_spec\": null, \"type\": \"Medium\", \"permittivity\": 4.0, \"conductivity\": 0.0}}, {\"geometry\": {\"type\": \"Box\", \"center\": [0.0, 0.0, -0.21999999999999997], \"size\": [0.19999999999999998, 0.19999999999999998, 0.14]}, \"name\": null, \"type\": \"Structure\", \"medium\": {\"name\": null, \"frequency_range\": null, \"allow_gain\": false, \"nonlinear_spec\": null, \"modulation_spec\": null, \"heat_spec\": null, \"type\": \"Medium\", \"permittivity\": 5.8081000000000005, \"conductivity\": 0.0}}, {\"geometry\": {\"type\": \"Box\", \"center\": [0.0, 0.0, -0.09999999999999996], \"size\": [0.19999999999999998, 0.19999999999999998, 0.1]}, \"name\": null, \"type\": \"Structure\", \"medium\": {\"name\": null, \"frequency_range\": null, \"allow_gain\": false, \"nonlinear_spec\": null, \"modulation_spec\": null, \"heat_spec\": null, \"type\": \"Medium\", \"permittivity\": 2.1025, \"conductivity\": 0.0}}], \"symmetry\": [-1, 1, 0], \"sources\": [{\"name\": null, \"type\": \"PlaneWave\", \"center\": [0.0, 0.0, 0.6749999999999999], \"size\": [\"Infinity\", \"Infinity\", 0.0], \"source_time\": {\"amplitude\": 1.0, \"phase\": 0.0, \"type\": \"GaussianPulse\", \"freq0\": 545077196363636.3, \"fwidth\": 160603102500000.0, \"offset\": 5.0, \"remove_dc_component\": true}, \"direction\": \"-\", \"angle_theta\": 0.0, \"angle_phi\": 0.0, \"pol_angle\": 0.0}], \"boundary_spec\": {\"x\": {\"plus\": {\"name\": null, \"type\": \"Periodic\"}, \"minus\": {\"name\": null, \"type\": \"Periodic\"}, \"type\": \"Boundary\"}, \"y\": {\"plus\": {\"name\": null, \"type\": \"Periodic\"}, \"minus\": {\"name\": null, \"type\": \"Periodic\"}, \"type\": \"Boundary\"}, \"z\": {\"plus\": {\"name\": null, \"type\": \"PML\", \"num_layers\": 12, \"parameters\": {\"sigma_order\": 3, \"sigma_min\": 0.0, \"sigma_max\": 1.5, \"type\": \"PMLParams\", \"kappa_order\": 3, \"kappa_min\": 1.0, \"kappa_max\": 3.0, \"alpha_order\": 1, \"alpha_min\": 0.0, \"alpha_max\": 0.0}}, \"minus\": {\"name\": null, \"type\": \"PML\", \"num_layers\": 12, \"parameters\": {\"sigma_order\": 3, \"sigma_min\": 0.0, \"sigma_max\": 1.5, \"type\": \"PMLParams\", \"kappa_order\": 3, \"kappa_min\": 1.0, \"kappa_max\": 3.0, \"alpha_order\": 1, \"alpha_min\": 0.0, \"alpha_max\": 0.0}}, \"type\": \"Boundary\"}, \"type\": \"BoundarySpec\"}, \"monitors\": [{\"type\": \"FluxMonitor\", \"center\": [0.0, 0.0, 0.8125], \"size\": [\"Infinity\", \"Infinity\", 0.0], \"name\": \"R\", \"interval_space\": [1, 1, 1], \"colocate\": true, \"freqs\": [749481145000000.0, 745752383084577.1, 742060539603960.4, 738405068965517.2, 734785436274509.8, 731201117073170.6, 727651597087378.6, 724136371980676.2, 720654947115384.5, 717206837320574.1, 713791566666666.6, 710408668246445.4, 707057683962264.1, 703738164319248.8, 700449668224299.1, 697191762790697.6, 693964023148148.1, 690766032258064.5, 687597380733945.0, 684457666666666.6, 681346495454545.5, 678263479638009.0, 675208238738738.8, 672180399103139.0, 669179593750000.0, 666205462222222.2, 663257650442477.9, 660335810572687.2, 657439600877193.0, 654568685589519.6, 651722734782608.6, 648901424242424.2, 646104435344827.5, 643331454935622.2, 640582175213675.1, 637856293617021.2, 635153512711864.5, 632473540084388.2, 629816088235294.1, 627180874476987.5, 624567620833333.4, 621976053941908.8, 619405904958677.8, 616856909465020.6, 614328807377049.2, 611821342857142.9, 609334264227642.2, 606867323886639.6, 604420278225806.5, 601992887550200.8, 599584916000000.0, 597196131474103.6, 594826305555555.5, 592475213438735.1, 590142633858267.8, 587828349019607.9, 585532144531250.0, 583253809338521.4, 580993135658914.8, 578749918918918.9, 576523957692307.6, 574315053639846.8, 572123011450381.6, 569947638783269.9, 567788746212121.1, 565646147169811.2, 563519657894736.8, 561409097378277.1, 559314287313432.8, 557235052044609.6, 555171218518518.5, 553122616236162.3, 551089077205882.3, 549070435897435.9, 547066529197080.25, 545077196363636.3, 543102278985507.2, 541141620938628.1, 539195068345323.7, 537262469534050.1, 535343674999999.94, 533438537366548.0, 531546911347517.7, 529668653710247.3, 527803623239436.7, 525951680701754.44, 524112688811188.9, 522286512195122.0, 520473017361111.1, 518672072664359.9, 516883548275862.1, 515107316151202.8, 513343250000000.06, 511591225255972.75, 509851119047619.06, 508122810169491.56, 506406179054054.06, 504701107744107.75, 503007479865771.8, 501325180602006.7, 499654096666666.7, 497994116279069.8, 496345129139072.9, 494707026402640.25, 493079700657894.75, 491463045901639.4, 489856957516339.9, 488261332247557.0, 486676068181818.2, 485101064724919.1, 483536222580645.2, 481981443729903.56, 480436631410256.44, 478901690095846.6, 477376525477707.0, 475861044444444.44, 474355155063291.1, 472858766561514.2, 471371789308176.06, 469894134796238.25, 468425715625000.0, 466966445482866.06, 465516239130434.9, 464075012383901.0, 462642682098765.5, 461219166153846.2, 459804383435582.9, 458398253822630.0, 457000698170731.75, 455611638297872.4, 454230996969697.0, 452858697885196.44, 451494665662650.6, 450138825825825.9, 448791104790419.2, 447451429850746.3, 446119729166666.7, 444795931750741.9, 443479967455621.4, 442171766961651.94, 440871261764705.94, 439578384164222.94, 438293067251462.0, 437015244897959.25, 435744851744186.06, 434481823188405.8, 433226095375722.56, 431977605187319.94, 430736290229885.06, 429502088825214.94, 428274940000000.0], \"apodization\": {\"start\": null, \"end\": null, \"width\": null, \"type\": \"ApodizationSpec\"}, \"normal_dir\": \"+\", \"exclude_surfaces\": null}], \"grid_spec\": {\"grid_x\": {\"type\": \"AutoGrid\", \"min_steps_per_wvl\": 40.0, \"max_scale\": 1.4, \"dl_min\": 0.0, \"mesher\": {\"type\": \"GradedMesher\"}}, \"grid_y\": {\"type\": \"AutoGrid\", \"min_steps_per_wvl\": 40.0, \"max_scale\": 1.4, \"dl_min\": 0.0, \"mesher\": {\"type\": \"GradedMesher\"}}, \"grid_z\": {\"type\": \"AutoGrid\", \"min_steps_per_wvl\": 40.0, \"max_scale\": 1.4, \"dl_min\": 0.0, \"mesher\": {\"type\": \"GradedMesher\"}}, \"wavelength\": 0.55, \"override_structures\": [], \"type\": \"GridSpec\"}, \"version\": \"2.6.0rc1\", \"run_time\": 2e-12, \"shutoff\": 1e-05, \"subpixel\": true, \"normalize_index\": 0, \"courant\": 0.99}}, '*')\n",
       "        }\n",
       "    };\n",
       "    window.addEventListener(\n",
       "        'message',\n",
       "        window.postMessageToViewer170907659404999385,\n",
       "        false\n",
       "    );\n",
       "    \n",
       "    </script>\n",
       "    "
      ],
      "text/plain": [
       "<IPython.core.display.HTML object>"
      ]
     },
     "metadata": {},
     "output_type": "display_data"
    }
   ],
   "source": [
    "sim = build_sim()\n",
    "sim.plot_3d()"
   ]
  },
  {
   "cell_type": "markdown",
   "metadata": {},
   "source": [
    "## Design Set Up\n",
    "\n",
    "Now, we want to visualize how the device reflectance spectrum evolves when we vary the unit cell period from 0.3 $\\mu m$ to 0.4 $\\mu m$. Then, we will use the [Design](https://docs.flexcompute.com/projects/tidy3d/en/v2.6.0rc1/api/plugins/design_readme.html) plugin to perform a parameter sweep. \n",
    "\n",
    "The `Design` plugin uses the concept of [DesignSpace](https://docs.flexcompute.com/projects/tidy3d/en/v2.6.0rc1/api/_autosummary/tidy3d.plugins.design.DesignSpace.html#tidy3d.plugins.design.DesignSpace), which gathers the design method and design parameters in a single object. So, we will start by defining our design parameter as a [tdd.ParameterFloat](https://docs.flexcompute.com/projects/tidy3d/en/v2.6.0rc1/api/_autosummary/tidy3d.plugins.design.ParameterFloat.html#tidy3d.plugins.design.ParameterFloat) instance and give it a range.\n",
    "\n",
    "> Note: we need to ensure that the parameter name argument matches the function argument name in our `build_sim()` function, which we will use to construct the simulations for the parameter sweep."
   ]
  },
  {
   "cell_type": "code",
   "execution_count": 7,
   "metadata": {},
   "outputs": [],
   "source": [
    "param_p = tdd.ParameterFloat(name=\"period\", span=(0.3, 0.4), num_points=11)"
   ]
  },
  {
   "cell_type": "markdown",
   "metadata": {},
   "source": [
    "Next, we will define a [tdd.MethodGrid](https://docs.flexcompute.com/projects/tidy3d/en/v2.6.0rc1/api/_autosummary/tidy3d.plugins.design.MethodGrid.html#tidy3d.plugins.design.MethodGrid) which allows for a grid search over the parameter space, and then combine everything into a [tdd.DesignSpace](https://docs.flexcompute.com/projects/tidy3d/en/v2.6.0rc1/api/_autosummary/tidy3d.plugins.design.DesignSpace.html#tidy3d.plugins.design.DesignSpace)."
   ]
  },
  {
   "cell_type": "code",
   "execution_count": 8,
   "metadata": {},
   "outputs": [],
   "source": [
    "method = tdd.MethodGrid()\n",
    "design_space = tdd.DesignSpace(parameters=[param_p], method=method)"
   ]
  },
  {
   "cell_type": "markdown",
   "metadata": {},
   "source": [
    "To run the parameter sweep, we need to define `pre`- and `post`-processing functions to respectively create the simulations and process their results. That enables the design plugin to take advantage of parallelism to perform `Batch` processing under the hood. \n",
    "\n",
    "Our `pre`-processing function is the `build_sim()` function defined before. In our `post`-processing function, we will illustrate how to return single values, like the reflectance peak value and wavelength, as well as multidimensional data as the raw monitor dataset."
   ]
  },
  {
   "cell_type": "code",
   "execution_count": 9,
   "metadata": {},
   "outputs": [],
   "source": [
    "# Post-processing function.\n",
    "def fn_post(sim_data: td.SimulationData = None) -> dict:\n",
    "    \"\"\"Pos-processing function to calculate and return the reflectance peak \n",
    "    in addition to the reflectance FluxMonitor.\n",
    "    Parameters:\n",
    "        sim_data: tidy3d.SimulationData\n",
    "            Simulation data object where to get results from.\n",
    "    Returns:\n",
    "        dict:\n",
    "            A dictionary containing the reflectance monitor,\n",
    "            the reflectance peak and wavelength.\n",
    "    \"\"\"    \n",
    "    R_data = sim_data[\"R\"]\n",
    "    R = R_data.flux.values\n",
    "    wavelength = td.C_0 / R_data.flux.f.values\n",
    "    peaks_id, _ = find_peaks(R, height=0.6)\n",
    "    peak_R = R[peaks_id[0]]\n",
    "    peak_wvl = wavelength[peaks_id[0]]\n",
    "    return {\n",
    "        \"Reflectance\": R_data,\n",
    "        \"Peak Reflectance\": peak_R,\n",
    "        \"Peak Wavelength\": peak_wvl,\n",
    "    }"
   ]
  },
  {
   "cell_type": "markdown",
   "metadata": {},
   "source": [
    "## Run Design\n",
    "\n",
    "Finally, we will pass our pre-processing and post-processing functions to the `DesignSpace.run_batch()` method to get our results."
   ]
  },
  {
   "cell_type": "code",
   "execution_count": 10,
   "metadata": {},
   "outputs": [
    {
     "data": {
      "text/html": [
       "<pre style=\"white-space:pre;overflow-x:auto;line-height:normal;font-family:Menlo,'DejaVu Sans Mono',consolas,'Courier New',monospace\"><span style=\"color: #7fbfbf; text-decoration-color: #7fbfbf\">20:29:55 -03 </span>Created task <span style=\"color: #008000; text-decoration-color: #008000\">'{'</span>period': <span style=\"color: #008080; text-decoration-color: #008080; font-weight: bold\">0.3</span><span style=\"font-weight: bold\">}</span><span style=\"color: #008000; text-decoration-color: #008000\">' with task_id </span>                       \n",
       "<span style=\"color: #7fbfbf; text-decoration-color: #7fbfbf\">             </span><span style=\"color: #008000; text-decoration-color: #008000\">'</span>fdve-<span style=\"color: #ffff00; text-decoration-color: #ffff00\">9b2a528d-fe89-46d1-add3-2908cafda49b</span>' and task_type <span style=\"color: #008000; text-decoration-color: #008000\">'FDTD'</span>.  \n",
       "</pre>\n"
      ],
      "text/plain": [
       "\u001b[2;36m20:29:55 -03\u001b[0m\u001b[2;36m \u001b[0mCreated task \u001b[32m'\u001b[0m\u001b[32m{\u001b[0m\u001b[32m'\u001b[0mperiod': \u001b[1;36m0.3\u001b[0m\u001b[1m}\u001b[0m\u001b[32m' with task_id \u001b[0m                       \n",
       "\u001b[2;36m             \u001b[0m\u001b[32m'\u001b[0mfdve-\u001b[93m9b2a528d-fe89-46d1-add3-2908cafda49b\u001b[0m' and task_type \u001b[32m'FDTD'\u001b[0m.  \n"
      ]
     },
     "metadata": {},
     "output_type": "display_data"
    },
    {
     "data": {
      "text/html": [
       "<pre style=\"white-space:pre;overflow-x:auto;line-height:normal;font-family:Menlo,'DejaVu Sans Mono',consolas,'Courier New',monospace\"><span style=\"color: #7fbfbf; text-decoration-color: #7fbfbf\">             </span>View task using web UI at                                          \n",
       "<span style=\"color: #7fbfbf; text-decoration-color: #7fbfbf\">             </span><a href=\"https://tidy3d.simulation.cloud/workbench?taskId=fdve-9b2a528d-fe89-46d1-add3-2908cafda49b\" target=\"_blank\"><span style=\"color: #008000; text-decoration-color: #008000\">'https://tidy3d.simulation.cloud/workbench?taskId=fdve-9b2a528d-fe8</span></a>\n",
       "<span style=\"color: #7fbfbf; text-decoration-color: #7fbfbf\">             </span><a href=\"https://tidy3d.simulation.cloud/workbench?taskId=fdve-9b2a528d-fe89-46d1-add3-2908cafda49b\" target=\"_blank\"><span style=\"color: #008000; text-decoration-color: #008000\">9-46d1-add3-2908cafda49b'</span></a>.                                         \n",
       "</pre>\n"
      ],
      "text/plain": [
       "\u001b[2;36m            \u001b[0m\u001b[2;36m \u001b[0mView task using web UI at                                          \n",
       "\u001b[2;36m             \u001b[0m\u001b]8;id=357543;https://tidy3d.simulation.cloud/workbench?taskId=fdve-9b2a528d-fe89-46d1-add3-2908cafda49b\u001b\\\u001b[32m'https://tidy3d.simulation.cloud/workbench?\u001b[0m\u001b]8;;\u001b\\\u001b]8;id=13386;https://tidy3d.simulation.cloud/workbench?taskId=fdve-9b2a528d-fe89-46d1-add3-2908cafda49b\u001b\\\u001b[32mtaskId\u001b[0m\u001b]8;;\u001b\\\u001b]8;id=357543;https://tidy3d.simulation.cloud/workbench?taskId=fdve-9b2a528d-fe89-46d1-add3-2908cafda49b\u001b\\\u001b[32m=\u001b[0m\u001b]8;;\u001b\\\u001b]8;id=428105;https://tidy3d.simulation.cloud/workbench?taskId=fdve-9b2a528d-fe89-46d1-add3-2908cafda49b\u001b\\\u001b[32mfdve\u001b[0m\u001b]8;;\u001b\\\u001b]8;id=357543;https://tidy3d.simulation.cloud/workbench?taskId=fdve-9b2a528d-fe89-46d1-add3-2908cafda49b\u001b\\\u001b[32m-9b2a528d-fe8\u001b[0m\u001b]8;;\u001b\\\n",
       "\u001b[2;36m             \u001b[0m\u001b]8;id=357543;https://tidy3d.simulation.cloud/workbench?taskId=fdve-9b2a528d-fe89-46d1-add3-2908cafda49b\u001b\\\u001b[32m9-46d1-add3-2908cafda49b'\u001b[0m\u001b]8;;\u001b\\.                                         \n"
      ]
     },
     "metadata": {},
     "output_type": "display_data"
    },
    {
     "data": {
      "application/vnd.jupyter.widget-view+json": {
       "model_id": "5ecb1e07f5ce4d5590f89cf97e80752e",
       "version_major": 2,
       "version_minor": 0
      },
      "text/plain": [
       "Output()"
      ]
     },
     "metadata": {},
     "output_type": "display_data"
    },
    {
     "data": {
      "text/html": [
       "<pre style=\"white-space:pre;overflow-x:auto;line-height:normal;font-family:Menlo,'DejaVu Sans Mono',consolas,'Courier New',monospace\"></pre>\n"
      ],
      "text/plain": []
     },
     "metadata": {},
     "output_type": "display_data"
    },
    {
     "data": {
      "text/html": [
       "<pre style=\"white-space:pre;overflow-x:auto;line-height:normal;font-family:Menlo,'DejaVu Sans Mono',consolas,'Courier New',monospace\">\n",
       "</pre>\n"
      ],
      "text/plain": [
       "\n"
      ]
     },
     "metadata": {},
     "output_type": "display_data"
    },
    {
     "data": {
      "text/html": [
       "<pre style=\"white-space:pre;overflow-x:auto;line-height:normal;font-family:Menlo,'DejaVu Sans Mono',consolas,'Courier New',monospace\"><span style=\"color: #7fbfbf; text-decoration-color: #7fbfbf\">20:29:57 -03 </span>Created task <span style=\"color: #008000; text-decoration-color: #008000\">'{'</span>period': <span style=\"color: #008080; text-decoration-color: #008080; font-weight: bold\">0.31</span><span style=\"font-weight: bold\">}</span><span style=\"color: #008000; text-decoration-color: #008000\">' with task_id </span>                      \n",
       "<span style=\"color: #7fbfbf; text-decoration-color: #7fbfbf\">             </span><span style=\"color: #008000; text-decoration-color: #008000\">'</span>fdve-<span style=\"color: #ffff00; text-decoration-color: #ffff00\">7d435325-28b0-4f2e-85bd-284cb1608d1e</span>' and task_type <span style=\"color: #008000; text-decoration-color: #008000\">'FDTD'</span>.  \n",
       "</pre>\n"
      ],
      "text/plain": [
       "\u001b[2;36m20:29:57 -03\u001b[0m\u001b[2;36m \u001b[0mCreated task \u001b[32m'\u001b[0m\u001b[32m{\u001b[0m\u001b[32m'\u001b[0mperiod': \u001b[1;36m0.31\u001b[0m\u001b[1m}\u001b[0m\u001b[32m' with task_id \u001b[0m                      \n",
       "\u001b[2;36m             \u001b[0m\u001b[32m'\u001b[0mfdve-\u001b[93m7d435325-28b0-4f2e-85bd-284cb1608d1e\u001b[0m' and task_type \u001b[32m'FDTD'\u001b[0m.  \n"
      ]
     },
     "metadata": {},
     "output_type": "display_data"
    },
    {
     "data": {
      "text/html": [
       "<pre style=\"white-space:pre;overflow-x:auto;line-height:normal;font-family:Menlo,'DejaVu Sans Mono',consolas,'Courier New',monospace\"><span style=\"color: #7fbfbf; text-decoration-color: #7fbfbf\">             </span>View task using web UI at                                          \n",
       "<span style=\"color: #7fbfbf; text-decoration-color: #7fbfbf\">             </span><a href=\"https://tidy3d.simulation.cloud/workbench?taskId=fdve-7d435325-28b0-4f2e-85bd-284cb1608d1e\" target=\"_blank\"><span style=\"color: #008000; text-decoration-color: #008000\">'https://tidy3d.simulation.cloud/workbench?taskId=fdve-7d435325-28b</span></a>\n",
       "<span style=\"color: #7fbfbf; text-decoration-color: #7fbfbf\">             </span><a href=\"https://tidy3d.simulation.cloud/workbench?taskId=fdve-7d435325-28b0-4f2e-85bd-284cb1608d1e\" target=\"_blank\"><span style=\"color: #008000; text-decoration-color: #008000\">0-4f2e-85bd-284cb1608d1e'</span></a>.                                         \n",
       "</pre>\n"
      ],
      "text/plain": [
       "\u001b[2;36m            \u001b[0m\u001b[2;36m \u001b[0mView task using web UI at                                          \n",
       "\u001b[2;36m             \u001b[0m\u001b]8;id=219137;https://tidy3d.simulation.cloud/workbench?taskId=fdve-7d435325-28b0-4f2e-85bd-284cb1608d1e\u001b\\\u001b[32m'https://tidy3d.simulation.cloud/workbench?\u001b[0m\u001b]8;;\u001b\\\u001b]8;id=747348;https://tidy3d.simulation.cloud/workbench?taskId=fdve-7d435325-28b0-4f2e-85bd-284cb1608d1e\u001b\\\u001b[32mtaskId\u001b[0m\u001b]8;;\u001b\\\u001b]8;id=219137;https://tidy3d.simulation.cloud/workbench?taskId=fdve-7d435325-28b0-4f2e-85bd-284cb1608d1e\u001b\\\u001b[32m=\u001b[0m\u001b]8;;\u001b\\\u001b]8;id=747399;https://tidy3d.simulation.cloud/workbench?taskId=fdve-7d435325-28b0-4f2e-85bd-284cb1608d1e\u001b\\\u001b[32mfdve\u001b[0m\u001b]8;;\u001b\\\u001b]8;id=219137;https://tidy3d.simulation.cloud/workbench?taskId=fdve-7d435325-28b0-4f2e-85bd-284cb1608d1e\u001b\\\u001b[32m-7d435325-28b\u001b[0m\u001b]8;;\u001b\\\n",
       "\u001b[2;36m             \u001b[0m\u001b]8;id=219137;https://tidy3d.simulation.cloud/workbench?taskId=fdve-7d435325-28b0-4f2e-85bd-284cb1608d1e\u001b\\\u001b[32m0-4f2e-85bd-284cb1608d1e'\u001b[0m\u001b]8;;\u001b\\.                                         \n"
      ]
     },
     "metadata": {},
     "output_type": "display_data"
    },
    {
     "data": {
      "application/vnd.jupyter.widget-view+json": {
       "model_id": "52f9d106c41f4d5e8b916b96b028df39",
       "version_major": 2,
       "version_minor": 0
      },
      "text/plain": [
       "Output()"
      ]
     },
     "metadata": {},
     "output_type": "display_data"
    },
    {
     "data": {
      "text/html": [
       "<pre style=\"white-space:pre;overflow-x:auto;line-height:normal;font-family:Menlo,'DejaVu Sans Mono',consolas,'Courier New',monospace\"></pre>\n"
      ],
      "text/plain": []
     },
     "metadata": {},
     "output_type": "display_data"
    },
    {
     "data": {
      "text/html": [
       "<pre style=\"white-space:pre;overflow-x:auto;line-height:normal;font-family:Menlo,'DejaVu Sans Mono',consolas,'Courier New',monospace\">\n",
       "</pre>\n"
      ],
      "text/plain": [
       "\n"
      ]
     },
     "metadata": {},
     "output_type": "display_data"
    },
    {
     "data": {
      "text/html": [
       "<pre style=\"white-space:pre;overflow-x:auto;line-height:normal;font-family:Menlo,'DejaVu Sans Mono',consolas,'Courier New',monospace\"><span style=\"color: #7fbfbf; text-decoration-color: #7fbfbf\">20:29:58 -03 </span>Created task <span style=\"color: #008000; text-decoration-color: #008000\">'{'</span>period': <span style=\"color: #008080; text-decoration-color: #008080; font-weight: bold\">0.32</span><span style=\"font-weight: bold\">}</span><span style=\"color: #008000; text-decoration-color: #008000\">' with task_id </span>                      \n",
       "<span style=\"color: #7fbfbf; text-decoration-color: #7fbfbf\">             </span><span style=\"color: #008000; text-decoration-color: #008000\">'</span>fdve-<span style=\"color: #ffff00; text-decoration-color: #ffff00\">20fc4a7a-2a2b-4ea8-8353-9854d5fccbfc</span>' and task_type <span style=\"color: #008000; text-decoration-color: #008000\">'FDTD'</span>.  \n",
       "</pre>\n"
      ],
      "text/plain": [
       "\u001b[2;36m20:29:58 -03\u001b[0m\u001b[2;36m \u001b[0mCreated task \u001b[32m'\u001b[0m\u001b[32m{\u001b[0m\u001b[32m'\u001b[0mperiod': \u001b[1;36m0.32\u001b[0m\u001b[1m}\u001b[0m\u001b[32m' with task_id \u001b[0m                      \n",
       "\u001b[2;36m             \u001b[0m\u001b[32m'\u001b[0mfdve-\u001b[93m20fc4a7a-2a2b-4ea8-8353-9854d5fccbfc\u001b[0m' and task_type \u001b[32m'FDTD'\u001b[0m.  \n"
      ]
     },
     "metadata": {},
     "output_type": "display_data"
    },
    {
     "data": {
      "text/html": [
       "<pre style=\"white-space:pre;overflow-x:auto;line-height:normal;font-family:Menlo,'DejaVu Sans Mono',consolas,'Courier New',monospace\"><span style=\"color: #7fbfbf; text-decoration-color: #7fbfbf\">             </span>View task using web UI at                                          \n",
       "<span style=\"color: #7fbfbf; text-decoration-color: #7fbfbf\">             </span><a href=\"https://tidy3d.simulation.cloud/workbench?taskId=fdve-20fc4a7a-2a2b-4ea8-8353-9854d5fccbfc\" target=\"_blank\"><span style=\"color: #008000; text-decoration-color: #008000\">'https://tidy3d.simulation.cloud/workbench?taskId=fdve-20fc4a7a-2a2</span></a>\n",
       "<span style=\"color: #7fbfbf; text-decoration-color: #7fbfbf\">             </span><a href=\"https://tidy3d.simulation.cloud/workbench?taskId=fdve-20fc4a7a-2a2b-4ea8-8353-9854d5fccbfc\" target=\"_blank\"><span style=\"color: #008000; text-decoration-color: #008000\">b-4ea8-8353-9854d5fccbfc'</span></a>.                                         \n",
       "</pre>\n"
      ],
      "text/plain": [
       "\u001b[2;36m            \u001b[0m\u001b[2;36m \u001b[0mView task using web UI at                                          \n",
       "\u001b[2;36m             \u001b[0m\u001b]8;id=977447;https://tidy3d.simulation.cloud/workbench?taskId=fdve-20fc4a7a-2a2b-4ea8-8353-9854d5fccbfc\u001b\\\u001b[32m'https://tidy3d.simulation.cloud/workbench?\u001b[0m\u001b]8;;\u001b\\\u001b]8;id=775167;https://tidy3d.simulation.cloud/workbench?taskId=fdve-20fc4a7a-2a2b-4ea8-8353-9854d5fccbfc\u001b\\\u001b[32mtaskId\u001b[0m\u001b]8;;\u001b\\\u001b]8;id=977447;https://tidy3d.simulation.cloud/workbench?taskId=fdve-20fc4a7a-2a2b-4ea8-8353-9854d5fccbfc\u001b\\\u001b[32m=\u001b[0m\u001b]8;;\u001b\\\u001b]8;id=790265;https://tidy3d.simulation.cloud/workbench?taskId=fdve-20fc4a7a-2a2b-4ea8-8353-9854d5fccbfc\u001b\\\u001b[32mfdve\u001b[0m\u001b]8;;\u001b\\\u001b]8;id=977447;https://tidy3d.simulation.cloud/workbench?taskId=fdve-20fc4a7a-2a2b-4ea8-8353-9854d5fccbfc\u001b\\\u001b[32m-20fc4a7a-2a2\u001b[0m\u001b]8;;\u001b\\\n",
       "\u001b[2;36m             \u001b[0m\u001b]8;id=977447;https://tidy3d.simulation.cloud/workbench?taskId=fdve-20fc4a7a-2a2b-4ea8-8353-9854d5fccbfc\u001b\\\u001b[32mb-4ea8-8353-9854d5fccbfc'\u001b[0m\u001b]8;;\u001b\\.                                         \n"
      ]
     },
     "metadata": {},
     "output_type": "display_data"
    },
    {
     "data": {
      "application/vnd.jupyter.widget-view+json": {
       "model_id": "27734308ae254f26a2d93dffaf2c4cc5",
       "version_major": 2,
       "version_minor": 0
      },
      "text/plain": [
       "Output()"
      ]
     },
     "metadata": {},
     "output_type": "display_data"
    },
    {
     "data": {
      "text/html": [
       "<pre style=\"white-space:pre;overflow-x:auto;line-height:normal;font-family:Menlo,'DejaVu Sans Mono',consolas,'Courier New',monospace\"></pre>\n"
      ],
      "text/plain": []
     },
     "metadata": {},
     "output_type": "display_data"
    },
    {
     "data": {
      "text/html": [
       "<pre style=\"white-space:pre;overflow-x:auto;line-height:normal;font-family:Menlo,'DejaVu Sans Mono',consolas,'Courier New',monospace\">\n",
       "</pre>\n"
      ],
      "text/plain": [
       "\n"
      ]
     },
     "metadata": {},
     "output_type": "display_data"
    },
    {
     "data": {
      "text/html": [
       "<pre style=\"white-space:pre;overflow-x:auto;line-height:normal;font-family:Menlo,'DejaVu Sans Mono',consolas,'Courier New',monospace\"><span style=\"color: #7fbfbf; text-decoration-color: #7fbfbf\">20:30:00 -03 </span>Created task <span style=\"color: #008000; text-decoration-color: #008000\">'{'</span>period': <span style=\"color: #008080; text-decoration-color: #008080; font-weight: bold\">0.33</span><span style=\"font-weight: bold\">}</span><span style=\"color: #008000; text-decoration-color: #008000\">' with task_id </span>                      \n",
       "<span style=\"color: #7fbfbf; text-decoration-color: #7fbfbf\">             </span><span style=\"color: #008000; text-decoration-color: #008000\">'</span>fdve-<span style=\"color: #ffff00; text-decoration-color: #ffff00\">83f30131-b607-4fb4-b034-c8d9e367b275</span>' and task_type <span style=\"color: #008000; text-decoration-color: #008000\">'FDTD'</span>.  \n",
       "</pre>\n"
      ],
      "text/plain": [
       "\u001b[2;36m20:30:00 -03\u001b[0m\u001b[2;36m \u001b[0mCreated task \u001b[32m'\u001b[0m\u001b[32m{\u001b[0m\u001b[32m'\u001b[0mperiod': \u001b[1;36m0.33\u001b[0m\u001b[1m}\u001b[0m\u001b[32m' with task_id \u001b[0m                      \n",
       "\u001b[2;36m             \u001b[0m\u001b[32m'\u001b[0mfdve-\u001b[93m83f30131-b607-4fb4-b034-c8d9e367b275\u001b[0m' and task_type \u001b[32m'FDTD'\u001b[0m.  \n"
      ]
     },
     "metadata": {},
     "output_type": "display_data"
    },
    {
     "data": {
      "text/html": [
       "<pre style=\"white-space:pre;overflow-x:auto;line-height:normal;font-family:Menlo,'DejaVu Sans Mono',consolas,'Courier New',monospace\"><span style=\"color: #7fbfbf; text-decoration-color: #7fbfbf\">             </span>View task using web UI at                                          \n",
       "<span style=\"color: #7fbfbf; text-decoration-color: #7fbfbf\">             </span><a href=\"https://tidy3d.simulation.cloud/workbench?taskId=fdve-83f30131-b607-4fb4-b034-c8d9e367b275\" target=\"_blank\"><span style=\"color: #008000; text-decoration-color: #008000\">'https://tidy3d.simulation.cloud/workbench?taskId=fdve-83f30131-b60</span></a>\n",
       "<span style=\"color: #7fbfbf; text-decoration-color: #7fbfbf\">             </span><a href=\"https://tidy3d.simulation.cloud/workbench?taskId=fdve-83f30131-b607-4fb4-b034-c8d9e367b275\" target=\"_blank\"><span style=\"color: #008000; text-decoration-color: #008000\">7-4fb4-b034-c8d9e367b275'</span></a>.                                         \n",
       "</pre>\n"
      ],
      "text/plain": [
       "\u001b[2;36m            \u001b[0m\u001b[2;36m \u001b[0mView task using web UI at                                          \n",
       "\u001b[2;36m             \u001b[0m\u001b]8;id=27904;https://tidy3d.simulation.cloud/workbench?taskId=fdve-83f30131-b607-4fb4-b034-c8d9e367b275\u001b\\\u001b[32m'https://tidy3d.simulation.cloud/workbench?\u001b[0m\u001b]8;;\u001b\\\u001b]8;id=438414;https://tidy3d.simulation.cloud/workbench?taskId=fdve-83f30131-b607-4fb4-b034-c8d9e367b275\u001b\\\u001b[32mtaskId\u001b[0m\u001b]8;;\u001b\\\u001b]8;id=27904;https://tidy3d.simulation.cloud/workbench?taskId=fdve-83f30131-b607-4fb4-b034-c8d9e367b275\u001b\\\u001b[32m=\u001b[0m\u001b]8;;\u001b\\\u001b]8;id=721396;https://tidy3d.simulation.cloud/workbench?taskId=fdve-83f30131-b607-4fb4-b034-c8d9e367b275\u001b\\\u001b[32mfdve\u001b[0m\u001b]8;;\u001b\\\u001b]8;id=27904;https://tidy3d.simulation.cloud/workbench?taskId=fdve-83f30131-b607-4fb4-b034-c8d9e367b275\u001b\\\u001b[32m-83f30131-b60\u001b[0m\u001b]8;;\u001b\\\n",
       "\u001b[2;36m             \u001b[0m\u001b]8;id=27904;https://tidy3d.simulation.cloud/workbench?taskId=fdve-83f30131-b607-4fb4-b034-c8d9e367b275\u001b\\\u001b[32m7-4fb4-b034-c8d9e367b275'\u001b[0m\u001b]8;;\u001b\\.                                         \n"
      ]
     },
     "metadata": {},
     "output_type": "display_data"
    },
    {
     "data": {
      "application/vnd.jupyter.widget-view+json": {
       "model_id": "7ee03473f45544139085b5e96f1a29a0",
       "version_major": 2,
       "version_minor": 0
      },
      "text/plain": [
       "Output()"
      ]
     },
     "metadata": {},
     "output_type": "display_data"
    },
    {
     "data": {
      "text/html": [
       "<pre style=\"white-space:pre;overflow-x:auto;line-height:normal;font-family:Menlo,'DejaVu Sans Mono',consolas,'Courier New',monospace\"></pre>\n"
      ],
      "text/plain": []
     },
     "metadata": {},
     "output_type": "display_data"
    },
    {
     "data": {
      "text/html": [
       "<pre style=\"white-space:pre;overflow-x:auto;line-height:normal;font-family:Menlo,'DejaVu Sans Mono',consolas,'Courier New',monospace\">\n",
       "</pre>\n"
      ],
      "text/plain": [
       "\n"
      ]
     },
     "metadata": {},
     "output_type": "display_data"
    },
    {
     "data": {
      "text/html": [
       "<pre style=\"white-space:pre;overflow-x:auto;line-height:normal;font-family:Menlo,'DejaVu Sans Mono',consolas,'Courier New',monospace\"><span style=\"color: #7fbfbf; text-decoration-color: #7fbfbf\">20:30:01 -03 </span>Created task <span style=\"color: #008000; text-decoration-color: #008000\">'{'</span>period': <span style=\"color: #008080; text-decoration-color: #008080; font-weight: bold\">0.34</span><span style=\"font-weight: bold\">}</span><span style=\"color: #008000; text-decoration-color: #008000\">' with task_id </span>                      \n",
       "<span style=\"color: #7fbfbf; text-decoration-color: #7fbfbf\">             </span><span style=\"color: #008000; text-decoration-color: #008000\">'</span>fdve-<span style=\"color: #ffff00; text-decoration-color: #ffff00\">f7685166-e804-4dfa-9e69-f5f69acffc88</span>' and task_type <span style=\"color: #008000; text-decoration-color: #008000\">'FDTD'</span>.  \n",
       "</pre>\n"
      ],
      "text/plain": [
       "\u001b[2;36m20:30:01 -03\u001b[0m\u001b[2;36m \u001b[0mCreated task \u001b[32m'\u001b[0m\u001b[32m{\u001b[0m\u001b[32m'\u001b[0mperiod': \u001b[1;36m0.34\u001b[0m\u001b[1m}\u001b[0m\u001b[32m' with task_id \u001b[0m                      \n",
       "\u001b[2;36m             \u001b[0m\u001b[32m'\u001b[0mfdve-\u001b[93mf7685166-e804-4dfa-9e69-f5f69acffc88\u001b[0m' and task_type \u001b[32m'FDTD'\u001b[0m.  \n"
      ]
     },
     "metadata": {},
     "output_type": "display_data"
    },
    {
     "data": {
      "text/html": [
       "<pre style=\"white-space:pre;overflow-x:auto;line-height:normal;font-family:Menlo,'DejaVu Sans Mono',consolas,'Courier New',monospace\"><span style=\"color: #7fbfbf; text-decoration-color: #7fbfbf\">             </span>View task using web UI at                                          \n",
       "<span style=\"color: #7fbfbf; text-decoration-color: #7fbfbf\">             </span><a href=\"https://tidy3d.simulation.cloud/workbench?taskId=fdve-f7685166-e804-4dfa-9e69-f5f69acffc88\" target=\"_blank\"><span style=\"color: #008000; text-decoration-color: #008000\">'https://tidy3d.simulation.cloud/workbench?taskId=fdve-f7685166-e80</span></a>\n",
       "<span style=\"color: #7fbfbf; text-decoration-color: #7fbfbf\">             </span><a href=\"https://tidy3d.simulation.cloud/workbench?taskId=fdve-f7685166-e804-4dfa-9e69-f5f69acffc88\" target=\"_blank\"><span style=\"color: #008000; text-decoration-color: #008000\">4-4dfa-9e69-f5f69acffc88'</span></a>.                                         \n",
       "</pre>\n"
      ],
      "text/plain": [
       "\u001b[2;36m            \u001b[0m\u001b[2;36m \u001b[0mView task using web UI at                                          \n",
       "\u001b[2;36m             \u001b[0m\u001b]8;id=974702;https://tidy3d.simulation.cloud/workbench?taskId=fdve-f7685166-e804-4dfa-9e69-f5f69acffc88\u001b\\\u001b[32m'https://tidy3d.simulation.cloud/workbench?\u001b[0m\u001b]8;;\u001b\\\u001b]8;id=629276;https://tidy3d.simulation.cloud/workbench?taskId=fdve-f7685166-e804-4dfa-9e69-f5f69acffc88\u001b\\\u001b[32mtaskId\u001b[0m\u001b]8;;\u001b\\\u001b]8;id=974702;https://tidy3d.simulation.cloud/workbench?taskId=fdve-f7685166-e804-4dfa-9e69-f5f69acffc88\u001b\\\u001b[32m=\u001b[0m\u001b]8;;\u001b\\\u001b]8;id=604112;https://tidy3d.simulation.cloud/workbench?taskId=fdve-f7685166-e804-4dfa-9e69-f5f69acffc88\u001b\\\u001b[32mfdve\u001b[0m\u001b]8;;\u001b\\\u001b]8;id=974702;https://tidy3d.simulation.cloud/workbench?taskId=fdve-f7685166-e804-4dfa-9e69-f5f69acffc88\u001b\\\u001b[32m-f7685166-e80\u001b[0m\u001b]8;;\u001b\\\n",
       "\u001b[2;36m             \u001b[0m\u001b]8;id=974702;https://tidy3d.simulation.cloud/workbench?taskId=fdve-f7685166-e804-4dfa-9e69-f5f69acffc88\u001b\\\u001b[32m4-4dfa-9e69-f5f69acffc88'\u001b[0m\u001b]8;;\u001b\\.                                         \n"
      ]
     },
     "metadata": {},
     "output_type": "display_data"
    },
    {
     "data": {
      "application/vnd.jupyter.widget-view+json": {
       "model_id": "79dee1d202154bc3a3b55cc6188c65a4",
       "version_major": 2,
       "version_minor": 0
      },
      "text/plain": [
       "Output()"
      ]
     },
     "metadata": {},
     "output_type": "display_data"
    },
    {
     "data": {
      "text/html": [
       "<pre style=\"white-space:pre;overflow-x:auto;line-height:normal;font-family:Menlo,'DejaVu Sans Mono',consolas,'Courier New',monospace\"></pre>\n"
      ],
      "text/plain": []
     },
     "metadata": {},
     "output_type": "display_data"
    },
    {
     "data": {
      "text/html": [
       "<pre style=\"white-space:pre;overflow-x:auto;line-height:normal;font-family:Menlo,'DejaVu Sans Mono',consolas,'Courier New',monospace\">\n",
       "</pre>\n"
      ],
      "text/plain": [
       "\n"
      ]
     },
     "metadata": {},
     "output_type": "display_data"
    },
    {
     "data": {
      "text/html": [
       "<pre style=\"white-space:pre;overflow-x:auto;line-height:normal;font-family:Menlo,'DejaVu Sans Mono',consolas,'Courier New',monospace\"><span style=\"color: #7fbfbf; text-decoration-color: #7fbfbf\">20:30:03 -03 </span>Created task <span style=\"color: #008000; text-decoration-color: #008000\">'{'</span>period': <span style=\"color: #008080; text-decoration-color: #008080; font-weight: bold\">0.35</span><span style=\"font-weight: bold\">}</span><span style=\"color: #008000; text-decoration-color: #008000\">' with task_id </span>                      \n",
       "<span style=\"color: #7fbfbf; text-decoration-color: #7fbfbf\">             </span><span style=\"color: #008000; text-decoration-color: #008000\">'</span>fdve-<span style=\"color: #ffff00; text-decoration-color: #ffff00\">d575b9e7-55d3-4458-a3ed-8e06affa8b9f</span>' and task_type <span style=\"color: #008000; text-decoration-color: #008000\">'FDTD'</span>.  \n",
       "</pre>\n"
      ],
      "text/plain": [
       "\u001b[2;36m20:30:03 -03\u001b[0m\u001b[2;36m \u001b[0mCreated task \u001b[32m'\u001b[0m\u001b[32m{\u001b[0m\u001b[32m'\u001b[0mperiod': \u001b[1;36m0.35\u001b[0m\u001b[1m}\u001b[0m\u001b[32m' with task_id \u001b[0m                      \n",
       "\u001b[2;36m             \u001b[0m\u001b[32m'\u001b[0mfdve-\u001b[93md575b9e7-55d3-4458-a3ed-8e06affa8b9f\u001b[0m' and task_type \u001b[32m'FDTD'\u001b[0m.  \n"
      ]
     },
     "metadata": {},
     "output_type": "display_data"
    },
    {
     "data": {
      "text/html": [
       "<pre style=\"white-space:pre;overflow-x:auto;line-height:normal;font-family:Menlo,'DejaVu Sans Mono',consolas,'Courier New',monospace\"><span style=\"color: #7fbfbf; text-decoration-color: #7fbfbf\">             </span>View task using web UI at                                          \n",
       "<span style=\"color: #7fbfbf; text-decoration-color: #7fbfbf\">             </span><a href=\"https://tidy3d.simulation.cloud/workbench?taskId=fdve-d575b9e7-55d3-4458-a3ed-8e06affa8b9f\" target=\"_blank\"><span style=\"color: #008000; text-decoration-color: #008000\">'https://tidy3d.simulation.cloud/workbench?taskId=fdve-d575b9e7-55d</span></a>\n",
       "<span style=\"color: #7fbfbf; text-decoration-color: #7fbfbf\">             </span><a href=\"https://tidy3d.simulation.cloud/workbench?taskId=fdve-d575b9e7-55d3-4458-a3ed-8e06affa8b9f\" target=\"_blank\"><span style=\"color: #008000; text-decoration-color: #008000\">3-4458-a3ed-8e06affa8b9f'</span></a>.                                         \n",
       "</pre>\n"
      ],
      "text/plain": [
       "\u001b[2;36m            \u001b[0m\u001b[2;36m \u001b[0mView task using web UI at                                          \n",
       "\u001b[2;36m             \u001b[0m\u001b]8;id=582426;https://tidy3d.simulation.cloud/workbench?taskId=fdve-d575b9e7-55d3-4458-a3ed-8e06affa8b9f\u001b\\\u001b[32m'https://tidy3d.simulation.cloud/workbench?\u001b[0m\u001b]8;;\u001b\\\u001b]8;id=143766;https://tidy3d.simulation.cloud/workbench?taskId=fdve-d575b9e7-55d3-4458-a3ed-8e06affa8b9f\u001b\\\u001b[32mtaskId\u001b[0m\u001b]8;;\u001b\\\u001b]8;id=582426;https://tidy3d.simulation.cloud/workbench?taskId=fdve-d575b9e7-55d3-4458-a3ed-8e06affa8b9f\u001b\\\u001b[32m=\u001b[0m\u001b]8;;\u001b\\\u001b]8;id=620524;https://tidy3d.simulation.cloud/workbench?taskId=fdve-d575b9e7-55d3-4458-a3ed-8e06affa8b9f\u001b\\\u001b[32mfdve\u001b[0m\u001b]8;;\u001b\\\u001b]8;id=582426;https://tidy3d.simulation.cloud/workbench?taskId=fdve-d575b9e7-55d3-4458-a3ed-8e06affa8b9f\u001b\\\u001b[32m-d575b9e7-55d\u001b[0m\u001b]8;;\u001b\\\n",
       "\u001b[2;36m             \u001b[0m\u001b]8;id=582426;https://tidy3d.simulation.cloud/workbench?taskId=fdve-d575b9e7-55d3-4458-a3ed-8e06affa8b9f\u001b\\\u001b[32m3-4458-a3ed-8e06affa8b9f'\u001b[0m\u001b]8;;\u001b\\.                                         \n"
      ]
     },
     "metadata": {},
     "output_type": "display_data"
    },
    {
     "data": {
      "application/vnd.jupyter.widget-view+json": {
       "model_id": "e9462edf5a234d5a9a563d9747bdf653",
       "version_major": 2,
       "version_minor": 0
      },
      "text/plain": [
       "Output()"
      ]
     },
     "metadata": {},
     "output_type": "display_data"
    },
    {
     "data": {
      "text/html": [
       "<pre style=\"white-space:pre;overflow-x:auto;line-height:normal;font-family:Menlo,'DejaVu Sans Mono',consolas,'Courier New',monospace\"></pre>\n"
      ],
      "text/plain": []
     },
     "metadata": {},
     "output_type": "display_data"
    },
    {
     "data": {
      "text/html": [
       "<pre style=\"white-space:pre;overflow-x:auto;line-height:normal;font-family:Menlo,'DejaVu Sans Mono',consolas,'Courier New',monospace\">\n",
       "</pre>\n"
      ],
      "text/plain": [
       "\n"
      ]
     },
     "metadata": {},
     "output_type": "display_data"
    },
    {
     "data": {
      "text/html": [
       "<pre style=\"white-space:pre;overflow-x:auto;line-height:normal;font-family:Menlo,'DejaVu Sans Mono',consolas,'Courier New',monospace\"><span style=\"color: #7fbfbf; text-decoration-color: #7fbfbf\">20:30:04 -03 </span>Created task <span style=\"color: #008000; text-decoration-color: #008000\">'{'</span>period': <span style=\"color: #008080; text-decoration-color: #008080; font-weight: bold\">0.36</span><span style=\"font-weight: bold\">}</span><span style=\"color: #008000; text-decoration-color: #008000\">' with task_id </span>                      \n",
       "<span style=\"color: #7fbfbf; text-decoration-color: #7fbfbf\">             </span><span style=\"color: #008000; text-decoration-color: #008000\">'</span>fdve-<span style=\"color: #ffff00; text-decoration-color: #ffff00\">9bd4073d-9a71-4a67-be4d-755b5aa303b6</span>' and task_type <span style=\"color: #008000; text-decoration-color: #008000\">'FDTD'</span>.  \n",
       "</pre>\n"
      ],
      "text/plain": [
       "\u001b[2;36m20:30:04 -03\u001b[0m\u001b[2;36m \u001b[0mCreated task \u001b[32m'\u001b[0m\u001b[32m{\u001b[0m\u001b[32m'\u001b[0mperiod': \u001b[1;36m0.36\u001b[0m\u001b[1m}\u001b[0m\u001b[32m' with task_id \u001b[0m                      \n",
       "\u001b[2;36m             \u001b[0m\u001b[32m'\u001b[0mfdve-\u001b[93m9bd4073d-9a71-4a67-be4d-755b5aa303b6\u001b[0m' and task_type \u001b[32m'FDTD'\u001b[0m.  \n"
      ]
     },
     "metadata": {},
     "output_type": "display_data"
    },
    {
     "data": {
      "text/html": [
       "<pre style=\"white-space:pre;overflow-x:auto;line-height:normal;font-family:Menlo,'DejaVu Sans Mono',consolas,'Courier New',monospace\"><span style=\"color: #7fbfbf; text-decoration-color: #7fbfbf\">             </span>View task using web UI at                                          \n",
       "<span style=\"color: #7fbfbf; text-decoration-color: #7fbfbf\">             </span><a href=\"https://tidy3d.simulation.cloud/workbench?taskId=fdve-9bd4073d-9a71-4a67-be4d-755b5aa303b6\" target=\"_blank\"><span style=\"color: #008000; text-decoration-color: #008000\">'https://tidy3d.simulation.cloud/workbench?taskId=fdve-9bd4073d-9a7</span></a>\n",
       "<span style=\"color: #7fbfbf; text-decoration-color: #7fbfbf\">             </span><a href=\"https://tidy3d.simulation.cloud/workbench?taskId=fdve-9bd4073d-9a71-4a67-be4d-755b5aa303b6\" target=\"_blank\"><span style=\"color: #008000; text-decoration-color: #008000\">1-4a67-be4d-755b5aa303b6'</span></a>.                                         \n",
       "</pre>\n"
      ],
      "text/plain": [
       "\u001b[2;36m            \u001b[0m\u001b[2;36m \u001b[0mView task using web UI at                                          \n",
       "\u001b[2;36m             \u001b[0m\u001b]8;id=56780;https://tidy3d.simulation.cloud/workbench?taskId=fdve-9bd4073d-9a71-4a67-be4d-755b5aa303b6\u001b\\\u001b[32m'https://tidy3d.simulation.cloud/workbench?\u001b[0m\u001b]8;;\u001b\\\u001b]8;id=95742;https://tidy3d.simulation.cloud/workbench?taskId=fdve-9bd4073d-9a71-4a67-be4d-755b5aa303b6\u001b\\\u001b[32mtaskId\u001b[0m\u001b]8;;\u001b\\\u001b]8;id=56780;https://tidy3d.simulation.cloud/workbench?taskId=fdve-9bd4073d-9a71-4a67-be4d-755b5aa303b6\u001b\\\u001b[32m=\u001b[0m\u001b]8;;\u001b\\\u001b]8;id=131759;https://tidy3d.simulation.cloud/workbench?taskId=fdve-9bd4073d-9a71-4a67-be4d-755b5aa303b6\u001b\\\u001b[32mfdve\u001b[0m\u001b]8;;\u001b\\\u001b]8;id=56780;https://tidy3d.simulation.cloud/workbench?taskId=fdve-9bd4073d-9a71-4a67-be4d-755b5aa303b6\u001b\\\u001b[32m-9bd4073d-9a7\u001b[0m\u001b]8;;\u001b\\\n",
       "\u001b[2;36m             \u001b[0m\u001b]8;id=56780;https://tidy3d.simulation.cloud/workbench?taskId=fdve-9bd4073d-9a71-4a67-be4d-755b5aa303b6\u001b\\\u001b[32m1-4a67-be4d-755b5aa303b6'\u001b[0m\u001b]8;;\u001b\\.                                         \n"
      ]
     },
     "metadata": {},
     "output_type": "display_data"
    },
    {
     "data": {
      "application/vnd.jupyter.widget-view+json": {
       "model_id": "d53b8e082d2b4ec7992afe614ea8a4e2",
       "version_major": 2,
       "version_minor": 0
      },
      "text/plain": [
       "Output()"
      ]
     },
     "metadata": {},
     "output_type": "display_data"
    },
    {
     "data": {
      "text/html": [
       "<pre style=\"white-space:pre;overflow-x:auto;line-height:normal;font-family:Menlo,'DejaVu Sans Mono',consolas,'Courier New',monospace\"></pre>\n"
      ],
      "text/plain": []
     },
     "metadata": {},
     "output_type": "display_data"
    },
    {
     "data": {
      "text/html": [
       "<pre style=\"white-space:pre;overflow-x:auto;line-height:normal;font-family:Menlo,'DejaVu Sans Mono',consolas,'Courier New',monospace\">\n",
       "</pre>\n"
      ],
      "text/plain": [
       "\n"
      ]
     },
     "metadata": {},
     "output_type": "display_data"
    },
    {
     "data": {
      "text/html": [
       "<pre style=\"white-space:pre;overflow-x:auto;line-height:normal;font-family:Menlo,'DejaVu Sans Mono',consolas,'Courier New',monospace\"><span style=\"color: #7fbfbf; text-decoration-color: #7fbfbf\">20:30:06 -03 </span>Created task <span style=\"color: #008000; text-decoration-color: #008000\">'{'</span>period': <span style=\"color: #008080; text-decoration-color: #008080; font-weight: bold\">0.37</span><span style=\"font-weight: bold\">}</span><span style=\"color: #008000; text-decoration-color: #008000\">' with task_id </span>                      \n",
       "<span style=\"color: #7fbfbf; text-decoration-color: #7fbfbf\">             </span><span style=\"color: #008000; text-decoration-color: #008000\">'</span>fdve-<span style=\"color: #ffff00; text-decoration-color: #ffff00\">b8876ba3-598a-4ca9-a7b6-59e134e16f51</span>' and task_type <span style=\"color: #008000; text-decoration-color: #008000\">'FDTD'</span>.  \n",
       "</pre>\n"
      ],
      "text/plain": [
       "\u001b[2;36m20:30:06 -03\u001b[0m\u001b[2;36m \u001b[0mCreated task \u001b[32m'\u001b[0m\u001b[32m{\u001b[0m\u001b[32m'\u001b[0mperiod': \u001b[1;36m0.37\u001b[0m\u001b[1m}\u001b[0m\u001b[32m' with task_id \u001b[0m                      \n",
       "\u001b[2;36m             \u001b[0m\u001b[32m'\u001b[0mfdve-\u001b[93mb8876ba3-598a-4ca9-a7b6-59e134e16f51\u001b[0m' and task_type \u001b[32m'FDTD'\u001b[0m.  \n"
      ]
     },
     "metadata": {},
     "output_type": "display_data"
    },
    {
     "data": {
      "text/html": [
       "<pre style=\"white-space:pre;overflow-x:auto;line-height:normal;font-family:Menlo,'DejaVu Sans Mono',consolas,'Courier New',monospace\"><span style=\"color: #7fbfbf; text-decoration-color: #7fbfbf\">             </span>View task using web UI at                                          \n",
       "<span style=\"color: #7fbfbf; text-decoration-color: #7fbfbf\">             </span><a href=\"https://tidy3d.simulation.cloud/workbench?taskId=fdve-b8876ba3-598a-4ca9-a7b6-59e134e16f51\" target=\"_blank\"><span style=\"color: #008000; text-decoration-color: #008000\">'https://tidy3d.simulation.cloud/workbench?taskId=fdve-b8876ba3-598</span></a>\n",
       "<span style=\"color: #7fbfbf; text-decoration-color: #7fbfbf\">             </span><a href=\"https://tidy3d.simulation.cloud/workbench?taskId=fdve-b8876ba3-598a-4ca9-a7b6-59e134e16f51\" target=\"_blank\"><span style=\"color: #008000; text-decoration-color: #008000\">a-4ca9-a7b6-59e134e16f51'</span></a>.                                         \n",
       "</pre>\n"
      ],
      "text/plain": [
       "\u001b[2;36m            \u001b[0m\u001b[2;36m \u001b[0mView task using web UI at                                          \n",
       "\u001b[2;36m             \u001b[0m\u001b]8;id=432666;https://tidy3d.simulation.cloud/workbench?taskId=fdve-b8876ba3-598a-4ca9-a7b6-59e134e16f51\u001b\\\u001b[32m'https://tidy3d.simulation.cloud/workbench?\u001b[0m\u001b]8;;\u001b\\\u001b]8;id=45163;https://tidy3d.simulation.cloud/workbench?taskId=fdve-b8876ba3-598a-4ca9-a7b6-59e134e16f51\u001b\\\u001b[32mtaskId\u001b[0m\u001b]8;;\u001b\\\u001b]8;id=432666;https://tidy3d.simulation.cloud/workbench?taskId=fdve-b8876ba3-598a-4ca9-a7b6-59e134e16f51\u001b\\\u001b[32m=\u001b[0m\u001b]8;;\u001b\\\u001b]8;id=513279;https://tidy3d.simulation.cloud/workbench?taskId=fdve-b8876ba3-598a-4ca9-a7b6-59e134e16f51\u001b\\\u001b[32mfdve\u001b[0m\u001b]8;;\u001b\\\u001b]8;id=432666;https://tidy3d.simulation.cloud/workbench?taskId=fdve-b8876ba3-598a-4ca9-a7b6-59e134e16f51\u001b\\\u001b[32m-b8876ba3-598\u001b[0m\u001b]8;;\u001b\\\n",
       "\u001b[2;36m             \u001b[0m\u001b]8;id=432666;https://tidy3d.simulation.cloud/workbench?taskId=fdve-b8876ba3-598a-4ca9-a7b6-59e134e16f51\u001b\\\u001b[32ma-4ca9-a7b6-59e134e16f51'\u001b[0m\u001b]8;;\u001b\\.                                         \n"
      ]
     },
     "metadata": {},
     "output_type": "display_data"
    },
    {
     "data": {
      "application/vnd.jupyter.widget-view+json": {
       "model_id": "19ebd2815d0345eda27f00169005d395",
       "version_major": 2,
       "version_minor": 0
      },
      "text/plain": [
       "Output()"
      ]
     },
     "metadata": {},
     "output_type": "display_data"
    },
    {
     "data": {
      "text/html": [
       "<pre style=\"white-space:pre;overflow-x:auto;line-height:normal;font-family:Menlo,'DejaVu Sans Mono',consolas,'Courier New',monospace\"></pre>\n"
      ],
      "text/plain": []
     },
     "metadata": {},
     "output_type": "display_data"
    },
    {
     "data": {
      "text/html": [
       "<pre style=\"white-space:pre;overflow-x:auto;line-height:normal;font-family:Menlo,'DejaVu Sans Mono',consolas,'Courier New',monospace\">\n",
       "</pre>\n"
      ],
      "text/plain": [
       "\n"
      ]
     },
     "metadata": {},
     "output_type": "display_data"
    },
    {
     "data": {
      "text/html": [
       "<pre style=\"white-space:pre;overflow-x:auto;line-height:normal;font-family:Menlo,'DejaVu Sans Mono',consolas,'Courier New',monospace\"><span style=\"color: #7fbfbf; text-decoration-color: #7fbfbf\">20:30:07 -03 </span>Created task <span style=\"color: #008000; text-decoration-color: #008000\">'{'</span>period': <span style=\"color: #008080; text-decoration-color: #008080; font-weight: bold\">0.38</span><span style=\"font-weight: bold\">}</span><span style=\"color: #008000; text-decoration-color: #008000\">' with task_id </span>                      \n",
       "<span style=\"color: #7fbfbf; text-decoration-color: #7fbfbf\">             </span><span style=\"color: #008000; text-decoration-color: #008000\">'</span>fdve-<span style=\"color: #ffff00; text-decoration-color: #ffff00\">b8880447-2054-4996-8bc0-177b61aaaf73</span>' and task_type <span style=\"color: #008000; text-decoration-color: #008000\">'FDTD'</span>.  \n",
       "</pre>\n"
      ],
      "text/plain": [
       "\u001b[2;36m20:30:07 -03\u001b[0m\u001b[2;36m \u001b[0mCreated task \u001b[32m'\u001b[0m\u001b[32m{\u001b[0m\u001b[32m'\u001b[0mperiod': \u001b[1;36m0.38\u001b[0m\u001b[1m}\u001b[0m\u001b[32m' with task_id \u001b[0m                      \n",
       "\u001b[2;36m             \u001b[0m\u001b[32m'\u001b[0mfdve-\u001b[93mb8880447-2054-4996-8bc0-177b61aaaf73\u001b[0m' and task_type \u001b[32m'FDTD'\u001b[0m.  \n"
      ]
     },
     "metadata": {},
     "output_type": "display_data"
    },
    {
     "data": {
      "text/html": [
       "<pre style=\"white-space:pre;overflow-x:auto;line-height:normal;font-family:Menlo,'DejaVu Sans Mono',consolas,'Courier New',monospace\"><span style=\"color: #7fbfbf; text-decoration-color: #7fbfbf\">             </span>View task using web UI at                                          \n",
       "<span style=\"color: #7fbfbf; text-decoration-color: #7fbfbf\">             </span><a href=\"https://tidy3d.simulation.cloud/workbench?taskId=fdve-b8880447-2054-4996-8bc0-177b61aaaf73\" target=\"_blank\"><span style=\"color: #008000; text-decoration-color: #008000\">'https://tidy3d.simulation.cloud/workbench?taskId=fdve-b8880447-205</span></a>\n",
       "<span style=\"color: #7fbfbf; text-decoration-color: #7fbfbf\">             </span><a href=\"https://tidy3d.simulation.cloud/workbench?taskId=fdve-b8880447-2054-4996-8bc0-177b61aaaf73\" target=\"_blank\"><span style=\"color: #008000; text-decoration-color: #008000\">4-4996-8bc0-177b61aaaf73'</span></a>.                                         \n",
       "</pre>\n"
      ],
      "text/plain": [
       "\u001b[2;36m            \u001b[0m\u001b[2;36m \u001b[0mView task using web UI at                                          \n",
       "\u001b[2;36m             \u001b[0m\u001b]8;id=827012;https://tidy3d.simulation.cloud/workbench?taskId=fdve-b8880447-2054-4996-8bc0-177b61aaaf73\u001b\\\u001b[32m'https://tidy3d.simulation.cloud/workbench?\u001b[0m\u001b]8;;\u001b\\\u001b]8;id=890112;https://tidy3d.simulation.cloud/workbench?taskId=fdve-b8880447-2054-4996-8bc0-177b61aaaf73\u001b\\\u001b[32mtaskId\u001b[0m\u001b]8;;\u001b\\\u001b]8;id=827012;https://tidy3d.simulation.cloud/workbench?taskId=fdve-b8880447-2054-4996-8bc0-177b61aaaf73\u001b\\\u001b[32m=\u001b[0m\u001b]8;;\u001b\\\u001b]8;id=285578;https://tidy3d.simulation.cloud/workbench?taskId=fdve-b8880447-2054-4996-8bc0-177b61aaaf73\u001b\\\u001b[32mfdve\u001b[0m\u001b]8;;\u001b\\\u001b]8;id=827012;https://tidy3d.simulation.cloud/workbench?taskId=fdve-b8880447-2054-4996-8bc0-177b61aaaf73\u001b\\\u001b[32m-b8880447-205\u001b[0m\u001b]8;;\u001b\\\n",
       "\u001b[2;36m             \u001b[0m\u001b]8;id=827012;https://tidy3d.simulation.cloud/workbench?taskId=fdve-b8880447-2054-4996-8bc0-177b61aaaf73\u001b\\\u001b[32m4-4996-8bc0-177b61aaaf73'\u001b[0m\u001b]8;;\u001b\\.                                         \n"
      ]
     },
     "metadata": {},
     "output_type": "display_data"
    },
    {
     "data": {
      "application/vnd.jupyter.widget-view+json": {
       "model_id": "5f1bc2c9708544dcadb69f3135ee8926",
       "version_major": 2,
       "version_minor": 0
      },
      "text/plain": [
       "Output()"
      ]
     },
     "metadata": {},
     "output_type": "display_data"
    },
    {
     "data": {
      "text/html": [
       "<pre style=\"white-space:pre;overflow-x:auto;line-height:normal;font-family:Menlo,'DejaVu Sans Mono',consolas,'Courier New',monospace\"></pre>\n"
      ],
      "text/plain": []
     },
     "metadata": {},
     "output_type": "display_data"
    },
    {
     "data": {
      "text/html": [
       "<pre style=\"white-space:pre;overflow-x:auto;line-height:normal;font-family:Menlo,'DejaVu Sans Mono',consolas,'Courier New',monospace\">\n",
       "</pre>\n"
      ],
      "text/plain": [
       "\n"
      ]
     },
     "metadata": {},
     "output_type": "display_data"
    },
    {
     "data": {
      "text/html": [
       "<pre style=\"white-space:pre;overflow-x:auto;line-height:normal;font-family:Menlo,'DejaVu Sans Mono',consolas,'Courier New',monospace\"><span style=\"color: #7fbfbf; text-decoration-color: #7fbfbf\">20:30:09 -03 </span>Created task <span style=\"color: #008000; text-decoration-color: #008000\">'{'</span>period': <span style=\"color: #008080; text-decoration-color: #008080; font-weight: bold\">0.39</span><span style=\"font-weight: bold\">}</span><span style=\"color: #008000; text-decoration-color: #008000\">' with task_id </span>                      \n",
       "<span style=\"color: #7fbfbf; text-decoration-color: #7fbfbf\">             </span><span style=\"color: #008000; text-decoration-color: #008000\">'</span>fdve-<span style=\"color: #ffff00; text-decoration-color: #ffff00\">55144cae-1c65-4895-9942-bca2ba98ae5c</span>' and task_type <span style=\"color: #008000; text-decoration-color: #008000\">'FDTD'</span>.  \n",
       "</pre>\n"
      ],
      "text/plain": [
       "\u001b[2;36m20:30:09 -03\u001b[0m\u001b[2;36m \u001b[0mCreated task \u001b[32m'\u001b[0m\u001b[32m{\u001b[0m\u001b[32m'\u001b[0mperiod': \u001b[1;36m0.39\u001b[0m\u001b[1m}\u001b[0m\u001b[32m' with task_id \u001b[0m                      \n",
       "\u001b[2;36m             \u001b[0m\u001b[32m'\u001b[0mfdve-\u001b[93m55144cae-1c65-4895-9942-bca2ba98ae5c\u001b[0m' and task_type \u001b[32m'FDTD'\u001b[0m.  \n"
      ]
     },
     "metadata": {},
     "output_type": "display_data"
    },
    {
     "data": {
      "text/html": [
       "<pre style=\"white-space:pre;overflow-x:auto;line-height:normal;font-family:Menlo,'DejaVu Sans Mono',consolas,'Courier New',monospace\"><span style=\"color: #7fbfbf; text-decoration-color: #7fbfbf\">             </span>View task using web UI at                                          \n",
       "<span style=\"color: #7fbfbf; text-decoration-color: #7fbfbf\">             </span><a href=\"https://tidy3d.simulation.cloud/workbench?taskId=fdve-55144cae-1c65-4895-9942-bca2ba98ae5c\" target=\"_blank\"><span style=\"color: #008000; text-decoration-color: #008000\">'https://tidy3d.simulation.cloud/workbench?taskId=fdve-55144cae-1c6</span></a>\n",
       "<span style=\"color: #7fbfbf; text-decoration-color: #7fbfbf\">             </span><a href=\"https://tidy3d.simulation.cloud/workbench?taskId=fdve-55144cae-1c65-4895-9942-bca2ba98ae5c\" target=\"_blank\"><span style=\"color: #008000; text-decoration-color: #008000\">5-4895-9942-bca2ba98ae5c'</span></a>.                                         \n",
       "</pre>\n"
      ],
      "text/plain": [
       "\u001b[2;36m            \u001b[0m\u001b[2;36m \u001b[0mView task using web UI at                                          \n",
       "\u001b[2;36m             \u001b[0m\u001b]8;id=947489;https://tidy3d.simulation.cloud/workbench?taskId=fdve-55144cae-1c65-4895-9942-bca2ba98ae5c\u001b\\\u001b[32m'https://tidy3d.simulation.cloud/workbench?\u001b[0m\u001b]8;;\u001b\\\u001b]8;id=979369;https://tidy3d.simulation.cloud/workbench?taskId=fdve-55144cae-1c65-4895-9942-bca2ba98ae5c\u001b\\\u001b[32mtaskId\u001b[0m\u001b]8;;\u001b\\\u001b]8;id=947489;https://tidy3d.simulation.cloud/workbench?taskId=fdve-55144cae-1c65-4895-9942-bca2ba98ae5c\u001b\\\u001b[32m=\u001b[0m\u001b]8;;\u001b\\\u001b]8;id=430947;https://tidy3d.simulation.cloud/workbench?taskId=fdve-55144cae-1c65-4895-9942-bca2ba98ae5c\u001b\\\u001b[32mfdve\u001b[0m\u001b]8;;\u001b\\\u001b]8;id=947489;https://tidy3d.simulation.cloud/workbench?taskId=fdve-55144cae-1c65-4895-9942-bca2ba98ae5c\u001b\\\u001b[32m-55144cae-1c6\u001b[0m\u001b]8;;\u001b\\\n",
       "\u001b[2;36m             \u001b[0m\u001b]8;id=947489;https://tidy3d.simulation.cloud/workbench?taskId=fdve-55144cae-1c65-4895-9942-bca2ba98ae5c\u001b\\\u001b[32m5-4895-9942-bca2ba98ae5c'\u001b[0m\u001b]8;;\u001b\\.                                         \n"
      ]
     },
     "metadata": {},
     "output_type": "display_data"
    },
    {
     "data": {
      "application/vnd.jupyter.widget-view+json": {
       "model_id": "6fc495ac10b04ae5a9af00bc2bd18ad2",
       "version_major": 2,
       "version_minor": 0
      },
      "text/plain": [
       "Output()"
      ]
     },
     "metadata": {},
     "output_type": "display_data"
    },
    {
     "data": {
      "text/html": [
       "<pre style=\"white-space:pre;overflow-x:auto;line-height:normal;font-family:Menlo,'DejaVu Sans Mono',consolas,'Courier New',monospace\"></pre>\n"
      ],
      "text/plain": []
     },
     "metadata": {},
     "output_type": "display_data"
    },
    {
     "data": {
      "text/html": [
       "<pre style=\"white-space:pre;overflow-x:auto;line-height:normal;font-family:Menlo,'DejaVu Sans Mono',consolas,'Courier New',monospace\">\n",
       "</pre>\n"
      ],
      "text/plain": [
       "\n"
      ]
     },
     "metadata": {},
     "output_type": "display_data"
    },
    {
     "data": {
      "text/html": [
       "<pre style=\"white-space:pre;overflow-x:auto;line-height:normal;font-family:Menlo,'DejaVu Sans Mono',consolas,'Courier New',monospace\"><span style=\"color: #7fbfbf; text-decoration-color: #7fbfbf\">20:30:10 -03 </span>Created task <span style=\"color: #008000; text-decoration-color: #008000\">'{'</span>period': <span style=\"color: #008080; text-decoration-color: #008080; font-weight: bold\">0.4</span><span style=\"font-weight: bold\">}</span><span style=\"color: #008000; text-decoration-color: #008000\">' with task_id </span>                       \n",
       "<span style=\"color: #7fbfbf; text-decoration-color: #7fbfbf\">             </span><span style=\"color: #008000; text-decoration-color: #008000\">'</span>fdve-<span style=\"color: #ffff00; text-decoration-color: #ffff00\">061bc94e-2ef2-405b-8a48-231e3e728d55</span>' and task_type <span style=\"color: #008000; text-decoration-color: #008000\">'FDTD'</span>.  \n",
       "</pre>\n"
      ],
      "text/plain": [
       "\u001b[2;36m20:30:10 -03\u001b[0m\u001b[2;36m \u001b[0mCreated task \u001b[32m'\u001b[0m\u001b[32m{\u001b[0m\u001b[32m'\u001b[0mperiod': \u001b[1;36m0.4\u001b[0m\u001b[1m}\u001b[0m\u001b[32m' with task_id \u001b[0m                       \n",
       "\u001b[2;36m             \u001b[0m\u001b[32m'\u001b[0mfdve-\u001b[93m061bc94e-2ef2-405b-8a48-231e3e728d55\u001b[0m' and task_type \u001b[32m'FDTD'\u001b[0m.  \n"
      ]
     },
     "metadata": {},
     "output_type": "display_data"
    },
    {
     "data": {
      "text/html": [
       "<pre style=\"white-space:pre;overflow-x:auto;line-height:normal;font-family:Menlo,'DejaVu Sans Mono',consolas,'Courier New',monospace\"><span style=\"color: #7fbfbf; text-decoration-color: #7fbfbf\">             </span>View task using web UI at                                          \n",
       "<span style=\"color: #7fbfbf; text-decoration-color: #7fbfbf\">             </span><a href=\"https://tidy3d.simulation.cloud/workbench?taskId=fdve-061bc94e-2ef2-405b-8a48-231e3e728d55\" target=\"_blank\"><span style=\"color: #008000; text-decoration-color: #008000\">'https://tidy3d.simulation.cloud/workbench?taskId=fdve-061bc94e-2ef</span></a>\n",
       "<span style=\"color: #7fbfbf; text-decoration-color: #7fbfbf\">             </span><a href=\"https://tidy3d.simulation.cloud/workbench?taskId=fdve-061bc94e-2ef2-405b-8a48-231e3e728d55\" target=\"_blank\"><span style=\"color: #008000; text-decoration-color: #008000\">2-405b-8a48-231e3e728d55'</span></a>.                                         \n",
       "</pre>\n"
      ],
      "text/plain": [
       "\u001b[2;36m            \u001b[0m\u001b[2;36m \u001b[0mView task using web UI at                                          \n",
       "\u001b[2;36m             \u001b[0m\u001b]8;id=869376;https://tidy3d.simulation.cloud/workbench?taskId=fdve-061bc94e-2ef2-405b-8a48-231e3e728d55\u001b\\\u001b[32m'https://tidy3d.simulation.cloud/workbench?\u001b[0m\u001b]8;;\u001b\\\u001b]8;id=878861;https://tidy3d.simulation.cloud/workbench?taskId=fdve-061bc94e-2ef2-405b-8a48-231e3e728d55\u001b\\\u001b[32mtaskId\u001b[0m\u001b]8;;\u001b\\\u001b]8;id=869376;https://tidy3d.simulation.cloud/workbench?taskId=fdve-061bc94e-2ef2-405b-8a48-231e3e728d55\u001b\\\u001b[32m=\u001b[0m\u001b]8;;\u001b\\\u001b]8;id=156447;https://tidy3d.simulation.cloud/workbench?taskId=fdve-061bc94e-2ef2-405b-8a48-231e3e728d55\u001b\\\u001b[32mfdve\u001b[0m\u001b]8;;\u001b\\\u001b]8;id=869376;https://tidy3d.simulation.cloud/workbench?taskId=fdve-061bc94e-2ef2-405b-8a48-231e3e728d55\u001b\\\u001b[32m-061bc94e-2ef\u001b[0m\u001b]8;;\u001b\\\n",
       "\u001b[2;36m             \u001b[0m\u001b]8;id=869376;https://tidy3d.simulation.cloud/workbench?taskId=fdve-061bc94e-2ef2-405b-8a48-231e3e728d55\u001b\\\u001b[32m2-405b-8a48-231e3e728d55'\u001b[0m\u001b]8;;\u001b\\.                                         \n"
      ]
     },
     "metadata": {},
     "output_type": "display_data"
    },
    {
     "data": {
      "application/vnd.jupyter.widget-view+json": {
       "model_id": "d5d68d03ad074a1a866ac42372667c91",
       "version_major": 2,
       "version_minor": 0
      },
      "text/plain": [
       "Output()"
      ]
     },
     "metadata": {},
     "output_type": "display_data"
    },
    {
     "data": {
      "text/html": [
       "<pre style=\"white-space:pre;overflow-x:auto;line-height:normal;font-family:Menlo,'DejaVu Sans Mono',consolas,'Courier New',monospace\"></pre>\n"
      ],
      "text/plain": []
     },
     "metadata": {},
     "output_type": "display_data"
    },
    {
     "data": {
      "text/html": [
       "<pre style=\"white-space:pre;overflow-x:auto;line-height:normal;font-family:Menlo,'DejaVu Sans Mono',consolas,'Courier New',monospace\">\n",
       "</pre>\n"
      ],
      "text/plain": [
       "\n"
      ]
     },
     "metadata": {},
     "output_type": "display_data"
    },
    {
     "data": {
      "text/html": [
       "<pre style=\"white-space:pre;overflow-x:auto;line-height:normal;font-family:Menlo,'DejaVu Sans Mono',consolas,'Courier New',monospace\"><span style=\"color: #7fbfbf; text-decoration-color: #7fbfbf\">20:30:18 -03 </span>Started working on Batch.                                          \n",
       "</pre>\n"
      ],
      "text/plain": [
       "\u001b[2;36m20:30:18 -03\u001b[0m\u001b[2;36m \u001b[0mStarted working on Batch.                                          \n"
      ]
     },
     "metadata": {},
     "output_type": "display_data"
    },
    {
     "data": {
      "text/html": [
       "<pre style=\"white-space:pre;overflow-x:auto;line-height:normal;font-family:Menlo,'DejaVu Sans Mono',consolas,'Courier New',monospace\"><span style=\"color: #7fbfbf; text-decoration-color: #7fbfbf\">20:31:52 -03 </span>Maximum FlexCredit cost: <span style=\"color: #008080; text-decoration-color: #008080; font-weight: bold\">0.275</span> for the whole batch.                \n",
       "</pre>\n"
      ],
      "text/plain": [
       "\u001b[2;36m20:31:52 -03\u001b[0m\u001b[2;36m \u001b[0mMaximum FlexCredit cost: \u001b[1;36m0.275\u001b[0m for the whole batch.                \n"
      ]
     },
     "metadata": {},
     "output_type": "display_data"
    },
    {
     "data": {
      "text/html": [
       "<pre style=\"white-space:pre;overflow-x:auto;line-height:normal;font-family:Menlo,'DejaVu Sans Mono',consolas,'Courier New',monospace\"><span style=\"color: #7fbfbf; text-decoration-color: #7fbfbf\">             </span>Use <span style=\"color: #008000; text-decoration-color: #008000\">'Batch.real_cost()'</span> to get the billed FlexCredit cost after the\n",
       "<span style=\"color: #7fbfbf; text-decoration-color: #7fbfbf\">             </span>Batch has completed.                                               \n",
       "</pre>\n"
      ],
      "text/plain": [
       "\u001b[2;36m            \u001b[0m\u001b[2;36m \u001b[0mUse \u001b[32m'Batch.real_cost\u001b[0m\u001b[32m(\u001b[0m\u001b[32m)\u001b[0m\u001b[32m'\u001b[0m to get the billed FlexCredit cost after the\n",
       "\u001b[2;36m             \u001b[0mBatch has completed.                                               \n"
      ]
     },
     "metadata": {},
     "output_type": "display_data"
    },
    {
     "data": {
      "application/vnd.jupyter.widget-view+json": {
       "model_id": "292acae26fea425ebe0c524daf4de769",
       "version_major": 2,
       "version_minor": 0
      },
      "text/plain": [
       "Output()"
      ]
     },
     "metadata": {},
     "output_type": "display_data"
    },
    {
     "data": {
      "text/html": [
       "<pre style=\"white-space:pre;overflow-x:auto;line-height:normal;font-family:Menlo,'DejaVu Sans Mono',consolas,'Courier New',monospace\"><span style=\"color: #7fbfbf; text-decoration-color: #7fbfbf\">20:32:02 -03 </span>Batch complete.                                                    \n",
       "</pre>\n"
      ],
      "text/plain": [
       "\u001b[2;36m20:32:02 -03\u001b[0m\u001b[2;36m \u001b[0mBatch complete.                                                    \n"
      ]
     },
     "metadata": {},
     "output_type": "display_data"
    },
    {
     "data": {
      "text/html": [
       "<pre style=\"white-space:pre;overflow-x:auto;line-height:normal;font-family:Menlo,'DejaVu Sans Mono',consolas,'Courier New',monospace\"></pre>\n"
      ],
      "text/plain": []
     },
     "metadata": {},
     "output_type": "display_data"
    },
    {
     "data": {
      "text/html": [
       "<pre style=\"white-space:pre;overflow-x:auto;line-height:normal;font-family:Menlo,'DejaVu Sans Mono',consolas,'Courier New',monospace\">\n",
       "</pre>\n"
      ],
      "text/plain": [
       "\n"
      ]
     },
     "metadata": {},
     "output_type": "display_data"
    },
    {
     "data": {
      "application/vnd.jupyter.widget-view+json": {
       "model_id": "b15f1f6d7c07401d84f2b26be223a5b9",
       "version_major": 2,
       "version_minor": 0
      },
      "text/plain": [
       "Output()"
      ]
     },
     "metadata": {},
     "output_type": "display_data"
    },
    {
     "data": {
      "text/html": [
       "<pre style=\"white-space:pre;overflow-x:auto;line-height:normal;font-family:Menlo,'DejaVu Sans Mono',consolas,'Courier New',monospace\"></pre>\n"
      ],
      "text/plain": []
     },
     "metadata": {},
     "output_type": "display_data"
    },
    {
     "data": {
      "text/html": [
       "<pre style=\"white-space:pre;overflow-x:auto;line-height:normal;font-family:Menlo,'DejaVu Sans Mono',consolas,'Courier New',monospace\">\n",
       "</pre>\n"
      ],
      "text/plain": [
       "\n"
      ]
     },
     "metadata": {},
     "output_type": "display_data"
    },
    {
     "data": {
      "text/html": [
       "<pre style=\"white-space:pre;overflow-x:auto;line-height:normal;font-family:Menlo,'DejaVu Sans Mono',consolas,'Courier New',monospace\"><span style=\"color: #7fbfbf; text-decoration-color: #7fbfbf\">20:32:07 -03 </span>loading simulation from                                            \n",
       "<span style=\"color: #7fbfbf; text-decoration-color: #7fbfbf\">             </span>.<span style=\"color: #800080; text-decoration-color: #800080\">/</span><span style=\"color: #ff00ff; text-decoration-color: #ff00ff\">fdve-9b2a528d-fe89-46d1-add3-2908cafda49b.hdf5</span>                   \n",
       "</pre>\n"
      ],
      "text/plain": [
       "\u001b[2;36m20:32:07 -03\u001b[0m\u001b[2;36m \u001b[0mloading simulation from                                            \n",
       "\u001b[2;36m             \u001b[0m.\u001b[35m/\u001b[0m\u001b[95mfdve-9b2a528d-fe89-46d1-add3-2908cafda49b.hdf5\u001b[0m                   \n"
      ]
     },
     "metadata": {},
     "output_type": "display_data"
    },
    {
     "data": {
      "application/vnd.jupyter.widget-view+json": {
       "model_id": "ec100d2f80414b398169bd7b09281f56",
       "version_major": 2,
       "version_minor": 0
      },
      "text/plain": [
       "Output()"
      ]
     },
     "metadata": {},
     "output_type": "display_data"
    },
    {
     "data": {
      "text/html": [
       "<pre style=\"white-space:pre;overflow-x:auto;line-height:normal;font-family:Menlo,'DejaVu Sans Mono',consolas,'Courier New',monospace\"></pre>\n"
      ],
      "text/plain": []
     },
     "metadata": {},
     "output_type": "display_data"
    },
    {
     "data": {
      "text/html": [
       "<pre style=\"white-space:pre;overflow-x:auto;line-height:normal;font-family:Menlo,'DejaVu Sans Mono',consolas,'Courier New',monospace\">\n",
       "</pre>\n"
      ],
      "text/plain": [
       "\n"
      ]
     },
     "metadata": {},
     "output_type": "display_data"
    },
    {
     "data": {
      "text/html": [
       "<pre style=\"white-space:pre;overflow-x:auto;line-height:normal;font-family:Menlo,'DejaVu Sans Mono',consolas,'Courier New',monospace\"><span style=\"color: #7fbfbf; text-decoration-color: #7fbfbf\">20:32:08 -03 </span>loading simulation from                                            \n",
       "<span style=\"color: #7fbfbf; text-decoration-color: #7fbfbf\">             </span>.<span style=\"color: #800080; text-decoration-color: #800080\">/</span><span style=\"color: #ff00ff; text-decoration-color: #ff00ff\">fdve-7d435325-28b0-4f2e-85bd-284cb1608d1e.hdf5</span>                   \n",
       "</pre>\n"
      ],
      "text/plain": [
       "\u001b[2;36m20:32:08 -03\u001b[0m\u001b[2;36m \u001b[0mloading simulation from                                            \n",
       "\u001b[2;36m             \u001b[0m.\u001b[35m/\u001b[0m\u001b[95mfdve-7d435325-28b0-4f2e-85bd-284cb1608d1e.hdf5\u001b[0m                   \n"
      ]
     },
     "metadata": {},
     "output_type": "display_data"
    },
    {
     "data": {
      "application/vnd.jupyter.widget-view+json": {
       "model_id": "707065e57a9f498b92bd14d19624368d",
       "version_major": 2,
       "version_minor": 0
      },
      "text/plain": [
       "Output()"
      ]
     },
     "metadata": {},
     "output_type": "display_data"
    },
    {
     "data": {
      "text/html": [
       "<pre style=\"white-space:pre;overflow-x:auto;line-height:normal;font-family:Menlo,'DejaVu Sans Mono',consolas,'Courier New',monospace\"></pre>\n"
      ],
      "text/plain": []
     },
     "metadata": {},
     "output_type": "display_data"
    },
    {
     "data": {
      "text/html": [
       "<pre style=\"white-space:pre;overflow-x:auto;line-height:normal;font-family:Menlo,'DejaVu Sans Mono',consolas,'Courier New',monospace\">\n",
       "</pre>\n"
      ],
      "text/plain": [
       "\n"
      ]
     },
     "metadata": {},
     "output_type": "display_data"
    },
    {
     "data": {
      "text/html": [
       "<pre style=\"white-space:pre;overflow-x:auto;line-height:normal;font-family:Menlo,'DejaVu Sans Mono',consolas,'Courier New',monospace\"><span style=\"color: #7fbfbf; text-decoration-color: #7fbfbf\">20:32:10 -03 </span>loading simulation from                                            \n",
       "<span style=\"color: #7fbfbf; text-decoration-color: #7fbfbf\">             </span>.<span style=\"color: #800080; text-decoration-color: #800080\">/</span><span style=\"color: #ff00ff; text-decoration-color: #ff00ff\">fdve-20fc4a7a-2a2b-4ea8-8353-9854d5fccbfc.hdf5</span>                   \n",
       "</pre>\n"
      ],
      "text/plain": [
       "\u001b[2;36m20:32:10 -03\u001b[0m\u001b[2;36m \u001b[0mloading simulation from                                            \n",
       "\u001b[2;36m             \u001b[0m.\u001b[35m/\u001b[0m\u001b[95mfdve-20fc4a7a-2a2b-4ea8-8353-9854d5fccbfc.hdf5\u001b[0m                   \n"
      ]
     },
     "metadata": {},
     "output_type": "display_data"
    },
    {
     "data": {
      "application/vnd.jupyter.widget-view+json": {
       "model_id": "785ced7b3fb4456185bd37dee87c8c60",
       "version_major": 2,
       "version_minor": 0
      },
      "text/plain": [
       "Output()"
      ]
     },
     "metadata": {},
     "output_type": "display_data"
    },
    {
     "data": {
      "text/html": [
       "<pre style=\"white-space:pre;overflow-x:auto;line-height:normal;font-family:Menlo,'DejaVu Sans Mono',consolas,'Courier New',monospace\"></pre>\n"
      ],
      "text/plain": []
     },
     "metadata": {},
     "output_type": "display_data"
    },
    {
     "data": {
      "text/html": [
       "<pre style=\"white-space:pre;overflow-x:auto;line-height:normal;font-family:Menlo,'DejaVu Sans Mono',consolas,'Courier New',monospace\">\n",
       "</pre>\n"
      ],
      "text/plain": [
       "\n"
      ]
     },
     "metadata": {},
     "output_type": "display_data"
    },
    {
     "data": {
      "text/html": [
       "<pre style=\"white-space:pre;overflow-x:auto;line-height:normal;font-family:Menlo,'DejaVu Sans Mono',consolas,'Courier New',monospace\"><span style=\"color: #7fbfbf; text-decoration-color: #7fbfbf\">20:32:12 -03 </span>loading simulation from                                            \n",
       "<span style=\"color: #7fbfbf; text-decoration-color: #7fbfbf\">             </span>.<span style=\"color: #800080; text-decoration-color: #800080\">/</span><span style=\"color: #ff00ff; text-decoration-color: #ff00ff\">fdve-83f30131-b607-4fb4-b034-c8d9e367b275.hdf5</span>                   \n",
       "</pre>\n"
      ],
      "text/plain": [
       "\u001b[2;36m20:32:12 -03\u001b[0m\u001b[2;36m \u001b[0mloading simulation from                                            \n",
       "\u001b[2;36m             \u001b[0m.\u001b[35m/\u001b[0m\u001b[95mfdve-83f30131-b607-4fb4-b034-c8d9e367b275.hdf5\u001b[0m                   \n"
      ]
     },
     "metadata": {},
     "output_type": "display_data"
    },
    {
     "data": {
      "application/vnd.jupyter.widget-view+json": {
       "model_id": "e005107907ea42d38f654f436b049c94",
       "version_major": 2,
       "version_minor": 0
      },
      "text/plain": [
       "Output()"
      ]
     },
     "metadata": {},
     "output_type": "display_data"
    },
    {
     "data": {
      "text/html": [
       "<pre style=\"white-space:pre;overflow-x:auto;line-height:normal;font-family:Menlo,'DejaVu Sans Mono',consolas,'Courier New',monospace\"></pre>\n"
      ],
      "text/plain": []
     },
     "metadata": {},
     "output_type": "display_data"
    },
    {
     "data": {
      "text/html": [
       "<pre style=\"white-space:pre;overflow-x:auto;line-height:normal;font-family:Menlo,'DejaVu Sans Mono',consolas,'Courier New',monospace\">\n",
       "</pre>\n"
      ],
      "text/plain": [
       "\n"
      ]
     },
     "metadata": {},
     "output_type": "display_data"
    },
    {
     "data": {
      "text/html": [
       "<pre style=\"white-space:pre;overflow-x:auto;line-height:normal;font-family:Menlo,'DejaVu Sans Mono',consolas,'Courier New',monospace\"><span style=\"color: #7fbfbf; text-decoration-color: #7fbfbf\">20:32:14 -03 </span>loading simulation from                                            \n",
       "<span style=\"color: #7fbfbf; text-decoration-color: #7fbfbf\">             </span>.<span style=\"color: #800080; text-decoration-color: #800080\">/</span><span style=\"color: #ff00ff; text-decoration-color: #ff00ff\">fdve-f7685166-e804-4dfa-9e69-f5f69acffc88.hdf5</span>                   \n",
       "</pre>\n"
      ],
      "text/plain": [
       "\u001b[2;36m20:32:14 -03\u001b[0m\u001b[2;36m \u001b[0mloading simulation from                                            \n",
       "\u001b[2;36m             \u001b[0m.\u001b[35m/\u001b[0m\u001b[95mfdve-f7685166-e804-4dfa-9e69-f5f69acffc88.hdf5\u001b[0m                   \n"
      ]
     },
     "metadata": {},
     "output_type": "display_data"
    },
    {
     "data": {
      "application/vnd.jupyter.widget-view+json": {
       "model_id": "2e77de6b8a0044cf9301d20bf2010f5e",
       "version_major": 2,
       "version_minor": 0
      },
      "text/plain": [
       "Output()"
      ]
     },
     "metadata": {},
     "output_type": "display_data"
    },
    {
     "data": {
      "text/html": [
       "<pre style=\"white-space:pre;overflow-x:auto;line-height:normal;font-family:Menlo,'DejaVu Sans Mono',consolas,'Courier New',monospace\"></pre>\n"
      ],
      "text/plain": []
     },
     "metadata": {},
     "output_type": "display_data"
    },
    {
     "data": {
      "text/html": [
       "<pre style=\"white-space:pre;overflow-x:auto;line-height:normal;font-family:Menlo,'DejaVu Sans Mono',consolas,'Courier New',monospace\">\n",
       "</pre>\n"
      ],
      "text/plain": [
       "\n"
      ]
     },
     "metadata": {},
     "output_type": "display_data"
    },
    {
     "data": {
      "text/html": [
       "<pre style=\"white-space:pre;overflow-x:auto;line-height:normal;font-family:Menlo,'DejaVu Sans Mono',consolas,'Courier New',monospace\"><span style=\"color: #7fbfbf; text-decoration-color: #7fbfbf\">20:32:16 -03 </span>loading simulation from                                            \n",
       "<span style=\"color: #7fbfbf; text-decoration-color: #7fbfbf\">             </span>.<span style=\"color: #800080; text-decoration-color: #800080\">/</span><span style=\"color: #ff00ff; text-decoration-color: #ff00ff\">fdve-d575b9e7-55d3-4458-a3ed-8e06affa8b9f.hdf5</span>                   \n",
       "</pre>\n"
      ],
      "text/plain": [
       "\u001b[2;36m20:32:16 -03\u001b[0m\u001b[2;36m \u001b[0mloading simulation from                                            \n",
       "\u001b[2;36m             \u001b[0m.\u001b[35m/\u001b[0m\u001b[95mfdve-d575b9e7-55d3-4458-a3ed-8e06affa8b9f.hdf5\u001b[0m                   \n"
      ]
     },
     "metadata": {},
     "output_type": "display_data"
    },
    {
     "data": {
      "application/vnd.jupyter.widget-view+json": {
       "model_id": "10605381d2cb428caa650767dc636fb2",
       "version_major": 2,
       "version_minor": 0
      },
      "text/plain": [
       "Output()"
      ]
     },
     "metadata": {},
     "output_type": "display_data"
    },
    {
     "data": {
      "text/html": [
       "<pre style=\"white-space:pre;overflow-x:auto;line-height:normal;font-family:Menlo,'DejaVu Sans Mono',consolas,'Courier New',monospace\"></pre>\n"
      ],
      "text/plain": []
     },
     "metadata": {},
     "output_type": "display_data"
    },
    {
     "data": {
      "text/html": [
       "<pre style=\"white-space:pre;overflow-x:auto;line-height:normal;font-family:Menlo,'DejaVu Sans Mono',consolas,'Courier New',monospace\">\n",
       "</pre>\n"
      ],
      "text/plain": [
       "\n"
      ]
     },
     "metadata": {},
     "output_type": "display_data"
    },
    {
     "data": {
      "text/html": [
       "<pre style=\"white-space:pre;overflow-x:auto;line-height:normal;font-family:Menlo,'DejaVu Sans Mono',consolas,'Courier New',monospace\"><span style=\"color: #7fbfbf; text-decoration-color: #7fbfbf\">20:32:18 -03 </span>loading simulation from                                            \n",
       "<span style=\"color: #7fbfbf; text-decoration-color: #7fbfbf\">             </span>.<span style=\"color: #800080; text-decoration-color: #800080\">/</span><span style=\"color: #ff00ff; text-decoration-color: #ff00ff\">fdve-9bd4073d-9a71-4a67-be4d-755b5aa303b6.hdf5</span>                   \n",
       "</pre>\n"
      ],
      "text/plain": [
       "\u001b[2;36m20:32:18 -03\u001b[0m\u001b[2;36m \u001b[0mloading simulation from                                            \n",
       "\u001b[2;36m             \u001b[0m.\u001b[35m/\u001b[0m\u001b[95mfdve-9bd4073d-9a71-4a67-be4d-755b5aa303b6.hdf5\u001b[0m                   \n"
      ]
     },
     "metadata": {},
     "output_type": "display_data"
    },
    {
     "data": {
      "application/vnd.jupyter.widget-view+json": {
       "model_id": "91fa582b28c4499781f2da0ca27d8040",
       "version_major": 2,
       "version_minor": 0
      },
      "text/plain": [
       "Output()"
      ]
     },
     "metadata": {},
     "output_type": "display_data"
    },
    {
     "data": {
      "text/html": [
       "<pre style=\"white-space:pre;overflow-x:auto;line-height:normal;font-family:Menlo,'DejaVu Sans Mono',consolas,'Courier New',monospace\"></pre>\n"
      ],
      "text/plain": []
     },
     "metadata": {},
     "output_type": "display_data"
    },
    {
     "data": {
      "text/html": [
       "<pre style=\"white-space:pre;overflow-x:auto;line-height:normal;font-family:Menlo,'DejaVu Sans Mono',consolas,'Courier New',monospace\">\n",
       "</pre>\n"
      ],
      "text/plain": [
       "\n"
      ]
     },
     "metadata": {},
     "output_type": "display_data"
    },
    {
     "data": {
      "text/html": [
       "<pre style=\"white-space:pre;overflow-x:auto;line-height:normal;font-family:Menlo,'DejaVu Sans Mono',consolas,'Courier New',monospace\"><span style=\"color: #7fbfbf; text-decoration-color: #7fbfbf\">20:32:20 -03 </span>loading simulation from                                            \n",
       "<span style=\"color: #7fbfbf; text-decoration-color: #7fbfbf\">             </span>.<span style=\"color: #800080; text-decoration-color: #800080\">/</span><span style=\"color: #ff00ff; text-decoration-color: #ff00ff\">fdve-b8876ba3-598a-4ca9-a7b6-59e134e16f51.hdf5</span>                   \n",
       "</pre>\n"
      ],
      "text/plain": [
       "\u001b[2;36m20:32:20 -03\u001b[0m\u001b[2;36m \u001b[0mloading simulation from                                            \n",
       "\u001b[2;36m             \u001b[0m.\u001b[35m/\u001b[0m\u001b[95mfdve-b8876ba3-598a-4ca9-a7b6-59e134e16f51.hdf5\u001b[0m                   \n"
      ]
     },
     "metadata": {},
     "output_type": "display_data"
    },
    {
     "data": {
      "application/vnd.jupyter.widget-view+json": {
       "model_id": "ab4437677eaf44b08408d73841bb58e7",
       "version_major": 2,
       "version_minor": 0
      },
      "text/plain": [
       "Output()"
      ]
     },
     "metadata": {},
     "output_type": "display_data"
    },
    {
     "data": {
      "text/html": [
       "<pre style=\"white-space:pre;overflow-x:auto;line-height:normal;font-family:Menlo,'DejaVu Sans Mono',consolas,'Courier New',monospace\"></pre>\n"
      ],
      "text/plain": []
     },
     "metadata": {},
     "output_type": "display_data"
    },
    {
     "data": {
      "text/html": [
       "<pre style=\"white-space:pre;overflow-x:auto;line-height:normal;font-family:Menlo,'DejaVu Sans Mono',consolas,'Courier New',monospace\">\n",
       "</pre>\n"
      ],
      "text/plain": [
       "\n"
      ]
     },
     "metadata": {},
     "output_type": "display_data"
    },
    {
     "data": {
      "text/html": [
       "<pre style=\"white-space:pre;overflow-x:auto;line-height:normal;font-family:Menlo,'DejaVu Sans Mono',consolas,'Courier New',monospace\"><span style=\"color: #7fbfbf; text-decoration-color: #7fbfbf\">20:32:22 -03 </span>loading simulation from                                            \n",
       "<span style=\"color: #7fbfbf; text-decoration-color: #7fbfbf\">             </span>.<span style=\"color: #800080; text-decoration-color: #800080\">/</span><span style=\"color: #ff00ff; text-decoration-color: #ff00ff\">fdve-b8880447-2054-4996-8bc0-177b61aaaf73.hdf5</span>                   \n",
       "</pre>\n"
      ],
      "text/plain": [
       "\u001b[2;36m20:32:22 -03\u001b[0m\u001b[2;36m \u001b[0mloading simulation from                                            \n",
       "\u001b[2;36m             \u001b[0m.\u001b[35m/\u001b[0m\u001b[95mfdve-b8880447-2054-4996-8bc0-177b61aaaf73.hdf5\u001b[0m                   \n"
      ]
     },
     "metadata": {},
     "output_type": "display_data"
    },
    {
     "data": {
      "application/vnd.jupyter.widget-view+json": {
       "model_id": "d5520568e1ba45d7b7cf170fc39fed03",
       "version_major": 2,
       "version_minor": 0
      },
      "text/plain": [
       "Output()"
      ]
     },
     "metadata": {},
     "output_type": "display_data"
    },
    {
     "data": {
      "text/html": [
       "<pre style=\"white-space:pre;overflow-x:auto;line-height:normal;font-family:Menlo,'DejaVu Sans Mono',consolas,'Courier New',monospace\"></pre>\n"
      ],
      "text/plain": []
     },
     "metadata": {},
     "output_type": "display_data"
    },
    {
     "data": {
      "text/html": [
       "<pre style=\"white-space:pre;overflow-x:auto;line-height:normal;font-family:Menlo,'DejaVu Sans Mono',consolas,'Courier New',monospace\">\n",
       "</pre>\n"
      ],
      "text/plain": [
       "\n"
      ]
     },
     "metadata": {},
     "output_type": "display_data"
    },
    {
     "data": {
      "text/html": [
       "<pre style=\"white-space:pre;overflow-x:auto;line-height:normal;font-family:Menlo,'DejaVu Sans Mono',consolas,'Courier New',monospace\"><span style=\"color: #7fbfbf; text-decoration-color: #7fbfbf\">20:32:24 -03 </span>loading simulation from                                            \n",
       "<span style=\"color: #7fbfbf; text-decoration-color: #7fbfbf\">             </span>.<span style=\"color: #800080; text-decoration-color: #800080\">/</span><span style=\"color: #ff00ff; text-decoration-color: #ff00ff\">fdve-55144cae-1c65-4895-9942-bca2ba98ae5c.hdf5</span>                   \n",
       "</pre>\n"
      ],
      "text/plain": [
       "\u001b[2;36m20:32:24 -03\u001b[0m\u001b[2;36m \u001b[0mloading simulation from                                            \n",
       "\u001b[2;36m             \u001b[0m.\u001b[35m/\u001b[0m\u001b[95mfdve-55144cae-1c65-4895-9942-bca2ba98ae5c.hdf5\u001b[0m                   \n"
      ]
     },
     "metadata": {},
     "output_type": "display_data"
    },
    {
     "data": {
      "application/vnd.jupyter.widget-view+json": {
       "model_id": "a0893e81b8ba4057847113ee9c52c0bf",
       "version_major": 2,
       "version_minor": 0
      },
      "text/plain": [
       "Output()"
      ]
     },
     "metadata": {},
     "output_type": "display_data"
    },
    {
     "data": {
      "text/html": [
       "<pre style=\"white-space:pre;overflow-x:auto;line-height:normal;font-family:Menlo,'DejaVu Sans Mono',consolas,'Courier New',monospace\"></pre>\n"
      ],
      "text/plain": []
     },
     "metadata": {},
     "output_type": "display_data"
    },
    {
     "data": {
      "text/html": [
       "<pre style=\"white-space:pre;overflow-x:auto;line-height:normal;font-family:Menlo,'DejaVu Sans Mono',consolas,'Courier New',monospace\">\n",
       "</pre>\n"
      ],
      "text/plain": [
       "\n"
      ]
     },
     "metadata": {},
     "output_type": "display_data"
    },
    {
     "data": {
      "text/html": [
       "<pre style=\"white-space:pre;overflow-x:auto;line-height:normal;font-family:Menlo,'DejaVu Sans Mono',consolas,'Courier New',monospace\"><span style=\"color: #7fbfbf; text-decoration-color: #7fbfbf\">20:32:26 -03 </span>loading simulation from                                            \n",
       "<span style=\"color: #7fbfbf; text-decoration-color: #7fbfbf\">             </span>.<span style=\"color: #800080; text-decoration-color: #800080\">/</span><span style=\"color: #ff00ff; text-decoration-color: #ff00ff\">fdve-061bc94e-2ef2-405b-8a48-231e3e728d55.hdf5</span>                   \n",
       "</pre>\n"
      ],
      "text/plain": [
       "\u001b[2;36m20:32:26 -03\u001b[0m\u001b[2;36m \u001b[0mloading simulation from                                            \n",
       "\u001b[2;36m             \u001b[0m.\u001b[35m/\u001b[0m\u001b[95mfdve-061bc94e-2ef2-405b-8a48-231e3e728d55.hdf5\u001b[0m                   \n"
      ]
     },
     "metadata": {},
     "output_type": "display_data"
    }
   ],
   "source": [
    "results = design_space.run_batch(fn_pre=build_sim, fn_post=fn_post)"
   ]
  },
  {
   "cell_type": "markdown",
   "metadata": {},
   "source": [
    "## Design Results\n",
    "\n",
    "To analyze the design results we will create a `dataframe` using the `to_dataframe()` method. This dataframe shows the sweep parameter `period` as well as the post-processing function results. As one can see, we can return single values like `Peak Reflectance` and `Peak Wavelength`, or higher dimensional datasets such as `FluxMonitor` dataset included in the `Reflectance` column."
   ]
  },
  {
   "cell_type": "code",
   "execution_count": 11,
   "metadata": {},
   "outputs": [
    {
     "data": {
      "text/html": [
       "<div>\n",
       "<style scoped>\n",
       "    .dataframe tbody tr th:only-of-type {\n",
       "        vertical-align: middle;\n",
       "    }\n",
       "\n",
       "    .dataframe tbody tr th {\n",
       "        vertical-align: top;\n",
       "    }\n",
       "\n",
       "    .dataframe thead th {\n",
       "        text-align: right;\n",
       "    }\n",
       "</style>\n",
       "<table border=\"1\" class=\"dataframe\">\n",
       "  <thead>\n",
       "    <tr style=\"text-align: right;\">\n",
       "      <th></th>\n",
       "      <th>period</th>\n",
       "      <th>Reflectance</th>\n",
       "      <th>Peak Reflectance</th>\n",
       "      <th>Peak Wavelength</th>\n",
       "    </tr>\n",
       "  </thead>\n",
       "  <tbody>\n",
       "    <tr>\n",
       "      <th>0</th>\n",
       "      <td>0.30</td>\n",
       "      <td>type='FluxData' monitor=FluxMonitor(type='Flux...</td>\n",
       "      <td>1.013392</td>\n",
       "      <td>0.444</td>\n",
       "    </tr>\n",
       "    <tr>\n",
       "      <th>1</th>\n",
       "      <td>0.31</td>\n",
       "      <td>type='FluxData' monitor=FluxMonitor(type='Flux...</td>\n",
       "      <td>1.012020</td>\n",
       "      <td>0.464</td>\n",
       "    </tr>\n",
       "    <tr>\n",
       "      <th>2</th>\n",
       "      <td>0.32</td>\n",
       "      <td>type='FluxData' monitor=FluxMonitor(type='Flux...</td>\n",
       "      <td>0.999940</td>\n",
       "      <td>0.482</td>\n",
       "    </tr>\n",
       "    <tr>\n",
       "      <th>3</th>\n",
       "      <td>0.33</td>\n",
       "      <td>type='FluxData' monitor=FluxMonitor(type='Flux...</td>\n",
       "      <td>0.996101</td>\n",
       "      <td>0.502</td>\n",
       "    </tr>\n",
       "    <tr>\n",
       "      <th>4</th>\n",
       "      <td>0.34</td>\n",
       "      <td>type='FluxData' monitor=FluxMonitor(type='Flux...</td>\n",
       "      <td>0.995063</td>\n",
       "      <td>0.520</td>\n",
       "    </tr>\n",
       "    <tr>\n",
       "      <th>5</th>\n",
       "      <td>0.35</td>\n",
       "      <td>type='FluxData' monitor=FluxMonitor(type='Flux...</td>\n",
       "      <td>0.997233</td>\n",
       "      <td>0.538</td>\n",
       "    </tr>\n",
       "    <tr>\n",
       "      <th>6</th>\n",
       "      <td>0.36</td>\n",
       "      <td>type='FluxData' monitor=FluxMonitor(type='Flux...</td>\n",
       "      <td>0.996590</td>\n",
       "      <td>0.556</td>\n",
       "    </tr>\n",
       "    <tr>\n",
       "      <th>7</th>\n",
       "      <td>0.37</td>\n",
       "      <td>type='FluxData' monitor=FluxMonitor(type='Flux...</td>\n",
       "      <td>0.998571</td>\n",
       "      <td>0.572</td>\n",
       "    </tr>\n",
       "    <tr>\n",
       "      <th>8</th>\n",
       "      <td>0.38</td>\n",
       "      <td>type='FluxData' monitor=FluxMonitor(type='Flux...</td>\n",
       "      <td>0.992530</td>\n",
       "      <td>0.588</td>\n",
       "    </tr>\n",
       "    <tr>\n",
       "      <th>9</th>\n",
       "      <td>0.39</td>\n",
       "      <td>type='FluxData' monitor=FluxMonitor(type='Flux...</td>\n",
       "      <td>0.990036</td>\n",
       "      <td>0.606</td>\n",
       "    </tr>\n",
       "    <tr>\n",
       "      <th>10</th>\n",
       "      <td>0.40</td>\n",
       "      <td>type='FluxData' monitor=FluxMonitor(type='Flux...</td>\n",
       "      <td>0.989468</td>\n",
       "      <td>0.622</td>\n",
       "    </tr>\n",
       "  </tbody>\n",
       "</table>\n",
       "</div>"
      ],
      "text/plain": [
       "    period                                        Reflectance  \\\n",
       "0     0.30  type='FluxData' monitor=FluxMonitor(type='Flux...   \n",
       "1     0.31  type='FluxData' monitor=FluxMonitor(type='Flux...   \n",
       "2     0.32  type='FluxData' monitor=FluxMonitor(type='Flux...   \n",
       "3     0.33  type='FluxData' monitor=FluxMonitor(type='Flux...   \n",
       "4     0.34  type='FluxData' monitor=FluxMonitor(type='Flux...   \n",
       "5     0.35  type='FluxData' monitor=FluxMonitor(type='Flux...   \n",
       "6     0.36  type='FluxData' monitor=FluxMonitor(type='Flux...   \n",
       "7     0.37  type='FluxData' monitor=FluxMonitor(type='Flux...   \n",
       "8     0.38  type='FluxData' monitor=FluxMonitor(type='Flux...   \n",
       "9     0.39  type='FluxData' monitor=FluxMonitor(type='Flux...   \n",
       "10    0.40  type='FluxData' monitor=FluxMonitor(type='Flux...   \n",
       "\n",
       "    Peak Reflectance  Peak Wavelength  \n",
       "0           1.013392            0.444  \n",
       "1           1.012020            0.464  \n",
       "2           0.999940            0.482  \n",
       "3           0.996101            0.502  \n",
       "4           0.995063            0.520  \n",
       "5           0.997233            0.538  \n",
       "6           0.996590            0.556  \n",
       "7           0.998571            0.572  \n",
       "8           0.992530            0.588  \n",
       "9           0.990036            0.606  \n",
       "10          0.989468            0.622  "
      ]
     },
     "execution_count": 11,
     "metadata": {},
     "output_type": "execute_result"
    }
   ],
   "source": [
    "df = results.to_dataframe()\n",
    "df"
   ]
  },
  {
   "cell_type": "markdown",
   "metadata": {},
   "source": [
    "We can use the built-in dataframe functions to plot and analyze information. For instance, let's plot the peak reflectance values and wavelengths to observe how these values change with respect to device period."
   ]
  },
  {
   "cell_type": "code",
   "execution_count": 12,
   "metadata": {},
   "outputs": [
    {
     "data": {
      "image/png": "[encoded data removed]",
      "text/plain": [
       "<Figure size 1000x400 with 2 Axes>"
      ]
     },
     "metadata": {},
     "output_type": "display_data"
    }
   ],
   "source": [
    "f, (ax1, ax2) = plt.subplots(1, 2, figsize=(10, 4), tight_layout=True)\n",
    "df.plot(\n",
    "    x=\"period\",\n",
    "    y=\"Peak Reflectance\",\n",
    "    kind=\"scatter\",\n",
    "    ax=ax1,\n",
    "    title=\"Peak Reflectance X Period\",\n",
    "    xlabel=\"Period (um)\",\n",
    "    ylabel=\"R\",\n",
    "    ylim=[0, 1.2],\n",
    "    color=\"Red\",\n",
    ")\n",
    "df.plot(\n",
    "    x=\"period\",\n",
    "    y=\"Peak Wavelength\",\n",
    "    kind=\"scatter\",\n",
    "    ax=ax2,\n",
    "    title=\"Peak Wavelength X Period\",\n",
    "    xlabel=\"Period (um)\",\n",
    "    ylabel=\"Wavelength (um)\",\n",
    "    color=\"Blue\",\n",
    ")\n",
    "plt.show()"
   ]
  },
  {
   "cell_type": "markdown",
   "metadata": {},
   "source": [
    "As one can see, the reflectance peak is very robust with respect to device period. On the other hand, an almost linear relationship is shown between the reflectance peak and the device period. These results are in agreement to the ones in the reference paper. \n",
    "\n",
    "Now, we will create another dataframe to plot the reflectance spectrum versus wavelength for the different device periods. Here, we will unpack the `FluxMonitor` dataset and access the flux values and frequencies."
   ]
  },
  {
   "cell_type": "code",
   "execution_count": 13,
   "metadata": {},
   "outputs": [
    {
     "data": {
      "text/html": [
       "<div>\n",
       "<style scoped>\n",
       "    .dataframe tbody tr th:only-of-type {\n",
       "        vertical-align: middle;\n",
       "    }\n",
       "\n",
       "    .dataframe tbody tr th {\n",
       "        vertical-align: top;\n",
       "    }\n",
       "\n",
       "    .dataframe thead th {\n",
       "        text-align: right;\n",
       "    }\n",
       "</style>\n",
       "<table border=\"1\" class=\"dataframe\">\n",
       "  <thead>\n",
       "    <tr style=\"text-align: right;\">\n",
       "      <th></th>\n",
       "      <th>0.3</th>\n",
       "      <th>0.31</th>\n",
       "      <th>0.32</th>\n",
       "      <th>0.33</th>\n",
       "      <th>0.34</th>\n",
       "      <th>0.35</th>\n",
       "      <th>0.36</th>\n",
       "      <th>0.37</th>\n",
       "      <th>0.38</th>\n",
       "      <th>0.39</th>\n",
       "      <th>0.4</th>\n",
       "    </tr>\n",
       "    <tr>\n",
       "      <th>Wavelength</th>\n",
       "      <th></th>\n",
       "      <th></th>\n",
       "      <th></th>\n",
       "      <th></th>\n",
       "      <th></th>\n",
       "      <th></th>\n",
       "      <th></th>\n",
       "      <th></th>\n",
       "      <th></th>\n",
       "      <th></th>\n",
       "      <th></th>\n",
       "    </tr>\n",
       "  </thead>\n",
       "  <tbody>\n",
       "    <tr>\n",
       "      <th>0.400</th>\n",
       "      <td>0.027893</td>\n",
       "      <td>0.012195</td>\n",
       "      <td>0.006991</td>\n",
       "      <td>0.004796</td>\n",
       "      <td>0.002578</td>\n",
       "      <td>0.002097</td>\n",
       "      <td>0.002713</td>\n",
       "      <td>0.004102</td>\n",
       "      <td>0.006654</td>\n",
       "      <td>0.107062</td>\n",
       "      <td>0.011689</td>\n",
       "    </tr>\n",
       "    <tr>\n",
       "      <th>0.402</th>\n",
       "      <td>0.029418</td>\n",
       "      <td>0.012601</td>\n",
       "      <td>0.007088</td>\n",
       "      <td>0.005307</td>\n",
       "      <td>0.002887</td>\n",
       "      <td>0.002009</td>\n",
       "      <td>0.002290</td>\n",
       "      <td>0.003307</td>\n",
       "      <td>0.005032</td>\n",
       "      <td>0.334151</td>\n",
       "      <td>0.007038</td>\n",
       "    </tr>\n",
       "    <tr>\n",
       "      <th>0.404</th>\n",
       "      <td>0.031144</td>\n",
       "      <td>0.012834</td>\n",
       "      <td>0.007161</td>\n",
       "      <td>0.005754</td>\n",
       "      <td>0.003348</td>\n",
       "      <td>0.002062</td>\n",
       "      <td>0.002017</td>\n",
       "      <td>0.002701</td>\n",
       "      <td>0.003981</td>\n",
       "      <td>0.207237</td>\n",
       "      <td>0.009618</td>\n",
       "    </tr>\n",
       "    <tr>\n",
       "      <th>0.406</th>\n",
       "      <td>0.033140</td>\n",
       "      <td>0.013216</td>\n",
       "      <td>0.007265</td>\n",
       "      <td>0.006089</td>\n",
       "      <td>0.003873</td>\n",
       "      <td>0.002279</td>\n",
       "      <td>0.001882</td>\n",
       "      <td>0.002263</td>\n",
       "      <td>0.003112</td>\n",
       "      <td>0.048685</td>\n",
       "      <td>0.013553</td>\n",
       "    </tr>\n",
       "    <tr>\n",
       "      <th>0.408</th>\n",
       "      <td>0.035495</td>\n",
       "      <td>0.013779</td>\n",
       "      <td>0.007109</td>\n",
       "      <td>0.006282</td>\n",
       "      <td>0.004485</td>\n",
       "      <td>0.002585</td>\n",
       "      <td>0.001875</td>\n",
       "      <td>0.001946</td>\n",
       "      <td>0.002427</td>\n",
       "      <td>0.016134</td>\n",
       "      <td>0.021842</td>\n",
       "    </tr>\n",
       "  </tbody>\n",
       "</table>\n",
       "</div>"
      ],
      "text/plain": [
       "                 0.3      0.31      0.32      0.33      0.34      0.35  \\\n",
       "Wavelength                                                               \n",
       "0.400       0.027893  0.012195  0.006991  0.004796  0.002578  0.002097   \n",
       "0.402       0.029418  0.012601  0.007088  0.005307  0.002887  0.002009   \n",
       "0.404       0.031144  0.012834  0.007161  0.005754  0.003348  0.002062   \n",
       "0.406       0.033140  0.013216  0.007265  0.006089  0.003873  0.002279   \n",
       "0.408       0.035495  0.013779  0.007109  0.006282  0.004485  0.002585   \n",
       "\n",
       "                0.36      0.37      0.38      0.39       0.4  \n",
       "Wavelength                                                    \n",
       "0.400       0.002713  0.004102  0.006654  0.107062  0.011689  \n",
       "0.402       0.002290  0.003307  0.005032  0.334151  0.007038  \n",
       "0.404       0.002017  0.002701  0.003981  0.207237  0.009618  \n",
       "0.406       0.001882  0.002263  0.003112  0.048685  0.013553  \n",
       "0.408       0.001875  0.001946  0.002427  0.016134  0.021842  "
      ]
     },
     "execution_count": 13,
     "metadata": {},
     "output_type": "execute_result"
    }
   ],
   "source": [
    "df_wl = pd.DataFrame({\"Wavelength\": td.C_0 / df.loc[0, \"Reflectance\"].flux.f.values})\n",
    "df_R = pd.DataFrame(\n",
    "    {df.loc[i, \"period\"]: df.loc[i, \"Reflectance\"].flux.values for i in df.index}\n",
    ")\n",
    "df_R_wl = pd.concat([df_wl, df_R], axis=1)\n",
    "df_R_wl.set_index(\"Wavelength\", inplace=True)\n",
    "df_R_wl.head()"
   ]
  },
  {
   "cell_type": "code",
   "execution_count": 22,
   "metadata": {},
   "outputs": [
    {
     "data": {
      "image/png": "[encoded data removed]",
      "text/plain": [
       "<Figure size 640x480 with 1 Axes>"
      ]
     },
     "metadata": {},
     "output_type": "display_data"
    }
   ],
   "source": [
    "ax = df_R_wl.plot(\n",
    "    title=\"Reflectance Spectrum for Different Device Period\",\n",
    "    xlabel=\"Wavelength (um)\",\n",
    "    ylabel=\"R\",\n",
    ")\n",
    "ax.legend([f\"period = {p:.2f} $\\\\mu m$\" for p in df_R_wl.columns],\n",
    "          bbox_to_anchor=(1.02, 1.02), \n",
    "          loc='upper left')\n",
    "plt.show()"
   ]
  }
 ],
 "metadata": {
  "description": "This notebook shows how to build and simulate an all-dielectric structural color device using Tidy3D | FDTD design plugin.",
  "feature_image": "./img/all_dielectric.png",
  "kernelspec": {
   "display_name": "Python 3 (ipykernel)",
   "language": "python",
   "name": "python3"
  },
  "keywords": "structural color, all-dielectric, color filter, design, parameter sweep, design plugin, design of experiments, DoE, Tidy3D, FDTD",
  "language_info": {
   "codemirror_mode": {
    "name": "ipython",
    "version": 3
   },
   "file_extension": ".py",
   "mimetype": "text/x-python",
   "name": "python",
   "nbconvert_exporter": "python",
   "pygments_lexer": "ipython3",
   "version": "3.10.12"
  },
  "title": "How to build and simulate an all-dielectric structural color device using Tidy3D | FDTD design plugin"
 },
 "nbformat": 4,
 "nbformat_minor": 4
}
