{
 "cells": [
  {
   "cell_type": "markdown",
   "id": "fed083e4-9be1-480c-82e9-4bfd7dbccf1f",
   "metadata": {},
   "source": [
    "# Adjoint analysis of a multi-layer slab\n",
    "\n",
    "\n",
    "> Note: native autograd support is an experimental feature in tidy3d 2.7. To see the original implementation of this notebook using jax and the adjoint plugin, refer to [this notebook](https://www.flexcompute.com/tidy3d/examples/notebooks/AdjointPlugin2GradientChecking/).\n",
    "\n",
    "In this notebook, we will show how to differentiate with respect to `DiffractionMonitor` outputs in `tidy3d` and also check the gradient values against gradients obtained using transfer matrix method (TMM), validating their accuracy for a multilayer slab problem."
   ]
  },
  {
   "cell_type": "code",
   "execution_count": 2,
   "id": "51963da1",
   "metadata": {},
   "outputs": [],
   "source": [
    "import numpy as np\n",
    "import autograd as ag\n",
    "import autograd.numpy as anp\n",
    "import tmm\n",
    "import matplotlib.pyplot as plt\n",
    "from typing import Tuple, List\n",
    "\n",
    "import tidy3d as td\n",
    "import tidy3d.web as web"
   ]
  },
  {
   "cell_type": "markdown",
   "id": "b33d0892-62d3-4329-810f-f29ce10056b4",
   "metadata": {},
   "source": [
    "First, we define some global parameters describing the transmission through a multilayer slab with some spacing between each slab.\n",
    "\n",
    "The layout is diagrammed below.\n",
    "\n",
    "<img src=\"img/AdjointMultilayer.png\" width=800 alt=\"Schematic of the multilayer slab\">\n"
   ]
  },
  {
   "cell_type": "code",
   "execution_count": 3,
   "id": "ccbd2c6a-419d-4570-8f91-f57ad5bad813",
   "metadata": {},
   "outputs": [],
   "source": [
    "# frequency we want to simulate at\n",
    "freq0 = 2.0e14\n",
    "k0 = 2 * np.pi * freq0 / td.C_0\n",
    "freqs = [freq0]\n",
    "wavelength = td.C_0 / freq0\n",
    "\n",
    "# background permittivity\n",
    "bck_eps = 1.0**2\n",
    "\n",
    "# space between each slab\n",
    "spc = 0.0\n",
    "\n",
    "# slab permittivities and thicknesses\n",
    "slab_eps0 = [2.0**2, 1.8**2, 1.5**2, 1.9**2]\n",
    "slab_ds0 = [0.5, 0.25, 0.5, 0.5]\n",
    "\n",
    "# incidence angle\n",
    "theta = 0 * np.pi / 8\n",
    "\n",
    "# resolution\n",
    "dl = 0.01"
   ]
  },
  {
   "cell_type": "markdown",
   "id": "48dd37b0-ba97-45cd-a861-53ea6ae3fa74",
   "metadata": {},
   "source": [
    "## Transfer Matrix Method (Ground Truth)\n",
    "\n",
    "Next we use the `tmm` package to write a function to return the transmission `T` of `p` polarized light given a set of slab permittivities and thicknesses. We'll also write a function to compute the numerical gradient using TMM and will take these to be our \"ground truths\" when evaluating the accuracy of our values obtained through FDTD and autograd.\n",
    "\n",
    "### Transmission Calculation with TMM\n",
    "\n",
    "First, we write a function to compute transmission."
   ]
  },
  {
   "cell_type": "code",
   "execution_count": 4,
   "id": "cc4f6e91-6a53-476e-b4c6-e76e50246426",
   "metadata": {},
   "outputs": [],
   "source": [
    "def compute_T_tmm(slab_eps=slab_eps0, slab_ds=slab_ds0) -> float:\n",
    "    \"\"\"Get transmission as a function of slab permittivities and thicknesses.\"\"\"\n",
    "\n",
    "    # construct lists of permittivities and thicknesses including spaces between\n",
    "    new_slab_eps = []\n",
    "    new_slab_ds = []\n",
    "    for eps, d in zip(slab_eps, slab_ds):\n",
    "        new_slab_eps.append(eps)\n",
    "        new_slab_eps.append(bck_eps)\n",
    "        new_slab_ds.append(d)\n",
    "        new_slab_ds.append(spc)\n",
    "    slab_eps = new_slab_eps[:-1]\n",
    "    slab_ds = new_slab_ds[:-1]\n",
    "\n",
    "    # add the input and output spaces to the lists\n",
    "    eps_list = [bck_eps] + slab_eps + [bck_eps]\n",
    "    n_list = np.sqrt(eps_list)\n",
    "    d_list = [np.inf] + slab_ds + [np.inf]\n",
    "\n",
    "    # compute transmission with TMM\n",
    "    return tmm.coh_tmm(\"p\", n_list, d_list, theta, wavelength)[\"T\"]"
   ]
  },
  {
   "cell_type": "markdown",
   "id": "c6c0da6b-2d2f-4be5-80e6-c84afd8d1a23",
   "metadata": {},
   "source": [
    "We run this function with our starting parameters and see that we get a transmission of about 98% for the set of input parameters."
   ]
  },
  {
   "cell_type": "code",
   "execution_count": 5,
   "id": "c1743e54-d7f3-468a-8ac4-d42d4c2bc8dc",
   "metadata": {},
   "outputs": [
    {
     "name": "stdout",
     "output_type": "stream",
     "text": [
      "T (tmm) = 0.786\n"
     ]
    }
   ],
   "source": [
    "T_tmm = compute_T_tmm(slab_eps=slab_eps0, slab_ds=slab_ds0)\n",
    "print(f\"T (tmm) = {T_tmm:.3f}\")"
   ]
  },
  {
   "cell_type": "markdown",
   "id": "452db467-f486-468d-8ec9-b9e669755c92",
   "metadata": {},
   "source": [
    "### Numerical Gradient with TMM\n",
    "\n",
    "Next, we will use our `compute_T_tmm()` function to compute the \"numerical\" gradient to use as comparison against our adjoint results with FDTD.\n",
    "\n",
    "The derivative of a function $f(x)$ w.r.t. $x$ can be approximated using finite differences as\n",
    "\n",
    "$$ \\frac{df}{dx}(x) \\approx \\frac{f(x+\\Delta) - f(x-\\Delta)}{2\\Delta}$$\n",
    "\n",
    "with a small step $\\Delta$.\n",
    "\n",
    "To compute the gradient of our transmission with respect to each of the slab thicknesses and permittivities, we need to repeat this step for each of the values. Luckily, since TMM is very fast, we can compute these quantities quite quickly compared to if we were using FDTD.\n",
    "\n",
    "> Important note: We assume in our TMM numerical gradient that when the slabs are touching (`spc=0`) and a slab thickness is modified, that the thicknesses of the neighboring slabs adjust to accomidate this change. For example, if slab `i` increases by `dt`, slab `i-1` and `i+1` each decrease by `dt/2`. We also account for this in our FDTD set up by keeping the centers of all boxes constant and not tracking the gradient through these quantities. The reason this is required is that `tidy3d` does not recognize the space between touching `td.Box` objects as a single interface and will instead \"double count\" the gradient contribution of the interface if they are placed right next to each other. One must therefore be careful about overlapping or touching two `td.Box` or other geometries when computing gradients.\n",
    "\n",
    "Here we write the function to return the numerical gradient."
   ]
  },
  {
   "cell_type": "code",
   "execution_count": 6,
   "id": "15d5bae1-6fc7-41c8-8772-2e80505be17d",
   "metadata": {},
   "outputs": [],
   "source": [
    "def compute_grad_tmm(slab_eps=slab_eps0, slab_ds=slab_ds0) -> Tuple[List[float], List[float]]:\n",
    "    \"\"\"Compute numerical gradient of transmission w.r.t. each of the slab permittivities and thicknesses using TMM.\"\"\"\n",
    "\n",
    "    delta = 1e-4\n",
    "\n",
    "    # set up containers to store gradient and perturbed arguments\n",
    "    num_slabs = len(slab_eps)\n",
    "    grad_tmm = np.zeros((2, num_slabs), dtype=float)\n",
    "    args = np.stack((slab_eps, slab_ds), axis=0)\n",
    "\n",
    "    # loop through slab index and argument index (eps, d)\n",
    "    for arg_index in range(2):\n",
    "        for slab_index in range(num_slabs):\n",
    "            grad = 0.0\n",
    "\n",
    "            # perturb the argument by delta in each + and - direction\n",
    "            for pm in (-1, +1):\n",
    "                args_num = args.copy()\n",
    "                args_num[arg_index][slab_index] += delta * pm\n",
    "\n",
    "                # NEW: for slab thickness gradient, need to modify neighboring slabs too\n",
    "                if arg_index == 1 and spc == 0:\n",
    "                    if slab_index > 0:\n",
    "                        args_num[arg_index][slab_index - 1] -= delta * pm / 2\n",
    "                    if slab_index < num_slabs - 1:\n",
    "                        args_num[arg_index][slab_index + 1] -= delta * pm / 2\n",
    "\n",
    "                # compute argument perturbed T and add to finite difference gradient contribution\n",
    "                T_tmm = compute_T_tmm(slab_eps=args_num[0], slab_ds=args_num[1])\n",
    "                grad += pm * T_tmm / 2 / delta\n",
    "\n",
    "            grad_tmm[arg_index][slab_index] = grad\n",
    "    grad_eps, grad_ds = grad_tmm\n",
    "    return grad_eps, grad_ds"
   ]
  },
  {
   "cell_type": "markdown",
   "id": "d3c362ca-fb31-4ead-8e7c-fcc24d0faecc",
   "metadata": {},
   "source": [
    "Let's run this function and observe the gradients. These will be saved later to compare against our autograd results."
   ]
  },
  {
   "cell_type": "code",
   "execution_count": 7,
   "id": "b5d1cc93-6d6e-43a7-8e5f-f1829770f3d5",
   "metadata": {},
   "outputs": [
    {
     "name": "stdout",
     "output_type": "stream",
     "text": [
      "gradient w.r.t. eps (tmm)  = [-0.2766323   0.01377339 -0.2032054  -0.28999361]\n",
      "gradient w.r.t. ds  (tmm)  = [-1.75199732 -0.21552416  1.00729645 -2.08209951]\n"
     ]
    }
   ],
   "source": [
    "grad_eps_tmm, grad_ds_tmm = compute_grad_tmm()\n",
    "print(f\"gradient w.r.t. eps (tmm)  = {grad_eps_tmm}\")\n",
    "print(f\"gradient w.r.t. ds  (tmm)  = {grad_ds_tmm}\")"
   ]
  },
  {
   "cell_type": "markdown",
   "id": "50ca68ae-ca5a-49aa-9969-ac6d43324ea9",
   "metadata": {},
   "source": [
    "## FDTD\n",
    "\n",
    "Next, we will implement the same two functions using Tidy3D.\n",
    "\n",
    "### Transmission Calculation with FDTD\n",
    "\n",
    "We first write a function to compute the transmission of a multilayer slab using Tidy3D. We use a `DiffractionMonitor` to measure our transmission amplitudes. Below, we break up the transmission calculation into a few functions to make it easier to read and re-use later."
   ]
  },
  {
   "cell_type": "code",
   "execution_count": 8,
   "id": "4d12f133-a8d8-4e59-938f-fca4d2e2fa0b",
   "metadata": {},
   "outputs": [],
   "source": [
    "from autograd.tracer import getval\n",
    "\n",
    "def make_sim(slab_eps=slab_eps0, slab_ds=slab_ds0) -> td.Simulation:\n",
    "    \"\"\"Create a Simulation given the slab permittivities and thicknesses.\"\"\"\n",
    "\n",
    "    # frequency setup\n",
    "    wavelength = td.C_0 / freq0\n",
    "    fwidth = freq0 / 10.0\n",
    "    freqs = [freq0]\n",
    "\n",
    "    # geometry setup\n",
    "    bck_medium = td.Medium(permittivity=bck_eps)\n",
    "\n",
    "    space_above = 2\n",
    "    space_below = 2\n",
    "\n",
    "    length_x = 0.1\n",
    "    length_y = 0.1\n",
    "    length_z = space_below + sum(slab_ds0) + space_above + (len(slab_ds0) - 1) * spc\n",
    "    sim_size = (length_x, length_y, length_z)\n",
    "\n",
    "    # make structures\n",
    "    slabs = []\n",
    "    z_start = -length_z / 2 + space_below\n",
    "    for d, eps in zip(slab_ds, slab_eps):\n",
    "\n",
    "        # dont track the gradient through the center of each slab\n",
    "        # as tidy3d doesn't have enough information to properly process the interface between touching Box objects\n",
    "        z_center = z_start + d / 2\n",
    "        z_center = getval(z_center)\n",
    "\n",
    "        slab = td.Structure(\n",
    "            geometry=td.Box(center=[0, 0, z_center], size=[td.inf, td.inf, d]),\n",
    "            medium=td.Medium(permittivity=eps),\n",
    "        )\n",
    "        slabs.append(slab)\n",
    "        z_start = z_start + d + spc\n",
    "\n",
    "    # source setup\n",
    "    gaussian = td.GaussianPulse(freq0=freq0, fwidth=fwidth)\n",
    "    src_z = -length_z / 2 + space_below / 2.0\n",
    "\n",
    "    source = td.PlaneWave(\n",
    "        center=(0, 0, src_z),\n",
    "        size=(td.inf, td.inf, 0),\n",
    "        source_time=gaussian,\n",
    "        direction=\"+\",\n",
    "        angle_theta=theta,\n",
    "        angle_phi=0,\n",
    "        pol_angle=0,\n",
    "    )\n",
    "\n",
    "    # boundaries\n",
    "    boundary_x = td.Boundary.bloch_from_source(\n",
    "        source=source, domain_size=sim_size[0], axis=0, medium=bck_medium\n",
    "    )\n",
    "    boundary_y = td.Boundary.bloch_from_source(\n",
    "        source=source, domain_size=sim_size[1], axis=1, medium=bck_medium\n",
    "    )\n",
    "    boundary_spec = td.BoundarySpec(x=boundary_x, y=boundary_y, z=td.Boundary.pml(num_layers=40))\n",
    "\n",
    "    # monitors\n",
    "    mnt_z = length_z / 2 - space_above / 2.0\n",
    "    monitor_1 = td.DiffractionMonitor(\n",
    "        center=[0.0, 0.0, mnt_z],\n",
    "        size=[td.inf, td.inf, 0],\n",
    "        freqs=freqs,\n",
    "        name=\"diffraction\",\n",
    "        normal_dir=\"+\",\n",
    "    )\n",
    "\n",
    "    # make simulation\n",
    "    return td.Simulation(\n",
    "        size=sim_size,\n",
    "        # grid_spec=td.GridSpec.auto(min_steps_per_wvl=100),\n",
    "        grid_spec=td.GridSpec.uniform(dl=0.01),\n",
    "        structures=slabs,\n",
    "        sources=[source],\n",
    "        monitors=[monitor_1],\n",
    "        run_time=10 / fwidth,\n",
    "        boundary_spec=boundary_spec,\n",
    "        medium=bck_medium,\n",
    "        subpixel=True,\n",
    "        shutoff=1e-8,\n",
    "    )"
   ]
  },
  {
   "cell_type": "markdown",
   "id": "9addea1f-4dd8-4e5e-a058-b94638fb2d70",
   "metadata": {},
   "source": [
    "Let's generate a simulation and plot it to make sure it looks reasonable."
   ]
  },
  {
   "cell_type": "code",
   "execution_count": 9,
   "id": "bc0dc456-e742-4299-ae5e-22daa49e3997",
   "metadata": {},
   "outputs": [
    {
     "data": {
      "image/png": "[encoded data removed]",
      "text/plain": [
       "<Figure size 1000x1000 with 1 Axes>"
      ]
     },
     "metadata": {},
     "output_type": "display_data"
    }
   ],
   "source": [
    "sim = make_sim()\n",
    "f, ax = plt.subplots(1, 1, figsize=(10, 10))\n",
    "sim.plot(y=0, ax=ax)\n",
    "plt.show()"
   ]
  },
  {
   "cell_type": "markdown",
   "id": "e4c9a742-5988-444d-9ac4-34b612d42289",
   "metadata": {},
   "source": [
    "Now we write a function to post process some run results to get the transmission we are after."
   ]
  },
  {
   "cell_type": "code",
   "execution_count": 10,
   "id": "1917a8b6-8ba9-4767-90ca-06cd6daadcd3",
   "metadata": {},
   "outputs": [],
   "source": [
    "def post_process_T(sim_data: td.SimulationData) -> float:\n",
    "    \"\"\"Given some td.SimulationData from the run, return the transmission of \"p\" polarized light.\"\"\"\n",
    "    amps = sim_data[\"diffraction\"].amps.sel(polarization=\"p\").values\n",
    "    return anp.sum(abs(amps) ** 2)"
   ]
  },
  {
   "cell_type": "markdown",
   "id": "b65e4d49-e8b1-4e05-9fce-57bd63b3f2cf",
   "metadata": {},
   "source": [
    "And finally, put everything together in a single function that relates the permittivities and thicknesses of each slab to the transmission, through a `td.Simulation` run."
   ]
  },
  {
   "cell_type": "code",
   "execution_count": 11,
   "id": "f64ac290-b67d-4a9a-88e8-504de931fef8",
   "metadata": {},
   "outputs": [],
   "source": [
    "def compute_T_fdtd(slab_eps=slab_eps0, slab_ds=slab_ds0) -> float:\n",
    "    \"\"\"Given the slab permittivities and thicknesses, compute T.\"\"\"\n",
    "    sim = make_sim(slab_eps=slab_eps, slab_ds=slab_ds)\n",
    "    sim_data = web.run(sim, task_name=\"slab\", verbose=True)\n",
    "    return post_process_T(sim_data)"
   ]
  },
  {
   "cell_type": "code",
   "execution_count": 12,
   "id": "4a11ca07-e177-4e15-9d60-bf31bbed0939",
   "metadata": {},
   "outputs": [
    {
     "data": {
      "text/html": [
       "<pre style=\"white-space:pre;overflow-x:auto;line-height:normal;font-family:Menlo,'DejaVu Sans Mono',consolas,'Courier New',monospace\"><span style=\"color: #7fbfbf; text-decoration-color: #7fbfbf\">12:12:39 CEST </span>Created task <span style=\"color: #008000; text-decoration-color: #008000\">'slab'</span> with task_id                                  \n",
       "<span style=\"color: #7fbfbf; text-decoration-color: #7fbfbf\">              </span><span style=\"color: #008000; text-decoration-color: #008000\">'fdve-8d5539be-9196-41b1-ac98-92443dc37181'</span> and task_type <span style=\"color: #008000; text-decoration-color: #008000\">'FDTD'</span>. \n",
       "</pre>\n"
      ],
      "text/plain": [
       "\u001b[2;36m12:12:39 CEST\u001b[0m\u001b[2;36m \u001b[0mCreated task \u001b[32m'slab'\u001b[0m with task_id                                  \n",
       "\u001b[2;36m              \u001b[0m\u001b[32m'fdve-8d5539be-9196-41b1-ac98-92443dc37181'\u001b[0m and task_type \u001b[32m'FDTD'\u001b[0m. \n"
      ]
     },
     "metadata": {},
     "output_type": "display_data"
    },
    {
     "data": {
      "text/html": [
       "<pre style=\"white-space:pre;overflow-x:auto;line-height:normal;font-family:Menlo,'DejaVu Sans Mono',consolas,'Courier New',monospace\"><span style=\"color: #7fbfbf; text-decoration-color: #7fbfbf\">              </span>View task using web UI at                                         \n",
       "<span style=\"color: #7fbfbf; text-decoration-color: #7fbfbf\">              </span><a href=\"https://tidy3d.simulation.cloud/workbench?taskId=fdve-8d5539be-9196-41b1-ac98-92443dc37181\" target=\"_blank\"><span style=\"color: #008000; text-decoration-color: #008000\">'https://tidy3d.simulation.cloud/workbench?taskId=fdve-8d5539be-91</span></a>\n",
       "<span style=\"color: #7fbfbf; text-decoration-color: #7fbfbf\">              </span><a href=\"https://tidy3d.simulation.cloud/workbench?taskId=fdve-8d5539be-9196-41b1-ac98-92443dc37181\" target=\"_blank\"><span style=\"color: #008000; text-decoration-color: #008000\">96-41b1-ac98-92443dc37181'</span></a>.                                       \n",
       "</pre>\n"
      ],
      "text/plain": [
       "\u001b[2;36m             \u001b[0m\u001b[2;36m \u001b[0mView task using web UI at                                         \n",
       "\u001b[2;36m              \u001b[0m\u001b]8;id=15298;https://tidy3d.simulation.cloud/workbench?taskId=fdve-8d5539be-9196-41b1-ac98-92443dc37181\u001b\\\u001b[32m'https://tidy3d.simulation.cloud/workbench?\u001b[0m\u001b]8;;\u001b\\\u001b]8;id=419841;https://tidy3d.simulation.cloud/workbench?taskId=fdve-8d5539be-9196-41b1-ac98-92443dc37181\u001b\\\u001b[32mtaskId\u001b[0m\u001b]8;;\u001b\\\u001b]8;id=15298;https://tidy3d.simulation.cloud/workbench?taskId=fdve-8d5539be-9196-41b1-ac98-92443dc37181\u001b\\\u001b[32m=\u001b[0m\u001b]8;;\u001b\\\u001b]8;id=54788;https://tidy3d.simulation.cloud/workbench?taskId=fdve-8d5539be-9196-41b1-ac98-92443dc37181\u001b\\\u001b[32mfdve\u001b[0m\u001b]8;;\u001b\\\u001b]8;id=15298;https://tidy3d.simulation.cloud/workbench?taskId=fdve-8d5539be-9196-41b1-ac98-92443dc37181\u001b\\\u001b[32m-8d5539be-91\u001b[0m\u001b]8;;\u001b\\\n",
       "\u001b[2;36m              \u001b[0m\u001b]8;id=15298;https://tidy3d.simulation.cloud/workbench?taskId=fdve-8d5539be-9196-41b1-ac98-92443dc37181\u001b\\\u001b[32m96-41b1-ac98-92443dc37181'\u001b[0m\u001b]8;;\u001b\\.                                       \n"
      ]
     },
     "metadata": {},
     "output_type": "display_data"
    },
    {
     "data": {
      "application/vnd.jupyter.widget-view+json": {
       "model_id": "96a0bdc376a4494e9c5d892dbb2892d1",
       "version_major": 2,
       "version_minor": 0
      },
      "text/plain": [
       "Output()"
      ]
     },
     "metadata": {},
     "output_type": "display_data"
    },
    {
     "data": {
      "text/html": [
       "<pre style=\"white-space:pre;overflow-x:auto;line-height:normal;font-family:Menlo,'DejaVu Sans Mono',consolas,'Courier New',monospace\"></pre>\n"
      ],
      "text/plain": []
     },
     "metadata": {},
     "output_type": "display_data"
    },
    {
     "data": {
      "text/html": [
       "<pre style=\"white-space:pre;overflow-x:auto;line-height:normal;font-family:Menlo,'DejaVu Sans Mono',consolas,'Courier New',monospace\">\n",
       "</pre>\n"
      ],
      "text/plain": [
       "\n"
      ]
     },
     "metadata": {},
     "output_type": "display_data"
    },
    {
     "data": {
      "text/html": [
       "<pre style=\"white-space:pre;overflow-x:auto;line-height:normal;font-family:Menlo,'DejaVu Sans Mono',consolas,'Courier New',monospace\"><span style=\"color: #7fbfbf; text-decoration-color: #7fbfbf\">12:12:46 CEST </span>status = queued                                                   \n",
       "</pre>\n"
      ],
      "text/plain": [
       "\u001b[2;36m12:12:46 CEST\u001b[0m\u001b[2;36m \u001b[0mstatus = queued                                                   \n"
      ]
     },
     "metadata": {},
     "output_type": "display_data"
    },
    {
     "data": {
      "text/html": [
       "<pre style=\"white-space:pre;overflow-x:auto;line-height:normal;font-family:Menlo,'DejaVu Sans Mono',consolas,'Courier New',monospace\"><span style=\"color: #7fbfbf; text-decoration-color: #7fbfbf\">              </span>To cancel the simulation, use <span style=\"color: #008000; text-decoration-color: #008000\">'web.abort(task_id)'</span> or             \n",
       "<span style=\"color: #7fbfbf; text-decoration-color: #7fbfbf\">              </span><span style=\"color: #008000; text-decoration-color: #008000\">'web.delete(task_id)'</span> or abort/delete the task in the web UI.     \n",
       "<span style=\"color: #7fbfbf; text-decoration-color: #7fbfbf\">              </span>Terminating the Python script will not stop the job running on the\n",
       "<span style=\"color: #7fbfbf; text-decoration-color: #7fbfbf\">              </span>cloud.                                                            \n",
       "</pre>\n"
      ],
      "text/plain": [
       "\u001b[2;36m             \u001b[0m\u001b[2;36m \u001b[0mTo cancel the simulation, use \u001b[32m'web.abort\u001b[0m\u001b[32m(\u001b[0m\u001b[32mtask_id\u001b[0m\u001b[32m)\u001b[0m\u001b[32m'\u001b[0m or             \n",
       "\u001b[2;36m              \u001b[0m\u001b[32m'web.delete\u001b[0m\u001b[32m(\u001b[0m\u001b[32mtask_id\u001b[0m\u001b[32m)\u001b[0m\u001b[32m'\u001b[0m or abort/delete the task in the web UI.     \n",
       "\u001b[2;36m              \u001b[0mTerminating the Python script will not stop the job running on the\n",
       "\u001b[2;36m              \u001b[0mcloud.                                                            \n"
      ]
     },
     "metadata": {},
     "output_type": "display_data"
    },
    {
     "data": {
      "application/vnd.jupyter.widget-view+json": {
       "model_id": "0e7baddce19f4330842e86d4fc638ef9",
       "version_major": 2,
       "version_minor": 0
      },
      "text/plain": [
       "Output()"
      ]
     },
     "metadata": {},
     "output_type": "display_data"
    },
    {
     "data": {
      "text/html": [
       "<pre style=\"white-space:pre;overflow-x:auto;line-height:normal;font-family:Menlo,'DejaVu Sans Mono',consolas,'Courier New',monospace\"><span style=\"color: #7fbfbf; text-decoration-color: #7fbfbf\">12:12:49 CEST </span>status = preprocess                                               \n",
       "</pre>\n"
      ],
      "text/plain": [
       "\u001b[2;36m12:12:49 CEST\u001b[0m\u001b[2;36m \u001b[0mstatus = preprocess                                               \n"
      ]
     },
     "metadata": {},
     "output_type": "display_data"
    },
    {
     "data": {
      "text/html": [
       "<pre style=\"white-space:pre;overflow-x:auto;line-height:normal;font-family:Menlo,'DejaVu Sans Mono',consolas,'Courier New',monospace\"></pre>\n"
      ],
      "text/plain": []
     },
     "metadata": {},
     "output_type": "display_data"
    },
    {
     "data": {
      "text/html": [
       "<pre style=\"white-space:pre;overflow-x:auto;line-height:normal;font-family:Menlo,'DejaVu Sans Mono',consolas,'Courier New',monospace\"><span style=\"color: #7fbfbf; text-decoration-color: #7fbfbf\">12:12:51 CEST </span>Maximum FlexCredit cost: <span style=\"color: #008080; text-decoration-color: #008080; font-weight: bold\">0.025</span>. Use <span style=\"color: #008000; text-decoration-color: #008000\">'web.real_cost(task_id)'</span> to   \n",
       "<span style=\"color: #7fbfbf; text-decoration-color: #7fbfbf\">              </span>get the billed FlexCredit cost after a simulation run.            \n",
       "</pre>\n"
      ],
      "text/plain": [
       "\u001b[2;36m12:12:51 CEST\u001b[0m\u001b[2;36m \u001b[0mMaximum FlexCredit cost: \u001b[1;36m0.025\u001b[0m. Use \u001b[32m'web.real_cost\u001b[0m\u001b[32m(\u001b[0m\u001b[32mtask_id\u001b[0m\u001b[32m)\u001b[0m\u001b[32m'\u001b[0m to   \n",
       "\u001b[2;36m              \u001b[0mget the billed FlexCredit cost after a simulation run.            \n"
      ]
     },
     "metadata": {},
     "output_type": "display_data"
    },
    {
     "data": {
      "text/html": [
       "<pre style=\"white-space:pre;overflow-x:auto;line-height:normal;font-family:Menlo,'DejaVu Sans Mono',consolas,'Courier New',monospace\"><span style=\"color: #7fbfbf; text-decoration-color: #7fbfbf\">              </span>starting up solver                                                \n",
       "</pre>\n"
      ],
      "text/plain": [
       "\u001b[2;36m             \u001b[0m\u001b[2;36m \u001b[0mstarting up solver                                                \n"
      ]
     },
     "metadata": {},
     "output_type": "display_data"
    },
    {
     "data": {
      "text/html": [
       "<pre style=\"white-space:pre;overflow-x:auto;line-height:normal;font-family:Menlo,'DejaVu Sans Mono',consolas,'Courier New',monospace\"><span style=\"color: #7fbfbf; text-decoration-color: #7fbfbf\">              </span>running solver                                                    \n",
       "</pre>\n"
      ],
      "text/plain": [
       "\u001b[2;36m             \u001b[0m\u001b[2;36m \u001b[0mrunning solver                                                    \n"
      ]
     },
     "metadata": {},
     "output_type": "display_data"
    },
    {
     "data": {
      "application/vnd.jupyter.widget-view+json": {
       "model_id": "84af41c4f9004003b26342773ee41f07",
       "version_major": 2,
       "version_minor": 0
      },
      "text/plain": [
       "Output()"
      ]
     },
     "metadata": {},
     "output_type": "display_data"
    },
    {
     "data": {
      "text/html": [
       "<pre style=\"white-space:pre;overflow-x:auto;line-height:normal;font-family:Menlo,'DejaVu Sans Mono',consolas,'Courier New',monospace\"><span style=\"color: #7fbfbf; text-decoration-color: #7fbfbf\">12:12:55 CEST </span>early shutoff detected at <span style=\"color: #008080; text-decoration-color: #008080; font-weight: bold\">32</span>%, exiting.                           \n",
       "</pre>\n"
      ],
      "text/plain": [
       "\u001b[2;36m12:12:55 CEST\u001b[0m\u001b[2;36m \u001b[0mearly shutoff detected at \u001b[1;36m32\u001b[0m%, exiting.                           \n"
      ]
     },
     "metadata": {},
     "output_type": "display_data"
    },
    {
     "data": {
      "text/html": [
       "<pre style=\"white-space:pre;overflow-x:auto;line-height:normal;font-family:Menlo,'DejaVu Sans Mono',consolas,'Courier New',monospace\"></pre>\n"
      ],
      "text/plain": []
     },
     "metadata": {},
     "output_type": "display_data"
    },
    {
     "data": {
      "text/html": [
       "<pre style=\"white-space:pre;overflow-x:auto;line-height:normal;font-family:Menlo,'DejaVu Sans Mono',consolas,'Courier New',monospace\">\n",
       "</pre>\n"
      ],
      "text/plain": [
       "\n"
      ]
     },
     "metadata": {},
     "output_type": "display_data"
    },
    {
     "data": {
      "text/html": [
       "<pre style=\"white-space:pre;overflow-x:auto;line-height:normal;font-family:Menlo,'DejaVu Sans Mono',consolas,'Courier New',monospace\"><span style=\"color: #7fbfbf; text-decoration-color: #7fbfbf\">              </span>status = postprocess                                              \n",
       "</pre>\n"
      ],
      "text/plain": [
       "\u001b[2;36m             \u001b[0m\u001b[2;36m \u001b[0mstatus = postprocess                                              \n"
      ]
     },
     "metadata": {},
     "output_type": "display_data"
    },
    {
     "data": {
      "application/vnd.jupyter.widget-view+json": {
       "model_id": "28c13458c13044f08bf7478a27425784",
       "version_major": 2,
       "version_minor": 0
      },
      "text/plain": [
       "Output()"
      ]
     },
     "metadata": {},
     "output_type": "display_data"
    },
    {
     "data": {
      "text/html": [
       "<pre style=\"white-space:pre;overflow-x:auto;line-height:normal;font-family:Menlo,'DejaVu Sans Mono',consolas,'Courier New',monospace\"><span style=\"color: #7fbfbf; text-decoration-color: #7fbfbf\">12:12:56 CEST </span>status = success                                                  \n",
       "</pre>\n"
      ],
      "text/plain": [
       "\u001b[2;36m12:12:56 CEST\u001b[0m\u001b[2;36m \u001b[0mstatus = success                                                  \n"
      ]
     },
     "metadata": {},
     "output_type": "display_data"
    },
    {
     "data": {
      "text/html": [
       "<pre style=\"white-space:pre;overflow-x:auto;line-height:normal;font-family:Menlo,'DejaVu Sans Mono',consolas,'Courier New',monospace\"></pre>\n"
      ],
      "text/plain": []
     },
     "metadata": {},
     "output_type": "display_data"
    },
    {
     "data": {
      "text/html": [
       "<pre style=\"white-space:pre;overflow-x:auto;line-height:normal;font-family:Menlo,'DejaVu Sans Mono',consolas,'Courier New',monospace\"><span style=\"color: #7fbfbf; text-decoration-color: #7fbfbf\">              </span>View simulation result at                                         \n",
       "<span style=\"color: #7fbfbf; text-decoration-color: #7fbfbf\">              </span><a href=\"https://tidy3d.simulation.cloud/workbench?taskId=fdve-8d5539be-9196-41b1-ac98-92443dc37181\" target=\"_blank\"><span style=\"color: #000080; text-decoration-color: #000080; text-decoration: underline\">'https://tidy3d.simulation.cloud/workbench?taskId=fdve-8d5539be-91</span></a>\n",
       "<span style=\"color: #7fbfbf; text-decoration-color: #7fbfbf\">              </span><a href=\"https://tidy3d.simulation.cloud/workbench?taskId=fdve-8d5539be-9196-41b1-ac98-92443dc37181\" target=\"_blank\"><span style=\"color: #000080; text-decoration-color: #000080; text-decoration: underline\">96-41b1-ac98-92443dc37181'</span></a><span style=\"color: #000080; text-decoration-color: #000080; text-decoration: underline\">.</span>                                       \n",
       "</pre>\n"
      ],
      "text/plain": [
       "\u001b[2;36m             \u001b[0m\u001b[2;36m \u001b[0mView simulation result at                                         \n",
       "\u001b[2;36m              \u001b[0m\u001b]8;id=344565;https://tidy3d.simulation.cloud/workbench?taskId=fdve-8d5539be-9196-41b1-ac98-92443dc37181\u001b\\\u001b[4;34m'https://tidy3d.simulation.cloud/workbench?\u001b[0m\u001b]8;;\u001b\\\u001b]8;id=55763;https://tidy3d.simulation.cloud/workbench?taskId=fdve-8d5539be-9196-41b1-ac98-92443dc37181\u001b\\\u001b[4;34mtaskId\u001b[0m\u001b]8;;\u001b\\\u001b]8;id=344565;https://tidy3d.simulation.cloud/workbench?taskId=fdve-8d5539be-9196-41b1-ac98-92443dc37181\u001b\\\u001b[4;34m=\u001b[0m\u001b]8;;\u001b\\\u001b]8;id=896537;https://tidy3d.simulation.cloud/workbench?taskId=fdve-8d5539be-9196-41b1-ac98-92443dc37181\u001b\\\u001b[4;34mfdve\u001b[0m\u001b]8;;\u001b\\\u001b]8;id=344565;https://tidy3d.simulation.cloud/workbench?taskId=fdve-8d5539be-9196-41b1-ac98-92443dc37181\u001b\\\u001b[4;34m-8d5539be-91\u001b[0m\u001b]8;;\u001b\\\n",
       "\u001b[2;36m              \u001b[0m\u001b]8;id=344565;https://tidy3d.simulation.cloud/workbench?taskId=fdve-8d5539be-9196-41b1-ac98-92443dc37181\u001b\\\u001b[4;34m96-41b1-ac98-92443dc37181'\u001b[0m\u001b]8;;\u001b\\\u001b[4;34m.\u001b[0m                                       \n"
      ]
     },
     "metadata": {},
     "output_type": "display_data"
    },
    {
     "data": {
      "application/vnd.jupyter.widget-view+json": {
       "model_id": "76f0175ceb3b43a0931e83803e1fdbd1",
       "version_major": 2,
       "version_minor": 0
      },
      "text/plain": [
       "Output()"
      ]
     },
     "metadata": {},
     "output_type": "display_data"
    },
    {
     "data": {
      "text/html": [
       "<pre style=\"white-space:pre;overflow-x:auto;line-height:normal;font-family:Menlo,'DejaVu Sans Mono',consolas,'Courier New',monospace\"></pre>\n"
      ],
      "text/plain": []
     },
     "metadata": {},
     "output_type": "display_data"
    },
    {
     "data": {
      "text/html": [
       "<pre style=\"white-space:pre;overflow-x:auto;line-height:normal;font-family:Menlo,'DejaVu Sans Mono',consolas,'Courier New',monospace\">\n",
       "</pre>\n"
      ],
      "text/plain": [
       "\n"
      ]
     },
     "metadata": {},
     "output_type": "display_data"
    },
    {
     "data": {
      "text/html": [
       "<pre style=\"white-space:pre;overflow-x:auto;line-height:normal;font-family:Menlo,'DejaVu Sans Mono',consolas,'Courier New',monospace\"><span style=\"color: #7fbfbf; text-decoration-color: #7fbfbf\">12:12:57 CEST </span>loading simulation from simulation_data.hdf5                      \n",
       "</pre>\n"
      ],
      "text/plain": [
       "\u001b[2;36m12:12:57 CEST\u001b[0m\u001b[2;36m \u001b[0mloading simulation from simulation_data.hdf5                      \n"
      ]
     },
     "metadata": {},
     "output_type": "display_data"
    },
    {
     "name": "stdout",
     "output_type": "stream",
     "text": [
      "0.7851626791354647\n"
     ]
    }
   ],
   "source": [
    "T_fdtd = compute_T_fdtd(slab_eps0, slab_ds0)\n",
    "print(T_fdtd)"
   ]
  },
  {
   "cell_type": "markdown",
   "id": "c4c19d59-d9a3-4935-b785-5fb6b3b3a819",
   "metadata": {},
   "source": [
    "### Computing T and Gradient with FDTD\n",
    "\n",
    "Now that we have this function defined, we are ready to compute our transmission and gradients using Tidy3d.\n",
    "\n",
    "We first call `autograd.value_and_grad()` on our transmission calculation function, which returns a function that will give us both `T` and the gradient of `T` with respect to the input parameters in one shot. For more details, see the previous tutorial."
   ]
  },
  {
   "cell_type": "code",
   "execution_count": 13,
   "id": "59647cdf-8c2a-40d6-bbc9-b7537616938a",
   "metadata": {},
   "outputs": [],
   "source": [
    "compute_T_and_grad_fdtd = ag.value_and_grad(compute_T_fdtd, argnum=(0, 1))"
   ]
  },
  {
   "cell_type": "markdown",
   "id": "81caed90-8554-441b-8948-b240e181e98c",
   "metadata": {},
   "source": [
    "Next, we call this function on our starting parameters, which will kick off the original (`fwd`) T transmission simulation and then the reverse (`adj`) simulation, which is used in combination with `fwd` for the gradient calculation."
   ]
  },
  {
   "cell_type": "code",
   "execution_count": 14,
   "id": "ef6716b3-79a3-40cc-ac2a-5056b5ed2ae9",
   "metadata": {},
   "outputs": [
    {
     "data": {
      "text/html": [
       "<pre style=\"white-space:pre;overflow-x:auto;line-height:normal;font-family:Menlo,'DejaVu Sans Mono',consolas,'Courier New',monospace\"><span style=\"color: #7fbfbf; text-decoration-color: #7fbfbf\">12:13:33 CEST </span>INFO: running primitive <span style=\"color: #008000; text-decoration-color: #008000\">'_run_primitive()'</span>                        \n",
       "</pre>\n"
      ],
      "text/plain": [
       "\u001b[2;36m12:13:33 CEST\u001b[0m\u001b[2;36m \u001b[0mINFO: running primitive \u001b[32m'_run_primitive\u001b[0m\u001b[32m(\u001b[0m\u001b[32m)\u001b[0m\u001b[32m'\u001b[0m                        \n"
      ]
     },
     "metadata": {},
     "output_type": "display_data"
    },
    {
     "data": {
      "text/html": [
       "<pre style=\"white-space:pre;overflow-x:auto;line-height:normal;font-family:Menlo,'DejaVu Sans Mono',consolas,'Courier New',monospace\"><span style=\"color: #7fbfbf; text-decoration-color: #7fbfbf\">              </span>INFO: running regular simulation with <span style=\"color: #008000; text-decoration-color: #008000\">'_run_tidy3d()'</span>             \n",
       "</pre>\n"
      ],
      "text/plain": [
       "\u001b[2;36m             \u001b[0m\u001b[2;36m \u001b[0mINFO: running regular simulation with \u001b[32m'_run_tidy3d\u001b[0m\u001b[32m(\u001b[0m\u001b[32m)\u001b[0m\u001b[32m'\u001b[0m             \n"
      ]
     },
     "metadata": {},
     "output_type": "display_data"
    },
    {
     "data": {
      "text/html": [
       "<pre style=\"white-space:pre;overflow-x:auto;line-height:normal;font-family:Menlo,'DejaVu Sans Mono',consolas,'Courier New',monospace\"><span style=\"color: #7fbfbf; text-decoration-color: #7fbfbf\">12:13:35 CEST </span>Created task <span style=\"color: #008000; text-decoration-color: #008000\">'slab'</span> with task_id                                  \n",
       "<span style=\"color: #7fbfbf; text-decoration-color: #7fbfbf\">              </span><span style=\"color: #008000; text-decoration-color: #008000\">'fdve-5ffaff3d-b6b6-4624-a428-452bb642a284'</span> and task_type <span style=\"color: #008000; text-decoration-color: #008000\">'FDTD'</span>. \n",
       "</pre>\n"
      ],
      "text/plain": [
       "\u001b[2;36m12:13:35 CEST\u001b[0m\u001b[2;36m \u001b[0mCreated task \u001b[32m'slab'\u001b[0m with task_id                                  \n",
       "\u001b[2;36m              \u001b[0m\u001b[32m'fdve-5ffaff3d-b6b6-4624-a428-452bb642a284'\u001b[0m and task_type \u001b[32m'FDTD'\u001b[0m. \n"
      ]
     },
     "metadata": {},
     "output_type": "display_data"
    },
    {
     "data": {
      "text/html": [
       "<pre style=\"white-space:pre;overflow-x:auto;line-height:normal;font-family:Menlo,'DejaVu Sans Mono',consolas,'Courier New',monospace\"><span style=\"color: #7fbfbf; text-decoration-color: #7fbfbf\">              </span>View task using web UI at                                         \n",
       "<span style=\"color: #7fbfbf; text-decoration-color: #7fbfbf\">              </span><a href=\"https://tidy3d.simulation.cloud/workbench?taskId=fdve-5ffaff3d-b6b6-4624-a428-452bb642a284\" target=\"_blank\"><span style=\"color: #008000; text-decoration-color: #008000\">'https://tidy3d.simulation.cloud/workbench?taskId=fdve-5ffaff3d-b6</span></a>\n",
       "<span style=\"color: #7fbfbf; text-decoration-color: #7fbfbf\">              </span><a href=\"https://tidy3d.simulation.cloud/workbench?taskId=fdve-5ffaff3d-b6b6-4624-a428-452bb642a284\" target=\"_blank\"><span style=\"color: #008000; text-decoration-color: #008000\">b6-4624-a428-452bb642a284'</span></a>.                                       \n",
       "</pre>\n"
      ],
      "text/plain": [
       "\u001b[2;36m             \u001b[0m\u001b[2;36m \u001b[0mView task using web UI at                                         \n",
       "\u001b[2;36m              \u001b[0m\u001b]8;id=463110;https://tidy3d.simulation.cloud/workbench?taskId=fdve-5ffaff3d-b6b6-4624-a428-452bb642a284\u001b\\\u001b[32m'https://tidy3d.simulation.cloud/workbench?\u001b[0m\u001b]8;;\u001b\\\u001b]8;id=562100;https://tidy3d.simulation.cloud/workbench?taskId=fdve-5ffaff3d-b6b6-4624-a428-452bb642a284\u001b\\\u001b[32mtaskId\u001b[0m\u001b]8;;\u001b\\\u001b]8;id=463110;https://tidy3d.simulation.cloud/workbench?taskId=fdve-5ffaff3d-b6b6-4624-a428-452bb642a284\u001b\\\u001b[32m=\u001b[0m\u001b]8;;\u001b\\\u001b]8;id=159206;https://tidy3d.simulation.cloud/workbench?taskId=fdve-5ffaff3d-b6b6-4624-a428-452bb642a284\u001b\\\u001b[32mfdve\u001b[0m\u001b]8;;\u001b\\\u001b]8;id=463110;https://tidy3d.simulation.cloud/workbench?taskId=fdve-5ffaff3d-b6b6-4624-a428-452bb642a284\u001b\\\u001b[32m-5ffaff3d-b6\u001b[0m\u001b]8;;\u001b\\\n",
       "\u001b[2;36m              \u001b[0m\u001b]8;id=463110;https://tidy3d.simulation.cloud/workbench?taskId=fdve-5ffaff3d-b6b6-4624-a428-452bb642a284\u001b\\\u001b[32mb6-4624-a428-452bb642a284'\u001b[0m\u001b]8;;\u001b\\.                                       \n"
      ]
     },
     "metadata": {},
     "output_type": "display_data"
    },
    {
     "data": {
      "application/vnd.jupyter.widget-view+json": {
       "model_id": "88adad449d374f8cb886c0b85f72bea8",
       "version_major": 2,
       "version_minor": 0
      },
      "text/plain": [
       "Output()"
      ]
     },
     "metadata": {},
     "output_type": "display_data"
    },
    {
     "data": {
      "text/html": [
       "<pre style=\"white-space:pre;overflow-x:auto;line-height:normal;font-family:Menlo,'DejaVu Sans Mono',consolas,'Courier New',monospace\"></pre>\n"
      ],
      "text/plain": []
     },
     "metadata": {},
     "output_type": "display_data"
    },
    {
     "data": {
      "text/html": [
       "<pre style=\"white-space:pre;overflow-x:auto;line-height:normal;font-family:Menlo,'DejaVu Sans Mono',consolas,'Courier New',monospace\">\n",
       "</pre>\n"
      ],
      "text/plain": [
       "\n"
      ]
     },
     "metadata": {},
     "output_type": "display_data"
    },
    {
     "data": {
      "text/html": [
       "<pre style=\"white-space:pre;overflow-x:auto;line-height:normal;font-family:Menlo,'DejaVu Sans Mono',consolas,'Courier New',monospace\"><span style=\"color: #7fbfbf; text-decoration-color: #7fbfbf\">12:13:37 CEST </span>status = queued                                                   \n",
       "</pre>\n"
      ],
      "text/plain": [
       "\u001b[2;36m12:13:37 CEST\u001b[0m\u001b[2;36m \u001b[0mstatus = queued                                                   \n"
      ]
     },
     "metadata": {},
     "output_type": "display_data"
    },
    {
     "data": {
      "text/html": [
       "<pre style=\"white-space:pre;overflow-x:auto;line-height:normal;font-family:Menlo,'DejaVu Sans Mono',consolas,'Courier New',monospace\"><span style=\"color: #7fbfbf; text-decoration-color: #7fbfbf\">              </span>To cancel the simulation, use <span style=\"color: #008000; text-decoration-color: #008000\">'web.abort(task_id)'</span> or             \n",
       "<span style=\"color: #7fbfbf; text-decoration-color: #7fbfbf\">              </span><span style=\"color: #008000; text-decoration-color: #008000\">'web.delete(task_id)'</span> or abort/delete the task in the web UI.     \n",
       "<span style=\"color: #7fbfbf; text-decoration-color: #7fbfbf\">              </span>Terminating the Python script will not stop the job running on the\n",
       "<span style=\"color: #7fbfbf; text-decoration-color: #7fbfbf\">              </span>cloud.                                                            \n",
       "</pre>\n"
      ],
      "text/plain": [
       "\u001b[2;36m             \u001b[0m\u001b[2;36m \u001b[0mTo cancel the simulation, use \u001b[32m'web.abort\u001b[0m\u001b[32m(\u001b[0m\u001b[32mtask_id\u001b[0m\u001b[32m)\u001b[0m\u001b[32m'\u001b[0m or             \n",
       "\u001b[2;36m              \u001b[0m\u001b[32m'web.delete\u001b[0m\u001b[32m(\u001b[0m\u001b[32mtask_id\u001b[0m\u001b[32m)\u001b[0m\u001b[32m'\u001b[0m or abort/delete the task in the web UI.     \n",
       "\u001b[2;36m              \u001b[0mTerminating the Python script will not stop the job running on the\n",
       "\u001b[2;36m              \u001b[0mcloud.                                                            \n"
      ]
     },
     "metadata": {},
     "output_type": "display_data"
    },
    {
     "data": {
      "application/vnd.jupyter.widget-view+json": {
       "model_id": "1f2f30d55d9b4c9f86c6beb6340a23d1",
       "version_major": 2,
       "version_minor": 0
      },
      "text/plain": [
       "Output()"
      ]
     },
     "metadata": {},
     "output_type": "display_data"
    },
    {
     "data": {
      "text/html": [
       "<pre style=\"white-space:pre;overflow-x:auto;line-height:normal;font-family:Menlo,'DejaVu Sans Mono',consolas,'Courier New',monospace\"><span style=\"color: #7fbfbf; text-decoration-color: #7fbfbf\">12:15:37 CEST </span>status = preprocess                                               \n",
       "</pre>\n"
      ],
      "text/plain": [
       "\u001b[2;36m12:15:37 CEST\u001b[0m\u001b[2;36m \u001b[0mstatus = preprocess                                               \n"
      ]
     },
     "metadata": {},
     "output_type": "display_data"
    },
    {
     "data": {
      "text/html": [
       "<pre style=\"white-space:pre;overflow-x:auto;line-height:normal;font-family:Menlo,'DejaVu Sans Mono',consolas,'Courier New',monospace\"></pre>\n"
      ],
      "text/plain": []
     },
     "metadata": {},
     "output_type": "display_data"
    },
    {
     "data": {
      "text/html": [
       "<pre style=\"white-space:pre;overflow-x:auto;line-height:normal;font-family:Menlo,'DejaVu Sans Mono',consolas,'Courier New',monospace\"><span style=\"color: #7fbfbf; text-decoration-color: #7fbfbf\">12:15:38 CEST </span>Maximum FlexCredit cost: <span style=\"color: #008080; text-decoration-color: #008080; font-weight: bold\">0.025</span>. Use <span style=\"color: #008000; text-decoration-color: #008000\">'web.real_cost(task_id)'</span> to   \n",
       "<span style=\"color: #7fbfbf; text-decoration-color: #7fbfbf\">              </span>get the billed FlexCredit cost after a simulation run.            \n",
       "</pre>\n"
      ],
      "text/plain": [
       "\u001b[2;36m12:15:38 CEST\u001b[0m\u001b[2;36m \u001b[0mMaximum FlexCredit cost: \u001b[1;36m0.025\u001b[0m. Use \u001b[32m'web.real_cost\u001b[0m\u001b[32m(\u001b[0m\u001b[32mtask_id\u001b[0m\u001b[32m)\u001b[0m\u001b[32m'\u001b[0m to   \n",
       "\u001b[2;36m              \u001b[0mget the billed FlexCredit cost after a simulation run.            \n"
      ]
     },
     "metadata": {},
     "output_type": "display_data"
    },
    {
     "data": {
      "text/html": [
       "<pre style=\"white-space:pre;overflow-x:auto;line-height:normal;font-family:Menlo,'DejaVu Sans Mono',consolas,'Courier New',monospace\"><span style=\"color: #7fbfbf; text-decoration-color: #7fbfbf\">              </span>starting up solver                                                \n",
       "</pre>\n"
      ],
      "text/plain": [
       "\u001b[2;36m             \u001b[0m\u001b[2;36m \u001b[0mstarting up solver                                                \n"
      ]
     },
     "metadata": {},
     "output_type": "display_data"
    },
    {
     "data": {
      "text/html": [
       "<pre style=\"white-space:pre;overflow-x:auto;line-height:normal;font-family:Menlo,'DejaVu Sans Mono',consolas,'Courier New',monospace\"><span style=\"color: #7fbfbf; text-decoration-color: #7fbfbf\">12:15:39 CEST </span>running solver                                                    \n",
       "</pre>\n"
      ],
      "text/plain": [
       "\u001b[2;36m12:15:39 CEST\u001b[0m\u001b[2;36m \u001b[0mrunning solver                                                    \n"
      ]
     },
     "metadata": {},
     "output_type": "display_data"
    },
    {
     "data": {
      "application/vnd.jupyter.widget-view+json": {
       "model_id": "e02fba3df2f44edb9b586752c20efe27",
       "version_major": 2,
       "version_minor": 0
      },
      "text/plain": [
       "Output()"
      ]
     },
     "metadata": {},
     "output_type": "display_data"
    },
    {
     "data": {
      "text/html": [
       "<pre style=\"white-space:pre;overflow-x:auto;line-height:normal;font-family:Menlo,'DejaVu Sans Mono',consolas,'Courier New',monospace\"><span style=\"color: #7fbfbf; text-decoration-color: #7fbfbf\">12:15:45 CEST </span>early shutoff detected at <span style=\"color: #008080; text-decoration-color: #008080; font-weight: bold\">32</span>%, exiting.                           \n",
       "</pre>\n"
      ],
      "text/plain": [
       "\u001b[2;36m12:15:45 CEST\u001b[0m\u001b[2;36m \u001b[0mearly shutoff detected at \u001b[1;36m32\u001b[0m%, exiting.                           \n"
      ]
     },
     "metadata": {},
     "output_type": "display_data"
    },
    {
     "data": {
      "text/html": [
       "<pre style=\"white-space:pre;overflow-x:auto;line-height:normal;font-family:Menlo,'DejaVu Sans Mono',consolas,'Courier New',monospace\"></pre>\n"
      ],
      "text/plain": []
     },
     "metadata": {},
     "output_type": "display_data"
    },
    {
     "data": {
      "text/html": [
       "<pre style=\"white-space:pre;overflow-x:auto;line-height:normal;font-family:Menlo,'DejaVu Sans Mono',consolas,'Courier New',monospace\">\n",
       "</pre>\n"
      ],
      "text/plain": [
       "\n"
      ]
     },
     "metadata": {},
     "output_type": "display_data"
    },
    {
     "data": {
      "text/html": [
       "<pre style=\"white-space:pre;overflow-x:auto;line-height:normal;font-family:Menlo,'DejaVu Sans Mono',consolas,'Courier New',monospace\"><span style=\"color: #7fbfbf; text-decoration-color: #7fbfbf\">              </span>status = success                                                  \n",
       "</pre>\n"
      ],
      "text/plain": [
       "\u001b[2;36m             \u001b[0m\u001b[2;36m \u001b[0mstatus = success                                                  \n"
      ]
     },
     "metadata": {},
     "output_type": "display_data"
    },
    {
     "data": {
      "text/html": [
       "<pre style=\"white-space:pre;overflow-x:auto;line-height:normal;font-family:Menlo,'DejaVu Sans Mono',consolas,'Courier New',monospace\"></pre>\n"
      ],
      "text/plain": []
     },
     "metadata": {},
     "output_type": "display_data"
    },
    {
     "data": {
      "text/html": [
       "<pre style=\"white-space:pre;overflow-x:auto;line-height:normal;font-family:Menlo,'DejaVu Sans Mono',consolas,'Courier New',monospace\"><span style=\"color: #7fbfbf; text-decoration-color: #7fbfbf\">              </span>View simulation result at                                         \n",
       "<span style=\"color: #7fbfbf; text-decoration-color: #7fbfbf\">              </span><a href=\"https://tidy3d.simulation.cloud/workbench?taskId=fdve-5ffaff3d-b6b6-4624-a428-452bb642a284\" target=\"_blank\"><span style=\"color: #000080; text-decoration-color: #000080; text-decoration: underline\">'https://tidy3d.simulation.cloud/workbench?taskId=fdve-5ffaff3d-b6</span></a>\n",
       "<span style=\"color: #7fbfbf; text-decoration-color: #7fbfbf\">              </span><a href=\"https://tidy3d.simulation.cloud/workbench?taskId=fdve-5ffaff3d-b6b6-4624-a428-452bb642a284\" target=\"_blank\"><span style=\"color: #000080; text-decoration-color: #000080; text-decoration: underline\">b6-4624-a428-452bb642a284'</span></a><span style=\"color: #000080; text-decoration-color: #000080; text-decoration: underline\">.</span>                                       \n",
       "</pre>\n"
      ],
      "text/plain": [
       "\u001b[2;36m             \u001b[0m\u001b[2;36m \u001b[0mView simulation result at                                         \n",
       "\u001b[2;36m              \u001b[0m\u001b]8;id=776471;https://tidy3d.simulation.cloud/workbench?taskId=fdve-5ffaff3d-b6b6-4624-a428-452bb642a284\u001b\\\u001b[4;34m'https://tidy3d.simulation.cloud/workbench?\u001b[0m\u001b]8;;\u001b\\\u001b]8;id=495705;https://tidy3d.simulation.cloud/workbench?taskId=fdve-5ffaff3d-b6b6-4624-a428-452bb642a284\u001b\\\u001b[4;34mtaskId\u001b[0m\u001b]8;;\u001b\\\u001b]8;id=776471;https://tidy3d.simulation.cloud/workbench?taskId=fdve-5ffaff3d-b6b6-4624-a428-452bb642a284\u001b\\\u001b[4;34m=\u001b[0m\u001b]8;;\u001b\\\u001b]8;id=962992;https://tidy3d.simulation.cloud/workbench?taskId=fdve-5ffaff3d-b6b6-4624-a428-452bb642a284\u001b\\\u001b[4;34mfdve\u001b[0m\u001b]8;;\u001b\\\u001b]8;id=776471;https://tidy3d.simulation.cloud/workbench?taskId=fdve-5ffaff3d-b6b6-4624-a428-452bb642a284\u001b\\\u001b[4;34m-5ffaff3d-b6\u001b[0m\u001b]8;;\u001b\\\n",
       "\u001b[2;36m              \u001b[0m\u001b]8;id=776471;https://tidy3d.simulation.cloud/workbench?taskId=fdve-5ffaff3d-b6b6-4624-a428-452bb642a284\u001b\\\u001b[4;34mb6-4624-a428-452bb642a284'\u001b[0m\u001b]8;;\u001b\\\u001b[4;34m.\u001b[0m                                       \n"
      ]
     },
     "metadata": {},
     "output_type": "display_data"
    },
    {
     "data": {
      "application/vnd.jupyter.widget-view+json": {
       "model_id": "a38ca77291d04a07a948b367661070ce",
       "version_major": 2,
       "version_minor": 0
      },
      "text/plain": [
       "Output()"
      ]
     },
     "metadata": {},
     "output_type": "display_data"
    },
    {
     "data": {
      "text/html": [
       "<pre style=\"white-space:pre;overflow-x:auto;line-height:normal;font-family:Menlo,'DejaVu Sans Mono',consolas,'Courier New',monospace\"></pre>\n"
      ],
      "text/plain": []
     },
     "metadata": {},
     "output_type": "display_data"
    },
    {
     "data": {
      "text/html": [
       "<pre style=\"white-space:pre;overflow-x:auto;line-height:normal;font-family:Menlo,'DejaVu Sans Mono',consolas,'Courier New',monospace\">\n",
       "</pre>\n"
      ],
      "text/plain": [
       "\n"
      ]
     },
     "metadata": {},
     "output_type": "display_data"
    },
    {
     "data": {
      "text/html": [
       "<pre style=\"white-space:pre;overflow-x:auto;line-height:normal;font-family:Menlo,'DejaVu Sans Mono',consolas,'Courier New',monospace\"><span style=\"color: #7fbfbf; text-decoration-color: #7fbfbf\">12:15:47 CEST </span>loading simulation from simulation_data.hdf5                      \n",
       "</pre>\n"
      ],
      "text/plain": [
       "\u001b[2;36m12:15:47 CEST\u001b[0m\u001b[2;36m \u001b[0mloading simulation from simulation_data.hdf5                      \n"
      ]
     },
     "metadata": {},
     "output_type": "display_data"
    },
    {
     "data": {
      "text/html": [
       "<pre style=\"white-space:pre;overflow-x:auto;line-height:normal;font-family:Menlo,'DejaVu Sans Mono',consolas,'Courier New',monospace\"><span style=\"color: #7fbfbf; text-decoration-color: #7fbfbf\">              </span>INFO:  -&gt; <span style=\"color: #008080; text-decoration-color: #008080; font-weight: bold\">1</span> monitors, <span style=\"color: #008080; text-decoration-color: #008080; font-weight: bold\">4</span> adjoint field monitors, <span style=\"color: #008080; text-decoration-color: #008080; font-weight: bold\">4</span> adjoint eps     \n",
       "<span style=\"color: #7fbfbf; text-decoration-color: #7fbfbf\">              </span>monitors.                                                         \n",
       "</pre>\n"
      ],
      "text/plain": [
       "\u001b[2;36m             \u001b[0m\u001b[2;36m \u001b[0mINFO:  -> \u001b[1;36m1\u001b[0m monitors, \u001b[1;36m4\u001b[0m adjoint field monitors, \u001b[1;36m4\u001b[0m adjoint eps     \n",
       "\u001b[2;36m              \u001b[0mmonitors.                                                         \n"
      ]
     },
     "metadata": {},
     "output_type": "display_data"
    },
    {
     "data": {
      "text/html": [
       "<pre style=\"white-space:pre;overflow-x:auto;line-height:normal;font-family:Menlo,'DejaVu Sans Mono',consolas,'Courier New',monospace\"><span style=\"color: #7fbfbf; text-decoration-color: #7fbfbf\">              </span>INFO: constructing custom vjp function for backwards pass.        \n",
       "</pre>\n"
      ],
      "text/plain": [
       "\u001b[2;36m             \u001b[0m\u001b[2;36m \u001b[0mINFO: constructing custom vjp function for backwards pass.        \n"
      ]
     },
     "metadata": {},
     "output_type": "display_data"
    },
    {
     "data": {
      "text/html": [
       "<pre style=\"white-space:pre;overflow-x:auto;line-height:normal;font-family:Menlo,'DejaVu Sans Mono',consolas,'Courier New',monospace\"><span style=\"color: #7fbfbf; text-decoration-color: #7fbfbf\">              </span>INFO: Running custom vjp <span style=\"font-weight: bold\">(</span>adjoint<span style=\"font-weight: bold\">)</span> pipeline.                      \n",
       "</pre>\n"
      ],
      "text/plain": [
       "\u001b[2;36m             \u001b[0m\u001b[2;36m \u001b[0mINFO: Running custom vjp \u001b[1m(\u001b[0madjoint\u001b[1m)\u001b[0m pipeline.                      \n"
      ]
     },
     "metadata": {},
     "output_type": "display_data"
    },
    {
     "data": {
      "text/html": [
       "<pre style=\"white-space:pre;overflow-x:auto;line-height:normal;font-family:Menlo,'DejaVu Sans Mono',consolas,'Courier New',monospace\"><span style=\"color: #7fbfbf; text-decoration-color: #7fbfbf\">              </span>INFO: Adjoint simulation created with <span style=\"color: #008080; text-decoration-color: #008080; font-weight: bold\">1</span> sources.                  \n",
       "</pre>\n"
      ],
      "text/plain": [
       "\u001b[2;36m             \u001b[0m\u001b[2;36m \u001b[0mINFO: Adjoint simulation created with \u001b[1;36m1\u001b[0m sources.                  \n"
      ]
     },
     "metadata": {},
     "output_type": "display_data"
    },
    {
     "data": {
      "text/html": [
       "<pre style=\"white-space:pre;overflow-x:auto;line-height:normal;font-family:Menlo,'DejaVu Sans Mono',consolas,'Courier New',monospace\"><span style=\"color: #7fbfbf; text-decoration-color: #7fbfbf\">              </span>INFO: running regular simulation with <span style=\"color: #008000; text-decoration-color: #008000\">'_run_tidy3d()'</span>             \n",
       "</pre>\n"
      ],
      "text/plain": [
       "\u001b[2;36m             \u001b[0m\u001b[2;36m \u001b[0mINFO: running regular simulation with \u001b[32m'_run_tidy3d\u001b[0m\u001b[32m(\u001b[0m\u001b[32m)\u001b[0m\u001b[32m'\u001b[0m             \n"
      ]
     },
     "metadata": {},
     "output_type": "display_data"
    },
    {
     "data": {
      "text/html": [
       "<pre style=\"white-space:pre;overflow-x:auto;line-height:normal;font-family:Menlo,'DejaVu Sans Mono',consolas,'Courier New',monospace\"><span style=\"color: #7fbfbf; text-decoration-color: #7fbfbf\">              </span>Created task <span style=\"color: #008000; text-decoration-color: #008000\">'slab_adjoint'</span> with task_id                          \n",
       "<span style=\"color: #7fbfbf; text-decoration-color: #7fbfbf\">              </span><span style=\"color: #008000; text-decoration-color: #008000\">'fdve-56663dd1-0c3f-4db8-aa13-7e7f846d277e'</span> and task_type <span style=\"color: #008000; text-decoration-color: #008000\">'FDTD'</span>. \n",
       "</pre>\n"
      ],
      "text/plain": [
       "\u001b[2;36m             \u001b[0m\u001b[2;36m \u001b[0mCreated task \u001b[32m'slab_adjoint'\u001b[0m with task_id                          \n",
       "\u001b[2;36m              \u001b[0m\u001b[32m'fdve-56663dd1-0c3f-4db8-aa13-7e7f846d277e'\u001b[0m and task_type \u001b[32m'FDTD'\u001b[0m. \n"
      ]
     },
     "metadata": {},
     "output_type": "display_data"
    },
    {
     "data": {
      "text/html": [
       "<pre style=\"white-space:pre;overflow-x:auto;line-height:normal;font-family:Menlo,'DejaVu Sans Mono',consolas,'Courier New',monospace\"><span style=\"color: #7fbfbf; text-decoration-color: #7fbfbf\">              </span>View task using web UI at                                         \n",
       "<span style=\"color: #7fbfbf; text-decoration-color: #7fbfbf\">              </span><a href=\"https://tidy3d.simulation.cloud/workbench?taskId=fdve-56663dd1-0c3f-4db8-aa13-7e7f846d277e\" target=\"_blank\"><span style=\"color: #008000; text-decoration-color: #008000\">'https://tidy3d.simulation.cloud/workbench?taskId=fdve-56663dd1-0c</span></a>\n",
       "<span style=\"color: #7fbfbf; text-decoration-color: #7fbfbf\">              </span><a href=\"https://tidy3d.simulation.cloud/workbench?taskId=fdve-56663dd1-0c3f-4db8-aa13-7e7f846d277e\" target=\"_blank\"><span style=\"color: #008000; text-decoration-color: #008000\">3f-4db8-aa13-7e7f846d277e'</span></a>.                                       \n",
       "</pre>\n"
      ],
      "text/plain": [
       "\u001b[2;36m             \u001b[0m\u001b[2;36m \u001b[0mView task using web UI at                                         \n",
       "\u001b[2;36m              \u001b[0m\u001b]8;id=360787;https://tidy3d.simulation.cloud/workbench?taskId=fdve-56663dd1-0c3f-4db8-aa13-7e7f846d277e\u001b\\\u001b[32m'https://tidy3d.simulation.cloud/workbench?\u001b[0m\u001b]8;;\u001b\\\u001b]8;id=887614;https://tidy3d.simulation.cloud/workbench?taskId=fdve-56663dd1-0c3f-4db8-aa13-7e7f846d277e\u001b\\\u001b[32mtaskId\u001b[0m\u001b]8;;\u001b\\\u001b]8;id=360787;https://tidy3d.simulation.cloud/workbench?taskId=fdve-56663dd1-0c3f-4db8-aa13-7e7f846d277e\u001b\\\u001b[32m=\u001b[0m\u001b]8;;\u001b\\\u001b]8;id=249167;https://tidy3d.simulation.cloud/workbench?taskId=fdve-56663dd1-0c3f-4db8-aa13-7e7f846d277e\u001b\\\u001b[32mfdve\u001b[0m\u001b]8;;\u001b\\\u001b]8;id=360787;https://tidy3d.simulation.cloud/workbench?taskId=fdve-56663dd1-0c3f-4db8-aa13-7e7f846d277e\u001b\\\u001b[32m-56663dd1-0c\u001b[0m\u001b]8;;\u001b\\\n",
       "\u001b[2;36m              \u001b[0m\u001b]8;id=360787;https://tidy3d.simulation.cloud/workbench?taskId=fdve-56663dd1-0c3f-4db8-aa13-7e7f846d277e\u001b\\\u001b[32m3f-4db8-aa13-7e7f846d277e'\u001b[0m\u001b]8;;\u001b\\.                                       \n"
      ]
     },
     "metadata": {},
     "output_type": "display_data"
    },
    {
     "data": {
      "application/vnd.jupyter.widget-view+json": {
       "model_id": "a6724d44db13417f8c66b44aa72d9940",
       "version_major": 2,
       "version_minor": 0
      },
      "text/plain": [
       "Output()"
      ]
     },
     "metadata": {},
     "output_type": "display_data"
    },
    {
     "data": {
      "text/html": [
       "<pre style=\"white-space:pre;overflow-x:auto;line-height:normal;font-family:Menlo,'DejaVu Sans Mono',consolas,'Courier New',monospace\"></pre>\n"
      ],
      "text/plain": []
     },
     "metadata": {},
     "output_type": "display_data"
    },
    {
     "data": {
      "text/html": [
       "<pre style=\"white-space:pre;overflow-x:auto;line-height:normal;font-family:Menlo,'DejaVu Sans Mono',consolas,'Courier New',monospace\">\n",
       "</pre>\n"
      ],
      "text/plain": [
       "\n"
      ]
     },
     "metadata": {},
     "output_type": "display_data"
    },
    {
     "data": {
      "text/html": [
       "<pre style=\"white-space:pre;overflow-x:auto;line-height:normal;font-family:Menlo,'DejaVu Sans Mono',consolas,'Courier New',monospace\"><span style=\"color: #7fbfbf; text-decoration-color: #7fbfbf\">12:15:50 CEST </span>status = queued                                                   \n",
       "</pre>\n"
      ],
      "text/plain": [
       "\u001b[2;36m12:15:50 CEST\u001b[0m\u001b[2;36m \u001b[0mstatus = queued                                                   \n"
      ]
     },
     "metadata": {},
     "output_type": "display_data"
    },
    {
     "data": {
      "text/html": [
       "<pre style=\"white-space:pre;overflow-x:auto;line-height:normal;font-family:Menlo,'DejaVu Sans Mono',consolas,'Courier New',monospace\"><span style=\"color: #7fbfbf; text-decoration-color: #7fbfbf\">              </span>To cancel the simulation, use <span style=\"color: #008000; text-decoration-color: #008000\">'web.abort(task_id)'</span> or             \n",
       "<span style=\"color: #7fbfbf; text-decoration-color: #7fbfbf\">              </span><span style=\"color: #008000; text-decoration-color: #008000\">'web.delete(task_id)'</span> or abort/delete the task in the web UI.     \n",
       "<span style=\"color: #7fbfbf; text-decoration-color: #7fbfbf\">              </span>Terminating the Python script will not stop the job running on the\n",
       "<span style=\"color: #7fbfbf; text-decoration-color: #7fbfbf\">              </span>cloud.                                                            \n",
       "</pre>\n"
      ],
      "text/plain": [
       "\u001b[2;36m             \u001b[0m\u001b[2;36m \u001b[0mTo cancel the simulation, use \u001b[32m'web.abort\u001b[0m\u001b[32m(\u001b[0m\u001b[32mtask_id\u001b[0m\u001b[32m)\u001b[0m\u001b[32m'\u001b[0m or             \n",
       "\u001b[2;36m              \u001b[0m\u001b[32m'web.delete\u001b[0m\u001b[32m(\u001b[0m\u001b[32mtask_id\u001b[0m\u001b[32m)\u001b[0m\u001b[32m'\u001b[0m or abort/delete the task in the web UI.     \n",
       "\u001b[2;36m              \u001b[0mTerminating the Python script will not stop the job running on the\n",
       "\u001b[2;36m              \u001b[0mcloud.                                                            \n"
      ]
     },
     "metadata": {},
     "output_type": "display_data"
    },
    {
     "data": {
      "application/vnd.jupyter.widget-view+json": {
       "model_id": "4b64fa2ef9914c5d929931d7b4ec1f07",
       "version_major": 2,
       "version_minor": 0
      },
      "text/plain": [
       "Output()"
      ]
     },
     "metadata": {},
     "output_type": "display_data"
    },
    {
     "data": {
      "text/html": [
       "<pre style=\"white-space:pre;overflow-x:auto;line-height:normal;font-family:Menlo,'DejaVu Sans Mono',consolas,'Courier New',monospace\"><span style=\"color: #7fbfbf; text-decoration-color: #7fbfbf\">12:16:28 CEST </span>status = preprocess                                               \n",
       "</pre>\n"
      ],
      "text/plain": [
       "\u001b[2;36m12:16:28 CEST\u001b[0m\u001b[2;36m \u001b[0mstatus = preprocess                                               \n"
      ]
     },
     "metadata": {},
     "output_type": "display_data"
    },
    {
     "data": {
      "text/html": [
       "<pre style=\"white-space:pre;overflow-x:auto;line-height:normal;font-family:Menlo,'DejaVu Sans Mono',consolas,'Courier New',monospace\"></pre>\n"
      ],
      "text/plain": []
     },
     "metadata": {},
     "output_type": "display_data"
    },
    {
     "data": {
      "text/html": [
       "<pre style=\"white-space:pre;overflow-x:auto;line-height:normal;font-family:Menlo,'DejaVu Sans Mono',consolas,'Courier New',monospace\"><span style=\"color: #7fbfbf; text-decoration-color: #7fbfbf\">12:16:29 CEST </span>Maximum FlexCredit cost: <span style=\"color: #008080; text-decoration-color: #008080; font-weight: bold\">0.025</span>. Use <span style=\"color: #008000; text-decoration-color: #008000\">'web.real_cost(task_id)'</span> to   \n",
       "<span style=\"color: #7fbfbf; text-decoration-color: #7fbfbf\">              </span>get the billed FlexCredit cost after a simulation run.            \n",
       "</pre>\n"
      ],
      "text/plain": [
       "\u001b[2;36m12:16:29 CEST\u001b[0m\u001b[2;36m \u001b[0mMaximum FlexCredit cost: \u001b[1;36m0.025\u001b[0m. Use \u001b[32m'web.real_cost\u001b[0m\u001b[32m(\u001b[0m\u001b[32mtask_id\u001b[0m\u001b[32m)\u001b[0m\u001b[32m'\u001b[0m to   \n",
       "\u001b[2;36m              \u001b[0mget the billed FlexCredit cost after a simulation run.            \n"
      ]
     },
     "metadata": {},
     "output_type": "display_data"
    },
    {
     "data": {
      "text/html": [
       "<pre style=\"white-space:pre;overflow-x:auto;line-height:normal;font-family:Menlo,'DejaVu Sans Mono',consolas,'Courier New',monospace\"><span style=\"color: #7fbfbf; text-decoration-color: #7fbfbf\">              </span>starting up solver                                                \n",
       "</pre>\n"
      ],
      "text/plain": [
       "\u001b[2;36m             \u001b[0m\u001b[2;36m \u001b[0mstarting up solver                                                \n"
      ]
     },
     "metadata": {},
     "output_type": "display_data"
    },
    {
     "data": {
      "text/html": [
       "<pre style=\"white-space:pre;overflow-x:auto;line-height:normal;font-family:Menlo,'DejaVu Sans Mono',consolas,'Courier New',monospace\"><span style=\"color: #7fbfbf; text-decoration-color: #7fbfbf\">12:16:30 CEST </span>running solver                                                    \n",
       "</pre>\n"
      ],
      "text/plain": [
       "\u001b[2;36m12:16:30 CEST\u001b[0m\u001b[2;36m \u001b[0mrunning solver                                                    \n"
      ]
     },
     "metadata": {},
     "output_type": "display_data"
    },
    {
     "data": {
      "application/vnd.jupyter.widget-view+json": {
       "model_id": "250a99486080454293a2b9d2a735f422",
       "version_major": 2,
       "version_minor": 0
      },
      "text/plain": [
       "Output()"
      ]
     },
     "metadata": {},
     "output_type": "display_data"
    },
    {
     "data": {
      "text/html": [
       "<pre style=\"white-space:pre;overflow-x:auto;line-height:normal;font-family:Menlo,'DejaVu Sans Mono',consolas,'Courier New',monospace\"><span style=\"color: #7fbfbf; text-decoration-color: #7fbfbf\">12:16:34 CEST </span>early shutoff detected at <span style=\"color: #008080; text-decoration-color: #008080; font-weight: bold\">32</span>%, exiting.                           \n",
       "</pre>\n"
      ],
      "text/plain": [
       "\u001b[2;36m12:16:34 CEST\u001b[0m\u001b[2;36m \u001b[0mearly shutoff detected at \u001b[1;36m32\u001b[0m%, exiting.                           \n"
      ]
     },
     "metadata": {},
     "output_type": "display_data"
    },
    {
     "data": {
      "text/html": [
       "<pre style=\"white-space:pre;overflow-x:auto;line-height:normal;font-family:Menlo,'DejaVu Sans Mono',consolas,'Courier New',monospace\"></pre>\n"
      ],
      "text/plain": []
     },
     "metadata": {},
     "output_type": "display_data"
    },
    {
     "data": {
      "text/html": [
       "<pre style=\"white-space:pre;overflow-x:auto;line-height:normal;font-family:Menlo,'DejaVu Sans Mono',consolas,'Courier New',monospace\">\n",
       "</pre>\n"
      ],
      "text/plain": [
       "\n"
      ]
     },
     "metadata": {},
     "output_type": "display_data"
    },
    {
     "data": {
      "text/html": [
       "<pre style=\"white-space:pre;overflow-x:auto;line-height:normal;font-family:Menlo,'DejaVu Sans Mono',consolas,'Courier New',monospace\"><span style=\"color: #7fbfbf; text-decoration-color: #7fbfbf\">12:16:35 CEST </span>status = postprocess                                              \n",
       "</pre>\n"
      ],
      "text/plain": [
       "\u001b[2;36m12:16:35 CEST\u001b[0m\u001b[2;36m \u001b[0mstatus = postprocess                                              \n"
      ]
     },
     "metadata": {},
     "output_type": "display_data"
    },
    {
     "data": {
      "application/vnd.jupyter.widget-view+json": {
       "model_id": "abeb6aa7c3c64dc89196c575ed152faf",
       "version_major": 2,
       "version_minor": 0
      },
      "text/plain": [
       "Output()"
      ]
     },
     "metadata": {},
     "output_type": "display_data"
    },
    {
     "data": {
      "text/html": [
       "<pre style=\"white-space:pre;overflow-x:auto;line-height:normal;font-family:Menlo,'DejaVu Sans Mono',consolas,'Courier New',monospace\"><span style=\"color: #7fbfbf; text-decoration-color: #7fbfbf\">              </span>status = success                                                  \n",
       "</pre>\n"
      ],
      "text/plain": [
       "\u001b[2;36m             \u001b[0m\u001b[2;36m \u001b[0mstatus = success                                                  \n"
      ]
     },
     "metadata": {},
     "output_type": "display_data"
    },
    {
     "data": {
      "text/html": [
       "<pre style=\"white-space:pre;overflow-x:auto;line-height:normal;font-family:Menlo,'DejaVu Sans Mono',consolas,'Courier New',monospace\"></pre>\n"
      ],
      "text/plain": []
     },
     "metadata": {},
     "output_type": "display_data"
    },
    {
     "data": {
      "text/html": [
       "<pre style=\"white-space:pre;overflow-x:auto;line-height:normal;font-family:Menlo,'DejaVu Sans Mono',consolas,'Courier New',monospace\"><span style=\"color: #7fbfbf; text-decoration-color: #7fbfbf\">12:16:36 CEST </span>View simulation result at                                         \n",
       "<span style=\"color: #7fbfbf; text-decoration-color: #7fbfbf\">              </span><a href=\"https://tidy3d.simulation.cloud/workbench?taskId=fdve-56663dd1-0c3f-4db8-aa13-7e7f846d277e\" target=\"_blank\"><span style=\"color: #000080; text-decoration-color: #000080; text-decoration: underline\">'https://tidy3d.simulation.cloud/workbench?taskId=fdve-56663dd1-0c</span></a>\n",
       "<span style=\"color: #7fbfbf; text-decoration-color: #7fbfbf\">              </span><a href=\"https://tidy3d.simulation.cloud/workbench?taskId=fdve-56663dd1-0c3f-4db8-aa13-7e7f846d277e\" target=\"_blank\"><span style=\"color: #000080; text-decoration-color: #000080; text-decoration: underline\">3f-4db8-aa13-7e7f846d277e'</span></a><span style=\"color: #000080; text-decoration-color: #000080; text-decoration: underline\">.</span>                                       \n",
       "</pre>\n"
      ],
      "text/plain": [
       "\u001b[2;36m12:16:36 CEST\u001b[0m\u001b[2;36m \u001b[0mView simulation result at                                         \n",
       "\u001b[2;36m              \u001b[0m\u001b]8;id=813187;https://tidy3d.simulation.cloud/workbench?taskId=fdve-56663dd1-0c3f-4db8-aa13-7e7f846d277e\u001b\\\u001b[4;34m'https://tidy3d.simulation.cloud/workbench?\u001b[0m\u001b]8;;\u001b\\\u001b]8;id=243450;https://tidy3d.simulation.cloud/workbench?taskId=fdve-56663dd1-0c3f-4db8-aa13-7e7f846d277e\u001b\\\u001b[4;34mtaskId\u001b[0m\u001b]8;;\u001b\\\u001b]8;id=813187;https://tidy3d.simulation.cloud/workbench?taskId=fdve-56663dd1-0c3f-4db8-aa13-7e7f846d277e\u001b\\\u001b[4;34m=\u001b[0m\u001b]8;;\u001b\\\u001b]8;id=769601;https://tidy3d.simulation.cloud/workbench?taskId=fdve-56663dd1-0c3f-4db8-aa13-7e7f846d277e\u001b\\\u001b[4;34mfdve\u001b[0m\u001b]8;;\u001b\\\u001b]8;id=813187;https://tidy3d.simulation.cloud/workbench?taskId=fdve-56663dd1-0c3f-4db8-aa13-7e7f846d277e\u001b\\\u001b[4;34m-56663dd1-0c\u001b[0m\u001b]8;;\u001b\\\n",
       "\u001b[2;36m              \u001b[0m\u001b]8;id=813187;https://tidy3d.simulation.cloud/workbench?taskId=fdve-56663dd1-0c3f-4db8-aa13-7e7f846d277e\u001b\\\u001b[4;34m3f-4db8-aa13-7e7f846d277e'\u001b[0m\u001b]8;;\u001b\\\u001b[4;34m.\u001b[0m                                       \n"
      ]
     },
     "metadata": {},
     "output_type": "display_data"
    },
    {
     "data": {
      "application/vnd.jupyter.widget-view+json": {
       "model_id": "69cbd129b1b84a5ca14b633b5a965b4d",
       "version_major": 2,
       "version_minor": 0
      },
      "text/plain": [
       "Output()"
      ]
     },
     "metadata": {},
     "output_type": "display_data"
    },
    {
     "data": {
      "text/html": [
       "<pre style=\"white-space:pre;overflow-x:auto;line-height:normal;font-family:Menlo,'DejaVu Sans Mono',consolas,'Courier New',monospace\"></pre>\n"
      ],
      "text/plain": []
     },
     "metadata": {},
     "output_type": "display_data"
    },
    {
     "data": {
      "text/html": [
       "<pre style=\"white-space:pre;overflow-x:auto;line-height:normal;font-family:Menlo,'DejaVu Sans Mono',consolas,'Courier New',monospace\">\n",
       "</pre>\n"
      ],
      "text/plain": [
       "\n"
      ]
     },
     "metadata": {},
     "output_type": "display_data"
    },
    {
     "data": {
      "text/html": [
       "<pre style=\"white-space:pre;overflow-x:auto;line-height:normal;font-family:Menlo,'DejaVu Sans Mono',consolas,'Courier New',monospace\"><span style=\"color: #7fbfbf; text-decoration-color: #7fbfbf\">12:16:37 CEST </span>loading simulation from simulation_data.hdf5                      \n",
       "</pre>\n"
      ],
      "text/plain": [
       "\u001b[2;36m12:16:37 CEST\u001b[0m\u001b[2;36m \u001b[0mloading simulation from simulation_data.hdf5                      \n"
      ]
     },
     "metadata": {},
     "output_type": "display_data"
    },
    {
     "data": {
      "text/html": [
       "<pre style=\"white-space:pre;overflow-x:auto;line-height:normal;font-family:Menlo,'DejaVu Sans Mono',consolas,'Courier New',monospace\"><span style=\"color: #7fbfbf; text-decoration-color: #7fbfbf\">              </span>INFO: skipping VJP for <span style=\"color: #008000; text-decoration-color: #008000\">'Box'</span> face <span style=\"color: #008000; text-decoration-color: #008000\">'x-'</span> as it is entirely outside  \n",
       "<span style=\"color: #7fbfbf; text-decoration-color: #7fbfbf\">              </span>of the simulation domain.                                         \n",
       "</pre>\n"
      ],
      "text/plain": [
       "\u001b[2;36m             \u001b[0m\u001b[2;36m \u001b[0mINFO: skipping VJP for \u001b[32m'Box'\u001b[0m face \u001b[32m'x-'\u001b[0m as it is entirely outside  \n",
       "\u001b[2;36m              \u001b[0mof the simulation domain.                                         \n"
      ]
     },
     "metadata": {},
     "output_type": "display_data"
    },
    {
     "data": {
      "text/html": [
       "<pre style=\"white-space:pre;overflow-x:auto;line-height:normal;font-family:Menlo,'DejaVu Sans Mono',consolas,'Courier New',monospace\"><span style=\"color: #7fbfbf; text-decoration-color: #7fbfbf\">              </span>INFO: skipping VJP for <span style=\"color: #008000; text-decoration-color: #008000\">'Box'</span> face <span style=\"color: #008000; text-decoration-color: #008000\">'y-'</span> as it is entirely outside  \n",
       "<span style=\"color: #7fbfbf; text-decoration-color: #7fbfbf\">              </span>of the simulation domain.                                         \n",
       "</pre>\n"
      ],
      "text/plain": [
       "\u001b[2;36m             \u001b[0m\u001b[2;36m \u001b[0mINFO: skipping VJP for \u001b[32m'Box'\u001b[0m face \u001b[32m'y-'\u001b[0m as it is entirely outside  \n",
       "\u001b[2;36m              \u001b[0mof the simulation domain.                                         \n"
      ]
     },
     "metadata": {},
     "output_type": "display_data"
    },
    {
     "data": {
      "text/html": [
       "<pre style=\"white-space:pre;overflow-x:auto;line-height:normal;font-family:Menlo,'DejaVu Sans Mono',consolas,'Courier New',monospace\"><span style=\"color: #7fbfbf; text-decoration-color: #7fbfbf\">              </span>INFO: skipping VJP for <span style=\"color: #008000; text-decoration-color: #008000\">'Box'</span> face <span style=\"color: #008000; text-decoration-color: #008000\">'x+'</span> as it is entirely outside  \n",
       "<span style=\"color: #7fbfbf; text-decoration-color: #7fbfbf\">              </span>of the simulation domain.                                         \n",
       "</pre>\n"
      ],
      "text/plain": [
       "\u001b[2;36m             \u001b[0m\u001b[2;36m \u001b[0mINFO: skipping VJP for \u001b[32m'Box'\u001b[0m face \u001b[32m'x+'\u001b[0m as it is entirely outside  \n",
       "\u001b[2;36m              \u001b[0mof the simulation domain.                                         \n"
      ]
     },
     "metadata": {},
     "output_type": "display_data"
    },
    {
     "data": {
      "text/html": [
       "<pre style=\"white-space:pre;overflow-x:auto;line-height:normal;font-family:Menlo,'DejaVu Sans Mono',consolas,'Courier New',monospace\"><span style=\"color: #7fbfbf; text-decoration-color: #7fbfbf\">12:16:38 CEST </span>INFO: skipping VJP for <span style=\"color: #008000; text-decoration-color: #008000\">'Box'</span> face <span style=\"color: #008000; text-decoration-color: #008000\">'y+'</span> as it is entirely outside  \n",
       "<span style=\"color: #7fbfbf; text-decoration-color: #7fbfbf\">              </span>of the simulation domain.                                         \n",
       "</pre>\n"
      ],
      "text/plain": [
       "\u001b[2;36m12:16:38 CEST\u001b[0m\u001b[2;36m \u001b[0mINFO: skipping VJP for \u001b[32m'Box'\u001b[0m face \u001b[32m'y+'\u001b[0m as it is entirely outside  \n",
       "\u001b[2;36m              \u001b[0mof the simulation domain.                                         \n"
      ]
     },
     "metadata": {},
     "output_type": "display_data"
    },
    {
     "data": {
      "text/html": [
       "<pre style=\"white-space:pre;overflow-x:auto;line-height:normal;font-family:Menlo,'DejaVu Sans Mono',consolas,'Courier New',monospace\"><span style=\"color: #7fbfbf; text-decoration-color: #7fbfbf\">              </span>INFO: skipping VJP for <span style=\"color: #008000; text-decoration-color: #008000\">'Box'</span> face <span style=\"color: #008000; text-decoration-color: #008000\">'x-'</span> as it is entirely outside  \n",
       "<span style=\"color: #7fbfbf; text-decoration-color: #7fbfbf\">              </span>of the simulation domain.                                         \n",
       "</pre>\n"
      ],
      "text/plain": [
       "\u001b[2;36m             \u001b[0m\u001b[2;36m \u001b[0mINFO: skipping VJP for \u001b[32m'Box'\u001b[0m face \u001b[32m'x-'\u001b[0m as it is entirely outside  \n",
       "\u001b[2;36m              \u001b[0mof the simulation domain.                                         \n"
      ]
     },
     "metadata": {},
     "output_type": "display_data"
    },
    {
     "data": {
      "text/html": [
       "<pre style=\"white-space:pre;overflow-x:auto;line-height:normal;font-family:Menlo,'DejaVu Sans Mono',consolas,'Courier New',monospace\"><span style=\"color: #7fbfbf; text-decoration-color: #7fbfbf\">              </span>INFO: skipping VJP for <span style=\"color: #008000; text-decoration-color: #008000\">'Box'</span> face <span style=\"color: #008000; text-decoration-color: #008000\">'y-'</span> as it is entirely outside  \n",
       "<span style=\"color: #7fbfbf; text-decoration-color: #7fbfbf\">              </span>of the simulation domain.                                         \n",
       "</pre>\n"
      ],
      "text/plain": [
       "\u001b[2;36m             \u001b[0m\u001b[2;36m \u001b[0mINFO: skipping VJP for \u001b[32m'Box'\u001b[0m face \u001b[32m'y-'\u001b[0m as it is entirely outside  \n",
       "\u001b[2;36m              \u001b[0mof the simulation domain.                                         \n"
      ]
     },
     "metadata": {},
     "output_type": "display_data"
    },
    {
     "data": {
      "text/html": [
       "<pre style=\"white-space:pre;overflow-x:auto;line-height:normal;font-family:Menlo,'DejaVu Sans Mono',consolas,'Courier New',monospace\"><span style=\"color: #7fbfbf; text-decoration-color: #7fbfbf\">              </span>INFO: skipping VJP for <span style=\"color: #008000; text-decoration-color: #008000\">'Box'</span> face <span style=\"color: #008000; text-decoration-color: #008000\">'x+'</span> as it is entirely outside  \n",
       "<span style=\"color: #7fbfbf; text-decoration-color: #7fbfbf\">              </span>of the simulation domain.                                         \n",
       "</pre>\n"
      ],
      "text/plain": [
       "\u001b[2;36m             \u001b[0m\u001b[2;36m \u001b[0mINFO: skipping VJP for \u001b[32m'Box'\u001b[0m face \u001b[32m'x+'\u001b[0m as it is entirely outside  \n",
       "\u001b[2;36m              \u001b[0mof the simulation domain.                                         \n"
      ]
     },
     "metadata": {},
     "output_type": "display_data"
    },
    {
     "data": {
      "text/html": [
       "<pre style=\"white-space:pre;overflow-x:auto;line-height:normal;font-family:Menlo,'DejaVu Sans Mono',consolas,'Courier New',monospace\"><span style=\"color: #7fbfbf; text-decoration-color: #7fbfbf\">              </span>INFO: skipping VJP for <span style=\"color: #008000; text-decoration-color: #008000\">'Box'</span> face <span style=\"color: #008000; text-decoration-color: #008000\">'y+'</span> as it is entirely outside  \n",
       "<span style=\"color: #7fbfbf; text-decoration-color: #7fbfbf\">              </span>of the simulation domain.                                         \n",
       "</pre>\n"
      ],
      "text/plain": [
       "\u001b[2;36m             \u001b[0m\u001b[2;36m \u001b[0mINFO: skipping VJP for \u001b[32m'Box'\u001b[0m face \u001b[32m'y+'\u001b[0m as it is entirely outside  \n",
       "\u001b[2;36m              \u001b[0mof the simulation domain.                                         \n"
      ]
     },
     "metadata": {},
     "output_type": "display_data"
    },
    {
     "data": {
      "text/html": [
       "<pre style=\"white-space:pre;overflow-x:auto;line-height:normal;font-family:Menlo,'DejaVu Sans Mono',consolas,'Courier New',monospace\"><span style=\"color: #7fbfbf; text-decoration-color: #7fbfbf\">              </span>INFO: skipping VJP for <span style=\"color: #008000; text-decoration-color: #008000\">'Box'</span> face <span style=\"color: #008000; text-decoration-color: #008000\">'x-'</span> as it is entirely outside  \n",
       "<span style=\"color: #7fbfbf; text-decoration-color: #7fbfbf\">              </span>of the simulation domain.                                         \n",
       "</pre>\n"
      ],
      "text/plain": [
       "\u001b[2;36m             \u001b[0m\u001b[2;36m \u001b[0mINFO: skipping VJP for \u001b[32m'Box'\u001b[0m face \u001b[32m'x-'\u001b[0m as it is entirely outside  \n",
       "\u001b[2;36m              \u001b[0mof the simulation domain.                                         \n"
      ]
     },
     "metadata": {},
     "output_type": "display_data"
    },
    {
     "data": {
      "text/html": [
       "<pre style=\"white-space:pre;overflow-x:auto;line-height:normal;font-family:Menlo,'DejaVu Sans Mono',consolas,'Courier New',monospace\"><span style=\"color: #7fbfbf; text-decoration-color: #7fbfbf\">              </span>INFO: skipping VJP for <span style=\"color: #008000; text-decoration-color: #008000\">'Box'</span> face <span style=\"color: #008000; text-decoration-color: #008000\">'y-'</span> as it is entirely outside  \n",
       "<span style=\"color: #7fbfbf; text-decoration-color: #7fbfbf\">              </span>of the simulation domain.                                         \n",
       "</pre>\n"
      ],
      "text/plain": [
       "\u001b[2;36m             \u001b[0m\u001b[2;36m \u001b[0mINFO: skipping VJP for \u001b[32m'Box'\u001b[0m face \u001b[32m'y-'\u001b[0m as it is entirely outside  \n",
       "\u001b[2;36m              \u001b[0mof the simulation domain.                                         \n"
      ]
     },
     "metadata": {},
     "output_type": "display_data"
    },
    {
     "data": {
      "text/html": [
       "<pre style=\"white-space:pre;overflow-x:auto;line-height:normal;font-family:Menlo,'DejaVu Sans Mono',consolas,'Courier New',monospace\"><span style=\"color: #7fbfbf; text-decoration-color: #7fbfbf\">              </span>INFO: skipping VJP for <span style=\"color: #008000; text-decoration-color: #008000\">'Box'</span> face <span style=\"color: #008000; text-decoration-color: #008000\">'x+'</span> as it is entirely outside  \n",
       "<span style=\"color: #7fbfbf; text-decoration-color: #7fbfbf\">              </span>of the simulation domain.                                         \n",
       "</pre>\n"
      ],
      "text/plain": [
       "\u001b[2;36m             \u001b[0m\u001b[2;36m \u001b[0mINFO: skipping VJP for \u001b[32m'Box'\u001b[0m face \u001b[32m'x+'\u001b[0m as it is entirely outside  \n",
       "\u001b[2;36m              \u001b[0mof the simulation domain.                                         \n"
      ]
     },
     "metadata": {},
     "output_type": "display_data"
    },
    {
     "data": {
      "text/html": [
       "<pre style=\"white-space:pre;overflow-x:auto;line-height:normal;font-family:Menlo,'DejaVu Sans Mono',consolas,'Courier New',monospace\"><span style=\"color: #7fbfbf; text-decoration-color: #7fbfbf\">              </span>INFO: skipping VJP for <span style=\"color: #008000; text-decoration-color: #008000\">'Box'</span> face <span style=\"color: #008000; text-decoration-color: #008000\">'y+'</span> as it is entirely outside  \n",
       "<span style=\"color: #7fbfbf; text-decoration-color: #7fbfbf\">              </span>of the simulation domain.                                         \n",
       "</pre>\n"
      ],
      "text/plain": [
       "\u001b[2;36m             \u001b[0m\u001b[2;36m \u001b[0mINFO: skipping VJP for \u001b[32m'Box'\u001b[0m face \u001b[32m'y+'\u001b[0m as it is entirely outside  \n",
       "\u001b[2;36m              \u001b[0mof the simulation domain.                                         \n"
      ]
     },
     "metadata": {},
     "output_type": "display_data"
    },
    {
     "data": {
      "text/html": [
       "<pre style=\"white-space:pre;overflow-x:auto;line-height:normal;font-family:Menlo,'DejaVu Sans Mono',consolas,'Courier New',monospace\"><span style=\"color: #7fbfbf; text-decoration-color: #7fbfbf\">              </span>INFO: skipping VJP for <span style=\"color: #008000; text-decoration-color: #008000\">'Box'</span> face <span style=\"color: #008000; text-decoration-color: #008000\">'x-'</span> as it is entirely outside  \n",
       "<span style=\"color: #7fbfbf; text-decoration-color: #7fbfbf\">              </span>of the simulation domain.                                         \n",
       "</pre>\n"
      ],
      "text/plain": [
       "\u001b[2;36m             \u001b[0m\u001b[2;36m \u001b[0mINFO: skipping VJP for \u001b[32m'Box'\u001b[0m face \u001b[32m'x-'\u001b[0m as it is entirely outside  \n",
       "\u001b[2;36m              \u001b[0mof the simulation domain.                                         \n"
      ]
     },
     "metadata": {},
     "output_type": "display_data"
    },
    {
     "data": {
      "text/html": [
       "<pre style=\"white-space:pre;overflow-x:auto;line-height:normal;font-family:Menlo,'DejaVu Sans Mono',consolas,'Courier New',monospace\"><span style=\"color: #7fbfbf; text-decoration-color: #7fbfbf\">              </span>INFO: skipping VJP for <span style=\"color: #008000; text-decoration-color: #008000\">'Box'</span> face <span style=\"color: #008000; text-decoration-color: #008000\">'y-'</span> as it is entirely outside  \n",
       "<span style=\"color: #7fbfbf; text-decoration-color: #7fbfbf\">              </span>of the simulation domain.                                         \n",
       "</pre>\n"
      ],
      "text/plain": [
       "\u001b[2;36m             \u001b[0m\u001b[2;36m \u001b[0mINFO: skipping VJP for \u001b[32m'Box'\u001b[0m face \u001b[32m'y-'\u001b[0m as it is entirely outside  \n",
       "\u001b[2;36m              \u001b[0mof the simulation domain.                                         \n"
      ]
     },
     "metadata": {},
     "output_type": "display_data"
    },
    {
     "data": {
      "text/html": [
       "<pre style=\"white-space:pre;overflow-x:auto;line-height:normal;font-family:Menlo,'DejaVu Sans Mono',consolas,'Courier New',monospace\"><span style=\"color: #7fbfbf; text-decoration-color: #7fbfbf\">              </span>INFO: skipping VJP for <span style=\"color: #008000; text-decoration-color: #008000\">'Box'</span> face <span style=\"color: #008000; text-decoration-color: #008000\">'x+'</span> as it is entirely outside  \n",
       "<span style=\"color: #7fbfbf; text-decoration-color: #7fbfbf\">              </span>of the simulation domain.                                         \n",
       "</pre>\n"
      ],
      "text/plain": [
       "\u001b[2;36m             \u001b[0m\u001b[2;36m \u001b[0mINFO: skipping VJP for \u001b[32m'Box'\u001b[0m face \u001b[32m'x+'\u001b[0m as it is entirely outside  \n",
       "\u001b[2;36m              \u001b[0mof the simulation domain.                                         \n"
      ]
     },
     "metadata": {},
     "output_type": "display_data"
    },
    {
     "data": {
      "text/html": [
       "<pre style=\"white-space:pre;overflow-x:auto;line-height:normal;font-family:Menlo,'DejaVu Sans Mono',consolas,'Courier New',monospace\"><span style=\"color: #7fbfbf; text-decoration-color: #7fbfbf\">              </span>INFO: skipping VJP for <span style=\"color: #008000; text-decoration-color: #008000\">'Box'</span> face <span style=\"color: #008000; text-decoration-color: #008000\">'y+'</span> as it is entirely outside  \n",
       "<span style=\"color: #7fbfbf; text-decoration-color: #7fbfbf\">              </span>of the simulation domain.                                         \n",
       "</pre>\n"
      ],
      "text/plain": [
       "\u001b[2;36m             \u001b[0m\u001b[2;36m \u001b[0mINFO: skipping VJP for \u001b[32m'Box'\u001b[0m face \u001b[32m'y+'\u001b[0m as it is entirely outside  \n",
       "\u001b[2;36m              \u001b[0mof the simulation domain.                                         \n"
      ]
     },
     "metadata": {},
     "output_type": "display_data"
    }
   ],
   "source": [
    "T_fdtd, (grad_eps_fdtd, grad_ds_fdtd) = compute_T_and_grad_fdtd(slab_eps0, slab_ds0)"
   ]
  },
  {
   "cell_type": "markdown",
   "id": "cbd02aa9-41f9-4e28-802d-f9a46b7f6263",
   "metadata": {},
   "source": [
    "### Checking Accuracy of TMM (Numerical) vs FDTD (Adjoint)\n",
    "\n",
    "Let's convert these from autograd types to numpy arrays to work with them easier, and then display the results compared to TMM."
   ]
  },
  {
   "cell_type": "code",
   "execution_count": 15,
   "id": "41e66722-bb8c-41d9-a0a7-85009ff46df3",
   "metadata": {},
   "outputs": [],
   "source": [
    "grad_eps_fdtd = np.array(grad_eps_fdtd)\n",
    "grad_ds_fdtd = np.array(grad_ds_fdtd)"
   ]
  },
  {
   "cell_type": "code",
   "execution_count": 16,
   "id": "953d2497-240a-4295-9fcd-5342942983d0",
   "metadata": {},
   "outputs": [
    {
     "name": "stdout",
     "output_type": "stream",
     "text": [
      "T (tmm)  = 0.78581\n",
      "T (FDTD) = 0.78516\n"
     ]
    }
   ],
   "source": [
    "print(f\"T (tmm)  = {T_tmm:.5f}\")\n",
    "print(f\"T (FDTD) = {T_fdtd:.5f}\")"
   ]
  },
  {
   "cell_type": "markdown",
   "id": "809d274a-9bb4-4f24-a7c2-962fc36f0b74",
   "metadata": {},
   "source": [
    "We see that the transmission results match very well with TMM, giving us a lot of confidence that our set up is correct.\n",
    "\n",
    "Let's look at the gradients now."
   ]
  },
  {
   "cell_type": "code",
   "execution_count": 17,
   "id": "d0e496be-a967-427d-9ed6-8eea5a96fd70",
   "metadata": {},
   "outputs": [
    {
     "name": "stdout",
     "output_type": "stream",
     "text": [
      "un-normalized:\n",
      "\tgrad_eps (tmm)  = [-0.2766323   0.01377339 -0.2032054  -0.28999361]\n",
      "\tgrad_eps (FDTD)  = [-0.33412924  0.0167646  -0.24507551 -0.35035024]\n",
      "--------------------------------------------------------------------------------\n",
      "\tgrad_ds  (tmm)  = [-1.75199732 -0.21552416  1.00729645 -2.08209951]\n",
      "\tgrad_ds  (FDTD)  = [-2.11631647 -0.26057876  1.21862348 -2.5166535 ]\n",
      "RMS error = 20.760775424328713 %\n",
      "RMS error = 20.856522912543888 %\n"
     ]
    }
   ],
   "source": [
    "print(\"un-normalized:\")\n",
    "print(f\"\\tgrad_eps (tmm)  = {grad_eps_tmm}\")\n",
    "print(f\"\\tgrad_eps (FDTD)  = {grad_eps_fdtd}\")\n",
    "print(80 * \"-\")\n",
    "print(f\"\\tgrad_ds  (tmm)  = {grad_ds_tmm}\")\n",
    "print(f\"\\tgrad_ds  (FDTD)  = {grad_ds_fdtd}\")\n",
    "\n",
    "\n",
    "rms_eps = np.linalg.norm(grad_eps_tmm - grad_eps_fdtd) / np.linalg.norm(grad_eps_tmm)\n",
    "rms_ds = np.linalg.norm(grad_ds_tmm - grad_ds_fdtd) / np.linalg.norm(grad_ds_tmm)\n",
    "\n",
    "print(f\"RMS error = {rms_eps * 100} %\")\n",
    "print(f\"RMS error = {rms_ds * 100} %\")"
   ]
  },
  {
   "cell_type": "markdown",
   "id": "111ef29c-a78f-468a-b2a7-afa3785ab5aa",
   "metadata": {},
   "source": [
    "If we only care about the error in the \"directions\" of the gradients, we can compare their normalized versions to each other."
   ]
  },
  {
   "cell_type": "code",
   "execution_count": 18,
   "id": "2993410c-0c1d-412e-9c2c-1c43664ae20c",
   "metadata": {},
   "outputs": [],
   "source": [
    "def normalize(arr):\n",
    "    return arr / np.linalg.norm(arr)\n",
    "\n",
    "grad_eps_tmm_norm = normalize(grad_eps_tmm)\n",
    "grad_ds_tmm_norm = normalize(grad_ds_tmm)\n",
    "grad_eps_fdtd_norm = normalize(grad_eps_fdtd)\n",
    "grad_ds_fdtd_norm = normalize(grad_ds_fdtd)\n",
    "\n",
    "rms_eps = np.linalg.norm(grad_eps_tmm_norm - grad_eps_fdtd_norm) / np.linalg.norm(grad_eps_tmm_norm)\n",
    "rms_ds = np.linalg.norm(grad_ds_tmm_norm - grad_ds_fdtd_norm) / np.linalg.norm(grad_ds_tmm_norm)"
   ]
  },
  {
   "cell_type": "code",
   "execution_count": 19,
   "id": "8a375cb8-79ae-4b57-86bd-26af66bba8b4",
   "metadata": {},
   "outputs": [
    {
     "name": "stdout",
     "output_type": "stream",
     "text": [
      "normalized:\n",
      "\tgrad_eps (tmm)  = [-0.61534061  0.03063751 -0.45200988 -0.64506151]\n",
      "\tgrad_eps (FDTD)  = [-0.61546277  0.03088023 -0.45142669 -0.64534171]\n",
      "\tRMS error = 0.07017582124708283 %\n",
      "--------------------------------------------------------------------------------\n",
      "\tgrad_ds  (tmm)  = [-0.60214521 -0.07407365  0.34619844 -0.71559827]\n",
      "\tgrad_ds  (FDTD)  = [-0.60183654 -0.0741032   0.34655126 -0.71568409]\n",
      "\tRMS error = 0.047749509585745004 %\n"
     ]
    }
   ],
   "source": [
    "print(\"normalized:\")\n",
    "print(f\"\\tgrad_eps (tmm)  = {grad_eps_tmm_norm}\")\n",
    "print(f\"\\tgrad_eps (FDTD)  = {grad_eps_fdtd_norm}\")\n",
    "print(f\"\\tRMS error = {rms_eps * 100} %\")\n",
    "print(80 * \"-\")\n",
    "print(f\"\\tgrad_ds  (tmm)  = {grad_ds_tmm_norm}\")\n",
    "print(f\"\\tgrad_ds  (FDTD)  = {grad_ds_fdtd_norm}\")\n",
    "print(f\"\\tRMS error = {rms_ds * 100} %\")"
   ]
  },
  {
   "cell_type": "markdown",
   "id": "a66dbc89-3804-4576-bf08-31421fcb2476",
   "metadata": {},
   "source": [
    "In which case we see a very good agreement."
   ]
  }
 ],
 "metadata": {
  "description": "This notebook demonstrates the adjoint analysis of a multi-layer slab in Tidy3D FDTD.",
  "feature_image": "",
  "kernelspec": {
   "display_name": "Python 3 (ipykernel)",
   "language": "python",
   "name": "python3"
  },
  "keywords": "adjoint optimization, Tidy3D, FDTD",
  "language_info": {
   "codemirror_mode": {
    "name": "ipython",
    "version": 3
   },
   "file_extension": ".py",
   "mimetype": "text/x-python",
   "name": "python",
   "nbconvert_exporter": "python",
   "pygments_lexer": "ipython3",
   "version": "3.12.3"
  },
  "title": "Adjoint Analysis: Multi-layer Slab | Flexcompute",
  "vscode": {
   "interpreter": {
    "hash": "9e43a20ef2440406ea6cbfb61ead7c471aba2de37f508addf1f0635fad81ef64"
   }
  },
  "widgets": {
   "application/vnd.jupyter.widget-state+json": {
    "state": {
     "12f8ed0b504a404cbd1b2950e05ba8ef": {
      "model_module": "@jupyter-widgets/base",
      "model_module_version": "2.0.0",
      "model_name": "LayoutModel",
      "state": {
       "_model_module": "@jupyter-widgets/base",
       "_model_module_version": "2.0.0",
       "_model_name": "LayoutModel",
       "_view_count": null,
       "_view_module": "@jupyter-widgets/base",
       "_view_module_version": "2.0.0",
       "_view_name": "LayoutView",
       "align_content": null,
       "align_items": null,
       "align_self": null,
       "border_bottom": null,
       "border_left": null,
       "border_right": null,
       "border_top": null,
       "bottom": null,
       "display": null,
       "flex": null,
       "flex_flow": null,
       "grid_area": null,
       "grid_auto_columns": null,
       "grid_auto_flow": null,
       "grid_auto_rows": null,
       "grid_column": null,
       "grid_gap": null,
       "grid_row": null,
       "grid_template_areas": null,
       "grid_template_columns": null,
       "grid_template_rows": null,
       "height": null,
       "justify_content": null,
       "justify_items": null,
       "left": null,
       "margin": null,
       "max_height": null,
       "max_width": null,
       "min_height": null,
       "min_width": null,
       "object_fit": null,
       "object_position": null,
       "order": null,
       "overflow": null,
       "padding": null,
       "right": null,
       "top": null,
       "visibility": null,
       "width": null
      }
     },
     "282a8d63ba98429f931ce53ae75949e6": {
      "model_module": "@jupyter-widgets/output",
      "model_module_version": "1.0.0",
      "model_name": "OutputModel",
      "state": {
       "_dom_classes": [],
       "_model_module": "@jupyter-widgets/output",
       "_model_module_version": "1.0.0",
       "_model_name": "OutputModel",
       "_view_count": null,
       "_view_module": "@jupyter-widgets/output",
       "_view_module_version": "1.0.0",
       "_view_name": "OutputView",
       "layout": "IPY_MODEL_feeee3d3c34f41b2b2ddb1514be72678",
       "msg_id": "",
       "outputs": [
        {
         "data": {
          "text/html": "<pre style=\"white-space:pre;overflow-x:auto;line-height:normal;font-family:Menlo,'DejaVu Sans Mono',consolas,'Courier New',monospace\"><span style=\"color: #800000; text-decoration-color: #800000; font-weight: bold\">↑</span> <span style=\"color: #000080; text-decoration-color: #000080; font-weight: bold\">simulation.hdf5.gz</span> <span style=\"color: #729c1f; text-decoration-color: #729c1f\">━━━━━━━━━━━━━━━━━━━━━━━━━</span> <span style=\"color: #800080; text-decoration-color: #800080\">100.0%</span> • <span style=\"color: #008000; text-decoration-color: #008000\">1.4/1.4 kB</span> • <span style=\"color: #800000; text-decoration-color: #800000\">?</span> • <span style=\"color: #008080; text-decoration-color: #008080\">0:00:00</span>\n</pre>\n",
          "text/plain": "\u001b[1;31m↑\u001b[0m \u001b[1;34msimulation.hdf5.gz\u001b[0m \u001b[38;2;114;156;31m━━━━━━━━━━━━━━━━━━━━━━━━━\u001b[0m \u001b[35m100.0%\u001b[0m • \u001b[32m1.4/1.4 kB\u001b[0m • \u001b[31m?\u001b[0m • \u001b[36m0:00:00\u001b[0m\n"
         },
         "metadata": {},
         "output_type": "display_data"
        }
       ],
       "tabbable": null,
       "tooltip": null
      }
     },
     "2cdee44b941b480f8f36e5fd1ab55b29": {
      "model_module": "@jupyter-widgets/base",
      "model_module_version": "2.0.0",
      "model_name": "LayoutModel",
      "state": {
       "_model_module": "@jupyter-widgets/base",
       "_model_module_version": "2.0.0",
       "_model_name": "LayoutModel",
       "_view_count": null,
       "_view_module": "@jupyter-widgets/base",
       "_view_module_version": "2.0.0",
       "_view_name": "LayoutView",
       "align_content": null,
       "align_items": null,
       "align_self": null,
       "border_bottom": null,
       "border_left": null,
       "border_right": null,
       "border_top": null,
       "bottom": null,
       "display": null,
       "flex": null,
       "flex_flow": null,
       "grid_area": null,
       "grid_auto_columns": null,
       "grid_auto_flow": null,
       "grid_auto_rows": null,
       "grid_column": null,
       "grid_gap": null,
       "grid_row": null,
       "grid_template_areas": null,
       "grid_template_columns": null,
       "grid_template_rows": null,
       "height": null,
       "justify_content": null,
       "justify_items": null,
       "left": null,
       "margin": null,
       "max_height": null,
       "max_width": null,
       "min_height": null,
       "min_width": null,
       "object_fit": null,
       "object_position": null,
       "order": null,
       "overflow": null,
       "padding": null,
       "right": null,
       "top": null,
       "visibility": null,
       "width": null
      }
     },
     "311a8407bb914b45a8d5a58ef9aaadc1": {
      "model_module": "@jupyter-widgets/output",
      "model_module_version": "1.0.0",
      "model_name": "OutputModel",
      "state": {
       "_dom_classes": [],
       "_model_module": "@jupyter-widgets/output",
       "_model_module_version": "1.0.0",
       "_model_name": "OutputModel",
       "_view_count": null,
       "_view_module": "@jupyter-widgets/output",
       "_view_module_version": "1.0.0",
       "_view_name": "OutputView",
       "layout": "IPY_MODEL_12f8ed0b504a404cbd1b2950e05ba8ef",
       "msg_id": "",
       "outputs": [
        {
         "data": {
          "text/html": "<pre style=\"white-space:pre;overflow-x:auto;line-height:normal;font-family:Menlo,'DejaVu Sans Mono',consolas,'Courier New',monospace\">solver progress (field decay = 0.00e+00) <span style=\"color: #729c1f; text-decoration-color: #729c1f\">━━━━━━━━━━━━━━━━━━━━━━━━━━</span> <span style=\"color: #800080; text-decoration-color: #800080\">100%</span> <span style=\"color: #008080; text-decoration-color: #008080\">0:00:00</span>\n</pre>\n",
          "text/plain": "solver progress (field decay = 0.00e+00) \u001b[38;2;114;156;31m━━━━━━━━━━━━━━━━━━━━━━━━━━\u001b[0m \u001b[35m100%\u001b[0m \u001b[36m0:00:00\u001b[0m\n"
         },
         "metadata": {},
         "output_type": "display_data"
        }
       ],
       "tabbable": null,
       "tooltip": null
      }
     },
     "3c5838f495014a368febb99b7b52d114": {
      "model_module": "@jupyter-widgets/output",
      "model_module_version": "1.0.0",
      "model_name": "OutputModel",
      "state": {
       "_dom_classes": [],
       "_model_module": "@jupyter-widgets/output",
       "_model_module_version": "1.0.0",
       "_model_name": "OutputModel",
       "_view_count": null,
       "_view_module": "@jupyter-widgets/output",
       "_view_module_version": "1.0.0",
       "_view_name": "OutputView",
       "layout": "IPY_MODEL_e8f77a092bf84fc8b7f0925585a332b5",
       "msg_id": "",
       "outputs": [
        {
         "data": {
          "text/html": "<pre style=\"white-space:pre;overflow-x:auto;line-height:normal;font-family:Menlo,'DejaVu Sans Mono',consolas,'Courier New',monospace\"><span style=\"color: #008000; text-decoration-color: #008000\">🏃 </span> <span style=\"color: #008000; text-decoration-color: #008000; font-weight: bold\">Starting 'slab'...</span>\n</pre>\n",
          "text/plain": "\u001b[32m🏃 \u001b[0m \u001b[1;32mStarting 'slab'...\u001b[0m\n"
         },
         "metadata": {},
         "output_type": "display_data"
        }
       ],
       "tabbable": null,
       "tooltip": null
      }
     },
     "45250aafd8154f519a2f1800d412276f": {
      "model_module": "@jupyter-widgets/output",
      "model_module_version": "1.0.0",
      "model_name": "OutputModel",
      "state": {
       "_dom_classes": [],
       "_model_module": "@jupyter-widgets/output",
       "_model_module_version": "1.0.0",
       "_model_name": "OutputModel",
       "_view_count": null,
       "_view_module": "@jupyter-widgets/output",
       "_view_module_version": "1.0.0",
       "_view_name": "OutputView",
       "layout": "IPY_MODEL_68e844f9a2a84f00b91779b9a3f869f7",
       "msg_id": "",
       "outputs": [
        {
         "data": {
          "text/html": "<pre style=\"white-space:pre;overflow-x:auto;line-height:normal;font-family:Menlo,'DejaVu Sans Mono',consolas,'Courier New',monospace\"><span style=\"color: #800000; text-decoration-color: #800000; font-weight: bold\">↑</span> <span style=\"color: #000080; text-decoration-color: #000080; font-weight: bold\">jax_info.json</span> <span style=\"color: #729c1f; text-decoration-color: #729c1f\">━━━━━━━━━━━━━━━━━━━━━━━━━━━</span> <span style=\"color: #800080; text-decoration-color: #800080\">100.0%</span> • <span style=\"color: #008000; text-decoration-color: #008000\">174/174 bytes</span> • <span style=\"color: #800000; text-decoration-color: #800000\">?</span> • <span style=\"color: #008080; text-decoration-color: #008080\">0:00:00</span>\n</pre>\n",
          "text/plain": "\u001b[1;31m↑\u001b[0m \u001b[1;34mjax_info.json\u001b[0m \u001b[38;2;114;156;31m━━━━━━━━━━━━━━━━━━━━━━━━━━━\u001b[0m \u001b[35m100.0%\u001b[0m • \u001b[32m174/174 bytes\u001b[0m • \u001b[31m?\u001b[0m • \u001b[36m0:00:00\u001b[0m\n"
         },
         "metadata": {},
         "output_type": "display_data"
        }
       ],
       "tabbable": null,
       "tooltip": null
      }
     },
     "58994231079549e59896cb3ff5e28ed5": {
      "model_module": "@jupyter-widgets/output",
      "model_module_version": "1.0.0",
      "model_name": "OutputModel",
      "state": {
       "_dom_classes": [],
       "_model_module": "@jupyter-widgets/output",
       "_model_module_version": "1.0.0",
       "_model_name": "OutputModel",
       "_view_count": null,
       "_view_module": "@jupyter-widgets/output",
       "_view_module_version": "1.0.0",
       "_view_name": "OutputView",
       "layout": "IPY_MODEL_5ceb38a1565948dca0db905f32bb657f",
       "msg_id": "",
       "outputs": [
        {
         "data": {
          "text/html": "<pre style=\"white-space:pre;overflow-x:auto;line-height:normal;font-family:Menlo,'DejaVu Sans Mono',consolas,'Courier New',monospace\"><span style=\"color: #008000; text-decoration-color: #008000\">🏃 </span> <span style=\"color: #008000; text-decoration-color: #008000; font-weight: bold\">Starting 'slab_adj'...</span>\n</pre>\n",
          "text/plain": "\u001b[32m🏃 \u001b[0m \u001b[1;32mStarting 'slab_adj'...\u001b[0m\n"
         },
         "metadata": {},
         "output_type": "display_data"
        }
       ],
       "tabbable": null,
       "tooltip": null
      }
     },
     "5c6ae68cdbb342d9921f6ef5662ac579": {
      "model_module": "@jupyter-widgets/output",
      "model_module_version": "1.0.0",
      "model_name": "OutputModel",
      "state": {
       "_dom_classes": [],
       "_model_module": "@jupyter-widgets/output",
       "_model_module_version": "1.0.0",
       "_model_name": "OutputModel",
       "_view_count": null,
       "_view_module": "@jupyter-widgets/output",
       "_view_module_version": "1.0.0",
       "_view_name": "OutputView",
       "layout": "IPY_MODEL_b2c944b9195a41819323ee98ce24bcf5",
       "msg_id": "",
       "outputs": [
        {
         "data": {
          "text/html": "<pre style=\"white-space:pre;overflow-x:auto;line-height:normal;font-family:Menlo,'DejaVu Sans Mono',consolas,'Courier New',monospace\"><span style=\"color: #800000; text-decoration-color: #800000; font-weight: bold\">↑</span> <span style=\"color: #000080; text-decoration-color: #000080; font-weight: bold\">simulation.hdf5.gz</span> <span style=\"color: #729c1f; text-decoration-color: #729c1f\">━━━━━━━━━━━━━━━━━━━━━━━━━</span> <span style=\"color: #800080; text-decoration-color: #800080\">100.0%</span> • <span style=\"color: #008000; text-decoration-color: #008000\">1.4/1.4 kB</span> • <span style=\"color: #800000; text-decoration-color: #800000\">?</span> • <span style=\"color: #008080; text-decoration-color: #008080\">0:00:00</span>\n</pre>\n",
          "text/plain": "\u001b[1;31m↑\u001b[0m \u001b[1;34msimulation.hdf5.gz\u001b[0m \u001b[38;2;114;156;31m━━━━━━━━━━━━━━━━━━━━━━━━━\u001b[0m \u001b[35m100.0%\u001b[0m • \u001b[32m1.4/1.4 kB\u001b[0m • \u001b[31m?\u001b[0m • \u001b[36m0:00:00\u001b[0m\n"
         },
         "metadata": {},
         "output_type": "display_data"
        }
       ],
       "tabbable": null,
       "tooltip": null
      }
     },
     "5ceb38a1565948dca0db905f32bb657f": {
      "model_module": "@jupyter-widgets/base",
      "model_module_version": "2.0.0",
      "model_name": "LayoutModel",
      "state": {
       "_model_module": "@jupyter-widgets/base",
       "_model_module_version": "2.0.0",
       "_model_name": "LayoutModel",
       "_view_count": null,
       "_view_module": "@jupyter-widgets/base",
       "_view_module_version": "2.0.0",
       "_view_name": "LayoutView",
       "align_content": null,
       "align_items": null,
       "align_self": null,
       "border_bottom": null,
       "border_left": null,
       "border_right": null,
       "border_top": null,
       "bottom": null,
       "display": null,
       "flex": null,
       "flex_flow": null,
       "grid_area": null,
       "grid_auto_columns": null,
       "grid_auto_flow": null,
       "grid_auto_rows": null,
       "grid_column": null,
       "grid_gap": null,
       "grid_row": null,
       "grid_template_areas": null,
       "grid_template_columns": null,
       "grid_template_rows": null,
       "height": null,
       "justify_content": null,
       "justify_items": null,
       "left": null,
       "margin": null,
       "max_height": null,
       "max_width": null,
       "min_height": null,
       "min_width": null,
       "object_fit": null,
       "object_position": null,
       "order": null,
       "overflow": null,
       "padding": null,
       "right": null,
       "top": null,
       "visibility": null,
       "width": null
      }
     },
     "5d18c826b10340cba5be5f8ff9c84246": {
      "model_module": "@jupyter-widgets/output",
      "model_module_version": "1.0.0",
      "model_name": "OutputModel",
      "state": {
       "_dom_classes": [],
       "_model_module": "@jupyter-widgets/output",
       "_model_module_version": "1.0.0",
       "_model_name": "OutputModel",
       "_view_count": null,
       "_view_module": "@jupyter-widgets/output",
       "_view_module_version": "1.0.0",
       "_view_name": "OutputView",
       "layout": "IPY_MODEL_2cdee44b941b480f8f36e5fd1ab55b29",
       "msg_id": "",
       "outputs": [
        {
         "data": {
          "text/html": "<pre style=\"white-space:pre;overflow-x:auto;line-height:normal;font-family:Menlo,'DejaVu Sans Mono',consolas,'Courier New',monospace\"><span style=\"color: #008000; text-decoration-color: #008000\">🚶 </span> <span style=\"color: #008000; text-decoration-color: #008000; font-weight: bold\">Finishing 'slab'...</span>\n</pre>\n",
          "text/plain": "\u001b[32m🚶 \u001b[0m \u001b[1;32mFinishing 'slab'...\u001b[0m\n"
         },
         "metadata": {},
         "output_type": "display_data"
        }
       ],
       "tabbable": null,
       "tooltip": null
      }
     },
     "68e844f9a2a84f00b91779b9a3f869f7": {
      "model_module": "@jupyter-widgets/base",
      "model_module_version": "2.0.0",
      "model_name": "LayoutModel",
      "state": {
       "_model_module": "@jupyter-widgets/base",
       "_model_module_version": "2.0.0",
       "_model_name": "LayoutModel",
       "_view_count": null,
       "_view_module": "@jupyter-widgets/base",
       "_view_module_version": "2.0.0",
       "_view_name": "LayoutView",
       "align_content": null,
       "align_items": null,
       "align_self": null,
       "border_bottom": null,
       "border_left": null,
       "border_right": null,
       "border_top": null,
       "bottom": null,
       "display": null,
       "flex": null,
       "flex_flow": null,
       "grid_area": null,
       "grid_auto_columns": null,
       "grid_auto_flow": null,
       "grid_auto_rows": null,
       "grid_column": null,
       "grid_gap": null,
       "grid_row": null,
       "grid_template_areas": null,
       "grid_template_columns": null,
       "grid_template_rows": null,
       "height": null,
       "justify_content": null,
       "justify_items": null,
       "left": null,
       "margin": null,
       "max_height": null,
       "max_width": null,
       "min_height": null,
       "min_width": null,
       "object_fit": null,
       "object_position": null,
       "order": null,
       "overflow": null,
       "padding": null,
       "right": null,
       "top": null,
       "visibility": null,
       "width": null
      }
     },
     "7ecfddd6aa834b09b4ca1fce00eed16f": {
      "model_module": "@jupyter-widgets/base",
      "model_module_version": "2.0.0",
      "model_name": "LayoutModel",
      "state": {
       "_model_module": "@jupyter-widgets/base",
       "_model_module_version": "2.0.0",
       "_model_name": "LayoutModel",
       "_view_count": null,
       "_view_module": "@jupyter-widgets/base",
       "_view_module_version": "2.0.0",
       "_view_name": "LayoutView",
       "align_content": null,
       "align_items": null,
       "align_self": null,
       "border_bottom": null,
       "border_left": null,
       "border_right": null,
       "border_top": null,
       "bottom": null,
       "display": null,
       "flex": null,
       "flex_flow": null,
       "grid_area": null,
       "grid_auto_columns": null,
       "grid_auto_flow": null,
       "grid_auto_rows": null,
       "grid_column": null,
       "grid_gap": null,
       "grid_row": null,
       "grid_template_areas": null,
       "grid_template_columns": null,
       "grid_template_rows": null,
       "height": null,
       "justify_content": null,
       "justify_items": null,
       "left": null,
       "margin": null,
       "max_height": null,
       "max_width": null,
       "min_height": null,
       "min_width": null,
       "object_fit": null,
       "object_position": null,
       "order": null,
       "overflow": null,
       "padding": null,
       "right": null,
       "top": null,
       "visibility": null,
       "width": null
      }
     },
     "8144e366eb5d41db8491c35f50fd6987": {
      "model_module": "@jupyter-widgets/output",
      "model_module_version": "1.0.0",
      "model_name": "OutputModel",
      "state": {
       "_dom_classes": [],
       "_model_module": "@jupyter-widgets/output",
       "_model_module_version": "1.0.0",
       "_model_name": "OutputModel",
       "_view_count": null,
       "_view_module": "@jupyter-widgets/output",
       "_view_module_version": "1.0.0",
       "_view_name": "OutputView",
       "layout": "IPY_MODEL_7ecfddd6aa834b09b4ca1fce00eed16f",
       "msg_id": "",
       "outputs": [
        {
         "data": {
          "text/html": "<pre style=\"white-space:pre;overflow-x:auto;line-height:normal;font-family:Menlo,'DejaVu Sans Mono',consolas,'Courier New',monospace\"><span style=\"color: #800000; text-decoration-color: #800000; font-weight: bold\">↑</span> <span style=\"color: #000080; text-decoration-color: #000080; font-weight: bold\">jax_info.json</span> <span style=\"color: #729c1f; text-decoration-color: #729c1f\">━━━━━━━━━━━━━━━━━━━━━━━━━━━</span> <span style=\"color: #800080; text-decoration-color: #800080\">100.0%</span> • <span style=\"color: #008000; text-decoration-color: #008000\">174/174 bytes</span> • <span style=\"color: #800000; text-decoration-color: #800000\">?</span> • <span style=\"color: #008080; text-decoration-color: #008080\">0:00:00</span>\n</pre>\n",
          "text/plain": "\u001b[1;31m↑\u001b[0m \u001b[1;34mjax_info.json\u001b[0m \u001b[38;2;114;156;31m━━━━━━━━━━━━━━━━━━━━━━━━━━━\u001b[0m \u001b[35m100.0%\u001b[0m • \u001b[32m174/174 bytes\u001b[0m • \u001b[31m?\u001b[0m • \u001b[36m0:00:00\u001b[0m\n"
         },
         "metadata": {},
         "output_type": "display_data"
        }
       ],
       "tabbable": null,
       "tooltip": null
      }
     },
     "82cbd5e08c46478aafa90d2df019703b": {
      "model_module": "@jupyter-widgets/base",
      "model_module_version": "2.0.0",
      "model_name": "LayoutModel",
      "state": {
       "_model_module": "@jupyter-widgets/base",
       "_model_module_version": "2.0.0",
       "_model_name": "LayoutModel",
       "_view_count": null,
       "_view_module": "@jupyter-widgets/base",
       "_view_module_version": "2.0.0",
       "_view_name": "LayoutView",
       "align_content": null,
       "align_items": null,
       "align_self": null,
       "border_bottom": null,
       "border_left": null,
       "border_right": null,
       "border_top": null,
       "bottom": null,
       "display": null,
       "flex": null,
       "flex_flow": null,
       "grid_area": null,
       "grid_auto_columns": null,
       "grid_auto_flow": null,
       "grid_auto_rows": null,
       "grid_column": null,
       "grid_gap": null,
       "grid_row": null,
       "grid_template_areas": null,
       "grid_template_columns": null,
       "grid_template_rows": null,
       "height": null,
       "justify_content": null,
       "justify_items": null,
       "left": null,
       "margin": null,
       "max_height": null,
       "max_width": null,
       "min_height": null,
       "min_width": null,
       "object_fit": null,
       "object_position": null,
       "order": null,
       "overflow": null,
       "padding": null,
       "right": null,
       "top": null,
       "visibility": null,
       "width": null
      }
     },
     "9405474c8af34861a54c67c5fb458402": {
      "model_module": "@jupyter-widgets/output",
      "model_module_version": "1.0.0",
      "model_name": "OutputModel",
      "state": {
       "_dom_classes": [],
       "_model_module": "@jupyter-widgets/output",
       "_model_module_version": "1.0.0",
       "_model_name": "OutputModel",
       "_view_count": null,
       "_view_module": "@jupyter-widgets/output",
       "_view_module_version": "1.0.0",
       "_view_name": "OutputView",
       "layout": "IPY_MODEL_de2289a46f55488bac1b8efd846b1205",
       "msg_id": "",
       "outputs": [
        {
         "data": {
          "text/html": "<pre style=\"white-space:pre;overflow-x:auto;line-height:normal;font-family:Menlo,'DejaVu Sans Mono',consolas,'Courier New',monospace\"><span style=\"color: #008000; text-decoration-color: #008000\">🏃 </span> <span style=\"color: #008000; text-decoration-color: #008000; font-weight: bold\">Finishing 'slab_adj'...</span>\n</pre>\n",
          "text/plain": "\u001b[32m🏃 \u001b[0m \u001b[1;32mFinishing 'slab_adj'...\u001b[0m\n"
         },
         "metadata": {},
         "output_type": "display_data"
        }
       ],
       "tabbable": null,
       "tooltip": null
      }
     },
     "95b90d2c77464ed3af087632f97cfe4e": {
      "model_module": "@jupyter-widgets/base",
      "model_module_version": "2.0.0",
      "model_name": "LayoutModel",
      "state": {
       "_model_module": "@jupyter-widgets/base",
       "_model_module_version": "2.0.0",
       "_model_name": "LayoutModel",
       "_view_count": null,
       "_view_module": "@jupyter-widgets/base",
       "_view_module_version": "2.0.0",
       "_view_name": "LayoutView",
       "align_content": null,
       "align_items": null,
       "align_self": null,
       "border_bottom": null,
       "border_left": null,
       "border_right": null,
       "border_top": null,
       "bottom": null,
       "display": null,
       "flex": null,
       "flex_flow": null,
       "grid_area": null,
       "grid_auto_columns": null,
       "grid_auto_flow": null,
       "grid_auto_rows": null,
       "grid_column": null,
       "grid_gap": null,
       "grid_row": null,
       "grid_template_areas": null,
       "grid_template_columns": null,
       "grid_template_rows": null,
       "height": null,
       "justify_content": null,
       "justify_items": null,
       "left": null,
       "margin": null,
       "max_height": null,
       "max_width": null,
       "min_height": null,
       "min_width": null,
       "object_fit": null,
       "object_position": null,
       "order": null,
       "overflow": null,
       "padding": null,
       "right": null,
       "top": null,
       "visibility": null,
       "width": null
      }
     },
     "aa8c754cdea6462795072b699f6a6d2f": {
      "model_module": "@jupyter-widgets/output",
      "model_module_version": "1.0.0",
      "model_name": "OutputModel",
      "state": {
       "_dom_classes": [],
       "_model_module": "@jupyter-widgets/output",
       "_model_module_version": "1.0.0",
       "_model_name": "OutputModel",
       "_view_count": null,
       "_view_module": "@jupyter-widgets/output",
       "_view_module_version": "1.0.0",
       "_view_name": "OutputView",
       "layout": "IPY_MODEL_95b90d2c77464ed3af087632f97cfe4e",
       "msg_id": "",
       "outputs": [
        {
         "data": {
          "text/html": "<pre style=\"white-space:pre;overflow-x:auto;line-height:normal;font-family:Menlo,'DejaVu Sans Mono',consolas,'Courier New',monospace\">solver progress (field decay = 0.00e+00) <span style=\"color: #729c1f; text-decoration-color: #729c1f\">━━━━━━━━━━━━━━━━━━━━━━━━━━</span> <span style=\"color: #800080; text-decoration-color: #800080\">100%</span> <span style=\"color: #008080; text-decoration-color: #008080\">0:00:00</span>\n</pre>\n",
          "text/plain": "solver progress (field decay = 0.00e+00) \u001b[38;2;114;156;31m━━━━━━━━━━━━━━━━━━━━━━━━━━\u001b[0m \u001b[35m100%\u001b[0m \u001b[36m0:00:00\u001b[0m\n"
         },
         "metadata": {},
         "output_type": "display_data"
        }
       ],
       "tabbable": null,
       "tooltip": null
      }
     },
     "b2c944b9195a41819323ee98ce24bcf5": {
      "model_module": "@jupyter-widgets/base",
      "model_module_version": "2.0.0",
      "model_name": "LayoutModel",
      "state": {
       "_model_module": "@jupyter-widgets/base",
       "_model_module_version": "2.0.0",
       "_model_name": "LayoutModel",
       "_view_count": null,
       "_view_module": "@jupyter-widgets/base",
       "_view_module_version": "2.0.0",
       "_view_name": "LayoutView",
       "align_content": null,
       "align_items": null,
       "align_self": null,
       "border_bottom": null,
       "border_left": null,
       "border_right": null,
       "border_top": null,
       "bottom": null,
       "display": null,
       "flex": null,
       "flex_flow": null,
       "grid_area": null,
       "grid_auto_columns": null,
       "grid_auto_flow": null,
       "grid_auto_rows": null,
       "grid_column": null,
       "grid_gap": null,
       "grid_row": null,
       "grid_template_areas": null,
       "grid_template_columns": null,
       "grid_template_rows": null,
       "height": null,
       "justify_content": null,
       "justify_items": null,
       "left": null,
       "margin": null,
       "max_height": null,
       "max_width": null,
       "min_height": null,
       "min_width": null,
       "object_fit": null,
       "object_position": null,
       "order": null,
       "overflow": null,
       "padding": null,
       "right": null,
       "top": null,
       "visibility": null,
       "width": null
      }
     },
     "c0433262460d44e3920029c59d404c70": {
      "model_module": "@jupyter-widgets/output",
      "model_module_version": "1.0.0",
      "model_name": "OutputModel",
      "state": {
       "_dom_classes": [],
       "_model_module": "@jupyter-widgets/output",
       "_model_module_version": "1.0.0",
       "_model_name": "OutputModel",
       "_view_count": null,
       "_view_module": "@jupyter-widgets/output",
       "_view_module_version": "1.0.0",
       "_view_name": "OutputView",
       "layout": "IPY_MODEL_82cbd5e08c46478aafa90d2df019703b",
       "msg_id": "",
       "outputs": [
        {
         "data": {
          "text/html": "<pre style=\"white-space:pre;overflow-x:auto;line-height:normal;font-family:Menlo,'DejaVu Sans Mono',consolas,'Courier New',monospace\"><span style=\"color: #008000; text-decoration-color: #008000; font-weight: bold\">↓</span> <span style=\"color: #000080; text-decoration-color: #000080; font-weight: bold\">monitor_data.hdf5</span> <span style=\"color: #729c1f; text-decoration-color: #729c1f\">━━━━━━━━━━━━━━━━━━━━━━━━</span> <span style=\"color: #800080; text-decoration-color: #800080\">100.0%</span> • <span style=\"color: #008000; text-decoration-color: #008000\">31.0/31.0 kB</span> • <span style=\"color: #800000; text-decoration-color: #800000\">?</span> • <span style=\"color: #008080; text-decoration-color: #008080\">0:00:00</span>\n</pre>\n",
          "text/plain": "\u001b[1;32m↓\u001b[0m \u001b[1;34mmonitor_data.hdf5\u001b[0m \u001b[38;2;114;156;31m━━━━━━━━━━━━━━━━━━━━━━━━\u001b[0m \u001b[35m100.0%\u001b[0m • \u001b[32m31.0/31.0 kB\u001b[0m • \u001b[31m?\u001b[0m • \u001b[36m0:00:00\u001b[0m\n"
         },
         "metadata": {},
         "output_type": "display_data"
        }
       ],
       "tabbable": null,
       "tooltip": null
      }
     },
     "d335af0c94a44bb5a473ea14f619edd8": {
      "model_module": "@jupyter-widgets/base",
      "model_module_version": "2.0.0",
      "model_name": "LayoutModel",
      "state": {
       "_model_module": "@jupyter-widgets/base",
       "_model_module_version": "2.0.0",
       "_model_name": "LayoutModel",
       "_view_count": null,
       "_view_module": "@jupyter-widgets/base",
       "_view_module_version": "2.0.0",
       "_view_name": "LayoutView",
       "align_content": null,
       "align_items": null,
       "align_self": null,
       "border_bottom": null,
       "border_left": null,
       "border_right": null,
       "border_top": null,
       "bottom": null,
       "display": null,
       "flex": null,
       "flex_flow": null,
       "grid_area": null,
       "grid_auto_columns": null,
       "grid_auto_flow": null,
       "grid_auto_rows": null,
       "grid_column": null,
       "grid_gap": null,
       "grid_row": null,
       "grid_template_areas": null,
       "grid_template_columns": null,
       "grid_template_rows": null,
       "height": null,
       "justify_content": null,
       "justify_items": null,
       "left": null,
       "margin": null,
       "max_height": null,
       "max_width": null,
       "min_height": null,
       "min_width": null,
       "object_fit": null,
       "object_position": null,
       "order": null,
       "overflow": null,
       "padding": null,
       "right": null,
       "top": null,
       "visibility": null,
       "width": null
      }
     },
     "de2289a46f55488bac1b8efd846b1205": {
      "model_module": "@jupyter-widgets/base",
      "model_module_version": "2.0.0",
      "model_name": "LayoutModel",
      "state": {
       "_model_module": "@jupyter-widgets/base",
       "_model_module_version": "2.0.0",
       "_model_name": "LayoutModel",
       "_view_count": null,
       "_view_module": "@jupyter-widgets/base",
       "_view_module_version": "2.0.0",
       "_view_name": "LayoutView",
       "align_content": null,
       "align_items": null,
       "align_self": null,
       "border_bottom": null,
       "border_left": null,
       "border_right": null,
       "border_top": null,
       "bottom": null,
       "display": null,
       "flex": null,
       "flex_flow": null,
       "grid_area": null,
       "grid_auto_columns": null,
       "grid_auto_flow": null,
       "grid_auto_rows": null,
       "grid_column": null,
       "grid_gap": null,
       "grid_row": null,
       "grid_template_areas": null,
       "grid_template_columns": null,
       "grid_template_rows": null,
       "height": null,
       "justify_content": null,
       "justify_items": null,
       "left": null,
       "margin": null,
       "max_height": null,
       "max_width": null,
       "min_height": null,
       "min_width": null,
       "object_fit": null,
       "object_position": null,
       "order": null,
       "overflow": null,
       "padding": null,
       "right": null,
       "top": null,
       "visibility": null,
       "width": null
      }
     },
     "e8e53f3f14304b9e88884c8a249e1f08": {
      "model_module": "@jupyter-widgets/output",
      "model_module_version": "1.0.0",
      "model_name": "OutputModel",
      "state": {
       "_dom_classes": [],
       "_model_module": "@jupyter-widgets/output",
       "_model_module_version": "1.0.0",
       "_model_name": "OutputModel",
       "_view_count": null,
       "_view_module": "@jupyter-widgets/output",
       "_view_module_version": "1.0.0",
       "_view_name": "OutputView",
       "layout": "IPY_MODEL_d335af0c94a44bb5a473ea14f619edd8",
       "msg_id": "",
       "outputs": [
        {
         "data": {
          "text/html": "<pre style=\"white-space:pre;overflow-x:auto;line-height:normal;font-family:Menlo,'DejaVu Sans Mono',consolas,'Courier New',monospace\"><span style=\"color: #008000; text-decoration-color: #008000; font-weight: bold\">↓</span> <span style=\"color: #000080; text-decoration-color: #000080; font-weight: bold\">jax_sim_vjp.hdf5</span> <span style=\"color: #729c1f; text-decoration-color: #729c1f\">━━━━━━━━━━━━━━━━━━━━━━━━━━━</span> <span style=\"color: #800080; text-decoration-color: #800080\">100.0%</span> • <span style=\"color: #008000; text-decoration-color: #008000\">6.2/6.2 kB</span> • <span style=\"color: #800000; text-decoration-color: #800000\">?</span> • <span style=\"color: #008080; text-decoration-color: #008080\">0:00:00</span>\n</pre>\n",
          "text/plain": "\u001b[1;32m↓\u001b[0m \u001b[1;34mjax_sim_vjp.hdf5\u001b[0m \u001b[38;2;114;156;31m━━━━━━━━━━━━━━━━━━━━━━━━━━━\u001b[0m \u001b[35m100.0%\u001b[0m • \u001b[32m6.2/6.2 kB\u001b[0m • \u001b[31m?\u001b[0m • \u001b[36m0:00:00\u001b[0m\n"
         },
         "metadata": {},
         "output_type": "display_data"
        }
       ],
       "tabbable": null,
       "tooltip": null
      }
     },
     "e8f77a092bf84fc8b7f0925585a332b5": {
      "model_module": "@jupyter-widgets/base",
      "model_module_version": "2.0.0",
      "model_name": "LayoutModel",
      "state": {
       "_model_module": "@jupyter-widgets/base",
       "_model_module_version": "2.0.0",
       "_model_name": "LayoutModel",
       "_view_count": null,
       "_view_module": "@jupyter-widgets/base",
       "_view_module_version": "2.0.0",
       "_view_name": "LayoutView",
       "align_content": null,
       "align_items": null,
       "align_self": null,
       "border_bottom": null,
       "border_left": null,
       "border_right": null,
       "border_top": null,
       "bottom": null,
       "display": null,
       "flex": null,
       "flex_flow": null,
       "grid_area": null,
       "grid_auto_columns": null,
       "grid_auto_flow": null,
       "grid_auto_rows": null,
       "grid_column": null,
       "grid_gap": null,
       "grid_row": null,
       "grid_template_areas": null,
       "grid_template_columns": null,
       "grid_template_rows": null,
       "height": null,
       "justify_content": null,
       "justify_items": null,
       "left": null,
       "margin": null,
       "max_height": null,
       "max_width": null,
       "min_height": null,
       "min_width": null,
       "object_fit": null,
       "object_position": null,
       "order": null,
       "overflow": null,
       "padding": null,
       "right": null,
       "top": null,
       "visibility": null,
       "width": null
      }
     },
     "feeee3d3c34f41b2b2ddb1514be72678": {
      "model_module": "@jupyter-widgets/base",
      "model_module_version": "2.0.0",
      "model_name": "LayoutModel",
      "state": {
       "_model_module": "@jupyter-widgets/base",
       "_model_module_version": "2.0.0",
       "_model_name": "LayoutModel",
       "_view_count": null,
       "_view_module": "@jupyter-widgets/base",
       "_view_module_version": "2.0.0",
       "_view_name": "LayoutView",
       "align_content": null,
       "align_items": null,
       "align_self": null,
       "border_bottom": null,
       "border_left": null,
       "border_right": null,
       "border_top": null,
       "bottom": null,
       "display": null,
       "flex": null,
       "flex_flow": null,
       "grid_area": null,
       "grid_auto_columns": null,
       "grid_auto_flow": null,
       "grid_auto_rows": null,
       "grid_column": null,
       "grid_gap": null,
       "grid_row": null,
       "grid_template_areas": null,
       "grid_template_columns": null,
       "grid_template_rows": null,
       "height": null,
       "justify_content": null,
       "justify_items": null,
       "left": null,
       "margin": null,
       "max_height": null,
       "max_width": null,
       "min_height": null,
       "min_width": null,
       "object_fit": null,
       "object_position": null,
       "order": null,
       "overflow": null,
       "padding": null,
       "right": null,
       "top": null,
       "visibility": null,
       "width": null
      }
     }
    },
    "version_major": 2,
    "version_minor": 0
   }
  }
 },
 "nbformat": 4,
 "nbformat_minor": 5
}
