{
 "cells": [
  {
   "cell_type": "markdown",
   "id": "6b28632f",
   "metadata": {},
   "source": [
    "# Mid-IR metalens based on silicon nanopillars"
   ]
  },
  {
   "cell_type": "markdown",
   "id": "16617019",
   "metadata": {},
   "source": [
    "Metamaterial-based lenses, commonly known as metalenses, represent a transformative advancement in the field of optics. Metalenses are flat, ultra-thin, lightweight, and able to focus light at a level that surpasses conventional lenses, all thanks to their intricate sub-wavelength nanostructures.\n",
    "\n",
    "In practical applications, metalenses hold the promise to revolutionize various sectors from microscopy and imaging to telecommunications and displays. By shrinking the size of the lens without sacrificing the quality of the focused light, they could lead to lighter, more compact optical devices. The integration of metalenses into existing technologies could potentially lead to improvements in medical imaging, smartphones, augmented reality (AR), virtual reality (VR), and many more fields.\n",
    "\n",
    "This notebook provides a comprehensive illustration of the process involved in the design and simulation of metalens. We initially simulate the phase shifts occurring when light transmits through metasurfaces characterized by varying geometric parameters, i.e. $\\phi(d_1, d_2, ...)$, where $d_1, d_2, ...$ are various geometric parameters. Our goal is to examine whether, within the prescribed design parameter range, the phase shift can encompass a spectrum from 0 to 2$\\pi$. Concurrently, we also aim to ensure that the transmission maintains a relatively constant level. If these conditions are met, the meta-atoms can be leveraged to construct a metalens. For a focusing lens, we aim to have a transmitted phase profile of $\\phi(x,y)=\\frac{2\\pi}{\\lambda_0}(f-\\sqrt{x^2+y^2+f^2})$, where $\\lambda_0$ is the wavelength and $f$ is the focal length. Finally, combining $\\phi(x,y)$ and $\\phi(d_1, d_2, ...)$, we can get the meta-atom geometry at each cell position.\n",
    "\n",
    "Here, we demonstrate the process using the example of a mid-infrared (IR) metalens based on silicon nanopillars as proposed in `Qingbin Fan, Mingze Liu, Cheng Yang, Le Yu, Feng Yan, Ting Xu; A high numerical aperture, polarization-insensitive metalens for long-wavelength infrared imaging. Appl. Phys. Lett. 12 November 2018; 113 (20): 201104` [DOI: 10.1063/1.5050562](https://doi.org/10.1063/1.5050562).\n",
    "\n",
    "<img src=\"img/ir_metalens.png\" width=\"500\" alt=\"Schematic of the metalens\">\n",
    "\n",
    "For more lens examples such as the [metalens in the visible frequency range](https://www.flexcompute.com/tidy3d/examples/notebooks/Metalens/), the [3D optical Luneburg lens](https://www.flexcompute.com/tidy3d/examples/notebooks/OpticalLuneburgLens/), and the [Fresnel lens](https://www.flexcompute.com/tidy3d/examples/notebooks/FresnelLens/), please visit our [examples library](https://www.flexcompute.com/tidy3d/learning-center/example-library/). If you are new to the finite-difference time-domain (FDTD) method, we highly recommend going through our [FDTD101 tutorials](https://www.flexcompute.com/tidy3d/learning-center/). "
   ]
  },
  {
   "cell_type": "code",
   "execution_count": 1,
   "id": "877e75dd",
   "metadata": {},
   "outputs": [],
   "source": [
    "import numpy as np\n",
    "import matplotlib.pyplot as plt\n",
    "\n",
    "import tidy3d as td\n",
    "import tidy3d.web as web"
   ]
  },
  {
   "cell_type": "markdown",
   "id": "4fd36e6f",
   "metadata": {},
   "source": [
    "## Simulating Unit Cell Transmission Amplitude and Phase Shift"
   ]
  },
  {
   "cell_type": "markdown",
   "id": "17c6f570-f89e-4a5d-9ebb-fbfe6e832efc",
   "metadata": {},
   "source": [
    "The metalens is designed for mid-IR. More specifically, for CO$_2$ laser at 10.6 μm wavelength. The meta-atoms consist of cylindrical silicon pillars of different diameters. The height of the pillars is fixed at 6.8 μm and the periodicity of the unit cell is fixed at 6.2 μm.\n",
    "\n",
    "First, we will set up the unit cell simulation and perform a parameter sweep of the pillar diameter. The result will give us the complex transmission coefficient as a function of the pillar diameter. "
   ]
  },
  {
   "cell_type": "code",
   "execution_count": 2,
   "id": "b7139fd2",
   "metadata": {},
   "outputs": [],
   "source": [
    "lda0 = 10.6  # operation wavelength\n",
    "freq0 = td.C_0 / lda0  # operation frequency\n",
    "\n",
    "P = 6.2  # period of the unit cell\n",
    "h = 6.8  # height of the pillar\n",
    "\n",
    "inf_eff = 1e5  # effective infinity"
   ]
  },
  {
   "cell_type": "markdown",
   "id": "29890a2b-7115-416a-b93e-7823018913f3",
   "metadata": {},
   "source": [
    "Since we are only interested in one particular wavelength, it's unnecessary to consider the material response dispersion. Therefore, we will define the silicon material as a constant refractive index."
   ]
  },
  {
   "cell_type": "code",
   "execution_count": 3,
   "id": "4cd58865",
   "metadata": {},
   "outputs": [],
   "source": [
    "n_si = 3.43  # refractive index of silicon\n",
    "si = td.Medium(permittivity=n_si**2)"
   ]
  },
  {
   "cell_type": "markdown",
   "id": "6da40f28-eaba-487c-94b0-f102d6c93982",
   "metadata": {},
   "source": [
    "To perform the parameter sweep, we define a helper function `make_unit_cell_sim(D)` that creates a Tidy3D [Simulation](https://docs.flexcompute.com/projects/tidy3d/en/latest/api/_autosummary/tidy3d.Simulation.html#tidy3d.Simulation) given the pillar diameter. The simulation contains a linearly polarized [PlaneWave](https://docs.flexcompute.com/projects/tidy3d/en/latest/api/_autosummary/tidy3d.PlaneWave.html) for excitation and a [DiffractionoMonitor](https://docs.flexcompute.com/projects/tidy3d/en/latest/api/_autosummary/tidy3d.DiffractionMonitor.html) for measuring the complex transmission coefficient."
   ]
  },
  {
   "cell_type": "code",
   "execution_count": 4,
   "id": "0c804ecd",
   "metadata": {},
   "outputs": [],
   "source": [
    "# define a function to create pillar given diameter\n",
    "def make_unit_cell(D):\n",
    "    pillar_geo = td.Cylinder(center=(0, 0, h / 2), radius=D / 2, length=h)\n",
    "    pillar = td.Structure(geometry=pillar_geo, medium=si)\n",
    "\n",
    "    return pillar\n",
    "\n",
    "\n",
    "# define geometry\n",
    "substrate_geo = td.Box.from_bounds(rmin=(-inf_eff, -inf_eff, -inf_eff), rmax=(inf_eff, inf_eff, 0))\n",
    "substrate = td.Structure(geometry=substrate_geo, medium=si)\n",
    "\n",
    "# add a plane wave source\n",
    "plane_wave = td.PlaneWave(\n",
    "    source_time=td.GaussianPulse(freq0=freq0, fwidth=freq0 / 10),\n",
    "    size=(td.inf, td.inf, 0),\n",
    "    center=(0, 0, -0.1 * lda0),\n",
    "    direction=\"+\",\n",
    ")\n",
    "\n",
    "# define a diffraction monitor to calculate the transmission coefficient\n",
    "monitor_t = td.DiffractionMonitor(\n",
    "    center=[0, 0, h + 0.5 * lda0], size=[td.inf, td.inf, 0], freqs=[freq0], name=\"t\"\n",
    ")\n",
    "\n",
    "run_time = 5e-12  # simulation run time\n",
    "\n",
    "# define boundary conditions\n",
    "boundary_spec = td.BoundarySpec(\n",
    "    x=td.Boundary.periodic(),\n",
    "    y=td.Boundary.periodic(),\n",
    "    z=td.Boundary(minus=td.PML(), plus=td.PML()),\n",
    ")\n",
    "\n",
    "Lz = h + 1.2 * lda0  # simulation domain size in z direction\n",
    "min_steps_per_wvl = 12  # minimum steps per wavelength for the grid\n",
    "\n",
    "# define a function to create unit cell simulation given pillar diameter\n",
    "def make_unit_cell_sim(D):\n",
    "    sim = td.Simulation(\n",
    "        center=(0, 0, h / 2),\n",
    "        size=(P, P, Lz),\n",
    "        grid_spec=td.GridSpec.auto(min_steps_per_wvl=min_steps_per_wvl, wavelength=lda0),\n",
    "        structures=[make_unit_cell(D), substrate],\n",
    "        sources=[plane_wave],\n",
    "        monitors=[monitor_t],\n",
    "        run_time=run_time,\n",
    "        boundary_spec=boundary_spec,  # pml is applied to z direction. x and y directions are periodic\n",
    "    )\n",
    "\n",
    "    return sim"
   ]
  },
  {
   "cell_type": "markdown",
   "id": "b5bc1d21-cb1d-4e89-8dfb-ff7a46a171db",
   "metadata": {},
   "source": [
    "Before proceeding further, let's create an example simulation and visualize it to ensure the setup is correct."
   ]
  },
  {
   "cell_type": "code",
   "execution_count": 5,
   "id": "3f402339",
   "metadata": {},
   "outputs": [
    {
     "data": {
      "image/png": "[encoded data removed]",
      "text/plain": [
       "<Figure size 640x480 with 1 Axes>"
      ]
     },
     "metadata": {},
     "output_type": "display_data"
    }
   ],
   "source": [
    "# create an example simulation and visualize the setup and grid\n",
    "sim = make_unit_cell_sim(2)\n",
    "ax = sim.plot(y=0)\n",
    "sim.plot_grid(y=0, ax=ax)\n",
    "ax.set_aspect(0.8)\n",
    "plt.show()"
   ]
  },
  {
   "cell_type": "markdown",
   "id": "2d5759c2-7740-4ffc-9f4f-ec1b10c64cb9",
   "metadata": {},
   "source": [
    "Now we are ready to perform the parameter sweep for the pillar diameter from 1.5 μm to 3.6 μm. Since we are only performing a simple sweep for one parameter, we will manually create a [Batch](https://docs.flexcompute.com/projects/tidy3d/en/latest/api/_autosummary/tidy3d.web.api.container.Batch.html) and run it. If the design involves sweeping multiple parameters, it's recommended to use the [design plugin](https://www.flexcompute.com/tidy3d/examples/notebooks/Design/) for convenience in managing the simulations and results."
   ]
  },
  {
   "cell_type": "code",
   "execution_count": 6,
   "id": "e3b71a28",
   "metadata": {},
   "outputs": [
    {
     "data": {
      "text/html": [
       "<pre style=\"white-space:pre;overflow-x:auto;line-height:normal;font-family:Menlo,'DejaVu Sans Mono',consolas,'Courier New',monospace\"><span style=\"color: #7fbfbf; text-decoration-color: #7fbfbf\">13:00:15 Eastern Daylight Time </span>Created task <span style=\"color: #008000; text-decoration-color: #008000\">'D=1.500'</span> with task_id              \n",
       "<span style=\"color: #7fbfbf; text-decoration-color: #7fbfbf\">                               </span><span style=\"color: #008000; text-decoration-color: #008000\">'fdve-6369f866-b62b-408f-b328-706741386db3'</span> and  \n",
       "<span style=\"color: #7fbfbf; text-decoration-color: #7fbfbf\">                               </span>task_type <span style=\"color: #008000; text-decoration-color: #008000\">'FDTD'</span>.                                \n",
       "</pre>\n"
      ],
      "text/plain": [
       "\u001b[2;36m13:00:15 Eastern Daylight Time\u001b[0m\u001b[2;36m \u001b[0mCreated task \u001b[32m'\u001b[0m\u001b[32mD\u001b[0m\u001b[32m=\u001b[0m\u001b[32m1\u001b[0m\u001b[32m.500'\u001b[0m with task_id              \n",
       "\u001b[2;36m                               \u001b[0m\u001b[32m'fdve-6369f866-b62b-408f-b328-706741386db3'\u001b[0m and  \n",
       "\u001b[2;36m                               \u001b[0mtask_type \u001b[32m'FDTD'\u001b[0m.                                \n"
      ]
     },
     "metadata": {},
     "output_type": "display_data"
    },
    {
     "data": {
      "text/html": [
       "<pre style=\"white-space:pre;overflow-x:auto;line-height:normal;font-family:Menlo,'DejaVu Sans Mono',consolas,'Courier New',monospace\"><span style=\"color: #7fbfbf; text-decoration-color: #7fbfbf\">                               </span>View task using web UI at                        \n",
       "<span style=\"color: #7fbfbf; text-decoration-color: #7fbfbf\">                               </span><a href=\"https://tidy3d.simulation.cloud/workbench?taskId=fdve-6369f866-b62b-408f-b328-706741386db3\" target=\"_blank\"><span style=\"color: #008000; text-decoration-color: #008000\">'https://tidy3d.simulation.cloud/workbench?taskId</span></a>\n",
       "<span style=\"color: #7fbfbf; text-decoration-color: #7fbfbf\">                               </span><a href=\"https://tidy3d.simulation.cloud/workbench?taskId=fdve-6369f866-b62b-408f-b328-706741386db3\" target=\"_blank\"><span style=\"color: #008000; text-decoration-color: #008000\">=fdve-6369f866-b62b-408f-b328-706741386db3'</span></a>.     \n",
       "</pre>\n"
      ],
      "text/plain": [
       "\u001b[2;36m                              \u001b[0m\u001b[2;36m \u001b[0mView task using web UI at                        \n",
       "\u001b[2;36m                               \u001b[0m\u001b]8;id=913287;https://tidy3d.simulation.cloud/workbench?taskId=fdve-6369f866-b62b-408f-b328-706741386db3\u001b\\\u001b[32m'https://tidy3d.simulation.cloud/workbench?\u001b[0m\u001b]8;;\u001b\\\u001b]8;id=177960;https://tidy3d.simulation.cloud/workbench?taskId=fdve-6369f866-b62b-408f-b328-706741386db3\u001b\\\u001b[32mtaskId\u001b[0m\u001b]8;;\u001b\\\n",
       "\u001b[2;36m                               \u001b[0m\u001b]8;id=913287;https://tidy3d.simulation.cloud/workbench?taskId=fdve-6369f866-b62b-408f-b328-706741386db3\u001b\\\u001b[32m=\u001b[0m\u001b]8;;\u001b\\\u001b]8;id=759032;https://tidy3d.simulation.cloud/workbench?taskId=fdve-6369f866-b62b-408f-b328-706741386db3\u001b\\\u001b[32mfdve\u001b[0m\u001b]8;;\u001b\\\u001b]8;id=913287;https://tidy3d.simulation.cloud/workbench?taskId=fdve-6369f866-b62b-408f-b328-706741386db3\u001b\\\u001b[32m-6369f866-b62b-408f-b328-706741386db3'\u001b[0m\u001b]8;;\u001b\\.     \n"
      ]
     },
     "metadata": {},
     "output_type": "display_data"
    },
    {
     "data": {
      "application/vnd.jupyter.widget-view+json": {
       "model_id": "7406ecf8dd9346c286ede1d401d8eb8e",
       "version_major": 2,
       "version_minor": 0
      },
      "text/plain": [
       "Output()"
      ]
     },
     "metadata": {},
     "output_type": "display_data"
    },
    {
     "data": {
      "text/html": [
       "<pre style=\"white-space:pre;overflow-x:auto;line-height:normal;font-family:Menlo,'DejaVu Sans Mono',consolas,'Courier New',monospace\"></pre>\n"
      ],
      "text/plain": []
     },
     "metadata": {},
     "output_type": "display_data"
    },
    {
     "data": {
      "text/html": [
       "<pre style=\"white-space:pre;overflow-x:auto;line-height:normal;font-family:Menlo,'DejaVu Sans Mono',consolas,'Courier New',monospace\">\n",
       "</pre>\n"
      ],
      "text/plain": [
       "\n"
      ]
     },
     "metadata": {},
     "output_type": "display_data"
    },
    {
     "data": {
      "text/html": [
       "<pre style=\"white-space:pre;overflow-x:auto;line-height:normal;font-family:Menlo,'DejaVu Sans Mono',consolas,'Courier New',monospace\"><span style=\"color: #7fbfbf; text-decoration-color: #7fbfbf\">13:00:16 Eastern Daylight Time </span>Created task <span style=\"color: #008000; text-decoration-color: #008000\">'D=1.611'</span> with task_id              \n",
       "<span style=\"color: #7fbfbf; text-decoration-color: #7fbfbf\">                               </span><span style=\"color: #008000; text-decoration-color: #008000\">'fdve-51d82951-be23-4391-86e7-b0aa1ded87e2'</span> and  \n",
       "<span style=\"color: #7fbfbf; text-decoration-color: #7fbfbf\">                               </span>task_type <span style=\"color: #008000; text-decoration-color: #008000\">'FDTD'</span>.                                \n",
       "</pre>\n"
      ],
      "text/plain": [
       "\u001b[2;36m13:00:16 Eastern Daylight Time\u001b[0m\u001b[2;36m \u001b[0mCreated task \u001b[32m'\u001b[0m\u001b[32mD\u001b[0m\u001b[32m=\u001b[0m\u001b[32m1\u001b[0m\u001b[32m.611'\u001b[0m with task_id              \n",
       "\u001b[2;36m                               \u001b[0m\u001b[32m'fdve-51d82951-be23-4391-86e7-b0aa1ded87e2'\u001b[0m and  \n",
       "\u001b[2;36m                               \u001b[0mtask_type \u001b[32m'FDTD'\u001b[0m.                                \n"
      ]
     },
     "metadata": {},
     "output_type": "display_data"
    },
    {
     "data": {
      "text/html": [
       "<pre style=\"white-space:pre;overflow-x:auto;line-height:normal;font-family:Menlo,'DejaVu Sans Mono',consolas,'Courier New',monospace\"><span style=\"color: #7fbfbf; text-decoration-color: #7fbfbf\">                               </span>View task using web UI at                        \n",
       "<span style=\"color: #7fbfbf; text-decoration-color: #7fbfbf\">                               </span><a href=\"https://tidy3d.simulation.cloud/workbench?taskId=fdve-51d82951-be23-4391-86e7-b0aa1ded87e2\" target=\"_blank\"><span style=\"color: #008000; text-decoration-color: #008000\">'https://tidy3d.simulation.cloud/workbench?taskId</span></a>\n",
       "<span style=\"color: #7fbfbf; text-decoration-color: #7fbfbf\">                               </span><a href=\"https://tidy3d.simulation.cloud/workbench?taskId=fdve-51d82951-be23-4391-86e7-b0aa1ded87e2\" target=\"_blank\"><span style=\"color: #008000; text-decoration-color: #008000\">=fdve-51d82951-be23-4391-86e7-b0aa1ded87e2'</span></a>.     \n",
       "</pre>\n"
      ],
      "text/plain": [
       "\u001b[2;36m                              \u001b[0m\u001b[2;36m \u001b[0mView task using web UI at                        \n",
       "\u001b[2;36m                               \u001b[0m\u001b]8;id=442829;https://tidy3d.simulation.cloud/workbench?taskId=fdve-51d82951-be23-4391-86e7-b0aa1ded87e2\u001b\\\u001b[32m'https://tidy3d.simulation.cloud/workbench?\u001b[0m\u001b]8;;\u001b\\\u001b]8;id=872129;https://tidy3d.simulation.cloud/workbench?taskId=fdve-51d82951-be23-4391-86e7-b0aa1ded87e2\u001b\\\u001b[32mtaskId\u001b[0m\u001b]8;;\u001b\\\n",
       "\u001b[2;36m                               \u001b[0m\u001b]8;id=442829;https://tidy3d.simulation.cloud/workbench?taskId=fdve-51d82951-be23-4391-86e7-b0aa1ded87e2\u001b\\\u001b[32m=\u001b[0m\u001b]8;;\u001b\\\u001b]8;id=764337;https://tidy3d.simulation.cloud/workbench?taskId=fdve-51d82951-be23-4391-86e7-b0aa1ded87e2\u001b\\\u001b[32mfdve\u001b[0m\u001b]8;;\u001b\\\u001b]8;id=442829;https://tidy3d.simulation.cloud/workbench?taskId=fdve-51d82951-be23-4391-86e7-b0aa1ded87e2\u001b\\\u001b[32m-51d82951-be23-4391-86e7-b0aa1ded87e2'\u001b[0m\u001b]8;;\u001b\\.     \n"
      ]
     },
     "metadata": {},
     "output_type": "display_data"
    },
    {
     "data": {
      "application/vnd.jupyter.widget-view+json": {
       "model_id": "4dc2553b9ccf4374894d5fe53f01e8ab",
       "version_major": 2,
       "version_minor": 0
      },
      "text/plain": [
       "Output()"
      ]
     },
     "metadata": {},
     "output_type": "display_data"
    },
    {
     "data": {
      "text/html": [
       "<pre style=\"white-space:pre;overflow-x:auto;line-height:normal;font-family:Menlo,'DejaVu Sans Mono',consolas,'Courier New',monospace\"></pre>\n"
      ],
      "text/plain": []
     },
     "metadata": {},
     "output_type": "display_data"
    },
    {
     "data": {
      "text/html": [
       "<pre style=\"white-space:pre;overflow-x:auto;line-height:normal;font-family:Menlo,'DejaVu Sans Mono',consolas,'Courier New',monospace\">\n",
       "</pre>\n"
      ],
      "text/plain": [
       "\n"
      ]
     },
     "metadata": {},
     "output_type": "display_data"
    },
    {
     "data": {
      "text/html": [
       "<pre style=\"white-space:pre;overflow-x:auto;line-height:normal;font-family:Menlo,'DejaVu Sans Mono',consolas,'Courier New',monospace\"><span style=\"color: #7fbfbf; text-decoration-color: #7fbfbf\">13:00:18 Eastern Daylight Time </span>Created task <span style=\"color: #008000; text-decoration-color: #008000\">'D=1.721'</span> with task_id              \n",
       "<span style=\"color: #7fbfbf; text-decoration-color: #7fbfbf\">                               </span><span style=\"color: #008000; text-decoration-color: #008000\">'fdve-61482ce9-3465-40c6-8021-9ecc6bbbe8cb'</span> and  \n",
       "<span style=\"color: #7fbfbf; text-decoration-color: #7fbfbf\">                               </span>task_type <span style=\"color: #008000; text-decoration-color: #008000\">'FDTD'</span>.                                \n",
       "</pre>\n"
      ],
      "text/plain": [
       "\u001b[2;36m13:00:18 Eastern Daylight Time\u001b[0m\u001b[2;36m \u001b[0mCreated task \u001b[32m'\u001b[0m\u001b[32mD\u001b[0m\u001b[32m=\u001b[0m\u001b[32m1\u001b[0m\u001b[32m.721'\u001b[0m with task_id              \n",
       "\u001b[2;36m                               \u001b[0m\u001b[32m'fdve-61482ce9-3465-40c6-8021-9ecc6bbbe8cb'\u001b[0m and  \n",
       "\u001b[2;36m                               \u001b[0mtask_type \u001b[32m'FDTD'\u001b[0m.                                \n"
      ]
     },
     "metadata": {},
     "output_type": "display_data"
    },
    {
     "data": {
      "text/html": [
       "<pre style=\"white-space:pre;overflow-x:auto;line-height:normal;font-family:Menlo,'DejaVu Sans Mono',consolas,'Courier New',monospace\"><span style=\"color: #7fbfbf; text-decoration-color: #7fbfbf\">                               </span>View task using web UI at                        \n",
       "<span style=\"color: #7fbfbf; text-decoration-color: #7fbfbf\">                               </span><a href=\"https://tidy3d.simulation.cloud/workbench?taskId=fdve-61482ce9-3465-40c6-8021-9ecc6bbbe8cb\" target=\"_blank\"><span style=\"color: #008000; text-decoration-color: #008000\">'https://tidy3d.simulation.cloud/workbench?taskId</span></a>\n",
       "<span style=\"color: #7fbfbf; text-decoration-color: #7fbfbf\">                               </span><a href=\"https://tidy3d.simulation.cloud/workbench?taskId=fdve-61482ce9-3465-40c6-8021-9ecc6bbbe8cb\" target=\"_blank\"><span style=\"color: #008000; text-decoration-color: #008000\">=fdve-61482ce9-3465-40c6-8021-9ecc6bbbe8cb'</span></a>.     \n",
       "</pre>\n"
      ],
      "text/plain": [
       "\u001b[2;36m                              \u001b[0m\u001b[2;36m \u001b[0mView task using web UI at                        \n",
       "\u001b[2;36m                               \u001b[0m\u001b]8;id=39577;https://tidy3d.simulation.cloud/workbench?taskId=fdve-61482ce9-3465-40c6-8021-9ecc6bbbe8cb\u001b\\\u001b[32m'https://tidy3d.simulation.cloud/workbench?\u001b[0m\u001b]8;;\u001b\\\u001b]8;id=217646;https://tidy3d.simulation.cloud/workbench?taskId=fdve-61482ce9-3465-40c6-8021-9ecc6bbbe8cb\u001b\\\u001b[32mtaskId\u001b[0m\u001b]8;;\u001b\\\n",
       "\u001b[2;36m                               \u001b[0m\u001b]8;id=39577;https://tidy3d.simulation.cloud/workbench?taskId=fdve-61482ce9-3465-40c6-8021-9ecc6bbbe8cb\u001b\\\u001b[32m=\u001b[0m\u001b]8;;\u001b\\\u001b]8;id=627510;https://tidy3d.simulation.cloud/workbench?taskId=fdve-61482ce9-3465-40c6-8021-9ecc6bbbe8cb\u001b\\\u001b[32mfdve\u001b[0m\u001b]8;;\u001b\\\u001b]8;id=39577;https://tidy3d.simulation.cloud/workbench?taskId=fdve-61482ce9-3465-40c6-8021-9ecc6bbbe8cb\u001b\\\u001b[32m-61482ce9-3465-40c6-8021-9ecc6bbbe8cb'\u001b[0m\u001b]8;;\u001b\\.     \n"
      ]
     },
     "metadata": {},
     "output_type": "display_data"
    },
    {
     "data": {
      "application/vnd.jupyter.widget-view+json": {
       "model_id": "3e82ad5122d04b248ad934e337dd7490",
       "version_major": 2,
       "version_minor": 0
      },
      "text/plain": [
       "Output()"
      ]
     },
     "metadata": {},
     "output_type": "display_data"
    },
    {
     "data": {
      "text/html": [
       "<pre style=\"white-space:pre;overflow-x:auto;line-height:normal;font-family:Menlo,'DejaVu Sans Mono',consolas,'Courier New',monospace\"></pre>\n"
      ],
      "text/plain": []
     },
     "metadata": {},
     "output_type": "display_data"
    },
    {
     "data": {
      "text/html": [
       "<pre style=\"white-space:pre;overflow-x:auto;line-height:normal;font-family:Menlo,'DejaVu Sans Mono',consolas,'Courier New',monospace\">\n",
       "</pre>\n"
      ],
      "text/plain": [
       "\n"
      ]
     },
     "metadata": {},
     "output_type": "display_data"
    },
    {
     "data": {
      "text/html": [
       "<pre style=\"white-space:pre;overflow-x:auto;line-height:normal;font-family:Menlo,'DejaVu Sans Mono',consolas,'Courier New',monospace\"><span style=\"color: #7fbfbf; text-decoration-color: #7fbfbf\">13:00:19 Eastern Daylight Time </span>Created task <span style=\"color: #008000; text-decoration-color: #008000\">'D=1.832'</span> with task_id              \n",
       "<span style=\"color: #7fbfbf; text-decoration-color: #7fbfbf\">                               </span><span style=\"color: #008000; text-decoration-color: #008000\">'fdve-a72634a7-822e-40ed-b3bc-4dc2374b0249'</span> and  \n",
       "<span style=\"color: #7fbfbf; text-decoration-color: #7fbfbf\">                               </span>task_type <span style=\"color: #008000; text-decoration-color: #008000\">'FDTD'</span>.                                \n",
       "</pre>\n"
      ],
      "text/plain": [
       "\u001b[2;36m13:00:19 Eastern Daylight Time\u001b[0m\u001b[2;36m \u001b[0mCreated task \u001b[32m'\u001b[0m\u001b[32mD\u001b[0m\u001b[32m=\u001b[0m\u001b[32m1\u001b[0m\u001b[32m.832'\u001b[0m with task_id              \n",
       "\u001b[2;36m                               \u001b[0m\u001b[32m'fdve-a72634a7-822e-40ed-b3bc-4dc2374b0249'\u001b[0m and  \n",
       "\u001b[2;36m                               \u001b[0mtask_type \u001b[32m'FDTD'\u001b[0m.                                \n"
      ]
     },
     "metadata": {},
     "output_type": "display_data"
    },
    {
     "data": {
      "text/html": [
       "<pre style=\"white-space:pre;overflow-x:auto;line-height:normal;font-family:Menlo,'DejaVu Sans Mono',consolas,'Courier New',monospace\"><span style=\"color: #7fbfbf; text-decoration-color: #7fbfbf\">                               </span>View task using web UI at                        \n",
       "<span style=\"color: #7fbfbf; text-decoration-color: #7fbfbf\">                               </span><a href=\"https://tidy3d.simulation.cloud/workbench?taskId=fdve-a72634a7-822e-40ed-b3bc-4dc2374b0249\" target=\"_blank\"><span style=\"color: #008000; text-decoration-color: #008000\">'https://tidy3d.simulation.cloud/workbench?taskId</span></a>\n",
       "<span style=\"color: #7fbfbf; text-decoration-color: #7fbfbf\">                               </span><a href=\"https://tidy3d.simulation.cloud/workbench?taskId=fdve-a72634a7-822e-40ed-b3bc-4dc2374b0249\" target=\"_blank\"><span style=\"color: #008000; text-decoration-color: #008000\">=fdve-a72634a7-822e-40ed-b3bc-4dc2374b0249'</span></a>.     \n",
       "</pre>\n"
      ],
      "text/plain": [
       "\u001b[2;36m                              \u001b[0m\u001b[2;36m \u001b[0mView task using web UI at                        \n",
       "\u001b[2;36m                               \u001b[0m\u001b]8;id=671605;https://tidy3d.simulation.cloud/workbench?taskId=fdve-a72634a7-822e-40ed-b3bc-4dc2374b0249\u001b\\\u001b[32m'https://tidy3d.simulation.cloud/workbench?\u001b[0m\u001b]8;;\u001b\\\u001b]8;id=814290;https://tidy3d.simulation.cloud/workbench?taskId=fdve-a72634a7-822e-40ed-b3bc-4dc2374b0249\u001b\\\u001b[32mtaskId\u001b[0m\u001b]8;;\u001b\\\n",
       "\u001b[2;36m                               \u001b[0m\u001b]8;id=671605;https://tidy3d.simulation.cloud/workbench?taskId=fdve-a72634a7-822e-40ed-b3bc-4dc2374b0249\u001b\\\u001b[32m=\u001b[0m\u001b]8;;\u001b\\\u001b]8;id=811341;https://tidy3d.simulation.cloud/workbench?taskId=fdve-a72634a7-822e-40ed-b3bc-4dc2374b0249\u001b\\\u001b[32mfdve\u001b[0m\u001b]8;;\u001b\\\u001b]8;id=671605;https://tidy3d.simulation.cloud/workbench?taskId=fdve-a72634a7-822e-40ed-b3bc-4dc2374b0249\u001b\\\u001b[32m-a72634a7-822e-40ed-b3bc-4dc2374b0249'\u001b[0m\u001b]8;;\u001b\\.     \n"
      ]
     },
     "metadata": {},
     "output_type": "display_data"
    },
    {
     "data": {
      "application/vnd.jupyter.widget-view+json": {
       "model_id": "d952a27d37134ff7a616c9b42f12f869",
       "version_major": 2,
       "version_minor": 0
      },
      "text/plain": [
       "Output()"
      ]
     },
     "metadata": {},
     "output_type": "display_data"
    },
    {
     "data": {
      "text/html": [
       "<pre style=\"white-space:pre;overflow-x:auto;line-height:normal;font-family:Menlo,'DejaVu Sans Mono',consolas,'Courier New',monospace\"></pre>\n"
      ],
      "text/plain": []
     },
     "metadata": {},
     "output_type": "display_data"
    },
    {
     "data": {
      "text/html": [
       "<pre style=\"white-space:pre;overflow-x:auto;line-height:normal;font-family:Menlo,'DejaVu Sans Mono',consolas,'Courier New',monospace\">\n",
       "</pre>\n"
      ],
      "text/plain": [
       "\n"
      ]
     },
     "metadata": {},
     "output_type": "display_data"
    },
    {
     "data": {
      "text/html": [
       "<pre style=\"white-space:pre;overflow-x:auto;line-height:normal;font-family:Menlo,'DejaVu Sans Mono',consolas,'Courier New',monospace\"><span style=\"color: #7fbfbf; text-decoration-color: #7fbfbf\">13:00:20 Eastern Daylight Time </span>Created task <span style=\"color: #008000; text-decoration-color: #008000\">'D=1.942'</span> with task_id              \n",
       "<span style=\"color: #7fbfbf; text-decoration-color: #7fbfbf\">                               </span><span style=\"color: #008000; text-decoration-color: #008000\">'fdve-d36be8fc-b203-40c5-8cbb-80d0255edf63'</span> and  \n",
       "<span style=\"color: #7fbfbf; text-decoration-color: #7fbfbf\">                               </span>task_type <span style=\"color: #008000; text-decoration-color: #008000\">'FDTD'</span>.                                \n",
       "</pre>\n"
      ],
      "text/plain": [
       "\u001b[2;36m13:00:20 Eastern Daylight Time\u001b[0m\u001b[2;36m \u001b[0mCreated task \u001b[32m'\u001b[0m\u001b[32mD\u001b[0m\u001b[32m=\u001b[0m\u001b[32m1\u001b[0m\u001b[32m.942'\u001b[0m with task_id              \n",
       "\u001b[2;36m                               \u001b[0m\u001b[32m'fdve-d36be8fc-b203-40c5-8cbb-80d0255edf63'\u001b[0m and  \n",
       "\u001b[2;36m                               \u001b[0mtask_type \u001b[32m'FDTD'\u001b[0m.                                \n"
      ]
     },
     "metadata": {},
     "output_type": "display_data"
    },
    {
     "data": {
      "text/html": [
       "<pre style=\"white-space:pre;overflow-x:auto;line-height:normal;font-family:Menlo,'DejaVu Sans Mono',consolas,'Courier New',monospace\"><span style=\"color: #7fbfbf; text-decoration-color: #7fbfbf\">                               </span>View task using web UI at                        \n",
       "<span style=\"color: #7fbfbf; text-decoration-color: #7fbfbf\">                               </span><a href=\"https://tidy3d.simulation.cloud/workbench?taskId=fdve-d36be8fc-b203-40c5-8cbb-80d0255edf63\" target=\"_blank\"><span style=\"color: #008000; text-decoration-color: #008000\">'https://tidy3d.simulation.cloud/workbench?taskId</span></a>\n",
       "<span style=\"color: #7fbfbf; text-decoration-color: #7fbfbf\">                               </span><a href=\"https://tidy3d.simulation.cloud/workbench?taskId=fdve-d36be8fc-b203-40c5-8cbb-80d0255edf63\" target=\"_blank\"><span style=\"color: #008000; text-decoration-color: #008000\">=fdve-d36be8fc-b203-40c5-8cbb-80d0255edf63'</span></a>.     \n",
       "</pre>\n"
      ],
      "text/plain": [
       "\u001b[2;36m                              \u001b[0m\u001b[2;36m \u001b[0mView task using web UI at                        \n",
       "\u001b[2;36m                               \u001b[0m\u001b]8;id=105690;https://tidy3d.simulation.cloud/workbench?taskId=fdve-d36be8fc-b203-40c5-8cbb-80d0255edf63\u001b\\\u001b[32m'https://tidy3d.simulation.cloud/workbench?\u001b[0m\u001b]8;;\u001b\\\u001b]8;id=909633;https://tidy3d.simulation.cloud/workbench?taskId=fdve-d36be8fc-b203-40c5-8cbb-80d0255edf63\u001b\\\u001b[32mtaskId\u001b[0m\u001b]8;;\u001b\\\n",
       "\u001b[2;36m                               \u001b[0m\u001b]8;id=105690;https://tidy3d.simulation.cloud/workbench?taskId=fdve-d36be8fc-b203-40c5-8cbb-80d0255edf63\u001b\\\u001b[32m=\u001b[0m\u001b]8;;\u001b\\\u001b]8;id=7535;https://tidy3d.simulation.cloud/workbench?taskId=fdve-d36be8fc-b203-40c5-8cbb-80d0255edf63\u001b\\\u001b[32mfdve\u001b[0m\u001b]8;;\u001b\\\u001b]8;id=105690;https://tidy3d.simulation.cloud/workbench?taskId=fdve-d36be8fc-b203-40c5-8cbb-80d0255edf63\u001b\\\u001b[32m-d36be8fc-b203-40c5-8cbb-80d0255edf63'\u001b[0m\u001b]8;;\u001b\\.     \n"
      ]
     },
     "metadata": {},
     "output_type": "display_data"
    },
    {
     "data": {
      "application/vnd.jupyter.widget-view+json": {
       "model_id": "1757ecf28516405699a301c7ec8f4bba",
       "version_major": 2,
       "version_minor": 0
      },
      "text/plain": [
       "Output()"
      ]
     },
     "metadata": {},
     "output_type": "display_data"
    },
    {
     "data": {
      "text/html": [
       "<pre style=\"white-space:pre;overflow-x:auto;line-height:normal;font-family:Menlo,'DejaVu Sans Mono',consolas,'Courier New',monospace\"></pre>\n"
      ],
      "text/plain": []
     },
     "metadata": {},
     "output_type": "display_data"
    },
    {
     "data": {
      "text/html": [
       "<pre style=\"white-space:pre;overflow-x:auto;line-height:normal;font-family:Menlo,'DejaVu Sans Mono',consolas,'Courier New',monospace\">\n",
       "</pre>\n"
      ],
      "text/plain": [
       "\n"
      ]
     },
     "metadata": {},
     "output_type": "display_data"
    },
    {
     "data": {
      "text/html": [
       "<pre style=\"white-space:pre;overflow-x:auto;line-height:normal;font-family:Menlo,'DejaVu Sans Mono',consolas,'Courier New',monospace\"><span style=\"color: #7fbfbf; text-decoration-color: #7fbfbf\">13:00:21 Eastern Daylight Time </span>Created task <span style=\"color: #008000; text-decoration-color: #008000\">'D=2.053'</span> with task_id              \n",
       "<span style=\"color: #7fbfbf; text-decoration-color: #7fbfbf\">                               </span><span style=\"color: #008000; text-decoration-color: #008000\">'fdve-15e96201-e652-4717-9fc5-231e59d28e3f'</span> and  \n",
       "<span style=\"color: #7fbfbf; text-decoration-color: #7fbfbf\">                               </span>task_type <span style=\"color: #008000; text-decoration-color: #008000\">'FDTD'</span>.                                \n",
       "</pre>\n"
      ],
      "text/plain": [
       "\u001b[2;36m13:00:21 Eastern Daylight Time\u001b[0m\u001b[2;36m \u001b[0mCreated task \u001b[32m'\u001b[0m\u001b[32mD\u001b[0m\u001b[32m=\u001b[0m\u001b[32m2\u001b[0m\u001b[32m.053'\u001b[0m with task_id              \n",
       "\u001b[2;36m                               \u001b[0m\u001b[32m'fdve-15e96201-e652-4717-9fc5-231e59d28e3f'\u001b[0m and  \n",
       "\u001b[2;36m                               \u001b[0mtask_type \u001b[32m'FDTD'\u001b[0m.                                \n"
      ]
     },
     "metadata": {},
     "output_type": "display_data"
    },
    {
     "data": {
      "text/html": [
       "<pre style=\"white-space:pre;overflow-x:auto;line-height:normal;font-family:Menlo,'DejaVu Sans Mono',consolas,'Courier New',monospace\"><span style=\"color: #7fbfbf; text-decoration-color: #7fbfbf\">                               </span>View task using web UI at                        \n",
       "<span style=\"color: #7fbfbf; text-decoration-color: #7fbfbf\">                               </span><a href=\"https://tidy3d.simulation.cloud/workbench?taskId=fdve-15e96201-e652-4717-9fc5-231e59d28e3f\" target=\"_blank\"><span style=\"color: #008000; text-decoration-color: #008000\">'https://tidy3d.simulation.cloud/workbench?taskId</span></a>\n",
       "<span style=\"color: #7fbfbf; text-decoration-color: #7fbfbf\">                               </span><a href=\"https://tidy3d.simulation.cloud/workbench?taskId=fdve-15e96201-e652-4717-9fc5-231e59d28e3f\" target=\"_blank\"><span style=\"color: #008000; text-decoration-color: #008000\">=fdve-15e96201-e652-4717-9fc5-231e59d28e3f'</span></a>.     \n",
       "</pre>\n"
      ],
      "text/plain": [
       "\u001b[2;36m                              \u001b[0m\u001b[2;36m \u001b[0mView task using web UI at                        \n",
       "\u001b[2;36m                               \u001b[0m\u001b]8;id=86313;https://tidy3d.simulation.cloud/workbench?taskId=fdve-15e96201-e652-4717-9fc5-231e59d28e3f\u001b\\\u001b[32m'https://tidy3d.simulation.cloud/workbench?\u001b[0m\u001b]8;;\u001b\\\u001b]8;id=503151;https://tidy3d.simulation.cloud/workbench?taskId=fdve-15e96201-e652-4717-9fc5-231e59d28e3f\u001b\\\u001b[32mtaskId\u001b[0m\u001b]8;;\u001b\\\n",
       "\u001b[2;36m                               \u001b[0m\u001b]8;id=86313;https://tidy3d.simulation.cloud/workbench?taskId=fdve-15e96201-e652-4717-9fc5-231e59d28e3f\u001b\\\u001b[32m=\u001b[0m\u001b]8;;\u001b\\\u001b]8;id=480021;https://tidy3d.simulation.cloud/workbench?taskId=fdve-15e96201-e652-4717-9fc5-231e59d28e3f\u001b\\\u001b[32mfdve\u001b[0m\u001b]8;;\u001b\\\u001b]8;id=86313;https://tidy3d.simulation.cloud/workbench?taskId=fdve-15e96201-e652-4717-9fc5-231e59d28e3f\u001b\\\u001b[32m-15e96201-e652-4717-9fc5-231e59d28e3f'\u001b[0m\u001b]8;;\u001b\\.     \n"
      ]
     },
     "metadata": {},
     "output_type": "display_data"
    },
    {
     "data": {
      "application/vnd.jupyter.widget-view+json": {
       "model_id": "569c5eb9d84a49eebf9cae8c5660a40f",
       "version_major": 2,
       "version_minor": 0
      },
      "text/plain": [
       "Output()"
      ]
     },
     "metadata": {},
     "output_type": "display_data"
    },
    {
     "data": {
      "text/html": [
       "<pre style=\"white-space:pre;overflow-x:auto;line-height:normal;font-family:Menlo,'DejaVu Sans Mono',consolas,'Courier New',monospace\"></pre>\n"
      ],
      "text/plain": []
     },
     "metadata": {},
     "output_type": "display_data"
    },
    {
     "data": {
      "text/html": [
       "<pre style=\"white-space:pre;overflow-x:auto;line-height:normal;font-family:Menlo,'DejaVu Sans Mono',consolas,'Courier New',monospace\">\n",
       "</pre>\n"
      ],
      "text/plain": [
       "\n"
      ]
     },
     "metadata": {},
     "output_type": "display_data"
    },
    {
     "data": {
      "text/html": [
       "<pre style=\"white-space:pre;overflow-x:auto;line-height:normal;font-family:Menlo,'DejaVu Sans Mono',consolas,'Courier New',monospace\"><span style=\"color: #7fbfbf; text-decoration-color: #7fbfbf\">13:00:22 Eastern Daylight Time </span>Created task <span style=\"color: #008000; text-decoration-color: #008000\">'D=2.163'</span> with task_id              \n",
       "<span style=\"color: #7fbfbf; text-decoration-color: #7fbfbf\">                               </span><span style=\"color: #008000; text-decoration-color: #008000\">'fdve-672b1b9b-2d74-4fff-9272-8b9550193c9a'</span> and  \n",
       "<span style=\"color: #7fbfbf; text-decoration-color: #7fbfbf\">                               </span>task_type <span style=\"color: #008000; text-decoration-color: #008000\">'FDTD'</span>.                                \n",
       "</pre>\n"
      ],
      "text/plain": [
       "\u001b[2;36m13:00:22 Eastern Daylight Time\u001b[0m\u001b[2;36m \u001b[0mCreated task \u001b[32m'\u001b[0m\u001b[32mD\u001b[0m\u001b[32m=\u001b[0m\u001b[32m2\u001b[0m\u001b[32m.163'\u001b[0m with task_id              \n",
       "\u001b[2;36m                               \u001b[0m\u001b[32m'fdve-672b1b9b-2d74-4fff-9272-8b9550193c9a'\u001b[0m and  \n",
       "\u001b[2;36m                               \u001b[0mtask_type \u001b[32m'FDTD'\u001b[0m.                                \n"
      ]
     },
     "metadata": {},
     "output_type": "display_data"
    },
    {
     "data": {
      "text/html": [
       "<pre style=\"white-space:pre;overflow-x:auto;line-height:normal;font-family:Menlo,'DejaVu Sans Mono',consolas,'Courier New',monospace\"><span style=\"color: #7fbfbf; text-decoration-color: #7fbfbf\">                               </span>View task using web UI at                        \n",
       "<span style=\"color: #7fbfbf; text-decoration-color: #7fbfbf\">                               </span><a href=\"https://tidy3d.simulation.cloud/workbench?taskId=fdve-672b1b9b-2d74-4fff-9272-8b9550193c9a\" target=\"_blank\"><span style=\"color: #008000; text-decoration-color: #008000\">'https://tidy3d.simulation.cloud/workbench?taskId</span></a>\n",
       "<span style=\"color: #7fbfbf; text-decoration-color: #7fbfbf\">                               </span><a href=\"https://tidy3d.simulation.cloud/workbench?taskId=fdve-672b1b9b-2d74-4fff-9272-8b9550193c9a\" target=\"_blank\"><span style=\"color: #008000; text-decoration-color: #008000\">=fdve-672b1b9b-2d74-4fff-9272-8b9550193c9a'</span></a>.     \n",
       "</pre>\n"
      ],
      "text/plain": [
       "\u001b[2;36m                              \u001b[0m\u001b[2;36m \u001b[0mView task using web UI at                        \n",
       "\u001b[2;36m                               \u001b[0m\u001b]8;id=986345;https://tidy3d.simulation.cloud/workbench?taskId=fdve-672b1b9b-2d74-4fff-9272-8b9550193c9a\u001b\\\u001b[32m'https://tidy3d.simulation.cloud/workbench?\u001b[0m\u001b]8;;\u001b\\\u001b]8;id=625366;https://tidy3d.simulation.cloud/workbench?taskId=fdve-672b1b9b-2d74-4fff-9272-8b9550193c9a\u001b\\\u001b[32mtaskId\u001b[0m\u001b]8;;\u001b\\\n",
       "\u001b[2;36m                               \u001b[0m\u001b]8;id=986345;https://tidy3d.simulation.cloud/workbench?taskId=fdve-672b1b9b-2d74-4fff-9272-8b9550193c9a\u001b\\\u001b[32m=\u001b[0m\u001b]8;;\u001b\\\u001b]8;id=182092;https://tidy3d.simulation.cloud/workbench?taskId=fdve-672b1b9b-2d74-4fff-9272-8b9550193c9a\u001b\\\u001b[32mfdve\u001b[0m\u001b]8;;\u001b\\\u001b]8;id=986345;https://tidy3d.simulation.cloud/workbench?taskId=fdve-672b1b9b-2d74-4fff-9272-8b9550193c9a\u001b\\\u001b[32m-672b1b9b-2d74-4fff-9272-8b9550193c9a'\u001b[0m\u001b]8;;\u001b\\.     \n"
      ]
     },
     "metadata": {},
     "output_type": "display_data"
    },
    {
     "data": {
      "application/vnd.jupyter.widget-view+json": {
       "model_id": "5de65f4aa6d84374a2cbdb3064df1177",
       "version_major": 2,
       "version_minor": 0
      },
      "text/plain": [
       "Output()"
      ]
     },
     "metadata": {},
     "output_type": "display_data"
    },
    {
     "data": {
      "text/html": [
       "<pre style=\"white-space:pre;overflow-x:auto;line-height:normal;font-family:Menlo,'DejaVu Sans Mono',consolas,'Courier New',monospace\"></pre>\n"
      ],
      "text/plain": []
     },
     "metadata": {},
     "output_type": "display_data"
    },
    {
     "data": {
      "text/html": [
       "<pre style=\"white-space:pre;overflow-x:auto;line-height:normal;font-family:Menlo,'DejaVu Sans Mono',consolas,'Courier New',monospace\">\n",
       "</pre>\n"
      ],
      "text/plain": [
       "\n"
      ]
     },
     "metadata": {},
     "output_type": "display_data"
    },
    {
     "data": {
      "text/html": [
       "<pre style=\"white-space:pre;overflow-x:auto;line-height:normal;font-family:Menlo,'DejaVu Sans Mono',consolas,'Courier New',monospace\"><span style=\"color: #7fbfbf; text-decoration-color: #7fbfbf\">13:00:23 Eastern Daylight Time </span>Created task <span style=\"color: #008000; text-decoration-color: #008000\">'D=2.274'</span> with task_id              \n",
       "<span style=\"color: #7fbfbf; text-decoration-color: #7fbfbf\">                               </span><span style=\"color: #008000; text-decoration-color: #008000\">'fdve-c47296c5-f0fb-41ef-8ba7-4d5cf5a3771b'</span> and  \n",
       "<span style=\"color: #7fbfbf; text-decoration-color: #7fbfbf\">                               </span>task_type <span style=\"color: #008000; text-decoration-color: #008000\">'FDTD'</span>.                                \n",
       "</pre>\n"
      ],
      "text/plain": [
       "\u001b[2;36m13:00:23 Eastern Daylight Time\u001b[0m\u001b[2;36m \u001b[0mCreated task \u001b[32m'\u001b[0m\u001b[32mD\u001b[0m\u001b[32m=\u001b[0m\u001b[32m2\u001b[0m\u001b[32m.274'\u001b[0m with task_id              \n",
       "\u001b[2;36m                               \u001b[0m\u001b[32m'fdve-c47296c5-f0fb-41ef-8ba7-4d5cf5a3771b'\u001b[0m and  \n",
       "\u001b[2;36m                               \u001b[0mtask_type \u001b[32m'FDTD'\u001b[0m.                                \n"
      ]
     },
     "metadata": {},
     "output_type": "display_data"
    },
    {
     "data": {
      "text/html": [
       "<pre style=\"white-space:pre;overflow-x:auto;line-height:normal;font-family:Menlo,'DejaVu Sans Mono',consolas,'Courier New',monospace\"><span style=\"color: #7fbfbf; text-decoration-color: #7fbfbf\">                               </span>View task using web UI at                        \n",
       "<span style=\"color: #7fbfbf; text-decoration-color: #7fbfbf\">                               </span><a href=\"https://tidy3d.simulation.cloud/workbench?taskId=fdve-c47296c5-f0fb-41ef-8ba7-4d5cf5a3771b\" target=\"_blank\"><span style=\"color: #008000; text-decoration-color: #008000\">'https://tidy3d.simulation.cloud/workbench?taskId</span></a>\n",
       "<span style=\"color: #7fbfbf; text-decoration-color: #7fbfbf\">                               </span><a href=\"https://tidy3d.simulation.cloud/workbench?taskId=fdve-c47296c5-f0fb-41ef-8ba7-4d5cf5a3771b\" target=\"_blank\"><span style=\"color: #008000; text-decoration-color: #008000\">=fdve-c47296c5-f0fb-41ef-8ba7-4d5cf5a3771b'</span></a>.     \n",
       "</pre>\n"
      ],
      "text/plain": [
       "\u001b[2;36m                              \u001b[0m\u001b[2;36m \u001b[0mView task using web UI at                        \n",
       "\u001b[2;36m                               \u001b[0m\u001b]8;id=778453;https://tidy3d.simulation.cloud/workbench?taskId=fdve-c47296c5-f0fb-41ef-8ba7-4d5cf5a3771b\u001b\\\u001b[32m'https://tidy3d.simulation.cloud/workbench?\u001b[0m\u001b]8;;\u001b\\\u001b]8;id=869791;https://tidy3d.simulation.cloud/workbench?taskId=fdve-c47296c5-f0fb-41ef-8ba7-4d5cf5a3771b\u001b\\\u001b[32mtaskId\u001b[0m\u001b]8;;\u001b\\\n",
       "\u001b[2;36m                               \u001b[0m\u001b]8;id=778453;https://tidy3d.simulation.cloud/workbench?taskId=fdve-c47296c5-f0fb-41ef-8ba7-4d5cf5a3771b\u001b\\\u001b[32m=\u001b[0m\u001b]8;;\u001b\\\u001b]8;id=666810;https://tidy3d.simulation.cloud/workbench?taskId=fdve-c47296c5-f0fb-41ef-8ba7-4d5cf5a3771b\u001b\\\u001b[32mfdve\u001b[0m\u001b]8;;\u001b\\\u001b]8;id=778453;https://tidy3d.simulation.cloud/workbench?taskId=fdve-c47296c5-f0fb-41ef-8ba7-4d5cf5a3771b\u001b\\\u001b[32m-c47296c5-f0fb-41ef-8ba7-4d5cf5a3771b'\u001b[0m\u001b]8;;\u001b\\.     \n"
      ]
     },
     "metadata": {},
     "output_type": "display_data"
    },
    {
     "data": {
      "application/vnd.jupyter.widget-view+json": {
       "model_id": "ae7cf7c8df3c4a6aa295f815d2791527",
       "version_major": 2,
       "version_minor": 0
      },
      "text/plain": [
       "Output()"
      ]
     },
     "metadata": {},
     "output_type": "display_data"
    },
    {
     "data": {
      "text/html": [
       "<pre style=\"white-space:pre;overflow-x:auto;line-height:normal;font-family:Menlo,'DejaVu Sans Mono',consolas,'Courier New',monospace\"></pre>\n"
      ],
      "text/plain": []
     },
     "metadata": {},
     "output_type": "display_data"
    },
    {
     "data": {
      "text/html": [
       "<pre style=\"white-space:pre;overflow-x:auto;line-height:normal;font-family:Menlo,'DejaVu Sans Mono',consolas,'Courier New',monospace\">\n",
       "</pre>\n"
      ],
      "text/plain": [
       "\n"
      ]
     },
     "metadata": {},
     "output_type": "display_data"
    },
    {
     "data": {
      "text/html": [
       "<pre style=\"white-space:pre;overflow-x:auto;line-height:normal;font-family:Menlo,'DejaVu Sans Mono',consolas,'Courier New',monospace\"><span style=\"color: #7fbfbf; text-decoration-color: #7fbfbf\">13:00:24 Eastern Daylight Time </span>Created task <span style=\"color: #008000; text-decoration-color: #008000\">'D=2.384'</span> with task_id              \n",
       "<span style=\"color: #7fbfbf; text-decoration-color: #7fbfbf\">                               </span><span style=\"color: #008000; text-decoration-color: #008000\">'fdve-e6acdef6-8b5d-4cbf-93b2-11dc858f6b4f'</span> and  \n",
       "<span style=\"color: #7fbfbf; text-decoration-color: #7fbfbf\">                               </span>task_type <span style=\"color: #008000; text-decoration-color: #008000\">'FDTD'</span>.                                \n",
       "</pre>\n"
      ],
      "text/plain": [
       "\u001b[2;36m13:00:24 Eastern Daylight Time\u001b[0m\u001b[2;36m \u001b[0mCreated task \u001b[32m'\u001b[0m\u001b[32mD\u001b[0m\u001b[32m=\u001b[0m\u001b[32m2\u001b[0m\u001b[32m.384'\u001b[0m with task_id              \n",
       "\u001b[2;36m                               \u001b[0m\u001b[32m'fdve-e6acdef6-8b5d-4cbf-93b2-11dc858f6b4f'\u001b[0m and  \n",
       "\u001b[2;36m                               \u001b[0mtask_type \u001b[32m'FDTD'\u001b[0m.                                \n"
      ]
     },
     "metadata": {},
     "output_type": "display_data"
    },
    {
     "data": {
      "text/html": [
       "<pre style=\"white-space:pre;overflow-x:auto;line-height:normal;font-family:Menlo,'DejaVu Sans Mono',consolas,'Courier New',monospace\"><span style=\"color: #7fbfbf; text-decoration-color: #7fbfbf\">                               </span>View task using web UI at                        \n",
       "<span style=\"color: #7fbfbf; text-decoration-color: #7fbfbf\">                               </span><a href=\"https://tidy3d.simulation.cloud/workbench?taskId=fdve-e6acdef6-8b5d-4cbf-93b2-11dc858f6b4f\" target=\"_blank\"><span style=\"color: #008000; text-decoration-color: #008000\">'https://tidy3d.simulation.cloud/workbench?taskId</span></a>\n",
       "<span style=\"color: #7fbfbf; text-decoration-color: #7fbfbf\">                               </span><a href=\"https://tidy3d.simulation.cloud/workbench?taskId=fdve-e6acdef6-8b5d-4cbf-93b2-11dc858f6b4f\" target=\"_blank\"><span style=\"color: #008000; text-decoration-color: #008000\">=fdve-e6acdef6-8b5d-4cbf-93b2-11dc858f6b4f'</span></a>.     \n",
       "</pre>\n"
      ],
      "text/plain": [
       "\u001b[2;36m                              \u001b[0m\u001b[2;36m \u001b[0mView task using web UI at                        \n",
       "\u001b[2;36m                               \u001b[0m\u001b]8;id=802428;https://tidy3d.simulation.cloud/workbench?taskId=fdve-e6acdef6-8b5d-4cbf-93b2-11dc858f6b4f\u001b\\\u001b[32m'https://tidy3d.simulation.cloud/workbench?\u001b[0m\u001b]8;;\u001b\\\u001b]8;id=734951;https://tidy3d.simulation.cloud/workbench?taskId=fdve-e6acdef6-8b5d-4cbf-93b2-11dc858f6b4f\u001b\\\u001b[32mtaskId\u001b[0m\u001b]8;;\u001b\\\n",
       "\u001b[2;36m                               \u001b[0m\u001b]8;id=802428;https://tidy3d.simulation.cloud/workbench?taskId=fdve-e6acdef6-8b5d-4cbf-93b2-11dc858f6b4f\u001b\\\u001b[32m=\u001b[0m\u001b]8;;\u001b\\\u001b]8;id=575586;https://tidy3d.simulation.cloud/workbench?taskId=fdve-e6acdef6-8b5d-4cbf-93b2-11dc858f6b4f\u001b\\\u001b[32mfdve\u001b[0m\u001b]8;;\u001b\\\u001b]8;id=802428;https://tidy3d.simulation.cloud/workbench?taskId=fdve-e6acdef6-8b5d-4cbf-93b2-11dc858f6b4f\u001b\\\u001b[32m-e6acdef6-8b5d-4cbf-93b2-11dc858f6b4f'\u001b[0m\u001b]8;;\u001b\\.     \n"
      ]
     },
     "metadata": {},
     "output_type": "display_data"
    },
    {
     "data": {
      "application/vnd.jupyter.widget-view+json": {
       "model_id": "edc6d0e8c58d46c48afb2fb95f13e1ac",
       "version_major": 2,
       "version_minor": 0
      },
      "text/plain": [
       "Output()"
      ]
     },
     "metadata": {},
     "output_type": "display_data"
    },
    {
     "data": {
      "text/html": [
       "<pre style=\"white-space:pre;overflow-x:auto;line-height:normal;font-family:Menlo,'DejaVu Sans Mono',consolas,'Courier New',monospace\"></pre>\n"
      ],
      "text/plain": []
     },
     "metadata": {},
     "output_type": "display_data"
    },
    {
     "data": {
      "text/html": [
       "<pre style=\"white-space:pre;overflow-x:auto;line-height:normal;font-family:Menlo,'DejaVu Sans Mono',consolas,'Courier New',monospace\">\n",
       "</pre>\n"
      ],
      "text/plain": [
       "\n"
      ]
     },
     "metadata": {},
     "output_type": "display_data"
    },
    {
     "data": {
      "text/html": [
       "<pre style=\"white-space:pre;overflow-x:auto;line-height:normal;font-family:Menlo,'DejaVu Sans Mono',consolas,'Courier New',monospace\"><span style=\"color: #7fbfbf; text-decoration-color: #7fbfbf\">13:00:25 Eastern Daylight Time </span>Created task <span style=\"color: #008000; text-decoration-color: #008000\">'D=2.495'</span> with task_id              \n",
       "<span style=\"color: #7fbfbf; text-decoration-color: #7fbfbf\">                               </span><span style=\"color: #008000; text-decoration-color: #008000\">'fdve-f63b0317-c67a-4024-a6a5-6e4dca4e70e6'</span> and  \n",
       "<span style=\"color: #7fbfbf; text-decoration-color: #7fbfbf\">                               </span>task_type <span style=\"color: #008000; text-decoration-color: #008000\">'FDTD'</span>.                                \n",
       "</pre>\n"
      ],
      "text/plain": [
       "\u001b[2;36m13:00:25 Eastern Daylight Time\u001b[0m\u001b[2;36m \u001b[0mCreated task \u001b[32m'\u001b[0m\u001b[32mD\u001b[0m\u001b[32m=\u001b[0m\u001b[32m2\u001b[0m\u001b[32m.495'\u001b[0m with task_id              \n",
       "\u001b[2;36m                               \u001b[0m\u001b[32m'fdve-f63b0317-c67a-4024-a6a5-6e4dca4e70e6'\u001b[0m and  \n",
       "\u001b[2;36m                               \u001b[0mtask_type \u001b[32m'FDTD'\u001b[0m.                                \n"
      ]
     },
     "metadata": {},
     "output_type": "display_data"
    },
    {
     "data": {
      "text/html": [
       "<pre style=\"white-space:pre;overflow-x:auto;line-height:normal;font-family:Menlo,'DejaVu Sans Mono',consolas,'Courier New',monospace\"><span style=\"color: #7fbfbf; text-decoration-color: #7fbfbf\">                               </span>View task using web UI at                        \n",
       "<span style=\"color: #7fbfbf; text-decoration-color: #7fbfbf\">                               </span><a href=\"https://tidy3d.simulation.cloud/workbench?taskId=fdve-f63b0317-c67a-4024-a6a5-6e4dca4e70e6\" target=\"_blank\"><span style=\"color: #008000; text-decoration-color: #008000\">'https://tidy3d.simulation.cloud/workbench?taskId</span></a>\n",
       "<span style=\"color: #7fbfbf; text-decoration-color: #7fbfbf\">                               </span><a href=\"https://tidy3d.simulation.cloud/workbench?taskId=fdve-f63b0317-c67a-4024-a6a5-6e4dca4e70e6\" target=\"_blank\"><span style=\"color: #008000; text-decoration-color: #008000\">=fdve-f63b0317-c67a-4024-a6a5-6e4dca4e70e6'</span></a>.     \n",
       "</pre>\n"
      ],
      "text/plain": [
       "\u001b[2;36m                              \u001b[0m\u001b[2;36m \u001b[0mView task using web UI at                        \n",
       "\u001b[2;36m                               \u001b[0m\u001b]8;id=920789;https://tidy3d.simulation.cloud/workbench?taskId=fdve-f63b0317-c67a-4024-a6a5-6e4dca4e70e6\u001b\\\u001b[32m'https://tidy3d.simulation.cloud/workbench?\u001b[0m\u001b]8;;\u001b\\\u001b]8;id=318990;https://tidy3d.simulation.cloud/workbench?taskId=fdve-f63b0317-c67a-4024-a6a5-6e4dca4e70e6\u001b\\\u001b[32mtaskId\u001b[0m\u001b]8;;\u001b\\\n",
       "\u001b[2;36m                               \u001b[0m\u001b]8;id=920789;https://tidy3d.simulation.cloud/workbench?taskId=fdve-f63b0317-c67a-4024-a6a5-6e4dca4e70e6\u001b\\\u001b[32m=\u001b[0m\u001b]8;;\u001b\\\u001b]8;id=956745;https://tidy3d.simulation.cloud/workbench?taskId=fdve-f63b0317-c67a-4024-a6a5-6e4dca4e70e6\u001b\\\u001b[32mfdve\u001b[0m\u001b]8;;\u001b\\\u001b]8;id=920789;https://tidy3d.simulation.cloud/workbench?taskId=fdve-f63b0317-c67a-4024-a6a5-6e4dca4e70e6\u001b\\\u001b[32m-f63b0317-c67a-4024-a6a5-6e4dca4e70e6'\u001b[0m\u001b]8;;\u001b\\.     \n"
      ]
     },
     "metadata": {},
     "output_type": "display_data"
    },
    {
     "data": {
      "application/vnd.jupyter.widget-view+json": {
       "model_id": "96d0f81b606343e38c0ea1becb152705",
       "version_major": 2,
       "version_minor": 0
      },
      "text/plain": [
       "Output()"
      ]
     },
     "metadata": {},
     "output_type": "display_data"
    },
    {
     "data": {
      "text/html": [
       "<pre style=\"white-space:pre;overflow-x:auto;line-height:normal;font-family:Menlo,'DejaVu Sans Mono',consolas,'Courier New',monospace\"></pre>\n"
      ],
      "text/plain": []
     },
     "metadata": {},
     "output_type": "display_data"
    },
    {
     "data": {
      "text/html": [
       "<pre style=\"white-space:pre;overflow-x:auto;line-height:normal;font-family:Menlo,'DejaVu Sans Mono',consolas,'Courier New',monospace\">\n",
       "</pre>\n"
      ],
      "text/plain": [
       "\n"
      ]
     },
     "metadata": {},
     "output_type": "display_data"
    },
    {
     "data": {
      "text/html": [
       "<pre style=\"white-space:pre;overflow-x:auto;line-height:normal;font-family:Menlo,'DejaVu Sans Mono',consolas,'Courier New',monospace\"><span style=\"color: #7fbfbf; text-decoration-color: #7fbfbf\">13:00:26 Eastern Daylight Time </span>Created task <span style=\"color: #008000; text-decoration-color: #008000\">'D=2.605'</span> with task_id              \n",
       "<span style=\"color: #7fbfbf; text-decoration-color: #7fbfbf\">                               </span><span style=\"color: #008000; text-decoration-color: #008000\">'fdve-d9386eef-5cbb-4896-9fc6-739c2154b657'</span> and  \n",
       "<span style=\"color: #7fbfbf; text-decoration-color: #7fbfbf\">                               </span>task_type <span style=\"color: #008000; text-decoration-color: #008000\">'FDTD'</span>.                                \n",
       "</pre>\n"
      ],
      "text/plain": [
       "\u001b[2;36m13:00:26 Eastern Daylight Time\u001b[0m\u001b[2;36m \u001b[0mCreated task \u001b[32m'\u001b[0m\u001b[32mD\u001b[0m\u001b[32m=\u001b[0m\u001b[32m2\u001b[0m\u001b[32m.605'\u001b[0m with task_id              \n",
       "\u001b[2;36m                               \u001b[0m\u001b[32m'fdve-d9386eef-5cbb-4896-9fc6-739c2154b657'\u001b[0m and  \n",
       "\u001b[2;36m                               \u001b[0mtask_type \u001b[32m'FDTD'\u001b[0m.                                \n"
      ]
     },
     "metadata": {},
     "output_type": "display_data"
    },
    {
     "data": {
      "text/html": [
       "<pre style=\"white-space:pre;overflow-x:auto;line-height:normal;font-family:Menlo,'DejaVu Sans Mono',consolas,'Courier New',monospace\"><span style=\"color: #7fbfbf; text-decoration-color: #7fbfbf\">                               </span>View task using web UI at                        \n",
       "<span style=\"color: #7fbfbf; text-decoration-color: #7fbfbf\">                               </span><a href=\"https://tidy3d.simulation.cloud/workbench?taskId=fdve-d9386eef-5cbb-4896-9fc6-739c2154b657\" target=\"_blank\"><span style=\"color: #008000; text-decoration-color: #008000\">'https://tidy3d.simulation.cloud/workbench?taskId</span></a>\n",
       "<span style=\"color: #7fbfbf; text-decoration-color: #7fbfbf\">                               </span><a href=\"https://tidy3d.simulation.cloud/workbench?taskId=fdve-d9386eef-5cbb-4896-9fc6-739c2154b657\" target=\"_blank\"><span style=\"color: #008000; text-decoration-color: #008000\">=fdve-d9386eef-5cbb-4896-9fc6-739c2154b657'</span></a>.     \n",
       "</pre>\n"
      ],
      "text/plain": [
       "\u001b[2;36m                              \u001b[0m\u001b[2;36m \u001b[0mView task using web UI at                        \n",
       "\u001b[2;36m                               \u001b[0m\u001b]8;id=984806;https://tidy3d.simulation.cloud/workbench?taskId=fdve-d9386eef-5cbb-4896-9fc6-739c2154b657\u001b\\\u001b[32m'https://tidy3d.simulation.cloud/workbench?\u001b[0m\u001b]8;;\u001b\\\u001b]8;id=439121;https://tidy3d.simulation.cloud/workbench?taskId=fdve-d9386eef-5cbb-4896-9fc6-739c2154b657\u001b\\\u001b[32mtaskId\u001b[0m\u001b]8;;\u001b\\\n",
       "\u001b[2;36m                               \u001b[0m\u001b]8;id=984806;https://tidy3d.simulation.cloud/workbench?taskId=fdve-d9386eef-5cbb-4896-9fc6-739c2154b657\u001b\\\u001b[32m=\u001b[0m\u001b]8;;\u001b\\\u001b]8;id=739970;https://tidy3d.simulation.cloud/workbench?taskId=fdve-d9386eef-5cbb-4896-9fc6-739c2154b657\u001b\\\u001b[32mfdve\u001b[0m\u001b]8;;\u001b\\\u001b]8;id=984806;https://tidy3d.simulation.cloud/workbench?taskId=fdve-d9386eef-5cbb-4896-9fc6-739c2154b657\u001b\\\u001b[32m-d9386eef-5cbb-4896-9fc6-739c2154b657'\u001b[0m\u001b]8;;\u001b\\.     \n"
      ]
     },
     "metadata": {},
     "output_type": "display_data"
    },
    {
     "data": {
      "application/vnd.jupyter.widget-view+json": {
       "model_id": "0eecd6ba957148f082e8a150d2855907",
       "version_major": 2,
       "version_minor": 0
      },
      "text/plain": [
       "Output()"
      ]
     },
     "metadata": {},
     "output_type": "display_data"
    },
    {
     "data": {
      "text/html": [
       "<pre style=\"white-space:pre;overflow-x:auto;line-height:normal;font-family:Menlo,'DejaVu Sans Mono',consolas,'Courier New',monospace\"></pre>\n"
      ],
      "text/plain": []
     },
     "metadata": {},
     "output_type": "display_data"
    },
    {
     "data": {
      "text/html": [
       "<pre style=\"white-space:pre;overflow-x:auto;line-height:normal;font-family:Menlo,'DejaVu Sans Mono',consolas,'Courier New',monospace\">\n",
       "</pre>\n"
      ],
      "text/plain": [
       "\n"
      ]
     },
     "metadata": {},
     "output_type": "display_data"
    },
    {
     "data": {
      "text/html": [
       "<pre style=\"white-space:pre;overflow-x:auto;line-height:normal;font-family:Menlo,'DejaVu Sans Mono',consolas,'Courier New',monospace\"><span style=\"color: #7fbfbf; text-decoration-color: #7fbfbf\">13:00:27 Eastern Daylight Time </span>Created task <span style=\"color: #008000; text-decoration-color: #008000\">'D=2.716'</span> with task_id              \n",
       "<span style=\"color: #7fbfbf; text-decoration-color: #7fbfbf\">                               </span><span style=\"color: #008000; text-decoration-color: #008000\">'fdve-ead45dfa-e49a-488f-912b-701beb3ce1d3'</span> and  \n",
       "<span style=\"color: #7fbfbf; text-decoration-color: #7fbfbf\">                               </span>task_type <span style=\"color: #008000; text-decoration-color: #008000\">'FDTD'</span>.                                \n",
       "</pre>\n"
      ],
      "text/plain": [
       "\u001b[2;36m13:00:27 Eastern Daylight Time\u001b[0m\u001b[2;36m \u001b[0mCreated task \u001b[32m'\u001b[0m\u001b[32mD\u001b[0m\u001b[32m=\u001b[0m\u001b[32m2\u001b[0m\u001b[32m.716'\u001b[0m with task_id              \n",
       "\u001b[2;36m                               \u001b[0m\u001b[32m'fdve-ead45dfa-e49a-488f-912b-701beb3ce1d3'\u001b[0m and  \n",
       "\u001b[2;36m                               \u001b[0mtask_type \u001b[32m'FDTD'\u001b[0m.                                \n"
      ]
     },
     "metadata": {},
     "output_type": "display_data"
    },
    {
     "data": {
      "text/html": [
       "<pre style=\"white-space:pre;overflow-x:auto;line-height:normal;font-family:Menlo,'DejaVu Sans Mono',consolas,'Courier New',monospace\"><span style=\"color: #7fbfbf; text-decoration-color: #7fbfbf\">                               </span>View task using web UI at                        \n",
       "<span style=\"color: #7fbfbf; text-decoration-color: #7fbfbf\">                               </span><a href=\"https://tidy3d.simulation.cloud/workbench?taskId=fdve-ead45dfa-e49a-488f-912b-701beb3ce1d3\" target=\"_blank\"><span style=\"color: #008000; text-decoration-color: #008000\">'https://tidy3d.simulation.cloud/workbench?taskId</span></a>\n",
       "<span style=\"color: #7fbfbf; text-decoration-color: #7fbfbf\">                               </span><a href=\"https://tidy3d.simulation.cloud/workbench?taskId=fdve-ead45dfa-e49a-488f-912b-701beb3ce1d3\" target=\"_blank\"><span style=\"color: #008000; text-decoration-color: #008000\">=fdve-ead45dfa-e49a-488f-912b-701beb3ce1d3'</span></a>.     \n",
       "</pre>\n"
      ],
      "text/plain": [
       "\u001b[2;36m                              \u001b[0m\u001b[2;36m \u001b[0mView task using web UI at                        \n",
       "\u001b[2;36m                               \u001b[0m\u001b]8;id=225677;https://tidy3d.simulation.cloud/workbench?taskId=fdve-ead45dfa-e49a-488f-912b-701beb3ce1d3\u001b\\\u001b[32m'https://tidy3d.simulation.cloud/workbench?\u001b[0m\u001b]8;;\u001b\\\u001b]8;id=231362;https://tidy3d.simulation.cloud/workbench?taskId=fdve-ead45dfa-e49a-488f-912b-701beb3ce1d3\u001b\\\u001b[32mtaskId\u001b[0m\u001b]8;;\u001b\\\n",
       "\u001b[2;36m                               \u001b[0m\u001b]8;id=225677;https://tidy3d.simulation.cloud/workbench?taskId=fdve-ead45dfa-e49a-488f-912b-701beb3ce1d3\u001b\\\u001b[32m=\u001b[0m\u001b]8;;\u001b\\\u001b]8;id=892625;https://tidy3d.simulation.cloud/workbench?taskId=fdve-ead45dfa-e49a-488f-912b-701beb3ce1d3\u001b\\\u001b[32mfdve\u001b[0m\u001b]8;;\u001b\\\u001b]8;id=225677;https://tidy3d.simulation.cloud/workbench?taskId=fdve-ead45dfa-e49a-488f-912b-701beb3ce1d3\u001b\\\u001b[32m-ead45dfa-e49a-488f-912b-701beb3ce1d3'\u001b[0m\u001b]8;;\u001b\\.     \n"
      ]
     },
     "metadata": {},
     "output_type": "display_data"
    },
    {
     "data": {
      "application/vnd.jupyter.widget-view+json": {
       "model_id": "774b494ce9b243ea80250b593af89746",
       "version_major": 2,
       "version_minor": 0
      },
      "text/plain": [
       "Output()"
      ]
     },
     "metadata": {},
     "output_type": "display_data"
    },
    {
     "data": {
      "text/html": [
       "<pre style=\"white-space:pre;overflow-x:auto;line-height:normal;font-family:Menlo,'DejaVu Sans Mono',consolas,'Courier New',monospace\"></pre>\n"
      ],
      "text/plain": []
     },
     "metadata": {},
     "output_type": "display_data"
    },
    {
     "data": {
      "text/html": [
       "<pre style=\"white-space:pre;overflow-x:auto;line-height:normal;font-family:Menlo,'DejaVu Sans Mono',consolas,'Courier New',monospace\">\n",
       "</pre>\n"
      ],
      "text/plain": [
       "\n"
      ]
     },
     "metadata": {},
     "output_type": "display_data"
    },
    {
     "data": {
      "text/html": [
       "<pre style=\"white-space:pre;overflow-x:auto;line-height:normal;font-family:Menlo,'DejaVu Sans Mono',consolas,'Courier New',monospace\"><span style=\"color: #7fbfbf; text-decoration-color: #7fbfbf\">13:00:28 Eastern Daylight Time </span>Created task <span style=\"color: #008000; text-decoration-color: #008000\">'D=2.826'</span> with task_id              \n",
       "<span style=\"color: #7fbfbf; text-decoration-color: #7fbfbf\">                               </span><span style=\"color: #008000; text-decoration-color: #008000\">'fdve-7be30b72-2def-4796-8b8c-14c955e3a44a'</span> and  \n",
       "<span style=\"color: #7fbfbf; text-decoration-color: #7fbfbf\">                               </span>task_type <span style=\"color: #008000; text-decoration-color: #008000\">'FDTD'</span>.                                \n",
       "</pre>\n"
      ],
      "text/plain": [
       "\u001b[2;36m13:00:28 Eastern Daylight Time\u001b[0m\u001b[2;36m \u001b[0mCreated task \u001b[32m'\u001b[0m\u001b[32mD\u001b[0m\u001b[32m=\u001b[0m\u001b[32m2\u001b[0m\u001b[32m.826'\u001b[0m with task_id              \n",
       "\u001b[2;36m                               \u001b[0m\u001b[32m'fdve-7be30b72-2def-4796-8b8c-14c955e3a44a'\u001b[0m and  \n",
       "\u001b[2;36m                               \u001b[0mtask_type \u001b[32m'FDTD'\u001b[0m.                                \n"
      ]
     },
     "metadata": {},
     "output_type": "display_data"
    },
    {
     "data": {
      "text/html": [
       "<pre style=\"white-space:pre;overflow-x:auto;line-height:normal;font-family:Menlo,'DejaVu Sans Mono',consolas,'Courier New',monospace\"><span style=\"color: #7fbfbf; text-decoration-color: #7fbfbf\">                               </span>View task using web UI at                        \n",
       "<span style=\"color: #7fbfbf; text-decoration-color: #7fbfbf\">                               </span><a href=\"https://tidy3d.simulation.cloud/workbench?taskId=fdve-7be30b72-2def-4796-8b8c-14c955e3a44a\" target=\"_blank\"><span style=\"color: #008000; text-decoration-color: #008000\">'https://tidy3d.simulation.cloud/workbench?taskId</span></a>\n",
       "<span style=\"color: #7fbfbf; text-decoration-color: #7fbfbf\">                               </span><a href=\"https://tidy3d.simulation.cloud/workbench?taskId=fdve-7be30b72-2def-4796-8b8c-14c955e3a44a\" target=\"_blank\"><span style=\"color: #008000; text-decoration-color: #008000\">=fdve-7be30b72-2def-4796-8b8c-14c955e3a44a'</span></a>.     \n",
       "</pre>\n"
      ],
      "text/plain": [
       "\u001b[2;36m                              \u001b[0m\u001b[2;36m \u001b[0mView task using web UI at                        \n",
       "\u001b[2;36m                               \u001b[0m\u001b]8;id=598306;https://tidy3d.simulation.cloud/workbench?taskId=fdve-7be30b72-2def-4796-8b8c-14c955e3a44a\u001b\\\u001b[32m'https://tidy3d.simulation.cloud/workbench?\u001b[0m\u001b]8;;\u001b\\\u001b]8;id=976535;https://tidy3d.simulation.cloud/workbench?taskId=fdve-7be30b72-2def-4796-8b8c-14c955e3a44a\u001b\\\u001b[32mtaskId\u001b[0m\u001b]8;;\u001b\\\n",
       "\u001b[2;36m                               \u001b[0m\u001b]8;id=598306;https://tidy3d.simulation.cloud/workbench?taskId=fdve-7be30b72-2def-4796-8b8c-14c955e3a44a\u001b\\\u001b[32m=\u001b[0m\u001b]8;;\u001b\\\u001b]8;id=462758;https://tidy3d.simulation.cloud/workbench?taskId=fdve-7be30b72-2def-4796-8b8c-14c955e3a44a\u001b\\\u001b[32mfdve\u001b[0m\u001b]8;;\u001b\\\u001b]8;id=598306;https://tidy3d.simulation.cloud/workbench?taskId=fdve-7be30b72-2def-4796-8b8c-14c955e3a44a\u001b\\\u001b[32m-7be30b72-2def-4796-8b8c-14c955e3a44a'\u001b[0m\u001b]8;;\u001b\\.     \n"
      ]
     },
     "metadata": {},
     "output_type": "display_data"
    },
    {
     "data": {
      "application/vnd.jupyter.widget-view+json": {
       "model_id": "07871cd6ae1d4be6b5de00873937a135",
       "version_major": 2,
       "version_minor": 0
      },
      "text/plain": [
       "Output()"
      ]
     },
     "metadata": {},
     "output_type": "display_data"
    },
    {
     "data": {
      "text/html": [
       "<pre style=\"white-space:pre;overflow-x:auto;line-height:normal;font-family:Menlo,'DejaVu Sans Mono',consolas,'Courier New',monospace\"></pre>\n"
      ],
      "text/plain": []
     },
     "metadata": {},
     "output_type": "display_data"
    },
    {
     "data": {
      "text/html": [
       "<pre style=\"white-space:pre;overflow-x:auto;line-height:normal;font-family:Menlo,'DejaVu Sans Mono',consolas,'Courier New',monospace\">\n",
       "</pre>\n"
      ],
      "text/plain": [
       "\n"
      ]
     },
     "metadata": {},
     "output_type": "display_data"
    },
    {
     "data": {
      "text/html": [
       "<pre style=\"white-space:pre;overflow-x:auto;line-height:normal;font-family:Menlo,'DejaVu Sans Mono',consolas,'Courier New',monospace\"><span style=\"color: #7fbfbf; text-decoration-color: #7fbfbf\">13:00:29 Eastern Daylight Time </span>Created task <span style=\"color: #008000; text-decoration-color: #008000\">'D=2.937'</span> with task_id              \n",
       "<span style=\"color: #7fbfbf; text-decoration-color: #7fbfbf\">                               </span><span style=\"color: #008000; text-decoration-color: #008000\">'fdve-bd7bbf24-c548-4ae1-b05f-ea1fca5cb972'</span> and  \n",
       "<span style=\"color: #7fbfbf; text-decoration-color: #7fbfbf\">                               </span>task_type <span style=\"color: #008000; text-decoration-color: #008000\">'FDTD'</span>.                                \n",
       "</pre>\n"
      ],
      "text/plain": [
       "\u001b[2;36m13:00:29 Eastern Daylight Time\u001b[0m\u001b[2;36m \u001b[0mCreated task \u001b[32m'\u001b[0m\u001b[32mD\u001b[0m\u001b[32m=\u001b[0m\u001b[32m2\u001b[0m\u001b[32m.937'\u001b[0m with task_id              \n",
       "\u001b[2;36m                               \u001b[0m\u001b[32m'fdve-bd7bbf24-c548-4ae1-b05f-ea1fca5cb972'\u001b[0m and  \n",
       "\u001b[2;36m                               \u001b[0mtask_type \u001b[32m'FDTD'\u001b[0m.                                \n"
      ]
     },
     "metadata": {},
     "output_type": "display_data"
    },
    {
     "data": {
      "text/html": [
       "<pre style=\"white-space:pre;overflow-x:auto;line-height:normal;font-family:Menlo,'DejaVu Sans Mono',consolas,'Courier New',monospace\"><span style=\"color: #7fbfbf; text-decoration-color: #7fbfbf\">                               </span>View task using web UI at                        \n",
       "<span style=\"color: #7fbfbf; text-decoration-color: #7fbfbf\">                               </span><a href=\"https://tidy3d.simulation.cloud/workbench?taskId=fdve-bd7bbf24-c548-4ae1-b05f-ea1fca5cb972\" target=\"_blank\"><span style=\"color: #008000; text-decoration-color: #008000\">'https://tidy3d.simulation.cloud/workbench?taskId</span></a>\n",
       "<span style=\"color: #7fbfbf; text-decoration-color: #7fbfbf\">                               </span><a href=\"https://tidy3d.simulation.cloud/workbench?taskId=fdve-bd7bbf24-c548-4ae1-b05f-ea1fca5cb972\" target=\"_blank\"><span style=\"color: #008000; text-decoration-color: #008000\">=fdve-bd7bbf24-c548-4ae1-b05f-ea1fca5cb972'</span></a>.     \n",
       "</pre>\n"
      ],
      "text/plain": [
       "\u001b[2;36m                              \u001b[0m\u001b[2;36m \u001b[0mView task using web UI at                        \n",
       "\u001b[2;36m                               \u001b[0m\u001b]8;id=203982;https://tidy3d.simulation.cloud/workbench?taskId=fdve-bd7bbf24-c548-4ae1-b05f-ea1fca5cb972\u001b\\\u001b[32m'https://tidy3d.simulation.cloud/workbench?\u001b[0m\u001b]8;;\u001b\\\u001b]8;id=574021;https://tidy3d.simulation.cloud/workbench?taskId=fdve-bd7bbf24-c548-4ae1-b05f-ea1fca5cb972\u001b\\\u001b[32mtaskId\u001b[0m\u001b]8;;\u001b\\\n",
       "\u001b[2;36m                               \u001b[0m\u001b]8;id=203982;https://tidy3d.simulation.cloud/workbench?taskId=fdve-bd7bbf24-c548-4ae1-b05f-ea1fca5cb972\u001b\\\u001b[32m=\u001b[0m\u001b]8;;\u001b\\\u001b]8;id=113208;https://tidy3d.simulation.cloud/workbench?taskId=fdve-bd7bbf24-c548-4ae1-b05f-ea1fca5cb972\u001b\\\u001b[32mfdve\u001b[0m\u001b]8;;\u001b\\\u001b]8;id=203982;https://tidy3d.simulation.cloud/workbench?taskId=fdve-bd7bbf24-c548-4ae1-b05f-ea1fca5cb972\u001b\\\u001b[32m-bd7bbf24-c548-4ae1-b05f-ea1fca5cb972'\u001b[0m\u001b]8;;\u001b\\.     \n"
      ]
     },
     "metadata": {},
     "output_type": "display_data"
    },
    {
     "data": {
      "application/vnd.jupyter.widget-view+json": {
       "model_id": "7aa3cac0fc0d454aac9bf95586dd1a0f",
       "version_major": 2,
       "version_minor": 0
      },
      "text/plain": [
       "Output()"
      ]
     },
     "metadata": {},
     "output_type": "display_data"
    },
    {
     "data": {
      "text/html": [
       "<pre style=\"white-space:pre;overflow-x:auto;line-height:normal;font-family:Menlo,'DejaVu Sans Mono',consolas,'Courier New',monospace\"></pre>\n"
      ],
      "text/plain": []
     },
     "metadata": {},
     "output_type": "display_data"
    },
    {
     "data": {
      "text/html": [
       "<pre style=\"white-space:pre;overflow-x:auto;line-height:normal;font-family:Menlo,'DejaVu Sans Mono',consolas,'Courier New',monospace\">\n",
       "</pre>\n"
      ],
      "text/plain": [
       "\n"
      ]
     },
     "metadata": {},
     "output_type": "display_data"
    },
    {
     "data": {
      "text/html": [
       "<pre style=\"white-space:pre;overflow-x:auto;line-height:normal;font-family:Menlo,'DejaVu Sans Mono',consolas,'Courier New',monospace\"><span style=\"color: #7fbfbf; text-decoration-color: #7fbfbf\">13:00:30 Eastern Daylight Time </span>Created task <span style=\"color: #008000; text-decoration-color: #008000\">'D=3.047'</span> with task_id              \n",
       "<span style=\"color: #7fbfbf; text-decoration-color: #7fbfbf\">                               </span><span style=\"color: #008000; text-decoration-color: #008000\">'fdve-256c903c-3885-4cd6-b8d4-dd97ebcbdcfd'</span> and  \n",
       "<span style=\"color: #7fbfbf; text-decoration-color: #7fbfbf\">                               </span>task_type <span style=\"color: #008000; text-decoration-color: #008000\">'FDTD'</span>.                                \n",
       "</pre>\n"
      ],
      "text/plain": [
       "\u001b[2;36m13:00:30 Eastern Daylight Time\u001b[0m\u001b[2;36m \u001b[0mCreated task \u001b[32m'\u001b[0m\u001b[32mD\u001b[0m\u001b[32m=\u001b[0m\u001b[32m3\u001b[0m\u001b[32m.047'\u001b[0m with task_id              \n",
       "\u001b[2;36m                               \u001b[0m\u001b[32m'fdve-256c903c-3885-4cd6-b8d4-dd97ebcbdcfd'\u001b[0m and  \n",
       "\u001b[2;36m                               \u001b[0mtask_type \u001b[32m'FDTD'\u001b[0m.                                \n"
      ]
     },
     "metadata": {},
     "output_type": "display_data"
    },
    {
     "data": {
      "text/html": [
       "<pre style=\"white-space:pre;overflow-x:auto;line-height:normal;font-family:Menlo,'DejaVu Sans Mono',consolas,'Courier New',monospace\"><span style=\"color: #7fbfbf; text-decoration-color: #7fbfbf\">                               </span>View task using web UI at                        \n",
       "<span style=\"color: #7fbfbf; text-decoration-color: #7fbfbf\">                               </span><a href=\"https://tidy3d.simulation.cloud/workbench?taskId=fdve-256c903c-3885-4cd6-b8d4-dd97ebcbdcfd\" target=\"_blank\"><span style=\"color: #008000; text-decoration-color: #008000\">'https://tidy3d.simulation.cloud/workbench?taskId</span></a>\n",
       "<span style=\"color: #7fbfbf; text-decoration-color: #7fbfbf\">                               </span><a href=\"https://tidy3d.simulation.cloud/workbench?taskId=fdve-256c903c-3885-4cd6-b8d4-dd97ebcbdcfd\" target=\"_blank\"><span style=\"color: #008000; text-decoration-color: #008000\">=fdve-256c903c-3885-4cd6-b8d4-dd97ebcbdcfd'</span></a>.     \n",
       "</pre>\n"
      ],
      "text/plain": [
       "\u001b[2;36m                              \u001b[0m\u001b[2;36m \u001b[0mView task using web UI at                        \n",
       "\u001b[2;36m                               \u001b[0m\u001b]8;id=513628;https://tidy3d.simulation.cloud/workbench?taskId=fdve-256c903c-3885-4cd6-b8d4-dd97ebcbdcfd\u001b\\\u001b[32m'https://tidy3d.simulation.cloud/workbench?\u001b[0m\u001b]8;;\u001b\\\u001b]8;id=387781;https://tidy3d.simulation.cloud/workbench?taskId=fdve-256c903c-3885-4cd6-b8d4-dd97ebcbdcfd\u001b\\\u001b[32mtaskId\u001b[0m\u001b]8;;\u001b\\\n",
       "\u001b[2;36m                               \u001b[0m\u001b]8;id=513628;https://tidy3d.simulation.cloud/workbench?taskId=fdve-256c903c-3885-4cd6-b8d4-dd97ebcbdcfd\u001b\\\u001b[32m=\u001b[0m\u001b]8;;\u001b\\\u001b]8;id=457047;https://tidy3d.simulation.cloud/workbench?taskId=fdve-256c903c-3885-4cd6-b8d4-dd97ebcbdcfd\u001b\\\u001b[32mfdve\u001b[0m\u001b]8;;\u001b\\\u001b]8;id=513628;https://tidy3d.simulation.cloud/workbench?taskId=fdve-256c903c-3885-4cd6-b8d4-dd97ebcbdcfd\u001b\\\u001b[32m-256c903c-3885-4cd6-b8d4-dd97ebcbdcfd'\u001b[0m\u001b]8;;\u001b\\.     \n"
      ]
     },
     "metadata": {},
     "output_type": "display_data"
    },
    {
     "data": {
      "application/vnd.jupyter.widget-view+json": {
       "model_id": "bef1e21c66ee454b833434cc23cafdf5",
       "version_major": 2,
       "version_minor": 0
      },
      "text/plain": [
       "Output()"
      ]
     },
     "metadata": {},
     "output_type": "display_data"
    },
    {
     "data": {
      "text/html": [
       "<pre style=\"white-space:pre;overflow-x:auto;line-height:normal;font-family:Menlo,'DejaVu Sans Mono',consolas,'Courier New',monospace\"></pre>\n"
      ],
      "text/plain": []
     },
     "metadata": {},
     "output_type": "display_data"
    },
    {
     "data": {
      "text/html": [
       "<pre style=\"white-space:pre;overflow-x:auto;line-height:normal;font-family:Menlo,'DejaVu Sans Mono',consolas,'Courier New',monospace\">\n",
       "</pre>\n"
      ],
      "text/plain": [
       "\n"
      ]
     },
     "metadata": {},
     "output_type": "display_data"
    },
    {
     "data": {
      "text/html": [
       "<pre style=\"white-space:pre;overflow-x:auto;line-height:normal;font-family:Menlo,'DejaVu Sans Mono',consolas,'Courier New',monospace\"><span style=\"color: #7fbfbf; text-decoration-color: #7fbfbf\">13:00:31 Eastern Daylight Time </span>Created task <span style=\"color: #008000; text-decoration-color: #008000\">'D=3.158'</span> with task_id              \n",
       "<span style=\"color: #7fbfbf; text-decoration-color: #7fbfbf\">                               </span><span style=\"color: #008000; text-decoration-color: #008000\">'fdve-3bc880ae-af20-491a-838b-33063298233d'</span> and  \n",
       "<span style=\"color: #7fbfbf; text-decoration-color: #7fbfbf\">                               </span>task_type <span style=\"color: #008000; text-decoration-color: #008000\">'FDTD'</span>.                                \n",
       "</pre>\n"
      ],
      "text/plain": [
       "\u001b[2;36m13:00:31 Eastern Daylight Time\u001b[0m\u001b[2;36m \u001b[0mCreated task \u001b[32m'\u001b[0m\u001b[32mD\u001b[0m\u001b[32m=\u001b[0m\u001b[32m3\u001b[0m\u001b[32m.158'\u001b[0m with task_id              \n",
       "\u001b[2;36m                               \u001b[0m\u001b[32m'fdve-3bc880ae-af20-491a-838b-33063298233d'\u001b[0m and  \n",
       "\u001b[2;36m                               \u001b[0mtask_type \u001b[32m'FDTD'\u001b[0m.                                \n"
      ]
     },
     "metadata": {},
     "output_type": "display_data"
    },
    {
     "data": {
      "text/html": [
       "<pre style=\"white-space:pre;overflow-x:auto;line-height:normal;font-family:Menlo,'DejaVu Sans Mono',consolas,'Courier New',monospace\"><span style=\"color: #7fbfbf; text-decoration-color: #7fbfbf\">                               </span>View task using web UI at                        \n",
       "<span style=\"color: #7fbfbf; text-decoration-color: #7fbfbf\">                               </span><a href=\"https://tidy3d.simulation.cloud/workbench?taskId=fdve-3bc880ae-af20-491a-838b-33063298233d\" target=\"_blank\"><span style=\"color: #008000; text-decoration-color: #008000\">'https://tidy3d.simulation.cloud/workbench?taskId</span></a>\n",
       "<span style=\"color: #7fbfbf; text-decoration-color: #7fbfbf\">                               </span><a href=\"https://tidy3d.simulation.cloud/workbench?taskId=fdve-3bc880ae-af20-491a-838b-33063298233d\" target=\"_blank\"><span style=\"color: #008000; text-decoration-color: #008000\">=fdve-3bc880ae-af20-491a-838b-33063298233d'</span></a>.     \n",
       "</pre>\n"
      ],
      "text/plain": [
       "\u001b[2;36m                              \u001b[0m\u001b[2;36m \u001b[0mView task using web UI at                        \n",
       "\u001b[2;36m                               \u001b[0m\u001b]8;id=794783;https://tidy3d.simulation.cloud/workbench?taskId=fdve-3bc880ae-af20-491a-838b-33063298233d\u001b\\\u001b[32m'https://tidy3d.simulation.cloud/workbench?\u001b[0m\u001b]8;;\u001b\\\u001b]8;id=913962;https://tidy3d.simulation.cloud/workbench?taskId=fdve-3bc880ae-af20-491a-838b-33063298233d\u001b\\\u001b[32mtaskId\u001b[0m\u001b]8;;\u001b\\\n",
       "\u001b[2;36m                               \u001b[0m\u001b]8;id=794783;https://tidy3d.simulation.cloud/workbench?taskId=fdve-3bc880ae-af20-491a-838b-33063298233d\u001b\\\u001b[32m=\u001b[0m\u001b]8;;\u001b\\\u001b]8;id=556585;https://tidy3d.simulation.cloud/workbench?taskId=fdve-3bc880ae-af20-491a-838b-33063298233d\u001b\\\u001b[32mfdve\u001b[0m\u001b]8;;\u001b\\\u001b]8;id=794783;https://tidy3d.simulation.cloud/workbench?taskId=fdve-3bc880ae-af20-491a-838b-33063298233d\u001b\\\u001b[32m-3bc880ae-af20-491a-838b-33063298233d'\u001b[0m\u001b]8;;\u001b\\.     \n"
      ]
     },
     "metadata": {},
     "output_type": "display_data"
    },
    {
     "data": {
      "application/vnd.jupyter.widget-view+json": {
       "model_id": "6cb9fdc92d144e8b840cdb49c6e415c9",
       "version_major": 2,
       "version_minor": 0
      },
      "text/plain": [
       "Output()"
      ]
     },
     "metadata": {},
     "output_type": "display_data"
    },
    {
     "data": {
      "text/html": [
       "<pre style=\"white-space:pre;overflow-x:auto;line-height:normal;font-family:Menlo,'DejaVu Sans Mono',consolas,'Courier New',monospace\"></pre>\n"
      ],
      "text/plain": []
     },
     "metadata": {},
     "output_type": "display_data"
    },
    {
     "data": {
      "text/html": [
       "<pre style=\"white-space:pre;overflow-x:auto;line-height:normal;font-family:Menlo,'DejaVu Sans Mono',consolas,'Courier New',monospace\">\n",
       "</pre>\n"
      ],
      "text/plain": [
       "\n"
      ]
     },
     "metadata": {},
     "output_type": "display_data"
    },
    {
     "data": {
      "text/html": [
       "<pre style=\"white-space:pre;overflow-x:auto;line-height:normal;font-family:Menlo,'DejaVu Sans Mono',consolas,'Courier New',monospace\"><span style=\"color: #7fbfbf; text-decoration-color: #7fbfbf\">13:00:32 Eastern Daylight Time </span>Created task <span style=\"color: #008000; text-decoration-color: #008000\">'D=3.268'</span> with task_id              \n",
       "<span style=\"color: #7fbfbf; text-decoration-color: #7fbfbf\">                               </span><span style=\"color: #008000; text-decoration-color: #008000\">'fdve-e76d0d3d-35aa-4852-ae01-6384b7b56ab7'</span> and  \n",
       "<span style=\"color: #7fbfbf; text-decoration-color: #7fbfbf\">                               </span>task_type <span style=\"color: #008000; text-decoration-color: #008000\">'FDTD'</span>.                                \n",
       "</pre>\n"
      ],
      "text/plain": [
       "\u001b[2;36m13:00:32 Eastern Daylight Time\u001b[0m\u001b[2;36m \u001b[0mCreated task \u001b[32m'\u001b[0m\u001b[32mD\u001b[0m\u001b[32m=\u001b[0m\u001b[32m3\u001b[0m\u001b[32m.268'\u001b[0m with task_id              \n",
       "\u001b[2;36m                               \u001b[0m\u001b[32m'fdve-e76d0d3d-35aa-4852-ae01-6384b7b56ab7'\u001b[0m and  \n",
       "\u001b[2;36m                               \u001b[0mtask_type \u001b[32m'FDTD'\u001b[0m.                                \n"
      ]
     },
     "metadata": {},
     "output_type": "display_data"
    },
    {
     "data": {
      "text/html": [
       "<pre style=\"white-space:pre;overflow-x:auto;line-height:normal;font-family:Menlo,'DejaVu Sans Mono',consolas,'Courier New',monospace\"><span style=\"color: #7fbfbf; text-decoration-color: #7fbfbf\">                               </span>View task using web UI at                        \n",
       "<span style=\"color: #7fbfbf; text-decoration-color: #7fbfbf\">                               </span><a href=\"https://tidy3d.simulation.cloud/workbench?taskId=fdve-e76d0d3d-35aa-4852-ae01-6384b7b56ab7\" target=\"_blank\"><span style=\"color: #008000; text-decoration-color: #008000\">'https://tidy3d.simulation.cloud/workbench?taskId</span></a>\n",
       "<span style=\"color: #7fbfbf; text-decoration-color: #7fbfbf\">                               </span><a href=\"https://tidy3d.simulation.cloud/workbench?taskId=fdve-e76d0d3d-35aa-4852-ae01-6384b7b56ab7\" target=\"_blank\"><span style=\"color: #008000; text-decoration-color: #008000\">=fdve-e76d0d3d-35aa-4852-ae01-6384b7b56ab7'</span></a>.     \n",
       "</pre>\n"
      ],
      "text/plain": [
       "\u001b[2;36m                              \u001b[0m\u001b[2;36m \u001b[0mView task using web UI at                        \n",
       "\u001b[2;36m                               \u001b[0m\u001b]8;id=919714;https://tidy3d.simulation.cloud/workbench?taskId=fdve-e76d0d3d-35aa-4852-ae01-6384b7b56ab7\u001b\\\u001b[32m'https://tidy3d.simulation.cloud/workbench?\u001b[0m\u001b]8;;\u001b\\\u001b]8;id=384155;https://tidy3d.simulation.cloud/workbench?taskId=fdve-e76d0d3d-35aa-4852-ae01-6384b7b56ab7\u001b\\\u001b[32mtaskId\u001b[0m\u001b]8;;\u001b\\\n",
       "\u001b[2;36m                               \u001b[0m\u001b]8;id=919714;https://tidy3d.simulation.cloud/workbench?taskId=fdve-e76d0d3d-35aa-4852-ae01-6384b7b56ab7\u001b\\\u001b[32m=\u001b[0m\u001b]8;;\u001b\\\u001b]8;id=904482;https://tidy3d.simulation.cloud/workbench?taskId=fdve-e76d0d3d-35aa-4852-ae01-6384b7b56ab7\u001b\\\u001b[32mfdve\u001b[0m\u001b]8;;\u001b\\\u001b]8;id=919714;https://tidy3d.simulation.cloud/workbench?taskId=fdve-e76d0d3d-35aa-4852-ae01-6384b7b56ab7\u001b\\\u001b[32m-e76d0d3d-35aa-4852-ae01-6384b7b56ab7'\u001b[0m\u001b]8;;\u001b\\.     \n"
      ]
     },
     "metadata": {},
     "output_type": "display_data"
    },
    {
     "data": {
      "application/vnd.jupyter.widget-view+json": {
       "model_id": "0e1d6a9ae2a64ffc94aad3582c08eddc",
       "version_major": 2,
       "version_minor": 0
      },
      "text/plain": [
       "Output()"
      ]
     },
     "metadata": {},
     "output_type": "display_data"
    },
    {
     "data": {
      "text/html": [
       "<pre style=\"white-space:pre;overflow-x:auto;line-height:normal;font-family:Menlo,'DejaVu Sans Mono',consolas,'Courier New',monospace\"></pre>\n"
      ],
      "text/plain": []
     },
     "metadata": {},
     "output_type": "display_data"
    },
    {
     "data": {
      "text/html": [
       "<pre style=\"white-space:pre;overflow-x:auto;line-height:normal;font-family:Menlo,'DejaVu Sans Mono',consolas,'Courier New',monospace\">\n",
       "</pre>\n"
      ],
      "text/plain": [
       "\n"
      ]
     },
     "metadata": {},
     "output_type": "display_data"
    },
    {
     "data": {
      "text/html": [
       "<pre style=\"white-space:pre;overflow-x:auto;line-height:normal;font-family:Menlo,'DejaVu Sans Mono',consolas,'Courier New',monospace\"><span style=\"color: #7fbfbf; text-decoration-color: #7fbfbf\">13:00:33 Eastern Daylight Time </span>Created task <span style=\"color: #008000; text-decoration-color: #008000\">'D=3.379'</span> with task_id              \n",
       "<span style=\"color: #7fbfbf; text-decoration-color: #7fbfbf\">                               </span><span style=\"color: #008000; text-decoration-color: #008000\">'fdve-c8b18296-cd4c-46c2-a35e-dca667189ebc'</span> and  \n",
       "<span style=\"color: #7fbfbf; text-decoration-color: #7fbfbf\">                               </span>task_type <span style=\"color: #008000; text-decoration-color: #008000\">'FDTD'</span>.                                \n",
       "</pre>\n"
      ],
      "text/plain": [
       "\u001b[2;36m13:00:33 Eastern Daylight Time\u001b[0m\u001b[2;36m \u001b[0mCreated task \u001b[32m'\u001b[0m\u001b[32mD\u001b[0m\u001b[32m=\u001b[0m\u001b[32m3\u001b[0m\u001b[32m.379'\u001b[0m with task_id              \n",
       "\u001b[2;36m                               \u001b[0m\u001b[32m'fdve-c8b18296-cd4c-46c2-a35e-dca667189ebc'\u001b[0m and  \n",
       "\u001b[2;36m                               \u001b[0mtask_type \u001b[32m'FDTD'\u001b[0m.                                \n"
      ]
     },
     "metadata": {},
     "output_type": "display_data"
    },
    {
     "data": {
      "text/html": [
       "<pre style=\"white-space:pre;overflow-x:auto;line-height:normal;font-family:Menlo,'DejaVu Sans Mono',consolas,'Courier New',monospace\"><span style=\"color: #7fbfbf; text-decoration-color: #7fbfbf\">                               </span>View task using web UI at                        \n",
       "<span style=\"color: #7fbfbf; text-decoration-color: #7fbfbf\">                               </span><a href=\"https://tidy3d.simulation.cloud/workbench?taskId=fdve-c8b18296-cd4c-46c2-a35e-dca667189ebc\" target=\"_blank\"><span style=\"color: #008000; text-decoration-color: #008000\">'https://tidy3d.simulation.cloud/workbench?taskId</span></a>\n",
       "<span style=\"color: #7fbfbf; text-decoration-color: #7fbfbf\">                               </span><a href=\"https://tidy3d.simulation.cloud/workbench?taskId=fdve-c8b18296-cd4c-46c2-a35e-dca667189ebc\" target=\"_blank\"><span style=\"color: #008000; text-decoration-color: #008000\">=fdve-c8b18296-cd4c-46c2-a35e-dca667189ebc'</span></a>.     \n",
       "</pre>\n"
      ],
      "text/plain": [
       "\u001b[2;36m                              \u001b[0m\u001b[2;36m \u001b[0mView task using web UI at                        \n",
       "\u001b[2;36m                               \u001b[0m\u001b]8;id=276509;https://tidy3d.simulation.cloud/workbench?taskId=fdve-c8b18296-cd4c-46c2-a35e-dca667189ebc\u001b\\\u001b[32m'https://tidy3d.simulation.cloud/workbench?\u001b[0m\u001b]8;;\u001b\\\u001b]8;id=653706;https://tidy3d.simulation.cloud/workbench?taskId=fdve-c8b18296-cd4c-46c2-a35e-dca667189ebc\u001b\\\u001b[32mtaskId\u001b[0m\u001b]8;;\u001b\\\n",
       "\u001b[2;36m                               \u001b[0m\u001b]8;id=276509;https://tidy3d.simulation.cloud/workbench?taskId=fdve-c8b18296-cd4c-46c2-a35e-dca667189ebc\u001b\\\u001b[32m=\u001b[0m\u001b]8;;\u001b\\\u001b]8;id=185385;https://tidy3d.simulation.cloud/workbench?taskId=fdve-c8b18296-cd4c-46c2-a35e-dca667189ebc\u001b\\\u001b[32mfdve\u001b[0m\u001b]8;;\u001b\\\u001b]8;id=276509;https://tidy3d.simulation.cloud/workbench?taskId=fdve-c8b18296-cd4c-46c2-a35e-dca667189ebc\u001b\\\u001b[32m-c8b18296-cd4c-46c2-a35e-dca667189ebc'\u001b[0m\u001b]8;;\u001b\\.     \n"
      ]
     },
     "metadata": {},
     "output_type": "display_data"
    },
    {
     "data": {
      "application/vnd.jupyter.widget-view+json": {
       "model_id": "2c17ad88a75f445d86e118a87c795286",
       "version_major": 2,
       "version_minor": 0
      },
      "text/plain": [
       "Output()"
      ]
     },
     "metadata": {},
     "output_type": "display_data"
    },
    {
     "data": {
      "text/html": [
       "<pre style=\"white-space:pre;overflow-x:auto;line-height:normal;font-family:Menlo,'DejaVu Sans Mono',consolas,'Courier New',monospace\"></pre>\n"
      ],
      "text/plain": []
     },
     "metadata": {},
     "output_type": "display_data"
    },
    {
     "data": {
      "text/html": [
       "<pre style=\"white-space:pre;overflow-x:auto;line-height:normal;font-family:Menlo,'DejaVu Sans Mono',consolas,'Courier New',monospace\">\n",
       "</pre>\n"
      ],
      "text/plain": [
       "\n"
      ]
     },
     "metadata": {},
     "output_type": "display_data"
    },
    {
     "data": {
      "text/html": [
       "<pre style=\"white-space:pre;overflow-x:auto;line-height:normal;font-family:Menlo,'DejaVu Sans Mono',consolas,'Courier New',monospace\"><span style=\"color: #7fbfbf; text-decoration-color: #7fbfbf\">13:00:34 Eastern Daylight Time </span>Created task <span style=\"color: #008000; text-decoration-color: #008000\">'D=3.489'</span> with task_id              \n",
       "<span style=\"color: #7fbfbf; text-decoration-color: #7fbfbf\">                               </span><span style=\"color: #008000; text-decoration-color: #008000\">'fdve-6f94c93e-1667-41d8-b157-b212e15b7cdc'</span> and  \n",
       "<span style=\"color: #7fbfbf; text-decoration-color: #7fbfbf\">                               </span>task_type <span style=\"color: #008000; text-decoration-color: #008000\">'FDTD'</span>.                                \n",
       "</pre>\n"
      ],
      "text/plain": [
       "\u001b[2;36m13:00:34 Eastern Daylight Time\u001b[0m\u001b[2;36m \u001b[0mCreated task \u001b[32m'\u001b[0m\u001b[32mD\u001b[0m\u001b[32m=\u001b[0m\u001b[32m3\u001b[0m\u001b[32m.489'\u001b[0m with task_id              \n",
       "\u001b[2;36m                               \u001b[0m\u001b[32m'fdve-6f94c93e-1667-41d8-b157-b212e15b7cdc'\u001b[0m and  \n",
       "\u001b[2;36m                               \u001b[0mtask_type \u001b[32m'FDTD'\u001b[0m.                                \n"
      ]
     },
     "metadata": {},
     "output_type": "display_data"
    },
    {
     "data": {
      "text/html": [
       "<pre style=\"white-space:pre;overflow-x:auto;line-height:normal;font-family:Menlo,'DejaVu Sans Mono',consolas,'Courier New',monospace\"><span style=\"color: #7fbfbf; text-decoration-color: #7fbfbf\">                               </span>View task using web UI at                        \n",
       "<span style=\"color: #7fbfbf; text-decoration-color: #7fbfbf\">                               </span><a href=\"https://tidy3d.simulation.cloud/workbench?taskId=fdve-6f94c93e-1667-41d8-b157-b212e15b7cdc\" target=\"_blank\"><span style=\"color: #008000; text-decoration-color: #008000\">'https://tidy3d.simulation.cloud/workbench?taskId</span></a>\n",
       "<span style=\"color: #7fbfbf; text-decoration-color: #7fbfbf\">                               </span><a href=\"https://tidy3d.simulation.cloud/workbench?taskId=fdve-6f94c93e-1667-41d8-b157-b212e15b7cdc\" target=\"_blank\"><span style=\"color: #008000; text-decoration-color: #008000\">=fdve-6f94c93e-1667-41d8-b157-b212e15b7cdc'</span></a>.     \n",
       "</pre>\n"
      ],
      "text/plain": [
       "\u001b[2;36m                              \u001b[0m\u001b[2;36m \u001b[0mView task using web UI at                        \n",
       "\u001b[2;36m                               \u001b[0m\u001b]8;id=145183;https://tidy3d.simulation.cloud/workbench?taskId=fdve-6f94c93e-1667-41d8-b157-b212e15b7cdc\u001b\\\u001b[32m'https://tidy3d.simulation.cloud/workbench?\u001b[0m\u001b]8;;\u001b\\\u001b]8;id=116900;https://tidy3d.simulation.cloud/workbench?taskId=fdve-6f94c93e-1667-41d8-b157-b212e15b7cdc\u001b\\\u001b[32mtaskId\u001b[0m\u001b]8;;\u001b\\\n",
       "\u001b[2;36m                               \u001b[0m\u001b]8;id=145183;https://tidy3d.simulation.cloud/workbench?taskId=fdve-6f94c93e-1667-41d8-b157-b212e15b7cdc\u001b\\\u001b[32m=\u001b[0m\u001b]8;;\u001b\\\u001b]8;id=302323;https://tidy3d.simulation.cloud/workbench?taskId=fdve-6f94c93e-1667-41d8-b157-b212e15b7cdc\u001b\\\u001b[32mfdve\u001b[0m\u001b]8;;\u001b\\\u001b]8;id=145183;https://tidy3d.simulation.cloud/workbench?taskId=fdve-6f94c93e-1667-41d8-b157-b212e15b7cdc\u001b\\\u001b[32m-6f94c93e-1667-41d8-b157-b212e15b7cdc'\u001b[0m\u001b]8;;\u001b\\.     \n"
      ]
     },
     "metadata": {},
     "output_type": "display_data"
    },
    {
     "data": {
      "application/vnd.jupyter.widget-view+json": {
       "model_id": "3b5923d308574149bec2a8d0e916519c",
       "version_major": 2,
       "version_minor": 0
      },
      "text/plain": [
       "Output()"
      ]
     },
     "metadata": {},
     "output_type": "display_data"
    },
    {
     "data": {
      "text/html": [
       "<pre style=\"white-space:pre;overflow-x:auto;line-height:normal;font-family:Menlo,'DejaVu Sans Mono',consolas,'Courier New',monospace\"></pre>\n"
      ],
      "text/plain": []
     },
     "metadata": {},
     "output_type": "display_data"
    },
    {
     "data": {
      "text/html": [
       "<pre style=\"white-space:pre;overflow-x:auto;line-height:normal;font-family:Menlo,'DejaVu Sans Mono',consolas,'Courier New',monospace\">\n",
       "</pre>\n"
      ],
      "text/plain": [
       "\n"
      ]
     },
     "metadata": {},
     "output_type": "display_data"
    },
    {
     "data": {
      "text/html": [
       "<pre style=\"white-space:pre;overflow-x:auto;line-height:normal;font-family:Menlo,'DejaVu Sans Mono',consolas,'Courier New',monospace\"><span style=\"color: #7fbfbf; text-decoration-color: #7fbfbf\">13:00:35 Eastern Daylight Time </span>Created task <span style=\"color: #008000; text-decoration-color: #008000\">'D=3.600'</span> with task_id              \n",
       "<span style=\"color: #7fbfbf; text-decoration-color: #7fbfbf\">                               </span><span style=\"color: #008000; text-decoration-color: #008000\">'fdve-7b767775-0c0b-4ab8-b212-8cdab4084891'</span> and  \n",
       "<span style=\"color: #7fbfbf; text-decoration-color: #7fbfbf\">                               </span>task_type <span style=\"color: #008000; text-decoration-color: #008000\">'FDTD'</span>.                                \n",
       "</pre>\n"
      ],
      "text/plain": [
       "\u001b[2;36m13:00:35 Eastern Daylight Time\u001b[0m\u001b[2;36m \u001b[0mCreated task \u001b[32m'\u001b[0m\u001b[32mD\u001b[0m\u001b[32m=\u001b[0m\u001b[32m3\u001b[0m\u001b[32m.600'\u001b[0m with task_id              \n",
       "\u001b[2;36m                               \u001b[0m\u001b[32m'fdve-7b767775-0c0b-4ab8-b212-8cdab4084891'\u001b[0m and  \n",
       "\u001b[2;36m                               \u001b[0mtask_type \u001b[32m'FDTD'\u001b[0m.                                \n"
      ]
     },
     "metadata": {},
     "output_type": "display_data"
    },
    {
     "data": {
      "text/html": [
       "<pre style=\"white-space:pre;overflow-x:auto;line-height:normal;font-family:Menlo,'DejaVu Sans Mono',consolas,'Courier New',monospace\"><span style=\"color: #7fbfbf; text-decoration-color: #7fbfbf\">                               </span>View task using web UI at                        \n",
       "<span style=\"color: #7fbfbf; text-decoration-color: #7fbfbf\">                               </span><a href=\"https://tidy3d.simulation.cloud/workbench?taskId=fdve-7b767775-0c0b-4ab8-b212-8cdab4084891\" target=\"_blank\"><span style=\"color: #008000; text-decoration-color: #008000\">'https://tidy3d.simulation.cloud/workbench?taskId</span></a>\n",
       "<span style=\"color: #7fbfbf; text-decoration-color: #7fbfbf\">                               </span><a href=\"https://tidy3d.simulation.cloud/workbench?taskId=fdve-7b767775-0c0b-4ab8-b212-8cdab4084891\" target=\"_blank\"><span style=\"color: #008000; text-decoration-color: #008000\">=fdve-7b767775-0c0b-4ab8-b212-8cdab4084891'</span></a>.     \n",
       "</pre>\n"
      ],
      "text/plain": [
       "\u001b[2;36m                              \u001b[0m\u001b[2;36m \u001b[0mView task using web UI at                        \n",
       "\u001b[2;36m                               \u001b[0m\u001b]8;id=585502;https://tidy3d.simulation.cloud/workbench?taskId=fdve-7b767775-0c0b-4ab8-b212-8cdab4084891\u001b\\\u001b[32m'https://tidy3d.simulation.cloud/workbench?\u001b[0m\u001b]8;;\u001b\\\u001b]8;id=81415;https://tidy3d.simulation.cloud/workbench?taskId=fdve-7b767775-0c0b-4ab8-b212-8cdab4084891\u001b\\\u001b[32mtaskId\u001b[0m\u001b]8;;\u001b\\\n",
       "\u001b[2;36m                               \u001b[0m\u001b]8;id=585502;https://tidy3d.simulation.cloud/workbench?taskId=fdve-7b767775-0c0b-4ab8-b212-8cdab4084891\u001b\\\u001b[32m=\u001b[0m\u001b]8;;\u001b\\\u001b]8;id=736098;https://tidy3d.simulation.cloud/workbench?taskId=fdve-7b767775-0c0b-4ab8-b212-8cdab4084891\u001b\\\u001b[32mfdve\u001b[0m\u001b]8;;\u001b\\\u001b]8;id=585502;https://tidy3d.simulation.cloud/workbench?taskId=fdve-7b767775-0c0b-4ab8-b212-8cdab4084891\u001b\\\u001b[32m-7b767775-0c0b-4ab8-b212-8cdab4084891'\u001b[0m\u001b]8;;\u001b\\.     \n"
      ]
     },
     "metadata": {},
     "output_type": "display_data"
    },
    {
     "data": {
      "application/vnd.jupyter.widget-view+json": {
       "model_id": "61e5213de25e49fe83138faf4c74027f",
       "version_major": 2,
       "version_minor": 0
      },
      "text/plain": [
       "Output()"
      ]
     },
     "metadata": {},
     "output_type": "display_data"
    },
    {
     "data": {
      "text/html": [
       "<pre style=\"white-space:pre;overflow-x:auto;line-height:normal;font-family:Menlo,'DejaVu Sans Mono',consolas,'Courier New',monospace\"></pre>\n"
      ],
      "text/plain": []
     },
     "metadata": {},
     "output_type": "display_data"
    },
    {
     "data": {
      "text/html": [
       "<pre style=\"white-space:pre;overflow-x:auto;line-height:normal;font-family:Menlo,'DejaVu Sans Mono',consolas,'Courier New',monospace\">\n",
       "</pre>\n"
      ],
      "text/plain": [
       "\n"
      ]
     },
     "metadata": {},
     "output_type": "display_data"
    },
    {
     "data": {
      "text/html": [
       "<pre style=\"white-space:pre;overflow-x:auto;line-height:normal;font-family:Menlo,'DejaVu Sans Mono',consolas,'Courier New',monospace\"><span style=\"color: #7fbfbf; text-decoration-color: #7fbfbf\">13:00:55 Eastern Daylight Time </span>Started working on Batch.                        \n",
       "</pre>\n"
      ],
      "text/plain": [
       "\u001b[2;36m13:00:55 Eastern Daylight Time\u001b[0m\u001b[2;36m \u001b[0mStarted working on Batch.                        \n"
      ]
     },
     "metadata": {},
     "output_type": "display_data"
    },
    {
     "data": {
      "text/html": [
       "<pre style=\"white-space:pre;overflow-x:auto;line-height:normal;font-family:Menlo,'DejaVu Sans Mono',consolas,'Courier New',monospace\"><span style=\"color: #7fbfbf; text-decoration-color: #7fbfbf\">13:01:06 Eastern Daylight Time </span>Maximum FlexCredit cost: <span style=\"color: #008080; text-decoration-color: #008080; font-weight: bold\">0.500</span> for the whole     \n",
       "<span style=\"color: #7fbfbf; text-decoration-color: #7fbfbf\">                               </span>batch.                                           \n",
       "</pre>\n"
      ],
      "text/plain": [
       "\u001b[2;36m13:01:06 Eastern Daylight Time\u001b[0m\u001b[2;36m \u001b[0mMaximum FlexCredit cost: \u001b[1;36m0.500\u001b[0m for the whole     \n",
       "\u001b[2;36m                               \u001b[0mbatch.                                           \n"
      ]
     },
     "metadata": {},
     "output_type": "display_data"
    },
    {
     "data": {
      "text/html": [
       "<pre style=\"white-space:pre;overflow-x:auto;line-height:normal;font-family:Menlo,'DejaVu Sans Mono',consolas,'Courier New',monospace\"><span style=\"color: #7fbfbf; text-decoration-color: #7fbfbf\">                               </span>Use <span style=\"color: #008000; text-decoration-color: #008000\">'Batch.real_cost()'</span> to get the billed        \n",
       "<span style=\"color: #7fbfbf; text-decoration-color: #7fbfbf\">                               </span>FlexCredit cost after the Batch has completed.   \n",
       "</pre>\n"
      ],
      "text/plain": [
       "\u001b[2;36m                              \u001b[0m\u001b[2;36m \u001b[0mUse \u001b[32m'Batch.real_cost\u001b[0m\u001b[32m(\u001b[0m\u001b[32m)\u001b[0m\u001b[32m'\u001b[0m to get the billed        \n",
       "\u001b[2;36m                               \u001b[0mFlexCredit cost after the Batch has completed.   \n"
      ]
     },
     "metadata": {},
     "output_type": "display_data"
    },
    {
     "data": {
      "application/vnd.jupyter.widget-view+json": {
       "model_id": "99cc85b2e139441b81a1669e06637747",
       "version_major": 2,
       "version_minor": 0
      },
      "text/plain": [
       "Output()"
      ]
     },
     "metadata": {},
     "output_type": "display_data"
    },
    {
     "data": {
      "text/html": [
       "<pre style=\"white-space:pre;overflow-x:auto;line-height:normal;font-family:Menlo,'DejaVu Sans Mono',consolas,'Courier New',monospace\"><span style=\"color: #7fbfbf; text-decoration-color: #7fbfbf\">13:01:13 Eastern Daylight Time </span>Batch complete.                                  \n",
       "</pre>\n"
      ],
      "text/plain": [
       "\u001b[2;36m13:01:13 Eastern Daylight Time\u001b[0m\u001b[2;36m \u001b[0mBatch complete.                                  \n"
      ]
     },
     "metadata": {},
     "output_type": "display_data"
    },
    {
     "data": {
      "text/html": [
       "<pre style=\"white-space:pre;overflow-x:auto;line-height:normal;font-family:Menlo,'DejaVu Sans Mono',consolas,'Courier New',monospace\"></pre>\n"
      ],
      "text/plain": []
     },
     "metadata": {},
     "output_type": "display_data"
    },
    {
     "data": {
      "text/html": [
       "<pre style=\"white-space:pre;overflow-x:auto;line-height:normal;font-family:Menlo,'DejaVu Sans Mono',consolas,'Courier New',monospace\">\n",
       "</pre>\n"
      ],
      "text/plain": [
       "\n"
      ]
     },
     "metadata": {},
     "output_type": "display_data"
    }
   ],
   "source": [
    "D_list = np.linspace(1.5, 3.6, 20)  # values of pillar diameter to be simulated\n",
    "\n",
    "sims = {f\"D={D:.3f}\": make_unit_cell_sim(D) for D in D_list}  # construct simulation batch\n",
    "\n",
    "# submit simulation batch to the server\n",
    "batch = web.Batch(simulations=sims, verbose=True)\n",
    "batch_results = batch.run(path_dir=\"data\")"
   ]
  },
  {
   "cell_type": "markdown",
   "id": "0df19558-2f25-47d9-8727-7b670e07d9db",
   "metadata": {},
   "source": [
    "After the simulations are complete, we extract the complex transmission coefficients from each simulation. "
   ]
  },
  {
   "cell_type": "code",
   "execution_count": 7,
   "id": "4ac9b17f",
   "metadata": {},
   "outputs": [
    {
     "data": {
      "application/vnd.jupyter.widget-view+json": {
       "model_id": "e7f08937276044d7bb73492a76457d62",
       "version_major": 2,
       "version_minor": 0
      },
      "text/plain": [
       "Output()"
      ]
     },
     "metadata": {},
     "output_type": "display_data"
    },
    {
     "data": {
      "text/html": [
       "<pre style=\"white-space:pre;overflow-x:auto;line-height:normal;font-family:Menlo,'DejaVu Sans Mono',consolas,'Courier New',monospace\"></pre>\n"
      ],
      "text/plain": []
     },
     "metadata": {},
     "output_type": "display_data"
    },
    {
     "data": {
      "text/html": [
       "<pre style=\"white-space:pre;overflow-x:auto;line-height:normal;font-family:Menlo,'DejaVu Sans Mono',consolas,'Courier New',monospace\">\n",
       "</pre>\n"
      ],
      "text/plain": [
       "\n"
      ]
     },
     "metadata": {},
     "output_type": "display_data"
    },
    {
     "data": {
      "text/html": [
       "<pre style=\"white-space:pre;overflow-x:auto;line-height:normal;font-family:Menlo,'DejaVu Sans Mono',consolas,'Courier New',monospace\"><span style=\"color: #7fbfbf; text-decoration-color: #7fbfbf\">13:01:17 Eastern Daylight Time </span>loading simulation from                          \n",
       "<span style=\"color: #7fbfbf; text-decoration-color: #7fbfbf\">                               </span>data\\fdve-<span style=\"color: #ffff00; text-decoration-color: #ffff00\">6369f866-b62b-408f-b328-706741386db3</span>.hd\n",
       "<span style=\"color: #7fbfbf; text-decoration-color: #7fbfbf\">                               </span>f5                                               \n",
       "</pre>\n"
      ],
      "text/plain": [
       "\u001b[2;36m13:01:17 Eastern Daylight Time\u001b[0m\u001b[2;36m \u001b[0mloading simulation from                          \n",
       "\u001b[2;36m                               \u001b[0mdata\\fdve-\u001b[93m6369f866-b62b-408f-b328-706741386db3\u001b[0m.hd\n",
       "\u001b[2;36m                               \u001b[0mf5                                               \n"
      ]
     },
     "metadata": {},
     "output_type": "display_data"
    },
    {
     "data": {
      "application/vnd.jupyter.widget-view+json": {
       "model_id": "2d46066d052f4fa285a195e01e108df0",
       "version_major": 2,
       "version_minor": 0
      },
      "text/plain": [
       "Output()"
      ]
     },
     "metadata": {},
     "output_type": "display_data"
    },
    {
     "data": {
      "text/html": [
       "<pre style=\"white-space:pre;overflow-x:auto;line-height:normal;font-family:Menlo,'DejaVu Sans Mono',consolas,'Courier New',monospace\"></pre>\n"
      ],
      "text/plain": []
     },
     "metadata": {},
     "output_type": "display_data"
    },
    {
     "data": {
      "text/html": [
       "<pre style=\"white-space:pre;overflow-x:auto;line-height:normal;font-family:Menlo,'DejaVu Sans Mono',consolas,'Courier New',monospace\">\n",
       "</pre>\n"
      ],
      "text/plain": [
       "\n"
      ]
     },
     "metadata": {},
     "output_type": "display_data"
    },
    {
     "data": {
      "text/html": [
       "<pre style=\"white-space:pre;overflow-x:auto;line-height:normal;font-family:Menlo,'DejaVu Sans Mono',consolas,'Courier New',monospace\"><span style=\"color: #7fbfbf; text-decoration-color: #7fbfbf\">13:01:18 Eastern Daylight Time </span>loading simulation from                          \n",
       "<span style=\"color: #7fbfbf; text-decoration-color: #7fbfbf\">                               </span>data\\fdve-<span style=\"color: #ffff00; text-decoration-color: #ffff00\">51d82951-be23-4391-86e7-b0aa1ded87e2</span>.hd\n",
       "<span style=\"color: #7fbfbf; text-decoration-color: #7fbfbf\">                               </span>f5                                               \n",
       "</pre>\n"
      ],
      "text/plain": [
       "\u001b[2;36m13:01:18 Eastern Daylight Time\u001b[0m\u001b[2;36m \u001b[0mloading simulation from                          \n",
       "\u001b[2;36m                               \u001b[0mdata\\fdve-\u001b[93m51d82951-be23-4391-86e7-b0aa1ded87e2\u001b[0m.hd\n",
       "\u001b[2;36m                               \u001b[0mf5                                               \n"
      ]
     },
     "metadata": {},
     "output_type": "display_data"
    },
    {
     "data": {
      "application/vnd.jupyter.widget-view+json": {
       "model_id": "307fec1dd53c48b48b3f6866f0e677f4",
       "version_major": 2,
       "version_minor": 0
      },
      "text/plain": [
       "Output()"
      ]
     },
     "metadata": {},
     "output_type": "display_data"
    },
    {
     "data": {
      "text/html": [
       "<pre style=\"white-space:pre;overflow-x:auto;line-height:normal;font-family:Menlo,'DejaVu Sans Mono',consolas,'Courier New',monospace\"></pre>\n"
      ],
      "text/plain": []
     },
     "metadata": {},
     "output_type": "display_data"
    },
    {
     "data": {
      "text/html": [
       "<pre style=\"white-space:pre;overflow-x:auto;line-height:normal;font-family:Menlo,'DejaVu Sans Mono',consolas,'Courier New',monospace\">\n",
       "</pre>\n"
      ],
      "text/plain": [
       "\n"
      ]
     },
     "metadata": {},
     "output_type": "display_data"
    },
    {
     "data": {
      "text/html": [
       "<pre style=\"white-space:pre;overflow-x:auto;line-height:normal;font-family:Menlo,'DejaVu Sans Mono',consolas,'Courier New',monospace\"><span style=\"color: #7fbfbf; text-decoration-color: #7fbfbf\">13:01:19 Eastern Daylight Time </span>loading simulation from                          \n",
       "<span style=\"color: #7fbfbf; text-decoration-color: #7fbfbf\">                               </span>data\\fdve-<span style=\"color: #ffff00; text-decoration-color: #ffff00\">61482ce9-3465-40c6-8021-9ecc6bbbe8cb</span>.hd\n",
       "<span style=\"color: #7fbfbf; text-decoration-color: #7fbfbf\">                               </span>f5                                               \n",
       "</pre>\n"
      ],
      "text/plain": [
       "\u001b[2;36m13:01:19 Eastern Daylight Time\u001b[0m\u001b[2;36m \u001b[0mloading simulation from                          \n",
       "\u001b[2;36m                               \u001b[0mdata\\fdve-\u001b[93m61482ce9-3465-40c6-8021-9ecc6bbbe8cb\u001b[0m.hd\n",
       "\u001b[2;36m                               \u001b[0mf5                                               \n"
      ]
     },
     "metadata": {},
     "output_type": "display_data"
    },
    {
     "data": {
      "application/vnd.jupyter.widget-view+json": {
       "model_id": "49bd24ab0db94761909f8a11f9bea473",
       "version_major": 2,
       "version_minor": 0
      },
      "text/plain": [
       "Output()"
      ]
     },
     "metadata": {},
     "output_type": "display_data"
    },
    {
     "data": {
      "text/html": [
       "<pre style=\"white-space:pre;overflow-x:auto;line-height:normal;font-family:Menlo,'DejaVu Sans Mono',consolas,'Courier New',monospace\"></pre>\n"
      ],
      "text/plain": []
     },
     "metadata": {},
     "output_type": "display_data"
    },
    {
     "data": {
      "text/html": [
       "<pre style=\"white-space:pre;overflow-x:auto;line-height:normal;font-family:Menlo,'DejaVu Sans Mono',consolas,'Courier New',monospace\">\n",
       "</pre>\n"
      ],
      "text/plain": [
       "\n"
      ]
     },
     "metadata": {},
     "output_type": "display_data"
    },
    {
     "data": {
      "text/html": [
       "<pre style=\"white-space:pre;overflow-x:auto;line-height:normal;font-family:Menlo,'DejaVu Sans Mono',consolas,'Courier New',monospace\"><span style=\"color: #7fbfbf; text-decoration-color: #7fbfbf\">13:01:20 Eastern Daylight Time </span>loading simulation from                          \n",
       "<span style=\"color: #7fbfbf; text-decoration-color: #7fbfbf\">                               </span>data\\fdve-<span style=\"color: #ffff00; text-decoration-color: #ffff00\">a72634a7-822e-40ed-b3bc-4dc2374b0249</span>.hd\n",
       "<span style=\"color: #7fbfbf; text-decoration-color: #7fbfbf\">                               </span>f5                                               \n",
       "</pre>\n"
      ],
      "text/plain": [
       "\u001b[2;36m13:01:20 Eastern Daylight Time\u001b[0m\u001b[2;36m \u001b[0mloading simulation from                          \n",
       "\u001b[2;36m                               \u001b[0mdata\\fdve-\u001b[93ma72634a7-822e-40ed-b3bc-4dc2374b0249\u001b[0m.hd\n",
       "\u001b[2;36m                               \u001b[0mf5                                               \n"
      ]
     },
     "metadata": {},
     "output_type": "display_data"
    },
    {
     "data": {
      "application/vnd.jupyter.widget-view+json": {
       "model_id": "3bb5ff3a2aae451195bad2fd54f15a49",
       "version_major": 2,
       "version_minor": 0
      },
      "text/plain": [
       "Output()"
      ]
     },
     "metadata": {},
     "output_type": "display_data"
    },
    {
     "data": {
      "text/html": [
       "<pre style=\"white-space:pre;overflow-x:auto;line-height:normal;font-family:Menlo,'DejaVu Sans Mono',consolas,'Courier New',monospace\"></pre>\n"
      ],
      "text/plain": []
     },
     "metadata": {},
     "output_type": "display_data"
    },
    {
     "data": {
      "text/html": [
       "<pre style=\"white-space:pre;overflow-x:auto;line-height:normal;font-family:Menlo,'DejaVu Sans Mono',consolas,'Courier New',monospace\">\n",
       "</pre>\n"
      ],
      "text/plain": [
       "\n"
      ]
     },
     "metadata": {},
     "output_type": "display_data"
    },
    {
     "data": {
      "text/html": [
       "<pre style=\"white-space:pre;overflow-x:auto;line-height:normal;font-family:Menlo,'DejaVu Sans Mono',consolas,'Courier New',monospace\"><span style=\"color: #7fbfbf; text-decoration-color: #7fbfbf\">13:01:21 Eastern Daylight Time </span>loading simulation from                          \n",
       "<span style=\"color: #7fbfbf; text-decoration-color: #7fbfbf\">                               </span>data\\fdve-<span style=\"color: #ffff00; text-decoration-color: #ffff00\">d36be8fc-b203-40c5-8cbb-80d0255edf63</span>.hd\n",
       "<span style=\"color: #7fbfbf; text-decoration-color: #7fbfbf\">                               </span>f5                                               \n",
       "</pre>\n"
      ],
      "text/plain": [
       "\u001b[2;36m13:01:21 Eastern Daylight Time\u001b[0m\u001b[2;36m \u001b[0mloading simulation from                          \n",
       "\u001b[2;36m                               \u001b[0mdata\\fdve-\u001b[93md36be8fc-b203-40c5-8cbb-80d0255edf63\u001b[0m.hd\n",
       "\u001b[2;36m                               \u001b[0mf5                                               \n"
      ]
     },
     "metadata": {},
     "output_type": "display_data"
    },
    {
     "data": {
      "application/vnd.jupyter.widget-view+json": {
       "model_id": "3637a79dd0c847f0b05b75ac4010074a",
       "version_major": 2,
       "version_minor": 0
      },
      "text/plain": [
       "Output()"
      ]
     },
     "metadata": {},
     "output_type": "display_data"
    },
    {
     "data": {
      "text/html": [
       "<pre style=\"white-space:pre;overflow-x:auto;line-height:normal;font-family:Menlo,'DejaVu Sans Mono',consolas,'Courier New',monospace\"></pre>\n"
      ],
      "text/plain": []
     },
     "metadata": {},
     "output_type": "display_data"
    },
    {
     "data": {
      "text/html": [
       "<pre style=\"white-space:pre;overflow-x:auto;line-height:normal;font-family:Menlo,'DejaVu Sans Mono',consolas,'Courier New',monospace\">\n",
       "</pre>\n"
      ],
      "text/plain": [
       "\n"
      ]
     },
     "metadata": {},
     "output_type": "display_data"
    },
    {
     "data": {
      "text/html": [
       "<pre style=\"white-space:pre;overflow-x:auto;line-height:normal;font-family:Menlo,'DejaVu Sans Mono',consolas,'Courier New',monospace\"><span style=\"color: #7fbfbf; text-decoration-color: #7fbfbf\">13:01:23 Eastern Daylight Time </span>loading simulation from                          \n",
       "<span style=\"color: #7fbfbf; text-decoration-color: #7fbfbf\">                               </span>data\\fdve-<span style=\"color: #ffff00; text-decoration-color: #ffff00\">15e96201-e652-4717-9fc5-231e59d28e3f</span>.hd\n",
       "<span style=\"color: #7fbfbf; text-decoration-color: #7fbfbf\">                               </span>f5                                               \n",
       "</pre>\n"
      ],
      "text/plain": [
       "\u001b[2;36m13:01:23 Eastern Daylight Time\u001b[0m\u001b[2;36m \u001b[0mloading simulation from                          \n",
       "\u001b[2;36m                               \u001b[0mdata\\fdve-\u001b[93m15e96201-e652-4717-9fc5-231e59d28e3f\u001b[0m.hd\n",
       "\u001b[2;36m                               \u001b[0mf5                                               \n"
      ]
     },
     "metadata": {},
     "output_type": "display_data"
    },
    {
     "data": {
      "application/vnd.jupyter.widget-view+json": {
       "model_id": "b1db076f876f4dc1867a6ed875b6722d",
       "version_major": 2,
       "version_minor": 0
      },
      "text/plain": [
       "Output()"
      ]
     },
     "metadata": {},
     "output_type": "display_data"
    },
    {
     "data": {
      "text/html": [
       "<pre style=\"white-space:pre;overflow-x:auto;line-height:normal;font-family:Menlo,'DejaVu Sans Mono',consolas,'Courier New',monospace\"></pre>\n"
      ],
      "text/plain": []
     },
     "metadata": {},
     "output_type": "display_data"
    },
    {
     "data": {
      "text/html": [
       "<pre style=\"white-space:pre;overflow-x:auto;line-height:normal;font-family:Menlo,'DejaVu Sans Mono',consolas,'Courier New',monospace\">\n",
       "</pre>\n"
      ],
      "text/plain": [
       "\n"
      ]
     },
     "metadata": {},
     "output_type": "display_data"
    },
    {
     "data": {
      "text/html": [
       "<pre style=\"white-space:pre;overflow-x:auto;line-height:normal;font-family:Menlo,'DejaVu Sans Mono',consolas,'Courier New',monospace\"><span style=\"color: #7fbfbf; text-decoration-color: #7fbfbf\">13:01:24 Eastern Daylight Time </span>loading simulation from                          \n",
       "<span style=\"color: #7fbfbf; text-decoration-color: #7fbfbf\">                               </span>data\\fdve-<span style=\"color: #ffff00; text-decoration-color: #ffff00\">672b1b9b-2d74-4fff-9272-8b9550193c9a</span>.hd\n",
       "<span style=\"color: #7fbfbf; text-decoration-color: #7fbfbf\">                               </span>f5                                               \n",
       "</pre>\n"
      ],
      "text/plain": [
       "\u001b[2;36m13:01:24 Eastern Daylight Time\u001b[0m\u001b[2;36m \u001b[0mloading simulation from                          \n",
       "\u001b[2;36m                               \u001b[0mdata\\fdve-\u001b[93m672b1b9b-2d74-4fff-9272-8b9550193c9a\u001b[0m.hd\n",
       "\u001b[2;36m                               \u001b[0mf5                                               \n"
      ]
     },
     "metadata": {},
     "output_type": "display_data"
    },
    {
     "data": {
      "application/vnd.jupyter.widget-view+json": {
       "model_id": "20b81385d5534ec4b1383f2931c3954b",
       "version_major": 2,
       "version_minor": 0
      },
      "text/plain": [
       "Output()"
      ]
     },
     "metadata": {},
     "output_type": "display_data"
    },
    {
     "data": {
      "text/html": [
       "<pre style=\"white-space:pre;overflow-x:auto;line-height:normal;font-family:Menlo,'DejaVu Sans Mono',consolas,'Courier New',monospace\"></pre>\n"
      ],
      "text/plain": []
     },
     "metadata": {},
     "output_type": "display_data"
    },
    {
     "data": {
      "text/html": [
       "<pre style=\"white-space:pre;overflow-x:auto;line-height:normal;font-family:Menlo,'DejaVu Sans Mono',consolas,'Courier New',monospace\">\n",
       "</pre>\n"
      ],
      "text/plain": [
       "\n"
      ]
     },
     "metadata": {},
     "output_type": "display_data"
    },
    {
     "data": {
      "text/html": [
       "<pre style=\"white-space:pre;overflow-x:auto;line-height:normal;font-family:Menlo,'DejaVu Sans Mono',consolas,'Courier New',monospace\"><span style=\"color: #7fbfbf; text-decoration-color: #7fbfbf\">13:01:25 Eastern Daylight Time </span>loading simulation from                          \n",
       "<span style=\"color: #7fbfbf; text-decoration-color: #7fbfbf\">                               </span>data\\fdve-<span style=\"color: #ffff00; text-decoration-color: #ffff00\">c47296c5-f0fb-41ef-8ba7-4d5cf5a3771b</span>.hd\n",
       "<span style=\"color: #7fbfbf; text-decoration-color: #7fbfbf\">                               </span>f5                                               \n",
       "</pre>\n"
      ],
      "text/plain": [
       "\u001b[2;36m13:01:25 Eastern Daylight Time\u001b[0m\u001b[2;36m \u001b[0mloading simulation from                          \n",
       "\u001b[2;36m                               \u001b[0mdata\\fdve-\u001b[93mc47296c5-f0fb-41ef-8ba7-4d5cf5a3771b\u001b[0m.hd\n",
       "\u001b[2;36m                               \u001b[0mf5                                               \n"
      ]
     },
     "metadata": {},
     "output_type": "display_data"
    },
    {
     "data": {
      "application/vnd.jupyter.widget-view+json": {
       "model_id": "82cf806318fb45e5b4c50f583f325b54",
       "version_major": 2,
       "version_minor": 0
      },
      "text/plain": [
       "Output()"
      ]
     },
     "metadata": {},
     "output_type": "display_data"
    },
    {
     "data": {
      "text/html": [
       "<pre style=\"white-space:pre;overflow-x:auto;line-height:normal;font-family:Menlo,'DejaVu Sans Mono',consolas,'Courier New',monospace\"></pre>\n"
      ],
      "text/plain": []
     },
     "metadata": {},
     "output_type": "display_data"
    },
    {
     "data": {
      "text/html": [
       "<pre style=\"white-space:pre;overflow-x:auto;line-height:normal;font-family:Menlo,'DejaVu Sans Mono',consolas,'Courier New',monospace\">\n",
       "</pre>\n"
      ],
      "text/plain": [
       "\n"
      ]
     },
     "metadata": {},
     "output_type": "display_data"
    },
    {
     "data": {
      "text/html": [
       "<pre style=\"white-space:pre;overflow-x:auto;line-height:normal;font-family:Menlo,'DejaVu Sans Mono',consolas,'Courier New',monospace\"><span style=\"color: #7fbfbf; text-decoration-color: #7fbfbf\">13:01:26 Eastern Daylight Time </span>loading simulation from                          \n",
       "<span style=\"color: #7fbfbf; text-decoration-color: #7fbfbf\">                               </span>data\\fdve-<span style=\"color: #ffff00; text-decoration-color: #ffff00\">e6acdef6-8b5d-4cbf-93b2-11dc858f6b4f</span>.hd\n",
       "<span style=\"color: #7fbfbf; text-decoration-color: #7fbfbf\">                               </span>f5                                               \n",
       "</pre>\n"
      ],
      "text/plain": [
       "\u001b[2;36m13:01:26 Eastern Daylight Time\u001b[0m\u001b[2;36m \u001b[0mloading simulation from                          \n",
       "\u001b[2;36m                               \u001b[0mdata\\fdve-\u001b[93me6acdef6-8b5d-4cbf-93b2-11dc858f6b4f\u001b[0m.hd\n",
       "\u001b[2;36m                               \u001b[0mf5                                               \n"
      ]
     },
     "metadata": {},
     "output_type": "display_data"
    },
    {
     "data": {
      "application/vnd.jupyter.widget-view+json": {
       "model_id": "c90abfad1d574951b061d0e2b72e0508",
       "version_major": 2,
       "version_minor": 0
      },
      "text/plain": [
       "Output()"
      ]
     },
     "metadata": {},
     "output_type": "display_data"
    },
    {
     "data": {
      "text/html": [
       "<pre style=\"white-space:pre;overflow-x:auto;line-height:normal;font-family:Menlo,'DejaVu Sans Mono',consolas,'Courier New',monospace\"></pre>\n"
      ],
      "text/plain": []
     },
     "metadata": {},
     "output_type": "display_data"
    },
    {
     "data": {
      "text/html": [
       "<pre style=\"white-space:pre;overflow-x:auto;line-height:normal;font-family:Menlo,'DejaVu Sans Mono',consolas,'Courier New',monospace\">\n",
       "</pre>\n"
      ],
      "text/plain": [
       "\n"
      ]
     },
     "metadata": {},
     "output_type": "display_data"
    },
    {
     "data": {
      "text/html": [
       "<pre style=\"white-space:pre;overflow-x:auto;line-height:normal;font-family:Menlo,'DejaVu Sans Mono',consolas,'Courier New',monospace\"><span style=\"color: #7fbfbf; text-decoration-color: #7fbfbf\">13:01:27 Eastern Daylight Time </span>loading simulation from                          \n",
       "<span style=\"color: #7fbfbf; text-decoration-color: #7fbfbf\">                               </span>data\\fdve-<span style=\"color: #ffff00; text-decoration-color: #ffff00\">f63b0317-c67a-4024-a6a5-6e4dca4e70e6</span>.hd\n",
       "<span style=\"color: #7fbfbf; text-decoration-color: #7fbfbf\">                               </span>f5                                               \n",
       "</pre>\n"
      ],
      "text/plain": [
       "\u001b[2;36m13:01:27 Eastern Daylight Time\u001b[0m\u001b[2;36m \u001b[0mloading simulation from                          \n",
       "\u001b[2;36m                               \u001b[0mdata\\fdve-\u001b[93mf63b0317-c67a-4024-a6a5-6e4dca4e70e6\u001b[0m.hd\n",
       "\u001b[2;36m                               \u001b[0mf5                                               \n"
      ]
     },
     "metadata": {},
     "output_type": "display_data"
    },
    {
     "data": {
      "application/vnd.jupyter.widget-view+json": {
       "model_id": "a4ab0b37af0e4610ab91a6020e96a35a",
       "version_major": 2,
       "version_minor": 0
      },
      "text/plain": [
       "Output()"
      ]
     },
     "metadata": {},
     "output_type": "display_data"
    },
    {
     "data": {
      "text/html": [
       "<pre style=\"white-space:pre;overflow-x:auto;line-height:normal;font-family:Menlo,'DejaVu Sans Mono',consolas,'Courier New',monospace\"></pre>\n"
      ],
      "text/plain": []
     },
     "metadata": {},
     "output_type": "display_data"
    },
    {
     "data": {
      "text/html": [
       "<pre style=\"white-space:pre;overflow-x:auto;line-height:normal;font-family:Menlo,'DejaVu Sans Mono',consolas,'Courier New',monospace\">\n",
       "</pre>\n"
      ],
      "text/plain": [
       "\n"
      ]
     },
     "metadata": {},
     "output_type": "display_data"
    },
    {
     "data": {
      "text/html": [
       "<pre style=\"white-space:pre;overflow-x:auto;line-height:normal;font-family:Menlo,'DejaVu Sans Mono',consolas,'Courier New',monospace\"><span style=\"color: #7fbfbf; text-decoration-color: #7fbfbf\">13:01:28 Eastern Daylight Time </span>loading simulation from                          \n",
       "<span style=\"color: #7fbfbf; text-decoration-color: #7fbfbf\">                               </span>data\\fdve-<span style=\"color: #ffff00; text-decoration-color: #ffff00\">d9386eef-5cbb-4896-9fc6-739c2154b657</span>.hd\n",
       "<span style=\"color: #7fbfbf; text-decoration-color: #7fbfbf\">                               </span>f5                                               \n",
       "</pre>\n"
      ],
      "text/plain": [
       "\u001b[2;36m13:01:28 Eastern Daylight Time\u001b[0m\u001b[2;36m \u001b[0mloading simulation from                          \n",
       "\u001b[2;36m                               \u001b[0mdata\\fdve-\u001b[93md9386eef-5cbb-4896-9fc6-739c2154b657\u001b[0m.hd\n",
       "\u001b[2;36m                               \u001b[0mf5                                               \n"
      ]
     },
     "metadata": {},
     "output_type": "display_data"
    },
    {
     "data": {
      "application/vnd.jupyter.widget-view+json": {
       "model_id": "d04a460a7b634e4c9e4b859b5f511285",
       "version_major": 2,
       "version_minor": 0
      },
      "text/plain": [
       "Output()"
      ]
     },
     "metadata": {},
     "output_type": "display_data"
    },
    {
     "data": {
      "text/html": [
       "<pre style=\"white-space:pre;overflow-x:auto;line-height:normal;font-family:Menlo,'DejaVu Sans Mono',consolas,'Courier New',monospace\"></pre>\n"
      ],
      "text/plain": []
     },
     "metadata": {},
     "output_type": "display_data"
    },
    {
     "data": {
      "text/html": [
       "<pre style=\"white-space:pre;overflow-x:auto;line-height:normal;font-family:Menlo,'DejaVu Sans Mono',consolas,'Courier New',monospace\">\n",
       "</pre>\n"
      ],
      "text/plain": [
       "\n"
      ]
     },
     "metadata": {},
     "output_type": "display_data"
    },
    {
     "data": {
      "text/html": [
       "<pre style=\"white-space:pre;overflow-x:auto;line-height:normal;font-family:Menlo,'DejaVu Sans Mono',consolas,'Courier New',monospace\"><span style=\"color: #7fbfbf; text-decoration-color: #7fbfbf\">13:01:29 Eastern Daylight Time </span>loading simulation from                          \n",
       "<span style=\"color: #7fbfbf; text-decoration-color: #7fbfbf\">                               </span>data\\fdve-<span style=\"color: #ffff00; text-decoration-color: #ffff00\">ead45dfa-e49a-488f-912b-701beb3ce1d3</span>.hd\n",
       "<span style=\"color: #7fbfbf; text-decoration-color: #7fbfbf\">                               </span>f5                                               \n",
       "</pre>\n"
      ],
      "text/plain": [
       "\u001b[2;36m13:01:29 Eastern Daylight Time\u001b[0m\u001b[2;36m \u001b[0mloading simulation from                          \n",
       "\u001b[2;36m                               \u001b[0mdata\\fdve-\u001b[93mead45dfa-e49a-488f-912b-701beb3ce1d3\u001b[0m.hd\n",
       "\u001b[2;36m                               \u001b[0mf5                                               \n"
      ]
     },
     "metadata": {},
     "output_type": "display_data"
    },
    {
     "data": {
      "application/vnd.jupyter.widget-view+json": {
       "model_id": "e23f121da13744bb85e1b4d149f29114",
       "version_major": 2,
       "version_minor": 0
      },
      "text/plain": [
       "Output()"
      ]
     },
     "metadata": {},
     "output_type": "display_data"
    },
    {
     "data": {
      "text/html": [
       "<pre style=\"white-space:pre;overflow-x:auto;line-height:normal;font-family:Menlo,'DejaVu Sans Mono',consolas,'Courier New',monospace\"></pre>\n"
      ],
      "text/plain": []
     },
     "metadata": {},
     "output_type": "display_data"
    },
    {
     "data": {
      "text/html": [
       "<pre style=\"white-space:pre;overflow-x:auto;line-height:normal;font-family:Menlo,'DejaVu Sans Mono',consolas,'Courier New',monospace\">\n",
       "</pre>\n"
      ],
      "text/plain": [
       "\n"
      ]
     },
     "metadata": {},
     "output_type": "display_data"
    },
    {
     "data": {
      "text/html": [
       "<pre style=\"white-space:pre;overflow-x:auto;line-height:normal;font-family:Menlo,'DejaVu Sans Mono',consolas,'Courier New',monospace\"><span style=\"color: #7fbfbf; text-decoration-color: #7fbfbf\">13:01:30 Eastern Daylight Time </span>loading simulation from                          \n",
       "<span style=\"color: #7fbfbf; text-decoration-color: #7fbfbf\">                               </span>data\\fdve-<span style=\"color: #ffff00; text-decoration-color: #ffff00\">7be30b72-2def-4796-8b8c-14c955e3a44a</span>.hd\n",
       "<span style=\"color: #7fbfbf; text-decoration-color: #7fbfbf\">                               </span>f5                                               \n",
       "</pre>\n"
      ],
      "text/plain": [
       "\u001b[2;36m13:01:30 Eastern Daylight Time\u001b[0m\u001b[2;36m \u001b[0mloading simulation from                          \n",
       "\u001b[2;36m                               \u001b[0mdata\\fdve-\u001b[93m7be30b72-2def-4796-8b8c-14c955e3a44a\u001b[0m.hd\n",
       "\u001b[2;36m                               \u001b[0mf5                                               \n"
      ]
     },
     "metadata": {},
     "output_type": "display_data"
    },
    {
     "data": {
      "application/vnd.jupyter.widget-view+json": {
       "model_id": "656facca46d249748827ea54eed999e9",
       "version_major": 2,
       "version_minor": 0
      },
      "text/plain": [
       "Output()"
      ]
     },
     "metadata": {},
     "output_type": "display_data"
    },
    {
     "data": {
      "text/html": [
       "<pre style=\"white-space:pre;overflow-x:auto;line-height:normal;font-family:Menlo,'DejaVu Sans Mono',consolas,'Courier New',monospace\"></pre>\n"
      ],
      "text/plain": []
     },
     "metadata": {},
     "output_type": "display_data"
    },
    {
     "data": {
      "text/html": [
       "<pre style=\"white-space:pre;overflow-x:auto;line-height:normal;font-family:Menlo,'DejaVu Sans Mono',consolas,'Courier New',monospace\">\n",
       "</pre>\n"
      ],
      "text/plain": [
       "\n"
      ]
     },
     "metadata": {},
     "output_type": "display_data"
    },
    {
     "data": {
      "text/html": [
       "<pre style=\"white-space:pre;overflow-x:auto;line-height:normal;font-family:Menlo,'DejaVu Sans Mono',consolas,'Courier New',monospace\"><span style=\"color: #7fbfbf; text-decoration-color: #7fbfbf\">13:01:32 Eastern Daylight Time </span>loading simulation from                          \n",
       "<span style=\"color: #7fbfbf; text-decoration-color: #7fbfbf\">                               </span>data\\fdve-<span style=\"color: #ffff00; text-decoration-color: #ffff00\">bd7bbf24-c548-4ae1-b05f-ea1fca5cb972</span>.hd\n",
       "<span style=\"color: #7fbfbf; text-decoration-color: #7fbfbf\">                               </span>f5                                               \n",
       "</pre>\n"
      ],
      "text/plain": [
       "\u001b[2;36m13:01:32 Eastern Daylight Time\u001b[0m\u001b[2;36m \u001b[0mloading simulation from                          \n",
       "\u001b[2;36m                               \u001b[0mdata\\fdve-\u001b[93mbd7bbf24-c548-4ae1-b05f-ea1fca5cb972\u001b[0m.hd\n",
       "\u001b[2;36m                               \u001b[0mf5                                               \n"
      ]
     },
     "metadata": {},
     "output_type": "display_data"
    },
    {
     "data": {
      "application/vnd.jupyter.widget-view+json": {
       "model_id": "85c6af9124cf4b65b3f46d512e8d1810",
       "version_major": 2,
       "version_minor": 0
      },
      "text/plain": [
       "Output()"
      ]
     },
     "metadata": {},
     "output_type": "display_data"
    },
    {
     "data": {
      "text/html": [
       "<pre style=\"white-space:pre;overflow-x:auto;line-height:normal;font-family:Menlo,'DejaVu Sans Mono',consolas,'Courier New',monospace\"></pre>\n"
      ],
      "text/plain": []
     },
     "metadata": {},
     "output_type": "display_data"
    },
    {
     "data": {
      "text/html": [
       "<pre style=\"white-space:pre;overflow-x:auto;line-height:normal;font-family:Menlo,'DejaVu Sans Mono',consolas,'Courier New',monospace\">\n",
       "</pre>\n"
      ],
      "text/plain": [
       "\n"
      ]
     },
     "metadata": {},
     "output_type": "display_data"
    },
    {
     "data": {
      "text/html": [
       "<pre style=\"white-space:pre;overflow-x:auto;line-height:normal;font-family:Menlo,'DejaVu Sans Mono',consolas,'Courier New',monospace\"><span style=\"color: #7fbfbf; text-decoration-color: #7fbfbf\">13:01:33 Eastern Daylight Time </span>loading simulation from                          \n",
       "<span style=\"color: #7fbfbf; text-decoration-color: #7fbfbf\">                               </span>data\\fdve-<span style=\"color: #ffff00; text-decoration-color: #ffff00\">256c903c-3885-4cd6-b8d4-dd97ebcbdcfd</span>.hd\n",
       "<span style=\"color: #7fbfbf; text-decoration-color: #7fbfbf\">                               </span>f5                                               \n",
       "</pre>\n"
      ],
      "text/plain": [
       "\u001b[2;36m13:01:33 Eastern Daylight Time\u001b[0m\u001b[2;36m \u001b[0mloading simulation from                          \n",
       "\u001b[2;36m                               \u001b[0mdata\\fdve-\u001b[93m256c903c-3885-4cd6-b8d4-dd97ebcbdcfd\u001b[0m.hd\n",
       "\u001b[2;36m                               \u001b[0mf5                                               \n"
      ]
     },
     "metadata": {},
     "output_type": "display_data"
    },
    {
     "data": {
      "application/vnd.jupyter.widget-view+json": {
       "model_id": "287a68a218d44edeab3fd625dc4d65d1",
       "version_major": 2,
       "version_minor": 0
      },
      "text/plain": [
       "Output()"
      ]
     },
     "metadata": {},
     "output_type": "display_data"
    },
    {
     "data": {
      "text/html": [
       "<pre style=\"white-space:pre;overflow-x:auto;line-height:normal;font-family:Menlo,'DejaVu Sans Mono',consolas,'Courier New',monospace\"></pre>\n"
      ],
      "text/plain": []
     },
     "metadata": {},
     "output_type": "display_data"
    },
    {
     "data": {
      "text/html": [
       "<pre style=\"white-space:pre;overflow-x:auto;line-height:normal;font-family:Menlo,'DejaVu Sans Mono',consolas,'Courier New',monospace\">\n",
       "</pre>\n"
      ],
      "text/plain": [
       "\n"
      ]
     },
     "metadata": {},
     "output_type": "display_data"
    },
    {
     "data": {
      "text/html": [
       "<pre style=\"white-space:pre;overflow-x:auto;line-height:normal;font-family:Menlo,'DejaVu Sans Mono',consolas,'Courier New',monospace\"><span style=\"color: #7fbfbf; text-decoration-color: #7fbfbf\">13:01:34 Eastern Daylight Time </span>loading simulation from                          \n",
       "<span style=\"color: #7fbfbf; text-decoration-color: #7fbfbf\">                               </span>data\\fdve-<span style=\"color: #ffff00; text-decoration-color: #ffff00\">3bc880ae-af20-491a-838b-33063298233d</span>.hd\n",
       "<span style=\"color: #7fbfbf; text-decoration-color: #7fbfbf\">                               </span>f5                                               \n",
       "</pre>\n"
      ],
      "text/plain": [
       "\u001b[2;36m13:01:34 Eastern Daylight Time\u001b[0m\u001b[2;36m \u001b[0mloading simulation from                          \n",
       "\u001b[2;36m                               \u001b[0mdata\\fdve-\u001b[93m3bc880ae-af20-491a-838b-33063298233d\u001b[0m.hd\n",
       "\u001b[2;36m                               \u001b[0mf5                                               \n"
      ]
     },
     "metadata": {},
     "output_type": "display_data"
    },
    {
     "data": {
      "application/vnd.jupyter.widget-view+json": {
       "model_id": "4df0e6e524624683a241aed9bbd6de80",
       "version_major": 2,
       "version_minor": 0
      },
      "text/plain": [
       "Output()"
      ]
     },
     "metadata": {},
     "output_type": "display_data"
    },
    {
     "data": {
      "text/html": [
       "<pre style=\"white-space:pre;overflow-x:auto;line-height:normal;font-family:Menlo,'DejaVu Sans Mono',consolas,'Courier New',monospace\"></pre>\n"
      ],
      "text/plain": []
     },
     "metadata": {},
     "output_type": "display_data"
    },
    {
     "data": {
      "text/html": [
       "<pre style=\"white-space:pre;overflow-x:auto;line-height:normal;font-family:Menlo,'DejaVu Sans Mono',consolas,'Courier New',monospace\">\n",
       "</pre>\n"
      ],
      "text/plain": [
       "\n"
      ]
     },
     "metadata": {},
     "output_type": "display_data"
    },
    {
     "data": {
      "text/html": [
       "<pre style=\"white-space:pre;overflow-x:auto;line-height:normal;font-family:Menlo,'DejaVu Sans Mono',consolas,'Courier New',monospace\"><span style=\"color: #7fbfbf; text-decoration-color: #7fbfbf\">13:01:35 Eastern Daylight Time </span>loading simulation from                          \n",
       "<span style=\"color: #7fbfbf; text-decoration-color: #7fbfbf\">                               </span>data\\fdve-<span style=\"color: #ffff00; text-decoration-color: #ffff00\">e76d0d3d-35aa-4852-ae01-6384b7b56ab7</span>.hd\n",
       "<span style=\"color: #7fbfbf; text-decoration-color: #7fbfbf\">                               </span>f5                                               \n",
       "</pre>\n"
      ],
      "text/plain": [
       "\u001b[2;36m13:01:35 Eastern Daylight Time\u001b[0m\u001b[2;36m \u001b[0mloading simulation from                          \n",
       "\u001b[2;36m                               \u001b[0mdata\\fdve-\u001b[93me76d0d3d-35aa-4852-ae01-6384b7b56ab7\u001b[0m.hd\n",
       "\u001b[2;36m                               \u001b[0mf5                                               \n"
      ]
     },
     "metadata": {},
     "output_type": "display_data"
    },
    {
     "data": {
      "application/vnd.jupyter.widget-view+json": {
       "model_id": "3ddf3c8f737c41078dec1c383ecff2c8",
       "version_major": 2,
       "version_minor": 0
      },
      "text/plain": [
       "Output()"
      ]
     },
     "metadata": {},
     "output_type": "display_data"
    },
    {
     "data": {
      "text/html": [
       "<pre style=\"white-space:pre;overflow-x:auto;line-height:normal;font-family:Menlo,'DejaVu Sans Mono',consolas,'Courier New',monospace\"></pre>\n"
      ],
      "text/plain": []
     },
     "metadata": {},
     "output_type": "display_data"
    },
    {
     "data": {
      "text/html": [
       "<pre style=\"white-space:pre;overflow-x:auto;line-height:normal;font-family:Menlo,'DejaVu Sans Mono',consolas,'Courier New',monospace\">\n",
       "</pre>\n"
      ],
      "text/plain": [
       "\n"
      ]
     },
     "metadata": {},
     "output_type": "display_data"
    },
    {
     "data": {
      "text/html": [
       "<pre style=\"white-space:pre;overflow-x:auto;line-height:normal;font-family:Menlo,'DejaVu Sans Mono',consolas,'Courier New',monospace\"><span style=\"color: #7fbfbf; text-decoration-color: #7fbfbf\">13:01:36 Eastern Daylight Time </span>loading simulation from                          \n",
       "<span style=\"color: #7fbfbf; text-decoration-color: #7fbfbf\">                               </span>data\\fdve-<span style=\"color: #ffff00; text-decoration-color: #ffff00\">c8b18296-cd4c-46c2-a35e-dca667189ebc</span>.hd\n",
       "<span style=\"color: #7fbfbf; text-decoration-color: #7fbfbf\">                               </span>f5                                               \n",
       "</pre>\n"
      ],
      "text/plain": [
       "\u001b[2;36m13:01:36 Eastern Daylight Time\u001b[0m\u001b[2;36m \u001b[0mloading simulation from                          \n",
       "\u001b[2;36m                               \u001b[0mdata\\fdve-\u001b[93mc8b18296-cd4c-46c2-a35e-dca667189ebc\u001b[0m.hd\n",
       "\u001b[2;36m                               \u001b[0mf5                                               \n"
      ]
     },
     "metadata": {},
     "output_type": "display_data"
    },
    {
     "data": {
      "application/vnd.jupyter.widget-view+json": {
       "model_id": "86282ea20ba8405cbd5f6f4e2cb36e3e",
       "version_major": 2,
       "version_minor": 0
      },
      "text/plain": [
       "Output()"
      ]
     },
     "metadata": {},
     "output_type": "display_data"
    },
    {
     "data": {
      "text/html": [
       "<pre style=\"white-space:pre;overflow-x:auto;line-height:normal;font-family:Menlo,'DejaVu Sans Mono',consolas,'Courier New',monospace\"></pre>\n"
      ],
      "text/plain": []
     },
     "metadata": {},
     "output_type": "display_data"
    },
    {
     "data": {
      "text/html": [
       "<pre style=\"white-space:pre;overflow-x:auto;line-height:normal;font-family:Menlo,'DejaVu Sans Mono',consolas,'Courier New',monospace\">\n",
       "</pre>\n"
      ],
      "text/plain": [
       "\n"
      ]
     },
     "metadata": {},
     "output_type": "display_data"
    },
    {
     "data": {
      "text/html": [
       "<pre style=\"white-space:pre;overflow-x:auto;line-height:normal;font-family:Menlo,'DejaVu Sans Mono',consolas,'Courier New',monospace\"><span style=\"color: #7fbfbf; text-decoration-color: #7fbfbf\">13:01:37 Eastern Daylight Time </span>loading simulation from                          \n",
       "<span style=\"color: #7fbfbf; text-decoration-color: #7fbfbf\">                               </span>data\\fdve-<span style=\"color: #ffff00; text-decoration-color: #ffff00\">6f94c93e-1667-41d8-b157-b212e15b7cdc</span>.hd\n",
       "<span style=\"color: #7fbfbf; text-decoration-color: #7fbfbf\">                               </span>f5                                               \n",
       "</pre>\n"
      ],
      "text/plain": [
       "\u001b[2;36m13:01:37 Eastern Daylight Time\u001b[0m\u001b[2;36m \u001b[0mloading simulation from                          \n",
       "\u001b[2;36m                               \u001b[0mdata\\fdve-\u001b[93m6f94c93e-1667-41d8-b157-b212e15b7cdc\u001b[0m.hd\n",
       "\u001b[2;36m                               \u001b[0mf5                                               \n"
      ]
     },
     "metadata": {},
     "output_type": "display_data"
    },
    {
     "data": {
      "application/vnd.jupyter.widget-view+json": {
       "model_id": "513300bf03cd4f85ab380ab92084f24c",
       "version_major": 2,
       "version_minor": 0
      },
      "text/plain": [
       "Output()"
      ]
     },
     "metadata": {},
     "output_type": "display_data"
    },
    {
     "data": {
      "text/html": [
       "<pre style=\"white-space:pre;overflow-x:auto;line-height:normal;font-family:Menlo,'DejaVu Sans Mono',consolas,'Courier New',monospace\"></pre>\n"
      ],
      "text/plain": []
     },
     "metadata": {},
     "output_type": "display_data"
    },
    {
     "data": {
      "text/html": [
       "<pre style=\"white-space:pre;overflow-x:auto;line-height:normal;font-family:Menlo,'DejaVu Sans Mono',consolas,'Courier New',monospace\">\n",
       "</pre>\n"
      ],
      "text/plain": [
       "\n"
      ]
     },
     "metadata": {},
     "output_type": "display_data"
    },
    {
     "data": {
      "text/html": [
       "<pre style=\"white-space:pre;overflow-x:auto;line-height:normal;font-family:Menlo,'DejaVu Sans Mono',consolas,'Courier New',monospace\"><span style=\"color: #7fbfbf; text-decoration-color: #7fbfbf\">13:01:38 Eastern Daylight Time </span>loading simulation from                          \n",
       "<span style=\"color: #7fbfbf; text-decoration-color: #7fbfbf\">                               </span>data\\fdve-<span style=\"color: #ffff00; text-decoration-color: #ffff00\">7b767775-0c0b-4ab8-b212-8cdab4084891</span>.hd\n",
       "<span style=\"color: #7fbfbf; text-decoration-color: #7fbfbf\">                               </span>f5                                               \n",
       "</pre>\n"
      ],
      "text/plain": [
       "\u001b[2;36m13:01:38 Eastern Daylight Time\u001b[0m\u001b[2;36m \u001b[0mloading simulation from                          \n",
       "\u001b[2;36m                               \u001b[0mdata\\fdve-\u001b[93m7b767775-0c0b-4ab8-b212-8cdab4084891\u001b[0m.hd\n",
       "\u001b[2;36m                               \u001b[0mf5                                               \n"
      ]
     },
     "metadata": {},
     "output_type": "display_data"
    }
   ],
   "source": [
    "# extract the complex transmission coefficient\n",
    "t = np.zeros(len(D_list), dtype=\"complex\")\n",
    "for i, D in enumerate(D_list):\n",
    "    sim_data = batch_results[f\"D={D:.3f}\"]\n",
    "    t[i] = np.array(sim_data[\"t\"].amps.sel(f=freq0, polarization=\"p\"))[0][0]"
   ]
  },
  {
   "cell_type": "markdown",
   "id": "0eb81411-fb8c-47c1-8b47-005d3e233d4a",
   "metadata": {},
   "source": [
    "From the complex transmission coefficient, the phase and transmittance can be calculated and plotted as a function of the pillar diameter. Here we see that the phase of the transmitted field varies from 0 to 2$\\pi$, which is necessary for creating a metalens. \n",
    "\n",
    "Ideally the transmittance is relatively high and uniform. From the transmittance plot, we can see that there is some variation, which could potentially lead to suboptimal performance of the designed metalens. However, we should still be able to use this design to obtain a reasonable metalens. "
   ]
  },
  {
   "cell_type": "code",
   "execution_count": 8,
   "id": "2b8cc47e",
   "metadata": {},
   "outputs": [
    {
     "data": {
      "image/png": "[encoded data removed]",
      "text/plain": [
       "<Figure size 1000x500 with 2 Axes>"
      ]
     },
     "metadata": {},
     "output_type": "display_data"
    }
   ],
   "source": [
    "# plot the transmission phase\n",
    "fig, (ax1, ax2) = plt.subplots(1, 2, figsize=(10, 5))\n",
    "theta = np.unwrap(np.angle(t))\n",
    "theta = theta - theta[0]\n",
    "ax1.plot(D_list, theta / (2 * np.pi), linewidth=3, c=\"blue\")\n",
    "ax1.set_xlim(np.min(D_list), np.max(D_list))\n",
    "ax1.set_ylim(0, 1)\n",
    "ax1.set_xlabel(\"D ($\\mu m$)\")\n",
    "ax1.set_ylabel(\"Transmission phase ($2\\pi$)\")\n",
    "\n",
    "# plot the transmittance\n",
    "ax2.plot(D_list, np.abs(t), linewidth=3, c=\"red\")\n",
    "ax2.set_xlim(np.min(D_list), np.max(D_list))\n",
    "ax2.set_ylim(0, 1)\n",
    "ax2.set_xlabel(\"D ($\\mu m$)\")\n",
    "ax2.set_ylabel(\"Transmittance\")\n",
    "plt.show()"
   ]
  },
  {
   "cell_type": "markdown",
   "id": "5ec7e789-ea23-434e-96d2-473ae776bba4",
   "metadata": {},
   "source": [
    "## Constructing the Full Metalens"
   ]
  },
  {
   "cell_type": "markdown",
   "id": "68227013-ca0a-4cde-a3b9-c3a98672b6d4",
   "metadata": {},
   "source": [
    "With the relationship between the transmission phase and the pillar diameter, we can proceed to design the full metalens. For a focusing lens, we aim to have a transmitted phase profile of $\\phi(x,y)=\\frac{2\\pi}{\\lambda_0}(f-\\sqrt{x^2+y^2+f^2})$, where $\\lambda_0$ is the wavelength and $f$ is the focal length. \n",
    "\n",
    "In this specific case, we design a metalens of 100 wavelengths in diameter and a numerical aperture (NA) of 0.6. This results in a ~1 mm metalens with a focal length of ~0.7 mm. In principle, a much larger metalens (cm scale) can be designed and simulated in a similar fashion. \n",
    "\n",
    "Due to the mirror symmetry, we only need to include a quarter of the metalens. In the simulation, we will apply the appropriate symmetry condition such that we effectively simulate the entire metalens."
   ]
  },
  {
   "cell_type": "code",
   "execution_count": 9,
   "id": "676196b9",
   "metadata": {},
   "outputs": [
    {
     "name": "stdout",
     "output_type": "stream",
     "text": [
      "The number of unit cells is 7396.\n",
      "The diameter of the metalens is 1.060 mm. The focal length is 0.707 mm.\n"
     ]
    },
    {
     "data": {
      "image/png": "[encoded data removed]",
      "text/plain": [
       "<Figure size 640x480 with 2 Axes>"
      ]
     },
     "metadata": {},
     "output_type": "display_data"
    }
   ],
   "source": [
    "R = 50 * lda0  # radius of the designed metalens\n",
    "\n",
    "# define a grid of cells\n",
    "r = np.arange(0, R, P)\n",
    "print(f\"The number of unit cells is {len(r)**2}.\")\n",
    "X, Y = np.meshgrid(r, r)\n",
    "\n",
    "NA = 0.6  # numerical aperture of the designed metalens\n",
    "\n",
    "f = R / NA * np.sqrt(1 - NA**2)  # focal length\n",
    "print(f\"The diameter of the metalens is {2*R/1e3:.3f} mm. The focal length is {f/1e3:.3f} mm.\")\n",
    "\n",
    "# desired phase profile\n",
    "phi_map = (2 * np.pi * (f - np.sqrt(X**2 + Y**2 + f**2)) / lda0) % (-2 * np.pi) + np.pi\n",
    "\n",
    "# plot the desired phase profile\n",
    "plt.pcolormesh(X, Y, phi_map, cmap=\"binary\")\n",
    "plt.colorbar()\n",
    "plt.show()"
   ]
  },
  {
   "cell_type": "markdown",
   "id": "14186d72-4403-4c17-bb4b-33d8f6878217",
   "metadata": {},
   "source": [
    "With the desired phase distribution, we can perform inverse interpolation and create pillars of appropriate size at each cell. "
   ]
  },
  {
   "cell_type": "code",
   "execution_count": 10,
   "id": "ac6d538a",
   "metadata": {},
   "outputs": [],
   "source": [
    "# create pillar geometries at each cell to follow the desired phase profile\n",
    "pillars_geo = []\n",
    "for i, x in enumerate(r):\n",
    "    for j, y in enumerate(r):\n",
    "        if x**2 + y**2 <= R**2 and x >= 0 and y >= 0:\n",
    "            D = np.interp(phi_map[i, j], theta, D_list)\n",
    "            pillar_geo = td.Cylinder(center=(x, y, h / 2), radius=D / 2, length=h)\n",
    "            pillars_geo.append(pillar_geo)\n",
    "\n",
    "# create pillar structure\n",
    "pillars = td.Structure(geometry=td.GeometryGroup(geometries=pillars_geo), medium=si)"
   ]
  },
  {
   "cell_type": "markdown",
   "id": "b810bb35-b3aa-4b03-a45e-976dc5e476da",
   "metadata": {},
   "source": [
    "To reduce the computational cost, we will not directly simulate the focal point. Instead, we will simulate only a small area near the metalens and use near field to far field projection to calculate the field distribution at the focal plane. "
   ]
  },
  {
   "cell_type": "code",
   "execution_count": 11,
   "id": "a4dbec12",
   "metadata": {},
   "outputs": [],
   "source": [
    "# simulation domain size\n",
    "Lx = 2 * R + lda0\n",
    "Ly = 2 * R + lda0\n",
    "Lz = h + 1.3 * lda0\n",
    "\n",
    "# grids of the projected field position\n",
    "xs_far = np.linspace(-3 * lda0, 3 * lda0, 101)\n",
    "ys_far = np.linspace(-3 * lda0, 3 * lda0, 101)\n",
    "\n",
    "# define a field projection monitor\n",
    "monitor_proj = td.FieldProjectionCartesianMonitor(\n",
    "    center=[0, 0, h + 0.6 * lda0],\n",
    "    size=[td.inf, td.inf, 0],\n",
    "    freqs=[freq0],\n",
    "    name=\"focal_plane_proj\",\n",
    "    proj_axis=2,\n",
    "    proj_distance=f,\n",
    "    x=xs_far,\n",
    "    y=ys_far,\n",
    "    custom_origin=(0, 0, 0),\n",
    "    far_field_approx=False,\n",
    ")\n",
    "\n",
    "# define the simulation\n",
    "sim = td.Simulation(\n",
    "    center=(0, 0, Lz / 2 - lda0 / 2),\n",
    "    size=(Lx, Ly, Lz),\n",
    "    grid_spec=td.GridSpec.auto(min_steps_per_wvl=min_steps_per_wvl, wavelength=lda0),\n",
    "    structures=[substrate, pillars],\n",
    "    sources=[plane_wave],\n",
    "    monitors=[monitor_proj],\n",
    "    run_time=run_time,\n",
    "    boundary_spec=td.BoundarySpec(x=td.Boundary.pml(), y=td.Boundary.pml(), z=td.Boundary.pml()),\n",
    "    symmetry=(-1, 1, 0),\n",
    ")"
   ]
  },
  {
   "cell_type": "markdown",
   "id": "1d5fb69a-107c-4544-898c-e4cfc2c5bca2",
   "metadata": {},
   "source": [
    "Once the simulation is set up, we can visualize the metalens. "
   ]
  },
  {
   "cell_type": "code",
   "execution_count": 12,
   "id": "1387c7aa-39cf-4ef4-917b-122a2ff11105",
   "metadata": {},
   "outputs": [
    {
     "data": {
      "image/png": "[encoded data removed]",
      "text/plain": [
       "<Figure size 700x700 with 1 Axes>"
      ]
     },
     "metadata": {},
     "output_type": "display_data"
    }
   ],
   "source": [
    "fig, ax = plt.subplots(figsize=(7, 7))\n",
    "sim.plot(z=h / 2, ax=ax)\n",
    "ax.set_xlim(0, R)\n",
    "ax.set_ylim(0, R)\n",
    "plt.show()"
   ]
  },
  {
   "cell_type": "markdown",
   "id": "fb10a0af-9cf3-413e-b402-6942b4bc7542",
   "metadata": {},
   "source": [
    "Before submitting large simulations to the server, it's always a good practice to estimate the cost first to avoid accidentally wasting your FlexCredicts."
   ]
  },
  {
   "cell_type": "code",
   "execution_count": 13,
   "id": "625cfefc",
   "metadata": {},
   "outputs": [
    {
     "data": {
      "text/html": [
       "<pre style=\"white-space:pre;overflow-x:auto;line-height:normal;font-family:Menlo,'DejaVu Sans Mono',consolas,'Courier New',monospace\"><span style=\"color: #7fbfbf; text-decoration-color: #7fbfbf\">13:01:42 Eastern Daylight Time </span>Created task <span style=\"color: #008000; text-decoration-color: #008000\">'ir_metalens'</span> with task_id          \n",
       "<span style=\"color: #7fbfbf; text-decoration-color: #7fbfbf\">                               </span><span style=\"color: #008000; text-decoration-color: #008000\">'fdve-e86524ad-5056-4207-a7e2-110378c9ee08'</span> and  \n",
       "<span style=\"color: #7fbfbf; text-decoration-color: #7fbfbf\">                               </span>task_type <span style=\"color: #008000; text-decoration-color: #008000\">'FDTD'</span>.                                \n",
       "</pre>\n"
      ],
      "text/plain": [
       "\u001b[2;36m13:01:42 Eastern Daylight Time\u001b[0m\u001b[2;36m \u001b[0mCreated task \u001b[32m'ir_metalens'\u001b[0m with task_id          \n",
       "\u001b[2;36m                               \u001b[0m\u001b[32m'fdve-e86524ad-5056-4207-a7e2-110378c9ee08'\u001b[0m and  \n",
       "\u001b[2;36m                               \u001b[0mtask_type \u001b[32m'FDTD'\u001b[0m.                                \n"
      ]
     },
     "metadata": {},
     "output_type": "display_data"
    },
    {
     "data": {
      "text/html": [
       "<pre style=\"white-space:pre;overflow-x:auto;line-height:normal;font-family:Menlo,'DejaVu Sans Mono',consolas,'Courier New',monospace\"><span style=\"color: #7fbfbf; text-decoration-color: #7fbfbf\">                               </span>View task using web UI at                        \n",
       "<span style=\"color: #7fbfbf; text-decoration-color: #7fbfbf\">                               </span><a href=\"https://tidy3d.simulation.cloud/workbench?taskId=fdve-e86524ad-5056-4207-a7e2-110378c9ee08\" target=\"_blank\"><span style=\"color: #008000; text-decoration-color: #008000\">'https://tidy3d.simulation.cloud/workbench?taskId</span></a>\n",
       "<span style=\"color: #7fbfbf; text-decoration-color: #7fbfbf\">                               </span><a href=\"https://tidy3d.simulation.cloud/workbench?taskId=fdve-e86524ad-5056-4207-a7e2-110378c9ee08\" target=\"_blank\"><span style=\"color: #008000; text-decoration-color: #008000\">=fdve-e86524ad-5056-4207-a7e2-110378c9ee08'</span></a>.     \n",
       "</pre>\n"
      ],
      "text/plain": [
       "\u001b[2;36m                              \u001b[0m\u001b[2;36m \u001b[0mView task using web UI at                        \n",
       "\u001b[2;36m                               \u001b[0m\u001b]8;id=750172;https://tidy3d.simulation.cloud/workbench?taskId=fdve-e86524ad-5056-4207-a7e2-110378c9ee08\u001b\\\u001b[32m'https://tidy3d.simulation.cloud/workbench?\u001b[0m\u001b]8;;\u001b\\\u001b]8;id=290987;https://tidy3d.simulation.cloud/workbench?taskId=fdve-e86524ad-5056-4207-a7e2-110378c9ee08\u001b\\\u001b[32mtaskId\u001b[0m\u001b]8;;\u001b\\\n",
       "\u001b[2;36m                               \u001b[0m\u001b]8;id=750172;https://tidy3d.simulation.cloud/workbench?taskId=fdve-e86524ad-5056-4207-a7e2-110378c9ee08\u001b\\\u001b[32m=\u001b[0m\u001b]8;;\u001b\\\u001b]8;id=500008;https://tidy3d.simulation.cloud/workbench?taskId=fdve-e86524ad-5056-4207-a7e2-110378c9ee08\u001b\\\u001b[32mfdve\u001b[0m\u001b]8;;\u001b\\\u001b]8;id=750172;https://tidy3d.simulation.cloud/workbench?taskId=fdve-e86524ad-5056-4207-a7e2-110378c9ee08\u001b\\\u001b[32m-e86524ad-5056-4207-a7e2-110378c9ee08'\u001b[0m\u001b]8;;\u001b\\.     \n"
      ]
     },
     "metadata": {},
     "output_type": "display_data"
    },
    {
     "data": {
      "application/vnd.jupyter.widget-view+json": {
       "model_id": "c2b9bf3b6f5a4d408b6da634c8b68508",
       "version_major": 2,
       "version_minor": 0
      },
      "text/plain": [
       "Output()"
      ]
     },
     "metadata": {},
     "output_type": "display_data"
    },
    {
     "data": {
      "text/html": [
       "<pre style=\"white-space:pre;overflow-x:auto;line-height:normal;font-family:Menlo,'DejaVu Sans Mono',consolas,'Courier New',monospace\"></pre>\n"
      ],
      "text/plain": []
     },
     "metadata": {},
     "output_type": "display_data"
    },
    {
     "data": {
      "text/html": [
       "<pre style=\"white-space:pre;overflow-x:auto;line-height:normal;font-family:Menlo,'DejaVu Sans Mono',consolas,'Courier New',monospace\">\n",
       "</pre>\n"
      ],
      "text/plain": [
       "\n"
      ]
     },
     "metadata": {},
     "output_type": "display_data"
    },
    {
     "data": {
      "text/html": [
       "<pre style=\"white-space:pre;overflow-x:auto;line-height:normal;font-family:Menlo,'DejaVu Sans Mono',consolas,'Courier New',monospace\"><span style=\"color: #7fbfbf; text-decoration-color: #7fbfbf\">13:01:45 Eastern Daylight Time </span>Maximum FlexCredit cost: <span style=\"color: #008080; text-decoration-color: #008080; font-weight: bold\">1.249</span>. Minimum cost     \n",
       "<span style=\"color: #7fbfbf; text-decoration-color: #7fbfbf\">                               </span>depends on task execution details. Use           \n",
       "<span style=\"color: #7fbfbf; text-decoration-color: #7fbfbf\">                               </span><span style=\"color: #008000; text-decoration-color: #008000\">'web.real_cost(task_id)'</span> to get the billed       \n",
       "<span style=\"color: #7fbfbf; text-decoration-color: #7fbfbf\">                               </span>FlexCredit cost after a simulation run.          \n",
       "</pre>\n"
      ],
      "text/plain": [
       "\u001b[2;36m13:01:45 Eastern Daylight Time\u001b[0m\u001b[2;36m \u001b[0mMaximum FlexCredit cost: \u001b[1;36m1.249\u001b[0m. Minimum cost     \n",
       "\u001b[2;36m                               \u001b[0mdepends on task execution details. Use           \n",
       "\u001b[2;36m                               \u001b[0m\u001b[32m'web.real_cost\u001b[0m\u001b[32m(\u001b[0m\u001b[32mtask_id\u001b[0m\u001b[32m)\u001b[0m\u001b[32m'\u001b[0m to get the billed       \n",
       "\u001b[2;36m                               \u001b[0mFlexCredit cost after a simulation run.          \n"
      ]
     },
     "metadata": {},
     "output_type": "display_data"
    }
   ],
   "source": [
    "job = web.Job(simulation=sim, task_name=\"ir_metalens\")\n",
    "estimated_cost = web.estimate_cost(job.task_id)"
   ]
  },
  {
   "cell_type": "markdown",
   "id": "4ad42d60-56e2-44e3-9f3a-1fecbbd6d6b4",
   "metadata": {},
   "source": [
    "Once we confirm the cost is reasonable, we can go ahead and run the simulation."
   ]
  },
  {
   "cell_type": "code",
   "execution_count": 14,
   "id": "764a9ce7-1e05-4def-b154-c12d2cad1c90",
   "metadata": {},
   "outputs": [
    {
     "data": {
      "text/html": [
       "<pre style=\"white-space:pre;overflow-x:auto;line-height:normal;font-family:Menlo,'DejaVu Sans Mono',consolas,'Courier New',monospace\"><span style=\"color: #7fbfbf; text-decoration-color: #7fbfbf\">13:01:47 Eastern Daylight Time </span>status = queued                                  \n",
       "</pre>\n"
      ],
      "text/plain": [
       "\u001b[2;36m13:01:47 Eastern Daylight Time\u001b[0m\u001b[2;36m \u001b[0mstatus = queued                                  \n"
      ]
     },
     "metadata": {},
     "output_type": "display_data"
    },
    {
     "data": {
      "text/html": [
       "<pre style=\"white-space:pre;overflow-x:auto;line-height:normal;font-family:Menlo,'DejaVu Sans Mono',consolas,'Courier New',monospace\"><span style=\"color: #7fbfbf; text-decoration-color: #7fbfbf\">                               </span>To cancel the simulation, use                    \n",
       "<span style=\"color: #7fbfbf; text-decoration-color: #7fbfbf\">                               </span><span style=\"color: #008000; text-decoration-color: #008000\">'web.abort(task_id)'</span> or <span style=\"color: #008000; text-decoration-color: #008000\">'web.delete(task_id)'</span> or \n",
       "<span style=\"color: #7fbfbf; text-decoration-color: #7fbfbf\">                               </span>abort/delete the task in the web UI. Terminating \n",
       "<span style=\"color: #7fbfbf; text-decoration-color: #7fbfbf\">                               </span>the Python script will not stop the job running  \n",
       "<span style=\"color: #7fbfbf; text-decoration-color: #7fbfbf\">                               </span>on the cloud.                                    \n",
       "</pre>\n"
      ],
      "text/plain": [
       "\u001b[2;36m                              \u001b[0m\u001b[2;36m \u001b[0mTo cancel the simulation, use                    \n",
       "\u001b[2;36m                               \u001b[0m\u001b[32m'web.abort\u001b[0m\u001b[32m(\u001b[0m\u001b[32mtask_id\u001b[0m\u001b[32m)\u001b[0m\u001b[32m'\u001b[0m or \u001b[32m'web.delete\u001b[0m\u001b[32m(\u001b[0m\u001b[32mtask_id\u001b[0m\u001b[32m)\u001b[0m\u001b[32m'\u001b[0m or \n",
       "\u001b[2;36m                               \u001b[0mabort/delete the task in the web UI. Terminating \n",
       "\u001b[2;36m                               \u001b[0mthe Python script will not stop the job running  \n",
       "\u001b[2;36m                               \u001b[0mon the cloud.                                    \n"
      ]
     },
     "metadata": {},
     "output_type": "display_data"
    },
    {
     "data": {
      "application/vnd.jupyter.widget-view+json": {
       "model_id": "",
       "version_major": 2,
       "version_minor": 0
      },
      "text/plain": [
       "Output()"
      ]
     },
     "metadata": {},
     "output_type": "display_data"
    },
    {
     "data": {
      "text/html": [
       "<pre style=\"white-space:pre;overflow-x:auto;line-height:normal;font-family:Menlo,'DejaVu Sans Mono',consolas,'Courier New',monospace\"><span style=\"color: #7fbfbf; text-decoration-color: #7fbfbf\">13:01:58 Eastern Daylight Time </span>status = preprocess                              \n",
       "</pre>\n"
      ],
      "text/plain": [
       "\u001b[2;36m13:01:58 Eastern Daylight Time\u001b[0m\u001b[2;36m \u001b[0mstatus = preprocess                              \n"
      ]
     },
     "metadata": {},
     "output_type": "display_data"
    },
    {
     "data": {
      "text/html": [
       "<pre style=\"white-space:pre;overflow-x:auto;line-height:normal;font-family:Menlo,'DejaVu Sans Mono',consolas,'Courier New',monospace\"></pre>\n"
      ],
      "text/plain": []
     },
     "metadata": {},
     "output_type": "display_data"
    },
    {
     "data": {
      "text/html": [
       "<pre style=\"white-space:pre;overflow-x:auto;line-height:normal;font-family:Menlo,'DejaVu Sans Mono',consolas,'Courier New',monospace\"><span style=\"color: #7fbfbf; text-decoration-color: #7fbfbf\">13:02:11 Eastern Daylight Time </span>Maximum FlexCredit cost: <span style=\"color: #008080; text-decoration-color: #008080; font-weight: bold\">1.249</span>. Use              \n",
       "<span style=\"color: #7fbfbf; text-decoration-color: #7fbfbf\">                               </span><span style=\"color: #008000; text-decoration-color: #008000\">'web.real_cost(task_id)'</span> to get the billed       \n",
       "<span style=\"color: #7fbfbf; text-decoration-color: #7fbfbf\">                               </span>FlexCredit cost after a simulation run.          \n",
       "</pre>\n"
      ],
      "text/plain": [
       "\u001b[2;36m13:02:11 Eastern Daylight Time\u001b[0m\u001b[2;36m \u001b[0mMaximum FlexCredit cost: \u001b[1;36m1.249\u001b[0m. Use              \n",
       "\u001b[2;36m                               \u001b[0m\u001b[32m'web.real_cost\u001b[0m\u001b[32m(\u001b[0m\u001b[32mtask_id\u001b[0m\u001b[32m)\u001b[0m\u001b[32m'\u001b[0m to get the billed       \n",
       "\u001b[2;36m                               \u001b[0mFlexCredit cost after a simulation run.          \n"
      ]
     },
     "metadata": {},
     "output_type": "display_data"
    },
    {
     "data": {
      "text/html": [
       "<pre style=\"white-space:pre;overflow-x:auto;line-height:normal;font-family:Menlo,'DejaVu Sans Mono',consolas,'Courier New',monospace\"><span style=\"color: #7fbfbf; text-decoration-color: #7fbfbf\">                               </span>starting up solver                               \n",
       "</pre>\n"
      ],
      "text/plain": [
       "\u001b[2;36m                              \u001b[0m\u001b[2;36m \u001b[0mstarting up solver                               \n"
      ]
     },
     "metadata": {},
     "output_type": "display_data"
    },
    {
     "data": {
      "text/html": [
       "<pre style=\"white-space:pre;overflow-x:auto;line-height:normal;font-family:Menlo,'DejaVu Sans Mono',consolas,'Courier New',monospace\"><span style=\"color: #7fbfbf; text-decoration-color: #7fbfbf\">                               </span>running solver                                   \n",
       "</pre>\n"
      ],
      "text/plain": [
       "\u001b[2;36m                              \u001b[0m\u001b[2;36m \u001b[0mrunning solver                                   \n"
      ]
     },
     "metadata": {},
     "output_type": "display_data"
    },
    {
     "data": {
      "application/vnd.jupyter.widget-view+json": {
       "model_id": "a342c174f74948be8d0133bc934b7be0",
       "version_major": 2,
       "version_minor": 0
      },
      "text/plain": [
       "Output()"
      ]
     },
     "metadata": {},
     "output_type": "display_data"
    },
    {
     "data": {
      "text/html": [
       "<pre style=\"white-space:pre;overflow-x:auto;line-height:normal;font-family:Menlo,'DejaVu Sans Mono',consolas,'Courier New',monospace\"><span style=\"color: #7fbfbf; text-decoration-color: #7fbfbf\">13:03:05 Eastern Daylight Time </span>early shutoff detected at <span style=\"color: #008080; text-decoration-color: #008080; font-weight: bold\">76</span>%, exiting.          \n",
       "</pre>\n"
      ],
      "text/plain": [
       "\u001b[2;36m13:03:05 Eastern Daylight Time\u001b[0m\u001b[2;36m \u001b[0mearly shutoff detected at \u001b[1;36m76\u001b[0m%, exiting.          \n"
      ]
     },
     "metadata": {},
     "output_type": "display_data"
    },
    {
     "data": {
      "text/html": [
       "<pre style=\"white-space:pre;overflow-x:auto;line-height:normal;font-family:Menlo,'DejaVu Sans Mono',consolas,'Courier New',monospace\"></pre>\n"
      ],
      "text/plain": []
     },
     "metadata": {},
     "output_type": "display_data"
    },
    {
     "data": {
      "text/html": [
       "<pre style=\"white-space:pre;overflow-x:auto;line-height:normal;font-family:Menlo,'DejaVu Sans Mono',consolas,'Courier New',monospace\">\n",
       "</pre>\n"
      ],
      "text/plain": [
       "\n"
      ]
     },
     "metadata": {},
     "output_type": "display_data"
    },
    {
     "data": {
      "text/html": [
       "<pre style=\"white-space:pre;overflow-x:auto;line-height:normal;font-family:Menlo,'DejaVu Sans Mono',consolas,'Courier New',monospace\"><span style=\"color: #7fbfbf; text-decoration-color: #7fbfbf\">                               </span>status = postprocess                             \n",
       "</pre>\n"
      ],
      "text/plain": [
       "\u001b[2;36m                              \u001b[0m\u001b[2;36m \u001b[0mstatus = postprocess                             \n"
      ]
     },
     "metadata": {},
     "output_type": "display_data"
    },
    {
     "data": {
      "application/vnd.jupyter.widget-view+json": {
       "model_id": "",
       "version_major": 2,
       "version_minor": 0
      },
      "text/plain": [
       "Output()"
      ]
     },
     "metadata": {},
     "output_type": "display_data"
    },
    {
     "data": {
      "text/html": [
       "<pre style=\"white-space:pre;overflow-x:auto;line-height:normal;font-family:Menlo,'DejaVu Sans Mono',consolas,'Courier New',monospace\"><span style=\"color: #7fbfbf; text-decoration-color: #7fbfbf\">                               </span>status = success                                 \n",
       "</pre>\n"
      ],
      "text/plain": [
       "\u001b[2;36m                              \u001b[0m\u001b[2;36m \u001b[0mstatus = success                                 \n"
      ]
     },
     "metadata": {},
     "output_type": "display_data"
    },
    {
     "data": {
      "text/html": [
       "<pre style=\"white-space:pre;overflow-x:auto;line-height:normal;font-family:Menlo,'DejaVu Sans Mono',consolas,'Courier New',monospace\"></pre>\n"
      ],
      "text/plain": []
     },
     "metadata": {},
     "output_type": "display_data"
    },
    {
     "data": {
      "text/html": [
       "<pre style=\"white-space:pre;overflow-x:auto;line-height:normal;font-family:Menlo,'DejaVu Sans Mono',consolas,'Courier New',monospace\"><span style=\"color: #7fbfbf; text-decoration-color: #7fbfbf\">                               </span>View simulation result at                        \n",
       "<span style=\"color: #7fbfbf; text-decoration-color: #7fbfbf\">                               </span><a href=\"https://tidy3d.simulation.cloud/workbench?taskId=fdve-e86524ad-5056-4207-a7e2-110378c9ee08\" target=\"_blank\"><span style=\"color: #000080; text-decoration-color: #000080; text-decoration: underline\">'https://tidy3d.simulation.cloud/workbench?taskId</span></a>\n",
       "<span style=\"color: #7fbfbf; text-decoration-color: #7fbfbf\">                               </span><a href=\"https://tidy3d.simulation.cloud/workbench?taskId=fdve-e86524ad-5056-4207-a7e2-110378c9ee08\" target=\"_blank\"><span style=\"color: #000080; text-decoration-color: #000080; text-decoration: underline\">=fdve-e86524ad-5056-4207-a7e2-110378c9ee08'</span></a><span style=\"color: #000080; text-decoration-color: #000080; text-decoration: underline\">.</span>     \n",
       "</pre>\n"
      ],
      "text/plain": [
       "\u001b[2;36m                              \u001b[0m\u001b[2;36m \u001b[0mView simulation result at                        \n",
       "\u001b[2;36m                               \u001b[0m\u001b]8;id=375839;https://tidy3d.simulation.cloud/workbench?taskId=fdve-e86524ad-5056-4207-a7e2-110378c9ee08\u001b\\\u001b[4;34m'https://tidy3d.simulation.cloud/workbench?\u001b[0m\u001b]8;;\u001b\\\u001b]8;id=938216;https://tidy3d.simulation.cloud/workbench?taskId=fdve-e86524ad-5056-4207-a7e2-110378c9ee08\u001b\\\u001b[4;34mtaskId\u001b[0m\u001b]8;;\u001b\\\n",
       "\u001b[2;36m                               \u001b[0m\u001b]8;id=375839;https://tidy3d.simulation.cloud/workbench?taskId=fdve-e86524ad-5056-4207-a7e2-110378c9ee08\u001b\\\u001b[4;34m=\u001b[0m\u001b]8;;\u001b\\\u001b]8;id=725272;https://tidy3d.simulation.cloud/workbench?taskId=fdve-e86524ad-5056-4207-a7e2-110378c9ee08\u001b\\\u001b[4;34mfdve\u001b[0m\u001b]8;;\u001b\\\u001b]8;id=375839;https://tidy3d.simulation.cloud/workbench?taskId=fdve-e86524ad-5056-4207-a7e2-110378c9ee08\u001b\\\u001b[4;34m-e86524ad-5056-4207-a7e2-110378c9ee08'\u001b[0m\u001b]8;;\u001b\\\u001b[4;34m.\u001b[0m     \n"
      ]
     },
     "metadata": {},
     "output_type": "display_data"
    },
    {
     "data": {
      "application/vnd.jupyter.widget-view+json": {
       "model_id": "7bd4f565dd55465fba4edc9b75d14d22",
       "version_major": 2,
       "version_minor": 0
      },
      "text/plain": [
       "Output()"
      ]
     },
     "metadata": {},
     "output_type": "display_data"
    },
    {
     "data": {
      "text/html": [
       "<pre style=\"white-space:pre;overflow-x:auto;line-height:normal;font-family:Menlo,'DejaVu Sans Mono',consolas,'Courier New',monospace\"></pre>\n"
      ],
      "text/plain": []
     },
     "metadata": {},
     "output_type": "display_data"
    },
    {
     "data": {
      "text/html": [
       "<pre style=\"white-space:pre;overflow-x:auto;line-height:normal;font-family:Menlo,'DejaVu Sans Mono',consolas,'Courier New',monospace\">\n",
       "</pre>\n"
      ],
      "text/plain": [
       "\n"
      ]
     },
     "metadata": {},
     "output_type": "display_data"
    },
    {
     "data": {
      "text/html": [
       "<pre style=\"white-space:pre;overflow-x:auto;line-height:normal;font-family:Menlo,'DejaVu Sans Mono',consolas,'Courier New',monospace\"><span style=\"color: #7fbfbf; text-decoration-color: #7fbfbf\">13:03:07 Eastern Daylight Time </span>loading simulation from data/simulation_data.hdf5\n",
       "</pre>\n"
      ],
      "text/plain": [
       "\u001b[2;36m13:03:07 Eastern Daylight Time\u001b[0m\u001b[2;36m \u001b[0mloading simulation from data/simulation_data.hdf5\n"
      ]
     },
     "metadata": {},
     "output_type": "display_data"
    }
   ],
   "source": [
    "sim_data = job.run(path=\"data/simulation_data.hdf5\")"
   ]
  },
  {
   "cell_type": "markdown",
   "id": "fba6dc57-cf07-4bbf-b787-0f396f0a5352",
   "metadata": {},
   "source": [
    "## Analyzing the Focusing"
   ]
  },
  {
   "cell_type": "markdown",
   "id": "6da623a0-5dc6-4b78-bacb-00b847e237e5",
   "metadata": {},
   "source": [
    "After the simulation is done, we can extract and plot the field intensity at the focal plane."
   ]
  },
  {
   "cell_type": "code",
   "execution_count": 15,
   "id": "bd39a939",
   "metadata": {},
   "outputs": [
    {
     "data": {
      "image/png": "[encoded data removed]",
      "text/plain": [
       "<Figure size 640x480 with 2 Axes>"
      ]
     },
     "metadata": {},
     "output_type": "display_data"
    }
   ],
   "source": [
    "proj_fields = sim_data[\"focal_plane_proj\"].fields_cartesian.sel(f=freq0)\n",
    "\n",
    "# compute the intensity of the field\n",
    "I = np.abs(proj_fields.Ex) ** 2 + np.abs(proj_fields.Ey) ** 2 + np.abs(proj_fields.Ez) ** 2\n",
    "\n",
    "# plot field distribution\n",
    "I.plot(x=\"x\", y=\"y\", cmap=\"hot\")\n",
    "plt.show()"
   ]
  },
  {
   "cell_type": "markdown",
   "id": "731101bc-a55d-48ba-8025-35c5d283765e",
   "metadata": {},
   "source": [
    "More quantitatively, we can find the full width at half maximum (FWHM) of the beam spot. Here we demonstrate that for the x direction as an example. The FWHM is found to be comparable to the wavelength."
   ]
  },
  {
   "cell_type": "code",
   "execution_count": 16,
   "id": "182503b1",
   "metadata": {},
   "outputs": [
    {
     "data": {
      "image/png": "[encoded data removed]",
      "text/plain": [
       "<Figure size 640x480 with 1 Axes>"
      ]
     },
     "metadata": {},
     "output_type": "display_data"
    },
    {
     "name": "stdout",
     "output_type": "stream",
     "text": [
      "The FWHM is 10.176 um.\n"
     ]
    }
   ],
   "source": [
    "I_x = I.sel(y=0, z=f, method=\"nearest\")  # extract the field intensity in the x direction\n",
    "\n",
    "# plot the intensity profile\n",
    "fig, ax = plt.subplots()\n",
    "I_x.plot(linewidth=3, c=\"red\", ax=ax)\n",
    "ax.set_ylabel(\"Intensity\")\n",
    "ax.set_ylabel(\"x ($\\mu m$)\")\n",
    "ax.set_title(\"Field intensity at focus\")\n",
    "plt.show()\n",
    "\n",
    "# function for determining the fwhm\n",
    "def cal_fwhm(x, y):\n",
    "\n",
    "    # filter the data\n",
    "    y = y[x > 0]\n",
    "    x = x[x > 0]\n",
    "    x = x[y > 0.4 * np.max(y)]\n",
    "    y = y[y > 0.4 * np.max(y)]\n",
    "\n",
    "    # compute half width by interpolation\n",
    "    hm_point = np.interp(np.max(y) / 2, y, x)\n",
    "\n",
    "    # compute full width\n",
    "    fwhm_value = 2 * hm_point\n",
    "\n",
    "    return fwhm_value\n",
    "\n",
    "# calculate fwhm\n",
    "fwhm = cal_fwhm(I_x.x.values, I_x.values)\n",
    "print(f\"The FWHM is {fwhm:.3f} um.\")"
   ]
  },
  {
   "cell_type": "markdown",
   "id": "47e81c92-3520-49c4-a4c1-45f4ad72d614",
   "metadata": {},
   "source": [
    "## GDS Layout Generation"
   ]
  },
  {
   "cell_type": "markdown",
   "id": "8b9cae80-e0a7-4cc5-8b82-0b2f8e0292fe",
   "metadata": {},
   "source": [
    "Now that the design and verification are complete, the next step would be to fabricate the metalens and experimentally verify its performance. To do so, we need to generate a GDS layout of the design. Tidy3D provides a convenient function [to_gds_file](https://docs.flexcompute.com/projects/tidy3d/en/latest/api/_autosummary/tidy3d.Simulation.html#tidy3d.Simulation.to_gds_file) that generates a GDS layout based on the simulation. Here we can use it to generate the layout and directly use it for fabrication.\n",
    "\n",
    "Note that even though we only defined a quarter of the full metalens, the gds export function automatically takes symmetry into account and generates the layout for the entire metalens.\n",
    "\n",
    "<img src=\"img/metalens_gds.png\" width=\"500\" alt=\"Generated GDS layout of the metalens\">"
   ]
  },
  {
   "cell_type": "code",
   "execution_count": 17,
   "id": "1cfd9ed6-fa90-4549-9918-9191d9215a9e",
   "metadata": {},
   "outputs": [],
   "source": [
    "sim.to_gds_file(\"data/mid_ir_metalens.gds\", z=h / 2)"
   ]
  },
  {
   "cell_type": "code",
   "execution_count": null,
   "id": "e4d2ec6f-5839-4afb-9261-113bb14542b4",
   "metadata": {},
   "outputs": [],
   "source": []
  }
 ],
 "metadata": {
  "applications": [
   "Metamaterials, gratings, and other periodic structures",
   "Lenses"
  ],
  "description": "This notebook demonstrates how to model a mid-IR metalens in Tidy3D FDTD.",
  "feature_image": "./img/ir_metalens.png",
  "features": [
   "Parameter sweep",
   "Far field projection"
  ],
  "kernelspec": {
   "display_name": "Python 3 (ipykernel)",
   "language": "python",
   "name": "python3"
  },
  "keywords": "Metalens, metasurface, metamaterial, Tidy3D, FDTD",
  "language_info": {
   "codemirror_mode": {
    "name": "ipython",
    "version": 3
   },
   "file_extension": ".py",
   "mimetype": "text/x-python",
   "name": "python",
   "nbconvert_exporter": "python",
   "pygments_lexer": "ipython3",
   "version": "3.11.7"
  },
  "title": "Mir-IR Metalens Modeling in Tidy3D | Flexcompute"
 },
 "nbformat": 4,
 "nbformat_minor": 5
}
