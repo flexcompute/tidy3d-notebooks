{
 "cells": [
  {
   "cell_type": "markdown",
   "id": "36ff66e5",
   "metadata": {},
   "source": [
    "# Broadband directional coupler"
   ]
  },
  {
   "cell_type": "markdown",
   "id": "05954108",
   "metadata": {},
   "source": [
    "In the rapidly evolving field of silicon integrated photonics, the directional coupler (DC) stands out as a crucial building block for a multitude of applications, such as optical signal processing, sensing, and communication systems. As a passive device, a DC allows for the precise manipulation and distribution of light between two parallel waveguides within close proximity, enabling highly efficient and compact coupling with minimal loss. This elegant, yet simple structure capitalizes on the waveguiding properties of silicon, leveraging the evanescent coupling between the propagating modes to achieve precise control over the flow of optical power, thereby playing a pivotal role in shaping the future of photonic integrated circuits.\n",
    "\n",
    "Conventional compact DCs often face limitations in terms of narrow bandwidth, while broadband designs tend to require a significantly larger footprint. This document explores a design for compact, broadband DCs, as proposed in `Zeqin Lu, Han Yun, Yun Wang, Zhitian Chen, Fan Zhang, Nicolas A. F. Jaeger, and Lukas Chrostowski, \"Broadband silicon photonic directional coupler using asymmetric-waveguide based phase control,\" Opt. Express 23, 3795-3808 (2015)`, [DOI: 10.1364/OE.23.003795](https://doi.org/10.1364/OE.23.003795). The key innovation in this design, as compared to traditional DCs, lies in its incorporation of an asymmetric-waveguide-based phase control section. To demonstrate a concrete example, we will design a 2x2 DC for the TE mode, with a 50%/50% (-3 dB) splitting ratio, operating within the 1500 nm to 1600 nm range. Different polarizations and splitting ratios can be achieved in a similar design process.\n",
    "\n",
    "Initially, we employ the transfer matrix method (TMM) to model the DC in a semi-analytical manner. TMM necessitates the calculation of effective indices for various waveguide configurations, for which we utilize Tidy3D's [waveguide plugin](https://www.flexcompute.com/tidy3d/examples/notebooks/WaveguidePluginDemonstration/), as it offers a convenient means of performing mode analysis. TMM provides a computationally efficient and accurate preliminary estimation of the ideal design parameters, which are then further optimized using rigorous 3D FDTD simulations. \n",
    "\n",
    "<img src=\"img/broadband_DC_1.png\" width=\"500\" alt=\"Schematic of the DC\">\n",
    "\n",
    "For more integrated photonic examples such as the [8-Channel mode and polarization de-multiplexer](https://www.flexcompute.com/tidy3d/examples/notebooks/8ChannelDemultiplexer/), the [broadband bi-level taper polarization rotator-splitter](https://www.flexcompute.com/tidy3d/examples/notebooks/BilevelPSR/), and the [90 degree optical hybrid](https://www.flexcompute.com/tidy3d/examples/notebooks/90OpticalHybrid/), please visit our [examples page](https://www.flexcompute.com/tidy3d/examples/)."
   ]
  },
  {
   "cell_type": "code",
   "execution_count": 1,
   "id": "2dccd831",
   "metadata": {
    "execution": {
     "iopub.execute_input": "2023-08-18T17:24:22.153290Z",
     "iopub.status.busy": "2023-08-18T17:24:22.152697Z",
     "iopub.status.idle": "2023-08-18T17:24:23.538790Z",
     "shell.execute_reply": "2023-08-18T17:24:23.538195Z"
    }
   },
   "outputs": [],
   "source": [
    "import numpy as np\n",
    "import matplotlib.pyplot as plt\n",
    "import gdstk\n",
    "\n",
    "import tidy3d as td\n",
    "import tidy3d.web as web\n",
    "from tidy3d.plugins import waveguide"
   ]
  },
  {
   "cell_type": "markdown",
   "id": "e767be29",
   "metadata": {},
   "source": [
    "## Transfer Matrix Method (TMM) Analysis "
   ]
  },
  {
   "cell_type": "markdown",
   "id": "41c9cdc2",
   "metadata": {},
   "source": [
    "The broadband DC primarily consists of a symmetric coupler, an asymmetric phase control section, and another symmetric coupler. The three sections are connected via linear tapers. The inputs and outputs are from 90 degree circular bends. \n",
    "\n",
    "We can use TMM to analyze this system. Assuming the input and output fields on the waveguide are $E_1$, $E_2$, $E_3$, and $E_4$, each section of the DC can be represented by a matrix. That is, we can write down the following equation that connects the input and output fields:\n",
    "\n",
    "$\\begin{bmatrix}E_3\\\\E_4\\end{bmatrix} = C \\cdot P_t \\cdot P \\cdot P_t \\cdot C \\cdot \\begin{bmatrix} E_1\\\\E_2 \\end{bmatrix}$.\n",
    "\n",
    "$C =\\begin{bmatrix}t & -jk\\\\-jk & t\\end{bmatrix} e^{-j\\frac{\\pi}{\\lambda}(n_++n_-)L_1}$ represents the symmetric coupler. $t$ and $k$ are the transmission and coupling coefficients given by $t = cos(\\frac{\\pi\\Delta n_{eff}}{\\lambda}L_1) $ and $k = sin(\\frac{\\pi\\Delta n_{eff}}{\\lambda}L_1) $, where $\\Delta n_{eff}=n_+-n_-$. $n_+$ and $n_-$ are the effective indices of the symmetric and anti-symmetric modes, which we will determine from mode analysis using the [waveguide plugin](https://docs.flexcompute.com/projects/tidy3d/en/latest/api/_autosummary/tidy3d.plugins.waveguide.RectangularDielectric.html). \n",
    "\n",
    "$P = \\begin{bmatrix}e^{-j\\frac{2\\pi n_1}{\\lambda}L_2} & 0\\\\0 & e^{-j\\frac{2\\pi n_2}{\\lambda}L_2}\\end{bmatrix}$ represents the asymmetric phase control section. Here $n_1$ and $n_2$ are the effective indices of the lowest order modes, which correspond to modes confined in the top waveguide and bottom waveguide, respectively. We will determine $n_1$ and $n_2$ from mode analysis too.\n",
    "\n",
    "Lastly, $P_t = \\begin{bmatrix}e^{-j\\theta_{t1}} & 0\\\\0 & e^{-j\\theta_{t2}}\\end{bmatrix}$ approximately represents the linear tapers. $\\theta_{t1}$ and $\\theta_{t2}$ are the phase shifts in the top and bottom tapers, which we will determine numerically from quick FDTD simulations. \n",
    "\n",
    "In the [reference](https://opg.optica.org/oe/fulltext.cfm?uri=oe-23-3-3795), a small propagation loss of 2.7 dB/cm is also considered. Since this is a small factor, we choose to ignore it in the analysis without a significant loss of accuracy. \n",
    "\n",
    "After we perform the TMM calculation, we can determine the power splitting ratio by $\\eta_{cross} = \\frac{|E_4|^2}{|E_3|^2+|E_4|^2}$ and $\\eta_{through} = \\frac{|E_3|^2}{|E_3|^2+|E_4|^2}$, assuming the input field is $\\begin{bmatrix}E_1\\\\0\\end{bmatrix}$.\n",
    "\n",
    "\n",
    "<img src=\"img/broadband_DC_2.png\" width=\"700\" alt=\"Top view of the DC\">"
   ]
  },
  {
   "cell_type": "markdown",
   "id": "bc4c6b5f",
   "metadata": {},
   "source": [
    "We are interested in the wavelength range of 1500 nm to 1600 nm. "
   ]
  },
  {
   "cell_type": "code",
   "execution_count": 2,
   "id": "41aad3b8",
   "metadata": {
    "execution": {
     "iopub.execute_input": "2023-08-18T17:24:23.541364Z",
     "iopub.status.busy": "2023-08-18T17:24:23.541070Z",
     "iopub.status.idle": "2023-08-18T17:24:23.560122Z",
     "shell.execute_reply": "2023-08-18T17:24:23.559535Z"
    }
   },
   "outputs": [],
   "source": [
    "lda0 = 1.55  # central wavelength\n",
    "ldas = np.linspace(1.5, 1.6, 101)  # wavelength range of interest\n",
    "freq0 = td.C_0 / lda0  # central frequency\n",
    "freqs = td.C_0 / ldas  # frequency range of interest\n",
    "fwidth = 0.4 * (np.max(freqs) - np.min(freqs))  # frequency width of the source"
   ]
  },
  {
   "cell_type": "markdown",
   "id": "a027789e",
   "metadata": {},
   "source": [
    "The silicon layer is 220 nm. The waveguide width and gap size in the symmetric coupler are 500 nm and 200 nm, respectively.  "
   ]
  },
  {
   "cell_type": "code",
   "execution_count": 3,
   "id": "8cc7ec56",
   "metadata": {
    "execution": {
     "iopub.execute_input": "2023-08-18T17:24:23.562386Z",
     "iopub.status.busy": "2023-08-18T17:24:23.562219Z",
     "iopub.status.idle": "2023-08-18T17:24:23.580334Z",
     "shell.execute_reply": "2023-08-18T17:24:23.579823Z"
    }
   },
   "outputs": [],
   "source": [
    "w_sc = 0.5  # width of waveguides in the symmetric coupler section\n",
    "h_si = 0.22  # thickness of the silicon layer\n",
    "gap_sc = 0.2  # gap size between the waveguides in the symmetric coupler section"
   ]
  },
  {
   "cell_type": "markdown",
   "id": "60f8be20",
   "metadata": {},
   "source": [
    "To define the media, we directly use the dispersive medium model of silicon and oxide from Tidy3D's [material library](https://docs.flexcompute.com/projects/tidy3d/en/latest/api/material_library.html) for convenience. "
   ]
  },
  {
   "cell_type": "code",
   "execution_count": 4,
   "id": "de4b86dc",
   "metadata": {
    "execution": {
     "iopub.execute_input": "2023-08-18T17:24:23.582412Z",
     "iopub.status.busy": "2023-08-18T17:24:23.582246Z",
     "iopub.status.idle": "2023-08-18T17:24:23.600018Z",
     "shell.execute_reply": "2023-08-18T17:24:23.599455Z"
    }
   },
   "outputs": [],
   "source": [
    "# define silicon and silicon dioxide media from material library\n",
    "si = td.material_library[\"cSi\"][\"Li1993_293K\"]\n",
    "sio2 = td.material_library[\"SiO2\"][\"Horiba\"]"
   ]
  },
  {
   "cell_type": "markdown",
   "id": "7fdf1ec5",
   "metadata": {},
   "source": [
    "Now we use the [waveguide plugin](https://docs.flexcompute.com/projects/tidy3d/en/latest/api/_autosummary/tidy3d.plugins.waveguide.RectangularDielectric.html) to perform the mode analysis on the symmetric coupler. Alternatively, one can use the [ModeSolver](https://docs.flexcompute.com/projects/tidy3d/en/latest/api/_autosummary/tidy3d.plugins.mode.ModeSolver.html) plugin to do the same analysis. The [waveguide plugin](https://docs.flexcompute.com/projects/tidy3d/en/latest/api/_autosummary/tidy3d.plugins.waveguide.RectangularDielectric.html) just provides a fast and convenient way of setting up the mode analysis for dielectric waveguides. "
   ]
  },
  {
   "cell_type": "code",
   "execution_count": 5,
   "id": "64f4ad0c",
   "metadata": {
    "execution": {
     "iopub.execute_input": "2023-08-18T17:24:23.602038Z",
     "iopub.status.busy": "2023-08-18T17:24:23.601903Z",
     "iopub.status.idle": "2023-08-18T17:24:23.845203Z",
     "shell.execute_reply": "2023-08-18T17:24:23.844521Z"
    }
   },
   "outputs": [
    {
     "data": {
      "image/png": "[encoded data removed]",
      "text/plain": [
       "<Figure size 640x480 with 1 Axes>"
      ]
     },
     "metadata": {},
     "output_type": "display_data"
    }
   ],
   "source": [
    "# define the symmetric coupler section\n",
    "symmetric_coupler = waveguide.RectangularDielectric(\n",
    "    wavelength=lda0,\n",
    "    core_width=(w_sc, w_sc),\n",
    "    core_thickness=h_si,\n",
    "    core_medium=si,\n",
    "    clad_medium=sio2,\n",
    "    gap=gap_sc,\n",
    "    grid_resolution=40,\n",
    "    mode_spec=td.ModeSpec(num_modes=5, precision=\"double\"),\n",
    ")\n",
    "\n",
    "# plot the cross section\n",
    "symmetric_coupler.plot_structures(x=0)\n",
    "plt.show()"
   ]
  },
  {
   "cell_type": "markdown",
   "id": "25d4c6bd",
   "metadata": {},
   "source": [
    "The effective indices of different modes can be directly calculated. The corresponding mode profiles can be visualized. Here we focus on the two lowest order modes, which are the symmetric and anti-symmetric modes."
   ]
  },
  {
   "cell_type": "code",
   "execution_count": 6,
   "id": "f6ac9551",
   "metadata": {
    "execution": {
     "iopub.execute_input": "2023-08-18T17:24:23.847840Z",
     "iopub.status.busy": "2023-08-18T17:24:23.847662Z",
     "iopub.status.idle": "2023-08-18T17:24:38.311635Z",
     "shell.execute_reply": "2023-08-18T17:24:38.311069Z"
    }
   },
   "outputs": [
    {
     "name": "stdout",
     "output_type": "stream",
     "text": [
      "Effective indices: 2.4591626285320944, 2.4382152325151867\n"
     ]
    },
    {
     "data": {
      "image/png": "[encoded data removed]",
      "text/plain": [
       "<Figure size 1000x400 with 4 Axes>"
      ]
     },
     "metadata": {},
     "output_type": "display_data"
    }
   ],
   "source": [
    "# compute the effective indices for the symmetric and anti-symmetric modes\n",
    "n_p = symmetric_coupler.n_eff.values[0][0]\n",
    "n_m = symmetric_coupler.n_eff.values[0][1]\n",
    "del_n = n_p - n_m\n",
    "print(f\"Effective indices: {n_p}, {n_m}\")\n",
    "\n",
    "# plot the mode profiles\n",
    "fig, (ax1, ax2) = plt.subplots(1, 2, figsize=(10, 4), tight_layout=True)\n",
    "\n",
    "symmetric_coupler.plot_field(\"Ey\", mode_index=0, ax=ax1)\n",
    "symmetric_coupler.plot_field(\"Ey\", mode_index=1, ax=ax2)"
   ]
  },
  {
   "cell_type": "markdown",
   "id": "b2b25d5e",
   "metadata": {},
   "source": [
    "After obtaining $n_+$ and $n_-$, we will calculate $n_1$ and $n_2$ in a similar fashion for the phase control section, where the waveguide widths are 600 nm and 400 nm. The gap is 300 nm."
   ]
  },
  {
   "cell_type": "code",
   "execution_count": 7,
   "id": "95794c46",
   "metadata": {
    "execution": {
     "iopub.execute_input": "2023-08-18T17:24:38.313583Z",
     "iopub.status.busy": "2023-08-18T17:24:38.313398Z",
     "iopub.status.idle": "2023-08-18T17:24:38.486481Z",
     "shell.execute_reply": "2023-08-18T17:24:38.485952Z"
    }
   },
   "outputs": [
    {
     "data": {
      "image/png": "[encoded data removed]",
      "text/plain": [
       "<Figure size 640x480 with 1 Axes>"
      ]
     },
     "metadata": {},
     "output_type": "display_data"
    }
   ],
   "source": [
    "w_top = 0.6  # width of the top waveguide in the phase control section\n",
    "w_bottom = 0.4  # width of the bottom waveguide in the phase control section\n",
    "gap_pc = 0.3  # gap size in the phase control section\n",
    "\n",
    "# define the phase control section\n",
    "phase_control = waveguide.RectangularDielectric(\n",
    "    wavelength=lda0,\n",
    "    core_width=(w_top, w_bottom),\n",
    "    core_thickness=h_si,\n",
    "    core_medium=si,\n",
    "    clad_medium=sio2,\n",
    "    gap=gap_pc,\n",
    "    grid_resolution=40,\n",
    "    mode_spec=td.ModeSpec(num_modes=2, precision=\"double\"),\n",
    ")\n",
    "\n",
    "# plot the cross section\n",
    "phase_control.plot_structures(x=0)\n",
    "plt.show()"
   ]
  },
  {
   "cell_type": "code",
   "execution_count": 8,
   "id": "a91d6a5d",
   "metadata": {
    "execution": {
     "iopub.execute_input": "2023-08-18T17:24:38.488603Z",
     "iopub.status.busy": "2023-08-18T17:24:38.488459Z",
     "iopub.status.idle": "2023-08-18T17:24:49.772566Z",
     "shell.execute_reply": "2023-08-18T17:24:49.771964Z"
    }
   },
   "outputs": [
    {
     "name": "stdout",
     "output_type": "stream",
     "text": [
      "Effective indices: 2.568245448653179, 2.217684204007138\n"
     ]
    },
    {
     "data": {
      "image/png": "[encoded data removed]",
      "text/plain": [
       "<Figure size 1000x400 with 4 Axes>"
      ]
     },
     "metadata": {},
     "output_type": "display_data"
    }
   ],
   "source": [
    "# compute the effective indices for the first two modes\n",
    "n_1 = phase_control.n_eff.values[0][0]\n",
    "n_2 = phase_control.n_eff.values[0][1]\n",
    "print(f\"Effective indices: {n_1}, {n_2}\")\n",
    "\n",
    "# plot the mode profiles\n",
    "fig, (ax1, ax2) = plt.subplots(1, 2, figsize=(10, 4), tight_layout=True)\n",
    "\n",
    "phase_control.plot_field(\"Ey\", mode_index=0, ax=ax1)\n",
    "phase_control.plot_field(\"Ey\", mode_index=1, ax=ax2)"
   ]
  },
  {
   "cell_type": "markdown",
   "id": "50fa4702",
   "metadata": {},
   "source": [
    "To perform the TMM analysis, we still need to obtain $\\theta_{t1}$ and $\\theta_{t2}$. This can be done by setting up FDTD simulations for the tapers. To get the phase shift, we place one [ModeMonitor](https://docs.flexcompute.com/projects/tidy3d/en/latest/api/_autosummary/tidy3d.ModeMonitor.html) right before the taper and another [ModeMonitor](https://docs.flexcompute.com/projects/tidy3d/en/latest/api/_autosummary/tidy3d.ModeMonitor.html) right after the taper. The phase difference calculated from the mode amplitudes is the phase shift we are looking for. Since the tapers are only 1 $\\mu m$ in length, the FDTD simulations are very fast.\n",
    "\n",
    "First, let's do the top taper that transitions from a 500 nm waveguide to a 600 nm waveguide."
   ]
  },
  {
   "cell_type": "code",
   "execution_count": 9,
   "id": "fd2a853f",
   "metadata": {
    "execution": {
     "iopub.execute_input": "2023-08-18T17:24:49.775054Z",
     "iopub.status.busy": "2023-08-18T17:24:49.774897Z",
     "iopub.status.idle": "2023-08-18T17:24:49.796044Z",
     "shell.execute_reply": "2023-08-18T17:24:49.795521Z"
    }
   },
   "outputs": [],
   "source": [
    "L_t = 1  # length of the tapers\n",
    "l = 10  # length of the straight waveguide\n",
    "\n",
    "# define vertices\n",
    "vertices = [(-l, 0), (L_t + l, 0), (L_t + l, w_top), (L_t, w_top), (0, w_sc), (-l, w_sc)]\n",
    "\n",
    "# define the top taper structure\n",
    "taper_top = td.Structure(\n",
    "    geometry=td.PolySlab(\n",
    "        vertices=vertices,\n",
    "        axis=2,\n",
    "        slab_bounds=(-h_si / 2, h_si / 2),\n",
    "    ),\n",
    "    medium=si,\n",
    ")"
   ]
  },
  {
   "cell_type": "code",
   "execution_count": 10,
   "id": "9faea023",
   "metadata": {
    "execution": {
     "iopub.execute_input": "2023-08-18T17:24:49.798519Z",
     "iopub.status.busy": "2023-08-18T17:24:49.798373Z",
     "iopub.status.idle": "2023-08-18T17:24:50.016716Z",
     "shell.execute_reply": "2023-08-18T17:24:50.016123Z"
    }
   },
   "outputs": [
    {
     "data": {
      "image/png": "[encoded data removed]",
      "text/plain": [
       "<Figure size 640x480 with 1 Axes>"
      ]
     },
     "metadata": {},
     "output_type": "display_data"
    }
   ],
   "source": [
    "# simulation domain size\n",
    "Lx = L_t + l / 2\n",
    "Ly = 5 * w_sc\n",
    "Lz = 9 * h_si\n",
    "\n",
    "# define a mode source that injects te mode\n",
    "mode_spec = td.ModeSpec(num_modes=1, target_neff=3.47)\n",
    "mode_source = td.ModeSource(\n",
    "    center=(-l / 5, w_sc / 2, 0),\n",
    "    size=(0, Ly, 4 * h_si),\n",
    "    source_time=td.GaussianPulse(freq0=freq0, fwidth=fwidth),\n",
    "    direction=\"+\",\n",
    "    mode_spec=mode_spec,\n",
    "    mode_index=0,\n",
    "    num_freqs=7,\n",
    ")\n",
    "\n",
    "# define a mode monitor to measure the phase before the taper\n",
    "mode_monitor_1 = td.ModeMonitor(\n",
    "    center=(0, w_sc / 2, 0),\n",
    "    size=(0, Ly, 4 * h_si),\n",
    "    freqs=freqs,\n",
    "    mode_spec=mode_spec,\n",
    "    name=\"mode_1\",\n",
    ")\n",
    "\n",
    "# define a mode monitor to measure the phase after the taper\n",
    "mode_monitor_2 = td.ModeMonitor(\n",
    "    center=(L_t, w_top / 2, 0),\n",
    "    size=(0, Ly, 4 * h_si),\n",
    "    freqs=freqs,\n",
    "    mode_spec=mode_spec,\n",
    "    name=\"mode_2\",\n",
    ")\n",
    "\n",
    "run_time = 4e-13  # simulation run time\n",
    "\n",
    "# define a simulation\n",
    "sim = td.Simulation(\n",
    "    center=(0, w_sc / 2, 0),\n",
    "    size=(Lx, Ly, Lz),\n",
    "    grid_spec=td.GridSpec.auto(min_steps_per_wvl=20, wavelength=lda0),\n",
    "    structures=[taper_top],\n",
    "    sources=[mode_source],\n",
    "    monitors=[mode_monitor_1, mode_monitor_2],\n",
    "    run_time=run_time,\n",
    "    medium=sio2,\n",
    ")\n",
    "\n",
    "# plot simulation\n",
    "sim.plot(z=0)\n",
    "plt.show()"
   ]
  },
  {
   "cell_type": "code",
   "execution_count": 11,
   "id": "71c60cd6",
   "metadata": {
    "execution": {
     "iopub.execute_input": "2023-08-18T17:24:50.019115Z",
     "iopub.status.busy": "2023-08-18T17:24:50.018961Z",
     "iopub.status.idle": "2023-08-18T17:26:01.607027Z",
     "shell.execute_reply": "2023-08-18T17:26:01.606376Z"
    }
   },
   "outputs": [
    {
     "data": {
      "text/html": [
       "<pre style=\"white-space:pre;overflow-x:auto;line-height:normal;font-family:Menlo,'DejaVu Sans Mono',consolas,'Courier New',monospace\"><span style=\"color: #7fbfbf; text-decoration-color: #7fbfbf\">17:58:14 Eastern Standard Time </span>Created task <span style=\"color: #008000; text-decoration-color: #008000\">'top_taper'</span> with task_id            \n",
       "<span style=\"color: #7fbfbf; text-decoration-color: #7fbfbf\">                               </span><span style=\"color: #008000; text-decoration-color: #008000\">'fdve-21eef95a-2a4d-47ee-bc37-edeedbb0834b'</span> and  \n",
       "<span style=\"color: #7fbfbf; text-decoration-color: #7fbfbf\">                               </span>task_type <span style=\"color: #008000; text-decoration-color: #008000\">'FDTD'</span>.                                \n",
       "</pre>\n"
      ],
      "text/plain": [
       "\u001b[2;36m17:58:14 Eastern Standard Time\u001b[0m\u001b[2;36m \u001b[0mCreated task \u001b[32m'top_taper'\u001b[0m with task_id            \n",
       "\u001b[2;36m                               \u001b[0m\u001b[32m'fdve-21eef95a-2a4d-47ee-bc37-edeedbb0834b'\u001b[0m and  \n",
       "\u001b[2;36m                               \u001b[0mtask_type \u001b[32m'FDTD'\u001b[0m.                                \n"
      ]
     },
     "metadata": {},
     "output_type": "display_data"
    },
    {
     "data": {
      "text/html": [
       "<pre style=\"white-space:pre;overflow-x:auto;line-height:normal;font-family:Menlo,'DejaVu Sans Mono',consolas,'Courier New',monospace\"><span style=\"color: #7fbfbf; text-decoration-color: #7fbfbf\">                               </span>View task using web UI at                        \n",
       "<span style=\"color: #7fbfbf; text-decoration-color: #7fbfbf\">                               </span><a href=\"https://tidy3d.simulation.cloud/workbench?taskId=fdve-21eef95a-2a4d-47ee-bc37-edeedbb0834b\" target=\"_blank\"><span style=\"color: #008000; text-decoration-color: #008000\">'https://tidy3d.simulation.cloud/workbench?taskId</span></a>\n",
       "<span style=\"color: #7fbfbf; text-decoration-color: #7fbfbf\">                               </span><a href=\"https://tidy3d.simulation.cloud/workbench?taskId=fdve-21eef95a-2a4d-47ee-bc37-edeedbb0834b\" target=\"_blank\"><span style=\"color: #008000; text-decoration-color: #008000\">=fdve-21eef95a-2a4d-47ee-bc37-edeedbb0834b'</span></a>.     \n",
       "</pre>\n"
      ],
      "text/plain": [
       "\u001b[2;36m                              \u001b[0m\u001b[2;36m \u001b[0mView task using web UI at                        \n",
       "\u001b[2;36m                               \u001b[0m\u001b]8;id=293190;https://tidy3d.simulation.cloud/workbench?taskId=fdve-21eef95a-2a4d-47ee-bc37-edeedbb0834b\u001b\\\u001b[32m'https://tidy3d.simulation.cloud/workbench?\u001b[0m\u001b]8;;\u001b\\\u001b]8;id=619830;https://tidy3d.simulation.cloud/workbench?taskId=fdve-21eef95a-2a4d-47ee-bc37-edeedbb0834b\u001b\\\u001b[32mtaskId\u001b[0m\u001b]8;;\u001b\\\n",
       "\u001b[2;36m                               \u001b[0m\u001b]8;id=293190;https://tidy3d.simulation.cloud/workbench?taskId=fdve-21eef95a-2a4d-47ee-bc37-edeedbb0834b\u001b\\\u001b[32m=\u001b[0m\u001b]8;;\u001b\\\u001b]8;id=443988;https://tidy3d.simulation.cloud/workbench?taskId=fdve-21eef95a-2a4d-47ee-bc37-edeedbb0834b\u001b\\\u001b[32mfdve\u001b[0m\u001b]8;;\u001b\\\u001b]8;id=293190;https://tidy3d.simulation.cloud/workbench?taskId=fdve-21eef95a-2a4d-47ee-bc37-edeedbb0834b\u001b\\\u001b[32m-21eef95a-2a4d-47ee-bc37-edeedbb0834b'\u001b[0m\u001b]8;;\u001b\\.     \n"
      ]
     },
     "metadata": {},
     "output_type": "display_data"
    },
    {
     "data": {
      "application/vnd.jupyter.widget-view+json": {
       "model_id": "f5b1331ff3a447a79fa1cd4e50c194ee",
       "version_major": 2,
       "version_minor": 0
      },
      "text/plain": [
       "Output()"
      ]
     },
     "metadata": {},
     "output_type": "display_data"
    },
    {
     "data": {
      "text/html": [
       "<pre style=\"white-space:pre;overflow-x:auto;line-height:normal;font-family:Menlo,'DejaVu Sans Mono',consolas,'Courier New',monospace\"></pre>\n"
      ],
      "text/plain": []
     },
     "metadata": {},
     "output_type": "display_data"
    },
    {
     "data": {
      "text/html": [
       "<pre style=\"white-space:pre;overflow-x:auto;line-height:normal;font-family:Menlo,'DejaVu Sans Mono',consolas,'Courier New',monospace\">\n",
       "</pre>\n"
      ],
      "text/plain": [
       "\n"
      ]
     },
     "metadata": {},
     "output_type": "display_data"
    },
    {
     "data": {
      "text/html": [
       "<pre style=\"white-space:pre;overflow-x:auto;line-height:normal;font-family:Menlo,'DejaVu Sans Mono',consolas,'Courier New',monospace\"><span style=\"color: #7fbfbf; text-decoration-color: #7fbfbf\">17:58:22 Eastern Standard Time </span>status = queued                                  \n",
       "</pre>\n"
      ],
      "text/plain": [
       "\u001b[2;36m17:58:22 Eastern Standard Time\u001b[0m\u001b[2;36m \u001b[0mstatus = queued                                  \n"
      ]
     },
     "metadata": {},
     "output_type": "display_data"
    },
    {
     "data": {
      "application/vnd.jupyter.widget-view+json": {
       "model_id": "",
       "version_major": 2,
       "version_minor": 0
      },
      "text/plain": [
       "Output()"
      ]
     },
     "metadata": {},
     "output_type": "display_data"
    },
    {
     "data": {
      "text/html": [
       "<pre style=\"white-space:pre;overflow-x:auto;line-height:normal;font-family:Menlo,'DejaVu Sans Mono',consolas,'Courier New',monospace\"><span style=\"color: #7fbfbf; text-decoration-color: #7fbfbf\">17:58:26 Eastern Standard Time </span>status = preprocess                              \n",
       "</pre>\n"
      ],
      "text/plain": [
       "\u001b[2;36m17:58:26 Eastern Standard Time\u001b[0m\u001b[2;36m \u001b[0mstatus = preprocess                              \n"
      ]
     },
     "metadata": {},
     "output_type": "display_data"
    },
    {
     "data": {
      "text/html": [
       "<pre style=\"white-space:pre;overflow-x:auto;line-height:normal;font-family:Menlo,'DejaVu Sans Mono',consolas,'Courier New',monospace\"></pre>\n"
      ],
      "text/plain": []
     },
     "metadata": {},
     "output_type": "display_data"
    },
    {
     "data": {
      "text/html": [
       "<pre style=\"white-space:pre;overflow-x:auto;line-height:normal;font-family:Menlo,'DejaVu Sans Mono',consolas,'Courier New',monospace\"><span style=\"color: #7fbfbf; text-decoration-color: #7fbfbf\">17:58:33 Eastern Standard Time </span>Maximum FlexCredit cost: <span style=\"color: #008080; text-decoration-color: #008080; font-weight: bold\">0.039</span>. Use              \n",
       "<span style=\"color: #7fbfbf; text-decoration-color: #7fbfbf\">                               </span><span style=\"color: #008000; text-decoration-color: #008000\">'web.real_cost(task_id)'</span> to get the billed       \n",
       "<span style=\"color: #7fbfbf; text-decoration-color: #7fbfbf\">                               </span>FlexCredit cost after a simulation run.          \n",
       "</pre>\n"
      ],
      "text/plain": [
       "\u001b[2;36m17:58:33 Eastern Standard Time\u001b[0m\u001b[2;36m \u001b[0mMaximum FlexCredit cost: \u001b[1;36m0.039\u001b[0m. Use              \n",
       "\u001b[2;36m                               \u001b[0m\u001b[32m'web.real_cost\u001b[0m\u001b[32m(\u001b[0m\u001b[32mtask_id\u001b[0m\u001b[32m)\u001b[0m\u001b[32m'\u001b[0m to get the billed       \n",
       "\u001b[2;36m                               \u001b[0mFlexCredit cost after a simulation run.          \n"
      ]
     },
     "metadata": {},
     "output_type": "display_data"
    },
    {
     "data": {
      "text/html": [
       "<pre style=\"white-space:pre;overflow-x:auto;line-height:normal;font-family:Menlo,'DejaVu Sans Mono',consolas,'Courier New',monospace\"><span style=\"color: #7fbfbf; text-decoration-color: #7fbfbf\">                               </span>starting up solver                               \n",
       "</pre>\n"
      ],
      "text/plain": [
       "\u001b[2;36m                              \u001b[0m\u001b[2;36m \u001b[0mstarting up solver                               \n"
      ]
     },
     "metadata": {},
     "output_type": "display_data"
    },
    {
     "data": {
      "text/html": [
       "<pre style=\"white-space:pre;overflow-x:auto;line-height:normal;font-family:Menlo,'DejaVu Sans Mono',consolas,'Courier New',monospace\"><span style=\"color: #7fbfbf; text-decoration-color: #7fbfbf\">                               </span>running solver                                   \n",
       "</pre>\n"
      ],
      "text/plain": [
       "\u001b[2;36m                              \u001b[0m\u001b[2;36m \u001b[0mrunning solver                                   \n"
      ]
     },
     "metadata": {},
     "output_type": "display_data"
    },
    {
     "data": {
      "text/html": [
       "<pre style=\"white-space:pre;overflow-x:auto;line-height:normal;font-family:Menlo,'DejaVu Sans Mono',consolas,'Courier New',monospace\"><span style=\"color: #7fbfbf; text-decoration-color: #7fbfbf\">                               </span>To cancel the simulation, use                    \n",
       "<span style=\"color: #7fbfbf; text-decoration-color: #7fbfbf\">                               </span><span style=\"color: #008000; text-decoration-color: #008000\">'web.abort(task_id)'</span> or <span style=\"color: #008000; text-decoration-color: #008000\">'web.delete(task_id)'</span> or \n",
       "<span style=\"color: #7fbfbf; text-decoration-color: #7fbfbf\">                               </span>abort/delete the task in the web UI. Terminating \n",
       "<span style=\"color: #7fbfbf; text-decoration-color: #7fbfbf\">                               </span>the Python script will not stop the job running  \n",
       "<span style=\"color: #7fbfbf; text-decoration-color: #7fbfbf\">                               </span>on the cloud.                                    \n",
       "</pre>\n"
      ],
      "text/plain": [
       "\u001b[2;36m                              \u001b[0m\u001b[2;36m \u001b[0mTo cancel the simulation, use                    \n",
       "\u001b[2;36m                               \u001b[0m\u001b[32m'web.abort\u001b[0m\u001b[32m(\u001b[0m\u001b[32mtask_id\u001b[0m\u001b[32m)\u001b[0m\u001b[32m'\u001b[0m or \u001b[32m'web.delete\u001b[0m\u001b[32m(\u001b[0m\u001b[32mtask_id\u001b[0m\u001b[32m)\u001b[0m\u001b[32m'\u001b[0m or \n",
       "\u001b[2;36m                               \u001b[0mabort/delete the task in the web UI. Terminating \n",
       "\u001b[2;36m                               \u001b[0mthe Python script will not stop the job running  \n",
       "\u001b[2;36m                               \u001b[0mon the cloud.                                    \n"
      ]
     },
     "metadata": {},
     "output_type": "display_data"
    },
    {
     "data": {
      "application/vnd.jupyter.widget-view+json": {
       "model_id": "d34ee4601f384e5bac59dd939c5f9398",
       "version_major": 2,
       "version_minor": 0
      },
      "text/plain": [
       "Output()"
      ]
     },
     "metadata": {},
     "output_type": "display_data"
    },
    {
     "data": {
      "text/html": [
       "<pre style=\"white-space:pre;overflow-x:auto;line-height:normal;font-family:Menlo,'DejaVu Sans Mono',consolas,'Courier New',monospace\"><span style=\"color: #7fbfbf; text-decoration-color: #7fbfbf\">17:59:10 Eastern Standard Time </span>early shutoff detected at <span style=\"color: #008080; text-decoration-color: #008080; font-weight: bold\">84</span>%, exiting.          \n",
       "</pre>\n"
      ],
      "text/plain": [
       "\u001b[2;36m17:59:10 Eastern Standard Time\u001b[0m\u001b[2;36m \u001b[0mearly shutoff detected at \u001b[1;36m84\u001b[0m%, exiting.          \n"
      ]
     },
     "metadata": {},
     "output_type": "display_data"
    },
    {
     "data": {
      "text/html": [
       "<pre style=\"white-space:pre;overflow-x:auto;line-height:normal;font-family:Menlo,'DejaVu Sans Mono',consolas,'Courier New',monospace\"></pre>\n"
      ],
      "text/plain": []
     },
     "metadata": {},
     "output_type": "display_data"
    },
    {
     "data": {
      "text/html": [
       "<pre style=\"white-space:pre;overflow-x:auto;line-height:normal;font-family:Menlo,'DejaVu Sans Mono',consolas,'Courier New',monospace\">\n",
       "</pre>\n"
      ],
      "text/plain": [
       "\n"
      ]
     },
     "metadata": {},
     "output_type": "display_data"
    },
    {
     "data": {
      "text/html": [
       "<pre style=\"white-space:pre;overflow-x:auto;line-height:normal;font-family:Menlo,'DejaVu Sans Mono',consolas,'Courier New',monospace\"><span style=\"color: #7fbfbf; text-decoration-color: #7fbfbf\">                               </span>status = postprocess                             \n",
       "</pre>\n"
      ],
      "text/plain": [
       "\u001b[2;36m                              \u001b[0m\u001b[2;36m \u001b[0mstatus = postprocess                             \n"
      ]
     },
     "metadata": {},
     "output_type": "display_data"
    },
    {
     "data": {
      "application/vnd.jupyter.widget-view+json": {
       "model_id": "",
       "version_major": 2,
       "version_minor": 0
      },
      "text/plain": [
       "Output()"
      ]
     },
     "metadata": {},
     "output_type": "display_data"
    },
    {
     "data": {
      "text/html": [
       "<pre style=\"white-space:pre;overflow-x:auto;line-height:normal;font-family:Menlo,'DejaVu Sans Mono',consolas,'Courier New',monospace\"><span style=\"color: #7fbfbf; text-decoration-color: #7fbfbf\">17:59:15 Eastern Standard Time </span>status = success                                 \n",
       "</pre>\n"
      ],
      "text/plain": [
       "\u001b[2;36m17:59:15 Eastern Standard Time\u001b[0m\u001b[2;36m \u001b[0mstatus = success                                 \n"
      ]
     },
     "metadata": {},
     "output_type": "display_data"
    },
    {
     "data": {
      "text/html": [
       "<pre style=\"white-space:pre;overflow-x:auto;line-height:normal;font-family:Menlo,'DejaVu Sans Mono',consolas,'Courier New',monospace\"></pre>\n"
      ],
      "text/plain": []
     },
     "metadata": {},
     "output_type": "display_data"
    },
    {
     "data": {
      "text/html": [
       "<pre style=\"white-space:pre;overflow-x:auto;line-height:normal;font-family:Menlo,'DejaVu Sans Mono',consolas,'Courier New',monospace\"><span style=\"color: #7fbfbf; text-decoration-color: #7fbfbf\">17:59:16 Eastern Standard Time </span>View simulation result at                        \n",
       "<span style=\"color: #7fbfbf; text-decoration-color: #7fbfbf\">                               </span><a href=\"https://tidy3d.simulation.cloud/workbench?taskId=fdve-21eef95a-2a4d-47ee-bc37-edeedbb0834b\" target=\"_blank\"><span style=\"color: #000080; text-decoration-color: #000080; text-decoration: underline\">'https://tidy3d.simulation.cloud/workbench?taskId</span></a>\n",
       "<span style=\"color: #7fbfbf; text-decoration-color: #7fbfbf\">                               </span><a href=\"https://tidy3d.simulation.cloud/workbench?taskId=fdve-21eef95a-2a4d-47ee-bc37-edeedbb0834b\" target=\"_blank\"><span style=\"color: #000080; text-decoration-color: #000080; text-decoration: underline\">=fdve-21eef95a-2a4d-47ee-bc37-edeedbb0834b'</span></a><span style=\"color: #000080; text-decoration-color: #000080; text-decoration: underline\">.</span>     \n",
       "</pre>\n"
      ],
      "text/plain": [
       "\u001b[2;36m17:59:16 Eastern Standard Time\u001b[0m\u001b[2;36m \u001b[0mView simulation result at                        \n",
       "\u001b[2;36m                               \u001b[0m\u001b]8;id=607489;https://tidy3d.simulation.cloud/workbench?taskId=fdve-21eef95a-2a4d-47ee-bc37-edeedbb0834b\u001b\\\u001b[4;34m'https://tidy3d.simulation.cloud/workbench?\u001b[0m\u001b]8;;\u001b\\\u001b]8;id=45622;https://tidy3d.simulation.cloud/workbench?taskId=fdve-21eef95a-2a4d-47ee-bc37-edeedbb0834b\u001b\\\u001b[4;34mtaskId\u001b[0m\u001b]8;;\u001b\\\n",
       "\u001b[2;36m                               \u001b[0m\u001b]8;id=607489;https://tidy3d.simulation.cloud/workbench?taskId=fdve-21eef95a-2a4d-47ee-bc37-edeedbb0834b\u001b\\\u001b[4;34m=\u001b[0m\u001b]8;;\u001b\\\u001b]8;id=301836;https://tidy3d.simulation.cloud/workbench?taskId=fdve-21eef95a-2a4d-47ee-bc37-edeedbb0834b\u001b\\\u001b[4;34mfdve\u001b[0m\u001b]8;;\u001b\\\u001b]8;id=607489;https://tidy3d.simulation.cloud/workbench?taskId=fdve-21eef95a-2a4d-47ee-bc37-edeedbb0834b\u001b\\\u001b[4;34m-21eef95a-2a4d-47ee-bc37-edeedbb0834b'\u001b[0m\u001b]8;;\u001b\\\u001b[4;34m.\u001b[0m     \n"
      ]
     },
     "metadata": {},
     "output_type": "display_data"
    },
    {
     "data": {
      "application/vnd.jupyter.widget-view+json": {
       "model_id": "9aae40771d6f4569a9a46cb4d8bfd004",
       "version_major": 2,
       "version_minor": 0
      },
      "text/plain": [
       "Output()"
      ]
     },
     "metadata": {},
     "output_type": "display_data"
    },
    {
     "data": {
      "text/html": [
       "<pre style=\"white-space:pre;overflow-x:auto;line-height:normal;font-family:Menlo,'DejaVu Sans Mono',consolas,'Courier New',monospace\"></pre>\n"
      ],
      "text/plain": []
     },
     "metadata": {},
     "output_type": "display_data"
    },
    {
     "data": {
      "text/html": [
       "<pre style=\"white-space:pre;overflow-x:auto;line-height:normal;font-family:Menlo,'DejaVu Sans Mono',consolas,'Courier New',monospace\">\n",
       "</pre>\n"
      ],
      "text/plain": [
       "\n"
      ]
     },
     "metadata": {},
     "output_type": "display_data"
    },
    {
     "data": {
      "text/html": [
       "<pre style=\"white-space:pre;overflow-x:auto;line-height:normal;font-family:Menlo,'DejaVu Sans Mono',consolas,'Courier New',monospace\"><span style=\"color: #7fbfbf; text-decoration-color: #7fbfbf\">17:59:17 Eastern Standard Time </span>loading simulation from data/simulation_data.hdf5\n",
       "</pre>\n"
      ],
      "text/plain": [
       "\u001b[2;36m17:59:17 Eastern Standard Time\u001b[0m\u001b[2;36m \u001b[0mloading simulation from data/simulation_data.hdf5\n"
      ]
     },
     "metadata": {},
     "output_type": "display_data"
    }
   ],
   "source": [
    "job = web.Job(simulation=sim, task_name=\"top_taper\")\n",
    "sim_data = job.run(path=\"data/simulation_data.hdf5\")"
   ]
  },
  {
   "cell_type": "markdown",
   "id": "2afb87ea",
   "metadata": {},
   "source": [
    "Compute and plot $\\theta_{t1}$. As expected, the phase shift is linear. Note that the phase is only significant mod 2$\\pi$."
   ]
  },
  {
   "cell_type": "code",
   "execution_count": 12,
   "id": "477b3a7f",
   "metadata": {
    "execution": {
     "iopub.execute_input": "2023-08-18T17:26:02.847293Z",
     "iopub.status.busy": "2023-08-18T17:26:02.847160Z",
     "iopub.status.idle": "2023-08-18T17:26:03.020429Z",
     "shell.execute_reply": "2023-08-18T17:26:03.019898Z"
    }
   },
   "outputs": [
    {
     "data": {
      "image/png": "[encoded data removed]",
      "text/plain": [
       "<Figure size 640x480 with 1 Axes>"
      ]
     },
     "metadata": {},
     "output_type": "display_data"
    }
   ],
   "source": [
    "# phase at the first monitor\n",
    "phase_1 = np.angle(sim_data[\"mode_1\"].amps.sel(mode_index=0, direction=\"+\"))\n",
    "\n",
    "# phase at the second monitor\n",
    "phase_2 = np.angle(sim_data[\"mode_2\"].amps.sel(mode_index=0, direction=\"+\"))\n",
    "\n",
    "# phase shift at the top taper\n",
    "theta_t1 = phase_2 - phase_1\n",
    "\n",
    "plt.plot(ldas, np.unwrap(theta_t1))\n",
    "plt.xlabel(\"$\\lambda (\\mu m)$\")\n",
    "plt.ylabel(\"Phase shift\")\n",
    "plt.xlim(1.5, 1.6)\n",
    "plt.show()"
   ]
  },
  {
   "cell_type": "markdown",
   "id": "99074deb",
   "metadata": {},
   "source": [
    "Similarly, we simulate the taper that transitions from a 500 nm waveguide to a 300 nm waveguide."
   ]
  },
  {
   "cell_type": "code",
   "execution_count": 13,
   "id": "eb2a75e0",
   "metadata": {
    "execution": {
     "iopub.execute_input": "2023-08-18T17:26:03.022431Z",
     "iopub.status.busy": "2023-08-18T17:26:03.022285Z",
     "iopub.status.idle": "2023-08-18T17:26:03.232286Z",
     "shell.execute_reply": "2023-08-18T17:26:03.231661Z"
    }
   },
   "outputs": [
    {
     "data": {
      "image/png": "[encoded data removed]",
      "text/plain": [
       "<Figure size 640x480 with 1 Axes>"
      ]
     },
     "metadata": {},
     "output_type": "display_data"
    }
   ],
   "source": [
    "# define vertices\n",
    "vertices = [(-l, 0), (L_t + l, 0), (L_t + l, w_bottom), (L_t, w_bottom), (0, w_sc), (-l, w_sc)]\n",
    "\n",
    "# define the bottom taper structure\n",
    "taper_bottom = td.Structure(\n",
    "    geometry=td.PolySlab(\n",
    "        vertices=vertices,\n",
    "        axis=2,\n",
    "        slab_bounds=(-h_si / 2, h_si / 2),\n",
    "    ),\n",
    "    medium=si,\n",
    ")\n",
    "\n",
    "# copy previous simulation and update the structure\n",
    "sim = sim.copy(update={\"structures\": [taper_bottom]})\n",
    "sim.plot(z=0)\n",
    "plt.show()"
   ]
  },
  {
   "cell_type": "markdown",
   "id": "cb906ac6",
   "metadata": {},
   "source": [
    "Compute and plot $\\theta_{t2}$."
   ]
  },
  {
   "cell_type": "code",
   "execution_count": 14,
   "id": "5b2f6267",
   "metadata": {
    "execution": {
     "iopub.execute_input": "2023-08-18T17:26:03.235103Z",
     "iopub.status.busy": "2023-08-18T17:26:03.234826Z",
     "iopub.status.idle": "2023-08-18T17:27:45.900957Z",
     "shell.execute_reply": "2023-08-18T17:27:45.900371Z"
    }
   },
   "outputs": [
    {
     "data": {
      "text/html": [
       "<pre style=\"white-space:pre;overflow-x:auto;line-height:normal;font-family:Menlo,'DejaVu Sans Mono',consolas,'Courier New',monospace\"><span style=\"color: #7fbfbf; text-decoration-color: #7fbfbf\">                               </span>Created task <span style=\"color: #008000; text-decoration-color: #008000\">'bottom_taper'</span> with task_id         \n",
       "<span style=\"color: #7fbfbf; text-decoration-color: #7fbfbf\">                               </span><span style=\"color: #008000; text-decoration-color: #008000\">'fdve-57a68fa9-6867-4d11-a985-e98592cdf6b3'</span> and  \n",
       "<span style=\"color: #7fbfbf; text-decoration-color: #7fbfbf\">                               </span>task_type <span style=\"color: #008000; text-decoration-color: #008000\">'FDTD'</span>.                                \n",
       "</pre>\n"
      ],
      "text/plain": [
       "\u001b[2;36m                              \u001b[0m\u001b[2;36m \u001b[0mCreated task \u001b[32m'bottom_taper'\u001b[0m with task_id         \n",
       "\u001b[2;36m                               \u001b[0m\u001b[32m'fdve-57a68fa9-6867-4d11-a985-e98592cdf6b3'\u001b[0m and  \n",
       "\u001b[2;36m                               \u001b[0mtask_type \u001b[32m'FDTD'\u001b[0m.                                \n"
      ]
     },
     "metadata": {},
     "output_type": "display_data"
    },
    {
     "data": {
      "text/html": [
       "<pre style=\"white-space:pre;overflow-x:auto;line-height:normal;font-family:Menlo,'DejaVu Sans Mono',consolas,'Courier New',monospace\"><span style=\"color: #7fbfbf; text-decoration-color: #7fbfbf\">                               </span>View task using web UI at                        \n",
       "<span style=\"color: #7fbfbf; text-decoration-color: #7fbfbf\">                               </span><a href=\"https://tidy3d.simulation.cloud/workbench?taskId=fdve-57a68fa9-6867-4d11-a985-e98592cdf6b3\" target=\"_blank\"><span style=\"color: #008000; text-decoration-color: #008000\">'https://tidy3d.simulation.cloud/workbench?taskId</span></a>\n",
       "<span style=\"color: #7fbfbf; text-decoration-color: #7fbfbf\">                               </span><a href=\"https://tidy3d.simulation.cloud/workbench?taskId=fdve-57a68fa9-6867-4d11-a985-e98592cdf6b3\" target=\"_blank\"><span style=\"color: #008000; text-decoration-color: #008000\">=fdve-57a68fa9-6867-4d11-a985-e98592cdf6b3'</span></a>.     \n",
       "</pre>\n"
      ],
      "text/plain": [
       "\u001b[2;36m                              \u001b[0m\u001b[2;36m \u001b[0mView task using web UI at                        \n",
       "\u001b[2;36m                               \u001b[0m\u001b]8;id=292069;https://tidy3d.simulation.cloud/workbench?taskId=fdve-57a68fa9-6867-4d11-a985-e98592cdf6b3\u001b\\\u001b[32m'https://tidy3d.simulation.cloud/workbench?\u001b[0m\u001b]8;;\u001b\\\u001b]8;id=276058;https://tidy3d.simulation.cloud/workbench?taskId=fdve-57a68fa9-6867-4d11-a985-e98592cdf6b3\u001b\\\u001b[32mtaskId\u001b[0m\u001b]8;;\u001b\\\n",
       "\u001b[2;36m                               \u001b[0m\u001b]8;id=292069;https://tidy3d.simulation.cloud/workbench?taskId=fdve-57a68fa9-6867-4d11-a985-e98592cdf6b3\u001b\\\u001b[32m=\u001b[0m\u001b]8;;\u001b\\\u001b]8;id=116125;https://tidy3d.simulation.cloud/workbench?taskId=fdve-57a68fa9-6867-4d11-a985-e98592cdf6b3\u001b\\\u001b[32mfdve\u001b[0m\u001b]8;;\u001b\\\u001b]8;id=292069;https://tidy3d.simulation.cloud/workbench?taskId=fdve-57a68fa9-6867-4d11-a985-e98592cdf6b3\u001b\\\u001b[32m-57a68fa9-6867-4d11-a985-e98592cdf6b3'\u001b[0m\u001b]8;;\u001b\\.     \n"
      ]
     },
     "metadata": {},
     "output_type": "display_data"
    },
    {
     "data": {
      "application/vnd.jupyter.widget-view+json": {
       "model_id": "9479a4cdc4d441d3bf3f34e889349d9d",
       "version_major": 2,
       "version_minor": 0
      },
      "text/plain": [
       "Output()"
      ]
     },
     "metadata": {},
     "output_type": "display_data"
    },
    {
     "data": {
      "text/html": [
       "<pre style=\"white-space:pre;overflow-x:auto;line-height:normal;font-family:Menlo,'DejaVu Sans Mono',consolas,'Courier New',monospace\"></pre>\n"
      ],
      "text/plain": []
     },
     "metadata": {},
     "output_type": "display_data"
    },
    {
     "data": {
      "text/html": [
       "<pre style=\"white-space:pre;overflow-x:auto;line-height:normal;font-family:Menlo,'DejaVu Sans Mono',consolas,'Courier New',monospace\">\n",
       "</pre>\n"
      ],
      "text/plain": [
       "\n"
      ]
     },
     "metadata": {},
     "output_type": "display_data"
    },
    {
     "data": {
      "text/html": [
       "<pre style=\"white-space:pre;overflow-x:auto;line-height:normal;font-family:Menlo,'DejaVu Sans Mono',consolas,'Courier New',monospace\"><span style=\"color: #7fbfbf; text-decoration-color: #7fbfbf\">17:59:19 Eastern Standard Time </span>status = queued                                  \n",
       "</pre>\n"
      ],
      "text/plain": [
       "\u001b[2;36m17:59:19 Eastern Standard Time\u001b[0m\u001b[2;36m \u001b[0mstatus = queued                                  \n"
      ]
     },
     "metadata": {},
     "output_type": "display_data"
    },
    {
     "data": {
      "application/vnd.jupyter.widget-view+json": {
       "model_id": "",
       "version_major": 2,
       "version_minor": 0
      },
      "text/plain": [
       "Output()"
      ]
     },
     "metadata": {},
     "output_type": "display_data"
    },
    {
     "data": {
      "text/html": [
       "<pre style=\"white-space:pre;overflow-x:auto;line-height:normal;font-family:Menlo,'DejaVu Sans Mono',consolas,'Courier New',monospace\"><span style=\"color: #7fbfbf; text-decoration-color: #7fbfbf\">17:59:23 Eastern Standard Time </span>status = preprocess                              \n",
       "</pre>\n"
      ],
      "text/plain": [
       "\u001b[2;36m17:59:23 Eastern Standard Time\u001b[0m\u001b[2;36m \u001b[0mstatus = preprocess                              \n"
      ]
     },
     "metadata": {},
     "output_type": "display_data"
    },
    {
     "data": {
      "text/html": [
       "<pre style=\"white-space:pre;overflow-x:auto;line-height:normal;font-family:Menlo,'DejaVu Sans Mono',consolas,'Courier New',monospace\"></pre>\n"
      ],
      "text/plain": []
     },
     "metadata": {},
     "output_type": "display_data"
    },
    {
     "data": {
      "text/html": [
       "<pre style=\"white-space:pre;overflow-x:auto;line-height:normal;font-family:Menlo,'DejaVu Sans Mono',consolas,'Courier New',monospace\"><span style=\"color: #7fbfbf; text-decoration-color: #7fbfbf\">17:59:29 Eastern Standard Time </span>Maximum FlexCredit cost: <span style=\"color: #008080; text-decoration-color: #008080; font-weight: bold\">0.039</span>. Use              \n",
       "<span style=\"color: #7fbfbf; text-decoration-color: #7fbfbf\">                               </span><span style=\"color: #008000; text-decoration-color: #008000\">'web.real_cost(task_id)'</span> to get the billed       \n",
       "<span style=\"color: #7fbfbf; text-decoration-color: #7fbfbf\">                               </span>FlexCredit cost after a simulation run.          \n",
       "</pre>\n"
      ],
      "text/plain": [
       "\u001b[2;36m17:59:29 Eastern Standard Time\u001b[0m\u001b[2;36m \u001b[0mMaximum FlexCredit cost: \u001b[1;36m0.039\u001b[0m. Use              \n",
       "\u001b[2;36m                               \u001b[0m\u001b[32m'web.real_cost\u001b[0m\u001b[32m(\u001b[0m\u001b[32mtask_id\u001b[0m\u001b[32m)\u001b[0m\u001b[32m'\u001b[0m to get the billed       \n",
       "\u001b[2;36m                               \u001b[0mFlexCredit cost after a simulation run.          \n"
      ]
     },
     "metadata": {},
     "output_type": "display_data"
    },
    {
     "data": {
      "text/html": [
       "<pre style=\"white-space:pre;overflow-x:auto;line-height:normal;font-family:Menlo,'DejaVu Sans Mono',consolas,'Courier New',monospace\"><span style=\"color: #7fbfbf; text-decoration-color: #7fbfbf\">                               </span>starting up solver                               \n",
       "</pre>\n"
      ],
      "text/plain": [
       "\u001b[2;36m                              \u001b[0m\u001b[2;36m \u001b[0mstarting up solver                               \n"
      ]
     },
     "metadata": {},
     "output_type": "display_data"
    },
    {
     "data": {
      "text/html": [
       "<pre style=\"white-space:pre;overflow-x:auto;line-height:normal;font-family:Menlo,'DejaVu Sans Mono',consolas,'Courier New',monospace\"><span style=\"color: #7fbfbf; text-decoration-color: #7fbfbf\">                               </span>running solver                                   \n",
       "</pre>\n"
      ],
      "text/plain": [
       "\u001b[2;36m                              \u001b[0m\u001b[2;36m \u001b[0mrunning solver                                   \n"
      ]
     },
     "metadata": {},
     "output_type": "display_data"
    },
    {
     "data": {
      "text/html": [
       "<pre style=\"white-space:pre;overflow-x:auto;line-height:normal;font-family:Menlo,'DejaVu Sans Mono',consolas,'Courier New',monospace\"><span style=\"color: #7fbfbf; text-decoration-color: #7fbfbf\">                               </span>To cancel the simulation, use                    \n",
       "<span style=\"color: #7fbfbf; text-decoration-color: #7fbfbf\">                               </span><span style=\"color: #008000; text-decoration-color: #008000\">'web.abort(task_id)'</span> or <span style=\"color: #008000; text-decoration-color: #008000\">'web.delete(task_id)'</span> or \n",
       "<span style=\"color: #7fbfbf; text-decoration-color: #7fbfbf\">                               </span>abort/delete the task in the web UI. Terminating \n",
       "<span style=\"color: #7fbfbf; text-decoration-color: #7fbfbf\">                               </span>the Python script will not stop the job running  \n",
       "<span style=\"color: #7fbfbf; text-decoration-color: #7fbfbf\">                               </span>on the cloud.                                    \n",
       "</pre>\n"
      ],
      "text/plain": [
       "\u001b[2;36m                              \u001b[0m\u001b[2;36m \u001b[0mTo cancel the simulation, use                    \n",
       "\u001b[2;36m                               \u001b[0m\u001b[32m'web.abort\u001b[0m\u001b[32m(\u001b[0m\u001b[32mtask_id\u001b[0m\u001b[32m)\u001b[0m\u001b[32m'\u001b[0m or \u001b[32m'web.delete\u001b[0m\u001b[32m(\u001b[0m\u001b[32mtask_id\u001b[0m\u001b[32m)\u001b[0m\u001b[32m'\u001b[0m or \n",
       "\u001b[2;36m                               \u001b[0mabort/delete the task in the web UI. Terminating \n",
       "\u001b[2;36m                               \u001b[0mthe Python script will not stop the job running  \n",
       "\u001b[2;36m                               \u001b[0mon the cloud.                                    \n"
      ]
     },
     "metadata": {},
     "output_type": "display_data"
    },
    {
     "data": {
      "application/vnd.jupyter.widget-view+json": {
       "model_id": "0138b4cbcdaf4c0693eeabf6dfdc237c",
       "version_major": 2,
       "version_minor": 0
      },
      "text/plain": [
       "Output()"
      ]
     },
     "metadata": {},
     "output_type": "display_data"
    },
    {
     "data": {
      "text/html": [
       "<pre style=\"white-space:pre;overflow-x:auto;line-height:normal;font-family:Menlo,'DejaVu Sans Mono',consolas,'Courier New',monospace\"><span style=\"color: #7fbfbf; text-decoration-color: #7fbfbf\">18:00:06 Eastern Standard Time </span>early shutoff detected at <span style=\"color: #008080; text-decoration-color: #008080; font-weight: bold\">84</span>%, exiting.          \n",
       "</pre>\n"
      ],
      "text/plain": [
       "\u001b[2;36m18:00:06 Eastern Standard Time\u001b[0m\u001b[2;36m \u001b[0mearly shutoff detected at \u001b[1;36m84\u001b[0m%, exiting.          \n"
      ]
     },
     "metadata": {},
     "output_type": "display_data"
    },
    {
     "data": {
      "text/html": [
       "<pre style=\"white-space:pre;overflow-x:auto;line-height:normal;font-family:Menlo,'DejaVu Sans Mono',consolas,'Courier New',monospace\"></pre>\n"
      ],
      "text/plain": []
     },
     "metadata": {},
     "output_type": "display_data"
    },
    {
     "data": {
      "text/html": [
       "<pre style=\"white-space:pre;overflow-x:auto;line-height:normal;font-family:Menlo,'DejaVu Sans Mono',consolas,'Courier New',monospace\">\n",
       "</pre>\n"
      ],
      "text/plain": [
       "\n"
      ]
     },
     "metadata": {},
     "output_type": "display_data"
    },
    {
     "data": {
      "text/html": [
       "<pre style=\"white-space:pre;overflow-x:auto;line-height:normal;font-family:Menlo,'DejaVu Sans Mono',consolas,'Courier New',monospace\"><span style=\"color: #7fbfbf; text-decoration-color: #7fbfbf\">                               </span>status = postprocess                             \n",
       "</pre>\n"
      ],
      "text/plain": [
       "\u001b[2;36m                              \u001b[0m\u001b[2;36m \u001b[0mstatus = postprocess                             \n"
      ]
     },
     "metadata": {},
     "output_type": "display_data"
    },
    {
     "data": {
      "application/vnd.jupyter.widget-view+json": {
       "model_id": "",
       "version_major": 2,
       "version_minor": 0
      },
      "text/plain": [
       "Output()"
      ]
     },
     "metadata": {},
     "output_type": "display_data"
    },
    {
     "data": {
      "text/html": [
       "<pre style=\"white-space:pre;overflow-x:auto;line-height:normal;font-family:Menlo,'DejaVu Sans Mono',consolas,'Courier New',monospace\"><span style=\"color: #7fbfbf; text-decoration-color: #7fbfbf\">18:00:11 Eastern Standard Time </span>status = success                                 \n",
       "</pre>\n"
      ],
      "text/plain": [
       "\u001b[2;36m18:00:11 Eastern Standard Time\u001b[0m\u001b[2;36m \u001b[0mstatus = success                                 \n"
      ]
     },
     "metadata": {},
     "output_type": "display_data"
    },
    {
     "data": {
      "text/html": [
       "<pre style=\"white-space:pre;overflow-x:auto;line-height:normal;font-family:Menlo,'DejaVu Sans Mono',consolas,'Courier New',monospace\"></pre>\n"
      ],
      "text/plain": []
     },
     "metadata": {},
     "output_type": "display_data"
    },
    {
     "data": {
      "text/html": [
       "<pre style=\"white-space:pre;overflow-x:auto;line-height:normal;font-family:Menlo,'DejaVu Sans Mono',consolas,'Courier New',monospace\"><span style=\"color: #7fbfbf; text-decoration-color: #7fbfbf\">                               </span>View simulation result at                        \n",
       "<span style=\"color: #7fbfbf; text-decoration-color: #7fbfbf\">                               </span><a href=\"https://tidy3d.simulation.cloud/workbench?taskId=fdve-57a68fa9-6867-4d11-a985-e98592cdf6b3\" target=\"_blank\"><span style=\"color: #000080; text-decoration-color: #000080; text-decoration: underline\">'https://tidy3d.simulation.cloud/workbench?taskId</span></a>\n",
       "<span style=\"color: #7fbfbf; text-decoration-color: #7fbfbf\">                               </span><a href=\"https://tidy3d.simulation.cloud/workbench?taskId=fdve-57a68fa9-6867-4d11-a985-e98592cdf6b3\" target=\"_blank\"><span style=\"color: #000080; text-decoration-color: #000080; text-decoration: underline\">=fdve-57a68fa9-6867-4d11-a985-e98592cdf6b3'</span></a><span style=\"color: #000080; text-decoration-color: #000080; text-decoration: underline\">.</span>     \n",
       "</pre>\n"
      ],
      "text/plain": [
       "\u001b[2;36m                              \u001b[0m\u001b[2;36m \u001b[0mView simulation result at                        \n",
       "\u001b[2;36m                               \u001b[0m\u001b]8;id=867861;https://tidy3d.simulation.cloud/workbench?taskId=fdve-57a68fa9-6867-4d11-a985-e98592cdf6b3\u001b\\\u001b[4;34m'https://tidy3d.simulation.cloud/workbench?\u001b[0m\u001b]8;;\u001b\\\u001b]8;id=245806;https://tidy3d.simulation.cloud/workbench?taskId=fdve-57a68fa9-6867-4d11-a985-e98592cdf6b3\u001b\\\u001b[4;34mtaskId\u001b[0m\u001b]8;;\u001b\\\n",
       "\u001b[2;36m                               \u001b[0m\u001b]8;id=867861;https://tidy3d.simulation.cloud/workbench?taskId=fdve-57a68fa9-6867-4d11-a985-e98592cdf6b3\u001b\\\u001b[4;34m=\u001b[0m\u001b]8;;\u001b\\\u001b]8;id=698108;https://tidy3d.simulation.cloud/workbench?taskId=fdve-57a68fa9-6867-4d11-a985-e98592cdf6b3\u001b\\\u001b[4;34mfdve\u001b[0m\u001b]8;;\u001b\\\u001b]8;id=867861;https://tidy3d.simulation.cloud/workbench?taskId=fdve-57a68fa9-6867-4d11-a985-e98592cdf6b3\u001b\\\u001b[4;34m-57a68fa9-6867-4d11-a985-e98592cdf6b3'\u001b[0m\u001b]8;;\u001b\\\u001b[4;34m.\u001b[0m     \n"
      ]
     },
     "metadata": {},
     "output_type": "display_data"
    },
    {
     "data": {
      "application/vnd.jupyter.widget-view+json": {
       "model_id": "720e52a09f1549d389721b85c096339c",
       "version_major": 2,
       "version_minor": 0
      },
      "text/plain": [
       "Output()"
      ]
     },
     "metadata": {},
     "output_type": "display_data"
    },
    {
     "data": {
      "text/html": [
       "<pre style=\"white-space:pre;overflow-x:auto;line-height:normal;font-family:Menlo,'DejaVu Sans Mono',consolas,'Courier New',monospace\"></pre>\n"
      ],
      "text/plain": []
     },
     "metadata": {},
     "output_type": "display_data"
    },
    {
     "data": {
      "text/html": [
       "<pre style=\"white-space:pre;overflow-x:auto;line-height:normal;font-family:Menlo,'DejaVu Sans Mono',consolas,'Courier New',monospace\">\n",
       "</pre>\n"
      ],
      "text/plain": [
       "\n"
      ]
     },
     "metadata": {},
     "output_type": "display_data"
    },
    {
     "data": {
      "text/html": [
       "<pre style=\"white-space:pre;overflow-x:auto;line-height:normal;font-family:Menlo,'DejaVu Sans Mono',consolas,'Courier New',monospace\"><span style=\"color: #7fbfbf; text-decoration-color: #7fbfbf\">18:00:12 Eastern Standard Time </span>loading simulation from data/simulation_data.hdf5\n",
       "</pre>\n"
      ],
      "text/plain": [
       "\u001b[2;36m18:00:12 Eastern Standard Time\u001b[0m\u001b[2;36m \u001b[0mloading simulation from data/simulation_data.hdf5\n"
      ]
     },
     "metadata": {},
     "output_type": "display_data"
    },
    {
     "data": {
      "image/png": "[encoded data removed]",
      "text/plain": [
       "<Figure size 640x480 with 1 Axes>"
      ]
     },
     "metadata": {},
     "output_type": "display_data"
    }
   ],
   "source": [
    "job = web.Job(simulation=sim, task_name=\"bottom_taper\")\n",
    "sim_data = job.run(path=\"data/simulation_data.hdf5\")\n",
    "\n",
    "# calculate phase shift\n",
    "phase_1 = np.angle(sim_data[\"mode_1\"].amps.sel(mode_index=0, direction=\"+\"))\n",
    "phase_2 = np.angle(sim_data[\"mode_2\"].amps.sel(mode_index=0, direction=\"+\"))\n",
    "theta_t2 = phase_2 - phase_1\n",
    "\n",
    "plt.plot(ldas, np.unwrap(theta_t2))\n",
    "plt.xlabel(\"$\\lambda (\\mu m)$\")\n",
    "plt.ylabel(\"Phase shift\")\n",
    "plt.xlim(1.5, 1.6)\n",
    "plt.show()"
   ]
  },
  {
   "cell_type": "markdown",
   "id": "09f10e0f",
   "metadata": {},
   "source": [
    "Now that we have calculated $n_+$, $n_-$, $n_1$, $n_2$, $\\theta_{t1}$, and $\\theta_{t2}$, we are ready to assemble the matrices and calculate $\\eta_{cross}$. First, we focus on the wavelength of 1550 nm and explore $\\eta_{cross}$ as a function of $L_1$ and $L_2$. "
   ]
  },
  {
   "cell_type": "code",
   "execution_count": 15,
   "id": "c421aead",
   "metadata": {
    "execution": {
     "iopub.execute_input": "2023-08-18T17:27:47.608648Z",
     "iopub.status.busy": "2023-08-18T17:27:47.608509Z",
     "iopub.status.idle": "2023-08-18T17:27:47.725510Z",
     "shell.execute_reply": "2023-08-18T17:27:47.724909Z"
    }
   },
   "outputs": [],
   "source": [
    "# input field vector\n",
    "E_in = np.array([[0], [1]])\n",
    "\n",
    "N_L1 = 100  # number of L_1 points\n",
    "N_L2 = 50  # number of L_2 points\n",
    "L_1_array = np.linspace(4, 20, N_L1)\n",
    "L_2_array = np.linspace(1, 6, N_L2)\n",
    "\n",
    "eta_cross_1550 = np.zeros((N_L1, N_L2))\n",
    "\n",
    "# compute the taper matrix\n",
    "P_t = np.array([[np.exp(-1j * theta_t1[50]), 0], [0, np.exp(-1j * theta_t2[50])]]) * np.exp(-0.5)\n",
    "\n",
    "for i, L_1 in enumerate(L_1_array):\n",
    "    for j, L_2 in enumerate(L_2_array):\n",
    "\n",
    "        # compute the transmission coefficient\n",
    "        t = np.cos(np.pi * del_n * L_1 / lda0)\n",
    "        # compute the coupling coefficient\n",
    "        k = np.sin(np.pi * del_n * L_1 / lda0)\n",
    "        # compute the symmetric coupler matrix\n",
    "        C = np.exp(-1j * np.pi * (n_p + n_m) * L_1 / lda0) * np.array([[t, -1j * k], [-1j * k, t]])\n",
    "        # compute the phase control section matrix\n",
    "        P = np.array(\n",
    "            [\n",
    "                [np.exp(-1j * 2 * np.pi * n_1 * L_2 / lda0), 0],\n",
    "                [0, np.exp(-1j * 2 * np.pi * n_2 * L_2 / lda0)],\n",
    "            ]\n",
    "        )\n",
    "        # compute the output field vector by tmm\n",
    "        E_out = np.dot(C, np.dot(P_t, np.dot(P, np.dot(P_t, np.dot(C, E_in)))))\n",
    "\n",
    "        # total transmission\n",
    "        T = np.abs(E_out[0,0]) ** 2 + np.abs(E_out[1,0]) ** 2\n",
    "        # power transmitted to the cross port\n",
    "        eta_cross_1550[i, j] = np.abs(E_out[0,0]) ** 2 / T"
   ]
  },
  {
   "cell_type": "markdown",
   "id": "6844319d",
   "metadata": {},
   "source": [
    "Plot $\\eta_{cross}$ as a function of $L_1$ and $L_2$. Since we are looking for a specific power splitting ratio, we add contours to the plot. For a desirable splitting ratio, one only needs to pick design parameters on the specific contour. "
   ]
  },
  {
   "cell_type": "code",
   "execution_count": 16,
   "id": "ed1a9fbb",
   "metadata": {
    "execution": {
     "iopub.execute_input": "2023-08-18T17:27:47.727557Z",
     "iopub.status.busy": "2023-08-18T17:27:47.727406Z",
     "iopub.status.idle": "2023-08-18T17:27:48.096562Z",
     "shell.execute_reply": "2023-08-18T17:27:48.096056Z"
    }
   },
   "outputs": [
    {
     "data": {
      "image/png": "[encoded data removed]",
      "text/plain": [
       "<Figure size 640x480 with 2 Axes>"
      ]
     },
     "metadata": {},
     "output_type": "display_data"
    }
   ],
   "source": [
    "# plot the power transmitted to the cross port as a function of L_1 and L_2\n",
    "cp = plt.contour(\n",
    "    L_2_array,\n",
    "    L_1_array,\n",
    "    eta_cross_1550,\n",
    "    levels=10,\n",
    "    colors=\"black\",\n",
    "    linestyles=\"dashed\",\n",
    "    linewidths=1,\n",
    ")\n",
    "plt.clabel(cp, inline=1, fontsize=10)\n",
    "cp = plt.contourf(L_2_array, L_1_array, eta_cross_1550, levels=100, vmin=0, vmax=1, cmap=\"bwr\")\n",
    "plt.xlabel(\"$L_2 (\\mu m)$\")\n",
    "plt.ylabel(\"$L_1 (\\mu m)$\")\n",
    "plt.title(\"Transmission to cross port\")\n",
    "plt.colorbar()\n",
    "plt.show()"
   ]
  },
  {
   "cell_type": "markdown",
   "id": "187383d2",
   "metadata": {},
   "source": [
    "In this case, we aim for a 50%/50% splitting ratio. Since we want the DC to work in a wide wavelength range, we also need to calculate $\\eta_{cross}$ at other wavelengths to make sure the same splitting ratio is maintained. Here we skip explicitly showing this step to avoid making the notebook excessively long. \n",
    "\n",
    "From this analysis, the optimal $L_1$ and $L_2$ are found to be 12.8 $\\mu m$ and 4.4 $\\mu m$. Now we fix $L_1$ and $L_2$ and calculate $\\eta_{cross}$ as a function of wavelength."
   ]
  },
  {
   "cell_type": "code",
   "execution_count": 17,
   "id": "64de03ca",
   "metadata": {
    "execution": {
     "iopub.execute_input": "2023-08-18T17:27:48.100431Z",
     "iopub.status.busy": "2023-08-18T17:27:48.100226Z",
     "iopub.status.idle": "2023-08-18T17:27:48.123865Z",
     "shell.execute_reply": "2023-08-18T17:27:48.123440Z"
    }
   },
   "outputs": [],
   "source": [
    "L_1 = 12.8  # optimal L_1 from the tmm analysis\n",
    "L_2 = 4.4  # optimal L_2 from the tmm analysis\n",
    "\n",
    "# compute power transmitted to the cross port as a function of wavelength\n",
    "eta_cross_ldas = np.zeros(len(ldas))\n",
    "for i, lda in enumerate(ldas):\n",
    "    t = np.cos(np.pi * del_n * L_1 / lda)\n",
    "    k = np.sin(np.pi * del_n * L_1 / lda)\n",
    "    C = np.exp(-1j * np.pi * (n_p + n_m) * L_1 / lda) * np.array([[t, -1j * k], [-1j * k, t]])\n",
    "\n",
    "    P = np.array(\n",
    "        [\n",
    "            [np.exp(-1j * 2 * np.pi * n_1 * L_2 / lda), 0],\n",
    "            [0, np.exp(-1j * 2 * np.pi * n_2 * L_2 / lda)],\n",
    "        ]\n",
    "    )\n",
    "\n",
    "    E_out = np.dot(C, np.dot(P_t, np.dot(P, np.dot(P_t, np.dot(C, E_in)))))\n",
    "\n",
    "    T = np.abs(E_out[0,0]) ** 2 + np.abs(E_out[1,0]) ** 2\n",
    "    eta_cross_ldas[i] = np.abs(E_out[0,0]) ** 2 / T"
   ]
  },
  {
   "cell_type": "markdown",
   "id": "c30801d8",
   "metadata": {},
   "source": [
    "Plot $\\eta_{cross}$ as a function of wavelength. Here we can see if we define +- 1 dB as the bandwidth, the bandwidth is larger then 100 nm."
   ]
  },
  {
   "cell_type": "code",
   "execution_count": 18,
   "id": "d747859c",
   "metadata": {
    "execution": {
     "iopub.execute_input": "2023-08-18T17:27:48.125803Z",
     "iopub.status.busy": "2023-08-18T17:27:48.125603Z",
     "iopub.status.idle": "2023-08-18T17:27:48.247677Z",
     "shell.execute_reply": "2023-08-18T17:27:48.247121Z"
    }
   },
   "outputs": [
    {
     "data": {
      "image/png": "[encoded data removed]",
      "text/plain": [
       "<Figure size 640x480 with 1 Axes>"
      ]
     },
     "metadata": {},
     "output_type": "display_data"
    }
   ],
   "source": [
    "# plot the power transmitted to the cross port as a function of wavelength\n",
    "plt.axhline(y=-3, color=\"r\", linestyle=\"--\", linewidth=3, label=\"Ideal\")\n",
    "plt.plot(ldas, 10 * np.log10(eta_cross_ldas), linewidth=3, label=\"TMM\")\n",
    "plt.legend()\n",
    "plt.xlim(1.5, 1.6)\n",
    "plt.ylim(-6, 0)\n",
    "plt.xlabel(\"$\\lambda (\\mu m)$\")\n",
    "plt.ylabel(\"Transmission to cross port (dB)\")\n",
    "plt.show()"
   ]
  },
  {
   "cell_type": "markdown",
   "id": "fa617412",
   "metadata": {},
   "source": [
    "## 3D FDTD"
   ]
  },
  {
   "cell_type": "markdown",
   "id": "050fbb8f",
   "metadata": {},
   "source": [
    "The TMM analysis is only meant for an estimation of the optimal design parameters since TMM doesn't account for crucial details that can only be captured in a rigorous full wave simulation. Starting from the TMM analysis, we can further optimize $L_1$ and $L_2$ using 3D FDTD simulations. This can be done by performing a grid search (parameter sweeping), [adjoint optimization](https://www.flexcompute.com/tidy3d/examples/notebooks/AdjointPlugin1Intro/), or other gradient-free optimization around the initial values. Since parameter sweeping and adjoint optimization have been demonstrated in various examples such as the [MMI](https://www.flexcompute.com/tidy3d/examples/notebooks/MMI1x4/) and the [mode converter](https://www.flexcompute.com/tidy3d/examples/notebooks/AdjointPlugin3InverseDesign/), we won't do it again here but only report the final optimized design.\n",
    "\n",
    "After some further optimization, we determine that the optimal $L_1$ and $L_2$ are 12.4 $\\mu m$ and 4.7 $\\mu m$, which is not far from the TMM estimation of 12.8$\\mu m$ and 4.4 $\\mu m$. Now we demonstrate the FDTD simulation on the optimized device. To define the DC structures, we use Tidy3D's built-in [PolySlab](https://docs.flexcompute.com/projects/tidy3d/en/latest/api/_autosummary/tidy3d.PolySlab.html). "
   ]
  },
  {
   "cell_type": "code",
   "execution_count": 19,
   "id": "6f0a7b51",
   "metadata": {
    "execution": {
     "iopub.execute_input": "2023-08-18T17:27:48.249721Z",
     "iopub.status.busy": "2023-08-18T17:27:48.249578Z",
     "iopub.status.idle": "2023-08-18T17:27:48.271595Z",
     "shell.execute_reply": "2023-08-18T17:27:48.271032Z"
    }
   },
   "outputs": [],
   "source": [
    "L_1 = 12.4  # optimal L_1 from the 3d fdtd analysis\n",
    "L_2 = 4.7  # optimal L_2 from the 3d fdtd analysis\n",
    "\n",
    "# define vertices of the top waveguide\n",
    "vertices = [\n",
    "    (L_2 / 2 + L_t + L_1, 0),\n",
    "    (L_2 / 2 + L_t + L_1, w_sc),\n",
    "    (L_2 / 2 + L_t, w_sc),\n",
    "    (L_2 / 2, w_top),\n",
    "    (-L_2 / 2, w_top),\n",
    "    (-L_2 / 2 - L_t, w_sc),\n",
    "    (-L_2 / 2 - L_t - L_1, w_sc),\n",
    "    (-L_2 / 2 - L_t - L_1, 0),\n",
    "]\n",
    "\n",
    "# define the top waveguide\n",
    "DC_top = td.Structure(\n",
    "    geometry=td.PolySlab(\n",
    "        vertices=vertices,\n",
    "        axis=2,\n",
    "        slab_bounds=(-h_si / 2, h_si / 2),\n",
    "    ),\n",
    "    medium=si,\n",
    ")\n",
    "\n",
    "# define vertices of the bottom waveguide\n",
    "vertices = [\n",
    "    (L_2 / 2 + L_t + L_1, -gap_sc - w_sc),\n",
    "    (L_2 / 2 + L_t + L_1, -gap_sc),\n",
    "    (L_2 / 2 + L_t, -gap_sc),\n",
    "    (L_2 / 2, -gap_pc),\n",
    "    (-L_2 / 2, -gap_pc),\n",
    "    (-L_2 / 2 - L_t, -gap_sc),\n",
    "    (-L_2 / 2 - L_t - L_1, -gap_sc),\n",
    "    (-L_2 / 2 - L_t - L_1, -gap_sc - w_sc),\n",
    "]\n",
    "\n",
    "# define the bottom waveguide\n",
    "DC_bottom = td.Structure(\n",
    "    geometry=td.PolySlab(\n",
    "        vertices=vertices,\n",
    "        axis=2,\n",
    "        slab_bounds=(-h_si / 2, h_si / 2),\n",
    "    ),\n",
    "    medium=si,\n",
    ")"
   ]
  },
  {
   "cell_type": "markdown",
   "id": "69167a13",
   "metadata": {},
   "source": [
    "The input and output waveguides are connected to circular bends, which can be most conveniently defined using `gdstk`."
   ]
  },
  {
   "cell_type": "code",
   "execution_count": 20,
   "id": "6f236968",
   "metadata": {
    "execution": {
     "iopub.execute_input": "2023-08-18T17:27:48.273580Z",
     "iopub.status.busy": "2023-08-18T17:27:48.273439Z",
     "iopub.status.idle": "2023-08-18T17:27:48.304676Z",
     "shell.execute_reply": "2023-08-18T17:27:48.304082Z"
    }
   },
   "outputs": [],
   "source": [
    "R = 5  # bend radius\n",
    "\n",
    "cell = gdstk.Cell(\"bends\")  # define a gds cell\n",
    "\n",
    "# define the first input waveguide bend\n",
    "bend_1 = gdstk.FlexPath((L_2 / 2 + L_t, w_sc / 2), w_sc, layer=1, datatype=0)\n",
    "bend_1.horizontal(L_2 / 2 + L_t + L_1)\n",
    "bend_1.arc(R, -np.pi / 2, 0)\n",
    "bend_1.vertical(2 * l)\n",
    "cell.add(bend_1)\n",
    "\n",
    "# define the second input waveguide bend\n",
    "bend_2 = bend_1.copy()\n",
    "bend_2.mirror((0, 0), (0, 1))\n",
    "cell.add(bend_2)\n",
    "\n",
    "# define the third input waveguide bend\n",
    "bend_3 = bend_1.copy()\n",
    "bend_3.mirror((0, -gap_sc / 2), (1, -gap_sc / 2))\n",
    "cell.add(bend_3)\n",
    "\n",
    "# define the forth input waveguide bend\n",
    "bend_4 = bend_2.copy()\n",
    "bend_4.mirror((0, -gap_sc / 2), (1, -gap_sc / 2))\n",
    "cell.add(bend_4)\n",
    "\n",
    "# define the waveguide bend tidy3d geometries\n",
    "bends_geo = td.PolySlab.from_gds(\n",
    "    cell,\n",
    "    gds_layer=1,\n",
    "    axis=2,\n",
    "    slab_bounds=(-h_si / 2, h_si / 2),\n",
    ")\n",
    "\n",
    "# define the waveguide bend tidy3d structures\n",
    "bends = [td.Structure(geometry=bend_geo, medium=si) for bend_geo in bends_geo]"
   ]
  },
  {
   "cell_type": "markdown",
   "id": "5b41cd2e",
   "metadata": {},
   "source": [
    "Define source, monitors, and simulation."
   ]
  },
  {
   "cell_type": "code",
   "execution_count": 21,
   "id": "4c2446bb",
   "metadata": {
    "execution": {
     "iopub.execute_input": "2023-08-18T17:27:48.307400Z",
     "iopub.status.busy": "2023-08-18T17:27:48.307157Z",
     "iopub.status.idle": "2023-08-18T17:27:48.692954Z",
     "shell.execute_reply": "2023-08-18T17:27:48.692434Z"
    }
   },
   "outputs": [
    {
     "data": {
      "image/png": "[encoded data removed]",
      "text/plain": [
       "<Figure size 640x480 with 1 Axes>"
      ]
     },
     "metadata": {},
     "output_type": "display_data"
    }
   ],
   "source": [
    "# define a mode source that injects te mode\n",
    "mode_source = td.ModeSource(\n",
    "    center=(-L_2 / 2 - L_t - L_1 - R, -R - l / 10, 0),\n",
    "    size=(4 * w_sc, 0, 4 * h_si),\n",
    "    source_time=td.GaussianPulse(freq0=freq0, fwidth=fwidth),\n",
    "    direction=\"+\",\n",
    "    mode_spec=mode_spec,\n",
    "    mode_index=0,\n",
    "    num_freqs=7,\n",
    ")\n",
    "\n",
    "# define a mode monitor to measure the transmission to cross port\n",
    "mode_monitor_cross = td.ModeMonitor(\n",
    "    center=(L_2 / 2 + L_t + L_1 + R, R + l / 10, 0),\n",
    "    size=(4 * w_sc, 0, 4 * h_si),\n",
    "    freqs=freqs,\n",
    "    mode_spec=mode_spec,\n",
    "    name=\"mode_cross\",\n",
    ")\n",
    "\n",
    "# define a mode monitor to measure the transmission to through port\n",
    "mode_monitor_through = td.ModeMonitor(\n",
    "    center=(L_2 / 2 + L_t + L_1 + R, -R - l / 10, 0),\n",
    "    size=(4 * w_sc, 0, 4 * h_si),\n",
    "    freqs=freqs,\n",
    "    mode_spec=mode_spec,\n",
    "    name=\"mode_through\",\n",
    ")\n",
    "\n",
    "# define a field monitor to visualize mode propagation\n",
    "field_monitor = td.FieldMonitor(size=(td.inf, td.inf, 0), freqs=[freq0], name=\"field\")\n",
    "\n",
    "run_time = 2e-12  # simulation run time\n",
    "\n",
    "# simulation domain size\n",
    "Lx = 2 * L_1 + 2 * L_t + L_2 + 2 * R + l / 4\n",
    "Ly = 2 * R + l / 4\n",
    "Lz = 9 * h_si\n",
    "\n",
    "# define a simulation\n",
    "sim = td.Simulation(\n",
    "    size=(Lx, Ly, Lz),\n",
    "    grid_spec=td.GridSpec.auto(min_steps_per_wvl=15, wavelength=lda0),\n",
    "    structures=bends + [DC_top, DC_bottom],\n",
    "    sources=[mode_source],\n",
    "    monitors=[mode_monitor_cross, mode_monitor_through, field_monitor],\n",
    "    run_time=run_time,\n",
    "    medium=sio2,\n",
    "    symmetry=(0, 0, 1),\n",
    ")\n",
    "\n",
    "ax = sim.plot(z=0)\n",
    "ax.set_aspect(\"auto\")\n",
    "plt.show()"
   ]
  },
  {
   "cell_type": "markdown",
   "id": "59aa08eb",
   "metadata": {},
   "source": [
    "Submit the simulation job to the server. Before running the simulation, we can get a cost estimation using `estimate_cost`. This prevents us from accidentally running large jobs that we set up by mistake. The estimated cost is the maximum cost corresponding to running all the time steps."
   ]
  },
  {
   "cell_type": "code",
   "execution_count": 22,
   "id": "a62cc71e",
   "metadata": {
    "execution": {
     "iopub.execute_input": "2023-08-18T17:27:48.694880Z",
     "iopub.status.busy": "2023-08-18T17:27:48.694737Z",
     "iopub.status.idle": "2023-08-18T17:27:54.084791Z",
     "shell.execute_reply": "2023-08-18T17:27:54.083656Z"
    }
   },
   "outputs": [
    {
     "data": {
      "text/html": [
       "<pre style=\"white-space:pre;overflow-x:auto;line-height:normal;font-family:Menlo,'DejaVu Sans Mono',consolas,'Courier New',monospace\"><span style=\"color: #7fbfbf; text-decoration-color: #7fbfbf\">18:00:13 Eastern Standard Time </span>Created task <span style=\"color: #008000; text-decoration-color: #008000\">'full_structure'</span> with task_id       \n",
       "<span style=\"color: #7fbfbf; text-decoration-color: #7fbfbf\">                               </span><span style=\"color: #008000; text-decoration-color: #008000\">'fdve-c5c7ae60-dabc-49c5-b2a2-9fd940ccee4d'</span> and  \n",
       "<span style=\"color: #7fbfbf; text-decoration-color: #7fbfbf\">                               </span>task_type <span style=\"color: #008000; text-decoration-color: #008000\">'FDTD'</span>.                                \n",
       "</pre>\n"
      ],
      "text/plain": [
       "\u001b[2;36m18:00:13 Eastern Standard Time\u001b[0m\u001b[2;36m \u001b[0mCreated task \u001b[32m'full_structure'\u001b[0m with task_id       \n",
       "\u001b[2;36m                               \u001b[0m\u001b[32m'fdve-c5c7ae60-dabc-49c5-b2a2-9fd940ccee4d'\u001b[0m and  \n",
       "\u001b[2;36m                               \u001b[0mtask_type \u001b[32m'FDTD'\u001b[0m.                                \n"
      ]
     },
     "metadata": {},
     "output_type": "display_data"
    },
    {
     "data": {
      "text/html": [
       "<pre style=\"white-space:pre;overflow-x:auto;line-height:normal;font-family:Menlo,'DejaVu Sans Mono',consolas,'Courier New',monospace\"><span style=\"color: #7fbfbf; text-decoration-color: #7fbfbf\">                               </span>View task using web UI at                        \n",
       "<span style=\"color: #7fbfbf; text-decoration-color: #7fbfbf\">                               </span><a href=\"https://tidy3d.simulation.cloud/workbench?taskId=fdve-c5c7ae60-dabc-49c5-b2a2-9fd940ccee4d\" target=\"_blank\"><span style=\"color: #008000; text-decoration-color: #008000\">'https://tidy3d.simulation.cloud/workbench?taskId</span></a>\n",
       "<span style=\"color: #7fbfbf; text-decoration-color: #7fbfbf\">                               </span><a href=\"https://tidy3d.simulation.cloud/workbench?taskId=fdve-c5c7ae60-dabc-49c5-b2a2-9fd940ccee4d\" target=\"_blank\"><span style=\"color: #008000; text-decoration-color: #008000\">=fdve-c5c7ae60-dabc-49c5-b2a2-9fd940ccee4d'</span></a>.     \n",
       "</pre>\n"
      ],
      "text/plain": [
       "\u001b[2;36m                              \u001b[0m\u001b[2;36m \u001b[0mView task using web UI at                        \n",
       "\u001b[2;36m                               \u001b[0m\u001b]8;id=762558;https://tidy3d.simulation.cloud/workbench?taskId=fdve-c5c7ae60-dabc-49c5-b2a2-9fd940ccee4d\u001b\\\u001b[32m'https://tidy3d.simulation.cloud/workbench?\u001b[0m\u001b]8;;\u001b\\\u001b]8;id=147097;https://tidy3d.simulation.cloud/workbench?taskId=fdve-c5c7ae60-dabc-49c5-b2a2-9fd940ccee4d\u001b\\\u001b[32mtaskId\u001b[0m\u001b]8;;\u001b\\\n",
       "\u001b[2;36m                               \u001b[0m\u001b]8;id=762558;https://tidy3d.simulation.cloud/workbench?taskId=fdve-c5c7ae60-dabc-49c5-b2a2-9fd940ccee4d\u001b\\\u001b[32m=\u001b[0m\u001b]8;;\u001b\\\u001b]8;id=621902;https://tidy3d.simulation.cloud/workbench?taskId=fdve-c5c7ae60-dabc-49c5-b2a2-9fd940ccee4d\u001b\\\u001b[32mfdve\u001b[0m\u001b]8;;\u001b\\\u001b]8;id=762558;https://tidy3d.simulation.cloud/workbench?taskId=fdve-c5c7ae60-dabc-49c5-b2a2-9fd940ccee4d\u001b\\\u001b[32m-c5c7ae60-dabc-49c5-b2a2-9fd940ccee4d'\u001b[0m\u001b]8;;\u001b\\.     \n"
      ]
     },
     "metadata": {},
     "output_type": "display_data"
    },
    {
     "data": {
      "application/vnd.jupyter.widget-view+json": {
       "model_id": "b867f520015a48daa07369bb090160bc",
       "version_major": 2,
       "version_minor": 0
      },
      "text/plain": [
       "Output()"
      ]
     },
     "metadata": {},
     "output_type": "display_data"
    },
    {
     "data": {
      "text/html": [
       "<pre style=\"white-space:pre;overflow-x:auto;line-height:normal;font-family:Menlo,'DejaVu Sans Mono',consolas,'Courier New',monospace\"></pre>\n"
      ],
      "text/plain": []
     },
     "metadata": {},
     "output_type": "display_data"
    },
    {
     "data": {
      "text/html": [
       "<pre style=\"white-space:pre;overflow-x:auto;line-height:normal;font-family:Menlo,'DejaVu Sans Mono',consolas,'Courier New',monospace\">\n",
       "</pre>\n"
      ],
      "text/plain": [
       "\n"
      ]
     },
     "metadata": {},
     "output_type": "display_data"
    },
    {
     "data": {
      "text/html": [
       "<pre style=\"white-space:pre;overflow-x:auto;line-height:normal;font-family:Menlo,'DejaVu Sans Mono',consolas,'Courier New',monospace\"><span style=\"color: #7fbfbf; text-decoration-color: #7fbfbf\">18:00:15 Eastern Standard Time </span>Maximum FlexCredit cost: <span style=\"color: #008080; text-decoration-color: #008080; font-weight: bold\">0.437</span>. Minimum cost     \n",
       "<span style=\"color: #7fbfbf; text-decoration-color: #7fbfbf\">                               </span>depends on task execution details. Use           \n",
       "<span style=\"color: #7fbfbf; text-decoration-color: #7fbfbf\">                               </span><span style=\"color: #008000; text-decoration-color: #008000\">'web.real_cost(task_id)'</span> to get the billed       \n",
       "<span style=\"color: #7fbfbf; text-decoration-color: #7fbfbf\">                               </span>FlexCredit cost after a simulation run.          \n",
       "</pre>\n"
      ],
      "text/plain": [
       "\u001b[2;36m18:00:15 Eastern Standard Time\u001b[0m\u001b[2;36m \u001b[0mMaximum FlexCredit cost: \u001b[1;36m0.437\u001b[0m. Minimum cost     \n",
       "\u001b[2;36m                               \u001b[0mdepends on task execution details. Use           \n",
       "\u001b[2;36m                               \u001b[0m\u001b[32m'web.real_cost\u001b[0m\u001b[32m(\u001b[0m\u001b[32mtask_id\u001b[0m\u001b[32m)\u001b[0m\u001b[32m'\u001b[0m to get the billed       \n",
       "\u001b[2;36m                               \u001b[0mFlexCredit cost after a simulation run.          \n"
      ]
     },
     "metadata": {},
     "output_type": "display_data"
    }
   ],
   "source": [
    "job = web.Job(simulation=sim, task_name=\"full_structure\")\n",
    "estimated_cost = web.estimate_cost(job.task_id)"
   ]
  },
  {
   "cell_type": "markdown",
   "id": "219d6dc6",
   "metadata": {},
   "source": [
    "The cost is reasonaly so we can run the simulation."
   ]
  },
  {
   "cell_type": "code",
   "execution_count": 23,
   "id": "4f5e638d",
   "metadata": {
    "execution": {
     "iopub.execute_input": "2023-08-18T17:27:54.100126Z",
     "iopub.status.busy": "2023-08-18T17:27:54.099989Z",
     "iopub.status.idle": "2023-08-18T17:29:33.933405Z",
     "shell.execute_reply": "2023-08-18T17:29:33.932864Z"
    }
   },
   "outputs": [
    {
     "data": {
      "text/html": [
       "<pre style=\"white-space:pre;overflow-x:auto;line-height:normal;font-family:Menlo,'DejaVu Sans Mono',consolas,'Courier New',monospace\"><span style=\"color: #7fbfbf; text-decoration-color: #7fbfbf\">18:00:16 Eastern Standard Time </span>status = queued                                  \n",
       "</pre>\n"
      ],
      "text/plain": [
       "\u001b[2;36m18:00:16 Eastern Standard Time\u001b[0m\u001b[2;36m \u001b[0mstatus = queued                                  \n"
      ]
     },
     "metadata": {},
     "output_type": "display_data"
    },
    {
     "data": {
      "application/vnd.jupyter.widget-view+json": {
       "model_id": "",
       "version_major": 2,
       "version_minor": 0
      },
      "text/plain": [
       "Output()"
      ]
     },
     "metadata": {},
     "output_type": "display_data"
    },
    {
     "data": {
      "text/html": [
       "<pre style=\"white-space:pre;overflow-x:auto;line-height:normal;font-family:Menlo,'DejaVu Sans Mono',consolas,'Courier New',monospace\"><span style=\"color: #7fbfbf; text-decoration-color: #7fbfbf\">18:00:19 Eastern Standard Time </span>status = preprocess                              \n",
       "</pre>\n"
      ],
      "text/plain": [
       "\u001b[2;36m18:00:19 Eastern Standard Time\u001b[0m\u001b[2;36m \u001b[0mstatus = preprocess                              \n"
      ]
     },
     "metadata": {},
     "output_type": "display_data"
    },
    {
     "data": {
      "text/html": [
       "<pre style=\"white-space:pre;overflow-x:auto;line-height:normal;font-family:Menlo,'DejaVu Sans Mono',consolas,'Courier New',monospace\"></pre>\n"
      ],
      "text/plain": []
     },
     "metadata": {},
     "output_type": "display_data"
    },
    {
     "data": {
      "text/html": [
       "<pre style=\"white-space:pre;overflow-x:auto;line-height:normal;font-family:Menlo,'DejaVu Sans Mono',consolas,'Courier New',monospace\"><span style=\"color: #7fbfbf; text-decoration-color: #7fbfbf\">18:00:25 Eastern Standard Time </span>Maximum FlexCredit cost: <span style=\"color: #008080; text-decoration-color: #008080; font-weight: bold\">0.437</span>. Use              \n",
       "<span style=\"color: #7fbfbf; text-decoration-color: #7fbfbf\">                               </span><span style=\"color: #008000; text-decoration-color: #008000\">'web.real_cost(task_id)'</span> to get the billed       \n",
       "<span style=\"color: #7fbfbf; text-decoration-color: #7fbfbf\">                               </span>FlexCredit cost after a simulation run.          \n",
       "</pre>\n"
      ],
      "text/plain": [
       "\u001b[2;36m18:00:25 Eastern Standard Time\u001b[0m\u001b[2;36m \u001b[0mMaximum FlexCredit cost: \u001b[1;36m0.437\u001b[0m. Use              \n",
       "\u001b[2;36m                               \u001b[0m\u001b[32m'web.real_cost\u001b[0m\u001b[32m(\u001b[0m\u001b[32mtask_id\u001b[0m\u001b[32m)\u001b[0m\u001b[32m'\u001b[0m to get the billed       \n",
       "\u001b[2;36m                               \u001b[0mFlexCredit cost after a simulation run.          \n"
      ]
     },
     "metadata": {},
     "output_type": "display_data"
    },
    {
     "data": {
      "text/html": [
       "<pre style=\"white-space:pre;overflow-x:auto;line-height:normal;font-family:Menlo,'DejaVu Sans Mono',consolas,'Courier New',monospace\"><span style=\"color: #7fbfbf; text-decoration-color: #7fbfbf\">                               </span>starting up solver                               \n",
       "</pre>\n"
      ],
      "text/plain": [
       "\u001b[2;36m                              \u001b[0m\u001b[2;36m \u001b[0mstarting up solver                               \n"
      ]
     },
     "metadata": {},
     "output_type": "display_data"
    },
    {
     "data": {
      "text/html": [
       "<pre style=\"white-space:pre;overflow-x:auto;line-height:normal;font-family:Menlo,'DejaVu Sans Mono',consolas,'Courier New',monospace\"><span style=\"color: #7fbfbf; text-decoration-color: #7fbfbf\">                               </span>running solver                                   \n",
       "</pre>\n"
      ],
      "text/plain": [
       "\u001b[2;36m                              \u001b[0m\u001b[2;36m \u001b[0mrunning solver                                   \n"
      ]
     },
     "metadata": {},
     "output_type": "display_data"
    },
    {
     "data": {
      "text/html": [
       "<pre style=\"white-space:pre;overflow-x:auto;line-height:normal;font-family:Menlo,'DejaVu Sans Mono',consolas,'Courier New',monospace\"><span style=\"color: #7fbfbf; text-decoration-color: #7fbfbf\">                               </span>To cancel the simulation, use                    \n",
       "<span style=\"color: #7fbfbf; text-decoration-color: #7fbfbf\">                               </span><span style=\"color: #008000; text-decoration-color: #008000\">'web.abort(task_id)'</span> or <span style=\"color: #008000; text-decoration-color: #008000\">'web.delete(task_id)'</span> or \n",
       "<span style=\"color: #7fbfbf; text-decoration-color: #7fbfbf\">                               </span>abort/delete the task in the web UI. Terminating \n",
       "<span style=\"color: #7fbfbf; text-decoration-color: #7fbfbf\">                               </span>the Python script will not stop the job running  \n",
       "<span style=\"color: #7fbfbf; text-decoration-color: #7fbfbf\">                               </span>on the cloud.                                    \n",
       "</pre>\n"
      ],
      "text/plain": [
       "\u001b[2;36m                              \u001b[0m\u001b[2;36m \u001b[0mTo cancel the simulation, use                    \n",
       "\u001b[2;36m                               \u001b[0m\u001b[32m'web.abort\u001b[0m\u001b[32m(\u001b[0m\u001b[32mtask_id\u001b[0m\u001b[32m)\u001b[0m\u001b[32m'\u001b[0m or \u001b[32m'web.delete\u001b[0m\u001b[32m(\u001b[0m\u001b[32mtask_id\u001b[0m\u001b[32m)\u001b[0m\u001b[32m'\u001b[0m or \n",
       "\u001b[2;36m                               \u001b[0mabort/delete the task in the web UI. Terminating \n",
       "\u001b[2;36m                               \u001b[0mthe Python script will not stop the job running  \n",
       "\u001b[2;36m                               \u001b[0mon the cloud.                                    \n"
      ]
     },
     "metadata": {},
     "output_type": "display_data"
    },
    {
     "data": {
      "application/vnd.jupyter.widget-view+json": {
       "model_id": "d0eda29f79854da8b4134e3e8ca93a6e",
       "version_major": 2,
       "version_minor": 0
      },
      "text/plain": [
       "Output()"
      ]
     },
     "metadata": {},
     "output_type": "display_data"
    },
    {
     "data": {
      "text/html": [
       "<pre style=\"white-space:pre;overflow-x:auto;line-height:normal;font-family:Menlo,'DejaVu Sans Mono',consolas,'Courier New',monospace\"><span style=\"color: #7fbfbf; text-decoration-color: #7fbfbf\">18:01:31 Eastern Standard Time </span>early shutoff detected at <span style=\"color: #008080; text-decoration-color: #008080; font-weight: bold\">76</span>%, exiting.          \n",
       "</pre>\n"
      ],
      "text/plain": [
       "\u001b[2;36m18:01:31 Eastern Standard Time\u001b[0m\u001b[2;36m \u001b[0mearly shutoff detected at \u001b[1;36m76\u001b[0m%, exiting.          \n"
      ]
     },
     "metadata": {},
     "output_type": "display_data"
    },
    {
     "data": {
      "text/html": [
       "<pre style=\"white-space:pre;overflow-x:auto;line-height:normal;font-family:Menlo,'DejaVu Sans Mono',consolas,'Courier New',monospace\"></pre>\n"
      ],
      "text/plain": []
     },
     "metadata": {},
     "output_type": "display_data"
    },
    {
     "data": {
      "text/html": [
       "<pre style=\"white-space:pre;overflow-x:auto;line-height:normal;font-family:Menlo,'DejaVu Sans Mono',consolas,'Courier New',monospace\">\n",
       "</pre>\n"
      ],
      "text/plain": [
       "\n"
      ]
     },
     "metadata": {},
     "output_type": "display_data"
    },
    {
     "data": {
      "text/html": [
       "<pre style=\"white-space:pre;overflow-x:auto;line-height:normal;font-family:Menlo,'DejaVu Sans Mono',consolas,'Courier New',monospace\"><span style=\"color: #7fbfbf; text-decoration-color: #7fbfbf\">                               </span>status = postprocess                             \n",
       "</pre>\n"
      ],
      "text/plain": [
       "\u001b[2;36m                              \u001b[0m\u001b[2;36m \u001b[0mstatus = postprocess                             \n"
      ]
     },
     "metadata": {},
     "output_type": "display_data"
    },
    {
     "data": {
      "application/vnd.jupyter.widget-view+json": {
       "model_id": "",
       "version_major": 2,
       "version_minor": 0
      },
      "text/plain": [
       "Output()"
      ]
     },
     "metadata": {},
     "output_type": "display_data"
    },
    {
     "data": {
      "text/html": [
       "<pre style=\"white-space:pre;overflow-x:auto;line-height:normal;font-family:Menlo,'DejaVu Sans Mono',consolas,'Courier New',monospace\"><span style=\"color: #7fbfbf; text-decoration-color: #7fbfbf\">18:01:37 Eastern Standard Time </span>status = success                                 \n",
       "</pre>\n"
      ],
      "text/plain": [
       "\u001b[2;36m18:01:37 Eastern Standard Time\u001b[0m\u001b[2;36m \u001b[0mstatus = success                                 \n"
      ]
     },
     "metadata": {},
     "output_type": "display_data"
    },
    {
     "data": {
      "text/html": [
       "<pre style=\"white-space:pre;overflow-x:auto;line-height:normal;font-family:Menlo,'DejaVu Sans Mono',consolas,'Courier New',monospace\"></pre>\n"
      ],
      "text/plain": []
     },
     "metadata": {},
     "output_type": "display_data"
    },
    {
     "data": {
      "text/html": [
       "<pre style=\"white-space:pre;overflow-x:auto;line-height:normal;font-family:Menlo,'DejaVu Sans Mono',consolas,'Courier New',monospace\"><span style=\"color: #7fbfbf; text-decoration-color: #7fbfbf\">                               </span>View simulation result at                        \n",
       "<span style=\"color: #7fbfbf; text-decoration-color: #7fbfbf\">                               </span><a href=\"https://tidy3d.simulation.cloud/workbench?taskId=fdve-c5c7ae60-dabc-49c5-b2a2-9fd940ccee4d\" target=\"_blank\"><span style=\"color: #000080; text-decoration-color: #000080; text-decoration: underline\">'https://tidy3d.simulation.cloud/workbench?taskId</span></a>\n",
       "<span style=\"color: #7fbfbf; text-decoration-color: #7fbfbf\">                               </span><a href=\"https://tidy3d.simulation.cloud/workbench?taskId=fdve-c5c7ae60-dabc-49c5-b2a2-9fd940ccee4d\" target=\"_blank\"><span style=\"color: #000080; text-decoration-color: #000080; text-decoration: underline\">=fdve-c5c7ae60-dabc-49c5-b2a2-9fd940ccee4d'</span></a><span style=\"color: #000080; text-decoration-color: #000080; text-decoration: underline\">.</span>     \n",
       "</pre>\n"
      ],
      "text/plain": [
       "\u001b[2;36m                              \u001b[0m\u001b[2;36m \u001b[0mView simulation result at                        \n",
       "\u001b[2;36m                               \u001b[0m\u001b]8;id=442390;https://tidy3d.simulation.cloud/workbench?taskId=fdve-c5c7ae60-dabc-49c5-b2a2-9fd940ccee4d\u001b\\\u001b[4;34m'https://tidy3d.simulation.cloud/workbench?\u001b[0m\u001b]8;;\u001b\\\u001b]8;id=255183;https://tidy3d.simulation.cloud/workbench?taskId=fdve-c5c7ae60-dabc-49c5-b2a2-9fd940ccee4d\u001b\\\u001b[4;34mtaskId\u001b[0m\u001b]8;;\u001b\\\n",
       "\u001b[2;36m                               \u001b[0m\u001b]8;id=442390;https://tidy3d.simulation.cloud/workbench?taskId=fdve-c5c7ae60-dabc-49c5-b2a2-9fd940ccee4d\u001b\\\u001b[4;34m=\u001b[0m\u001b]8;;\u001b\\\u001b]8;id=426071;https://tidy3d.simulation.cloud/workbench?taskId=fdve-c5c7ae60-dabc-49c5-b2a2-9fd940ccee4d\u001b\\\u001b[4;34mfdve\u001b[0m\u001b]8;;\u001b\\\u001b]8;id=442390;https://tidy3d.simulation.cloud/workbench?taskId=fdve-c5c7ae60-dabc-49c5-b2a2-9fd940ccee4d\u001b\\\u001b[4;34m-c5c7ae60-dabc-49c5-b2a2-9fd940ccee4d'\u001b[0m\u001b]8;;\u001b\\\u001b[4;34m.\u001b[0m     \n"
      ]
     },
     "metadata": {},
     "output_type": "display_data"
    },
    {
     "data": {
      "application/vnd.jupyter.widget-view+json": {
       "model_id": "2d4ed7841b3345be8aaa47e43c02cd49",
       "version_major": 2,
       "version_minor": 0
      },
      "text/plain": [
       "Output()"
      ]
     },
     "metadata": {},
     "output_type": "display_data"
    },
    {
     "data": {
      "text/html": [
       "<pre style=\"white-space:pre;overflow-x:auto;line-height:normal;font-family:Menlo,'DejaVu Sans Mono',consolas,'Courier New',monospace\"></pre>\n"
      ],
      "text/plain": []
     },
     "metadata": {},
     "output_type": "display_data"
    },
    {
     "data": {
      "text/html": [
       "<pre style=\"white-space:pre;overflow-x:auto;line-height:normal;font-family:Menlo,'DejaVu Sans Mono',consolas,'Courier New',monospace\">\n",
       "</pre>\n"
      ],
      "text/plain": [
       "\n"
      ]
     },
     "metadata": {},
     "output_type": "display_data"
    },
    {
     "data": {
      "text/html": [
       "<pre style=\"white-space:pre;overflow-x:auto;line-height:normal;font-family:Menlo,'DejaVu Sans Mono',consolas,'Courier New',monospace\"><span style=\"color: #7fbfbf; text-decoration-color: #7fbfbf\">18:01:40 Eastern Standard Time </span>loading simulation from data/simulation_data.hdf5\n",
       "</pre>\n"
      ],
      "text/plain": [
       "\u001b[2;36m18:01:40 Eastern Standard Time\u001b[0m\u001b[2;36m \u001b[0mloading simulation from data/simulation_data.hdf5\n"
      ]
     },
     "metadata": {},
     "output_type": "display_data"
    }
   ],
   "source": [
    "sim_data = job.run(path=\"data/simulation_data.hdf5\")"
   ]
  },
  {
   "cell_type": "markdown",
   "id": "373a985c",
   "metadata": {},
   "source": [
    "After the simulation is complete, we plot the splitting ratio and compare it to the ideal case. From the plot, we can see that the designed DC maintains a -3 dB splitting ratio very well across the wavelength range of interest. The bandwidth is larger than 100 nm. As a comparison, [traditional DCs](https://tidy3d.simulation.cloud/workbench?taskId=pa-45ba95c2-3ced-4331-8ea3-01c49041f516) have a much smaller working bandwidth."
   ]
  },
  {
   "cell_type": "code",
   "execution_count": 24,
   "id": "b8731f7d",
   "metadata": {
    "execution": {
     "iopub.execute_input": "2023-08-18T17:29:35.898677Z",
     "iopub.status.busy": "2023-08-18T17:29:35.898541Z",
     "iopub.status.idle": "2023-08-18T17:29:36.056282Z",
     "shell.execute_reply": "2023-08-18T17:29:36.055764Z"
    }
   },
   "outputs": [
    {
     "data": {
      "image/png": "[encoded data removed]",
      "text/plain": [
       "<Figure size 640x480 with 1 Axes>"
      ]
     },
     "metadata": {},
     "output_type": "display_data"
    }
   ],
   "source": [
    "# calculate transmission to cross port\n",
    "amp_cross = sim_data[\"mode_cross\"].amps.sel(mode_index=0, direction=\"+\")\n",
    "T_cross = np.abs(amp_cross) ** 2\n",
    "\n",
    "# calculate transmission to through port\n",
    "amp_through = sim_data[\"mode_through\"].amps.sel(mode_index=0, direction=\"-\")\n",
    "T_through = np.abs(amp_through) ** 2\n",
    "\n",
    "T_total = T_cross + T_through  # total transmitted power\n",
    "\n",
    "plt.axhline(y=-3, color=\"r\", linestyle=\"--\", linewidth=3, label=\"Ideal\")\n",
    "plt.plot(ldas, 10 * np.log10(T_cross / T_total), linewidth=3, label=\"FDTD\")\n",
    "plt.xlabel(\"$\\lambda (\\mu m)$\")\n",
    "plt.ylabel(\"Transmission to cross port (dB)\")\n",
    "plt.xlim(1.5, 1.6)\n",
    "plt.ylim(-6, 0)\n",
    "plt.legend()\n",
    "plt.show()"
   ]
  },
  {
   "cell_type": "markdown",
   "id": "0b45cb6a",
   "metadata": {},
   "source": [
    "Finally, visualize the power distribution at the central wavelength, which confirms the even splitting of power."
   ]
  },
  {
   "cell_type": "code",
   "execution_count": 25,
   "id": "170af679",
   "metadata": {
    "execution": {
     "iopub.execute_input": "2023-08-18T17:29:36.058087Z",
     "iopub.status.busy": "2023-08-18T17:29:36.057946Z",
     "iopub.status.idle": "2023-08-18T17:29:37.774733Z",
     "shell.execute_reply": "2023-08-18T17:29:37.774198Z"
    }
   },
   "outputs": [
    {
     "data": {
      "image/png": "[encoded data removed]",
      "text/plain": [
       "<Figure size 640x480 with 2 Axes>"
      ]
     },
     "metadata": {},
     "output_type": "display_data"
    }
   ],
   "source": [
    "ax = sim_data.plot_field(field_monitor_name=\"field\", field_name=\"E\", val=\"abs^2\", vmin=0, vmax=4000)\n",
    "ax.set_aspect(\"auto\")\n",
    "plt.show()"
   ]
  },
  {
   "cell_type": "code",
   "execution_count": null,
   "id": "b7b145b2",
   "metadata": {},
   "outputs": [],
   "source": []
  }
 ],
 "metadata": {
  "applications": [
   "Passive photonic integrated circuit components"
  ],
  "description": "This notebook demonstrates how to model a broadband directional coupler in Tidy3D FDTD.",
  "feature_image": "./img/broadband_DC_1.png",
  "features": [
   "Mode analysis",
   "GDS component"
  ],
  "kernelspec": {
   "display_name": "Python 3 (ipykernel)",
   "language": "python",
   "name": "python3"
  },
  "keywords": "silicon photonics, PIC, integrated photonics, broadband direction coupler, Tidy3D, FDTD",
  "language_info": {
   "codemirror_mode": {
    "name": "ipython",
    "version": 3
   },
   "file_extension": ".py",
   "mimetype": "text/x-python",
   "name": "python",
   "nbconvert_exporter": "python",
   "pygments_lexer": "ipython3",
   "version": "3.10.12"
  },
  "title": "Broadband Directional Coupler Modeling | Flexcompute",
  "widgets": {
   "application/vnd.jupyter.widget-state+json": {
    "state": {
     "012585abdae34085b5a2eaddcc31adf3": {
      "model_module": "@jupyter-widgets/output",
      "model_module_version": "1.0.0",
      "model_name": "OutputModel",
      "state": {
       "_dom_classes": [],
       "_model_module": "@jupyter-widgets/output",
       "_model_module_version": "1.0.0",
       "_model_name": "OutputModel",
       "_view_count": null,
       "_view_module": "@jupyter-widgets/output",
       "_view_module_version": "1.0.0",
       "_view_name": "OutputView",
       "layout": "IPY_MODEL_bd50f698a28c4f15900234e7885ff9b7",
       "msg_id": "",
       "outputs": [
        {
         "data": {
          "text/html": "<pre style=\"white-space:pre;overflow-x:auto;line-height:normal;font-family:Menlo,'DejaVu Sans Mono',consolas,'Courier New',monospace\"><span style=\"color: #800000; text-decoration-color: #800000; font-weight: bold\">↑</span> <span style=\"color: #000080; text-decoration-color: #000080; font-weight: bold\">simulation.hdf5.gz</span> <span style=\"color: #729c1f; text-decoration-color: #729c1f\">━━━━━━━━━━━━━━━━━━━━━━━━━</span> <span style=\"color: #800080; text-decoration-color: #800080\">100.0%</span> • <span style=\"color: #008000; text-decoration-color: #008000\">2.8/2.8 kB</span> • <span style=\"color: #800000; text-decoration-color: #800000\">?</span> • <span style=\"color: #008080; text-decoration-color: #008080\">0:00:00</span>\n</pre>\n",
          "text/plain": "\u001b[1;31m↑\u001b[0m \u001b[1;34msimulation.hdf5.gz\u001b[0m \u001b[38;2;114;156;31m━━━━━━━━━━━━━━━━━━━━━━━━━\u001b[0m \u001b[35m100.0%\u001b[0m • \u001b[32m2.8/2.8 kB\u001b[0m • \u001b[31m?\u001b[0m • \u001b[36m0:00:00\u001b[0m\n"
         },
         "metadata": {},
         "output_type": "display_data"
        }
       ],
       "tabbable": null,
       "tooltip": null
      }
     },
     "056f296f1d12479c9b5ac29810cb89cb": {
      "model_module": "@jupyter-widgets/base",
      "model_module_version": "2.0.0",
      "model_name": "LayoutModel",
      "state": {
       "_model_module": "@jupyter-widgets/base",
       "_model_module_version": "2.0.0",
       "_model_name": "LayoutModel",
       "_view_count": null,
       "_view_module": "@jupyter-widgets/base",
       "_view_module_version": "2.0.0",
       "_view_name": "LayoutView",
       "align_content": null,
       "align_items": null,
       "align_self": null,
       "border_bottom": null,
       "border_left": null,
       "border_right": null,
       "border_top": null,
       "bottom": null,
       "display": null,
       "flex": null,
       "flex_flow": null,
       "grid_area": null,
       "grid_auto_columns": null,
       "grid_auto_flow": null,
       "grid_auto_rows": null,
       "grid_column": null,
       "grid_gap": null,
       "grid_row": null,
       "grid_template_areas": null,
       "grid_template_columns": null,
       "grid_template_rows": null,
       "height": null,
       "justify_content": null,
       "justify_items": null,
       "left": null,
       "margin": null,
       "max_height": null,
       "max_width": null,
       "min_height": null,
       "min_width": null,
       "object_fit": null,
       "object_position": null,
       "order": null,
       "overflow": null,
       "padding": null,
       "right": null,
       "top": null,
       "visibility": null,
       "width": null
      }
     },
     "05fcea31d22840b09f478f7fcc55bd67": {
      "model_module": "@jupyter-widgets/base",
      "model_module_version": "2.0.0",
      "model_name": "LayoutModel",
      "state": {
       "_model_module": "@jupyter-widgets/base",
       "_model_module_version": "2.0.0",
       "_model_name": "LayoutModel",
       "_view_count": null,
       "_view_module": "@jupyter-widgets/base",
       "_view_module_version": "2.0.0",
       "_view_name": "LayoutView",
       "align_content": null,
       "align_items": null,
       "align_self": null,
       "border_bottom": null,
       "border_left": null,
       "border_right": null,
       "border_top": null,
       "bottom": null,
       "display": null,
       "flex": null,
       "flex_flow": null,
       "grid_area": null,
       "grid_auto_columns": null,
       "grid_auto_flow": null,
       "grid_auto_rows": null,
       "grid_column": null,
       "grid_gap": null,
       "grid_row": null,
       "grid_template_areas": null,
       "grid_template_columns": null,
       "grid_template_rows": null,
       "height": null,
       "justify_content": null,
       "justify_items": null,
       "left": null,
       "margin": null,
       "max_height": null,
       "max_width": null,
       "min_height": null,
       "min_width": null,
       "object_fit": null,
       "object_position": null,
       "order": null,
       "overflow": null,
       "padding": null,
       "right": null,
       "top": null,
       "visibility": null,
       "width": null
      }
     },
     "18d965995f98436ba4a3adcfe75697b5": {
      "model_module": "@jupyter-widgets/output",
      "model_module_version": "1.0.0",
      "model_name": "OutputModel",
      "state": {
       "_dom_classes": [],
       "_model_module": "@jupyter-widgets/output",
       "_model_module_version": "1.0.0",
       "_model_name": "OutputModel",
       "_view_count": null,
       "_view_module": "@jupyter-widgets/output",
       "_view_module_version": "1.0.0",
       "_view_name": "OutputView",
       "layout": "IPY_MODEL_2fc901230fd740b1b1d75b9e102ec8e3",
       "msg_id": "",
       "outputs": [
        {
         "data": {
          "text/html": "<pre style=\"white-space:pre;overflow-x:auto;line-height:normal;font-family:Menlo,'DejaVu Sans Mono',consolas,'Courier New',monospace\"><span style=\"color: #800000; text-decoration-color: #800000; font-weight: bold\">↑</span> <span style=\"color: #000080; text-decoration-color: #000080; font-weight: bold\">simulation.hdf5.gz</span> <span style=\"color: #729c1f; text-decoration-color: #729c1f\">━━━━━━━━━━━━━━━━━━━━━━━━━</span> <span style=\"color: #800080; text-decoration-color: #800080\">100.0%</span> • <span style=\"color: #008000; text-decoration-color: #008000\">3.9/3.9 kB</span> • <span style=\"color: #800000; text-decoration-color: #800000\">?</span> • <span style=\"color: #008080; text-decoration-color: #008080\">0:00:00</span>\n</pre>\n",
          "text/plain": "\u001b[1;31m↑\u001b[0m \u001b[1;34msimulation.hdf5.gz\u001b[0m \u001b[38;2;114;156;31m━━━━━━━━━━━━━━━━━━━━━━━━━\u001b[0m \u001b[35m100.0%\u001b[0m • \u001b[32m3.9/3.9 kB\u001b[0m • \u001b[31m?\u001b[0m • \u001b[36m0:00:00\u001b[0m\n"
         },
         "metadata": {},
         "output_type": "display_data"
        }
       ],
       "tabbable": null,
       "tooltip": null
      }
     },
     "2fc901230fd740b1b1d75b9e102ec8e3": {
      "model_module": "@jupyter-widgets/base",
      "model_module_version": "2.0.0",
      "model_name": "LayoutModel",
      "state": {
       "_model_module": "@jupyter-widgets/base",
       "_model_module_version": "2.0.0",
       "_model_name": "LayoutModel",
       "_view_count": null,
       "_view_module": "@jupyter-widgets/base",
       "_view_module_version": "2.0.0",
       "_view_name": "LayoutView",
       "align_content": null,
       "align_items": null,
       "align_self": null,
       "border_bottom": null,
       "border_left": null,
       "border_right": null,
       "border_top": null,
       "bottom": null,
       "display": null,
       "flex": null,
       "flex_flow": null,
       "grid_area": null,
       "grid_auto_columns": null,
       "grid_auto_flow": null,
       "grid_auto_rows": null,
       "grid_column": null,
       "grid_gap": null,
       "grid_row": null,
       "grid_template_areas": null,
       "grid_template_columns": null,
       "grid_template_rows": null,
       "height": null,
       "justify_content": null,
       "justify_items": null,
       "left": null,
       "margin": null,
       "max_height": null,
       "max_width": null,
       "min_height": null,
       "min_width": null,
       "object_fit": null,
       "object_position": null,
       "order": null,
       "overflow": null,
       "padding": null,
       "right": null,
       "top": null,
       "visibility": null,
       "width": null
      }
     },
     "37c2d9229168411cb61d7b4f37a89615": {
      "model_module": "@jupyter-widgets/output",
      "model_module_version": "1.0.0",
      "model_name": "OutputModel",
      "state": {
       "_dom_classes": [],
       "_model_module": "@jupyter-widgets/output",
       "_model_module_version": "1.0.0",
       "_model_name": "OutputModel",
       "_view_count": null,
       "_view_module": "@jupyter-widgets/output",
       "_view_module_version": "1.0.0",
       "_view_name": "OutputView",
       "layout": "IPY_MODEL_4605762a6a2f4a62bd265cf94e8f573e",
       "msg_id": "",
       "outputs": [
        {
         "data": {
          "text/html": "<pre style=\"white-space:pre;overflow-x:auto;line-height:normal;font-family:Menlo,'DejaVu Sans Mono',consolas,'Courier New',monospace\">solver progress (field decay = 1.11e-06) <span style=\"color: #729c1f; text-decoration-color: #729c1f\">━━━━━━━━━━━━━━━━━━━━━━━━━━</span> <span style=\"color: #800080; text-decoration-color: #800080\">100%</span> <span style=\"color: #008080; text-decoration-color: #008080\">0:00:00</span>\n</pre>\n",
          "text/plain": "solver progress (field decay = 1.11e-06) \u001b[38;2;114;156;31m━━━━━━━━━━━━━━━━━━━━━━━━━━\u001b[0m \u001b[35m100%\u001b[0m \u001b[36m0:00:00\u001b[0m\n"
         },
         "metadata": {},
         "output_type": "display_data"
        }
       ],
       "tabbable": null,
       "tooltip": null
      }
     },
     "3d3c974352384793a939418f02142135": {
      "model_module": "@jupyter-widgets/base",
      "model_module_version": "2.0.0",
      "model_name": "LayoutModel",
      "state": {
       "_model_module": "@jupyter-widgets/base",
       "_model_module_version": "2.0.0",
       "_model_name": "LayoutModel",
       "_view_count": null,
       "_view_module": "@jupyter-widgets/base",
       "_view_module_version": "2.0.0",
       "_view_name": "LayoutView",
       "align_content": null,
       "align_items": null,
       "align_self": null,
       "border_bottom": null,
       "border_left": null,
       "border_right": null,
       "border_top": null,
       "bottom": null,
       "display": null,
       "flex": null,
       "flex_flow": null,
       "grid_area": null,
       "grid_auto_columns": null,
       "grid_auto_flow": null,
       "grid_auto_rows": null,
       "grid_column": null,
       "grid_gap": null,
       "grid_row": null,
       "grid_template_areas": null,
       "grid_template_columns": null,
       "grid_template_rows": null,
       "height": null,
       "justify_content": null,
       "justify_items": null,
       "left": null,
       "margin": null,
       "max_height": null,
       "max_width": null,
       "min_height": null,
       "min_width": null,
       "object_fit": null,
       "object_position": null,
       "order": null,
       "overflow": null,
       "padding": null,
       "right": null,
       "top": null,
       "visibility": null,
       "width": null
      }
     },
     "4605762a6a2f4a62bd265cf94e8f573e": {
      "model_module": "@jupyter-widgets/base",
      "model_module_version": "2.0.0",
      "model_name": "LayoutModel",
      "state": {
       "_model_module": "@jupyter-widgets/base",
       "_model_module_version": "2.0.0",
       "_model_name": "LayoutModel",
       "_view_count": null,
       "_view_module": "@jupyter-widgets/base",
       "_view_module_version": "2.0.0",
       "_view_name": "LayoutView",
       "align_content": null,
       "align_items": null,
       "align_self": null,
       "border_bottom": null,
       "border_left": null,
       "border_right": null,
       "border_top": null,
       "bottom": null,
       "display": null,
       "flex": null,
       "flex_flow": null,
       "grid_area": null,
       "grid_auto_columns": null,
       "grid_auto_flow": null,
       "grid_auto_rows": null,
       "grid_column": null,
       "grid_gap": null,
       "grid_row": null,
       "grid_template_areas": null,
       "grid_template_columns": null,
       "grid_template_rows": null,
       "height": null,
       "justify_content": null,
       "justify_items": null,
       "left": null,
       "margin": null,
       "max_height": null,
       "max_width": null,
       "min_height": null,
       "min_width": null,
       "object_fit": null,
       "object_position": null,
       "order": null,
       "overflow": null,
       "padding": null,
       "right": null,
       "top": null,
       "visibility": null,
       "width": null
      }
     },
     "533b5122c2564ac6a62b1a0b339f09fa": {
      "model_module": "@jupyter-widgets/output",
      "model_module_version": "1.0.0",
      "model_name": "OutputModel",
      "state": {
       "_dom_classes": [],
       "_model_module": "@jupyter-widgets/output",
       "_model_module_version": "1.0.0",
       "_model_name": "OutputModel",
       "_view_count": null,
       "_view_module": "@jupyter-widgets/output",
       "_view_module_version": "1.0.0",
       "_view_name": "OutputView",
       "layout": "IPY_MODEL_3d3c974352384793a939418f02142135",
       "msg_id": "",
       "outputs": [
        {
         "data": {
          "text/html": "<pre style=\"white-space:pre;overflow-x:auto;line-height:normal;font-family:Menlo,'DejaVu Sans Mono',consolas,'Courier New',monospace\"><span style=\"color: #008000; text-decoration-color: #008000\">🚶 </span> <span style=\"color: #008000; text-decoration-color: #008000; font-weight: bold\">Starting 'bottom_taper'...</span>\n</pre>\n",
          "text/plain": "\u001b[32m🚶 \u001b[0m \u001b[1;32mStarting 'bottom_taper'...\u001b[0m\n"
         },
         "metadata": {},
         "output_type": "display_data"
        }
       ],
       "tabbable": null,
       "tooltip": null
      }
     },
     "54e347985fa34caf865ae71762195466": {
      "model_module": "@jupyter-widgets/output",
      "model_module_version": "1.0.0",
      "model_name": "OutputModel",
      "state": {
       "_dom_classes": [],
       "_model_module": "@jupyter-widgets/output",
       "_model_module_version": "1.0.0",
       "_model_name": "OutputModel",
       "_view_count": null,
       "_view_module": "@jupyter-widgets/output",
       "_view_module_version": "1.0.0",
       "_view_name": "OutputView",
       "layout": "IPY_MODEL_f93beafa68794e6fb11343ce8f83c7f2",
       "msg_id": "",
       "outputs": [
        {
         "data": {
          "text/html": "<pre style=\"white-space:pre;overflow-x:auto;line-height:normal;font-family:Menlo,'DejaVu Sans Mono',consolas,'Courier New',monospace\"><span style=\"color: #008000; text-decoration-color: #008000; font-weight: bold\">↓</span> <span style=\"color: #000080; text-decoration-color: #000080; font-weight: bold\">monitor_data.hdf5</span> <span style=\"color: #729c1f; text-decoration-color: #729c1f\">━━━━━━━━━━━━━━━━━━━━━━━━</span> <span style=\"color: #800080; text-decoration-color: #800080\">100.0%</span> • <span style=\"color: #008000; text-decoration-color: #008000\">65.5/65.5 kB</span> • <span style=\"color: #800000; text-decoration-color: #800000\">?</span> • <span style=\"color: #008080; text-decoration-color: #008080\">0:00:00</span>\n</pre>\n",
          "text/plain": "\u001b[1;32m↓\u001b[0m \u001b[1;34mmonitor_data.hdf5\u001b[0m \u001b[38;2;114;156;31m━━━━━━━━━━━━━━━━━━━━━━━━\u001b[0m \u001b[35m100.0%\u001b[0m • \u001b[32m65.5/65.5 kB\u001b[0m • \u001b[31m?\u001b[0m • \u001b[36m0:00:00\u001b[0m\n"
         },
         "metadata": {},
         "output_type": "display_data"
        }
       ],
       "tabbable": null,
       "tooltip": null
      }
     },
     "580a8775537f42eb8f014df246ddad7a": {
      "model_module": "@jupyter-widgets/output",
      "model_module_version": "1.0.0",
      "model_name": "OutputModel",
      "state": {
       "_dom_classes": [],
       "_model_module": "@jupyter-widgets/output",
       "_model_module_version": "1.0.0",
       "_model_name": "OutputModel",
       "_view_count": null,
       "_view_module": "@jupyter-widgets/output",
       "_view_module_version": "1.0.0",
       "_view_name": "OutputView",
       "layout": "IPY_MODEL_056f296f1d12479c9b5ac29810cb89cb",
       "msg_id": "",
       "outputs": [
        {
         "data": {
          "text/html": "<pre style=\"white-space:pre;overflow-x:auto;line-height:normal;font-family:Menlo,'DejaVu Sans Mono',consolas,'Courier New',monospace\"><span style=\"color: #008000; text-decoration-color: #008000\">🚶 </span> <span style=\"color: #008000; text-decoration-color: #008000; font-weight: bold\">Starting 'top_taper'...</span>\n</pre>\n",
          "text/plain": "\u001b[32m🚶 \u001b[0m \u001b[1;32mStarting 'top_taper'...\u001b[0m\n"
         },
         "metadata": {},
         "output_type": "display_data"
        }
       ],
       "tabbable": null,
       "tooltip": null
      }
     },
     "7a433bef728543c38845d9e93b9fbb09": {
      "model_module": "@jupyter-widgets/base",
      "model_module_version": "2.0.0",
      "model_name": "LayoutModel",
      "state": {
       "_model_module": "@jupyter-widgets/base",
       "_model_module_version": "2.0.0",
       "_model_name": "LayoutModel",
       "_view_count": null,
       "_view_module": "@jupyter-widgets/base",
       "_view_module_version": "2.0.0",
       "_view_name": "LayoutView",
       "align_content": null,
       "align_items": null,
       "align_self": null,
       "border_bottom": null,
       "border_left": null,
       "border_right": null,
       "border_top": null,
       "bottom": null,
       "display": null,
       "flex": null,
       "flex_flow": null,
       "grid_area": null,
       "grid_auto_columns": null,
       "grid_auto_flow": null,
       "grid_auto_rows": null,
       "grid_column": null,
       "grid_gap": null,
       "grid_row": null,
       "grid_template_areas": null,
       "grid_template_columns": null,
       "grid_template_rows": null,
       "height": null,
       "justify_content": null,
       "justify_items": null,
       "left": null,
       "margin": null,
       "max_height": null,
       "max_width": null,
       "min_height": null,
       "min_width": null,
       "object_fit": null,
       "object_position": null,
       "order": null,
       "overflow": null,
       "padding": null,
       "right": null,
       "top": null,
       "visibility": null,
       "width": null
      }
     },
     "872d97798b8046ee8e3af85f56f27a1f": {
      "model_module": "@jupyter-widgets/output",
      "model_module_version": "1.0.0",
      "model_name": "OutputModel",
      "state": {
       "_dom_classes": [],
       "_model_module": "@jupyter-widgets/output",
       "_model_module_version": "1.0.0",
       "_model_name": "OutputModel",
       "_view_count": null,
       "_view_module": "@jupyter-widgets/output",
       "_view_module_version": "1.0.0",
       "_view_name": "OutputView",
       "layout": "IPY_MODEL_c3479604ae934105a0b8a428f74cb54b",
       "msg_id": "",
       "outputs": [
        {
         "data": {
          "text/html": "<pre style=\"white-space:pre;overflow-x:auto;line-height:normal;font-family:Menlo,'DejaVu Sans Mono',consolas,'Courier New',monospace\"><span style=\"color: #008000; text-decoration-color: #008000; font-weight: bold\">↓</span> <span style=\"color: #000080; text-decoration-color: #000080; font-weight: bold\">monitor_data.hdf5</span> <span style=\"color: #729c1f; text-decoration-color: #729c1f\">━━━━━━━━━━━━━━━━</span> <span style=\"color: #800080; text-decoration-color: #800080\">100.0%</span> • <span style=\"color: #008000; text-decoration-color: #008000\">31.9/31.9 MB</span> • <span style=\"color: #800000; text-decoration-color: #800000\">34.5 MB/s</span> • <span style=\"color: #008080; text-decoration-color: #008080\">0:00:00</span>\n</pre>\n",
          "text/plain": "\u001b[1;32m↓\u001b[0m \u001b[1;34mmonitor_data.hdf5\u001b[0m \u001b[38;2;114;156;31m━━━━━━━━━━━━━━━━\u001b[0m \u001b[35m100.0%\u001b[0m • \u001b[32m31.9/31.9 MB\u001b[0m • \u001b[31m34.5 MB/s\u001b[0m • \u001b[36m0:00:00\u001b[0m\n"
         },
         "metadata": {},
         "output_type": "display_data"
        }
       ],
       "tabbable": null,
       "tooltip": null
      }
     },
     "8e3e0414679b40969ebcbafae0a396ed": {
      "model_module": "@jupyter-widgets/base",
      "model_module_version": "2.0.0",
      "model_name": "LayoutModel",
      "state": {
       "_model_module": "@jupyter-widgets/base",
       "_model_module_version": "2.0.0",
       "_model_name": "LayoutModel",
       "_view_count": null,
       "_view_module": "@jupyter-widgets/base",
       "_view_module_version": "2.0.0",
       "_view_name": "LayoutView",
       "align_content": null,
       "align_items": null,
       "align_self": null,
       "border_bottom": null,
       "border_left": null,
       "border_right": null,
       "border_top": null,
       "bottom": null,
       "display": null,
       "flex": null,
       "flex_flow": null,
       "grid_area": null,
       "grid_auto_columns": null,
       "grid_auto_flow": null,
       "grid_auto_rows": null,
       "grid_column": null,
       "grid_gap": null,
       "grid_row": null,
       "grid_template_areas": null,
       "grid_template_columns": null,
       "grid_template_rows": null,
       "height": null,
       "justify_content": null,
       "justify_items": null,
       "left": null,
       "margin": null,
       "max_height": null,
       "max_width": null,
       "min_height": null,
       "min_width": null,
       "object_fit": null,
       "object_position": null,
       "order": null,
       "overflow": null,
       "padding": null,
       "right": null,
       "top": null,
       "visibility": null,
       "width": null
      }
     },
     "974a3a7f0aa943a6807f5380feef7a4b": {
      "model_module": "@jupyter-widgets/base",
      "model_module_version": "2.0.0",
      "model_name": "LayoutModel",
      "state": {
       "_model_module": "@jupyter-widgets/base",
       "_model_module_version": "2.0.0",
       "_model_name": "LayoutModel",
       "_view_count": null,
       "_view_module": "@jupyter-widgets/base",
       "_view_module_version": "2.0.0",
       "_view_name": "LayoutView",
       "align_content": null,
       "align_items": null,
       "align_self": null,
       "border_bottom": null,
       "border_left": null,
       "border_right": null,
       "border_top": null,
       "bottom": null,
       "display": null,
       "flex": null,
       "flex_flow": null,
       "grid_area": null,
       "grid_auto_columns": null,
       "grid_auto_flow": null,
       "grid_auto_rows": null,
       "grid_column": null,
       "grid_gap": null,
       "grid_row": null,
       "grid_template_areas": null,
       "grid_template_columns": null,
       "grid_template_rows": null,
       "height": null,
       "justify_content": null,
       "justify_items": null,
       "left": null,
       "margin": null,
       "max_height": null,
       "max_width": null,
       "min_height": null,
       "min_width": null,
       "object_fit": null,
       "object_position": null,
       "order": null,
       "overflow": null,
       "padding": null,
       "right": null,
       "top": null,
       "visibility": null,
       "width": null
      }
     },
     "9abbc2a24fde4081b6a7025698137271": {
      "model_module": "@jupyter-widgets/output",
      "model_module_version": "1.0.0",
      "model_name": "OutputModel",
      "state": {
       "_dom_classes": [],
       "_model_module": "@jupyter-widgets/output",
       "_model_module_version": "1.0.0",
       "_model_name": "OutputModel",
       "_view_count": null,
       "_view_module": "@jupyter-widgets/output",
       "_view_module_version": "1.0.0",
       "_view_name": "OutputView",
       "layout": "IPY_MODEL_e4384b9c0eed485baa7de3428670ea1a",
       "msg_id": "",
       "outputs": [
        {
         "data": {
          "text/html": "<pre style=\"white-space:pre;overflow-x:auto;line-height:normal;font-family:Menlo,'DejaVu Sans Mono',consolas,'Courier New',monospace\"><span style=\"color: #800000; text-decoration-color: #800000; font-weight: bold\">↑</span> <span style=\"color: #000080; text-decoration-color: #000080; font-weight: bold\">simulation.hdf5.gz</span> <span style=\"color: #729c1f; text-decoration-color: #729c1f\">━━━━━━━━━━━━━━━━━━━━━━━━━</span> <span style=\"color: #800080; text-decoration-color: #800080\">100.0%</span> • <span style=\"color: #008000; text-decoration-color: #008000\">2.8/2.8 kB</span> • <span style=\"color: #800000; text-decoration-color: #800000\">?</span> • <span style=\"color: #008080; text-decoration-color: #008080\">0:00:00</span>\n</pre>\n",
          "text/plain": "\u001b[1;31m↑\u001b[0m \u001b[1;34msimulation.hdf5.gz\u001b[0m \u001b[38;2;114;156;31m━━━━━━━━━━━━━━━━━━━━━━━━━\u001b[0m \u001b[35m100.0%\u001b[0m • \u001b[32m2.8/2.8 kB\u001b[0m • \u001b[31m?\u001b[0m • \u001b[36m0:00:00\u001b[0m\n"
         },
         "metadata": {},
         "output_type": "display_data"
        }
       ],
       "tabbable": null,
       "tooltip": null
      }
     },
     "a6120c2f45d04d55b875869960786a1c": {
      "model_module": "@jupyter-widgets/output",
      "model_module_version": "1.0.0",
      "model_name": "OutputModel",
      "state": {
       "_dom_classes": [],
       "_model_module": "@jupyter-widgets/output",
       "_model_module_version": "1.0.0",
       "_model_name": "OutputModel",
       "_view_count": null,
       "_view_module": "@jupyter-widgets/output",
       "_view_module_version": "1.0.0",
       "_view_name": "OutputView",
       "layout": "IPY_MODEL_05fcea31d22840b09f478f7fcc55bd67",
       "msg_id": "",
       "outputs": [
        {
         "data": {
          "text/html": "<pre style=\"white-space:pre;overflow-x:auto;line-height:normal;font-family:Menlo,'DejaVu Sans Mono',consolas,'Courier New',monospace\"><span style=\"color: #008000; text-decoration-color: #008000\">🚶 </span> <span style=\"color: #008000; text-decoration-color: #008000; font-weight: bold\">Finishing 'top_taper'...</span>\n</pre>\n",
          "text/plain": "\u001b[32m🚶 \u001b[0m \u001b[1;32mFinishing 'top_taper'...\u001b[0m\n"
         },
         "metadata": {},
         "output_type": "display_data"
        }
       ],
       "tabbable": null,
       "tooltip": null
      }
     },
     "acc3b918cf3e4f2ba9fb89ca8ff59a93": {
      "model_module": "@jupyter-widgets/base",
      "model_module_version": "2.0.0",
      "model_name": "LayoutModel",
      "state": {
       "_model_module": "@jupyter-widgets/base",
       "_model_module_version": "2.0.0",
       "_model_name": "LayoutModel",
       "_view_count": null,
       "_view_module": "@jupyter-widgets/base",
       "_view_module_version": "2.0.0",
       "_view_name": "LayoutView",
       "align_content": null,
       "align_items": null,
       "align_self": null,
       "border_bottom": null,
       "border_left": null,
       "border_right": null,
       "border_top": null,
       "bottom": null,
       "display": null,
       "flex": null,
       "flex_flow": null,
       "grid_area": null,
       "grid_auto_columns": null,
       "grid_auto_flow": null,
       "grid_auto_rows": null,
       "grid_column": null,
       "grid_gap": null,
       "grid_row": null,
       "grid_template_areas": null,
       "grid_template_columns": null,
       "grid_template_rows": null,
       "height": null,
       "justify_content": null,
       "justify_items": null,
       "left": null,
       "margin": null,
       "max_height": null,
       "max_width": null,
       "min_height": null,
       "min_width": null,
       "object_fit": null,
       "object_position": null,
       "order": null,
       "overflow": null,
       "padding": null,
       "right": null,
       "top": null,
       "visibility": null,
       "width": null
      }
     },
     "b2529d8efeb34562bb679e1d3ab5aa74": {
      "model_module": "@jupyter-widgets/output",
      "model_module_version": "1.0.0",
      "model_name": "OutputModel",
      "state": {
       "_dom_classes": [],
       "_model_module": "@jupyter-widgets/output",
       "_model_module_version": "1.0.0",
       "_model_name": "OutputModel",
       "_view_count": null,
       "_view_module": "@jupyter-widgets/output",
       "_view_module_version": "1.0.0",
       "_view_name": "OutputView",
       "layout": "IPY_MODEL_de0a44e14a474a9595e763214c103a43",
       "msg_id": "",
       "outputs": [
        {
         "data": {
          "text/html": "<pre style=\"white-space:pre;overflow-x:auto;line-height:normal;font-family:Menlo,'DejaVu Sans Mono',consolas,'Courier New',monospace\">solver progress (field decay = 1.41e-04) <span style=\"color: #729c1f; text-decoration-color: #729c1f\">━━━━━━━━━━━━━━━━━━━━━━━━━━</span> <span style=\"color: #800080; text-decoration-color: #800080\">100%</span> <span style=\"color: #008080; text-decoration-color: #008080\">0:00:00</span>\n</pre>\n",
          "text/plain": "solver progress (field decay = 1.41e-04) \u001b[38;2;114;156;31m━━━━━━━━━━━━━━━━━━━━━━━━━━\u001b[0m \u001b[35m100%\u001b[0m \u001b[36m0:00:00\u001b[0m\n"
         },
         "metadata": {},
         "output_type": "display_data"
        }
       ],
       "tabbable": null,
       "tooltip": null
      }
     },
     "b929924f9d674fb0a52fa66d3fec0b11": {
      "model_module": "@jupyter-widgets/output",
      "model_module_version": "1.0.0",
      "model_name": "OutputModel",
      "state": {
       "_dom_classes": [],
       "_model_module": "@jupyter-widgets/output",
       "_model_module_version": "1.0.0",
       "_model_name": "OutputModel",
       "_view_count": null,
       "_view_module": "@jupyter-widgets/output",
       "_view_module_version": "1.0.0",
       "_view_name": "OutputView",
       "layout": "IPY_MODEL_cdbd62307a524dffae4ce44998e5648a",
       "msg_id": "",
       "outputs": [
        {
         "data": {
          "text/html": "<pre style=\"white-space:pre;overflow-x:auto;line-height:normal;font-family:Menlo,'DejaVu Sans Mono',consolas,'Courier New',monospace\"><span style=\"color: #008000; text-decoration-color: #008000; font-weight: bold\">↓</span> <span style=\"color: #000080; text-decoration-color: #000080; font-weight: bold\">monitor_data.hdf5</span> <span style=\"color: #729c1f; text-decoration-color: #729c1f\">━━━━━━━━━━━━━━━━━━━━━━━━</span> <span style=\"color: #800080; text-decoration-color: #800080\">100.0%</span> • <span style=\"color: #008000; text-decoration-color: #008000\">65.5/65.5 kB</span> • <span style=\"color: #800000; text-decoration-color: #800000\">?</span> • <span style=\"color: #008080; text-decoration-color: #008080\">0:00:00</span>\n</pre>\n",
          "text/plain": "\u001b[1;32m↓\u001b[0m \u001b[1;34mmonitor_data.hdf5\u001b[0m \u001b[38;2;114;156;31m━━━━━━━━━━━━━━━━━━━━━━━━\u001b[0m \u001b[35m100.0%\u001b[0m • \u001b[32m65.5/65.5 kB\u001b[0m • \u001b[31m?\u001b[0m • \u001b[36m0:00:00\u001b[0m\n"
         },
         "metadata": {},
         "output_type": "display_data"
        }
       ],
       "tabbable": null,
       "tooltip": null
      }
     },
     "bd50f698a28c4f15900234e7885ff9b7": {
      "model_module": "@jupyter-widgets/base",
      "model_module_version": "2.0.0",
      "model_name": "LayoutModel",
      "state": {
       "_model_module": "@jupyter-widgets/base",
       "_model_module_version": "2.0.0",
       "_model_name": "LayoutModel",
       "_view_count": null,
       "_view_module": "@jupyter-widgets/base",
       "_view_module_version": "2.0.0",
       "_view_name": "LayoutView",
       "align_content": null,
       "align_items": null,
       "align_self": null,
       "border_bottom": null,
       "border_left": null,
       "border_right": null,
       "border_top": null,
       "bottom": null,
       "display": null,
       "flex": null,
       "flex_flow": null,
       "grid_area": null,
       "grid_auto_columns": null,
       "grid_auto_flow": null,
       "grid_auto_rows": null,
       "grid_column": null,
       "grid_gap": null,
       "grid_row": null,
       "grid_template_areas": null,
       "grid_template_columns": null,
       "grid_template_rows": null,
       "height": null,
       "justify_content": null,
       "justify_items": null,
       "left": null,
       "margin": null,
       "max_height": null,
       "max_width": null,
       "min_height": null,
       "min_width": null,
       "object_fit": null,
       "object_position": null,
       "order": null,
       "overflow": null,
       "padding": null,
       "right": null,
       "top": null,
       "visibility": null,
       "width": null
      }
     },
     "be889ed862d745eb9a27fcdce30b9c34": {
      "model_module": "@jupyter-widgets/output",
      "model_module_version": "1.0.0",
      "model_name": "OutputModel",
      "state": {
       "_dom_classes": [],
       "_model_module": "@jupyter-widgets/output",
       "_model_module_version": "1.0.0",
       "_model_name": "OutputModel",
       "_view_count": null,
       "_view_module": "@jupyter-widgets/output",
       "_view_module_version": "1.0.0",
       "_view_name": "OutputView",
       "layout": "IPY_MODEL_974a3a7f0aa943a6807f5380feef7a4b",
       "msg_id": "",
       "outputs": [
        {
         "data": {
          "text/html": "<pre style=\"white-space:pre;overflow-x:auto;line-height:normal;font-family:Menlo,'DejaVu Sans Mono',consolas,'Courier New',monospace\">solver progress (field decay = 2.20e-06) <span style=\"color: #729c1f; text-decoration-color: #729c1f\">━━━━━━━━━━━━━━━━━━━━━━━━━━</span> <span style=\"color: #800080; text-decoration-color: #800080\">100%</span> <span style=\"color: #008080; text-decoration-color: #008080\">0:00:00</span>\n</pre>\n",
          "text/plain": "solver progress (field decay = 2.20e-06) \u001b[38;2;114;156;31m━━━━━━━━━━━━━━━━━━━━━━━━━━\u001b[0m \u001b[35m100%\u001b[0m \u001b[36m0:00:00\u001b[0m\n"
         },
         "metadata": {},
         "output_type": "display_data"
        }
       ],
       "tabbable": null,
       "tooltip": null
      }
     },
     "c3479604ae934105a0b8a428f74cb54b": {
      "model_module": "@jupyter-widgets/base",
      "model_module_version": "2.0.0",
      "model_name": "LayoutModel",
      "state": {
       "_model_module": "@jupyter-widgets/base",
       "_model_module_version": "2.0.0",
       "_model_name": "LayoutModel",
       "_view_count": null,
       "_view_module": "@jupyter-widgets/base",
       "_view_module_version": "2.0.0",
       "_view_name": "LayoutView",
       "align_content": null,
       "align_items": null,
       "align_self": null,
       "border_bottom": null,
       "border_left": null,
       "border_right": null,
       "border_top": null,
       "bottom": null,
       "display": null,
       "flex": null,
       "flex_flow": null,
       "grid_area": null,
       "grid_auto_columns": null,
       "grid_auto_flow": null,
       "grid_auto_rows": null,
       "grid_column": null,
       "grid_gap": null,
       "grid_row": null,
       "grid_template_areas": null,
       "grid_template_columns": null,
       "grid_template_rows": null,
       "height": null,
       "justify_content": null,
       "justify_items": null,
       "left": null,
       "margin": null,
       "max_height": null,
       "max_width": null,
       "min_height": null,
       "min_width": null,
       "object_fit": null,
       "object_position": null,
       "order": null,
       "overflow": null,
       "padding": null,
       "right": null,
       "top": null,
       "visibility": null,
       "width": null
      }
     },
     "ccddf9f78c88439bb0ad269c369c42a2": {
      "model_module": "@jupyter-widgets/output",
      "model_module_version": "1.0.0",
      "model_name": "OutputModel",
      "state": {
       "_dom_classes": [],
       "_model_module": "@jupyter-widgets/output",
       "_model_module_version": "1.0.0",
       "_model_name": "OutputModel",
       "_view_count": null,
       "_view_module": "@jupyter-widgets/output",
       "_view_module_version": "1.0.0",
       "_view_name": "OutputView",
       "layout": "IPY_MODEL_acc3b918cf3e4f2ba9fb89ca8ff59a93",
       "msg_id": "",
       "outputs": [
        {
         "data": {
          "text/html": "<pre style=\"white-space:pre;overflow-x:auto;line-height:normal;font-family:Menlo,'DejaVu Sans Mono',consolas,'Courier New',monospace\"><span style=\"color: #008000; text-decoration-color: #008000\">🚶 </span> <span style=\"color: #008000; text-decoration-color: #008000; font-weight: bold\">Finishing 'full_structure'...</span>\n</pre>\n",
          "text/plain": "\u001b[32m🚶 \u001b[0m \u001b[1;32mFinishing 'full_structure'...\u001b[0m\n"
         },
         "metadata": {},
         "output_type": "display_data"
        }
       ],
       "tabbable": null,
       "tooltip": null
      }
     },
     "cdbd62307a524dffae4ce44998e5648a": {
      "model_module": "@jupyter-widgets/base",
      "model_module_version": "2.0.0",
      "model_name": "LayoutModel",
      "state": {
       "_model_module": "@jupyter-widgets/base",
       "_model_module_version": "2.0.0",
       "_model_name": "LayoutModel",
       "_view_count": null,
       "_view_module": "@jupyter-widgets/base",
       "_view_module_version": "2.0.0",
       "_view_name": "LayoutView",
       "align_content": null,
       "align_items": null,
       "align_self": null,
       "border_bottom": null,
       "border_left": null,
       "border_right": null,
       "border_top": null,
       "bottom": null,
       "display": null,
       "flex": null,
       "flex_flow": null,
       "grid_area": null,
       "grid_auto_columns": null,
       "grid_auto_flow": null,
       "grid_auto_rows": null,
       "grid_column": null,
       "grid_gap": null,
       "grid_row": null,
       "grid_template_areas": null,
       "grid_template_columns": null,
       "grid_template_rows": null,
       "height": null,
       "justify_content": null,
       "justify_items": null,
       "left": null,
       "margin": null,
       "max_height": null,
       "max_width": null,
       "min_height": null,
       "min_width": null,
       "object_fit": null,
       "object_position": null,
       "order": null,
       "overflow": null,
       "padding": null,
       "right": null,
       "top": null,
       "visibility": null,
       "width": null
      }
     },
     "de0a44e14a474a9595e763214c103a43": {
      "model_module": "@jupyter-widgets/base",
      "model_module_version": "2.0.0",
      "model_name": "LayoutModel",
      "state": {
       "_model_module": "@jupyter-widgets/base",
       "_model_module_version": "2.0.0",
       "_model_name": "LayoutModel",
       "_view_count": null,
       "_view_module": "@jupyter-widgets/base",
       "_view_module_version": "2.0.0",
       "_view_name": "LayoutView",
       "align_content": null,
       "align_items": null,
       "align_self": null,
       "border_bottom": null,
       "border_left": null,
       "border_right": null,
       "border_top": null,
       "bottom": null,
       "display": null,
       "flex": null,
       "flex_flow": null,
       "grid_area": null,
       "grid_auto_columns": null,
       "grid_auto_flow": null,
       "grid_auto_rows": null,
       "grid_column": null,
       "grid_gap": null,
       "grid_row": null,
       "grid_template_areas": null,
       "grid_template_columns": null,
       "grid_template_rows": null,
       "height": null,
       "justify_content": null,
       "justify_items": null,
       "left": null,
       "margin": null,
       "max_height": null,
       "max_width": null,
       "min_height": null,
       "min_width": null,
       "object_fit": null,
       "object_position": null,
       "order": null,
       "overflow": null,
       "padding": null,
       "right": null,
       "top": null,
       "visibility": null,
       "width": null
      }
     },
     "e4384b9c0eed485baa7de3428670ea1a": {
      "model_module": "@jupyter-widgets/base",
      "model_module_version": "2.0.0",
      "model_name": "LayoutModel",
      "state": {
       "_model_module": "@jupyter-widgets/base",
       "_model_module_version": "2.0.0",
       "_model_name": "LayoutModel",
       "_view_count": null,
       "_view_module": "@jupyter-widgets/base",
       "_view_module_version": "2.0.0",
       "_view_name": "LayoutView",
       "align_content": null,
       "align_items": null,
       "align_self": null,
       "border_bottom": null,
       "border_left": null,
       "border_right": null,
       "border_top": null,
       "bottom": null,
       "display": null,
       "flex": null,
       "flex_flow": null,
       "grid_area": null,
       "grid_auto_columns": null,
       "grid_auto_flow": null,
       "grid_auto_rows": null,
       "grid_column": null,
       "grid_gap": null,
       "grid_row": null,
       "grid_template_areas": null,
       "grid_template_columns": null,
       "grid_template_rows": null,
       "height": null,
       "justify_content": null,
       "justify_items": null,
       "left": null,
       "margin": null,
       "max_height": null,
       "max_width": null,
       "min_height": null,
       "min_width": null,
       "object_fit": null,
       "object_position": null,
       "order": null,
       "overflow": null,
       "padding": null,
       "right": null,
       "top": null,
       "visibility": null,
       "width": null
      }
     },
     "ef815d50b22549369cb5c24e94c99cf1": {
      "model_module": "@jupyter-widgets/output",
      "model_module_version": "1.0.0",
      "model_name": "OutputModel",
      "state": {
       "_dom_classes": [],
       "_model_module": "@jupyter-widgets/output",
       "_model_module_version": "1.0.0",
       "_model_name": "OutputModel",
       "_view_count": null,
       "_view_module": "@jupyter-widgets/output",
       "_view_module_version": "1.0.0",
       "_view_name": "OutputView",
       "layout": "IPY_MODEL_8e3e0414679b40969ebcbafae0a396ed",
       "msg_id": "",
       "outputs": [
        {
         "data": {
          "text/html": "<pre style=\"white-space:pre;overflow-x:auto;line-height:normal;font-family:Menlo,'DejaVu Sans Mono',consolas,'Courier New',monospace\"><span style=\"color: #008000; text-decoration-color: #008000\">🚶 </span> <span style=\"color: #008000; text-decoration-color: #008000; font-weight: bold\">Finishing 'bottom_taper'...</span>\n</pre>\n",
          "text/plain": "\u001b[32m🚶 \u001b[0m \u001b[1;32mFinishing 'bottom_taper'...\u001b[0m\n"
         },
         "metadata": {},
         "output_type": "display_data"
        }
       ],
       "tabbable": null,
       "tooltip": null
      }
     },
     "f28784af747a44d2b3f75ebb6aedd3cc": {
      "model_module": "@jupyter-widgets/output",
      "model_module_version": "1.0.0",
      "model_name": "OutputModel",
      "state": {
       "_dom_classes": [],
       "_model_module": "@jupyter-widgets/output",
       "_model_module_version": "1.0.0",
       "_model_name": "OutputModel",
       "_view_count": null,
       "_view_module": "@jupyter-widgets/output",
       "_view_module_version": "1.0.0",
       "_view_name": "OutputView",
       "layout": "IPY_MODEL_7a433bef728543c38845d9e93b9fbb09",
       "msg_id": "",
       "outputs": [
        {
         "data": {
          "text/html": "<pre style=\"white-space:pre;overflow-x:auto;line-height:normal;font-family:Menlo,'DejaVu Sans Mono',consolas,'Courier New',monospace\"><span style=\"color: #008000; text-decoration-color: #008000\">🏃 </span> <span style=\"color: #008000; text-decoration-color: #008000; font-weight: bold\">Starting 'full_structure'...</span>\n</pre>\n",
          "text/plain": "\u001b[32m🏃 \u001b[0m \u001b[1;32mStarting 'full_structure'...\u001b[0m\n"
         },
         "metadata": {},
         "output_type": "display_data"
        }
       ],
       "tabbable": null,
       "tooltip": null
      }
     },
     "f93beafa68794e6fb11343ce8f83c7f2": {
      "model_module": "@jupyter-widgets/base",
      "model_module_version": "2.0.0",
      "model_name": "LayoutModel",
      "state": {
       "_model_module": "@jupyter-widgets/base",
       "_model_module_version": "2.0.0",
       "_model_name": "LayoutModel",
       "_view_count": null,
       "_view_module": "@jupyter-widgets/base",
       "_view_module_version": "2.0.0",
       "_view_name": "LayoutView",
       "align_content": null,
       "align_items": null,
       "align_self": null,
       "border_bottom": null,
       "border_left": null,
       "border_right": null,
       "border_top": null,
       "bottom": null,
       "display": null,
       "flex": null,
       "flex_flow": null,
       "grid_area": null,
       "grid_auto_columns": null,
       "grid_auto_flow": null,
       "grid_auto_rows": null,
       "grid_column": null,
       "grid_gap": null,
       "grid_row": null,
       "grid_template_areas": null,
       "grid_template_columns": null,
       "grid_template_rows": null,
       "height": null,
       "justify_content": null,
       "justify_items": null,
       "left": null,
       "margin": null,
       "max_height": null,
       "max_width": null,
       "min_height": null,
       "min_width": null,
       "object_fit": null,
       "object_position": null,
       "order": null,
       "overflow": null,
       "padding": null,
       "right": null,
       "top": null,
       "visibility": null,
       "width": null
      }
     }
    },
    "version_major": 2,
    "version_minor": 0
   }
  }
 },
 "nbformat": 4,
 "nbformat_minor": 5
}
