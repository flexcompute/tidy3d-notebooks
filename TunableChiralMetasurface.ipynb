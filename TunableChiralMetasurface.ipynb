{
 "cells": [
  {
   "cell_type": "markdown",
   "id": "32c6f6b4",
   "metadata": {},
   "source": [
    "# Tunable chiral metasurface based on phase change material"
   ]
  },
  {
   "cell_type": "markdown",
   "id": "4e0d0a39",
   "metadata": {},
   "source": [
    "Chiral optical structures, characterized by their absence of mirror symmetry, interact distinctively with left circularly polarized (LCP) and right circularly polarized (RCP) light, resulting in circular dichroism (CD) responses. This phenomenon is crucial in diverse research fields, such as drug synthesis, chiral sensing, and optical communication. However, natural optical materials exhibit very weak CD due to limited chiral light-matter interaction strength. In contrast, optical metasurfaces, as artificially engineered materials, can exhibit electromagnetic properties surpassing those of natural materials. Specifically, optical metasurfaces with chiral structures as unit cells can demonstrate strong chiroptical properties with high CD. \n",
    "\n",
    "In this notebook, we demonstrate a wavelength-tunable infrared chiral metasurface, incorporating the phase-change material GST-225, with a parallelogram-shaped resonator as its unit cell. The metasurface's resonance wavelength is tuned through the phase transition of GST-225. The design is based on `Haotian Tang, Liliana Stan, David A. Czaplewski, Xiaodong Yang, and Jie Gao, \"Wavelength-tunable infrared chiral metasurfaces with phase-change materials,\" Opt. Express 31, 21118-21127 (2023)` [DOI:10.1364/OE.489841](https://doi.org/10.1364/OE.489841).\n",
    "\n",
    "<img src=\"img/tunable_chiral_metasurface.png\" width=\"500\" alt=\"Schematic of the metasurface\">\n",
    "\n",
    "For more metamaterial and metasurface examples, please see the [dielectric metasurface absorber](https://www.flexcompute.com/tidy3d/examples/notebooks/DielectricMetasurfaceAbsorber/), the [graphene metamaterial absorber](https://www.flexcompute.com/tidy3d/examples/notebooks/GrapheneMetamaterial/), the [Fano metasurface](https://www.flexcompute.com/tidy3d/examples/notebooks/HighQGe/), and the [gradient metasurface reflector](https://www.flexcompute.com/tidy3d/examples/notebooks/GradientMetasurfaceReflector/)."
   ]
  },
  {
   "cell_type": "code",
   "execution_count": 1,
   "id": "53369c5c",
   "metadata": {
    "execution": {
     "iopub.execute_input": "2024-02-17T09:20:28.252828Z",
     "iopub.status.busy": "2024-02-17T09:20:28.252251Z",
     "iopub.status.idle": "2024-02-17T09:20:29.533359Z",
     "shell.execute_reply": "2024-02-17T09:20:29.532776Z"
    }
   },
   "outputs": [],
   "source": [
    "import numpy as np\n",
    "import matplotlib.pyplot as plt\n",
    "\n",
    "import tidy3d as td\n",
    "import tidy3d.web as web\n",
    "from tidy3d.plugins.dispersion import FastDispersionFitter, AdvancedFastFitterParam"
   ]
  },
  {
   "cell_type": "markdown",
   "id": "2d2b35fb",
   "metadata": {},
   "source": [
    "## Simulation Setup "
   ]
  },
  {
   "cell_type": "markdown",
   "id": "c770707c",
   "metadata": {},
   "source": [
    "In this example, we investigate the wavelength range of 2-3 µm."
   ]
  },
  {
   "cell_type": "code",
   "execution_count": 2,
   "id": "1e07a08b",
   "metadata": {
    "execution": {
     "iopub.execute_input": "2024-02-17T09:20:29.535518Z",
     "iopub.status.busy": "2024-02-17T09:20:29.535297Z",
     "iopub.status.idle": "2024-02-17T09:20:29.551161Z",
     "shell.execute_reply": "2024-02-17T09:20:29.550605Z"
    }
   },
   "outputs": [],
   "source": [
    "lda0 = 2.5  # central wavelength\n",
    "freq0 = td.C_0 / lda0  # central frequency\n",
    "ldas = np.linspace(2, 3, 101)  # wavelength range\n",
    "freqs = td.C_0 / ldas  # frequency range\n",
    "fwidth = 0.5 * (np.max(freqs) - np.min(freqs))  # width of the source frequency range"
   ]
  },
  {
   "cell_type": "markdown",
   "id": "be81fdfe",
   "metadata": {},
   "source": [
    "### Define Geometric Parameters\n",
    "\n",
    "The physical meaning of the parameters is schematically shown in Fig. 1(b) of the [paper](https://doi.org/10.1364/OE.489841)."
   ]
  },
  {
   "cell_type": "code",
   "execution_count": 3,
   "id": "3a43a9b2",
   "metadata": {
    "execution": {
     "iopub.execute_input": "2024-02-17T09:20:29.553114Z",
     "iopub.status.busy": "2024-02-17T09:20:29.552948Z",
     "iopub.status.idle": "2024-02-17T09:20:29.568109Z",
     "shell.execute_reply": "2024-02-17T09:20:29.567567Z"
    }
   },
   "outputs": [],
   "source": [
    "Px = 1.25  # unit cell period in the x direction\n",
    "Py = 0.4  # unit cell period in the y direction\n",
    "A = 0.24  # width of the Al resonator\n",
    "B = 0.21  # width of the slot\n",
    "alpha = 30 * np.pi / 180  # tilted angle of the slot\n",
    "t_gst = 0.075  # thickness of the GST layer\n",
    "t_al2o3 = 0.025  # thickness of the Al2O3 capping layer\n",
    "t_al = 0.06  # thickness of the Al layer"
   ]
  },
  {
   "cell_type": "markdown",
   "id": "02d340f5",
   "metadata": {},
   "source": [
    "### Define Material Media\n",
    "\n",
    "For aluminum, we directly use the predefined medium from the [material library](../api/material_library.html). Alumina is defined by a [Sellmeier](../api/_autosummary/tidy3d.Sellmeier.html) model.  "
   ]
  },
  {
   "cell_type": "code",
   "execution_count": 4,
   "id": "0f84df0b",
   "metadata": {
    "execution": {
     "iopub.execute_input": "2024-02-17T09:20:29.569890Z",
     "iopub.status.busy": "2024-02-17T09:20:29.569726Z",
     "iopub.status.idle": "2024-02-17T09:20:29.584895Z",
     "shell.execute_reply": "2024-02-17T09:20:29.584331Z"
    }
   },
   "outputs": [],
   "source": [
    "Al = td.material_library[\"Al\"][\"RakicLorentzDrude1998\"]\n",
    "\n",
    "coeffs = [(1.431, 0.0727**2), (0.651, 0.119**2), (5.341, 18.028**2)]\n",
    "Al2O3 = td.Sellmeier(coeffs=coeffs)"
   ]
  },
  {
   "cell_type": "markdown",
   "id": "076cbb25",
   "metadata": {},
   "source": [
    "The crystalline and amorphous states of GST are defined by using the [FastDispersionFitter](../api/_autosummary/tidy3d.plugins.dispersion.FastDispersionFitter.html) to fit wavelength-dependent refractive index profiles stored in CSV files."
   ]
  },
  {
   "cell_type": "code",
   "execution_count": 5,
   "id": "e50e4b12",
   "metadata": {
    "execution": {
     "iopub.execute_input": "2024-02-17T09:20:29.586812Z",
     "iopub.status.busy": "2024-02-17T09:20:29.586647Z",
     "iopub.status.idle": "2024-02-17T09:20:32.395797Z",
     "shell.execute_reply": "2024-02-17T09:20:32.395275Z"
    }
   },
   "outputs": [
    {
     "data": {
      "application/vnd.jupyter.widget-view+json": {
       "model_id": "ad1247e50d1f4554b1e49ed427b29a8d",
       "version_major": 2,
       "version_minor": 0
      },
      "text/plain": [
       "Output()"
      ]
     },
     "metadata": {},
     "output_type": "display_data"
    },
    {
     "data": {
      "text/html": [
       "<pre style=\"white-space:pre;overflow-x:auto;line-height:normal;font-family:Menlo,'DejaVu Sans Mono',consolas,'Courier New',monospace\"></pre>\n"
      ],
      "text/plain": []
     },
     "metadata": {},
     "output_type": "display_data"
    },
    {
     "data": {
      "text/html": [
       "<pre style=\"white-space:pre;overflow-x:auto;line-height:normal;font-family:Menlo,'DejaVu Sans Mono',consolas,'Courier New',monospace\">\n",
       "</pre>\n"
      ],
      "text/plain": [
       "\n"
      ]
     },
     "metadata": {},
     "output_type": "display_data"
    },
    {
     "data": {
      "text/html": [
       "<pre style=\"white-space:pre;overflow-x:auto;line-height:normal;font-family:Menlo,'DejaVu Sans Mono',consolas,'Courier New',monospace\"><span style=\"color: #7fbfbf; text-decoration-color: #7fbfbf\">01:20:32 PST </span><span style=\"color: #800000; text-decoration-color: #800000\">WARNING: Unable to fit with weighted RMS error under               </span>\n",
       "<span style=\"color: #7fbfbf; text-decoration-color: #7fbfbf\">             </span><span style=\"color: #008000; text-decoration-color: #008000\">'tolerance_rms'</span><span style=\"color: #800000; text-decoration-color: #800000\"> of </span><span style=\"color: #008080; text-decoration-color: #008080; font-weight: bold\">0.05</span><span style=\"color: #800000; text-decoration-color: #800000\">                                            </span>\n",
       "</pre>\n"
      ],
      "text/plain": [
       "\u001b[2;36m01:20:32 PST\u001b[0m\u001b[2;36m \u001b[0m\u001b[31mWARNING: Unable to fit with weighted RMS error under               \u001b[0m\n",
       "\u001b[2;36m             \u001b[0m\u001b[32m'tolerance_rms'\u001b[0m\u001b[31m of \u001b[0m\u001b[1;36m0.05\u001b[0m\u001b[31m                                            \u001b[0m\n"
      ]
     },
     "metadata": {},
     "output_type": "display_data"
    },
    {
     "data": {
      "image/png": "[encoded data removed]",
      "text/plain": [
       "<Figure size 640x480 with 1 Axes>"
      ]
     },
     "metadata": {},
     "output_type": "display_data"
    }
   ],
   "source": [
    "fitter = FastDispersionFitter.from_file(\"misc/GST_A_nk.csv\", skiprows=0, delimiter=\",\")\n",
    "advanced_param = AdvancedFastFitterParam(weights=(1, 1))\n",
    "GST_A, _ = fitter.fit(max_num_poles=4, advanced_param=advanced_param, tolerance_rms=0.05)\n",
    "fitter.plot(GST_A)\n",
    "plt.show()"
   ]
  },
  {
   "cell_type": "code",
   "execution_count": 6,
   "id": "e8ae3954",
   "metadata": {
    "execution": {
     "iopub.execute_input": "2024-02-17T09:20:32.552599Z",
     "iopub.status.busy": "2024-02-17T09:20:32.552461Z",
     "iopub.status.idle": "2024-02-17T09:20:33.996063Z",
     "shell.execute_reply": "2024-02-17T09:20:33.995446Z"
    }
   },
   "outputs": [
    {
     "data": {
      "application/vnd.jupyter.widget-view+json": {
       "model_id": "d28143814ae44bb793a71c90c403dd2c",
       "version_major": 2,
       "version_minor": 0
      },
      "text/plain": [
       "Output()"
      ]
     },
     "metadata": {},
     "output_type": "display_data"
    },
    {
     "data": {
      "text/html": [
       "<pre style=\"white-space:pre;overflow-x:auto;line-height:normal;font-family:Menlo,'DejaVu Sans Mono',consolas,'Courier New',monospace\"></pre>\n"
      ],
      "text/plain": []
     },
     "metadata": {},
     "output_type": "display_data"
    },
    {
     "data": {
      "text/html": [
       "<pre style=\"white-space:pre;overflow-x:auto;line-height:normal;font-family:Menlo,'DejaVu Sans Mono',consolas,'Courier New',monospace\">\n",
       "</pre>\n"
      ],
      "text/plain": [
       "\n"
      ]
     },
     "metadata": {},
     "output_type": "display_data"
    },
    {
     "data": {
      "image/png": "[encoded data removed]",
      "text/plain": [
       "<Figure size 640x480 with 1 Axes>"
      ]
     },
     "metadata": {},
     "output_type": "display_data"
    }
   ],
   "source": [
    "fitter = FastDispersionFitter.from_file(\"misc/GST_C_nk.csv\", skiprows=0, delimiter=\",\")\n",
    "GST_C, _ = fitter.fit(max_num_poles=4, advanced_param=advanced_param, tolerance_rms=0.05)\n",
    "fitter.plot(GST_C)\n",
    "plt.show()"
   ]
  },
  {
   "cell_type": "markdown",
   "id": "a7a1c66c",
   "metadata": {},
   "source": [
    "### Define Structures in the Unit Cell\n",
    "\n",
    "The unit cell includes a 200 nm-thick aluminum mirror layer on a silicon substrate, followed by a 75 nm GST-225 spacer layer. Above this, there is a 25 nm-thick alumina capping layer, and the assembly is topped with a 60 nm-thick aluminum layer, patterned into parallelogram-shaped resonators. The resonators are defined as [PolySlabs](../api/_autosummary/tidy3d.PolySlab.html) with calculated vertices. Since we need to simulate the metasurface with the GST in two states, we define a `make_gst_layer(state)` function to construct the GST layer given the state."
   ]
  },
  {
   "cell_type": "code",
   "execution_count": 7,
   "id": "219afd33",
   "metadata": {
    "execution": {
     "iopub.execute_input": "2024-02-17T09:20:34.089715Z",
     "iopub.status.busy": "2024-02-17T09:20:34.089541Z",
     "iopub.status.idle": "2024-02-17T09:20:34.110687Z",
     "shell.execute_reply": "2024-02-17T09:20:34.109184Z"
    }
   },
   "outputs": [],
   "source": [
    "inf_eff = 1e2  # effective infinity\n",
    "\n",
    "# calculate the vertices of the resonator on the left\n",
    "vertices = [\n",
    "    (-inf_eff, A / 2),\n",
    "    (-inf_eff, -A / 2),\n",
    "    (-(B / np.cos(alpha) + A * np.tan(alpha)) / 2, -A / 2),\n",
    "    (-(B / np.cos(alpha) - A * np.tan(alpha)) / 2, A / 2),\n",
    "]\n",
    "\n",
    "# define the left resonator structure\n",
    "left_resonator = td.Structure(\n",
    "    geometry=td.PolySlab(vertices=vertices, axis=2, slab_bounds=(0, t_al)), medium=Al\n",
    ")\n",
    "\n",
    "# calculate the vertices of the resonator on the right\n",
    "vertices = [\n",
    "    (inf_eff, A / 2),\n",
    "    (inf_eff, -A / 2),\n",
    "    ((B / np.cos(alpha) - A * np.tan(alpha)) / 2, -A / 2),\n",
    "    ((B / np.cos(alpha) + A * np.tan(alpha)) / 2, A / 2),\n",
    "]\n",
    "\n",
    "# define the right resonator structure\n",
    "right_resonator = td.Structure(\n",
    "    geometry=td.PolySlab(vertices=vertices, axis=2, slab_bounds=(0, t_al)), medium=Al\n",
    ")\n",
    "\n",
    "# define the Al2O3 buffer layer\n",
    "buffer_layer = td.Structure(\n",
    "    geometry=td.Box(center=(0, 0, -t_al2o3 / 2), size=(td.inf, td.inf, t_al2o3)), medium=Al2O3\n",
    ")\n",
    "\n",
    "# define a function to construct the GST layer given the state\n",
    "def make_gst_layer(state):\n",
    "    if state == \"amorphous\":\n",
    "        medium = GST_A\n",
    "    elif state == \"crystalline\":\n",
    "        medium = GST_C\n",
    "    else:\n",
    "        raise ValueError(\"state must be `amorphous` or `crystalline`\")\n",
    "\n",
    "    gst_layer = td.Structure(\n",
    "        geometry=td.Box(center=(0, 0, -t_al2o3 - t_gst / 2), size=(td.inf, td.inf, t_gst)),\n",
    "        medium=medium,\n",
    "    )\n",
    "    return gst_layer\n",
    "\n",
    "\n",
    "# define the Al substrate\n",
    "al_substrate = td.Structure(\n",
    "    geometry=td.Box.from_bounds(\n",
    "        rmin=(-inf_eff, -inf_eff, -inf_eff), rmax=(inf_eff, inf_eff, -t_al2o3 - t_gst)\n",
    "    ),\n",
    "    medium=Al,\n",
    ")"
   ]
  },
  {
   "cell_type": "markdown",
   "id": "162c797a",
   "metadata": {},
   "source": [
    "### Define Source and Monitors\n",
    "\n",
    "A circularly polarized plane wave is just two perpendicularly linearly polarized plane waves with a 90 degree phase difference. Here we define a `circular_polarized_plane_wave(pol)` function to construct the circularly polarized plane wave given the polarization, either left or right.\n",
    "\n",
    "Since the metasurface is fabricated on a metal mirror, the transmission will be zero. We only need to define a [FluxMonitor](../api/_autosummary/tidy3d.FluxMonitor.html) to measure reflection ($R$). Absorption can be calculated simply by $A=1-R$. To further inspect the resonant field patterns, we define two [FieldMonitors](../api/_autosummary/tidy3d.FieldMonitor.html) in the $xz$ and $xy$ planes. To reduce the result data size, we only record fields at the resonant wavelength when GST is in the amorphous state, which is predetermined to be 2.4 µm."
   ]
  },
  {
   "cell_type": "code",
   "execution_count": 8,
   "id": "89a54dd9",
   "metadata": {
    "execution": {
     "iopub.execute_input": "2024-02-17T09:20:34.116179Z",
     "iopub.status.busy": "2024-02-17T09:20:34.115802Z",
     "iopub.status.idle": "2024-02-17T09:20:34.144207Z",
     "shell.execute_reply": "2024-02-17T09:20:34.143611Z"
    }
   },
   "outputs": [],
   "source": [
    "def circular_polarized_plane_wave(pol):\n",
    "    # define a plane wave polarized in the x direction\n",
    "    plane_wave_x = td.PlaneWave(\n",
    "        source_time=td.GaussianPulse(freq0=freq0, fwidth=fwidth),\n",
    "        size=(td.inf, td.inf, 0),\n",
    "        center=(0, 0, 0.3 * lda0),\n",
    "        direction=\"-\",\n",
    "        pol_angle=0,\n",
    "    )\n",
    "\n",
    "    # determine the phase difference given the polarization\n",
    "    if pol == \"left\":\n",
    "        phase = -np.pi / 2\n",
    "    elif pol == \"right\":\n",
    "        phase = np.pi / 2\n",
    "    else:\n",
    "        raise ValueError(\"pol must be `left` or `right`\")\n",
    "\n",
    "    # define a plane wave polarized in the y direction with a phase difference\n",
    "    plane_wave_y = td.PlaneWave(\n",
    "        source_time=td.GaussianPulse(freq0=freq0, fwidth=fwidth, phase=phase),\n",
    "        size=(td.inf, td.inf, 0),\n",
    "        center=(0, 0, 0.3 * lda0),\n",
    "        direction=\"-\",\n",
    "        pol_angle=np.pi / 2,\n",
    "    )\n",
    "\n",
    "    return [plane_wave_x, plane_wave_y]\n",
    "\n",
    "\n",
    "# add a flux monitor to detect transmission\n",
    "monitor_r = td.FluxMonitor(\n",
    "    center=[0, 0, 0.5 * lda0], size=[td.inf, td.inf, 0], freqs=freqs, name=\"R\"\n",
    ")\n",
    "\n",
    "freq_res = td.C_0 / 2.4  # resonant frequency\n",
    "\n",
    "# add field monitors to see the field profiles at the absorption peak frequency when GST is in the amorphous state\n",
    "monitor_field_xz = td.FieldMonitor(\n",
    "    center=(0, 0, 0), size=(td.inf, 0, td.inf), freqs=[freq_res], name=\"field_xz\"\n",
    ")\n",
    "\n",
    "monitor_field_xy = td.FieldMonitor(\n",
    "    center=(0, 0, 0), size=(td.inf, td.inf, 0), freqs=[freq_res], name=\"field_xy\"\n",
    ")"
   ]
  },
  {
   "cell_type": "markdown",
   "id": "22eba7fa",
   "metadata": {},
   "source": [
    "### Define Simulation\n",
    "\n",
    "Now we are ready to set up the simulation. In total we need to run four simulations to cover both polarizations and GST states. To make it more convenient, we define a `make_sim(pol, state)` function."
   ]
  },
  {
   "cell_type": "code",
   "execution_count": 9,
   "id": "d4de3eec",
   "metadata": {
    "execution": {
     "iopub.execute_input": "2024-02-17T09:20:34.146070Z",
     "iopub.status.busy": "2024-02-17T09:20:34.145887Z",
     "iopub.status.idle": "2024-02-17T09:20:34.175206Z",
     "shell.execute_reply": "2024-02-17T09:20:34.174645Z"
    }
   },
   "outputs": [
    {
     "data": {
      "text/html": [
       "\n",
       "    <iframe id=\"simulation-viewer170816163417181683\" src=https://feature-simulation-viewer.d3a9gfg7glllfq.amplifyapp.com/simulation-viewer?uuid=170816163417181683 width=\"800\" height=\"800\" allowfullscreen=\"true\"></iframe>\n",
       "    <script>\n",
       "        \n",
       "    window.postMessageToViewer170816163417181683 = event => {\n",
       "        if(event.data.type === 'viewer'&&event.data.uuid==='170816163417181683'){\n",
       "            document.getElementById('simulation-viewer170816163417181683').contentWindow.postMessage({ type: 'jupyter', uuid:'170816163417181683', value:{\"type\": \"Simulation\", \"center\": [0.0, 0.0, -0.020000000000000018], \"size\": [1.25, 0.4, 2.66], \"medium\": {\"name\": null, \"frequency_range\": null, \"allow_gain\": false, \"nonlinear_spec\": null, \"modulation_spec\": null, \"heat_spec\": null, \"type\": \"Medium\", \"permittivity\": 1.0, \"conductivity\": 0.0}, \"structures\": [{\"geometry\": {\"type\": \"PolySlab\", \"axis\": 2, \"sidewall_angle\": 0.0, \"reference_plane\": \"middle\", \"slab_bounds\": [0.0, 0.06], \"dilation\": 0.0, \"vertices\": [[-100.0, 0.12], [-100.0, -0.12], [-0.19052558883257648, -0.12], [-0.05196152422706632, 0.12]]}, \"name\": null, \"type\": \"Structure\", \"medium\": {\"name\": null, \"frequency_range\": [1208986804855.426, 4835986224028907.0], \"allow_gain\": false, \"nonlinear_spec\": null, \"modulation_spec\": null, \"heat_spec\": null, \"type\": \"PoleResidue\", \"eps_inf\": 1.0, \"poles\": [[{\"real\": 0.0, \"imag\": 0.0}, {\"real\": 1.896844347324609e+18, \"imag\": 0.0}], [{\"real\": -71405570055817.98, \"imag\": 0.0}, {\"real\": -1.896844347324609e+18, \"imag\": 0.0}], [{\"real\": -194545209645174.6, \"imag\": 0.0}, {\"real\": 5.0321060071503546e+17, \"imag\": 0.0}], [{\"real\": -311370850537535.75, \"imag\": 0.0}, {\"real\": -5.0321060071503546e+17, \"imag\": 0.0}], [{\"real\": -237005721887395.88, \"imag\": -2333745139453868.0}, {\"real\": 0.0, \"imag\": 5548539400655871.0}], [{\"real\": -1026265161121383.9, \"imag\": -2547917843202808.5}, {\"real\": 0.0, \"imag\": 1.6872706975652862e+16}], [{\"real\": -2569081254561451.5, \"imag\": -4608729293067524.0}, {\"real\": 0.0, \"imag\": 1685784870483934.2}]]}}, {\"geometry\": {\"type\": \"PolySlab\", \"axis\": 2, \"sidewall_angle\": 0.0, \"reference_plane\": \"middle\", \"slab_bounds\": [0.0, 0.06], \"dilation\": 0.0, \"vertices\": [[100.0, 0.12], [100.0, -0.12], [0.05196152422706632, -0.12], [0.19052558883257648, 0.12]]}, \"name\": null, \"type\": \"Structure\", \"medium\": {\"name\": null, \"frequency_range\": [1208986804855.426, 4835986224028907.0], \"allow_gain\": false, \"nonlinear_spec\": null, \"modulation_spec\": null, \"heat_spec\": null, \"type\": \"PoleResidue\", \"eps_inf\": 1.0, \"poles\": [[{\"real\": 0.0, \"imag\": 0.0}, {\"real\": 1.896844347324609e+18, \"imag\": 0.0}], [{\"real\": -71405570055817.98, \"imag\": 0.0}, {\"real\": -1.896844347324609e+18, \"imag\": 0.0}], [{\"real\": -194545209645174.6, \"imag\": 0.0}, {\"real\": 5.0321060071503546e+17, \"imag\": 0.0}], [{\"real\": -311370850537535.75, \"imag\": 0.0}, {\"real\": -5.0321060071503546e+17, \"imag\": 0.0}], [{\"real\": -237005721887395.88, \"imag\": -2333745139453868.0}, {\"real\": 0.0, \"imag\": 5548539400655871.0}], [{\"real\": -1026265161121383.9, \"imag\": -2547917843202808.5}, {\"real\": 0.0, \"imag\": 1.6872706975652862e+16}], [{\"real\": -2569081254561451.5, \"imag\": -4608729293067524.0}, {\"real\": 0.0, \"imag\": 1685784870483934.2}]]}}, {\"geometry\": {\"type\": \"Box\", \"center\": [0.0, 0.0, -0.0125], \"size\": [\"Infinity\", \"Infinity\", 0.025]}, \"name\": null, \"type\": \"Structure\", \"medium\": {\"name\": null, \"frequency_range\": null, \"allow_gain\": false, \"nonlinear_spec\": null, \"modulation_spec\": null, \"heat_spec\": null, \"type\": \"Sellmeier\", \"coeffs\": [[1.431, 0.00528529], [0.651, 0.014160999999999998], [5.341, 325.00878399999993]]}}, {\"geometry\": {\"type\": \"Box\", \"center\": [0.0, 0.0, -0.0625], \"size\": [\"Infinity\", \"Infinity\", 0.075]}, \"name\": null, \"type\": \"Structure\", \"medium\": {\"name\": null, \"frequency_range\": null, \"allow_gain\": false, \"nonlinear_spec\": null, \"modulation_spec\": null, \"heat_spec\": null, \"type\": \"PoleResidue\", \"eps_inf\": 1.0, \"poles\": [[{\"real\": -241517035804062.9, \"imag\": -2119127076058498.2}, {\"real\": 3353426843867173.5, \"imag\": 1.4520790424327116e+16}]]}}, {\"geometry\": {\"type\": \"Box\", \"center\": [0.0, 0.0, -50.05], \"size\": [200.0, 200.0, 99.9]}, \"name\": null, \"type\": \"Structure\", \"medium\": {\"name\": null, \"frequency_range\": [1208986804855.426, 4835986224028907.0], \"allow_gain\": false, \"nonlinear_spec\": null, \"modulation_spec\": null, \"heat_spec\": null, \"type\": \"PoleResidue\", \"eps_inf\": 1.0, \"poles\": [[{\"real\": 0.0, \"imag\": 0.0}, {\"real\": 1.896844347324609e+18, \"imag\": 0.0}], [{\"real\": -71405570055817.98, \"imag\": 0.0}, {\"real\": -1.896844347324609e+18, \"imag\": 0.0}], [{\"real\": -194545209645174.6, \"imag\": 0.0}, {\"real\": 5.0321060071503546e+17, \"imag\": 0.0}], [{\"real\": -311370850537535.75, \"imag\": 0.0}, {\"real\": -5.0321060071503546e+17, \"imag\": 0.0}], [{\"real\": -237005721887395.88, \"imag\": -2333745139453868.0}, {\"real\": 0.0, \"imag\": 5548539400655871.0}], [{\"real\": -1026265161121383.9, \"imag\": -2547917843202808.5}, {\"real\": 0.0, \"imag\": 1.6872706975652862e+16}], [{\"real\": -2569081254561451.5, \"imag\": -4608729293067524.0}, {\"real\": 0.0, \"imag\": 1685784870483934.2}]]}}], \"symmetry\": [0, 0, 0], \"sources\": [{\"name\": null, \"type\": \"PlaneWave\", \"center\": [0.0, 0.0, 0.75], \"size\": [\"Infinity\", \"Infinity\", 0.0], \"source_time\": {\"amplitude\": 1.0, \"phase\": 0.0, \"type\": \"GaussianPulse\", \"freq0\": 119916983200000.0, \"fwidth\": 24982704833333.336, \"offset\": 5.0, \"remove_dc_component\": true}, \"direction\": \"-\", \"angle_theta\": 0.0, \"angle_phi\": 0.0, \"pol_angle\": 0.0}, {\"name\": null, \"type\": \"PlaneWave\", \"center\": [0.0, 0.0, 0.75], \"size\": [\"Infinity\", \"Infinity\", 0.0], \"source_time\": {\"amplitude\": 1.0, \"phase\": -1.5707963267948966, \"type\": \"GaussianPulse\", \"freq0\": 119916983200000.0, \"fwidth\": 24982704833333.336, \"offset\": 5.0, \"remove_dc_component\": true}, \"direction\": \"-\", \"angle_theta\": 0.0, \"angle_phi\": 0.0, \"pol_angle\": 1.5707963267948966}], \"boundary_spec\": {\"x\": {\"plus\": {\"name\": null, \"type\": \"Periodic\"}, \"minus\": {\"name\": null, \"type\": \"Periodic\"}, \"type\": \"Boundary\"}, \"y\": {\"plus\": {\"name\": null, \"type\": \"Periodic\"}, \"minus\": {\"name\": null, \"type\": \"Periodic\"}, \"type\": \"Boundary\"}, \"z\": {\"plus\": {\"name\": null, \"type\": \"PML\", \"num_layers\": 12, \"parameters\": {\"sigma_order\": 3, \"sigma_min\": 0.0, \"sigma_max\": 1.5, \"type\": \"PMLParams\", \"kappa_order\": 3, \"kappa_min\": 1.0, \"kappa_max\": 3.0, \"alpha_order\": 1, \"alpha_min\": 0.0, \"alpha_max\": 0.0}}, \"minus\": {\"name\": null, \"type\": \"PML\", \"num_layers\": 12, \"parameters\": {\"sigma_order\": 3, \"sigma_min\": 0.0, \"sigma_max\": 1.5, \"type\": \"PMLParams\", \"kappa_order\": 3, \"kappa_min\": 1.0, \"kappa_max\": 3.0, \"alpha_order\": 1, \"alpha_min\": 0.0, \"alpha_max\": 0.0}}, \"type\": \"Boundary\"}, \"type\": \"BoundarySpec\"}, \"monitors\": [{\"type\": \"FluxMonitor\", \"center\": [0.0, 0.0, 1.25], \"size\": [\"Infinity\", \"Infinity\", 0.0], \"name\": \"R\", \"interval_space\": [1, 1, 1], \"colocate\": true, \"freqs\": [149896229000000.0, 149150476616915.44, 148412107920792.06, 147681013793103.47, 146957087254901.97, 146240223414634.16, 145530319417475.72, 144827274396135.28, 144130989423076.9, 143441367464114.84, 142758313333333.3, 142081733649289.1, 141411536792452.8, 140747632863849.78, 140089933644859.81, 139438352558139.55, 138792804629629.62, 138153206451612.9, 137519476146788.98, 136891533333333.34, 136269299090909.08, 135652695927601.81, 135041647747747.73, 134436079820627.8, 133835918749999.98, 133241092444444.44, 132651530088495.6, 132067162114537.44, 131487920175438.58, 130913737117903.92, 130344546956521.75, 129780284848484.84, 129220887068965.53, 128666290987124.45, 128116435042735.05, 127571258723404.25, 127030702542372.89, 126494708016877.62, 125963217647058.83, 125436174895397.48, 124913524166666.67, 124395210788381.73, 123881180991735.55, 123371381893004.11, 122865761475409.84, 122364268571428.56, 121866852845528.45, 121373464777327.92, 120884055645161.3, 120398577510040.16, 119916983200000.0, 119439226294820.73, 118965261111111.11, 118495042687747.03, 118028526771653.55, 117565669803921.58, 117106428906250.0, 116650761867704.27, 116198627131782.94, 115749983783783.8, 115304791538461.53, 114863010727969.36, 114424602290076.33, 113989527756654.0, 113557749242424.23, 113129229433962.27, 112703931578947.36, 112281819475655.44, 111862857462686.56, 111447010408921.94, 111034243703703.7, 110624523247232.47, 110217815441176.48, 109814087179487.19, 109413305839416.05, 109015439272727.27, 108620455797101.45, 108228324187725.62, 107839013669064.73, 107452493906810.03, 107068735000000.0, 106687707473309.61, 106309382269503.53, 105933730742049.47, 105560724647887.33, 105190336140350.88, 104822537762237.77, 104457302439024.39, 104094603472222.22, 103734414532871.97, 103376709655172.42, 103021463230240.55, 102668650000000.0, 102318245051194.53, 101970223809523.81, 101624562033898.3, 101281235810810.81, 100940221548821.56, 100601495973154.36, 100265036120401.33, 99930819333333.33], \"apodization\": {\"start\": null, \"end\": null, \"width\": null, \"type\": \"ApodizationSpec\"}, \"normal_dir\": \"+\", \"exclude_surfaces\": null}, {\"type\": \"FieldMonitor\", \"center\": [0.0, 0.0, 0.0], \"size\": [\"Infinity\", 0.0, \"Infinity\"], \"name\": \"field_xz\", \"interval_space\": [1, 1, 1], \"colocate\": true, \"freqs\": [124913524166666.67], \"apodization\": {\"start\": null, \"end\": null, \"width\": null, \"type\": \"ApodizationSpec\"}, \"fields\": [\"Ex\", \"Ey\", \"Ez\", \"Hx\", \"Hy\", \"Hz\"]}, {\"type\": \"FieldMonitor\", \"center\": [0.0, 0.0, 0.0], \"size\": [\"Infinity\", \"Infinity\", 0.0], \"name\": \"field_xy\", \"interval_space\": [1, 1, 1], \"colocate\": true, \"freqs\": [124913524166666.67], \"apodization\": {\"start\": null, \"end\": null, \"width\": null, \"type\": \"ApodizationSpec\"}, \"fields\": [\"Ex\", \"Ey\", \"Ez\", \"Hx\", \"Hy\", \"Hz\"]}], \"grid_spec\": {\"grid_x\": {\"type\": \"AutoGrid\", \"min_steps_per_wvl\": 20.0, \"max_scale\": 1.4, \"dl_min\": 0.0, \"mesher\": {\"type\": \"GradedMesher\"}}, \"grid_y\": {\"type\": \"AutoGrid\", \"min_steps_per_wvl\": 20.0, \"max_scale\": 1.4, \"dl_min\": 0.0, \"mesher\": {\"type\": \"GradedMesher\"}}, \"grid_z\": {\"type\": \"AutoGrid\", \"min_steps_per_wvl\": 20.0, \"max_scale\": 1.4, \"dl_min\": 0.0, \"mesher\": {\"type\": \"GradedMesher\"}}, \"wavelength\": 2.5, \"override_structures\": [], \"type\": \"GridSpec\"}, \"version\": \"2.6.0\", \"run_time\": 3e-13, \"shutoff\": 1e-05, \"subpixel\": true, \"normalize_index\": 0, \"courant\": 0.99}}, '*')\n",
       "        }\n",
       "    };\n",
       "    window.addEventListener(\n",
       "        'message',\n",
       "        window.postMessageToViewer170816163417181683,\n",
       "        false\n",
       "    );\n",
       "    \n",
       "    </script>\n",
       "    "
      ],
      "text/plain": [
       "<IPython.core.display.HTML object>"
      ]
     },
     "metadata": {},
     "output_type": "display_data"
    }
   ],
   "source": [
    "run_time = 3e-13  # simulation run time\n",
    "\n",
    "# simulation domain box\n",
    "sim_box = td.Box.from_bounds(\n",
    "    rmin=(-Px / 2, -Py / 2, -t_al2o3 - t_gst - lda0 / 2), rmax=(Px / 2, Py / 2, t_al + lda0 / 2)\n",
    ")\n",
    "\n",
    "# define a function to construct a simulation given the polarization and GST state\n",
    "def make_sim(pol, state):\n",
    "    sim = td.Simulation(\n",
    "        center=sim_box.center,\n",
    "        size=sim_box.size,\n",
    "        grid_spec=td.GridSpec.auto(min_steps_per_wvl=20, wavelength=lda0),\n",
    "        structures=[\n",
    "            left_resonator,\n",
    "            right_resonator,\n",
    "            buffer_layer,\n",
    "            make_gst_layer(state),\n",
    "            al_substrate,\n",
    "        ],\n",
    "        sources=circular_polarized_plane_wave(pol),\n",
    "        monitors=[monitor_r, monitor_field_xz, monitor_field_xy],\n",
    "        run_time=run_time,\n",
    "        boundary_spec=td.BoundarySpec(\n",
    "            x=td.Boundary.periodic(), y=td.Boundary.periodic(), z=td.Boundary.pml()\n",
    "        ),\n",
    "    )\n",
    "    return sim\n",
    "\n",
    "\n",
    "# make one simulation and plot it to inspect\n",
    "sim_left_A = make_sim(\"left\", \"amorphous\")\n",
    "sim_left_A.plot_3d()"
   ]
  },
  {
   "cell_type": "markdown",
   "id": "2474780d",
   "metadata": {},
   "source": [
    "In addition, we can inspect the grid to ensure it is sufficiently fine."
   ]
  },
  {
   "cell_type": "code",
   "execution_count": 10,
   "id": "ca12725b",
   "metadata": {
    "execution": {
     "iopub.execute_input": "2024-02-17T09:20:34.176970Z",
     "iopub.status.busy": "2024-02-17T09:20:34.176823Z",
     "iopub.status.idle": "2024-02-17T09:20:34.425451Z",
     "shell.execute_reply": "2024-02-17T09:20:34.424946Z"
    }
   },
   "outputs": [
    {
     "data": {
      "image/png": "[encoded data removed]",
      "text/plain": [
       "<Figure size 640x480 with 1 Axes>"
      ]
     },
     "metadata": {},
     "output_type": "display_data"
    }
   ],
   "source": [
    "ax = sim_left_A.plot(y=0)\n",
    "sim_left_A.plot_grid(y=0, ax=ax)\n",
    "ax.set_ylim(-0.1, 0.1)\n",
    "ax.set_ylim(-0.2, 0.2)\n",
    "ax.set_aspect(\"auto\")"
   ]
  },
  {
   "cell_type": "markdown",
   "id": "ae0bd98d",
   "metadata": {},
   "source": [
    "### Run Simulation Batch\n",
    "\n",
    "To make the simulations more efficient, we define a [Batch](../api/_autosummary/tidy3d.web.Batch.html) and submit it to run all four simulations in parallel. "
   ]
  },
  {
   "cell_type": "code",
   "execution_count": 11,
   "id": "7843ff78",
   "metadata": {
    "execution": {
     "iopub.execute_input": "2024-02-17T09:20:34.427356Z",
     "iopub.status.busy": "2024-02-17T09:20:34.427214Z",
     "iopub.status.idle": "2024-02-17T09:25:42.951803Z",
     "shell.execute_reply": "2024-02-17T09:25:42.949454Z"
    }
   },
   "outputs": [
    {
     "data": {
      "text/html": [
       "<pre style=\"white-space:pre;overflow-x:auto;line-height:normal;font-family:Menlo,'DejaVu Sans Mono',consolas,'Courier New',monospace\"><span style=\"color: #7fbfbf; text-decoration-color: #7fbfbf\">01:20:34 PST </span>Created task <span style=\"color: #008000; text-decoration-color: #008000\">'LCP_A'</span> with task_id                                  \n",
       "<span style=\"color: #7fbfbf; text-decoration-color: #7fbfbf\">             </span><span style=\"color: #008000; text-decoration-color: #008000\">'fdve-8b3e7638-24a0-4fb6-b433-669dee3bdd69'</span> and task_type <span style=\"color: #008000; text-decoration-color: #008000\">'FDTD'</span>.  \n",
       "</pre>\n"
      ],
      "text/plain": [
       "\u001b[2;36m01:20:34 PST\u001b[0m\u001b[2;36m \u001b[0mCreated task \u001b[32m'LCP_A'\u001b[0m with task_id                                  \n",
       "\u001b[2;36m             \u001b[0m\u001b[32m'fdve-8b3e7638-24a0-4fb6-b433-669dee3bdd69'\u001b[0m and task_type \u001b[32m'FDTD'\u001b[0m.  \n"
      ]
     },
     "metadata": {},
     "output_type": "display_data"
    },
    {
     "data": {
      "text/html": [
       "<pre style=\"white-space:pre;overflow-x:auto;line-height:normal;font-family:Menlo,'DejaVu Sans Mono',consolas,'Courier New',monospace\"><span style=\"color: #7fbfbf; text-decoration-color: #7fbfbf\">             </span>View task using web UI at                                          \n",
       "<span style=\"color: #7fbfbf; text-decoration-color: #7fbfbf\">             </span><a href=\"https://tidy3d.simulation.cloud/workbench?taskId=fdve-8b3e7638-24a0-4fb6-b433-669dee3bdd69\" target=\"_blank\"><span style=\"color: #008000; text-decoration-color: #008000\">'https://tidy3d.simulation.cloud/workbench?taskId=fdve-8b3e7638-24a</span></a>\n",
       "<span style=\"color: #7fbfbf; text-decoration-color: #7fbfbf\">             </span><a href=\"https://tidy3d.simulation.cloud/workbench?taskId=fdve-8b3e7638-24a0-4fb6-b433-669dee3bdd69\" target=\"_blank\"><span style=\"color: #008000; text-decoration-color: #008000\">0-4fb6-b433-669dee3bdd69'</span></a>.                                         \n",
       "</pre>\n"
      ],
      "text/plain": [
       "\u001b[2;36m            \u001b[0m\u001b[2;36m \u001b[0mView task using web UI at                                          \n",
       "\u001b[2;36m             \u001b[0m\u001b]8;id=892190;https://tidy3d.simulation.cloud/workbench?taskId=fdve-8b3e7638-24a0-4fb6-b433-669dee3bdd69\u001b\\\u001b[32m'https://tidy3d.simulation.cloud/workbench?\u001b[0m\u001b]8;;\u001b\\\u001b]8;id=698013;https://tidy3d.simulation.cloud/workbench?taskId=fdve-8b3e7638-24a0-4fb6-b433-669dee3bdd69\u001b\\\u001b[32mtaskId\u001b[0m\u001b]8;;\u001b\\\u001b]8;id=892190;https://tidy3d.simulation.cloud/workbench?taskId=fdve-8b3e7638-24a0-4fb6-b433-669dee3bdd69\u001b\\\u001b[32m=\u001b[0m\u001b]8;;\u001b\\\u001b]8;id=258214;https://tidy3d.simulation.cloud/workbench?taskId=fdve-8b3e7638-24a0-4fb6-b433-669dee3bdd69\u001b\\\u001b[32mfdve\u001b[0m\u001b]8;;\u001b\\\u001b]8;id=892190;https://tidy3d.simulation.cloud/workbench?taskId=fdve-8b3e7638-24a0-4fb6-b433-669dee3bdd69\u001b\\\u001b[32m-8b3e7638-24a\u001b[0m\u001b]8;;\u001b\\\n",
       "\u001b[2;36m             \u001b[0m\u001b]8;id=892190;https://tidy3d.simulation.cloud/workbench?taskId=fdve-8b3e7638-24a0-4fb6-b433-669dee3bdd69\u001b\\\u001b[32m0-4fb6-b433-669dee3bdd69'\u001b[0m\u001b]8;;\u001b\\.                                         \n"
      ]
     },
     "metadata": {},
     "output_type": "display_data"
    },
    {
     "data": {
      "application/vnd.jupyter.widget-view+json": {
       "model_id": "49b7b6b45c92490ebc9c9a6c2d2a2179",
       "version_major": 2,
       "version_minor": 0
      },
      "text/plain": [
       "Output()"
      ]
     },
     "metadata": {},
     "output_type": "display_data"
    },
    {
     "data": {
      "text/html": [
       "<pre style=\"white-space:pre;overflow-x:auto;line-height:normal;font-family:Menlo,'DejaVu Sans Mono',consolas,'Courier New',monospace\"></pre>\n"
      ],
      "text/plain": []
     },
     "metadata": {},
     "output_type": "display_data"
    },
    {
     "data": {
      "text/html": [
       "<pre style=\"white-space:pre;overflow-x:auto;line-height:normal;font-family:Menlo,'DejaVu Sans Mono',consolas,'Courier New',monospace\">\n",
       "</pre>\n"
      ],
      "text/plain": [
       "\n"
      ]
     },
     "metadata": {},
     "output_type": "display_data"
    },
    {
     "data": {
      "text/html": [
       "<pre style=\"white-space:pre;overflow-x:auto;line-height:normal;font-family:Menlo,'DejaVu Sans Mono',consolas,'Courier New',monospace\"><span style=\"color: #7fbfbf; text-decoration-color: #7fbfbf\">01:20:35 PST </span>Created task <span style=\"color: #008000; text-decoration-color: #008000\">'LCP_C'</span> with task_id                                  \n",
       "<span style=\"color: #7fbfbf; text-decoration-color: #7fbfbf\">             </span><span style=\"color: #008000; text-decoration-color: #008000\">'fdve-63ff86b2-cdb3-4330-a92b-f5e7d8945159'</span> and task_type <span style=\"color: #008000; text-decoration-color: #008000\">'FDTD'</span>.  \n",
       "</pre>\n"
      ],
      "text/plain": [
       "\u001b[2;36m01:20:35 PST\u001b[0m\u001b[2;36m \u001b[0mCreated task \u001b[32m'LCP_C'\u001b[0m with task_id                                  \n",
       "\u001b[2;36m             \u001b[0m\u001b[32m'fdve-63ff86b2-cdb3-4330-a92b-f5e7d8945159'\u001b[0m and task_type \u001b[32m'FDTD'\u001b[0m.  \n"
      ]
     },
     "metadata": {},
     "output_type": "display_data"
    },
    {
     "data": {
      "text/html": [
       "<pre style=\"white-space:pre;overflow-x:auto;line-height:normal;font-family:Menlo,'DejaVu Sans Mono',consolas,'Courier New',monospace\"><span style=\"color: #7fbfbf; text-decoration-color: #7fbfbf\">             </span>View task using web UI at                                          \n",
       "<span style=\"color: #7fbfbf; text-decoration-color: #7fbfbf\">             </span><a href=\"https://tidy3d.simulation.cloud/workbench?taskId=fdve-63ff86b2-cdb3-4330-a92b-f5e7d8945159\" target=\"_blank\"><span style=\"color: #008000; text-decoration-color: #008000\">'https://tidy3d.simulation.cloud/workbench?taskId=fdve-63ff86b2-cdb</span></a>\n",
       "<span style=\"color: #7fbfbf; text-decoration-color: #7fbfbf\">             </span><a href=\"https://tidy3d.simulation.cloud/workbench?taskId=fdve-63ff86b2-cdb3-4330-a92b-f5e7d8945159\" target=\"_blank\"><span style=\"color: #008000; text-decoration-color: #008000\">3-4330-a92b-f5e7d8945159'</span></a>.                                         \n",
       "</pre>\n"
      ],
      "text/plain": [
       "\u001b[2;36m            \u001b[0m\u001b[2;36m \u001b[0mView task using web UI at                                          \n",
       "\u001b[2;36m             \u001b[0m\u001b]8;id=474624;https://tidy3d.simulation.cloud/workbench?taskId=fdve-63ff86b2-cdb3-4330-a92b-f5e7d8945159\u001b\\\u001b[32m'https://tidy3d.simulation.cloud/workbench?\u001b[0m\u001b]8;;\u001b\\\u001b]8;id=334832;https://tidy3d.simulation.cloud/workbench?taskId=fdve-63ff86b2-cdb3-4330-a92b-f5e7d8945159\u001b\\\u001b[32mtaskId\u001b[0m\u001b]8;;\u001b\\\u001b]8;id=474624;https://tidy3d.simulation.cloud/workbench?taskId=fdve-63ff86b2-cdb3-4330-a92b-f5e7d8945159\u001b\\\u001b[32m=\u001b[0m\u001b]8;;\u001b\\\u001b]8;id=648321;https://tidy3d.simulation.cloud/workbench?taskId=fdve-63ff86b2-cdb3-4330-a92b-f5e7d8945159\u001b\\\u001b[32mfdve\u001b[0m\u001b]8;;\u001b\\\u001b]8;id=474624;https://tidy3d.simulation.cloud/workbench?taskId=fdve-63ff86b2-cdb3-4330-a92b-f5e7d8945159\u001b\\\u001b[32m-63ff86b2-cdb\u001b[0m\u001b]8;;\u001b\\\n",
       "\u001b[2;36m             \u001b[0m\u001b]8;id=474624;https://tidy3d.simulation.cloud/workbench?taskId=fdve-63ff86b2-cdb3-4330-a92b-f5e7d8945159\u001b\\\u001b[32m3-4330-a92b-f5e7d8945159'\u001b[0m\u001b]8;;\u001b\\.                                         \n"
      ]
     },
     "metadata": {},
     "output_type": "display_data"
    },
    {
     "data": {
      "application/vnd.jupyter.widget-view+json": {
       "model_id": "66d5121a389c45f3a6568c78e2b249f2",
       "version_major": 2,
       "version_minor": 0
      },
      "text/plain": [
       "Output()"
      ]
     },
     "metadata": {},
     "output_type": "display_data"
    },
    {
     "data": {
      "text/html": [
       "<pre style=\"white-space:pre;overflow-x:auto;line-height:normal;font-family:Menlo,'DejaVu Sans Mono',consolas,'Courier New',monospace\"></pre>\n"
      ],
      "text/plain": []
     },
     "metadata": {},
     "output_type": "display_data"
    },
    {
     "data": {
      "text/html": [
       "<pre style=\"white-space:pre;overflow-x:auto;line-height:normal;font-family:Menlo,'DejaVu Sans Mono',consolas,'Courier New',monospace\">\n",
       "</pre>\n"
      ],
      "text/plain": [
       "\n"
      ]
     },
     "metadata": {},
     "output_type": "display_data"
    },
    {
     "data": {
      "text/html": [
       "<pre style=\"white-space:pre;overflow-x:auto;line-height:normal;font-family:Menlo,'DejaVu Sans Mono',consolas,'Courier New',monospace\"><span style=\"color: #7fbfbf; text-decoration-color: #7fbfbf\">             </span>Created task <span style=\"color: #008000; text-decoration-color: #008000\">'RCP_A'</span> with task_id                                  \n",
       "<span style=\"color: #7fbfbf; text-decoration-color: #7fbfbf\">             </span><span style=\"color: #008000; text-decoration-color: #008000\">'fdve-186be327-291f-4501-b85d-f510c39cccc3'</span> and task_type <span style=\"color: #008000; text-decoration-color: #008000\">'FDTD'</span>.  \n",
       "</pre>\n"
      ],
      "text/plain": [
       "\u001b[2;36m            \u001b[0m\u001b[2;36m \u001b[0mCreated task \u001b[32m'RCP_A'\u001b[0m with task_id                                  \n",
       "\u001b[2;36m             \u001b[0m\u001b[32m'fdve-186be327-291f-4501-b85d-f510c39cccc3'\u001b[0m and task_type \u001b[32m'FDTD'\u001b[0m.  \n"
      ]
     },
     "metadata": {},
     "output_type": "display_data"
    },
    {
     "data": {
      "text/html": [
       "<pre style=\"white-space:pre;overflow-x:auto;line-height:normal;font-family:Menlo,'DejaVu Sans Mono',consolas,'Courier New',monospace\"><span style=\"color: #7fbfbf; text-decoration-color: #7fbfbf\">             </span>View task using web UI at                                          \n",
       "<span style=\"color: #7fbfbf; text-decoration-color: #7fbfbf\">             </span><a href=\"https://tidy3d.simulation.cloud/workbench?taskId=fdve-186be327-291f-4501-b85d-f510c39cccc3\" target=\"_blank\"><span style=\"color: #008000; text-decoration-color: #008000\">'https://tidy3d.simulation.cloud/workbench?taskId=fdve-186be327-291</span></a>\n",
       "<span style=\"color: #7fbfbf; text-decoration-color: #7fbfbf\">             </span><a href=\"https://tidy3d.simulation.cloud/workbench?taskId=fdve-186be327-291f-4501-b85d-f510c39cccc3\" target=\"_blank\"><span style=\"color: #008000; text-decoration-color: #008000\">f-4501-b85d-f510c39cccc3'</span></a>.                                         \n",
       "</pre>\n"
      ],
      "text/plain": [
       "\u001b[2;36m            \u001b[0m\u001b[2;36m \u001b[0mView task using web UI at                                          \n",
       "\u001b[2;36m             \u001b[0m\u001b]8;id=443396;https://tidy3d.simulation.cloud/workbench?taskId=fdve-186be327-291f-4501-b85d-f510c39cccc3\u001b\\\u001b[32m'https://tidy3d.simulation.cloud/workbench?\u001b[0m\u001b]8;;\u001b\\\u001b]8;id=687023;https://tidy3d.simulation.cloud/workbench?taskId=fdve-186be327-291f-4501-b85d-f510c39cccc3\u001b\\\u001b[32mtaskId\u001b[0m\u001b]8;;\u001b\\\u001b]8;id=443396;https://tidy3d.simulation.cloud/workbench?taskId=fdve-186be327-291f-4501-b85d-f510c39cccc3\u001b\\\u001b[32m=\u001b[0m\u001b]8;;\u001b\\\u001b]8;id=582850;https://tidy3d.simulation.cloud/workbench?taskId=fdve-186be327-291f-4501-b85d-f510c39cccc3\u001b\\\u001b[32mfdve\u001b[0m\u001b]8;;\u001b\\\u001b]8;id=443396;https://tidy3d.simulation.cloud/workbench?taskId=fdve-186be327-291f-4501-b85d-f510c39cccc3\u001b\\\u001b[32m-186be327-291\u001b[0m\u001b]8;;\u001b\\\n",
       "\u001b[2;36m             \u001b[0m\u001b]8;id=443396;https://tidy3d.simulation.cloud/workbench?taskId=fdve-186be327-291f-4501-b85d-f510c39cccc3\u001b\\\u001b[32mf-4501-b85d-f510c39cccc3'\u001b[0m\u001b]8;;\u001b\\.                                         \n"
      ]
     },
     "metadata": {},
     "output_type": "display_data"
    },
    {
     "data": {
      "application/vnd.jupyter.widget-view+json": {
       "model_id": "0da8d4d828eb4ca28847c6bf56d6af19",
       "version_major": 2,
       "version_minor": 0
      },
      "text/plain": [
       "Output()"
      ]
     },
     "metadata": {},
     "output_type": "display_data"
    },
    {
     "data": {
      "text/html": [
       "<pre style=\"white-space:pre;overflow-x:auto;line-height:normal;font-family:Menlo,'DejaVu Sans Mono',consolas,'Courier New',monospace\"></pre>\n"
      ],
      "text/plain": []
     },
     "metadata": {},
     "output_type": "display_data"
    },
    {
     "data": {
      "text/html": [
       "<pre style=\"white-space:pre;overflow-x:auto;line-height:normal;font-family:Menlo,'DejaVu Sans Mono',consolas,'Courier New',monospace\">\n",
       "</pre>\n"
      ],
      "text/plain": [
       "\n"
      ]
     },
     "metadata": {},
     "output_type": "display_data"
    },
    {
     "data": {
      "text/html": [
       "<pre style=\"white-space:pre;overflow-x:auto;line-height:normal;font-family:Menlo,'DejaVu Sans Mono',consolas,'Courier New',monospace\"><span style=\"color: #7fbfbf; text-decoration-color: #7fbfbf\">01:20:36 PST </span>Created task <span style=\"color: #008000; text-decoration-color: #008000\">'RCP_C'</span> with task_id                                  \n",
       "<span style=\"color: #7fbfbf; text-decoration-color: #7fbfbf\">             </span><span style=\"color: #008000; text-decoration-color: #008000\">'fdve-0b6eaa35-1200-4563-9968-597f5a1a4af2'</span> and task_type <span style=\"color: #008000; text-decoration-color: #008000\">'FDTD'</span>.  \n",
       "</pre>\n"
      ],
      "text/plain": [
       "\u001b[2;36m01:20:36 PST\u001b[0m\u001b[2;36m \u001b[0mCreated task \u001b[32m'RCP_C'\u001b[0m with task_id                                  \n",
       "\u001b[2;36m             \u001b[0m\u001b[32m'fdve-0b6eaa35-1200-4563-9968-597f5a1a4af2'\u001b[0m and task_type \u001b[32m'FDTD'\u001b[0m.  \n"
      ]
     },
     "metadata": {},
     "output_type": "display_data"
    },
    {
     "data": {
      "text/html": [
       "<pre style=\"white-space:pre;overflow-x:auto;line-height:normal;font-family:Menlo,'DejaVu Sans Mono',consolas,'Courier New',monospace\"><span style=\"color: #7fbfbf; text-decoration-color: #7fbfbf\">             </span>View task using web UI at                                          \n",
       "<span style=\"color: #7fbfbf; text-decoration-color: #7fbfbf\">             </span><a href=\"https://tidy3d.simulation.cloud/workbench?taskId=fdve-0b6eaa35-1200-4563-9968-597f5a1a4af2\" target=\"_blank\"><span style=\"color: #008000; text-decoration-color: #008000\">'https://tidy3d.simulation.cloud/workbench?taskId=fdve-0b6eaa35-120</span></a>\n",
       "<span style=\"color: #7fbfbf; text-decoration-color: #7fbfbf\">             </span><a href=\"https://tidy3d.simulation.cloud/workbench?taskId=fdve-0b6eaa35-1200-4563-9968-597f5a1a4af2\" target=\"_blank\"><span style=\"color: #008000; text-decoration-color: #008000\">0-4563-9968-597f5a1a4af2'</span></a>.                                         \n",
       "</pre>\n"
      ],
      "text/plain": [
       "\u001b[2;36m            \u001b[0m\u001b[2;36m \u001b[0mView task using web UI at                                          \n",
       "\u001b[2;36m             \u001b[0m\u001b]8;id=850234;https://tidy3d.simulation.cloud/workbench?taskId=fdve-0b6eaa35-1200-4563-9968-597f5a1a4af2\u001b\\\u001b[32m'https://tidy3d.simulation.cloud/workbench?\u001b[0m\u001b]8;;\u001b\\\u001b]8;id=785439;https://tidy3d.simulation.cloud/workbench?taskId=fdve-0b6eaa35-1200-4563-9968-597f5a1a4af2\u001b\\\u001b[32mtaskId\u001b[0m\u001b]8;;\u001b\\\u001b]8;id=850234;https://tidy3d.simulation.cloud/workbench?taskId=fdve-0b6eaa35-1200-4563-9968-597f5a1a4af2\u001b\\\u001b[32m=\u001b[0m\u001b]8;;\u001b\\\u001b]8;id=451469;https://tidy3d.simulation.cloud/workbench?taskId=fdve-0b6eaa35-1200-4563-9968-597f5a1a4af2\u001b\\\u001b[32mfdve\u001b[0m\u001b]8;;\u001b\\\u001b]8;id=850234;https://tidy3d.simulation.cloud/workbench?taskId=fdve-0b6eaa35-1200-4563-9968-597f5a1a4af2\u001b\\\u001b[32m-0b6eaa35-120\u001b[0m\u001b]8;;\u001b\\\n",
       "\u001b[2;36m             \u001b[0m\u001b]8;id=850234;https://tidy3d.simulation.cloud/workbench?taskId=fdve-0b6eaa35-1200-4563-9968-597f5a1a4af2\u001b\\\u001b[32m0-4563-9968-597f5a1a4af2'\u001b[0m\u001b]8;;\u001b\\.                                         \n"
      ]
     },
     "metadata": {},
     "output_type": "display_data"
    },
    {
     "data": {
      "application/vnd.jupyter.widget-view+json": {
       "model_id": "c27f416252b84f69a8ab2d99b9abd381",
       "version_major": 2,
       "version_minor": 0
      },
      "text/plain": [
       "Output()"
      ]
     },
     "metadata": {},
     "output_type": "display_data"
    },
    {
     "data": {
      "text/html": [
       "<pre style=\"white-space:pre;overflow-x:auto;line-height:normal;font-family:Menlo,'DejaVu Sans Mono',consolas,'Courier New',monospace\"></pre>\n"
      ],
      "text/plain": []
     },
     "metadata": {},
     "output_type": "display_data"
    },
    {
     "data": {
      "text/html": [
       "<pre style=\"white-space:pre;overflow-x:auto;line-height:normal;font-family:Menlo,'DejaVu Sans Mono',consolas,'Courier New',monospace\">\n",
       "</pre>\n"
      ],
      "text/plain": [
       "\n"
      ]
     },
     "metadata": {},
     "output_type": "display_data"
    },
    {
     "data": {
      "text/html": [
       "<pre style=\"white-space:pre;overflow-x:auto;line-height:normal;font-family:Menlo,'DejaVu Sans Mono',consolas,'Courier New',monospace\"><span style=\"color: #7fbfbf; text-decoration-color: #7fbfbf\">01:20:38 PST </span>Started working on Batch.                                          \n",
       "</pre>\n"
      ],
      "text/plain": [
       "\u001b[2;36m01:20:38 PST\u001b[0m\u001b[2;36m \u001b[0mStarted working on Batch.                                          \n"
      ]
     },
     "metadata": {},
     "output_type": "display_data"
    },
    {
     "data": {
      "text/html": [
       "<pre style=\"white-space:pre;overflow-x:auto;line-height:normal;font-family:Menlo,'DejaVu Sans Mono',consolas,'Courier New',monospace\"><span style=\"color: #7fbfbf; text-decoration-color: #7fbfbf\">01:20:40 PST </span>Maximum FlexCredit cost: <span style=\"color: #008080; text-decoration-color: #008080; font-weight: bold\">1.194</span> for the whole batch.                \n",
       "</pre>\n"
      ],
      "text/plain": [
       "\u001b[2;36m01:20:40 PST\u001b[0m\u001b[2;36m \u001b[0mMaximum FlexCredit cost: \u001b[1;36m1.194\u001b[0m for the whole batch.                \n"
      ]
     },
     "metadata": {},
     "output_type": "display_data"
    },
    {
     "data": {
      "text/html": [
       "<pre style=\"white-space:pre;overflow-x:auto;line-height:normal;font-family:Menlo,'DejaVu Sans Mono',consolas,'Courier New',monospace\"><span style=\"color: #7fbfbf; text-decoration-color: #7fbfbf\">             </span>Use <span style=\"color: #008000; text-decoration-color: #008000\">'Batch.real_cost()'</span> to get the billed FlexCredit cost after the\n",
       "<span style=\"color: #7fbfbf; text-decoration-color: #7fbfbf\">             </span>Batch has completed.                                               \n",
       "</pre>\n"
      ],
      "text/plain": [
       "\u001b[2;36m            \u001b[0m\u001b[2;36m \u001b[0mUse \u001b[32m'Batch.real_cost\u001b[0m\u001b[32m(\u001b[0m\u001b[32m)\u001b[0m\u001b[32m'\u001b[0m to get the billed FlexCredit cost after the\n",
       "\u001b[2;36m             \u001b[0mBatch has completed.                                               \n"
      ]
     },
     "metadata": {},
     "output_type": "display_data"
    },
    {
     "data": {
      "application/vnd.jupyter.widget-view+json": {
       "model_id": "1c53114826de492eb51a16d9343272ef",
       "version_major": 2,
       "version_minor": 0
      },
      "text/plain": [
       "Output()"
      ]
     },
     "metadata": {},
     "output_type": "display_data"
    },
    {
     "data": {
      "text/html": [
       "<pre style=\"white-space:pre;overflow-x:auto;line-height:normal;font-family:Menlo,'DejaVu Sans Mono',consolas,'Courier New',monospace\"><span style=\"color: #7fbfbf; text-decoration-color: #7fbfbf\">01:25:42 PST </span>Batch complete.                                                    \n",
       "</pre>\n"
      ],
      "text/plain": [
       "\u001b[2;36m01:25:42 PST\u001b[0m\u001b[2;36m \u001b[0mBatch complete.                                                    \n"
      ]
     },
     "metadata": {},
     "output_type": "display_data"
    },
    {
     "data": {
      "text/html": [
       "<pre style=\"white-space:pre;overflow-x:auto;line-height:normal;font-family:Menlo,'DejaVu Sans Mono',consolas,'Courier New',monospace\"></pre>\n"
      ],
      "text/plain": []
     },
     "metadata": {},
     "output_type": "display_data"
    },
    {
     "data": {
      "text/html": [
       "<pre style=\"white-space:pre;overflow-x:auto;line-height:normal;font-family:Menlo,'DejaVu Sans Mono',consolas,'Courier New',monospace\">\n",
       "</pre>\n"
      ],
      "text/plain": [
       "\n"
      ]
     },
     "metadata": {},
     "output_type": "display_data"
    }
   ],
   "source": [
    "# define four simulations\n",
    "sims = {\n",
    "    \"LCP_A\": sim_left_A,\n",
    "    \"LCP_C\": make_sim(\"left\", \"crystalline\"),\n",
    "    \"RCP_A\": make_sim(\"right\", \"amorphous\"),\n",
    "    \"RCP_C\": make_sim(\"right\", \"crystalline\"),\n",
    "}\n",
    "\n",
    "# create a batch and run all sims in parallel\n",
    "batch = web.Batch(simulations=sims)\n",
    "batch_results = batch.run(path_dir=\"data\")"
   ]
  },
  {
   "cell_type": "markdown",
   "id": "c836569f",
   "metadata": {},
   "source": [
    "## Result Analysis"
   ]
  },
  {
   "cell_type": "markdown",
   "id": "e9fd369e",
   "metadata": {},
   "source": [
    "After the simulations are complete, we can extract the absorption spectra for all simulations."
   ]
  },
  {
   "cell_type": "code",
   "execution_count": 12,
   "id": "66c77096",
   "metadata": {
    "execution": {
     "iopub.execute_input": "2024-02-17T09:25:47.709920Z",
     "iopub.status.busy": "2024-02-17T09:25:47.709678Z",
     "iopub.status.idle": "2024-02-17T09:25:51.185715Z",
     "shell.execute_reply": "2024-02-17T09:25:51.185205Z"
    }
   },
   "outputs": [
    {
     "data": {
      "application/vnd.jupyter.widget-view+json": {
       "model_id": "b7de027a4f1c4d6db1f77c563b9ecdf7",
       "version_major": 2,
       "version_minor": 0
      },
      "text/plain": [
       "Output()"
      ]
     },
     "metadata": {},
     "output_type": "display_data"
    },
    {
     "data": {
      "text/html": [
       "<pre style=\"white-space:pre;overflow-x:auto;line-height:normal;font-family:Menlo,'DejaVu Sans Mono',consolas,'Courier New',monospace\"></pre>\n"
      ],
      "text/plain": []
     },
     "metadata": {},
     "output_type": "display_data"
    },
    {
     "data": {
      "text/html": [
       "<pre style=\"white-space:pre;overflow-x:auto;line-height:normal;font-family:Menlo,'DejaVu Sans Mono',consolas,'Courier New',monospace\">\n",
       "</pre>\n"
      ],
      "text/plain": [
       "\n"
      ]
     },
     "metadata": {},
     "output_type": "display_data"
    },
    {
     "data": {
      "text/html": [
       "<pre style=\"white-space:pre;overflow-x:auto;line-height:normal;font-family:Menlo,'DejaVu Sans Mono',consolas,'Courier New',monospace\"><span style=\"color: #7fbfbf; text-decoration-color: #7fbfbf\">01:25:48 PST </span>loading simulation from                                            \n",
       "<span style=\"color: #7fbfbf; text-decoration-color: #7fbfbf\">             </span>data/fdve-<span style=\"color: #ffff00; text-decoration-color: #ffff00\">8b3e7638-24a0-4fb6-b433-669dee3bdd69</span>.hdf5                \n",
       "</pre>\n"
      ],
      "text/plain": [
       "\u001b[2;36m01:25:48 PST\u001b[0m\u001b[2;36m \u001b[0mloading simulation from                                            \n",
       "\u001b[2;36m             \u001b[0mdata/fdve-\u001b[93m8b3e7638-24a0-4fb6-b433-669dee3bdd69\u001b[0m.hdf5                \n"
      ]
     },
     "metadata": {},
     "output_type": "display_data"
    },
    {
     "data": {
      "application/vnd.jupyter.widget-view+json": {
       "model_id": "bab92e0aea5f45688313676c922362d7",
       "version_major": 2,
       "version_minor": 0
      },
      "text/plain": [
       "Output()"
      ]
     },
     "metadata": {},
     "output_type": "display_data"
    },
    {
     "data": {
      "text/html": [
       "<pre style=\"white-space:pre;overflow-x:auto;line-height:normal;font-family:Menlo,'DejaVu Sans Mono',consolas,'Courier New',monospace\"></pre>\n"
      ],
      "text/plain": []
     },
     "metadata": {},
     "output_type": "display_data"
    },
    {
     "data": {
      "text/html": [
       "<pre style=\"white-space:pre;overflow-x:auto;line-height:normal;font-family:Menlo,'DejaVu Sans Mono',consolas,'Courier New',monospace\">\n",
       "</pre>\n"
      ],
      "text/plain": [
       "\n"
      ]
     },
     "metadata": {},
     "output_type": "display_data"
    },
    {
     "data": {
      "text/html": [
       "<pre style=\"white-space:pre;overflow-x:auto;line-height:normal;font-family:Menlo,'DejaVu Sans Mono',consolas,'Courier New',monospace\"><span style=\"color: #7fbfbf; text-decoration-color: #7fbfbf\">01:25:49 PST </span>loading simulation from                                            \n",
       "<span style=\"color: #7fbfbf; text-decoration-color: #7fbfbf\">             </span>data/fdve-<span style=\"color: #ffff00; text-decoration-color: #ffff00\">63ff86b2-cdb3-4330-a92b-f5e7d8945159</span>.hdf5                \n",
       "</pre>\n"
      ],
      "text/plain": [
       "\u001b[2;36m01:25:49 PST\u001b[0m\u001b[2;36m \u001b[0mloading simulation from                                            \n",
       "\u001b[2;36m             \u001b[0mdata/fdve-\u001b[93m63ff86b2-cdb3-4330-a92b-f5e7d8945159\u001b[0m.hdf5                \n"
      ]
     },
     "metadata": {},
     "output_type": "display_data"
    },
    {
     "data": {
      "application/vnd.jupyter.widget-view+json": {
       "model_id": "41abab675fae490582a4ab83b0bc86c1",
       "version_major": 2,
       "version_minor": 0
      },
      "text/plain": [
       "Output()"
      ]
     },
     "metadata": {},
     "output_type": "display_data"
    },
    {
     "data": {
      "text/html": [
       "<pre style=\"white-space:pre;overflow-x:auto;line-height:normal;font-family:Menlo,'DejaVu Sans Mono',consolas,'Courier New',monospace\"></pre>\n"
      ],
      "text/plain": []
     },
     "metadata": {},
     "output_type": "display_data"
    },
    {
     "data": {
      "text/html": [
       "<pre style=\"white-space:pre;overflow-x:auto;line-height:normal;font-family:Menlo,'DejaVu Sans Mono',consolas,'Courier New',monospace\">\n",
       "</pre>\n"
      ],
      "text/plain": [
       "\n"
      ]
     },
     "metadata": {},
     "output_type": "display_data"
    },
    {
     "data": {
      "text/html": [
       "<pre style=\"white-space:pre;overflow-x:auto;line-height:normal;font-family:Menlo,'DejaVu Sans Mono',consolas,'Courier New',monospace\"><span style=\"color: #7fbfbf; text-decoration-color: #7fbfbf\">01:25:50 PST </span>loading simulation from                                            \n",
       "<span style=\"color: #7fbfbf; text-decoration-color: #7fbfbf\">             </span>data/fdve-<span style=\"color: #ffff00; text-decoration-color: #ffff00\">186be327-291f-4501-b85d-f510c39cccc3</span>.hdf5                \n",
       "</pre>\n"
      ],
      "text/plain": [
       "\u001b[2;36m01:25:50 PST\u001b[0m\u001b[2;36m \u001b[0mloading simulation from                                            \n",
       "\u001b[2;36m             \u001b[0mdata/fdve-\u001b[93m186be327-291f-4501-b85d-f510c39cccc3\u001b[0m.hdf5                \n"
      ]
     },
     "metadata": {},
     "output_type": "display_data"
    },
    {
     "data": {
      "application/vnd.jupyter.widget-view+json": {
       "model_id": "4f86d78626ae48b9b6a230995dc3e72a",
       "version_major": 2,
       "version_minor": 0
      },
      "text/plain": [
       "Output()"
      ]
     },
     "metadata": {},
     "output_type": "display_data"
    },
    {
     "data": {
      "text/html": [
       "<pre style=\"white-space:pre;overflow-x:auto;line-height:normal;font-family:Menlo,'DejaVu Sans Mono',consolas,'Courier New',monospace\"></pre>\n"
      ],
      "text/plain": []
     },
     "metadata": {},
     "output_type": "display_data"
    },
    {
     "data": {
      "text/html": [
       "<pre style=\"white-space:pre;overflow-x:auto;line-height:normal;font-family:Menlo,'DejaVu Sans Mono',consolas,'Courier New',monospace\">\n",
       "</pre>\n"
      ],
      "text/plain": [
       "\n"
      ]
     },
     "metadata": {},
     "output_type": "display_data"
    },
    {
     "data": {
      "text/html": [
       "<pre style=\"white-space:pre;overflow-x:auto;line-height:normal;font-family:Menlo,'DejaVu Sans Mono',consolas,'Courier New',monospace\"><span style=\"color: #7fbfbf; text-decoration-color: #7fbfbf\">01:25:51 PST </span>loading simulation from                                            \n",
       "<span style=\"color: #7fbfbf; text-decoration-color: #7fbfbf\">             </span>data/fdve-<span style=\"color: #ffff00; text-decoration-color: #ffff00\">0b6eaa35-1200-4563-9968-597f5a1a4af2</span>.hdf5                \n",
       "</pre>\n"
      ],
      "text/plain": [
       "\u001b[2;36m01:25:51 PST\u001b[0m\u001b[2;36m \u001b[0mloading simulation from                                            \n",
       "\u001b[2;36m             \u001b[0mdata/fdve-\u001b[93m0b6eaa35-1200-4563-9968-597f5a1a4af2\u001b[0m.hdf5                \n"
      ]
     },
     "metadata": {},
     "output_type": "display_data"
    },
    {
     "data": {
      "image/png": "[encoded data removed]",
      "text/plain": [
       "<Figure size 640x480 with 1 Axes>"
      ]
     },
     "metadata": {},
     "output_type": "display_data"
    }
   ],
   "source": [
    "# extract absorption from four simulations\n",
    "A_LCP_A = 1 - batch_results[\"LCP_A\"][\"R\"].flux / 2\n",
    "A_LCP_C = 1 - batch_results[\"LCP_C\"][\"R\"].flux / 2\n",
    "A_RCP_A = 1 - batch_results[\"RCP_A\"][\"R\"].flux / 2\n",
    "A_RCP_C = 1 - batch_results[\"RCP_C\"][\"R\"].flux / 2\n",
    "\n",
    "# plot absorption spectra\n",
    "plt.plot(ldas, A_LCP_A, \"red\", label=\"LCP_A\")\n",
    "plt.plot(ldas, A_RCP_A, \"red\", linestyle=\"--\", label=\"RCP_A\")\n",
    "plt.plot(ldas, A_LCP_C, \"blue\", label=\"LCP_C\")\n",
    "plt.plot(ldas, A_RCP_C, \"blue\", linestyle=\"--\", label=\"RCP_C\")\n",
    "plt.ylabel(\"Absorption\")\n",
    "plt.xlabel(\"Wavelength ($\\mu m$)\")\n",
    "plt.legend()\n",
    "plt.show()"
   ]
  },
  {
   "cell_type": "markdown",
   "id": "aab8d370",
   "metadata": {},
   "source": [
    "With the absorption spectra, we can further calculate CD for both GST states. Note that compared to the [publication](), the results are similar but not identical, which is likely due to the slightly different refractive indices for the materials."
   ]
  },
  {
   "cell_type": "code",
   "execution_count": 13,
   "id": "f13b358d",
   "metadata": {
    "execution": {
     "iopub.execute_input": "2024-02-17T09:25:51.230692Z",
     "iopub.status.busy": "2024-02-17T09:25:51.230551Z",
     "iopub.status.idle": "2024-02-17T09:25:51.359239Z",
     "shell.execute_reply": "2024-02-17T09:25:51.358660Z"
    }
   },
   "outputs": [
    {
     "data": {
      "image/png": "[encoded data removed]",
      "text/plain": [
       "<Figure size 640x480 with 1 Axes>"
      ]
     },
     "metadata": {},
     "output_type": "display_data"
    }
   ],
   "source": [
    "# plot CD spectra\n",
    "plt.plot(ldas, A_LCP_A - A_RCP_A, \"red\", label=\"A\")\n",
    "plt.plot(ldas, A_LCP_C - A_RCP_C, \"blue\", label=\"C\")\n",
    "plt.title(\"Circular dichroism (CD)\")\n",
    "plt.ylabel(\"CD\")\n",
    "plt.xlabel(\"Wavelength ($\\mu m$)\")\n",
    "plt.legend()\n",
    "plt.show()"
   ]
  },
  {
   "cell_type": "markdown",
   "id": "429ef077",
   "metadata": {},
   "source": [
    "Lastly, we can plot the field distributions at the resonant wavelength when GST is in the amorphous state to visualize the resonant mode. We can see that with the left circularly polarized incident, the response is much stronger, leading to a much higher absorption as seen above."
   ]
  },
  {
   "cell_type": "code",
   "execution_count": 14,
   "id": "e1b9c92f",
   "metadata": {
    "execution": {
     "iopub.execute_input": "2024-02-17T09:25:51.361579Z",
     "iopub.status.busy": "2024-02-17T09:25:51.361435Z",
     "iopub.status.idle": "2024-02-17T09:25:52.406931Z",
     "shell.execute_reply": "2024-02-17T09:25:52.406170Z"
    }
   },
   "outputs": [
    {
     "data": {
      "text/html": [
       "<pre style=\"white-space:pre;overflow-x:auto;line-height:normal;font-family:Menlo,'DejaVu Sans Mono',consolas,'Courier New',monospace\"><span style=\"color: #7fbfbf; text-decoration-color: #7fbfbf\">             </span>loading simulation from                                            \n",
       "<span style=\"color: #7fbfbf; text-decoration-color: #7fbfbf\">             </span>data/fdve-<span style=\"color: #ffff00; text-decoration-color: #ffff00\">8b3e7638-24a0-4fb6-b433-669dee3bdd69</span>.hdf5                \n",
       "</pre>\n"
      ],
      "text/plain": [
       "\u001b[2;36m            \u001b[0m\u001b[2;36m \u001b[0mloading simulation from                                            \n",
       "\u001b[2;36m             \u001b[0mdata/fdve-\u001b[93m8b3e7638-24a0-4fb6-b433-669dee3bdd69\u001b[0m.hdf5                \n"
      ]
     },
     "metadata": {},
     "output_type": "display_data"
    },
    {
     "data": {
      "text/html": [
       "<pre style=\"white-space:pre;overflow-x:auto;line-height:normal;font-family:Menlo,'DejaVu Sans Mono',consolas,'Courier New',monospace\"><span style=\"color: #7fbfbf; text-decoration-color: #7fbfbf\">             </span>loading simulation from                                            \n",
       "<span style=\"color: #7fbfbf; text-decoration-color: #7fbfbf\">             </span>data/fdve-<span style=\"color: #ffff00; text-decoration-color: #ffff00\">186be327-291f-4501-b85d-f510c39cccc3</span>.hdf5                \n",
       "</pre>\n"
      ],
      "text/plain": [
       "\u001b[2;36m            \u001b[0m\u001b[2;36m \u001b[0mloading simulation from                                            \n",
       "\u001b[2;36m             \u001b[0mdata/fdve-\u001b[93m186be327-291f-4501-b85d-f510c39cccc3\u001b[0m.hdf5                \n"
      ]
     },
     "metadata": {},
     "output_type": "display_data"
    },
    {
     "data": {
      "image/png": "[encoded data removed]",
      "text/plain": [
       "<Figure size 640x480 with 4 Axes>"
      ]
     },
     "metadata": {},
     "output_type": "display_data"
    }
   ],
   "source": [
    "fig, ax = plt.subplots(2, 1, tight_layout=True)\n",
    "batch_results[\"LCP_A\"].plot_field(\n",
    "    field_monitor_name=\"field_xy\", field_name=\"E\", val=\"abs\", vmin=0, vmax=500, ax=ax[0]\n",
    ")\n",
    "batch_results[\"RCP_A\"].plot_field(\n",
    "    field_monitor_name=\"field_xy\", field_name=\"E\", val=\"abs\", vmin=0, vmax=500, ax=ax[1]\n",
    ")\n",
    "plt.show()"
   ]
  },
  {
   "cell_type": "markdown",
   "id": "31caddcc",
   "metadata": {},
   "source": [
    "Similarly, plot the field distributions in the $xz$ plane."
   ]
  },
  {
   "cell_type": "code",
   "execution_count": 15,
   "id": "f5d42178",
   "metadata": {
    "execution": {
     "iopub.execute_input": "2024-02-17T09:25:52.409272Z",
     "iopub.status.busy": "2024-02-17T09:25:52.409053Z",
     "iopub.status.idle": "2024-02-17T09:25:53.753037Z",
     "shell.execute_reply": "2024-02-17T09:25:53.752535Z"
    }
   },
   "outputs": [
    {
     "data": {
      "text/html": [
       "<pre style=\"white-space:pre;overflow-x:auto;line-height:normal;font-family:Menlo,'DejaVu Sans Mono',consolas,'Courier New',monospace\"><span style=\"color: #7fbfbf; text-decoration-color: #7fbfbf\">01:25:52 PST </span>loading simulation from                                            \n",
       "<span style=\"color: #7fbfbf; text-decoration-color: #7fbfbf\">             </span>data/fdve-<span style=\"color: #ffff00; text-decoration-color: #ffff00\">8b3e7638-24a0-4fb6-b433-669dee3bdd69</span>.hdf5                \n",
       "</pre>\n"
      ],
      "text/plain": [
       "\u001b[2;36m01:25:52 PST\u001b[0m\u001b[2;36m \u001b[0mloading simulation from                                            \n",
       "\u001b[2;36m             \u001b[0mdata/fdve-\u001b[93m8b3e7638-24a0-4fb6-b433-669dee3bdd69\u001b[0m.hdf5                \n"
      ]
     },
     "metadata": {},
     "output_type": "display_data"
    },
    {
     "data": {
      "text/html": [
       "<pre style=\"white-space:pre;overflow-x:auto;line-height:normal;font-family:Menlo,'DejaVu Sans Mono',consolas,'Courier New',monospace\"><span style=\"color: #7fbfbf; text-decoration-color: #7fbfbf\">             </span>loading simulation from                                            \n",
       "<span style=\"color: #7fbfbf; text-decoration-color: #7fbfbf\">             </span>data/fdve-<span style=\"color: #ffff00; text-decoration-color: #ffff00\">186be327-291f-4501-b85d-f510c39cccc3</span>.hdf5                \n",
       "</pre>\n"
      ],
      "text/plain": [
       "\u001b[2;36m            \u001b[0m\u001b[2;36m \u001b[0mloading simulation from                                            \n",
       "\u001b[2;36m             \u001b[0mdata/fdve-\u001b[93m186be327-291f-4501-b85d-f510c39cccc3\u001b[0m.hdf5                \n"
      ]
     },
     "metadata": {},
     "output_type": "display_data"
    },
    {
     "data": {
      "image/png": "[encoded data removed]",
      "text/plain": [
       "<Figure size 800x300 with 4 Axes>"
      ]
     },
     "metadata": {},
     "output_type": "display_data"
    }
   ],
   "source": [
    "fig, ax = plt.subplots(1, 2, figsize=(8, 3), tight_layout=True)\n",
    "batch_results[\"LCP_A\"].plot_field(\n",
    "    field_monitor_name=\"field_xz\", field_name=\"E\", val=\"abs\", vmin=0, vmax=500, ax=ax[0]\n",
    ")\n",
    "ax[0].set_ylim(-0.2, 1)\n",
    "batch_results[\"RCP_A\"].plot_field(\n",
    "    field_monitor_name=\"field_xz\", field_name=\"E\", val=\"abs\", vmin=0, vmax=500, ax=ax[1]\n",
    ")\n",
    "ax[1].set_ylim(-0.2, 1)\n",
    "plt.show()"
   ]
  },
  {
   "cell_type": "code",
   "execution_count": null,
   "id": "fa56861c",
   "metadata": {},
   "outputs": [],
   "source": []
  }
 ],
 "metadata": {
  "description": "This notebook demonstrates how to model a chiral metasurface based on phase change material in Tidy3D FDTD.",
  "feature_image": "./img/tunable_chiral_metasurface.png",
  "kernelspec": {
   "display_name": "Python 3 (ipykernel)",
   "language": "python",
   "name": "python3"
  },
  "keywords": "chiral, metasurface, circular dichroism, GST, phase change, Tidy3D, FDTD",
  "language_info": {
   "codemirror_mode": {
    "name": "ipython",
    "version": 3
   },
   "file_extension": ".py",
   "mimetype": "text/x-python",
   "name": "python",
   "nbconvert_exporter": "python",
   "pygments_lexer": "ipython3",
   "version": "3.10.13"
  },
  "title": "Tunable Chiral Metasurface Based on Phase Change Material | Flexcompute",
  "widgets": {
   "application/vnd.jupyter.widget-state+json": {
    "state": {
     "01ca052ca5de4e0aa2c1f214210205b7": {
      "model_module": "@jupyter-widgets/base",
      "model_module_version": "2.0.0",
      "model_name": "LayoutModel",
      "state": {
       "_model_module": "@jupyter-widgets/base",
       "_model_module_version": "2.0.0",
       "_model_name": "LayoutModel",
       "_view_count": null,
       "_view_module": "@jupyter-widgets/base",
       "_view_module_version": "2.0.0",
       "_view_name": "LayoutView",
       "align_content": null,
       "align_items": null,
       "align_self": null,
       "border_bottom": null,
       "border_left": null,
       "border_right": null,
       "border_top": null,
       "bottom": null,
       "display": null,
       "flex": null,
       "flex_flow": null,
       "grid_area": null,
       "grid_auto_columns": null,
       "grid_auto_flow": null,
       "grid_auto_rows": null,
       "grid_column": null,
       "grid_gap": null,
       "grid_row": null,
       "grid_template_areas": null,
       "grid_template_columns": null,
       "grid_template_rows": null,
       "height": null,
       "justify_content": null,
       "justify_items": null,
       "left": null,
       "margin": null,
       "max_height": null,
       "max_width": null,
       "min_height": null,
       "min_width": null,
       "object_fit": null,
       "object_position": null,
       "order": null,
       "overflow": null,
       "padding": null,
       "right": null,
       "top": null,
       "visibility": null,
       "width": null
      }
     },
     "06739448bc434cffbe3dcc0f9a7f0aa3": {
      "model_module": "@jupyter-widgets/base",
      "model_module_version": "2.0.0",
      "model_name": "LayoutModel",
      "state": {
       "_model_module": "@jupyter-widgets/base",
       "_model_module_version": "2.0.0",
       "_model_name": "LayoutModel",
       "_view_count": null,
       "_view_module": "@jupyter-widgets/base",
       "_view_module_version": "2.0.0",
       "_view_name": "LayoutView",
       "align_content": null,
       "align_items": null,
       "align_self": null,
       "border_bottom": null,
       "border_left": null,
       "border_right": null,
       "border_top": null,
       "bottom": null,
       "display": null,
       "flex": null,
       "flex_flow": null,
       "grid_area": null,
       "grid_auto_columns": null,
       "grid_auto_flow": null,
       "grid_auto_rows": null,
       "grid_column": null,
       "grid_gap": null,
       "grid_row": null,
       "grid_template_areas": null,
       "grid_template_columns": null,
       "grid_template_rows": null,
       "height": null,
       "justify_content": null,
       "justify_items": null,
       "left": null,
       "margin": null,
       "max_height": null,
       "max_width": null,
       "min_height": null,
       "min_width": null,
       "object_fit": null,
       "object_position": null,
       "order": null,
       "overflow": null,
       "padding": null,
       "right": null,
       "top": null,
       "visibility": null,
       "width": null
      }
     },
     "0da8d4d828eb4ca28847c6bf56d6af19": {
      "model_module": "@jupyter-widgets/output",
      "model_module_version": "1.0.0",
      "model_name": "OutputModel",
      "state": {
       "_dom_classes": [],
       "_model_module": "@jupyter-widgets/output",
       "_model_module_version": "1.0.0",
       "_model_name": "OutputModel",
       "_view_count": null,
       "_view_module": "@jupyter-widgets/output",
       "_view_module_version": "1.0.0",
       "_view_name": "OutputView",
       "layout": "IPY_MODEL_2716516f6f6f4320a7dfdc77e7b4afa5",
       "msg_id": "",
       "outputs": [
        {
         "data": {
          "text/html": "<pre style=\"white-space:pre;overflow-x:auto;line-height:normal;font-family:Menlo,'DejaVu Sans Mono',consolas,'Courier New',monospace\"><span style=\"color: #800000; text-decoration-color: #800000; font-weight: bold\">↑</span> <span style=\"color: #000080; text-decoration-color: #000080; font-weight: bold\">simulation.hdf5.gz</span> <span style=\"color: #729c1f; text-decoration-color: #729c1f\">━━━━━━━━━━━━━━━━━━━━━━━━━</span> <span style=\"color: #800080; text-decoration-color: #800080\">100.0%</span> • <span style=\"color: #008000; text-decoration-color: #008000\">2.8/2.8 kB</span> • <span style=\"color: #800000; text-decoration-color: #800000\">?</span> • <span style=\"color: #008080; text-decoration-color: #008080\">0:00:00</span>\n</pre>\n",
          "text/plain": "\u001b[1;31m↑\u001b[0m \u001b[1;34msimulation.hdf5.gz\u001b[0m \u001b[38;2;114;156;31m━━━━━━━━━━━━━━━━━━━━━━━━━\u001b[0m \u001b[35m100.0%\u001b[0m • \u001b[32m2.8/2.8 kB\u001b[0m • \u001b[31m?\u001b[0m • \u001b[36m0:00:00\u001b[0m\n"
         },
         "metadata": {},
         "output_type": "display_data"
        }
       ],
       "tabbable": null,
       "tooltip": null
      }
     },
     "171cb07eeaba4f169dbc463ea3fc58cc": {
      "model_module": "@jupyter-widgets/base",
      "model_module_version": "2.0.0",
      "model_name": "LayoutModel",
      "state": {
       "_model_module": "@jupyter-widgets/base",
       "_model_module_version": "2.0.0",
       "_model_name": "LayoutModel",
       "_view_count": null,
       "_view_module": "@jupyter-widgets/base",
       "_view_module_version": "2.0.0",
       "_view_name": "LayoutView",
       "align_content": null,
       "align_items": null,
       "align_self": null,
       "border_bottom": null,
       "border_left": null,
       "border_right": null,
       "border_top": null,
       "bottom": null,
       "display": null,
       "flex": null,
       "flex_flow": null,
       "grid_area": null,
       "grid_auto_columns": null,
       "grid_auto_flow": null,
       "grid_auto_rows": null,
       "grid_column": null,
       "grid_gap": null,
       "grid_row": null,
       "grid_template_areas": null,
       "grid_template_columns": null,
       "grid_template_rows": null,
       "height": null,
       "justify_content": null,
       "justify_items": null,
       "left": null,
       "margin": null,
       "max_height": null,
       "max_width": null,
       "min_height": null,
       "min_width": null,
       "object_fit": null,
       "object_position": null,
       "order": null,
       "overflow": null,
       "padding": null,
       "right": null,
       "top": null,
       "visibility": null,
       "width": null
      }
     },
     "1c53114826de492eb51a16d9343272ef": {
      "model_module": "@jupyter-widgets/output",
      "model_module_version": "1.0.0",
      "model_name": "OutputModel",
      "state": {
       "_dom_classes": [],
       "_model_module": "@jupyter-widgets/output",
       "_model_module_version": "1.0.0",
       "_model_name": "OutputModel",
       "_view_count": null,
       "_view_module": "@jupyter-widgets/output",
       "_view_module_version": "1.0.0",
       "_view_name": "OutputView",
       "layout": "IPY_MODEL_881c9aaa9f4f4c0581a39ea7c1c5a5e0",
       "msg_id": "",
       "outputs": [
        {
         "data": {
          "text/html": "<pre style=\"white-space:pre;overflow-x:auto;line-height:normal;font-family:Menlo,'DejaVu Sans Mono',consolas,'Courier New',monospace\">LCP_A: status = success <span style=\"color: #729c1f; text-decoration-color: #729c1f\">━━━━━━━━━━━━━━━━━━━━━━━━━━━━━━━━━━━━━━━━</span> <span style=\"color: #800080; text-decoration-color: #800080\">100%</span> <span style=\"color: #008080; text-decoration-color: #008080\">0:00:00</span>\nLCP_C: status = success <span style=\"color: #729c1f; text-decoration-color: #729c1f\">━━━━━━━━━━━━━━━━━━━━━━━━━━━━━━━━━━━━━━━━</span> <span style=\"color: #800080; text-decoration-color: #800080\">100%</span> <span style=\"color: #008080; text-decoration-color: #008080\">0:00:00</span>\nRCP_A: status = success <span style=\"color: #729c1f; text-decoration-color: #729c1f\">━━━━━━━━━━━━━━━━━━━━━━━━━━━━━━━━━━━━━━━━</span> <span style=\"color: #800080; text-decoration-color: #800080\">100%</span> <span style=\"color: #008080; text-decoration-color: #008080\">0:00:00</span>\nRCP_C: status = success <span style=\"color: #729c1f; text-decoration-color: #729c1f\">━━━━━━━━━━━━━━━━━━━━━━━━━━━━━━━━━━━━━━━━</span> <span style=\"color: #800080; text-decoration-color: #800080\">100%</span> <span style=\"color: #008080; text-decoration-color: #008080\">0:00:00</span>\n</pre>\n",
          "text/plain": "LCP_A: status = success \u001b[38;2;114;156;31m━━━━━━━━━━━━━━━━━━━━━━━━━━━━━━━━━━━━━━━━\u001b[0m \u001b[35m100%\u001b[0m \u001b[36m0:00:00\u001b[0m\nLCP_C: status = success \u001b[38;2;114;156;31m━━━━━━━━━━━━━━━━━━━━━━━━━━━━━━━━━━━━━━━━\u001b[0m \u001b[35m100%\u001b[0m \u001b[36m0:00:00\u001b[0m\nRCP_A: status = success \u001b[38;2;114;156;31m━━━━━━━━━━━━━━━━━━━━━━━━━━━━━━━━━━━━━━━━\u001b[0m \u001b[35m100%\u001b[0m \u001b[36m0:00:00\u001b[0m\nRCP_C: status = success \u001b[38;2;114;156;31m━━━━━━━━━━━━━━━━━━━━━━━━━━━━━━━━━━━━━━━━\u001b[0m \u001b[35m100%\u001b[0m \u001b[36m0:00:00\u001b[0m\n"
         },
         "metadata": {},
         "output_type": "display_data"
        }
       ],
       "tabbable": null,
       "tooltip": null
      }
     },
     "2716516f6f6f4320a7dfdc77e7b4afa5": {
      "model_module": "@jupyter-widgets/base",
      "model_module_version": "2.0.0",
      "model_name": "LayoutModel",
      "state": {
       "_model_module": "@jupyter-widgets/base",
       "_model_module_version": "2.0.0",
       "_model_name": "LayoutModel",
       "_view_count": null,
       "_view_module": "@jupyter-widgets/base",
       "_view_module_version": "2.0.0",
       "_view_name": "LayoutView",
       "align_content": null,
       "align_items": null,
       "align_self": null,
       "border_bottom": null,
       "border_left": null,
       "border_right": null,
       "border_top": null,
       "bottom": null,
       "display": null,
       "flex": null,
       "flex_flow": null,
       "grid_area": null,
       "grid_auto_columns": null,
       "grid_auto_flow": null,
       "grid_auto_rows": null,
       "grid_column": null,
       "grid_gap": null,
       "grid_row": null,
       "grid_template_areas": null,
       "grid_template_columns": null,
       "grid_template_rows": null,
       "height": null,
       "justify_content": null,
       "justify_items": null,
       "left": null,
       "margin": null,
       "max_height": null,
       "max_width": null,
       "min_height": null,
       "min_width": null,
       "object_fit": null,
       "object_position": null,
       "order": null,
       "overflow": null,
       "padding": null,
       "right": null,
       "top": null,
       "visibility": null,
       "width": null
      }
     },
     "283df78ee0e04c98b7f3425a87fe1256": {
      "model_module": "@jupyter-widgets/base",
      "model_module_version": "2.0.0",
      "model_name": "LayoutModel",
      "state": {
       "_model_module": "@jupyter-widgets/base",
       "_model_module_version": "2.0.0",
       "_model_name": "LayoutModel",
       "_view_count": null,
       "_view_module": "@jupyter-widgets/base",
       "_view_module_version": "2.0.0",
       "_view_name": "LayoutView",
       "align_content": null,
       "align_items": null,
       "align_self": null,
       "border_bottom": null,
       "border_left": null,
       "border_right": null,
       "border_top": null,
       "bottom": null,
       "display": null,
       "flex": null,
       "flex_flow": null,
       "grid_area": null,
       "grid_auto_columns": null,
       "grid_auto_flow": null,
       "grid_auto_rows": null,
       "grid_column": null,
       "grid_gap": null,
       "grid_row": null,
       "grid_template_areas": null,
       "grid_template_columns": null,
       "grid_template_rows": null,
       "height": null,
       "justify_content": null,
       "justify_items": null,
       "left": null,
       "margin": null,
       "max_height": null,
       "max_width": null,
       "min_height": null,
       "min_width": null,
       "object_fit": null,
       "object_position": null,
       "order": null,
       "overflow": null,
       "padding": null,
       "right": null,
       "top": null,
       "visibility": null,
       "width": null
      }
     },
     "41abab675fae490582a4ab83b0bc86c1": {
      "model_module": "@jupyter-widgets/output",
      "model_module_version": "1.0.0",
      "model_name": "OutputModel",
      "state": {
       "_dom_classes": [],
       "_model_module": "@jupyter-widgets/output",
       "_model_module_version": "1.0.0",
       "_model_name": "OutputModel",
       "_view_count": null,
       "_view_module": "@jupyter-widgets/output",
       "_view_module_version": "1.0.0",
       "_view_name": "OutputView",
       "layout": "IPY_MODEL_6a878b2f0ecf4437bdf396c9a6d43c1f",
       "msg_id": "",
       "outputs": [
        {
         "data": {
          "text/html": "<pre style=\"white-space:pre;overflow-x:auto;line-height:normal;font-family:Menlo,'DejaVu Sans Mono',consolas,'Courier New',monospace\"><span style=\"color: #008000; text-decoration-color: #008000; font-weight: bold\">↓</span> <span style=\"color: #000080; text-decoration-color: #000080; font-weight: bold\">simulation_data.hdf5.gz</span> <span style=\"color: #729c1f; text-decoration-color: #729c1f\">━━━━━━━━━━━━</span> <span style=\"color: #800080; text-decoration-color: #800080\">100.0%</span> • <span style=\"color: #008000; text-decoration-color: #008000\">4.5/4.5 MB</span> • <span style=\"color: #800000; text-decoration-color: #800000\">30.9 MB/s</span> • <span style=\"color: #008080; text-decoration-color: #008080\">0:00:00</span>\n</pre>\n",
          "text/plain": "\u001b[1;32m↓\u001b[0m \u001b[1;34msimulation_data.hdf5.gz\u001b[0m \u001b[38;2;114;156;31m━━━━━━━━━━━━\u001b[0m \u001b[35m100.0%\u001b[0m • \u001b[32m4.5/4.5 MB\u001b[0m • \u001b[31m30.9 MB/s\u001b[0m • \u001b[36m0:00:00\u001b[0m\n"
         },
         "metadata": {},
         "output_type": "display_data"
        }
       ],
       "tabbable": null,
       "tooltip": null
      }
     },
     "49b7b6b45c92490ebc9c9a6c2d2a2179": {
      "model_module": "@jupyter-widgets/output",
      "model_module_version": "1.0.0",
      "model_name": "OutputModel",
      "state": {
       "_dom_classes": [],
       "_model_module": "@jupyter-widgets/output",
       "_model_module_version": "1.0.0",
       "_model_name": "OutputModel",
       "_view_count": null,
       "_view_module": "@jupyter-widgets/output",
       "_view_module_version": "1.0.0",
       "_view_name": "OutputView",
       "layout": "IPY_MODEL_171cb07eeaba4f169dbc463ea3fc58cc",
       "msg_id": "",
       "outputs": [
        {
         "data": {
          "text/html": "<pre style=\"white-space:pre;overflow-x:auto;line-height:normal;font-family:Menlo,'DejaVu Sans Mono',consolas,'Courier New',monospace\"><span style=\"color: #800000; text-decoration-color: #800000; font-weight: bold\">↑</span> <span style=\"color: #000080; text-decoration-color: #000080; font-weight: bold\">simulation.hdf5.gz</span> <span style=\"color: #729c1f; text-decoration-color: #729c1f\">━━━━━━━━━━━━━━━━━━━━━━━━━</span> <span style=\"color: #800080; text-decoration-color: #800080\">100.0%</span> • <span style=\"color: #008000; text-decoration-color: #008000\">2.8/2.8 kB</span> • <span style=\"color: #800000; text-decoration-color: #800000\">?</span> • <span style=\"color: #008080; text-decoration-color: #008080\">0:00:00</span>\n</pre>\n",
          "text/plain": "\u001b[1;31m↑\u001b[0m \u001b[1;34msimulation.hdf5.gz\u001b[0m \u001b[38;2;114;156;31m━━━━━━━━━━━━━━━━━━━━━━━━━\u001b[0m \u001b[35m100.0%\u001b[0m • \u001b[32m2.8/2.8 kB\u001b[0m • \u001b[31m?\u001b[0m • \u001b[36m0:00:00\u001b[0m\n"
         },
         "metadata": {},
         "output_type": "display_data"
        }
       ],
       "tabbable": null,
       "tooltip": null
      }
     },
     "4f86d78626ae48b9b6a230995dc3e72a": {
      "model_module": "@jupyter-widgets/output",
      "model_module_version": "1.0.0",
      "model_name": "OutputModel",
      "state": {
       "_dom_classes": [],
       "_model_module": "@jupyter-widgets/output",
       "_model_module_version": "1.0.0",
       "_model_name": "OutputModel",
       "_view_count": null,
       "_view_module": "@jupyter-widgets/output",
       "_view_module_version": "1.0.0",
       "_view_name": "OutputView",
       "layout": "IPY_MODEL_01ca052ca5de4e0aa2c1f214210205b7",
       "msg_id": "",
       "outputs": [
        {
         "data": {
          "text/html": "<pre style=\"white-space:pre;overflow-x:auto;line-height:normal;font-family:Menlo,'DejaVu Sans Mono',consolas,'Courier New',monospace\"><span style=\"color: #008000; text-decoration-color: #008000; font-weight: bold\">↓</span> <span style=\"color: #000080; text-decoration-color: #000080; font-weight: bold\">simulation_data.hdf5.gz</span> <span style=\"color: #729c1f; text-decoration-color: #729c1f\">━━━━━━━━━━━━</span> <span style=\"color: #800080; text-decoration-color: #800080\">100.0%</span> • <span style=\"color: #008000; text-decoration-color: #008000\">4.5/4.5 MB</span> • <span style=\"color: #800000; text-decoration-color: #800000\">32.3 MB/s</span> • <span style=\"color: #008080; text-decoration-color: #008080\">0:00:00</span>\n</pre>\n",
          "text/plain": "\u001b[1;32m↓\u001b[0m \u001b[1;34msimulation_data.hdf5.gz\u001b[0m \u001b[38;2;114;156;31m━━━━━━━━━━━━\u001b[0m \u001b[35m100.0%\u001b[0m • \u001b[32m4.5/4.5 MB\u001b[0m • \u001b[31m32.3 MB/s\u001b[0m • \u001b[36m0:00:00\u001b[0m\n"
         },
         "metadata": {},
         "output_type": "display_data"
        }
       ],
       "tabbable": null,
       "tooltip": null
      }
     },
     "66d5121a389c45f3a6568c78e2b249f2": {
      "model_module": "@jupyter-widgets/output",
      "model_module_version": "1.0.0",
      "model_name": "OutputModel",
      "state": {
       "_dom_classes": [],
       "_model_module": "@jupyter-widgets/output",
       "_model_module_version": "1.0.0",
       "_model_name": "OutputModel",
       "_view_count": null,
       "_view_module": "@jupyter-widgets/output",
       "_view_module_version": "1.0.0",
       "_view_name": "OutputView",
       "layout": "IPY_MODEL_06739448bc434cffbe3dcc0f9a7f0aa3",
       "msg_id": "",
       "outputs": [
        {
         "data": {
          "text/html": "<pre style=\"white-space:pre;overflow-x:auto;line-height:normal;font-family:Menlo,'DejaVu Sans Mono',consolas,'Courier New',monospace\"><span style=\"color: #800000; text-decoration-color: #800000; font-weight: bold\">↑</span> <span style=\"color: #000080; text-decoration-color: #000080; font-weight: bold\">simulation.hdf5.gz</span> <span style=\"color: #729c1f; text-decoration-color: #729c1f\">━━━━━━━━━━━━━━━━━━━━━━━━━</span> <span style=\"color: #800080; text-decoration-color: #800080\">100.0%</span> • <span style=\"color: #008000; text-decoration-color: #008000\">2.9/2.9 kB</span> • <span style=\"color: #800000; text-decoration-color: #800000\">?</span> • <span style=\"color: #008080; text-decoration-color: #008080\">0:00:00</span>\n</pre>\n",
          "text/plain": "\u001b[1;31m↑\u001b[0m \u001b[1;34msimulation.hdf5.gz\u001b[0m \u001b[38;2;114;156;31m━━━━━━━━━━━━━━━━━━━━━━━━━\u001b[0m \u001b[35m100.0%\u001b[0m • \u001b[32m2.9/2.9 kB\u001b[0m • \u001b[31m?\u001b[0m • \u001b[36m0:00:00\u001b[0m\n"
         },
         "metadata": {},
         "output_type": "display_data"
        }
       ],
       "tabbable": null,
       "tooltip": null
      }
     },
     "6a878b2f0ecf4437bdf396c9a6d43c1f": {
      "model_module": "@jupyter-widgets/base",
      "model_module_version": "2.0.0",
      "model_name": "LayoutModel",
      "state": {
       "_model_module": "@jupyter-widgets/base",
       "_model_module_version": "2.0.0",
       "_model_name": "LayoutModel",
       "_view_count": null,
       "_view_module": "@jupyter-widgets/base",
       "_view_module_version": "2.0.0",
       "_view_name": "LayoutView",
       "align_content": null,
       "align_items": null,
       "align_self": null,
       "border_bottom": null,
       "border_left": null,
       "border_right": null,
       "border_top": null,
       "bottom": null,
       "display": null,
       "flex": null,
       "flex_flow": null,
       "grid_area": null,
       "grid_auto_columns": null,
       "grid_auto_flow": null,
       "grid_auto_rows": null,
       "grid_column": null,
       "grid_gap": null,
       "grid_row": null,
       "grid_template_areas": null,
       "grid_template_columns": null,
       "grid_template_rows": null,
       "height": null,
       "justify_content": null,
       "justify_items": null,
       "left": null,
       "margin": null,
       "max_height": null,
       "max_width": null,
       "min_height": null,
       "min_width": null,
       "object_fit": null,
       "object_position": null,
       "order": null,
       "overflow": null,
       "padding": null,
       "right": null,
       "top": null,
       "visibility": null,
       "width": null
      }
     },
     "881c9aaa9f4f4c0581a39ea7c1c5a5e0": {
      "model_module": "@jupyter-widgets/base",
      "model_module_version": "2.0.0",
      "model_name": "LayoutModel",
      "state": {
       "_model_module": "@jupyter-widgets/base",
       "_model_module_version": "2.0.0",
       "_model_name": "LayoutModel",
       "_view_count": null,
       "_view_module": "@jupyter-widgets/base",
       "_view_module_version": "2.0.0",
       "_view_name": "LayoutView",
       "align_content": null,
       "align_items": null,
       "align_self": null,
       "border_bottom": null,
       "border_left": null,
       "border_right": null,
       "border_top": null,
       "bottom": null,
       "display": null,
       "flex": null,
       "flex_flow": null,
       "grid_area": null,
       "grid_auto_columns": null,
       "grid_auto_flow": null,
       "grid_auto_rows": null,
       "grid_column": null,
       "grid_gap": null,
       "grid_row": null,
       "grid_template_areas": null,
       "grid_template_columns": null,
       "grid_template_rows": null,
       "height": null,
       "justify_content": null,
       "justify_items": null,
       "left": null,
       "margin": null,
       "max_height": null,
       "max_width": null,
       "min_height": null,
       "min_width": null,
       "object_fit": null,
       "object_position": null,
       "order": null,
       "overflow": null,
       "padding": null,
       "right": null,
       "top": null,
       "visibility": null,
       "width": null
      }
     },
     "ad1247e50d1f4554b1e49ed427b29a8d": {
      "model_module": "@jupyter-widgets/output",
      "model_module_version": "1.0.0",
      "model_name": "OutputModel",
      "state": {
       "_dom_classes": [],
       "_model_module": "@jupyter-widgets/output",
       "_model_module_version": "1.0.0",
       "_model_name": "OutputModel",
       "_view_count": null,
       "_view_module": "@jupyter-widgets/output",
       "_view_module_version": "1.0.0",
       "_view_name": "OutputView",
       "layout": "IPY_MODEL_e1205acde37c4d04bd8bebdd2cb6da2e",
       "msg_id": "",
       "outputs": [
        {
         "data": {
          "text/html": "<pre style=\"white-space:pre;overflow-x:auto;line-height:normal;font-family:Menlo,'DejaVu Sans Mono',consolas,'Courier New',monospace\">Best weighted RMS error so far: 0.171 <span style=\"color: #729c1f; text-decoration-color: #729c1f\">━━━━━━━━━━━━━━━━━━━━━━━━━━━━━</span> <span style=\"color: #800080; text-decoration-color: #800080\">100%</span> <span style=\"color: #008080; text-decoration-color: #008080\">0:00:00</span>\n</pre>\n",
          "text/plain": "Best weighted RMS error so far: 0.171 \u001b[38;2;114;156;31m━━━━━━━━━━━━━━━━━━━━━━━━━━━━━\u001b[0m \u001b[35m100%\u001b[0m \u001b[36m0:00:00\u001b[0m\n"
         },
         "metadata": {},
         "output_type": "display_data"
        }
       ],
       "tabbable": null,
       "tooltip": null
      }
     },
     "b35ae15209104bdd8002d4e0d62ecde6": {
      "model_module": "@jupyter-widgets/base",
      "model_module_version": "2.0.0",
      "model_name": "LayoutModel",
      "state": {
       "_model_module": "@jupyter-widgets/base",
       "_model_module_version": "2.0.0",
       "_model_name": "LayoutModel",
       "_view_count": null,
       "_view_module": "@jupyter-widgets/base",
       "_view_module_version": "2.0.0",
       "_view_name": "LayoutView",
       "align_content": null,
       "align_items": null,
       "align_self": null,
       "border_bottom": null,
       "border_left": null,
       "border_right": null,
       "border_top": null,
       "bottom": null,
       "display": null,
       "flex": null,
       "flex_flow": null,
       "grid_area": null,
       "grid_auto_columns": null,
       "grid_auto_flow": null,
       "grid_auto_rows": null,
       "grid_column": null,
       "grid_gap": null,
       "grid_row": null,
       "grid_template_areas": null,
       "grid_template_columns": null,
       "grid_template_rows": null,
       "height": null,
       "justify_content": null,
       "justify_items": null,
       "left": null,
       "margin": null,
       "max_height": null,
       "max_width": null,
       "min_height": null,
       "min_width": null,
       "object_fit": null,
       "object_position": null,
       "order": null,
       "overflow": null,
       "padding": null,
       "right": null,
       "top": null,
       "visibility": null,
       "width": null
      }
     },
     "b7de027a4f1c4d6db1f77c563b9ecdf7": {
      "model_module": "@jupyter-widgets/output",
      "model_module_version": "1.0.0",
      "model_name": "OutputModel",
      "state": {
       "_dom_classes": [],
       "_model_module": "@jupyter-widgets/output",
       "_model_module_version": "1.0.0",
       "_model_name": "OutputModel",
       "_view_count": null,
       "_view_module": "@jupyter-widgets/output",
       "_view_module_version": "1.0.0",
       "_view_name": "OutputView",
       "layout": "IPY_MODEL_effb944e328045c28b0de48dc924c145",
       "msg_id": "",
       "outputs": [
        {
         "data": {
          "text/html": "<pre style=\"white-space:pre;overflow-x:auto;line-height:normal;font-family:Menlo,'DejaVu Sans Mono',consolas,'Courier New',monospace\"><span style=\"color: #008000; text-decoration-color: #008000; font-weight: bold\">↓</span> <span style=\"color: #000080; text-decoration-color: #000080; font-weight: bold\">simulation_data.hdf5.gz</span> <span style=\"color: #729c1f; text-decoration-color: #729c1f\">━━━━━━━━━━━━</span> <span style=\"color: #800080; text-decoration-color: #800080\">100.0%</span> • <span style=\"color: #008000; text-decoration-color: #008000\">4.5/4.5 MB</span> • <span style=\"color: #800000; text-decoration-color: #800000\">25.5 MB/s</span> • <span style=\"color: #008080; text-decoration-color: #008080\">0:00:00</span>\n</pre>\n",
          "text/plain": "\u001b[1;32m↓\u001b[0m \u001b[1;34msimulation_data.hdf5.gz\u001b[0m \u001b[38;2;114;156;31m━━━━━━━━━━━━\u001b[0m \u001b[35m100.0%\u001b[0m • \u001b[32m4.5/4.5 MB\u001b[0m • \u001b[31m25.5 MB/s\u001b[0m • \u001b[36m0:00:00\u001b[0m\n"
         },
         "metadata": {},
         "output_type": "display_data"
        }
       ],
       "tabbable": null,
       "tooltip": null
      }
     },
     "bab92e0aea5f45688313676c922362d7": {
      "model_module": "@jupyter-widgets/output",
      "model_module_version": "1.0.0",
      "model_name": "OutputModel",
      "state": {
       "_dom_classes": [],
       "_model_module": "@jupyter-widgets/output",
       "_model_module_version": "1.0.0",
       "_model_name": "OutputModel",
       "_view_count": null,
       "_view_module": "@jupyter-widgets/output",
       "_view_module_version": "1.0.0",
       "_view_name": "OutputView",
       "layout": "IPY_MODEL_b35ae15209104bdd8002d4e0d62ecde6",
       "msg_id": "",
       "outputs": [
        {
         "data": {
          "text/html": "<pre style=\"white-space:pre;overflow-x:auto;line-height:normal;font-family:Menlo,'DejaVu Sans Mono',consolas,'Courier New',monospace\"><span style=\"color: #008000; text-decoration-color: #008000; font-weight: bold\">↓</span> <span style=\"color: #000080; text-decoration-color: #000080; font-weight: bold\">simulation_data.hdf5.gz</span> <span style=\"color: #729c1f; text-decoration-color: #729c1f\">━━━━━━━━━━━━</span> <span style=\"color: #800080; text-decoration-color: #800080\">100.0%</span> • <span style=\"color: #008000; text-decoration-color: #008000\">4.5/4.5 MB</span> • <span style=\"color: #800000; text-decoration-color: #800000\">30.5 MB/s</span> • <span style=\"color: #008080; text-decoration-color: #008080\">0:00:00</span>\n</pre>\n",
          "text/plain": "\u001b[1;32m↓\u001b[0m \u001b[1;34msimulation_data.hdf5.gz\u001b[0m \u001b[38;2;114;156;31m━━━━━━━━━━━━\u001b[0m \u001b[35m100.0%\u001b[0m • \u001b[32m4.5/4.5 MB\u001b[0m • \u001b[31m30.5 MB/s\u001b[0m • \u001b[36m0:00:00\u001b[0m\n"
         },
         "metadata": {},
         "output_type": "display_data"
        }
       ],
       "tabbable": null,
       "tooltip": null
      }
     },
     "c27f416252b84f69a8ab2d99b9abd381": {
      "model_module": "@jupyter-widgets/output",
      "model_module_version": "1.0.0",
      "model_name": "OutputModel",
      "state": {
       "_dom_classes": [],
       "_model_module": "@jupyter-widgets/output",
       "_model_module_version": "1.0.0",
       "_model_name": "OutputModel",
       "_view_count": null,
       "_view_module": "@jupyter-widgets/output",
       "_view_module_version": "1.0.0",
       "_view_name": "OutputView",
       "layout": "IPY_MODEL_d62417c4843d4414b95be7fb4e63286d",
       "msg_id": "",
       "outputs": [
        {
         "data": {
          "text/html": "<pre style=\"white-space:pre;overflow-x:auto;line-height:normal;font-family:Menlo,'DejaVu Sans Mono',consolas,'Courier New',monospace\"><span style=\"color: #800000; text-decoration-color: #800000; font-weight: bold\">↑</span> <span style=\"color: #000080; text-decoration-color: #000080; font-weight: bold\">simulation.hdf5.gz</span> <span style=\"color: #729c1f; text-decoration-color: #729c1f\">━━━━━━━━━━━━━━━━━━━━━━━━━</span> <span style=\"color: #800080; text-decoration-color: #800080\">100.0%</span> • <span style=\"color: #008000; text-decoration-color: #008000\">2.9/2.9 kB</span> • <span style=\"color: #800000; text-decoration-color: #800000\">?</span> • <span style=\"color: #008080; text-decoration-color: #008080\">0:00:00</span>\n</pre>\n",
          "text/plain": "\u001b[1;31m↑\u001b[0m \u001b[1;34msimulation.hdf5.gz\u001b[0m \u001b[38;2;114;156;31m━━━━━━━━━━━━━━━━━━━━━━━━━\u001b[0m \u001b[35m100.0%\u001b[0m • \u001b[32m2.9/2.9 kB\u001b[0m • \u001b[31m?\u001b[0m • \u001b[36m0:00:00\u001b[0m\n"
         },
         "metadata": {},
         "output_type": "display_data"
        }
       ],
       "tabbable": null,
       "tooltip": null
      }
     },
     "d28143814ae44bb793a71c90c403dd2c": {
      "model_module": "@jupyter-widgets/output",
      "model_module_version": "1.0.0",
      "model_name": "OutputModel",
      "state": {
       "_dom_classes": [],
       "_model_module": "@jupyter-widgets/output",
       "_model_module_version": "1.0.0",
       "_model_name": "OutputModel",
       "_view_count": null,
       "_view_module": "@jupyter-widgets/output",
       "_view_module_version": "1.0.0",
       "_view_name": "OutputView",
       "layout": "IPY_MODEL_283df78ee0e04c98b7f3425a87fe1256",
       "msg_id": "",
       "outputs": [
        {
         "data": {
          "text/html": "<pre style=\"white-space:pre;overflow-x:auto;line-height:normal;font-family:Menlo,'DejaVu Sans Mono',consolas,'Courier New',monospace\">Best weighted RMS error: 0.0445 <span style=\"color: #729c1f; text-decoration-color: #729c1f\">━━━━━━━━━━━━━━━━━━━━━━━━━━━━━━━━━━━</span> <span style=\"color: #800080; text-decoration-color: #800080\">100%</span> <span style=\"color: #008080; text-decoration-color: #008080\">0:00:00</span>\n</pre>\n",
          "text/plain": "Best weighted RMS error: 0.0445 \u001b[38;2;114;156;31m━━━━━━━━━━━━━━━━━━━━━━━━━━━━━━━━━━━\u001b[0m \u001b[35m100%\u001b[0m \u001b[36m0:00:00\u001b[0m\n"
         },
         "metadata": {},
         "output_type": "display_data"
        }
       ],
       "tabbable": null,
       "tooltip": null
      }
     },
     "d62417c4843d4414b95be7fb4e63286d": {
      "model_module": "@jupyter-widgets/base",
      "model_module_version": "2.0.0",
      "model_name": "LayoutModel",
      "state": {
       "_model_module": "@jupyter-widgets/base",
       "_model_module_version": "2.0.0",
       "_model_name": "LayoutModel",
       "_view_count": null,
       "_view_module": "@jupyter-widgets/base",
       "_view_module_version": "2.0.0",
       "_view_name": "LayoutView",
       "align_content": null,
       "align_items": null,
       "align_self": null,
       "border_bottom": null,
       "border_left": null,
       "border_right": null,
       "border_top": null,
       "bottom": null,
       "display": null,
       "flex": null,
       "flex_flow": null,
       "grid_area": null,
       "grid_auto_columns": null,
       "grid_auto_flow": null,
       "grid_auto_rows": null,
       "grid_column": null,
       "grid_gap": null,
       "grid_row": null,
       "grid_template_areas": null,
       "grid_template_columns": null,
       "grid_template_rows": null,
       "height": null,
       "justify_content": null,
       "justify_items": null,
       "left": null,
       "margin": null,
       "max_height": null,
       "max_width": null,
       "min_height": null,
       "min_width": null,
       "object_fit": null,
       "object_position": null,
       "order": null,
       "overflow": null,
       "padding": null,
       "right": null,
       "top": null,
       "visibility": null,
       "width": null
      }
     },
     "e1205acde37c4d04bd8bebdd2cb6da2e": {
      "model_module": "@jupyter-widgets/base",
      "model_module_version": "2.0.0",
      "model_name": "LayoutModel",
      "state": {
       "_model_module": "@jupyter-widgets/base",
       "_model_module_version": "2.0.0",
       "_model_name": "LayoutModel",
       "_view_count": null,
       "_view_module": "@jupyter-widgets/base",
       "_view_module_version": "2.0.0",
       "_view_name": "LayoutView",
       "align_content": null,
       "align_items": null,
       "align_self": null,
       "border_bottom": null,
       "border_left": null,
       "border_right": null,
       "border_top": null,
       "bottom": null,
       "display": null,
       "flex": null,
       "flex_flow": null,
       "grid_area": null,
       "grid_auto_columns": null,
       "grid_auto_flow": null,
       "grid_auto_rows": null,
       "grid_column": null,
       "grid_gap": null,
       "grid_row": null,
       "grid_template_areas": null,
       "grid_template_columns": null,
       "grid_template_rows": null,
       "height": null,
       "justify_content": null,
       "justify_items": null,
       "left": null,
       "margin": null,
       "max_height": null,
       "max_width": null,
       "min_height": null,
       "min_width": null,
       "object_fit": null,
       "object_position": null,
       "order": null,
       "overflow": null,
       "padding": null,
       "right": null,
       "top": null,
       "visibility": null,
       "width": null
      }
     },
     "effb944e328045c28b0de48dc924c145": {
      "model_module": "@jupyter-widgets/base",
      "model_module_version": "2.0.0",
      "model_name": "LayoutModel",
      "state": {
       "_model_module": "@jupyter-widgets/base",
       "_model_module_version": "2.0.0",
       "_model_name": "LayoutModel",
       "_view_count": null,
       "_view_module": "@jupyter-widgets/base",
       "_view_module_version": "2.0.0",
       "_view_name": "LayoutView",
       "align_content": null,
       "align_items": null,
       "align_self": null,
       "border_bottom": null,
       "border_left": null,
       "border_right": null,
       "border_top": null,
       "bottom": null,
       "display": null,
       "flex": null,
       "flex_flow": null,
       "grid_area": null,
       "grid_auto_columns": null,
       "grid_auto_flow": null,
       "grid_auto_rows": null,
       "grid_column": null,
       "grid_gap": null,
       "grid_row": null,
       "grid_template_areas": null,
       "grid_template_columns": null,
       "grid_template_rows": null,
       "height": null,
       "justify_content": null,
       "justify_items": null,
       "left": null,
       "margin": null,
       "max_height": null,
       "max_width": null,
       "min_height": null,
       "min_width": null,
       "object_fit": null,
       "object_position": null,
       "order": null,
       "overflow": null,
       "padding": null,
       "right": null,
       "top": null,
       "visibility": null,
       "width": null
      }
     }
    },
    "version_major": 2,
    "version_minor": 0
   }
  }
 },
 "nbformat": 4,
 "nbformat_minor": 5
}
