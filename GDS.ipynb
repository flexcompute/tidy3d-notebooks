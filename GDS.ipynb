{
 "cells": [
  {
   "cell_type": "markdown",
   "metadata": {
    "slideshow": {
     "slide_type": "-"
    }
   },
   "source": [
    "# GDSII import\n",
    "\n",
    "See on [github](https://github.com/flexcompute/tidy3d-notebooks/blob/main/GDS.ipynb), run on [colab](https://colab.research.google.com/github/flexcompute/tidy3d-notebooks/blob/main/GDS.ipynb), or just follow along with the output below.\n",
    "\n",
    "<img src=\"img/splitter.png\" alt=\"diagram\" width=\"400\"/>\n",
    "\n",
    "In Tidy3D, complex structures can be imported from GDSII files via the third-party [gdspy](https://gdspy.readthedocs.io/en/stable/index.html) package. In this tutorial, we will illustrate how GDS-defined structures can be imported in a Simulation. But before that, we will also illustrate how we can use `gdspy` to define a device that is ubiquitous in integrated photonics - a beam splitter based on a waveguide directional coupler."
   ]
  },
  {
   "cell_type": "code",
   "execution_count": 1,
   "metadata": {
    "execution": {
     "iopub.execute_input": "2021-05-03T20:58:15.783867Z",
     "iopub.status.busy": "2021-05-03T20:58:15.783016Z",
     "iopub.status.idle": "2021-05-03T20:58:17.680293Z",
     "shell.execute_reply": "2021-05-03T20:58:17.679925Z"
    }
   },
   "outputs": [
    {
     "name": "stdout",
     "output_type": "stream",
     "text": [
      "The autoreload extension is already loaded. To reload it, use:\n",
      "  %reload_ext autoreload\n"
     ]
    }
   ],
   "source": [
    "# basic ipython configuration (reload source code automatically and plots inline)\n",
    "%load_ext autoreload\n",
    "%autoreload 2\n",
    "%matplotlib inline\n",
    "\n",
    "# standard python imports\n",
    "import numpy as np\n",
    "import matplotlib.pyplot as plt\n",
    "import gdspy\n",
    "\n",
    "# get the most recent version of tidy3d\n",
    "!pip install -q --upgrade tidy3d\n",
    "\n",
    "# tidy3D import\n",
    "import tidy3d as td\n",
    "from tidy3d import web"
   ]
  },
  {
   "cell_type": "markdown",
   "metadata": {},
   "source": [
    "## Defining a beam splitter\n",
    "\n",
    "We wish to construct an integrated beam splitter as in the title image in this notebook. We first define some structural parameters. The two arms of the device start at a distance `wg_spacing_in` apart, then come together at a coupling distance `wg_spacing_coup` for a certain length `coup_length`, and then split again into separate ports. In the coupling region, the field overlap results in energy exchange between the two waveguides. Here, we will only see how to define, import, and export such a device using `gdspy`, while in a later example we will simulate the device and study the frequency dependence of the transmission into each of the ports."
   ]
  },
  {
   "cell_type": "code",
   "execution_count": 2,
   "metadata": {
    "execution": {
     "iopub.execute_input": "2021-05-03T20:58:17.682694Z",
     "iopub.status.busy": "2021-05-03T20:58:17.682294Z",
     "iopub.status.idle": "2021-05-03T20:58:17.690512Z",
     "shell.execute_reply": "2021-05-03T20:58:17.690186Z"
    }
   },
   "outputs": [],
   "source": [
    "### Length scale in micron.\n",
    "\n",
    "# Waveguide width\n",
    "wg_width = 0.45\n",
    "# Waveguide separation in the beginning/end\n",
    "wg_spacing_in = 16\n",
    "# Length of the coupling region\n",
    "coup_length = 6\n",
    "# Length of the bend region\n",
    "bend_length = 16\n",
    "# Waveguide separation in the coupling region\n",
    "wg_spacing_coup = 0.10\n",
    "# Total device length along propagation direction\n",
    "device_length = 50"
   ]
  },
  {
   "cell_type": "markdown",
   "metadata": {},
   "source": [
    "To create the device, we will define the waveguides as a GDSII path object with the given waveguide width. To do that, we just need to define a series of points along the center of each waveguide that follows the curvature we desire. First, we define a convenience function to create the central points along one of the waveguides, using a hyperbolic tangent curvature between the input and coupling regions. The second waveguide is just a reflected version of the first one."
   ]
  },
  {
   "cell_type": "code",
   "execution_count": 3,
   "metadata": {
    "execution": {
     "iopub.execute_input": "2021-05-03T20:58:17.695145Z",
     "iopub.status.busy": "2021-05-03T20:58:17.694808Z",
     "iopub.status.idle": "2021-05-03T20:58:17.786390Z",
     "shell.execute_reply": "2021-05-03T20:58:17.786050Z"
    }
   },
   "outputs": [
    {
     "data": {
      "image/png": "[encoded data removed]",
      "text/plain": [
       "<Figure size 576x216 with 1 Axes>"
      ]
     },
     "metadata": {
      "needs_background": "light"
     },
     "output_type": "display_data"
    }
   ],
   "source": [
    "def bend_pts(bend_length, width, npts=10):\n",
    "    \"\"\" Set of points describing a tanh bend from (0, 0) to (length, width)\"\"\"\n",
    "    x = np.linspace(0, bend_length, npts)\n",
    "    y = width*(1 + np.tanh(6*(x/bend_length - 0.5)))/2\n",
    "    return np.stack((x, y), axis=1)\n",
    "\n",
    "def arm_pts(length, width, coup_length, bend_length, npts_bend=30):\n",
    "    \"\"\" Set of points defining one arm of an integrated coupler \"\"\"\n",
    "    ### Make the right half of the coupler arm first\n",
    "    # Make bend and offset by coup_length/2\n",
    "    bend = bend_pts(bend_length, width, npts_bend)\n",
    "    bend[:, 0] += coup_length / 2\n",
    "    # Add starting point as (0, 0)\n",
    "    right_half = np.concatenate(([[0, 0]], bend))\n",
    "    # Add end point as (length, width)\n",
    "    right_half = np.concatenate((right_half, [[length, width]]))\n",
    "\n",
    "    ### Make the left half by reflecting and omitting the (0, 0) point\n",
    "    left_half = np.copy(right_half)[1:, :]\n",
    "    left_half[:, 0] = -left_half[::-1, 0]\n",
    "    left_half[:, 1] = left_half[::-1, 1]\n",
    "    \n",
    "    return np.concatenate((left_half, right_half), axis=0)\n",
    "\n",
    "# Plot the upper arm for the current configuration\n",
    "arm_center_coords = arm_pts(\n",
    "    device_length,\n",
    "    wg_spacing_in/2,\n",
    "    coup_length,\n",
    "    bend_length)\n",
    "\n",
    "fig, ax = plt.subplots(1, figsize=(8, 3))\n",
    "ax.plot(arm_center_coords[:, 0], arm_center_coords[:, 1], lw=4)\n",
    "ax.set_xlim([-device_length/2, device_length/2])\n",
    "ax.set_xlabel(\"x (um)\")\n",
    "ax.set_ylabel(\"y (um)\")\n",
    "ax.set_title(\"Upper beam splitter arm\")\n",
    "ax.axes.set_aspect('equal')\n",
    "plt.show()"
   ]
  },
  {
   "cell_type": "markdown",
   "metadata": {},
   "source": [
    "Next, we construct the splitter and write it to a GDS cell. We add two paths, one for the upper and one for the lower splitter arms, and set the path width to be the waveguide width defined above."
   ]
  },
  {
   "cell_type": "code",
   "execution_count": 4,
   "metadata": {
    "execution": {
     "iopub.execute_input": "2021-05-03T20:58:17.790187Z",
     "iopub.status.busy": "2021-05-03T20:58:17.789848Z",
     "iopub.status.idle": "2021-05-03T20:58:17.800058Z",
     "shell.execute_reply": "2021-05-03T20:58:17.799786Z"
    }
   },
   "outputs": [
    {
     "data": {
      "text/plain": [
       "<gdspy.library.Cell at 0x7f5779f046a8>"
      ]
     },
     "execution_count": 1,
     "metadata": {},
     "output_type": "execute_result"
    }
   ],
   "source": [
    "# Reset the gdspy library.\n",
    "# This could be useful if re-running the notebook without restarting the kernel.\n",
    "gdspy.current_library = gdspy.GdsLibrary()\n",
    "lib = gdspy.GdsLibrary()\n",
    "\n",
    "# Geometry must be placed in GDS cells to import into Tidy3D\n",
    "coup_cell = lib.new_cell('Coupler')\n",
    "\n",
    "def make_coupler(\n",
    "    length, \n",
    "    wg_spacing_in,\n",
    "    wg_width,\n",
    "    wg_spacing_coup,\n",
    "    coup_length,\n",
    "    bend_length,\n",
    "    npts_bend=30):\n",
    "    \"\"\" Make an integrated coupler using the gdspy FlexPath object. \"\"\"\n",
    "    # Compute one arm of the coupler\n",
    "    arm_width = (wg_spacing_in - wg_width - wg_spacing_coup)/2\n",
    "    arm = arm_pts(length, arm_width, coup_length, bend_length, npts_bend)\n",
    "    # Reflect and offset bottom arm\n",
    "    coup_bot = np.copy(arm)\n",
    "    coup_bot[:, 1] = -coup_bot[::-1, 1] - wg_width/2 - wg_spacing_coup/2\n",
    "    # Offset top arm\n",
    "    coup_top = np.copy(arm)\n",
    "    coup_top[:, 1] += wg_width/2 + wg_spacing_coup/2\n",
    "    \n",
    "    # Create waveguides as GDS paths\n",
    "    path_bot = gdspy.FlexPath(coup_bot, wg_width)\n",
    "    path_top = gdspy.FlexPath(coup_top, wg_width)\n",
    "    \n",
    "    return [path_bot, path_top]\n",
    "\n",
    "# Add the coupler to a gdspy cell\n",
    "gds_coup = make_coupler(\n",
    "    device_length,\n",
    "    wg_spacing_in,\n",
    "    wg_width,\n",
    "    wg_spacing_coup,\n",
    "    coup_length,\n",
    "    bend_length)\n",
    "\n",
    "coup_cell.add(gds_coup);\n",
    "\n",
    "# Uncomment to display the cell using the internal gdspy viewer\n",
    "# gdspy.LayoutViewer(lib)"
   ]
  },
  {
   "cell_type": "markdown",
   "metadata": {},
   "source": [
    "We can now add this device to a Tidy3D simulation and see what we have created. We will not do a full run here, so we will not add sources and monitors - for now we will just illustrate how to add the structure. We make a silicon waveguide on an oxide substrate, and we also define a height of 220nm for the waveguide."
   ]
  },
  {
   "cell_type": "code",
   "execution_count": 5,
   "metadata": {
    "execution": {
     "iopub.execute_input": "2021-05-03T20:58:17.803120Z",
     "iopub.status.busy": "2021-05-03T20:58:17.802785Z",
     "iopub.status.idle": "2021-05-03T20:58:17.815056Z",
     "shell.execute_reply": "2021-05-03T20:58:17.814725Z"
    }
   },
   "outputs": [],
   "source": [
    "# Waveguide height\n",
    "wg_height = 0.22\n",
    "\n",
    "# Permittivity of waveguide and substrate\n",
    "wg_eps = 3.48**2\n",
    "sub_eps = 1.45**2\n",
    "mat_wg = td.Medium(epsilon=wg_eps)\n",
    "mat_sub = td.Medium(epsilon=sub_eps)\n",
    "\n",
    "# Substrate\n",
    "substrate = td.Box(\n",
    "    center=[0, 0, -5],\n",
    "    size=[td.inf, td.inf, 10],\n",
    "    material=mat_sub)\n",
    "\n",
    "# Waveguide\n",
    "coupler = td.GdsSlab(\n",
    "    coup_cell,\n",
    "    z_cent=wg_height/2,\n",
    "    z_size=wg_height,\n",
    "    material=mat_wg)\n",
    "\n",
    "# Simulation size along propagation direction\n",
    "sim_length = 2*bend_length + coup_length\n",
    "# Spacing between waveguides and PML\n",
    "pml_spacing = 1\n",
    "sim_size = [\n",
    "    sim_length,\n",
    "    wg_spacing_in + wg_width + 2*pml_spacing,\n",
    "    wg_height + 2*pml_spacing]\n",
    "\n",
    "# Mesh step in all directions\n",
    "mesh_step = 0.020"
   ]
  },
  {
   "cell_type": "code",
   "execution_count": 6,
   "metadata": {
    "execution": {
     "iopub.execute_input": "2021-05-03T20:58:17.817865Z",
     "iopub.status.busy": "2021-05-03T20:58:17.817531Z",
     "iopub.status.idle": "2021-05-03T20:58:19.196696Z",
     "shell.execute_reply": "2021-05-03T20:58:19.196352Z"
    }
   },
   "outputs": [
    {
     "name": "stdout",
     "output_type": "stream",
     "text": [
      "Initializing simulation...\n",
      "Mesh step (micron): [2.00e-02, 2.00e-02, 2.00e-02].\n",
      "Simulation domain in number of grid points: [1924, 946, 135].\n",
      "Total number of grid points: 2.46e+08.\n",
      "Total number of time steps: 0.\n"
     ]
    },
    {
     "name": "stderr",
     "output_type": "stream",
     "text": [
      "WARNING: run_time = 0.00e+00 smaller than a single simulation time step dt = 3.47e-17.\n"
     ]
    },
    {
     "data": {
      "image/png": "[encoded data removed]",
      "text/plain": [
       "<Figure size 1008x288 with 2 Axes>"
      ]
     },
     "metadata": {
      "needs_background": "light"
     },
     "output_type": "display_data"
    }
   ],
   "source": [
    "### Initialize and visualize simulation ###\n",
    "sim = td.Simulation(\n",
    "    size=sim_size,\n",
    "    mesh_step=mesh_step, \n",
    "    structures=[substrate, coupler],\n",
    "    pml_layers=[12, 12, 12])\n",
    "\n",
    "fig, (ax1, ax2) = plt.subplots(1, 2, figsize=(14, 4))\n",
    "sim.viz_mat_2D(normal='z', ax=ax1, source_alpha=1, monitor_alpha=1);\n",
    "sim.viz_mat_2D(normal='x', ax=ax2, source_alpha=1, monitor_alpha=1);\n",
    "ax2.set_xlim([-3, 3])\n",
    "plt.show()"
   ]
  },
  {
   "cell_type": "markdown",
   "metadata": {},
   "source": [
    "Finally, we will also save the GDS file for future use in one of our tutorials. There, we will see how to import structures from an existing file, and we will analyze the frequency-dependent properties of the integrated beam splitter."
   ]
  },
  {
   "cell_type": "code",
   "execution_count": 7,
   "metadata": {
    "execution": {
     "iopub.execute_input": "2021-05-03T20:58:19.198920Z",
     "iopub.status.busy": "2021-05-03T20:58:19.198603Z",
     "iopub.status.idle": "2021-05-03T20:58:19.207370Z",
     "shell.execute_reply": "2021-05-03T20:58:19.207014Z"
    }
   },
   "outputs": [],
   "source": [
    "lib.write_gds('data/coupler.gds')"
   ]
  }
 ],
 "metadata": {
  "kernelspec": {
   "display_name": "Python 3",
   "language": "python",
   "name": "python3"
  },
  "language_info": {
   "codemirror_mode": {
    "name": "ipython",
    "version": 3
   },
   "file_extension": ".py",
   "mimetype": "text/x-python",
   "name": "python",
   "nbconvert_exporter": "python",
   "pygments_lexer": "ipython3",
   "version": "3.6.13"
  }
 },
 "nbformat": 4,
 "nbformat_minor": 4
}
