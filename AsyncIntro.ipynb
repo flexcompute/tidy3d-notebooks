{
 "cells": [
  {
   "cell_type": "code",
   "execution_count": 1,
   "id": "9c0c4c64-6a28-4fdb-b6f6-5f7b50543ed6",
   "metadata": {},
   "outputs": [
    {
     "name": "stdout",
     "output_type": "stream",
     "text": [
      "One\n",
      "One\n",
      "One\n",
      "Two\n",
      "Two\n",
      "Two\n",
      "executed in 1.00 seconds.\n"
     ]
    }
   ],
   "source": [
    "import asyncio\n",
    "\n",
    "async def count():\n",
    "    print(\"One\")\n",
    "    await asyncio.sleep(1)\n",
    "    print(\"Two\")\n",
    "\n",
    "async def main():\n",
    "    await asyncio.gather(count(), count(), count())\n",
    "\n",
    "\n",
    "import time\n",
    "s = time.perf_counter()\n",
    "await main()\n",
    "elapsed = time.perf_counter() - s\n",
    "print(f\"executed in {elapsed:0.2f} seconds.\")"
   ]
  },
  {
   "cell_type": "code",
   "execution_count": 2,
   "id": "1f3b69cc-769c-4646-983c-215bd0ac330f",
   "metadata": {},
   "outputs": [],
   "source": [
    "# import the tidy3d package and configure it with your API key\n",
    "import numpy as np\n",
    "import tidy3d as td\n",
    "import tidy3d.web as web\n",
    "# web.configure(\"YOUR API KEY\") # if authentication needed, uncomment this line and paste your API key here\n",
    "\n",
    "# set up global parameters of simulation ( speed of light / wavelength in micron )\n",
    "freq0 = td.C_0 / 0.75\n",
    "\n",
    "# create structure - a box centered at 0, 0, 0 with a size of 1.5 micron and permittivity of 2\n",
    "square = td.Structure(\n",
    "    geometry=td.Box(center=(0, 0, 0), size=(1.5, 1.5, 1.5)),\n",
    "    medium=td.Medium(permittivity=2.0)\n",
    ")\n",
    "\n",
    "# create source - A point dipole source with frequency freq0 on the left side of the domain\n",
    "source = td.PointDipole(\n",
    "    center=(-1.5, 0, 0),\n",
    "    source_time=td.GaussianPulse(freq0=freq0, fwidth=freq0 / 10.0),\n",
    "    polarization=\"Ey\",\n",
    ")\n",
    "\n",
    "# create monitor - Measures electromagnetic fields within the entire domain at z=0\n",
    "monitor = td.FieldMonitor(\n",
    "    size=(td.inf, td.inf, 0),\n",
    "    freqs=[freq0],\n",
    "    name=\"fields\",\n",
    "    colocate=True,\n",
    ")"
   ]
  },
  {
   "cell_type": "markdown",
   "id": "41f9e5a1-0197-41cc-a76e-9c47142edfe0",
   "metadata": {},
   "source": [
    "Let's make a list of simulations with different variations:"
   ]
  },
  {
   "cell_type": "code",
   "execution_count": 3,
   "id": "0fa96c3d-3aba-4126-9397-9ed95f816c40",
   "metadata": {},
   "outputs": [
    {
     "name": "stdout",
     "output_type": "stream",
     "text": [
      "simulation grid is shaped [179, 147, 147] for 3 million cells.\n"
     ]
    }
   ],
   "source": [
    "simulations = list()\n",
    "for wavelength_step_i in [15, 20, 25]:\n",
    "    # Initialize simulation - Combine all objects together into a single specification to run\n",
    "    sim = td.Simulation(\n",
    "        size=(4, 3, 3),\n",
    "        grid_spec=td.GridSpec.auto(min_steps_per_wvl=wavelength_step_i),\n",
    "        structures=[square],\n",
    "        sources=[source],\n",
    "        monitors=[monitor],\n",
    "        run_time=120/freq0,\n",
    "    )\n",
    "    simulations.append(sim)\n",
    "\n",
    "print(f\"simulation grid is shaped {sim.grid.num_cells} for {int(np.prod(sim.grid.num_cells)/1e6)} million cells.\")"
   ]
  },
  {
   "cell_type": "markdown",
   "id": "32156743-7d5d-46b6-bc31-a53e9d851d2b",
   "metadata": {},
   "source": [
    "## Deploying Simulations Synchronously"
   ]
  },
  {
   "cell_type": "markdown",
   "id": "5d517ca5-ed56-4af5-a046-a85d7b8b2254",
   "metadata": {},
   "source": [
    "If we wanted to run things synchronously, we can just iterate over a `web.run` command:"
   ]
  },
  {
   "cell_type": "raw",
   "id": "62fe3e6f-c968-4707-b7b3-8da234b213ed",
   "metadata": {},
   "source": [
    "# run simulation through the cloud and plot the field data computed by the solver and stored in the monitor\n",
    "for simulation_i in simulations:\n",
    "    data = td.web.run(simulation_i, task_name=\"quickstart\", path=\"data/data.hdf5\", verbose=True)\n",
    "    ax = data.plot_field(\"fields\", \"Ey\", z=0)"
   ]
  },
  {
   "cell_type": "markdown",
   "id": "5bbcfa23-4d0f-456d-bfa2-3563eb3b18e1",
   "metadata": {},
   "source": [
    "We can also create a batch:"
   ]
  },
  {
   "cell_type": "code",
   "execution_count": 4,
   "id": "911cc33d-76af-49b4-8f80-a55ccd5aefaa",
   "metadata": {},
   "outputs": [],
   "source": [
    "# TODO"
   ]
  },
  {
   "cell_type": "markdown",
   "id": "ff9e095e-c83e-451b-abd1-aa3493de990d",
   "metadata": {},
   "source": [
    "## Deploying Simulations Asynchronously"
   ]
  },
  {
   "cell_type": "markdown",
   "id": "cba5f49f-832f-4a03-a117-cec1ae268b79",
   "metadata": {},
   "source": [
    "Now, let's explore multiple ways of running this simulation asynchronously:"
   ]
  },
  {
   "cell_type": "code",
   "execution_count": 5,
   "id": "057cd6f3-1b53-4301-afba-849f7b886c34",
   "metadata": {},
   "outputs": [],
   "source": [
    "from tidy3d.web.api.asynchronous import run"
   ]
  },
  {
   "cell_type": "code",
   "execution_count": 6,
   "id": "bba3993d-1766-437b-b342-24d42bbd1a39",
   "metadata": {},
   "outputs": [
    {
     "data": {
      "text/plain": [
       "[<coroutine object run at 0x7aa7e6a805f0>,\n",
       " <coroutine object run at 0x7aa7e6a80660>,\n",
       " <coroutine object run at 0x7aa7e6a80740>]"
      ]
     },
     "execution_count": 6,
     "metadata": {},
     "output_type": "execute_result"
    }
   ],
   "source": [
    "[run(simulation_i, task_name=\"quickstart\", path=\"data/data.hdf5\", verbose=True) for simulation_i in simulations]"
   ]
  },
  {
   "cell_type": "code",
   "execution_count": 7,
   "id": "db0df604-03f3-468a-865a-35958c416580",
   "metadata": {},
   "outputs": [
    {
     "data": {
      "text/html": [
       "<pre style=\"white-space:pre;overflow-x:auto;line-height:normal;font-family:Menlo,'DejaVu Sans Mono',consolas,'Courier New',monospace\"><span style=\"color: #7fbfbf; text-decoration-color: #7fbfbf\">12:39:59 CEST </span>Created task <span style=\"color: #008000; text-decoration-color: #008000\">'quickstart'</span> with task_id                            \n",
       "<span style=\"color: #7fbfbf; text-decoration-color: #7fbfbf\">              </span><span style=\"color: #008000; text-decoration-color: #008000\">'fdve-f4af29a5-1a3a-4626-b0bc-10e5c95f6213'</span> and task_type <span style=\"color: #008000; text-decoration-color: #008000\">'FDTD'</span>. \n",
       "</pre>\n"
      ],
      "text/plain": [
       "\u001b[2;36m12:39:59 CEST\u001b[0m\u001b[2;36m \u001b[0mCreated task \u001b[32m'quickstart'\u001b[0m with task_id                            \n",
       "\u001b[2;36m              \u001b[0m\u001b[32m'fdve-f4af29a5-1a3a-4626-b0bc-10e5c95f6213'\u001b[0m and task_type \u001b[32m'FDTD'\u001b[0m. \n"
      ]
     },
     "metadata": {},
     "output_type": "display_data"
    },
    {
     "data": {
      "text/html": [
       "<pre style=\"white-space:pre;overflow-x:auto;line-height:normal;font-family:Menlo,'DejaVu Sans Mono',consolas,'Courier New',monospace\"><span style=\"color: #7fbfbf; text-decoration-color: #7fbfbf\">              </span>View task using web UI at                                         \n",
       "<span style=\"color: #7fbfbf; text-decoration-color: #7fbfbf\">              </span><a href=\"https://tidy3d.simulation.cloud/workbench?taskId=fdve-f4af29a5-1a3a-4626-b0bc-10e5c95f6213\" target=\"_blank\"><span style=\"color: #008000; text-decoration-color: #008000\">'https://tidy3d.simulation.cloud/workbench?taskId=fdve-f4af29a5-1a</span></a>\n",
       "<span style=\"color: #7fbfbf; text-decoration-color: #7fbfbf\">              </span><a href=\"https://tidy3d.simulation.cloud/workbench?taskId=fdve-f4af29a5-1a3a-4626-b0bc-10e5c95f6213\" target=\"_blank\"><span style=\"color: #008000; text-decoration-color: #008000\">3a-4626-b0bc-10e5c95f6213'</span></a>.                                       \n",
       "</pre>\n"
      ],
      "text/plain": [
       "\u001b[2;36m             \u001b[0m\u001b[2;36m \u001b[0mView task using web UI at                                         \n",
       "\u001b[2;36m              \u001b[0m\u001b]8;id=69604;https://tidy3d.simulation.cloud/workbench?taskId=fdve-f4af29a5-1a3a-4626-b0bc-10e5c95f6213\u001b\\\u001b[32m'https://tidy3d.simulation.cloud/workbench?\u001b[0m\u001b]8;;\u001b\\\u001b]8;id=514624;https://tidy3d.simulation.cloud/workbench?taskId=fdve-f4af29a5-1a3a-4626-b0bc-10e5c95f6213\u001b\\\u001b[32mtaskId\u001b[0m\u001b]8;;\u001b\\\u001b]8;id=69604;https://tidy3d.simulation.cloud/workbench?taskId=fdve-f4af29a5-1a3a-4626-b0bc-10e5c95f6213\u001b\\\u001b[32m=\u001b[0m\u001b]8;;\u001b\\\u001b]8;id=534519;https://tidy3d.simulation.cloud/workbench?taskId=fdve-f4af29a5-1a3a-4626-b0bc-10e5c95f6213\u001b\\\u001b[32mfdve\u001b[0m\u001b]8;;\u001b\\\u001b]8;id=69604;https://tidy3d.simulation.cloud/workbench?taskId=fdve-f4af29a5-1a3a-4626-b0bc-10e5c95f6213\u001b\\\u001b[32m-f4af29a5-1a\u001b[0m\u001b]8;;\u001b\\\n",
       "\u001b[2;36m              \u001b[0m\u001b]8;id=69604;https://tidy3d.simulation.cloud/workbench?taskId=fdve-f4af29a5-1a3a-4626-b0bc-10e5c95f6213\u001b\\\u001b[32m3a-4626-b0bc-10e5c95f6213'\u001b[0m\u001b]8;;\u001b\\.                                       \n"
      ]
     },
     "metadata": {},
     "output_type": "display_data"
    },
    {
     "data": {
      "application/vnd.jupyter.widget-view+json": {
       "model_id": "1ad8f6735661446abaf20002beb55e47",
       "version_major": 2,
       "version_minor": 0
      },
      "text/plain": [
       "Output()"
      ]
     },
     "metadata": {},
     "output_type": "display_data"
    },
    {
     "data": {
      "text/html": [
       "<pre style=\"white-space:pre;overflow-x:auto;line-height:normal;font-family:Menlo,'DejaVu Sans Mono',consolas,'Courier New',monospace\"></pre>\n"
      ],
      "text/plain": []
     },
     "metadata": {},
     "output_type": "display_data"
    },
    {
     "data": {
      "text/html": [
       "<pre style=\"white-space:pre;overflow-x:auto;line-height:normal;font-family:Menlo,'DejaVu Sans Mono',consolas,'Courier New',monospace\">\n",
       "</pre>\n"
      ],
      "text/plain": [
       "\n"
      ]
     },
     "metadata": {},
     "output_type": "display_data"
    },
    {
     "data": {
      "text/html": [
       "<pre style=\"white-space:pre;overflow-x:auto;line-height:normal;font-family:Menlo,'DejaVu Sans Mono',consolas,'Courier New',monospace\"><span style=\"color: #7fbfbf; text-decoration-color: #7fbfbf\">12:40:03 CEST </span>Unable to download <span style=\"color: #008000; text-decoration-color: #008000\">'output/simulation_data.hdf5.gz'</span>.              \n",
       "</pre>\n"
      ],
      "text/plain": [
       "\u001b[2;36m12:40:03 CEST\u001b[0m\u001b[2;36m \u001b[0mUnable to download \u001b[32m'output/simulation_data.hdf5.gz'\u001b[0m.              \n"
      ]
     },
     "metadata": {},
     "output_type": "display_data"
    },
    {
     "data": {
      "text/html": [
       "<pre style=\"white-space:pre;overflow-x:auto;line-height:normal;font-family:Menlo,'DejaVu Sans Mono',consolas,'Courier New',monospace\"><span style=\"color: #7fbfbf; text-decoration-color: #7fbfbf\">12:40:04 CEST </span><span style=\"color: #800000; text-decoration-color: #800000; font-weight: bold\">ERROR: Failed to download the simulation data file from the       </span>\n",
       "<span style=\"color: #7fbfbf; text-decoration-color: #7fbfbf\">              </span><span style=\"color: #800000; text-decoration-color: #800000; font-weight: bold\">server. Please confirm that the task was successfully run.        </span>\n",
       "</pre>\n"
      ],
      "text/plain": [
       "\u001b[2;36m12:40:04 CEST\u001b[0m\u001b[2;36m \u001b[0m\u001b[1;31mERROR: Failed to download the simulation data file from the       \u001b[0m\n",
       "\u001b[2;36m              \u001b[0m\u001b[1;31mserver. Please confirm that the task was successfully run.        \u001b[0m\n"
      ]
     },
     "metadata": {},
     "output_type": "display_data"
    },
    {
     "data": {
      "text/html": [
       "<pre style=\"white-space:pre;overflow-x:auto;line-height:normal;font-family:Menlo,'DejaVu Sans Mono',consolas,'Courier New',monospace\"><span style=\"color: #7fbfbf; text-decoration-color: #7fbfbf\">12:40:05 CEST </span>Created task <span style=\"color: #008000; text-decoration-color: #008000\">'quickstart'</span> with task_id                            \n",
       "<span style=\"color: #7fbfbf; text-decoration-color: #7fbfbf\">              </span><span style=\"color: #008000; text-decoration-color: #008000\">'fdve-38ae5a34-4a60-44da-ab34-5971eb3c565e'</span> and task_type <span style=\"color: #008000; text-decoration-color: #008000\">'FDTD'</span>. \n",
       "</pre>\n"
      ],
      "text/plain": [
       "\u001b[2;36m12:40:05 CEST\u001b[0m\u001b[2;36m \u001b[0mCreated task \u001b[32m'quickstart'\u001b[0m with task_id                            \n",
       "\u001b[2;36m              \u001b[0m\u001b[32m'fdve-38ae5a34-4a60-44da-ab34-5971eb3c565e'\u001b[0m and task_type \u001b[32m'FDTD'\u001b[0m. \n"
      ]
     },
     "metadata": {},
     "output_type": "display_data"
    },
    {
     "data": {
      "text/html": [
       "<pre style=\"white-space:pre;overflow-x:auto;line-height:normal;font-family:Menlo,'DejaVu Sans Mono',consolas,'Courier New',monospace\"><span style=\"color: #7fbfbf; text-decoration-color: #7fbfbf\">              </span>View task using web UI at                                         \n",
       "<span style=\"color: #7fbfbf; text-decoration-color: #7fbfbf\">              </span><a href=\"https://tidy3d.simulation.cloud/workbench?taskId=fdve-38ae5a34-4a60-44da-ab34-5971eb3c565e\" target=\"_blank\"><span style=\"color: #008000; text-decoration-color: #008000\">'https://tidy3d.simulation.cloud/workbench?taskId=fdve-38ae5a34-4a</span></a>\n",
       "<span style=\"color: #7fbfbf; text-decoration-color: #7fbfbf\">              </span><a href=\"https://tidy3d.simulation.cloud/workbench?taskId=fdve-38ae5a34-4a60-44da-ab34-5971eb3c565e\" target=\"_blank\"><span style=\"color: #008000; text-decoration-color: #008000\">60-44da-ab34-5971eb3c565e'</span></a>.                                       \n",
       "</pre>\n"
      ],
      "text/plain": [
       "\u001b[2;36m             \u001b[0m\u001b[2;36m \u001b[0mView task using web UI at                                         \n",
       "\u001b[2;36m              \u001b[0m\u001b]8;id=320327;https://tidy3d.simulation.cloud/workbench?taskId=fdve-38ae5a34-4a60-44da-ab34-5971eb3c565e\u001b\\\u001b[32m'https://tidy3d.simulation.cloud/workbench?\u001b[0m\u001b]8;;\u001b\\\u001b]8;id=409382;https://tidy3d.simulation.cloud/workbench?taskId=fdve-38ae5a34-4a60-44da-ab34-5971eb3c565e\u001b\\\u001b[32mtaskId\u001b[0m\u001b]8;;\u001b\\\u001b]8;id=320327;https://tidy3d.simulation.cloud/workbench?taskId=fdve-38ae5a34-4a60-44da-ab34-5971eb3c565e\u001b\\\u001b[32m=\u001b[0m\u001b]8;;\u001b\\\u001b]8;id=952391;https://tidy3d.simulation.cloud/workbench?taskId=fdve-38ae5a34-4a60-44da-ab34-5971eb3c565e\u001b\\\u001b[32mfdve\u001b[0m\u001b]8;;\u001b\\\u001b]8;id=320327;https://tidy3d.simulation.cloud/workbench?taskId=fdve-38ae5a34-4a60-44da-ab34-5971eb3c565e\u001b\\\u001b[32m-38ae5a34-4a\u001b[0m\u001b]8;;\u001b\\\n",
       "\u001b[2;36m              \u001b[0m\u001b]8;id=320327;https://tidy3d.simulation.cloud/workbench?taskId=fdve-38ae5a34-4a60-44da-ab34-5971eb3c565e\u001b\\\u001b[32m60-44da-ab34-5971eb3c565e'\u001b[0m\u001b]8;;\u001b\\.                                       \n"
      ]
     },
     "metadata": {},
     "output_type": "display_data"
    },
    {
     "data": {
      "application/vnd.jupyter.widget-view+json": {
       "model_id": "b8c1960af0374aee9b4468685d102c77",
       "version_major": 2,
       "version_minor": 0
      },
      "text/plain": [
       "Output()"
      ]
     },
     "metadata": {},
     "output_type": "display_data"
    },
    {
     "data": {
      "text/html": [
       "<pre style=\"white-space:pre;overflow-x:auto;line-height:normal;font-family:Menlo,'DejaVu Sans Mono',consolas,'Courier New',monospace\"></pre>\n"
      ],
      "text/plain": []
     },
     "metadata": {},
     "output_type": "display_data"
    },
    {
     "data": {
      "text/html": [
       "<pre style=\"white-space:pre;overflow-x:auto;line-height:normal;font-family:Menlo,'DejaVu Sans Mono',consolas,'Courier New',monospace\">\n",
       "</pre>\n"
      ],
      "text/plain": [
       "\n"
      ]
     },
     "metadata": {},
     "output_type": "display_data"
    },
    {
     "data": {
      "text/html": [
       "<pre style=\"white-space:pre;overflow-x:auto;line-height:normal;font-family:Menlo,'DejaVu Sans Mono',consolas,'Courier New',monospace\"><span style=\"color: #7fbfbf; text-decoration-color: #7fbfbf\">12:40:08 CEST </span>Unable to download <span style=\"color: #008000; text-decoration-color: #008000\">'output/simulation_data.hdf5.gz'</span>.              \n",
       "</pre>\n"
      ],
      "text/plain": [
       "\u001b[2;36m12:40:08 CEST\u001b[0m\u001b[2;36m \u001b[0mUnable to download \u001b[32m'output/simulation_data.hdf5.gz'\u001b[0m.              \n"
      ]
     },
     "metadata": {},
     "output_type": "display_data"
    },
    {
     "data": {
      "text/html": [
       "<pre style=\"white-space:pre;overflow-x:auto;line-height:normal;font-family:Menlo,'DejaVu Sans Mono',consolas,'Courier New',monospace\"><span style=\"color: #7fbfbf; text-decoration-color: #7fbfbf\">12:40:09 CEST </span><span style=\"color: #800000; text-decoration-color: #800000; font-weight: bold\">ERROR: Failed to download the simulation data file from the       </span>\n",
       "<span style=\"color: #7fbfbf; text-decoration-color: #7fbfbf\">              </span><span style=\"color: #800000; text-decoration-color: #800000; font-weight: bold\">server. Please confirm that the task was successfully run.        </span>\n",
       "</pre>\n"
      ],
      "text/plain": [
       "\u001b[2;36m12:40:09 CEST\u001b[0m\u001b[2;36m \u001b[0m\u001b[1;31mERROR: Failed to download the simulation data file from the       \u001b[0m\n",
       "\u001b[2;36m              \u001b[0m\u001b[1;31mserver. Please confirm that the task was successfully run.        \u001b[0m\n"
      ]
     },
     "metadata": {},
     "output_type": "display_data"
    },
    {
     "data": {
      "text/html": [
       "<pre style=\"white-space:pre;overflow-x:auto;line-height:normal;font-family:Menlo,'DejaVu Sans Mono',consolas,'Courier New',monospace\"><span style=\"color: #7fbfbf; text-decoration-color: #7fbfbf\">              </span>Created task <span style=\"color: #008000; text-decoration-color: #008000\">'quickstart'</span> with task_id                            \n",
       "<span style=\"color: #7fbfbf; text-decoration-color: #7fbfbf\">              </span><span style=\"color: #008000; text-decoration-color: #008000\">'fdve-79afde5a-e15b-462f-ae67-1f69dc6e7276'</span> and task_type <span style=\"color: #008000; text-decoration-color: #008000\">'FDTD'</span>. \n",
       "</pre>\n"
      ],
      "text/plain": [
       "\u001b[2;36m             \u001b[0m\u001b[2;36m \u001b[0mCreated task \u001b[32m'quickstart'\u001b[0m with task_id                            \n",
       "\u001b[2;36m              \u001b[0m\u001b[32m'fdve-79afde5a-e15b-462f-ae67-1f69dc6e7276'\u001b[0m and task_type \u001b[32m'FDTD'\u001b[0m. \n"
      ]
     },
     "metadata": {},
     "output_type": "display_data"
    },
    {
     "data": {
      "text/html": [
       "<pre style=\"white-space:pre;overflow-x:auto;line-height:normal;font-family:Menlo,'DejaVu Sans Mono',consolas,'Courier New',monospace\"><span style=\"color: #7fbfbf; text-decoration-color: #7fbfbf\">              </span>View task using web UI at                                         \n",
       "<span style=\"color: #7fbfbf; text-decoration-color: #7fbfbf\">              </span><a href=\"https://tidy3d.simulation.cloud/workbench?taskId=fdve-79afde5a-e15b-462f-ae67-1f69dc6e7276\" target=\"_blank\"><span style=\"color: #008000; text-decoration-color: #008000\">'https://tidy3d.simulation.cloud/workbench?taskId=fdve-79afde5a-e1</span></a>\n",
       "<span style=\"color: #7fbfbf; text-decoration-color: #7fbfbf\">              </span><a href=\"https://tidy3d.simulation.cloud/workbench?taskId=fdve-79afde5a-e15b-462f-ae67-1f69dc6e7276\" target=\"_blank\"><span style=\"color: #008000; text-decoration-color: #008000\">5b-462f-ae67-1f69dc6e7276'</span></a>.                                       \n",
       "</pre>\n"
      ],
      "text/plain": [
       "\u001b[2;36m             \u001b[0m\u001b[2;36m \u001b[0mView task using web UI at                                         \n",
       "\u001b[2;36m              \u001b[0m\u001b]8;id=958173;https://tidy3d.simulation.cloud/workbench?taskId=fdve-79afde5a-e15b-462f-ae67-1f69dc6e7276\u001b\\\u001b[32m'https://tidy3d.simulation.cloud/workbench?\u001b[0m\u001b]8;;\u001b\\\u001b]8;id=158876;https://tidy3d.simulation.cloud/workbench?taskId=fdve-79afde5a-e15b-462f-ae67-1f69dc6e7276\u001b\\\u001b[32mtaskId\u001b[0m\u001b]8;;\u001b\\\u001b]8;id=958173;https://tidy3d.simulation.cloud/workbench?taskId=fdve-79afde5a-e15b-462f-ae67-1f69dc6e7276\u001b\\\u001b[32m=\u001b[0m\u001b]8;;\u001b\\\u001b]8;id=840917;https://tidy3d.simulation.cloud/workbench?taskId=fdve-79afde5a-e15b-462f-ae67-1f69dc6e7276\u001b\\\u001b[32mfdve\u001b[0m\u001b]8;;\u001b\\\u001b]8;id=958173;https://tidy3d.simulation.cloud/workbench?taskId=fdve-79afde5a-e15b-462f-ae67-1f69dc6e7276\u001b\\\u001b[32m-79afde5a-e1\u001b[0m\u001b]8;;\u001b\\\n",
       "\u001b[2;36m              \u001b[0m\u001b]8;id=958173;https://tidy3d.simulation.cloud/workbench?taskId=fdve-79afde5a-e15b-462f-ae67-1f69dc6e7276\u001b\\\u001b[32m5b-462f-ae67-1f69dc6e7276'\u001b[0m\u001b]8;;\u001b\\.                                       \n"
      ]
     },
     "metadata": {},
     "output_type": "display_data"
    },
    {
     "data": {
      "application/vnd.jupyter.widget-view+json": {
       "model_id": "1f55c2f666944b289d51cf3e2693cb2a",
       "version_major": 2,
       "version_minor": 0
      },
      "text/plain": [
       "Output()"
      ]
     },
     "metadata": {},
     "output_type": "display_data"
    },
    {
     "data": {
      "text/html": [
       "<pre style=\"white-space:pre;overflow-x:auto;line-height:normal;font-family:Menlo,'DejaVu Sans Mono',consolas,'Courier New',monospace\"></pre>\n"
      ],
      "text/plain": []
     },
     "metadata": {},
     "output_type": "display_data"
    },
    {
     "data": {
      "text/html": [
       "<pre style=\"white-space:pre;overflow-x:auto;line-height:normal;font-family:Menlo,'DejaVu Sans Mono',consolas,'Courier New',monospace\">\n",
       "</pre>\n"
      ],
      "text/plain": [
       "\n"
      ]
     },
     "metadata": {},
     "output_type": "display_data"
    },
    {
     "data": {
      "text/html": [
       "<pre style=\"white-space:pre;overflow-x:auto;line-height:normal;font-family:Menlo,'DejaVu Sans Mono',consolas,'Courier New',monospace\"><span style=\"color: #7fbfbf; text-decoration-color: #7fbfbf\">12:40:13 CEST </span>Unable to download <span style=\"color: #008000; text-decoration-color: #008000\">'output/simulation_data.hdf5.gz'</span>.              \n",
       "</pre>\n"
      ],
      "text/plain": [
       "\u001b[2;36m12:40:13 CEST\u001b[0m\u001b[2;36m \u001b[0mUnable to download \u001b[32m'output/simulation_data.hdf5.gz'\u001b[0m.              \n"
      ]
     },
     "metadata": {},
     "output_type": "display_data"
    },
    {
     "data": {
      "text/html": [
       "<pre style=\"white-space:pre;overflow-x:auto;line-height:normal;font-family:Menlo,'DejaVu Sans Mono',consolas,'Courier New',monospace\"><span style=\"color: #7fbfbf; text-decoration-color: #7fbfbf\">12:40:14 CEST </span><span style=\"color: #800000; text-decoration-color: #800000; font-weight: bold\">ERROR: Failed to download the simulation data file from the       </span>\n",
       "<span style=\"color: #7fbfbf; text-decoration-color: #7fbfbf\">              </span><span style=\"color: #800000; text-decoration-color: #800000; font-weight: bold\">server. Please confirm that the task was successfully run.        </span>\n",
       "</pre>\n"
      ],
      "text/plain": [
       "\u001b[2;36m12:40:14 CEST\u001b[0m\u001b[2;36m \u001b[0m\u001b[1;31mERROR: Failed to download the simulation data file from the       \u001b[0m\n",
       "\u001b[2;36m              \u001b[0m\u001b[1;31mserver. Please confirm that the task was successfully run.        \u001b[0m\n"
      ]
     },
     "metadata": {},
     "output_type": "display_data"
    },
    {
     "ename": "WebError",
     "evalue": "Failed to download the simulation data file from the server. Please confirm that the task was successfully run.",
     "output_type": "error",
     "traceback": [
      "\u001b[0;31m---------------------------------------------------------------------------\u001b[0m",
      "\u001b[0;31mClientError\u001b[0m                               Traceback (most recent call last)",
      "File \u001b[0;32m~/flexcompute/tidy3d/tidy3d/web/core/task_core.py:493\u001b[0m, in \u001b[0;36mSimulationTask.get_sim_data_hdf5\u001b[0;34m(self, to_file, verbose, progress_callback)\u001b[0m\n\u001b[1;32m    492\u001b[0m \u001b[38;5;28;01mtry\u001b[39;00m:\n\u001b[0;32m--> 493\u001b[0m     file \u001b[38;5;241m=\u001b[39m \u001b[43mdownload_file\u001b[49m\u001b[43m(\u001b[49m\n\u001b[1;32m    494\u001b[0m \u001b[43m        \u001b[49m\u001b[43mresource_id\u001b[49m\u001b[38;5;241;43m=\u001b[39;49m\u001b[38;5;28;43mself\u001b[39;49m\u001b[38;5;241;43m.\u001b[39;49m\u001b[43mtask_id\u001b[49m\u001b[43m,\u001b[49m\n\u001b[1;32m    495\u001b[0m \u001b[43m        \u001b[49m\u001b[43mremote_filename\u001b[49m\u001b[38;5;241;43m=\u001b[39;49m\u001b[43mSIMULATION_DATA_HDF5\u001b[49m\u001b[43m,\u001b[49m\n\u001b[1;32m    496\u001b[0m \u001b[43m        \u001b[49m\u001b[43mto_file\u001b[49m\u001b[38;5;241;43m=\u001b[39;49m\u001b[43mto_file\u001b[49m\u001b[43m,\u001b[49m\n\u001b[1;32m    497\u001b[0m \u001b[43m        \u001b[49m\u001b[43mverbose\u001b[49m\u001b[38;5;241;43m=\u001b[39;49m\u001b[43mverbose\u001b[49m\u001b[43m,\u001b[49m\n\u001b[1;32m    498\u001b[0m \u001b[43m        \u001b[49m\u001b[43mprogress_callback\u001b[49m\u001b[38;5;241;43m=\u001b[39;49m\u001b[43mprogress_callback\u001b[49m\u001b[43m,\u001b[49m\n\u001b[1;32m    499\u001b[0m \u001b[43m    \u001b[49m\u001b[43m)\u001b[49m\n\u001b[1;32m    500\u001b[0m \u001b[38;5;28;01mexcept\u001b[39;00m \u001b[38;5;167;01mException\u001b[39;00m \u001b[38;5;28;01mas\u001b[39;00m e:\n",
      "File \u001b[0;32m~/flexcompute/tidy3d/tidy3d/web/core/s3utils.py:303\u001b[0m, in \u001b[0;36mdownload_file\u001b[0;34m(resource_id, remote_filename, to_file, verbose, progress_callback)\u001b[0m\n\u001b[1;32m    302\u001b[0m client \u001b[38;5;241m=\u001b[39m token\u001b[38;5;241m.\u001b[39mget_client()\n\u001b[0;32m--> 303\u001b[0m meta_data \u001b[38;5;241m=\u001b[39m \u001b[43mclient\u001b[49m\u001b[38;5;241;43m.\u001b[39;49m\u001b[43mhead_object\u001b[49m\u001b[43m(\u001b[49m\u001b[43mBucket\u001b[49m\u001b[38;5;241;43m=\u001b[39;49m\u001b[43mtoken\u001b[49m\u001b[38;5;241;43m.\u001b[39;49m\u001b[43mget_bucket\u001b[49m\u001b[43m(\u001b[49m\u001b[43m)\u001b[49m\u001b[43m,\u001b[49m\u001b[43m \u001b[49m\u001b[43mKey\u001b[49m\u001b[38;5;241;43m=\u001b[39;49m\u001b[43mtoken\u001b[49m\u001b[38;5;241;43m.\u001b[39;49m\u001b[43mget_s3_key\u001b[49m\u001b[43m(\u001b[49m\u001b[43m)\u001b[49m\u001b[43m)\u001b[49m\n\u001b[1;32m    305\u001b[0m \u001b[38;5;66;03m# Get only last part of the remote file name\u001b[39;00m\n",
      "File \u001b[0;32m~/.pyenv/versions/3.10.13/envs/tidy3d_multiphysics/lib/python3.10/site-packages/botocore/client.py:508\u001b[0m, in \u001b[0;36mClientCreator._create_api_method.<locals>._api_call\u001b[0;34m(self, *args, **kwargs)\u001b[0m\n\u001b[1;32m    507\u001b[0m \u001b[38;5;66;03m# The \"self\" in this scope is referring to the BaseClient.\u001b[39;00m\n\u001b[0;32m--> 508\u001b[0m \u001b[38;5;28;01mreturn\u001b[39;00m \u001b[38;5;28;43mself\u001b[39;49m\u001b[38;5;241;43m.\u001b[39;49m\u001b[43m_make_api_call\u001b[49m\u001b[43m(\u001b[49m\u001b[43moperation_name\u001b[49m\u001b[43m,\u001b[49m\u001b[43m \u001b[49m\u001b[43mkwargs\u001b[49m\u001b[43m)\u001b[49m\n",
      "File \u001b[0;32m~/.pyenv/versions/3.10.13/envs/tidy3d_multiphysics/lib/python3.10/site-packages/botocore/client.py:911\u001b[0m, in \u001b[0;36mBaseClient._make_api_call\u001b[0;34m(self, operation_name, api_params)\u001b[0m\n\u001b[1;32m    910\u001b[0m     error_class \u001b[38;5;241m=\u001b[39m \u001b[38;5;28mself\u001b[39m\u001b[38;5;241m.\u001b[39mexceptions\u001b[38;5;241m.\u001b[39mfrom_code(error_code)\n\u001b[0;32m--> 911\u001b[0m     \u001b[38;5;28;01mraise\u001b[39;00m error_class(parsed_response, operation_name)\n\u001b[1;32m    912\u001b[0m \u001b[38;5;28;01melse\u001b[39;00m:\n",
      "\u001b[0;31mClientError\u001b[0m: An error occurred (404) when calling the HeadObject operation: Not Found",
      "\nThe above exception was the direct cause of the following exception:\n",
      "\u001b[0;31mWebError\u001b[0m                                  Traceback (most recent call last)",
      "Cell \u001b[0;32mIn[7], line 4\u001b[0m\n\u001b[1;32m      1\u001b[0m \u001b[38;5;28;01masync\u001b[39;00m \u001b[38;5;28;01mdef\u001b[39;00m \u001b[38;5;21mmain\u001b[39m():\n\u001b[1;32m      2\u001b[0m     \u001b[38;5;28;01mawait\u001b[39;00m asyncio\u001b[38;5;241m.\u001b[39mgather(\u001b[38;5;241m*\u001b[39m[run(simulation_i, task_name\u001b[38;5;241m=\u001b[39m\u001b[38;5;124m\"\u001b[39m\u001b[38;5;124mquickstart\u001b[39m\u001b[38;5;124m\"\u001b[39m, path\u001b[38;5;241m=\u001b[39m\u001b[38;5;124m\"\u001b[39m\u001b[38;5;124mdata/data.hdf5\u001b[39m\u001b[38;5;124m\"\u001b[39m, verbose\u001b[38;5;241m=\u001b[39m\u001b[38;5;28;01mTrue\u001b[39;00m) \u001b[38;5;28;01mfor\u001b[39;00m simulation_i \u001b[38;5;129;01min\u001b[39;00m simulations])\n\u001b[0;32m----> 4\u001b[0m \u001b[38;5;28;01mawait\u001b[39;00m main()\n",
      "Cell \u001b[0;32mIn[7], line 2\u001b[0m, in \u001b[0;36mmain\u001b[0;34m()\u001b[0m\n\u001b[1;32m      1\u001b[0m \u001b[38;5;28;01masync\u001b[39;00m \u001b[38;5;28;01mdef\u001b[39;00m \u001b[38;5;21mmain\u001b[39m():\n\u001b[0;32m----> 2\u001b[0m     \u001b[38;5;28;01mawait\u001b[39;00m asyncio\u001b[38;5;241m.\u001b[39mgather(\u001b[38;5;241m*\u001b[39m[run(simulation_i, task_name\u001b[38;5;241m=\u001b[39m\u001b[38;5;124m\"\u001b[39m\u001b[38;5;124mquickstart\u001b[39m\u001b[38;5;124m\"\u001b[39m, path\u001b[38;5;241m=\u001b[39m\u001b[38;5;124m\"\u001b[39m\u001b[38;5;124mdata/data.hdf5\u001b[39m\u001b[38;5;124m\"\u001b[39m, verbose\u001b[38;5;241m=\u001b[39m\u001b[38;5;28;01mTrue\u001b[39;00m) \u001b[38;5;28;01mfor\u001b[39;00m simulation_i \u001b[38;5;129;01min\u001b[39;00m simulations])\n",
      "File \u001b[0;32m~/flexcompute/tidy3d/tidy3d/web/api/asynchronous.py:215\u001b[0m, in \u001b[0;36mrun\u001b[0;34m(simulation, task_name, folder_name, path, callback_url, verbose, progress_callback_upload, progress_callback_download, solver_version, worker_group)\u001b[0m\n\u001b[1;32m    209\u001b[0m \u001b[38;5;28;01mawait\u001b[39;00m start(\n\u001b[1;32m    210\u001b[0m     task_id,\n\u001b[1;32m    211\u001b[0m     solver_version\u001b[38;5;241m=\u001b[39msolver_version,\n\u001b[1;32m    212\u001b[0m     worker_group\u001b[38;5;241m=\u001b[39mworker_group,\n\u001b[1;32m    213\u001b[0m )\n\u001b[1;32m    214\u001b[0m \u001b[38;5;66;03m# await monitor(task_id, verbose=verbose)\u001b[39;00m\n\u001b[0;32m--> 215\u001b[0m \u001b[38;5;28;01mreturn\u001b[39;00m \u001b[38;5;28;01mawait\u001b[39;00m load(\n\u001b[1;32m    216\u001b[0m     task_id\u001b[38;5;241m=\u001b[39mtask_id, path\u001b[38;5;241m=\u001b[39mpath, verbose\u001b[38;5;241m=\u001b[39mverbose, progress_callback\u001b[38;5;241m=\u001b[39mprogress_callback_download\n\u001b[1;32m    217\u001b[0m )\n",
      "File \u001b[0;32m~/flexcompute/tidy3d/tidy3d/web/api/asynchronous.py:738\u001b[0m, in \u001b[0;36mload\u001b[0;34m(task_id, path, replace_existing, verbose, progress_callback)\u001b[0m\n\u001b[1;32m    703\u001b[0m \u001b[38;5;250m\u001b[39m\u001b[38;5;124;03m\"\"\"\u001b[39;00m\n\u001b[1;32m    704\u001b[0m \u001b[38;5;124;03mDownload and Load simulation results into :class:`.SimulationData` object.\u001b[39;00m\n\u001b[1;32m    705\u001b[0m \n\u001b[0;32m   (...)\u001b[0m\n\u001b[1;32m    735\u001b[0m \u001b[38;5;124;03m    Object containing simulation data.\u001b[39;00m\n\u001b[1;32m    736\u001b[0m \u001b[38;5;124;03m\"\"\"\u001b[39;00m\n\u001b[1;32m    737\u001b[0m \u001b[38;5;28;01mif\u001b[39;00m \u001b[38;5;129;01mnot\u001b[39;00m os\u001b[38;5;241m.\u001b[39mpath\u001b[38;5;241m.\u001b[39mexists(path) \u001b[38;5;129;01mor\u001b[39;00m replace_existing:\n\u001b[0;32m--> 738\u001b[0m     \u001b[38;5;28;01mawait\u001b[39;00m download(task_id\u001b[38;5;241m=\u001b[39mtask_id, path\u001b[38;5;241m=\u001b[39mpath, verbose\u001b[38;5;241m=\u001b[39mverbose, progress_callback\u001b[38;5;241m=\u001b[39mprogress_callback)\n\u001b[1;32m    740\u001b[0m \u001b[38;5;28;01mif\u001b[39;00m verbose:\n\u001b[1;32m    741\u001b[0m     console \u001b[38;5;241m=\u001b[39m get_logging_console()\n",
      "File \u001b[0;32m~/flexcompute/tidy3d/tidy3d/web/api/asynchronous.py:594\u001b[0m, in \u001b[0;36mdownload\u001b[0;34m(task_id, path, verbose, progress_callback)\u001b[0m\n\u001b[1;32m    579\u001b[0m \u001b[38;5;250m\u001b[39m\u001b[38;5;124;03m\"\"\"Download results of task to file.\u001b[39;00m\n\u001b[1;32m    580\u001b[0m \n\u001b[1;32m    581\u001b[0m \u001b[38;5;124;03mParameters\u001b[39;00m\n\u001b[0;32m   (...)\u001b[0m\n\u001b[1;32m    591\u001b[0m \n\u001b[1;32m    592\u001b[0m \u001b[38;5;124;03m\"\"\"\u001b[39;00m\n\u001b[1;32m    593\u001b[0m task \u001b[38;5;241m=\u001b[39m SimulationTask(taskId\u001b[38;5;241m=\u001b[39mtask_id)\n\u001b[0;32m--> 594\u001b[0m \u001b[43mtask\u001b[49m\u001b[38;5;241;43m.\u001b[39;49m\u001b[43mget_sim_data_hdf5\u001b[49m\u001b[43m(\u001b[49m\u001b[43mpath\u001b[49m\u001b[43m,\u001b[49m\u001b[43m \u001b[49m\u001b[43mverbose\u001b[49m\u001b[38;5;241;43m=\u001b[39;49m\u001b[43mverbose\u001b[49m\u001b[43m,\u001b[49m\u001b[43m \u001b[49m\u001b[43mprogress_callback\u001b[49m\u001b[38;5;241;43m=\u001b[39;49m\u001b[43mprogress_callback\u001b[49m\u001b[43m)\u001b[49m\n",
      "File \u001b[0;32m~/flexcompute/tidy3d/tidy3d/web/core/task_core.py:501\u001b[0m, in \u001b[0;36mSimulationTask.get_sim_data_hdf5\u001b[0;34m(self, to_file, verbose, progress_callback)\u001b[0m\n\u001b[1;32m    493\u001b[0m         file \u001b[38;5;241m=\u001b[39m download_file(\n\u001b[1;32m    494\u001b[0m             resource_id\u001b[38;5;241m=\u001b[39m\u001b[38;5;28mself\u001b[39m\u001b[38;5;241m.\u001b[39mtask_id,\n\u001b[1;32m    495\u001b[0m             remote_filename\u001b[38;5;241m=\u001b[39mSIMULATION_DATA_HDF5,\n\u001b[0;32m   (...)\u001b[0m\n\u001b[1;32m    498\u001b[0m             progress_callback\u001b[38;5;241m=\u001b[39mprogress_callback,\n\u001b[1;32m    499\u001b[0m         )\n\u001b[1;32m    500\u001b[0m     \u001b[38;5;28;01mexcept\u001b[39;00m \u001b[38;5;167;01mException\u001b[39;00m \u001b[38;5;28;01mas\u001b[39;00m e:\n\u001b[0;32m--> 501\u001b[0m         \u001b[38;5;28;01mraise\u001b[39;00m WebError(\n\u001b[1;32m    502\u001b[0m             \u001b[38;5;124m\"\u001b[39m\u001b[38;5;124mFailed to download the simulation data file from the server. \u001b[39m\u001b[38;5;124m\"\u001b[39m\n\u001b[1;32m    503\u001b[0m             \u001b[38;5;124m\"\u001b[39m\u001b[38;5;124mPlease confirm that the task was successfully run.\u001b[39m\u001b[38;5;124m\"\u001b[39m\n\u001b[1;32m    504\u001b[0m         ) \u001b[38;5;28;01mfrom\u001b[39;00m \u001b[38;5;21;01me\u001b[39;00m\n\u001b[1;32m    506\u001b[0m \u001b[38;5;28;01mreturn\u001b[39;00m file\n",
      "\u001b[0;31mWebError\u001b[0m: Failed to download the simulation data file from the server. Please confirm that the task was successfully run."
     ]
    }
   ],
   "source": [
    "async def main():\n",
    "    await asyncio.gather(*[run(simulation_i, task_name=\"quickstart\", path=\"data/data.hdf5\", verbose=True) for simulation_i in simulations])\n",
    "\n",
    "await main()"
   ]
  },
  {
   "cell_type": "code",
   "execution_count": null,
   "id": "323bf5c7-dcd3-47f5-8c64-e7e225b1930f",
   "metadata": {},
   "outputs": [],
   "source": []
  }
 ],
 "metadata": {
  "kernelspec": {
   "display_name": "Python 3 (ipykernel)",
   "language": "python",
   "name": "python3"
  },
  "language_info": {
   "codemirror_mode": {
    "name": "ipython",
    "version": 3
   },
   "file_extension": ".py",
   "mimetype": "text/x-python",
   "name": "python",
   "nbconvert_exporter": "python",
   "pygments_lexer": "ipython3",
   "version": "3.10.13"
  }
 },
 "nbformat": 4,
 "nbformat_minor": 5
}
