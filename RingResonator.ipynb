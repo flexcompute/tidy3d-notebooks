{
 "cells": [
  {
   "cell_type": "markdown",
   "metadata": {},
   "source": [
    "# Example: 2D ring resonator\n",
    "\n",
    "See on [github](https://github.com/flexcompute/tidy3d-notebooks/blob/main/RingResonator.ipynb), run on [colab](https://colab.research.google.com/github/flexcompute/tidy3d-notebooks/blob/main/RingResonator.ipynb), or just follow along with the output below.\n",
    "\n",
    "This is a simple example of using Tidy3D to simulate a common photonics application.\n",
    "\n",
    "We perform a 2D simulation of a ring resonator side coupled to a dielectric waveguide.\n",
    "\n",
    "<img src=\"img/ring.png\" alt=\"diagram\" width=\"300\"/>\n",
    "\n",
    "With a center wavelength of 500 nm and 10 nm resolution, this is a challenging FDTD problem because of the large simulation size.  The simulation contains 1 million grid points to model the entire domain and 115,000 time steps to capture the resonance of the ring.\n",
    "\n",
    "With Tidy3D, we perform each simulation in just under 1 minute!"
   ]
  },
  {
   "cell_type": "code",
   "execution_count": 1,
   "metadata": {},
   "outputs": [],
   "source": [
    "# basic ipython configuration (reload source code automatically and plots inline)\n",
    "%load_ext autoreload\n",
    "%autoreload 2\n",
    "%matplotlib inline\n",
    "\n",
    "# standard python imports\n",
    "import numpy as np\n",
    "from numpy import random\n",
    "import matplotlib.pyplot as plt\n",
    "\n",
    "# get the most recent version of tidy3d\n",
    "!pip install -q --upgrade tidy3d\n",
    "\n",
    "# tidy3D import\n",
    "import tidy3d as td\n",
    "from tidy3d import web"
   ]
  },
  {
   "cell_type": "markdown",
   "metadata": {},
   "source": [
    "## Initial setup\n",
    "\n",
    "Our ring resonator will include a ring centered at (0,0) with a waveguide just above the ring spanning the x direction.\n",
    "\n",
    "```    \n",
    "                      (waveguide)      \n",
    "                in -> ========== -> out\n",
    "                           0\n",
    "                      (resonator)\n",
    "   ```"
   ]
  },
  {
   "cell_type": "code",
   "execution_count": 2,
   "metadata": {},
   "outputs": [],
   "source": [
    "# resolution\n",
    "dl = 0.01\n",
    "\n",
    "# define geometry\n",
    "wg_width = 0.25\n",
    "couple_width = 0.05\n",
    "ring_radius = 3.5\n",
    "ring_wg_width = 0.25\n",
    "wg_spacing = 2.0\n",
    "buffer = 2.0\n",
    "\n",
    "# compute quantities based on geometry parameters\n",
    "x_span = 2*wg_spacing + 2*ring_radius + 2*buffer\n",
    "y_span = 2*ring_radius + 2*ring_wg_width + wg_width + couple_width + 2*buffer\n",
    "wg_insert_x = ring_radius + wg_spacing\n",
    "wg_center_y = ring_radius + ring_wg_width/2. + couple_width + wg_width/2.\n",
    "\n",
    "# set number of PMLs on each side\n",
    "npml = 15"
   ]
  },
  {
   "cell_type": "code",
   "execution_count": 3,
   "metadata": {},
   "outputs": [],
   "source": [
    "# define pulse parameters\n",
    "pol = 'TE'  # 'TE' or 'TM'.  TE means waveguide excited Ey, TM means waveguide excited Ez\n",
    "lambda_central = 0.5\n",
    "f_center = td.C_0 /lambda_central\n",
    "f_width =  f_center / 6\n",
    "grids_per_wavelength = lambda_central / dl\n",
    "run_time = 500 / f_width"
   ]
  },
  {
   "cell_type": "markdown",
   "metadata": {},
   "source": [
    "Define materials. [(docs)](https://simulation.cloud/docs/html/api.html#material)"
   ]
  },
  {
   "cell_type": "code",
   "execution_count": 4,
   "metadata": {},
   "outputs": [],
   "source": [
    "n_bg = 1.0\n",
    "n_solid = 1.5\n",
    "background = td.Medium(epsilon=n_bg**2)\n",
    "solid = td.Medium(epsilon=n_solid**2)"
   ]
  },
  {
   "cell_type": "markdown",
   "metadata": {},
   "source": [
    "Define structures. [(docs)](https://simulation.cloud/docs/html/api.html#structure)\n"
   ]
  },
  {
   "cell_type": "code",
   "execution_count": 5,
   "metadata": {},
   "outputs": [],
   "source": [
    "# background of entire domain (set explicitly as a box)\n",
    "background_box = td.Box(\n",
    "    center=[0, 0, 0],\n",
    "    size=[td.inf, td.inf, td.inf],\n",
    "    material=background,\n",
    "    name='background')\n",
    "\n",
    "# waveguide\n",
    "waveguide = td.Box(\n",
    "    center=[0, wg_center_y, 0],\n",
    "    size=[td.inf, wg_width, td.inf],\n",
    "    material=solid,\n",
    "    name='waveguide')\n",
    "\n",
    "# outside ring\n",
    "outer_ring = td.Cylinder(\n",
    "    center=[0,0,0],\n",
    "    axis='z',\n",
    "    radius=ring_radius+ring_wg_width/2.0,\n",
    "    height=td.inf,\n",
    "    material=solid,\n",
    "    name='outer_ring')\n",
    "\n",
    "# inside ring fill\n",
    "inner_ring = td.Cylinder(\n",
    "    center=[0,0,0],\n",
    "    axis='z',\n",
    "    radius=ring_radius-ring_wg_width/2.0,\n",
    "    height=td.inf,\n",
    "    material=background,\n",
    "    name='inner_ring')"
   ]
  },
  {
   "cell_type": "markdown",
   "metadata": {},
   "source": [
    "Define modal source. [(docs)](https://simulation.cloud/docs/html/api.html#source)"
   ]
  },
  {
   "cell_type": "code",
   "execution_count": 6,
   "metadata": {},
   "outputs": [],
   "source": [
    "source = td.ModeSource(\n",
    "    td.GaussianPulse(f_center, f_width, phase=0),\n",
    "    center=[-wg_insert_x, wg_center_y, 0],\n",
    "    size=[0, 2, td.inf],\n",
    "    direction='forward',\n",
    "    amplitude=1.0,\n",
    "    name='modal_source')"
   ]
  },
  {
   "cell_type": "markdown",
   "metadata": {},
   "source": [
    "Define monitors. [(docs)](https://simulation.cloud/docs/html/api.html#monitor)"
   ]
  },
  {
   "cell_type": "code",
   "execution_count": 7,
   "metadata": {},
   "outputs": [],
   "source": [
    "# monitor of the output mode amplitude at a range of frequencies\n",
    "mode_monitor = td.ModeMonitor(\n",
    "    center=[wg_insert_x, wg_center_y, 0],\n",
    "    size=[0, 2, td.inf],\n",
    "    freqs=f_center,\n",
    "    name='mode_amps')\n",
    "\n",
    "# monitor steady state fields at central frequency over whole domain\n",
    "field_monitor = td.FreqMonitor(\n",
    "    center=[0, 0, 0],\n",
    "    size=[x_span, y_span, 0],\n",
    "    freqs=f_center,\n",
    "    name='full_domain_fields')\n",
    "\n",
    "# monitor the time series at a point in the center of the output waveguide\n",
    "time_monitor = td.TimeMonitor(\n",
    "    center=[wg_insert_x, wg_center_y, 0],\n",
    "    size=[0, 0, 0],\n",
    "    name='time_series')"
   ]
  },
  {
   "cell_type": "markdown",
   "metadata": {},
   "source": [
    "Define simulation. [(docs)](https://simulation.cloud/docs/html/api.html#simulation)"
   ]
  },
  {
   "cell_type": "code",
   "execution_count": 8,
   "metadata": {},
   "outputs": [
    {
     "name": "stdout",
     "output_type": "stream",
     "text": [
      "Initializing simulation...\n",
      "Mesh step (micron): [1.00e-02, 1.00e-02, 1.00e-02].\n",
      "Simulation domain in number of grid points: [1530, 1210, 1].\n",
      "Total number of grid points: 1.85e+06.\n",
      "Total number of time steps: 288676.\n",
      "Estimated data size (GB) of monitor mode_amps: 0.0000.\n",
      "Estimated data size (GB) of monitor full_domain_fields: 0.0793.\n",
      "Estimated data size (GB) of monitor monitor_0: 0.0069.\n",
      "Initializing simulation...\n",
      "Mesh step (micron): [1.00e-02, 1.00e-02, 1.00e-02].\n",
      "Simulation domain in number of grid points: [1530, 1210, 1].\n",
      "Total number of grid points: 1.85e+06.\n",
      "Total number of time steps: 288676.\n",
      "Estimated data size (GB) of monitor mode_amps: 0.0000.\n",
      "Estimated data size (GB) of monitor full_domain_fields: 0.0793.\n",
      "Estimated data size (GB) of monitor monitor_0: 0.0069.\n"
     ]
    }
   ],
   "source": [
    "# create normalization simulation (no ring)\n",
    "sim0 = td.Simulation(size=[x_span, y_span, 1*dl],\n",
    "                    mesh_step=[dl, dl, dl],\n",
    "                    structures=[background_box, waveguide],\n",
    "                    sources=[source],\n",
    "                    monitors=[mode_monitor, field_monitor, time_monitor],\n",
    "                    run_time = run_time,\n",
    "                    pml_layers=[npml, npml, 0])\n",
    "\n",
    "# create simulation (with ring)\n",
    "sim = td.Simulation(size=[x_span, y_span, 1*dl],\n",
    "                    mesh_step=[dl, dl, dl],\n",
    "                    structures=[background_box, waveguide, outer_ring, inner_ring],\n",
    "                    sources=[source],\n",
    "                    monitors=[mode_monitor, field_monitor, time_monitor],\n",
    "                    run_time = run_time,\n",
    "                    pml_layers=[npml, npml, 0])"
   ]
  },
  {
   "cell_type": "markdown",
   "metadata": {},
   "source": [
    "----\n",
    "Visualize structure, source, and modes. [(docs)](https://simulation.cloud/docs/html/api.html#plotting-tools)"
   ]
  },
  {
   "cell_type": "code",
   "execution_count": 9,
   "metadata": {},
   "outputs": [
    {
     "data": {
      "image/png": "[encoded data removed]",
      "text/plain": [
       "<Figure size 1728x576 with 2 Axes>"
      ]
     },
     "metadata": {
      "needs_background": "light"
     },
     "output_type": "display_data"
    }
   ],
   "source": [
    "# plot the two simulations\n",
    "fig, (ax1, ax2) = plt.subplots(1, 2, figsize=(24, 8))\n",
    "sim0.viz_eps_2D(normal='z', position=0.0, ax=ax1)\n",
    "sim.viz_eps_2D(normal='z', position=0.0, ax=ax2)\n",
    "plt.show()"
   ]
  },
  {
   "cell_type": "code",
   "execution_count": 10,
   "metadata": {},
   "outputs": [
    {
     "data": {
      "image/png": "[encoded data removed]",
      "text/plain": [
       "<Figure size 720x216 with 2 Axes>"
      ]
     },
     "metadata": {
      "needs_background": "light"
     },
     "output_type": "display_data"
    }
   ],
   "source": [
    "# visualize time series of source\n",
    "ax1, ax2 = sim.viz_source(source)\n",
    "ax1.set_xlim((0, 0.1e-12))  # note the pulse extends far beyond this time, adjust lims to inspect\n",
    "plt.show()"
   ]
  },
  {
   "cell_type": "code",
   "execution_count": 11,
   "metadata": {},
   "outputs": [
    {
     "data": {
      "image/png": "[encoded data removed]",
      "text/plain": [
       "<Figure size 576x460.8 with 4 Axes>"
      ]
     },
     "metadata": {
      "needs_background": "light"
     },
     "output_type": "display_data"
    }
   ],
   "source": [
    "# Visualize the first two modes of the mode source\n",
    "sim.viz_modes(source, mode_inds=[0, 1]);"
   ]
  },
  {
   "cell_type": "markdown",
   "metadata": {},
   "source": [
    "From the above plots, we see that \n",
    "\n",
    "`mode_index=0` corresponds to exciting 0-th order TM mode (E=Ez) and \n",
    "\n",
    "`mode_index=1` corresponds to exciting 0-th order TE mode (E=Ey).\n",
    "\n",
    "We can therefore switch the mode index accordingly based on our polarization."
   ]
  },
  {
   "cell_type": "code",
   "execution_count": 12,
   "metadata": {},
   "outputs": [
    {
     "name": "stdout",
     "output_type": "stream",
     "text": [
      "Selected mode index larger than number of stored modes. Recomputing eigenmodes modes up to mode index.\n"
     ]
    },
    {
     "name": "stderr",
     "output_type": "stream",
     "text": [
      "WARNING: Mode field does not decay at boundaries, which may produce unexpected results.\n",
      "WARNING: Mode field does not decay at boundaries, which may produce unexpected results.\n"
     ]
    }
   ],
   "source": [
    "if pol == 'TM':\n",
    "    mode_index = 0\n",
    "elif pol == 'TE':\n",
    "    mode_index = 1\n",
    "else:\n",
    "    raise ValueError('pol must be TM or TE')\n",
    "\n",
    "# set the mode index of modal source in each sim\n",
    "sim0.set_mode(source, mode_ind=mode_index)\n",
    "sim.set_mode(source, mode_ind=mode_index)\n",
    "\n",
    "# you can ignore the warning that occurs because the mode extends in the out of plane direction"
   ]
  },
  {
   "cell_type": "markdown",
   "metadata": {},
   "source": [
    "----\n",
    "## Run Simulation\n",
    "Run simulations on our server. [(docs)](https://simulation.cloud/docs/html/api.html#web-api)"
   ]
  },
  {
   "cell_type": "code",
   "execution_count": 13,
   "metadata": {},
   "outputs": [],
   "source": [
    "def run_tidy3d(sim, task_name=''):\n",
    "    # Convenience function to run a simulation and download results\n",
    "    \n",
    "    # create a project, upload to our server to run\n",
    "    project = web.new_project(sim.export(), task_name=task_name)\n",
    "    task_id = project['taskId']\n",
    "    web.monitor_project(task_id)\n",
    "\n",
    "    # download the results and load into the original simulation\n",
    "    print('downloading results...')\n",
    "    web.download_results(task_id, target_folder='out')\n",
    "    print('done\\n')\n",
    "    sim.load_results('out/monitor_data.hdf5')\n",
    "    \n",
    "    print('\\n')"
   ]
  },
  {
   "cell_type": "code",
   "execution_count": null,
   "metadata": {},
   "outputs": [
    {
     "name": "stdout",
     "output_type": "stream",
     "text": [
      "Uploading the json file...\n",
      "Project \"normalization-25\" status: success...        \n",
      "\n",
      "downloading results...\n",
      "done\n",
      "\n",
      "Applying source normalization to all frequency monitors using source index 0.\n",
      "\n",
      "\n",
      "Uploading the json file...\n",
      "Project \"with_ring-19\" status: success...        \n",
      "\n",
      "downloading results...\n"
     ]
    }
   ],
   "source": [
    "# use function above to run simulation with and without ring\n",
    "run_tidy3d(sim0, task_name='normalization')\n",
    "run_tidy3d(sim, task_name='with_ring')"
   ]
  },
  {
   "cell_type": "code",
   "execution_count": null,
   "metadata": {},
   "outputs": [],
   "source": [
    "# which components of the electric field to plot, depending on polarization\n",
    "if pol == 'TM':\n",
    "    comps = ('z',)\n",
    "elif pol == 'TE':\n",
    "    comps = ('x', 'y')\n",
    "else:\n",
    "    raise ValueError('pol must be TM or TE')"
   ]
  },
  {
   "cell_type": "code",
   "execution_count": null,
   "metadata": {},
   "outputs": [],
   "source": [
    "# visualize normalization run\n",
    "fig, axes = plt.subplots(3, len(comps), figsize=(22, 25))\n",
    "for axe, val in zip(axes.reshape(3, len(comps)), ('re', 'abs', 'int')):\n",
    "    for ax, comp in zip(axe, comps):\n",
    "        im = sim0.viz_field_2D(field_monitor, sample_ind=0, eps_alpha=0.15, comp=comp, val=val, cbar=True, ax=ax)"
   ]
  },
  {
   "cell_type": "code",
   "execution_count": null,
   "metadata": {},
   "outputs": [],
   "source": [
    "# visualize run with ring\n",
    "fig, axes = plt.subplots(3, len(comps), figsize=(22, 25))\n",
    "for axe, val in zip(axes.reshape(3, len(comps)), ('re', 'abs', 'int')):\n",
    "    for ax, comp in zip(axe, comps):\n",
    "        im = sim.viz_field_2D(field_monitor, sample_ind=0, eps_alpha=0.15, comp=comp, val=val, cbar=True, ax=ax)"
   ]
  },
  {
   "cell_type": "markdown",
   "metadata": {},
   "source": [
    "## Analyze Spectrum\n",
    "Analyze transmission spectrum using fourier transform. [(docs)](https://simulation.cloud/docs/html/api.html#miscellaneous)"
   ]
  },
  {
   "cell_type": "code",
   "execution_count": null,
   "metadata": {},
   "outputs": [],
   "source": [
    "# Get data from the TimeMonitor\n",
    "tdata0 = sim0.data(time_monitor)\n",
    "tdata = sim.data(time_monitor)\n",
    "tmesh = tdata[\"tmesh\"]\n",
    "Nt = tmesh.size\n",
    "dt = tmesh[1] - tmesh[0]\n",
    "\n",
    "# select output fields as Ez if TM or Ey if TE\n",
    "field_index = 2 if pol == 'TM' else 1\n",
    "\n",
    "E_out0 = tdata0['E'][field_index, 0, 0, 0, :]\n",
    "E_out = tdata['E'][field_index, 0, 0, 0, :]\n",
    "\n",
    "# frequencies to measure output spectrum at\n",
    "freqs = td.C_0 / np.linspace(0.4, 0.6, 1000)\n",
    "\n",
    "# fourier transform output time series to get spectrum at freqs\n",
    "E_out0_f = td.dft_spectrum(E_out0, dt, freqs)\n",
    "E_out_f = td.dft_spectrum(E_out, dt, freqs)"
   ]
  },
  {
   "cell_type": "markdown",
   "metadata": {},
   "source": [
    "Plot results."
   ]
  },
  {
   "cell_type": "code",
   "execution_count": null,
   "metadata": {},
   "outputs": [],
   "source": [
    "fig, ax = plt.subplots(3, 2, figsize=(25, 20))\n",
    "\n",
    "# plot time series normalization\n",
    "ax[0, 0].plot(tmesh, E_out0)\n",
    "ax[0, 0].set_xlabel(\"Time [s]\")\n",
    "ax[0, 0].set_ylabel(\"Electric field [a.u.]\");\n",
    "ax[0, 0].set_title(\"NORMALIZE $E_{out}(t)$\")\n",
    "\n",
    "# plot time series with ring\n",
    "ax[0, 1].plot(tmesh, E_out)\n",
    "ax[0, 1].set_xlabel(\"Time [s]\")\n",
    "ax[0, 1].set_ylabel(\"Electric field [a.u.]\");\n",
    "ax[0, 1].set_title(\"STRUCTURE $E_{out}(t)$\")\n",
    "\n",
    "# plot spectrum of normalization (input)\n",
    "ax[1, 0].plot(freqs, np.abs(E_out0_f))\n",
    "ax[1, 0].set_xlabel(\"Frequency [Hz]\")\n",
    "ax[1, 0].set_ylabel(\"Electric field [a.u.]\");\n",
    "ax[1, 0].set_title(\"NORMALIZE Spectrum\");\n",
    "\n",
    "# plot transmission spectrum with ring\n",
    "ax[1, 1].plot(freqs, np.abs(E_out_f))\n",
    "ax[1, 1].set_xlabel(\"Frequency [Hz]\")\n",
    "ax[1, 1].set_ylabel(\"Electric field [a.u.]\");\n",
    "ax[1, 1].set_title(\"STRUCTURE Spectrum\");\n",
    "\n",
    "# plot spectrum ratio |E_ring(f)| / |E_norm(f)|\n",
    "ax[2, 0].plot(freqs, np.abs(E_out_f) / np.abs(E_out0_f))\n",
    "ax[2, 0].set_xlabel(\"Frequency [Hz]\")\n",
    "ax[2, 0].set_ylabel(\"enhancement\");\n",
    "ax[2, 0].set_title(\"Structure / Normalize Spectrum\");\n",
    "\n",
    "# plot square of spectrum ratio ( |E_ring(f)| / |E_norm(f)| )^2\n",
    "ax[2, 1].plot(freqs, (np.abs(E_out_f) / np.abs(E_out0_f))**2)\n",
    "ax[2, 1].set_xlabel(\"Frequency [Hz]\")\n",
    "ax[2, 1].set_ylabel(\"enhancement^2\");\n",
    "ax[2, 1].set_title(\"|Structure / Normalize Spectrum|^2\");"
   ]
  },
  {
   "cell_type": "code",
   "execution_count": null,
   "metadata": {},
   "outputs": [],
   "source": [
    "# add your analysis here!\n"
   ]
  }
 ],
 "metadata": {
  "kernelspec": {
   "display_name": "Python 3",
   "language": "python",
   "name": "python3"
  },
  "language_info": {
   "codemirror_mode": {
    "name": "ipython",
    "version": 3
   },
   "file_extension": ".py",
   "mimetype": "text/x-python",
   "name": "python",
   "nbconvert_exporter": "python",
   "pygments_lexer": "ipython3",
   "version": "3.7.7"
  }
 },
 "nbformat": 4,
 "nbformat_minor": 4
}
